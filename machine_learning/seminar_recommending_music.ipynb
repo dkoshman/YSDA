{
 "cells": [
  {
   "cell_type": "markdown",
   "id": "4b8a2b7d",
   "metadata": {},
   "source": [
    "# План семинара\n",
    "\n",
    "1. Сравниваем PCA, SVD, ALS на примере случайной матрички\n",
    "2. Знакомимся с датасетом музыки\n",
    "3. Смотрим на похожести item2item в музыке"
   ]
  },
  {
   "cell_type": "code",
   "execution_count": 1,
   "id": "641fd620",
   "metadata": {
    "ExecuteTime": {
     "end_time": "2023-05-06T08:46:52.460397Z",
     "start_time": "2023-05-06T08:46:52.089414Z"
    }
   },
   "outputs": [],
   "source": [
    "import numpy as np\n",
    "import matplotlib.pyplot as plt\n",
    "\n",
    "%matplotlib inline"
   ]
  },
  {
   "cell_type": "code",
   "execution_count": 3,
   "id": "828b3747",
   "metadata": {
    "ExecuteTime": {
     "end_time": "2023-05-06T08:47:35.761380Z",
     "start_time": "2023-05-06T08:47:35.758083Z"
    }
   },
   "outputs": [],
   "source": [
    "A = np.random.randn(8, 5)"
   ]
  },
  {
   "cell_type": "markdown",
   "id": "c522205f",
   "metadata": {},
   "source": [
    "# PCA"
   ]
  },
  {
   "cell_type": "code",
   "execution_count": 4,
   "id": "99576d92",
   "metadata": {
    "ExecuteTime": {
     "end_time": "2023-05-06T08:47:36.696177Z",
     "start_time": "2023-05-06T08:47:36.693112Z"
    }
   },
   "outputs": [],
   "source": [
    "def center_mass(A):\n",
    "    return A.mean(0)\n",
    "\n",
    "\n",
    "def covariance(A):\n",
    "    return (A - center_mass(A)).T.dot(A - center_mass(A))"
   ]
  },
  {
   "cell_type": "code",
   "execution_count": 5,
   "id": "94250b13",
   "metadata": {
    "ExecuteTime": {
     "end_time": "2023-05-06T08:47:40.073475Z",
     "start_time": "2023-05-06T08:47:40.066195Z"
    }
   },
   "outputs": [],
   "source": [
    "assert covariance(A).shape == (A.shape[1], A.shape[1])\n",
    "assert center_mass(A).shape == (A.shape[1],)\n",
    "assert np.allclose(covariance(A), covariance(A).T)"
   ]
  },
  {
   "cell_type": "code",
   "execution_count": 6,
   "id": "709a0581",
   "metadata": {
    "ExecuteTime": {
     "end_time": "2023-05-06T08:47:42.503496Z",
     "start_time": "2023-05-06T08:47:42.500461Z"
    }
   },
   "outputs": [],
   "source": [
    "def eig_values(Q):\n",
    "    return np.linalg.eigh(Q)[0]\n",
    "\n",
    "\n",
    "def eig_vectors(Q):\n",
    "    return np.linalg.eigh(Q)[1]"
   ]
  },
  {
   "cell_type": "code",
   "execution_count": 7,
   "id": "dae559a8",
   "metadata": {
    "ExecuteTime": {
     "end_time": "2023-05-06T08:47:45.902007Z",
     "start_time": "2023-05-06T08:47:45.892665Z"
    }
   },
   "outputs": [],
   "source": [
    "Q = covariance(A)\n",
    "D, V = eig_values(covariance(A)), eig_vectors(covariance(A))\n",
    "assert D.shape == (A.shape[1],)\n",
    "assert V.shape == (A.shape[1], A.shape[1])\n",
    "assert np.allclose(np.sort(D), D)\n",
    "assert np.allclose(V.T.dot(V), np.eye(A.shape[1]))\n",
    "assert np.allclose(V.dot(V.T), np.eye(A.shape[1]))\n",
    "assert np.allclose(np.trace(covariance(A)), D.sum())\n",
    "assert np.allclose(V.dot(np.diag(D)).dot(V.T), Q)"
   ]
  },
  {
   "cell_type": "markdown",
   "id": "4992e4d4",
   "metadata": {},
   "source": [
    "Формула для pca: $A=U S V^T + {\\rm center\\space mass}$"
   ]
  },
  {
   "cell_type": "raw",
   "id": "62e77b60",
   "metadata": {},
   "source": [
    "Q = (A-centA).T(A-centA) = VSU^T USV^T = VS^2V^T\n",
    "D = S^2\n",
    "V = V"
   ]
  },
  {
   "cell_type": "code",
   "execution_count": 7,
   "id": "6c680d2a",
   "metadata": {},
   "outputs": [],
   "source": [
    "def pca_decomposition(A, k):\n",
    "    # your code here\n",
    "    Q = covariance(A)\n",
    "    D = eig_values(Q)\n",
    "    V = eig_vectors(Q)\n",
    "    MA = center_mass(A)\n",
    "    U = (A - MA).dot(V).dot(np.diag(1 / np.sqrt(D)))\n",
    "\n",
    "    l = len(D) - k\n",
    "    S = np.diag(np.sqrt(D[l:]))\n",
    "    V = V[:, l:]\n",
    "    U = U[:, l:]\n",
    "    return U, S, V, MA\n",
    "\n",
    "\n",
    "def pca_recover(U, S, V, MA):\n",
    "    return U.dot(S).dot(V.T) + MA"
   ]
  },
  {
   "cell_type": "code",
   "execution_count": 8,
   "id": "fb82b247",
   "metadata": {},
   "outputs": [],
   "source": [
    "k = 2\n",
    "U, S, V, MA = pca_decomposition(A, k)\n",
    "assert pca_recover(U, S, V, MA).shape == A.shape\n",
    "assert U.shape == (A.shape[0], k)\n",
    "assert S.shape == (k, k)\n",
    "assert V.shape == (A.shape[1], k)\n",
    "assert MA.shape == (A.shape[1],)\n",
    "assert np.allclose(S, np.diag(S.diagonal()))\n",
    "assert np.allclose(np.sort(S.diagonal()), S.diagonal())\n",
    "assert np.allclose(U.T.dot(U), np.eye(k))\n",
    "assert np.allclose(V.T.dot(V), np.eye(k))\n",
    "assert not np.allclose(V.dot(V.T), np.eye(V.shape[0]))\n",
    "assert not np.allclose(U.dot(U.T), np.eye(U.shape[0]))\n",
    "assert np.allclose(pca_recover(*pca_decomposition(A, A.shape[1])), A)"
   ]
  },
  {
   "cell_type": "code",
   "execution_count": 9,
   "id": "9f82804e",
   "metadata": {},
   "outputs": [
    {
     "name": "stdout",
     "output_type": "stream",
     "text": [
      "30.40 16.08 6.56 2.75 0.35 0.00\n"
     ]
    }
   ],
   "source": [
    "frobenius_norms = []\n",
    "for k in range(0, 6):\n",
    "    U, S, V, MA = pca_decomposition(A, k)\n",
    "    AA = pca_recover(U, S, V, MA)\n",
    "    frobenius_norms.append(np.sum((A - AA) ** 2))\n",
    "\n",
    "print(*[\"{:.2f}\".format(x) for x in frobenius_norms])\n",
    "assert np.allclose(\n",
    "    frobenius_norms[::-1], [0] + list(np.cumsum(eig_values(covariance(A))))\n",
    ")"
   ]
  },
  {
   "cell_type": "code",
   "execution_count": 10,
   "id": "4c3989df",
   "metadata": {},
   "outputs": [
    {
     "data": {
      "text/plain": [
       "array([ 0.34867197,  2.40565915,  3.80352242,  9.52177128, 14.31867858])"
      ]
     },
     "execution_count": 10,
     "metadata": {},
     "output_type": "execute_result"
    }
   ],
   "source": [
    "D"
   ]
  },
  {
   "cell_type": "markdown",
   "id": "7765a21c",
   "metadata": {},
   "source": [
    "# SVD"
   ]
  },
  {
   "cell_type": "markdown",
   "id": "c585c9f9",
   "metadata": {},
   "source": [
    "Формула для svd: $A=U S V^T$"
   ]
  },
  {
   "cell_type": "raw",
   "id": "96c46ff6",
   "metadata": {},
   "source": [
    "Q = A.TA = VSU^T USV^T = VS^2V^T\n",
    "D = S^2\n",
    "V = V"
   ]
  },
  {
   "cell_type": "code",
   "execution_count": 11,
   "id": "7832fe1e",
   "metadata": {},
   "outputs": [],
   "source": [
    "def svd_decomposition(A, k):\n",
    "    # your code here\n",
    "    Q = A.T.dot(A)\n",
    "    D = eig_values(Q)\n",
    "    V = eig_vectors(Q)\n",
    "    U = A.dot(V).dot(np.diag(1 / np.sqrt(D)))\n",
    "\n",
    "    l = len(D) - k\n",
    "    S = np.diag(np.sqrt(D[l:]))\n",
    "    V = V[:, l:]\n",
    "    U = U[:, l:]\n",
    "    return U, S, V\n",
    "\n",
    "\n",
    "def svd_recover(U, S, V):\n",
    "    return U.dot(S).dot(V.T)"
   ]
  },
  {
   "cell_type": "code",
   "execution_count": 12,
   "id": "ca7179f7",
   "metadata": {},
   "outputs": [],
   "source": [
    "k = 2\n",
    "U, S, V = svd_decomposition(A, k)\n",
    "assert svd_recover(U, S, V).shape == A.shape\n",
    "assert U.shape == (A.shape[0], k)\n",
    "assert S.shape == (k, k)\n",
    "assert V.shape == (A.shape[1], k)\n",
    "assert np.allclose(S, np.diag(S.diagonal()))\n",
    "assert np.allclose(np.sort(S.diagonal()), S.diagonal())\n",
    "assert np.allclose(U.T.dot(U), np.eye(k))\n",
    "assert np.allclose(V.T.dot(V), np.eye(k))\n",
    "assert not np.allclose(V.dot(V.T), np.eye(V.shape[0]))\n",
    "assert not np.allclose(U.dot(U.T), np.eye(U.shape[0]))\n",
    "assert np.allclose(svd_recover(*svd_decomposition(A, A.shape[1])), A)"
   ]
  },
  {
   "cell_type": "code",
   "execution_count": 13,
   "id": "855fc8f2",
   "metadata": {},
   "outputs": [
    {
     "name": "stdout",
     "output_type": "stream",
     "text": [
      "31.96 17.55 8.03 3.99 1.05 0.00\n"
     ]
    }
   ],
   "source": [
    "frobenius_norms = []\n",
    "for k in range(0, 6):\n",
    "    U, S, V = svd_decomposition(A, k)\n",
    "    AA = svd_recover(U, S, V)\n",
    "    frobenius_norms.append(np.sum((A - AA) ** 2))\n",
    "\n",
    "print(*[\"{:.2f}\".format(x) for x in frobenius_norms])\n",
    "assert np.allclose(frobenius_norms[::-1], [0] + list(np.cumsum(eig_values(A.T.dot(A)))))"
   ]
  },
  {
   "cell_type": "markdown",
   "id": "73fb20be",
   "metadata": {},
   "source": [
    "# ALS"
   ]
  },
  {
   "cell_type": "code",
   "execution_count": 14,
   "id": "cd9b333c",
   "metadata": {},
   "outputs": [],
   "source": [
    "k = 2\n",
    "lam = 1e-4"
   ]
  },
  {
   "cell_type": "code",
   "execution_count": 15,
   "id": "ebb677c3",
   "metadata": {},
   "outputs": [],
   "source": [
    "def calc_oposite_vectors(Y, A):\n",
    "    B = Y.T.dot(Y) + lam * np.eye(k)\n",
    "    R = A.dot(Y)\n",
    "    return np.linalg.inv(B).dot(R.T).T"
   ]
  },
  {
   "cell_type": "code",
   "execution_count": 16,
   "id": "d359a96c",
   "metadata": {},
   "outputs": [
    {
     "data": {
      "text/plain": [
       "<matplotlib.collections.LineCollection at 0x20e4a4a0c10>"
      ]
     },
     "execution_count": 16,
     "metadata": {},
     "output_type": "execute_result"
    },
    {
     "data": {
      "image/png": "[encoded data removed]",
      "text/plain": [
       "<Figure size 640x480 with 1 Axes>"
      ]
     },
     "metadata": {},
     "output_type": "display_data"
    }
   ],
   "source": [
    "X, Y = np.random.randn(A.shape[0], k), np.random.randn(A.shape[1], k)\n",
    "frobenius_norms = [np.sum((A - X.dot(Y.T)) ** 2)]\n",
    "for i in range(20):\n",
    "    X = calc_oposite_vectors(Y, A)\n",
    "    frobenius_norms.append(np.sum((A - X.dot(Y.T)) ** 2))\n",
    "    Y = calc_oposite_vectors(X, A.T)\n",
    "    frobenius_norms.append(np.sum((A - X.dot(Y.T)) ** 2))\n",
    "plt.plot(frobenius_norms)\n",
    "plt.hlines(np.cumsum(eig_values(A.T.dot(A)))[A.shape[1] - k - 1], 0, 20, color=\"black\")"
   ]
  },
  {
   "cell_type": "code",
   "execution_count": 17,
   "id": "0a19e669",
   "metadata": {},
   "outputs": [
    {
     "data": {
      "text/plain": [
       "[<matplotlib.lines.Line2D at 0x20e4b0307f0>]"
      ]
     },
     "execution_count": 17,
     "metadata": {},
     "output_type": "execute_result"
    },
    {
     "data": {
      "image/png": "[encoded data removed]",
      "text/plain": [
       "<Figure size 640x480 with 1 Axes>"
      ]
     },
     "metadata": {},
     "output_type": "display_data"
    }
   ],
   "source": [
    "plt.plot(\n",
    "    np.log(frobenius_norms - np.cumsum(eig_values(A.T.dot(A)))[A.shape[1] - k - 1])\n",
    ")"
   ]
  },
  {
   "cell_type": "code",
   "execution_count": 18,
   "id": "bc0005c7",
   "metadata": {
    "scrolled": true
   },
   "outputs": [
    {
     "data": {
      "text/plain": [
       "<matplotlib.image.AxesImage at 0x20e4b0a4f10>"
      ]
     },
     "execution_count": 18,
     "metadata": {},
     "output_type": "execute_result"
    },
    {
     "data": {
      "image/png": "[encoded data removed]",
      "text/plain": [
       "<Figure size 640x480 with 1 Axes>"
      ]
     },
     "metadata": {},
     "output_type": "display_data"
    }
   ],
   "source": [
    "plt.imshow(X.dot(X.T))"
   ]
  },
  {
   "cell_type": "code",
   "execution_count": 19,
   "id": "2b1f22b8",
   "metadata": {},
   "outputs": [
    {
     "data": {
      "text/plain": [
       "array([[ 3.5474866 ,  6.44627028],\n",
       "       [ 6.44627028, 17.90184147]])"
      ]
     },
     "execution_count": 19,
     "metadata": {},
     "output_type": "execute_result"
    }
   ],
   "source": [
    "X.T.dot(X)"
   ]
  },
  {
   "cell_type": "code",
   "execution_count": 20,
   "id": "d348096d",
   "metadata": {},
   "outputs": [],
   "source": [
    "AA_svd = svd_recover(*svd_decomposition(A, k))\n",
    "AA_als = X.dot(Y.T)\n",
    "assert np.allclose(AA_svd, AA_als, rtol=1e-3, atol=1e-3)"
   ]
  },
  {
   "cell_type": "markdown",
   "id": "b7468264",
   "metadata": {},
   "source": [
    "# Разбираемся с датасетом музыки"
   ]
  },
  {
   "cell_type": "code",
   "execution_count": 21,
   "id": "51630f5f",
   "metadata": {},
   "outputs": [],
   "source": [
    "import os, zipfile\n",
    "from tqdm.notebook import tqdm, tnrange\n",
    "import scipy.sparse as sp\n",
    "import pandas as pd"
   ]
  },
  {
   "cell_type": "code",
   "execution_count": 22,
   "id": "d2f2da9c",
   "metadata": {},
   "outputs": [
    {
     "data": {
      "application/vnd.jupyter.widget-view+json": {
       "model_id": "2bd3c6ab0d404873a9125284cb7bf433",
       "version_major": 2,
       "version_minor": 0
      },
      "text/plain": [
       "  0%|          | 0/3 [00:00<?, ?it/s]"
      ]
     },
     "metadata": {},
     "output_type": "display_data"
    }
   ],
   "source": [
    "base_name = \"yt___home_music_recom_burlada_recsys_2022_02_19_\"\n",
    "for fname in tqdm(\n",
    "    [n for n in os.listdir(\".\") if base_name in n and n.endswith(\".zip\")]\n",
    "):\n",
    "    extract_name = fname.replace(\".zip\", \"\")\n",
    "    if os.path.exists(extract_name):\n",
    "        continue\n",
    "    with zipfile.ZipFile(fname) as f:\n",
    "        f.extract(f.filelist[0])"
   ]
  },
  {
   "cell_type": "code",
   "execution_count": 23,
   "id": "90965805",
   "metadata": {},
   "outputs": [],
   "source": [
    "all_names = pd.read_json(\n",
    "    \"yt___home_music_recom_burlada_recsys_2022_02_19_public_all_names\", lines=True\n",
    ")\n",
    "track_links = pd.read_json(\n",
    "    \"yt___home_music_recom_burlada_recsys_2022_02_19_public_tracks_links\", lines=True\n",
    ")\n",
    "dataset = pd.read_json(\n",
    "    \"yt___home_music_recom_burlada_recsys_2022_02_19_public_data_train\", lines=True\n",
    ")"
   ]
  },
  {
   "cell_type": "code",
   "execution_count": 24,
   "id": "1c89283e",
   "metadata": {},
   "outputs": [
    {
     "data": {
      "text/plain": [
       "track     1000000\n",
       "album      658724\n",
       "artist     153581\n",
       "genre         166\n",
       "Name: type, dtype: int64"
      ]
     },
     "execution_count": 24,
     "metadata": {},
     "output_type": "execute_result"
    }
   ],
   "source": [
    "all_names.type.value_counts()"
   ]
  },
  {
   "cell_type": "code",
   "execution_count": 25,
   "id": "6916de97",
   "metadata": {},
   "outputs": [
    {
     "data": {
      "text/html": [
       "<div>\n",
       "<style scoped>\n",
       "    .dataframe tbody tr th:only-of-type {\n",
       "        vertical-align: middle;\n",
       "    }\n",
       "\n",
       "    .dataframe tbody tr th {\n",
       "        vertical-align: top;\n",
       "    }\n",
       "\n",
       "    .dataframe thead th {\n",
       "        text-align: right;\n",
       "    }\n",
       "</style>\n",
       "<table border=\"1\" class=\"dataframe\">\n",
       "  <thead>\n",
       "    <tr style=\"text-align: right;\">\n",
       "      <th></th>\n",
       "      <th>type</th>\n",
       "      <th>id</th>\n",
       "      <th>name</th>\n",
       "    </tr>\n",
       "  </thead>\n",
       "  <tbody>\n",
       "    <tr>\n",
       "      <th>766531</th>\n",
       "      <td>artist</td>\n",
       "      <td>5540395</td>\n",
       "      <td>FLESH</td>\n",
       "    </tr>\n",
       "  </tbody>\n",
       "</table>\n",
       "</div>"
      ],
      "text/plain": [
       "          type       id   name\n",
       "766531  artist  5540395  FLESH"
      ]
     },
     "execution_count": 25,
     "metadata": {},
     "output_type": "execute_result"
    }
   ],
   "source": [
    "all_names[all_names.id == 5540395]"
   ]
  },
  {
   "cell_type": "code",
   "execution_count": 26,
   "id": "5adcbb7d",
   "metadata": {},
   "outputs": [
    {
     "data": {
      "text/html": [
       "<div>\n",
       "<style scoped>\n",
       "    .dataframe tbody tr th:only-of-type {\n",
       "        vertical-align: middle;\n",
       "    }\n",
       "\n",
       "    .dataframe tbody tr th {\n",
       "        vertical-align: top;\n",
       "    }\n",
       "\n",
       "    .dataframe thead th {\n",
       "        text-align: right;\n",
       "    }\n",
       "</style>\n",
       "<table border=\"1\" class=\"dataframe\">\n",
       "  <thead>\n",
       "    <tr style=\"text-align: right;\">\n",
       "      <th></th>\n",
       "      <th>track_id</th>\n",
       "      <th>albums</th>\n",
       "      <th>artists</th>\n",
       "      <th>genres</th>\n",
       "    </tr>\n",
       "  </thead>\n",
       "  <tbody>\n",
       "    <tr>\n",
       "      <th>0</th>\n",
       "      <td>26</td>\n",
       "      <td>[3, 2490753]</td>\n",
       "      <td>[16]</td>\n",
       "      <td>[11, 21]</td>\n",
       "    </tr>\n",
       "    <tr>\n",
       "      <th>1</th>\n",
       "      <td>38</td>\n",
       "      <td>[3, 2490753]</td>\n",
       "      <td>[16]</td>\n",
       "      <td>[11, 21]</td>\n",
       "    </tr>\n",
       "    <tr>\n",
       "      <th>2</th>\n",
       "      <td>135</td>\n",
       "      <td>[12, 214, 2490809]</td>\n",
       "      <td>[84]</td>\n",
       "      <td>[11]</td>\n",
       "    </tr>\n",
       "    <tr>\n",
       "      <th>3</th>\n",
       "      <td>136</td>\n",
       "      <td>[12, 214, 2490809]</td>\n",
       "      <td>[84]</td>\n",
       "      <td>[11]</td>\n",
       "    </tr>\n",
       "    <tr>\n",
       "      <th>4</th>\n",
       "      <td>138</td>\n",
       "      <td>[12, 214, 322, 72275, 72292, 91199, 213505, 24...</td>\n",
       "      <td>[84]</td>\n",
       "      <td>[11]</td>\n",
       "    </tr>\n",
       "    <tr>\n",
       "      <th>...</th>\n",
       "      <td>...</td>\n",
       "      <td>...</td>\n",
       "      <td>...</td>\n",
       "      <td>...</td>\n",
       "    </tr>\n",
       "    <tr>\n",
       "      <th>999995</th>\n",
       "      <td>101478482</td>\n",
       "      <td>[21399811]</td>\n",
       "      <td>[5540395]</td>\n",
       "      <td>[3, 75]</td>\n",
       "    </tr>\n",
       "    <tr>\n",
       "      <th>999996</th>\n",
       "      <td>101490148</td>\n",
       "      <td>[21403052]</td>\n",
       "      <td>[9078726]</td>\n",
       "      <td>[11, 20]</td>\n",
       "    </tr>\n",
       "    <tr>\n",
       "      <th>999997</th>\n",
       "      <td>101493057</td>\n",
       "      <td>[21403883]</td>\n",
       "      <td>[11865715]</td>\n",
       "      <td>[44, 75]</td>\n",
       "    </tr>\n",
       "    <tr>\n",
       "      <th>999998</th>\n",
       "      <td>101495927</td>\n",
       "      <td>[21404975]</td>\n",
       "      <td>[4462686]</td>\n",
       "      <td>[3, 75]</td>\n",
       "    </tr>\n",
       "    <tr>\n",
       "      <th>999999</th>\n",
       "      <td>101521819</td>\n",
       "      <td>[21414638]</td>\n",
       "      <td>[5056591]</td>\n",
       "      <td>[3, 75]</td>\n",
       "    </tr>\n",
       "  </tbody>\n",
       "</table>\n",
       "<p>1000000 rows × 4 columns</p>\n",
       "</div>"
      ],
      "text/plain": [
       "         track_id                                             albums  \\\n",
       "0              26                                       [3, 2490753]   \n",
       "1              38                                       [3, 2490753]   \n",
       "2             135                                 [12, 214, 2490809]   \n",
       "3             136                                 [12, 214, 2490809]   \n",
       "4             138  [12, 214, 322, 72275, 72292, 91199, 213505, 24...   \n",
       "...           ...                                                ...   \n",
       "999995  101478482                                         [21399811]   \n",
       "999996  101490148                                         [21403052]   \n",
       "999997  101493057                                         [21403883]   \n",
       "999998  101495927                                         [21404975]   \n",
       "999999  101521819                                         [21414638]   \n",
       "\n",
       "           artists    genres  \n",
       "0             [16]  [11, 21]  \n",
       "1             [16]  [11, 21]  \n",
       "2             [84]      [11]  \n",
       "3             [84]      [11]  \n",
       "4             [84]      [11]  \n",
       "...            ...       ...  \n",
       "999995   [5540395]   [3, 75]  \n",
       "999996   [9078726]  [11, 20]  \n",
       "999997  [11865715]  [44, 75]  \n",
       "999998   [4462686]   [3, 75]  \n",
       "999999   [5056591]   [3, 75]  \n",
       "\n",
       "[1000000 rows x 4 columns]"
      ]
     },
     "execution_count": 26,
     "metadata": {},
     "output_type": "execute_result"
    }
   ],
   "source": [
    "track_links"
   ]
  },
  {
   "cell_type": "code",
   "execution_count": 27,
   "id": "6e7c549f",
   "metadata": {
    "scrolled": true
   },
   "outputs": [
    {
     "data": {
      "text/html": [
       "<div>\n",
       "<style scoped>\n",
       "    .dataframe tbody tr th:only-of-type {\n",
       "        vertical-align: middle;\n",
       "    }\n",
       "\n",
       "    .dataframe tbody tr th {\n",
       "        vertical-align: top;\n",
       "    }\n",
       "\n",
       "    .dataframe thead th {\n",
       "        text-align: right;\n",
       "    }\n",
       "</style>\n",
       "<table border=\"1\" class=\"dataframe\">\n",
       "  <thead>\n",
       "    <tr style=\"text-align: right;\">\n",
       "      <th></th>\n",
       "      <th>user_id</th>\n",
       "      <th>track_ids</th>\n",
       "    </tr>\n",
       "  </thead>\n",
       "  <tbody>\n",
       "    <tr>\n",
       "      <th>0</th>\n",
       "      <td>0</td>\n",
       "      <td>[99262, 589498, 590262, 590303, 590692, 590803...</td>\n",
       "    </tr>\n",
       "    <tr>\n",
       "      <th>1</th>\n",
       "      <td>1</td>\n",
       "      <td>[24417, 108208, 108209, 592642, 628687, 733449...</td>\n",
       "    </tr>\n",
       "    <tr>\n",
       "      <th>2</th>\n",
       "      <td>2</td>\n",
       "      <td>[264937, 672689, 4321285, 5335351, 5658525, 58...</td>\n",
       "    </tr>\n",
       "    <tr>\n",
       "      <th>3</th>\n",
       "      <td>3</td>\n",
       "      <td>[6006252, 21642261, 21642265, 24692821, 259952...</td>\n",
       "    </tr>\n",
       "    <tr>\n",
       "      <th>4</th>\n",
       "      <td>4</td>\n",
       "      <td>[966, 4094, 9760, 9769, 18392, 19042, 21184, 2...</td>\n",
       "    </tr>\n",
       "    <tr>\n",
       "      <th>...</th>\n",
       "      <td>...</td>\n",
       "      <td>...</td>\n",
       "    </tr>\n",
       "    <tr>\n",
       "      <th>1373216</th>\n",
       "      <td>1374578</td>\n",
       "      <td>[24692821, 29544272, 29904955, 33236014, 33311...</td>\n",
       "    </tr>\n",
       "    <tr>\n",
       "      <th>1373217</th>\n",
       "      <td>1374579</td>\n",
       "      <td>[54994, 106259, 240171, 245392, 340459, 560468...</td>\n",
       "    </tr>\n",
       "    <tr>\n",
       "      <th>1373218</th>\n",
       "      <td>1374580</td>\n",
       "      <td>[18860, 33273, 33627, 43115, 43119, 43127, 456...</td>\n",
       "    </tr>\n",
       "    <tr>\n",
       "      <th>1373219</th>\n",
       "      <td>1374581</td>\n",
       "      <td>[1062, 37615, 40193, 65011, 69400, 117391, 366...</td>\n",
       "    </tr>\n",
       "    <tr>\n",
       "      <th>1373220</th>\n",
       "      <td>1374582</td>\n",
       "      <td>[106716, 638604, 666207, 711243, 2192958, 2214...</td>\n",
       "    </tr>\n",
       "  </tbody>\n",
       "</table>\n",
       "<p>1373221 rows × 2 columns</p>\n",
       "</div>"
      ],
      "text/plain": [
       "         user_id                                          track_ids\n",
       "0              0  [99262, 589498, 590262, 590303, 590692, 590803...\n",
       "1              1  [24417, 108208, 108209, 592642, 628687, 733449...\n",
       "2              2  [264937, 672689, 4321285, 5335351, 5658525, 58...\n",
       "3              3  [6006252, 21642261, 21642265, 24692821, 259952...\n",
       "4              4  [966, 4094, 9760, 9769, 18392, 19042, 21184, 2...\n",
       "...          ...                                                ...\n",
       "1373216  1374578  [24692821, 29544272, 29904955, 33236014, 33311...\n",
       "1373217  1374579  [54994, 106259, 240171, 245392, 340459, 560468...\n",
       "1373218  1374580  [18860, 33273, 33627, 43115, 43119, 43127, 456...\n",
       "1373219  1374581  [1062, 37615, 40193, 65011, 69400, 117391, 366...\n",
       "1373220  1374582  [106716, 638604, 666207, 711243, 2192958, 2214...\n",
       "\n",
       "[1373221 rows x 2 columns]"
      ]
     },
     "execution_count": 27,
     "metadata": {},
     "output_type": "execute_result"
    }
   ],
   "source": [
    "dataset"
   ]
  },
  {
   "cell_type": "code",
   "execution_count": 28,
   "id": "f7edc62d",
   "metadata": {},
   "outputs": [
    {
     "data": {
      "application/vnd.jupyter.widget-view+json": {
       "model_id": "188b94a48bc949b88df62ade0b2f5949",
       "version_major": 2,
       "version_minor": 0
      },
      "text/plain": [
       "  0%|          | 0/1373221 [00:00<?, ?it/s]"
      ]
     },
     "metadata": {},
     "output_type": "display_data"
    }
   ],
   "source": [
    "total_interactions_count = dataset.track_ids.map(len).sum()\n",
    "user_coo, item_coo = np.zeros(total_interactions_count, dtype=np.int32), np.zeros(\n",
    "    total_interactions_count, dtype=np.int32\n",
    ")\n",
    "pos = 0\n",
    "for u, tracks in enumerate(tqdm(dataset.track_ids)):\n",
    "    user_coo[pos : pos + len(tracks)] = u\n",
    "    item_coo[pos : pos + len(tracks)] = tracks\n",
    "    pos += len(tracks)\n",
    "shape = (max(user_coo) + 1, max(item_coo) + 1)\n",
    "user_item_matrix = sp.coo_matrix(\n",
    "    (np.ones(len(user_coo)), (user_coo, item_coo)), shape=shape\n",
    ")\n",
    "user_item_matrix = user_item_matrix.tocsr()\n",
    "sp.save_npz(\"data_train.npz\", user_item_matrix)\n",
    "# Cleanup memory. Later you need just data_train.npz\n",
    "del user_coo\n",
    "del item_coo\n",
    "del dataset"
   ]
  },
  {
   "cell_type": "raw",
   "id": "c71b211a",
   "metadata": {},
   "source": [
    "user_item_matrix = sp.load_npz(\"data_train.npz\")"
   ]
  },
  {
   "cell_type": "code",
   "execution_count": 29,
   "id": "2c28f27f",
   "metadata": {},
   "outputs": [],
   "source": [
    "item_weights = np.array(user_item_matrix.tocsc().sum(0))[0]\n",
    "top_to_bottom_order = np.argsort(-item_weights)\n",
    "item_mapping = np.empty(top_to_bottom_order.shape, dtype=int)\n",
    "item_mapping[top_to_bottom_order] = np.arange(len(top_to_bottom_order))\n",
    "total_item_count = (item_weights > 0).sum()\n",
    "total_user_count = user_item_matrix.shape[0]\n",
    "\n",
    "\n",
    "def build_dataset(user_item_matrix, item_pct, user_pct):\n",
    "    user_count, item_count = int(total_user_count * user_pct), int(\n",
    "        total_item_count * item_pct\n",
    "    )\n",
    "    item_ids = top_to_bottom_order[:item_count]\n",
    "    user_ids = np.random.choice(\n",
    "        np.arange(user_item_matrix.shape[0]), size=user_count, replace=False\n",
    "    )\n",
    "    train = user_item_matrix[user_ids]\n",
    "    train = train[:, item_ids]\n",
    "    return train"
   ]
  },
  {
   "cell_type": "code",
   "execution_count": 30,
   "id": "686636b3",
   "metadata": {},
   "outputs": [],
   "source": [
    "small_dataset = build_dataset(user_item_matrix, 0.05, 0.05)"
   ]
  },
  {
   "cell_type": "code",
   "execution_count": 31,
   "id": "d7e2ed41",
   "metadata": {},
   "outputs": [],
   "source": [
    "from implicit.nearest_neighbours import ItemItemRecommender"
   ]
  },
  {
   "cell_type": "code",
   "execution_count": 32,
   "id": "4caa59d0",
   "metadata": {},
   "outputs": [],
   "source": [
    "recommender = ItemItemRecommender()"
   ]
  },
  {
   "cell_type": "code",
   "execution_count": 33,
   "id": "95577dba",
   "metadata": {},
   "outputs": [
    {
     "data": {
      "application/vnd.jupyter.widget-view+json": {
       "model_id": "b043cd192fb54795a88d2e0e937a46a3",
       "version_major": 2,
       "version_minor": 0
      },
      "text/plain": [
       "  0%|          | 0/50000 [00:00<?, ?it/s]"
      ]
     },
     "metadata": {},
     "output_type": "display_data"
    }
   ],
   "source": [
    "recommender.fit(small_dataset)"
   ]
  },
  {
   "cell_type": "code",
   "execution_count": 34,
   "id": "e3d0dda8",
   "metadata": {},
   "outputs": [],
   "source": [
    "similar_items = [\n",
    "    top_to_bottom_order[k] for k in recommender.similar_items(item_mapping[54302022])[0]\n",
    "]"
   ]
  },
  {
   "cell_type": "code",
   "execution_count": 35,
   "id": "23cb78a6",
   "metadata": {},
   "outputs": [],
   "source": [
    "track_names = all_names[all_names.type == \"track\"].set_index(\"id\").name.to_dict()\n",
    "artist_names = all_names[all_names.type == \"artist\"].set_index(\"id\").name.to_dict()\n",
    "track_artists = track_links.set_index(\"track_id\").artists.to_dict()\n",
    "track_artists_names = {\n",
    "    track_id: \",\".join([artist_names[a] for a in artists])\n",
    "    for track_id, artists in track_artists.items()\n",
    "}"
   ]
  },
  {
   "cell_type": "code",
   "execution_count": 36,
   "id": "cacb3008",
   "metadata": {},
   "outputs": [
    {
     "data": {
      "text/html": [
       "<div>\n",
       "<style scoped>\n",
       "    .dataframe tbody tr th:only-of-type {\n",
       "        vertical-align: middle;\n",
       "    }\n",
       "\n",
       "    .dataframe tbody tr th {\n",
       "        vertical-align: top;\n",
       "    }\n",
       "\n",
       "    .dataframe thead th {\n",
       "        text-align: right;\n",
       "    }\n",
       "</style>\n",
       "<table border=\"1\" class=\"dataframe\">\n",
       "  <thead>\n",
       "    <tr style=\"text-align: right;\">\n",
       "      <th></th>\n",
       "      <th>artist</th>\n",
       "      <th>track</th>\n",
       "      <th>id</th>\n",
       "    </tr>\n",
       "  </thead>\n",
       "  <tbody>\n",
       "    <tr>\n",
       "      <th>0</th>\n",
       "      <td>Lindsey Stirling</td>\n",
       "      <td>Underground</td>\n",
       "      <td>54302022</td>\n",
       "    </tr>\n",
       "    <tr>\n",
       "      <th>1</th>\n",
       "      <td>Lindsey Stirling</td>\n",
       "      <td>Roundtable Rival</td>\n",
       "      <td>17530540</td>\n",
       "    </tr>\n",
       "    <tr>\n",
       "      <th>2</th>\n",
       "      <td>Lindsey Stirling</td>\n",
       "      <td>The Arena</td>\n",
       "      <td>29732355</td>\n",
       "    </tr>\n",
       "    <tr>\n",
       "      <th>3</th>\n",
       "      <td>Tommee Profitt,Fleurie,Mellen Gi</td>\n",
       "      <td>In The End</td>\n",
       "      <td>51241318</td>\n",
       "    </tr>\n",
       "    <tr>\n",
       "      <th>4</th>\n",
       "      <td>Evanescence</td>\n",
       "      <td>Bring Me To Life</td>\n",
       "      <td>328683</td>\n",
       "    </tr>\n",
       "    <tr>\n",
       "      <th>5</th>\n",
       "      <td>Linkin Park</td>\n",
       "      <td>Numb</td>\n",
       "      <td>178529</td>\n",
       "    </tr>\n",
       "    <tr>\n",
       "      <th>6</th>\n",
       "      <td>Lindsey Stirling</td>\n",
       "      <td>Artemis</td>\n",
       "      <td>57043164</td>\n",
       "    </tr>\n",
       "    <tr>\n",
       "      <th>7</th>\n",
       "      <td>Imagine Dragons</td>\n",
       "      <td>Believer</td>\n",
       "      <td>33311009</td>\n",
       "    </tr>\n",
       "    <tr>\n",
       "      <th>8</th>\n",
       "      <td>Pain</td>\n",
       "      <td>Shut Your Mouth</td>\n",
       "      <td>27032843</td>\n",
       "    </tr>\n",
       "    <tr>\n",
       "      <th>9</th>\n",
       "      <td>Nirvana</td>\n",
       "      <td>Smells Like Teen Spirit</td>\n",
       "      <td>53404</td>\n",
       "    </tr>\n",
       "  </tbody>\n",
       "</table>\n",
       "</div>"
      ],
      "text/plain": [
       "                             artist                    track        id\n",
       "0                  Lindsey Stirling              Underground  54302022\n",
       "1                  Lindsey Stirling         Roundtable Rival  17530540\n",
       "2                  Lindsey Stirling                The Arena  29732355\n",
       "3  Tommee Profitt,Fleurie,Mellen Gi               In The End  51241318\n",
       "4                       Evanescence         Bring Me To Life    328683\n",
       "5                       Linkin Park                     Numb    178529\n",
       "6                  Lindsey Stirling                  Artemis  57043164\n",
       "7                   Imagine Dragons                 Believer  33311009\n",
       "8                              Pain          Shut Your Mouth  27032843\n",
       "9                           Nirvana  Smells Like Teen Spirit     53404"
      ]
     },
     "execution_count": 36,
     "metadata": {},
     "output_type": "execute_result"
    }
   ],
   "source": [
    "pd.DataFrame(\n",
    "    [\n",
    "        {\n",
    "            \"artist\": track_artists_names[track_id],\n",
    "            \"track\": track_names[track_id],\n",
    "            \"id\": track_id,\n",
    "        }\n",
    "        for track_id in similar_items\n",
    "    ]\n",
    ")"
   ]
  },
  {
   "cell_type": "code",
   "execution_count": null,
   "id": "08831d24",
   "metadata": {},
   "outputs": [],
   "source": []
  }
 ],
 "metadata": {
  "kernelspec": {
   "display_name": "Python 3 (ipykernel)",
   "language": "python",
   "name": "python3"
  },
  "language_info": {
   "codemirror_mode": {
    "name": "ipython",
    "version": 3
   },
   "file_extension": ".py",
   "mimetype": "text/x-python",
   "name": "python",
   "nbconvert_exporter": "python",
   "pygments_lexer": "ipython3",
   "version": "3.11.0"
  }
 },
 "nbformat": 4,
 "nbformat_minor": 5
}
