{
 "cells": [
  {
   "cell_type": "markdown",
   "id": "b9cdecbc",
   "metadata": {},
   "source": [
    "## [Description](#Description_)\n",
    "## [Research](#Research_)\n",
    "## [Imports](#Imports_)\n",
    "## [Globals](#Globals_)\n",
    "## [Utils](#Utils_)\n",
    "- ### [Markdown](#Markdown_)\n",
    "- ### [Yadisk](#Yadisk_)\n",
    "- ### [Cli](#Cli_)\n",
    "- ### [Other](#Other_)\n",
    "## [Setup](#Setup_)\n",
    "## [Data](#Data_)\n",
    "## [Metrics](#Metrics_)\n",
    "## [Model](#Model_)\n",
    "- ### [Popular](#Popular_)\n",
    "- ### [SVD](#SVD_)\n",
    "- ### [Item2Item](#Item2Item_)\n",
    "- ### [ALS](#ALS_)\n",
    "- ### [Implicit ALS](#Implicit_ALS_)\n",
    "## [Training](#Training_)\n",
    "- ### [Hyperparameter sweeps](#Hyperparameter_sweeps_)\n",
    "- ### [SVD sweep](#SVD_sweep_)\n",
    "- ### [ALS sweep](#ALS_sweep_)\n",
    "- ### [Implicit ALS sweep](#Implicit_ALS_sweep_)\n",
    "## [Results](#Results_)\n",
    "- ### [Test metrics](#Test_metrics_)\n",
    "- ### [Recommendations](#Recommendations_)"
   ]
  },
  {
   "cell_type": "markdown",
   "id": "f71a1208",
   "metadata": {},
   "source": [
    "## Description <span id=Description_></span>"
   ]
  },
  {
   "cell_type": "markdown",
   "id": "ae90c4df",
   "metadata": {},
   "source": [
    "# План домашней работы\n",
    "1. Реализовать алгоритмы **item2item**, **ALS**, **IALS** (2 балл за каждый)\n",
    "2. Посчитать метрику предсказаний **MRR@100** выбрасывая случайный лайк пользователя (2 балла)\n",
    "\n",
    "Будем решать задачу предсказания: на 4/5 пользователей учимся, на 1/5 выбрасываем случайный лайк и пытаемся предсказать его беря топ 100 наших лучших предсказаний для этого пользователя.\n",
    "\n",
    "MRR@100 будет равно $1/(p+1)$, где $p$ - позиция на которой оказался выброшенный лайк в нашем ранжировании и 0 если в топ 100 его не было.\n",
    "\n",
    "3. Подобрать параметры алгоритмов для максимизации MRR@100 (1 балл)\n",
    "4. Сравнить похожести айтемов получаюшиеся для item2item, ALS, IALS (1 балл)\n",
    "\n",
    "Замерить насколько получаются похожими топы похожестей. Так же рекомендуется взять 5-топовых (или любимых) треков и посмотреть на похожести которые получаются для них в разных алгоритмах."
   ]
  },
  {
   "cell_type": "markdown",
   "id": "4f167286",
   "metadata": {},
   "source": [
    "### Ссылки на датасет музыки:\n",
    "\n",
    "1. Матричка: https://disk.yandex.ru/d/cLbDbw3mCido_w\n",
    "2. Имена тайтемов: https://disk.yandex.ru/d/pPCaGJOqcpcABw\n",
    "3. Линки между айтемами: https://disk.yandex.ru/d/hMErnDJqtVm9HQ"
   ]
  },
  {
   "cell_type": "markdown",
   "id": "cdaaf151",
   "metadata": {},
   "source": [
    "## Research <span id=Research_></span>"
   ]
  },
  {
   "cell_type": "markdown",
   "id": "61a3cc3a",
   "metadata": {},
   "source": [
    "- [Implicit ALS](http://yifanhu.net/PUB/cf.pdf)"
   ]
  },
  {
   "cell_type": "markdown",
   "id": "4c717fc8",
   "metadata": {},
   "source": [
    "## Imports <span id=Imports_></span>"
   ]
  },
  {
   "cell_type": "code",
   "execution_count": 141,
   "id": "b6cc6803",
   "metadata": {
    "ExecuteTime": {
     "end_time": "2023-05-08T16:49:29.791708Z",
     "start_time": "2023-05-08T16:49:29.344304Z"
    }
   },
   "outputs": [
    {
     "name": "stdout",
     "output_type": "stream",
     "text": [
      "The nb_black extension is already loaded. To reload it, use:\n",
      "  %reload_ext nb_black\n"
     ]
    },
    {
     "data": {
      "application/javascript": [
       "\n",
       "            setTimeout(function() {\n",
       "                var nbb_cell_id = 141;\n",
       "                var nbb_unformatted_code = \"import collections\\nimport copy\\nimport dataclasses\\nimport einops\\nimport functools\\nimport glob\\nimport matplotlib_venn\\nimport numba\\nimport numpy as np\\nimport os\\nimport pandas as pd\\nimport requests\\nimport scipy\\nimport sklearn\\nimport sklearn.decomposition\\nimport sys\\nimport torch\\nfrom tqdm.autonotebook import tqdm\\nimport types\\nfrom typing import Callable, Literal\\nimport urllib\\nimport wandb\\nimport zipfile\\n\\n%load_ext nb_black\";\n",
       "                var nbb_formatted_code = \"import collections\\nimport copy\\nimport dataclasses\\nimport einops\\nimport functools\\nimport glob\\nimport matplotlib_venn\\nimport numba\\nimport numpy as np\\nimport os\\nimport pandas as pd\\nimport requests\\nimport scipy\\nimport sklearn\\nimport sklearn.decomposition\\nimport sys\\nimport torch\\nfrom tqdm.autonotebook import tqdm\\nimport types\\nfrom typing import Callable, Literal\\nimport urllib\\nimport wandb\\nimport zipfile\\n\\n%load_ext nb_black\";\n",
       "                var nbb_cells = Jupyter.notebook.get_cells();\n",
       "                for (var i = 0; i < nbb_cells.length; ++i) {\n",
       "                    if (nbb_cells[i].input_prompt_number == nbb_cell_id) {\n",
       "                        if (nbb_cells[i].get_text() == nbb_unformatted_code) {\n",
       "                             nbb_cells[i].set_text(nbb_formatted_code);\n",
       "                        }\n",
       "                        break;\n",
       "                    }\n",
       "                }\n",
       "            }, 500);\n",
       "            "
      ],
      "text/plain": [
       "<IPython.core.display.Javascript object>"
      ]
     },
     "metadata": {},
     "output_type": "display_data"
    }
   ],
   "source": [
    "import collections\n",
    "import copy\n",
    "import dataclasses\n",
    "import einops\n",
    "import functools\n",
    "import glob\n",
    "import matplotlib_venn\n",
    "import numba\n",
    "import numpy as np\n",
    "import os\n",
    "import pandas as pd\n",
    "import requests\n",
    "import scipy\n",
    "import sklearn\n",
    "import sklearn.decomposition\n",
    "import sys\n",
    "import torch\n",
    "from tqdm.autonotebook import tqdm\n",
    "import types\n",
    "from typing import Callable, Literal\n",
    "import urllib\n",
    "import wandb\n",
    "import zipfile\n",
    "\n",
    "%load_ext nb_black"
   ]
  },
  {
   "cell_type": "markdown",
   "id": "a9aeaa6c",
   "metadata": {},
   "source": [
    "## Globals <span id=Globals_></span>"
   ]
  },
  {
   "cell_type": "code",
   "execution_count": 2,
   "id": "6df66b5b",
   "metadata": {
    "ExecuteTime": {
     "end_time": "2023-05-08T15:31:04.164935Z",
     "start_time": "2023-05-08T15:31:04.161874Z"
    }
   },
   "outputs": [
    {
     "data": {
      "application/javascript": [
       "\n",
       "            setTimeout(function() {\n",
       "                var nbb_cell_id = 2;\n",
       "                var nbb_unformatted_code = \"CONFIG = types.SimpleNamespace()\\nCONFIG.debug = True\\nCONFIG.debug_dataset_fraction = 1e-3\\nCONFIG.seed = 42\\n\\nDATA = types.SimpleNamespace()\\n\\nMODELS = types.SimpleNamespace()\";\n",
       "                var nbb_formatted_code = \"CONFIG = types.SimpleNamespace()\\nCONFIG.debug = True\\nCONFIG.debug_dataset_fraction = 1e-3\\nCONFIG.seed = 42\\n\\nDATA = types.SimpleNamespace()\\n\\nMODELS = types.SimpleNamespace()\";\n",
       "                var nbb_cells = Jupyter.notebook.get_cells();\n",
       "                for (var i = 0; i < nbb_cells.length; ++i) {\n",
       "                    if (nbb_cells[i].input_prompt_number == nbb_cell_id) {\n",
       "                        if (nbb_cells[i].get_text() == nbb_unformatted_code) {\n",
       "                             nbb_cells[i].set_text(nbb_formatted_code);\n",
       "                        }\n",
       "                        break;\n",
       "                    }\n",
       "                }\n",
       "            }, 500);\n",
       "            "
      ],
      "text/plain": [
       "<IPython.core.display.Javascript object>"
      ]
     },
     "metadata": {},
     "output_type": "display_data"
    }
   ],
   "source": [
    "CONFIG = types.SimpleNamespace()\n",
    "CONFIG.debug = True\n",
    "CONFIG.debug_dataset_fraction = 1e-3\n",
    "CONFIG.seed = 42\n",
    "\n",
    "DATA = types.SimpleNamespace()\n",
    "\n",
    "MODELS = types.SimpleNamespace()"
   ]
  },
  {
   "cell_type": "markdown",
   "id": "6e4805ca",
   "metadata": {},
   "source": [
    "## Utils <span id=Utils_></span>"
   ]
  },
  {
   "cell_type": "markdown",
   "id": "406d8808",
   "metadata": {
    "ExecuteTime": {
     "end_time": "2023-05-06T08:56:36.216966Z",
     "start_time": "2023-05-06T08:56:36.212794Z"
    }
   },
   "source": [
    "### Markdown <span id=Markdown_></span>"
   ]
  },
  {
   "cell_type": "code",
   "execution_count": 3,
   "id": "f5931c03",
   "metadata": {
    "ExecuteTime": {
     "end_time": "2023-05-08T15:31:04.171712Z",
     "start_time": "2023-05-08T15:31:04.165810Z"
    }
   },
   "outputs": [
    {
     "data": {
      "application/javascript": [
       "\n",
       "            setTimeout(function() {\n",
       "                var nbb_cell_id = 3;\n",
       "                var nbb_unformatted_code = \"def make_new_markdown_section_with_link(section, header=\\\"##\\\", do_print=True):\\n    section_id = section.replace(\\\" \\\", \\\"_\\\") + \\\"_\\\"\\n    section_link = f\\\"{header} [{section}](#{section_id})\\\"\\n    section_header = f\\\"{header} {section} <span id={section_id}></span>\\\"\\n    if do_print:\\n        print(section_link + \\\"\\\\n\\\" + section_header)\\n    return section_link, section_header\\n\\n\\ndef make_several_sections(\\n    section_names=(\\n        \\\"Description\\\",\\n        \\\"Imports\\\",\\n        \\\"Globals\\\",\\n        \\\"Setup\\\",\\n        \\\"Data\\\",\\n        \\\"Data exploration\\\",\\n        \\\"Model\\\",\\n        \\\"Training\\\",\\n        \\\"Results\\\",\\n    )\\n):\\n    links, headers = zip(\\n        *[\\n            make_new_markdown_section_with_link(sn, do_print=False)\\n            for sn in section_names\\n        ]\\n    )\\n    print(\\\"\\\\n\\\".join(links + (\\\"\\\",) + headers))\";\n",
       "                var nbb_formatted_code = \"def make_new_markdown_section_with_link(section, header=\\\"##\\\", do_print=True):\\n    section_id = section.replace(\\\" \\\", \\\"_\\\") + \\\"_\\\"\\n    section_link = f\\\"{header} [{section}](#{section_id})\\\"\\n    section_header = f\\\"{header} {section} <span id={section_id}></span>\\\"\\n    if do_print:\\n        print(section_link + \\\"\\\\n\\\" + section_header)\\n    return section_link, section_header\\n\\n\\ndef make_several_sections(\\n    section_names=(\\n        \\\"Description\\\",\\n        \\\"Imports\\\",\\n        \\\"Globals\\\",\\n        \\\"Setup\\\",\\n        \\\"Data\\\",\\n        \\\"Data exploration\\\",\\n        \\\"Model\\\",\\n        \\\"Training\\\",\\n        \\\"Results\\\",\\n    )\\n):\\n    links, headers = zip(\\n        *[\\n            make_new_markdown_section_with_link(sn, do_print=False)\\n            for sn in section_names\\n        ]\\n    )\\n    print(\\\"\\\\n\\\".join(links + (\\\"\\\",) + headers))\";\n",
       "                var nbb_cells = Jupyter.notebook.get_cells();\n",
       "                for (var i = 0; i < nbb_cells.length; ++i) {\n",
       "                    if (nbb_cells[i].input_prompt_number == nbb_cell_id) {\n",
       "                        if (nbb_cells[i].get_text() == nbb_unformatted_code) {\n",
       "                             nbb_cells[i].set_text(nbb_formatted_code);\n",
       "                        }\n",
       "                        break;\n",
       "                    }\n",
       "                }\n",
       "            }, 500);\n",
       "            "
      ],
      "text/plain": [
       "<IPython.core.display.Javascript object>"
      ]
     },
     "metadata": {},
     "output_type": "display_data"
    }
   ],
   "source": [
    "def make_new_markdown_section_with_link(section, header=\"##\", do_print=True):\n",
    "    section_id = section.replace(\" \", \"_\") + \"_\"\n",
    "    section_link = f\"{header} [{section}](#{section_id})\"\n",
    "    section_header = f\"{header} {section} <span id={section_id}></span>\"\n",
    "    if do_print:\n",
    "        print(section_link + \"\\n\" + section_header)\n",
    "    return section_link, section_header\n",
    "\n",
    "\n",
    "def make_several_sections(\n",
    "    section_names=(\n",
    "        \"Description\",\n",
    "        \"Imports\",\n",
    "        \"Globals\",\n",
    "        \"Setup\",\n",
    "        \"Data\",\n",
    "        \"Data exploration\",\n",
    "        \"Model\",\n",
    "        \"Training\",\n",
    "        \"Results\",\n",
    "    )\n",
    "):\n",
    "    links, headers = zip(\n",
    "        *[\n",
    "            make_new_markdown_section_with_link(sn, do_print=False)\n",
    "            for sn in section_names\n",
    "        ]\n",
    "    )\n",
    "    print(\"\\n\".join(links + (\"\",) + headers))"
   ]
  },
  {
   "cell_type": "markdown",
   "id": "eb90314f",
   "metadata": {
    "ExecuteTime": {
     "end_time": "2023-05-06T09:03:17.635059Z",
     "start_time": "2023-05-06T09:03:17.626076Z"
    }
   },
   "source": [
    "### Yadisk <span id=Yadisk_></span>"
   ]
  },
  {
   "cell_type": "code",
   "execution_count": 4,
   "id": "c5835b5f",
   "metadata": {
    "ExecuteTime": {
     "end_time": "2023-05-08T15:31:04.178274Z",
     "start_time": "2023-05-08T15:31:04.173016Z"
    }
   },
   "outputs": [
    {
     "data": {
      "application/javascript": [
       "\n",
       "            setTimeout(function() {\n",
       "                var nbb_cell_id = 4;\n",
       "                var nbb_unformatted_code = \"def get_yadisk_download_url(\\n    yadisk_url: str,\\n    base_url=\\\"https://cloud-api.yandex.net/v1/disk/public/resources/download?\\\",\\n) -> str:\\n    final_url = base_url + urllib.parse.urlencode(dict(public_key=yadisk_url))\\n    response = requests.get(final_url)\\n    download_url = response.json()[\\\"href\\\"]\\n    return download_url\\n\\n\\ndef write_response_content(url: str, filename: str) -> None:\\n    download_response = requests.get(url)\\n    with open(filename, \\\"wb\\\") as f:\\n        f.write(download_response.content)\";\n",
       "                var nbb_formatted_code = \"def get_yadisk_download_url(\\n    yadisk_url: str,\\n    base_url=\\\"https://cloud-api.yandex.net/v1/disk/public/resources/download?\\\",\\n) -> str:\\n    final_url = base_url + urllib.parse.urlencode(dict(public_key=yadisk_url))\\n    response = requests.get(final_url)\\n    download_url = response.json()[\\\"href\\\"]\\n    return download_url\\n\\n\\ndef write_response_content(url: str, filename: str) -> None:\\n    download_response = requests.get(url)\\n    with open(filename, \\\"wb\\\") as f:\\n        f.write(download_response.content)\";\n",
       "                var nbb_cells = Jupyter.notebook.get_cells();\n",
       "                for (var i = 0; i < nbb_cells.length; ++i) {\n",
       "                    if (nbb_cells[i].input_prompt_number == nbb_cell_id) {\n",
       "                        if (nbb_cells[i].get_text() == nbb_unformatted_code) {\n",
       "                             nbb_cells[i].set_text(nbb_formatted_code);\n",
       "                        }\n",
       "                        break;\n",
       "                    }\n",
       "                }\n",
       "            }, 500);\n",
       "            "
      ],
      "text/plain": [
       "<IPython.core.display.Javascript object>"
      ]
     },
     "metadata": {},
     "output_type": "display_data"
    }
   ],
   "source": [
    "def get_yadisk_download_url(\n",
    "    yadisk_url: str,\n",
    "    base_url=\"https://cloud-api.yandex.net/v1/disk/public/resources/download?\",\n",
    ") -> str:\n",
    "    final_url = base_url + urllib.parse.urlencode(dict(public_key=yadisk_url))\n",
    "    response = requests.get(final_url)\n",
    "    download_url = response.json()[\"href\"]\n",
    "    return download_url\n",
    "\n",
    "\n",
    "def write_response_content(url: str, filename: str) -> None:\n",
    "    download_response = requests.get(url)\n",
    "    with open(filename, \"wb\") as f:\n",
    "        f.write(download_response.content)"
   ]
  },
  {
   "cell_type": "markdown",
   "id": "4a35e310",
   "metadata": {},
   "source": [
    "### Cli <span id=Cli_></span>"
   ]
  },
  {
   "cell_type": "code",
   "execution_count": 5,
   "id": "e9ca8611",
   "metadata": {
    "ExecuteTime": {
     "end_time": "2023-05-08T15:31:04.184016Z",
     "start_time": "2023-05-08T15:31:04.179235Z"
    }
   },
   "outputs": [
    {
     "data": {
      "application/javascript": [
       "\n",
       "            setTimeout(function() {\n",
       "                var nbb_cell_id = 5;\n",
       "                var nbb_unformatted_code = \"def unzip(zip_path, save_path=None, delete_zip=False):\\n    !unzip {zip_path} {\\\"-d \\\"+ save_path if save_path else \\\"\\\"}\\n    if delete_zip:\\n        for path in glob.glob(zip_path):\\n            if path.endswith(\\\".zip\\\"):\\n                !trash {path}\";\n",
       "                var nbb_formatted_code = \"def unzip(zip_path, save_path=None, delete_zip=False):\\n    !unzip {zip_path} {\\\"-d \\\"+ save_path if save_path else \\\"\\\"}\\n    if delete_zip:\\n        for path in glob.glob(zip_path):\\n            if path.endswith(\\\".zip\\\"):\\n                !trash {path}\";\n",
       "                var nbb_cells = Jupyter.notebook.get_cells();\n",
       "                for (var i = 0; i < nbb_cells.length; ++i) {\n",
       "                    if (nbb_cells[i].input_prompt_number == nbb_cell_id) {\n",
       "                        if (nbb_cells[i].get_text() == nbb_unformatted_code) {\n",
       "                             nbb_cells[i].set_text(nbb_formatted_code);\n",
       "                        }\n",
       "                        break;\n",
       "                    }\n",
       "                }\n",
       "            }, 500);\n",
       "            "
      ],
      "text/plain": [
       "<IPython.core.display.Javascript object>"
      ]
     },
     "metadata": {},
     "output_type": "display_data"
    }
   ],
   "source": [
    "def unzip(zip_path, save_path=None, delete_zip=False):\n",
    "    !unzip {zip_path} {\"-d \"+ save_path if save_path else \"\"}\n",
    "    if delete_zip:\n",
    "        for path in glob.glob(zip_path):\n",
    "            if path.endswith(\".zip\"):\n",
    "                !trash {path}"
   ]
  },
  {
   "cell_type": "markdown",
   "id": "4f7572fe",
   "metadata": {},
   "source": [
    "### Other <span id=Other_></span>"
   ]
  },
  {
   "cell_type": "code",
   "execution_count": 6,
   "id": "d1f60d27",
   "metadata": {
    "ExecuteTime": {
     "end_time": "2023-05-08T15:31:04.198762Z",
     "start_time": "2023-05-08T15:31:04.185070Z"
    }
   },
   "outputs": [
    {
     "data": {
      "application/javascript": [
       "\n",
       "            setTimeout(function() {\n",
       "                var nbb_cell_id = 6;\n",
       "                var nbb_unformatted_code = \"def load_or_build_and_save(\\n    path: str, load: Callable[[str], \\\"T\\\"], build_and_save: Callable[[str], \\\"T\\\"]\\n) -> \\\"T\\\":\\n    if os.path.exists(path):\\n        print(f\\\"Reusing object {path}\\\", file=sys.stderr)\\n        return load(path)\\n    return build_and_save(path)\\n\\n\\n@dataclasses.dataclass\\nclass Bijection:\\n    keys: list\\n    values: list\\n\\n    def __post_init__(self):\\n        if len(set(self.keys)) != len(set(self.values)):\\n            raise RuntimeError(\\\"Bijection is not injective.\\\")\\n\\n        self._series = pd.Series(index=self.keys, data=self.values)\\n        self._inverse_series = pd.Series(index=self.values, data=self.keys)\\n\\n    def loc(self, index) -> np.ndarray:\\n        return self._series.loc[index].values\\n\\n    def inverse_loc(self, index) -> np.ndarray:\\n        return self._inverse_series.loc[index].values\\n\\n    def __len__(self):\\n        return len(self.keys)\\n\\n\\ndef build_compact_bijection(values):\\n    values = np.unique(values)\\n    return Bijection(keys=np.arange(len(values)), values=values)\\n\\n\\ndef csr_array_like(array):\\n    return scipy.sparse.csr_array(array.shape, dtype=array.dtype)\\n\\n\\ndef take_isin(array, other):\\n    return array[np.isin(array, other)]\\n\\n\\ndef take_not_isin(array, other):\\n    return array[~np.isin(array, other)]\\n\\n\\ndef get_train_test_index(size, test_fraction: float, seed=None):\\n    test_size = int(size * test_fraction)\\n    np.random.seed(seed=seed)\\n    index = np.random.permutation(size)\\n    train_index = index[test_size:]\\n    test_index = index[:test_size]\\n    return train_index, test_index\\n\\n\\ndef build_weight(*dimensions):\\n    weight = torch.nn.Parameter(torch.empty(*dimensions))\\n    torch.nn.init.xavier_normal_(weight)\\n    return weight\\n\\n\\ndef build_bias(*dimensions):\\n    bias = torch.nn.Parameter(torch.zeros(*dimensions))\\n    return bias\";\n",
       "                var nbb_formatted_code = \"def load_or_build_and_save(\\n    path: str, load: Callable[[str], \\\"T\\\"], build_and_save: Callable[[str], \\\"T\\\"]\\n) -> \\\"T\\\":\\n    if os.path.exists(path):\\n        print(f\\\"Reusing object {path}\\\", file=sys.stderr)\\n        return load(path)\\n    return build_and_save(path)\\n\\n\\n@dataclasses.dataclass\\nclass Bijection:\\n    keys: list\\n    values: list\\n\\n    def __post_init__(self):\\n        if len(set(self.keys)) != len(set(self.values)):\\n            raise RuntimeError(\\\"Bijection is not injective.\\\")\\n\\n        self._series = pd.Series(index=self.keys, data=self.values)\\n        self._inverse_series = pd.Series(index=self.values, data=self.keys)\\n\\n    def loc(self, index) -> np.ndarray:\\n        return self._series.loc[index].values\\n\\n    def inverse_loc(self, index) -> np.ndarray:\\n        return self._inverse_series.loc[index].values\\n\\n    def __len__(self):\\n        return len(self.keys)\\n\\n\\ndef build_compact_bijection(values):\\n    values = np.unique(values)\\n    return Bijection(keys=np.arange(len(values)), values=values)\\n\\n\\ndef csr_array_like(array):\\n    return scipy.sparse.csr_array(array.shape, dtype=array.dtype)\\n\\n\\ndef take_isin(array, other):\\n    return array[np.isin(array, other)]\\n\\n\\ndef take_not_isin(array, other):\\n    return array[~np.isin(array, other)]\\n\\n\\ndef get_train_test_index(size, test_fraction: float, seed=None):\\n    test_size = int(size * test_fraction)\\n    np.random.seed(seed=seed)\\n    index = np.random.permutation(size)\\n    train_index = index[test_size:]\\n    test_index = index[:test_size]\\n    return train_index, test_index\\n\\n\\ndef build_weight(*dimensions):\\n    weight = torch.nn.Parameter(torch.empty(*dimensions))\\n    torch.nn.init.xavier_normal_(weight)\\n    return weight\\n\\n\\ndef build_bias(*dimensions):\\n    bias = torch.nn.Parameter(torch.zeros(*dimensions))\\n    return bias\";\n",
       "                var nbb_cells = Jupyter.notebook.get_cells();\n",
       "                for (var i = 0; i < nbb_cells.length; ++i) {\n",
       "                    if (nbb_cells[i].input_prompt_number == nbb_cell_id) {\n",
       "                        if (nbb_cells[i].get_text() == nbb_unformatted_code) {\n",
       "                             nbb_cells[i].set_text(nbb_formatted_code);\n",
       "                        }\n",
       "                        break;\n",
       "                    }\n",
       "                }\n",
       "            }, 500);\n",
       "            "
      ],
      "text/plain": [
       "<IPython.core.display.Javascript object>"
      ]
     },
     "metadata": {},
     "output_type": "display_data"
    }
   ],
   "source": [
    "def load_or_build_and_save(\n",
    "    path: str, load: Callable[[str], \"T\"], build_and_save: Callable[[str], \"T\"]\n",
    ") -> \"T\":\n",
    "    if os.path.exists(path):\n",
    "        print(f\"Reusing object {path}\", file=sys.stderr)\n",
    "        return load(path)\n",
    "    return build_and_save(path)\n",
    "\n",
    "\n",
    "@dataclasses.dataclass\n",
    "class Bijection:\n",
    "    keys: list\n",
    "    values: list\n",
    "\n",
    "    def __post_init__(self):\n",
    "        if len(set(self.keys)) != len(set(self.values)):\n",
    "            raise RuntimeError(\"Bijection is not injective.\")\n",
    "\n",
    "        self._series = pd.Series(index=self.keys, data=self.values)\n",
    "        self._inverse_series = pd.Series(index=self.values, data=self.keys)\n",
    "\n",
    "    def loc(self, index) -> np.ndarray:\n",
    "        return self._series.loc[index].values\n",
    "\n",
    "    def inverse_loc(self, index) -> np.ndarray:\n",
    "        return self._inverse_series.loc[index].values\n",
    "\n",
    "    def __len__(self):\n",
    "        return len(self.keys)\n",
    "\n",
    "\n",
    "def build_compact_bijection(values):\n",
    "    values = np.unique(values)\n",
    "    return Bijection(keys=np.arange(len(values)), values=values)\n",
    "\n",
    "\n",
    "def csr_array_like(array):\n",
    "    return scipy.sparse.csr_array(array.shape, dtype=array.dtype)\n",
    "\n",
    "\n",
    "def take_isin(array, other):\n",
    "    return array[np.isin(array, other)]\n",
    "\n",
    "\n",
    "def take_not_isin(array, other):\n",
    "    return array[~np.isin(array, other)]\n",
    "\n",
    "\n",
    "def get_train_test_index(size, test_fraction: float, seed=None):\n",
    "    test_size = int(size * test_fraction)\n",
    "    np.random.seed(seed=seed)\n",
    "    index = np.random.permutation(size)\n",
    "    train_index = index[test_size:]\n",
    "    test_index = index[:test_size]\n",
    "    return train_index, test_index\n",
    "\n",
    "\n",
    "def build_weight(*dimensions):\n",
    "    weight = torch.nn.Parameter(torch.empty(*dimensions))\n",
    "    torch.nn.init.xavier_normal_(weight)\n",
    "    return weight\n",
    "\n",
    "\n",
    "def build_bias(*dimensions):\n",
    "    bias = torch.nn.Parameter(torch.zeros(*dimensions))\n",
    "    return bias"
   ]
  },
  {
   "cell_type": "markdown",
   "id": "aa145bca",
   "metadata": {},
   "source": [
    "## Setup <span id=Setup_></span>"
   ]
  },
  {
   "cell_type": "code",
   "execution_count": 7,
   "id": "1693e4f5",
   "metadata": {
    "ExecuteTime": {
     "end_time": "2023-05-08T15:31:04.213778Z",
     "start_time": "2023-05-08T15:31:04.210118Z"
    }
   },
   "outputs": [
    {
     "data": {
      "application/javascript": [
       "\n",
       "            setTimeout(function() {\n",
       "                var nbb_cell_id = 7;\n",
       "                var nbb_unformatted_code = \"DATA.yadisk_df_url = \\\"https://disk.yandex.ru/d/cLbDbw3mCido_w\\\"\\nDATA.yadisk_names_url = \\\"https://disk.yandex.ru/d/pPCaGJOqcpcABw\\\"\\nDATA.yadisk_links_url = \\\"https://disk.yandex.ru/d/hMErnDJqtVm9HQ\\\"\\n\\nDATA.df_filename = \\\"data/music/df\\\"\\nDATA.names_filename = \\\"data/music/names\\\"\\nDATA.links_filename = \\\"data/music/links\\\"\";\n",
       "                var nbb_formatted_code = \"DATA.yadisk_df_url = \\\"https://disk.yandex.ru/d/cLbDbw3mCido_w\\\"\\nDATA.yadisk_names_url = \\\"https://disk.yandex.ru/d/pPCaGJOqcpcABw\\\"\\nDATA.yadisk_links_url = \\\"https://disk.yandex.ru/d/hMErnDJqtVm9HQ\\\"\\n\\nDATA.df_filename = \\\"data/music/df\\\"\\nDATA.names_filename = \\\"data/music/names\\\"\\nDATA.links_filename = \\\"data/music/links\\\"\";\n",
       "                var nbb_cells = Jupyter.notebook.get_cells();\n",
       "                for (var i = 0; i < nbb_cells.length; ++i) {\n",
       "                    if (nbb_cells[i].input_prompt_number == nbb_cell_id) {\n",
       "                        if (nbb_cells[i].get_text() == nbb_unformatted_code) {\n",
       "                             nbb_cells[i].set_text(nbb_formatted_code);\n",
       "                        }\n",
       "                        break;\n",
       "                    }\n",
       "                }\n",
       "            }, 500);\n",
       "            "
      ],
      "text/plain": [
       "<IPython.core.display.Javascript object>"
      ]
     },
     "metadata": {},
     "output_type": "display_data"
    }
   ],
   "source": [
    "DATA.yadisk_df_url = \"https://disk.yandex.ru/d/cLbDbw3mCido_w\"\n",
    "DATA.yadisk_names_url = \"https://disk.yandex.ru/d/pPCaGJOqcpcABw\"\n",
    "DATA.yadisk_links_url = \"https://disk.yandex.ru/d/hMErnDJqtVm9HQ\"\n",
    "\n",
    "DATA.df_filename = \"data/music/df\"\n",
    "DATA.names_filename = \"data/music/names\"\n",
    "DATA.links_filename = \"data/music/links\""
   ]
  },
  {
   "cell_type": "code",
   "execution_count": 8,
   "id": "53c552cb",
   "metadata": {
    "ExecuteTime": {
     "end_time": "2023-05-08T15:31:04.421198Z",
     "start_time": "2023-05-08T15:31:04.400099Z"
    }
   },
   "outputs": [
    {
     "data": {
      "application/vnd.jupyter.widget-view+json": {
       "model_id": "dd690fae266f425596d7c27d9d3c78e9",
       "version_major": 2,
       "version_minor": 0
      },
      "text/plain": [
       "0it [00:00, ?it/s]"
      ]
     },
     "metadata": {},
     "output_type": "display_data"
    },
    {
     "data": {
      "application/javascript": [
       "\n",
       "            setTimeout(function() {\n",
       "                var nbb_cell_id = 8;\n",
       "                var nbb_unformatted_code = \"for url, filename in tqdm(\\n    zip(\\n        [DATA.yadisk_df_url, DATA.yadisk_names_url, DATA.yadisk_links_url],\\n        [DATA.df_filename, DATA.names_filename, DATA.links_filename],\\n    )\\n):\\n    if not os.path.exists(filename):\\n        zip_filename = filename + \\\".zip\\\"\\n        write_response_content(\\n            url=get_yadisk_download_url(yadisk_url=url),\\n            filename=zip_filename,\\n        )\\n        unzip(zip_path=zip_filename, save_path=filename, delete_zip=True)\";\n",
       "                var nbb_formatted_code = \"for url, filename in tqdm(\\n    zip(\\n        [DATA.yadisk_df_url, DATA.yadisk_names_url, DATA.yadisk_links_url],\\n        [DATA.df_filename, DATA.names_filename, DATA.links_filename],\\n    )\\n):\\n    if not os.path.exists(filename):\\n        zip_filename = filename + \\\".zip\\\"\\n        write_response_content(\\n            url=get_yadisk_download_url(yadisk_url=url),\\n            filename=zip_filename,\\n        )\\n        unzip(zip_path=zip_filename, save_path=filename, delete_zip=True)\";\n",
       "                var nbb_cells = Jupyter.notebook.get_cells();\n",
       "                for (var i = 0; i < nbb_cells.length; ++i) {\n",
       "                    if (nbb_cells[i].input_prompt_number == nbb_cell_id) {\n",
       "                        if (nbb_cells[i].get_text() == nbb_unformatted_code) {\n",
       "                             nbb_cells[i].set_text(nbb_formatted_code);\n",
       "                        }\n",
       "                        break;\n",
       "                    }\n",
       "                }\n",
       "            }, 500);\n",
       "            "
      ],
      "text/plain": [
       "<IPython.core.display.Javascript object>"
      ]
     },
     "metadata": {},
     "output_type": "display_data"
    }
   ],
   "source": [
    "for url, filename in tqdm(\n",
    "    zip(\n",
    "        [DATA.yadisk_df_url, DATA.yadisk_names_url, DATA.yadisk_links_url],\n",
    "        [DATA.df_filename, DATA.names_filename, DATA.links_filename],\n",
    "    )\n",
    "):\n",
    "    if not os.path.exists(filename):\n",
    "        zip_filename = filename + \".zip\"\n",
    "        write_response_content(\n",
    "            url=get_yadisk_download_url(yadisk_url=url),\n",
    "            filename=zip_filename,\n",
    "        )\n",
    "        unzip(zip_path=zip_filename, save_path=filename, delete_zip=True)"
   ]
  },
  {
   "cell_type": "markdown",
   "id": "ef5a337d",
   "metadata": {},
   "source": [
    "## Data <span id=Data_></span>"
   ]
  },
  {
   "cell_type": "code",
   "execution_count": 9,
   "id": "903d2806",
   "metadata": {
    "ExecuteTime": {
     "end_time": "2023-05-08T15:31:04.945588Z",
     "start_time": "2023-05-08T15:31:04.928753Z"
    }
   },
   "outputs": [
    {
     "data": {
      "application/javascript": [
       "\n",
       "            setTimeout(function() {\n",
       "                var nbb_cell_id = 9;\n",
       "                var nbb_unformatted_code = \"def build_sparse_coo_array(df, dtype=np.int32):\\n    row_indices = []\\n    col_indices = []\\n\\n    for i, row in tqdm(df.iterrows(), total=len(df)):\\n        user_id = row[\\\"user_id\\\"]\\n        item_ids = row[\\\"track_ids\\\"]\\n        row_indices += [user_id] * len(item_ids)\\n        col_indices += item_ids\\n\\n    data = np.ones_like(row_indices)\\n    coo_array = scipy.sparse.coo_array((data, (row_indices, col_indices)), dtype=dtype)\\n    return coo_array\\n\\n\\ndef build_and_save_coo_array(filename, df_filename):\\n    df = pd.read_json(df_filename, lines=True)\\n    coo_array = build_sparse_coo_array(df)\\n    scipy.sparse.save_npz(filename, coo_array)\\n    return coo_array\";\n",
       "                var nbb_formatted_code = \"def build_sparse_coo_array(df, dtype=np.int32):\\n    row_indices = []\\n    col_indices = []\\n\\n    for i, row in tqdm(df.iterrows(), total=len(df)):\\n        user_id = row[\\\"user_id\\\"]\\n        item_ids = row[\\\"track_ids\\\"]\\n        row_indices += [user_id] * len(item_ids)\\n        col_indices += item_ids\\n\\n    data = np.ones_like(row_indices)\\n    coo_array = scipy.sparse.coo_array((data, (row_indices, col_indices)), dtype=dtype)\\n    return coo_array\\n\\n\\ndef build_and_save_coo_array(filename, df_filename):\\n    df = pd.read_json(df_filename, lines=True)\\n    coo_array = build_sparse_coo_array(df)\\n    scipy.sparse.save_npz(filename, coo_array)\\n    return coo_array\";\n",
       "                var nbb_cells = Jupyter.notebook.get_cells();\n",
       "                for (var i = 0; i < nbb_cells.length; ++i) {\n",
       "                    if (nbb_cells[i].input_prompt_number == nbb_cell_id) {\n",
       "                        if (nbb_cells[i].get_text() == nbb_unformatted_code) {\n",
       "                             nbb_cells[i].set_text(nbb_formatted_code);\n",
       "                        }\n",
       "                        break;\n",
       "                    }\n",
       "                }\n",
       "            }, 500);\n",
       "            "
      ],
      "text/plain": [
       "<IPython.core.display.Javascript object>"
      ]
     },
     "metadata": {},
     "output_type": "display_data"
    }
   ],
   "source": [
    "def build_sparse_coo_array(df, dtype=np.int32):\n",
    "    row_indices = []\n",
    "    col_indices = []\n",
    "\n",
    "    for i, row in tqdm(df.iterrows(), total=len(df)):\n",
    "        user_id = row[\"user_id\"]\n",
    "        item_ids = row[\"track_ids\"]\n",
    "        row_indices += [user_id] * len(item_ids)\n",
    "        col_indices += item_ids\n",
    "\n",
    "    data = np.ones_like(row_indices)\n",
    "    coo_array = scipy.sparse.coo_array((data, (row_indices, col_indices)), dtype=dtype)\n",
    "    return coo_array\n",
    "\n",
    "\n",
    "def build_and_save_coo_array(filename, df_filename):\n",
    "    df = pd.read_json(df_filename, lines=True)\n",
    "    coo_array = build_sparse_coo_array(df)\n",
    "    scipy.sparse.save_npz(filename, coo_array)\n",
    "    return coo_array"
   ]
  },
  {
   "cell_type": "code",
   "execution_count": 10,
   "id": "628c57b3",
   "metadata": {
    "ExecuteTime": {
     "end_time": "2023-05-08T15:31:10.999968Z",
     "start_time": "2023-05-08T15:31:05.100660Z"
    }
   },
   "outputs": [
    {
     "name": "stderr",
     "output_type": "stream",
     "text": [
      "Reusing object data/music/coo_array.npz\n"
     ]
    },
    {
     "data": {
      "application/javascript": [
       "\n",
       "            setTimeout(function() {\n",
       "                var nbb_cell_id = 10;\n",
       "                var nbb_unformatted_code = \"DATA.coo_array_filename = \\\"data/music/coo_array.npz\\\"\\nDATA.coo_array = load_or_build_and_save(\\n    path=DATA.coo_array_filename,\\n    load=lambda f: scipy.sparse.load_npz(f),\\n    build_and_save=functools.partial(\\n        build_and_save_coo_array, df_filename=DATA.df_filename\\n    ),\\n)\";\n",
       "                var nbb_formatted_code = \"DATA.coo_array_filename = \\\"data/music/coo_array.npz\\\"\\nDATA.coo_array = load_or_build_and_save(\\n    path=DATA.coo_array_filename,\\n    load=lambda f: scipy.sparse.load_npz(f),\\n    build_and_save=functools.partial(\\n        build_and_save_coo_array, df_filename=DATA.df_filename\\n    ),\\n)\";\n",
       "                var nbb_cells = Jupyter.notebook.get_cells();\n",
       "                for (var i = 0; i < nbb_cells.length; ++i) {\n",
       "                    if (nbb_cells[i].input_prompt_number == nbb_cell_id) {\n",
       "                        if (nbb_cells[i].get_text() == nbb_unformatted_code) {\n",
       "                             nbb_cells[i].set_text(nbb_formatted_code);\n",
       "                        }\n",
       "                        break;\n",
       "                    }\n",
       "                }\n",
       "            }, 500);\n",
       "            "
      ],
      "text/plain": [
       "<IPython.core.display.Javascript object>"
      ]
     },
     "metadata": {},
     "output_type": "display_data"
    }
   ],
   "source": [
    "DATA.coo_array_filename = \"data/music/coo_array.npz\"\n",
    "DATA.coo_array = load_or_build_and_save(\n",
    "    path=DATA.coo_array_filename,\n",
    "    load=lambda f: scipy.sparse.load_npz(f),\n",
    "    build_and_save=functools.partial(\n",
    "        build_and_save_coo_array, df_filename=DATA.df_filename\n",
    "    ),\n",
    ")"
   ]
  },
  {
   "cell_type": "code",
   "execution_count": 11,
   "id": "95052ea2",
   "metadata": {
    "ExecuteTime": {
     "end_time": "2023-05-08T15:31:11.006380Z",
     "start_time": "2023-05-08T15:31:11.001108Z"
    }
   },
   "outputs": [
    {
     "data": {
      "application/javascript": [
       "\n",
       "            setTimeout(function() {\n",
       "                var nbb_cell_id = 11;\n",
       "                var nbb_unformatted_code = \"def slice_coo_array_by_entries_index(coo_array, index):\\n    data = coo_array.data[index]\\n    row = coo_array.row[index]\\n    col = coo_array.col[index]\\n    return scipy.sparse.coo_array(\\n        (data, (row, col)), shape=coo_array.shape, dtype=coo_array.dtype\\n    )\\n\\n\\ndef take_random_fraction_of_coo_array(coo_array, fraction: float, seed=None):\\n    size = len(coo_array.data)\\n    index = np.random.choice(size, size=int(size * fraction), replace=False)\\n    coo_array = slice_coo_array_by_entries_index(coo_array, index)\\n    return coo_array\";\n",
       "                var nbb_formatted_code = \"def slice_coo_array_by_entries_index(coo_array, index):\\n    data = coo_array.data[index]\\n    row = coo_array.row[index]\\n    col = coo_array.col[index]\\n    return scipy.sparse.coo_array(\\n        (data, (row, col)), shape=coo_array.shape, dtype=coo_array.dtype\\n    )\\n\\n\\ndef take_random_fraction_of_coo_array(coo_array, fraction: float, seed=None):\\n    size = len(coo_array.data)\\n    index = np.random.choice(size, size=int(size * fraction), replace=False)\\n    coo_array = slice_coo_array_by_entries_index(coo_array, index)\\n    return coo_array\";\n",
       "                var nbb_cells = Jupyter.notebook.get_cells();\n",
       "                for (var i = 0; i < nbb_cells.length; ++i) {\n",
       "                    if (nbb_cells[i].input_prompt_number == nbb_cell_id) {\n",
       "                        if (nbb_cells[i].get_text() == nbb_unformatted_code) {\n",
       "                             nbb_cells[i].set_text(nbb_formatted_code);\n",
       "                        }\n",
       "                        break;\n",
       "                    }\n",
       "                }\n",
       "            }, 500);\n",
       "            "
      ],
      "text/plain": [
       "<IPython.core.display.Javascript object>"
      ]
     },
     "metadata": {},
     "output_type": "display_data"
    }
   ],
   "source": [
    "def slice_coo_array_by_entries_index(coo_array, index):\n",
    "    data = coo_array.data[index]\n",
    "    row = coo_array.row[index]\n",
    "    col = coo_array.col[index]\n",
    "    return scipy.sparse.coo_array(\n",
    "        (data, (row, col)), shape=coo_array.shape, dtype=coo_array.dtype\n",
    "    )\n",
    "\n",
    "\n",
    "def take_random_fraction_of_coo_array(coo_array, fraction: float, seed=None):\n",
    "    size = len(coo_array.data)\n",
    "    index = np.random.choice(size, size=int(size * fraction), replace=False)\n",
    "    coo_array = slice_coo_array_by_entries_index(coo_array, index)\n",
    "    return coo_array"
   ]
  },
  {
   "cell_type": "code",
   "execution_count": 12,
   "id": "ede362e2",
   "metadata": {
    "ExecuteTime": {
     "end_time": "2023-05-08T15:31:19.209108Z",
     "start_time": "2023-05-08T15:31:11.007051Z"
    }
   },
   "outputs": [
    {
     "data": {
      "application/javascript": [
       "\n",
       "            setTimeout(function() {\n",
       "                var nbb_cell_id = 12;\n",
       "                var nbb_unformatted_code = \"if CONFIG.debug:\\n    DATA.coo_array = take_random_fraction_of_coo_array(\\n        DATA.coo_array, fraction=CONFIG.debug_dataset_fraction, seed=CONFIG.seed\\n    )\";\n",
       "                var nbb_formatted_code = \"if CONFIG.debug:\\n    DATA.coo_array = take_random_fraction_of_coo_array(\\n        DATA.coo_array, fraction=CONFIG.debug_dataset_fraction, seed=CONFIG.seed\\n    )\";\n",
       "                var nbb_cells = Jupyter.notebook.get_cells();\n",
       "                for (var i = 0; i < nbb_cells.length; ++i) {\n",
       "                    if (nbb_cells[i].input_prompt_number == nbb_cell_id) {\n",
       "                        if (nbb_cells[i].get_text() == nbb_unformatted_code) {\n",
       "                             nbb_cells[i].set_text(nbb_formatted_code);\n",
       "                        }\n",
       "                        break;\n",
       "                    }\n",
       "                }\n",
       "            }, 500);\n",
       "            "
      ],
      "text/plain": [
       "<IPython.core.display.Javascript object>"
      ]
     },
     "metadata": {},
     "output_type": "display_data"
    }
   ],
   "source": [
    "if CONFIG.debug:\n",
    "    DATA.coo_array = take_random_fraction_of_coo_array(\n",
    "        DATA.coo_array, fraction=CONFIG.debug_dataset_fraction, seed=CONFIG.seed\n",
    "    )"
   ]
  },
  {
   "cell_type": "code",
   "execution_count": 13,
   "id": "5664e88c",
   "metadata": {
    "ExecuteTime": {
     "end_time": "2023-05-08T15:31:19.229600Z",
     "start_time": "2023-05-08T15:31:19.211382Z"
    }
   },
   "outputs": [
    {
     "data": {
      "application/javascript": [
       "\n",
       "            setTimeout(function() {\n",
       "                var nbb_cell_id = 13;\n",
       "                var nbb_unformatted_code = \"@dataclasses.dataclass\\nclass IndexedCooArray:\\n    coo_array: scipy.sparse.coo_array\\n    row_index: np.ndarray\\n    col_index: np.ndarray\\n\\n    def __post_init__(self):\\n        assert self.coo_array.shape == (\\n            len(self.row_index),\\n            len(self.col_index),\\n        ), \\\"Index shapes don't match.\\\"\\n\\n    @property\\n    def shape(self):\\n        return self.coo_array.shape\\n\\n    def get_row_index_series(self):\\n        return pd.Series(index=self.row_index, data=np.arange(self.shape[0]))\\n\\n    def __getitem__(self, index):\\n        coo_array = self.coo_array.tocsr()[index].tocoo()\\n        row_index = self.row_index[index]\\n        col_index = self.col_index\\n        return IndexedCooArray(\\n            coo_array=coo_array, row_index=row_index, col_index=col_index\\n        )\\n\\n\\ndef get_user_bool_index_with_at_least_n_interactions(csr_array, n_interactions: int):\\n    index = csr_array.getnnz(axis=1) >= n_interactions\\n    return index\\n\\n\\ndef get_item_bool_index_with_at_least_n_interactions(csr_array, n_interactions: int):\\n    index = csr_array.getnnz(axis=0) >= n_interactions\\n    return index\\n\\n\\ndef build_filtered_indexed_coo_array(\\n    coo_array,\\n    min_n_user_interactions_for_item: int,\\n    min_n_item_interactions_for_user: int,\\n) -> IndexedCooArray:\\n    csr_array = coo_array.tocsr()\\n    user_index = get_user_bool_index_with_at_least_n_interactions(\\n        csr_array, min_n_item_interactions_for_user\\n    )\\n    item_index = get_item_bool_index_with_at_least_n_interactions(\\n        csr_array, min_n_user_interactions_for_item\\n    )\\n\\n    row_index = np.arange(coo_array.shape[0])[user_index]\\n    col_index = np.arange(coo_array.shape[1])[item_index]\\n\\n    csr_array = csr_array[user_index][:, item_index]\\n    coo_array = csr_array.tocoo()\\n\\n    indexed_coo_array = IndexedCooArray(coo_array, row_index, col_index)\\n    return indexed_coo_array\\n\\n\\ndef remove_n_item_interactions_for_each_user(coo_array, n_items, seed=None):\\n    n_interactions = len(coo_array.data)\\n    index = np.arange(n_interactions)\\n    df = pd.DataFrame(dict(row=coo_array.row, col=coo_array.col, index=index))\\n\\n    try:\\n        df = df.groupby(\\\"row\\\").sample(n_items, random_state=seed)\\n    except ValueError:\\n        raise RuntimeError(f\\\"There are users with less than {n_items} interactions.\\\")\\n\\n    index_to_remove = df[\\\"index\\\"].values\\n    index[:] = True\\n    index[index_to_remove] = False\\n    index = index.astype(bool)\\n\\n    coo_array = slice_coo_array_by_entries_index(coo_array, index)\\n    return coo_array\\n\\n\\ndef train_test_split(\\n    indexed_coo_array: IndexedCooArray,\\n    n_item_interactions_to_split_as_ground_truth,\\n    seed=None,\\n):\\n    test = copy.deepcopy(indexed_coo_array)\\n\\n    train_coo_array = remove_n_item_interactions_for_each_user(\\n        coo_array=indexed_coo_array.coo_array,\\n        n_items=n_item_interactions_to_split_as_ground_truth,\\n        seed=seed,\\n    )\\n\\n    train = indexed_coo_array\\n    train.coo_array = train_coo_array\\n\\n    return train, test\";\n",
       "                var nbb_formatted_code = \"@dataclasses.dataclass\\nclass IndexedCooArray:\\n    coo_array: scipy.sparse.coo_array\\n    row_index: np.ndarray\\n    col_index: np.ndarray\\n\\n    def __post_init__(self):\\n        assert self.coo_array.shape == (\\n            len(self.row_index),\\n            len(self.col_index),\\n        ), \\\"Index shapes don't match.\\\"\\n\\n    @property\\n    def shape(self):\\n        return self.coo_array.shape\\n\\n    def get_row_index_series(self):\\n        return pd.Series(index=self.row_index, data=np.arange(self.shape[0]))\\n\\n    def __getitem__(self, index):\\n        coo_array = self.coo_array.tocsr()[index].tocoo()\\n        row_index = self.row_index[index]\\n        col_index = self.col_index\\n        return IndexedCooArray(\\n            coo_array=coo_array, row_index=row_index, col_index=col_index\\n        )\\n\\n\\ndef get_user_bool_index_with_at_least_n_interactions(csr_array, n_interactions: int):\\n    index = csr_array.getnnz(axis=1) >= n_interactions\\n    return index\\n\\n\\ndef get_item_bool_index_with_at_least_n_interactions(csr_array, n_interactions: int):\\n    index = csr_array.getnnz(axis=0) >= n_interactions\\n    return index\\n\\n\\ndef build_filtered_indexed_coo_array(\\n    coo_array,\\n    min_n_user_interactions_for_item: int,\\n    min_n_item_interactions_for_user: int,\\n) -> IndexedCooArray:\\n    csr_array = coo_array.tocsr()\\n    user_index = get_user_bool_index_with_at_least_n_interactions(\\n        csr_array, min_n_item_interactions_for_user\\n    )\\n    item_index = get_item_bool_index_with_at_least_n_interactions(\\n        csr_array, min_n_user_interactions_for_item\\n    )\\n\\n    row_index = np.arange(coo_array.shape[0])[user_index]\\n    col_index = np.arange(coo_array.shape[1])[item_index]\\n\\n    csr_array = csr_array[user_index][:, item_index]\\n    coo_array = csr_array.tocoo()\\n\\n    indexed_coo_array = IndexedCooArray(coo_array, row_index, col_index)\\n    return indexed_coo_array\\n\\n\\ndef remove_n_item_interactions_for_each_user(coo_array, n_items, seed=None):\\n    n_interactions = len(coo_array.data)\\n    index = np.arange(n_interactions)\\n    df = pd.DataFrame(dict(row=coo_array.row, col=coo_array.col, index=index))\\n\\n    try:\\n        df = df.groupby(\\\"row\\\").sample(n_items, random_state=seed)\\n    except ValueError:\\n        raise RuntimeError(f\\\"There are users with less than {n_items} interactions.\\\")\\n\\n    index_to_remove = df[\\\"index\\\"].values\\n    index[:] = True\\n    index[index_to_remove] = False\\n    index = index.astype(bool)\\n\\n    coo_array = slice_coo_array_by_entries_index(coo_array, index)\\n    return coo_array\\n\\n\\ndef train_test_split(\\n    indexed_coo_array: IndexedCooArray,\\n    n_item_interactions_to_split_as_ground_truth,\\n    seed=None,\\n):\\n    test = copy.deepcopy(indexed_coo_array)\\n\\n    train_coo_array = remove_n_item_interactions_for_each_user(\\n        coo_array=indexed_coo_array.coo_array,\\n        n_items=n_item_interactions_to_split_as_ground_truth,\\n        seed=seed,\\n    )\\n\\n    train = indexed_coo_array\\n    train.coo_array = train_coo_array\\n\\n    return train, test\";\n",
       "                var nbb_cells = Jupyter.notebook.get_cells();\n",
       "                for (var i = 0; i < nbb_cells.length; ++i) {\n",
       "                    if (nbb_cells[i].input_prompt_number == nbb_cell_id) {\n",
       "                        if (nbb_cells[i].get_text() == nbb_unformatted_code) {\n",
       "                             nbb_cells[i].set_text(nbb_formatted_code);\n",
       "                        }\n",
       "                        break;\n",
       "                    }\n",
       "                }\n",
       "            }, 500);\n",
       "            "
      ],
      "text/plain": [
       "<IPython.core.display.Javascript object>"
      ]
     },
     "metadata": {},
     "output_type": "display_data"
    }
   ],
   "source": [
    "@dataclasses.dataclass\n",
    "class IndexedCooArray:\n",
    "    coo_array: scipy.sparse.coo_array\n",
    "    row_index: np.ndarray\n",
    "    col_index: np.ndarray\n",
    "\n",
    "    def __post_init__(self):\n",
    "        assert self.coo_array.shape == (\n",
    "            len(self.row_index),\n",
    "            len(self.col_index),\n",
    "        ), \"Index shapes don't match.\"\n",
    "\n",
    "    @property\n",
    "    def shape(self):\n",
    "        return self.coo_array.shape\n",
    "\n",
    "    def get_row_index_series(self):\n",
    "        return pd.Series(index=self.row_index, data=np.arange(self.shape[0]))\n",
    "\n",
    "    def __getitem__(self, index):\n",
    "        coo_array = self.coo_array.tocsr()[index].tocoo()\n",
    "        row_index = self.row_index[index]\n",
    "        col_index = self.col_index\n",
    "        return IndexedCooArray(\n",
    "            coo_array=coo_array, row_index=row_index, col_index=col_index\n",
    "        )\n",
    "\n",
    "\n",
    "def get_user_bool_index_with_at_least_n_interactions(csr_array, n_interactions: int):\n",
    "    index = csr_array.getnnz(axis=1) >= n_interactions\n",
    "    return index\n",
    "\n",
    "\n",
    "def get_item_bool_index_with_at_least_n_interactions(csr_array, n_interactions: int):\n",
    "    index = csr_array.getnnz(axis=0) >= n_interactions\n",
    "    return index\n",
    "\n",
    "\n",
    "def build_filtered_indexed_coo_array(\n",
    "    coo_array,\n",
    "    min_n_user_interactions_for_item: int,\n",
    "    min_n_item_interactions_for_user: int,\n",
    ") -> IndexedCooArray:\n",
    "    csr_array = coo_array.tocsr()\n",
    "    user_index = get_user_bool_index_with_at_least_n_interactions(\n",
    "        csr_array, min_n_item_interactions_for_user\n",
    "    )\n",
    "    item_index = get_item_bool_index_with_at_least_n_interactions(\n",
    "        csr_array, min_n_user_interactions_for_item\n",
    "    )\n",
    "\n",
    "    row_index = np.arange(coo_array.shape[0])[user_index]\n",
    "    col_index = np.arange(coo_array.shape[1])[item_index]\n",
    "\n",
    "    csr_array = csr_array[user_index][:, item_index]\n",
    "    coo_array = csr_array.tocoo()\n",
    "\n",
    "    indexed_coo_array = IndexedCooArray(coo_array, row_index, col_index)\n",
    "    return indexed_coo_array\n",
    "\n",
    "\n",
    "def remove_n_item_interactions_for_each_user(coo_array, n_items, seed=None):\n",
    "    n_interactions = len(coo_array.data)\n",
    "    index = np.arange(n_interactions)\n",
    "    df = pd.DataFrame(dict(row=coo_array.row, col=coo_array.col, index=index))\n",
    "\n",
    "    try:\n",
    "        df = df.groupby(\"row\").sample(n_items, random_state=seed)\n",
    "    except ValueError:\n",
    "        raise RuntimeError(f\"There are users with less than {n_items} interactions.\")\n",
    "\n",
    "    index_to_remove = df[\"index\"].values\n",
    "    index[:] = True\n",
    "    index[index_to_remove] = False\n",
    "    index = index.astype(bool)\n",
    "\n",
    "    coo_array = slice_coo_array_by_entries_index(coo_array, index)\n",
    "    return coo_array\n",
    "\n",
    "\n",
    "def train_test_split(\n",
    "    indexed_coo_array: IndexedCooArray,\n",
    "    n_item_interactions_to_split_as_ground_truth,\n",
    "    seed=None,\n",
    "):\n",
    "    test = copy.deepcopy(indexed_coo_array)\n",
    "\n",
    "    train_coo_array = remove_n_item_interactions_for_each_user(\n",
    "        coo_array=indexed_coo_array.coo_array,\n",
    "        n_items=n_item_interactions_to_split_as_ground_truth,\n",
    "        seed=seed,\n",
    "    )\n",
    "\n",
    "    train = indexed_coo_array\n",
    "    train.coo_array = train_coo_array\n",
    "\n",
    "    return train, test"
   ]
  },
  {
   "cell_type": "markdown",
   "id": "68463b99",
   "metadata": {},
   "source": [
    "Notice that I decided not to split train and test into disjoint sets, but rather let train be a subset of test, removing n random item interactions from test for each user, where n = `min_n_item_interactions_for_user`, and try to recommend those removed interactions."
   ]
  },
  {
   "cell_type": "code",
   "execution_count": 14,
   "id": "c2025c75",
   "metadata": {
    "ExecuteTime": {
     "end_time": "2023-05-08T15:31:19.560156Z",
     "start_time": "2023-05-08T15:31:19.230626Z"
    }
   },
   "outputs": [
    {
     "data": {
      "application/javascript": [
       "\n",
       "            setTimeout(function() {\n",
       "                var nbb_cell_id = 14;\n",
       "                var nbb_unformatted_code = \"CONFIG.min_n_item_interactions_for_user = 5\\nCONFIG.min_n_user_interactions_for_item = 1\\nCONFIG.n_item_interactions_to_split_as_ground_truth = 1\\n\\nDATA.train_indexed_coo_array, DATA.test_indexed_coo_array = train_test_split(\\n    indexed_coo_array=build_filtered_indexed_coo_array(\\n        coo_array=DATA.coo_array,\\n        min_n_user_interactions_for_item=CONFIG.min_n_user_interactions_for_item,\\n        min_n_item_interactions_for_user=CONFIG.min_n_item_interactions_for_user,\\n    ),\\n    n_item_interactions_to_split_as_ground_truth=CONFIG.n_item_interactions_to_split_as_ground_truth,\\n    seed=CONFIG.seed,\\n)\";\n",
       "                var nbb_formatted_code = \"CONFIG.min_n_item_interactions_for_user = 5\\nCONFIG.min_n_user_interactions_for_item = 1\\nCONFIG.n_item_interactions_to_split_as_ground_truth = 1\\n\\nDATA.train_indexed_coo_array, DATA.test_indexed_coo_array = train_test_split(\\n    indexed_coo_array=build_filtered_indexed_coo_array(\\n        coo_array=DATA.coo_array,\\n        min_n_user_interactions_for_item=CONFIG.min_n_user_interactions_for_item,\\n        min_n_item_interactions_for_user=CONFIG.min_n_item_interactions_for_user,\\n    ),\\n    n_item_interactions_to_split_as_ground_truth=CONFIG.n_item_interactions_to_split_as_ground_truth,\\n    seed=CONFIG.seed,\\n)\";\n",
       "                var nbb_cells = Jupyter.notebook.get_cells();\n",
       "                for (var i = 0; i < nbb_cells.length; ++i) {\n",
       "                    if (nbb_cells[i].input_prompt_number == nbb_cell_id) {\n",
       "                        if (nbb_cells[i].get_text() == nbb_unformatted_code) {\n",
       "                             nbb_cells[i].set_text(nbb_formatted_code);\n",
       "                        }\n",
       "                        break;\n",
       "                    }\n",
       "                }\n",
       "            }, 500);\n",
       "            "
      ],
      "text/plain": [
       "<IPython.core.display.Javascript object>"
      ]
     },
     "metadata": {},
     "output_type": "display_data"
    }
   ],
   "source": [
    "CONFIG.min_n_item_interactions_for_user = 5\n",
    "CONFIG.min_n_user_interactions_for_item = 1\n",
    "CONFIG.n_item_interactions_to_split_as_ground_truth = 1\n",
    "\n",
    "DATA.train_indexed_coo_array, DATA.test_indexed_coo_array = train_test_split(\n",
    "    indexed_coo_array=build_filtered_indexed_coo_array(\n",
    "        coo_array=DATA.coo_array,\n",
    "        min_n_user_interactions_for_item=CONFIG.min_n_user_interactions_for_item,\n",
    "        min_n_item_interactions_for_user=CONFIG.min_n_item_interactions_for_user,\n",
    "    ),\n",
    "    n_item_interactions_to_split_as_ground_truth=CONFIG.n_item_interactions_to_split_as_ground_truth,\n",
    "    seed=CONFIG.seed,\n",
    ")"
   ]
  },
  {
   "cell_type": "markdown",
   "id": "713025fd",
   "metadata": {},
   "source": [
    "## Metrics <span id=Metrics_></span>"
   ]
  },
  {
   "cell_type": "code",
   "execution_count": 373,
   "id": "555fd04a",
   "metadata": {
    "ExecuteTime": {
     "end_time": "2023-05-08T18:43:56.334614Z",
     "start_time": "2023-05-08T18:43:56.306482Z"
    }
   },
   "outputs": [
    {
     "data": {
      "application/javascript": [
       "\n",
       "            setTimeout(function() {\n",
       "                var nbb_cell_id = 373;\n",
       "                var nbb_unformatted_code = \"def binary_relevance(feedback_csr, recommendations):\\n    \\\"\\\"\\\"\\n    Determine whether recommended items are relevant to users based on provided relevant pairs.\\n    :param feedback_csr: csr array or matrix with user feedback\\n    :param recommendee_user_ids: numpy array of shape [n_users] indicating users for whom the\\n    recommendations were generated.\\n    :param recommendations: numpy array of shape [n_users, n_items] with recommended item ids,\\n    with each row corresponding to user_id from recommendee_user_ids, with items sorted in\\n    decreasing predicted relevance.\\n    :return: numpy bool array of shape [n_users, n_items] indicating whether the recommended\\n    [user_id, item_id] pair is in relevant_pairs.\\n    \\\"\\\"\\\"\\n    relevance = njit_binary_relevance(\\n        feedback_csr.indptr, feedback_csr.indices, recommendations\\n    )\\n    return relevance\\n\\n\\n@numba.njit\\ndef njit_binary_relevance(indptr, indices, recommendations):\\n    relevance = np.zeros_like(recommendations)\\n    for i, (begin, end, item_ids) in enumerate(\\n        zip(indptr, indptr[1:], recommendations)\\n    ):\\n        for j, item_id in enumerate(item_ids):\\n            relevance[i, j] = item_id in indices[begin:end]\\n    return relevance\\n\\n\\ndef hitrate(relevance):\\n    \\\"\\\"\\\"\\n    Returns proportion of users who were hit (were recommended at least one relevant item).\\n    This metric is pretty basic and represents an upper bound on other metrics\\n    and the model performance in general.\\n\\n    :param relevance: boolean array of shape [n_users, n_items], representing\\n    relevant recommendations per user.\\n    \\\"\\\"\\\"\\n    hits_per_user = einops.reduce(relevance, \\\"user relevance -> user\\\", np.any)\\n    return np.mean(hits_per_user)\\n\\n\\ndef accuracy(relevance):\\n    \\\"\\\"\\\"Average proportion of relevant recommendations.\\\"\\\"\\\"\\n    return np.mean(relevance)\\n\\n\\ndef mean_reciprocal_rank(relevance):\\n    \\\"\\\"\\\"\\n    Returns average reciprocal rank, i.e. 1 / position, of first relevant item per user.\\n    Represents how far users have to explore their recommendations before encountering\\n    something relevant.\\n    \\\"\\\"\\\"\\n    reciprocal_ranks = 1 / np.arange(1, relevance.shape[1] + 1)\\n    relevant_ranks = np.einsum(\\\"i j, j -> i j\\\", relevance, reciprocal_ranks)\\n    first_relevant_rank = einops.reduce(relevant_ranks, \\\"user rank -> user\\\", np.max)\\n    mrr = np.mean(first_relevant_rank)\\n    return mrr\\n\\n\\ndef compute_metrics(feedback_csr, recommendations: np.ndarray):\\n    relevance = binary_relevance(feedback_csr, recommendations)\\n    metrics = dict(\\n        hitrate=hitrate(relevance=relevance),\\n        accuracy=accuracy(relevance=relevance),\\n        mrr=mean_reciprocal_rank(relevance=relevance),\\n    )\\n    return metrics\";\n",
       "                var nbb_formatted_code = \"def binary_relevance(feedback_csr, recommendations):\\n    \\\"\\\"\\\"\\n    Determine whether recommended items are relevant to users based on provided relevant pairs.\\n    :param feedback_csr: csr array or matrix with user feedback\\n    :param recommendee_user_ids: numpy array of shape [n_users] indicating users for whom the\\n    recommendations were generated.\\n    :param recommendations: numpy array of shape [n_users, n_items] with recommended item ids,\\n    with each row corresponding to user_id from recommendee_user_ids, with items sorted in\\n    decreasing predicted relevance.\\n    :return: numpy bool array of shape [n_users, n_items] indicating whether the recommended\\n    [user_id, item_id] pair is in relevant_pairs.\\n    \\\"\\\"\\\"\\n    relevance = njit_binary_relevance(\\n        feedback_csr.indptr, feedback_csr.indices, recommendations\\n    )\\n    return relevance\\n\\n\\n@numba.njit\\ndef njit_binary_relevance(indptr, indices, recommendations):\\n    relevance = np.zeros_like(recommendations)\\n    for i, (begin, end, item_ids) in enumerate(\\n        zip(indptr, indptr[1:], recommendations)\\n    ):\\n        for j, item_id in enumerate(item_ids):\\n            relevance[i, j] = item_id in indices[begin:end]\\n    return relevance\\n\\n\\ndef hitrate(relevance):\\n    \\\"\\\"\\\"\\n    Returns proportion of users who were hit (were recommended at least one relevant item).\\n    This metric is pretty basic and represents an upper bound on other metrics\\n    and the model performance in general.\\n\\n    :param relevance: boolean array of shape [n_users, n_items], representing\\n    relevant recommendations per user.\\n    \\\"\\\"\\\"\\n    hits_per_user = einops.reduce(relevance, \\\"user relevance -> user\\\", np.any)\\n    return np.mean(hits_per_user)\\n\\n\\ndef accuracy(relevance):\\n    \\\"\\\"\\\"Average proportion of relevant recommendations.\\\"\\\"\\\"\\n    return np.mean(relevance)\\n\\n\\ndef mean_reciprocal_rank(relevance):\\n    \\\"\\\"\\\"\\n    Returns average reciprocal rank, i.e. 1 / position, of first relevant item per user.\\n    Represents how far users have to explore their recommendations before encountering\\n    something relevant.\\n    \\\"\\\"\\\"\\n    reciprocal_ranks = 1 / np.arange(1, relevance.shape[1] + 1)\\n    relevant_ranks = np.einsum(\\\"i j, j -> i j\\\", relevance, reciprocal_ranks)\\n    first_relevant_rank = einops.reduce(relevant_ranks, \\\"user rank -> user\\\", np.max)\\n    mrr = np.mean(first_relevant_rank)\\n    return mrr\\n\\n\\ndef compute_metrics(feedback_csr, recommendations: np.ndarray):\\n    relevance = binary_relevance(feedback_csr, recommendations)\\n    metrics = dict(\\n        hitrate=hitrate(relevance=relevance),\\n        accuracy=accuracy(relevance=relevance),\\n        mrr=mean_reciprocal_rank(relevance=relevance),\\n    )\\n    return metrics\";\n",
       "                var nbb_cells = Jupyter.notebook.get_cells();\n",
       "                for (var i = 0; i < nbb_cells.length; ++i) {\n",
       "                    if (nbb_cells[i].input_prompt_number == nbb_cell_id) {\n",
       "                        if (nbb_cells[i].get_text() == nbb_unformatted_code) {\n",
       "                             nbb_cells[i].set_text(nbb_formatted_code);\n",
       "                        }\n",
       "                        break;\n",
       "                    }\n",
       "                }\n",
       "            }, 500);\n",
       "            "
      ],
      "text/plain": [
       "<IPython.core.display.Javascript object>"
      ]
     },
     "metadata": {},
     "output_type": "display_data"
    }
   ],
   "source": [
    "def binary_relevance(feedback_csr, recommendations):\n",
    "    \"\"\"\n",
    "    Determine whether recommended items are relevant to users based on provided relevant pairs.\n",
    "    :param feedback_csr: csr array or matrix with user feedback\n",
    "    :param recommendee_user_ids: numpy array of shape [n_users] indicating users for whom the\n",
    "    recommendations were generated.\n",
    "    :param recommendations: numpy array of shape [n_users, n_items] with recommended item ids,\n",
    "    with each row corresponding to user_id from recommendee_user_ids, with items sorted in\n",
    "    decreasing predicted relevance.\n",
    "    :return: numpy bool array of shape [n_users, n_items] indicating whether the recommended\n",
    "    [user_id, item_id] pair is in relevant_pairs.\n",
    "    \"\"\"\n",
    "    relevance = njit_binary_relevance(\n",
    "        feedback_csr.indptr, feedback_csr.indices, recommendations\n",
    "    )\n",
    "    return relevance\n",
    "\n",
    "\n",
    "@numba.njit\n",
    "def njit_binary_relevance(indptr, indices, recommendations):\n",
    "    relevance = np.zeros_like(recommendations)\n",
    "    for i, (begin, end, item_ids) in enumerate(\n",
    "        zip(indptr, indptr[1:], recommendations)\n",
    "    ):\n",
    "        for j, item_id in enumerate(item_ids):\n",
    "            relevance[i, j] = item_id in indices[begin:end]\n",
    "    return relevance\n",
    "\n",
    "\n",
    "def hitrate(relevance):\n",
    "    \"\"\"\n",
    "    Returns proportion of users who were hit (were recommended at least one relevant item).\n",
    "    This metric is pretty basic and represents an upper bound on other metrics\n",
    "    and the model performance in general.\n",
    "\n",
    "    :param relevance: boolean array of shape [n_users, n_items], representing\n",
    "    relevant recommendations per user.\n",
    "    \"\"\"\n",
    "    hits_per_user = einops.reduce(relevance, \"user relevance -> user\", np.any)\n",
    "    return np.mean(hits_per_user)\n",
    "\n",
    "\n",
    "def accuracy(relevance):\n",
    "    \"\"\"Average proportion of relevant recommendations.\"\"\"\n",
    "    return np.mean(relevance)\n",
    "\n",
    "\n",
    "def mean_reciprocal_rank(relevance):\n",
    "    \"\"\"\n",
    "    Returns average reciprocal rank, i.e. 1 / position, of first relevant item per user.\n",
    "    Represents how far users have to explore their recommendations before encountering\n",
    "    something relevant.\n",
    "    \"\"\"\n",
    "    reciprocal_ranks = 1 / np.arange(1, relevance.shape[1] + 1)\n",
    "    relevant_ranks = np.einsum(\"i j, j -> i j\", relevance, reciprocal_ranks)\n",
    "    first_relevant_rank = einops.reduce(relevant_ranks, \"user rank -> user\", np.max)\n",
    "    mrr = np.mean(first_relevant_rank)\n",
    "    return mrr\n",
    "\n",
    "\n",
    "def compute_metrics(feedback_csr, recommendations: np.ndarray):\n",
    "    relevance = binary_relevance(feedback_csr, recommendations)\n",
    "    metrics = dict(\n",
    "        hitrate=hitrate(relevance=relevance),\n",
    "        accuracy=accuracy(relevance=relevance),\n",
    "        mrr=mean_reciprocal_rank(relevance=relevance),\n",
    "    )\n",
    "    return metrics"
   ]
  },
  {
   "cell_type": "code",
   "execution_count": 374,
   "id": "9fb99b25",
   "metadata": {
    "ExecuteTime": {
     "end_time": "2023-05-08T18:43:56.668157Z",
     "start_time": "2023-05-08T18:43:56.637289Z"
    }
   },
   "outputs": [
    {
     "data": {
      "application/javascript": [
       "\n",
       "            setTimeout(function() {\n",
       "                var nbb_cell_id = 374;\n",
       "                var nbb_unformatted_code = \"def ratings_to_recommendations(ratings: np.ndarray, n_recommendations):\\n    ratings = torch.from_numpy(ratings)\\n    item_ratings, item_ids = torch.topk(input=ratings, k=n_recommendations)\\n    item_ids = item_ids.numpy()\\n    return item_ids\\n\\n\\ndef filter_familiar_item_ratings(ratings, known_feedback):\\n    ratings = np.where(known_feedback == 0, ratings, -np.inf)\\n    return ratings\\n\\n\\ndef ratings_to_filtered_recommendations(\\n    ratings: np.ndarray, feedback_csr, n_recommendations\\n):\\n    assert (\\n        ratings.shape == feedback_csr.shape\\n    ), f\\\"{ratings.shape} != {feedback_csr.shape}\\\"\\n    ratings = filter_familiar_item_ratings(ratings, feedback_csr.todense())\\n    recommendations = ratings_to_recommendations(ratings, n_recommendations)\\n    return recommendations\\n\\n\\ndef ratings_to_metrics(\\n    known_feedback_csr, updated_feedback_csr, ratings, n_recommendations\\n):\\n    recommendations = ratings_to_filtered_recommendations(\\n        ratings, known_feedback_csr, n_recommendations\\n    )\\n    new_feedback_csr = updated_feedback_csr - known_feedback_csr\\n    metrics = compute_metrics(new_feedback_csr, recommendations)\\n    return metrics\\n\\n\\ndef batched_compute_metrics(\\n    model: sklearn.base.BaseEstimator,\\n    train_indexed_coo_array,\\n    test_indexed_coo_array,\\n    n_recommendations,\\n    batch_size,\\n):\\n    assert train_indexed_coo_array.shape == test_indexed_coo_array.shape\\n    metrics = collections.defaultdict(lambda: 0)\\n    n_users = train_indexed_coo_array.shape[0]\\n\\n    for index in torch.split(torch.arange(n_users), batch_size):\\n        batch_ratings = model.predict(train_indexed_coo_array[index])\\n\\n        batch_metrics = ratings_to_metrics(\\n            known_feedback_csr=train_indexed_coo_array[index].coo_array.tocsr(),\\n            updated_feedback_csr=test_indexed_coo_array[index].coo_array.tocsr(),\\n            ratings=batch_ratings,\\n            n_recommendations=n_recommendations,\\n        )\\n\\n        batch_weight = len(index) / n_users\\n        for key, value in batch_metrics.items():\\n            metrics[key] += value * batch_weight\\n\\n    metrics = dict(metrics)\\n    return metrics\";\n",
       "                var nbb_formatted_code = \"def ratings_to_recommendations(ratings: np.ndarray, n_recommendations):\\n    ratings = torch.from_numpy(ratings)\\n    item_ratings, item_ids = torch.topk(input=ratings, k=n_recommendations)\\n    item_ids = item_ids.numpy()\\n    return item_ids\\n\\n\\ndef filter_familiar_item_ratings(ratings, known_feedback):\\n    ratings = np.where(known_feedback == 0, ratings, -np.inf)\\n    return ratings\\n\\n\\ndef ratings_to_filtered_recommendations(\\n    ratings: np.ndarray, feedback_csr, n_recommendations\\n):\\n    assert (\\n        ratings.shape == feedback_csr.shape\\n    ), f\\\"{ratings.shape} != {feedback_csr.shape}\\\"\\n    ratings = filter_familiar_item_ratings(ratings, feedback_csr.todense())\\n    recommendations = ratings_to_recommendations(ratings, n_recommendations)\\n    return recommendations\\n\\n\\ndef ratings_to_metrics(\\n    known_feedback_csr, updated_feedback_csr, ratings, n_recommendations\\n):\\n    recommendations = ratings_to_filtered_recommendations(\\n        ratings, known_feedback_csr, n_recommendations\\n    )\\n    new_feedback_csr = updated_feedback_csr - known_feedback_csr\\n    metrics = compute_metrics(new_feedback_csr, recommendations)\\n    return metrics\\n\\n\\ndef batched_compute_metrics(\\n    model: sklearn.base.BaseEstimator,\\n    train_indexed_coo_array,\\n    test_indexed_coo_array,\\n    n_recommendations,\\n    batch_size,\\n):\\n    assert train_indexed_coo_array.shape == test_indexed_coo_array.shape\\n    metrics = collections.defaultdict(lambda: 0)\\n    n_users = train_indexed_coo_array.shape[0]\\n\\n    for index in torch.split(torch.arange(n_users), batch_size):\\n        batch_ratings = model.predict(train_indexed_coo_array[index])\\n\\n        batch_metrics = ratings_to_metrics(\\n            known_feedback_csr=train_indexed_coo_array[index].coo_array.tocsr(),\\n            updated_feedback_csr=test_indexed_coo_array[index].coo_array.tocsr(),\\n            ratings=batch_ratings,\\n            n_recommendations=n_recommendations,\\n        )\\n\\n        batch_weight = len(index) / n_users\\n        for key, value in batch_metrics.items():\\n            metrics[key] += value * batch_weight\\n\\n    metrics = dict(metrics)\\n    return metrics\";\n",
       "                var nbb_cells = Jupyter.notebook.get_cells();\n",
       "                for (var i = 0; i < nbb_cells.length; ++i) {\n",
       "                    if (nbb_cells[i].input_prompt_number == nbb_cell_id) {\n",
       "                        if (nbb_cells[i].get_text() == nbb_unformatted_code) {\n",
       "                             nbb_cells[i].set_text(nbb_formatted_code);\n",
       "                        }\n",
       "                        break;\n",
       "                    }\n",
       "                }\n",
       "            }, 500);\n",
       "            "
      ],
      "text/plain": [
       "<IPython.core.display.Javascript object>"
      ]
     },
     "metadata": {},
     "output_type": "display_data"
    }
   ],
   "source": [
    "def ratings_to_recommendations(ratings: np.ndarray, n_recommendations):\n",
    "    ratings = torch.from_numpy(ratings)\n",
    "    item_ratings, item_ids = torch.topk(input=ratings, k=n_recommendations)\n",
    "    item_ids = item_ids.numpy()\n",
    "    return item_ids\n",
    "\n",
    "\n",
    "def filter_familiar_item_ratings(ratings, known_feedback):\n",
    "    ratings = np.where(known_feedback == 0, ratings, -np.inf)\n",
    "    return ratings\n",
    "\n",
    "\n",
    "def ratings_to_filtered_recommendations(\n",
    "    ratings: np.ndarray, feedback_csr, n_recommendations\n",
    "):\n",
    "    assert (\n",
    "        ratings.shape == feedback_csr.shape\n",
    "    ), f\"{ratings.shape} != {feedback_csr.shape}\"\n",
    "    ratings = filter_familiar_item_ratings(ratings, feedback_csr.todense())\n",
    "    recommendations = ratings_to_recommendations(ratings, n_recommendations)\n",
    "    return recommendations\n",
    "\n",
    "\n",
    "def ratings_to_metrics(\n",
    "    known_feedback_csr, updated_feedback_csr, ratings, n_recommendations\n",
    "):\n",
    "    recommendations = ratings_to_filtered_recommendations(\n",
    "        ratings, known_feedback_csr, n_recommendations\n",
    "    )\n",
    "    new_feedback_csr = updated_feedback_csr - known_feedback_csr\n",
    "    metrics = compute_metrics(new_feedback_csr, recommendations)\n",
    "    return metrics\n",
    "\n",
    "\n",
    "def batched_compute_metrics(\n",
    "    model: sklearn.base.BaseEstimator,\n",
    "    train_indexed_coo_array,\n",
    "    test_indexed_coo_array,\n",
    "    n_recommendations,\n",
    "    batch_size,\n",
    "):\n",
    "    assert train_indexed_coo_array.shape == test_indexed_coo_array.shape\n",
    "    metrics = collections.defaultdict(lambda: 0)\n",
    "    n_users = train_indexed_coo_array.shape[0]\n",
    "\n",
    "    for index in torch.split(torch.arange(n_users), batch_size):\n",
    "        batch_ratings = model.predict(train_indexed_coo_array[index])\n",
    "\n",
    "        batch_metrics = ratings_to_metrics(\n",
    "            known_feedback_csr=train_indexed_coo_array[index].coo_array.tocsr(),\n",
    "            updated_feedback_csr=test_indexed_coo_array[index].coo_array.tocsr(),\n",
    "            ratings=batch_ratings,\n",
    "            n_recommendations=n_recommendations,\n",
    "        )\n",
    "\n",
    "        batch_weight = len(index) / n_users\n",
    "        for key, value in batch_metrics.items():\n",
    "            metrics[key] += value * batch_weight\n",
    "\n",
    "    metrics = dict(metrics)\n",
    "    return metrics"
   ]
  },
  {
   "cell_type": "markdown",
   "id": "a9d6aacb",
   "metadata": {},
   "source": [
    "## Model <span id=Model_></span>"
   ]
  },
  {
   "cell_type": "markdown",
   "id": "a2c4e197",
   "metadata": {},
   "source": [
    "### Popular <span id=Popular_></span>"
   ]
  },
  {
   "cell_type": "code",
   "execution_count": 17,
   "id": "fef71967",
   "metadata": {
    "ExecuteTime": {
     "end_time": "2023-05-08T15:31:19.591262Z",
     "start_time": "2023-05-08T15:31:19.586618Z"
    }
   },
   "outputs": [
    {
     "data": {
      "application/javascript": [
       "\n",
       "            setTimeout(function() {\n",
       "                var nbb_cell_id = 17;\n",
       "                var nbb_unformatted_code = \"@dataclasses.dataclass\\nclass PopularRecommender(sklearn.base.BaseEstimator):\\n    items_count: np.ndarray or None = None\\n\\n    def fit(self, train_indexed_coo_array: IndexedCooArray, y=None):\\n        self.items_count = train_indexed_coo_array.coo_array.sum(axis=0)\\n\\n    def predict(self, indexed_coo_array: IndexedCooArray):\\n        n_users = indexed_coo_array.coo_array.shape[0]\\n        ratings = np.tile(self.items_count, (n_users, 1))\\n        return ratings\";\n",
       "                var nbb_formatted_code = \"@dataclasses.dataclass\\nclass PopularRecommender(sklearn.base.BaseEstimator):\\n    items_count: np.ndarray or None = None\\n\\n    def fit(self, train_indexed_coo_array: IndexedCooArray, y=None):\\n        self.items_count = train_indexed_coo_array.coo_array.sum(axis=0)\\n\\n    def predict(self, indexed_coo_array: IndexedCooArray):\\n        n_users = indexed_coo_array.coo_array.shape[0]\\n        ratings = np.tile(self.items_count, (n_users, 1))\\n        return ratings\";\n",
       "                var nbb_cells = Jupyter.notebook.get_cells();\n",
       "                for (var i = 0; i < nbb_cells.length; ++i) {\n",
       "                    if (nbb_cells[i].input_prompt_number == nbb_cell_id) {\n",
       "                        if (nbb_cells[i].get_text() == nbb_unformatted_code) {\n",
       "                             nbb_cells[i].set_text(nbb_formatted_code);\n",
       "                        }\n",
       "                        break;\n",
       "                    }\n",
       "                }\n",
       "            }, 500);\n",
       "            "
      ],
      "text/plain": [
       "<IPython.core.display.Javascript object>"
      ]
     },
     "metadata": {},
     "output_type": "display_data"
    }
   ],
   "source": [
    "@dataclasses.dataclass\n",
    "class PopularRecommender(sklearn.base.BaseEstimator):\n",
    "    items_count: np.ndarray or None = None\n",
    "\n",
    "    def fit(self, train_indexed_coo_array: IndexedCooArray, y=None):\n",
    "        self.items_count = train_indexed_coo_array.coo_array.sum(axis=0)\n",
    "\n",
    "    def predict(self, indexed_coo_array: IndexedCooArray):\n",
    "        n_users = indexed_coo_array.coo_array.shape[0]\n",
    "        ratings = np.tile(self.items_count, (n_users, 1))\n",
    "        return ratings"
   ]
  },
  {
   "cell_type": "markdown",
   "id": "1a0adf8b",
   "metadata": {},
   "source": [
    "### SVD <span id=SVD_></span>"
   ]
  },
  {
   "cell_type": "code",
   "execution_count": 18,
   "id": "66cd79f0",
   "metadata": {
    "ExecuteTime": {
     "end_time": "2023-05-08T15:31:19.598221Z",
     "start_time": "2023-05-08T15:31:19.592203Z"
    }
   },
   "outputs": [
    {
     "data": {
      "application/javascript": [
       "\n",
       "            setTimeout(function() {\n",
       "                var nbb_cell_id = 18;\n",
       "                var nbb_unformatted_code = \"class SVDRecommender(sklearn.base.BaseEstimator):\\n    def __init__(self, latent_dimension_size: int = 10):\\n        self.svd = sklearn.decomposition.TruncatedSVD(\\n            n_components=latent_dimension_size\\n        )\\n\\n    def fit(self, train_indexed_coo_array: IndexedCooArray, y=None):\\n        self.svd.fit(train_indexed_coo_array.coo_array)\\n\\n    def predict(self, indexed_coo_array: IndexedCooArray):\\n        embedding = self.svd.transform(indexed_coo_array.coo_array)\\n        ratings = self.svd.inverse_transform(embedding)\\n        return ratings\";\n",
       "                var nbb_formatted_code = \"class SVDRecommender(sklearn.base.BaseEstimator):\\n    def __init__(self, latent_dimension_size: int = 10):\\n        self.svd = sklearn.decomposition.TruncatedSVD(\\n            n_components=latent_dimension_size\\n        )\\n\\n    def fit(self, train_indexed_coo_array: IndexedCooArray, y=None):\\n        self.svd.fit(train_indexed_coo_array.coo_array)\\n\\n    def predict(self, indexed_coo_array: IndexedCooArray):\\n        embedding = self.svd.transform(indexed_coo_array.coo_array)\\n        ratings = self.svd.inverse_transform(embedding)\\n        return ratings\";\n",
       "                var nbb_cells = Jupyter.notebook.get_cells();\n",
       "                for (var i = 0; i < nbb_cells.length; ++i) {\n",
       "                    if (nbb_cells[i].input_prompt_number == nbb_cell_id) {\n",
       "                        if (nbb_cells[i].get_text() == nbb_unformatted_code) {\n",
       "                             nbb_cells[i].set_text(nbb_formatted_code);\n",
       "                        }\n",
       "                        break;\n",
       "                    }\n",
       "                }\n",
       "            }, 500);\n",
       "            "
      ],
      "text/plain": [
       "<IPython.core.display.Javascript object>"
      ]
     },
     "metadata": {},
     "output_type": "display_data"
    }
   ],
   "source": [
    "class SVDRecommender(sklearn.base.BaseEstimator):\n",
    "    def __init__(self, latent_dimension_size: int = 10):\n",
    "        self.svd = sklearn.decomposition.TruncatedSVD(\n",
    "            n_components=latent_dimension_size\n",
    "        )\n",
    "\n",
    "    def fit(self, train_indexed_coo_array: IndexedCooArray, y=None):\n",
    "        self.svd.fit(train_indexed_coo_array.coo_array)\n",
    "\n",
    "    def predict(self, indexed_coo_array: IndexedCooArray):\n",
    "        embedding = self.svd.transform(indexed_coo_array.coo_array)\n",
    "        ratings = self.svd.inverse_transform(embedding)\n",
    "        return ratings"
   ]
  },
  {
   "cell_type": "markdown",
   "id": "eef659c5",
   "metadata": {
    "ExecuteTime": {
     "end_time": "2023-05-07T18:57:21.409633Z",
     "start_time": "2023-05-07T18:57:21.404884Z"
    }
   },
   "source": [
    "### Item2Item <span id=Item2Item_></span>"
   ]
  },
  {
   "cell_type": "code",
   "execution_count": 19,
   "id": "1ab7f622",
   "metadata": {
    "ExecuteTime": {
     "end_time": "2023-05-08T15:31:19.608076Z",
     "start_time": "2023-05-08T15:31:19.600159Z"
    }
   },
   "outputs": [
    {
     "data": {
      "application/javascript": [
       "\n",
       "            setTimeout(function() {\n",
       "                var nbb_cell_id = 19;\n",
       "                var nbb_unformatted_code = \"def cosine_similarity(left, right) -> torch.Tensor:\\n    def masked_norm(csr):\\n        norm = (csr**2).sum(1) ** 0.5\\n        norm[norm == 0] = 1\\n        return norm\\n\\n    similarity = left @ right.T\\n    similarity /= masked_norm(left).reshape(-1, 1)\\n    similarity /= masked_norm(right).reshape(1, -1)\\n    return similarity\\n\\n\\ndef scipy_coo_to_torch_coo(coo):\\n    return torch.sparse_coo_tensor(indices=[coo.row, coo.col], values=coo.data)\\n\\n\\n@dataclasses.dataclass\\nclass Item2Item(sklearn.base.BaseEstimator):\\n    similarity: Callable\\n    train_csr_feedback: scipy.sparse.csr_array or None = None\\n\\n    def fit(self, train_indexed_coo_array, y=None):\\n        self.train_csr_feedback = train_indexed_coo_array.coo_array.tocsr()\\n\\n    def predict(self, indexed_coo_array):\\n        csr_feedback = indexed_coo_array.coo_array.tocsr()\\n        item_index = get_item_bool_index_with_at_least_n_interactions(csr_feedback, 1)\\n        item_feedback = self.train_csr_feedback[:, item_index]\\n\\n        item_similarity_matrix = self.similarity(\\n            item_feedback.T, self.train_csr_feedback.T\\n        )\\n\\n        ratings = csr_feedback[:, item_index] @ item_similarity_matrix\\n        return ratings\";\n",
       "                var nbb_formatted_code = \"def cosine_similarity(left, right) -> torch.Tensor:\\n    def masked_norm(csr):\\n        norm = (csr**2).sum(1) ** 0.5\\n        norm[norm == 0] = 1\\n        return norm\\n\\n    similarity = left @ right.T\\n    similarity /= masked_norm(left).reshape(-1, 1)\\n    similarity /= masked_norm(right).reshape(1, -1)\\n    return similarity\\n\\n\\ndef scipy_coo_to_torch_coo(coo):\\n    return torch.sparse_coo_tensor(indices=[coo.row, coo.col], values=coo.data)\\n\\n\\n@dataclasses.dataclass\\nclass Item2Item(sklearn.base.BaseEstimator):\\n    similarity: Callable\\n    train_csr_feedback: scipy.sparse.csr_array or None = None\\n\\n    def fit(self, train_indexed_coo_array, y=None):\\n        self.train_csr_feedback = train_indexed_coo_array.coo_array.tocsr()\\n\\n    def predict(self, indexed_coo_array):\\n        csr_feedback = indexed_coo_array.coo_array.tocsr()\\n        item_index = get_item_bool_index_with_at_least_n_interactions(csr_feedback, 1)\\n        item_feedback = self.train_csr_feedback[:, item_index]\\n\\n        item_similarity_matrix = self.similarity(\\n            item_feedback.T, self.train_csr_feedback.T\\n        )\\n\\n        ratings = csr_feedback[:, item_index] @ item_similarity_matrix\\n        return ratings\";\n",
       "                var nbb_cells = Jupyter.notebook.get_cells();\n",
       "                for (var i = 0; i < nbb_cells.length; ++i) {\n",
       "                    if (nbb_cells[i].input_prompt_number == nbb_cell_id) {\n",
       "                        if (nbb_cells[i].get_text() == nbb_unformatted_code) {\n",
       "                             nbb_cells[i].set_text(nbb_formatted_code);\n",
       "                        }\n",
       "                        break;\n",
       "                    }\n",
       "                }\n",
       "            }, 500);\n",
       "            "
      ],
      "text/plain": [
       "<IPython.core.display.Javascript object>"
      ]
     },
     "metadata": {},
     "output_type": "display_data"
    }
   ],
   "source": [
    "def cosine_similarity(left, right) -> torch.Tensor:\n",
    "    def masked_norm(csr):\n",
    "        norm = (csr**2).sum(1) ** 0.5\n",
    "        norm[norm == 0] = 1\n",
    "        return norm\n",
    "\n",
    "    similarity = left @ right.T\n",
    "    similarity /= masked_norm(left).reshape(-1, 1)\n",
    "    similarity /= masked_norm(right).reshape(1, -1)\n",
    "    return similarity\n",
    "\n",
    "\n",
    "def scipy_coo_to_torch_coo(coo):\n",
    "    return torch.sparse_coo_tensor(indices=[coo.row, coo.col], values=coo.data)\n",
    "\n",
    "\n",
    "@dataclasses.dataclass\n",
    "class Item2Item(sklearn.base.BaseEstimator):\n",
    "    similarity: Callable\n",
    "    train_csr_feedback: scipy.sparse.csr_array or None = None\n",
    "\n",
    "    def fit(self, train_indexed_coo_array, y=None):\n",
    "        self.train_csr_feedback = train_indexed_coo_array.coo_array.tocsr()\n",
    "\n",
    "    def predict(self, indexed_coo_array):\n",
    "        csr_feedback = indexed_coo_array.coo_array.tocsr()\n",
    "        item_index = get_item_bool_index_with_at_least_n_interactions(csr_feedback, 1)\n",
    "        item_feedback = self.train_csr_feedback[:, item_index]\n",
    "\n",
    "        item_similarity_matrix = self.similarity(\n",
    "            item_feedback.T, self.train_csr_feedback.T\n",
    "        )\n",
    "\n",
    "        ratings = csr_feedback[:, item_index] @ item_similarity_matrix\n",
    "        return ratings"
   ]
  },
  {
   "cell_type": "markdown",
   "id": "d6a6cca8",
   "metadata": {},
   "source": [
    "### ALS <span id=ALS_></span>"
   ]
  },
  {
   "cell_type": "code",
   "execution_count": 20,
   "id": "bafa99c9",
   "metadata": {
    "ExecuteTime": {
     "end_time": "2023-05-08T15:31:19.622889Z",
     "start_time": "2023-05-08T15:31:19.609328Z"
    }
   },
   "outputs": [
    {
     "data": {
      "application/javascript": [
       "\n",
       "            setTimeout(function() {\n",
       "                var nbb_cell_id = 20;\n",
       "                var nbb_unformatted_code = \"class ALS(sklearn.base.BaseEstimator):\\n    def __init__(\\n        self,\\n        n_users,\\n        n_items,\\n        epochs=10,\\n        latent_dimension_size=10,\\n        regularization_lambda=100,\\n        lambda_decay=0.75,\\n    ):\\n        self.user_factors = build_weight(n_users, latent_dimension_size)\\n        self.user_factors.requires_grad = False\\n\\n        self.item_factors = build_weight(n_items, latent_dimension_size)\\n        self.item_factors.requires_grad = False\\n\\n        self.epochs = epochs\\n        self.regularization_lambda = regularization_lambda\\n        self.lambda_decay = lambda_decay\\n\\n        self.preference = None\\n\\n        self.row_index_series: pd.Series or None = None\\n\\n    def fit(self, train_indexed_coo_array):\\n        self.row_index_series = train_indexed_coo_array.get_row_index_series()\\n        self.init_preference_confidence(train_indexed_coo_array.coo_array)\\n\\n        for _ in tqdm(range(self.epochs), \\\"Alternating\\\"):\\n            self.least_squares_optimization_with_fixed_factors(fixed=\\\"items\\\")\\n            self.least_squares_optimization_with_fixed_factors(fixed=\\\"users\\\")\\n            self.regularization_lambda *= self.lambda_decay\\n\\n    def init_preference_confidence(self, explicit_feedback):\\n        implicit_feedback = (explicit_feedback > 0).astype(np.float32)\\n        self.preference = implicit_feedback\\n\\n    def least_squares_optimization_with_fixed_factors(\\n        self, fixed: Literal[\\\"users\\\", \\\"items\\\"]\\n    ):\\n        X = self.item_factors.numpy()\\n        Y = self.user_factors.numpy()\\n        P = self.preference\\n\\n        if fixed == \\\"items\\\":\\n            X, Y = Y, X\\n            P = P.T\\n\\n        YtY_plus_lambdaI = Y.T @ Y + self.regularization_lambda * np.eye(Y.shape[1])\\n        X.T[:] = np.linalg.inv(YtY_plus_lambdaI) @ Y.T @ P\\n\\n    def predict(self, indexed_coo_array):\\n        user_ids = self.row_index_series.loc[indexed_coo_array.row_index].values\\n        ratings = self.user_factors[user_ids] @ self.item_factors.T\\n        return ratings\";\n",
       "                var nbb_formatted_code = \"class ALS(sklearn.base.BaseEstimator):\\n    def __init__(\\n        self,\\n        n_users,\\n        n_items,\\n        epochs=10,\\n        latent_dimension_size=10,\\n        regularization_lambda=100,\\n        lambda_decay=0.75,\\n    ):\\n        self.user_factors = build_weight(n_users, latent_dimension_size)\\n        self.user_factors.requires_grad = False\\n\\n        self.item_factors = build_weight(n_items, latent_dimension_size)\\n        self.item_factors.requires_grad = False\\n\\n        self.epochs = epochs\\n        self.regularization_lambda = regularization_lambda\\n        self.lambda_decay = lambda_decay\\n\\n        self.preference = None\\n\\n        self.row_index_series: pd.Series or None = None\\n\\n    def fit(self, train_indexed_coo_array):\\n        self.row_index_series = train_indexed_coo_array.get_row_index_series()\\n        self.init_preference_confidence(train_indexed_coo_array.coo_array)\\n\\n        for _ in tqdm(range(self.epochs), \\\"Alternating\\\"):\\n            self.least_squares_optimization_with_fixed_factors(fixed=\\\"items\\\")\\n            self.least_squares_optimization_with_fixed_factors(fixed=\\\"users\\\")\\n            self.regularization_lambda *= self.lambda_decay\\n\\n    def init_preference_confidence(self, explicit_feedback):\\n        implicit_feedback = (explicit_feedback > 0).astype(np.float32)\\n        self.preference = implicit_feedback\\n\\n    def least_squares_optimization_with_fixed_factors(\\n        self, fixed: Literal[\\\"users\\\", \\\"items\\\"]\\n    ):\\n        X = self.item_factors.numpy()\\n        Y = self.user_factors.numpy()\\n        P = self.preference\\n\\n        if fixed == \\\"items\\\":\\n            X, Y = Y, X\\n            P = P.T\\n\\n        YtY_plus_lambdaI = Y.T @ Y + self.regularization_lambda * np.eye(Y.shape[1])\\n        X.T[:] = np.linalg.inv(YtY_plus_lambdaI) @ Y.T @ P\\n\\n    def predict(self, indexed_coo_array):\\n        user_ids = self.row_index_series.loc[indexed_coo_array.row_index].values\\n        ratings = self.user_factors[user_ids] @ self.item_factors.T\\n        return ratings\";\n",
       "                var nbb_cells = Jupyter.notebook.get_cells();\n",
       "                for (var i = 0; i < nbb_cells.length; ++i) {\n",
       "                    if (nbb_cells[i].input_prompt_number == nbb_cell_id) {\n",
       "                        if (nbb_cells[i].get_text() == nbb_unformatted_code) {\n",
       "                             nbb_cells[i].set_text(nbb_formatted_code);\n",
       "                        }\n",
       "                        break;\n",
       "                    }\n",
       "                }\n",
       "            }, 500);\n",
       "            "
      ],
      "text/plain": [
       "<IPython.core.display.Javascript object>"
      ]
     },
     "metadata": {},
     "output_type": "display_data"
    }
   ],
   "source": [
    "class ALS(sklearn.base.BaseEstimator):\n",
    "    def __init__(\n",
    "        self,\n",
    "        n_users,\n",
    "        n_items,\n",
    "        epochs=10,\n",
    "        latent_dimension_size=10,\n",
    "        regularization_lambda=100,\n",
    "        lambda_decay=0.75,\n",
    "    ):\n",
    "        self.user_factors = build_weight(n_users, latent_dimension_size)\n",
    "        self.user_factors.requires_grad = False\n",
    "\n",
    "        self.item_factors = build_weight(n_items, latent_dimension_size)\n",
    "        self.item_factors.requires_grad = False\n",
    "\n",
    "        self.epochs = epochs\n",
    "        self.regularization_lambda = regularization_lambda\n",
    "        self.lambda_decay = lambda_decay\n",
    "\n",
    "        self.preference = None\n",
    "\n",
    "        self.row_index_series: pd.Series or None = None\n",
    "\n",
    "    def fit(self, train_indexed_coo_array):\n",
    "        self.row_index_series = train_indexed_coo_array.get_row_index_series()\n",
    "        self.init_preference_confidence(train_indexed_coo_array.coo_array)\n",
    "\n",
    "        for _ in tqdm(range(self.epochs), \"Alternating\"):\n",
    "            self.least_squares_optimization_with_fixed_factors(fixed=\"items\")\n",
    "            self.least_squares_optimization_with_fixed_factors(fixed=\"users\")\n",
    "            self.regularization_lambda *= self.lambda_decay\n",
    "\n",
    "    def init_preference_confidence(self, explicit_feedback):\n",
    "        implicit_feedback = (explicit_feedback > 0).astype(np.float32)\n",
    "        self.preference = implicit_feedback\n",
    "\n",
    "    def least_squares_optimization_with_fixed_factors(\n",
    "        self, fixed: Literal[\"users\", \"items\"]\n",
    "    ):\n",
    "        X = self.item_factors.numpy()\n",
    "        Y = self.user_factors.numpy()\n",
    "        P = self.preference\n",
    "\n",
    "        if fixed == \"items\":\n",
    "            X, Y = Y, X\n",
    "            P = P.T\n",
    "\n",
    "        YtY_plus_lambdaI = Y.T @ Y + self.regularization_lambda * np.eye(Y.shape[1])\n",
    "        X.T[:] = np.linalg.inv(YtY_plus_lambdaI) @ Y.T @ P\n",
    "\n",
    "    def predict(self, indexed_coo_array):\n",
    "        user_ids = self.row_index_series.loc[indexed_coo_array.row_index].values\n",
    "        ratings = self.user_factors[user_ids] @ self.item_factors.T\n",
    "        return ratings"
   ]
  },
  {
   "cell_type": "markdown",
   "id": "6e0ebbe1",
   "metadata": {},
   "source": [
    "### Implicit ALS <span id=Implicit_ALS_></span>"
   ]
  },
  {
   "cell_type": "code",
   "execution_count": 21,
   "id": "6e0e6c70",
   "metadata": {
    "ExecuteTime": {
     "end_time": "2023-05-08T15:31:19.663313Z",
     "start_time": "2023-05-08T15:31:19.625965Z"
    }
   },
   "outputs": [
    {
     "data": {
      "application/javascript": [
       "\n",
       "            setTimeout(function() {\n",
       "                var nbb_cell_id = 21;\n",
       "                var nbb_unformatted_code = \"class ImplicitALS(sklearn.base.BaseEstimator):\\n    def __init__(\\n        self,\\n        n_users,\\n        n_items,\\n        epochs=10,\\n        latent_dimension_size=10,\\n        regularization_lambda=100,\\n        confidence_alpha=10,\\n        lambda_decay=0.75,\\n        num_threads=4,\\n    ):\\n        numba.config.NUMBA_NUM_THREADS = num_threads\\n        numba.config.THREADING_LAYER = \\\"threadsafe\\\"\\n        numba.set_num_threads(num_threads)\\n\\n        self.bias = build_bias(1)\\n        self.bias.requires_grad = False\\n\\n        self.user_factors = build_weight(n_users, latent_dimension_size + 2)\\n        self.user_factors.requires_grad = False\\n        self.user_factors[:, 0] = 1\\n\\n        self.item_factors = build_weight(n_items, latent_dimension_size + 2)\\n        self.item_factors.requires_grad = False\\n        self.item_factors[:, 1] = 1\\n\\n        self.epochs = epochs\\n        self.regularization_lambda = regularization_lambda\\n        self.confidence_alpha = confidence_alpha\\n        self.lambda_decay = lambda_decay\\n\\n        self.confidence_x_preference = None\\n        self.confidence_minus_1 = None\\n        self.preference = None\\n\\n        self.row_index_series: pd.Series or None = None\\n\\n    def fit(self, train_indexed_coo_array):\\n        self.row_index_series = train_indexed_coo_array.get_row_index_series()\\n\\n        self.init_preference_confidence(train_indexed_coo_array.coo_array)\\n\\n        for _ in tqdm(range(self.epochs), \\\"Alternating\\\"):\\n            self.on_train_epoch_start()\\n            self.least_squares_optimization_with_fixed_factors(fixed=\\\"items\\\")\\n            self.least_squares_optimization_with_fixed_factors(fixed=\\\"users\\\")\\n            self.regularization_lambda *= self.lambda_decay\\n\\n    def init_preference_confidence(self, explicit_feedback):\\n        implicit_feedback = (explicit_feedback > 0).astype(np.float32)\\n        self.preference = implicit_feedback\\n        self.confidence_minus_1 = implicit_feedback * self.confidence_alpha\\n        self.confidence_minus_1.eliminate_zeros()\\n        self.confidence_x_preference = (\\n            self.confidence_minus_1.multiply(self.preference) + self.preference\\n        )\\n\\n    def on_train_epoch_start(self):\\n        pass\\n\\n    def least_squares_optimization_with_fixed_factors(\\n        self, fixed: Literal[\\\"users\\\", \\\"items\\\"]\\n    ):\\n        kwargs = self.preprocess_optimization_args(fixed=fixed)\\n        self.analytic_optimum_dispatcher(**kwargs)\\n\\n    def sparse_iterator(self, transpose=False):\\n        confidence_minus_1 = self.confidence_minus_1\\n        confidence_x_preference = self.confidence_x_preference\\n\\n        if transpose:\\n            confidence_minus_1 = confidence_minus_1.tocsc()\\n            confidence_x_preference = confidence_x_preference.tocsc()\\n\\n        cm1_data = confidence_minus_1.data\\n        cp_data = confidence_x_preference.data\\n        indices = confidence_minus_1.indices\\n        indptr = confidence_minus_1.indptr\\n        for ptr_id, (ind_begin, ind_end) in enumerate(zip(indptr, indptr[1:])):\\n            ind_slice = slice(ind_begin, ind_end)\\n            yield ptr_id, indices[ind_slice], cm1_data[ind_slice], cp_data[ind_slice]\\n\\n    def preprocess_optimization_args(self, fixed):\\n        if fixed == \\\"items\\\":\\n            X = self.user_factors.numpy()\\n            Y = self.item_factors.numpy()\\n            X_constant_latent_index = 0\\n            confidence_minus_1 = self.confidence_minus_1\\n            confidence_x_preference = self.confidence_x_preference\\n            sparse_iterator = self.sparse_iterator()\\n\\n        elif fixed == \\\"users\\\":\\n            X = self.item_factors.numpy()\\n            Y = self.user_factors.numpy()\\n            X_constant_latent_index = 1\\n            confidence_minus_1 = self.confidence_minus_1.tocsc()\\n            confidence_x_preference = self.confidence_x_preference.tocsc()\\n            sparse_iterator = self.sparse_iterator(transpose=True)\\n        else:\\n            raise ValueError\\n\\n        cm1_data = confidence_minus_1.data.astype(np.float32)\\n        cp_data = confidence_x_preference.data.astype(np.float32)\\n        indices = confidence_minus_1.indices\\n        indptr = confidence_minus_1.indptr\\n\\n        lambda_I = self.regularization_lambda * np.eye(Y.shape[1], dtype=np.float32)\\n        YtY_plus_lambdaI = Y.T @ Y + lambda_I\\n        YtY_plus_lambdaI[\\n            X_constant_latent_index, X_constant_latent_index\\n        ] -= self.regularization_lambda\\n\\n        XY_sum = (\\n            (self.user_factors.sum(axis=0) * self.item_factors.sum(axis=0)).sum().item()\\n        )\\n\\n        self.bias[:] = (\\n            self.confidence_x_preference.sum()\\n            - XY_sum\\n            - (\\n                self.user_factors.T.numpy()\\n                @ self.confidence_minus_1\\n                @ self.item_factors.numpy()\\n            ).sum()\\n        ) / (self.confidence_minus_1.sum() + np.prod(self.confidence_minus_1.shape))\\n\\n        return dict(\\n            X=X,\\n            Y=Y,\\n            cm1_data=cm1_data,\\n            cp_data=cp_data,\\n            indices=indices,\\n            indptr=indptr,\\n            YtY_plus_lambdaI=YtY_plus_lambdaI,\\n            bias=self.bias.numpy(),\\n            X_constant_latent_index=X_constant_latent_index,\\n        )\\n\\n    @staticmethod\\n    @numba.njit(parallel=True)\\n    def analytic_optimum_dispatcher(\\n        X,\\n        Y,\\n        cm1_data,\\n        cp_data,\\n        indices,\\n        indptr,\\n        YtY_plus_lambdaI,\\n        bias,\\n        X_constant_latent_index,\\n    ):\\n        for row_id in numba.prange(X.shape[0]):\\n            ind_slice = slice(indptr[row_id], indptr[row_id + 1])\\n            if ind_slice.start == ind_slice.stop:\\n                X[row_id] = 0\\n                continue\\n\\n            cm1 = cm1_data[ind_slice]\\n            cp = cp_data[ind_slice]\\n            col_indices = indices[ind_slice]\\n            y = Y[col_indices]\\n\\n            YtCY_plus_lambdaI = (y.T * cm1) @ y + YtY_plus_lambdaI\\n            YtCP_minus_biasYtC = y.T @ (cp - bias[0] * cm1 - bias[0])\\n            X[row_id] = np.linalg.inv(YtCY_plus_lambdaI).astype(np.float32) @ (\\n                YtCP_minus_biasYtC\\n            )\\n\\n        X[:, X_constant_latent_index] = 1\\n\\n    def predict(self, indexed_coo_array):\\n        user_ids = self.row_index_series.loc[indexed_coo_array.row_index].values\\n        ratings = self.user_factors[user_ids] @ self.item_factors.T\\n        return ratings\";\n",
       "                var nbb_formatted_code = \"class ImplicitALS(sklearn.base.BaseEstimator):\\n    def __init__(\\n        self,\\n        n_users,\\n        n_items,\\n        epochs=10,\\n        latent_dimension_size=10,\\n        regularization_lambda=100,\\n        confidence_alpha=10,\\n        lambda_decay=0.75,\\n        num_threads=4,\\n    ):\\n        numba.config.NUMBA_NUM_THREADS = num_threads\\n        numba.config.THREADING_LAYER = \\\"threadsafe\\\"\\n        numba.set_num_threads(num_threads)\\n\\n        self.bias = build_bias(1)\\n        self.bias.requires_grad = False\\n\\n        self.user_factors = build_weight(n_users, latent_dimension_size + 2)\\n        self.user_factors.requires_grad = False\\n        self.user_factors[:, 0] = 1\\n\\n        self.item_factors = build_weight(n_items, latent_dimension_size + 2)\\n        self.item_factors.requires_grad = False\\n        self.item_factors[:, 1] = 1\\n\\n        self.epochs = epochs\\n        self.regularization_lambda = regularization_lambda\\n        self.confidence_alpha = confidence_alpha\\n        self.lambda_decay = lambda_decay\\n\\n        self.confidence_x_preference = None\\n        self.confidence_minus_1 = None\\n        self.preference = None\\n\\n        self.row_index_series: pd.Series or None = None\\n\\n    def fit(self, train_indexed_coo_array):\\n        self.row_index_series = train_indexed_coo_array.get_row_index_series()\\n\\n        self.init_preference_confidence(train_indexed_coo_array.coo_array)\\n\\n        for _ in tqdm(range(self.epochs), \\\"Alternating\\\"):\\n            self.on_train_epoch_start()\\n            self.least_squares_optimization_with_fixed_factors(fixed=\\\"items\\\")\\n            self.least_squares_optimization_with_fixed_factors(fixed=\\\"users\\\")\\n            self.regularization_lambda *= self.lambda_decay\\n\\n    def init_preference_confidence(self, explicit_feedback):\\n        implicit_feedback = (explicit_feedback > 0).astype(np.float32)\\n        self.preference = implicit_feedback\\n        self.confidence_minus_1 = implicit_feedback * self.confidence_alpha\\n        self.confidence_minus_1.eliminate_zeros()\\n        self.confidence_x_preference = (\\n            self.confidence_minus_1.multiply(self.preference) + self.preference\\n        )\\n\\n    def on_train_epoch_start(self):\\n        pass\\n\\n    def least_squares_optimization_with_fixed_factors(\\n        self, fixed: Literal[\\\"users\\\", \\\"items\\\"]\\n    ):\\n        kwargs = self.preprocess_optimization_args(fixed=fixed)\\n        self.analytic_optimum_dispatcher(**kwargs)\\n\\n    def sparse_iterator(self, transpose=False):\\n        confidence_minus_1 = self.confidence_minus_1\\n        confidence_x_preference = self.confidence_x_preference\\n\\n        if transpose:\\n            confidence_minus_1 = confidence_minus_1.tocsc()\\n            confidence_x_preference = confidence_x_preference.tocsc()\\n\\n        cm1_data = confidence_minus_1.data\\n        cp_data = confidence_x_preference.data\\n        indices = confidence_minus_1.indices\\n        indptr = confidence_minus_1.indptr\\n        for ptr_id, (ind_begin, ind_end) in enumerate(zip(indptr, indptr[1:])):\\n            ind_slice = slice(ind_begin, ind_end)\\n            yield ptr_id, indices[ind_slice], cm1_data[ind_slice], cp_data[ind_slice]\\n\\n    def preprocess_optimization_args(self, fixed):\\n        if fixed == \\\"items\\\":\\n            X = self.user_factors.numpy()\\n            Y = self.item_factors.numpy()\\n            X_constant_latent_index = 0\\n            confidence_minus_1 = self.confidence_minus_1\\n            confidence_x_preference = self.confidence_x_preference\\n            sparse_iterator = self.sparse_iterator()\\n\\n        elif fixed == \\\"users\\\":\\n            X = self.item_factors.numpy()\\n            Y = self.user_factors.numpy()\\n            X_constant_latent_index = 1\\n            confidence_minus_1 = self.confidence_minus_1.tocsc()\\n            confidence_x_preference = self.confidence_x_preference.tocsc()\\n            sparse_iterator = self.sparse_iterator(transpose=True)\\n        else:\\n            raise ValueError\\n\\n        cm1_data = confidence_minus_1.data.astype(np.float32)\\n        cp_data = confidence_x_preference.data.astype(np.float32)\\n        indices = confidence_minus_1.indices\\n        indptr = confidence_minus_1.indptr\\n\\n        lambda_I = self.regularization_lambda * np.eye(Y.shape[1], dtype=np.float32)\\n        YtY_plus_lambdaI = Y.T @ Y + lambda_I\\n        YtY_plus_lambdaI[\\n            X_constant_latent_index, X_constant_latent_index\\n        ] -= self.regularization_lambda\\n\\n        XY_sum = (\\n            (self.user_factors.sum(axis=0) * self.item_factors.sum(axis=0)).sum().item()\\n        )\\n\\n        self.bias[:] = (\\n            self.confidence_x_preference.sum()\\n            - XY_sum\\n            - (\\n                self.user_factors.T.numpy()\\n                @ self.confidence_minus_1\\n                @ self.item_factors.numpy()\\n            ).sum()\\n        ) / (self.confidence_minus_1.sum() + np.prod(self.confidence_minus_1.shape))\\n\\n        return dict(\\n            X=X,\\n            Y=Y,\\n            cm1_data=cm1_data,\\n            cp_data=cp_data,\\n            indices=indices,\\n            indptr=indptr,\\n            YtY_plus_lambdaI=YtY_plus_lambdaI,\\n            bias=self.bias.numpy(),\\n            X_constant_latent_index=X_constant_latent_index,\\n        )\\n\\n    @staticmethod\\n    @numba.njit(parallel=True)\\n    def analytic_optimum_dispatcher(\\n        X,\\n        Y,\\n        cm1_data,\\n        cp_data,\\n        indices,\\n        indptr,\\n        YtY_plus_lambdaI,\\n        bias,\\n        X_constant_latent_index,\\n    ):\\n        for row_id in numba.prange(X.shape[0]):\\n            ind_slice = slice(indptr[row_id], indptr[row_id + 1])\\n            if ind_slice.start == ind_slice.stop:\\n                X[row_id] = 0\\n                continue\\n\\n            cm1 = cm1_data[ind_slice]\\n            cp = cp_data[ind_slice]\\n            col_indices = indices[ind_slice]\\n            y = Y[col_indices]\\n\\n            YtCY_plus_lambdaI = (y.T * cm1) @ y + YtY_plus_lambdaI\\n            YtCP_minus_biasYtC = y.T @ (cp - bias[0] * cm1 - bias[0])\\n            X[row_id] = np.linalg.inv(YtCY_plus_lambdaI).astype(np.float32) @ (\\n                YtCP_minus_biasYtC\\n            )\\n\\n        X[:, X_constant_latent_index] = 1\\n\\n    def predict(self, indexed_coo_array):\\n        user_ids = self.row_index_series.loc[indexed_coo_array.row_index].values\\n        ratings = self.user_factors[user_ids] @ self.item_factors.T\\n        return ratings\";\n",
       "                var nbb_cells = Jupyter.notebook.get_cells();\n",
       "                for (var i = 0; i < nbb_cells.length; ++i) {\n",
       "                    if (nbb_cells[i].input_prompt_number == nbb_cell_id) {\n",
       "                        if (nbb_cells[i].get_text() == nbb_unformatted_code) {\n",
       "                             nbb_cells[i].set_text(nbb_formatted_code);\n",
       "                        }\n",
       "                        break;\n",
       "                    }\n",
       "                }\n",
       "            }, 500);\n",
       "            "
      ],
      "text/plain": [
       "<IPython.core.display.Javascript object>"
      ]
     },
     "metadata": {},
     "output_type": "display_data"
    }
   ],
   "source": [
    "class ImplicitALS(sklearn.base.BaseEstimator):\n",
    "    def __init__(\n",
    "        self,\n",
    "        n_users,\n",
    "        n_items,\n",
    "        epochs=10,\n",
    "        latent_dimension_size=10,\n",
    "        regularization_lambda=100,\n",
    "        confidence_alpha=10,\n",
    "        lambda_decay=0.75,\n",
    "        num_threads=4,\n",
    "    ):\n",
    "        numba.config.NUMBA_NUM_THREADS = num_threads\n",
    "        numba.config.THREADING_LAYER = \"threadsafe\"\n",
    "        numba.set_num_threads(num_threads)\n",
    "\n",
    "        self.bias = build_bias(1)\n",
    "        self.bias.requires_grad = False\n",
    "\n",
    "        self.user_factors = build_weight(n_users, latent_dimension_size + 2)\n",
    "        self.user_factors.requires_grad = False\n",
    "        self.user_factors[:, 0] = 1\n",
    "\n",
    "        self.item_factors = build_weight(n_items, latent_dimension_size + 2)\n",
    "        self.item_factors.requires_grad = False\n",
    "        self.item_factors[:, 1] = 1\n",
    "\n",
    "        self.epochs = epochs\n",
    "        self.regularization_lambda = regularization_lambda\n",
    "        self.confidence_alpha = confidence_alpha\n",
    "        self.lambda_decay = lambda_decay\n",
    "\n",
    "        self.confidence_x_preference = None\n",
    "        self.confidence_minus_1 = None\n",
    "        self.preference = None\n",
    "\n",
    "        self.row_index_series: pd.Series or None = None\n",
    "\n",
    "    def fit(self, train_indexed_coo_array):\n",
    "        self.row_index_series = train_indexed_coo_array.get_row_index_series()\n",
    "\n",
    "        self.init_preference_confidence(train_indexed_coo_array.coo_array)\n",
    "\n",
    "        for _ in tqdm(range(self.epochs), \"Alternating\"):\n",
    "            self.on_train_epoch_start()\n",
    "            self.least_squares_optimization_with_fixed_factors(fixed=\"items\")\n",
    "            self.least_squares_optimization_with_fixed_factors(fixed=\"users\")\n",
    "            self.regularization_lambda *= self.lambda_decay\n",
    "\n",
    "    def init_preference_confidence(self, explicit_feedback):\n",
    "        implicit_feedback = (explicit_feedback > 0).astype(np.float32)\n",
    "        self.preference = implicit_feedback\n",
    "        self.confidence_minus_1 = implicit_feedback * self.confidence_alpha\n",
    "        self.confidence_minus_1.eliminate_zeros()\n",
    "        self.confidence_x_preference = (\n",
    "            self.confidence_minus_1.multiply(self.preference) + self.preference\n",
    "        )\n",
    "\n",
    "    def on_train_epoch_start(self):\n",
    "        pass\n",
    "\n",
    "    def least_squares_optimization_with_fixed_factors(\n",
    "        self, fixed: Literal[\"users\", \"items\"]\n",
    "    ):\n",
    "        kwargs = self.preprocess_optimization_args(fixed=fixed)\n",
    "        self.analytic_optimum_dispatcher(**kwargs)\n",
    "\n",
    "    def sparse_iterator(self, transpose=False):\n",
    "        confidence_minus_1 = self.confidence_minus_1\n",
    "        confidence_x_preference = self.confidence_x_preference\n",
    "\n",
    "        if transpose:\n",
    "            confidence_minus_1 = confidence_minus_1.tocsc()\n",
    "            confidence_x_preference = confidence_x_preference.tocsc()\n",
    "\n",
    "        cm1_data = confidence_minus_1.data\n",
    "        cp_data = confidence_x_preference.data\n",
    "        indices = confidence_minus_1.indices\n",
    "        indptr = confidence_minus_1.indptr\n",
    "        for ptr_id, (ind_begin, ind_end) in enumerate(zip(indptr, indptr[1:])):\n",
    "            ind_slice = slice(ind_begin, ind_end)\n",
    "            yield ptr_id, indices[ind_slice], cm1_data[ind_slice], cp_data[ind_slice]\n",
    "\n",
    "    def preprocess_optimization_args(self, fixed):\n",
    "        if fixed == \"items\":\n",
    "            X = self.user_factors.numpy()\n",
    "            Y = self.item_factors.numpy()\n",
    "            X_constant_latent_index = 0\n",
    "            confidence_minus_1 = self.confidence_minus_1\n",
    "            confidence_x_preference = self.confidence_x_preference\n",
    "            sparse_iterator = self.sparse_iterator()\n",
    "\n",
    "        elif fixed == \"users\":\n",
    "            X = self.item_factors.numpy()\n",
    "            Y = self.user_factors.numpy()\n",
    "            X_constant_latent_index = 1\n",
    "            confidence_minus_1 = self.confidence_minus_1.tocsc()\n",
    "            confidence_x_preference = self.confidence_x_preference.tocsc()\n",
    "            sparse_iterator = self.sparse_iterator(transpose=True)\n",
    "        else:\n",
    "            raise ValueError\n",
    "\n",
    "        cm1_data = confidence_minus_1.data.astype(np.float32)\n",
    "        cp_data = confidence_x_preference.data.astype(np.float32)\n",
    "        indices = confidence_minus_1.indices\n",
    "        indptr = confidence_minus_1.indptr\n",
    "\n",
    "        lambda_I = self.regularization_lambda * np.eye(Y.shape[1], dtype=np.float32)\n",
    "        YtY_plus_lambdaI = Y.T @ Y + lambda_I\n",
    "        YtY_plus_lambdaI[\n",
    "            X_constant_latent_index, X_constant_latent_index\n",
    "        ] -= self.regularization_lambda\n",
    "\n",
    "        XY_sum = (\n",
    "            (self.user_factors.sum(axis=0) * self.item_factors.sum(axis=0)).sum().item()\n",
    "        )\n",
    "\n",
    "        self.bias[:] = (\n",
    "            self.confidence_x_preference.sum()\n",
    "            - XY_sum\n",
    "            - (\n",
    "                self.user_factors.T.numpy()\n",
    "                @ self.confidence_minus_1\n",
    "                @ self.item_factors.numpy()\n",
    "            ).sum()\n",
    "        ) / (self.confidence_minus_1.sum() + np.prod(self.confidence_minus_1.shape))\n",
    "\n",
    "        return dict(\n",
    "            X=X,\n",
    "            Y=Y,\n",
    "            cm1_data=cm1_data,\n",
    "            cp_data=cp_data,\n",
    "            indices=indices,\n",
    "            indptr=indptr,\n",
    "            YtY_plus_lambdaI=YtY_plus_lambdaI,\n",
    "            bias=self.bias.numpy(),\n",
    "            X_constant_latent_index=X_constant_latent_index,\n",
    "        )\n",
    "\n",
    "    @staticmethod\n",
    "    @numba.njit(parallel=True)\n",
    "    def analytic_optimum_dispatcher(\n",
    "        X,\n",
    "        Y,\n",
    "        cm1_data,\n",
    "        cp_data,\n",
    "        indices,\n",
    "        indptr,\n",
    "        YtY_plus_lambdaI,\n",
    "        bias,\n",
    "        X_constant_latent_index,\n",
    "    ):\n",
    "        for row_id in numba.prange(X.shape[0]):\n",
    "            ind_slice = slice(indptr[row_id], indptr[row_id + 1])\n",
    "            if ind_slice.start == ind_slice.stop:\n",
    "                X[row_id] = 0\n",
    "                continue\n",
    "\n",
    "            cm1 = cm1_data[ind_slice]\n",
    "            cp = cp_data[ind_slice]\n",
    "            col_indices = indices[ind_slice]\n",
    "            y = Y[col_indices]\n",
    "\n",
    "            YtCY_plus_lambdaI = (y.T * cm1) @ y + YtY_plus_lambdaI\n",
    "            YtCP_minus_biasYtC = y.T @ (cp - bias[0] * cm1 - bias[0])\n",
    "            X[row_id] = np.linalg.inv(YtCY_plus_lambdaI).astype(np.float32) @ (\n",
    "                YtCP_minus_biasYtC\n",
    "            )\n",
    "\n",
    "        X[:, X_constant_latent_index] = 1\n",
    "\n",
    "    def predict(self, indexed_coo_array):\n",
    "        user_ids = self.row_index_series.loc[indexed_coo_array.row_index].values\n",
    "        ratings = self.user_factors[user_ids] @ self.item_factors.T\n",
    "        return ratings"
   ]
  },
  {
   "cell_type": "markdown",
   "id": "477c29af",
   "metadata": {},
   "source": [
    "## Training <span id=Training_></span>"
   ]
  },
  {
   "cell_type": "code",
   "execution_count": 176,
   "id": "89dbdf8f",
   "metadata": {
    "ExecuteTime": {
     "end_time": "2023-05-08T17:10:39.283326Z",
     "start_time": "2023-05-08T17:10:39.275921Z"
    }
   },
   "outputs": [
    {
     "data": {
      "application/javascript": [
       "\n",
       "            setTimeout(function() {\n",
       "                var nbb_cell_id = 176;\n",
       "                var nbb_unformatted_code = \"MODELS.popular = PopularRecommender()\\n\\nMODELS.item2item = Item2Item(similarity=cosine_similarity)\";\n",
       "                var nbb_formatted_code = \"MODELS.popular = PopularRecommender()\\n\\nMODELS.item2item = Item2Item(similarity=cosine_similarity)\";\n",
       "                var nbb_cells = Jupyter.notebook.get_cells();\n",
       "                for (var i = 0; i < nbb_cells.length; ++i) {\n",
       "                    if (nbb_cells[i].input_prompt_number == nbb_cell_id) {\n",
       "                        if (nbb_cells[i].get_text() == nbb_unformatted_code) {\n",
       "                             nbb_cells[i].set_text(nbb_formatted_code);\n",
       "                        }\n",
       "                        break;\n",
       "                    }\n",
       "                }\n",
       "            }, 500);\n",
       "            "
      ],
      "text/plain": [
       "<IPython.core.display.Javascript object>"
      ]
     },
     "metadata": {},
     "output_type": "display_data"
    }
   ],
   "source": [
    "MODELS.popular = PopularRecommender()\n",
    "\n",
    "MODELS.item2item = Item2Item(similarity=cosine_similarity)"
   ]
  },
  {
   "cell_type": "markdown",
   "id": "b88905ab",
   "metadata": {
    "ExecuteTime": {
     "end_time": "2023-05-08T13:58:57.083092Z",
     "start_time": "2023-05-08T13:58:57.076574Z"
    }
   },
   "source": [
    "### Hyperparameter sweeps <span id=Hyperparameter_sweeps_></span>"
   ]
  },
  {
   "cell_type": "code",
   "execution_count": 23,
   "id": "1aec6da6",
   "metadata": {
    "ExecuteTime": {
     "end_time": "2023-05-08T15:31:19.682800Z",
     "start_time": "2023-05-08T15:31:19.674816Z"
    }
   },
   "outputs": [
    {
     "data": {
      "application/javascript": [
       "\n",
       "            setTimeout(function() {\n",
       "                var nbb_cell_id = 23;\n",
       "                var nbb_unformatted_code = \"CONFIG.n_recommendations_for_user = 100\\nCONFIG.batch_size = 100\\nCONFIG.wandb_project = \\\"lab_recommending_music\\\"\\n\\nCONFIG.sweep = {\\n    \\\"project\\\": CONFIG.wandb_project,\\n    \\\"method\\\": \\\"random\\\",\\n    \\\"metric\\\": {\\\"goal\\\": \\\"maximize\\\", \\\"name\\\": \\\"mrr\\\"},\\n    \\\"parameters\\\": {\\n        \\\"model\\\": {},\\n        \\\"n_recommendations_for_user\\\": {\\\"value\\\": CONFIG.n_recommendations_for_user},\\n        \\\"n_item_interactions_to_split_as_ground_truth\\\": {\\n            \\\"value\\\": CONFIG.n_item_interactions_to_split_as_ground_truth\\n        },\\n        \\\"seed\\\": {\\\"value\\\": CONFIG.seed},\\n        \\\"batch_size\\\": {\\\"value\\\": CONFIG.batch_size},\\n    },\\n}\";\n",
       "                var nbb_formatted_code = \"CONFIG.n_recommendations_for_user = 100\\nCONFIG.batch_size = 100\\nCONFIG.wandb_project = \\\"lab_recommending_music\\\"\\n\\nCONFIG.sweep = {\\n    \\\"project\\\": CONFIG.wandb_project,\\n    \\\"method\\\": \\\"random\\\",\\n    \\\"metric\\\": {\\\"goal\\\": \\\"maximize\\\", \\\"name\\\": \\\"mrr\\\"},\\n    \\\"parameters\\\": {\\n        \\\"model\\\": {},\\n        \\\"n_recommendations_for_user\\\": {\\\"value\\\": CONFIG.n_recommendations_for_user},\\n        \\\"n_item_interactions_to_split_as_ground_truth\\\": {\\n            \\\"value\\\": CONFIG.n_item_interactions_to_split_as_ground_truth\\n        },\\n        \\\"seed\\\": {\\\"value\\\": CONFIG.seed},\\n        \\\"batch_size\\\": {\\\"value\\\": CONFIG.batch_size},\\n    },\\n}\";\n",
       "                var nbb_cells = Jupyter.notebook.get_cells();\n",
       "                for (var i = 0; i < nbb_cells.length; ++i) {\n",
       "                    if (nbb_cells[i].input_prompt_number == nbb_cell_id) {\n",
       "                        if (nbb_cells[i].get_text() == nbb_unformatted_code) {\n",
       "                             nbb_cells[i].set_text(nbb_formatted_code);\n",
       "                        }\n",
       "                        break;\n",
       "                    }\n",
       "                }\n",
       "            }, 500);\n",
       "            "
      ],
      "text/plain": [
       "<IPython.core.display.Javascript object>"
      ]
     },
     "metadata": {},
     "output_type": "display_data"
    }
   ],
   "source": [
    "CONFIG.n_recommendations_for_user = 100\n",
    "CONFIG.batch_size = 100\n",
    "CONFIG.wandb_project = \"lab_recommending_music\"\n",
    "\n",
    "CONFIG.sweep = {\n",
    "    \"project\": CONFIG.wandb_project,\n",
    "    \"method\": \"random\",\n",
    "    \"metric\": {\"goal\": \"maximize\", \"name\": \"mrr\"},\n",
    "    \"parameters\": {\n",
    "        \"model\": {},\n",
    "        \"n_recommendations_for_user\": {\"value\": CONFIG.n_recommendations_for_user},\n",
    "        \"n_item_interactions_to_split_as_ground_truth\": {\n",
    "            \"value\": CONFIG.n_item_interactions_to_split_as_ground_truth\n",
    "        },\n",
    "        \"seed\": {\"value\": CONFIG.seed},\n",
    "        \"batch_size\": {\"value\": CONFIG.batch_size},\n",
    "    },\n",
    "}"
   ]
  },
  {
   "cell_type": "code",
   "execution_count": 370,
   "id": "b21fd024",
   "metadata": {
    "ExecuteTime": {
     "end_time": "2023-05-08T18:43:29.044500Z",
     "start_time": "2023-05-08T18:43:29.029981Z"
    }
   },
   "outputs": [
    {
     "data": {
      "application/javascript": [
       "\n",
       "            setTimeout(function() {\n",
       "                var nbb_cell_id = 370;\n",
       "                var nbb_unformatted_code = \"def wandb_run(\\n    Model: type,\\n    train_indexed_coo_array: IndexedCooArray,\\n    test_indexed_coo_array: IndexedCooArray,\\n) -> None:\\n    wandb.init()\\n\\n    model = Model(**wandb.config.model)\\n\\n    model.fit(train_indexed_coo_array)\\n\\n    metrics = batched_compute_metrics(\\n        model=model,\\n        train_indexed_coo_array=train_indexed_coo_array,\\n        test_indexed_coo_array=test_indexed_coo_array,\\n        n_recommendations=wandb.config.n_recommendations_for_user,\\n        batch_size=wandb.config.batch_size,\\n    )\\n\\n    wandb.log(metrics)\";\n",
       "                var nbb_formatted_code = \"def wandb_run(\\n    Model: type,\\n    train_indexed_coo_array: IndexedCooArray,\\n    test_indexed_coo_array: IndexedCooArray,\\n) -> None:\\n    wandb.init()\\n\\n    model = Model(**wandb.config.model)\\n\\n    model.fit(train_indexed_coo_array)\\n\\n    metrics = batched_compute_metrics(\\n        model=model,\\n        train_indexed_coo_array=train_indexed_coo_array,\\n        test_indexed_coo_array=test_indexed_coo_array,\\n        n_recommendations=wandb.config.n_recommendations_for_user,\\n        batch_size=wandb.config.batch_size,\\n    )\\n\\n    wandb.log(metrics)\";\n",
       "                var nbb_cells = Jupyter.notebook.get_cells();\n",
       "                for (var i = 0; i < nbb_cells.length; ++i) {\n",
       "                    if (nbb_cells[i].input_prompt_number == nbb_cell_id) {\n",
       "                        if (nbb_cells[i].get_text() == nbb_unformatted_code) {\n",
       "                             nbb_cells[i].set_text(nbb_formatted_code);\n",
       "                        }\n",
       "                        break;\n",
       "                    }\n",
       "                }\n",
       "            }, 500);\n",
       "            "
      ],
      "text/plain": [
       "<IPython.core.display.Javascript object>"
      ]
     },
     "metadata": {},
     "output_type": "display_data"
    }
   ],
   "source": [
    "def wandb_run(\n",
    "    Model: type,\n",
    "    train_indexed_coo_array: IndexedCooArray,\n",
    "    test_indexed_coo_array: IndexedCooArray,\n",
    ") -> None:\n",
    "    wandb.init()\n",
    "\n",
    "    model = Model(**wandb.config.model)\n",
    "\n",
    "    model.fit(train_indexed_coo_array)\n",
    "\n",
    "    metrics = batched_compute_metrics(\n",
    "        model=model,\n",
    "        train_indexed_coo_array=train_indexed_coo_array,\n",
    "        test_indexed_coo_array=test_indexed_coo_array,\n",
    "        n_recommendations=wandb.config.n_recommendations_for_user,\n",
    "        batch_size=wandb.config.batch_size,\n",
    "    )\n",
    "\n",
    "    wandb.log(metrics)"
   ]
  },
  {
   "cell_type": "markdown",
   "id": "efd27606",
   "metadata": {},
   "source": [
    "### SVD sweep <span id=SVD_sweep_></span>"
   ]
  },
  {
   "cell_type": "code",
   "execution_count": 383,
   "id": "7c3c12c5",
   "metadata": {
    "ExecuteTime": {
     "end_time": "2023-05-08T19:03:36.298863Z",
     "start_time": "2023-05-08T19:03:34.279424Z"
    }
   },
   "outputs": [
    {
     "name": "stdout",
     "output_type": "stream",
     "text": [
      "Create sweep with ID: etjnk7xe\n",
      "Sweep URL: https://wandb.ai/dkoshman/lab_recommending_music/sweeps/etjnk7xe\n"
     ]
    },
    {
     "data": {
      "application/javascript": [
       "\n",
       "            setTimeout(function() {\n",
       "                var nbb_cell_id = 383;\n",
       "                var nbb_unformatted_code = \"CONFIG.svd_sweep = copy.deepcopy(CONFIG.sweep)\\nCONFIG.svd_sweep[\\\"name\\\"] = \\\"svd_sweep\\\"\\nCONFIG.svd_sweep[\\\"parameters\\\"][\\\"model\\\"] = {\\n    \\\"parameters\\\": {\\n        \\\"latent_dimension_size\\\": {\\\"min\\\": 2, \\\"max\\\": 20},\\n    }\\n}\\n\\nCONFIG.svd_sweep_id = wandb.sweep(sweep=CONFIG.svd_sweep)\";\n",
       "                var nbb_formatted_code = \"CONFIG.svd_sweep = copy.deepcopy(CONFIG.sweep)\\nCONFIG.svd_sweep[\\\"name\\\"] = \\\"svd_sweep\\\"\\nCONFIG.svd_sweep[\\\"parameters\\\"][\\\"model\\\"] = {\\n    \\\"parameters\\\": {\\n        \\\"latent_dimension_size\\\": {\\\"min\\\": 2, \\\"max\\\": 20},\\n    }\\n}\\n\\nCONFIG.svd_sweep_id = wandb.sweep(sweep=CONFIG.svd_sweep)\";\n",
       "                var nbb_cells = Jupyter.notebook.get_cells();\n",
       "                for (var i = 0; i < nbb_cells.length; ++i) {\n",
       "                    if (nbb_cells[i].input_prompt_number == nbb_cell_id) {\n",
       "                        if (nbb_cells[i].get_text() == nbb_unformatted_code) {\n",
       "                             nbb_cells[i].set_text(nbb_formatted_code);\n",
       "                        }\n",
       "                        break;\n",
       "                    }\n",
       "                }\n",
       "            }, 500);\n",
       "            "
      ],
      "text/plain": [
       "<IPython.core.display.Javascript object>"
      ]
     },
     "metadata": {},
     "output_type": "display_data"
    }
   ],
   "source": [
    "CONFIG.svd_sweep = copy.deepcopy(CONFIG.sweep)\n",
    "CONFIG.svd_sweep[\"name\"] = \"svd_sweep\"\n",
    "CONFIG.svd_sweep[\"parameters\"][\"model\"] = {\n",
    "    \"parameters\": {\n",
    "        \"latent_dimension_size\": {\"min\": 2, \"max\": 20},\n",
    "    }\n",
    "}\n",
    "\n",
    "CONFIG.svd_sweep_id = wandb.sweep(sweep=CONFIG.svd_sweep)"
   ]
  },
  {
   "cell_type": "code",
   "execution_count": null,
   "id": "29bcf7b6",
   "metadata": {
    "ExecuteTime": {
     "end_time": "2023-05-08T19:06:03.902157Z",
     "start_time": "2023-05-08T19:03:37.066805Z"
    }
   },
   "outputs": [],
   "source": [
    "wandb.agent(\n",
    "    CONFIG.svd_sweep_id,\n",
    "    function=functools.partial(\n",
    "        wandb_run,\n",
    "        Model=SVDRecommender,\n",
    "        train_indexed_coo_array=DATA.train_indexed_coo_array,\n",
    "        test_indexed_coo_array=DATA.test_indexed_coo_array,\n",
    "    ),\n",
    "    count=10,\n",
    ")"
   ]
  },
  {
   "cell_type": "markdown",
   "id": "72f1485c",
   "metadata": {
    "ExecuteTime": {
     "end_time": "2023-05-08T14:48:13.607645Z",
     "start_time": "2023-05-08T14:48:13.475108Z"
    }
   },
   "source": [
    "![](media/svd_sweep.png)"
   ]
  },
  {
   "cell_type": "code",
   "execution_count": 385,
   "id": "1b2e9cbf",
   "metadata": {
    "ExecuteTime": {
     "end_time": "2023-05-08T19:08:58.834193Z",
     "start_time": "2023-05-08T19:08:58.783536Z"
    }
   },
   "outputs": [
    {
     "data": {
      "application/javascript": [
       "\n",
       "            setTimeout(function() {\n",
       "                var nbb_cell_id = 385;\n",
       "                var nbb_unformatted_code = \"MODELS.svd = SVDRecommender(latent_dimension_size=8)\";\n",
       "                var nbb_formatted_code = \"MODELS.svd = SVDRecommender(latent_dimension_size=8)\";\n",
       "                var nbb_cells = Jupyter.notebook.get_cells();\n",
       "                for (var i = 0; i < nbb_cells.length; ++i) {\n",
       "                    if (nbb_cells[i].input_prompt_number == nbb_cell_id) {\n",
       "                        if (nbb_cells[i].get_text() == nbb_unformatted_code) {\n",
       "                             nbb_cells[i].set_text(nbb_formatted_code);\n",
       "                        }\n",
       "                        break;\n",
       "                    }\n",
       "                }\n",
       "            }, 500);\n",
       "            "
      ],
      "text/plain": [
       "<IPython.core.display.Javascript object>"
      ]
     },
     "metadata": {},
     "output_type": "display_data"
    }
   ],
   "source": [
    "MODELS.svd = SVDRecommender(latent_dimension_size=8)"
   ]
  },
  {
   "cell_type": "markdown",
   "id": "79805ebd",
   "metadata": {},
   "source": [
    "### ALS sweep <span id=ALS_sweep_></span>"
   ]
  },
  {
   "cell_type": "code",
   "execution_count": 386,
   "id": "0c6dcc45",
   "metadata": {
    "ExecuteTime": {
     "end_time": "2023-05-08T19:09:32.326097Z",
     "start_time": "2023-05-08T19:09:29.973793Z"
    }
   },
   "outputs": [
    {
     "name": "stdout",
     "output_type": "stream",
     "text": [
      "Create sweep with ID: 1m0uynj6\n",
      "Sweep URL: https://wandb.ai/dkoshman/lab_recommending_music/sweeps/1m0uynj6\n"
     ]
    },
    {
     "data": {
      "application/javascript": [
       "\n",
       "            setTimeout(function() {\n",
       "                var nbb_cell_id = 386;\n",
       "                var nbb_unformatted_code = \"CONFIG.als_sweep = copy.deepcopy(CONFIG.sweep)\\nCONFIG.als_sweep[\\\"name\\\"] = \\\"als_sweep\\\"\\nCONFIG.als_sweep[\\\"parameters\\\"][\\\"model\\\"] = {\\n    \\\"parameters\\\": {\\n        \\\"n_users\\\": {\\\"value\\\": DATA.train_indexed_coo_array.shape[0]},\\n        \\\"n_items\\\": {\\\"value\\\": DATA.train_indexed_coo_array.shape[1]},\\n        \\\"epochs\\\": {\\\"min\\\": 1, \\\"max\\\": 5},\\n        \\\"latent_dimension_size\\\": {\\\"min\\\": 1, \\\"max\\\": 20},\\n        \\\"regularization_lambda\\\": {\\\"min\\\": 0, \\\"max\\\": 100},\\n        \\\"lambda_decay\\\": {\\\"min\\\": 0.6, \\\"max\\\": 0.9},\\n    }\\n}\\n\\nCONFIG.als_sweep_id = wandb.sweep(sweep=CONFIG.als_sweep)\";\n",
       "                var nbb_formatted_code = \"CONFIG.als_sweep = copy.deepcopy(CONFIG.sweep)\\nCONFIG.als_sweep[\\\"name\\\"] = \\\"als_sweep\\\"\\nCONFIG.als_sweep[\\\"parameters\\\"][\\\"model\\\"] = {\\n    \\\"parameters\\\": {\\n        \\\"n_users\\\": {\\\"value\\\": DATA.train_indexed_coo_array.shape[0]},\\n        \\\"n_items\\\": {\\\"value\\\": DATA.train_indexed_coo_array.shape[1]},\\n        \\\"epochs\\\": {\\\"min\\\": 1, \\\"max\\\": 5},\\n        \\\"latent_dimension_size\\\": {\\\"min\\\": 1, \\\"max\\\": 20},\\n        \\\"regularization_lambda\\\": {\\\"min\\\": 0, \\\"max\\\": 100},\\n        \\\"lambda_decay\\\": {\\\"min\\\": 0.6, \\\"max\\\": 0.9},\\n    }\\n}\\n\\nCONFIG.als_sweep_id = wandb.sweep(sweep=CONFIG.als_sweep)\";\n",
       "                var nbb_cells = Jupyter.notebook.get_cells();\n",
       "                for (var i = 0; i < nbb_cells.length; ++i) {\n",
       "                    if (nbb_cells[i].input_prompt_number == nbb_cell_id) {\n",
       "                        if (nbb_cells[i].get_text() == nbb_unformatted_code) {\n",
       "                             nbb_cells[i].set_text(nbb_formatted_code);\n",
       "                        }\n",
       "                        break;\n",
       "                    }\n",
       "                }\n",
       "            }, 500);\n",
       "            "
      ],
      "text/plain": [
       "<IPython.core.display.Javascript object>"
      ]
     },
     "metadata": {},
     "output_type": "display_data"
    }
   ],
   "source": [
    "CONFIG.als_sweep = copy.deepcopy(CONFIG.sweep)\n",
    "CONFIG.als_sweep[\"name\"] = \"als_sweep\"\n",
    "CONFIG.als_sweep[\"parameters\"][\"model\"] = {\n",
    "    \"parameters\": {\n",
    "        \"n_users\": {\"value\": DATA.train_indexed_coo_array.shape[0]},\n",
    "        \"n_items\": {\"value\": DATA.train_indexed_coo_array.shape[1]},\n",
    "        \"epochs\": {\"min\": 1, \"max\": 5},\n",
    "        \"latent_dimension_size\": {\"min\": 1, \"max\": 20},\n",
    "        \"regularization_lambda\": {\"min\": 0, \"max\": 100},\n",
    "        \"lambda_decay\": {\"min\": 0.6, \"max\": 0.9},\n",
    "    }\n",
    "}\n",
    "\n",
    "CONFIG.als_sweep_id = wandb.sweep(sweep=CONFIG.als_sweep)"
   ]
  },
  {
   "cell_type": "code",
   "execution_count": null,
   "id": "b4d70bad",
   "metadata": {
    "ExecuteTime": {
     "end_time": "2023-05-08T19:13:45.128451Z",
     "start_time": "2023-05-08T19:09:32.606791Z"
    }
   },
   "outputs": [],
   "source": [
    "wandb.agent(\n",
    "    CONFIG.als_sweep_id,\n",
    "    function=functools.partial(\n",
    "        wandb_run,\n",
    "        Model=ALS,\n",
    "        train_indexed_coo_array=DATA.train_indexed_coo_array,\n",
    "        test_indexed_coo_array=DATA.test_indexed_coo_array,\n",
    "    ),\n",
    "    count=20,\n",
    ")"
   ]
  },
  {
   "cell_type": "markdown",
   "id": "6811798d",
   "metadata": {
    "ExecuteTime": {
     "start_time": "2023-05-08T14:36:57.871Z"
    }
   },
   "source": [
    "![](media/als_sweep.png)"
   ]
  },
  {
   "cell_type": "code",
   "execution_count": 388,
   "id": "fd5c529d",
   "metadata": {
    "ExecuteTime": {
     "end_time": "2023-05-08T19:17:12.180124Z",
     "start_time": "2023-05-08T19:17:12.136244Z"
    }
   },
   "outputs": [
    {
     "data": {
      "application/javascript": [
       "\n",
       "            setTimeout(function() {\n",
       "                var nbb_cell_id = 388;\n",
       "                var nbb_unformatted_code = \"MODELS.als = ALS(\\n    n_users=DATA.train_indexed_coo_array.coo_array.shape[0],\\n    n_items=DATA.train_indexed_coo_array.coo_array.shape[1],\\n    epochs=2,\\n    latent_dimension_size=15,\\n    regularization_lambda=50,\\n    lambda_decay=0.75,\\n)\";\n",
       "                var nbb_formatted_code = \"MODELS.als = ALS(\\n    n_users=DATA.train_indexed_coo_array.coo_array.shape[0],\\n    n_items=DATA.train_indexed_coo_array.coo_array.shape[1],\\n    epochs=2,\\n    latent_dimension_size=15,\\n    regularization_lambda=50,\\n    lambda_decay=0.75,\\n)\";\n",
       "                var nbb_cells = Jupyter.notebook.get_cells();\n",
       "                for (var i = 0; i < nbb_cells.length; ++i) {\n",
       "                    if (nbb_cells[i].input_prompt_number == nbb_cell_id) {\n",
       "                        if (nbb_cells[i].get_text() == nbb_unformatted_code) {\n",
       "                             nbb_cells[i].set_text(nbb_formatted_code);\n",
       "                        }\n",
       "                        break;\n",
       "                    }\n",
       "                }\n",
       "            }, 500);\n",
       "            "
      ],
      "text/plain": [
       "<IPython.core.display.Javascript object>"
      ]
     },
     "metadata": {},
     "output_type": "display_data"
    }
   ],
   "source": [
    "MODELS.als = ALS(\n",
    "    n_users=DATA.train_indexed_coo_array.coo_array.shape[0],\n",
    "    n_items=DATA.train_indexed_coo_array.coo_array.shape[1],\n",
    "    epochs=2,\n",
    "    latent_dimension_size=15,\n",
    "    regularization_lambda=50,\n",
    "    lambda_decay=0.75,\n",
    ")"
   ]
  },
  {
   "cell_type": "markdown",
   "id": "408d1f81",
   "metadata": {},
   "source": [
    "### Implicit ALS sweep <span id=Implicit_ALS_sweep_></span>"
   ]
  },
  {
   "cell_type": "code",
   "execution_count": 389,
   "id": "e3504ddb",
   "metadata": {
    "ExecuteTime": {
     "end_time": "2023-05-08T19:17:55.603123Z",
     "start_time": "2023-05-08T19:17:51.975463Z"
    }
   },
   "outputs": [
    {
     "name": "stdout",
     "output_type": "stream",
     "text": [
      "Create sweep with ID: 5w58758i\n",
      "Sweep URL: https://wandb.ai/dkoshman/lab_recommending_music/sweeps/5w58758i\n"
     ]
    },
    {
     "data": {
      "application/javascript": [
       "\n",
       "            setTimeout(function() {\n",
       "                var nbb_cell_id = 389;\n",
       "                var nbb_unformatted_code = \"CONFIG.implicit_als_sweep = copy.deepcopy(CONFIG.sweep)\\nCONFIG.implicit_als_sweep[\\\"name\\\"] = \\\"implicit_als_sweep\\\"\\nCONFIG.implicit_als_sweep[\\\"parameters\\\"][\\\"model\\\"] = {\\n    \\\"parameters\\\": {\\n        \\\"n_users\\\": {\\\"value\\\": DATA.train_indexed_coo_array.shape[0]},\\n        \\\"n_items\\\": {\\\"value\\\": DATA.train_indexed_coo_array.shape[1]},\\n        \\\"epochs\\\": {\\\"min\\\": 1, \\\"max\\\": 20},\\n        \\\"latent_dimension_size\\\": {\\\"min\\\": 5, \\\"max\\\": 25},\\n        \\\"regularization_lambda\\\": {\\\"value\\\": 100},\\n        \\\"lambda_decay\\\": {\\\"value\\\": 0.75},\\n        \\\"confidence_alpha\\\": {\\\"min\\\": 1, \\\"max\\\": 100},\\n    }\\n}\\n\\nCONFIG.implicit_als_sweep_id = wandb.sweep(sweep=CONFIG.implicit_als_sweep)\";\n",
       "                var nbb_formatted_code = \"CONFIG.implicit_als_sweep = copy.deepcopy(CONFIG.sweep)\\nCONFIG.implicit_als_sweep[\\\"name\\\"] = \\\"implicit_als_sweep\\\"\\nCONFIG.implicit_als_sweep[\\\"parameters\\\"][\\\"model\\\"] = {\\n    \\\"parameters\\\": {\\n        \\\"n_users\\\": {\\\"value\\\": DATA.train_indexed_coo_array.shape[0]},\\n        \\\"n_items\\\": {\\\"value\\\": DATA.train_indexed_coo_array.shape[1]},\\n        \\\"epochs\\\": {\\\"min\\\": 1, \\\"max\\\": 20},\\n        \\\"latent_dimension_size\\\": {\\\"min\\\": 5, \\\"max\\\": 25},\\n        \\\"regularization_lambda\\\": {\\\"value\\\": 100},\\n        \\\"lambda_decay\\\": {\\\"value\\\": 0.75},\\n        \\\"confidence_alpha\\\": {\\\"min\\\": 1, \\\"max\\\": 100},\\n    }\\n}\\n\\nCONFIG.implicit_als_sweep_id = wandb.sweep(sweep=CONFIG.implicit_als_sweep)\";\n",
       "                var nbb_cells = Jupyter.notebook.get_cells();\n",
       "                for (var i = 0; i < nbb_cells.length; ++i) {\n",
       "                    if (nbb_cells[i].input_prompt_number == nbb_cell_id) {\n",
       "                        if (nbb_cells[i].get_text() == nbb_unformatted_code) {\n",
       "                             nbb_cells[i].set_text(nbb_formatted_code);\n",
       "                        }\n",
       "                        break;\n",
       "                    }\n",
       "                }\n",
       "            }, 500);\n",
       "            "
      ],
      "text/plain": [
       "<IPython.core.display.Javascript object>"
      ]
     },
     "metadata": {},
     "output_type": "display_data"
    }
   ],
   "source": [
    "CONFIG.implicit_als_sweep = copy.deepcopy(CONFIG.sweep)\n",
    "CONFIG.implicit_als_sweep[\"name\"] = \"implicit_als_sweep\"\n",
    "CONFIG.implicit_als_sweep[\"parameters\"][\"model\"] = {\n",
    "    \"parameters\": {\n",
    "        \"n_users\": {\"value\": DATA.train_indexed_coo_array.shape[0]},\n",
    "        \"n_items\": {\"value\": DATA.train_indexed_coo_array.shape[1]},\n",
    "        \"epochs\": {\"min\": 1, \"max\": 20},\n",
    "        \"latent_dimension_size\": {\"min\": 5, \"max\": 25},\n",
    "        \"regularization_lambda\": {\"value\": 100},\n",
    "        \"lambda_decay\": {\"value\": 0.75},\n",
    "        \"confidence_alpha\": {\"min\": 1, \"max\": 100},\n",
    "    }\n",
    "}\n",
    "\n",
    "CONFIG.implicit_als_sweep_id = wandb.sweep(sweep=CONFIG.implicit_als_sweep)"
   ]
  },
  {
   "cell_type": "code",
   "execution_count": null,
   "id": "98bc0ad0",
   "metadata": {
    "ExecuteTime": {
     "end_time": "2023-05-08T19:22:42.928789Z",
     "start_time": "2023-05-08T19:20:26.024144Z"
    }
   },
   "outputs": [],
   "source": [
    "wandb.agent(\n",
    "    CONFIG.implicit_als_sweep_id,\n",
    "    function=functools.partial(\n",
    "        wandb_run,\n",
    "        Model=ImplicitALS,\n",
    "        train_indexed_coo_array=DATA.train_indexed_coo_array,\n",
    "        test_indexed_coo_array=DATA.test_indexed_coo_array,\n",
    "    ),\n",
    "    count=10,\n",
    ")"
   ]
  },
  {
   "cell_type": "markdown",
   "id": "ab33e027",
   "metadata": {
    "ExecuteTime": {
     "start_time": "2023-05-08T14:36:57.871Z"
    }
   },
   "source": [
    "![](media/implicit_als_sweep.png)"
   ]
  },
  {
   "cell_type": "code",
   "execution_count": 392,
   "id": "8b30ac13",
   "metadata": {
    "ExecuteTime": {
     "end_time": "2023-05-08T19:25:41.960246Z",
     "start_time": "2023-05-08T19:25:41.912388Z"
    }
   },
   "outputs": [
    {
     "data": {
      "application/javascript": [
       "\n",
       "            setTimeout(function() {\n",
       "                var nbb_cell_id = 392;\n",
       "                var nbb_unformatted_code = \"MODELS.implicit_als = ImplicitALS(\\n    n_users=DATA.train_indexed_coo_array.coo_array.shape[0],\\n    n_items=DATA.train_indexed_coo_array.coo_array.shape[1],\\n    epochs=7,\\n    latent_dimension_size=20,\\n    regularization_lambda=100,\\n    lambda_decay=0.75,\\n    confidence_alpha=90,\\n)\";\n",
       "                var nbb_formatted_code = \"MODELS.implicit_als = ImplicitALS(\\n    n_users=DATA.train_indexed_coo_array.coo_array.shape[0],\\n    n_items=DATA.train_indexed_coo_array.coo_array.shape[1],\\n    epochs=7,\\n    latent_dimension_size=20,\\n    regularization_lambda=100,\\n    lambda_decay=0.75,\\n    confidence_alpha=90,\\n)\";\n",
       "                var nbb_cells = Jupyter.notebook.get_cells();\n",
       "                for (var i = 0; i < nbb_cells.length; ++i) {\n",
       "                    if (nbb_cells[i].input_prompt_number == nbb_cell_id) {\n",
       "                        if (nbb_cells[i].get_text() == nbb_unformatted_code) {\n",
       "                             nbb_cells[i].set_text(nbb_formatted_code);\n",
       "                        }\n",
       "                        break;\n",
       "                    }\n",
       "                }\n",
       "            }, 500);\n",
       "            "
      ],
      "text/plain": [
       "<IPython.core.display.Javascript object>"
      ]
     },
     "metadata": {},
     "output_type": "display_data"
    }
   ],
   "source": [
    "MODELS.implicit_als = ImplicitALS(\n",
    "    n_users=DATA.train_indexed_coo_array.coo_array.shape[0],\n",
    "    n_items=DATA.train_indexed_coo_array.coo_array.shape[1],\n",
    "    epochs=7,\n",
    "    latent_dimension_size=20,\n",
    "    regularization_lambda=100,\n",
    "    lambda_decay=0.75,\n",
    "    confidence_alpha=90,\n",
    ")"
   ]
  },
  {
   "cell_type": "code",
   "execution_count": 393,
   "id": "1fb4c60c",
   "metadata": {
    "ExecuteTime": {
     "end_time": "2023-05-08T19:25:47.178753Z",
     "start_time": "2023-05-08T19:25:45.284430Z"
    }
   },
   "outputs": [
    {
     "data": {
      "application/vnd.jupyter.widget-view+json": {
       "model_id": "9a3a04a9cb4347569eeda6c250bc2794",
       "version_major": 2,
       "version_minor": 0
      },
      "text/plain": [
       "Alternating:   0%|          | 0/7 [00:00<?, ?it/s]"
      ]
     },
     "metadata": {},
     "output_type": "display_data"
    },
    {
     "data": {
      "application/vnd.jupyter.widget-view+json": {
       "model_id": "af81ed6378af4263938e07f5d23727e1",
       "version_major": 2,
       "version_minor": 0
      },
      "text/plain": [
       "Alternating:   0%|          | 0/2 [00:00<?, ?it/s]"
      ]
     },
     "metadata": {},
     "output_type": "display_data"
    },
    {
     "data": {
      "application/javascript": [
       "\n",
       "            setTimeout(function() {\n",
       "                var nbb_cell_id = 393;\n",
       "                var nbb_unformatted_code = \"for model in MODELS.__dict__.values():\\n    model.fit(DATA.train_indexed_coo_array)\";\n",
       "                var nbb_formatted_code = \"for model in MODELS.__dict__.values():\\n    model.fit(DATA.train_indexed_coo_array)\";\n",
       "                var nbb_cells = Jupyter.notebook.get_cells();\n",
       "                for (var i = 0; i < nbb_cells.length; ++i) {\n",
       "                    if (nbb_cells[i].input_prompt_number == nbb_cell_id) {\n",
       "                        if (nbb_cells[i].get_text() == nbb_unformatted_code) {\n",
       "                             nbb_cells[i].set_text(nbb_formatted_code);\n",
       "                        }\n",
       "                        break;\n",
       "                    }\n",
       "                }\n",
       "            }, 500);\n",
       "            "
      ],
      "text/plain": [
       "<IPython.core.display.Javascript object>"
      ]
     },
     "metadata": {},
     "output_type": "display_data"
    }
   ],
   "source": [
    "for model in MODELS.__dict__.values():\n",
    "    model.fit(DATA.train_indexed_coo_array)"
   ]
  },
  {
   "cell_type": "markdown",
   "id": "3136ff71",
   "metadata": {},
   "source": [
    "## Results <span id=Results_></span>"
   ]
  },
  {
   "cell_type": "markdown",
   "id": "8978ef6a",
   "metadata": {},
   "source": [
    "### Test metrics <span id=Test_metrics_></span>"
   ]
  },
  {
   "cell_type": "code",
   "execution_count": 1,
   "id": "3400996b",
   "metadata": {
    "ExecuteTime": {
     "end_time": "2023-06-04T10:59:26.560523Z",
     "start_time": "2023-06-04T10:59:26.544631Z"
    }
   },
   "outputs": [],
   "source": [
    "def compute_test_metrics(model):\n",
    "    return batched_compute_metrics(\n",
    "        model=model,\n",
    "        train_indexed_coo_array=DATA.train_indexed_coo_array,\n",
    "        test_indexed_coo_array=DATA.test_indexed_coo_array,\n",
    "        n_recommendations=CONFIG.n_recommendations_for_user,\n",
    "        batch_size=CONFIG.batch_size,\n",
    "    )\n",
    "\n",
    "\n",
    "def compute_all_metrics():\n",
    "    metrics = dict()\n",
    "    for name, model in MODELS.__dict__.items():\n",
    "        metrics[name] = compute_test_metrics(model)\n",
    "\n",
    "    df = pd.DataFrame(metrics)\n",
    "    return df"
   ]
  },
  {
   "cell_type": "code",
   "execution_count": 395,
   "id": "17d54de1",
   "metadata": {
    "ExecuteTime": {
     "end_time": "2023-05-08T19:25:59.453992Z",
     "start_time": "2023-05-08T19:25:49.989512Z"
    }
   },
   "outputs": [
    {
     "data": {
      "text/html": [
       "<div>\n",
       "<style scoped>\n",
       "    .dataframe tbody tr th:only-of-type {\n",
       "        vertical-align: middle;\n",
       "    }\n",
       "\n",
       "    .dataframe tbody tr th {\n",
       "        vertical-align: top;\n",
       "    }\n",
       "\n",
       "    .dataframe thead th {\n",
       "        text-align: right;\n",
       "    }\n",
       "</style>\n",
       "<table border=\"1\" class=\"dataframe\">\n",
       "  <thead>\n",
       "    <tr style=\"text-align: right;\">\n",
       "      <th></th>\n",
       "      <th>popular</th>\n",
       "      <th>implicit_als</th>\n",
       "      <th>svd</th>\n",
       "      <th>als</th>\n",
       "      <th>item2item</th>\n",
       "    </tr>\n",
       "  </thead>\n",
       "  <tbody>\n",
       "    <tr>\n",
       "      <th>hitrate</th>\n",
       "      <td>0.006702</td>\n",
       "      <td>0.003575</td>\n",
       "      <td>0.000447</td>\n",
       "      <td>0.001340</td>\n",
       "      <td>0.000894</td>\n",
       "    </tr>\n",
       "    <tr>\n",
       "      <th>accuracy</th>\n",
       "      <td>0.000067</td>\n",
       "      <td>0.000036</td>\n",
       "      <td>0.000004</td>\n",
       "      <td>0.000013</td>\n",
       "      <td>0.000009</td>\n",
       "    </tr>\n",
       "    <tr>\n",
       "      <th>mrr</th>\n",
       "      <td>0.000520</td>\n",
       "      <td>0.000216</td>\n",
       "      <td>0.000025</td>\n",
       "      <td>0.000051</td>\n",
       "      <td>0.000011</td>\n",
       "    </tr>\n",
       "  </tbody>\n",
       "</table>\n",
       "</div>"
      ],
      "text/plain": [
       "           popular  implicit_als       svd       als  item2item\n",
       "hitrate   0.006702      0.003575  0.000447  0.001340   0.000894\n",
       "accuracy  0.000067      0.000036  0.000004  0.000013   0.000009\n",
       "mrr       0.000520      0.000216  0.000025  0.000051   0.000011"
      ]
     },
     "execution_count": 395,
     "metadata": {},
     "output_type": "execute_result"
    },
    {
     "data": {
      "application/javascript": [
       "\n",
       "            setTimeout(function() {\n",
       "                var nbb_cell_id = 395;\n",
       "                var nbb_unformatted_code = \"compute_all_metrics()\";\n",
       "                var nbb_formatted_code = \"compute_all_metrics()\";\n",
       "                var nbb_cells = Jupyter.notebook.get_cells();\n",
       "                for (var i = 0; i < nbb_cells.length; ++i) {\n",
       "                    if (nbb_cells[i].input_prompt_number == nbb_cell_id) {\n",
       "                        if (nbb_cells[i].get_text() == nbb_unformatted_code) {\n",
       "                             nbb_cells[i].set_text(nbb_formatted_code);\n",
       "                        }\n",
       "                        break;\n",
       "                    }\n",
       "                }\n",
       "            }, 500);\n",
       "            "
      ],
      "text/plain": [
       "<IPython.core.display.Javascript object>"
      ]
     },
     "metadata": {},
     "output_type": "display_data"
    }
   ],
   "source": [
    "compute_all_metrics()"
   ]
  },
  {
   "cell_type": "markdown",
   "id": "82c009ef",
   "metadata": {},
   "source": [
    "### Recommendations <span id=Recommendations_></span>"
   ]
  },
  {
   "cell_type": "code",
   "execution_count": 400,
   "id": "f75cb20a",
   "metadata": {
    "ExecuteTime": {
     "end_time": "2023-05-08T19:27:34.739620Z",
     "start_time": "2023-05-08T19:27:34.720603Z"
    }
   },
   "outputs": [
    {
     "data": {
      "application/javascript": [
       "\n",
       "            setTimeout(function() {\n",
       "                var nbb_cell_id = 400;\n",
       "                var nbb_unformatted_code = \"def get_recommendations(\\n    model, indexed_coo_array: IndexedCooArray, n_recommendations: int = 10\\n):\\n    ratings = model.predict(indexed_coo_array)\\n    recommendations = ratings_to_filtered_recommendations(\\n        ratings=ratings,\\n        feedback_csr=indexed_coo_array.coo_array.tocsr(),\\n        n_recommendations=n_recommendations,\\n    )\\n    return recommendations\\n\\n\\ndef compare_recommendations(user_index: int, n_recommendations: int = 10):\\n    user_index_slice = slice(user_index, user_index + 1)\\n    user_indexed_coo_array = DATA.train_indexed_coo_array[user_index_slice]\\n    recommendations = dict()\\n\\n    for name in [\\\"item2item\\\", \\\"als\\\", \\\"implicit_als\\\"]:\\n        model = MODELS.__dict__[name]\\n        model_recommendations = get_recommendations(\\n            model, user_indexed_coo_array, n_recommendations\\n        )\\n        model_recommendations = model_recommendations.squeeze(0)\\n        recommendations[name] = model_recommendations\\n\\n    df = pd.DataFrame(recommendations)\\n    recommendation_sets = [set(col) for col in df.T.values]\\n    matplotlib_venn.venn3(recommendation_sets, set_labels=df.columns)\\n    plt.title(f\\\"Recommendation sets for user {user_index}\\\")\\n\\n    return df\";\n",
       "                var nbb_formatted_code = \"def get_recommendations(\\n    model, indexed_coo_array: IndexedCooArray, n_recommendations: int = 10\\n):\\n    ratings = model.predict(indexed_coo_array)\\n    recommendations = ratings_to_filtered_recommendations(\\n        ratings=ratings,\\n        feedback_csr=indexed_coo_array.coo_array.tocsr(),\\n        n_recommendations=n_recommendations,\\n    )\\n    return recommendations\\n\\n\\ndef compare_recommendations(user_index: int, n_recommendations: int = 10):\\n    user_index_slice = slice(user_index, user_index + 1)\\n    user_indexed_coo_array = DATA.train_indexed_coo_array[user_index_slice]\\n    recommendations = dict()\\n\\n    for name in [\\\"item2item\\\", \\\"als\\\", \\\"implicit_als\\\"]:\\n        model = MODELS.__dict__[name]\\n        model_recommendations = get_recommendations(\\n            model, user_indexed_coo_array, n_recommendations\\n        )\\n        model_recommendations = model_recommendations.squeeze(0)\\n        recommendations[name] = model_recommendations\\n\\n    df = pd.DataFrame(recommendations)\\n    recommendation_sets = [set(col) for col in df.T.values]\\n    matplotlib_venn.venn3(recommendation_sets, set_labels=df.columns)\\n    plt.title(f\\\"Recommendation sets for user {user_index}\\\")\\n\\n    return df\";\n",
       "                var nbb_cells = Jupyter.notebook.get_cells();\n",
       "                for (var i = 0; i < nbb_cells.length; ++i) {\n",
       "                    if (nbb_cells[i].input_prompt_number == nbb_cell_id) {\n",
       "                        if (nbb_cells[i].get_text() == nbb_unformatted_code) {\n",
       "                             nbb_cells[i].set_text(nbb_formatted_code);\n",
       "                        }\n",
       "                        break;\n",
       "                    }\n",
       "                }\n",
       "            }, 500);\n",
       "            "
      ],
      "text/plain": [
       "<IPython.core.display.Javascript object>"
      ]
     },
     "metadata": {},
     "output_type": "display_data"
    }
   ],
   "source": [
    "def get_recommendations(\n",
    "    model, indexed_coo_array: IndexedCooArray, n_recommendations: int = 10\n",
    "):\n",
    "    ratings = model.predict(indexed_coo_array)\n",
    "    recommendations = ratings_to_filtered_recommendations(\n",
    "        ratings=ratings,\n",
    "        feedback_csr=indexed_coo_array.coo_array.tocsr(),\n",
    "        n_recommendations=n_recommendations,\n",
    "    )\n",
    "    return recommendations\n",
    "\n",
    "\n",
    "def compare_recommendations(user_index: int, n_recommendations: int = 10):\n",
    "    user_index_slice = slice(user_index, user_index + 1)\n",
    "    user_indexed_coo_array = DATA.train_indexed_coo_array[user_index_slice]\n",
    "    recommendations = dict()\n",
    "\n",
    "    for name in [\"item2item\", \"als\", \"implicit_als\"]:\n",
    "        model = MODELS.__dict__[name]\n",
    "        model_recommendations = get_recommendations(\n",
    "            model, user_indexed_coo_array, n_recommendations\n",
    "        )\n",
    "        model_recommendations = model_recommendations.squeeze(0)\n",
    "        recommendations[name] = model_recommendations\n",
    "\n",
    "    df = pd.DataFrame(recommendations)\n",
    "    recommendation_sets = [set(col) for col in df.T.values]\n",
    "    matplotlib_venn.venn3(recommendation_sets, set_labels=df.columns)\n",
    "    plt.title(f\"Recommendation sets for user {user_index}\")\n",
    "\n",
    "    return df"
   ]
  },
  {
   "cell_type": "code",
   "execution_count": 403,
   "id": "dbb6e82b",
   "metadata": {
    "ExecuteTime": {
     "end_time": "2023-05-08T19:27:43.437942Z",
     "start_time": "2023-05-08T19:27:43.350413Z"
    }
   },
   "outputs": [
    {
     "data": {
      "text/html": [
       "<div>\n",
       "<style scoped>\n",
       "    .dataframe tbody tr th:only-of-type {\n",
       "        vertical-align: middle;\n",
       "    }\n",
       "\n",
       "    .dataframe tbody tr th {\n",
       "        vertical-align: top;\n",
       "    }\n",
       "\n",
       "    .dataframe thead th {\n",
       "        text-align: right;\n",
       "    }\n",
       "</style>\n",
       "<table border=\"1\" class=\"dataframe\">\n",
       "  <thead>\n",
       "    <tr style=\"text-align: right;\">\n",
       "      <th></th>\n",
       "      <th>item2item</th>\n",
       "      <th>als</th>\n",
       "      <th>implicit_als</th>\n",
       "    </tr>\n",
       "  </thead>\n",
       "  <tbody>\n",
       "    <tr>\n",
       "      <th>0</th>\n",
       "      <td>73005</td>\n",
       "      <td>83256</td>\n",
       "      <td>14759</td>\n",
       "    </tr>\n",
       "    <tr>\n",
       "      <th>1</th>\n",
       "      <td>14281</td>\n",
       "      <td>588</td>\n",
       "      <td>52996</td>\n",
       "    </tr>\n",
       "    <tr>\n",
       "      <th>2</th>\n",
       "      <td>33360</td>\n",
       "      <td>4299</td>\n",
       "      <td>7071</td>\n",
       "    </tr>\n",
       "    <tr>\n",
       "      <th>3</th>\n",
       "      <td>76479</td>\n",
       "      <td>7785</td>\n",
       "      <td>73005</td>\n",
       "    </tr>\n",
       "    <tr>\n",
       "      <th>4</th>\n",
       "      <td>58020</td>\n",
       "      <td>35009</td>\n",
       "      <td>33360</td>\n",
       "    </tr>\n",
       "    <tr>\n",
       "      <th>...</th>\n",
       "      <td>...</td>\n",
       "      <td>...</td>\n",
       "      <td>...</td>\n",
       "    </tr>\n",
       "    <tr>\n",
       "      <th>95</th>\n",
       "      <td>72</td>\n",
       "      <td>1831</td>\n",
       "      <td>8024</td>\n",
       "    </tr>\n",
       "    <tr>\n",
       "      <th>96</th>\n",
       "      <td>8</td>\n",
       "      <td>3909</td>\n",
       "      <td>44230</td>\n",
       "    </tr>\n",
       "    <tr>\n",
       "      <th>97</th>\n",
       "      <td>17</td>\n",
       "      <td>7570</td>\n",
       "      <td>46013</td>\n",
       "    </tr>\n",
       "    <tr>\n",
       "      <th>98</th>\n",
       "      <td>35</td>\n",
       "      <td>33155</td>\n",
       "      <td>88051</td>\n",
       "    </tr>\n",
       "    <tr>\n",
       "      <th>99</th>\n",
       "      <td>71</td>\n",
       "      <td>1934</td>\n",
       "      <td>52804</td>\n",
       "    </tr>\n",
       "  </tbody>\n",
       "</table>\n",
       "<p>100 rows × 3 columns</p>\n",
       "</div>"
      ],
      "text/plain": [
       "    item2item    als  implicit_als\n",
       "0       73005  83256         14759\n",
       "1       14281    588         52996\n",
       "2       33360   4299          7071\n",
       "3       76479   7785         73005\n",
       "4       58020  35009         33360\n",
       "..        ...    ...           ...\n",
       "95         72   1831          8024\n",
       "96          8   3909         44230\n",
       "97         17   7570         46013\n",
       "98         35  33155         88051\n",
       "99         71   1934         52804\n",
       "\n",
       "[100 rows x 3 columns]"
      ]
     },
     "execution_count": 403,
     "metadata": {},
     "output_type": "execute_result"
    },
    {
     "data": {
      "image/png": "[encoded data removed]",
      "text/plain": [
       "<Figure size 640x480 with 1 Axes>"
      ]
     },
     "metadata": {},
     "output_type": "display_data"
    },
    {
     "data": {
      "application/javascript": [
       "\n",
       "            setTimeout(function() {\n",
       "                var nbb_cell_id = 403;\n",
       "                var nbb_unformatted_code = \"compare_recommendations(user_index=3, n_recommendations=100)\";\n",
       "                var nbb_formatted_code = \"compare_recommendations(user_index=3, n_recommendations=100)\";\n",
       "                var nbb_cells = Jupyter.notebook.get_cells();\n",
       "                for (var i = 0; i < nbb_cells.length; ++i) {\n",
       "                    if (nbb_cells[i].input_prompt_number == nbb_cell_id) {\n",
       "                        if (nbb_cells[i].get_text() == nbb_unformatted_code) {\n",
       "                             nbb_cells[i].set_text(nbb_formatted_code);\n",
       "                        }\n",
       "                        break;\n",
       "                    }\n",
       "                }\n",
       "            }, 500);\n",
       "            "
      ],
      "text/plain": [
       "<IPython.core.display.Javascript object>"
      ]
     },
     "metadata": {},
     "output_type": "display_data"
    }
   ],
   "source": [
    "compare_recommendations(user_index=3, n_recommendations=100)"
   ]
  },
  {
   "cell_type": "markdown",
   "id": "76d55342",
   "metadata": {},
   "source": [
    "I noticed that sometimes item2item gives only a handful of meaningful recommendations, after which it recommends items with the least indices. This is because within small datasets there can be a situation when some users interacted with items with which noone else or only a small group of people interacted, leading to small set of neighrest neighbors from which item2item can extract recommendations, which can be smaller in size than requested number of recommendations."
   ]
  },
  {
   "cell_type": "code",
   "execution_count": null,
   "id": "2e1c14fd",
   "metadata": {},
   "outputs": [],
   "source": []
  }
 ],
 "metadata": {
  "kernelspec": {
   "display_name": "Python 3 (ipykernel)",
   "language": "python",
   "name": "python3"
  },
  "language_info": {
   "codemirror_mode": {
    "name": "ipython",
    "version": 3
   },
   "file_extension": ".py",
   "mimetype": "text/x-python",
   "name": "python",
   "nbconvert_exporter": "python",
   "pygments_lexer": "ipython3",
   "version": "3.11.3"
  }
 },
 "nbformat": 4,
 "nbformat_minor": 5
}
