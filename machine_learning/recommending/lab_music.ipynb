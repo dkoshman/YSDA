{
 "cells": [
  {
   "cell_type": "markdown",
   "id": "4bedfb13",
   "metadata": {},
   "source": [
    "## [Description](#Description_)\n",
    "## [Research](#Research_)\n",
    "## [Imports](#Imports_)\n",
    "## [Globals](#Globals_)\n",
    "## [Utils](#Utils_)\n",
    "## [Setup](#Setup_)\n",
    "## [Data](#Data_)\n",
    "## [Data exploration](#Data_exploration_)\n",
    "## [Model](#Model_)\n",
    "## [Training](#Training_)\n",
    "## [Results](#Results_)"
   ]
  },
  {
   "cell_type": "markdown",
   "id": "50dd931f",
   "metadata": {},
   "source": [
    "## Description <span id=Description_></span>"
   ]
  },
  {
   "cell_type": "markdown",
   "id": "ae90c4df",
   "metadata": {},
   "source": [
    "# План домашней работы\n",
    "1. Реализовать алгоритмы **item2item**, **ALS**, **IALS** (2 балл за каждый)\n",
    "2. Посчитать метрику предсказаний **MRR@100** выбрасывая случайный лайк пользователя (2 балла)\n",
    "\n",
    "Будем решать задачу предсказания: на 4/5 пользователей учимся, на 1/5 выбрасываем случайный лайк и пытаемся предсказать его беря топ 100 наших лучших предсказаний для этого пользователя.\n",
    "\n",
    "MRR@100 будет равно $1/(p+1)$, где $p$ - позиция на которой оказался выброшенный лайк в нашем ранжировании и 0 если в топ 100 его не было.\n",
    "\n",
    "3. Подобрать параметры алгоритмов для максимизации MRR@100 (1 балл)\n",
    "4. Сравнить похожести айтемов получаюшиеся для item2item, ALS, IALS (1 балл)\n",
    "\n",
    "Замерить насколько получаются похожими топы похожестей. Так же рекомендуется взять 5-топовых (или любимых) треков и посмотреть на похожести которые получаются для них в разных алгоритмах."
   ]
  },
  {
   "cell_type": "markdown",
   "id": "4f167286",
   "metadata": {},
   "source": [
    "### Ссылки на датасет музыки:\n",
    "\n",
    "1. Матричка: https://disk.yandex.ru/d/cLbDbw3mCido_w\n",
    "2. Имена тайтемов: https://disk.yandex.ru/d/pPCaGJOqcpcABw\n",
    "3. Линки между айтемами: https://disk.yandex.ru/d/hMErnDJqtVm9HQ"
   ]
  },
  {
   "cell_type": "markdown",
   "id": "aef064d6",
   "metadata": {},
   "source": [
    "## Research <span id=Research_></span>"
   ]
  },
  {
   "cell_type": "markdown",
   "id": "31b54491",
   "metadata": {},
   "source": [
    "- [Implicit ALS](http://yifanhu.net/PUB/cf.pdf)"
   ]
  },
  {
   "cell_type": "markdown",
   "id": "c11fe224",
   "metadata": {},
   "source": [
    "## Imports <span id=Imports_></span>"
   ]
  },
  {
   "cell_type": "code",
   "execution_count": 1,
   "id": "3dc0d0a4",
   "metadata": {
    "ExecuteTime": {
     "end_time": "2023-05-06T14:02:00.712778Z",
     "start_time": "2023-05-06T14:02:00.241077Z"
    }
   },
   "outputs": [
    {
     "name": "stderr",
     "output_type": "stream",
     "text": [
      "/var/folders/5w/gytwm8sd6vldh9ym3dvj_x_m0000gn/T/ipykernel_21056/4257362716.py:9: TqdmExperimentalWarning: Using `tqdm.autonotebook.tqdm` in notebook mode. Use `tqdm.tqdm` instead to force console mode (e.g. in jupyter console)\n",
      "  from tqdm.autonotebook import tqdm\n"
     ]
    },
    {
     "data": {
      "application/javascript": [
       "\n",
       "            setTimeout(function() {\n",
       "                var nbb_cell_id = 1;\n",
       "                var nbb_unformatted_code = \"import functools\\nimport glob\\nimport numpy as np\\nimport os\\nimport pandas as pd\\nimport requests\\nimport scipy\\nimport sys\\nfrom tqdm.autonotebook import tqdm\\nimport types\\nfrom typing import Callable\\nimport urllib\\nimport zipfile\\n\\n%load_ext nb_black\";\n",
       "                var nbb_formatted_code = \"import functools\\nimport glob\\nimport numpy as np\\nimport os\\nimport pandas as pd\\nimport requests\\nimport scipy\\nimport sys\\nfrom tqdm.autonotebook import tqdm\\nimport types\\nfrom typing import Callable\\nimport urllib\\nimport zipfile\\n\\n%load_ext nb_black\";\n",
       "                var nbb_cells = Jupyter.notebook.get_cells();\n",
       "                for (var i = 0; i < nbb_cells.length; ++i) {\n",
       "                    if (nbb_cells[i].input_prompt_number == nbb_cell_id) {\n",
       "                        if (nbb_cells[i].get_text() == nbb_unformatted_code) {\n",
       "                             nbb_cells[i].set_text(nbb_formatted_code);\n",
       "                        }\n",
       "                        break;\n",
       "                    }\n",
       "                }\n",
       "            }, 500);\n",
       "            "
      ],
      "text/plain": [
       "<IPython.core.display.Javascript object>"
      ]
     },
     "metadata": {},
     "output_type": "display_data"
    }
   ],
   "source": [
    "import functools\n",
    "import glob\n",
    "import numpy as np\n",
    "import os\n",
    "import pandas as pd\n",
    "import requests\n",
    "import scipy\n",
    "import sys\n",
    "from tqdm.autonotebook import tqdm\n",
    "import types\n",
    "from typing import Callable\n",
    "import urllib\n",
    "import zipfile\n",
    "\n",
    "%load_ext nb_black"
   ]
  },
  {
   "cell_type": "markdown",
   "id": "dc8f381a",
   "metadata": {},
   "source": [
    "## Globals <span id=Globals_></span>"
   ]
  },
  {
   "cell_type": "code",
   "execution_count": 2,
   "id": "02b5f84b",
   "metadata": {
    "ExecuteTime": {
     "end_time": "2023-05-06T14:02:03.124140Z",
     "start_time": "2023-05-06T14:02:03.116800Z"
    }
   },
   "outputs": [
    {
     "data": {
      "application/javascript": [
       "\n",
       "            setTimeout(function() {\n",
       "                var nbb_cell_id = 2;\n",
       "                var nbb_unformatted_code = \"CONFIG = types.SimpleNamespace()\\nDATA = types.SimpleNamespace()\";\n",
       "                var nbb_formatted_code = \"CONFIG = types.SimpleNamespace()\\nDATA = types.SimpleNamespace()\";\n",
       "                var nbb_cells = Jupyter.notebook.get_cells();\n",
       "                for (var i = 0; i < nbb_cells.length; ++i) {\n",
       "                    if (nbb_cells[i].input_prompt_number == nbb_cell_id) {\n",
       "                        if (nbb_cells[i].get_text() == nbb_unformatted_code) {\n",
       "                             nbb_cells[i].set_text(nbb_formatted_code);\n",
       "                        }\n",
       "                        break;\n",
       "                    }\n",
       "                }\n",
       "            }, 500);\n",
       "            "
      ],
      "text/plain": [
       "<IPython.core.display.Javascript object>"
      ]
     },
     "metadata": {},
     "output_type": "display_data"
    }
   ],
   "source": [
    "CONFIG = types.SimpleNamespace()\n",
    "DATA = types.SimpleNamespace()"
   ]
  },
  {
   "cell_type": "markdown",
   "id": "628a3c6c",
   "metadata": {},
   "source": [
    "## Utils <span id=Utils_></span>"
   ]
  },
  {
   "cell_type": "markdown",
   "id": "49b6ba04",
   "metadata": {
    "ExecuteTime": {
     "end_time": "2023-05-06T08:56:36.216966Z",
     "start_time": "2023-05-06T08:56:36.212794Z"
    }
   },
   "source": [
    "### Markdown"
   ]
  },
  {
   "cell_type": "code",
   "execution_count": 3,
   "id": "4e6a0b3a",
   "metadata": {
    "ExecuteTime": {
     "end_time": "2023-05-06T14:02:03.855412Z",
     "start_time": "2023-05-06T14:02:03.841666Z"
    }
   },
   "outputs": [
    {
     "data": {
      "application/javascript": [
       "\n",
       "            setTimeout(function() {\n",
       "                var nbb_cell_id = 3;\n",
       "                var nbb_unformatted_code = \"def make_new_markdown_section_with_link(section, header=\\\"##\\\", do_print=True):\\n    section_id = section.replace(\\\" \\\", \\\"_\\\") + \\\"_\\\"\\n    section_link = f\\\"{header} [{section}](#{section_id})\\\"\\n    section_header = f\\\"{header} {section} <span id={section_id}></span>\\\"\\n    if do_print:\\n        print(section_link + \\\"\\\\n\\\" + section_header)\\n    return section_link, section_header\\n\\n\\ndef make_several_sections(\\n    section_names=(\\n        \\\"Description\\\",\\n        \\\"Imports\\\",\\n        \\\"Globals\\\",\\n        \\\"Setup\\\",\\n        \\\"Data\\\",\\n        \\\"Data exploration\\\",\\n        \\\"Model\\\",\\n        \\\"Training\\\",\\n        \\\"Results\\\",\\n    )\\n):\\n    links, headers = zip(\\n        *[\\n            make_new_markdown_section_with_link(sn, do_print=False)\\n            for sn in section_names\\n        ]\\n    )\\n    print(\\\"\\\\n\\\".join(links + (\\\"\\\",) + headers))\";\n",
       "                var nbb_formatted_code = \"def make_new_markdown_section_with_link(section, header=\\\"##\\\", do_print=True):\\n    section_id = section.replace(\\\" \\\", \\\"_\\\") + \\\"_\\\"\\n    section_link = f\\\"{header} [{section}](#{section_id})\\\"\\n    section_header = f\\\"{header} {section} <span id={section_id}></span>\\\"\\n    if do_print:\\n        print(section_link + \\\"\\\\n\\\" + section_header)\\n    return section_link, section_header\\n\\n\\ndef make_several_sections(\\n    section_names=(\\n        \\\"Description\\\",\\n        \\\"Imports\\\",\\n        \\\"Globals\\\",\\n        \\\"Setup\\\",\\n        \\\"Data\\\",\\n        \\\"Data exploration\\\",\\n        \\\"Model\\\",\\n        \\\"Training\\\",\\n        \\\"Results\\\",\\n    )\\n):\\n    links, headers = zip(\\n        *[\\n            make_new_markdown_section_with_link(sn, do_print=False)\\n            for sn in section_names\\n        ]\\n    )\\n    print(\\\"\\\\n\\\".join(links + (\\\"\\\",) + headers))\";\n",
       "                var nbb_cells = Jupyter.notebook.get_cells();\n",
       "                for (var i = 0; i < nbb_cells.length; ++i) {\n",
       "                    if (nbb_cells[i].input_prompt_number == nbb_cell_id) {\n",
       "                        if (nbb_cells[i].get_text() == nbb_unformatted_code) {\n",
       "                             nbb_cells[i].set_text(nbb_formatted_code);\n",
       "                        }\n",
       "                        break;\n",
       "                    }\n",
       "                }\n",
       "            }, 500);\n",
       "            "
      ],
      "text/plain": [
       "<IPython.core.display.Javascript object>"
      ]
     },
     "metadata": {},
     "output_type": "display_data"
    }
   ],
   "source": [
    "def make_new_markdown_section_with_link(section, header=\"##\", do_print=True):\n",
    "    section_id = section.replace(\" \", \"_\") + \"_\"\n",
    "    section_link = f\"{header} [{section}](#{section_id})\"\n",
    "    section_header = f\"{header} {section} <span id={section_id}></span>\"\n",
    "    if do_print:\n",
    "        print(section_link + \"\\n\" + section_header)\n",
    "    return section_link, section_header\n",
    "\n",
    "\n",
    "def make_several_sections(\n",
    "    section_names=(\n",
    "        \"Description\",\n",
    "        \"Imports\",\n",
    "        \"Globals\",\n",
    "        \"Setup\",\n",
    "        \"Data\",\n",
    "        \"Data exploration\",\n",
    "        \"Model\",\n",
    "        \"Training\",\n",
    "        \"Results\",\n",
    "    )\n",
    "):\n",
    "    links, headers = zip(\n",
    "        *[\n",
    "            make_new_markdown_section_with_link(sn, do_print=False)\n",
    "            for sn in section_names\n",
    "        ]\n",
    "    )\n",
    "    print(\"\\n\".join(links + (\"\",) + headers))"
   ]
  },
  {
   "cell_type": "markdown",
   "id": "5fee391d",
   "metadata": {
    "ExecuteTime": {
     "end_time": "2023-05-06T09:03:17.635059Z",
     "start_time": "2023-05-06T09:03:17.626076Z"
    }
   },
   "source": [
    "### Yadisk"
   ]
  },
  {
   "cell_type": "code",
   "execution_count": 4,
   "id": "f28ca089",
   "metadata": {
    "ExecuteTime": {
     "end_time": "2023-05-06T14:02:04.414916Z",
     "start_time": "2023-05-06T14:02:04.403661Z"
    }
   },
   "outputs": [
    {
     "data": {
      "application/javascript": [
       "\n",
       "            setTimeout(function() {\n",
       "                var nbb_cell_id = 4;\n",
       "                var nbb_unformatted_code = \"def get_yadisk_download_url(\\n    yadisk_url: str,\\n    base_url=\\\"https://cloud-api.yandex.net/v1/disk/public/resources/download?\\\",\\n) -> str:\\n    final_url = base_url + urllib.parse.urlencode(dict(public_key=yadisk_url))\\n    response = requests.get(final_url)\\n    download_url = response.json()[\\\"href\\\"]\\n    return download_url\\n\\n\\ndef write_response_content(url: str, filename: str) -> None:\\n    download_response = requests.get(url)\\n    with open(filename, \\\"wb\\\") as f:\\n        f.write(download_response.content)\";\n",
       "                var nbb_formatted_code = \"def get_yadisk_download_url(\\n    yadisk_url: str,\\n    base_url=\\\"https://cloud-api.yandex.net/v1/disk/public/resources/download?\\\",\\n) -> str:\\n    final_url = base_url + urllib.parse.urlencode(dict(public_key=yadisk_url))\\n    response = requests.get(final_url)\\n    download_url = response.json()[\\\"href\\\"]\\n    return download_url\\n\\n\\ndef write_response_content(url: str, filename: str) -> None:\\n    download_response = requests.get(url)\\n    with open(filename, \\\"wb\\\") as f:\\n        f.write(download_response.content)\";\n",
       "                var nbb_cells = Jupyter.notebook.get_cells();\n",
       "                for (var i = 0; i < nbb_cells.length; ++i) {\n",
       "                    if (nbb_cells[i].input_prompt_number == nbb_cell_id) {\n",
       "                        if (nbb_cells[i].get_text() == nbb_unformatted_code) {\n",
       "                             nbb_cells[i].set_text(nbb_formatted_code);\n",
       "                        }\n",
       "                        break;\n",
       "                    }\n",
       "                }\n",
       "            }, 500);\n",
       "            "
      ],
      "text/plain": [
       "<IPython.core.display.Javascript object>"
      ]
     },
     "metadata": {},
     "output_type": "display_data"
    }
   ],
   "source": [
    "def get_yadisk_download_url(\n",
    "    yadisk_url: str,\n",
    "    base_url=\"https://cloud-api.yandex.net/v1/disk/public/resources/download?\",\n",
    ") -> str:\n",
    "    final_url = base_url + urllib.parse.urlencode(dict(public_key=yadisk_url))\n",
    "    response = requests.get(final_url)\n",
    "    download_url = response.json()[\"href\"]\n",
    "    return download_url\n",
    "\n",
    "\n",
    "def write_response_content(url: str, filename: str) -> None:\n",
    "    download_response = requests.get(url)\n",
    "    with open(filename, \"wb\") as f:\n",
    "        f.write(download_response.content)"
   ]
  },
  {
   "cell_type": "markdown",
   "id": "68c5d2e8",
   "metadata": {},
   "source": [
    "### Cli"
   ]
  },
  {
   "cell_type": "code",
   "execution_count": 5,
   "id": "d9a02d8e",
   "metadata": {
    "ExecuteTime": {
     "end_time": "2023-05-06T14:02:05.376854Z",
     "start_time": "2023-05-06T14:02:05.368309Z"
    }
   },
   "outputs": [
    {
     "data": {
      "application/javascript": [
       "\n",
       "            setTimeout(function() {\n",
       "                var nbb_cell_id = 5;\n",
       "                var nbb_unformatted_code = \"def unzip(zip_path, save_path=None, delete_zip=False):\\n    !unzip {zip_path} {\\\"-d \\\"+ save_path if save_path else \\\"\\\"}\\n    if delete_zip:\\n        for path in glob.glob(zip_path):\\n            if path.endswith(\\\".zip\\\"):\\n                !trash {path}\";\n",
       "                var nbb_formatted_code = \"def unzip(zip_path, save_path=None, delete_zip=False):\\n    !unzip {zip_path} {\\\"-d \\\"+ save_path if save_path else \\\"\\\"}\\n    if delete_zip:\\n        for path in glob.glob(zip_path):\\n            if path.endswith(\\\".zip\\\"):\\n                !trash {path}\";\n",
       "                var nbb_cells = Jupyter.notebook.get_cells();\n",
       "                for (var i = 0; i < nbb_cells.length; ++i) {\n",
       "                    if (nbb_cells[i].input_prompt_number == nbb_cell_id) {\n",
       "                        if (nbb_cells[i].get_text() == nbb_unformatted_code) {\n",
       "                             nbb_cells[i].set_text(nbb_formatted_code);\n",
       "                        }\n",
       "                        break;\n",
       "                    }\n",
       "                }\n",
       "            }, 500);\n",
       "            "
      ],
      "text/plain": [
       "<IPython.core.display.Javascript object>"
      ]
     },
     "metadata": {},
     "output_type": "display_data"
    }
   ],
   "source": [
    "def unzip(zip_path, save_path=None, delete_zip=False):\n",
    "    !unzip {zip_path} {\"-d \"+ save_path if save_path else \"\"}\n",
    "    if delete_zip:\n",
    "        for path in glob.glob(zip_path):\n",
    "            if path.endswith(\".zip\"):\n",
    "                !trash {path}"
   ]
  },
  {
   "cell_type": "markdown",
   "id": "fe81ebc1",
   "metadata": {},
   "source": [
    "### Other"
   ]
  },
  {
   "cell_type": "code",
   "execution_count": 6,
   "id": "f407e545",
   "metadata": {
    "ExecuteTime": {
     "end_time": "2023-05-06T14:02:06.056824Z",
     "start_time": "2023-05-06T14:02:06.049044Z"
    }
   },
   "outputs": [
    {
     "data": {
      "application/javascript": [
       "\n",
       "            setTimeout(function() {\n",
       "                var nbb_cell_id = 6;\n",
       "                var nbb_unformatted_code = \"def load_or_build_and_save(\\n    path: str, load: Callable[[str], \\\"T\\\"], build_and_save: Callable[[str], \\\"T\\\"]\\n) -> \\\"T\\\":\\n    if os.path.exists(path):\\n        print(f\\\"Reusing object {path}\\\", file=sys.stderr)\\n        return load(path)\\n    return build_and_save(path)\";\n",
       "                var nbb_formatted_code = \"def load_or_build_and_save(\\n    path: str, load: Callable[[str], \\\"T\\\"], build_and_save: Callable[[str], \\\"T\\\"]\\n) -> \\\"T\\\":\\n    if os.path.exists(path):\\n        print(f\\\"Reusing object {path}\\\", file=sys.stderr)\\n        return load(path)\\n    return build_and_save(path)\";\n",
       "                var nbb_cells = Jupyter.notebook.get_cells();\n",
       "                for (var i = 0; i < nbb_cells.length; ++i) {\n",
       "                    if (nbb_cells[i].input_prompt_number == nbb_cell_id) {\n",
       "                        if (nbb_cells[i].get_text() == nbb_unformatted_code) {\n",
       "                             nbb_cells[i].set_text(nbb_formatted_code);\n",
       "                        }\n",
       "                        break;\n",
       "                    }\n",
       "                }\n",
       "            }, 500);\n",
       "            "
      ],
      "text/plain": [
       "<IPython.core.display.Javascript object>"
      ]
     },
     "metadata": {},
     "output_type": "display_data"
    }
   ],
   "source": [
    "def load_or_build_and_save(\n",
    "    path: str, load: Callable[[str], \"T\"], build_and_save: Callable[[str], \"T\"]\n",
    ") -> \"T\":\n",
    "    if os.path.exists(path):\n",
    "        print(f\"Reusing object {path}\", file=sys.stderr)\n",
    "        return load(path)\n",
    "    return build_and_save(path)"
   ]
  },
  {
   "cell_type": "markdown",
   "id": "12672768",
   "metadata": {},
   "source": [
    "## Setup <span id=Setup_></span>"
   ]
  },
  {
   "cell_type": "code",
   "execution_count": 7,
   "id": "e7f0b65b",
   "metadata": {
    "ExecuteTime": {
     "end_time": "2023-05-06T14:02:06.630257Z",
     "start_time": "2023-05-06T14:02:06.622653Z"
    }
   },
   "outputs": [
    {
     "data": {
      "application/javascript": [
       "\n",
       "            setTimeout(function() {\n",
       "                var nbb_cell_id = 7;\n",
       "                var nbb_unformatted_code = \"DATA.yadisk_df_url = \\\"https://disk.yandex.ru/d/cLbDbw3mCido_w\\\"\\nDATA.yadisk_names_url = \\\"https://disk.yandex.ru/d/pPCaGJOqcpcABw\\\"\\nDATA.yadisk_links_url = \\\"https://disk.yandex.ru/d/hMErnDJqtVm9HQ\\\"\\n\\nDATA.df_filename = \\\"data/music/df\\\"\\nDATA.names_filename = \\\"data/music/names\\\"\\nDATA.links_filename = \\\"data/music/links\\\"\";\n",
       "                var nbb_formatted_code = \"DATA.yadisk_df_url = \\\"https://disk.yandex.ru/d/cLbDbw3mCido_w\\\"\\nDATA.yadisk_names_url = \\\"https://disk.yandex.ru/d/pPCaGJOqcpcABw\\\"\\nDATA.yadisk_links_url = \\\"https://disk.yandex.ru/d/hMErnDJqtVm9HQ\\\"\\n\\nDATA.df_filename = \\\"data/music/df\\\"\\nDATA.names_filename = \\\"data/music/names\\\"\\nDATA.links_filename = \\\"data/music/links\\\"\";\n",
       "                var nbb_cells = Jupyter.notebook.get_cells();\n",
       "                for (var i = 0; i < nbb_cells.length; ++i) {\n",
       "                    if (nbb_cells[i].input_prompt_number == nbb_cell_id) {\n",
       "                        if (nbb_cells[i].get_text() == nbb_unformatted_code) {\n",
       "                             nbb_cells[i].set_text(nbb_formatted_code);\n",
       "                        }\n",
       "                        break;\n",
       "                    }\n",
       "                }\n",
       "            }, 500);\n",
       "            "
      ],
      "text/plain": [
       "<IPython.core.display.Javascript object>"
      ]
     },
     "metadata": {},
     "output_type": "display_data"
    }
   ],
   "source": [
    "DATA.yadisk_df_url = \"https://disk.yandex.ru/d/cLbDbw3mCido_w\"\n",
    "DATA.yadisk_names_url = \"https://disk.yandex.ru/d/pPCaGJOqcpcABw\"\n",
    "DATA.yadisk_links_url = \"https://disk.yandex.ru/d/hMErnDJqtVm9HQ\"\n",
    "\n",
    "DATA.df_filename = \"data/music/df\"\n",
    "DATA.names_filename = \"data/music/names\"\n",
    "DATA.links_filename = \"data/music/links\""
   ]
  },
  {
   "cell_type": "code",
   "execution_count": 8,
   "id": "937e1aee",
   "metadata": {
    "ExecuteTime": {
     "end_time": "2023-05-06T14:02:06.970168Z",
     "start_time": "2023-05-06T14:02:06.929287Z"
    }
   },
   "outputs": [
    {
     "data": {
      "application/vnd.jupyter.widget-view+json": {
       "model_id": "01778fc7dfe04963b43b2d87a6046fcd",
       "version_major": 2,
       "version_minor": 0
      },
      "text/plain": [
       "0it [00:00, ?it/s]"
      ]
     },
     "metadata": {},
     "output_type": "display_data"
    },
    {
     "data": {
      "application/javascript": [
       "\n",
       "            setTimeout(function() {\n",
       "                var nbb_cell_id = 8;\n",
       "                var nbb_unformatted_code = \"for url, filename in tqdm(\\n    zip(\\n        [DATA.yadisk_df_url, DATA.yadisk_names_url, DATA.yadisk_links_url],\\n        [DATA.df_filename, DATA.names_filename, DATA.links_filename],\\n    )\\n):\\n    if not os.path.exists(filename):\\n        zip_filename = filename + \\\".zip\\\"\\n        write_response_content(\\n            url=get_yadisk_download_url(yadisk_url=url),\\n            filename=zip_filename,\\n        )\\n        unzip(zip_path=zip_filename, save_path=filename, delete_zip=True)\";\n",
       "                var nbb_formatted_code = \"for url, filename in tqdm(\\n    zip(\\n        [DATA.yadisk_df_url, DATA.yadisk_names_url, DATA.yadisk_links_url],\\n        [DATA.df_filename, DATA.names_filename, DATA.links_filename],\\n    )\\n):\\n    if not os.path.exists(filename):\\n        zip_filename = filename + \\\".zip\\\"\\n        write_response_content(\\n            url=get_yadisk_download_url(yadisk_url=url),\\n            filename=zip_filename,\\n        )\\n        unzip(zip_path=zip_filename, save_path=filename, delete_zip=True)\";\n",
       "                var nbb_cells = Jupyter.notebook.get_cells();\n",
       "                for (var i = 0; i < nbb_cells.length; ++i) {\n",
       "                    if (nbb_cells[i].input_prompt_number == nbb_cell_id) {\n",
       "                        if (nbb_cells[i].get_text() == nbb_unformatted_code) {\n",
       "                             nbb_cells[i].set_text(nbb_formatted_code);\n",
       "                        }\n",
       "                        break;\n",
       "                    }\n",
       "                }\n",
       "            }, 500);\n",
       "            "
      ],
      "text/plain": [
       "<IPython.core.display.Javascript object>"
      ]
     },
     "metadata": {},
     "output_type": "display_data"
    }
   ],
   "source": [
    "for url, filename in tqdm(\n",
    "    zip(\n",
    "        [DATA.yadisk_df_url, DATA.yadisk_names_url, DATA.yadisk_links_url],\n",
    "        [DATA.df_filename, DATA.names_filename, DATA.links_filename],\n",
    "    )\n",
    "):\n",
    "    if not os.path.exists(filename):\n",
    "        zip_filename = filename + \".zip\"\n",
    "        write_response_content(\n",
    "            url=get_yadisk_download_url(yadisk_url=url),\n",
    "            filename=zip_filename,\n",
    "        )\n",
    "        unzip(zip_path=zip_filename, save_path=filename, delete_zip=True)"
   ]
  },
  {
   "cell_type": "markdown",
   "id": "bd4525a8",
   "metadata": {},
   "source": [
    "## Data <span id=Data_></span>"
   ]
  },
  {
   "cell_type": "code",
   "execution_count": 9,
   "id": "51fcd968",
   "metadata": {
    "ExecuteTime": {
     "end_time": "2023-05-06T14:02:08.601336Z",
     "start_time": "2023-05-06T14:02:08.586917Z"
    }
   },
   "outputs": [
    {
     "data": {
      "application/javascript": [
       "\n",
       "            setTimeout(function() {\n",
       "                var nbb_cell_id = 9;\n",
       "                var nbb_unformatted_code = \"def build_sparse_coo_matrix(df, dtype=np.int32):\\n    row_indices = []\\n    col_indices = []\\n\\n    for i, row in tqdm(df.iterrows(), total=len(df)):\\n        user_id = row[\\\"user_id\\\"]\\n        item_ids = row[\\\"track_ids\\\"]\\n        row_indices += [user_id] * len(item_ids)\\n        col_indices += item_ids\\n\\n    data = np.ones_like(row_indices)\\n    coo_matrix = scipy.sparse.coo_matrix(\\n        (data, (row_indices, col_indices)), dtype=dtype\\n    )\\n    return coo_matrix\\n\\n\\ndef build_and_save_coo_matrix(filename, df_filename):\\n    df = pd.read_json(df_filename, lines=True)\\n    coo_matrix = build_sparse_coo_matrix(df)\\n    scipy.sparse.save_npz(filename, coo_matrix)\\n    return coo_matrix\";\n",
       "                var nbb_formatted_code = \"def build_sparse_coo_matrix(df, dtype=np.int32):\\n    row_indices = []\\n    col_indices = []\\n\\n    for i, row in tqdm(df.iterrows(), total=len(df)):\\n        user_id = row[\\\"user_id\\\"]\\n        item_ids = row[\\\"track_ids\\\"]\\n        row_indices += [user_id] * len(item_ids)\\n        col_indices += item_ids\\n\\n    data = np.ones_like(row_indices)\\n    coo_matrix = scipy.sparse.coo_matrix(\\n        (data, (row_indices, col_indices)), dtype=dtype\\n    )\\n    return coo_matrix\\n\\n\\ndef build_and_save_coo_matrix(filename, df_filename):\\n    df = pd.read_json(df_filename, lines=True)\\n    coo_matrix = build_sparse_coo_matrix(df)\\n    scipy.sparse.save_npz(filename, coo_matrix)\\n    return coo_matrix\";\n",
       "                var nbb_cells = Jupyter.notebook.get_cells();\n",
       "                for (var i = 0; i < nbb_cells.length; ++i) {\n",
       "                    if (nbb_cells[i].input_prompt_number == nbb_cell_id) {\n",
       "                        if (nbb_cells[i].get_text() == nbb_unformatted_code) {\n",
       "                             nbb_cells[i].set_text(nbb_formatted_code);\n",
       "                        }\n",
       "                        break;\n",
       "                    }\n",
       "                }\n",
       "            }, 500);\n",
       "            "
      ],
      "text/plain": [
       "<IPython.core.display.Javascript object>"
      ]
     },
     "metadata": {},
     "output_type": "display_data"
    }
   ],
   "source": [
    "def build_sparse_coo_matrix(df, dtype=np.int32):\n",
    "    row_indices = []\n",
    "    col_indices = []\n",
    "\n",
    "    for i, row in tqdm(df.iterrows(), total=len(df)):\n",
    "        user_id = row[\"user_id\"]\n",
    "        item_ids = row[\"track_ids\"]\n",
    "        row_indices += [user_id] * len(item_ids)\n",
    "        col_indices += item_ids\n",
    "\n",
    "    data = np.ones_like(row_indices)\n",
    "    coo_matrix = scipy.sparse.coo_matrix(\n",
    "        (data, (row_indices, col_indices)), dtype=dtype\n",
    "    )\n",
    "    return coo_matrix\n",
    "\n",
    "\n",
    "def build_and_save_coo_matrix(filename, df_filename):\n",
    "    df = pd.read_json(df_filename, lines=True)\n",
    "    coo_matrix = build_sparse_coo_matrix(df)\n",
    "    scipy.sparse.save_npz(filename, coo_matrix)\n",
    "    return coo_matrix"
   ]
  },
  {
   "cell_type": "code",
   "execution_count": 10,
   "id": "c365e774",
   "metadata": {
    "ExecuteTime": {
     "end_time": "2023-05-06T14:02:17.974066Z",
     "start_time": "2023-05-06T14:02:12.039073Z"
    }
   },
   "outputs": [
    {
     "name": "stderr",
     "output_type": "stream",
     "text": [
      "Reusing object data/music/coo_matrix.npz\n"
     ]
    },
    {
     "data": {
      "application/javascript": [
       "\n",
       "            setTimeout(function() {\n",
       "                var nbb_cell_id = 10;\n",
       "                var nbb_unformatted_code = \"DATA.coo_matrix_filename = \\\"data/music/coo_matrix.npz\\\"\\nDATA.coo_matrix = load_or_build_and_save(\\n    path=DATA.coo_matrix_filename,\\n    load=lambda f: scipy.sparse.load_npz(f),\\n    build_and_save=functools.partial(\\n        build_and_save_coo_matrix, df_filename=DATA.df_filename\\n    ),\\n)\";\n",
       "                var nbb_formatted_code = \"DATA.coo_matrix_filename = \\\"data/music/coo_matrix.npz\\\"\\nDATA.coo_matrix = load_or_build_and_save(\\n    path=DATA.coo_matrix_filename,\\n    load=lambda f: scipy.sparse.load_npz(f),\\n    build_and_save=functools.partial(\\n        build_and_save_coo_matrix, df_filename=DATA.df_filename\\n    ),\\n)\";\n",
       "                var nbb_cells = Jupyter.notebook.get_cells();\n",
       "                for (var i = 0; i < nbb_cells.length; ++i) {\n",
       "                    if (nbb_cells[i].input_prompt_number == nbb_cell_id) {\n",
       "                        if (nbb_cells[i].get_text() == nbb_unformatted_code) {\n",
       "                             nbb_cells[i].set_text(nbb_formatted_code);\n",
       "                        }\n",
       "                        break;\n",
       "                    }\n",
       "                }\n",
       "            }, 500);\n",
       "            "
      ],
      "text/plain": [
       "<IPython.core.display.Javascript object>"
      ]
     },
     "metadata": {},
     "output_type": "display_data"
    }
   ],
   "source": [
    "DATA.coo_matrix_filename = \"data/music/coo_matrix.npz\"\n",
    "DATA.coo_matrix = load_or_build_and_save(\n",
    "    path=DATA.coo_matrix_filename,\n",
    "    load=lambda f: scipy.sparse.load_npz(f),\n",
    "    build_and_save=functools.partial(\n",
    "        build_and_save_coo_matrix, df_filename=DATA.df_filename\n",
    "    ),\n",
    ")"
   ]
  },
  {
   "cell_type": "code",
   "execution_count": 12,
   "id": "a5569ffe",
   "metadata": {
    "ExecuteTime": {
     "end_time": "2023-05-06T14:03:40.913197Z",
     "start_time": "2023-05-06T14:03:37.667881Z"
    }
   },
   "outputs": [
    {
     "data": {
      "application/javascript": [
       "\n",
       "            setTimeout(function() {\n",
       "                var nbb_cell_id = 12;\n",
       "                var nbb_unformatted_code = \"a = DATA.coo_matrix.sum(0)\";\n",
       "                var nbb_formatted_code = \"a = DATA.coo_matrix.sum(0)\";\n",
       "                var nbb_cells = Jupyter.notebook.get_cells();\n",
       "                for (var i = 0; i < nbb_cells.length; ++i) {\n",
       "                    if (nbb_cells[i].input_prompt_number == nbb_cell_id) {\n",
       "                        if (nbb_cells[i].get_text() == nbb_unformatted_code) {\n",
       "                             nbb_cells[i].set_text(nbb_formatted_code);\n",
       "                        }\n",
       "                        break;\n",
       "                    }\n",
       "                }\n",
       "            }, 500);\n",
       "            "
      ],
      "text/plain": [
       "<IPython.core.display.Javascript object>"
      ]
     },
     "metadata": {},
     "output_type": "display_data"
    }
   ],
   "source": [
    "a = DATA.coo_matrix.sum(0)"
   ]
  },
  {
   "cell_type": "code",
   "execution_count": 20,
   "id": "2fdf3284",
   "metadata": {
    "ExecuteTime": {
     "end_time": "2023-05-06T14:04:58.238228Z",
     "start_time": "2023-05-06T14:04:58.230394Z"
    }
   },
   "outputs": [
    {
     "data": {
      "text/plain": [
       "(1374583, 101521820)"
      ]
     },
     "execution_count": 20,
     "metadata": {},
     "output_type": "execute_result"
    },
    {
     "data": {
      "application/javascript": [
       "\n",
       "            setTimeout(function() {\n",
       "                var nbb_cell_id = 20;\n",
       "                var nbb_unformatted_code = \"DATA.coo_matrix.shape\";\n",
       "                var nbb_formatted_code = \"DATA.coo_matrix.shape\";\n",
       "                var nbb_cells = Jupyter.notebook.get_cells();\n",
       "                for (var i = 0; i < nbb_cells.length; ++i) {\n",
       "                    if (nbb_cells[i].input_prompt_number == nbb_cell_id) {\n",
       "                        if (nbb_cells[i].get_text() == nbb_unformatted_code) {\n",
       "                             nbb_cells[i].set_text(nbb_formatted_code);\n",
       "                        }\n",
       "                        break;\n",
       "                    }\n",
       "                }\n",
       "            }, 500);\n",
       "            "
      ],
      "text/plain": [
       "<IPython.core.display.Javascript object>"
      ]
     },
     "metadata": {},
     "output_type": "display_data"
    }
   ],
   "source": [
    "DATA.coo_matrix.shape"
   ]
  },
  {
   "cell_type": "code",
   "execution_count": 19,
   "id": "36f16b5b",
   "metadata": {
    "ExecuteTime": {
     "end_time": "2023-05-06T14:04:55.374458Z",
     "start_time": "2023-05-06T14:04:52.126039Z"
    }
   },
   "outputs": [
    {
     "data": {
      "text/plain": [
       "1362"
      ]
     },
     "execution_count": 19,
     "metadata": {},
     "output_type": "execute_result"
    },
    {
     "data": {
      "application/javascript": [
       "\n",
       "            setTimeout(function() {\n",
       "                var nbb_cell_id = 19;\n",
       "                var nbb_unformatted_code = \"(DATA.coo_matrix.sum(1) == 0).sum()\";\n",
       "                var nbb_formatted_code = \"(DATA.coo_matrix.sum(1) == 0).sum()\";\n",
       "                var nbb_cells = Jupyter.notebook.get_cells();\n",
       "                for (var i = 0; i < nbb_cells.length; ++i) {\n",
       "                    if (nbb_cells[i].input_prompt_number == nbb_cell_id) {\n",
       "                        if (nbb_cells[i].get_text() == nbb_unformatted_code) {\n",
       "                             nbb_cells[i].set_text(nbb_formatted_code);\n",
       "                        }\n",
       "                        break;\n",
       "                    }\n",
       "                }\n",
       "            }, 500);\n",
       "            "
      ],
      "text/plain": [
       "<IPython.core.display.Javascript object>"
      ]
     },
     "metadata": {},
     "output_type": "display_data"
    }
   ],
   "source": [
    "(DATA.coo_matrix.sum(1) == 0).sum()"
   ]
  },
  {
   "cell_type": "code",
   "execution_count": 14,
   "id": "cf19d1f4",
   "metadata": {
    "ExecuteTime": {
     "end_time": "2023-05-06T14:03:58.990183Z",
     "start_time": "2023-05-06T14:03:58.856819Z"
    }
   },
   "outputs": [
    {
     "data": {
      "text/plain": [
       "100521820"
      ]
     },
     "execution_count": 14,
     "metadata": {},
     "output_type": "execute_result"
    },
    {
     "data": {
      "application/javascript": [
       "\n",
       "            setTimeout(function() {\n",
       "                var nbb_cell_id = 14;\n",
       "                var nbb_unformatted_code = \"(a == 0).sum()\";\n",
       "                var nbb_formatted_code = \"(a == 0).sum()\";\n",
       "                var nbb_cells = Jupyter.notebook.get_cells();\n",
       "                for (var i = 0; i < nbb_cells.length; ++i) {\n",
       "                    if (nbb_cells[i].input_prompt_number == nbb_cell_id) {\n",
       "                        if (nbb_cells[i].get_text() == nbb_unformatted_code) {\n",
       "                             nbb_cells[i].set_text(nbb_formatted_code);\n",
       "                        }\n",
       "                        break;\n",
       "                    }\n",
       "                }\n",
       "            }, 500);\n",
       "            "
      ],
      "text/plain": [
       "<IPython.core.display.Javascript object>"
      ]
     },
     "metadata": {},
     "output_type": "display_data"
    }
   ],
   "source": [
    "(a == 0).sum()"
   ]
  },
  {
   "cell_type": "code",
   "execution_count": null,
   "id": "4cd37f54",
   "metadata": {},
   "outputs": [],
   "source": [
    "item_weights = np.array(user_item_matrix.tocsc().sum(0))[0]\n",
    "top_to_bottom_order = np.argsort(-item_weights)\n",
    "item_mapping = np.empty(top_to_bottom_order.shape, dtype=int)\n",
    "item_mapping[top_to_bottom_order] = np.arange(len(top_to_bottom_order))\n",
    "total_item_count = (item_weights > 0).sum()\n",
    "total_user_count = user_item_matrix.shape[0]\n",
    "\n",
    "def build_dataset(user_item_matrix, item_pct, user_pct):\n",
    "    user_count, item_count = int(total_user_count * user_pct), int(total_item_count * item_pct)\n",
    "    item_ids = top_to_bottom_order[:item_count]\n",
    "    user_ids = np.random.choice(np.arange(user_item_matrix.shape[0]), size=user_count, replace=False)\n",
    "    train = user_item_matrix[user_ids]\n",
    "    train = train[:, item_ids]\n",
    "    return train"
   ]
  },
  {
   "cell_type": "code",
   "execution_count": null,
   "id": "678c5a52",
   "metadata": {},
   "outputs": [],
   "source": [
    "small_dataset = build_dataset(user_item_matrix, 0.05, 0.05)"
   ]
  },
  {
   "cell_type": "markdown",
   "id": "34477d88",
   "metadata": {},
   "source": [
    "## Data exploration <span id=Data_exploration_></span>\n",
    "## Model <span id=Model_></span>\n",
    "## Training <span id=Training_></span>\n",
    "## Results <span id=Results_></span>"
   ]
  },
  {
   "cell_type": "code",
   "execution_count": null,
   "id": "911fac46",
   "metadata": {},
   "outputs": [],
   "source": []
  }
 ],
 "metadata": {
  "kernelspec": {
   "display_name": "Python 3 (ipykernel)",
   "language": "python",
   "name": "python3"
  },
  "language_info": {
   "codemirror_mode": {
    "name": "ipython",
    "version": 3
   },
   "file_extension": ".py",
   "mimetype": "text/x-python",
   "name": "python",
   "nbconvert_exporter": "python",
   "pygments_lexer": "ipython3",
   "version": "3.11.0"
  }
 },
 "nbformat": 4,
 "nbformat_minor": 5
}
