{
 "cells": [
  {
   "cell_type": "markdown",
   "id": "c85d8fd4",
   "metadata": {},
   "source": [
    "## [Description](#Description_)\n",
    "## [Research](#Research_)\n",
    "## [Imports](#Imports_)\n",
    "## [Globals](#Globals_)\n",
    "## [Utils](#Utils_)\n",
    "## [Setup](#Setup_)\n",
    "## [Data](#Data_)\n",
    "## [Data exploration](#Data_exploration_)\n",
    "## [Model](#Model_)\n",
    "## [Training](#Training_)\n",
    "## [Results](#Results_)"
   ]
  },
  {
   "cell_type": "markdown",
   "id": "71885ac4",
   "metadata": {},
   "source": [
    "## Description <span id=Description_></span>"
   ]
  },
  {
   "cell_type": "markdown",
   "id": "ae90c4df",
   "metadata": {},
   "source": [
    "# План домашней работы\n",
    "1. Реализовать алгоритмы **item2item**, **ALS**, **IALS** (2 балл за каждый)\n",
    "2. Посчитать метрику предсказаний **MRR@100** выбрасывая случайный лайк пользователя (2 балла)\n",
    "\n",
    "Будем решать задачу предсказания: на 4/5 пользователей учимся, на 1/5 выбрасываем случайный лайк и пытаемся предсказать его беря топ 100 наших лучших предсказаний для этого пользователя.\n",
    "\n",
    "MRR@100 будет равно $1/(p+1)$, где $p$ - позиция на которой оказался выброшенный лайк в нашем ранжировании и 0 если в топ 100 его не было.\n",
    "\n",
    "3. Подобрать параметры алгоритмов для максимизации MRR@100 (1 балл)\n",
    "4. Сравнить похожести айтемов получаюшиеся для item2item, ALS, IALS (1 балл)\n",
    "\n",
    "Замерить насколько получаются похожими топы похожестей. Так же рекомендуется взять 5-топовых (или любимых) треков и посмотреть на похожести которые получаются для них в разных алгоритмах."
   ]
  },
  {
   "cell_type": "markdown",
   "id": "4f167286",
   "metadata": {},
   "source": [
    "### Ссылки на датасет музыки:\n",
    "\n",
    "1. Матричка: https://disk.yandex.ru/d/cLbDbw3mCido_w\n",
    "2. Имена тайтемов: https://disk.yandex.ru/d/pPCaGJOqcpcABw\n",
    "3. Линки между айтемами: https://disk.yandex.ru/d/hMErnDJqtVm9HQ"
   ]
  },
  {
   "cell_type": "markdown",
   "id": "8d6b0515",
   "metadata": {},
   "source": [
    "## Research <span id=Research_></span>"
   ]
  },
  {
   "cell_type": "markdown",
   "id": "714cd911",
   "metadata": {},
   "source": [
    "- [Implicit ALS](http://yifanhu.net/PUB/cf.pdf)"
   ]
  },
  {
   "cell_type": "markdown",
   "id": "6b1f8310",
   "metadata": {},
   "source": [
    "## Imports <span id=Imports_></span>"
   ]
  },
  {
   "cell_type": "code",
   "execution_count": 44,
   "id": "cc20a6f0",
   "metadata": {
    "ExecuteTime": {
     "end_time": "2023-05-06T13:09:32.815950Z",
     "start_time": "2023-05-06T13:09:32.804046Z"
    }
   },
   "outputs": [
    {
     "name": "stdout",
     "output_type": "stream",
     "text": [
      "The nb_black extension is already loaded. To reload it, use:\n",
      "  %reload_ext nb_black\n"
     ]
    },
    {
     "data": {
      "application/javascript": [
       "\n",
       "            setTimeout(function() {\n",
       "                var nbb_cell_id = 44;\n",
       "                var nbb_unformatted_code = \"import glob\\nimport numpy as np\\nimport os\\nimport pandas as pd\\nimport requests\\nimport scipy\\nfrom tqdm.autonotebook import tqdm\\nimport types\\nimport urllib\\nimport zipfile\\n\\n%load_ext nb_black\";\n",
       "                var nbb_formatted_code = \"import glob\\nimport numpy as np\\nimport os\\nimport pandas as pd\\nimport requests\\nimport scipy\\nfrom tqdm.autonotebook import tqdm\\nimport types\\nimport urllib\\nimport zipfile\\n\\n%load_ext nb_black\";\n",
       "                var nbb_cells = Jupyter.notebook.get_cells();\n",
       "                for (var i = 0; i < nbb_cells.length; ++i) {\n",
       "                    if (nbb_cells[i].input_prompt_number == nbb_cell_id) {\n",
       "                        if (nbb_cells[i].get_text() == nbb_unformatted_code) {\n",
       "                             nbb_cells[i].set_text(nbb_formatted_code);\n",
       "                        }\n",
       "                        break;\n",
       "                    }\n",
       "                }\n",
       "            }, 500);\n",
       "            "
      ],
      "text/plain": [
       "<IPython.core.display.Javascript object>"
      ]
     },
     "metadata": {},
     "output_type": "display_data"
    }
   ],
   "source": [
    "import glob\n",
    "import numpy as np\n",
    "import os\n",
    "import pandas as pd\n",
    "import requests\n",
    "import scipy\n",
    "from tqdm.autonotebook import tqdm\n",
    "import types\n",
    "import urllib\n",
    "import zipfile\n",
    "\n",
    "%load_ext nb_black"
   ]
  },
  {
   "cell_type": "markdown",
   "id": "84abf118",
   "metadata": {},
   "source": [
    "## Globals <span id=Globals_></span>"
   ]
  },
  {
   "cell_type": "code",
   "execution_count": 12,
   "id": "a2fc9f9e",
   "metadata": {
    "ExecuteTime": {
     "end_time": "2023-05-06T09:08:12.206068Z",
     "start_time": "2023-05-06T09:08:12.200635Z"
    }
   },
   "outputs": [
    {
     "data": {
      "application/javascript": [
       "\n",
       "            setTimeout(function() {\n",
       "                var nbb_cell_id = 12;\n",
       "                var nbb_unformatted_code = \"CONFIG = types.SimpleNamespace()\\nDATA = types.SimpleNamespace()\";\n",
       "                var nbb_formatted_code = \"CONFIG = types.SimpleNamespace()\\nDATA = types.SimpleNamespace()\";\n",
       "                var nbb_cells = Jupyter.notebook.get_cells();\n",
       "                for (var i = 0; i < nbb_cells.length; ++i) {\n",
       "                    if (nbb_cells[i].input_prompt_number == nbb_cell_id) {\n",
       "                        if (nbb_cells[i].get_text() == nbb_unformatted_code) {\n",
       "                             nbb_cells[i].set_text(nbb_formatted_code);\n",
       "                        }\n",
       "                        break;\n",
       "                    }\n",
       "                }\n",
       "            }, 500);\n",
       "            "
      ],
      "text/plain": [
       "<IPython.core.display.Javascript object>"
      ]
     },
     "metadata": {},
     "output_type": "display_data"
    }
   ],
   "source": [
    "CONFIG = types.SimpleNamespace()\n",
    "DATA = types.SimpleNamespace()"
   ]
  },
  {
   "cell_type": "markdown",
   "id": "bf92e3e5",
   "metadata": {},
   "source": [
    "## Utils <span id=Utils_></span>"
   ]
  },
  {
   "cell_type": "markdown",
   "id": "dd61b072",
   "metadata": {
    "ExecuteTime": {
     "end_time": "2023-05-06T08:56:36.216966Z",
     "start_time": "2023-05-06T08:56:36.212794Z"
    }
   },
   "source": [
    "### Markdown"
   ]
  },
  {
   "cell_type": "code",
   "execution_count": null,
   "id": "01632f69",
   "metadata": {},
   "outputs": [],
   "source": [
    "def make_new_markdown_section_with_link(section, header=\"##\", do_print=True):\n",
    "    section_id = section.replace(\" \", \"_\") + \"_\"\n",
    "    section_link = f\"{header} [{section}](#{section_id})\"\n",
    "    section_header = f\"{header} {section} <span id={section_id}></span>\"\n",
    "    if do_print:\n",
    "        print(section_link + \"\\n\" + section_header)\n",
    "    return section_link, section_header\n",
    "\n",
    "\n",
    "def make_several_sections(\n",
    "    section_names=(\n",
    "        \"Description\",\n",
    "        \"Imports\",\n",
    "        \"Globals\",\n",
    "        \"Setup\",\n",
    "        \"Data\",\n",
    "        \"Data exploration\",\n",
    "        \"Model\",\n",
    "        \"Training\",\n",
    "        \"Results\",\n",
    "    )\n",
    "):\n",
    "    links, headers = zip(\n",
    "        *[\n",
    "            make_new_markdown_section_with_link(sn, do_print=False)\n",
    "            for sn in section_names\n",
    "        ]\n",
    "    )\n",
    "    print(\"\\n\".join(links + (\"\",) + headers))"
   ]
  },
  {
   "cell_type": "markdown",
   "id": "89c71eea",
   "metadata": {
    "ExecuteTime": {
     "end_time": "2023-05-06T09:03:17.635059Z",
     "start_time": "2023-05-06T09:03:17.626076Z"
    }
   },
   "source": [
    "### Yadisk"
   ]
  },
  {
   "cell_type": "code",
   "execution_count": 7,
   "id": "75a67da2",
   "metadata": {
    "ExecuteTime": {
     "end_time": "2023-05-06T09:03:21.874800Z",
     "start_time": "2023-05-06T09:03:21.862390Z"
    }
   },
   "outputs": [
    {
     "data": {
      "application/javascript": [
       "\n",
       "            setTimeout(function() {\n",
       "                var nbb_cell_id = 7;\n",
       "                var nbb_unformatted_code = \"def get_yadisk_download_url(\\n    yadisk_url: str,\\n    base_url=\\\"https://cloud-api.yandex.net/v1/disk/public/resources/download?\\\",\\n) -> str:\\n    final_url = base_url + urllib.parse.urlencode(dict(public_key=yadisk_url))\\n    response = requests.get(final_url)\\n    download_url = response.json()[\\\"href\\\"]\\n    return download_url\\n\\n\\ndef write_response_content(url: str, filename: str) -> None:\\n    download_response = requests.get(url)\\n    with open(filename, \\\"wb\\\") as f:\\n        f.write(download_response.content)\";\n",
       "                var nbb_formatted_code = \"def get_yadisk_download_url(\\n    yadisk_url: str,\\n    base_url=\\\"https://cloud-api.yandex.net/v1/disk/public/resources/download?\\\",\\n) -> str:\\n    final_url = base_url + urllib.parse.urlencode(dict(public_key=yadisk_url))\\n    response = requests.get(final_url)\\n    download_url = response.json()[\\\"href\\\"]\\n    return download_url\\n\\n\\ndef write_response_content(url: str, filename: str) -> None:\\n    download_response = requests.get(url)\\n    with open(filename, \\\"wb\\\") as f:\\n        f.write(download_response.content)\";\n",
       "                var nbb_cells = Jupyter.notebook.get_cells();\n",
       "                for (var i = 0; i < nbb_cells.length; ++i) {\n",
       "                    if (nbb_cells[i].input_prompt_number == nbb_cell_id) {\n",
       "                        if (nbb_cells[i].get_text() == nbb_unformatted_code) {\n",
       "                             nbb_cells[i].set_text(nbb_formatted_code);\n",
       "                        }\n",
       "                        break;\n",
       "                    }\n",
       "                }\n",
       "            }, 500);\n",
       "            "
      ],
      "text/plain": [
       "<IPython.core.display.Javascript object>"
      ]
     },
     "metadata": {},
     "output_type": "display_data"
    }
   ],
   "source": [
    "def get_yadisk_download_url(\n",
    "    yadisk_url: str,\n",
    "    base_url=\"https://cloud-api.yandex.net/v1/disk/public/resources/download?\",\n",
    ") -> str:\n",
    "    final_url = base_url + urllib.parse.urlencode(dict(public_key=yadisk_url))\n",
    "    response = requests.get(final_url)\n",
    "    download_url = response.json()[\"href\"]\n",
    "    return download_url\n",
    "\n",
    "\n",
    "def write_response_content(url: str, filename: str) -> None:\n",
    "    download_response = requests.get(url)\n",
    "    with open(filename, \"wb\") as f:\n",
    "        f.write(download_response.content)"
   ]
  },
  {
   "cell_type": "markdown",
   "id": "5a38e143",
   "metadata": {},
   "source": [
    "### Cli"
   ]
  },
  {
   "cell_type": "code",
   "execution_count": 42,
   "id": "f60534e1",
   "metadata": {
    "ExecuteTime": {
     "end_time": "2023-05-06T13:08:04.158348Z",
     "start_time": "2023-05-06T13:08:04.138939Z"
    }
   },
   "outputs": [
    {
     "data": {
      "application/javascript": [
       "\n",
       "            setTimeout(function() {\n",
       "                var nbb_cell_id = 42;\n",
       "                var nbb_unformatted_code = \"def unzip(zip_path, save_path=None, delete_zip=False):\\n    !unzip {zip_path} {\\\"-d \\\"+ save_path if save_path else \\\"\\\"}\\n    if delete_zip:\\n        for path in glob.glob(zip_path):\\n            if path.endswith(\\\".zip\\\"):\\n                !trash {path}\";\n",
       "                var nbb_formatted_code = \"def unzip(zip_path, save_path=None, delete_zip=False):\\n    !unzip {zip_path} {\\\"-d \\\"+ save_path if save_path else \\\"\\\"}\\n    if delete_zip:\\n        for path in glob.glob(zip_path):\\n            if path.endswith(\\\".zip\\\"):\\n                !trash {path}\";\n",
       "                var nbb_cells = Jupyter.notebook.get_cells();\n",
       "                for (var i = 0; i < nbb_cells.length; ++i) {\n",
       "                    if (nbb_cells[i].input_prompt_number == nbb_cell_id) {\n",
       "                        if (nbb_cells[i].get_text() == nbb_unformatted_code) {\n",
       "                             nbb_cells[i].set_text(nbb_formatted_code);\n",
       "                        }\n",
       "                        break;\n",
       "                    }\n",
       "                }\n",
       "            }, 500);\n",
       "            "
      ],
      "text/plain": [
       "<IPython.core.display.Javascript object>"
      ]
     },
     "metadata": {},
     "output_type": "display_data"
    }
   ],
   "source": [
    "def unzip(zip_path, save_path=None, delete_zip=False):\n",
    "    !unzip {zip_path} {\"-d \"+ save_path if save_path else \"\"}\n",
    "    if delete_zip:\n",
    "        for path in glob.glob(zip_path):\n",
    "            if path.endswith(\".zip\"):\n",
    "                !trash {path}"
   ]
  },
  {
   "cell_type": "markdown",
   "id": "b315ab12",
   "metadata": {},
   "source": [
    "## Setup <span id=Setup_></span>"
   ]
  },
  {
   "cell_type": "code",
   "execution_count": 46,
   "id": "8aab2aa4",
   "metadata": {
    "ExecuteTime": {
     "end_time": "2023-05-06T13:12:28.418415Z",
     "start_time": "2023-05-06T13:12:28.410364Z"
    }
   },
   "outputs": [
    {
     "data": {
      "application/javascript": [
       "\n",
       "            setTimeout(function() {\n",
       "                var nbb_cell_id = 46;\n",
       "                var nbb_unformatted_code = \"DATA.yadisk_df_url = \\\"https://disk.yandex.ru/d/cLbDbw3mCido_w\\\"\\nDATA.yadisk_names_url = \\\"https://disk.yandex.ru/d/pPCaGJOqcpcABw\\\"\\nDATA.yadisk_links_url = \\\"https://disk.yandex.ru/d/hMErnDJqtVm9HQ\\\"\\n\\nDATA.df_filename = \\\"data/music/df\\\"\\nDATA.names_filename = \\\"data/music/names\\\"\\nDATA.links_filename = \\\"data/music/links\\\"\";\n",
       "                var nbb_formatted_code = \"DATA.yadisk_df_url = \\\"https://disk.yandex.ru/d/cLbDbw3mCido_w\\\"\\nDATA.yadisk_names_url = \\\"https://disk.yandex.ru/d/pPCaGJOqcpcABw\\\"\\nDATA.yadisk_links_url = \\\"https://disk.yandex.ru/d/hMErnDJqtVm9HQ\\\"\\n\\nDATA.df_filename = \\\"data/music/df\\\"\\nDATA.names_filename = \\\"data/music/names\\\"\\nDATA.links_filename = \\\"data/music/links\\\"\";\n",
       "                var nbb_cells = Jupyter.notebook.get_cells();\n",
       "                for (var i = 0; i < nbb_cells.length; ++i) {\n",
       "                    if (nbb_cells[i].input_prompt_number == nbb_cell_id) {\n",
       "                        if (nbb_cells[i].get_text() == nbb_unformatted_code) {\n",
       "                             nbb_cells[i].set_text(nbb_formatted_code);\n",
       "                        }\n",
       "                        break;\n",
       "                    }\n",
       "                }\n",
       "            }, 500);\n",
       "            "
      ],
      "text/plain": [
       "<IPython.core.display.Javascript object>"
      ]
     },
     "metadata": {},
     "output_type": "display_data"
    }
   ],
   "source": [
    "DATA.yadisk_df_url = \"https://disk.yandex.ru/d/cLbDbw3mCido_w\"\n",
    "DATA.yadisk_names_url = \"https://disk.yandex.ru/d/pPCaGJOqcpcABw\"\n",
    "DATA.yadisk_links_url = \"https://disk.yandex.ru/d/hMErnDJqtVm9HQ\"\n",
    "\n",
    "DATA.df_filename = \"data/music/df\"\n",
    "DATA.names_filename = \"data/music/names\"\n",
    "DATA.links_filename = \"data/music/links\""
   ]
  },
  {
   "cell_type": "code",
   "execution_count": 49,
   "id": "49edc0a3",
   "metadata": {
    "ExecuteTime": {
     "end_time": "2023-05-06T13:16:01.096497Z",
     "start_time": "2023-05-06T13:16:01.074247Z"
    }
   },
   "outputs": [
    {
     "data": {
      "application/vnd.jupyter.widget-view+json": {
       "model_id": "77327e40d40a4c86b299f04fd46469f4",
       "version_major": 2,
       "version_minor": 0
      },
      "text/plain": [
       "0it [00:00, ?it/s]"
      ]
     },
     "metadata": {},
     "output_type": "display_data"
    },
    {
     "data": {
      "application/javascript": [
       "\n",
       "            setTimeout(function() {\n",
       "                var nbb_cell_id = 49;\n",
       "                var nbb_unformatted_code = \"for url, filename in tqdm(\\n    zip(\\n        [DATA.yadisk_df_url, DATA.yadisk_names_url, DATA.yadisk_links_url],\\n        [DATA.df_filename, DATA.names_filename, DATA.links_filename],\\n    )\\n):\\n    if not os.path.exists(filename):\\n        zip_filename = filename + \\\".zip\\\"\\n        write_response_content(\\n            url=get_yadisk_download_url(yadisk_url=url),\\n            filename=zip_filename,\\n        )\\n        unzip(zip_path=zip_filename, save_path=filename, delete_zip=True)\";\n",
       "                var nbb_formatted_code = \"for url, filename in tqdm(\\n    zip(\\n        [DATA.yadisk_df_url, DATA.yadisk_names_url, DATA.yadisk_links_url],\\n        [DATA.df_filename, DATA.names_filename, DATA.links_filename],\\n    )\\n):\\n    if not os.path.exists(filename):\\n        zip_filename = filename + \\\".zip\\\"\\n        write_response_content(\\n            url=get_yadisk_download_url(yadisk_url=url),\\n            filename=zip_filename,\\n        )\\n        unzip(zip_path=zip_filename, save_path=filename, delete_zip=True)\";\n",
       "                var nbb_cells = Jupyter.notebook.get_cells();\n",
       "                for (var i = 0; i < nbb_cells.length; ++i) {\n",
       "                    if (nbb_cells[i].input_prompt_number == nbb_cell_id) {\n",
       "                        if (nbb_cells[i].get_text() == nbb_unformatted_code) {\n",
       "                             nbb_cells[i].set_text(nbb_formatted_code);\n",
       "                        }\n",
       "                        break;\n",
       "                    }\n",
       "                }\n",
       "            }, 500);\n",
       "            "
      ],
      "text/plain": [
       "<IPython.core.display.Javascript object>"
      ]
     },
     "metadata": {},
     "output_type": "display_data"
    }
   ],
   "source": [
    "for url, filename in tqdm(\n",
    "    zip(\n",
    "        [DATA.yadisk_df_url, DATA.yadisk_names_url, DATA.yadisk_links_url],\n",
    "        [DATA.df_filename, DATA.names_filename, DATA.links_filename],\n",
    "    )\n",
    "):\n",
    "    if not os.path.exists(filename):\n",
    "        zip_filename = filename + \".zip\"\n",
    "        write_response_content(\n",
    "            url=get_yadisk_download_url(yadisk_url=url),\n",
    "            filename=zip_filename,\n",
    "        )\n",
    "        unzip(zip_path=zip_filename, save_path=filename, delete_zip=True)"
   ]
  },
  {
   "cell_type": "code",
   "execution_count": 50,
   "id": "847d1b2c",
   "metadata": {
    "ExecuteTime": {
     "end_time": "2023-05-06T13:18:39.804274Z",
     "start_time": "2023-05-06T13:16:29.909554Z"
    }
   },
   "outputs": [
    {
     "data": {
      "application/javascript": [
       "\n",
       "            setTimeout(function() {\n",
       "                var nbb_cell_id = 50;\n",
       "                var nbb_unformatted_code = \"DATA.df = pd.read_json(DATA.df_filename, lines=True)\";\n",
       "                var nbb_formatted_code = \"DATA.df = pd.read_json(DATA.df_filename, lines=True)\";\n",
       "                var nbb_cells = Jupyter.notebook.get_cells();\n",
       "                for (var i = 0; i < nbb_cells.length; ++i) {\n",
       "                    if (nbb_cells[i].input_prompt_number == nbb_cell_id) {\n",
       "                        if (nbb_cells[i].get_text() == nbb_unformatted_code) {\n",
       "                             nbb_cells[i].set_text(nbb_formatted_code);\n",
       "                        }\n",
       "                        break;\n",
       "                    }\n",
       "                }\n",
       "            }, 500);\n",
       "            "
      ],
      "text/plain": [
       "<IPython.core.display.Javascript object>"
      ]
     },
     "metadata": {},
     "output_type": "display_data"
    }
   ],
   "source": [
    "DATA.df = pd.read_json(DATA.df_filename, lines=True)"
   ]
  },
  {
   "cell_type": "code",
   "execution_count": 53,
   "id": "6d4e86d0",
   "metadata": {
    "ExecuteTime": {
     "end_time": "2023-05-06T13:21:27.429435Z",
     "start_time": "2023-05-06T13:21:27.399728Z"
    }
   },
   "outputs": [
    {
     "data": {
      "text/html": [
       "<div>\n",
       "<style scoped>\n",
       "    .dataframe tbody tr th:only-of-type {\n",
       "        vertical-align: middle;\n",
       "    }\n",
       "\n",
       "    .dataframe tbody tr th {\n",
       "        vertical-align: top;\n",
       "    }\n",
       "\n",
       "    .dataframe thead th {\n",
       "        text-align: right;\n",
       "    }\n",
       "</style>\n",
       "<table border=\"1\" class=\"dataframe\">\n",
       "  <thead>\n",
       "    <tr style=\"text-align: right;\">\n",
       "      <th></th>\n",
       "      <th>user_id</th>\n",
       "      <th>track_ids</th>\n",
       "    </tr>\n",
       "  </thead>\n",
       "  <tbody>\n",
       "    <tr>\n",
       "      <th>0</th>\n",
       "      <td>0</td>\n",
       "      <td>[99262, 589498, 590262, 590303, 590692, 590803...</td>\n",
       "    </tr>\n",
       "    <tr>\n",
       "      <th>1</th>\n",
       "      <td>1</td>\n",
       "      <td>[24417, 108208, 108209, 592642, 628687, 733449...</td>\n",
       "    </tr>\n",
       "    <tr>\n",
       "      <th>2</th>\n",
       "      <td>2</td>\n",
       "      <td>[264937, 672689, 4321285, 5335351, 5658525, 58...</td>\n",
       "    </tr>\n",
       "    <tr>\n",
       "      <th>3</th>\n",
       "      <td>3</td>\n",
       "      <td>[6006252, 21642261, 21642265, 24692821, 259952...</td>\n",
       "    </tr>\n",
       "    <tr>\n",
       "      <th>4</th>\n",
       "      <td>4</td>\n",
       "      <td>[966, 4094, 9760, 9769, 18392, 19042, 21184, 2...</td>\n",
       "    </tr>\n",
       "  </tbody>\n",
       "</table>\n",
       "</div>"
      ],
      "text/plain": [
       "   user_id                                          track_ids\n",
       "0        0  [99262, 589498, 590262, 590303, 590692, 590803...\n",
       "1        1  [24417, 108208, 108209, 592642, 628687, 733449...\n",
       "2        2  [264937, 672689, 4321285, 5335351, 5658525, 58...\n",
       "3        3  [6006252, 21642261, 21642265, 24692821, 259952...\n",
       "4        4  [966, 4094, 9760, 9769, 18392, 19042, 21184, 2..."
      ]
     },
     "execution_count": 53,
     "metadata": {},
     "output_type": "execute_result"
    },
    {
     "data": {
      "application/javascript": [
       "\n",
       "            setTimeout(function() {\n",
       "                var nbb_cell_id = 53;\n",
       "                var nbb_unformatted_code = \"DATA.df.head()\";\n",
       "                var nbb_formatted_code = \"DATA.df.head()\";\n",
       "                var nbb_cells = Jupyter.notebook.get_cells();\n",
       "                for (var i = 0; i < nbb_cells.length; ++i) {\n",
       "                    if (nbb_cells[i].input_prompt_number == nbb_cell_id) {\n",
       "                        if (nbb_cells[i].get_text() == nbb_unformatted_code) {\n",
       "                             nbb_cells[i].set_text(nbb_formatted_code);\n",
       "                        }\n",
       "                        break;\n",
       "                    }\n",
       "                }\n",
       "            }, 500);\n",
       "            "
      ],
      "text/plain": [
       "<IPython.core.display.Javascript object>"
      ]
     },
     "metadata": {},
     "output_type": "display_data"
    }
   ],
   "source": [
    "DATA.df.head()"
   ]
  },
  {
   "cell_type": "markdown",
   "id": "24d295eb",
   "metadata": {},
   "source": [
    "## Data <span id=Data_></span>"
   ]
  },
  {
   "cell_type": "code",
   "execution_count": 80,
   "id": "e71c4d3d",
   "metadata": {
    "ExecuteTime": {
     "end_time": "2023-05-06T13:40:04.739003Z",
     "start_time": "2023-05-06T13:40:04.717492Z"
    }
   },
   "outputs": [
    {
     "data": {
      "application/javascript": [
       "\n",
       "            setTimeout(function() {\n",
       "                var nbb_cell_id = 80;\n",
       "                var nbb_unformatted_code = \"def build_sparse_coo_matrix(df, dtype=np.int32):\\n    row_indices = []\\n    col_indices = []\\n\\n    for i, row in tqdm(df.iterrows(), total=len(df)):\\n        user_id = row[\\\"user_id\\\"]\\n        item_ids = row[\\\"track_ids\\\"]\\n        row_indices += [user_id] * len(item_ids)\\n        col_indices += item_ids\\n\\n    data = np.ones_like(row_indices)\\n    coo_matrix = scipy.sparse.coo_matrix((data, (row_indices, col_indices)), dtype=dtype)\\n    return coo_matrix\";\n",
       "                var nbb_formatted_code = \"def build_sparse_coo_matrix(df, dtype=np.int32):\\n    row_indices = []\\n    col_indices = []\\n\\n    for i, row in tqdm(df.iterrows(), total=len(df)):\\n        user_id = row[\\\"user_id\\\"]\\n        item_ids = row[\\\"track_ids\\\"]\\n        row_indices += [user_id] * len(item_ids)\\n        col_indices += item_ids\\n\\n    data = np.ones_like(row_indices)\\n    coo_matrix = scipy.sparse.coo_matrix(\\n        (data, (row_indices, col_indices)), dtype=dtype\\n    )\\n    return coo_matrix\";\n",
       "                var nbb_cells = Jupyter.notebook.get_cells();\n",
       "                for (var i = 0; i < nbb_cells.length; ++i) {\n",
       "                    if (nbb_cells[i].input_prompt_number == nbb_cell_id) {\n",
       "                        if (nbb_cells[i].get_text() == nbb_unformatted_code) {\n",
       "                             nbb_cells[i].set_text(nbb_formatted_code);\n",
       "                        }\n",
       "                        break;\n",
       "                    }\n",
       "                }\n",
       "            }, 500);\n",
       "            "
      ],
      "text/plain": [
       "<IPython.core.display.Javascript object>"
      ]
     },
     "metadata": {},
     "output_type": "display_data"
    }
   ],
   "source": [
    "def build_sparse_coo_matrix(df, dtype=np.int32):\n",
    "    row_indices = []\n",
    "    col_indices = []\n",
    "\n",
    "    for i, row in tqdm(df.iterrows(), total=len(df)):\n",
    "        user_id = row[\"user_id\"]\n",
    "        item_ids = row[\"track_ids\"]\n",
    "        row_indices += [user_id] * len(item_ids)\n",
    "        col_indices += item_ids\n",
    "\n",
    "    data = np.ones_like(row_indices)\n",
    "    coo_matrix = scipy.sparse.coo_matrix(\n",
    "        (data, (row_indices, col_indices)), dtype=dtype\n",
    "    )\n",
    "    return coo_matrix"
   ]
  },
  {
   "cell_type": "code",
   "execution_count": null,
   "id": "cecf2874",
   "metadata": {
    "ExecuteTime": {
     "start_time": "2023-05-06T13:40:36.473Z"
    }
   },
   "outputs": [
    {
     "data": {
      "application/vnd.jupyter.widget-view+json": {
       "model_id": "af1b37ca76f84b8d99307259441513c7",
       "version_major": 2,
       "version_minor": 0
      },
      "text/plain": [
       "  0%|          | 0/1373221 [00:00<?, ?it/s]"
      ]
     },
     "metadata": {},
     "output_type": "display_data"
    }
   ],
   "source": [
    "DATA.coo_matrix = build_sparse_coo_matrix(DATA.df)"
   ]
  },
  {
   "cell_type": "code",
   "execution_count": 82,
   "id": "799ac460",
   "metadata": {
    "ExecuteTime": {
     "end_time": "2023-05-06T13:40:06.552065Z",
     "start_time": "2023-05-06T13:40:06.546218Z"
    }
   },
   "outputs": [
    {
     "data": {
      "text/plain": [
       "dtype('int32')"
      ]
     },
     "execution_count": 82,
     "metadata": {},
     "output_type": "execute_result"
    },
    {
     "data": {
      "application/javascript": [
       "\n",
       "            setTimeout(function() {\n",
       "                var nbb_cell_id = 82;\n",
       "                var nbb_unformatted_code = \"DATA.coo_matrix.dtype\";\n",
       "                var nbb_formatted_code = \"DATA.coo_matrix.dtype\";\n",
       "                var nbb_cells = Jupyter.notebook.get_cells();\n",
       "                for (var i = 0; i < nbb_cells.length; ++i) {\n",
       "                    if (nbb_cells[i].input_prompt_number == nbb_cell_id) {\n",
       "                        if (nbb_cells[i].get_text() == nbb_unformatted_code) {\n",
       "                             nbb_cells[i].set_text(nbb_formatted_code);\n",
       "                        }\n",
       "                        break;\n",
       "                    }\n",
       "                }\n",
       "            }, 500);\n",
       "            "
      ],
      "text/plain": [
       "<IPython.core.display.Javascript object>"
      ]
     },
     "metadata": {},
     "output_type": "display_data"
    }
   ],
   "source": [
    "DATA.coo_matrix.dtype"
   ]
  },
  {
   "cell_type": "code",
   "execution_count": null,
   "id": "7b06ba81",
   "metadata": {},
   "outputs": [],
   "source": [
    "data = \n",
    "row_indices = \n",
    "col_indices = \n"
   ]
  },
  {
   "cell_type": "code",
   "execution_count": null,
   "id": "e8820e36",
   "metadata": {},
   "outputs": [],
   "source": [
    "total_interactions_count = dataset.track_ids.map(len).sum()\n",
    "user_coo, item_coo = np.zeros(total_interactions_count, dtype=np.int32), np.zeros(total_interactions_count, dtype=np.int32)\n",
    "pos = 0\n",
    "for u, tracks in enumerate(tqdm(dataset.track_ids)):\n",
    "    user_coo[pos:pos+len(tracks)] = u\n",
    "    item_coo[pos:pos+len(tracks)] = tracks\n",
    "    pos += len(tracks)\n",
    "shape = (max(user_coo) + 1, max(item_coo) + 1)\n",
    "user_item_matrix = sp.coo_matrix((np.ones(len(user_coo)), (user_coo, item_coo)), shape=shape)\n",
    "user_item_matrix = user_item_matrix.tocsr()\n",
    "sp.save_npz(\"data_train.npz\", user_item_matrix)\n",
    "# Cleanup memory. Later you need just data_train.npz\n",
    "del user_coo\n",
    "del item_coo\n",
    "del dataset"
   ]
  },
  {
   "cell_type": "code",
   "execution_count": null,
   "id": "b694e04f",
   "metadata": {},
   "outputs": [],
   "source": [
    "user_item_matrix = sp.load_npz(\"data_train.npz\")"
   ]
  },
  {
   "cell_type": "code",
   "execution_count": null,
   "id": "4cd37f54",
   "metadata": {},
   "outputs": [],
   "source": [
    "item_weights = np.array(user_item_matrix.tocsc().sum(0))[0]\n",
    "top_to_bottom_order = np.argsort(-item_weights)\n",
    "item_mapping = np.empty(top_to_bottom_order.shape, dtype=int)\n",
    "item_mapping[top_to_bottom_order] = np.arange(len(top_to_bottom_order))\n",
    "total_item_count = (item_weights > 0).sum()\n",
    "total_user_count = user_item_matrix.shape[0]\n",
    "\n",
    "def build_dataset(user_item_matrix, item_pct, user_pct):\n",
    "    user_count, item_count = int(total_user_count * user_pct), int(total_item_count * item_pct)\n",
    "    item_ids = top_to_bottom_order[:item_count]\n",
    "    user_ids = np.random.choice(np.arange(user_item_matrix.shape[0]), size=user_count, replace=False)\n",
    "    train = user_item_matrix[user_ids]\n",
    "    train = train[:, item_ids]\n",
    "    return train"
   ]
  },
  {
   "cell_type": "code",
   "execution_count": null,
   "id": "678c5a52",
   "metadata": {},
   "outputs": [],
   "source": [
    "small_dataset = build_dataset(user_item_matrix, 0.05, 0.05)"
   ]
  },
  {
   "cell_type": "markdown",
   "id": "a7871c3b",
   "metadata": {},
   "source": [
    "## Data exploration <span id=Data_exploration_></span>\n",
    "## Model <span id=Model_></span>\n",
    "## Training <span id=Training_></span>\n",
    "## Results <span id=Results_></span>"
   ]
  },
  {
   "cell_type": "code",
   "execution_count": null,
   "id": "911fac46",
   "metadata": {},
   "outputs": [],
   "source": []
  }
 ],
 "metadata": {
  "kernelspec": {
   "display_name": "Python 3 (ipykernel)",
   "language": "python",
   "name": "python3"
  },
  "language_info": {
   "codemirror_mode": {
    "name": "ipython",
    "version": 3
   },
   "file_extension": ".py",
   "mimetype": "text/x-python",
   "name": "python",
   "nbconvert_exporter": "python",
   "pygments_lexer": "ipython3",
   "version": "3.11.0"
  }
 },
 "nbformat": 4,
 "nbformat_minor": 5
}
