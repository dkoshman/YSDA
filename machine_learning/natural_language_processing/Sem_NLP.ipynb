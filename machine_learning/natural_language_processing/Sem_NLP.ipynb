{
 "cells": [
  {
   "cell_type": "markdown",
   "metadata": {
    "cellId": "cr0woira8zqikxcyder5jd"
   },
   "source": [
    "# **Seminar 2 - Natural Language Processing**\n",
    "*Naumov Anton (Any0019)*\n",
    "\n",
    "*To contact me in telegram: @any0019*"
   ]
  },
  {
   "cell_type": "markdown",
   "metadata": {
    "cellId": "65hugpsi2onakx0nvflwhc"
   },
   "source": [
    "## 1. Понимание рекуррентных архитектур"
   ]
  },
  {
   "cell_type": "markdown",
   "metadata": {
    "cellId": "7t345mjknsp0w0xpj2priek"
   },
   "source": [
    "### 1.1 Recurrent Neural Network (RNN)"
   ]
  },
  {
   "cell_type": "markdown",
   "metadata": {
    "cellId": "mc97wqb4r4952t2ouk2oh"
   },
   "source": [
    "<img src=https://avatars.mds.yandex.net/get-zen_doc/3431006/pub_5ed693e6eef56d43885b5c36_5ed693feaea73f25554811d9/orig alt=\"RNN\" width=\"50%\"/>"
   ]
  },
  {
   "cell_type": "markdown",
   "metadata": {
    "cellId": "yi200i1i69svpz4wf5g6w8"
   },
   "source": [
    "$$ H^{(t)} = \\tanh \\Big( W^{h x} \\cdot X^{(t)} + W^{h h} \\cdot H^{(t-1)} + b_{h} \\Big) $$\n",
    "$$ Y^{(t)} = W^{y h} \\cdot H^{(t)} + b_{y} $$"
   ]
  },
  {
   "cell_type": "markdown",
   "metadata": {
    "cellId": "2cygqkk0l0gib5ijfe7sy"
   },
   "source": [
    "### 1.2 Long-Short Term Memory (LSTM)"
   ]
  },
  {
   "cell_type": "markdown",
   "metadata": {
    "cellId": "qwruk4difyc34ay7mfi0z"
   },
   "source": [
    "<img src=https://cdn-images-1.medium.com/max/950/1*76Mikf2yo1Q3U76hp17v9Q.gif alt=\"LSTM\" width=\"70%\"/>"
   ]
  },
  {
   "cell_type": "markdown",
   "metadata": {
    "cellId": "tn8178x5a5pkn6iyh6hlp"
   },
   "source": [
    "$$ \\text{input:} \\quad i^{(t)} = \\sigma \\Big( W^{i x} \\cdot X^{(t)} + W^{i h} \\cdot H^{(t-1)} + b_{i} \\Big) $$\n",
    "$$ \\text{output:} \\quad o^{(t)} = \\sigma \\Big( W^{h x} \\cdot X^{(t)} + W^{o h} \\cdot H^{(t-1)} + b_{o} \\Big) $$\n",
    "$$ \\text{forget:} \\quad f^{(t)} = \\sigma \\Big( W^{h x} \\cdot X^{(t)} + W^{f h} \\cdot H^{(t-1)} + b_{f} \\Big) $$\n",
    "$$ \\tilde{H}^{(t)} = \\tanh \\Big( W^{g x} \\cdot X^{(t)} + W^{g h} \\cdot H^{(t-1)} + b_{g} \\Big) $$\n",
    "$$ C^{(t)} = \\tilde{H}^{(t)} \\odot i^{(t)} + C^{(t-1)} \\odot f^{(t)} $$\n",
    "$$ H^{(t)} = \\tanh \\Big( C^{(t)} \\Big) \\odot o^{(t)} $$\n",
    "$$ Y^{(t)} = W^{y h} \\cdot H^{(t)} + b_{y} $$"
   ]
  },
  {
   "cell_type": "markdown",
   "metadata": {
    "cellId": "zzxe396nbjj4yl0dethzir"
   },
   "source": [
    "### 1.3 Gated Recurrent Unit (GRU)"
   ]
  },
  {
   "cell_type": "markdown",
   "metadata": {
    "cellId": "590l1cccxiycqshg7ofbd8"
   },
   "source": [
    "<img src=https://vbystricky.github.io/images/2021-05/gru.svg alt=\"LSTM\" width=\"55%\"/>"
   ]
  },
  {
   "cell_type": "markdown",
   "metadata": {
    "cellId": "ckagbb97wmlv55bgwm5tqh"
   },
   "source": [
    "$$ \\text{update:} \\quad z^{(t)} = \\sigma \\Big( W^{z x} \\cdot X^{(t)} + W^{z h} \\cdot H^{(t-1)} + b_{i} \\Big) $$\n",
    "$$ \\text{reset:} \\quad r^{(t)} = \\sigma \\Big( W^{r x} \\cdot X^{(t)} + W^{r h} \\cdot H^{(t-1)} + b_{r} \\Big) $$\n",
    "$$ \\tilde{H}^{(t)} = \\tanh \\Big(  W^{\\tilde{h} x} \\cdot X^{(t)} + W^{\\tilde{h} h} \\cdot \\big( r^{(t)} \\odot H^{(t-1)} \\big) + b_{\\tilde{h}} \\Big) $$\n",
    "$$ H^{(t)} = (1 - z^{(t)}) \\odot H^{(t - 1)} + z^{(t)} \\odot \\tilde{H}^{(t)} $$\n",
    "$$ Y^{(t)} = W^{y h} \\cdot H^{(t)} + b_{y} $$"
   ]
  },
  {
   "cell_type": "markdown",
   "metadata": {
    "cellId": "0edm63z22i4j25sxc8um5v"
   },
   "source": [
    "### 1.4 Как получить предсказание? Какие бывают задачи?"
   ]
  },
  {
   "cell_type": "markdown",
   "metadata": {
    "cellId": "d4rrrn06sfvjct2qr36h5"
   },
   "source": [
    "**Sequence to sequence (seq2seq):**\n",
    "\n",
    "<img src=https://vbystricky.github.io/images/2021-05/rnn_seq_to_seq.svg alt=\"tags\" width=\"55%\"/>\n",
    "\n",
    "К примеру, определение частей речи в предложении\n",
    "\n",
    "<img src=https://vbystricky.github.io/images/2021-05/rnn_seq_to_seq_v2.svg alt=\"seq2seq\" width=\"55%\"/>\n",
    "\n",
    "К примеру, автоматический перевод\n",
    "\n",
    "**Sequence to one:**\n",
    "\n",
    "<img src=https://vbystricky.github.io/images/2021-05/rnn_seq_to_one.svg alt=\"one class\" width=\"55%\"/>\n",
    "\n",
    "К примеру, предсказание оценки, соответствующей данному ревью фильма\n",
    "\n",
    "**One to sequence:**\n",
    "\n",
    "<img src=https://vbystricky.github.io/images/2021-05/rnn_one_to_seq.svg alt=\"sequence\" width=\"55%\"/>\n",
    "\n",
    "К примеру, составление текстового описания по чему-нибудь"
   ]
  },
  {
   "cell_type": "markdown",
   "metadata": {
    "cellId": "222exff2ukv7sl17hrvg4m"
   },
   "source": [
    "## 2. Задача классификации текста"
   ]
  },
  {
   "cell_type": "markdown",
   "metadata": {
    "cellId": "1m8s7sgnz786dkdqlnd5yr"
   },
   "source": [
    "### 2.1 Скачиваем данные"
   ]
  },
  {
   "cell_type": "code",
   "execution_count": 1,
   "metadata": {
    "cellId": "dwzeov49g8d3d16tbgce1p"
   },
   "outputs": [
    {
     "name": "stdout",
     "output_type": "stream",
     "text": [
      "Defaulting to user installation because normal site-packages is not writeable\n",
      "Requirement already satisfied: torchtext in /home/jupyter/.local/lib/python3.7/site-packages (0.10.0)\n",
      "Requirement already satisfied: tqdm in /usr/local/lib/python3.7/dist-packages (from torchtext) (4.50.0)\n",
      "Requirement already satisfied: numpy in /kernel/lib/python3.7/site-packages (from torchtext) (1.19.4)\n",
      "Requirement already satisfied: requests in /kernel/lib/python3.7/site-packages (from torchtext) (2.25.1)\n",
      "Requirement already satisfied: torch==1.9.0 in /home/jupyter/.local/lib/python3.7/site-packages (from torchtext) (1.9.0)\n",
      "Requirement already satisfied: typing-extensions in /kernel/lib/python3.7/site-packages (from torch==1.9.0->torchtext) (3.10.0.0)\n",
      "Requirement already satisfied: urllib3<1.27,>=1.21.1 in /kernel/lib/python3.7/site-packages (from requests->torchtext) (1.26.6)\n",
      "Requirement already satisfied: chardet<5,>=3.0.2 in /kernel/lib/python3.7/site-packages (from requests->torchtext) (4.0.0)\n",
      "Requirement already satisfied: idna<3,>=2.5 in /kernel/lib/python3.7/site-packages (from requests->torchtext) (2.10)\n",
      "Requirement already satisfied: certifi>=2017.4.17 in /kernel/lib/python3.7/site-packages (from requests->torchtext) (2021.5.30)\n",
      "\u001b[33mWARNING: You are using pip version 21.0.1; however, version 21.2.4 is available.\n",
      "You should consider upgrading via the '/usr/local/bin/python3 -m pip install --upgrade pip' command.\u001b[0m\n"
     ]
    }
   ],
   "source": [
    "#!g1.1\n",
    "# For datasphere\n",
    "%pip install torchtext\n",
    "\n",
    "# For google collab\n",
    "# !pip install torchtext"
   ]
  },
  {
   "cell_type": "code",
   "execution_count": 156,
   "metadata": {
    "cellId": "lsiknzjighrv5hqkfb6uja"
   },
   "outputs": [
    {
     "name": "stdout",
     "output_type": "stream",
     "text": [
      "Download time:\n",
      "AG_NEWS              ~ 0:00:07.123019\n",
      "DBpedia              ~ 0:00:08.500601\n",
      "YelpReviewPolarity   ~ 0:00:15.472438\n",
      "YelpReviewFull       ~ 0:00:18.930694\n",
      "YahooAnswers         ~ 0:00:29.751429\n",
      "AmazonReviewPolarity ~ 0:00:43.032074\n",
      "AmazonReviewFull     ~ 0:00:41.957723\n"
     ]
    }
   ],
   "source": [
    "#!g1.1\n",
    "from torchtext import datasets\n",
    "from IPython.display import clear_output\n",
    "import os\n",
    "from datetime import datetime \n",
    "\n",
    "download_dir = './datasets'\n",
    "\n",
    "all_datasets = [\n",
    "    'AG_NEWS',\n",
    "#     'DBpedia',\n",
    "#     'YelpReviewPolarity',\n",
    "#     'YelpReviewFull',\n",
    "#     'YahooAnswers',\n",
    "#     'AmazonReviewPolarity',\n",
    "#     'AmazonReviewFull'\n",
    "]\n",
    "\n",
    "data = {'train': {}, 'test': {}}\n",
    "download_time = dict()\n",
    "for i, dataset_name in enumerate(all_datasets):\n",
    "    clear_output(True)\n",
    "    start_time = datetime.now() \n",
    "    \n",
    "    print(f'{i+1}/{len(all_datasets)}: Downloading dataset {dataset_name}')\n",
    "    \n",
    "    download_exec = f'data[\\'train\\'][dataset_name] = datasets.{dataset_name}(root=\\'{os.path.join(download_dir, dataset_name)}\\', split=\\'train\\')'\n",
    "    download_val_exec = f'data[\\'test\\'][dataset_name] = datasets.{dataset_name}(root=\\'{os.path.join(download_dir, dataset_name)}\\', split=\\'test\\')'\n",
    "    \n",
    "    # NEVER REPEAT THIS AT HOME\n",
    "    exec(download_exec)\n",
    "    exec(download_val_exec)\n",
    "    download_time[dataset_name] = datetime.now() - start_time\n",
    "    \n",
    "    for split in ['train', 'test']:\n",
    "        data[split][dataset_name] = [(l, t) for (l, t) in data[split][dataset_name]]\n",
    "    \n",
    "\n",
    "clear_output(True)\n",
    "print('Download time:')\n",
    "for k, v in download_time.items():\n",
    "    print('{: <20} ~ {}'.format(k, v))"
   ]
  },
  {
   "cell_type": "markdown",
   "metadata": {
    "cellId": "dmp0onxd5pux7x75vinbyh"
   },
   "source": [
    "### 2.2 Посмотрим на данные"
   ]
  },
  {
   "cell_type": "code",
   "execution_count": 157,
   "metadata": {
    "cellId": "cxrc4pwi6w4fijqz4ucgrt"
   },
   "outputs": [
    {
     "name": "stdout",
     "output_type": "stream",
     "text": [
      "\u001b[4m\u001b[1m\u001b[31mAG_NEWS ~ 120000 train examples and 7600 test examples with 4 classes:\n",
      "\u001b[0m\n",
      "  \u001b[4m\u001b[1mind\u001b[0m ~ 0:\n",
      "  \u001b[4m\u001b[1mlabel\u001b[0m ~ 3\n",
      "  \u001b[4m\u001b[1mtext\u001b[0m ~ Wall St. Bears Claw Back Into the Black (Reuters) Reuters - Short-sellers, Wall Street's dwindling\\band of ultra-cynics, are seeing green again.\n",
      "\n",
      "  \u001b[4m\u001b[1mind\u001b[0m ~ 24000:\n",
      "  \u001b[4m\u001b[1mlabel\u001b[0m ~ 3\n",
      "  \u001b[4m\u001b[1mtext\u001b[0m ~ Spectrum-FDA OKs Generic Version of Cipro (Reuters) Reuters - Spectrum Pharmaceuticals  said\\on Friday U.S. regulators have approved its generic version of\\Bayer's   Cipro antibiotic, triggering a  #36;750,000\\equity investment by one of its partners.\n",
      "\n",
      "  \u001b[4m\u001b[1mind\u001b[0m ~ 48000:\n",
      "  \u001b[4m\u001b[1mlabel\u001b[0m ~ 4\n",
      "  \u001b[4m\u001b[1mtext\u001b[0m ~ Rolling towards history One of the ironies of Wednesdays flight of SpaceShipOne is that those who had the worst view of the flightand the drama that unfolded during the ascentwere the members of the media who came to report on the event.\n",
      "\n",
      "  \u001b[4m\u001b[1mind\u001b[0m ~ 72000:\n",
      "  \u001b[4m\u001b[1mlabel\u001b[0m ~ 1\n",
      "  \u001b[4m\u001b[1mtext\u001b[0m ~ Iran Hints at Agreeing to Enrichment Freeze (Reuters) Reuters - Iran's top security official suggested\\on Monday Tehran may agree to extend its freeze on uranium\\enrichment but warned it could not be forced to scrap its\\nuclear technology for good.\n",
      "\n",
      "  \u001b[4m\u001b[1mind\u001b[0m ~ 96000:\n",
      "  \u001b[4m\u001b[1mlabel\u001b[0m ~ 4\n",
      "  \u001b[4m\u001b[1mtext\u001b[0m ~ Running Extra Mile Sets Humans Apart in Primates' World The ability of early human ancestors to run long distances may have influenced the transition to today's body form, researchers report.\n",
      "\n",
      "\n",
      "============\n",
      "\n",
      "\u001b[4m\u001b[1m\u001b[31mDBpedia ~ 560000 train examples and 70000 test examples with 14 classes:\n",
      "\u001b[0m\n",
      "  \u001b[4m\u001b[1mind\u001b[0m ~ 0:\n",
      "  \u001b[4m\u001b[1mlabel\u001b[0m ~ 1\n",
      "  \u001b[4m\u001b[1mtext\u001b[0m ~ E. D. Abbott Ltd  Abbott of Farnham E D Abbott Limited was a British coachbuilding business based in Farnham Surrey trading under that name from 1929. A major part of their output was under sub-contract to motor vehicle manufacturers. Their business closed in 1972.\n",
      "\n",
      "  \u001b[4m\u001b[1mind\u001b[0m ~ 112000:\n",
      "  \u001b[4m\u001b[1mlabel\u001b[0m ~ 3\n",
      "  \u001b[4m\u001b[1mtext\u001b[0m ~ Liang Wern Fook  Dr Liang Wern Fook (Chinese: 梁文福; pinyin: Liáng Wénfú; born 1964 in Singapore) is a Singaporean writer musician and researcher in Chinese literature and pedagogy. He was one of the pioneer figures in the xinyao (Singaporean Chinese folk songs) movement in the 1980s and 1990s.\n",
      "\n",
      "  \u001b[4m\u001b[1mind\u001b[0m ~ 224000:\n",
      "  \u001b[4m\u001b[1mlabel\u001b[0m ~ 6\n",
      "  \u001b[4m\u001b[1mtext\u001b[0m ~ Take Off Merlin  The Take Off Merlin is a German ultralight trike designed and produced by Take Off GmbH of Hamm. The aircraft is supplied as a complete ready-to-fly-aircraft.\n",
      "\n",
      "  \u001b[4m\u001b[1mind\u001b[0m ~ 336000:\n",
      "  \u001b[4m\u001b[1mlabel\u001b[0m ~ 9\n",
      "  \u001b[4m\u001b[1mtext\u001b[0m ~ Komorowo Żuławskie  Komorowo Żuławskie [kɔmɔˈrɔvɔ ʐuˈwafskʲɛ] (German: Kämmersdorf) is a village in the administrative district of Gmina Elbląg within Elbląg County Warmian-Masurian Voivodeship in northern Poland. It lies approximately 8 kilometres (5 mi) east of Elbląg and 75 km (47 mi) north-west of the regional capital Olsztyn.Before 1945 the area was part of Germany (East Prussia).The village has a population of 170.\n",
      "\n",
      "  \u001b[4m\u001b[1mind\u001b[0m ~ 448000:\n",
      "  \u001b[4m\u001b[1mlabel\u001b[0m ~ 12\n",
      "  \u001b[4m\u001b[1mtext\u001b[0m ~ Worship Music (album)  Worship Music is the tenth studio album by American thrash metal band Anthrax released on September 12 2011 internationally and on September 13 in the US. It is their first album of original material since 2003's We've Come for You All and the first album since 1990's Persistence of Time to feature vocalist Joey Belladonna.The album's creation went through a lengthy process with work beginning as early as November 2008.\n",
      "\n",
      "\n",
      "============\n",
      "\n",
      "\u001b[4m\u001b[1m\u001b[31mYelpReviewPolarity ~ 560000 train examples and 38000 test examples with 2 classes:\n",
      "\u001b[0m\n",
      "  \u001b[4m\u001b[1mind\u001b[0m ~ 0:\n",
      "  \u001b[4m\u001b[1mlabel\u001b[0m ~ 1\n",
      "  \u001b[4m\u001b[1mtext\u001b[0m ~ Unfortunately, the frustration of being Dr. Goldberg's patient is a repeat of the experience I've had with so many other doctors in NYC -- good doctor, terrible staff.  It seems that his staff simply never answers the phone.  It usually takes 2 hours of repeated calling to get an answer.  Who has time for that or wants to deal with it?  I have run into this problem with many other doctors and I just don't get it.  You have office workers, you have patients with medical needs, why isn't anyone answering the phone?  It's incomprehensible and not work the aggravation.  It's with regret that I feel that I have to give Dr. Goldberg 2 stars.\n",
      "\n",
      "  \u001b[4m\u001b[1mind\u001b[0m ~ 112000:\n",
      "  \u001b[4m\u001b[1mlabel\u001b[0m ~ 1\n",
      "  \u001b[4m\u001b[1mtext\u001b[0m ~ The rice and beans are delicious.  I ordered the Taquiza taco plate (my choices: suadero, carnitas, pollo con mole, lengua) and besides the mole, none of the meats were distinguishable, they all looked more or less the same and even had a similar consistency and grill flavor.  If i come back I won't order tacos, as they were mostly flavorless.  I am not a huge mole fan, but it was tasty.  The salsas they serve alongside the food sucked:  one verde, one chipotle.  They both tasted unsalted and watered down.  Ive had better, more flavorful salsa from a can (Herdez brand).  The man at the register cared more about the movie on the TV than the customers.\\nTaco y Taco is so much better?\n",
      "\n",
      "  \u001b[4m\u001b[1mind\u001b[0m ~ 224000:\n",
      "  \u001b[4m\u001b[1mlabel\u001b[0m ~ 1\n",
      "  \u001b[4m\u001b[1mtext\u001b[0m ~ They are very rude here. I have never been treated worse at a nail salon. They no nothing about customer service IMO. Nice to be sitting there when tell them before service how you want your nails and they talk about you the whole time in their language. Treated me really bad and had the nerve to say next time, like I would be back to a place that was so rude. I dont know how they can stay in business treating their customers this poorly, in front of everyone. I dont see manicurists license in view and their tools are not sanitary. They cut my finger with their tool and said it was brand new. They never cleaned the tool and i was their 40 minutes after the cut happened.\n",
      "\n",
      "  \u001b[4m\u001b[1mind\u001b[0m ~ 336000:\n",
      "  \u001b[4m\u001b[1mlabel\u001b[0m ~ 1\n",
      "  \u001b[4m\u001b[1mtext\u001b[0m ~ I ordered the Bun Dac Biet-Combo TO-GO and I was quite disappointed with the wait time plus they did not give me the fish sauce when I asked for it. The guy gave me hot sauce instead stating that the sauce was on my food already. I thought it was weird. Other than that, the meat was cooked great, the egg rolls were tasty... I'm not sure if I'll be returning.. I was there almost 45 minutes for my food... :(\n",
      "\n",
      "  \u001b[4m\u001b[1mind\u001b[0m ~ 448000:\n",
      "  \u001b[4m\u001b[1mlabel\u001b[0m ~ 2\n",
      "  \u001b[4m\u001b[1mtext\u001b[0m ~ Just got married here! Great place! Great price!\n",
      "\n",
      "\n",
      "============\n",
      "\n",
      "\u001b[4m\u001b[1m\u001b[31mYelpReviewFull ~ 650000 train examples and 50000 test examples with 5 classes:\n",
      "\u001b[0m\n",
      "  \u001b[4m\u001b[1mind\u001b[0m ~ 0:\n",
      "  \u001b[4m\u001b[1mlabel\u001b[0m ~ 5\n",
      "  \u001b[4m\u001b[1mtext\u001b[0m ~ dr. goldberg offers everything i look for in a general practitioner.  he's nice and easy to talk to without being patronizing; he's always on time in seeing his patients; he's affiliated with a top-notch hospital (nyu) which my parents have explained to me is very important in case something happens and you need surgery; and you can get referrals to see specialists without having to see him first.  really, what more do you need?  i'm sitting here trying to think of any complaints i have about him, but i'm really drawing a blank.\n",
      "\n",
      "  \u001b[4m\u001b[1mind\u001b[0m ~ 130000:\n",
      "  \u001b[4m\u001b[1mlabel\u001b[0m ~ 1\n",
      "  \u001b[4m\u001b[1mtext\u001b[0m ~ Waited in line for almost an HOUR to check in at 3pm.  We get our keys and then find out we have to EXIT the casino and CROSS the street to get to our room.  Open the door to find a very outdated looking hotel room with sub-standard amenities.  The coffee table wobbled so much I thought it was going to unscrew and come flying off.  Needless to say, I didn't use that coffee table.  The beds are so springy you wake up with a sore back the next day.  \\n\\nWhats worse than the crappy room is their crappy restaurants.  Since I didn't have a car, I thought I would give their cafe a shot.  Nothing is fresh and everything could be made with a microwave.  \\n\\nI would not recommend this hotel to anyone.\n",
      "\n",
      "  \u001b[4m\u001b[1mind\u001b[0m ~ 260000:\n",
      "  \u001b[4m\u001b[1mlabel\u001b[0m ~ 2\n",
      "  \u001b[4m\u001b[1mtext\u001b[0m ~ With tip, my 50 minute aromatherapy massage was $200, and that was a 15% tip.  The staff was OK, either really young and wanted to get back to chatting or did not speak much english, and hey, this is one place I'd like people to be able to communicate with me well.\\n\\nAnyway, it was a decent massage, but seemed shorter than 50 minutes since I was already changing 50 minutes after they started and there was a lot of chit chat before the massage.  Not saying it's a terrible place, but I have had far better massages for just over half that price in high end places in Chicago.\\n\\nThe one redeeming quality is that after my OK massage I could hang out as long as I wanted in the facilities, and the sauna, aromatherapy room and igloo room were very nice ways to finish relaxing.\n",
      "\n",
      "  \u001b[4m\u001b[1mind\u001b[0m ~ 390000:\n",
      "  \u001b[4m\u001b[1mlabel\u001b[0m ~ 4\n",
      "  \u001b[4m\u001b[1mtext\u001b[0m ~ Restaurant is best kept secret in Madison. We go for the Friday night fish fry. You get 3 pieces of cod choice of potatoe cole slaw baked bean and rye bread for under 11$. It's usually not busy so there's no wait. The food is always good and service is also good.\n",
      "\n",
      "  \u001b[4m\u001b[1mind\u001b[0m ~ 520000:\n",
      "  \u001b[4m\u001b[1mlabel\u001b[0m ~ 4\n",
      "  \u001b[4m\u001b[1mtext\u001b[0m ~ The bibimbap here is good, better than Ganadara. Good portion, the beef wasn't ground as usual, but still good, and I liked the sauce. Only negative was the rice was too wet. It was crowded and most people ordered Korean bbq ($21.99 all you can eat) so we'll definitely be back for that.\n",
      "\n",
      "\n",
      "============\n",
      "\n",
      "\u001b[4m\u001b[1m\u001b[31mYahooAnswers ~ 1400000 train examples and 60000 test examples with 10 classes:\n",
      "\u001b[0m\n",
      "  \u001b[4m\u001b[1mind\u001b[0m ~ 0:\n",
      "  \u001b[4m\u001b[1mlabel\u001b[0m ~ 5\n",
      "  \u001b[4m\u001b[1mtext\u001b[0m ~ why doesn't an optical mouse work on a glass table? or even on some surfaces? Optical mice use an LED and a camera to rapidly capture images of the surface beneath the mouse.  The infomation from the camera is analyzed by a DSP (Digital Signal Processor) and used to detect imperfections in the underlying surface and determine motion. Some materials, such as glass, mirrors or other very shiny, uniform surfaces interfere with the ability of the DSP to accurately analyze the surface beneath the mouse.  \\nSince glass is transparent and very uniform, the mouse is unable to pick up enough imperfections in the underlying surface to determine motion.  Mirrored surfaces are also a problem, since they constantly reflect back the same image, causing the DSP not to recognize motion properly. When the system is unable to see surface changes associated with movement, the mouse will not work properly.\n",
      "\n",
      "  \u001b[4m\u001b[1mind\u001b[0m ~ 280000:\n",
      "  \u001b[4m\u001b[1mlabel\u001b[0m ~ 3\n",
      "  \u001b[4m\u001b[1mtext\u001b[0m ~ Peppermint tea????? I'm 3 days shy of 40 weeks. Has anyone tryed to drink peppermint tea to induce labor? If so does it work and hows it taste. I have not heard of that one... But a doctor once told me to go for long walks... and it seems to work for me.\n",
      "\n",
      "  \u001b[4m\u001b[1mind\u001b[0m ~ 560000:\n",
      "  \u001b[4m\u001b[1mlabel\u001b[0m ~ 8\n",
      "  \u001b[4m\u001b[1mtext\u001b[0m ~ A band playing music, is the sound in stereo or because its one band is the sound in mono?  depends on the amp, if the amplification has 2 outs it's stereo if there's no amplification whatsoever then is LIVE, but to some sound engineers purists there's not a category like live so they call it mono.\n",
      "\n",
      "  \u001b[4m\u001b[1mind\u001b[0m ~ 840000:\n",
      "  \u001b[4m\u001b[1mlabel\u001b[0m ~ 6\n",
      "  \u001b[4m\u001b[1mtext\u001b[0m ~ Who won last night on TNA WRESTLING? CAGE OR RHYNO? LAST NIGHT WHO WON rhyno gored christian out of the cage so christian won\n",
      "\n",
      "  \u001b[4m\u001b[1mind\u001b[0m ~ 1120000:\n",
      "  \u001b[4m\u001b[1mlabel\u001b[0m ~ 3\n",
      "  \u001b[4m\u001b[1mtext\u001b[0m ~ how do you cope with hyperhydrosis?  Go & see a registered homoeopath. I've treated a number of cases of this with great success. Homoeopathy is a natural answer to your problem. Go to the Society of Homeopaths webpage to find a local practitioner.\n",
      "\n",
      "\n",
      "============\n",
      "\n",
      "\u001b[4m\u001b[1m\u001b[31mAmazonReviewPolarity ~ 3600000 train examples and 400000 test examples with 2 classes:\n",
      "\u001b[0m\n",
      "  \u001b[4m\u001b[1mind\u001b[0m ~ 0:\n",
      "  \u001b[4m\u001b[1mlabel\u001b[0m ~ 2\n",
      "  \u001b[4m\u001b[1mtext\u001b[0m ~ Stuning even for the non-gamer This sound track was beautiful! It paints the senery in your mind so well I would recomend it even to people who hate vid. game music! I have played the game Chrono Cross but out of all of the games I have ever played it has the best music! It backs away from crude keyboarding and takes a fresher step with grate guitars and soulful orchestras. It would impress anyone who cares to listen! ^_^\n",
      "\n",
      "  \u001b[4m\u001b[1mind\u001b[0m ~ 720000:\n",
      "  \u001b[4m\u001b[1mlabel\u001b[0m ~ 2\n",
      "  \u001b[4m\u001b[1mtext\u001b[0m ~ Can't use it on my motorcycle Warm they are. Looks pretty durable but the sleeve is too tight for wearing gloves and they don't give any room for clutch or brake bars on motorcycles. Needless to say I was trying to put these on something they were not designed for so stick with the ATV market with these but for the price it was a small gamble.\n",
      "\n",
      "  \u001b[4m\u001b[1mind\u001b[0m ~ 1440000:\n",
      "  \u001b[4m\u001b[1mlabel\u001b[0m ~ 2\n",
      "  \u001b[4m\u001b[1mtext\u001b[0m ~ A New Orleans Classic Obviously the past two reviewers who have given Murder at the Butt a one rating have not taken the time to examen the brilliance of the work. Not only does the author place you directly into the culture and feel of New Orleans, but he has an unusually intricate plot and a very unusually developed concept of murder mystery writing. This is a good one, a page turner and a must read!\n",
      "\n",
      "  \u001b[4m\u001b[1mind\u001b[0m ~ 2160000:\n",
      "  \u001b[4m\u001b[1mlabel\u001b[0m ~ 2\n",
      "  \u001b[4m\u001b[1mtext\u001b[0m ~ Feisty This soundtrack is one of the best I've ever heard, i just wish they'd put Fantastic by Fiesty on it. I can't seem to find that band anywhere, does someone know where I could get a copy of their song Fantastic or their website? if someone could help I would be greatly appreciated.\n",
      "\n",
      "  \u001b[4m\u001b[1mind\u001b[0m ~ 2880000:\n",
      "  \u001b[4m\u001b[1mlabel\u001b[0m ~ 2\n",
      "  \u001b[4m\u001b[1mtext\u001b[0m ~ great buy addicted to this series..im glad they sold them all together...not bad of a price...only thing is, the box shown in the pic, isnt included...its 3 separate dvds...they dont have a slip box that holds the series together\n",
      "\n",
      "\n",
      "============\n",
      "\n",
      "\u001b[4m\u001b[1m\u001b[31mAmazonReviewFull ~ 3000000 train examples and 650000 test examples with 5 classes:\n",
      "\u001b[0m\n",
      "  \u001b[4m\u001b[1mind\u001b[0m ~ 0:\n",
      "  \u001b[4m\u001b[1mlabel\u001b[0m ~ 3\n",
      "  \u001b[4m\u001b[1mtext\u001b[0m ~ more like funchuck Gave this to my dad for a gag gift after directing \"Nunsense,\" he got a reall kick out of it!\n",
      "\n",
      "  \u001b[4m\u001b[1mind\u001b[0m ~ 600000:\n",
      "  \u001b[4m\u001b[1mlabel\u001b[0m ~ 3\n",
      "  \u001b[4m\u001b[1mtext\u001b[0m ~ good but not what I expected Cypress Hill has always given their fans all that and then some; maybe that is why I am left wondering where disc 2 is in this package. This \"greatest hits\" compilation has only 9 songs from a group that has been putting out top-shelf albums for about 15 years. How can that possibly add up? Don't get me wrong, there isn't a bad song on this cd, but there is so much missing. What would've really worked well for the fans would have been a 2-disc package with the first having songs from cypress hill, black sunday, and temples of boom. The second could pick from IV, skull and bones, stoned raiders, and till death do us part. Also throw some live joints on there (\"aint going out like that\", \"can't get the best of me\") from the Fillmore show, and that would be more on the level with showing what the Hill is all about.\n",
      "\n",
      "  \u001b[4m\u001b[1mind\u001b[0m ~ 1200000:\n",
      "  \u001b[4m\u001b[1mlabel\u001b[0m ~ 4\n",
      "  \u001b[4m\u001b[1mtext\u001b[0m ~ Polished, not raw, performances. An exciting rediscovery. I bought the original vinyl recording in the 1960s and loved it. Bernabe de Moron is a more polished guitarist than, say, Manitas de Plata, and as technically precise and clear as Juan Serrano, but with more emotion and flair. All three were leading exponents of the flamenco form during that era, but of the three I actually enjoyed Bernabe de Moron's music the most.I was devastated when my original LP recording was damaged and I tried for years to find a replacement, without success. Decades passed, then yesterday I happened to pass a Spanish restaurant featuring live flamenco players and I made a mental note to check online. I am elated to find this digitally-remastered edition of what had become, for me, a lost masterpiece.\n",
      "\n",
      "  \u001b[4m\u001b[1mind\u001b[0m ~ 1800000:\n",
      "  \u001b[4m\u001b[1mlabel\u001b[0m ~ 2\n",
      "  \u001b[4m\u001b[1mtext\u001b[0m ~ Mild and laid-back movie about Barcelona couples A laid-back, very relaxed, subdued movie, never jolting or over-dramatic. Maybe TOO relaxed. Not the worst choice of a movie for a rainy day, though best accompanied by a bottle of wine or, if you prefer, some other central nervous system depressant. Unfortunately, I consumed coffee. Instead of the MPAA rating, movies should just tell you what to eat and drink before watching.Not much of moment really happens other than the indiscretions of several couples. I lost interest after an hour, but the thing just kept going on and on. A friend found it mildly interesting, so I listened off and on in the background, but nothing drew me back in. A yawner. No sexual/erotic/romantic fireworks.\n",
      "\n",
      "  \u001b[4m\u001b[1mind\u001b[0m ~ 2400000:\n",
      "  \u001b[4m\u001b[1mlabel\u001b[0m ~ 3\n",
      "  \u001b[4m\u001b[1mtext\u001b[0m ~ Worth it for Gnossiennes The interpretation of Gnossiennes is worth the price of this CD. The slow, soulful rendition of that piece is the best anywhere. However, I agree with a previous reviewer that the downtempo approach does not work for other Satie favorites. The slow motion, low energy rendition of other pieces can be maddening.\n",
      "\n",
      "\n",
      "============\n",
      "\n"
     ]
    }
   ],
   "source": [
    "#!g1.1\n",
    "from termcolor import colored\n",
    "\n",
    "show_each = 5\n",
    "num_classes = {}\n",
    "\n",
    "for dataset_name in data['train']:\n",
    "    num_classes[dataset_name] = len(set([label for (label, _) in data['train'][dataset_name]]))\n",
    "    \n",
    "    train_size = len(data['train'][dataset_name])\n",
    "    test_size = len(data['test'][dataset_name])\n",
    "    print(colored(dataset_name + f' ~ {train_size} train examples' +\n",
    "                  f' and {test_size} test examples' +\n",
    "                  f' with {num_classes[dataset_name]} classes:\\n',\n",
    "                  'red', attrs=['bold', 'underline']))\n",
    "    \n",
    "    for i in range(0, train_size, train_size//show_each):\n",
    "        label, text = data['train'][dataset_name][i]\n",
    "        print(f'  ' + colored(f'ind', attrs=['bold', 'underline']) +\n",
    "              f' ~ {i}:\\n  ' + colored(f'label', attrs=['bold', 'underline']) +\n",
    "              f' ~ {label}\\n  ' + colored(f'text', attrs=['bold', 'underline']) +\n",
    "              f' ~ {text}\\n')\n",
    "    print('\\n============\\n')"
   ]
  },
  {
   "cell_type": "code",
   "execution_count": 158,
   "metadata": {
    "cellId": "gdh2vz5mbhqhktq2metn1g"
   },
   "outputs": [],
   "source": [
    "#!g1.1\n",
    "del data"
   ]
  },
  {
   "cell_type": "markdown",
   "metadata": {
    "cellId": "0zpwjvqnao6p1fhpmq6hbgr"
   },
   "source": [
    "### 2.3 Готовим данные"
   ]
  },
  {
   "cell_type": "markdown",
   "metadata": {
    "cellId": "ftp5g4mtr725q2dixgmwo"
   },
   "source": [
    "Очень много разных подходов:\n",
    "\n",
    "- стоп-слова\n",
    "- токенизация\n",
    "- лемматизация\n",
    "- стемминг\n",
    "- обучаемые эмбеддинги\n",
    "- лингвистические модели\n",
    "- ..."
   ]
  },
  {
   "cell_type": "code",
   "execution_count": 74,
   "metadata": {
    "cellId": "e7ju0f205dnfnzgcjnez4i"
   },
   "outputs": [
    {
     "data": {
      "application/vnd.jupyter.widget-view+json": {
       "model_id": "19dde9cdfb394d73bc70668163ae38ff",
       "version_major": 2,
       "version_minor": 0
      },
      "text/plain": [
       "HBox(children=(HTML(value=''), FloatProgress(value=0.0, max=14.0), HTML(value='')))"
      ]
     },
     "metadata": {},
     "output_type": "display_data"
    },
    {
     "name": "stdout",
     "output_type": "stream",
     "text": [
      "Building vocabs:\n",
      "\n"
     ]
    }
   ],
   "source": [
    "#!g1.1\n",
    "from tqdm.notebook import tqdm\n",
    "from torch.utils.data import DataLoader\n",
    "from torchtext.data.utils import get_tokenizer\n",
    "from torchtext.vocab import build_vocab_from_iterator\n",
    "        \n",
    "splits = ['train', 'test']\n",
    "\n",
    "# Creating tokenizer for english text\n",
    "tokenizer = get_tokenizer('basic_english')\n",
    "max_size = [0] * (len(all_datasets) * len(splits))\n",
    "\n",
    "# Building vocabs\n",
    "def yield_tokens(it_list):\n",
    "    global max_size\n",
    "    for i, it in enumerate(tqdm(it_list)):\n",
    "        for _, text in it:\n",
    "            tokens = tokenizer(text)\n",
    "            max_size[i] = max(max_size[i], len(tokens))\n",
    "            yield tokens\n",
    "\n",
    "def flat_list(list_):\n",
    "    res = []\n",
    "    for el in list_:\n",
    "        res.extend(el)\n",
    "    return res\n",
    "\n",
    "vocab = {}\n",
    "print('Building vocabs:')\n",
    "vocab = build_vocab_from_iterator(\n",
    "    yield_tokens(flat_list(\n",
    "        [[data[split][dataset_name] for dataset_name in all_datasets] for split in splits]\n",
    "    )),\n",
    "    specials=[\"<unk>\", \"<pad>\"]\n",
    ")\n",
    "vocab.set_default_index(vocab[\"<unk>\"])"
   ]
  },
  {
   "cell_type": "code",
   "execution_count": 2,
   "metadata": {
    "cellId": "80izyc1svru2f4mgc2obvn"
   },
   "outputs": [
    {
     "ename": "NameError",
     "evalue": "name 'vocab' is not defined",
     "output_type": "error",
     "traceback": [
      "\u001b[0;31m---------------------------------------------------------------------------\u001b[0m",
      "\u001b[0;31mNameError\u001b[0m                                 Traceback (most recent call last)",
      "\u001b[0;32m<ipython-input-2-0f25cfa5e14e>\u001b[0m in \u001b[0;36m<module>\u001b[0;34m\u001b[0m\n\u001b[1;32m      1\u001b[0m \u001b[0;31m#!g1.1\u001b[0m\u001b[0;34m\u001b[0m\u001b[0;34m\u001b[0m\u001b[0;34m\u001b[0m\u001b[0m\n\u001b[0;32m----> 2\u001b[0;31m \u001b[0munk_id\u001b[0m \u001b[0;34m=\u001b[0m \u001b[0mvocab\u001b[0m\u001b[0;34m[\u001b[0m\u001b[0;34m'<unk>'\u001b[0m\u001b[0;34m]\u001b[0m\u001b[0;34m\u001b[0m\u001b[0;34m\u001b[0m\u001b[0m\n\u001b[0m\u001b[1;32m      3\u001b[0m \u001b[0mpad_id\u001b[0m \u001b[0;34m=\u001b[0m \u001b[0mvocab\u001b[0m\u001b[0;34m[\u001b[0m\u001b[0;34m'<pad>'\u001b[0m\u001b[0;34m]\u001b[0m\u001b[0;34m\u001b[0m\u001b[0;34m\u001b[0m\u001b[0m\n\u001b[1;32m      4\u001b[0m \u001b[0mprint\u001b[0m\u001b[0;34m(\u001b[0m\u001b[0;34mf'<unk> ~ {unk_id}\\n<pad> ~ {pad_id}'\u001b[0m\u001b[0;34m)\u001b[0m\u001b[0;34m\u001b[0m\u001b[0;34m\u001b[0m\u001b[0m\n",
      "\u001b[0;31mNameError\u001b[0m: name 'vocab' is not defined"
     ]
    }
   ],
   "source": [
    "#!g1.1\n",
    "unk_id = vocab['<unk>']\n",
    "pad_id = vocab['<pad>']\n",
    "print(f'<unk> ~ {unk_id}\\n<pad> ~ {pad_id}')"
   ]
  },
  {
   "cell_type": "code",
   "execution_count": 76,
   "metadata": {
    "cellId": "ggv282gad12rmy9suivkt"
   },
   "outputs": [
    {
     "name": "stdout",
     "output_type": "stream",
     "text": [
      "tokenized:\n",
      "---- ['some', 'random', 'text', ',', 'that', 'i', 'want', 'to', 'tokenize', '<pad>', '<pad>', '<pad>', 'and', 'one', 'unrecognizable', 'w@rd']\n",
      "\n",
      "indexes from vocab:\n",
      "---- [71, 2367, 843, 4, 16, 6, 123, 8, 4497761, 1, 1, 1, 5, 36, 20501, 0]\n"
     ]
    }
   ],
   "source": [
    "#!g1.1\n",
    "text = 'Some random text, that I want to tokenize <pad> <pad> <pad> and one unrecognizable w@rd'\n",
    "print(f'tokenized:\\n---- {tokenizer(text)}\\n')\n",
    "print(f'indexes from vocab:\\n---- {vocab(tokenizer(text))}')"
   ]
  },
  {
   "cell_type": "code",
   "execution_count": 100,
   "metadata": {
    "cellId": "0yiohx3s835oqfv0vjn85"
   },
   "outputs": [
    {
     "name": "stdout",
     "output_type": "stream",
     "text": [
      "AG_NEWS ~ max_size: [207 161]\n",
      "DBpedia ~ max_size: [1498  602]\n",
      "YelpReviewPolarity ~ max_size: [1261 1259]\n",
      "YelpReviewFull ~ max_size: [1261 1180]\n",
      "YahooAnswers ~ max_size: [4014 4017]\n",
      "AmazonReviewPolarity ~ max_size: [597 660]\n",
      "AmazonReviewFull ~ max_size: [597 344]\n"
     ]
    }
   ],
   "source": [
    "#!g1.1\n",
    "import numpy as np\n",
    "\n",
    "max_size = np.array(max_size).reshape(2, -1)\n",
    "for i, dataset_name in enumerate(all_datasets):\n",
    "    print(f'{dataset_name} ~ max_size: {max_size[:,i]}')"
   ]
  },
  {
   "cell_type": "code",
   "execution_count": 101,
   "metadata": {
    "cellId": "enhie486q8mkog7dhn86wh"
   },
   "outputs": [
    {
     "name": "stdout",
     "output_type": "stream",
     "text": [
      "maximal text length ~ 207\n"
     ]
    }
   ],
   "source": [
    "#!g1.1\n",
    "# !!!!!!!!!!!!!!!!!!!!!!!!!!!!!!!!!!!!!!\n",
    "chosen_dataset = 'AG_NEWS'\n",
    "# !!!!!!!!!!!!!!!!!!!!!!!!!!!!!!!!!!!!!!\n",
    "\n",
    "for i, dataset_name in enumerate(all_datasets):\n",
    "    if dataset_name == chosen_dataset:\n",
    "        max_ = max(max_size[:,i])\n",
    "print(f'maximal text length ~ {max_}')"
   ]
  },
  {
   "cell_type": "code",
   "execution_count": 85,
   "metadata": {
    "cellId": "1ucnzsh1bwhi7761p2xjxi7"
   },
   "outputs": [],
   "source": [
    "#!g1.1\n",
    "import torch\n",
    "\n",
    "# Text and label preprocessing\n",
    "text_pipeline = lambda x: vocab(tokenizer(x))\n",
    "label_pipeline = lambda x: int(x) - 1\n",
    "\n",
    "# Applying preprocessings to batch\n",
    "def collate_batch_offsets(batch):\n",
    "    label_list, text_list, offsets = [], [], [0]\n",
    "    for (label, text) in batch:\n",
    "        label_list.append(label_pipeline(label))\n",
    "        processed_text = torch.tensor(text_pipeline(text),\n",
    "                                      dtype=torch.int64)\n",
    "        text_list.append(processed_text)\n",
    "        offsets.append(processed_text.size(0))\n",
    "    label_list = torch.tensor(label_list, dtype=torch.int64)\n",
    "    text_list = torch.cat(text_list)\n",
    "    offsets = torch.tensor(offsets[:-1]).cumsum(dim=0)\n",
    "    return label_list, text_list, offsets\n",
    "\n",
    "# Applying preprocessings to batch\n",
    "def collate_batch_padding(batch):\n",
    "    label_list, text_list = [], []\n",
    "    for (label, text) in batch:\n",
    "        label_list.append(label_pipeline(label))\n",
    "        processed_text = text_pipeline(text)\n",
    "        processed_text = processed_text + [pad_id] * (max_ - len(processed_text))\n",
    "        text_list.append(processed_text)\n",
    "    label_list = torch.tensor(label_list, dtype=torch.int64)\n",
    "    text_list = torch.tensor(text_list, dtype=torch.int64)\n",
    "    return label_list, text_list"
   ]
  },
  {
   "cell_type": "code",
   "execution_count": 88,
   "metadata": {
    "cellId": "yisv5ehe2ncngpj1gduzu"
   },
   "outputs": [
    {
     "name": "stdout",
     "output_type": "stream",
     "text": [
      "Making dataloaders:\n"
     ]
    }
   ],
   "source": [
    "#!g1.1\n",
    "# Making dataloaders\n",
    "dataloaders_off = {split: {} for split in splits}\n",
    "dataloaders_pad = {split: {} for split in splits}\n",
    "\n",
    "print('Making dataloaders...')\n",
    "\n",
    "\n",
    "# # For all downloaded datasets\n",
    "# for split in splits:\n",
    "#     print(f'---- for {split}')\n",
    "#     for dataset_name in tqdm(all_datasets):\n",
    "#         dataloaders_off[split][dataset_name] = DataLoader(\n",
    "#             data[split][dataset_name],\n",
    "#             batch_size=16,\n",
    "#             shuffle=(split=='train'),\n",
    "#             drop_last=(split=='train'),\n",
    "#             collate_fn=collate_batch_offsets\n",
    "#         )\n",
    "#         dataloaders_pad[split][dataset_name] = DataLoader(\n",
    "#             data[split][dataset_name],\n",
    "#             batch_size=16,\n",
    "#             shuffle=(split=='train'),\n",
    "#             drop_last=(split=='train'),\n",
    "#             collate_fn=collate_batch_padding\n",
    "#         )\n",
    "\n",
    "\n",
    "# Quicker, but only for your chosen dataset\n",
    "for split in splits:\n",
    "    dataloaders_off[split][chosen_dataset] = DataLoader(\n",
    "        data[split][chosen_dataset],\n",
    "        batch_size=16,\n",
    "        shuffle=(split=='train'),\n",
    "        drop_last=(split=='train'),\n",
    "        collate_fn=collate_batch_offsets\n",
    "    )\n",
    "    dataloaders_pad[split][chosen_dataset] = DataLoader(\n",
    "        data[split][chosen_dataset],\n",
    "        batch_size=16,\n",
    "        shuffle=(split=='train'),\n",
    "        drop_last=(split=='train'),\n",
    "        collate_fn=collate_batch_padding\n",
    "    )\n",
    "\n",
    "    \n",
    "# Freeing space for efficiency\n",
    "del data"
   ]
  },
  {
   "cell_type": "code",
   "execution_count": 89,
   "metadata": {
    "cellId": "zak4l5ba7w8codgxjau6w",
    "collapsed": true
   },
   "outputs": [
    {
     "name": "stdout",
     "output_type": "stream",
     "text": [
      "labels ~ torch.Size([16])\n",
      "tensor([0, 1, 3, 0, 1, 1, 3, 1, 3, 0, 3, 0, 3, 3, 2, 2])\n",
      "\n",
      "texts ~ torch.Size([672])\n",
      "tensor([   2630,    1282,    1052,    3598,       4,    1568,     524,       9,\n",
      "             62,      31,       7,     180,      69,     153,       7,     116,\n",
      "          11019,    2962,    8576,       3,    1052,   14073,       5,    1568,\n",
      "            524,      16,   26277,   18231,     110,       2,      13,     524,\n",
      "          10821,     174,       8,     121,   22447,      16,      68,     729,\n",
      "          11019,    2962,      54,      27,    1603,       2,    1287,      11,\n",
      "          49566,    1871,      14,       3,    1849,      10,   15012,    6412,\n",
      "           2361,   10377,   13548,   10727,      15,       3,     503,      10,\n",
      "              3,     831,     648,    3785,      15,    3169,       3,     339,\n",
      "             10,   27631,      16,      12,    2449,   23180,      14,    1509,\n",
      "              2,   60389,       8,     884,    9321,     156,   60389,    3284,\n",
      "              2,      62,    1534,    2721,      71,    1073,    1032,     119,\n",
      "           1239,     156,    5413,     181,      39,       7,    6687,    3162,\n",
      "             14,      55,    1018,       8,    6438,    2683,    8497,       5,\n",
      "           6738,    9487,    1195,       2,     151,       4,    7814,    3205,\n",
      "           1550,   27473,     917,      10,   11806,   11806,      86,    3376,\n",
      "             10,     151,    5373,       5,    7814,    3205,   19125,       7,\n",
      "           5102,      10,   27473,      23,    9890,   26037,    7748,      14,\n",
      "          24933,    4661,    7821,       5,   14548,     917,      10,   11806,\n",
      "             23,    3785,       4,       3,     151,    1710,     204,       2,\n",
      "          16991,       4,    3951,    1240,   21840,   26070,    2185,    3951,\n",
      "          12737,      59,      12,     284,     804,      57,   33994,   16991,\n",
      "              5,       3,     504,      16,     292,     820,       3,  187380,\n",
      "              8,    9372,       2,   66867,      56,      15,    1681,   18325,\n",
      "             22,   10590,    4015,      35,    1728,    1844,      32,      86,\n",
      "          12032,    1404,    3522,  101338,   66867,      11,    7472,   37584,\n",
      "             62,     261,     174,      56,      15,       7,     826,    1023,\n",
      "            192,      63,    4015,   28836,       3,     116,    1185,   10590,\n",
      "              8,     783,    1681,       2,   26620,       7,    1852,    1727,\n",
      "           6887,    1852,   46473,    1852,      24,    1727,    1239,   14024,\n",
      "             64,    1412,       3,    2878,     425,       4,     726,       3,\n",
      "            650,   10173,       4,      15,      65,      79,     132,     152,\n",
      "              2,       9,      17,    6148,       8,    1126,   46473,    3931,\n",
      "           2474,      14,    2799,       2,    3685,    2425,   64525,     767,\n",
      "             60,   35487,      35,    3200,      32,    3200,      86,    7396,\n",
      "           3685,     124,      76,     245,       4,  242988,   64525,    3785,\n",
      "            301,       4,    2563,    2475,   16709,      11,      24,     768,\n",
      "           2016,     767,      15,   94287,       5,    1012,     127,     826,\n",
      "            129,     408,      23,       3,    1370,     693,       2,   12020,\n",
      "             62,     736,       7,    3757,    7697,       8,       3,    1955,\n",
      "          16201,       4,    9795,       2,    3446,      86,       7,    5409,\n",
      "            589,     326,      44,    3757,       4,      18,      45,    1852,\n",
      "             26,    1015,       3,    3278,      10,       7,     340,    1955,\n",
      "           3158,      67,       3,     301,    3148,       2,     215,     728,\n",
      "              7,     340,    1955,   24690,      14,    2320,       4,     292,\n",
      "             42,       7,    7466,       2,   33813,    4955,    1538,    6164,\n",
      "             60,   35040,    6114,      11,      24,    8470,    4602,       7,\n",
      "            932,    3978,    9213,   43294,   33813,       8,    3183,      29,\n",
      "            229,    1494,       5,     559,      10,       3,    2417,       2,\n",
      "          18878,     479,   22529,   46879,     504,    1727,    2850,     479,\n",
      "           4734,     133,     570,      39,     311,  865583,    1848,      48,\n",
      "              9,      12,    2990,       3,     396,      15,     116,   19378,\n",
      "              2,    5636,    5787,   38013,       4,    1231,    8811,   33126,\n",
      "              4,   29099,       4,   34437,   54152,   38273,    5636,   12470,\n",
      "          11674,    2587,   54141,   12468,    5636,   38208,      93,   18231,\n",
      "            864,       4,    8573,   17649,       8,    8271,   14739,     921,\n",
      "             35,    3475,      32,    3475,      86,    8196,    1918,    3501,\n",
      "          16307,  812010,      23,    3431,   26277,   18231,      11,      24,\n",
      "            864,     106,      31,       7,    2001, 4023663,  125282,      21,\n",
      "             59,      54,    8271,       7,   55176,     921, 1077389,    1065,\n",
      "          14732,      10,      71,    1849,      33,     123,      15,       7,\n",
      "            650,       2,    5205,    4949,       7,  180527,    8681,    3125,\n",
      "            116,    1560,     396,    1852,      24,    2902,    2290,    2461,\n",
      "              4,    2310,      35,   61927,      32,      86,  157525,   16402,\n",
      "           3284,       2,      14,     116,    1185,       5,  171707,    6304,\n",
      "              2,      14,   62543,       4,    7985,       2,       4,      28,\n",
      "          25455,     426,      55,    5955,    5947,    2033,       8,    1279,\n",
      "              7,     116,    1560,    1823,     396,     363,  180527,    3284,\n",
      "              2,    8811,   30652,     333,     599,    1560,   39318,       9,\n",
      "           1560,       5,     896,    3093,       3,    8811,    4486,      12,\n",
      "            247,       8,     724,     119,    5397,     333,     599,     693,\n",
      "             10,     867,    1560,   39318,      23,    1742,       4,      22,\n",
      "              3,    6376,      10,    2721,    6583,      39,     311,       7,\n",
      "           1178,     344,      15,   11717,    3046,     772,       2,    1851,\n",
      "         434823,   11398,     683,   98251,       3,    3106,    8771,    1851,\n",
      "             14,    6874,     379,       7,     231,    5997,    3785,       8,\n",
      "              7,   11398,      60,    1002,   10285,       4,    1475,    3710,\n",
      "            683,       3,    2391,    1326,     448,    1914,       2,     995,\n",
      "         157351,   22489,    4216,    5174,    2155,   35987,      23,    1319,\n",
      "           5636,   12470,       2,       2,       2,    5636,   12468,    2866,\n",
      "             35,    9402,      32,      86,     922,    1981,     995,  157351,\n",
      "           3059,       7,   80868,    2155,       2,     857,    3707,    9108,\n",
      "             14,   22489,    2083,    4216,     692,       8,    1319,   23112,\n",
      "              5,    1128,      55,     408,    7164,      14,   21459,       2])\n",
      "\n",
      "offsets ~ torch.Size([16])\n",
      "tensor([  0,  46,  81, 116, 160, 187, 228, 268, 311, 364, 392, 438, 490, 545,\n",
      "        591, 623])\n"
     ]
    }
   ],
   "source": [
    "#!g1.1\n",
    "for l_, t_, o_ in dataloaders_off['train'][chosen_dataset]:\n",
    "    print(f'labels ~ {l_.shape}\\n{l_}\\n')\n",
    "    print(f'texts ~ {t_.shape}\\n{t_}\\n')\n",
    "    print(f'offsets ~ {o_.shape}\\n{o_}')\n",
    "    break"
   ]
  },
  {
   "cell_type": "code",
   "execution_count": 92,
   "metadata": {
    "cellId": "mqowayxmspvtzuk79wyp"
   },
   "outputs": [
    {
     "name": "stdout",
     "output_type": "stream",
     "text": [
      "labels ~ torch.Size([16])\n",
      "tensor([1, 2, 1, 2, 2, 0, 2, 2, 2, 1, 1, 2, 0, 2, 0, 1])\n",
      "\n",
      "texts ~ torch.Size([16, 207])\n",
      "tensor([[ 9769,  4784, 47196,  ...,     1,     1,     1],\n",
      "        [   40,  6041,    67,  ...,     1,     1,     1],\n",
      "        [    9,    46,    53,  ...,     1,     1,     1],\n",
      "        ...,\n",
      "        [27902, 24169,   544,  ...,     1,     1,     1],\n",
      "        [26559,  2962,  4779,  ...,     1,     1,     1],\n",
      "        [62777,    23,   453,  ...,     1,     1,     1]])\n",
      "\n"
     ]
    }
   ],
   "source": [
    "#!g1.1\n",
    "for l_, t_ in dataloaders_pad['train'][chosen_dataset]:\n",
    "    print(f'labels ~ {l_.shape}\\n{l_}\\n')\n",
    "    print(f'texts ~ {t_.shape}\\n{t_}\\n')\n",
    "    break"
   ]
  },
  {
   "cell_type": "markdown",
   "metadata": {
    "cellId": "m0t7op29hfbqd4sc598wn"
   },
   "source": [
    "## 3. Составляем модель и пайплайн обучения"
   ]
  },
  {
   "cell_type": "markdown",
   "metadata": {
    "cellId": "smer2qcl8il2srxtxw1d8"
   },
   "source": [
    "### 3.1 Рекуррентная модель"
   ]
  },
  {
   "cell_type": "code",
   "execution_count": 138,
   "metadata": {
    "cellId": "1vcoi3jejz1tqerm6532v"
   },
   "outputs": [],
   "source": [
    "#!g1.1\n",
    "from torch import nn\n",
    "\n",
    "class RecurrentModel(nn.Module):\n",
    "    \"\"\"\n",
    "        Network with recurrent block\n",
    "    \"\"\"\n",
    "    def __init__(self, vocab_size, input_size, hidden_size, output_size, rnn_type,\n",
    "                 num_layers, bidirectional, dropout_p, reduce='last'):\n",
    "        super(RecurrentModel, self).__init__()\n",
    "        self.rnn_type = rnn_type\n",
    "        D = 2 if bidirectional else 1\n",
    "        self.reduce = reduce\n",
    "        \n",
    "        rnn_types = [nn.RNN, nn.LSTM, nn.GRU]\n",
    "        if rnn_type not in rnn_types:\n",
    "            raise ValueError(f'rnn_cell should be one of {rnn_types}')\n",
    "        \n",
    "        reduce_ways = ['last', 'max', 'mean', 'sum']\n",
    "        assert reduce in reduce_ways, print(f'reduce must be one of {reduce_ways}')\n",
    "        \n",
    "        self.embed = nn.Embedding(num_embeddings=vocab_size, embedding_dim=input_size)\n",
    "        \n",
    "        self.rnn_layers = rnn_type(\n",
    "            input_size=input_size,\n",
    "            hidden_size=hidden_size,\n",
    "            num_layers=num_layers,\n",
    "            bidirectional=bidirectional,\n",
    "            dropout=dropout_p,\n",
    "            batch_first=True\n",
    "        )\n",
    "        \n",
    "        self.to_class = nn.Linear(hidden_size * D, output_size)\n",
    "        self.logsoftmax = nn.LogSoftmax(dim=1)\n",
    "        \n",
    "        \n",
    "    def forward(self, texts):\n",
    "        texts = self.embed(texts)\n",
    "        \n",
    "        if self.rnn_type == nn.LSTM:\n",
    "            output, (hn, cn) = self.rnn_layers(texts)\n",
    "        else:\n",
    "            output, hn = self.rnn_layers(texts)\n",
    "        \n",
    "        if self.reduce == 'last':\n",
    "            output = output[:, -1, :]\n",
    "        elif self.reduce == 'mean':\n",
    "            output = output.mean(1)\n",
    "        elif self.reduce == 'max':\n",
    "            output = output.max(1)\n",
    "        elif self.reduce == 'sum':\n",
    "            output = output.sum(1)\n",
    "        \n",
    "        return self.logsoftmax(self.to_class(output))"
   ]
  },
  {
   "cell_type": "code",
   "execution_count": 147,
   "metadata": {
    "cellId": "zoiba60mdrsbuoqzr3os2"
   },
   "outputs": [
    {
     "name": "stdout",
     "output_type": "stream",
     "text": [
      "Model:\n",
      "RecurrentModel(\n",
      "  (embed): Embedding(5000, 500)\n",
      "  (rnn_layers): RNN(500, 100, num_layers=3, batch_first=True, dropout=0.3, bidirectional=True)\n",
      "  (to_class): Linear(in_features=200, out_features=4, bias=True)\n",
      "  (softmax): Softmax(dim=1)\n",
      ")\n",
      "\n",
      "Input shape: torch.Size([16, 207])\n",
      "Output shape: torch.Size([16, 4])\n",
      "\n",
      "Checking that returned probabilities (all sums must be close to 1)\n",
      "[0.99999994 0.9999999  1.         0.9999999  1.         1.\n",
      " 1.         0.9999999  1.         1.         1.         1.\n",
      " 1.         1.         1.         0.99999994]\n"
     ]
    }
   ],
   "source": [
    "#!g1.1\n",
    "hashing_trick_size = 5000\n",
    "\n",
    "model_rnn = RecurrentModel(\n",
    "    vocab_size = hashing_trick_size,\n",
    "    input_size = 500,\n",
    "    hidden_size = 100,\n",
    "    output_size = num_classes[chosen_dataset],\n",
    "    rnn_type = nn.RNN,\n",
    "    num_layers = 3,\n",
    "    bidirectional = True,\n",
    "    dropout_p = 0.3,\n",
    "    reduce = 'last'\n",
    ")\n",
    "\n",
    "print('Model:', model_rnn, sep='\\n')\n",
    "\n",
    "labels_batch, texts_batch = next(iter(dataloaders_pad['train'][chosen_dataset]))\n",
    "\n",
    "print(f'\\nInput shape: {texts_batch.shape}')\n",
    "out = model_rnn(texts_batch % hashing_trick_size)\n",
    "print(f'Output shape: {out.shape}')\n",
    "\n",
    "print(f'\\nChecking that returned probabilities (all sums must be close to 1)',\n",
    "      out.sum(-1).detach().numpy(), sep='\\n')"
   ]
  },
  {
   "cell_type": "code",
   "execution_count": 148,
   "metadata": {
    "cellId": "q4eukdc1c2moaazvxqo8i"
   },
   "outputs": [
    {
     "name": "stdout",
     "output_type": "stream",
     "text": [
      "embed.weight        ~  2500000 params\n",
      "rnn_layers.weight_ih_l0 ~  50000   params\n",
      "rnn_layers.weight_hh_l0 ~  10000   params\n",
      "rnn_layers.bias_ih_l0 ~  100     params\n",
      "rnn_layers.bias_hh_l0 ~  100     params\n",
      "rnn_layers.weight_ih_l0_reverse ~  50000   params\n",
      "rnn_layers.weight_hh_l0_reverse ~  10000   params\n",
      "rnn_layers.bias_ih_l0_reverse ~  100     params\n",
      "rnn_layers.bias_hh_l0_reverse ~  100     params\n",
      "rnn_layers.weight_ih_l1 ~  20000   params\n",
      "rnn_layers.weight_hh_l1 ~  10000   params\n",
      "rnn_layers.bias_ih_l1 ~  100     params\n",
      "rnn_layers.bias_hh_l1 ~  100     params\n",
      "rnn_layers.weight_ih_l1_reverse ~  20000   params\n",
      "rnn_layers.weight_hh_l1_reverse ~  10000   params\n",
      "rnn_layers.bias_ih_l1_reverse ~  100     params\n",
      "rnn_layers.bias_hh_l1_reverse ~  100     params\n",
      "rnn_layers.weight_ih_l2 ~  20000   params\n",
      "rnn_layers.weight_hh_l2 ~  10000   params\n",
      "rnn_layers.bias_ih_l2 ~  100     params\n",
      "rnn_layers.bias_hh_l2 ~  100     params\n",
      "rnn_layers.weight_ih_l2_reverse ~  20000   params\n",
      "rnn_layers.weight_hh_l2_reverse ~  10000   params\n",
      "rnn_layers.bias_ih_l2_reverse ~  100     params\n",
      "rnn_layers.bias_hh_l2_reverse ~  100     params\n",
      "to_class.weight     ~  800     params\n",
      "to_class.bias       ~  4       params\n",
      "\n",
      "In total: 2742004 params\n"
     ]
    }
   ],
   "source": [
    "#!g1.1\n",
    "# Counting how many parameters does our model have\n",
    "def model_num_params(model):\n",
    "    sum_params = 0\n",
    "    for param in model.named_parameters():\n",
    "        num_params = np.prod(param[1].shape)\n",
    "        print('{: <19} ~  {: <7} params'.format(param[0], num_params))\n",
    "        sum_params += num_params\n",
    "    print(f'\\nIn total: {sum_params} params')\n",
    "    return sum_params\n",
    "\n",
    "sum_params = model_num_params(model_rnn)"
   ]
  },
  {
   "cell_type": "code",
   "execution_count": 149,
   "metadata": {
    "cellId": "y9bhvr8zgbicteobk7kf"
   },
   "outputs": [
    {
     "name": "stdout",
     "output_type": "stream",
     "text": [
      "Model:\n",
      "RecurrentModel(\n",
      "  (embed): Embedding(5000, 500)\n",
      "  (rnn_layers): LSTM(500, 100, num_layers=3, batch_first=True, dropout=0.3)\n",
      "  (to_class): Linear(in_features=100, out_features=4, bias=True)\n",
      "  (softmax): Softmax(dim=1)\n",
      ")\n",
      "\n",
      "Input shape: torch.Size([16, 207])\n",
      "Output shape: torch.Size([16, 4])\n",
      "\n",
      "Checking that returned probabilities (all sums must be close to 1)\n",
      "[1.         0.99999994 1.0000001  1.         1.         0.99999994\n",
      " 1.         1.0000001  1.         1.         0.99999994 1.\n",
      " 1.         1.         0.9999999  1.0000001 ]\n"
     ]
    }
   ],
   "source": [
    "#!g1.1\n",
    "model_lstm = RecurrentModel(\n",
    "    vocab_size = hashing_trick_size,\n",
    "    input_size = 500,\n",
    "    hidden_size = 100,\n",
    "    output_size = num_classes[chosen_dataset],\n",
    "    rnn_type = nn.LSTM,\n",
    "    num_layers = 3,\n",
    "    bidirectional = False,\n",
    "    dropout_p = 0.3,\n",
    "    reduce = 'last'\n",
    ")\n",
    "\n",
    "print('Model:', model_lstm, sep='\\n')\n",
    "\n",
    "labels_batch, texts_batch = next(iter(dataloaders_pad['train'][chosen_dataset]))\n",
    "\n",
    "print(f'\\nInput shape: {texts_batch.shape}')\n",
    "out = model_lstm(texts_batch % hashing_trick_size)\n",
    "print(f'Output shape: {out.shape}')\n",
    "\n",
    "print(f'\\nChecking that returned probabilities (all sums must be close to 1)',\n",
    "      out.exp().sum(-1).detach().numpy(), sep='\\n')"
   ]
  },
  {
   "cell_type": "code",
   "execution_count": 150,
   "metadata": {
    "cellId": "rn4upr4x64k459kjwo7dhn"
   },
   "outputs": [
    {
     "name": "stdout",
     "output_type": "stream",
     "text": [
      "embed.weight        ~  2500000 params\n",
      "rnn_layers.weight_ih_l0 ~  200000  params\n",
      "rnn_layers.weight_hh_l0 ~  40000   params\n",
      "rnn_layers.bias_ih_l0 ~  400     params\n",
      "rnn_layers.bias_hh_l0 ~  400     params\n",
      "rnn_layers.weight_ih_l1 ~  40000   params\n",
      "rnn_layers.weight_hh_l1 ~  40000   params\n",
      "rnn_layers.bias_ih_l1 ~  400     params\n",
      "rnn_layers.bias_hh_l1 ~  400     params\n",
      "rnn_layers.weight_ih_l2 ~  40000   params\n",
      "rnn_layers.weight_hh_l2 ~  40000   params\n",
      "rnn_layers.bias_ih_l2 ~  400     params\n",
      "rnn_layers.bias_hh_l2 ~  400     params\n",
      "to_class.weight     ~  400     params\n",
      "to_class.bias       ~  4       params\n",
      "\n",
      "In total: 2902804 params\n"
     ]
    }
   ],
   "source": [
    "#!g1.1\n",
    "sum_params = model_num_params(model_lstm)"
   ]
  },
  {
   "cell_type": "markdown",
   "metadata": {
    "cellId": "e3tnv1hmdauc97z93yr4pa"
   },
   "source": [
    "### 3.2 Оптимизатор"
   ]
  },
  {
   "cell_type": "code",
   "execution_count": 143,
   "metadata": {
    "cellId": "2wo852vblq6kt52w2fyti"
   },
   "outputs": [],
   "source": [
    "#!g1.1\n",
    "device = torch.device('cuda:0') if torch.cuda.is_available() else torch.device('cpu')\n",
    "\n",
    "def create_model_and_optimizer(model_class, model_params, lr=1e-3, beta1=0.9, beta2=0.999, device=device):\n",
    "    model = model_class(**model_params)\n",
    "    model = model.to(device)\n",
    "    \n",
    "    optimizer = torch.optim.Adam(model.parameters(), lr, [beta1, beta2])\n",
    "    return model, optimizer"
   ]
  },
  {
   "cell_type": "code",
   "execution_count": 144,
   "metadata": {
    "cellId": "b8og48h2fe9kin5xu4n7li"
   },
   "outputs": [],
   "source": [
    "#!g1.1\n",
    "model_params = {\n",
    "    'vocab_size': hashing_trick_size,\n",
    "    'input_size': 500,\n",
    "    'hidden_size': 100,\n",
    "    'output_size': num_classes[chosen_dataset],\n",
    "    'rnn_type': nn.RNN,\n",
    "    'num_layers': 3,\n",
    "    'bidirectional': True,\n",
    "    'dropout_p': 0.3,\n",
    "    'reduce': 'last'\n",
    "}\n",
    "\n",
    "model, optimizer = create_model_and_optimizer(\n",
    "    model_class = RecurrentModel, \n",
    "    model_params = model_params,\n",
    "    lr = 1e-3,\n",
    ")"
   ]
  },
  {
   "cell_type": "markdown",
   "metadata": {
    "cellId": "vxowvzafngmhcn2sxy2ea"
   },
   "source": [
    "### 3.3 Обучение/валидация одной эпохи"
   ]
  },
  {
   "cell_type": "code",
   "execution_count": 124,
   "metadata": {
    "cellId": "hniud7z2vh5k4aqozue3xh"
   },
   "outputs": [],
   "source": [
    "#!g1.1\n",
    "import torch.nn.functional as F\n",
    "from tqdm.notebook import tqdm\n",
    "\n",
    "criterion = nn.NLLLoss()\n",
    "\n",
    "def train(model, optimizer, loader, criterion):\n",
    "    model.train()\n",
    "    losses_tr = []\n",
    "    for labels, texts in tqdm(loader):\n",
    "        labels = labels.to(device)\n",
    "        texts = texts.to(device)\n",
    "        \n",
    "        optimizer.zero_grad()\n",
    "        out = model(texts % hashing_trick_size)\n",
    "        loss = criterion(out, labels)\n",
    "        \n",
    "        loss.backward()\n",
    "        optimizer.step()\n",
    "        losses_tr.append(loss.item()) \n",
    "    \n",
    "    return model, optimizer, np.mean(losses_tr)\n",
    "\n",
    "def val(model, loader, criterion):\n",
    "    model.eval()\n",
    "    losses_val = []\n",
    "    with torch.no_grad():\n",
    "        for labels, texts in tqdm(loader):\n",
    "            labels = labels.to(device)\n",
    "            texts = texts.to(device)\n",
    "            out = model(texts % hashing_trick_size)\n",
    "            loss = criterion(out, labels)\n",
    "\n",
    "            losses_val.append(loss.item())\n",
    "    \n",
    "    return np.mean(losses_val)"
   ]
  },
  {
   "cell_type": "markdown",
   "metadata": {
    "cellId": "dx4pvmfciqgbbw0wb2dffq"
   },
   "source": [
    "### 3.4 Цикл обучения"
   ]
  },
  {
   "cell_type": "code",
   "execution_count": 153,
   "metadata": {
    "cellId": "ub1juqtda9s0v9m86pfa84l"
   },
   "outputs": [],
   "source": [
    "#!g1.1\n",
    "from IPython.display import clear_output\n",
    "from tqdm.notebook import trange\n",
    "import matplotlib.pyplot as plt\n",
    "%matplotlib inline\n",
    "\n",
    "\n",
    "def get_lr(optimizer):\n",
    "    for param_group in optimizer.param_groups:\n",
    "        return param_group['lr']\n",
    "    \n",
    "\n",
    "def learning_loop(model, optimizer, train_loader, val_loader, criterion, scheduler=None, min_lr=None,\n",
    "                  epochs=10, val_every=1, draw_every=1, separate_show=False):\n",
    "    losses = {'train': [], 'val': []}\n",
    "\n",
    "    for epoch in range(1, epochs+1):\n",
    "        print(f'#{epoch}/{epochs}:')\n",
    "        model, optimizer, loss = train(model, optimizer, train_loader, criterion)\n",
    "        losses['train'].append(loss)\n",
    "\n",
    "        if not (epoch % val_every):\n",
    "            loss = val(model, val_loader, criterion)\n",
    "            losses['val'].append(loss)\n",
    "            if scheduler:\n",
    "                scheduler.step(loss)\n",
    "\n",
    "        if not (epoch % draw_every):\n",
    "            clear_output(True)\n",
    "            fig, ax = plt.subplots(1, 2 if separate_show else 1, figsize=(20, 10))\n",
    "            fig.suptitle(f'#{epoch}/{epochs}:')\n",
    "\n",
    "            if separate_show:\n",
    "                plt.subplot(121)\n",
    "                plt.title('loss on train')\n",
    "            plt.plot(losses['train'], 'r.-', label='train')\n",
    "            plt.legend()\n",
    "\n",
    "            if separate_show:\n",
    "                plt.subplot(122)\n",
    "                plt.title('loss on validation')\n",
    "            else:\n",
    "                plt.title('losses')\n",
    "            plt.plot(losses['val'], 'g.-', label='val')\n",
    "            plt.legend()\n",
    "            \n",
    "            plt.show()\n",
    "        \n",
    "        if min_lr and get_lr(optimizer) <= min_lr:\n",
    "            print(f'Learning process ended with early stop after epoch {epoch}')\n",
    "            break\n",
    "    \n",
    "    return model, optimizer, losses"
   ]
  },
  {
   "cell_type": "markdown",
   "metadata": {
    "cellId": "5famw0ztk3jt3kxck585s9"
   },
   "source": [
    "### 3.5 Обучаем модели"
   ]
  },
  {
   "cell_type": "code",
   "execution_count": 154,
   "metadata": {
    "cellId": "xg7g7g8aqjq8v8taotsozj"
   },
   "outputs": [],
   "source": [
    "#!g1.1\n",
    "model_params = dict()\n",
    "model = dict()\n",
    "optimizer = dict()\n",
    "scheduler = dict()\n",
    "criterion = dict()\n",
    "losses = dict()"
   ]
  },
  {
   "cell_type": "code",
   "execution_count": 155,
   "metadata": {
    "cellId": "2axk8c12vcbm6po8c61n2"
   },
   "outputs": [
    {
     "data": {
      "image/png": "[encoded data removed]",
      "text/plain": [
       "<Figure size 1440x720 with 1 Axes>"
      ]
     },
     "metadata": {
      "needs_background": "light"
     },
     "output_type": "display_data"
    },
    {
     "name": "stdout",
     "output_type": "stream",
     "text": [
      "Learning process ended with early stop after epoch 87\n",
      "CPU times: user 7h 12min 40s, sys: 4min 9s, total: 7h 16min 50s\n",
      "Wall time: 7h 13min 49s\n"
     ]
    }
   ],
   "source": [
    "#!g1.1\n",
    "%%time\n",
    "\n",
    "model_type = 'bi-rnn'\n",
    "\n",
    "device = torch.device('cuda:0') if torch.cuda.is_available() else torch.device('cpu')\n",
    "\n",
    "model_params[model_type] = {\n",
    "    'vocab_size': hashing_trick_size,\n",
    "    'input_size': 100,\n",
    "    'hidden_size': 20,\n",
    "    'output_size': num_classes[chosen_dataset],\n",
    "    'rnn_type': nn.RNN,\n",
    "    'num_layers': 2,\n",
    "    'bidirectional': True,\n",
    "    'dropout_p': 0.3,\n",
    "    'reduce': 'mean'\n",
    "}\n",
    "\n",
    "model[model_type], optimizer[model_type] = create_model_and_optimizer(\n",
    "    model_class = RecurrentModel, \n",
    "    model_params = model_params[model_type],\n",
    "    lr = 5e-4,\n",
    "    device = device,\n",
    ")\n",
    "\n",
    "scheduler[model_type] = torch.optim.lr_scheduler.ReduceLROnPlateau(\n",
    "    optimizer[model_type],\n",
    "    mode='min',\n",
    "    factor=0.25,\n",
    "    patience=4,\n",
    "    threshold=0.001,\n",
    "    verbose=True\n",
    ")\n",
    "\n",
    "criterion[model_type] = nn.NLLLoss()\n",
    "\n",
    "model[model_type], optimizer[model_type], losses[model_type] = learning_loop(\n",
    "    model = model[model_type],\n",
    "    optimizer = optimizer[model_type],\n",
    "    train_loader = dataloaders_pad['train'][chosen_dataset],\n",
    "    val_loader = dataloaders_pad['train'][chosen_dataset],\n",
    "    criterion = criterion[model_type],\n",
    "    scheduler = scheduler[model_type],\n",
    "    epochs = 1000,\n",
    "    min_lr = 2e-6\n",
    ")\n",
    "\n",
    "# if device != 'cpu':\n",
    "#     model[model_type] = model[model_type].to('cpu')"
   ]
  },
  {
   "cell_type": "markdown",
   "metadata": {
    "cellId": "v540o4tsnoe4b5amxrejbc"
   },
   "source": [
    "## 4. Эмбеддинги"
   ]
  },
  {
   "cell_type": "markdown",
   "metadata": {
    "cellId": "njj8olbmsh2zip8t2698n"
   },
   "source": [
    "### 4.1 Word2Vec"
   ]
  },
  {
   "cell_type": "markdown",
   "metadata": {
    "cellId": "d80ux4ieczaq65gjry9gpn"
   },
   "source": [
    "Идея алгоритма простая: обучим не рекуррентную нейросеть на нахождение связи между словом и контекстом, в котором оно встречается в корпусе.\n",
    "\n",
    "Все тексты токенезируются, затем берётся окно фиксированного размера и для кажджого текста проводят обучение на каждой из возможных позиций центра и окна. Далее, внутреннее представление модели для данного слова в центре - и есть его эмбеддинг.\n",
    "\n",
    "Есть два алгоритма, относящиеся к Word2Vec:\n",
    "\n",
    "1. **CBow** (Continuous Bag of Words) - предсказания слова по контексту\n",
    "\n",
    "<img src=\"https://amitness.com/images/nlp-ssl-center-word-prediction.gif\" alt=\"CBow\" width=\"90%\"/>\n",
    "\n",
    "\n",
    "2. **Skip-gram** - предсказание контекста по слову\n",
    "\n",
    "<img src=\"https://amitness.com/images/nlp-ssl-neighbor-word-prediction.gif\" alt=\"Skip-gram\" width=\"90%\"/>"
   ]
  },
  {
   "cell_type": "markdown",
   "metadata": {
    "cellId": "9ynozkfzcvj5g6042pzp96"
   },
   "source": [
    "<img src=\"https://img-blog.csdnimg.cn/20190903155003926.png?x-oss-process=image/watermark,type_ZmFuZ3poZW5naGVpdGk,shadow_10,text_aHR0cHM6Ly9ibG9nLmNzZG4ubmV0L2NoZW54aW52aGFpODk=,size_16,color_FFFFFF,t_70\" alt=\"word2vec\" width=\"95%\"/>"
   ]
  },
  {
   "cell_type": "markdown",
   "metadata": {
    "cellId": "3s9n1527g583uft4junx2"
   },
   "source": [
    "**Плюсы:**\n",
    "- Похожие по контексту слова оказываются похожди в пространстве эмбеддингов\n",
    "- Смысловые зависимости между словами сохраняются при математических операциях\n",
    "<img src=\"https://habrastorage.org/r/w1560/getpro/habr/post_images/d61/30b/d45/d6130bd4502710631a8c812923230f47.png\" alt=\"word2vec\" width=\"80%\"/>\n",
    "<img src=\"https://amitness.com/images/word2vec-analogy.gif\" alt=\"word2vec\" width=\"80%\"/>\n",
    "<img src=\"https://habrastorage.org/r/w1560/getpro/habr/post_images/a19/84b/fea/a1984bfeab5a597c6fb6300f7d694901.png\" alt=\"word2vec\" width=\"80%\"/>\n",
    "\n",
    "**Минусы:**\n",
    "- Плохо справляется со словами вне словаря. К примеру, если в текстах корпуса встречались достаточно часто слова 'tensor' и 'flow', но не встречался 'tensorflow', то модель пометит последний как просто '\\<unk\\>'\n",
    "- Никак не переиспользует параметры для слов с общими корнями (к пр. 'eat', 'eats', 'eaten', 'eater', 'eating') - для модели это просто разные слова и каждое из них учится отдельно из контекста, тогда как слова сильно завязаны по смыслу."
   ]
  },
  {
   "cell_type": "markdown",
   "metadata": {
    "cellId": "7xlg5p2zke3fsfsi5hoa1"
   },
   "source": [
    "### 4.2 GloVe"
   ]
  },
  {
   "cell_type": "markdown",
   "metadata": {
    "cellId": "4qj21hh4tj4w9v8tjlc9z"
   },
   "source": [
    "**GloVe** (Global vectors) - нечто среднее между word2vec и SVD разложением.\n",
    "\n",
    "Модель GloVe пытается решить проблему эффективного использования статистики совпадений. GloVe минимизирует разницу между произведением векторов слов и логарифмом вероятности их совместного появления с помощью SGD."
   ]
  },
  {
   "cell_type": "markdown",
   "metadata": {
    "cellId": "i4ey8juw828v3svmxvy0p"
   },
   "source": [
    "### 4.3 FastText"
   ]
  },
  {
   "cell_type": "markdown",
   "metadata": {
    "cellId": "z1ilza0p3p3auhvgm3apn"
   },
   "source": [
    "Идея алгоритма следующая: будем обучать word2vec, но не над словами, а над буквенными n-gram-ами\n",
    "\n",
    "Берём каждое слово, добавляем к нему <...>, чтобы обозначать границы слова.\n",
    "\n",
    "Дальше бьём каждое слово на n-gram-мы фиксированного размера."
   ]
  },
  {
   "cell_type": "markdown",
   "metadata": {
    "cellId": "yo0qg3ra2excxmejg87x"
   },
   "source": [
    "<table>\n",
    "<thead>\n",
    "<tr><th>Слово</th><th>n-gram</th><th>Разбиение</th></tr>\n",
    "</thead>\n",
    "<tbody>\n",
    "<tr><td>eating</td><td>3</td><td>&lt;ea, eat, ati, tin, ing, ng&gt;</td></tr>\n",
    "<tr><td>eating</td><td>4</td><td>&lt;eat, eati, atin, ting, ing&gt;</td></tr>\n",
    "<tr><td>eating</td><td>5</td><td>&lt;eati, eatin, ating, ting&gt;</td></tr>\n",
    "<tr><td>eating</td><td>6</td><td>&lt;eatin, eating, ating&gt;</td></tr>\n",
    "</tbody>\n",
    "<\\table>"
   ]
  },
  {
   "cell_type": "markdown",
   "metadata": {
    "cellId": "vy21gqa43ancz6t8aca1"
   },
   "source": [
    "Токенизируем (так же используем hashing trick, чтобы ограничить размер словаря).\n",
    "\n",
    "<img src=\"https://amitness.com/images/fasttext-hashing-ngrams.png\" alt=\"hashing_trick\" width=\"80%\"/>\n",
    "\n",
    "Используем суммы всех эмбедингов токенов и слова целиком, чтобы получить эмбеддинг слова.\n",
    "\n",
    "<img src=\"https://amitness.com/images/fasttext-center-word-embedding.png\" alt=\"word embeddings\" width=\"80%\"/>\n",
    "\n",
    "Обучаем на положительных и негативных примерах - негативные сэмплим случайно с вероятностью пропорциональной корню из вероятности слова. Для каждого положительного сэмплим 5 негативных.\n",
    "\n",
    "<img src=\"https://amitness.com/images/fasttext-negative-sampling-goal.png\" alt=\"negative sampling\" width=\"80%\"/>\n",
    "\n",
    "Обучаем при помощи SGD"
   ]
  },
  {
   "cell_type": "markdown",
   "metadata": {
    "cellId": "jindhk5q7skr1lmcm94ac"
   },
   "source": [
    "### 4.4 ELMo"
   ]
  },
  {
   "cell_type": "markdown",
   "metadata": {
    "cellId": "llk4cwxofne45r4r5idcxi"
   },
   "source": [
    "**ELMo** (Embeddings from Language Model)\n",
    "\n",
    "Вместо того, чтобы использовать фиксированные эмбеддинги слов, ELMo смотрит на целое предложение, прежде чем присвоить каждому слову его эмбеддинг. Она использует двунаправленную модель долгой краткосрочной памяти (bi-directional LSTM), обученную специально под задачу создания таких эмбеддингов."
   ]
  },
  {
   "cell_type": "markdown",
   "metadata": {
    "cellId": "sut0kxu59gt806ajlxt2a"
   },
   "source": [
    "### 4.5 And then you'll need attention"
   ]
  },
  {
   "cell_type": "markdown",
   "metadata": {
    "cellId": "pi2ojfxkofo4kxu5ik3m"
   },
   "source": [
    "ELMo - первый подход к лингивтическому моделированию\n",
    "\n",
    "Далее появляются архитектуры с механизмом внимания, но это уже совсем другая история...\n",
    "\n",
    "(to be continued на курсе NLP)"
   ]
  }
 ],
 "metadata": {
  "kernelspec": {
   "display_name": "Python 3",
   "language": "python",
   "name": "python3"
  },
  "language_info": {
   "codemirror_mode": {
    "name": "ipython",
    "version": 3
   },
   "file_extension": ".py",
   "mimetype": "text/x-python",
   "name": "python",
   "nbconvert_exporter": "python",
   "pygments_lexer": "ipython3",
   "version": "3.6.9"
  },
  "notebookId": "3d6cf22b-85ad-4cd5-b05d-2c6dabc0a83e",
  "notebookPath": "Sem2 - NLP/sem2_nlp_master.ipynb"
 },
 "nbformat": 4,
 "nbformat_minor": 4
}
