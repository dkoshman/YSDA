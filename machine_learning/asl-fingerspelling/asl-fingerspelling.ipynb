{
 "cells": [
  {
   "cell_type": "markdown",
   "metadata": {
    "execution": {
     "iopub.execute_input": "2023-07-14T15:46:59.134584Z",
     "iopub.status.busy": "2023-07-14T15:46:59.134156Z",
     "iopub.status.idle": "2023-07-14T15:46:59.139338Z",
     "shell.execute_reply": "2023-07-14T15:46:59.138387Z",
     "shell.execute_reply.started": "2023-07-14T15:46:59.134540Z"
    }
   },
   "source": [
    "### [Todo](#Todo_)\n",
    "### [Description](#Description_)\n",
    "### [Research](#Research_)\n",
    "### [Setup](#Setup_)\n",
    "### [Imports](#Imports_)\n",
    "### [Config](#Config_)\n",
    "### [Utils](#Utils_)\n",
    "### [Data](#Data_)\n",
    "### [Download](#Download_)\n",
    "### [Preprocessing](#Preprocessing_)\n",
    "### [Exploratory data analysis](#Exploratory_data_analysis_)\n",
    "### [Metrics](#Metrics_)\n",
    "### [Hand model](#Hand_model_)\n",
    "### [Hand model loss](#Hand_model_loss_)\n",
    "### [Dataset](#Dataset_)\n",
    "### [Model](#Model_)"
   ]
  },
  {
   "cell_type": "markdown",
   "metadata": {
    "execution": {
     "iopub.execute_input": "2023-07-15T08:16:37.343887Z",
     "iopub.status.busy": "2023-07-15T08:16:37.343496Z",
     "iopub.status.idle": "2023-07-15T08:16:37.348530Z",
     "shell.execute_reply": "2023-07-15T08:16:37.347359Z",
     "shell.execute_reply.started": "2023-07-15T08:16:37.343856Z"
    }
   },
   "source": [
    "## Todo <span id=Todo_></span>\n",
    "\n",
    "1. clean up todo\n",
    "\n",
    "1. compute sequence quality, filter trashy data, learn to smooth, then cluster on smoothed labels to try to ex\n",
    "\n",
    "1. use webcam to test online\n",
    "\n",
    "# compute similarity to cluster via pointwise distance or learned function?\n",
    "# model: input -> augment -> smooth_sequence -> normalizing_affine_transform -> conformer -> smooth_loss + ctc_loss\n",
    "# manually model frame x landmark x coordinate with variable frame length fingerletters and let model use them as context\n",
    "# keep finger point abs coordinates\n",
    "# pad/truncate all sequences to common length\n",
    "# don't limit consecutive nans\n",
    "# smooth out hand model, take smooth hand model at notnan frames, encode as context for transformer cross attention\n",
    "# check letter and word distributions in train phrases\n",
    "\n",
    "1. teach model to speak in sign language in parallel to understanding it\n",
    "\n",
    "1. masked learning\n",
    "\n",
    "1. filter data: drop 1 frame samples, none samples\n",
    "\n",
    "1. determine for each participant whether he is right-handed\n",
    "\n",
    "1. distinguish between stationary and dynamic symbols\n",
    "\n",
    "1. how to deal with transitions between symbols? If have codebook -> just match, otherwise utilize temporal attention\n",
    "\n",
    "1. extract codes for each symbol + missing data class + transition class + intentional nothing class\n",
    "\n",
    "1. how to distinguish word boundaries? Intentional vs unintentional nothing\n",
    "\n",
    "determine handedness by comparing total hand variation\n",
    "\n",
    "measure sequence quality by number of frames per letter, percent missing data after clipping inner nan spans, average jitterness by computing deltas\n",
    "\n",
    "interpolate finger point movement via line with weakly bounded first, second derivative\n",
    "\n",
    "detect complete finger letter by detecting finger stops / turns\n",
    "\n",
    "utilize skeletal-muscular model of fingers to determine how fingers can move\n",
    "\n",
    "initiate learning with simulated finger letters -> incrementally progress to more noisy samples\n",
    "\n",
    "assign each video quality based on missing / jittering data and train on quality data first\n",
    "\n",
    "nearest frames interpolate? -> lag predictions? several frames look ahead?\n",
    "\n",
    "filter data: empty, too sparse, too noisy(jiggly)\n",
    "learn to smooth out input via masked training\n",
    "\n",
    "take pretrained bert, limit vocab, train conditional on gestures\n",
    "\n",
    "can drop out a lot of columns and rows to train on other gpus\n",
    "\n",
    "different elementwise activations instead of one per layer\n",
    "\n",
    "what is supplemental data???\n",
    "\n",
    "train data is prett shitty, consider using extra data\n",
    "\n",
    "if iterating over data by parquet files -> accumulate grad batches\n",
    "\n",
    "train model to predict missing frames / smooth out and regularize given frames\n",
    "\n",
    "check z coordinate consistency\n",
    "\n",
    "use mediapipe handedness evaluator?\n",
    "\n",
    "what to do if someone switches hands during phrase?\n",
    "\n",
    "augment frame rate during training\n",
    "\n",
    "because person can get closer/further to/from the camera, skeletal sizes are not absolute\n",
    "\n",
    "feature engineering:\n",
    "hand orientation/position/speed/acceleration\n",
    "joint 2d angles for secondary joints, 3d angles for primary\n",
    "assign parent node, get vector angle from parent node relative to palm plane\n",
    "get finger point vectors/ coords relative to palm, finger lenghts?\n",
    "distinguish between letters with velocity/without\n",
    "how to encode movement?\n",
    "\n",
    "hand-craft pose token clusters for each letter\n",
    "look for asl datasets\n",
    "how to deal with missing values?\n",
    "determine dominant hand online, transform left hand to right\n",
    "use catboost to determine feature importance\n",
    "learn codebook and predict via nearest neighbors\n",
    "sample each letter individually from each phrase -> take center / cluster\n",
    "how to encode letters with motion?\n",
    "condition on participant id, stratify train/test on participant id\n",
    "\n",
    "compress and expand missing rows to save memory on data transfer\n",
    "\n",
    "Try:\n",
    "1. cnn\n",
    "2. cnn + transformer\n",
    "3. cnn + VQ + transformer\n",
    "\n",
    "model: cnn as feature extractor front-end, then transformer as the temporal back-end, maybe feed back predictions of previous steps?\n",
    "\n",
    "maybe VQ: hand-crafted or learnable after or before cnn\n",
    "\n",
    "factorize into a spacial attention model and temporal one?\n",
    "\n",
    "ensemble via seeds, models, submodels\n",
    "\n",
    "look through previous notebooks for training, architecture tips\n",
    "\n",
    "swa, mix-cut, label smoothing, dropout, pathcut?, stochastic depth, masking, augmentations\n",
    "\n",
    "train using pseudo noisy student, progressively reducing the hand model smoothing and using noisier data, while reducing learning rate\n",
    "\n",
    "take a page from SpecAugment time warping, masking\n",
    "\n",
    "use conformer-like architecture"
   ]
  },
  {
   "cell_type": "markdown",
   "metadata": {
    "execution": {
     "iopub.execute_input": "2023-07-22T08:06:30.300348Z",
     "iopub.status.busy": "2023-07-22T08:06:30.299960Z",
     "iopub.status.idle": "2023-07-22T08:06:30.307602Z",
     "shell.execute_reply": "2023-07-22T08:06:30.306550Z",
     "shell.execute_reply.started": "2023-07-22T08:06:30.300317Z"
    }
   },
   "source": [
    "## Description <span id=Description_></span>"
   ]
  },
  {
   "cell_type": "markdown",
   "metadata": {
    "execution": {
     "iopub.execute_input": "2023-07-15T08:11:53.014991Z",
     "iopub.status.busy": "2023-07-15T08:11:53.014580Z",
     "iopub.status.idle": "2023-07-15T08:11:53.022129Z",
     "shell.execute_reply": "2023-07-15T08:11:53.020992Z",
     "shell.execute_reply.started": "2023-07-15T08:11:53.014961Z"
    }
   },
   "source": [
    "\n",
    "\n",
    "\n",
    "- [American manual alphabet on Wikipedia](https://en.wikipedia.org/wiki/American_manual_alphabet)\n",
    "\n",
    "<div style=\"text-align: center;\">\n",
    "  <img src=\"https://upload.wikimedia.org/wikipedia/commons/c/c8/Asl_alphabet_gallaudet.svg\" width=\"300\">\n",
    "</div>\n",
    "\n",
    "<div style=\"text-align: center;\">\n",
    "  <img src=\"https://developers.google.com/static/mediapipe/images/solutions/hand-landmarks.png\" width=\"600\">\n",
    "</div>\n",
    "\n",
    "<div style=\"text-align: center;\">\n",
    "    <img src=\"https://mediapipe.dev/images/mobile/hand_crops.png\" width=\"600\">\n",
    "  <img src=\"https://www.researchgate.net/profile/Viktor-Kotiuk/publication/295677869/figure/fig1/AS:636380862496769@1528736429147/Anteroposterior-X-ray-image-of-the-hand-with-quantities-measured-I-V-finger-index.png\" width=\"300\">\n",
    "</div>\n",
    "\n",
    "\n",
    "- [Competition](https://www.kaggle.com/competitions/asl-fingerspelling)\n",
    "\n",
    "#### Dataset Summary\n",
    "\n",
    "The ASL Fingerspelling Recognition Corpus (version 1.0) is a collection of hand and facial landmarks generated by Mediapipe version 0.9.0.1 on videos of phrases, addresses, phone numbers, and urls fingerspelling by over 100 deaf signers.\n",
    "\n",
    "#### Source Data\n",
    "\n",
    "##### Initial Data Collection and Normalization\n",
    "\n",
    "Signers who communicate using American Sign Language as their primary language were recruited from across the United States. They were shipped a smartphone with an installed data collection app. The app prompted the signer with the English text to sign. Signers pressed an on-screen button on the phone to begin and end the recording of video during which they fingerspelled the on screen text. The video clip boundaries were adjusted to contain video around the fingerspelling, but this process was not perfectly accurate.\n",
    "\n",
    "The fingerspelling contains a high degree of co-articulation and even lexicalization of full words. Meaning, the letter handshapes are modified based on what comes before or after. Many variations of handshapes are used to convey meaning. Many different body poses, zoom levels, appearances, and accessories are present in the dataset. Signers could use either their left or right hand to produce fingerspelling, and many even switched between hands in different clips.\n",
    "\n",
    "The signers were shown text which included capitalization, however, most signers chose not to convey the capitalization within their fingerspelled responses. Some signers conveyed the capitalizations using several different methods, most commonly with one of three methods. Using a curled-L handshape (perhaps with motion to indicate the entire word is capitalized) before the letter to be capitalized, by physically placing the capitalized letters higher in space than the lower case letters, or by shaking the letter's handshape a little bit to indicate it is capitalized. This dataset does not attempt to evaluate the detection of capitalization, and all target phrases are lower case.\n",
    "\n",
    "#### Annotations\n",
    "\n",
    "##### Annotation process\n",
    "\n",
    "Each video was annotated at creation time by the smartphone app. Videos were filtered, modified and clip boundaries assigned through a largely automatic process which corrected many issues in the underlying raw data. Incorrect clip boundaries are the most prevalent remaining issue in the data samples. Little judgment was made on the correctness or quality of the fingerspelling itself.\n",
    "\n",
    "#### Evaluation\n",
    "\n",
    "The evaluation metric for this contest is the normalized total levenshtein distance. Let the total number of characters in all of the labels be N and the total levenshtein distance be D. The metric equals (N - D) / N.\n",
    "\n",
    "#### This is a Code Competition\n",
    "\n",
    "Submissions to this competition must be made through Notebooks. In order for the \"Submit\" button to be active after a commit, the following conditions must be met:\n",
    "\n",
    "- CPU Notebook <= 9 hours run-time\n",
    "- GPU Notebook <= 9 hours run-time\n",
    "- Internet access disabled\n",
    "- Freely & publicly available external data is allowed, including pre-trained models\n",
    "- Submission file must be named submission.zip\n",
    "\n",
    "#### Submission Process\n",
    "\n",
    "In this competition you will be submitting a TensorFlow Lite model file. The model must take one or more landmark frames as an input and return a float vector (the predicted probabilities of each sign class) as the output. Your model must be packaged into a submission.zip file and compatible with the TensorFlow Lite Runtime v2.14.0, which we are running using Python 3.10. You are welcome to train your model using the framework of your choice, as long as you convert the model checkpoint into the tflite format prior to submission.\n",
    "\n",
    "Your model must also perform inference in less than 5 hours and use less than 40 MB of storage space. Expect to see approximately 35 hours of video in the test set.\n",
    "\n",
    "Each video is loaded with the following function:\n",
    "\n",
    "```python\n",
    "def load_relevant_data_subset(pq_path):\n",
    "    return pd.read_parquet(pq_path, columns=selected_columns)\n",
    "```\n",
    "\n",
    "If you want to load only a subset of the landmarks, include a file named inference_args.json in your submission.zip with the field selected_columns containing a list of the landmark columns you want to use. If that is not included we will load all columns.\n",
    "\n",
    "Inference is performed (roughly) as follows, ignoring details like how we manage multiple videos:\n",
    "\n",
    "```python\n",
    "import tflite_runtime.interpreter as tflite\n",
    "interpreter = tflite.Interpreter(model_path)\n",
    "\n",
    "REQUIRED_SIGNATURE = \"serving_default\"\n",
    "REQUIRED_OUTPUT = \"outputs\"\n",
    "\n",
    "with open (\"/kaggle/input/fingerspelling-character-map/character_to_prediction_index.json\", \"r\") as f:\n",
    "    character_map = json.load(f)\n",
    "rev_character_map = {j:i for i,j in character_map.items()}\n",
    "\n",
    "found_signatures = list(interpreter.get_signature_list().keys())\n",
    "\n",
    "if REQUIRED_SIGNATURE not in found_signatures:\n",
    "    raise KernelEvalException('Required input signature not found.')\n",
    "\n",
    "prediction_fn = interpreter.get_signature_runner(\"serving_default\")\n",
    "output = prediction_fn(inputs=frames)\n",
    "prediction_str = \"\".join([rev_character_map.get(s, \"\") for s in np.argmax(output[REQUIRED_OUTPUT], axis=1)])\n",
    "```"
   ]
  },
  {
   "cell_type": "markdown",
   "metadata": {
    "execution": {
     "iopub.execute_input": "2023-07-15T08:11:53.014991Z",
     "iopub.status.busy": "2023-07-15T08:11:53.014580Z",
     "iopub.status.idle": "2023-07-15T08:11:53.022129Z",
     "shell.execute_reply": "2023-07-15T08:11:53.020992Z",
     "shell.execute_reply.started": "2023-07-15T08:11:53.014961Z"
    }
   },
   "source": [
    "## Research <span id=Research_></span>\n",
    "\n",
    "- [Quickstart notebook](https://www.kaggle.com/code/gusthema/asl-fingerspelling-recognition-w-tensorflow/notebook)\n",
    "- [Competetion discussion summary](https://www.kaggle.com/competitions/asl-fingerspelling/discussion/421761)\n",
    "- [Asl-signs competetion first place: 1DCNN with Transformer](https://www.kaggle.com/competitions/asl-signs/discussion/406684)\n",
    "- [Asl-signs competetion second place: data augmentation, CNN and Transformer ensemble](https://www.kaggle.com/competitions/asl-signs/discussion/406306)\n",
    "\n",
    "- [MS-ASL dataset and experiments](https://arxiv.org/pdf/1812.01053v2.pdf)\n",
    "- [I3D (2018): overview of video classification methods, such as conv2d + optical flow + LSTM, conv3d](https://arxiv.org/pdf/1705.07750.pdf)\n",
    "- [Semi-supervised learning for speech recognition (2022): mix labeled and unlabeled data, iteratively train student models with conformer architecture](https://arxiv.org/pdf/2010.10504v2.pdf)\n",
    "- [CTC loss](https://distill.pub/2017/ctc/)\n",
    "- [wav2vec 2.0 (2020): learning audio encodings via masked pretraining, conv + VQ + transformer](https://arxiv.org/pdf/2006.11477.pdf)\n",
    "- [Token Learner: simple spacial attention based feature extractor](https://openreview.net/pdf?id=z-l1kpDXs88)\n",
    "- [Whisper (2022): robust speech recognition via large-scale weak supervision with transformer](https://arxiv.org/pdf/2212.04356.pdf)\n",
    "- [Stochastic depth regularization](https://arxiv.org/pdf/1603.09382.pdf)\n",
    "- [Noisy student: iteratively train larger model on unlabeled data using previous model's predictions as target](https://arxiv.org/pdf/1911.04252v4.pdf)\n",
    "- [SpecAugment: speech recognition augmentation via time warping, block masking](https://arxiv.org/pdf/1904.08779v3.pdf)\n",
    "- [Squeeze-and-excite: an attention-like layer for cnns](https://arxiv.org/pdf/1709.01507.pdf)\n",
    "- [ContextNet (2020): squeeze-and-excite cnn](https://arxiv.org/pdf/2005.03191.pdf)\n",
    "- [Conformer (2020): cnn and transformer fusion](https://arxiv.org/pdf/2005.08100.pdf)\n",
    "- [Recording of ml audio study group](https://www.youtube.com/watch?v=D-MH6YjuIlE)\n",
    "- [Outlier detection in time series](https://s-ai-f.github.io/Time-Series/outlier-detection-in-time-series.html)\n",
    "- [Hand proportions](https://scielo.conicyt.cl/pdf/ijmorphol/v28n3/art15.pdf)\n",
    "\n",
    "- https://huggingface.co/docs/transformers/tasks/asr"
   ]
  },
  {
   "cell_type": "markdown",
   "metadata": {},
   "source": [
    "- [Hidden-state Conditional Random Fields paper](https://www.cs.upc.edu/~aquattoni/AllMyPapers/pami_07.pdf)\n",
    "- [American Sign Language Recognition paper](https://pdfs.semanticscholar.org/9311/469060376731a780811d6a7d52a4ea3a57e7.pdf?_gl=1*h6srw4*_ga*MTI1MTM3MjcuMTY4OTQxMjU0OA..*_ga_H7P4ZT52H5*MTY4OTQxMjU0OC4xLjAuMTY4OTQxMjU1MS41Ny4wLjA.)\n",
    "- [Classifying ASL images via mediapipe](https://www.cortic.ca/post/classifying-american-sign-language-alphabets-on-the-oak-d)\n",
    "- [Overview of VQ methods](https://towardsdatascience.com/optimizing-vector-quantization-methods-by-machine-learning-algorithms-77c436d0749d)\n",
    "- [VQVAE paper](https://arxiv.org/pdf/1711.00937.pdf)\n",
    "- [VQVAE implementation](https://colab.research.google.com/github/zalandoresearch/pytorch-vq-vae/blob/master/vq-vae.ipynb)\n",
    "- [VQ package](https://github.com/lucidrains/vector-quantize-pytorch)\n",
    "- [Video Question Answering with Iterative Video-Text Co-Tokenization: condition video processing model on the question being asked](https://arxiv.org/pdf/2208.00934.pdf)\n",
    "- [AUTO-AVSR (2023): audio-visual speech recognition via training on automatically generated labels](https://arxiv.org/pdf/2303.14307v3.pdf)"
   ]
  },
  {
   "cell_type": "markdown",
   "metadata": {
    "execution": {
     "iopub.execute_input": "2023-07-22T08:08:37.696754Z",
     "iopub.status.busy": "2023-07-22T08:08:37.695921Z",
     "iopub.status.idle": "2023-07-22T08:08:37.701105Z",
     "shell.execute_reply": "2023-07-22T08:08:37.699892Z",
     "shell.execute_reply.started": "2023-07-22T08:08:37.696709Z"
    }
   },
   "source": [
    "## Setup <span id=Setup_></span>"
   ]
  },
  {
   "cell_type": "code",
   "execution_count": 3,
   "metadata": {
    "ExecuteTime": {
     "end_time": "2023-08-04T12:24:36.197755Z",
     "start_time": "2023-08-04T12:24:36.189396Z"
    },
    "execution": {
     "iopub.execute_input": "2023-08-01T07:36:11.115800Z",
     "iopub.status.busy": "2023-08-01T07:36:11.115371Z",
     "iopub.status.idle": "2023-08-01T07:36:28.730878Z",
     "shell.execute_reply": "2023-08-01T07:36:28.729666Z",
     "shell.execute_reply.started": "2023-08-01T07:36:11.115768Z"
    }
   },
   "outputs": [],
   "source": [
    "def check_python_version(expected_version: str):\n",
    "    python_version = !python --version\n",
    "    if python_version[0] != expected_version:\n",
    "        print(\n",
    "            f\"Expected python version `{expected_version}`, found `{python_version[0]}`.\"\n",
    "        )"
   ]
  },
  {
   "cell_type": "code",
   "execution_count": 4,
   "metadata": {
    "ExecuteTime": {
     "end_time": "2023-08-04T12:24:43.205976Z",
     "start_time": "2023-08-04T12:24:36.386490Z"
    },
    "execution": {
     "iopub.execute_input": "2023-08-01T07:36:11.115800Z",
     "iopub.status.busy": "2023-08-01T07:36:11.115371Z",
     "iopub.status.idle": "2023-08-01T07:36:28.730878Z",
     "shell.execute_reply": "2023-08-01T07:36:28.729666Z",
     "shell.execute_reply.started": "2023-08-01T07:36:11.115768Z"
    }
   },
   "outputs": [],
   "source": [
    "check_python_version(\"Python 3.10.7\")\n",
    "\n",
    "!pip install -qqq einops mediapipe editdistance"
   ]
  },
  {
   "cell_type": "markdown",
   "metadata": {},
   "source": [
    "## Imports <span id=Imports_></span>"
   ]
  },
  {
   "cell_type": "code",
   "execution_count": 79,
   "metadata": {
    "ExecuteTime": {
     "end_time": "2023-08-05T07:51:16.740180Z",
     "start_time": "2023-08-05T07:51:16.729828Z"
    }
   },
   "outputs": [
    {
     "data": {
      "text/plain": [
       "<module 'pandas' from '/home/dkkoshman/YSDA/python3.10/lib/python3.10/site-packages/pandas/__init__.py'>"
      ]
     },
     "execution_count": 79,
     "metadata": {},
     "output_type": "execute_result"
    }
   ],
   "source": [
    "pd"
   ]
  },
  {
   "cell_type": "code",
   "execution_count": 155,
   "metadata": {
    "ExecuteTime": {
     "end_time": "2023-08-05T09:12:23.083170Z",
     "start_time": "2023-08-05T09:12:23.070573Z"
    },
    "execution": {
     "iopub.execute_input": "2023-08-01T07:36:28.733556Z",
     "iopub.status.busy": "2023-08-01T07:36:28.733183Z"
    }
   },
   "outputs": [],
   "source": [
    "import collections\n",
    "import contextlib\n",
    "import dataclasses\n",
    "import editdistance\n",
    "import einops\n",
    "import enum\n",
    "import functools\n",
    "import glob\n",
    "import IPython\n",
    "import imageio\n",
    "import itertools\n",
    "import json\n",
    "import matplotlib.pyplot as plt\n",
    "import mediapipe\n",
    "from mediapipe.framework.formats import landmark_pb2\n",
    "import numpy as np\n",
    "import os\n",
    "import pandas as pd\n",
    "import PIL\n",
    "import PIL.ImageDraw\n",
    "import pyarrow.parquet as pq\n",
    "import pytorch_lightning as pl\n",
    "import scipy\n",
    "import scipy.interpolate\n",
    "import sklearn.model_selection\n",
    "import sys\n",
    "import tempfile\n",
    "import time\n",
    "import torch\n",
    "import torch.nn as nn\n",
    "import tqdm.auto\n",
    "import typing as tp\n",
    "import wandb\n",
    "\n",
    "T = tp.TypeVar(\"T\")"
   ]
  },
  {
   "cell_type": "markdown",
   "metadata": {
    "execution": {
     "iopub.execute_input": "2023-07-15T08:10:38.873671Z",
     "iopub.status.busy": "2023-07-15T08:10:38.873288Z",
     "iopub.status.idle": "2023-07-15T08:10:38.881833Z",
     "shell.execute_reply": "2023-07-15T08:10:38.880630Z",
     "shell.execute_reply.started": "2023-07-15T08:10:38.873641Z"
    }
   },
   "source": [
    "## Config <span id=Config_></span>"
   ]
  },
  {
   "cell_type": "code",
   "execution_count": 269,
   "metadata": {
    "ExecuteTime": {
     "end_time": "2023-08-05T11:42:00.702767Z",
     "start_time": "2023-08-05T11:42:00.696726Z"
    }
   },
   "outputs": [],
   "source": [
    "@dataclasses.dataclass(kw_only=True)\n",
    "class Config:\n",
    "    competition: str = \"asl-fingerspelling\"\n",
    "    data_folder: str = \"data\"\n",
    "    debug: bool = True\n",
    "    download: bool = False\n",
    "    aggregated_meta_filename: str = \"aggregated_meta.parquet\"\n",
    "    aggregated_hand_filename: str = \"aggregated_hand.parquet\""
   ]
  },
  {
   "cell_type": "markdown",
   "metadata": {},
   "source": [
    "## Utils <span id=Utils_></span>"
   ]
  },
  {
   "cell_type": "code",
   "execution_count": 156,
   "metadata": {
    "ExecuteTime": {
     "end_time": "2023-08-05T09:12:25.212259Z",
     "start_time": "2023-08-05T09:12:25.160496Z"
    }
   },
   "outputs": [],
   "source": [
    "def make_new_markdown_section_with_link(section: str, header_size: int = 2):\n",
    "    header = \"#\" * header_size\n",
    "    section_id = section.replace(\" \", \"_\") + \"_\"\n",
    "    section_link = f\"{header} [{section}](#{section_id})\"\n",
    "    section_header = f\"{header} {section} <span id={section_id}></span>\"\n",
    "    return section_link, section_header\n",
    "\n",
    "\n",
    "def batched(iterable, n) -> tp.Generator[list, None, None]:\n",
    "    \"\"\"\n",
    "    Batch data into tuples of length n. The last batch may be shorter.\n",
    "\n",
    "    batched('ABCDEFG', 3) --> ABC DEF G\n",
    "    \"\"\"\n",
    "    if n < 1:\n",
    "        raise ValueError(\"n must be at least one.\")\n",
    "\n",
    "    it = iter(iterable)\n",
    "    while batch := list(itertools.islice(it, n)):\n",
    "        yield batch\n",
    "\n",
    "\n",
    "def write_gif(uri: str, images: np.ndarray, fps=30) -> None | bytes:\n",
    "    encoded_image = imageio.v3.imwrite(uri, images, loop=0, duration=len(images) / fps)\n",
    "    return encoded_image\n",
    "\n",
    "\n",
    "def display_video(video: np.ndarray):\n",
    "    with tempfile.NamedTemporaryFile(suffix=\".gif\") as gif:\n",
    "        filename = gif.name\n",
    "        write_gif(filename, video)\n",
    "        IPython.display.display(IPython.display.Image(filename))\n",
    "\n",
    "\n",
    "def pad_dim_to_size(\n",
    "    tensor: torch.Tensor,\n",
    "    target_size: int,\n",
    "    dim: int = 0,\n",
    "    value: float = 0.0,\n",
    "    truncate: bool = True,\n",
    ") -> torch.Tensor:\n",
    "    pad_size = max(0, target_size - tensor.shape[dim])\n",
    "    pad = [0] * 2 * tensor.ndim\n",
    "    pad[-(2 * dim + 1)] = pad_size\n",
    "    tensor = nn.functional.pad(tensor, pad=pad, value=value)\n",
    "    if truncate:\n",
    "        tensor = tensor.narrow(dim=dim, start=0, length=target_size)\n",
    "    return tensor\n",
    "\n",
    "\n",
    "@contextlib.contextmanager\n",
    "def timeit(name: str = \"\", file=sys.stderr):\n",
    "    begin = time.perf_counter()\n",
    "    yield\n",
    "    end = time.perf_counter()\n",
    "    name = name or name + \":\\t\"\n",
    "    delta_ms = 1000 * (end - begin)\n",
    "    print(f\"{name}{delta_ms:.3f} ms\", file=file)\n",
    "\n",
    "\n",
    "def set_tokenizers_parallelism(enable: bool):\n",
    "    os.environ[\"TOKENIZERS_PARALLELISM\"] = \"true\" if enable else \"false\"\n",
    "\n",
    "\n",
    "def set_torch_device_order_pci_bus():\n",
    "    os.environ[\"CUDA_DEVICE_ORDER\"] = \"PCI_BUS_ID\"\n",
    "\n",
    "\n",
    "def mkdir(path, error_if_exists=False):\n",
    "    !mkdir {\"-p\" if not error_if_exists else \"\"} {path}\n",
    "\n",
    "\n",
    "def unzip(zip_path, save_path=None, delete_zip=False):\n",
    "    !unzip {zip_path} {\"-d \"+ save_path if save_path else \"\"}\n",
    "    if delete_zip:\n",
    "        for path in glob.glob(zip_path):\n",
    "            if path.endswith(\".zip\"):\n",
    "                !trash {path}\n",
    "\n",
    "\n",
    "def kaggle_competitions_download_file(competition: str, filename: str, save_path: str):\n",
    "    relative_filename = os.path.join(save_path, filename)\n",
    "    save_path = os.path.join(save_path, os.path.split(filename)[0])\n",
    "    if os.path.exists(relative_filename):\n",
    "        print(f\"File `{relative_filename}` already exists.\")\n",
    "    else:\n",
    "        !kaggle competitions download {competition} -f {filename} -p {save_path}\n",
    "        zip_relative_filename = relative_filename + \".zip\"\n",
    "        if os.path.exists(zip_relative_filename):\n",
    "            unzip(zip_relative_filename, save_path=save_path, delete_zip=True)\n",
    "            \n",
    "\n",
    "def load_if_exists_else_build_and_save(\n",
    "    path: str, load: tp.Callable[[str], T], build_and_save: tp.Callable[[str], T]\n",
    ") -> T:\n",
    "    if os.path.exists(path):\n",
    "        print(f\"Reusing file {path}\", file=sys.stderr)\n",
    "        return load(path)\n",
    "    return build_and_save(path)"
   ]
  },
  {
   "cell_type": "markdown",
   "metadata": {
    "execution": {
     "iopub.execute_input": "2023-07-18T09:30:28.521682Z",
     "iopub.status.busy": "2023-07-18T09:30:28.521282Z",
     "iopub.status.idle": "2023-07-18T09:30:28.529496Z",
     "shell.execute_reply": "2023-07-18T09:30:28.528163Z",
     "shell.execute_reply.started": "2023-07-18T09:30:28.521651Z"
    }
   },
   "source": [
    "## Data <span id=Data_></span>"
   ]
  },
  {
   "cell_type": "code",
   "execution_count": 280,
   "metadata": {
    "ExecuteTime": {
     "end_time": "2023-08-05T11:58:49.441846Z",
     "start_time": "2023-08-05T11:58:49.423750Z"
    }
   },
   "outputs": [],
   "source": [
    "def get_default_data_folder() -> str:\n",
    "    return Config.data_folder\n",
    "\n",
    "def get_aggregated_meta_filename() -> str:\n",
    "    return Config.aggregated_meta_filename\n",
    "\n",
    "def get_aggregated_hand_filename() -> str:\n",
    "    return Config.aggregated_hand_filename\n",
    "\n",
    "\n",
    "def read_character_to_prediction_index(folder: str | None = None) -> dict[str, int]:\n",
    "    folder = folder or get_default_data_folder()\n",
    "    path = os.path.join(folder, \"character_to_prediction_index.json\")\n",
    "    character_to_prediction_index = json.load(open(path))\n",
    "    return character_to_prediction_index\n",
    "\n",
    "\n",
    "def read_meta_dataframe(\n",
    "    folder: str | None = None,\n",
    "    filename: tp.Literal[\"train.csv\", \"supplemental_metadata.csv\"] = \"train.csv\",\n",
    ") -> pd.DataFrame:\n",
    "    folder = folder or get_default_data_folder()\n",
    "    dataframe = pd.read_csv(os.path.join(folder, filename))\n",
    "    dataframe = dataframe.set_index(\"sequence_id\")\n",
    "    return dataframe\n",
    "\n",
    "\n",
    "def read_parquet_as_dataframe(\n",
    "    parquet_path: str,\n",
    "    folder: str | None = None,\n",
    "    columns: list[str] | None = None,\n",
    "    sequence_ids: list[int] | None = None,\n",
    ") -> pd.DataFrame:\n",
    "    folder = folder or get_default_data_folder()\n",
    "    if sequence_ids is None:\n",
    "        filters = None\n",
    "    else:\n",
    "        filters = [(\"sequence_id\", \"in\", sequence_ids)]\n",
    "    dataframe = pd.read_parquet(\n",
    "        path=os.path.join(folder, parquet_path),\n",
    "        columns=columns,\n",
    "        filters=filters,\n",
    "    )\n",
    "    return dataframe"
   ]
  },
  {
   "cell_type": "code",
   "execution_count": 9,
   "metadata": {
    "ExecuteTime": {
     "end_time": "2023-08-04T12:25:02.320706Z",
     "start_time": "2023-08-04T12:25:02.266404Z"
    }
   },
   "outputs": [],
   "source": [
    "class Coordinate(enum.Enum):\n",
    "    x = \"x\"\n",
    "    y = \"y\"\n",
    "    z = \"z\"\n",
    "\n",
    "\n",
    "class Bodypart(enum.Enum):\n",
    "    face = \"face\"\n",
    "    pose = \"pose\"\n",
    "    left_hand = \"left_hand\"\n",
    "    right_hand = \"right_hand\"\n",
    "\n",
    "    def __len__(self):\n",
    "        match self:\n",
    "            case Bodypart.face:\n",
    "                return 468\n",
    "            case Bodypart.pose:\n",
    "                return 33\n",
    "            case Bodypart.left_hand:\n",
    "                return 21\n",
    "            case Bodypart.right_hand:\n",
    "                return 21\n",
    "\n",
    "    def get_landmark_connections(self) -> frozenset[tuple[int, int]]:\n",
    "        \"\"\"Returns (parent, child) landmark graph edges.\"\"\"\n",
    "        match self:\n",
    "            case Bodypart.face:\n",
    "                return mediapipe.solutions.face_mesh_connections.FACEMESH_CONTOURS\n",
    "            case Bodypart.pose:\n",
    "                return mediapipe.solutions.pose_connections.POSE_CONNECTIONS\n",
    "            case Bodypart.left_hand:\n",
    "                return mediapipe.solutions.hands_connections.HAND_CONNECTIONS\n",
    "            case Bodypart.right_hand:\n",
    "                return mediapipe.solutions.hands_connections.HAND_CONNECTIONS\n",
    "\n",
    "    def get_drawing_style(self):\n",
    "        match self:\n",
    "            case Bodypart.face:\n",
    "                return (\n",
    "                    mediapipe.solutions.drawing_styles.get_default_face_mesh_tesselation_style()\n",
    "                )\n",
    "            case Bodypart.pose:\n",
    "                return (\n",
    "                    mediapipe.solutions.drawing_styles.get_default_pose_landmarks_style()\n",
    "                )\n",
    "            case Bodypart.left_hand:\n",
    "                return (\n",
    "                    mediapipe.solutions.drawing_styles.get_default_hand_landmarks_style()\n",
    "                )\n",
    "            case Bodypart.right_hand:\n",
    "                return (\n",
    "                    mediapipe.solutions.drawing_styles.get_default_hand_landmarks_style()\n",
    "                )\n",
    "\n",
    "\n",
    "def to_parquet_column_name(\n",
    "    coordinate: Coordinate, bodypart: Bodypart, landmark_id: int\n",
    ") -> str:\n",
    "    column_name = f\"{coordinate.name}_{bodypart.name}_{landmark_id}\"\n",
    "    return column_name\n",
    "\n",
    "\n",
    "def get_all_bodypart_columns(bodypart: Bodypart) -> list[str]:\n",
    "    \"\"\"\n",
    "    Returns list of columns associated with given bodypart sorted by landmark id,\n",
    "    then by coordinate name in alphabetical order: x -> y -> z.\n",
    "    \"\"\"\n",
    "    bodypart_columns = []\n",
    "    for landmark_id in range(len(bodypart)):\n",
    "        for coordinate in Coordinate:\n",
    "            column = to_parquet_column_name(\n",
    "                coordinate=coordinate,\n",
    "                bodypart=bodypart,\n",
    "                landmark_id=landmark_id,\n",
    "            )\n",
    "            bodypart_columns.append(column)\n",
    "    return bodypart_columns"
   ]
  },
  {
   "cell_type": "markdown",
   "metadata": {
    "ExecuteTime": {
     "end_time": "2023-08-01T09:35:15.637783Z",
     "start_time": "2023-08-01T09:35:15.627845Z"
    }
   },
   "source": [
    "## Download <span id=Download_></span>"
   ]
  },
  {
   "cell_type": "code",
   "execution_count": 23,
   "metadata": {
    "ExecuteTime": {
     "end_time": "2023-08-04T13:13:03.500093Z",
     "start_time": "2023-08-04T13:13:03.488799Z"
    }
   },
   "outputs": [],
   "source": [
    "def download_parquet_files(\n",
    "    parquet_files: list[str],\n",
    "    columns: list[str] | None = None,\n",
    "    competition=Config.competition,\n",
    "    save_path=Config.data_folder,\n",
    "):\n",
    "    for filename in parquet_files:\n",
    "        kaggle_competitions_download_file(\n",
    "            competition=competition,\n",
    "            filename=filename,\n",
    "            save_path=save_path,\n",
    "        )\n",
    "        df = read_parquet_as_dataframe(filename, columns=columns)\n",
    "        df.to_parquet(os.path.join(save_path, filename))"
   ]
  },
  {
   "cell_type": "code",
   "execution_count": 24,
   "metadata": {
    "ExecuteTime": {
     "end_time": "2023-08-04T13:13:03.697006Z",
     "start_time": "2023-08-04T13:13:03.686595Z"
    }
   },
   "outputs": [],
   "source": [
    "if Config.download:\n",
    "    mkdir(Config.data_folder)\n",
    "\n",
    "    for filename in [\n",
    "        \"character_to_prediction_index.json\",\n",
    "        \"train.csv\",\n",
    "        \"supplemental_metadata.csv\",\n",
    "    ]:\n",
    "        kaggle_competitions_download_file(\n",
    "            competition=Config.competition,\n",
    "            filename=filename,\n",
    "            save_path=Config.data_folder,\n",
    "        )\n",
    "\n",
    "    columns = (\n",
    "        [\"frame\"]\n",
    "        + get_all_bodypart_columns(Bodypart.right_hand)\n",
    "        + get_all_bodypart_columns(Bodypart.left_hand)\n",
    "    )\n",
    "    for meta_filename in [\"train.csv\", \"supplemental_metadata.csv\"]:\n",
    "        download_parquet_files(\n",
    "            parquet_files=read_meta_dataframe(filename=meta_filename)[\"path\"].unique(),\n",
    "            columns=columns,\n",
    "        )"
   ]
  },
  {
   "cell_type": "markdown",
   "metadata": {
    "execution": {
     "iopub.execute_input": "2023-07-30T14:10:52.190047Z",
     "iopub.status.busy": "2023-07-30T14:10:52.189607Z",
     "iopub.status.idle": "2023-07-30T14:10:52.198758Z",
     "shell.execute_reply": "2023-07-30T14:10:52.197484Z",
     "shell.execute_reply.started": "2023-07-30T14:10:52.190015Z"
    }
   },
   "source": [
    "## Preprocessing <span id=Preprocessing_></span>"
   ]
  },
  {
   "cell_type": "code",
   "execution_count": 25,
   "metadata": {
    "ExecuteTime": {
     "end_time": "2023-08-04T13:13:04.556473Z",
     "start_time": "2023-08-04T13:13:04.532092Z"
    }
   },
   "outputs": [],
   "source": [
    "# def normalizing_affine_transform(\n",
    "#     hand_sequence: torch.Tensor,\n",
    "#     origin_node: int = 0,\n",
    "#     first_basis_node: int = 5,\n",
    "#     first_second_basis_node: int = 17,\n",
    "# ) -> torch.Tensor:\n",
    "#     \"\"\"\n",
    "#     Scale, translate and rotate hand landmark sequence to transform\n",
    "#     origin_node into (0, 0, 0), first_basis_node into (1, 0, 0) and\n",
    "#     first_second_basis_node into (a, b, 0), where a**2 + b**2 = 1.\n",
    "#     \"\"\"\n",
    "#     basis_bone_length = (\n",
    "#         hand_sequence[:, [origin_node]] - hand_sequence[:, [first_basis_node]]\n",
    "#     ).norm(dim=-1, keepdim=True)\n",
    "#     hand_sequence /= basis_bone_length\n",
    "\n",
    "#     hand_sequence -= hand_sequence[:, [origin_node]]\n",
    "\n",
    "#     first_basis = hand_sequence[:, first_basis_node]\n",
    "#     x = hand_sequence[:, first_second_basis_node]\n",
    "#     second_basis = x - first_basis * (first_basis * x).sum(dim=-1, keepdim=True)\n",
    "#     second_basis /= second_basis.norm(dim=-1, keepdim=True)\n",
    "#     third_basis = torch.cross(first_basis, second_basis, dim=1)\n",
    "#     rotation = torch.inverse(\n",
    "#         torch.stack([first_basis, second_basis, third_basis], dim=1)\n",
    "#     )\n",
    "#     hand_sequence @= rotation\n",
    "\n",
    "#     assert torch.isclose(rotation.det(), torch.tensor(1.0), atol=1e-3).all(), (\n",
    "#         rotation,\n",
    "#         rotation.det(),\n",
    "#     )\n",
    "#     assert torch.isclose(hand_sequence[:, origin_node], torch.tensor(0.0)).all()\n",
    "#     assert torch.isclose(\n",
    "#         hand_sequence[:, first_basis_node].norm(dim=-1), torch.tensor(1.0)\n",
    "#     ).all()\n",
    "#     assert torch.isclose(\n",
    "#         hand_sequence[:, first_second_basis_node, -1], torch.tensor(0.0), atol=1e-6\n",
    "#     ).all(), hand_sequence[:, first_second_basis_node, -1]\n",
    "\n",
    "#     return hand_sequence\n",
    "\n",
    "\n",
    "# def hand_sequence_dataframe_normalizing_affine_transform(\n",
    "#     hand_sequence_df: pd.DataFrame,\n",
    "# ) -> pd.DataFrame:\n",
    "#     hand_sequence_df = hand_sequence_df.copy()\n",
    "#     notna_mask = hand_sequence_df.notna().all(axis=\"columns\")\n",
    "#     n_notna = notna_mask.sum()\n",
    "#     if not n_notna:\n",
    "#         return hand_sequence_df\n",
    "\n",
    "#     sequence = torch.tensor(hand_sequence_df[notna_mask].values).reshape(n_notna, -1, 3)\n",
    "#     sequence = normalizing_affine_transform(sequence)\n",
    "#     hand_sequence_df[notna_mask] = sequence.flatten(start_dim=1, end_dim=2).numpy()\n",
    "#     return hand_sequence_df"
   ]
  },
  {
   "cell_type": "code",
   "execution_count": 245,
   "metadata": {
    "ExecuteTime": {
     "end_time": "2023-08-05T11:16:19.626292Z",
     "start_time": "2023-08-05T11:16:19.605594Z"
    }
   },
   "outputs": [],
   "source": [
    "def get_mask_with_truncated_nan_rows(\n",
    "    dataframe: pd.DataFrame, max_inner_nan_span: int | None = None\n",
    ") -> pd.Series:\n",
    "    \"\"\"Drop leading and trailing nans and limit inner nan spans.\"\"\"\n",
    "    mask = pd.Series(data=False, index=dataframe.index)\n",
    "    if (first_valid_index := dataframe.first_valid_index()) is not None:\n",
    "        mask.loc[first_valid_index : dataframe.last_valid_index()] = True\n",
    "    mask &= dataframe.ffill(limit=max_inner_nan_span).notna().all(1)\n",
    "    return mask\n",
    "\n",
    "\n",
    "def compute_hand_landmarks_total_temporal_std(\n",
    "    hand_sequence_df: pd.DataFrame,\n",
    ") -> pd.Series:\n",
    "\n",
    "    hand_delta = hand_sequence_df.iloc[:, 1:] - hand_sequence_df.iloc[:, :-1].values\n",
    "    hand_std = hand_delta.groupby(\"sequence_id\").agg(np.nanstd).mean(axis=\"columns\")\n",
    "    hand_std = hand_std.fillna(0)\n",
    "    \n",
    "    hand_sequence_notna = hand_sequence_df.notna().all(axis=\"columns\")\n",
    "    n_not_na_frames = hand_sequence_notna.groupby(\"sequence_id\").sum()\n",
    "    \n",
    "    total_hand_std = n_not_na_frames * hand_std\n",
    "    return total_hand_std\n",
    "\n",
    "\n",
    "def estimate_right_handedness_probability(sequence_df: pd.DataFrame) -> pd.Series:\n",
    "    left_hand_total_std = compute_hand_landmarks_total_temporal_std(\n",
    "        sequence_df[get_all_bodypart_columns(Bodypart.left_hand)]\n",
    "    )\n",
    "    right_hand_total_std = compute_hand_landmarks_total_temporal_std(\n",
    "        sequence_df[get_all_bodypart_columns(Bodypart.right_hand)]\n",
    "    )\n",
    "    probability = 1 / (\n",
    "        1 + np.exp(-np.maximum(-100, right_hand_total_std - left_hand_total_std))\n",
    "    )\n",
    "    return probability"
   ]
  },
  {
   "cell_type": "code",
   "execution_count": 35,
   "metadata": {
    "ExecuteTime": {
     "end_time": "2023-08-04T13:26:41.654790Z",
     "start_time": "2023-08-04T13:26:41.626304Z"
    }
   },
   "outputs": [],
   "source": [
    "# def preprocess_sequence_dataframe(\n",
    "#     sequence_df: pd.DataFrame,\n",
    "#     max_inner_nan_span: int | None = None,\n",
    "#     target_len: int | None = None,\n",
    "# ) -> dict[str, torch.Tensor]:\n",
    "#     \"\"\"\n",
    "#     Truncate nans, determine dominant hand, mirror left handed sequences,\n",
    "#     linearly interpolate nans, pad to target length, return not nan mask.\n",
    "#     \"\"\"\n",
    "#     right_handedness_prob = estimate_right_handedness_probability(sequence_df)\n",
    "#     is_right_handed = right_handedness_prob.item() > 0.5\n",
    "\n",
    "#     bodypart = Bodypart.right_hand if is_right_handed else Bodypart.left_hand\n",
    "#     hand_columns = get_all_bodypart_columns(bodypart)\n",
    "\n",
    "#     sequence_df = sequence_df[\n",
    "#         get_mask_with_truncated_nan_rows(\n",
    "#             sequence_df[hand_columns], max_inner_nan_span=max_inner_nan_span\n",
    "#         )\n",
    "#     ]\n",
    "#     sequence = sequence_df[hand_columns]\n",
    "#     mask = torch.from_numpy(sequence.notna().all(axis=\"columns\").values)\n",
    "\n",
    "#     sequence = sequence.interpolate(method=\"linear\")\n",
    "#     sequence = torch.from_numpy(sequence.values)\n",
    "#     sequence = sequence.reshape(len(sequence_df), -1, 3)\n",
    "#     if not is_right_handed:\n",
    "#         sequence[:, :, 0] = 1 - sequence[:, :, 0]\n",
    "\n",
    "#     target_len = len(sequence) if target_len is None else target_len\n",
    "#     pad_size = max(0, target_len - len(sequence))\n",
    "#     sequence = pad_dim_to_size(sequence, target_size=target_len)\n",
    "\n",
    "#     frame_ids = torch.from_numpy(sequence_df[\"frame\"].values)\n",
    "\n",
    "#     return dict(\n",
    "#         sequence=sequence,\n",
    "#         frame_ids=pad_dim_to_size(frame_ids, target_size=target_len),\n",
    "#         is_flipped=not is_right_handed,\n",
    "#         mask=pad_dim_to_size(mask, target_size=target_len),\n",
    "#         size=len(sequence_df),\n",
    "#     )"
   ]
  },
  {
   "cell_type": "code",
   "execution_count": 375,
   "metadata": {
    "ExecuteTime": {
     "end_time": "2023-08-05T13:14:37.101936Z",
     "start_time": "2023-08-05T13:14:37.074171Z"
    }
   },
   "outputs": [],
   "source": [
    "def aggregate_meta_and_hand_data(\n",
    "    max_inner_nan_span:int = 3,\n",
    "    folder: str | None = None,\n",
    "    save:bool = False,\n",
    ") -> tuple[pd.DataFrame, pd.DataFrame]:\n",
    "    meta_dfs = []\n",
    "    for meta_filename, kind in zip([\"train.csv\", \"supplemental_metadata.csv\"], [\"train\", \"supplemental\"]):\n",
    "        df = read_meta_dataframe(filename=meta_filename, folder=folder)\n",
    "        df[\"kind\"] = kind\n",
    "        meta_dfs.append(df)\n",
    "    meta_df = pd.concat(meta_dfs)\n",
    "    \n",
    "    right_columns = get_all_bodypart_columns(Bodypart.right_hand)\n",
    "    left_columns = get_all_bodypart_columns(Bodypart.left_hand)\n",
    "    columns = [\"frame\"] + right_columns + left_columns\n",
    "    \n",
    "    hand_dfs = []\n",
    "    for parquet_path in meta_df[\"path\"].unique():\n",
    "        df = read_parquet_as_dataframe(parquet_path=parquet_path, folder=folder, columns=columns)\n",
    "        hand_dfs.append(df)\n",
    "    hand_df = pd.concat(hand_dfs)\n",
    "    \n",
    "    right_probability = estimate_right_handedness_probability(hand_df)\n",
    "    is_left_handed = right_probability < 0.5\n",
    "    meta_df[\"is_left_handed\"] = is_left_handed\n",
    "    meta_df[\"is_left_handed\"] = meta_df[\"is_left_handed\"].fillna(False).astype(bool)\n",
    "    hand_df.loc[is_left_handed, right_columns] = hand_df.loc[is_left_handed, left_columns].values\n",
    "    right_x_columns = right_columns[::3]\n",
    "    hand_df.loc[is_left_handed, right_x_columns] = (\n",
    "        1 - hand_df.loc[is_left_handed, right_x_columns]\n",
    "    ).values\n",
    "    hand_df = hand_df[[\"frame\"] + right_columns]\n",
    "    \n",
    "    hand_df = hand_df.sort_index(kind=\"stable\")\n",
    "    truncated_mask = hand_df.groupby(hand_df.index, group_keys=False).apply(\n",
    "        functools.partial(\n",
    "            get_mask_with_truncated_nan_rows, max_inner_nan_span=max_inner_nan_span\n",
    "        )\n",
    "    )\n",
    "    hand_df = hand_df.loc[truncated_mask.values]\n",
    "\n",
    "    hand_df[\"is_missing\"] = hand_df.isna().any(axis=1)\n",
    "    \n",
    "    meta_df[\"size\"] = hand_df.groupby(hand_df.index).size()\n",
    "    meta_df[\"size\"] = meta_df[\"size\"].fillna(0).astype(int)\n",
    "    meta_df[\"not_na_frames_per_letter\"] = (~hand_df[\"is_missing\"]).groupby(hand_df.index).sum() / meta_df[\"phrase\"].str.len()\n",
    "\n",
    "    hand_df = hand_df.interpolate(method=\"linear\")\n",
    "    \n",
    "    assert meta_df[\"is_left_handed\"].isna().sum() == 0\n",
    "    \n",
    "    if save:\n",
    "        folder = folder or get_default_data_folder()\n",
    "        meta_df.to_parquet(os.path.join(folder, get_aggregated_meta_filename()))\n",
    "        hand_df.to_parquet(os.path.join(folder, get_aggregated_hand_filename()))\n",
    "    \n",
    "    return meta_df, hand_df\n",
    "\n",
    "\n",
    "def read_aggregated_meta_dataframe(folder:str|None=None):\n",
    "    folder = folder or get_default_data_folder()\n",
    "    meta_df = pd.read_parquet(os.path.join(folder, get_aggregated_meta_filename()))\n",
    "    return meta_df\n",
    "\n",
    "def read_aggregated_hand_dataframe(folder:str|None=None):\n",
    "    folder = folder or get_default_data_folder() \n",
    "    hand_df = pd.read_parquet(os.path.join(folder, get_aggregated_hand_filename()))\n",
    "    return hand_df\n",
    "    \n",
    "    "
   ]
  },
  {
   "cell_type": "code",
   "execution_count": null,
   "metadata": {
    "ExecuteTime": {
     "start_time": "2023-08-05T13:14:42.423Z"
    }
   },
   "outputs": [],
   "source": [
    "if True:\n",
    "    aggregate_meta_and_hand_data(save=True)"
   ]
  },
  {
   "cell_type": "code",
   "execution_count": null,
   "metadata": {
    "ExecuteTime": {
     "start_time": "2023-08-05T13:14:45.867Z"
    }
   },
   "outputs": [],
   "source": [
    "read_aggregated_meta_dataframe()[\"is_left_handed\"].isna().sum()"
   ]
  },
  {
   "cell_type": "code",
   "execution_count": 361,
   "metadata": {
    "ExecuteTime": {
     "end_time": "2023-08-05T13:05:37.540095Z",
     "start_time": "2023-08-05T13:05:37.522270Z"
    }
   },
   "outputs": [],
   "source": [
    "class Dataset(torch.utils.data.Dataset):\n",
    "    def __init__(\n",
    "        self,\n",
    "        sequence_ids: list[int] | None = None,\n",
    "        target_sequence_size: int | None=None,\n",
    "        folder: str | None = None,\n",
    "    ):\n",
    "        self.target_sequence_size = target_sequence_size\n",
    "        self.meta_df = read_aggregated_meta_dataframe(folder)\n",
    "        self.hand_df = read_aggregated_hand_dataframe(folder)\n",
    "        if sequence_ids:\n",
    "            self.meta_df = self.meta_df.loc[sequence_ids]\n",
    "            self.hand_df = self.hand_df.loc[sequence_ids]\n",
    "\n",
    "    def __len__(self) -> int:\n",
    "        return len(self.meta_df)\n",
    "\n",
    "    def __getitem__(self, index: int) -> dict:\n",
    "        sequence_id = self.meta_df.index[index]\n",
    "        phrase, size = self.meta_df.loc[sequence_id][[\"phrase\", \"size\"]]\n",
    "        \n",
    "        sequence_df = self.hand_df.loc[sequence_id]\n",
    "        frames = torch.tensor(sequence_df[\"frame\"].values)\n",
    "        sequence = sequence_df[get_all_bodypart_columns(Bodypart.right_hand)]\n",
    "        sequence = torch.tensor(sequence.values).reshape(len(sequence), -1, 3)\n",
    "        is_missing = torch.tensor(sequence_df[\"is_missing\"].values)\n",
    "        \n",
    "        if self.target_sequence_size is not None:\n",
    "            sequence = pad_dim_to_size(sequence, target_size=self.target_sequence_size)\n",
    "            is_missing = pad_dim_to_size(is_missing, target_size=self.target_sequence_size, value=True)\n",
    "        \n",
    "        return dict(\n",
    "            sequence_id=sequence_id,\n",
    "            phrase=phrase,\n",
    "            size=size,\n",
    "            sequence = sequence,\n",
    "            is_missing=is_missing,\n",
    "        )"
   ]
  },
  {
   "cell_type": "code",
   "execution_count": 330,
   "metadata": {
    "ExecuteTime": {
     "end_time": "2023-08-05T12:50:13.218772Z",
     "start_time": "2023-08-05T12:50:10.422299Z"
    }
   },
   "outputs": [],
   "source": [
    "dl = torch.utils.data.DataLoader(Dataset(target_sequence_size=400), batch_size=16)"
   ]
  },
  {
   "cell_type": "code",
   "execution_count": 331,
   "metadata": {
    "ExecuteTime": {
     "end_time": "2023-08-05T12:50:13.377271Z",
     "start_time": "2023-08-05T12:50:13.224076Z"
    }
   },
   "outputs": [
    {
     "data": {
      "text/plain": [
       "(tensor([ 69, 107, 197,  83, 243, 147, 300, 163,  34, 386,  98, 410, 114, 127,\n",
       "         143,  51]),\n",
       " tensor([1816796431, 1816825349, 1816909464, 1816967051, 1817123330, 1817141095,\n",
       "         1817169529, 1817171518, 1817195757, 1817216847, 1817221592, 1817221621,\n",
       "         1817229827, 1817248431, 1817282569, 1817348598]))"
      ]
     },
     "execution_count": 331,
     "metadata": {},
     "output_type": "execute_result"
    }
   ],
   "source": [
    "next(iter(dl))[\"size\"], next(iter(dl))[\"sequence_id\"]"
   ]
  },
  {
   "cell_type": "markdown",
   "metadata": {
    "execution": {
     "iopub.execute_input": "2023-07-23T07:03:17.562166Z",
     "iopub.status.busy": "2023-07-23T07:03:17.561748Z",
     "iopub.status.idle": "2023-07-23T07:03:17.569501Z",
     "shell.execute_reply": "2023-07-23T07:03:17.568532Z",
     "shell.execute_reply.started": "2023-07-23T07:03:17.562135Z"
    }
   },
   "source": [
    "## Exploratory data analysis <span id=Exploratory_data_analysis_></span>"
   ]
  },
  {
   "cell_type": "code",
   "execution_count": null,
   "metadata": {},
   "outputs": [],
   "source": [
    "# @functools.cache\n",
    "# def build_augmented_meta_dataframe(\n",
    "#     meta_filename: tp.Literal[\"train.csv\", \"supplemental_metadata.csv\"] = \"train.csv\",\n",
    "#     folder: str | None = None,\n",
    "# ) -> pd.DataFrame:\n",
    "#     left_hand_columns = get_all_bodypart_columns(Bodypart.left_hand)\n",
    "#     right_hand_columns = get_all_bodypart_columns(Bodypart.right_hand)\n",
    "#     meta = read_meta_dataframe(folder, meta_filename)\n",
    "#     meta[\n",
    "#         [\"len\", \"left_hand_not_na\", \"right_hand_not_na\", \"right_handedness_prob\"]\n",
    "#     ] = None\n",
    "\n",
    "#     for parquet_path in tqdm.auto.tqdm(set(meta[\"path\"]), \"Reading landmark files\"):\n",
    "#         sequence_df = read_parquet_as_dataframe(\n",
    "#             folder=folder,\n",
    "#             parquet_path=parquet_path,\n",
    "#             columns=[\"frame\"] + left_hand_columns + right_hand_columns,\n",
    "#         )\n",
    "#         size = sequence_df.groupby(\"sequence_id\").size()\n",
    "#         meta.loc[size.index, \"len\"] = size.values\n",
    "\n",
    "#         left_hand_not_na = count_not_na_frames(sequence_df[left_hand_columns])\n",
    "#         meta.loc[left_hand_not_na.index, \"left_hand_not_na\"] = left_hand_not_na.values\n",
    "\n",
    "#         right_hand_not_na = count_not_na_frames(sequence_df[right_hand_columns])\n",
    "#         meta.loc[\n",
    "#             right_hand_not_na.index, \"right_hand_not_na\"\n",
    "#         ] = right_hand_not_na.values\n",
    "\n",
    "#         right_handedness_prob = estimate_right_handedness_probability(sequence_df)\n",
    "#         meta.loc[\n",
    "#             right_handedness_prob.index, \"right_handedness_prob\"\n",
    "#         ] = right_handedness_prob.values\n",
    "\n",
    "#     meta[\"not_na_frames_per_letter\"] = (\n",
    "#         meta[\"left_hand_not_na\"] + meta[\"right_hand_not_na\"]\n",
    "#     ) / meta[\"phrase\"].str.len()\n",
    "#     meta = meta.fillna(0)\n",
    "#     return meta"
   ]
  },
  {
   "cell_type": "code",
   "execution_count": 335,
   "metadata": {
    "ExecuteTime": {
     "end_time": "2023-08-05T12:53:23.680411Z",
     "start_time": "2023-08-05T12:53:23.653604Z"
    }
   },
   "outputs": [],
   "source": [
    "def build_normalized_landmark_lists(\n",
    "    sequence: np.ndarray,\n",
    "    bodypart: Bodypart = Bodypart.right_hand,\n",
    ") -> list[landmark_pb2.NormalizedLandmarkList]:\n",
    "    \"\"\"Build lists of mediapipe landmark lists for each frame for visualization purposes.\"\"\"\n",
    "    einops.parse_shape(sequence, \"frame landmark coordinate\")\n",
    "    normalized_landmark_lists = []\n",
    "    for frame in sequence:\n",
    "        frame_list = landmark_pb2.NormalizedLandmarkList()\n",
    "        for landmark in frame:\n",
    "            x, y, z = landmark\n",
    "            frame_list.landmark.add(x=x, y=y, z=z)\n",
    "        normalized_landmark_lists.append(frame_list)\n",
    "\n",
    "    return normalized_landmark_lists\n",
    "\n",
    "\n",
    "# def draw_sequence_landmarks_on_video(video:np.ndarray | None, sequence:np.ndarray) -> np.ndarray:\n",
    "#     if video is None:\n",
    "#         video = np.full(\n",
    "#             shape=[n_frames, width, height, n_channels],\n",
    "#             fill_value=background_color,\n",
    "#             dtype=np.uint8,\n",
    "#         )\n",
    "\n",
    "\n",
    "def draw_sequence_landmarks(\n",
    "    sequence: np.ndarray,\n",
    "    phrase: str,\n",
    "    bodypart: Bodypart = Bodypart.right_hand,\n",
    "    folder: str | None = None,\n",
    "    width: int = 300,\n",
    "    height: int = 300,\n",
    "    n_channels: int = 3,\n",
    "    background_color: tuple[int] = (0, 0, 0),\n",
    "    captions_color: tuple[int] = (256, 256, 256),\n",
    "    progress_bar_width: int = 10,\n",
    "    progress_bar_color: tuple[int] = (28, 242, 140),\n",
    ") -> np.ndarray:\n",
    "    landmarks = build_normalized_landmark_lists(sequence, bodypart)\n",
    "    n_frames = len(landmarks)\n",
    "    video = np.full(\n",
    "        shape=[n_frames, width, height, n_channels],\n",
    "        fill_value=background_color,\n",
    "        dtype=np.uint8,\n",
    "    )\n",
    "    caption = f\"{phrase}\\n{n_frames} frames\"\n",
    "    for image, image_landmarks, progress in zip(\n",
    "        video, landmarks, np.linspace(0, width, n_frames, dtype=int)\n",
    "    ):\n",
    "        mediapipe.solutions.drawing_utils.draw_landmarks(\n",
    "            image=image,\n",
    "            landmark_list=image_landmarks,\n",
    "            connections=bodypart.get_landmark_connections(),\n",
    "            landmark_drawing_spec=bodypart.get_drawing_style(),\n",
    "        )\n",
    "        pil_image = PIL.Image.fromarray(image)\n",
    "        PIL.ImageDraw.Draw(pil_image).text(\n",
    "            xy=(10, 10),\n",
    "            text=caption,\n",
    "            fill=captions_color,\n",
    "        )\n",
    "        image[:] = np.array(pil_image)\n",
    "        image[-progress_bar_width:, :progress] = progress_bar_color\n",
    "\n",
    "    return video\n",
    "\n",
    "\n",
    "def display_original_sequence(\n",
    "    sequence_id: int,\n",
    "    bodypart: Bodypart = Bodypart.right_hand,\n",
    "    folder: str | None = None,\n",
    "):\n",
    "    meta = read_aggregated_meta_dataframe(folder)\n",
    "    parquet_path, phrase = meta.loc[sequence_id][[\"path\", \"phrase\"]]\n",
    "    sequence_df = read_parquet_as_dataframe(\n",
    "        parquet_path=parquet_path,\n",
    "        sequence_ids=[sequence_id],\n",
    "        columns=get_all_bodypart_columns(bodypart),\n",
    "    )\n",
    "    sequence = sequence_df.values.reshape(len(sequence_df), -1, 3)\n",
    "    video = draw_sequence_landmarks(\n",
    "        sequence=sequence,\n",
    "        phrase=phrase,\n",
    "        bodypart=bodypart,\n",
    "        folder=folder,\n",
    "    )\n",
    "    display_video(video)"
   ]
  },
  {
   "cell_type": "code",
   "execution_count": 24,
   "metadata": {
    "ExecuteTime": {
     "end_time": "2023-08-01T13:54:25.306390Z",
     "start_time": "2023-08-01T13:54:25.275236Z"
    }
   },
   "outputs": [],
   "source": [
    "def normalizing_affine_transform_____(\n",
    "    hand_sequence: torch.Tensor,\n",
    "    origin_node: int = 0,\n",
    "    first_basis_node: int = 5,\n",
    "    first_second_basis_node: int = 17,\n",
    ") -> torch.Tensor:\n",
    "    \"\"\"\n",
    "    Scale, translate and rotate hand landmark sequence to transform\n",
    "    origin_node into (0, 0, 0), first_basis_node into (1, 0, 0) and\n",
    "    first_second_basis_node into (a, b, 0), where a**2 + b**2 = 1.\n",
    "    \"\"\"\n",
    "\n",
    "    basis_bone_length = (\n",
    "        hand_sequence[:, [origin_node]] - hand_sequence[:, [first_basis_node]]\n",
    "    ).norm(dim=-1, keepdim=True)\n",
    "    hand_sequence /= basis_bone_length\n",
    "\n",
    "    def scale(hand_sequence, ks):\n",
    "        for finger_base, k in zip([1, 5, 9, 13, 17], ks):\n",
    "            for i in range(3):\n",
    "                hand_sequence[:, finger_base + i + 1, 2] = hand_sequence[\n",
    "                    :, finger_base, 2\n",
    "                ] + k * (\n",
    "                    hand_sequence[:, finger_base + i + 1, 2]\n",
    "                    - hand_sequence[:, finger_base, 2]\n",
    "                )\n",
    "\n",
    "    def get_finger_length(hand_sequence, finger_base):\n",
    "        finger_length = 0\n",
    "        for i in range(3):\n",
    "            finger_length += (\n",
    "                hand_sequence[:, finger_base + i]\n",
    "                - hand_sequence[:, finger_base + i + 1]\n",
    "            ).norm(dim=-1)\n",
    "        return finger_length\n",
    "\n",
    "    def f(ks):\n",
    "        hs = hand_sequence.clone()\n",
    "        scale(hs, ks)\n",
    "\n",
    "        loss = 0\n",
    "        for finger_base, target_length in zip(\n",
    "            [1, 5, 9, 13, 17], [1.3, 0.1, 1.2, 1.1, 1.0]\n",
    "        ):  # [1.1, 0.95, 1.1, 1.0, 0.9]):\n",
    "            finger_length = get_finger_length(hs, finger_base)\n",
    "            loss += ((finger_length - target_length) ** 2).sum()\n",
    "        return loss\n",
    "\n",
    "    ks = torch.ones(5, len(hand_sequence), requires_grad=True)\n",
    "    for i in range(100):\n",
    "        loss = f(ks)\n",
    "        loss.backward()\n",
    "        with torch.no_grad():\n",
    "            ks -= ks.grad\n",
    "        ks.grad = None\n",
    "\n",
    "    #     print(get_finger_length(hand_sequence, 1))\n",
    "    scale(hand_sequence, ks)\n",
    "    #     print(\"After\\n\", get_finger_length(hand_sequence, 1))\n",
    "    hand_sequence = hand_sequence.detach()\n",
    "\n",
    "    hand_sequence -= hand_sequence[:, [origin_node]]\n",
    "\n",
    "    first_basis = hand_sequence[:, first_basis_node]\n",
    "    x = hand_sequence[:, first_second_basis_node]\n",
    "    second_basis = x - first_basis * (first_basis * x).sum(dim=-1, keepdim=True)\n",
    "    second_basis /= second_basis.norm(dim=-1, keepdim=True)\n",
    "    third_basis = torch.cross(first_basis, second_basis, dim=1)\n",
    "    rotation = torch.inverse(\n",
    "        torch.stack([first_basis, second_basis, third_basis], dim=1)\n",
    "    )\n",
    "    hand_sequence @= rotation\n",
    "\n",
    "    assert torch.isclose(rotation.det(), torch.tensor(1.0), atol=1e-3).all(), (\n",
    "        rotation,\n",
    "        rotation.det(),\n",
    "    )\n",
    "    assert torch.isclose(hand_sequence[:, origin_node], torch.tensor(0.0)).all()\n",
    "    assert torch.isclose(\n",
    "        hand_sequence[:, first_basis_node].norm(dim=-1), torch.tensor(1.0)\n",
    "    ).all()\n",
    "    assert torch.isclose(\n",
    "        hand_sequence[:, first_second_basis_node, -1], torch.tensor(0.0), atol=1e-6\n",
    "    ).all(), hand_sequence[:, first_second_basis_node, -1]\n",
    "\n",
    "    hand_sequence[:, :, 1] /= hand_sequence[:, [17], 1]\n",
    "    hand_sequence[:, :, 0] += hand_sequence[:, :, 1] * (0.6 - hand_sequence[:, [17], 0])\n",
    "    std = hand_sequence.std(dim=0)\n",
    "    low = hand_sequence.quantile(0.1, dim=0) - std / 2\n",
    "    high = hand_sequence.quantile(0.9, dim=0) + std / 2\n",
    "    hand_sequence = hand_sequence.clip(low, high)\n",
    "    hand_sequence[1:-1] = (\n",
    "        hand_sequence[2:] + hand_sequence[1:-1] + hand_sequence[:-2]\n",
    "    ) / 3\n",
    "    #     hand_sequence[2: -2] = (hand_sequence[4:] + hand_sequence[3:-1] + hand_sequence[2:-2] + hand_sequence[1:-3] + hand_sequence[:-4]) / 5\n",
    "\n",
    "    return hand_sequence"
   ]
  },
  {
   "cell_type": "code",
   "execution_count": 364,
   "metadata": {
    "ExecuteTime": {
     "end_time": "2023-08-05T13:06:10.867777Z",
     "start_time": "2023-08-05T13:06:10.842494Z"
    }
   },
   "outputs": [],
   "source": [
    "def display_eda(folder: str | None = None):\n",
    "    meta = read_aggregated_meta_dataframe(folder)\n",
    "    phrases = list(meta[\"phrase\"])\n",
    "\n",
    "    print(f\"{meta['participant_id'].nunique()} unique participants.\")\n",
    "    print(\n",
    "        \"\\nAlphabet:\\n\\t\" + \"\".join(read_character_to_prediction_index(folder).keys())\n",
    "    )\n",
    "    print(\"\\nShortest phrases:\\n\\t\" + \"\\n\\t\".join(sorted(set(phrases), key=len)[:5]))\n",
    "    print(\"\\nLongest phrases:\\n\\t\" + \"\\n\\t\".join(sorted(set(phrases), key=len)[-5:]))\n",
    "    print(\n",
    "        \"\\nMost common trigrams:\\n\\t\"\n",
    "        + \"\\n\\t\".join(\n",
    "            list(\n",
    "                zip(\n",
    "                    *collections.Counter(\n",
    "                        [p[i : i + 3] for p in phrases for i in range(len(p) - 2)]\n",
    "                    ).most_common(10)\n",
    "                )\n",
    "            )[0]\n",
    "        )\n",
    "    )\n",
    "\n",
    "    figure, axes = plt.subplots(ncols=2, figsize=(12, 4))\n",
    "\n",
    "    plt.sca(axes[0])\n",
    "    meta[\"participant_id\"].value_counts().plot(\n",
    "        kind=\"hist\",\n",
    "        title=f\"Sequence counts per participant\",\n",
    "        bins=20,\n",
    "        ax=axes[0],\n",
    "    )\n",
    "\n",
    "    plt.sca(axes[1])\n",
    "    plt.hist([len(p) for p in phrases], bins=30)\n",
    "    plt.title(\"Phrases length distribution\")\n",
    "    plt.xlabel(\"phrase length\")\n",
    "    plt.ylabel(\"frequency\")\n",
    "\n",
    "    plt.figure(figsize=(12, 4))\n",
    "    plt.bar(*zip(*collections.Counter(\"\".join(phrases)).most_common()), log=True)\n",
    "    plt.xlabel(\"letter\")\n",
    "    plt.ylabel(\"count\")\n",
    "    plt.title(\"Letter counts distribution in log scale\")\n",
    "\n",
    "    figure, axes = plt.subplots(nrows=3, ncols=2, figsize=(10, 12))\n",
    "\n",
    "    plt.sca(axes[0][0])\n",
    "    plt.hist(meta[\"len\"], bins=100)\n",
    "    plt.title(\"Sequence length distribution\")\n",
    "    plt.xlabel(\"sequence length\")\n",
    "    plt.ylabel(\"frequency\")\n",
    "\n",
    "    plt.sca(axes[0][1])\n",
    "    meta[\"not_na_frames_per_letter\"].plot(\n",
    "        title=\"Distribution of nonmissing frames per sequence letter\",\n",
    "        kind=\"hist\",\n",
    "        bins=100,\n",
    "    )\n",
    "    plt.xlabel(\"frames\")\n",
    "\n",
    "#     plt.sca(axes[1][0])\n",
    "#     (meta[\"right_hand_not_na\"] / meta[\"len\"]).plot(\n",
    "#         title=\"Distribution of fractions of nonmissing \\nright hand landmarks in sequences, log y scale\",\n",
    "#         kind=\"hist\",\n",
    "#         bins=100,\n",
    "#         logy=True,\n",
    "#     )\n",
    "\n",
    "#     plt.sca(axes[1][1])\n",
    "#     (meta[\"left_hand_not_na\"] / meta[\"len\"]).plot(\n",
    "#         title=\"Distribution of fractions of nonmissing \\nleft hand landmarks in sequences, log y scale\",\n",
    "#         kind=\"hist\",\n",
    "#         bins=100,\n",
    "#         logy=True,\n",
    "#     )\n",
    "\n",
    "    plt.sca(axes[2][0])\n",
    "    meta[\"is_left_handed\"].astype(int).plot(\n",
    "        title=\"Distribution of estimated left handedness\",\n",
    "        kind=\"hist\",\n",
    "    )\n",
    "\n",
    "    plt.tight_layout()\n",
    "\n",
    "    for sequence_id in meta.index[:3]:\n",
    "        display_original_sequence(sequence_id, folder=folder)"
   ]
  },
  {
   "cell_type": "code",
   "execution_count": 365,
   "metadata": {
    "ExecuteTime": {
     "end_time": "2023-08-05T13:06:13.706625Z",
     "start_time": "2023-08-05T13:06:11.034094Z"
    },
    "execution": {
     "iopub.execute_input": "2023-07-31T09:59:32.297898Z",
     "iopub.status.busy": "2023-07-31T09:59:32.297052Z",
     "iopub.status.idle": "2023-07-31T10:00:34.081081Z",
     "shell.execute_reply": "2023-07-31T10:00:34.079729Z",
     "shell.execute_reply.started": "2023-07-31T09:59:32.297870Z"
    },
    "scrolled": false
   },
   "outputs": [
    {
     "name": "stdout",
     "output_type": "stream",
     "text": [
      "117 unique participants.\n",
      "\n",
      "Alphabet:\n",
      "\t !#$%&'()*+,-./0123456789:;=?@[_abcdefghijklmnopqrstuvwxyz~\n",
      "\n",
      "Shortest phrases:\n",
      "\t2\n",
      "\tses\n",
      "\tdou\n",
      "\tjes\n",
      "\t304\n",
      "\n",
      "Longest phrases:\n",
      "\tnothing finer than discovering a treasure\n",
      "\trent is paid at the beginning of the month\n",
      "\temployee recruitment takes a lot of effort\n",
      "\tif you come home late the doors are locked\n",
      "\ta steep learning curve in riding a unicycle\n",
      "\n",
      "Most common trigrams:\n",
      "\tthe\n",
      "\the \n",
      "\t th\n",
      "\ting\n",
      "\tis \n",
      "\t to\n",
      "\tcom\n",
      "\t is\n",
      "\t a \n",
      "\tyou\n"
     ]
    },
    {
     "ename": "TypeError",
     "evalue": "int() argument must be a string, a bytes-like object or a real number, not 'NoneType'",
     "output_type": "error",
     "traceback": [
      "\u001b[0;31m---------------------------------------------------------------------------\u001b[0m",
      "\u001b[0;31mTypeError\u001b[0m                                 Traceback (most recent call last)",
      "Cell \u001b[0;32mIn[365], line 1\u001b[0m\n\u001b[0;32m----> 1\u001b[0m \u001b[43mdisplay_eda\u001b[49m\u001b[43m(\u001b[49m\u001b[43m)\u001b[49m\n",
      "Cell \u001b[0;32mIn[364], line 79\u001b[0m, in \u001b[0;36mdisplay_eda\u001b[0;34m(folder)\u001b[0m\n\u001b[1;32m     62\u001b[0m \u001b[38;5;66;03m#     plt.sca(axes[1][0])\u001b[39;00m\n\u001b[1;32m     63\u001b[0m \u001b[38;5;66;03m#     (meta[\"right_hand_not_na\"] / meta[\"len\"]).plot(\u001b[39;00m\n\u001b[1;32m     64\u001b[0m \u001b[38;5;66;03m#         title=\"Distribution of fractions of nonmissing \\nright hand landmarks in sequences, log y scale\",\u001b[39;00m\n\u001b[0;32m   (...)\u001b[0m\n\u001b[1;32m     75\u001b[0m \u001b[38;5;66;03m#         logy=True,\u001b[39;00m\n\u001b[1;32m     76\u001b[0m \u001b[38;5;66;03m#     )\u001b[39;00m\n\u001b[1;32m     78\u001b[0m     plt\u001b[38;5;241m.\u001b[39msca(axes[\u001b[38;5;241m2\u001b[39m][\u001b[38;5;241m0\u001b[39m])\n\u001b[0;32m---> 79\u001b[0m     \u001b[43mmeta\u001b[49m\u001b[43m[\u001b[49m\u001b[38;5;124;43m\"\u001b[39;49m\u001b[38;5;124;43mis_left_handed\u001b[39;49m\u001b[38;5;124;43m\"\u001b[39;49m\u001b[43m]\u001b[49m\u001b[38;5;241;43m.\u001b[39;49m\u001b[43mastype\u001b[49m\u001b[43m(\u001b[49m\u001b[38;5;28;43mint\u001b[39;49m\u001b[43m)\u001b[49m\u001b[38;5;241m.\u001b[39mplot(\n\u001b[1;32m     80\u001b[0m         title\u001b[38;5;241m=\u001b[39m\u001b[38;5;124m\"\u001b[39m\u001b[38;5;124mDistribution of estimated left handedness\u001b[39m\u001b[38;5;124m\"\u001b[39m,\n\u001b[1;32m     81\u001b[0m         kind\u001b[38;5;241m=\u001b[39m\u001b[38;5;124m\"\u001b[39m\u001b[38;5;124mhist\u001b[39m\u001b[38;5;124m\"\u001b[39m,\n\u001b[1;32m     82\u001b[0m     )\n\u001b[1;32m     84\u001b[0m     plt\u001b[38;5;241m.\u001b[39mtight_layout()\n\u001b[1;32m     86\u001b[0m     \u001b[38;5;28;01mfor\u001b[39;00m sequence_id \u001b[38;5;129;01min\u001b[39;00m meta\u001b[38;5;241m.\u001b[39mindex[:\u001b[38;5;241m3\u001b[39m]:\n",
      "File \u001b[0;32m~/YSDA/python3.10/lib/python3.10/site-packages/pandas/core/generic.py:6324\u001b[0m, in \u001b[0;36mNDFrame.astype\u001b[0;34m(self, dtype, copy, errors)\u001b[0m\n\u001b[1;32m   6317\u001b[0m     results \u001b[38;5;241m=\u001b[39m [\n\u001b[1;32m   6318\u001b[0m         \u001b[38;5;28mself\u001b[39m\u001b[38;5;241m.\u001b[39miloc[:, i]\u001b[38;5;241m.\u001b[39mastype(dtype, copy\u001b[38;5;241m=\u001b[39mcopy)\n\u001b[1;32m   6319\u001b[0m         \u001b[38;5;28;01mfor\u001b[39;00m i \u001b[38;5;129;01min\u001b[39;00m \u001b[38;5;28mrange\u001b[39m(\u001b[38;5;28mlen\u001b[39m(\u001b[38;5;28mself\u001b[39m\u001b[38;5;241m.\u001b[39mcolumns))\n\u001b[1;32m   6320\u001b[0m     ]\n\u001b[1;32m   6322\u001b[0m \u001b[38;5;28;01melse\u001b[39;00m:\n\u001b[1;32m   6323\u001b[0m     \u001b[38;5;66;03m# else, only a single dtype is given\u001b[39;00m\n\u001b[0;32m-> 6324\u001b[0m     new_data \u001b[38;5;241m=\u001b[39m \u001b[38;5;28;43mself\u001b[39;49m\u001b[38;5;241;43m.\u001b[39;49m\u001b[43m_mgr\u001b[49m\u001b[38;5;241;43m.\u001b[39;49m\u001b[43mastype\u001b[49m\u001b[43m(\u001b[49m\u001b[43mdtype\u001b[49m\u001b[38;5;241;43m=\u001b[39;49m\u001b[43mdtype\u001b[49m\u001b[43m,\u001b[49m\u001b[43m \u001b[49m\u001b[43mcopy\u001b[49m\u001b[38;5;241;43m=\u001b[39;49m\u001b[43mcopy\u001b[49m\u001b[43m,\u001b[49m\u001b[43m \u001b[49m\u001b[43merrors\u001b[49m\u001b[38;5;241;43m=\u001b[39;49m\u001b[43merrors\u001b[49m\u001b[43m)\u001b[49m\n\u001b[1;32m   6325\u001b[0m     \u001b[38;5;28;01mreturn\u001b[39;00m \u001b[38;5;28mself\u001b[39m\u001b[38;5;241m.\u001b[39m_constructor(new_data)\u001b[38;5;241m.\u001b[39m__finalize__(\u001b[38;5;28mself\u001b[39m, method\u001b[38;5;241m=\u001b[39m\u001b[38;5;124m\"\u001b[39m\u001b[38;5;124mastype\u001b[39m\u001b[38;5;124m\"\u001b[39m)\n\u001b[1;32m   6327\u001b[0m \u001b[38;5;66;03m# GH 33113: handle empty frame or series\u001b[39;00m\n",
      "File \u001b[0;32m~/YSDA/python3.10/lib/python3.10/site-packages/pandas/core/internals/managers.py:451\u001b[0m, in \u001b[0;36mBaseBlockManager.astype\u001b[0;34m(self, dtype, copy, errors)\u001b[0m\n\u001b[1;32m    448\u001b[0m \u001b[38;5;28;01melif\u001b[39;00m using_copy_on_write():\n\u001b[1;32m    449\u001b[0m     copy \u001b[38;5;241m=\u001b[39m \u001b[38;5;28;01mFalse\u001b[39;00m\n\u001b[0;32m--> 451\u001b[0m \u001b[38;5;28;01mreturn\u001b[39;00m \u001b[38;5;28;43mself\u001b[39;49m\u001b[38;5;241;43m.\u001b[39;49m\u001b[43mapply\u001b[49m\u001b[43m(\u001b[49m\n\u001b[1;32m    452\u001b[0m \u001b[43m    \u001b[49m\u001b[38;5;124;43m\"\u001b[39;49m\u001b[38;5;124;43mastype\u001b[39;49m\u001b[38;5;124;43m\"\u001b[39;49m\u001b[43m,\u001b[49m\n\u001b[1;32m    453\u001b[0m \u001b[43m    \u001b[49m\u001b[43mdtype\u001b[49m\u001b[38;5;241;43m=\u001b[39;49m\u001b[43mdtype\u001b[49m\u001b[43m,\u001b[49m\n\u001b[1;32m    454\u001b[0m \u001b[43m    \u001b[49m\u001b[43mcopy\u001b[49m\u001b[38;5;241;43m=\u001b[39;49m\u001b[43mcopy\u001b[49m\u001b[43m,\u001b[49m\n\u001b[1;32m    455\u001b[0m \u001b[43m    \u001b[49m\u001b[43merrors\u001b[49m\u001b[38;5;241;43m=\u001b[39;49m\u001b[43merrors\u001b[49m\u001b[43m,\u001b[49m\n\u001b[1;32m    456\u001b[0m \u001b[43m    \u001b[49m\u001b[43musing_cow\u001b[49m\u001b[38;5;241;43m=\u001b[39;49m\u001b[43musing_copy_on_write\u001b[49m\u001b[43m(\u001b[49m\u001b[43m)\u001b[49m\u001b[43m,\u001b[49m\n\u001b[1;32m    457\u001b[0m \u001b[43m\u001b[49m\u001b[43m)\u001b[49m\n",
      "File \u001b[0;32m~/YSDA/python3.10/lib/python3.10/site-packages/pandas/core/internals/managers.py:352\u001b[0m, in \u001b[0;36mBaseBlockManager.apply\u001b[0;34m(self, f, align_keys, **kwargs)\u001b[0m\n\u001b[1;32m    350\u001b[0m         applied \u001b[38;5;241m=\u001b[39m b\u001b[38;5;241m.\u001b[39mapply(f, \u001b[38;5;241m*\u001b[39m\u001b[38;5;241m*\u001b[39mkwargs)\n\u001b[1;32m    351\u001b[0m     \u001b[38;5;28;01melse\u001b[39;00m:\n\u001b[0;32m--> 352\u001b[0m         applied \u001b[38;5;241m=\u001b[39m \u001b[38;5;28;43mgetattr\u001b[39;49m\u001b[43m(\u001b[49m\u001b[43mb\u001b[49m\u001b[43m,\u001b[49m\u001b[43m \u001b[49m\u001b[43mf\u001b[49m\u001b[43m)\u001b[49m\u001b[43m(\u001b[49m\u001b[38;5;241;43m*\u001b[39;49m\u001b[38;5;241;43m*\u001b[39;49m\u001b[43mkwargs\u001b[49m\u001b[43m)\u001b[49m\n\u001b[1;32m    353\u001b[0m     result_blocks \u001b[38;5;241m=\u001b[39m extend_blocks(applied, result_blocks)\n\u001b[1;32m    355\u001b[0m out \u001b[38;5;241m=\u001b[39m \u001b[38;5;28mtype\u001b[39m(\u001b[38;5;28mself\u001b[39m)\u001b[38;5;241m.\u001b[39mfrom_blocks(result_blocks, \u001b[38;5;28mself\u001b[39m\u001b[38;5;241m.\u001b[39maxes)\n",
      "File \u001b[0;32m~/YSDA/python3.10/lib/python3.10/site-packages/pandas/core/internals/blocks.py:511\u001b[0m, in \u001b[0;36mBlock.astype\u001b[0;34m(self, dtype, copy, errors, using_cow)\u001b[0m\n\u001b[1;32m    491\u001b[0m \u001b[38;5;250m\u001b[39m\u001b[38;5;124;03m\"\"\"\u001b[39;00m\n\u001b[1;32m    492\u001b[0m \u001b[38;5;124;03mCoerce to the new dtype.\u001b[39;00m\n\u001b[1;32m    493\u001b[0m \n\u001b[0;32m   (...)\u001b[0m\n\u001b[1;32m    507\u001b[0m \u001b[38;5;124;03mBlock\u001b[39;00m\n\u001b[1;32m    508\u001b[0m \u001b[38;5;124;03m\"\"\"\u001b[39;00m\n\u001b[1;32m    509\u001b[0m values \u001b[38;5;241m=\u001b[39m \u001b[38;5;28mself\u001b[39m\u001b[38;5;241m.\u001b[39mvalues\n\u001b[0;32m--> 511\u001b[0m new_values \u001b[38;5;241m=\u001b[39m \u001b[43mastype_array_safe\u001b[49m\u001b[43m(\u001b[49m\u001b[43mvalues\u001b[49m\u001b[43m,\u001b[49m\u001b[43m \u001b[49m\u001b[43mdtype\u001b[49m\u001b[43m,\u001b[49m\u001b[43m \u001b[49m\u001b[43mcopy\u001b[49m\u001b[38;5;241;43m=\u001b[39;49m\u001b[43mcopy\u001b[49m\u001b[43m,\u001b[49m\u001b[43m \u001b[49m\u001b[43merrors\u001b[49m\u001b[38;5;241;43m=\u001b[39;49m\u001b[43merrors\u001b[49m\u001b[43m)\u001b[49m\n\u001b[1;32m    513\u001b[0m new_values \u001b[38;5;241m=\u001b[39m maybe_coerce_values(new_values)\n\u001b[1;32m    515\u001b[0m refs \u001b[38;5;241m=\u001b[39m \u001b[38;5;28;01mNone\u001b[39;00m\n",
      "File \u001b[0;32m~/YSDA/python3.10/lib/python3.10/site-packages/pandas/core/dtypes/astype.py:242\u001b[0m, in \u001b[0;36mastype_array_safe\u001b[0;34m(values, dtype, copy, errors)\u001b[0m\n\u001b[1;32m    239\u001b[0m     dtype \u001b[38;5;241m=\u001b[39m dtype\u001b[38;5;241m.\u001b[39mnumpy_dtype\n\u001b[1;32m    241\u001b[0m \u001b[38;5;28;01mtry\u001b[39;00m:\n\u001b[0;32m--> 242\u001b[0m     new_values \u001b[38;5;241m=\u001b[39m \u001b[43mastype_array\u001b[49m\u001b[43m(\u001b[49m\u001b[43mvalues\u001b[49m\u001b[43m,\u001b[49m\u001b[43m \u001b[49m\u001b[43mdtype\u001b[49m\u001b[43m,\u001b[49m\u001b[43m \u001b[49m\u001b[43mcopy\u001b[49m\u001b[38;5;241;43m=\u001b[39;49m\u001b[43mcopy\u001b[49m\u001b[43m)\u001b[49m\n\u001b[1;32m    243\u001b[0m \u001b[38;5;28;01mexcept\u001b[39;00m (\u001b[38;5;167;01mValueError\u001b[39;00m, \u001b[38;5;167;01mTypeError\u001b[39;00m):\n\u001b[1;32m    244\u001b[0m     \u001b[38;5;66;03m# e.g. _astype_nansafe can fail on object-dtype of strings\u001b[39;00m\n\u001b[1;32m    245\u001b[0m     \u001b[38;5;66;03m#  trying to convert to float\u001b[39;00m\n\u001b[1;32m    246\u001b[0m     \u001b[38;5;28;01mif\u001b[39;00m errors \u001b[38;5;241m==\u001b[39m \u001b[38;5;124m\"\u001b[39m\u001b[38;5;124mignore\u001b[39m\u001b[38;5;124m\"\u001b[39m:\n",
      "File \u001b[0;32m~/YSDA/python3.10/lib/python3.10/site-packages/pandas/core/dtypes/astype.py:187\u001b[0m, in \u001b[0;36mastype_array\u001b[0;34m(values, dtype, copy)\u001b[0m\n\u001b[1;32m    184\u001b[0m     values \u001b[38;5;241m=\u001b[39m values\u001b[38;5;241m.\u001b[39mastype(dtype, copy\u001b[38;5;241m=\u001b[39mcopy)\n\u001b[1;32m    186\u001b[0m \u001b[38;5;28;01melse\u001b[39;00m:\n\u001b[0;32m--> 187\u001b[0m     values \u001b[38;5;241m=\u001b[39m \u001b[43m_astype_nansafe\u001b[49m\u001b[43m(\u001b[49m\u001b[43mvalues\u001b[49m\u001b[43m,\u001b[49m\u001b[43m \u001b[49m\u001b[43mdtype\u001b[49m\u001b[43m,\u001b[49m\u001b[43m \u001b[49m\u001b[43mcopy\u001b[49m\u001b[38;5;241;43m=\u001b[39;49m\u001b[43mcopy\u001b[49m\u001b[43m)\u001b[49m\n\u001b[1;32m    189\u001b[0m \u001b[38;5;66;03m# in pandas we don't store numpy str dtypes, so convert to object\u001b[39;00m\n\u001b[1;32m    190\u001b[0m \u001b[38;5;28;01mif\u001b[39;00m \u001b[38;5;28misinstance\u001b[39m(dtype, np\u001b[38;5;241m.\u001b[39mdtype) \u001b[38;5;129;01mand\u001b[39;00m \u001b[38;5;28missubclass\u001b[39m(values\u001b[38;5;241m.\u001b[39mdtype\u001b[38;5;241m.\u001b[39mtype, \u001b[38;5;28mstr\u001b[39m):\n",
      "File \u001b[0;32m~/YSDA/python3.10/lib/python3.10/site-packages/pandas/core/dtypes/astype.py:138\u001b[0m, in \u001b[0;36m_astype_nansafe\u001b[0;34m(arr, dtype, copy, skipna)\u001b[0m\n\u001b[1;32m    134\u001b[0m     \u001b[38;5;28;01mraise\u001b[39;00m \u001b[38;5;167;01mValueError\u001b[39;00m(msg)\n\u001b[1;32m    136\u001b[0m \u001b[38;5;28;01mif\u001b[39;00m copy \u001b[38;5;129;01mor\u001b[39;00m is_object_dtype(arr\u001b[38;5;241m.\u001b[39mdtype) \u001b[38;5;129;01mor\u001b[39;00m is_object_dtype(dtype):\n\u001b[1;32m    137\u001b[0m     \u001b[38;5;66;03m# Explicit copy, or required since NumPy can't view from / to object.\u001b[39;00m\n\u001b[0;32m--> 138\u001b[0m     \u001b[38;5;28;01mreturn\u001b[39;00m \u001b[43marr\u001b[49m\u001b[38;5;241;43m.\u001b[39;49m\u001b[43mastype\u001b[49m\u001b[43m(\u001b[49m\u001b[43mdtype\u001b[49m\u001b[43m,\u001b[49m\u001b[43m \u001b[49m\u001b[43mcopy\u001b[49m\u001b[38;5;241;43m=\u001b[39;49m\u001b[38;5;28;43;01mTrue\u001b[39;49;00m\u001b[43m)\u001b[49m\n\u001b[1;32m    140\u001b[0m \u001b[38;5;28;01mreturn\u001b[39;00m arr\u001b[38;5;241m.\u001b[39mastype(dtype, copy\u001b[38;5;241m=\u001b[39mcopy)\n",
      "\u001b[0;31mTypeError\u001b[0m: int() argument must be a string, a bytes-like object or a real number, not 'NoneType'"
     ]
    },
    {
     "data": {
      "image/png": "[encoded data removed]",
      "text/plain": [
       "<Figure size 1200x400 with 2 Axes>"
      ]
     },
     "metadata": {},
     "output_type": "display_data"
    },
    {
     "data": {
      "image/png": "[encoded data removed]",
      "text/plain": [
       "<Figure size 1200x400 with 1 Axes>"
      ]
     },
     "metadata": {},
     "output_type": "display_data"
    },
    {
     "data": {
      "image/png": "[encoded data removed]",
      "text/plain": [
       "<Figure size 1000x1200 with 6 Axes>"
      ]
     },
     "metadata": {},
     "output_type": "display_data"
    }
   ],
   "source": [
    "display_eda()"
   ]
  },
  {
   "cell_type": "code",
   "execution_count": 1,
   "metadata": {
    "ExecuteTime": {
     "end_time": "2023-08-04T10:22:37.654213Z",
     "start_time": "2023-08-04T10:22:37.648064Z"
    }
   },
   "outputs": [],
   "source": [
    "df = aggregate_parquet_dataframes()\n",
    "\n",
    "\n",
    "train = read_meta_dataframe()\n",
    "sequence_id = list(train.index)[6]\n",
    "parquet_path = train.loc[sequence_id][\"path\"]\n",
    "sequence_df = read_parquet_as_dataframe(\n",
    "    parquet_path=parquet_path,\n",
    "    sequence_ids=[sequence_id],\n",
    "    columns=[\"frame\"]\n",
    "    + get_all_bodypart_columns(Bodypart.right_hand)\n",
    "    + get_all_bodypart_columns(Bodypart.left_hand),\n",
    ")\n",
    "sequence_dict = preprocess_sequence_dataframe(sequence_df, max_inner_nan_span=3)\n",
    "sequence = sequence_dict[\"sequence\"]\n",
    "\n",
    "# video = draw_sequence_landmarks(\n",
    "#     sequence=sequence.numpy(),\n",
    "#     sequence_id=sequence_id,\n",
    "#     bodypart=Bodypart.right_hand,\n",
    "# )\n",
    "# display_video(video)\n",
    "\n",
    "sequence = normalizing_affine_transform(sequence)\n",
    "sequence /= 5\n",
    "sequence[:, :, 0] += 0.5\n",
    "sequence[:, :, 1] += 0.5\n",
    "\n",
    "video = draw_sequence_landmarks(\n",
    "    sequence=sequence.numpy(),\n",
    "    sequence_id=sequence_id,\n",
    "    bodypart=Bodypart.right_hand,\n",
    ")\n",
    "display_video(video)\n",
    "\n",
    "\n",
    "# sequence[:, :, 2] *=2\n",
    "a = (\n",
    "    (sequence[:, 5] - sequence[:, 6]).norm(dim=-1)\n",
    "    + (sequence[:, 6] - sequence[:, 7]).norm(dim=-1)\n",
    "    + (sequence[:, 8] - sequence[:, 9]).norm(dim=-1)\n",
    ")\n",
    "b = (\n",
    "    (sequence[:, 9] - sequence[:, 10]).norm(dim=-1)\n",
    "    + (sequence[:, 10] - sequence[:, 11]).norm(dim=-1)\n",
    "    + (sequence[:, 11] - sequence[:, 12]).norm(dim=-1)\n",
    ")\n",
    "plt.plot(a / b)\n",
    "\n",
    "torch.quantile(sequence[:, 8], 0.5, dim=0), torch.std(sequence[:, 8])\n",
    "\n",
    "plt.plot([:, 8, 0])\n",
    "plt.axhline(0.6280)\n",
    "plt.axhline(0.9720)"
   ]
  },
  {
   "cell_type": "code",
   "execution_count": 197,
   "metadata": {
    "ExecuteTime": {
     "end_time": "2023-08-02T09:59:13.340252Z",
     "start_time": "2023-08-02T09:59:13.179815Z"
    }
   },
   "outputs": [],
   "source": [
    "meta_filename = \"supplemental_metadata.csv\"\n",
    "sequence_df = read_parquet_as_dataframe(\n",
    "    \"supplemental_landmarks/33432165.parquet\",\n",
    ")\n",
    "sequence_df = sequence_df[get_all_bodypart_columns(Bodypart.right_hand)].dropna()"
   ]
  },
  {
   "cell_type": "code",
   "execution_count": 223,
   "metadata": {
    "ExecuteTime": {
     "end_time": "2023-08-02T10:05:04.183290Z",
     "start_time": "2023-08-02T10:05:04.175378Z"
    }
   },
   "outputs": [],
   "source": [
    "sequence_id = 1535467051\n",
    "df = sequence_df.loc[sequence_id]\n",
    "sequence = torch.tensor(df.values.reshape(-1, 21, 3))"
   ]
  },
  {
   "cell_type": "code",
   "execution_count": 209,
   "metadata": {
    "ExecuteTime": {
     "end_time": "2023-08-02T10:00:18.125130Z",
     "start_time": "2023-08-02T10:00:18.111010Z"
    }
   },
   "outputs": [],
   "source": [
    "def get_normalizing_3d_rotation(\n",
    "    point_to_put_on_x_axis: torch.Tensor,\n",
    "    point_to_put_in_positive_y_half_plane: torch.Tensor,\n",
    ") -> torch.Tensor:\n",
    "    first_basis = normalize(point_to_put_on_x_axis)\n",
    "    second_basis = normalize(\n",
    "        point_to_put_in_positive_y_half_plane\n",
    "        - first_basis\n",
    "        * (first_basis * point_to_put_in_positive_y_half_plane).sum(\n",
    "            dim=-1, keepdim=True\n",
    "        )\n",
    "    )\n",
    "    third_basis = torch.cross(first_basis, second_basis, dim=1)\n",
    "\n",
    "    rotation = torch.inverse(\n",
    "        torch.stack([first_basis, second_basis, third_basis], dim=1)\n",
    "    )\n",
    "    return rotation"
   ]
  },
  {
   "cell_type": "code",
   "execution_count": 367,
   "metadata": {
    "ExecuteTime": {
     "end_time": "2023-08-02T10:31:45.316224Z",
     "start_time": "2023-08-02T10:31:45.288456Z"
    }
   },
   "outputs": [],
   "source": [
    "class Finger(nn.Module):\n",
    "    def __init__(self, sequence):\n",
    "        super().__init__()\n",
    "\n",
    "        self.n_frames = len(sequence)\n",
    "        self.first_edge = torch.tensor(21.7)\n",
    "        self.second_edge = nn.Parameter(torch.tensor(31.5))\n",
    "        self.third_edge = nn.Parameter(torch.tensor(46.2))\n",
    "\n",
    "        self.scale = nn.Parameter(\n",
    "            (sequence[:, 2] - sequence[:, 1]).norm(dim=-1) / self.first_edge\n",
    "        ).reshape(-1, 1, 1)\n",
    "\n",
    "        self.first_node = nn.Parameter(sequence[:, [1]])\n",
    "\n",
    "        self.first_edge_direction = nn.Parameter(sequence[:, 2] - sequence[:, 1])\n",
    "        self.second_edge_direction = nn.Parameter(sequence[:, 4] - sequence[:, 1])\n",
    "\n",
    "        f = normalize(sequence[:, 2] - sequence[:, 1])\n",
    "        s = normalize(sequence[:, 3] - sequence[:, 2])\n",
    "        t = normalize(sequence[:, 4] - sequence[:, 3])\n",
    "\n",
    "        #         r1 = get_normalizing_3d_rotation(sequence[:, 2] - sequence[:, 1], sequence[:, 3] - sequence[:, 1])\n",
    "        #         r2 = get_normalizing_3d_rotation(sequence[:, 2] - sequence[:, 1], sequence[:, 4] - sequence[:, 1])\n",
    "        #         print((r1 - r2).norm(dim=[-2, -1]))\n",
    "\n",
    "        self.first_joint_angle = nn.Parameter(torch.arccos((f * s).sum(dim=-1)))\n",
    "        self.second_joint_angle = nn.Parameter(torch.arccos((s * t).sum(dim=-1)))\n",
    "\n",
    "    def forward(self):\n",
    "        rotation = get_normalizing_3d_rotation(\n",
    "            self.first_edge_direction, self.second_edge_direction\n",
    "        )\n",
    "        inverse_rotation = torch.inverse(rotation)\n",
    "\n",
    "        first_joint_angle = torch.clamp(\n",
    "            self.first_joint_angle, min=-torch.pi / 2, max=3 * torch.pi / 4\n",
    "        )\n",
    "        second_joint_angle = torch.clamp(\n",
    "            self.second_joint_angle, min=-torch.pi / 2, max=3 * torch.pi / 4\n",
    "        )\n",
    "\n",
    "        sequence = torch.zeros(self.n_frames, 4, 3)\n",
    "        sequence[:, 1, 0] = self.first_edge\n",
    "        sequence[:, 2, 0] = (\n",
    "            sequence[:, 1, 0] + torch.cos(first_joint_angle) * self.second_edge\n",
    "        )\n",
    "        sequence[:, 2, 1] = torch.sin(first_joint_angle) * self.second_edge\n",
    "        sequence[:, 3, 0] = (\n",
    "            sequence[:, 2, 0]\n",
    "            + torch.cos(first_joint_angle + second_joint_angle) * self.third_edge\n",
    "        )\n",
    "        sequence[:, 3, 1] = (\n",
    "            sequence[:, 2, 1]\n",
    "            + torch.sin(first_joint_angle + second_joint_angle) * self.third_edge\n",
    "        )\n",
    "\n",
    "        sequence @= inverse_rotation\n",
    "        sequence *= self.scale\n",
    "        sequence += self.first_node\n",
    "\n",
    "        assert (\n",
    "            (sequence[:, 0] - sequence[:, 1]).norm(dim=-1) / self.scale.flatten()\n",
    "        ).std() < 1e-3, \"First edge length isn't invariant.\"\n",
    "        assert (\n",
    "            (sequence[:, 1] - sequence[:, 2]).norm(dim=-1) / self.scale.flatten()\n",
    "        ).std() < 1e-3, \"Second edge length isn't invariant.\"\n",
    "        assert (\n",
    "            (sequence[:, 2] - sequence[:, 3]).norm(dim=-1) / self.scale.flatten()\n",
    "        ).std() < 1e-3, \"Third edge length isn't invariant.\"\n",
    "        assert torch.isclose(\n",
    "            0,\n",
    "            (\n",
    "                torch.cross(\n",
    "                    sequence[:, 1] - sequence[:, 0],\n",
    "                    sequence[:, 2] - sequence[:, 0],\n",
    "                    dim=-1,\n",
    "                )\n",
    "                * (sequence[:, 3] - sequence[:, 0])\n",
    "            ).sum(dim=-1),\n",
    "        ).all(), \"Edges aren't in one plane.\"\n",
    "\n",
    "        return sequence"
   ]
  },
  {
   "cell_type": "code",
   "execution_count": 368,
   "metadata": {
    "ExecuteTime": {
     "end_time": "2023-08-02T10:31:48.497243Z",
     "start_time": "2023-08-02T10:31:45.502918Z"
    }
   },
   "outputs": [],
   "source": [
    "finger = Finger(sequence)\n",
    "sec = []\n",
    "thi = []\n",
    "ang = []\n",
    "# optimizer = torch.optim.SGD(params=finger.parameters(), lr=1e-1, momentum=0.1)\n",
    "optimizer = torch.optim.Adam(params=finger.parameters(), lr=1e-2)\n",
    "for _ in range(1000):\n",
    "    sec.append(finger.second_edge.item())\n",
    "    thi.append(finger.third_edge.item())\n",
    "    ang.append(finger.first_joint_angle[0].item())\n",
    "\n",
    "    optimizer.zero_grad()\n",
    "    pred_sequence = finger()\n",
    "    true_sequence = sequence[:, [1, 2, 3, 4]]\n",
    "    loss = (((pred_sequence - true_sequence)[:, :, [0, 1]]) ** 2).sum()\n",
    "    loss.backward()\n",
    "    optimizer.step()"
   ]
  },
  {
   "cell_type": "code",
   "execution_count": 342,
   "metadata": {
    "ExecuteTime": {
     "end_time": "2023-08-02T10:26:31.267782Z",
     "start_time": "2023-08-02T10:26:31.119254Z"
    }
   },
   "outputs": [
    {
     "data": {
      "text/plain": [
       "[<matplotlib.lines.Line2D at 0x7f52774fab60>]"
      ]
     },
     "execution_count": 342,
     "metadata": {},
     "output_type": "execute_result"
    },
    {
     "data": {
      "image/png": "[encoded data removed]",
      "text/plain": [
       "<Figure size 640x480 with 1 Axes>"
      ]
     },
     "metadata": {},
     "output_type": "display_data"
    }
   ],
   "source": [
    "plt.plot(sec)\n",
    "plt.plot(thi)"
   ]
  },
  {
   "cell_type": "code",
   "execution_count": 343,
   "metadata": {
    "ExecuteTime": {
     "end_time": "2023-08-02T10:26:32.831862Z",
     "start_time": "2023-08-02T10:26:32.653008Z"
    }
   },
   "outputs": [
    {
     "data": {
      "text/plain": [
       "[<matplotlib.lines.Line2D at 0x7f52773e87f0>]"
      ]
     },
     "execution_count": 343,
     "metadata": {},
     "output_type": "execute_result"
    },
    {
     "data": {
      "image/png": "[encoded data removed]",
      "text/plain": [
       "<Figure size 640x480 with 1 Axes>"
      ]
     },
     "metadata": {},
     "output_type": "display_data"
    }
   ],
   "source": [
    "plt.plot(ang)"
   ]
  },
  {
   "cell_type": "code",
   "execution_count": 344,
   "metadata": {
    "ExecuteTime": {
     "end_time": "2023-08-02T10:26:35.429315Z",
     "start_time": "2023-08-02T10:26:35.283709Z"
    }
   },
   "outputs": [
    {
     "data": {
      "text/plain": [
       "[<matplotlib.lines.Line2D at 0x7f52774337f0>]"
      ]
     },
     "execution_count": 344,
     "metadata": {},
     "output_type": "execute_result"
    },
    {
     "data": {
      "image/png": "[encoded data removed]",
      "text/plain": [
       "<Figure size 640x480 with 1 Axes>"
      ]
     },
     "metadata": {},
     "output_type": "display_data"
    }
   ],
   "source": [
    "plt.plot(finger.scale.flatten().detach().numpy())"
   ]
  },
  {
   "cell_type": "code",
   "execution_count": 346,
   "metadata": {
    "ExecuteTime": {
     "end_time": "2023-08-02T10:26:38.976121Z",
     "start_time": "2023-08-02T10:26:38.700380Z"
    }
   },
   "outputs": [
    {
     "data": {
      "image/gif": "[encoded data removed]",
      "text/plain": [
       "<IPython.core.display.Image object>"
      ]
     },
     "metadata": {},
     "output_type": "display_data"
    }
   ],
   "source": [
    "s = sequence.clone()\n",
    "s[:, [1, 2, 3, 4]] = finger()\n",
    "display_video(\n",
    "    draw_sequence_landmarks(\n",
    "        sequence_id=sequence_id,\n",
    "        sequence=s.detach().numpy(),\n",
    "        meta_filename=meta_filename,\n",
    "    )\n",
    ")"
   ]
  },
  {
   "cell_type": "code",
   "execution_count": 235,
   "metadata": {
    "ExecuteTime": {
     "end_time": "2023-08-02T10:07:12.570173Z",
     "start_time": "2023-08-02T10:07:12.288223Z"
    }
   },
   "outputs": [
    {
     "data": {
      "image/gif": "[encoded data removed]",
      "text/plain": [
       "<IPython.core.display.Image object>"
      ]
     },
     "metadata": {},
     "output_type": "display_data"
    }
   ],
   "source": [
    "display_video(\n",
    "    draw_sequence_landmarks(\n",
    "        sequence_id=sequence_id,\n",
    "        sequence=sequence.detach().numpy(),\n",
    "        meta_filename=meta_filename,\n",
    "    )\n",
    ")"
   ]
  },
  {
   "cell_type": "markdown",
   "metadata": {
    "execution": {
     "iopub.execute_input": "2023-07-30T14:22:32.736152Z",
     "iopub.status.busy": "2023-07-30T14:22:32.735675Z",
     "iopub.status.idle": "2023-07-30T14:22:32.744989Z",
     "shell.execute_reply": "2023-07-30T14:22:32.743324Z",
     "shell.execute_reply.started": "2023-07-30T14:22:32.736119Z"
    }
   },
   "source": [
    "## Metrics <span id=Metrics_></span>"
   ]
  },
  {
   "cell_type": "code",
   "execution_count": null,
   "metadata": {},
   "outputs": [],
   "source": [
    "def get_edit_distance(first: str, second: str) -> int:\n",
    "    edit_distance = editdistance.distance(first, second)\n",
    "    return edit_distance"
   ]
  },
  {
   "cell_type": "markdown",
   "metadata": {
    "ExecuteTime": {
     "end_time": "2023-08-01T13:59:46.214317Z",
     "start_time": "2023-08-01T13:59:46.204519Z"
    }
   },
   "source": [
    "## Hand model <span id=Hand_model_></span>"
   ]
  },
  {
   "cell_type": "markdown",
   "metadata": {},
   "source": [
    "<div style=\"text-align: center;\">\n",
    "  <img src=\"media/hand-landmarks-with-bone-lengths.png\" width=\"500\">\n",
    "</div>"
   ]
  },
  {
   "cell_type": "code",
   "execution_count": null,
   "metadata": {},
   "outputs": [],
   "source": [
    "# 0, 5, 9, 13, 17 in one plane, 1 is elevated z = 15"
   ]
  },
  {
   "cell_type": "code",
   "execution_count": 49,
   "metadata": {
    "ExecuteTime": {
     "end_time": "2023-08-01T17:06:18.077720Z",
     "start_time": "2023-08-01T17:06:18.068743Z"
    }
   },
   "outputs": [
    {
     "data": {
      "text/plain": [
       "(0.7053571428571429, 0.6615969581749048, 0.6784313725490196)"
      ]
     },
     "execution_count": 49,
     "metadata": {},
     "output_type": "execute_result"
    }
   ],
   "source": [
    "15.8 / 22.4, 17.4 / 26.3, 17.3 / 25.5"
   ]
  },
  {
   "cell_type": "code",
   "execution_count": 70,
   "metadata": {
    "ExecuteTime": {
     "end_time": "2023-08-01T17:14:48.630258Z",
     "start_time": "2023-08-01T17:14:48.620366Z"
    }
   },
   "outputs": [],
   "source": [
    "def normalize(tensor: torch.Tensor, dim: int = -1) -> torch.Tensor:\n",
    "    norm = tensor.norm(dim=dim, keepdim=True)\n",
    "    tensor = tensor / torch.maximum(norm, torch.tensor(1e-10))\n",
    "    return tensor\n",
    "\n",
    "\n",
    "class HandModel(nn.Module):\n",
    "    def __init__(sequence: torch.Tensor):\n",
    "        #         n_frames = len(sequence)\n",
    "        self.direction_0_5 = nn.Parameter(normalize(sequence[:, 5] - sequence[:, 0]))\n",
    "        self.direction_0_17 = nn.Parameter(normalize(sequence[:, 5] - sequence[:, 0]))"
   ]
  },
  {
   "cell_type": "code",
   "execution_count": 39,
   "metadata": {
    "ExecuteTime": {
     "end_time": "2023-08-01T14:00:50.308073Z",
     "start_time": "2023-08-01T14:00:50.295311Z"
    }
   },
   "outputs": [
    {
     "data": {
      "text/plain": [
       "frozenset({(0, 1),\n",
       "           (0, 5),\n",
       "           (0, 17),\n",
       "           (1, 2),\n",
       "           (2, 3),\n",
       "           (3, 4),\n",
       "           (5, 6),\n",
       "           (5, 9),\n",
       "           (6, 7),\n",
       "           (7, 8),\n",
       "           (9, 10),\n",
       "           (9, 13),\n",
       "           (10, 11),\n",
       "           (11, 12),\n",
       "           (13, 14),\n",
       "           (13, 17),\n",
       "           (14, 15),\n",
       "           (15, 16),\n",
       "           (17, 18),\n",
       "           (18, 19),\n",
       "           (19, 20)})"
      ]
     },
     "execution_count": 39,
     "metadata": {},
     "output_type": "execute_result"
    }
   ],
   "source": [
    "mediapipe.solutions.hands_connections.HAND_CONNECTIONS"
   ]
  },
  {
   "cell_type": "markdown",
   "metadata": {},
   "source": [
    "## Hand model loss <span id=Hand_model_loss_></span>"
   ]
  },
  {
   "cell_type": "code",
   "execution_count": 83,
   "metadata": {
    "execution": {
     "iopub.execute_input": "2023-07-30T14:27:43.763656Z",
     "iopub.status.busy": "2023-07-30T14:27:43.763249Z",
     "iopub.status.idle": "2023-07-30T14:27:43.786689Z",
     "shell.execute_reply": "2023-07-30T14:27:43.785845Z",
     "shell.execute_reply.started": "2023-07-30T14:27:43.763624Z"
    }
   },
   "outputs": [],
   "source": [
    "def get_bone_length_variation_loss(\n",
    "    sequence: torch.Tensor, basis_bone_edge: tuple[int, int] = (0, 5)\n",
    ") -> torch.Tensor:\n",
    "    landmark_from, landmark_to = list(\n",
    "        zip(*mediapipe.solutions.hands_connections.HAND_CONNECTIONS)\n",
    "    )\n",
    "    bone_length = (sequence[:, landmark_from] - sequence[:, landmark_to]).norm(dim=-1)\n",
    "    basis_bone_length = (\n",
    "        sequence[:, [basis_bone_edge[0]]] - sequence[:, [basis_bone_edge[1]]]\n",
    "    ).norm(dim=-1)\n",
    "    bone_length = bone_length / basis_bone_length\n",
    "    loss = (bone_length.var(dim=0) / bone_length.mean(dim=0) ** 2).mean()\n",
    "    return loss\n",
    "\n",
    "\n",
    "def get_finger_plane_loss(sequence: torch.Tensor) -> torch.Tensor:\n",
    "    loss = 0\n",
    "    for finger_base in [1, 5, 9, 13, 17]:\n",
    "        finger = sequence[:, finger_base : finger_base + 4]\n",
    "        first_knuckle = finger[:, 0] - finger[:, 1]\n",
    "        second_knuckle = finger[:, 0] - finger[:, 2]\n",
    "        third_knuckle = finger[:, 0] - finger[:, 3]\n",
    "\n",
    "        normal_vector = torch.cross(first_knuckle, second_knuckle, dim=-1)\n",
    "        normal_vector = normal_vector / normal_vector.norm(dim=-1, keepdim=True)\n",
    "        distance_to_plane = torch.sum(normal_vector * third_knuckle, dim=-1).abs()\n",
    "        loss += (distance_to_plane**2).mean()\n",
    "\n",
    "    return loss\n",
    "\n",
    "\n",
    "def get_motion_smoothness_loss(\n",
    "    sequence: torch.Tensor,\n",
    "    second_degree_weight: float = 1.0,\n",
    "    relative_weight: float = 0.5,\n",
    ") -> torch.Tensor:\n",
    "    loss = 0\n",
    "    hand_abs_delta = sequence[1:, 0] - sequence[:1, 0]\n",
    "    hand_abs_delta_delta = hand_abs_delta[1:] - hand_abs_delta[:1]\n",
    "    loss += (hand_abs_delta**2).sum(dim=-1).mean()\n",
    "    loss += second_degree_weight * (hand_abs_delta_delta**2).sum(dim=-1).mean()\n",
    "\n",
    "    for finger in [4, 8, 12, 16, 20]:\n",
    "        finger_rel_delta = sequence[1:, finger] - sequence[:1, finger] - hand_abs_delta\n",
    "        finger_rel_delta_delta = finger_rel_delta[1:] - finger_rel_delta[:1]\n",
    "        loss += relative_weight * (finger_rel_delta**2).sum(dim=-1).mean()\n",
    "        loss += (\n",
    "            relative_weight\n",
    "            * second_degree_weight\n",
    "            * (finger_rel_delta_delta**2).sum(dim=-1).mean()\n",
    "        )\n",
    "\n",
    "    return loss\n",
    "\n",
    "\n",
    "def get_distance_from_true_sequence_loss(\n",
    "    true_sequence: torch.Tensor, pred_sequence: torch.Tensor, mask: torch.Tensor\n",
    ") -> torch.Tensor:\n",
    "    \"\"\"The loss is equal to masked l1 distance to account for outliers.\"\"\"\n",
    "    loss = nn.functional.l1_loss(pred_sequence[mask], true_sequence[mask])\n",
    "    return loss\n",
    "\n",
    "\n",
    "def get_hand_model_loss(\n",
    "    true_sequence: torch.Tensor,\n",
    "    pred_sequence: torch.Tensor,\n",
    "    mask: torch.Tensor,\n",
    "    bone_length_variation_weight: float = 1.0,\n",
    "    finger_plane_weight: float = 1.0,\n",
    "    motion_smoothness_weight: float = 1.0,\n",
    "    distance_from_true_sequence_weight: float = 1.0,\n",
    ") -> torch.Tensor:\n",
    "    if true_sequence.shape != pred_sequence.shape:\n",
    "        raise ValueError(\n",
    "            f\"Shapes don't match: {true_sequence.shape} != {pred_sequence.shape}\"\n",
    "        )\n",
    "    shape_dict = einops.parse_shape(true_sequence, \"frame landmark coordinate\")\n",
    "\n",
    "    bone_length_variation_loss = (\n",
    "        bone_length_variation_weight * get_bone_length_variation_loss(pred_sequence)\n",
    "    )\n",
    "    finger_plane_loss = finger_plane_weight * get_finger_plane_loss(pred_sequence)\n",
    "    motion_smoothness_loss = motion_smoothness_weight * get_motion_smoothness_loss(\n",
    "        pred_sequence\n",
    "    )\n",
    "    distance_from_true_sequence_loss = (\n",
    "        distance_from_true_sequence_weight\n",
    "        * get_distance_from_true_sequence_loss(true_sequence, pred_sequence, mask)\n",
    "    )\n",
    "\n",
    "    loss = (\n",
    "        bone_length_variation_loss\n",
    "        + finger_plane_loss\n",
    "        + motion_smoothness_loss\n",
    "        + distance_from_true_sequence_loss\n",
    "    )\n",
    "    return loss"
   ]
  },
  {
   "cell_type": "code",
   "execution_count": 84,
   "metadata": {
    "execution": {
     "iopub.execute_input": "2023-07-30T14:27:44.127210Z",
     "iopub.status.busy": "2023-07-30T14:27:44.126497Z",
     "iopub.status.idle": "2023-07-30T14:27:44.131136Z",
     "shell.execute_reply": "2023-07-30T14:27:44.130292Z",
     "shell.execute_reply.started": "2023-07-30T14:27:44.127172Z"
    }
   },
   "outputs": [],
   "source": [
    "# because videos are from a phone, the perspective is skewed and bones do not necessarily have invariant proportions\n",
    "# augmentations: concat several sequences\n",
    "# check out different scipy interpolation methods and respective losses\n",
    "# set up wandb logger\n",
    "# log each loss separately, check losses on sklearn interpolators\n",
    "# augmentations\n",
    "# scale loss inverse according to fraction of missing frames"
   ]
  },
  {
   "cell_type": "markdown",
   "metadata": {
    "execution": {
     "iopub.execute_input": "2023-07-30T14:12:00.780387Z",
     "iopub.status.busy": "2023-07-30T14:12:00.779920Z",
     "iopub.status.idle": "2023-07-30T14:12:00.787327Z",
     "shell.execute_reply": "2023-07-30T14:12:00.786460Z",
     "shell.execute_reply.started": "2023-07-30T14:12:00.780354Z"
    }
   },
   "source": [
    "## Dataset <span id=Dataset_></span>"
   ]
  },
  {
   "cell_type": "code",
   "execution_count": 93,
   "metadata": {
    "execution": {
     "iopub.execute_input": "2023-07-30T14:31:08.659591Z",
     "iopub.status.busy": "2023-07-30T14:31:08.659151Z",
     "iopub.status.idle": "2023-07-30T14:31:08.680133Z",
     "shell.execute_reply": "2023-07-30T14:31:08.678298Z",
     "shell.execute_reply.started": "2023-07-30T14:31:08.659560Z"
    }
   },
   "outputs": [],
   "source": [
    "class BatchSampler:\n",
    "    \"\"\"Samples batches of sequences from same parquet file to speed up loading.\"\"\"\n",
    "\n",
    "    def __init__(\n",
    "        self,\n",
    "        folder: str | None = None,\n",
    "        sequence_ids: list[int] | None = None,\n",
    "        batch_size: int = 16,\n",
    "        shuffle: bool = False,\n",
    "    ):\n",
    "        self.train = read_train_dataframe(folder)\n",
    "        if sequence_ids is not None:\n",
    "            self.train = self.train.loc[sequence_ids]\n",
    "        self.batch_size = batch_size\n",
    "        self.shuffle = shuffle\n",
    "\n",
    "    def __len__(self):\n",
    "        return len([i for i in self])\n",
    "\n",
    "    def __iter__(self):\n",
    "        batch_indices = []\n",
    "        for path, sequence_ids in self.train.reset_index().groupby(\"path\")[\n",
    "            \"sequence_id\"\n",
    "        ]:\n",
    "            n_sub_batches = int(np.ceil(len(sequence_ids) / self.batch_size))\n",
    "            batched_sequence_ids = np.array_split(sequence_ids.values, n_sub_batches)\n",
    "            if self.shuffle:\n",
    "                np.random.shuffle(batched_sequence_ids)\n",
    "            batch_indices.extend(batched_sequence_ids)\n",
    "\n",
    "        if self.shuffle:\n",
    "            np.random.shuffle(batch_indices)\n",
    "\n",
    "        yield from batch_indices\n",
    "\n",
    "\n",
    "class Dataset(torch.utils.data.Dataset):\n",
    "    def __init__(\n",
    "        self,\n",
    "        folder: str | None = None,\n",
    "        sequence_df_transform: tp.Callable[\n",
    "            [pd.DataFrame], dict[str, torch.Tensor]\n",
    "        ] = preprocess_sequence_dataframe,\n",
    "        sequence_ids: list[int] | None = None,\n",
    "    ):\n",
    "        self.folder = folder\n",
    "        self.train = read_train_dataframe(folder)\n",
    "        self.len = len(train) if sequence_ids is None else len(sequence_ids)\n",
    "        self.columns = (\n",
    "            [\"frame\"]\n",
    "            + get_all_bodypart_columns(Bodypart.right_hand)\n",
    "            + get_all_bodypart_columns(Bodypart.left_hand)\n",
    "        )\n",
    "        self.sequence_df_transform = sequence_df_transform\n",
    "        self.sequence_df: pd.DataFrame | None = None\n",
    "\n",
    "    def __len__(self) -> int:\n",
    "        return self.len\n",
    "\n",
    "    def __getitem__(self, sequence_id: int) -> dict:\n",
    "        if self.sequence_df is None or sequence_id not in self.sequence_df.index:\n",
    "            self.sequence_df = read_parquet_as_dataframe(\n",
    "                folder=self.folder,\n",
    "                parquet_path=self.train.loc[sequence_id][\"path\"],\n",
    "                columns=self.columns,\n",
    "            )\n",
    "\n",
    "        sequence_df = self.sequence_df.loc[sequence_id]\n",
    "        sequence_dict = self.sequence_df_transform(sequence_df)\n",
    "        sequence_dict[\"sequence_id\"] = sequence_id\n",
    "        sequence_dict[\"phrase\"] = self.train.loc[sequence_id][\"phrase\"]\n",
    "\n",
    "        return sequence_dict"
   ]
  },
  {
   "cell_type": "code",
   "execution_count": 143,
   "metadata": {
    "execution": {
     "iopub.execute_input": "2023-07-30T15:23:12.437783Z",
     "iopub.status.busy": "2023-07-30T15:23:12.437261Z",
     "iopub.status.idle": "2023-07-30T15:23:12.459233Z",
     "shell.execute_reply": "2023-07-30T15:23:12.457824Z",
     "shell.execute_reply.started": "2023-07-30T15:23:12.437736Z"
    }
   },
   "outputs": [],
   "source": [
    "def get_stratified_k_fold_sequences(\n",
    "    folder: str | None = None,\n",
    "    sequence_ids: list[int] | None = None,\n",
    "    folds: int = 5,\n",
    "    shuffle=False,\n",
    ") -> list[tuple[list[int], list[int], list[int]]]:\n",
    "    \"\"\"Returns a list of tuples with train, val and test sequence ids.\"\"\"\n",
    "    train = read_train_dataframe(folder)\n",
    "    if sequence_ids is None:\n",
    "        sequence_ids = train.index.values\n",
    "    else:\n",
    "        train = train.loc[sequence_ids]\n",
    "\n",
    "    file_ids = train[\"file_id\"].values\n",
    "    sk_fold = sklearn.model_selection.StratifiedKFold(n_splits=folds, shuffle=shuffle)\n",
    "    sk_sequences = []\n",
    "    for train_index, test_index in sk_fold.split(X=sequence_ids, y=file_ids):\n",
    "        train_index, val_index = next(\n",
    "            iter(sk_fold.split(X=train_index, y=file_ids[train_index]))\n",
    "        )\n",
    "        sk_sequences.append(\n",
    "            (\n",
    "                sequence_ids[train_index],\n",
    "                sequence_ids[val_index],\n",
    "                sequence_ids[test_index],\n",
    "            )\n",
    "        )\n",
    "    return sk_sequences\n",
    "\n",
    "\n",
    "def get_stratified_k_fold_dataloaders(\n",
    "    stratified_k_fold_sequences: list[tuple[list[int], list[int], list[int]]],\n",
    "    folder: str | None = None,\n",
    "    batch_size: int = 16,\n",
    "    max_inner_nan_span: int = 3,\n",
    "    target_len: int = 400,\n",
    "    num_workers: int = 0,\n",
    "):\n",
    "    sequence_df_transform = functools.partial(\n",
    "        preprocess_sequence_dataframe,\n",
    "        max_inner_nan_span=max_inner_nan_span,\n",
    "        target_len=target_len,\n",
    "    )\n",
    "    stratified_k_fold_dataloaders = []\n",
    "    for train_val_test_sequence_ids in stratified_k_fold_sequences:\n",
    "        train_val_test_dataloaders = []\n",
    "        for i, sequence_ids in enumerate(train_val_test_sequence_ids):\n",
    "            dataloader = torch.utils.data.DataLoader(\n",
    "                dataset=Dataset(\n",
    "                    folder=folder,\n",
    "                    sequence_df_transform=sequence_df_transform,\n",
    "                    sequence_ids=sequence_ids,\n",
    "                ),\n",
    "                batch_sampler=BatchSampler(\n",
    "                    folder, sequence_ids=sequence_ids, shuffle=i == 0\n",
    "                ),\n",
    "                num_workers=num_workers,\n",
    "            )\n",
    "            train_val_test_dataloaders.append(dataloader)\n",
    "        yield train_val_test_dataloaders"
   ]
  },
  {
   "cell_type": "markdown",
   "metadata": {
    "execution": {
     "iopub.execute_input": "2023-07-30T14:09:24.084095Z",
     "iopub.status.busy": "2023-07-30T14:09:24.082809Z",
     "iopub.status.idle": "2023-07-30T14:09:24.091409Z",
     "shell.execute_reply": "2023-07-30T14:09:24.089923Z",
     "shell.execute_reply.started": "2023-07-30T14:09:24.084039Z"
    }
   },
   "source": [
    "## Model <span id=Model_></span>"
   ]
  },
  {
   "cell_type": "code",
   "execution_count": 108,
   "metadata": {
    "execution": {
     "iopub.execute_input": "2023-07-30T14:35:03.719196Z",
     "iopub.status.busy": "2023-07-30T14:35:03.717906Z",
     "iopub.status.idle": "2023-07-30T14:35:03.729353Z",
     "shell.execute_reply": "2023-07-30T14:35:03.728118Z",
     "shell.execute_reply.started": "2023-07-30T14:35:03.719149Z"
    }
   },
   "outputs": [],
   "source": [
    "class HandModelInterpolator(nn.Module):\n",
    "    def __init__(self, window_size: int = 11):\n",
    "        super().__init__()\n",
    "        self.conv1d = nn.Conv1d(\n",
    "            in_channels=63, out_channels=63, kernel_size=window_size, padding=\"same\"\n",
    "        )\n",
    "\n",
    "    def forward(self, sequence):\n",
    "        sequence = torch.flatten(sequence, start_dim=-2, end_dim=-1)\n",
    "        sequence = sequence.transpose(1, 2)  # batch, landmark x coordinate, frame\n",
    "        sequence = sequence + 1e-5 * self.conv1d(sequence)\n",
    "        sequence = sequence.transpose(1, 2)\n",
    "        sequence = torch.unflatten(sequence, dim=-1, sizes=(-1, 3))\n",
    "        return sequence"
   ]
  },
  {
   "cell_type": "code",
   "execution_count": 164,
   "metadata": {
    "execution": {
     "iopub.execute_input": "2023-07-30T15:52:37.595623Z",
     "iopub.status.busy": "2023-07-30T15:52:37.595152Z",
     "iopub.status.idle": "2023-07-30T15:52:37.610008Z",
     "shell.execute_reply": "2023-07-30T15:52:37.608428Z",
     "shell.execute_reply.started": "2023-07-30T15:52:37.595587Z"
    }
   },
   "outputs": [],
   "source": [
    "class Module(pl.LightningModule):\n",
    "    def __init__(self, window_size: int = 11):\n",
    "        super().__init__()\n",
    "        self.interpolator = HandModelInterpolator(window_size=window_size)\n",
    "\n",
    "    def forward(self, sequence):\n",
    "        pred_sequence = self.interpolator(sequence)\n",
    "        return pred_sequence\n",
    "\n",
    "    def configure_optimizers(self):\n",
    "        optimizer = torch.optim.Adam(self.parameters(), lr=1e-3)\n",
    "        return optimizer\n",
    "\n",
    "    def training_step(self, batch, batch_index):\n",
    "        sequence = batch[\"sequence\"]\n",
    "        mask = batch[\"mask\"]\n",
    "        pred_sequence = self(sequence)\n",
    "\n",
    "        bone_length_variation_loss = 0.0\n",
    "        finger_plane_loss = 0.0\n",
    "        motion_smoothness_loss = 0.0\n",
    "        distance_from_true_sequence_loss = 0.0\n",
    "        for s, p, m in zip(sequence, pred_sequence, mask):\n",
    "            bone_length_variation_loss += get_bone_length_variation_loss(p)\n",
    "            finger_plane_loss += 1000 * get_finger_plane_loss(p)\n",
    "            #             motion_smoothness_loss += get_motion_smoothness_loss(p)\n",
    "            distance_from_true_sequence_loss += (\n",
    "                1000 * get_distance_from_true_sequence_loss(s, p, m)\n",
    "            )\n",
    "\n",
    "        loss = (\n",
    "            bone_length_variation_loss\n",
    "            + finger_plane_loss\n",
    "            + motion_smoothness_loss\n",
    "            + distance_from_true_sequence_loss\n",
    "        )\n",
    "\n",
    "        self.log(\"bone_length_variation_loss\", bone_length_variation_loss)\n",
    "        self.log(\"finger_plane_loss\", finger_plane_loss)\n",
    "        self.log(\"motion_smoothness_loss\", motion_smoothness_loss)\n",
    "        self.log(\"distance_from_true_sequence_loss\", distance_from_true_sequence_loss)\n",
    "        self.log(\"loss\", loss)\n",
    "\n",
    "        return loss\n",
    "\n",
    "    def validation_step(self, batch, batch_index):\n",
    "        ..."
   ]
  },
  {
   "cell_type": "code",
   "execution_count": 165,
   "metadata": {
    "execution": {
     "iopub.execute_input": "2023-07-30T15:52:37.862345Z",
     "iopub.status.busy": "2023-07-30T15:52:37.861864Z",
     "iopub.status.idle": "2023-07-30T15:52:37.873060Z",
     "shell.execute_reply": "2023-07-30T15:52:37.871291Z",
     "shell.execute_reply.started": "2023-07-30T15:52:37.862307Z"
    }
   },
   "outputs": [],
   "source": [
    "class VideoCallback(pl.callbacks.Callback):\n",
    "    def on_validation_batch_start(\n",
    "        self, trainer, pl_module, batch, batch_index, dataloader_index=0\n",
    "    ):\n",
    "        if batch_index == 0:\n",
    "            i = 0\n",
    "            sequence_id = batch[\"sequence_id\"][i].item()\n",
    "            pred_sequence = pl_module(batch[\"sequence\"])\n",
    "            pred_sequence = pred_sequence[i, : batch[\"size\"][i]]\n",
    "            pred_sequence = pred_sequence.detach().numpy()\n",
    "            video = draw_sequence_landmarks(\n",
    "                sequence=pred_sequence,\n",
    "                sequence_id=sequence_id,\n",
    "                bodypart=Bodypart.right_hand,\n",
    "            )\n",
    "            with tempfile.NamedTemporaryFile(suffix=\".gif\") as gif:\n",
    "                filename = gif.name\n",
    "                write_gif(filename, video)\n",
    "                wandb.log({\"video\": wandb.Video(filename)})"
   ]
  },
  {
   "cell_type": "code",
   "execution_count": 166,
   "metadata": {
    "execution": {
     "iopub.execute_input": "2023-07-30T15:52:46.144167Z",
     "iopub.status.busy": "2023-07-30T15:52:46.143634Z",
     "iopub.status.idle": "2023-07-30T15:57:35.492695Z",
     "shell.execute_reply": "2023-07-30T15:57:35.490990Z",
     "shell.execute_reply.started": "2023-07-30T15:52:46.144128Z"
    }
   },
   "outputs": [
    {
     "name": "stderr",
     "output_type": "stream",
     "text": [
      "\u001b[34m\u001b[1mwandb\u001b[0m: Currently logged in as: \u001b[33mdkoshman\u001b[0m. Use \u001b[1m`wandb login --relogin`\u001b[0m to force relogin\n"
     ]
    },
    {
     "data": {
      "text/html": [
       "wandb version 0.15.7 is available!  To upgrade, please run:\n",
       " $ pip install wandb --upgrade"
      ],
      "text/plain": [
       "<IPython.core.display.HTML object>"
      ]
     },
     "metadata": {},
     "output_type": "display_data"
    },
    {
     "data": {
      "text/html": [
       "Tracking run with wandb version 0.15.5"
      ],
      "text/plain": [
       "<IPython.core.display.HTML object>"
      ]
     },
     "metadata": {},
     "output_type": "display_data"
    },
    {
     "data": {
      "text/html": [
       "Run data is saved locally in <code>./wandb/run-20230730_155247-ktrfah9g</code>"
      ],
      "text/plain": [
       "<IPython.core.display.HTML object>"
      ]
     },
     "metadata": {},
     "output_type": "display_data"
    },
    {
     "data": {
      "text/html": [
       "Syncing run <strong><a href='https://wandb.ai/dkoshman/asl-fingerspelling/runs/ktrfah9g' target=\"_blank\">upbeat-blaze-2</a></strong> to <a href='https://wandb.ai/dkoshman/asl-fingerspelling' target=\"_blank\">Weights & Biases</a> (<a href='https://wandb.me/run' target=\"_blank\">docs</a>)<br/>"
      ],
      "text/plain": [
       "<IPython.core.display.HTML object>"
      ]
     },
     "metadata": {},
     "output_type": "display_data"
    },
    {
     "data": {
      "text/html": [
       " View project at <a href='https://wandb.ai/dkoshman/asl-fingerspelling' target=\"_blank\">https://wandb.ai/dkoshman/asl-fingerspelling</a>"
      ],
      "text/plain": [
       "<IPython.core.display.HTML object>"
      ]
     },
     "metadata": {},
     "output_type": "display_data"
    },
    {
     "data": {
      "text/html": [
       " View run at <a href='https://wandb.ai/dkoshman/asl-fingerspelling/runs/ktrfah9g' target=\"_blank\">https://wandb.ai/dkoshman/asl-fingerspelling/runs/ktrfah9g</a>"
      ],
      "text/plain": [
       "<IPython.core.display.HTML object>"
      ]
     },
     "metadata": {},
     "output_type": "display_data"
    },
    {
     "name": "stderr",
     "output_type": "stream",
     "text": [
      "/opt/conda/lib/python3.10/site-packages/pytorch_lightning/loops/utilities.py:70: PossibleUserWarning: `max_epochs` was not set. Setting it to 1000 epochs. To train without an epoch limit, set `max_epochs=-1`.\n",
      "  rank_zero_warn(\n"
     ]
    },
    {
     "data": {
      "application/vnd.jupyter.widget-view+json": {
       "model_id": "",
       "version_major": 2,
       "version_minor": 0
      },
      "text/plain": [
       "Sanity Checking: 0it [00:00, ?it/s]"
      ]
     },
     "metadata": {},
     "output_type": "display_data"
    },
    {
     "data": {
      "application/vnd.jupyter.widget-view+json": {
       "model_id": "3b6518a66b8842e5a90e4f15416c3559",
       "version_major": 2,
       "version_minor": 0
      },
      "text/plain": [
       "Training: 0it [00:00, ?it/s]"
      ]
     },
     "metadata": {},
     "output_type": "display_data"
    },
    {
     "name": "stderr",
     "output_type": "stream",
     "text": [
      "/opt/conda/lib/python3.10/site-packages/pytorch_lightning/trainer/call.py:52: UserWarning: Detected KeyboardInterrupt, attempting graceful shutdown...\n",
      "  rank_zero_warn(\"Detected KeyboardInterrupt, attempting graceful shutdown...\")\n"
     ]
    },
    {
     "data": {
      "text/html": [
       "Waiting for W&B process to finish... <strong style=\"color:green\">(success).</strong>"
      ],
      "text/plain": [
       "<IPython.core.display.HTML object>"
      ]
     },
     "metadata": {},
     "output_type": "display_data"
    },
    {
     "data": {
      "application/vnd.jupyter.widget-view+json": {
       "model_id": "3090c1b7147b46028d5058b769f2bb30",
       "version_major": 2,
       "version_minor": 0
      },
      "text/plain": [
       "VBox(children=(Label(value='0.373 MB of 0.373 MB uploaded (0.000 MB deduped)\\r'), FloatProgress(value=1.0, max…"
      ]
     },
     "metadata": {},
     "output_type": "display_data"
    },
    {
     "data": {
      "text/html": [
       "<style>\n",
       "    table.wandb td:nth-child(1) { padding: 0 10px; text-align: left ; width: auto;} td:nth-child(2) {text-align: left ; width: 100%}\n",
       "    .wandb-row { display: flex; flex-direction: row; flex-wrap: wrap; justify-content: flex-start; width: 100% }\n",
       "    .wandb-col { display: flex; flex-direction: column; flex-basis: 100%; flex: 1; padding: 10px; }\n",
       "    </style>\n",
       "<div class=\"wandb-row\"><div class=\"wandb-col\"><h3>Run history:</h3><br/><table class=\"wandb\"><tr><td>bone_length_variation_loss</td><td>█▂▃▁▂▂▃▂▂▂▂▂▂▂▂▃▁▁▃▂▅▃▄▂▃▂▂▃▃▂▂▃▄▂▁▄▂▂▂▂</td></tr><tr><td>distance_from_true_sequence_loss</td><td>█▅▄▄▂▃▂▂▂▂▂▂▂▂▁▁▂▁▁▁▁▁▁▁▁▁▁▁▁▁▁▁▁▁▁▁▁▁▁▁</td></tr><tr><td>epoch</td><td>▁▁▁▁▁▁▁▁▁▁▁▁▁▁▁▁▁▁▁▁▁▁▁▁▁▁▁▁▁▁▁▁▁▁▁▁▁▁▁▁</td></tr><tr><td>finger_plane_loss</td><td>▄▃▅▂▂▅▆▅▃▅▇▃▄▄▃▄▁▁▇▅▅▂▅▅▄▄▃▆▄▁▆█▆▅▄▇▃▃▅▅</td></tr><tr><td>loss</td><td>▇▃▆▂▃▅▆▅▃▅▆▃▄▄▃▅▁▁▇▅▆▃▆▅▄▄▃▆▄▂▆█▆▅▄█▃▃▅▅</td></tr><tr><td>motion_smoothness_loss</td><td>▁▁▁▁▁▁▁▁▁▁▁▁▁▁▁▁▁▁▁▁▁▁▁▁▁▁▁▁▁▁▁▁▁▁▁▁▁▁▁▁</td></tr><tr><td>trainer/global_step</td><td>▁▁▁▁▂▂▂▂▂▃▃▃▃▃▃▄▄▄▄▄▅▅▅▅▅▅▆▆▆▆▆▇▇▇▇▇▇███</td></tr></table><br/></div><div class=\"wandb-col\"><h3>Run summary:</h3><br/><table class=\"wandb\"><tr><td>bone_length_variation_loss</td><td>0.24729</td></tr><tr><td>distance_from_true_sequence_loss</td><td>0.00276</td></tr><tr><td>epoch</td><td>0</td></tr><tr><td>finger_plane_loss</td><td>1.0463</td></tr><tr><td>loss</td><td>1.29635</td></tr><tr><td>motion_smoothness_loss</td><td>0.0</td></tr><tr><td>trainer/global_step</td><td>569</td></tr></table><br/></div></div>"
      ],
      "text/plain": [
       "<IPython.core.display.HTML object>"
      ]
     },
     "metadata": {},
     "output_type": "display_data"
    },
    {
     "data": {
      "text/html": [
       " View run <strong style=\"color:#cdcd00\">upbeat-blaze-2</strong> at: <a href='https://wandb.ai/dkoshman/asl-fingerspelling/runs/ktrfah9g' target=\"_blank\">https://wandb.ai/dkoshman/asl-fingerspelling/runs/ktrfah9g</a><br/>Synced 6 W&B file(s), 1 media file(s), 0 artifact file(s) and 0 other file(s)"
      ],
      "text/plain": [
       "<IPython.core.display.HTML object>"
      ]
     },
     "metadata": {},
     "output_type": "display_data"
    },
    {
     "data": {
      "text/html": [
       "Find logs at: <code>./wandb/run-20230730_155247-ktrfah9g/logs</code>"
      ],
      "text/plain": [
       "<IPython.core.display.HTML object>"
      ]
     },
     "metadata": {},
     "output_type": "display_data"
    }
   ],
   "source": [
    "train_dataloader, val_dataloader, test_dataloader = next(\n",
    "    iter(\n",
    "        get_stratified_k_fold_dataloaders(\n",
    "            get_stratified_k_fold_sequences(\n",
    "                sequence_ids=train[train[\"not_na_frames_per_letter\"] > 1].index.values\n",
    "            ),\n",
    "            num_workers=4,\n",
    "        )\n",
    "    )\n",
    ")\n",
    "model = Module(window_size=11)\n",
    "trainer = pl.Trainer(\n",
    "    logger=pl.loggers.WandbLogger(project=\"asl-fingerspelling\"),\n",
    "    callbacks=[VideoCallback()],\n",
    "    log_every_n_steps=10,\n",
    "    val_check_interval=1000,\n",
    "    limit_val_batches=1,\n",
    ")\n",
    "trainer.fit(model, train_dataloaders=train_dataloader, val_dataloaders=val_dataloader)\n",
    "wandb.finish()"
   ]
  },
  {
   "cell_type": "code",
   "execution_count": 168,
   "metadata": {
    "execution": {
     "iopub.execute_input": "2023-07-30T15:57:35.506767Z",
     "iopub.status.busy": "2023-07-30T15:57:35.506354Z",
     "iopub.status.idle": "2023-07-30T15:57:35.521585Z",
     "shell.execute_reply": "2023-07-30T15:57:35.520091Z",
     "shell.execute_reply.started": "2023-07-30T15:57:35.506696Z"
    }
   },
   "outputs": [],
   "source": [
    "# enforce bone stability and finger plane via strict model, not via loss,\n",
    "# model is too simple, training too slow"
   ]
  },
  {
   "cell_type": "code",
   "execution_count": 167,
   "metadata": {
    "execution": {
     "iopub.execute_input": "2023-07-30T15:57:35.496229Z",
     "iopub.status.busy": "2023-07-30T15:57:35.495818Z",
     "iopub.status.idle": "2023-07-30T15:57:35.504161Z",
     "shell.execute_reply": "2023-07-30T15:57:35.502945Z",
     "shell.execute_reply.started": "2023-07-30T15:57:35.496193Z"
    }
   },
   "outputs": [],
   "source": [
    "# sequence_df=read_parquet_as_dataframe(\n",
    "#         parquet_path=\"train_landmarks/5414471.parquet\",\n",
    "#         sequence_ids=[1816796431],\n",
    "#         columns=[\"frame\"] + get_all_bodypart_columns(Bodypart.right_hand) + get_all_bodypart_columns(Bodypart.left_hand),\n",
    "#     ).iloc[:50]\n",
    "# column = \"x_right_hand_8\"\n",
    "# y = sequence_df[column].values\n",
    "# x = np.arange(len(y))\n",
    "# notnan = ~np.isnan(y)\n",
    "\n",
    "# akima_interpolator = scipy.interpolate.Akima1DInterpolator(x=x[notnan], y=y[notnan])\n",
    "# univariate_interpolator = scipy.interpolate.UnivariateSpline(x=x[notnan], y=y[notnan], s=1e-3)\n",
    "# rbf_interpolator = scipy.interpolate.Rbf(x[notnan], y[notnan])\n",
    "\n",
    "# plt.title(\"Interpolation\")\n",
    "# plt.xlabel(\"frame\")\n",
    "# plt.ylabel(column)\n",
    "# plt.ylabel(\"coordinate\")\n",
    "# plt.plot(akima_interpolator(x), label=\"akima_interpolator\")\n",
    "# plt.plot(univariate_interpolator(x), label=\"univariate_interpolator\")\n",
    "# plt.plot(rbf_interpolator(x), label=\"rbf_interpolator\")\n",
    "# plt.plot(y, \"o\", label=\"original\")\n",
    "# plt.legend();"
   ]
  },
  {
   "cell_type": "code",
   "execution_count": null,
   "metadata": {},
   "outputs": [],
   "source": []
  }
 ],
 "metadata": {
  "kernelspec": {
   "display_name": "Python 3 (ipykernel)",
   "language": "python",
   "name": "python3"
  },
  "language_info": {
   "codemirror_mode": {
    "name": "ipython",
    "version": 3
   },
   "file_extension": ".py",
   "mimetype": "text/x-python",
   "name": "python",
   "nbconvert_exporter": "python",
   "pygments_lexer": "ipython3",
   "version": "3.10.7"
  }
 },
 "nbformat": 4,
 "nbformat_minor": 4
}
