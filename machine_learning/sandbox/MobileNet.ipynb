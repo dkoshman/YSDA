{
 "cells": [
  {
   "cell_type": "code",
   "execution_count": 1,
   "id": "168c6404",
   "metadata": {},
   "outputs": [],
   "source": [
    "import matplotlib.pyplot as plt\n",
    "import torch\n",
    "import torch.nn as nn\n",
    "import torchvision\n",
    "import torchvision.transforms as transforms"
   ]
  },
  {
   "cell_type": "code",
   "execution_count": 1,
   "id": "4a64b68f",
   "metadata": {},
   "outputs": [],
   "source": [
    "import torch"
   ]
  },
  {
   "cell_type": "code",
   "execution_count": null,
   "id": "18a08335",
   "metadata": {},
   "outputs": [],
   "source": [
    "torch.load()"
   ]
  },
  {
   "cell_type": "code",
   "execution_count": null,
   "id": "2036c9ee",
   "metadata": {},
   "outputs": [],
   "source": [
    "import os\n",
    "root_dir = \"/external2/dkkoshman/repos/ML2TransformerApp/data\"\n",
    "a = sorted(set(os.path.splitext(filename)[0] for filename in os.listdir(root_dir) if filename.endswith('.png')))[:10]\n",
    "os.path.join(root_dir, a[0] + '.png')"
   ]
  },
  {
   "cell_type": "code",
   "execution_count": 3,
   "id": "e8a308d1",
   "metadata": {},
   "outputs": [
    {
     "name": "stdout",
     "output_type": "stream",
     "text": [
      "Files already downloaded and verified\n",
      "Files already downloaded and verified\n"
     ]
    }
   ],
   "source": [
    "transform = transforms.Compose([\n",
    "    transforms.ToTensor()\n",
    "])\n",
    "\n",
    "root = '../datasets/CIFAR10'\n",
    "\n",
    "train_data = torchvision.datasets.CIFAR10(\n",
    "    root=root, train=True, download=True, \n",
    "    transform=transform\n",
    ")\n",
    "\n",
    "test_data = torchvision.datasets.CIFAR10(\n",
    "    root=root, train=False, download=True, \n",
    "    transform=transform\n",
    ")\n",
    "\n",
    "batch_size = 64\n",
    "num_workers = 2\n",
    "\n",
    "train_dataloader = torch.utils.data.DataLoader(\n",
    "    train_data, shuffle=True, \n",
    "    batch_size=batch_size, num_workers=0\n",
    ")\n",
    "\n",
    "test_dataloader = torch.utils.data.DataLoader(\n",
    "    test_data, shuffle=True, \n",
    "    batch_size=batch_size, num_workers=0\n",
    ")"
   ]
  },
  {
   "cell_type": "code",
   "execution_count": 4,
   "id": "ae9ca89b",
   "metadata": {},
   "outputs": [],
   "source": [
    "class MobileNet(nn.Module):\n",
    "    \"\"\"Small net for image related tasks\"\"\"\n",
    "    \n",
    "    def __init__(self, input_width, classes_count, input_channels=3, width=32):\n",
    "        \"\"\"\n",
    "        Parameters\n",
    "        ----------\n",
    "        input_width: int\n",
    "            input images will be scaled to have this width\n",
    "        classes_count: int\n",
    "            number of classes to predict\n",
    "        input_channels: int\n",
    "            number of channels in input images\n",
    "        width: int\n",
    "            width of first internal representation\n",
    "        \"\"\"\n",
    "        \n",
    "        super(MobileNet, self).__init__()\n",
    "        self.input_width = input_width\n",
    "        self.classes_count = classes_count\n",
    "        self.input_channels = input_channels\n",
    "        self.width = width\n",
    "        \n",
    "        self.transform = torchvision.transforms.Resize(input_width)\n",
    "        \n",
    "        def DepthwiseSeparableConv(in_channels, out_channels, stride):\n",
    "            return nn.Sequential(\n",
    "                nn.Conv2d(\n",
    "                    in_channels, in_channels, kernel_size=3, stride=stride,\n",
    "                    padding=1, groups=in_channels, bias=False\n",
    "                ),\n",
    "                nn.BatchNorm2d(in_channels),\n",
    "                nn.ReLU(),\n",
    "                nn.Conv2d(in_channels, out_channels, kernel_size=1, bias=False),\n",
    "                nn.BatchNorm2d(out_channels),\n",
    "                nn.ReLU()\n",
    "            )\n",
    "                    \n",
    "        self.layers = nn.Sequential(\n",
    "            nn.Conv2d(input_channels, width, kernel_size=3, stride=2, padding=1, bias=False),\n",
    "            nn.BatchNorm2d(width),\n",
    "            nn.ReLU(),\n",
    "            \n",
    "            DepthwiseSeparableConv(width * 1, width * 2, 1),\n",
    "            DepthwiseSeparableConv(width * 2, width * 4, 2),\n",
    "            DepthwiseSeparableConv(width * 4, width * 4, 1),\n",
    "            DepthwiseSeparableConv(width * 4, width * 8, 2),\n",
    "            DepthwiseSeparableConv(width * 8, width * 8, 1),\n",
    "            DepthwiseSeparableConv(width * 8, width * 16, 2),\n",
    "            \n",
    "            DepthwiseSeparableConv(width * 16, width * 16, 1),\n",
    "            DepthwiseSeparableConv(width * 16, width * 16, 1),\n",
    "            DepthwiseSeparableConv(width * 16, width * 16, 1),\n",
    "            DepthwiseSeparableConv(width * 16, width * 16, 1),\n",
    "            DepthwiseSeparableConv(width * 16, width * 16, 1),\n",
    "            \n",
    "            DepthwiseSeparableConv(width * 16, width * 32, 2),\n",
    "            DepthwiseSeparableConv(width * 32, width * 32, 1),\n",
    "            nn.AdaptiveAvgPool2d(1),\n",
    "            nn.Conv2d(width * 32, classes_count, kernel_size=1),\n",
    "            nn.Softmax2d()\n",
    "        )\n",
    "        \n",
    "    def forward(self, x):\n",
    "        x = self.transform(x)\n",
    "        x = self.layers(x)\n",
    "        x = torch.squeeze(x)\n",
    "        return x"
   ]
  },
  {
   "cell_type": "code",
   "execution_count": 5,
   "id": "17f1bf85",
   "metadata": {},
   "outputs": [],
   "source": [
    "import IPython\n",
    "from math import ceil\n",
    "from tqdm import tqdm\n",
    "\n",
    "\n",
    "def train_loop(model, dataloader, loss_fn, optimizer, step=0.05):\n",
    "    out = display(IPython.display.Pretty('Learning...'), display_id=True)\n",
    "\n",
    "    size = len(dataloader.dataset) \n",
    "    len_size = len(str(size))\n",
    "    train_loss, correct = 0, 0\n",
    "    batches = ceil(size / dataloader.batch_size) - 1\n",
    "    \n",
    "    percentage = 0\n",
    "    for batch, (X, y) in enumerate(tqdm(dataloader, leave=False, desc=\"Batch #\")):\n",
    "        X, y = X.to(device), y.to(device)\n",
    "\n",
    "        # evaluate\n",
    "        model.train()\n",
    "        optimizer.zero_grad()\n",
    "        f = model(X)\n",
    "        loss = loss_fn(f, y)\n",
    "        train_loss += loss\n",
    "        correct += (f.argmax(axis=1) == y).sum().item()\n",
    "        \n",
    "        # backpropagation\n",
    "        loss.backward()\n",
    "        optimizer.step()\n",
    "        \n",
    "        # print info\n",
    "        if batch / batches > percentage or batch == batches: \n",
    "            out.update(f'[{int(percentage * size)}/{size}] Loss: {loss:>8f}')\n",
    "            percentage += step\n",
    "            \n",
    "    train_loss /= batches\n",
    "    correct /= size\n",
    "    return {'train_acc': correct, 'train_loss': train_loss.item()}\n",
    "        \n",
    "        \n",
    "def test_loop(model, dataloader, loss_fn):\n",
    "\n",
    "    size = len(dataloader.dataset)\n",
    "    test_loss, correct = 0, 0\n",
    "    batches = ceil(size / dataloader.batch_size)\n",
    "\n",
    "    with torch.no_grad():\n",
    "        # evalute and check predictions\n",
    "        model.eval()\n",
    "        for X, y in dataloader:\n",
    "            X, y = X.to(device), y.to(device)\n",
    "            f = model(X)\n",
    "            test_loss += loss_fn(f, y)\n",
    "            correct += (f.argmax(axis=1) == y).sum().item()\n",
    "        \n",
    "\n",
    "    test_loss /= batches\n",
    "    correct /= size\n",
    "    \n",
    "    print(f\"Validation accuracy: {(100*correct):>0.1f}%, Validation loss: {test_loss:>8f} \\n\")\n",
    "    return {'val_acc': correct, 'val_loss': test_loss.item()}"
   ]
  },
  {
   "cell_type": "code",
   "execution_count": 6,
   "id": "fc6e2eb6",
   "metadata": {},
   "outputs": [],
   "source": [
    "class ModelInstance:\n",
    "    def __init__(self, train_dataloader, test_dataloader, model, optimizer, loss_fn):\n",
    "        self.train_dataloader = train_dataloader\n",
    "        self.test_dataloader = test_dataloader\n",
    "        self.model = model\n",
    "        self.optimizer = optimizer\n",
    "        self.loss_fn = loss_fn\n",
    "        \n",
    "        self.train_acc = []\n",
    "        self.train_loss = []\n",
    "        self.test_acc = []\n",
    "        self.test_loss = []\n",
    "        \n",
    "    def run(self, epochs):\n",
    "        for epoch in range(epochs):\n",
    "            print(f\"Epoch {epoch+1}\\n-------------------------------\")\n",
    "            train_history = train_loop(self.model, self.train_dataloader, self.loss_fn, self.optimizer)\n",
    "            test_history = test_loop(self.model, self.test_dataloader, self.loss_fn)\n",
    "\n",
    "            self.train_acc.append(train_history['train_acc'])\n",
    "            self.train_loss.append(train_history['train_loss'])\n",
    "            self.test_acc.append(test_history['val_acc'])\n",
    "            self.test_loss.append(test_history['val_loss'])\n",
    "            \n",
    "    def plot(self):\n",
    "        fig, ax = plt.subplots(1, 2, figsize=(16, 6))\n",
    "        \n",
    "        ax[0].set_title('Accuracy')\n",
    "        ax[0].plot(self.train_acc, label='train_acc')\n",
    "        ax[0].plot(self.test_acc, label='test_acc')\n",
    "        ax[0].legend()\n",
    "        ax[0].set_xlabel('Epoch')\n",
    "        \n",
    "        ax[1].set_title('Loss')\n",
    "        ax[1].plot(self.train_loss, label='train_loss')\n",
    "        ax[1].plot(self.test_loss, label='test_loss')\n",
    "        ax[1].legend()\n",
    "        ax[1].set_xlabel('Epoch')"
   ]
  },
  {
   "cell_type": "code",
   "execution_count": 127,
   "id": "d226fc32",
   "metadata": {},
   "outputs": [],
   "source": [
    "mobilenet = MobileNet(input_width=32, classes_count=10).to(device)\n",
    "\n",
    "net = ModelInstance(\n",
    "    train_dataloader,\n",
    "    test_dataloader,\n",
    "    mobilenet,\n",
    "    torch.optim.Adam(mobilenet.parameters()),\n",
    "    nn.CrossEntropyLoss()\n",
    ")"
   ]
  },
  {
   "cell_type": "code",
   "execution_count": 130,
   "id": "19310da3",
   "metadata": {
    "collapsed": true
   },
   "outputs": [
    {
     "name": "stdout",
     "output_type": "stream",
     "text": [
      "Epoch 1\n",
      "-------------------------------\n"
     ]
    },
    {
     "data": {
      "text/plain": [
       "'[50000/50000] Loss: 2.319911'"
      ]
     },
     "metadata": {},
     "output_type": "display_data"
    },
    {
     "name": "stderr",
     "output_type": "stream",
     "text": [
      "                                                          \r"
     ]
    },
    {
     "name": "stdout",
     "output_type": "stream",
     "text": [
      "Validation accuracy: 34.8%, Validation loss: 2.107806 \n",
      "\n",
      "Epoch 2\n",
      "-------------------------------\n"
     ]
    },
    {
     "data": {
      "text/plain": [
       "'[50000/50000] Loss: 2.268332'"
      ]
     },
     "metadata": {},
     "output_type": "display_data"
    },
    {
     "name": "stderr",
     "output_type": "stream",
     "text": [
      "                                                          \r"
     ]
    },
    {
     "name": "stdout",
     "output_type": "stream",
     "text": [
      "Validation accuracy: 37.0%, Validation loss: 2.086396 \n",
      "\n",
      "Epoch 3\n",
      "-------------------------------\n"
     ]
    },
    {
     "data": {
      "text/plain": [
       "'[50000/50000] Loss: 1.990736'"
      ]
     },
     "metadata": {},
     "output_type": "display_data"
    },
    {
     "name": "stderr",
     "output_type": "stream",
     "text": [
      "                                                          \r"
     ]
    },
    {
     "name": "stdout",
     "output_type": "stream",
     "text": [
      "Validation accuracy: 37.9%, Validation loss: 2.078493 \n",
      "\n",
      "Epoch 4\n",
      "-------------------------------\n"
     ]
    },
    {
     "data": {
      "text/plain": [
       "'[50000/50000] Loss: 2.143532'"
      ]
     },
     "metadata": {},
     "output_type": "display_data"
    },
    {
     "name": "stderr",
     "output_type": "stream",
     "text": [
      "                                                          \r"
     ]
    },
    {
     "name": "stdout",
     "output_type": "stream",
     "text": [
      "Validation accuracy: 34.4%, Validation loss: 2.110508 \n",
      "\n",
      "Epoch 5\n",
      "-------------------------------\n"
     ]
    },
    {
     "data": {
      "text/plain": [
       "'[50000/50000] Loss: 2.070821'"
      ]
     },
     "metadata": {},
     "output_type": "display_data"
    },
    {
     "name": "stderr",
     "output_type": "stream",
     "text": [
      "                                                          \r"
     ]
    },
    {
     "name": "stdout",
     "output_type": "stream",
     "text": [
      "Validation accuracy: 38.1%, Validation loss: 2.076551 \n",
      "\n",
      "Epoch 6\n",
      "-------------------------------\n"
     ]
    },
    {
     "data": {
      "text/plain": [
       "'[50000/50000] Loss: 1.871023'"
      ]
     },
     "metadata": {},
     "output_type": "display_data"
    },
    {
     "name": "stderr",
     "output_type": "stream",
     "text": [
      "                                                          \r"
     ]
    },
    {
     "name": "stdout",
     "output_type": "stream",
     "text": [
      "Validation accuracy: 42.0%, Validation loss: 2.035971 \n",
      "\n",
      "Epoch 7\n",
      "-------------------------------\n"
     ]
    },
    {
     "data": {
      "text/plain": [
       "'[50000/50000] Loss: 2.163346'"
      ]
     },
     "metadata": {},
     "output_type": "display_data"
    },
    {
     "name": "stderr",
     "output_type": "stream",
     "text": [
      "                                                          \r"
     ]
    },
    {
     "name": "stdout",
     "output_type": "stream",
     "text": [
      "Validation accuracy: 42.7%, Validation loss: 2.026628 \n",
      "\n",
      "Epoch 8\n",
      "-------------------------------\n"
     ]
    },
    {
     "data": {
      "text/plain": [
       "'[50000/50000] Loss: 2.078297'"
      ]
     },
     "metadata": {},
     "output_type": "display_data"
    },
    {
     "name": "stderr",
     "output_type": "stream",
     "text": [
      "                                                          \r"
     ]
    },
    {
     "name": "stdout",
     "output_type": "stream",
     "text": [
      "Validation accuracy: 43.4%, Validation loss: 2.024315 \n",
      "\n",
      "Epoch 9\n",
      "-------------------------------\n"
     ]
    },
    {
     "data": {
      "text/plain": [
       "'[50000/50000] Loss: 2.040515'"
      ]
     },
     "metadata": {},
     "output_type": "display_data"
    },
    {
     "name": "stderr",
     "output_type": "stream",
     "text": [
      "                                                          \r"
     ]
    },
    {
     "name": "stdout",
     "output_type": "stream",
     "text": [
      "Validation accuracy: 44.6%, Validation loss: 2.013108 \n",
      "\n",
      "Epoch 10\n",
      "-------------------------------\n"
     ]
    },
    {
     "data": {
      "text/plain": [
       "'[50000/50000] Loss: 2.018088'"
      ]
     },
     "metadata": {},
     "output_type": "display_data"
    },
    {
     "name": "stderr",
     "output_type": "stream",
     "text": [
      "                                                          \r"
     ]
    },
    {
     "name": "stdout",
     "output_type": "stream",
     "text": [
      "Validation accuracy: 44.0%, Validation loss: 2.018715 \n",
      "\n",
      "CPU times: user 4min 44s, sys: 10.8 s, total: 4min 55s\n",
      "Wall time: 4min 57s\n"
     ]
    }
   ],
   "source": [
    "%time net.run(10)"
   ]
  },
  {
   "cell_type": "code",
   "execution_count": 131,
   "id": "7dbea791",
   "metadata": {},
   "outputs": [
    {
     "data": {
      "image/png": "[encoded data removed]",
      "text/plain": [
       "<Figure size 1152x432 with 2 Axes>"
      ]
     },
     "metadata": {
      "needs_background": "light"
     },
     "output_type": "display_data"
    }
   ],
   "source": [
    "net.plot()"
   ]
  },
  {
   "cell_type": "markdown",
   "id": "d4d7dcd7",
   "metadata": {},
   "source": [
    "## PyTorchLightning"
   ]
  },
  {
   "cell_type": "code",
   "execution_count": 7,
   "id": "840fdf03",
   "metadata": {},
   "outputs": [],
   "source": [
    "import os\n",
    "import torch\n",
    "from torch import nn\n",
    "import torch.nn.functional as F\n",
    "from torchvision import transforms\n",
    "from torchvision.datasets import MNIST\n",
    "from torch.utils.data import DataLoader, random_split\n",
    "import pytorch_lightning as pl"
   ]
  },
  {
   "cell_type": "markdown",
   "id": "a4ef6eda",
   "metadata": {},
   "source": [
    "## PyTorchLightning module template:"
   ]
  },
  {
   "cell_type": "raw",
   "id": "be84e625",
   "metadata": {},
   "source": [
    "class Net(pl.LightningModule):\n",
    "    def __init__(self):\n",
    "        super().__init__()\n",
    "\n",
    "    def forward(self, x):\n",
    "        return x\n",
    "    \n",
    "    def training_step(self, batch, batch_idx):\n",
    "        x, y = batch\n",
    "        y_hat = self(x)\n",
    "        loss = F.cross_entropy(y_hat, y)\n",
    "        self.log(\"train_loss\", loss, on_step=True, on_epoch=True, prog_bar=True, logger=True)\n",
    "        return loss\n",
    "\n",
    "    def configure_optimizers(self):\n",
    "        return torch.optim.Adam(self.parameters(), lr=0.02)"
   ]
  },
  {
   "cell_type": "code",
   "execution_count": 8,
   "id": "4e01e567",
   "metadata": {},
   "outputs": [],
   "source": [
    "import pytorch_lightning as pl\n",
    "import torch.nn as nn\n",
    "import torch.nn.functional as F\n",
    "\n",
    "\n",
    "class LitMobileNet(pl.LightningModule):\n",
    "    def __init__(self, input_width, classes_count, input_channels=3, width=32):\n",
    "        super().__init__()\n",
    "        self.mobile_net = MobileNet(input_width, classes_count, input_channels, width)\n",
    "\n",
    "    def forward(self, x):\n",
    "        return self.mobile_net(x)\n",
    "\n",
    "    def training_step(self, batch, batch_idx):\n",
    "        x, y = batch\n",
    "        y_hat = self(x)\n",
    "        loss = F.cross_entropy(y_hat, y)\n",
    "        self.log(\"train_loss\", loss, on_step=True, on_epoch=True, prog_bar=True, logger=True)\n",
    "        return loss\n",
    "\n",
    "    def configure_optimizers(self):\n",
    "        return torch.optim.Adam(self.parameters(), lr=0.02)"
   ]
  },
  {
   "cell_type": "code",
   "execution_count": 9,
   "id": "e138b9e3",
   "metadata": {},
   "outputs": [],
   "source": [
    "from pytorch_lightning.loggers import WandbLogger\n",
    "\n",
    "wandb_logger = WandbLogger()"
   ]
  },
  {
   "cell_type": "code",
   "execution_count": 10,
   "id": "a6c5bfbe",
   "metadata": {},
   "outputs": [
    {
     "name": "stderr",
     "output_type": "stream",
     "text": [
      "GPU available: True, used: True\n",
      "TPU available: False, using: 0 TPU cores\n",
      "IPU available: False, using: 0 IPUs\n",
      "LOCAL_RANK: 0 - CUDA_VISIBLE_DEVICES: [0,1,2,3,4,5,6]\n",
      "\n",
      "  | Name       | Type      | Params\n",
      "-----------------------------------------\n",
      "0 | mobile_net | MobileNet | 3.2 M \n",
      "-----------------------------------------\n",
      "3.2 M     Trainable params\n",
      "0         Non-trainable params\n",
      "3.2 M     Total params\n",
      "12.869    Total estimated model params size (MB)\n",
      "/external2/dkkoshman/venv/lib/python3.6/site-packages/pytorch_lightning/trainer/data_loading.py:133: UserWarning: The dataloader, train_dataloader, does not have many workers which may be a bottleneck. Consider increasing the value of the `num_workers` argument` (try 72 which is the number of cpus on this machine) in the `DataLoader` init to improve performance.\n",
      "  f\"The dataloader, {name}, does not have many workers which may be a bottleneck.\"\n"
     ]
    },
    {
     "data": {
      "application/vnd.jupyter.widget-view+json": {
       "model_id": "b227df77f5c64c0b8c1d921ce67bf57b",
       "version_major": 2,
       "version_minor": 0
      },
      "text/plain": [
       "Training: 0it [00:00, ?it/s]"
      ]
     },
     "metadata": {},
     "output_type": "display_data"
    },
    {
     "name": "stderr",
     "output_type": "stream",
     "text": [
      "\u001b[34m\u001b[1mwandb\u001b[0m: You can find your API key in your browser here: https://wandb.ai/authorize\n"
     ]
    },
    {
     "name": "stdout",
     "output_type": "stream",
     "text": [
      "wandb: Paste an API key from your profile and hit enter, or press ctrl+c to quit: ········\n"
     ]
    },
    {
     "name": "stderr",
     "output_type": "stream",
     "text": [
      "\u001b[34m\u001b[1mwandb\u001b[0m: \u001b[32m\u001b[41mERROR\u001b[0m API key must be 40 characters long, yours was 8\n",
      "\u001b[34m\u001b[1mwandb\u001b[0m: You can find your API key in your browser here: https://wandb.ai/authorize\n"
     ]
    },
    {
     "name": "stdout",
     "output_type": "stream",
     "text": [
      "wandb: Paste an API key from your profile and hit enter, or press ctrl+c to quit: ········\n"
     ]
    },
    {
     "name": "stderr",
     "output_type": "stream",
     "text": [
      "\u001b[34m\u001b[1mwandb\u001b[0m: Appending key for api.wandb.ai to your netrc file: /home/dkkoshman/.netrc\n",
      "\u001b[34m\u001b[1mwandb\u001b[0m: \u001b[32m\u001b[41mERROR\u001b[0m Unable to read ~/.netrc\n"
     ]
    },
    {
     "data": {
      "text/html": [
       "Tracking run with wandb version 0.12.14"
      ],
      "text/plain": [
       "<IPython.core.display.HTML object>"
      ]
     },
     "metadata": {},
     "output_type": "display_data"
    },
    {
     "data": {
      "text/html": [
       "Run data is saved locally in <code>/external2/dkkoshman/Notebooks/ML/wandb/run-20220411_072319-1x232at0</code>"
      ],
      "text/plain": [
       "<IPython.core.display.HTML object>"
      ]
     },
     "metadata": {},
     "output_type": "display_data"
    },
    {
     "data": {
      "text/html": [
       "Syncing run <strong><a href=\"https://wandb.ai/dkoshman/uncategorized/runs/1x232at0\" target=\"_blank\">sage-fog-1</a></strong> to <a href=\"https://wandb.ai/dkoshman/uncategorized\" target=\"_blank\">Weights & Biases</a> (<a href=\"https://wandb.me/run\" target=\"_blank\">docs</a>)<br/>"
      ],
      "text/plain": [
       "<IPython.core.display.HTML object>"
      ]
     },
     "metadata": {},
     "output_type": "display_data"
    }
   ],
   "source": [
    "trainer = pl.Trainer(max_epochs=1, accelerator='gpu', gpus=1, logger=wandb_logger)\n",
    "model = LitMobileNet(32, 10)"
   ]
  },
  {
   "cell_type": "code",
   "execution_count": 11,
   "id": "b5c08e68",
   "metadata": {},
   "outputs": [
    {
     "name": "stderr",
     "output_type": "stream",
     "text": [
      "LOCAL_RANK: 0 - CUDA_VISIBLE_DEVICES: [0,1,2,3,4,5,6]\n",
      "\n",
      "  | Name       | Type      | Params\n",
      "-----------------------------------------\n",
      "0 | mobile_net | MobileNet | 3.2 M \n",
      "-----------------------------------------\n",
      "3.2 M     Trainable params\n",
      "0         Non-trainable params\n",
      "3.2 M     Total params\n",
      "12.869    Total estimated model params size (MB)\n",
      "/external2/dkkoshman/venv/lib/python3.6/site-packages/pytorch_lightning/callbacks/model_checkpoint.py:631: UserWarning: Checkpoint directory /external2/dkkoshman/Notebooks/ML/None/version_None/checkpoints exists and is not empty.\n",
      "  rank_zero_warn(f\"Checkpoint directory {dirpath} exists and is not empty.\")\n",
      "/external2/dkkoshman/venv/lib/python3.6/site-packages/pytorch_lightning/trainer/data_loading.py:133: UserWarning: The dataloader, train_dataloader, does not have many workers which may be a bottleneck. Consider increasing the value of the `num_workers` argument` (try 72 which is the number of cpus on this machine) in the `DataLoader` init to improve performance.\n",
      "  f\"The dataloader, {name}, does not have many workers which may be a bottleneck.\"\n"
     ]
    },
    {
     "data": {
      "application/vnd.jupyter.widget-view+json": {
       "model_id": "e2a112fb898942d9a55fef1353205a04",
       "version_major": 2,
       "version_minor": 0
      },
      "text/plain": [
       "Training: 0it [00:00, ?it/s]"
      ]
     },
     "metadata": {},
     "output_type": "display_data"
    }
   ],
   "source": [
    "trainer.fit(model, train_dataloaders=train_dataloader)"
   ]
  },
  {
   "cell_type": "code",
   "execution_count": null,
   "id": "ab4c1f43",
   "metadata": {},
   "outputs": [],
   "source": []
  }
 ],
 "metadata": {
  "kernelspec": {
   "display_name": "Python 3 (ipykernel)",
   "language": "python",
   "name": "python3"
  },
  "language_info": {
   "codemirror_mode": {
    "name": "ipython",
    "version": 3
   },
   "file_extension": ".py",
   "mimetype": "text/x-python",
   "name": "python",
   "nbconvert_exporter": "python",
   "pygments_lexer": "ipython3",
   "version": "3.10.4"
  }
 },
 "nbformat": 4,
 "nbformat_minor": 5
}
