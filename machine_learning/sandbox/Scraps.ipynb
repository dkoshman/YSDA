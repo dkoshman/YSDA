{
 "cells": [
  {
   "cell_type": "code",
   "execution_count": 128,
   "id": "1f72d889",
   "metadata": {
    "ExecuteTime": {
     "end_time": "2022-07-18T13:51:35.090221Z",
     "start_time": "2022-07-18T13:51:35.007891Z"
    }
   },
   "outputs": [
    {
     "data": {
      "application/javascript": [
       "\n",
       "            setTimeout(function() {\n",
       "                var nbb_cell_id = 128;\n",
       "                var nbb_unformatted_code = \"%load_ext nb_black\";\n",
       "                var nbb_formatted_code = \"%load_ext nb_black\";\n",
       "                var nbb_cells = Jupyter.notebook.get_cells();\n",
       "                for (var i = 0; i < nbb_cells.length; ++i) {\n",
       "                    if (nbb_cells[i].input_prompt_number == nbb_cell_id) {\n",
       "                        if (nbb_cells[i].get_text() == nbb_unformatted_code) {\n",
       "                             nbb_cells[i].set_text(nbb_formatted_code);\n",
       "                        }\n",
       "                        break;\n",
       "                    }\n",
       "                }\n",
       "            }, 500);\n",
       "            "
      ],
      "text/plain": [
       "<IPython.core.display.Javascript object>"
      ]
     },
     "metadata": {},
     "output_type": "display_data"
    }
   ],
   "source": [
    "%load_ext nb_black"
   ]
  },
  {
   "cell_type": "code",
   "execution_count": null,
   "id": "675f9712",
   "metadata": {},
   "outputs": [],
   "source": []
  },
  {
   "cell_type": "code",
   "execution_count": 979,
   "id": "b6c16176",
   "metadata": {
    "ExecuteTime": {
     "end_time": "2022-07-23T17:48:04.328690Z",
     "start_time": "2022-07-23T17:48:04.259719Z"
    }
   },
   "outputs": [
    {
     "ename": "LinAlgError",
     "evalue": "Last 2 dimensions of the array must be square",
     "output_type": "error",
     "traceback": [
      "\u001b[0;31m---------------------------------------------------------------------------\u001b[0m",
      "\u001b[0;31mLinAlgError\u001b[0m                               Traceback (most recent call last)",
      "Input \u001b[0;32mIn [979]\u001b[0m, in \u001b[0;36m<cell line: 1>\u001b[0;34m()\u001b[0m\n\u001b[0;32m----> 1\u001b[0m \u001b[38;5;28;01mfor\u001b[39;00m eigenvalue, eigenvector \u001b[38;5;129;01min\u001b[39;00m \u001b[38;5;28mzip\u001b[39m(\u001b[38;5;241m*\u001b[39m\u001b[43mnp\u001b[49m\u001b[38;5;241;43m.\u001b[39;49m\u001b[43mlinalg\u001b[49m\u001b[38;5;241;43m.\u001b[39;49m\u001b[43meig\u001b[49m\u001b[43m(\u001b[49m\u001b[43mx\u001b[49m\u001b[43m)\u001b[49m):\n\u001b[1;32m      2\u001b[0m     \u001b[38;5;28mprint\u001b[39m(eigenvalue, eigenvector)\n",
      "File \u001b[0;32m<__array_function__ internals>:180\u001b[0m, in \u001b[0;36meig\u001b[0;34m(*args, **kwargs)\u001b[0m\n",
      "File \u001b[0;32m/external2/dkkoshman/venv3.10/lib/python3.10/site-packages/numpy/linalg/linalg.py:1304\u001b[0m, in \u001b[0;36meig\u001b[0;34m(a)\u001b[0m\n\u001b[1;32m   1302\u001b[0m a, wrap \u001b[38;5;241m=\u001b[39m _makearray(a)\n\u001b[1;32m   1303\u001b[0m _assert_stacked_2d(a)\n\u001b[0;32m-> 1304\u001b[0m \u001b[43m_assert_stacked_square\u001b[49m\u001b[43m(\u001b[49m\u001b[43ma\u001b[49m\u001b[43m)\u001b[49m\n\u001b[1;32m   1305\u001b[0m _assert_finite(a)\n\u001b[1;32m   1306\u001b[0m t, result_t \u001b[38;5;241m=\u001b[39m _commonType(a)\n",
      "File \u001b[0;32m/external2/dkkoshman/venv3.10/lib/python3.10/site-packages/numpy/linalg/linalg.py:203\u001b[0m, in \u001b[0;36m_assert_stacked_square\u001b[0;34m(*arrays)\u001b[0m\n\u001b[1;32m    201\u001b[0m m, n \u001b[38;5;241m=\u001b[39m a\u001b[38;5;241m.\u001b[39mshape[\u001b[38;5;241m-\u001b[39m\u001b[38;5;241m2\u001b[39m:]\n\u001b[1;32m    202\u001b[0m \u001b[38;5;28;01mif\u001b[39;00m m \u001b[38;5;241m!=\u001b[39m n:\n\u001b[0;32m--> 203\u001b[0m     \u001b[38;5;28;01mraise\u001b[39;00m LinAlgError(\u001b[38;5;124m'\u001b[39m\u001b[38;5;124mLast 2 dimensions of the array must be square\u001b[39m\u001b[38;5;124m'\u001b[39m)\n",
      "\u001b[0;31mLinAlgError\u001b[0m: Last 2 dimensions of the array must be square"
     ]
    }
   ],
   "source": []
  },
  {
   "cell_type": "code",
   "execution_count": 491,
   "id": "ddf01529",
   "metadata": {
    "ExecuteTime": {
     "end_time": "2022-07-22T13:51:40.014475Z",
     "start_time": "2022-07-22T13:51:40.009520Z"
    }
   },
   "outputs": [],
   "source": [
    "y = np.random.randn(3)"
   ]
  },
  {
   "cell_type": "code",
   "execution_count": 1047,
   "id": "83141569",
   "metadata": {
    "ExecuteTime": {
     "end_time": "2022-07-23T20:03:23.338446Z",
     "start_time": "2022-07-23T20:03:23.329169Z"
    }
   },
   "outputs": [],
   "source": [
    "def solve_linear_equations(A, y):\n",
    "    rank = np.linalg.matrix_rank(A)\n",
    "    expanded_rank = np.linalg.matrix_rank(np.hstack([A, y[:, None]]))\n",
    "    if expanded_rank > rank:\n",
    "        return \"NO\", None\n",
    "    if rank < A.shape[1]:\n",
    "        return \"INF\", None\n",
    "    \n",
    "    u, s, v = np.linalg.svd(A)\n",
    "    x = np.linalg.inv(v) @ (np.linalg.inv(u) @ y / s)\n",
    "    return \"YES\", x\n",
    "    "
   ]
  },
  {
   "cell_type": "code",
   "execution_count": 1050,
   "id": "13bd636f",
   "metadata": {
    "ExecuteTime": {
     "end_time": "2022-07-23T20:04:11.737650Z",
     "start_time": "2022-07-23T20:04:11.729702Z"
    }
   },
   "outputs": [
    {
     "name": "stdout",
     "output_type": "stream",
     "text": [
      "YES\n",
      "0.26086956521739124 0.04347826086956519 -0.13043478260869537\n"
     ]
    }
   ],
   "source": [
    "answer, solution = solve_linear_equations(x, y)\n",
    "print(answer)\n",
    "if solution is not None:\n",
    "    print(*solution)"
   ]
  },
  {
   "cell_type": "code",
   "execution_count": 1006,
   "id": "e1202e23",
   "metadata": {
    "ExecuteTime": {
     "end_time": "2022-07-23T19:39:45.267643Z",
     "start_time": "2022-07-23T19:39:45.257228Z"
    }
   },
   "outputs": [
    {
     "name": "stdout",
     "output_type": "stream",
     "text": [
      "(4.440892098500626e-16+0j) [-0.27415056 -0.40999859 -0.40999859  1.        ]\n"
     ]
    },
    {
     "name": "stderr",
     "output_type": "stream",
     "text": [
      "/tmp/ipykernel_37844/3321589851.py:10: ComplexWarning: Casting complex values to real discards the imaginary part\n",
      "  w = np.array(list(map(float, eigenvector/eigenvector[-1])))\n"
     ]
    }
   ],
   "source": [
    "if np.linalg.matrix_rank(x[:,:3]) < np.linalg.matrix_rank(x):\n",
    "    print(\"NO\")\n",
    "    \n",
    "if np.linalg.matrix_rank(x) < x.shape[1] - 1:\n",
    "    print(\"INF\")\n",
    "\n",
    "xx = np.linalg.eig(np.vstack([x, x[-1, :]]))\n",
    "for eigenvalue, eigenvector in zip(*xx):\n",
    "    if abs(eigenvalue) < 1e-5:\n",
    "        w = np.array(list(map(float, eigenvector/eigenvector[-1])))\n",
    "        print(eigenvalue, w)\n"
   ]
  },
  {
   "cell_type": "code",
   "execution_count": 1030,
   "id": "b2cc891a",
   "metadata": {
    "ExecuteTime": {
     "end_time": "2022-07-23T19:55:52.178229Z",
     "start_time": "2022-07-23T19:55:52.172989Z"
    }
   },
   "outputs": [],
   "source": []
  },
  {
   "cell_type": "code",
   "execution_count": 1029,
   "id": "03abf497",
   "metadata": {
    "ExecuteTime": {
     "end_time": "2022-07-23T19:55:24.121792Z",
     "start_time": "2022-07-23T19:55:24.112868Z"
    }
   },
   "outputs": [
    {
     "data": {
      "text/plain": [
       "array([ 0.26086957,  0.04347826, -0.13043478])"
      ]
     },
     "execution_count": 1029,
     "metadata": {},
     "output_type": "execute_result"
    }
   ],
   "source": [
    "np.linalg.inv(vh) @ (np.linalg.inv(u) @ y / s)"
   ]
  },
  {
   "cell_type": "code",
   "execution_count": 1052,
   "id": "a1e10f8f",
   "metadata": {
    "ExecuteTime": {
     "end_time": "2022-07-23T20:06:29.664688Z",
     "start_time": "2022-07-23T20:06:29.660267Z"
    }
   },
   "outputs": [
    {
     "data": {
      "text/plain": [
       "array([[1],\n",
       "       [9],\n",
       "       [3]])"
      ]
     },
     "execution_count": 1052,
     "metadata": {},
     "output_type": "execute_result"
    }
   ],
   "source": [
    "x[:, -1:]"
   ]
  },
  {
   "cell_type": "code",
   "execution_count": 1060,
   "id": "a69a9a84",
   "metadata": {
    "ExecuteTime": {
     "end_time": "2022-07-23T20:14:49.641936Z",
     "start_time": "2022-07-23T20:14:49.636059Z"
    }
   },
   "outputs": [
    {
     "data": {
      "text/plain": [
       "(array([[-0.70710678, -0.70710678],\n",
       "        [-0.70710678,  0.70710678]]),\n",
       " array([5.29150262e+00, 4.44089210e-16]),\n",
       " array([[-0.26726124, -0.53452248, -0.80178373],\n",
       "        [ 0.94491118, -0.30854944, -0.10927077],\n",
       "        [-0.18898224, -0.78681825,  0.58753958]]))"
      ]
     },
     "execution_count": 1060,
     "metadata": {},
     "output_type": "execute_result"
    }
   ],
   "source": [
    "np.linalg.svd([[1, 2,3],[1,2,3]])"
   ]
  },
  {
   "cell_type": "code",
   "execution_count": 1020,
   "id": "e3962f55",
   "metadata": {
    "ExecuteTime": {
     "end_time": "2022-07-23T19:53:28.578757Z",
     "start_time": "2022-07-23T19:53:21.494816Z"
    }
   },
   "outputs": [
    {
     "name": "stdout",
     "output_type": "stream",
     "text": [
      "3 3\n",
      "4 2 1 1\n",
      "7 8 9 1\n",
      "9 1 3 2\n"
     ]
    }
   ],
   "source": [
    "n, m = map(int, input().split())\n",
    "x = []\n",
    "for _ in range(n):\n",
    "    x.append(list(map(int, input().split())))\n",
    "x = np.array(x)"
   ]
  },
  {
   "cell_type": "code",
   "execution_count": 1010,
   "id": "b7398fd1",
   "metadata": {
    "ExecuteTime": {
     "end_time": "2022-07-23T19:41:16.604990Z",
     "start_time": "2022-07-23T19:41:16.597211Z"
    }
   },
   "outputs": [
    {
     "data": {
      "text/plain": [
       "array([[ 4,  2,  1, -1],\n",
       "       [ 7,  8,  9, -1],\n",
       "       [ 9,  1,  3, -2]])"
      ]
     },
     "execution_count": 1010,
     "metadata": {},
     "output_type": "execute_result"
    }
   ],
   "source": [
    "x"
   ]
  },
  {
   "cell_type": "code",
   "execution_count": 743,
   "id": "2a05df14",
   "metadata": {
    "ExecuteTime": {
     "end_time": "2022-07-22T15:19:53.477851Z",
     "start_time": "2022-07-22T15:19:53.465882Z"
    }
   },
   "outputs": [
    {
     "data": {
      "text/plain": [
       "0.0001"
      ]
     },
     "execution_count": 743,
     "metadata": {},
     "output_type": "execute_result"
    }
   ],
   "source": [
    "scheduler(1000)"
   ]
  },
  {
   "cell_type": "code",
   "execution_count": 941,
   "id": "726dd5c4",
   "metadata": {
    "ExecuteTime": {
     "end_time": "2022-07-23T17:02:50.695065Z",
     "start_time": "2022-07-23T17:02:50.688915Z"
    }
   },
   "outputs": [],
   "source": [
    "edges = np.histogram(x)[1]"
   ]
  },
  {
   "cell_type": "code",
   "execution_count": 944,
   "id": "24401d8b",
   "metadata": {
    "ExecuteTime": {
     "end_time": "2022-07-23T17:03:33.126181Z",
     "start_time": "2022-07-23T17:03:33.121429Z"
    }
   },
   "outputs": [
    {
     "data": {
      "text/plain": [
       "0"
      ]
     },
     "execution_count": 944,
     "metadata": {},
     "output_type": "execute_result"
    }
   ],
   "source": [
    "(np.array(x) == 1).sum()"
   ]
  },
  {
   "cell_type": "code",
   "execution_count": 945,
   "id": "3b799d3c",
   "metadata": {
    "ExecuteTime": {
     "end_time": "2022-07-23T17:03:42.753665Z",
     "start_time": "2022-07-23T17:03:42.747998Z"
    }
   },
   "outputs": [],
   "source": [
    "i = []\n",
    "for edge in edges:\n",
    "    i.append((np.array(x) == edge).sum())"
   ]
  },
  {
   "cell_type": "code",
   "execution_count": 951,
   "id": "32021ea9",
   "metadata": {
    "ExecuteTime": {
     "end_time": "2022-07-23T17:05:39.629782Z",
     "start_time": "2022-07-23T17:05:39.621099Z"
    },
    "collapsed": true
   },
   "outputs": [
    {
     "data": {
      "text/plain": [
       "[4.6,\n",
       " 7.7,\n",
       " 6.7,\n",
       " 6.7,\n",
       " 6.1,\n",
       " 6.7,\n",
       " 5.5,\n",
       " 7.2,\n",
       " 4.9,\n",
       " 7.0,\n",
       " 7.9,\n",
       " 6.3,\n",
       " 5.1,\n",
       " 7.4,\n",
       " 5.7,\n",
       " 5.9,\n",
       " 6.2,\n",
       " 4.8,\n",
       " 5.0,\n",
       " 5.5,\n",
       " 6.3,\n",
       " 6.6,\n",
       " 6.1,\n",
       " 7.7,\n",
       " 5.0,\n",
       " 4.8,\n",
       " 6.5,\n",
       " 4.7,\n",
       " 6.7,\n",
       " 5.7,\n",
       " 4.6,\n",
       " 5.0,\n",
       " 6.0,\n",
       " 6.6,\n",
       " 4.9,\n",
       " 5.4,\n",
       " 5.7,\n",
       " 6.3,\n",
       " 5.0,\n",
       " 4.5,\n",
       " 4.3,\n",
       " 4.4,\n",
       " 6.4,\n",
       " 6.0,\n",
       " 5.0,\n",
       " 5.8,\n",
       " 5.5,\n",
       " 6.2,\n",
       " 4.8,\n",
       " 6.3,\n",
       " 5.2,\n",
       " 4.3,\n",
       " 5.4,\n",
       " 5.0,\n",
       " 6.5,\n",
       " 4.8,\n",
       " 7.0,\n",
       " 4.4,\n",
       " 5.0,\n",
       " 5.2,\n",
       " 4.9,\n",
       " 7.4,\n",
       " 5.8,\n",
       " 5.7,\n",
       " 4.5,\n",
       " 5.9,\n",
       " 5.7,\n",
       " 6.0,\n",
       " 5.0,\n",
       " 5.9,\n",
       " 5.8,\n",
       " 6.0,\n",
       " 6.3,\n",
       " 5.6,\n",
       " 6.7,\n",
       " 7.9,\n",
       " 6.8,\n",
       " 5.5,\n",
       " 6.0,\n",
       " 5.0,\n",
       " 6.5,\n",
       " 5.1,\n",
       " 5.6,\n",
       " 5.1,\n",
       " 5.9,\n",
       " 6.4,\n",
       " 5.1,\n",
       " 7.1,\n",
       " 6.4,\n",
       " 5.7,\n",
       " 5.1,\n",
       " 6.1,\n",
       " 4.4,\n",
       " 6.4,\n",
       " 7.7,\n",
       " 6.3,\n",
       " 5.4,\n",
       " 6.7,\n",
       " 6.1,\n",
       " 6.3,\n",
       " 4.5,\n",
       " 4.8,\n",
       " 5.8,\n",
       " 7.9,\n",
       " 6.0,\n",
       " 6.3,\n",
       " 4.6,\n",
       " 5.9,\n",
       " 7.7,\n",
       " 6.8,\n",
       " 5.9,\n",
       " 6.4,\n",
       " 5.6,\n",
       " 4.6,\n",
       " 4.7,\n",
       " 5.1,\n",
       " 5.2,\n",
       " 6.4,\n",
       " 6.2,\n",
       " 4.9,\n",
       " 5.7,\n",
       " 5.1,\n",
       " 5.8,\n",
       " 6.3,\n",
       " 5.4,\n",
       " 4.9,\n",
       " 4.4,\n",
       " 6.9,\n",
       " 6.8,\n",
       " 6.5,\n",
       " 5.7,\n",
       " 6.1,\n",
       " 5.1,\n",
       " 6.8,\n",
       " 6.3,\n",
       " 7.2,\n",
       " 5.1,\n",
       " 5.4,\n",
       " 5.4,\n",
       " 7.1,\n",
       " 4.8,\n",
       " 5.1,\n",
       " 5.2,\n",
       " 6.5,\n",
       " 6.3,\n",
       " 6.8,\n",
       " 5.1,\n",
       " 5.7,\n",
       " 6.1,\n",
       " 5.8]"
      ]
     },
     "execution_count": 951,
     "metadata": {},
     "output_type": "execute_result"
    }
   ],
   "source": [
    "x"
   ]
  },
  {
   "cell_type": "code",
   "execution_count": 959,
   "id": "0e89ceda",
   "metadata": {
    "ExecuteTime": {
     "end_time": "2022-07-23T17:12:13.118597Z",
     "start_time": "2022-07-23T17:12:11.690884Z"
    }
   },
   "outputs": [
    {
     "name": "stdout",
     "output_type": "stream",
     "text": [
      "123\n",
      "123.0 degrees Fahrenheit is 50.55555555555556 degrees Celsius\n"
     ]
    }
   ],
   "source": [
    "f = int(input())\n",
    "print(f\"{f:.1f} degrees Fahrenheit is {5/9*(f-32)} degrees Celsius\")"
   ]
  },
  {
   "cell_type": "code",
   "execution_count": 949,
   "id": "6625e50d",
   "metadata": {
    "ExecuteTime": {
     "end_time": "2022-07-23T17:05:16.143961Z",
     "start_time": "2022-07-23T17:05:16.137046Z"
    }
   },
   "outputs": [
    {
     "name": "stdout",
     "output_type": "stream",
     "text": [
      "13 22 15 22 18 26 18 5 4 7\n"
     ]
    }
   ],
   "source": [
    "print(*np.histogram(x + [min(x) - 1e-5])[0])"
   ]
  },
  {
   "cell_type": "code",
   "execution_count": 955,
   "id": "6e9bbb4c",
   "metadata": {
    "ExecuteTime": {
     "end_time": "2022-07-23T17:06:34.362134Z",
     "start_time": "2022-07-23T17:06:34.356476Z"
    }
   },
   "outputs": [],
   "source": [
    "x = []\n",
    "for line in s.splitlines():\n",
    "    x.append(float(line.split()[0]))"
   ]
  },
  {
   "cell_type": "code",
   "execution_count": 954,
   "id": "4476cad0",
   "metadata": {
    "ExecuteTime": {
     "end_time": "2022-07-23T17:06:32.875850Z",
     "start_time": "2022-07-23T17:06:32.865525Z"
    }
   },
   "outputs": [],
   "source": [
    "s = \"\"\"5.0\t3.4\t1.6\t0.4\tI.setosa\n",
    "6.7\t3.1\t4.7\t1.5\tI.versicolor\n",
    "7.7\t2.6\t6.9\t2.3\tI.virginica\n",
    "6.2\t3.4\t5.4\t2.3\tI.virginica\n",
    "5.7\t3.0\t4.2\t1.2\tI.versicolor\n",
    "5.7\t2.9\t4.2\t1.3\tI.versicolor\n",
    "6.2\t2.9\t4.3\t1.3\tI.versicolor\n",
    "6.2\t2.2\t4.5\t1.5\tI.versicolor\n",
    "4.4\t3.2\t1.3\t0.2\tI.setosa\n",
    "5.2\t4.1\t1.5\t0.1\tI.setosa\n",
    "7.2\t3.6\t6.1\t2.5\tI.virginica\n",
    "5.7\t2.5\t5.0\t2.0\tI.virginica\n",
    "5.0\t3.3\t1.4\t0.2\tI.setosa\n",
    "5.0\t3.3\t1.4\t0.2\tI.setosa\n",
    "6.1\t3.0\t4.6\t1.4\tI.versicolor\n",
    "5.4\t3.4\t1.7\t0.2\tI.setosa\n",
    "5.0\t3.4\t1.5\t0.2\tI.setosa\n",
    "5.0\t3.0\t1.6\t0.2\tI.setosa\n",
    "5.5\t2.4\t3.7\t1.0\tI.versicolor\n",
    "4.6\t3.4\t1.4\t0.3\tI.setosa\n",
    "5.2\t2.7\t3.9\t1.4\tI.versicolor\n",
    "5.1\t3.7\t1.5\t0.4\tI.setosa\n",
    "5.6\t2.5\t3.9\t1.1\tI.versicolor\n",
    "6.2\t2.8\t4.8\t1.8\tI.virginica\n",
    "6.6\t3.0\t4.4\t1.4\tI.versicolor\n",
    "5.9\t3.0\t4.2\t1.5\tI.versicolor\n",
    "4.9\t3.1\t1.5\t0.1\tI.setosa\n",
    "6.4\t2.8\t5.6\t2.2\tI.virginica\n",
    "5.0\t2.0\t3.5\t1.0\tI.versicolor\n",
    "5.6\t2.5\t3.9\t1.1\tI.versicolor\n",
    "6.5\t3.0\t5.8\t2.2\tI.virginica\n",
    "6.3\t3.3\t4.7\t1.6\tI.versicolor\n",
    "5.2\t3.4\t1.4\t0.2\tI.setosa\n",
    "6.6\t2.9\t4.6\t1.3\tI.versicolor\n",
    "5.7\t3.8\t1.7\t0.3\tI.setosa\n",
    "6.3\t2.8\t5.1\t1.5\tI.virginica\n",
    "5.4\t3.4\t1.7\t0.2\tI.setosa\n",
    "6.7\t3.1\t4.4\t1.4\tI.versicolor\n",
    "7.1\t3.0\t5.9\t2.1\tI.virginica\n",
    "4.5\t2.3\t1.3\t0.3\tI.setosa\n",
    "5.7\t2.8\t4.1\t1.3\tI.versicolor\n",
    "5.1\t3.5\t1.4\t0.1\tI.setosa\n",
    "6.7\t3.3\t5.7\t2.5\tI.virginica\n",
    "5.5\t3.5\t1.3\t0.2\tI.setosa\n",
    "5.4\t3.7\t1.5\t0.2\tI.setosa\n",
    "5.5\t4.2\t1.4\t0.2\tI.setosa\n",
    "5.1\t3.5\t1.4\t0.1\tI.setosa\n",
    "5.2\t3.4\t1.4\t0.2\tI.setosa\n",
    "6.0\t2.9\t4.5\t1.5\tI.versicolor\n",
    "6.3\t2.5\t4.9\t1.5\tI.versicolor\n",
    "7.7\t2.6\t6.9\t2.3\tI.virginica\n",
    "5.8\t2.6\t4.0\t1.2\tI.versicolor\n",
    "5.0\t3.6\t1.4\t0.2\tI.setosa\n",
    "5.7\t2.6\t3.5\t1.0\tI.versicolor\n",
    "4.6\t3.4\t1.4\t0.3\tI.setosa\n",
    "5.0\t3.2\t1.2\t0.2\tI.setosa\n",
    "5.4\t3.4\t1.7\t0.2\tI.setosa\n",
    "6.8\t2.8\t4.8\t1.4\tI.versicolor\n",
    "5.2\t4.1\t1.5\t0.1\tI.setosa\n",
    "5.4\t3.9\t1.7\t0.4\tI.setosa\n",
    "6.1\t2.6\t5.6\t1.4\tI.virginica\n",
    "6.8\t3.2\t5.9\t2.3\tI.virginica\n",
    "5.8\t2.7\t3.9\t1.2\tI.versicolor\n",
    "5.1\t3.3\t1.7\t0.5\tI.setosa\n",
    "6.0\t3.0\t4.8\t1.8\tI.virginica\n",
    "5.8\t2.7\t5.1\t1.9\tI.virginica\n",
    "5.2\t3.5\t1.5\t0.2\tI.setosa\n",
    "5.5\t2.4\t3.7\t1.0\tI.versicolor\n",
    "6.2\t2.2\t4.5\t1.5\tI.versicolor\n",
    "7.2\t3.6\t6.1\t2.5\tI.virginica\n",
    "6.7\t3.3\t5.7\t2.1\tI.virginica\n",
    "5.2\t3.4\t1.4\t0.2\tI.setosa\n",
    "5.9\t3.0\t5.1\t1.8\tI.virginica\n",
    "5.0\t3.5\t1.6\t0.6\tI.setosa\n",
    "5.4\t3.4\t1.7\t0.2\tI.setosa\n",
    "6.1\t2.8\t4.0\t1.3\tI.versicolor\n",
    "5.8\t2.7\t3.9\t1.2\tI.versicolor\n",
    "6.3\t2.5\t4.9\t1.5\tI.versicolor\n",
    "7.2\t3.6\t6.1\t2.5\tI.virginica\n",
    "5.1\t3.3\t1.7\t0.5\tI.setosa\n",
    "6.7\t2.5\t5.8\t1.8\tI.virginica\n",
    "5.4\t3.9\t1.3\t0.4\tI.setosa\n",
    "4.3\t3.0\t1.1\t0.1\tI.setosa\n",
    "4.4\t2.9\t1.4\t0.2\tI.setosa\n",
    "5.0\t3.4\t1.5\t0.2\tI.setosa\n",
    "6.2\t2.2\t4.5\t1.5\tI.versicolor\n",
    "5.8\t2.7\t5.1\t1.9\tI.virginica\n",
    "6.9\t3.1\t5.1\t2.3\tI.virginica\n",
    "6.7\t3.1\t4.4\t1.4\tI.versicolor\n",
    "6.7\t3.1\t4.7\t1.5\tI.versicolor\n",
    "5.5\t2.6\t4.4\t1.2\tI.versicolor\n",
    "5.0\t3.5\t1.6\t0.6\tI.setosa\n",
    "5.4\t3.9\t1.3\t0.4\tI.setosa\n",
    "7.2\t3.0\t5.8\t1.6\tI.virginica\n",
    "6.3\t3.4\t5.6\t2.4\tI.virginica\n",
    "7.9\t3.8\t6.4\t2.0\tI.virginica\n",
    "5.0\t3.5\t1.3\t0.3\tI.setosa\n",
    "5.7\t4.4\t1.5\t0.4\tI.setosa\n",
    "7.6\t3.0\t6.6\t2.1\tI.virginica\n",
    "6.3\t2.5\t4.9\t1.5\tI.versicolor\n",
    "5.0\t3.6\t1.4\t0.2\tI.setosa\n",
    "5.1\t2.5\t3.0\t1.1\tI.versicolor\n",
    "6.0\t3.0\t4.8\t1.8\tI.virginica\n",
    "4.9\t2.5\t4.5\t1.7\tI.virginica\n",
    "4.6\t3.4\t1.4\t0.3\tI.setosa\n",
    "5.5\t4.2\t1.4\t0.2\tI.setosa\n",
    "5.1\t3.4\t1.5\t0.2\tI.setosa\n",
    "6.3\t3.4\t5.6\t2.4\tI.virginica\n",
    "6.0\t3.0\t4.8\t1.8\tI.virginica\n",
    "6.3\t2.9\t5.6\t1.8\tI.virginica\n",
    "5.0\t3.3\t1.4\t0.2\tI.setosa\n",
    "4.8\t3.0\t1.4\t0.3\tI.setosa\n",
    "4.6\t3.4\t1.4\t0.3\tI.setosa\n",
    "5.5\t2.3\t4.0\t1.3\tI.versicolor\n",
    "6.7\t2.5\t5.8\t1.8\tI.virginica\n",
    "5.7\t2.9\t4.2\t1.3\tI.versicolor\n",
    "4.3\t3.0\t1.1\t0.1\tI.setosa\n",
    "5.5\t2.6\t4.4\t1.2\tI.versicolor\n",
    "5.6\t2.9\t3.6\t1.3\tI.versicolor\n",
    "6.1\t2.8\t4.0\t1.3\tI.versicolor\n",
    "6.5\t3.0\t5.5\t1.8\tI.virginica\n",
    "4.9\t3.1\t1.5\t0.1\tI.setosa\n",
    "5.8\t2.8\t5.1\t2.4\tI.virginica\n",
    "5.2\t3.4\t1.4\t0.2\tI.setosa\n",
    "4.4\t3.0\t1.3\t0.2\tI.setosa\n",
    "5.6\t2.9\t3.6\t1.3\tI.versicolor\n",
    "7.1\t3.0\t5.9\t2.1\tI.virginica\n",
    "4.8\t3.0\t1.4\t0.1\tI.setosa\n",
    "6.5\t3.0\t5.8\t2.2\tI.virginica\n",
    "4.7\t3.2\t1.3\t0.2\tI.setosa\n",
    "6.4\t2.9\t4.3\t1.3\tI.versicolor\n",
    "6.0\t3.4\t4.5\t1.6\tI.versicolor\n",
    "5.8\t2.7\t3.9\t1.2\tI.versicolor\n",
    "5.1\t3.4\t1.5\t0.2\tI.setosa\n",
    "4.6\t3.6\t1.0\t0.2\tI.setosa\n",
    "5.8\t2.7\t3.9\t1.2\tI.versicolor\n",
    "5.2\t3.5\t1.5\t0.2\tI.setosa\n",
    "6.5\t3.2\t5.1\t2.0\tI.virginica\n",
    "5.4\t3.9\t1.3\t0.4\tI.setosa\n",
    "5.6\t3.0\t4.1\t1.3\tI.versicolor\n",
    "6.7\t3.0\t5.2\t2.3\tI.virginica\n",
    "6.5\t3.0\t5.5\t1.8\tI.virginica\n",
    "5.7\t2.8\t4.5\t1.3\tI.versicolor\n",
    "5.4\t3.0\t4.5\t1.5\tI.versicolor\n",
    "5.5\t2.5\t4.0\t1.3\tI.versicolor\n",
    "7.1\t3.0\t5.9\t2.1\tI.virginica\n",
    "6.0\t2.2\t5.0\t1.5\tI.virginica\n",
    "6.1\t3.0\t4.9\t1.8\tI.virginica\n",
    "5.2\t4.1\t1.5\t0.1\tI.setosa\n",
    "4.9\t3.6\t1.4\t0.1\tI.setosa\n",
    "\"\"\""
   ]
  },
  {
   "cell_type": "code",
   "execution_count": null,
   "id": "4f5b9155",
   "metadata": {},
   "outputs": [],
   "source": [
    "import subprocess\n",
    "\n",
    "\n",
    "def wccount(filename):\n",
    "    out = subprocess.run(['wc', '-l', filename],\n",
    "                         stdout=subprocess.PIPE,\n",
    "                         stderr=subprocess.STDOUT\n",
    "                         ).stdout\n",
    "    return int(out.partition(b' ')[0])\n",
    "\n",
    "\n",
    "\n",
    "glove_file = \"data/glove.6B.300d.txt\"\n",
    "embeddings_dict = {}\n",
    "with open(glove_file, 'r', encoding='utf-8') as f:\n",
    "    for line in tqdm(f, \"Parsing glove embeddings\", total=wccount(glove_file), ncols=100):\n",
    "        values = line.split()\n",
    "        token = values[0]\n",
    "        vector = np.asarray(values[1:], \"float32\")\n",
    "        embeddings_dict[token] = vector\n",
    "\n",
    "embeds = pd.DataFrame(embeddings_dict)\n",
    "emb_np = embeds.to_numpy().T"
   ]
  },
  {
   "cell_type": "code",
   "execution_count": null,
   "id": "667fc3d5",
   "metadata": {},
   "outputs": [],
   "source": [
    "from transformers import AutoTokenizer, AutoModelForSeq2SeqLM\n",
    "\n",
    "\n",
    "tokenizer = AutoTokenizer.from_pretrained(\"Helsinki-NLP/opus-mt-ru-en\")\n",
    "model = AutoModelForSeq2SeqLM.from_pretrained(\"Helsinki-NLP/opus-mt-ru-en\")\n",
    "\n",
    "def translate(words):\n",
    "    batch = tokenizer(words, return_tensors=\"pt\", padding=True)\n",
    "    gen = model.generate(**batch)\n",
    "    return tokenizer.batch_decode(gen, skip_special_tokens=True)"
   ]
  },
  {
   "cell_type": "code",
   "execution_count": null,
   "id": "1c720cf4",
   "metadata": {},
   "outputs": [],
   "source": [
    "from collections import Counter\n",
    "from scipy import spatial\n",
    "\n",
    "kdtree = spatial.KDTree(emb_np)"
   ]
  },
  {
   "cell_type": "code",
   "execution_count": null,
   "id": "74126037",
   "metadata": {},
   "outputs": [],
   "source": [
    "english_topics = pd.DataFrame()\n",
    "for col in tqdm(topics, \"Translating topic words to english\", total=len(topics.columns), position=0, ncols=100):\n",
    "    words = translate(list(topics[col]))\n",
    "    words = [''.join([c.lower() for c in word.split()[0] if c.isalpha()]) for word in words]\n",
    "    english_topics[col] = np.array(words)"
   ]
  },
  {
   "cell_type": "code",
   "execution_count": null,
   "id": "e58a0404",
   "metadata": {},
   "outputs": [],
   "source": [
    "for col, words in tqdm(topics.iteritems(),\n",
    "                       \"Finding names for topics\", total=topics.shape[1], position=0, ncols=100):\n",
    "    words = translate(list(words))\n",
    "    words = [''.join([c.lower() for c in word.split()[0] if c.isalpha()]) for word in words]\n",
    "    counter = Counter()\n",
    "    for word in words:\n",
    "        if word not in embeds:\n",
    "            continue\n",
    "        point = embeds[word].to_numpy()\n",
    "        distance, indices = kdtree.query(point, range(1, 10))\n",
    "        for index in indices:\n",
    "            counter[embeds.columns[index]] += 1\n",
    "            \n",
    "    topics.rename({col: counter.most_common()[0][0]}, axis='columns', inplace=True)"
   ]
  },
  {
   "cell_type": "code",
   "execution_count": 1,
   "id": "0f47fd32",
   "metadata": {},
   "outputs": [
    {
     "data": {
      "text/plain": [
       "<parsl.dataflow.dflow.DataFlowKernel at 0x7f6aa1b2f7f0>"
      ]
     },
     "execution_count": 1,
     "metadata": {},
     "output_type": "execute_result"
    }
   ],
   "source": [
    "import parsl\n",
    "from parsl.app.app import python_app, bash_app\n",
    "\n",
    "\n",
    "\n",
    "parsl.load()"
   ]
  },
  {
   "cell_type": "code",
   "execution_count": 2,
   "id": "65a0d00c",
   "metadata": {},
   "outputs": [],
   "source": [
    "@python_app\n",
    "def slow_hello():\n",
    "    import time\n",
    "    time.sleep(5)\n",
    "    return 'Hello World!'"
   ]
  },
  {
   "cell_type": "code",
   "execution_count": 7,
   "id": "bec14fe7",
   "metadata": {},
   "outputs": [],
   "source": [
    "sh = slow_hello()"
   ]
  },
  {
   "cell_type": "code",
   "execution_count": 19,
   "id": "6f0438b5",
   "metadata": {},
   "outputs": [
    {
     "name": "stdout",
     "output_type": "stream",
     "text": [
      "Hello World!\n"
     ]
    }
   ],
   "source": [
    "print(sh.result() if sh.done() else 'Wait')"
   ]
  }
 ],
 "metadata": {
  "kernelspec": {
   "display_name": "Python 3 (ipykernel)",
   "language": "python",
   "name": "python3"
  },
  "language_info": {
   "codemirror_mode": {
    "name": "ipython",
    "version": 3
   },
   "file_extension": ".py",
   "mimetype": "text/x-python",
   "name": "python",
   "nbconvert_exporter": "python",
   "pygments_lexer": "ipython3",
   "version": "3.10.4"
  }
 },
 "nbformat": 4,
 "nbformat_minor": 5
}
