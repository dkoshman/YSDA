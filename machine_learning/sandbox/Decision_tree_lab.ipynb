{
 "cells": [
  {
   "cell_type": "markdown",
   "metadata": {},
   "source": [
    "# Лабораторная работа 2\n",
    "\n",
    "Результат лабораторной работы − отчет. Мы предпочитаем принимать отчеты в формате ноутбуков Jupyter (ipynb-файл). Постарайтесь сделать ваш отчет интересным рассказом, последовательно отвечающим на вопросы из заданий, а также подкреплённый грамотной визуализацией. Помимо ответов на вопросы, в отчете так же должен быть код, однако чем меньше кода, тем лучше всем: нам − меньше проверять, вам —  проще найти ошибку или дополнить эксперимент. При проверке оценивается четкость ответов на вопросы, аккуратность отчета, кода и графиков. \n",
    "\n",
    "## Оценивание и штрафы\n",
    "\n",
    "* Каждая из задач имеет определенную «стоимость» (указана в скобках около задачи)\n",
    "* Максимально допустимая оценка за работу — 15 баллов\n",
    "* Сдавать задание после указанного срока сдачи нельзя\n",
    "* «Похожие» решения считаются плагиатом и все задействованные студенты (в том числе те, у кого списали) не могут получить за него больше 0 баллов и понижают свою карму\n",
    "* Если вы нашли решение какого-то из заданий в открытом источнике, необходимо прислать ссылку на этот источник (скорее всего вы будете не единственным, кто это нашел, поэтому, чтобы исключить подозрение в плагиате, необходима ссылка на источник)\n",
    "* Не оцениваются задания с удалёнными формулировкам\n",
    "* Не оценивается лабораторная работа целиком, если она была выложена в открытый источник"
   ]
  },
  {
   "cell_type": "markdown",
   "metadata": {},
   "source": [
    "## Прорабатываемые темы\n",
    "  * Деревья\n",
    "  * Лес\n",
    "  * Бустинг"
   ]
  },
  {
   "cell_type": "code",
   "execution_count": 1,
   "metadata": {},
   "outputs": [],
   "source": []
  },
  {
   "cell_type": "markdown",
   "metadata": {},
   "source": [
    "## Данные"
   ]
  },
  {
   "cell_type": "markdown",
   "metadata": {},
   "source": [
    "Из официального блога Яндекса [известно,](https://yandex.ru/blog/company/meteum-2-0-ili-pochemu-yandeks-pogoda-sprashivaet-vas-o-dozhde) что технология предсказания погоды Метеум 2.0 опирается на Catboost.\n",
    "\n",
    "Там же говорится, о том, что в качестве признаков используются данные от метеомоделей и дополнительные признаки, например, ```высота солнца над горизонтом``` или ```удалённость от водоёма```.\n",
    "\n",
    "\n"
   ]
  },
  {
   "cell_type": "markdown",
   "metadata": {},
   "source": [
    "Этим летом Яндекс выложил в свободный доступ погодный датасет. В данной лабораторной работе мы будем пытаться сделать свой прогноз погоды, основываясь на этих данных.\n",
    "\n",
    "Лицензия на данные доступна [тут](https://github.com/yandex-research/shifts#license)."
   ]
  },
  {
   "cell_type": "markdown",
   "metadata": {},
   "source": [
    "### Метеомодели\n",
    "Что из себя представляет прогноз метеомодели?\n",
    "Фактически, это четырёхмерный тензор.\n",
    "  * Две компоненты -- это широта и долгота. У каждого поставщика прогнозов свои шаги сетки по широте и долготе;\n",
    "  * Вырожденное измерение, которое содержит только одно значение -- время начального состояния атмосферы, с которого будет начато физическое моделирование;\n",
    "  * Последнее измерение - время, на которое сделан прогноз. Каждый поставщик таже имеет свои сетки, но обычно не чаще одного прогноза в час.\n",
    "    \n",
    "Для хранения таких данных был разработан формат файлов https://en.wikipedia.org/wiki/GRIB\n",
    "\n",
    "Например, такие данные для модели GFS можно скачать с сайта https://www.ncei.noaa.gov/products/weather-climate-models/global-forecast\n",
    "\n"
   ]
  },
  {
   "cell_type": "markdown",
   "metadata": {},
   "source": [
    "### Признаки\n",
    "Из первых уст про признаки можно узнать из [видео Лены Волжиной.](https://youtu.be/ECALEJ79KHg?t=578)\n",
    "\n",
    "Их источники можно разделить на следующие группы\n",
    "  * Прогноз глобальных метеомоделей. В выгруженных данных это модели CMC и GFS\n",
    "    * признаки, которые начинаются с ```cmc_```\n",
    "    * признаки, которые начинаются с ```gfs_```\n",
    "  * Прогнозы от региональной модели WRF\n",
    "    * признаки, которые начинаются с ```wrf_```\n",
    "  * Климатические данные (за 40 лет наблюдений)\n",
    "    * признаки, которые начинаются с ```climate_```\n",
    "  * Прочие признаки\n",
    "    * 'sun_elevation' -- та самая высота солнца над горизонтом.\n",
    "    * 'topography_bathymetry' \n",
    "  \n",
    "  \n",
    "Признаки cmc имеют в своём имени 4 числа, которые кодируют физическую величину. Последнее значение -- это высота, на которой величина вычислена.\n",
    "\n",
    "Признаки gfs и wrf имеют человеко-читаемые названия.\n",
    "\n",
    "Еще есть технические атрибуты прогноза поставщика:\n",
    "  * `_available` -- был ли доступен поставщик при прогнозе\n",
    "  * ```_horizon_h``` -- каковым горизонтом для модели поставщика была временная отметка, на которую meteum рассчитвал прогноз.\n",
    "\n",
    "  * ```_next``` -- это значение следущего прогноза данного поставщика для данной точки.\n",
    "\n",
    "Кроме того, есть еще признаки, комбинирующие выше описанные, например\n",
    "  * _grad -- это разница разница между обычным и _next прогнозом температуры.\n",
    "\n",
    "\n",
    "Вот рисунок, который поможет разобраться с этими терминами:\n",
    "<img src=\"images/object_structure.jpg\">"
   ]
  },
  {
   "cell_type": "markdown",
   "metadata": {},
   "source": [
    "### Целевые переменные\n",
    "  * fact_temperature -- температура в данной точке (точка описывается парой координат 'fact_latitude', 'fact_longitude'  и временной отметкой 'fact_time' )\n",
    "  * fact_cwsm_class -- код облачности и осадков\n",
    "<img src=\"./images/cwsm_classes.jpg\">"
   ]
  },
  {
   "cell_type": "markdown",
   "metadata": {},
   "source": [
    "### Факты\n",
    "  Источником истинных меток  в задачах прогнозирования погоды служат данные с метеостанций. Каждая метеостанция имеет свои географические кординаты, а также свою частоту, с которой она замеряет погоду. Некоторые метеостанции замеряют ее лишь 8 раз в день при помощи специалистов-метеорологов. Некоторые являются автоматическими и имеют большую частоту потока фактических показателей."
   ]
  },
  {
   "cell_type": "markdown",
   "metadata": {},
   "source": [
    "### Как был собран dataset\n",
    "Каждое из фактических предсказаний могло быть предсказано с разными заблаговременностями.\n",
    "\n",
    "Было составлено декартово произведение следующих множеств (см. рисунок выше)\n",
    "  * (время факта, координата факта) \n",
    "  * (время составления прогноза) \n",
    "  * (самый свежий прогноз от поставщика, доступный к моменту составления прогноза на время, ближайшее ко времени факта)\n",
    "    \n",
    "Оно было равномерно просемлировано, чтобы его размер стал обозримым.\n",
    "\n",
    "\n"
   ]
  },
  {
   "cell_type": "code",
   "execution_count": null,
   "metadata": {},
   "outputs": [],
   "source": []
  },
  {
   "cell_type": "markdown",
   "metadata": {},
   "source": [
    "## Знакомство с данными"
   ]
  },
  {
   "cell_type": "markdown",
   "metadata": {},
   "source": [
    "Для уменьшения количества данных, возьмем только кусок за сентябрь 2018 года"
   ]
  },
  {
   "cell_type": "code",
   "execution_count": 18,
   "metadata": {},
   "outputs": [],
   "source": [
    "path_csv_2018_09 = \"data_2/train_2018_09.csv\"\n",
    "path_csv_2018_10 = \"data_2/train_2018_10.csv\"\n",
    "path_csv_2018_11 = \"data_2/train_2018_11.csv\"\n",
    "path_csv_2018_12 = \"data/train_2018_12.csv\"\n",
    "path_csv_2019_01 = \"data/train_2019_01.csv\"\n",
    "path_csv_test = \"data/test.csv\"\n",
    "path_csv_sample = \"data/sample_submission.csv\""
   ]
  },
  {
   "cell_type": "code",
   "execution_count": 5,
   "metadata": {},
   "outputs": [
    {
     "name": "stderr",
     "output_type": "stream",
     "text": [
      "/Users/dimakoshman/.pyenv/versions/shad_env/lib/python3.9/site-packages/pandas/compat/__init__.py:124: UserWarning: Could not import the lzma module. Your installed Python is incomplete. Attempting to use lzma compression will result in a RuntimeError.\n",
      "  warnings.warn(msg)\n"
     ]
    }
   ],
   "source": [
    "import pandas as pd\n",
    "import matplotlib.pyplot as plt"
   ]
  },
  {
   "cell_type": "code",
   "execution_count": null,
   "metadata": {},
   "outputs": [],
   "source": [
    "train_2018_09 = pd.read_csv(path_csv_2018_09)\n",
    "train_2018_10 = pd.read_csv(path_csv_2018_10)\n",
    "train_2018_11 = pd.read_csv(path_csv_2018_11)\n",
    "\n",
    "train_2018_12 = pd.read_csv(path_csv_2018_12)\n",
    "train_2019_01 = pd.read_csv(path_csv_2019_01)\n",
    "test = pd.read_csv(path_csv_test)\n",
    "\n",
    "sample = pd.read_csv(path_csv_sample)"
   ]
  },
  {
   "cell_type": "code",
   "execution_count": 21,
   "metadata": {},
   "outputs": [
    {
     "data": {
      "text/html": [
       "<div>\n",
       "<style scoped>\n",
       "    .dataframe tbody tr th:only-of-type {\n",
       "        vertical-align: middle;\n",
       "    }\n",
       "\n",
       "    .dataframe tbody tr th {\n",
       "        vertical-align: top;\n",
       "    }\n",
       "\n",
       "    .dataframe thead th {\n",
       "        text-align: right;\n",
       "    }\n",
       "</style>\n",
       "<table border=\"1\" class=\"dataframe\">\n",
       "  <thead>\n",
       "    <tr style=\"text-align: right;\">\n",
       "      <th></th>\n",
       "      <th>fact_time</th>\n",
       "      <th>fact_latitude</th>\n",
       "      <th>fact_longitude</th>\n",
       "      <th>fact_temperature</th>\n",
       "      <th>fact_cwsm_class</th>\n",
       "      <th>climate</th>\n",
       "      <th>topography_bathymetry</th>\n",
       "      <th>sun_elevation</th>\n",
       "      <th>climate_temperature</th>\n",
       "      <th>climate_pressure</th>\n",
       "      <th>...</th>\n",
       "      <th>cmc_0_1_66_0_grad</th>\n",
       "      <th>cmc_0_1_66_0_next</th>\n",
       "      <th>cmc_0_1_67_0_grad</th>\n",
       "      <th>cmc_0_1_67_0_next</th>\n",
       "      <th>cmc_0_1_68_0_grad</th>\n",
       "      <th>cmc_0_1_68_0_next</th>\n",
       "      <th>gfs_2m_dewpoint_grad</th>\n",
       "      <th>gfs_2m_dewpoint_next</th>\n",
       "      <th>gfs_total_clouds_cover_low_grad</th>\n",
       "      <th>gfs_total_clouds_cover_low_next</th>\n",
       "    </tr>\n",
       "  </thead>\n",
       "  <tbody>\n",
       "    <tr>\n",
       "      <th>0</th>\n",
       "      <td>1.535767e+09</td>\n",
       "      <td>25.267000</td>\n",
       "      <td>51.600000</td>\n",
       "      <td>33.0</td>\n",
       "      <td>0.0</td>\n",
       "      <td>dry</td>\n",
       "      <td>-1.0</td>\n",
       "      <td>-4.608248</td>\n",
       "      <td>32.076429</td>\n",
       "      <td>749.301627</td>\n",
       "      <td>...</td>\n",
       "      <td>0.0</td>\n",
       "      <td>0.0</td>\n",
       "      <td>0.0</td>\n",
       "      <td>0.0</td>\n",
       "      <td>0.0</td>\n",
       "      <td>0.0</td>\n",
       "      <td>-0.200012</td>\n",
       "      <td>22.950006</td>\n",
       "      <td>0.0</td>\n",
       "      <td>0.0</td>\n",
       "    </tr>\n",
       "    <tr>\n",
       "      <th>1</th>\n",
       "      <td>1.536397e+09</td>\n",
       "      <td>34.678699</td>\n",
       "      <td>-86.684799</td>\n",
       "      <td>22.0</td>\n",
       "      <td>0.0</td>\n",
       "      <td>mild temperate</td>\n",
       "      <td>193.0</td>\n",
       "      <td>-40.102271</td>\n",
       "      <td>23.099286</td>\n",
       "      <td>745.190286</td>\n",
       "      <td>...</td>\n",
       "      <td>0.0</td>\n",
       "      <td>0.0</td>\n",
       "      <td>0.0</td>\n",
       "      <td>0.0</td>\n",
       "      <td>0.0</td>\n",
       "      <td>0.0</td>\n",
       "      <td>-0.300018</td>\n",
       "      <td>19.249994</td>\n",
       "      <td>0.0</td>\n",
       "      <td>0.0</td>\n",
       "    </tr>\n",
       "    <tr>\n",
       "      <th>2</th>\n",
       "      <td>1.537358e+09</td>\n",
       "      <td>10.233333</td>\n",
       "      <td>77.466667</td>\n",
       "      <td>14.0</td>\n",
       "      <td>21.0</td>\n",
       "      <td>tropical</td>\n",
       "      <td>2230.0</td>\n",
       "      <td>12.304183</td>\n",
       "      <td>25.134286</td>\n",
       "      <td>687.545585</td>\n",
       "      <td>...</td>\n",
       "      <td>0.0</td>\n",
       "      <td>0.0</td>\n",
       "      <td>0.0</td>\n",
       "      <td>0.0</td>\n",
       "      <td>0.0</td>\n",
       "      <td>0.0</td>\n",
       "      <td>-0.314789</td>\n",
       "      <td>16.735223</td>\n",
       "      <td>14.0</td>\n",
       "      <td>19.0</td>\n",
       "    </tr>\n",
       "    <tr>\n",
       "      <th>3</th>\n",
       "      <td>1.537045e+09</td>\n",
       "      <td>22.950399</td>\n",
       "      <td>120.206001</td>\n",
       "      <td>25.0</td>\n",
       "      <td>11.0</td>\n",
       "      <td>tropical</td>\n",
       "      <td>17.0</td>\n",
       "      <td>-13.024131</td>\n",
       "      <td>28.689286</td>\n",
       "      <td>765.703272</td>\n",
       "      <td>...</td>\n",
       "      <td>0.0</td>\n",
       "      <td>0.0</td>\n",
       "      <td>0.0</td>\n",
       "      <td>0.0</td>\n",
       "      <td>0.0</td>\n",
       "      <td>0.0</td>\n",
       "      <td>0.099976</td>\n",
       "      <td>23.249994</td>\n",
       "      <td>3.0</td>\n",
       "      <td>31.0</td>\n",
       "    </tr>\n",
       "    <tr>\n",
       "      <th>4</th>\n",
       "      <td>1.538317e+09</td>\n",
       "      <td>36.175301</td>\n",
       "      <td>-96.151802</td>\n",
       "      <td>22.0</td>\n",
       "      <td>10.0</td>\n",
       "      <td>mild temperate</td>\n",
       "      <td>263.0</td>\n",
       "      <td>16.238625</td>\n",
       "      <td>16.974286</td>\n",
       "      <td>741.586057</td>\n",
       "      <td>...</td>\n",
       "      <td>0.0</td>\n",
       "      <td>0.0</td>\n",
       "      <td>0.0</td>\n",
       "      <td>0.0</td>\n",
       "      <td>0.0</td>\n",
       "      <td>0.0</td>\n",
       "      <td>1.479156</td>\n",
       "      <td>19.229150</td>\n",
       "      <td>0.0</td>\n",
       "      <td>0.0</td>\n",
       "    </tr>\n",
       "  </tbody>\n",
       "</table>\n",
       "<p>5 rows × 129 columns</p>\n",
       "</div>"
      ],
      "text/plain": [
       "      fact_time  fact_latitude  fact_longitude  fact_temperature  \\\n",
       "0  1.535767e+09      25.267000       51.600000              33.0   \n",
       "1  1.536397e+09      34.678699      -86.684799              22.0   \n",
       "2  1.537358e+09      10.233333       77.466667              14.0   \n",
       "3  1.537045e+09      22.950399      120.206001              25.0   \n",
       "4  1.538317e+09      36.175301      -96.151802              22.0   \n",
       "\n",
       "   fact_cwsm_class         climate  topography_bathymetry  sun_elevation  \\\n",
       "0              0.0             dry                   -1.0      -4.608248   \n",
       "1              0.0  mild temperate                  193.0     -40.102271   \n",
       "2             21.0        tropical                 2230.0      12.304183   \n",
       "3             11.0        tropical                   17.0     -13.024131   \n",
       "4             10.0  mild temperate                  263.0      16.238625   \n",
       "\n",
       "   climate_temperature  climate_pressure  ...  cmc_0_1_66_0_grad  \\\n",
       "0            32.076429        749.301627  ...                0.0   \n",
       "1            23.099286        745.190286  ...                0.0   \n",
       "2            25.134286        687.545585  ...                0.0   \n",
       "3            28.689286        765.703272  ...                0.0   \n",
       "4            16.974286        741.586057  ...                0.0   \n",
       "\n",
       "   cmc_0_1_66_0_next  cmc_0_1_67_0_grad  cmc_0_1_67_0_next  cmc_0_1_68_0_grad  \\\n",
       "0                0.0                0.0                0.0                0.0   \n",
       "1                0.0                0.0                0.0                0.0   \n",
       "2                0.0                0.0                0.0                0.0   \n",
       "3                0.0                0.0                0.0                0.0   \n",
       "4                0.0                0.0                0.0                0.0   \n",
       "\n",
       "   cmc_0_1_68_0_next  gfs_2m_dewpoint_grad  gfs_2m_dewpoint_next  \\\n",
       "0                0.0             -0.200012             22.950006   \n",
       "1                0.0             -0.300018             19.249994   \n",
       "2                0.0             -0.314789             16.735223   \n",
       "3                0.0              0.099976             23.249994   \n",
       "4                0.0              1.479156             19.229150   \n",
       "\n",
       "   gfs_total_clouds_cover_low_grad  gfs_total_clouds_cover_low_next  \n",
       "0                              0.0                              0.0  \n",
       "1                              0.0                              0.0  \n",
       "2                             14.0                             19.0  \n",
       "3                              3.0                             31.0  \n",
       "4                              0.0                              0.0  \n",
       "\n",
       "[5 rows x 129 columns]"
      ]
     },
     "execution_count": 21,
     "metadata": {},
     "output_type": "execute_result"
    }
   ],
   "source": [
    "train_2018_09.head()"
   ]
  },
  {
   "cell_type": "code",
   "execution_count": 20,
   "metadata": {},
   "outputs": [
    {
     "data": {
      "text/html": [
       "<div>\n",
       "<style scoped>\n",
       "    .dataframe tbody tr th:only-of-type {\n",
       "        vertical-align: middle;\n",
       "    }\n",
       "\n",
       "    .dataframe tbody tr th {\n",
       "        vertical-align: top;\n",
       "    }\n",
       "\n",
       "    .dataframe thead th {\n",
       "        text-align: right;\n",
       "    }\n",
       "</style>\n",
       "<table border=\"1\" class=\"dataframe\">\n",
       "  <thead>\n",
       "    <tr style=\"text-align: right;\">\n",
       "      <th></th>\n",
       "      <th>ID</th>\n",
       "      <th>fact_time</th>\n",
       "      <th>fact_latitude</th>\n",
       "      <th>fact_longitude</th>\n",
       "      <th>climate</th>\n",
       "      <th>topography_bathymetry</th>\n",
       "      <th>sun_elevation</th>\n",
       "      <th>climate_temperature</th>\n",
       "      <th>climate_pressure</th>\n",
       "      <th>cmc_0_0_0_1000</th>\n",
       "      <th>...</th>\n",
       "      <th>cmc_0_1_66_0_grad</th>\n",
       "      <th>cmc_0_1_66_0_next</th>\n",
       "      <th>cmc_0_1_67_0_grad</th>\n",
       "      <th>cmc_0_1_67_0_next</th>\n",
       "      <th>cmc_0_1_68_0_grad</th>\n",
       "      <th>cmc_0_1_68_0_next</th>\n",
       "      <th>gfs_2m_dewpoint_grad</th>\n",
       "      <th>gfs_2m_dewpoint_next</th>\n",
       "      <th>gfs_total_clouds_cover_low_grad</th>\n",
       "      <th>gfs_total_clouds_cover_low_next</th>\n",
       "    </tr>\n",
       "  </thead>\n",
       "  <tbody>\n",
       "    <tr>\n",
       "      <th>0</th>\n",
       "      <td>0</td>\n",
       "      <td>1.549566e+09</td>\n",
       "      <td>34.678699</td>\n",
       "      <td>-86.684799</td>\n",
       "      <td>mild temperate</td>\n",
       "      <td>193.0</td>\n",
       "      <td>40.240955</td>\n",
       "      <td>8.303571</td>\n",
       "      <td>747.524910</td>\n",
       "      <td>295.118774</td>\n",
       "      <td>...</td>\n",
       "      <td>0.00000</td>\n",
       "      <td>0.00000</td>\n",
       "      <td>0.00000</td>\n",
       "      <td>0.00000</td>\n",
       "      <td>0.0</td>\n",
       "      <td>0.0</td>\n",
       "      <td>0.059448</td>\n",
       "      <td>16.150018</td>\n",
       "      <td>-58.0</td>\n",
       "      <td>41.0</td>\n",
       "    </tr>\n",
       "    <tr>\n",
       "      <th>1</th>\n",
       "      <td>1</td>\n",
       "      <td>1.549422e+09</td>\n",
       "      <td>25.633333</td>\n",
       "      <td>122.066667</td>\n",
       "      <td>mild temperate</td>\n",
       "      <td>-33.0</td>\n",
       "      <td>47.184385</td>\n",
       "      <td>15.672857</td>\n",
       "      <td>766.696367</td>\n",
       "      <td>289.675366</td>\n",
       "      <td>...</td>\n",
       "      <td>0.00000</td>\n",
       "      <td>0.00000</td>\n",
       "      <td>0.00000</td>\n",
       "      <td>0.00000</td>\n",
       "      <td>0.0</td>\n",
       "      <td>0.0</td>\n",
       "      <td>0.799988</td>\n",
       "      <td>18.050012</td>\n",
       "      <td>0.0</td>\n",
       "      <td>0.0</td>\n",
       "    </tr>\n",
       "    <tr>\n",
       "      <th>2</th>\n",
       "      <td>2</td>\n",
       "      <td>1.550167e+09</td>\n",
       "      <td>47.207699</td>\n",
       "      <td>-119.320000</td>\n",
       "      <td>dry</td>\n",
       "      <td>350.0</td>\n",
       "      <td>18.213748</td>\n",
       "      <td>3.005000</td>\n",
       "      <td>733.397999</td>\n",
       "      <td>274.160620</td>\n",
       "      <td>...</td>\n",
       "      <td>1.32624</td>\n",
       "      <td>33.28368</td>\n",
       "      <td>0.04445</td>\n",
       "      <td>0.04445</td>\n",
       "      <td>0.0</td>\n",
       "      <td>0.0</td>\n",
       "      <td>3.500000</td>\n",
       "      <td>-7.750006</td>\n",
       "      <td>0.0</td>\n",
       "      <td>0.0</td>\n",
       "    </tr>\n",
       "    <tr>\n",
       "      <th>3</th>\n",
       "      <td>3</td>\n",
       "      <td>1.549725e+09</td>\n",
       "      <td>37.239201</td>\n",
       "      <td>-76.716103</td>\n",
       "      <td>mild temperate</td>\n",
       "      <td>11.0</td>\n",
       "      <td>30.402908</td>\n",
       "      <td>1.227143</td>\n",
       "      <td>762.915530</td>\n",
       "      <td>271.838794</td>\n",
       "      <td>...</td>\n",
       "      <td>0.00000</td>\n",
       "      <td>0.00000</td>\n",
       "      <td>0.00000</td>\n",
       "      <td>0.00000</td>\n",
       "      <td>0.0</td>\n",
       "      <td>0.0</td>\n",
       "      <td>0.474243</td>\n",
       "      <td>-15.055670</td>\n",
       "      <td>0.0</td>\n",
       "      <td>0.0</td>\n",
       "    </tr>\n",
       "    <tr>\n",
       "      <th>4</th>\n",
       "      <td>4</td>\n",
       "      <td>1.550442e+09</td>\n",
       "      <td>28.522200</td>\n",
       "      <td>-99.823601</td>\n",
       "      <td>dry</td>\n",
       "      <td>177.0</td>\n",
       "      <td>27.015190</td>\n",
       "      <td>18.749286</td>\n",
       "      <td>746.388995</td>\n",
       "      <td>297.718262</td>\n",
       "      <td>...</td>\n",
       "      <td>0.00000</td>\n",
       "      <td>0.00000</td>\n",
       "      <td>0.00000</td>\n",
       "      <td>0.00000</td>\n",
       "      <td>0.0</td>\n",
       "      <td>0.0</td>\n",
       "      <td>3.299988</td>\n",
       "      <td>2.950006</td>\n",
       "      <td>0.0</td>\n",
       "      <td>0.0</td>\n",
       "    </tr>\n",
       "  </tbody>\n",
       "</table>\n",
       "<p>5 rows × 128 columns</p>\n",
       "</div>"
      ],
      "text/plain": [
       "   ID     fact_time  fact_latitude  fact_longitude         climate  \\\n",
       "0   0  1.549566e+09      34.678699      -86.684799  mild temperate   \n",
       "1   1  1.549422e+09      25.633333      122.066667  mild temperate   \n",
       "2   2  1.550167e+09      47.207699     -119.320000             dry   \n",
       "3   3  1.549725e+09      37.239201      -76.716103  mild temperate   \n",
       "4   4  1.550442e+09      28.522200      -99.823601             dry   \n",
       "\n",
       "   topography_bathymetry  sun_elevation  climate_temperature  \\\n",
       "0                  193.0      40.240955             8.303571   \n",
       "1                  -33.0      47.184385            15.672857   \n",
       "2                  350.0      18.213748             3.005000   \n",
       "3                   11.0      30.402908             1.227143   \n",
       "4                  177.0      27.015190            18.749286   \n",
       "\n",
       "   climate_pressure  cmc_0_0_0_1000  ...  cmc_0_1_66_0_grad  \\\n",
       "0        747.524910      295.118774  ...            0.00000   \n",
       "1        766.696367      289.675366  ...            0.00000   \n",
       "2        733.397999      274.160620  ...            1.32624   \n",
       "3        762.915530      271.838794  ...            0.00000   \n",
       "4        746.388995      297.718262  ...            0.00000   \n",
       "\n",
       "   cmc_0_1_66_0_next  cmc_0_1_67_0_grad  cmc_0_1_67_0_next  cmc_0_1_68_0_grad  \\\n",
       "0            0.00000            0.00000            0.00000                0.0   \n",
       "1            0.00000            0.00000            0.00000                0.0   \n",
       "2           33.28368            0.04445            0.04445                0.0   \n",
       "3            0.00000            0.00000            0.00000                0.0   \n",
       "4            0.00000            0.00000            0.00000                0.0   \n",
       "\n",
       "   cmc_0_1_68_0_next  gfs_2m_dewpoint_grad  gfs_2m_dewpoint_next  \\\n",
       "0                0.0              0.059448             16.150018   \n",
       "1                0.0              0.799988             18.050012   \n",
       "2                0.0              3.500000             -7.750006   \n",
       "3                0.0              0.474243            -15.055670   \n",
       "4                0.0              3.299988              2.950006   \n",
       "\n",
       "   gfs_total_clouds_cover_low_grad  gfs_total_clouds_cover_low_next  \n",
       "0                            -58.0                             41.0  \n",
       "1                              0.0                              0.0  \n",
       "2                              0.0                              0.0  \n",
       "3                              0.0                              0.0  \n",
       "4                              0.0                              0.0  \n",
       "\n",
       "[5 rows x 128 columns]"
      ]
     },
     "execution_count": 20,
     "metadata": {},
     "output_type": "execute_result"
    }
   ],
   "source": [
    "test.head()"
   ]
  },
  {
   "cell_type": "code",
   "execution_count": 59,
   "metadata": {},
   "outputs": [],
   "source": [
    "def trainify(X):\n",
    "    X = pd.get_dummies(train_2018_09, columns=[\"climate\"]).dropna()\n",
    "    return (\n",
    "        X.drop([\"fact_temperature\", \"fact_cwsm_class\"], axis=1),\n",
    "        X[\"fact_cwsm_class\"] == 0,\n",
    "    )"
   ]
  },
  {
   "cell_type": "code",
   "execution_count": 23,
   "metadata": {},
   "outputs": [],
   "source": [
    "from sklearn.model_selection import train_test_split\n",
    "from sklearn.preprocessing import scale"
   ]
  },
  {
   "cell_type": "code",
   "execution_count": 33,
   "metadata": {},
   "outputs": [],
   "source": [
    "from sklearn.tree import DecisionTreeRegressor\n",
    "from sklearn.model_selection import cross_val_score\n",
    "from sklearn.model_selection import KFold"
   ]
  },
  {
   "cell_type": "code",
   "execution_count": 60,
   "metadata": {},
   "outputs": [],
   "source": [
    "folds = 3\n",
    "\n",
    "X, y = trainify(train_2018_09)\n",
    "\n",
    "X_train, X_test, y_train, y_test = train_test_split(\n",
    "    X, y, test_size=(1 / folds), random_state=0, stratify=y\n",
    ")\n",
    "\n",
    "clf = DecisionTreeRegressor()\n",
    "cv = KFold(n_splits=(folds - 1))\n",
    "\n",
    "scores = cross_val_score(clf, X_train, y_train, cv=cv, scoring=\"roc_auc\")"
   ]
  },
  {
   "cell_type": "code",
   "execution_count": 61,
   "metadata": {},
   "outputs": [
    {
     "data": {
      "text/plain": [
       "array([0.72509779, 0.72412964])"
      ]
     },
     "execution_count": 61,
     "metadata": {},
     "output_type": "execute_result"
    }
   ],
   "source": [
    "scores"
   ]
  },
  {
   "cell_type": "code",
   "execution_count": 7,
   "metadata": {
    "collapsed": true,
    "scrolled": false
   },
   "outputs": [],
   "source": [
    "fact_columns = [\n",
    "    \"fact_time\",\n",
    "    \"fact_latitude\",\n",
    "    \"fact_longitude\",\n",
    "    \"fact_temperature\",\n",
    "    \"fact_cwsm_class\",\n",
    "]"
   ]
  },
  {
   "cell_type": "code",
   "execution_count": 8,
   "metadata": {},
   "outputs": [],
   "source": [
    "other_columns = [\n",
    "    \"topography_bathymetry\",\n",
    "    \"sun_elevation\",\n",
    "]\n",
    "\n",
    "climate_columns = [\n",
    "    \"climate_temperature\",\n",
    "    \"climate_pressure\",\n",
    "]\n",
    "\n",
    "climat_zone_column = \"climate\""
   ]
  },
  {
   "cell_type": "code",
   "execution_count": 9,
   "metadata": {},
   "outputs": [],
   "source": [
    "cmc_columns = [\n",
    "    \"cmc_0_0_0_1000\",\n",
    "    \"cmc_0_0_0_2_grad\",\n",
    "    \"cmc_0_0_0_2_interpolated\",\n",
    "    \"cmc_0_0_0_2_next\",\n",
    "    \"cmc_0_0_0_2\",\n",
    "    \"cmc_0_0_0_500\",\n",
    "    \"cmc_0_0_0_700\",\n",
    "    \"cmc_0_0_0_850\",\n",
    "    \"cmc_0_0_0_925\",\n",
    "    \"cmc_0_0_6_2\",\n",
    "    \"cmc_0_0_7_1000\",\n",
    "    \"cmc_0_0_7_2\",\n",
    "    \"cmc_0_0_7_500\",\n",
    "    \"cmc_0_0_7_700\",\n",
    "    \"cmc_0_0_7_850\",\n",
    "    \"cmc_0_0_7_925\",\n",
    "    \"cmc_0_1_0_0\",\n",
    "    \"cmc_0_1_11_0\",\n",
    "    \"cmc_0_1_65_0\",\n",
    "    \"cmc_0_1_66_0\",\n",
    "    \"cmc_0_1_67_0\",\n",
    "    \"cmc_0_1_68_0\",\n",
    "    \"cmc_0_1_7_0\",\n",
    "    \"cmc_0_2_2_10\",\n",
    "    \"cmc_0_2_2_1000\",\n",
    "    \"cmc_0_2_2_500\",\n",
    "    \"cmc_0_2_2_700\",\n",
    "    \"cmc_0_2_2_850\",\n",
    "    \"cmc_0_2_2_925\",\n",
    "    \"cmc_0_2_3_10\",\n",
    "    \"cmc_0_2_3_1000\",\n",
    "    \"cmc_0_2_3_500\",\n",
    "    \"cmc_0_2_3_700\",\n",
    "    \"cmc_0_2_3_850\",\n",
    "    \"cmc_0_2_3_925\",\n",
    "    \"cmc_0_3_0_0\",\n",
    "    \"cmc_0_3_0_0_next\",\n",
    "    \"cmc_0_3_1_0\",\n",
    "    \"cmc_0_3_5_1000\",\n",
    "    \"cmc_0_3_5_500\",\n",
    "    \"cmc_0_3_5_700\",\n",
    "    \"cmc_0_3_5_850\",\n",
    "    \"cmc_0_3_5_925\",\n",
    "    \"cmc_0_6_1_0\",\n",
    "    \"cmc_available\",\n",
    "    \"cmc_horizon_h\",\n",
    "    \"cmc_precipitations\",\n",
    "    \"cmc_timedelta_s\",\n",
    "    \"cmc_0_1_65_0_grad\",\n",
    "    \"cmc_0_1_65_0_next\",\n",
    "    \"cmc_0_1_66_0_grad\",\n",
    "    \"cmc_0_1_66_0_next\",\n",
    "    \"cmc_0_1_67_0_grad\",\n",
    "    \"cmc_0_1_67_0_next\",\n",
    "    \"cmc_0_1_68_0_grad\",\n",
    "    \"cmc_0_1_68_0_next\",\n",
    "]"
   ]
  },
  {
   "cell_type": "code",
   "execution_count": 10,
   "metadata": {},
   "outputs": [],
   "source": [
    "gfs_columns = [\n",
    "    \"gfs_2m_dewpoint\",\n",
    "    \"gfs_a_vorticity\",\n",
    "    \"gfs_available\",\n",
    "    \"gfs_cloudness\",\n",
    "    \"gfs_clouds_sea\",\n",
    "    \"gfs_horizon_h\",\n",
    "    \"gfs_humidity\",\n",
    "    \"gfs_precipitable_water\",\n",
    "    \"gfs_precipitations\",\n",
    "    \"gfs_pressure\",\n",
    "    \"gfs_r_velocity\",\n",
    "    \"gfs_soil_temperature\",\n",
    "    \"gfs_soil_temperature_available\",\n",
    "    \"gfs_temperature_10000\",\n",
    "    \"gfs_temperature_15000\",\n",
    "    \"gfs_temperature_20000\",\n",
    "    \"gfs_temperature_25000\",\n",
    "    \"gfs_temperature_30000\",\n",
    "    \"gfs_temperature_35000\",\n",
    "    \"gfs_temperature_40000\",\n",
    "    \"gfs_temperature_45000\",\n",
    "    \"gfs_temperature_5000\",\n",
    "    \"gfs_temperature_50000\",\n",
    "    \"gfs_temperature_55000\",\n",
    "    \"gfs_temperature_60000\",\n",
    "    \"gfs_temperature_65000\",\n",
    "    \"gfs_temperature_7000\",\n",
    "    \"gfs_temperature_70000\",\n",
    "    \"gfs_temperature_75000\",\n",
    "    \"gfs_temperature_80000\",\n",
    "    \"gfs_temperature_85000\",\n",
    "    \"gfs_temperature_90000\",\n",
    "    \"gfs_temperature_92500\",\n",
    "    \"gfs_temperature_95000\",\n",
    "    \"gfs_temperature_97500\",\n",
    "    \"gfs_temperature_sea\",\n",
    "    \"gfs_temperature_sea_grad\",\n",
    "    \"gfs_temperature_sea_interpolated\",\n",
    "    \"gfs_temperature_sea_next\",\n",
    "    \"gfs_timedelta_s\",\n",
    "    \"gfs_total_clouds_cover_high\",\n",
    "    \"gfs_total_clouds_cover_low\",\n",
    "    \"gfs_total_clouds_cover_middle\",\n",
    "    \"gfs_u_wind\",\n",
    "    \"gfs_v_wind\",\n",
    "    \"gfs_wind_speed\",\n",
    "    \"gfs_2m_dewpoint_grad\",\n",
    "    \"gfs_2m_dewpoint_next\",\n",
    "    \"gfs_total_clouds_cover_low_grad\",\n",
    "    \"gfs_total_clouds_cover_low_next\",\n",
    "]"
   ]
  },
  {
   "cell_type": "code",
   "execution_count": 11,
   "metadata": {},
   "outputs": [],
   "source": [
    "wrf_columns = [\n",
    "    \"wrf_available\",\n",
    "    \"wrf_t2\",\n",
    "    \"wrf_t2_next\",\n",
    "    \"wrf_psfc\",\n",
    "    \"wrf_rh2\",\n",
    "    \"wrf_wind_u\",\n",
    "    \"wrf_wind_v\",\n",
    "    \"wrf_rain\",\n",
    "    \"wrf_snow\",\n",
    "    \"wrf_graupel\",\n",
    "    \"wrf_hail\",\n",
    "    \"wrf_t2_interpolated\",\n",
    "    \"wrf_t2_grad\",\n",
    "]"
   ]
  },
  {
   "cell_type": "code",
   "execution_count": 12,
   "metadata": {},
   "outputs": [
    {
     "data": {
      "text/plain": [
       "Index(['fact_time', 'fact_latitude', 'fact_longitude', 'fact_temperature',\n",
       "       'fact_cwsm_class', 'climate', 'topography_bathymetry', 'sun_elevation',\n",
       "       'climate_temperature', 'climate_pressure',\n",
       "       ...\n",
       "       'cmc_0_1_66_0_grad', 'cmc_0_1_66_0_next', 'cmc_0_1_67_0_grad',\n",
       "       'cmc_0_1_67_0_next', 'cmc_0_1_68_0_grad', 'cmc_0_1_68_0_next',\n",
       "       'gfs_2m_dewpoint_grad', 'gfs_2m_dewpoint_next',\n",
       "       'gfs_total_clouds_cover_low_grad', 'gfs_total_clouds_cover_low_next'],\n",
       "      dtype='object', length=129)"
      ]
     },
     "execution_count": 12,
     "metadata": {},
     "output_type": "execute_result"
    }
   ],
   "source": [
    "train_2018_09.columns"
   ]
  },
  {
   "cell_type": "markdown",
   "metadata": {},
   "source": [
    "Мы будем рассматривать задачи двух типов\n",
    "  * Задачу регрессии предсказания температуры (колонка fact_temperature)\n",
    "  * Задачу классификации -- предсказание кода облачности и осадков (колонка fact_cwsm_class)  "
   ]
  },
  {
   "cell_type": "markdown",
   "metadata": {},
   "source": [
    "Рассмотрим, как метки этих задач расположены на \"карте мира\":"
   ]
  },
  {
   "cell_type": "code",
   "execution_count": 9,
   "metadata": {},
   "outputs": [
    {
     "data": {
      "image/png": "[encoded data removed]",
      "text/plain": [
       "<Figure size 432x288 with 2 Axes>"
      ]
     },
     "metadata": {
      "needs_background": "light"
     },
     "output_type": "display_data"
    }
   ],
   "source": [
    "plt.scatter(\n",
    "    train_2018_09.fact_longitude,\n",
    "    train_2018_09.fact_latitude,\n",
    "    c=train_2018_09.fact_temperature,\n",
    "    alpha=0.1,\n",
    ")\n",
    "plt.ylabel(\"fact_latitude\")\n",
    "plt.xlabel(\"fact_longitude\")\n",
    "plt.colorbar()\n",
    "plt.grid()"
   ]
  },
  {
   "cell_type": "code",
   "execution_count": 10,
   "metadata": {},
   "outputs": [
    {
     "data": {
      "image/png": "[encoded data removed]",
      "text/plain": [
       "<Figure size 432x288 with 2 Axes>"
      ]
     },
     "metadata": {
      "needs_background": "light"
     },
     "output_type": "display_data"
    }
   ],
   "source": [
    "plt.scatter(\n",
    "    train_2018_09.fact_longitude,\n",
    "    train_2018_09.fact_latitude,\n",
    "    c=train_2018_09.fact_cwsm_class,\n",
    "    alpha=0.1,\n",
    ")\n",
    "plt.ylabel(\"fact_latitude\")\n",
    "plt.xlabel(\"fact_longitude\")\n",
    "plt.colorbar()\n",
    "plt.grid()"
   ]
  },
  {
   "cell_type": "code",
   "execution_count": null,
   "metadata": {},
   "outputs": [],
   "source": []
  },
  {
   "cell_type": "markdown",
   "metadata": {},
   "source": [
    "### Задание 1. Исследование данных (1 балл)\n",
    "\n",
    "Проведите исследовательский анализ данных.\n",
    "\n",
    "Задача: понять взаимосвязи между откликами fact_temperature и fact_cwsm_class и признаками"
   ]
  },
  {
   "cell_type": "code",
   "execution_count": 11,
   "metadata": {},
   "outputs": [],
   "source": [
    "a = pd.concat([train_2018_09.fact_temperature, train_2018_09.fact_time], axis=1).corr()"
   ]
  },
  {
   "cell_type": "code",
   "execution_count": 12,
   "metadata": {},
   "outputs": [],
   "source": [
    "temperature_corr = train_2018_09.corrwith(train_2018_09.fact_temperature)"
   ]
  },
  {
   "cell_type": "code",
   "execution_count": 13,
   "metadata": {},
   "outputs": [],
   "source": [
    "cwsm_class_corr = train_2018_09.corrwith(train_2018_09.fact_cwsm_class)"
   ]
  },
  {
   "cell_type": "code",
   "execution_count": 14,
   "metadata": {
    "collapsed": true,
    "jupyter": {
     "outputs_hidden": true
    }
   },
   "outputs": [
    {
     "data": {
      "text/plain": [
       "fact_temperature                    1.000000\n",
       "climate_temperature                 0.784346\n",
       "cmc_0_0_0_1000                      0.835991\n",
       "cmc_0_0_0_2_interpolated            0.921199\n",
       "cmc_0_0_0_2_next                    0.871569\n",
       "cmc_0_0_0_2                         0.902378\n",
       "cmc_0_0_0_500                       0.617106\n",
       "cmc_0_0_0_700                       0.651369\n",
       "cmc_0_0_0_850                       0.692723\n",
       "cmc_0_0_0_925                       0.754320\n",
       "cmc_0_0_6_2                         0.552586\n",
       "cmc_0_1_0_0                         0.569031\n",
       "cmc_0_3_5_500                       0.611377\n",
       "gfs_temperature_10000              -0.569051\n",
       "gfs_temperature_25000               0.557203\n",
       "gfs_temperature_30000               0.595632\n",
       "gfs_temperature_35000               0.605092\n",
       "gfs_temperature_40000               0.611856\n",
       "gfs_temperature_45000               0.613921\n",
       "gfs_temperature_50000               0.612261\n",
       "gfs_temperature_55000               0.618438\n",
       "gfs_temperature_60000               0.632685\n",
       "gfs_temperature_65000               0.644859\n",
       "gfs_temperature_7000               -0.550065\n",
       "gfs_temperature_70000               0.655248\n",
       "gfs_temperature_75000               0.665288\n",
       "gfs_temperature_80000               0.673722\n",
       "gfs_temperature_85000               0.686926\n",
       "gfs_temperature_90000               0.708519\n",
       "gfs_temperature_92500               0.723594\n",
       "gfs_temperature_95000               0.743630\n",
       "gfs_temperature_97500               0.768632\n",
       "gfs_temperature_sea                 0.911785\n",
       "gfs_temperature_sea_interpolated    0.925247\n",
       "gfs_temperature_sea_next            0.880498\n",
       "wrf_t2                              0.934333\n",
       "wrf_t2_next                         0.921534\n",
       "wrf_t2_interpolated                 0.934333\n",
       "dtype: float64"
      ]
     },
     "execution_count": 14,
     "metadata": {},
     "output_type": "execute_result"
    }
   ],
   "source": [
    "temperature_corr[temperature_corr.abs() > 0.5]"
   ]
  },
  {
   "cell_type": "code",
   "execution_count": 15,
   "metadata": {
    "collapsed": true,
    "jupyter": {
     "outputs_hidden": true
    }
   },
   "outputs": [
    {
     "data": {
      "text/plain": [
       "fact_cwsm_class                    1.000000\n",
       "cmc_0_0_7_1000                    -0.355600\n",
       "cmc_0_0_7_2                       -0.308848\n",
       "cmc_0_0_7_850                     -0.371454\n",
       "cmc_0_0_7_925                     -0.408108\n",
       "cmc_0_6_1_0                        0.425622\n",
       "gfs_cloudness                      0.399685\n",
       "gfs_humidity                       0.339355\n",
       "gfs_precipitable_water             0.323789\n",
       "gfs_total_clouds_cover_high        0.320293\n",
       "gfs_total_clouds_cover_low         0.301245\n",
       "wrf_rh2                            0.319691\n",
       "gfs_total_clouds_cover_low_next    0.325057\n",
       "dtype: float64"
      ]
     },
     "execution_count": 15,
     "metadata": {},
     "output_type": "execute_result"
    }
   ],
   "source": [
    "cwsm_class_corr[cwsm_class_corr.abs() > 0.3]"
   ]
  },
  {
   "cell_type": "markdown",
   "metadata": {},
   "source": [
    "## Часть 1\n",
    "Начнем с более простой задачи регрессии."
   ]
  },
  {
   "cell_type": "markdown",
   "metadata": {},
   "source": [
    "Как обычно, сначало вычислим набор тривиальных baseline решений.\n",
    "Будем использовать 2 метрики качества\n",
    "  * RMSE -- основная метрика\n",
    "  * Долю отклонений от факта на 2 градуса -- вспомогательная метрика "
   ]
  },
  {
   "cell_type": "markdown",
   "metadata": {},
   "source": [
    "### Задание 2. Baseline решение (0.5 балла)\n",
    "\n",
    "Построить baseline решения и вычислить метрики на периоде 2018_09:\n",
    " * климат (climate_temperature)\n",
    " * Предсказание поставщиков \n",
    "    * cmc\n",
    "      * 'cmc_0_0_0_2_interpolated'\n",
    "      * 'cmc_0_0_0_2_next'\n",
    "      * 'cmc_0_0_0_2'\n",
    "    * gfs\n",
    "      * 'gfs_temperature_sea'\n",
    "      * 'gfs_temperature_sea_interpolated'\n",
    "      * 'gfs_temperature_sea_next'\n",
    "    * wrf\n",
    "      * 'wrf_t2'\n",
    "      * 'wrf_t2_next'\n",
    "      * 'wrf_t2_interpolated'\n",
    " * Dummy Classifier \n",
    "   * https://scikit-learn.org/stable/modules/generated/sklearn.dummy.DummyClassifier.html\n",
    "     * обучать на 2018_09, тетсировать на 2018_10\n"
   ]
  },
  {
   "cell_type": "code",
   "execution_count": 52,
   "metadata": {},
   "outputs": [],
   "source": [
    "from sklearn.linear_model import LinearRegression\n",
    "from sklearn.preprocessing import StandardScaler\n",
    "from sklearn.pipeline import make_pipeline\n",
    "from sklearn.metrics import mean_squared_error\n",
    "from sklearn.dummy import DummyRegressor\n",
    "\n",
    "\n",
    "linear_regression = make_pipeline(StandardScaler(), LinearRegression())"
   ]
  },
  {
   "cell_type": "code",
   "execution_count": 17,
   "metadata": {},
   "outputs": [
    {
     "data": {
      "text/plain": [
       "Pipeline(steps=[('standardscaler', StandardScaler()),\n",
       "                ('linearregression', LinearRegression())])"
      ]
     },
     "execution_count": 17,
     "metadata": {},
     "output_type": "execute_result"
    }
   ],
   "source": [
    "linear_regression.fit(\n",
    "    train_2018_09[[\"climate_temperature\"]], train_2018_09[[\"fact_temperature\"]]\n",
    ")"
   ]
  },
  {
   "cell_type": "code",
   "execution_count": 18,
   "metadata": {},
   "outputs": [],
   "source": [
    "Y_pred = linear_regression.predict(train_2018_09[[\"climate_temperature\"]])"
   ]
  },
  {
   "cell_type": "code",
   "execution_count": 19,
   "metadata": {},
   "outputs": [
    {
     "data": {
      "text/plain": [
       "19.81662454690147"
      ]
     },
     "execution_count": 19,
     "metadata": {},
     "output_type": "execute_result"
    }
   ],
   "source": [
    "mean_squared_error(Y_pred, train_2018_09.fact_temperature)"
   ]
  },
  {
   "cell_type": "code",
   "execution_count": 30,
   "metadata": {},
   "outputs": [
    {
     "data": {
      "text/plain": [
       "fact_temperature    0.608759\n",
       "dtype: float64"
      ]
     },
     "execution_count": 30,
     "metadata": {},
     "output_type": "execute_result"
    }
   ],
   "source": [
    "((train_2018_09[[\"fact_temperature\"]] - Y_pred).abs() > 2).sum() / train_2018_09.shape[\n",
    "    0\n",
    "]"
   ]
  },
  {
   "cell_type": "code",
   "execution_count": 47,
   "metadata": {},
   "outputs": [
    {
     "data": {
      "text/plain": [
       "Pipeline(steps=[('standardscaler', StandardScaler()),\n",
       "                ('linearregression', LinearRegression())])"
      ]
     },
     "execution_count": 47,
     "metadata": {},
     "output_type": "execute_result"
    }
   ],
   "source": [
    "X = train_2018_09[\n",
    "    [\n",
    "        \"cmc_0_0_0_2_interpolated\",\n",
    "        \"cmc_0_0_0_2_next\",\n",
    "        \"cmc_0_0_0_2\",\n",
    "        \"gfs_temperature_sea\",\n",
    "        \"gfs_temperature_sea_interpolated\",\n",
    "        \"gfs_temperature_sea_next\",\n",
    "        \"wrf_t2\",\n",
    "        \"wrf_t2_next\",\n",
    "        \"wrf_t2_interpolated\",\n",
    "    ]\n",
    "].dropna()\n",
    "\n",
    "linear_regression.fit(X, train_2018_09[[\"fact_temperature\"]].reindex(X.index))"
   ]
  },
  {
   "cell_type": "code",
   "execution_count": 49,
   "metadata": {},
   "outputs": [],
   "source": [
    "Y_pred = linear_regression.predict(X)"
   ]
  },
  {
   "cell_type": "code",
   "execution_count": 50,
   "metadata": {},
   "outputs": [
    {
     "data": {
      "text/plain": [
       "4.828638795126215"
      ]
     },
     "execution_count": 50,
     "metadata": {},
     "output_type": "execute_result"
    }
   ],
   "source": [
    "mean_squared_error(Y_pred, train_2018_09.fact_temperature.reindex(X.index))"
   ]
  },
  {
   "cell_type": "code",
   "execution_count": 51,
   "metadata": {},
   "outputs": [
    {
     "data": {
      "text/plain": [
       "fact_temperature    0.30899\n",
       "dtype: float64"
      ]
     },
     "execution_count": 51,
     "metadata": {},
     "output_type": "execute_result"
    }
   ],
   "source": [
    "(\n",
    "    (train_2018_09[[\"fact_temperature\"]].reindex(X.index) - Y_pred).abs() > 2\n",
    ").sum() / X.shape[0]"
   ]
  },
  {
   "cell_type": "code",
   "execution_count": 53,
   "metadata": {},
   "outputs": [],
   "source": [
    "dummy_regressor = DummyRegressor()"
   ]
  },
  {
   "cell_type": "code",
   "execution_count": 55,
   "metadata": {},
   "outputs": [
    {
     "data": {
      "text/plain": [
       "DummyRegressor()"
      ]
     },
     "execution_count": 55,
     "metadata": {},
     "output_type": "execute_result"
    }
   ],
   "source": [
    "dummy_regressor.fit(\n",
    "    train_2018_09.drop([\"fact_temperature\"], axis=1),\n",
    "    train_2018_09[[\"fact_temperature\"]],\n",
    ")"
   ]
  },
  {
   "cell_type": "code",
   "execution_count": 63,
   "metadata": {},
   "outputs": [],
   "source": [
    "Y_pred = dummy_regressor.predict(train_2018_10.drop([\"fact_temperature\"], axis=1))"
   ]
  },
  {
   "cell_type": "code",
   "execution_count": 65,
   "metadata": {},
   "outputs": [
    {
     "data": {
      "text/plain": [
       "82.15075458948557"
      ]
     },
     "execution_count": 65,
     "metadata": {},
     "output_type": "execute_result"
    }
   ],
   "source": [
    "mean_squared_error(Y_pred, train_2018_10.fact_temperature)"
   ]
  },
  {
   "cell_type": "code",
   "execution_count": 66,
   "metadata": {},
   "outputs": [
    {
     "data": {
      "text/plain": [
       "0.8257896620296341"
      ]
     },
     "execution_count": 66,
     "metadata": {},
     "output_type": "execute_result"
    }
   ],
   "source": [
    "((train_2018_10.fact_temperature - Y_pred).abs() > 2).sum() / train_2018_10.shape[0]"
   ]
  },
  {
   "cell_type": "markdown",
   "metadata": {},
   "source": [
    "### Задание 3. Решающее дерево (0.5 балла) \n",
    "\n",
    "Подобрать лучшее дерево решений на валидации. Понять, сколько в нём листов, и как долго оно обучается.\n",
    "  * обучающее множество пусть будет 2018_09, а валидационное -- 2018_10"
   ]
  },
  {
   "cell_type": "code",
   "execution_count": 67,
   "metadata": {},
   "outputs": [],
   "source": [
    "from sklearn.tree import DecisionTreeRegressor\n",
    "\n",
    "decision_tree_regressor = DecisionTreeRegressor()"
   ]
  },
  {
   "cell_type": "code",
   "execution_count": 88,
   "metadata": {},
   "outputs": [],
   "source": [
    "def preprocess(X):\n",
    "    return (\n",
    "        pd.concat([X, pd.get_dummies(X.climate)], axis=1)\n",
    "        .drop(\"climate\", axis=1)\n",
    "        .dropna()\n",
    "    )"
   ]
  },
  {
   "cell_type": "code",
   "execution_count": 89,
   "metadata": {},
   "outputs": [],
   "source": [
    "X = preprocess(train_2018_09)\n",
    "decision_tree_regressor.fit(\n",
    "    X.drop([\"fact_temperature\"], axis=1), X[[\"fact_temperature\"]]\n",
    ")"
   ]
  },
  {
   "cell_type": "code",
   "execution_count": 92,
   "metadata": {},
   "outputs": [],
   "source": [
    "Y = preprocess(train_2018_10)\n",
    "Y_pred = decision_tree_regressor.predict(Y.drop([\"fact_temperature\"], axis=1))"
   ]
  },
  {
   "cell_type": "code",
   "execution_count": 93,
   "metadata": {},
   "outputs": [
    {
     "data": {
      "text/plain": [
       "9.358222099510634"
      ]
     },
     "execution_count": 93,
     "metadata": {},
     "output_type": "execute_result"
    }
   ],
   "source": [
    "mean_squared_error(Y_pred, Y[[\"fact_temperature\"]])"
   ]
  },
  {
   "cell_type": "code",
   "execution_count": 95,
   "metadata": {},
   "outputs": [
    {
     "data": {
      "text/plain": [
       "0.3499462078945865"
      ]
     },
     "execution_count": 95,
     "metadata": {},
     "output_type": "execute_result"
    }
   ],
   "source": [
    "((Y.fact_temperature - Y_pred).abs() > 2).sum() / Y.shape[0]"
   ]
  },
  {
   "cell_type": "code",
   "execution_count": 106,
   "metadata": {},
   "outputs": [
    {
     "data": {
      "text/plain": [
       "166766"
      ]
     },
     "execution_count": 106,
     "metadata": {},
     "output_type": "execute_result"
    }
   ],
   "source": [
    "decision_tree_regressor.steps[1][1].get_n_leaves()"
   ]
  },
  {
   "cell_type": "markdown",
   "metadata": {},
   "source": [
    "### Задание 4. Строим ансамбли (1 балл) \n",
    "\n",
    "Обучить случайный лес [RF] и Extremely Randomized Trees [ERT] (см. тут: https://scikit-learn.org/stable/modules/ensemble.html ) с параметрами, лучшими для одиночного дерева решений (по глубине и прочим параметрам, которые вы варьировали в прошлом задании) и сравнить с моделями Extremely Randomized Tree и случайным лесом с дефолтными параметрами.\n",
    "\n",
    "Число деревьев в ансамбле возьмите для обоих сценариев равным 20. Замерьте время, потраченное на обучение."
   ]
  },
  {
   "cell_type": "code",
   "execution_count": null,
   "metadata": {},
   "outputs": [],
   "source": [
    "from sklearn.ensemble import RandomForestRegressor, ExtraTreesRegressor\n",
    "\n",
    "random_forest = RandomForestRegressor(n_estimators=20, max_depth=100)"
   ]
  },
  {
   "cell_type": "code",
   "execution_count": 115,
   "metadata": {},
   "outputs": [],
   "source": [
    "extra_forest = ExtraTreesRegressor(n_estimators=20, max_depth=100)"
   ]
  },
  {
   "cell_type": "code",
   "execution_count": 111,
   "metadata": {},
   "outputs": [
    {
     "name": "stderr",
     "output_type": "stream",
     "text": [
      "/var/folders/5w/gytwm8sd6vldh9ym3dvj_x_m0000gn/T/ipykernel_9196/2041937837.py:2: DataConversionWarning: A column-vector y was passed when a 1d array was expected. Please change the shape of y to (n_samples,), for example using ravel().\n",
      "  random_forest.fit(X.drop(['fact_temperature'], axis=1), X[['fact_temperature']])\n"
     ]
    },
    {
     "data": {
      "text/plain": [
       "RandomForestRegressor(max_depth=100, n_estimators=20)"
      ]
     },
     "execution_count": 111,
     "metadata": {},
     "output_type": "execute_result"
    }
   ],
   "source": [
    "X = preprocess(train_2018_09)\n",
    "random_forest.fit(X.drop([\"fact_temperature\"], axis=1), X[[\"fact_temperature\"]])"
   ]
  },
  {
   "cell_type": "code",
   "execution_count": 112,
   "metadata": {},
   "outputs": [],
   "source": [
    "Y = preprocess(train_2018_10)\n",
    "Y_pred = random_forest.predict(Y.drop([\"fact_temperature\"], axis=1))"
   ]
  },
  {
   "cell_type": "code",
   "execution_count": 113,
   "metadata": {},
   "outputs": [
    {
     "data": {
      "text/plain": [
       "4.285282539463411"
      ]
     },
     "execution_count": 113,
     "metadata": {},
     "output_type": "execute_result"
    }
   ],
   "source": [
    "mean_squared_error(Y_pred, Y[[\"fact_temperature\"]])"
   ]
  },
  {
   "cell_type": "code",
   "execution_count": 114,
   "metadata": {},
   "outputs": [
    {
     "data": {
      "text/plain": [
       "0.27696269779309557"
      ]
     },
     "execution_count": 114,
     "metadata": {},
     "output_type": "execute_result"
    }
   ],
   "source": [
    "((Y.fact_temperature - Y_pred).abs() > 2).sum() / Y.shape[0]"
   ]
  },
  {
   "cell_type": "code",
   "execution_count": 117,
   "metadata": {},
   "outputs": [
    {
     "name": "stderr",
     "output_type": "stream",
     "text": [
      "/var/folders/5w/gytwm8sd6vldh9ym3dvj_x_m0000gn/T/ipykernel_9196/4006292944.py:2: DataConversionWarning: A column-vector y was passed when a 1d array was expected. Please change the shape of y to (n_samples,), for example using ravel().\n",
      "  extra_forest.fit(X.drop(['fact_temperature'], axis=1), X[['fact_temperature']])\n"
     ]
    },
    {
     "data": {
      "text/plain": [
       "ExtraTreesRegressor(max_depth=100, n_estimators=20)"
      ]
     },
     "execution_count": 117,
     "metadata": {},
     "output_type": "execute_result"
    }
   ],
   "source": [
    "X = preprocess(train_2018_09)\n",
    "extra_forest.fit(X.drop([\"fact_temperature\"], axis=1), X[[\"fact_temperature\"]])"
   ]
  },
  {
   "cell_type": "code",
   "execution_count": 118,
   "metadata": {},
   "outputs": [],
   "source": [
    "Y = preprocess(train_2018_10)\n",
    "Y_pred = extra_forest.predict(Y.drop([\"fact_temperature\"], axis=1))"
   ]
  },
  {
   "cell_type": "code",
   "execution_count": 119,
   "metadata": {},
   "outputs": [
    {
     "data": {
      "text/plain": [
       "4.133662932955044"
      ]
     },
     "execution_count": 119,
     "metadata": {},
     "output_type": "execute_result"
    }
   ],
   "source": [
    "mean_squared_error(Y_pred, Y[[\"fact_temperature\"]])"
   ]
  },
  {
   "cell_type": "code",
   "execution_count": 120,
   "metadata": {},
   "outputs": [
    {
     "data": {
      "text/plain": [
       "0.2677394938781728"
      ]
     },
     "execution_count": 120,
     "metadata": {},
     "output_type": "execute_result"
    }
   ],
   "source": [
    "((Y.fact_temperature - Y_pred).abs() > 2).sum() / Y.shape[0]"
   ]
  },
  {
   "cell_type": "markdown",
   "metadata": {},
   "source": [
    "### Задание 5. Квантизация признаков (1 балл) "
   ]
  },
  {
   "cell_type": "markdown",
   "metadata": {},
   "source": [
    "Давайте загрубим (квантизуем) признаки, чтобы алгоритмам построения дерева перебирать меньше порогов.\n",
    "\n",
    "https://scikit-learn.org/stable/modules/generated/sklearn.preprocessing.KBinsDiscretizer.html#sklearn.preprocessing.KBinsDiscretizer\n",
    "\n",
    "Еще раз обучим модели из предыдущего задания и посмотрим, насколько изменяется время.\n",
    "\n",
    "Начинайте с более агрессивных квантизаций: т.е. сильно загрубляйте исходный признак."
   ]
  },
  {
   "cell_type": "code",
   "execution_count": 128,
   "metadata": {},
   "outputs": [],
   "source": [
    "from sklearn.preprocessing import KBinsDiscretizer\n",
    "\n",
    "discretizer = KBinsDiscretizer(n_bins=5, encode=\"ordinal\")"
   ]
  },
  {
   "cell_type": "code",
   "execution_count": 144,
   "metadata": {
    "collapsed": true,
    "jupyter": {
     "outputs_hidden": true
    }
   },
   "outputs": [
    {
     "name": "stderr",
     "output_type": "stream",
     "text": [
      "/Users/dimakoshman/.pyenv/versions/shad_env/lib/python3.9/site-packages/sklearn/preprocessing/_discretization.py:220: UserWarning: Bins whose width are too small (i.e., <= 1e-8) in feature 4 are removed. Consider decreasing the number of bins.\n",
      "  warnings.warn('Bins whose width are too small (i.e., <= '\n",
      "/Users/dimakoshman/.pyenv/versions/shad_env/lib/python3.9/site-packages/sklearn/preprocessing/_discretization.py:220: UserWarning: Bins whose width are too small (i.e., <= 1e-8) in feature 26 are removed. Consider decreasing the number of bins.\n",
      "  warnings.warn('Bins whose width are too small (i.e., <= '\n",
      "/Users/dimakoshman/.pyenv/versions/shad_env/lib/python3.9/site-packages/sklearn/preprocessing/_discretization.py:220: UserWarning: Bins whose width are too small (i.e., <= 1e-8) in feature 27 are removed. Consider decreasing the number of bins.\n",
      "  warnings.warn('Bins whose width are too small (i.e., <= '\n",
      "/Users/dimakoshman/.pyenv/versions/shad_env/lib/python3.9/site-packages/sklearn/preprocessing/_discretization.py:220: UserWarning: Bins whose width are too small (i.e., <= 1e-8) in feature 28 are removed. Consider decreasing the number of bins.\n",
      "  warnings.warn('Bins whose width are too small (i.e., <= '\n",
      "/Users/dimakoshman/.pyenv/versions/shad_env/lib/python3.9/site-packages/sklearn/preprocessing/_discretization.py:220: UserWarning: Bins whose width are too small (i.e., <= 1e-8) in feature 29 are removed. Consider decreasing the number of bins.\n",
      "  warnings.warn('Bins whose width are too small (i.e., <= '\n",
      "/Users/dimakoshman/.pyenv/versions/shad_env/lib/python3.9/site-packages/sklearn/preprocessing/_discretization.py:220: UserWarning: Bins whose width are too small (i.e., <= 1e-8) in feature 30 are removed. Consider decreasing the number of bins.\n",
      "  warnings.warn('Bins whose width are too small (i.e., <= '\n",
      "/Users/dimakoshman/.pyenv/versions/shad_env/lib/python3.9/site-packages/sklearn/preprocessing/_discretization.py:220: UserWarning: Bins whose width are too small (i.e., <= 1e-8) in feature 31 are removed. Consider decreasing the number of bins.\n",
      "  warnings.warn('Bins whose width are too small (i.e., <= '\n",
      "/Users/dimakoshman/.pyenv/versions/shad_env/lib/python3.9/site-packages/sklearn/preprocessing/_discretization.py:220: UserWarning: Bins whose width are too small (i.e., <= 1e-8) in feature 52 are removed. Consider decreasing the number of bins.\n",
      "  warnings.warn('Bins whose width are too small (i.e., <= '\n",
      "/Users/dimakoshman/.pyenv/versions/shad_env/lib/python3.9/site-packages/sklearn/preprocessing/_discretization.py:187: UserWarning: Feature 53 is constant and will be replaced with 0.\n",
      "  warnings.warn(\"Feature %d is constant and will be \"\n",
      "/Users/dimakoshman/.pyenv/versions/shad_env/lib/python3.9/site-packages/sklearn/preprocessing/_discretization.py:220: UserWarning: Bins whose width are too small (i.e., <= 1e-8) in feature 55 are removed. Consider decreasing the number of bins.\n",
      "  warnings.warn('Bins whose width are too small (i.e., <= '\n",
      "/Users/dimakoshman/.pyenv/versions/shad_env/lib/python3.9/site-packages/sklearn/preprocessing/_discretization.py:220: UserWarning: Bins whose width are too small (i.e., <= 1e-8) in feature 56 are removed. Consider decreasing the number of bins.\n",
      "  warnings.warn('Bins whose width are too small (i.e., <= '\n",
      "/Users/dimakoshman/.pyenv/versions/shad_env/lib/python3.9/site-packages/sklearn/preprocessing/_discretization.py:187: UserWarning: Feature 59 is constant and will be replaced with 0.\n",
      "  warnings.warn(\"Feature %d is constant and will be \"\n",
      "/Users/dimakoshman/.pyenv/versions/shad_env/lib/python3.9/site-packages/sklearn/preprocessing/_discretization.py:220: UserWarning: Bins whose width are too small (i.e., <= 1e-8) in feature 60 are removed. Consider decreasing the number of bins.\n",
      "  warnings.warn('Bins whose width are too small (i.e., <= '\n",
      "/Users/dimakoshman/.pyenv/versions/shad_env/lib/python3.9/site-packages/sklearn/preprocessing/_discretization.py:220: UserWarning: Bins whose width are too small (i.e., <= 1e-8) in feature 61 are removed. Consider decreasing the number of bins.\n",
      "  warnings.warn('Bins whose width are too small (i.e., <= '\n",
      "/Users/dimakoshman/.pyenv/versions/shad_env/lib/python3.9/site-packages/sklearn/preprocessing/_discretization.py:220: UserWarning: Bins whose width are too small (i.e., <= 1e-8) in feature 65 are removed. Consider decreasing the number of bins.\n",
      "  warnings.warn('Bins whose width are too small (i.e., <= '\n",
      "/Users/dimakoshman/.pyenv/versions/shad_env/lib/python3.9/site-packages/sklearn/preprocessing/_discretization.py:220: UserWarning: Bins whose width are too small (i.e., <= 1e-8) in feature 69 are removed. Consider decreasing the number of bins.\n",
      "  warnings.warn('Bins whose width are too small (i.e., <= '\n",
      "/Users/dimakoshman/.pyenv/versions/shad_env/lib/python3.9/site-packages/sklearn/preprocessing/_discretization.py:220: UserWarning: Bins whose width are too small (i.e., <= 1e-8) in feature 96 are removed. Consider decreasing the number of bins.\n",
      "  warnings.warn('Bins whose width are too small (i.e., <= '\n",
      "/Users/dimakoshman/.pyenv/versions/shad_env/lib/python3.9/site-packages/sklearn/preprocessing/_discretization.py:220: UserWarning: Bins whose width are too small (i.e., <= 1e-8) in feature 97 are removed. Consider decreasing the number of bins.\n",
      "  warnings.warn('Bins whose width are too small (i.e., <= '\n",
      "/Users/dimakoshman/.pyenv/versions/shad_env/lib/python3.9/site-packages/sklearn/preprocessing/_discretization.py:220: UserWarning: Bins whose width are too small (i.e., <= 1e-8) in feature 98 are removed. Consider decreasing the number of bins.\n",
      "  warnings.warn('Bins whose width are too small (i.e., <= '\n",
      "/Users/dimakoshman/.pyenv/versions/shad_env/lib/python3.9/site-packages/sklearn/preprocessing/_discretization.py:220: UserWarning: Bins whose width are too small (i.e., <= 1e-8) in feature 99 are removed. Consider decreasing the number of bins.\n",
      "  warnings.warn('Bins whose width are too small (i.e., <= '\n",
      "/Users/dimakoshman/.pyenv/versions/shad_env/lib/python3.9/site-packages/sklearn/preprocessing/_discretization.py:187: UserWarning: Feature 103 is constant and will be replaced with 0.\n",
      "  warnings.warn(\"Feature %d is constant and will be \"\n",
      "/Users/dimakoshman/.pyenv/versions/shad_env/lib/python3.9/site-packages/sklearn/preprocessing/_discretization.py:220: UserWarning: Bins whose width are too small (i.e., <= 1e-8) in feature 110 are removed. Consider decreasing the number of bins.\n",
      "  warnings.warn('Bins whose width are too small (i.e., <= '\n",
      "/Users/dimakoshman/.pyenv/versions/shad_env/lib/python3.9/site-packages/sklearn/preprocessing/_discretization.py:220: UserWarning: Bins whose width are too small (i.e., <= 1e-8) in feature 111 are removed. Consider decreasing the number of bins.\n",
      "  warnings.warn('Bins whose width are too small (i.e., <= '\n",
      "/Users/dimakoshman/.pyenv/versions/shad_env/lib/python3.9/site-packages/sklearn/preprocessing/_discretization.py:220: UserWarning: Bins whose width are too small (i.e., <= 1e-8) in feature 112 are removed. Consider decreasing the number of bins.\n",
      "  warnings.warn('Bins whose width are too small (i.e., <= '\n",
      "/Users/dimakoshman/.pyenv/versions/shad_env/lib/python3.9/site-packages/sklearn/preprocessing/_discretization.py:187: UserWarning: Feature 113 is constant and will be replaced with 0.\n",
      "  warnings.warn(\"Feature %d is constant and will be \"\n",
      "/Users/dimakoshman/.pyenv/versions/shad_env/lib/python3.9/site-packages/sklearn/preprocessing/_discretization.py:220: UserWarning: Bins whose width are too small (i.e., <= 1e-8) in feature 116 are removed. Consider decreasing the number of bins.\n",
      "  warnings.warn('Bins whose width are too small (i.e., <= '\n",
      "/Users/dimakoshman/.pyenv/versions/shad_env/lib/python3.9/site-packages/sklearn/preprocessing/_discretization.py:220: UserWarning: Bins whose width are too small (i.e., <= 1e-8) in feature 117 are removed. Consider decreasing the number of bins.\n",
      "  warnings.warn('Bins whose width are too small (i.e., <= '\n",
      "/Users/dimakoshman/.pyenv/versions/shad_env/lib/python3.9/site-packages/sklearn/preprocessing/_discretization.py:220: UserWarning: Bins whose width are too small (i.e., <= 1e-8) in feature 118 are removed. Consider decreasing the number of bins.\n",
      "  warnings.warn('Bins whose width are too small (i.e., <= '\n",
      "/Users/dimakoshman/.pyenv/versions/shad_env/lib/python3.9/site-packages/sklearn/preprocessing/_discretization.py:220: UserWarning: Bins whose width are too small (i.e., <= 1e-8) in feature 119 are removed. Consider decreasing the number of bins.\n",
      "  warnings.warn('Bins whose width are too small (i.e., <= '\n",
      "/Users/dimakoshman/.pyenv/versions/shad_env/lib/python3.9/site-packages/sklearn/preprocessing/_discretization.py:220: UserWarning: Bins whose width are too small (i.e., <= 1e-8) in feature 120 are removed. Consider decreasing the number of bins.\n",
      "  warnings.warn('Bins whose width are too small (i.e., <= '\n",
      "/Users/dimakoshman/.pyenv/versions/shad_env/lib/python3.9/site-packages/sklearn/preprocessing/_discretization.py:220: UserWarning: Bins whose width are too small (i.e., <= 1e-8) in feature 121 are removed. Consider decreasing the number of bins.\n",
      "  warnings.warn('Bins whose width are too small (i.e., <= '\n",
      "/Users/dimakoshman/.pyenv/versions/shad_env/lib/python3.9/site-packages/sklearn/preprocessing/_discretization.py:220: UserWarning: Bins whose width are too small (i.e., <= 1e-8) in feature 122 are removed. Consider decreasing the number of bins.\n",
      "  warnings.warn('Bins whose width are too small (i.e., <= '\n",
      "/Users/dimakoshman/.pyenv/versions/shad_env/lib/python3.9/site-packages/sklearn/preprocessing/_discretization.py:220: UserWarning: Bins whose width are too small (i.e., <= 1e-8) in feature 123 are removed. Consider decreasing the number of bins.\n",
      "  warnings.warn('Bins whose width are too small (i.e., <= '\n",
      "/Users/dimakoshman/.pyenv/versions/shad_env/lib/python3.9/site-packages/sklearn/preprocessing/_discretization.py:220: UserWarning: Bins whose width are too small (i.e., <= 1e-8) in feature 126 are removed. Consider decreasing the number of bins.\n",
      "  warnings.warn('Bins whose width are too small (i.e., <= '\n",
      "/Users/dimakoshman/.pyenv/versions/shad_env/lib/python3.9/site-packages/sklearn/preprocessing/_discretization.py:220: UserWarning: Bins whose width are too small (i.e., <= 1e-8) in feature 127 are removed. Consider decreasing the number of bins.\n",
      "  warnings.warn('Bins whose width are too small (i.e., <= '\n",
      "/Users/dimakoshman/.pyenv/versions/shad_env/lib/python3.9/site-packages/sklearn/preprocessing/_discretization.py:220: UserWarning: Bins whose width are too small (i.e., <= 1e-8) in feature 128 are removed. Consider decreasing the number of bins.\n",
      "  warnings.warn('Bins whose width are too small (i.e., <= '\n",
      "/Users/dimakoshman/.pyenv/versions/shad_env/lib/python3.9/site-packages/sklearn/preprocessing/_discretization.py:220: UserWarning: Bins whose width are too small (i.e., <= 1e-8) in feature 129 are removed. Consider decreasing the number of bins.\n",
      "  warnings.warn('Bins whose width are too small (i.e., <= '\n",
      "/Users/dimakoshman/.pyenv/versions/shad_env/lib/python3.9/site-packages/sklearn/preprocessing/_discretization.py:220: UserWarning: Bins whose width are too small (i.e., <= 1e-8) in feature 130 are removed. Consider decreasing the number of bins.\n",
      "  warnings.warn('Bins whose width are too small (i.e., <= '\n"
     ]
    }
   ],
   "source": [
    "X_discrete = pd.DataFrame(\n",
    "    discretizer.fit_transform(X), index=X.index, columns=X.columns\n",
    ")"
   ]
  },
  {
   "cell_type": "code",
   "execution_count": 145,
   "metadata": {},
   "outputs": [
    {
     "name": "stderr",
     "output_type": "stream",
     "text": [
      "/var/folders/5w/gytwm8sd6vldh9ym3dvj_x_m0000gn/T/ipykernel_9196/2377978563.py:1: DataConversionWarning: A column-vector y was passed when a 1d array was expected. Please change the shape of y to (n_samples,), for example using ravel().\n",
      "  extra_forest.fit(X_discrete.drop(['fact_temperature'], axis=1), X_discrete[['fact_temperature']])\n"
     ]
    },
    {
     "data": {
      "text/plain": [
       "ExtraTreesRegressor(max_depth=100, n_estimators=20)"
      ]
     },
     "execution_count": 145,
     "metadata": {},
     "output_type": "execute_result"
    }
   ],
   "source": [
    "extra_forest.fit(\n",
    "    X_discrete.drop([\"fact_temperature\"], axis=1), X_discrete[[\"fact_temperature\"]]\n",
    ")"
   ]
  },
  {
   "cell_type": "code",
   "execution_count": 146,
   "metadata": {
    "collapsed": true,
    "jupyter": {
     "outputs_hidden": true
    }
   },
   "outputs": [
    {
     "name": "stderr",
     "output_type": "stream",
     "text": [
      "/Users/dimakoshman/.pyenv/versions/shad_env/lib/python3.9/site-packages/sklearn/preprocessing/_discretization.py:220: UserWarning: Bins whose width are too small (i.e., <= 1e-8) in feature 4 are removed. Consider decreasing the number of bins.\n",
      "  warnings.warn('Bins whose width are too small (i.e., <= '\n",
      "/Users/dimakoshman/.pyenv/versions/shad_env/lib/python3.9/site-packages/sklearn/preprocessing/_discretization.py:220: UserWarning: Bins whose width are too small (i.e., <= 1e-8) in feature 26 are removed. Consider decreasing the number of bins.\n",
      "  warnings.warn('Bins whose width are too small (i.e., <= '\n",
      "/Users/dimakoshman/.pyenv/versions/shad_env/lib/python3.9/site-packages/sklearn/preprocessing/_discretization.py:220: UserWarning: Bins whose width are too small (i.e., <= 1e-8) in feature 27 are removed. Consider decreasing the number of bins.\n",
      "  warnings.warn('Bins whose width are too small (i.e., <= '\n",
      "/Users/dimakoshman/.pyenv/versions/shad_env/lib/python3.9/site-packages/sklearn/preprocessing/_discretization.py:220: UserWarning: Bins whose width are too small (i.e., <= 1e-8) in feature 28 are removed. Consider decreasing the number of bins.\n",
      "  warnings.warn('Bins whose width are too small (i.e., <= '\n",
      "/Users/dimakoshman/.pyenv/versions/shad_env/lib/python3.9/site-packages/sklearn/preprocessing/_discretization.py:220: UserWarning: Bins whose width are too small (i.e., <= 1e-8) in feature 29 are removed. Consider decreasing the number of bins.\n",
      "  warnings.warn('Bins whose width are too small (i.e., <= '\n",
      "/Users/dimakoshman/.pyenv/versions/shad_env/lib/python3.9/site-packages/sklearn/preprocessing/_discretization.py:220: UserWarning: Bins whose width are too small (i.e., <= 1e-8) in feature 30 are removed. Consider decreasing the number of bins.\n",
      "  warnings.warn('Bins whose width are too small (i.e., <= '\n",
      "/Users/dimakoshman/.pyenv/versions/shad_env/lib/python3.9/site-packages/sklearn/preprocessing/_discretization.py:220: UserWarning: Bins whose width are too small (i.e., <= 1e-8) in feature 31 are removed. Consider decreasing the number of bins.\n",
      "  warnings.warn('Bins whose width are too small (i.e., <= '\n",
      "/Users/dimakoshman/.pyenv/versions/shad_env/lib/python3.9/site-packages/sklearn/preprocessing/_discretization.py:220: UserWarning: Bins whose width are too small (i.e., <= 1e-8) in feature 52 are removed. Consider decreasing the number of bins.\n",
      "  warnings.warn('Bins whose width are too small (i.e., <= '\n",
      "/Users/dimakoshman/.pyenv/versions/shad_env/lib/python3.9/site-packages/sklearn/preprocessing/_discretization.py:187: UserWarning: Feature 53 is constant and will be replaced with 0.\n",
      "  warnings.warn(\"Feature %d is constant and will be \"\n",
      "/Users/dimakoshman/.pyenv/versions/shad_env/lib/python3.9/site-packages/sklearn/preprocessing/_discretization.py:220: UserWarning: Bins whose width are too small (i.e., <= 1e-8) in feature 55 are removed. Consider decreasing the number of bins.\n",
      "  warnings.warn('Bins whose width are too small (i.e., <= '\n",
      "/Users/dimakoshman/.pyenv/versions/shad_env/lib/python3.9/site-packages/sklearn/preprocessing/_discretization.py:220: UserWarning: Bins whose width are too small (i.e., <= 1e-8) in feature 56 are removed. Consider decreasing the number of bins.\n",
      "  warnings.warn('Bins whose width are too small (i.e., <= '\n",
      "/Users/dimakoshman/.pyenv/versions/shad_env/lib/python3.9/site-packages/sklearn/preprocessing/_discretization.py:187: UserWarning: Feature 59 is constant and will be replaced with 0.\n",
      "  warnings.warn(\"Feature %d is constant and will be \"\n",
      "/Users/dimakoshman/.pyenv/versions/shad_env/lib/python3.9/site-packages/sklearn/preprocessing/_discretization.py:220: UserWarning: Bins whose width are too small (i.e., <= 1e-8) in feature 60 are removed. Consider decreasing the number of bins.\n",
      "  warnings.warn('Bins whose width are too small (i.e., <= '\n",
      "/Users/dimakoshman/.pyenv/versions/shad_env/lib/python3.9/site-packages/sklearn/preprocessing/_discretization.py:220: UserWarning: Bins whose width are too small (i.e., <= 1e-8) in feature 61 are removed. Consider decreasing the number of bins.\n",
      "  warnings.warn('Bins whose width are too small (i.e., <= '\n",
      "/Users/dimakoshman/.pyenv/versions/shad_env/lib/python3.9/site-packages/sklearn/preprocessing/_discretization.py:220: UserWarning: Bins whose width are too small (i.e., <= 1e-8) in feature 65 are removed. Consider decreasing the number of bins.\n",
      "  warnings.warn('Bins whose width are too small (i.e., <= '\n",
      "/Users/dimakoshman/.pyenv/versions/shad_env/lib/python3.9/site-packages/sklearn/preprocessing/_discretization.py:220: UserWarning: Bins whose width are too small (i.e., <= 1e-8) in feature 69 are removed. Consider decreasing the number of bins.\n",
      "  warnings.warn('Bins whose width are too small (i.e., <= '\n",
      "/Users/dimakoshman/.pyenv/versions/shad_env/lib/python3.9/site-packages/sklearn/preprocessing/_discretization.py:220: UserWarning: Bins whose width are too small (i.e., <= 1e-8) in feature 96 are removed. Consider decreasing the number of bins.\n",
      "  warnings.warn('Bins whose width are too small (i.e., <= '\n",
      "/Users/dimakoshman/.pyenv/versions/shad_env/lib/python3.9/site-packages/sklearn/preprocessing/_discretization.py:220: UserWarning: Bins whose width are too small (i.e., <= 1e-8) in feature 97 are removed. Consider decreasing the number of bins.\n",
      "  warnings.warn('Bins whose width are too small (i.e., <= '\n",
      "/Users/dimakoshman/.pyenv/versions/shad_env/lib/python3.9/site-packages/sklearn/preprocessing/_discretization.py:220: UserWarning: Bins whose width are too small (i.e., <= 1e-8) in feature 98 are removed. Consider decreasing the number of bins.\n",
      "  warnings.warn('Bins whose width are too small (i.e., <= '\n",
      "/Users/dimakoshman/.pyenv/versions/shad_env/lib/python3.9/site-packages/sklearn/preprocessing/_discretization.py:220: UserWarning: Bins whose width are too small (i.e., <= 1e-8) in feature 99 are removed. Consider decreasing the number of bins.\n",
      "  warnings.warn('Bins whose width are too small (i.e., <= '\n",
      "/Users/dimakoshman/.pyenv/versions/shad_env/lib/python3.9/site-packages/sklearn/preprocessing/_discretization.py:187: UserWarning: Feature 103 is constant and will be replaced with 0.\n",
      "  warnings.warn(\"Feature %d is constant and will be \"\n",
      "/Users/dimakoshman/.pyenv/versions/shad_env/lib/python3.9/site-packages/sklearn/preprocessing/_discretization.py:220: UserWarning: Bins whose width are too small (i.e., <= 1e-8) in feature 110 are removed. Consider decreasing the number of bins.\n",
      "  warnings.warn('Bins whose width are too small (i.e., <= '\n",
      "/Users/dimakoshman/.pyenv/versions/shad_env/lib/python3.9/site-packages/sklearn/preprocessing/_discretization.py:220: UserWarning: Bins whose width are too small (i.e., <= 1e-8) in feature 111 are removed. Consider decreasing the number of bins.\n",
      "  warnings.warn('Bins whose width are too small (i.e., <= '\n",
      "/Users/dimakoshman/.pyenv/versions/shad_env/lib/python3.9/site-packages/sklearn/preprocessing/_discretization.py:220: UserWarning: Bins whose width are too small (i.e., <= 1e-8) in feature 112 are removed. Consider decreasing the number of bins.\n",
      "  warnings.warn('Bins whose width are too small (i.e., <= '\n",
      "/Users/dimakoshman/.pyenv/versions/shad_env/lib/python3.9/site-packages/sklearn/preprocessing/_discretization.py:187: UserWarning: Feature 113 is constant and will be replaced with 0.\n",
      "  warnings.warn(\"Feature %d is constant and will be \"\n",
      "/Users/dimakoshman/.pyenv/versions/shad_env/lib/python3.9/site-packages/sklearn/preprocessing/_discretization.py:220: UserWarning: Bins whose width are too small (i.e., <= 1e-8) in feature 116 are removed. Consider decreasing the number of bins.\n",
      "  warnings.warn('Bins whose width are too small (i.e., <= '\n",
      "/Users/dimakoshman/.pyenv/versions/shad_env/lib/python3.9/site-packages/sklearn/preprocessing/_discretization.py:220: UserWarning: Bins whose width are too small (i.e., <= 1e-8) in feature 117 are removed. Consider decreasing the number of bins.\n",
      "  warnings.warn('Bins whose width are too small (i.e., <= '\n",
      "/Users/dimakoshman/.pyenv/versions/shad_env/lib/python3.9/site-packages/sklearn/preprocessing/_discretization.py:220: UserWarning: Bins whose width are too small (i.e., <= 1e-8) in feature 118 are removed. Consider decreasing the number of bins.\n",
      "  warnings.warn('Bins whose width are too small (i.e., <= '\n",
      "/Users/dimakoshman/.pyenv/versions/shad_env/lib/python3.9/site-packages/sklearn/preprocessing/_discretization.py:220: UserWarning: Bins whose width are too small (i.e., <= 1e-8) in feature 119 are removed. Consider decreasing the number of bins.\n",
      "  warnings.warn('Bins whose width are too small (i.e., <= '\n",
      "/Users/dimakoshman/.pyenv/versions/shad_env/lib/python3.9/site-packages/sklearn/preprocessing/_discretization.py:220: UserWarning: Bins whose width are too small (i.e., <= 1e-8) in feature 120 are removed. Consider decreasing the number of bins.\n",
      "  warnings.warn('Bins whose width are too small (i.e., <= '\n",
      "/Users/dimakoshman/.pyenv/versions/shad_env/lib/python3.9/site-packages/sklearn/preprocessing/_discretization.py:220: UserWarning: Bins whose width are too small (i.e., <= 1e-8) in feature 121 are removed. Consider decreasing the number of bins.\n",
      "  warnings.warn('Bins whose width are too small (i.e., <= '\n",
      "/Users/dimakoshman/.pyenv/versions/shad_env/lib/python3.9/site-packages/sklearn/preprocessing/_discretization.py:220: UserWarning: Bins whose width are too small (i.e., <= 1e-8) in feature 122 are removed. Consider decreasing the number of bins.\n",
      "  warnings.warn('Bins whose width are too small (i.e., <= '\n",
      "/Users/dimakoshman/.pyenv/versions/shad_env/lib/python3.9/site-packages/sklearn/preprocessing/_discretization.py:220: UserWarning: Bins whose width are too small (i.e., <= 1e-8) in feature 123 are removed. Consider decreasing the number of bins.\n",
      "  warnings.warn('Bins whose width are too small (i.e., <= '\n",
      "/Users/dimakoshman/.pyenv/versions/shad_env/lib/python3.9/site-packages/sklearn/preprocessing/_discretization.py:220: UserWarning: Bins whose width are too small (i.e., <= 1e-8) in feature 126 are removed. Consider decreasing the number of bins.\n",
      "  warnings.warn('Bins whose width are too small (i.e., <= '\n",
      "/Users/dimakoshman/.pyenv/versions/shad_env/lib/python3.9/site-packages/sklearn/preprocessing/_discretization.py:220: UserWarning: Bins whose width are too small (i.e., <= 1e-8) in feature 127 are removed. Consider decreasing the number of bins.\n",
      "  warnings.warn('Bins whose width are too small (i.e., <= '\n",
      "/Users/dimakoshman/.pyenv/versions/shad_env/lib/python3.9/site-packages/sklearn/preprocessing/_discretization.py:220: UserWarning: Bins whose width are too small (i.e., <= 1e-8) in feature 128 are removed. Consider decreasing the number of bins.\n",
      "  warnings.warn('Bins whose width are too small (i.e., <= '\n",
      "/Users/dimakoshman/.pyenv/versions/shad_env/lib/python3.9/site-packages/sklearn/preprocessing/_discretization.py:220: UserWarning: Bins whose width are too small (i.e., <= 1e-8) in feature 129 are removed. Consider decreasing the number of bins.\n",
      "  warnings.warn('Bins whose width are too small (i.e., <= '\n",
      "/Users/dimakoshman/.pyenv/versions/shad_env/lib/python3.9/site-packages/sklearn/preprocessing/_discretization.py:220: UserWarning: Bins whose width are too small (i.e., <= 1e-8) in feature 130 are removed. Consider decreasing the number of bins.\n",
      "  warnings.warn('Bins whose width are too small (i.e., <= '\n"
     ]
    },
    {
     "ename": "ValueError",
     "evalue": "Shape of passed values is (420136, 131), indices imply (413000, 131)",
     "output_type": "error",
     "traceback": [
      "\u001b[0;31m---------------------------------------------------------------------------\u001b[0m",
      "\u001b[0;31mValueError\u001b[0m                                Traceback (most recent call last)",
      "\u001b[0;32m/var/folders/5w/gytwm8sd6vldh9ym3dvj_x_m0000gn/T/ipykernel_9196/1861160065.py\u001b[0m in \u001b[0;36m<module>\u001b[0;34m\u001b[0m\n\u001b[0;32m----> 1\u001b[0;31m \u001b[0mY_discrete\u001b[0m \u001b[0;34m=\u001b[0m \u001b[0mpd\u001b[0m\u001b[0;34m.\u001b[0m\u001b[0mDataFrame\u001b[0m\u001b[0;34m(\u001b[0m\u001b[0mdiscretizer\u001b[0m\u001b[0;34m.\u001b[0m\u001b[0mfit_transform\u001b[0m\u001b[0;34m(\u001b[0m\u001b[0mpreprocess\u001b[0m\u001b[0;34m(\u001b[0m\u001b[0mtrain_2018_10\u001b[0m\u001b[0;34m)\u001b[0m\u001b[0;34m)\u001b[0m\u001b[0;34m,\u001b[0m \u001b[0mindex\u001b[0m\u001b[0;34m=\u001b[0m\u001b[0mX\u001b[0m\u001b[0;34m.\u001b[0m\u001b[0mindex\u001b[0m\u001b[0;34m,\u001b[0m \u001b[0mcolumns\u001b[0m\u001b[0;34m=\u001b[0m\u001b[0mX\u001b[0m\u001b[0;34m.\u001b[0m\u001b[0mcolumns\u001b[0m\u001b[0;34m)\u001b[0m\u001b[0;34m\u001b[0m\u001b[0;34m\u001b[0m\u001b[0m\n\u001b[0m\u001b[1;32m      2\u001b[0m \u001b[0mY_pred\u001b[0m \u001b[0;34m=\u001b[0m \u001b[0mextra_forest\u001b[0m\u001b[0;34m.\u001b[0m\u001b[0mpredict\u001b[0m\u001b[0;34m(\u001b[0m\u001b[0mY_discrete\u001b[0m\u001b[0;34m.\u001b[0m\u001b[0mdrop\u001b[0m\u001b[0;34m(\u001b[0m\u001b[0;34m[\u001b[0m\u001b[0;34m'fact_temperature'\u001b[0m\u001b[0;34m]\u001b[0m\u001b[0;34m,\u001b[0m \u001b[0maxis\u001b[0m\u001b[0;34m=\u001b[0m\u001b[0;36m1\u001b[0m\u001b[0;34m)\u001b[0m\u001b[0;34m)\u001b[0m\u001b[0;34m\u001b[0m\u001b[0;34m\u001b[0m\u001b[0m\n",
      "\u001b[0;32m~/.pyenv/versions/shad_env/lib/python3.9/site-packages/pandas/core/frame.py\u001b[0m in \u001b[0;36m__init__\u001b[0;34m(self, data, index, columns, dtype, copy)\u001b[0m\n\u001b[1;32m    670\u001b[0m                 )\n\u001b[1;32m    671\u001b[0m             \u001b[0;32melse\u001b[0m\u001b[0;34m:\u001b[0m\u001b[0;34m\u001b[0m\u001b[0;34m\u001b[0m\u001b[0m\n\u001b[0;32m--> 672\u001b[0;31m                 mgr = ndarray_to_mgr(\n\u001b[0m\u001b[1;32m    673\u001b[0m                     \u001b[0mdata\u001b[0m\u001b[0;34m,\u001b[0m\u001b[0;34m\u001b[0m\u001b[0;34m\u001b[0m\u001b[0m\n\u001b[1;32m    674\u001b[0m                     \u001b[0mindex\u001b[0m\u001b[0;34m,\u001b[0m\u001b[0;34m\u001b[0m\u001b[0;34m\u001b[0m\u001b[0m\n",
      "\u001b[0;32m~/.pyenv/versions/shad_env/lib/python3.9/site-packages/pandas/core/internals/construction.py\u001b[0m in \u001b[0;36mndarray_to_mgr\u001b[0;34m(values, index, columns, dtype, copy, typ)\u001b[0m\n\u001b[1;32m    322\u001b[0m     )\n\u001b[1;32m    323\u001b[0m \u001b[0;34m\u001b[0m\u001b[0m\n\u001b[0;32m--> 324\u001b[0;31m     \u001b[0m_check_values_indices_shape_match\u001b[0m\u001b[0;34m(\u001b[0m\u001b[0mvalues\u001b[0m\u001b[0;34m,\u001b[0m \u001b[0mindex\u001b[0m\u001b[0;34m,\u001b[0m \u001b[0mcolumns\u001b[0m\u001b[0;34m)\u001b[0m\u001b[0;34m\u001b[0m\u001b[0;34m\u001b[0m\u001b[0m\n\u001b[0m\u001b[1;32m    325\u001b[0m \u001b[0;34m\u001b[0m\u001b[0m\n\u001b[1;32m    326\u001b[0m     \u001b[0;32mif\u001b[0m \u001b[0mtyp\u001b[0m \u001b[0;34m==\u001b[0m \u001b[0;34m\"array\"\u001b[0m\u001b[0;34m:\u001b[0m\u001b[0;34m\u001b[0m\u001b[0;34m\u001b[0m\u001b[0m\n",
      "\u001b[0;32m~/.pyenv/versions/shad_env/lib/python3.9/site-packages/pandas/core/internals/construction.py\u001b[0m in \u001b[0;36m_check_values_indices_shape_match\u001b[0;34m(values, index, columns)\u001b[0m\n\u001b[1;32m    391\u001b[0m         \u001b[0mpassed\u001b[0m \u001b[0;34m=\u001b[0m \u001b[0mvalues\u001b[0m\u001b[0;34m.\u001b[0m\u001b[0mshape\u001b[0m\u001b[0;34m\u001b[0m\u001b[0;34m\u001b[0m\u001b[0m\n\u001b[1;32m    392\u001b[0m         \u001b[0mimplied\u001b[0m \u001b[0;34m=\u001b[0m \u001b[0;34m(\u001b[0m\u001b[0mlen\u001b[0m\u001b[0;34m(\u001b[0m\u001b[0mindex\u001b[0m\u001b[0;34m)\u001b[0m\u001b[0;34m,\u001b[0m \u001b[0mlen\u001b[0m\u001b[0;34m(\u001b[0m\u001b[0mcolumns\u001b[0m\u001b[0;34m)\u001b[0m\u001b[0;34m)\u001b[0m\u001b[0;34m\u001b[0m\u001b[0;34m\u001b[0m\u001b[0m\n\u001b[0;32m--> 393\u001b[0;31m         \u001b[0;32mraise\u001b[0m \u001b[0mValueError\u001b[0m\u001b[0;34m(\u001b[0m\u001b[0;34mf\"Shape of passed values is {passed}, indices imply {implied}\"\u001b[0m\u001b[0;34m)\u001b[0m\u001b[0;34m\u001b[0m\u001b[0;34m\u001b[0m\u001b[0m\n\u001b[0m\u001b[1;32m    394\u001b[0m \u001b[0;34m\u001b[0m\u001b[0m\n\u001b[1;32m    395\u001b[0m \u001b[0;34m\u001b[0m\u001b[0m\n",
      "\u001b[0;31mValueError\u001b[0m: Shape of passed values is (420136, 131), indices imply (413000, 131)"
     ]
    }
   ],
   "source": [
    "Y_discrete = pd.DataFrame(\n",
    "    discretizer.fit_transform(preprocess(train_2018_10)),\n",
    "    index=X.index,\n",
    "    columns=X.columns,\n",
    ")\n",
    "Y_pred = extra_forest.predict(Y_discrete.drop([\"fact_temperature\"], axis=1))"
   ]
  },
  {
   "cell_type": "code",
   "execution_count": 147,
   "metadata": {},
   "outputs": [
    {
     "data": {
      "text/plain": [
       "4.133662932955044"
      ]
     },
     "execution_count": 147,
     "metadata": {},
     "output_type": "execute_result"
    }
   ],
   "source": [
    "mean_squared_error(Y_pred, Y[[\"fact_temperature\"]])"
   ]
  },
  {
   "cell_type": "code",
   "execution_count": 148,
   "metadata": {},
   "outputs": [
    {
     "data": {
      "text/plain": [
       "0.2677394938781728"
      ]
     },
     "execution_count": 148,
     "metadata": {},
     "output_type": "execute_result"
    }
   ],
   "source": [
    "((Y.fact_temperature - Y_pred).abs() > 2).sum() / Y.shape[0]"
   ]
  },
  {
   "cell_type": "markdown",
   "metadata": {},
   "source": [
    "### Задание 6 (0.5 балл) \n",
    "Катбуст умеет квантизовать признаки. Но как transformer в терминах sklearn он не функционирует.\n",
    "Давайте напишем свой класс Трансформер, который будет\n",
    "  * создавать cb.Pool\n",
    "  * вызывать pool.quantize(border_count=32,feature_border_type=\"UniformAndQuantiles\")  \n",
    "  * сохранять pool.save_quantization_borders(\"borders.dat\")\n",
    "  * парсить этот файл, который имеет вполне прозрачную структуру\n",
    "    * индекс признака, граница разбиения, возможно, указание, как быть в nan. \n",
    "  * при помощи np.digitize производить квантизацию\n"
   ]
  },
  {
   "cell_type": "markdown",
   "metadata": {},
   "source": [
    "https://catboost.ai/en/docs/concepts/quantization"
   ]
  },
  {
   "cell_type": "code",
   "execution_count": 150,
   "metadata": {},
   "outputs": [],
   "source": [
    "import catboost as cb"
   ]
  },
  {
   "cell_type": "code",
   "execution_count": 3,
   "metadata": {
    "jupyter": {
     "outputs_hidden": true
    }
   },
   "outputs": [
    {
     "ename": "ImportError",
     "evalue": "cannot import name 'CatBoostRegressor' from 'catboost' (unknown location)",
     "output_type": "error",
     "traceback": [
      "\u001b[0;31m---------------------------------------------------------------------------\u001b[0m",
      "\u001b[0;31mImportError\u001b[0m                               Traceback (most recent call last)",
      "\u001b[0;32m/var/folders/5w/gytwm8sd6vldh9ym3dvj_x_m0000gn/T/ipykernel_20055/3954946007.py\u001b[0m in \u001b[0;36m<module>\u001b[0;34m\u001b[0m\n\u001b[0;32m----> 1\u001b[0;31m \u001b[0;32mfrom\u001b[0m \u001b[0mcatboost\u001b[0m \u001b[0;32mimport\u001b[0m \u001b[0mCatBoostRegressor\u001b[0m\u001b[0;34m\u001b[0m\u001b[0;34m\u001b[0m\u001b[0m\n\u001b[0m\u001b[1;32m      2\u001b[0m \u001b[0;34m\u001b[0m\u001b[0m\n\u001b[1;32m      3\u001b[0m \u001b[0mdataset\u001b[0m \u001b[0;34m=\u001b[0m \u001b[0mnumpy\u001b[0m\u001b[0;34m.\u001b[0m\u001b[0marray\u001b[0m\u001b[0;34m(\u001b[0m\u001b[0;34m[\u001b[0m\u001b[0;34m[\u001b[0m\u001b[0;36m1\u001b[0m\u001b[0;34m,\u001b[0m\u001b[0;36m4\u001b[0m\u001b[0;34m,\u001b[0m\u001b[0;36m5\u001b[0m\u001b[0;34m,\u001b[0m\u001b[0;36m6\u001b[0m\u001b[0;34m]\u001b[0m\u001b[0;34m,\u001b[0m\u001b[0;34m[\u001b[0m\u001b[0;36m4\u001b[0m\u001b[0;34m,\u001b[0m\u001b[0;36m5\u001b[0m\u001b[0;34m,\u001b[0m\u001b[0;36m6\u001b[0m\u001b[0;34m,\u001b[0m\u001b[0;36m7\u001b[0m\u001b[0;34m]\u001b[0m\u001b[0;34m,\u001b[0m\u001b[0;34m[\u001b[0m\u001b[0;36m30\u001b[0m\u001b[0;34m,\u001b[0m\u001b[0;36m40\u001b[0m\u001b[0;34m,\u001b[0m\u001b[0;36m50\u001b[0m\u001b[0;34m,\u001b[0m\u001b[0;36m60\u001b[0m\u001b[0;34m]\u001b[0m\u001b[0;34m,\u001b[0m\u001b[0;34m[\u001b[0m\u001b[0;36m20\u001b[0m\u001b[0;34m,\u001b[0m\u001b[0;36m15\u001b[0m\u001b[0;34m,\u001b[0m\u001b[0;36m85\u001b[0m\u001b[0;34m,\u001b[0m\u001b[0;36m60\u001b[0m\u001b[0;34m]\u001b[0m\u001b[0;34m]\u001b[0m\u001b[0;34m)\u001b[0m\u001b[0;34m\u001b[0m\u001b[0;34m\u001b[0m\u001b[0m\n\u001b[1;32m      4\u001b[0m \u001b[0mtrain_labels\u001b[0m \u001b[0;34m=\u001b[0m \u001b[0;34m[\u001b[0m\u001b[0;36m1.2\u001b[0m\u001b[0;34m,\u001b[0m\u001b[0;36m3.4\u001b[0m\u001b[0;34m,\u001b[0m\u001b[0;36m9.5\u001b[0m\u001b[0;34m,\u001b[0m\u001b[0;36m24.5\u001b[0m\u001b[0;34m]\u001b[0m\u001b[0;34m\u001b[0m\u001b[0;34m\u001b[0m\u001b[0m\n\u001b[1;32m      5\u001b[0m \u001b[0mmodel\u001b[0m \u001b[0;34m=\u001b[0m \u001b[0mCatBoostRegressor\u001b[0m\u001b[0;34m(\u001b[0m\u001b[0mlearning_rate\u001b[0m\u001b[0;34m=\u001b[0m\u001b[0;36m1\u001b[0m\u001b[0;34m,\u001b[0m \u001b[0mdepth\u001b[0m\u001b[0;34m=\u001b[0m\u001b[0;36m6\u001b[0m\u001b[0;34m,\u001b[0m \u001b[0mloss_function\u001b[0m\u001b[0;34m=\u001b[0m\u001b[0;34m'RMSE'\u001b[0m\u001b[0;34m)\u001b[0m\u001b[0;34m\u001b[0m\u001b[0;34m\u001b[0m\u001b[0m\n",
      "\u001b[0;31mImportError\u001b[0m: cannot import name 'CatBoostRegressor' from 'catboost' (unknown location)"
     ]
    }
   ],
   "source": [
    "from catboost import CatBoostRegressor\n",
    "\n",
    "dataset = numpy.array([[1, 4, 5, 6], [4, 5, 6, 7], [30, 40, 50, 60], [20, 15, 85, 60]])\n",
    "train_labels = [1.2, 3.4, 9.5, 24.5]\n",
    "model = CatBoostRegressor(learning_rate=1, depth=6, loss_function=\"RMSE\")\n",
    "fit_model = model.fit(dataset, train_labels)\n",
    "\n",
    "print(fit_model.get_params())"
   ]
  },
  {
   "cell_type": "markdown",
   "metadata": {},
   "source": [
    "### Задание 7 (1 балл) \n",
    "Подберите метод квантизации (в Catboost их несколько) и число border`ов , чтобы улучшить модели из Задания 4 (там мы учили случайные леса RF и Extremely Randomized Trees ERT ).\n",
    "\n",
    "Произошло ли ускорение, за счет квантизации?\n",
    "\n",
    "Можем ли мы позволить себе больше глубины в деревьях и число элеметнов в ансамбле? \n",
    "\n",
    "На какой итерации ансамбли перестают улчшаться на валидационной выборке?"
   ]
  },
  {
   "cell_type": "code",
   "execution_count": null,
   "metadata": {},
   "outputs": [],
   "source": []
  },
  {
   "cell_type": "code",
   "execution_count": null,
   "metadata": {},
   "outputs": [],
   "source": []
  },
  {
   "cell_type": "markdown",
   "metadata": {},
   "source": [
    "### Задание 8 (1 балл) \n",
    "Обучите Catboost напрямую. Какого результата удается добиться?"
   ]
  },
  {
   "cell_type": "code",
   "execution_count": null,
   "metadata": {},
   "outputs": [],
   "source": []
  },
  {
   "cell_type": "code",
   "execution_count": null,
   "metadata": {},
   "outputs": [],
   "source": []
  },
  {
   "cell_type": "markdown",
   "metadata": {},
   "source": [
    "### Задание 9 (1 балл) \n",
    "Возьмите лучшие модели из заданий 4, 6 и 8\n",
    "  * сравните важности принаков \n",
    "    * встроенными методами\n",
    "    * при помщи пакета shap"
   ]
  },
  {
   "cell_type": "code",
   "execution_count": null,
   "metadata": {},
   "outputs": [],
   "source": []
  },
  {
   "cell_type": "code",
   "execution_count": null,
   "metadata": {},
   "outputs": [],
   "source": []
  },
  {
   "cell_type": "markdown",
   "metadata": {},
   "source": [
    "### Задание 10 (0.5 балл) \n",
    "В ролике Лена упоминала про ускорение за счет обучения моделей на разных географических регионах. \n",
    "Как первое приближение индикатора принадлежности к тому или иному региону попробуйте использовать имеющуюся категориальную переменную climate.\n",
    "\n",
    "Удалось ли за счет этого увеличить качество?\n",
    "Можно ли придумать что-то лучшее, чем разбиение по climate?"
   ]
  },
  {
   "cell_type": "code",
   "execution_count": null,
   "metadata": {},
   "outputs": [],
   "source": []
  },
  {
   "cell_type": "code",
   "execution_count": null,
   "metadata": {},
   "outputs": [],
   "source": []
  },
  {
   "cell_type": "markdown",
   "metadata": {},
   "source": [
    "## Часть 2\n",
    "Давайте теперь поставим задачу классификации.\n",
    "\n",
    "<img src=\"./images/cwsm_classes.jpg\">"
   ]
  },
  {
   "cell_type": "code",
   "execution_count": 18,
   "metadata": {},
   "outputs": [
    {
     "data": {
      "text/plain": [
       "0.0     175257\n",
       "10.0    148256\n",
       "20.0     81576\n",
       "11.0     13115\n",
       "21.0     12004\n",
       "23.0       170\n",
       "13.0        36\n",
       "22.0        16\n",
       "12.0         6\n",
       "Name: fact_cwsm_class, dtype: int64"
      ]
     },
     "execution_count": 18,
     "metadata": {},
     "output_type": "execute_result"
    }
   ],
   "source": [
    "train_2018_09.fact_cwsm_class.value_counts(dropna=False)"
   ]
  },
  {
   "cell_type": "code",
   "execution_count": 19,
   "metadata": {},
   "outputs": [
    {
     "data": {
      "text/plain": [
       "True     0.941113\n",
       "False    0.058887\n",
       "Name: fact_cwsm_class, dtype: float64"
      ]
     },
     "execution_count": 19,
     "metadata": {},
     "output_type": "execute_result"
    }
   ],
   "source": [
    "(train_2018_09.fact_cwsm_class.astype(\"int8\").isin([0, 10, 20])).value_counts(\n",
    "    normalize=True\n",
    ")"
   ]
  },
  {
   "cell_type": "code",
   "execution_count": 20,
   "metadata": {},
   "outputs": [
    {
     "data": {
      "text/plain": [
       "15.981676770764345"
      ]
     },
     "execution_count": 20,
     "metadata": {},
     "output_type": "execute_result"
    }
   ],
   "source": [
    "0.941113 / 0.058887"
   ]
  },
  {
   "cell_type": "code",
   "execution_count": 21,
   "metadata": {},
   "outputs": [
    {
     "data": {
      "text/plain": [
       "True     0.93364\n",
       "False    0.06636\n",
       "Name: fact_cwsm_class, dtype: float64"
      ]
     },
     "execution_count": 21,
     "metadata": {},
     "output_type": "execute_result"
    }
   ],
   "source": [
    "(train_2018_10.fact_cwsm_class.astype(\"int8\").isin([0, 10, 20])).value_counts(\n",
    "    normalize=True\n",
    ")"
   ]
  },
  {
   "cell_type": "markdown",
   "metadata": {},
   "source": [
    "Видно, что по объектам шанс 1 к 16, что будет дождь."
   ]
  },
  {
   "cell_type": "markdown",
   "metadata": {},
   "source": [
    "Сначала будем решать задачу бинарной классификации"
   ]
  },
  {
   "cell_type": "markdown",
   "metadata": {},
   "source": [
    "Как будем оценивать эту задачу?\n",
    "Раз у нас классы не сбалансированы, то, согласно, например https://ysda_trove.gitlab.io/ml-handbook/chapters/model_evaluation/intro, \n",
    "метрика accuracy/error_rate нам не подойдёт.\n",
    "\n",
    "Давайте будем рассматривать\n",
    "  * сбалансированную точность как основную метрику качества\n",
    "  * Как вспомогательные\n",
    "    * точность предсказания класса 1\n",
    "    * полноту предсказания класса 1\n",
    "    * F1-меру\n",
    "  \n",
    "Для начала порог отсечения при принятии решения к какому классу относится предскзаание будем брать 0.5"
   ]
  },
  {
   "cell_type": "markdown",
   "metadata": {},
   "source": [
    "### Задание 11 (0.5 балла) \n",
    " \n",
    "Постройте baseline решения:\n",
    "  \n",
    "* Dummy Classifier \n",
    "\n",
    "* дерево решений\n",
    "\n",
    "По валидационной выборке подберите лучшие параметры\n",
    "    "
   ]
  },
  {
   "cell_type": "code",
   "execution_count": null,
   "metadata": {},
   "outputs": [],
   "source": []
  },
  {
   "cell_type": "markdown",
   "metadata": {},
   "source": [
    "### Задание 12 (2.5 балла) \n",
    "  * обучите RF-ERT на оригинальных признаках\n",
    "  * обучите RF-ERT поверх бинаризации, которая была лучшей в задачи регрессии\n",
    "  * обучите catboost\n",
    "  * сравните качество по рассмотренным ранее метрикам (основной и дополнительным)\n",
    "  * сравните важности принаков \n",
    "    * встроенными методами\n",
    "    * при помщи пакета shap"
   ]
  },
  {
   "cell_type": "code",
   "execution_count": null,
   "metadata": {},
   "outputs": [],
   "source": []
  },
  {
   "cell_type": "code",
   "execution_count": null,
   "metadata": {},
   "outputs": [],
   "source": []
  },
  {
   "cell_type": "markdown",
   "metadata": {},
   "source": [
    "### Задание 13. \"Протухание модели\" (0.5 балла) \n",
    "  \n",
    "  Давайте узнаем, происходит ли устаревание (\"протухание\") модели. \n",
    "    \n",
    "  Расмотрите, как модели из регрессионной и классификационной задач предсказывают на 2018_11, 2018_12 и 2019_01.\n",
    "  \n",
    "  Происходит ли деградация?"
   ]
  },
  {
   "cell_type": "code",
   "execution_count": null,
   "metadata": {},
   "outputs": [],
   "source": []
  },
  {
   "cell_type": "code",
   "execution_count": null,
   "metadata": {},
   "outputs": [],
   "source": []
  },
  {
   "cell_type": "markdown",
   "metadata": {},
   "source": [
    "## Калибровка классификатора\n",
    "\n",
    "Рассмотрим в задачу, где целевой метрикой является *logloss*. В этом случае необходимо, чтобы классификатор умел предсказывать вероятность принадлежности к классу. К сожалению, на практике часто получается так, что либо классификатор не обладает желаемым свойством (например, SVM без специальных настроек), либо метод *predict_proba* возвращает некорректную вероятность (например, случайный лес возвращает среднее арифметическое вероятностей от каждого дерева, которое не обязано являться корректной вероятностью, подробнее [здесь](http://people.dsv.su.se/~henke/papers/bostrom08b.pdf)).\n",
    "\n",
    "В этом случае возможны несколько подходов: \n",
    " - Заменить классификатор на тот, который умеет предсказывать вероятности.\n",
    " - Воспользоваться калибровкой ответов.\n",
    " \n",
    "В общем случае первый подход не самый удачный выбор, так как накладывает ограничения на модели, которые можно использовать. Поэтому рассмотрим второй более подробно. По умолчанию SVM может вычислять отступ от заданного объекта до разделяющей гиперплоскости, а не возвращать вероятности. После чего можно обучить преобразование, которое искажает возвращаемое значение в вероятность  — это и называется **калибровкой**. Есть несколько известных методов калибровки:\n",
    " - Калибровка Платта.\n",
    " - Изотоническая регрессия.\n",
    "\n",
    "Обратите внимание, что преобразование необходимо обучать на отложенной выборке (то есть классификатор и калибровка должны обучаться на разных подмножествах данных), иначе можно переобучиться. Калибровку можно применять к любым классификаторам (где это разумно и необходимо), особенно к тем, которые не оптимизируют logloss явно.\n",
    "\n",
    "Для калибровки классификатора в sklearn возможны два подхода:\n",
    " - взять уже обученный классификатор и откалибровать его на отложенной выборке\n",
    " - откалибровать по кросс-валидации: калибровочному классификатору передается вся обучающая выборка, которая внутри разбивается на обучающую и калибровочную, после чего происходит усреднение вероятностей по фолдам.\n",
    " \n",
    "Подробнее об этом можно прочитать в [документации](http://scikit-learn.org/stable/modules/generated/sklearn.calibration.CalibratedClassifierCV.html#sklearn.calibration.CalibratedClassifierCV). Также [здесь](https://jmetzen.github.io/2015-04-14/calibration.html) можно узнать подробности о калибровке в sklearn от автора.\n",
    "\n",
    "Замечание: выше написано, что SVM по умолчанию не возвращает вероятности. Если же заглянуть в документацию [SVC](http://scikit-learn.org/stable/modules/generated/sklearn.svm.SVC.html), то можно найти параметр *probability*. Если установить его равным *True*, то у такого классификатора можно вызвать метод *predict_proba* и получить оценки вероятностей. В библиотеке реализована калибровка Платта и с классификатором проделывается примерно тоже самое, что было описано выше. Использование этого параметра замедляет процесс обучения, зато позволяет сразу же использовать данный классификатор для оценивания вероятностей. Обратите внимание, что у класса [LinearSVC](http://scikit-learn.org/stable/modules/generated/sklearn.svm.LinearSVC.html) такой опции нет."
   ]
  },
  {
   "cell_type": "markdown",
   "metadata": {},
   "source": [
    "### Задание 14 (0.5 балла) \n",
    "  Вспомним, что мы не подбирали порог, по которому классификаторы превращают оценку вероятности принадлежности к первому классу \n",
    "  \n",
    "  Давайте оценим, насколько хорошо калиброваны наши классификаторы из Задания 11 на 2018_11\n",
    "  \n",
    "    \n",
    "  ссылка на главу учебника\n",
    "https://ysda_trove.gitlab.io/ml-handbook/chapters/prob_ML/calibration"
   ]
  },
  {
   "cell_type": "markdown",
   "metadata": {},
   "source": [
    "https://scikit-learn.org/stable/auto_examples/calibration/plot_calibration_curve.html#sphx-glr-auto-examples-calibration-plot-calibration-curve-py"
   ]
  },
  {
   "cell_type": "markdown",
   "metadata": {},
   "source": [
    "https://dyakonov.org/2020/03/27/проблема-калибровки-уверенности/"
   ]
  },
  {
   "cell_type": "code",
   "execution_count": null,
   "metadata": {},
   "outputs": [],
   "source": []
  },
  {
   "cell_type": "code",
   "execution_count": null,
   "metadata": {},
   "outputs": [],
   "source": []
  },
  {
   "cell_type": "markdown",
   "metadata": {},
   "source": [
    "### Задание 15 (1 балл) \n",
    "\n",
    "Давайте откалибруем классификаторы из задания 11 на 2018_10 и вновь посмотрим на качество их калибровки на 2018_11.\n",
    "\n",
    "Построим кривые точность-полнота для класса 1 и класса 0 у некалиброванных и калиброванных моделей. Отличаются ли они?"
   ]
  },
  {
   "cell_type": "code",
   "execution_count": null,
   "metadata": {},
   "outputs": [],
   "source": []
  },
  {
   "cell_type": "code",
   "execution_count": null,
   "metadata": {},
   "outputs": [],
   "source": []
  },
  {
   "cell_type": "markdown",
   "metadata": {},
   "source": [
    "Мы попробовали два типа ансамблей: случайный лес (бэггинг) и градиентный бустинг. Время что-нибудь настекать!\n"
   ]
  },
  {
   "cell_type": "markdown",
   "metadata": {},
   "source": [
    "Описание того, как строить ансамбли типа стекинг можно найти по слудующим ссылкам\n",
    "  * На лекции https://lk.yandexdataschool.ru/courses/2021-autumn/7.936-machine-learning-1/classes/7718/\n",
    "  * В учебнике https://ysda_trove.gitlab.io/ml-handbook/chapters/ensembles/intro#стекинг\n",
    "  * В статье https://dyakonov.org/2017/03/10/cтекинг-stacking-и-блендинг-blending/"
   ]
  },
  {
   "cell_type": "markdown",
   "metadata": {},
   "source": [
    "### Задание 16 (2 балла) \n",
    "    \n",
    "  Какие базовые модели можно использовать:\n",
    "    * лучшие модели из задания 11\n",
    "    * давайте обучим логистическую регрессию\n",
    "    * по желанию, попробуйте нейросеть\n",
    "    \n",
    "  Попробуйте брать 2-3 разные базовые модели первого уровня, а в качестве модели второго уровня пропробуйте ERT и catboost.\n",
    "    \n",
    "  Весь ансабль должен быть обучен на 2018_09, т.е. нужно применять cross_val_predict.  \n",
    "  Почему так следует делать, можно вспомнить, заглянув в соответствующий раздел учебника  \n",
    "  https://ysda_trove.gitlab.io/ml-handbook/chapters/ensembles/intro"
   ]
  },
  {
   "cell_type": "code",
   "execution_count": null,
   "metadata": {},
   "outputs": [],
   "source": []
  }
 ],
 "metadata": {
  "kernelspec": {
   "display_name": "PyCharm (DimaKoshman)",
   "language": "python",
   "name": "pycharm-39683df4"
  },
  "language_info": {
   "codemirror_mode": {
    "name": "ipython",
    "version": 3
   },
   "file_extension": ".py",
   "mimetype": "text/x-python",
   "name": "python",
   "nbconvert_exporter": "python",
   "pygments_lexer": "ipython3",
   "version": "3.9.7"
  }
 },
 "nbformat": 4,
 "nbformat_minor": 4
}
