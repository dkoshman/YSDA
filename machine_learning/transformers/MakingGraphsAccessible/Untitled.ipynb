{
 "cells": [
  {
   "cell_type": "code",
   "execution_count": null,
   "id": "80ff41f2",
   "metadata": {},
   "outputs": [],
   "source": [
    "import gradio\n",
    "import transformers\n",
    "import types"
   ]
  },
  {
   "cell_type": "code",
   "execution_count": 14,
   "id": "575ce3e6",
   "metadata": {},
   "outputs": [],
   "source": [
    "checkpoint_path = \"checkpoint\"\n",
    "examples_path = \"examples\"\n",
    "\n",
    "MODEL = types.SimpleNamespace()\n",
    "MODEL.donut_processor = transformers.DonutProcessor.from_pretrained(checkpoint_path)\n",
    "MODEL.encoder_decoder = transformers.VisionEncoderDecoderModel.from_pretrained(checkpoint_path)\n",
    "MODEL.tokenizer = MODEL.donut_processor.tokenizer"
   ]
  },
  {
   "cell_type": "code",
   "execution_count": 20,
   "id": "b80c5b64",
   "metadata": {},
   "outputs": [],
   "source": [
    "def generate_token_strings(images, skip_special_tokens=True) -> list[str]:\n",
    "    decoder_output = MODEL.encoder_decoder.generate(\n",
    "        images,\n",
    "        max_length=MODEL.encoder_decoder.config.decoder.max_length,\n",
    "        eos_token_id=MODEL.tokenizer.eos_token_id,\n",
    "        return_dict_in_generate=True,\n",
    "    )\n",
    "    return MODEL.tokenizer.batch_decode(\n",
    "        decoder_output.sequences, skip_special_tokens=skip_special_tokens\n",
    "    )\n",
    "\n",
    "def predict_string(image) -> str:\n",
    "    image = MODEL.donut_processor(\n",
    "        image, random_padding=False, return_tensors=\"pt\"\n",
    "    ).pixel_values\n",
    "    string = generate_token_strings(image)[0]\n",
    "    return string"
   ]
  },
  {
   "cell_type": "code",
   "execution_count": 27,
   "id": "ea3d79f5",
   "metadata": {},
   "outputs": [],
   "source": [
    "interface = gradio.Interface(\n",
    "    title = \"Making graphs accessible\",\n",
    "    description = \"Generate textual representation of a graph\\n\"\n",
    "    \"https://www.kaggle.com/competitions/benetech-making-graphs-accessible\",\n",
    "    fn=predict_string,\n",
    "    inputs=\"image\",\n",
    "    outputs=\"text\",\n",
    "    examples=examples_path,\n",
    ")"
   ]
  },
  {
   "cell_type": "code",
   "execution_count": 28,
   "id": "e36897bc",
   "metadata": {},
   "outputs": [
    {
     "name": "stdout",
     "output_type": "stream",
     "text": [
      "Running on local URL:  http://127.0.0.1:7865\n",
      "Running on public URL: https://464f29ccef8ccf90d0.gradio.live\n",
      "\n",
      "This share link expires in 72 hours. For free permanent hosting and GPU upgrades (NEW!), check out Spaces: https://huggingface.co/spaces\n"
     ]
    },
    {
     "data": {
      "text/html": [
       "<div><iframe src=\"https://464f29ccef8ccf90d0.gradio.live\" width=\"100%\" height=\"500\" allow=\"autoplay; camera; microphone; clipboard-read; clipboard-write;\" frameborder=\"0\" allowfullscreen></iframe></div>"
      ],
      "text/plain": [
       "<IPython.core.display.HTML object>"
      ]
     },
     "metadata": {},
     "output_type": "display_data"
    },
    {
     "data": {
      "text/plain": []
     },
     "execution_count": 28,
     "metadata": {},
     "output_type": "execute_result"
    }
   ],
   "source": [
    "interface.launch()"
   ]
  },
  {
   "cell_type": "code",
   "execution_count": null,
   "id": "6ee50fef",
   "metadata": {},
   "outputs": [],
   "source": []
  }
 ],
 "metadata": {
  "kernelspec": {
   "display_name": "Python 3 (ipykernel)",
   "language": "python",
   "name": "python3"
  },
  "language_info": {
   "codemirror_mode": {
    "name": "ipython",
    "version": 3
   },
   "file_extension": ".py",
   "mimetype": "text/x-python",
   "name": "python",
   "nbconvert_exporter": "python",
   "pygments_lexer": "ipython3",
   "version": "3.10.7"
  }
 },
 "nbformat": 4,
 "nbformat_minor": 5
}
