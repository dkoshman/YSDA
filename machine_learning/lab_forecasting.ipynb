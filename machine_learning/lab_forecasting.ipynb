{
 "cells": [
  {
   "cell_type": "markdown",
   "id": "af80a671",
   "metadata": {},
   "source": [
    "https://contest.yandex.ru/contest/48440/problems/?nc=gfhguN62\n",
    "\n",
    "## [Imports](#Imports_)\n",
    "## [Globals](#Globals_)\n",
    "## [Setup](#Setup_)\n",
    "## [Data](#Data_)"
   ]
  },
  {
   "cell_type": "markdown",
   "id": "a317725f",
   "metadata": {},
   "source": [
    "## Imports <span id=Imports_></span>"
   ]
  },
  {
   "cell_type": "code",
   "execution_count": 452,
   "id": "ceccd97b",
   "metadata": {},
   "outputs": [
    {
     "name": "stdout",
     "output_type": "stream",
     "text": [
      "The nb_black extension is already loaded. To reload it, use:\n",
      "  %reload_ext nb_black\n"
     ]
    },
    {
     "data": {
      "application/javascript": [
       "\n",
       "            setTimeout(function() {\n",
       "                var nbb_cell_id = 452;\n",
       "                var nbb_unformatted_code = \"%load_ext nb_black\\n\\nimport catboost\\nimport dataclasses\\nimport datetime\\nimport functools\\nimport numpy as np\\nimport pandas as pd\\nimport sklearn\\nimport sklearn.ensemble\\nimport sklearn.linear_model\\nimport sklearn.metrics\\nimport torch\\nimport typing as tp\\nimport warnings\";\n",
       "                var nbb_formatted_code = \"%load_ext nb_black\\n\\nimport catboost\\nimport dataclasses\\nimport datetime\\nimport functools\\nimport numpy as np\\nimport pandas as pd\\nimport sklearn\\nimport sklearn.ensemble\\nimport sklearn.linear_model\\nimport sklearn.metrics\\nimport torch\\nimport typing as tp\\nimport warnings\";\n",
       "                var nbb_cells = Jupyter.notebook.get_cells();\n",
       "                for (var i = 0; i < nbb_cells.length; ++i) {\n",
       "                    if (nbb_cells[i].input_prompt_number == nbb_cell_id) {\n",
       "                        if (nbb_cells[i].get_text() == nbb_unformatted_code) {\n",
       "                             nbb_cells[i].set_text(nbb_formatted_code);\n",
       "                        }\n",
       "                        break;\n",
       "                    }\n",
       "                }\n",
       "            }, 500);\n",
       "            "
      ],
      "text/plain": [
       "<IPython.core.display.Javascript object>"
      ]
     },
     "metadata": {},
     "output_type": "display_data"
    }
   ],
   "source": [
    "%load_ext nb_black\n",
    "\n",
    "import catboost\n",
    "import dataclasses\n",
    "import datetime\n",
    "import functools\n",
    "import numpy as np\n",
    "import pandas as pd\n",
    "import sklearn\n",
    "import sklearn.ensemble\n",
    "import sklearn.linear_model\n",
    "import sklearn.metrics\n",
    "import torch\n",
    "import typing as tp\n",
    "import warnings"
   ]
  },
  {
   "cell_type": "markdown",
   "id": "209e8b8c",
   "metadata": {},
   "source": [
    "## Globals <span id=Globals_></span>"
   ]
  },
  {
   "cell_type": "code",
   "execution_count": 5,
   "id": "63248a3a",
   "metadata": {},
   "outputs": [
    {
     "data": {
      "application/javascript": [
       "\n",
       "            setTimeout(function() {\n",
       "                var nbb_cell_id = 5;\n",
       "                var nbb_unformatted_code = \"COMPETITION = \\\"demand-forecasting-kernels-only\\\"\\n\\nX_type = tp.NewType(\\\"X_type\\\", np.ndarray)\\nX_row_type = tp.NewType(\\\"X_row_type\\\", np.ndarray)\\nY_type = tp.NewType(\\\"Y_type\\\", np.array)\\nTS_type = tp.NewType(\\\"TS_type\\\", pd.Series)\\nModel_type = tp.TypeVar(\\\"Model_type\\\")\";\n",
       "                var nbb_formatted_code = \"COMPETITION = \\\"demand-forecasting-kernels-only\\\"\\n\\nX_type = tp.NewType(\\\"X_type\\\", np.ndarray)\\nX_row_type = tp.NewType(\\\"X_row_type\\\", np.ndarray)\\nY_type = tp.NewType(\\\"Y_type\\\", np.array)\\nTS_type = tp.NewType(\\\"TS_type\\\", pd.Series)\\nModel_type = tp.TypeVar(\\\"Model_type\\\")\";\n",
       "                var nbb_cells = Jupyter.notebook.get_cells();\n",
       "                for (var i = 0; i < nbb_cells.length; ++i) {\n",
       "                    if (nbb_cells[i].input_prompt_number == nbb_cell_id) {\n",
       "                        if (nbb_cells[i].get_text() == nbb_unformatted_code) {\n",
       "                             nbb_cells[i].set_text(nbb_formatted_code);\n",
       "                        }\n",
       "                        break;\n",
       "                    }\n",
       "                }\n",
       "            }, 500);\n",
       "            "
      ],
      "text/plain": [
       "<IPython.core.display.Javascript object>"
      ]
     },
     "metadata": {},
     "output_type": "display_data"
    }
   ],
   "source": [
    "COMPETITION = \"demand-forecasting-kernels-only\"\n",
    "\n",
    "X_type = tp.NewType(\"X_type\", np.ndarray)\n",
    "X_row_type = tp.NewType(\"X_row_type\", np.ndarray)\n",
    "Y_type = tp.NewType(\"Y_type\", np.array)\n",
    "TS_type = tp.NewType(\"TS_type\", pd.Series)\n",
    "Model_type = tp.TypeVar(\"Model_type\")"
   ]
  },
  {
   "cell_type": "markdown",
   "id": "3035ee0d",
   "metadata": {},
   "source": [
    "## Setup <span id=Setup_></span>"
   ]
  },
  {
   "cell_type": "markdown",
   "id": "7d2671c5",
   "metadata": {},
   "source": [
    "### Notebook"
   ]
  },
  {
   "cell_type": "code",
   "execution_count": 6,
   "id": "96a4da94",
   "metadata": {},
   "outputs": [
    {
     "data": {
      "application/javascript": [
       "\n",
       "            setTimeout(function() {\n",
       "                var nbb_cell_id = 6;\n",
       "                var nbb_unformatted_code = \"def make_new_markdown_section_with_link(section, header=\\\"##\\\", do_print=True):\\n    section_id = section.replace(\\\" \\\", \\\"_\\\") + \\\"_\\\"\\n    section_link = f\\\"{header} [{section}](#{section_id})\\\"\\n    section_header = f\\\"{header} {section} <span id={section_id}></span>\\\"\\n    if do_print:\\n        print(section_link + \\\"\\\\n\\\" + section_header)\\n    return section_link, section_header\\n\\n\\ndef make_several_sections(section_names=(\\\"Setup\\\", \\\"Imports\\\", \\\"Data\\\")):\\n    links, headers = zip(\\n        *[\\n            make_new_markdown_section_with_link(sn, do_print=False)\\n            for sn in section_names\\n        ]\\n    )\\n    print(\\\"\\\\n\\\".join(links + (\\\"\\\",) + headers))\";\n",
       "                var nbb_formatted_code = \"def make_new_markdown_section_with_link(section, header=\\\"##\\\", do_print=True):\\n    section_id = section.replace(\\\" \\\", \\\"_\\\") + \\\"_\\\"\\n    section_link = f\\\"{header} [{section}](#{section_id})\\\"\\n    section_header = f\\\"{header} {section} <span id={section_id}></span>\\\"\\n    if do_print:\\n        print(section_link + \\\"\\\\n\\\" + section_header)\\n    return section_link, section_header\\n\\n\\ndef make_several_sections(section_names=(\\\"Setup\\\", \\\"Imports\\\", \\\"Data\\\")):\\n    links, headers = zip(\\n        *[\\n            make_new_markdown_section_with_link(sn, do_print=False)\\n            for sn in section_names\\n        ]\\n    )\\n    print(\\\"\\\\n\\\".join(links + (\\\"\\\",) + headers))\";\n",
       "                var nbb_cells = Jupyter.notebook.get_cells();\n",
       "                for (var i = 0; i < nbb_cells.length; ++i) {\n",
       "                    if (nbb_cells[i].input_prompt_number == nbb_cell_id) {\n",
       "                        if (nbb_cells[i].get_text() == nbb_unformatted_code) {\n",
       "                             nbb_cells[i].set_text(nbb_formatted_code);\n",
       "                        }\n",
       "                        break;\n",
       "                    }\n",
       "                }\n",
       "            }, 500);\n",
       "            "
      ],
      "text/plain": [
       "<IPython.core.display.Javascript object>"
      ]
     },
     "metadata": {},
     "output_type": "display_data"
    }
   ],
   "source": [
    "def make_new_markdown_section_with_link(section, header=\"##\", do_print=True):\n",
    "    section_id = section.replace(\" \", \"_\") + \"_\"\n",
    "    section_link = f\"{header} [{section}](#{section_id})\"\n",
    "    section_header = f\"{header} {section} <span id={section_id}></span>\"\n",
    "    if do_print:\n",
    "        print(section_link + \"\\n\" + section_header)\n",
    "    return section_link, section_header\n",
    "\n",
    "\n",
    "def make_several_sections(section_names=(\"Setup\", \"Imports\", \"Data\")):\n",
    "    links, headers = zip(\n",
    "        *[\n",
    "            make_new_markdown_section_with_link(sn, do_print=False)\n",
    "            for sn in section_names\n",
    "        ]\n",
    "    )\n",
    "    print(\"\\n\".join(links + (\"\",) + headers))"
   ]
  },
  {
   "cell_type": "markdown",
   "id": "9cb72ced",
   "metadata": {},
   "source": [
    "### Terminal"
   ]
  },
  {
   "cell_type": "code",
   "execution_count": 12,
   "id": "af6ce88c",
   "metadata": {},
   "outputs": [
    {
     "data": {
      "application/javascript": [
       "\n",
       "            setTimeout(function() {\n",
       "                var nbb_cell_id = 12;\n",
       "                var nbb_unformatted_code = \"def mkdir(path, error_if_exists=False):\\n    !mkdir {\\\"-p\\\" if not error_if_exists else \\\"\\\"} {path}\\n\\n\\ndef unzip(zip_path, save_path=None, delete_zip=False):\\n    !unzip {zip_path} {\\\"-d \\\"+ save_path if save_path else \\\"\\\"}\\n    if delete_zip:\\n        for path in glob.glob(zip_path):\\n            if path.endswith(\\\".zip\\\"):\\n                !trash {path}\\n                \\ndef unzip_to_data_and_delete():\\n    unzip(\\\"data/*\\\", \\\"data\\\", delete_zip=True)\";\n",
       "                var nbb_formatted_code = \"def mkdir(path, error_if_exists=False):\\n    !mkdir {\\\"-p\\\" if not error_if_exists else \\\"\\\"} {path}\\n\\n\\ndef unzip(zip_path, save_path=None, delete_zip=False):\\n    !unzip {zip_path} {\\\"-d \\\"+ save_path if save_path else \\\"\\\"}\\n    if delete_zip:\\n        for path in glob.glob(zip_path):\\n            if path.endswith(\\\".zip\\\"):\\n                !trash {path}\\n\\n\\ndef unzip_to_data_and_delete():\\n    unzip(\\\"data/*\\\", \\\"data\\\", delete_zip=True)\";\n",
       "                var nbb_cells = Jupyter.notebook.get_cells();\n",
       "                for (var i = 0; i < nbb_cells.length; ++i) {\n",
       "                    if (nbb_cells[i].input_prompt_number == nbb_cell_id) {\n",
       "                        if (nbb_cells[i].get_text() == nbb_unformatted_code) {\n",
       "                             nbb_cells[i].set_text(nbb_formatted_code);\n",
       "                        }\n",
       "                        break;\n",
       "                    }\n",
       "                }\n",
       "            }, 500);\n",
       "            "
      ],
      "text/plain": [
       "<IPython.core.display.Javascript object>"
      ]
     },
     "metadata": {},
     "output_type": "display_data"
    }
   ],
   "source": [
    "def mkdir(path, error_if_exists=False):\n",
    "    !mkdir {\"-p\" if not error_if_exists else \"\"} {path}\n",
    "\n",
    "\n",
    "def unzip(zip_path, save_path=None, delete_zip=False):\n",
    "    !unzip {zip_path} {\"-d \"+ save_path if save_path else \"\"}\n",
    "    if delete_zip:\n",
    "        for path in glob.glob(zip_path):\n",
    "            if path.endswith(\".zip\"):\n",
    "                !trash {path}\n",
    "\n",
    "\n",
    "def unzip_to_data_and_delete():\n",
    "    unzip(\"data/*\", \"data\", delete_zip=True)"
   ]
  },
  {
   "cell_type": "markdown",
   "id": "54cb0a14",
   "metadata": {},
   "source": [
    "### Kaggle"
   ]
  },
  {
   "cell_type": "code",
   "execution_count": 8,
   "id": "b33c43de",
   "metadata": {},
   "outputs": [
    {
     "data": {
      "application/javascript": [
       "\n",
       "            setTimeout(function() {\n",
       "                var nbb_cell_id = 8;\n",
       "                var nbb_unformatted_code = \"def kaggle_competitions_search(search_term):\\n    !kaggle competitions list -s {search_term}\\n\\n\\ndef kaggle_competitions_files(competition):\\n    !kaggle competitions files {competition}\\n\\n\\ndef kaggle_competitions_download(competition, save_path=\\\"data\\\", filename=None):\\n    mkdir(save_path)\\n    !kaggle competitions download -p {save_path} {\\\"-f \\\" + filename if filename else \\\"\\\"} {competition}\\n\\n\\ndef kaggle_competitions_submit(competition, filename, message=\\\"submit\\\"):\\n    !kaggle competitions submit -f {filename} -m {message} {competition}\\n\\n\\ndef kaggle_competitions_submissions(competition):\\n    !kaggle competitions submissions {competition}\";\n",
       "                var nbb_formatted_code = \"def kaggle_competitions_search(search_term):\\n    !kaggle competitions list -s {search_term}\\n\\n\\ndef kaggle_competitions_files(competition):\\n    !kaggle competitions files {competition}\\n\\n\\ndef kaggle_competitions_download(competition, save_path=\\\"data\\\", filename=None):\\n    mkdir(save_path)\\n    !kaggle competitions download -p {save_path} {\\\"-f \\\" + filename if filename else \\\"\\\"} {competition}\\n\\n\\ndef kaggle_competitions_submit(competition, filename, message=\\\"submit\\\"):\\n    !kaggle competitions submit -f {filename} -m {message} {competition}\\n\\n\\ndef kaggle_competitions_submissions(competition):\\n    !kaggle competitions submissions {competition}\";\n",
       "                var nbb_cells = Jupyter.notebook.get_cells();\n",
       "                for (var i = 0; i < nbb_cells.length; ++i) {\n",
       "                    if (nbb_cells[i].input_prompt_number == nbb_cell_id) {\n",
       "                        if (nbb_cells[i].get_text() == nbb_unformatted_code) {\n",
       "                             nbb_cells[i].set_text(nbb_formatted_code);\n",
       "                        }\n",
       "                        break;\n",
       "                    }\n",
       "                }\n",
       "            }, 500);\n",
       "            "
      ],
      "text/plain": [
       "<IPython.core.display.Javascript object>"
      ]
     },
     "metadata": {},
     "output_type": "display_data"
    }
   ],
   "source": [
    "def kaggle_competitions_search(search_term):\n",
    "    !kaggle competitions list -s {search_term}\n",
    "\n",
    "\n",
    "def kaggle_competitions_files(competition):\n",
    "    !kaggle competitions files {competition}\n",
    "\n",
    "\n",
    "def kaggle_competitions_download(competition, save_path=\"data\", filename=None):\n",
    "    mkdir(save_path)\n",
    "    !kaggle competitions download -p {save_path} {\"-f \" + filename if filename else \"\"} {competition}\n",
    "\n",
    "\n",
    "def kaggle_competitions_submit(competition, filename, message=\"submit\"):\n",
    "    !kaggle competitions submit -f {filename} -m {message} {competition}\n",
    "\n",
    "\n",
    "def kaggle_competitions_submissions(competition):\n",
    "    !kaggle competitions submissions {competition}\n"
   ]
  },
  {
   "cell_type": "code",
   "execution_count": 9,
   "id": "fe71422f",
   "metadata": {},
   "outputs": [
    {
     "name": "stdout",
     "output_type": "stream",
     "text": [
      "name                    size  creationDate         \r\n",
      "---------------------  -----  -------------------  \r\n",
      "train.csv               17MB  2019-12-15 20:53:53  \r\n",
      "test.csv               952KB  2019-12-15 20:53:53  \r\n",
      "sample_submission.csv  385KB  2019-12-15 20:53:53  \r\n"
     ]
    },
    {
     "data": {
      "application/javascript": [
       "\n",
       "            setTimeout(function() {\n",
       "                var nbb_cell_id = 9;\n",
       "                var nbb_unformatted_code = \"kaggle_competitions_files(COMPETITION)\";\n",
       "                var nbb_formatted_code = \"kaggle_competitions_files(COMPETITION)\";\n",
       "                var nbb_cells = Jupyter.notebook.get_cells();\n",
       "                for (var i = 0; i < nbb_cells.length; ++i) {\n",
       "                    if (nbb_cells[i].input_prompt_number == nbb_cell_id) {\n",
       "                        if (nbb_cells[i].get_text() == nbb_unformatted_code) {\n",
       "                             nbb_cells[i].set_text(nbb_formatted_code);\n",
       "                        }\n",
       "                        break;\n",
       "                    }\n",
       "                }\n",
       "            }, 500);\n",
       "            "
      ],
      "text/plain": [
       "<IPython.core.display.Javascript object>"
      ]
     },
     "metadata": {},
     "output_type": "display_data"
    }
   ],
   "source": [
    "kaggle_competitions_files(COMPETITION)"
   ]
  },
  {
   "cell_type": "code",
   "execution_count": 59,
   "id": "84308c84",
   "metadata": {},
   "outputs": [
    {
     "name": "stdout",
     "output_type": "stream",
     "text": [
      "Downloading demand-forecasting-kernels-only.zip to data\n",
      "100%|██████████████████████████████████████| 3.29M/3.29M [00:00<00:00, 8.37MB/s]\n",
      "100%|██████████████████████████████████████| 3.29M/3.29M [00:00<00:00, 7.12MB/s]\n"
     ]
    },
    {
     "data": {
      "application/javascript": [
       "\n",
       "            setTimeout(function() {\n",
       "                var nbb_cell_id = 59;\n",
       "                var nbb_unformatted_code = \"kaggle_competitions_download(COMPETITION)\";\n",
       "                var nbb_formatted_code = \"kaggle_competitions_download(COMPETITION)\";\n",
       "                var nbb_cells = Jupyter.notebook.get_cells();\n",
       "                for (var i = 0; i < nbb_cells.length; ++i) {\n",
       "                    if (nbb_cells[i].input_prompt_number == nbb_cell_id) {\n",
       "                        if (nbb_cells[i].get_text() == nbb_unformatted_code) {\n",
       "                             nbb_cells[i].set_text(nbb_formatted_code);\n",
       "                        }\n",
       "                        break;\n",
       "                    }\n",
       "                }\n",
       "            }, 500);\n",
       "            "
      ],
      "text/plain": [
       "<IPython.core.display.Javascript object>"
      ]
     },
     "metadata": {},
     "output_type": "display_data"
    }
   ],
   "source": [
    "kaggle_competitions_download(COMPETITION)"
   ]
  },
  {
   "cell_type": "code",
   "execution_count": null,
   "id": "cec0cde9",
   "metadata": {},
   "outputs": [],
   "source": [
    "unzip_to_data_and_delete()"
   ]
  },
  {
   "cell_type": "markdown",
   "id": "a8406b28",
   "metadata": {},
   "source": [
    "## Data <span id=Data_></span>"
   ]
  },
  {
   "cell_type": "code",
   "execution_count": 885,
   "id": "045b5384",
   "metadata": {},
   "outputs": [
    {
     "data": {
      "application/javascript": [
       "\n",
       "            setTimeout(function() {\n",
       "                var nbb_cell_id = 885;\n",
       "                var nbb_unformatted_code = \"def extract_hybrid_strategy_features(\\n    timeseries: TS_type,\\n    model_idx: int,\\n    window_size: int = 7,\\n) -> X_row_type:\\n    \\\"\\\"\\\"\\n    \\u0424\\u0443\\u043d\\u043a\\u0446\\u0438\\u044f \\u0434\\u043b\\u044f \\u043f\\u043e\\u043b\\u0443\\u0447\\u0435\\u043d\\u0438\\u044f \\u0432\\u0435\\u043a\\u0442\\u043e\\u0440\\u0430 \\u0444\\u0438\\u0447\\u0435\\u0439 \\u0441\\u043e\\u0433\\u043b\\u0430\\u0441\\u043d\\u043e \\u0433\\u0438\\u0431\\u0440\\u0438\\u0434\\u043d\\u043e\\u0439 \\u0441\\u0445\\u0435\\u043c\\u0435. \\u041d\\u0430 \\u0432\\u0445\\u043e\\u0434 \\u043f\\u043e\\u0434\\u0430\\u0451\\u0442\\u0441\\u044f \\u0432\\u0440\\u0435\\u043c\\u0435\\u043d\\u043d\\u043e\\u0439 \\u0440\\u044f\\u0434\\n    \\u0434\\u043e \\u043c\\u043e\\u043c\\u0435\\u043d\\u0442\\u0430 T, \\u0444\\u0443\\u043d\\u043a\\u0446\\u0438\\u044f \\u0432\\u044b\\u0434\\u0435\\u043b\\u044f\\u0435\\u0442 \\u0438\\u0437 \\u043d\\u0435\\u0433\\u043e \\u0444\\u0438\\u0447\\u0438, \\u043d\\u0435\\u043e\\u0431\\u0445\\u043e\\u0434\\u0438\\u043c\\u044b\\u0435 \\u043c\\u043e\\u0434\\u0435\\u043b\\u0438 \\u043f\\u043e\\u0434 \\u043d\\u043e\\u043c\\u0435\\u0440\\u043e\\u043c model_idx \\u0434\\u043b\\u044f\\n    \\u043f\\u0440\\u043e\\u0433\\u043d\\u043e\\u0437\\u0430 \\u043d\\u0430 \\u043c\\u043e\\u043c\\u0435\\u043d\\u0442 \\u0432\\u0440\\u0435\\u043c\\u0435\\u043d\\u0438 T\\n\\n    Args:\\n        timeseries --- \\u0432\\u0440\\u0435\\u043c\\u0435\\u043d\\u043d\\u043e\\u0439 \\u0440\\u044f\\u0434 \\u0434\\u043e \\u043c\\u043e\\u043c\\u0435\\u043d\\u0442\\u0430 \\u0432\\u0440\\u0435\\u043c\\u0435\\u043d\\u0438 T (\\u043d\\u0435 \\u0432\\u043a\\u043b\\u044e\\u0447\\u0438\\u0442\\u0435\\u043b\\u044c\\u043d\\u043e), pd.Series \\u0441 \\u0434\\u0430\\u0442\\u043e\\u0439\\n                       \\u0432 \\u043a\\u0430\\u0447\\u0435\\u0441\\u0442\\u0432\\u0435 \\u0438\\u043d\\u0434\\u0435\\u043a\\u0441\\u0430\\n        model_idx --- \\u0438\\u043d\\u0434\\u0435\\u043a\\u0441 \\u043c\\u043e\\u0434\\u0435\\u043b\\u0438, \\u0442\\u043e \\u0435\\u0441\\u0442\\u044c \\u043d\\u043e\\u043c\\u0435\\u0440 \\u0448\\u0430\\u0433\\u0430 \\u043f\\u0440\\u043e\\u0433\\u043d\\u043e\\u0437\\u0430,\\n                      \\u0434\\u043b\\u044f \\u043a\\u043e\\u0442\\u043e\\u0440\\u043e\\u0433\\u043e \\u043d\\u0443\\u0436\\u043d\\u043e \\u043f\\u043e\\u043b\\u0443\\u0447\\u0438\\u0442\\u044c \\u043f\\u0440\\u0438\\u0437\\u043d\\u0430\\u043a\\u0438, \\u043d\\u0443\\u043c\\u0435\\u0440\\u0430\\u0446\\u0438\\u044f \\u0441 \\u043d\\u0443\\u043b\\u044f\\n        window_size --- \\u043a\\u043e\\u043b\\u0438\\u0447\\u0435\\u0441\\u0442\\u0432\\u043e \\u043f\\u043e\\u0441\\u043b\\u0435\\u0434\\u043d\\u0438\\u0445 \\u0437\\u043d\\u0430\\u0447\\u0435\\u043d\\u0438\\u0439 \\u0440\\u044f\\u0434\\u0430, \\u0438\\u0441\\u043f\\u043e\\u043b\\u044c\\u0437\\u0443\\u0435\\u043c\\u044b\\u0445 \\u0434\\u043b\\u044f \\u043f\\u0440\\u043e\\u0433\\u043d\\u043e\\u0437\\u0430\\n                        (\\u0431\\u0435\\u0437 \\u0443\\u0447\\u0451\\u0442\\u0430 \\u043a\\u043e\\u043b\\u0438\\u0447\\u0435\\u0441\\u0442\\u0432\\u0430 \\u043f\\u0440\\u043e\\u0433\\u043d\\u043e\\u0437\\u043e\\u0432 \\u0441 \\u043f\\u0440\\u0435\\u0434\\u044b\\u0434\\u0443\\u0449\\u0438\\u0445 \\u044d\\u0442\\u0430\\u043f\\u043e\\u0432)\\n\\n    Returns:\\n        \\u041e\\u0434\\u043d\\u043e\\u043c\\u0435\\u0440\\u043d\\u044b\\u0439 \\u0432\\u0435\\u043a\\u0442\\u043e\\u0440 \\u0444\\u0438\\u0447\\u0435\\u0439 \\u0434\\u043b\\u044f \\u043c\\u043e\\u0434\\u0435\\u043b\\u0438 \\u0441 \\u0438\\u043d\\u0434\\u0435\\u043a\\u0441\\u043e\\u043c model_idx (np.array),\\n        \\u0447\\u0442\\u043e\\u0431\\u044b \\u0441\\u0434\\u0435\\u043b\\u0430\\u0442\\u044c \\u043f\\u0440\\u043e\\u0433\\u043d\\u043e\\u0437 \\u0434\\u043b\\u044f \\u043c\\u043e\\u043c\\u0435\\u043d\\u0442\\u0430 \\u0432\\u0440\\u0435\\u043c\\u0435\\u043d\\u0438 T\\n    \\\"\\\"\\\"\\n    # YOUR CODE HERE\\n    return timeseries[-(window_size + model_idx):].values\";\n",
       "                var nbb_formatted_code = \"def extract_hybrid_strategy_features(\\n    timeseries: TS_type,\\n    model_idx: int,\\n    window_size: int = 7,\\n) -> X_row_type:\\n    \\\"\\\"\\\"\\n    \\u0424\\u0443\\u043d\\u043a\\u0446\\u0438\\u044f \\u0434\\u043b\\u044f \\u043f\\u043e\\u043b\\u0443\\u0447\\u0435\\u043d\\u0438\\u044f \\u0432\\u0435\\u043a\\u0442\\u043e\\u0440\\u0430 \\u0444\\u0438\\u0447\\u0435\\u0439 \\u0441\\u043e\\u0433\\u043b\\u0430\\u0441\\u043d\\u043e \\u0433\\u0438\\u0431\\u0440\\u0438\\u0434\\u043d\\u043e\\u0439 \\u0441\\u0445\\u0435\\u043c\\u0435. \\u041d\\u0430 \\u0432\\u0445\\u043e\\u0434 \\u043f\\u043e\\u0434\\u0430\\u0451\\u0442\\u0441\\u044f \\u0432\\u0440\\u0435\\u043c\\u0435\\u043d\\u043d\\u043e\\u0439 \\u0440\\u044f\\u0434\\n    \\u0434\\u043e \\u043c\\u043e\\u043c\\u0435\\u043d\\u0442\\u0430 T, \\u0444\\u0443\\u043d\\u043a\\u0446\\u0438\\u044f \\u0432\\u044b\\u0434\\u0435\\u043b\\u044f\\u0435\\u0442 \\u0438\\u0437 \\u043d\\u0435\\u0433\\u043e \\u0444\\u0438\\u0447\\u0438, \\u043d\\u0435\\u043e\\u0431\\u0445\\u043e\\u0434\\u0438\\u043c\\u044b\\u0435 \\u043c\\u043e\\u0434\\u0435\\u043b\\u0438 \\u043f\\u043e\\u0434 \\u043d\\u043e\\u043c\\u0435\\u0440\\u043e\\u043c model_idx \\u0434\\u043b\\u044f\\n    \\u043f\\u0440\\u043e\\u0433\\u043d\\u043e\\u0437\\u0430 \\u043d\\u0430 \\u043c\\u043e\\u043c\\u0435\\u043d\\u0442 \\u0432\\u0440\\u0435\\u043c\\u0435\\u043d\\u0438 T\\n\\n    Args:\\n        timeseries --- \\u0432\\u0440\\u0435\\u043c\\u0435\\u043d\\u043d\\u043e\\u0439 \\u0440\\u044f\\u0434 \\u0434\\u043e \\u043c\\u043e\\u043c\\u0435\\u043d\\u0442\\u0430 \\u0432\\u0440\\u0435\\u043c\\u0435\\u043d\\u0438 T (\\u043d\\u0435 \\u0432\\u043a\\u043b\\u044e\\u0447\\u0438\\u0442\\u0435\\u043b\\u044c\\u043d\\u043e), pd.Series \\u0441 \\u0434\\u0430\\u0442\\u043e\\u0439\\n                       \\u0432 \\u043a\\u0430\\u0447\\u0435\\u0441\\u0442\\u0432\\u0435 \\u0438\\u043d\\u0434\\u0435\\u043a\\u0441\\u0430\\n        model_idx --- \\u0438\\u043d\\u0434\\u0435\\u043a\\u0441 \\u043c\\u043e\\u0434\\u0435\\u043b\\u0438, \\u0442\\u043e \\u0435\\u0441\\u0442\\u044c \\u043d\\u043e\\u043c\\u0435\\u0440 \\u0448\\u0430\\u0433\\u0430 \\u043f\\u0440\\u043e\\u0433\\u043d\\u043e\\u0437\\u0430,\\n                      \\u0434\\u043b\\u044f \\u043a\\u043e\\u0442\\u043e\\u0440\\u043e\\u0433\\u043e \\u043d\\u0443\\u0436\\u043d\\u043e \\u043f\\u043e\\u043b\\u0443\\u0447\\u0438\\u0442\\u044c \\u043f\\u0440\\u0438\\u0437\\u043d\\u0430\\u043a\\u0438, \\u043d\\u0443\\u043c\\u0435\\u0440\\u0430\\u0446\\u0438\\u044f \\u0441 \\u043d\\u0443\\u043b\\u044f\\n        window_size --- \\u043a\\u043e\\u043b\\u0438\\u0447\\u0435\\u0441\\u0442\\u0432\\u043e \\u043f\\u043e\\u0441\\u043b\\u0435\\u0434\\u043d\\u0438\\u0445 \\u0437\\u043d\\u0430\\u0447\\u0435\\u043d\\u0438\\u0439 \\u0440\\u044f\\u0434\\u0430, \\u0438\\u0441\\u043f\\u043e\\u043b\\u044c\\u0437\\u0443\\u0435\\u043c\\u044b\\u0445 \\u0434\\u043b\\u044f \\u043f\\u0440\\u043e\\u0433\\u043d\\u043e\\u0437\\u0430\\n                        (\\u0431\\u0435\\u0437 \\u0443\\u0447\\u0451\\u0442\\u0430 \\u043a\\u043e\\u043b\\u0438\\u0447\\u0435\\u0441\\u0442\\u0432\\u0430 \\u043f\\u0440\\u043e\\u0433\\u043d\\u043e\\u0437\\u043e\\u0432 \\u0441 \\u043f\\u0440\\u0435\\u0434\\u044b\\u0434\\u0443\\u0449\\u0438\\u0445 \\u044d\\u0442\\u0430\\u043f\\u043e\\u0432)\\n\\n    Returns:\\n        \\u041e\\u0434\\u043d\\u043e\\u043c\\u0435\\u0440\\u043d\\u044b\\u0439 \\u0432\\u0435\\u043a\\u0442\\u043e\\u0440 \\u0444\\u0438\\u0447\\u0435\\u0439 \\u0434\\u043b\\u044f \\u043c\\u043e\\u0434\\u0435\\u043b\\u0438 \\u0441 \\u0438\\u043d\\u0434\\u0435\\u043a\\u0441\\u043e\\u043c model_idx (np.array),\\n        \\u0447\\u0442\\u043e\\u0431\\u044b \\u0441\\u0434\\u0435\\u043b\\u0430\\u0442\\u044c \\u043f\\u0440\\u043e\\u0433\\u043d\\u043e\\u0437 \\u0434\\u043b\\u044f \\u043c\\u043e\\u043c\\u0435\\u043d\\u0442\\u0430 \\u0432\\u0440\\u0435\\u043c\\u0435\\u043d\\u0438 T\\n    \\\"\\\"\\\"\\n    # YOUR CODE HERE\\n    return timeseries[-(window_size + model_idx) :].values\";\n",
       "                var nbb_cells = Jupyter.notebook.get_cells();\n",
       "                for (var i = 0; i < nbb_cells.length; ++i) {\n",
       "                    if (nbb_cells[i].input_prompt_number == nbb_cell_id) {\n",
       "                        if (nbb_cells[i].get_text() == nbb_unformatted_code) {\n",
       "                             nbb_cells[i].set_text(nbb_formatted_code);\n",
       "                        }\n",
       "                        break;\n",
       "                    }\n",
       "                }\n",
       "            }, 500);\n",
       "            "
      ],
      "text/plain": [
       "<IPython.core.display.Javascript object>"
      ]
     },
     "metadata": {},
     "output_type": "display_data"
    }
   ],
   "source": [
    "def extract_hybrid_strategy_features(\n",
    "    timeseries: TS_type,\n",
    "    model_idx: int,\n",
    "    window_size: int = 7,\n",
    ") -> X_row_type:\n",
    "    \"\"\"\n",
    "    Функция для получения вектора фичей согласно гибридной схеме. На вход подаётся временной ряд\n",
    "    до момента T, функция выделяет из него фичи, необходимые модели под номером model_idx для\n",
    "    прогноза на момент времени T\n",
    "\n",
    "    Args:\n",
    "        timeseries --- временной ряд до момента времени T (не включительно), pd.Series с датой\n",
    "                       в качестве индекса\n",
    "        model_idx --- индекс модели, то есть номер шага прогноза,\n",
    "                      для которого нужно получить признаки, нумерация с нуля\n",
    "        window_size --- количество последних значений ряда, используемых для прогноза\n",
    "                        (без учёта количества прогнозов с предыдущих этапов)\n",
    "\n",
    "    Returns:\n",
    "        Одномерный вектор фичей для модели с индексом model_idx (np.array),\n",
    "        чтобы сделать прогноз для момента времени T\n",
    "    \"\"\"\n",
    "    # YOUR CODE HERE\n",
    "    return timeseries[-(window_size + model_idx):].values\n"
   ]
  },
  {
   "cell_type": "code",
   "execution_count": 974,
   "id": "a7f523f1",
   "metadata": {},
   "outputs": [
    {
     "data": {
      "application/javascript": [
       "\n",
       "            setTimeout(function() {\n",
       "                var nbb_cell_id = 974;\n",
       "                var nbb_unformatted_code = \"# import dataclasses\\n# import datetime\\nimport numpy as np\\nimport pandas as pd\\nimport sklearn\\nimport sklearn.ensemble\\nimport sklearn.linear_model\\nimport sklearn.metrics\\nimport typing as tp\\n\\n# import warnings\\n\\nX_type = tp.NewType(\\\"X_type\\\", np.ndarray)\\nX_row_type = tp.NewType(\\\"X_row_type\\\", np.ndarray)\\nY_type = tp.NewType(\\\"Y_type\\\", np.array)\\nTS_type = tp.NewType(\\\"TS_type\\\", pd.Series)\\nModel_type = tp.TypeVar(\\\"Model_type\\\")\\n\\n\\ndef read_timeseries(path_to_df: str = \\\"data/train.csv\\\") -> TS_type:\\n    \\\"\\\"\\\"\\u0424\\u0443\\u043d\\u043a\\u0446\\u0438\\u044f \\u0434\\u043b\\u044f \\u0447\\u0442\\u0435\\u043d\\u0438\\u044f \\u0434\\u0430\\u043d\\u043d\\u044b\\u0445 \\u0438 \\u043f\\u043e\\u043b\\u0443\\u0447\\u0435\\u043d\\u0438\\u044f \\u043e\\u0431\\u0443\\u0447\\u0430\\u044e\\u0449\\u0435\\u0439 \\u0438 \\u0442\\u0435\\u0441\\u0442\\u043e\\u0432\\u043e\\u0439 \\u0432\\u044b\\u0431\\u043e\\u0440\\u043e\\u043a\\\"\\\"\\\"\\n    df = pd.read_csv(path_to_df)\\n    df = df[(df[\\\"store\\\"] == 1) & (df[\\\"item\\\"] == 1)]\\n    df[\\\"date\\\"] = pd.to_datetime(df[\\\"date\\\"])\\n    df = df.set_index(\\\"date\\\")\\n    ts = df[\\\"sales\\\"]\\n    train_ts = ts[:-365]\\n    test_ts = ts[-365:]\\n    return train_ts, test_ts\\n\\n\\ndef extract_hybrid_strategy_features(\\n    timeseries: TS_type,\\n    model_idx: int,\\n    window_size: int = 7,\\n) -> X_row_type:\\n    \\\"\\\"\\\"\\n    \\u0424\\u0443\\u043d\\u043a\\u0446\\u0438\\u044f \\u0434\\u043b\\u044f \\u043f\\u043e\\u043b\\u0443\\u0447\\u0435\\u043d\\u0438\\u044f \\u0432\\u0435\\u043a\\u0442\\u043e\\u0440\\u0430 \\u0444\\u0438\\u0447\\u0435\\u0439 \\u0441\\u043e\\u0433\\u043b\\u0430\\u0441\\u043d\\u043e \\u0433\\u0438\\u0431\\u0440\\u0438\\u0434\\u043d\\u043e\\u0439 \\u0441\\u0445\\u0435\\u043c\\u0435. \\u041d\\u0430 \\u0432\\u0445\\u043e\\u0434 \\u043f\\u043e\\u0434\\u0430\\u0451\\u0442\\u0441\\u044f \\u0432\\u0440\\u0435\\u043c\\u0435\\u043d\\u043d\\u043e\\u0439 \\u0440\\u044f\\u0434\\n    \\u0434\\u043e \\u043c\\u043e\\u043c\\u0435\\u043d\\u0442\\u0430 T, \\u0444\\u0443\\u043d\\u043a\\u0446\\u0438\\u044f \\u0432\\u044b\\u0434\\u0435\\u043b\\u044f\\u0435\\u0442 \\u0438\\u0437 \\u043d\\u0435\\u0433\\u043e \\u0444\\u0438\\u0447\\u0438, \\u043d\\u0435\\u043e\\u0431\\u0445\\u043e\\u0434\\u0438\\u043c\\u044b\\u0435 \\u043c\\u043e\\u0434\\u0435\\u043b\\u0438 \\u043f\\u043e\\u0434 \\u043d\\u043e\\u043c\\u0435\\u0440\\u043e\\u043c model_idx \\u0434\\u043b\\u044f\\n    \\u043f\\u0440\\u043e\\u0433\\u043d\\u043e\\u0437\\u0430 \\u043d\\u0430 \\u043c\\u043e\\u043c\\u0435\\u043d\\u0442 \\u0432\\u0440\\u0435\\u043c\\u0435\\u043d\\u0438 T\\n\\n    Args:\\n        timeseries --- \\u0432\\u0440\\u0435\\u043c\\u0435\\u043d\\u043d\\u043e\\u0439 \\u0440\\u044f\\u0434 \\u0434\\u043e \\u043c\\u043e\\u043c\\u0435\\u043d\\u0442\\u0430 \\u0432\\u0440\\u0435\\u043c\\u0435\\u043d\\u0438 T (\\u043d\\u0435 \\u0432\\u043a\\u043b\\u044e\\u0447\\u0438\\u0442\\u0435\\u043b\\u044c\\u043d\\u043e), pd.Series \\u0441 \\u0434\\u0430\\u0442\\u043e\\u0439\\n                       \\u0432 \\u043a\\u0430\\u0447\\u0435\\u0441\\u0442\\u0432\\u0435 \\u0438\\u043d\\u0434\\u0435\\u043a\\u0441\\u0430\\n        model_idx --- \\u0438\\u043d\\u0434\\u0435\\u043a\\u0441 \\u043c\\u043e\\u0434\\u0435\\u043b\\u0438, \\u0442\\u043e \\u0435\\u0441\\u0442\\u044c \\u043d\\u043e\\u043c\\u0435\\u0440 \\u0448\\u0430\\u0433\\u0430 \\u043f\\u0440\\u043e\\u0433\\u043d\\u043e\\u0437\\u0430,\\n                      \\u0434\\u043b\\u044f \\u043a\\u043e\\u0442\\u043e\\u0440\\u043e\\u0433\\u043e \\u043d\\u0443\\u0436\\u043d\\u043e \\u043f\\u043e\\u043b\\u0443\\u0447\\u0438\\u0442\\u044c \\u043f\\u0440\\u0438\\u0437\\u043d\\u0430\\u043a\\u0438, \\u043d\\u0443\\u043c\\u0435\\u0440\\u0430\\u0446\\u0438\\u044f \\u0441 \\u043d\\u0443\\u043b\\u044f\\n        window_size --- \\u043a\\u043e\\u043b\\u0438\\u0447\\u0435\\u0441\\u0442\\u0432\\u043e \\u043f\\u043e\\u0441\\u043b\\u0435\\u0434\\u043d\\u0438\\u0445 \\u0437\\u043d\\u0430\\u0447\\u0435\\u043d\\u0438\\u0439 \\u0440\\u044f\\u0434\\u0430, \\u0438\\u0441\\u043f\\u043e\\u043b\\u044c\\u0437\\u0443\\u0435\\u043c\\u044b\\u0445 \\u0434\\u043b\\u044f \\u043f\\u0440\\u043e\\u0433\\u043d\\u043e\\u0437\\u0430\\n                        (\\u0431\\u0435\\u0437 \\u0443\\u0447\\u0451\\u0442\\u0430 \\u043a\\u043e\\u043b\\u0438\\u0447\\u0435\\u0441\\u0442\\u0432\\u0430 \\u043f\\u0440\\u043e\\u0433\\u043d\\u043e\\u0437\\u043e\\u0432 \\u0441 \\u043f\\u0440\\u0435\\u0434\\u044b\\u0434\\u0443\\u0449\\u0438\\u0445 \\u044d\\u0442\\u0430\\u043f\\u043e\\u0432)\\n\\n    Returns:\\n        \\u041e\\u0434\\u043d\\u043e\\u043c\\u0435\\u0440\\u043d\\u044b\\u0439 \\u0432\\u0435\\u043a\\u0442\\u043e\\u0440 \\u0444\\u0438\\u0447\\u0435\\u0439 \\u0434\\u043b\\u044f \\u043c\\u043e\\u0434\\u0435\\u043b\\u0438 \\u0441 \\u0438\\u043d\\u0434\\u0435\\u043a\\u0441\\u043e\\u043c model_idx (np.array),\\n        \\u0447\\u0442\\u043e\\u0431\\u044b \\u0441\\u0434\\u0435\\u043b\\u0430\\u0442\\u044c \\u043f\\u0440\\u043e\\u0433\\u043d\\u043e\\u0437 \\u0434\\u043b\\u044f \\u043c\\u043e\\u043c\\u0435\\u043d\\u0442\\u0430 \\u0432\\u0440\\u0435\\u043c\\u0435\\u043d\\u0438 T\\n    \\\"\\\"\\\"\\n    # YOUR CODE HERE\\n    return timeseries[-(window_size + model_idx) :].values\\n\\n\\n# @dataclasses.dataclass\\nclass FeatureExtractor:\\n    def __init__(\\n        self,\\n        timeseries: TS_type,\\n        model_idx: int,\\n        day_window_size: int = 6,\\n        week_window_size: int = 3,\\n        month_window_size: int = 11,\\n        year_window_size: int = 3,\\n    ):\\n        self.timeseries = timeseries\\n        self.model_idx = model_idx\\n        self.day_window_size = day_window_size\\n        self.week_window_size = week_window_size\\n        self.month_window_size = month_window_size\\n        self.year_window_size = year_window_size\\n\\n        self.now_timestamp = self.timeseries.index[-1]\\n        self.prediction_timestamp = self.now_timestamp + pd.Timedelta(\\n            days=self.model_idx + 1\\n        )\\n        self.mean = self.timeseries.mean()\\n\\n    def get_period_features(self, index):\\n        index = [i for i in index if i <= self.now_timestamp]\\n        period_features = self.timeseries.reindex(index)\\n        mean = period_features.mean()\\n        if np.isnan(mean):\\n            mean = self.mean\\n        period_features = period_features.fillna(mean)\\n        return period_features.values\\n\\n    def get_period_features_for_period(self, days_in_period, window_size):\\n        index = [\\n            self.prediction_timestamp - pd.Timedelta(days=i * days_in_period)\\n            for i in range(1, window_size + 1)\\n        ]\\n        return self.get_period_features(index)\\n\\n    def extract_features(self):\\n        features = []\\n        #         features.append(self.mean)\\n        features.extend(\\n            self.get_period_features_for_period(\\n                days_in_period=1, window_size=self.day_window_size\\n            )\\n        )\\n        features.extend(\\n            self.get_period_features_for_period(\\n                days_in_period=7, window_size=self.week_window_size\\n            )\\n        )\\n        features.extend(\\n            self.get_period_features_for_period(\\n                days_in_period=30, window_size=self.month_window_size\\n            )\\n        )\\n        features.extend(\\n            self.get_period_features_for_period(\\n                days_in_period=365, window_size=self.year_window_size\\n            )\\n        )\\n\\n        return np.stack(features)\\n\\n\\ndef my_extract_features(*args, **kwargs):\\n    return FeatureExtractor(*args, **kwargs).extract_features()\\n\\n\\ndef build_datasets(\\n    timeseries: TS_type,\\n    extract_features: tp.Callable[..., X_row_type] = extract_hybrid_strategy_features,\\n    window_size: int = 6,\\n    model_count: int = 1,\\n) -> tp.List[tp.Tuple[X_type, Y_type]]:\\n    \\\"\\\"\\\"\\n    \\u0424\\u0443\\u043d\\u043a\\u0446\\u0438\\u044f \\u0434\\u043b\\u044f \\u043f\\u043e\\u043b\\u0443\\u0447\\u0435\\u043d\\u0438\\u044f \\u043e\\u0431\\u0443\\u0447\\u0430\\u044e\\u0449\\u0438\\u0445 \\u0434\\u0430\\u0442\\u0430\\u0441\\u0435\\u0442\\u043e\\u0432 \\u0441\\u043e\\u0433\\u043b\\u0430\\u0441\\u043d\\u043e \\u0433\\u0438\\u0431\\u0440\\u0438\\u0434\\u043d\\u043e\\u0439 \\u0441\\u0445\\u0435\\u043c\\u0435\\n\\n    Args:\\n        timeseries --- \\u0432\\u0440\\u0435\\u043c\\u0435\\u043d\\u043d\\u043e\\u0439 \\u0440\\u044f\\u0434\\n        extract_features --- \\u0444\\u0443\\u043d\\u043a\\u0446\\u0438\\u044f \\u0434\\u043b\\u044f \\u0433\\u0435\\u043d\\u0435\\u0440\\u0430\\u0446\\u0438\\u0438 \\u0432\\u0435\\u043a\\u0442\\u043e\\u0440\\u0430 \\u0444\\u0438\\u0447\\u0435\\u0439\\n        window_size --- \\u043a\\u043e\\u043b\\u0438\\u0447\\u0435\\u0441\\u0442\\u0432\\u043e \\u043f\\u043e\\u0441\\u043b\\u0435\\u0434\\u043d\\u0438\\u0445 \\u0437\\u043d\\u0430\\u0447\\u0435\\u043d\\u0438\\u0439 \\u0440\\u044f\\u0434\\u0430, \\u0438\\u0441\\u043f\\u043e\\u043b\\u044c\\u0437\\u0443\\u0435\\u043c\\u044b\\u0445 \\u0434\\u043b\\u044f \\u043f\\u0440\\u043e\\u0433\\u043d\\u043e\\u0437\\u0430\\n        model_count --- \\u043a\\u043e\\u043b\\u0438\\u0447\\u0435\\u0441\\u0442\\u0432\\u043e \\u043c\\u043e\\u0434\\u0435\\u043b\\u0435\\u0439, \\u0438\\u0441\\u043f\\u043e\\u043b\\u044c\\u0437\\u0443\\u0435\\u043c\\u044b\\u0445 \\u0434\\u043b\\u044f \\u043f\\u043e\\u043b\\u0443\\u0447\\u0435\\u043d\\u0438\\u044f \\u043f\\u0440\\u0435\\u0434\\u0441\\u043a\\u0437\\u0430\\u043d\\u0438\\u0439\\n\\n    Returns:\\n        \\u0421\\u043f\\u0438\\u0441\\u043e\\u043a \\u0438\\u0437 model_count \\u0434\\u0430\\u0442\\u0430\\u0441\\u0435\\u0442\\u043e\\u0432, i-\\u0439 \\u0434\\u0430\\u0442\\u0430\\u0441\\u0435\\u0442 \\u0438\\u0441\\u043f\\u043e\\u043b\\u044c\\u0437\\u0443\\u0435\\u0442\\u0441\\u044f \\u0434\\u043b\\u044f \\u043e\\u0431\\u0443\\u0447\\u0435\\u043d\\u0438\\u044f i-\\u0439 \\u043c\\u043e\\u0434\\u0435\\u043b\\u0438\\n        \\u0438 \\u043f\\u0440\\u0435\\u0434\\u0441\\u0442\\u0430\\u0432\\u043b\\u044f\\u0435\\u0442 \\u0441\\u043e\\u0431\\u043e\\u0439 \\u043f\\u0430\\u0440\\u0443 \\u0438\\u0437 \\u0434\\u0432\\u0443\\u043c\\u0435\\u0440\\u043d\\u043e\\u0433\\u043e \\u043c\\u0430\\u0441\\u0441\\u0438\\u0432\\u0430 \\u0444\\u0438\\u0447\\u0435\\u0439 \\u0438 \\u043e\\u0434\\u043d\\u043e\\u043c\\u0435\\u0440\\u043d\\u043e\\u0433\\u043e \\u043c\\u0430\\u0441\\u0441\\u0438\\u0432\\u0430 \\u0442\\u0430\\u0440\\u0433\\u0435\\u0442\\u043e\\u0432\\n    \\\"\\\"\\\"\\n    datasets = []\\n    # YOUR CODE HERE\\n    for model_idx in range(model_count):\\n        offset_timeseries = timeseries[window_size + model_idx :]\\n        y = offset_timeseries.values\\n        x = []\\n        for pred_time in offset_timeseries.index:\\n            x.append(\\n                extract_features(\\n                    timeseries[: pred_time - pd.Timedelta(days=1)],\\n                    model_idx,\\n                    window_size,\\n                )\\n            )\\n        x = np.stack(x)\\n        datasets.append((x, y))\\n\\n    assert len(datasets) == model_count\\n    return datasets\\n\\n\\ndef my_build_datasets(\\n    timeseries: TS_type,\\n    extract_features: tp.Callable[..., X_row_type] = my_extract_features,\\n    window_size: int = 6,\\n    model_count: int = 1,\\n) -> tp.List[tp.Tuple[X_type, Y_type]]:\\n    \\\"\\\"\\\"\\n    \\u0424\\u0443\\u043d\\u043a\\u0446\\u0438\\u044f \\u0434\\u043b\\u044f \\u043f\\u043e\\u043b\\u0443\\u0447\\u0435\\u043d\\u0438\\u044f \\u043e\\u0431\\u0443\\u0447\\u0430\\u044e\\u0449\\u0438\\u0445 \\u0434\\u0430\\u0442\\u0430\\u0441\\u0435\\u0442\\u043e\\u0432 \\u0441\\u043e\\u0433\\u043b\\u0430\\u0441\\u043d\\u043e \\u0433\\u0438\\u0431\\u0440\\u0438\\u0434\\u043d\\u043e\\u0439 \\u0441\\u0445\\u0435\\u043c\\u0435\\n\\n    Args:\\n        timeseries --- \\u0432\\u0440\\u0435\\u043c\\u0435\\u043d\\u043d\\u043e\\u0439 \\u0440\\u044f\\u0434\\n        extract_features --- \\u0444\\u0443\\u043d\\u043a\\u0446\\u0438\\u044f \\u0434\\u043b\\u044f \\u0433\\u0435\\u043d\\u0435\\u0440\\u0430\\u0446\\u0438\\u0438 \\u0432\\u0435\\u043a\\u0442\\u043e\\u0440\\u0430 \\u0444\\u0438\\u0447\\u0435\\u0439\\n        window_size --- \\u043a\\u043e\\u043b\\u0438\\u0447\\u0435\\u0441\\u0442\\u0432\\u043e \\u043f\\u043e\\u0441\\u043b\\u0435\\u0434\\u043d\\u0438\\u0445 \\u0437\\u043d\\u0430\\u0447\\u0435\\u043d\\u0438\\u0439 \\u0440\\u044f\\u0434\\u0430, \\u0438\\u0441\\u043f\\u043e\\u043b\\u044c\\u0437\\u0443\\u0435\\u043c\\u044b\\u0445 \\u0434\\u043b\\u044f \\u043f\\u0440\\u043e\\u0433\\u043d\\u043e\\u0437\\u0430\\n        model_count --- \\u043a\\u043e\\u043b\\u0438\\u0447\\u0435\\u0441\\u0442\\u0432\\u043e \\u043c\\u043e\\u0434\\u0435\\u043b\\u0435\\u0439, \\u0438\\u0441\\u043f\\u043e\\u043b\\u044c\\u0437\\u0443\\u0435\\u043c\\u044b\\u0445 \\u0434\\u043b\\u044f \\u043f\\u043e\\u043b\\u0443\\u0447\\u0435\\u043d\\u0438\\u044f \\u043f\\u0440\\u0435\\u0434\\u0441\\u043a\\u0437\\u0430\\u043d\\u0438\\u0439\\n\\n    Returns:\\n        \\u0421\\u043f\\u0438\\u0441\\u043e\\u043a \\u0438\\u0437 model_count \\u0434\\u0430\\u0442\\u0430\\u0441\\u0435\\u0442\\u043e\\u0432, i-\\u0439 \\u0434\\u0430\\u0442\\u0430\\u0441\\u0435\\u0442 \\u0438\\u0441\\u043f\\u043e\\u043b\\u044c\\u0437\\u0443\\u0435\\u0442\\u0441\\u044f \\u0434\\u043b\\u044f \\u043e\\u0431\\u0443\\u0447\\u0435\\u043d\\u0438\\u044f i-\\u0439 \\u043c\\u043e\\u0434\\u0435\\u043b\\u0438\\n        \\u0438 \\u043f\\u0440\\u0435\\u0434\\u0441\\u0442\\u0430\\u0432\\u043b\\u044f\\u0435\\u0442 \\u0441\\u043e\\u0431\\u043e\\u0439 \\u043f\\u0430\\u0440\\u0443 \\u0438\\u0437 \\u0434\\u0432\\u0443\\u043c\\u0435\\u0440\\u043d\\u043e\\u0433\\u043e \\u043c\\u0430\\u0441\\u0441\\u0438\\u0432\\u0430 \\u0444\\u0438\\u0447\\u0435\\u0439 \\u0438 \\u043e\\u0434\\u043d\\u043e\\u043c\\u0435\\u0440\\u043d\\u043e\\u0433\\u043e \\u043c\\u0430\\u0441\\u0441\\u0438\\u0432\\u0430 \\u0442\\u0430\\u0440\\u0433\\u0435\\u0442\\u043e\\u0432\\n    \\\"\\\"\\\"\\n    datasets = []\\n    # YOUR CODE HERE\\n    for model_idx in range(model_count):\\n        offset_timeseries = timeseries[window_size + model_idx + 366 :]\\n        y = offset_timeseries.values\\n        timedelta = pd.Timedelta(days=1 + model_idx)\\n        x = []\\n        for pred_time in offset_timeseries.index:\\n            x.append(extract_features(timeseries[: pred_time - timedelta], model_idx))\\n        x = np.stack(x)\\n        datasets.append((x, y))\\n\\n    assert len(datasets) == model_count\\n    return datasets\\n\\n\\ndef predict(\\n    timeseries: TS_type,\\n    models: tp.List[Model_type],\\n    extract_features: tp.Callable[..., X_row_type] = my_extract_features,\\n) -> TS_type:\\n    \\\"\\\"\\\"\\n    \\u0424\\u0443\\u043d\\u043a\\u0446\\u0438\\u044f \\u0434\\u043b\\u044f \\u043f\\u043e\\u043b\\u0443\\u0447\\u0435\\u043d\\u0438\\u044f \\u043f\\u0440\\u043e\\u0433\\u043d\\u043e\\u0437\\u0430 len(models) \\u0441\\u043b\\u0435\\u0434\\u0443\\u044e\\u0449\\u0438\\u0445 \\u0437\\u043d\\u0430\\u0447\\u0435\\u043d\\u0438\\u0439 \\u0432\\u0440\\u0435\\u043c\\u0435\\u043d\\u043d\\u043e\\u0433\\u043e \\u0440\\u044f\\u0434\\u0430\\n\\n    Args:\\n        timeseries --- \\u0432\\u0440\\u0435\\u043c\\u0435\\u043d\\u043d\\u043e\\u0439 \\u0440\\u044f\\u0434, \\u043f\\u043e \\u043a\\u043e\\u0442\\u043e\\u0440\\u043e\\u043c\\u0443 \\u043d\\u0435\\u043e\\u0431\\u0445\\u043e\\u0434\\u0438\\u043c\\u043e \\u0441\\u0434\\u0435\\u043b\\u0430\\u0442\\u044c \\u043f\\u0440\\u043e\\u0433\\u043d\\u043e\\u0437 \\u043d\\u0430 \\u0441\\u043b\\u0435\\u0434\\u0443\\u044e\\u0449\\u0438\\u0435 \\u0434\\u0430\\u0442\\u044b\\n        models --- \\u0441\\u043f\\u0438\\u0441\\u043e\\u043a \\u043e\\u0431\\u0443\\u0447\\u0435\\u043d\\u043d\\u044b\\u0445 \\u043c\\u043e\\u0434\\u0435\\u043b\\u0435\\u0439, i-\\u044f \\u043c\\u043e\\u0434\\u0435\\u043b\\u044c \\u0438\\u0441\\u043f\\u043e\\u043b\\u044c\\u0437\\u0443\\u0435\\u0442\\u0441\\u044f \\u0434\\u043b\\u044f \\u043f\\u043e\\u043b\\u0443\\u0447\\u0435\\u043d\\u0438\\u044f i-\\u0433\\u043e \\u043f\\u0440\\u043e\\u0433\\u043d\\u043e\\u0437\\u0430\\n        extract_features --- \\u0444\\u0443\\u043d\\u043a\\u0446\\u0438\\u044f \\u0434\\u043b\\u044f \\u0433\\u0435\\u043d\\u0435\\u0440\\u0430\\u0446\\u0438\\u0438 \\u0432\\u0435\\u043a\\u0442\\u043e\\u0440\\u0430 \\u0444\\u0438\\u0447\\u0435\\u0439. \\u0415\\u0441\\u043b\\u0438 \\u0432\\u044b \\u0440\\u0435\\u0430\\u043b\\u0438\\u0437\\u0443\\u0435\\u0442\\u0435 \\u0441\\u0432\\u043e\\u044e \\u0444\\u0443\\u043d\\u043a\\u0446\\u0438\\u044e\\n                             \\u0438\\u0437\\u0432\\u043b\\u0435\\u0447\\u0435\\u043d\\u0438\\u044f \\u0444\\u0438\\u0447\\u0435\\u0439 \\u0434\\u043b\\u044f \\u043a\\u043e\\u043d\\u0435\\u0447\\u043d\\u043e\\u0439 \\u043c\\u043e\\u0434\\u0435\\u043b\\u0438, \\u043f\\u0435\\u0440\\u0435\\u0434\\u0430\\u0432\\u0430\\u0439\\u0442\\u0435 \\u044d\\u0442\\u0438\\u043c \\u0430\\u0440\\u0433\\u0443\\u043c\\u0435\\u043d\\u0442\\u043e\\u043c.\\n                             \\u0412\\u043d\\u0443\\u0442\\u0440\\u0438 \\u0444\\u0443\\u043d\\u043a\\u0446\\u0438\\u0438 predict \\u0444\\u0443\\u043d\\u043a\\u0446\\u0438\\u044e extract_features \\u043d\\u0443\\u0436\\u043d\\u043e \\u0432\\u044b\\u0437\\u044b\\u0432\\u0430\\u0442\\u044c \\u0442\\u043e\\u043b\\u044c\\u043a\\u043e\\n                             \\u0441 \\u0430\\u0440\\u0433\\u0443\\u043c\\u0435\\u043d\\u0442\\u0430\\u043c\\u0438 timeseries \\u0438 model_idx, \\u043e\\u0441\\u0442\\u0430\\u043b\\u044c\\u043d\\u044b\\u0435 \\u0434\\u043e\\u043b\\u0436\\u043d\\u044b \\u0431\\u044b\\u0442\\u044c \\u0441\\u043e \\u0437\\u043d\\u0430\\u0447\\u0435\\u043d\\u0438\\u044f\\u043c\\u0438\\n                             \\u043f\\u043e \\u0443\\u043c\\u043e\\u043b\\u0447\\u0430\\u043d\\u0438\\u044e\\n\\n    Returns:\\n        \\u041f\\u0440\\u043e\\u0433\\u043d\\u043e\\u0437 len(models) \\u0441\\u043b\\u0435\\u0434\\u0443\\u044e\\u0449\\u0438\\u0445 \\u0437\\u043d\\u0430\\u0447\\u0435\\u043d\\u0438\\u0439 \\u0432\\u0440\\u0435\\u043c\\u0435\\u043d\\u043d\\u043e\\u0433\\u043e \\u0440\\u044f\\u0434\\u0430\\n    \\\"\\\"\\\"\\n    if extract_features == my_extract_features:\\n        features = [\\n        extract_features(timeseries, model_idx) for model_idx in range(len(models))\\n        ]\\n        return [\\n            model.predict(feats.reshape(1, -1)) for model, feats in zip(models, features)\\n        ]\\n    preds = []\\n    for model_idx, model in enumerate(models):\\n        feats = extract_features(timeseries, model_idx)\\n        pred = model.predict(feats.reshape(1, -1)).item()\\n        timeseries = timeseries.append(\\n            pd.Series({timeseries.index[-1] + pd.Timedelta(days=1): pred})\\n        )\\n        preds.append(pred)\\n    return preds\\n\\nclass ForecastingModel:\\n    def train(self, x: X_type, y: Y_type):\\n        raise NotImplementedError\\n\\n    def predict(self, X_row_type):\\n        raise NotImplementedError\\n\\n\\nclass LinearRegressionForecastingModel:\\n    def __init__(self):\\n        self.model = sklearn.linear_model.LinearRegression()\\n\\n    def train(self, x: X_type, y: Y_type):\\n        self.x = x\\n        self.y = y\\n        self.model.fit(x, y)\\n\\n    def predict(self, x_row: X_row_type):\\n        return self.model.predict(x_row)\\n\\n\\ndef get_model() -> ForecastingModel:\\n    return LinearRegressionForecastingModel()\\n\\n\\ndef train_models(train_timeseries: TS_type, model_count: int) -> tp.List[Model_type]:\\n    \\\"\\\"\\\"\\n    \\u0424\\u0443\\u043d\\u043a\\u0446\\u0438\\u044f \\u0434\\u043b\\u044f \\u043f\\u043e\\u043b\\u0443\\u0447\\u0435\\u043d\\u0438\\u044f \\u043e\\u0431\\u0443\\u0447\\u0435\\u043d\\u043d\\u044b\\u0445 \\u043c\\u043e\\u0434\\u0435\\u043b\\u0435\\u0439\\n\\n    Args:\\n        train_timeseries --- \\u043e\\u0431\\u0443\\u0447\\u0430\\u044e\\u0449\\u0438\\u0439 \\u0432\\u0440\\u0435\\u043c\\u0435\\u043d\\u043d\\u043e\\u0439 \\u0440\\u044f\\u0434\\n        model_count --- \\u043a\\u043e\\u043b\\u0438\\u0447\\u0435\\u0441\\u0442\\u0432\\u043e \\u043c\\u043e\\u0434\\u0435\\u043b\\u0435\\u0439 \\u0434\\u043b\\u044f \\u043e\\u0431\\u0443\\u0447\\u0435\\u043d\\u0438\\u044f \\u0441\\u043e\\u0433\\u043b\\u0430\\u0441\\u043d\\u043e \\u0433\\u0438\\u0431\\u0440\\u0438\\u0434\\u043d\\u043e\\u0439 \\u0441\\u0445\\u0435\\u043c\\u0435.\\n                        \\u041f\\u0440\\u043e\\u0433\\u043d\\u043e\\u0437\\u0438\\u0440\\u043e\\u0432\\u0430\\u043d\\u0438\\u0435 \\u0434\\u043e\\u043b\\u0436\\u043d\\u043e \\u0432\\u044b\\u043f\\u043e\\u043b\\u043d\\u044f\\u0442\\u044c\\u0441\\u044f \\u043d\\u0430 model_count \\u0434\\u043d\\u0435\\u0439 \\u0432\\u043f\\u0435\\u0440\\u0451\\u0434\\n\\n    Returns:\\n        \\u0421\\u043f\\u0438\\u0441\\u043e\\u043a \\u0438\\u0437 len(datasets) \\u043e\\u0431\\u0443\\u0447\\u0435\\u043d\\u043d\\u044b\\u0445 \\u043c\\u043e\\u0434\\u0435\\u043b\\u0435\\u0439\\n    \\\"\\\"\\\"\\n    models = []\\n\\n    # YOUR CODE HERE\\n    datasets = my_build_datasets(\\n        train_timeseries,\\n        window_size=7,\\n        model_count=model_count,\\n    )\\n    for dataset in datasets:\\n        model = get_model()\\n        model.train(*dataset)\\n        models.append(model)\\n\\n    assert len(models) == len(datasets)\\n    return models\\n\\n\\ndef score_models(\\n    train_ts: TS_type,\\n    test_ts: TS_type,\\n    models: tp.List[Model_type],\\n    predict: tp.Callable[[TS_type, tp.List[Model_type]], TS_type] = predict,\\n):\\n    \\\"\\\"\\\"\\n    \\u0424\\u0443\\u043d\\u043a\\u0446\\u0438\\u044f \\u0434\\u043b\\u044f \\u043e\\u0446\\u0435\\u043d\\u043a\\u0438 \\u043a\\u0430\\u0447\\u0435\\u0441\\u0442\\u0432\\u0430 \\u043e\\u0431\\u0443\\u0447\\u0435\\u043d\\u043d\\u044b\\u0445 \\u043c\\u043e\\u0434\\u0435\\u043b\\u0435\\u0439 \\u043f\\u043e \\u043c\\u0435\\u0442\\u0440\\u0438\\u043a\\u0435 MSE\\n\\n    Args:\\n        train_ts --- \\u043e\\u0431\\u0443\\u0447\\u0430\\u044e\\u0449\\u0438\\u0439 \\u0432\\u0440\\u0435\\u043c\\u0435\\u043d\\u043d\\u043e\\u0439 \\u0440\\u044f\\u0434\\n        test_ts --- \\u0442\\u0435\\u0441\\u0442\\u043e\\u0432\\u044b\\u0439 \\u0432\\u0440\\u0435\\u043c\\u0435\\u043d\\u043d\\u043e\\u0439 \\u0440\\u044f\\u0434\\n        models --- \\u0441\\u043f\\u0438\\u0441\\u043e\\u043a \\u043e\\u0431\\u0443\\u0447\\u0435\\u043d\\u043d\\u044b\\u0445 \\u043c\\u043e\\u0434\\u0435\\u043b\\u0435\\u0439\\n        predict --- \\u0444\\u0443\\u043d\\u043a\\u0446\\u0438\\u044f \\u0434\\u043b\\u044f \\u043f\\u043e\\u043b\\u0443\\u0447\\u0435\\u043d\\u0438\\u044f \\u043f\\u0440\\u043e\\u0433\\u043d\\u043e\\u0437\\u0430 \\u0432\\u0440\\u0435\\u043c\\u0435\\u043d\\u043d\\u043e\\u0433\\u043e \\u0440\\u044f\\u0434\\u0430\\n\\n    Returns:\\n        \\u0423\\u0441\\u0440\\u0435\\u0434\\u043d\\u0435\\u043d\\u043d\\u043e\\u0435 MSE \\u0434\\u043b\\u044f \\u043f\\u0440\\u043e\\u0433\\u043d\\u043e\\u0437\\u0430 \\u043c\\u043e\\u0434\\u0435\\u043b\\u0435\\u0439 \\u043f\\u043e \\u0432\\u0441\\u0435\\u0439 \\u0442\\u0435\\u0441\\u0442\\u043e\\u0432\\u043e\\u0439 \\u0432\\u044b\\u0431\\u043e\\u0440\\u043a\\u0435\\n    \\\"\\\"\\\"\\n    predict_len = len(models)\\n    predictions = []\\n    targets = []\\n\\n    for i in range(len(test_ts) - predict_len + 1):\\n        predictions.extend(list(predict(train_ts, models)))\\n        targets.extend(list(test_ts[i : i + predict_len]))\\n        #         with warnings.catch_warnings():\\n        train_ts = train_ts.append(test_ts[i : i + 1])\\n\\n    return sklearn.metrics.mean_squared_error(targets, predictions)\";\n",
       "                var nbb_formatted_code = \"# import dataclasses\\n# import datetime\\nimport numpy as np\\nimport pandas as pd\\nimport sklearn\\nimport sklearn.ensemble\\nimport sklearn.linear_model\\nimport sklearn.metrics\\nimport typing as tp\\n\\n# import warnings\\n\\nX_type = tp.NewType(\\\"X_type\\\", np.ndarray)\\nX_row_type = tp.NewType(\\\"X_row_type\\\", np.ndarray)\\nY_type = tp.NewType(\\\"Y_type\\\", np.array)\\nTS_type = tp.NewType(\\\"TS_type\\\", pd.Series)\\nModel_type = tp.TypeVar(\\\"Model_type\\\")\\n\\n\\ndef read_timeseries(path_to_df: str = \\\"data/train.csv\\\") -> TS_type:\\n    \\\"\\\"\\\"\\u0424\\u0443\\u043d\\u043a\\u0446\\u0438\\u044f \\u0434\\u043b\\u044f \\u0447\\u0442\\u0435\\u043d\\u0438\\u044f \\u0434\\u0430\\u043d\\u043d\\u044b\\u0445 \\u0438 \\u043f\\u043e\\u043b\\u0443\\u0447\\u0435\\u043d\\u0438\\u044f \\u043e\\u0431\\u0443\\u0447\\u0430\\u044e\\u0449\\u0435\\u0439 \\u0438 \\u0442\\u0435\\u0441\\u0442\\u043e\\u0432\\u043e\\u0439 \\u0432\\u044b\\u0431\\u043e\\u0440\\u043e\\u043a\\\"\\\"\\\"\\n    df = pd.read_csv(path_to_df)\\n    df = df[(df[\\\"store\\\"] == 1) & (df[\\\"item\\\"] == 1)]\\n    df[\\\"date\\\"] = pd.to_datetime(df[\\\"date\\\"])\\n    df = df.set_index(\\\"date\\\")\\n    ts = df[\\\"sales\\\"]\\n    train_ts = ts[:-365]\\n    test_ts = ts[-365:]\\n    return train_ts, test_ts\\n\\n\\ndef extract_hybrid_strategy_features(\\n    timeseries: TS_type,\\n    model_idx: int,\\n    window_size: int = 7,\\n) -> X_row_type:\\n    \\\"\\\"\\\"\\n    \\u0424\\u0443\\u043d\\u043a\\u0446\\u0438\\u044f \\u0434\\u043b\\u044f \\u043f\\u043e\\u043b\\u0443\\u0447\\u0435\\u043d\\u0438\\u044f \\u0432\\u0435\\u043a\\u0442\\u043e\\u0440\\u0430 \\u0444\\u0438\\u0447\\u0435\\u0439 \\u0441\\u043e\\u0433\\u043b\\u0430\\u0441\\u043d\\u043e \\u0433\\u0438\\u0431\\u0440\\u0438\\u0434\\u043d\\u043e\\u0439 \\u0441\\u0445\\u0435\\u043c\\u0435. \\u041d\\u0430 \\u0432\\u0445\\u043e\\u0434 \\u043f\\u043e\\u0434\\u0430\\u0451\\u0442\\u0441\\u044f \\u0432\\u0440\\u0435\\u043c\\u0435\\u043d\\u043d\\u043e\\u0439 \\u0440\\u044f\\u0434\\n    \\u0434\\u043e \\u043c\\u043e\\u043c\\u0435\\u043d\\u0442\\u0430 T, \\u0444\\u0443\\u043d\\u043a\\u0446\\u0438\\u044f \\u0432\\u044b\\u0434\\u0435\\u043b\\u044f\\u0435\\u0442 \\u0438\\u0437 \\u043d\\u0435\\u0433\\u043e \\u0444\\u0438\\u0447\\u0438, \\u043d\\u0435\\u043e\\u0431\\u0445\\u043e\\u0434\\u0438\\u043c\\u044b\\u0435 \\u043c\\u043e\\u0434\\u0435\\u043b\\u0438 \\u043f\\u043e\\u0434 \\u043d\\u043e\\u043c\\u0435\\u0440\\u043e\\u043c model_idx \\u0434\\u043b\\u044f\\n    \\u043f\\u0440\\u043e\\u0433\\u043d\\u043e\\u0437\\u0430 \\u043d\\u0430 \\u043c\\u043e\\u043c\\u0435\\u043d\\u0442 \\u0432\\u0440\\u0435\\u043c\\u0435\\u043d\\u0438 T\\n\\n    Args:\\n        timeseries --- \\u0432\\u0440\\u0435\\u043c\\u0435\\u043d\\u043d\\u043e\\u0439 \\u0440\\u044f\\u0434 \\u0434\\u043e \\u043c\\u043e\\u043c\\u0435\\u043d\\u0442\\u0430 \\u0432\\u0440\\u0435\\u043c\\u0435\\u043d\\u0438 T (\\u043d\\u0435 \\u0432\\u043a\\u043b\\u044e\\u0447\\u0438\\u0442\\u0435\\u043b\\u044c\\u043d\\u043e), pd.Series \\u0441 \\u0434\\u0430\\u0442\\u043e\\u0439\\n                       \\u0432 \\u043a\\u0430\\u0447\\u0435\\u0441\\u0442\\u0432\\u0435 \\u0438\\u043d\\u0434\\u0435\\u043a\\u0441\\u0430\\n        model_idx --- \\u0438\\u043d\\u0434\\u0435\\u043a\\u0441 \\u043c\\u043e\\u0434\\u0435\\u043b\\u0438, \\u0442\\u043e \\u0435\\u0441\\u0442\\u044c \\u043d\\u043e\\u043c\\u0435\\u0440 \\u0448\\u0430\\u0433\\u0430 \\u043f\\u0440\\u043e\\u0433\\u043d\\u043e\\u0437\\u0430,\\n                      \\u0434\\u043b\\u044f \\u043a\\u043e\\u0442\\u043e\\u0440\\u043e\\u0433\\u043e \\u043d\\u0443\\u0436\\u043d\\u043e \\u043f\\u043e\\u043b\\u0443\\u0447\\u0438\\u0442\\u044c \\u043f\\u0440\\u0438\\u0437\\u043d\\u0430\\u043a\\u0438, \\u043d\\u0443\\u043c\\u0435\\u0440\\u0430\\u0446\\u0438\\u044f \\u0441 \\u043d\\u0443\\u043b\\u044f\\n        window_size --- \\u043a\\u043e\\u043b\\u0438\\u0447\\u0435\\u0441\\u0442\\u0432\\u043e \\u043f\\u043e\\u0441\\u043b\\u0435\\u0434\\u043d\\u0438\\u0445 \\u0437\\u043d\\u0430\\u0447\\u0435\\u043d\\u0438\\u0439 \\u0440\\u044f\\u0434\\u0430, \\u0438\\u0441\\u043f\\u043e\\u043b\\u044c\\u0437\\u0443\\u0435\\u043c\\u044b\\u0445 \\u0434\\u043b\\u044f \\u043f\\u0440\\u043e\\u0433\\u043d\\u043e\\u0437\\u0430\\n                        (\\u0431\\u0435\\u0437 \\u0443\\u0447\\u0451\\u0442\\u0430 \\u043a\\u043e\\u043b\\u0438\\u0447\\u0435\\u0441\\u0442\\u0432\\u0430 \\u043f\\u0440\\u043e\\u0433\\u043d\\u043e\\u0437\\u043e\\u0432 \\u0441 \\u043f\\u0440\\u0435\\u0434\\u044b\\u0434\\u0443\\u0449\\u0438\\u0445 \\u044d\\u0442\\u0430\\u043f\\u043e\\u0432)\\n\\n    Returns:\\n        \\u041e\\u0434\\u043d\\u043e\\u043c\\u0435\\u0440\\u043d\\u044b\\u0439 \\u0432\\u0435\\u043a\\u0442\\u043e\\u0440 \\u0444\\u0438\\u0447\\u0435\\u0439 \\u0434\\u043b\\u044f \\u043c\\u043e\\u0434\\u0435\\u043b\\u0438 \\u0441 \\u0438\\u043d\\u0434\\u0435\\u043a\\u0441\\u043e\\u043c model_idx (np.array),\\n        \\u0447\\u0442\\u043e\\u0431\\u044b \\u0441\\u0434\\u0435\\u043b\\u0430\\u0442\\u044c \\u043f\\u0440\\u043e\\u0433\\u043d\\u043e\\u0437 \\u0434\\u043b\\u044f \\u043c\\u043e\\u043c\\u0435\\u043d\\u0442\\u0430 \\u0432\\u0440\\u0435\\u043c\\u0435\\u043d\\u0438 T\\n    \\\"\\\"\\\"\\n    # YOUR CODE HERE\\n    return timeseries[-(window_size + model_idx) :].values\\n\\n\\n# @dataclasses.dataclass\\nclass FeatureExtractor:\\n    def __init__(\\n        self,\\n        timeseries: TS_type,\\n        model_idx: int,\\n        day_window_size: int = 6,\\n        week_window_size: int = 3,\\n        month_window_size: int = 11,\\n        year_window_size: int = 3,\\n    ):\\n        self.timeseries = timeseries\\n        self.model_idx = model_idx\\n        self.day_window_size = day_window_size\\n        self.week_window_size = week_window_size\\n        self.month_window_size = month_window_size\\n        self.year_window_size = year_window_size\\n\\n        self.now_timestamp = self.timeseries.index[-1]\\n        self.prediction_timestamp = self.now_timestamp + pd.Timedelta(\\n            days=self.model_idx + 1\\n        )\\n        self.mean = self.timeseries.mean()\\n\\n    def get_period_features(self, index):\\n        index = [i for i in index if i <= self.now_timestamp]\\n        period_features = self.timeseries.reindex(index)\\n        mean = period_features.mean()\\n        if np.isnan(mean):\\n            mean = self.mean\\n        period_features = period_features.fillna(mean)\\n        return period_features.values\\n\\n    def get_period_features_for_period(self, days_in_period, window_size):\\n        index = [\\n            self.prediction_timestamp - pd.Timedelta(days=i * days_in_period)\\n            for i in range(1, window_size + 1)\\n        ]\\n        return self.get_period_features(index)\\n\\n    def extract_features(self):\\n        features = []\\n        #         features.append(self.mean)\\n        features.extend(\\n            self.get_period_features_for_period(\\n                days_in_period=1, window_size=self.day_window_size\\n            )\\n        )\\n        features.extend(\\n            self.get_period_features_for_period(\\n                days_in_period=7, window_size=self.week_window_size\\n            )\\n        )\\n        features.extend(\\n            self.get_period_features_for_period(\\n                days_in_period=30, window_size=self.month_window_size\\n            )\\n        )\\n        features.extend(\\n            self.get_period_features_for_period(\\n                days_in_period=365, window_size=self.year_window_size\\n            )\\n        )\\n\\n        return np.stack(features)\\n\\n\\ndef my_extract_features(*args, **kwargs):\\n    return FeatureExtractor(*args, **kwargs).extract_features()\\n\\n\\ndef build_datasets(\\n    timeseries: TS_type,\\n    extract_features: tp.Callable[..., X_row_type] = extract_hybrid_strategy_features,\\n    window_size: int = 6,\\n    model_count: int = 1,\\n) -> tp.List[tp.Tuple[X_type, Y_type]]:\\n    \\\"\\\"\\\"\\n    \\u0424\\u0443\\u043d\\u043a\\u0446\\u0438\\u044f \\u0434\\u043b\\u044f \\u043f\\u043e\\u043b\\u0443\\u0447\\u0435\\u043d\\u0438\\u044f \\u043e\\u0431\\u0443\\u0447\\u0430\\u044e\\u0449\\u0438\\u0445 \\u0434\\u0430\\u0442\\u0430\\u0441\\u0435\\u0442\\u043e\\u0432 \\u0441\\u043e\\u0433\\u043b\\u0430\\u0441\\u043d\\u043e \\u0433\\u0438\\u0431\\u0440\\u0438\\u0434\\u043d\\u043e\\u0439 \\u0441\\u0445\\u0435\\u043c\\u0435\\n\\n    Args:\\n        timeseries --- \\u0432\\u0440\\u0435\\u043c\\u0435\\u043d\\u043d\\u043e\\u0439 \\u0440\\u044f\\u0434\\n        extract_features --- \\u0444\\u0443\\u043d\\u043a\\u0446\\u0438\\u044f \\u0434\\u043b\\u044f \\u0433\\u0435\\u043d\\u0435\\u0440\\u0430\\u0446\\u0438\\u0438 \\u0432\\u0435\\u043a\\u0442\\u043e\\u0440\\u0430 \\u0444\\u0438\\u0447\\u0435\\u0439\\n        window_size --- \\u043a\\u043e\\u043b\\u0438\\u0447\\u0435\\u0441\\u0442\\u0432\\u043e \\u043f\\u043e\\u0441\\u043b\\u0435\\u0434\\u043d\\u0438\\u0445 \\u0437\\u043d\\u0430\\u0447\\u0435\\u043d\\u0438\\u0439 \\u0440\\u044f\\u0434\\u0430, \\u0438\\u0441\\u043f\\u043e\\u043b\\u044c\\u0437\\u0443\\u0435\\u043c\\u044b\\u0445 \\u0434\\u043b\\u044f \\u043f\\u0440\\u043e\\u0433\\u043d\\u043e\\u0437\\u0430\\n        model_count --- \\u043a\\u043e\\u043b\\u0438\\u0447\\u0435\\u0441\\u0442\\u0432\\u043e \\u043c\\u043e\\u0434\\u0435\\u043b\\u0435\\u0439, \\u0438\\u0441\\u043f\\u043e\\u043b\\u044c\\u0437\\u0443\\u0435\\u043c\\u044b\\u0445 \\u0434\\u043b\\u044f \\u043f\\u043e\\u043b\\u0443\\u0447\\u0435\\u043d\\u0438\\u044f \\u043f\\u0440\\u0435\\u0434\\u0441\\u043a\\u0437\\u0430\\u043d\\u0438\\u0439\\n\\n    Returns:\\n        \\u0421\\u043f\\u0438\\u0441\\u043e\\u043a \\u0438\\u0437 model_count \\u0434\\u0430\\u0442\\u0430\\u0441\\u0435\\u0442\\u043e\\u0432, i-\\u0439 \\u0434\\u0430\\u0442\\u0430\\u0441\\u0435\\u0442 \\u0438\\u0441\\u043f\\u043e\\u043b\\u044c\\u0437\\u0443\\u0435\\u0442\\u0441\\u044f \\u0434\\u043b\\u044f \\u043e\\u0431\\u0443\\u0447\\u0435\\u043d\\u0438\\u044f i-\\u0439 \\u043c\\u043e\\u0434\\u0435\\u043b\\u0438\\n        \\u0438 \\u043f\\u0440\\u0435\\u0434\\u0441\\u0442\\u0430\\u0432\\u043b\\u044f\\u0435\\u0442 \\u0441\\u043e\\u0431\\u043e\\u0439 \\u043f\\u0430\\u0440\\u0443 \\u0438\\u0437 \\u0434\\u0432\\u0443\\u043c\\u0435\\u0440\\u043d\\u043e\\u0433\\u043e \\u043c\\u0430\\u0441\\u0441\\u0438\\u0432\\u0430 \\u0444\\u0438\\u0447\\u0435\\u0439 \\u0438 \\u043e\\u0434\\u043d\\u043e\\u043c\\u0435\\u0440\\u043d\\u043e\\u0433\\u043e \\u043c\\u0430\\u0441\\u0441\\u0438\\u0432\\u0430 \\u0442\\u0430\\u0440\\u0433\\u0435\\u0442\\u043e\\u0432\\n    \\\"\\\"\\\"\\n    datasets = []\\n    # YOUR CODE HERE\\n    for model_idx in range(model_count):\\n        offset_timeseries = timeseries[window_size + model_idx :]\\n        y = offset_timeseries.values\\n        x = []\\n        for pred_time in offset_timeseries.index:\\n            x.append(\\n                extract_features(\\n                    timeseries[: pred_time - pd.Timedelta(days=1)],\\n                    model_idx,\\n                    window_size,\\n                )\\n            )\\n        x = np.stack(x)\\n        datasets.append((x, y))\\n\\n    assert len(datasets) == model_count\\n    return datasets\\n\\n\\ndef my_build_datasets(\\n    timeseries: TS_type,\\n    extract_features: tp.Callable[..., X_row_type] = my_extract_features,\\n    window_size: int = 6,\\n    model_count: int = 1,\\n) -> tp.List[tp.Tuple[X_type, Y_type]]:\\n    \\\"\\\"\\\"\\n    \\u0424\\u0443\\u043d\\u043a\\u0446\\u0438\\u044f \\u0434\\u043b\\u044f \\u043f\\u043e\\u043b\\u0443\\u0447\\u0435\\u043d\\u0438\\u044f \\u043e\\u0431\\u0443\\u0447\\u0430\\u044e\\u0449\\u0438\\u0445 \\u0434\\u0430\\u0442\\u0430\\u0441\\u0435\\u0442\\u043e\\u0432 \\u0441\\u043e\\u0433\\u043b\\u0430\\u0441\\u043d\\u043e \\u0433\\u0438\\u0431\\u0440\\u0438\\u0434\\u043d\\u043e\\u0439 \\u0441\\u0445\\u0435\\u043c\\u0435\\n\\n    Args:\\n        timeseries --- \\u0432\\u0440\\u0435\\u043c\\u0435\\u043d\\u043d\\u043e\\u0439 \\u0440\\u044f\\u0434\\n        extract_features --- \\u0444\\u0443\\u043d\\u043a\\u0446\\u0438\\u044f \\u0434\\u043b\\u044f \\u0433\\u0435\\u043d\\u0435\\u0440\\u0430\\u0446\\u0438\\u0438 \\u0432\\u0435\\u043a\\u0442\\u043e\\u0440\\u0430 \\u0444\\u0438\\u0447\\u0435\\u0439\\n        window_size --- \\u043a\\u043e\\u043b\\u0438\\u0447\\u0435\\u0441\\u0442\\u0432\\u043e \\u043f\\u043e\\u0441\\u043b\\u0435\\u0434\\u043d\\u0438\\u0445 \\u0437\\u043d\\u0430\\u0447\\u0435\\u043d\\u0438\\u0439 \\u0440\\u044f\\u0434\\u0430, \\u0438\\u0441\\u043f\\u043e\\u043b\\u044c\\u0437\\u0443\\u0435\\u043c\\u044b\\u0445 \\u0434\\u043b\\u044f \\u043f\\u0440\\u043e\\u0433\\u043d\\u043e\\u0437\\u0430\\n        model_count --- \\u043a\\u043e\\u043b\\u0438\\u0447\\u0435\\u0441\\u0442\\u0432\\u043e \\u043c\\u043e\\u0434\\u0435\\u043b\\u0435\\u0439, \\u0438\\u0441\\u043f\\u043e\\u043b\\u044c\\u0437\\u0443\\u0435\\u043c\\u044b\\u0445 \\u0434\\u043b\\u044f \\u043f\\u043e\\u043b\\u0443\\u0447\\u0435\\u043d\\u0438\\u044f \\u043f\\u0440\\u0435\\u0434\\u0441\\u043a\\u0437\\u0430\\u043d\\u0438\\u0439\\n\\n    Returns:\\n        \\u0421\\u043f\\u0438\\u0441\\u043e\\u043a \\u0438\\u0437 model_count \\u0434\\u0430\\u0442\\u0430\\u0441\\u0435\\u0442\\u043e\\u0432, i-\\u0439 \\u0434\\u0430\\u0442\\u0430\\u0441\\u0435\\u0442 \\u0438\\u0441\\u043f\\u043e\\u043b\\u044c\\u0437\\u0443\\u0435\\u0442\\u0441\\u044f \\u0434\\u043b\\u044f \\u043e\\u0431\\u0443\\u0447\\u0435\\u043d\\u0438\\u044f i-\\u0439 \\u043c\\u043e\\u0434\\u0435\\u043b\\u0438\\n        \\u0438 \\u043f\\u0440\\u0435\\u0434\\u0441\\u0442\\u0430\\u0432\\u043b\\u044f\\u0435\\u0442 \\u0441\\u043e\\u0431\\u043e\\u0439 \\u043f\\u0430\\u0440\\u0443 \\u0438\\u0437 \\u0434\\u0432\\u0443\\u043c\\u0435\\u0440\\u043d\\u043e\\u0433\\u043e \\u043c\\u0430\\u0441\\u0441\\u0438\\u0432\\u0430 \\u0444\\u0438\\u0447\\u0435\\u0439 \\u0438 \\u043e\\u0434\\u043d\\u043e\\u043c\\u0435\\u0440\\u043d\\u043e\\u0433\\u043e \\u043c\\u0430\\u0441\\u0441\\u0438\\u0432\\u0430 \\u0442\\u0430\\u0440\\u0433\\u0435\\u0442\\u043e\\u0432\\n    \\\"\\\"\\\"\\n    datasets = []\\n    # YOUR CODE HERE\\n    for model_idx in range(model_count):\\n        offset_timeseries = timeseries[window_size + model_idx + 366 :]\\n        y = offset_timeseries.values\\n        timedelta = pd.Timedelta(days=1 + model_idx)\\n        x = []\\n        for pred_time in offset_timeseries.index:\\n            x.append(extract_features(timeseries[: pred_time - timedelta], model_idx))\\n        x = np.stack(x)\\n        datasets.append((x, y))\\n\\n    assert len(datasets) == model_count\\n    return datasets\\n\\n\\ndef predict(\\n    timeseries: TS_type,\\n    models: tp.List[Model_type],\\n    extract_features: tp.Callable[..., X_row_type] = my_extract_features,\\n) -> TS_type:\\n    \\\"\\\"\\\"\\n    \\u0424\\u0443\\u043d\\u043a\\u0446\\u0438\\u044f \\u0434\\u043b\\u044f \\u043f\\u043e\\u043b\\u0443\\u0447\\u0435\\u043d\\u0438\\u044f \\u043f\\u0440\\u043e\\u0433\\u043d\\u043e\\u0437\\u0430 len(models) \\u0441\\u043b\\u0435\\u0434\\u0443\\u044e\\u0449\\u0438\\u0445 \\u0437\\u043d\\u0430\\u0447\\u0435\\u043d\\u0438\\u0439 \\u0432\\u0440\\u0435\\u043c\\u0435\\u043d\\u043d\\u043e\\u0433\\u043e \\u0440\\u044f\\u0434\\u0430\\n\\n    Args:\\n        timeseries --- \\u0432\\u0440\\u0435\\u043c\\u0435\\u043d\\u043d\\u043e\\u0439 \\u0440\\u044f\\u0434, \\u043f\\u043e \\u043a\\u043e\\u0442\\u043e\\u0440\\u043e\\u043c\\u0443 \\u043d\\u0435\\u043e\\u0431\\u0445\\u043e\\u0434\\u0438\\u043c\\u043e \\u0441\\u0434\\u0435\\u043b\\u0430\\u0442\\u044c \\u043f\\u0440\\u043e\\u0433\\u043d\\u043e\\u0437 \\u043d\\u0430 \\u0441\\u043b\\u0435\\u0434\\u0443\\u044e\\u0449\\u0438\\u0435 \\u0434\\u0430\\u0442\\u044b\\n        models --- \\u0441\\u043f\\u0438\\u0441\\u043e\\u043a \\u043e\\u0431\\u0443\\u0447\\u0435\\u043d\\u043d\\u044b\\u0445 \\u043c\\u043e\\u0434\\u0435\\u043b\\u0435\\u0439, i-\\u044f \\u043c\\u043e\\u0434\\u0435\\u043b\\u044c \\u0438\\u0441\\u043f\\u043e\\u043b\\u044c\\u0437\\u0443\\u0435\\u0442\\u0441\\u044f \\u0434\\u043b\\u044f \\u043f\\u043e\\u043b\\u0443\\u0447\\u0435\\u043d\\u0438\\u044f i-\\u0433\\u043e \\u043f\\u0440\\u043e\\u0433\\u043d\\u043e\\u0437\\u0430\\n        extract_features --- \\u0444\\u0443\\u043d\\u043a\\u0446\\u0438\\u044f \\u0434\\u043b\\u044f \\u0433\\u0435\\u043d\\u0435\\u0440\\u0430\\u0446\\u0438\\u0438 \\u0432\\u0435\\u043a\\u0442\\u043e\\u0440\\u0430 \\u0444\\u0438\\u0447\\u0435\\u0439. \\u0415\\u0441\\u043b\\u0438 \\u0432\\u044b \\u0440\\u0435\\u0430\\u043b\\u0438\\u0437\\u0443\\u0435\\u0442\\u0435 \\u0441\\u0432\\u043e\\u044e \\u0444\\u0443\\u043d\\u043a\\u0446\\u0438\\u044e\\n                             \\u0438\\u0437\\u0432\\u043b\\u0435\\u0447\\u0435\\u043d\\u0438\\u044f \\u0444\\u0438\\u0447\\u0435\\u0439 \\u0434\\u043b\\u044f \\u043a\\u043e\\u043d\\u0435\\u0447\\u043d\\u043e\\u0439 \\u043c\\u043e\\u0434\\u0435\\u043b\\u0438, \\u043f\\u0435\\u0440\\u0435\\u0434\\u0430\\u0432\\u0430\\u0439\\u0442\\u0435 \\u044d\\u0442\\u0438\\u043c \\u0430\\u0440\\u0433\\u0443\\u043c\\u0435\\u043d\\u0442\\u043e\\u043c.\\n                             \\u0412\\u043d\\u0443\\u0442\\u0440\\u0438 \\u0444\\u0443\\u043d\\u043a\\u0446\\u0438\\u0438 predict \\u0444\\u0443\\u043d\\u043a\\u0446\\u0438\\u044e extract_features \\u043d\\u0443\\u0436\\u043d\\u043e \\u0432\\u044b\\u0437\\u044b\\u0432\\u0430\\u0442\\u044c \\u0442\\u043e\\u043b\\u044c\\u043a\\u043e\\n                             \\u0441 \\u0430\\u0440\\u0433\\u0443\\u043c\\u0435\\u043d\\u0442\\u0430\\u043c\\u0438 timeseries \\u0438 model_idx, \\u043e\\u0441\\u0442\\u0430\\u043b\\u044c\\u043d\\u044b\\u0435 \\u0434\\u043e\\u043b\\u0436\\u043d\\u044b \\u0431\\u044b\\u0442\\u044c \\u0441\\u043e \\u0437\\u043d\\u0430\\u0447\\u0435\\u043d\\u0438\\u044f\\u043c\\u0438\\n                             \\u043f\\u043e \\u0443\\u043c\\u043e\\u043b\\u0447\\u0430\\u043d\\u0438\\u044e\\n\\n    Returns:\\n        \\u041f\\u0440\\u043e\\u0433\\u043d\\u043e\\u0437 len(models) \\u0441\\u043b\\u0435\\u0434\\u0443\\u044e\\u0449\\u0438\\u0445 \\u0437\\u043d\\u0430\\u0447\\u0435\\u043d\\u0438\\u0439 \\u0432\\u0440\\u0435\\u043c\\u0435\\u043d\\u043d\\u043e\\u0433\\u043e \\u0440\\u044f\\u0434\\u0430\\n    \\\"\\\"\\\"\\n    if extract_features == my_extract_features:\\n        features = [\\n            extract_features(timeseries, model_idx) for model_idx in range(len(models))\\n        ]\\n        return [\\n            model.predict(feats.reshape(1, -1))\\n            for model, feats in zip(models, features)\\n        ]\\n    preds = []\\n    for model_idx, model in enumerate(models):\\n        feats = extract_features(timeseries, model_idx)\\n        pred = model.predict(feats.reshape(1, -1)).item()\\n        timeseries = timeseries.append(\\n            pd.Series({timeseries.index[-1] + pd.Timedelta(days=1): pred})\\n        )\\n        preds.append(pred)\\n    return preds\\n\\n\\nclass ForecastingModel:\\n    def train(self, x: X_type, y: Y_type):\\n        raise NotImplementedError\\n\\n    def predict(self, X_row_type):\\n        raise NotImplementedError\\n\\n\\nclass LinearRegressionForecastingModel:\\n    def __init__(self):\\n        self.model = sklearn.linear_model.LinearRegression()\\n\\n    def train(self, x: X_type, y: Y_type):\\n        self.x = x\\n        self.y = y\\n        self.model.fit(x, y)\\n\\n    def predict(self, x_row: X_row_type):\\n        return self.model.predict(x_row)\\n\\n\\ndef get_model() -> ForecastingModel:\\n    return LinearRegressionForecastingModel()\\n\\n\\ndef train_models(train_timeseries: TS_type, model_count: int) -> tp.List[Model_type]:\\n    \\\"\\\"\\\"\\n    \\u0424\\u0443\\u043d\\u043a\\u0446\\u0438\\u044f \\u0434\\u043b\\u044f \\u043f\\u043e\\u043b\\u0443\\u0447\\u0435\\u043d\\u0438\\u044f \\u043e\\u0431\\u0443\\u0447\\u0435\\u043d\\u043d\\u044b\\u0445 \\u043c\\u043e\\u0434\\u0435\\u043b\\u0435\\u0439\\n\\n    Args:\\n        train_timeseries --- \\u043e\\u0431\\u0443\\u0447\\u0430\\u044e\\u0449\\u0438\\u0439 \\u0432\\u0440\\u0435\\u043c\\u0435\\u043d\\u043d\\u043e\\u0439 \\u0440\\u044f\\u0434\\n        model_count --- \\u043a\\u043e\\u043b\\u0438\\u0447\\u0435\\u0441\\u0442\\u0432\\u043e \\u043c\\u043e\\u0434\\u0435\\u043b\\u0435\\u0439 \\u0434\\u043b\\u044f \\u043e\\u0431\\u0443\\u0447\\u0435\\u043d\\u0438\\u044f \\u0441\\u043e\\u0433\\u043b\\u0430\\u0441\\u043d\\u043e \\u0433\\u0438\\u0431\\u0440\\u0438\\u0434\\u043d\\u043e\\u0439 \\u0441\\u0445\\u0435\\u043c\\u0435.\\n                        \\u041f\\u0440\\u043e\\u0433\\u043d\\u043e\\u0437\\u0438\\u0440\\u043e\\u0432\\u0430\\u043d\\u0438\\u0435 \\u0434\\u043e\\u043b\\u0436\\u043d\\u043e \\u0432\\u044b\\u043f\\u043e\\u043b\\u043d\\u044f\\u0442\\u044c\\u0441\\u044f \\u043d\\u0430 model_count \\u0434\\u043d\\u0435\\u0439 \\u0432\\u043f\\u0435\\u0440\\u0451\\u0434\\n\\n    Returns:\\n        \\u0421\\u043f\\u0438\\u0441\\u043e\\u043a \\u0438\\u0437 len(datasets) \\u043e\\u0431\\u0443\\u0447\\u0435\\u043d\\u043d\\u044b\\u0445 \\u043c\\u043e\\u0434\\u0435\\u043b\\u0435\\u0439\\n    \\\"\\\"\\\"\\n    models = []\\n\\n    # YOUR CODE HERE\\n    datasets = my_build_datasets(\\n        train_timeseries,\\n        window_size=7,\\n        model_count=model_count,\\n    )\\n    for dataset in datasets:\\n        model = get_model()\\n        model.train(*dataset)\\n        models.append(model)\\n\\n    assert len(models) == len(datasets)\\n    return models\\n\\n\\ndef score_models(\\n    train_ts: TS_type,\\n    test_ts: TS_type,\\n    models: tp.List[Model_type],\\n    predict: tp.Callable[[TS_type, tp.List[Model_type]], TS_type] = predict,\\n):\\n    \\\"\\\"\\\"\\n    \\u0424\\u0443\\u043d\\u043a\\u0446\\u0438\\u044f \\u0434\\u043b\\u044f \\u043e\\u0446\\u0435\\u043d\\u043a\\u0438 \\u043a\\u0430\\u0447\\u0435\\u0441\\u0442\\u0432\\u0430 \\u043e\\u0431\\u0443\\u0447\\u0435\\u043d\\u043d\\u044b\\u0445 \\u043c\\u043e\\u0434\\u0435\\u043b\\u0435\\u0439 \\u043f\\u043e \\u043c\\u0435\\u0442\\u0440\\u0438\\u043a\\u0435 MSE\\n\\n    Args:\\n        train_ts --- \\u043e\\u0431\\u0443\\u0447\\u0430\\u044e\\u0449\\u0438\\u0439 \\u0432\\u0440\\u0435\\u043c\\u0435\\u043d\\u043d\\u043e\\u0439 \\u0440\\u044f\\u0434\\n        test_ts --- \\u0442\\u0435\\u0441\\u0442\\u043e\\u0432\\u044b\\u0439 \\u0432\\u0440\\u0435\\u043c\\u0435\\u043d\\u043d\\u043e\\u0439 \\u0440\\u044f\\u0434\\n        models --- \\u0441\\u043f\\u0438\\u0441\\u043e\\u043a \\u043e\\u0431\\u0443\\u0447\\u0435\\u043d\\u043d\\u044b\\u0445 \\u043c\\u043e\\u0434\\u0435\\u043b\\u0435\\u0439\\n        predict --- \\u0444\\u0443\\u043d\\u043a\\u0446\\u0438\\u044f \\u0434\\u043b\\u044f \\u043f\\u043e\\u043b\\u0443\\u0447\\u0435\\u043d\\u0438\\u044f \\u043f\\u0440\\u043e\\u0433\\u043d\\u043e\\u0437\\u0430 \\u0432\\u0440\\u0435\\u043c\\u0435\\u043d\\u043d\\u043e\\u0433\\u043e \\u0440\\u044f\\u0434\\u0430\\n\\n    Returns:\\n        \\u0423\\u0441\\u0440\\u0435\\u0434\\u043d\\u0435\\u043d\\u043d\\u043e\\u0435 MSE \\u0434\\u043b\\u044f \\u043f\\u0440\\u043e\\u0433\\u043d\\u043e\\u0437\\u0430 \\u043c\\u043e\\u0434\\u0435\\u043b\\u0435\\u0439 \\u043f\\u043e \\u0432\\u0441\\u0435\\u0439 \\u0442\\u0435\\u0441\\u0442\\u043e\\u0432\\u043e\\u0439 \\u0432\\u044b\\u0431\\u043e\\u0440\\u043a\\u0435\\n    \\\"\\\"\\\"\\n    predict_len = len(models)\\n    predictions = []\\n    targets = []\\n\\n    for i in range(len(test_ts) - predict_len + 1):\\n        predictions.extend(list(predict(train_ts, models)))\\n        targets.extend(list(test_ts[i : i + predict_len]))\\n        #         with warnings.catch_warnings():\\n        train_ts = train_ts.append(test_ts[i : i + 1])\\n\\n    return sklearn.metrics.mean_squared_error(targets, predictions)\";\n",
       "                var nbb_cells = Jupyter.notebook.get_cells();\n",
       "                for (var i = 0; i < nbb_cells.length; ++i) {\n",
       "                    if (nbb_cells[i].input_prompt_number == nbb_cell_id) {\n",
       "                        if (nbb_cells[i].get_text() == nbb_unformatted_code) {\n",
       "                             nbb_cells[i].set_text(nbb_formatted_code);\n",
       "                        }\n",
       "                        break;\n",
       "                    }\n",
       "                }\n",
       "            }, 500);\n",
       "            "
      ],
      "text/plain": [
       "<IPython.core.display.Javascript object>"
      ]
     },
     "metadata": {},
     "output_type": "display_data"
    }
   ],
   "source": [
    "# import dataclasses\n",
    "# import datetime\n",
    "import numpy as np\n",
    "import pandas as pd\n",
    "import sklearn\n",
    "import sklearn.ensemble\n",
    "import sklearn.linear_model\n",
    "import sklearn.metrics\n",
    "import typing as tp\n",
    "\n",
    "# import warnings\n",
    "\n",
    "X_type = tp.NewType(\"X_type\", np.ndarray)\n",
    "X_row_type = tp.NewType(\"X_row_type\", np.ndarray)\n",
    "Y_type = tp.NewType(\"Y_type\", np.array)\n",
    "TS_type = tp.NewType(\"TS_type\", pd.Series)\n",
    "Model_type = tp.TypeVar(\"Model_type\")\n",
    "\n",
    "\n",
    "def read_timeseries(path_to_df: str = \"data/train.csv\") -> TS_type:\n",
    "    \"\"\"Функция для чтения данных и получения обучающей и тестовой выборок\"\"\"\n",
    "    df = pd.read_csv(path_to_df)\n",
    "    df = df[(df[\"store\"] == 1) & (df[\"item\"] == 1)]\n",
    "    df[\"date\"] = pd.to_datetime(df[\"date\"])\n",
    "    df = df.set_index(\"date\")\n",
    "    ts = df[\"sales\"]\n",
    "    train_ts = ts[:-365]\n",
    "    test_ts = ts[-365:]\n",
    "    return train_ts, test_ts\n",
    "\n",
    "\n",
    "def extract_hybrid_strategy_features(\n",
    "    timeseries: TS_type,\n",
    "    model_idx: int,\n",
    "    window_size: int = 7,\n",
    ") -> X_row_type:\n",
    "    \"\"\"\n",
    "    Функция для получения вектора фичей согласно гибридной схеме. На вход подаётся временной ряд\n",
    "    до момента T, функция выделяет из него фичи, необходимые модели под номером model_idx для\n",
    "    прогноза на момент времени T\n",
    "\n",
    "    Args:\n",
    "        timeseries --- временной ряд до момента времени T (не включительно), pd.Series с датой\n",
    "                       в качестве индекса\n",
    "        model_idx --- индекс модели, то есть номер шага прогноза,\n",
    "                      для которого нужно получить признаки, нумерация с нуля\n",
    "        window_size --- количество последних значений ряда, используемых для прогноза\n",
    "                        (без учёта количества прогнозов с предыдущих этапов)\n",
    "\n",
    "    Returns:\n",
    "        Одномерный вектор фичей для модели с индексом model_idx (np.array),\n",
    "        чтобы сделать прогноз для момента времени T\n",
    "    \"\"\"\n",
    "    # YOUR CODE HERE\n",
    "    return timeseries[-(window_size + model_idx) :].values\n",
    "\n",
    "\n",
    "# @dataclasses.dataclass\n",
    "class FeatureExtractor:\n",
    "    def __init__(\n",
    "        self,\n",
    "        timeseries: TS_type,\n",
    "        model_idx: int,\n",
    "        day_window_size: int = 6,\n",
    "        week_window_size: int = 3,\n",
    "        month_window_size: int = 11,\n",
    "        year_window_size: int = 3,\n",
    "    ):\n",
    "        self.timeseries = timeseries\n",
    "        self.model_idx = model_idx\n",
    "        self.day_window_size = day_window_size\n",
    "        self.week_window_size = week_window_size\n",
    "        self.month_window_size = month_window_size\n",
    "        self.year_window_size = year_window_size\n",
    "\n",
    "        self.now_timestamp = self.timeseries.index[-1]\n",
    "        self.prediction_timestamp = self.now_timestamp + pd.Timedelta(\n",
    "            days=self.model_idx + 1\n",
    "        )\n",
    "        self.mean = self.timeseries.mean()\n",
    "\n",
    "    def get_period_features(self, index):\n",
    "        index = [i for i in index if i <= self.now_timestamp]\n",
    "        period_features = self.timeseries.reindex(index)\n",
    "        mean = period_features.mean()\n",
    "        if np.isnan(mean):\n",
    "            mean = self.mean\n",
    "        period_features = period_features.fillna(mean)\n",
    "        return period_features.values\n",
    "\n",
    "    def get_period_features_for_period(self, days_in_period, window_size):\n",
    "        index = [\n",
    "            self.prediction_timestamp - pd.Timedelta(days=i * days_in_period)\n",
    "            for i in range(1, window_size + 1)\n",
    "        ]\n",
    "        return self.get_period_features(index)\n",
    "\n",
    "    def extract_features(self):\n",
    "        features = []\n",
    "        #         features.append(self.mean)\n",
    "        features.extend(\n",
    "            self.get_period_features_for_period(\n",
    "                days_in_period=1, window_size=self.day_window_size\n",
    "            )\n",
    "        )\n",
    "        features.extend(\n",
    "            self.get_period_features_for_period(\n",
    "                days_in_period=7, window_size=self.week_window_size\n",
    "            )\n",
    "        )\n",
    "        features.extend(\n",
    "            self.get_period_features_for_period(\n",
    "                days_in_period=30, window_size=self.month_window_size\n",
    "            )\n",
    "        )\n",
    "        features.extend(\n",
    "            self.get_period_features_for_period(\n",
    "                days_in_period=365, window_size=self.year_window_size\n",
    "            )\n",
    "        )\n",
    "\n",
    "        return np.stack(features)\n",
    "\n",
    "\n",
    "def my_extract_features(*args, **kwargs):\n",
    "    return FeatureExtractor(*args, **kwargs).extract_features()\n",
    "\n",
    "\n",
    "def build_datasets(\n",
    "    timeseries: TS_type,\n",
    "    extract_features: tp.Callable[..., X_row_type] = extract_hybrid_strategy_features,\n",
    "    window_size: int = 6,\n",
    "    model_count: int = 1,\n",
    ") -> tp.List[tp.Tuple[X_type, Y_type]]:\n",
    "    \"\"\"\n",
    "    Функция для получения обучающих датасетов согласно гибридной схеме\n",
    "\n",
    "    Args:\n",
    "        timeseries --- временной ряд\n",
    "        extract_features --- функция для генерации вектора фичей\n",
    "        window_size --- количество последних значений ряда, используемых для прогноза\n",
    "        model_count --- количество моделей, используемых для получения предскзаний\n",
    "\n",
    "    Returns:\n",
    "        Список из model_count датасетов, i-й датасет используется для обучения i-й модели\n",
    "        и представляет собой пару из двумерного массива фичей и одномерного массива таргетов\n",
    "    \"\"\"\n",
    "    datasets = []\n",
    "    # YOUR CODE HERE\n",
    "    for model_idx in range(model_count):\n",
    "        offset_timeseries = timeseries[window_size + model_idx :]\n",
    "        y = offset_timeseries.values\n",
    "        x = []\n",
    "        for pred_time in offset_timeseries.index:\n",
    "            x.append(\n",
    "                extract_features(\n",
    "                    timeseries[: pred_time - pd.Timedelta(days=1)],\n",
    "                    model_idx,\n",
    "                    window_size,\n",
    "                )\n",
    "            )\n",
    "        x = np.stack(x)\n",
    "        datasets.append((x, y))\n",
    "\n",
    "    assert len(datasets) == model_count\n",
    "    return datasets\n",
    "\n",
    "\n",
    "def my_build_datasets(\n",
    "    timeseries: TS_type,\n",
    "    extract_features: tp.Callable[..., X_row_type] = my_extract_features,\n",
    "    window_size: int = 6,\n",
    "    model_count: int = 1,\n",
    ") -> tp.List[tp.Tuple[X_type, Y_type]]:\n",
    "    \"\"\"\n",
    "    Функция для получения обучающих датасетов согласно гибридной схеме\n",
    "\n",
    "    Args:\n",
    "        timeseries --- временной ряд\n",
    "        extract_features --- функция для генерации вектора фичей\n",
    "        window_size --- количество последних значений ряда, используемых для прогноза\n",
    "        model_count --- количество моделей, используемых для получения предскзаний\n",
    "\n",
    "    Returns:\n",
    "        Список из model_count датасетов, i-й датасет используется для обучения i-й модели\n",
    "        и представляет собой пару из двумерного массива фичей и одномерного массива таргетов\n",
    "    \"\"\"\n",
    "    datasets = []\n",
    "    # YOUR CODE HERE\n",
    "    for model_idx in range(model_count):\n",
    "        offset_timeseries = timeseries[window_size + model_idx + 366 :]\n",
    "        y = offset_timeseries.values\n",
    "        timedelta = pd.Timedelta(days=1 + model_idx)\n",
    "        x = []\n",
    "        for pred_time in offset_timeseries.index:\n",
    "            x.append(extract_features(timeseries[: pred_time - timedelta], model_idx))\n",
    "        x = np.stack(x)\n",
    "        datasets.append((x, y))\n",
    "\n",
    "    assert len(datasets) == model_count\n",
    "    return datasets\n",
    "\n",
    "\n",
    "def predict(\n",
    "    timeseries: TS_type,\n",
    "    models: tp.List[Model_type],\n",
    "    extract_features: tp.Callable[..., X_row_type] = my_extract_features,\n",
    ") -> TS_type:\n",
    "    \"\"\"\n",
    "    Функция для получения прогноза len(models) следующих значений временного ряда\n",
    "\n",
    "    Args:\n",
    "        timeseries --- временной ряд, по которому необходимо сделать прогноз на следующие даты\n",
    "        models --- список обученных моделей, i-я модель используется для получения i-го прогноза\n",
    "        extract_features --- функция для генерации вектора фичей. Если вы реализуете свою функцию\n",
    "                             извлечения фичей для конечной модели, передавайте этим аргументом.\n",
    "                             Внутри функции predict функцию extract_features нужно вызывать только\n",
    "                             с аргументами timeseries и model_idx, остальные должны быть со значениями\n",
    "                             по умолчанию\n",
    "\n",
    "    Returns:\n",
    "        Прогноз len(models) следующих значений временного ряда\n",
    "    \"\"\"\n",
    "    if extract_features == my_extract_features:\n",
    "        features = [\n",
    "            extract_features(timeseries, model_idx) for model_idx in range(len(models))\n",
    "        ]\n",
    "        return [\n",
    "            model.predict(feats.reshape(1, -1))\n",
    "            for model, feats in zip(models, features)\n",
    "        ]\n",
    "    preds = []\n",
    "    for model_idx, model in enumerate(models):\n",
    "        feats = extract_features(timeseries, model_idx)\n",
    "        pred = model.predict(feats.reshape(1, -1)).item()\n",
    "        timeseries = timeseries.append(\n",
    "            pd.Series({timeseries.index[-1] + pd.Timedelta(days=1): pred})\n",
    "        )\n",
    "        preds.append(pred)\n",
    "    return preds\n",
    "\n",
    "\n",
    "class ForecastingModel:\n",
    "    def train(self, x: X_type, y: Y_type):\n",
    "        raise NotImplementedError\n",
    "\n",
    "    def predict(self, X_row_type):\n",
    "        raise NotImplementedError\n",
    "\n",
    "\n",
    "class LinearRegressionForecastingModel:\n",
    "    def __init__(self):\n",
    "        self.model = sklearn.linear_model.LinearRegression()\n",
    "\n",
    "    def train(self, x: X_type, y: Y_type):\n",
    "        self.x = x\n",
    "        self.y = y\n",
    "        self.model.fit(x, y)\n",
    "\n",
    "    def predict(self, x_row: X_row_type):\n",
    "        return self.model.predict(x_row)\n",
    "\n",
    "\n",
    "def get_model() -> ForecastingModel:\n",
    "    return LinearRegressionForecastingModel()\n",
    "\n",
    "\n",
    "def train_models(train_timeseries: TS_type, model_count: int) -> tp.List[Model_type]:\n",
    "    \"\"\"\n",
    "    Функция для получения обученных моделей\n",
    "\n",
    "    Args:\n",
    "        train_timeseries --- обучающий временной ряд\n",
    "        model_count --- количество моделей для обучения согласно гибридной схеме.\n",
    "                        Прогнозирование должно выполняться на model_count дней вперёд\n",
    "\n",
    "    Returns:\n",
    "        Список из len(datasets) обученных моделей\n",
    "    \"\"\"\n",
    "    models = []\n",
    "\n",
    "    # YOUR CODE HERE\n",
    "    datasets = my_build_datasets(\n",
    "        train_timeseries,\n",
    "        window_size=7,\n",
    "        model_count=model_count,\n",
    "    )\n",
    "    for dataset in datasets:\n",
    "        model = get_model()\n",
    "        model.train(*dataset)\n",
    "        models.append(model)\n",
    "\n",
    "    assert len(models) == len(datasets)\n",
    "    return models\n",
    "\n",
    "\n",
    "def score_models(\n",
    "    train_ts: TS_type,\n",
    "    test_ts: TS_type,\n",
    "    models: tp.List[Model_type],\n",
    "    predict: tp.Callable[[TS_type, tp.List[Model_type]], TS_type] = predict,\n",
    "):\n",
    "    \"\"\"\n",
    "    Функция для оценки качества обученных моделей по метрике MSE\n",
    "\n",
    "    Args:\n",
    "        train_ts --- обучающий временной ряд\n",
    "        test_ts --- тестовый временной ряд\n",
    "        models --- список обученных моделей\n",
    "        predict --- функция для получения прогноза временного ряда\n",
    "\n",
    "    Returns:\n",
    "        Усредненное MSE для прогноза моделей по всей тестовой выборке\n",
    "    \"\"\"\n",
    "    predict_len = len(models)\n",
    "    predictions = []\n",
    "    targets = []\n",
    "\n",
    "    for i in range(len(test_ts) - predict_len + 1):\n",
    "        predictions.extend(list(predict(train_ts, models)))\n",
    "        targets.extend(list(test_ts[i : i + predict_len]))\n",
    "        #         with warnings.catch_warnings():\n",
    "        train_ts = train_ts.append(test_ts[i : i + 1])\n",
    "\n",
    "    return sklearn.metrics.mean_squared_error(targets, predictions)"
   ]
  },
  {
   "cell_type": "code",
   "execution_count": 938,
   "id": "c3550d26",
   "metadata": {},
   "outputs": [
    {
     "data": {
      "application/javascript": [
       "\n",
       "            setTimeout(function() {\n",
       "                var nbb_cell_id = 938;\n",
       "                var nbb_unformatted_code = \"a = build_datasets(train_ts[-100:], model_count=3, window_size=5)\";\n",
       "                var nbb_formatted_code = \"a = build_datasets(train_ts[-100:], model_count=3, window_size=5)\";\n",
       "                var nbb_cells = Jupyter.notebook.get_cells();\n",
       "                for (var i = 0; i < nbb_cells.length; ++i) {\n",
       "                    if (nbb_cells[i].input_prompt_number == nbb_cell_id) {\n",
       "                        if (nbb_cells[i].get_text() == nbb_unformatted_code) {\n",
       "                             nbb_cells[i].set_text(nbb_formatted_code);\n",
       "                        }\n",
       "                        break;\n",
       "                    }\n",
       "                }\n",
       "            }, 500);\n",
       "            "
      ],
      "text/plain": [
       "<IPython.core.display.Javascript object>"
      ]
     },
     "metadata": {},
     "output_type": "display_data"
    }
   ],
   "source": [
    "a = build_datasets(train_ts[-100:], model_count=3, window_size=5)"
   ]
  },
  {
   "cell_type": "code",
   "execution_count": 923,
   "id": "d01fadcd",
   "metadata": {},
   "outputs": [
    {
     "data": {
      "text/plain": [
       "((95, 5), (95,))"
      ]
     },
     "execution_count": 923,
     "metadata": {},
     "output_type": "execute_result"
    },
    {
     "data": {
      "application/javascript": [
       "\n",
       "            setTimeout(function() {\n",
       "                var nbb_cell_id = 923;\n",
       "                var nbb_unformatted_code = \"a[0][0].shape, a[0][1].shape\";\n",
       "                var nbb_formatted_code = \"a[0][0].shape, a[0][1].shape\";\n",
       "                var nbb_cells = Jupyter.notebook.get_cells();\n",
       "                for (var i = 0; i < nbb_cells.length; ++i) {\n",
       "                    if (nbb_cells[i].input_prompt_number == nbb_cell_id) {\n",
       "                        if (nbb_cells[i].get_text() == nbb_unformatted_code) {\n",
       "                             nbb_cells[i].set_text(nbb_formatted_code);\n",
       "                        }\n",
       "                        break;\n",
       "                    }\n",
       "                }\n",
       "            }, 500);\n",
       "            "
      ],
      "text/plain": [
       "<IPython.core.display.Javascript object>"
      ]
     },
     "metadata": {},
     "output_type": "display_data"
    }
   ],
   "source": [
    "a[0][0].shape, a[0][1].shape"
   ]
  },
  {
   "cell_type": "code",
   "execution_count": 975,
   "id": "b4139576",
   "metadata": {},
   "outputs": [
    {
     "data": {
      "application/javascript": [
       "\n",
       "            setTimeout(function() {\n",
       "                var nbb_cell_id = 975;\n",
       "                var nbb_unformatted_code = \"def score(models_count=30):\\n    train_ts, test_ts = read_timeseries()\\n    models = train_models(train_ts, models_count)\\n    return score_models(train_ts, test_ts, models)\";\n",
       "                var nbb_formatted_code = \"def score(models_count=30):\\n    train_ts, test_ts = read_timeseries()\\n    models = train_models(train_ts, models_count)\\n    return score_models(train_ts, test_ts, models)\";\n",
       "                var nbb_cells = Jupyter.notebook.get_cells();\n",
       "                for (var i = 0; i < nbb_cells.length; ++i) {\n",
       "                    if (nbb_cells[i].input_prompt_number == nbb_cell_id) {\n",
       "                        if (nbb_cells[i].get_text() == nbb_unformatted_code) {\n",
       "                             nbb_cells[i].set_text(nbb_formatted_code);\n",
       "                        }\n",
       "                        break;\n",
       "                    }\n",
       "                }\n",
       "            }, 500);\n",
       "            "
      ],
      "text/plain": [
       "<IPython.core.display.Javascript object>"
      ]
     },
     "metadata": {},
     "output_type": "display_data"
    }
   ],
   "source": [
    "def score(models_count=30):\n",
    "    train_ts, test_ts = read_timeseries()\n",
    "    models = train_models(train_ts, models_count)\n",
    "    return score_models(train_ts, test_ts, models)"
   ]
  },
  {
   "cell_type": "code",
   "execution_count": 976,
   "id": "e8ef1225",
   "metadata": {},
   "outputs": [
    {
     "data": {
      "application/javascript": [
       "\n",
       "            setTimeout(function() {\n",
       "                var nbb_cell_id = 976;\n",
       "                var nbb_unformatted_code = \"class FeatureExtractor:\\n    def __init__(\\n        self,\\n        timeseries: TS_type,\\n        model_idx: int,\\n        day_window_size: int = 6,\\n        week_window_size: int = 3,\\n        month_window_size: int = 11,\\n        year_window_size: int = 3,\\n    ):\\n        self.timeseries = timeseries\\n        self.model_idx = model_idx\\n        self.day_window_size = day_window_size\\n        self.week_window_size = week_window_size\\n        self.month_window_size = month_window_size\\n        self.year_window_size = year_window_size\\n\\n        self.now_timestamp = self.timeseries.index[-1]\\n        self.prediction_timestamp = self.now_timestamp + pd.Timedelta(\\n            days=self.model_idx + 1\\n        )\\n        self.mean = self.timeseries.mean()\\n\\n    def get_period_features(self, index):\\n        index = [i for i in index if i <= self.now_timestamp]\\n        period_features = self.timeseries.reindex(index)\\n        mean = period_features.mean()\\n        if np.isnan(mean):\\n            mean = self.mean\\n        period_features = period_features.fillna(mean)\\n        return period_features.values\\n\\n    def get_period_features_for_period(self, days_in_period, window_size):\\n        index = [\\n            self.prediction_timestamp - pd.Timedelta(days=i * days_in_period)\\n            for i in range(1, window_size + 1)\\n        ]\\n        return self.get_period_features(index)\\n\\n    def extract_features(self):\\n        features = []\\n        features.extend(\\n            self.get_period_features_for_period(\\n                days_in_period=1, window_size=self.day_window_size\\n            )\\n        )\\n        features.extend(\\n            self.get_period_features_for_period(\\n                days_in_period=7, window_size=self.week_window_size\\n            )\\n        )\\n        features.extend(\\n            self.get_period_features_for_period(\\n                days_in_period=30, window_size=self.month_window_size\\n            )\\n        )\\n        features.extend(\\n            self.get_period_features_for_period(\\n                days_in_period=365, window_size=self.year_window_size\\n            )\\n        )\\n\\n        return np.stack(features)\";\n",
       "                var nbb_formatted_code = \"class FeatureExtractor:\\n    def __init__(\\n        self,\\n        timeseries: TS_type,\\n        model_idx: int,\\n        day_window_size: int = 6,\\n        week_window_size: int = 3,\\n        month_window_size: int = 11,\\n        year_window_size: int = 3,\\n    ):\\n        self.timeseries = timeseries\\n        self.model_idx = model_idx\\n        self.day_window_size = day_window_size\\n        self.week_window_size = week_window_size\\n        self.month_window_size = month_window_size\\n        self.year_window_size = year_window_size\\n\\n        self.now_timestamp = self.timeseries.index[-1]\\n        self.prediction_timestamp = self.now_timestamp + pd.Timedelta(\\n            days=self.model_idx + 1\\n        )\\n        self.mean = self.timeseries.mean()\\n\\n    def get_period_features(self, index):\\n        index = [i for i in index if i <= self.now_timestamp]\\n        period_features = self.timeseries.reindex(index)\\n        mean = period_features.mean()\\n        if np.isnan(mean):\\n            mean = self.mean\\n        period_features = period_features.fillna(mean)\\n        return period_features.values\\n\\n    def get_period_features_for_period(self, days_in_period, window_size):\\n        index = [\\n            self.prediction_timestamp - pd.Timedelta(days=i * days_in_period)\\n            for i in range(1, window_size + 1)\\n        ]\\n        return self.get_period_features(index)\\n\\n    def extract_features(self):\\n        features = []\\n        features.extend(\\n            self.get_period_features_for_period(\\n                days_in_period=1, window_size=self.day_window_size\\n            )\\n        )\\n        features.extend(\\n            self.get_period_features_for_period(\\n                days_in_period=7, window_size=self.week_window_size\\n            )\\n        )\\n        features.extend(\\n            self.get_period_features_for_period(\\n                days_in_period=30, window_size=self.month_window_size\\n            )\\n        )\\n        features.extend(\\n            self.get_period_features_for_period(\\n                days_in_period=365, window_size=self.year_window_size\\n            )\\n        )\\n\\n        return np.stack(features)\";\n",
       "                var nbb_cells = Jupyter.notebook.get_cells();\n",
       "                for (var i = 0; i < nbb_cells.length; ++i) {\n",
       "                    if (nbb_cells[i].input_prompt_number == nbb_cell_id) {\n",
       "                        if (nbb_cells[i].get_text() == nbb_unformatted_code) {\n",
       "                             nbb_cells[i].set_text(nbb_formatted_code);\n",
       "                        }\n",
       "                        break;\n",
       "                    }\n",
       "                }\n",
       "            }, 500);\n",
       "            "
      ],
      "text/plain": [
       "<IPython.core.display.Javascript object>"
      ]
     },
     "metadata": {},
     "output_type": "display_data"
    }
   ],
   "source": [
    "class FeatureExtractor:\n",
    "    def __init__(\n",
    "        self,\n",
    "        timeseries: TS_type,\n",
    "        model_idx: int,\n",
    "        day_window_size: int = 6,\n",
    "        week_window_size: int = 3,\n",
    "        month_window_size: int = 11,\n",
    "        year_window_size: int = 3,\n",
    "    ):\n",
    "        self.timeseries = timeseries\n",
    "        self.model_idx = model_idx\n",
    "        self.day_window_size = day_window_size\n",
    "        self.week_window_size = week_window_size\n",
    "        self.month_window_size = month_window_size\n",
    "        self.year_window_size = year_window_size\n",
    "\n",
    "        self.now_timestamp = self.timeseries.index[-1]\n",
    "        self.prediction_timestamp = self.now_timestamp + pd.Timedelta(\n",
    "            days=self.model_idx + 1\n",
    "        )\n",
    "        self.mean = self.timeseries.mean()\n",
    "\n",
    "    def get_period_features(self, index):\n",
    "        index = [i for i in index if i <= self.now_timestamp]\n",
    "        period_features = self.timeseries.reindex(index)\n",
    "        mean = period_features.mean()\n",
    "        if np.isnan(mean):\n",
    "            mean = self.mean\n",
    "        period_features = period_features.fillna(mean)\n",
    "        return period_features.values\n",
    "\n",
    "    def get_period_features_for_period(self, days_in_period, window_size):\n",
    "        index = [\n",
    "            self.prediction_timestamp - pd.Timedelta(days=i * days_in_period)\n",
    "            for i in range(1, window_size + 1)\n",
    "        ]\n",
    "        return self.get_period_features(index)\n",
    "\n",
    "    def extract_features(self):\n",
    "        features = []\n",
    "        features.extend(\n",
    "            self.get_period_features_for_period(\n",
    "                days_in_period=1, window_size=self.day_window_size\n",
    "            )\n",
    "        )\n",
    "        features.extend(\n",
    "            self.get_period_features_for_period(\n",
    "                days_in_period=7, window_size=self.week_window_size\n",
    "            )\n",
    "        )\n",
    "        features.extend(\n",
    "            self.get_period_features_for_period(\n",
    "                days_in_period=30, window_size=self.month_window_size\n",
    "            )\n",
    "        )\n",
    "        features.extend(\n",
    "            self.get_period_features_for_period(\n",
    "                days_in_period=365, window_size=self.year_window_size\n",
    "            )\n",
    "        )\n",
    "\n",
    "        return np.stack(features)"
   ]
  },
  {
   "cell_type": "code",
   "execution_count": 977,
   "id": "28a57c26",
   "metadata": {},
   "outputs": [
    {
     "data": {
      "text/plain": [
       "25.889364056987308"
      ]
     },
     "execution_count": 977,
     "metadata": {},
     "output_type": "execute_result"
    },
    {
     "data": {
      "application/javascript": [
       "\n",
       "            setTimeout(function() {\n",
       "                var nbb_cell_id = 977;\n",
       "                var nbb_unformatted_code = \"score(2)\";\n",
       "                var nbb_formatted_code = \"score(2)\";\n",
       "                var nbb_cells = Jupyter.notebook.get_cells();\n",
       "                for (var i = 0; i < nbb_cells.length; ++i) {\n",
       "                    if (nbb_cells[i].input_prompt_number == nbb_cell_id) {\n",
       "                        if (nbb_cells[i].get_text() == nbb_unformatted_code) {\n",
       "                             nbb_cells[i].set_text(nbb_formatted_code);\n",
       "                        }\n",
       "                        break;\n",
       "                    }\n",
       "                }\n",
       "            }, 500);\n",
       "            "
      ],
      "text/plain": [
       "<IPython.core.display.Javascript object>"
      ]
     },
     "metadata": {},
     "output_type": "display_data"
    }
   ],
   "source": [
    "score(2)"
   ]
  },
  {
   "cell_type": "code",
   "execution_count": 871,
   "id": "f716fcdb",
   "metadata": {},
   "outputs": [
    {
     "name": "stdout",
     "output_type": "stream",
     "text": [
      "CPU times: user 1min 31s, sys: 611 ms, total: 1min 32s\n",
      "Wall time: 1min 31s\n"
     ]
    },
    {
     "data": {
      "text/plain": [
       "30.75619213181053"
      ]
     },
     "execution_count": 871,
     "metadata": {},
     "output_type": "execute_result"
    },
    {
     "data": {
      "application/javascript": [
       "\n",
       "            setTimeout(function() {\n",
       "                var nbb_cell_id = 871;\n",
       "                var nbb_unformatted_code = \"%%time\\nscore(30)\";\n",
       "                var nbb_formatted_code = \"%%time\\nscore(30)\";\n",
       "                var nbb_cells = Jupyter.notebook.get_cells();\n",
       "                for (var i = 0; i < nbb_cells.length; ++i) {\n",
       "                    if (nbb_cells[i].input_prompt_number == nbb_cell_id) {\n",
       "                        if (nbb_cells[i].get_text() == nbb_unformatted_code) {\n",
       "                             nbb_cells[i].set_text(nbb_formatted_code);\n",
       "                        }\n",
       "                        break;\n",
       "                    }\n",
       "                }\n",
       "            }, 500);\n",
       "            "
      ],
      "text/plain": [
       "<IPython.core.display.Javascript object>"
      ]
     },
     "metadata": {},
     "output_type": "display_data"
    }
   ],
   "source": [
    "%%time\n",
    "score(30)"
   ]
  },
  {
   "cell_type": "code",
   "execution_count": 842,
   "id": "2c288e59",
   "metadata": {},
   "outputs": [
    {
     "data": {
      "application/javascript": [
       "\n",
       "            setTimeout(function() {\n",
       "                var nbb_cell_id = 842;\n",
       "                var nbb_unformatted_code = \"models = train_models(train_ts, 3)\";\n",
       "                var nbb_formatted_code = \"models = train_models(train_ts, 3)\";\n",
       "                var nbb_cells = Jupyter.notebook.get_cells();\n",
       "                for (var i = 0; i < nbb_cells.length; ++i) {\n",
       "                    if (nbb_cells[i].input_prompt_number == nbb_cell_id) {\n",
       "                        if (nbb_cells[i].get_text() == nbb_unformatted_code) {\n",
       "                             nbb_cells[i].set_text(nbb_formatted_code);\n",
       "                        }\n",
       "                        break;\n",
       "                    }\n",
       "                }\n",
       "            }, 500);\n",
       "            "
      ],
      "text/plain": [
       "<IPython.core.display.Javascript object>"
      ]
     },
     "metadata": {},
     "output_type": "display_data"
    }
   ],
   "source": [
    "models = train_models(train_ts, 3)"
   ]
  },
  {
   "cell_type": "code",
   "execution_count": 844,
   "id": "8670e26d",
   "metadata": {},
   "outputs": [
    {
     "data": {
      "text/plain": [
       "(array([ 0.10210582,  0.06681965,  0.20155302,  0.16602653,  0.09959973,\n",
       "         0.09264147,  0.0694595 ,  0.0749608 ,  0.0208265 , -0.06689937,\n",
       "         0.07779436]),\n",
       " array([ 0.2210336 ,  0.17586809,  0.10639858,  0.09594458,  0.0695705 ,\n",
       "         0.07751861,  0.01539278, -0.02915148,  0.13700291]))"
      ]
     },
     "execution_count": 844,
     "metadata": {},
     "output_type": "execute_result"
    },
    {
     "data": {
      "application/javascript": [
       "\n",
       "            setTimeout(function() {\n",
       "                var nbb_cell_id = 844;\n",
       "                var nbb_unformatted_code = \"models[0].model.coef_, models[-1].model.coef_\";\n",
       "                var nbb_formatted_code = \"models[0].model.coef_, models[-1].model.coef_\";\n",
       "                var nbb_cells = Jupyter.notebook.get_cells();\n",
       "                for (var i = 0; i < nbb_cells.length; ++i) {\n",
       "                    if (nbb_cells[i].input_prompt_number == nbb_cell_id) {\n",
       "                        if (nbb_cells[i].get_text() == nbb_unformatted_code) {\n",
       "                             nbb_cells[i].set_text(nbb_formatted_code);\n",
       "                        }\n",
       "                        break;\n",
       "                    }\n",
       "                }\n",
       "            }, 500);\n",
       "            "
      ],
      "text/plain": [
       "<IPython.core.display.Javascript object>"
      ]
     },
     "metadata": {},
     "output_type": "display_data"
    }
   ],
   "source": [
    "models[0].model.coef_, models[-1].model.coef_"
   ]
  },
  {
   "cell_type": "code",
   "execution_count": null,
   "id": "6fdd6335",
   "metadata": {},
   "outputs": [],
   "source": [
    "model_count = 5\n",
    "models = []\n",
    "\n",
    "# YOUR CODE HERE\n",
    "datasets = build_datasets(\n",
    "    train_ts,\n",
    "    extract_features=extract_hybrid_strategy_features,\n",
    "    window_size=7,\n",
    "    model_count=model_count,\n",
    ")\n",
    "for dataset in datasets:\n",
    "    model = get_model()\n",
    "    model.train(*dataset)\n",
    "    models.append(model)"
   ]
  },
  {
   "cell_type": "code",
   "execution_count": 747,
   "id": "183c073f",
   "metadata": {},
   "outputs": [
    {
     "data": {
      "application/javascript": [
       "\n",
       "            setTimeout(function() {\n",
       "                var nbb_cell_id = 747;\n",
       "                var nbb_unformatted_code = \"train_ts, test_ts = read_timeseries()\\npredict_len = len(models)\\npredictions = []\\ntargets = []\\n\\nfor i in range(len(test_ts) - predict_len + 1):\\n    predictions.extend(list(predict(train_ts, models)))\\n    targets.extend(list(test_ts[i : i + predict_len]))\\n    with warnings.catch_warnings():\\n        train_ts = train_ts.append(test_ts[i : i + 1])\";\n",
       "                var nbb_formatted_code = \"train_ts, test_ts = read_timeseries()\\npredict_len = len(models)\\npredictions = []\\ntargets = []\\n\\nfor i in range(len(test_ts) - predict_len + 1):\\n    predictions.extend(list(predict(train_ts, models)))\\n    targets.extend(list(test_ts[i : i + predict_len]))\\n    with warnings.catch_warnings():\\n        train_ts = train_ts.append(test_ts[i : i + 1])\";\n",
       "                var nbb_cells = Jupyter.notebook.get_cells();\n",
       "                for (var i = 0; i < nbb_cells.length; ++i) {\n",
       "                    if (nbb_cells[i].input_prompt_number == nbb_cell_id) {\n",
       "                        if (nbb_cells[i].get_text() == nbb_unformatted_code) {\n",
       "                             nbb_cells[i].set_text(nbb_formatted_code);\n",
       "                        }\n",
       "                        break;\n",
       "                    }\n",
       "                }\n",
       "            }, 500);\n",
       "            "
      ],
      "text/plain": [
       "<IPython.core.display.Javascript object>"
      ]
     },
     "metadata": {},
     "output_type": "display_data"
    }
   ],
   "source": [
    "train_ts, test_ts = read_timeseries()\n",
    "predict_len = len(models)\n",
    "predictions = []\n",
    "targets = []\n",
    "\n",
    "for i in range(len(test_ts) - predict_len + 1):\n",
    "    predictions.extend(list(predict(train_ts, models)))\n",
    "    targets.extend(list(test_ts[i : i + predict_len]))\n",
    "    with warnings.catch_warnings():\n",
    "        train_ts = train_ts.append(test_ts[i : i + 1])"
   ]
  },
  {
   "cell_type": "code",
   "execution_count": 748,
   "id": "6c4bd12a",
   "metadata": {},
   "outputs": [
    {
     "data": {
      "text/plain": [
       "39.59069524748229"
      ]
     },
     "execution_count": 748,
     "metadata": {},
     "output_type": "execute_result"
    },
    {
     "data": {
      "application/javascript": [
       "\n",
       "            setTimeout(function() {\n",
       "                var nbb_cell_id = 748;\n",
       "                var nbb_unformatted_code = \"sklearn.metrics.mean_squared_error(targets, predictions)\";\n",
       "                var nbb_formatted_code = \"sklearn.metrics.mean_squared_error(targets, predictions)\";\n",
       "                var nbb_cells = Jupyter.notebook.get_cells();\n",
       "                for (var i = 0; i < nbb_cells.length; ++i) {\n",
       "                    if (nbb_cells[i].input_prompt_number == nbb_cell_id) {\n",
       "                        if (nbb_cells[i].get_text() == nbb_unformatted_code) {\n",
       "                             nbb_cells[i].set_text(nbb_formatted_code);\n",
       "                        }\n",
       "                        break;\n",
       "                    }\n",
       "                }\n",
       "            }, 500);\n",
       "            "
      ],
      "text/plain": [
       "<IPython.core.display.Javascript object>"
      ]
     },
     "metadata": {},
     "output_type": "display_data"
    }
   ],
   "source": [
    "sklearn.metrics.mean_squared_error(targets, predictions)"
   ]
  },
  {
   "cell_type": "code",
   "execution_count": 785,
   "id": "bb9c3e83",
   "metadata": {},
   "outputs": [
    {
     "data": {
      "text/plain": [
       "24.8052302285428"
      ]
     },
     "execution_count": 785,
     "metadata": {},
     "output_type": "execute_result"
    },
    {
     "data": {
      "application/javascript": [
       "\n",
       "            setTimeout(function() {\n",
       "                var nbb_cell_id = 785;\n",
       "                var nbb_unformatted_code = \"model_idx = 1\\nsklearn.metrics.mean_squared_error(\\n    models[model_idx].model.predict(datasets[model_idx][0]), datasets[model_idx][1]\\n)\";\n",
       "                var nbb_formatted_code = \"model_idx = 1\\nsklearn.metrics.mean_squared_error(\\n    models[model_idx].model.predict(datasets[model_idx][0]), datasets[model_idx][1]\\n)\";\n",
       "                var nbb_cells = Jupyter.notebook.get_cells();\n",
       "                for (var i = 0; i < nbb_cells.length; ++i) {\n",
       "                    if (nbb_cells[i].input_prompt_number == nbb_cell_id) {\n",
       "                        if (nbb_cells[i].get_text() == nbb_unformatted_code) {\n",
       "                             nbb_cells[i].set_text(nbb_formatted_code);\n",
       "                        }\n",
       "                        break;\n",
       "                    }\n",
       "                }\n",
       "            }, 500);\n",
       "            "
      ],
      "text/plain": [
       "<IPython.core.display.Javascript object>"
      ]
     },
     "metadata": {},
     "output_type": "display_data"
    }
   ],
   "source": [
    "model_idx = 1\n",
    "sklearn.metrics.mean_squared_error(\n",
    "    models[model_idx].model.predict(datasets[model_idx][0]), datasets[model_idx][1]\n",
    ")"
   ]
  },
  {
   "cell_type": "code",
   "execution_count": 735,
   "id": "964ba3d9",
   "metadata": {
    "collapsed": true
   },
   "outputs": [
    {
     "data": {
      "text/plain": [
       "[19,\n",
       " 15,\n",
       " 10,\n",
       " 16,\n",
       " 14,\n",
       " 15,\n",
       " 10,\n",
       " 16,\n",
       " 14,\n",
       " 24,\n",
       " 10,\n",
       " 16,\n",
       " 14,\n",
       " 24,\n",
       " 14,\n",
       " 16,\n",
       " 14,\n",
       " 24,\n",
       " 14,\n",
       " 20,\n",
       " 14,\n",
       " 24,\n",
       " 14,\n",
       " 20,\n",
       " 18,\n",
       " 24,\n",
       " 14,\n",
       " 20,\n",
       " 18,\n",
       " 11,\n",
       " 14,\n",
       " 20,\n",
       " 18,\n",
       " 11,\n",
       " 14,\n",
       " 20,\n",
       " 18,\n",
       " 11,\n",
       " 14,\n",
       " 17,\n",
       " 18,\n",
       " 11,\n",
       " 14,\n",
       " 17,\n",
       " 7,\n",
       " 11,\n",
       " 14,\n",
       " 17,\n",
       " 7,\n",
       " 16,\n",
       " 14,\n",
       " 17,\n",
       " 7,\n",
       " 16,\n",
       " 29,\n",
       " 17,\n",
       " 7,\n",
       " 16,\n",
       " 29,\n",
       " 15,\n",
       " 7,\n",
       " 16,\n",
       " 29,\n",
       " 15,\n",
       " 14,\n",
       " 16,\n",
       " 29,\n",
       " 15,\n",
       " 14,\n",
       " 10,\n",
       " 29,\n",
       " 15,\n",
       " 14,\n",
       " 10,\n",
       " 16,\n",
       " 15,\n",
       " 14,\n",
       " 10,\n",
       " 16,\n",
       " 22,\n",
       " 14,\n",
       " 10,\n",
       " 16,\n",
       " 22,\n",
       " 13,\n",
       " 10,\n",
       " 16,\n",
       " 22,\n",
       " 13,\n",
       " 21,\n",
       " 16,\n",
       " 22,\n",
       " 13,\n",
       " 21,\n",
       " 9,\n",
       " 22,\n",
       " 13,\n",
       " 21,\n",
       " 9,\n",
       " 18,\n",
       " 13,\n",
       " 21,\n",
       " 9,\n",
       " 18,\n",
       " 14,\n",
       " 21,\n",
       " 9,\n",
       " 18,\n",
       " 14,\n",
       " 13,\n",
       " 9,\n",
       " 18,\n",
       " 14,\n",
       " 13,\n",
       " 10,\n",
       " 18,\n",
       " 14,\n",
       " 13,\n",
       " 10,\n",
       " 16,\n",
       " 14,\n",
       " 13,\n",
       " 10,\n",
       " 16,\n",
       " 24,\n",
       " 13,\n",
       " 10,\n",
       " 16,\n",
       " 24,\n",
       " 9,\n",
       " 10,\n",
       " 16,\n",
       " 24,\n",
       " 9,\n",
       " 17,\n",
       " 16,\n",
       " 24,\n",
       " 9,\n",
       " 17,\n",
       " 15,\n",
       " 24,\n",
       " 9,\n",
       " 17,\n",
       " 15,\n",
       " 17,\n",
       " 9,\n",
       " 17,\n",
       " 15,\n",
       " 17,\n",
       " 24,\n",
       " 17,\n",
       " 15,\n",
       " 17,\n",
       " 24,\n",
       " 25,\n",
       " 15,\n",
       " 17,\n",
       " 24,\n",
       " 25,\n",
       " 25,\n",
       " 17,\n",
       " 24,\n",
       " 25,\n",
       " 25,\n",
       " 16,\n",
       " 24,\n",
       " 25,\n",
       " 25,\n",
       " 16,\n",
       " 12,\n",
       " 25,\n",
       " 25,\n",
       " 16,\n",
       " 12,\n",
       " 20,\n",
       " 25,\n",
       " 16,\n",
       " 12,\n",
       " 20,\n",
       " 16,\n",
       " 16,\n",
       " 12,\n",
       " 20,\n",
       " 16,\n",
       " 16,\n",
       " 12,\n",
       " 20,\n",
       " 16,\n",
       " 16,\n",
       " 18,\n",
       " 20,\n",
       " 16,\n",
       " 16,\n",
       " 18,\n",
       " 19,\n",
       " 16,\n",
       " 16,\n",
       " 18,\n",
       " 19,\n",
       " 11,\n",
       " 16,\n",
       " 18,\n",
       " 19,\n",
       " 11,\n",
       " 15,\n",
       " 18,\n",
       " 19,\n",
       " 11,\n",
       " 15,\n",
       " 22,\n",
       " 19,\n",
       " 11,\n",
       " 15,\n",
       " 22,\n",
       " 11,\n",
       " 11,\n",
       " 15,\n",
       " 22,\n",
       " 11,\n",
       " 17,\n",
       " 15,\n",
       " 22,\n",
       " 11,\n",
       " 17,\n",
       " 22,\n",
       " 22,\n",
       " 11,\n",
       " 17,\n",
       " 22,\n",
       " 18,\n",
       " 11,\n",
       " 17,\n",
       " 22,\n",
       " 18,\n",
       " 5,\n",
       " 17,\n",
       " 22,\n",
       " 18,\n",
       " 5,\n",
       " 14,\n",
       " 22,\n",
       " 18,\n",
       " 5,\n",
       " 14,\n",
       " 12,\n",
       " 18,\n",
       " 5,\n",
       " 14,\n",
       " 12,\n",
       " 26,\n",
       " 5,\n",
       " 14,\n",
       " 12,\n",
       " 26,\n",
       " 15,\n",
       " 14,\n",
       " 12,\n",
       " 26,\n",
       " 15,\n",
       " 16,\n",
       " 12,\n",
       " 26,\n",
       " 15,\n",
       " 16,\n",
       " 28,\n",
       " 26,\n",
       " 15,\n",
       " 16,\n",
       " 28,\n",
       " 12,\n",
       " 15,\n",
       " 16,\n",
       " 28,\n",
       " 12,\n",
       " 20,\n",
       " 16,\n",
       " 28,\n",
       " 12,\n",
       " 20,\n",
       " 16,\n",
       " 28,\n",
       " 12,\n",
       " 20,\n",
       " 16,\n",
       " 23,\n",
       " 12,\n",
       " 20,\n",
       " 16,\n",
       " 23,\n",
       " 22,\n",
       " 20,\n",
       " 16,\n",
       " 23,\n",
       " 22,\n",
       " 13,\n",
       " 16,\n",
       " 23,\n",
       " 22,\n",
       " 13,\n",
       " 25,\n",
       " 23,\n",
       " 22,\n",
       " 13,\n",
       " 25,\n",
       " 11,\n",
       " 22,\n",
       " 13,\n",
       " 25,\n",
       " 11,\n",
       " 14,\n",
       " 13,\n",
       " 25,\n",
       " 11,\n",
       " 14,\n",
       " 17,\n",
       " 25,\n",
       " 11,\n",
       " 14,\n",
       " 17,\n",
       " 16,\n",
       " 11,\n",
       " 14,\n",
       " 17,\n",
       " 16,\n",
       " 18,\n",
       " 14,\n",
       " 17,\n",
       " 16,\n",
       " 18,\n",
       " 15,\n",
       " 17,\n",
       " 16,\n",
       " 18,\n",
       " 15,\n",
       " 21,\n",
       " 16,\n",
       " 18,\n",
       " 15,\n",
       " 21,\n",
       " 14,\n",
       " 18,\n",
       " 15,\n",
       " 21,\n",
       " 14,\n",
       " 24,\n",
       " 15,\n",
       " 21,\n",
       " 14,\n",
       " 24,\n",
       " 22,\n",
       " 21,\n",
       " 14,\n",
       " 24,\n",
       " 22,\n",
       " 23,\n",
       " 14,\n",
       " 24,\n",
       " 22,\n",
       " 23,\n",
       " 17,\n",
       " 24,\n",
       " 22,\n",
       " 23,\n",
       " 17,\n",
       " 20,\n",
       " 22,\n",
       " 23,\n",
       " 17,\n",
       " 20,\n",
       " 25,\n",
       " 23,\n",
       " 17,\n",
       " 20,\n",
       " 25,\n",
       " 14,\n",
       " 17,\n",
       " 20,\n",
       " 25,\n",
       " 14,\n",
       " 13,\n",
       " 20,\n",
       " 25,\n",
       " 14,\n",
       " 13,\n",
       " 23,\n",
       " 25,\n",
       " 14,\n",
       " 13,\n",
       " 23,\n",
       " 18,\n",
       " 14,\n",
       " 13,\n",
       " 23,\n",
       " 18,\n",
       " 19,\n",
       " 13,\n",
       " 23,\n",
       " 18,\n",
       " 19,\n",
       " 20,\n",
       " 23,\n",
       " 18,\n",
       " 19,\n",
       " 20,\n",
       " 17,\n",
       " 18,\n",
       " 19,\n",
       " 20,\n",
       " 17,\n",
       " 21,\n",
       " 19,\n",
       " 20,\n",
       " 17,\n",
       " 21,\n",
       " 13,\n",
       " 20,\n",
       " 17,\n",
       " 21,\n",
       " 13,\n",
       " 12,\n",
       " 17,\n",
       " 21,\n",
       " 13,\n",
       " 12,\n",
       " 22,\n",
       " 21,\n",
       " 13,\n",
       " 12,\n",
       " 22,\n",
       " 13,\n",
       " 13,\n",
       " 12,\n",
       " 22,\n",
       " 13,\n",
       " 26,\n",
       " 12,\n",
       " 22,\n",
       " 13,\n",
       " 26,\n",
       " 21,\n",
       " 22,\n",
       " 13,\n",
       " 26,\n",
       " 21,\n",
       " 17,\n",
       " 13,\n",
       " 26,\n",
       " 21,\n",
       " 17,\n",
       " 22,\n",
       " 26,\n",
       " 21,\n",
       " 17,\n",
       " 22,\n",
       " 21,\n",
       " 21,\n",
       " 17,\n",
       " 22,\n",
       " 21,\n",
       " 25,\n",
       " 17,\n",
       " 22,\n",
       " 21,\n",
       " 25,\n",
       " 25,\n",
       " 22,\n",
       " 21,\n",
       " 25,\n",
       " 25,\n",
       " 23,\n",
       " 21,\n",
       " 25,\n",
       " 25,\n",
       " 23,\n",
       " 20,\n",
       " 25,\n",
       " 25,\n",
       " 23,\n",
       " 20,\n",
       " 19,\n",
       " 25,\n",
       " 23,\n",
       " 20,\n",
       " 19,\n",
       " 21,\n",
       " 23,\n",
       " 20,\n",
       " 19,\n",
       " 21,\n",
       " 17,\n",
       " 20,\n",
       " 19,\n",
       " 21,\n",
       " 17,\n",
       " 25,\n",
       " 19,\n",
       " 21,\n",
       " 17,\n",
       " 25,\n",
       " 15,\n",
       " 21,\n",
       " 17,\n",
       " 25,\n",
       " 15,\n",
       " 20,\n",
       " 17,\n",
       " 25,\n",
       " 15,\n",
       " 20,\n",
       " 32,\n",
       " 25,\n",
       " 15,\n",
       " 20,\n",
       " 32,\n",
       " 13,\n",
       " 15,\n",
       " 20,\n",
       " 32,\n",
       " 13,\n",
       " 21,\n",
       " 20,\n",
       " 32,\n",
       " 13,\n",
       " 21,\n",
       " 19,\n",
       " 32,\n",
       " 13,\n",
       " 21,\n",
       " 19,\n",
       " 26,\n",
       " 13,\n",
       " 21,\n",
       " 19,\n",
       " 26,\n",
       " 27,\n",
       " 21,\n",
       " 19,\n",
       " 26,\n",
       " 27,\n",
       " 19,\n",
       " 19,\n",
       " 26,\n",
       " 27,\n",
       " 19,\n",
       " 22,\n",
       " 26,\n",
       " 27,\n",
       " 19,\n",
       " 22,\n",
       " 17,\n",
       " 27,\n",
       " 19,\n",
       " 22,\n",
       " 17,\n",
       " 26,\n",
       " 19,\n",
       " 22,\n",
       " 17,\n",
       " 26,\n",
       " 22,\n",
       " 22,\n",
       " 17,\n",
       " 26,\n",
       " 22,\n",
       " 26,\n",
       " 17,\n",
       " 26,\n",
       " 22,\n",
       " 26,\n",
       " 25,\n",
       " 26,\n",
       " 22,\n",
       " 26,\n",
       " 25,\n",
       " 32,\n",
       " 22,\n",
       " 26,\n",
       " 25,\n",
       " 32,\n",
       " 33,\n",
       " 26,\n",
       " 25,\n",
       " 32,\n",
       " 33,\n",
       " 15,\n",
       " 25,\n",
       " 32,\n",
       " 33,\n",
       " 15,\n",
       " 21,\n",
       " 32,\n",
       " 33,\n",
       " 15,\n",
       " 21,\n",
       " 29,\n",
       " 33,\n",
       " 15,\n",
       " 21,\n",
       " 29,\n",
       " 19,\n",
       " 15,\n",
       " 21,\n",
       " 29,\n",
       " 19,\n",
       " 28,\n",
       " 21,\n",
       " 29,\n",
       " 19,\n",
       " 28,\n",
       " 34,\n",
       " 29,\n",
       " 19,\n",
       " 28,\n",
       " 34,\n",
       " 31,\n",
       " 19,\n",
       " 28,\n",
       " 34,\n",
       " 31,\n",
       " 24,\n",
       " 28,\n",
       " 34,\n",
       " 31,\n",
       " 24,\n",
       " 32,\n",
       " 34,\n",
       " 31,\n",
       " 24,\n",
       " 32,\n",
       " 17,\n",
       " 31,\n",
       " 24,\n",
       " 32,\n",
       " 17,\n",
       " 18,\n",
       " 24,\n",
       " 32,\n",
       " 17,\n",
       " 18,\n",
       " 26,\n",
       " 32,\n",
       " 17,\n",
       " 18,\n",
       " 26,\n",
       " 25,\n",
       " 17,\n",
       " 18,\n",
       " 26,\n",
       " 25,\n",
       " 32,\n",
       " 18,\n",
       " 26,\n",
       " 25,\n",
       " 32,\n",
       " 17,\n",
       " 26,\n",
       " 25,\n",
       " 32,\n",
       " 17,\n",
       " 24,\n",
       " 25,\n",
       " 32,\n",
       " 17,\n",
       " 24,\n",
       " 16,\n",
       " 32,\n",
       " 17,\n",
       " 24,\n",
       " 16,\n",
       " 32,\n",
       " 17,\n",
       " 24,\n",
       " 16,\n",
       " 32,\n",
       " 35,\n",
       " 24,\n",
       " 16,\n",
       " 32,\n",
       " 35,\n",
       " 34,\n",
       " 16,\n",
       " 32,\n",
       " 35,\n",
       " 34,\n",
       " 25,\n",
       " 32,\n",
       " 35,\n",
       " 34,\n",
       " 25,\n",
       " 20,\n",
       " 35,\n",
       " 34,\n",
       " 25,\n",
       " 20,\n",
       " 15,\n",
       " 34,\n",
       " 25,\n",
       " 20,\n",
       " 15,\n",
       " 30,\n",
       " 25,\n",
       " 20,\n",
       " 15,\n",
       " 30,\n",
       " 22,\n",
       " 20,\n",
       " 15,\n",
       " 30,\n",
       " 22,\n",
       " 24,\n",
       " 15,\n",
       " 30,\n",
       " 22,\n",
       " 24,\n",
       " 35,\n",
       " 30,\n",
       " 22,\n",
       " 24,\n",
       " 35,\n",
       " 33,\n",
       " 22,\n",
       " 24,\n",
       " 35,\n",
       " 33,\n",
       " 23,\n",
       " 24,\n",
       " 35,\n",
       " 33,\n",
       " 23,\n",
       " 17,\n",
       " 35,\n",
       " 33,\n",
       " 23,\n",
       " 17,\n",
       " 20,\n",
       " 33,\n",
       " 23,\n",
       " 17,\n",
       " 20,\n",
       " 29,\n",
       " 23,\n",
       " 17,\n",
       " 20,\n",
       " 29,\n",
       " 25,\n",
       " 17,\n",
       " 20,\n",
       " 29,\n",
       " 25,\n",
       " 36,\n",
       " 20,\n",
       " 29,\n",
       " 25,\n",
       " 36,\n",
       " 27,\n",
       " 29,\n",
       " 25,\n",
       " 36,\n",
       " 27,\n",
       " 22,\n",
       " 25,\n",
       " 36,\n",
       " 27,\n",
       " 22,\n",
       " 22,\n",
       " 36,\n",
       " 27,\n",
       " 22,\n",
       " 22,\n",
       " 29,\n",
       " 27,\n",
       " 22,\n",
       " 22,\n",
       " 29,\n",
       " 26,\n",
       " 22,\n",
       " 22,\n",
       " 29,\n",
       " 26,\n",
       " 16,\n",
       " 22,\n",
       " 29,\n",
       " 26,\n",
       " 16,\n",
       " 41,\n",
       " 29,\n",
       " 26,\n",
       " 16,\n",
       " 41,\n",
       " 28,\n",
       " 26,\n",
       " 16,\n",
       " 41,\n",
       " 28,\n",
       " 23,\n",
       " 16,\n",
       " 41,\n",
       " 28,\n",
       " 23,\n",
       " 26,\n",
       " 41,\n",
       " 28,\n",
       " 23,\n",
       " 26,\n",
       " 32,\n",
       " 28,\n",
       " 23,\n",
       " 26,\n",
       " 32,\n",
       " 30,\n",
       " 23,\n",
       " 26,\n",
       " 32,\n",
       " 30,\n",
       " 26,\n",
       " 26,\n",
       " 32,\n",
       " 30,\n",
       " 26,\n",
       " 31,\n",
       " 32,\n",
       " 30,\n",
       " 26,\n",
       " 31,\n",
       " 38,\n",
       " 30,\n",
       " 26,\n",
       " 31,\n",
       " 38,\n",
       " 30,\n",
       " 26,\n",
       " 31,\n",
       " 38,\n",
       " 30,\n",
       " 22,\n",
       " 31,\n",
       " 38,\n",
       " 30,\n",
       " 22,\n",
       " 26,\n",
       " 38,\n",
       " 30,\n",
       " 22,\n",
       " 26,\n",
       " 24,\n",
       " 30,\n",
       " 22,\n",
       " 26,\n",
       " 24,\n",
       " 26,\n",
       " 22,\n",
       " 26,\n",
       " 24,\n",
       " 26,\n",
       " 30,\n",
       " 26,\n",
       " 24,\n",
       " 26,\n",
       " 30,\n",
       " 26,\n",
       " 24,\n",
       " 26,\n",
       " 30,\n",
       " 26,\n",
       " 21,\n",
       " 26,\n",
       " 30,\n",
       " 26,\n",
       " 21,\n",
       " 32,\n",
       " 30,\n",
       " 26,\n",
       " 21,\n",
       " 32,\n",
       " 50,\n",
       " 26,\n",
       " 21,\n",
       " 32,\n",
       " 50,\n",
       " 28,\n",
       " 21,\n",
       " 32,\n",
       " 50,\n",
       " 28,\n",
       " 28,\n",
       " 32,\n",
       " 50,\n",
       " 28,\n",
       " 28,\n",
       " 31,\n",
       " 50,\n",
       " 28,\n",
       " 28,\n",
       " 31,\n",
       " 38,\n",
       " 28,\n",
       " 28,\n",
       " 31,\n",
       " 38,\n",
       " 18,\n",
       " 28,\n",
       " 31,\n",
       " 38,\n",
       " 18,\n",
       " 23,\n",
       " 31,\n",
       " 38,\n",
       " 18,\n",
       " 23,\n",
       " 23,\n",
       " 38,\n",
       " 18,\n",
       " 23,\n",
       " 23,\n",
       " 31,\n",
       " 18,\n",
       " 23,\n",
       " 23,\n",
       " 31,\n",
       " 32,\n",
       " 23,\n",
       " 23,\n",
       " 31,\n",
       " 32,\n",
       " 27,\n",
       " 23,\n",
       " 31,\n",
       " 32,\n",
       " 27,\n",
       " 32,\n",
       " 31,\n",
       " 32,\n",
       " 27,\n",
       " 32,\n",
       " 16,\n",
       " 32,\n",
       " 27,\n",
       " 32,\n",
       " 16,\n",
       " 23,\n",
       " 27,\n",
       " 32,\n",
       " 16,\n",
       " 23,\n",
       " 29,\n",
       " 32,\n",
       " 16,\n",
       " 23,\n",
       " 29,\n",
       " 22,\n",
       " 16,\n",
       " 23,\n",
       " 29,\n",
       " 22,\n",
       " 38,\n",
       " 23,\n",
       " 29,\n",
       " 22,\n",
       " 38,\n",
       " 40,\n",
       " 29,\n",
       " 22,\n",
       " 38,\n",
       " 40,\n",
       " 36,\n",
       " 22,\n",
       " 38,\n",
       " 40,\n",
       " 36,\n",
       " 20,\n",
       " 38,\n",
       " 40,\n",
       " 36,\n",
       " 20,\n",
       " 26,\n",
       " 40,\n",
       " 36,\n",
       " 20,\n",
       " 26,\n",
       " 24,\n",
       " 36,\n",
       " 20,\n",
       " 26,\n",
       " 24,\n",
       " 37,\n",
       " 20,\n",
       " 26,\n",
       " 24,\n",
       " 37,\n",
       " 27,\n",
       " 26,\n",
       " 24,\n",
       " 37,\n",
       " 27,\n",
       " 35,\n",
       " 24,\n",
       " 37,\n",
       " 27,\n",
       " 35,\n",
       " 32,\n",
       " ...]"
      ]
     },
     "execution_count": 735,
     "metadata": {},
     "output_type": "execute_result"
    },
    {
     "data": {
      "application/javascript": [
       "\n",
       "            setTimeout(function() {\n",
       "                var nbb_cell_id = 735;\n",
       "                var nbb_unformatted_code = \"targets\";\n",
       "                var nbb_formatted_code = \"targets\";\n",
       "                var nbb_cells = Jupyter.notebook.get_cells();\n",
       "                for (var i = 0; i < nbb_cells.length; ++i) {\n",
       "                    if (nbb_cells[i].input_prompt_number == nbb_cell_id) {\n",
       "                        if (nbb_cells[i].get_text() == nbb_unformatted_code) {\n",
       "                             nbb_cells[i].set_text(nbb_formatted_code);\n",
       "                        }\n",
       "                        break;\n",
       "                    }\n",
       "                }\n",
       "            }, 500);\n",
       "            "
      ],
      "text/plain": [
       "<IPython.core.display.Javascript object>"
      ]
     },
     "metadata": {},
     "output_type": "display_data"
    }
   ],
   "source": [
    "targets"
   ]
  },
  {
   "cell_type": "code",
   "execution_count": null,
   "id": "3f79bc10",
   "metadata": {},
   "outputs": [],
   "source": [
    "models[0]"
   ]
  },
  {
   "cell_type": "code",
   "execution_count": 744,
   "id": "dda3e140",
   "metadata": {},
   "outputs": [
    {
     "data": {
      "text/plain": [
       "<matplotlib.legend.Legend at 0x7fc7c034d630>"
      ]
     },
     "execution_count": 744,
     "metadata": {},
     "output_type": "execute_result"
    },
    {
     "data": {
      "image/png": "[encoded data removed]",
      "text/plain": [
       "<Figure size 640x480 with 1 Axes>"
      ]
     },
     "metadata": {},
     "output_type": "display_data"
    },
    {
     "data": {
      "application/javascript": [
       "\n",
       "            setTimeout(function() {\n",
       "                var nbb_cell_id = 744;\n",
       "                var nbb_unformatted_code = \"plt.plot(targets[:100], label=\\\"target\\\")\\nplt.plot(np.stack(predictions).reshape(-1)[:100])\\nplt.legend()\";\n",
       "                var nbb_formatted_code = \"plt.plot(targets[:100], label=\\\"target\\\")\\nplt.plot(np.stack(predictions).reshape(-1)[:100])\\nplt.legend()\";\n",
       "                var nbb_cells = Jupyter.notebook.get_cells();\n",
       "                for (var i = 0; i < nbb_cells.length; ++i) {\n",
       "                    if (nbb_cells[i].input_prompt_number == nbb_cell_id) {\n",
       "                        if (nbb_cells[i].get_text() == nbb_unformatted_code) {\n",
       "                             nbb_cells[i].set_text(nbb_formatted_code);\n",
       "                        }\n",
       "                        break;\n",
       "                    }\n",
       "                }\n",
       "            }, 500);\n",
       "            "
      ],
      "text/plain": [
       "<IPython.core.display.Javascript object>"
      ]
     },
     "metadata": {},
     "output_type": "display_data"
    }
   ],
   "source": [
    "plt.plot(targets[:100], label=\"target\")\n",
    "plt.plot(np.stack(predictions).reshape(-1)[:100])\n",
    "plt.legend()"
   ]
  },
  {
   "cell_type": "code",
   "execution_count": 703,
   "id": "f335fbb0",
   "metadata": {},
   "outputs": [
    {
     "data": {
      "application/javascript": [
       "\n",
       "            setTimeout(function() {\n",
       "                var nbb_cell_id = 703;\n",
       "                var nbb_unformatted_code = \"class ConstForecastingModel:\\n    def train(self, x: X_type, y: Y_type):\\n        pass\\n\\n    def __call__(self, x_row: X_row_type):\\n        return x_row[-1]\";\n",
       "                var nbb_formatted_code = \"class ConstForecastingModel:\\n    def train(self, x: X_type, y: Y_type):\\n        pass\\n\\n    def __call__(self, x_row: X_row_type):\\n        return x_row[-1]\";\n",
       "                var nbb_cells = Jupyter.notebook.get_cells();\n",
       "                for (var i = 0; i < nbb_cells.length; ++i) {\n",
       "                    if (nbb_cells[i].input_prompt_number == nbb_cell_id) {\n",
       "                        if (nbb_cells[i].get_text() == nbb_unformatted_code) {\n",
       "                             nbb_cells[i].set_text(nbb_formatted_code);\n",
       "                        }\n",
       "                        break;\n",
       "                    }\n",
       "                }\n",
       "            }, 500);\n",
       "            "
      ],
      "text/plain": [
       "<IPython.core.display.Javascript object>"
      ]
     },
     "metadata": {},
     "output_type": "display_data"
    }
   ],
   "source": [
    "class ConstForecastingModel:\n",
    "    def train(self, x: X_type, y: Y_type):\n",
    "        pass\n",
    "\n",
    "    def __call__(self, x_row: X_row_type):\n",
    "        return x_row[-1]"
   ]
  },
  {
   "cell_type": "code",
   "execution_count": 772,
   "id": "c820fecd",
   "metadata": {},
   "outputs": [
    {
     "ename": "NotImplementedError",
     "evalue": "",
     "output_type": "error",
     "traceback": [
      "\u001b[0;31m---------------------------------------------------------------------------\u001b[0m",
      "\u001b[0;31mNotImplementedError\u001b[0m                       Traceback (most recent call last)",
      "Cell \u001b[0;32mIn[772], line 2\u001b[0m\n\u001b[1;32m      1\u001b[0m \u001b[38;5;66;03m# get_model = lambda: ConstForecastingModel()\u001b[39;00m\n\u001b[0;32m----> 2\u001b[0m \u001b[43mscore\u001b[49m\u001b[43m(\u001b[49m\u001b[43m)\u001b[49m\n",
      "Cell \u001b[0;32mIn[771], line 3\u001b[0m, in \u001b[0;36mscore\u001b[0;34m(models_count)\u001b[0m\n\u001b[1;32m      1\u001b[0m \u001b[38;5;28;01mdef\u001b[39;00m \u001b[38;5;21mscore\u001b[39m(models_count\u001b[38;5;241m=\u001b[39m\u001b[38;5;241m30\u001b[39m):\n\u001b[1;32m      2\u001b[0m     train_ts, test_ts \u001b[38;5;241m=\u001b[39m read_timeseries()\n\u001b[0;32m----> 3\u001b[0m     models \u001b[38;5;241m=\u001b[39m \u001b[43mtrain_models\u001b[49m\u001b[43m(\u001b[49m\u001b[43mtrain_ts\u001b[49m\u001b[43m,\u001b[49m\u001b[43m \u001b[49m\u001b[43mmodels_count\u001b[49m\u001b[43m)\u001b[49m\n\u001b[1;32m      4\u001b[0m     \u001b[38;5;28;01mreturn\u001b[39;00m score_models(train_ts, test_ts, models)\n",
      "Cell \u001b[0;32mIn[770], line 201\u001b[0m, in \u001b[0;36mtrain_models\u001b[0;34m(train_timeseries, model_count)\u001b[0m\n\u001b[1;32m    194\u001b[0m datasets \u001b[38;5;241m=\u001b[39m build_datasets(\n\u001b[1;32m    195\u001b[0m     train_timeseries,\n\u001b[1;32m    196\u001b[0m     extract_features\u001b[38;5;241m=\u001b[39mextract_hybrid_strategy_features,\n\u001b[1;32m    197\u001b[0m     window_size\u001b[38;5;241m=\u001b[39m\u001b[38;5;241m7\u001b[39m,\n\u001b[1;32m    198\u001b[0m     model_count\u001b[38;5;241m=\u001b[39mmodel_count,\n\u001b[1;32m    199\u001b[0m )\n\u001b[1;32m    200\u001b[0m \u001b[38;5;28;01mfor\u001b[39;00m dataset \u001b[38;5;129;01min\u001b[39;00m datasets:\n\u001b[0;32m--> 201\u001b[0m     model \u001b[38;5;241m=\u001b[39m \u001b[43mget_model\u001b[49m\u001b[43m(\u001b[49m\u001b[43m)\u001b[49m\n\u001b[1;32m    202\u001b[0m     model\u001b[38;5;241m.\u001b[39mtrain(\u001b[38;5;241m*\u001b[39mdataset)\n\u001b[1;32m    203\u001b[0m     models\u001b[38;5;241m.\u001b[39mappend(model)\n",
      "Cell \u001b[0;32mIn[770], line 176\u001b[0m, in \u001b[0;36mget_model\u001b[0;34m()\u001b[0m\n\u001b[1;32m    175\u001b[0m \u001b[38;5;28;01mdef\u001b[39;00m \u001b[38;5;21mget_model\u001b[39m() \u001b[38;5;241m-\u001b[39m\u001b[38;5;241m>\u001b[39m ForecastingModel:\n\u001b[0;32m--> 176\u001b[0m     \u001b[38;5;28;01mraise\u001b[39;00m \u001b[38;5;167;01mNotImplementedError\u001b[39;00m\n",
      "\u001b[0;31mNotImplementedError\u001b[0m: "
     ]
    },
    {
     "data": {
      "application/javascript": [
       "\n",
       "            setTimeout(function() {\n",
       "                var nbb_cell_id = 772;\n",
       "                var nbb_unformatted_code = \"# get_model = lambda: ConstForecastingModel()\\nscore()\";\n",
       "                var nbb_formatted_code = \"# get_model = lambda: ConstForecastingModel()\\nscore()\";\n",
       "                var nbb_cells = Jupyter.notebook.get_cells();\n",
       "                for (var i = 0; i < nbb_cells.length; ++i) {\n",
       "                    if (nbb_cells[i].input_prompt_number == nbb_cell_id) {\n",
       "                        if (nbb_cells[i].get_text() == nbb_unformatted_code) {\n",
       "                             nbb_cells[i].set_text(nbb_formatted_code);\n",
       "                        }\n",
       "                        break;\n",
       "                    }\n",
       "                }\n",
       "            }, 500);\n",
       "            "
      ],
      "text/plain": [
       "<IPython.core.display.Javascript object>"
      ]
     },
     "metadata": {},
     "output_type": "display_data"
    }
   ],
   "source": [
    "# get_model = lambda: ConstForecastingModel()\n",
    "score()"
   ]
  },
  {
   "cell_type": "code",
   "execution_count": 717,
   "id": "a6e60cfe",
   "metadata": {},
   "outputs": [
    {
     "data": {
      "application/javascript": [
       "\n",
       "            setTimeout(function() {\n",
       "                var nbb_cell_id = 717;\n",
       "                var nbb_unformatted_code = \"class LinearRegressionForecastingModel:\\n    def __init__(self):\\n        self.model = sklearn.linear_model.LinearRegression()\\n\\n    def train(self, x: X_type, y: Y_type):\\n        self.model.fit(x, y)\\n\\n    def __call__(self, x_row: X_row_type):\\n        return self.model.predict(x_row.reshape(1, -1))\";\n",
       "                var nbb_formatted_code = \"class LinearRegressionForecastingModel:\\n    def __init__(self):\\n        self.model = sklearn.linear_model.LinearRegression()\\n\\n    def train(self, x: X_type, y: Y_type):\\n        self.model.fit(x, y)\\n\\n    def __call__(self, x_row: X_row_type):\\n        return self.model.predict(x_row.reshape(1, -1))\";\n",
       "                var nbb_cells = Jupyter.notebook.get_cells();\n",
       "                for (var i = 0; i < nbb_cells.length; ++i) {\n",
       "                    if (nbb_cells[i].input_prompt_number == nbb_cell_id) {\n",
       "                        if (nbb_cells[i].get_text() == nbb_unformatted_code) {\n",
       "                             nbb_cells[i].set_text(nbb_formatted_code);\n",
       "                        }\n",
       "                        break;\n",
       "                    }\n",
       "                }\n",
       "            }, 500);\n",
       "            "
      ],
      "text/plain": [
       "<IPython.core.display.Javascript object>"
      ]
     },
     "metadata": {},
     "output_type": "display_data"
    }
   ],
   "source": [
    "class LinearRegressionForecastingModel:\n",
    "    def __init__(self):\n",
    "        self.model = sklearn.linear_model.LinearRegression()\n",
    "\n",
    "    def train(self, x: X_type, y: Y_type):\n",
    "        self.model.fit(x, y)\n",
    "\n",
    "    def __call__(self, x_row: X_row_type):\n",
    "        return self.model.predict(x_row.reshape(1, -1))"
   ]
  },
  {
   "cell_type": "code",
   "execution_count": 718,
   "id": "16d57ef1",
   "metadata": {},
   "outputs": [
    {
     "data": {
      "text/plain": [
       "39.41401515173336"
      ]
     },
     "execution_count": 718,
     "metadata": {},
     "output_type": "execute_result"
    },
    {
     "data": {
      "application/javascript": [
       "\n",
       "            setTimeout(function() {\n",
       "                var nbb_cell_id = 718;\n",
       "                var nbb_unformatted_code = \"get_model = lambda: LinearRegressionForecastingModel()\\ntrain_ts, test_ts = read_timeseries()\\nmodels = train_models(train_ts, 5)\\nscore_models(train_ts, test_ts, models)\";\n",
       "                var nbb_formatted_code = \"get_model = lambda: LinearRegressionForecastingModel()\\ntrain_ts, test_ts = read_timeseries()\\nmodels = train_models(train_ts, 5)\\nscore_models(train_ts, test_ts, models)\";\n",
       "                var nbb_cells = Jupyter.notebook.get_cells();\n",
       "                for (var i = 0; i < nbb_cells.length; ++i) {\n",
       "                    if (nbb_cells[i].input_prompt_number == nbb_cell_id) {\n",
       "                        if (nbb_cells[i].get_text() == nbb_unformatted_code) {\n",
       "                             nbb_cells[i].set_text(nbb_formatted_code);\n",
       "                        }\n",
       "                        break;\n",
       "                    }\n",
       "                }\n",
       "            }, 500);\n",
       "            "
      ],
      "text/plain": [
       "<IPython.core.display.Javascript object>"
      ]
     },
     "metadata": {},
     "output_type": "display_data"
    }
   ],
   "source": [
    "get_model = lambda: LinearRegressionForecastingModel()\n",
    "train_ts, test_ts = read_timeseries()\n",
    "models = train_models(train_ts, 5)\n",
    "score_models(train_ts, test_ts, models)"
   ]
  },
  {
   "cell_type": "code",
   "execution_count": 763,
   "id": "aa6048f3",
   "metadata": {},
   "outputs": [
    {
     "data": {
      "text/plain": [
       "44.37568568822863"
      ]
     },
     "execution_count": 763,
     "metadata": {},
     "output_type": "execute_result"
    },
    {
     "data": {
      "application/javascript": [
       "\n",
       "            setTimeout(function() {\n",
       "                var nbb_cell_id = 763;\n",
       "                var nbb_unformatted_code = \"get_model = lambda: LinearRegressionForecastingModel()\\nscore()\";\n",
       "                var nbb_formatted_code = \"get_model = lambda: LinearRegressionForecastingModel()\\nscore()\";\n",
       "                var nbb_cells = Jupyter.notebook.get_cells();\n",
       "                for (var i = 0; i < nbb_cells.length; ++i) {\n",
       "                    if (nbb_cells[i].input_prompt_number == nbb_cell_id) {\n",
       "                        if (nbb_cells[i].get_text() == nbb_unformatted_code) {\n",
       "                             nbb_cells[i].set_text(nbb_formatted_code);\n",
       "                        }\n",
       "                        break;\n",
       "                    }\n",
       "                }\n",
       "            }, 500);\n",
       "            "
      ],
      "text/plain": [
       "<IPython.core.display.Javascript object>"
      ]
     },
     "metadata": {},
     "output_type": "display_data"
    }
   ],
   "source": [
    "get_model = lambda: LinearRegressionForecastingModel()\n",
    "score()"
   ]
  },
  {
   "cell_type": "code",
   "execution_count": 719,
   "id": "6b1497c7",
   "metadata": {},
   "outputs": [
    {
     "data": {
      "text/plain": [
       "array([0.08481878, 0.00172839, 0.01765104, 0.03093238, 0.05093989,\n",
       "       0.06327952, 0.18296049, 0.13262344, 0.08862532, 0.09401433,\n",
       "       0.05464124, 0.05031423, 0.03147157, 0.04656003, 0.05737989])"
      ]
     },
     "execution_count": 719,
     "metadata": {},
     "output_type": "execute_result"
    },
    {
     "data": {
      "application/javascript": [
       "\n",
       "            setTimeout(function() {\n",
       "                var nbb_cell_id = 719;\n",
       "                var nbb_unformatted_code = \"models[0].model.coef_\";\n",
       "                var nbb_formatted_code = \"models[0].model.coef_\";\n",
       "                var nbb_cells = Jupyter.notebook.get_cells();\n",
       "                for (var i = 0; i < nbb_cells.length; ++i) {\n",
       "                    if (nbb_cells[i].input_prompt_number == nbb_cell_id) {\n",
       "                        if (nbb_cells[i].get_text() == nbb_unformatted_code) {\n",
       "                             nbb_cells[i].set_text(nbb_formatted_code);\n",
       "                        }\n",
       "                        break;\n",
       "                    }\n",
       "                }\n",
       "            }, 500);\n",
       "            "
      ],
      "text/plain": [
       "<IPython.core.display.Javascript object>"
      ]
     },
     "metadata": {},
     "output_type": "display_data"
    }
   ],
   "source": [
    "models[0].model.coef_"
   ]
  },
  {
   "cell_type": "code",
   "execution_count": null,
   "id": "5d937eae",
   "metadata": {},
   "outputs": [],
   "source": [
    "datasets = build_datasets(\n",
    "    train_ts,\n",
    "    extract_features=extract_hybrid_strategy_features,\n",
    "    window_size=7,\n",
    "    model_count=3,\n",
    ")"
   ]
  },
  {
   "cell_type": "code",
   "execution_count": 706,
   "id": "74759395",
   "metadata": {},
   "outputs": [
    {
     "data": {
      "application/javascript": [
       "\n",
       "            setTimeout(function() {\n",
       "                var nbb_cell_id = 706;\n",
       "                var nbb_unformatted_code = \"class GradientBoostingRegressorForecastingModel:\\n    def __init__(self):\\n        self.model = sklearn.ensemble.GradientBoostingRegressor()\\n\\n    def train(self, x: X_type, y: Y_type):\\n        self.model.fit(x, y)\\n\\n    def __call__(self, x_row: X_row_type):\\n        return self.model.predict(x_row.reshape(1, -1))\";\n",
       "                var nbb_formatted_code = \"class GradientBoostingRegressorForecastingModel:\\n    def __init__(self):\\n        self.model = sklearn.ensemble.GradientBoostingRegressor()\\n\\n    def train(self, x: X_type, y: Y_type):\\n        self.model.fit(x, y)\\n\\n    def __call__(self, x_row: X_row_type):\\n        return self.model.predict(x_row.reshape(1, -1))\";\n",
       "                var nbb_cells = Jupyter.notebook.get_cells();\n",
       "                for (var i = 0; i < nbb_cells.length; ++i) {\n",
       "                    if (nbb_cells[i].input_prompt_number == nbb_cell_id) {\n",
       "                        if (nbb_cells[i].get_text() == nbb_unformatted_code) {\n",
       "                             nbb_cells[i].set_text(nbb_formatted_code);\n",
       "                        }\n",
       "                        break;\n",
       "                    }\n",
       "                }\n",
       "            }, 500);\n",
       "            "
      ],
      "text/plain": [
       "<IPython.core.display.Javascript object>"
      ]
     },
     "metadata": {},
     "output_type": "display_data"
    }
   ],
   "source": [
    "class GradientBoostingRegressorForecastingModel:\n",
    "    def __init__(self):\n",
    "        self.model = sklearn.ensemble.GradientBoostingRegressor()\n",
    "\n",
    "    def train(self, x: X_type, y: Y_type):\n",
    "        self.model.fit(x, y)\n",
    "\n",
    "    def __call__(self, x_row: X_row_type):\n",
    "        return self.model.predict(x_row.reshape(1, -1))"
   ]
  },
  {
   "cell_type": "code",
   "execution_count": 707,
   "id": "8bf4630a",
   "metadata": {},
   "outputs": [
    {
     "data": {
      "text/plain": [
       "42.34308954683096"
      ]
     },
     "execution_count": 707,
     "metadata": {},
     "output_type": "execute_result"
    },
    {
     "data": {
      "application/javascript": [
       "\n",
       "            setTimeout(function() {\n",
       "                var nbb_cell_id = 707;\n",
       "                var nbb_unformatted_code = \"get_model = lambda: GradientBoostingRegressorForecastingModel()\\nscore()\";\n",
       "                var nbb_formatted_code = \"get_model = lambda: GradientBoostingRegressorForecastingModel()\\nscore()\";\n",
       "                var nbb_cells = Jupyter.notebook.get_cells();\n",
       "                for (var i = 0; i < nbb_cells.length; ++i) {\n",
       "                    if (nbb_cells[i].input_prompt_number == nbb_cell_id) {\n",
       "                        if (nbb_cells[i].get_text() == nbb_unformatted_code) {\n",
       "                             nbb_cells[i].set_text(nbb_formatted_code);\n",
       "                        }\n",
       "                        break;\n",
       "                    }\n",
       "                }\n",
       "            }, 500);\n",
       "            "
      ],
      "text/plain": [
       "<IPython.core.display.Javascript object>"
      ]
     },
     "metadata": {},
     "output_type": "display_data"
    }
   ],
   "source": [
    "get_model = lambda: GradientBoostingRegressorForecastingModel()\n",
    "score()"
   ]
  },
  {
   "cell_type": "code",
   "execution_count": 321,
   "id": "44898abf",
   "metadata": {},
   "outputs": [
    {
     "data": {
      "application/javascript": [
       "\n",
       "            setTimeout(function() {\n",
       "                var nbb_cell_id = 321;\n",
       "                var nbb_unformatted_code = \"import matplotlib.pyplot as plt\";\n",
       "                var nbb_formatted_code = \"import matplotlib.pyplot as plt\";\n",
       "                var nbb_cells = Jupyter.notebook.get_cells();\n",
       "                for (var i = 0; i < nbb_cells.length; ++i) {\n",
       "                    if (nbb_cells[i].input_prompt_number == nbb_cell_id) {\n",
       "                        if (nbb_cells[i].get_text() == nbb_unformatted_code) {\n",
       "                             nbb_cells[i].set_text(nbb_formatted_code);\n",
       "                        }\n",
       "                        break;\n",
       "                    }\n",
       "                }\n",
       "            }, 500);\n",
       "            "
      ],
      "text/plain": [
       "<IPython.core.display.Javascript object>"
      ]
     },
     "metadata": {},
     "output_type": "display_data"
    }
   ],
   "source": [
    "import matplotlib.pyplot as plt"
   ]
  },
  {
   "cell_type": "code",
   "execution_count": 323,
   "id": "93fe5339",
   "metadata": {},
   "outputs": [
    {
     "data": {
      "application/javascript": [
       "\n",
       "            setTimeout(function() {\n",
       "                var nbb_cell_id = 323;\n",
       "                var nbb_unformatted_code = \"import scipy\";\n",
       "                var nbb_formatted_code = \"import scipy\";\n",
       "                var nbb_cells = Jupyter.notebook.get_cells();\n",
       "                for (var i = 0; i < nbb_cells.length; ++i) {\n",
       "                    if (nbb_cells[i].input_prompt_number == nbb_cell_id) {\n",
       "                        if (nbb_cells[i].get_text() == nbb_unformatted_code) {\n",
       "                             nbb_cells[i].set_text(nbb_formatted_code);\n",
       "                        }\n",
       "                        break;\n",
       "                    }\n",
       "                }\n",
       "            }, 500);\n",
       "            "
      ],
      "text/plain": [
       "<IPython.core.display.Javascript object>"
      ]
     },
     "metadata": {},
     "output_type": "display_data"
    }
   ],
   "source": [
    "import scipy"
   ]
  },
  {
   "cell_type": "code",
   "execution_count": 325,
   "id": "5063ec02",
   "metadata": {},
   "outputs": [
    {
     "data": {
      "application/javascript": [
       "\n",
       "            setTimeout(function() {\n",
       "                var nbb_cell_id = 325;\n",
       "                var nbb_unformatted_code = \"ft = scipy.fft.fft(train_ts.values)\";\n",
       "                var nbb_formatted_code = \"ft = scipy.fft.fft(train_ts.values)\";\n",
       "                var nbb_cells = Jupyter.notebook.get_cells();\n",
       "                for (var i = 0; i < nbb_cells.length; ++i) {\n",
       "                    if (nbb_cells[i].input_prompt_number == nbb_cell_id) {\n",
       "                        if (nbb_cells[i].get_text() == nbb_unformatted_code) {\n",
       "                             nbb_cells[i].set_text(nbb_formatted_code);\n",
       "                        }\n",
       "                        break;\n",
       "                    }\n",
       "                }\n",
       "            }, 500);\n",
       "            "
      ],
      "text/plain": [
       "<IPython.core.display.Javascript object>"
      ]
     },
     "metadata": {},
     "output_type": "display_data"
    }
   ],
   "source": [
    "ft = scipy.fft.fft(train_ts.values)"
   ]
  },
  {
   "cell_type": "code",
   "execution_count": 333,
   "id": "522f5a4d",
   "metadata": {},
   "outputs": [
    {
     "data": {
      "text/plain": [
       "[<matplotlib.lines.Line2D at 0x7fcaab166f50>]"
      ]
     },
     "execution_count": 333,
     "metadata": {},
     "output_type": "execute_result"
    },
    {
     "data": {
      "image/png": "[encoded data removed]",
      "text/plain": [
       "<Figure size 640x480 with 1 Axes>"
      ]
     },
     "metadata": {},
     "output_type": "display_data"
    },
    {
     "data": {
      "application/javascript": [
       "\n",
       "            setTimeout(function() {\n",
       "                var nbb_cell_id = 333;\n",
       "                var nbb_unformatted_code = \"plt.plot(train_ts.index.dayofyear.values)\";\n",
       "                var nbb_formatted_code = \"plt.plot(train_ts.index.dayofyear.values)\";\n",
       "                var nbb_cells = Jupyter.notebook.get_cells();\n",
       "                for (var i = 0; i < nbb_cells.length; ++i) {\n",
       "                    if (nbb_cells[i].input_prompt_number == nbb_cell_id) {\n",
       "                        if (nbb_cells[i].get_text() == nbb_unformatted_code) {\n",
       "                             nbb_cells[i].set_text(nbb_formatted_code);\n",
       "                        }\n",
       "                        break;\n",
       "                    }\n",
       "                }\n",
       "            }, 500);\n",
       "            "
      ],
      "text/plain": [
       "<IPython.core.display.Javascript object>"
      ]
     },
     "metadata": {},
     "output_type": "display_data"
    }
   ],
   "source": [
    "plt.plot(train_ts.index.dayofyear.values)"
   ]
  },
  {
   "cell_type": "code",
   "execution_count": 328,
   "id": "317d0dcf",
   "metadata": {},
   "outputs": [
    {
     "data": {
      "text/plain": [
       "[<matplotlib.lines.Line2D at 0x7fcac42d9690>]"
      ]
     },
     "execution_count": 328,
     "metadata": {},
     "output_type": "execute_result"
    },
    {
     "data": {
      "image/png": "[encoded data removed]",
      "text/plain": [
       "<Figure size 640x480 with 1 Axes>"
      ]
     },
     "metadata": {},
     "output_type": "display_data"
    },
    {
     "data": {
      "application/javascript": [
       "\n",
       "            setTimeout(function() {\n",
       "                var nbb_cell_id = 328;\n",
       "                var nbb_unformatted_code = \"plt.plot(np.abs(ft))\";\n",
       "                var nbb_formatted_code = \"plt.plot(np.abs(ft))\";\n",
       "                var nbb_cells = Jupyter.notebook.get_cells();\n",
       "                for (var i = 0; i < nbb_cells.length; ++i) {\n",
       "                    if (nbb_cells[i].input_prompt_number == nbb_cell_id) {\n",
       "                        if (nbb_cells[i].get_text() == nbb_unformatted_code) {\n",
       "                             nbb_cells[i].set_text(nbb_formatted_code);\n",
       "                        }\n",
       "                        break;\n",
       "                    }\n",
       "                }\n",
       "            }, 500);\n",
       "            "
      ],
      "text/plain": [
       "<IPython.core.display.Javascript object>"
      ]
     },
     "metadata": {},
     "output_type": "display_data"
    }
   ],
   "source": [
    "plt.plot(np.abs(ft))"
   ]
  },
  {
   "cell_type": "code",
   "execution_count": 732,
   "id": "2d3a20ce",
   "metadata": {},
   "outputs": [
    {
     "data": {
      "text/plain": [
       "[<matplotlib.lines.Line2D at 0x7fc7d0423df0>]"
      ]
     },
     "execution_count": 732,
     "metadata": {},
     "output_type": "execute_result"
    },
    {
     "data": {
      "image/png": "[encoded data removed]",
      "text/plain": [
       "<Figure size 640x480 with 1 Axes>"
      ]
     },
     "metadata": {},
     "output_type": "display_data"
    },
    {
     "data": {
      "application/javascript": [
       "\n",
       "            setTimeout(function() {\n",
       "                var nbb_cell_id = 732;\n",
       "                var nbb_unformatted_code = \"N = len(train_ts)\\nT = 1 / 7\\nxf = scipy.fft.fftfreq(N, T)[: N // 2]\\nyf = scipy.fft.fft(train_ts.values)\\nplt.plot(xf, 2.0 / N * np.abs(yf[0 : N // 2]))\";\n",
       "                var nbb_formatted_code = \"N = len(train_ts)\\nT = 1 / 7\\nxf = scipy.fft.fftfreq(N, T)[: N // 2]\\nyf = scipy.fft.fft(train_ts.values)\\nplt.plot(xf, 2.0 / N * np.abs(yf[0 : N // 2]))\";\n",
       "                var nbb_cells = Jupyter.notebook.get_cells();\n",
       "                for (var i = 0; i < nbb_cells.length; ++i) {\n",
       "                    if (nbb_cells[i].input_prompt_number == nbb_cell_id) {\n",
       "                        if (nbb_cells[i].get_text() == nbb_unformatted_code) {\n",
       "                             nbb_cells[i].set_text(nbb_formatted_code);\n",
       "                        }\n",
       "                        break;\n",
       "                    }\n",
       "                }\n",
       "            }, 500);\n",
       "            "
      ],
      "text/plain": [
       "<IPython.core.display.Javascript object>"
      ]
     },
     "metadata": {},
     "output_type": "display_data"
    }
   ],
   "source": [
    "N = len(train_ts)\n",
    "T = 1 / 7\n",
    "xf = scipy.fft.fftfreq(N, T)[: N // 2]\n",
    "yf = scipy.fft.fft(train_ts.values)\n",
    "plt.plot(xf, 2.0 / N * np.abs(yf[0 : N // 2]))"
   ]
  },
  {
   "cell_type": "code",
   "execution_count": 720,
   "id": "7e960569",
   "metadata": {},
   "outputs": [
    {
     "ename": "SyntaxError",
     "evalue": "invalid syntax (1135540266.py, line 4)",
     "output_type": "error",
     "traceback": [
      "\u001b[0;36m  Cell \u001b[0;32mIn[720], line 4\u001b[0;36m\u001b[0m\n\u001b[0;31m    >>> N = 600\u001b[0m\n\u001b[0m    ^\u001b[0m\n\u001b[0;31mSyntaxError\u001b[0m\u001b[0;31m:\u001b[0m invalid syntax\n"
     ]
    },
    {
     "name": "stderr",
     "output_type": "stream",
     "text": [
      "ERROR:root:Cannot parse: 4:0: >>> N = 600\n",
      "Traceback (most recent call last):\n",
      "  File \"/home/dkkoshman/YSDA/python3.10/lib/python3.10/site-packages/lab_black.py\", line 218, in format_cell\n",
      "    formatted_code = _format_code(cell)\n",
      "  File \"/home/dkkoshman/YSDA/python3.10/lib/python3.10/site-packages/lab_black.py\", line 29, in _format_code\n",
      "    return format_str(src_contents=code, mode=FileMode())\n",
      "  File \"src/black/__init__.py\", line 1079, in format_str\n",
      "  File \"src/black/__init__.py\", line 1089, in _format_str_once\n",
      "  File \"src/black/parsing.py\", line 127, in lib2to3_parse\n",
      "black.parsing.InvalidInput: Cannot parse: 4:0: >>> N = 600\n"
     ]
    }
   ],
   "source": [
    "from scipy.fft import fft, fftfreq\n",
    "import numpy as np\n",
    "# Number of sample points\n",
    "\n",
    "# sample spacing\n",
    "T = 1.0 / 800.0\n",
    ">>> x = np.linspace(0.0, N*T, N, endpoint=False)\n",
    ">>> y = np.sin(50.0 * 2.0*np.pi*x) + 0.5*np.sin(80.0 * 2.0*np.pi*x)\n",
    ">>> yf = fft(y)\n",
    ">>> xf = fftfreq(N, T)[:N//2]\n",
    ">>> import matplotlib.pyplot as plt\n",
    ">>> plt.plot(xf, 2.0/N * np.abs(yf[0:N//2]))\n",
    ">>> plt.grid()\n",
    ">>> plt.show()"
   ]
  },
  {
   "cell_type": "code",
   "execution_count": 322,
   "id": "c8b3eddb",
   "metadata": {},
   "outputs": [
    {
     "data": {
      "text/plain": [
       "<Axes: xlabel='date'>"
      ]
     },
     "execution_count": 322,
     "metadata": {},
     "output_type": "execute_result"
    },
    {
     "data": {
      "image/png": "[encoded data removed]",
      "text/plain": [
       "<Figure size 640x480 with 1 Axes>"
      ]
     },
     "metadata": {},
     "output_type": "display_data"
    },
    {
     "data": {
      "application/javascript": [
       "\n",
       "            setTimeout(function() {\n",
       "                var nbb_cell_id = 322;\n",
       "                var nbb_unformatted_code = \"train_ts.plot()\";\n",
       "                var nbb_formatted_code = \"train_ts.plot()\";\n",
       "                var nbb_cells = Jupyter.notebook.get_cells();\n",
       "                for (var i = 0; i < nbb_cells.length; ++i) {\n",
       "                    if (nbb_cells[i].input_prompt_number == nbb_cell_id) {\n",
       "                        if (nbb_cells[i].get_text() == nbb_unformatted_code) {\n",
       "                             nbb_cells[i].set_text(nbb_formatted_code);\n",
       "                        }\n",
       "                        break;\n",
       "                    }\n",
       "                }\n",
       "            }, 500);\n",
       "            "
      ],
      "text/plain": [
       "<IPython.core.display.Javascript object>"
      ]
     },
     "metadata": {},
     "output_type": "display_data"
    }
   ],
   "source": [
    "train_ts.plot()"
   ]
  },
  {
   "cell_type": "code",
   "execution_count": 245,
   "id": "172de90f",
   "metadata": {},
   "outputs": [
    {
     "data": {
      "text/plain": [
       "57.00369446940426"
      ]
     },
     "execution_count": 245,
     "metadata": {},
     "output_type": "execute_result"
    },
    {
     "data": {
      "application/javascript": [
       "\n",
       "            setTimeout(function() {\n",
       "                var nbb_cell_id = 245;\n",
       "                var nbb_unformatted_code = \"get_model = lambda: LinearRegressionForecastingModel()\\nscore(window_size=5)\";\n",
       "                var nbb_formatted_code = \"get_model = lambda: LinearRegressionForecastingModel()\\nscore(window_size=5)\";\n",
       "                var nbb_cells = Jupyter.notebook.get_cells();\n",
       "                for (var i = 0; i < nbb_cells.length; ++i) {\n",
       "                    if (nbb_cells[i].input_prompt_number == nbb_cell_id) {\n",
       "                        if (nbb_cells[i].get_text() == nbb_unformatted_code) {\n",
       "                             nbb_cells[i].set_text(nbb_formatted_code);\n",
       "                        }\n",
       "                        break;\n",
       "                    }\n",
       "                }\n",
       "            }, 500);\n",
       "            "
      ],
      "text/plain": [
       "<IPython.core.display.Javascript object>"
      ]
     },
     "metadata": {},
     "output_type": "display_data"
    }
   ],
   "source": [
    "get_model = lambda: LinearRegressionForecastingModel()\n",
    "preprocess_timeseries = my_preprocess_timeseries\n",
    "score(window_size=5)"
   ]
  },
  {
   "cell_type": "code",
   "execution_count": 168,
   "id": "e7371779",
   "metadata": {},
   "outputs": [
    {
     "data": {
      "text/plain": [
       "43.52195474906381"
      ]
     },
     "execution_count": 168,
     "metadata": {},
     "output_type": "execute_result"
    },
    {
     "data": {
      "application/javascript": [
       "\n",
       "            setTimeout(function() {\n",
       "                var nbb_cell_id = 168;\n",
       "                var nbb_unformatted_code = \"get_model = lambda: GradientBoostingRegressorForecastingModel()\\nscore(window_size=5)\";\n",
       "                var nbb_formatted_code = \"get_model = lambda: GradientBoostingRegressorForecastingModel()\\nscore(window_size=5)\";\n",
       "                var nbb_cells = Jupyter.notebook.get_cells();\n",
       "                for (var i = 0; i < nbb_cells.length; ++i) {\n",
       "                    if (nbb_cells[i].input_prompt_number == nbb_cell_id) {\n",
       "                        if (nbb_cells[i].get_text() == nbb_unformatted_code) {\n",
       "                             nbb_cells[i].set_text(nbb_formatted_code);\n",
       "                        }\n",
       "                        break;\n",
       "                    }\n",
       "                }\n",
       "            }, 500);\n",
       "            "
      ],
      "text/plain": [
       "<IPython.core.display.Javascript object>"
      ]
     },
     "metadata": {},
     "output_type": "display_data"
    }
   ],
   "source": [
    "get_model = lambda: GradientBoostingRegressorForecastingModel()\n",
    "score(window_size=5)"
   ]
  },
  {
   "cell_type": "code",
   "execution_count": 170,
   "id": "7129f301",
   "metadata": {},
   "outputs": [
    {
     "data": {
      "application/javascript": [
       "\n",
       "            setTimeout(function() {\n",
       "                var nbb_cell_id = 170;\n",
       "                var nbb_unformatted_code = \"class CatBoostRegressorForecastingModel:\\n    def __init__(self):\\n        self.model = catboost.CatBoostRegressor()\\n\\n    def train(self, x: X_type, y: Y_type):\\n        self.model.fit(x, y, verbose=False)\\n\\n    def __call__(self, x_row: X_row_type):\\n        return self.model.predict(x_row.reshape(1, -1))\";\n",
       "                var nbb_formatted_code = \"class CatBoostRegressorForecastingModel:\\n    def __init__(self):\\n        self.model = catboost.CatBoostRegressor()\\n\\n    def train(self, x: X_type, y: Y_type):\\n        self.model.fit(x, y, verbose=False)\\n\\n    def __call__(self, x_row: X_row_type):\\n        return self.model.predict(x_row.reshape(1, -1))\";\n",
       "                var nbb_cells = Jupyter.notebook.get_cells();\n",
       "                for (var i = 0; i < nbb_cells.length; ++i) {\n",
       "                    if (nbb_cells[i].input_prompt_number == nbb_cell_id) {\n",
       "                        if (nbb_cells[i].get_text() == nbb_unformatted_code) {\n",
       "                             nbb_cells[i].set_text(nbb_formatted_code);\n",
       "                        }\n",
       "                        break;\n",
       "                    }\n",
       "                }\n",
       "            }, 500);\n",
       "            "
      ],
      "text/plain": [
       "<IPython.core.display.Javascript object>"
      ]
     },
     "metadata": {},
     "output_type": "display_data"
    }
   ],
   "source": [
    "class CatBoostRegressorForecastingModel:\n",
    "    def __init__(self):\n",
    "        self.model = catboost.CatBoostRegressor()\n",
    "\n",
    "    def train(self, x: X_type, y: Y_type):\n",
    "        self.model.fit(x, y, verbose=False)\n",
    "\n",
    "    def __call__(self, x_row: X_row_type):\n",
    "        return self.model.predict(x_row.reshape(1, -1))"
   ]
  },
  {
   "cell_type": "code",
   "execution_count": 171,
   "id": "cec1e47f",
   "metadata": {},
   "outputs": [
    {
     "data": {
      "text/plain": [
       "44.99069938110541"
      ]
     },
     "execution_count": 171,
     "metadata": {},
     "output_type": "execute_result"
    },
    {
     "data": {
      "application/javascript": [
       "\n",
       "            setTimeout(function() {\n",
       "                var nbb_cell_id = 171;\n",
       "                var nbb_unformatted_code = \"get_model = lambda: CatBoostRegressorForecastingModel()\\nscore(window_size=5)\";\n",
       "                var nbb_formatted_code = \"get_model = lambda: CatBoostRegressorForecastingModel()\\nscore(window_size=5)\";\n",
       "                var nbb_cells = Jupyter.notebook.get_cells();\n",
       "                for (var i = 0; i < nbb_cells.length; ++i) {\n",
       "                    if (nbb_cells[i].input_prompt_number == nbb_cell_id) {\n",
       "                        if (nbb_cells[i].get_text() == nbb_unformatted_code) {\n",
       "                             nbb_cells[i].set_text(nbb_formatted_code);\n",
       "                        }\n",
       "                        break;\n",
       "                    }\n",
       "                }\n",
       "            }, 500);\n",
       "            "
      ],
      "text/plain": [
       "<IPython.core.display.Javascript object>"
      ]
     },
     "metadata": {},
     "output_type": "display_data"
    }
   ],
   "source": [
    "get_model = lambda: CatBoostRegressorForecastingModel()\n",
    "score(window_size=5)"
   ]
  },
  {
   "cell_type": "code",
   "execution_count": 211,
   "id": "1bf178a1",
   "metadata": {},
   "outputs": [
    {
     "data": {
      "application/javascript": [
       "\n",
       "            setTimeout(function() {\n",
       "                var nbb_cell_id = 211;\n",
       "                var nbb_unformatted_code = \"df = train_ts.reset_index()\\ndf[\\\"weekday\\\"] = df[\\\"date\\\"].dt.weekday\\ndf[\\\"day\\\"] = df[\\\"date\\\"].dt.day\\ndf[\\\"month\\\"] = df[\\\"date\\\"].dt.month\\ndf[\\\"dayofyear\\\"] = df[\\\"date\\\"].dt.dayofyear\\ndf[\\\"year\\\"] = df[\\\"date\\\"].dt.year\\ndf = df.drop(\\\"date\\\", axis=\\\"columns\\\")\";\n",
       "                var nbb_formatted_code = \"df = train_ts.reset_index()\\ndf[\\\"weekday\\\"] = df[\\\"date\\\"].dt.weekday\\ndf[\\\"day\\\"] = df[\\\"date\\\"].dt.day\\ndf[\\\"month\\\"] = df[\\\"date\\\"].dt.month\\ndf[\\\"dayofyear\\\"] = df[\\\"date\\\"].dt.dayofyear\\ndf[\\\"year\\\"] = df[\\\"date\\\"].dt.year\\ndf = df.drop(\\\"date\\\", axis=\\\"columns\\\")\";\n",
       "                var nbb_cells = Jupyter.notebook.get_cells();\n",
       "                for (var i = 0; i < nbb_cells.length; ++i) {\n",
       "                    if (nbb_cells[i].input_prompt_number == nbb_cell_id) {\n",
       "                        if (nbb_cells[i].get_text() == nbb_unformatted_code) {\n",
       "                             nbb_cells[i].set_text(nbb_formatted_code);\n",
       "                        }\n",
       "                        break;\n",
       "                    }\n",
       "                }\n",
       "            }, 500);\n",
       "            "
      ],
      "text/plain": [
       "<IPython.core.display.Javascript object>"
      ]
     },
     "metadata": {},
     "output_type": "display_data"
    }
   ],
   "source": []
  },
  {
   "cell_type": "code",
   "execution_count": 212,
   "id": "5360469f",
   "metadata": {},
   "outputs": [
    {
     "data": {
      "text/html": [
       "<div>\n",
       "<style scoped>\n",
       "    .dataframe tbody tr th:only-of-type {\n",
       "        vertical-align: middle;\n",
       "    }\n",
       "\n",
       "    .dataframe tbody tr th {\n",
       "        vertical-align: top;\n",
       "    }\n",
       "\n",
       "    .dataframe thead th {\n",
       "        text-align: right;\n",
       "    }\n",
       "</style>\n",
       "<table border=\"1\" class=\"dataframe\">\n",
       "  <thead>\n",
       "    <tr style=\"text-align: right;\">\n",
       "      <th></th>\n",
       "      <th>sales</th>\n",
       "      <th>weekday</th>\n",
       "      <th>day</th>\n",
       "      <th>month</th>\n",
       "      <th>dayofyear</th>\n",
       "      <th>year</th>\n",
       "    </tr>\n",
       "  </thead>\n",
       "  <tbody>\n",
       "    <tr>\n",
       "      <th>0</th>\n",
       "      <td>13</td>\n",
       "      <td>1</td>\n",
       "      <td>1</td>\n",
       "      <td>1</td>\n",
       "      <td>1</td>\n",
       "      <td>2013</td>\n",
       "    </tr>\n",
       "    <tr>\n",
       "      <th>1</th>\n",
       "      <td>11</td>\n",
       "      <td>2</td>\n",
       "      <td>2</td>\n",
       "      <td>1</td>\n",
       "      <td>2</td>\n",
       "      <td>2013</td>\n",
       "    </tr>\n",
       "    <tr>\n",
       "      <th>2</th>\n",
       "      <td>14</td>\n",
       "      <td>3</td>\n",
       "      <td>3</td>\n",
       "      <td>1</td>\n",
       "      <td>3</td>\n",
       "      <td>2013</td>\n",
       "    </tr>\n",
       "    <tr>\n",
       "      <th>3</th>\n",
       "      <td>13</td>\n",
       "      <td>4</td>\n",
       "      <td>4</td>\n",
       "      <td>1</td>\n",
       "      <td>4</td>\n",
       "      <td>2013</td>\n",
       "    </tr>\n",
       "    <tr>\n",
       "      <th>4</th>\n",
       "      <td>10</td>\n",
       "      <td>5</td>\n",
       "      <td>5</td>\n",
       "      <td>1</td>\n",
       "      <td>5</td>\n",
       "      <td>2013</td>\n",
       "    </tr>\n",
       "    <tr>\n",
       "      <th>...</th>\n",
       "      <td>...</td>\n",
       "      <td>...</td>\n",
       "      <td>...</td>\n",
       "      <td>...</td>\n",
       "      <td>...</td>\n",
       "      <td>...</td>\n",
       "    </tr>\n",
       "    <tr>\n",
       "      <th>1456</th>\n",
       "      <td>10</td>\n",
       "      <td>1</td>\n",
       "      <td>27</td>\n",
       "      <td>12</td>\n",
       "      <td>362</td>\n",
       "      <td>2016</td>\n",
       "    </tr>\n",
       "    <tr>\n",
       "      <th>1457</th>\n",
       "      <td>16</td>\n",
       "      <td>2</td>\n",
       "      <td>28</td>\n",
       "      <td>12</td>\n",
       "      <td>363</td>\n",
       "      <td>2016</td>\n",
       "    </tr>\n",
       "    <tr>\n",
       "      <th>1458</th>\n",
       "      <td>21</td>\n",
       "      <td>3</td>\n",
       "      <td>29</td>\n",
       "      <td>12</td>\n",
       "      <td>364</td>\n",
       "      <td>2016</td>\n",
       "    </tr>\n",
       "    <tr>\n",
       "      <th>1459</th>\n",
       "      <td>24</td>\n",
       "      <td>4</td>\n",
       "      <td>30</td>\n",
       "      <td>12</td>\n",
       "      <td>365</td>\n",
       "      <td>2016</td>\n",
       "    </tr>\n",
       "    <tr>\n",
       "      <th>1460</th>\n",
       "      <td>14</td>\n",
       "      <td>5</td>\n",
       "      <td>31</td>\n",
       "      <td>12</td>\n",
       "      <td>366</td>\n",
       "      <td>2016</td>\n",
       "    </tr>\n",
       "  </tbody>\n",
       "</table>\n",
       "<p>1461 rows × 6 columns</p>\n",
       "</div>"
      ],
      "text/plain": [
       "      sales  weekday  day  month  dayofyear  year\n",
       "0        13        1    1      1          1  2013\n",
       "1        11        2    2      1          2  2013\n",
       "2        14        3    3      1          3  2013\n",
       "3        13        4    4      1          4  2013\n",
       "4        10        5    5      1          5  2013\n",
       "...     ...      ...  ...    ...        ...   ...\n",
       "1456     10        1   27     12        362  2016\n",
       "1457     16        2   28     12        363  2016\n",
       "1458     21        3   29     12        364  2016\n",
       "1459     24        4   30     12        365  2016\n",
       "1460     14        5   31     12        366  2016\n",
       "\n",
       "[1461 rows x 6 columns]"
      ]
     },
     "execution_count": 212,
     "metadata": {},
     "output_type": "execute_result"
    },
    {
     "data": {
      "application/javascript": [
       "\n",
       "            setTimeout(function() {\n",
       "                var nbb_cell_id = 212;\n",
       "                var nbb_unformatted_code = \"df\";\n",
       "                var nbb_formatted_code = \"df\";\n",
       "                var nbb_cells = Jupyter.notebook.get_cells();\n",
       "                for (var i = 0; i < nbb_cells.length; ++i) {\n",
       "                    if (nbb_cells[i].input_prompt_number == nbb_cell_id) {\n",
       "                        if (nbb_cells[i].get_text() == nbb_unformatted_code) {\n",
       "                             nbb_cells[i].set_text(nbb_formatted_code);\n",
       "                        }\n",
       "                        break;\n",
       "                    }\n",
       "                }\n",
       "            }, 500);\n",
       "            "
      ],
      "text/plain": [
       "<IPython.core.display.Javascript object>"
      ]
     },
     "metadata": {},
     "output_type": "display_data"
    }
   ],
   "source": [
    "df"
   ]
  },
  {
   "cell_type": "code",
   "execution_count": null,
   "id": "794b877b",
   "metadata": {},
   "outputs": [],
   "source": []
  }
 ],
 "metadata": {
  "kernelspec": {
   "display_name": "Python 3 (ipykernel)",
   "language": "python",
   "name": "python3"
  },
  "language_info": {
   "codemirror_mode": {
    "name": "ipython",
    "version": 3
   },
   "file_extension": ".py",
   "mimetype": "text/x-python",
   "name": "python",
   "nbconvert_exporter": "python",
   "pygments_lexer": "ipython3",
   "version": "3.10.7"
  }
 },
 "nbformat": 4,
 "nbformat_minor": 5
}
