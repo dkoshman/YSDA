{
 "cells": [
  {
   "cell_type": "markdown",
   "id": "2c768551",
   "metadata": {},
   "source": [
    "## [Setup](#Setup_) \n",
    "## [Imports](#Imports_)\n",
    "## [Catboost](#Catboost_)\n",
    "## [Autosklearn](#Autosklearn_)"
   ]
  },
  {
   "cell_type": "markdown",
   "id": "02d1bc53",
   "metadata": {},
   "source": [
    "## Todo:\n",
    "- [ ] Try auto sklearn\n",
    "- [ ] Try auto gluon"
   ]
  },
  {
   "cell_type": "markdown",
   "id": "da11b421",
   "metadata": {},
   "source": [
    "## Setup <span id=Setup_></span>"
   ]
  },
  {
   "cell_type": "code",
   "execution_count": 10,
   "id": "2049c025",
   "metadata": {},
   "outputs": [
    {
     "name": "stdout",
     "output_type": "stream",
     "text": [
      "The nb_black extension is already loaded. To reload it, use:\n",
      "  %reload_ext nb_black\n"
     ]
    },
    {
     "data": {
      "application/javascript": [
       "\n",
       "            setTimeout(function() {\n",
       "                var nbb_cell_id = 10;\n",
       "                var nbb_unformatted_code = \"COMPETITION = \\\"titanic\\\"\\n\\nimport glob\\nimport os\\nimport subprocess\\n\\n%load_ext nb_black\\n\\n\\ndef mkdir(path, error_if_exists=False):\\n    !mkdir {\\\"-p\\\" if not error_if_exists else \\\"\\\"} {path}\\n\\n\\ndef kaggle_competitions_search(search_term):\\n    !kaggle competitions list -s {search_term}\\n\\n\\ndef kaggle_competitions_files(competition):\\n    !kaggle competitions files {competition}\\n\\n\\ndef kaggle_competitions_download(competition, save_path=\\\"data\\\", filename=None):\\n    mkdir(save_path)\\n    !kaggle competitions download -p {save_path} {\\\"-f \\\" + filename if filename else \\\"\\\"} {competition}\\n\\n\\ndef kaggle_competitions_submit(competition, filename, message=\\\"submit\\\"):\\n    !kaggle competitions submit -f {filename} -m {message} {competition}\\n\\n\\ndef kaggle_competitions_submissions(competition):\\n    !kaggle competitions submissions {competition}\\n\\n\\ndef unzip(zip_path, save_path=None, delete_zip=False):\\n    !unzip {zip_path} {\\\"-d \\\"+ save_path if save_path else \\\"\\\"}\\n    if delete_zip:\\n        for path in glob.glob(zip_path):\\n            if path.endswith(\\\".zip\\\"):\\n                !trash {path}\\n\\n\\ndef make_new_markdown_section_with_link(section, header=\\\"##\\\"):\\n    section_id = section.replace(\\\" \\\", \\\"_\\\") + \\\"_\\\"\\n    section_link = f\\\"{header} [{section}](#{section_id})\\\"\\n    section_header = f\\\"{header} {section} <span id={section_id}></span>\\\"\\n    section = section_link + \\\"\\\\n\\\" + section_header\\n    print(section)\";\n",
       "                var nbb_formatted_code = \"COMPETITION = \\\"titanic\\\"\\n\\nimport glob\\nimport os\\nimport subprocess\\n\\n%load_ext nb_black\\n\\n\\ndef mkdir(path, error_if_exists=False):\\n    !mkdir {\\\"-p\\\" if not error_if_exists else \\\"\\\"} {path}\\n\\n\\ndef kaggle_competitions_search(search_term):\\n    !kaggle competitions list -s {search_term}\\n\\n\\ndef kaggle_competitions_files(competition):\\n    !kaggle competitions files {competition}\\n\\n\\ndef kaggle_competitions_download(competition, save_path=\\\"data\\\", filename=None):\\n    mkdir(save_path)\\n    !kaggle competitions download -p {save_path} {\\\"-f \\\" + filename if filename else \\\"\\\"} {competition}\\n\\n\\ndef kaggle_competitions_submit(competition, filename, message=\\\"submit\\\"):\\n    !kaggle competitions submit -f {filename} -m {message} {competition}\\n\\n\\ndef kaggle_competitions_submissions(competition):\\n    !kaggle competitions submissions {competition}\\n\\n\\ndef unzip(zip_path, save_path=None, delete_zip=False):\\n    !unzip {zip_path} {\\\"-d \\\"+ save_path if save_path else \\\"\\\"}\\n    if delete_zip:\\n        for path in glob.glob(zip_path):\\n            if path.endswith(\\\".zip\\\"):\\n                !trash {path}\\n\\n\\ndef make_new_markdown_section_with_link(section, header=\\\"##\\\"):\\n    section_id = section.replace(\\\" \\\", \\\"_\\\") + \\\"_\\\"\\n    section_link = f\\\"{header} [{section}](#{section_id})\\\"\\n    section_header = f\\\"{header} {section} <span id={section_id}></span>\\\"\\n    section = section_link + \\\"\\\\n\\\" + section_header\\n    print(section)\";\n",
       "                var nbb_cells = Jupyter.notebook.get_cells();\n",
       "                for (var i = 0; i < nbb_cells.length; ++i) {\n",
       "                    if (nbb_cells[i].input_prompt_number == nbb_cell_id) {\n",
       "                        if (nbb_cells[i].get_text() == nbb_unformatted_code) {\n",
       "                             nbb_cells[i].set_text(nbb_formatted_code);\n",
       "                        }\n",
       "                        break;\n",
       "                    }\n",
       "                }\n",
       "            }, 500);\n",
       "            "
      ],
      "text/plain": [
       "<IPython.core.display.Javascript object>"
      ]
     },
     "metadata": {},
     "output_type": "display_data"
    }
   ],
   "source": [
    "COMPETITION = \"titanic\"\n",
    "\n",
    "import glob\n",
    "import os\n",
    "import subprocess\n",
    "\n",
    "%load_ext nb_black\n",
    "\n",
    "\n",
    "def mkdir(path, error_if_exists=False):\n",
    "    !mkdir {\"-p\" if not error_if_exists else \"\"} {path}\n",
    "\n",
    "\n",
    "def kaggle_competitions_search(search_term):\n",
    "    !kaggle competitions list -s {search_term}\n",
    "\n",
    "\n",
    "def kaggle_competitions_files(competition):\n",
    "    !kaggle competitions files {competition}\n",
    "\n",
    "\n",
    "def kaggle_competitions_download(competition, save_path=\"data\", filename=None):\n",
    "    mkdir(save_path)\n",
    "    !kaggle competitions download -p {save_path} {\"-f \" + filename if filename else \"\"} {competition}\n",
    "\n",
    "\n",
    "def kaggle_competitions_submit(competition, filename, message=\"submit\"):\n",
    "    !kaggle competitions submit -f {filename} -m {message} {competition}\n",
    "\n",
    "\n",
    "def kaggle_competitions_submissions(competition):\n",
    "    !kaggle competitions submissions {competition}\n",
    "\n",
    "\n",
    "def unzip(zip_path, save_path=None, delete_zip=False):\n",
    "    !unzip {zip_path} {\"-d \"+ save_path if save_path else \"\"}\n",
    "    if delete_zip:\n",
    "        for path in glob.glob(zip_path):\n",
    "            if path.endswith(\".zip\"):\n",
    "                !trash {path}\n",
    "\n",
    "\n",
    "def make_new_markdown_section_with_link(section, header=\"##\"):\n",
    "    section_id = section.replace(\" \", \"_\") + \"_\"\n",
    "    section_link = f\"{header} [{section}](#{section_id})\"\n",
    "    section_header = f\"{header} {section} <span id={section_id}></span>\"\n",
    "    section = section_link + \"\\n\" + section_header\n",
    "    print(section)"
   ]
  },
  {
   "cell_type": "code",
   "execution_count": 112,
   "id": "54e5e4ee",
   "metadata": {},
   "outputs": [
    {
     "name": "stdout",
     "output_type": "stream",
     "text": [
      "ref                                                    deadline             category            reward  teamCount  userHasEntered  \r\n",
      "-----------------------------------------------------  -------------------  ---------------  ---------  ---------  --------------  \r\n",
      "https://www.kaggle.com/competitions/titanic            2030-01-01 00:00:00  Getting Started  Knowledge      15322           False  \r\n",
      "https://www.kaggle.com/competitions/spaceship-titanic  2030-01-01 00:00:00  Getting Started  Knowledge       2369           False  \r\n"
     ]
    },
    {
     "data": {
      "application/javascript": [
       "\n",
       "            setTimeout(function() {\n",
       "                var nbb_cell_id = 112;\n",
       "                var nbb_unformatted_code = \"kaggle_competitions_search(COMPETITION)\";\n",
       "                var nbb_formatted_code = \"kaggle_competitions_search(COMPETITION)\";\n",
       "                var nbb_cells = Jupyter.notebook.get_cells();\n",
       "                for (var i = 0; i < nbb_cells.length; ++i) {\n",
       "                    if (nbb_cells[i].input_prompt_number == nbb_cell_id) {\n",
       "                        if (nbb_cells[i].get_text() == nbb_unformatted_code) {\n",
       "                             nbb_cells[i].set_text(nbb_formatted_code);\n",
       "                        }\n",
       "                        break;\n",
       "                    }\n",
       "                }\n",
       "            }, 500);\n",
       "            "
      ],
      "text/plain": [
       "<IPython.core.display.Javascript object>"
      ]
     },
     "metadata": {},
     "output_type": "display_data"
    }
   ],
   "source": [
    "kaggle_competitions_search(COMPETITION)"
   ]
  },
  {
   "cell_type": "code",
   "execution_count": 108,
   "id": "bd27a003",
   "metadata": {},
   "outputs": [
    {
     "name": "stdout",
     "output_type": "stream",
     "text": [
      "Downloading titanic.zip to data\n",
      "  0%|                                               | 0.00/34.1k [00:00<?, ?B/s]\n",
      "100%|███████████████████████████████████████| 34.1k/34.1k [00:00<00:00, 744kB/s]\n"
     ]
    },
    {
     "data": {
      "application/javascript": [
       "\n",
       "            setTimeout(function() {\n",
       "                var nbb_cell_id = 108;\n",
       "                var nbb_unformatted_code = \"kaggle_competitions_download(COMPETITION)\";\n",
       "                var nbb_formatted_code = \"kaggle_competitions_download(COMPETITION)\";\n",
       "                var nbb_cells = Jupyter.notebook.get_cells();\n",
       "                for (var i = 0; i < nbb_cells.length; ++i) {\n",
       "                    if (nbb_cells[i].input_prompt_number == nbb_cell_id) {\n",
       "                        if (nbb_cells[i].get_text() == nbb_unformatted_code) {\n",
       "                             nbb_cells[i].set_text(nbb_formatted_code);\n",
       "                        }\n",
       "                        break;\n",
       "                    }\n",
       "                }\n",
       "            }, 500);\n",
       "            "
      ],
      "text/plain": [
       "<IPython.core.display.Javascript object>"
      ]
     },
     "metadata": {},
     "output_type": "display_data"
    }
   ],
   "source": [
    "kaggle_competitions_download(COMPETITION)"
   ]
  },
  {
   "cell_type": "code",
   "execution_count": 109,
   "id": "db046392",
   "metadata": {},
   "outputs": [
    {
     "name": "stdout",
     "output_type": "stream",
     "text": [
      "Archive:  data/titanic.zip\r\n",
      "  inflating: data/gender_submission.csv  \r\n",
      "  inflating: data/test.csv           \r\n",
      "  inflating: data/train.csv          \r\n"
     ]
    },
    {
     "data": {
      "application/javascript": [
       "\n",
       "            setTimeout(function() {\n",
       "                var nbb_cell_id = 109;\n",
       "                var nbb_unformatted_code = \"unzip(\\\"data/*\\\", \\\"data\\\", delete_zip=True)\";\n",
       "                var nbb_formatted_code = \"unzip(\\\"data/*\\\", \\\"data\\\", delete_zip=True)\";\n",
       "                var nbb_cells = Jupyter.notebook.get_cells();\n",
       "                for (var i = 0; i < nbb_cells.length; ++i) {\n",
       "                    if (nbb_cells[i].input_prompt_number == nbb_cell_id) {\n",
       "                        if (nbb_cells[i].get_text() == nbb_unformatted_code) {\n",
       "                             nbb_cells[i].set_text(nbb_formatted_code);\n",
       "                        }\n",
       "                        break;\n",
       "                    }\n",
       "                }\n",
       "            }, 500);\n",
       "            "
      ],
      "text/plain": [
       "<IPython.core.display.Javascript object>"
      ]
     },
     "metadata": {},
     "output_type": "display_data"
    }
   ],
   "source": [
    "unzip(\"data/*\", \"data\", delete_zip=True)"
   ]
  },
  {
   "cell_type": "markdown",
   "id": "469d4265",
   "metadata": {},
   "source": [
    "## Imports <span id=Imports_></span>"
   ]
  },
  {
   "cell_type": "code",
   "execution_count": 1,
   "id": "4d43a844",
   "metadata": {},
   "outputs": [],
   "source": [
    "from autosklearn import classification\n",
    "import catboost\n",
    "import functools\n",
    "import numpy as np\n",
    "import pandas as pd\n",
    "import kaggle\n",
    "import torch"
   ]
  },
  {
   "cell_type": "code",
   "execution_count": null,
   "id": "c8ee51a3",
   "metadata": {},
   "outputs": [],
   "source": [
    "@functools.cache\n",
    "def get_df_train():\n",
    "    return pd.read_csv(\"data/train.csv\")\n",
    "\n",
    "\n",
    "@functools.cache\n",
    "def get_df_test():\n",
    "    return pd.read_csv(\"data/test.csv\")\n",
    "\n",
    "\n",
    "def get_X_train_y_train():\n",
    "    return get_df_train().drop(\"Survived\", axis=\"columns\"), get_df_train()[[\"Survived\"]]\n",
    "\n",
    "\n",
    "def select_numeric_dtypes(df):\n",
    "    return df.select_dtypes(include=np.number)\n",
    "\n",
    "def build_predictions_df(passenger_ids, predictions):\n",
    "    return pd.DataFrame(\n",
    "        dict(Survived=predictions), index=pd.Index(passenger_ids, name=\"PassengerId\")\n",
    "    )"
   ]
  },
  {
   "cell_type": "markdown",
   "id": "b17c6709",
   "metadata": {},
   "source": [
    "## Catboost <span id=Catboost_></span>"
   ]
  },
  {
   "cell_type": "code",
   "execution_count": 2,
   "id": "3d79180d",
   "metadata": {},
   "outputs": [],
   "source": [
    "def catboost_preprocess_dataframe(df, cat_features):\n",
    "    cat_features = list(df.columns.drop([\"Age\", \"Fare\", \"Name\"]))\n",
    "    df[cat_features] = df[cat_features].astype(str)\n",
    "    return df\n",
    "\n",
    "\n",
    "def catboost_predict(verbose=100):\n",
    "    catboost_cls = catboost.CatBoostClassifier()\n",
    "    X_train, y_train = get_X_train_y_train()\n",
    "    cat_features = list(X_train.columns.drop([\"Age\", \"Fare\", \"Name\"]))\n",
    "    text_features = [\"Name\"]\n",
    "\n",
    "    catboost_cls.fit(\n",
    "        catboost_preprocess_dataframe(X_train, cat_features),\n",
    "        y_train,\n",
    "        cat_features=cat_features,\n",
    "        text_features=text_features,\n",
    "        verbose=verbose,\n",
    "    )\n",
    "\n",
    "    df_test = get_df_test()\n",
    "\n",
    "    predictions = catboost_cls.predict(\n",
    "        catboost_preprocess_dataframe(df_test, cat_features)\n",
    "    )\n",
    "\n",
    "    return build_predictions_df(df_test[\"PassengerId\"], predictions)\n",
    "\n",
    "\n",
    "def catboost_submit():\n",
    "    catboost_predict().to_csv(\"predictions.csv\")\n",
    "    kaggle_competitions_submit(COMPETITION, \"predictions.csv\", message=\"catboost\")"
   ]
  },
  {
   "cell_type": "markdown",
   "id": "9d4664f3",
   "metadata": {},
   "source": [
    "## Autosklearn <span id=Autosklearn_></span>"
   ]
  },
  {
   "cell_type": "code",
   "execution_count": 3,
   "id": "8c30f1ee",
   "metadata": {},
   "outputs": [],
   "source": [
    "def autosklearn_submit():\n",
    "    \"\"\"todo: add cat, text features\"\"\"\n",
    "    X_train, y_train = get_X_train_y_train()\n",
    "    auto_sklearn_cls = classification.AutoSklearnClassifier(memory_limit=20_000)\n",
    "    auto_sklearn_cls.fit(\n",
    "        select_numeric_dtypes(X_train).values,\n",
    "        select_numeric_dtypes(y_train).values,\n",
    "    )\n",
    "\n",
    "    predictions = auto_sklearn_cls.predict(select_numeric_dtypes(df_test).values)\n",
    "\n",
    "    build_predictions_df(df_test[\"PassengerId\"], predictions).to_csv(\"predictions.csv\")\n",
    "    kaggle_competitions_submit(\n",
    "        COMPETITION, \"predictions.csv\", message=\"'autosklearn only numeric features'\"\n",
    "    )"
   ]
  },
  {
   "cell_type": "code",
   "execution_count": 47,
   "id": "1ffec647",
   "metadata": {},
   "outputs": [
    {
     "name": "stdout",
     "output_type": "stream",
     "text": [
      "Learning rate set to 0.009807\n",
      "0:\tlearn: 0.6868800\ttotal: 104ms\tremaining: 1m 44s\n",
      "100:\tlearn: 0.4530608\ttotal: 1.05s\tremaining: 9.39s\n",
      "200:\tlearn: 0.3909539\ttotal: 2.04s\tremaining: 8.1s\n",
      "300:\tlearn: 0.3646291\ttotal: 2.96s\tremaining: 6.87s\n",
      "400:\tlearn: 0.3501591\ttotal: 3.78s\tremaining: 5.64s\n",
      "500:\tlearn: 0.3381096\ttotal: 4.59s\tremaining: 4.58s\n",
      "600:\tlearn: 0.3283102\ttotal: 5.46s\tremaining: 3.62s\n",
      "700:\tlearn: 0.3170069\ttotal: 6.43s\tremaining: 2.74s\n",
      "800:\tlearn: 0.3080718\ttotal: 7.35s\tremaining: 1.82s\n",
      "900:\tlearn: 0.2980580\ttotal: 8.38s\tremaining: 921ms\n",
      "999:\tlearn: 0.2887910\ttotal: 9.43s\tremaining: 0us\n"
     ]
    },
    {
     "data": {
      "application/javascript": [
       "\n",
       "            setTimeout(function() {\n",
       "                var nbb_cell_id = 47;\n",
       "                var nbb_unformatted_code = \"catboost_submit()\";\n",
       "                var nbb_formatted_code = \"catboost_submit()\";\n",
       "                var nbb_cells = Jupyter.notebook.get_cells();\n",
       "                for (var i = 0; i < nbb_cells.length; ++i) {\n",
       "                    if (nbb_cells[i].input_prompt_number == nbb_cell_id) {\n",
       "                        if (nbb_cells[i].get_text() == nbb_unformatted_code) {\n",
       "                             nbb_cells[i].set_text(nbb_formatted_code);\n",
       "                        }\n",
       "                        break;\n",
       "                    }\n",
       "                }\n",
       "            }, 500);\n",
       "            "
      ],
      "text/plain": [
       "<IPython.core.display.Javascript object>"
      ]
     },
     "metadata": {},
     "output_type": "display_data"
    }
   ],
   "source": [
    "catboost_submit()"
   ]
  },
  {
   "cell_type": "code",
   "execution_count": 49,
   "id": "40c80e51",
   "metadata": {},
   "outputs": [
    {
     "name": "stdout",
     "output_type": "stream",
     "text": [
      "[ERROR] [2023-03-28 15:26:24,088:Client-AutoML(1):e5569b63-cd7c-11ed-90d9-33a86f954b57] (\" Dummy prediction failed with run state StatusType.MEMOUT and additional output: {'error': 'Memout (used more than 20000 MB).', 'configuration_origin': 'DUMMY'}.\",)\n",
      "[ERROR] [2023-03-28 15:26:24,088:Client-AutoML(1):e5569b63-cd7c-11ed-90d9-33a86f954b57] (\" Dummy prediction failed with run state StatusType.MEMOUT and additional output: {'error': 'Memout (used more than 20000 MB).', 'configuration_origin': 'DUMMY'}.\",)\n",
      "Traceback (most recent call last):\n",
      "  File \"/home/dkkoshman/YSDA/python3.10/lib/python3.10/site-packages/autosklearn/automl.py\", line 765, in fit\n",
      "    self._do_dummy_prediction()\n",
      "  File \"/home/dkkoshman/YSDA/python3.10/lib/python3.10/site-packages/autosklearn/automl.py\", line 489, in _do_dummy_prediction\n",
      "    raise ValueError(msg)\n",
      "ValueError: (\" Dummy prediction failed with run state StatusType.MEMOUT and additional output: {'error': 'Memout (used more than 20000 MB).', 'configuration_origin': 'DUMMY'}.\",)\n"
     ]
    },
    {
     "ename": "ValueError",
     "evalue": "(\" Dummy prediction failed with run state StatusType.MEMOUT and additional output: {'error': 'Memout (used more than 20000 MB).', 'configuration_origin': 'DUMMY'}.\",)",
     "output_type": "error",
     "traceback": [
      "\u001b[0;31m---------------------------------------------------------------------------\u001b[0m",
      "\u001b[0;31mValueError\u001b[0m                                Traceback (most recent call last)",
      "Cell \u001b[0;32mIn[49], line 1\u001b[0m\n\u001b[0;32m----> 1\u001b[0m \u001b[43mautosklearn_submit\u001b[49m\u001b[43m(\u001b[49m\u001b[43m)\u001b[49m\n",
      "Cell \u001b[0;32mIn[48], line 4\u001b[0m, in \u001b[0;36mautosklearn_submit\u001b[0;34m()\u001b[0m\n\u001b[1;32m      2\u001b[0m     X_train, y_train \u001b[38;5;241m=\u001b[39m get_X_train_y_train()\n\u001b[1;32m      3\u001b[0m     auto_sklearn_cls \u001b[38;5;241m=\u001b[39m classification\u001b[38;5;241m.\u001b[39mAutoSklearnClassifier(memory_limit\u001b[38;5;241m=\u001b[39m\u001b[38;5;241m20_000\u001b[39m)\n\u001b[0;32m----> 4\u001b[0m     \u001b[43mauto_sklearn_cls\u001b[49m\u001b[38;5;241;43m.\u001b[39;49m\u001b[43mfit\u001b[49m\u001b[43m(\u001b[49m\n\u001b[1;32m      5\u001b[0m \u001b[43m    \u001b[49m\u001b[43mselect_numeric_dtypes\u001b[49m\u001b[43m(\u001b[49m\u001b[43mX_train\u001b[49m\u001b[43m)\u001b[49m\u001b[38;5;241;43m.\u001b[39;49m\u001b[43mvalues\u001b[49m\u001b[43m,\u001b[49m\n\u001b[1;32m      6\u001b[0m \u001b[43m    \u001b[49m\u001b[43mselect_numeric_dtypes\u001b[49m\u001b[43m(\u001b[49m\u001b[43my_train\u001b[49m\u001b[43m)\u001b[49m\u001b[38;5;241;43m.\u001b[39;49m\u001b[43mvalues\u001b[49m\u001b[43m,\u001b[49m\n\u001b[1;32m      7\u001b[0m \u001b[43m)\u001b[49m\n\u001b[1;32m      9\u001b[0m     predictions \u001b[38;5;241m=\u001b[39m auto_sklearn_cls\u001b[38;5;241m.\u001b[39mpredict(select_numeric_dtypes(df_test)\u001b[38;5;241m.\u001b[39mvalues)\n\u001b[1;32m     11\u001b[0m     predictions_df \u001b[38;5;241m=\u001b[39m build_predictions_df(df_test[\u001b[38;5;124m\"\u001b[39m\u001b[38;5;124mPassengerId\u001b[39m\u001b[38;5;124m\"\u001b[39m], predictions)\n",
      "File \u001b[0;32m~/YSDA/python3.10/lib/python3.10/site-packages/autosklearn/estimators.py:1448\u001b[0m, in \u001b[0;36mAutoSklearnClassifier.fit\u001b[0;34m(self, X, y, X_test, y_test, feat_type, dataset_name)\u001b[0m\n\u001b[1;32m   1445\u001b[0m \u001b[38;5;66;03m# remember target type for using in predict_proba later.\u001b[39;00m\n\u001b[1;32m   1446\u001b[0m \u001b[38;5;28mself\u001b[39m\u001b[38;5;241m.\u001b[39mtarget_type \u001b[38;5;241m=\u001b[39m target_type\n\u001b[0;32m-> 1448\u001b[0m \u001b[38;5;28;43msuper\u001b[39;49m\u001b[43m(\u001b[49m\u001b[43m)\u001b[49m\u001b[38;5;241;43m.\u001b[39;49m\u001b[43mfit\u001b[49m\u001b[43m(\u001b[49m\n\u001b[1;32m   1449\u001b[0m \u001b[43m    \u001b[49m\u001b[43mX\u001b[49m\u001b[38;5;241;43m=\u001b[39;49m\u001b[43mX\u001b[49m\u001b[43m,\u001b[49m\n\u001b[1;32m   1450\u001b[0m \u001b[43m    \u001b[49m\u001b[43my\u001b[49m\u001b[38;5;241;43m=\u001b[39;49m\u001b[43my\u001b[49m\u001b[43m,\u001b[49m\n\u001b[1;32m   1451\u001b[0m \u001b[43m    \u001b[49m\u001b[43mX_test\u001b[49m\u001b[38;5;241;43m=\u001b[39;49m\u001b[43mX_test\u001b[49m\u001b[43m,\u001b[49m\n\u001b[1;32m   1452\u001b[0m \u001b[43m    \u001b[49m\u001b[43my_test\u001b[49m\u001b[38;5;241;43m=\u001b[39;49m\u001b[43my_test\u001b[49m\u001b[43m,\u001b[49m\n\u001b[1;32m   1453\u001b[0m \u001b[43m    \u001b[49m\u001b[43mfeat_type\u001b[49m\u001b[38;5;241;43m=\u001b[39;49m\u001b[43mfeat_type\u001b[49m\u001b[43m,\u001b[49m\n\u001b[1;32m   1454\u001b[0m \u001b[43m    \u001b[49m\u001b[43mdataset_name\u001b[49m\u001b[38;5;241;43m=\u001b[39;49m\u001b[43mdataset_name\u001b[49m\u001b[43m,\u001b[49m\n\u001b[1;32m   1455\u001b[0m \u001b[43m\u001b[49m\u001b[43m)\u001b[49m\n\u001b[1;32m   1457\u001b[0m \u001b[38;5;66;03m# After fit, a classifier is expected to define classes_\u001b[39;00m\n\u001b[1;32m   1458\u001b[0m \u001b[38;5;66;03m# A list of class labels known to the classifier, mapping each label\u001b[39;00m\n\u001b[1;32m   1459\u001b[0m \u001b[38;5;66;03m# to a numerical index used in the model representation our output.\u001b[39;00m\n\u001b[1;32m   1460\u001b[0m \u001b[38;5;28mself\u001b[39m\u001b[38;5;241m.\u001b[39mclasses_ \u001b[38;5;241m=\u001b[39m \u001b[38;5;28mself\u001b[39m\u001b[38;5;241m.\u001b[39mautoml_\u001b[38;5;241m.\u001b[39mInputValidator\u001b[38;5;241m.\u001b[39mtarget_validator\u001b[38;5;241m.\u001b[39mclasses_\n",
      "File \u001b[0;32m~/YSDA/python3.10/lib/python3.10/site-packages/autosklearn/estimators.py:540\u001b[0m, in \u001b[0;36mAutoSklearnEstimator.fit\u001b[0;34m(self, **kwargs)\u001b[0m\n\u001b[1;32m    538\u001b[0m \u001b[38;5;28;01mif\u001b[39;00m \u001b[38;5;28mself\u001b[39m\u001b[38;5;241m.\u001b[39mautoml_ \u001b[38;5;129;01mis\u001b[39;00m \u001b[38;5;28;01mNone\u001b[39;00m:\n\u001b[1;32m    539\u001b[0m     \u001b[38;5;28mself\u001b[39m\u001b[38;5;241m.\u001b[39mautoml_ \u001b[38;5;241m=\u001b[39m \u001b[38;5;28mself\u001b[39m\u001b[38;5;241m.\u001b[39mbuild_automl()\n\u001b[0;32m--> 540\u001b[0m \u001b[38;5;28;43mself\u001b[39;49m\u001b[38;5;241;43m.\u001b[39;49m\u001b[43mautoml_\u001b[49m\u001b[38;5;241;43m.\u001b[39;49m\u001b[43mfit\u001b[49m\u001b[43m(\u001b[49m\u001b[43mload_models\u001b[49m\u001b[38;5;241;43m=\u001b[39;49m\u001b[38;5;28;43mself\u001b[39;49m\u001b[38;5;241;43m.\u001b[39;49m\u001b[43mload_models\u001b[49m\u001b[43m,\u001b[49m\u001b[43m \u001b[49m\u001b[38;5;241;43m*\u001b[39;49m\u001b[38;5;241;43m*\u001b[39;49m\u001b[43mkwargs\u001b[49m\u001b[43m)\u001b[49m\n\u001b[1;32m    542\u001b[0m \u001b[38;5;28;01mreturn\u001b[39;00m \u001b[38;5;28mself\u001b[39m\n",
      "File \u001b[0;32m~/YSDA/python3.10/lib/python3.10/site-packages/autosklearn/automl.py:2304\u001b[0m, in \u001b[0;36mAutoMLClassifier.fit\u001b[0;34m(self, X, y, X_test, y_test, feat_type, dataset_name, only_return_configuration_space, load_models)\u001b[0m\n\u001b[1;32m   2293\u001b[0m \u001b[38;5;28;01mdef\u001b[39;00m \u001b[38;5;21mfit\u001b[39m(\n\u001b[1;32m   2294\u001b[0m     \u001b[38;5;28mself\u001b[39m,\n\u001b[1;32m   2295\u001b[0m     X: SUPPORTED_FEAT_TYPES,\n\u001b[0;32m   (...)\u001b[0m\n\u001b[1;32m   2302\u001b[0m     load_models: \u001b[38;5;28mbool\u001b[39m \u001b[38;5;241m=\u001b[39m \u001b[38;5;28;01mTrue\u001b[39;00m,\n\u001b[1;32m   2303\u001b[0m ) \u001b[38;5;241m-\u001b[39m\u001b[38;5;241m>\u001b[39m AutoMLClassifier:\n\u001b[0;32m-> 2304\u001b[0m     \u001b[38;5;28;01mreturn\u001b[39;00m \u001b[38;5;28;43msuper\u001b[39;49m\u001b[43m(\u001b[49m\u001b[43m)\u001b[49m\u001b[38;5;241;43m.\u001b[39;49m\u001b[43mfit\u001b[49m\u001b[43m(\u001b[49m\n\u001b[1;32m   2305\u001b[0m \u001b[43m        \u001b[49m\u001b[43mX\u001b[49m\u001b[43m,\u001b[49m\n\u001b[1;32m   2306\u001b[0m \u001b[43m        \u001b[49m\u001b[43my\u001b[49m\u001b[43m,\u001b[49m\n\u001b[1;32m   2307\u001b[0m \u001b[43m        \u001b[49m\u001b[43mX_test\u001b[49m\u001b[38;5;241;43m=\u001b[39;49m\u001b[43mX_test\u001b[49m\u001b[43m,\u001b[49m\n\u001b[1;32m   2308\u001b[0m \u001b[43m        \u001b[49m\u001b[43my_test\u001b[49m\u001b[38;5;241;43m=\u001b[39;49m\u001b[43my_test\u001b[49m\u001b[43m,\u001b[49m\n\u001b[1;32m   2309\u001b[0m \u001b[43m        \u001b[49m\u001b[43mfeat_type\u001b[49m\u001b[38;5;241;43m=\u001b[39;49m\u001b[43mfeat_type\u001b[49m\u001b[43m,\u001b[49m\n\u001b[1;32m   2310\u001b[0m \u001b[43m        \u001b[49m\u001b[43mdataset_name\u001b[49m\u001b[38;5;241;43m=\u001b[39;49m\u001b[43mdataset_name\u001b[49m\u001b[43m,\u001b[49m\n\u001b[1;32m   2311\u001b[0m \u001b[43m        \u001b[49m\u001b[43monly_return_configuration_space\u001b[49m\u001b[38;5;241;43m=\u001b[39;49m\u001b[43monly_return_configuration_space\u001b[49m\u001b[43m,\u001b[49m\n\u001b[1;32m   2312\u001b[0m \u001b[43m        \u001b[49m\u001b[43mload_models\u001b[49m\u001b[38;5;241;43m=\u001b[39;49m\u001b[43mload_models\u001b[49m\u001b[43m,\u001b[49m\n\u001b[1;32m   2313\u001b[0m \u001b[43m        \u001b[49m\u001b[43mis_classification\u001b[49m\u001b[38;5;241;43m=\u001b[39;49m\u001b[38;5;28;43;01mTrue\u001b[39;49;00m\u001b[43m,\u001b[49m\n\u001b[1;32m   2314\u001b[0m \u001b[43m    \u001b[49m\u001b[43m)\u001b[49m\n",
      "File \u001b[0;32m~/YSDA/python3.10/lib/python3.10/site-packages/autosklearn/automl.py:962\u001b[0m, in \u001b[0;36mAutoML.fit\u001b[0;34m(self, X, y, task, X_test, y_test, feat_type, dataset_name, only_return_configuration_space, load_models, is_classification)\u001b[0m\n\u001b[1;32m    959\u001b[0m \u001b[38;5;28;01mexcept\u001b[39;00m \u001b[38;5;167;01mException\u001b[39;00m \u001b[38;5;28;01mas\u001b[39;00m e:\n\u001b[1;32m    960\u001b[0m     \u001b[38;5;66;03m# This will be called before the _fit_cleanup\u001b[39;00m\n\u001b[1;32m    961\u001b[0m     \u001b[38;5;28mself\u001b[39m\u001b[38;5;241m.\u001b[39m_logger\u001b[38;5;241m.\u001b[39mexception(e)\n\u001b[0;32m--> 962\u001b[0m     \u001b[38;5;28;01mraise\u001b[39;00m e\n\u001b[1;32m    963\u001b[0m \u001b[38;5;28;01mfinally\u001b[39;00m:\n\u001b[1;32m    964\u001b[0m     \u001b[38;5;28mself\u001b[39m\u001b[38;5;241m.\u001b[39m_fit_cleanup()\n",
      "File \u001b[0;32m~/YSDA/python3.10/lib/python3.10/site-packages/autosklearn/automl.py:765\u001b[0m, in \u001b[0;36mAutoML.fit\u001b[0;34m(self, X, y, task, X_test, y_test, feat_type, dataset_name, only_return_configuration_space, load_models, is_classification)\u001b[0m\n\u001b[1;32m    763\u001b[0m \u001b[38;5;28;01mwith\u001b[39;00m \u001b[38;5;28mself\u001b[39m\u001b[38;5;241m.\u001b[39m_stopwatch\u001b[38;5;241m.\u001b[39mtime(\u001b[38;5;124m\"\u001b[39m\u001b[38;5;124mDummy predictions\u001b[39m\u001b[38;5;124m\"\u001b[39m):\n\u001b[1;32m    764\u001b[0m     \u001b[38;5;28mself\u001b[39m\u001b[38;5;241m.\u001b[39mnum_run \u001b[38;5;241m+\u001b[39m\u001b[38;5;241m=\u001b[39m \u001b[38;5;241m1\u001b[39m\n\u001b[0;32m--> 765\u001b[0m     \u001b[38;5;28;43mself\u001b[39;49m\u001b[38;5;241;43m.\u001b[39;49m\u001b[43m_do_dummy_prediction\u001b[49m\u001b[43m(\u001b[49m\u001b[43m)\u001b[49m\n\u001b[1;32m    767\u001b[0m \u001b[38;5;66;03m# == RUN ensemble builder\u001b[39;00m\n\u001b[1;32m    768\u001b[0m \u001b[38;5;66;03m# Do this before calculating the meta-features to make sure that the\u001b[39;00m\n\u001b[1;32m    769\u001b[0m \u001b[38;5;66;03m# dummy predictions are actually included in the ensemble even if\u001b[39;00m\n\u001b[1;32m    770\u001b[0m \u001b[38;5;66;03m# calculating the meta-features takes very long\u001b[39;00m\n\u001b[1;32m    771\u001b[0m \u001b[38;5;28;01mwith\u001b[39;00m \u001b[38;5;28mself\u001b[39m\u001b[38;5;241m.\u001b[39m_stopwatch\u001b[38;5;241m.\u001b[39mtime(\u001b[38;5;124m\"\u001b[39m\u001b[38;5;124mRun Ensemble Builder\u001b[39m\u001b[38;5;124m\"\u001b[39m):\n",
      "File \u001b[0;32m~/YSDA/python3.10/lib/python3.10/site-packages/autosklearn/automl.py:489\u001b[0m, in \u001b[0;36mAutoML._do_dummy_prediction\u001b[0;34m(self)\u001b[0m\n\u001b[1;32m    483\u001b[0m         msg \u001b[38;5;241m=\u001b[39m (\n\u001b[1;32m    484\u001b[0m             \u001b[38;5;124mf\u001b[39m\u001b[38;5;124m\"\u001b[39m\u001b[38;5;124m Dummy prediction failed with run state \u001b[39m\u001b[38;5;132;01m{\u001b[39;00mstatus\u001b[38;5;132;01m}\u001b[39;00m\u001b[38;5;124m and\u001b[39m\u001b[38;5;124m\"\u001b[39m\n\u001b[1;32m    485\u001b[0m             \u001b[38;5;124mf\u001b[39m\u001b[38;5;124m\"\u001b[39m\u001b[38;5;124m additional output: \u001b[39m\u001b[38;5;132;01m{\u001b[39;00madditional_info\u001b[38;5;132;01m}\u001b[39;00m\u001b[38;5;124m.\u001b[39m\u001b[38;5;124m\"\u001b[39m,\n\u001b[1;32m    486\u001b[0m         )\n\u001b[1;32m    488\u001b[0m     \u001b[38;5;28mself\u001b[39m\u001b[38;5;241m.\u001b[39m_logger\u001b[38;5;241m.\u001b[39merror(msg)\n\u001b[0;32m--> 489\u001b[0m     \u001b[38;5;28;01mraise\u001b[39;00m \u001b[38;5;167;01mValueError\u001b[39;00m(msg)\n\u001b[1;32m    491\u001b[0m \u001b[38;5;28;01mreturn\u001b[39;00m\n",
      "\u001b[0;31mValueError\u001b[0m: (\" Dummy prediction failed with run state StatusType.MEMOUT and additional output: {'error': 'Memout (used more than 20000 MB).', 'configuration_origin': 'DUMMY'}.\",)"
     ]
    },
    {
     "data": {
      "application/javascript": [
       "\n",
       "            setTimeout(function() {\n",
       "                var nbb_cell_id = 49;\n",
       "                var nbb_unformatted_code = \"autosklearn_submit()\";\n",
       "                var nbb_formatted_code = \"autosklearn_submit()\";\n",
       "                var nbb_cells = Jupyter.notebook.get_cells();\n",
       "                for (var i = 0; i < nbb_cells.length; ++i) {\n",
       "                    if (nbb_cells[i].input_prompt_number == nbb_cell_id) {\n",
       "                        if (nbb_cells[i].get_text() == nbb_unformatted_code) {\n",
       "                             nbb_cells[i].set_text(nbb_formatted_code);\n",
       "                        }\n",
       "                        break;\n",
       "                    }\n",
       "                }\n",
       "            }, 500);\n",
       "            "
      ],
      "text/plain": [
       "<IPython.core.display.Javascript object>"
      ]
     },
     "metadata": {},
     "output_type": "display_data"
    }
   ],
   "source": [
    "autosklearn_submit()"
   ]
  },
  {
   "cell_type": "code",
   "execution_count": 8,
   "id": "f825e7b5",
   "metadata": {},
   "outputs": [
    {
     "name": "stdout",
     "output_type": "stream",
     "text": [
      "fileName         date                 description                        status    publicScore  privateScore  \r\n",
      "---------------  -------------------  ---------------------------------  --------  -----------  ------------  \r\n",
      "predictions.csv  2023-03-28 15:18:17  autosklearn only numeric features  complete  0.67703                    \r\n",
      "predictions.csv  2023-03-28 14:59:39  catboost                           complete  0.79186                    \r\n",
      "predictions.csv  2023-03-28 14:48:47  catboost                           complete  0.79186                    \r\n",
      "predictions.csv  2023-03-28 14:42:26  submit                             complete  0.78947                    \r\n"
     ]
    },
    {
     "data": {
      "application/javascript": [
       "\n",
       "            setTimeout(function() {\n",
       "                var nbb_cell_id = 8;\n",
       "                var nbb_unformatted_code = \"kaggle_competitions_submissions(COMPETITION)\";\n",
       "                var nbb_formatted_code = \"kaggle_competitions_submissions(COMPETITION)\";\n",
       "                var nbb_cells = Jupyter.notebook.get_cells();\n",
       "                for (var i = 0; i < nbb_cells.length; ++i) {\n",
       "                    if (nbb_cells[i].input_prompt_number == nbb_cell_id) {\n",
       "                        if (nbb_cells[i].get_text() == nbb_unformatted_code) {\n",
       "                             nbb_cells[i].set_text(nbb_formatted_code);\n",
       "                        }\n",
       "                        break;\n",
       "                    }\n",
       "                }\n",
       "            }, 500);\n",
       "            "
      ],
      "text/plain": [
       "<IPython.core.display.Javascript object>"
      ]
     },
     "metadata": {},
     "output_type": "display_data"
    }
   ],
   "source": [
    "kaggle_competitions_submissions(COMPETITION)"
   ]
  }
 ],
 "metadata": {
  "kernelspec": {
   "display_name": "Python 3 (ipykernel)",
   "language": "python",
   "name": "python3"
  },
  "language_info": {
   "codemirror_mode": {
    "name": "ipython",
    "version": 3
   },
   "file_extension": ".py",
   "mimetype": "text/x-python",
   "name": "python",
   "nbconvert_exporter": "python",
   "pygments_lexer": "ipython3",
   "version": "3.10.7"
  }
 },
 "nbformat": 4,
 "nbformat_minor": 5
}
