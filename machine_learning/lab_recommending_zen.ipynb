{
 "cells": [
  {
   "cell_type": "markdown",
   "id": "ff7a35e7",
   "metadata": {},
   "source": [
    "## [Research](#Research_)\n",
    "## [Imports](#Imports_)\n",
    "## [Globals](#Globals_)\n",
    "## [Utils](#Utils_)\n",
    "## [Setup](#Setup_)\n",
    "## [Часть 1. Нейросетевые рекомендации](#Часть_1._Нейросетевые_рекомендации_)"
   ]
  },
  {
   "cell_type": "markdown",
   "id": "e9fac4ef",
   "metadata": {},
   "source": [
    "## Research <span id=Research_></span>\n",
    "- [DSSM](https://posenhuang.github.io/papers/cikm2013_DSSM_fullversion.pdf)\n",
    "- [BPE](https://paperswithcode.com/method/bpe)"
   ]
  },
  {
   "cell_type": "markdown",
   "id": "1cb7906c",
   "metadata": {},
   "source": [
    "## Imports <span id=Imports_></span>"
   ]
  },
  {
   "cell_type": "code",
   "execution_count": 178,
   "id": "9dc4b0c2",
   "metadata": {
    "ExecuteTime": {
     "end_time": "2023-05-20T15:52:26.309020Z",
     "start_time": "2023-05-20T15:52:25.719978Z"
    }
   },
   "outputs": [
    {
     "name": "stdout",
     "output_type": "stream",
     "text": [
      "The nb_black extension is already loaded. To reload it, use:\n",
      "  %reload_ext nb_black\n"
     ]
    },
    {
     "data": {
      "application/javascript": [
       "\n",
       "            setTimeout(function() {\n",
       "                var nbb_cell_id = 178;\n",
       "                var nbb_unformatted_code = \"%load_ext nb_black\\n\\nimport collections\\nimport dataclasses\\nimport einops\\nimport functools\\nimport glob\\nimport itertools\\nimport matplotlib.pyplot as plt\\nimport numpy as np\\nimport os\\nimport pandas as pd\\nimport pprint\\nimport reprlib\\nimport requests\\nimport scipy\\nimport seaborn as sns\\nimport sklearn\\nimport sklearn.preprocessing\\nimport sys\\nimport torch\\nimport torch.nn.functional as F\\nimport types\\nfrom typing import Callable, Literal, TypeVar\\nfrom tqdm.auto import tqdm\\nimport urllib\\nimport wandb\\nimport youtokentome\";\n",
       "                var nbb_formatted_code = \"%load_ext nb_black\\n\\nimport collections\\nimport dataclasses\\nimport einops\\nimport functools\\nimport glob\\nimport itertools\\nimport matplotlib.pyplot as plt\\nimport numpy as np\\nimport os\\nimport pandas as pd\\nimport pprint\\nimport reprlib\\nimport requests\\nimport scipy\\nimport seaborn as sns\\nimport sklearn\\nimport sklearn.preprocessing\\nimport sys\\nimport torch\\nimport torch.nn.functional as F\\nimport types\\nfrom typing import Callable, Literal, TypeVar\\nfrom tqdm.auto import tqdm\\nimport urllib\\nimport wandb\\nimport youtokentome\";\n",
       "                var nbb_cells = Jupyter.notebook.get_cells();\n",
       "                for (var i = 0; i < nbb_cells.length; ++i) {\n",
       "                    if (nbb_cells[i].input_prompt_number == nbb_cell_id) {\n",
       "                        if (nbb_cells[i].get_text() == nbb_unformatted_code) {\n",
       "                             nbb_cells[i].set_text(nbb_formatted_code);\n",
       "                        }\n",
       "                        break;\n",
       "                    }\n",
       "                }\n",
       "            }, 500);\n",
       "            "
      ],
      "text/plain": [
       "<IPython.core.display.Javascript object>"
      ]
     },
     "metadata": {},
     "output_type": "display_data"
    }
   ],
   "source": [
    "%load_ext nb_black\n",
    "\n",
    "import collections\n",
    "import dataclasses\n",
    "import einops\n",
    "import functools\n",
    "import glob\n",
    "import itertools\n",
    "import matplotlib.pyplot as plt\n",
    "import numpy as np\n",
    "import os\n",
    "import pandas as pd\n",
    "import pprint\n",
    "import reprlib\n",
    "import requests\n",
    "import scipy\n",
    "import seaborn as sns\n",
    "import sklearn\n",
    "import sklearn.preprocessing\n",
    "import sys\n",
    "import torch\n",
    "import torch.nn.functional as F\n",
    "import types\n",
    "from typing import Callable, Literal, TypeVar\n",
    "from tqdm.auto import tqdm\n",
    "import urllib\n",
    "import wandb\n",
    "import youtokentome"
   ]
  },
  {
   "cell_type": "markdown",
   "id": "7f9d8f07",
   "metadata": {},
   "source": [
    "## Globals <span id=Globals_></span>"
   ]
  },
  {
   "cell_type": "code",
   "execution_count": 5,
   "id": "59260eb2",
   "metadata": {
    "ExecuteTime": {
     "end_time": "2023-05-20T14:38:39.401820Z",
     "start_time": "2023-05-20T14:38:39.399120Z"
    }
   },
   "outputs": [
    {
     "data": {
      "application/javascript": [
       "\n",
       "            setTimeout(function() {\n",
       "                var nbb_cell_id = 5;\n",
       "                var nbb_unformatted_code = \"CONFIG = types.SimpleNamespace()\\n\\nDATA = types.SimpleNamespace()\\n\\nMODEL = types.SimpleNamespace()\";\n",
       "                var nbb_formatted_code = \"CONFIG = types.SimpleNamespace()\\n\\nDATA = types.SimpleNamespace()\\n\\nMODEL = types.SimpleNamespace()\";\n",
       "                var nbb_cells = Jupyter.notebook.get_cells();\n",
       "                for (var i = 0; i < nbb_cells.length; ++i) {\n",
       "                    if (nbb_cells[i].input_prompt_number == nbb_cell_id) {\n",
       "                        if (nbb_cells[i].get_text() == nbb_unformatted_code) {\n",
       "                             nbb_cells[i].set_text(nbb_formatted_code);\n",
       "                        }\n",
       "                        break;\n",
       "                    }\n",
       "                }\n",
       "            }, 500);\n",
       "            "
      ],
      "text/plain": [
       "<IPython.core.display.Javascript object>"
      ]
     },
     "metadata": {},
     "output_type": "display_data"
    }
   ],
   "source": [
    "CONFIG = types.SimpleNamespace()\n",
    "\n",
    "DATA = types.SimpleNamespace()\n",
    "\n",
    "MODEL = types.SimpleNamespace()"
   ]
  },
  {
   "cell_type": "markdown",
   "id": "d49589a3",
   "metadata": {},
   "source": [
    "## Utils <span id=Utils_></span>"
   ]
  },
  {
   "cell_type": "code",
   "execution_count": 149,
   "id": "a008dd16",
   "metadata": {
    "ExecuteTime": {
     "end_time": "2023-05-20T15:41:02.807064Z",
     "start_time": "2023-05-20T15:41:02.743292Z"
    }
   },
   "outputs": [
    {
     "data": {
      "application/javascript": [
       "\n",
       "            setTimeout(function() {\n",
       "                var nbb_cell_id = 149;\n",
       "                var nbb_unformatted_code = \"def make_new_markdown_section_with_link(section, header_size: int = 2, do_print=True):\\n    header = \\\"#\\\" * header_size\\n    section_id = section.replace(\\\" \\\", \\\"_\\\") + \\\"_\\\"\\n    section_link = f\\\"{header} [{section}](#{section_id})\\\"\\n    section_header = f\\\"{header} {section} <span id={section_id}></span>\\\"\\n    if do_print:\\n        print(section_link + \\\"\\\\n\\\" + section_header)\\n    return section_link, section_header\\n\\n\\ndef get_yadisk_download_url(\\n    yadisk_url: str,\\n    base_url=\\\"https://cloud-api.yandex.net/v1/disk/public/resources/download?\\\",\\n) -> str:\\n    final_url = base_url + urllib.parse.urlencode(dict(public_key=yadisk_url))\\n    response = requests.get(final_url)\\n    download_url = response.json()[\\\"href\\\"]\\n    return download_url\\n\\n\\ndef write_url_response_content_to_file(url: str, filename: str) -> None:\\n    download_response = requests.get(url)\\n    with open(filename, \\\"wb\\\") as f:\\n        f.write(download_response.content)\\n\\n\\ndef write_yadisk_url_content_to_file(yadisk_url) -> str:\\n    url = get_yadisk_download_url(yadisk_url=yadisk_url)\\n    filename = urllib.parse.parse_qs(url)[\\\"filename\\\"][0]\\n    write_url_response_content_to_file(\\n        url=url,\\n        filename=filename,\\n    )\\n    return filename\\n\\n\\ndef unzip(zip_path: str, save_path=None, delete_zip=False):\\n    !unzip {zip_path} {\\\"-d \\\" + save_path if save_path else \\\"\\\"}\\n\\n    if delete_zip:\\n        for path in glob.glob(zip_path):\\n            if path.endswith(\\\".zip\\\"):\\n                !trash {path}\\n\\n\\ndef tar(tar_archive: str, save_directory=None, delete_archive=False):\\n    !tar -xvf {tar_archive} {\\\"--directory \\\" + save_directory if save_directory else \\\"\\\"}\\n\\n    if delete_archive:\\n        !trash {tar_archive}\\n        \\ndef path_to_dict(path, print_only_last_dirname=False):\\n    dirpath, dirnames, filenames = next(os.walk(path))\\n    path_contents = filenames\\n\\n    for dirname in dirnames:\\n        full_dirname = os.path.join(path, dirname)\\n        path_contents.append(path_to_dict(full_dirname, print_only_last_dirname=True))\\n\\n    if print_only_last_dirname:\\n        path = os.path.split(path)[-1]\\n\\n    return {path: path_contents}\\n\\n\\ndef pprint_path_contents(path):\\n    path_dict = path_to_dict(path)\\n    short_path_repr = reprlib.repr(path_dict)\\n    short_path_dict = eval(short_path_repr)\\n    string = pprint.pformat(short_path_dict).replace(\\\"Ellipsis\\\", \\\"...\\\")\\n    print(string)\";\n",
       "                var nbb_formatted_code = \"def make_new_markdown_section_with_link(section, header_size: int = 2, do_print=True):\\n    header = \\\"#\\\" * header_size\\n    section_id = section.replace(\\\" \\\", \\\"_\\\") + \\\"_\\\"\\n    section_link = f\\\"{header} [{section}](#{section_id})\\\"\\n    section_header = f\\\"{header} {section} <span id={section_id}></span>\\\"\\n    if do_print:\\n        print(section_link + \\\"\\\\n\\\" + section_header)\\n    return section_link, section_header\\n\\n\\ndef get_yadisk_download_url(\\n    yadisk_url: str,\\n    base_url=\\\"https://cloud-api.yandex.net/v1/disk/public/resources/download?\\\",\\n) -> str:\\n    final_url = base_url + urllib.parse.urlencode(dict(public_key=yadisk_url))\\n    response = requests.get(final_url)\\n    download_url = response.json()[\\\"href\\\"]\\n    return download_url\\n\\n\\ndef write_url_response_content_to_file(url: str, filename: str) -> None:\\n    download_response = requests.get(url)\\n    with open(filename, \\\"wb\\\") as f:\\n        f.write(download_response.content)\\n\\n\\ndef write_yadisk_url_content_to_file(yadisk_url) -> str:\\n    url = get_yadisk_download_url(yadisk_url=yadisk_url)\\n    filename = urllib.parse.parse_qs(url)[\\\"filename\\\"][0]\\n    write_url_response_content_to_file(\\n        url=url,\\n        filename=filename,\\n    )\\n    return filename\\n\\n\\ndef unzip(zip_path: str, save_path=None, delete_zip=False):\\n    !unzip {zip_path} {\\\"-d \\\" + save_path if save_path else \\\"\\\"}\\n\\n    if delete_zip:\\n        for path in glob.glob(zip_path):\\n            if path.endswith(\\\".zip\\\"):\\n                !trash {path}\\n\\n\\ndef tar(tar_archive: str, save_directory=None, delete_archive=False):\\n    !tar -xvf {tar_archive} {\\\"--directory \\\" + save_directory if save_directory else \\\"\\\"}\\n\\n    if delete_archive:\\n        !trash {tar_archive}\\n\\n\\ndef path_to_dict(path, print_only_last_dirname=False):\\n    dirpath, dirnames, filenames = next(os.walk(path))\\n    path_contents = filenames\\n\\n    for dirname in dirnames:\\n        full_dirname = os.path.join(path, dirname)\\n        path_contents.append(path_to_dict(full_dirname, print_only_last_dirname=True))\\n\\n    if print_only_last_dirname:\\n        path = os.path.split(path)[-1]\\n\\n    return {path: path_contents}\\n\\n\\ndef pprint_path_contents(path):\\n    path_dict = path_to_dict(path)\\n    short_path_repr = reprlib.repr(path_dict)\\n    short_path_dict = eval(short_path_repr)\\n    string = pprint.pformat(short_path_dict).replace(\\\"Ellipsis\\\", \\\"...\\\")\\n    print(string)\";\n",
       "                var nbb_cells = Jupyter.notebook.get_cells();\n",
       "                for (var i = 0; i < nbb_cells.length; ++i) {\n",
       "                    if (nbb_cells[i].input_prompt_number == nbb_cell_id) {\n",
       "                        if (nbb_cells[i].get_text() == nbb_unformatted_code) {\n",
       "                             nbb_cells[i].set_text(nbb_formatted_code);\n",
       "                        }\n",
       "                        break;\n",
       "                    }\n",
       "                }\n",
       "            }, 500);\n",
       "            "
      ],
      "text/plain": [
       "<IPython.core.display.Javascript object>"
      ]
     },
     "metadata": {},
     "output_type": "display_data"
    }
   ],
   "source": [
    "def make_new_markdown_section_with_link(section, header_size: int = 2, do_print=True):\n",
    "    header = \"#\" * header_size\n",
    "    section_id = section.replace(\" \", \"_\") + \"_\"\n",
    "    section_link = f\"{header} [{section}](#{section_id})\"\n",
    "    section_header = f\"{header} {section} <span id={section_id}></span>\"\n",
    "    if do_print:\n",
    "        print(section_link + \"\\n\" + section_header)\n",
    "    return section_link, section_header\n",
    "\n",
    "\n",
    "def get_yadisk_download_url(\n",
    "    yadisk_url: str,\n",
    "    base_url=\"https://cloud-api.yandex.net/v1/disk/public/resources/download?\",\n",
    ") -> str:\n",
    "    final_url = base_url + urllib.parse.urlencode(dict(public_key=yadisk_url))\n",
    "    response = requests.get(final_url)\n",
    "    download_url = response.json()[\"href\"]\n",
    "    return download_url\n",
    "\n",
    "\n",
    "def write_url_response_content_to_file(url: str, filename: str) -> None:\n",
    "    download_response = requests.get(url)\n",
    "    with open(filename, \"wb\") as f:\n",
    "        f.write(download_response.content)\n",
    "\n",
    "\n",
    "def write_yadisk_url_content_to_file(yadisk_url) -> str:\n",
    "    url = get_yadisk_download_url(yadisk_url=yadisk_url)\n",
    "    filename = urllib.parse.parse_qs(url)[\"filename\"][0]\n",
    "    write_url_response_content_to_file(\n",
    "        url=url,\n",
    "        filename=filename,\n",
    "    )\n",
    "    return filename\n",
    "\n",
    "\n",
    "def unzip(zip_path: str, save_path=None, delete_zip=False):\n",
    "    !unzip {zip_path} {\"-d \" + save_path if save_path else \"\"}\n",
    "\n",
    "    if delete_zip:\n",
    "        for path in glob.glob(zip_path):\n",
    "            if path.endswith(\".zip\"):\n",
    "                !trash {path}\n",
    "\n",
    "\n",
    "def tar(tar_archive: str, save_directory=None, delete_archive=False):\n",
    "    !tar -xvf {tar_archive} {\"--directory \" + save_directory if save_directory else \"\"}\n",
    "\n",
    "    if delete_archive:\n",
    "        !trash {tar_archive}\n",
    "\n",
    "\n",
    "def path_to_dict(path, print_only_last_dirname=False):\n",
    "    dirpath, dirnames, filenames = next(os.walk(path))\n",
    "    path_contents = filenames\n",
    "\n",
    "    for dirname in dirnames:\n",
    "        full_dirname = os.path.join(path, dirname)\n",
    "        path_contents.append(path_to_dict(full_dirname, print_only_last_dirname=True))\n",
    "\n",
    "    if print_only_last_dirname:\n",
    "        path = os.path.split(path)[-1]\n",
    "\n",
    "    return {path: path_contents}\n",
    "\n",
    "\n",
    "def pprint_path_contents(path):\n",
    "    path_dict = path_to_dict(path)\n",
    "    short_path_repr = reprlib.repr(path_dict)\n",
    "    short_path_dict = eval(short_path_repr)\n",
    "    string = pprint.pformat(short_path_dict).replace(\"Ellipsis\", \"...\")\n",
    "    print(string)"
   ]
  },
  {
   "cell_type": "markdown",
   "id": "5ef597be",
   "metadata": {},
   "source": [
    "## Setup <span id=Setup_></span>"
   ]
  },
  {
   "cell_type": "code",
   "execution_count": 186,
   "id": "5488727c",
   "metadata": {
    "ExecuteTime": {
     "end_time": "2023-05-20T15:58:48.155690Z",
     "start_time": "2023-05-20T15:58:48.141899Z"
    }
   },
   "outputs": [
    {
     "data": {
      "application/javascript": [
       "\n",
       "            setTimeout(function() {\n",
       "                var nbb_cell_id = 186;\n",
       "                var nbb_unformatted_code = \"sns.set()\\nCONFIG.device = \\\"cuda\\\" if torch.cuda.is_available() else \\\"cpu\\\"\\nCONFIG.debug = True\";\n",
       "                var nbb_formatted_code = \"sns.set()\\nCONFIG.device = \\\"cuda\\\" if torch.cuda.is_available() else \\\"cpu\\\"\\nCONFIG.debug = True\";\n",
       "                var nbb_cells = Jupyter.notebook.get_cells();\n",
       "                for (var i = 0; i < nbb_cells.length; ++i) {\n",
       "                    if (nbb_cells[i].input_prompt_number == nbb_cell_id) {\n",
       "                        if (nbb_cells[i].get_text() == nbb_unformatted_code) {\n",
       "                             nbb_cells[i].set_text(nbb_formatted_code);\n",
       "                        }\n",
       "                        break;\n",
       "                    }\n",
       "                }\n",
       "            }, 500);\n",
       "            "
      ],
      "text/plain": [
       "<IPython.core.display.Javascript object>"
      ]
     },
     "metadata": {},
     "output_type": "display_data"
    }
   ],
   "source": [
    "sns.set()\n",
    "CONFIG.device = \"cuda\" if torch.cuda.is_available() else \"cpu\"\n",
    "CONFIG.debug = True"
   ]
  },
  {
   "cell_type": "code",
   "execution_count": 87,
   "id": "961aa2e9",
   "metadata": {
    "ExecuteTime": {
     "end_time": "2023-05-20T15:18:12.486797Z",
     "start_time": "2023-05-20T15:18:12.481377Z"
    }
   },
   "outputs": [
    {
     "data": {
      "application/javascript": [
       "\n",
       "            setTimeout(function() {\n",
       "                var nbb_cell_id = 87;\n",
       "                var nbb_unformatted_code = \"DATA.yadisk_url = \\\"https://disk.yandex.ru/d/-OigCs1K-ZaUJw\\\"\\nDATA.folder = \\\"data/lab_recommending_zen\\\"\";\n",
       "                var nbb_formatted_code = \"DATA.yadisk_url = \\\"https://disk.yandex.ru/d/-OigCs1K-ZaUJw\\\"\\nDATA.folder = \\\"data/lab_recommending_zen\\\"\";\n",
       "                var nbb_cells = Jupyter.notebook.get_cells();\n",
       "                for (var i = 0; i < nbb_cells.length; ++i) {\n",
       "                    if (nbb_cells[i].input_prompt_number == nbb_cell_id) {\n",
       "                        if (nbb_cells[i].get_text() == nbb_unformatted_code) {\n",
       "                             nbb_cells[i].set_text(nbb_formatted_code);\n",
       "                        }\n",
       "                        break;\n",
       "                    }\n",
       "                }\n",
       "            }, 500);\n",
       "            "
      ],
      "text/plain": [
       "<IPython.core.display.Javascript object>"
      ]
     },
     "metadata": {},
     "output_type": "display_data"
    }
   ],
   "source": [
    "DATA.yadisk_url = \"https://disk.yandex.ru/d/-OigCs1K-ZaUJw\"\n",
    "DATA.folder = \"data/lab_recommending_zen\""
   ]
  },
  {
   "cell_type": "code",
   "execution_count": 96,
   "id": "0bfa3de6",
   "metadata": {
    "ExecuteTime": {
     "end_time": "2023-05-20T15:19:29.784670Z",
     "start_time": "2023-05-20T15:19:29.635256Z"
    }
   },
   "outputs": [
    {
     "data": {
      "application/javascript": [
       "\n",
       "            setTimeout(function() {\n",
       "                var nbb_cell_id = 96;\n",
       "                var nbb_unformatted_code = \"!mkdir {DATA.folder}\";\n",
       "                var nbb_formatted_code = \"!mkdir {DATA.folder}\";\n",
       "                var nbb_cells = Jupyter.notebook.get_cells();\n",
       "                for (var i = 0; i < nbb_cells.length; ++i) {\n",
       "                    if (nbb_cells[i].input_prompt_number == nbb_cell_id) {\n",
       "                        if (nbb_cells[i].get_text() == nbb_unformatted_code) {\n",
       "                             nbb_cells[i].set_text(nbb_formatted_code);\n",
       "                        }\n",
       "                        break;\n",
       "                    }\n",
       "                }\n",
       "            }, 500);\n",
       "            "
      ],
      "text/plain": [
       "<IPython.core.display.Javascript object>"
      ]
     },
     "metadata": {},
     "output_type": "display_data"
    }
   ],
   "source": [
    "!mkdir {DATA.folder}"
   ]
  },
  {
   "cell_type": "code",
   "execution_count": null,
   "id": "d8338221",
   "metadata": {
    "ExecuteTime": {
     "end_time": "2023-05-20T15:25:58.352585Z",
     "start_time": "2023-05-20T15:25:58.324260Z"
    }
   },
   "outputs": [],
   "source": [
    "tar(\n",
    "    tar_archive=write_yadisk_url_content_to_file(DATA.yadisk_url),\n",
    "    save_directory=DATA.folder,\n",
    "    delete_archive=True,\n",
    ")"
   ]
  },
  {
   "cell_type": "code",
   "execution_count": 142,
   "id": "947bc0b9",
   "metadata": {
    "ExecuteTime": {
     "end_time": "2023-05-20T15:37:06.207245Z",
     "start_time": "2023-05-20T15:36:59.909806Z"
    }
   },
   "outputs": [
    {
     "data": {
      "application/javascript": [
       "\n",
       "            setTimeout(function() {\n",
       "                var nbb_cell_id = 142;\n",
       "                var nbb_unformatted_code = \"for dirpath, dirnames, filenames in os.walk(DATA.folder):\\n    for filename in filenames:\\n        if filename.endswith(\\\"gz\\\"):\\n            path = os.path.join(dirpath, filename)\\n            !gunzip {path}\";\n",
       "                var nbb_formatted_code = \"for dirpath, dirnames, filenames in os.walk(DATA.folder):\\n    for filename in filenames:\\n        if filename.endswith(\\\"gz\\\"):\\n            path = os.path.join(dirpath, filename)\\n            !gunzip {path}\";\n",
       "                var nbb_cells = Jupyter.notebook.get_cells();\n",
       "                for (var i = 0; i < nbb_cells.length; ++i) {\n",
       "                    if (nbb_cells[i].input_prompt_number == nbb_cell_id) {\n",
       "                        if (nbb_cells[i].get_text() == nbb_unformatted_code) {\n",
       "                             nbb_cells[i].set_text(nbb_formatted_code);\n",
       "                        }\n",
       "                        break;\n",
       "                    }\n",
       "                }\n",
       "            }, 500);\n",
       "            "
      ],
      "text/plain": [
       "<IPython.core.display.Javascript object>"
      ]
     },
     "metadata": {},
     "output_type": "display_data"
    }
   ],
   "source": [
    "for dirpath, dirnames, filenames in os.walk(DATA.folder):\n",
    "    for filename in filenames:\n",
    "        if filename.endswith(\"gz\"):\n",
    "            path = os.path.join(dirpath, filename)\n",
    "            !gunzip {path}"
   ]
  },
  {
   "cell_type": "code",
   "execution_count": 155,
   "id": "8441e9f1",
   "metadata": {
    "ExecuteTime": {
     "end_time": "2023-05-20T15:41:53.275814Z",
     "start_time": "2023-05-20T15:41:53.266597Z"
    }
   },
   "outputs": [
    {
     "name": "stdout",
     "output_type": "stream",
     "text": [
      "{'data/lab_recommending_zen': [{'zen_dataset': ['item_counts.csv',\n",
      "                                                'user_ratings',\n",
      "                                                'item_meta']}]}\n"
     ]
    },
    {
     "data": {
      "application/javascript": [
       "\n",
       "            setTimeout(function() {\n",
       "                var nbb_cell_id = 155;\n",
       "                var nbb_unformatted_code = \"pprint_path_contents(DATA.folder)\";\n",
       "                var nbb_formatted_code = \"pprint_path_contents(DATA.folder)\";\n",
       "                var nbb_cells = Jupyter.notebook.get_cells();\n",
       "                for (var i = 0; i < nbb_cells.length; ++i) {\n",
       "                    if (nbb_cells[i].input_prompt_number == nbb_cell_id) {\n",
       "                        if (nbb_cells[i].get_text() == nbb_unformatted_code) {\n",
       "                             nbb_cells[i].set_text(nbb_formatted_code);\n",
       "                        }\n",
       "                        break;\n",
       "                    }\n",
       "                }\n",
       "            }, 500);\n",
       "            "
      ],
      "text/plain": [
       "<IPython.core.display.Javascript object>"
      ]
     },
     "metadata": {},
     "output_type": "display_data"
    }
   ],
   "source": [
    "pprint_path_contents(DATA.folder)"
   ]
  },
  {
   "cell_type": "markdown",
   "id": "dc4731a4-7e60-4190-bfd5-462e8618eff0",
   "metadata": {
    "tags": []
   },
   "source": [
    "## Часть 1. Нейросетевые рекомендации <span id=Часть_1._Нейросетевые_рекомендации_></span>"
   ]
  },
  {
   "cell_type": "markdown",
   "id": "bffef946-5954-4b70-b8ac-cb2517dddb5c",
   "metadata": {
    "tags": []
   },
   "source": [
    "В этом задании вам предстоит обучить свою рекомендательную нейросетевую модель для рекомендаций текстовых статей на основе датасета Дзена.\n",
    "\n",
    "Как обсуждалось на лекции, нередко в нейросетевых рекомендациях используют архитектуры типа DSSM. Предлагается построить и обучить модель именно такого вида.\n",
    "\n",
    "![](data:image/png;base64,iVBORw0KGgoAAAANSUhEUgAAAroAAAG6CAYAAADnFeWEAAAK4mlDQ1BJQ0MgUHJvZmlsZQAASImVlwdUU1kagO976SEhQEIEpITekU4AKSG00KWDqIQkkFBCTAgKdmVwBEcFEWnqCI6KKDg6AjIWxIIVxYZ9QAYFZR0s2FDZByxhZvbs7tn/nPvud/7337/cc+87/wOAHMKVSDJhFQCyxDnSyAAfRnxCIgP3DKABCVAAAVhxeTIJKyIiBCAyPf9V3t8F0MR8y3rC17+//6+ixhfIeABASQin8GW8LITbkfGKJ5HmAIA6jOgNl+RIJvg2wjQpkiDCgxOcNsVfJjhlktEqkzbRkWyEjQDAk7hcaRoAJFtEz8jlpSF+SBEI24r5IjHCqxH25Am5fISRuMAqKyt7gocRNkPsJQCQaQgzU/7kM+0v/lMU/rncNAVP1TUpeF+RTJLJzfs/t+Z/S1amfDqGCTJIQmlgJDLTkf27l5EdrGBxSlj4NIv4k/aTLJQHxkwzT8ZOnGY+1zdYsTYzLGSaU0X+HIWfHE70NAtkflHTLM2OVMRKlbJZ08yVzsSVZ8Qo9EIBR+E/XxgdN825otiwaZZlRAXP2LAVeqk8UpG/QBzgMxPXX1F7luxP9Yo4irU5wuhARe3cmfwFYtaMT1m8Ije+wNdvxiZGYS/J8VHEkmRGKOwFmQEKvSw3SrE2BzmcM2sjFHuYzg2KmGYQAvxAGGCAaGAPXIAEWAM7gJyqHMHSnIli2NmSPKkoTZjDYCE3TsDgiHk2Vgx7W3t7ACbu79SReBs5eS8h+qkZXfYe5Ci/R+5MyYwupQyAlkIANB7M6Ix2AkApAKC5gyeX5k7p0BMPDCAi3wUa0AS6wBCYIZnZA2fgDryRjINAOJJxAlgIeEAIsoAULAHLwRpQCIrBFrANVIFdoA7sB4fAEdACToAz4AK4Am6AO+Ah6AUD4CUYAe/BGARBOIgMUSFNSA8yhiwhe4gJeUJ+UAgUCSVAyVAaJIbk0HJoHVQMlUJV0G6oHvoZOg6dgS5B3dB9qA8agt5An2EUTIJpsA5sAs+BmTALDoaj4QVwGrwYzocL4E1wBVwLH4Sb4TPwFfgO3Au/hEdRAKWEoqP0UdYoJoqNCkclolJRUtRKVBGqHFWLakS1oTpRt1C9qGHUJzQWTUUz0NZod3QgOgbNQy9Gr0RvRFeh96Ob0efQt9B96BH0NwwZo42xxLhhOJh4TBpmCaYQU47ZizmGOY+5gxnAvMdisXSsKdYFG4hNwKZjl2E3Yndgm7Dt2G5sP3YUh8Np4ixxHrhwHBeXgyvEVeIO4k7jbuIGcB/xSng9vD3eH5+IF+PX4svxB/Cn8Dfxz/FjBBWCMcGNEE7gE/IImwl7CG2E64QBwhhRlWhK9CBGE9OJa4gVxEbieeIj4lslJSUDJVeleUoipdVKFUqHlS4q9Sl9IqmRLEhsUhJJTtpE2kdqJ90nvSWTySZkb3IiOYe8iVxPPkt+Qv6oTFW2UeYo85VXKVcrNyvfVH5FIVCMKSzKQko+pZxylHKdMqxCUDFRYatwVVaqVKscV+lRGVWlqtqphqtmqW5UPaB6SXVQDadmouanxlcrUKtTO6vWT0VRDalsKo+6jrqHep46QMPSTGkcWjqtmHaI1kUbUVdTd1SPVV+qXq1+Ur2XjqKb0Dn0TPpm+hH6XfrnWTqzWLMEszbMapx1c9YHjdka3hoCjSKNJo07Gp81GZp+mhmaJZotmo+10FoWWvO0lmjt1DqvNTybNtt9Nm920ewjsx9ow9oW2pHay7TrtK9qj+ro6gToSHQqdc7qDOvSdb1103XLdE/pDulR9Tz1RHpleqf1XjDUGSxGJqOCcY4xoq+tH6gv19+t36U/ZmBqEGOw1qDJ4LEh0ZBpmGpYZthhOGKkZxRqtNyoweiBMcGYaSw03m7cafzBxNQkzmS9SYvJoKmGKcc037TB9JEZ2czLbLFZrdltc6w50zzDfIf5DQvYwslCaFFtcd0StnS2FFnusOy2wli5Womtaq16rEnWLOtc6wbrPhu6TYjNWpsWm1dzjOYkzimZ0znnm62TbabtHtuHdmp2QXZr7drs3thb2PPsq+1vO5Ad/B1WObQ6vHa0dBQ47nS850R1CnVa79Th9NXZxVnq3Og85GLkkuxS49LDpDEjmBuZF10xrj6uq1xPuH5yc3bLcTvi9oe7tXuG+wH3wbmmcwVz98zt9zDw4Hrs9uj1ZHgme/7o2eul78X1qvV66m3ozffe6/2cZc5KZx1kvfKx9ZH6HPP5wHZjr2C3+6J8A3yLfLv81Pxi/Kr8nvgb+Kf5N/iPBDgFLAtoD8QEBgeWBPZwdDg8Tj1nJMglaEXQuWBScFRwVfDTEIsQaUhbKBwaFLo19FGYcZg4rCUchHPCt4Y/jjCNWBzx6zzsvIh51fOeRdpFLo/sjKJGLYo6EPU+2id6c/TDGLMYeUxHLCU2KbY+9kOcb1xpXG/8nPgV8VcStBJECa2JuMTYxL2Jo/P95m+bP5DklFSYdHeB6YKlCy4t1FqYufDkIsoi7qKjyZjkuOQDyV+44dxa7mgKJ6UmZYTH5m3nveR788v4QwIPQangeapHamnqYJpH2ta0IaGXsFw4LGKLqkSv0wPTd6V/yAjP2JcxnhmX2ZSFz0rOOi5WE2eIz2XrZi/N7pZYSgolvYvdFm9bPCINlu6VQbIFstYcGtIoXZWbyb+T9+V65lbnflwSu+ToUtWl4qVX8yzyNuQ9z/fP/2kZehlvWcdy/eVrlvetYK3YvRJambKyY5XhqoJVA6sDVu9fQ1yTsebaWtu1pWvfrYtb11agU7C6oP+7gO8aCpULpYU9693X7/oe/b3o+64NDhsqN3wr4hddLrYtLi/+spG38fIPdj9U/DC+KXVT12bnzTu3YLeIt9wt8SrZX6paml/avzV0a3MZo6yo7N22RdsulTuW79pO3C7f3lsRUtFaaVS5pfJLlbDqTrVPdVONds2Gmg87+Dtu7vTe2bhLZ1fxrs8/in68tztgd3OtSW15HbYut+7Zntg9nT8xf6rfq7W3eO/XfeJ9vfsj95+rd6mvP6B9YHMD3CBvGDqYdPDGId9DrY3Wjbub6E3Fh8Fh+eEXPyf/fPdI8JGOo8yjjb8Y/1JzjHqsqBlqzmseaRG29LYmtHYfDzre0ebeduxXm1/3ndA/UX1S/eTmU8RTBafGT+efHm2XtA+fSTvT37Go4+HZ+LO3z80713U++PzFC/4XznayOk9f9Lh44pLbpeOXmZdbrjhfab7qdPXYNadrx7qcu5qvu1xvveF6o617bvepm143z9zyvXXhNuf2lTthd7rvxty915PU03uPf2/wfub91w9yH4w9XP0I86joscrj8ifaT2p/M/+tqde592Sfb9/Vp1FPH/bz+l/+Lvv9y0DBM/Kz8ud6z+sH7QdPDPkP3Xgx/8XAS8nLseHCf6j+o+aV2atf/vD+4+pI/MjAa+nr8Tcb32q+3ffO8V3HaMTok/dZ78c+FH3U/Lj/E/NT5+e4z8/HlnzBfan4av617Vvwt0fjWePjEq6UO9kKoJABp6YC8GYf0h8nAEC9AQBx/lR/PSnQ1D/BJIH/xFM9+KQ4A1DXA0D0MgBCrgFQWYW0tIh/CvJfEEFB9O4AdnBQjH+JLNXBfsoXyQtpTR6Pj781AwBXAsDXkvHxsbrx8a91SLIPAWjPm+rrJ8S2EQDug/hQdtgDmLYB/E2mev4/1fj3GUxk4Aj+Pv8TVJocQaH94NMAAACKZVhJZk1NACoAAAAIAAQBGgAFAAAAAQAAAD4BGwAFAAAAAQAAAEYBKAADAAAAAQACAACHaQAEAAAAAQAAAE4AAAAAAAAAkAAAAAEAAACQAAAAAQADkoYABwAAABIAAAB4oAIABAAAAAEAAAK6oAMABAAAAAEAAAG6AAAAAEFTQ0lJAAAAU2NyZWVuc2hvdASwVhcAAAAJcEhZcwAAFiUAABYlAUlSJPAAAAHWaVRYdFhNTDpjb20uYWRvYmUueG1wAAAAAAA8eDp4bXBtZXRhIHhtbG5zOng9ImFkb2JlOm5zOm1ldGEvIiB4OnhtcHRrPSJYTVAgQ29yZSA2LjAuMCI+CiAgIDxyZGY6UkRGIHhtbG5zOnJkZj0iaHR0cDovL3d3dy53My5vcmcvMTk5OS8wMi8yMi1yZGYtc3ludGF4LW5zIyI+CiAgICAgIDxyZGY6RGVzY3JpcHRpb24gcmRmOmFib3V0PSIiCiAgICAgICAgICAgIHhtbG5zOmV4aWY9Imh0dHA6Ly9ucy5hZG9iZS5jb20vZXhpZi8xLjAvIj4KICAgICAgICAgPGV4aWY6UGl4ZWxZRGltZW5zaW9uPjQ0MjwvZXhpZjpQaXhlbFlEaW1lbnNpb24+CiAgICAgICAgIDxleGlmOlBpeGVsWERpbWVuc2lvbj42OTg8L2V4aWY6UGl4ZWxYRGltZW5zaW9uPgogICAgICAgICA8ZXhpZjpVc2VyQ29tbWVudD5TY3JlZW5zaG90PC9leGlmOlVzZXJDb21tZW50PgogICAgICA8L3JkZjpEZXNjcmlwdGlvbj4KICAgPC9yZGY6UkRGPgo8L3g6eG1wbWV0YT4Kp/sYjAAAABxpRE9UAAAAAgAAAAAAAADdAAAAKAAAAN0AAADdAABZ4x9/az8AAEAASURBVHgB7J0JvFXj+sdfLiqpVESlGaFBmpCiDIUoQyJDZnJNmUnGyDyVi3BRV6RBSpKhgQyVRmN0pZQuUjfzEPb//T73v47TmdrnnD2stfbv/Xx2+7T3Gt739679rN963uf5PZskfHNqQkAICAEhIASEgBAQAkIgZghsIqIbsxnVcISAEBACQkAICAEhIAQMARFdXQhCQAgIASEgBISAEBACsURARDeW06pBCQEhIASEgBAQAkJACIjo6hoQAkJACAgBISAEhIAQiCUCIrqxnFYNSggIASEgBISAEBACQkBEV9eAEBACQkAICAEhIASEQCwRENGN5bRqUEJACAgBISAEhIAQEAIiuroGhIAQEAJCQAgIASEgBGKJgIhuLKdVgxICQkAICAEhIASEgBAQ0dU1IASEgBAQAkJACAgBIRBLBER0YzmtGpQQEAJCQAgIASEgBISAiK6uASEgBISAEBACQkAICIFYIiCiG8tp1aCEgBBIFwJ//PGH++2339yvv/7qfvnlF3v/888/3eabb+4qVqzoKlSoYC/+v8kmm6SrGzquEBACQkAIJIGAiG4SIGkTISAEchMBSO26devc6tWr3apVq9yXX37pvvnmG/fDDz+4n376yf3444/2/vvvv7tKlSq5Lbfc0lWuXNneq1Wr5mrVquVq167ttt9+e/ubbdSEgBAQAkIgcwiI6GYOa51JCAiBCCCQSCSM2H7xxRduxYoV7sMPP3SLFi1yK1eudN9++615c/HW8tpiiy3shecWsound/369fbOUCG2NWrUcLvssotr1aqVa9y4satbt669+G7TTTeNACLqohAQAkIgugiI6EZ37tRzISAEUogABBVvLeT25ZdfdjNmzHDLly+3M1StWtXVr1/ftWzZ0jVt2tTIK97b4LXZZpu5n3/+2by7vOPxhSi///779lqzZo19xnGaN2/uevToYceC9FapUkWEN4XzqEMJASEgBPIjIKKbHw39LQSEQM4hgCf2u+++c8uWLXNPPfWUGz9+vJFWQg72339/17FjR/PG1qlTx7y4pQEI7zDhDZ988ombN2+eEej58+cb6d19991dnz593H777ee22247I82K6S0NutpWCAgBIbBxBER0N46RthACQiCGCEBCCTVYunSpGzlypHvyySeN8LZu3dr169fPHXTQQQ4PbKrJJ6QXQv3MM89YzG+bNm3c6aef7rp162bnwzusJgSEgBAQAqlBQEQ3NTjqKEJACEQMgf/+979u9OjRbsiQIRai0L59e3fJJZe4Qw45xMhtqglufngg2YQ2PP7442748OHu66+/NmJ9+eWXuz333DP/pvpbCAgBISAEyoGAiG45wNOuQkAIRBOBWbNmuXvvvddNnz7dEsTOPPNM17NnT4uXJcEsEw1FB+TJlixZYmT32WeftcS20047zV1wwQWm3pCJfugcQkAICIE4IyCiG+fZ1diEgBDYAAESzvDiDh061GTD8N5CLBs2bOi22mqrlIcpbHDyYv5Dn9auXesg3w899JB79913LW731ltvdTvssIMS1YrBTR8LASEgBJJBQEQ3GZS0jRAQApFHgHhciOTDDz/stt56ayO4Xbt2NY3bbMfFBklrH3/8scUKQ8abNWvm7r77blN5QMpMTQgIASEgBEqPgIhu6THTHkJACEQMAcIEILj33XefeW/POecc16lTJ5MJC9NQIOPo9Y4aNcpih4nXHTx4sNtpp50srCFMfVVfhIAQEAJRQEBENwqzpD4KASFQZgQo1Uv864033miFGi699FK3zz77WDxumQ+axh0h5VRie/TRR92DDz7oDjjgAHfVVVcZ2c225zmNw9ahhYAQEAJpQUBENy2w6qBCQAiEAQGKN7z55pumplChQgV37bXXWvwrRRrC3P7880+HKgRxumPGjLFEufPPP98S51RNLcwzp74JASEQNgREdMM2I+qPEBACKUGAMADK9+IN5f2WW26ximQknUWlrVq1yg0YMMC99dZbprXbt29fRyELNSEgBISAEEgOARHd5HDSVkJACEQIATyin3/+ubvzzjtNZeHiiy82yS5K9katQdL79+9v5YnR+UUGLUpkPWp4q79CQAjECwER3XjNp0YjBISAR2DdunVu7Nix7pprrrFCDCSiEbqQziIQ6QT+pZdecgMHDnTbbrutve+1116SHUsn4Dq2EBACsUFARDc2U6mBCAEhAAIkc82cOdNddtllDs8uMa6NGzeONDiM46677nLDhg1z3bt3NwK/zTbbRHpM6rwQEAJCIBMIiOhmAmWdQwgIgYwhsGLFCtOfHT9+vLvhhhvcySefnLFzp/NEX331lZH3efPmOUoFx2Vc6cRMxxYCQkAIiOjqGhACQiA2CFB4AQ/udddd53bbbTc3YsSI2JTSxav7/PPPu5tvvtnVq1fPdHbr1q0bm7nTQISAEBAC6UBARDcdqOqYQkAIZAWBZcuWmSTX7NmzjRBS4jeqcblFAbhmzRp3++23u0mTJjn0gE899dSiNtNnQkAICAEh8P8IiOjqUhACQiA2CBCugIwYlcTuv/9+V7169diMjYHg1Z08ebK76aabXJ06ddwTTzzhqlatGqsxajBCQAgIgVQiIKKbSjR1LCEgBLKGwPfff29eXBQKLrzwQothjZM3NwAW2bQ77rjDvfbaa1bSuEuXLsFXehcCQkAICIECCIjoFgBE/xUCQiCaCCxcuNCKQ2yxxRa2vN+0adNoDmQjvaakMdJpgwcPdocffriFamxkF30tBISAEMhZBER0c3bqNXAhEC8EHnvsMQtXIC4X/dyKFSvGa4D5RjNnzhx39dVXu19++cVNnDgxdiEa+YaqP4WAEBAC5UJARLdc8GlnISAEwoAAXk6Ss2bNmmUSXL179w5Dt9LWB0oDDxkyxBQmhg8f7jp27Ji2c+nAQkAICIEoIyCiG+XZU9+FgBAwBNDOPeecc0xhYdCgQa5Vq1axRgZij9QYJYEpD3zRRRfFerwanBAQAkKgrAiI6JYVOe0nBIRAaBAgMYsiCh06dHADBgywUrmh6VyaOvL222+7s88+27Vo0cKNHDkyTWfRYYWAEBAC0UZARDfa86feCwEh4BF4/PHHrUTuaaedZh7OTTfdNPa4fPjhh+bRJYxhwYIFLhfGHPtJ1QCFgBBIOQIiuimHVAcUAkIg0wiQfPbCCy+4iy++2J144okZPT3atrRME01kxqiSRgjDokWL3DbbbBOr4hgZnUSdTAgIgdgiIKIb26nVwIRA7iBAhbCPP/7YDRw40B166KEZGTjlhn/88UfzplarVs3tvPPOGVV6WL16tXvkkUdMSxeS37p164yT7YwArZMIASEgBMqBgIhuOcDTrkJACIQDAfRkKRhBIlqnTp3S3im8uMuXL3ennHKKEWwKU5x55pkWM1u3bt20n58TfPvtt6a6cOWVV7oRI0a4bt26ub/97W8ZObdOIgSEgBCICgIiulGZKfVTCAiBIhFYv369QzuX0AGKKLRt27bI7VL54XfffefGjRtnSg8oINB23XVXK8nbvn37VJ6q2GP99NNPVg74rLPOMv1gJNU222yzYrfXF0JACAiBXERARDcXZ11jFgIxQgDC1717d1e5cmV30003ZURaDKI7atQo8+AGUO6www7u6aefzpimLcUipk6dajHJd999t71vvvnmQXf0LgSEgBAQAh4BEV1dBkJACEQaAeJkIbpVqlQxorv77runfTx4kVE9wJuK4kGlSpVcr169LEa4UaNGaT8/J4DoTps2zZ1wwgnuzjvvdH379nUiuhmBXicRAkIgQgiI6EZostRVISAECiMA4SN0AbKJR5ekrEy0n3/+2c2YMcMtXLjQvMkHHHCAa9KkScYS0jj/K6+8YnHC99xzjxFehS5kYuZ1DiEgBKKEgIhulGZLfRUCQqAQAn/88YcpLfz+++8Wo7vnnnsW2iadH6C+QDJaptsPP/xg0mLnnXeeGzZsmDviiCMUo5vpSdD5hIAQCD0CIrqhnyJ1UAgIgY0hcMwxx7ivvvrK3XDDDa5Lly4b2zwW3//3v/+1imiMefTo0W7fffeV6kIsZlaDEAJCIJUIiOimEk0dSwgIgawggFfznXfecVdddZV5NrPSiQyf9D//+Y8bMmSIVYUjhAId30wXrcjwkHU6ISAEhECpERDRLTVk2kEICIGwIXDbbbeZ4gGE9/TTT89KKEGmMfn0008dFeHefPNN98EHH1iccDZCKDI9bp1PCAgBIVAaBER0S4OWthUCQiCUCKBpe91117njjjvOXX755W6LLbYIZT9T2SmS4Pr37+8oXvH666+n8tA6lhAQAkIgNgiI6MZmKjUQIZC7CMyfP99IH8v31157ratfv37swXjttdfMe03JY0IY1ISAEBACQqAwAiK6hTHRJ0JACEQMgXXr1lkJ3tWrV2esDHA2IaLcMcUpkFO7+eab3UknnZTN7ujcQkAICIHQIiCiG9qpUceEgBBIFgGW71EfmDBhguvXr5+9kt03itv9+9//NoL79ttvu4kTJ1oiWhTHoT4LASEgBNKNgIhuuhHW8YWAEMgIApMmTTJvLgUjBg8e7KpXr56R82bjJFREu/LKK12dOnXcM8884ypUqJCNbuicQkAICIHQIyCiG/opUgeFgBAoCYFff/3VffLJJ1Y84cknn3Tbbrutu+WWW1yHDh1K2i2y33333XcmKUbIAqT+ggsucG3atHG1atXKCbWJyE6cOi4EhEBWEBDRzQrsOqkQEALlQYBQBXRk3333XTdr1ixHMhr/pywurU+fPqap+7e//a08pwnlvox50KBBjmS0HXfc0VERrnnz5q5du3auffv2Fsaw1VZbifSGcvbUKSEgBDKNgIhuphHX+YSAECgTApBbkrDQj33vvffcnDlz3Lx589xPP/3k6tWr51q1auW22WYb8+wiL3b//fcbESzTyUK6E95rvNZDhw51u+66q+vatavp6IIHJYEbNWrk9tprL7fHHnu43XbbzdWuXdtVrFgxpKNRt4SAEBAC6UdARDf9GOsMQkAIlAMBvLSU9126dKlbtGiRmz59uluyZImrVKmS22mnndx+++3nOnbs6Jo0aeJ++eUX98ADD1jc6plnnunOPfdct9lmm5Xj7OHa9eOPPzZvLsloxCEzdkoB49F+9dVX3YIFC9wXX3zhqlSpYmEN4AIh5kGgZs2aqpwWrulUb4SAEMgAAiK6GQBZpxACQqB0CPzxxx8OyTDkwiB3L7/8sps9e7aROmJw8VoedthhtlwPqctf+pbiCVQM++2339zw4cNjo0iA5/qRRx5xjz32mOvcubMR3qpVq+YBm0gkHAR45syZjsQ84pbXr1/vGjZs6A488EDXqVMn8/CC35Zbbpm3n/4QAkJACMQZARHdOM+uxiYEIoYA3luSrfDgvvLKK27KlClG3iCyLMUfeeSRrkuXLrZEX9zQIMgjR450d911lzv66KNNdizqxA4SO3fuXDdgwACLyUVKbd999y0OAvfjjz+ad/eFF14wT++XX37piNvlAQEMW7Zs6apVq2ae3zh5vIsFRF8IASGQswiI6Obs1GvgQiAcCOC9JfYUkovXdvTo0RaeAOFlyZ3KXz179rSl+GRltD788EPz6kIOhw0bZrGs+b2+4Rh58r0gPOGSSy6xUr/nnXee+/vf/55UmWMIMiSXxLWxY8eatxecmzZt6o444gjDdYcddrAwkM0333wDz3jyvdOWQkAICIHwIiCiG965Uc+EQOwRYGl92bJlFlP71FNP2XI7ZLZbt27u+OOPN+8tsaWlbSgRUEyhb9++tkyP7ixL9lElu7fffrsl1x1++OHuiiuuKFOJY7Bevny5VVQDa8IciHMmrOGEE06weF+w3mSTTUoLt7YXAkJACIQWARHd0E6NOiYE4osAXsYZM2aYl5GYWjy6SGUdddRRtrRet25dI2Esq5eVnH777bfu2Wefdf3797dl/ieeeMLVqFEjckTuueees+IQxNpee+21Fn5QVkzwnhO7DN5vvPGG4U9yH+EeDRo0cIcccoh5etu2bevw8KoJASEgBKKOgIhu1GdQ/RcCEUGAJXPUAUiUQiEA3dv8caNIYpFcxWepiBtFjuzrr792Q4YMcffdd587/fTT3cCBA62wQhQgI+yAUI5zzjnH8fdNN93kDjjgAHsASEX/mQ/k2oiHJtmPeGgS2NAeDuKhDzrooDJ5j1PRPx1DCAgBIZAKBER0U4GijiEEhECxCKB7i9d24sSJRqQIK8B7CIkioQqtV/Rv05EwxrlWrlzprr76aotTPeOMM1y/fv3c9ttvX2x/w/AF/UZtgr7yQHD99de77t27p6WsMefC+43CBUQXwgvBXrt2rYV7UGGOkAmqr/EgUlZvchhwVR+EgBDIPQREdHNvzjViIZBWBFgez6/tSlEHtF0hSSyJI3O1yy67OJKgCCVId/Uy+gOBI7aVd+J2eXH+MDbCCkimQ2Hh/ffft3737t3bSGe642fx8uLh/eyzz0yzeOrUqYZZ5cqVLbQE3V7mD81iPlMTAkJACIQdARHdsM+Q+icEIoJAULWMimWU5YWsoZzQuHFjt/fee1u1LooX4E0lCSrTjT5ROhcPL97Rk046yTR20020SzNO8KKfVHVDMeL88893p512WsYT6fJXofvggw/Mw8sDC7JlxE8TZsKcIlPGA0OYMCwN3tpWCAiB+CMgohv/OdYIhUDaECCTf9WqVUZqib995513TEWBErwtWrQwD2779u2NUOIBzOayN3GuJGD94x//sP62a9fOlB3wMqMpm81G+ABeb8IGnnnmGfv75JNPdlR3C0NFMx4OKDNMSAOEl//zsNK8eXPH/FJ+mWTCrbfeOpsw6txCQAgIgUIIiOgWgkQfCAEhsDEEiN9Eqmrx4sXuzTfftCSzH374wby1u+++u8mC4fUj/jZsbeHChVZdDG1ZJMeOOeYYqzTWqFGjpLRpUzkeyDdYEqIwYcIER6gAIR4nnniivYhbTne4QmnGQ2gDsmRItzHvxBHj5cWrS1hD69atjfDWqVPHIRMXpr6XZpzaVggIgfggIKIbn7nUSIRA2hCAkBE7SvwmyVEsr7/00ksWywmhwZuHHivJZTvttFPGCWNpB44XGtku9GSJJ4agEcpAaAUkLRNL8SSArVixwmTWxo0bZ55x+nH22Wcbjtn0fieD5zfffOPeffddU2yA9HJt4OXdc889TQeZ6wAs8ZZLqiwZRLWNEBAC6UBARDcdqOqYQiAmCBCagKd2zZo1bsmSJW78+PFWXYvPUEpA7uqwww5zeHGrV68eqVEztkWLFpl3l3LDeB8pVAHhpSIb40m1V5IHBuJw8eISRkGpYhLk8HxTtIGSxdttt12kcCTsgocfinKgW0xs9i+//GLhKuDZuXNn8/hCeMPmoY4U0OqsEBACZUJARLdMsGknIRBfBALvLcvUeBzx3L7wwgsWownxIyQBFYCuXbuaJm0mvJ/pRBvSjof6wQcfNBKPhi9yWowRdQh0fRk3XsnSjhUsIYIUaYD8kbBHHO6oUaMs7AMyfeyxx7o+ffpYWd50jjMTxyaJjRhepOR4EXdM3C4SZZRx3muvvSw0A89vKrSSMzEmnUMICIFoIyCiG+35U++FQMoQgJQhxQXxI36VpCiql7G0j+5tr169jPyRZBbH2EuI/VtvvWXFJfBO4vGF6BKOwYukNTyvkN1g/MF7/kkAx+DFMfGEs7QPlugJgy9L+niOeSHVFfYwhfzjS/ZvQjMoDAKpZ9yQfMaK15q46J133tnGzdiLwjHZ82g7ISAEhEBJCIjoloSOvhMCOYQAy/gsPROegI4qS80dO3bMS9bCs4lXM46kjGkOiD7eV8IJiOElOYyleAhrxYoVLawA0s+LBCw8slWqVDFcSMoKKo3hCSdZj3fCFDg22+6zzz4W6kHIBxrCqFPEHU8eGJYuXWoV8Ui4I64XDznyZHiyKTuM1zeuOOSQCdFQhUAoERDRDeW0qFNCIP0I4L2lGhbxqWPGjLF4VQgd5V8hH0H5V2TBIHm55HWDnP30009GcEmyWrBggSlL8ABAWWESsdatW2cENvBIsmzPC6wgsbVq1TIPcNOmTS1Bi0Q3sCROlW1yidgRvgGeYIYuLw9U06dPt3hllC8OPfRQC20g1psHBzUhIASEQKoQENFNFZI6jhCICAKEIqCJStwtS/QQN7y1eNh69OhhS8qQD2SulC3vLMYWkobHljhb1CeCmFvCEHhBjCGw4AiZxVOL15IXn+fiw0JRPwc822CIl5uHLEJkuA4pE03MLqEiFPNAqowwB8XxFoWiPhMCQqA0CIjolgYtbSsEIooA5AwyQaY/5Jaleby3LMEjC0bxhPr165sObq55b8s6pUGoA95K/iZ2l1fg4S3rcXNlPzDjoYuENbR5CROh4AgPDih6ILV28MEHW/Ij3nE1ISAEhEBZEBDRLQtq2kcIRAQB9GKJiSQZiOV3/o+HkUpWeHCbNWvmKJRA/GguhSZEZPpyppt4yLk2SdyjoAdJgYSJBF5e1BpQbsDji2KDrtWcuTQ0UCFQbgREdMsNoQ4gBMKDADGiLLPjsQ1K8kJ08d6iDdumTRtTD6B0K8lUWhoOz9ypJ/9DALUGkte4fufOnWux42gPs+KA8gWrDyh/oIBBaIiaEBACQqAkBER0S0JH3wmBiCBA3OOXX35pBBf1hJkzZ1qoArGhJEPhveVFBTMl+0RkUnO8m4SEkPTH9UwsL55elCy4ftFypgIbD2wNGza05L9cSu7L8UtDwxcCpUJARLdUcGljIRAeBFBNIIudGEc8uJCBOXPmWKIP3i68X1SmItYRFYDSFjsIz0jVk1xHANJLjDkPcKiEcL0T7oCXl8pr7du3N8JLVTlCc9SEgBAQAgECIroBEnoXAhFBgNAEkngou0rsLZXLWOqFyO60004m07T//vvbjV9erohMqrqZNAIkqxHWMHnyZHu4QzWElQvCcqi+hjxezZo1TZtXD3dJw6oNhUBsERDRje3UamBxQgDvLfJWwU2eog5U24LwUmULzVvK1hK/iGqCmhDIBQQoyMFKBsU9WM3Ay4ssGRJl/B7w8BLqQCyvHvpy4YrQGIVAYQREdAtjok+EQCgQCOSrkAYjI33s2LH2IjMdfVvK0lJKFe/t9ttvH4o+qxNCIBsI8BshnGHcuHH2G2GFA3UGHgCPPfZYi09HWYTkS3l5szFDOqcQyB4CIrrZw15nFgIlIrBmzRo3Y8YMN2rUKAtPQDmB6lq9evWyF7JgQQlZyS2VCKW+zAEEggdDfieE9Dz11FPu5ZdftuprJGES1nD00Ue7li1bqhBKDlwPGqIQCBAQ0Q2Q0LsQCAEC3KSRA5s4caLFIK5cudLiD/He9u7d2xLLWIrFWyVpsBBMmLoQOgQgvIQwEMuOEgmV1yZNmmQeX8IX0JCG8OLtRWJPTQgIgXgjIKIb7/nV6CKAADdmxPHxQk2YMMF98MEHjphcPLZdu3a1ymWEJrD0qqplEZhQdTE0CPA7QoOXWHZ+VySwzZo1y2TLKHNNqWFieSlIoUIUoZk2dUQIpBQBEd2UwqmDCYHkEKCwA4llJNC8+OKLVvoU71O1atUse5yyvFSBCgiu4gqTw1VbCYHiEMDDiy4vCWzz5s2zcCBKDxPv3rhxYys3jFQZD5iQXjUhIATigYCIbjzmUaOICAIoJ5Aog2LCG2+84RYvXmxVy7i5durUyYTwkQiTHmhEJlTdjBwCgZeX4hP8/ig3PHv2bPf999+7unXrWmgDnl5CHNCj1kNm5KZYHRYCGyAgorsBHPqPEEg9AuvXrzfN2/fff99uqAsWLHDLli2zMAQqPCEJxk2VhJmqVatKBin1U6AjCoEiEaAQBXrUhDXg5WWFBQKMR5fET36bvPhtbr311kUeQx8KASEQbgREdMM9P+pdhBFYu3atxd4GBJdSpoQroHsLwe3QoYO9E54gr1GEJ1pdjwUCJIIiUQbZxcP74YcfmnY1CWuUz+Y3C/mtV6+eVBtiMeMaRK4gIKKbKzOtcaYdAZLK8N6ieYvHFg/R9OnTzUOEDBghCagndOzY0eJv+UxNCAiB8CHw1VdfmfrJtGnTLH4ery+JoJTVRrea3zLlh/HySv0kfPOnHgmB/AiI6OZHQ38LgTIgwPLnt99+61avXu0+/fRTkwYjs5t4XEqRQmyp1LT77rvb/8twCu0iBIRAFhBApozktZkzZ9rvmpheftcQ3W7dutlvm7hefudbbrmlk551FiZJpxQCG0FARHcjAOlrIVAUAqgmUI0J6SK8PVOnTjXpIsIU8PwgSn/UUUeZ94cbobw+RaGoz4RAdBD45Zdf3MKFC93zzz9vv3VUUvDo7rnnnq5Hjx4WZ48E4FZbbaXQhuhMq3qaAwiI6ObAJGuIqUOAjG28PBBc4vgoOfraa6+ZTiext0cccYSV5W3evLlVLUvdmXUkISAEwoIAurxUXRs9erTZAby8O++8szvssMOM9CJXVqFCBSO88vKGZdbUj1xFQEQ3V2de4y41AsTgkp397LPPurFjx5o0ESoJxN0ef/zxpsNZuXJlLV+WGlntIASihwD2gNfHH3/sxo8fbw+9VDXEBmATTjjhBCtGoUIU0Ztb9TheCIjoxms+NZoUI8CNjPhbyojivZk7d67p3pJ9jffm0EMPNYF5vDckl8l7k+IJ0OGEQMgRYJUnCGNCOnDMmDGWhIrXl+prRx55pJUcJpxJhShCPpnqXiwRENGN5bRqUOVFABkw5MAmTpxolctINCP+jlKhhCc0a9bM1ahRQ/F45QVa+wuBmCDAQzFxvIQ1ff311w7FBuJ5kSnjIbhFixauZ8+erkuXLq5BgwaK24/JvGsY4UdARDf8c6QeZggBYm+RBXv99dfNg0t5UMqGUrUMzy1amsTh4qXRcmSGJkWnEQIRRAAvLytBEF6UWCZPnuxQYqH6GgoNPDBjU9Dm3WabbSI4QnVZCEQHARHd6MyVepomBMieJpsazVu0b9HQRCqodevWrnPnzpZkEmhmqrBDmiZBhxUCMUWAB2iUWT777DM3f/58e5Dmb2wJMmXID1L+m1WizTffPKYoaFhCIHsIiOhmD3udOUsIsMRITN1HH31kGdPvvPOOLS+y7EjVI+SCILm77LKLoyqSbj5ZmiidVgjEDAHidlk1ImkNu0NML6EOSBDi3Q0qsFEtUXYnZpOv4WQNARHdrEGvE2cagcCzQswcN5i3337bqpaRJb3bbrtZTfv27du7Jk2auGrVqmW6ezqfEBACOYIAFRQJa3jvvfcspAFP79KlS20lCcJLBbZWrVqZLUKrd9NNN80RZDRMIZB6BER0U4+pjhgiBIiVW7dunfv8889NDuzNN9+0WvbEzxGOwE2Fkp5ULatVq5YtJ4ao++qKEBACMUeAlSRILrYJTW7kyn7++WezT4Q0tGnTxghv7dq1jQjHHA4NTwikHAER3ZRDqgOGAQEE3L/55hu3cuVKI7aIu3MzIfsZj+0hhxxi2c8NGzZUYYcwTJj6IASEgEPthZCGKVOmmKeX/AFWnAilouQwsobbbbedJbTJy6sLRggkh4CIbnI4aasIIID3lng3PLgsCU6aNMluFsTFcXMgsezwww+3GFzK9KoJASEgBMKIAHkEy5cvt8Q1JA5Jlv39998dD+YQXh7UWYEirAFbJtIbxllUn8KCgIhuWGZC/SgTAtwQiL1lqQ+1hOeee860b5EG22yzzSzu9uijj7bwBBI+1ISAEBACUUKA0AYqMkJ4J0yY4FasWGHlhXlwP+aYY8zGBYQXm6cmBITAhgiI6G6Ih/4XEQQguH/++afpUqJ7O3LkSCvsAOFt2rSpVSLq1auXKScoezkik6puCgEhUCICrFjNmDEjz96h8406DNXX8ts7KjSqSmOJUOrLHEJARDeHJjsuQ0UaDA8H9eXx4CLXw/Jd165d3bHHHmti7FWrVjV5HunexmXWNQ4hIAR4wCeEgVUsVrDGjh3rnn32WffJJ5/YChaFKCC8Bx54oBW3EWJCQAg4J6KrqyASCAQxa2QlQ26RB8Pg77jjjlZhqHv37laxrEqVKrasp5i1SEyrOikEhEAZESAngaRbqq0Rw0toA8oNJOGSk3DAAQe4Hj16mDZvhQoVyngW7SYEoo+AiG705zDWIyALee7cuZZY9sYbb7jVq1c7vLXt2rVzkFuW7SihWb16dSVkxPpK0OCEgBAoDgFCGEi6pQLbW2+9ZWFc5CmwotW4cWMjvBDfBg0aSGWmOBD1eWwRENGN7dRGd2CEJlAfntjbadOmuSVLlthSHRnHXbp0MV1J/sZrQaleNSEgBISAEHAOLy8a4cgqQnRZAaMwztq1a636GjJlhHihH77ttttKN1wXTU4gIKKbE9Mc/kEShkDM2aJFi9zMmTNtKY7YW7y3VAmiYlnz5s1do0aNTFJHoQnhn1P1UAgIgewhgMMAHV7id7GrrIihJU4+Awm7lDqn5DDhX6oEmb150pnTj0DOEl0y9on7VMsuAmjefvbZZ0ZsEUqnBjzhCjvssIN5biG4LVu2dKr9nt554sFBWdrpxVhHLx4B2ePisSnvN9znkCij4tq8efOsIMX777/vCHfAzuJIoPpas2bN7P+SKCsv4uXbP1DMkD0uH47594410eUHzjIOcZ0E6BO0z4+bAH5kqFjmUcseAswPHoeA4BJfhhQYcbdkD++22272f/3g0z9HxPIRBsKLSkwk9RH7zPImf8uDnv45iPsZ8DASR4o9ZikdO8wLm8x3cjyk/woIbC4FdWbPnm0xvZUqVbKVMjy8lEKneqRa9hDgfkfyYGCLscfoJFMgBJvMg4juiaWbn9gRXX7IPL0So8SLJ1eI1BdffGGeQr7jxVK5LpbSXSzaOr4I8LvBgLKsyY0P40riSuDpqVevnqtdu7ZiouN7CaRlZDgTILfYX1ZuUEthGR3HA3YYhwMkV00ICIH/IYAtxrHAAwe2mBehJTyEYI8J38MTTwK2vO/JXTWxIboBwcVDyPL3U089Zcs0EFpu2lwYvEhg4smoZs2a9tSUHEzaKl0IMG964EgXuskfF11OPG1ff/21vYiP5reEx43fT6tWrVyfPn02CCPRvCWPb65tye+asCQI7pQpU9zkyZMd1xTXDN4pkknr1Kljthh7zI1cqwbZvUpki7OLf3B2Hg5ZfQ5sMSudPCTye+KhEKKL4tBBBx1kvyN+O9KLD9Ar+j0WRBcyS4gC8UcPP/ywVY7hKQg5FWqCsySDUdWSTNEXgT4VAgURgPguX77cljchKiQI8lmnTp3chRdeaGElJArKwBZETv/nOsFjO3r0aKvg9fnnn9vqANn+2GRi7nE0qAkBIbBxBHgAIW+F1RBUNNBLxjbXr1/fHXfccVYVD34D51ErGoHIE12efpCfguCOGDHCXPnU/77gggtckyZN5CUoet71qRBIGgGIy+LFi92wYcNspYQHy3PPPdedd955Fs4gsps0lLHfkGsFOauBAwdaiALZ/WeccYbr2bOnJZTGHgANUAikGQHKQI8bN87s8YcffmhScf3797fCSTjztNJWeAIiTXTJ1MXbdPvttzuC69FYveKKKyyWhaQmTXjhCdcnQqAsCPBbI6YSw3rttdeaxjFanLfddpsV7+D3ppbbCBDm8uCDD7pbbrnFwsJwNhx//PG2msbDkOxxbl8fGn1qEMDDi4OPVZN//etf7rHHHrNQh759+7qrrrrKkodTc6b4HCWyRJcbL0tjd911ly2pMsknnHCCq1GjhkIU4nN9aiQhQgADizeXWDFWT+6//35LiLj55pttSVqhQSGarAx3hfjue+65xz300EPmaLjxxhtdixYt7KYrj3+GJ0OnywkE4EA8XBKyiS2mIt7hhx/u7rjjDtOfzwkQkhxkZInupEmT3E033WShCeecc4657SG58hokOfPaTAiUAwHkoVhNufXWW82o4uUl/lKkphygRnRXkhafeOIJ949//MOywnnwIWwMiSTZ44hOqrodGQRQLkEj+YEHHnAvvPCCI3QTu6zf319TGEmiO2vWLHPRo78Iye3Ro4d5cv8alv4SAkIg3Qjg2SVWDIKDosmVV17pOnTokO7T6vghQoAHngkTJlj4GHJ0rLChg60HnhBNkroSewRQY4Ds3n333e7ll1+2hGFCh5Sg9r+pjxzRXbVqlbvooovcBx984Pr16+d69+5tEjWxv5I1QCEQQgRYsn7kkUfcmDFjTN3ksssuM29eCLuqLqUYAWK2p02bZitrLKPeeeedbp999pEXN8U463BCIBkE+D2Sq8Tq2kcffWThDPvvv7+0zz14kSK6BGATf0LCA7Iaf//73022JpmLQNsIASGQHgSWLl1qJIcYsRNPPNF+l1T1UYs3AuiVk3hGUZ6rr77alkzlyY33nGt04UaAVW6kIOFGhA8NHTrU3nO9sERkiC5JMHhxe/XqZRMH4aVErAxruH946l38ESBJ7c033zTPHoYWJYa99947/gPP4RESthJIOqJVfs011ygBJoevBw09PAhggyG4qFFdeumlJu9HKfdcbpEhulQKIQbw2WeftUns1q2bZDRy+crV2EOFAMYVJQbidZH5g+wqPixUU5TSzvBgg7ICDzk4HShPqiYEhED2ESCMiLLbRxxxhMMuswLeunXrnC4XHAmiizf3008/tfgvYsCYOCqBqAkBIRAeBFjCvuGGG9y///1vN3z4cKuAFZ7eqSepQoDEF7xFzzzzjIWqXH755SrMkypwdRwhkAIEeADF8UBdgUsuucSdeuqpbptttknBkaN5iEgQXcr7IoqMQX3qqadMSqxy5crRRFy9zhkEMDboHEIMiC/nRawUpXORfolbQ+bm6aefdshLnXXWWWZk4zZGjcdZJUqSDvEWMdft2rUTLEIg1Ahge7FPJGzh8eT/m266qak1xbXYDV5dJB+RXWXVhQI/udoiQXRXrlzpTjvtNMsknD9/vj2ZSJ8xVy/Z6Iwbkjtq1CirUU4VG+IaWYm48MILY7vUS/lXPAjcPF599VV7j86MqafJIMA1TRJa165dzYOvxMNkUNM22UTg66+/ds8//7yDP2CLIYFVqlQxOS5k8eLaCPcMCmshw5qrOU2hJ7o8fVF2tHPnzu6oo46yC3OrrbaK63WpccUIgRUrVrjrrrvOzZgxwyGqjzehbdu2Vj2KmKk4tuXLl5sCA8Ll6KtSHUstXgjwIIOsGDKPVKRUEwJhRwAOwerDnDlz3GeffWZe3ebNm5sO+E477RT27pe5f2jqnnfeeVY1FiWGnE1K88uroW7fffddYuTIkQm/3Jt48sknE54shLq/6pwQCBDwseUJH3aT8BXEEh07dkz4VYjEwQcfbJ8F28Tt/Ycffkj4+uuJ7bffPuGrZcVteDk/Hl8gIuE9Q4kDDzww4eXkch4PARANBNavX5/wK2qJBQsWJLbeeuuEZ44JL4WY8KvF0RhAGXvpHSyJNm3aJI4++uiE19gt41Giv1voPbpfffWVGzJkiCWgodPJ01euut/L/FinHbOKAEk7JGn95z//cSeffLKtShAfFsfGCgy/Uzx9SAGStKQWHwRIOMQztPPOO5t2bqNGjeIzOI0k1giQK0FolX9Isxjd++67z+yUJ76xHTexyJ7kOioYopLCynguttATXZZCBw4c6KZOneoQplf95ly8TKM9ZkguRpWkgAEDBli8ebRHVHLvFy5c6M4880xXv359WxoseWt9GyUECFkgdOGwww4zjc5q1apFqfvqaw4jANn75z//aUntOBqQyCOEbIsttog1KoQYvfHGG3bvOfLII2M91uIGF3qiu2TJEnfxxRe7ZcuWWXm74gaiz4VAGBEg6aF///7Oh9+4vfbay7Jf415MgXg46qwTk4yBVYsPAuiYUwXtjDPOsKTKXK+4FJ+Zjf9IPv/8c4dayNixY+0hHNtEcnDcE9vRNEetiuIRJ510UvwnuogRhp7oLl682G6aPvbPlkSLGIM+ykEEkDbiCR0yVdqGYUMVgIIGeKT4O5XGzkc05R2PMqk8qOEJYykfz27t2rVL2+VIbf/JJ5/YmFFLwburFh8EfPy1JfWcf/757txzz43PwDSSMiOADUbV4Lfffiv1MfCs8rCEXChJ5umUXeQBnGV8dL4ppjBs2DBbZSt1pyO2A0V8qD2AZ/f000+PWO9T093QE92PPvrIsgZ9MLl7/fXXUzNqHSXSCEAkZ8+ebUUJkPDi/8k2CC0vDCqGdbvttjPiSawhtcHJSi2triLXJrHklKgm1IY+oZWLwsKiRYssTpUViXPOOccNHjy41MdPdmxh2Y5VGJa3CTUiplMtPgj4BEOreofHnutZLbcRIAZ05syZ5iX1ieOlssUgR74Nthh7ie3Fw9q4cWPXsGHDMhWFIkcAG4yDjAdttHNxZuy6664m7wjBZRsUGM4++2y7B8R9BiH05DmxskhIWS42Ed1cnPWIjxli++KLLxqBxNOPPi2kqmLFim633XbLi7lCL3HVqlWWeIARrVWrlqPKHkQUDwRlpSG9fAfJ9coIVr4WSaxkl7QoZoLXFimtWbNmOTRF6QceZ6884OgfsWBoNhKfy5Jv3JuIbnxn+PHHH7fwGzy6IrrxnedkRwbRJRSAgk6ssJFwi93FibDDDjuYPcReYwd56IXY4lSAfOIg4PM1a9Y4SDKe3Zo1a1qiY4cOHdz+++9vMbQkiyWTgI7NxQFCf/De4rCARJOEBpGuXr26e/TRR817jOwWjoi4x+cyjyK6zonoJvuL1nahQgDDyBM7RhWvP3GDEEwMWVDqcPLkyZZ8gFHlSbZly5a2vIamLfFZL730khFhvscQYihJGOvdu7eVNsWzUFJIA31glYGqM3hzDzroIFuyx5BDfq+99lpbuue4GG68ufvuu2+ocExHZ0R004FqOI4pohuOeQhLLyCxOA7QpuWh/7XXXjObW7duXQtt2XHHHY1oUqiBpXNUk4iTxbFAyAPEmH3QGseeE8LAvgFZJjyGkC/CvYpbaaMPkNlXXnnFEtfZ95BDDrFlesi2lxQzpRvUYCDmHAt7jc0vyb6HBePy9kNE1yPoL5JQN/9klvBPdolOnTqFup/qXPYQ8GEDiS5dupjWsi/SkNcRL22V8KQz4et9J9C0zd/88lVi6NChCW/0Evvtt1/CE+SEN8AJb5hNA/aUU05JoEFYXPOGNeG9yglPYBPeOCcOP/zwQtv7DN+EX4LL02z0N4PiDherz32MruHRrFmzWI1Lg0kkvOcu4ZeBEw888IDgEAKFEPDxr4lDDz004WWs8nSW0a996KGHEt4RkbjrrrsS3ou7wX7eE5y4++67E57gJtq3b5+YNGlSwlePTHiSmvB5FGa/seuepG6wX/AfbLF3XCS8youdw1dRTdCPoPnwhYRPxkp476197xVDEj6eOPg69u9g71c6Ew8//HDsx1rcAEV0i0NGn0cGgdWrVyd69uxphNNn1ub128dhJXbZZZeEL1ea91n+PzB2GGXIrl/usmIkzz33XKJVq1YJH7qQ8LqDxRrXjz/+ONGnT5+ET6ZIeE9xwnsl8h/a/p44caKd3y/JJa655poEBjkXmohufGdZRDe+c5uKkX3xxRcJL2GV8CtXCR+7a4eEyOJU8GFdRjghngWbj6lNeO3thPf0JrDB2EofXpCoV69ewodBWPEZv4JWcLcEDgvO6RVtEj68weytT4DdwG5DkP3qnh3Hr94luC9QQCJXmoiud/mHfbLl0Q37DG3YPwxPaV4b7l22/0F0Ma54VgsSXbxPxRFdznbvvfeaJwHvL1XM/HJawhd4MKLLU7CP5S2yU/fcc495fjHeVNgp6DFmp0GDBtk2eCogCLnSRHTjO9MiutGY29LY4GDbVIzM50SUSHSffvrpRFFEl8/8EnvC51Ekrr/++ryuDB8+POEThq2ipA8Hy/s8+AObzWoci9O8fLhYIZuNR9mr3dj3HMuHOGxAhINjxfVdRFdEN67XdsbHxdO2l9BKeM2+hE9SsZKDXbt2tVKhlAst+KKMqC8CkvDxq+Xua3mILl5XHzeW8CoBVg4So8+yl08aMwLM9wUbIQ2QW7y5Po438cgjjxTcxMg+Y2S5jvCG6dOnF9omrh+I6MZ1ZhW6EIWZ9TGqiVdffTXhcwISXlkgcdRRRxWyv4E99nkFCcK0CBdIRSsr0cXu4snFg0voQdC4P+znQ8sIAfM5FcHHee9eYSFBKAIkF3tMCEPBlTOfM2DH9PG4dhw8zJwvV5qIrohurlzraRknyz9eNsuW+HfffXcjhj6ZK+EVBmyZCpLns16LfFFvnJghnsjL28pDdH0ShMUv+bKmic/+P4bWF3lI3H///QmvxpDw+oOFuucze834YlwhsV5todA2PrEiASYYV1/2NwH5y5UmohvfmZZHN5xzy/I8Hk9CpPbYYw9bkcpvi4uzw9hoX87ZYmdTMbKyEl3OTc4DTgefDLxBV4jXxRM7bty4QgTVJyLbfQc7yzggvgVJLOTXF+mxeF9C1YqL9d3gpDH6j4iuiG6MLufMDoWn4hEjRiS8RIstNxE20K5du4RXNzCSiFHCq0DsalEvX3PckrdSEStVHqLrVRMSJE3hhQ6ILktdLKN59QYLbSiILJ4FXzrSvAjEBheVtDZlyhTz9mKA8azg8WY7L7Fjfxc8Zpz+L6Ibp9nccCwiuhviEYb/8WDuiwLYQzcP59gtbHG/fv0sCcxXs7PVtqLsMPZv7ty5tpqVirGUh+hiV8mpKEh0WW1jTISU5Sex/E08rldjMG8unuuiQs1Gjx5tRJljEBbBfl7SLOGVIAolxqUCg7AdQ0RXRDcU1yRPmF7TNQFhI7AewkWy03vvvZeYN2+ePaUGWaIQQ7YjeP+dd96x7/mb5apgm3QPiqdmPAc8QeMp6NatmxFDL99ifYcEE3NF3CpjK+qVyj6Wh+hCxonjDUIX6BfGeuDAgWYcvUB+oa4S49WmTRszriRQFIX7ddddZ8aZGw8Zv2wD+T/11FM3yAgudPAYfCCiG4NJLGYIuU50IUnYNmw0HlRssC8KYzaD+P78LdgWIgmpwsanurFy5Eu7WhIX8a1eVstWylh1YrWNh3b6W5QN5jP6mMpWHqJLwhge3fyhC/QP4otH12uVF+oq2HMPIhHNy5cluPfkbzwEkHwGGSb8gVA0bDFOGs6TX6Un/35x+ltEV0Q3FNcz8lg33HCDxX0ed9xxFlOFXNXBBx+cOOCAAxI33XRTwmsBWuYoBIr4UOKSkF3je7b1NaztaRVPIsdLV8MwYDiQcsH4IMnF0j1GPNVGM9kxlIfojho1yjyvPOlzHMaAt3mfffYxw8gNo2DDi0CMG95aiG5+rzT7e41G83QjZ4Pnd7qPz8Wb6wtGJLp3757W+SnY12z8X0Q3G6hn5py5SHT5TWPfILUkrxLmhPcQ+4ysIbkIKLBgQwiFCtQBIL5PPvlkgjhYrwWb0vAl+gSJu/zyyy3hFVlEZBSxV6kIByvr1VRWogvpxvOKpBhOh6Bha0kKJgwsUHEIvuMdhxDkGKLrS61vQHSxy+SBEONLmBkrd59++qkR/2OOOcacDjwoxL2J6IrohuIaJ/mJGCJ+jEW9+JEff/zxRp7wEGIMIFBoDvKUCqGCdBH3ymd4IzF4BT0M5R0s3gFudE2bNrW4KAy7F/zOGsENxlNWootxhaj7CmYWi8vNjMQFPkNe7Nhjjy3ypoHXAO8BUjUQXogtNx4SJyDJxORyTIwv+s94ujG4vs66PdBw3jg3Ed34zm6uEV0SmyBT6L+ycoUUIUlP2Gk8qL6KotniBg0amM2AVKExjDeVFTlWfpAXJMmK1blUNfpFuAL9ISGWJGBW2rJtW8pKdAk5QM4RhRpfrtZWA8HwrLPOShBrDPnNr6gT4IgDwReVMFuL08dXyLR9IfskR+OIwBYzX9xHuV/hXcdRw0pb8FASHC+O7yK6iYQqo/lfQLabJ2rOZ+5btZbPfIUZqsh4Q5bXLU9irVQhZWn33HNP50mxVZihfKEnyVYOl0pfnoAhF2elDj3Bct44OO+ZTKp8Yt7JivmD41Li1nuUrdKMJ4FW+YuyutluVMLxBtFR1pEqaf6mYl2iEpn3qDhv7NyVV16Z103G4h8CnL/xuPPOO8+q8FCel4pmVFPjOJSi9IbXeSKbt1/+P6iI5m9+znsInBdHt9LB9MN7dKxSkL/xuRdeeMFKUHrvgfMG2cpdeq+DlZ7Mf6y4/a3KaHGb0b/Gk0uV0fwSt9lknzTrfJyrlQ0HCSp0+RhYq4ToE7+sIiN2gMpc2Eif4OW8h9dKjHsyajYZm+RVBayk7V9olu0vypjzG/OSis6v3jnKMft4XCtbXrYjpm4vKp1RzYyyvn7lz8qqe8+zGzlypPMeZ6uadsQRRxhGwVm9A8X5VS+rMImdpKKkXy00W+zlyJyP23Xek+48US1UHY37pH+gsIqU/oHEylJ7z61VXKP0OmWFuU960mtV0KjORtVKT6KdD0uzKmz+wSXoSizfVRnNT2vYn2ByRUeXJ3FiqYhTwmvL1AQvPLZ4DnjS5Qm2YMPjgPcRj26wDyLbxGuBXyoa3k6euOkby3VFaRqm4jxlOUZJHt1AOgyMwIKlMG8AbUmxY8eOlomLhxxvABjzN+MjpAGvSXGN7zgOSWzsy/IlS5R4F8gEZp58aWD7nPOw1ElSSFHxvMWdI6qfy6Mb1ZnbeL9zyaNL7gPJtWhlB3YV7yxhTWTy55dGxH7jwcUD6R+STVYQ9Zlgv1R6dFlZY9WOvrCixCoUK0phaCV5dFF4oAIa9w5WwbDF4IjHkQITxNESDocmOnkTJI/xOWoMJXlescWsmhG+hy3G84499s4Ni58mXAFbjF3fz3vc+Y7EvFSveIYB/6L6II+uQheKui6y9hnGiuUals0DA8k75Au5q5KIF0vmEKpgWY39WPKBeKWCXGGciAVmaYniCmFqJRFd+ksmLzHNEFFCO1hmxKgS7gFOvua5YYyCBDFvxOIle+MgDoxlN8gtiYT59+Pmx1IZN0ziprO9rJipORPRzRTSmT9PrhBdHuzJRcCGBrYY2woRQ6mgOFsMgfMeyw3sMPuniuhiXwhRgAiShEWCa8GSupm/Kv46Y0lEl1AuQu5wwEDQscXYZwgwthh8cdBgn9kOoootSfb+BTacP7C3+ffjb2wwzg7uF/nt9F+9j+dfIroiuqG6sgMjVpDoUt6QeKOSGgoHBOPn9yJgPPBoYizK26hog3HliRgiGKZWEtHlxgQm3LDwgGBs+Qzyi3ea/1PYgXitkuqph2m8Ye+LiG7YZ6js/csVostqjQ9JyiO5kNWgCmL+5NOCSOIlZFWOh+eAIKeS6HL86T65FbuFDYPYhamVRHS5H7HqWL16des/zgbinEmk4z1YhUQZIZ0J1WHCKxN9EdEV0c3EdZb0OUoiuhi3jTV0BslQzW9gWUYjUaG8DS1YlpJIikODEGNfnhfEPFVP1SURXRLnWObDeJK0gQeBmxjn9vGGlsxBwhjKEanqT3mxjvr+IrpRn8Hi+58rRJfks4IOBx6Mx4wZs9GVGbSy0bHNb4dT5dFFaYEQNkgiUoXYvvLYYfZNpS0uiehWqlTJqkgSFkYyGI4T5B0h7yTWca8iKfszL92mljoERHSVjOZtUXiav7Sd9ypaspk3GHkd8x5dd8stt1jSU96HRfxBIsRVV11lCVHB1/4p2flsfwu8Dz4ry7tf0nc+m9h54+S8rI4F9pflOME+vsCE88UWnH+at4SB4POyvCeTjEayWpAQQUIfiWLew+B8XJfzxtZ5ySBL6vBZzGXpgvbJh4CS0fIN5/bTAAAZo0lEQVSBEbM//cOhJQ2RAOXj02M2uv8Nx5M/sweM1Ycb5Y2RhDKSmpo0aVKi/fOZ/84rt1gCW7Az+6YiGc0TW0vM8s4LSzQmMZlkq7I2bCAJxSQvt2zZsqyHydsvmWQ0H0bmvPPB+VU0S6gDKxpj8qEY7oQTTnCezJeIcd4J9cdGEVAymocodc8N6TlSriSjgV55PbrEh7EMz7QGL+K4CMIvbwskXEiMY1muvC+WsO67774NdA/L2seSPLp4DfxDgnlhSEgjfo6+47Ehtm3OnDlWMhOZtuHDhycdD1bWvubCfvLoxneWc8Gjy4oVRQoCGxq8YyN+/PHHjU4uElcF90+VR5eYf68UY33DtpfXDiOR6Im7JRpvdGBJbFCSR5fQD0LgSLomQYwwOLzm5J+QbEYhHiTAvPpNwj8UJHE2bZIMAvLoyqPrbVh4mr9oy+XRRWoMGS2eioOGvAryLEiwlKdxXG+QnFcmMA8xnoDyNDy6PvvVpMD8Mlx5DmXyYMnIi/klMpP/8eEX5gUZP368eWf++c9/OmSA8C4jn4aXRK3sCMijW3bswr5nLnh0fVKpSWT5Slx504G9wz4gYbUx2+eX3s0O+wIIefun0qOLHUa6yxNF54sGbSDVlXfCJP9gLD4kzWQrfZhXknsVv1kyHl3kxbgv+TAQ54shmZSjL5hk8mE+rMG8vdyzsM8+XMTFXf6reDRT8408uh7HZJ4IsrmNPLouQTJaMjG6ZP77cIANPBHEchEvVt6GPAtJXMhkUeCCksPleRFrRnxYKloyHl3Og8ccbw2FLsCFeGMq4yBEjjQNXhe/JJuyuu+pGFsUjyGPbhRnLbk+57JHlxh/4lk31tLp0UVazBMXS6xFUjIVtpjiCvkVCjY2vpK+T9ajyzFQq8E73cCrLHgdYFMcwnb40AVLTOvfv39ayiaX1P84fiePrpLRQnVdlzd0gWV4dAR5fgleJAAgC1beRgIBiW7oGnKeMLVkiS59hlxzcyABDeL+6KOPGvmlchlj23nnnS0xguU1tbIhIKJbNtyisFcuEF2kw04//XRTBgjsKO8QMsjZxlo6iW6gukDYAvYYpZgwJdGWhuiCI7KY6Npid6koB+lGvg1Nc5QYKAscJvm0jc19GL8X0RXRDdV1WV6iS1yTTyjII7kYZ6RcfKWZco+TTGLiW9H0xbubjGej3CdN8gClIbocEu8FxRuIDyPLF2OLp/fBBx+0m0eHDh2sZG+Sp9dmBRAQ0S0ASIz+mwtEl+nCZmI78xNdyu1iKzZGLCG6vhriBvumKkYXLW601ollheyOHTs2VESwtESXmGc81ORSkEuCdCVea0gv8cMU55g7d27OFHdIh6kQ0RXRTcd1VeZjlkR0N6ajC3ljSZ6n4MA4+/grC+z3ZWnL3KdgRwwSAuoc38eFWRWg4Ltsv5eW6IIzHluqmiFpc+GFFyZ8XJ0JsVMwgqQTqvOQvKZWegREdEuPWVT2yBWi+/zzzyfatGmTZ0sDpwGVvUp6yMe2kBTM6lBgh3lPFdHlOsHr6XMJLPyqe/fuZqdK6lMmr63SEl36hu0lZAyPuVe/Mck0wuKoSudzORJnnHGGVX8LyxgziWcqziWiK6KbiusoZccojuiyRIVGbklxVJAyL/u1QUUeCiUQx5WqpR/KNVLRZvvttzdySAZwGBpEF28zRpF426BBzBFVR3WhqEbJTi81ZoLlI0aMsMzfefPm5XmuKcBRVMnloo6lz/5CQET3Lyzi9leuEF2qHKI0k7/8Lx5UHvIhYcVVOWRlyCe3muZ4uogu9wFsF15QbB4a5/S3uD5l8hqkHzgJIPozZ860U69duzYxdOhQw5LCPAXDwrjvkYOC9xYFCMIVGCPKDFT7RL/YJ61Z7kQYxphJPFNxLhFdEd1UXEcpO0ZxRBdjdtxxxyUIHyBGK39jH+LGBgwYsIHAOUYZEocBSVWjtvu//vUve/JmGe/WW2+1Erf0IZuN8VPeF6kdYtaCBsEl9gtPd3F9fPjhh82DS310liUxwsjc7LHHHkbo77zzTvMwyMAGqG78XUR34xhFdYtcIbrYixdffNFsKImrAWnFFoMBybT5bQJ/Q+goKNG8efO87YP9UunR5dqBCLLkT/gVRXCQ6CKxNlUJvmW9Pj/z3lnKrSMdRmEeGlgRikC+CDkR3EcKNrzUfMdYCCcjPIPGHDRr1sxsNGPEuZIf94LH0f8LIyCiK6Jb+KrI4icYV+qYF6zIQwgC5RExIJAxyiNiPPAesD1EDgOBUWVbDErbtm1NszDVw2FpKqiShhYuXk+MG7XhM2mAIPx4VvC4LliwwLyyJJe9++67RvwhvxDdBn45jApCGE4+K3iDIh6sT58+5oG59NJLzYvAeDC6jI84MTzD7M85iyPMqcY5yscT0Y3y7JXc91whuqDAQy/eRTynFStWzLOvhG/hmWT1CHKLHSIul+pexM4GpcYDkst7qoku/YPsstRPf7hnXH311QmUd1jBy4Yt5r700ksv2cMB8bZUPcPmYk8hujhfCBMjGZhtIbf5iTl245RTTjFbTAgZ+/LCm4ttB0PuPRyvKLIMJmqFERDRlY6ut0Hhaf4SLVJH1xNX00r0P27nvZbOL+dYhTJvKJz32DpvOJyPX3K+/rlt542M8wTU+eWjjWo+lmX0PlTAqtp4gu187K7zT9xWJYmKNz6Bw3QP0T5Eo7G4xncb26a4ffl89uzZDv1bKsn5m4xDu9WHajjG7m9Ktqt/CHBeng4JPdPA9PJA9k71OE9g8w7vl9jcFVdc4bwBtbGgK8m40B7mGDSqqd17772udevW5apElHfSGP8hHd34Tm4u6Ojmnz1Pdp33TFo1OOyEJ2ZWLY1qZOjYehLssMs+5Ml5oma2wSfsOv8A7jxJyzuUJ2kpqYyWd8D//4P+YYeffPJJ5x0frn379s4/2Fv1Sv+gbvcEbG26bLF/8Ddtcl9sx3kniPOOBnv34W3Oe7bNzrIN9wyfK2L6ufTRE1dHxU+/Uul8OWAbjSfnziv6uBNPPNF5IuwOPfRQu0ewP/c5/0DhuBd27tzZeaeEaQgXxEP/L4yAdHSd2wT+Xxia8Hzin1Cd19ozA+NlR8LTsTT0pDiiGxgvSJ3PsnU+dskMF9tjBDBivpqMlYT02b5WzhHSly6hbc7rPbhWOveaa67JE1HHuEEI/bK/FYKATBZXDMIvAZpAONuUZISLgpkx+5hld8EFFzjvUTEiG1zG+clzgA/H4Bz0BSFyn2hi/QvOi4FFhN1XajNiy+fsG7zY38fqWQlkH39mDxt8plY0AiK6ReMSh09zjegyZ9gb7MyUKVOsGA+kC/tHC2wI9hbiRklxiBsFbLh3BS1dRJfj+5UmK2/u42CdT4Qzcost5r7hV/YcZc0D0hv0J3in/zgnfIiXq1GjRvBx0u84WJ544gnHfQAyC1bYTY4bvPg/je9o2GheXgrTeQ+tOQ/sC/8Pzhvucdh2L/MWfLzBcRs2bOguuugiK9met4H+KBYBEV0R3WIvjmx8gUGAzFKZi6fjoGFABw0aZCTSL0uZp4Dv8S5AFKkeg7HiaZcX3obAAAfHSPU7fcUQYdyoxEaVG57mMXwQSrzLgaEr6tx8RzUcX7TB+l7UNiV9hicDoxgYz5K2zf8dfcOg07/8DQ8uL/pfVKO/YI23OF0PEEWdN4qfiehGcdaS6zOk5vbbbzeS4VVLktspBlthZ7B32B2IJd5FbB//Z5XNhw6YXcH+Uj3NFz2w1aRg6OkkupwDrzL3Dh7ivXSi2WIe4ANbXJLNYgXr5JNPdj7PI+huqd6xmxD/0tpibKkPydtghSzA2YeUGWEuqiNUVcPxwL5qG0dARDcCRHfx4sX2dMcPycenbnxWI7xFSUTXx5vakg3bYMAgufwNYeOHjyFLN7ktCloMk69T7nzsqy3XLVq0yEIJWEbjJlCc8cOj6+VjzPvrY7eKOrQ+iygCLOESOuOTY9zChQsjOgp1uygEfDKqlZ/1clBWJreobXLhMx6IeWGDsb0QyoBMYgN5gCdsKmjpJrqch/5wn8QW4wgh9IqwNv4PES6q0WfCCHxFTbu/FLWNPos2ApS39zHSZpN9IZRoD6aMvQ996ELgHWK5nmWZOLdkiG6Yx4+hxeMMwfWJEkbIi+svBB1PAk/m2SDoxfVLn5cfAW7wECGuAeIa1eKDwPjx451PenKnnXaa84lFRvDiM7rUjCRbRDd/73GE4GmF4AZxxfm/z/83jgZWq+QhzY9KfP726kju6aefdpdddpnFP8dnZMmPJPREl2QgX6XGecknezplaSiuxCjqRDf5y05bxhkBr4LhvMi785qYzmetx3moOTc2Eorw1h9yyCF24yT2U21DBMJAdDfskf6XywjwQPrWW2/ZA6rXm89JKEJPdMlcxfU+ZMgQ8w6R5VowvjIuMyeiG5eZzN1xEKriC4tYzB8Z1YTcqMUHARKs+vXr51AwGThwoD3MxGd0qRmJiG5qcNRRyo8Aq6wkUBNeeOONN5pSSPmPGr0jhJ7osvwyefJkR2wJZNdrnrq4xXQyRmIZiaUiyeGSSy6xLN/gciIjFsmYFi1a2BITmbSBhFawjd6FQBgQIEaQ5ESWt0laIilHLT4IkCSELeadZFKkDtX+pxZAPCyyYsgUcu2THBY0wrRQJmCVA0WEHXfc0Wx58L3ehUA6ECBPAi8u15svG21yeOk4T9iPGXqiS+IVMX8slSFHgnc3brFEXnjcyK2vfGbxVPyfuKqgEceKUgDjbtq0qXvkkUdMaSH4Xu9CICwIcJO/7bbb3NSpU92ECROcL18dlq6pHylAgFUndKh9YQCLw+YBPK6hZKWBC6UF5AmRHkOVwVfw2kAei2Q1lBkIvfOlbi38Q7+N0iCsbcuCwKRJk+xaQ1Xj7LPPtryYshwn6vuEnugCsK+fbZNEFini3RiMIMM16hNA/wOiy/gYFzeO/DcPbi4sCfMO0aVQAh4CNSEQJgS4Pglb8FWN7KGMlRhu8GrxQgD5Kl8t0ArS4NVFXivXG0ojFJSZNm2a2e7Ajge48NsI7Dj6thQ8aNmyZfC13oVAyhGAM3CdQXZ9KXvXvXv32IZ9bgy8SBBd4ktGjBhhWb5UgOnRo4dDniouDZUCDCWhCxAD5MJ4QXa5WPFqE2vDC68uBRniRPTjMo+5Pg5CcPh94tFFdQFRd7X4IcASPZUE0bH25VmtUEL8Rlm6EaFuQOI0oQvomGO/ySXhhQ0P7DcrdSgcNPRFD9A+VxMC6UIAnecDDzzQQmUIpfHlqdN1qtAfNxJEF0OBEWnXrp0Z1QcffNBRZjG/1zP0SKuDQiDmCJCEQ8LDsmXL7MGU0tBq8UMAe4xkEZq66MUSygCxUxMCQiAcCPAbfeyxxywunIdSKvbVrFkzHJ3LQi8iQXTBBW8RCS6PPvqoGdhu3bqZBmsWMNMphYAQKIAAmrkPP/ywu+uuu2zFhXhFtfgiMGvWLJN9xENJkjCJsmpCQAhkHwFCZOBLxIKzGjxy5Mic9uYyI5EhujyhEMvapUsXc8VzU23evLm8utn/XakHQsCScIjXxMhCfHJ5mSwXLgcSrh566CGbaxKFecCREkwuzLzGGHYECKMhVIG4XGLp8eaSzJ7LLTJEl0kizgnjSgwgkhkIlzdq1CiX509jFwJZRwClhUGDBrk5c+a4s846yxJH4yYBmHWQQ9YBHmjIKyCEgQREwheolqYmBIRA9hAg34dqlCeeeKJr06aNu//++y0ePK61B5JFOlJEl0GhMwvBZekMuQx0OtElVBMCQiDzCKxZs8Y8B88995w76KCDLEmpbt26me+IzphxBH799Ve7qfKQQ8IwHiQkINWEgBDIPAL8HpEoPffcc92qVassZIG8Jq20RCh0If9lQ3EFJIzIKoTs9urVS3Jb+QHS30IgAwhAblhhGT58uGvVqpVJ2RCyIEWQDIAfklNQOOLFF1+0Cngku7Bk2rp165yVMQrJtKgbOYYAORKQ3Ouvv95Rgp0wsmOPPdbymJS0H1GiS4A1wtyDBw92xKP07dvXytzVrl07xy5vDVcIZAcBVlaQ/EPTmao7SIntvffesatamB10o3VWyrSPGjXK4nXR+SbLG61YeZKiNY/qbTQRIFxh/vz5bujQoe6dd96xECLkHatUqaIcpv+f0siFLgSXIm76KVOmWAwKXoXDDjvMHXXUUW6XXXaRSH0Akt6FQIoRIMueSoVjx451o0eP3oDkxknbOsWwxfpwxOtCdnnooWojJctxPhDGsO2228q7G+vZ1+CyhQC/O3SbiZFHWYGYeTgQJHe77bbLVrdCed7IEl3QJPMXzy4KDIiYU1IRXUcKKqCzqyXUUF5z6lQEEWBpjLKm8+bNc08//bR5EPid9e/f335vIrkRnNQUdpmbLgVv0O7k+mDVrWfPng4ZSJwPW2+9texxCvHWoXIbAZx7EFucfYQO4YA4+uij3SmnnOK0sl342og00WU4GFQ8TCyjUn+d/x988MEWylC/fn2L3WUJTaS38OTrEyFQEgJI+hEaRJjC0qVL3YQJE8yoUr2PcpL9+vVz/MZULKAkFHPrO5RxsMMU9fnoo48s4xsvE5qelG6H8FI5TE0ICIHSIQC3Wbt2rfvqq6/c22+/7Z555hm3cuVKW1U79dRT7aGSyqlqhRGIPNENhkQ5SpQYMLAkq3EzRnMX0kvcGPXYIbz5SzMqSDtAT++5jgAeOQwpL8gKcV8km33wwQfmNZg9e7Z9hheXpbEOHTooHjfXL5oSxs+SKnG7vFgJaNCggYUydO7c2VbbttxySyO8QZlcHBGyxyUAqq9yBgFsMU6GwB7jraUABA6HqVOn2oMklWJJ/iThDE9ukyZNcgafsgw0NkQ3GPz333/vpk2b5oYNG2bLq9ywiVchrKFx48YWM4Z4Mp4FaX0GqOk91xEgNAFvAcvPqJmwLLZ48WL7DC9B27ZtbVmM4gA8RKoJgWQQ+PTTT924ceMsppu/IbasAlDsp169eq569eomZk/iTK5rfSaDp7aJPwIQ3B9++MFsLzYZqbD33nvPwjN5GGRlBILbu3dvI7j63Wz8mogd0Q2GzFMRN+tXXnnFvf766+bqJ2GCJyW+UxMCQqAwAhhSXpAQNBjxwPEiwUjhP4Xx0ifJIcCKG7JHr776qiXPkCWOE4Ime5wchtoqtxAIVjhYiW7ZsqWtonXt2tXttddeDudD8H1uoVK20caW6AIHpJZlWF54rPD28oTEi2BulBvUhIAQcLaMzEoHL7xseNiIpSTUh5dIrq6S8iAAmQ3CYrDH2F5WDwJ7jG3mezUhkOsI4KGFyAb2mNXnSpUq5dlivhfJLd1VEmuiWxAKiG8Q+yLPbkF09P9cRgDDCZnFiPIuYpvLV0P6xw7xLWiP039WnUEIRAOBwAYH9ljEtnzzllNEt3xQaW8hIASEgBAQAkJACAiBKCEgohul2VJfhYAQEAJCQAgIASEgBJJGQEQ3aai0oRAQAkJACAgBISAEhECUEBDRjdJsqa9CQAgIASEgBISAEBACSSMgops0VNpQCAgBISAEhIAQEAJCIEoIiOhGabbUVyEgBISAEBACQkAICIGkERDRTRoqbSgEhIAQEAJCQAgIASEQJQREdKM0W+qrEBACQkAICAEhIASEQNIIiOgmDZU2FAJCQAgIASEgBISAEIgSAiK6UZot9VUICAEhIASEgBAQAkIgaQREdJOGShsKASEgBISAEBACQkAIRAkBEd0ozZb6KgSEgBAQAkJACAgBIZA0AiK6SUOlDYWAEBACQkAICAEhIASihICIbpRmS30VAkJACAgBISAEhIAQSBoBEd2kodKGQkAICAEhIASEgBAQAlFCQEQ3SrOlvgoBISAEhIAQEAJCQAgkjYCIbtJQaUMhIASEgBAQAkJACAiBKCEgohul2VJfhYAQEAJCQAgIASEgBJJGQEQ3aai0oRAQAkJACAgBISAEhECUEBDRjdJsqa9CQAgIASEgBISAEBACSSMgops0VNpQCAgBISAEhIAQEAJCIEoIiOhGabbUVyEgBISAEBACQkAICIGkERDRTRoqbSgEhIAQEAJCQAgIASEQJQREdKM0W+qrEBACQkAICAEhIASEQNIIiOgmDZU2FAJCQAgIASEgBISAEIgSApEkur/++qv79ttv3fr166OEtfoqBGKLQIUKFdxWW23lKlasGNsxamCFEfjzzz/dzz//7NatW1f4S30iBIRAxhHYZJNNXOXKlV3VqlUdf6s5F0mi+95777kxY8a4b775RnMoBIRACBCoU6eO69Gjh2vZsmUIeqMuZAqB77//3s2cOdNNmjQpU6fUeYSAECgBgc0228y1adPGHXfccQ4HhFpEie7w4cPdDTfcYJNYs2ZNzaMQEAJZRGDFihVuyy23dFdeeaU7+eSTs9gTnTrTCCxfvtzdcccd7vHHH3ctWrRw3GTVhIAQyA4CrHYvXbrUtW3b1o0dO9ZVqVIlOx0J2Vkj6dEdOHCgGz16tLvwwgvdPvvsEzJI1R0hkFsIjBs3zoxq3759jexquSx35p/VtQEDBrglS5YY2a1UqVLuDF4jFQIhQ2D16tVu0KBB7vPPP3fz5893NWrUCFkPs9OdSBLd3r17OzwJd955p+vUqVN2kNNZhYAQMASmTJnirrnmGtehQwd3++23a7ksh64Lwhbw5NeqVcuNHz8+h0auoQqB8CFAOOfgwYPd0KFD3SeffOIaNGjgNt100/B1NMM9+j8AAAD//3uLKHMAAD/3SURBVO2dBbhV1daGB51S0iAheaS8ICEl3RKCpNIpKd0Sh+5ujnSLdEiLgNSlFEQklRKQkAb97zd+71GvxIkda871zefxsu85e681xjvXWXusOcf4RoTf/zPEoPH06VPJnTu3JEmSRIYMGSLZs2c3yHqaSgL2ETh06JB06dJFXn31VRk2bJikSJHCPifp0TMJrFy5Unr06CHlypXT+/Ez38QfkgAJ+ITA7du3ZcGCBdKiRQtZv369FC5cWKJHj+6Tczv5JBFMC3QvXLggRYoUkeLFi0v37t0lTZo0TuZL20jAegIXL16Uzp07y9WrV2Xw4MGSM2dO632mgyJYdJgzZ47069dPg91GjRoRCwmQgB8JPHz4UPbs2SNFixaV0aNHS/369SVOnDh+tMgZpzYu0N26davUrVtX2rRpIw0aNJCECRM6gyStIAGXEnj06JGu6O7YsUODnvLly7uUhLvcvnHjhkyYMEEWLlwoY8aMkRIlSrgLAL0lAYcRwAb9Tz/9JOnSpZPGjRtL3759GSP9Z46MC3SnTZumqwdTp06VsmXLSrRo0Rx2qdEcEnAXAdxckbKAgKdJkya6beYuAu709vTp0zJo0CA5fPiwzJ07VzJmzOhOEPSaBBxEAA+g+fPnl7Rp08qMGTMkefLkDrLOP6YYFejiCxVbpEuWLNE8lHz58kmECBH8Q45nJQESCCaALeyxY8dqShHSFzjsJ3DgwAHp2bOnYLsUubqxY8e232l6SAIOJ4A8Xex6nzhxQvN0md5p2IouAt2KFSvKlStX9EklW7ZsDr/kaB4JuIPA5s2b5ZNPPtGceawicKfF/nlHsUv//v11m3TWrFlcdLB/yumhAQTu3r2rf5dTpkwRpHoiTooUKZIBlnvPRKNWdJ88eSJZsmSRzJkzy4gRIyR9+vTeI8MjkwAJhJjAkSNHpHfv3oJ83enTp3O7LMTkzH3j7NmzZdSoUVKpUiXp06ePuY7QchKwiMCDBw9k0aJF0rJlS00pKlWqlMSMGdMiD0PvijGB7m+//SaXLl2SHDlySO3ataVr1678Mg39fPMTJOAVAiiAGDBggEBqbNy4cZIrVy6vnIcHdQYBLDqgqhsruUgn+/DDD51hGK0gAZcTwN/mwYMHpWTJkqpMhaI0SD+6eRgT6D5+/Fh27twplStX1i/UOnXqSPz48d08d/SdBBxD4N69ezJy5EhZvHixBAYGaoqRY4yjIR4n8Msvv+h9eNu2bTJ8+HCVfPT4SXhAEiCBUBNAiicK0t544w29DyOlLGXKlKE+jk0fMCbQxXL8zJkzVcZo2bJlFEK26SqkL1YQgCIKZKawgtCuXTsrfKITzybw/fffa7oCtJMhMUbFhWdz4k9JwB8EsAMOPfOkSZNqkbDb/z6NCXSRYI10BXT9wMpupkyZWPzgj78gnpMEnkNg+fLlKjeVJ08eGT9+/HPexR/bQGD37t3Sq1cvSZAggeABJ27cuDa4RR9IwAoCWNWtVauWHD9+XJBLj5RPNw9jAt1bt25J1apVdUkeX6ipU6d287zRdxJwHAE8gCL4QcvJ1atXu77S13ET5EGD/vpQg5xsyjx6EC4PRQLhJIBAF80ioLwAOVbo6kaMGDGcRzX348YEusg5yZ49u+TNm1dXi5IlS2YudVpOAhYS+Pbbb/XmevbsWdVVTZIkiYVe0iUQwIr9p59+KtWrV9diNFIhARJwDgEEuvPnz5cOHTpo7QSUUWLFiuUcA31siRGBLnqqnzlzRtMV2rdvrykMbq8i9PF1wtORwEsJXLx4USvx161bpzrXSGHgsI8AvkR79OihYvRQXKhZs6Z9TtIjEjCcwNdffy3vv/++NGrUSJo3by5uXngwItC9f/++Ch9XqFBB88GwivDKK68YfhnSfBKwiwCUF4KCgnQFYciQIVKtWjW7HKQ3SuDmzZu6UoSCNEjKFSpUiGRIgAQcRuD69euC7rH4D8oLbu47YESgi/xcdFvq2LGjfPnll5I7d26JGjWqwy4rmkMC7iaASl/kbnbr1k0aNmyoOy/uJmKn9whwcS9GtyW0e3Z7Rbeds0yvTCeAnfB33nlHayaGDh2qKgym+xRW+40IdCFhg65Lc+bMkZMnTwryc92cWB3WyebnSMDbBLZs2SKdOnXSKl/IAXLYRwBFh126dJGsWbNqoEs9c/vmmB7ZQaBBgwZy+PBh3WUrUqSIHU6FwQsjAt0ff/xR80zw71dffSXx4sULg6v8CAmQgLcJHDhwQIOghw8fCpoJuL3Hurd5++P4CxcuFKwQIZUMCxCRI0f2hxk8JwmQwEsIYMcFLdnR1KVixYquXSA0ItD94YcfpFy5crqCgEpf5ue+5Ormr0nATwROnTqlygv79u2THTt2SOLEif1kCU/rLQLIv0YHPBS5fPTRR946DY9LAiQQTgKQFsPuC3bZ6tat61rlBccHusgzwdJ78eLFpWXLltq7OWbMmOGcfn6cBEjAGwQuX74skydPVumpRYsWqRygN87DY/qHAPKwW7VqJQcPHtQv0CpVqvjHEJ6VBEjgpQT27t0r9evX19XcNm3aSPLkyV/6GRvf4PhAFx3RIFeE4pZJkyZpJXe0aNFsnAv6RALGE8DfKwrSIDs1bNgwqVOnjvE+0YE/Cdy5c0dXhvBv//795e233/7zl3xFAiTgKAJYeHj33XclXbp0qrwQEBDgKPt8ZYzjA92ff/5ZJcXwpbl582ZtGsGcMF9dHjwPCYSOAFb8oIyCALdx48bSp0+f0B2A73Y0ASguNGvWTFKkSKH5uRkyZHC0vTSOBNxMADviSPt89OiRBAYGSoECBVyJw/GB7vnz5/VJZO3atYKbLPJz2W7SldcqnTaEALa1sQOD1YMFCxYYYjXNDAmB7du3C5r2lChRQlft2bgnJNT4HhLwHwHk0aNmomfPnoIOaW4cjg90T5w4IcgtQQvg/fv3u3GO6DMJGEUAf7Pt2rUTyAJChYEPpkZN3wuNhcTjwIEDtdMScnWpqvFCXPwlCfidwKhRo1R5Ae2AITfmxvux4wNdrA7Vq1dPUxbmzZvn94uGBpAACbyYAHZh+vbtK6tXr1bd6zhx4rjy5vpiSmb+Fh2WPv/8c13NZf61mXNIq91FYOXKldrE54MPPpCPP/5YG0i4i4CIowPd/+b71apVS1cQoNnIQQIk4GwC165d0xUEaK2uX79eO/Iwr97ZcxZS6xDcnj59WnOvS5cuHdKP8X0kQAJ+IoBdNShWvfXWWxrwIr/ebcPRge6vv/4qy5Yt08kZOXKk1KxZ023zQ39JwDgC9+7dkw0bNuhOzLhx4/Tvlkopxk3jPwzGvJYpU0Yg7zhgwADJlSvXP97DH5AACTiLwKVLl1RiDH+3/fr1k2zZsjnLQB9Y4+hAF9IYEyZM0Na/S5cu1ScSHzDhKUiABMJBADsxR44ckWLFimmFPnZiYsSIEY4j8qNOIIBi4OrVq+t9uGvXripZ5AS7aAMJkMDzCUBxAemf6CyLlDLcl902HB3o4saKnDDk6e7atUsSJEjgtvmhvyRgJAF0M4R+Y8aMGWXu3LkSO3ZsI/2g0X8SgLwjtkCR69eiRQuh4sKfbPiKBJxMALrmW7du1SJhN+bWOzrQhcoC2tc9efJEJylixIhOvpZoGwmQwB8ELly4IE2bNtV8TnTniRs3LtkYTmDGjBmquIDFB6SRRY0a1XCPaD4JuIPAxIkTtR8BHlIhD+g25QVHB7pbtmwRSGIgF2z69OnuuCLpJQlYQADSYmgWMWvWLIHcGAog+KBq9sRi0WHVqlUyfPhwFaE32xtaTwLuIbBmzRrdHS9atKjm6botlcyxgS7y/NBKFLlgTZo0UTkb91yW9JQEzCZw69YtCQoK0tWDbdu2Sd68eYUFaWbPaeXKlVUbGV0q3dphyewZpPVuJQDlBTyoYsEBOthuU15wbKB79+5d/aKE2DFkiqpWrerWa5R+k4BxBO7fvy/oooX2k5MnTxZIBKKrIYeZBB4+fCh58uSRVKlSyaBBgyRr1qxmOkKrScCFBFCIht3x27dv69/vm2++6SoKjg10f/rpJ0GQC5kirAxBA46DBEjADALosX727FltA9y6dWvp3r07i5fMmLpnWgntXLT9xYNLp06dJHXq1M98H39IAiTgPAJ4UEWgi1bAkBhzmwa2YwPdb775RnP80GUJeWGJEyd23tVDi0iABJ5L4Pr169os4l//+pdMmjRJkiVL9tz38hfOJrBx40Zp2LChdOzYUerWrUsFHGdPF60jgX8QCAwMlM8++0wVU5AO6qbh2ED3yy+/lJ49e0qsWLEEidRuqxJ000VIX+0kcPPmTalRo4ZAsBwPq1wFNHeeUbUNtYVPP/1USpUqJVGiRDHXGVpOAi4kgJ1x9CXArgxWdd00HBvoohAN3Xfy588vY8eOddOc0FcSsIIAOhviYRXKC9DBzpw5Mx9YDZ3Ztm3b6sPKggULtLDQUDdoNgm4lgB2ZfCwGhAQIFOnThU3tWV3bKA7bdo0zdFt3ry5tGnTxrUXJx0nAVMJoCANQS62u5csWSJFihRhhzRDJxM5fXfu3NEvSBaiGTqJNNvVBA4dOiS9evVSmUcUCLsplcyRgS4UF0aOHKlfjpDCqFChgqsvUDpPAiYSePz4sa7kokNa//79Nbczfvz4JrriapvRsCdTpkyCSm0o4KRLl87VPOg8CZhI4L8tgL/77jsZPXq01k+Y6EdYbHZkoIsJQdrC4cOHNacExSwcJEACZhGAFjYaR2TJkkXlxbp16+Y6/UazZuyf1mIOURAM1Zv69etr5babVoL+SYQ/IQEzCdy7d08GDx4sK1eu1PiqfPnyZjoSBqsdGegiwO3du7c8evRIpcWSJk0aBtf4ERIgAX8TwKpu9uzZJUOGDLpLkz59en+bxPOHggDuwVu3bpXq1asLGkXg33jx4oXiCHwrCZCAEwj8/vvvgqJS5OdCdaFVq1ZOMMsnNjgy0N20aZNKi6VNm1bQX5091X1yLfAkJOBxAri5oqMWdLFR9ZstWzaPn4MH9B4B5FlPmTJFFx5WrFihxcHscOc93jwyCXiTwOLFi/WBtWDBgloD5c1zOenYjgx058yZo0oLEChHFx4OEiABMwkg0EUb74ULF+p/aAUcMWJEM51xodVQzoDQPLY70co5Y8aMVM5w4XVAl+0ggL/hPn36CGolEPS6RSbQcYEuvhixRYYvxmbNmul/dlxi9IIE3EcAf88zZ84U5Oei0hcajtGjR3cfCEM9vnXrlqCYEJ2VoJyBFsAcJEACZhI4duyYBrpXrlyRZcuWuaYRl+MC3QcPHuiXIhpGoJNHmTJlzLyiaDUJkIAS2LFjh9SuXVvQCrhRo0aSMGFCkjGAAB5Srl27pukmkIZDpTbrJQyYOJpIAs8hgBSy4cOHy/bt2wUSrrly5XrOO+36seMCXSguYKsT1dpDhgwRKi7YdcHRG/cRwM21cOHCUrRoUenRo4cg957D+QSePn0qJ0+elDfeeEO6d++uKQwJEiRwvuG0kARI4JkEIN2KYjTsriG+Qv2EG4bjAt2DBw/qiu6rr76qTx7Jkyd3wzzQRxKwlgAkqiBPlShRIk1LggoDh/MJoBBtw4YNUqVKFW388d5770ns2LGdbzgtJAESeC4BdDeEqhWacSH/3g3DcYHuunXrdBLQ+hdL7G5JlnbDxUYf3UugZs2acvr0aZUYQ8Uvh/MJ3Lx5U1d+kF/99ddf6+4a78fOnzdaSAIvIrB+/XrdWcPiAxRV3DAcF+gCPJbW33//fenSpQsrfN1wFdJH6wmgx/r8+fM1z9NNQuUmTyzSxxDkLlq0SE6dOiVJkiTh/djkCaXtJPAfAnhoxd81xubNm13xN+24QBc5fBs3btTClbp16+pk8H9IgATMJjB37lzdqenZs6cWplF5wfnziXoJ3INv3Lih0mJsFOH8OaOFJPAyAmgBDIkxKDBs2bJFU8pe9hnTf++oQBcSNk2bNpUffvhB+vbtK8WLFzedL+0nARL4DwGoqOBvG521WrZs6RpZG5MnH/fhkiVLCrSPscv2yiuvmOwObScBEvgPgUuXLsn48eN1pwYyrkhhsH04KtC9ePGi6uZGihRJ+vXrp61DbZ8A+kcCbiBw4cIFqVSpkkpVYdcGjQc4nEvgyZMngsLgUqVKSfv27aVjx44SM2ZM5xpMy0iABEJEAE1g0CwC6WSog6pRo0aIPmfymxwV6B44cEDatm2rX4a9evUSKi6YfGnRdhL4kwB2a8qWLSuRI0eW/v376yrhn7/lK6cRwJfhqlWrdOEBbdgrVqwobP3rtFmiPSQQegKQDdy0aZPusGGXDQsPtg9HBbpoMwnZC8jZdO7cWWLEiGE7f/pHAq4h0LBhQ/n222/1bxwd0jicSwCFaJMmTdLiQaSdBAQECHbaOEiABMwngII0dJ6F1OPs2bPNd+glHjgq0B0zZoxg9QA5fJgEDhIgAXsIDBo0SJUXOnXqJB9++KErqn1Nnb1z584JCgdRrIKmEUhbiBAhgqnu0G4SIIG/EEAh2scffyx37tyRXbt2ScSIEf/yW/teOirQbdOmjezZs0c7o0GcnIMESMAeAkuXLhWkJDVu3FhVVaJGjWqPc5Z5cvz4cV1wQEt2fBFykAAJ2EPg7NmzmqOLB1kEvXHixLH6QdYxgS6KH9CODrlhyOErVKiQPVcVPSEBEpDdu3cLHmbRDhipSdBl5XAmAdRLYNUdigtBQUHONJJWkQAJhIkAUpPQs2DcuHGydu1abQZjc2qSYwLdy5cvS9WqVSVFihSq8Yb+6hwkQAL2EDh//rw0aNBAdRtR8Yu8Tw7nEUDL5m3btkmtWrVUcQGNezhIgATsIXD37l1ZvXq1tGjRQoNdyD7a3PXQMYHu3r17pUmTJipng9wRKi7Y80dFT0gABB49eqTB07Vr1yQwMJC7Ng69LG7fvi1LlizRNBOs+GABgoMESMAeAniYxa4N5ANbtWqlf+s2p5I5JtBdtmyZtvzF1iZy+KjZaM8fFT0hARD4/fffpV27dpqHD11WtPnmcB4B6JmPHTtWICa/YsUKyZEjh/OMpEUkQALhInDixAlBLVSWLFlkzpw5YnO3SscEukOGDJGZM2dqfm61atWsrwIM1xXKD5OAoQRGjRqlN9X69etrvq6hblhtNlqEQnHh6NGjgp02FKpwkAAJ2EUABWnNmzcXtPrG37nNi4uOCXQbNWokhw8fFkgQoe0kBwmQgH0Eli9frg+zZcqU0Vx8m7fLTJ09fOmhWBDNPTZu3MhFB1MnknaTwAsIoBVwnz59dOcGEoKJEiWy9m/dEYEuOnUUK1ZMk6ER6ObOnfsF08NfkQAJmEoAQuUobkqfPr0MHDhQEidObKor1tr9xRdfaMvf/Pnza9MIax2lYyTgYgK//PKL9i1AZzQUn+bKlUtsXXhwRKALqYsiRYpIzpw5VdstQ4YMLr786DoJ2EsA22UdOnSQx48fa6CbNWtWe5010DMsOqBeolu3bqp1jJxqDhIgAfsI3L9/XzZv3qx5upAag/JCrFix7HP0Px45ItDFKg+kbKDbCLmLpEmTWgmbTpGA2wlAJxuBLkTKoZeNnRwO5xCA4gK6U06YMEFGjhwpFStWdI5xtIQESMBjBPBQi3z8t956Sx9q8XAbL148jx3fSQdyRKA7f/58zQkbMGCAoBDN1qcKJ008bSEBfxCA8gI0dNesWSNt27aVunXr+sMMnvM5BC5cuCAjRozQ1r+oxKbiwnNA8cckYAEB9C/Ily+f7qZjVRd5ujYORwS6ffv2lenTp8usWbM0hcH2vss2Xkj0iQRCSmDq1KmC/9AJEdX9HM4hAKWF3r17C74AISj/6quvOsc4WkICJOBRAtevX9fd9CtXrmiHNDTssnE4ItCtXbu2oLc6vvxYiGbjZUafSOBPAljNRdrCm2++qVvkNree/NNrM16hKKVXr16SIEEC+fzzzyVChAhmGE4rSYAEQk3g1q1butiA3Zv9+/dLunTprPyb93ugi61MBLdYOYDGJlv/hvpa5QdIwCgCuKGi0jd27Njabz1hwoRG2W+zsUuXLlWJRxQHI4WBgwRIwF4CaAUcFBSkKitYgChYsKBEixbNOof9GugiyEXxQ+bMmaVs2bKau5c6dWrrINMhEiCBPwlAeQH6jefPn5cxY8ZItmzZ/vwlX/mVwOTJk3VOkD8NMXkOEiABewmgLfuOHTu06HT48OGC3XUbC9L8Guii6g+rOxUqVNBKbDSNsDUZ2t4/FXpGAqEjAOWFwMBAbUYwePBg7bceuiPw3d4gcOfOHVVa+OyzzwSdKtHUg4MESMBeAr/99pugcUSmTJmkcePG0rVrVytVr/wa6OJpAv3U27Rpo5I2WNW1uQ2dvX8u9IwEQk4AN9exY8fq3zz+9ps0aRLyD/OdXiNw7tw5gfIN6iUgL5Y9e3avnYsHJgEScAYB6OliVw2a5qNHj5Y0adI4wzAPWuHXQPfBgwfSr18/LUJDq0kUp1BxwYOzy0ORgEMJQFIQOaBo941VXQ7/Ezh48KAWoqEADQo4VFzw/5zQAhLwNgE076lUqZKgcReK0gICArx9Sp8f36+B7r1796ROnTqCPsuo8GVHNJ/PP09IAn4hsGnTJs3ThZzNggUL+IDrl1n4+0nXr1+vahgZM2aUadOmSeTIkf/+Bv4/EiAB6wg8efJE+xgsXrxYVqxYoZq6tqmt+DXQRU5Ynjx5dKkcYsWpUqWy7iKiQyRAAv8kcOjQIdVrxT0ALWchZ8XhXwKovkbKQrly5XSnzb/W8OwkQAK+IIBaKfQxgBLOzJkztWYievTovji1z87ht0AXeXoXL17UZXK0/kW3pCRJkvjMcZ6IBEjAfwSQDzp06FBB+28EWFRe8N9c4MxQwBk0aJAsWbJE24E2bNjQvwbx7CRAAj4hgFhs+/bt2jiiU6dOUr9+fevSlvwW6KIQDV9y6HWPL7wGDRpYKWvhkyuVJyEBwwhAVnDixImaC4pcXawicviPAPQ0u3fvLrt375aBAwdKiRIl/GcMz0wCJOAzAnjI/fHHH6VAgQJ6H+7WrZvYJvPqt0AXEkPIzWvRooWsXLlSihYtKjFixPDZ5PJEJEAC/iOAVYS5c+dqTmi7du2kZcuW/jOGZxassENa6ObNm7rwwBV2XhQk4B4CyNPNlSuXpEyZUv/+s2TJYpXzfgt0f/nlF9XSRE7YkSNHtPUcW4FadW3RGRJ4IYHVq1dr+8nChQur3NgL38xfepXAvn37BCs5yZIlEwjHM43Mq7h5cBJwHIGqVavKhQsX9F6cL18+x9kXHoP8FuheuXJFmjZtqkEuUhgSJ04cHj/4WRIgAcMIfPXVV7pdDu3stWvXWtlj3ZQpwa4apB7x0IFUMioumDJztJMEPEMAqUtQXpg0aZKmLtmkvOC3QBc5IWgQAXkhaGqy6tozFyuPQgKmEPjmm29Ut/XUqVOya9cuiR07timmW2fn+PHjtSiwZs2agoIUDhIgAXcRQFFwr169tCtitWrVJFq0aNYA8Eugi+Tn77//XnLnzq0Vfv3795c4ceJYA5WOkAAJvJwAHnbRiQeriZAYY17oy5l56x2dO3eWrVu3yscff6z97r11Hh6XBEjAmQSgvIA2wPXq1ZNmzZpJokSJnGloGKzyS6CLjmg7duyQKlWqaD4YwLL1bxhmjx8hAYMJQHkBBWnojDZu3DjtzmOwO8aajvtxo0aN5Pz581ocWKRIEWN9oeEkQAJhI4CC1AoVKmhvA6QxpEuXLmwHcuCn/BLoohBt3rx5WuWLgpT8+fNL1KhRHYiHJpEACXiLACp9N2zYIM2bN9eVxPbt23vrVDzuCwggwMUcQPUGebq2VVy/wHX+igRI4A8CDx8+lOLFi2sK2YABA1SFwRY4fgl0L126pFqNWM1Bnl7SpEnZAtSWK4p+kEAoCKAgDdtk0HBEd0QO3xNAMTBSFnLmzKk5elRc8P0c8Iwk4AQCaN6FtFKkk5YsWdIJJnnEBr8EuqdPnxZoZ548eVIOHz5sVdKzR2aFByEBlxDA33/btm21MxdyxDh8T+Czzz6TPn36SPXq1bUQzaYiFN/T5BlJwFwCCHAXLVqkD7w1atQw15H/sdwvge63334reHKA4gJuspSy+Z9Z4f8lAZcQ+OGHH1RLF6uKCHqhvGCTrI0J0wjd3Dlz5kirVq2kSZMmJphMG0mABLxAAE28+vbtqw18IP9qy0OvzwNddETav3+/QJy4Vq1a2l+djSK8cMXykCRgAIHLly8LpK2mT58umzZtkjfeeINpTD6eN3SnPHjwoGoaV6pUycdn5+lIgAScQmDnzp3SunVrKV26tKBmwpb+Bj4PdO/fvy/r16/XlYMhQ4ZIgwYN+MXmlKucdpCAjwncuXNHli9frjmiU6dOVeUF7vD4bhJQgFK5cmV59OiR5uWhMJiDBEjAnQTOnj0rdevWlVSpUmn6QqZMmawA4fNA99q1azJz5kzVz1y4cKEUKlSIW5VWXEp0ggRCTwDKC0hbqFixonTo0EE6duxIBZbQYwzzJ9DyE7l4adOm1S+2zJkzh/lY/CAJkIDZBCA1+P7778u9e/esevD1eaCLJwZIV3zxxRfaDQm91ZmTZ/YfB60ngfAQOH78uLz77rsqM4hV3ejRo4fncPxsKAigIx2kxcqXL68FwlRcCAU8vpUELCTw31Smrl27aq8DG1z0eaB79OhRrey9cuWK5oUxyLXhMqIPJBB2AlBhQcOCu3fvyrZt29g8JuwoQ/1J7Kr17NlTV9MbNmxoTfFJqEHwAyRAAkpg6NChgqI0yD7iIdiG4fNAFysIkBbDVhlkLDhIgATcTeDixYvSrVs3bQV85swZiRs3Lnd5fHRJBAYGanc67LKhQJiDBEjA3QSWLl2qjWPee+89TWeyQSzA54HuunXrVMamTp06CtPdlxS9JwESuH79ukycOFFTmnbv3i1Zs2aVKFGiEIwPCKDw5MSJE9qGuVixYj44I09BAiTgZAK4B3fq1EmyZcumMVqiRImcbG6IbPNpoAvFBaziQpwcwsTQ0uUgARJwNwGkLKxdu1bw8Dtr1ixVXogZM6a7ofjAexQCFi5cWLWLBw8erJ3RfHBanoIESMDBBLCrhiY+UL/Bjg8kH00fPg10r169qis38+fPlxkzZqjigukAaT8JkED4CCDgOnbsmOTNm1dTGNCOFukLHN4l8NNPP0mJEiUkX758mqebLl06756QRycBEnA8ASw8tGzZUtDMB4HuO++843ibX2agTwNd9FAGuEOHDsnq1avltddee5l9/D0JkIDlBH7//XdB0IVAFzfVsWPHSsKECS332v/uffnll6qZiUJAdEGyRRze/2RpAQmYSwD34+7du2sDHyw61K5d21xn/rDcp4Hu3r17deUA4uQbNmxgha/xlw8dIAHPEPj555+1GAo6jitWrBDIDnJ4lwDSRPCFNmzYMJURihEjhndPyKOTAAkYQWDChAkSFBQk1atXl86dOxth84uM9Gmgi45on3zyieZ8ACIHCZAACYDAzZs3tVnEqlWrZM+ePZImTRoqL3j50ujRo4cgjQwNfLCSHjFiRC+fkYcnARIwgQAWGwYOHKhpTSNGjNB8XRPsfp6NPg10582bJ4MGDdKlcKwkcJAACZAACPz6668yadIklbPZsmWLvPXWW+yQ5uVLo1q1aoIGPpMnT1beXj4dD08CJGAIAey+I0aD4sL48ePl1VdfNcTyZ5vps0D3t99+0xsq8u+guIA2cxwkQAIkAAJIWdi0aZNulWHbDJquceLEIRwvEXj69KmqLKRIkUKwYhMQEOClM/GwJEACphGA8kKvXr0EKWUjR46ULFmymObC3+z1WaCLSr4xY8bIsmXL9Anh7bff/psh/D8kQALuJYDACx3ScubMqRW/7du3Z3GUly4HFJvgCyxHjhzaehmd0VKlSuWls/GwJEACphG4ffu29O3bV1Cwil344sWLm+bC3+z1WaB7/vx5FSVHX3sUQfDG+rd54P8hAdcTgM52+vTppUCBAjJ8+HDeI7x0ReChAh0qq1SpIuhn36BBA+O3Jr2EioclAdcSGDJkiCDdFMoLuEeYPHwW6EJSDI0iMJYsWcLOR0qC/0MCJPBfAlBjKVOmjKYxfPrpp5IxY8b//or/epAAOM+ePVuL//BvyZIlhYoLHgTMQ5GABQSwIDlu3DgpV66c8V1sfRboIv8O3XfQZQMpDBEiRLDgUqALJEACniLw+PFj7cgDjW2oL2BrncPzBJAPjXQFfJHhvpw9e3bejz2PmUckAaMJQCWrX79+gkYyeCA2OWbzWaA7d+5cmTp1qlSuXFmQf8dBAiRAAn8lgA5pEydO1JsrZK+KFClC5YW/AvLQ63v37mkxMJp0YHctQ4YMHjoyD0MCJGALgYMHD2pBGu7LCxculPjx4xvrms8CXeTcoRAN4sPIDeMgARIggb8SgDLLxo0bpV69eqq3XatWLaNvrn/1zUmv79y5I2+++aZWUkM6iPUSTpod2kICziAA6UFo6R49elSmT59utPKCTwJdKC4gP3f//v2avoBWnxwkQAIk8FcCUAOA8kLhwoV1xbFjx46SMmXKv76Fr8NJAIVoP/74o35pofUvmkaw9W84ofLjJGAhgVu3bmma6eLFi1VirFSpUsZ66ZNAF4oLyAnDSsLo0aMlderUxgKj4SRAAt4jAOWFXLlySaZMmVTWJnPmzN47mQuP/PDhQ9m5c6eULVtWRo0aJR988IHEjRvXhSToMgmQwIsI4KEYXROho9uuXTtp1qzZi97u6N/5JNA9cOCAdtmAODmq+GLFiuVoKDSOBEjAfwTKly+vLYHxUJw7d27/GWLhmbHYgMISfHGh2ARSbtGjR7fQU7pEAiQQXgLLly/Xmgno6CL91NThk0B3zZo1CgtNIvDlxUECJEACzyMA3cZ169ZpYVrRokWNrvZ9no/++vmNGzdUCH7GjBly+PBhSZs2rUSMGNFf5vC8JEACDiawfft23Y1PkCCBIOg19V7hk0B3ypQpqriAtp7on8xBAiRAAs8jMHnyZC2CQGtaqLREiRLleW/lz0NJ4MqVK9KwYUM5deqUpjCglz0HCZAACTyLAArRkHYKhZYtW7YY25bd64EuCkzQM3nDhg3SunVrqVu37rN48mckQAIkoARwr2jRooX+h4IprCZweIbAhQsXBEUlkBSDjq7JkkGeIcKjkAAJPI8A6quw4PDFF18IitKyZs36vLc6+udeD3RR/IAvrRMnTkj//v2N75ns6NmkcSRgAYGTJ0+qBCHUF7p06SJp0qSxwCv/uwD5tu+++07znnFP7t27t7zyyiv+N4wWkAAJOJLAzZs3BV0qx44dq/9VqFDBkXa+zCivB7pYQcBKLlZ2AwMDJVu2bC+zib8nARJwMQE8HBcsWFCwrQ4dR2i+coSfABQtNm/eLNWrV9ei4Nq1a7P1b/ix8ggkYC0BKC+sXLlSY7hOnTpp50oTnfV6oLtv3z7p0KGDBAQEqJZusmTJTOREm0mABHxEAA/FCMYuXryoD8coSOMIPwEUogUFBWkzDjTmgKIF85/Dz5VHIAGbCWzbtk1atmypnSonTJhgpKteD3RXrFihW2SVKlXSpOaoUaMaCYpGkwAJ+I4AilZXr16tQRmKWDnCTwAFJUgfW7RokSA9JGHChFS0CD9WHoEErCYAeVgo4SB227Rpk5G+ej3QhZwYcjyaNGkiH330EW+sRl4mNJoEfEsA94xBgwZJ+/btBQVpkSNH9q0BFp7thx9+0C1IpJOhS2W0aNEs9JIukQAJeJIAHoqx8HDkyBH597//bWQfBK8Hum3atJE9e/ZI586dpVq1ap7kz2ORAAlYSgBSNmhqAHkx/EvlhfBP9LFjx6ROnTqquLBw4UI+PIQfKY9AAtYTQArZmDFjZN68eYKUJ6ShRogQwSi/vRrooqikRo0agp7J/fr1k0KFChkFh8aSAAn4hwBWERo0aKCtgLGakD59ev8YYslZobjw9ddf62IDuPbt21ciRYpkiXd0gwRIwFsEEL8tWbJEevToIeiJULFiReMaR3g10EVOWK1atQQFaJ988om88cYb3poLHpcESMAiArdv35aaNWsKAjQ8JOfJk8ci73zvyr179zTnGUUl0MX84IMPjPuy8j01npEESODx48faXAaLlh07dlRxAdMekr0a6GIFAXqNxYoVUzhUXOAfDQmQQEgIQHkBubnHjx/XlQRT9RtD4qsv3nP16lXtTjlp0iRZtmyZ5M2b17jtR19w4jlIgAT+SQD5uSgKxq48VnVNU2vxaqCLGyqWu5s3by7NmjWjZuM/rx/+hARI4DkEoBCA/uqtWrXStrXPeRt/HAICZ86c0XSFHTt2aM0ENIpNy7MLgZt8CwmQgBcIfP/999K4cWN58uSJbN26VRUYvHAarx3Sq4HukCFDVHEBHXiQwsBBAiRAAiElgOIH3EOQwoAOaaZtl4XUT1+8Dysy2HZEpyPstDHI9QV1noME7CAApZauXbtqwxkEvbFjxzbqHuLVQBdbj0ePHlXtxtKlS9sx4/SCBEjAJwSw+ohuPPny5dPVyHjx4vnkvDaeZOfOndrVCHUSc+bMsdFF+kQCJOAlAj///LOMHz9e8/vxoJwpUyajVFu8Fugix+6dd97RJW608WQxiZeuQB6WBCwlAOWFtm3bSty4cfVhOUOGDJZ66l23cC9et26ddjfC4kPPnj29e0IenQRIwCoCv/76q6D5F/oh4EG5fPnyEj16dGN89Fqge+nSJcEqbo4cOaRXr16SMWNGY6DQUBIgAf8TgPICilmh3oKH5fz58/vfKAMtgOLCggUL9GFh8ODBmgpioBs0mQRIwE8EkJt76NAhKViwoD4oQ9sc6QumDK8Furt27ZJ69epJ7dq1tSNakiRJTGFCO0mABBxAANJiyCv98ssvNUeXDWfCNimXL1/WbcelS5dqzQRSQThIgARIIKQEsCt07tw5DXSLFi0q48aNE5NSybwW6KKQBMnLgYGBUr16dSouhPSK4vtIgASCCYwcOVLmz5+vuq9YReAIPYHvvvtOtYi/+eYb2bBhg3DRIfQM+QkScDsB7NIjlnv06JGsWbNGEiZMaAwSrwW6ffr00VyOiRMnSsmSJSlObswlQUNJwDkE0JFn6NChmu+PfyNGjOgc4wyxBC3Y/5uXi1xd0zQwDcFMM0nAagLXrl3T4uBVq1bJ4cOHJXny5MYoL3gt0IWcGIpJJkyYoFXTVl8BdI4ESMArBL766isN0l577TXdLkNhGkfoCGD1BS1/33zzTW0aEbpP890kQAIkIIKaCcRzWMREOtm//vUvYx6avRLoPn36VDvvYGl7+PDhkjVrVl4nJEACJBBqAnhYxmrk3bt3ZfTo0ULlhdAhRG4dqqShR9ygQQPNeQ7dEfhuEiABEhC5f/++rF+/XtAKeObMmVK5cmVjCtI8HujixgrNtbfeektTFqC4kCZNGl4nJEACJBBqAjdu3JBPPvlE9u/frykMaEHJEXIC+HLCKgy+mAYMGCBVqlQJ+Yf5ThIgARL4gwCUF5Dvj9gORcKQfjQlT9fjgS4qpZET9t577wmKR6DbiHaTHCRAAiQQWgLYHRo0aJAgVxfd0aDiwhFyAhcvXtQHBKSAoF4id+7cIf8w30kCJEACfxDAIuatW7ckc+bMUqxYMRk2bJikSJHCCD4eD3QR9c+dO1cj/ilTpkjZsmUlZsyYRsCgkSRAAs4jMH36dA3SqlatKj169HCegQ626NixY5qfe/36db0vo4CEgwRIgATCQgCa3OiPgKB39uzZ8vrrr4flMD7/jMcD3cePH2uDiKCgIJWgyJUrlzGVeT6nzxOSAAm8lACqfNEwArn+U6dO5f3kpcT+fMO2bdukd+/euqu2cOFCY4pH/vSAr0iABJxC4MGDB9K6dWvZuHGjrF27VtBSPEKECE4x77l2eDzQhcYatNbOnj2r3XgCAgKee3L+ggRIgAReRgC91VGQBlkspDDEihXrZR/h7/8gsGjRIu1Pj45G0CTmIAESIIGwEkB8h2YR/fr105bABQoUMOLh2eOBLiJ+yNikT59egaRNmzasTPk5EiABEpBTp05pIRX+RVEVlRdCflGMGTNGsLuGWgmsxHCQAAmQQFgJIDUVTWfq1q0raCeORU0TJB89GuiiEO3q1auSMWNG7WQExYVkyZKFlSk/RwIkQAIC5YVRo0bJypUrBYFbkSJFSCUEBB4+fKj5uWgSAR3dihUrhuBTfAsJkAAJPJsAYrzTp08LVnIR7H788cfaOOLZ73bOTz0a6GJZG4oLSFZGpXS9evUkfvz4zvGWlpAACRhHAKsI06ZNUx1dFKPhBsvxcgJQXMBiA76YUCENWSAOEiABEggPATxAZ8mSRXfuEeeZsMPm0UAXou7z5s2TNm3ayPLly3XlJUaMGOFhys+SAAmQgObmBgYGyrvvviv4l+PlBNCmEw8G0aJF05XwlClTvvxDfAcJkAAJvIRAqVKltIEE8nWRqur04dFAFxpr2CKDHNDevXs10o8UKZLTGdA+EiABhxPYsmWLrk5Ct3Hx4sUOt9YZ5n3xxRequJA9e3ZdDeeigzPmhVaQgOkE/qu8MGPGDEGhq9OHRwPda9euSf369bV4BF9M1Gx0+vTTPhIwg8ChQ4dUeQF6sJs2baLyQgimDUVo48eP11VwdJczQQYoBG7xLSRAAn4mgPsK2opjRbdcuXISNWpUP1v04tN7NNC9dOmSpisgZwM3WXZEezF8/pYESCBkBM6cOaM31p07d2palAl5YSHzzHvvggQQCviaN28ujRs39t6JeGQSIAFXEUCBK+4rKEYzoRbLY4EuqvEg/5MzZ05p0qSJ9qePFy+eqyafzpIACXiHAJQXUJCG/yZNmiQlS5b0zoksOSoKg1ErgTxdNIxAh0oOEiABEvAEge+++053iiA80KlTJ0mVKpUnDuu1Y3gs0IV+7vbt29V5LGd/8MEH3F702rTxwCTgLgII3FDg2rlzZy2watq0qbsAhNLby5cvS6tWrQQtO1G8hwUIDhIgARLwBAEIDyA397XXXgvuWumJ43rrGB4LdG/evKm9j/FFBEHht99+2/F5G96CyuOSAAl4nsDmzZulZcuWUr58ee325fkz2HNE5DS3b99eUqdOrV2M8IXEQQIkQAKeIlC5cmVBXRYkxgoVKuSpw3rlOB4LdLGC0L9/f/n00081hSFJkiQSMWJErxjNg5IACbiPAJRckBMGbe7Vq1e7D0AoPEYOXffu3aVMmTKaukDFhVDA41tJgAReSgCLmuvXr9cdI6c3o/FYoHv27FndKjt58qTmhfHG+tLrhG8gARIIBYHjx49Lly5dBPeYY8eOSeTIkUPxaXe9FXnM+K9hw4bSrl07dzlPb0mABLxOADKyWM1FUxo08XHywqbHAt0TJ05IjRo1dKsMOpfRo0f3OmiegARIwD0ELly4IMOHD5fPPvtMtm3bJq+//jols54z/SgQASOkL9SqVes57+KPSYAESCBsBKDTjYdo3F+QUubkLrgeCXShuPDvf/9bK3sbNGigKQxO11UL29TyUyRAAv4i8Msvv8j8+fODU6TQncfJqwj+4vT06VOpWbOmIJ0MDXyKFSvmL1N4XhIgAUsJYHETK7nojNa1a1ddeHCqqx4JdFHZiwI0aDWipzqc57aiU6ecdpGAmQSgvLB161apU6eOyhd+9NFHws6L/5zLq1evaqAbN25cDXTRGY2DBEiABDxJ4M6dO1KpUiVtMQ5ll1y5cnny8B49lkcCXVTeoRXcyJEjdVsxX758/ALy6DTxYCRAAr///rvuHFWtWlW78YwZM4YP1M+4LLC7Bvk13IeR05wyZcpnvIs/IgESIIGwE8BOPppFnD59WvN0Ufjq1OGRQPfcuXO6nYhV3f3790vixImZO+fUGaddJGAwAWyXIT0qZsyYWvEbJUoUg73xjumrVq1SvWFwwqp37NixvXMiHpUESMDVBNBaHPcb5OpiJ9+pwyOB7jfffCMdO3aUK1euyL59+7ia69TZpl0kYDgBPFTjXoP7DO47CHgjRIhguFeeNX/06NEyZcoU6datmzbuYR6zZ/nyaCRAAv9PYNasWVogjJVdBLtOTVn1SKD79ddfa9Vd+vTpZeHChbwGSIAESMArBPAwPWLECJk8ebKmMaRJk4YP1v9DGhXQe/bs0fzcChUq/M9v+X9JgARIwDMEUDMBhZeiRYtqx8p48eJ55sAePkq4A13kaaBjUbNmzeTDDz/Um6uHbeThSIAESEAJ3L59W5YsWSJt2rQRyBiWKFFCiyGI5/8JQHGhXLlygsK9AQMGSP78+YmGBEiABLxCAKlkaDWeNGlS6dOnj2Cx04kj3IHu/fv3ZenSpbpNNnjwYN0qc6KjtIkESMB8AgjgsINUunRpbW3bokULiRUrlvmOeciDGzdu6OpKpkyZdNEhICDAQ0fmYUiABEjg7wRu3rwpTZo0EUg/QnkBBbBOHOEOdLGViG3EOXPmyOzZs7mC4MRZpk0kYBGBM2fOSO7cuaVKlSqaHwYZLY7/J3DgwAGpXbu2smndurWkSJGCaEiABEjAKwSghIMVXdRMoCYA92QnjnAHut9//70qLhw8eFDQKSNZsmRO9JM2kQAJWELg4sWLqt+INuPokpYwYUJLPAu/G9hd69Chg3Tv3l31hqm4EH6mPAIJkMDzCQwZMkTTyNBuHPUBThzhDnQRyeOm+uDBA9m+fTs7FTlxlmkTCVhE4Oeff9YcXRRCHDp0SPPDLHIvXK7gS2fChAm6ywZdSyouhAsnP0wCJPASAgsWLNBGYbjfoC7AiSo44Q50N27cKD179pQsWbJIUFDQS5Dw1yRAAiQQPgK3bt1S5QUEdXv37tV7j1NlbcLnaeg/jVUVpC8g2C1YsGDoD8BPkAAJkEAoCOzYsUMVFzJmzKhNw5yYShbuQHfRokVabQexYORocJAACZCANwmg5fjnn3+uXXmwmlC2bFkWpP0BvECBAhI9enT9wsmRI4c3p4HHJgESIAGB8gJiP+TrDh8+3JHKC+EKdKG4MG3aNF09QMXd+++/z2knARIgAa8SePz4sRw9elQrfNGZB8oLCRIk8Oo5nX5wfMmgAhr95iEp1q9fP3n99dedbjbtIwESMJwAlF4Q6KKBD3bZ8LDttBGuQPfy5cu6coAitEmTJjlWWsJp0GkPCZBA2AkgqLt27ZpkzpxZKlasKAMHDnR9ESz0zJGvjAYRTZs21eA/SZIkYYfMT5IACZBACAg8efJEH6xXr14tXbt2lerVq4fgU759S7gC3W+//VYd/OmnnwRbiClTpvSt9TwbCZCAKwncvXtXChcuLMgHmzlzpqBDmpsHGkWgkQYkxcaMGaMPAFRccPMVQd9JwHcEJk6cKDNmzJAaNWpI586dfXfiEJ4pXIHuzp07pVevXvLKK6/oTTZatGghPC3fRgIkQAJhJ4C0KQiVo3nEqlWrdHU37Ecz/5NI58DKNr5wli9fLnnz5mVrZPOnlR6QgBEEcM9B2gJSp8aNG+c4tZdwBbrLli2ToUOHqnj7+PHjjZgQGkkCJGA+gYcPH2rhw4gRI2TNmjV6D3Kz8gI6xtWrV08OHz6siw5QweEgARIgAV8Q2L17t6pvxYkTR5uHOW03KcyBLvLk0BFtypQpAsWF9u3b+4Inz0ECJEACghXMFStWaD4qtuorV66sO0tuRQMd87ffflsSJUqk92UWorn1SqDfJOB7AidPntQ0VjTzgUBBunTpfG/EC84Y5kAXKwjYKkNnIlT44ouGgwRIgAR8QQA5qagRKF68uDRr1kzbULq1+AqLDug1jy+X9957TztVJk+e3BfTwHOQAAmQgBYHDxs2TDZt2iSjRo3S+gknYQlzoAvFhT59+qikBLYP8+TJ4yS/aAsJkIDFBBDcYRUzU6ZM2hgB8oZuXcXE6jYUF9555x3p3bu3rnK7XW7N4kufrpGA4whg4QHpq1DfQt1WnTp1HGVjmANd6FjCIcjaoAvPa6+95ijHaAwJkID9BKC8EClSJBk7dqxky5bNfoef4SEK85YuXarFeVC/KV26tMSMGfMZ7+SPSIAESMA7BObPn68FadhVgr65k0aYA90tW7ZooJshQwbN06XigpOmlbaQgDsIQHlh165dMn36dM1RdYfXf/fy9u3bMnjwYN0y3LdvnwQEBFBx4e+I+P9IgAS8TGDDhg3St29f3VmbO3eul88WusOHOdCdM2dOsOJCjx49JEKECKE7M99NAiRAAuEkgILY2bNnS1BQkJQqVcqVAR46E6FJBBYfVq5cKczPDedFxY+TAAmEmsCRI0c0JowaNaps27Yt1J/35gfCHOhiBWHkyJESJUoU14u1e3OCeGwSIIHnE0CVL/6D8kLt2rUF8jZuG1euXJESJUoIKp+RvsHdNbddAfSXBPxP4Ndff5Uff/xRd5TQY8FJI8yBLrrwbN68WaC+wEECJEAC/iRQqVIlKVasmCslxm7duqVpZOgWhyI9DhIgARLwFwGov2CX30kjzIEues3jBssbq5Omk7aQgDsJxI8fX1dzscPktoFe8+fOneO92G0TT39JwIEEUAjrtPSpMAe6DuRLk0iABEiABEiABEiABEggmAAD3WAUfEECJEACJEACJEACJGATAQa6Ns0mfSEBEiABEiABEiABEggmwEA3GAVfkAAJkAAJkAAJkAAJ2ESAga5Ns0lfSIAESIAESIAESIAEggkw0A1GwRckQAIkQAIkQAIkQAI2EWCga9Ns0hcSIAESIAESIAESIIFgAgx0g1HwBQmQAAmQAAmQAAmQgE0EGOjaNJv0hQRIgARIgARIgARIIJgAA91gFHxBAiRAAiRAAiRAAiRgEwEGujbNJn0hARIgARIgARIgARIIJsBANxgFX5AACZAACZAACZAACdhEgIGuTbNJX0iABEiABEiABEiABIIJMNANRsEXJEACJEACJEACJEACNhFgoGvTbNIXEiABEiABEiABEiCBYAIMdINR8AUJkAAJkAAJkAAJkIBNBBjo2jSb9IUESIAESIAESIAESCCYAAPdYBR8QQIkQAIkQAIkQAIkYBMBBro2zSZ9IQESIAESIAESIAESCCbAQDcYBV+QAAmQAAmQAAmQAAnYRICBrk2zSV9IgARIgARIgARIgASCCTDQDUbBFyRAAiRAAiRAAiRAAjYRYKBr02zSFxIgARIgARIgARIggWACDHSDUfAFCZAACZAACZAACZCATQQY6No0m/SFBEiABEiABEiABEggmAAD3WAUfEECJEACJEACJEACJGATAQa6Ns0mfSEBEiABEiABEiABEggmwEA3GAVfkAAJkAAJkAAJkAAJ2ESAga5Ns0lfSIAESIAESIAESIAEggkw0A1GwRckQAIkQAIkQAIkQAI2EWCga9Ns0hcSIAESIAESIAESIIFgAgx0g1HwBQmQAAmQAAmQAAmQgE0EGOjaNJv0hQRIgARIgARIgARIIJgAA91gFHxBAiRAAiRAAiRAAiRgEwEGujbNJn0hARIgARIgARIgARIIJsBANxgFX5AACZAACZAACZAACdhEgIGuTbNJX0iABEiABEiABEiABIIJMNANRsEXJEACJEACJEACJEACNhFgoGvTbNIXEiABEiABEiABEiCBYAIMdINR8AUJkAAJkAAJkAAJkIBNBBjo2jSb9IUESIAESIAESIAESCCYAAPdYBR8QQIkQAIkQAIkQAIkYBMBBro2zSZ9IQESIAESIAESIAESCCbAQDcYBV+QAAmQAAmQAAmQAAnYROD/AEASSS8h08VyAAAAAElFTkSuQmCC)\n",
    "\n",
    "\n",
    "Модель состоит из двух нейросетевых частей:\n",
    "1. Айтемная. Принимает на вход мешок слов, из которых состоит текст.\n",
    "2. Пользовательская. Принимает на вход мешок слов из текстов айтемов, которые понравились пользователю.\n",
    "\n",
    "Обучать такую модель можно на FPS-лосс.\n",
    "\n",
    "*Замечания:*\n",
    "1. Приведенная в ноутбуке схема приблизительная, можно предложить свою с пояснениями улучшений.\n",
    "2. При обучении из пользовательской истории нужно выкидывать айтем, который подаем в айтемную."
   ]
  },
  {
   "cell_type": "code",
   "execution_count": 162,
   "id": "bf1450e1-8569-4351-8965-bdb18d49336e",
   "metadata": {
    "ExecuteTime": {
     "end_time": "2023-05-20T15:46:02.006404Z",
     "start_time": "2023-05-20T15:46:01.999041Z"
    }
   },
   "outputs": [
    {
     "data": {
      "application/javascript": [
       "\n",
       "            setTimeout(function() {\n",
       "                var nbb_cell_id = 162;\n",
       "                var nbb_unformatted_code = \"# from torch.utils.data import DataLoader, Dataset\\n# from sklearn.preprocessing import LabelEncoder\\n# from sklearn.metrics import roc_auc_score\";\n",
       "                var nbb_formatted_code = \"# from torch.utils.data import DataLoader, Dataset\\n# from sklearn.preprocessing import LabelEncoder\\n# from sklearn.metrics import roc_auc_score\";\n",
       "                var nbb_cells = Jupyter.notebook.get_cells();\n",
       "                for (var i = 0; i < nbb_cells.length; ++i) {\n",
       "                    if (nbb_cells[i].input_prompt_number == nbb_cell_id) {\n",
       "                        if (nbb_cells[i].get_text() == nbb_unformatted_code) {\n",
       "                             nbb_cells[i].set_text(nbb_formatted_code);\n",
       "                        }\n",
       "                        break;\n",
       "                    }\n",
       "                }\n",
       "            }, 500);\n",
       "            "
      ],
      "text/plain": [
       "<IPython.core.display.Javascript object>"
      ]
     },
     "metadata": {},
     "output_type": "display_data"
    }
   ],
   "source": [
    "# from torch.utils.data import DataLoader, Dataset\n",
    "# from sklearn.metrics import roc_auc_score"
   ]
  },
  {
   "cell_type": "markdown",
   "id": "bf7261ae-bb7c-4a59-93b9-a1340a513a10",
   "metadata": {},
   "source": [
    "## Обработка датасета"
   ]
  },
  {
   "cell_type": "code",
   "execution_count": 165,
   "id": "7ec95f55-b288-48b4-a3e0-1b7b258da458",
   "metadata": {
    "ExecuteTime": {
     "end_time": "2023-05-20T15:48:45.544023Z",
     "start_time": "2023-05-20T15:48:27.797159Z"
    }
   },
   "outputs": [
    {
     "data": {
      "application/javascript": [
       "\n",
       "            setTimeout(function() {\n",
       "                var nbb_cell_id = 165;\n",
       "                var nbb_unformatted_code = \"DATA.item_counts = pd.read_csv(os.path.join(DATA.folder, \\\"zen_dataset/item_counts.csv\\\"), index_col=0)\\nDATA.item_meta = pd.read_csv(os.path.join(DATA.folder, \\\"zen_dataset/item_meta\\\"), index_col=0)\\nDATA.user_ratings = pd.read_csv(os.path.join(DATA.folder, \\\"zen_dataset/user_ratings\\\"), index_col=0)\";\n",
       "                var nbb_formatted_code = \"DATA.item_counts = pd.read_csv(\\n    os.path.join(DATA.folder, \\\"zen_dataset/item_counts.csv\\\"), index_col=0\\n)\\nDATA.item_meta = pd.read_csv(\\n    os.path.join(DATA.folder, \\\"zen_dataset/item_meta\\\"), index_col=0\\n)\\nDATA.user_ratings = pd.read_csv(\\n    os.path.join(DATA.folder, \\\"zen_dataset/user_ratings\\\"), index_col=0\\n)\";\n",
       "                var nbb_cells = Jupyter.notebook.get_cells();\n",
       "                for (var i = 0; i < nbb_cells.length; ++i) {\n",
       "                    if (nbb_cells[i].input_prompt_number == nbb_cell_id) {\n",
       "                        if (nbb_cells[i].get_text() == nbb_unformatted_code) {\n",
       "                             nbb_cells[i].set_text(nbb_formatted_code);\n",
       "                        }\n",
       "                        break;\n",
       "                    }\n",
       "                }\n",
       "            }, 500);\n",
       "            "
      ],
      "text/plain": [
       "<IPython.core.display.Javascript object>"
      ]
     },
     "metadata": {},
     "output_type": "display_data"
    }
   ],
   "source": [
    "DATA.item_counts = pd.read_csv(\n",
    "    os.path.join(DATA.folder, \"zen_dataset/item_counts.csv\"), index_col=0\n",
    ")\n",
    "DATA.item_meta = pd.read_csv(\n",
    "    os.path.join(DATA.folder, \"zen_dataset/item_meta\"), index_col=0\n",
    ")\n",
    "DATA.user_ratings = pd.read_csv(\n",
    "    os.path.join(DATA.folder, \"zen_dataset/user_ratings\"), index_col=0\n",
    ")"
   ]
  },
  {
   "cell_type": "code",
   "execution_count": 190,
   "id": "313f4e17",
   "metadata": {
    "ExecuteTime": {
     "end_time": "2023-05-20T16:03:47.778358Z",
     "start_time": "2023-05-20T16:03:47.758661Z"
    }
   },
   "outputs": [
    {
     "data": {
      "application/javascript": [
       "\n",
       "            setTimeout(function() {\n",
       "                var nbb_cell_id = 190;\n",
       "                var nbb_unformatted_code = \"if CONFIG.debug:\\n    DATA.item_counts = DATA.item_counts.sample(10_000)\";\n",
       "                var nbb_formatted_code = \"if CONFIG.debug:\\n    DATA.item_counts = DATA.item_counts.sample(10_000)\";\n",
       "                var nbb_cells = Jupyter.notebook.get_cells();\n",
       "                for (var i = 0; i < nbb_cells.length; ++i) {\n",
       "                    if (nbb_cells[i].input_prompt_number == nbb_cell_id) {\n",
       "                        if (nbb_cells[i].get_text() == nbb_unformatted_code) {\n",
       "                             nbb_cells[i].set_text(nbb_formatted_code);\n",
       "                        }\n",
       "                        break;\n",
       "                    }\n",
       "                }\n",
       "            }, 500);\n",
       "            "
      ],
      "text/plain": [
       "<IPython.core.display.Javascript object>"
      ]
     },
     "metadata": {},
     "output_type": "display_data"
    }
   ],
   "source": [
    "if CONFIG.debug:\n",
    "    DATA.item_counts = DATA.item_counts.sample(10_000)"
   ]
  },
  {
   "cell_type": "code",
   "execution_count": 191,
   "id": "6003d725-b8d7-4ede-b6f0-3f3c7e0bd7ae",
   "metadata": {
    "ExecuteTime": {
     "end_time": "2023-05-20T16:03:57.067035Z",
     "start_time": "2023-05-20T16:03:57.038174Z"
    }
   },
   "outputs": [
    {
     "data": {
      "application/javascript": [
       "\n",
       "            setTimeout(function() {\n",
       "                var nbb_cell_id = 191;\n",
       "                var nbb_unformatted_code = \"DATA.item_counts[\\\"itemId\\\"] = DATA.item_counts[\\\"itemId\\\"].apply(str)\\nDATA.item_meta[\\\"itemId\\\"] = DATA.item_meta[\\\"itemId\\\"].apply(str)\";\n",
       "                var nbb_formatted_code = \"DATA.item_counts[\\\"itemId\\\"] = DATA.item_counts[\\\"itemId\\\"].apply(str)\\nDATA.item_meta[\\\"itemId\\\"] = DATA.item_meta[\\\"itemId\\\"].apply(str)\";\n",
       "                var nbb_cells = Jupyter.notebook.get_cells();\n",
       "                for (var i = 0; i < nbb_cells.length; ++i) {\n",
       "                    if (nbb_cells[i].input_prompt_number == nbb_cell_id) {\n",
       "                        if (nbb_cells[i].get_text() == nbb_unformatted_code) {\n",
       "                             nbb_cells[i].set_text(nbb_formatted_code);\n",
       "                        }\n",
       "                        break;\n",
       "                    }\n",
       "                }\n",
       "            }, 500);\n",
       "            "
      ],
      "text/plain": [
       "<IPython.core.display.Javascript object>"
      ]
     },
     "metadata": {},
     "output_type": "display_data"
    }
   ],
   "source": [
    "DATA.item_counts[\"itemId\"] = DATA.item_counts[\"itemId\"].apply(str)\n",
    "DATA.item_meta[\"itemId\"] = DATA.item_meta[\"itemId\"].apply(str)"
   ]
  },
  {
   "cell_type": "markdown",
   "id": "c172a75b-afa8-4468-af4d-01a9f0851fa3",
   "metadata": {},
   "source": [
    "В `user_ratings` записаны трейновые и тестовые рейтинги пользователей в виде строк, следующая функция парсит это представление в словарь, ключи &mdash; id айтемов, значения &mdash; рейтинги."
   ]
  },
  {
   "cell_type": "code",
   "execution_count": 192,
   "id": "28066e75-875b-416d-a727-e529b69eb503",
   "metadata": {
    "ExecuteTime": {
     "end_time": "2023-05-20T16:03:58.275958Z",
     "start_time": "2023-05-20T16:03:58.265979Z"
    }
   },
   "outputs": [
    {
     "data": {
      "application/javascript": [
       "\n",
       "            setTimeout(function() {\n",
       "                var nbb_cell_id = 192;\n",
       "                var nbb_unformatted_code = \"def parse_ratings_history(string):\\n    return json.loads(string.replace(\\\"'\\\", '\\\"'))\";\n",
       "                var nbb_formatted_code = \"def parse_ratings_history(string):\\n    return json.loads(string.replace(\\\"'\\\", '\\\"'))\";\n",
       "                var nbb_cells = Jupyter.notebook.get_cells();\n",
       "                for (var i = 0; i < nbb_cells.length; ++i) {\n",
       "                    if (nbb_cells[i].input_prompt_number == nbb_cell_id) {\n",
       "                        if (nbb_cells[i].get_text() == nbb_unformatted_code) {\n",
       "                             nbb_cells[i].set_text(nbb_formatted_code);\n",
       "                        }\n",
       "                        break;\n",
       "                    }\n",
       "                }\n",
       "            }, 500);\n",
       "            "
      ],
      "text/plain": [
       "<IPython.core.display.Javascript object>"
      ]
     },
     "metadata": {},
     "output_type": "display_data"
    }
   ],
   "source": [
    "def parse_ratings_history(string):\n",
    "    return json.loads(string.replace(\"'\", '\"'))"
   ]
  },
  {
   "cell_type": "code",
   "execution_count": 202,
   "id": "a62985c1-e64f-4c60-b4ed-41fe5af449a5",
   "metadata": {
    "ExecuteTime": {
     "end_time": "2023-05-20T16:07:22.594686Z",
     "start_time": "2023-05-20T16:07:22.558307Z"
    }
   },
   "outputs": [
    {
     "data": {
      "application/javascript": [
       "\n",
       "            setTimeout(function() {\n",
       "                var nbb_cell_id = 202;\n",
       "                var nbb_unformatted_code = \"DATA.user_encoder = sklearn.preprocessing.LabelEncoder().fit(\\n    DATA.user_ratings[\\\"userId\\\"]\\n)\\nDATA.item_encoder = sklearn.preprocessing.LabelEncoder().fit(DATA.item_counts[\\\"itemId\\\"])\\n\\nall_items = DATA.item_counts[\\\"itemId\\\"]\\nindices = DATA.item_encoder.transform(all_items)\\nDATA.item_id_to_index = dict(zip(all_items, indices))\";\n",
       "                var nbb_formatted_code = \"DATA.user_encoder = sklearn.preprocessing.LabelEncoder().fit(\\n    DATA.user_ratings[\\\"userId\\\"]\\n)\\nDATA.item_encoder = sklearn.preprocessing.LabelEncoder().fit(DATA.item_counts[\\\"itemId\\\"])\\n\\nall_items = DATA.item_counts[\\\"itemId\\\"]\\nindices = DATA.item_encoder.transform(all_items)\\nDATA.item_id_to_index = dict(zip(all_items, indices))\";\n",
       "                var nbb_cells = Jupyter.notebook.get_cells();\n",
       "                for (var i = 0; i < nbb_cells.length; ++i) {\n",
       "                    if (nbb_cells[i].input_prompt_number == nbb_cell_id) {\n",
       "                        if (nbb_cells[i].get_text() == nbb_unformatted_code) {\n",
       "                             nbb_cells[i].set_text(nbb_formatted_code);\n",
       "                        }\n",
       "                        break;\n",
       "                    }\n",
       "                }\n",
       "            }, 500);\n",
       "            "
      ],
      "text/plain": [
       "<IPython.core.display.Javascript object>"
      ]
     },
     "metadata": {},
     "output_type": "display_data"
    }
   ],
   "source": [
    "DATA.user_encoder = sklearn.preprocessing.LabelEncoder().fit(\n",
    "    DATA.user_ratings[\"userId\"]\n",
    ")\n",
    "DATA.item_encoder = sklearn.preprocessing.LabelEncoder().fit(DATA.item_counts[\"itemId\"])\n",
    "\n",
    "all_items = DATA.item_counts[\"itemId\"]\n",
    "indices = DATA.item_encoder.transform(all_items)\n",
    "DATA.item_id_to_index = dict(zip(all_items, indices))"
   ]
  },
  {
   "cell_type": "markdown",
   "id": "f2040b96-0f74-4ffc-900f-37a323f673c1",
   "metadata": {
    "tags": []
   },
   "source": [
    "##  Токенизация"
   ]
  },
  {
   "cell_type": "markdown",
   "id": "be5d4ec2-0926-409a-b691-6a414b4911f0",
   "metadata": {
    "tags": []
   },
   "source": [
    "Поскольку всего в датасете очень много разных слов, проблематично применять мешок слов для такого большого словаря, поэтому хотелось бы его уменьшить. Часто используемым (и предложенном в оригинальной статье) методом является разбиение текстов на буквенные триграммы, но мы применим токенизацию byte pair encoding (BPE).\n",
    "\n",
    "Верхнеуровнево она устроена следующим образом:\n",
    "* Изначально добавляем в словарь все индивидуальные символы;\n",
    "* Из всех пар уже добавленных в словарь токенов выберем самую встречающуюся в текстах, объединим их и добавим в словарь.\n",
    "* Повторяем предыдущий пункт, пока не наберем словарь нужной длины.\n",
    "\n",
    "Таким образом, словарь будет содержать в виде отдельных токенов популярные части слов и даже целые слова, а менее популярные будут складываться из нескольких токенов. Подробнее: [1](https://en.wikipedia.org/wiki/Byte_pair_encoding), [2](https://towardsdatascience.com/byte-pair-encoding-the-dark-horse-of-modern-nlp-eb36c7df4f10).\n",
    "\n",
    "Для токенизации можно воспользоваться библиотекой [YouTokenToMe](https://github.com/VKCOM/YouTokenToMe)."
   ]
  },
  {
   "cell_type": "markdown",
   "id": "e5f997dc-2e7b-41b9-96ed-beb4ba96eeeb",
   "metadata": {},
   "source": [
    "* Обучим BPE на текстах из датасета, один айтем можно представить в виде `title + \\t + content`.\n",
    "* Затем преобразуем все тексты в последовательность токенов. Чтобы уменьшить размер датасета, можно оставлять только первые 100 токенов.\n",
    "* Стоит привести тексты к нижнему регистру и избавиться от знаков препинания."
   ]
  },
  {
   "cell_type": "code",
   "execution_count": null,
   "id": "f9f9c67a",
   "metadata": {},
   "outputs": [],
   "source": [
    "CONFIG.dict_size = 50000"
   ]
  },
  {
   "cell_type": "code",
   "execution_count": 205,
   "id": "e8b01f32",
   "metadata": {
    "ExecuteTime": {
     "end_time": "2023-05-20T16:08:03.048912Z",
     "start_time": "2023-05-20T16:08:03.040252Z"
    }
   },
   "outputs": [
    {
     "data": {
      "text/plain": [
       "itemId                                   5480844460835530524\n",
       "title      Нехитрые способы, как самостоятельно проверить...\n",
       "content      С раннего детства нам рассказывают, что сама...\n",
       "Name: 0, dtype: object"
      ]
     },
     "execution_count": 205,
     "metadata": {},
     "output_type": "execute_result"
    },
    {
     "data": {
      "application/javascript": [
       "\n",
       "            setTimeout(function() {\n",
       "                var nbb_cell_id = 205;\n",
       "                var nbb_unformatted_code = \"DATA.item_meta.iloc[0]\";\n",
       "                var nbb_formatted_code = \"DATA.item_meta.iloc[0]\";\n",
       "                var nbb_cells = Jupyter.notebook.get_cells();\n",
       "                for (var i = 0; i < nbb_cells.length; ++i) {\n",
       "                    if (nbb_cells[i].input_prompt_number == nbb_cell_id) {\n",
       "                        if (nbb_cells[i].get_text() == nbb_unformatted_code) {\n",
       "                             nbb_cells[i].set_text(nbb_formatted_code);\n",
       "                        }\n",
       "                        break;\n",
       "                    }\n",
       "                }\n",
       "            }, 500);\n",
       "            "
      ],
      "text/plain": [
       "<IPython.core.display.Javascript object>"
      ]
     },
     "metadata": {},
     "output_type": "display_data"
    }
   ],
   "source": [
    "DATA.item_meta.iloc[0]"
   ]
  },
  {
   "cell_type": "code",
   "execution_count": null,
   "id": "397d3133-60a4-4a97-b90c-94fe59edc7fc",
   "metadata": {},
   "outputs": [],
   "source": [
    "# YOUR CODE HERE"
   ]
  },
  {
   "cell_type": "markdown",
   "id": "1a0a0d92-85ac-40ed-9b47-2b05d0b2bf97",
   "metadata": {
    "tags": []
   },
   "source": [
    "## Модель"
   ]
  },
  {
   "cell_type": "markdown",
   "id": "294690c1-68b1-4d8c-a70c-22958b567e33",
   "metadata": {
    "tags": []
   },
   "source": [
    "### Датасет"
   ]
  },
  {
   "cell_type": "markdown",
   "id": "4f427127-33b7-4acb-a4b8-804b204460bf",
   "metadata": {},
   "source": [
    "Сконструируем датасет для обучения модели. Один элемент датасета &mdash; пара пользователь-айтем, между которыми было **положительное** взаимодействие.\n",
    "\n",
    "Кроме того, можно мешок слов представлять в сжатом виде, как словарь частоты встречаемости токенов (`token -> count`)."
   ]
  },
  {
   "cell_type": "code",
   "execution_count": null,
   "id": "130c1319-22a4-416e-93be-c19229a48671",
   "metadata": {},
   "outputs": [],
   "source": [
    "class BagOfWordsDataset(Dataset):\n",
    "    def __init__(self, user_ratings, ratings_column, tokens, user_encoder, item_encoder, ...):\n",
    "        self.per_item_tokens = ...        # Для каждого айтема мешок слов в сжатом виде\n",
    "        self.per_user_tokens = ...        # Для каждого пользователя мешок слов в сжатом виде всех айтемов из положительных взаимодействий\n",
    "        self.positive_interactions = ...  # Позитивные взаимодействия из датасета\n",
    "    \n",
    "    def __len__(self):\n",
    "        return len(self.positive_interactions)\n",
    "    \n",
    "    def __getitem__(self, i):\n",
    "        user_id, item_id = self.positive_interactions[i]\n",
    "        \n",
    "        # YOUR CODE HERE\n",
    "        \n",
    "        return user_tokens, item_tokens"
   ]
  },
  {
   "cell_type": "code",
   "execution_count": null,
   "id": "5ecc7ee9-5dda-41a4-8a40-cd5a918de920",
   "metadata": {},
   "outputs": [],
   "source": [
    "train_dataset = BagOfWordsDataset(user_ratings, 'trainRatings', tokens, user_encoder, item_to_id)"
   ]
  },
  {
   "cell_type": "markdown",
   "id": "b879f2fe-2499-413c-ad42-f7a881f4abce",
   "metadata": {},
   "source": [
    "Датасет возвращает данные в сложном формате, именно для таких случаев в [DataLoader](https://pytorch.org/docs/stable/data.html#torch.utils.data.DataLoader) в torch есть функциональность [collate_fn](https://pytorch.org/docs/stable/data.html#loading-batched-and-non-batched-data)."
   ]
  },
  {
   "cell_type": "code",
   "execution_count": null,
   "id": "b91a36bc-86cf-4c66-9ee1-93d3d3d1e217",
   "metadata": {},
   "outputs": [],
   "source": [
    "def collate_fn(batch):\n",
    "    \"\"\"\n",
    "    Принимает на вход список объектов, которые вернул датасет, и приводит их к набору тензоров\n",
    "    в правильном формате\n",
    "    \"\"\"\n",
    "    user_tokens, item_tokens = zip(*batch)\n",
    "    \n",
    "    # YOUR CODE HERE\n",
    "    \n",
    "    return ..."
   ]
  },
  {
   "cell_type": "code",
   "execution_count": null,
   "id": "cb8479b6-fe33-4b02-ba4a-a166cfcb7988",
   "metadata": {},
   "outputs": [],
   "source": [
    "train_loader = DataLoader(train_dataset, batch_size=64, shuffle=True, collate_fn=collate_fn, num_workers=8, pin_memory=True)"
   ]
  },
  {
   "cell_type": "markdown",
   "id": "10c5a37b-a201-4912-954f-9d2133201da6",
   "metadata": {},
   "source": [
    "Для удобной работы с пользователями и айтемами по-отдельности заведем для них отдельные датасеты. Это поможет, например, прогнать юзеров и айтемов через юзерскую и айтемную часть dssm и получить их эмбеддинги."
   ]
  },
  {
   "cell_type": "code",
   "execution_count": null,
   "id": "a9142321-e557-42ab-ae04-992312681c87",
   "metadata": {},
   "outputs": [],
   "source": [
    "class OnePartDataset(Dataset):\n",
    "    def __init__(self, per_item_tokens):\n",
    "        self.per_item_tokens = per_item_tokens\n",
    "    \n",
    "    def __len__(self):\n",
    "        return len(self.per_item_tokens)\n",
    "    \n",
    "    def __getitem__(self, i):\n",
    "        return i, self.per_item_tokens[i]\n",
    "\n",
    "\n",
    "def create_user_item_datasets(train_dataset):\n",
    "    user_dataset = ...\n",
    "    item_dataset = ...\n",
    "    \n",
    "    return user_dataset, item_dataset"
   ]
  },
  {
   "cell_type": "code",
   "execution_count": null,
   "id": "09550ccf-86f0-4753-b2fd-91bec6c7aab3",
   "metadata": {},
   "outputs": [],
   "source": [
    "user_dataset, item_dataset = create_user_item_datasets(train_dataset)"
   ]
  },
  {
   "cell_type": "code",
   "execution_count": null,
   "id": "288881f3-b9b8-4850-b883-3947234d92c6",
   "metadata": {},
   "outputs": [],
   "source": [
    "def collate_fn_part(batch):\n",
    "    \"\"\"\n",
    "    Принимает на вход список объектов, которые вернул OnePartDataset, и приводит их к набору тензоров\n",
    "    в правильном формате\n",
    "    \"\"\"\n",
    "    ..."
   ]
  },
  {
   "cell_type": "code",
   "execution_count": null,
   "id": "70c6d17f-4e21-48bd-8ea5-de356dfd80d1",
   "metadata": {},
   "outputs": [],
   "source": [
    "user_loader = DataLoader(user_dataset, batch_size=64, shuffle=False, collate_fn=collate_fn_part, num_workers=0)\n",
    "item_loader = DataLoader(item_dataset, batch_size=64, shuffle=False, collate_fn=collate_fn_part, num_workers=0)"
   ]
  },
  {
   "cell_type": "markdown",
   "id": "29c4202e-1e09-4d17-a6b8-357bccbe306c",
   "metadata": {},
   "source": [
    "### Модель"
   ]
  },
  {
   "cell_type": "markdown",
   "id": "fd119eef-a4dd-4830-94bb-50f8511be6f7",
   "metadata": {},
   "source": [
    "Комментарии:\n",
    "* Стоит обратить внимание на слой [nn.EmbeddingBag](https://pytorch.org/docs/stable/generated/torch.nn.EmbeddingBag.html). Представления текстов в сжатом виде можно к нему адаптировать.\n",
    "* Из-за того, что токенов в одном айтеме и тем более пользователе может быть очень много, суммирование эмбеддингов токенов может привести к численной нестабильности. Можно суммировать эмбеддинги токенов с весом $1 \\big/ \\sqrt{\\text{количество токенов}}$.\n"
   ]
  },
  {
   "cell_type": "markdown",
   "id": "a6d2f97e-52c0-4dc3-9c8e-81496199721a",
   "metadata": {},
   "source": [
    "Будем учить модель на FPS loss."
   ]
  },
  {
   "cell_type": "code",
   "execution_count": null,
   "id": "f57e5221-1764-45bc-a9c9-1a62293d85a7",
   "metadata": {},
   "outputs": [],
   "source": [
    "def fps_loss(item_embs, user_embs):\n",
    "    loss = ...\n",
    "\n",
    "    return loss"
   ]
  },
  {
   "cell_type": "code",
   "execution_count": null,
   "id": "66fe94ae-ae8b-4921-aab9-5a6b3ea81a8c",
   "metadata": {},
   "outputs": [],
   "source": [
    "def test_fps_loss():\n",
    "    user_embs = torch.tensor([[1.0, 2.0, 3.0], [3.0, 2.0, 1.0], [7.0, 8.0, 9.0]])\n",
    "    item_embs = torch.tensor([[5.0, 3.0, 6.0], [2.0, -2.0, 0.0], [-15.0, 1.0, 2.0]])\n",
    "    ratings = torch.ones(3)\n",
    "    assert np.isclose(fps_loss(user_embs, item_embs, ratings).item(), 52.0120)\n",
    "\n",
    "    N = 100\n",
    "    losses = []\n",
    "    for _ in range(10 ** 4):\n",
    "        user_embs = torch.rand(N, 1)\n",
    "        item_embs = torch.rand(N, 1)\n",
    "        ratings = torch.ones(N)\n",
    "        losses.append(fps_loss(item_embs[torch.randperm(N)], user_embs, ratings).item())\n",
    "    assert np.isclose(np.mean(losses), 4.62, atol=1e-2)\n",
    "          \n",
    "test_fps_loss()"
   ]
  },
  {
   "cell_type": "code",
   "execution_count": null,
   "id": "3cb7c953-b5b7-43b7-9972-fec4a9fc0682",
   "metadata": {},
   "outputs": [],
   "source": [
    "EMBEDDING_SIZE = 10"
   ]
  },
  {
   "cell_type": "code",
   "execution_count": null,
   "id": "ab4eb075-b5b4-4525-a721-46fb4be209cb",
   "metadata": {},
   "outputs": [],
   "source": [
    "class BagOfWordsDSSM(nn.Module):\n",
    "    def __init__(self, dict_size=DICT_SIZE, embedding_size=EMBEDDING_SIZE):\n",
    "        super(BagOfWordsDSSM, self).__init__()\n",
    "        # YOUR CODE HERE\n",
    "\n",
    "    def get_user_embeddings(self, users_info):\n",
    "        \"\"\"Пользовательская часть DSSM\"\"\"\n",
    "        user_embeddings = ...\n",
    "        return user_embeddings\n",
    "\n",
    "    def get_item_embeddings(self, items_info):\n",
    "        \"\"\"Айтемная часть DSSM\"\"\"\n",
    "        item_embeddings = ...\n",
    "        return item_embeddings\n",
    "    \n",
    "    def forward(self, users_info, items_info):\n",
    "        # YOUR CODE HERE"
   ]
  },
  {
   "cell_type": "code",
   "execution_count": null,
   "id": "a8e819f0-eb02-4a4d-adc6-ed2454a5fe4b",
   "metadata": {},
   "outputs": [],
   "source": [
    "model = BagOfWordsDSSM().to(device)\n",
    "optimizer = torch.optim.Adam(model.parameters(), lr=0.001)"
   ]
  },
  {
   "cell_type": "markdown",
   "id": "dc51d156-493f-4624-8aac-4c2b9871fb4d",
   "metadata": {},
   "source": [
    "Для оценки качества будем считать усредненный по пользователям ROC-AUC на тестовых данных."
   ]
  },
  {
   "cell_type": "code",
   "execution_count": null,
   "id": "1f55bfa4-7d9f-4c3d-8fd7-01d251895300",
   "metadata": {},
   "outputs": [],
   "source": [
    "def calculate_per_user_auc(user_embeddings, item_embeddings, user_ratings, column):\n",
    "    \"\"\"\n",
    "    * user_embeddings - np.array из эмбеддингов пользователей\n",
    "    * item_embeddings - np.array из эмбеддингов айтемов\n",
    "    * user_ratings - pd.DataFrame датасета\n",
    "    * column - название колонки таблицы с рейтингами\n",
    "    \"\"\"\n",
    "    aucs = []\n",
    "    user_ids = user_encoder.transform(user_ratings['userId'])\n",
    "    for user_id, item_ratings in tqdm.notebook.tqdm(zip(user_ids, user_ratings[column]), total=len(user_ids)):\n",
    "        item_ids, item_ratings = zip(*parse_ratings_history(item_ratings).items())\n",
    "        if len(set(item_ratings)) == 1:\n",
    "            continue\n",
    "        item_ids = [item_to_id[item_id] for item_id in item_ids]\n",
    "\n",
    "        user_embedding = user_embeddings[user_id]\n",
    "        item_embedding = item_embeddings[item_ids]\n",
    "\n",
    "        scores = (user_embedding * item_embedding).sum(axis=-1)\n",
    "\n",
    "        roc_auc = roc_auc_score(item_ratings, scores)\n",
    "        aucs.append(roc_auc)\n",
    "    return np.mean(aucs)"
   ]
  },
  {
   "cell_type": "code",
   "execution_count": null,
   "id": "1f3b414b-37ce-47af-8ad5-eed9fddbca61",
   "metadata": {},
   "outputs": [],
   "source": [
    "# Пример использования функции\n",
    "\n",
    "# calculate_per_user_auc(np.random.randn(len(user_encoder.classes_), EMBEDDING_SIZE),\n",
    "#                        np.random.randn(len(item_encoder.classes_), EMBEDDING_SIZE),\n",
    "#                        user_ratings, 'testRatings')"
   ]
  },
  {
   "cell_type": "code",
   "execution_count": null,
   "id": "895359eb-7532-4e30-af66-97456fac112a",
   "metadata": {},
   "outputs": [],
   "source": [
    "from IPython.display import clear_output\n",
    "\n",
    "def train(model, optimizer, train_loader, n_epochs=5):\n",
    "    loss_history = []\n",
    "    per_user_auc = []\n",
    "    for epoch in range(n_epochs):\n",
    "        for batch in tqdm.tqdm(train_loader, desc=f'Epoch {epoch}'):\n",
    "            model.train()\n",
    "            \n",
    "            user_embs, item_embs = ...\n",
    "            loss = ...\n",
    "            # OPTIMIZER STUFF\n",
    "            \n",
    "            loss_history.append(loss.item())\n",
    "\n",
    "            if len(loss_history) % 10000 == 0:\n",
    "                user_embeddings = ...\n",
    "                item_embeddings = ...\n",
    "                auc = ...\n",
    "                per_user_auc.append(auc)\n",
    "            \n",
    "            if len(loss_history) % 1000 == 0:\n",
    "                clear_output(wait=True)\n",
    "                plt.figure(figsize=(14, 6))\n",
    "                plt.plot(loss_history)\n",
    "                plt.title('Train loss')\n",
    "                plt.yscale('log')\n",
    "                plt.subplot(1, 2, 2)\n",
    "                plt.plot(np.arange(1, len(per_user_auc) + 1) * 10000, per_user_auc)\n",
    "                plt.title('Per user AUC')\n",
    "                plt.savefig(f'images/{EMBEDDING_SIZE}.jpg')\n",
    "                plt.show()"
   ]
  },
  {
   "cell_type": "code",
   "execution_count": null,
   "id": "1365ccbf-65ea-42c9-b7cc-0b313abc67c8",
   "metadata": {},
   "outputs": [],
   "source": [
    "train(model, optimizer, train_loader)"
   ]
  },
  {
   "cell_type": "code",
   "execution_count": null,
   "id": "57fe8187-b98c-44a9-99b5-84189d237d1b",
   "metadata": {},
   "outputs": [],
   "source": [
    "user_embeddings = ...\n",
    "item_embeddings = ...\n",
    "auc = ..."
   ]
  },
  {
   "cell_type": "code",
   "execution_count": null,
   "id": "cd7f2047-6d4a-4b8f-8474-bf3a2cb8cff5",
   "metadata": {},
   "outputs": [],
   "source": [
    "print('Test ROC-AUC:', auc)"
   ]
  },
  {
   "cell_type": "markdown",
   "id": "0fbec5ea-b52e-4ac9-969a-6e5882c58c1b",
   "metadata": {},
   "source": [
    "Тут можно написать интересные замечания и выводы по модели и ее обучению.\n",
    "\n",
    "**Выводы:**"
   ]
  },
  {
   "cell_type": "code",
   "execution_count": null,
   "id": "3be1a956",
   "metadata": {},
   "outputs": [],
   "source": []
  },
  {
   "cell_type": "code",
   "execution_count": null,
   "id": "40ccafde",
   "metadata": {},
   "outputs": [],
   "source": []
  },
  {
   "cell_type": "code",
   "execution_count": null,
   "id": "1a305ae6",
   "metadata": {},
   "outputs": [],
   "source": []
  },
  {
   "cell_type": "markdown",
   "id": "57863a21",
   "metadata": {},
   "source": [
    "# Часть 2. Ранжирующая модель\n",
    "\n"
   ]
  },
  {
   "cell_type": "markdown",
   "id": "50697a4d",
   "metadata": {},
   "source": [
    "Классический пайплайн рекомендаций выглядит следующим образом:\n",
    "\n",
    "![](data:image/png;base64,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)\n",
    "\n",
    "* Отбор кандидатов. Сначала из всей базы документов отбирается некоторое количество кандидатов. Это нужно, потому что в реальном сервисе очень большое количество документов и невозможно на каждый запрос отскорить всё. В качестве \"селекторов\" могут выступать простые с вычислительной точки зрения модели (например, kNN по эмбеддингам, предсказание FM, SLIM).\n",
    "* Ранжирующая модель. Отобранные на предыдущем шаге айтемы ранжируются моделью, чтобы отобрать топ документов для пользователя.\n",
    "* Затем айтемы дополнительно переранжируются с учетом бизнес-логики.\n",
    "\n",
    "Более подробно этот пайплайн обсуждался на лекции 1."
   ]
  },
  {
   "cell_type": "markdown",
   "id": "4ddb52ab",
   "metadata": {},
   "source": [
    "В этом задании вам предстоит построить и обучить ранжирующую модель на датасете Дзена.\n",
    "\n",
    "В качестве самой модели применяют модели на основе градиентного бустинга, в данном задании предлагается использовать CatBoost. В качестве фичей модели используем\n",
    "* Скалярное произведение, косинусное расстояние между пользовательским и айтемным эмбеддингами. Эмбеддинги: *explicit ALS*, *implicit ALS*, *DSSM*.\n",
    "* Айтемные и пользовательские статистики (ctr, количество показов и т.п.)"
   ]
  },
  {
   "cell_type": "markdown",
   "id": "842ea20e",
   "metadata": {},
   "source": [
    "## ALS"
   ]
  },
  {
   "cell_type": "markdown",
   "id": "fbde9d64",
   "metadata": {},
   "source": [
    "Обучите explicit и implicit ALS.  \n",
    "Можете использовать, как свою реализацию из первого задания, так и реализации из публичных библиотек (Implicit, Lightfm, Surprise, LensKit, etc.) "
   ]
  },
  {
   "cell_type": "code",
   "execution_count": null,
   "id": "11599318",
   "metadata": {},
   "outputs": [],
   "source": [
    "DIMENSION = 10"
   ]
  },
  {
   "cell_type": "code",
   "execution_count": null,
   "id": "5b7664de",
   "metadata": {},
   "outputs": [],
   "source": [
    "eals_user_embeddings, eals_item_embeddings = ..."
   ]
  },
  {
   "cell_type": "code",
   "execution_count": null,
   "id": "9ebafbb2",
   "metadata": {},
   "outputs": [],
   "source": [
    "ials_user_embeddings, ials_item_embeddings = ..."
   ]
  },
  {
   "cell_type": "code",
   "execution_count": null,
   "id": "8f527f40",
   "metadata": {},
   "outputs": [],
   "source": [
    "dssm_user_embeddings, dssm_item_embeddings = ..."
   ]
  },
  {
   "cell_type": "markdown",
   "id": "003eae02",
   "metadata": {},
   "source": [
    "## Catboost"
   ]
  },
  {
   "cell_type": "markdown",
   "id": "80846571",
   "metadata": {},
   "source": [
    "Построим эмбеддинговые признаки пары пользователь-айтем."
   ]
  },
  {
   "cell_type": "code",
   "execution_count": null,
   "id": "9b2e3fcc",
   "metadata": {},
   "outputs": [],
   "source": [
    "class EmbeddingFeatureGetter:\n",
    "    def __init__(self, user_embeddings, item_embeddings):\n",
    "        self.user_embeddings = user_embeddings\n",
    "        self.item_embeddings = item_embeddings\n",
    "    \n",
    "    def get_features(self, user_id, item_ids):\n",
    "        \"\"\"\n",
    "        * user_id -- индекс пользователя для построения признаков\n",
    "        * item_ids -- список индексов айтемов\n",
    "        \"\"\"\n",
    "        ...\n",
    "\n",
    "        return dot, cos"
   ]
  },
  {
   "cell_type": "code",
   "execution_count": null,
   "id": "68e1aa08",
   "metadata": {},
   "outputs": [],
   "source": [
    "eals_features_getter = EmbeddingFeatureGetter(eals_user_embeddings, eals_item_embeddings)\n",
    "ials_features_getter = EmbeddingFeatureGetter(ials_user_embeddings, ials_item_embeddings)\n",
    "dssm_features_getter = EmbeddingFeatureGetter(dssm_user_embeddings, dssm_item_embeddings)"
   ]
  },
  {
   "cell_type": "markdown",
   "id": "80442354",
   "metadata": {},
   "source": [
    "Построим айтемные и пользовательские признаки."
   ]
  },
  {
   "cell_type": "code",
   "execution_count": null,
   "id": "58085ea0",
   "metadata": {},
   "outputs": [],
   "source": [
    "item_features = [...]"
   ]
  },
  {
   "cell_type": "code",
   "execution_count": null,
   "id": "a2204d69",
   "metadata": {},
   "outputs": [],
   "source": [
    "user_features = [...]"
   ]
  },
  {
   "cell_type": "markdown",
   "id": "5e162233",
   "metadata": {},
   "source": [
    "Для построения модели catboost будем пользоваться одноименной [библиотекой](https://catboost.ai/en/docs/concepts/python-reference_catboost). Для обучения модели удобно использовать интерфейс библиотеки, с использованием представления данных `Pool`."
   ]
  },
  {
   "cell_type": "code",
   "execution_count": null,
   "id": "cfd7f194",
   "metadata": {},
   "outputs": [],
   "source": [
    "!pip install catboost"
   ]
  },
  {
   "cell_type": "code",
   "execution_count": null,
   "id": "f955c180",
   "metadata": {},
   "outputs": [],
   "source": [
    "import catboost"
   ]
  },
  {
   "cell_type": "code",
   "execution_count": null,
   "id": "715e7530",
   "metadata": {},
   "outputs": [],
   "source": [
    "train_features = ...\n",
    "train_labels = [...]\n",
    "train_group_ids = [...]"
   ]
  },
  {
   "cell_type": "code",
   "execution_count": null,
   "id": "871f8438",
   "metadata": {},
   "outputs": [],
   "source": [
    "train_pool = catboost.Pool(train_features, train_labels, group_id=train_group_ids)"
   ]
  },
  {
   "cell_type": "code",
   "execution_count": null,
   "id": "49fcce21",
   "metadata": {},
   "outputs": [],
   "source": [
    "test_features = ...\n",
    "test_labels = [...]\n",
    "test_group_ids = [...]"
   ]
  },
  {
   "cell_type": "code",
   "execution_count": null,
   "id": "30fb4181",
   "metadata": {},
   "outputs": [],
   "source": [
    "test_pool = catboost.Pool(test_features, test_labels, group_id=test_group_ids)"
   ]
  },
  {
   "cell_type": "markdown",
   "id": "3589cb13",
   "metadata": {},
   "source": [
    "Обучим саму модель. В [документации](https://catboost.ai/en/docs/references/training-parameters/common#loss_function) есть описание того, как передавать лосс, и какие функции возможны.\n",
    "\n",
    "Попробуйте обучить на лосс бинарной классификации и ранжирования (второе стоит учить с маленьким числом генерируемых пар на `group_id` во избежание вычислительных трудностей)."
   ]
  },
  {
   "cell_type": "code",
   "execution_count": null,
   "id": "44da7a4e",
   "metadata": {},
   "outputs": [],
   "source": [
    "cb = catboost.CatBoost({...})"
   ]
  },
  {
   "cell_type": "code",
   "execution_count": null,
   "id": "4097fe99",
   "metadata": {},
   "outputs": [],
   "source": [
    "cb.fit(train_pool, eval_set=test_pool)"
   ]
  },
  {
   "cell_type": "code",
   "execution_count": null,
   "id": "9dc39243",
   "metadata": {},
   "outputs": [],
   "source": [
    "Оценим качество"
   ]
  },
  {
   "cell_type": "code",
   "execution_count": null,
   "id": "283ab38d",
   "metadata": {},
   "outputs": [],
   "source": [
    "per_user_predictions = [...]  # user -> predictions"
   ]
  },
  {
   "cell_type": "code",
   "execution_count": null,
   "id": "73998b1c",
   "metadata": {},
   "outputs": [],
   "source": [
    "def calculate_per_user_auc(user_ratings, per_user_predictions):\n",
    "    pass"
   ]
  },
  {
   "cell_type": "code",
   "execution_count": null,
   "id": "6ec8c0f0",
   "metadata": {},
   "outputs": [],
   "source": [
    "per_user_auc = calculate_per_user_auc(user_ratings, per_user_predictions)\n",
    "print(np.mean(per_user_auc))"
   ]
  },
  {
   "cell_type": "markdown",
   "id": "5b383d81",
   "metadata": {},
   "source": [
    "**Выводы:**"
   ]
  },
  {
   "cell_type": "code",
   "execution_count": null,
   "id": "6cb68aaf",
   "metadata": {},
   "outputs": [],
   "source": []
  }
 ],
 "metadata": {
  "kernelspec": {
   "display_name": "Python 3 (ipykernel)",
   "language": "python",
   "name": "python3"
  },
  "language_info": {
   "codemirror_mode": {
    "name": "ipython",
    "version": 3
   },
   "file_extension": ".py",
   "mimetype": "text/x-python",
   "name": "python",
   "nbconvert_exporter": "python",
   "pygments_lexer": "ipython3",
   "version": "3.11.0"
  }
 },
 "nbformat": 4,
 "nbformat_minor": 5
}
