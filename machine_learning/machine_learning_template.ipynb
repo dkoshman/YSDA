{
 "cells": [
  {
   "cell_type": "markdown",
   "id": "ff7a35e7",
   "metadata": {},
   "source": [
    "## [Description](#Description_)\n",
    "## [Imports](#Imports_)\n",
    "## [Globals](#Globals_)\n",
    "## [Setup](#Setup_)\n",
    "## [Data](#Data_)\n",
    "## [Data exploration](#Data_exploration_)\n",
    "## [Model](#Model_)\n",
    "## [Training](#Training_)\n",
    "## [Results](#Results_)"
   ]
  },
  {
   "cell_type": "markdown",
   "id": "a364d5db",
   "metadata": {},
   "source": [
    "## Description <span id=Description_></span>"
   ]
  },
  {
   "cell_type": "markdown",
   "id": "1cb7906c",
   "metadata": {},
   "source": [
    "## Imports <span id=Imports_></span>"
   ]
  },
  {
   "cell_type": "code",
   "execution_count": 1,
   "id": "9dc4b0c2",
   "metadata": {},
   "outputs": [
    {
     "data": {
      "application/javascript": [
       "\n",
       "            setTimeout(function() {\n",
       "                var nbb_cell_id = 1;\n",
       "                var nbb_unformatted_code = \"%load_ext nb_black\\n\\nimport matplotlib.pyplot as plt\\nimport numpy as np\\nimport pandas as pd\\nimport torch\";\n",
       "                var nbb_formatted_code = \"%load_ext nb_black\\n\\nimport matplotlib.pyplot as plt\\nimport numpy as np\\nimport pandas as pd\\nimport torch\";\n",
       "                var nbb_cells = Jupyter.notebook.get_cells();\n",
       "                for (var i = 0; i < nbb_cells.length; ++i) {\n",
       "                    if (nbb_cells[i].input_prompt_number == nbb_cell_id) {\n",
       "                        if (nbb_cells[i].get_text() == nbb_unformatted_code) {\n",
       "                             nbb_cells[i].set_text(nbb_formatted_code);\n",
       "                        }\n",
       "                        break;\n",
       "                    }\n",
       "                }\n",
       "            }, 500);\n",
       "            "
      ],
      "text/plain": [
       "<IPython.core.display.Javascript object>"
      ]
     },
     "metadata": {},
     "output_type": "display_data"
    }
   ],
   "source": [
    "%load_ext nb_black\n",
    "\n",
    "import matplotlib.pyplot as plt\n",
    "import numpy as np\n",
    "import pandas as pd\n",
    "import torch"
   ]
  },
  {
   "cell_type": "markdown",
   "id": "7f9d8f07",
   "metadata": {},
   "source": [
    "## Globals <span id=Globals_></span>"
   ]
  },
  {
   "cell_type": "code",
   "execution_count": 9,
   "id": "59260eb2",
   "metadata": {},
   "outputs": [
    {
     "data": {
      "application/javascript": [
       "\n",
       "            setTimeout(function() {\n",
       "                var nbb_cell_id = 9;\n",
       "                var nbb_unformatted_code = \"COMPETITION = \\\"\\\"\";\n",
       "                var nbb_formatted_code = \"COMPETITION = \\\"\\\"\";\n",
       "                var nbb_cells = Jupyter.notebook.get_cells();\n",
       "                for (var i = 0; i < nbb_cells.length; ++i) {\n",
       "                    if (nbb_cells[i].input_prompt_number == nbb_cell_id) {\n",
       "                        if (nbb_cells[i].get_text() == nbb_unformatted_code) {\n",
       "                             nbb_cells[i].set_text(nbb_formatted_code);\n",
       "                        }\n",
       "                        break;\n",
       "                    }\n",
       "                }\n",
       "            }, 500);\n",
       "            "
      ],
      "text/plain": [
       "<IPython.core.display.Javascript object>"
      ]
     },
     "metadata": {},
     "output_type": "display_data"
    }
   ],
   "source": [
    "COMPETITION = \"\""
   ]
  },
  {
   "cell_type": "markdown",
   "id": "86c0e6c3",
   "metadata": {},
   "source": [
    "## Setup <span id=Setup_></span>"
   ]
  },
  {
   "cell_type": "markdown",
   "id": "ba9d3b52",
   "metadata": {},
   "source": [
    "### Markdown"
   ]
  },
  {
   "cell_type": "code",
   "execution_count": 13,
   "id": "a008dd16",
   "metadata": {},
   "outputs": [
    {
     "data": {
      "application/javascript": [
       "\n",
       "            setTimeout(function() {\n",
       "                var nbb_cell_id = 13;\n",
       "                var nbb_unformatted_code = \"def make_new_markdown_section_with_link(section, header=\\\"##\\\", do_print=True):\\n    section_id = section.replace(\\\" \\\", \\\"_\\\") + \\\"_\\\"\\n    section_link = f\\\"{header} [{section}](#{section_id})\\\"\\n    section_header = f\\\"{header} {section} <span id={section_id}></span>\\\"\\n    if do_print:\\n        print(section_link + \\\"\\\\n\\\" + section_header)\\n    return section_link, section_header\\n\\n\\ndef make_several_sections(\\n    section_names=(\\\"Description\\\",\\n        \\\"Imports\\\",\\n        \\\"Globals\\\",\\n        \\\"Setup\\\",\\n        \\\"Data\\\",\\n        \\\"Data exploration\\\",\\n        \\\"Model\\\",\\n        \\\"Training\\\",\\n        \\\"Results\\\",)\\n):\\n    links, headers = zip(\\n        *[\\n            make_new_markdown_section_with_link(sn, do_print=False)\\n            for sn in section_names\\n        ]\\n    )\\n    print(\\\"\\\\n\\\".join(links + (\\\"\\\",) + headers))\";\n",
       "                var nbb_formatted_code = \"def make_new_markdown_section_with_link(section, header=\\\"##\\\", do_print=True):\\n    section_id = section.replace(\\\" \\\", \\\"_\\\") + \\\"_\\\"\\n    section_link = f\\\"{header} [{section}](#{section_id})\\\"\\n    section_header = f\\\"{header} {section} <span id={section_id}></span>\\\"\\n    if do_print:\\n        print(section_link + \\\"\\\\n\\\" + section_header)\\n    return section_link, section_header\\n\\n\\ndef make_several_sections(\\n    section_names=(\\n        \\\"Description\\\",\\n        \\\"Imports\\\",\\n        \\\"Globals\\\",\\n        \\\"Setup\\\",\\n        \\\"Data\\\",\\n        \\\"Data exploration\\\",\\n        \\\"Model\\\",\\n        \\\"Training\\\",\\n        \\\"Results\\\",\\n    )\\n):\\n    links, headers = zip(\\n        *[\\n            make_new_markdown_section_with_link(sn, do_print=False)\\n            for sn in section_names\\n        ]\\n    )\\n    print(\\\"\\\\n\\\".join(links + (\\\"\\\",) + headers))\";\n",
       "                var nbb_cells = Jupyter.notebook.get_cells();\n",
       "                for (var i = 0; i < nbb_cells.length; ++i) {\n",
       "                    if (nbb_cells[i].input_prompt_number == nbb_cell_id) {\n",
       "                        if (nbb_cells[i].get_text() == nbb_unformatted_code) {\n",
       "                             nbb_cells[i].set_text(nbb_formatted_code);\n",
       "                        }\n",
       "                        break;\n",
       "                    }\n",
       "                }\n",
       "            }, 500);\n",
       "            "
      ],
      "text/plain": [
       "<IPython.core.display.Javascript object>"
      ]
     },
     "metadata": {},
     "output_type": "display_data"
    }
   ],
   "source": [
    "def make_new_markdown_section_with_link(section, header=\"##\", do_print=True):\n",
    "    section_id = section.replace(\" \", \"_\") + \"_\"\n",
    "    section_link = f\"{header} [{section}](#{section_id})\"\n",
    "    section_header = f\"{header} {section} <span id={section_id}></span>\"\n",
    "    if do_print:\n",
    "        print(section_link + \"\\n\" + section_header)\n",
    "    return section_link, section_header\n",
    "\n",
    "\n",
    "def make_several_sections(\n",
    "    section_names=(\n",
    "        \"Description\",\n",
    "        \"Imports\",\n",
    "        \"Globals\",\n",
    "        \"Setup\",\n",
    "        \"Data\",\n",
    "        \"Data exploration\",\n",
    "        \"Model\",\n",
    "        \"Training\",\n",
    "        \"Results\",\n",
    "    )\n",
    "):\n",
    "    links, headers = zip(\n",
    "        *[\n",
    "            make_new_markdown_section_with_link(sn, do_print=False)\n",
    "            for sn in section_names\n",
    "        ]\n",
    "    )\n",
    "    print(\"\\n\".join(links + (\"\",) + headers))"
   ]
  },
  {
   "cell_type": "markdown",
   "id": "c56361a5",
   "metadata": {},
   "source": [
    "### Terminal"
   ]
  },
  {
   "cell_type": "code",
   "execution_count": null,
   "id": "f9fb05d1",
   "metadata": {},
   "outputs": [],
   "source": [
    "def mkdir(path, error_if_exists=False):\n",
    "    !mkdir {\"-p\" if not error_if_exists else \"\"} {path}\n",
    "\n",
    "\n",
    "def unzip(zip_path, save_path=None, delete_zip=False):\n",
    "    !unzip {zip_path} {\"-d \"+ save_path if save_path else \"\"}\n",
    "    if delete_zip:\n",
    "        for path in glob.glob(zip_path):\n",
    "            if path.endswith(\".zip\"):\n",
    "                !trash {path}\n",
    "\n",
    "\n",
    "def unzip_to_data_and_delete():\n",
    "    unzip(\"data/*\", \"data\", delete_zip=True)"
   ]
  },
  {
   "cell_type": "markdown",
   "id": "44074b62",
   "metadata": {},
   "source": [
    "### Kaggle"
   ]
  },
  {
   "cell_type": "code",
   "execution_count": null,
   "id": "254f53f4",
   "metadata": {},
   "outputs": [],
   "source": [
    "def kaggle_competitions_search(search_term):\n",
    "    !kaggle competitions list -s {search_term}\n",
    "\n",
    "\n",
    "def kaggle_competitions_files(competition):\n",
    "    !kaggle competitions files {competition}\n",
    "\n",
    "\n",
    "def kaggle_competitions_download(competition, save_path=\"data\", filename=None):\n",
    "    mkdir(save_path)\n",
    "    !kaggle competitions download -p {save_path} {\"-f \" + filename if filename else \"\"} {competition}\n",
    "\n",
    "\n",
    "def kaggle_competitions_submit(competition, filename, message=\"submit\"):\n",
    "    !kaggle competitions submit -f {filename} -m {message} {competition}\n",
    "\n",
    "\n",
    "def kaggle_competitions_submissions(competition):\n",
    "    !kaggle competitions submissions {competition}"
   ]
  },
  {
   "cell_type": "markdown",
   "id": "6e736493",
   "metadata": {},
   "source": [
    "## Data <span id=Data_></span>"
   ]
  },
  {
   "cell_type": "markdown",
   "id": "0b4759c9",
   "metadata": {},
   "source": [
    "## Data exploration <span id=Data_exploration_></span>"
   ]
  },
  {
   "cell_type": "markdown",
   "id": "7bc896cf",
   "metadata": {},
   "source": [
    "## Model <span id=Model_></span>"
   ]
  },
  {
   "cell_type": "markdown",
   "id": "b7a185b8",
   "metadata": {},
   "source": [
    "## Training <span id=Training_></span>"
   ]
  },
  {
   "cell_type": "markdown",
   "id": "a716949e",
   "metadata": {},
   "source": [
    "## Results <span id=Results_></span>"
   ]
  },
  {
   "cell_type": "code",
   "execution_count": null,
   "id": "70874293",
   "metadata": {},
   "outputs": [],
   "source": []
  }
 ],
 "metadata": {
  "kernelspec": {
   "display_name": "Python 3 (ipykernel)",
   "language": "python",
   "name": "python3"
  },
  "language_info": {
   "codemirror_mode": {
    "name": "ipython",
    "version": 3
   },
   "file_extension": ".py",
   "mimetype": "text/x-python",
   "name": "python",
   "nbconvert_exporter": "python",
   "pygments_lexer": "ipython3",
   "version": "3.10.7"
  }
 },
 "nbformat": 4,
 "nbformat_minor": 5
}
