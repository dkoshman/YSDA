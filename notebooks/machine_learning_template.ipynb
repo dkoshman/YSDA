{
 "cells": [
  {
   "cell_type": "markdown",
   "id": "ff7a35e7",
   "metadata": {},
   "source": [
    "## [Description](#Description_)\n",
    "## [Research](#Research_)\n",
    "## [Todo](#Todo_)\n",
    "## [Setup](#Setup_)\n",
    "## [Imports](#Imports_)\n",
    "## [Config](#Config_)\n",
    "## [Utils](#Utils_)\n",
    "- ### [Markdown](#Markdown_)\n",
    "## [Data](#Data_)\n",
    "- ### [Data exploration](#Data_exploration_)\n",
    "## [Metrics](#Metrics_)\n",
    "## [Model](#Model_)\n",
    "## [Training](#Training_)\n",
    "## [Results](#Results_)"
   ]
  },
  {
   "cell_type": "markdown",
   "id": "a364d5db",
   "metadata": {},
   "source": [
    "## Description <span id=Description_></span>"
   ]
  },
  {
   "cell_type": "markdown",
   "id": "e9fac4ef",
   "metadata": {},
   "source": [
    "## Research <span id=Research_></span>"
   ]
  },
  {
   "cell_type": "markdown",
   "id": "2cf1088e",
   "metadata": {},
   "source": [
    "## Todo <span id=Todo_></span>"
   ]
  },
  {
   "cell_type": "markdown",
   "id": "0ee1f246",
   "metadata": {},
   "source": [
    "## Setup <span id=Setup_></span>"
   ]
  },
  {
   "cell_type": "code",
   "execution_count": null,
   "id": "df34f9cc",
   "metadata": {},
   "outputs": [],
   "source": [
    "#!pip install -qqq"
   ]
  },
  {
   "cell_type": "markdown",
   "id": "1cb7906c",
   "metadata": {},
   "source": [
    "## Imports <span id=Imports_></span>"
   ]
  },
  {
   "cell_type": "code",
   "execution_count": 3,
   "id": "9dc4b0c2",
   "metadata": {
    "ExecuteTime": {
     "end_time": "2023-09-06T08:48:10.990098Z",
     "start_time": "2023-09-06T08:48:10.985282Z"
    }
   },
   "outputs": [],
   "source": [
    "import collections\n",
    "import dataclasses\n",
    "import functools\n",
    "import glob\n",
    "import matplotlib.pyplot as plt\n",
    "import numpy as np\n",
    "import os\n",
    "import pandas as pd\n",
    "import sys\n",
    "import torch\n",
    "from torch import Tensor\n",
    "from typing import Callable, Literal, TypeVar\n",
    "import tqdm"
   ]
  },
  {
   "cell_type": "markdown",
   "id": "7f9d8f07",
   "metadata": {},
   "source": [
    "## Config <span id=Config_></span>"
   ]
  },
  {
   "cell_type": "code",
   "execution_count": 11,
   "id": "59260eb2",
   "metadata": {
    "ExecuteTime": {
     "end_time": "2023-05-09T06:34:15.638296Z",
     "start_time": "2023-05-09T06:34:15.632639Z"
    }
   },
   "outputs": [
    {
     "data": {
      "application/javascript": [
       "\n",
       "            setTimeout(function() {\n",
       "                var nbb_cell_id = 11;\n",
       "                var nbb_unformatted_code = \"CONFIG = types.SimpleNamespace()\\n\\nDATA = types.SimpleNamespace()\\n\\nMODEL = types.SimpleNamespace()\";\n",
       "                var nbb_formatted_code = \"CONFIG = types.SimpleNamespace()\\n\\nDATA = types.SimpleNamespace()\\n\\nMODEL = types.SimpleNamespace()\";\n",
       "                var nbb_cells = Jupyter.notebook.get_cells();\n",
       "                for (var i = 0; i < nbb_cells.length; ++i) {\n",
       "                    if (nbb_cells[i].input_prompt_number == nbb_cell_id) {\n",
       "                        if (nbb_cells[i].get_text() == nbb_unformatted_code) {\n",
       "                             nbb_cells[i].set_text(nbb_formatted_code);\n",
       "                        }\n",
       "                        break;\n",
       "                    }\n",
       "                }\n",
       "            }, 500);\n",
       "            "
      ],
      "text/plain": [
       "<IPython.core.display.Javascript object>"
      ]
     },
     "metadata": {},
     "output_type": "display_data"
    }
   ],
   "source": [
    "@dataclasses.dataclass(kw_only=True)\n",
    "class Config:\n",
    "    ..."
   ]
  },
  {
   "cell_type": "markdown",
   "id": "d49589a3",
   "metadata": {},
   "source": [
    "## Utils <span id=Utils_></span>"
   ]
  },
  {
   "cell_type": "markdown",
   "id": "ba9d3b52",
   "metadata": {},
   "source": [
    "### Markdown <span id=Markdown_></span>"
   ]
  },
  {
   "cell_type": "code",
   "execution_count": 1,
   "id": "a008dd16",
   "metadata": {
    "ExecuteTime": {
     "end_time": "2023-09-06T08:44:09.690008Z",
     "start_time": "2023-09-06T08:44:09.673498Z"
    }
   },
   "outputs": [],
   "source": [
    "def make_new_markdown_section_with_link(\n",
    "    section: str, header_size: int = 2\n",
    ") -> tuple[str, str]:\n",
    "    header = \"#\" * header_size\n",
    "    section_id = section.replace(\" \", \"_\") + \"_\"\n",
    "    section_link = f\"{header} [{section}](#{section_id})\"\n",
    "    section_header = f\"{header} {section} <span id={section_id}></span>\"\n",
    "    return section_link, section_header"
   ]
  },
  {
   "cell_type": "markdown",
   "id": "6e736493",
   "metadata": {},
   "source": [
    "## Data <span id=Data_></span>"
   ]
  },
  {
   "cell_type": "markdown",
   "id": "0b4759c9",
   "metadata": {},
   "source": [
    "### Data exploration <span id=Data_exploration_></span>"
   ]
  },
  {
   "cell_type": "markdown",
   "id": "b977ef18",
   "metadata": {},
   "source": [
    "## Metrics <span id=Metrics_></span>"
   ]
  },
  {
   "cell_type": "markdown",
   "id": "7bc896cf",
   "metadata": {},
   "source": [
    "## Model <span id=Model_></span>"
   ]
  },
  {
   "cell_type": "markdown",
   "id": "b7a185b8",
   "metadata": {},
   "source": [
    "## Training <span id=Training_></span>"
   ]
  },
  {
   "cell_type": "markdown",
   "id": "a716949e",
   "metadata": {},
   "source": [
    "## Results <span id=Results_></span>"
   ]
  },
  {
   "cell_type": "code",
   "execution_count": null,
   "id": "70874293",
   "metadata": {},
   "outputs": [],
   "source": []
  }
 ],
 "metadata": {
  "kernelspec": {
   "display_name": "Python 3 (ipykernel)",
   "language": "python",
   "name": "python3"
  },
  "language_info": {
   "codemirror_mode": {
    "name": "ipython",
    "version": 3
   },
   "file_extension": ".py",
   "mimetype": "text/x-python",
   "name": "python",
   "nbconvert_exporter": "python",
   "pygments_lexer": "ipython3",
   "version": "3.11.3"
  }
 },
 "nbformat": 4,
 "nbformat_minor": 5
}
