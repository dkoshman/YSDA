{
 "cells": [
  {
   "cell_type": "markdown",
   "id": "ff7a35e7",
   "metadata": {},
   "source": [
    "## [Description](#Description_)\n",
    "## [Research](#Research_)\n",
    "## [Imports](#Imports_)\n",
    "## [Globals](#Globals_)\n",
    "## [Utils](#Utils_)\n",
    "- ### [Markdown](#Markdown_)\n",
    "## [Setup](#Setup_)\n",
    "## [Data](#Data_)\n",
    "- ### [Data exploration](#Data_exploration_)\n",
    "## [Metrics](#Metrics_)\n",
    "## [Model](#Model_)\n",
    "## [Training](#Training_)\n",
    "## [Results](#Results_)"
   ]
  },
  {
   "cell_type": "markdown",
   "id": "a364d5db",
   "metadata": {},
   "source": [
    "## Description <span id=Description_></span>"
   ]
  },
  {
   "cell_type": "markdown",
   "id": "e9fac4ef",
   "metadata": {},
   "source": [
    "## Research <span id=Research_></span>"
   ]
  },
  {
   "cell_type": "markdown",
   "id": "1cb7906c",
   "metadata": {},
   "source": [
    "## Imports <span id=Imports_></span>"
   ]
  },
  {
   "cell_type": "code",
   "execution_count": 10,
   "id": "9dc4b0c2",
   "metadata": {
    "ExecuteTime": {
     "end_time": "2023-05-09T06:34:13.806981Z",
     "start_time": "2023-05-09T06:34:13.048110Z"
    }
   },
   "outputs": [
    {
     "name": "stdout",
     "output_type": "stream",
     "text": [
      "The nb_black extension is already loaded. To reload it, use:\n",
      "  %reload_ext nb_black\n"
     ]
    },
    {
     "data": {
      "application/javascript": [
       "\n",
       "            setTimeout(function() {\n",
       "                var nbb_cell_id = 10;\n",
       "                var nbb_unformatted_code = \"%load_ext nb_black\\n\\nimport collections\\nimport dataclasses\\nimport einops\\nimport functools\\nimport glob\\nimport matplotlib.pyplot as plt\\nimport numpy as np\\nimport os\\nimport pandas as pd\\nimport requests\\nimport scipy\\nimport sklearn\\nimport sys\\nimport torch\\nimport types\\nfrom typing import Callable, Literal, TypeVar\\nfrom tqdm.auto import tqdm\\nimport wandb\";\n",
       "                var nbb_formatted_code = \"%load_ext nb_black\\n\\nimport collections\\nimport dataclasses\\nimport einops\\nimport functools\\nimport glob\\nimport matplotlib.pyplot as plt\\nimport numpy as np\\nimport os\\nimport pandas as pd\\nimport requests\\nimport scipy\\nimport sklearn\\nimport sys\\nimport torch\\nimport types\\nfrom typing import Callable, Literal, TypeVar\\nfrom tqdm.auto import tqdm\\nimport wandb\";\n",
       "                var nbb_cells = Jupyter.notebook.get_cells();\n",
       "                for (var i = 0; i < nbb_cells.length; ++i) {\n",
       "                    if (nbb_cells[i].input_prompt_number == nbb_cell_id) {\n",
       "                        if (nbb_cells[i].get_text() == nbb_unformatted_code) {\n",
       "                             nbb_cells[i].set_text(nbb_formatted_code);\n",
       "                        }\n",
       "                        break;\n",
       "                    }\n",
       "                }\n",
       "            }, 500);\n",
       "            "
      ],
      "text/plain": [
       "<IPython.core.display.Javascript object>"
      ]
     },
     "metadata": {},
     "output_type": "display_data"
    }
   ],
   "source": [
    "%load_ext nb_black\n",
    "\n",
    "import collections\n",
    "import dataclasses\n",
    "import einops\n",
    "import functools\n",
    "import glob\n",
    "import matplotlib.pyplot as plt\n",
    "import numpy as np\n",
    "import os\n",
    "import pandas as pd\n",
    "import requests\n",
    "import scipy\n",
    "import sklearn\n",
    "import sys\n",
    "import torch\n",
    "import types\n",
    "from typing import Callable, Literal, TypeVar\n",
    "from tqdm.auto import tqdm\n",
    "import wandb"
   ]
  },
  {
   "cell_type": "markdown",
   "id": "7f9d8f07",
   "metadata": {},
   "source": [
    "## Globals <span id=Globals_></span>"
   ]
  },
  {
   "cell_type": "code",
   "execution_count": 11,
   "id": "59260eb2",
   "metadata": {
    "ExecuteTime": {
     "end_time": "2023-05-09T06:34:15.638296Z",
     "start_time": "2023-05-09T06:34:15.632639Z"
    }
   },
   "outputs": [
    {
     "data": {
      "application/javascript": [
       "\n",
       "            setTimeout(function() {\n",
       "                var nbb_cell_id = 11;\n",
       "                var nbb_unformatted_code = \"CONFIG = types.SimpleNamespace()\\n\\nDATA = types.SimpleNamespace()\\n\\nMODEL = types.SimpleNamespace()\";\n",
       "                var nbb_formatted_code = \"CONFIG = types.SimpleNamespace()\\n\\nDATA = types.SimpleNamespace()\\n\\nMODEL = types.SimpleNamespace()\";\n",
       "                var nbb_cells = Jupyter.notebook.get_cells();\n",
       "                for (var i = 0; i < nbb_cells.length; ++i) {\n",
       "                    if (nbb_cells[i].input_prompt_number == nbb_cell_id) {\n",
       "                        if (nbb_cells[i].get_text() == nbb_unformatted_code) {\n",
       "                             nbb_cells[i].set_text(nbb_formatted_code);\n",
       "                        }\n",
       "                        break;\n",
       "                    }\n",
       "                }\n",
       "            }, 500);\n",
       "            "
      ],
      "text/plain": [
       "<IPython.core.display.Javascript object>"
      ]
     },
     "metadata": {},
     "output_type": "display_data"
    }
   ],
   "source": [
    "CONFIG = types.SimpleNamespace()\n",
    "\n",
    "DATA = types.SimpleNamespace()\n",
    "\n",
    "MODEL = types.SimpleNamespace()"
   ]
  },
  {
   "cell_type": "markdown",
   "id": "d49589a3",
   "metadata": {},
   "source": [
    "## Utils <span id=Utils_></span>"
   ]
  },
  {
   "cell_type": "markdown",
   "id": "ba9d3b52",
   "metadata": {},
   "source": [
    "### Markdown <span id=Markdown_></span>"
   ]
  },
  {
   "cell_type": "code",
   "execution_count": 2,
   "id": "a008dd16",
   "metadata": {
    "ExecuteTime": {
     "end_time": "2023-05-09T06:28:04.490303Z",
     "start_time": "2023-05-09T06:28:04.486520Z"
    }
   },
   "outputs": [],
   "source": [
    "def make_new_markdown_section_with_link(section, header_size: int = 2, do_print=True):\n",
    "    header = \"#\" * header_size\n",
    "    section_id = section.replace(\" \", \"_\") + \"_\"\n",
    "    section_link = f\"{header} [{section}](#{section_id})\"\n",
    "    section_header = f\"{header} {section} <span id={section_id}></span>\"\n",
    "    if do_print:\n",
    "        print(section_link + \"\\n\" + section_header)\n",
    "    return section_link, section_header"
   ]
  },
  {
   "cell_type": "markdown",
   "id": "5ef597be",
   "metadata": {},
   "source": [
    "## Setup <span id=Setup_></span>"
   ]
  },
  {
   "cell_type": "markdown",
   "id": "6e736493",
   "metadata": {},
   "source": [
    "## Data <span id=Data_></span>"
   ]
  },
  {
   "cell_type": "markdown",
   "id": "0b4759c9",
   "metadata": {},
   "source": [
    "### Data exploration <span id=Data_exploration_></span>"
   ]
  },
  {
   "cell_type": "markdown",
   "id": "b977ef18",
   "metadata": {},
   "source": [
    "## Metrics <span id=Metrics_></span>"
   ]
  },
  {
   "cell_type": "markdown",
   "id": "7bc896cf",
   "metadata": {},
   "source": [
    "## Model <span id=Model_></span>"
   ]
  },
  {
   "cell_type": "markdown",
   "id": "b7a185b8",
   "metadata": {},
   "source": [
    "## Training <span id=Training_></span>"
   ]
  },
  {
   "cell_type": "markdown",
   "id": "a716949e",
   "metadata": {},
   "source": [
    "## Results <span id=Results_></span>"
   ]
  },
  {
   "cell_type": "code",
   "execution_count": null,
   "id": "70874293",
   "metadata": {},
   "outputs": [],
   "source": []
  }
 ],
 "metadata": {
  "kernelspec": {
   "display_name": "Python 3 (ipykernel)",
   "language": "python",
   "name": "python3"
  },
  "language_info": {
   "codemirror_mode": {
    "name": "ipython",
    "version": 3
   },
   "file_extension": ".py",
   "mimetype": "text/x-python",
   "name": "python",
   "nbconvert_exporter": "python",
   "pygments_lexer": "ipython3",
   "version": "3.11.0"
  }
 },
 "nbformat": 4,
 "nbformat_minor": 5
}
