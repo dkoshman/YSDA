{
 "cells": [
  {
   "cell_type": "code",
   "execution_count": 1,
   "id": "762eb73e",
   "metadata": {},
   "outputs": [],
   "source": [
    "import collections\n",
    "import contextlib\n",
    "import dataclasses\n",
    "import itertools\n",
    "import functools\n",
    "import sys\n",
    "import random\n",
    "import time\n",
    "\n",
    "DEBUG = True\n",
    "\n",
    "\n",
    "@contextlib.contextmanager\n",
    "def time_it(name: str = \"\", file=sys.stderr):\n",
    "    begin = time.perf_counter()\n",
    "    yield\n",
    "    end = time.perf_counter()\n",
    "    name = name + \":\\t\" if name else \"\"\n",
    "    delta_ms = 1000 * (end - begin)\n",
    "    if DEBUG:\n",
    "        print(f\"{name}{delta_ms:.3f} ms\", file=file)"
   ]
  },
  {
   "cell_type": "code",
   "execution_count": null,
   "id": "0c89e73d",
   "metadata": {},
   "outputs": [],
   "source": [
    "@dataclasses.dataclass\n",
    "class Input:\n",
    "    ...\n",
    "    \n",
    "@dataclasses.dataclass\n",
    "class Output:\n",
    "    ...\n",
    "    "
   ]
  },
  {
   "cell_type": "code",
   "execution_count": null,
   "id": "80fec9b7",
   "metadata": {},
   "outputs": [],
   "source": [
    "def solve(input_: Input) -> Output:\n",
    "    ...\n",
    "    "
   ]
  },
  {
   "cell_type": "code",
   "execution_count": 2,
   "id": "6f284f5d",
   "metadata": {},
   "outputs": [],
   "source": [
    "def generate_test_case(seed: int) -> Input:\n",
    "    ...\n",
    "\n",
    "def brute_force_solve(input_: Input) -> Output:\n",
    "    ...\n",
    "\n",
    "class WrongAnswerException(Exception):\n",
    "    ...\n",
    "\n",
    "def test():\n",
    "    global DEBUG\n",
    "    DEBUG = False\n",
    "    \n",
    "    # Base test cases\n",
    "    assert solve(...) == ...\n",
    "    \n",
    "    # Random test cases\n",
    "    for seed in range(100):\n",
    "        input_ = generate_test_case(seed=seed)\n",
    "        expected = brute_force_solve(input_)\n",
    "        received = solve(input_)\n",
    "        if expected != received:\n",
    "            raise WrongAnswerException(\n",
    "                f\"Wrong answer\\nInput:\\t{input_}\\nExpected:\\t{expected}\\nReceived:\\t{received}\"\n",
    "            )\n",
    "    \n",
    "    DEBUG = False\n",
    "    # Stress testing\n",
    "    for _ in range(10):\n",
    "        generate_test_case(seed=float(\"inf\"))\n",
    "    \n",
    "    print(\"Ok\")"
   ]
  },
  {
   "cell_type": "code",
   "execution_count": 3,
   "id": "6585c092",
   "metadata": {
    "collapsed": true
   },
   "outputs": [
    {
     "ename": "AssertionError",
     "evalue": "",
     "output_type": "error",
     "traceback": [
      "\u001b[0;31m---------------------------------------------------------------------------\u001b[0m",
      "\u001b[0;31mAssertionError\u001b[0m                            Traceback (most recent call last)",
      "Cell \u001b[0;32mIn[3], line 1\u001b[0m\n\u001b[0;32m----> 1\u001b[0m \u001b[43mtest\u001b[49m\u001b[43m(\u001b[49m\u001b[43m)\u001b[49m\n\u001b[1;32m      2\u001b[0m stress_test()\n",
      "Cell \u001b[0;32mIn[2], line 26\u001b[0m, in \u001b[0;36mtest\u001b[0;34m()\u001b[0m\n\u001b[1;32m     23\u001b[0m DEBUG \u001b[38;5;241m=\u001b[39m \u001b[38;5;28;01mFalse\u001b[39;00m\n\u001b[1;32m     25\u001b[0m \u001b[38;5;66;03m# Base test cases\u001b[39;00m\n\u001b[0;32m---> 26\u001b[0m \u001b[38;5;28;01massert\u001b[39;00m solve(\u001b[38;5;241m.\u001b[39m\u001b[38;5;241m.\u001b[39m\u001b[38;5;241m.\u001b[39m) \u001b[38;5;241m==\u001b[39m \u001b[38;5;241m.\u001b[39m\u001b[38;5;241m.\u001b[39m\u001b[38;5;241m.\u001b[39m\n\u001b[1;32m     28\u001b[0m \u001b[38;5;66;03m# Random test cases\u001b[39;00m\n\u001b[1;32m     29\u001b[0m \u001b[38;5;28;01mfor\u001b[39;00m seed \u001b[38;5;129;01min\u001b[39;00m \u001b[38;5;28mrange\u001b[39m(\u001b[38;5;241m100\u001b[39m):\n",
      "\u001b[0;31mAssertionError\u001b[0m: "
     ]
    }
   ],
   "source": [
    "test()\n",
    "stress_test()"
   ]
  }
 ],
 "metadata": {
  "kernelspec": {
   "display_name": "Python 3 (ipykernel)",
   "language": "python",
   "name": "python3"
  },
  "language_info": {
   "codemirror_mode": {
    "name": "ipython",
    "version": 3
   },
   "file_extension": ".py",
   "mimetype": "text/x-python",
   "name": "python",
   "nbconvert_exporter": "python",
   "pygments_lexer": "ipython3",
   "version": "3.11.6"
  }
 },
 "nbformat": 4,
 "nbformat_minor": 5
}
