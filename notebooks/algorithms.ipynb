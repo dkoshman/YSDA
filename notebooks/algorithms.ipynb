{
 "cells": [
  {
   "cell_type": "markdown",
   "id": "11822903",
   "metadata": {},
   "source": [
    "### Resources\n",
    "- [Algorithms for Competitive Programming](https://cp-algorithms.com)\n",
    "- [Template](#Template_)\n",
    "\n",
    "### Implementations\n",
    "\n",
    "- [Binary search](#Binary_search_)\n",
    "- [Binary_indexed_tree](#Binary_indexed_tree_)\n",
    "- [Prefix function](#Prefix_function_)\n",
    "- [Z function](#Z_function_)\n",
    "- [Prime decomposition](#Prime_decomposition_)\n",
    "- [Consecutive less/greater](#Consecutive_less/greater_)\n",
    "- [Disjoint set union](#Disjoint_set_union_)\n",
    "- [Graph traversal](#Graph_traversal_)\n",
    "- [Trie](#Trie_)\n",
    "- [Longest increasing subsequence](#Longest_increasing_subsequence_)\n",
    "- [Gray code](#Gray_code_)\n",
    "- Todo: Meet in the middle: split problem in two, process each half, and merge. Note that it is not a recursive approach. It usually drops complexity from $2^n$ to $n2^{n/2}$.\n",
    "- Todo:  Square root decomposition: to process some range queries, $\\sqrt{n}$ complexity."
   ]
  },
  {
   "cell_type": "markdown",
   "id": "bfbd4fe6",
   "metadata": {},
   "source": [
    "### Template <span id=Template_></span>"
   ]
  },
  {
   "cell_type": "code",
   "execution_count": null,
   "id": "3fd14ac1",
   "metadata": {},
   "outputs": [],
   "source": [
    "import collections\n",
    "import contextlib\n",
    "import dataclasses\n",
    "import itertools\n",
    "import functools\n",
    "import sys\n",
    "import random\n",
    "import time\n",
    "\n",
    "DEBUG = True\n",
    "\n",
    "\n",
    "@contextlib.contextmanager\n",
    "def time_it(name: str = \"\", file=sys.stderr):\n",
    "    begin = time.perf_counter()\n",
    "    yield\n",
    "    end = time.perf_counter()\n",
    "    name = name + \":\\t\" if name else \"\"\n",
    "    delta_ms = 1000 * (end - begin)\n",
    "    if DEBUG:\n",
    "        print(f\"{name}{delta_ms:.3f} ms\", file=file)\n",
    "\n",
    "@dataclasses.dataclass\n",
    "class Input:\n",
    "    ...\n",
    "    \n",
    "@dataclasses.dataclass\n",
    "class Output:\n",
    "    ...\n",
    "    \n",
    "\n",
    "def solve(input_: Input) -> Output:\n",
    "    ...\n",
    "    \n",
    "\n",
    "def generate_test_case(seed: int) -> Input:\n",
    "    ...\n",
    "\n",
    "def brute_force_solve(input_: Input) -> Output:\n",
    "    ...\n",
    "\n",
    "class WrongAnswerException(Exception):\n",
    "    ...\n",
    "\n",
    "def test():\n",
    "    global DEBUG\n",
    "    DEBUG = False\n",
    "    \n",
    "    # Base test cases\n",
    "    assert solve(...) == ...\n",
    "    \n",
    "    # Random test cases\n",
    "    for seed in range(100):\n",
    "        input_ = generate_test_case(seed=seed)\n",
    "        expected = brute_force_solve(input_)\n",
    "        received = solve(input_)\n",
    "        if expected != received:\n",
    "            raise WrongAnswerException(\n",
    "                f\"Wrong answer\\nInput:\\t{input_}\\nExpected:\\t{expected}\\nReceived:\\t{received}\"\n",
    "            )\n",
    "    \n",
    "    DEBUG = False\n",
    "    # Stress testing\n",
    "    for _ in range(10):\n",
    "        generate_test_case(seed=float(\"inf\"))\n",
    "    \n",
    "    print(\"Ok\")\n",
    "\n",
    "test()\n",
    "stress_test()"
   ]
  },
  {
   "cell_type": "markdown",
   "id": "6731c5fa",
   "metadata": {},
   "source": [
    "### Binary search <span id=Binary_search_></span>"
   ]
  },
  {
   "cell_type": "code",
   "execution_count": 21,
   "id": "730fa4d6",
   "metadata": {
    "ExecuteTime": {
     "end_time": "2023-11-28T10:26:12.963872Z",
     "start_time": "2023-11-28T10:26:12.956488Z"
    }
   },
   "outputs": [],
   "source": [
    "def argsort(values):\n",
    "    return sorted(range(len(values)), key=values.__getitem__)\n",
    "\n",
    "def binsearch(low, high, do_search_less_than):\n",
    "    while high - low > 1:\n",
    "        mid = (low + high) // 2\n",
    "        if do_search_less_than(mid):\n",
    "            high = mid\n",
    "        else:\n",
    "            low = mid\n",
    "    return low"
   ]
  },
  {
   "cell_type": "markdown",
   "id": "2d04e0ca",
   "metadata": {},
   "source": [
    "### Binary indexed tree <span id=Binary_indexed_tree_></span>"
   ]
  },
  {
   "cell_type": "code",
   "execution_count": 1,
   "id": "165f0e6d",
   "metadata": {
    "ExecuteTime": {
     "end_time": "2023-11-28T10:26:12.963872Z",
     "start_time": "2023-11-28T10:26:12.956488Z"
    }
   },
   "outputs": [],
   "source": [
    "def leave_only_least_significant_bit(x):\n",
    "    return x & ~(x - 1)\n",
    "\n",
    "class BinaryIndexedTree:\n",
    "    \"\"\"Aka Fenwick tree.\"\"\"\n",
    "    def __init__(self, size):\n",
    "        self.size = size\n",
    "        self.tree = [0] * (size + 1)\n",
    "        \n",
    "    def update(self, index, value):\n",
    "        index += 1\n",
    "        while index <= self.size:\n",
    "            self.tree[index] += value\n",
    "            index += leave_only_least_significant_bit(index)\n",
    "            \n",
    "    def get_prefix_sum(self, index):\n",
    "        index += 1\n",
    "        prefix_sum = 0\n",
    "        while index:\n",
    "            prefix_sum += self.tree[index]\n",
    "            index -= leave_only_least_significant_bit(index)\n",
    "        return prefix_sum\n",
    "\n",
    "    def get_range_sum(self, begin, end):\n",
    "        return self.get_prefix_sum(end - 1) - self.get_prefix_sum(begin - 1)"
   ]
  },
  {
   "cell_type": "markdown",
   "id": "5b5fda74",
   "metadata": {},
   "source": [
    "### Prefix function <span id=Prefix_function_></span>"
   ]
  },
  {
   "cell_type": "code",
   "execution_count": 4,
   "id": "c8aba294",
   "metadata": {},
   "outputs": [],
   "source": [
    "def compute_prefix_function(string):\n",
    "    prefix_function = []\n",
    "    next_border = lambda i: prefix_function[i - 1] if i > 0 else None \n",
    "    for i, letter in enumerate(string):\n",
    "        i = next_border(i)\n",
    "        while i is not None and string[i] != letter:\n",
    "            i = next_border(i)\n",
    "            \n",
    "        prefix_function.append(i + 1 if i is not None else 0)\n",
    "\n",
    "    return prefix_function\n",
    "\n",
    "def find_word(string, word):\n",
    "    s = len(string)\n",
    "    w = len(word)\n",
    "    prefix = compute_prefix_function(word + '\\0' + string)\n",
    "    indices = [i for i in range(s - w + 1) if prefix[2 * w + i] == w]\n",
    "    return indices"
   ]
  },
  {
   "cell_type": "markdown",
   "id": "dc258596",
   "metadata": {},
   "source": [
    "### Z function <span id=Z_function_></span>"
   ]
  },
  {
   "cell_type": "code",
   "execution_count": 2,
   "id": "d10cc005",
   "metadata": {},
   "outputs": [],
   "source": [
    "def compute_z_function(string):\n",
    "    n = len(string)\n",
    "    z_function = [0] * n\n",
    "    z_function[0] = n\n",
    "    argmax_i_plus_z_i = 1\n",
    "    for i in range(1, n):\n",
    "        index_minus_argmax = i - argmax_i_plus_z_i\n",
    "        new_max_z_value = max(0, z_function[argmax_i_plus_z_i] - index_minus_argmax)\n",
    "        \n",
    "        if z_function[index_minus_argmax] < new_max_z_value:\n",
    "            z_function[i] = z_function[index_minus_argmax]\n",
    "            continue\n",
    "\n",
    "        while i + new_max_z_value < n and string[new_max_z_value] == string[i + new_max_z_value]:\n",
    "            new_max_z_value += 1\n",
    "            \n",
    "        argmax_i_plus_z_i = i\n",
    "        z_function[i] = new_max_z_value\n",
    "    \n",
    "    return z_function"
   ]
  },
  {
   "cell_type": "markdown",
   "id": "f1fae6bd",
   "metadata": {},
   "source": [
    "### Prime decomposition <span id=Prime_decomposition_></span>"
   ]
  },
  {
   "cell_type": "code",
   "execution_count": 88,
   "id": "ba03a833",
   "metadata": {},
   "outputs": [],
   "source": [
    "def find_max_prime_divisor_for_nums(max_num):\n",
    "    prime_divisors = [None] * (max_num + 1)  \n",
    "    for prime in range(2, max_num + 1):\n",
    "        if prime_divisors[prime] is None:\n",
    "            for i in range(prime, max_num + 1, prime):\n",
    "                prime_divisors[i] = prime\n",
    "            \n",
    "    return prime_divisors"
   ]
  },
  {
   "cell_type": "markdown",
   "id": "08ce217e",
   "metadata": {},
   "source": [
    "### Consecutive less/greater <span id=Consecutive_less/greater_></span>"
   ]
  },
  {
   "cell_type": "code",
   "execution_count": 102,
   "id": "5ec64b0a",
   "metadata": {},
   "outputs": [],
   "source": [
    "import bisect\n",
    "\n",
    "def count_consecutive_less_to_the_left(nums):\n",
    "    sorted_prefix_subsequence = [(float(\"inf\"), -1)]\n",
    "    result = []\n",
    "    for i, num in enumerate(nums):\n",
    "        while sorted_prefix_subsequence[-1][0] < num:\n",
    "            sorted_prefix_subsequence.pop()\n",
    "        result.append(i - sorted_prefix_subsequence[-1][1] - 1)\n",
    "        sorted_prefix_subsequence.append((num, i))\n",
    "        \n",
    "    return result\n",
    "\n",
    "def count_consecutive_not_greater_to_the_right(nums):\n",
    "    sorted_suffix_subsequence = [(float(\"inf\"), len(nums))]\n",
    "    result = []\n",
    "    for i in reversed(range(len(nums))):\n",
    "        num = nums[i]\n",
    "        while sorted_suffix_subsequence[-1][0] <= num:\n",
    "            sorted_suffix_subsequence.pop()\n",
    "        result.append(sorted_suffix_subsequence[-1][1] - i - 1)\n",
    "        sorted_suffix_subsequence.append((num, i))\n",
    "        \n",
    "    return result[::-1]"
   ]
  },
  {
   "cell_type": "markdown",
   "id": "ad5c0c29",
   "metadata": {},
   "source": [
    "### Disjoint set union <span id=Disjoint_set_union_></span>"
   ]
  },
  {
   "cell_type": "code",
   "execution_count": 2,
   "id": "90470585",
   "metadata": {},
   "outputs": [],
   "source": [
    "class DisjointSets:\n",
    "    def __init__(self, size):\n",
    "        self.parents = list(range(size))\n",
    "        self.sizes = [1] * size\n",
    "    \n",
    "    def find(self, node):\n",
    "        if self.parents[node] != node:\n",
    "            self.parents[node] = self.find(self.parents[node])\n",
    "        return self.parents[node]\n",
    "\n",
    "    def union(self, first, second):\n",
    "        first = self.find(first)\n",
    "        second = self.find(second)\n",
    "        if first == second:\n",
    "            return\n",
    "        if self.sizes[first] > self.sizes[second]:\n",
    "            first, second = second, first\n",
    "        self.parents[first] = second\n",
    "        self.sizes[second] += self.sizes[first]"
   ]
  },
  {
   "cell_type": "markdown",
   "id": "7cb5d7fc",
   "metadata": {},
   "source": [
    "### Graph traversal <span id=Graph_traversal_></span>"
   ]
  },
  {
   "cell_type": "code",
   "execution_count": null,
   "id": "c6a4018c",
   "metadata": {
    "ExecuteTime": {
     "end_time": "2023-11-28T10:26:12.963872Z",
     "start_time": "2023-11-28T10:26:12.956488Z"
    }
   },
   "outputs": [],
   "source": [
    "import abc\n",
    "import collections\n",
    "import dataclasses\n",
    "import typing\n",
    "import queue\n",
    "\n",
    "\n",
    "class Traversal(abc.ABC):\n",
    "    @abc.abstractmethod\n",
    "    def NodesAdjacentTo(self, node) -> typing.Iterable:\n",
    "        pass\n",
    "    \n",
    "    def OnNodeEnter(self, node) -> None:\n",
    "        pass\n",
    "\n",
    "    def OnNodeExit(self, node) -> None:\n",
    "        pass\n",
    "\n",
    "def depth_first_search(traversal: Traversal, node):\n",
    "    traversal.OnNodeEnter(node)\n",
    "    \n",
    "    for adjacent_node in traversal.NodesAdjacentTo(node):\n",
    "        depth_first_search(traversal, adjacent_node)\n",
    "\n",
    "    traversal.OnNodeExit(node)\n",
    "    \n",
    "def breadth_first_search(traversal: Traversal, queue):\n",
    "    queue = collections.deque(queue)\n",
    "\n",
    "    while queue:\n",
    "        node = queue.popleft()\n",
    "        traversal.OnNodeEnter(node)\n",
    "\n",
    "        for adjacent_node in traversal.NodesAdjacentTo(node):\n",
    "            queue.append(adjacent_node)\n",
    "\n",
    "        traversal.OnNodeExit(node)\n",
    "        "
   ]
  },
  {
   "cell_type": "markdown",
   "id": "8a3b9d47",
   "metadata": {},
   "source": [
    "### Trie <span id=Trie_></span>"
   ]
  },
  {
   "cell_type": "code",
   "execution_count": 18,
   "id": "1ee8d892",
   "metadata": {
    "ExecuteTime": {
     "end_time": "2023-11-28T10:26:12.963872Z",
     "start_time": "2023-11-28T10:26:12.956488Z"
    }
   },
   "outputs": [],
   "source": [
    "class Trie:\n",
    "    def __init__(self):\n",
    "        self.transitions = {}\n",
    "        self.is_terminal = False\n",
    "        \n",
    "    def add(self, word):\n",
    "        node = self\n",
    "        for letter in word:\n",
    "            if letter not in node.transitions:\n",
    "                node.transitions[letter] = Trie()\n",
    "            node = node.transitions[letter]\n",
    "        node.is_terminal = True"
   ]
  },
  {
   "cell_type": "markdown",
   "id": "b2ea334a",
   "metadata": {},
   "source": [
    "### Longest increasing subsequence <span id=Longest_increasing_subsequence_></span>"
   ]
  },
  {
   "cell_type": "code",
   "execution_count": 134,
   "id": "1ba2bc72",
   "metadata": {},
   "outputs": [],
   "source": [
    "import bisect\n",
    "\n",
    "def len_of_longest_increasing_subsequence(nums) -> int:\n",
    "    subsequence = []\n",
    "    # Invariant: subsequence[i] is minimal last element for increasing subsequence of size i + 1\n",
    "    for num in nums:\n",
    "        index = bisect.bisect_left(subsequence, num)\n",
    "        if index == len(subsequence):\n",
    "            subsequence.append(num)\n",
    "        else:\n",
    "            subsequence[index] = num\n",
    "            \n",
    "    return len(subsequence)"
   ]
  },
  {
   "cell_type": "markdown",
   "id": "1a31c004",
   "metadata": {},
   "source": [
    "### Gray code <span id=Gray_code_></span>"
   ]
  },
  {
   "cell_type": "code",
   "execution_count": 135,
   "id": "bb386316",
   "metadata": {},
   "outputs": [
    {
     "name": "stdout",
     "output_type": "stream",
     "text": [
      "010\n"
     ]
    }
   ],
   "source": [
    "def get_gray_code(n):\n",
    "    return n ^ (n >> 1)\n",
    "\n",
    "def next_gray_code_delta(n):\n",
    "    gray_code = get_gray_code(n)\n",
    "    next_gray_code = get_gray_code(n + 1)\n",
    "    sign = -1 if next_gray_code < gray_code else 1\n",
    "    bit = abs(next_gray_code - gray_code).bit_length()\n",
    "    return sign * bit\n",
    "\n",
    "# print(f\"{get_gray_code(3):0{3}b}\")"
   ]
  }
 ],
 "metadata": {
  "kernelspec": {
   "display_name": "Python 3 (ipykernel)",
   "language": "python",
   "name": "python3"
  },
  "language_info": {
   "codemirror_mode": {
    "name": "ipython",
    "version": 3
   },
   "file_extension": ".py",
   "mimetype": "text/x-python",
   "name": "python",
   "nbconvert_exporter": "python",
   "pygments_lexer": "ipython3",
   "version": "3.11.8"
  }
 },
 "nbformat": 4,
 "nbformat_minor": 5
}
