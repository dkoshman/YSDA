{
 "cells": [
  {
   "cell_type": "code",
   "execution_count": 680,
   "id": "aa53a996",
   "metadata": {
    "ExecuteTime": {
     "end_time": "2023-07-07T07:35:20.949591Z",
     "start_time": "2023-07-07T07:35:20.943142Z"
    }
   },
   "outputs": [],
   "source": [
    "from __future__ import annotations\n",
    "import catboost\n",
    "import collections\n",
    "import dataclasses\n",
    "import functools\n",
    "import io\n",
    "import itertools\n",
    "import json\n",
    "import matplotlib.pyplot as plt\n",
    "import numpy as np\n",
    "import os\n",
    "import pandas as pd\n",
    "import random\n",
    "import re\n",
    "import requests\n",
    "import scipy\n",
    "import sklearn.cluster\n",
    "import sklearn.datasets\n",
    "import sklearn.decomposition\n",
    "import sklearn.linear_model\n",
    "import statsmodels.stats.proportion\n",
    "import subprocess\n",
    "import string\n",
    "import sys\n",
    "import tokenizers\n",
    "import torch\n",
    "import torch.nn as nn\n",
    "import transformers\n",
    "import time\n",
    "import tqdm\n",
    "import typing as tp\n",
    "import urllib"
   ]
  },
  {
   "cell_type": "code",
   "execution_count": 2,
   "id": "b7e871d9",
   "metadata": {
    "ExecuteTime": {
     "end_time": "2023-07-03T12:34:21.617714Z",
     "start_time": "2023-07-03T12:34:21.607356Z"
    }
   },
   "outputs": [],
   "source": [
    "def run_executable(path: str, arguments: str = \"\", input_: str = \"\") -> str:\n",
    "    completed_process = subprocess.run(\n",
    "        [path, arguments], input=input_, text=True, capture_output=True\n",
    "    )\n",
    "    output = completed_process.stdout\n",
    "    return output\n",
    "\n",
    "\n",
    "def factorial(n):\n",
    "    factorial = 1\n",
    "    for i in range(1, n + 1):\n",
    "        factorial *= i\n",
    "    return factorial\n",
    "\n",
    "\n",
    "def get_pairwise_difference_matrix(array):\n",
    "    \"\"\"Returns matrix M[i, j] = a[i] - a[j].\"\"\"\n",
    "    pairwise_difference_matrix = array[:, None] - array[None, :]\n",
    "    return pairwise_difference_matrix\n",
    "\n",
    "\n",
    "def permute(array, first, second):\n",
    "    array[first], array[second] = array[second], array[first]\n",
    "\n",
    "def get_yadisk_download_url(\n",
    "    yadisk_url: str,\n",
    "    base_url=\"https://cloud-api.yandex.net/v1/disk/public/resources/download?\",\n",
    ") -> str:\n",
    "    final_url = base_url + urllib.parse.urlencode(dict(public_key=yadisk_url))\n",
    "    response = requests.get(final_url)\n",
    "    download_url = response.json()[\"href\"]\n",
    "    return download_url\n",
    "\n",
    "def write_url_response_content_to_file(url: str, filename: str) -> None:\n",
    "    download_response = requests.get(url)\n",
    "    with open(filename, \"wb\") as f:\n",
    "        f.write(download_response.content)\n",
    "        \n",
    "def set_torch_device_order_pci_bus():\n",
    "    os.environ[\"CUDA_DEVICE_ORDER\"] = \"PCI_BUS_ID\""
   ]
  },
  {
   "cell_type": "code",
   "execution_count": 3,
   "id": "c9574ca4",
   "metadata": {
    "ExecuteTime": {
     "end_time": "2023-07-03T12:34:21.852856Z",
     "start_time": "2023-07-03T12:34:21.849890Z"
    }
   },
   "outputs": [],
   "source": [
    "CPP_DIR = \"/Users/dimakoshman/CLionProjects/coderun_ml/cmake-build-debug\""
   ]
  },
  {
   "cell_type": "code",
   "execution_count": 4,
   "id": "121818d4",
   "metadata": {
    "ExecuteTime": {
     "end_time": "2023-07-03T12:34:22.047556Z",
     "start_time": "2023-07-03T12:34:22.034872Z"
    }
   },
   "outputs": [],
   "source": [
    "@dataclasses.dataclass\n",
    "class Timer:\n",
    "    enter_time: list[float] = dataclasses.field(default_factory=list)\n",
    "    exit_time: list[float] = dataclasses.field(default_factory=list)\n",
    "\n",
    "    def __enter__(self):\n",
    "        self.enter_time.append(time.time())\n",
    "        return self\n",
    "\n",
    "    def __exit__(self, *args, **kwargs):\n",
    "        self.exit_time.append(time.time())\n",
    "\n",
    "    def wrap(self, function: tp.Callable) -> tp.Callable:\n",
    "        @functools.wraps(function)\n",
    "        def wrapper(*args, **kwargs):\n",
    "            with self:\n",
    "                return function(*args, **kwargs)\n",
    "\n",
    "        return wrapper\n",
    "\n",
    "    def stats(self) -> dict[str, float]:\n",
    "        timings = [a - b for a, b in zip(self.exit_time, self.enter_time, strict=True)]\n",
    "        stats = dict(mean=np.mean(timings), std=np.std(timings), max=max(timings))\n",
    "        return stats\n",
    "\n",
    "    def formatted_stats(\n",
    "        self, time_unit: tp.Literal[\"ms\", \"s\"] = \"ms\", precision: int = 3\n",
    "    ) -> str:\n",
    "        formatted_stats: list[str] = []\n",
    "        for k, v in self.stats().items():\n",
    "            match time_unit:\n",
    "                case \"ms\":\n",
    "                    v *= 1000\n",
    "                case \"s\":\n",
    "                    pass\n",
    "                case _:\n",
    "                    raise ValueError(f\"Unknown time unit {time_unit}.\")\n",
    "            formatted_stats.append(f\"\\t{k}:\\t{v:.{precision}f} {time_unit}\")\n",
    "\n",
    "        formatted_stats = \"\\n\".join(formatted_stats)\n",
    "        return formatted_stats"
   ]
  },
  {
   "cell_type": "code",
   "execution_count": 5,
   "id": "e8f6e821",
   "metadata": {
    "ExecuteTime": {
     "end_time": "2023-07-03T12:34:22.646555Z",
     "start_time": "2023-07-03T12:34:22.629999Z"
    }
   },
   "outputs": [],
   "source": [
    "@dataclasses.dataclass\n",
    "class Input:\n",
    "    @staticmethod\n",
    "    def from_string_io(string_io: io.StringIO) -> Input:\n",
    "        raise NotImplementedError\n",
    "\n",
    "\n",
    "@dataclasses.dataclass\n",
    "class Output:\n",
    "    @staticmethod\n",
    "    def from_string_io(string_io: io.StringIO) -> Output:\n",
    "        raise NotImplementedError\n",
    "\n",
    "    def __str__(self) -> str:\n",
    "        raise NotImplementedError\n",
    "        \n",
    "    def __eq__(self, output_: Output) -> bool:\n",
    "        raise NotImplementedError\n",
    "\n",
    "\n",
    "def generate_random_input(test_case: int) -> Input | tp.Tuple[Input, Output]:\n",
    "    raise NotImplementedError\n",
    "\n",
    "\n",
    "def generate_stress_input() -> Input:\n",
    "    raise NotImplementedError\n",
    "\n",
    "\n",
    "def brute_force_solve(input_: Input) -> Output:\n",
    "    raise NotImplementedError\n",
    "\n",
    "\n",
    "def solve(input_: Input) -> Output:\n",
    "    raise NotImplementedError\n",
    "\n",
    "\n",
    "def cpp_solve(input_: Input) -> Output:\n",
    "    raise NotImplementedError\n",
    "    \n",
    "    \n",
    "def is_correct(input_: Input, output: Output, expected_output: Output|None):\n",
    "    if expected_output is not None:\n",
    "        try:\n",
    "            return expected_output == output\n",
    "        except NotImplementedError:\n",
    "            pass\n",
    "    raise NotImplementedError\n",
    "\n",
    "    \n",
    "def check(\n",
    "    solve: tp.Callable,\n",
    "    input_: Input | str,\n",
    "    expected_output: Output | str | None = None,\n",
    ") -> None:\n",
    "    if isinstance(input_, str):\n",
    "        input_ = Input.from_string_io(io.StringIO(input_))\n",
    "\n",
    "    output = solve(input_)\n",
    "\n",
    "    if isinstance(expected_output, str):\n",
    "        expected_output = Output.from_string_io(io.StringIO(expected_output))\n",
    "    if not is_correct(input_, output, expected_output):\n",
    "        message = f\"Wrong answer, input:\\n{input_}\\nOutput:\\n{output}\"\n",
    "        if expected_output is not None:\n",
    "            message += f\"\\nExpected output:\\n{expected_output}\"\n",
    "        raise RuntimeError(message)\n",
    "\n",
    "    try:\n",
    "        brute_force_output = brute_force_solve(input_)\n",
    "    except NotImplementedError:\n",
    "        pass\n",
    "    else:\n",
    "        if not is_correct(input_, output, brute_force_output):\n",
    "            raise RuntimeError(\n",
    "                f\"Wrong answer, brute force output:\\n{brute_force_output}\\nReceived:\\n{output}\"\n",
    "            )\n",
    "\n",
    "    try:\n",
    "        cpp_output = cpp_solve(input_)\n",
    "    except NotImplementedError:\n",
    "        pass\n",
    "    else:\n",
    "        if not is_correct(input_, output, cpp_output):\n",
    "            raise RuntimeError(\n",
    "                f\"Wrong answer, cpp output:\\n{cpp_output}\\nReceived:\\n{output}\"\n",
    "            )\n",
    "\n",
    "\n",
    "def simple_test():\n",
    "    #     check(solve, \"\"\"\"\"\", \"\"\"\"\"\")\n",
    "    #     check(solve, \"\"\"\"\"\", \"\"\"\"\"\")\n",
    "    #     check(solve, \"\"\"\"\"\", \"\"\"\"\"\")\n",
    "\n",
    "    print(\"Simple tests OK\")\n",
    "\n",
    "\n",
    "def random_test():\n",
    "    random_tests_timer = Timer()\n",
    "    timed_solve = random_tests_timer.wrap(solve)\n",
    "\n",
    "    for test_case in range(100):\n",
    "        match generate_random_input(test_case):\n",
    "            case input_, expected_output:\n",
    "                pass\n",
    "            case input_:\n",
    "                expected_output = None\n",
    "\n",
    "        check(solve=timed_solve, input_=input_, expected_output=expected_output)\n",
    "\n",
    "    print(f\"Random tests OK\\n{random_tests_timer.formatted_stats()}\")\n",
    "\n",
    "\n",
    "def stress_test():\n",
    "    stress_tests_timer = Timer()\n",
    "    timed_solve = stress_tests_timer.wrap(solve)\n",
    "\n",
    "    for _ in range(10):\n",
    "        input_ = generate_stress_input()\n",
    "        check(solve=timed_solve, input_=input_)\n",
    "\n",
    "    print(f\"Stress tests OK\\n{stress_tests_timer.formatted_stats()}\")\n",
    "\n",
    "\n",
    "def test():\n",
    "    simple_test()\n",
    "    random_test()\n",
    "    stress_test()\n",
    "\n",
    "\n",
    "def main():\n",
    "    print(solve(Input.from_string_io(sys.stdin)))"
   ]
  },
  {
   "cell_type": "code",
   "execution_count": null,
   "id": "7029a953",
   "metadata": {},
   "outputs": [],
   "source": [
    "### []()\n",
    "from __future__ import annotations\n",
    "import dataclasses\n",
    "import io\n",
    "import scipy.special\n",
    "import sys\n",
    "import typing as tp\n",
    "import numpy as np\n",
    "\n",
    "\n",
    "@dataclasses.dataclass\n",
    "class Input:\n",
    "        \n",
    "    @staticmethod\n",
    "    def from_string_io(string_io: io.StringIO) -> Input:\n",
    "        input_ = Input()\n",
    "        return input_\n",
    "\n",
    "\n",
    "@dataclasses.dataclass\n",
    "class Output:\n",
    "                        \n",
    "    @staticmethod\n",
    "    def from_string_io(string_io: io.StringIO) -> Output:\n",
    "        output = Output()\n",
    "        return output\n",
    "\n",
    "    def __str__(self) -> str:\n",
    "        string = ...\n",
    "        return string\n",
    "        \n",
    "    def __eq__(self, output: Output) -> bool:\n",
    "        is_equal = str(self) == str(output)\n",
    "        return is_equal\n",
    "\n",
    "\n",
    "def solve(input_: Input) -> Output:\n",
    "    output = Output()\n",
    "    return output\n",
    "    \n",
    "    \n",
    "def main():\n",
    "    print(solve(Input.from_string_io(sys.stdin)))\n",
    "    \n",
    "def simple_test():\n",
    "    #check(solve, \"\"\"\"\"\"\", \"\"\"\"\"\")\n",
    "    #check(solve, \"\"\"\"\"\"\", \"\"\"\"\"\")\n",
    "    #check(solve, \"\"\"\"\"\"\", \"\"\"\"\"\")\n",
    "\n",
    "    print(\"Simple tests OK\")\n",
    "    \n",
    "simple_test()"
   ]
  },
  {
   "cell_type": "markdown",
   "id": "a9f89e1d",
   "metadata": {},
   "source": [
    "### [Захар и загадочные совпадения](https://coderun.yandex.ru/seasons/first_2023/tracks/data-analytics/problem/qx-d?currentPage=1&pageSize=10&rowNumber=1&compiler=python-ml)"
   ]
  },
  {
   "cell_type": "code",
   "execution_count": 86,
   "id": "66fdd662",
   "metadata": {
    "ExecuteTime": {
     "end_time": "2023-07-03T12:54:29.787477Z",
     "start_time": "2023-07-03T12:54:29.782001Z"
    }
   },
   "outputs": [],
   "source": [
    "from __future__ import annotations\n",
    "import dataclasses\n",
    "import io\n",
    "import json\n",
    "import sys\n",
    "import typing as tp\n",
    "import pandas as pd\n",
    "import numpy as np\n",
    "\n",
    "def main():\n",
    "    df = pd.DataFrame(json.load(open(\"data/coderun/data.json\")))\n",
    "    if not df.empty:\n",
    "        max_daily_count = df.groupby(\"date\")[\"count\"].max()\n",
    "        days = max_daily_count[max_daily_count == max_daily_count.min()].index.values\n",
    "        index = np.argsort(pd.to_datetime(days).values)\n",
    "        days = days[index]\n",
    "        print(*days, sep=\"\\n\")"
   ]
  },
  {
   "cell_type": "markdown",
   "id": "1c4cc054",
   "metadata": {
    "ExecuteTime": {
     "end_time": "2023-07-03T12:40:12.758491Z",
     "start_time": "2023-07-03T12:40:12.754867Z"
    }
   },
   "source": [
    "### [Популярность страниц в энциклопедии](https://coderun.yandex.ru/seasons/first_2023/tracks/data-analytics/problem/qx-e?currentPage=1&pageSize=10&rowNumber=2)"
   ]
  },
  {
   "cell_type": "code",
   "execution_count": 296,
   "id": "d2e46350",
   "metadata": {
    "ExecuteTime": {
     "end_time": "2023-07-03T14:42:02.304479Z",
     "start_time": "2023-07-03T14:42:02.290933Z"
    }
   },
   "outputs": [],
   "source": [
    "from __future__ import annotations\n",
    "import dataclasses\n",
    "import io\n",
    "import sys\n",
    "import typing as tp\n",
    "import numpy as np\n",
    "\n",
    "\n",
    "@dataclasses.dataclass\n",
    "class Input:\n",
    "    transitions: tp.List[tp.List[int]]\n",
    "        \n",
    "    @staticmethod\n",
    "    def from_string_io(string_io: io.StringIO) -> Input:\n",
    "        n_transitions = int(string_io.readline())\n",
    "        transitions = []\n",
    "        for _ in range(n_transitions):\n",
    "            line = list(map(int, string_io.readline().split()))\n",
    "            transitions.append(line)\n",
    "            \n",
    "        input_ = Input(transitions=transitions)\n",
    "        return input_\n",
    "\n",
    "\n",
    "@dataclasses.dataclass\n",
    "class Output:\n",
    "    probs: tp.List[float]\n",
    "    \n",
    "    @staticmethod\n",
    "    def from_string_io(string_io: io.StringIO) -> Output:\n",
    "        probs = list(map(float, string_io.readline().split()))\n",
    "        output = Output(probs=probs)\n",
    "        return output\n",
    "\n",
    "    def __str__(self) -> str:\n",
    "        string = \" \".join(f\"{i:.2f}\" for i in self.probs)\n",
    "        return string\n",
    "        \n",
    "    def __eq__(self, output_: Output) -> bool:\n",
    "        is_equal = np.all(np.isclose(self.probs, output_.probs, atol=1e-2))\n",
    "        return is_equal\n",
    "\n",
    "def solve(input_: Input) -> Output:\n",
    "    transitions = np.array(input_.transitions, dtype=float)\n",
    "    norm = transitions.sum(1, keepdims=True)\n",
    "    norm[norm == 0] = 1\n",
    "    transition_probs = transitions / norm\n",
    "    eigenvalues, eigenvectors = np.linalg.eig(transition_probs.T)\n",
    "    \n",
    "    for eigenvalue, eigenvector in zip(eigenvalues, eigenvectors.T):\n",
    "        if np.isclose(eigenvalue, 1):\n",
    "            eigenvector = np.real(eigenvector)\n",
    "            probs = eigenvector / eigenvector.sum()\n",
    "            if np.all(probs >= 0):\n",
    "                output = Output(probs=probs)\n",
    "                return output\n",
    "        \n",
    "    raise ValueError(\"No stationary distribution found.\")\n",
    "    \n",
    "    \n",
    "def main():\n",
    "    print(solve(Input.from_string_io(sys.stdin)))"
   ]
  },
  {
   "cell_type": "code",
   "execution_count": 297,
   "id": "648dbe0a",
   "metadata": {
    "ExecuteTime": {
     "end_time": "2023-07-03T14:42:02.569490Z",
     "start_time": "2023-07-03T14:42:02.566731Z"
    }
   },
   "outputs": [],
   "source": [
    "def simple_test():\n",
    "    check(solve,\n",
    "          \"\"\"4\n",
    "55 20 15 10\n",
    "25 20 35 20\n",
    "50 5 25 20\n",
    "65 20 10 5\"\"\",\n",
    "          \"0.50 0.17 0.20 0.13\")\n",
    "\n",
    "    print(\"Simple tests OK\")"
   ]
  },
  {
   "cell_type": "code",
   "execution_count": 298,
   "id": "6e8550a9",
   "metadata": {
    "ExecuteTime": {
     "end_time": "2023-07-03T14:42:02.869941Z",
     "start_time": "2023-07-03T14:42:02.866773Z"
    }
   },
   "outputs": [
    {
     "name": "stdout",
     "output_type": "stream",
     "text": [
      "Simple tests OK\n"
     ]
    }
   ],
   "source": [
    "simple_test()"
   ]
  },
  {
   "cell_type": "markdown",
   "id": "5741da76",
   "metadata": {},
   "source": [
    "### [Уголки](https://coderun.yandex.ru/seasons/first_2023/tracks/data-analytics/problem/corners?currentPage=1&pageSize=10&rowNumber=3)"
   ]
  },
  {
   "cell_type": "code",
   "execution_count": null,
   "id": "f07fd553",
   "metadata": {
    "ExecuteTime": {
     "end_time": "2023-07-03T14:57:51.636256Z",
     "start_time": "2023-07-03T14:57:51.621610Z"
    }
   },
   "outputs": [],
   "source": [
    "from __future__ import annotations\n",
    "import dataclasses\n",
    "import heapq\n",
    "import io\n",
    "import sys\n",
    "import typing as tp\n",
    "import numpy as np\n",
    "\n",
    "\n",
    "@dataclasses.dataclass\n",
    "class Input:\n",
    "    corners: tp.List[tp.Tuple[int, int, int, int]]\n",
    "        \n",
    "    @staticmethod\n",
    "    def from_string_io(string_io: io.StringIO) -> Input:\n",
    "        n_corners = int(string_io.readline())\n",
    "        corners = []\n",
    "        for _ in range(n_corners):\n",
    "            line = tuple(map(int, string_io.readline().split()))\n",
    "            corners.append(line)\n",
    "        input_ = Input(corners=corners)\n",
    "        return input_\n",
    "\n",
    "\n",
    "@dataclasses.dataclass\n",
    "class Output:\n",
    "    answer: str\n",
    "        \n",
    "    @staticmethod\n",
    "    def from_string_io(string_io: io.StringIO) -> Output:\n",
    "        output = Output(answer=string_io.readline().strip())\n",
    "        return output\n",
    "\n",
    "    def __str__(self) -> str:\n",
    "        string = self.answer\n",
    "        return string\n",
    "        \n",
    "    def __eq__(self, output_: Output) -> bool:\n",
    "        is_equal = self.answer == output_.answer\n",
    "        return is_equal\n",
    "\n",
    "    \n",
    "def lazy_remove(heap, trash_heap):\n",
    "    while heap and trash_heap and heap[0] == trash_heap[0]:\n",
    "        heapq.heappop(heap)\n",
    "        heapq.heappop(trash_heap)\n",
    "\n",
    "\n",
    "class ScanLine:\n",
    "    def __init__(self):\n",
    "        self.negative_facing_corners = []\n",
    "        self.negative_facing_corners_trash = []\n",
    "        self.positive_facing_corners = []\n",
    "        self.positive_facing_corners_trash = []\n",
    "        \n",
    "    def add(self, corner, is_negative_facing):\n",
    "        if is_negative_facing:\n",
    "            heapq.heappush(self.negative_facing_corners, -corner)\n",
    "        else:\n",
    "            heapq.heappush(self.positive_facing_corners, corner)\n",
    "        \n",
    "    def remove(self, corner, is_negative_facing):\n",
    "        if is_negative_facing:\n",
    "            heapq.heappush(self.negative_facing_corners_trash, -corner)\n",
    "            lazy_remove(self.negative_facing_corners, self.negative_facing_corners_trash)\n",
    "        else:\n",
    "            heapq.heappush(self.positive_facing_corners_trash, corner)\n",
    "            lazy_remove(self.positive_facing_corners, self.positive_facing_corners_trash)\n",
    "        \n",
    "    def does_cover_everything(self):\n",
    "        return (self.negative_facing_corners \n",
    "            and self.positive_facing_corners \n",
    "            and -self.negative_facing_corners[0] >= self.positive_facing_corners[0])\n",
    "        \n",
    "        \n",
    "def get_y_coordinate_and_direction(corner):\n",
    "    return corner[1], corner[-2] == -1\n",
    "        \n",
    "    \n",
    "def solve(input_: Input) -> Output:\n",
    "    corners = sorted(input_.corners)\n",
    "    scanline = ScanLine()\n",
    "    for corner in corners:\n",
    "        if corner[-1] == -1:\n",
    "            scanline.add(*get_y_coordinate_and_direction(corner))\n",
    "    \n",
    "    if not scanline.does_cover_everything():\n",
    "        return Output(answer=\"NO\")\n",
    "    \n",
    "    for i, corner in enumerate(corners):\n",
    "        if corner[-1] == -1:\n",
    "            scanline.remove(*get_y_coordinate_and_direction(corner))\n",
    "        else:\n",
    "            scanline.add(*get_y_coordinate_and_direction(corner))\n",
    "            \n",
    "        if i == len(corners) - 1 or corner[0] < corners[i + 1][0] and not scanline.does_cover_everything():\n",
    "            return Output(answer=\"NO\")\n",
    "            \n",
    "    return Output(answer=\"YES\")\n",
    "    \n",
    "    \n",
    "def main():\n",
    "    print(solve(Input.from_string_io(sys.stdin)))\n",
    "    "
   ]
  },
  {
   "cell_type": "code",
   "execution_count": 304,
   "id": "465487f7",
   "metadata": {
    "ExecuteTime": {
     "end_time": "2023-07-03T15:32:32.302325Z",
     "start_time": "2023-07-03T15:32:32.299253Z"
    }
   },
   "outputs": [],
   "source": [
    "    \n",
    "def simple_test():\n",
    "    check(solve, \"\"\"4\n",
    "        0 0 1 -1\n",
    "        0 0 -1 1\n",
    "        0 0 1 1\n",
    "        0 0 -1 -1\"\"\",\n",
    "          \"YES\")\n",
    "    \n",
    "    check(solve, \"\"\"2\n",
    "        0 0 1 1\n",
    "        0 0 -1 -1\"\"\",\n",
    "          \"NO\")\n",
    "\n",
    "\n",
    "    print(\"Simple tests OK\")"
   ]
  },
  {
   "cell_type": "code",
   "execution_count": 305,
   "id": "fb0ddae0",
   "metadata": {
    "ExecuteTime": {
     "end_time": "2023-07-03T15:32:33.171391Z",
     "start_time": "2023-07-03T15:32:33.168058Z"
    }
   },
   "outputs": [
    {
     "name": "stdout",
     "output_type": "stream",
     "text": [
      "Simple tests OK\n"
     ]
    }
   ],
   "source": [
    "simple_test()"
   ]
  },
  {
   "cell_type": "markdown",
   "id": "3f8ee101",
   "metadata": {},
   "source": [
    "### [Рассчитать pFound](https://coderun.yandex.ru/seasons/first_2023/tracks/data-analytics/problem/calculate-pfound?currentPage=1&pageSize=10&rowNumber=4)"
   ]
  },
  {
   "cell_type": "code",
   "execution_count": 357,
   "id": "f05cd25c",
   "metadata": {
    "ExecuteTime": {
     "end_time": "2023-07-03T16:10:33.786415Z",
     "start_time": "2023-07-03T16:10:33.783913Z"
    }
   },
   "outputs": [],
   "source": [
    "folder = \"data/coderun/pfound/hidden_task\""
   ]
  },
  {
   "cell_type": "code",
   "execution_count": 358,
   "id": "97449a93",
   "metadata": {
    "ExecuteTime": {
     "end_time": "2023-07-03T16:10:34.027209Z",
     "start_time": "2023-07-03T16:10:34.006905Z"
    }
   },
   "outputs": [],
   "source": [
    "hostid_url = pd.read_csv(os.path.join(folder, \"hostid_url.tsv\"), sep=\"\\t\", header=None, names=[\"hostid\", \"url\"])\n",
    "qid_query = pd.read_csv(os.path.join(folder, \"qid_query.tsv\"), sep=\"\\t\", header=None, names=[\"qid\", \"query\"])\n",
    "qid_url_rating = pd.read_csv(os.path.join(folder, \"qid_url_rating.tsv\"), sep=\"\\t\", header=None, names=[\"qid\", \"url\", \"rating\"])\n",
    "\n",
    "df = pd.merge(pd.merge(qid_url_rating, qid_query, on=\"qid\", how=\"left\"), hostid_url, on=\"url\", how=\"left\")"
   ]
  },
  {
   "cell_type": "code",
   "execution_count": 359,
   "id": "64fc31e5",
   "metadata": {
    "ExecuteTime": {
     "end_time": "2023-07-03T16:10:35.137822Z",
     "start_time": "2023-07-03T16:10:35.134037Z"
    }
   },
   "outputs": [],
   "source": [
    "def compute_p_found(top_p_relevance, p_break = 0.15):\n",
    "    p_look = 1\n",
    "    p_found = 0\n",
    "    for p_relevance in top_p_relevance:\n",
    "        p_found += p_look * p_relevance\n",
    "        p_look *= (1 - p_relevance) * (1 - p_break)\n",
    "    return p_found"
   ]
  },
  {
   "cell_type": "code",
   "execution_count": 361,
   "id": "a29b91e2",
   "metadata": {
    "ExecuteTime": {
     "end_time": "2023-07-03T16:10:42.512972Z",
     "start_time": "2023-07-03T16:10:42.485323Z"
    }
   },
   "outputs": [
    {
     "name": "stdout",
     "output_type": "stream",
     "text": [
      "туту\n"
     ]
    }
   ],
   "source": [
    "top_k = 10\n",
    "max_p_found = 0\n",
    "max_query = \"\"\n",
    "for qid, query in qid_query.values:\n",
    "    query_df = df[df[\"qid\"] == qid]\n",
    "    query_df = query_df.groupby(\"hostid\")[\"rating\"].max()\n",
    "    query_df = query_df.sort_values(ascending=False)\n",
    "    top_p_relevance = query_df.values[:top_k]\n",
    "    p_found = compute_p_found(top_p_relevance)\n",
    "    if p_found >= max_p_found:\n",
    "        max_p_found = p_found\n",
    "        max_query = query\n",
    "        \n",
    "print(max_query)"
   ]
  },
  {
   "cell_type": "markdown",
   "id": "828f34a7",
   "metadata": {
    "ExecuteTime": {
     "end_time": "2023-07-03T16:42:09.196175Z",
     "start_time": "2023-07-03T16:42:09.193577Z"
    }
   },
   "source": [
    "### [Формирование заплывов](https://coderun.yandex.ru/seasons/first_2023/tracks/data-analytics/problem/make-heats/description?currentPage=1&pageSize=10&rowNumber=5)"
   ]
  },
  {
   "cell_type": "code",
   "execution_count": 396,
   "id": "195a64e5",
   "metadata": {
    "ExecuteTime": {
     "end_time": "2023-07-03T16:40:09.462407Z",
     "start_time": "2023-07-03T16:40:09.456617Z"
    }
   },
   "outputs": [],
   "source": [
    "df = pd.read_csv(io.StringIO(\"\"\"0,301,25.3\n",
    "0,302,24.2\n",
    "0,303,29.2\n",
    "0,304,28.4\n",
    "0,305,27.3\n",
    "0,306,27.1\n",
    "0,307,28.0\n",
    "0,308,28.2\n",
    "1,201,27.8\n",
    "1,202,27.5\n",
    "1,203,27.2\n",
    "1,204,26.8\n",
    "1,205,27.0\n",
    "1,206,27.4\n",
    "1,207,27.6\n",
    "1,208,27.9\n",
    "2,101,26.6\n",
    "2,102,26.3\n",
    "2,103,25.5\n",
    "2,104,25.0\n",
    "2,105,25.1\n",
    "2,106,25.9\n",
    "2,107,26.4\n",
    "2,108,26.7\"\"\"), header=None, names=[\"heat\", \"id\", \"time\"])"
   ]
  },
  {
   "cell_type": "code",
   "execution_count": 399,
   "id": "27d12882",
   "metadata": {
    "ExecuteTime": {
     "end_time": "2023-07-03T16:41:29.608174Z",
     "start_time": "2023-07-03T16:41:29.602317Z"
    }
   },
   "outputs": [],
   "source": [
    "original_team = {k: None for k in df[df[\"heat\"] == 0][\"id\"].values}\n",
    "df = df.sort_values(by=\"time\", ascending=False)\n",
    "lane_order = np.array([8, 1, 7, 2, 6, 3, 5, 4])\n",
    "for heat in range(len(df) // 8):\n",
    "    heat_ids = df.iloc[heat * 8: (heat + 1) * 8][\"id\"].values\n",
    "    for lane, swimmer_id in zip(lane_order, heat_ids):\n",
    "        if swimmer_id in original_team:\n",
    "            original_team[swimmer_id] = heat + 1, lane"
   ]
  },
  {
   "cell_type": "code",
   "execution_count": 400,
   "id": "6358583a",
   "metadata": {
    "ExecuteTime": {
     "end_time": "2023-07-03T16:41:29.871871Z",
     "start_time": "2023-07-03T16:41:29.868476Z"
    }
   },
   "outputs": [
    {
     "name": "stdout",
     "output_type": "stream",
     "text": [
      "301,3,6\n",
      "302,3,4\n",
      "303,1,8\n",
      "304,1,1\n",
      "305,2,1\n",
      "306,2,2\n",
      "307,1,2\n",
      "308,1,7\n"
     ]
    }
   ],
   "source": [
    "print(\"\\n\".join(f\"{i},{a},{b}\" for i, (a, b) in sorted(list(original_team.items()))))"
   ]
  },
  {
   "cell_type": "markdown",
   "id": "229f8e97",
   "metadata": {},
   "source": [
    "### [Документы на выдачe](https://coderun.yandex.ru/seasons/first_2023/tracks/data-analytics/problem/revenue?currentPage=1&pageSize=10&rowNumber=6)"
   ]
  },
  {
   "cell_type": "code",
   "execution_count": 444,
   "id": "a582abb0",
   "metadata": {
    "ExecuteTime": {
     "end_time": "2023-07-04T07:08:51.942013Z",
     "start_time": "2023-07-04T07:08:51.923127Z"
    }
   },
   "outputs": [],
   "source": [
    "from __future__ import annotations\n",
    "import dataclasses\n",
    "import io\n",
    "import sys\n",
    "import typing as tp\n",
    "import numpy as np\n",
    "import itertools\n",
    "import pandas as pd\n",
    "import json\n",
    "\n",
    "\n",
    "def compute_cost(costs):\n",
    "    cost = np.sum(costs / np.arange(1, len(costs) + 1) ** 0.5)\n",
    "    return cost\n",
    "\n",
    "def compute_quality(relevance):\n",
    "    quality = np.sum(relevance / np.arange(1, len(relevance) + 1))\n",
    "    return quality\n",
    "\n",
    "def main():\n",
    "    doc = json.loads(sys.stdin.read())\n",
    "    new_documents = pd.DataFrame(doc[\"new_documents\"])\n",
    "    total_cost = 0\n",
    "    \n",
    "    for serpset in doc[\"serpset\"]:\n",
    "        query = serpset[\"query\"]\n",
    "        results = pd.DataFrame(serpset[\"results\"])\n",
    "        results = results.sort_values(by=\"position\")\n",
    "        cost = list(results[\"cost\"])\n",
    "        relevance = list(results[\"relevance\"])\n",
    "        best_cost = compute_cost(cost)\n",
    "        base_quality = compute_quality(relevance)\n",
    "        new_results = new_documents[new_documents[\"query\"] == query]\n",
    "        new_cost = list(new_results[\"cost\"])\n",
    "        new_relevance = list(new_results[\"relevance\"])\n",
    "\n",
    "        n_results = len(cost)\n",
    "        n_new_results = len(new_cost)\n",
    "\n",
    "        for inserts in range(1, n_new_results + 1):\n",
    "            for choose in itertools.combinations(range(n_new_results), inserts):\n",
    "                for pos in itertools.permutations(range(n_results), inserts):\n",
    "                    cost_i = cost.copy()\n",
    "                    relevance_i = relevance.copy()\n",
    "                    indices = np.argsort(pos)\n",
    "                    choose = [choose[i] for i in indices]\n",
    "                    pos = [pos[i] for i in indices]\n",
    "                    for i, p in zip(choose, pos):\n",
    "                        cost_i.insert(p, new_cost[i])\n",
    "                        relevance_i.insert(p, new_relevance[i])\n",
    "\n",
    "                    quality = compute_quality(relevance_i[:n_results])\n",
    "                    cost_v = compute_cost(cost_i[:n_results])\n",
    "                    if cost_v > best_cost and quality >= base_quality:\n",
    "                        best_cost = cost_v\n",
    "\n",
    "        total_cost += best_cost\n",
    "        \n",
    "    print(f\"{total_cost:.2f}\")"
   ]
  },
  {
   "cell_type": "markdown",
   "id": "e08b359c",
   "metadata": {},
   "source": [
    "### [Весы и гири](https://coderun.yandex.ru/seasons/first_2023/tracks/data-analytics/problem/scales-and-weights?currentPage=1&pageSize=10&rowNumber=7)"
   ]
  },
  {
   "cell_type": "code",
   "execution_count": 447,
   "id": "0bb2e184",
   "metadata": {
    "ExecuteTime": {
     "end_time": "2023-07-06T06:39:21.695788Z",
     "start_time": "2023-07-06T06:39:21.679808Z"
    }
   },
   "outputs": [],
   "source": [
    "from __future__ import annotations\n",
    "import dataclasses\n",
    "import io\n",
    "import sys\n",
    "import typing as tp\n",
    "import numpy as np\n",
    "\n",
    "\n",
    "@dataclasses.dataclass\n",
    "class Input:\n",
    "    max_weight: int\n",
    "    weights: tp.List[int]\n",
    "        \n",
    "    @staticmethod\n",
    "    def from_string_io(string_io: io.StringIO) -> Input:\n",
    "        max_weight = int(string_io.readline())\n",
    "        weights = list(map(int, string_io.readline().split()))\n",
    "        input_ = Input(max_weight=max_weight, weights=weights)\n",
    "        return input_\n",
    "\n",
    "\n",
    "@dataclasses.dataclass\n",
    "class Output:\n",
    "    answer: str\n",
    "\n",
    "    @staticmethod\n",
    "    def from_string_io(string_io: io.StringIO) -> Output:\n",
    "        answer = string_io.readline().strip()\n",
    "        output = Output(answer=answer)\n",
    "        return output\n",
    "\n",
    "    def __str__(self) -> str:\n",
    "        string = self.answer\n",
    "        return string\n",
    "        \n",
    "    def __eq__(self, output_: Output) -> bool:\n",
    "        is_equal = self.answer == output_.answer\n",
    "        return is_equal\n",
    "    \n",
    "\n",
    "def solve(input_: Input) -> Output:\n",
    "    diffs = [0]\n",
    "    for weight in input_.weights:\n",
    "        n_diffs = len(diffs)\n",
    "        for diff in diffs[:n_diffs]:\n",
    "            diffs.append(diff + weight)\n",
    "            diffs.append(diff - weight)\n",
    "            \n",
    "    if len(diffs) < input_.max_weight:\n",
    "        return Output(\"No\")\n",
    "    \n",
    "    has_diff = np.zeros(input_.max_weight + 1)\n",
    "    for diff in diffs:\n",
    "        if diff >= 0 and diff <= input_.max_weight:\n",
    "            has_diff[diff] = 1\n",
    "    \n",
    "    return Output(\"Yes\") if np.all(has_diff) else Output(\"No\")\n",
    "    \n",
    "    \n",
    "def main():\n",
    "    print(solve(Input.from_string_io(sys.stdin)))\n",
    "    "
   ]
  },
  {
   "cell_type": "code",
   "execution_count": 448,
   "id": "eac3ccbe",
   "metadata": {
    "ExecuteTime": {
     "end_time": "2023-07-06T06:39:22.022937Z",
     "start_time": "2023-07-06T06:39:22.020000Z"
    }
   },
   "outputs": [],
   "source": [
    "def simple_test():\n",
    "    check(solve, \"\"\"5\n",
    "1 3 4\"\"\", \"Yes\"\"\")\n",
    "    check(solve, \"\"\"9\n",
    "1 3 4\"\"\", \"\"\"No\"\"\")\n",
    "    check(solve, \"\"\"94\n",
    "34 7 4 25 30 27 39\"\"\", \"\"\"Yes\"\"\")\n",
    "\n",
    "    print(\"Simple tests OK\")"
   ]
  },
  {
   "cell_type": "code",
   "execution_count": 449,
   "id": "22785256",
   "metadata": {
    "ExecuteTime": {
     "end_time": "2023-07-06T06:39:22.421700Z",
     "start_time": "2023-07-06T06:39:22.412665Z"
    }
   },
   "outputs": [
    {
     "name": "stdout",
     "output_type": "stream",
     "text": [
      "Simple tests OK\n"
     ]
    }
   ],
   "source": [
    "simple_test()"
   ]
  },
  {
   "cell_type": "markdown",
   "id": "0a9d778a",
   "metadata": {},
   "source": [
    "### [Поехавшие фичи](https://coderun.yandex.ru/seasons/first_2023/tracks/data-analytics/problem/tricky-features-distributions?currentPage=1&pageSize=10&rowNumber=8)"
   ]
  },
  {
   "cell_type": "code",
   "execution_count": 519,
   "id": "49e374a1",
   "metadata": {
    "ExecuteTime": {
     "end_time": "2023-07-06T07:30:47.448851Z",
     "start_time": "2023-07-06T07:30:32.221838Z"
    }
   },
   "outputs": [
    {
     "name": "stdout",
     "output_type": "stream",
     "text": [
      "493,677,709,814,940,988,1076,1289,1401,1423\n"
     ]
    }
   ],
   "source": [
    "df = pd.read_csv(\"~/Downloads/dataset.tsv\", sep=\"\\t\", header=None, names=[\"day\", \"test\", \"feature\", \"value\"])\n",
    "\n",
    "result = df.groupby(\"feature\").apply(lambda df: \n",
    "        scipy.stats.ks_2samp(df[df[\"test\"] == 1][\"value\"].values,\n",
    "                             df[df[\"test\"] == 2][\"value\"].values).statistic)\n",
    "\n",
    "\n",
    "print(\",\".join(map(str, sorted(result.sort_values()[-10:].index))))"
   ]
  },
  {
   "cell_type": "markdown",
   "id": "daacb850",
   "metadata": {
    "ExecuteTime": {
     "end_time": "2023-07-06T07:27:34.234746Z",
     "start_time": "2023-07-06T07:27:34.230285Z"
    }
   },
   "source": [
    "### [Лавки в одномерном городе](https://coderun.yandex.ru/seasons/first_2023/tracks/data-analytics/problem/lavka-in-the-city?currentPage=1&pageSize=10&rowNumber=10)"
   ]
  },
  {
   "cell_type": "code",
   "execution_count": 545,
   "id": "ca2e3d03",
   "metadata": {
    "ExecuteTime": {
     "end_time": "2023-07-06T07:42:21.564023Z",
     "start_time": "2023-07-06T07:42:21.559798Z"
    }
   },
   "outputs": [],
   "source": [
    "class Distribution:\n",
    "    def __init__(self):\n",
    "        self.distributions = [\n",
    "    scipy.stats.norm(150, 80),\n",
    "    scipy.stats.norm(310, 60),\n",
    "    scipy.stats.norm(450, 70),\n",
    "    scipy.stats.norm(550, 70),\n",
    "    scipy.stats.norm(730, 85),\n",
    "    scipy.stats.norm(900, 90),\n",
    "        ]\n",
    "        \n",
    "    def __call__(self, x):\n",
    "        return np.stack([d.pdf(x) for d in self.distributions]).max(0)"
   ]
  },
  {
   "cell_type": "code",
   "execution_count": 528,
   "id": "b0badb40",
   "metadata": {
    "ExecuteTime": {
     "end_time": "2023-07-06T07:39:10.765139Z",
     "start_time": "2023-07-06T07:37:58.587377Z"
    }
   },
   "outputs": [],
   "source": [
    "distribution = Distribution()\n",
    "centers = np.arange(100, 901)\n",
    "areas = []\n",
    "\n",
    "for c in centers:\n",
    "    areas.append(scipy.integrate.quad(distribution, c - 100, c + 100)[0])"
   ]
  },
  {
   "cell_type": "markdown",
   "id": "fbf9ac68",
   "metadata": {
    "ExecuteTime": {
     "end_time": "2023-07-06T07:55:40.979583Z",
     "start_time": "2023-07-06T07:55:40.977104Z"
    }
   },
   "source": [
    "### [N-гранные кубики](https://coderun.yandex.ru/seasons/first_2023/tracks/data-analytics/problem/n-sided-dice?currentPage=2&pageSize=10&rowNumber=11)"
   ]
  },
  {
   "cell_type": "code",
   "execution_count": 612,
   "id": "84f3cd73",
   "metadata": {
    "ExecuteTime": {
     "end_time": "2023-07-06T08:32:52.721358Z",
     "start_time": "2023-07-06T08:32:52.718088Z"
    }
   },
   "outputs": [],
   "source": [
    "def play(n):\n",
    "    cubes = np.random.randint(1, n + 1, n)\n",
    "    points = 0\n",
    "    for cube, n_people in collections.Counter(cubes).items():\n",
    "        points += n_people * (n_people * cube - cube - n_people**2)\n",
    "    return points"
   ]
  },
  {
   "cell_type": "code",
   "execution_count": null,
   "id": "7019a98b",
   "metadata": {},
   "outputs": [],
   "source": [
    "def get_expected_points(n):\n",
    "    expected_points = n**2 / 2 - 5 * n + 5.5 - 2 / n\n",
    "    return expected_points"
   ]
  },
  {
   "cell_type": "code",
   "execution_count": 641,
   "id": "fd1c4a93",
   "metadata": {
    "ExecuteTime": {
     "end_time": "2023-07-06T08:52:08.104738Z",
     "start_time": "2023-07-06T08:52:06.827942Z"
    }
   },
   "outputs": [
    {
     "data": {
      "text/plain": [
       "1006.16868"
      ]
     },
     "execution_count": 641,
     "metadata": {},
     "output_type": "execute_result"
    }
   ],
   "source": [
    "np.mean([play(50) for _ in range(100000)])"
   ]
  },
  {
   "cell_type": "code",
   "execution_count": 639,
   "id": "699db03c",
   "metadata": {
    "ExecuteTime": {
     "end_time": "2023-07-06T08:51:15.504847Z",
     "start_time": "2023-07-06T08:51:15.501460Z"
    }
   },
   "outputs": [
    {
     "data": {
      "text/plain": [
       "1005.46"
      ]
     },
     "execution_count": 639,
     "metadata": {},
     "output_type": "execute_result"
    }
   ],
   "source": [
    "get_expected_points(50)"
   ]
  },
  {
   "cell_type": "markdown",
   "id": "7251e2ef",
   "metadata": {},
   "source": [
    "### [Игра с числами](https://coderun.yandex.ru/seasons/first_2023/tracks/data-analytics/problem/num-game?currentPage=2&pageSize=10&rowNumber=12)"
   ]
  },
  {
   "cell_type": "code",
   "execution_count": 654,
   "id": "372ad1f7",
   "metadata": {
    "ExecuteTime": {
     "end_time": "2023-07-06T15:56:53.451943Z",
     "start_time": "2023-07-06T15:56:53.439727Z"
    }
   },
   "outputs": [],
   "source": [
    "from __future__ import annotations\n",
    "import dataclasses\n",
    "import io\n",
    "import sys\n",
    "import typing as tp\n",
    "import numpy as np\n",
    "\n",
    "\n",
    "@dataclasses.dataclass\n",
    "class Input:\n",
    "    numbers: tp.List[int]\n",
    "    max_erase: int\n",
    "        \n",
    "    @staticmethod\n",
    "    def from_string_io(string_io: io.StringIO) -> Input:\n",
    "        n_numbers, max_erase = map(int, string_io.readline().split())\n",
    "        numbers = list(map(int, string_io.readline().split()))\n",
    "        input_ = Input(numbers=numbers, max_erase=max_erase)\n",
    "        return input_\n",
    "\n",
    "\n",
    "@dataclasses.dataclass\n",
    "class Output:\n",
    "    answer: str\n",
    "\n",
    "    @staticmethod\n",
    "    def from_string_io(string_io: io.StringIO) -> Output:\n",
    "        answer = string_io.readline().strip()\n",
    "        output = Output(answer=answer)\n",
    "        return output\n",
    "\n",
    "    def __str__(self) -> str:\n",
    "        string = self.answer\n",
    "        return string\n",
    "        \n",
    "    def __eq__(self, output_: Output) -> bool:\n",
    "        is_equal = self.answer == output_.answer\n",
    "        return is_equal\n",
    "\n",
    "def get_points(points, i):\n",
    "    return 0 if i < 0 else points[i]\n",
    "\n",
    "def solve(input_: Input) -> Output:\n",
    "    numbers = input_.numbers[::-1]\n",
    "    first_points = []\n",
    "    second_points = []\n",
    "    \n",
    "    for i in range(len(numbers)):\n",
    "        delta = 0\n",
    "        max_first_points = -np.inf\n",
    "        second_p = 0\n",
    "        \n",
    "        for erase in range(min(input_.max_erase, i + 1)):\n",
    "            index = i - erase\n",
    "            delta += numbers[index]\n",
    "            first_p = delta + (second_points[index - 1] if index >= 1 else 0)\n",
    "            if max_first_points < first_p:\n",
    "                max_first_points = first_p\n",
    "                second_p = first_points[index - 1] if index >= 1 else 0\n",
    "\n",
    "        first_points.append(max_first_points)\n",
    "        second_points.append(second_p)\n",
    "                \n",
    "    output = Output(\"0\") if first_points[-1] < second_points[-1] else Output(\"1\")\n",
    "    return output\n",
    "    \n",
    "def main():\n",
    "    print(solve(Input.from_string_io(sys.stdin)))"
   ]
  },
  {
   "cell_type": "code",
   "execution_count": 655,
   "id": "e56ab113",
   "metadata": {
    "ExecuteTime": {
     "end_time": "2023-07-06T15:56:53.660416Z",
     "start_time": "2023-07-06T15:56:53.654683Z"
    }
   },
   "outputs": [
    {
     "name": "stdout",
     "output_type": "stream",
     "text": [
      "Simple tests OK\n"
     ]
    }
   ],
   "source": [
    "def simple_test():\n",
    "    check(solve, \"\"\"4 3\n",
    "1 2 3 9\"\"\", \"\"\"0\"\"\")\n",
    "    check(solve, \"\"\"4 3\n",
    "1 2 3 -4\"\"\", \"\"\"1\"\"\")\n",
    "\n",
    "    print(\"Simple tests OK\")\n",
    "    \n",
    "simple_test()"
   ]
  },
  {
   "cell_type": "markdown",
   "id": "71909e18",
   "metadata": {},
   "source": [
    "### [Время путешествий](https://coderun.yandex.ru/seasons/first_2023/tracks/data-analytics/problem/adventure-time?currentPage=2&pageSize=10&rowNumber=13)"
   ]
  },
  {
   "cell_type": "code",
   "execution_count": 658,
   "id": "7dab2bd6",
   "metadata": {
    "ExecuteTime": {
     "end_time": "2023-07-06T16:14:55.172019Z",
     "start_time": "2023-07-06T16:14:55.160609Z"
    }
   },
   "outputs": [],
   "source": [
    "from __future__ import annotations\n",
    "import dataclasses\n",
    "import io\n",
    "import sys\n",
    "import typing as tp\n",
    "import numpy as np\n",
    "\n",
    "\n",
    "@dataclasses.dataclass\n",
    "class Input:\n",
    "    temperature: tp.List[int]\n",
    "        \n",
    "    @staticmethod\n",
    "    def from_string_io(string_io: io.StringIO) -> Input:\n",
    "        temperature = list(map(int, string_io.readline().split()))\n",
    "        input_ = Input(temperature=temperature)\n",
    "        return input_\n",
    "\n",
    "\n",
    "@dataclasses.dataclass\n",
    "class Output:\n",
    "    temperature_delta: int\n",
    "    begin: int\n",
    "    end: int\n",
    "    \n",
    "    @staticmethod\n",
    "    def from_string_io(string_io: io.StringIO) -> Output:\n",
    "        args = map(int, string_io.readline().split())\n",
    "        output = Output(*args)\n",
    "        return output\n",
    "\n",
    "    def __str__(self) -> str:\n",
    "        string = f\"{self.temperature_delta} {self.begin} {self.end}\"\n",
    "        return string\n",
    "        \n",
    "    def __eq__(self, output_: Output) -> bool:\n",
    "        is_equal = str(self) == str(output_)\n",
    "        return is_equal\n",
    "\n",
    "def solve(input_: Input) -> Output:\n",
    "    temperature_delta = 0\n",
    "    begin = 0\n",
    "    end = 0\n",
    "    cur_min = input_.temperature[0]\n",
    "    cur_min_pos = 0\n",
    "    for i, t in enumerate(input_.temperature):\n",
    "        delta = t - cur_min\n",
    "        if delta > temperature_delta or (delta == temperature_delta and i - cur_min_pos < end - begin):\n",
    "            temperature_delta = delta\n",
    "            begin = cur_min_pos\n",
    "            end = i\n",
    "        if t < cur_min:\n",
    "            cur_min = t\n",
    "            cur_min_pos = i\n",
    "            \n",
    "    output = Output(temperature_delta, begin, end)\n",
    "    return output\n",
    "    \n",
    "def main():\n",
    "    print(solve(Input.from_string_io(sys.stdin)))\n",
    "    "
   ]
  },
  {
   "cell_type": "code",
   "execution_count": 659,
   "id": "db9d3263",
   "metadata": {
    "ExecuteTime": {
     "end_time": "2023-07-06T16:14:55.749032Z",
     "start_time": "2023-07-06T16:14:55.745817Z"
    }
   },
   "outputs": [
    {
     "name": "stdout",
     "output_type": "stream",
     "text": [
      "Simple tests OK\n"
     ]
    }
   ],
   "source": [
    "def simple_test():\n",
    "    check(solve, \"\"\"3 4 1 6\"\"\", \"\"\"5 2 3\"\"\")\n",
    "\n",
    "    print(\"Simple tests OK\")\n",
    "    \n",
    "simple_test()"
   ]
  },
  {
   "cell_type": "code",
   "execution_count": 674,
   "id": "07021e49",
   "metadata": {
    "ExecuteTime": {
     "end_time": "2023-07-07T07:02:27.788900Z",
     "start_time": "2023-07-07T07:02:27.784581Z"
    }
   },
   "outputs": [
    {
     "data": {
      "text/plain": [
       "0.9682159423828125"
      ]
     },
     "execution_count": 674,
     "metadata": {},
     "output_type": "execute_result"
    }
   ],
   "source": [
    "sum([scipy.special.comb(19, i) for i in range(14)]) / 2**19"
   ]
  },
  {
   "cell_type": "code",
   "execution_count": 696,
   "id": "07ad540c",
   "metadata": {
    "ExecuteTime": {
     "end_time": "2023-07-07T07:47:53.574859Z",
     "start_time": "2023-07-07T07:47:53.571169Z"
    }
   },
   "outputs": [
    {
     "name": "stdout",
     "output_type": "stream",
     "text": [
      "z_test statistic 6.2168\n"
     ]
    }
   ],
   "source": [
    "count = [101, 30]\n",
    "nobs = [5829, 5807]\n",
    "print(f\"z_test statistic {statsmodels.stats.proportion.proportions_ztest(count, nobs)[0]:.4f}\")"
   ]
  },
  {
   "cell_type": "code",
   "execution_count": 698,
   "id": "8fd5edf5",
   "metadata": {
    "ExecuteTime": {
     "end_time": "2023-07-07T07:52:47.864216Z",
     "start_time": "2023-07-07T07:52:47.855094Z"
    }
   },
   "outputs": [
    {
     "data": {
      "text/plain": [
       "(0.007220640494741911, 0.017501614534234173)"
      ]
     },
     "execution_count": 698,
     "metadata": {},
     "output_type": "execute_result"
    }
   ],
   "source": [
    "statsmodels.stats.proportion.confint_proportions_2indep(count[0], nobs[0], count[1], nobs[1], alpha=0.01)"
   ]
  },
  {
   "cell_type": "markdown",
   "id": "635c1b7a",
   "metadata": {},
   "source": [
    "### [Детекция сигнала](https://coderun.yandex.ru/seasons/first_2023/tracks/data-analytics/problem/signal-detection?currentPage=2&pageSize=10&rowNumber=17)"
   ]
  },
  {
   "cell_type": "code",
   "execution_count": 703,
   "id": "1a14fae4",
   "metadata": {
    "ExecuteTime": {
     "end_time": "2023-07-07T11:33:54.200213Z",
     "start_time": "2023-07-07T11:33:54.188508Z"
    }
   },
   "outputs": [],
   "source": [
    "from __future__ import annotations\n",
    "import dataclasses\n",
    "import heapq\n",
    "import io\n",
    "import sys\n",
    "import typing as tp\n",
    "import numpy as np\n",
    "\n",
    "\n",
    "@dataclasses.dataclass\n",
    "class Input:\n",
    "    n_calibration_signals: int\n",
    "    signals: tp.List[int]\n",
    "        \n",
    "    @staticmethod\n",
    "    def from_string_io(string_io: io.StringIO) -> Input:\n",
    "        n_signals = int(string_io.readline())\n",
    "        n_calibration_signals = int(string_io.readline())\n",
    "        signals = [int(string_io.readline()) for _ in range(n_signals)]\n",
    "        input_ = Input(n_calibration_signals=n_calibration_signals, signals=signals)\n",
    "        return input_\n",
    "\n",
    "\n",
    "@dataclasses.dataclass\n",
    "class Output:\n",
    "    first_outlier: int\n",
    "        \n",
    "    @staticmethod\n",
    "    def from_string_io(string_io: io.StringIO) -> Output:\n",
    "        first_outlier = int(string_io.readline())\n",
    "        output = Output(first_outlier=first_outlier)\n",
    "        return output\n",
    "\n",
    "    def __str__(self) -> str:\n",
    "        string = str(self.first_outlier)\n",
    "        return string\n",
    "        \n",
    "    def __eq__(self, output_: Output) -> bool:\n",
    "        is_equal = str(self) == str(output_)\n",
    "        return is_equal\n",
    "\n",
    "def solve(input_: Input) -> Output:\n",
    "    less_heap = []\n",
    "    more_heap = []\n",
    "    for i, signal in enumerate(input_.signals):\n",
    "        if i >= input_.n_calibration_signals and signal > -less_heap[0]:\n",
    "            return Output(i)\n",
    "        \n",
    "        if less_heap and -less_heap[0] < signal:\n",
    "            heapq.heappush(more_heap, signal)\n",
    "        else:\n",
    "            heapq.heappush(less_heap, -signal)\n",
    "        \n",
    "        if len(less_heap) / (i + 1) < 0.9:\n",
    "            signal = heapq.heappop(more_heap)\n",
    "            heapq.heappush(less_heap, -signal)\n",
    "        elif (len(less_heap) - 1) / (i + 1) >= 0.9:\n",
    "            signal = heapq.heappop(less_heap)\n",
    "            heapq.heappush(more_heap, -signal)\n",
    "            \n",
    "    return Output(-1)\n",
    "    \n",
    "def main():\n",
    "    print(solve(Input.from_string_io(sys.stdin)))"
   ]
  },
  {
   "cell_type": "code",
   "execution_count": 704,
   "id": "41779187",
   "metadata": {
    "ExecuteTime": {
     "end_time": "2023-07-07T11:33:54.734814Z",
     "start_time": "2023-07-07T11:33:54.731156Z"
    }
   },
   "outputs": [
    {
     "name": "stdout",
     "output_type": "stream",
     "text": [
      "Simple tests OK\n"
     ]
    }
   ],
   "source": [
    "def simple_test():\n",
    "    check(solve, \"\"\"12\n",
    "5\n",
    "1\n",
    "5\n",
    "2\n",
    "3\n",
    "4\n",
    "1\n",
    "3\n",
    "2\n",
    "7\n",
    "2\n",
    "3\n",
    "4\"\"\", \"\"\"8\"\"\")\n",
    "    check(solve, \"\"\"11\n",
    "10\n",
    "2\n",
    "2\n",
    "2\n",
    "2\n",
    "1\n",
    "1\n",
    "3\n",
    "1\n",
    "1\n",
    "1\n",
    "3\"\"\", \"\"\"10\"\"\")\n",
    "    check(solve, \"\"\"11\n",
    "10\n",
    "2\n",
    "2\n",
    "2\n",
    "3\n",
    "1\n",
    "1\n",
    "3\n",
    "1\n",
    "1\n",
    "1\n",
    "3\"\"\", \"\"\"-1\"\"\")\n",
    "\n",
    "    print(\"Simple tests OK\")\n",
    "    \n",
    "simple_test()"
   ]
  },
  {
   "cell_type": "markdown",
   "id": "4d076590",
   "metadata": {
    "ExecuteTime": {
     "end_time": "2023-07-07T13:49:53.085684Z",
     "start_time": "2023-07-07T13:49:53.070231Z"
    }
   },
   "source": [
    "### [Волейбол](https://coderun.yandex.ru/seasons/first_2023/tracks/data-analytics/problem/volleyball?currentPage=2&pageSize=10&rowNumber=18)"
   ]
  },
  {
   "cell_type": "code",
   "execution_count": 743,
   "id": "6b641ccb",
   "metadata": {
    "ExecuteTime": {
     "end_time": "2023-07-07T13:49:53.085684Z",
     "start_time": "2023-07-07T13:49:53.070231Z"
    }
   },
   "outputs": [],
   "source": [
    "from __future__ import annotations\n",
    "import dataclasses\n",
    "import io\n",
    "import scipy.special\n",
    "import sys\n",
    "import typing as tp\n",
    "import numpy as np\n",
    "\n",
    "\n",
    "@dataclasses.dataclass\n",
    "class Input:\n",
    "    scores: tp.List[tp.Tuple[int, int]]\n",
    "        \n",
    "    @staticmethod\n",
    "    def from_string_io(string_io: io.StringIO) -> Input:\n",
    "        line = string_io.readline().split()\n",
    "        scores = [tuple(map(int, i.split(\":\"))) for i in line[1:]]\n",
    "        input_ = Input(scores=scores)\n",
    "        return input_\n",
    "\n",
    "\n",
    "@dataclasses.dataclass\n",
    "class Output:\n",
    "    n_combinations: int\n",
    "                        \n",
    "    @staticmethod\n",
    "    def from_string_io(string_io: io.StringIO) -> Output:\n",
    "        n_combinations = int(string_io.readline())\n",
    "        output = Output(n_combinations=n_combinations)\n",
    "        return output\n",
    "\n",
    "    def __str__(self) -> str:\n",
    "        string = str(self.n_combinations)\n",
    "        return string\n",
    "        \n",
    "    def __eq__(self, output_: Output) -> bool:\n",
    "        is_equal = self.n_combinations == output_.n_combinations\n",
    "        return is_equal\n",
    "\n",
    "def get_max_score(game_id):\n",
    "    return 15 if game_id == 4 else 25\n",
    "                        \n",
    "def solve(input_: Input) -> Output:\n",
    "    n_combinations = 1\n",
    "    for game_id, score in enumerate(input_.scores):\n",
    "        max_score = get_max_score(game_id)\n",
    "        loser, winner = sorted(score)\n",
    "        if winner == max_score:\n",
    "            n_combinations *= scipy.special.comb(winner + loser - 1, loser, exact=True)\n",
    "        else:\n",
    "            n_combinations *= scipy.special.comb(2 * (max_score - 1), max_score - 1, exact=True)\n",
    "            endgame = loser + winner - 2 * (max_score - 1)\n",
    "            n_combinations *= 2 ** ((endgame - 2) // 2)\n",
    "        \n",
    "    output = Output(n_combinations=n_combinations)\n",
    "    return output\n",
    "    \n",
    "def main():\n",
    "    print(solve(Input.from_string_io(sys.stdin)))"
   ]
  },
  {
   "cell_type": "code",
   "execution_count": 744,
   "id": "d2b342eb",
   "metadata": {
    "ExecuteTime": {
     "end_time": "2023-07-07T13:49:53.827049Z",
     "start_time": "2023-07-07T13:49:53.823546Z"
    }
   },
   "outputs": [
    {
     "name": "stdout",
     "output_type": "stream",
     "text": [
      "Simple tests OK\n"
     ]
    }
   ],
   "source": [
    "def simple_test():\n",
    "    check(solve, \"\"\"5 24:26 31:33 25:1 25:15 15:3\"\"\", \"\"\"56889691950301172383828530142994457600000000\"\"\")\n",
    "    check(solve, \"\"\"3 25:1 35:33 27:25\"\"\", \"\"\"26621643348538487941775616000000\"\"\")\n",
    "    check(solve, \"\"\"4 6:25 25:20 33:31 25:5\"\"\", \"\"\"512566584534289943779149761805072000000\"\"\")\n",
    "\n",
    "    print(\"Simple tests OK\")\n",
    "    \n",
    "simple_test()"
   ]
  },
  {
   "cell_type": "markdown",
   "id": "1a8ec872",
   "metadata": {},
   "source": [
    "### [Пользовательский лог](https://coderun.yandex.ru/seasons/first_2023/tracks/data-analytics/problem/half-traits-users-log?currentPage=2&pageSize=10&rowNumber=20)"
   ]
  },
  {
   "cell_type": "code",
   "execution_count": 779,
   "id": "f440aa3c",
   "metadata": {
    "ExecuteTime": {
     "end_time": "2023-07-07T14:30:24.077664Z",
     "start_time": "2023-07-07T14:30:24.037862Z"
    }
   },
   "outputs": [
    {
     "name": "stdout",
     "output_type": "stream",
     "text": [
      "870\n"
     ]
    }
   ],
   "source": [
    "folder = \"/Users/dimakoshman/Downloads/feature_files\"\n",
    "counter = collections.Counter()\n",
    "for i in range(1, 21):\n",
    "    feature = pd.read_csv(os.path.join(folder, f\"feature_{i}.csv\"), header=None, names=[\"user_id\", \"feature_value\"])\n",
    "    feature = feature.dropna()\n",
    "    counter.update(feature[\"user_id\"].values)\n",
    "    \n",
    "counts = np.array(list(counter.values()))\n",
    "print((counts >= 10).sum())"
   ]
  },
  {
   "cell_type": "markdown",
   "id": "a81090fb",
   "metadata": {
    "ExecuteTime": {
     "end_time": "2023-07-07T13:49:53.085684Z",
     "start_time": "2023-07-07T13:49:53.070231Z"
    }
   },
   "source": [
    "### [Команда аналитиков](https://coderun.yandex.ru/seasons/first_2023/tracks/data-analytics/problem/task-paralleling?currentPage=3&pageSize=10&rowNumber=23)"
   ]
  },
  {
   "cell_type": "code",
   "execution_count": null,
   "id": "6340044c",
   "metadata": {
    "ExecuteTime": {
     "end_time": "2023-07-07T13:49:53.085684Z",
     "start_time": "2023-07-07T13:49:53.070231Z"
    }
   },
   "outputs": [],
   "source": [
    "from __future__ import annotations\n",
    "import dataclasses\n",
    "import heapq\n",
    "import io\n",
    "import scipy.special\n",
    "import sys\n",
    "import typing as tp\n",
    "import numpy as np\n",
    "\n",
    "\n",
    "@dataclasses.dataclass\n",
    "class Input:\n",
    "    n_workers: int\n",
    "    deadlines: tp.List[int]\n",
    "    hours: tp.List[int]\n",
    "        \n",
    "    @staticmethod\n",
    "    def from_string_io(string_io: io.StringIO) -> Input:\n",
    "        n_tasks, n_workers = map(int, string_io.readline().split())\n",
    "        deadlines = []\n",
    "        hours = []\n",
    "        for _ in range(n_tasks):\n",
    "            hour, deadline = map(int, string_io.readline().split())\n",
    "            hours.append(hour)\n",
    "            deadlines.append(deadline)\n",
    "            \n",
    "        input_ = Input(n_workers=n_workers, deadlines=deadlines, hours=hours)\n",
    "        return input_\n",
    "\n",
    "\n",
    "@dataclasses.dataclass\n",
    "class Output:\n",
    "    is_possible: bool\n",
    "    schedule: tp.List[tp.List[int]] | None = None\n",
    "                        \n",
    "    @staticmethod\n",
    "    def from_string_io(string_io: io.StringIO) -> Output:\n",
    "        is_possible = string_io.readline().strip() == \"YES\"\n",
    "        schedule = None\n",
    "        if is_possible:\n",
    "            schedule = []\n",
    "            line = string_io.readline()\n",
    "            while line:\n",
    "                line = list(map(int, schedule.split()))\n",
    "                schedule.append(line[1:])\n",
    "                line = string_io.readline()\n",
    "            \n",
    "        output = Output(is_possible=is_possible, schedule=schedule)\n",
    "        return output\n",
    "\n",
    "    def __str__(self) -> str:\n",
    "        string = \"YES\" if self.is_possible else \"NO\"\n",
    "        for s in schedule:\n",
    "            string += f\"\\n{len(s)} \" + \" \".join(map(str, s))\n",
    "        return string\n",
    "        \n",
    "    def __eq__(self, output: Output) -> bool:\n",
    "        is_equal = self.is_possible == output.is_possible\n",
    "        return is_equal\n",
    "\n",
    "    \n",
    "def solve(input_: Input) -> Output:\n",
    "    todo = sorted((d, h) for d, h in zip(input_.deadlines, input_.hours))[::-1]\n",
    "    in_progress = []\n",
    "    is_available = [True] * input_.n_workers\n",
    "    assigned = [[] for _ in range(input_.n_workers)]\n",
    "    while todo:\n",
    "        next_task = todo.pop()\n",
    "        \n",
    "        \n",
    "    output = Output()\n",
    "    return output\n",
    "    \n",
    "    \n",
    "def main():\n",
    "    print(solve(Input.from_string_io(sys.stdin)))"
   ]
  },
  {
   "cell_type": "code",
   "execution_count": 791,
   "id": "ef94e079",
   "metadata": {
    "ExecuteTime": {
     "end_time": "2023-07-07T16:46:00.371063Z",
     "start_time": "2023-07-07T16:46:00.367086Z"
    }
   },
   "outputs": [
    {
     "data": {
      "text/plain": [
       "[(-1, 10), (0, 1)]"
      ]
     },
     "execution_count": 791,
     "metadata": {},
     "output_type": "execute_result"
    }
   ],
   "source": [
    "sorted([(0,1), (-1,10)])"
   ]
  },
  {
   "cell_type": "code",
   "execution_count": 781,
   "id": "9c365aa1",
   "metadata": {
    "ExecuteTime": {
     "end_time": "2023-07-07T16:35:39.577373Z",
     "start_time": "2023-07-07T16:35:39.511784Z"
    }
   },
   "outputs": [
    {
     "ename": "ValueError",
     "evalue": "not enough values to unpack (expected 2, got 1)",
     "output_type": "error",
     "traceback": [
      "\u001b[0;31m---------------------------------------------------------------------------\u001b[0m",
      "\u001b[0;31mValueError\u001b[0m                                Traceback (most recent call last)",
      "Cell \u001b[0;32mIn[781], line 15\u001b[0m\n\u001b[1;32m     11\u001b[0m     \u001b[38;5;66;03m#check(solve, \"\"\"\"\"\", \"\"\"\"\"\")\u001b[39;00m\n\u001b[1;32m     13\u001b[0m     \u001b[38;5;28mprint\u001b[39m(\u001b[38;5;124m\"\u001b[39m\u001b[38;5;124mSimple tests OK\u001b[39m\u001b[38;5;124m\"\u001b[39m)\n\u001b[0;32m---> 15\u001b[0m \u001b[43msimple_test\u001b[49m\u001b[43m(\u001b[49m\u001b[43m)\u001b[49m\n",
      "Cell \u001b[0;32mIn[781], line 2\u001b[0m, in \u001b[0;36msimple_test\u001b[0;34m()\u001b[0m\n\u001b[1;32m      1\u001b[0m \u001b[38;5;28;01mdef\u001b[39;00m \u001b[38;5;21msimple_test\u001b[39m():\n\u001b[0;32m----> 2\u001b[0m     \u001b[43mcheck\u001b[49m\u001b[43m(\u001b[49m\u001b[43msolve\u001b[49m\u001b[43m,\u001b[49m\u001b[43m \u001b[49m\u001b[38;5;124;43m\"\"\"\u001b[39;49m\u001b[38;5;124;43m5 2\u001b[39;49m\n\u001b[1;32m      3\u001b[0m \u001b[38;5;124;43m3 3\u001b[39;49m\n\u001b[1;32m      4\u001b[0m \u001b[38;5;124;43m2 2\u001b[39;49m\n\u001b[1;32m      5\u001b[0m \u001b[38;5;124;43m3 6\u001b[39;49m\n\u001b[1;32m      6\u001b[0m \u001b[38;5;124;43m2 4\u001b[39;49m\n\u001b[1;32m      7\u001b[0m \u001b[38;5;124;43m2 6\u001b[39;49m\u001b[38;5;124;43m\"\"\"\u001b[39;49m\u001b[43m,\u001b[49m\u001b[43m \u001b[49m\u001b[38;5;124;43m\"\"\"\u001b[39;49m\u001b[38;5;124;43mYES\u001b[39;49m\n\u001b[1;32m      8\u001b[0m \u001b[38;5;124;43m3 2 4 5 \u001b[39;49m\n\u001b[1;32m      9\u001b[0m \u001b[38;5;124;43m2 1 3\u001b[39;49m\u001b[38;5;124;43m\"\"\"\u001b[39;49m\u001b[43m)\u001b[49m\n\u001b[1;32m     10\u001b[0m     check(solve, \u001b[38;5;124m\"\"\"\u001b[39m\u001b[38;5;124m1\u001b[39m\u001b[38;5;124m\"\"\"\u001b[39m, \u001b[38;5;124m\"\"\"\u001b[39m\u001b[38;5;124m\"\"\"\u001b[39m)\n\u001b[1;32m     11\u001b[0m     \u001b[38;5;66;03m#check(solve, \"\"\"\"\"\", \"\"\"\"\"\")\u001b[39;00m\n",
      "Cell \u001b[0;32mIn[5], line 58\u001b[0m, in \u001b[0;36mcheck\u001b[0;34m(solve, input_, expected_output)\u001b[0m\n\u001b[1;32m     55\u001b[0m \u001b[38;5;28;01mif\u001b[39;00m \u001b[38;5;28misinstance\u001b[39m(input_, \u001b[38;5;28mstr\u001b[39m):\n\u001b[1;32m     56\u001b[0m     input_ \u001b[38;5;241m=\u001b[39m Input\u001b[38;5;241m.\u001b[39mfrom_string_io(io\u001b[38;5;241m.\u001b[39mStringIO(input_))\n\u001b[0;32m---> 58\u001b[0m output \u001b[38;5;241m=\u001b[39m \u001b[43msolve\u001b[49m\u001b[43m(\u001b[49m\u001b[43minput_\u001b[49m\u001b[43m)\u001b[49m\n\u001b[1;32m     60\u001b[0m \u001b[38;5;28;01mif\u001b[39;00m \u001b[38;5;28misinstance\u001b[39m(expected_output, \u001b[38;5;28mstr\u001b[39m):\n\u001b[1;32m     61\u001b[0m     expected_output \u001b[38;5;241m=\u001b[39m Output\u001b[38;5;241m.\u001b[39mfrom_string_io(io\u001b[38;5;241m.\u001b[39mStringIO(expected_output))\n",
      "Cell \u001b[0;32mIn[743], line 47\u001b[0m, in \u001b[0;36msolve\u001b[0;34m(input_)\u001b[0m\n\u001b[1;32m     45\u001b[0m \u001b[38;5;28;01mfor\u001b[39;00m game_id, score \u001b[38;5;129;01min\u001b[39;00m \u001b[38;5;28menumerate\u001b[39m(input_\u001b[38;5;241m.\u001b[39mscores):\n\u001b[1;32m     46\u001b[0m     max_score \u001b[38;5;241m=\u001b[39m get_max_score(game_id)\n\u001b[0;32m---> 47\u001b[0m     loser, winner \u001b[38;5;241m=\u001b[39m \u001b[38;5;28msorted\u001b[39m(score)\n\u001b[1;32m     48\u001b[0m     \u001b[38;5;28;01mif\u001b[39;00m winner \u001b[38;5;241m==\u001b[39m max_score:\n\u001b[1;32m     49\u001b[0m         n_combinations \u001b[38;5;241m*\u001b[39m\u001b[38;5;241m=\u001b[39m scipy\u001b[38;5;241m.\u001b[39mspecial\u001b[38;5;241m.\u001b[39mcomb(winner \u001b[38;5;241m+\u001b[39m loser \u001b[38;5;241m-\u001b[39m \u001b[38;5;241m1\u001b[39m, loser, exact\u001b[38;5;241m=\u001b[39m\u001b[38;5;28;01mTrue\u001b[39;00m)\n",
      "\u001b[0;31mValueError\u001b[0m: not enough values to unpack (expected 2, got 1)"
     ]
    }
   ],
   "source": [
    "def simple_test():\n",
    "    check(solve, \"\"\"5 2\n",
    "3 3\n",
    "2 2\n",
    "3 6\n",
    "2 4\n",
    "2 6\"\"\", \"\"\"YES\n",
    "3 2 4 5 \n",
    "2 1 3\"\"\")\n",
    "    check(solve, \"\"\"2 1\n",
    "4 7\n",
    "4 7\"\"\", \"\"\"NO\"\"\")\n",
    "    check(solve, \"\"\"1 2\n",
    "1 2\"\"\", \"\"\"YES\n",
    "1 1 \n",
    "0 \"\"\")\n",
    "\n",
    "    print(\"Simple tests OK\")\n",
    "    \n",
    "simple_test()"
   ]
  },
  {
   "cell_type": "code",
   "execution_count": null,
   "id": "32fbcba9",
   "metadata": {},
   "outputs": [],
   "source": [
    "### []()\n",
    "from __future__ import annotations\n",
    "import dataclasses\n",
    "import io\n",
    "import scipy.special\n",
    "import sys\n",
    "import typing as tp\n",
    "import numpy as np\n",
    "\n",
    "\n",
    "@dataclasses.dataclass\n",
    "class Input:\n",
    "        \n",
    "    @staticmethod\n",
    "    def from_string_io(string_io: io.StringIO) -> Input:\n",
    "        input_ = Input()\n",
    "        return input_\n",
    "\n",
    "\n",
    "@dataclasses.dataclass\n",
    "class Output:\n",
    "                        \n",
    "    @staticmethod\n",
    "    def from_string_io(string_io: io.StringIO) -> Output:\n",
    "        output = Output()\n",
    "        return output\n",
    "\n",
    "    def __str__(self) -> str:\n",
    "        string = ...\n",
    "        return string\n",
    "        \n",
    "    def __eq__(self, output: Output) -> bool:\n",
    "        is_equal = str(self) == str(output)\n",
    "        return is_equal\n",
    "\n",
    "\n",
    "def solve(input_: Input) -> Output:\n",
    "    output = Output()\n",
    "    return output\n",
    "    \n",
    "    \n",
    "def main():\n",
    "    print(solve(Input.from_string_io(sys.stdin)))\n",
    "    \n",
    "def simple_test():\n",
    "    #check(solve, \"\"\"\"\"\", \"\"\"\"\"\")\n",
    "    #check(solve, \"\"\"\"\"\", \"\"\"\"\"\")\n",
    "    #check(solve, \"\"\"\"\"\", \"\"\"\"\"\")\n",
    "\n",
    "    print(\"Simple tests OK\")\n",
    "    \n",
    "simple_test()"
   ]
  }
 ],
 "metadata": {
  "kernelspec": {
   "display_name": "Python 3 (ipykernel)",
   "language": "python",
   "name": "python3"
  },
  "language_info": {
   "codemirror_mode": {
    "name": "ipython",
    "version": 3
   },
   "file_extension": ".py",
   "mimetype": "text/x-python",
   "name": "python",
   "nbconvert_exporter": "python",
   "pygments_lexer": "ipython3",
   "version": "3.11.3"
  }
 },
 "nbformat": 4,
 "nbformat_minor": 5
}
