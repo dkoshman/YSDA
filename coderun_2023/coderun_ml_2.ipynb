{
 "cells": [
  {
   "cell_type": "code",
   "execution_count": 2,
   "id": "fa0ab45c",
   "metadata": {
    "ExecuteTime": {
     "end_time": "2023-07-03T06:43:25.008008Z",
     "start_time": "2023-07-03T06:43:22.698116Z"
    }
   },
   "outputs": [],
   "source": [
    "from __future__ import annotations\n",
    "import catboost\n",
    "import collections\n",
    "import dataclasses\n",
    "import functools\n",
    "import io\n",
    "import itertools\n",
    "import json\n",
    "import matplotlib.pyplot as plt\n",
    "import numpy as np\n",
    "import os\n",
    "import pandas as pd\n",
    "import PIL\n",
    "# import pymorphy3\n",
    "import random\n",
    "import re\n",
    "import requests\n",
    "import scipy\n",
    "import sklearn.cluster\n",
    "import sklearn.datasets\n",
    "import sklearn.decomposition\n",
    "import sklearn.linear_model\n",
    "import subprocess\n",
    "import string\n",
    "import sys\n",
    "import tokenizers\n",
    "import torch\n",
    "import torch.nn as nn\n",
    "import transformers\n",
    "import time\n",
    "import tqdm\n",
    "import typing as tp\n",
    "import urllib"
   ]
  },
  {
   "cell_type": "code",
   "execution_count": 3,
   "id": "b7e871d9",
   "metadata": {
    "ExecuteTime": {
     "end_time": "2023-07-03T06:43:25.012085Z",
     "start_time": "2023-07-03T06:43:25.009096Z"
    }
   },
   "outputs": [],
   "source": [
    "def run_executable(path: str, arguments: str = \"\", input_: str = \"\") -> str:\n",
    "    completed_process = subprocess.run(\n",
    "        [path, arguments], input=input_, text=True, capture_output=True\n",
    "    )\n",
    "    output = completed_process.stdout\n",
    "    return output\n",
    "\n",
    "\n",
    "def factorial(n):\n",
    "    factorial = 1\n",
    "    for i in range(1, n + 1):\n",
    "        factorial *= i\n",
    "    return factorial\n",
    "\n",
    "\n",
    "def get_pairwise_difference_matrix(array):\n",
    "    \"\"\"Returns matrix M[i, j] = a[i] - a[j].\"\"\"\n",
    "    pairwise_difference_matrix = array[:, None] - array[None, :]\n",
    "    return pairwise_difference_matrix\n",
    "\n",
    "\n",
    "def permute(array, first, second):\n",
    "    array[first], array[second] = array[second], array[first]\n",
    "\n",
    "def get_yadisk_download_url(\n",
    "    yadisk_url: str,\n",
    "    base_url=\"https://cloud-api.yandex.net/v1/disk/public/resources/download?\",\n",
    ") -> str:\n",
    "    final_url = base_url + urllib.parse.urlencode(dict(public_key=yadisk_url))\n",
    "    response = requests.get(final_url)\n",
    "    download_url = response.json()[\"href\"]\n",
    "    return download_url\n",
    "\n",
    "def write_url_response_content_to_file(url: str, filename: str) -> None:\n",
    "    download_response = requests.get(url)\n",
    "    with open(filename, \"wb\") as f:\n",
    "        f.write(download_response.content)\n",
    "        \n",
    "def set_torch_device_order_pci_bus():\n",
    "    os.environ[\"CUDA_DEVICE_ORDER\"] = \"PCI_BUS_ID\""
   ]
  },
  {
   "cell_type": "code",
   "execution_count": 4,
   "id": "c9574ca4",
   "metadata": {
    "ExecuteTime": {
     "end_time": "2023-07-03T06:43:25.013874Z",
     "start_time": "2023-07-03T06:43:25.012623Z"
    }
   },
   "outputs": [],
   "source": [
    "CPP_DIR = \"/Users/dimakoshman/CLionProjects/coderun_ml/cmake-build-debug\""
   ]
  },
  {
   "cell_type": "code",
   "execution_count": 5,
   "id": "121818d4",
   "metadata": {
    "ExecuteTime": {
     "end_time": "2023-07-03T06:43:25.018499Z",
     "start_time": "2023-07-03T06:43:25.014912Z"
    }
   },
   "outputs": [],
   "source": [
    "@dataclasses.dataclass\n",
    "class Timer:\n",
    "    enter_time: list[float] = dataclasses.field(default_factory=list)\n",
    "    exit_time: list[float] = dataclasses.field(default_factory=list)\n",
    "\n",
    "    def __enter__(self):\n",
    "        self.enter_time.append(time.time())\n",
    "        return self\n",
    "\n",
    "    def __exit__(self, *args, **kwargs):\n",
    "        self.exit_time.append(time.time())\n",
    "\n",
    "    def wrap(self, function: tp.Callable) -> tp.Callable:\n",
    "        @functools.wraps(function)\n",
    "        def wrapper(*args, **kwargs):\n",
    "            with self:\n",
    "                return function(*args, **kwargs)\n",
    "\n",
    "        return wrapper\n",
    "\n",
    "    def stats(self) -> dict[str, float]:\n",
    "        timings = [a - b for a, b in zip(self.exit_time, self.enter_time, strict=True)]\n",
    "        stats = dict(mean=np.mean(timings), std=np.std(timings), max=max(timings))\n",
    "        return stats\n",
    "\n",
    "    def formatted_stats(\n",
    "        self, time_unit: tp.Literal[\"ms\", \"s\"] = \"ms\", precision: int = 3\n",
    "    ) -> str:\n",
    "        formatted_stats: list[str] = []\n",
    "        for k, v in self.stats().items():\n",
    "            match time_unit:\n",
    "                case \"ms\":\n",
    "                    v *= 1000\n",
    "                case \"s\":\n",
    "                    pass\n",
    "                case _:\n",
    "                    raise ValueError(f\"Unknown time unit {time_unit}.\")\n",
    "            formatted_stats.append(f\"\\t{k}:\\t{v:.{precision}f} {time_unit}\")\n",
    "\n",
    "        formatted_stats = \"\\n\".join(formatted_stats)\n",
    "        return formatted_stats"
   ]
  },
  {
   "cell_type": "code",
   "execution_count": 6,
   "id": "e8f6e821",
   "metadata": {
    "ExecuteTime": {
     "end_time": "2023-07-03T06:43:25.025258Z",
     "start_time": "2023-07-03T06:43:25.019379Z"
    }
   },
   "outputs": [],
   "source": [
    "@dataclasses.dataclass\n",
    "class Input:\n",
    "    @staticmethod\n",
    "    def from_string_io(string_io: io.StringIO) -> Input:\n",
    "        raise NotImplementedError\n",
    "\n",
    "\n",
    "@dataclasses.dataclass\n",
    "class Output:\n",
    "    @staticmethod\n",
    "    def from_string_io(string_io: io.StringIO) -> Output:\n",
    "        raise NotImplementedError\n",
    "\n",
    "    def __str__(self) -> str:\n",
    "        raise NotImplementedError\n",
    "        \n",
    "    def __eq__(self, output_: Output) -> bool:\n",
    "        raise NotImplementedError\n",
    "\n",
    "\n",
    "def generate_random_input(test_case: int) -> Input | tp.Tuple[Input, Output]:\n",
    "    raise NotImplementedError\n",
    "\n",
    "\n",
    "def generate_stress_input() -> Input:\n",
    "    raise NotImplementedError\n",
    "\n",
    "\n",
    "def brute_force_solve(input_: Input) -> Output:\n",
    "    raise NotImplementedError\n",
    "\n",
    "\n",
    "def solve(input_: Input) -> Output:\n",
    "    raise NotImplementedError\n",
    "\n",
    "\n",
    "def cpp_solve(input_: Input) -> Output:\n",
    "    raise NotImplementedError\n",
    "    \n",
    "    \n",
    "def is_correct(input_: Input, output: Output, expected_output: Output|None):\n",
    "    if expected_output is not None:\n",
    "        try:\n",
    "            return expected_output == output\n",
    "        except NotImplementedError:\n",
    "            pass\n",
    "    raise NotImplementedError\n",
    "\n",
    "    \n",
    "def check(\n",
    "    solve: tp.Callable,\n",
    "    input_: Input | str,\n",
    "    expected_output: Output | str | None = None,\n",
    ") -> None:\n",
    "    if isinstance(input_, str):\n",
    "        input_ = Input.from_string_io(io.StringIO(input_))\n",
    "\n",
    "    output = solve(input_)\n",
    "\n",
    "    if isinstance(expected_output, str):\n",
    "        expected_output = Output.from_string_io(io.StringIO(expected_output))\n",
    "    if not is_correct(input_, output, expected_output):\n",
    "        message = f\"Wrong answer, input:\\n{input_}\\nOutput:\\n{output}\"\n",
    "        if expected_output is not None:\n",
    "            message += f\"\\nExpected output:\\n{expected_output}\"\n",
    "        raise RuntimeError(message)\n",
    "\n",
    "    try:\n",
    "        brute_force_output = brute_force_solve(input_)\n",
    "    except NotImplementedError:\n",
    "        pass\n",
    "    else:\n",
    "        if not is_correct(input_, output, brute_force_output):\n",
    "            raise RuntimeError(\n",
    "                f\"Wrong answer, brute force output:\\n{brute_force_output}\\nReceived:\\n{output}\"\n",
    "            )\n",
    "\n",
    "    try:\n",
    "        cpp_output = cpp_solve(input_)\n",
    "    except NotImplementedError:\n",
    "        pass\n",
    "    else:\n",
    "        if not is_correct(input_, output, cpp_output):\n",
    "            raise RuntimeError(\n",
    "                f\"Wrong answer, cpp output:\\n{cpp_output}\\nReceived:\\n{output}\"\n",
    "            )\n",
    "\n",
    "\n",
    "def simple_test():\n",
    "    #     check(solve, \"\"\"\"\"\", \"\"\"\"\"\")\n",
    "    #     check(solve, \"\"\"\"\"\", \"\"\"\"\"\")\n",
    "    #     check(solve, \"\"\"\"\"\", \"\"\"\"\"\")\n",
    "\n",
    "    print(\"Simple tests OK\")\n",
    "\n",
    "\n",
    "def random_test():\n",
    "    random_tests_timer = Timer()\n",
    "    timed_solve = random_tests_timer.wrap(solve)\n",
    "\n",
    "    for test_case in range(100):\n",
    "        match generate_random_input(test_case):\n",
    "            case input_, expected_output:\n",
    "                pass\n",
    "            case input_:\n",
    "                expected_output = None\n",
    "\n",
    "        check(solve=timed_solve, input_=input_, expected_output=expected_output)\n",
    "\n",
    "    print(f\"Random tests OK\\n{random_tests_timer.formatted_stats()}\")\n",
    "\n",
    "\n",
    "def stress_test():\n",
    "    stress_tests_timer = Timer()\n",
    "    timed_solve = stress_tests_timer.wrap(solve)\n",
    "\n",
    "    for _ in range(10):\n",
    "        input_ = generate_stress_input()\n",
    "        check(solve=timed_solve, input_=input_)\n",
    "\n",
    "    print(f\"Stress tests OK\\n{stress_tests_timer.formatted_stats()}\")\n",
    "\n",
    "\n",
    "def test():\n",
    "    simple_test()\n",
    "    random_test()\n",
    "    stress_test()\n",
    "\n",
    "\n",
    "def main():\n",
    "    print(solve(Input.from_string_io(sys.stdin)))"
   ]
  },
  {
   "cell_type": "markdown",
   "id": "b67d23b4",
   "metadata": {},
   "source": [
    "### [Интерполяция](https://coderun.yandex.ru/seasons/first_2023/tracks/ml/problem/interpolation?currentPage=2&pageSize=10&rowNumber=19)"
   ]
  },
  {
   "cell_type": "code",
   "execution_count": 49,
   "id": "b309b138",
   "metadata": {
    "ExecuteTime": {
     "end_time": "2023-06-28T08:01:37.626474Z",
     "start_time": "2023-06-28T08:01:37.611899Z"
    }
   },
   "outputs": [],
   "source": [
    "from __future__ import annotations\n",
    "import dataclasses\n",
    "import io\n",
    "import numpy as np\n",
    "import sklearn.pipeline\n",
    "import sklearn.preprocessing\n",
    "import sklearn.linear_model\n",
    "import sys\n",
    "import typing as tp\n",
    "\n",
    "\n",
    "@dataclasses.dataclass\n",
    "class Input:\n",
    "    x: tp.List[tp.List[float]]\n",
    "    y: tp.List[float]\n",
    "    test_x: tp.List[tp.List[float]]\n",
    "    \n",
    "    @staticmethod\n",
    "    def from_string_io(string_io: io.StringIO) -> Input:\n",
    "        x = []\n",
    "        y = []\n",
    "        for _ in range(1000):\n",
    "            line = list(map(float, string_io.readline().split()))\n",
    "            x.append(line[:-1])\n",
    "            y.append(line[-1])\n",
    "            \n",
    "        test_x = []\n",
    "        for _ in range(1000):\n",
    "            test_x.append(list(map(float, string_io.readline().split())))\n",
    "            \n",
    "        input_ = Input(x=x, y=y, test_x=test_x)\n",
    "        return input_\n",
    "\n",
    "\n",
    "@dataclasses.dataclass\n",
    "class Output:\n",
    "    test_y: tp.List[float]\n",
    "        \n",
    "    @staticmethod\n",
    "    def from_string_io(string_io: io.StringIO) -> Output:\n",
    "        test_y = []\n",
    "        for _ in range(1000):\n",
    "            test_y.append(float(string_io.readline()))\n",
    "            \n",
    "        output = Output(test_y=test_y)\n",
    "        return output\n",
    "\n",
    "    def __str__(self) -> str:\n",
    "        string = \"\\n\".join(map(str, self.test_y))\n",
    "        return string\n",
    "\n",
    "    def __eq__(self, output: Output)-> bool:\n",
    "        return np.isclose(self.test_y, output.test_y).all()\n",
    "        \n",
    "    \n",
    "def solve(input_: Input) -> Output:\n",
    "    x = np.array(input_.x)\n",
    "    y = np.array(input_.y)\n",
    "    test_x = np.array(input_.test_x)\n",
    "    \n",
    "    pipeline = sklearn.pipeline.Pipeline([\n",
    "        (\"polynomial_features\", sklearn.preprocessing.PolynomialFeatures()),\n",
    "        (\"linear_regression\", sklearn.linear_model.LinearRegression(fit_intercept=False)),]\n",
    "    )\n",
    "    pipeline.fit(x, y)\n",
    "    test_y = pipeline.predict(test_x)\n",
    "    output = Output(test_y=test_y)\n",
    "    return output\n",
    "\n",
    "\n",
    "def main():\n",
    "    print(solve(Input.from_string_io(sys.stdin)))"
   ]
  },
  {
   "cell_type": "code",
   "execution_count": 50,
   "id": "32189ddb",
   "metadata": {
    "ExecuteTime": {
     "end_time": "2023-06-28T08:01:37.844914Z",
     "start_time": "2023-06-28T08:01:37.839042Z"
    }
   },
   "outputs": [],
   "source": [
    "def generate_random_input(test_case: int) -> Input | tp.Tuple[Input, Output]:\n",
    "    parameters = np.random.uniform(-10, 10, size=21)\n",
    "    x = np.random.uniform(-1000, 1000, size=(1000, 5))\n",
    "    test_x = np.random.uniform(-1000, 1000, size=(1000, 5))\n",
    "    \n",
    "    polynomial_features = sklearn.preprocessing.PolynomialFeatures()\n",
    "    \n",
    "    y = polynomial_features.fit_transform(x) @ parameters\n",
    "    lines = []\n",
    "    for i in range(1000):\n",
    "        lines.append(\"\\t\".join(map(str, list(x[i]) + [y[i]])))\n",
    "    for i in range(1000):\n",
    "        lines.append(\"\\t\".join(map(str, test_x[i])))\n",
    "    string = \"\\n\".join(lines)\n",
    "    input_ = Input.from_string_io(io.StringIO(string))\n",
    "    \n",
    "    test_y = polynomial_features.transform(test_x) @ parameters\n",
    "    output = Output(test_y=test_y)\n",
    "    return input_, output\n",
    "    "
   ]
  },
  {
   "cell_type": "code",
   "execution_count": 51,
   "id": "ef2144be",
   "metadata": {
    "ExecuteTime": {
     "end_time": "2023-06-28T08:01:47.708388Z",
     "start_time": "2023-06-28T08:01:38.949917Z"
    }
   },
   "outputs": [
    {
     "name": "stdout",
     "output_type": "stream",
     "text": [
      "Random tests OK\n",
      "\tmean:\t48.628 ms\n",
      "\tstd:\t34.526 ms\n",
      "\tmax:\t189.299 ms\n"
     ]
    }
   ],
   "source": [
    "random_test()"
   ]
  },
  {
   "cell_type": "markdown",
   "id": "0c18cef4",
   "metadata": {},
   "source": [
    "### [D-CoV-3999](https://coderun.yandex.ru/seasons/first_2023/tracks/ml/problem/dcov3999?currentPage=2&pageSize=10&rowNumber=20)"
   ]
  },
  {
   "cell_type": "code",
   "execution_count": 115,
   "id": "fd2faa93",
   "metadata": {
    "ExecuteTime": {
     "end_time": "2023-06-28T09:15:26.847432Z",
     "start_time": "2023-06-28T09:15:26.832163Z"
    }
   },
   "outputs": [],
   "source": [
    "from __future__ import annotations\n",
    "import dataclasses\n",
    "import heapq\n",
    "import io\n",
    "import numpy as np\n",
    "import sys\n",
    "import typing as tp\n",
    "\n",
    "\n",
    "@dataclasses.dataclass\n",
    "class Input:\n",
    "    is_sick: tp.List[int]\n",
    "    meetings: tp.List[tp.List[int]]\n",
    "    \n",
    "    @staticmethod\n",
    "    def from_string_io(string_io: io.StringIO) -> Input:\n",
    "        n_workers = int(string_io.readline())\n",
    "        is_sick = list(map(int, string_io.readline().split()))\n",
    "        meetings = []\n",
    "        for _ in range(n_workers):\n",
    "            m = list(map(int, string_io.readline().split()))\n",
    "            meetings.append(m[1:])\n",
    "            \n",
    "        input_ = Input(is_sick=is_sick, meetings=meetings)\n",
    "        return input_\n",
    "\n",
    "\n",
    "@dataclasses.dataclass\n",
    "class Output:\n",
    "    is_sick: tp.List[int]\n",
    "        \n",
    "    @staticmethod\n",
    "    def from_string_io(string_io: io.StringIO) -> Output:\n",
    "        is_sick = list(map(int, string_io.readline().split()))\n",
    "        output = Output(is_sick=is_sick)\n",
    "        return output\n",
    "\n",
    "    def __str__(self) -> str:\n",
    "        string = \" \".join(map(str, self.is_sick))\n",
    "        return string\n",
    "\n",
    "    def __eq__(self, output: Output)-> bool:\n",
    "        return all(i == j for i, j in zip(self.is_sick, output.is_sick))\n",
    "        \n",
    "    \n",
    "def solve(input_: Input) -> Output:\n",
    "    is_sick = np.array(input_.is_sick, dtype=bool)\n",
    "    next_meeting_heap = []\n",
    "    meetings = input_.meetings\n",
    "    for i, meeting in enumerate(meetings):\n",
    "        meetings[i] = sorted(meeting, reverse=True)\n",
    "        if meetings[i]:\n",
    "            next_meeting = meetings[i].pop()\n",
    "            heapq.heappush(next_meeting_heap, (next_meeting, i))\n",
    "    \n",
    "    while next_meeting_heap:\n",
    "        meeting = next_meeting_heap[0][0]\n",
    "        attended_workers = []\n",
    "        infect = False\n",
    "        while next_meeting_heap and next_meeting_heap[0][0] == meeting:\n",
    "            _, worker = heapq.heappop(next_meeting_heap)\n",
    "            attended_workers.append(worker)\n",
    "            if is_sick[worker]:\n",
    "                infect = True\n",
    "            if meetings[worker]:\n",
    "                next_meeting = meetings[worker].pop()\n",
    "                heapq.heappush(next_meeting_heap, (next_meeting, worker))\n",
    "        \n",
    "        if infect:\n",
    "            is_sick[attended_workers] = True\n",
    "    \n",
    "    output = Output(is_sick=is_sick.astype(int))\n",
    "    return output\n",
    "\n",
    "\n",
    "def main():\n",
    "    print(solve(Input.from_string_io(sys.stdin)))"
   ]
  },
  {
   "cell_type": "code",
   "execution_count": 116,
   "id": "0dabc9a3",
   "metadata": {
    "ExecuteTime": {
     "end_time": "2023-06-28T09:15:27.277311Z",
     "start_time": "2023-06-28T09:15:27.274640Z"
    }
   },
   "outputs": [],
   "source": [
    "def simple_test():\n",
    "    check(solve, \"\"\"4\n",
    "    1 0 0 1\n",
    "    1 1\n",
    "    1 1\n",
    "    0\n",
    "    0\"\"\", \"\"\"1 1 0 1\"\"\")\n",
    "\n",
    "    print(\"Simple tests OK\")"
   ]
  },
  {
   "cell_type": "code",
   "execution_count": 117,
   "id": "6ec8ddb6",
   "metadata": {
    "ExecuteTime": {
     "end_time": "2023-06-28T09:15:27.874274Z",
     "start_time": "2023-06-28T09:15:27.871457Z"
    }
   },
   "outputs": [
    {
     "name": "stdout",
     "output_type": "stream",
     "text": [
      "Simple tests OK\n"
     ]
    }
   ],
   "source": [
    "simple_test()"
   ]
  },
  {
   "cell_type": "markdown",
   "id": "4fbba80e",
   "metadata": {},
   "source": [
    "### [Канатная дорога](https://coderun.yandex.ru/seasons/first_2023/tracks/ml/problem/cable-car?currentPage=3&pageSize=10&rowNumber=21)"
   ]
  },
  {
   "cell_type": "code",
   "execution_count": 298,
   "id": "8147d92c",
   "metadata": {
    "ExecuteTime": {
     "end_time": "2023-06-28T11:52:23.135792Z",
     "start_time": "2023-06-28T11:52:23.118517Z"
    }
   },
   "outputs": [],
   "source": [
    "from __future__ import annotations\n",
    "import dataclasses\n",
    "import io\n",
    "import numpy as np\n",
    "import sys\n",
    "import typing as tp\n",
    "\n",
    "\n",
    "@dataclasses.dataclass\n",
    "class Input:\n",
    "    mountains: tp.List[tp.Tuple[int, int]]\n",
    "    \n",
    "    @staticmethod\n",
    "    def from_string_io(string_io: io.StringIO) -> Input:\n",
    "        n_mountains = int(string_io.readline())\n",
    "        mountains = []\n",
    "        for _ in range(n_mountains):\n",
    "            x, y = map(float, string_io.readline().split())\n",
    "            mountains.append((x, y))\n",
    "            \n",
    "        input_ = Input(mountains=mountains)\n",
    "        return input_\n",
    "\n",
    "\n",
    "@dataclasses.dataclass\n",
    "class Output:\n",
    "    total_length: float\n",
    "\n",
    "    def __str__(self) -> str:\n",
    "        string = str(self.total_length)\n",
    "        return string\n",
    "        \n",
    "    \n",
    "def solve(input_: Input) -> Output:\n",
    "    total_length = 0\n",
    "    decreasing_mountains = []\n",
    "    for i, ((prev_x, prev_y), (x, y)) in enumerate(zip([(0, 0)] + input_.mountains, input_.mountains)):\n",
    "        total_length += ((x - prev_x)**2 + (y - prev_y)**2)**0.5\n",
    "        \n",
    "        while decreasing_mountains and input_.mountains[decreasing_mountains[-1]][1] <= y:\n",
    "            if decreasing_mountains[-1] < i - 1:\n",
    "                from_x, from_y = input_.mountains[decreasing_mountains[-1]]\n",
    "                total_length += ((x - from_x)**2 + (y - from_y)**2)**0.5\n",
    "            decreasing_mountains.pop()\n",
    "            \n",
    "        decreasing_mountains.append(i)\n",
    "            \n",
    "    output = Output(total_length=total_length)\n",
    "    return output\n",
    "\n",
    "\n",
    "def main():\n",
    "    print(solve(Input.from_string_io(sys.stdin)))"
   ]
  },
  {
   "cell_type": "code",
   "execution_count": 302,
   "id": "1d6358e8",
   "metadata": {
    "ExecuteTime": {
     "end_time": "2023-06-28T11:53:22.956698Z",
     "start_time": "2023-06-28T11:53:22.953506Z"
    }
   },
   "outputs": [
    {
     "name": "stdout",
     "output_type": "stream",
     "text": [
      "31.710272946224936\n"
     ]
    }
   ],
   "source": [
    "print(solve(Input.from_string_io(io.StringIO(\"\"\"6\n",
    "3 2\n",
    "5 1\n",
    "7 4\n",
    "9 3\n",
    "11 7\n",
    "12 1\"\"\"))))"
   ]
  },
  {
   "cell_type": "markdown",
   "id": "5a50e6b6",
   "metadata": {},
   "source": [
    "### [Оптимальная константа](https://coderun.yandex.ru/seasons/first_2023/tracks/ml/problem/optimal-constant?currentPage=3&pageSize=10&rowNumber=22)"
   ]
  },
  {
   "cell_type": "code",
   "execution_count": 339,
   "id": "37f3e9d2",
   "metadata": {
    "ExecuteTime": {
     "end_time": "2023-06-28T13:55:41.300957Z",
     "start_time": "2023-06-28T13:55:41.289484Z"
    }
   },
   "outputs": [],
   "source": [
    "from __future__ import annotations\n",
    "import dataclasses\n",
    "import io\n",
    "import numpy as np\n",
    "import sys\n",
    "import typing as tp\n",
    "\n",
    "\n",
    "@dataclasses.dataclass\n",
    "class Input:\n",
    "    x: tp.List[int]\n",
    "    \n",
    "    @staticmethod\n",
    "    def from_string_io(string_io: io.StringIO) -> Input:\n",
    "        n = int(string_io.readline())\n",
    "        x = []\n",
    "        for _ in range(n):\n",
    "            x.append(int(string_io.readline()))\n",
    "            \n",
    "        input_ = Input(x=x)\n",
    "        return input_\n",
    "\n",
    "\n",
    "@dataclasses.dataclass\n",
    "class Output:\n",
    "    mse_estimate: float\n",
    "    mae_estimate: float\n",
    "    mape_estimate: float\n",
    "        \n",
    "    @staticmethod\n",
    "    def from_string_io(string_io: io.StringIO) -> Output:\n",
    "        mse_estimate, mae_estimate, mape_estimate = map(float, string_io.read().split())\n",
    "        output = Output(mse_estimate, mae_estimate, mape_estimate)\n",
    "        return output\n",
    "\n",
    "    def __str__(self) -> str:\n",
    "        string = \"\\n\".join(map(str, [self.mse_estimate, self.mae_estimate, self.mape_estimate]))\n",
    "        return string\n",
    "\n",
    "    def __eq__(self, output: Output)-> bool:\n",
    "        raise NotImplementedError\n",
    "    \n",
    "def solve(input_: Input) -> Output:\n",
    "    x = np.array(input_.x)\n",
    "    x.sort()\n",
    "    mse_estimate = x.mean()\n",
    "    mae_estimate = x[len(x) // 2]\n",
    "    harmonic = (1 / x).sum()\n",
    "    harmonic_prefix_sum = 0\n",
    "    i = 0\n",
    "    while 2 * harmonic_prefix_sum < harmonic:\n",
    "        harmonic_prefix_sum += 1 / x[i]\n",
    "        i += 1\n",
    "    mape_estimate = x[i - 1]\n",
    "    output = Output(mse_estimate, mae_estimate, mape_estimate)\n",
    "    return output\n",
    "\n",
    "\n",
    "def main():\n",
    "    print(solve(Input.from_string_io(sys.stdin)))"
   ]
  },
  {
   "cell_type": "code",
   "execution_count": 340,
   "id": "232ff804",
   "metadata": {
    "ExecuteTime": {
     "end_time": "2023-06-28T13:55:41.513973Z",
     "start_time": "2023-06-28T13:55:41.508019Z"
    }
   },
   "outputs": [],
   "source": [
    "def is_correct(input_: Input, output: Output, expected_output: Output|None):\n",
    "    if expected_output is None:\n",
    "        raise NotImplementedError\n",
    "        \n",
    "    x = np.array(input_.x)\n",
    "    mse = ((x - output.mse_estimate)**2).sum()\n",
    "    mae = np.abs(x - output.mae_estimate).sum()\n",
    "    mape = np.abs((x - output.mape_estimate) / x).sum()\n",
    "    \n",
    "    expected_mse = ((x - expected_output.mse_estimate)**2).sum()\n",
    "    expected_mae = np.abs(x - expected_output.mae_estimate).sum()\n",
    "    expected_mape = np.abs((x - expected_output.mape_estimate) / x).sum()\n",
    "    \n",
    "    return np.isclose([mse, mae, mape], [expected_mse, expected_mae, expected_mape]).all()\n",
    "    \n",
    "    \n",
    "def simple_test():\n",
    "    check(solve, \"\"\"5\n",
    "        6\n",
    "        4\n",
    "        3\n",
    "        5\n",
    "        3\"\"\", \"\"\"4.2\n",
    "        4\n",
    "        3\"\"\")\n",
    "    \n",
    "    check(solve, \"\"\"4\n",
    "        10\n",
    "        100\n",
    "        10\n",
    "        100\"\"\", \"\"\"55\n",
    "        100\n",
    "        10\"\"\")\n",
    "\n",
    "    check(solve, \"\"\"5\n",
    "        10\n",
    "        1\n",
    "        3\n",
    "        4\n",
    "        2\"\"\", \"\"\"4\n",
    "        3\n",
    "        2\"\"\")\n",
    "\n",
    "    print(\"Simple tests OK\")"
   ]
  },
  {
   "cell_type": "code",
   "execution_count": 341,
   "id": "b4daaaed",
   "metadata": {
    "ExecuteTime": {
     "end_time": "2023-06-28T13:55:41.739207Z",
     "start_time": "2023-06-28T13:55:41.733524Z"
    }
   },
   "outputs": [
    {
     "name": "stdout",
     "output_type": "stream",
     "text": [
      "Simple tests OK\n"
     ]
    }
   ],
   "source": [
    "simple_test()"
   ]
  },
  {
   "cell_type": "markdown",
   "id": "8d401155",
   "metadata": {},
   "source": [
    "### [Исчезнувшая](https://coderun.yandex.ru/seasons/first_2023/tracks/ml/problem/in-search-of-kitty?currentPage=3&pageSize=10&rowNumber=23)"
   ]
  },
  {
   "cell_type": "code",
   "execution_count": 557,
   "id": "d459f79d",
   "metadata": {
    "ExecuteTime": {
     "end_time": "2023-06-29T08:08:29.700492Z",
     "start_time": "2023-06-29T08:08:29.672497Z"
    }
   },
   "outputs": [],
   "source": [
    "from __future__ import annotations\n",
    "import dataclasses\n",
    "import io\n",
    "import numpy as np\n",
    "import sys\n",
    "import typing as tp\n",
    "\n",
    "\n",
    "@dataclasses.dataclass\n",
    "class Input:\n",
    "    template: np.ndarray\n",
    "    photo: np.ndarray\n",
    "    \n",
    "    @staticmethod\n",
    "    def from_string_io(string_io: io.StringIO) -> Input:\n",
    "        n, m = map(int, string_io.readline().split())\n",
    "        template = np.zeros((n, m), dtype=int)\n",
    "        for i in range(n):\n",
    "            template[i] = [ord(i) for i in string_io.readline().strip(\"\\n\")]\n",
    "        \n",
    "        n, m = map(int, string_io.readline().split())\n",
    "        photo = np.zeros((n, m), dtype=int)\n",
    "        for i in range(n):\n",
    "            photo[i] = [ord(i) for i in string_io.readline().strip(\"\\n\")]\n",
    "            \n",
    "        input_ = Input(template=template, photo=photo)\n",
    "        return input_\n",
    "\n",
    "\n",
    "@dataclasses.dataclass\n",
    "class Output:\n",
    "    answer: str\n",
    "        \n",
    "    @staticmethod\n",
    "    def from_string_io(string_io: io.StringIO) -> Output:\n",
    "        answer = string_io.read().strip()\n",
    "        output = Output(answer=answer)\n",
    "        return output\n",
    "\n",
    "    def __str__(self) -> str:\n",
    "        string = self.answer\n",
    "        return string\n",
    "\n",
    "    def __eq__(self, output: Output)-> bool:\n",
    "        return self.answer == output.answer\n",
    "\n",
    "    \n",
    "class IncrementalHash:\n",
    "    def __init__(self, n, m, size=1_000_003):\n",
    "        self.n = n\n",
    "        self.m = m\n",
    "        self.size = size\n",
    "        self.base = np.random.randint(2, size)\n",
    "        self.base_matrix = np.zeros((n, m), dtype=int)\n",
    "        x = 1\n",
    "        for i in range(n - 1, -1, -1):\n",
    "            for j in range(m - 1, -1, -1):\n",
    "                self.base_matrix[i][j] = x\n",
    "                x = x * self.base % self.size\n",
    "                \n",
    "    def __call__(self, matrix, x, y):\n",
    "        matrix = matrix[x: x + self.n, y: y + self.m]\n",
    "        hash_value = (matrix * self.base_matrix).sum() % self.size\n",
    "        return hash_value\n",
    "    \n",
    "    def increment_col(self, matrix, hash_value, x, y):\n",
    "        hash_value -= matrix[x: x + self.n, y] @ self.base_matrix[:, 0]\n",
    "        hash_value %= self.size\n",
    "        hash_value *= self.base\n",
    "        hash_value += matrix[x: x + self.n, y + self.m] @ self.base_matrix[:, -1]\n",
    "        hash_value %= self.size\n",
    "        return hash_value\n",
    "    \n",
    "    def increment_row(self, matrix, hash_value, x, y):\n",
    "        hash_value -= matrix[x, y: y + self.m] @ self.base_matrix[0, :]\n",
    "        hash_value %= self.size\n",
    "        hash_value *= self.base_matrix[-1, 0] * self.base\n",
    "        hash_value += matrix[x + self.n, y: y + self.m] @ self.base_matrix[-1, :]\n",
    "        hash_value %= self.size\n",
    "        return hash_value\n",
    "        \n",
    "        \n",
    "def solve(input_: Input) -> Output:\n",
    "    photo = input_.photo\n",
    "    photo_n, photo_m = photo.shape\n",
    "    \n",
    "    for k in range(4):\n",
    "        template = np.rot90(input_.template, k=k)\n",
    "        n, m = template.shape\n",
    "        if photo_n < n or photo_m < m:\n",
    "            continue\n",
    "            \n",
    "        incremental_hash = IncrementalHash(n=n, m=m)\n",
    "        template_hash = incremental_hash(template, 0, 0)\n",
    "        photo_hash = incremental_hash(photo, 0, 0)\n",
    "        \n",
    "        for x in range(photo_n - n + 1):\n",
    "            col_hash = photo_hash\n",
    "            for y in range(photo_m - m + 1):\n",
    "                if template_hash == col_hash and np.all(template == photo[x: x + n, y: y + m]):\n",
    "                    return Output(answer=\"Yes\")\n",
    "                if y + m < photo_m:\n",
    "                    col_hash = incremental_hash.increment_col(photo, col_hash, x, y)\n",
    "                    \n",
    "            if x + n < photo_n:\n",
    "                photo_hash = incremental_hash.increment_row(photo, photo_hash, x, 0)   \n",
    "    \n",
    "    return Output(answer=\"No\")\n",
    "\n",
    "\n",
    "def main():\n",
    "    print(solve(Input.from_string_io(sys.stdin)))"
   ]
  },
  {
   "cell_type": "code",
   "execution_count": 558,
   "id": "bb7b2065",
   "metadata": {
    "ExecuteTime": {
     "end_time": "2023-06-29T08:08:30.010964Z",
     "start_time": "2023-06-29T08:08:30.003986Z"
    }
   },
   "outputs": [],
   "source": [
    "def is_correct(input_: Input, output: Output, expected_output: Output|None):\n",
    "    if expected_output is not None:\n",
    "        return expected_output == output\n",
    "    raise NotImplementedError\n",
    "    \n",
    "    \n",
    "def simple_test():\n",
    "    check(solve, \"\"\"17 32\n",
    "################################\n",
    "       _                        \n",
    "       \\`*-.                    \n",
    "        )  _`-.                 \n",
    "       .  : `. .                \n",
    "       : _   '  \\               \n",
    "       ; *` _.   `*-._          \n",
    "       `-.-'          `-.       \n",
    "         ;       `       `.     \n",
    "         :.       .        \\    \n",
    "         . \\  .   :   .-'   .   \n",
    "         '  `+.;  ;  '      :   \n",
    "         :  '  |    ;       ;-. \n",
    "         ; '   : :`-:     _.`* ;\n",
    "     .*' /  .*' ; .*`- +'  `*'  \n",
    "      `*-*   `*-*  `*-*'########\n",
    "################################\n",
    "17 32\n",
    "################################\n",
    "       _                        \n",
    "       \\`*-.                    \n",
    "        )  _`-.                 \n",
    "       .  : `. .                \n",
    "       : _   '  \\               \n",
    "       ; *` _.   `*-._          \n",
    "       `-.-'          `-.       \n",
    "         ;       `       `.     \n",
    "         :.       .        \\    \n",
    "         . \\  .   :   .-'   .   \n",
    "         '  `+.;  ;  '      :   \n",
    "         :  '  |    ;       ;-. \n",
    "         ; '   : :`-:     _.`* ;\n",
    "     .*' /  .*' ; .*`- +'  `*'  \n",
    "      `*-*   `*-*  `*-*'########\n",
    "################################\"\"\", \"Yes\")\n",
    "    \n",
    "    check(solve, \"\"\"12 12\n",
    "            \n",
    "      #     \n",
    "     ###    \n",
    "    #####   \n",
    "     ###    \n",
    "    #####   \n",
    "   #######  \n",
    "  ######### \n",
    " ###########\n",
    "     ###    \n",
    "     ###    \n",
    "            \n",
    "12 12\n",
    "            \n",
    "    ###     \n",
    "    ###     \n",
    "########### \n",
    " #########  \n",
    "  #######   \n",
    "   #####    \n",
    "    ###     \n",
    "   #####    \n",
    "    ###     \n",
    "     #      \n",
    "            \"\"\", \"Yes\")\n",
    "    \n",
    "    check(solve, \"\"\"12 12\n",
    "            \n",
    "      #     \n",
    "     ###    \n",
    "    #####   \n",
    "     ###    \n",
    "    #####   \n",
    "   #######  \n",
    "  ######### \n",
    " ###########\n",
    "     ###    \n",
    "     ###    \n",
    "            \n",
    "12 12\n",
    "            \n",
    "    ###     \n",
    "    ###     \n",
    "########### \n",
    " ####1####  \n",
    "  #######   \n",
    "   #####    \n",
    "    ###     \n",
    "   #####    \n",
    "    ###     \n",
    "     #      \n",
    "            \"\"\", \"No\")\n",
    "    \n",
    "    check(solve, \"\"\"1 1\n",
    "#\n",
    "1 1\n",
    "#\"\"\", \"Yes\")\n",
    "    \n",
    "    check(solve, \"\"\"1 1\n",
    "#\n",
    "1 1\n",
    ".\"\"\", \"No\")\n",
    "    \n",
    "    check(solve, \"\"\"1 1\n",
    "#\n",
    "3 3\n",
    "...\n",
    ".#.\n",
    "...\n",
    "\"\"\", \"Yes\")\n",
    "    \n",
    "    check(solve, \"\"\"1 1\n",
    "#\n",
    "3 3\n",
    "...\n",
    "...\n",
    "...\n",
    "\"\"\", \"No\")\n",
    "    check(solve, \"\"\"1 2\n",
    "##\n",
    "3 3\n",
    "...\n",
    ".#.\n",
    ".#.\n",
    "\"\"\", \"Yes\")\n",
    "    check(solve, \"\"\"1 2\n",
    "##\n",
    "3 3\n",
    "...\n",
    ".#.\n",
    "#..\n",
    "\"\"\", \"No\")\n",
    "\n",
    "    print(\"Simple tests OK\")"
   ]
  },
  {
   "cell_type": "code",
   "execution_count": 574,
   "id": "9eb4187a",
   "metadata": {
    "ExecuteTime": {
     "end_time": "2023-06-29T08:08:33.853677Z",
     "start_time": "2023-06-29T08:08:33.845198Z"
    }
   },
   "outputs": [
    {
     "name": "stdout",
     "output_type": "stream",
     "text": [
      "Simple tests OK\n"
     ]
    }
   ],
   "source": [
    "simple_test()"
   ]
  },
  {
   "cell_type": "markdown",
   "id": "9caf3bd3",
   "metadata": {},
   "source": [
    "### [Бутылки рома](https://coderun.yandex.ru/seasons/first_2023/tracks/ml/problem/bottles-of-rum?currentPage=3&pageSize=10&rowNumber=24)"
   ]
  },
  {
   "cell_type": "code",
   "execution_count": 595,
   "id": "8726c123",
   "metadata": {
    "ExecuteTime": {
     "end_time": "2023-06-29T09:25:39.039197Z",
     "start_time": "2023-06-29T09:25:39.028188Z"
    }
   },
   "outputs": [],
   "source": [
    "from __future__ import annotations\n",
    "import collections\n",
    "import dataclasses\n",
    "import functools\n",
    "import io\n",
    "import numpy as np\n",
    "import sys\n",
    "import typing as tp\n",
    "\n",
    "\n",
    "@dataclasses.dataclass\n",
    "class Input:\n",
    "    letters: str\n",
    "    \n",
    "    @staticmethod\n",
    "    def from_string_io(string_io: io.StringIO) -> Input:\n",
    "        letters = string_io.readline().strip()\n",
    "        input_ = Input(letters=letters)\n",
    "        return input_\n",
    "\n",
    "\n",
    "@dataclasses.dataclass\n",
    "class Output:\n",
    "    n_words: int\n",
    "        \n",
    "    @staticmethod\n",
    "    def from_string_io(string_io: io.StringIO) -> Output:\n",
    "        n_words = int(string_io.readline())\n",
    "        output = Output(n_words=n_words)\n",
    "        return output\n",
    "\n",
    "    def __str__(self) -> str:\n",
    "        string = str(self.n_words)\n",
    "        return string\n",
    "\n",
    "    def __eq__(self, output: Output)-> bool:\n",
    "        return self.n_words == output.n_words\n",
    "\n",
    "@functools.lru_cache\n",
    "def count_words(letters_count) -> int:\n",
    "    count = 1\n",
    "    for s, n_sets in enumerate(letters_count):\n",
    "        if n_sets > 0:\n",
    "            count += n_sets * count_words(tuple(\n",
    "                c + 1 if i == s - 1 else (c - 1 if i == s else c) for i, c in enumerate(letters_count)))\n",
    "    return count\n",
    "    \n",
    "        \n",
    "def solve(input_: Input) -> Output:\n",
    "    letters_count = [0] * 10\n",
    "    for k, v in collections.Counter(input_.letters).items():\n",
    "        letters_count[v - 1] += 1\n",
    "    n_words = count_words(tuple(letters_count)) - 1\n",
    "    output = Output(n_words=n_words)\n",
    "    return output\n",
    "\n",
    "\n",
    "def main():\n",
    "    print(solve(Input.from_string_io(sys.stdin)))"
   ]
  },
  {
   "cell_type": "code",
   "execution_count": 596,
   "id": "bbc9007a",
   "metadata": {
    "ExecuteTime": {
     "end_time": "2023-06-29T09:25:39.631532Z",
     "start_time": "2023-06-29T09:25:39.627581Z"
    }
   },
   "outputs": [],
   "source": [
    "def is_correct(input_: Input, output: Output, expected_output: Output|None):\n",
    "    if expected_output is not None:\n",
    "        return expected_output == output\n",
    "    raise NotImplementedError\n",
    "    \n",
    "    \n",
    "def simple_test():\n",
    "    check(solve, \"\"\"AB\"\"\", \"4\")\n",
    "    check(solve, \"\"\"AAB\"\"\", \"8\")\n",
    "    check(solve, \"\"\"AA\"\"\", \"2\")\n",
    "    check(solve, \"\"\"ABC\"\"\", \"15\")\n",
    "    \n",
    "    print(\"Simple tests OK\")"
   ]
  },
  {
   "cell_type": "code",
   "execution_count": 597,
   "id": "9bbc9655",
   "metadata": {
    "ExecuteTime": {
     "end_time": "2023-06-29T09:25:39.854306Z",
     "start_time": "2023-06-29T09:25:39.851213Z"
    }
   },
   "outputs": [
    {
     "name": "stdout",
     "output_type": "stream",
     "text": [
      "Simple tests OK\n"
     ]
    }
   ],
   "source": [
    "simple_test()"
   ]
  },
  {
   "cell_type": "markdown",
   "id": "69e1db76",
   "metadata": {},
   "source": [
    "### [Оптимальная константа 2.0](https://coderun.yandex.ru/seasons/first_2023/tracks/ml/problem/happiness?currentPage=3&pageSize=10&rowNumber=26)"
   ]
  },
  {
   "cell_type": "code",
   "execution_count": 607,
   "id": "c46ffa0c",
   "metadata": {
    "ExecuteTime": {
     "end_time": "2023-06-29T12:45:34.208469Z",
     "start_time": "2023-06-29T12:45:34.192138Z"
    }
   },
   "outputs": [],
   "source": [
    "from __future__ import annotations\n",
    "import dataclasses\n",
    "import io\n",
    "import numpy as np\n",
    "import sys\n",
    "import typing as tp\n",
    "\n",
    "\n",
    "@dataclasses.dataclass\n",
    "class Input:\n",
    "    a: tp.List[float]\n",
    "    b: tp.List[float]\n",
    "    \n",
    "    @staticmethod\n",
    "    def from_string_io(string_io: io.StringIO) -> Input:\n",
    "        n_samples, n_features = map(int, string_io.readline().split())\n",
    "        a = []\n",
    "        b = []\n",
    "        for _ in range(n_samples):\n",
    "            line = list(map(float, string_io.readline().split()))\n",
    "            a.append(line[-2])\n",
    "            b.append(line[-1])\n",
    "            \n",
    "        input_ = Input(a=a, b=b)\n",
    "        return input_\n",
    "\n",
    "\n",
    "@dataclasses.dataclass\n",
    "class Output:\n",
    "    mse_pred: float\n",
    "    msle_pred: float\n",
    "    logloss_pres: float\n",
    "        \n",
    "    @staticmethod\n",
    "    def from_string_io(string_io: io.StringIO) -> Output:\n",
    "        preds = map(float, string_io.readline().split())\n",
    "        output = Output(*preds)\n",
    "        return output\n",
    "\n",
    "    def __str__(self) -> str:\n",
    "        string = \" \".join(str(i) for i in [self.mse_pred, self.msle_pred, self.logloss_pres])\n",
    "        return string\n",
    "\n",
    "    def __eq__(self, output: Output)-> bool:\n",
    "        return np.all(np.isclose([self.mse_pred, self.msle_pred, self.logloss_pres],\n",
    "                                 [output.mse_pred, output.msle_pred, output.logloss_pres]\n",
    "                                ))\n",
    "\n",
    "        \n",
    "def solve(input_: Input) -> Output:\n",
    "    a = np.array(input_.a)\n",
    "    b = np.array(input_.b)\n",
    "    mse_pred = a.sum() / b.sum()\n",
    "    msle_pred = np.exp((b * np.log(1 + a / b)).sum() / b.sum()) - 1\n",
    "    logloss_pres = mse_pred\n",
    "    output = Output(mse_pred, msle_pred, logloss_pres)\n",
    "    return output\n",
    "\n",
    "\n",
    "def main():\n",
    "    print(solve(Input.from_string_io(sys.stdin)))"
   ]
  },
  {
   "cell_type": "code",
   "execution_count": 608,
   "id": "db3e23ec",
   "metadata": {
    "ExecuteTime": {
     "end_time": "2023-06-29T12:45:34.391759Z",
     "start_time": "2023-06-29T12:45:34.388157Z"
    }
   },
   "outputs": [],
   "source": [
    "def is_correct(input_: Input, output: Output, expected_output: Output|None):\n",
    "    if expected_output is not None:\n",
    "        return expected_output == output\n",
    "    raise NotImplementedError\n",
    "    \n",
    "    \n",
    "def simple_test():\n",
    "    check(solve, \"\"\"5 1\n",
    "        5.66192 6.322711 121.257938\n",
    "        3.049585 5.285749 46.892782\n",
    "        0.227632 4.771393 9.516171\n",
    "        145.759519 5.320249 28.646039\n",
    "        22.774692 13.604903 36.033962\"\"\",\n",
    "          \"0.14568 0.138623 0.14568\")\n",
    "\n",
    "    \n",
    "    print(\"Simple tests OK\")"
   ]
  },
  {
   "cell_type": "code",
   "execution_count": 609,
   "id": "237317cb",
   "metadata": {
    "ExecuteTime": {
     "end_time": "2023-06-29T12:45:34.572343Z",
     "start_time": "2023-06-29T12:45:34.569374Z"
    }
   },
   "outputs": [
    {
     "name": "stdout",
     "output_type": "stream",
     "text": [
      "Simple tests OK\n"
     ]
    }
   ],
   "source": [
    "simple_test()"
   ]
  },
  {
   "cell_type": "markdown",
   "id": "b8293164",
   "metadata": {},
   "source": [
    "### [Многорукий бандит](https://coderun.yandex.ru/seasons/first_2023/tracks/ml/problem/multiarmed-bandit?currentPage=3&pageSize=10&rowNumber=27)"
   ]
  },
  {
   "cell_type": "code",
   "execution_count": 754,
   "id": "647c9d31",
   "metadata": {
    "ExecuteTime": {
     "end_time": "2023-06-30T08:46:44.774643Z",
     "start_time": "2023-06-30T08:46:44.766156Z"
    }
   },
   "outputs": [],
   "source": [
    "from __future__ import annotations\n",
    "import dataclasses\n",
    "import io\n",
    "import numpy as np\n",
    "import scipy.special\n",
    "import sys\n",
    "import typing as tp\n",
    "\n",
    "\n",
    "def request(machine:int) -> bool:\n",
    "    print(machine + 1)\n",
    "    sys.stdout.flush()\n",
    "    has_won = bool(int(input()))\n",
    "    return has_won\n",
    "\n",
    "\n",
    "def expected_win_streak_length(wins, losses, n_rounds, alpha, beta):\n",
    "    return ((scipy.special.beta(wins + alpha + 1, losses + beta - 1) - \n",
    "            scipy.special.beta(wins + alpha + n_rounds + 1, losses + beta - 1)) /\n",
    "            scipy.special.beta(wins + alpha, losses + beta))\n",
    "\n",
    "\n",
    "def play(alpha:float, beta:float, n_rounds:int, n_machines:int):\n",
    "    wins = np.zeros(n_machines)\n",
    "    losses = np.zeros(n_machines)\n",
    "    n_exploration_rounds = n_rounds // 4\n",
    "    n_exploitation_rounds = n_rounds - n_exploration_rounds\n",
    "    \n",
    "    while n_rounds > 0:\n",
    "        if n_rounds > n_exploitation_rounds:\n",
    "            machine = (wins + losses * 2).argmin()\n",
    "        else:\n",
    "            machine = ((wins + alpha) / (wins + alpha + losses + beta)).argmax()\n",
    "        \n",
    "        while n_rounds > 0 and request(machine):\n",
    "            wins[machine] += 1\n",
    "            n_rounds -= 1\n",
    "        n_rounds -= 1\n",
    "        losses[machine] += 1\n",
    "\n",
    "        \n",
    "def main():\n",
    "    while True:\n",
    "        n_rounds, n_machines = map(int, input().split())\n",
    "        if not n_rounds and not n_machines:\n",
    "            return\n",
    "        alpha, beta = map(float, input().split())\n",
    "        play(alpha, beta, n_rounds, n_machines)\n",
    "        "
   ]
  },
  {
   "cell_type": "code",
   "execution_count": null,
   "id": "b4c7c547",
   "metadata": {},
   "outputs": [],
   "source": [
    "main()"
   ]
  },
  {
   "cell_type": "markdown",
   "id": "9b980a6e",
   "metadata": {
    "ExecuteTime": {
     "end_time": "2023-06-30T09:01:34.559597Z",
     "start_time": "2023-06-30T09:01:34.557043Z"
    }
   },
   "source": [
    "### [Безградиентная оптимизация функции](https://coderun.yandex.ru/seasons/first_2023/tracks/ml/problem/gradient-free-optimization?currentPage=3&pageSize=10&rowNumber=28)"
   ]
  },
  {
   "cell_type": "code",
   "execution_count": 86,
   "id": "9812e9f2",
   "metadata": {
    "ExecuteTime": {
     "end_time": "2023-06-30T10:11:40.049310Z",
     "start_time": "2023-06-30T10:11:40.033334Z"
    }
   },
   "outputs": [],
   "source": [
    "from __future__ import annotations\n",
    "import dataclasses\n",
    "import io\n",
    "import numpy as np\n",
    "import scipy.optimize\n",
    "import sys\n",
    "import typing as tp\n",
    "\n",
    "\n",
    "class FoundExtremumException(Exception):\n",
    "    pass\n",
    "\n",
    "\n",
    "def request(x) -> float:\n",
    "    print(f\"{x[0]:.8f} {x[1]:.8f}\")\n",
    "    sys.stdout.flush()\n",
    "    is_close_code, value = input().split()\n",
    "    if is_close_code == \"+\":\n",
    "        raise FoundExtremumException\n",
    "    value = float(value)\n",
    "    return value\n",
    "\n",
    "\n",
    "@dataclasses.dataclass\n",
    "class RequestWrapper:\n",
    "    initial_x: np.ndarray\n",
    "    initial_value: float\n",
    "    n_requests = 0\n",
    "        \n",
    "    def __call__(self, x):\n",
    "        self.n_requests += 1\n",
    "        if self.n_requests == 1:\n",
    "            return self.initial_value\n",
    "        else:\n",
    "            return request(x)\n",
    "        \n",
    "    \n",
    "def main():\n",
    "    *initial_x, initial_value = map(float, input().split())\n",
    "    initial_x = np.array(initial_x)\n",
    "    bounds = [(-50, 100), (-50, 100)]\n",
    "    wrapper = RequestWrapper(initial_x=initial_x, initial_value=initial_value)\n",
    "    try:\n",
    "        scipy.optimize.minimize(lambda x: -wrapper(x),  method=\"Nelder-Mead\", x0=initial_x, \n",
    "                                bounds=bounds, options=dict(maxiter=200))\n",
    "    except FoundExtremumException:\n",
    "        return\n",
    "    "
   ]
  },
  {
   "cell_type": "code",
   "execution_count": null,
   "id": "e5933df6",
   "metadata": {},
   "outputs": [],
   "source": [
    "main()"
   ]
  },
  {
   "cell_type": "markdown",
   "id": "5853b0f5",
   "metadata": {},
   "source": [
    "### [Рестораны 2.0](https://coderun.yandex.ru/seasons/first_2023/tracks/ml/problem/restaurants-2?currentPage=3&pageSize=10&rowNumber=29&compiler=python)"
   ]
  },
  {
   "cell_type": "code",
   "execution_count": 98,
   "id": "a9b749cb",
   "metadata": {
    "ExecuteTime": {
     "end_time": "2023-06-30T14:41:12.317746Z",
     "start_time": "2023-06-30T14:41:12.301751Z"
    }
   },
   "outputs": [],
   "source": [
    "from __future__ import annotations\n",
    "import dataclasses\n",
    "import io\n",
    "import math\n",
    "import sys\n",
    "import typing as tp\n",
    "\n",
    "\n",
    "@dataclasses.dataclass\n",
    "class Input:\n",
    "    x : tp.List[tp.Tuple[float, float]]\n",
    "\n",
    "    @staticmethod\n",
    "    def from_string_io(string_io: io.StringIO) -> Input:\n",
    "        n_samples = int(string_io.readline())\n",
    "        x = []\n",
    "        for _ in range(n_samples):\n",
    "            x_row = tuple(float(i) for i in string_io.readline().split())\n",
    "            x.append(x_row)\n",
    "\n",
    "        input_ = Input(x=x)\n",
    "        return input_\n",
    "\n",
    "    def __str__(self) -> str:\n",
    "        string = str(len(self.x)) + \"\\n\"\n",
    "        string += \"\\n\".join(\"\\t\".join(str(i) for i in r) for r in self.x)\n",
    "        return string\n",
    "\n",
    "\n",
    "@dataclasses.dataclass\n",
    "class Output:\n",
    "    preds : tp.List[float]\n",
    "\n",
    "    def __str__(self) -> str:\n",
    "        string = \"\\n\".join(str(i) for i in self.preds)\n",
    "        return string\n",
    "\n",
    "\n",
    "def add_features(X):\n",
    "    unrated_mask = [int(i[0] == -1) for i in X]\n",
    "    r = [i[0] if i[0] != -1 else 0 for i in X]\n",
    "    d = [-math.log(1e-10 + i[1] / 2) for i in X]\n",
    "    X = [r, \n",
    "         d,\n",
    "         [i * j for i, j in zip(d, unrated_mask)],\n",
    "         [i * j for i, j in zip(d, r)],\n",
    "         [math.exp(i) for i in r],\n",
    "        ]\n",
    "    \n",
    "    return X\n",
    "\n",
    "\n",
    "def solve(input_: Input) -> Output:\n",
    "    x = add_features(input_.x)\n",
    "    coef = [2.44033243e-01, 1.09942940e+00, 2.51372830e-01, 3.37361507e-03,\n",
    "        1.55697461e-04]\n",
    "    intercept = -8.156287443432698\n",
    "    preds = [sum(i * c for i, c in zip(a, coef)) + intercept for a in zip(*x)]\n",
    "    output = Output(preds=preds)\n",
    "    return output\n",
    "\n",
    "\n",
    "def main():\n",
    "    print(solve(Input.from_string_io(sys.stdin)))"
   ]
  },
  {
   "cell_type": "markdown",
   "id": "8d9990c8",
   "metadata": {
    "ExecuteTime": {
     "end_time": "2023-06-30T15:22:19.701034Z",
     "start_time": "2023-06-30T15:22:19.695196Z"
    }
   },
   "source": [
    "### [Предсказание погоды](https://coderun.yandex.ru/seasons/first_2023/tracks/ml/problem/forecasting?currentPage=3&pageSize=10&rowNumber=30)"
   ]
  },
  {
   "cell_type": "code",
   "execution_count": 382,
   "id": "f7bf3171",
   "metadata": {
    "ExecuteTime": {
     "end_time": "2023-06-30T16:46:51.275855Z",
     "start_time": "2023-06-30T16:46:51.261313Z"
    }
   },
   "outputs": [],
   "source": [
    "from __future__ import annotations\n",
    "import dataclasses\n",
    "import io\n",
    "import numpy as np\n",
    "import scipy.optimize\n",
    "import scipy.special\n",
    "import sys\n",
    "import typing as tp\n",
    "\n",
    "\n",
    "def seasonal_sin(x, a, b, c):\n",
    "    y = a + b * np.sin(x * 2 * np.pi / 365 + c)\n",
    "    return y \n",
    "\n",
    "def composite_pred(x, a, b, c):\n",
    "    p = scipy.special.softmax([a, b, c, 1])\n",
    "    y = x @ p\n",
    "    return y\n",
    "\n",
    "\n",
    "class Predictor:\n",
    "    def __init__(self, train):\n",
    "        self.day = len(train)\n",
    "        self.seasonal_params, _ = scipy.optimize.curve_fit(seasonal_sin, np.arange(self.day), train)\n",
    "        self.window_size = 3\n",
    "        n = self.day - self.window_size\n",
    "        seasonal_preds = seasonal_sin(np.arange(self.window_size, self.day), *self.seasonal_params)\n",
    "        x = np.stack([\n",
    "            train[i: i + n] for i in range(self.window_size)\n",
    "        ]+[\n",
    "            seasonal_preds,\n",
    "        ]).T\n",
    "        y = train[self.window_size:]\n",
    "        self.composite_params, _ = scipy.optimize.curve_fit(composite_pred, x, y)\n",
    "                \n",
    "    def __call__(self, temperature):\n",
    "        seasonal_pred = seasonal_sin(self.day, *self.seasonal_params)\n",
    "        pred = composite_pred(np.array([temperature[-i] for i in range(self.window_size, 0, -1)\n",
    "                                       ] + [seasonal_pred]), *self.composite_params)\n",
    "        self.day += 1\n",
    "        return pred\n",
    "        \n",
    "        \n",
    "def main(string_io_in=sys.stdin, string_io_out=sys.stdout):\n",
    "    n_train = int(string_io_in.readline())\n",
    "    train = [float(string_io_in.readline()) for _ in range(n_train)]\n",
    "    predictor = Predictor(train)\n",
    "    n_test = int(string_io_in.readline())\n",
    "    for _ in range(n_test):\n",
    "        string_io_out.write(str(predictor(train)) + \"\\n\")\n",
    "        string_io_out.flush()\n",
    "        observation = float(string_io_in.readline())\n",
    "        train.append(observation)"
   ]
  },
  {
   "cell_type": "code",
   "execution_count": 383,
   "id": "b9abecbb",
   "metadata": {
    "ExecuteTime": {
     "end_time": "2023-06-30T16:46:51.630418Z",
     "start_time": "2023-06-30T16:46:51.625868Z"
    }
   },
   "outputs": [],
   "source": [
    "def read(string_io_in=sys.stdin, string_io_out=sys.stdout):\n",
    "    n_train = int(string_io_in.readline())\n",
    "    train = [float(string_io_in.readline()) for _ in range(n_train)]\n",
    "    n_test = int(string_io_in.readline())\n",
    "    test = [float(string_io_in.readline()) for _ in range(n_test)]\n",
    "    return train, test"
   ]
  },
  {
   "cell_type": "code",
   "execution_count": 384,
   "id": "aff17d13",
   "metadata": {
    "ExecuteTime": {
     "end_time": "2023-06-30T16:46:52.894675Z",
     "start_time": "2023-06-30T16:46:52.866783Z"
    }
   },
   "outputs": [
    {
     "data": {
      "text/plain": [
       "6.14116726232681"
      ]
     },
     "execution_count": 384,
     "metadata": {},
     "output_type": "execute_result"
    }
   ],
   "source": [
    "temperature = open(\"/Users/dimakoshman/Downloads/01.txt\").read()\n",
    "\n",
    "string_io_in = io.StringIO(temperature)\n",
    "string_io_out = io.StringIO()\n",
    "main(string_io_in, string_io_out)\n",
    "preds = np.array(list(map(float, string_io_out.getvalue().split())))\n",
    "\n",
    "string_io_in = io.StringIO(temperature)\n",
    "string_io_out = io.StringIO()\n",
    "train, test = map(np.array, read(string_io_in, string_io_out))\n",
    "\n",
    "((preds - test)**2).mean()**0.5"
   ]
  },
  {
   "cell_type": "code",
   "execution_count": 217,
   "id": "f07de811",
   "metadata": {
    "ExecuteTime": {
     "end_time": "2023-06-30T16:05:39.335150Z",
     "start_time": "2023-06-30T16:05:39.329144Z"
    }
   },
   "outputs": [
    {
     "data": {
      "text/plain": [
       "6.015587481348978"
      ]
     },
     "execution_count": 217,
     "metadata": {},
     "output_type": "execute_result"
    }
   ],
   "source": [
    "((preds - test)**2).mean()**0.5"
   ]
  },
  {
   "cell_type": "code",
   "execution_count": 387,
   "id": "ef3d2dbb",
   "metadata": {
    "ExecuteTime": {
     "end_time": "2023-06-30T16:50:05.108025Z",
     "start_time": "2023-06-30T16:50:05.103835Z"
    }
   },
   "outputs": [
    {
     "data": {
      "text/plain": [
       "0.8138408563515327"
      ]
     },
     "execution_count": 387,
     "metadata": {},
     "output_type": "execute_result"
    }
   ],
   "source": [
    "np.mean(train) - np.mean(test)"
   ]
  },
  {
   "cell_type": "code",
   "execution_count": 243,
   "id": "48beaaba",
   "metadata": {
    "ExecuteTime": {
     "end_time": "2023-06-30T16:16:57.316808Z",
     "start_time": "2023-06-30T16:16:57.204717Z"
    }
   },
   "outputs": [
    {
     "data": {
      "text/plain": [
       "[<matplotlib.lines.Line2D at 0x29d1ce010>]"
      ]
     },
     "execution_count": 243,
     "metadata": {},
     "output_type": "execute_result"
    },
    {
     "data": {
      "image/png": "[encoded data removed]",
      "text/plain": [
       "<Figure size 640x480 with 1 Axes>"
      ]
     },
     "metadata": {},
     "output_type": "display_data"
    }
   ],
   "source": [
    "plt.plot(a)\n",
    "plt.plot(t)"
   ]
  },
  {
   "cell_type": "code",
   "execution_count": 454,
   "id": "59999db6",
   "metadata": {
    "ExecuteTime": {
     "end_time": "2023-06-30T17:12:51.123592Z",
     "start_time": "2023-06-30T17:12:51.116505Z"
    }
   },
   "outputs": [],
   "source": [
    "from __future__ import annotations\n",
    "import dataclasses\n",
    "import io\n",
    "import numpy as np\n",
    "import scipy.optimize\n",
    "import sys\n",
    "import typing as tp\n",
    "\n",
    "\n",
    "def seasonal_sin(x, a, b, c):\n",
    "    y = a + b * np.sin(x * 2 * np.pi / 365 + c)\n",
    "    return y \n",
    "\n",
    "\n",
    "class Predictor:\n",
    "    def __init__(self, train):\n",
    "        self.day = len(train)\n",
    "        self.params, _ = scipy.optimize.curve_fit(seasonal_sin, np.arange(self.day), train)\n",
    "        self.running_year_delta = 0\n",
    "            \n",
    "    def __call__(self, temperature):\n",
    "        seasonal_pred = seasonal_sin(self.day, *self.params)\n",
    "        self.day += 1\n",
    "        alpha = 0.2\n",
    "        pred = temperature[-1] * (1 - alpha) + seasonal_pred * alpha\n",
    "        beta = 5e-4\n",
    "        self.running_year_delta = self.running_year_delta * (1 - beta) + (temperature[-1] - temperature[-365]) * beta\n",
    "        pred += self.running_year_delta\n",
    "        pred \n",
    "        return pred\n",
    "        \n",
    "        \n",
    "def main(string_io_in=sys.stdin, string_io_out=sys.stdout):\n",
    "    n_train = int(string_io_in.readline())\n",
    "    train = [float(string_io_in.readline()) for _ in range(n_train)]\n",
    "    predictor = Predictor(train)\n",
    "    n_test = int(string_io_in.readline())\n",
    "    for _ in range(n_test):\n",
    "        string_io_out.write(str(predictor(train)) + \"\\n\")\n",
    "        string_io_out.flush()\n",
    "        observation = float(string_io_in.readline())\n",
    "        train.append(observation)\n"
   ]
  },
  {
   "cell_type": "code",
   "execution_count": 455,
   "id": "f1b44810",
   "metadata": {
    "ExecuteTime": {
     "end_time": "2023-06-30T17:12:51.430910Z",
     "start_time": "2023-06-30T17:12:51.420679Z"
    }
   },
   "outputs": [
    {
     "data": {
      "text/plain": [
       "6.178733705026372"
      ]
     },
     "execution_count": 455,
     "metadata": {},
     "output_type": "execute_result"
    }
   ],
   "source": [
    "temperature = open(\"/Users/dimakoshman/Downloads/01.txt\").read()\n",
    "\n",
    "string_io_in = io.StringIO(temperature)\n",
    "string_io_out = io.StringIO()\n",
    "main(string_io_in, string_io_out)\n",
    "preds = np.array(list(map(float, string_io_out.getvalue().split())))\n",
    "\n",
    "string_io_in = io.StringIO(temperature)\n",
    "string_io_out = io.StringIO()\n",
    "train, test = map(np.array, read(string_io_in, string_io_out))\n",
    "\n",
    "((preds - test)**2).mean()**0.5"
   ]
  },
  {
   "cell_type": "markdown",
   "id": "40fbf6d0",
   "metadata": {
    "ExecuteTime": {
     "end_time": "2023-06-30T17:23:00.227204Z",
     "start_time": "2023-06-30T17:23:00.219888Z"
    }
   },
   "source": [
    "### [Омографы](https://coderun.yandex.ru/seasons/first_2023/tracks/ml/problem/homographs?currentPage=4&pageSize=10&rowNumber=31)"
   ]
  },
  {
   "cell_type": "code",
   "execution_count": 16,
   "id": "a5968888",
   "metadata": {
    "ExecuteTime": {
     "end_time": "2023-07-01T18:35:14.766864Z",
     "start_time": "2023-07-01T18:34:54.043211Z"
    }
   },
   "outputs": [],
   "source": [
    "train_filename = \"data/coderun/train.json\"\n",
    "test_filename = \"data/coderun/test.json\"\n",
    "\n",
    "write_url_response_content_to_file(\n",
    "    url=get_yadisk_download_url(\"https://disk.yandex.ru/d/cKC-mzzsgKdE4Q\"),\n",
    "    filename=train_filename\n",
    ")\n",
    "write_url_response_content_to_file(\n",
    "    url=get_yadisk_download_url(\"https://disk.yandex.ru/d/it1cLmBxcWh9eg\"),\n",
    "    filename=test_filename\n",
    ")"
   ]
  },
  {
   "cell_type": "code",
   "execution_count": 17,
   "id": "060121a9",
   "metadata": {
    "ExecuteTime": {
     "end_time": "2023-07-01T18:35:19.575185Z",
     "start_time": "2023-07-01T18:35:17.784240Z"
    }
   },
   "outputs": [],
   "source": [
    "train = json.load(open(train_filename))\n",
    "test = json.load(open(test_filename))\n",
    "\n",
    "vowels = \"аеёиоуыэюя\"\n",
    "\n",
    "def get_word(source):\n",
    "    for i, word in enumerate(source.split()):\n",
    "        if word.isupper():\n",
    "            return i, word.lower()\n",
    "    raise ValueError(f\"No upper word in sentence '{source}'\")\n",
    "\n",
    "for d in train:\n",
    "    word_id, word = get_word(d[\"source\"])\n",
    "    target_word = d[\"target\"].split()[word_id]\n",
    "    word_vowels = [c for c in target_word if c.lower() in vowels]\n",
    "    vowel_id = [i for i, v in enumerate(word_vowels) if v.isupper()][0]\n",
    "    d[\"word\"] = word\n",
    "    d[\"vowel_id\"] = vowel_id\n",
    "    \n",
    "for d in test:\n",
    "    _, word = get_word(d[\"source\"])\n",
    "    d[\"word\"] = word"
   ]
  },
  {
   "cell_type": "code",
   "execution_count": 18,
   "id": "5f24971b",
   "metadata": {
    "ExecuteTime": {
     "end_time": "2023-07-01T18:36:31.159550Z",
     "start_time": "2023-07-01T18:35:21.957899Z"
    }
   },
   "outputs": [
    {
     "data": {
      "application/vnd.jupyter.widget-view+json": {
       "model_id": "22d2a096292f44e082c564051173c3de",
       "version_major": 2,
       "version_minor": 0
      },
      "text/plain": [
       "Downloading (…)lve/main/config.json:   0%|          | 0.00/642 [00:00<?, ?B/s]"
      ]
     },
     "metadata": {},
     "output_type": "display_data"
    },
    {
     "data": {
      "application/vnd.jupyter.widget-view+json": {
       "model_id": "c68e4a7013ee483b9ae161af4bf3edbd",
       "version_major": 2,
       "version_minor": 0
      },
      "text/plain": [
       "Downloading pytorch_model.bin:   0%|          | 0.00/714M [00:00<?, ?B/s]"
      ]
     },
     "metadata": {},
     "output_type": "display_data"
    },
    {
     "name": "stderr",
     "output_type": "stream",
     "text": [
      "Some weights of the model checkpoint at DeepPavlov/rubert-base-cased were not used when initializing BertModel: ['cls.seq_relationship.bias', 'cls.predictions.bias', 'cls.predictions.decoder.weight', 'cls.predictions.transform.dense.bias', 'cls.predictions.transform.dense.weight', 'cls.predictions.transform.LayerNorm.weight', 'cls.predictions.transform.LayerNorm.bias', 'cls.predictions.decoder.bias', 'cls.seq_relationship.weight']\n",
      "- This IS expected if you are initializing BertModel from the checkpoint of a model trained on another task or with another architecture (e.g. initializing a BertForSequenceClassification model from a BertForPreTraining model).\n",
      "- This IS NOT expected if you are initializing BertModel from the checkpoint of a model that you expect to be exactly identical (initializing a BertForSequenceClassification model from a BertForSequenceClassification model).\n"
     ]
    },
    {
     "data": {
      "application/vnd.jupyter.widget-view+json": {
       "model_id": "aadc7bb669344e8e95e83b94a3933ed3",
       "version_major": 2,
       "version_minor": 0
      },
      "text/plain": [
       "Downloading (…)okenizer_config.json:   0%|          | 0.00/24.0 [00:00<?, ?B/s]"
      ]
     },
     "metadata": {},
     "output_type": "display_data"
    },
    {
     "data": {
      "application/vnd.jupyter.widget-view+json": {
       "model_id": "67a77795f60d43cab0eeb9fe2aca3817",
       "version_major": 2,
       "version_minor": 0
      },
      "text/plain": [
       "Downloading (…)solve/main/vocab.txt:   0%|          | 0.00/1.65M [00:00<?, ?B/s]"
      ]
     },
     "metadata": {},
     "output_type": "display_data"
    },
    {
     "data": {
      "application/vnd.jupyter.widget-view+json": {
       "model_id": "261da5cf34dc42219e64e6081385862e",
       "version_major": 2,
       "version_minor": 0
      },
      "text/plain": [
       "Downloading (…)cial_tokens_map.json:   0%|          | 0.00/112 [00:00<?, ?B/s]"
      ]
     },
     "metadata": {},
     "output_type": "display_data"
    }
   ],
   "source": [
    "checkpoint = \"DeepPavlov/rubert-base-cased\"\n",
    "model = transformers.AutoModel.from_pretrained(checkpoint)\n",
    "tokenizer = transformers.AutoTokenizer.from_pretrained(checkpoint)\n",
    "\n",
    "set_torch_device_order_pci_bus()\n",
    "device = \"cuda:1\"\n",
    "model = model.to(device)"
   ]
  },
  {
   "cell_type": "code",
   "execution_count": 26,
   "id": "edca1b6e",
   "metadata": {
    "ExecuteTime": {
     "end_time": "2023-07-01T18:37:59.777688Z",
     "start_time": "2023-07-01T18:37:59.765066Z"
    }
   },
   "outputs": [],
   "source": [
    "def get_embedding(model, tokenizer, source):\n",
    "    _, word = get_word(source)\n",
    "    word_tokens = tokenizer.encode(word, add_special_tokens=False)\n",
    "    n_word_tokens = len(word_tokens)\n",
    "    batch_embedding = tokenizer(source.lower(), return_tensors=\"pt\")\n",
    "    input_ids = batch_embedding.input_ids[0].tolist()\n",
    "    for i in range(len(input_ids) - n_word_tokens + 1):\n",
    "        if word_tokens == input_ids[i: i + n_word_tokens]:\n",
    "            word_start = i\n",
    "            break\n",
    "    else:\n",
    "        raise RuntimeError(\"Word not found\")\n",
    "    with torch.inference_mode():\n",
    "        output = model(**batch_embedding.to(device))\n",
    "    embedding = output.last_hidden_state[0, word_start: word_start + n_word_tokens].mean(0)\n",
    "    return embedding"
   ]
  },
  {
   "cell_type": "code",
   "execution_count": 29,
   "id": "a0ffb9ec",
   "metadata": {
    "ExecuteTime": {
     "end_time": "2023-07-01T18:57:12.947071Z",
     "start_time": "2023-07-01T18:38:25.000252Z"
    }
   },
   "outputs": [
    {
     "name": "stderr",
     "output_type": "stream",
     "text": [
      "100%|██████████████████████████████████████████████████████████████████████████████████████████████████████████████████████████████████████████████████████████████| 140954/140954 [18:47<00:00, 124.97it/s]\n"
     ]
    }
   ],
   "source": [
    "train_embeddings = torch.zeros(len(train), model.config.hidden_size, device=device)\n",
    "\n",
    "for i in tqdm.tqdm(range(len(train))):\n",
    "    embedding = get_embedding(model, tokenizer, train[i][\"source\"])\n",
    "    train_embeddings[i, :] = embedding\n",
    "    \n",
    "# torch.save(train_embeddings.to(\"cpu\"), \"data/coderun/train_embeddings.pt\")"
   ]
  },
  {
   "cell_type": "code",
   "execution_count": 116,
   "id": "27e3d178",
   "metadata": {
    "ExecuteTime": {
     "end_time": "2023-07-02T09:05:51.572297Z",
     "start_time": "2023-07-02T09:05:51.560759Z"
    }
   },
   "outputs": [],
   "source": [
    "class Normalizer:\n",
    "    def __init__(self, lang=\"ru\"):\n",
    "        self.morph = pymorphy3.MorphAnalyzer(lang=lang)\n",
    "        self.edge_cases = {\n",
    "            \"белок\": \"белка\",\n",
    "            \"больший\": \"большой\",\n",
    "            \"ворон\": \"ворона\",\n",
    "            \"гора\": \"горе\",\n",
    "            \"железо\": \"железа\",\n",
    "            \"леска\": \"лес\",\n",
    "            \"лесок\": \"лес\",\n",
    "            \"роды\": \"род\",\n",
    "            \"толстой\": \"толстый\",\n",
    "            \"узнать\": \"узнавать\",\n",
    "        }\n",
    "        \n",
    "    def __call__(self, word):\n",
    "        normal_form = self.morph.parse(word)[0].normal_form\n",
    "        if normal_form in self.edge_cases:\n",
    "            normal_form = self.edge_cases[normal_form]\n",
    "        return normal_form"
   ]
  },
  {
   "cell_type": "code",
   "execution_count": 117,
   "id": "c04be2c0",
   "metadata": {
    "ExecuteTime": {
     "end_time": "2023-07-02T09:06:10.065613Z",
     "start_time": "2023-07-02T09:05:51.785277Z"
    }
   },
   "outputs": [
    {
     "name": "stderr",
     "output_type": "stream",
     "text": [
      "100%|█████████████████████████████████████████████████████████████████████████████████████████████████████████████████████████████████████████████████████████████| 140954/140954 [00:18<00:00, 7757.91it/s]\n"
     ]
    }
   ],
   "source": [
    "normalizer = Normalizer()\n",
    "train_ids_by_normal_form = collections.defaultdict(lambda: list())\n",
    "for i, d in enumerate(tqdm.tqdm(train)):\n",
    "    normal_form = normalizer(d[\"word\"])\n",
    "    train_ids_by_normal_form[normal_form].append(i)"
   ]
  },
  {
   "cell_type": "code",
   "execution_count": 134,
   "id": "3d96cb7e",
   "metadata": {
    "ExecuteTime": {
     "end_time": "2023-07-02T12:06:36.723834Z",
     "start_time": "2023-07-02T12:06:36.714109Z"
    }
   },
   "outputs": [],
   "source": [
    "def emphasize(word, vowel_id):\n",
    "    word = list(word.lower())\n",
    "    for i, c in enumerate(word):\n",
    "        if c in vowels:\n",
    "            if vowel_id == 0:\n",
    "                word[i] = c.upper()\n",
    "                word = \"\".join(word)\n",
    "                return word\n",
    "            vowel_id -= 1\n",
    "    raise ValueError(f\"Word {word} has less than {vowel_id + 1} vowels.\")"
   ]
  },
  {
   "cell_type": "code",
   "execution_count": 135,
   "id": "c68cca8f",
   "metadata": {
    "ExecuteTime": {
     "end_time": "2023-07-02T12:06:50.138243Z",
     "start_time": "2023-07-02T12:06:50.129406Z"
    }
   },
   "outputs": [],
   "source": [
    "def predict(source, word):\n",
    "    embedding = get_embedding(model, tokenizer, source)\n",
    "    candidates = train_ids_by_normal_form[normalizer(word)]\n",
    "    closest = torch.cosine_similarity(train_embeddings[candidates], embedding).argmax()\n",
    "    closest = candidates[closest]\n",
    "    vowel_id = train[closest][\"vowel_id\"]\n",
    "    word = emphasize(word, vowel_id)\n",
    "    return word"
   ]
  },
  {
   "cell_type": "code",
   "execution_count": 187,
   "id": "ca11806b",
   "metadata": {
    "ExecuteTime": {
     "end_time": "2023-07-02T12:21:00.892187Z",
     "start_time": "2023-07-02T12:18:32.734656Z"
    }
   },
   "outputs": [
    {
     "name": "stderr",
     "output_type": "stream",
     "text": [
      " 71%|█████████████████████████████████████████████████████████████████████████████████████████████████████████████████▊                                              | 12146/17076 [01:45<00:41, 118.73it/s]"
     ]
    },
    {
     "name": "stdout",
     "output_type": "stream",
     "text": [
      "<class 'ValueError'> Word ['с', 'а', 'м', 'о', 'м'] has less than 1 vowels.\n"
     ]
    },
    {
     "name": "stderr",
     "output_type": "stream",
     "text": [
      "100%|████████████████████████████████████████████████████████████████████████████████████████████████████████████████████████████████████████████████████████████████| 17076/17076 [02:28<00:00, 115.27it/s]\n"
     ]
    }
   ],
   "source": [
    "preds = []\n",
    "for i, d in enumerate(tqdm.tqdm(test)):\n",
    "    try:\n",
    "        preds.append(predict(**d))\n",
    "    except Exception as e:\n",
    "        print(i, type(e), e)\n",
    "        preds.append(None)"
   ]
  },
  {
   "cell_type": "code",
   "execution_count": 188,
   "id": "42ef1d2c",
   "metadata": {
    "ExecuteTime": {
     "end_time": "2023-07-02T12:21:34.834881Z",
     "start_time": "2023-07-02T12:21:34.827383Z"
    }
   },
   "outputs": [],
   "source": [
    "preds[12128] = \"сАмом\"\n",
    "prediciton = \"\\n\".join(preds)"
   ]
  },
  {
   "cell_type": "markdown",
   "id": "ffa2afc4",
   "metadata": {
    "ExecuteTime": {
     "end_time": "2023-07-02T12:33:03.814540Z",
     "start_time": "2023-07-02T12:33:03.809023Z"
    }
   },
   "source": [
    "### [Звёздные карты 2.0](https://coderun.yandex.ru/seasons/first_2023/tracks/ml/problem/star-maps-v2?currentPage=4&pageSize=10&rowNumber=32)"
   ]
  },
  {
   "cell_type": "code",
   "execution_count": 214,
   "id": "5f4fd013",
   "metadata": {
    "ExecuteTime": {
     "end_time": "2023-07-02T12:36:53.545167Z",
     "start_time": "2023-07-02T12:35:24.699200Z"
    }
   },
   "outputs": [],
   "source": [
    "dataset_filename = \"data/coderun/dataset.zip\"\n",
    "\n",
    "write_url_response_content_to_file(\n",
    "    url=get_yadisk_download_url(\"https://disk.yandex.ru/d/Hu-um0ASI6eAUg\"),\n",
    "    filename=dataset_filename\n",
    ")\n",
    "\n",
    "n_images = len(os.listdir(\"data/coderun/dataset\"))"
   ]
  },
  {
   "cell_type": "code",
   "execution_count": 67,
   "id": "016eabc9",
   "metadata": {
    "ExecuteTime": {
     "end_time": "2023-07-02T13:32:08.061262Z",
     "start_time": "2023-07-02T13:32:08.054515Z"
    }
   },
   "outputs": [],
   "source": [
    "def load_image(image_id):\n",
    "    image_id = f\"{image_id:04}\"\n",
    "    image_path = f\"data/coderun/dataset/{image_id}.png\"\n",
    "    image = PIL.Image.open(image_path)\n",
    "    image = image.convert('RGB')\n",
    "    return image"
   ]
  },
  {
   "cell_type": "code",
   "execution_count": 10,
   "id": "5542248a",
   "metadata": {
    "ExecuteTime": {
     "end_time": "2023-07-02T13:19:21.709203Z",
     "start_time": "2023-07-02T13:19:18.066383Z"
    }
   },
   "outputs": [
    {
     "name": "stderr",
     "output_type": "stream",
     "text": [
      "Could not find image processor class in the image processor config or the model config. Loading based on pattern matching with the model's feature extractor configuration.\n",
      "Some weights of the model checkpoint at microsoft/swinv2-base-patch4-window8-256 were not used when initializing Swinv2Model: ['classifier.weight', 'classifier.bias']\n",
      "- This IS expected if you are initializing Swinv2Model from the checkpoint of a model trained on another task or with another architecture (e.g. initializing a BertForSequenceClassification model from a BertForPreTraining model).\n",
      "- This IS NOT expected if you are initializing Swinv2Model from the checkpoint of a model that you expect to be exactly identical (initializing a BertForSequenceClassification model from a BertForSequenceClassification model).\n"
     ]
    }
   ],
   "source": [
    "checkpoint = \"microsoft/swinv2-base-patch4-window8-256\"\n",
    "processor = transformers.AutoImageProcessor.from_pretrained(checkpoint)\n",
    "model = transformers.AutoModel.from_pretrained(checkpoint)\n",
    "\n",
    "set_torch_device_order_pci_bus()\n",
    "device = \"cuda:1\"\n",
    "model = model.to(device)"
   ]
  },
  {
   "cell_type": "code",
   "execution_count": 26,
   "id": "1507f076",
   "metadata": {
    "ExecuteTime": {
     "end_time": "2023-07-02T13:25:25.248354Z",
     "start_time": "2023-07-02T13:25:25.240676Z"
    }
   },
   "outputs": [],
   "source": [
    "def get_image_embedding(model, processor, image):\n",
    "    inputs = processor(images=image, return_tensors=\"pt\").to(model.device)\n",
    "    with torch.inference_mode():\n",
    "        outputs = model(**inputs)\n",
    "    embedding = outputs.pooler_output[0]\n",
    "    return embedding"
   ]
  },
  {
   "cell_type": "code",
   "execution_count": 68,
   "id": "6a30afba",
   "metadata": {
    "ExecuteTime": {
     "end_time": "2023-07-02T13:37:59.271606Z",
     "start_time": "2023-07-02T13:32:19.766437Z"
    }
   },
   "outputs": [
    {
     "name": "stderr",
     "output_type": "stream",
     "text": [
      "100%|███████████████████████████████████████████████████████████████████████████████████████████████████████████████████████████████████████████████████████████████████| 9605/9605 [05:39<00:00, 28.30it/s]\n"
     ]
    }
   ],
   "source": [
    "image_embeddings = torch.zeros(n_images, model.config.hidden_size, device=device)\n",
    "\n",
    "for i in tqdm.tqdm(range(n_images)):\n",
    "    image = load_image(i)\n",
    "    embedding = get_image_embedding(model, processor, image)\n",
    "    image_embeddings[i, :] = embedding"
   ]
  },
  {
   "cell_type": "code",
   "execution_count": 84,
   "id": "b1ea3c9f",
   "metadata": {
    "ExecuteTime": {
     "end_time": "2023-07-02T14:23:47.925814Z",
     "start_time": "2023-07-02T14:00:03.639616Z"
    }
   },
   "outputs": [
    {
     "data": {
      "text/plain": [
       "KMeansConstrained(copy_x=True, init='k-means++', max_iter=300, n_clusters=983,\n",
       "         n_init=10, n_jobs=1, random_state=None, size_max=10, size_min=7,\n",
       "         tol=0.0001, verbose=False)"
      ]
     },
     "execution_count": 84,
     "metadata": {},
     "output_type": "execute_result"
    }
   ],
   "source": [
    "import k_means_constrained\n",
    "\n",
    "kmeans = k_means_constrained.KMeansConstrained(\n",
    "     n_clusters=983,\n",
    "     size_min=7,\n",
    "     size_max=10\n",
    ")\n",
    "kmeans.fit(image_embeddings.cpu().numpy())"
   ]
  },
  {
   "cell_type": "code",
   "execution_count": 93,
   "id": "536cdc43",
   "metadata": {
    "ExecuteTime": {
     "end_time": "2023-07-02T14:27:16.957274Z",
     "start_time": "2023-07-02T14:27:16.887678Z"
    }
   },
   "outputs": [],
   "source": [
    "df = pd.DataFrame([(f\"{i:04}.png\", kmeans.labels_[i]) for i in range(n_images)], columns=[\"filename\", \"label\"])\n",
    "df.to_csv(\"submission.csv\", index=False)"
   ]
  },
  {
   "cell_type": "markdown",
   "id": "e4554ffb",
   "metadata": {},
   "source": [
    "### [Иннокентий и друзья](https://coderun.yandex.ru/seasons/first_2023/tracks/ml/problem/eat-spb-msk?currentPage=3&pageSize=10&rowNumber=25)"
   ]
  },
  {
   "cell_type": "code",
   "execution_count": 7,
   "id": "792d1a1a",
   "metadata": {
    "ExecuteTime": {
     "end_time": "2023-07-03T06:43:31.157553Z",
     "start_time": "2023-07-03T06:43:31.144156Z"
    }
   },
   "outputs": [],
   "source": [
    "def batched(iterable, n) -> tp.Generator[list, None, None]:\n",
    "    \"\"\"\n",
    "    Batch data into tuples of length n. The last batch may be shorter.\n",
    "\n",
    "    batched('ABCDEFG', 3) --> ABC DEF G\n",
    "    \"\"\"\n",
    "    if n < 1:\n",
    "        raise ValueError(\"n must be at least one.\")\n",
    "\n",
    "    it = iter(iterable)\n",
    "    while batch := list(itertools.islice(it, n)):\n",
    "        yield batch\n",
    "\n",
    "\n",
    "def torch_tensor_to_scipy_coo(tensor: torch.Tensor) -> scipy.sparse.coo_array:\n",
    "    if tensor.ndim != 2:\n",
    "        raise ValueError(\"Only 2d tensors can be converted to sparse coo arrays.\")\n",
    "\n",
    "    tensor = tensor.detach().cpu().to_sparse_coo().coalesce()\n",
    "    values = tensor.values().numpy()\n",
    "    indices = tensor.indices().numpy()\n",
    "    sparse_coo_array = scipy.sparse.coo_array((values, indices), shape=tensor.shape)\n",
    "    return sparse_coo_array\n",
    "\n",
    "\n",
    "def scipy_coo_to_torch_tensor(coo_array: scipy.sparse.coo_array) -> torch.Tensor:\n",
    "    indices = torch.from_numpy(np.array([coo_array.row, coo_array.col]))\n",
    "    data = torch.from_numpy(coo_array.data)\n",
    "    tensor = torch.sparse_coo_tensor(indices=indices, values=data, size=coo_array.shape)\n",
    "    return tensor\n",
    "\n",
    "\n",
    "def ratings_to_binary_interaction(user_item_ratings: torch.Tensor) -> torch.Tensor:\n",
    "    \"\"\"\n",
    "    Returns mask indicating whether user has interacted with item.\n",
    "    The result is different from binary relevance, as for\n",
    "    example zeros will be treated as valid interactions.\n",
    "    \"\"\"\n",
    "    has_interacted = torch_tensor_to_scipy_coo(user_item_ratings).tocsr()\n",
    "    has_interacted.data = np.ones_like(has_interacted.data)\n",
    "    has_interacted = has_interacted.astype(bool)\n",
    "    has_interacted = scipy_coo_to_torch_tensor(has_interacted.tocoo())\n",
    "    return has_interacted\n",
    "\n",
    "\n",
    "def preds_to_recommendations(preds: torch.FloatTensor, k: int) -> torch.IntTensor:\n",
    "    values, indices = preds.topk(k=k, dim=1)\n",
    "    return indices\n"
   ]
  },
  {
   "cell_type": "code",
   "execution_count": 115,
   "id": "0b7ef74a",
   "metadata": {
    "ExecuteTime": {
     "end_time": "2023-07-03T07:07:51.948776Z",
     "start_time": "2023-07-03T07:07:45.450031Z"
    }
   },
   "outputs": [],
   "source": [
    "folder = \"data/coderun\"\n",
    "\n",
    "rating_cutoff = 4.2\n",
    "n_reviews_cutoff = 100\n",
    "\n",
    "reviews = pd.read_csv(os.path.join(folder, \"reviews.csv\"))\n",
    "users = pd.read_csv(os.path.join(folder, \"users.csv\"))\n",
    "orgs = pd.read_csv(os.path.join(folder, \"organisations.csv\"))\n",
    "test_users = list(pd.read_csv(os.path.join(folder, \"test_users.csv\"))[\"user_id\"].values)\n",
    "orgs = orgs[orgs[\"rating\"] >= rating_cutoff]\n",
    "\n",
    "reviews = reviews.dropna(subset=[\"rating\"])\n",
    "\n",
    "groupby = reviews.groupby(\"org_id\")[\"rating\"].mean()\n",
    "reviews = reviews[reviews[\"org_id\"].isin(groupby[groupby >= rating_cutoff].index)]\n",
    "\n",
    "groupby = reviews.groupby(\"org_id\")[\"rating\"].count()\n",
    "reviews = reviews[reviews[\"org_id\"].isin(groupby[groupby >= n_reviews_cutoff].index)]\n",
    "\n",
    "reviews = reviews[reviews[\"org_id\"].isin(orgs[\"org_id\"])]\n",
    "\n",
    "orgs = orgs[orgs[\"org_id\"].isin(reviews[\"org_id\"])]\n",
    "all_users = sorted(set(reviews[\"user_id\"]) | set(test_users))\n",
    "users = users[users[\"user_id\"].isin(all_users)]"
   ]
  },
  {
   "cell_type": "code",
   "execution_count": 116,
   "id": "6597c58e",
   "metadata": {
    "ExecuteTime": {
     "end_time": "2023-07-03T07:07:52.734482Z",
     "start_time": "2023-07-03T07:07:51.949942Z"
    }
   },
   "outputs": [],
   "source": [
    "msk_users = users[users[\"city\"] == \"msk\"][\"user_id\"].values\n",
    "spb_users = users[users[\"city\"] == \"spb\"][\"user_id\"].values\n",
    "\n",
    "msk_orgs = orgs[orgs[\"city\"] == \"msk\"][\"org_id\"].values\n",
    "spb_orgs = orgs[orgs[\"city\"] == \"spb\"][\"org_id\"].values\n",
    "\n",
    "msk_reviews = reviews[reviews[\"org_id\"].isin(msk_orgs) & reviews[\"user_id\"].isin(msk_users)]\n",
    "spb_reviews = reviews[reviews[\"org_id\"].isin(spb_orgs) & reviews[\"user_id\"].isin(spb_users)]"
   ]
  },
  {
   "cell_type": "code",
   "execution_count": 117,
   "id": "e3a70e6e",
   "metadata": {
    "ExecuteTime": {
     "end_time": "2023-07-03T07:07:52.737205Z",
     "start_time": "2023-07-03T07:07:52.735185Z"
    }
   },
   "outputs": [],
   "source": [
    "def build_review_matrix(reviews):\n",
    "    user_encoder = sklearn.preprocessing.LabelEncoder()\n",
    "    users = user_encoder.fit_transform(reviews[\"user_id\"].values)\n",
    "\n",
    "    item_encoder = sklearn.preprocessing.LabelEncoder()\n",
    "    items = item_encoder.fit_transform(reviews[\"org_id\"].values)\n",
    "    \n",
    "    n_users = len(user_encoder.classes_)\n",
    "    n_items = len(item_encoder.classes_)\n",
    "\n",
    "    rating = reviews[\"rating\"].values\n",
    "    matrix = scipy.sparse.csr_array((rating, (users, items)) , shape=(n_users, n_items))\n",
    "    \n",
    "    return matrix, user_encoder, item_encoder"
   ]
  },
  {
   "cell_type": "code",
   "execution_count": 118,
   "id": "70a0b706",
   "metadata": {
    "ExecuteTime": {
     "end_time": "2023-07-03T07:07:54.267565Z",
     "start_time": "2023-07-03T07:07:52.738364Z"
    }
   },
   "outputs": [],
   "source": [
    "msk_matrix, msk_user_encoder, msk_item_encoder = build_review_matrix(msk_reviews)\n",
    "spb_matrix, spb_user_encoder, spb_item_encoder = build_review_matrix(spb_reviews)"
   ]
  },
  {
   "cell_type": "code",
   "execution_count": 119,
   "id": "13d2f4e5",
   "metadata": {
    "ExecuteTime": {
     "end_time": "2023-07-03T07:07:54.270872Z",
     "start_time": "2023-07-03T07:07:54.268320Z"
    }
   },
   "outputs": [],
   "source": [
    "def generate_base_recs(matrix, test_users, n_components=100, n_recs=100):\n",
    "    torch_matrix = scipy_coo_to_torch_tensor(matrix.tocoo())\n",
    "    user_item_interactions = ratings_to_binary_interaction(torch_matrix)\n",
    "    user_item_interactions = torch_tensor_to_scipy_coo(user_item_interactions).tocsr()\n",
    "\n",
    "    tsvd = sklearn.decomposition.TruncatedSVD(n_components=n_components)\n",
    "    tsvd.fit(matrix)\n",
    "\n",
    "    ratings = matrix[test_users]\n",
    "    embedding = tsvd.transform(ratings)\n",
    "    preds = tsvd.inverse_transform(embedding)\n",
    "    preds = torch.from_numpy(preds)\n",
    "\n",
    "    is_known_item = user_item_interactions[test_users]\n",
    "    is_known_item = torch.from_numpy(is_known_item.todense())\n",
    "    preds = torch.where(is_known_item, -torch.inf, preds)\n",
    "\n",
    "    recommendations = preds_to_recommendations(preds, k=n_recs).numpy()\n",
    "    \n",
    "    return recommendations"
   ]
  },
  {
   "cell_type": "code",
   "execution_count": 120,
   "id": "e2314d03",
   "metadata": {
    "ExecuteTime": {
     "end_time": "2023-07-03T07:07:54.414725Z",
     "start_time": "2023-07-03T07:07:54.271575Z"
    }
   },
   "outputs": [],
   "source": [
    "known_test_msk_users = sorted(set(test_users) & set(msk_user_encoder.classes_))\n",
    "known_test_spb_users = sorted(set(test_users) & set(spb_user_encoder.classes_))\n",
    "unknown_msk_users = sorted(set(test_users) & set(msk_users) - set(known_test_msk_users))\n",
    "unknown_spb_users = sorted(set(test_users) & set(spb_users) - set(known_test_spb_users))"
   ]
  },
  {
   "cell_type": "code",
   "execution_count": 121,
   "id": "9d9c06ca",
   "metadata": {
    "ExecuteTime": {
     "end_time": "2023-07-03T07:08:10.910906Z",
     "start_time": "2023-07-03T07:07:54.415472Z"
    }
   },
   "outputs": [],
   "source": [
    "msk_preds = generate_base_recs(msk_matrix, msk_user_encoder.transform(known_test_msk_users))\n",
    "spb_preds = generate_base_recs(spb_matrix, spb_user_encoder.transform(known_test_spb_users))"
   ]
  },
  {
   "cell_type": "code",
   "execution_count": 122,
   "id": "437f2c82",
   "metadata": {
    "ExecuteTime": {
     "end_time": "2023-07-03T07:08:10.966046Z",
     "start_time": "2023-07-03T07:08:10.914687Z"
    }
   },
   "outputs": [],
   "source": [
    "msk_orgs_df = orgs[orgs[\"city\"] == \"msk\"]\n",
    "msk_orgs_df = msk_orgs_df.set_index(\"org_id\")\n",
    "msk_orgs_df = msk_orgs_df.loc[msk_item_encoder.classes_]\n",
    "msk_orgs_df[\"popularity\"] = msk_matrix.sum(0)\n",
    "msk_top_orgs = list((msk_orgs_df[\"rating\"] * np.log(msk_orgs_df[\"popularity\"])).sort_values().index[-100:][::-1])\n",
    "\n",
    "spb_orgs_df = orgs[orgs[\"city\"] == \"spb\"]\n",
    "spb_orgs_df = spb_orgs_df.set_index(\"org_id\")\n",
    "spb_orgs_df = spb_orgs_df.loc[spb_item_encoder.classes_]\n",
    "spb_orgs_df[\"popularity\"] = spb_matrix.sum(0)\n",
    "spb_top_orgs = list((spb_orgs_df[\"rating\"] * np.log(spb_orgs_df[\"popularity\"])).sort_values().index[-100:][::-1])"
   ]
  },
  {
   "cell_type": "code",
   "execution_count": 126,
   "id": "4c774a5f",
   "metadata": {
    "ExecuteTime": {
     "end_time": "2023-07-03T07:11:04.356657Z",
     "start_time": "2023-07-03T07:11:04.351730Z"
    }
   },
   "outputs": [],
   "source": [
    "tu = known_test_msk_users + known_test_spb_users + unknown_msk_users + unknown_spb_users\n",
    "tp = ([spb_top_orgs for _ in range(len(known_test_msk_users))]\n",
    "      + [msk_top_orgs for _ in range(len(known_test_spb_users))]\n",
    "      + [spb_top_orgs for _ in range(len(unknown_msk_users))]\n",
    "      + [msk_top_orgs for _ in range(len(unknown_spb_users))])\n",
    "for i in tp:\n",
    "    assert len(i) == 100"
   ]
  },
  {
   "cell_type": "code",
   "execution_count": 127,
   "id": "c327d154",
   "metadata": {
    "ExecuteTime": {
     "end_time": "2023-07-03T07:11:04.980037Z",
     "start_time": "2023-07-03T07:11:04.856746Z"
    }
   },
   "outputs": [],
   "source": [
    "submission = pd.DataFrame()\n",
    "submission[\"user_id\"] = tu\n",
    "submission[\"target\"] = tp\n",
    "submission.to_csv(\"submission.csv\", index=False)"
   ]
  },
  {
   "cell_type": "code",
   "execution_count": null,
   "id": "a00fdba2",
   "metadata": {},
   "outputs": [],
   "source": []
  }
 ],
 "metadata": {
  "kernelspec": {
   "display_name": "Python 3 (ipykernel)",
   "language": "python",
   "name": "python3"
  },
  "language_info": {
   "codemirror_mode": {
    "name": "ipython",
    "version": 3
   },
   "file_extension": ".py",
   "mimetype": "text/x-python",
   "name": "python",
   "nbconvert_exporter": "python",
   "pygments_lexer": "ipython3",
   "version": "3.11.3"
  }
 },
 "nbformat": 4,
 "nbformat_minor": 5
}
