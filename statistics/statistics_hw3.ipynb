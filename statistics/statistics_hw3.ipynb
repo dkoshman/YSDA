{
 "cells": [
  {
   "cell_type": "markdown",
   "id": "c6b3fbc8",
   "metadata": {},
   "source": [
    "### Кошман Дмитрий\n",
    "\n",
    "$\\newcommand{\\Sum}{\\sum\\limits}\n",
    "\\newcommand{\\Int}{\\int\\limits}\n",
    "\\newcommand{\\Intf}{\\int\\limits_{-\\infty}^{+\\infty}}\n",
    "\\newcommand{\\Prod}{\\prod\\limits}\n",
    "\\newcommand{\\Max}{\\max\\limits}\n",
    "\\newcommand{\\Min}{\\min\\limits}\n",
    "\\newcommand{\\Lim}{\\lim\\limits}\n",
    "\\newcommand{\\Var}{\\mathbb{V}}\n",
    "\\newcommand{\\Exp}{\\mathbb{E}}\n",
    "\\newcommand{\\RR}{\\mathbb{R}}\n",
    "\\newcommand{\\argmax}{\\arg\\max}\n",
    "\\newcommand{\\Cov}{\\text{Cov}}\n",
    "\\newcommand{\\makebold}[1]{\\boldsymbol{#1}}\n",
    "\\newcommand{\\eps}{\\varepsilon}\n",
    "\\newcommand{\\mean}[1]{\\overline{#1}}\n",
    "\\newcommand{\\avg}[1]{\\langle #1 \\rangle}\n",
    "\\newcommand{\\angmean}[1]{\\langle #1 \\rangle}\n",
    "\\newcommand{\\Prob}{\\mathcal{P}}\n",
    "\\newcommand{\\se}{\\text{se}}\n",
    "\\newcommand{\\lp}{\\left}\n",
    "\\newcommand{\\rp}{\\right}\n",
    "\\newcommand{\\boldx}{\\boldsymbol{x}}\n",
    "\\newcommand{\\boldy}{\\boldsymbol{y}}\n",
    "\\newcommand{\\boldz}{\\boldsymbol{z}}\n",
    "\\newcommand{\\boldX}{\\boldsymbol{X}}\n",
    "\\newcommand{\\boldY}{\\boldsymbol{Y}}\n",
    "\\newcommand{\\boldZ}{\\boldsymbol{Z}}\n",
    "\\newcommand{\\Poisson}{\\mathrm{Poisson}}\n",
    "\\newcommand{\\Triangle}{\\mathrm{Triangle}}\n",
    "\\newcommand{\\Uniform}{\\mathrm{Uniform}}\n",
    "\\newcommand{\\Binomial}{\\mathrm{Binomial}}\n",
    "\\newcommand{\\Bernoulli}{\\mathrm{Bernoulli}}\n",
    "\\newcommand{\\Gammap}{\\mathrm{Gamma}}\n",
    "\\newcommand{\\Normal}{\\mathcal{N}}\n",
    "\\newcommand{\\LogN}{\\mathrm{LogN}}\n",
    "\\newcommand{\\Exponential}{\\mathrm{Exp}}\n",
    "\\newcommand{\\Erlang}{\\mathrm{Erlang}}\n",
    "\\newcommand{\\Cauchy}{C}\n",
    "\\newcommand{\\Dir}{\\mathrm{Dir}}\n",
    "\\newcommand{\\Beta}{\\mathrm{Beta}}\n",
    "\\newcommand{\\Pareto}{\\mathrm{Pareto}}\n",
    "\\newcommand{\\lf}{\\left\\{}\n",
    "\\newcommand{\\rf}{\\right\\}}\n",
    "\\newcommand{\\lp}{\\left(}\n",
    "\\newcommand{\\rp}{\\right)}\n",
    "\\newcommand{\\Ecdf}[1]{\\hat{F}_n(#1)}\n",
    "\\newcommand{\\OPT}{\\text{OPT}}\n",
    "\\newcommand{\\opt}{\\text{opt}}\n",
    "\\newcommand{\\boot}{\\text{boot}}\n",
    "\\newcommand{\\bias}{\\text{bias}}\n",
    "\\newcommand{\\se}{\\text{se}}\n",
    "\\newcommand{\\MSE}{\\text{MSE}}\n",
    "\\newcommand{\\qm}{\\text{qm}}\n",
    "\\newcommand{\\as}{\\text{as}}\n",
    "\\newcommand{\\trace}{\\text{trace}}\n",
    "\\newcommand{\\esttheta}{\\hat{\\theta}}\n",
    "\\newcommand{\\estlambda}{\\hat{\\lambda}}\n",
    "\\newcommand{\\estmu}{\\hat{\\mu}}\n",
    "\\newcommand{\\estsigma}{\\hat{\\sigma}}\n",
    "\\newcommand{\\estalpha}{\\hat{\\alpha}}\n",
    "\\newcommand{\\estbeta}{\\hat{\\beta}}\n",
    "\\newcommand{\\estxi}{\\hat{\\xi}}\n",
    "\\newcommand{\\esttau}{\\hat{\\tau}}\n",
    "\\newcommand{\\estpsi}{\\hat{\\psi}}\n",
    "\\newcommand{\\esta}{\\hat{a}}\n",
    "\\newcommand{\\estb}{\\hat{b}}\n",
    "\\newcommand{\\estc}{\\hat{c}}\n",
    "\\newcommand{\\estd}{\\hat{d}}\n",
    "\\newcommand{\\estp}{\\hat{p}}\n",
    "\\newcommand{\\estT}{\\hat{T}}\n",
    "\\newcommand{\\estR}{\\hat{R}}\n",
    "\\newcommand{\\estF}{\\hat{F}}\n",
    "\\newcommand{\\estf}{\\hat{f}}\n",
    "\\newcommand{\\estC}{\\hat{C}}\n",
    "\\newcommand{\\estS}{\\hat{S}}\n",
    "\\newcommand{\\estY}{\\hat{Y}}\n",
    "\\newcommand{\\esty}{\\hat{y}}\n",
    "\\newcommand{\\estVar}{\\hat{\\Var}}\n",
    "\\newcommand{\\estExp}{\\hat{\\Exp}}\n",
    "\\newcommand{\\estSe}{\\hat{\\se}}\n",
    "\\newcommand{\\hatp}{\\hat{p}}\n",
    "\\newcommand{\\hatF}{\\hat{F}}\n",
    "\\newcommand{\\hatT}{\\hat{T}}\n",
    "\\newcommand{\\hattheta}{\\hat{\\theta}}\n",
    "\\newcommand{\\hatse}{\\hat{\\se}}\n",
    "\\\n",
    "\\newcommand{\\MLE}{\\text{MLE}}\n",
    "\\newcommand{\\mlexi}{\\xi_{MLE}}\n",
    "\\newcommand{\\mletheta}{\\theta_{MLE}}\n",
    "\\newcommand{\\mlelambda}{\\lambda_{MLE}}\n",
    "\\newcommand{\\mlesigma}{\\sigma_{MLE}}\n",
    "\\newcommand{\\mlepsi}{\\psi_{MLE}}\n",
    "\\newcommand{\\mlemu}{\\mu_{MLE}}\n",
    "\\newcommand{\\mlenu}{\\nu_{MLE}}\n",
    "\\\n",
    "\\newcommand{\\tilx}{\\tilde{x}}\n",
    "\\newcommand{\\tily}{\\tilde{y}}\n",
    "\\newcommand{\\tilX}{\\tilde{X}}\n",
    "\\newcommand{\\tilY}{\\tilde{Y}}\n",
    "\\newcommand{\\tilK}{\\tilde{K}}\n",
    "\\newcommand{\\tilU}{\\tilde{U}}\n",
    "\\newcommand{\\tilV}{\\tilde{V}}\n",
    "\\newcommand{\\tilSigma}{\\tilde{\\Sigma}}\n",
    "\\newcommand{\\tiltau}{\\tilde{\\tau}}\n",
    "\\newcommand{\\tiltheta}{\\tilde{\\theta}}\n",
    "\\newcommand{\\tillambda}{\\tilde{\\lambda}}\n",
    "\\newcommand{\\tilsigma}{\\tilde{\\sigma}}\n",
    "\\newcommand{\\tilpsi}{\\tilde{\\psi}}\n",
    "\\newcommand{\\tilmu}{\\tilde{\\mu}}\n",
    "\\\n",
    "\\newcommand{\\esttheta}{\\hat{\\theta}}\n",
    "\\newcommand{\\estlambda}{\\hat{\\lambda}}\n",
    "\\newcommand{\\estmu}{\\hat{\\mu}}\n",
    "\\newcommand{\\estsigma}{\\hat{\\sigma}}\n",
    "\\newcommand{\\estalpha}{\\hat{\\alpha}}\n",
    "\\newcommand{\\estbeta}{\\hat{\\beta}}\n",
    "\\newcommand{\\estxi}{\\hat{\\xi}}\n",
    "\\newcommand{\\esttau}{\\hat{\\tau}}\n",
    "\\newcommand{\\estpsi}{\\hat{\\psi}}\n",
    "\\newcommand{\\esta}{\\hat{a}}\n",
    "\\newcommand{\\estb}{\\hat{b}}\n",
    "\\newcommand{\\estc}{\\hat{c}}\n",
    "\\newcommand{\\estd}{\\hat{d}}\n",
    "\\newcommand{\\estf}{\\hat{f}}\n",
    "\\newcommand{\\estp}{\\hat{p}}\n",
    "\\newcommand{\\esty}{\\hat{y}}\n",
    "\\newcommand{\\estT}{\\hat{T}}\n",
    "\\newcommand{\\estR}{\\hat{R}}\n",
    "\\newcommand{\\estF}{\\hat{F}}\n",
    "\\newcommand{\\estC}{\\hat{C}}\n",
    "\\newcommand{\\estS}{\\hat{S}}\n",
    "\\newcommand{\\estY}{\\hat{Y}}\n",
    "\\newcommand{\\estVar}{\\hat{\\Var}}\n",
    "\\newcommand{\\estExp}{\\hat{\\Exp}}\n",
    "\\newcommand{\\estSe}{\\hat{\\se}}\n",
    "\\\n",
    "\\newcommand{\\ecdf}{\\hat{F}}\n",
    "\\\n",
    "\\newcommand{\\hata}{\\hat{a}}\n",
    "\\newcommand{\\hatb}{\\hat{b}}\n",
    "\\newcommand{\\hatc}{\\hat{c}}\n",
    "\\newcommand{\\hatd}{\\hat{d}}\n",
    "\\newcommand{\\hatf}{\\hat{f}}\n",
    "\\newcommand{\\hatg}{\\hat{g}}\n",
    "\\newcommand{\\hatk}{\\hat{k}}\n",
    "\\newcommand{\\hatp}{\\hat{p}}\n",
    "\\newcommand{\\hatr}{\\hat{r}}\n",
    "\\newcommand{\\hatt}{\\hat{t}}\n",
    "\\newcommand{\\haty}{\\hat{y}}\n",
    "\\newcommand{\\hatw}{\\hat{w}}\n",
    "\\\n",
    "\\newcommand{\\hatC}{\\hat{C}}\n",
    "\\newcommand{\\hatF}{\\hat{F}}\n",
    "\\newcommand{\\hatJ}{\\hat{J}}\n",
    "\\newcommand{\\hatK}{\\hat{K}}\n",
    "\\newcommand{\\hatP}{\\hat{P}}\n",
    "\\newcommand{\\hatS}{\\hat{S}}\n",
    "\\newcommand{\\hatT}{\\hat{T}}\n",
    "\\newcommand{\\hatY}{\\hat{Y}}\n",
    "\\newcommand{\\hatV}{\\hat{V}}\n",
    "\\newcommand{\\hatU}{\\hat{U}}\n",
    "\\\n",
    "\\newcommand{\\hateps}{\\hat{\\eps}}\n",
    "\\newcommand{\\hatalpha}{\\hat{\\alpha}}\n",
    "\\newcommand{\\hatbeta}{\\hat{\\beta}}\n",
    "\\newcommand{\\hatpsi}{\\hat{\\psi}}\n",
    "\\newcommand{\\hatlambda}{\\hat{\\lambda}}\n",
    "\\newcommand{\\hattheta}{\\hat{\\theta}}\n",
    "\\newcommand{\\hatsigma}{\\hat{\\sigma}}\n",
    "\\newcommand{\\hatmu}{\\hat{\\mu}}\n",
    "\\newcommand{\\hatnu}{\\hat{\\nu}}\n",
    "\\newcommand{\\hatSigma}{\\hat{\\Sigma}}\n",
    "\\newcommand{\\hatSe}{\\hat{\\se}}\n",
    "\\newcommand{\\hatExp}{\\hat{\\Exp}}\n",
    "\\newcommand{\\hatVar}{\\hat{\\Var}}\n",
    "\\\n",
    "\\newcommand{\\RejectRegion}{R}\n",
    "\\newcommand{\\pvalue}{\\text{p-value}}\n",
    "\\newcommand{\\llr}{\\ell}\n",
    "\\newcommand{\\Llr}{\\mathcal{L}}\n",
    "\\\n",
    "\\newcommand{\\Distr}{\\mathsf{D}}\n",
    "\\newcommand{\\bolda}{\\boldsymbol{a}}\n",
    "\\newcommand{\\boldb}{\\boldsymbol{b}}\n",
    "\\newcommand{\\boldc}{\\boldsymbol{c}}\n",
    "\\newcommand{\\boldd}{\\boldsymbol{d}}\n",
    "\\newcommand{\\bolde}{\\boldsymbol{e}}\n",
    "\\newcommand{\\boldf}{\\boldsymbol{f}}\n",
    "\\newcommand{\\boldg}{\\boldsymbol{g}}\n",
    "\\newcommand{\\boldh}{\\boldsymbol{h}}\n",
    "\\newcommand{\\boldi}{\\boldsymbol{i}}\n",
    "\\newcommand{\\boldj}{\\boldsymbol{j}}\n",
    "\\newcommand{\\boldk}{\\boldsymbol{k}}\n",
    "\\newcommand{\\boldl}{\\boldsymbol{l}}\n",
    "\\newcommand{\\boldm}{\\boldsymbol{m}}\n",
    "\\newcommand{\\boldn}{\\boldsymbol{n}}\n",
    "\\newcommand{\\boldo}{\\boldsymbol{o}}\n",
    "\\newcommand{\\boldp}{\\boldsymbol{p}}\n",
    "\\newcommand{\\boldq}{\\boldsymbol{q}}\n",
    "\\newcommand{\\boldr}{\\boldsymbol{r}}\n",
    "\\newcommand{\\bolds}{\\boldsymbol{s}}\n",
    "\\newcommand{\\boldt}{\\boldsymbol{t}}\n",
    "\\newcommand{\\boldu}{\\boldsymbol{u}}\n",
    "\\newcommand{\\boldv}{\\boldsymbol{v}}\n",
    "\\newcommand{\\boldw}{\\boldsymbol{w}}\n",
    "\\newcommand{\\boldx}{\\boldsymbol{x}}\n",
    "\\newcommand{\\boldy}{\\boldsymbol{y}}\n",
    "\\newcommand{\\boldz}{\\boldsymbol{z}}\n",
    "\\\n",
    "\\newcommand{\\hatboldx}{\\hat{\\boldx}}\n",
    "\\newcommand{\\hatboldk}{\\hat{\\boldk}}\n",
    "\\newcommand{\\hatboldw}{\\hat{\\boldw}}\n",
    "\\newcommand{\\hatboldp}{\\hat{\\boldp}}\n",
    "\\newcommand{\\hatboldK}{\\hat{\\boldK}}\n",
    "\\newcommand{\\hatboldC}{\\hat{\\boldC}}\n",
    "\\newcommand{\\hatboldS}{\\hat{\\boldS}}\n",
    "\\newcommand{\\hatboldU}{\\hat{\\boldU}}\n",
    "\\newcommand{\\hatboldV}{\\hat{\\boldV}}\n",
    "\\newcommand{\\hatboldX}{\\hat{\\boldX}}\n",
    "\\newcommand{\\hatboldSigma}{\\hat{\\boldSigma}}\n",
    "\\newcommand{\\hatboldLambda}{\\hat{\\boldLambda}}\n",
    "\\newcommand{\\hatboldy}{\\hat{\\boldy}}\n",
    "\\newcommand{\\hatboldmu}{\\hat{\\boldmu}}\n",
    "\\newcommand{\\hatboldalpha}{\\hat{\\boldalpha}}\n",
    "\\newcommand{\\hatboldbeta}{\\hat{\\boldbeta}}\n",
    "\\newcommand{\\hatboldgamma}{\\hat{\\boldgamma}}\n",
    "\\newcommand{\\hatboldtheta}{\\hat{\\bold\\theta}}\n",
    "\\newcommand{\\hatboldeps}{\\hat{\\boldeps}}\n",
    "\\newcommand{\\hatbolddelta}{\\hat{\\bolddelta}}\n",
    "\\\n",
    "\\newcommand{\\lp}{\\left(}\n",
    "\\newcommand{\\rp}{\\right)}\n",
    "\\newcommand{\\lf}{\\left\\{}\n",
    "\\newcommand{\\rf}{\\right\\}}\n",
    "\\newcommand{\\ls}{\\left[}\n",
    "\\newcommand{\\rs}{\\right]}\n",
    "\\newcommand{\\lv}{\\left|}\n",
    "\\newcommand{\\rv}{\\right|}\n",
    "\\newcommand{\\la}{\\left\\langle}\n",
    "\\newcommand{\\ra}{\\right\\rangle}\n",
    "$"
   ]
  },
  {
   "cell_type": "markdown",
   "id": "893a698d",
   "metadata": {},
   "source": [
    "$\n",
    "\\newcommand{\\boldA}{\\boldsymbol{A}}\n",
    "\\newcommand{\\boldB}{\\boldsymbol{B}}\n",
    "\\newcommand{\\boldC}{\\boldsymbol{C}}\n",
    "\\newcommand{\\boldD}{\\boldsymbol{D}}\n",
    "\\newcommand{\\boldE}{\\boldsymbol{E}}\n",
    "\\newcommand{\\boldF}{\\boldsymbol{F}}\n",
    "\\newcommand{\\boldH}{\\boldsymbol{H}}\n",
    "\\newcommand{\\boldJ}{\\boldsymbol{J}}\n",
    "\\newcommand{\\boldK}{\\boldsymbol{K}}\n",
    "\\newcommand{\\boldL}{\\boldsymbol{L}}\n",
    "\\newcommand{\\boldM}{\\boldsymbol{M}}\n",
    "\\newcommand{\\boldN}{\\boldsymbol{N}}\n",
    "\\newcommand{\\boldI}{\\boldsymbol{I}}\n",
    "\\newcommand{\\boldP}{\\boldsymbol{P}}\n",
    "\\newcommand{\\boldQ}{\\boldsymbol{Q}}\n",
    "\\newcommand{\\boldR}{\\boldsymbol{R}}\n",
    "\\newcommand{\\boldS}{\\boldsymbol{S}}\n",
    "\\newcommand{\\boldT}{\\boldsymbol{T}}\n",
    "\\newcommand{\\boldO}{\\boldsymbol{O}}\n",
    "\\newcommand{\\boldU}{\\boldsymbol{U}}\n",
    "\\newcommand{\\boldV}{\\boldsymbol{V}}\n",
    "\\newcommand{\\boldW}{\\boldsymbol{W}}\n",
    "\\newcommand{\\boldX}{\\boldsymbol{X}}\n",
    "\\newcommand{\\boldY}{\\boldsymbol{Y}}\n",
    "\\newcommand{\\boldZ}{\\boldsymbol{Z}}\n",
    "\\newcommand{\\boldXY}{\\boldsymbol{XY}}\n",
    "\\\n",
    "\\newcommand{\\Family}{\\mathfrak{F}}\n",
    "\\\n",
    "\\newcommand{\\argmax}{\\arg\\max}\n",
    "\\newcommand{\\argmin}{\\arg\\min}\n",
    "$"
   ]
  },
  {
   "cell_type": "markdown",
   "id": "369e1a56",
   "metadata": {},
   "source": [
    "## Теоретический блок"
   ]
  },
  {
   "cell_type": "markdown",
   "id": "d2802951",
   "metadata": {},
   "source": [
    "### [Задача 1 [1 балл]](#Задача-1)\n",
    "\n",
    "Пусть дана обучающая выборка $\\{(\\boldX, \\boldy) \\colon \\boldX \\in \\RR^{n \\times d}, \\boldy \\in \\RR^{n} \\}$, $n \\ge d$. Предположим, что справедлива следующая модель линейной регрессии:\n",
    "$$\n",
    "y = \\boldx^T\\boldw + \\eps, \\quad \\eps \\sim \\Normal(0, \\sigma^2),\n",
    "$$\n",
    "где $\\boldw$ --- истинный, но неизвестный нам вектор весов. Пусть $\\hatboldw$ --- MLE-оценка вектора весов $\\boldw$.\n",
    "\n",
    "Предположим, к нам поступили тестовые данные $\\boldX^* \\in \\RR^{m \\times d}$, для которых с помощью оценки $\\hatboldw$ предсказываем вектор $\\boldy^*\\in \\RR^{m}$.\n",
    "Найдите математическое ожидание и матрицу ковариаций для вектора $\\boldy^*$ (при условии фиксированной матрицы дизайна $\\boldX$).\n",
    "\n",
    "### [Задача 2 [1 балл]](#Задача-2)\n",
    "Пусть дана выборка $(\\boldX,\\boldt) = \\{(\\boldx_i, t_i)\\colon \\boldx_i \\in \\RR^d, t_i \\in \\RR\\}_{i = 1}^n$, ($\\boldX \\in \\RR^{n \\times d}$, $\\boldt \\in \\RR^n$, $n \\ge d$). Предположим справедливость следующей модели данных\n",
    "$$\n",
    "t = \\boldx^T\\boldw + \\eps(\\boldx),\n",
    "$$\n",
    "где $\\eps(\\boldx) \\sim \\Normal(0, \\sigma(\\boldx)^2)$. Найдите MLE-оценку на вектор весов $\\boldw$ в данном случае.\n",
    "\n",
    "### [Задача 3 [2 балла]](#Задача-3)\n",
    "Пусть дана выборка $(\\boldx, \\boldy) = \\{(x_i,y_i)\\colon x_i, y_i \\in \\RR\\}_{i=1}^n$. Пусть данные соответствуют модели\n",
    "\\begin{gather*}\n",
    "\ty_i = \\beta x_i + \\eps_i,\n",
    "\\end{gather*}\n",
    "где $\\epsilon_i \\sim \\Normal(0, \\sigma^2)$. При этом значения $\\boldx$ наблюдаются с ошибкой, т.е. представлена не выборка $(\\boldx, \\boldy)$, а выборка $(\\boldz, \\boldy) = \\{(z_i, y_i)\\colon z_i, y_i \\in \\RR\\}_{i = 1}^n$, где $z_i = x_i + \\delta_i$, $\\delta_i \\sim \\Normal(0, \\tau^2)$. Шумы $\\eps_i$ и $\\delta_i$ независимы. Оценим величину $\\beta$, используя стандартный метод наименьших квадратов согласно формуле\n",
    "\\begin{gather*}\n",
    "\t\\hatbeta = \\frac{\\sum_{i=1}^n z_i y_i}{\\sum_{i=1}^n z_i^2}.\n",
    "\\end{gather*}\n",
    "Докажите, что оценка $\\hatbeta$ не является состоятельной. Для этого покажите, что $\\hatbeta \\xrightarrow[]{\\Prob} a\\beta$ при $n \\to \\infty$. Найдите явное выражение для $a$ в предположении, что точки $\\{x_i\\}_{i=1}^n$ поступают из некоторого распределения $F(x)$ с конечными первыми и вторыми моментами $\\Exp(X)$ и $\\Exp(X^2)$. \n",
    "\n",
    "### [Задача 4 [2 балла]](#Задача-4)\n",
    "Пусть дана обучающая выборка $\\{(\\boldx, \\boldy) \\colon \\boldx \\in \\RR^{n}, \\boldy \\in \\RR^{n} \\}$. Предположим, что справедлива следующая модель линейной регрессии:\n",
    "$$\n",
    "y = w_0 + w_1 x + \\eps,\\qquad \\eps \\sim \\Normal(0, \\sigma^2).\n",
    "$$\n",
    "Сконструируйте асимтотический тест Вальда для проверки гипотезы $H_0 \\colon w_1 = \\alpha w_0$.\n",
    "\n",
    "_Внимание. Замечание про асимптотичность тут не просто так._\n",
    "\n",
    "### [Задача 5 [2 балла]](#Задача-5)\n",
    "Рассмотрим задачу восстановления регрессии. Модель регрессии имеет вид\n",
    "$$\n",
    "t = \\boldx^T\\boldw + \\eps,\n",
    "$$ \n",
    "где $\\eps \\sim \\Normal(0,\\beta^{-1})$, и на веса $\\boldw$ наложено априорное распределение вида $p(\\boldw) = \\Normal(\\boldw|\\boldw_0,\\boldS_0)$. \n",
    "Пусть дана выборка $(\\boldX, \\boldt) = \\{(\\boldx_i, t_i)\\colon \\boldx_i \\in \\RR^d, t_i \\in \\RR\\}_{i=1}^n$. Найдите апостериорное распределение $p(\\boldw|\\boldX, \\boldt)$.\n",
    "\n",
    "### [Задача 6 [2 балла]](#Задача-6)\n",
    "Пусть $\\boldx^{n} \\sim f(\\cdot)$, и пусть $\\hatf(\\cdot) = \\hatf(\\cdot;\\boldx^n)$ обозначает ядерную оценку плотности на основе ядра\n",
    "$$\n",
    "K(x) = \n",
    "\\begin{cases}\n",
    "\t1, &x \\in \\lp -\\frac{1}{2}, \\frac{1}{2} \\rp;\\\\\n",
    "\t0, &\\text{в противном случае}.\n",
    "\\end{cases}\n",
    "$$\n",
    "Найдите $\\Exp [\\hatf(x)]$ и $\\Var [\\hatf(x)]$. Покажите, что если $h\\to0$ и $nh\\to\\infty$ при $n\\to\\infty$, то $\\estf(x) \\xrightarrow{\\Prob} f(x)$ при $n\\to\\infty$.\n",
    "\n",
    "*Примечание. В ответе может быть использована истинная плотность $f(x)$*\n",
    "\n",
    "### [Задача 7 [4 балла]](#Задача-7)\n",
    "Рассмотрим задачу непараметрической оценки плотности распределения $p(x)$ по выборке $\\boldX^{(N)}$. Обозначим через $\\hatp(x;\\boldX^{(N)})$\n",
    "оценку плотности, полученную некоторым образом по выборке $\\boldX^{(N)}$. Оценка риска для $\\hatp(x;\\boldX^{(N)})$ имеет вид:\n",
    "$$\n",
    "\\hatJ(h) = \\Int (\\hatp(x;\\boldX^{(N)}))^2 dx - \\frac{2}{N} \\Sum_{i=1}^N \\hatp(X_i;\\boldX^{(N\\backslash i)}),\n",
    "$$\n",
    "где $\\hatp(\\cdot;\\boldx^{(N\\backslash i)})$ --- оценка плотности распределения на основе выборки $\\boldX^{(N\\backslash i)}$, т.е. выборки без объекта $X_i$.\n",
    "\n",
    "\n",
    "1. (Гистограммная оценка) Разобьем диапазон наблюдаемых значений $\\boldX^{(N)}$ на бины ширины $h$. Пусть в итоге значения $\\boldX^{(n)}$ укладываются в $M$ последовательных бинов $B_1, \\dots, B_M$. Пусть $N_m$ --- количество объектов выборки, попавших в $B_m$ ($\\sum_m N_m = N$). Пусть $\\hatp_m$ --- доля объектов выборки, попавших в бин $B_m$:\n",
    "\t$$\n",
    "\tN_m = \\Sum_{i=1}^N I\\ls X_i \\in B_m\\rs, \\quad \\hatp_m = \\frac{N_m}{N}.\n",
    "\t$$\n",
    "\t\n",
    "\tПокажите, что в случае гистограммной оценки плотности оценка риска имеет вид:\n",
    "\t$$\n",
    "\t\\hatJ(h) = \\frac{2}{h(N - 1)} - \\frac{N + 1}{h(N - 1)}\\Sum_{m=1}^M \\hatp_m^2.\n",
    "\t$$\n",
    "\t\n",
    "\tДокажите или опровергните равенство\n",
    "\t$$\n",
    "\t\\Exp[\\hatJ(h)] = \\Exp[J(h)].\n",
    "\t$$\n",
    "\tЕсли равенство не верно, то чему равно $\\Delta J(h) = \\Exp[\\hatJ(h)] - \\Exp[J(h)]$?\n",
    "    \n",
    "2. (Ядерная оценка) Покажите, что в случае ядерной оценки плотности оценка риска имеет вид:\n",
    "\t$$\n",
    "\t\\hatJ(h) \\approx \\frac{1}{hN^2}\\Sum_{i, j} K^*\\lp \\frac{X_i - X_j}{h}\\rp + \\frac{2}{N h}K(0),\n",
    "\t$$\n",
    "\tгде $K^*(x) = K^{(2)}(x) - 2K(x)$ и $K^{(2)}(z) = \\int K(z - y)K(y)dy$. В частности, если $K(x)$ --- это плотность нормального распределения $\\Normal(0, 1)$, т.е. гауссово ядро, то $K^{(2)}(z)$ --- плотность распределения $\\Normal(0, 2)$.\n",
    "\t\n",
    "\tДокажите или опровергните равенство\n",
    "\t$$\n",
    "\t\\Exp[\\hatJ(h)] =  \\Exp[J(h)].\n",
    "\t$$\n",
    "\tЕсли равенство не верно, то чему равно $\\Delta J(h) = \\Exp[\\hatJ(h)] - \\Exp[J(h)]$?\n",
    "\n",
    "### [Задача 8 [3 балла]](#Задача-8)\n",
    "Рассмотрим задачу непараметрической регрессии:\n",
    "$$\n",
    "Y_i = f(X_i) + \\eps_i, \\quad i \\in \\lf 1, \\dots, n \\rf, \\quad X_i \\in \\RR, \\quad Y_i \\in \\RR.\n",
    "$$\n",
    "где $\\eps_i$ и $X_i$ независимы, $\\Exp\\eps_i = 0$, $\\Var\\eps_i = \\sigma^2$, выборка $\\{X_i\\}_{i=1}^n$ одномерная и сэмплируется из отрезка $[0,1]$. Необходимо по имеющимся данным оценить функцию регрессии $f(x) = \\Exp(Y|X=x)$.\n",
    "\n",
    "1. Рассмотрим следующее семейство функций\n",
    "$$\n",
    "\t\\Family_M = \\lf f(x) = \\Sum_{i=1}^M c_i I[x\\in B_i], c_i \\in \\RR, i=\\overline{1, M} \\rf, \\text{ где } B_i = \\ls\\frac{i-1}{M}, \\frac{i}{M}\\rp.\n",
    "\t$$\n",
    "\tПоследний отрезок $B_M$ включает обе граничные точки. Найдите функцию из класса $\\Family_M$, которая минимизирует сумму квадратов ошибок:\n",
    "$$\n",
    "\tr(x;\\boldX^n) = \\argmin_{f(x) \\in \\Family_M}\\Sum_{i=1}^n\\lp Y_i - f(X_i)\\rp^2\n",
    "\t$$\n",
    "    \n",
    "2. Найдите функцию регрессии поточечно, решив в каждой точке $x$ следующую оптимизационную задачу:\n",
    "\n",
    "Формула Надарая-Ватсона\n",
    "$$\n",
    "\tr(x;\\boldX^n) = \\argmin_{y \\in \\RR}\\Sum_{i=1}^nK\\lp\\frac{x-X_i}{h}\\rp\\lp Y_i - y\\rp^2,\n",
    "\t$$\n",
    "\tгде $K(x)$ --- заданная ядерная функция, $h$ --- ширина ядра.\n",
    "\n",
    "3. Какая оценка получится, если изменить задачу на следующую:\n",
    "\t$$\n",
    "\tr(x;\\boldX^n) = \\argmin_{a, b \\in \\RR}\\Sum_{i=1}^n K\\lp\\frac{x-X_i}{h}\\rp\\lp Y_i - a - bX_i\\rp^2,\n",
    "\t$$\n",
    "\tгде $K(x)$ --- заданная ядерная функция, $h$ --- ширина ядра?"
   ]
  },
  {
   "cell_type": "markdown",
   "id": "625abcba",
   "metadata": {},
   "source": [
    "## Практический блок"
   ]
  },
  {
   "cell_type": "markdown",
   "id": "4215261f",
   "metadata": {},
   "source": [
    "### [Задача 9 [2 балла]](#Задача-9)\n",
    "Винни-Пуху на день рождения Сова подарила 5 горшочков с медом, каждый приблизительно весом 1 кг (исходя из объема горшочка и плотности мёда). Однако из проверенных источников (от Пятачка), Винни-Пух получил информацию, что один горшочек предположительно содержит неправильный мёд, причем его вес должен отличаться от 1 кг (из-за содержания неправильных веществ). Для проведения следственных мероприятий у ослика Иа-Иа были изъяты самодельные весы. Взвесив каждый горшочек индивидуально, Винни-Пух обнаружил, что весы явно имеют некоторую неизвестную погрешность взвешивания, так что проделанные измерения не позволяют однозначно проверить информацию о неправильности мёда в одном из горшочков. Поэтому Винни-Пух почему-то решил взвешивать горшочки сразу по два, но как только он закончил эти 10 взвешиваний, как ослик Иа-Иа, пригрозив судебными разбирательствами, в принудительном порядке затребовал свои весы обратно, оставив Винни-Пуха с результатами 15-и взвешиваний.  Нам даны результаты этих взвешиваний --- бинарная матрица $\\boldX \\in \\{0, 1\\}^{n \\times d}$, где $n = 15$ и $d = 5$, и вектор $\\boldy$ с результатами взвешиваний (`honey_X.csv` и `honey_y.csv`). По этим данных для каждого горшочка найдите p-value для гипотезы о том, что данный горшочек содержит неправильный мёд. Если ли среди горшочков такой, который на уровне значимости 95\\% содержит неправильный мёд?  __Дополнительное задание на 1 балл.__ Дисперсия веса горшочка зависит от дизайна взвешиваний (выбора матрицы $\\boldX$). Возможно Винни-Пух ошибся, начав взвешивать горшочки сразу по два, и вместо этого стоило взвесить каждый горшочек отдельно от других ещё по два раза, получив в результате те же самые 15 взвешиваний до того момента, как весы были возвращены Иа-Иа. Найдите отношение дисперсии оценки веса горшочка в случае дизайна, предложенного Винни-Пухом, к дисперсии оценки веса горшочка в случае предложенного <<индивидуального>> дизайна. Какой дизайн лучше с точки зрения поиска горшочка с неправильным мёдом?\n",
    "### [Задача 10 [3 балла]](#Задача-10) \n",
    "Скачайте данные `data.csv`, содержащие 12 столбцов независимых переменных и 1 столбец с зависимой переменной. Первые 250 строк отведите под обучение, а оставшиеся 1250 под тест (да, под обучение отводим сильно меньше).  1. Обучите простую линейную регрессию по обучающей выборке. Примените модель к тестовой выборке и найдите MSE. 2. По обучающей выборке оцените наилучший набор признаков, описывающих выходную переменную. Используйте для этого статистику Cp Mallow, AIC-критерий, BIC-критерий, LOO-проверку. Выбор подмножества признаков проведите полным перебором. Позволяет ли какой-нибудь набор признаков получить значение MSE на тестовых данных меньше, чем на всех признаках? \t _Внимание. В ответе должно быть понятно, какой набор признаков был выбран согласно каждому из критериев._  \n",
    "### [Задача 11 [4 балла]](#Задача-11) \n",
    "Скачать данные со страницы курса (значения коэффициента преломления для разных типов стекла; первый столбец). Оценить плотность распределения этих значений, используя гистограмму и ядерную оценку. Для подбора ширины ячейки или ширины ядра использовать перекрестную проверку (кросс-проверку).  Для выбранных значений ширины ячейки и ширины ядра построить 95\\%-ые доверительные интервалы для полученной оценки плотности.  \n",
    "### [Задача 12 [4 балла]](#Задача-12)\n",
    "По данным из предыдущей задачи, используя в качестве выходной переменной $y$ значения преломления для разных типов стекла, а в качестве входной переменной $x$ –– данные о содержании алюминия (четвертая переменная в матрице данных), восстановить зависимость между $y$ и $x$ с помощью ядерной непараметрической регрессии. Оценку ядра проводить с помощью перекрестной проверки. Построить 95\\%-ые доверительные интервалы для полученной оценки функции регрессии."
   ]
  },
  {
   "cell_type": "markdown",
   "id": "ed8510e3",
   "metadata": {},
   "source": [
    "#### Notebook formatting"
   ]
  },
  {
   "cell_type": "code",
   "execution_count": 5,
   "id": "2f9452da",
   "metadata": {
    "ExecuteTime": {
     "end_time": "2023-05-25T08:24:51.814471Z",
     "start_time": "2023-05-25T08:24:51.781283Z"
    }
   },
   "outputs": [],
   "source": [
    "import re\n",
    "\n",
    "\n",
    "def create_link(description, section_name):\n",
    "    return f\"[{description}](#{section_name.replace(' ', '-')})\"\n",
    "\n",
    "\n",
    "def add_link(task: str):\n",
    "    return re.sub(\n",
    "        r\"(Задача \\d+) \\[.*?\\]\",\n",
    "        lambda match: \"### \" + create_link(match.group(0), match.group(1)),\n",
    "        task,\n",
    "    )\n",
    "\n",
    "\n",
    "def create_solution_template(task: str):\n",
    "    task = re.sub(r\"(Задача \\d+) \\[.*?\\]\", r\"### \\1\", task)\n",
    "    header, *subtasks = re.split(r\"(?=1\\. )\", task)\n",
    "    subtasks = [\n",
    "        subtask.replace(\"1. \", f\"{i}. \") for i, subtask in enumerate(subtasks, 1)\n",
    "    ]\n",
    "    if len(subtasks) == 0:\n",
    "        subtasks = [\"\"]\n",
    "    subtasks = [\n",
    "        \"---\\n#### \" + subtask + \"\\n$\\\\displaystyle{\\n}$\\n\\n$\\\\displaystyle{\\n}$\\n\"\n",
    "        for subtask in subtasks\n",
    "    ]\n",
    "\n",
    "    return header + \"\".join(subtasks)\n",
    "\n",
    "\n",
    "def format_tasks(text):\n",
    "    if not text:\n",
    "        return\n",
    "\n",
    "    tasks = re.split(r\"(?=Задача \\d+)\", text)[1:]\n",
    "    tasks_with_links = \"\".join(add_link(task) for task in tasks)\n",
    "    solutions = \"\".join(create_solution_template(task) for task in tasks)\n",
    "\n",
    "    print(\"\\n\\nFormatted output:\\n\")\n",
    "    print(tasks_with_links)\n",
    "    print(\"\\n\\n\")\n",
    "    print(solutions)"
   ]
  },
  {
   "cell_type": "code",
   "execution_count": 6,
   "id": "7c2a083a",
   "metadata": {
    "ExecuteTime": {
     "end_time": "2023-05-25T08:23:45.030995Z",
     "start_time": "2023-05-25T08:23:44.729763Z"
    }
   },
   "outputs": [
    {
     "name": "stdout",
     "output_type": "stream",
     "text": [
      "\n"
     ]
    }
   ],
   "source": [
    "format_tasks(input())"
   ]
  },
  {
   "cell_type": "code",
   "execution_count": 2,
   "id": "6b20a740",
   "metadata": {
    "ExecuteTime": {
     "end_time": "2023-07-08T15:54:24.450744Z",
     "start_time": "2023-07-08T15:54:13.519808Z"
    }
   },
   "outputs": [],
   "source": [
    "import dataclasses\n",
    "import matplotlib.pyplot as plt\n",
    "import numpy as np\n",
    "import pandas as pd\n",
    "import pprint\n",
    "import scipy\n",
    "import sklearn\n",
    "import sklearn.linear_model\n",
    "import statsmodels.api as sm\n",
    "import tqdm.auto"
   ]
  },
  {
   "cell_type": "markdown",
   "id": "36889d8a",
   "metadata": {},
   "source": [
    "### Задача 1\n",
    "\n",
    "Пусть дана обучающая выборка $\\{(\\boldX, \\boldy) \\colon \\boldX \\in \\RR^{n \\times d}, \\boldy \\in \\RR^{n} \\}$, $n \\ge d$. Предположим, что справедлива следующая модель линейной регрессии:\n",
    "$$\n",
    "y = \\boldx^T\\boldw + \\eps, \\quad \\eps \\sim \\Normal(0, \\sigma^2),\n",
    "$$\n",
    "где $\\boldw$ –– истинный, но неизвестный нам вектор весов. Пусть $\\hatboldw$ –– MLE-оценка вектора весов $\\boldw$.\n",
    "\n",
    "Предположим, к нам поступили тестовые данные $\\boldX^* \\in \\RR^{m \\times d}$, для которых с помощью оценки $\\hatboldw$ предсказываем вектор $\\boldy^*\\in \\RR^{m}$.\n",
    "Найдите математическое ожидание и матрицу ковариаций для вектора $\\boldy^*$ (при условии фиксированной матрицы дизайна $\\boldX$)."
   ]
  },
  {
   "cell_type": "markdown",
   "id": "89133742",
   "metadata": {},
   "source": [
    "---\n",
    "$\\displaystyle{\n",
    "\\hatboldw = \\argmax_w P(\\boldX, \\boldy)\n",
    "}$\n",
    "\n",
    "В предположении независимости элементов выборки:\n",
    "\n",
    "$\\displaystyle{\n",
    "\\hatboldw = \n",
    "\\argmax_w \\prod_i P(X_i, y_i) = \n",
    "\\argmax_w \\prod_i P(X_i) P(y_i | X_i) = \n",
    "\\argmax_w \\prod_i P(y_i | X_i)\n",
    "}$\n",
    "\n",
    "В предположении линейной зависимости (то есть что остатки распределены как $\\Normal(0, \\sigma^2)$):\n",
    "\n",
    "$\\displaystyle{\n",
    "\\begin{align*}\n",
    "\\argmax_w \\prod_i P(y_i == X_i^T w + \\epsilon_i | X_i) = \n",
    "& \\argmax_w \\sum_i \\ln P(\\epsilon_i == y_i - X_i^T w | X_i) =\\\\=\n",
    "& \\argmax_w \\sum_i \\ln \\exp\\left\\{-\\frac{(y_i - X_i^T w)^2}{2\\sigma^2}\\right\\} =\\\\=\n",
    "& \\argmin_w \\sum_i (y_i - X_i^T w)^2 =\\\\=\n",
    "& \\argmin_w (\\boldy - \\boldX w)^T(\\boldy - \\boldX w)\n",
    "\\end{align*}\n",
    "}$\n",
    "\n",
    "$\\displaystyle{\n",
    "\\begin{align*}\n",
    "0 = \n",
    "&\\frac{d}{d\\hatboldw}\\left((\\boldy - \\boldX \\hatboldw)^T(\\boldy - \\boldX \\hatboldw)\\right) =\\\\=\n",
    "&\\frac{d}{d\\hatboldw}\\left(\\boldy^T \\boldy - \\hatboldw^T \\boldX^T \\boldy - \\boldy^T\\boldX \\hatboldw + \\hatboldw^T \\boldX^T \\boldX \\hatboldw\\right) =\\\\=\n",
    "& - 2\\boldy^T\\boldX + 2 \\boldX^T \\boldX \\hatboldw\\\\\n",
    "\\end{align*}\\\\\n",
    "\\hatboldw = (\\boldX^T \\boldX)^{-1}\\boldX^T\\boldy\n",
    "}$"
   ]
  },
  {
   "cell_type": "markdown",
   "id": "d83ccad4",
   "metadata": {},
   "source": [
    "При условии фиксированной матрицы $\\boldX$:\n",
    "\n",
    "$\\displaystyle{\n",
    "\\begin{align*}\n",
    "\\Exp \\boldy^* =\n",
    "& \\Exp (\\boldX^* \\hatboldw  + \\eps)=\\\\=\n",
    "& \\Exp \\boldX^* (\\boldX^T \\boldX)^{-1}\\boldX^T\\boldy =\\\\=\n",
    "& \\Exp \\boldX^* (\\boldX^T \\boldX)^{-1}\\boldX^T(\\boldX w + \\epsilon) =\\\\=\n",
    "& \\Exp \\boldX^* (\\boldX^T \\boldX)^{-1}(\\boldX^T \\boldX)w +\n",
    "\\boldX^* (\\boldX^T \\boldX)^{-1} \\boldX^T\\Exp \\epsilon =\\\\=\n",
    "& \\Exp \\boldX^* w =\\\\=\n",
    "& \\boldX^* w\n",
    "\\end{align*}\n",
    "}$\n",
    "\n",
    "Матрица ковариаций зависит от того, как мы определяем $\\boldy^*$ ––\n",
    "как $\\boldX^*\\hatboldw$ или же $\\boldX^*\\hatboldw + \\eps$. Обычно при применении модели мы заменяем шум на его матожидание, поскольку ожидаем получить нечто фиксированное, а не случайную величину. Но в теории вторая форма есть обобщение первой, поэтому выберем ее.\n",
    "\n",
    "$\\displaystyle{\n",
    "\\begin{align*}\n",
    "\\Var \\boldy^* =\n",
    "& \\Var(\\boldX^* \\hatboldw + \\eps_1) =\\\\=\n",
    "& \\Var(\\boldX^* w + \\boldX^* (\\boldX^T \\boldX)^{-1} \\boldX^T \\eps_2 + \\eps_1) =\\\\=\n",
    "& \\Var(\\boldX^* (\\boldX^T \\boldX)^{-1} \\boldX^T \\eps_2) + \\sigma^2E =\\\\=\n",
    "& \\boldX^* (\\boldX^T \\boldX)^{-1} \\boldX^T \\boldX  (\\boldX^T \\boldX)^{-T} (\\boldX^*)^T\\Var\\eps_2 + \\sigma^2E =\\\\=\n",
    "& (\\boldX^*  (\\boldX^T \\boldX)^{-1} (\\boldX^*)^T + E)\\sigma^2 \n",
    "\\end{align*}\n",
    "}$"
   ]
  },
  {
   "cell_type": "markdown",
   "id": "c87b39ea",
   "metadata": {},
   "source": [
    "### Задача 2\n",
    "Пусть дана выборка $(\\boldX,\\boldt) = \\{(\\boldx_i, t_i)\\colon \\boldx_i \\in \\RR^d, t_i \\in \\RR\\}_{i = 1}^n$, ($\\boldX \\in \\RR^{n \\times d}$, $\\boldt \\in \\RR^n$, $n \\ge d$). Предположим справедливость следующей модели данных\n",
    "$$\n",
    "t = \\boldx^T\\boldw + \\eps(\\boldx),\n",
    "$$\n",
    "где $\\eps(\\boldx) \\sim \\Normal(0, \\sigma(\\boldx)^2)$. Найдите MLE-оценку на вектор весов $\\boldw$ в данном случае."
   ]
  },
  {
   "cell_type": "markdown",
   "id": "16da027a",
   "metadata": {},
   "source": [
    "---\n",
    "\n",
    "$\\displaystyle{\n",
    "\\begin{align*}\n",
    "\\hatboldw = \n",
    "& \\argmax_w P(\\boldX, \\boldt) =\\\\=\n",
    "& \\argmax_w P(\\boldt | \\boldX) =\\\\=\n",
    "& \\argmax_w P(\\boldt= \\boldX w + \\eps(\\boldX) | \\boldX) =\\\\=\n",
    "& \\argmax_w \\prod_i P(\\eps(\\boldX_i) = \\boldt_i - \\boldX_i w | \\boldX) =\\\\=\n",
    "& \\argmin_w \\sum_i \\ln \\exp{\\frac{(\\boldt_i - \\boldX_i w)^2}{2\\sigma(\\boldX_i)^2}} =\\\\=\n",
    "& \\argmin_w \\sum_i \\frac{(\\boldt_i - \\boldX_i w)^2}{\\sigma(\\boldX_i)^2} =\\\\=\n",
    "& \\argmin_w (\\hat\\boldt - \\hat\\boldX w)^T(\\hat\\boldt - \\hat\\boldX w) =\\\\=\n",
    "& (\\hat\\boldX^T \\hat\\boldX)^{-1}\\hat\\boldX^T\\hat\\boldt\n",
    "\\end{align*}\n",
    "}$\n",
    "\n",
    "где\n",
    "\n",
    "$\\displaystyle{\n",
    "\\hat\\boldt_i = \\frac{\\boldt_i}{\\sigma(\\boldX_i)}\\\\\n",
    "\\hat\\boldX_i = \\frac{1}{\\sigma(\\boldX_i)}\\boldX_i\\\\\n",
    "}$\n",
    "\n",
    "Обозначим $S \\in \\mathbb{R}^{n\\times n}:\\, \\text{diag}_i(S) = \\cfrac{1}{\\sigma(\\boldX_i)}$, тогда:\n",
    "\n",
    "$\\displaystyle{\n",
    "\\hat\\boldt = S\\boldt\\\\\n",
    "\\hat\\boldX = S\\boldX\\\\\n",
    "\\hatboldw = \n",
    "(\\boldX^T S^T S\\boldX)^{-1}\\boldX^TS^T S\\boldt =\n",
    "(\\boldX^T S^2\\boldX)^{-1}\\boldX^TS^2\\boldt\n",
    "}$"
   ]
  },
  {
   "cell_type": "markdown",
   "id": "399c8ed3",
   "metadata": {},
   "source": [
    "### Задача 3\n",
    "Пусть дана выборка $(\\boldx, \\boldy) = \\{(x_i,y_i)\\colon x_i, y_i \\in \\RR\\}_{i=1}^n$. Пусть данные соответствуют модели\n",
    "\\begin{gather*}\n",
    "\ty_i = \\beta x_i + \\eps_i,\n",
    "\\end{gather*}\n",
    "где $\\epsilon_i \\sim \\Normal(0, \\sigma^2)$. При этом значения $\\boldx$ наблюдаются с ошибкой, т.е. представлена не выборка $(\\boldx, \\boldy)$, а выборка $(\\boldz, \\boldy) = \\{(z_i, y_i)\\colon z_i, y_i \\in \\RR\\}_{i = 1}^n$, где $z_i = x_i + \\delta_i$, $\\delta_i \\sim \\Normal(0, \\tau^2)$. Шумы $\\eps_i$ и $\\delta_i$ независимы. Оценим величину $\\beta$, используя стандартный метод наименьших квадратов согласно формуле\n",
    "\\begin{gather*}\n",
    "\t\\hatbeta = \\frac{\\sum_{i=1}^n z_i y_i}{\\sum_{i=1}^n z_i^2}.\n",
    "\\end{gather*}\n",
    "Докажите, что оценка $\\hatbeta$ не является состоятельной. Для этого покажите, что $\\hatbeta \\xrightarrow[]{\\Prob} a\\beta$ при $n \\to \\infty$. Найдите явное выражение для $a$ в предположении, что точки $\\{x_i\\}_{i=1}^n$ поступают из некоторого распределения $F(x)$ с конечными первыми и вторыми моментами $\\Exp(X)$ и $\\Exp(X^2)$. "
   ]
  },
  {
   "cell_type": "markdown",
   "id": "46706b5d",
   "metadata": {},
   "source": [
    "---\n",
    "\n",
    "$\\displaystyle{\n",
    "\\begin{align*}\n",
    "\\hatbeta = \n",
    "& \\frac{\\sum_{i=1}^n z_i y_i}{\\sum_{i=1}^n z_i^2} =\\\\=\n",
    "& \\frac{\\sum_{i=1}^n z_i y_i/n}{\\sum_{i=1}^n z_i^2/n} \\xrightarrow[]{\\Prob}\n",
    "\\frac{\\Exp[zy]}{\\Exp[z^2]} =\\\\=\n",
    "& \\frac{\\Exp[(x + \\delta)(\\beta x + \\eps)]}{\\Exp[(x + \\delta)^2]} =\\\\=\n",
    "& \\frac{\\beta\\Exp[x^2] + \\beta\\Exp[\\delta]\\Exp[x] +\\Exp[x]\\Exp[\\eps] + \\Exp[\\delta]\\Exp[\\eps]}{\\Exp[x^2] + 2\\Exp[x]\\Exp[\\delta] + \\Exp[\\delta^2]} =\\\\=\n",
    "& \\frac{\\beta\\Exp[x^2]}{\\Exp[x^2] + \\tau^2} := \\alpha\\beta\n",
    "\\end{align*}\n",
    "}$\n",
    "\n",
    "где $\\displaystyle{\\alpha = \\frac{\\Exp[x^2]}{\\Exp[x^2] + \\tau^2}}$\n",
    "\n",
    "Получаем, что оценка смещена, значит она несостоятельна. Проведем эксперимент, взяв в качестве распределения $F(x)$ равномерное на $[0,1]$:"
   ]
  },
  {
   "cell_type": "code",
   "execution_count": 8,
   "id": "db05fbaf",
   "metadata": {
    "ExecuteTime": {
     "end_time": "2023-05-03T10:03:44.462568Z",
     "start_time": "2023-05-03T10:03:44.444224Z"
    }
   },
   "outputs": [
    {
     "data": {
      "application/javascript": [
       "\n",
       "            setTimeout(function() {\n",
       "                var nbb_cell_id = 8;\n",
       "                var nbb_unformatted_code = \"def get_mle_beta_estimate(x, y):\\n    return (y @ x) / (x @ x)\\n\\n\\n@dataclasses.dataclass\\nclass NoisySample:\\n    x_distribution: scipy.stats._distn_infrastructure.rv_frozen\\n    beta: float\\n    sigma: float\\n    tau: float\\n\\n    def rvs(self, n):\\n        x = self.x_distribution.rvs(n)\\n        noise = scipy.stats.norm(0, self.sigma).rvs(n)\\n        observation_noise = scipy.stats.norm(0, self.tau).rvs(n)\\n        y = self.beta * x + noise\\n        z = x + observation_noise\\n        return x, y, z\\n\\n    def get_noisy_sample_beta_estimate_limit(self):\\n        second_moment = self.x_distribution.moment(2)\\n        return self.beta * second_moment / (second_moment + self.tau**2)\";\n",
       "                var nbb_formatted_code = \"def get_mle_beta_estimate(x, y):\\n    return (y @ x) / (x @ x)\\n\\n\\n@dataclasses.dataclass\\nclass NoisySample:\\n    x_distribution: scipy.stats._distn_infrastructure.rv_frozen\\n    beta: float\\n    sigma: float\\n    tau: float\\n\\n    def rvs(self, n):\\n        x = self.x_distribution.rvs(n)\\n        noise = scipy.stats.norm(0, self.sigma).rvs(n)\\n        observation_noise = scipy.stats.norm(0, self.tau).rvs(n)\\n        y = self.beta * x + noise\\n        z = x + observation_noise\\n        return x, y, z\\n\\n    def get_noisy_sample_beta_estimate_limit(self):\\n        second_moment = self.x_distribution.moment(2)\\n        return self.beta * second_moment / (second_moment + self.tau**2)\";\n",
       "                var nbb_cells = Jupyter.notebook.get_cells();\n",
       "                for (var i = 0; i < nbb_cells.length; ++i) {\n",
       "                    if (nbb_cells[i].input_prompt_number == nbb_cell_id) {\n",
       "                        if (nbb_cells[i].get_text() == nbb_unformatted_code) {\n",
       "                             nbb_cells[i].set_text(nbb_formatted_code);\n",
       "                        }\n",
       "                        break;\n",
       "                    }\n",
       "                }\n",
       "            }, 500);\n",
       "            "
      ],
      "text/plain": [
       "<IPython.core.display.Javascript object>"
      ]
     },
     "metadata": {},
     "output_type": "display_data"
    }
   ],
   "source": [
    "def get_mle_beta_estimate(x, y):\n",
    "    return (y @ x) / (x @ x)\n",
    "\n",
    "\n",
    "@dataclasses.dataclass\n",
    "class NoisySample:\n",
    "    x_distribution: scipy.stats._distn_infrastructure.rv_frozen\n",
    "    beta: float\n",
    "    sigma: float\n",
    "    tau: float\n",
    "\n",
    "    def rvs(self, n):\n",
    "        x = self.x_distribution.rvs(n)\n",
    "        noise = scipy.stats.norm(0, self.sigma).rvs(n)\n",
    "        observation_noise = scipy.stats.norm(0, self.tau).rvs(n)\n",
    "        y = self.beta * x + noise\n",
    "        z = x + observation_noise\n",
    "        return x, y, z\n",
    "\n",
    "    def get_noisy_sample_beta_estimate_limit(self):\n",
    "        second_moment = self.x_distribution.moment(2)\n",
    "        return self.beta * second_moment / (second_moment + self.tau**2)"
   ]
  },
  {
   "cell_type": "code",
   "execution_count": 9,
   "id": "8190eb5d",
   "metadata": {
    "ExecuteTime": {
     "end_time": "2023-05-03T10:05:34.769976Z",
     "start_time": "2023-05-03T10:05:32.295323Z"
    }
   },
   "outputs": [
    {
     "data": {
      "application/javascript": [
       "\n",
       "            setTimeout(function() {\n",
       "                var nbb_cell_id = 9;\n",
       "                var nbb_unformatted_code = \"noisy_sample = NoisySample(x_distribution=scipy.stats.uniform(), beta=3, sigma=2, tau=1)\\n\\nx_beta_estimate_means = []\\nx_beta_estimate_stds = []\\nz_beta_estimate_means = []\\nz_beta_estimate_stds = []\\nn_samples = np.linspace(2, 100, dtype=int)\\nn_tries = 100\\n\\nfor n in n_samples:\\n    x_beta_estimates = []\\n    z_beta_estimates = []\\n    for _ in range(n_tries):\\n        x, y, z = noisy_sample.rvs(n)\\n        x_beta_estimates.append(get_mle_beta_estimate(x, y))\\n        z_beta_estimates.append(get_mle_beta_estimate(z, y))\\n\\n    x_beta_estimate_means.append(np.mean(x_beta_estimates))\\n    z_beta_estimate_means.append(np.mean(z_beta_estimates))\\n    x_beta_estimate_stds.append(np.std(x_beta_estimates))\\n    z_beta_estimate_stds.append(np.std(z_beta_estimates))\";\n",
       "                var nbb_formatted_code = \"noisy_sample = NoisySample(x_distribution=scipy.stats.uniform(), beta=3, sigma=2, tau=1)\\n\\nx_beta_estimate_means = []\\nx_beta_estimate_stds = []\\nz_beta_estimate_means = []\\nz_beta_estimate_stds = []\\nn_samples = np.linspace(2, 100, dtype=int)\\nn_tries = 100\\n\\nfor n in n_samples:\\n    x_beta_estimates = []\\n    z_beta_estimates = []\\n    for _ in range(n_tries):\\n        x, y, z = noisy_sample.rvs(n)\\n        x_beta_estimates.append(get_mle_beta_estimate(x, y))\\n        z_beta_estimates.append(get_mle_beta_estimate(z, y))\\n\\n    x_beta_estimate_means.append(np.mean(x_beta_estimates))\\n    z_beta_estimate_means.append(np.mean(z_beta_estimates))\\n    x_beta_estimate_stds.append(np.std(x_beta_estimates))\\n    z_beta_estimate_stds.append(np.std(z_beta_estimates))\";\n",
       "                var nbb_cells = Jupyter.notebook.get_cells();\n",
       "                for (var i = 0; i < nbb_cells.length; ++i) {\n",
       "                    if (nbb_cells[i].input_prompt_number == nbb_cell_id) {\n",
       "                        if (nbb_cells[i].get_text() == nbb_unformatted_code) {\n",
       "                             nbb_cells[i].set_text(nbb_formatted_code);\n",
       "                        }\n",
       "                        break;\n",
       "                    }\n",
       "                }\n",
       "            }, 500);\n",
       "            "
      ],
      "text/plain": [
       "<IPython.core.display.Javascript object>"
      ]
     },
     "metadata": {},
     "output_type": "display_data"
    }
   ],
   "source": [
    "noisy_sample = NoisySample(x_distribution=scipy.stats.uniform(), beta=3, sigma=2, tau=1)\n",
    "\n",
    "x_beta_estimate_means = []\n",
    "x_beta_estimate_stds = []\n",
    "z_beta_estimate_means = []\n",
    "z_beta_estimate_stds = []\n",
    "n_samples = np.linspace(2, 100, dtype=int)\n",
    "n_tries = 100\n",
    "\n",
    "for n in n_samples:\n",
    "    x_beta_estimates = []\n",
    "    z_beta_estimates = []\n",
    "    for _ in range(n_tries):\n",
    "        x, y, z = noisy_sample.rvs(n)\n",
    "        x_beta_estimates.append(get_mle_beta_estimate(x, y))\n",
    "        z_beta_estimates.append(get_mle_beta_estimate(z, y))\n",
    "\n",
    "    x_beta_estimate_means.append(np.mean(x_beta_estimates))\n",
    "    z_beta_estimate_means.append(np.mean(z_beta_estimates))\n",
    "    x_beta_estimate_stds.append(np.std(x_beta_estimates))\n",
    "    z_beta_estimate_stds.append(np.std(z_beta_estimates))"
   ]
  },
  {
   "cell_type": "code",
   "execution_count": 10,
   "id": "c51a52fa",
   "metadata": {
    "ExecuteTime": {
     "end_time": "2023-05-03T10:05:35.900930Z",
     "start_time": "2023-05-03T10:05:35.762357Z"
    }
   },
   "outputs": [
    {
     "data": {
      "text/plain": [
       "''"
      ]
     },
     "execution_count": 10,
     "metadata": {},
     "output_type": "execute_result"
    },
    {
     "data": {
      "image/png": "[encoded data removed]",
      "text/plain": [
       "<Figure size 640x480 with 1 Axes>"
      ]
     },
     "metadata": {},
     "output_type": "display_data"
    },
    {
     "data": {
      "application/javascript": [
       "\n",
       "            setTimeout(function() {\n",
       "                var nbb_cell_id = 10;\n",
       "                var nbb_unformatted_code = \"plt.plot(x_beta_estimate_means, label=\\\"non noisy sample beta estimate\\\")\\nplt.plot(z_beta_estimate_means, label=\\\"noisy sample beta estimate\\\")\\nplt.plot(x_beta_estimate_stds, label=\\\"non noisy sample beta estimate std\\\")\\nplt.plot(z_beta_estimate_stds, label=\\\"noisy sample beta estimate std\\\")\\nplt.axhline(noisy_sample.beta, ls=\\\"--\\\", c=\\\"red\\\", alpha=0.5, label=\\\"true beta\\\")\\nplt.axhline(\\n    noisy_sample.get_noisy_sample_beta_estimate_limit(),\\n    ls=\\\"--\\\",\\n    label=\\\"noisy sample beta estimate theoretical limit\\\",\\n    alpha=0.5,\\n)\\nplt.legend()\\n;\";\n",
       "                var nbb_formatted_code = \"plt.plot(x_beta_estimate_means, label=\\\"non noisy sample beta estimate\\\")\\nplt.plot(z_beta_estimate_means, label=\\\"noisy sample beta estimate\\\")\\nplt.plot(x_beta_estimate_stds, label=\\\"non noisy sample beta estimate std\\\")\\nplt.plot(z_beta_estimate_stds, label=\\\"noisy sample beta estimate std\\\")\\nplt.axhline(noisy_sample.beta, ls=\\\"--\\\", c=\\\"red\\\", alpha=0.5, label=\\\"true beta\\\")\\nplt.axhline(\\n    noisy_sample.get_noisy_sample_beta_estimate_limit(),\\n    ls=\\\"--\\\",\\n    label=\\\"noisy sample beta estimate theoretical limit\\\",\\n    alpha=0.5,\\n)\\nplt.legend()\\n;\";\n",
       "                var nbb_cells = Jupyter.notebook.get_cells();\n",
       "                for (var i = 0; i < nbb_cells.length; ++i) {\n",
       "                    if (nbb_cells[i].input_prompt_number == nbb_cell_id) {\n",
       "                        if (nbb_cells[i].get_text() == nbb_unformatted_code) {\n",
       "                             nbb_cells[i].set_text(nbb_formatted_code);\n",
       "                        }\n",
       "                        break;\n",
       "                    }\n",
       "                }\n",
       "            }, 500);\n",
       "            "
      ],
      "text/plain": [
       "<IPython.core.display.Javascript object>"
      ]
     },
     "metadata": {},
     "output_type": "display_data"
    }
   ],
   "source": [
    "plt.plot(x_beta_estimate_means, label=\"non noisy sample beta estimate\")\n",
    "plt.plot(z_beta_estimate_means, label=\"noisy sample beta estimate\")\n",
    "plt.plot(x_beta_estimate_stds, label=\"non noisy sample beta estimate std\")\n",
    "plt.plot(z_beta_estimate_stds, label=\"noisy sample beta estimate std\")\n",
    "plt.axhline(noisy_sample.beta, ls=\"--\", c=\"red\", alpha=0.5, label=\"true beta\")\n",
    "plt.axhline(\n",
    "    noisy_sample.get_noisy_sample_beta_estimate_limit(),\n",
    "    ls=\"--\",\n",
    "    label=\"noisy sample beta estimate theoretical limit\",\n",
    "    alpha=0.5,\n",
    ")\n",
    "plt.legend()\n",
    ";"
   ]
  },
  {
   "cell_type": "markdown",
   "id": "b52b4f8b",
   "metadata": {},
   "source": [
    "Видно, что дисперсия шумной и не шумной оценок сходится к 0 с ростом числа наблюдений. Также обе эмпирические оценки сходятся к теоретическим - не шумная к истинному параметру $\\beta$, а шумная к значению $\\cfrac{\\beta\\Exp[x^2]}{\\Exp[x^2] + \\tau^2}$"
   ]
  },
  {
   "cell_type": "markdown",
   "id": "c3fcf25a",
   "metadata": {},
   "source": [
    "### Задача 4\n",
    "Пусть дана обучающая выборка $\\{(\\boldx, \\boldy) \\colon \\boldx \\in \\RR^{n}, \\boldy \\in \\RR^{n} \\}$. Предположим, что справедлива следующая модель линейной регрессии:\n",
    "$$\n",
    "y = w_0 + w_1 x + \\eps,\\qquad \\eps \\sim \\Normal(0, \\sigma^2).\n",
    "$$\n",
    "Сконструируйте асимтотический тест Вальда для проверки гипотезы $H_0 \\colon w_1 = \\alpha w_0$.\n",
    "\n",
    "_Внимание. Замечание про асимптотичность тут не просто так._\n",
    "\n",
    "---"
   ]
  },
  {
   "cell_type": "markdown",
   "id": "43baa289",
   "metadata": {},
   "source": [
    "MLE параметры без ограничений:\n",
    "\n",
    "$\\displaystyle{\n",
    "\\begin{align*}\n",
    "(w_0^{mle}, w_1^{mle}) = \n",
    "& \\argmax_{w_0, w_1} L(w_0, w_1) =\\\\=\n",
    "& \\argmax_{w_0, w_1} \\prod_i P_{w_0, w_1}(\\boldx_i, \\boldy_i) =\\\\=\n",
    "& \\argmax_{w_0, w_1} \\sum_i \\ln P_{w_0, w_1}(\\boldy_i| \\boldx_i) =\\\\=\n",
    "& \\argmax_{w_0, w_1} \\sum_i \\ln P(\\epsilon_i == \\boldy_i - w_0 - w_1\\boldx_i | \\boldx_i) =\\\\=\n",
    "& \\argmin_{w_0, w_1} \\sum_i (\\boldy_i - w_0 - w_1\\boldx_i)^2\n",
    "\\end{align*}\n",
    "}$\n",
    "\n",
    "$\\displaystyle{\n",
    "\\begin{align*}\n",
    "\\end{align*}\n",
    "0 = \n",
    "\\frac{d}{dw^{mle}_0} = \n",
    "\\sum_i -2(\\boldy_i - w_0^{mle} - w_1^{mle}\\boldx_i) =\n",
    "2(nw_0^{mle} + w_1^{mle}\\sum_i\\boldx_i - \\sum_i\\boldy_i)\\\\\n",
    "w_0^{mle} = \n",
    "\\mean\\boldy - w_1^{mle} \\mean\\boldx =\n",
    "\\frac{J_{1,n}(\\boldy - w_1^{mle}\\boldx)}{n}\n",
    "}$\n",
    "\n",
    "$\\displaystyle{\n",
    "0 = \n",
    "\\frac{d}{dw_1} = \n",
    "\\sum_i -2\\boldx_i(\\boldy_i - w_0^{mle} - w_1^{mle}\\boldx_i) =\n",
    "2 (w_0^{mle}\\boldx^TJ_{n,1} + w_1^{mle}\\boldx^T\\boldx - \\boldx^T\\boldy) \\\\\n",
    "0 = (\\mean\\boldy - w_1^{mle} \\mean\\boldx)\\boldx^T J_{n, 1} + w_1^{mle}\\boldx^T\\boldx - \\boldx^T\\boldy\\\\\n",
    "w_1^{mle} = \\frac{\\boldx^T(\\boldy - \\mean\\boldy J_{n,1})}{\\boldx^T(\\boldx - \\mean\\boldx J_{n,1})}\\\\\n",
    "w_0^{mle} = \n",
    "\\mean\\boldy - \\frac{\\boldx^T(\\boldy - \\mean\\boldy J_{n,1})}{\\boldx^T(\\boldx - \\mean\\boldx J_{n,1})} \\mean\\boldx\n",
    "}$\n",
    "\n",
    "\n",
    "Тест Вальда в общем виде выглядит так:\n",
    "\n",
    "$\\displaystyle{\n",
    "H_0: g(\\theta) = 0,\\, g: \\mathbb{R}^p \\rightarrow \\mathbb{R}^q \\\\\n",
    "H_1: g(\\theta) \\neq 0\n",
    "}$\n",
    "\n",
    "$\\displaystyle{\n",
    "W^2 =\n",
    "g(\\hat\\theta)^T(G(\\theta)\\hat V/n G^T(\\theta))^{-1}g(\\hat\\theta),\\\\\n",
    "\\text{где}\\\\\n",
    "\\hat\\theta - \\text{оценка параметров}\\\\\n",
    "G - \\text{якобиан функции g}, \\, G_{ij} = \\frac{dg_i}{d\\theta_j}\\\\\n",
    "\\hat V - \\text{оценка матрицы ковариаций}\n",
    "}$\n",
    "\n",
    "В данной задаче \n",
    "\n",
    "$\\displaystyle{\n",
    "\\theta = (w_0, w_1)^T \\\\\n",
    "\\hat\\theta = (w_0^{mle}, w_1^{mle})^T \\\\\n",
    "g(\\theta) = \\alpha \\theta_0  - \\theta_1 \\\\\n",
    "G = (\\alpha, -1) \\\\\n",
    "}$\n",
    "\n",
    "Оценим матрицу ковариаций через информационную матрицу Фишера:\n",
    "\n",
    "$\\displaystyle{\n",
    "\\hat V = \\mathcal I_0(\\theta)^{-1} = n \\mathcal I(\\theta)^{-1},\\\\\n",
    "[{\\mathcal {I}}(\\theta )]_{i,j}=-\\Exp \\left[\\left.{\\frac {\\partial ^{2}}{\\partial \\theta _{i}\\,\\partial \\theta _{j}}}\\log f(\\boldx, \\boldy;\\theta )\\right|\\theta \\right]\\\\\n",
    "\\mathcal I(\\theta) = \\begin{pmatrix}\n",
    "2n & 2 \\Exp[\\sum_i\\boldx_i]\\\\\n",
    "2 \\Exp[\\sum_i\\boldx_i] & 2 \\Exp [\\sum_i\\boldx_i^2]\n",
    "\\end{pmatrix} =\n",
    "2n\\begin{pmatrix}\n",
    "1 & \\Exp x\\\\\n",
    "\\Exp x & \\Exp x^2\n",
    "\\end{pmatrix}\\\\\n",
    "\\hat V = \n",
    "n \\mathcal I(\\theta)^{-1} =\n",
    "\\frac{1}{2(\\Exp x^2 - (\\Exp x)^2)}\\begin{pmatrix}\n",
    "\\Exp x^2 & -\\Exp x\\\\\n",
    "-\\Exp x & 1\n",
    "\\end{pmatrix}\\\\\n",
    "G(\\theta)\\hat V/n G^T(\\theta) =\n",
    "\\frac{1}{2n(\\Exp x^2 - (\\Exp x)^2)} \\cdot\n",
    "\\begin{pmatrix}\n",
    "\\alpha & -1\n",
    "\\end{pmatrix}\n",
    "\\begin{pmatrix}\n",
    "\\Exp x^2 & -\\Exp x\\\\\n",
    "-\\Exp x & 1\n",
    "\\end{pmatrix}\n",
    "\\begin{pmatrix}\n",
    "\\alpha \\\\\n",
    "-1\n",
    "\\end{pmatrix} =\n",
    "\\frac{\\alpha^2\\Exp x^2 + 2\\alpha\\Exp x + 1}{2n(\\Exp x^2 - (\\Exp x)^2)}\n",
    "}$\n",
    "\n",
    "\n",
    "$\\displaystyle{\n",
    "W^2 =\n",
    "\\frac{2n(\\Exp x^2 - (\\Exp x)^2)}{\\alpha^2\\Exp x^2 + 2\\alpha\\Exp x + 1} (\\alpha w_0^{mle}  - w_1^{mle})^2 =\n",
    "\\frac{2n(\\Exp x^2 - (\\Exp x)^2)}{\\alpha^2\\Exp x^2 + 2\\alpha\\Exp x + 1} (\\mean\\boldy - w_1^{mle} (\\mean\\boldx + 1))^2\n",
    "}$\n",
    "\n",
    "где $\\Exp x$ оценим как $\\mean\\boldx,$ а $\\Exp x^2$ как $\\boldx^T\\boldx/n$, в итоге получаем:\n",
    "\n",
    "$\\displaystyle{\n",
    "W^2 =\n",
    "\\frac{2n(\\boldx^T\\boldx/n - (\\mean\\boldx)^2)}{\\alpha^2\\boldx^T\\boldx/n + 2\\alpha\\mean\\boldx + 1} \n",
    "\\left(\\mean\\boldy - \\frac{\\boldx^T(\\boldy - \\mean\\boldy J_{n,1})}{\\boldx^T(\\boldx - \\mean\\boldx J_{n,1})} (\\mean\\boldx + 1)\\right)^2 =\n",
    "\\frac{2n\\hat{\\operatorname{Var}}(\\boldx)}{\\alpha^2\\hat{\\operatorname{Var}}(\\boldx) + (\\alpha\\mean\\boldx + 1)^2} \n",
    "\\left(\\mean\\boldy - \\frac{\\hat\\Cov(\\boldx, \\boldy)}{\\hat{\\operatorname{Var}}(\\boldx)} (\\mean\\boldx + 1)\\right)^2,\n",
    "}$\n",
    "\n",
    "где $\\hat{\\operatorname{Var}},\\, \\hat{\\operatorname{Cov}}$ - соответственно выборочные дисперсия и ковариация.\n",
    "\n",
    "При выполнении нулевой гипотезы, $W^2$ распределена по закону хи-квадрат с количеством степеней свободы, равному числу ограничений, то есть в данном случае с 1 степенью свободы."
   ]
  },
  {
   "cell_type": "markdown",
   "id": "09e4b0be",
   "metadata": {},
   "source": [
    "### Задача 5\n",
    "Рассмотрим задачу восстановления регрессии. Модель регрессии имеет вид\n",
    "$$\n",
    "t = \\boldx^T\\boldw + \\eps,\n",
    "$$ \n",
    "где $\\eps \\sim \\Normal(0,\\beta^{-1})$, и на веса $\\boldw$ наложено априорное распределение вида $p(\\boldw) = \\Normal(\\boldw|\\boldw_0,\\boldS_0)$. \n",
    "Пусть дана выборка $(\\boldX, \\boldt) = \\{(\\boldx_i, t_i)\\colon \\boldx_i \\in \\RR^d, t_i \\in \\RR\\}_{i=1}^n$. Найдите апостериорное распределение $p(\\boldw|\\boldX, \\boldt)$.\n",
    "\n",
    "---"
   ]
  },
  {
   "cell_type": "markdown",
   "id": "97e2ff35",
   "metadata": {},
   "source": [
    "$\\displaystyle{\n",
    "p(\\boldw|\\boldX, \\boldt) = \n",
    "\\frac{p(\\boldw, \\boldX, \\boldt)}{p(\\boldX, \\boldt)} =\n",
    "\\frac{p(\\boldt|\\boldX, \\boldw)p(\\boldX, \\boldw)}{p(\\boldX, \\boldt)}\n",
    "}$\n",
    "\n",
    "Замечу, что разумно считать $\\boldw$ и $\\boldX$ независимыми, то есть что закономерность между $x$ и $y$ не зависит от того, какие конкретно значения мы наблюдаем. Тогда $p(\\boldX, \\boldw) = p(\\boldX)p(\\boldw)$, и\n",
    "\n",
    "$\\displaystyle{\n",
    "p(\\boldw|\\boldX, \\boldt) = \n",
    "\\frac{p(\\boldt|\\boldX, \\boldw)p(\\boldX)p(\\boldw)}{p(\\boldX)p(\\boldt | \\boldX)} =\n",
    "\\frac{p(\\boldt|\\boldX, \\boldw)p(\\boldw)}{p(\\boldt | \\boldX)}}$\n",
    "\n",
    "Также замечу, что знаменатель не зависит от $\\boldw$, и апостериорное распределение пропорционально числителю:\n",
    "\n",
    "$\\displaystyle{\n",
    "p(\\boldw|\\boldX, \\boldt) \\propto\n",
    "p(\\boldt|\\boldX, \\boldw)p(\\boldw) \\propto\n",
    "\\exp\\left(-{1 \\over 2} (t - \\boldX \\boldw)^T \\beta (t - \\boldX \\boldw)\\right)\n",
    "\\exp\\left(-{1 \\over 2} (\\boldw-\\boldw_0)^{ T} \\boldsymbol{S}_0^{-1} (\\boldw -\\boldw_0)\\right)\n",
    "}$\n",
    "\n",
    "Видно, что это распределение также будет нормальным, с матрицей ковариации $\\boldS'$:\n",
    "\n",
    "$\\displaystyle{\n",
    "\\boldw^T(\\boldS')^{-1}\\boldw =\n",
    "(\\boldX \\boldw)^T \\beta (\\boldX \\boldw) + \\boldw^{ T} \\boldsymbol{S}_0^{-1} \\boldw =\n",
    "\\boldw^T (\\boldX^T\\beta \\boldX + \\boldsymbol{S}_0^{-1})\\boldw\\\\\n",
    "\\boldS' = (\\boldX^T\\beta \\boldX + \\boldsymbol{S}_0^{-1})^{-1}\n",
    "}$\n",
    "\n",
    "И со средним $\\boldw'$:\n",
    "\n",
    "$\\displaystyle{\n",
    "(\\boldw-\\boldw')^{T} (\\boldS')^{-1} (\\boldw -\\boldw') = \n",
    "\\boldw^T(\\boldS')^{-1}\\boldw  -2\\boldw^{T} (\\boldS')^{-1} \\boldw' + (\\boldw')^{T} (\\boldS')^{-1} \\boldw'\\\\\n",
    "\\boldw^{T} (\\boldS')^{-1} \\boldw' = \\boldw^{T} (\\boldX^T\\beta\\boldt + \\boldsymbol{S}_0^{-1} \\boldw_0) \\\\\n",
    "\\boldw' = \\boldS' (\\boldX^T\\beta\\boldt + \\boldsymbol{S}_0^{-1} \\boldw_0)\n",
    "}$\n",
    "\n",
    "Получаем, что апостериорное распределение $p(\\boldw|\\boldX, \\boldt)$ есть нормальное со средним\n",
    "$\\displaystyle{\n",
    "(\\boldX^T\\beta \\boldX + \\boldsymbol{S}_0^{-1})^{-1} (\\boldX^T\\beta\\boldt + \\boldsymbol{S}_0^{-1} \\boldw_0)\n",
    "}$ и матрицей ковариации  $\\displaystyle{(\\boldX^T\\beta \\boldX + \\boldsymbol{S}_0^{-1})^{-1}}$."
   ]
  },
  {
   "cell_type": "markdown",
   "id": "10401374",
   "metadata": {},
   "source": [
    "### Задача 6\n",
    "Пусть $\\boldx^{n} \\sim f(\\cdot)$, и пусть $\\hatf(\\cdot) = \\hatf(\\cdot;\\boldx^n)$ обозначает ядерную оценку плотности на основе ядра\n",
    "$$\n",
    "K(x) = \n",
    "\\begin{cases}\n",
    "\t1, &x \\in \\lp -\\frac{1}{2}, \\frac{1}{2} \\rp;\\\\\n",
    "\t0, &\\text{в противном случае}.\n",
    "\\end{cases}\n",
    "$$\n",
    "Найдите $\\Exp [\\hatf(x)]$ и $\\Var [\\hatf(x)]$. Покажите, что если $h\\to0$ и $nh\\to\\infty$ при $n\\to\\infty$, то $\\estf(x) \\xrightarrow{\\Prob} f(x)$ при $n\\to\\infty$.\n",
    "\n",
    "*Примечание. В ответе может быть использована истинная плотность $f(x)$*"
   ]
  },
  {
   "cell_type": "markdown",
   "id": "b6a5d90a",
   "metadata": {},
   "source": [
    "---\n",
    "\n",
    "Ядерная оценка плотности имеет следующий вид:\n",
    "\n",
    "$\\displaystyle{\n",
    "\\hat f_h(x) = \n",
    "\\frac{1}{nh}\\sum_{i=1}^n K\\left(\\frac{x - \\boldx_i}{h}\\right)\n",
    "}$\n",
    "\n",
    "Замечу, что в данной задаче $\\boldx$ есть случайная величина, а $x$ - фиксированное число.\n",
    "\n",
    "$\\displaystyle{\n",
    "\\begin{align*}\n",
    "\\Exp [\\hatf(x)] = \n",
    "& \\Exp \\left[\\frac{1}{nh}\\sum_{i=1}^n \\mathbb{1}\\left[ \\frac{x - \\boldx_i}{h} \\in \\lp -\\frac{1}{2}, \\frac{1}{2}\\rp \\right] \\right] =\\\\=\n",
    "& \\frac{1}{h} \\sum_{i=1}^n \\Exp \\left[ \\mathbb{1}\\left[ x \\in \\lp \\boldx_i - \\frac{h}{2}, \\boldx_i + \\frac{h}{2}\\rp \\right] \\right] =\\\\=\n",
    "& \\frac{1}{nh} \\sum_{i=1}^n \\Exp \\left[ \\mathbb{1}\\left[ x > \\boldx_i - \\frac{h}{2}\\right] - \\mathbb{1}\\left[x \\geq \\boldx_i + \\frac{h}{2}\\right] \\right] =\\\\=\n",
    "& \\frac{1}{nh} \\sum_{i=1}^n \\left(p(\\boldx_i < x + \\frac{h}{2}) - p(\\boldx_i \\leq x - \\frac{h}{2})\\right) =\\\\=\n",
    "& \\frac{1}{n} \\sum_{i=1}^n \\left(\\frac{F(x + \\frac{h}{2}) - F(x - \\frac{h}{2})}{h}\\right) =\\\\=\n",
    "& \\frac{F(x + \\frac{h}{2}) - F(x - \\frac{h}{2})}{h}\n",
    "\\end{align*}\n",
    "}$\n",
    "\n",
    "$\\displaystyle{ \n",
    "\\begin{align*}\n",
    "\\Exp [\\hatf(x)^2] =\n",
    "& \\Exp \\left[\\left( \\frac{1}{nh}\\sum_{i=1}^n K\\left(\\frac{x - \\boldx_i}{h}\\right) \\right)^2\\right] =\\\\=\n",
    "& \\frac{1}{(nh)^2} \\Exp \\left[\\left(\\sum_{i=1}^n K\\left(\\frac{x - \\boldx_i}{h}\\right) \\right)^2\\right] =\\\\=\n",
    "& \\frac{1}{(nh)^2} \\Exp \\left[\\sum_{i=1}^n K\\left(\\frac{x - \\boldx_i}{h}\\right)^2 + 2\\sum_{i=1}^n\\sum_{j=i+1}^n K\\left(\\frac{x - \\boldx_i}{h}\\right)K\\left(\\frac{x - \\boldx_j}{h}\\right) \\right] =\\\\=\n",
    "& \\frac{1}{(nh)^2} \\Exp \\left[\\sum_{i=1}^n K\\left(\\frac{x - \\boldx_i}{h}\\right)\\right] + \\frac{2}{n^2}\\sum_{i=1}^n\\sum_{j=i+1}^n \\left(\\frac{F(x + \\frac{h}{2}) - F(x - \\frac{h}{2})}{h}\\right)^2 =\\\\=\n",
    "& \\frac{1}{nh} \\Exp [\\hatf(x)] + \\left(\\frac{F(x + \\frac{h}{2}) - F(x - \\frac{h}{2})}{h}\\right)^2 =\\\\=\n",
    "& \\frac{1}{nh} \\Exp [\\hatf(x)] + \\Exp [\\hatf(x)]^2\n",
    "\\end{align*}\n",
    "}$\n",
    "\n",
    "$\\displaystyle{ \n",
    "\\Var [\\hatf(x)] = \n",
    "\\frac{1}{nh} \\Exp [\\hatf(x)] + \\Exp [\\hatf(x)]^2 - \\Exp [\\hatf(x)]^2 =\n",
    "\\frac{1}{nh} \\Exp [\\hatf(x)]\n",
    "}$\n",
    "\n",
    "Замечу, что $\\displaystyle{\n",
    "\\frac{F(x + \\frac{h}{2}) - F(x - \\frac{h}{2})}{h} \\to F'(x) = f(x) \n",
    "}$ при $h\\to0$, то есть $\\Exp [\\hatf(x)] \\to f(x)$, при этом \n",
    "$\\displaystyle{ \n",
    "\\Var [\\hatf(x)] \\to \\frac{f(x)}{nh} \\to 0\n",
    "}$, если $nh \\to \\infty$, значит в условиях задачи $\\estf(x) \\xrightarrow{\\Prob} f(x)$ при $n\\to\\infty$."
   ]
  },
  {
   "cell_type": "markdown",
   "id": "81c12042",
   "metadata": {},
   "source": [
    "### Задача 7\n",
    "Рассмотрим задачу непараметрической оценки плотности распределения $p(x)$ по выборке $\\boldX^{(N)}$. Обозначим через $\\hatp(x;\\boldX^{(N)})$\n",
    "оценку плотности, полученную некоторым образом по выборке $\\boldX^{(N)}$. Оценка риска для $\\hatp(x;\\boldX^{(N)})$ имеет вид:\n",
    "$$\n",
    "\\hatJ(h) = \\Int (\\hatp(x;\\boldX^{(N)}))^2 dx - \\frac{2}{N} \\Sum_{i=1}^N \\hatp(X_i;\\boldX^{(N\\backslash i)}),\n",
    "$$\n",
    "где $\\hatp(\\cdot;\\boldX^{(N\\backslash i)})$ –– оценка плотности распределения на основе выборки $\\boldX^{(N\\backslash i)}$, т.е. выборки без объекта $X_i$.\n",
    "\n",
    "__1. Гистограммная оценка__\n",
    "\n",
    "Разобьем диапазон наблюдаемых значений $\\boldX^{(N)}$ на бины ширины $h$. Пусть в итоге значения $\\boldX^{(n)}$ укладываются в $M$ последовательных бинов $B_1, \\dots, B_M$. Пусть $N_m$ –– количество объектов выборки, попавших в $B_m$ ($\\sum_m N_m = N$). Пусть $\\hatp_m$ –– доля объектов выборки, попавших в бин $B_m$:\n",
    "$$\n",
    "\tN_m = \\Sum_{i=1}^N I\\ls X_i \\in B_m\\rs, \\quad \\hatp_m = \\frac{N_m}{N}.\n",
    "\t$$\n",
    "\t\n",
    "Покажите, что в случае гистограммной оценки плотности оценка риска имеет вид:\n",
    "$$\n",
    "\t\\hatJ(h) = \\frac{2}{h(N - 1)} - \\frac{N + 1}{h(N - 1)}\\Sum_{m=1}^M \\hatp_m^2.\n",
    "\t$$\n",
    "\t\n",
    "Докажите или опровергните равенство\n",
    "$$\n",
    "\t\\Exp[\\hatJ(h)] = \\Exp[J(h)].\n",
    "\t$$\n",
    "\tЕсли равенство не верно, то чему равно $\\Delta J(h) = \\Exp[\\hatJ(h)] - \\Exp[J(h)]$?\n",
    "   \n",
    "---"
   ]
  },
  {
   "cell_type": "markdown",
   "id": "dffbde3d",
   "metadata": {},
   "source": [
    "Замечу, что $\\hatJ(h)$ есть оценка риска минус $\\int f(x)^2 dx$.\n",
    "\n",
    "Буду считать, что разбиение на бины одинаково для гистограмной оценки на основе выборки $\\boldX$ и выборки $\\boldX^{(N\\backslash i)}$, это допущение позволит не рассматривать выкидывание экстремальных наблюдаемых значений, что в среднем незначимо сказывается на оценку риска.\n",
    "\n",
    "$\\displaystyle{\n",
    "\\hatp(x;\\boldX^{(N)}) =\n",
    "\\sum_{j=1}^M \\mathbb{1}[x \\in B_j]\\frac{\\hat p_j}{h}\n",
    "}$\n",
    "\n",
    "$\\displaystyle{\n",
    "\\begin{align*}\n",
    "\\Int (\\hatp(x;\\boldX^{(N)}))^2 dx = \n",
    "& \\Int \\left(\\sum_{j=1}^M \\mathbb{1}[x \\in B_j]\\frac{\\hat p_j}{h} \\right)^2 dx =\\\\=\n",
    "& \\Int \\left(\\sum_{j=1}^M \\mathbb{1}[x \\in B_j]\\frac{\\hat p_j^2}{h^2} \\right) dx =\\\\=\n",
    "& \\sum_{j=1}^M \\frac{\\hat p_j^2}{h}\n",
    "\\end{align*}\n",
    "}$\n",
    "\n",
    "$\\displaystyle{\n",
    "\\begin{align*}\n",
    "\\hatp(X_i;\\boldX^{(N \\backslash i)}) =\n",
    "& \\sum_{j=1}^M \\mathbb{1}[X_i \\in B_j]\\frac{\\hat p'_j}{h} =\\\\=\n",
    "& \\frac{1}{h}\\sum_{j=1}^M \\mathbb{1}[X_i \\in B_j]\\frac{\\Sum_{k=1, k\\neq i}^N \\mathbb{1} \\ls X_k \\in B_j\\rs}{N - 1} =\\\\=\n",
    "& \\frac{1}{h}\\sum_{j=1}^M \\mathbb{1}[X_i \\in B_j]\\left(\n",
    "\\frac{\\Sum_{k=1}^N \\mathbb{1} \\ls X_k \\in B_j\\rs}{N - 1} - \\frac{\\mathbb{1} \\ls X_i \\in B_j\\rs}{N - 1}\n",
    "\\right)=\\\\=\n",
    "& \\frac{1}{h}\\sum_{j=1}^ \\mathbb{1}[X_i \\in B_j]\\left(\n",
    "\\frac{N}{N-1}\\hat p_j - \\frac{\\mathbb{1} \\ls X_i \\in B_j\\rs}{N-1}\n",
    "\\right) =\\\\=\n",
    "& \\frac{1}{h}\\left(\\frac{N}{N-1}\\sum_{j=1}^M \\mathbb{1}[X_i \\in B_j]\\hat p_j -\n",
    "\\frac{\\sum_{j=1}^M \\mathbb{1}[X_i \\in B_j]}{N - 1}\\right) =\\\\=\n",
    "& \\frac{1}{h}\\left(\\frac{N}{N-1}\\sum_{j=1}^M\\mathbb{1}[X_i \\in B_j]\\hat p_j - \\frac{1}{N-1}\\right) =\\\\=\n",
    "& \\frac{N}{h(N-1)}\\left(\\sum_{j=1}^M\\mathbb{1}[X_i \\in B_j]\\hat p_j - \\frac{1}{N}\\right)\n",
    "\\end{align*}\n",
    "}$\n",
    "\n",
    "$\\displaystyle{\n",
    "\\begin{align*}\n",
    "\\Sum_{i=1}^N \\hatp(X_i;\\boldX^{(N\\backslash i)}) = \n",
    "& \\frac{N}{h(N-1)}\\Sum_{i=1}^N \\left(\\sum_{j=1}^\\mathbb{1}[X_i \\in B_j]\\hat p_j - \\frac{1}{N}\\right) =\\\\=\n",
    "& \\frac{N}{h(N-1)}\\left(\\sum_{j=1}^M \\Sum_{i=1}^N \\left( \\mathbb{1}[X_i \\in B_j]\\hat p_j \\right) - 1\\right) =\\\\=\n",
    "& \\frac{N}{h(N-1)}\\left(\\sum_{j=1}^M N_j\\hat p_j - 1\\right) =\\\\=\n",
    "&\\frac{N}{h(N-1)}\\left(\\sum_{j=1}^M N \\hat p_j^2 - 1\\right)\n",
    "\\end{align*}\n",
    "}$\n",
    "\n",
    "$\\displaystyle{\n",
    "\\begin{align*}\n",
    "\\hatJ(h) =\n",
    "& \\Int (\\hatp(x;\\boldX^{(N)}))^2 dx - \\frac{2}{N} \\Sum_{i=1}^N \\hatp(X_i;\\boldX^{(N\\backslash i)}) =\\\\=\n",
    "& \\sum_{j=1}^M \\frac{\\hat p_j^2}{h} - \n",
    "\\frac{2}{N}\\frac{N}{h(N-1)}\\left(\\sum_{j=1}^M N \\hat p_j^2 - 1\\right) =\\\\=\n",
    "& \\frac{2}{h(N-1)} + \\frac{N-1-2N}{h(N-1)} \\sum_{j=1}^M\\hat p_j^2 =\\\\=\n",
    "& \\frac{2}{h(N-1)} - \\frac{N+1}{h(N-1)} \\sum_{j=1}^M\\hat p_j^2\n",
    "\\end{align*}\n",
    "}$\n",
    "\n",
    "$\\displaystyle{\n",
    "J(h) = \n",
    "\\Int (\\hatp(x;\\boldX^{(N)}))^2 dx - 2\\Int \\hatp(x;\\boldX^{(N)})f(x) dx\\\\\n",
    "\\begin{align*}\n",
    "\\hatJ(h) - J(h) = \n",
    "& 2\\Int f(x)\\hatp(x;\\boldX^{(N)}) dx - \n",
    "\\frac{2}{N} \\Sum_{i=1}^N \\hatp(X_i;\\boldX^{(N\\backslash i)}) =\\\\=\n",
    "& 2\\Int f(x)\\sum_{j=1}^M \\mathbb{1}[x \\in B_j]\\frac{\\hat p_j}{h} dx - \n",
    "\\frac{2}{h(N-1)}\\left(\\sum_{j=1}^M N \\hat p_j^2 - 1\\right) =\\\\=\n",
    "& \\frac{2}{h}\\sum_{j=1}^M\\hat p_jp(x \\in B_j ) - \n",
    "\\frac{2}{h(N-1)}\\left(\\sum_{j=1}^M N \\hat p_j^2 - 1\\right)\n",
    "\\end{align*}\n",
    "}$\n",
    "\n",
    "$\\displaystyle{\n",
    "\\begin{align*}\n",
    "\\Exp [\\hat p_j] = \n",
    "& \\Exp [\\frac{1}{n}\\Sum_{i=1}^N \\mathbb{1}[ X_i \\in B_j]] =\\\\=\n",
    "& \\frac{1}{N}\\Sum_{i=1}^N p(x \\in B_j) =\\\\=\n",
    "& p(x \\in B_j)\n",
    "\\end{align*}\n",
    "}$\n",
    "\n",
    "$\\displaystyle{\n",
    "\\begin{align*}\n",
    "\\Exp [\\hat p_j^2] = \n",
    "& \\frac{1}{N^2}\\Exp \\left(\\Sum_{i=1}^N \\mathbb{1}[ X_i \\in B_j]\\right)^2 =\\\\=\n",
    "& \\frac{1}{N^2}\\Exp \\left(\\Sum_{i=1}^N \\mathbb{1}[ X_i \\in B_j] + \n",
    "2 \\Sum_{i=1}^N\\Sum_{k=i+1}^N \\mathbb{1}[ X_i \\in B_j] \\mathbb{1}[ X_k \\in B_j]\\right) =\\\\=\n",
    "& \\frac{1}{N^2}\\left(\\Sum_{i=1}^N p(x\\in B_j) + \n",
    "2 \\Sum_{i=1}^N\\Sum_{k=i+1}^N p(x\\in B_j)^2\\right) =\\\\=\n",
    "& \\frac{1}{N^2}\\left(N p(x\\in B_j) + N(N+1) p(x\\in B_j)^2\\right) =\\\\=\n",
    "& \\frac{1}{N}p(x\\in B_j) + \\frac{N+1}{N} p(x\\in B_j)^2\n",
    "\\end{align*}\n",
    "}$\n",
    "\n",
    "$\\displaystyle{\n",
    "\\begin{align*}\n",
    "\\Exp[\\hatJ(h) - J(h)] =\n",
    "& \\frac{2}{h}\\sum_{j=1}^M p(x \\in B_j)^2 - \n",
    "\\frac{2}{h(N-1)}\\left(\\sum_{j=1}^M (p(x\\in B_j) + (N+1) p(x\\in B_j)^2) - 1\\right) =\\\\=\n",
    "& \\left(\\frac{2}{h} - \\frac{2(N+1)}{h(N-1)}\\right)\\sum_{j=1}^M p(x \\in B_j)^2 - \n",
    "\\frac{2}{h(N-1)}\\left(\\sum_{j=1}^M p(x\\in B_j) - 1\\right)=\\\\=\n",
    "& \\frac{-4}{h(N-1)}\\sum_{j=1}^M p(x \\in B_j)^2 - \n",
    "\\frac{2}{h(N-1)}\\left(\\sum_{j=1}^M p(x\\in B_j) - 1\\right)\n",
    "\\end{align*}\n",
    "}$\n",
    "\n",
    "Замечу, что $\\sum_{j=1}^M p(x\\in B_j) \\leq 1$, и вообще разбиение на бины тоже есть случайная величина, и в общем случае эта сумма может быть далека от единицы. Также видно, что получившееся смещение стремится к 0 с ростом $N$. Удостоверимся в асимптотической несмещенности экспериментально:"
   ]
  },
  {
   "cell_type": "code",
   "execution_count": 257,
   "id": "e377ab8e",
   "metadata": {},
   "outputs": [
    {
     "data": {
      "application/javascript": [
       "\n",
       "            setTimeout(function() {\n",
       "                var nbb_cell_id = 257;\n",
       "                var nbb_unformatted_code = \"def compute_adjusted_risk(true_pdf, estimate_pdf, a, b):\\n    x = np.linspace(a, b, num=1000)\\n    risk = scipy.integrate.trapezoid(true_pdf(x) - estimate_pdf(x), x)\\n    integral_pdf_squared = scipy.integrate.trapezoid(true_pdf(x) ** 2, x)\\n    adjusted_risk = risk - integral_pdf_squared\\n    return adjusted_risk\";\n",
       "                var nbb_formatted_code = \"def compute_adjusted_risk(true_pdf, estimate_pdf, a, b):\\n    x = np.linspace(a, b, num=1000)\\n    risk = scipy.integrate.trapezoid(true_pdf(x) - estimate_pdf(x), x)\\n    integral_pdf_squared = scipy.integrate.trapezoid(true_pdf(x) ** 2, x)\\n    adjusted_risk = risk - integral_pdf_squared\\n    return adjusted_risk\";\n",
       "                var nbb_cells = Jupyter.notebook.get_cells();\n",
       "                for (var i = 0; i < nbb_cells.length; ++i) {\n",
       "                    if (nbb_cells[i].input_prompt_number == nbb_cell_id) {\n",
       "                        if (nbb_cells[i].get_text() == nbb_unformatted_code) {\n",
       "                             nbb_cells[i].set_text(nbb_formatted_code);\n",
       "                        }\n",
       "                        break;\n",
       "                    }\n",
       "                }\n",
       "            }, 500);\n",
       "            "
      ],
      "text/plain": [
       "<IPython.core.display.Javascript object>"
      ]
     },
     "metadata": {},
     "output_type": "display_data"
    }
   ],
   "source": [
    "def compute_adjusted_risk(true_pdf, estimate_pdf, a, b):\n",
    "    x = np.linspace(a, b, num=1000)\n",
    "    risk = scipy.integrate.trapezoid(true_pdf(x) - estimate_pdf(x), x)\n",
    "    integral_pdf_squared = scipy.integrate.trapezoid(true_pdf(x) ** 2, x)\n",
    "    adjusted_risk = risk - integral_pdf_squared\n",
    "    return adjusted_risk"
   ]
  },
  {
   "cell_type": "code",
   "execution_count": 258,
   "id": "16ce5963",
   "metadata": {},
   "outputs": [
    {
     "data": {
      "application/javascript": [
       "\n",
       "            setTimeout(function() {\n",
       "                var nbb_cell_id = 258;\n",
       "                var nbb_unformatted_code = \"class Histogram:\\n    def __init__(self, sample, bins: int):\\n        self.sample = sample\\n        self.hist, self.bin_edges = np.histogram(sample, density=True, bins=bins)\\n        self.hist = np.pad(self.hist, 1)\\n\\n    def pdf(self, x):\\n        indices = np.digitize(x, self.bin_edges)\\n        return self.hist[indices]\\n\\n    def get_range(self):\\n        return min(self.sample), max(self.sample)\\n\\n    def get_bin_width(self):\\n        return self.bin_edges[1] - self.bin_edges[0]\\n\\n    def compute_estimate_adjusted_risk(self):\\n        n = sum(self.sample)\\n        h = self.get_bin_width()\\n        p_hat = self.hist * h\\n        adjusted_risk = (2 - (n + 1) * sum(p_hat**2)) / (h * (n - 1))\\n        return adjusted_risk\";\n",
       "                var nbb_formatted_code = \"class Histogram:\\n    def __init__(self, sample, bins: int):\\n        self.sample = sample\\n        self.hist, self.bin_edges = np.histogram(sample, density=True, bins=bins)\\n        self.hist = np.pad(self.hist, 1)\\n\\n    def pdf(self, x):\\n        indices = np.digitize(x, self.bin_edges)\\n        return self.hist[indices]\\n\\n    def get_range(self):\\n        return min(self.sample), max(self.sample)\\n\\n    def get_bin_width(self):\\n        return self.bin_edges[1] - self.bin_edges[0]\\n\\n    def compute_estimate_adjusted_risk(self):\\n        n = sum(self.sample)\\n        h = self.get_bin_width()\\n        p_hat = self.hist * h\\n        adjusted_risk = (2 - (n + 1) * sum(p_hat**2)) / (h * (n - 1))\\n        return adjusted_risk\";\n",
       "                var nbb_cells = Jupyter.notebook.get_cells();\n",
       "                for (var i = 0; i < nbb_cells.length; ++i) {\n",
       "                    if (nbb_cells[i].input_prompt_number == nbb_cell_id) {\n",
       "                        if (nbb_cells[i].get_text() == nbb_unformatted_code) {\n",
       "                             nbb_cells[i].set_text(nbb_formatted_code);\n",
       "                        }\n",
       "                        break;\n",
       "                    }\n",
       "                }\n",
       "            }, 500);\n",
       "            "
      ],
      "text/plain": [
       "<IPython.core.display.Javascript object>"
      ]
     },
     "metadata": {},
     "output_type": "display_data"
    }
   ],
   "source": [
    "class Histogram:\n",
    "    def __init__(self, sample, bins: int):\n",
    "        self.sample = sample\n",
    "        self.hist, self.bin_edges = np.histogram(sample, density=True, bins=bins)\n",
    "        self.hist = np.pad(self.hist, 1)\n",
    "\n",
    "    def pdf(self, x):\n",
    "        indices = np.digitize(x, self.bin_edges)\n",
    "        return self.hist[indices]\n",
    "\n",
    "    def get_range(self):\n",
    "        return min(self.sample), max(self.sample)\n",
    "\n",
    "    def get_bin_width(self):\n",
    "        return self.bin_edges[1] - self.bin_edges[0]\n",
    "\n",
    "    def compute_estimate_adjusted_risk(self):\n",
    "        n = sum(self.sample)\n",
    "        h = self.get_bin_width()\n",
    "        p_hat = self.hist * h\n",
    "        adjusted_risk = (2 - (n + 1) * sum(p_hat**2)) / (h * (n - 1))\n",
    "        return adjusted_risk"
   ]
  },
  {
   "cell_type": "code",
   "execution_count": 259,
   "id": "fd81014a",
   "metadata": {},
   "outputs": [
    {
     "data": {
      "application/javascript": [
       "\n",
       "            setTimeout(function() {\n",
       "                var nbb_cell_id = 259;\n",
       "                var nbb_unformatted_code = \"def compare_histogram_pdf_risk_estimate_to_true_risk(distribution, n_samples, bins=10):\\n    adjusted_risk = []\\n    estimate_adjusted_risk = []\\n\\n    for n in n_samples:\\n        sample = distribution.rvs(n)\\n        histogram = Histogram(sample, bins=bins)\\n\\n        a, b = histogram.get_range()\\n        adjusted_risk.append(\\n            compute_adjusted_risk(distribution.pdf, histogram.pdf, a, b)\\n        )\\n\\n        estimate_adjusted_risk.append(histogram.compute_estimate_adjusted_risk())\\n\\n    plt.plot(n_samples, estimate_adjusted_risk, label=\\\"estimate\\\")\\n    plt.plot(n_samples, adjusted_risk, label=\\\"true\\\")\\n    plt.title(f\\\"True adjusted risk and estimated via histogram with {bins} bins.\\\")\\n    plt.xlabel(\\\"n samples\\\")\\n    plt.ylabel(\\\"adjusted risk\\\")\\n    plt.yscale(\\\"symlog\\\")\\n    plt.legend()\";\n",
       "                var nbb_formatted_code = \"def compare_histogram_pdf_risk_estimate_to_true_risk(distribution, n_samples, bins=10):\\n    adjusted_risk = []\\n    estimate_adjusted_risk = []\\n\\n    for n in n_samples:\\n        sample = distribution.rvs(n)\\n        histogram = Histogram(sample, bins=bins)\\n\\n        a, b = histogram.get_range()\\n        adjusted_risk.append(\\n            compute_adjusted_risk(distribution.pdf, histogram.pdf, a, b)\\n        )\\n\\n        estimate_adjusted_risk.append(histogram.compute_estimate_adjusted_risk())\\n\\n    plt.plot(n_samples, estimate_adjusted_risk, label=\\\"estimate\\\")\\n    plt.plot(n_samples, adjusted_risk, label=\\\"true\\\")\\n    plt.title(f\\\"True adjusted risk and estimated via histogram with {bins} bins.\\\")\\n    plt.xlabel(\\\"n samples\\\")\\n    plt.ylabel(\\\"adjusted risk\\\")\\n    plt.yscale(\\\"symlog\\\")\\n    plt.legend()\";\n",
       "                var nbb_cells = Jupyter.notebook.get_cells();\n",
       "                for (var i = 0; i < nbb_cells.length; ++i) {\n",
       "                    if (nbb_cells[i].input_prompt_number == nbb_cell_id) {\n",
       "                        if (nbb_cells[i].get_text() == nbb_unformatted_code) {\n",
       "                             nbb_cells[i].set_text(nbb_formatted_code);\n",
       "                        }\n",
       "                        break;\n",
       "                    }\n",
       "                }\n",
       "            }, 500);\n",
       "            "
      ],
      "text/plain": [
       "<IPython.core.display.Javascript object>"
      ]
     },
     "metadata": {},
     "output_type": "display_data"
    }
   ],
   "source": [
    "def compare_histogram_pdf_risk_estimate_to_true_risk(distribution, n_samples, bins=10):\n",
    "    adjusted_risk = []\n",
    "    estimate_adjusted_risk = []\n",
    "\n",
    "    for n in n_samples:\n",
    "        sample = distribution.rvs(n)\n",
    "        histogram = Histogram(sample, bins=bins)\n",
    "\n",
    "        a, b = histogram.get_range()\n",
    "        adjusted_risk.append(\n",
    "            compute_adjusted_risk(distribution.pdf, histogram.pdf, a, b)\n",
    "        )\n",
    "\n",
    "        estimate_adjusted_risk.append(histogram.compute_estimate_adjusted_risk())\n",
    "\n",
    "    plt.plot(n_samples, estimate_adjusted_risk, label=\"estimate\")\n",
    "    plt.plot(n_samples, adjusted_risk, label=\"true\")\n",
    "    plt.title(f\"True adjusted risk and estimated via histogram with {bins} bins.\")\n",
    "    plt.xlabel(\"n samples\")\n",
    "    plt.ylabel(\"adjusted risk\")\n",
    "    plt.yscale(\"symlog\")\n",
    "    plt.legend()"
   ]
  },
  {
   "cell_type": "code",
   "execution_count": 260,
   "id": "ad62b37b",
   "metadata": {},
   "outputs": [
    {
     "data": {
      "image/png": "[encoded data removed]",
      "text/plain": [
       "<Figure size 640x480 with 1 Axes>"
      ]
     },
     "metadata": {},
     "output_type": "display_data"
    },
    {
     "data": {
      "application/javascript": [
       "\n",
       "            setTimeout(function() {\n",
       "                var nbb_cell_id = 260;\n",
       "                var nbb_unformatted_code = \"compare_histogram_pdf_risk_estimate_to_true_risk(\\n    distribution=scipy.stats.distributions.norm(0, 1),\\n    n_samples=np.linspace(10, 10**5, num=100, dtype=int),\\n    bins=20,\\n)\";\n",
       "                var nbb_formatted_code = \"compare_histogram_pdf_risk_estimate_to_true_risk(\\n    distribution=scipy.stats.distributions.norm(0, 1),\\n    n_samples=np.linspace(10, 10**5, num=100, dtype=int),\\n    bins=20,\\n)\";\n",
       "                var nbb_cells = Jupyter.notebook.get_cells();\n",
       "                for (var i = 0; i < nbb_cells.length; ++i) {\n",
       "                    if (nbb_cells[i].input_prompt_number == nbb_cell_id) {\n",
       "                        if (nbb_cells[i].get_text() == nbb_unformatted_code) {\n",
       "                             nbb_cells[i].set_text(nbb_formatted_code);\n",
       "                        }\n",
       "                        break;\n",
       "                    }\n",
       "                }\n",
       "            }, 500);\n",
       "            "
      ],
      "text/plain": [
       "<IPython.core.display.Javascript object>"
      ]
     },
     "metadata": {},
     "output_type": "display_data"
    }
   ],
   "source": [
    "compare_histogram_pdf_risk_estimate_to_true_risk(\n",
    "    distribution=scipy.stats.distributions.norm(0, 1),\n",
    "    n_samples=np.linspace(10, 10**5, num=100, dtype=int),\n",
    "    bins=20,\n",
    ")"
   ]
  },
  {
   "cell_type": "markdown",
   "id": "89373ee8",
   "metadata": {},
   "source": [
    "__2. Ядерная оценка__\n",
    "\n",
    "Покажите, что в случае ядерной оценки плотности оценка риска имеет вид:\n",
    "$$\n",
    "\\hatJ(h) \\approx \\frac{1}{hN^2}\\Sum_{i, j} K^*\\lp \\frac{X_i - X_j}{h}\\rp + \\frac{2}{N h}K(0),\n",
    "$$\n",
    "где $K^*(x) = K^{(2)}(x) - 2K(x)$ и $K^{(2)}(z) = \\int K(z - y)K(y)dy$. В частности, если $K(x)$ –– это плотность нормального распределения $\\Normal(0, 1)$, т.е. гауссово ядро, то $K^{(2)}(z)$ –– плотность распределения $\\Normal(0, 2)$.\n",
    "\t\n",
    "Докажите или опровергните равенство\n",
    "$$\\Exp[\\hatJ(h)] =  \\Exp[J(h)].$$\n",
    "\n",
    "Если равенство не верно, то чему равно $\\Delta J(h) = \\Exp[\\hatJ(h)] - \\Exp[J(h)]$?"
   ]
  },
  {
   "cell_type": "markdown",
   "id": "e200b1e7",
   "metadata": {},
   "source": [
    "$\\displaystyle{\n",
    "\\begin{align*}\n",
    "\\Int (\\hatp(x;\\boldX^{(N)}))^2 dx =\n",
    "& \\Int \\left(\\frac{1}{Nh}\\sum_{j=1}^N K\\left(\\frac{x - X_j}{h}\\right)\\right)^2 dx =\\\\=\n",
    "& \\frac{1}{(Nh)^2}\\Int \\left(\\sum_{j=1}^N K\\left(\\frac{x - X_j}{h}\\right)\\right)^2 dx =\\\\=\n",
    "& \\frac{1}{(Nh)^2}\\Int \\left(\\sum_{j=1}^N \\sum_{k=1}^N K\\left(\\frac{x - X_j}{h}\\right) K\\left(\\frac{x - X_k}{h}\\right)\\right) dx =\\\\=\n",
    "& \\frac{1}{(Nh)^2}\\sum_{j=1}^N \\sum_{k=1}^N\\Int \\left( K\\left(\\frac{x - X_j}{h}\\right) K\\left(\\frac{x - X_k}{h}\\right)\\right) d(x - X_j) =\\\\=\n",
    "& \\frac{1}{(Nh)^2}\\sum_{j=1}^N \\sum_{k=1}^N\\Int \\left( K\\left(\\frac{y}{h}\\right) K\\left(\\frac{y + X_j - X_k}{h}\\right)\\right) hd\\frac{y}{h} =\\\\=\n",
    "& \\frac{1}{hN^2}\\sum_{j=1}^N \\sum_{k=1}^N\\Int \\left( K\\left(z\\right) K\\left(z + \\frac{X_j - X_k}{h}\\right)\\right) dz =\\\\=\n",
    "& \\frac{1}{hN^2}\\sum_{j=1}^N \\sum_{k=1}^NK^{(2)}\\left(\\frac{X_j - X_k}{h}\\right)\n",
    "\\end{align*}\n",
    "}$\n",
    "\n",
    "$\\displaystyle{\n",
    "\\begin{align*}\n",
    "\\hatp(X_i;\\boldX^{(N\\backslash i)}) =\n",
    "&\\frac{1}{Nh}\\sum_{j=1,j\\neq i}^N K\\left(\\frac{X_i - X_j}{h}\\right) =\\\\=\n",
    "&\\frac{1}{Nh}\\left(\\sum_{j=1}^N K\\left(\\frac{X_i - X_j}{h}\\right) - K\\left(\\frac{X_i - X_i}{h}\\right)\\right) =\\\\=\n",
    "&\\frac{1}{Nh}\\left(\\sum_{j=1}^N K\\left(\\frac{X_i - X_j}{h}\\right) - K(0)\\right)\n",
    "\\end{align*}\n",
    "}$\n",
    "\n",
    "$\\displaystyle{\n",
    "\\begin{align*}\n",
    "\\hatJ(h) =\n",
    "&\\Int (\\hatp(x;\\boldX^{(N)}))^2 dx - \\frac{2}{N} \\Sum_{i=1}^N \\hatp(X_i;\\boldX^{(N\\backslash i)}) =\\\\=\n",
    "&\\frac{1}{hN^2}\\sum_{j=1}^N \\sum_{k=1}^NK^{(2)}\\left(\\frac{X_j - X_k}{h}\\right) - \n",
    "\\frac{2}{hN^2}\\Sum_{i=1}^N\\left(\\sum_{j=1}^N K\\left(\\frac{X_i - X_j}{h}\\right) - K(0)\\right) =\\\\=\n",
    "&\\frac{1}{hN^2}\\sum_{j=1}^N \\sum_{k=1}^N\\left(K^{(2)}\\left(\\frac{X_j - X_k}{h}\\right) - 2K\\left(\\frac{X_j - X_k}{h}\\right)\\right) + \\frac{2}{hN}K(0) =\\\\=\n",
    "&\\frac{1}{hN^2}\\sum_{j=1}^N \\sum_{k=1}^N K^*\\left(\\frac{X_j - X_k}{h}\\right) + \\frac{2}{hN}K(0)\n",
    "\\end{align*}\n",
    "}$\n",
    "\n",
    "$\\displaystyle{\n",
    "\\begin{align*}\n",
    "\\hatJ(h) - J(h) = \n",
    "& 2\\Int f(x)\\hatp(x;\\boldX^{(N)}) dx - \n",
    "\\frac{2}{N} \\Sum_{i=1}^N \\hatp(X_i;\\boldX^{(N\\backslash i)}) =\\\\=\n",
    "& 2\\Int f(x)\\frac{1}{Nh}\\sum_{j=1}^N K\\left(\\frac{x - X_j}{h}\\right) dx - \n",
    "\\frac{2}{hN^2}\\Sum_{i=1}^N\\sum_{j=1}^N K\\left(\\frac{X_i - X_j}{h}\\right) + \\frac{2}{hN}K(0) \n",
    "\\end{align*}\n",
    "}$\n",
    "\n",
    "$\\displaystyle{\n",
    "\\Exp K\\left(\\frac{x - X_j}{h}\\right) =\n",
    "\\Int f(y)K\\left(\\frac{x - y}{h}\\right)dy \\\\\n",
    "\\Exp K\\left(\\frac{X_i - X_j}{h}\\right) =\n",
    "\\Int f(x)f(y)K\\left(\\frac{x - y}{h}\\right)dxdy \\\\\n",
    "}$\n",
    "\n",
    "$\\displaystyle{\n",
    "\\begin{align*}\n",
    "\\Exp[\\hatJ(h) - J(h)] = \n",
    "& \\frac{2}{Nh}\\sum_{j=1}^N\\Int f(x) f(y)K\\left(\\frac{x - y}{h}\\right)dy dx - \n",
    "\\frac{2}{hN^2}\\Sum_{i=1}^N\\sum_{j=1}^N \\Int f(x)f(y)K\\left(\\frac{x - y}{h}\\right)dxdy + \\frac{2}{hN}K(0) =\\\\=\n",
    "& \\frac{2}{h}\\Int f(x) f(y)K\\left(\\frac{x - y}{h}\\right)dy dx - \n",
    "\\frac{2}{h}\\Int f(x)f(y)K\\left(\\frac{x - y}{h}\\right)dxdy + \\frac{2}{hN}K(0) =\\\\=\n",
    "& \\frac{2}{hN}K(0)\n",
    "\\end{align*}\n",
    "}$\n",
    "\n",
    "$\\displaystyle{\n",
    "}$"
   ]
  },
  {
   "cell_type": "markdown",
   "id": "545a00cf",
   "metadata": {},
   "source": [
    "### Задача 8\n",
    "Рассмотрим задачу непараметрической регрессии:\n",
    "$$\n",
    "Y_i = f(X_i) + \\eps_i, \\quad i \\in \\lf 1, \\dots, n \\rf, \\quad X_i \\in \\RR, \\quad Y_i \\in \\RR.\n",
    "$$\n",
    "где $\\eps_i$ и $X_i$ независимы, $\\Exp\\eps_i = 0$, $\\Var\\eps_i = \\sigma^2$, выборка $\\{X_i\\}_{i=1}^n$ одномерная и сэмплируется из отрезка $[0,1]$. Необходимо по имеющимся данным оценить функцию регрессии $f(x) = \\Exp(Y|X=x)$.\n",
    "\n",
    "---"
   ]
  },
  {
   "cell_type": "markdown",
   "id": "8ce53d45",
   "metadata": {},
   "source": [
    "1. Рассмотрим следующее семейство функций\n",
    "$$\n",
    "\t\\Family_M = \\lf f(x) = \\Sum_{i=1}^M c_i I[x\\in B_i], c_i \\in \\RR, i=\\overline{1, M} \\rf, \\text{ где } B_i = \\ls\\frac{i-1}{M}, \\frac{i}{M}\\rp.$$\n",
    "    \n",
    "Последний отрезок $B_M$ включает обе граничные точки. Найдите функцию из класса $\\Family_M$, которая минимизирует сумму квадратов ошибок:\n",
    "$$\n",
    "\tr(x;\\boldX^n) = \\argmin_{f(x) \\in \\Family_M}\\Sum_{i=1}^n\\lp Y_i - f(X_i)\\rp^2\n",
    "\t$$\n",
    "    "
   ]
  },
  {
   "cell_type": "markdown",
   "id": "65cffadf",
   "metadata": {},
   "source": [
    "Пусть $r_c(x;\\boldX^n) := \\Sum_{j=1}^M c_j I[X_i\\in B_j $, $c\\in \\mathbb{R}^{M}$, тогда:\n",
    "\n",
    "$\\displaystyle{\n",
    "\\begin{align*}\n",
    "r(x;\\boldX^n) = \n",
    "&\\argmin_{f(x) \\in \\Family_M}\\Sum_{i=1}^n\\lp Y_i - f(X_i)\\rp^2 =\\\\=\n",
    "&\\argmin_{f(x), f(x) = r_c}\\Sum_{i=1}^n\\lp Y_i - f(X_i)\\rp^2 =\\\\=\n",
    "&\\argmin_{f(x), f(x) = r_c}\\Sum_{i=1}^n\\lp Y_i - \\Sum_{j=1}^M c_j I[X_i\\in B_j]\\rp^2\n",
    "\\end{align*}\n",
    "}$\n",
    "\n",
    "Введем обозначение - матрицу $\\boldI \\in \\mathbb{R}^{n\\times M},\\, \\boldI_{ij} = I[X_i\\in B_j]$, тогда\n",
    "\n",
    "$\\displaystyle{\n",
    "\\begin{align*}\n",
    "r(x;\\boldX^n) = \n",
    "&\\argmin_{f(x), f(x) = r_c}\\Sum_{i=1}^n\\lp Y_i - \\Sum_{j=1}^M c_j \\boldI_{ij}\\rp^2 =\\\\=\n",
    "&\\argmin_{f(x), f(x) = r_c}\\Sum_{i=1}^n\\lp Y - \\boldI c\\rp^2 =\\\\=\n",
    "& r_{\\hat c}, \\text{ где } \\hat c = (\\boldI^T\\boldI)^{-1}\\boldI^T Y\n",
    "\\end{align*}\n",
    "}$\n",
    "\n",
    "$\\displaystyle{\n",
    "}$"
   ]
  },
  {
   "cell_type": "markdown",
   "id": "e8be5041",
   "metadata": {},
   "source": [
    "2. Найдите функцию регрессии поточечно, решив в каждой точке $x$ следующую оптимизационную задачу:\n",
    "\n",
    "Формула Надарая-Ватсона\n",
    "\t$$\n",
    "\tr(x;\\boldX^n) = \\argmin_{y \\in \\RR}\\Sum_{i=1}^nK\\lp\\frac{x-X_i}{h}\\rp\\lp Y_i - y\\rp^2,\n",
    "\t$$\n",
    "\tгде $K(x)$ –– заданная ядерная функция, $h$ –– ширина ядра."
   ]
  },
  {
   "cell_type": "markdown",
   "id": "1bbca01e",
   "metadata": {},
   "source": [
    "$\\displaystyle{\n",
    "\\begin{align*}\n",
    "\\frac{d}{dy}\\left( \\Sum_{i=1}^nK\\lp\\frac{x-X_i}{h}\\rp\\lp Y_i - y\\rp^2\\right) =\n",
    "& -2\\Sum_{i=1}^n K\\lp\\frac{x-X_i}{h}\\rp\\lp Y_i - y\\rp =\\\\=\n",
    "& -2\\Sum_{i=1}^n K\\lp\\frac{x-X_i}{h}\\rp Y_i + 2 \\Sum_{i=1}^n K\\lp\\frac{x-X_i}{h}\\rp y =\\\\= &0\n",
    "\\end{align*}\n",
    "}$\n",
    "\n",
    "$\\displaystyle{\n",
    "r(x;\\boldX^n) =\n",
    "y = \n",
    "\\frac{\\Sum_{i=1}^n K\\lp\\frac{x-X_i}{h}\\rp Y_i}{\\Sum_{i=1}^n K\\lp\\frac{x-X_i}{h}\\rp}\n",
    "}$\n",
    "\n",
    "$\\displaystyle{\n",
    "}$"
   ]
  },
  {
   "cell_type": "markdown",
   "id": "3ccfa429",
   "metadata": {},
   "source": [
    "3. Какая оценка получится, если изменить задачу на следующую:\n",
    "\t$$\n",
    "\tr(x;\\boldX^n) = \\argmin_{a, b \\in \\RR}\\Sum_{i=1}^n K\\lp\\frac{x-X_i}{h}\\rp\\lp Y_i - a - bX_i\\rp^2,\n",
    "\t$$\n",
    "\tгде $K(x)$ –– заданная ядерная функция, $h$ –– ширина ядра?\n"
   ]
  },
  {
   "cell_type": "markdown",
   "id": "b6c878f7",
   "metadata": {},
   "source": [
    "Введу обозначение $K_i := K\\lp\\frac{x-X_i}{h}\\rp$.\n",
    "\n",
    "$\\displaystyle{\n",
    "\\begin{align*}\n",
    "\\frac{d}{da}\\left(\\Sum_{i=1}^n K_i\\lp Y_i - a - bX_i\\rp^2\\right) =\n",
    "& -2\\Sum_{i=1}^n K_i\\lp Y_i - a - bX_i\\rp  =\\\\=\n",
    "& -2\\Sum_{i=1}^n K_i\\lp Y_i - bX_i\\rp  +2a\\Sum_{i=1}^n K_i\n",
    "\\end{align*}\\\\\n",
    "a = \n",
    "\\frac{\\Sum_{i=1}^n K_i\\lp Y_i - bX_i\\rp}{\\Sum_{i=1}^n K_i} =\n",
    "\\frac{K^T (Y - bX)}{|K|} =\n",
    "\\frac{K^T Y}{|K|} - b\\frac{K^T X}{|K|}\n",
    "}$\n",
    "\n",
    "$\\displaystyle{\n",
    "\\begin{align*}\n",
    "\\frac{d}{db}\\left(\\Sum_{i=1}^n K_i\\lp Y_i - a - bX_i\\rp^2\\right) =\n",
    "& -2\\Sum_{i=1}^n X_iK_i\\lp Y_i - a - bX_i\\rp  =\\\\=\n",
    "& -2\\Sum_{i=1}^n X_iK_i\\lp Y_i - a\\rp  +2b\\Sum_{i=1}^n X_i^2K_i\n",
    "\\end{align*}\\\\\n",
    "b = \n",
    "\\frac{\\Sum_{i=1}^n X_iK_i\\lp Y_i - a\\rp}{\\Sum_{i=1}^n X_i^2K_i} =\n",
    "\\frac{(X\\odot K)^TY - a K^T X}{(X\\odot K)^T X} =\n",
    "\\frac{(X\\odot K)^TY - K^T X\\left(\\frac{K^T Y}{|K|} - b\\frac{K^T X}{|K|}\\right)}{(X\\odot K)^T X}\\\\\n",
    "b((X\\odot K)^T X) = (X\\odot K)^TY -\\frac{K^T X K^T Y}{|K|} + b\\frac{(K^T X)^2}{|K|} \\\\\n",
    "b = \n",
    "\\frac{|K|(X\\odot K)^TY - K^T X K^T Y}{|K|(X\\odot K)^T X - (K^T X)^2}\\\\\n",
    "a = \n",
    "\\frac{K^T Y}{|K|} - \\frac{K^T X}{|K|}\\left(\\frac{|K|(X\\odot K)^TY - K^T X K^T Y}{|K|(X\\odot K)^T X - (K^T X)^2}\\right)\n",
    "}$"
   ]
  },
  {
   "cell_type": "markdown",
   "id": "4887b653",
   "metadata": {},
   "source": [
    "## Практический блок"
   ]
  },
  {
   "cell_type": "markdown",
   "id": "467d89bc",
   "metadata": {},
   "source": [
    "### Задача 9\n",
    "Винни-Пуху на день рождения Сова подарила 5 горшочков с медом, каждый приблизительно весом 1 кг (исходя из объема горшочка и плотности мёда). Однако из проверенных источников (от Пятачка), Винни-Пух получил информацию, что один горшочек предположительно содержит неправильный мёд, причем его вес должен отличаться от 1 кг (из-за содержания неправильных веществ). Для проведения следственных мероприятий у ослика Иа-Иа были изъяты самодельные весы. Взвесив каждый горшочек индивидуально, Винни-Пух обнаружил, что весы явно имеют некоторую неизвестную погрешность взвешивания, так что проделанные измерения не позволяют однозначно проверить информацию о неправильности мёда в одном из горшочков. Поэтому Винни-Пух почему-то решил взвешивать горшочки сразу по два, но как только он закончил эти 10 взвешиваний, как ослик Иа-Иа, пригрозив судебными разбирательствами, в принудительном порядке затребовал свои весы обратно, оставив Винни-Пуха с результатами 15-и взвешиваний.\n",
    "\n",
    "Нам даны результаты этих взвешиваний –– бинарная матрица $\\boldX \\in \\{0, 1\\}^{n \\times d}$, где $n = 15$ и $d = 5$, и вектор $\\boldy$ с результатами взвешиваний (`honey_X.csv` и `honey_y.csv`). По этим данных для каждого горшочка найдите p-value для гипотезы о том, что данный горшочек содержит неправильный мёд. Если ли среди горшочков такой, который на уровне значимости 95\\% содержит неправильный мёд?\n",
    "\n",
    "---"
   ]
  },
  {
   "cell_type": "markdown",
   "id": "7e016bca",
   "metadata": {},
   "source": [
    "Опишем модель генерации данных. Пусть весы при взвешивании предмета весом $x$ дают показания $y = x + \\eps, \\, \\eps \\sim \\Normal(0, \\sigma^2)$. Пусть всего $n$ горшочков, $c \\sim \\mathcal{U}\\{1, n\\}$ - индекс горшочка с неправильным медом, $w \\sim \\Normal(1, \\gamma^2)$ - его вес.\n",
    "\n",
    "Нам даны $n$ взвешиваний индивидуальных горшочков $\\boldy^{(1)} \\in \\mathbb{R}^{n}$ и $\\cfrac{n(n-1)}{2}$ попарных взвешиваний, из которых для удобства составим симметричную матрицу $\\boldy^{(2)} \\in \\mathbb{R}^{n\\times n}$ с нулями на диагонали. \n",
    "\n",
    "Гипотеза $H_i$ состоит в том, что горшочек $i$ содержит неправильный мед. Пусть $\\hat c, \\hat w_j, \\hat \\sigma$ - оценки максимального правдоподобия. Заметим, что $\\hat w_j = \\hat w$, если $j = \\hat c$ и $1$ иначе. Будем отвергать гипотезу $H_i$, если $\\hat c \\neq i$, то есть критерий равен $T_i$: $T_i(\\boldy^{(1)}, \\boldy^{(2)}) = |1 - \\hat w_i| $, и гипотеза отклоняется, если $T_i == 0$, и принимается, если $T_i > 0$.\n",
    "\n",
    "\n",
    "\n",
    "Введем функцию $g_{cw}$:\n",
    "\n",
    "$$g_{cw}(i) := 1 + (w - 1)\\mathbb{1}[i == c],$$\n",
    "\n",
    "которая равна $w$, если $i = c$, и $1$ иначе. С её помощью можно выразить правдоподобие:\n",
    "\n",
    "$\\displaystyle{\n",
    "\\begin{align*}\n",
    "L_{\\boldy^{(1)}, \\boldy^{(2)}}(\\sigma, c, w) =\n",
    "& \\prod_j P(\\boldy^{(1)}_j == w_j + \\eps_j) \\prod_{k < l} P(\\boldy^{(2)}_{kl} == w_k + w_l + \\eps_{kl}) =\\\\=\n",
    "& \\prod_j P(\\boldy^{(1)}_j == g_{cw}(j) + \\eps_j)\n",
    "\\prod_{k < l} P(\\boldy^{(2)}_{kl} == g_{cw}(k) + g_{cw}(l) + \\eps_{kl}) =\\\\=\n",
    "& \\prod_j P(\\eps_j == g_{cw}(j) - \\boldy^{(1)}_j) \n",
    "\\prod_{k < l} P(\\eps_{kl} == g_{cw}(k) + g_{cw}(l) - \\boldy^{(2)}_{kl}) =\\\\=\n",
    "& \\prod_j f_{\\Normal_{0, \\sigma^2}}( g_{cw}(j) - \\boldy^{(1)}_j) \n",
    "\\prod_{k < l} f_{\\Normal_{0, \\sigma^2}}(g_{cw}(k) + g_{cw}(l) - \\boldy^{(2)}_{kl}) =\\\\=\n",
    "& \\prod_j \\frac{1}{\\sqrt{2\\pi} \\sigma} \\exp\\left\\{-\\frac{1}{2} \\left(\\frac{g_{cw}(j) - \\boldy^{(1)}_j}{\\sigma}\\right)^2\\right\\}\n",
    "\\prod_{k < l} \n",
    "\\frac{1}{\\sqrt{2\\pi} \\sigma} \\exp\\left\\{-\\frac{1}{2} \\left(\\frac{g_{cw}(k) + g_{cw}(l) - \\boldy^{(2)}_{kl}}{\\sigma}\\right)^2\\right\\} =\\\\=\n",
    "& \\left(\\frac{1}{\\sqrt{2\\pi} \\sigma}\\right)^{n + n(n-1)/2} \n",
    "\\exp\\left\\{-\\frac{1}{2\\sigma^2} \\left(\\sum_j \\left( g_{cw}(j) - \\boldy^{(1)}_j \\right)^2 +\n",
    "\\sum_{k < l} \\left(g_{cw}(k) + g_{cw}(l) - \\boldy^{(2)}_{kl} \\right)^2\n",
    "\\right) \\right\\}\n",
    "\\end{align*}\n",
    "}$\n",
    "\n",
    "$\\displaystyle{\n",
    "\\begin{align*}\n",
    "\\argmax L_{\\boldy^{(1)}, \\boldy^{(2)}}(\\sigma, c, w) =\n",
    "& \\argmax \\ln L_{\\boldy^{(1)}, \\boldy^{(2)}}(\\sigma, c, w) =\\\\=\n",
    "&  \\argmax\\left(-\\left(n + n(n-1)/2\\right)\\ln\\sigma -\n",
    "\\frac{1}{2\\sigma^2} \\left(\\sum_j \\left( g_{cw}(j) - \\boldy^{(1)}_j \\right)^2 +\n",
    "\\sum_{k < l} \\left(g_{cw}(k) + g_{cw}(l) - \\boldy^{(2)}_{kl} \\right)^2\n",
    "\\right) \\right) =\\\\=\n",
    "&  \\argmin\\left(\\left(n(n+1)\\right)\\ln\\sigma +\n",
    "\\frac{1}{\\sigma^2} \\left(\\sum_j \\left( g_{cw}(j) - \\boldy^{(1)}_j \\right)^2 +\n",
    "\\sum_{k < l} \\left(g_{cw}(k) + g_{cw}(l) - \\boldy^{(2)}_{kl} \\right)^2\n",
    "\\right) \\right)\n",
    "\\end{align*}\n",
    "}$\n",
    "\n",
    "$\\displaystyle{\n",
    "\\begin{align*}\n",
    "\\frac{d}{d\\hat w} =\n",
    "& \\frac{2}{\\hat\\sigma^2} \\left(\\sum_j \\mathbb{1}[j == c] \\left( g_{c\\hat w}(j) - \\boldy^{(1)}_j \\right) +\n",
    "\\sum_{k < l} (\\mathbb{1}[k == c] + \\mathbb{1}[l == c]) \\left(g_{c\\hat w}(k) + g_{c\\hat w}(l) - \\boldy^{(2)}_{kl} \\right)\n",
    "\\right) =\\\\=\n",
    "& \\frac{2}{\\hat\\sigma^2} \\left(\\hat w - \\boldy^{(1)}_c  +\n",
    "\\sum_{c < l} \\left(\\hat w + 1 - \\boldy^{(2)}_{cl} \\right) +\n",
    "\\sum_{k < c} \\left(1 + \\hat w - \\boldy^{(2)}_{kc} \\right)\n",
    "\\right) =\\\\=\n",
    "& \\frac{2}{\\hat\\sigma^2} \\left(\\hat w - \\boldy^{(1)}_c  +\n",
    "\\sum_{k} \\left(1 + \\hat w - \\boldy^{(2)}_{kc} \\right) - \n",
    "\\left(1 + \\hat w - \\boldy^{(2)}_{cc} \\right)\n",
    "\\right) =\\\\=\n",
    "& \\frac{2}{\\hat\\sigma^2} \\left(\n",
    "n\\left(1 + \\hat w \\right) - \\sum_{k}\\boldy^{(2)}_{kc} - \\boldy^{(1)}_c - 1\n",
    "\\right) = 0\n",
    "\\end{align*}\\\\\n",
    "\\hat w = \\frac{\\sum_{k\\neq c}\\boldy^{(2)}_{kc} + \\boldy^{(1)}_c + 1}{n} - 1\n",
    "}$\n",
    "\n",
    "$\\displaystyle{\n",
    "\\frac{d}{d\\hat \\sigma} = \n",
    "\\left(\\frac{n(n+1)}{\\hat\\sigma} -\n",
    "\\frac{2}{\\hat\\sigma^3} \\left(\\sum_j \\left( g_{cw}(j) - \\boldy^{(1)}_j \\right)^2 +\n",
    "\\sum_{k < l} \\left(g_{cw}(k) + g_{cw}(l) - \\boldy^{(2)}_{kl} \\right)^2\n",
    "\\right) \\right) = 0 \\\\\n",
    "\\hat\\sigma = \n",
    "\\left(\\frac{2}{n(n+1)} \\left(\\sum_j \\left( g_{cw}(j) - \\boldy^{(1)}_j \\right)^2 +\n",
    "\\sum_{k < l} \\left(g_{cw}(k) + g_{cw}(l) - \\boldy^{(2)}_{kl} \\right)^2\n",
    "\\right) \\right)^{1/2}\n",
    "}$\n",
    "\n",
    "\n",
    "Оптимальное $\\hat c$ будем искать, подставляя оценки $\\hat w, \\hat \\sigma$:\n",
    "\n",
    "$\\displaystyle{\n",
    "\\begin{align*}\n",
    "\\hat c =\n",
    "& \\argmax_c L_{\\boldy^{(1)}, \\boldy^{(2)}}(\\hat \\sigma, c, \\hat w) =\\\\=\n",
    "& argmin_c \\left(\\left(n(n+1)\\right)\\ln\\hat\\sigma +\n",
    "\\frac{1}{\\hat\\sigma^2} \\left(\\sum_j \\left( g_{c\\hat w}(j) - \\boldy^{(1)}_j \\right)^2 +\n",
    "\\sum_{k < l} \\left(g_{c\\hat w}(k) + g_{c\\hat w}(l) - \\boldy^{(2)}_{kl} \\right)^2\n",
    "\\right) \\right) =\\\\=\n",
    "& argmin_c \\left(\\left(n(n+1)\\right)\\ln\\hat\\sigma +\n",
    "\\left(\\frac{n(n+1)}{2}\\right)^2\n",
    "\\right) =\\\\=\n",
    "& argmin_c \\left(\\hat\\sigma\\right)\n",
    "\\end{align*}\n",
    "}$\n",
    "\n",
    "Выходит, что индекс неправильного горшочка соответствует минимальной оценки дисперсии ошибки взвешивания.\n",
    "\n",
    "p-value гипотезы $H_i$ есть вероятность получить не менее экстремальное значение критерия $T_i$ с точки зрения отклонения гипотезы при условии, что гипотеза верна, то есть $\\text{p_value}_i = P(T'_i \\leq T_i | H_i)$, где здесь и далее величины со штрихом обозначают случайные, а без – фиксированные величины. Распишем эту вероятность:\n",
    "\n",
    "$\\displaystyle{\n",
    "\\begin{align*}\n",
    "\\text{p-value}_i =\n",
    "& P(T'_i \\leq T_i | H_i) =\\\\=\n",
    "& 1 - P(T'_i > T_i | H_i) =\\\\=\n",
    "& 1 - P(|1 - \\hat w'_i| > |1 - \\hat w_i| | c' == i) =\\\\=\n",
    "& 1 - \\mathbb{1}[\\hat c \\neq i] P(|1 - \\hat w'_i| > |1 - 1| | c' == i) -\n",
    "\\mathbb{1}[\\hat c == i] P(|1 - \\hat w'_i| > |1 - \\hat w| | c' == i) =\\\\=\n",
    "& 1 - \\mathbb{1}[\\hat c \\neq i] P(\\hat c' == i | c' == i) -\n",
    "\\mathbb{1}[\\hat c == i] \\left(P(\\hat c' \\neq i \\land |1 - 1| > |1 - \\hat w| | c' == i) +\n",
    "P(\\hat c' == i \\land |1 - \\hat w'| > |1 - \\hat w| | c' == i)\\right) =\\\\=\n",
    "& 1 - \\mathbb{1}[\\hat c \\neq i] P(\\hat c' == i | c' == i) -\n",
    "\\mathbb{1}[\\hat c == i] P(\\hat c' == i \\land |1 - \\hat w'| > |1 - \\hat w| | c' == i)\n",
    "\\end{align*}\n",
    "}$\n",
    "\n",
    "Аналитически данные вероятности подсчитать трудно, так что будем оценивать их частотно, генерируя случайные выборки $\\boldy'^{(1)}, \\boldy'^{(2)}$, и подсчитывая, в какой доле из них выражения под скобками принимают истинное значение. Для генерации взвешиваний нам нужна $\\sigma$ – оценим её как $\\hat \\sigma$, а для генерации веса неправильного горшочка нужна $\\gamma$ - оценим её как $|\\hat w - 1|$."
   ]
  },
  {
   "cell_type": "code",
   "execution_count": 301,
   "id": "6c07ce5a",
   "metadata": {},
   "outputs": [
    {
     "data": {
      "application/javascript": [
       "\n",
       "            setTimeout(function() {\n",
       "                var nbb_cell_id = 301;\n",
       "                var nbb_unformatted_code = \"def read_honey_data(n_honey_pots=5):\\n    honey_X = pd.read_csv(\\\"data/honey_X.csv\\\", index_col=0).astype(bool)\\n    honey_y = pd.read_csv(\\\"data/honey_y.csv\\\", index_col=0).squeeze(\\\"columns\\\")\\n\\n    y = np.empty(n_honey_pots)\\n    for i, were_weighted in honey_X[:n_honey_pots].iterrows():\\n        weighted_pots = np.nonzero(were_weighted.values)\\n        weighted_pot_index = weighted_pots[0][0]\\n        y[weighted_pot_index] = honey_y[weighted_pot_index]\\n\\n    Y = np.zeros((n_honey_pots, n_honey_pots))\\n    for i, were_weighted in honey_X[n_honey_pots:n_honey_pots + n_honey_pots * (n_honey_pots - 1) // 2].iterrows():\\n        weighted_pots = np.nonzero(were_weighted.values)\\n        first, second = weighted_pots[0]\\n        Y[first][second] = honey_y[i]\\n        Y[second][first] = honey_y[i]\\n\\n    return y, Y\";\n",
       "                var nbb_formatted_code = \"def read_honey_data(n_honey_pots=5):\\n    honey_X = pd.read_csv(\\\"data/honey_X.csv\\\", index_col=0).astype(bool)\\n    honey_y = pd.read_csv(\\\"data/honey_y.csv\\\", index_col=0).squeeze(\\\"columns\\\")\\n\\n    y = np.empty(n_honey_pots)\\n    for i, were_weighted in honey_X[:n_honey_pots].iterrows():\\n        weighted_pots = np.nonzero(were_weighted.values)\\n        weighted_pot_index = weighted_pots[0][0]\\n        y[weighted_pot_index] = honey_y[weighted_pot_index]\\n\\n    Y = np.zeros((n_honey_pots, n_honey_pots))\\n    for i, were_weighted in honey_X[\\n        n_honey_pots : n_honey_pots + n_honey_pots * (n_honey_pots - 1) // 2\\n    ].iterrows():\\n        weighted_pots = np.nonzero(were_weighted.values)\\n        first, second = weighted_pots[0]\\n        Y[first][second] = honey_y[i]\\n        Y[second][first] = honey_y[i]\\n\\n    return y, Y\";\n",
       "                var nbb_cells = Jupyter.notebook.get_cells();\n",
       "                for (var i = 0; i < nbb_cells.length; ++i) {\n",
       "                    if (nbb_cells[i].input_prompt_number == nbb_cell_id) {\n",
       "                        if (nbb_cells[i].get_text() == nbb_unformatted_code) {\n",
       "                             nbb_cells[i].set_text(nbb_formatted_code);\n",
       "                        }\n",
       "                        break;\n",
       "                    }\n",
       "                }\n",
       "            }, 500);\n",
       "            "
      ],
      "text/plain": [
       "<IPython.core.display.Javascript object>"
      ]
     },
     "metadata": {},
     "output_type": "display_data"
    }
   ],
   "source": [
    "def read_honey_data(n_honey_pots=5):\n",
    "    honey_X = pd.read_csv(\"data/honey_X.csv\", index_col=0).astype(bool)\n",
    "    honey_y = pd.read_csv(\"data/honey_y.csv\", index_col=0).squeeze(\"columns\")\n",
    "\n",
    "    y = np.empty(n_honey_pots)\n",
    "    for i, were_weighted in honey_X[:n_honey_pots].iterrows():\n",
    "        weighted_pots = np.nonzero(were_weighted.values)\n",
    "        weighted_pot_index = weighted_pots[0][0]\n",
    "        y[weighted_pot_index] = honey_y[weighted_pot_index]\n",
    "\n",
    "    Y = np.zeros((n_honey_pots, n_honey_pots))\n",
    "    for i, were_weighted in honey_X[\n",
    "        n_honey_pots : n_honey_pots + n_honey_pots * (n_honey_pots - 1) // 2\n",
    "    ].iterrows():\n",
    "        weighted_pots = np.nonzero(were_weighted.values)\n",
    "        first, second = weighted_pots[0]\n",
    "        Y[first][second] = honey_y[i]\n",
    "        Y[second][first] = honey_y[i]\n",
    "\n",
    "    return y, Y"
   ]
  },
  {
   "cell_type": "code",
   "execution_count": 499,
   "id": "a5833b08",
   "metadata": {},
   "outputs": [
    {
     "data": {
      "application/javascript": [
       "\n",
       "            setTimeout(function() {\n",
       "                var nbb_cell_id = 499;\n",
       "                var nbb_unformatted_code = \"y, Y = read_honey_data()\";\n",
       "                var nbb_formatted_code = \"y, Y = read_honey_data()\";\n",
       "                var nbb_cells = Jupyter.notebook.get_cells();\n",
       "                for (var i = 0; i < nbb_cells.length; ++i) {\n",
       "                    if (nbb_cells[i].input_prompt_number == nbb_cell_id) {\n",
       "                        if (nbb_cells[i].get_text() == nbb_unformatted_code) {\n",
       "                             nbb_cells[i].set_text(nbb_formatted_code);\n",
       "                        }\n",
       "                        break;\n",
       "                    }\n",
       "                }\n",
       "            }, 500);\n",
       "            "
      ],
      "text/plain": [
       "<IPython.core.display.Javascript object>"
      ]
     },
     "metadata": {},
     "output_type": "display_data"
    }
   ],
   "source": [
    "y, Y = read_honey_data()"
   ]
  },
  {
   "cell_type": "code",
   "execution_count": 540,
   "id": "ecd34d4b",
   "metadata": {},
   "outputs": [
    {
     "data": {
      "application/javascript": [
       "\n",
       "            setTimeout(function() {\n",
       "                var nbb_cell_id = 540;\n",
       "                var nbb_unformatted_code = \"def estimate_incorrect_honey_pot_weight(y, Y, incorrect_honey_pot):\\n    return (sum(Y[incorrect_honey_pot]) + y[incorrect_honey_pot] + 1) / len(y) - 1\\n\\n\\ndef estimate_scale_error_std(y, Y, incorrect_honey_pot):\\n    w = estimate_incorrect_honey_pot_weight(y, Y, incorrect_honey_pot)\\n    n = len(y)\\n    g = np.ones(n)\\n    g[incorrect_honey_pot] = w\\n\\n    single_pot_weighing_risk = sum((g - y) ** 2)\\n\\n    pairwise_pot_weighing_risk = np.sum(np.tril((Y - g[None, :] - g[:, None]) ** 2, -1))\\n\\n    sigma = (\\n        2 / (n * (n + 1)) * (single_pot_weighing_risk + pairwise_pot_weighing_risk)\\n    ) ** (1 / 2)\\n\\n    return sigma\\n\\n\\ndef estimate_incorrect_honey_pot(y, Y):\\n    n = len(y)\\n    sigmas = [estimate_scale_error_std(y, Y, i) for i in range(n)]\\n    return np.argmin(sigmas)\\n\\n\\n@dataclasses.dataclass\\nclass Parameters:\\n    incorrect_honey_pot: int\\n    incorrect_honey_pot_weight: float\\n    sigma: float\\n    gamma: float\\n\\n\\ndef estimate_parameters(y, Y):\\n    incorrect_honey_pot = estimate_incorrect_honey_pot(y, Y)\\n    incorrect_honey_pot_weight = estimate_incorrect_honey_pot_weight(\\n        y, Y, incorrect_honey_pot\\n    )\\n    return Parameters(\\n        incorrect_honey_pot=incorrect_honey_pot,\\n        incorrect_honey_pot_weight=incorrect_honey_pot_weight,\\n        sigma=estimate_scale_error_std(y, Y, incorrect_honey_pot),\\n        gamma=np.abs(incorrect_honey_pot_weight - 1),\\n    )\";\n",
       "                var nbb_formatted_code = \"def estimate_incorrect_honey_pot_weight(y, Y, incorrect_honey_pot):\\n    return (sum(Y[incorrect_honey_pot]) + y[incorrect_honey_pot] + 1) / len(y) - 1\\n\\n\\ndef estimate_scale_error_std(y, Y, incorrect_honey_pot):\\n    w = estimate_incorrect_honey_pot_weight(y, Y, incorrect_honey_pot)\\n    n = len(y)\\n    g = np.ones(n)\\n    g[incorrect_honey_pot] = w\\n\\n    single_pot_weighing_risk = sum((g - y) ** 2)\\n\\n    pairwise_pot_weighing_risk = np.sum(np.tril((Y - g[None, :] - g[:, None]) ** 2, -1))\\n\\n    sigma = (\\n        2 / (n * (n + 1)) * (single_pot_weighing_risk + pairwise_pot_weighing_risk)\\n    ) ** (1 / 2)\\n\\n    return sigma\\n\\n\\ndef estimate_incorrect_honey_pot(y, Y):\\n    n = len(y)\\n    sigmas = [estimate_scale_error_std(y, Y, i) for i in range(n)]\\n    return np.argmin(sigmas)\\n\\n\\n@dataclasses.dataclass\\nclass Parameters:\\n    incorrect_honey_pot: int\\n    incorrect_honey_pot_weight: float\\n    sigma: float\\n    gamma: float\\n\\n\\ndef estimate_parameters(y, Y):\\n    incorrect_honey_pot = estimate_incorrect_honey_pot(y, Y)\\n    incorrect_honey_pot_weight = estimate_incorrect_honey_pot_weight(\\n        y, Y, incorrect_honey_pot\\n    )\\n    return Parameters(\\n        incorrect_honey_pot=incorrect_honey_pot,\\n        incorrect_honey_pot_weight=incorrect_honey_pot_weight,\\n        sigma=estimate_scale_error_std(y, Y, incorrect_honey_pot),\\n        gamma=np.abs(incorrect_honey_pot_weight - 1),\\n    )\";\n",
       "                var nbb_cells = Jupyter.notebook.get_cells();\n",
       "                for (var i = 0; i < nbb_cells.length; ++i) {\n",
       "                    if (nbb_cells[i].input_prompt_number == nbb_cell_id) {\n",
       "                        if (nbb_cells[i].get_text() == nbb_unformatted_code) {\n",
       "                             nbb_cells[i].set_text(nbb_formatted_code);\n",
       "                        }\n",
       "                        break;\n",
       "                    }\n",
       "                }\n",
       "            }, 500);\n",
       "            "
      ],
      "text/plain": [
       "<IPython.core.display.Javascript object>"
      ]
     },
     "metadata": {},
     "output_type": "display_data"
    }
   ],
   "source": [
    "def estimate_incorrect_honey_pot_weight(y, Y, incorrect_honey_pot):\n",
    "    return (sum(Y[incorrect_honey_pot]) + y[incorrect_honey_pot] + 1) / len(y) - 1\n",
    "\n",
    "\n",
    "def estimate_scale_error_std(y, Y, incorrect_honey_pot):\n",
    "    w = estimate_incorrect_honey_pot_weight(y, Y, incorrect_honey_pot)\n",
    "    n = len(y)\n",
    "    g = np.ones(n)\n",
    "    g[incorrect_honey_pot] = w\n",
    "\n",
    "    single_pot_weighing_risk = sum((g - y) ** 2)\n",
    "\n",
    "    pairwise_pot_weighing_risk = np.sum(np.tril((Y - g[None, :] - g[:, None]) ** 2, -1))\n",
    "\n",
    "    sigma = (\n",
    "        2 / (n * (n + 1)) * (single_pot_weighing_risk + pairwise_pot_weighing_risk)\n",
    "    ) ** (1 / 2)\n",
    "\n",
    "    return sigma\n",
    "\n",
    "\n",
    "def estimate_incorrect_honey_pot(y, Y):\n",
    "    n = len(y)\n",
    "    sigmas = [estimate_scale_error_std(y, Y, i) for i in range(n)]\n",
    "    return np.argmin(sigmas)\n",
    "\n",
    "\n",
    "@dataclasses.dataclass\n",
    "class Parameters:\n",
    "    incorrect_honey_pot: int\n",
    "    incorrect_honey_pot_weight: float\n",
    "    sigma: float\n",
    "    gamma: float\n",
    "\n",
    "\n",
    "def estimate_parameters(y, Y):\n",
    "    incorrect_honey_pot = estimate_incorrect_honey_pot(y, Y)\n",
    "    incorrect_honey_pot_weight = estimate_incorrect_honey_pot_weight(\n",
    "        y, Y, incorrect_honey_pot\n",
    "    )\n",
    "    return Parameters(\n",
    "        incorrect_honey_pot=incorrect_honey_pot,\n",
    "        incorrect_honey_pot_weight=incorrect_honey_pot_weight,\n",
    "        sigma=estimate_scale_error_std(y, Y, incorrect_honey_pot),\n",
    "        gamma=np.abs(incorrect_honey_pot_weight - 1),\n",
    "    )"
   ]
  },
  {
   "cell_type": "code",
   "execution_count": 541,
   "id": "55d97b5e",
   "metadata": {},
   "outputs": [
    {
     "name": "stdout",
     "output_type": "stream",
     "text": [
      "Parameters(incorrect_honey_pot=4,\n",
      "           incorrect_honey_pot_weight=0.9589962054350267,\n",
      "           sigma=0.031554726095104055,\n",
      "           gamma=0.04100379456497327)\n"
     ]
    },
    {
     "data": {
      "application/javascript": [
       "\n",
       "            setTimeout(function() {\n",
       "                var nbb_cell_id = 541;\n",
       "                var nbb_unformatted_code = \"estimated_parameters = estimate_parameters(y, Y)\\npprint.pprint(estimated_parameters)\";\n",
       "                var nbb_formatted_code = \"estimated_parameters = estimate_parameters(y, Y)\\npprint.pprint(estimated_parameters)\";\n",
       "                var nbb_cells = Jupyter.notebook.get_cells();\n",
       "                for (var i = 0; i < nbb_cells.length; ++i) {\n",
       "                    if (nbb_cells[i].input_prompt_number == nbb_cell_id) {\n",
       "                        if (nbb_cells[i].get_text() == nbb_unformatted_code) {\n",
       "                             nbb_cells[i].set_text(nbb_formatted_code);\n",
       "                        }\n",
       "                        break;\n",
       "                    }\n",
       "                }\n",
       "            }, 500);\n",
       "            "
      ],
      "text/plain": [
       "<IPython.core.display.Javascript object>"
      ]
     },
     "metadata": {},
     "output_type": "display_data"
    }
   ],
   "source": [
    "estimated_parameters = estimate_parameters(y, Y)\n",
    "pprint.pprint(estimated_parameters)"
   ]
  },
  {
   "cell_type": "code",
   "execution_count": 724,
   "id": "902ab01a",
   "metadata": {},
   "outputs": [
    {
     "data": {
      "application/javascript": [
       "\n",
       "            setTimeout(function() {\n",
       "                var nbb_cell_id = 724;\n",
       "                var nbb_unformatted_code = \"def generate_weight_samples(n, sigma, gamma, incorrect_honey_pot=None):\\n    if incorrect_honey_pot is None:\\n        incorrect_honey_pot = np.random.choice(n)\\n    incorrect_honey_pot_weight = np.random.normal(1, gamma)\\n\\n    parameters = Parameters(\\n        incorrect_honey_pot=incorrect_honey_pot,\\n        incorrect_honey_pot_weight=incorrect_honey_pot_weight,\\n        sigma=sigma,\\n        gamma=gamma,\\n    )\\n\\n    true_weights = np.ones(n)\\n    true_weights[incorrect_honey_pot] = incorrect_honey_pot_weight\\n\\n    Y = np.zeros((n, n))\\n    for i in range(n):\\n        for j in range(n):\\n            if i != j:\\n                Y[i][j] = true_weights[i] + true_weights[j]\\n\\n    y = true_weights + np.random.normal(0, sigma, size=(n))\\n    Y += np.random.normal(0, sigma, size=(n, n))\\n\\n    return y, Y, parameters\";\n",
       "                var nbb_formatted_code = \"def generate_weight_samples(n, sigma, gamma, incorrect_honey_pot=None):\\n    if incorrect_honey_pot is None:\\n        incorrect_honey_pot = np.random.choice(n)\\n    incorrect_honey_pot_weight = np.random.normal(1, gamma)\\n\\n    parameters = Parameters(\\n        incorrect_honey_pot=incorrect_honey_pot,\\n        incorrect_honey_pot_weight=incorrect_honey_pot_weight,\\n        sigma=sigma,\\n        gamma=gamma,\\n    )\\n\\n    true_weights = np.ones(n)\\n    true_weights[incorrect_honey_pot] = incorrect_honey_pot_weight\\n\\n    Y = np.zeros((n, n))\\n    for i in range(n):\\n        for j in range(n):\\n            if i != j:\\n                Y[i][j] = true_weights[i] + true_weights[j]\\n\\n    y = true_weights + np.random.normal(0, sigma, size=(n))\\n    Y += np.random.normal(0, sigma, size=(n, n))\\n\\n    return y, Y, parameters\";\n",
       "                var nbb_cells = Jupyter.notebook.get_cells();\n",
       "                for (var i = 0; i < nbb_cells.length; ++i) {\n",
       "                    if (nbb_cells[i].input_prompt_number == nbb_cell_id) {\n",
       "                        if (nbb_cells[i].get_text() == nbb_unformatted_code) {\n",
       "                             nbb_cells[i].set_text(nbb_formatted_code);\n",
       "                        }\n",
       "                        break;\n",
       "                    }\n",
       "                }\n",
       "            }, 500);\n",
       "            "
      ],
      "text/plain": [
       "<IPython.core.display.Javascript object>"
      ]
     },
     "metadata": {},
     "output_type": "display_data"
    }
   ],
   "source": [
    "def generate_weight_samples(n, sigma, gamma, incorrect_honey_pot=None):\n",
    "    if incorrect_honey_pot is None:\n",
    "        incorrect_honey_pot = np.random.choice(n)\n",
    "    incorrect_honey_pot_weight = np.random.normal(1, gamma)\n",
    "\n",
    "    parameters = Parameters(\n",
    "        incorrect_honey_pot=incorrect_honey_pot,\n",
    "        incorrect_honey_pot_weight=incorrect_honey_pot_weight,\n",
    "        sigma=sigma,\n",
    "        gamma=gamma,\n",
    "    )\n",
    "\n",
    "    true_weights = np.ones(n)\n",
    "    true_weights[incorrect_honey_pot] = incorrect_honey_pot_weight\n",
    "\n",
    "    Y = np.zeros((n, n))\n",
    "    for i in range(n):\n",
    "        for j in range(n):\n",
    "            if i != j:\n",
    "                Y[i][j] = true_weights[i] + true_weights[j]\n",
    "\n",
    "    y = true_weights + np.random.normal(0, sigma, size=(n))\n",
    "    Y += np.random.normal(0, sigma, size=(n, n))\n",
    "\n",
    "    return y, Y, parameters"
   ]
  },
  {
   "cell_type": "code",
   "execution_count": 725,
   "id": "490140bc",
   "metadata": {},
   "outputs": [
    {
     "data": {
      "application/javascript": [
       "\n",
       "            setTimeout(function() {\n",
       "                var nbb_cell_id = 725;\n",
       "                var nbb_unformatted_code = \"def estimate_p_values(y, Y, n_iterations=10_000):\\n    parameters = estimate_parameters(y, Y)\\n    n = len(y)\\n    p_values = np.ones(n)\\n    correct_honey_index = np.arange(n) != parameters.incorrect_honey_pot\\n\\n    for _ in range(n_iterations):\\n        new_y, new_Y, _ = generate_weight_samples(\\n            n, parameters.sigma, parameters.gamma, parameters.incorrect_honey_pot\\n        )\\n        new_parameters = estimate_parameters(new_y, new_Y)\\n\\n        is_right_pot = (\\n            new_parameters.incorrect_honey_pot == parameters.incorrect_honey_pot\\n        )\\n        is_weight_more_extreme = np.abs(\\n            new_parameters.incorrect_honey_pot_weight - 1\\n        ) > np.abs(parameters.incorrect_honey_pot_weight - 1)\\n\\n        p_values[correct_honey_index] -= is_right_pot / n_iterations\\n        p_values[parameters.incorrect_honey_pot] -= (\\n            is_right_pot and is_weight_more_extreme\\n        ) / n_iterations\\n\\n    return p_values\";\n",
       "                var nbb_formatted_code = \"def estimate_p_values(y, Y, n_iterations=10_000):\\n    parameters = estimate_parameters(y, Y)\\n    n = len(y)\\n    p_values = np.ones(n)\\n    correct_honey_index = np.arange(n) != parameters.incorrect_honey_pot\\n\\n    for _ in range(n_iterations):\\n        new_y, new_Y, _ = generate_weight_samples(\\n            n, parameters.sigma, parameters.gamma, parameters.incorrect_honey_pot\\n        )\\n        new_parameters = estimate_parameters(new_y, new_Y)\\n\\n        is_right_pot = (\\n            new_parameters.incorrect_honey_pot == parameters.incorrect_honey_pot\\n        )\\n        is_weight_more_extreme = np.abs(\\n            new_parameters.incorrect_honey_pot_weight - 1\\n        ) > np.abs(parameters.incorrect_honey_pot_weight - 1)\\n\\n        p_values[correct_honey_index] -= is_right_pot / n_iterations\\n        p_values[parameters.incorrect_honey_pot] -= (\\n            is_right_pot and is_weight_more_extreme\\n        ) / n_iterations\\n\\n    return p_values\";\n",
       "                var nbb_cells = Jupyter.notebook.get_cells();\n",
       "                for (var i = 0; i < nbb_cells.length; ++i) {\n",
       "                    if (nbb_cells[i].input_prompt_number == nbb_cell_id) {\n",
       "                        if (nbb_cells[i].get_text() == nbb_unformatted_code) {\n",
       "                             nbb_cells[i].set_text(nbb_formatted_code);\n",
       "                        }\n",
       "                        break;\n",
       "                    }\n",
       "                }\n",
       "            }, 500);\n",
       "            "
      ],
      "text/plain": [
       "<IPython.core.display.Javascript object>"
      ]
     },
     "metadata": {},
     "output_type": "display_data"
    }
   ],
   "source": [
    "def estimate_p_values(y, Y, n_iterations=10_000):\n",
    "    parameters = estimate_parameters(y, Y)\n",
    "    n = len(y)\n",
    "    p_values = np.ones(n)\n",
    "    correct_honey_index = np.arange(n) != parameters.incorrect_honey_pot\n",
    "\n",
    "    for _ in range(n_iterations):\n",
    "        new_y, new_Y, _ = generate_weight_samples(\n",
    "            n, parameters.sigma, parameters.gamma, parameters.incorrect_honey_pot\n",
    "        )\n",
    "        new_parameters = estimate_parameters(new_y, new_Y)\n",
    "\n",
    "        is_right_pot = (\n",
    "            new_parameters.incorrect_honey_pot == parameters.incorrect_honey_pot\n",
    "        )\n",
    "        is_weight_more_extreme = np.abs(\n",
    "            new_parameters.incorrect_honey_pot_weight - 1\n",
    "        ) > np.abs(parameters.incorrect_honey_pot_weight - 1)\n",
    "\n",
    "        p_values[correct_honey_index] -= is_right_pot / n_iterations\n",
    "        p_values[parameters.incorrect_honey_pot] -= (\n",
    "            is_right_pot and is_weight_more_extreme\n",
    "        ) / n_iterations\n",
    "\n",
    "    return p_values"
   ]
  },
  {
   "cell_type": "code",
   "execution_count": 726,
   "id": "c46b48d1",
   "metadata": {},
   "outputs": [
    {
     "data": {
      "application/javascript": [
       "\n",
       "            setTimeout(function() {\n",
       "                var nbb_cell_id = 726;\n",
       "                var nbb_unformatted_code = \"p_values = estimate_p_values(y, Y)\";\n",
       "                var nbb_formatted_code = \"p_values = estimate_p_values(y, Y)\";\n",
       "                var nbb_cells = Jupyter.notebook.get_cells();\n",
       "                for (var i = 0; i < nbb_cells.length; ++i) {\n",
       "                    if (nbb_cells[i].input_prompt_number == nbb_cell_id) {\n",
       "                        if (nbb_cells[i].get_text() == nbb_unformatted_code) {\n",
       "                             nbb_cells[i].set_text(nbb_formatted_code);\n",
       "                        }\n",
       "                        break;\n",
       "                    }\n",
       "                }\n",
       "            }, 500);\n",
       "            "
      ],
      "text/plain": [
       "<IPython.core.display.Javascript object>"
      ]
     },
     "metadata": {},
     "output_type": "display_data"
    }
   ],
   "source": [
    "p_values = estimate_p_values(y, Y)"
   ]
  },
  {
   "cell_type": "code",
   "execution_count": 727,
   "id": "4fb3ee30",
   "metadata": {},
   "outputs": [
    {
     "data": {
      "text/html": [
       "<div>\n",
       "<style scoped>\n",
       "    .dataframe tbody tr th:only-of-type {\n",
       "        vertical-align: middle;\n",
       "    }\n",
       "\n",
       "    .dataframe tbody tr th {\n",
       "        vertical-align: top;\n",
       "    }\n",
       "\n",
       "    .dataframe thead th {\n",
       "        text-align: right;\n",
       "    }\n",
       "</style>\n",
       "<table border=\"1\" class=\"dataframe\">\n",
       "  <thead>\n",
       "    <tr style=\"text-align: right;\">\n",
       "      <th></th>\n",
       "      <th>p_value</th>\n",
       "      <th>predicted_wrong_honey_pot</th>\n",
       "      <th>predicted_weight</th>\n",
       "      <th>solo_weighings</th>\n",
       "    </tr>\n",
       "  </thead>\n",
       "  <tbody>\n",
       "    <tr>\n",
       "      <th>0</th>\n",
       "      <td>0.3034</td>\n",
       "      <td>False</td>\n",
       "      <td>1.000000</td>\n",
       "      <td>1.075063</td>\n",
       "    </tr>\n",
       "    <tr>\n",
       "      <th>1</th>\n",
       "      <td>0.3034</td>\n",
       "      <td>False</td>\n",
       "      <td>1.000000</td>\n",
       "      <td>1.007503</td>\n",
       "    </tr>\n",
       "    <tr>\n",
       "      <th>2</th>\n",
       "      <td>0.3034</td>\n",
       "      <td>False</td>\n",
       "      <td>1.000000</td>\n",
       "      <td>1.018630</td>\n",
       "    </tr>\n",
       "    <tr>\n",
       "      <th>3</th>\n",
       "      <td>0.3034</td>\n",
       "      <td>False</td>\n",
       "      <td>1.000000</td>\n",
       "      <td>1.028259</td>\n",
       "    </tr>\n",
       "    <tr>\n",
       "      <th>4</th>\n",
       "      <td>0.6448</td>\n",
       "      <td>True</td>\n",
       "      <td>0.958996</td>\n",
       "      <td>0.964053</td>\n",
       "    </tr>\n",
       "  </tbody>\n",
       "</table>\n",
       "</div>"
      ],
      "text/plain": [
       "   p_value  predicted_wrong_honey_pot  predicted_weight  solo_weighings\n",
       "0   0.3034                      False          1.000000        1.075063\n",
       "1   0.3034                      False          1.000000        1.007503\n",
       "2   0.3034                      False          1.000000        1.018630\n",
       "3   0.3034                      False          1.000000        1.028259\n",
       "4   0.6448                       True          0.958996        0.964053"
      ]
     },
     "execution_count": 727,
     "metadata": {},
     "output_type": "execute_result"
    },
    {
     "data": {
      "application/javascript": [
       "\n",
       "            setTimeout(function() {\n",
       "                var nbb_cell_id = 727;\n",
       "                var nbb_unformatted_code = \"pd.DataFrame(\\n    dict(\\n        p_value=p_values,\\n        predicted_wrong_honey_pot=np.arange(5)\\n        == estimated_parameters.incorrect_honey_pot,\\n        predicted_weight=np.where(\\n            np.arange(5) == estimated_parameters.incorrect_honey_pot,\\n            estimated_parameters.incorrect_honey_pot_weight,\\n            1,\\n        ),\\n        solo_weighings=y,\\n    )\\n)\";\n",
       "                var nbb_formatted_code = \"pd.DataFrame(\\n    dict(\\n        p_value=p_values,\\n        predicted_wrong_honey_pot=np.arange(5)\\n        == estimated_parameters.incorrect_honey_pot,\\n        predicted_weight=np.where(\\n            np.arange(5) == estimated_parameters.incorrect_honey_pot,\\n            estimated_parameters.incorrect_honey_pot_weight,\\n            1,\\n        ),\\n        solo_weighings=y,\\n    )\\n)\";\n",
       "                var nbb_cells = Jupyter.notebook.get_cells();\n",
       "                for (var i = 0; i < nbb_cells.length; ++i) {\n",
       "                    if (nbb_cells[i].input_prompt_number == nbb_cell_id) {\n",
       "                        if (nbb_cells[i].get_text() == nbb_unformatted_code) {\n",
       "                             nbb_cells[i].set_text(nbb_formatted_code);\n",
       "                        }\n",
       "                        break;\n",
       "                    }\n",
       "                }\n",
       "            }, 500);\n",
       "            "
      ],
      "text/plain": [
       "<IPython.core.display.Javascript object>"
      ]
     },
     "metadata": {},
     "output_type": "display_data"
    }
   ],
   "source": [
    "pd.DataFrame(\n",
    "    dict(\n",
    "        p_value=p_values,\n",
    "        predicted_wrong_honey_pot=np.arange(5)\n",
    "        == estimated_parameters.incorrect_honey_pot,\n",
    "        predicted_weight=np.where(\n",
    "            np.arange(5) == estimated_parameters.incorrect_honey_pot,\n",
    "            estimated_parameters.incorrect_honey_pot_weight,\n",
    "            1,\n",
    "        ),\n",
    "        solo_weighings=y,\n",
    "    )\n",
    ")"
   ]
  },
  {
   "cell_type": "markdown",
   "id": "0ecae907",
   "metadata": {},
   "source": [
    "__Дополнительное задание на 1 балл.__ Дисперсия веса горшочка зависит от дизайна взвешиваний (выбора матрицы $\\boldX$). Возможно Винни-Пух ошибся, начав взвешивать горшочки сразу по два, и вместо этого стоило взвесить каждый горшочек отдельно от других ещё по два раза, получив в результате те же самые 15 взвешиваний до того момента, как весы были возвращены Иа-Иа. Найдите отношение дисперсии оценки веса горшочка в случае дизайна, предложенного Винни-Пухом, к дисперсии оценки веса горшочка в случае предложенного _индивидуального_ дизайна. Какой дизайн лучше с точки зрения поиска горшочка с неправильным мёдом?\n"
   ]
  },
  {
   "cell_type": "markdown",
   "id": "41504158",
   "metadata": {},
   "source": [
    "Дисперсия текущей оценки веса неправильного меда:\n",
    "\n",
    "$\\displaystyle{\n",
    "\\begin{align*}\n",
    "\\Var(\\hat w) =\n",
    "& \\Var\\left(\\frac{\\sum_{k\\neq \\hat c}\\boldy^{(2)}_{k \\hat c} + \\boldy^{(1)}_{\\hat c} + 1}{n} - 1\\right) =\\\\=\n",
    "& \\frac{1}{n^2}\\Var\\left(\\sum_{k\\neq \\hat c}\\left(w_k + w_{\\hat c} + \\eps_{k \\hat c} \\right) + w_{\\hat c} + \\eps_{\\hat c} \\right) =\\\\=\n",
    "& \\frac{1}{n^2}\\Var\\left(\\sum_{k}w_k  + (n-1)w_{\\hat c} + \\sum_{k\\neq \\hat c}\\eps_{k \\hat c} + \\eps_{\\hat c} \\right) =\\\\=\n",
    "& \\frac{1}{n^2}\\Var\\left((n - 1 + w_{ c})  + (n-1)(\\mathbb{1}[c == \\hat c]w_{c} + \\mathbb{1}[c\\neq \\hat c] 1) + \\sum_{k\\neq \\hat c}\\eps_{k \\hat c} + \\eps_{\\hat c} \\right) =\\\\=\n",
    "& \\frac{1}{n^2}\\Var\\left(w_{c}  + (n-1)\\mathbb{1}[c == \\hat c]w_{c} + \\sum_{k\\neq \\hat c}\\eps_{k \\hat c} + \\eps_{\\hat c} \\right) =\\\\=\n",
    "& \\frac{1}{n^2}\\left(\\gamma^2 + (n-1)^2 P(c == \\hat c) \\gamma^2 + n\\sigma^2 \\right) =\\\\=\n",
    "& \\frac{1}{n^2}\\left(\\gamma^2(1 + (n-1)^2 P(c == \\hat c)) + \\sigma^2n\\right)\n",
    "\\end{align*}\n",
    "}$"
   ]
  },
  {
   "cell_type": "markdown",
   "id": "ad18e044",
   "metadata": {},
   "source": [
    "Пусть теперь $\\boldy^{(m)}$ отвечает этапу $m$ индивидуальных взвешиваний.\n",
    "\n",
    "$\\displaystyle{\n",
    "\\begin{align*}\n",
    "L_{\\boldy^{(1)}, \\boldy^{(2)}, \\boldy^{(3)}}(\\sigma, c, w) =\n",
    "& \\prod_{i=1}^m \\prod_{j=1}^n P(\\boldy^{(i)}_j == w_{j} + \\eps_{ij}) =\\\\=\n",
    "& \\prod_{i=1}^m \\prod_{j=1}^n f_{\\Normal_{0, \\sigma^2}}( g_{cw}(j) - \\boldy^{(i)}_j)  =\\\\=\n",
    "& \\left(\\frac{1}{\\sqrt{2\\pi} \\sigma}\\right)^{mn} \n",
    "\\exp\\left\\{-\\frac{1}{2\\sigma^2} \\left(\\sum_i\\sum_j \\left( g_{cw}(j) - \\boldy^{(i)}_j \\right)^2\\right) \\right\\}\n",
    "\\end{align*}\n",
    "}$\n",
    "\n",
    "$\\displaystyle{\n",
    "\\begin{align*}\n",
    "\\argmax L_{\\boldy^{(1)}, \\boldy^{(2)}}(\\sigma, c, w) =\n",
    "& \\argmax \\ln L_{\\boldy^{(1)}, \\boldy^{(2)}}(\\sigma, c, w) =\\\\=\n",
    "& \\argmax\\left(-mn\\ln\\sigma -\n",
    "\\frac{1}{2\\sigma^2} \\left(\\sum_i\\sum_j \\left( g_{cw}(j) - \\boldy^{(i)}_j \\right)^2 \n",
    "\\right) \\right) =\\\\=\n",
    "& \\argmin\\left(2mn\\ln\\sigma +\n",
    "\\frac{1}{\\sigma^2} \\left(\\sum_i\\sum_j \\left( g_{cw}(j) - \\boldy^{(i)}_j \\right)^2 \n",
    "\\right) \\right)\n",
    "\\end{align*}\n",
    "}$\n",
    "\n",
    "$\\displaystyle{\n",
    "\\begin{align*}\n",
    "\\frac{d}{dw} =\n",
    "& \\frac{2}{\\sigma^2} \\left(\\sum_i\\sum_j \\mathbb{1}[\\hat c' == j] \\left( g_{\\hat c'\\hat w'}(j) - \\boldy^{(i)}_j \\right) \\right) =\\\\=\n",
    "& \\frac{2}{\\sigma^2} \\left(\\sum_i \\left(\\hat w' - \\boldy^{(i)}_{\\hat c'} \\right) \\right) =\\\\=\n",
    "& \\frac{2}{\\sigma^2} \\left(m\\hat w'  - \\sum_i \\boldy^{(i)}_{\\hat c'} \\right) = 0\n",
    "\\end{align*}\\\\\n",
    "\\hat w' = \\frac{\\sum_i \\boldy^{(i)}_{\\hat c'}}{m}\\\\\n",
    "}$\n",
    "\n",
    "$\\displaystyle{\n",
    "\\begin{align*}\n",
    "\\Var(\\hat w') = \n",
    "& \\frac{1}{m^2}\\Var(\\sum_i (w_{\\hat c'} + \\eps_{i\\hat c'})) =\\\\=\n",
    "& \\frac{1}{m^2}\\Var(m\\mathbb{1}[c == \\hat c']w_{c} + \\sum_i\\eps_{i\\hat c'})) =\\\\=\n",
    "& \\gamma^2P(c == \\hat c') + \\frac{\\sigma^2}{m} =\\\\=\n",
    "& \\frac{m\\gamma^2P(c == \\hat c') + \\sigma^2}{m}\n",
    "\\end{align*}\n",
    "}$\n",
    "\n",
    "$\\displaystyle{\n",
    "\\begin{align*}\n",
    "& \\frac{\\Var(\\hat w)}{\\Var(\\hat w')} =\n",
    "\\frac{m\\left(\\gamma^2(1 + (n-1)^2 P(c == \\hat c')) + \\sigma^2n\\right)}{n^2(m\\gamma^2P(c == \\hat c') + \\sigma^2)}\n",
    "\\end{align*}\n",
    "}$\n",
    "\n",
    "Наложим ограничение $m = \\frac{n(n-1)}{2}$, чтобы сравнивать дисперсии на выборках равного размера:\n",
    "\n",
    "$\\displaystyle{\n",
    "\\begin{align*}\n",
    "\\frac{\\Var(\\hat w)}{\\Var(\\hat w')} =\n",
    "& \\frac{n(n-1)\\left(\\gamma^2(1 + (n-1)^2 P(c == \\hat c)) + \\sigma^2n\\right)}{n^2\\left(n(n-1)\\gamma^2P(c == \\hat c') + 2\\sigma^2\\right)} =\\\\=\n",
    "& \\frac{(n-1)\\left(\\gamma^2(1 + (n-1)^2 P(c == \\hat c)) + \\sigma^2n\\right)}{n\\left(n(n-1)\\gamma^2P(c == \\hat c') + 2\\sigma^2\\right)}\n",
    "\\end{align*}\n",
    "}$\n",
    "\n",
    "Из дроби ничего не понятно, попробуем вычесть числитель и знаменатель:\n",
    "\n",
    "$\\displaystyle{\n",
    "(n-1)\\left(\\gamma^2(1 + (n-1)^2 P(c == \\hat c)) + \\sigma^2n\\right) -\n",
    "n\\left(n(n-1)\\gamma^2P(c == \\hat c') + 2\\sigma^2\\right) =\\\\=\n",
    "(n-1)\\gamma^2\\left(1 + (n-1)^2 P(c == \\hat c) - n^2 P(c == \\hat c')\\right) + \\sigma^2n(n-1) -\n",
    "2\\sigma^2 n =\\\\=\n",
    "(n-1)\\gamma^2\\left(1 + (n-1)^2 P(c == \\hat c) - n^2 P(c == \\hat c')\\right) + \\sigma^2n(n -3) \\lor 0 \\\\\n",
    "1 + (n-1)^2 P(c == \\hat c) - n^2 P(c == \\hat c') \\lor -\\frac{\\sigma^2n(n -3)}{\\gamma^2(n-1)} \\\\\n",
    "P(c == \\hat c) \\lor \\frac{1}{(n-1)^2}\\left( n^2 P(c == \\hat c') - 1 -\\frac{\\sigma^2n(n -3)}{\\gamma^2(n-1)}\\right)\\\\\n",
    "P(c == \\hat c) \\lor \\frac{n^2}{(n-1)^2} P(c == \\hat c') -  \\frac{1}{(n-1)^2}\\left(1 + \\frac{\\sigma^2n(n -3)}{\\gamma^2(n-1)}\\right)\n",
    "}$\n",
    "\n",
    "Четких аналитических выводов здесь пока не выходит, но можно заметить, что асимптотически все зависит от отношения вероятностей правильного предсказания $\\cfrac{P(c == \\hat c')}{P(c == \\hat c)}$ для данных дизайнов, то есть если $\\lim P(c == \\hat c') > \\lim P(c == \\hat c)$, то $\\Var(\\hat w') >  \\Var(\\hat w)$. Выходит, что за большей вероятностью правильного предсказания следует и большая дисперсия предсказанного веса. Интуитивно это можно объяснить следующим: если мы неправильно выбрали горшочек, то его истинный вес равен 1, и дисперсия в предсказании будет исходить в основном от погрешности весов $\\sigma$. При предсказании веса истинного горшочка с неправильным медом к этой дисперсии добавляется еще и $\\gamma$. \n",
    "\n",
    "Для сравнения же данных дизайнов замечу, что в итоге меня в первую очередь интересует не дисперсия предсказанного веса, и не p-value, а вероятность правильного ответа $P(c == \\hat c)$, которую придется оценить через генерацию выборок, но для этого нам понадобится $\\hat \\sigma'$:\n",
    "\n",
    "$\\displaystyle{\n",
    "\\frac{d}{d\\sigma} =\n",
    "\\left(2mn\\frac{1}{\\hat\\sigma'} -\n",
    "\\frac{2}{\\hat\\sigma'^3} \\left(\\sum_i\\sum_j \\left( g_{c\\hat w'}(j) - \\boldy^{(i)}_j \\right)^2 \n",
    "\\right) \\right)\\\\\n",
    "\\hat\\sigma' = \\left(\\frac{1}{mn} \\sum_i\\sum_j \\left( g_{c\\hat w'}(j) - \\boldy^{(i)}_j \\right)^2 \n",
    "\\right)^{1/2}\n",
    "}$"
   ]
  },
  {
   "cell_type": "markdown",
   "id": "ed8f8485",
   "metadata": {},
   "source": [
    "Вероятность правильного ответа с фиксированными $\\sigma, \\gamma$ для первого дизайна:"
   ]
  },
  {
   "cell_type": "code",
   "execution_count": 545,
   "id": "2684fac5",
   "metadata": {},
   "outputs": [
    {
     "data": {
      "application/javascript": [
       "\n",
       "            setTimeout(function() {\n",
       "                var nbb_cell_id = 545;\n",
       "                var nbb_unformatted_code = \"def generate_samples_and_parameters(n_honey_pots, n_samples, sigma, gamma):\\n    true_parameters = []\\n    estimated_parameters = []\\n\\n    for _ in range(n_samples):\\n        y, Y, params = generate_weight_samples(n_honey_pots, sigma, gamma)\\n        estimated_params = estimate_parameters(y, Y)\\n        true_parameters.append(params)\\n        estimated_parameters.append(estimated_params)\\n\\n    return true_parameters, estimated_parameters\";\n",
       "                var nbb_formatted_code = \"def generate_samples_and_parameters(n_honey_pots, n_samples, sigma, gamma):\\n    true_parameters = []\\n    estimated_parameters = []\\n\\n    for _ in range(n_samples):\\n        y, Y, params = generate_weight_samples(n_honey_pots, sigma, gamma)\\n        estimated_params = estimate_parameters(y, Y)\\n        true_parameters.append(params)\\n        estimated_parameters.append(estimated_params)\\n\\n    return true_parameters, estimated_parameters\";\n",
       "                var nbb_cells = Jupyter.notebook.get_cells();\n",
       "                for (var i = 0; i < nbb_cells.length; ++i) {\n",
       "                    if (nbb_cells[i].input_prompt_number == nbb_cell_id) {\n",
       "                        if (nbb_cells[i].get_text() == nbb_unformatted_code) {\n",
       "                             nbb_cells[i].set_text(nbb_formatted_code);\n",
       "                        }\n",
       "                        break;\n",
       "                    }\n",
       "                }\n",
       "            }, 500);\n",
       "            "
      ],
      "text/plain": [
       "<IPython.core.display.Javascript object>"
      ]
     },
     "metadata": {},
     "output_type": "display_data"
    }
   ],
   "source": [
    "def generate_samples_and_parameters(n_honey_pots, n_samples, sigma, gamma):\n",
    "    true_parameters = []\n",
    "    estimated_parameters = []\n",
    "\n",
    "    for _ in range(n_samples):\n",
    "        y, Y, params = generate_weight_samples(n_honey_pots, sigma, gamma)\n",
    "        estimated_params = estimate_parameters(y, Y)\n",
    "        true_parameters.append(params)\n",
    "        estimated_parameters.append(estimated_params)\n",
    "\n",
    "    return true_parameters, estimated_parameters"
   ]
  },
  {
   "cell_type": "code",
   "execution_count": null,
   "id": "3386f176",
   "metadata": {},
   "outputs": [],
   "source": [
    "n_samples = 1_000_000\n",
    "(\n",
    "    true_generated_parameters,\n",
    "    estimated_generated_parameters,\n",
    ") = generate_samples_and_parameters(\n",
    "    n_honey_pots=5,\n",
    "    n_samples=n_samples,\n",
    "    sigma=estimated_parameters.sigma,\n",
    "    gamma=estimated_parameters.gamma,\n",
    ")"
   ]
  },
  {
   "cell_type": "code",
   "execution_count": 767,
   "id": "ef711649",
   "metadata": {},
   "outputs": [
    {
     "data": {
      "application/javascript": [
       "\n",
       "            setTimeout(function() {\n",
       "                var nbb_cell_id = 767;\n",
       "                var nbb_unformatted_code = \"accuracy = np.mean(\\n    [\\n        tgp.incorrect_honey_pot == egp.incorrect_honey_pot\\n        for tgp, egp in zip(true_generated_parameters, estimated_generated_parameters)\\n    ]\\n)\\npredicted_weight_variance = np.var(\\n    [egp.incorrect_honey_pot_weight for egp in estimated_generated_parameters]\\n)\";\n",
       "                var nbb_formatted_code = \"accuracy = np.mean(\\n    [\\n        tgp.incorrect_honey_pot == egp.incorrect_honey_pot\\n        for tgp, egp in zip(true_generated_parameters, estimated_generated_parameters)\\n    ]\\n)\\npredicted_weight_variance = np.var(\\n    [egp.incorrect_honey_pot_weight for egp in estimated_generated_parameters]\\n)\";\n",
       "                var nbb_cells = Jupyter.notebook.get_cells();\n",
       "                for (var i = 0; i < nbb_cells.length; ++i) {\n",
       "                    if (nbb_cells[i].input_prompt_number == nbb_cell_id) {\n",
       "                        if (nbb_cells[i].get_text() == nbb_unformatted_code) {\n",
       "                             nbb_cells[i].set_text(nbb_formatted_code);\n",
       "                        }\n",
       "                        break;\n",
       "                    }\n",
       "                }\n",
       "            }, 500);\n",
       "            "
      ],
      "text/plain": [
       "<IPython.core.display.Javascript object>"
      ]
     },
     "metadata": {},
     "output_type": "display_data"
    }
   ],
   "source": [
    "accuracy = np.mean(\n",
    "    [\n",
    "        tgp.incorrect_honey_pot == egp.incorrect_honey_pot\n",
    "        for tgp, egp in zip(true_generated_parameters, estimated_generated_parameters)\n",
    "    ]\n",
    ")\n",
    "predicted_weight_variance = np.var(\n",
    "    [egp.incorrect_honey_pot_weight for egp in estimated_generated_parameters]\n",
    ")"
   ]
  },
  {
   "cell_type": "markdown",
   "id": "2d4496c9",
   "metadata": {},
   "source": [
    "Вероятность правильного ответа с фиксированными $\\sigma, \\gamma$ для второго дизайна:"
   ]
  },
  {
   "cell_type": "code",
   "execution_count": 743,
   "id": "ecdad872",
   "metadata": {},
   "outputs": [
    {
     "data": {
      "application/javascript": [
       "\n",
       "            setTimeout(function() {\n",
       "                var nbb_cell_id = 743;\n",
       "                var nbb_unformatted_code = \"def second_generate_weight_samples(n, m, sigma, gamma):\\n    incorrect_honey_pot = np.random.choice(n)\\n    incorrect_honey_pot_weight = np.random.normal(1, gamma)\\n\\n    parameters = Parameters(\\n        incorrect_honey_pot=incorrect_honey_pot,\\n        incorrect_honey_pot_weight=incorrect_honey_pot_weight,\\n        sigma=sigma,\\n        gamma=gamma,\\n    )\\n\\n    true_weights = np.ones(n)\\n    true_weights[incorrect_honey_pot] = incorrect_honey_pot_weight\\n\\n    second_Y = np.repeat(true_weights.reshape(1, -1), repeats=m, axis=0)\\n    second_Y += np.random.normal(0, sigma, size=(m, n))\\n\\n    return second_Y, parameters\\n\\ndef second_estimate_incorrect_honey_pot_weight(second_Y, incorrect_honey_pot):\\n    return second_Y[:, incorrect_honey_pot].mean()\\n\\n\\ndef second_estimate_scale_error_std(second_Y, incorrect_honey_pot):\\n    w = second_estimate_incorrect_honey_pot_weight(second_Y, incorrect_honey_pot)\\n    n = second_Y.shape[1]\\n    g = np.ones(n)\\n    g[incorrect_honey_pot] = w\\n\\n    sigma = np.mean((second_Y - g) ** 2) ** (1 / 2)\\n    return sigma\\n\\n\\ndef second_estimate_incorrect_honey_pot(second_Y):\\n    n = second_Y.shape[1]\\n    sigmas = [second_estimate_scale_error_std(second_Y, i) for i in range(n)]\\n    return np.argmin(sigmas)\\n\\n\\ndef second_estimate_parameters(second_Y):\\n    incorrect_honey_pot = second_estimate_incorrect_honey_pot(second_Y)\\n    incorrect_honey_pot_weight = second_estimate_incorrect_honey_pot_weight(\\n        second_Y, incorrect_honey_pot\\n    )\\n    return Parameters(\\n        incorrect_honey_pot=incorrect_honey_pot,\\n        incorrect_honey_pot_weight=incorrect_honey_pot_weight,\\n        sigma=second_estimate_scale_error_std(second_Y, incorrect_honey_pot),\\n        gamma=np.abs(incorrect_honey_pot_weight - 1),\\n    )\\n\\n\\ndef second_generate_samples_and_parameters(\\n    n_honey_pots, m_solo_weighings, n_samples, sigma, gamma\\n):\\n    true_parameters = []\\n    estimated_parameters = []\\n\\n    for _ in range(n_samples):\\n        second_Y, params = second_generate_weight_samples(\\n            n_honey_pots, m_solo_weighings, sigma, gamma\\n        )\\n        estimated_params = second_estimate_parameters(second_Y)\\n        true_parameters.append(params)\\n        estimated_parameters.append(estimated_params)\\n\\n    return true_parameters, estimated_parameters\";\n",
       "                var nbb_formatted_code = \"def second_generate_weight_samples(n, m, sigma, gamma):\\n    incorrect_honey_pot = np.random.choice(n)\\n    incorrect_honey_pot_weight = np.random.normal(1, gamma)\\n\\n    parameters = Parameters(\\n        incorrect_honey_pot=incorrect_honey_pot,\\n        incorrect_honey_pot_weight=incorrect_honey_pot_weight,\\n        sigma=sigma,\\n        gamma=gamma,\\n    )\\n\\n    true_weights = np.ones(n)\\n    true_weights[incorrect_honey_pot] = incorrect_honey_pot_weight\\n\\n    second_Y = np.repeat(true_weights.reshape(1, -1), repeats=m, axis=0)\\n    second_Y += np.random.normal(0, sigma, size=(m, n))\\n\\n    return second_Y, parameters\\n\\n\\ndef second_estimate_incorrect_honey_pot_weight(second_Y, incorrect_honey_pot):\\n    return second_Y[:, incorrect_honey_pot].mean()\\n\\n\\ndef second_estimate_scale_error_std(second_Y, incorrect_honey_pot):\\n    w = second_estimate_incorrect_honey_pot_weight(second_Y, incorrect_honey_pot)\\n    n = second_Y.shape[1]\\n    g = np.ones(n)\\n    g[incorrect_honey_pot] = w\\n\\n    sigma = np.mean((second_Y - g) ** 2) ** (1 / 2)\\n    return sigma\\n\\n\\ndef second_estimate_incorrect_honey_pot(second_Y):\\n    n = second_Y.shape[1]\\n    sigmas = [second_estimate_scale_error_std(second_Y, i) for i in range(n)]\\n    return np.argmin(sigmas)\\n\\n\\ndef second_estimate_parameters(second_Y):\\n    incorrect_honey_pot = second_estimate_incorrect_honey_pot(second_Y)\\n    incorrect_honey_pot_weight = second_estimate_incorrect_honey_pot_weight(\\n        second_Y, incorrect_honey_pot\\n    )\\n    return Parameters(\\n        incorrect_honey_pot=incorrect_honey_pot,\\n        incorrect_honey_pot_weight=incorrect_honey_pot_weight,\\n        sigma=second_estimate_scale_error_std(second_Y, incorrect_honey_pot),\\n        gamma=np.abs(incorrect_honey_pot_weight - 1),\\n    )\\n\\n\\ndef second_generate_samples_and_parameters(\\n    n_honey_pots, m_solo_weighings, n_samples, sigma, gamma\\n):\\n    true_parameters = []\\n    estimated_parameters = []\\n\\n    for _ in range(n_samples):\\n        second_Y, params = second_generate_weight_samples(\\n            n_honey_pots, m_solo_weighings, sigma, gamma\\n        )\\n        estimated_params = second_estimate_parameters(second_Y)\\n        true_parameters.append(params)\\n        estimated_parameters.append(estimated_params)\\n\\n    return true_parameters, estimated_parameters\";\n",
       "                var nbb_cells = Jupyter.notebook.get_cells();\n",
       "                for (var i = 0; i < nbb_cells.length; ++i) {\n",
       "                    if (nbb_cells[i].input_prompt_number == nbb_cell_id) {\n",
       "                        if (nbb_cells[i].get_text() == nbb_unformatted_code) {\n",
       "                             nbb_cells[i].set_text(nbb_formatted_code);\n",
       "                        }\n",
       "                        break;\n",
       "                    }\n",
       "                }\n",
       "            }, 500);\n",
       "            "
      ],
      "text/plain": [
       "<IPython.core.display.Javascript object>"
      ]
     },
     "metadata": {},
     "output_type": "display_data"
    }
   ],
   "source": [
    "def second_generate_weight_samples(n, m, sigma, gamma):\n",
    "    incorrect_honey_pot = np.random.choice(n)\n",
    "    incorrect_honey_pot_weight = np.random.normal(1, gamma)\n",
    "\n",
    "    parameters = Parameters(\n",
    "        incorrect_honey_pot=incorrect_honey_pot,\n",
    "        incorrect_honey_pot_weight=incorrect_honey_pot_weight,\n",
    "        sigma=sigma,\n",
    "        gamma=gamma,\n",
    "    )\n",
    "\n",
    "    true_weights = np.ones(n)\n",
    "    true_weights[incorrect_honey_pot] = incorrect_honey_pot_weight\n",
    "\n",
    "    second_Y = np.repeat(true_weights.reshape(1, -1), repeats=m, axis=0)\n",
    "    second_Y += np.random.normal(0, sigma, size=(m, n))\n",
    "\n",
    "    return second_Y, parameters\n",
    "\n",
    "\n",
    "def second_estimate_incorrect_honey_pot_weight(second_Y, incorrect_honey_pot):\n",
    "    return second_Y[:, incorrect_honey_pot].mean()\n",
    "\n",
    "\n",
    "def second_estimate_scale_error_std(second_Y, incorrect_honey_pot):\n",
    "    w = second_estimate_incorrect_honey_pot_weight(second_Y, incorrect_honey_pot)\n",
    "    n = second_Y.shape[1]\n",
    "    g = np.ones(n)\n",
    "    g[incorrect_honey_pot] = w\n",
    "\n",
    "    sigma = np.mean((second_Y - g) ** 2) ** (1 / 2)\n",
    "    return sigma\n",
    "\n",
    "\n",
    "def second_estimate_incorrect_honey_pot(second_Y):\n",
    "    n = second_Y.shape[1]\n",
    "    sigmas = [second_estimate_scale_error_std(second_Y, i) for i in range(n)]\n",
    "    return np.argmin(sigmas)\n",
    "\n",
    "\n",
    "def second_estimate_parameters(second_Y):\n",
    "    incorrect_honey_pot = second_estimate_incorrect_honey_pot(second_Y)\n",
    "    incorrect_honey_pot_weight = second_estimate_incorrect_honey_pot_weight(\n",
    "        second_Y, incorrect_honey_pot\n",
    "    )\n",
    "    return Parameters(\n",
    "        incorrect_honey_pot=incorrect_honey_pot,\n",
    "        incorrect_honey_pot_weight=incorrect_honey_pot_weight,\n",
    "        sigma=second_estimate_scale_error_std(second_Y, incorrect_honey_pot),\n",
    "        gamma=np.abs(incorrect_honey_pot_weight - 1),\n",
    "    )\n",
    "\n",
    "\n",
    "def second_generate_samples_and_parameters(\n",
    "    n_honey_pots, m_solo_weighings, n_samples, sigma, gamma\n",
    "):\n",
    "    true_parameters = []\n",
    "    estimated_parameters = []\n",
    "\n",
    "    for _ in range(n_samples):\n",
    "        second_Y, params = second_generate_weight_samples(\n",
    "            n_honey_pots, m_solo_weighings, sigma, gamma\n",
    "        )\n",
    "        estimated_params = second_estimate_parameters(second_Y)\n",
    "        true_parameters.append(params)\n",
    "        estimated_parameters.append(estimated_params)\n",
    "\n",
    "    return true_parameters, estimated_parameters"
   ]
  },
  {
   "cell_type": "code",
   "execution_count": 749,
   "id": "449b84a6",
   "metadata": {},
   "outputs": [
    {
     "data": {
      "application/javascript": [
       "\n",
       "            setTimeout(function() {\n",
       "                var nbb_cell_id = 749;\n",
       "                var nbb_unformatted_code = \"(\\n    second_true_generated_parameters,\\n    second_estimated_generated_parameters,\\n) = second_generate_samples_and_parameters(\\n    n_honey_pots=5,\\n    m_solo_weighings=3,\\n    n_samples=n_samples,\\n    sigma=estimated_parameters.sigma,\\n    gamma=estimated_parameters.gamma,\\n)\";\n",
       "                var nbb_formatted_code = \"(\\n    second_true_generated_parameters,\\n    second_estimated_generated_parameters,\\n) = second_generate_samples_and_parameters(\\n    n_honey_pots=5,\\n    m_solo_weighings=3,\\n    n_samples=n_samples,\\n    sigma=estimated_parameters.sigma,\\n    gamma=estimated_parameters.gamma,\\n)\";\n",
       "                var nbb_cells = Jupyter.notebook.get_cells();\n",
       "                for (var i = 0; i < nbb_cells.length; ++i) {\n",
       "                    if (nbb_cells[i].input_prompt_number == nbb_cell_id) {\n",
       "                        if (nbb_cells[i].get_text() == nbb_unformatted_code) {\n",
       "                             nbb_cells[i].set_text(nbb_formatted_code);\n",
       "                        }\n",
       "                        break;\n",
       "                    }\n",
       "                }\n",
       "            }, 500);\n",
       "            "
      ],
      "text/plain": [
       "<IPython.core.display.Javascript object>"
      ]
     },
     "metadata": {},
     "output_type": "display_data"
    }
   ],
   "source": [
    "(\n",
    "    second_true_generated_parameters,\n",
    "    second_estimated_generated_parameters,\n",
    ") = second_generate_samples_and_parameters(\n",
    "    n_honey_pots=5,\n",
    "    m_solo_weighings=3,\n",
    "    n_samples=n_samples,\n",
    "    sigma=estimated_parameters.sigma,\n",
    "    gamma=estimated_parameters.gamma,\n",
    ")"
   ]
  },
  {
   "cell_type": "code",
   "execution_count": null,
   "id": "2a467b5b",
   "metadata": {},
   "outputs": [],
   "source": [
    "second_accuracy = np.mean(\n",
    "    [\n",
    "        tgp.incorrect_honey_pot == egp.incorrect_honey_pot\n",
    "        for tgp, egp in zip(\n",
    "            second_true_generated_parameters, second_estimated_generated_parameters\n",
    "        )\n",
    "    ]\n",
    ")\n",
    "second_predicted_weight_variance = np.var(\n",
    "    [egp.incorrect_honey_pot_weight for egp in second_estimated_generated_parameters]\n",
    ")"
   ]
  },
  {
   "cell_type": "code",
   "execution_count": 773,
   "id": "484aa929",
   "metadata": {},
   "outputs": [
    {
     "data": {
      "text/html": [
       "<div>\n",
       "<style scoped>\n",
       "    .dataframe tbody tr th:only-of-type {\n",
       "        vertical-align: middle;\n",
       "    }\n",
       "\n",
       "    .dataframe tbody tr th {\n",
       "        vertical-align: top;\n",
       "    }\n",
       "\n",
       "    .dataframe thead th {\n",
       "        text-align: right;\n",
       "    }\n",
       "</style>\n",
       "<table border=\"1\" class=\"dataframe\">\n",
       "  <thead>\n",
       "    <tr style=\"text-align: right;\">\n",
       "      <th></th>\n",
       "      <th>accuracy</th>\n",
       "      <th>predicted_weight_variance</th>\n",
       "    </tr>\n",
       "  </thead>\n",
       "  <tbody>\n",
       "    <tr>\n",
       "      <th>First design</th>\n",
       "      <td>0.623953</td>\n",
       "      <td>0.001920</td>\n",
       "    </tr>\n",
       "    <tr>\n",
       "      <th>Second design</th>\n",
       "      <td>0.562662</td>\n",
       "      <td>0.002325</td>\n",
       "    </tr>\n",
       "  </tbody>\n",
       "</table>\n",
       "</div>"
      ],
      "text/plain": [
       "               accuracy  predicted_weight_variance\n",
       "First design   0.623953                   0.001920\n",
       "Second design  0.562662                   0.002325"
      ]
     },
     "execution_count": 773,
     "metadata": {},
     "output_type": "execute_result"
    },
    {
     "data": {
      "application/javascript": [
       "\n",
       "            setTimeout(function() {\n",
       "                var nbb_cell_id = 773;\n",
       "                var nbb_unformatted_code = \"pd.DataFrame(\\n    index=[\\\"First design\\\", \\\"Second design\\\"],\\ndata=dict(\\n        accuracy=[accuracy, second_accuracy],\\n        predicted_weight_variance=[\\n            predicted_weight_variance,\\n            second_predicted_weight_variance,\\n        ],\\n    ),\\n)\";\n",
       "                var nbb_formatted_code = \"pd.DataFrame(\\n    index=[\\\"First design\\\", \\\"Second design\\\"],\\n    data=dict(\\n        accuracy=[accuracy, second_accuracy],\\n        predicted_weight_variance=[\\n            predicted_weight_variance,\\n            second_predicted_weight_variance,\\n        ],\\n    ),\\n)\";\n",
       "                var nbb_cells = Jupyter.notebook.get_cells();\n",
       "                for (var i = 0; i < nbb_cells.length; ++i) {\n",
       "                    if (nbb_cells[i].input_prompt_number == nbb_cell_id) {\n",
       "                        if (nbb_cells[i].get_text() == nbb_unformatted_code) {\n",
       "                             nbb_cells[i].set_text(nbb_formatted_code);\n",
       "                        }\n",
       "                        break;\n",
       "                    }\n",
       "                }\n",
       "            }, 500);\n",
       "            "
      ],
      "text/plain": [
       "<IPython.core.display.Javascript object>"
      ]
     },
     "metadata": {},
     "output_type": "display_data"
    }
   ],
   "source": [
    "pd.DataFrame(\n",
    "    index=[\"First design\", \"Second design\"],\n",
    "    data=dict(\n",
    "        accuracy=[accuracy, second_accuracy],\n",
    "        predicted_weight_variance=[\n",
    "            predicted_weight_variance,\n",
    "            second_predicted_weight_variance,\n",
    "        ],\n",
    "    ),\n",
    ")"
   ]
  },
  {
   "cell_type": "markdown",
   "id": "62618a67",
   "metadata": {},
   "source": [
    "В данном случае получаем, что первый дизайн дает и бóльшую точность, и меньшую дисперсию предсказанного веса."
   ]
  },
  {
   "cell_type": "markdown",
   "id": "dccd5b5c",
   "metadata": {},
   "source": [
    "### Задача 10\n",
    "Скачайте данные `data.csv`, содержащие 12 столбцов независимых переменных и 1 столбец с зависимой переменной. Первые 250 строк отведите под обучение, а оставшиеся 1250 под тест (да, под обучение отводим сильно меньше).\n",
    "\n",
    "1. Обучите простую линейную регрессию по обучающей выборке. Примените модель к тестовой выборке и найдите MSE.\n",
    "2. По обучающей выборке оцените наилучший набор признаков, описывающих выходную переменную. Используйте для этого статистику Cp Mallow, AIC-критерий, BIC-критерий, LOO-проверку. Выбор подмножества признаков проведите полным перебором. Позволяет ли какой-нибудь набор признаков получить значение MSE на тестовых данных меньше, чем на всех признаках?\n",
    "\t\n",
    "_Внимание. В ответе должно быть понятно, какой набор признаков был выбран согласно каждому из критериев._\n",
    "\n",
    "---"
   ]
  },
  {
   "cell_type": "code",
   "execution_count": 952,
   "id": "8108a064",
   "metadata": {},
   "outputs": [
    {
     "data": {
      "application/javascript": [
       "\n",
       "            setTimeout(function() {\n",
       "                var nbb_cell_id = 952;\n",
       "                var nbb_unformatted_code = \"data = pd.read_csv(\\\"data/data.csv\\\", index_col=0)\\ndata_train = data[:250]\\ndata_test = data[250:]\";\n",
       "                var nbb_formatted_code = \"data = pd.read_csv(\\\"data/data.csv\\\", index_col=0)\\ndata_train = data[:250]\\ndata_test = data[250:]\";\n",
       "                var nbb_cells = Jupyter.notebook.get_cells();\n",
       "                for (var i = 0; i < nbb_cells.length; ++i) {\n",
       "                    if (nbb_cells[i].input_prompt_number == nbb_cell_id) {\n",
       "                        if (nbb_cells[i].get_text() == nbb_unformatted_code) {\n",
       "                             nbb_cells[i].set_text(nbb_formatted_code);\n",
       "                        }\n",
       "                        break;\n",
       "                    }\n",
       "                }\n",
       "            }, 500);\n",
       "            "
      ],
      "text/plain": [
       "<IPython.core.display.Javascript object>"
      ]
     },
     "metadata": {},
     "output_type": "display_data"
    }
   ],
   "source": [
    "data = pd.read_csv(\"data/data.csv\", index_col=0)\n",
    "data_train = data[:250]\n",
    "data_test = data[250:]"
   ]
  },
  {
   "cell_type": "code",
   "execution_count": 953,
   "id": "4037b23c",
   "metadata": {},
   "outputs": [
    {
     "data": {
      "application/javascript": [
       "\n",
       "            setTimeout(function() {\n",
       "                var nbb_cell_id = 953;\n",
       "                var nbb_unformatted_code = \"def extract_X_y(data, use_feature: np.ndarray[bool] or None = None):\\n    y = data[\\\"y\\\"].values\\n    X = data.drop(\\\"y\\\", axis=\\\"columns\\\").values\\n    if use_feature is not None:\\n        X = X[:, use_feature]\\n    return X, y\\n\\n\\ndef compute_linear_regression_predictions(\\n    data_train, data_test, use_feature: np.ndarray[bool]\\n):\\n    X_train, y_train = extract_X_y(data_train, use_feature)\\n    model = sm.OLS(y_train, X_train).fit()\\n    #     model = sklearn.linear_model.LinearRegression()\\n    #     model.fit(X_train, y_train)\\n\\n    X_test, y_test = extract_X_y(data_test, use_feature)\\n    y_pred = model.predict(X_test)\\n    return y_pred\\n\\n\\ndef compute_test_mse(data_train, data_test, use_feature: np.ndarray[bool]) -> float:\\n    _, y_test = extract_X_y(data_test, use_feature)\\n    y_pred = compute_linear_regression_predictions(data_train, data_test, use_feature)\\n    mse = sklearn.metrics.mean_squared_error(y_test, y_pred)\\n    return mse\\n\\n\\ndef compute_all_features_mse(data_train, data_test):\\n    return compute_test_mse(\\n        data_train=data_train,\\n        data_test=data_test,\\n        use_feature=np.ones(data.shape[1] - 1, dtype=bool),\\n    )\";\n",
       "                var nbb_formatted_code = \"def extract_X_y(data, use_feature: np.ndarray[bool] or None = None):\\n    y = data[\\\"y\\\"].values\\n    X = data.drop(\\\"y\\\", axis=\\\"columns\\\").values\\n    if use_feature is not None:\\n        X = X[:, use_feature]\\n    return X, y\\n\\n\\ndef compute_linear_regression_predictions(\\n    data_train, data_test, use_feature: np.ndarray[bool]\\n):\\n    X_train, y_train = extract_X_y(data_train, use_feature)\\n    model = sm.OLS(y_train, X_train).fit()\\n    #     model = sklearn.linear_model.LinearRegression()\\n    #     model.fit(X_train, y_train)\\n\\n    X_test, y_test = extract_X_y(data_test, use_feature)\\n    y_pred = model.predict(X_test)\\n    return y_pred\\n\\n\\ndef compute_test_mse(data_train, data_test, use_feature: np.ndarray[bool]) -> float:\\n    _, y_test = extract_X_y(data_test, use_feature)\\n    y_pred = compute_linear_regression_predictions(data_train, data_test, use_feature)\\n    mse = sklearn.metrics.mean_squared_error(y_test, y_pred)\\n    return mse\\n\\n\\ndef compute_all_features_mse(data_train, data_test):\\n    return compute_test_mse(\\n        data_train=data_train,\\n        data_test=data_test,\\n        use_feature=np.ones(data.shape[1] - 1, dtype=bool),\\n    )\";\n",
       "                var nbb_cells = Jupyter.notebook.get_cells();\n",
       "                for (var i = 0; i < nbb_cells.length; ++i) {\n",
       "                    if (nbb_cells[i].input_prompt_number == nbb_cell_id) {\n",
       "                        if (nbb_cells[i].get_text() == nbb_unformatted_code) {\n",
       "                             nbb_cells[i].set_text(nbb_formatted_code);\n",
       "                        }\n",
       "                        break;\n",
       "                    }\n",
       "                }\n",
       "            }, 500);\n",
       "            "
      ],
      "text/plain": [
       "<IPython.core.display.Javascript object>"
      ]
     },
     "metadata": {},
     "output_type": "display_data"
    }
   ],
   "source": [
    "def extract_X_y(data, use_feature: np.ndarray[bool] or None = None):\n",
    "    y = data[\"y\"].values\n",
    "    X = data.drop(\"y\", axis=\"columns\").values\n",
    "    if use_feature is not None:\n",
    "        X = X[:, use_feature]\n",
    "    return X, y\n",
    "\n",
    "\n",
    "def compute_linear_regression_predictions(\n",
    "    data_train, data_test, use_feature: np.ndarray[bool]\n",
    "):\n",
    "    X_train, y_train = extract_X_y(data_train, use_feature)\n",
    "    model = sm.OLS(y_train, X_train).fit()\n",
    "\n",
    "    X_test, y_test = extract_X_y(data_test, use_feature)\n",
    "    y_pred = model.predict(X_test)\n",
    "    return y_pred\n",
    "\n",
    "\n",
    "def compute_test_mse(data_train, data_test, use_feature: np.ndarray[bool]) -> float:\n",
    "    _, y_test = extract_X_y(data_test, use_feature)\n",
    "    y_pred = compute_linear_regression_predictions(data_train, data_test, use_feature)\n",
    "    mse = sklearn.metrics.mean_squared_error(y_test, y_pred)\n",
    "    return mse\n",
    "\n",
    "\n",
    "def compute_all_features_mse(data_train, data_test):\n",
    "    return compute_test_mse(\n",
    "        data_train=data_train,\n",
    "        data_test=data_test,\n",
    "        use_feature=np.ones(data.shape[1] - 1, dtype=bool),\n",
    "    )"
   ]
  },
  {
   "cell_type": "code",
   "execution_count": 972,
   "id": "7c66b63b",
   "metadata": {},
   "outputs": [
    {
     "data": {
      "application/javascript": [
       "\n",
       "            setTimeout(function() {\n",
       "                var nbb_cell_id = 972;\n",
       "                var nbb_unformatted_code = \"mse_scores = pd.DataFrame(columns=list(data.columns[:-1]) + [\\\"mse\\\"])\\nmse_scores.index = mse_scores.index.rename(\\\"filter criterion\\\")\\nmse_scores.columns = mse_scores.columns.rename(\\\"features used\\\")\";\n",
       "                var nbb_formatted_code = \"mse_scores = pd.DataFrame(columns=list(data.columns[:-1]) + [\\\"mse\\\"])\\nmse_scores.index = mse_scores.index.rename(\\\"filter criterion\\\")\\nmse_scores.columns = mse_scores.columns.rename(\\\"features used\\\")\";\n",
       "                var nbb_cells = Jupyter.notebook.get_cells();\n",
       "                for (var i = 0; i < nbb_cells.length; ++i) {\n",
       "                    if (nbb_cells[i].input_prompt_number == nbb_cell_id) {\n",
       "                        if (nbb_cells[i].get_text() == nbb_unformatted_code) {\n",
       "                             nbb_cells[i].set_text(nbb_formatted_code);\n",
       "                        }\n",
       "                        break;\n",
       "                    }\n",
       "                }\n",
       "            }, 500);\n",
       "            "
      ],
      "text/plain": [
       "<IPython.core.display.Javascript object>"
      ]
     },
     "metadata": {},
     "output_type": "display_data"
    }
   ],
   "source": [
    "mse_scores = pd.DataFrame(columns=list(data.columns[:-1]) + [\"mse\"])\n",
    "mse_scores.index = mse_scores.index.rename(\"filter criterion\")\n",
    "mse_scores.columns = mse_scores.columns.rename(\"features used\")"
   ]
  },
  {
   "cell_type": "code",
   "execution_count": 973,
   "id": "49dd9a06",
   "metadata": {},
   "outputs": [
    {
     "data": {
      "application/javascript": [
       "\n",
       "            setTimeout(function() {\n",
       "                var nbb_cell_id = 973;\n",
       "                var nbb_unformatted_code = \"def append_row_to_mse_scores(\\n    mse_scores,\\n    data_train,\\n    data_test,\\n    filter_criterion: str,\\n    use_feature: np.ndarray[bool],\\n):\\n    mse = compute_test_mse(data_train, data_test, use_feature)\\n    mse_scores.loc[filter_criterion] = list(use_feature) + [mse]\\n    return mse_scores\";\n",
       "                var nbb_formatted_code = \"def append_row_to_mse_scores(\\n    mse_scores,\\n    data_train,\\n    data_test,\\n    filter_criterion: str,\\n    use_feature: np.ndarray[bool],\\n):\\n    mse = compute_test_mse(data_train, data_test, use_feature)\\n    mse_scores.loc[filter_criterion] = list(use_feature) + [mse]\\n    return mse_scores\";\n",
       "                var nbb_cells = Jupyter.notebook.get_cells();\n",
       "                for (var i = 0; i < nbb_cells.length; ++i) {\n",
       "                    if (nbb_cells[i].input_prompt_number == nbb_cell_id) {\n",
       "                        if (nbb_cells[i].get_text() == nbb_unformatted_code) {\n",
       "                             nbb_cells[i].set_text(nbb_formatted_code);\n",
       "                        }\n",
       "                        break;\n",
       "                    }\n",
       "                }\n",
       "            }, 500);\n",
       "            "
      ],
      "text/plain": [
       "<IPython.core.display.Javascript object>"
      ]
     },
     "metadata": {},
     "output_type": "display_data"
    }
   ],
   "source": [
    "def append_row_to_mse_scores(\n",
    "    mse_scores,\n",
    "    data_train,\n",
    "    data_test,\n",
    "    filter_criterion: str,\n",
    "    use_feature: np.ndarray[bool],\n",
    "):\n",
    "    mse = compute_test_mse(data_train, data_test, use_feature)\n",
    "    mse_scores.loc[filter_criterion] = list(use_feature) + [mse]\n",
    "    return mse_scores"
   ]
  },
  {
   "cell_type": "code",
   "execution_count": 974,
   "id": "34d8ab3e",
   "metadata": {},
   "outputs": [
    {
     "data": {
      "text/html": [
       "<div>\n",
       "<style scoped>\n",
       "    .dataframe tbody tr th:only-of-type {\n",
       "        vertical-align: middle;\n",
       "    }\n",
       "\n",
       "    .dataframe tbody tr th {\n",
       "        vertical-align: top;\n",
       "    }\n",
       "\n",
       "    .dataframe thead th {\n",
       "        text-align: right;\n",
       "    }\n",
       "</style>\n",
       "<table border=\"1\" class=\"dataframe\">\n",
       "  <thead>\n",
       "    <tr style=\"text-align: right;\">\n",
       "      <th>features used</th>\n",
       "      <th>f_0</th>\n",
       "      <th>f_1</th>\n",
       "      <th>f_2</th>\n",
       "      <th>f_3</th>\n",
       "      <th>f_4</th>\n",
       "      <th>f_5</th>\n",
       "      <th>f_6</th>\n",
       "      <th>f_7</th>\n",
       "      <th>f_8</th>\n",
       "      <th>f_9</th>\n",
       "      <th>f_10</th>\n",
       "      <th>f_11</th>\n",
       "      <th>mse</th>\n",
       "    </tr>\n",
       "    <tr>\n",
       "      <th>filter criterion</th>\n",
       "      <th></th>\n",
       "      <th></th>\n",
       "      <th></th>\n",
       "      <th></th>\n",
       "      <th></th>\n",
       "      <th></th>\n",
       "      <th></th>\n",
       "      <th></th>\n",
       "      <th></th>\n",
       "      <th></th>\n",
       "      <th></th>\n",
       "      <th></th>\n",
       "      <th></th>\n",
       "    </tr>\n",
       "  </thead>\n",
       "  <tbody>\n",
       "    <tr>\n",
       "      <th>all features</th>\n",
       "      <td>True</td>\n",
       "      <td>True</td>\n",
       "      <td>True</td>\n",
       "      <td>True</td>\n",
       "      <td>True</td>\n",
       "      <td>True</td>\n",
       "      <td>True</td>\n",
       "      <td>True</td>\n",
       "      <td>True</td>\n",
       "      <td>True</td>\n",
       "      <td>True</td>\n",
       "      <td>True</td>\n",
       "      <td>10.129273</td>\n",
       "    </tr>\n",
       "  </tbody>\n",
       "</table>\n",
       "</div>"
      ],
      "text/plain": [
       "features used      f_0   f_1   f_2   f_3   f_4   f_5   f_6   f_7   f_8   f_9  \\\n",
       "filter criterion                                                               \n",
       "all features      True  True  True  True  True  True  True  True  True  True   \n",
       "\n",
       "features used     f_10  f_11        mse  \n",
       "filter criterion                         \n",
       "all features      True  True  10.129273  "
      ]
     },
     "execution_count": 974,
     "metadata": {},
     "output_type": "execute_result"
    },
    {
     "data": {
      "application/javascript": [
       "\n",
       "            setTimeout(function() {\n",
       "                var nbb_cell_id = 974;\n",
       "                var nbb_unformatted_code = \"append_row_to_mse_scores(\\n    mse_scores,\\n    data_train,\\n    data_test,\\n    filter_criterion=\\\"all features\\\",\\n    use_feature=np.ones(data.shape[1] - 1, dtype=bool),\\n)\";\n",
       "                var nbb_formatted_code = \"append_row_to_mse_scores(\\n    mse_scores,\\n    data_train,\\n    data_test,\\n    filter_criterion=\\\"all features\\\",\\n    use_feature=np.ones(data.shape[1] - 1, dtype=bool),\\n)\";\n",
       "                var nbb_cells = Jupyter.notebook.get_cells();\n",
       "                for (var i = 0; i < nbb_cells.length; ++i) {\n",
       "                    if (nbb_cells[i].input_prompt_number == nbb_cell_id) {\n",
       "                        if (nbb_cells[i].get_text() == nbb_unformatted_code) {\n",
       "                             nbb_cells[i].set_text(nbb_formatted_code);\n",
       "                        }\n",
       "                        break;\n",
       "                    }\n",
       "                }\n",
       "            }, 500);\n",
       "            "
      ],
      "text/plain": [
       "<IPython.core.display.Javascript object>"
      ]
     },
     "metadata": {},
     "output_type": "display_data"
    }
   ],
   "source": [
    "append_row_to_mse_scores(\n",
    "    mse_scores,\n",
    "    data_train,\n",
    "    data_test,\n",
    "    filter_criterion=\"all features\",\n",
    "    use_feature=np.ones(data.shape[1] - 1, dtype=bool),\n",
    ")"
   ]
  },
  {
   "cell_type": "code",
   "execution_count": 975,
   "id": "867da42f",
   "metadata": {},
   "outputs": [
    {
     "data": {
      "application/javascript": [
       "\n",
       "            setTimeout(function() {\n",
       "                var nbb_cell_id = 975;\n",
       "                var nbb_unformatted_code = \"def all_feature_subsets_iterator(size):\\n    for n in range(1 << size):\\n        yield np.array([i == \\\"1\\\" for i in f\\\"{n:0{size}b}\\\"])\\n\\n\\ndef find_best_features_subset_according_to_min_criterion(data, compute_criterion):\\n    min_criterion = np.inf\\n    min_criterion_use_feature = None\\n\\n    for use_feature in tqdm.auto.tqdm(all_feature_subsets_iterator(data.shape[1] - 1)):\\n        if any(use_feature):\\n            criterion = compute_criterion(data, use_feature)\\n\\n            if criterion < min_criterion:\\n                min_criterion = criterion\\n                min_criterion_use_feature = use_feature\\n\\n    return min_criterion_use_feature\";\n",
       "                var nbb_formatted_code = \"def all_feature_subsets_iterator(size):\\n    for n in range(1 << size):\\n        yield np.array([i == \\\"1\\\" for i in f\\\"{n:0{size}b}\\\"])\\n\\n\\ndef find_best_features_subset_according_to_min_criterion(data, compute_criterion):\\n    min_criterion = np.inf\\n    min_criterion_use_feature = None\\n\\n    for use_feature in tqdm.auto.tqdm(all_feature_subsets_iterator(data.shape[1] - 1)):\\n        if any(use_feature):\\n            criterion = compute_criterion(data, use_feature)\\n\\n            if criterion < min_criterion:\\n                min_criterion = criterion\\n                min_criterion_use_feature = use_feature\\n\\n    return min_criterion_use_feature\";\n",
       "                var nbb_cells = Jupyter.notebook.get_cells();\n",
       "                for (var i = 0; i < nbb_cells.length; ++i) {\n",
       "                    if (nbb_cells[i].input_prompt_number == nbb_cell_id) {\n",
       "                        if (nbb_cells[i].get_text() == nbb_unformatted_code) {\n",
       "                             nbb_cells[i].set_text(nbb_formatted_code);\n",
       "                        }\n",
       "                        break;\n",
       "                    }\n",
       "                }\n",
       "            }, 500);\n",
       "            "
      ],
      "text/plain": [
       "<IPython.core.display.Javascript object>"
      ]
     },
     "metadata": {},
     "output_type": "display_data"
    }
   ],
   "source": [
    "def all_feature_subsets_iterator(size):\n",
    "    for n in range(1 << size):\n",
    "        yield np.array([i == \"1\" for i in f\"{n:0{size}b}\"])\n",
    "\n",
    "\n",
    "def find_best_features_subset_according_to_min_criterion(data, compute_criterion):\n",
    "    min_criterion = np.inf\n",
    "    min_criterion_use_feature = None\n",
    "\n",
    "    for use_feature in tqdm.auto.tqdm(all_feature_subsets_iterator(data.shape[1] - 1)):\n",
    "        if any(use_feature):\n",
    "            criterion = compute_criterion(data, use_feature)\n",
    "\n",
    "            if criterion < min_criterion:\n",
    "                min_criterion = criterion\n",
    "                min_criterion_use_feature = use_feature\n",
    "\n",
    "    return min_criterion_use_feature"
   ]
  },
  {
   "cell_type": "code",
   "execution_count": 970,
   "id": "0caf59bd",
   "metadata": {},
   "outputs": [
    {
     "data": {
      "application/javascript": [
       "\n",
       "            setTimeout(function() {\n",
       "                var nbb_cell_id = 970;\n",
       "                var nbb_unformatted_code = \"def compute_mallows_cp(y_true, y_pred, n_predictors, all_predictors_mse):\\n    sse = np.sum((y_true - y_pred) ** 2)\\n    n = len(y_true)\\n    all_predictors_variance = all_predictors_mse * n / (n - n_predictors)\\n    return sse / all_predictors_variance - n + 2 * (n_predictors + 1)\\n\\n\\ndef compute_mallows_cp_from_data(data, use_feature):\\n    _, y_true = extract_X_y(data)\\n    all_predictors_mse = compute_all_features_mse(data, data)\\n    n_predictors = sum(use_feature)\\n    y_pred = compute_linear_regression_predictions(data, data, use_feature)\\n    mallows_cp = compute_mallows_cp(\\n        y_true=y_true,\\n        y_pred=y_pred,\\n        n_predictors=n_predictors,\\n        all_predictors_mse=all_predictors_mse,\\n    )\\n    return mallows_cp\";\n",
       "                var nbb_formatted_code = \"def compute_mallows_cp(y_true, y_pred, n_predictors, all_predictors_mse):\\n    sse = np.sum((y_true - y_pred) ** 2)\\n    n = len(y_true)\\n    all_predictors_variance = all_predictors_mse * n / (n - n_predictors)\\n    return sse / all_predictors_variance - n + 2 * (n_predictors + 1)\\n\\n\\ndef compute_mallows_cp_from_data(data, use_feature):\\n    _, y_true = extract_X_y(data)\\n    all_predictors_mse = compute_all_features_mse(data, data)\\n    n_predictors = sum(use_feature)\\n    y_pred = compute_linear_regression_predictions(data, data, use_feature)\\n    mallows_cp = compute_mallows_cp(\\n        y_true=y_true,\\n        y_pred=y_pred,\\n        n_predictors=n_predictors,\\n        all_predictors_mse=all_predictors_mse,\\n    )\\n    return mallows_cp\";\n",
       "                var nbb_cells = Jupyter.notebook.get_cells();\n",
       "                for (var i = 0; i < nbb_cells.length; ++i) {\n",
       "                    if (nbb_cells[i].input_prompt_number == nbb_cell_id) {\n",
       "                        if (nbb_cells[i].get_text() == nbb_unformatted_code) {\n",
       "                             nbb_cells[i].set_text(nbb_formatted_code);\n",
       "                        }\n",
       "                        break;\n",
       "                    }\n",
       "                }\n",
       "            }, 500);\n",
       "            "
      ],
      "text/plain": [
       "<IPython.core.display.Javascript object>"
      ]
     },
     "metadata": {},
     "output_type": "display_data"
    }
   ],
   "source": [
    "def compute_mallows_cp(y_true, y_pred, n_predictors, all_predictors_mse):\n",
    "    sse = np.sum((y_true - y_pred) ** 2)\n",
    "    n = len(y_true)\n",
    "    all_predictors_variance = all_predictors_mse * n / (n - n_predictors)\n",
    "    return sse / all_predictors_variance - n + 2 * (n_predictors + 1)\n",
    "\n",
    "\n",
    "def compute_mallows_cp_from_data(data, use_feature):\n",
    "    _, y_true = extract_X_y(data)\n",
    "    all_predictors_mse = compute_all_features_mse(data, data)\n",
    "    n_predictors = sum(use_feature)\n",
    "    y_pred = compute_linear_regression_predictions(data, data, use_feature)\n",
    "    mallows_cp = compute_mallows_cp(\n",
    "        y_true=y_true,\n",
    "        y_pred=y_pred,\n",
    "        n_predictors=n_predictors,\n",
    "        all_predictors_mse=all_predictors_mse,\n",
    "    )\n",
    "    return mallows_cp\n",
    "\n",
    "def compute_aic_from_data(data, use_feature):\n",
    "    X, y = extract_X_y(data, use_feature)\n",
    "    model = sm.OLS(y, X).fit()\n",
    "    aic = model.aic\n",
    "    return aic\n",
    "\n",
    "\n",
    "def compute_bic_from_data(data, use_feature):\n",
    "    X, y = extract_X_y(data, use_feature)\n",
    "    model = sm.OLS(y, X).fit()\n",
    "    bic = model.bic\n",
    "    return bic\n",
    "\n",
    "def compute_loo_criterion(X, y):\n",
    "    model = sm.OLS(y, X).fit()\n",
    "    y_pred = model.predict(X)\n",
    "    u = X @ np.linalg.inv(X.T @ X) @ X.T\n",
    "    u_diag = np.diag(u)\n",
    "    loo_criterion = np.sum(((y - y_pred) / (1 - u_diag)) ** 2)\n",
    "    return loo_criterion\n",
    "    \n",
    "def compute_loo_criterion_from_data(data, use_feature):\n",
    "    X, y = extract_X_y(data, use_feature)\n",
    "    loo_criterion = compute_loo_criterion(X=X, y=y)\n",
    "    return loo_criterion"
   ]
  },
  {
   "cell_type": "code",
   "execution_count": 989,
   "id": "34805926",
   "metadata": {},
   "outputs": [
    {
     "data": {
      "application/vnd.jupyter.widget-view+json": {
       "model_id": "8a905d37e5b64e61b7ea61affd088776",
       "version_major": 2,
       "version_minor": 0
      },
      "text/plain": [
       "0it [00:00, ?it/s]"
      ]
     },
     "metadata": {},
     "output_type": "display_data"
    },
    {
     "data": {
      "application/vnd.jupyter.widget-view+json": {
       "model_id": "14cb59eb941f4a4c86d4990f7d6477be",
       "version_major": 2,
       "version_minor": 0
      },
      "text/plain": [
       "0it [00:00, ?it/s]"
      ]
     },
     "metadata": {},
     "output_type": "display_data"
    },
    {
     "data": {
      "application/vnd.jupyter.widget-view+json": {
       "model_id": "2c0e1a4d2d6246f996e45b489fe23c5a",
       "version_major": 2,
       "version_minor": 0
      },
      "text/plain": [
       "0it [00:00, ?it/s]"
      ]
     },
     "metadata": {},
     "output_type": "display_data"
    },
    {
     "data": {
      "application/vnd.jupyter.widget-view+json": {
       "model_id": "8b4c2dd90ef244f39ac3777bf600a16a",
       "version_major": 2,
       "version_minor": 0
      },
      "text/plain": [
       "0it [00:00, ?it/s]"
      ]
     },
     "metadata": {},
     "output_type": "display_data"
    },
    {
     "data": {
      "application/javascript": [
       "\n",
       "            setTimeout(function() {\n",
       "                var nbb_cell_id = 989;\n",
       "                var nbb_unformatted_code = \"criterions = {\\n    \\\"mallows cp\\\": compute_mallows_cp_from_data,\\n    \\\"aic\\\": compute_aic_from_data,\\n    \\\"bic\\\": compute_bic_from_data,\\n    \\\"loo\\\": compute_loo_criterion_from_data,\\n}\\nfor filter_criterion, compute_criterion in criterions.items():\\n    use_feature = find_best_features_subset_according_to_min_criterion(\\n        data=data_train, compute_criterion=compute_criterion\\n    )\\n    append_row_to_mse_scores(\\n        mse_scores=mse_scores,\\n        data_train=data_train,\\n        data_test=data_test,\\n        filter_criterion=filter_criterion,\\n        use_feature=use_feature,\\n    )\";\n",
       "                var nbb_formatted_code = \"criterions = {\\n    \\\"mallows cp\\\": compute_mallows_cp_from_data,\\n    \\\"aic\\\": compute_aic_from_data,\\n    \\\"bic\\\": compute_bic_from_data,\\n    \\\"loo\\\": compute_loo_criterion_from_data,\\n}\\nfor filter_criterion, compute_criterion in criterions.items():\\n    use_feature = find_best_features_subset_according_to_min_criterion(\\n        data=data_train, compute_criterion=compute_criterion\\n    )\\n    append_row_to_mse_scores(\\n        mse_scores=mse_scores,\\n        data_train=data_train,\\n        data_test=data_test,\\n        filter_criterion=filter_criterion,\\n        use_feature=use_feature,\\n    )\";\n",
       "                var nbb_cells = Jupyter.notebook.get_cells();\n",
       "                for (var i = 0; i < nbb_cells.length; ++i) {\n",
       "                    if (nbb_cells[i].input_prompt_number == nbb_cell_id) {\n",
       "                        if (nbb_cells[i].get_text() == nbb_unformatted_code) {\n",
       "                             nbb_cells[i].set_text(nbb_formatted_code);\n",
       "                        }\n",
       "                        break;\n",
       "                    }\n",
       "                }\n",
       "            }, 500);\n",
       "            "
      ],
      "text/plain": [
       "<IPython.core.display.Javascript object>"
      ]
     },
     "metadata": {},
     "output_type": "display_data"
    }
   ],
   "source": [
    "criterions = {\n",
    "    \"mallows cp\": compute_mallows_cp_from_data,\n",
    "    \"aic\": compute_aic_from_data,\n",
    "    \"bic\": compute_bic_from_data,\n",
    "    \"loo\": compute_loo_criterion_from_data,\n",
    "}\n",
    "\n",
    "for filter_criterion, compute_criterion in criterions.items():\n",
    "    use_feature = find_best_features_subset_according_to_min_criterion(\n",
    "        data=data_train, compute_criterion=compute_criterion\n",
    "    )\n",
    "    append_row_to_mse_scores(\n",
    "        mse_scores=mse_scores,\n",
    "        data_train=data_train,\n",
    "        data_test=data_test,\n",
    "        filter_criterion=filter_criterion,\n",
    "        use_feature=use_feature,\n",
    "    )"
   ]
  },
  {
   "cell_type": "code",
   "execution_count": 990,
   "id": "ba03bb00",
   "metadata": {},
   "outputs": [
    {
     "data": {
      "text/html": [
       "<style type=\"text/css\">\n",
       "#T_105c2_row0_col0, #T_105c2_row0_col7, #T_105c2_row0_col9, #T_105c2_row1_col0, #T_105c2_row1_col7, #T_105c2_row1_col9, #T_105c2_row2_col0, #T_105c2_row2_col1, #T_105c2_row2_col6, #T_105c2_row2_col7, #T_105c2_row2_col9, #T_105c2_row2_col10, #T_105c2_row3_col0, #T_105c2_row3_col1, #T_105c2_row3_col2, #T_105c2_row3_col3, #T_105c2_row3_col4, #T_105c2_row3_col5, #T_105c2_row3_col6, #T_105c2_row3_col7, #T_105c2_row3_col8, #T_105c2_row3_col9, #T_105c2_row3_col10, #T_105c2_row3_col11, #T_105c2_row4_col0 {\n",
       "  color: green;\n",
       "}\n",
       "#T_105c2_row0_col1, #T_105c2_row0_col2, #T_105c2_row0_col3, #T_105c2_row0_col4, #T_105c2_row0_col5, #T_105c2_row0_col6, #T_105c2_row0_col8, #T_105c2_row0_col10, #T_105c2_row0_col11, #T_105c2_row1_col1, #T_105c2_row1_col2, #T_105c2_row1_col3, #T_105c2_row1_col4, #T_105c2_row1_col5, #T_105c2_row1_col6, #T_105c2_row1_col8, #T_105c2_row1_col10, #T_105c2_row1_col11, #T_105c2_row2_col2, #T_105c2_row2_col3, #T_105c2_row2_col4, #T_105c2_row2_col5, #T_105c2_row2_col8, #T_105c2_row2_col11, #T_105c2_row4_col1, #T_105c2_row4_col2, #T_105c2_row4_col3, #T_105c2_row4_col4, #T_105c2_row4_col5, #T_105c2_row4_col6, #T_105c2_row4_col7, #T_105c2_row4_col8, #T_105c2_row4_col9, #T_105c2_row4_col10, #T_105c2_row4_col11 {\n",
       "  color: red;\n",
       "}\n",
       "</style>\n",
       "<table id=\"T_105c2\">\n",
       "  <thead>\n",
       "    <tr>\n",
       "      <th class=\"index_name level0\" >features used</th>\n",
       "      <th id=\"T_105c2_level0_col0\" class=\"col_heading level0 col0\" >f_0</th>\n",
       "      <th id=\"T_105c2_level0_col1\" class=\"col_heading level0 col1\" >f_1</th>\n",
       "      <th id=\"T_105c2_level0_col2\" class=\"col_heading level0 col2\" >f_2</th>\n",
       "      <th id=\"T_105c2_level0_col3\" class=\"col_heading level0 col3\" >f_3</th>\n",
       "      <th id=\"T_105c2_level0_col4\" class=\"col_heading level0 col4\" >f_4</th>\n",
       "      <th id=\"T_105c2_level0_col5\" class=\"col_heading level0 col5\" >f_5</th>\n",
       "      <th id=\"T_105c2_level0_col6\" class=\"col_heading level0 col6\" >f_6</th>\n",
       "      <th id=\"T_105c2_level0_col7\" class=\"col_heading level0 col7\" >f_7</th>\n",
       "      <th id=\"T_105c2_level0_col8\" class=\"col_heading level0 col8\" >f_8</th>\n",
       "      <th id=\"T_105c2_level0_col9\" class=\"col_heading level0 col9\" >f_9</th>\n",
       "      <th id=\"T_105c2_level0_col10\" class=\"col_heading level0 col10\" >f_10</th>\n",
       "      <th id=\"T_105c2_level0_col11\" class=\"col_heading level0 col11\" >f_11</th>\n",
       "      <th id=\"T_105c2_level0_col12\" class=\"col_heading level0 col12\" >mse</th>\n",
       "    </tr>\n",
       "    <tr>\n",
       "      <th class=\"index_name level0\" >filter criterion</th>\n",
       "      <th class=\"blank col0\" >&nbsp;</th>\n",
       "      <th class=\"blank col1\" >&nbsp;</th>\n",
       "      <th class=\"blank col2\" >&nbsp;</th>\n",
       "      <th class=\"blank col3\" >&nbsp;</th>\n",
       "      <th class=\"blank col4\" >&nbsp;</th>\n",
       "      <th class=\"blank col5\" >&nbsp;</th>\n",
       "      <th class=\"blank col6\" >&nbsp;</th>\n",
       "      <th class=\"blank col7\" >&nbsp;</th>\n",
       "      <th class=\"blank col8\" >&nbsp;</th>\n",
       "      <th class=\"blank col9\" >&nbsp;</th>\n",
       "      <th class=\"blank col10\" >&nbsp;</th>\n",
       "      <th class=\"blank col11\" >&nbsp;</th>\n",
       "      <th class=\"blank col12\" >&nbsp;</th>\n",
       "    </tr>\n",
       "  </thead>\n",
       "  <tbody>\n",
       "    <tr>\n",
       "      <th id=\"T_105c2_level0_row0\" class=\"row_heading level0 row0\" >aic</th>\n",
       "      <td id=\"T_105c2_row0_col0\" class=\"data row0 col0\" >True</td>\n",
       "      <td id=\"T_105c2_row0_col1\" class=\"data row0 col1\" >False</td>\n",
       "      <td id=\"T_105c2_row0_col2\" class=\"data row0 col2\" >False</td>\n",
       "      <td id=\"T_105c2_row0_col3\" class=\"data row0 col3\" >False</td>\n",
       "      <td id=\"T_105c2_row0_col4\" class=\"data row0 col4\" >False</td>\n",
       "      <td id=\"T_105c2_row0_col5\" class=\"data row0 col5\" >False</td>\n",
       "      <td id=\"T_105c2_row0_col6\" class=\"data row0 col6\" >False</td>\n",
       "      <td id=\"T_105c2_row0_col7\" class=\"data row0 col7\" >True</td>\n",
       "      <td id=\"T_105c2_row0_col8\" class=\"data row0 col8\" >False</td>\n",
       "      <td id=\"T_105c2_row0_col9\" class=\"data row0 col9\" >True</td>\n",
       "      <td id=\"T_105c2_row0_col10\" class=\"data row0 col10\" >False</td>\n",
       "      <td id=\"T_105c2_row0_col11\" class=\"data row0 col11\" >False</td>\n",
       "      <td id=\"T_105c2_row0_col12\" class=\"data row0 col12\" >10.002170</td>\n",
       "    </tr>\n",
       "    <tr>\n",
       "      <th id=\"T_105c2_level0_row1\" class=\"row_heading level0 row1\" >loo</th>\n",
       "      <td id=\"T_105c2_row1_col0\" class=\"data row1 col0\" >True</td>\n",
       "      <td id=\"T_105c2_row1_col1\" class=\"data row1 col1\" >False</td>\n",
       "      <td id=\"T_105c2_row1_col2\" class=\"data row1 col2\" >False</td>\n",
       "      <td id=\"T_105c2_row1_col3\" class=\"data row1 col3\" >False</td>\n",
       "      <td id=\"T_105c2_row1_col4\" class=\"data row1 col4\" >False</td>\n",
       "      <td id=\"T_105c2_row1_col5\" class=\"data row1 col5\" >False</td>\n",
       "      <td id=\"T_105c2_row1_col6\" class=\"data row1 col6\" >False</td>\n",
       "      <td id=\"T_105c2_row1_col7\" class=\"data row1 col7\" >True</td>\n",
       "      <td id=\"T_105c2_row1_col8\" class=\"data row1 col8\" >False</td>\n",
       "      <td id=\"T_105c2_row1_col9\" class=\"data row1 col9\" >True</td>\n",
       "      <td id=\"T_105c2_row1_col10\" class=\"data row1 col10\" >False</td>\n",
       "      <td id=\"T_105c2_row1_col11\" class=\"data row1 col11\" >False</td>\n",
       "      <td id=\"T_105c2_row1_col12\" class=\"data row1 col12\" >10.002170</td>\n",
       "    </tr>\n",
       "    <tr>\n",
       "      <th id=\"T_105c2_level0_row2\" class=\"row_heading level0 row2\" >mallows cp</th>\n",
       "      <td id=\"T_105c2_row2_col0\" class=\"data row2 col0\" >True</td>\n",
       "      <td id=\"T_105c2_row2_col1\" class=\"data row2 col1\" >True</td>\n",
       "      <td id=\"T_105c2_row2_col2\" class=\"data row2 col2\" >False</td>\n",
       "      <td id=\"T_105c2_row2_col3\" class=\"data row2 col3\" >False</td>\n",
       "      <td id=\"T_105c2_row2_col4\" class=\"data row2 col4\" >False</td>\n",
       "      <td id=\"T_105c2_row2_col5\" class=\"data row2 col5\" >False</td>\n",
       "      <td id=\"T_105c2_row2_col6\" class=\"data row2 col6\" >True</td>\n",
       "      <td id=\"T_105c2_row2_col7\" class=\"data row2 col7\" >True</td>\n",
       "      <td id=\"T_105c2_row2_col8\" class=\"data row2 col8\" >False</td>\n",
       "      <td id=\"T_105c2_row2_col9\" class=\"data row2 col9\" >True</td>\n",
       "      <td id=\"T_105c2_row2_col10\" class=\"data row2 col10\" >True</td>\n",
       "      <td id=\"T_105c2_row2_col11\" class=\"data row2 col11\" >False</td>\n",
       "      <td id=\"T_105c2_row2_col12\" class=\"data row2 col12\" >10.101081</td>\n",
       "    </tr>\n",
       "    <tr>\n",
       "      <th id=\"T_105c2_level0_row3\" class=\"row_heading level0 row3\" >all features</th>\n",
       "      <td id=\"T_105c2_row3_col0\" class=\"data row3 col0\" >True</td>\n",
       "      <td id=\"T_105c2_row3_col1\" class=\"data row3 col1\" >True</td>\n",
       "      <td id=\"T_105c2_row3_col2\" class=\"data row3 col2\" >True</td>\n",
       "      <td id=\"T_105c2_row3_col3\" class=\"data row3 col3\" >True</td>\n",
       "      <td id=\"T_105c2_row3_col4\" class=\"data row3 col4\" >True</td>\n",
       "      <td id=\"T_105c2_row3_col5\" class=\"data row3 col5\" >True</td>\n",
       "      <td id=\"T_105c2_row3_col6\" class=\"data row3 col6\" >True</td>\n",
       "      <td id=\"T_105c2_row3_col7\" class=\"data row3 col7\" >True</td>\n",
       "      <td id=\"T_105c2_row3_col8\" class=\"data row3 col8\" >True</td>\n",
       "      <td id=\"T_105c2_row3_col9\" class=\"data row3 col9\" >True</td>\n",
       "      <td id=\"T_105c2_row3_col10\" class=\"data row3 col10\" >True</td>\n",
       "      <td id=\"T_105c2_row3_col11\" class=\"data row3 col11\" >True</td>\n",
       "      <td id=\"T_105c2_row3_col12\" class=\"data row3 col12\" >10.129273</td>\n",
       "    </tr>\n",
       "    <tr>\n",
       "      <th id=\"T_105c2_level0_row4\" class=\"row_heading level0 row4\" >bic</th>\n",
       "      <td id=\"T_105c2_row4_col0\" class=\"data row4 col0\" >True</td>\n",
       "      <td id=\"T_105c2_row4_col1\" class=\"data row4 col1\" >False</td>\n",
       "      <td id=\"T_105c2_row4_col2\" class=\"data row4 col2\" >False</td>\n",
       "      <td id=\"T_105c2_row4_col3\" class=\"data row4 col3\" >False</td>\n",
       "      <td id=\"T_105c2_row4_col4\" class=\"data row4 col4\" >False</td>\n",
       "      <td id=\"T_105c2_row4_col5\" class=\"data row4 col5\" >False</td>\n",
       "      <td id=\"T_105c2_row4_col6\" class=\"data row4 col6\" >False</td>\n",
       "      <td id=\"T_105c2_row4_col7\" class=\"data row4 col7\" >False</td>\n",
       "      <td id=\"T_105c2_row4_col8\" class=\"data row4 col8\" >False</td>\n",
       "      <td id=\"T_105c2_row4_col9\" class=\"data row4 col9\" >False</td>\n",
       "      <td id=\"T_105c2_row4_col10\" class=\"data row4 col10\" >False</td>\n",
       "      <td id=\"T_105c2_row4_col11\" class=\"data row4 col11\" >False</td>\n",
       "      <td id=\"T_105c2_row4_col12\" class=\"data row4 col12\" >10.617943</td>\n",
       "    </tr>\n",
       "  </tbody>\n",
       "</table>\n"
      ],
      "text/plain": [
       "<pandas.io.formats.style.Styler at 0x2c1d904d0>"
      ]
     },
     "execution_count": 990,
     "metadata": {},
     "output_type": "execute_result"
    },
    {
     "data": {
      "application/javascript": [
       "\n",
       "            setTimeout(function() {\n",
       "                var nbb_cell_id = 990;\n",
       "                var nbb_unformatted_code = \"def color_dataframe_value(value):\\n    if isinstance(value, bool):\\n        color = \\\"green\\\" if value else \\\"red\\\"\\n        return f\\\"color: {color}\\\"\\n\\n\\nmse_scores.sort_values(\\\"mse\\\").style.applymap(color_dataframe_value)\";\n",
       "                var nbb_formatted_code = \"def color_dataframe_value(value):\\n    if isinstance(value, bool):\\n        color = \\\"green\\\" if value else \\\"red\\\"\\n        return f\\\"color: {color}\\\"\\n\\n\\nmse_scores.sort_values(\\\"mse\\\").style.applymap(color_dataframe_value)\";\n",
       "                var nbb_cells = Jupyter.notebook.get_cells();\n",
       "                for (var i = 0; i < nbb_cells.length; ++i) {\n",
       "                    if (nbb_cells[i].input_prompt_number == nbb_cell_id) {\n",
       "                        if (nbb_cells[i].get_text() == nbb_unformatted_code) {\n",
       "                             nbb_cells[i].set_text(nbb_formatted_code);\n",
       "                        }\n",
       "                        break;\n",
       "                    }\n",
       "                }\n",
       "            }, 500);\n",
       "            "
      ],
      "text/plain": [
       "<IPython.core.display.Javascript object>"
      ]
     },
     "metadata": {},
     "output_type": "display_data"
    }
   ],
   "source": [
    "def color_dataframe_value(value):\n",
    "    if isinstance(value, bool):\n",
    "        color = \"green\" if value else \"red\"\n",
    "        return f\"color: {color}\"\n",
    "\n",
    "\n",
    "mse_scores.sort_values(\"mse\").style.applymap(color_dataframe_value)"
   ]
  },
  {
   "cell_type": "markdown",
   "id": "70c6f109",
   "metadata": {},
   "source": [
    "### Задача 11\n",
    "Скачать данные со страницы курса (значения коэффициента преломления для разных типов стекла; первый столбец). Оценить плотность распределения этих значений, используя гистограмму и ядерную оценку. Для подбора ширины ячейки или ширины ядра использовать перекрестную проверку (кросс-проверку).  Для выбранных значений ширины ячейки и ширины ядра построить 95\\%-ые доверительные интервалы для полученной оценки плотности.\n",
    "\n",
    "---"
   ]
  },
  {
   "cell_type": "code",
   "execution_count": 3,
   "id": "9961a40a",
   "metadata": {
    "ExecuteTime": {
     "end_time": "2023-07-08T15:54:33.573546Z",
     "start_time": "2023-07-08T15:54:33.558775Z"
    }
   },
   "outputs": [],
   "source": [
    "glass = pd.read_csv(\"data/glass.txt\", sep=\"\\s+\")\n",
    "sample = glass[\"RI\"].values"
   ]
  },
  {
   "cell_type": "code",
   "execution_count": 151,
   "id": "e529b7b1",
   "metadata": {
    "ExecuteTime": {
     "end_time": "2023-07-08T17:44:01.903716Z",
     "start_time": "2023-07-08T17:44:01.886098Z"
    }
   },
   "outputs": [],
   "source": [
    "class Histogram:\n",
    "    def __init__(self, sample, bin_width):\n",
    "        if isinstance(bin_width, np.ndarray):\n",
    "            bin_width = bin_width.item()\n",
    "\n",
    "        self.sample = sample\n",
    "        self.bin_width = bin_width\n",
    "        self.bins = int(np.ceil((max(sample) - min(sample)) / bin_width))\n",
    "        self.bins = min(max(1, self.bins), len(sample))\n",
    "        range_delta = self.bins * self.bin_width - (max(sample) - min(sample))\n",
    "        assert range_delta >= 0\n",
    "        low = min(sample) - range_delta / 2\n",
    "        high = max(sample) + range_delta / 2\n",
    "        self.hist, self.bin_edges = np.histogram(\n",
    "            sample, density=True, bins=self.bins, range=(low, high)\n",
    "        )\n",
    "        self.hist = np.pad(self.hist, 1)\n",
    "        assert np.isclose(self.hist.sum() * self.bin_width, 1)\n",
    "\n",
    "    def pdf(self, x):\n",
    "        indices = np.digitize(x, self.bin_edges)\n",
    "        return self.hist[indices]\n",
    "\n",
    "    def compute_estimate_adjusted_risk(self):\n",
    "        n = len(self.sample)\n",
    "        h = self.bin_width\n",
    "        p_hat = self.hist * h\n",
    "        adjusted_risk = (2 - (n + 1) * sum(p_hat**2)) / (h * (n - 1))\n",
    "        return adjusted_risk\n",
    "\n",
    "    def compute_confidence_band(self, x, confidence_level=0.95):\n",
    "        m = self.bins\n",
    "        n = len(self.sample)\n",
    "        h = self.bin_width\n",
    "        z_function = scipy.stats.distributions.norm().ppf\n",
    "        c = z_function((1 - confidence_level) / (2 * m)) / 2 * (h / n) ** 0.5\n",
    "        lower = np.maximum(0, self.pdf(x) ** 0.5 - c) ** 2\n",
    "        upper = (self.pdf(x) ** 0.5 + c) ** 2\n",
    "        return lower, upper\n",
    "\n",
    "\n",
    "def find_function_minimum(function, initial_candidates, tqdm_silent=True) -> float:\n",
    "    f_min = np.inf\n",
    "    x_min = None\n",
    "\n",
    "    for candidate in tqdm.auto.tqdm(initial_candidates, disable=tqdm_silent):\n",
    "        out = scipy.optimize.fmin(\n",
    "            func=function, x0=candidate, full_output=True, disp=False\n",
    "        )\n",
    "        new_x_min = out[0][0]\n",
    "        new_f_min = out[1]\n",
    "\n",
    "        if new_f_min < f_min:\n",
    "            f_min = new_f_min\n",
    "            x_min = new_x_min\n",
    "    return x_min\n",
    "\n",
    "\n",
    "def build_initial_kernel_width_candidates(sample, n_candidates=100):\n",
    "    sample_range = max(sample) - min(sample)\n",
    "    initial_bin_width_candidates = np.linspace(\n",
    "        sample_range / len(sample), sample_range, n_candidates\n",
    "    )\n",
    "    return initial_bin_width_candidates\n",
    "\n",
    "\n",
    "def find_optimal_histogram_bin_width(sample):\n",
    "    def compute_risk(bin_width):\n",
    "        if bin_width <= 0:\n",
    "            return np.inf\n",
    "\n",
    "        histogram = Histogram(sample, bin_width)\n",
    "        risk = histogram.compute_estimate_adjusted_risk()\n",
    "        return risk\n",
    "\n",
    "    bin_width = find_function_minimum(\n",
    "        function=compute_risk,\n",
    "        initial_candidates=build_initial_kernel_width_candidates(sample),\n",
    "    )\n",
    "    return bin_width"
   ]
  },
  {
   "cell_type": "code",
   "execution_count": 152,
   "id": "34b08949",
   "metadata": {
    "ExecuteTime": {
     "end_time": "2023-07-08T17:44:02.680678Z",
     "start_time": "2023-07-08T17:44:02.231513Z"
    }
   },
   "outputs": [
    {
     "name": "stdout",
     "output_type": "stream",
     "text": [
      "Optimal histogram bin width: 1.333\n"
     ]
    }
   ],
   "source": [
    "optimal_histogram_bin_width = find_optimal_histogram_bin_width(sample)\n",
    "print(f\"Optimal histogram bin width: {optimal_histogram_bin_width:.3f}\")"
   ]
  },
  {
   "cell_type": "code",
   "execution_count": 118,
   "id": "92fe8d9f",
   "metadata": {
    "ExecuteTime": {
     "end_time": "2023-07-08T17:26:46.400798Z",
     "start_time": "2023-07-08T17:26:46.380743Z"
    }
   },
   "outputs": [],
   "source": [
    "class KernelStar:\n",
    "    def __init__(self, kernel, kernel_range, integral_eps=1e-2):\n",
    "        self.kernel = kernel\n",
    "        self.kernel_range = kernel_range\n",
    "        self.integral_eps = integral_eps\n",
    "\n",
    "    def __call__(self, x):\n",
    "        integral, _ = scipy.integrate.quad(\n",
    "            lambda y: self.kernel(x - y) * self.kernel(y),\n",
    "            a=self.kernel_range[0],\n",
    "            b=self.kernel_range[1],\n",
    "            epsabs=self.integral_eps,\n",
    "        )\n",
    "        value = integral - 2 * self.kernel(x)\n",
    "        return value\n",
    "\n",
    "\n",
    "class KernelPdfEstimator:\n",
    "    def __init__(self, sample, kernel_width, kernel, kernel_range=(-1, 1)):\n",
    "        self.sample = sample\n",
    "        self.kernel_width = kernel_width\n",
    "        self.kernel = np.vectorize(kernel)\n",
    "        self.kernel_star = np.vectorize(KernelStar(kernel, kernel_range))\n",
    "\n",
    "    def pdf(self, x):\n",
    "        h = self.kernel_width\n",
    "        return np.mean(self.kernel((self.sample[:, None] - x) / h), axis=0) / h\n",
    "\n",
    "    def compute_estimate_adjusted_risk(self):\n",
    "        n = len(self.sample)\n",
    "        h = self.kernel_width\n",
    "        adjusted_risk = np.mean(\n",
    "            self.kernel_star((self.sample[:, None] - self.sample[None, :]) / h)\n",
    "        ) / h + 2 * self.kernel(0) / (n * h)\n",
    "        return adjusted_risk\n",
    "\n",
    "    def compute_confidence_band(self, x, kernel_range_size, confidence_level=0.95):\n",
    "        n = len(self.sample)\n",
    "        h = self.kernel_width\n",
    "        y = self.kernel((self.sample[:, None] - x) / h) / h\n",
    "        se = np.std(y, axis=0) / n**0.5\n",
    "\n",
    "        sample_range = max(sample) - min(sample)\n",
    "        effective_kernel_range_size = kernel_range_size * h\n",
    "        m = sample_range / effective_kernel_range_size\n",
    "        z_function = scipy.stats.distributions.norm().ppf\n",
    "        q = z_function((1 + confidence_level ** (1 / m)) / 2)\n",
    "\n",
    "        lower = self.pdf(x) - q * se\n",
    "        upper = self.pdf(x) + q * se\n",
    "        return lower, upper\n",
    "\n",
    "\n",
    "class NormalKernelPdfEstimator(KernelPdfEstimator):\n",
    "    def __init__(self, sample, kernel_width):\n",
    "        self.sample = sample\n",
    "        self.kernel_width = kernel_width\n",
    "\n",
    "        norm_0_1 = scipy.stats.distributions.norm(0, 1).pdf\n",
    "        norm_0_2 = scipy.stats.distributions.norm(0, 2).pdf\n",
    "        self.kernel = norm_0_1\n",
    "        self.kernel_star = lambda x: norm_0_2(x) - 2 * norm_0_1(x)\n",
    "\n",
    "    def compute_estimate_adjusted_risk(self):\n",
    "        n = len(self.sample)\n",
    "        h = self.kernel_width\n",
    "        adjusted_risk = np.mean(\n",
    "            self.kernel_star((self.sample[:, None] - self.sample[None, :]) / h)\n",
    "        ) / h + 2 * self.kernel(0) / (n * h)\n",
    "        return adjusted_risk\n",
    "\n",
    "    def compute_confidence_band(self, x, confidence_level=0.95):\n",
    "        return super().compute_confidence_band(\n",
    "            x=x, kernel_range_size=3, confidence_level=confidence_level\n",
    "        )\n",
    "\n",
    "\n",
    "def find_optimal_normal_kernel_width(sample, min_kernel_width=1e-3):\n",
    "    def compute_risk(kernel_width):\n",
    "        if kernel_width <= min_kernel_width:\n",
    "            return np.inf\n",
    "\n",
    "        kernel_estimator = NormalKernelPdfEstimator(sample, kernel_width)\n",
    "        risk = kernel_estimator.compute_estimate_adjusted_risk()\n",
    "        return risk\n",
    "\n",
    "    kernel_width = find_function_minimum(\n",
    "        function=compute_risk,\n",
    "        initial_candidates=build_initial_kernel_width_candidates(sample),\n",
    "    )\n",
    "    return kernel_width"
   ]
  },
  {
   "cell_type": "code",
   "execution_count": 124,
   "id": "b99b36ae",
   "metadata": {
    "ExecuteTime": {
     "end_time": "2023-07-08T17:35:21.682655Z",
     "start_time": "2023-07-08T17:35:15.730994Z"
    }
   },
   "outputs": [
    {
     "name": "stdout",
     "output_type": "stream",
     "text": [
      "Optimal normal kernel width: 0.242\n"
     ]
    }
   ],
   "source": [
    "optimal_normal_kernel_width = find_optimal_normal_kernel_width(sample)\n",
    "print(f\"Optimal normal kernel width: {optimal_normal_kernel_width:.3f}\")"
   ]
  },
  {
   "cell_type": "code",
   "execution_count": 125,
   "id": "7a2b6db6",
   "metadata": {
    "ExecuteTime": {
     "end_time": "2023-07-08T17:35:21.686638Z",
     "start_time": "2023-07-08T17:35:21.683677Z"
    }
   },
   "outputs": [],
   "source": [
    "def plot_histogram_pdf_estimate(sample, confidence_level=0.95):\n",
    "    optimal_histogram_bin_width = find_optimal_histogram_bin_width(sample)\n",
    "    histogram = Histogram(sample, optimal_histogram_bin_width)\n",
    "\n",
    "    x_range = np.linspace(min(sample), max(sample), 1000)\n",
    "\n",
    "    plt.plot(x_range, histogram.pdf(x_range), label=\"histogram\")\n",
    "    plt.fill_between(\n",
    "        x_range,\n",
    "        *histogram.compute_confidence_band(x_range),\n",
    "        alpha=0.3,\n",
    "        label=f\"histogram {confidence_level:.2f} confidence band\",\n",
    "    )\n",
    "    plt.legend()\n",
    "\n",
    "\n",
    "def plot_kernel_pdf_estimate(sample, confidence_level=0.95):\n",
    "    optimal_normal_kernel_width = find_optimal_normal_kernel_width(sample)\n",
    "    kernel_estimator = NormalKernelPdfEstimator(sample, optimal_normal_kernel_width)\n",
    "\n",
    "    x_range = np.linspace(min(sample), max(sample), 1000)\n",
    "\n",
    "    plt.plot(x_range, kernel_estimator.pdf(x_range), label=\"kernel\")\n",
    "    plt.fill_between(\n",
    "        x_range,\n",
    "        *kernel_estimator.compute_confidence_band(x_range),\n",
    "        alpha=0.3,\n",
    "        label=f\"kernel {confidence_level:.2f} confidence band\",\n",
    "    )\n",
    "    plt.legend()"
   ]
  },
  {
   "cell_type": "code",
   "execution_count": 126,
   "id": "c84fa489",
   "metadata": {
    "ExecuteTime": {
     "end_time": "2023-07-08T17:35:28.528807Z",
     "start_time": "2023-07-08T17:35:21.687280Z"
    }
   },
   "outputs": [
    {
     "data": {
      "text/plain": [
       "''"
      ]
     },
     "execution_count": 126,
     "metadata": {},
     "output_type": "execute_result"
    },
    {
     "data": {
      "image/png": "[encoded data removed]",
      "text/plain": [
       "<Figure size 640x480 with 1 Axes>"
      ]
     },
     "metadata": {},
     "output_type": "display_data"
    }
   ],
   "source": [
    "plot_histogram_pdf_estimate(sample)\n",
    "plot_kernel_pdf_estimate(sample)\n",
    "\n",
    "plt.plot(sample, np.zeros_like(sample), marker=\"|\", alpha=0.2, label=\"sample\")\n",
    "plt.legend()\n",
    ";"
   ]
  },
  {
   "cell_type": "markdown",
   "id": "f37166fd",
   "metadata": {},
   "source": [
    "### Задача 12\n",
    "По данным из предыдущей задачи, используя в качестве выходной переменной $y$ значения преломления для разных типов стекла, а в качестве входной переменной $x$ –– данные о содержании алюминия (четвертая переменная в матрице данных), восстановить зависимость между $y$ и $x$ с помощью ядерной непараметрической регрессии. Оценку ядра проводить с помощью перекрестной проверки. Построить 95\\%-ые доверительные интервалы для полученной оценки функции регрессии."
   ]
  },
  {
   "cell_type": "markdown",
   "id": "91cee52e",
   "metadata": {},
   "source": [
    "---\n",
    "\n",
    "Риск ядерной регрессии по формуле Надарая-Ватсона можно оценить следующим образом:\n",
    "\n",
    "$$\n",
    "\\hat J(h) = \\sum_{i=1}^n (y_i - \\hat y_i)^2 \\left(1 - \\frac{K(0)}{\\sum_{j=1}^n K(\\frac{x_i -x_j}{h})} \\right)^{-2}\n",
    "$$"
   ]
  },
  {
   "cell_type": "code",
   "execution_count": 1432,
   "id": "64120457",
   "metadata": {},
   "outputs": [
    {
     "data": {
      "application/javascript": [
       "\n",
       "            setTimeout(function() {\n",
       "                var nbb_cell_id = 1431;\n",
       "                var nbb_unformatted_code = \"glass[\\\"Al\\\"].values\";\n",
       "                var nbb_formatted_code = \"glass[\\\"Al\\\"].values\";\n",
       "                var nbb_cells = Jupyter.notebook.get_cells();\n",
       "                for (var i = 0; i < nbb_cells.length; ++i) {\n",
       "                    if (nbb_cells[i].input_prompt_number == nbb_cell_id) {\n",
       "                        if (nbb_cells[i].get_text() == nbb_unformatted_code) {\n",
       "                             nbb_cells[i].set_text(nbb_formatted_code);\n",
       "                        }\n",
       "                        break;\n",
       "                    }\n",
       "                }\n",
       "            }, 500);\n",
       "            "
      ],
      "text/plain": [
       "<IPython.core.display.Javascript object>"
      ]
     },
     "metadata": {},
     "output_type": "display_data"
    },
    {
     "data": {
      "application/javascript": [
       "\n",
       "            setTimeout(function() {\n",
       "                var nbb_cell_id = 1431;\n",
       "                var nbb_unformatted_code = \"glass[\\\"Al\\\"].values\";\n",
       "                var nbb_formatted_code = \"glass[\\\"Al\\\"].values\";\n",
       "                var nbb_cells = Jupyter.notebook.get_cells();\n",
       "                for (var i = 0; i < nbb_cells.length; ++i) {\n",
       "                    if (nbb_cells[i].input_prompt_number == nbb_cell_id) {\n",
       "                        if (nbb_cells[i].get_text() == nbb_unformatted_code) {\n",
       "                             nbb_cells[i].set_text(nbb_formatted_code);\n",
       "                        }\n",
       "                        break;\n",
       "                    }\n",
       "                }\n",
       "            }, 500);\n",
       "            "
      ],
      "text/plain": [
       "<IPython.core.display.Javascript object>"
      ]
     },
     "metadata": {},
     "output_type": "display_data"
    }
   ],
   "source": [
    "y = glass[\"RI\"].values\n",
    "x = glass[\"Al\"].values"
   ]
  },
  {
   "cell_type": "code",
   "execution_count": 1565,
   "id": "da5493ec",
   "metadata": {},
   "outputs": [
    {
     "data": {
      "application/javascript": [
       "\n",
       "            setTimeout(function() {\n",
       "                var nbb_cell_id = 1564;\n",
       "                var nbb_unformatted_code = \"plot_kernel_linear_regression(\\n    x=x,\\n    y=y,\\n    kernel=scipy.stats.distributions.norm().pdf,\\n    label=\\\"Linear regression with gauss kernel\\\",\\n    confidence_level=0.95,\\n)\";\n",
       "                var nbb_formatted_code = \"plot_kernel_linear_regression(\\n    x=x,\\n    y=y,\\n    kernel=scipy.stats.distributions.norm().pdf,\\n    label=\\\"Linear regression with gauss kernel\\\",\\n    confidence_level=0.95,\\n)\";\n",
       "                var nbb_cells = Jupyter.notebook.get_cells();\n",
       "                for (var i = 0; i < nbb_cells.length; ++i) {\n",
       "                    if (nbb_cells[i].input_prompt_number == nbb_cell_id) {\n",
       "                        if (nbb_cells[i].get_text() == nbb_unformatted_code) {\n",
       "                             nbb_cells[i].set_text(nbb_formatted_code);\n",
       "                        }\n",
       "                        break;\n",
       "                    }\n",
       "                }\n",
       "            }, 500);\n",
       "            "
      ],
      "text/plain": [
       "<IPython.core.display.Javascript object>"
      ]
     },
     "metadata": {},
     "output_type": "display_data"
    },
    {
     "data": {
      "application/javascript": [
       "\n",
       "            setTimeout(function() {\n",
       "                var nbb_cell_id = 1564;\n",
       "                var nbb_unformatted_code = \"plot_kernel_linear_regression(\\n    x=x,\\n    y=y,\\n    kernel=scipy.stats.distributions.norm().pdf,\\n    label=\\\"Linear regression with gauss kernel\\\",\\n    confidence_level=0.95,\\n)\";\n",
       "                var nbb_formatted_code = \"plot_kernel_linear_regression(\\n    x=x,\\n    y=y,\\n    kernel=scipy.stats.distributions.norm().pdf,\\n    label=\\\"Linear regression with gauss kernel\\\",\\n    confidence_level=0.95,\\n)\";\n",
       "                var nbb_cells = Jupyter.notebook.get_cells();\n",
       "                for (var i = 0; i < nbb_cells.length; ++i) {\n",
       "                    if (nbb_cells[i].input_prompt_number == nbb_cell_id) {\n",
       "                        if (nbb_cells[i].get_text() == nbb_unformatted_code) {\n",
       "                             nbb_cells[i].set_text(nbb_formatted_code);\n",
       "                        }\n",
       "                        break;\n",
       "                    }\n",
       "                }\n",
       "            }, 500);\n",
       "            "
      ],
      "text/plain": [
       "<IPython.core.display.Javascript object>"
      ]
     },
     "metadata": {},
     "output_type": "display_data"
    }
   ],
   "source": [
    "class KernelLinearRegressor:\n",
    "    def __init__(self, kernel, kernel_width):\n",
    "        self.kernel = kernel\n",
    "        self.kernel_width = kernel_width\n",
    "        self.x = None\n",
    "        self.y = None\n",
    "\n",
    "    def fit(self, x, y):\n",
    "        self.x = x\n",
    "        self.y = y\n",
    "        return self\n",
    "\n",
    "    def compute_kernel_weights(self, x):\n",
    "        w = self.kernel((self.x[:, None] - x) / self.kernel_width)\n",
    "        return w\n",
    "\n",
    "    def compute_normalized_kernel_weights(self, x):\n",
    "        w = self.compute_kernel_weights(x)\n",
    "        normalized_w = w / np.sum(w, axis=0)\n",
    "        return normalized_w\n",
    "\n",
    "    def predict(self, x):\n",
    "        w = self.compute_kernel_weights(x)\n",
    "        y_pred = np.sum(w * self.y[:, None], axis=0) / np.sum(w, axis=0)\n",
    "        return y_pred\n",
    "\n",
    "    def compute_estimated_adjusted_risk(self):\n",
    "        w = self.compute_kernel_weights(self.x)\n",
    "        c = (1 - self.kernel(0) / np.sum(w, axis=0)) ** (-2)\n",
    "        sse = (self.y - self.predict(self.x)) ** 2\n",
    "        risk = np.sum(sse * c)\n",
    "        return risk\n",
    "\n",
    "    def estimate_y_std(self):\n",
    "        x_sorted_indices = np.argsort(self.x)\n",
    "        y_sorted_by_x = self.y[x_sorted_indices]\n",
    "        std = (np.mean((y_sorted_by_x[1:] - y_sorted_by_x[:-1]) ** 2) / 2) ** 0.5\n",
    "        return std\n",
    "\n",
    "    def compute_confidence_band(self, kernel_range_size=3, confidence_level=0.95):\n",
    "        y_std = self.estimate_y_std()\n",
    "        x_sorted = np.sort(self.x)\n",
    "        w_normalized = self.compute_normalized_kernel_weights(x_sorted)\n",
    "        se = y_std * np.sum(w_normalized**2, axis=0) ** 0.5\n",
    "\n",
    "        sample_range = max(sample) - min(sample)\n",
    "        effective_kernel_range_size = kernel_range_size * self.kernel_width\n",
    "        m = sample_range / effective_kernel_range_size\n",
    "        z_function = scipy.stats.distributions.norm().ppf\n",
    "        q = z_function((1 + confidence_level ** (1 / m)) / 2)\n",
    "\n",
    "        lower = self.predict(x_sorted) - q * se\n",
    "        upper = self.predict(x_sorted) + q * se\n",
    "        return lower, upper"
   ]
  },
  {
   "cell_type": "code",
   "execution_count": 1566,
   "id": "f42cc321",
   "metadata": {},
   "outputs": [
    {
     "data": {
      "application/javascript": [
       "\n",
       "            setTimeout(function() {\n",
       "                var nbb_cell_id = 1565;\n",
       "                var nbb_unformatted_code = \"class KernelLinearRegressor:\\n    def __init__(self, kernel, kernel_width):\\n        self.kernel = kernel\\n        self.kernel_width = kernel_width\\n        self.x = None\\n        self.y = None\\n\\n    def fit(self, x, y):\\n        self.x = x\\n        self.y = y\\n        return self\\n\\n    def compute_kernel_weights(self, x):\\n        w = self.kernel((self.x[:, None] - x) / self.kernel_width)\\n        return w\\n\\n    def compute_normalized_kernel_weights(self, x):\\n        w = self.compute_kernel_weights(x)\\n        normalized_w = w / np.sum(w, axis=0)\\n        return normalized_w\\n\\n    def predict(self, x):\\n        w = self.compute_kernel_weights(x)\\n        y_pred = np.sum(w * self.y[:, None], axis=0) / np.sum(w, axis=0)\\n        return y_pred\\n\\n    def compute_estimated_adjusted_risk(self):\\n        w = self.compute_kernel_weights(self.x)\\n        c = (1 - self.kernel(0) / np.sum(w, axis=0)) ** (-2)\\n        sse = (self.y - self.predict(self.x)) ** 2\\n        risk = np.sum(sse * c)\\n        return risk\\n\\n    def estimate_y_std(self):\\n        x_sorted_indices = np.argsort(self.x)\\n        y_sorted_by_x = self.y[x_sorted_indices]\\n        std = (np.mean((y_sorted_by_x[1:] - y_sorted_by_x[:-1]) ** 2) / 2) ** 0.5\\n        return std\\n\\n    def compute_confidence_band(self, kernel_range_size=3, confidence_level=0.95):\\n        n = len(self.x)\\n        y_std = self.estimate_y_std()\\n        x_sorted = np.sort(self.x)\\n        w_normalized = self.compute_normalized_kernel_weights(x_sorted)\\n        se = y_std * np.sum(w_normalized**2, axis=0) ** 0.5\\n\\n        h = self.kernel_width\\n        sample_range = max(sample) - min(sample)\\n        effective_kernel_range_size = kernel_range_size * h\\n        m = sample_range / effective_kernel_range_size\\n        z_function = scipy.stats.distributions.norm().ppf\\n        q = z_function((1 + confidence_level ** (1 / m)) / 2)\\n\\n        lower = self.predict(x_sorted) - q * se\\n        upper = self.predict(x_sorted) + q * se\\n        return lower, upper\";\n",
       "                var nbb_formatted_code = \"class KernelLinearRegressor:\\n    def __init__(self, kernel, kernel_width):\\n        self.kernel = kernel\\n        self.kernel_width = kernel_width\\n        self.x = None\\n        self.y = None\\n\\n    def fit(self, x, y):\\n        self.x = x\\n        self.y = y\\n        return self\\n\\n    def compute_kernel_weights(self, x):\\n        w = self.kernel((self.x[:, None] - x) / self.kernel_width)\\n        return w\\n\\n    def compute_normalized_kernel_weights(self, x):\\n        w = self.compute_kernel_weights(x)\\n        normalized_w = w / np.sum(w, axis=0)\\n        return normalized_w\\n\\n    def predict(self, x):\\n        w = self.compute_kernel_weights(x)\\n        y_pred = np.sum(w * self.y[:, None], axis=0) / np.sum(w, axis=0)\\n        return y_pred\\n\\n    def compute_estimated_adjusted_risk(self):\\n        w = self.compute_kernel_weights(self.x)\\n        c = (1 - self.kernel(0) / np.sum(w, axis=0)) ** (-2)\\n        sse = (self.y - self.predict(self.x)) ** 2\\n        risk = np.sum(sse * c)\\n        return risk\\n\\n    def estimate_y_std(self):\\n        x_sorted_indices = np.argsort(self.x)\\n        y_sorted_by_x = self.y[x_sorted_indices]\\n        std = (np.mean((y_sorted_by_x[1:] - y_sorted_by_x[:-1]) ** 2) / 2) ** 0.5\\n        return std\\n\\n    def compute_confidence_band(self, kernel_range_size=3, confidence_level=0.95):\\n        n = len(self.x)\\n        y_std = self.estimate_y_std()\\n        x_sorted = np.sort(self.x)\\n        w_normalized = self.compute_normalized_kernel_weights(x_sorted)\\n        se = y_std * np.sum(w_normalized**2, axis=0) ** 0.5\\n\\n        h = self.kernel_width\\n        sample_range = max(sample) - min(sample)\\n        effective_kernel_range_size = kernel_range_size * h\\n        m = sample_range / effective_kernel_range_size\\n        z_function = scipy.stats.distributions.norm().ppf\\n        q = z_function((1 + confidence_level ** (1 / m)) / 2)\\n\\n        lower = self.predict(x_sorted) - q * se\\n        upper = self.predict(x_sorted) + q * se\\n        return lower, upper\";\n",
       "                var nbb_cells = Jupyter.notebook.get_cells();\n",
       "                for (var i = 0; i < nbb_cells.length; ++i) {\n",
       "                    if (nbb_cells[i].input_prompt_number == nbb_cell_id) {\n",
       "                        if (nbb_cells[i].get_text() == nbb_unformatted_code) {\n",
       "                             nbb_cells[i].set_text(nbb_formatted_code);\n",
       "                        }\n",
       "                        break;\n",
       "                    }\n",
       "                }\n",
       "            }, 500);\n",
       "            "
      ],
      "text/plain": [
       "<IPython.core.display.Javascript object>"
      ]
     },
     "metadata": {},
     "output_type": "display_data"
    },
    {
     "data": {
      "application/javascript": [
       "\n",
       "            setTimeout(function() {\n",
       "                var nbb_cell_id = 1565;\n",
       "                var nbb_unformatted_code = \"class KernelLinearRegressor:\\n    def __init__(self, kernel, kernel_width):\\n        self.kernel = kernel\\n        self.kernel_width = kernel_width\\n        self.x = None\\n        self.y = None\\n\\n    def fit(self, x, y):\\n        self.x = x\\n        self.y = y\\n        return self\\n\\n    def compute_kernel_weights(self, x):\\n        w = self.kernel((self.x[:, None] - x) / self.kernel_width)\\n        return w\\n\\n    def compute_normalized_kernel_weights(self, x):\\n        w = self.compute_kernel_weights(x)\\n        normalized_w = w / np.sum(w, axis=0)\\n        return normalized_w\\n\\n    def predict(self, x):\\n        w = self.compute_kernel_weights(x)\\n        y_pred = np.sum(w * self.y[:, None], axis=0) / np.sum(w, axis=0)\\n        return y_pred\\n\\n    def compute_estimated_adjusted_risk(self):\\n        w = self.compute_kernel_weights(self.x)\\n        c = (1 - self.kernel(0) / np.sum(w, axis=0)) ** (-2)\\n        sse = (self.y - self.predict(self.x)) ** 2\\n        risk = np.sum(sse * c)\\n        return risk\\n\\n    def estimate_y_std(self):\\n        x_sorted_indices = np.argsort(self.x)\\n        y_sorted_by_x = self.y[x_sorted_indices]\\n        std = (np.mean((y_sorted_by_x[1:] - y_sorted_by_x[:-1]) ** 2) / 2) ** 0.5\\n        return std\\n\\n    def compute_confidence_band(self, kernel_range_size=3, confidence_level=0.95):\\n        n = len(self.x)\\n        y_std = self.estimate_y_std()\\n        x_sorted = np.sort(self.x)\\n        w_normalized = self.compute_normalized_kernel_weights(x_sorted)\\n        se = y_std * np.sum(w_normalized**2, axis=0) ** 0.5\\n\\n        h = self.kernel_width\\n        sample_range = max(sample) - min(sample)\\n        effective_kernel_range_size = kernel_range_size * h\\n        m = sample_range / effective_kernel_range_size\\n        z_function = scipy.stats.distributions.norm().ppf\\n        q = z_function((1 + confidence_level ** (1 / m)) / 2)\\n\\n        lower = self.predict(x_sorted) - q * se\\n        upper = self.predict(x_sorted) + q * se\\n        return lower, upper\";\n",
       "                var nbb_formatted_code = \"class KernelLinearRegressor:\\n    def __init__(self, kernel, kernel_width):\\n        self.kernel = kernel\\n        self.kernel_width = kernel_width\\n        self.x = None\\n        self.y = None\\n\\n    def fit(self, x, y):\\n        self.x = x\\n        self.y = y\\n        return self\\n\\n    def compute_kernel_weights(self, x):\\n        w = self.kernel((self.x[:, None] - x) / self.kernel_width)\\n        return w\\n\\n    def compute_normalized_kernel_weights(self, x):\\n        w = self.compute_kernel_weights(x)\\n        normalized_w = w / np.sum(w, axis=0)\\n        return normalized_w\\n\\n    def predict(self, x):\\n        w = self.compute_kernel_weights(x)\\n        y_pred = np.sum(w * self.y[:, None], axis=0) / np.sum(w, axis=0)\\n        return y_pred\\n\\n    def compute_estimated_adjusted_risk(self):\\n        w = self.compute_kernel_weights(self.x)\\n        c = (1 - self.kernel(0) / np.sum(w, axis=0)) ** (-2)\\n        sse = (self.y - self.predict(self.x)) ** 2\\n        risk = np.sum(sse * c)\\n        return risk\\n\\n    def estimate_y_std(self):\\n        x_sorted_indices = np.argsort(self.x)\\n        y_sorted_by_x = self.y[x_sorted_indices]\\n        std = (np.mean((y_sorted_by_x[1:] - y_sorted_by_x[:-1]) ** 2) / 2) ** 0.5\\n        return std\\n\\n    def compute_confidence_band(self, kernel_range_size=3, confidence_level=0.95):\\n        n = len(self.x)\\n        y_std = self.estimate_y_std()\\n        x_sorted = np.sort(self.x)\\n        w_normalized = self.compute_normalized_kernel_weights(x_sorted)\\n        se = y_std * np.sum(w_normalized**2, axis=0) ** 0.5\\n\\n        h = self.kernel_width\\n        sample_range = max(sample) - min(sample)\\n        effective_kernel_range_size = kernel_range_size * h\\n        m = sample_range / effective_kernel_range_size\\n        z_function = scipy.stats.distributions.norm().ppf\\n        q = z_function((1 + confidence_level ** (1 / m)) / 2)\\n\\n        lower = self.predict(x_sorted) - q * se\\n        upper = self.predict(x_sorted) + q * se\\n        return lower, upper\";\n",
       "                var nbb_cells = Jupyter.notebook.get_cells();\n",
       "                for (var i = 0; i < nbb_cells.length; ++i) {\n",
       "                    if (nbb_cells[i].input_prompt_number == nbb_cell_id) {\n",
       "                        if (nbb_cells[i].get_text() == nbb_unformatted_code) {\n",
       "                             nbb_cells[i].set_text(nbb_formatted_code);\n",
       "                        }\n",
       "                        break;\n",
       "                    }\n",
       "                }\n",
       "            }, 500);\n",
       "            "
      ],
      "text/plain": [
       "<IPython.core.display.Javascript object>"
      ]
     },
     "metadata": {},
     "output_type": "display_data"
    }
   ],
   "source": [
    "def find_optimal_kernel_width_for_regression(x, y, kernel, min_kernel_width=1e-1):\n",
    "    def compute_risk(kernel_width):\n",
    "        if kernel_width <= min_kernel_width:\n",
    "            return np.inf\n",
    "\n",
    "        regressor = KernelLinearRegressor(kernel, kernel_width)\n",
    "        regressor.fit(x, y)\n",
    "        risk = regressor.compute_estimated_adjusted_risk()\n",
    "        return risk\n",
    "\n",
    "    kernel_width = find_function_minimum(\n",
    "        function=compute_risk,\n",
    "        initial_candidates=build_initial_kernel_width_candidates(sample),\n",
    "    )\n",
    "    return kernel_width"
   ]
  },
  {
   "cell_type": "code",
   "execution_count": 1584,
   "id": "b64b61f5",
   "metadata": {},
   "outputs": [
    {
     "data": {
      "application/javascript": [
       "\n",
       "            setTimeout(function() {\n",
       "                var nbb_cell_id = 1583;\n",
       "                var nbb_unformatted_code = \"plot_kernel_linear_regression(\\n    x=x,\\n    y=y,\\n    kernel=scipy.stats.distributions.norm().pdf,\\n    label=\\\"Linear regression with gauss kernel\\\",\\n    x_label=\\\"Al\\\",\\n    y_label=\\\"RI\\\",\\n)\";\n",
       "                var nbb_formatted_code = \"plot_kernel_linear_regression(\\n    x=x,\\n    y=y,\\n    kernel=scipy.stats.distributions.norm().pdf,\\n    label=\\\"Linear regression with gauss kernel\\\",\\n    x_label=\\\"Al\\\",\\n    y_label=\\\"RI\\\",\\n)\";\n",
       "                var nbb_cells = Jupyter.notebook.get_cells();\n",
       "                for (var i = 0; i < nbb_cells.length; ++i) {\n",
       "                    if (nbb_cells[i].input_prompt_number == nbb_cell_id) {\n",
       "                        if (nbb_cells[i].get_text() == nbb_unformatted_code) {\n",
       "                             nbb_cells[i].set_text(nbb_formatted_code);\n",
       "                        }\n",
       "                        break;\n",
       "                    }\n",
       "                }\n",
       "            }, 500);\n",
       "            "
      ],
      "text/plain": [
       "<IPython.core.display.Javascript object>"
      ]
     },
     "metadata": {},
     "output_type": "display_data"
    },
    {
     "data": {
      "application/javascript": [
       "\n",
       "            setTimeout(function() {\n",
       "                var nbb_cell_id = 1583;\n",
       "                var nbb_unformatted_code = \"plot_kernel_linear_regression(\\n    x=x,\\n    y=y,\\n    kernel=scipy.stats.distributions.norm().pdf,\\n    label=\\\"Linear regression with gauss kernel\\\",\\n    x_label=\\\"Al\\\",\\n    y_label=\\\"RI\\\",\\n)\";\n",
       "                var nbb_formatted_code = \"plot_kernel_linear_regression(\\n    x=x,\\n    y=y,\\n    kernel=scipy.stats.distributions.norm().pdf,\\n    label=\\\"Linear regression with gauss kernel\\\",\\n    x_label=\\\"Al\\\",\\n    y_label=\\\"RI\\\",\\n)\";\n",
       "                var nbb_cells = Jupyter.notebook.get_cells();\n",
       "                for (var i = 0; i < nbb_cells.length; ++i) {\n",
       "                    if (nbb_cells[i].input_prompt_number == nbb_cell_id) {\n",
       "                        if (nbb_cells[i].get_text() == nbb_unformatted_code) {\n",
       "                             nbb_cells[i].set_text(nbb_formatted_code);\n",
       "                        }\n",
       "                        break;\n",
       "                    }\n",
       "                }\n",
       "            }, 500);\n",
       "            "
      ],
      "text/plain": [
       "<IPython.core.display.Javascript object>"
      ]
     },
     "metadata": {},
     "output_type": "display_data"
    }
   ],
   "source": [
    "def plot_kernel_linear_regression(\n",
    "    x, y, kernel, confidence_level=0.95, label=None, x_label=None, y_label=None\n",
    "):\n",
    "    kernel_width = find_optimal_kernel_width_for_regression(x, y, kernel)\n",
    "\n",
    "    print(f\"Optimal kernel width: {kernel_width:.3f}\")\n",
    "\n",
    "    regressor = KernelLinearRegressor(kernel, kernel_width)\n",
    "    regressor.fit(x, y)\n",
    "    y_pred = regressor.predict(x)\n",
    "\n",
    "    plt.title(\"Kernel linear regression\")\n",
    "    plt.scatter(x, y, marker=\".\", label=\"sample\")\n",
    "    x_sorted_indices = np.argsort(x)\n",
    "    x_sorted = x[x_sorted_indices]\n",
    "    y_pred_sorted_by_x = y_pred[x_sorted_indices]\n",
    "    plt.plot(x_sorted, y_pred_sorted_by_x, label=label, c=\"orange\")\n",
    "    plt.xlabel(x_label)\n",
    "    plt.ylabel(y_label)\n",
    "    plt.fill_between(\n",
    "        x_sorted,\n",
    "        *regressor.compute_confidence_band(confidence_level=confidence_level),\n",
    "        alpha=0.3,\n",
    "        label=f\"{confidence_level:.2f} confidence band\",\n",
    "    )\n",
    "    plt.legend()"
   ]
  },
  {
   "cell_type": "code",
   "execution_count": 1585,
   "id": "c265463d",
   "metadata": {},
   "outputs": [
    {
     "name": "stdout",
     "output_type": "stream",
     "text": [
      "Optimal kernel width: 0.133\n"
     ]
    },
    {
     "data": {
      "image/png": "[encoded data removed]",
      "text/plain": [
       "<Figure size 640x480 with 1 Axes>"
      ]
     },
     "metadata": {},
     "output_type": "display_data"
    },
    {
     "data": {
      "application/javascript": [
       "\n",
       "            setTimeout(function() {\n",
       "                var nbb_cell_id = 1584;\n",
       "                var nbb_unformatted_code = \"def plot_kernel_linear_regression(\\n    x, y, kernel, confidence_level=0.95, label=None, x_label=None, y_label=None\\n):\\n    kernel_width = find_optimal_kernel_width_for_regression(x, y, kernel)\\n\\n    print(f\\\"Optimal kernel width: {kernel_width:.3f}\\\")\\n\\n    regressor = KernelLinearRegressor(kernel, kernel_width)\\n    regressor.fit(x, y)\\n    y_pred = regressor.predict(x)\\n\\n    plt.title(\\\"Kernel linear regression\\\")\\n    plt.scatter(x, y, marker=\\\".\\\", label=\\\"sample\\\")\\n    x_sorted_indices = np.argsort(x)\\n    x_sorted = x[x_sorted_indices]\\n    y_pred_sorted_by_x = y_pred[x_sorted_indices]\\n    plt.plot(x_sorted, y_pred_sorted_by_x, label=label, c=\\\"orange\\\")\\n    plt.xlabel(x_label)\\n    plt.ylabel(y_label)\\n    plt.fill_between(\\n        x_sorted,\\n        *regressor.compute_confidence_band(confidence_level=confidence_level),\\n        alpha=0.3,\\n        label=f\\\"{confidence_level:.2f} confidence band\\\",\\n    )\\n    plt.legend()\";\n",
       "                var nbb_formatted_code = \"def plot_kernel_linear_regression(\\n    x, y, kernel, confidence_level=0.95, label=None, x_label=None, y_label=None\\n):\\n    kernel_width = find_optimal_kernel_width_for_regression(x, y, kernel)\\n\\n    print(f\\\"Optimal kernel width: {kernel_width:.3f}\\\")\\n\\n    regressor = KernelLinearRegressor(kernel, kernel_width)\\n    regressor.fit(x, y)\\n    y_pred = regressor.predict(x)\\n\\n    plt.title(\\\"Kernel linear regression\\\")\\n    plt.scatter(x, y, marker=\\\".\\\", label=\\\"sample\\\")\\n    x_sorted_indices = np.argsort(x)\\n    x_sorted = x[x_sorted_indices]\\n    y_pred_sorted_by_x = y_pred[x_sorted_indices]\\n    plt.plot(x_sorted, y_pred_sorted_by_x, label=label, c=\\\"orange\\\")\\n    plt.xlabel(x_label)\\n    plt.ylabel(y_label)\\n    plt.fill_between(\\n        x_sorted,\\n        *regressor.compute_confidence_band(confidence_level=confidence_level),\\n        alpha=0.3,\\n        label=f\\\"{confidence_level:.2f} confidence band\\\",\\n    )\\n    plt.legend()\";\n",
       "                var nbb_cells = Jupyter.notebook.get_cells();\n",
       "                for (var i = 0; i < nbb_cells.length; ++i) {\n",
       "                    if (nbb_cells[i].input_prompt_number == nbb_cell_id) {\n",
       "                        if (nbb_cells[i].get_text() == nbb_unformatted_code) {\n",
       "                             nbb_cells[i].set_text(nbb_formatted_code);\n",
       "                        }\n",
       "                        break;\n",
       "                    }\n",
       "                }\n",
       "            }, 500);\n",
       "            "
      ],
      "text/plain": [
       "<IPython.core.display.Javascript object>"
      ]
     },
     "metadata": {},
     "output_type": "display_data"
    },
    {
     "data": {
      "application/javascript": [
       "\n",
       "            setTimeout(function() {\n",
       "                var nbb_cell_id = 1584;\n",
       "                var nbb_unformatted_code = \"def plot_kernel_linear_regression(\\n    x, y, kernel, confidence_level=0.95, label=None, x_label=None, y_label=None\\n):\\n    kernel_width = find_optimal_kernel_width_for_regression(x, y, kernel)\\n\\n    print(f\\\"Optimal kernel width: {kernel_width:.3f}\\\")\\n\\n    regressor = KernelLinearRegressor(kernel, kernel_width)\\n    regressor.fit(x, y)\\n    y_pred = regressor.predict(x)\\n\\n    plt.title(\\\"Kernel linear regression\\\")\\n    plt.scatter(x, y, marker=\\\".\\\", label=\\\"sample\\\")\\n    x_sorted_indices = np.argsort(x)\\n    x_sorted = x[x_sorted_indices]\\n    y_pred_sorted_by_x = y_pred[x_sorted_indices]\\n    plt.plot(x_sorted, y_pred_sorted_by_x, label=label, c=\\\"orange\\\")\\n    plt.xlabel(x_label)\\n    plt.ylabel(y_label)\\n    plt.fill_between(\\n        x_sorted,\\n        *regressor.compute_confidence_band(confidence_level=confidence_level),\\n        alpha=0.3,\\n        label=f\\\"{confidence_level:.2f} confidence band\\\",\\n    )\\n    plt.legend()\";\n",
       "                var nbb_formatted_code = \"def plot_kernel_linear_regression(\\n    x, y, kernel, confidence_level=0.95, label=None, x_label=None, y_label=None\\n):\\n    kernel_width = find_optimal_kernel_width_for_regression(x, y, kernel)\\n\\n    print(f\\\"Optimal kernel width: {kernel_width:.3f}\\\")\\n\\n    regressor = KernelLinearRegressor(kernel, kernel_width)\\n    regressor.fit(x, y)\\n    y_pred = regressor.predict(x)\\n\\n    plt.title(\\\"Kernel linear regression\\\")\\n    plt.scatter(x, y, marker=\\\".\\\", label=\\\"sample\\\")\\n    x_sorted_indices = np.argsort(x)\\n    x_sorted = x[x_sorted_indices]\\n    y_pred_sorted_by_x = y_pred[x_sorted_indices]\\n    plt.plot(x_sorted, y_pred_sorted_by_x, label=label, c=\\\"orange\\\")\\n    plt.xlabel(x_label)\\n    plt.ylabel(y_label)\\n    plt.fill_between(\\n        x_sorted,\\n        *regressor.compute_confidence_band(confidence_level=confidence_level),\\n        alpha=0.3,\\n        label=f\\\"{confidence_level:.2f} confidence band\\\",\\n    )\\n    plt.legend()\";\n",
       "                var nbb_cells = Jupyter.notebook.get_cells();\n",
       "                for (var i = 0; i < nbb_cells.length; ++i) {\n",
       "                    if (nbb_cells[i].input_prompt_number == nbb_cell_id) {\n",
       "                        if (nbb_cells[i].get_text() == nbb_unformatted_code) {\n",
       "                             nbb_cells[i].set_text(nbb_formatted_code);\n",
       "                        }\n",
       "                        break;\n",
       "                    }\n",
       "                }\n",
       "            }, 500);\n",
       "            "
      ],
      "text/plain": [
       "<IPython.core.display.Javascript object>"
      ]
     },
     "metadata": {},
     "output_type": "display_data"
    }
   ],
   "source": [
    "plot_kernel_linear_regression(\n",
    "    x=x,\n",
    "    y=y,\n",
    "    kernel=scipy.stats.distributions.norm().pdf,\n",
    "    label=\"Linear regression with gauss kernel\",\n",
    "    x_label=\"Al\",\n",
    "    y_label=\"RI\",\n",
    ")"
   ]
  },
  {
   "cell_type": "code",
   "execution_count": null,
   "id": "09f244e6",
   "metadata": {},
   "outputs": [],
   "source": []
  }
 ],
 "metadata": {
  "kernelspec": {
   "display_name": "Python 3 (ipykernel)",
   "language": "python",
   "name": "python3"
  },
  "language_info": {
   "codemirror_mode": {
    "name": "ipython",
    "version": 3
   },
   "file_extension": ".py",
   "mimetype": "text/x-python",
   "name": "python",
   "nbconvert_exporter": "python",
   "pygments_lexer": "ipython3",
   "version": "3.11.8"
  }
 },
 "nbformat": 4,
 "nbformat_minor": 5
}
