{
 "cells": [
  {
   "cell_type": "markdown",
   "metadata": {},
   "source": [
    "# Алгоритмы интеллектуальной обработки больших объемов данных\n",
    "## Домашнее задание №3 - Дерево решений\n"
   ]
  },
  {
   "cell_type": "markdown",
   "metadata": {},
   "source": [
    "**Общая информация**\n",
    "\n",
    "**Срок сдачи:** до 27 ноября 2017, 23:59   \n",
    "**Штраф за опоздание:** -2 балла после 23:59  4 декабря, -4 балла после 23:59 11 декабря, -6 баллов после 23:59 18 декабря\n",
    "\n",
    "При отправлении ДЗ указывайте фамилию в названии файла   \n",
    "\n",
    "\n",
    "Присылать ДЗ необходимо в виде ссылки на свой github репозиторий в slack @alkhamush\n",
    "Необходимо в slack создать таск в приватный чат:   \n",
    "/todo Фамилия Имя *ссылка на гитхаб* @alkhamush   \n",
    "Пример:   \n",
    "/todo Ксения Стройкова https://github.com/stroykova/spheremailru/stroykova_hw1.ipynb @alkhamush   \n",
    "\n",
    "Используйте данный Ipython Notebook при оформлении домашнего задания."
   ]
  },
  {
   "cell_type": "markdown",
   "metadata": {},
   "source": [
    "**Разбаловка:**   \n",
    "За задание можно получить 10 баллов. Для этого нужно следующее:\n",
    "1. Там, где написано \"Ваш код\", нужно реализовать метод или часть метода\n",
    "2. Там, где написано \"Что делает этот блок кода?\", нужно разобраться в блоке кода и в комментарии написать, что он делает    \n",
    "3. Добиться, чтобы в пункте \"Проверка скорости работы\" Ваша реализация работала чуть быстрее, чем у дерева из sklearn\n",
    "4. Добиться, чтобы в пункте \"Проверка качества работы\" Ваша реализация работала качественнее, чем у дерева из sklearn"
   ]
  },
  {
   "cell_type": "code",
   "execution_count": 1,
   "metadata": {
    "collapsed": true
   },
   "outputs": [],
   "source": [
    "from time import time\n",
    "\n",
    "import matplotlib.pyplot as plt\n",
    "import numpy as np\n",
    "import pandas as pd\n",
    "\n",
    "from scipy import optimize\n",
    "from sklearn.metrics import accuracy_score\n",
    "from sklearn.model_selection import KFold\n",
    "from sklearn.tree import DecisionTreeClassifier\n",
    "\n",
    "%matplotlib inline"
   ]
  },
  {
   "cell_type": "code",
   "execution_count": null,
   "metadata": {
    "collapsed": true
   },
   "outputs": [],
   "source": [
    "class MyDecisionTreeClassifier(MyDecisionTreeClassifier_original):\n",
    "    def __init__(self, **kwargs):\n",
    "        self.min_samples_leaf = kwargs.pop('min_samples_leaf', 1)\n",
    "        super(MyDecisionTreeClassifier, self).__init__(**kwargs)\n",
    "        \n",
    "    def _find_threshold(self, x, y):\n",
    "        sorted_x, sorted_y = self._sort_samples(x, y)\n",
    "        class_number = np.unique(y).shape[0]\n",
    "        \n",
    "        splitted_sorted_x = sorted_x[self.min_samples_leaf - 1:len(sorted_y) - self.min_samples_leaf + 1]\n",
    "        r_border_ids = np.where(splitted_sorted_x[:-1] != splitted_sorted_x[1:])[0] + self.min_samples_leaf\n",
    "        \n",
    "        if (len(r_border_ids) == 0) or (class_number == 1):\n",
    "            return None, float('+inf')\n",
    "        \n",
    "        one_hot_code = np.zeros((sorted_y.shape[0], class_number))\n",
    "        one_hot_code[np.arange(sorted_y.shape[0]), sorted_y] = 1\n",
    "        \n",
    "        l_class_count = np.cumsum(one_hot_code, axis=0)[r_border_ids - 1]        \n",
    "        r_class_count = np.bincount(sorted_y, minlength=class_number) - l_class_count\n",
    "        l_sizes = r_border_ids.reshape(l_class_count.shape[0], 1)\n",
    "        r_sizes = sorted_y.shape[0] - l_sizes\n",
    "\n",
    "        gs = self.G_function(l_class_count, l_sizes, r_class_count, r_sizes)\n",
    "        idx = np.argmin(gs)\n",
    "        \n",
    "        left_el_id = l_sizes[idx][0]\n",
    "        gs[idx], sorted_x[left_el_id]\n",
    "        return gs[idx], 1.0 * sorted_x[left_el_id - 1] * left_el_id / sorted_y.shape[0] + \\\n",
    "    1.0 * sorted_x[left_el_id] * (1.0 - 1.0 * left_el_id / sorted_y.shape[0])\n"
   ]
  },
  {
   "cell_type": "code",
   "execution_count": 34,
   "metadata": {},
   "outputs": [
    {
     "data": {
      "text/plain": [
       "array([1, 2], dtype=int64)"
      ]
     },
     "execution_count": 34,
     "metadata": {},
     "output_type": "execute_result"
    }
   ],
   "source": [
    "splitted_sorted_y = np.array([1,1,2,1])\n",
    "np.where(splitted_sorted_y[:-1] != splitted_sorted_y[1:])[0]"
   ]
  },
  {
   "cell_type": "code",
   "execution_count": 51,
   "metadata": {},
   "outputs": [
    {
     "data": {
      "text/plain": [
       "array([[0, 0, 0, 0, 0],\n",
       "       [5, 6, 7, 8, 9]])"
      ]
     },
     "execution_count": 51,
     "metadata": {},
     "output_type": "execute_result"
    }
   ],
   "source": [
    "np.arange(10).reshape((2, 5)) * np.arange(2).reshape((2,1))"
   ]
  },
  {
   "cell_type": "code",
   "execution_count": 84,
   "metadata": {},
   "outputs": [
    {
     "data": {
      "text/plain": [
       "(120269L, 10L)"
      ]
     },
     "execution_count": 84,
     "metadata": {},
     "output_type": "execute_result"
    }
   ],
   "source": [
    "x.shape"
   ]
  },
  {
   "cell_type": "code",
   "execution_count": 96,
   "metadata": {},
   "outputs": [
    {
     "data": {
      "text/plain": [
       "array([[  7.66126609e-01,   4.50000000e+01,   2.00000000e+00,\n",
       "          8.02982129e-01,   9.12000000e+03,   1.30000000e+01,\n",
       "          0.00000000e+00,   6.00000000e+00,   0.00000000e+00,\n",
       "          2.00000000e+00],\n",
       "       [  9.57151019e-01,   4.00000000e+01,   0.00000000e+00,\n",
       "          1.21876201e-01,   2.60000000e+03,   4.00000000e+00,\n",
       "          0.00000000e+00,   0.00000000e+00,   0.00000000e+00,\n",
       "          1.00000000e+00]])"
      ]
     },
     "execution_count": 96,
     "metadata": {},
     "output_type": "execute_result"
    }
   ],
   "source": [
    "x[:2]"
   ]
  },
  {
   "cell_type": "code",
   "execution_count": 115,
   "metadata": {
    "collapsed": true
   },
   "outputs": [],
   "source": [
    "a = np.array([[2,3], [4,1]])"
   ]
  },
  {
   "cell_type": "code",
   "execution_count": 116,
   "metadata": {},
   "outputs": [
    {
     "data": {
      "text/plain": [
       "array([[[2, 3],\n",
       "        [4, 1]],\n",
       "\n",
       "       [[4, 1],\n",
       "        [2, 3]]])"
      ]
     },
     "execution_count": 116,
     "metadata": {},
     "output_type": "execute_result"
    }
   ],
   "source": [
    "a[a.argsort()]"
   ]
  },
  {
   "cell_type": "code",
   "execution_count": 156,
   "metadata": {},
   "outputs": [
    {
     "data": {
      "text/plain": [
       "array([3])"
      ]
     },
     "execution_count": 156,
     "metadata": {},
     "output_type": "execute_result"
    }
   ],
   "source": [
    "np.array([1,2,3]).reshape(-1,1)[2]"
   ]
  },
  {
   "cell_type": "code",
   "execution_count": 109,
   "metadata": {},
   "outputs": [
    {
     "data": {
      "text/plain": [
       "array([6, 8, 0, 3, 2, 9, 7, 5, 1, 4], dtype=int64)"
      ]
     },
     "execution_count": 109,
     "metadata": {},
     "output_type": "execute_result"
    }
   ],
   "source": [
    "x.argsort()[0]"
   ]
  },
  {
   "cell_type": "code",
   "execution_count": 114,
   "metadata": {},
   "outputs": [
    {
     "data": {
      "text/plain": [
       "array([  0.00000000e+00,   0.00000000e+00,   7.66126609e-01,\n",
       "         8.02982129e-01,   2.00000000e+00,   2.00000000e+00,\n",
       "         6.00000000e+00,   1.30000000e+01,   4.50000000e+01,\n",
       "         9.12000000e+03])"
      ]
     },
     "execution_count": 114,
     "metadata": {},
     "output_type": "execute_result"
    }
   ],
   "source": [
    "x[0][x[0].argsort()]"
   ]
  },
  {
   "cell_type": "code",
   "execution_count": 136,
   "metadata": {},
   "outputs": [
    {
     "name": "stdout",
     "output_type": "stream",
     "text": [
      "not found\n"
     ]
    }
   ],
   "source": [
    "b = np.array([1,1,2,2,2,2,2,2,2,2])\n",
    "min_leaf = 2\n",
    "cut_b = b[min_leaf:-min_leaf]\n",
    "border_ids = np.where(cut_b[1:] != cut_b[:-1])[0] + 1 + min_leaf\n",
    "if len(border_ids) == 0:\n",
    "    print \"not found\""
   ]
  },
  {
   "cell_type": "code",
   "execution_count": 154,
   "metadata": {},
   "outputs": [
    {
     "data": {
      "text/plain": [
       "array([[ 5.,  1.,  1.,  0.,  1.],\n",
       "       [ 5.,  1.,  7.,  0.,  1.],\n",
       "       [ 5.,  1.,  7.,  7.,  1.]])"
      ]
     },
     "execution_count": 154,
     "metadata": {},
     "output_type": "execute_result"
    }
   ],
   "source": [
    "one_hot_code = np.zeros((3, 5))\n",
    "one_hot_code[np.arange(3), [0,2,3]] = 1\n",
    "c = one_hot_code * (np.array([5,6,7]).reshape(-1,1))\n",
    "c[0] += np.bincount([1,2,4], minlength=5)\n",
    "np.cumsum(c, axis=0)"
   ]
  },
  {
   "cell_type": "code",
   "execution_count": 171,
   "metadata": {
    "collapsed": true
   },
   "outputs": [],
   "source": [
    "def __misclass(l_c, l_s, r_c, r_s):\n",
    "    return 1 - np.max(l_c, axis=1) / l_s - np.max(r_c, axis=1) / r_s"
   ]
  },
  {
   "cell_type": "code",
   "execution_count": 168,
   "metadata": {},
   "outputs": [
    {
     "data": {
      "text/plain": [
       "array([3, 4])"
      ]
     },
     "execution_count": 168,
     "metadata": {},
     "output_type": "execute_result"
    }
   ],
   "source": [
    "np.max(np.array([[1,3], [2,4]]), axis=1)"
   ]
  },
  {
   "cell_type": "code",
   "execution_count": 174,
   "metadata": {},
   "outputs": [
    {
     "data": {
      "text/plain": [
       "array([ 0.25      ,  0.42857143])"
      ]
     },
     "execution_count": 174,
     "metadata": {},
     "output_type": "execute_result"
    }
   ],
   "source": [
    "__misclass(np.array([[1,3], [2.0,4]]), np.array([4,7]), np.array([[1,3], [2,4]]), np.array([4,7]))"
   ]
  },
  {
   "cell_type": "code",
   "execution_count": 202,
   "metadata": {},
   "outputs": [
    {
     "data": {
      "text/plain": [
       "True"
      ]
     },
     "execution_count": 202,
     "metadata": {},
     "output_type": "execute_result"
    }
   ],
   "source": [
    "float('+inf') == np.inf"
   ]
  },
  {
   "cell_type": "code",
   "execution_count": 286,
   "metadata": {},
   "outputs": [
    {
     "data": {
      "text/plain": [
       "0"
      ]
     },
     "execution_count": 286,
     "metadata": {},
     "output_type": "execute_result"
    }
   ],
   "source": [
    "len(np.array([]) + 1)"
   ]
  },
  {
   "cell_type": "code",
   "execution_count": 500,
   "metadata": {
    "collapsed": true
   },
   "outputs": [],
   "source": [
    "class MyDecisionTreeClassifier:\n",
    "    NON_LEAF_TYPE = 0\n",
    "    LEAF_TYPE = 1\n",
    "\n",
    "    def __init__(self, \n",
    "                 min_samples_split=2,\n",
    "                 max_depth=None,\n",
    "                 sufficient_share=1.0,\n",
    "                 criterion='gini',\n",
    "                 max_features=None):\n",
    "        self.tree = dict()\n",
    "        self.min_samples_split = min_samples_split\n",
    "        self.max_depth = max_depth\n",
    "        self.sufficient_share = sufficient_share\n",
    "        self.num_class = -1\n",
    "        if criterion == 'gini':\n",
    "            self.G_function = self.__gini\n",
    "        elif criterion == 'entropy':\n",
    "            self.G_function = self.__entropy\n",
    "        elif criterion == 'misclass':\n",
    "            self.G_function = self.__misclass\n",
    "        else:\n",
    "            print 'invalid criterion name'\n",
    "            raise\n",
    "\n",
    "        if max_features == 'sqrt':\n",
    "            self.get_feature_ids = self.__get_feature_ids_sqrt\n",
    "        elif max_features == 'log2':\n",
    "            self.get_feature_ids = self.__get_feature_ids_log2\n",
    "        elif max_features == None:\n",
    "            self.get_feature_ids = self.__get_feature_ids_N\n",
    "        else:\n",
    "            print 'invalid max_features name'\n",
    "            raise\n",
    "\n",
    "    def __gini(self, l_c, l_s, r_c, r_s):\n",
    "        l_s = l_s.astype('float')\n",
    "        r_s = r_s.astype('float')\n",
    "        return ((1 - ((l_c / l_s) ** 2).sum(axis=1)) * l_s.T + (1 - ((r_c / r_s) ** 2).sum(axis=1)) * r_s.T)[0].T\n",
    "    \n",
    "    def __entropy(self, l_c, l_s, r_c, r_s): #check correct formulae\n",
    "        l_s = l_s.astype('float')\n",
    "        r_s = r_s.astype('float')\n",
    "        return (-((l_c / l_s) * np.log(l_c / l_s)).sum(axis=1)) * l_s.T - ((r_c / r_s) * np.log(r_c / r_s)).sum(axis=1) * r_s.T\n",
    "\n",
    "    def __misclass(self, l_c, l_s, r_c, r_s):\n",
    "        l_s = l_s.astype('float')\n",
    "        r_s = r_s.astype('float')\n",
    "        return (1 - np.max(l_c, axis=1) / l_s) * l_s.T + (1 - np.max(r_c, axis=1) / r_s) * r_s.T\n",
    "\n",
    "    def __get_feature_ids_sqrt(self, n_feature):\n",
    "        feature_ids = range(n_feature)\n",
    "        np.random.shuffle(feature_ids)\n",
    "        return feature_ids[int(np.sqrt(n_feature))]\n",
    "        \n",
    "    def __get_feature_ids_log2(self, n_feature):\n",
    "        feature_ids = range(n_feature)\n",
    "        np.random.shuffle(feature_ids)\n",
    "        return feature_ids[int(np.log2(n_feature))]\n",
    "\n",
    "    def __get_feature_ids_N(self, n_feature):\n",
    "        return range(n_feature)\n",
    "    \n",
    "    def __sort_samples(self, x, y):\n",
    "        sorted_idx = x.argsort()\n",
    "        return x[sorted_idx], y[sorted_idx]\n",
    "\n",
    "    def __div_samples(self, x, y, feature_id, threshold):\n",
    "        left_mask = x[:, feature_id] > threshold\n",
    "        right_mask = ~left_mask\n",
    "        return x[left_mask], x[right_mask], y[left_mask], y[right_mask]\n",
    "    \n",
    "    def test(self, x, y, feature):\n",
    "        _, thresh = self._find_threshold(x[:, feature], y)\n",
    "        return self.__div_samples(x, y, feature, thresh), _, thresh\n",
    "    \n",
    "    def _find_threshold(self, x, y):\n",
    "        # Что делает этот блок кода?\n",
    "        # Сортирует параметр x и использует полученный индекс для y,\n",
    "        # чтобы сохранить соответствие между значением параметра и целевой переменной.\n",
    "        # class_number - число различных классов, которым принадлежат элементы в узле\n",
    "        sorted_x, sorted_y = self.__sort_samples(x, y)\n",
    "        class_number = np.unique(y).shape[0]\n",
    "        \n",
    "        # Что делает этот блок кода?\n",
    "        # Поскольку в листьях не может быть меньше min_samples_split элементов, мы можем делить только по индексам\n",
    "        # в splitted_sorted_y. В r_border_ids вычисляется индекс, где следующий класс не равен предыдущему и затем смещается,\n",
    "        # чтобы получить индексы, соответствующие возможным разбиениям в sorted_y, причем они указывают на первый элемент \n",
    "        # отличного класса.\n",
    "        splitted_sorted_y = sorted_y[self.min_samples_split:-self.min_samples_split]\n",
    "        r_border_ids = np.where(splitted_sorted_y[:-1] != splitted_sorted_y[1:])[0] + (self.min_samples_split + 1)\n",
    "        \n",
    "        if len(r_border_ids) == 0:\n",
    "            return float('+inf'), None\n",
    "        \n",
    "        # Что делает этот блок кода?\n",
    "        # eq_el_count -- то, сколько элеметов принадлежит каждому следующему классу\n",
    "        # one_hot_code -- в каждой строчке записано то, какой класс будет крайним слева, если разделить по соответствущему \n",
    "        # id в r_borders_id\n",
    "        # class increments -- то же самое, но кроме id класса в каждой строчке можно понять, сколько \n",
    "        # элементов принадлежит каждой группе подряд идущих элементов одного класса.\n",
    "        # Причем в первой строчке также учитываются те элементы, которые есть в первых min_samples_split элементах\n",
    "        eq_el_count = r_border_ids - np.append([self.min_samples_split], r_border_ids[:-1])\n",
    "        one_hot_code = np.zeros((r_border_ids.shape[0], class_number))\n",
    "        one_hot_code[np.arange(r_border_ids.shape[0]), sorted_y[r_border_ids - 1]] = 1\n",
    "        class_increments = one_hot_code * eq_el_count.reshape(-1, 1)\n",
    "        class_increments[0] = class_increments[0] + np.bincount(y[:self.min_samples_split], minlength=class_number)\n",
    "        \n",
    "        # Что делает этот блок кода?\n",
    "        # l_class_count -- в каждой строчке написано, сколько элементов каждого класса будет в левом узле, если разбить\n",
    "        # по соответствующему элементу\n",
    "        # r_class_count -- то, сколько в правом узле\n",
    "        # l_sizes -- размеры левого узла при разбиениях\n",
    "        # r_sizes -- размеры правого\n",
    "        l_class_count = np.cumsum(class_increments, axis=0)        \n",
    "        r_class_count = np.bincount(sorted_y) - l_class_count #sorted_y\n",
    "        l_sizes = r_border_ids.reshape(l_class_count.shape[0], 1)\n",
    "        r_sizes = sorted_y.shape[0] - l_sizes\n",
    "\n",
    "        # Что делает этот блок кода?\n",
    "        # Подсчитывается ошибка при каждом разбиении и берется то, при котором ошибка минимальна\n",
    "        \n",
    "        gs = self.G_function(l_class_count, l_sizes, r_class_count, r_sizes)\n",
    "        idx = np.argmin(gs)\n",
    "        # print l_class_count.shape, l_sizes.shape, l_class_count[:5], class_number, gs.shape\n",
    "        # Что делает этот блок кода?\n",
    "        # left_el_id -- указывает на крайний элемент правого узла\n",
    "        # Функция возращает ошибку, которую даст лучшее разбиение и порог, по которому делится узел.\n",
    "        left_el_id = l_sizes[idx][0]\n",
    "        return gs[idx], (sorted_x[left_el_id] + sorted_x[left_el_id + 1]) / 2.0\n",
    "\n",
    "    def _fit_node(self, x, y, node_id, depth, pred_f=-1):\n",
    "\n",
    "        leaf = [\n",
    "            self.__class__.LEAF_TYPE, \n",
    "            np.argmax(np.bincount(y, minlength=self.num_class)), \n",
    "            np.bincount(y, minlength=self.num_class) * 1.0 / y.shape[0]\n",
    "        ]\n",
    "        if depth == self.max_depth:\n",
    "            self.tree[node_id] = leaf\n",
    "            return\n",
    "        # self.tree\n",
    "        # self.max_depth\n",
    "        # self.sufficient_share\n",
    "        # self.min_samples_split\n",
    "        feature_ids = self.get_feature_ids(x.shape[1])\n",
    "        split_data = []\n",
    "        for feature in feature_ids:\n",
    "            error, threshold = self._find_threshold(x[:, feature], y)\n",
    "            split_data.append([feature, error, threshold])\n",
    "        best_split = min(split_data, key=lambda split: split[1])\n",
    "        # self.get_feature_ids\n",
    "        # self._find_threshold\n",
    "        # self.__div_samples\n",
    "        # self._fit_node\n",
    "        x_l, x_r, y_l, y_r = self.__div_samples(x, y, best_split[0], best_split[2])\n",
    "        if best_split[1] == np.inf or not all([i.shape[0] for i in [y_l, y_r]]):\n",
    "            self.tree[node_id] = leaf\n",
    "            return\n",
    "        print 'node'\n",
    "        self.tree[node_id] = (self.__class__.NON_LEAF_TYPE, best_split[0], best_split[2])\n",
    "        self._fit_node(x_l, y_l, 2 * node_id + 1, depth + 1)\n",
    "        self._fit_node(x_r, y_r, 2 * node_id + 2, depth + 1)\n",
    "    \n",
    "    def fit(self, x, y):\n",
    "        self.num_class = np.unique(y).size\n",
    "        self._fit_node(x, y, 0, 0) \n",
    "\n",
    "    def __predict_class(self, x, node_id):\n",
    "        node = self.tree[node_id]\n",
    "        if node[0] == self.__class__.NON_LEAF_TYPE:\n",
    "            _, feature_id, threshold = node\n",
    "            if x[feature_id] > threshold:\n",
    "                return self.__predict_class(x, 2 * node_id + 1)\n",
    "            else:\n",
    "                return self.__predict_class(x, 2 * node_id + 2)\n",
    "        else:\n",
    "            return node[1]\n",
    "\n",
    "    def __predict_probs(self, x, node_id):\n",
    "        node = self.tree[node_id]\n",
    "        if node[0] == self.__class__.NON_LEAF_TYPE:\n",
    "            _, feature_id, threshold = node\n",
    "            if x[feature_id] > threshold:\n",
    "                return self.__predict_probs(x, 2 * node_id + 1)\n",
    "            else:\n",
    "                return self.__predict_probs(x, 2 * node_id + 2)\n",
    "        else:\n",
    "            return node[2]\n",
    "        \n",
    "    def predict(self, X):\n",
    "        return np.array([self.__predict_class(x, 0) for x in X])\n",
    "    \n",
    "    def predict_probs(self, X):\n",
    "        return np.array([self.__predict_probs(x, 0) for x in X])\n",
    "\n",
    "    def fit_predict(self, x_train, y_train, predicted_x):\n",
    "        self.fit(x_train, y_train)\n",
    "        return self.predict(predicted_x)"
   ]
  },
  {
   "cell_type": "code",
   "execution_count": 421,
   "metadata": {},
   "outputs": [
    {
     "data": {
      "text/plain": [
       "(1, array([ 0.        ,  0.15384615,  0.07692308,  0.07692308,  0.        ,\n",
       "         0.        ,  0.07692308]))"
      ]
     },
     "execution_count": 421,
     "metadata": {},
     "output_type": "execute_result"
    }
   ],
   "source": [
    "y = np.array([1,1,2,3,6])\n",
    "np.argmax(np.bincount(y)), np.bincount(y, minlength=\n",
    "                                      ) * 1.0 / y.sum()"
   ]
  },
  {
   "cell_type": "code",
   "execution_count": 419,
   "metadata": {
    "scrolled": true
   },
   "outputs": [
    {
     "data": {
      "text/plain": [
       "1"
      ]
     },
     "execution_count": 419,
     "metadata": {},
     "output_type": "execute_result"
    }
   ],
   "source": [
    "r = np.array([1,1,2])\n",
    "np.argmax(np.bincount(r))# / r.sum()"
   ]
  },
  {
   "cell_type": "code",
   "execution_count": 410,
   "metadata": {},
   "outputs": [
    {
     "name": "stdout",
     "output_type": "stream",
     "text": [
      "14538.7560675 0.703345751\n"
     ]
    }
   ],
   "source": [
    "feature = 0\n",
    "\n",
    "def __sort_samples(x, y):\n",
    "    sorted_idx = x.argsort()\n",
    "    return x[sorted_idx], y[sorted_idx]\n",
    "\n",
    "# Что делает этот блок кода?\n",
    "# Сортирует параметр x и использует полученный индекс для y,\n",
    "# чтобы сохранить соответствие между значением параметра и целевой переменной.\n",
    "# class_number - число различных классов, которым принадлежат элементы в узле\n",
    "sorted_x, sorted_y = __sort_samples(x[:, 0], y)\n",
    "class_number = np.unique(y).shape[0]\n",
    "\n",
    "# Что делает этот блок кода?\n",
    "# Поскольку в листьях не может быть меньше min_samples_split элементов, мы можем делить только по индексам\n",
    "# в splitted_sorted_y. В r_border_ids вычисляется индекс, где следующий класс не равен предыдущему и затем смещается,\n",
    "# чтобы получить индексы, соответствующие возможным разбиениям в sorted_y, причем они указывают на первый элемент \n",
    "# отличного класса.\n",
    "min_samples_split = 2\n",
    "\n",
    "splitted_sorted_y = sorted_y[min_samples_split:-min_samples_split] # min_samples_leaf? -1 +1?\n",
    "# splitted_sorted_y = sorted_y # min split\n",
    "# splitted_sorted = sorted_y[self.min_samples_split - 1: -self.min_samples_split + 1] # min leaf\n",
    "r_border_ids = np.where(splitted_sorted_y[:-1] != splitted_sorted_y[1:])[0] + (min_samples_split + 1)\n",
    "\n",
    "if len(r_border_ids) == 0:\n",
    "    print float('+inf'), None \n",
    "\n",
    "# Что делает этот блок кода?\n",
    "# eq_el_count -- то, сколько элеметов принадлежит каждому следующему классу\n",
    "# one_hot_code -- в каждой строчке записано то, какой класс будет крайним слева, если разделить по соответствущему \n",
    "# id в r_borders_id\n",
    "# class increments -- то же самое, но кроме id класса в каждой строчке можно понять, сколько \n",
    "# элементов принадлежит каждой группе подряд идущих элементов одного класса.\n",
    "# Причем в первой строчке также учитываются те элементы, которые есть в первых min_samples_split элементах\n",
    "eq_el_count = r_border_ids - np.append([min_samples_split], r_border_ids[:-1])\n",
    "one_hot_code = np.zeros((r_border_ids.shape[0], class_number))\n",
    "one_hot_code[np.arange(r_border_ids.shape[0]), sorted_y[r_border_ids - 1]] = 1\n",
    "class_increments = one_hot_code * eq_el_count.reshape(-1, 1) # broadcasting\n",
    "class_increments[0] = class_increments[0] + np.bincount(sorted_y[:min_samples_split], minlength=class_number)\n",
    "\n",
    "# Что делает этот блок кода?\n",
    "# l_class_count -- в каждой строчке написано, сколько элементов каждого класса будет в левом узле, если разбить\n",
    "# по соответствующему элементу\n",
    "# r_class_count -- то, сколько в правом узле\n",
    "# l_sizes -- размеры левого узла при разбиениях\n",
    "# r_sizes -- размеры правого\n",
    "l_class_count = np.cumsum(class_increments, axis=0)        \n",
    "r_class_count = np.bincount(sorted_y) - l_class_count #sorted_y\n",
    "l_sizes = r_border_ids.reshape(l_class_count.shape[0], 1)\n",
    "r_sizes = sorted_y.shape[0] - l_sizes\n",
    "\n",
    "# Что делает этот блок кода?\n",
    "# Подсчитывается ошибка при каждом разбиении и берется то, при котором ошибка минимальна\n",
    "\n",
    "gs = __gini(l_class_count, l_sizes, r_class_count, r_sizes)\n",
    "idx = np.argmin(gs)\n",
    "# print l_class_count.shape, l_sizes.shape, l_class_count[:5], class_number, gs.shape\n",
    "# Что делает этот блок кода?\n",
    "# left_el_id -- указывает на крайний элемент правого узла\n",
    "# Функция возращает ошибку, которую даст лучшее разбиение и порог, по которому делится узел.\n",
    "left_el_id = l_sizes[idx][0]\n",
    "if sorted_x[left_el_id + 1] == sorted_x[left_el_id] or sorted_x[left_el_id - 1] == sorted_x[left_el_id]:\n",
    "    pass\n",
    "    #print sorted_x[left_el_id - 1], sorted_x[left_el_id], sorted_x[left_el_id + 1]\n",
    "    #raise Exception()\n",
    "print gs[idx], (sorted_x[left_el_id] + sorted_x[left_el_id + 1]) / 2.0"
   ]
  },
  {
   "cell_type": "code",
   "execution_count": null,
   "metadata": {
    "collapsed": true
   },
   "outputs": [],
   "source": [
    "sorted_x"
   ]
  },
  {
   "cell_type": "code",
   "execution_count": 397,
   "metadata": {
    "collapsed": true
   },
   "outputs": [],
   "source": [
    "def __gini(l_c, l_s, r_c, r_s):\n",
    "    l_s = l_s.astype('float')\n",
    "    r_s = r_s.astype('float')\n",
    "    return ((1 - ((l_c / l_s) ** 2).sum(axis=1)) * l_s.T + (1 - ((r_c / r_s) ** 2).sum(axis=1)) * r_s.T)[0].T"
   ]
  },
  {
   "cell_type": "code",
   "execution_count": 377,
   "metadata": {},
   "outputs": [
    {
     "data": {
      "text/plain": [
       "array([7], dtype=int64)"
      ]
     },
     "execution_count": 377,
     "metadata": {},
     "output_type": "execute_result"
    }
   ],
   "source": [
    "splitted_sorted_y = np.array([1,1,1,1,1,1,])\n",
    "r_border_ids = np.where(splitted_sorted_y[:-1] != splitted_sorted_y[1:])[0] + 2\n",
    "r_border_ids"
   ]
  },
  {
   "cell_type": "code",
   "execution_count": 399,
   "metadata": {},
   "outputs": [
    {
     "data": {
      "text/plain": [
       "array([-18., -18., -18., ..., -18., -18., -18.])"
      ]
     },
     "execution_count": 399,
     "metadata": {},
     "output_type": "execute_result"
    }
   ],
   "source": [
    "a = np.ones((1234, 10))\n",
    "b = np.ones((1234, 1))\n",
    "__gini(a, b, a, b)"
   ]
  },
  {
   "cell_type": "code",
   "execution_count": 264,
   "metadata": {},
   "outputs": [
    {
     "data": {
      "text/plain": [
       "(1L, 1234L)"
      ]
     },
     "execution_count": 264,
     "metadata": {},
     "output_type": "execute_result"
    }
   ],
   "source": [
    "(1 - ((a/b)**2).sum(axis=1)* b.T).shape"
   ]
  },
  {
   "cell_type": "code",
   "execution_count": 265,
   "metadata": {},
   "outputs": [
    {
     "data": {
      "text/plain": [
       "(1234L, 1234L)"
      ]
     },
     "execution_count": 265,
     "metadata": {},
     "output_type": "execute_result"
    }
   ],
   "source": [
    "(1 - ((a/b)**2).sum(axis=1)* b).shape"
   ]
  },
  {
   "cell_type": "code",
   "execution_count": 327,
   "metadata": {},
   "outputs": [
    {
     "data": {
      "text/plain": [
       "(2L,)"
      ]
     },
     "execution_count": 327,
     "metadata": {},
     "output_type": "execute_result"
    }
   ],
   "source": [
    "y[[1,2]].shape"
   ]
  },
  {
   "cell_type": "code",
   "execution_count": 354,
   "metadata": {
    "collapsed": true
   },
   "outputs": [],
   "source": [
    "import pandas as pd"
   ]
  },
  {
   "cell_type": "code",
   "execution_count": 355,
   "metadata": {
    "collapsed": true
   },
   "outputs": [],
   "source": [
    "f = pd.read_csv(r'C:\\Users\\Surface\\Downloads\\TS_Koshman_task3.tsv', sep='\\t')"
   ]
  },
  {
   "cell_type": "code",
   "execution_count": 356,
   "metadata": {
    "collapsed": true
   },
   "outputs": [
    {
     "data": {
      "text/html": [
       "<div>\n",
       "<style>\n",
       "    .dataframe thead tr:only-child th {\n",
       "        text-align: right;\n",
       "    }\n",
       "\n",
       "    .dataframe thead th {\n",
       "        text-align: left;\n",
       "    }\n",
       "\n",
       "    .dataframe tbody tr th {\n",
       "        vertical-align: top;\n",
       "    }\n",
       "</style>\n",
       "<table border=\"1\" class=\"dataframe\">\n",
       "  <thead>\n",
       "    <tr style=\"text-align: right;\">\n",
       "      <th></th>\n",
       "      <th>https://www.kinopoisk.ru/film/tayna-koko-2017-679486/</th>\n",
       "      <th>8.5</th>\n",
       "      <th>Koshman</th>\n",
       "    </tr>\n",
       "  </thead>\n",
       "  <tbody>\n",
       "    <tr>\n",
       "      <th>0</th>\n",
       "      <td>https://www.kinopoisk.ru/film/proshchay-kristo...</td>\n",
       "      <td>6.0</td>\n",
       "      <td>Koshman</td>\n",
       "    </tr>\n",
       "    <tr>\n",
       "      <th>1</th>\n",
       "      <td>https://www.kinopoisk.ru/film/chastnoe-pioners...</td>\n",
       "      <td>7.5</td>\n",
       "      <td>Koshman</td>\n",
       "    </tr>\n",
       "    <tr>\n",
       "      <th>2</th>\n",
       "      <td>https://www.kinopoisk.ru/film/obet-molchaniya-...</td>\n",
       "      <td>5.5</td>\n",
       "      <td>Koshman</td>\n",
       "    </tr>\n",
       "    <tr>\n",
       "      <th>3</th>\n",
       "      <td>https://www.kinopoisk.ru/film/detki-naprokat-2...</td>\n",
       "      <td>6.0</td>\n",
       "      <td>Koshman</td>\n",
       "    </tr>\n",
       "    <tr>\n",
       "      <th>4</th>\n",
       "      <td>https://www.kinopoisk.ru/film/mister-felichita...</td>\n",
       "      <td>5.0</td>\n",
       "      <td>Koshman</td>\n",
       "    </tr>\n",
       "    <tr>\n",
       "      <th>5</th>\n",
       "      <td>https://www.kinopoisk.ru/film/legenda-o-kolovr...</td>\n",
       "      <td>6.5</td>\n",
       "      <td>Koshman</td>\n",
       "    </tr>\n",
       "    <tr>\n",
       "      <th>6</th>\n",
       "      <td>https://www.kinopoisk.ru/film/inostranets-2017...</td>\n",
       "      <td>7.0</td>\n",
       "      <td>Koshman</td>\n",
       "    </tr>\n",
       "    <tr>\n",
       "      <th>7</th>\n",
       "      <td>https://www.kinopoisk.ru/film/maksimalnyy-udar...</td>\n",
       "      <td>5.0</td>\n",
       "      <td>Koshman</td>\n",
       "    </tr>\n",
       "    <tr>\n",
       "      <th>8</th>\n",
       "      <td>https://www.kinopoisk.ru/film/atlantida-2017-6...</td>\n",
       "      <td>6.0</td>\n",
       "      <td>Koshman</td>\n",
       "    </tr>\n",
       "    <tr>\n",
       "      <th>9</th>\n",
       "      <td>https://www.kinopoisk.ru/film/konvert-2017-981...</td>\n",
       "      <td>8.0</td>\n",
       "      <td>Koshman</td>\n",
       "    </tr>\n",
       "  </tbody>\n",
       "</table>\n",
       "</div>"
      ],
      "text/plain": [
       "  https://www.kinopoisk.ru/film/tayna-koko-2017-679486/  8.5  Koshman\n",
       "0  https://www.kinopoisk.ru/film/proshchay-kristo...     6.0  Koshman\n",
       "1  https://www.kinopoisk.ru/film/chastnoe-pioners...     7.5  Koshman\n",
       "2  https://www.kinopoisk.ru/film/obet-molchaniya-...     5.5  Koshman\n",
       "3  https://www.kinopoisk.ru/film/detki-naprokat-2...     6.0  Koshman\n",
       "4  https://www.kinopoisk.ru/film/mister-felichita...     5.0  Koshman\n",
       "5  https://www.kinopoisk.ru/film/legenda-o-kolovr...     6.5  Koshman\n",
       "6  https://www.kinopoisk.ru/film/inostranets-2017...     7.0  Koshman\n",
       "7  https://www.kinopoisk.ru/film/maksimalnyy-udar...     5.0  Koshman\n",
       "8  https://www.kinopoisk.ru/film/atlantida-2017-6...     6.0  Koshman\n",
       "9  https://www.kinopoisk.ru/film/konvert-2017-981...     8.0  Koshman"
      ]
     },
     "execution_count": 356,
     "metadata": {},
     "output_type": "execute_result"
    }
   ],
   "source": [
    "f"
   ]
  },
  {
   "cell_type": "code",
   "execution_count": 371,
   "metadata": {
    "scrolled": true
   },
   "outputs": [
    {
     "data": {
      "text/plain": [
       "((1468L,),\n",
       " (118801L,),\n",
       " 14454.318572914994,\n",
       " 1.0,\n",
       " array([ 0.,  0.,  0., ...,  0.,  0.,  0.]))"
      ]
     },
     "execution_count": 371,
     "metadata": {},
     "output_type": "execute_result"
    }
   ],
   "source": [
    "feature = 8\n",
    "[x_l, x_r, y_l, y_r], g_score, thresh = my_clf.test(x, y, feature)\n",
    "y_l.shape, y_r.shape, g_score, thresh, x[:, feature]"
   ]
  },
  {
   "cell_type": "code",
   "execution_count": 374,
   "metadata": {
    "collapsed": true
   },
   "outputs": [
    {
     "data": {
      "text/plain": [
       "0.0     113994\n",
       "1.0       4807\n",
       "2.0        912\n",
       "3.0        268\n",
       "98.0       144\n",
       "4.0         85\n",
       "5.0         29\n",
       "6.0         16\n",
       "7.0          6\n",
       "96.0         4\n",
       "8.0          2\n",
       "9.0          1\n",
       "11.0         1\n",
       "dtype: int64"
      ]
     },
     "execution_count": 374,
     "metadata": {},
     "output_type": "execute_result"
    }
   ],
   "source": [
    "pd.Series(x[:, 8]).value_counts()"
   ]
  },
  {
   "cell_type": "code",
   "execution_count": 362,
   "metadata": {},
   "outputs": [
    {
     "data": {
      "text/plain": [
       "(15522.022945192162, 1.0)"
      ]
     },
     "execution_count": 362,
     "metadata": {},
     "output_type": "execute_result"
    }
   ],
   "source": [
    "a, b"
   ]
  },
  {
   "cell_type": "code",
   "execution_count": 316,
   "metadata": {
    "scrolled": true
   },
   "outputs": [
    {
     "data": {
      "text/plain": [
       "((5L,), (95L,))"
      ]
     },
     "execution_count": 316,
     "metadata": {},
     "output_type": "execute_result"
    }
   ],
   "source": [
    "x_l, x_r, y_l, y_r = my_clf.test(x[:100], y[:100], 7)\n",
    "y_l.shape, y_r.shape"
   ]
  },
  {
   "cell_type": "code",
   "execution_count": 444,
   "metadata": {
    "collapsed": true
   },
   "outputs": [],
   "source": [
    "my_clf = MyDecisionTreeClassifier(min_samples_split=2)"
   ]
  },
  {
   "cell_type": "code",
   "execution_count": 445,
   "metadata": {
    "collapsed": true
   },
   "outputs": [],
   "source": [
    "my_clf.fit(x, y)"
   ]
  },
  {
   "cell_type": "code",
   "execution_count": 428,
   "metadata": {},
   "outputs": [
    {
     "data": {
      "text/plain": [
       "((120269L, 10L), (5L,))"
      ]
     },
     "execution_count": 428,
     "metadata": {},
     "output_type": "execute_result"
    }
   ],
   "source": [
    "x.shape, y.shape"
   ]
  },
  {
   "cell_type": "code",
   "execution_count": 61,
   "metadata": {
    "collapsed": true
   },
   "outputs": [],
   "source": [
    "class Tree:\n",
    "    def __init__(self, left_node=None, right_node=None, param_to_split=None, threshhold=None):\n",
    "        self.left_node = left_node\n",
    "        self.right_node = right_node\n",
    "        self.param_to_split = param_to_split\n",
    "        self.threshhold = threshhold "
   ]
  },
  {
   "cell_type": "code",
   "execution_count": 60,
   "metadata": {
    "collapsed": true
   },
   "outputs": [],
   "source": [
    "class MyOwn:\n",
    "    def __init__(self, min_samples_split=2, max_depth=None, sufficient_share=1.0, criterion='gini', max_features=None):\n",
    "        self.tree = Tree()\n",
    "        self.min_samples_split = min_samples_split\n",
    "        self.max_depth = max_depth\n",
    "        self.sufficient_share = sufficient_share\n",
    "        self.num_class = -1\n",
    "        if criterion == 'gini':\n",
    "            self.G_function = self.__gini\n",
    "        elif criterion == 'entropy':\n",
    "            self.G_function = self.__entropy\n",
    "        elif criterion == 'misclass':\n",
    "            self.G_function = self.__misclass\n",
    "        else:\n",
    "            print 'invalid criterion name'\n",
    "            raise\n",
    "    \n",
    "    def __gini(self, l_c, l_s, r_c, r_s):\n",
    "        l_s = l_s.astype('float')\n",
    "        r_s = r_s.astype('float')\n",
    "        return # Ваш код\n",
    "    \n",
    "    def __entropy(self, l_c, l_s, r_c, r_s):\n",
    "        return # Ваш код \n",
    "\n",
    "    def __misclass(self, l_c, l_s, r_c, r_s):\n",
    "        return # Ваш код\n",
    "    \n",
    "    def __sort_samples(self, x, y):\n",
    "        sorted_idx = x.argsort()\n",
    "        return x[sorted_idx], y[sorted_idx]\n",
    "    \n",
    "    def find_thresh(self, X, Y):\n",
    "        X, Y = __sort_samples(X, Y)\n",
    "        possible_splits = np.where(Y[:-1] != Y[1:]) + 1\n",
    "        n_classes = np.unique(Y).shape[0]\n",
    "        class_parts_matrix = np.empty((possible_splits.shape[0], n_classes))\n",
    "        \n",
    "    \n",
    "    def fit_node(self, X, Y, parent_node):\n",
    "        if X.shape[0] == 1:\n",
    "            return\n",
    "        X_l, X_r, y_l, y_r, param, threshhold = self.find_thresh(X, Y)\n",
    "        parent_node.param_to_split = param\n",
    "        parent_node.threshhold = threshhold\n",
    "        parent_node.left_node = Tree()\n",
    "        parent_node.right_node = Tree()\n",
    "        self.fit_node(X_l, y_l, parent_node.left_node)\n",
    "        self.fit_node(X_r, y_r, parent_node.right_node)\n",
    "    \n",
    "    def fit(self, X, Y):\n",
    "        self.fit_node(X, Y, self.Tree)"
   ]
  },
  {
   "cell_type": "code",
   "execution_count": 67,
   "metadata": {},
   "outputs": [
    {
     "data": {
      "text/html": [
       "<div>\n",
       "<style>\n",
       "    .dataframe thead tr:only-child th {\n",
       "        text-align: right;\n",
       "    }\n",
       "\n",
       "    .dataframe thead th {\n",
       "        text-align: left;\n",
       "    }\n",
       "\n",
       "    .dataframe tbody tr th {\n",
       "        vertical-align: top;\n",
       "    }\n",
       "</style>\n",
       "<table border=\"1\" class=\"dataframe\">\n",
       "  <thead>\n",
       "    <tr style=\"text-align: right;\">\n",
       "      <th></th>\n",
       "      <th>SeriousDlqin2yrs</th>\n",
       "      <th>RevolvingUtilizationOfUnsecuredLines</th>\n",
       "      <th>age</th>\n",
       "      <th>NumberOfTime30-59DaysPastDueNotWorse</th>\n",
       "      <th>DebtRatio</th>\n",
       "      <th>MonthlyIncome</th>\n",
       "      <th>NumberOfOpenCreditLinesAndLoans</th>\n",
       "      <th>NumberOfTimes90DaysLate</th>\n",
       "      <th>NumberRealEstateLoansOrLines</th>\n",
       "      <th>NumberOfTime60-89DaysPastDueNotWorse</th>\n",
       "      <th>NumberOfDependents</th>\n",
       "    </tr>\n",
       "  </thead>\n",
       "  <tbody>\n",
       "    <tr>\n",
       "      <th>1</th>\n",
       "      <td>1</td>\n",
       "      <td>0.766127</td>\n",
       "      <td>45</td>\n",
       "      <td>2</td>\n",
       "      <td>0.802982</td>\n",
       "      <td>9120.0</td>\n",
       "      <td>13</td>\n",
       "      <td>0</td>\n",
       "      <td>6</td>\n",
       "      <td>0</td>\n",
       "      <td>2.0</td>\n",
       "    </tr>\n",
       "    <tr>\n",
       "      <th>2</th>\n",
       "      <td>0</td>\n",
       "      <td>0.957151</td>\n",
       "      <td>40</td>\n",
       "      <td>0</td>\n",
       "      <td>0.121876</td>\n",
       "      <td>2600.0</td>\n",
       "      <td>4</td>\n",
       "      <td>0</td>\n",
       "      <td>0</td>\n",
       "      <td>0</td>\n",
       "      <td>1.0</td>\n",
       "    </tr>\n",
       "    <tr>\n",
       "      <th>3</th>\n",
       "      <td>0</td>\n",
       "      <td>0.658180</td>\n",
       "      <td>38</td>\n",
       "      <td>1</td>\n",
       "      <td>0.085113</td>\n",
       "      <td>3042.0</td>\n",
       "      <td>2</td>\n",
       "      <td>1</td>\n",
       "      <td>0</td>\n",
       "      <td>0</td>\n",
       "      <td>0.0</td>\n",
       "    </tr>\n",
       "    <tr>\n",
       "      <th>4</th>\n",
       "      <td>0</td>\n",
       "      <td>0.233810</td>\n",
       "      <td>30</td>\n",
       "      <td>0</td>\n",
       "      <td>0.036050</td>\n",
       "      <td>3300.0</td>\n",
       "      <td>5</td>\n",
       "      <td>0</td>\n",
       "      <td>0</td>\n",
       "      <td>0</td>\n",
       "      <td>0.0</td>\n",
       "    </tr>\n",
       "    <tr>\n",
       "      <th>5</th>\n",
       "      <td>0</td>\n",
       "      <td>0.907239</td>\n",
       "      <td>49</td>\n",
       "      <td>1</td>\n",
       "      <td>0.024926</td>\n",
       "      <td>63588.0</td>\n",
       "      <td>7</td>\n",
       "      <td>0</td>\n",
       "      <td>1</td>\n",
       "      <td>0</td>\n",
       "      <td>0.0</td>\n",
       "    </tr>\n",
       "  </tbody>\n",
       "</table>\n",
       "</div>"
      ],
      "text/plain": [
       "   SeriousDlqin2yrs  RevolvingUtilizationOfUnsecuredLines  age  \\\n",
       "1                 1                              0.766127   45   \n",
       "2                 0                              0.957151   40   \n",
       "3                 0                              0.658180   38   \n",
       "4                 0                              0.233810   30   \n",
       "5                 0                              0.907239   49   \n",
       "\n",
       "   NumberOfTime30-59DaysPastDueNotWorse  DebtRatio  MonthlyIncome  \\\n",
       "1                                     2   0.802982         9120.0   \n",
       "2                                     0   0.121876         2600.0   \n",
       "3                                     1   0.085113         3042.0   \n",
       "4                                     0   0.036050         3300.0   \n",
       "5                                     1   0.024926        63588.0   \n",
       "\n",
       "   NumberOfOpenCreditLinesAndLoans  NumberOfTimes90DaysLate  \\\n",
       "1                               13                        0   \n",
       "2                                4                        0   \n",
       "3                                2                        1   \n",
       "4                                5                        0   \n",
       "5                                7                        0   \n",
       "\n",
       "   NumberRealEstateLoansOrLines  NumberOfTime60-89DaysPastDueNotWorse  \\\n",
       "1                             6                                     0   \n",
       "2                             0                                     0   \n",
       "3                             0                                     0   \n",
       "4                             0                                     0   \n",
       "5                             1                                     0   \n",
       "\n",
       "   NumberOfDependents  \n",
       "1                 2.0  \n",
       "2                 1.0  \n",
       "3                 0.0  \n",
       "4                 0.0  \n",
       "5                 0.0  "
      ]
     },
     "execution_count": 67,
     "metadata": {},
     "output_type": "execute_result"
    }
   ],
   "source": [
    "df = pd.read_csv('./cs-training.csv', sep=',').dropna()\n",
    "df.head()"
   ]
  },
  {
   "cell_type": "code",
   "execution_count": 770,
   "metadata": {
    "collapsed": true
   },
   "outputs": [],
   "source": [
    "x = df.as_matrix(columns=df.columns[1:])\n",
    "y = df.as_matrix(columns=df.columns[:1])\n",
    "y = y.reshape(y.shape[0])"
   ]
  },
  {
   "cell_type": "code",
   "execution_count": 787,
   "metadata": {
    "collapsed": true
   },
   "outputs": [],
   "source": [
    "class MyDecisionTreeClassifier:\n",
    "    NON_LEAF_TYPE = 0\n",
    "    LEAF_TYPE = 1\n",
    "\n",
    "    def __init__(self, \n",
    "                 min_samples_split=2, \n",
    "                 min_samples_leaf=1,\n",
    "                 max_depth=None,\n",
    "                 sufficient_share=1.0,\n",
    "                 criterion='gini',\n",
    "                 max_features=None):\n",
    "        self.tree = dict()\n",
    "        self.min_samples_split = min_samples_split\n",
    "        self.min_samples_leaf = min_samples_leaf\n",
    "        self.max_depth = max_depth\n",
    "        self.sufficient_share = sufficient_share\n",
    "        self.num_class = -1\n",
    "        if criterion == 'gini':\n",
    "            self.G_function = self.__gini\n",
    "        elif criterion == 'entropy':\n",
    "            self.G_function = self.__entropy\n",
    "        elif criterion == 'misclass':\n",
    "            self.G_function = self.__misclass\n",
    "        else:\n",
    "            print 'invalid criterion name'\n",
    "            raise\n",
    "\n",
    "        if max_features == 'sqrt':\n",
    "            self.get_feature_ids = self.__get_feature_ids_sqrt\n",
    "        elif max_features == 'log2':\n",
    "            self.get_feature_ids = self.__get_feature_ids_log2\n",
    "        elif max_features == None:\n",
    "            self.get_feature_ids = self.__get_feature_ids_N\n",
    "        else:\n",
    "            print 'invalid max_features name'\n",
    "            raise\n",
    "\n",
    "    def __gini(self, l_c, l_s, r_c, r_s):\n",
    "        l_s = l_s.astype('float')\n",
    "        r_s = r_s.astype('float')\n",
    "        return ((1 - ((l_c / l_s) ** 2).sum(axis=1)) * l_s.T + (1 - ((r_c / r_s) ** 2).sum(axis=1)) * r_s.T)[0].T\n",
    "    \n",
    "    def __entropy(self, l_c, l_s, r_c, r_s): #check correct formulae\n",
    "        l_s = l_s.astype('float')\n",
    "        r_s = r_s.astype('float')\n",
    "        return (-((l_c / l_s) * np.log(l_c / l_s)).sum(axis=1)) * l_s.T - ((r_c / r_s) * np.log(r_c / r_s)).sum(axis=1) * r_s.T\n",
    "\n",
    "    def __misclass(self, l_c, l_s, r_c, r_s):\n",
    "        l_s = l_s.astype('float')\n",
    "        r_s = r_s.astype('float')\n",
    "        return (1 - np.max(l_c, axis=1) / l_s) * l_s.T + (1 - np.max(r_c, axis=1) / r_s) * r_s.T\n",
    "\n",
    "    def __get_feature_ids_sqrt(self, n_feature):\n",
    "        feature_ids = range(n_feature)\n",
    "        np.random.shuffle(feature_ids)\n",
    "        return feature_ids[int(np.sqrt(n_feature))]\n",
    "        \n",
    "    def __get_feature_ids_log2(self, n_feature):\n",
    "        feature_ids = range(n_feature)\n",
    "        np.random.shuffle(feature_ids)\n",
    "        return feature_ids[int(np.log2(n_feature))]\n",
    "\n",
    "    def __get_feature_ids_N(self, n_feature):\n",
    "        return range(n_feature)\n",
    "    \n",
    "    def __sort_samples(self, x, y):\n",
    "        sorted_idx = x.argsort()\n",
    "        return x[sorted_idx], y[sorted_idx]\n",
    "\n",
    "    def __div_samples(self, x, y, feature_id, threshold):\n",
    "        left_mask = x[:, feature_id] >= threshold\n",
    "        right_mask = ~left_mask\n",
    "        return x[left_mask], x[right_mask], y[left_mask], y[right_mask]\n",
    "    \n",
    "    def test(self, x, y, feature):\n",
    "        _, thresh = self._find_threshold(x[:, feature], y)\n",
    "        return self.__div_samples(x, y, feature, thresh), _, thresh\n",
    "    \n",
    "    def _find_threshold(self, x, y):\n",
    "        # Что делает этот блок кода?\n",
    "        # Сортирует параметр x и использует полученный индекс для y,\n",
    "        # чтобы сохранить соответствие между значением параметра и целевой переменной.\n",
    "        # class_number - число различных классов, которым принадлежат элементы в узле\n",
    "        sorted_x, sorted_y = self.__sort_samples(x, y)\n",
    "        class_number = np.unique(y).shape[0]\n",
    "        \n",
    "        # Что делает этот блок кода?\n",
    "        # Поскольку в листьях не может быть меньше min_samples_split элементов, мы можем делить только по индексам\n",
    "        # в splitted_sorted_y. В r_border_ids вычисляется индекс, где следующий класс не равен предыдущему и затем смещается,\n",
    "        # чтобы получить индексы, соответствующие возможным разбиениям в sorted_y, причем они указывают на первый элемент \n",
    "        # отличного класса.\n",
    "        splitted_sorted_y = sorted_y[self.min_samples_leaf - 1:len(sorted_y) - self.min_samples_leaf + 1] # min_samples_leaf? -1 +1?\n",
    "        # splitted_sorted_y = sorted_y # min split\n",
    "        # splitted_sorted = sorted_y[self.min_samples_split - 1: -self.min_samples_split + 1] # min leaf\n",
    "        r_border_ids = np.where(splitted_sorted_y[:-1] != splitted_sorted_y[1:])[0] + self.min_samples_leaf\n",
    "        \n",
    "        if len(r_border_ids) == 0:\n",
    "            #print 'hmm'\n",
    "            return float('+inf'), None \n",
    "        \n",
    "        # Что делает этот блок кода?\n",
    "        # eq_el_count -- то, сколько элеметов принадлежит каждому следующему классу\n",
    "        # one_hot_code -- в каждой строчке записано то, какой класс будет крайним слева, если разделить по соответствущему \n",
    "        # id в r_borders_id\n",
    "        # class increments -- то же самое, но кроме id класса в каждой строчке можно понять, сколько \n",
    "        # элементов принадлежит каждой группе подряд идущих элементов одного класса.\n",
    "        # Причем в первой строчке также учитываются те элементы, которые есть в первых min_samples_split элементах\n",
    "        eq_el_count = r_border_ids - np.append([self.min_samples_leaf - 1], r_border_ids[:-1]) # self.min_samples_split\n",
    "        one_hot_code = np.zeros((r_border_ids.shape[0], class_number))\n",
    "        one_hot_code[np.arange(r_border_ids.shape[0]), sorted_y[r_border_ids - 1]] = 1\n",
    "        class_increments = one_hot_code * eq_el_count.reshape(-1, 1) # broadcasting\n",
    "        class_increments[0] = class_increments[0] + np.bincount(sorted_y[:self.min_samples_leaf - 1], minlength=class_number)\n",
    "        \n",
    "        # Что делает этот блок кода?\n",
    "        # l_class_count -- в каждой строчке написано, сколько элементов каждого класса будет в левом узле, если разбить\n",
    "        # по соответствующему элементу\n",
    "        # r_class_count -- то, сколько в правом узле\n",
    "        # l_sizes -- размеры левого узла при разбиениях\n",
    "        # r_sizes -- размеры правого\n",
    "        l_class_count = np.cumsum(class_increments, axis=0)        \n",
    "        r_class_count = np.bincount(sorted_y) - l_class_count #sorted_y\n",
    "        l_sizes = r_border_ids.reshape(l_class_count.shape[0], 1)\n",
    "        r_sizes = sorted_y.shape[0] - l_sizes\n",
    "\n",
    "        # Что делает этот блок кода?\n",
    "        # Подсчитывается ошибка при каждом разбиении и берется то, при котором ошибка минимальна\n",
    "        \n",
    "        gs = self.G_function(l_class_count, l_sizes, r_class_count, r_sizes)\n",
    "        idx = np.argmin(gs)\n",
    "        \n",
    "        # print l_class_count.shape, l_sizes.shape, l_class_count[:5], class_number, gs.shape\n",
    "        # Что делает этот блок кода?\n",
    "        # left_el_id -- указывает на крайний элемент правого узла\n",
    "        # Функция возращает ошибку, которую даст лучшее разбиение и порог, по которому делится узел.\n",
    "        left_el_id = l_sizes[idx][0]\n",
    "        gs[idx], sorted_x[left_el_id]\n",
    "        #sorted_x[left_el_id + 1]\n",
    "        return gs[idx], (sorted_x[left_el_id - 1] + sorted_x[left_el_id]) / 2.0\n",
    "\n",
    "    def _fit_node(self, x, y, node_id, depth, pred_f=-1):\n",
    "        # Ваш код\n",
    "        # Необходимо использовать следующее:\n",
    "        # self.LEAF_TYPE\n",
    "        # self.NON_LEAF_TYPE\n",
    "        leaf = [\n",
    "            self.__class__.LEAF_TYPE, \n",
    "            np.argmax(np.bincount(y, minlength=self.num_class)), \n",
    "            np.bincount(y, minlength=self.num_class) * 1.0 / y.shape[0]\n",
    "        ]\n",
    "        if depth == self.max_depth or x.shape[0] <= self.min_samples_split:\n",
    "            self.tree[node_id] = leaf\n",
    "            #print 'leaf1'\n",
    "            return\n",
    "        # self.tree\n",
    "        # self.max_depth\n",
    "        # self.sufficient_share\n",
    "        # self.min_samples_split\n",
    "        feature_ids = self.get_feature_ids(x.shape[1])\n",
    "        split_data = []\n",
    "        for feature in feature_ids:\n",
    "            error, threshold = self._find_threshold(x[:, feature], y)\n",
    "            split_data.append([feature, error, threshold])\n",
    "        best_split = min(split_data, key=lambda split: split[1])\n",
    "        # self.get_feature_ids\n",
    "        # self._find_threshold\n",
    "        # self.__div_samples\n",
    "        # self._fit_node\n",
    "        x_l, x_r, y_l, y_r = self.__div_samples(x, y, best_split[0], best_split[2])\n",
    "        if best_split[1] == np.inf or not all([i.shape[0] for i in [y_l, y_r]]):\n",
    "            #print 'leaf2', best_split[1]\n",
    "            self.tree[node_id] = leaf\n",
    "            return\n",
    "        #print 'node'\n",
    "        self.tree[node_id] = (self.__class__.NON_LEAF_TYPE, best_split[0], best_split[2])\n",
    "        self._fit_node(x_l, y_l, 2 * node_id + 1, depth + 1)\n",
    "        self._fit_node(x_r, y_r, 2 * node_id + 2, depth + 1)\n",
    "    \n",
    "    def fit(self, x, y):\n",
    "        self.tree = {} #reset\n",
    "        self.num_class = np.unique(y).size\n",
    "        self._fit_node(x, y, 0, 0) \n",
    "\n",
    "    def __predict_class(self, x, node_id):\n",
    "        node = self.tree[node_id]\n",
    "        if node[0] == self.__class__.NON_LEAF_TYPE:\n",
    "            _, feature_id, threshold = node\n",
    "            if x[feature_id] >= threshold:\n",
    "                return self.__predict_class(x, 2 * node_id + 1)\n",
    "            else:\n",
    "                return self.__predict_class(x, 2 * node_id + 2)\n",
    "        else:\n",
    "            return node[1]\n",
    "\n",
    "    def __predict_probs(self, x, node_id):\n",
    "        node = self.tree[node_id]\n",
    "        if node[0] == self.__class__.NON_LEAF_TYPE:\n",
    "            _, feature_id, threshold = node\n",
    "            if x[feature_id] >= threshold:\n",
    "                return self.__predict_probs(x, 2 * node_id + 1)\n",
    "            else:\n",
    "                return self.__predict_probs(x, 2 * node_id + 2)\n",
    "        else:\n",
    "            return node[2]\n",
    "        \n",
    "    def predict(self, X):\n",
    "        return np.array([self.__predict_class(x, 0) for x in X])\n",
    "    \n",
    "    def predict_probs(self, X):\n",
    "        return np.array([self.__predict_probs(x, 0) for x in X])\n",
    "\n",
    "    def fit_predict(self, x_train, y_train, predicted_x):\n",
    "        self.fit(x_train, y_train)\n",
    "        return self.predict(predicted_x)"
   ]
  },
  {
   "cell_type": "code",
   "execution_count": 1163,
   "metadata": {
    "collapsed": true
   },
   "outputs": [],
   "source": [
    "class MyDecisionTreeClassifier_old:\n",
    "    NON_LEAF_TYPE = 0\n",
    "    LEAF_TYPE = 1\n",
    "\n",
    "    def __init__(self, \n",
    "                 min_samples_split=2, \n",
    "                 min_samples_leaf=1,\n",
    "                 max_depth=None,\n",
    "                 sufficient_share=1.0,\n",
    "                 criterion='gini',\n",
    "                 max_features=None):\n",
    "        self.tree = dict()\n",
    "        self.min_samples_split = min_samples_split\n",
    "        self.min_samples_leaf = min_samples_leaf\n",
    "        self.max_depth = max_depth\n",
    "        self.sufficient_share = sufficient_share\n",
    "        self.num_class = -1\n",
    "        if criterion == 'gini':\n",
    "            self.G_function = self.__gini\n",
    "        elif criterion == 'entropy':\n",
    "            self.G_function = self.__entropy\n",
    "        elif criterion == 'misclass':\n",
    "            self.G_function = self.__misclass\n",
    "        else:\n",
    "            print 'invalid criterion name'\n",
    "            raise\n",
    "\n",
    "        if max_features == 'sqrt':\n",
    "            self.get_feature_ids = self.__get_feature_ids_sqrt\n",
    "        elif max_features == 'log2':\n",
    "            self.get_feature_ids = self.__get_feature_ids_log2\n",
    "        elif max_features == None:\n",
    "            self.get_feature_ids = self.__get_feature_ids_N\n",
    "        else:\n",
    "            print 'invalid max_features name'\n",
    "            raise\n",
    "\n",
    "    def __gini(self, l_c, l_s, r_c, r_s):\n",
    "        l_s = l_s.astype('float')\n",
    "        r_s = r_s.astype('float')\n",
    "        return ((1 - ((l_c / l_s) ** 2).sum(axis=1)) * l_s.T + (1 - ((r_c / r_s) ** 2).sum(axis=1)) * r_s.T)[0].T\n",
    "    \n",
    "    def __entropy(self, l_c, l_s, r_c, r_s): #check correct formulae\n",
    "        l_s = l_s.astype('float')\n",
    "        r_s = r_s.astype('float')\n",
    "        return (-((l_c / l_s) * np.log(l_c / l_s)).sum(axis=1)) * l_s.T - ((r_c / r_s) * np.log(r_c / r_s)).sum(axis=1) * r_s.T\n",
    "\n",
    "    def __misclass(self, l_c, l_s, r_c, r_s):\n",
    "        l_s = l_s.astype('float')\n",
    "        r_s = r_s.astype('float')\n",
    "        return (1 - np.max(l_c, axis=1) / l_s) * l_s.T + (1 - np.max(r_c, axis=1) / r_s) * r_s.T\n",
    "\n",
    "    def __get_feature_ids_sqrt(self, n_feature):\n",
    "        feature_ids = range(n_feature)\n",
    "        np.random.shuffle(feature_ids)\n",
    "        return feature_ids[int(np.sqrt(n_feature))]\n",
    "        \n",
    "    def __get_feature_ids_log2(self, n_feature):\n",
    "        feature_ids = range(n_feature)\n",
    "        np.random.shuffle(feature_ids)\n",
    "        return feature_ids[int(np.log2(n_feature))]\n",
    "\n",
    "    def __get_feature_ids_N(self, n_feature):\n",
    "        return range(n_feature)\n",
    "    \n",
    "    def __sort_samples(self, x, y):\n",
    "        sorted_idx = x.argsort()\n",
    "        return x[sorted_idx], y[sorted_idx]\n",
    "\n",
    "    def __div_samples(self, x, y, feature_id, threshold):\n",
    "        left_mask = x[:, feature_id] > threshold\n",
    "        right_mask = ~left_mask\n",
    "        return x[left_mask], x[right_mask], y[left_mask], y[right_mask]\n",
    "    \n",
    "    def test(self, x, y, feature):\n",
    "        _, thresh = self._find_threshold(x[:, feature], y)\n",
    "        return self.__div_samples(x, y, feature, thresh), _, thresh\n",
    "    \n",
    "    def _find_threshold(self, x, y):\n",
    "        # Что делает этот блок кода?\n",
    "        # Сортирует параметр x и использует полученный индекс для y,\n",
    "        # чтобы сохранить соответствие между значением параметра и целевой переменной.\n",
    "        # class_number - число различных классов, которым принадлежат элементы в узле\n",
    "        sorted_x, sorted_y = self.__sort_samples(x, y)\n",
    "        class_number = np.unique(y).shape[0]\n",
    "        \n",
    "        # Что делает этот блок кода?\n",
    "        # Поскольку в листьях не может быть меньше min_samples_split элементов, мы можем делить только по индексам\n",
    "        # в splitted_sorted_y. В r_border_ids вычисляется индекс, где следующий класс не равен предыдущему и затем смещается,\n",
    "        # чтобы получить индексы, соответствующие возможным разбиениям в sorted_y, причем они указывают на первый элемент \n",
    "        # отличного класса.\n",
    "        splitted_sorted_y = sorted_y[self.min_samples_leaf - 1:len(sorted_y) - self.min_samples_leaf + 1] # min_samples_leaf? -1 +1?\n",
    "        # splitted_sorted_y = sorted_y # min split\n",
    "        # splitted_sorted = sorted_y[self.min_samples_split - 1: -self.min_samples_split + 1] # min leaf\n",
    "        r_border_ids = np.where(splitted_sorted_y[:-1] != splitted_sorted_y[1:])[0] + self.min_samples_leaf\n",
    "        \n",
    "        if len(r_border_ids) == 0:\n",
    "            #print 'hmm'\n",
    "            return float('+inf'), None \n",
    "        \n",
    "        # Что делает этот блок кода?\n",
    "        # eq_el_count -- то, сколько элеметов принадлежит каждому следующему классу\n",
    "        # one_hot_code -- в каждой строчке записано то, какой класс будет крайним слева, если разделить по соответствущему \n",
    "        # id в r_borders_id\n",
    "        # class increments -- то же самое, но кроме id класса в каждой строчке можно понять, сколько \n",
    "        # элементов принадлежит каждой группе подряд идущих элементов одного класса.\n",
    "        # Причем в первой строчке также учитываются те элементы, которые есть в первых min_samples_split элементах\n",
    "        eq_el_count = r_border_ids - np.append([self.min_samples_leaf - 1], r_border_ids[:-1]) # self.min_samples_split\n",
    "        one_hot_code = np.zeros((r_border_ids.shape[0], class_number))\n",
    "        one_hot_code[np.arange(r_border_ids.shape[0]), sorted_y[r_border_ids - 1]] = 1\n",
    "        class_increments = one_hot_code * eq_el_count.reshape(-1, 1) # broadcasting\n",
    "        class_increments[0] = class_increments[0] + np.bincount(sorted_y[:self.min_samples_leaf - 1], minlength=class_number)\n",
    "        \n",
    "        # Что делает этот блок кода?\n",
    "        # l_class_count -- в каждой строчке написано, сколько элементов каждого класса будет в левом узле, если разбить\n",
    "        # по соответствующему элементу\n",
    "        # r_class_count -- то, сколько в правом узле\n",
    "        # l_sizes -- размеры левого узла при разбиениях\n",
    "        # r_sizes -- размеры правого\n",
    "        l_class_count = np.cumsum(class_increments, axis=0)        \n",
    "        r_class_count = np.bincount(sorted_y) - l_class_count #sorted_y\n",
    "        l_sizes = r_border_ids.reshape(l_class_count.shape[0], 1)\n",
    "        r_sizes = sorted_y.shape[0] - l_sizes\n",
    "\n",
    "        # Что делает этот блок кода?\n",
    "        # Подсчитывается ошибка при каждом разбиении и берется то, при котором ошибка минимальна\n",
    "        \n",
    "        gs = self.G_function(l_class_count, l_sizes, r_class_count, r_sizes)\n",
    "        idx = np.argmin(gs)\n",
    "        \n",
    "        # print l_class_count.shape, l_sizes.shape, l_class_count[:5], class_number, gs.shape\n",
    "        # Что делает этот блок кода?\n",
    "        # left_el_id -- указывает на крайний элемент правого узла\n",
    "        # Функция возращает ошибку, которую даст лучшее разбиение и порог, по которому делится узел.\n",
    "        left_el_id = l_sizes[idx][0]\n",
    "        gs[idx], sorted_x[left_el_id]\n",
    "        #sorted_x[left_el_id + 1]\n",
    "        return gs[idx], (sorted_x[left_el_id - 1] + sorted_x[left_el_id]) / 2.0\n",
    "\n",
    "    def _fit_node(self, x, y, node_id, depth, pred_f=-1):\n",
    "        # Ваш код\n",
    "        # Необходимо использовать следующее:\n",
    "        # self.LEAF_TYPE\n",
    "        # self.NON_LEAF_TYPE\n",
    "        leaf = [\n",
    "            self.__class__.LEAF_TYPE, \n",
    "            np.argmax(np.bincount(y, minlength=self.num_class)), \n",
    "            np.bincount(y, minlength=self.num_class) * 1.0 / y.shape[0]\n",
    "        ]\n",
    "        if depth == self.max_depth or x.shape[0] <= self.min_samples_split:\n",
    "            self.tree[node_id] = leaf\n",
    "            #print 'leaf1'\n",
    "            return\n",
    "        # self.tree\n",
    "        # self.max_depth\n",
    "        # self.sufficient_share\n",
    "        # self.min_samples_split\n",
    "        feature_ids = self.get_feature_ids(x.shape[1])\n",
    "        split_data = []\n",
    "        for feature in feature_ids:\n",
    "            error, threshold = self._find_threshold(x[:, feature], y)\n",
    "            split_data.append([feature, error, threshold])\n",
    "        best_split = min(split_data, key=lambda split: split[1])\n",
    "        # self.get_feature_ids\n",
    "        # self._find_threshold\n",
    "        # self.__div_samples\n",
    "        # self._fit_node\n",
    "        x_l, x_r, y_l, y_r = self.__div_samples(x, y, best_split[0], best_split[2])\n",
    "        if best_split[1] == np.inf or not all([i.shape[0] for i in [y_l, y_r]]):\n",
    "            #print 'leaf2', best_split[1]\n",
    "            self.tree[node_id] = leaf\n",
    "            return\n",
    "        if depth < 2:\n",
    "            print y_l.shape, y_r.shape\n",
    "        #print 'node'\n",
    "        self.tree[node_id] = (self.__class__.NON_LEAF_TYPE, best_split[0], best_split[2])\n",
    "        self._fit_node(x_l, y_l, 2 * node_id + 1, depth + 1)\n",
    "        self._fit_node(x_r, y_r, 2 * node_id + 2, depth + 1)\n",
    "    \n",
    "    def fit(self, x, y):\n",
    "        self.tree = {} #reset\n",
    "        self.num_class = np.unique(y).size\n",
    "        self._fit_node(x, y, 0, 0) \n",
    "\n",
    "    def __predict_class(self, x, node_id):\n",
    "        node = self.tree[node_id]\n",
    "        if node[0] == self.__class__.NON_LEAF_TYPE:\n",
    "            _, feature_id, threshold = node\n",
    "            if x[feature_id] > threshold:\n",
    "                return self.__predict_class(x, 2 * node_id + 1)\n",
    "            else:\n",
    "                return self.__predict_class(x, 2 * node_id + 2)\n",
    "        else:\n",
    "            return node[1]\n",
    "\n",
    "    def __predict_probs(self, x, node_id):\n",
    "        node = self.tree[node_id]\n",
    "        if node[0] == self.__class__.NON_LEAF_TYPE:\n",
    "            _, feature_id, threshold = node\n",
    "            if x[feature_id] > threshold:\n",
    "                return self.__predict_probs(x, 2 * node_id + 1)\n",
    "            else:\n",
    "                return self.__predict_probs(x, 2 * node_id + 2)\n",
    "        else:\n",
    "            return node[2]\n",
    "        \n",
    "    def predict(self, X):\n",
    "        return np.array([self.__predict_class(x, 0) for x in X])\n",
    "    \n",
    "    def predict_probs(self, X):\n",
    "        return np.array([self.__predict_probs(x, 0) for x in X])\n",
    "\n",
    "    def fit_predict(self, x_train, y_train, predicted_x):\n",
    "        self.fit(x_train, y_train)\n",
    "        return self.predict(predicted_x)"
   ]
  },
  {
   "cell_type": "code",
   "execution_count": 1190,
   "metadata": {
    "collapsed": true
   },
   "outputs": [],
   "source": [
    "class MyDecisionTreeClassifier_old:\n",
    "    NON_LEAF_TYPE = 0\n",
    "    LEAF_TYPE = 1\n",
    "\n",
    "    def __init__(self, \n",
    "                 min_samples_split=2, \n",
    "                 min_samples_leaf=1,\n",
    "                 max_depth=None,\n",
    "                 sufficient_share=1.0,\n",
    "                 criterion='gini',\n",
    "                 max_features=None):\n",
    "        self.tree = dict()\n",
    "        self.min_samples_split = min_samples_split\n",
    "        self.min_samples_leaf = min_samples_leaf\n",
    "        self.max_depth = max_depth\n",
    "        self.sufficient_share = sufficient_share\n",
    "        self.num_class = -1\n",
    "        if criterion == 'gini':\n",
    "            self.G_function = self.__gini\n",
    "        elif criterion == 'entropy':\n",
    "            self.G_function = self.__entropy\n",
    "        elif criterion == 'misclass':\n",
    "            self.G_function = self.__misclass\n",
    "        else:\n",
    "            print 'invalid criterion name'\n",
    "            raise\n",
    "\n",
    "        if max_features == 'sqrt':\n",
    "            self.get_feature_ids = self.__get_feature_ids_sqrt\n",
    "        elif max_features == 'log2':\n",
    "            self.get_feature_ids = self.__get_feature_ids_log2\n",
    "        elif max_features == None:\n",
    "            self.get_feature_ids = self.__get_feature_ids_N\n",
    "        else:\n",
    "            print 'invalid max_features name'\n",
    "            raise\n",
    "\n",
    "    def __gini(self, l_c, l_s, r_c, r_s):\n",
    "        l_s = l_s.astype('float')\n",
    "        r_s = r_s.astype('float')\n",
    "        return ((1 - ((l_c / l_s) ** 2).sum(axis=1)) * l_s.T + (1 - ((r_c / r_s) ** 2).sum(axis=1)) * r_s.T)[0].T\n",
    "    \n",
    "    def __entropy(self, l_c, l_s, r_c, r_s): #check correct formulae\n",
    "        l_s = l_s.astype('float')\n",
    "        r_s = r_s.astype('float')\n",
    "        return (-((l_c / l_s) * np.log(l_c / l_s)).sum(axis=1)) * l_s.T - ((r_c / r_s) * np.log(r_c / r_s)).sum(axis=1) * r_s.T\n",
    "\n",
    "    def __misclass(self, l_c, l_s, r_c, r_s):\n",
    "        l_s = l_s.astype('float')\n",
    "        r_s = r_s.astype('float')\n",
    "        return (1 - np.max(l_c, axis=1) / l_s) * l_s.T + (1 - np.max(r_c, axis=1) / r_s) * r_s.T\n",
    "\n",
    "    def __get_feature_ids_sqrt(self, n_feature):\n",
    "        feature_ids = range(n_feature)\n",
    "        np.random.shuffle(feature_ids)\n",
    "        return feature_ids[int(np.sqrt(n_feature))]\n",
    "        \n",
    "    def __get_feature_ids_log2(self, n_feature):\n",
    "        feature_ids = range(n_feature)\n",
    "        np.random.shuffle(feature_ids)\n",
    "        return feature_ids[int(np.log2(n_feature))]\n",
    "\n",
    "    def __get_feature_ids_N(self, n_feature):\n",
    "        return range(n_feature)\n",
    "    \n",
    "    def __sort_samples(self, x, y):\n",
    "        sorted_idx = x.argsort()\n",
    "        return x[sorted_idx], y[sorted_idx]\n",
    "\n",
    "    def __div_samples(self, x, y, feature_id, threshold):\n",
    "        left_mask = x[:, feature_id] > threshold\n",
    "        right_mask = ~left_mask\n",
    "        return x[left_mask], x[right_mask], y[left_mask], y[right_mask]\n",
    "    \n",
    "    def test(self, x, y, feature):\n",
    "        _, thresh = self._find_threshold(x[:, feature], y)\n",
    "        return self.__div_samples(x, y, feature, thresh), _, thresh\n",
    "    \n",
    "    def _find_threshold(self, x, y):\n",
    "        sorted_x, sorted_y = self.__sort_samples(x, y)\n",
    "        class_number = np.unique(y).shape[0]\n",
    "        \n",
    "        splitted_sorted_y = sorted_y[self.min_samples_leaf - 1:len(sorted_y) - self.min_samples_leaf + 1] # min_samples_leaf? -1 +1?\n",
    "        # splitted_sorted_y = sorted_y # min split\n",
    "        # splitted_sorted = sorted_y[self.min_samples_split - 1: -self.min_samples_split + 1] # min leaf\n",
    "        r_border_ids = np.where(splitted_sorted_y[:-1] != splitted_sorted_y[1:])[0] + self.min_samples_leaf\n",
    "        \n",
    "        if len(r_border_ids) == 0:\n",
    "            #print 'hmm'\n",
    "            return float('+inf'), None \n",
    "        eq_el_count = r_border_ids - np.append([self.min_samples_leaf - 1], r_border_ids[:-1]) # self.min_samples_split\n",
    "        one_hot_code = np.zeros((r_border_ids.shape[0], class_number))\n",
    "        one_hot_code[np.arange(r_border_ids.shape[0]), sorted_y[r_border_ids - 1]] = 1\n",
    "        class_increments = one_hot_code * eq_el_count.reshape(-1, 1) # broadcasting\n",
    "        class_increments[0] = class_increments[0] + np.bincount(sorted_y[:self.min_samples_leaf - 1], minlength=class_number)\n",
    "        l_class_count = np.cumsum(class_increments, axis=0)        \n",
    "        r_class_count = np.bincount(sorted_y) - l_class_count #sorted_y\n",
    "        l_sizes = r_border_ids.reshape(l_class_count.shape[0], 1)\n",
    "        r_sizes = sorted_y.shape[0] - l_sizes\n",
    "\n",
    "        gs = self.G_function(l_class_count, l_sizes, r_class_count, r_sizes)\n",
    "        idx = np.argmin(gs)\n",
    "        \n",
    "        left_el_id = l_sizes[idx][0]\n",
    "        gs[idx], sorted_x[left_el_id]\n",
    "        #sorted_x[left_el_id + 1]\n",
    "        return gs[idx], (sorted_x[left_el_id - 1] + sorted_x[left_el_id]) / 2.0\n",
    "\n",
    "    def _fit_node(self, x, y, node_id, depth, pred_f=-1):\n",
    "        leaf = [\n",
    "            self.__class__.LEAF_TYPE, \n",
    "            np.argmax(np.bincount(y, minlength=self.num_class)), \n",
    "            np.bincount(y, minlength=self.num_class) * 1.0 / y.shape[0]\n",
    "        ]\n",
    "        if depth < 2:\n",
    "            print y.shape\n",
    "        if depth == self.max_depth or x.shape[0] <= self.min_samples_split:\n",
    "            if depth < 2:\n",
    "                print 'leaf1', y.shape\n",
    "            self.tree[node_id] = leaf\n",
    "            #print 'leaf1'\n",
    "            return\n",
    "        # self.tree\n",
    "        # self.max_depth\n",
    "        # self.sufficient_share\n",
    "        # self.min_samples_split\n",
    "        feature_ids = self.get_feature_ids(x.shape[1])\n",
    "        split_data = []\n",
    "        for feature in feature_ids:\n",
    "            error, threshold = self._find_threshold(x[:, feature], y)\n",
    "            split_data.append([feature, error, threshold])\n",
    "        best_split = min(split_data, key=lambda split: split[1])\n",
    "        # self.get_feature_ids\n",
    "        # self._find_threshold\n",
    "        # self.__div_samples\n",
    "        # self._fit_node\n",
    "        x_l, x_r, y_l, y_r = self.__div_samples(x, y, best_split[0], best_split[2])\n",
    "        if best_split[1] == np.inf or not all([i.shape[0] for i in [y_l, y_r]]):\n",
    "            #print 'leaf2', best_split[1]\n",
    "            if depth < 2:\n",
    "                print 'leaf2', y.shape, best_split[1], y_l.shape, y_r.shape, best_split\n",
    "            self.tree[node_id] = leaf\n",
    "            return\n",
    "        if depth < 2:\n",
    "            print y_l.shape, y_r.shape\n",
    "        #print 'node'\n",
    "        self.tree[node_id] = (self.__class__.NON_LEAF_TYPE, best_split[0], best_split[2])\n",
    "        self._fit_node(x_l, y_l, 2 * node_id + 1, depth + 1)\n",
    "        self._fit_node(x_r, y_r, 2 * node_id + 2, depth + 1)\n",
    "    \n",
    "    def fit(self, x, y):\n",
    "        self.tree = {} #reset\n",
    "        self.num_class = np.unique(y).size\n",
    "        self._fit_node(x, y, 0, 0) \n",
    "\n",
    "    def __predict_class(self, x, node_id):\n",
    "        node = self.tree[node_id]\n",
    "        if node[0] == self.__class__.NON_LEAF_TYPE:\n",
    "            _, feature_id, threshold = node\n",
    "            if x[feature_id] > threshold:\n",
    "                return self.__predict_class(x, 2 * node_id + 1)\n",
    "            else:\n",
    "                return self.__predict_class(x, 2 * node_id + 2)\n",
    "        else:\n",
    "            return node[1]\n",
    "\n",
    "    def __predict_probs(self, x, node_id):\n",
    "        node = self.tree[node_id]\n",
    "        if node[0] == self.__class__.NON_LEAF_TYPE:\n",
    "            _, feature_id, threshold = node\n",
    "            if x[feature_id] > threshold:\n",
    "                return self.__predict_probs(x, 2 * node_id + 1)\n",
    "            else:\n",
    "                return self.__predict_probs(x, 2 * node_id + 2)\n",
    "        else:\n",
    "            return node[2]\n",
    "        \n",
    "    def predict(self, X):\n",
    "        return np.array([self.__predict_class(x, 0) for x in X])\n",
    "    \n",
    "    def predict_probs(self, X):\n",
    "        return np.array([self.__predict_probs(x, 0) for x in X])\n",
    "\n",
    "    def fit_predict(self, x_train, y_train, predicted_x):\n",
    "        self.fit(x_train, y_train)\n",
    "        return self.predict(predicted_x)"
   ]
  },
  {
   "cell_type": "code",
   "execution_count": 1172,
   "metadata": {
    "collapsed": true
   },
   "outputs": [],
   "source": [
    "#exact sklearn training\n",
    "class MyDecisionTreeClassifier:\n",
    "    NON_LEAF_TYPE = 0\n",
    "    LEAF_TYPE = 1\n",
    "\n",
    "    def __init__(self, \n",
    "                 min_samples_split=2, \n",
    "                 min_samples_leaf=1,\n",
    "                 max_depth=None,\n",
    "                 sufficient_share=1.0,\n",
    "                 criterion='gini',\n",
    "                 max_features=None):\n",
    "        self.tree = dict()\n",
    "        self.min_samples_split = min_samples_split\n",
    "        self.min_samples_leaf = min_samples_leaf\n",
    "        self.max_depth = max_depth\n",
    "        self.sufficient_share = sufficient_share\n",
    "        self.num_class = -1\n",
    "        if criterion == 'gini':\n",
    "            self.G_function = self.__gini\n",
    "        elif criterion == 'entropy':\n",
    "            self.G_function = self.__entropy\n",
    "        elif criterion == 'misclass':\n",
    "            self.G_function = self.__misclass\n",
    "        else:\n",
    "            print 'invalid criterion name'\n",
    "            raise\n",
    "\n",
    "        if max_features == 'sqrt':\n",
    "            self.get_feature_ids = self.__get_feature_ids_sqrt\n",
    "        elif max_features == 'log2':\n",
    "            self.get_feature_ids = self.__get_feature_ids_log2\n",
    "        elif max_features == None:\n",
    "            self.get_feature_ids = self.__get_feature_ids_N\n",
    "        else:\n",
    "            print 'invalid max_features name'\n",
    "            raise\n",
    "\n",
    "    def __gini(self, l_c, l_s, r_c, r_s):\n",
    "        l_s = l_s.astype('float')\n",
    "        r_s = r_s.astype('float')\n",
    "        return ((1 - ((l_c / l_s) ** 2).sum(axis=1)) * l_s.T + (1 - ((r_c / r_s) ** 2).sum(axis=1)) * r_s.T)[0].T\n",
    "    \n",
    "    def __entropy(self, l_c, l_s, r_c, r_s): #check correct formulae\n",
    "        l_s = l_s.astype('float')\n",
    "        r_s = r_s.astype('float')\n",
    "        return (-((l_c / l_s) * np.log(l_c / l_s)).sum(axis=1)) * l_s.T - ((r_c / r_s) * np.log(r_c / r_s)).sum(axis=1) * r_s.T\n",
    "\n",
    "    def __misclass(self, l_c, l_s, r_c, r_s):\n",
    "        l_s = l_s.astype('float')\n",
    "        r_s = r_s.astype('float')\n",
    "        return (1 - np.max(l_c, axis=1) / l_s) * l_s.T + (1 - np.max(r_c, axis=1) / r_s) * r_s.T\n",
    "\n",
    "    def __get_feature_ids_sqrt(self, n_feature):\n",
    "        feature_ids = range(n_feature)\n",
    "        np.random.shuffle(feature_ids)\n",
    "        return feature_ids[int(np.sqrt(n_feature))]\n",
    "        \n",
    "    def __get_feature_ids_log2(self, n_feature):\n",
    "        feature_ids = range(n_feature)\n",
    "        np.random.shuffle(feature_ids)\n",
    "        return feature_ids[int(np.log2(n_feature))]\n",
    "\n",
    "    def __get_feature_ids_N(self, n_feature):\n",
    "        return range(n_feature)\n",
    "    \n",
    "    def __sort_samples(self, x, y):\n",
    "        sorted_idx = x.argsort()\n",
    "        return x[sorted_idx], y[sorted_idx]\n",
    "\n",
    "    def __div_samples(self, x, y, feature_id, threshold):\n",
    "        left_mask = x[:, feature_id] > threshold\n",
    "        right_mask = ~left_mask\n",
    "        return x[left_mask], x[right_mask], y[left_mask], y[right_mask]\n",
    "    \n",
    "    def test(self, x, y, feature):\n",
    "        _, thresh = self._find_threshold(x[:, feature], y)\n",
    "        return self.__div_samples(x, y, feature, thresh), _, thresh\n",
    "    \n",
    "    def _find_threshold(self, x, y):\n",
    "        sorted_x, sorted_y = self.__sort_samples(x, y)\n",
    "        class_number = np.unique(y).shape[0]\n",
    "        \n",
    "        splitted_sorted_x = sorted_x[self.min_samples_leaf - 1:len(sorted_y) - self.min_samples_leaf + 1] # min_samples_leaf? -1 +1?\n",
    "        # splitted_sorted_y = sorted_y # min split\n",
    "        splitted_sorted = sorted_y[self.min_samples_split: -self.min_samples_split] # min leaf\n",
    "        r_border_ids = np.where(splitted_sorted_x[:-1] != splitted_sorted_x[1:])[0] + self.min_samples_leaf\n",
    "        \n",
    "        if (len(r_border_ids) == 0) or (class_number == 1):\n",
    "            return float('+inf'), None\n",
    "        eq_el_count = r_border_ids - np.append([self.min_samples_leaf - 1], r_border_ids[:-1]) # self.min_samples_split\n",
    "        one_hot_code = np.zeros((sorted_y.shape[0], sorted_y.max() + 1))\n",
    "        one_hot_code[np.arange(sorted_y.shape[0]), sorted_y] = 1\n",
    "        #class_increments = one_hot_code * eq_el_count.reshape(-1, 1) # broadcasting\n",
    "        #class_increments[0] = class_increments[0] + np.bincount(sorted_y[:self.min_samples_leaf - 1], minlength=class_number)\n",
    "        \n",
    "        l_class_count = np.cumsum(one_hot_code, axis=0)[r_border_ids - 1]        \n",
    "        r_class_count = np.bincount(sorted_y, minlength=class_number) - l_class_count #sorted_y\n",
    "        l_sizes = r_border_ids.reshape(l_class_count.shape[0], 1)\n",
    "        r_sizes = sorted_y.shape[0] - l_sizes\n",
    "\n",
    "        \n",
    "        gs = self.G_function(l_class_count, l_sizes, r_class_count, r_sizes)\n",
    "        idx = np.argmin(gs)\n",
    "        \n",
    "        left_el_id = l_sizes[idx][0]\n",
    "        gs[idx], sorted_x[left_el_id]\n",
    "        #sorted_x[left_el_id + 1]\n",
    "        if sorted_x[left_el_id - 1] == sorted_x[left_el_id]:\n",
    "            raise Exception\n",
    "        return gs[idx], 1.0 * sorted_x[left_el_id - 1] * left_el_id / sorted_y.shape[0] + 1.0 * sorted_x[left_el_id] * (1.0 - 1.0 * left_el_id / sorted_y.shape[0])\n",
    "\n",
    "    def _fit_node(self, x, y, node_id, depth, pred_f=-1):\n",
    "        # self.LEAF_TYPE\n",
    "        # self.NON_LEAF_TYPE\n",
    "        if depth < 2:\n",
    "            print y.shape\n",
    "        leaf = [\n",
    "            self.__class__.LEAF_TYPE, \n",
    "            np.argmax(np.bincount(y, minlength=self.num_class)), \n",
    "            np.bincount(y, minlength=self.num_class) * 1.0 / y.shape[0]\n",
    "        ]\n",
    "        if (depth == self.max_depth) or (x.shape[0] < self.min_samples_split) or (np.unique(y).shape[0] == 1):\n",
    "            self.tree[node_id] = leaf\n",
    "            #print 'leaf1'\n",
    "            if depth == self.max_depth:\n",
    "                print 'max_depth'\n",
    "            return\n",
    "        # self.tree\n",
    "        # self.max_depth\n",
    "        # self.sufficient_share\n",
    "        # self.min_samples_split\n",
    "        feature_ids = self.get_feature_ids(x.shape[1])\n",
    "        split_data = []\n",
    "        for feature in feature_ids:\n",
    "            error, threshold = self._find_threshold(x[:, feature], y)\n",
    "            split_data.append([feature, error, threshold])\n",
    "        best_split = min(split_data, key=lambda split: split[1])\n",
    "        # self.get_feature_ids\n",
    "        # self._find_threshold\n",
    "        # self.__div_samples\n",
    "        # self._fit_node\n",
    "        x_l, x_r, y_l, y_r = self.__div_samples(x, y, best_split[0], best_split[2])\n",
    "        #print [i.shape[0] for i in [y_l, y_r]]\n",
    "        if (best_split[1] == np.inf) or (not all([i.shape[0] for i in [y_l, y_r]])):\n",
    "            #print 'leaf2', best_split[1]\n",
    "            #print 'leaf2', best_split[1], [i.shape[0] for i in [y_l, y_r]]\n",
    "            self.tree[node_id] = leaf\n",
    "            return\n",
    "        #print 'node'\n",
    "        if depth < 2:\n",
    "            print y_l.shape, y_r.shape\n",
    "        self.tree[node_id] = (self.__class__.NON_LEAF_TYPE, best_split[0], best_split[2])\n",
    "        self._fit_node(x_l, y_l, 2 * node_id + 1, depth + 1)\n",
    "        self._fit_node(x_r, y_r, 2 * node_id + 2, depth + 1)\n",
    "    \n",
    "    def fit(self, x, y):\n",
    "        self.tree = {}\n",
    "        self.num_class = np.unique(y).size\n",
    "        self._fit_node(x, y, 0, 0) \n",
    "\n",
    "    def __predict_class(self, x, node_id):\n",
    "        node = self.tree[node_id]\n",
    "        if node[0] == self.__class__.NON_LEAF_TYPE:\n",
    "            _, feature_id, threshold = node\n",
    "            if x[feature_id] > threshold:\n",
    "                return self.__predict_class(x, 2 * node_id + 1)\n",
    "            else:\n",
    "                return self.__predict_class(x, 2 * node_id + 2)\n",
    "        else:\n",
    "            return node[1]\n",
    "\n",
    "    def __predict_probs(self, x, node_id):\n",
    "        node = self.tree[node_id]\n",
    "        if node[0] == self.__class__.NON_LEAF_TYPE:\n",
    "            _, feature_id, threshold = node\n",
    "            if x[feature_id] > threshold:\n",
    "                return self.__predict_probs(x, 2 * node_id + 1)\n",
    "            else:\n",
    "                return self.__predict_probs(x, 2 * node_id + 2)\n",
    "        else:\n",
    "            return node[2]\n",
    "        \n",
    "    def predict(self, X):\n",
    "        return np.array([self.__predict_class(x, 0) for x in X])\n",
    "    \n",
    "    def predict_probs(self, X):\n",
    "        return np.array([self.__predict_probs(x, 0) for x in X])\n",
    "\n",
    "    def fit_predict(self, x_train, y_train, predicted_x):\n",
    "        self.fit(x_train, y_train)\n",
    "        return self.predict(predicted_x)"
   ]
  },
  {
   "cell_type": "code",
   "execution_count": 1142,
   "metadata": {
    "collapsed": true
   },
   "outputs": [],
   "source": [
    "class MyDecisionTreeClassifier:\n",
    "    NON_LEAF_TYPE = 0\n",
    "    LEAF_TYPE = 1\n",
    "\n",
    "    def __init__(self, \n",
    "                 min_samples_split=2, \n",
    "                 min_samples_leaf=1,\n",
    "                 max_depth=None,\n",
    "                 sufficient_share=1.0,\n",
    "                 criterion='gini',\n",
    "                 max_features=None):\n",
    "        self.tree = dict()\n",
    "        self.min_samples_split = min_samples_split\n",
    "        self.min_samples_leaf = min_samples_leaf\n",
    "        self.max_depth = max_depth\n",
    "        self.sufficient_share = sufficient_share\n",
    "        self.num_class = -1\n",
    "        if criterion == 'gini':\n",
    "            self.G_function = self.__gini\n",
    "        elif criterion == 'entropy':\n",
    "            self.G_function = self.__entropy\n",
    "        elif criterion == 'misclass':\n",
    "            self.G_function = self.__misclass\n",
    "        else:\n",
    "            print 'invalid criterion name'\n",
    "            raise\n",
    "\n",
    "        if max_features == 'sqrt':\n",
    "            self.get_feature_ids = self.__get_feature_ids_sqrt\n",
    "        elif max_features == 'log2':\n",
    "            self.get_feature_ids = self.__get_feature_ids_log2\n",
    "        elif max_features == None:\n",
    "            self.get_feature_ids = self.__get_feature_ids_N\n",
    "        else:\n",
    "            print 'invalid max_features name'\n",
    "            raise\n",
    "\n",
    "    def __gini(self, l_c, l_s, r_c, r_s):\n",
    "        l_s = l_s.astype('float')\n",
    "        r_s = r_s.astype('float')\n",
    "        return ((1 - ((l_c / l_s) ** 2).sum(axis=1)) * l_s.T + (1 - ((r_c / r_s) ** 2).sum(axis=1)) * r_s.T)[0].T\n",
    "    \n",
    "    def __entropy(self, l_c, l_s, r_c, r_s): #check correct formulae\n",
    "        l_s = l_s.astype('float')\n",
    "        r_s = r_s.astype('float')\n",
    "        return (-((l_c / l_s) * np.log(l_c / l_s)).sum(axis=1)) * l_s.T - ((r_c / r_s) * np.log(r_c / r_s)).sum(axis=1) * r_s.T\n",
    "\n",
    "    def __misclass(self, l_c, l_s, r_c, r_s):\n",
    "        l_s = l_s.astype('float')\n",
    "        r_s = r_s.astype('float')\n",
    "        return (1 - np.max(l_c, axis=1) / l_s) * l_s.T + (1 - np.max(r_c, axis=1) / r_s) * r_s.T\n",
    "\n",
    "    def __get_feature_ids_sqrt(self, n_feature):\n",
    "        feature_ids = range(n_feature)\n",
    "        np.random.shuffle(feature_ids)\n",
    "        return feature_ids[int(np.sqrt(n_feature))]\n",
    "        \n",
    "    def __get_feature_ids_log2(self, n_feature):\n",
    "        feature_ids = range(n_feature)\n",
    "        np.random.shuffle(feature_ids)\n",
    "        return feature_ids[int(np.log2(n_feature))]\n",
    "\n",
    "    def __get_feature_ids_N(self, n_feature):\n",
    "        return range(n_feature)\n",
    "    \n",
    "    def __sort_samples(self, x, y):\n",
    "        sorted_idx = x.argsort()\n",
    "        return x[sorted_idx], y[sorted_idx]\n",
    "\n",
    "    def __div_samples(self, x, y, feature_id, threshold):\n",
    "        left_mask = x[:, feature_id] > threshold\n",
    "        right_mask = ~left_mask\n",
    "        return x[left_mask], x[right_mask], y[left_mask], y[right_mask]\n",
    "    \n",
    "    def test(self, x, y, feature):\n",
    "        _, thresh = self._find_threshold(x[:, feature], y)\n",
    "        return self.__div_samples(x, y, feature, thresh), _, thresh\n",
    "    \n",
    "    def _find_threshold(self, x, y):\n",
    "        sorted_x, sorted_y = self.__sort_samples(x, y)\n",
    "        class_number = np.unique(y).shape[0]\n",
    "        \n",
    "        #splitted_sorted = sorted_y[self.min_samples_split: -self.min_samples_split] # min leaf\n",
    "        a1 = np.where(sorted_x[:-1] != sorted_x[1:])[0] # where we can split\n",
    "        b2 = np.append([0], np.where(sorted_y[:-1] != sorted_y[1:], 1, 0)).cumsum() # number of class changes up to this point\n",
    "        c0 = b2[a1] # number of classes at each possible split\n",
    "        c = np.where(c0[1:] != c0[:-1])[0] # where they change\n",
    "\n",
    "        d = np.unique(np.sort(np.concatenate((c + 1, c)))) # point right before and after they change\n",
    "        #a1[d] # result??????\n",
    "        r_border_ids = a1[d]\\\n",
    "        [self.min_samples_leaf - 1:len(sorted_y) - self.min_samples_leaf + 1] + self.min_samples_leaf\n",
    "        \n",
    "        if len(r_border_ids) == 0 or class_number == 1:\n",
    "            return float('+inf'), None\n",
    "        \n",
    "        #eq_el_count = r_border_ids - np.append([self.min_samples_leaf - 1], r_border_ids[:-1]) # self.min_samples_split\n",
    "        one_hot_code = np.zeros((r_border_ids.shape[0], class_number))\n",
    "        one_hot_code[np.arange(r_border_ids.shape[0]), sorted_y[r_border_ids]] = 1\n",
    "        #class_increments = one_hot_code * eq_el_count.reshape(-1, 1) # broadcasting\n",
    "        #class_increments[0] = class_increments[0] + np.bincount(sorted_y[:self.min_samples_leaf - 1], minlength=class_number)\n",
    "        \n",
    "        l_class_count = np.cumsum(one_hot_code, axis=0)[r_border_ids - 1]        \n",
    "        r_class_count = np.bincount(sorted_y, minlength=class_number) - l_class_count #sorted_y\n",
    "        l_sizes = r_border_ids.reshape(l_class_count.shape[0], 1)\n",
    "        r_sizes = sorted_y.shape[0] - l_sizes\n",
    "\n",
    "        \n",
    "        gs = self.G_function(l_class_count, l_sizes, r_class_count, r_sizes)\n",
    "        idx = np.argmin(gs)\n",
    "        \n",
    "        left_el_id = l_sizes[idx][0]\n",
    "        gs[idx], sorted_x[left_el_id]\n",
    "        #sorted_x[left_el_id + 1]\n",
    "        if sorted_x[left_el_id - 1] == sorted_x[left_el_id]:\n",
    "            raise Exception\n",
    "        return gs[idx], 1.0 * sorted_x[left_el_id - 1] * left_el_id / sorted_y.shape[0] + 1.0 * sorted_x[left_el_id] * (1.0 - 1.0 * left_el_id / sorted_y.shape[0])\n",
    "\n",
    "    def _fit_node(self, x, y, node_id, depth, pred_f=-1):\n",
    "        # self.LEAF_TYPE\n",
    "        # self.NON_LEAF_TYPE\n",
    "        leaf = [\n",
    "            self.__class__.LEAF_TYPE, \n",
    "            np.argmax(np.bincount(y, minlength=self.num_class)), \n",
    "            np.bincount(y, minlength=self.num_class) * 1.0 / y.shape[0]\n",
    "        ]\n",
    "        if depth == self.max_depth or x.shape[0] < self.min_samples_split or np.unique(y).shape[0] == 1:\n",
    "            self.tree[node_id] = leaf\n",
    "            #print 'leaf1'\n",
    "            if depth == self.max_depth:\n",
    "                print 'max_depth'\n",
    "            return\n",
    "        # self.tree\n",
    "        # self.max_depth\n",
    "        # self.sufficient_share\n",
    "        # self.min_samples_split\n",
    "        feature_ids = self.get_feature_ids(x.shape[1])\n",
    "        split_data = []\n",
    "        for feature in feature_ids:\n",
    "            error, threshold = self._find_threshold(x[:, feature], y)\n",
    "            split_data.append([feature, error, threshold])\n",
    "        best_split = min(split_data, key=lambda split: split[1])\n",
    "        # self.get_feature_ids\n",
    "        # self._find_threshold\n",
    "        # self.__div_samples\n",
    "        # self._fit_node\n",
    "        x_l, x_r, y_l, y_r = self.__div_samples(x, y, best_split[0], best_split[2])\n",
    "        #print [i.shape[0] for i in [y_l, y_r]]\n",
    "        if (best_split[1] == np.inf) or (not all([i.shape[0] for i in [y_l, y_r]])):\n",
    "            #print 'leaf2', best_split[1]\n",
    "            #print 'leaf2', best_split[1], [i.shape[0] for i in [y_l, y_r]]\n",
    "            self.tree[node_id] = leaf\n",
    "            return\n",
    "        #print 'node'\n",
    "        self.tree[node_id] = (self.__class__.NON_LEAF_TYPE, best_split[0], best_split[2])\n",
    "        self._fit_node(x_l, y_l, 2 * node_id + 1, depth + 1)\n",
    "        self._fit_node(x_r, y_r, 2 * node_id + 2, depth + 1)\n",
    "    \n",
    "    def fit(self, x, y):\n",
    "        self.tree = {}\n",
    "        self.num_class = np.unique(y).size\n",
    "        self._fit_node(x, y, 0, 0) \n",
    "\n",
    "    def __predict_class(self, x, node_id):\n",
    "        node = self.tree[node_id]\n",
    "        if node[0] == self.__class__.NON_LEAF_TYPE:\n",
    "            _, feature_id, threshold = node\n",
    "            if x[feature_id] > threshold:\n",
    "                return self.__predict_class(x, 2 * node_id + 1)\n",
    "            else:\n",
    "                return self.__predict_class(x, 2 * node_id + 2)\n",
    "        else:\n",
    "            return node[1]\n",
    "\n",
    "    def __predict_probs(self, x, node_id):\n",
    "        node = self.tree[node_id]\n",
    "        if node[0] == self.__class__.NON_LEAF_TYPE:\n",
    "            _, feature_id, threshold = node\n",
    "            if x[feature_id] > threshold:\n",
    "                return self.__predict_probs(x, 2 * node_id + 1)\n",
    "            else:\n",
    "                return self.__predict_probs(x, 2 * node_id + 2)\n",
    "        else:\n",
    "            return node[2]\n",
    "        \n",
    "    def predict(self, X):\n",
    "        return np.array([self.__predict_class(x, 0) for x in X])\n",
    "    \n",
    "    def predict_probs(self, X):\n",
    "        return np.array([self.__predict_probs(x, 0) for x in X])\n",
    "\n",
    "    def fit_predict(self, x_train, y_train, predicted_x):\n",
    "        self.fit(x_train, y_train)\n",
    "        return self.predict(predicted_x)"
   ]
  },
  {
   "cell_type": "code",
   "execution_count": 1074,
   "metadata": {
    "collapsed": true
   },
   "outputs": [],
   "source": [
    "%load_ext line_profiler"
   ]
  },
  {
   "cell_type": "code",
   "execution_count": 1173,
   "metadata": {
    "collapsed": true
   },
   "outputs": [],
   "source": [
    "mc = MyDecisionTreeClassifier(min_samples_leaf=3, min_samples_split=6)"
   ]
  },
  {
   "cell_type": "code",
   "execution_count": 1191,
   "metadata": {
    "collapsed": true
   },
   "outputs": [],
   "source": [
    "mc = MyDecisionTreeClassifier_old(min_samples_split=2)"
   ]
  },
  {
   "cell_type": "code",
   "execution_count": 1174,
   "metadata": {},
   "outputs": [
    {
     "name": "stdout",
     "output_type": "stream",
     "text": [
      "(120269L,)\n",
      "(6725L,) (113544L,)\n",
      "(6725L,)\n",
      "(2413L,) (4312L,)\n",
      "(113544L,)\n",
      "(26776L,) (86768L,)\n"
     ]
    }
   ],
   "source": [
    "mc.fit(x, y)"
   ]
  },
  {
   "cell_type": "code",
   "execution_count": 1192,
   "metadata": {},
   "outputs": [
    {
     "name": "stdout",
     "output_type": "stream",
     "text": [
      "(120269L,)\n",
      "(2413L,) (117856L,)\n",
      "(2413L,)\n",
      "(854L,) (1559L,)\n",
      "(117856L,)\n",
      "leaf2 (117856L,) 12510.2169 (0L,) (117856L,) [6, 12510.216900001584, 1.0]\n"
     ]
    }
   ],
   "source": [
    "mc.fit(x, y)"
   ]
  },
  {
   "cell_type": "code",
   "execution_count": 1196,
   "metadata": {},
   "outputs": [
    {
     "data": {
      "text/plain": [
       "[<matplotlib.lines.Line2D at 0x9d9cab38>]"
      ]
     },
     "execution_count": 1196,
     "metadata": {},
     "output_type": "execute_result"
    },
    {
     "data": {
      "image/png": "[encoded data removed]",
      "text/plain": [
       "<matplotlib.figure.Figure at 0x991ad780>"
      ]
     },
     "metadata": {},
     "output_type": "display_data"
    }
   ],
   "source": [
    "atr = x[:, 6].argsort()\n",
    "plt.plot(x[:, 6][atr])"
   ]
  },
  {
   "cell_type": "code",
   "execution_count": 1200,
   "metadata": {},
   "outputs": [
    {
     "data": {
      "text/plain": [
       "(13850.753616551754, 1.0)"
      ]
     },
     "execution_count": 1200,
     "metadata": {},
     "output_type": "execute_result"
    }
   ],
   "source": [
    "mc._find_threshold(x[:, 6], y)"
   ]
  },
  {
   "cell_type": "code",
   "execution_count": 1,
   "metadata": {},
   "outputs": [
    {
     "ename": "NameError",
     "evalue": "name 'mc' is not defined",
     "output_type": "error",
     "traceback": [
      "\u001b[1;31m---------------------------------------------------------------------------\u001b[0m",
      "\u001b[1;31mNameError\u001b[0m                                 Traceback (most recent call last)",
      "\u001b[1;32m<ipython-input-1-25711f0c3322>\u001b[0m in \u001b[0;36m<module>\u001b[1;34m()\u001b[0m\n\u001b[1;32m----> 1\u001b[1;33m \u001b[0mmc\u001b[0m\u001b[1;33m\u001b[0m\u001b[0m\n\u001b[0m",
      "\u001b[1;31mNameError\u001b[0m: name 'mc' is not defined"
     ]
    }
   ],
   "source": [
    "mc"
   ]
  },
  {
   "cell_type": "code",
   "execution_count": 1199,
   "metadata": {},
   "outputs": [
    {
     "data": {
      "text/plain": [
       "13634"
      ]
     },
     "execution_count": 1199,
     "metadata": {},
     "output_type": "execute_result"
    }
   ],
   "source": [
    "(y[atr][1:] != y[atr][:-1]).sum()"
   ]
  },
  {
   "cell_type": "code",
   "execution_count": 1197,
   "metadata": {},
   "outputs": [
    {
     "data": {
      "text/plain": [
       "[<matplotlib.lines.Line2D at 0x999bee10>]"
      ]
     },
     "execution_count": 1197,
     "metadata": {},
     "output_type": "execute_result"
    },
    {
     "data": {
      "image/png": "[encoded data removed]",
      "text/plain": [
       "<matplotlib.figure.Figure at 0x721b7cf8>"
      ]
     },
     "metadata": {},
     "output_type": "display_data"
    }
   ],
   "source": [
    "plt.plot(y[atr])"
   ]
  },
  {
   "cell_type": "code",
   "execution_count": 1152,
   "metadata": {
    "collapsed": true,
    "scrolled": true
   },
   "outputs": [],
   "source": [
    "%lprun -f mc.fit -f mc._find_threshold -f mc._fit_node mc.fit(x, y)"
   ]
  },
  {
   "cell_type": "code",
   "execution_count": 893,
   "metadata": {},
   "outputs": [
    {
     "data": {
      "text/plain": [
       "14126"
      ]
     },
     "execution_count": 893,
     "metadata": {},
     "output_type": "execute_result"
    }
   ],
   "source": [
    "b = y[x[:, 0].argsort()]\n",
    "(a[:-1] != a[1:]).sum()"
   ]
  },
  {
   "cell_type": "code",
   "execution_count": 894,
   "metadata": {},
   "outputs": [
    {
     "data": {
      "text/plain": [
       "103062"
      ]
     },
     "execution_count": 894,
     "metadata": {},
     "output_type": "execute_result"
    }
   ],
   "source": [
    "a = x[:, 0][x[:, 0].argsort()]\n",
    "(a[:-1] != a[1:]).sum()"
   ]
  },
  {
   "cell_type": "code",
   "execution_count": 912,
   "metadata": {},
   "outputs": [
    {
     "data": {
      "text/plain": [
       "(array([  7870,   7871,   7872, ..., 120265, 120266, 120267], dtype=int64),)"
      ]
     },
     "execution_count": 912,
     "metadata": {},
     "output_type": "execute_result"
    }
   ],
   "source": [
    "np.where(a[:-1] != a[1:])"
   ]
  },
  {
   "cell_type": "code",
   "execution_count": 907,
   "metadata": {},
   "outputs": [
    {
     "data": {
      "text/plain": [
       "(11164L,)"
      ]
     },
     "execution_count": 907,
     "metadata": {},
     "output_type": "execute_result"
    }
   ],
   "source": [
    "c = b2[np.where(a[:-1] != a[1:], 1, 0)]\n",
    "np.where(c[:-1] != c[1:])[0].shape"
   ]
  },
  {
   "cell_type": "code",
   "execution_count": 918,
   "metadata": {},
   "outputs": [
    {
     "data": {
      "text/plain": [
       "(120269L,)"
      ]
     },
     "execution_count": 918,
     "metadata": {},
     "output_type": "execute_result"
    }
   ],
   "source": [
    "b2.shape"
   ]
  },
  {
   "cell_type": "code",
   "execution_count": 956,
   "metadata": {},
   "outputs": [
    {
     "data": {
      "text/plain": [
       "(103063L,)"
      ]
     },
     "execution_count": 956,
     "metadata": {},
     "output_type": "execute_result"
    }
   ],
   "source": [
    "a1.shape"
   ]
  },
  {
   "cell_type": "code",
   "execution_count": 1003,
   "metadata": {
    "collapsed": true
   },
   "outputs": [],
   "source": [
    "c0 = b2[a1] # number of classes at each possible split\n",
    "c = np.where(c0[1:] != c0[:-1])[0] # where they change\n",
    "\n",
    "d = np.unique(np.sort(np.concatenate((c + 1, c)))) # point right before and after they change\n",
    "a1[d] # result??????"
   ]
  },
  {
   "cell_type": "code",
   "execution_count": 1014,
   "metadata": {},
   "outputs": [
    {
     "data": {
      "text/plain": [
       "array([     8,      9,     10, ..., 103031, 103032, 103033], dtype=int64)"
      ]
     },
     "execution_count": 1014,
     "metadata": {},
     "output_type": "execute_result"
    }
   ],
   "source": [
    "d"
   ]
  },
  {
   "cell_type": "code",
   "execution_count": 1031,
   "metadata": {},
   "outputs": [
    {
     "data": {
      "text/plain": [
       "array([  524,   525,   526, ..., 14124, 14125, 14126])"
      ]
     },
     "execution_count": 1031,
     "metadata": {},
     "output_type": "execute_result"
    }
   ],
   "source": [
    "b2[a1][d] # how to get original index?"
   ]
  },
  {
   "cell_type": "code",
   "execution_count": null,
   "metadata": {
    "collapsed": true
   },
   "outputs": [],
   "source": [
    "a1[d] # result??????"
   ]
  },
  {
   "cell_type": "code",
   "execution_count": 988,
   "metadata": {},
   "outputs": [
    {
     "data": {
      "text/plain": [
       "(16708L,)"
      ]
     },
     "execution_count": 988,
     "metadata": {},
     "output_type": "execute_result"
    }
   ],
   "source": [
    "d.shape"
   ]
  },
  {
   "cell_type": "code",
   "execution_count": 1000,
   "metadata": {},
   "outputs": [
    {
     "data": {
      "text/plain": [
       "((120269L,),\n",
       " array([14114, 14114, 14114, 14114, 14114, 14114, 14114, 14114, 14114,\n",
       "        14114, 14114, 14115, 14116, 14116, 14116, 14116, 14116, 14116,\n",
       "        14116, 14116, 14116, 14116, 14116, 14117, 14118, 14118, 14118,\n",
       "        14118, 14118, 14118, 14118, 14118, 14118, 14118, 14119, 14120,\n",
       "        14120, 14120, 14120, 14121, 14122, 14122, 14122, 14122, 14122,\n",
       "        14123, 14124, 14124, 14124, 14124, 14124, 14124, 14124, 14124,\n",
       "        14124, 14124, 14124, 14124, 14124, 14124, 14124, 14124, 14124,\n",
       "        14124, 14124, 14124, 14124, 14124, 14124, 14124, 14125, 14126,\n",
       "        14126, 14126, 14126, 14126, 14126, 14126, 14126, 14126, 14126,\n",
       "        14126, 14126, 14126, 14126, 14126, 14126, 14126, 14126, 14126,\n",
       "        14126, 14126, 14126, 14126, 14126, 14126, 14126, 14126, 14126, 14126]))"
      ]
     },
     "execution_count": 1000,
     "metadata": {},
     "output_type": "execute_result"
    }
   ],
   "source": [
    "b2.shape, b2[-100:]"
   ]
  },
  {
   "cell_type": "code",
   "execution_count": 1141,
   "metadata": {
    "collapsed": true
   },
   "outputs": [
    {
     "data": {
      "text/plain": [
       "[<matplotlib.lines.Line2D at 0x9a24f470>]"
      ]
     },
     "execution_count": 1141,
     "metadata": {},
     "output_type": "execute_result"
    },
    {
     "data": {
      "image/png": "[encoded data removed]",
      "text/plain": [
       "<matplotlib.figure.Figure at 0x8dd210b8>"
      ]
     },
     "metadata": {},
     "output_type": "display_data"
    }
   ],
   "source": [
    "feature = 9\n",
    "asort = np.argsort(x[:, feature])\n",
    "fig, axes = plt.subplots(2, figsize=(12, 12))\n",
    "axes[0].plot(x[:, feature][asort])\n",
    "axes[1].plot(y[asort])"
   ]
  },
  {
   "cell_type": "code",
   "execution_count": 1136,
   "metadata": {
    "collapsed": true
   },
   "outputs": [
    {
     "data": {
      "text/plain": [
       "[<matplotlib.lines.Line2D at 0x8a8ca4a8>]"
      ]
     },
     "execution_count": 1136,
     "metadata": {},
     "output_type": "execute_result"
    },
    {
     "data": {
      "image/png": "[encoded data removed]",
      "text/plain": [
       "<matplotlib.figure.Figure at 0x69cbceb8>"
      ]
     },
     "metadata": {},
     "output_type": "display_data"
    }
   ],
   "source": [
    "feature = 5\n",
    "asort = np.argsort(y)\n",
    "fig, axes = plt.subplots(2, figsize=(12, 12))\n",
    "axes[0].plot(x[:, feature][asort])\n",
    "axes[1].plot(y[asort])"
   ]
  },
  {
   "cell_type": "code",
   "execution_count": 1001,
   "metadata": {
    "collapsed": true
   },
   "outputs": [
    {
     "data": {
      "text/plain": [
       "((103062L,),\n",
       " array([120169, 120170, 120171, 120172, 120173, 120174, 120175, 120176,\n",
       "        120177, 120178, 120179, 120180, 120181, 120182, 120183, 120184,\n",
       "        120185, 120186, 120187, 120188, 120189, 120190, 120191, 120192,\n",
       "        120193, 120194, 120195, 120196, 120197, 120198, 120199, 120200,\n",
       "        120201, 120202, 120203, 120204, 120205, 120206, 120207, 120208,\n",
       "        120209, 120210, 120211, 120212, 120213, 120214, 120215, 120216,\n",
       "        120217, 120218, 120219, 120220, 120221, 120222, 120223, 120224,\n",
       "        120225, 120226, 120227, 120228, 120229, 120230, 120231, 120232,\n",
       "        120233, 120234, 120235, 120236, 120237, 120238, 120239, 120240,\n",
       "        120241, 120242, 120243, 120244, 120245, 120246, 120247, 120248,\n",
       "        120249, 120250, 120251, 120252, 120253, 120254, 120255, 120256,\n",
       "        120257, 120258, 120259, 120260, 120261, 120262, 120263, 120264,\n",
       "        120265, 120266, 120267, 120268], dtype=int64))"
      ]
     },
     "execution_count": 1001,
     "metadata": {},
     "output_type": "execute_result"
    }
   ],
   "source": [
    "a1.shape, a1[-100:]"
   ]
  },
  {
   "cell_type": "code",
   "execution_count": 993,
   "metadata": {},
   "outputs": [
    {
     "data": {
      "text/plain": [
       "array([     8,      9,     10, ..., 103031, 103032, 103033], dtype=int64)"
      ]
     },
     "execution_count": 993,
     "metadata": {},
     "output_type": "execute_result"
    }
   ],
   "source": [
    "d"
   ]
  },
  {
   "cell_type": "code",
   "execution_count": 957,
   "metadata": {
    "collapsed": true
   },
   "outputs": [],
   "source": [
    "a1 = 1 + np.where(a[:-1] != a[1:])[0] # where we can split\n",
    "a2 = np.append([0], np.where(a[:-1] != a[1:], 1, 0)).cumsum() \n",
    "b2 = np.append([0], np.where(b[:-1] != b[1:], 1, 0)).cumsum() # number of class changes up to this point"
   ]
  },
  {
   "cell_type": "code",
   "execution_count": null,
   "metadata": {
    "collapsed": true
   },
   "outputs": [],
   "source": [
    "np.where"
   ]
  },
  {
   "cell_type": "code",
   "execution_count": 786,
   "metadata": {
    "collapsed": true
   },
   "outputs": [
    {
     "data": {
      "text/plain": [
       "[<matplotlib.lines.Line2D at 0x65dee438>]"
      ]
     },
     "execution_count": 786,
     "metadata": {},
     "output_type": "execute_result"
    },
    {
     "data": {
      "image/png": "[encoded data removed]",
      "text/plain": [
       "<matplotlib.figure.Figure at 0x66d616a0>"
      ]
     },
     "metadata": {},
     "output_type": "display_data"
    }
   ],
   "source": [
    "plt.plot(np.sort(x[:, 9]))"
   ]
  },
  {
   "cell_type": "code",
   "execution_count": 775,
   "metadata": {
    "collapsed": true
   },
   "outputs": [
    {
     "data": {
      "text/plain": [
       "[<matplotlib.lines.Line2D at 0x6ca34470>]"
      ]
     },
     "execution_count": 775,
     "metadata": {},
     "output_type": "execute_result"
    },
    {
     "data": {
      "image/png": "[encoded data removed]",
      "text/plain": [
       "<matplotlib.figure.Figure at 0x66d41d30>"
      ]
     },
     "metadata": {},
     "output_type": "display_data"
    }
   ],
   "source": [
    "plt.plot(x[:, 3])"
   ]
  },
  {
   "cell_type": "code",
   "execution_count": 769,
   "metadata": {},
   "outputs": [
    {
     "data": {
      "text/plain": [
       "8357"
      ]
     },
     "execution_count": 769,
     "metadata": {},
     "output_type": "execute_result"
    }
   ],
   "source": [
    "(y == 1).sum()"
   ]
  },
  {
   "cell_type": "code",
   "execution_count": 733,
   "metadata": {
    "collapsed": true
   },
   "outputs": [],
   "source": [
    "sorted_x = np.array([0.1,0.1,0.5,2,3,3])\n",
    "sorted_y = np.array([0,0,1,1,0,1])\n",
    "min_samples_leaf = 1\n",
    "\n",
    "\n",
    "splitted_sorted_x = sorted_x[min_samples_leaf - 1:len(sorted_y) - min_samples_leaf + 1]\n",
    "r_border_ids = np.where(splitted_sorted_x[:-1] != splitted_sorted_x[1:])[0] + min_samples_leaf\n",
    "\n",
    "#eq_el_count = r_border_ids - np.append([self.min_samples_leaf - 1], r_border_ids[:-1]) # self.min_samples_split\n",
    "one_hot_code = np.zeros((sorted_y.shape[0], sorted_y.max() + 1))\n",
    "one_hot_code[np.arange(sorted_y.shape[0]), sorted_y] = 1\n",
    "\n",
    "l_class_count = np.cumsum(one_hot_code, axis=0)[r_border_ids - 1]        \n",
    "r_class_count = np.bincount(sorted_y, minlength=class_number) - l_class_count #sorted_y\n",
    "l_sizes = r_border_ids.reshape(l_class_count.shape[0], 1)\n",
    "r_sizes = sorted_y.shape[0] - l_sizes"
   ]
  },
  {
   "cell_type": "code",
   "execution_count": 735,
   "metadata": {},
   "outputs": [
    {
     "data": {
      "text/plain": [
       "(array([[ 2.,  0.],\n",
       "        [ 2.,  1.],\n",
       "        [ 2.,  2.]]), array([[ 1.,  3.],\n",
       "        [ 1.,  2.],\n",
       "        [ 1.,  1.]]), array([[2],\n",
       "        [3],\n",
       "        [4]], dtype=int64), array([[4],\n",
       "        [3],\n",
       "        [2]], dtype=int64))"
      ]
     },
     "execution_count": 735,
     "metadata": {},
     "output_type": "execute_result"
    }
   ],
   "source": [
    "l_class_count, r_class_count, l_sizes, r_sizes"
   ]
  },
  {
   "cell_type": "code",
   "execution_count": 869,
   "metadata": {
    "collapsed": true
   },
   "outputs": [],
   "source": [
    "my_clf = MyDecisionTreeClassifier(min_samples_split=80, min_samples_leaf=40)\n",
    "my_clf_old = MyDecisionTreeClassifier_old(min_samples_split=40)\n",
    "clf = DecisionTreeClassifier(min_samples_split=2)"
   ]
  },
  {
   "cell_type": "code",
   "execution_count": 1179,
   "metadata": {
    "collapsed": true
   },
   "outputs": [],
   "source": [
    "my_clf = MyDecisionTreeClassifier(min_samples_split=2, min_samples_leaf=1)\n",
    "my_clf_old = MyDecisionTreeClassifier_old(min_samples_split=2)\n",
    "clf = DecisionTreeClassifier(min_samples_split=2)"
   ]
  },
  {
   "cell_type": "markdown",
   "metadata": {},
   "source": [
    "## Проверка скорости работы"
   ]
  },
  {
   "cell_type": "code",
   "execution_count": 1180,
   "metadata": {},
   "outputs": [
    {
     "name": "stdout",
     "output_type": "stream",
     "text": [
      "(120269L,)\n",
      "(2413L,) (117856L,)\n",
      "(2413L,)\n",
      "(854L,) (1559L,)\n",
      "(117856L,)\n",
      "0.677999973297\n"
     ]
    }
   ],
   "source": [
    "t1 = time()\n",
    "my_clf_old.fit(x, y)\n",
    "t2 = time()\n",
    "print(t2 - t1)"
   ]
  },
  {
   "cell_type": "code",
   "execution_count": 1068,
   "metadata": {},
   "outputs": [
    {
     "name": "stdout",
     "output_type": "stream",
     "text": [
      "13.6579999924\n"
     ]
    }
   ],
   "source": [
    "t1 = time()\n",
    "my_clf.fit(x, y)\n",
    "t2 = time()\n",
    "print(t2 - t1)"
   ]
  },
  {
   "cell_type": "code",
   "execution_count": 1069,
   "metadata": {},
   "outputs": [
    {
     "name": "stdout",
     "output_type": "stream",
     "text": [
      "1.44599986076\n"
     ]
    }
   ],
   "source": [
    "t1 = time()\n",
    "clf.fit(x, y)\n",
    "t2 = time()\n",
    "print(t2 - t1)"
   ]
  },
  {
   "cell_type": "markdown",
   "metadata": {},
   "source": [
    "## Проверка качества работы"
   ]
  },
  {
   "cell_type": "markdown",
   "metadata": {},
   "source": [
    "Scewed dataset?"
   ]
  },
  {
   "cell_type": "code",
   "execution_count": 745,
   "metadata": {
    "collapsed": true
   },
   "outputs": [],
   "source": [
    "gkf = KFold(n_splits=5, shuffle=True)"
   ]
  },
  {
   "cell_type": "code",
   "execution_count": 1181,
   "metadata": {},
   "outputs": [
    {
     "name": "stdout",
     "output_type": "stream",
     "text": [
      "(96215L,)\n",
      "(1947L,) (94268L,)\n",
      "(1947L,)\n",
      "(532L,) (1415L,)\n",
      "(94268L,)\n",
      "0.933150411574\n",
      "(96215L,)\n",
      "(1911L,) (94304L,)\n",
      "(1911L,)\n",
      "(413L,) (1498L,)\n",
      "(94304L,)\n",
      "0.931778498379\n",
      "(96215L,)\n",
      "(1925L,) (94290L,)\n",
      "(1925L,)\n",
      "(421L,) (1504L,)\n",
      "(94290L,)\n",
      "0.934023447244\n",
      "(96215L,)\n",
      "(1926L,) (94289L,)\n",
      "(1926L,)\n",
      "(486L,) (1440L,)\n",
      "(94289L,)\n",
      "(3414L,) (90875L,)\n",
      "0.930032427039\n",
      "(96216L,)\n",
      "(1943L,) (94273L,)\n",
      "(1943L,)\n",
      "(682L,) (1261L,)\n",
      "(94273L,)\n",
      "(3423L,) (90850L,)\n",
      "0.930985739825\n"
     ]
    }
   ],
   "source": [
    "#original>\n",
    "for train, test in gkf.split(x, y):\n",
    "    X_train, y_train = x[train], y[train]\n",
    "    X_test, y_test = x[test], y[test]\n",
    "    my_clf_old.fit(X_train, y_train)\n",
    "    #print my_clf.predict(X_test).sum()\n",
    "    print(accuracy_score(y_pred=my_clf_old.predict(X_test), y_true=y_test))"
   ]
  },
  {
   "cell_type": "code",
   "execution_count": 695,
   "metadata": {
    "collapsed": true
   },
   "outputs": [
    {
     "name": "stdout",
     "output_type": "stream",
     "text": [
      "0.931113328345\n",
      "0.934522324769\n",
      "0.928494221335\n",
      "0.929325683878\n",
      "0.927826050804\n"
     ]
    }
   ],
   "source": [
    "#original >=\n",
    "for train, test in gkf.split(x, y):\n",
    "    X_train, y_train = x[train], y[train]\n",
    "    X_test, y_test = x[test], y[test]\n",
    "    my_clf.fit(X_train, y_train)\n",
    "    #print my_clf.predict(X_test).sum()\n",
    "    print(accuracy_score(y_pred=my_clf.predict(X_test), y_true=y_test))"
   ]
  },
  {
   "cell_type": "code",
   "execution_count": 871,
   "metadata": {},
   "outputs": [
    {
     "name": "stdout",
     "output_type": "stream",
     "text": [
      "0.932069510269\n",
      "0.929034671988\n",
      "0.933607715972\n",
      "0.933316704082\n",
      "0.933313931734\n"
     ]
    }
   ],
   "source": [
    "#new\n",
    "for train, test in gkf.split(x, y):\n",
    "    X_train, y_train = x[train], y[train]\n",
    "    X_test, y_test = x[test], y[test]\n",
    "    my_clf.fit(X_train, y_train)\n",
    "    #print my_clf.predict(X_test).sum()\n",
    "    print(accuracy_score(y_pred=my_clf.predict(X_test), y_true=y_test))"
   ]
  },
  {
   "cell_type": "code",
   "execution_count": 566,
   "metadata": {},
   "outputs": [
    {
     "data": {
      "text/plain": [
       "7067"
      ]
     },
     "execution_count": 566,
     "metadata": {},
     "output_type": "execute_result"
    }
   ],
   "source": [
    "(my_clf.predict(x) != y).sum()"
   ]
  },
  {
   "cell_type": "code",
   "execution_count": 565,
   "metadata": {},
   "outputs": [
    {
     "data": {
      "text/plain": [
       "2585"
      ]
     },
     "execution_count": 565,
     "metadata": {},
     "output_type": "execute_result"
    }
   ],
   "source": [
    "(clf.predict(x) != y).sum()"
   ]
  },
  {
   "cell_type": "code",
   "execution_count": 559,
   "metadata": {},
   "outputs": [
    {
     "data": {
      "text/plain": [
       "8357"
      ]
     },
     "execution_count": 559,
     "metadata": {},
     "output_type": "execute_result"
    }
   ],
   "source": [
    "(y != 0).sum()"
   ]
  },
  {
   "cell_type": "code",
   "execution_count": 1072,
   "metadata": {},
   "outputs": [
    {
     "name": "stdout",
     "output_type": "stream",
     "text": [
      "0.991435864604\n",
      "0.935827187388\n",
      "0.999983370611\n"
     ]
    }
   ],
   "source": [
    "print(accuracy_score(y_pred=my_clf.predict(x), y_true=y))\n",
    "print(accuracy_score(y_pred=my_clf_old.predict(x), y_true=y))\n",
    "print(accuracy_score(y_pred=clf.predict(x), y_true=y))"
   ]
  },
  {
   "cell_type": "code",
   "execution_count": 884,
   "metadata": {},
   "outputs": [
    {
     "name": "stdout",
     "output_type": "stream",
     "text": [
      "0.893697513927\n",
      "0.89423796458\n",
      "0.891702003825\n",
      "0.892117735096\n",
      "0.892030100195\n"
     ]
    }
   ],
   "source": [
    "for train, test in gkf.split(x, y):\n",
    "    X_train, y_train = x[train], y[train]\n",
    "    X_test, y_test = x[test], y[test]\n",
    "    clf.fit(X_train, y_train)\n",
    "    #print clf.predict(X_test).sum()\n",
    "    print(accuracy_score(y_pred=clf.predict(X_test), y_true=y_test))"
   ]
  },
  {
   "cell_type": "code",
   "execution_count": 885,
   "metadata": {},
   "outputs": [
    {
     "name": "stdout",
     "output_type": "stream",
     "text": [
      "0.891369418808\n",
      "0.885341315374\n",
      "0.890371663757\n",
      "0.884592999085\n",
      "0.893281782656\n",
      "0.887461544857\n",
      "0.89190986946\n",
      "0.885507607882\n",
      "0.890907579096\n",
      "0.887706315221\n"
     ]
    }
   ],
   "source": [
    "for train, test in gkf.split(x, y):\n",
    "    X_train, y_train = x[train], y[train]\n",
    "    X_test, y_test = x[test], y[test]\n",
    "    clf.fit(X_train, y_train)\n",
    "    #print clf.predict(X_test).sum()\n",
    "    print(accuracy_score(y_pred=clf.predict(X_test), y_true=y_test))\n",
    "    my_clf.fit(X_train, y_train)\n",
    "    #print clf.predict(X_test).sum()\n",
    "    print(accuracy_score(y_pred=my_clf.predict(X_test), y_true=y_test))"
   ]
  },
  {
   "cell_type": "code",
   "execution_count": 866,
   "metadata": {},
   "outputs": [
    {
     "data": {
      "text/plain": [
       "DecisionTreeClassifier(class_weight=None, criterion='gini', max_depth=None,\n",
       "            max_features=None, max_leaf_nodes=None,\n",
       "            min_impurity_decrease=0.0, min_impurity_split=None,\n",
       "            min_samples_leaf=40, min_samples_split=80,\n",
       "            min_weight_fraction_leaf=0.0, presort=False, random_state=None,\n",
       "            splitter='best')"
      ]
     },
     "execution_count": 866,
     "metadata": {},
     "output_type": "execute_result"
    }
   ],
   "source": [
    "clf = DecisionTreeClassifier(min_samples_split=80, min_samples_leaf=40)\n",
    "clf.fit(x, y)"
   ]
  },
  {
   "cell_type": "code",
   "execution_count": null,
   "metadata": {
    "collapsed": true
   },
   "outputs": [],
   "source": [
    "class MyDecisionTreeClassifier_new:\n",
    "    NON_LEAF_TYPE = 0\n",
    "    LEAF_TYPE = 1\n",
    "\n",
    "    def __init__(self, \n",
    "                 min_samples_split=2, \n",
    "                 min_samples_leaf=1,\n",
    "                 max_depth=None,\n",
    "                 sufficient_share=1.0,\n",
    "                 criterion='gini',\n",
    "                 max_features=None):\n",
    "        self.tree = dict()\n",
    "        self.min_samples_split = min_samples_split\n",
    "        self.min_samples_leaf = min_samples_leaf\n",
    "        self.max_depth = max_depth\n",
    "        self.sufficient_share = sufficient_share\n",
    "        self.num_class = -1\n",
    "        if criterion == 'gini':\n",
    "            self.G_function = self.__gini\n",
    "        elif criterion == 'entropy':\n",
    "            self.G_function = self.__entropy\n",
    "        elif criterion == 'misclass':\n",
    "            self.G_function = self.__misclass\n",
    "        else:\n",
    "            print 'invalid criterion name'\n",
    "            raise\n",
    "\n",
    "        if max_features == 'sqrt':\n",
    "            self.get_feature_ids = self.__get_feature_ids_sqrt\n",
    "        elif max_features == 'log2':\n",
    "            self.get_feature_ids = self.__get_feature_ids_log2\n",
    "        elif max_features == None:\n",
    "            self.get_feature_ids = self.__get_feature_ids_N\n",
    "        else:\n",
    "            print 'invalid max_features name'\n",
    "            raise\n",
    "\n",
    "    def __gini(self, l_c, l_s, r_c, r_s):\n",
    "        l_s = l_s.astype('float')\n",
    "        r_s = r_s.astype('float')\n",
    "        return ((1. - ((l_c / l_s) ** 2).sum(axis=1)) * l_s.T + (1. - ((r_c / r_s) ** 2).sum(axis=1)) * r_s.T)[0]\n",
    "    \n",
    "    def __entropy(self, l_c, l_s, r_c, r_s): #check correct formulae\n",
    "        l_s = l_s.astype('float')\n",
    "        r_s = r_s.astype('float')\n",
    "        return (-((l_c / l_s) * np.log(l_c / l_s)).sum(axis=1)) * l_s.T - ((r_c / r_s) * np.log(r_c / r_s)).sum(axis=1) * r_s.T\n",
    "\n",
    "    def __misclass(self, l_c, l_s, r_c, r_s):\n",
    "        l_s = l_s.astype('float')\n",
    "        r_s = r_s.astype('float')\n",
    "        return (1 - np.max(l_c, axis=1) / l_s) * l_s.T + (1 - np.max(r_c, axis=1) / r_s) * r_s.T\n",
    "\n",
    "    def __get_feature_ids_sqrt(self, n_feature):\n",
    "        feature_ids = range(n_feature)\n",
    "        np.random.shuffle(feature_ids)\n",
    "        return feature_ids[int(np.sqrt(n_feature))]\n",
    "        \n",
    "    def __get_feature_ids_log2(self, n_feature):\n",
    "        feature_ids = range(n_feature)\n",
    "        np.random.shuffle(feature_ids)\n",
    "        return feature_ids[int(np.log2(n_feature))]\n",
    "\n",
    "    def __get_feature_ids_N(self, n_feature):\n",
    "        return range(n_feature)\n",
    "    \n",
    "    def __sort_samples(self, x, y):\n",
    "        sorted_idx = x.argsort()\n",
    "        return x[sorted_idx], y[sorted_idx]\n",
    "\n",
    "    def __div_samples(self, x, y, feature_id, threshold):\n",
    "        left_mask = x[:, feature_id] > threshold\n",
    "        right_mask = ~left_mask\n",
    "        return x[left_mask], x[right_mask], y[left_mask], y[right_mask]\n",
    "    \n",
    "    def test(self, x, y, feature):\n",
    "        _, thresh = self._find_threshold(x[:, feature], y)\n",
    "        return self.__div_samples(x, y, feature, thresh), _, thresh\n",
    "    \n",
    "    def _find_threshold(self, x, y):\n",
    "        sorted_x, sorted_y = self.__sort_samples(x, y)\n",
    "        class_number = np.unique(y).shape[0]\n",
    "        \n",
    "        #sorted_x = sorted_x[self.min_samples_leaf - 1:len(sorted_y) - self.min_samples_leaf + 1]\n",
    "        #splitted_sorted = sorted_y[self.min_samples_split: -self.min_samples_split] # min leaf\n",
    "        a1 = np.where(sorted_x[:-1] != sorted_x[1:])[0] # where we can split\n",
    "        b2 = np.append([0], np.where(sorted_y[:-1] != sorted_y[1:], 1, 0)).cumsum() # number of class changes up to this point\n",
    "        c0 = b2[a1] # number of classes at each possible split\n",
    "        c = np.where(c0[1:] != c0[:-1])[0] # where they change\n",
    "\n",
    "        d = np.unique(np.sort(np.concatenate((c + 1, c)))) # point right before and after they change\n",
    "        #a1[d] # result??????\n",
    "        r_border_ids = a1[d] + 1\n",
    "        #r_border_ids = a1 + 1\n",
    "        #[self.min_samples_leaf - 1:len(sorted_y) - self.min_samples_leaf + 1] + self.min_samples_leaf\n",
    "        \n",
    "        if len(r_border_ids) == 0 or class_number == 1:\n",
    "            return float('+inf'), None\n",
    "        eq_el_count = r_border_ids - np.append([self.min_samples_leaf - 1], r_border_ids[:-1])\n",
    "        one_hot_code = np.zeros((sorted_y.shape[0], sorted_y.max() + 1))\n",
    "        one_hot_code[np.arange(sorted_y.shape[0]), sorted_y] = 1\n",
    "        \n",
    "        l_class_count = np.cumsum(one_hot_code, axis=0)[r_border_ids - 1]        \n",
    "        r_class_count = np.bincount(sorted_y, minlength=class_number) - l_class_count\n",
    "        l_sizes = r_border_ids.reshape(l_class_count.shape[0], 1)\n",
    "        r_sizes = sorted_y.shape[0] - l_sizes\n",
    "\n",
    "        gs = self.G_function(l_class_count, l_sizes, r_class_count, r_sizes)\n",
    "        idx = np.argmin(gs)\n",
    "        \n",
    "        left_el_id = l_sizes[idx][0]\n",
    "        gs[idx], sorted_x[left_el_id]\n",
    "        #print r_border_ids.shape, idx, gs[idx]\n",
    "        return gs[idx], 1.0 * sorted_x[left_el_id - 1] * left_el_id / sorted_y.shape[0] + \\\n",
    "    1.0 * sorted_x[left_el_id] * (1.0 - 1.0 * left_el_id / sorted_y.shape[0])\n",
    "#         eq_el_count = r_border_ids - np.append([self.min_samples_leaf - 1], r_border_ids[:-1]) # self.min_samples_split\n",
    "#         one_hot_code = np.zeros((sorted_y.shape[0], sorted_y.max() + 1))\n",
    "#         one_hot_code[np.arange(sorted_y.shape[0]), sorted_y] = 1\n",
    "#         #class_increments = one_hot_code * eq_el_count.reshape(-1, 1) # broadcasting\n",
    "#         #class_increments[0] = class_increments[0] + np.bincount(sorted_y[:self.min_samples_leaf - 1], minlength=class_number)\n",
    "        \n",
    "#         l_class_count = np.cumsum(one_hot_code, axis=0)[r_border_ids - 1]        \n",
    "#         r_class_count = np.bincount(sorted_y, minlength=class_number) - l_class_count #sorted_y\n",
    "#         l_sizes = r_border_ids.reshape(l_class_count.shape[0], 1)\n",
    "#         r_sizes = sorted_y.shape[0] - l_sizes\n",
    "        \n",
    "#         eq_el_count = r_border_ids - np.append([self.min_samples_leaf - 1], r_border_ids[:-1])\n",
    "#         one_hot_code = np.zeros((r_border_ids.shape[0], class_number))\n",
    "#         one_hot_code[np.arange(r_border_ids.shape[0]), sorted_y[r_border_ids - 1]] = 1\n",
    "#         class_increments = one_hot_code * eq_el_count.reshape(-1, 1)\n",
    "#         class_increments[0] = class_increments[0] + np.bincount(sorted_y[:self.min_samples_leaf - 1],\n",
    "#                                                                 minlength=class_number)\n",
    "        \n",
    "#         # Что делает этот блок кода?\n",
    "#         # l_class_count -- в каждой строчке написано, сколько элементов каждого класса будет в левом узле, если разбить\n",
    "#         # по соответствующему элементу\n",
    "#         # r_class_count -- то, сколько в правом узле\n",
    "#         # l_sizes -- размеры левого узла при разбиениях\n",
    "#         # r_sizes -- размеры правого\n",
    "#         l_class_count = np.cumsum(class_increments, axis=0)        \n",
    "#         r_class_count = np.bincount(sorted_y) - l_class_count\n",
    "#         l_sizes = r_border_ids.reshape(l_class_count.shape[0], 1)\n",
    "#         r_sizes = sorted_y.shape[0] - l_sizes\n",
    "# #         #eq_el_count = r_border_ids - np.append([self.min_samples_leaf - 1], r_border_ids[:-1]) # self.min_samples_split\n",
    "# #         one_hot_code = np.zeros((r_border_ids.shape[0], class_number))\n",
    "# #         one_hot_code[np.arange(r_border_ids.shape[0]), sorted_y[r_border_ids]] = 1\n",
    "# #         #class_increments = one_hot_code * eq_el_count.reshape(-1, 1) # broadcasting\n",
    "# #         #class_increments[0] = class_increments[0] + np.bincount(sorted_y[:self.min_samples_leaf - 1], minlength=class_number)\n",
    "        \n",
    "# #         l_class_count = np.cumsum(one_hot_code, axis=0)[r_border_ids - 1]        \n",
    "# #         r_class_count = np.bincount(sorted_y, minlength=class_number) - l_class_count #sorted_y\n",
    "# #         l_sizes = r_border_ids.reshape(l_class_count.shape[0], 1)\n",
    "# #         r_sizes = sorted_y.shape[0] - l_sizes\n",
    "\n",
    "        \n",
    "#         gs = self.G_function(l_class_count, l_sizes, r_class_count, r_sizes)\n",
    "#         idx = np.argmin(gs)\n",
    "        \n",
    "#         left_el_id = l_sizes[idx][0]\n",
    "#         #sorted_x[left_el_id + 1]\n",
    "#         if sorted_x[left_el_id - 1] == sorted_x[left_el_id]:\n",
    "#             raise Exception\n",
    "#         #print r_border_ids.shape, left_el_id\n",
    "#         return gs[idx], 1.0 * sorted_x[left_el_id - 1] * left_el_id / sorted_y.shape[0] + 1.0 * sorted_x[left_el_id] * (1.0 - 1.0 * left_el_id / sorted_y.shape[0])\n",
    "\n",
    "    def _fit_node(self, x, y, node_id, depth, pred_f=-1):\n",
    "        # self.LEAF_TYPE\n",
    "        # self.NON_LEAF_TYPE\n",
    "        leaf = [\n",
    "            self.__class__.LEAF_TYPE, \n",
    "            np.argmax(np.bincount(y, minlength=self.num_class)), \n",
    "            np.bincount(y, minlength=self.num_class) * 1.0 / y.shape[0]\n",
    "        ]\n",
    "        if depth == self.max_depth or x.shape[0] < self.min_samples_split or np.unique(y).shape[0] == 1:\n",
    "            self.tree[node_id] = leaf\n",
    "            #print 'leaf1'\n",
    "            if depth == self.max_depth:\n",
    "                print 'max_depth'\n",
    "            return\n",
    "        # self.tree\n",
    "        # self.max_depth\n",
    "        # self.sufficient_share\n",
    "        # self.min_samples_split\n",
    "        feature_ids = self.get_feature_ids(x.shape[1])\n",
    "        split_data = []\n",
    "        for feature in feature_ids:\n",
    "            error, threshold = self._find_threshold(x[:, feature], y)\n",
    "            split_data.append([feature, error, threshold])\n",
    "        best_split = min(split_data, key=lambda split: split[1])\n",
    "        # self.get_feature_ids\n",
    "        # self._find_threshold\n",
    "        # self.__div_samples\n",
    "        # self._fit_node\n",
    "        x_l, x_r, y_l, y_r = self.__div_samples(x, y, best_split[0], best_split[2])\n",
    "        #print [i.shape[0] for i in [y_l, y_r]]\n",
    "        if (best_split[1] == np.inf) or (not all([i.shape[0] for i in [y_l, y_r]])):\n",
    "            #print 'leaf2', best_split[1]\n",
    "            #print 'leaf2', best_split[1], [i.shape[0] for i in [y_l, y_r]]\n",
    "            self.tree[node_id] = leaf\n",
    "            return\n",
    "        #print 'node'\n",
    "        #print y_l.shape, y_r.shape, best_split\n",
    "        self.tree[node_id] = (self.__class__.NON_LEAF_TYPE, best_split[0], best_split[2])\n",
    "        self._fit_node(x_l, y_l, 2 * node_id + 1, depth + 1)\n",
    "        self._fit_node(x_r, y_r, 2 * node_id + 2, depth + 1)\n",
    "    \n",
    "    def fit(self, x, y):\n",
    "        self.tree = {}\n",
    "        self.num_class = np.unique(y).size\n",
    "        self._fit_node(x, y, 0, 0) \n",
    "\n",
    "    def __predict_class(self, x, node_id):\n",
    "        node = self.tree[node_id]\n",
    "        if node[0] == self.__class__.NON_LEAF_TYPE:\n",
    "            _, feature_id, threshold = node\n",
    "            if x[feature_id] > threshold:\n",
    "                return self.__predict_class(x, 2 * node_id + 1)\n",
    "            else:\n",
    "                return self.__predict_class(x, 2 * node_id + 2)\n",
    "        else:\n",
    "            return node[1]\n",
    "\n",
    "    def __predict_probs(self, x, node_id):\n",
    "        node = self.tree[node_id]\n",
    "        if node[0] == self.__class__.NON_LEAF_TYPE:\n",
    "            _, feature_id, threshold = node\n",
    "            if x[feature_id] > threshold:\n",
    "                return self.__predict_probs(x, 2 * node_id + 1)\n",
    "            else:\n",
    "                return self.__predict_probs(x, 2 * node_id + 2)\n",
    "        else:\n",
    "            return node[2]\n",
    "        \n",
    "    def predict(self, X):\n",
    "        return np.array([self.__predict_class(x, 0) for x in X])\n",
    "    \n",
    "    def predict_probs(self, X):\n",
    "        return np.array([self.__predict_probs(x, 0) for x in X])\n",
    "\n",
    "    def fit_predict(self, x_train, y_train, predicted_x):\n",
    "        self.fit(x_train, y_train)\n",
    "        return self.predict(predicted_x)"
   ]
  }
 ],
 "metadata": {
  "anaconda-cloud": {},
  "kernelspec": {
   "display_name": "Python 2",
   "language": "python",
   "name": "python2"
  },
  "language_info": {
   "codemirror_mode": {
    "name": "ipython",
    "version": 2
   },
   "file_extension": ".py",
   "mimetype": "text/x-python",
   "name": "python",
   "nbconvert_exporter": "python",
   "pygments_lexer": "ipython2",
   "version": "2.7.14"
  }
 },
 "nbformat": 4,
 "nbformat_minor": 2
}
