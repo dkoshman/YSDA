{
 "cells": [
  {
   "cell_type": "markdown",
   "metadata": {},
   "source": [
    "# Machine Learning\n",
    "\n",
    "*Екатерина Лобачева / Илья Щуров / Сергей Сметанин *\n",
    "\n",
    "*Совместный бакалавриат НИУ ВШЭ и РЭШ, 2016-17 учебный год*\n",
    "\n",
    "[Страница курса](http://math-info.hse.ru/2016-17/Machine_Learning)"
   ]
  },
  {
   "cell_type": "markdown",
   "metadata": {},
   "source": [
    "## Домашнее задание №ML4\n",
    "\n",
    "Это задание основано на *Лабораторной работе №15* курса [Анализ данных (программная инженерия)](http://wiki.cs.hse.ru/%D0%90%D0%BD%D0%B0%D0%BB%D0%B8%D0%B7_%D0%B4%D0%B0%D0%BD%D0%BD%D1%8B%D1%85_%28%D0%9F%D1%80%D0%BE%D0%B3%D1%80%D0%B0%D0%BC%D0%BC%D0%BD%D0%B0%D1%8F_%D0%B8%D0%BD%D0%B6%D0%B5%D0%BD%D0%B5%D1%80%D0%B8%D1%8F%29).\n",
    "\n",
    "Чтобы выполнить работу, скачайте настоящий ipynb-файл, откройте его в *Jupyter Notebook*, впишите решения в оставленные для этого ячейки (при необходимости можно добавлять новые ячейки), приводя полный работающий код, а также все необходимые пояснения и ответы (для этого нужно использовать markdown-ячейки). Вы можете вставлять формулы с помощью TeX-разметки в markdown-ячейки. После выполнения работы необходимо вытащить ipynb-файл из Jupyter (например, с помощью *File → Download as… → IPython Notebook*) и загрузить его на my.NES.\n",
    "\n",
    "### PyBrain\n",
    "Для выполнения практической части этого задания (задачи 2) нужно использовать библиотеку [pybrain](http://pybrain.org). Чтобы её установить, нужно скачать исходный коды с [github](https://github.com/pybrain/pybrain) (кнопка *Clone or download*), распаковать, перейти в соответствующий каталог в командной строке и набрать \n",
    "    \n",
    "    python setup.py install"
   ]
  },
  {
   "cell_type": "markdown",
   "metadata": {},
   "source": [
    "### Задача 1\n",
    "Рассмотрим нейронную сеть с одним скрытым слоем, сигмоидной функцией активации и одним выходным нейроном. Предположим, что мы хотим обучить эту сеть с помощью градиентного спуска и обратного распространения ошибки (backpropagation). При этом в качестве начальной точки градиентного спуска мы взяли точку, в которой все веса равны нулю. Найти, чему может при этом равняться вектор градиента (при какой-нибудь обучающей выборке). Как изменятся веса после первого шага градиентного спуска? Что будет происходить на следующих шагах?\n",
    "\n",
    "Эта задача показывает, почему инциализировать все веса нулями плохо."
   ]
  },
  {
   "cell_type": "markdown",
   "metadata": {},
   "source": [
    "Если все веса нули, изменение весов из скрытого слоя в выходной не меняет качества алгоритма -- ведь в скрытом слое все значения нейронов нулевые, поэтому они не изменятся. Но и изменение весов из входа в скрытый слой ничего не меняет. То есть веса всегда остаются нулевыми."
   ]
  },
  {
   "cell_type": "markdown",
   "metadata": {},
   "source": [
    "### Задача 2"
   ]
  },
  {
   "cell_type": "markdown",
   "metadata": {},
   "source": [
    "В этом задании вам нужно приблизить функцию $f(x) = x^3$ на отрезке $[-3, 2]$ с помощью нейросети.\n",
    "\n",
    "1. С помощью библиотеки *pybrain* создайте архитектуру нейросети, состоящую из следующих слоев: *входной слой* (`pybrain.structure.LinearLayer`) → *скрытый слой* (`pybrain.structure.TanhLayer`) → *выходной слой* (`pybrain.structure.LinearLayer`). Поскольку мы хотим приблизить функцию, действующую из одномерного пространства в одномерное, входной и выходной слои должны иметь размерность 1. Для создания нейросети можно использовать функцию [`pybrain.tools.shortcuts.buildNetwork`](http://pybrain.org/docs/quickstart/network.html).\n",
    "2. Составьте обучающую выборку  (`pybrain.datasets.SupervisedDataSet`) из $2000$ равномерно распределённых точек на отрезке $[-3 ,2]$, а также две тестовых выборки из $1000$ точек — на том же отрезке и на отрезке $[-3, 3]$.\n",
    "3. Постройте графики зависимости среднеквадратичной ошибки аппроксимации (`pybrain.tools.validation.ModuleValidator.MSE`) на обеих тестовых выборках в зависимости от числа нейронов в скрытом слое (от $1$ до $101$ с шагом $10$). Делайте не менее $100$ эпох при обучении, используйте уменьшение весов (`weightdecay`) с коэффициентом $10^{-5}$.\n",
    "    1. Какого минимального числа нейронов достаточно для аппроксимации функции на данном отрезке?\n",
    "\t2. Прокомментируйте отличие ошибок на двух тестовых выборках\n",
    "\t3. Визуализируйте на одном графике $f(x)$ и аппроксимации с помощью нейросети с числом нейронов в скрытом слое $1, 5, 10, 20, 50, 100, 200$ на отрезке $[-3, 3]$. \n",
    "4. Повторите исследование в пуктах 2-4, используя в качестве обучающей выборки точки из области $[-3, 1] \\cup [2, 3]$. Прокомментируйте разницу в качестве аппроксимации функции на неизвестных участках.\n",
    "\n",
    "**Подсказка**. Вычислять среднеквадратичную ошибку можно так:\n",
    "\n",
    "    from pybrain.tools.validation import ModuleValidator\n",
    "    # ... your code to create and train network\n",
    "    print(ModuleValidator.MSE(trainer.module, dataset_test))\n",
    "    \n",
    "здесь `trainer` — это обученный объект класса `pybrain.supervised.trainers.BackpropTrainer`."
   ]
  },
  {
   "cell_type": "code",
   "execution_count": 4,
   "metadata": {
    "collapsed": false
   },
   "outputs": [
    {
     "ename": "ImportError",
     "evalue": "No module named 'pybrain'",
     "output_type": "error",
     "traceback": [
      "\u001b[0;31m---------------------------------------------------------------------------\u001b[0m",
      "\u001b[0;31mImportError\u001b[0m                               Traceback (most recent call last)",
      "\u001b[0;32m<ipython-input-4-9c05ac114133>\u001b[0m in \u001b[0;36m<module>\u001b[0;34m()\u001b[0m\n\u001b[1;32m      1\u001b[0m \u001b[1;32mimport\u001b[0m \u001b[0mnumpy\u001b[0m \u001b[1;32mas\u001b[0m \u001b[0mnp\u001b[0m\u001b[1;33m\u001b[0m\u001b[0m\n\u001b[1;32m      2\u001b[0m \u001b[1;32mimport\u001b[0m \u001b[0mscipy\u001b[0m\u001b[1;33m\u001b[0m\u001b[0m\n\u001b[0;32m----> 3\u001b[0;31m \u001b[1;32mfrom\u001b[0m \u001b[0mpybrain\u001b[0m\u001b[1;33m.\u001b[0m\u001b[0mtools\u001b[0m\u001b[1;33m.\u001b[0m\u001b[0mshortcuts\u001b[0m \u001b[1;32mimport\u001b[0m \u001b[0mbuildNetwork\u001b[0m\u001b[1;33m\u001b[0m\u001b[0m\n\u001b[0m\u001b[1;32m      4\u001b[0m \u001b[1;32mfrom\u001b[0m \u001b[0mpybrain\u001b[0m\u001b[1;33m.\u001b[0m\u001b[0mstructure\u001b[0m \u001b[1;32mimport\u001b[0m \u001b[0mTanhLayer\u001b[0m\u001b[1;33m,\u001b[0m \u001b[0mLinearLayer\u001b[0m\u001b[1;33m\u001b[0m\u001b[0m\n\u001b[1;32m      5\u001b[0m \u001b[1;32mfrom\u001b[0m \u001b[0mpybrain\u001b[0m\u001b[1;33m.\u001b[0m\u001b[0mtools\u001b[0m\u001b[1;33m.\u001b[0m\u001b[0mvalidation\u001b[0m \u001b[1;32mimport\u001b[0m \u001b[0mModuleValidator\u001b[0m\u001b[1;33m\u001b[0m\u001b[0m\n",
      "\u001b[0;31mImportError\u001b[0m: No module named 'pybrain'"
     ]
    }
   ],
   "source": [
    "import numpy as np\n",
    "import scipy\n",
    "from pybrain.tools.shortcuts import buildNetwork\n",
    "from pybrain.structure import TanhLayer, LinearLayer \n",
    "from pybrain.tools.validation import ModuleValidator\n",
    "from pybrain.datasets import SupervisedDataSet\n",
    "from pybrain.supervised.trainers import BackpropTrainer\n",
    "import matplotlib.pyplot as plt\n",
    "%matplotlib inline\n",
    "\n",
    "def buildDataSet(x_data, y_data):\n",
    "    data = SupervisedDataSet(1, 1)\n",
    "    for x, y in zip(x_data, y_data):\n",
    "        data.addSample(x, y)\n",
    "    return data\n",
    "\n",
    "def f(x):\n",
    "    return x**3\n",
    "def df(x):\n",
    "    return 3*x**2\n",
    "\n",
    "# 100 эпох в каждом обучении я не дождался, так что сейчас эпох 10, но можно изменить num_epochs если нужно\n",
    "num_epochs=10\n",
    "input_neurons = 1\n",
    "hidden_neurons = 1\n",
    "output_neurons = 1\n",
    "\n",
    "\n",
    "x_train = np.linspace(-3, 2, 2000)\n",
    "y_train = f(x_train)\n",
    "x_test_1 = np.linspace(-3, 2, 1000)\n",
    "y_test_1 = f(x_test_1)\n",
    "x_test_2 = np.linspace(-3, 3, 1000)\n",
    "y_test_2 = f(x_test_2)\n",
    "\n",
    "train = buildDataSet(x_train, y_train)\n",
    "test_1 = buildDataSet(x_test_1, y_test_1)\n",
    "test_2 = buildDataSet(x_test_2, y_test_2)\n",
    "MSE_1=np.array([0] * 11)\n",
    "MSE_2=np.array([0] * 11)\n",
    "graph_neurons = np.array([1,5,10,20,50,100,200])\n",
    "\n",
    "for i in range(11):\n",
    "    hidden_neurons = 1+i*10\n",
    "    network = buildNetwork(input_neurons, hidden_neurons, output_neurons, \n",
    "                       hiddenclass=TanhLayer, outclass=LinearLayer)\n",
    "    trainer = BackpropTrainer(network, train, weightdecay=0.00001)\n",
    "    trainer.trainEpochs(num_epochs)\n",
    "    MSE_1[i]=ModuleValidator.MSE(trainer.module, test_1)\n",
    "    MSE_2[i]=ModuleValidator.MSE(trainer.module, test_2)\n",
    "\n",
    "\n",
    "for i in range(7):\n",
    "    hidden_neurons = graph_neurons[i]\n",
    "    network = buildNetwork(input_neurons, hidden_neurons, output_neurons, \n",
    "                       hiddenclass=TanhLayer, outclass=LinearLayer)\n",
    "    trainer = BackpropTrainer(network, train, weightdecay=0.00001)\n",
    "    trainer.trainEpochs(num_epochs)\n",
    "    plt.figure(i)\n",
    "    plt.plot(x_test_2, trainer.module.activateOnDataset(test_2))\n",
    "    plt.plot(x_test_2, y_test_2)"
   ]
  },
  {
   "cell_type": "code",
   "execution_count": 1,
   "metadata": {
    "collapsed": false
   },
   "outputs": [
    {
     "ename": "NameError",
     "evalue": "name 'graph_neurons' is not defined",
     "output_type": "error",
     "traceback": [
      "\u001b[0;31m---------------------------------------------------------------------------\u001b[0m",
      "\u001b[0;31mNameError\u001b[0m                                 Traceback (most recent call last)",
      "\u001b[0;32m<ipython-input-1-06900a4d662d>\u001b[0m in \u001b[0;36m<module>\u001b[0;34m()\u001b[0m\n\u001b[1;32m      1\u001b[0m \u001b[1;32mfor\u001b[0m \u001b[0mi\u001b[0m \u001b[1;32min\u001b[0m \u001b[0mrange\u001b[0m\u001b[1;33m(\u001b[0m\u001b[1;36m7\u001b[0m\u001b[1;33m)\u001b[0m\u001b[1;33m:\u001b[0m\u001b[1;33m\u001b[0m\u001b[0m\n\u001b[0;32m----> 2\u001b[0;31m     \u001b[0mhidden_neurons\u001b[0m \u001b[1;33m=\u001b[0m \u001b[0mgraph_neurons\u001b[0m\u001b[1;33m[\u001b[0m\u001b[0mi\u001b[0m\u001b[1;33m]\u001b[0m\u001b[1;33m\u001b[0m\u001b[0m\n\u001b[0m\u001b[1;32m      3\u001b[0m     network = buildNetwork(input_neurons, hidden_neurons, output_neurons, \n\u001b[1;32m      4\u001b[0m                        hiddenclass=TanhLayer, outclass=LinearLayer)\n\u001b[1;32m      5\u001b[0m     \u001b[0mtrainer\u001b[0m \u001b[1;33m=\u001b[0m \u001b[0mBackpropTrainer\u001b[0m\u001b[1;33m(\u001b[0m\u001b[0mnetwork\u001b[0m\u001b[1;33m,\u001b[0m \u001b[0mtrain\u001b[0m\u001b[1;33m,\u001b[0m \u001b[0mweightdecay\u001b[0m\u001b[1;33m=\u001b[0m\u001b[1;36m0.00001\u001b[0m\u001b[1;33m)\u001b[0m\u001b[1;33m\u001b[0m\u001b[0m\n",
      "\u001b[0;31mNameError\u001b[0m: name 'graph_neurons' is not defined"
     ]
    }
   ],
   "source": [
    "for i in range(7):\n",
    "    hidden_neurons = graph_neurons[i]\n",
    "    network = buildNetwork(input_neurons, hidden_neurons, output_neurons, \n",
    "                       hiddenclass=TanhLayer, outclass=LinearLayer)\n",
    "    trainer = BackpropTrainer(network, train, weightdecay=0.00001)\n",
    "    trainer.trainEpochs(num_epochs)\n",
    "    plt.figure(i)\n",
    "    plt.plot(x_test_2, trainer.module.activateOnDataset(test_2))\n",
    "    plt.plot(x_test_2, y_test_2)"
   ]
  },
  {
   "cell_type": "code",
   "execution_count": 7,
   "metadata": {
    "collapsed": false,
    "scrolled": true
   },
   "outputs": [
    {
     "data": {
      "text/plain": [
       "[<matplotlib.lines.Line2D at 0x59af780>]"
      ]
     },
     "execution_count": 7,
     "metadata": {},
     "output_type": "execute_result"
    },
    {
     "data": {
      "image/png": "[encoded data removed]",
      "text/plain": [
       "<matplotlib.figure.Figure at 0x59af6d8>"
      ]
     },
     "metadata": {},
     "output_type": "display_data"
    }
   ],
   "source": [
    "plt.plot(MSE_1)\n",
    "plt.plot(MSE_2)"
   ]
  },
  {
   "cell_type": "markdown",
   "metadata": {},
   "source": [
    "Видно, что 10 - 20 нейронов хватает для снижения ошибки до $10^{-4}$ и дальше сильного улучшения не наблюдается.\n",
    "Ясно, что в случае совпадения тестовой и обучающей выборки снижение ошибки идет постоянно, а в случае OOS testing мы получаем постоянную ошибку степени $1$. Причем когда количество нейронов становится слишком большим, количества эпох не хватает для обучения и качество ухучшается. "
   ]
  },
  {
   "cell_type": "code",
   "execution_count": 5,
   "metadata": {
    "collapsed": false
   },
   "outputs": [
    {
     "ename": "NameError",
     "evalue": "name 'f' is not defined",
     "output_type": "error",
     "traceback": [
      "\u001b[0;31m---------------------------------------------------------------------------\u001b[0m",
      "\u001b[0;31mNameError\u001b[0m                                 Traceback (most recent call last)",
      "\u001b[0;32m<ipython-input-5-bea0bffdfe51>\u001b[0m in \u001b[0;36m<module>\u001b[0;34m()\u001b[0m\n\u001b[1;32m      1\u001b[0m \u001b[0mx_2train_2\u001b[0m \u001b[1;33m=\u001b[0m \u001b[0mnp\u001b[0m\u001b[1;33m.\u001b[0m\u001b[0mconcatenate\u001b[0m\u001b[1;33m(\u001b[0m\u001b[1;33m(\u001b[0m\u001b[0mnp\u001b[0m\u001b[1;33m.\u001b[0m\u001b[0mlinspace\u001b[0m\u001b[1;33m(\u001b[0m\u001b[1;33m-\u001b[0m\u001b[1;36m3\u001b[0m\u001b[1;33m,\u001b[0m \u001b[1;36m1\u001b[0m\u001b[1;33m,\u001b[0m \u001b[1;36m1600\u001b[0m\u001b[1;33m)\u001b[0m\u001b[1;33m,\u001b[0m \u001b[0mnp\u001b[0m\u001b[1;33m.\u001b[0m\u001b[0mlinspace\u001b[0m\u001b[1;33m(\u001b[0m\u001b[1;36m2\u001b[0m\u001b[1;33m,\u001b[0m \u001b[1;36m3\u001b[0m\u001b[1;33m,\u001b[0m \u001b[1;36m400\u001b[0m\u001b[1;33m)\u001b[0m\u001b[1;33m)\u001b[0m\u001b[1;33m,\u001b[0m \u001b[0maxis\u001b[0m\u001b[1;33m=\u001b[0m\u001b[1;36m0\u001b[0m\u001b[1;33m)\u001b[0m\u001b[1;33m\u001b[0m\u001b[0m\n\u001b[0;32m----> 2\u001b[0;31m \u001b[0my_2train_2\u001b[0m \u001b[1;33m=\u001b[0m \u001b[0mf\u001b[0m\u001b[1;33m(\u001b[0m\u001b[0mx_2train_2\u001b[0m\u001b[1;33m)\u001b[0m\u001b[1;33m\u001b[0m\u001b[0m\n\u001b[0m\u001b[1;32m      3\u001b[0m \u001b[0mx_2test\u001b[0m \u001b[1;33m=\u001b[0m \u001b[0mnp\u001b[0m\u001b[1;33m.\u001b[0m\u001b[0mconcatenate\u001b[0m\u001b[1;33m(\u001b[0m\u001b[1;33m(\u001b[0m\u001b[0mnp\u001b[0m\u001b[1;33m.\u001b[0m\u001b[0mlinspace\u001b[0m\u001b[1;33m(\u001b[0m\u001b[1;33m-\u001b[0m\u001b[1;36m3\u001b[0m\u001b[1;33m,\u001b[0m \u001b[1;36m1\u001b[0m\u001b[1;33m,\u001b[0m \u001b[1;36m1600\u001b[0m\u001b[1;33m)\u001b[0m\u001b[1;33m,\u001b[0m \u001b[0mnp\u001b[0m\u001b[1;33m.\u001b[0m\u001b[0mlinspace\u001b[0m\u001b[1;33m(\u001b[0m\u001b[1;36m2\u001b[0m\u001b[1;33m,\u001b[0m \u001b[1;36m3\u001b[0m\u001b[1;33m,\u001b[0m \u001b[1;36m400\u001b[0m\u001b[1;33m)\u001b[0m\u001b[1;33m)\u001b[0m\u001b[1;33m,\u001b[0m \u001b[0maxis\u001b[0m\u001b[1;33m=\u001b[0m\u001b[1;36m0\u001b[0m\u001b[1;33m)\u001b[0m\u001b[1;33m\u001b[0m\u001b[0m\n\u001b[1;32m      4\u001b[0m \u001b[0my_2test\u001b[0m \u001b[1;33m=\u001b[0m \u001b[0mf\u001b[0m\u001b[1;33m(\u001b[0m\u001b[0mx_2test\u001b[0m\u001b[1;33m)\u001b[0m\u001b[1;33m\u001b[0m\u001b[0m\n\u001b[1;32m      5\u001b[0m \u001b[0mx_2test_2\u001b[0m \u001b[1;33m=\u001b[0m \u001b[0mnp\u001b[0m\u001b[1;33m.\u001b[0m\u001b[0mlinspace\u001b[0m\u001b[1;33m(\u001b[0m\u001b[1;33m-\u001b[0m\u001b[1;36m3\u001b[0m\u001b[1;33m,\u001b[0m \u001b[1;36m3\u001b[0m\u001b[1;33m,\u001b[0m \u001b[1;36m2000\u001b[0m\u001b[1;33m)\u001b[0m\u001b[1;33m\u001b[0m\u001b[0m\n",
      "\u001b[0;31mNameError\u001b[0m: name 'f' is not defined"
     ]
    }
   ],
   "source": [
    "x_2train_2 = np.concatenate((np.linspace(-3, 1, 1600), np.linspace(2, 3, 400)), axis=0)\n",
    "y_2train_2 = f(x_2train_2)\n",
    "x_2test = np.concatenate((np.linspace(-3, 1, 1600), np.linspace(2, 3, 400)), axis=0)\n",
    "y_2test = f(x_2test)\n",
    "x_2test_2 = np.linspace(-3, 3, 2000) \n",
    "y_2test_2 = f(x_2test_2)\n",
    "\n",
    "train2_2 = buildDataSet(x_2train_2, y_2train_2)\n",
    "test2_1 = buildDataSet(x_2test, y_2test)\n",
    "test2_2 = buildDataSet(x_2test_2, y_2test_2)\n",
    "\n",
    "for i in range(11):\n",
    "    hidden_neurons = 1+i*10\n",
    "    network = buildNetwork(input_neurons, hidden_neurons, output_neurons, \n",
    "                       hiddenclass=TanhLayer, outclass=LinearLayer)\n",
    "    trainer = BackpropTrainer(network, train2_2, weightdecay=0.00001)\n",
    "    trainer.trainEpochs(num_epochs)\n",
    "    MSE_1[i]=ModuleValidator.MSE(trainer.module, test2_1)\n",
    "    MSE_2[i]=ModuleValidator.MSE(trainer.module, test2_2)\n",
    "\n",
    "\n",
    "for i in range(7):\n",
    "    hidden_neurons = graph_neurons[i]\n",
    "    network = buildNetwork(input_neurons, hidden_neurons, output_neurons, \n",
    "                       hiddenclass=TanhLayer, outclass=LinearLayer)\n",
    "    trainer = BackpropTrainer(network, train2_2, weightdecay=0.00001)\n",
    "    trainer.trainEpochs(num_epochs)\n",
    "    plt.figure(i)\n",
    "    plt.plot(x_2test_2, trainer.module.activateOnDataset(test2_2))\n",
    "    plt.plot(x_2test_2, y_2test_2)"
   ]
  },
  {
   "cell_type": "code",
   "execution_count": 45,
   "metadata": {
    "collapsed": false,
    "scrolled": true
   },
   "outputs": [
    {
     "data": {
      "text/plain": [
       "[<matplotlib.lines.Line2D at 0xb21b898>]"
      ]
     },
     "execution_count": 45,
     "metadata": {},
     "output_type": "execute_result"
    },
    {
     "data": {
      "image/png": "[encoded data removed]",
      "text/plain": [
       "<matplotlib.figure.Figure at 0xb21bfd0>"
      ]
     },
     "metadata": {},
     "output_type": "display_data"
    }
   ],
   "source": [
    "plt.plot(MSE_1)\n",
    "plt.plot(MSE_2)"
   ]
  },
  {
   "cell_type": "markdown",
   "metadata": {},
   "source": [
    "Видимо алгоритм хорошо справляется с предсказанием на промежутках, лежащих между обучающих -- ведь теперь расстояние от незнакомых признаков до знакомых не больше 0.5 -- а до этого расстояние было 1. Да и пропущенный промежуток такой, что функция почти не меняется, в предыдущем случае производная была больше 10. "
   ]
  },
  {
   "cell_type": "code",
   "execution_count": null,
   "metadata": {
    "collapsed": false
   },
   "outputs": [],
   "source": []
  }
 ],
 "metadata": {
  "anaconda-cloud": {},
  "kernelspec": {
   "display_name": "Python [default]",
   "language": "python",
   "name": "python3"
  },
  "language_info": {
   "codemirror_mode": {
    "name": "ipython",
    "version": 3
   },
   "file_extension": ".py",
   "mimetype": "text/x-python",
   "name": "python",
   "nbconvert_exporter": "python",
   "pygments_lexer": "ipython3",
   "version": "3.5.2"
  },
  "toc": {
   "toc_cell": false,
   "toc_number_sections": false,
   "toc_threshold": 6,
   "toc_window_display": false
  }
 },
 "nbformat": 4,
 "nbformat_minor": 0
}
