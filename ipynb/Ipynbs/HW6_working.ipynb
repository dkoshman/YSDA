{
 "cells": [
  {
   "cell_type": "markdown",
   "metadata": {},
   "source": [
    "# Machine Learning\n",
    "\n",
    "*Екатерина Лобачева / Илья Щуров / Сергей Сметанин *\n",
    "\n",
    "*Совместный бакалавриат НИУ ВШЭ и РЭШ, 2016-17 учебный год*\n",
    "\n",
    "[Страница курса](http://math-info.hse.ru/2016-17/Machine_Learning)"
   ]
  },
  {
   "cell_type": "markdown",
   "metadata": {},
   "source": [
    "Задание основано на [этой практической работе](https://github.com/esokolov/ml-course-hse/blob/master/2016-fall/homeworks-practice/homework-practice-03-ensembles.ipynb)."
   ]
  },
  {
   "cell_type": "markdown",
   "metadata": {},
   "source": [
    "### Задача 1\n",
    "Выполните следующие шаги:\n",
    "1. Загрузите датасет [winequality-red.csv](https://archive.ics.uci.edu/ml/machine-learning-databases/wine-quality/winequality-red.csv) в датафрейм. Последний столбец (`quality`) — целевая переменная (содержит классы).\n",
    "1. С помощью [`cross_val_score`](http://scikit-learn.org/stable/modules/generated/sklearn.model_selection.cross_val_score.html) с `cv=3` (3-fold cross validation) оцените качество ([`accuracy_score`](http://scikit-learn.org/stable/modules/generated/sklearn.metrics.accuracy_score.html) — нужно передать этот объект в качестве параметра `scoring` при вызове `cross_val_score`) следующих классификаторов (соответствующую модель нужно передать функции `cross_val_score` в качестве первого параметра):\n",
    "    * `DecisionTreeClassifier`;\n",
    "    * `BaggingClassifier` со 100 деревьями;\n",
    "    * `BaggingClassifier` со 100 деревьями; каждое дерево обучается только по половине случайно выбранных признаков (см. параметры метода);\n",
    "    * `RandomForestClassifier` со 100 деревьями.\n",
    "    \n",
    "Значение получается шумное, но в целом у вас должно получиться, что качество возрастает с каждым следующим алгоритмом. Этот пример демонстрирует, что *RandomForest* — это более сложный алгоритм, чем бэггинг и бэггинг со случайно выбранным набором признаков. Дело в том, что в *RandomForest* выбор случайного набора признаков происходит на каждом шаге построения дерева."
   ]
  },
  {
   "cell_type": "code",
   "execution_count": 1,
   "metadata": {
    "collapsed": false
   },
   "outputs": [],
   "source": [
    "import scipy as sp\n",
    "import numpy as np\n",
    "import pandas as pd\n",
    "data= pd.read_csv(\"https://archive.ics.uci.edu/ml/machine-learning-databases/wine-quality/winequality-red.csv\", sep=\";\")"
   ]
  },
  {
   "cell_type": "code",
   "execution_count": 2,
   "metadata": {
    "collapsed": false
   },
   "outputs": [
    {
     "name": "stdout",
     "output_type": "stream",
     "text": [
      "[ 0.46542056  0.40712946  0.46892655]\n[ 0.54392523  0.57410882  0.59698682]\n[ 0.51028037  0.56285178  0.57815443]\n[ 0.53084112  0.57035647  0.59322034]\nКачество действительно улучшается\n"
     ]
    }
   ],
   "source": [
    "from sklearn.model_selection import cross_val_score\n",
    "from sklearn.metrics import accuracy_score\n",
    "from sklearn.tree import DecisionTreeClassifier\n",
    "from sklearn.metrics import make_scorer\n",
    "from sklearn.ensemble import BaggingClassifier, RandomForestClassifier\n",
    "import matplotlib.pyplot as plt\n",
    "%matplotlib inline\n",
    "\n",
    "X_data=data.iloc[:, 0:11]\n",
    "Y_data=data.iloc[:, 11:12]\n",
    "X=np.array(X_data)\n",
    "Y=np.array(Y_data)\n",
    "Y_flat=Y.ravel()\n",
    "scorer = make_scorer(accuracy_score)\n",
    "\n",
    "D_tree= DecisionTreeClassifier()\n",
    "Bag=BaggingClassifier(D_tree, n_estimators=100)\n",
    "Bag_half=BaggingClassifier(D_tree, n_estimators=100, max_features=0.5)\n",
    "Forest=RandomForestClassifier(n_estimators=100)\n",
    "\n",
    "score_tree=cross_val_score(D_tree, X, Y_flat, scoring=scorer, cv=3)\n",
    "score_bag=cross_val_score(Bag, X, Y_flat, scoring=scorer, cv=3)\n",
    "score_half_bag=cross_val_score(Bag_half, X, Y_flat, scoring=scorer, cv=3)\n",
    "score_forest=cross_val_score(Forest, X, Y_flat, scoring=scorer, cv=3)\n",
    "\n",
    "print(score_tree, '\\n' ,score_bag, '\\n' ,score_half_bag, '\\n' ,score_forest, '\\n', 'Качество действительно улучшается', sep='')"
   ]
  },
  {
   "cell_type": "markdown",
   "metadata": {},
   "source": [
    "### Задача 2\n",
    "Продолжим работать с набором данных [winequality-red.csv](https://archive.ics.uci.edu/ml/machine-learning-databases/wine-quality/winequality-red.csv). Разделите выборку на обучение и контроль с пропорции 7:3, предварительно перемешав объекты. Переберите значения от 100 до 5000 деревьев с шагом 100, посчитайте accuracy на тестовой выборке для каждого числа деревьев и постройте график зависимости качества от числа деревьев.\n",
    "\n",
    "**Рекомендация.**\n",
    "\n",
    "Если каждый раз обучать RandomForest с нуля, придётся обучить в общей сумме $100 + 200 + \\ldots + 5000$ деревьев.\n",
    "Однако, как мы знаем, деревья в случайных лесах строятся независимо и параллельно, поэтому можно обучить всего 5000 деревьев.\n",
    "\n",
    "Для этого в при создании объекта класса `RandomForestClassifier` нужно указать в том числе `warm_start=True`. Затем обучить алгоритм с помощью метода `fit()`, использовать метод `predict()` для классификации. После этого с помощью метода `set_params()` изменить параметр `n_estimators`. Если к полученному объекту применить метод `fit`, внутри него будет обучаться только недостающее число деревьев.\n",
    "\n",
    "Переобучается ли случайный лес с увеличением числа деревьев?"
   ]
  },
  {
   "cell_type": "code",
   "execution_count": 3,
   "metadata": {
    "collapsed": false
   },
   "outputs": [
    {
     "name": "stderr",
     "output_type": "stream",
     "text": [
      "C:\\Users\\Dima\\Anaconda3\\lib\\site-packages\\sklearn\\cross_validation.py:44: DeprecationWarning: This module was deprecated in version 0.18 in favor of the model_selection module into which all the refactored classes and functions are moved. Also note that the interface of the new CV iterators are different from that of this module. This module will be removed in 0.20.\n",
      "  \"This module will be removed in 0.20.\", DeprecationWarning)\n"
     ]
    },
    {
     "data": {
      "text/plain": [
       "[<matplotlib.lines.Line2D at 0x2311cd4c048>]"
      ]
     },
     "execution_count": 3,
     "metadata": {},
     "output_type": "execute_result"
    },
    {
     "data": {
      "image/png": "[encoded data removed]",
      "text/plain": [
       "<matplotlib.figure.Figure at 0x2311ccca6d8>"
      ]
     },
     "metadata": {},
     "output_type": "display_data"
    }
   ],
   "source": [
    "from sklearn.cross_validation import train_test_split\n",
    "\n",
    "X_train, X_test, Y_train, Y_test = train_test_split(X, Y, test_size = 0.3)\n",
    "Y_train_flat=Y_train.ravel()\n",
    "Y_test_flat=Y_test.ravel()\n",
    "score_plot=np.array([0.]*51)\n",
    "\n",
    "Forest=RandomForestClassifier(n_estimators=100, warm_start=True)\n",
    "Forest.fit(X_train, Y_train_flat)\n",
    "Y_pred = Forest.predict(X_test)\n",
    "Y_pred_flat=Y_pred.ravel()\n",
    "score_plot[0]=accuracy_score(Y_test_flat, Y_pred_flat)\n",
    "\n",
    "for i in range(50):\n",
    "    Forest.set_params(n_estimators=100*(2+i))\n",
    "    Forest.fit(X_train, Y_train_flat)\n",
    "    Y_pred = Forest.predict(X_test)\n",
    "    Y_pred_flat=Y_pred.ravel()\n",
    "    score_plot[i+1]=accuracy_score(Y_test_flat, Y_pred_flat)\n",
    "\n",
    "x_axis = np.linspace(0, 5000, 51)\n",
    "plt.plot(x_axis, score_plot)\n",
    "\n",
    "for i in range(100):\n",
    "    y_axis = score_plot[i]"
   ]
  },
  {
   "cell_type": "markdown",
   "metadata": {},
   "source": [
    "После построения 30 графиков можно сделать вывод, что в среднем максимальное качество на тесте наблюдается при наличии в лесу около 2000 деревьев. При усложнении алгоритма он слишком сильно подстраивается под конкретные значения в выборке(в том числе учится на шуме) и хуже предсказывает вне ее, то есть переобучается."
   ]
  },
  {
   "cell_type": "markdown",
   "metadata": {},
   "source": [
    "### Задача 3\n",
    "Решить задачу 2 для градиентного бустинга (`GradientBoostingClassifier`). Описать различия."
   ]
  },
  {
   "cell_type": "code",
   "execution_count": 4,
   "metadata": {
    "collapsed": false
   },
   "outputs": [
    {
     "data": {
      "text/plain": [
       "[<matplotlib.lines.Line2D at 0x2313484cc18>]"
      ]
     },
     "execution_count": 4,
     "metadata": {},
     "output_type": "execute_result"
    },
    {
     "data": {
      "image/png": "[encoded data removed]",
      "text/plain": [
       "<matplotlib.figure.Figure at 0x2311cce5278>"
      ]
     },
     "metadata": {},
     "output_type": "display_data"
    }
   ],
   "source": [
    "from sklearn.cross_validation import train_test_split\n",
    "from sklearn.ensemble import GradientBoostingClassifier\n",
    "X_train, X_test, Y_train, Y_test = train_test_split(X, Y, test_size = 0.3)\n",
    "\n",
    "Y_train_flat=Y_train.ravel()\n",
    "Y_test_flat=Y_test.ravel()\n",
    "score_plot=np.array([0.]*51)\n",
    "\n",
    "Gradient=GradientBoostingClassifier(n_estimators=100, warm_start=True)\n",
    "Gradient.fit(X_train, Y_train_flat)\n",
    "Y_pred = Gradient.predict(X_test)\n",
    "Y_pred_flat=Y_pred.ravel()\n",
    "score_plot[0]=accuracy_score(Y_test_flat, Y_pred_flat)\n",
    "\n",
    "for i in range(50):\n",
    "    Gradient.set_params(n_estimators=100*(2+i))\n",
    "    Gradient.fit(X_train, Y_train_flat)\n",
    "    Y_pred = Gradient.predict(X_test)\n",
    "    Y_pred_flat=Y_pred.ravel()\n",
    "    score_plot[i+1]=accuracy_score(Y_test_flat, Y_pred_flat)\n",
    "    \n",
    "for x in range()\n",
    "\n",
    "x_axis = np.linspace(0, 5000, 51)\n",
    "plt.plot(x_axis, score_plot)\n",
    "\n",
    "y_axis = np.linspace(0, 4000, 52)\n",
    "plt.accuracy_score++\n",
    "\n",
    "z"
   ]
  },
  {
   "cell_type": "markdown",
   "metadata": {},
   "source": [
    "В среднем и максимальное, и среднее качество градиентного бустинга оказалось меньше. Но зато он гораздо обучается, то есть быстрее достигает своего максимального качества на выборке и на тесте, но и как следствие быстрее переобучается. Градиентный бустинг с 300 деревьями достигает максимального качества на тесте, а при 2000 деревьев он видимо достигает максимального качества на выборке и после этого увеличение количества деревьев ни на что не влияет."
   ]
  },
  {
   "cell_type": "code",
   "execution_count": null,
   "metadata": {
    "collapsed": true
   },
   "outputs": [],
   "source": [
    ""
   ]
  }
 ],
 "metadata": {
  "anaconda-cloud": {},
  "kernelspec": {
   "display_name": "Python [default]",
   "language": "python",
   "name": "python3"
  },
  "language_info": {
   "codemirror_mode": {
    "name": "ipython",
    "version": 3.0
   },
   "file_extension": ".py",
   "mimetype": "text/x-python",
   "name": "python",
   "nbconvert_exporter": "python",
   "pygments_lexer": "ipython3",
   "version": "3.5.2"
  }
 },
 "nbformat": 4,
 "nbformat_minor": 0
}