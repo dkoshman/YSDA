{
 "cells": [
  {
   "cell_type": "code",
   "execution_count": 1,
   "metadata": {},
   "outputs": [],
   "source": [
    "%load_ext Cython"
   ]
  },
  {
   "cell_type": "code",
   "execution_count": 2,
   "metadata": {},
   "outputs": [],
   "source": [
    "%%cython\n",
    "a=1"
   ]
  },
  {
   "cell_type": "markdown",
   "metadata": {},
   "source": [
    "# Machine Learning\n",
    "\n",
    "*Екатерина Лобачева / Илья Щуров / Сергей Сметанин *\n",
    "\n",
    "*Совместный бакалавриат НИУ ВШЭ и РЭШ, 2016-17 учебный год*\n",
    "\n",
    "[Страница курса](http://math-info.hse.ru/2016-17/Machine_Learning)"
   ]
  },
  {
   "cell_type": "markdown",
   "metadata": {},
   "source": [
    "## Домашнее задание №ML1\n",
    "Задание основано на материалах курса [Data analysis (Software Engineering)](http://wiki.cs.hse.ru/Data_analysis_(Software_Engineering%29) (ФКН НИУ ВШЭ).\n",
    "\n",
    "Вам необходимо анализировать набор данных [adult.data](http://archive.ics.uci.edu/ml/datasets/Adult) (источник: UCI Machine Learning Repository) с помощью Python, pandas, numpy, scipy.\n",
    "\n",
    "Чтобы выполнить работу, скачайте настоящий ipynb-файл, откройте его в *Jupyter Notebook*, впишите решения в оставленные для этого ячейки (при необходимости можно добавлять новые ячейки), приводя полный работающий код, а также все необходимые пояснения и ответы (для этого нужно использовать markdown-ячейки). Вы можете вставлять формулы с помощью TeX-разметки в markdown-ячейки. После выполнения работы необходимо вытащить ipynb-файл из Jupyter (например, с помощью *File → Download as… → IPython Notebook*) и загрузить его на my.NES.\n",
    "\n",
    "**Подсказка.** Файл [adult.data](http://archive.ics.uci.edu/ml/machine-learning-databases/adult/adult.data) является CSV-файлом, но в нём отсутствуют имена переменных — они (вместе с описаниями) приводятся в отдельном файле [adult.names](http://archive.ics.uci.edu/ml/machine-learning-databases/adult/adult.names). При загрузке датафрейма с помощью `pd.read_csv` используйте параметры `header=None` (чтобы первая строка не воспринималась как строка с именами переменных) и `names=[\"age\", \"workclass\", \"fnlwgt\", \"education\", \"education-num\", \"marital-status\", \"occupation\", \"relationship\", \"race\", \"sex\", \"capital-gain\", \"capital-loss\", \"hours-per-week\", \"native-country\", \"50K\"]`."
   ]
  },
  {
   "cell_type": "markdown",
   "metadata": {},
   "source": [
    "### Вопрос 1\n",
    "Сколько мужчин и женщин в выборке?"
   ]
  },
  {
   "cell_type": "code",
   "execution_count": 3,
   "metadata": {},
   "outputs": [
    {
     "name": "stdout",
     "output_type": "stream",
     "text": [
      "21790 Males\n",
      "10771 Females\n"
     ]
    }
   ],
   "source": [
    "import numpy as np\n",
    "import pandas as pd\n",
    "%matplotlib inline\n",
    "adult = pd.read_csv('http://archive.ics.uci.edu/ml/machine-learning-databases/adult/adult.data', header=None, names=[\"age\", \"workclass\", \"fnlwgt\", \"education\", \"education-num\", \"marital-status\", \"occupation\", \"relationship\", \"race\", \"sex\", \"capital-gain\", \"capital-loss\", \"hours-per-week\", \"native-country\", \"50K\"])\n",
    "Males = adult[adult['sex'] == ' Male'].shape[0]\n",
    "Females = adult[adult['sex'] == ' Female'].shape[0]\n",
    "print(Males, 'Males')\n",
    "print(Females, 'Females')"
   ]
  },
  {
   "cell_type": "markdown",
   "metadata": {},
   "source": [
    "### Вопрос 2\n",
    "Каков средний возраст мужчин?\n"
   ]
  },
  {
   "cell_type": "code",
   "execution_count": 4,
   "metadata": {},
   "outputs": [
    {
     "name": "stdout",
     "output_type": "stream",
     "text": [
      "39.43354749885268\n"
     ]
    }
   ],
   "source": [
    "print(adult[adult['sex'] == ' Male']['age'].mean())"
   ]
  },
  {
   "cell_type": "markdown",
   "metadata": {},
   "source": [
    "### Вопрос 3\n",
    "Какова доля граждан США?"
   ]
  },
  {
   "cell_type": "code",
   "execution_count": 5,
   "metadata": {},
   "outputs": [
    {
     "name": "stdout",
     "output_type": "stream",
     "text": [
      "0.895857006848684\n"
     ]
    }
   ],
   "source": [
    "Americans = adult[adult['native-country'] == ' United-States'].shape[0]\n",
    "print(Americans/(Males + Females))"
   ]
  },
  {
   "cell_type": "markdown",
   "metadata": {},
   "source": [
    "### Вопрос 4\n",
    "Нарисовать распределение уровня образования в виде столбчатой диаграммы (bar plot)."
   ]
  },
  {
   "cell_type": "code",
   "execution_count": 6,
   "metadata": {},
   "outputs": [
    {
     "data": {
      "text/plain": [
       "<AxesSubplot:>"
      ]
     },
     "execution_count": 6,
     "metadata": {},
     "output_type": "execute_result"
    },
    {
     "data": {
      "image/png": "[encoded data removed]",
      "text/plain": [
       "<Figure size 432x288 with 1 Axes>"
      ]
     },
     "metadata": {
      "needs_background": "light"
     },
     "output_type": "display_data"
    }
   ],
   "source": [
    "adult.rename(columns={'education-num': 'education_num'}, inplace=True)\n",
    "adult.education_num.hist(bins = 30)"
   ]
  },
  {
   "cell_type": "markdown",
   "metadata": {},
   "source": [
    "### Вопрос 5\n",
    "Найти среднее и стандартное отклонение переменной \"final weight\" (fnlwgt) для разведённых людей?"
   ]
  },
  {
   "cell_type": "code",
   "execution_count": 7,
   "metadata": {},
   "outputs": [
    {
     "name": "stdout",
     "output_type": "stream",
     "text": [
      "185802.79045689848 Average final weight\n",
      "105634.89966249917 Standard deviation\n"
     ]
    }
   ],
   "source": [
    "Divorced = adult[adult['marital-status'] == ' Divorced']\n",
    "DivNum =Divorced.shape[0]\n",
    "s = 0\n",
    "for i in range(DivNum):\n",
    "    s += Divorced.iloc[i, 2]\n",
    "AvgWgt = s/DivNum\n",
    "print(AvgWgt, 'Average final weight')\n",
    "s = 0\n",
    "for i in range(DivNum):\n",
    "    s += (Divorced.iloc[i, 2] -AvgWgt) ** 2\n",
    "print((s/DivNum) ** (0.5), 'Standard deviation')"
   ]
  },
  {
   "cell_type": "markdown",
   "metadata": {},
   "source": [
    "### Вопрос 6\n",
    "Правда ли, что люди, зарабатывающие более 50 тыс. в основном имеют высшее образование?"
   ]
  },
  {
   "cell_type": "code",
   "execution_count": 8,
   "metadata": {},
   "outputs": [
    {
     "name": "stdout",
     "output_type": "stream",
     "text": [
      "0.6214768524422906\n",
      "It is true\n"
     ]
    }
   ],
   "source": [
    "HighInc = adult[adult['50K'] == ' >50K']\n",
    "s=0\n",
    "for i in range(HighInc.shape[0]):\n",
    "    if ((HighInc.iloc[i, 3] == ' Some-college') or (HighInc.iloc[i, 3] == ' Bachelors') or (HighInc.iloc[i, 3] == ' Masters') or (HighInc.iloc[i, 3] == ' Doctorate')):\n",
    "        s += 1\n",
    "print(s/HighInc.shape[0])\n",
    "if(s/HighInc.shape[0] > 0.5):\n",
    "  print('It is true')\n",
    "else:\n",
    "  print('It is not true')"
   ]
  },
  {
   "cell_type": "markdown",
   "metadata": {},
   "source": [
    "### Вопрос 7\n",
    "Каков максимальный возраст мужчин и женщин каждой расы?"
   ]
  },
  {
   "cell_type": "code",
   "execution_count": 9,
   "metadata": {},
   "outputs": [
    {
     "name": "stdout",
     "output_type": "stream",
     "text": [
      "Males max age\n",
      " race\n",
      " Amer-Indian-Eskimo    82\n",
      " Asian-Pac-Islander    90\n",
      " Black                 90\n",
      " Other                 77\n",
      " White                 90\n",
      "Name: age, dtype: int64\n",
      "\n",
      "Females max age\n",
      " race\n",
      " Amer-Indian-Eskimo    80\n",
      " Asian-Pac-Islander    75\n",
      " Black                 90\n",
      " Other                 74\n",
      " White                 90\n",
      "Name: age, dtype: int64\n"
     ]
    }
   ],
   "source": [
    "adultM = adult[adult['sex'] == ' Male']\n",
    "adultF = adult[adult['sex'] == ' Female']\n",
    "print('Males max age'+ '\\n',  adultM.groupby('race')['age'].max())\n",
    "print('\\n' + \"Females max age\" + '\\n', adultF.groupby('race')['age'].max())"
   ]
  },
  {
   "cell_type": "markdown",
   "metadata": {},
   "source": [
    "### Вопрос 8\n",
    "Люди из каких стран работают как фермеры/рыбаки?"
   ]
  },
  {
   "cell_type": "code",
   "execution_count": 10,
   "metadata": {},
   "outputs": [
    {
     "data": {
      "text/plain": [
       "native-country\n",
       " ?                33.200000\n",
       " Cambodia         42.000000\n",
       " Canada           57.500000\n",
       " Cuba             41.000000\n",
       " El-Salvador      31.000000\n",
       " England          33.000000\n",
       " France           64.000000\n",
       " Germany          62.000000\n",
       " Guatemala        37.750000\n",
       " Hong             19.000000\n",
       " Ireland          31.000000\n",
       " Italy            45.500000\n",
       " Japan            44.000000\n",
       " Mexico           33.415584\n",
       " Philippines      48.500000\n",
       " Poland           23.000000\n",
       " Portugal         38.000000\n",
       " Puerto-Rico      30.200000\n",
       " United-States    41.916951\n",
       " Vietnam          71.500000\n",
       " Yugoslavia       35.000000\n",
       "Name: age, dtype: float64"
      ]
     },
     "execution_count": 10,
     "metadata": {},
     "output_type": "execute_result"
    }
   ],
   "source": [
    "FarmFish = adult[adult['occupation'] == ' Farming-fishing']\n",
    "FarmFish.groupby('native-country')['age'].mean()"
   ]
  },
  {
   "cell_type": "markdown",
   "metadata": {},
   "source": [
    "### Вопрос 9\n",
    "Рассмотрим два отношения 1) количество мужчин-бакалавров к количеству мужчин-магистров и 2) количество женщин-бакалавров к количеству женщин-магистров. Какое отношение больше?\n"
   ]
  },
  {
   "cell_type": "code",
   "execution_count": 11,
   "metadata": {},
   "outputs": [
    {
     "name": "stdout",
     "output_type": "stream",
     "text": [
      "Male ratio is higher\n"
     ]
    }
   ],
   "source": [
    "ratioM = adultM[adultM['education'] == ' Bachelors'].shape[0]/adultM[adultM['education'] == ' Masters'].shape[0]\n",
    "ratioF = adultF[adultF['education'] == ' Bachelors'].shape[0]/adultF[adultF['education'] == ' Masters'].shape[0]\n",
    "if ratioM > ratioF:\n",
    "    print('Male ratio is higher')\n",
    "else:\n",
    "    print('Female ratio is higher')"
   ]
  },
  {
   "cell_type": "markdown",
   "metadata": {},
   "source": [
    "### Вопрос 10\n",
    "Каково максимальное количество рабочих часов в неделю? Как много людей работают столько часов в неделю? Каков их заработок?"
   ]
  },
  {
   "cell_type": "code",
   "execution_count": 12,
   "metadata": {},
   "outputs": [
    {
     "name": "stdout",
     "output_type": "stream",
     "text": [
      "99 Hours per week \n",
      " 85 People \n",
      " 25 more than 50K and 60 less than 50K\n"
     ]
    }
   ],
   "source": [
    "MaxH = adult['hours-per-week'].max()\n",
    "NumMaxH = adult[adult['hours-per-week'] == MaxH].shape[0]\n",
    "adultMaxH = adult[adult['hours-per-week'] == MaxH]\n",
    "More50KMaxH = adultMaxH[adultMaxH['50K'] == ' >50K'].shape[0]\n",
    "print(MaxH, 'Hours per week','\\n', NumMaxH, 'People', '\\n', More50KMaxH, 'more than 50K and', NumMaxH - More50KMaxH, 'less than 50K')"
   ]
  },
  {
   "cell_type": "code",
   "execution_count": null,
   "metadata": {},
   "outputs": [],
   "source": []
  }
 ],
 "metadata": {
  "anaconda-cloud": {},
  "kernelspec": {
   "display_name": "Python 3",
   "language": "python",
   "name": "python3"
  },
  "language_info": {
   "codemirror_mode": {
    "name": "ipython",
    "version": 3
   },
   "file_extension": ".py",
   "mimetype": "text/x-python",
   "name": "python",
   "nbconvert_exporter": "python",
   "pygments_lexer": "ipython3",
   "version": "3.8.8"
  },
  "toc": {
   "toc_cell": false,
   "toc_number_sections": false,
   "toc_threshold": 6,
   "toc_window_display": false
  }
 },
 "nbformat": 4,
 "nbformat_minor": 1
}
