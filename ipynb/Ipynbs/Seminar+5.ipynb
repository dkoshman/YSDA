{
 "cells": [
  {
   "cell_type": "code",
   "execution_count": 35,
   "metadata": {
    "collapsed": false
   },
   "outputs": [
    {
     "ename": "NameError",
     "evalue": "name 'matplotlib' is not defined",
     "output_type": "error",
     "traceback": [
      "\u001b[0;31m---------------------------------------------------------------------------\u001b[0m",
      "\u001b[0;31mNameError\u001b[0m                                 Traceback (most recent call last)",
      "\u001b[0;32m<ipython-input-35-11341a55b054>\u001b[0m in \u001b[0;36m<module>\u001b[0;34m()\u001b[0m\n\u001b[1;32m      1\u001b[0m \u001b[1;32mimport\u001b[0m \u001b[0mnumpy\u001b[0m \u001b[1;32mas\u001b[0m \u001b[0mnp\u001b[0m\u001b[1;33m\u001b[0m\u001b[0m\n\u001b[1;32m      2\u001b[0m \u001b[1;32mimport\u001b[0m \u001b[0mmatplotlib\u001b[0m\u001b[1;33m.\u001b[0m\u001b[0mpyplot\u001b[0m \u001b[1;32mas\u001b[0m \u001b[0mplt\u001b[0m\u001b[1;33m\u001b[0m\u001b[0m\n\u001b[0;32m----> 3\u001b[0;31m \u001b[0mmatplotlib\u001b[0m\u001b[1;33m.\u001b[0m\u001b[0minline\u001b[0m\u001b[1;33m\u001b[0m\u001b[0m\n\u001b[0m",
      "\u001b[0;31mNameError\u001b[0m: name 'matplotlib' is not defined"
     ]
    }
   ],
   "source": [
    "import numpy as np\n",
    "import matplotlib.pyplot as plt\n",
    "matplotlib.inline"
   ]
  },
  {
   "cell_type": "code",
   "execution_count": 4,
   "metadata": {
    "collapsed": false
   },
   "outputs": [],
   "source": [
    "X=np.random.normal(size=(100,2))"
   ]
  },
  {
   "cell_type": "code",
   "execution_count": 5,
   "metadata": {
    "collapsed": true
   },
   "outputs": [],
   "source": [
    "Y=np.sqrt(X[:,0] **2 + X[:, 1] ** 2)"
   ]
  },
  {
   "cell_type": "code",
   "execution_count": 6,
   "metadata": {
    "collapsed": false
   },
   "outputs": [
    {
     "data": {
      "text/plain": [
       "<matplotlib.collections.PathCollection at 0x165a1eaf7b8>"
      ]
     },
     "execution_count": 6,
     "metadata": {},
     "output_type": "execute_result"
    }
   ],
   "source": [
    "plt.scatter(X[:, 0], X[:, 1], 30, c=Y)"
   ]
  },
  {
   "cell_type": "code",
   "execution_count": 7,
   "metadata": {
    "collapsed": false
   },
   "outputs": [],
   "source": [
    "from sklearn.tree import DecisionTreeRegressor"
   ]
  },
  {
   "cell_type": "code",
   "execution_count": 8,
   "metadata": {
    "collapsed": true
   },
   "outputs": [],
   "source": [
    "clf = DecisionTreeRegressor()"
   ]
  },
  {
   "cell_type": "code",
   "execution_count": 9,
   "metadata": {
    "collapsed": false
   },
   "outputs": [
    {
     "data": {
      "text/plain": [
       "DecisionTreeRegressor(criterion='mse', max_depth=None, max_features=None,\n",
       "           max_leaf_nodes=None, min_impurity_split=1e-07,\n",
       "           min_samples_leaf=1, min_samples_split=2,\n",
       "           min_weight_fraction_leaf=0.0, presort=False, random_state=None,\n",
       "           splitter='best')"
      ]
     },
     "execution_count": 9,
     "metadata": {},
     "output_type": "execute_result"
    }
   ],
   "source": [
    "clf.fit(X, Y)"
   ]
  },
  {
   "cell_type": "code",
   "execution_count": 10,
   "metadata": {
    "collapsed": true
   },
   "outputs": [],
   "source": [
    "X_test = np.random.uniform(-3, 3, (1000,2))"
   ]
  },
  {
   "cell_type": "code",
   "execution_count": 11,
   "metadata": {
    "collapsed": false
   },
   "outputs": [
    {
     "data": {
      "text/plain": [
       "<matplotlib.collections.PathCollection at 0x165a32a34e0>"
      ]
     },
     "execution_count": 11,
     "metadata": {},
     "output_type": "execute_result"
    }
   ],
   "source": [
    "plt.scatter(X_test[:, 0], X_test[:, 1], c = clf.predict(X_test))"
   ]
  },
  {
   "cell_type": "code",
   "execution_count": 12,
   "metadata": {
    "collapsed": true
   },
   "outputs": [],
   "source": [
    "x1, x2 = np.mgrid[-3:3:200j, -3:3:200j]"
   ]
  },
  {
   "cell_type": "code",
   "execution_count": 13,
   "metadata": {
    "collapsed": false
   },
   "outputs": [],
   "source": [
    "predicted = clf.predict(np.array([ x1.ravel(), x2.ravel() ]).T).reshape(x1.shape)"
   ]
  },
  {
   "cell_type": "code",
   "execution_count": 14,
   "metadata": {
    "collapsed": false
   },
   "outputs": [
    {
     "data": {
      "text/plain": [
       "<matplotlib.collections.PathCollection at 0x165a32ae0b8>"
      ]
     },
     "execution_count": 14,
     "metadata": {},
     "output_type": "execute_result"
    }
   ],
   "source": [
    "plt.pcolormesh(x1, x2, predicted)\n",
    "plt.scatter(X[:, 0], X[:, 1], 30, c=Y)"
   ]
  },
  {
   "cell_type": "code",
   "execution_count": 15,
   "metadata": {
    "collapsed": false
   },
   "outputs": [
    {
     "data": {
      "text/plain": [
       "<matplotlib.collections.PathCollection at 0x165a32ba748>"
      ]
     },
     "execution_count": 15,
     "metadata": {},
     "output_type": "execute_result"
    }
   ],
   "source": [
    "clf = DecisionTreeRegressor(max_depth=1 )\n",
    "clf.fit(X, Y)\n",
    "predicted = clf.predict(np.array([ x1.ravel(), x2.ravel() ]).T).reshape(x1.shape)\n",
    "plt.pcolormesh(x1, x2, predicted)\n",
    "plt.scatter(X[:, 0], X[:, 1], 30, c=Y)"
   ]
  },
  {
   "cell_type": "code",
   "execution_count": 16,
   "metadata": {
    "collapsed": false
   },
   "outputs": [
    {
     "name": "stderr",
     "output_type": "stream",
     "text": [
      "C:\\Users\\Dima\\Anaconda3\\lib\\site-packages\\sklearn\\cross_validation.py:44: DeprecationWarning: This module was deprecated in version 0.18 in favor of the model_selection module into which all the refactored classes and functions are moved. Also note that the interface of the new CV iterators are different from that of this module. This module will be removed in 0.20.\n",
      "  \"This module will be removed in 0.20.\", DeprecationWarning)\n"
     ]
    },
    {
     "data": {
      "text/plain": [
       "<matplotlib.colorbar.Colorbar at 0x165a43b2630>"
      ]
     },
     "execution_count": 16,
     "metadata": {},
     "output_type": "execute_result"
    }
   ],
   "source": [
    "from sklearn.cross_validation import train_test_split\n",
    "predicts = []\n",
    "all_graphs = 0\n",
    "for i in range(10):\n",
    "    X_train, X_test, y_train, y_test = train_test_split(X, Y, test_size = 0.1)\n",
    "    clf = DecisionTreeRegressor()\n",
    "    clf.fit(X_train, y_train)\n",
    "    predicted = clf.predict(np.array([ x1.ravel(), x2.ravel() ]).T).reshape(x1.shape)\n",
    "    predicted = predicted.reshape(x1.shape)\n",
    "    predicts.append(predicted)\n",
    "    if all_graphs==1:\n",
    "        plt.figure(i)\n",
    "        plt.xlim(-3, 3)\n",
    "        plt.ylim(-3, 3)\n",
    "        plt.pcolormesh(x1, x2, predicted)\n",
    "        plt.scatter(X[:, 0], X[:, 1], 30, c=Y)\n",
    "plt.figure(11)\n",
    "plt.figure(figsize=(8, 8))\n",
    "plt.xlim(-3, 3)\n",
    "plt.ylim(-3, 3)\n",
    "plt.pcolormesh(x1, x2, np.array(predicts).mean(axis=0))\n",
    "plt.scatter(X[:,0], X[:, 1], 40, c=Y)\n",
    "plt.colorbar()"
   ]
  },
  {
   "cell_type": "code",
   "execution_count": 17,
   "metadata": {
    "collapsed": true
   },
   "outputs": [],
   "source": [
    "from sklearn.datasets import load_boston"
   ]
  },
  {
   "cell_type": "code",
   "execution_count": 18,
   "metadata": {
    "collapsed": true
   },
   "outputs": [],
   "source": [
    "data = load_boston()\n",
    "\n",
    "data."
   ]
  },
  {
   "cell_type": "code",
   "execution_count": 19,
   "metadata": {
    "collapsed": false
   },
   "outputs": [
    {
     "name": "stdout",
     "output_type": "stream",
     "text": [
      "Boston House Prices dataset\n",
      "===========================\n",
      "\n",
      "Notes\n",
      "------\n",
      "Data Set Characteristics:  \n",
      "\n",
      "    :Number of Instances: 506 \n",
      "\n",
      "    :Number of Attributes: 13 numeric/categorical predictive\n",
      "    \n",
      "    :Median Value (attribute 14) is usually the target\n",
      "\n",
      "    :Attribute Information (in order):\n",
      "        - CRIM     per capita crime rate by town\n",
      "        - ZN       proportion of residential land zoned for lots over 25,000 sq.ft.\n",
      "        - INDUS    proportion of non-retail business acres per town\n",
      "        - CHAS     Charles River dummy variable (= 1 if tract bounds river; 0 otherwise)\n",
      "        - NOX      nitric oxides concentration (parts per 10 million)\n",
      "        - RM       average number of rooms per dwelling\n",
      "        - AGE      proportion of owner-occupied units built prior to 1940\n",
      "        - DIS      weighted distances to five Boston employment centres\n",
      "        - RAD      index of accessibility to radial highways\n",
      "        - TAX      full-value property-tax rate per $10,000\n",
      "        - PTRATIO  pupil-teacher ratio by town\n",
      "        - B        1000(Bk - 0.63)^2 where Bk is the proportion of blacks by town\n",
      "        - LSTAT    % lower status of the population\n",
      "        - MEDV     Median value of owner-occupied homes in $1000's\n",
      "\n",
      "    :Missing Attribute Values: None\n",
      "\n",
      "    :Creator: Harrison, D. and Rubinfeld, D.L.\n",
      "\n",
      "This is a copy of UCI ML housing dataset.\n",
      "http://archive.ics.uci.edu/ml/datasets/Housing\n",
      "\n",
      "\n",
      "This dataset was taken from the StatLib library which is maintained at Carnegie Mellon University.\n",
      "\n",
      "The Boston house-price data of Harrison, D. and Rubinfeld, D.L. 'Hedonic\n",
      "prices and the demand for clean air', J. Environ. Economics & Management,\n",
      "vol.5, 81-102, 1978.   Used in Belsley, Kuh & Welsch, 'Regression diagnostics\n",
      "...', Wiley, 1980.   N.B. Various transformations are used in the table on\n",
      "pages 244-261 of the latter.\n",
      "\n",
      "The Boston house-price data has been used in many machine learning papers that address regression\n",
      "problems.   \n",
      "     \n",
      "**References**\n",
      "\n",
      "   - Belsley, Kuh & Welsch, 'Regression diagnostics: Identifying Influential Data and Sources of Collinearity', Wiley, 1980. 244-261.\n",
      "   - Quinlan,R. (1993). Combining Instance-Based and Model-Based Learning. In Proceedings on the Tenth International Conference of Machine Learning, 236-243, University of Massachusetts, Amherst. Morgan Kaufmann.\n",
      "   - many more! (see http://archive.ics.uci.edu/ml/datasets/Housing)\n",
      "\n"
     ]
    }
   ],
   "source": [
    "print(data.DESCR)"
   ]
  },
  {
   "cell_type": "code",
   "execution_count": 20,
   "metadata": {
    "collapsed": true
   },
   "outputs": [],
   "source": [
    "X = data.data\n",
    "Y = data.target\n",
    "\n",
    "from  sklearn.cross_validation import load_boston\n",
    "\n",
    "X_train, X_test, "
   ]
  },
  {
   "cell_type": "code",
   "execution_count": 21,
   "metadata": {
    "collapsed": true
   },
   "outputs": [],
   "source": [
    "X_train, X_test, Y_train, Y_test = train_test_split(X, Y)"
   ]
  },
  {
   "cell_type": "code",
   "execution_count": 22,
   "metadata": {
    "collapsed": true
   },
   "outputs": [],
   "source": [
    "from sklearn.cross_validation import KFold, cross_val_score"
   ]
  },
  {
   "cell_type": "code",
   "execution_count": 23,
   "metadata": {
    "collapsed": false
   },
   "outputs": [
    {
     "name": "stderr",
     "output_type": "stream",
     "text": [
      "C:\\Users\\Dima\\Anaconda3\\lib\\site-packages\\sklearn\\grid_search.py:43: DeprecationWarning: This module was deprecated in version 0.18 in favor of the model_selection module into which all the refactored classes and functions are moved. This module will be removed in 0.20.\n",
      "  DeprecationWarning)\n"
     ]
    }
   ],
   "source": [
    "from sklearn.grid_search import GridSearchCV"
   ]
  },
  {
   "cell_type": "code",
   "execution_count": 24,
   "metadata": {
    "collapsed": false
   },
   "outputs": [],
   "source": [
    "cv = KFold(X_train.shape[0], shuffle = True)\n",
    "#KFold -- тип кроссвалидации"
   ]
  },
  {
   "cell_type": "code",
   "execution_count": 25,
   "metadata": {
    "collapsed": false
   },
   "outputs": [],
   "source": [
    "gs = GridSearchCV(DecisionTreeRegressor(), param_grid={'max_depth' : [2,  4, 6, 8, 10, 20, 50],\n",
    "                                                      'min_samples_leaf': list(range(1, 20))}, cv=cv)"
   ]
  },
  {
   "cell_type": "code",
   "execution_count": 26,
   "metadata": {
    "collapsed": false
   },
   "outputs": [
    {
     "data": {
      "text/plain": [
       "GridSearchCV(cv=sklearn.cross_validation.KFold(n=379, n_folds=3, shuffle=True, random_state=None),\n",
       "       error_score='raise',\n",
       "       estimator=DecisionTreeRegressor(criterion='mse', max_depth=None, max_features=None,\n",
       "           max_leaf_nodes=None, min_impurity_split=1e-07,\n",
       "           min_samples_leaf=1, min_samples_split=2,\n",
       "           min_weight_fraction_leaf=0.0, presort=False, random_state=None,\n",
       "           splitter='best'),\n",
       "       fit_params={}, iid=True, n_jobs=1,\n",
       "       param_grid={'max_depth': [2, 4, 6, 8, 10, 20, 50], 'min_samples_leaf': [1, 2, 3, 4, 5, 6, 7, 8, 9, 10, 11, 12, 13, 14, 15, 16, 17, 18, 19]},\n",
       "       pre_dispatch='2*n_jobs', refit=True, scoring=None, verbose=0)"
      ]
     },
     "execution_count": 26,
     "metadata": {},
     "output_type": "execute_result"
    }
   ],
   "source": [
    "gs.fit(X_train, Y_train)"
   ]
  },
  {
   "cell_type": "code",
   "execution_count": 27,
   "metadata": {
    "collapsed": false
   },
   "outputs": [
    {
     "name": "stdout",
     "output_type": "stream",
     "text": [
      "[mean: 0.59902, std: 0.04029, params: {'max_depth': 2, 'min_samples_leaf': 1}, mean: 0.59902, std: 0.04029, params: {'max_depth': 2, 'min_samples_leaf': 2}, mean: 0.59902, std: 0.04029, params: {'max_depth': 2, 'min_samples_leaf': 3}, mean: 0.59902, std: 0.04029, params: {'max_depth': 2, 'min_samples_leaf': 4}, mean: 0.59902, std: 0.04029, params: {'max_depth': 2, 'min_samples_leaf': 5}, mean: 0.59902, std: 0.04029, params: {'max_depth': 2, 'min_samples_leaf': 6}, mean: 0.59902, std: 0.04029, params: {'max_depth': 2, 'min_samples_leaf': 7}, mean: 0.59902, std: 0.04029, params: {'max_depth': 2, 'min_samples_leaf': 8}, mean: 0.59902, std: 0.04029, params: {'max_depth': 2, 'min_samples_leaf': 9}, mean: 0.59902, std: 0.04029, params: {'max_depth': 2, 'min_samples_leaf': 10}, mean: 0.59902, std: 0.04029, params: {'max_depth': 2, 'min_samples_leaf': 11}, mean: 0.59935, std: 0.04075, params: {'max_depth': 2, 'min_samples_leaf': 12}, mean: 0.59902, std: 0.04030, params: {'max_depth': 2, 'min_samples_leaf': 13}, mean: 0.58847, std: 0.02621, params: {'max_depth': 2, 'min_samples_leaf': 14}, mean: 0.58847, std: 0.02621, params: {'max_depth': 2, 'min_samples_leaf': 15}, mean: 0.58129, std: 0.02899, params: {'max_depth': 2, 'min_samples_leaf': 16}, mean: 0.58129, std: 0.02899, params: {'max_depth': 2, 'min_samples_leaf': 17}, mean: 0.55924, std: 0.05304, params: {'max_depth': 2, 'min_samples_leaf': 18}, mean: 0.55534, std: 0.05798, params: {'max_depth': 2, 'min_samples_leaf': 19}, mean: 0.69152, std: 0.09311, params: {'max_depth': 4, 'min_samples_leaf': 1}, mean: 0.69567, std: 0.07802, params: {'max_depth': 4, 'min_samples_leaf': 2}, mean: 0.70581, std: 0.03978, params: {'max_depth': 4, 'min_samples_leaf': 3}, mean: 0.73156, std: 0.01018, params: {'max_depth': 4, 'min_samples_leaf': 4}, mean: 0.70218, std: 0.02076, params: {'max_depth': 4, 'min_samples_leaf': 5}, mean: 0.71053, std: 0.01435, params: {'max_depth': 4, 'min_samples_leaf': 6}, mean: 0.71061, std: 0.01456, params: {'max_depth': 4, 'min_samples_leaf': 7}, mean: 0.70165, std: 0.00929, params: {'max_depth': 4, 'min_samples_leaf': 8}, mean: 0.69045, std: 0.00890, params: {'max_depth': 4, 'min_samples_leaf': 9}, mean: 0.68142, std: 0.02417, params: {'max_depth': 4, 'min_samples_leaf': 10}, mean: 0.68377, std: 0.02104, params: {'max_depth': 4, 'min_samples_leaf': 11}, mean: 0.68373, std: 0.02130, params: {'max_depth': 4, 'min_samples_leaf': 12}, mean: 0.68566, std: 0.02133, params: {'max_depth': 4, 'min_samples_leaf': 13}, mean: 0.69178, std: 0.02026, params: {'max_depth': 4, 'min_samples_leaf': 14}, mean: 0.67614, std: 0.00976, params: {'max_depth': 4, 'min_samples_leaf': 15}, mean: 0.66356, std: 0.00393, params: {'max_depth': 4, 'min_samples_leaf': 16}, mean: 0.66240, std: 0.00936, params: {'max_depth': 4, 'min_samples_leaf': 17}, mean: 0.63685, std: 0.02993, params: {'max_depth': 4, 'min_samples_leaf': 18}, mean: 0.61749, std: 0.06082, params: {'max_depth': 4, 'min_samples_leaf': 19}, mean: 0.70334, std: 0.08481, params: {'max_depth': 6, 'min_samples_leaf': 1}, mean: 0.69068, std: 0.09833, params: {'max_depth': 6, 'min_samples_leaf': 2}, mean: 0.70344, std: 0.04650, params: {'max_depth': 6, 'min_samples_leaf': 3}, mean: 0.72917, std: 0.02274, params: {'max_depth': 6, 'min_samples_leaf': 4}, mean: 0.70626, std: 0.02364, params: {'max_depth': 6, 'min_samples_leaf': 5}, mean: 0.71589, std: 0.02125, params: {'max_depth': 6, 'min_samples_leaf': 6}, mean: 0.71527, std: 0.02469, params: {'max_depth': 6, 'min_samples_leaf': 7}, mean: 0.71454, std: 0.01767, params: {'max_depth': 6, 'min_samples_leaf': 8}, mean: 0.69659, std: 0.01484, params: {'max_depth': 6, 'min_samples_leaf': 9}, mean: 0.68754, std: 0.02398, params: {'max_depth': 6, 'min_samples_leaf': 10}, mean: 0.69111, std: 0.02039, params: {'max_depth': 6, 'min_samples_leaf': 11}, mean: 0.69021, std: 0.02262, params: {'max_depth': 6, 'min_samples_leaf': 12}, mean: 0.69554, std: 0.01977, params: {'max_depth': 6, 'min_samples_leaf': 13}, mean: 0.70169, std: 0.01853, params: {'max_depth': 6, 'min_samples_leaf': 14}, mean: 0.68502, std: 0.01077, params: {'max_depth': 6, 'min_samples_leaf': 15}, mean: 0.67185, std: 0.00805, params: {'max_depth': 6, 'min_samples_leaf': 16}, mean: 0.66785, std: 0.00605, params: {'max_depth': 6, 'min_samples_leaf': 17}, mean: 0.64047, std: 0.03193, params: {'max_depth': 6, 'min_samples_leaf': 18}, mean: 0.61918, std: 0.06190, params: {'max_depth': 6, 'min_samples_leaf': 19}, mean: 0.64936, std: 0.18215, params: {'max_depth': 8, 'min_samples_leaf': 1}, mean: 0.67775, std: 0.10681, params: {'max_depth': 8, 'min_samples_leaf': 2}, mean: 0.70559, std: 0.04697, params: {'max_depth': 8, 'min_samples_leaf': 3}, mean: 0.72299, std: 0.02112, params: {'max_depth': 8, 'min_samples_leaf': 4}, mean: 0.70288, std: 0.02380, params: {'max_depth': 8, 'min_samples_leaf': 5}, mean: 0.71717, std: 0.01826, params: {'max_depth': 8, 'min_samples_leaf': 6}, mean: 0.71674, std: 0.02326, params: {'max_depth': 8, 'min_samples_leaf': 7}, mean: 0.71444, std: 0.01559, params: {'max_depth': 8, 'min_samples_leaf': 8}, mean: 0.69908, std: 0.01417, params: {'max_depth': 8, 'min_samples_leaf': 9}, mean: 0.68770, std: 0.02400, params: {'max_depth': 8, 'min_samples_leaf': 10}, mean: 0.69196, std: 0.02070, params: {'max_depth': 8, 'min_samples_leaf': 11}, mean: 0.69105, std: 0.02298, params: {'max_depth': 8, 'min_samples_leaf': 12}, mean: 0.69639, std: 0.02000, params: {'max_depth': 8, 'min_samples_leaf': 13}, mean: 0.70276, std: 0.01851, params: {'max_depth': 8, 'min_samples_leaf': 14}, mean: 0.68591, std: 0.01204, params: {'max_depth': 8, 'min_samples_leaf': 15}, mean: 0.67273, std: 0.00870, params: {'max_depth': 8, 'min_samples_leaf': 16}, mean: 0.66828, std: 0.00557, params: {'max_depth': 8, 'min_samples_leaf': 17}, mean: 0.64103, std: 0.03227, params: {'max_depth': 8, 'min_samples_leaf': 18}, mean: 0.61974, std: 0.06228, params: {'max_depth': 8, 'min_samples_leaf': 19}, mean: 0.70318, std: 0.08109, params: {'max_depth': 10, 'min_samples_leaf': 1}, mean: 0.67122, std: 0.10693, params: {'max_depth': 10, 'min_samples_leaf': 2}, mean: 0.69685, std: 0.04390, params: {'max_depth': 10, 'min_samples_leaf': 3}, mean: 0.72059, std: 0.01900, params: {'max_depth': 10, 'min_samples_leaf': 4}, mean: 0.70308, std: 0.02277, params: {'max_depth': 10, 'min_samples_leaf': 5}, mean: 0.71603, std: 0.01667, params: {'max_depth': 10, 'min_samples_leaf': 6}, mean: 0.71561, std: 0.02173, params: {'max_depth': 10, 'min_samples_leaf': 7}, mean: 0.71330, std: 0.01399, params: {'max_depth': 10, 'min_samples_leaf': 8}, mean: 0.70011, std: 0.01390, params: {'max_depth': 10, 'min_samples_leaf': 9}, mean: 0.68872, std: 0.02420, params: {'max_depth': 10, 'min_samples_leaf': 10}, mean: 0.69022, std: 0.02015, params: {'max_depth': 10, 'min_samples_leaf': 11}, mean: 0.69140, std: 0.02314, params: {'max_depth': 10, 'min_samples_leaf': 12}, mean: 0.69673, std: 0.02011, params: {'max_depth': 10, 'min_samples_leaf': 13}, mean: 0.70281, std: 0.01851, params: {'max_depth': 10, 'min_samples_leaf': 14}, mean: 0.68591, std: 0.01204, params: {'max_depth': 10, 'min_samples_leaf': 15}, mean: 0.67273, std: 0.00870, params: {'max_depth': 10, 'min_samples_leaf': 16}, mean: 0.66828, std: 0.00557, params: {'max_depth': 10, 'min_samples_leaf': 17}, mean: 0.64103, std: 0.03227, params: {'max_depth': 10, 'min_samples_leaf': 18}, mean: 0.61974, std: 0.06228, params: {'max_depth': 10, 'min_samples_leaf': 19}, mean: 0.66442, std: 0.15511, params: {'max_depth': 20, 'min_samples_leaf': 1}, mean: 0.67166, std: 0.10582, params: {'max_depth': 20, 'min_samples_leaf': 2}, mean: 0.69891, std: 0.04232, params: {'max_depth': 20, 'min_samples_leaf': 3}, mean: 0.71984, std: 0.01734, params: {'max_depth': 20, 'min_samples_leaf': 4}, mean: 0.70189, std: 0.02011, params: {'max_depth': 20, 'min_samples_leaf': 5}, mean: 0.71425, std: 0.01606, params: {'max_depth': 20, 'min_samples_leaf': 6}, mean: 0.71561, std: 0.02173, params: {'max_depth': 20, 'min_samples_leaf': 7}, mean: 0.71330, std: 0.01399, params: {'max_depth': 20, 'min_samples_leaf': 8}, mean: 0.69924, std: 0.01488, params: {'max_depth': 20, 'min_samples_leaf': 9}, mean: 0.68872, std: 0.02420, params: {'max_depth': 20, 'min_samples_leaf': 10}, mean: 0.69022, std: 0.02015, params: {'max_depth': 20, 'min_samples_leaf': 11}, mean: 0.69140, std: 0.02314, params: {'max_depth': 20, 'min_samples_leaf': 12}, mean: 0.69673, std: 0.02011, params: {'max_depth': 20, 'min_samples_leaf': 13}, mean: 0.70281, std: 0.01851, params: {'max_depth': 20, 'min_samples_leaf': 14}, mean: 0.68591, std: 0.01204, params: {'max_depth': 20, 'min_samples_leaf': 15}, mean: 0.67273, std: 0.00870, params: {'max_depth': 20, 'min_samples_leaf': 16}, mean: 0.66828, std: 0.00557, params: {'max_depth': 20, 'min_samples_leaf': 17}, mean: 0.64103, std: 0.03227, params: {'max_depth': 20, 'min_samples_leaf': 18}, mean: 0.61974, std: 0.06228, params: {'max_depth': 20, 'min_samples_leaf': 19}, mean: 0.63696, std: 0.17423, params: {'max_depth': 50, 'min_samples_leaf': 1}, mean: 0.67852, std: 0.10195, params: {'max_depth': 50, 'min_samples_leaf': 2}, mean: 0.69506, std: 0.04342, params: {'max_depth': 50, 'min_samples_leaf': 3}, mean: 0.71910, std: 0.01701, params: {'max_depth': 50, 'min_samples_leaf': 4}, mean: 0.70261, std: 0.01999, params: {'max_depth': 50, 'min_samples_leaf': 5}, mean: 0.71506, std: 0.01532, params: {'max_depth': 50, 'min_samples_leaf': 6}, mean: 0.71561, std: 0.02173, params: {'max_depth': 50, 'min_samples_leaf': 7}, mean: 0.71330, std: 0.01399, params: {'max_depth': 50, 'min_samples_leaf': 8}, mean: 0.69924, std: 0.01488, params: {'max_depth': 50, 'min_samples_leaf': 9}, mean: 0.68872, std: 0.02420, params: {'max_depth': 50, 'min_samples_leaf': 10}, mean: 0.69022, std: 0.02015, params: {'max_depth': 50, 'min_samples_leaf': 11}, mean: 0.69140, std: 0.02314, params: {'max_depth': 50, 'min_samples_leaf': 12}, mean: 0.69673, std: 0.02011, params: {'max_depth': 50, 'min_samples_leaf': 13}, mean: 0.70281, std: 0.01851, params: {'max_depth': 50, 'min_samples_leaf': 14}, mean: 0.68591, std: 0.01204, params: {'max_depth': 50, 'min_samples_leaf': 15}, mean: 0.67273, std: 0.00870, params: {'max_depth': 50, 'min_samples_leaf': 16}, mean: 0.66828, std: 0.00557, params: {'max_depth': 50, 'min_samples_leaf': 17}, mean: 0.64103, std: 0.03227, params: {'max_depth': 50, 'min_samples_leaf': 18}, mean: 0.61974, std: 0.06228, params: {'max_depth': 50, 'min_samples_leaf': 19}]\n"
     ]
    },
    {
     "data": {
      "text/plain": [
       "<function print>"
      ]
     },
     "execution_count": 27,
     "metadata": {},
     "output_type": "execute_result"
    }
   ],
   "source": [
    "print(gs.grid_scores_)\n",
    "gs.best_score_\n",
    "print"
   ]
  },
  {
   "cell_type": "code",
   "execution_count": 28,
   "metadata": {
    "collapsed": false
   },
   "outputs": [
    {
     "data": {
      "text/plain": [
       "[<matplotlib.lines.Line2D at 0x165a44ea8d0>]"
      ]
     },
     "execution_count": 28,
     "metadata": {},
     "output_type": "execute_result"
    }
   ],
   "source": [
    "x = np.linspace(-1, 1)\n",
    "y=x.copy()\n",
    "x = x.reshape(-1,1)\n",
    "plt.plot(x,y)\n",
    "regr = DecisionTreeRegressor(max_depth=1)\n",
    "regr.fit(x.reshape(-1, 1), y)\n",
    "plt.plot(x, regr.predict(x))"
   ]
  },
  {
   "cell_type": "code",
   "execution_count": 29,
   "metadata": {
    "collapsed": true
   },
   "outputs": [],
   "source": [
    "from sklearn.ensemble import GradientBoostingRegressor"
   ]
  },
  {
   "cell_type": "code",
   "execution_count": 30,
   "metadata": {
    "collapsed": false
   },
   "outputs": [
    {
     "data": {
      "text/plain": [
       "[<matplotlib.lines.Line2D at 0x165a44ea940>]"
      ]
     },
     "execution_count": 30,
     "metadata": {},
     "output_type": "execute_result"
    }
   ],
   "source": [
    "n_onjects = 100\n",
    "x = np.linspace(-1, 1, n_onjects)\n",
    "y=x.copy() + np.random.uniform(-0.5, 0.5, n_onjects)\n",
    "x = x.reshape(-1,1)\n",
    "plt.plot(x,y, 'o')\n",
    "regr = GradientBoostingRegressor(max_depth=1, learning_rate=1, n_estimators=10, random_state=1)\n",
    "regr.fit(x.reshape(-1, 1), y)\n",
    "plt.plot(x, regr.predict(x), '-')"
   ]
  },
  {
   "cell_type": "code",
   "execution_count": 31,
   "metadata": {
    "collapsed": false
   },
   "outputs": [
    {
     "data": {
      "text/plain": [
       "[<matplotlib.lines.Line2D at 0x165a45956d8>]"
      ]
     },
     "execution_count": 31,
     "metadata": {},
     "output_type": "execute_result"
    }
   ],
   "source": [
    "from sklearn.ensemble import BaggingRegressor\n",
    "n_onjects = 100\n",
    "x = np.linspace(-1, 1, n_onjects)\n",
    "y=x.copy() + np.random.uniform(-0.5, 0.5, n_onjects)\n",
    "x = x.reshape(-1,1)\n",
    "plt.plot(x,y, 'o')\n",
    "regr = BaggingRegressor(DecisionTreeRegressor(max_depth=None), n_estimators=1000 )\n",
    "regr.fit(x.reshape(-1, 1), y)\n",
    "plt.plot(x, regr.predict(x), '-')"
   ]
  },
  {
   "cell_type": "code",
   "execution_count": 32,
   "metadata": {
    "collapsed": false
   },
   "outputs": [
    {
     "data": {
      "text/plain": [
       "[<matplotlib.lines.Line2D at 0x165a45955f8>]"
      ]
     },
     "execution_count": 32,
     "metadata": {},
     "output_type": "execute_result"
    }
   ],
   "source": [
    "from sklearn.ensemble import BaggingRegressor\n",
    "n_objects = 100\n",
    "x = np.linspace(-1, 1, n_onjects)\n",
    "y= np.concatenate([np.array([-1] * (n_onjects // 2)), np.array([1] * (n_objects // 2)) ]) + \\\n",
    "np.random.uniform(-0.5, 0.5, n_objects)\n",
    "x = x.reshape(-1,1)\n",
    "plt.plot(x,y, 'o')\n",
    "regr = BaggingRegressor(DecisionTreeRegressor(max_depth=3), n_estimators=1 )\n",
    "regr.fit(x.reshape(-1, 1), y)\n",
    "plt.plot(x, regr.predict(x), '-')"
   ]
  },
  {
   "cell_type": "code",
   "execution_count": 33,
   "metadata": {
    "collapsed": false
   },
   "outputs": [],
   "source": [
    "from sklearn import datasets\n",
    "from sklearn.neighbors import KNeighborsClassifier\n",
    "iris = datasets.load_iris()\n",
    "X = iris.data[:, :2]\n",
    "y = iris.target\n",
    "clf = KNeighborsClassifier(1)"
   ]
  },
  {
   "cell_type": "code",
   "execution_count": 34,
   "metadata": {
    "collapsed": false
   },
   "outputs": [
    {
     "data": {
      "text/plain": [
       "<matplotlib.collections.PathCollection at 0x165a455d278>"
      ]
     },
     "execution_count": 34,
     "metadata": {},
     "output_type": "execute_result"
    }
   ],
   "source": [
    "plt.scatter( X[:,0], X[:, 1], 30, y)"
   ]
  },
  {
   "cell_type": "code",
   "execution_count": 167,
   "metadata": {
    "collapsed": false
   },
   "outputs": [],
   "source": [
    "x1, x2 = np.mgrid[4:8.5:200j, 1.5:5:200j]"
   ]
  },
  {
   "cell_type": "code",
   "execution_count": 172,
   "metadata": {
    "collapsed": false
   },
   "outputs": [
    {
     "data": {
      "text/plain": [
       "KNeighborsClassifier(algorithm='auto', leaf_size=30, metric='minkowski',\n",
       "           metric_params=None, n_jobs=1, n_neighbors=1, p=2,\n",
       "           weights='uniform')"
      ]
     },
     "execution_count": 172,
     "metadata": {},
     "output_type": "execute_result"
    }
   ],
   "source": [
    "clf.fit(X,y)"
   ]
  },
  {
   "cell_type": "code",
   "execution_count": 175,
   "metadata": {
    "collapsed": true
   },
   "outputs": [],
   "source": [
    "predicts = clf.predict(np.array( [x1.ravel(), x2.ravel()] ).T)"
   ]
  },
  {
   "cell_type": "code",
   "execution_count": 176,
   "metadata": {
    "collapsed": false
   },
   "outputs": [],
   "source": [
    "predicts = predicts.reshape(x1.shape)"
   ]
  },
  {
   "cell_type": "code",
   "execution_count": 177,
   "metadata": {
    "collapsed": false
   },
   "outputs": [
    {
     "data": {
      "text/plain": [
       "<matplotlib.collections.PathCollection at 0x12fbffd0>"
      ]
     },
     "execution_count": 177,
     "metadata": {},
     "output_type": "execute_result"
    },
    {
     "data": {
      "image/png": "[encoded data removed]",
      "text/plain": [
       "<matplotlib.figure.Figure at 0x11a2bb38>"
      ]
     },
     "metadata": {},
     "output_type": "display_data"
    }
   ],
   "source": [
    "plt.pcolormesh(x1, x2, predicts, cmap= 'spring')\n",
    "plt.scatter(X[:,0], X[:,1],30,y,cmap='spring')"
   ]
  },
  {
   "cell_type": "code",
   "execution_count": null,
   "metadata": {
    "collapsed": true
   },
   "outputs": [],
   "source": []
  }
 ],
 "metadata": {
  "anaconda-cloud": {},
  "kernelspec": {
   "display_name": "Python [default]",
   "language": "python",
   "name": "python3"
  },
  "language_info": {
   "codemirror_mode": {
    "name": "ipython",
    "version": 3
   },
   "file_extension": ".py",
   "mimetype": "text/x-python",
   "name": "python",
   "nbconvert_exporter": "python",
   "pygments_lexer": "ipython3",
   "version": "3.5.2"
  }
 },
 "nbformat": 4,
 "nbformat_minor": 1
}
