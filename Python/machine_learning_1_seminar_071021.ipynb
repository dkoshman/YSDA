{
 "cells": [
  {
   "cell_type": "markdown",
   "id": "2eb36267-4f69-4515-842e-3a6baf4b95d2",
   "metadata": {},
   "source": [
    "# Занятие 5. Линейная регрессия\n",
    "\n",
    "**Цель данного занятия** состоит в освоении на практике линейной регрессии на примере задачи прогнозирования цены вина. \n",
    "\n",
    "Далее будем использовать датасет [Wine Reviews](https://www.kaggle.com/zynicide/wine-reviews), также его можно найти в [Лабораторной работе №0](https://lk.yandexdataschool.ru/teaching/assignments/2683/). \n",
    "\n",
    "Прочитайте только следующие колонки:\n",
    "\n",
    "    country : страна производитель\n",
    "    variety : сорт \n",
    "    winery : винодельня\n",
    "    points : оценка экспертов\n",
    "    price : цена за бутылку\n",
    "    \n",
    "и удалите все строки содержащие пропущенные значения:"
   ]
  },
  {
   "cell_type": "code",
   "execution_count": 70,
   "id": "c68c8c6f-0576-4bcc-b3ef-bf9d61d91cf7",
   "metadata": {},
   "outputs": [],
   "source": [
    "import pandas as pd\n",
    "import numpy as np\n",
    "df = pd.read_csv(\"Wine Reviews.csv\", usecols=[\"country\",\n",
    "    \"variety\",\n",
    "    \"winery\",\n",
    "    \"points\",\n",
    "    \"price\"], ).dropna()"
   ]
  },
  {
   "cell_type": "code",
   "execution_count": 71,
   "id": "6e4fa44e",
   "metadata": {},
   "outputs": [
    {
     "data": {
      "text/html": [
       "<div>\n",
       "<style scoped>\n",
       "    .dataframe tbody tr th:only-of-type {\n",
       "        vertical-align: middle;\n",
       "    }\n",
       "\n",
       "    .dataframe tbody tr th {\n",
       "        vertical-align: top;\n",
       "    }\n",
       "\n",
       "    .dataframe thead th {\n",
       "        text-align: right;\n",
       "    }\n",
       "</style>\n",
       "<table border=\"1\" class=\"dataframe\">\n",
       "  <thead>\n",
       "    <tr style=\"text-align: right;\">\n",
       "      <th></th>\n",
       "      <th>country</th>\n",
       "      <th>points</th>\n",
       "      <th>price</th>\n",
       "      <th>variety</th>\n",
       "      <th>winery</th>\n",
       "    </tr>\n",
       "  </thead>\n",
       "  <tbody>\n",
       "    <tr>\n",
       "      <th>1</th>\n",
       "      <td>Portugal</td>\n",
       "      <td>87</td>\n",
       "      <td>15.0</td>\n",
       "      <td>Portuguese Red</td>\n",
       "      <td>Quinta dos Avidagos</td>\n",
       "    </tr>\n",
       "    <tr>\n",
       "      <th>2</th>\n",
       "      <td>US</td>\n",
       "      <td>87</td>\n",
       "      <td>14.0</td>\n",
       "      <td>Pinot Gris</td>\n",
       "      <td>Rainstorm</td>\n",
       "    </tr>\n",
       "    <tr>\n",
       "      <th>3</th>\n",
       "      <td>US</td>\n",
       "      <td>87</td>\n",
       "      <td>13.0</td>\n",
       "      <td>Riesling</td>\n",
       "      <td>St. Julian</td>\n",
       "    </tr>\n",
       "    <tr>\n",
       "      <th>4</th>\n",
       "      <td>US</td>\n",
       "      <td>87</td>\n",
       "      <td>65.0</td>\n",
       "      <td>Pinot Noir</td>\n",
       "      <td>Sweet Cheeks</td>\n",
       "    </tr>\n",
       "    <tr>\n",
       "      <th>5</th>\n",
       "      <td>Spain</td>\n",
       "      <td>87</td>\n",
       "      <td>15.0</td>\n",
       "      <td>Tempranillo-Merlot</td>\n",
       "      <td>Tandem</td>\n",
       "    </tr>\n",
       "  </tbody>\n",
       "</table>\n",
       "</div>"
      ],
      "text/plain": [
       "    country  points  price             variety               winery\n",
       "1  Portugal      87   15.0      Portuguese Red  Quinta dos Avidagos\n",
       "2        US      87   14.0          Pinot Gris            Rainstorm\n",
       "3        US      87   13.0            Riesling           St. Julian\n",
       "4        US      87   65.0          Pinot Noir         Sweet Cheeks\n",
       "5     Spain      87   15.0  Tempranillo-Merlot               Tandem"
      ]
     },
     "execution_count": 71,
     "metadata": {},
     "output_type": "execute_result"
    }
   ],
   "source": [
    "df.head()"
   ]
  },
  {
   "cell_type": "markdown",
   "id": "34d56c90-bb54-4a86-b35c-14f747dc622d",
   "metadata": {},
   "source": [
    "Далее мы будем учиться предсказывать стоимость вина, т.е. колонку `price`.\n",
    "\n",
    "Выделем таргет в отдельный вектор и разобъём данные на `train` и `test`:"
   ]
  },
  {
   "cell_type": "code",
   "execution_count": 72,
   "id": "89e073ab",
   "metadata": {},
   "outputs": [],
   "source": [
    "Y = df.price\n",
    "X = df.drop(columns=[\"price\"])"
   ]
  },
  {
   "cell_type": "code",
   "execution_count": 73,
   "id": "6356ace7",
   "metadata": {},
   "outputs": [
    {
     "data": {
      "text/plain": [
       "True"
      ]
     },
     "execution_count": 73,
     "metadata": {},
     "output_type": "execute_result"
    }
   ],
   "source": [
    "X.size + Y.size == df.size"
   ]
  },
  {
   "cell_type": "code",
   "execution_count": 74,
   "id": "6750c497",
   "metadata": {},
   "outputs": [],
   "source": [
    "for col in [\"country\",    \"variety\",    \"winery\",]:\n",
    "    col_cts = X[col].value_counts()\n",
    "    col_cts = col_cts[col_cts >= 10]\n",
    "    X = X[X[col].isin(col_cts.index)]\n",
    "Y = Y.loc[X.index]\n"
   ]
  },
  {
   "cell_type": "code",
   "execution_count": 80,
   "id": "f045445b",
   "metadata": {},
   "outputs": [],
   "source": [
    "split = X.shape[0] // 3"
   ]
  },
  {
   "cell_type": "code",
   "execution_count": 81,
   "id": "45bfea22-e611-43f6-ab03-1dd782e14e67",
   "metadata": {},
   "outputs": [],
   "source": [
    "X_train, X_test, Y_train, Y_test = X[split:], X[:split], Y[split:], Y[:split]"
   ]
  },
  {
   "cell_type": "markdown",
   "id": "cb21dab0-2255-4544-aed6-0a369cbdfb16",
   "metadata": {},
   "source": [
    "## Метод наименьших квадратов\n",
    "\n",
    "### Двумерный случай\n",
    "\n",
    "Попытаемся найти функцию вида: \n",
    "\n",
    "$$f(x) = a + bx$$\n",
    "    \n",
    ", которая бы хорошо приближала цену, основываясь только на оценке эксперта.\n",
    "\n",
    "Построим график зависимости цены от оценки:"
   ]
  },
  {
   "cell_type": "code",
   "execution_count": 84,
   "id": "87a9a3e4-d528-4dd5-a81e-a5d248474b47",
   "metadata": {},
   "outputs": [
    {
     "data": {
      "text/plain": [
       "<AxesSubplot:xlabel='points', ylabel='price'>"
      ]
     },
     "execution_count": 84,
     "metadata": {},
     "output_type": "execute_result"
    },
    {
     "data": {
      "image/png": "[encoded data removed]",
      "text/plain": [
       "<Figure size 432x288 with 1 Axes>"
      ]
     },
     "metadata": {
      "needs_background": "light"
     },
     "output_type": "display_data"
    }
   ],
   "source": [
    "df.plot.scatter(x=\"points\", y=\"price\")"
   ]
  },
  {
   "cell_type": "markdown",
   "id": "c9c8fc0c-b4da-45b3-9070-f35c1f6d7b2a",
   "metadata": {},
   "source": [
    "**Вопрос:** В чём суть метода наименьших квадратов? \n",
    "\n",
    "Выпишите формулы для вычисления параметров $a$ и $b$, \n",
    "\n",
    "а затем напишим класс `MLS`, который нужно отнаследовать от [sklearn.base.RegressorMixin](https://scikit-learn.org/stable/modules/generated/sklearn.base.RegressorMixin.html):"
   ]
  },
  {
   "cell_type": "code",
   "execution_count": null,
   "id": "79e7c8b6-816b-4af0-8da4-5a5da6e2553a",
   "metadata": {},
   "outputs": [],
   "source": [
    "class MLS2d ...\n",
    "    ..."
   ]
  },
  {
   "cell_type": "code",
   "execution_count": 5,
   "id": "58257b05-8deb-4ae9-b196-3dfc59847d05",
   "metadata": {},
   "outputs": [
    {
     "name": "stdout",
     "output_type": "stream",
     "text": [
      "a = -466.812668581132\n",
      "b = 5.675216795743072\n"
     ]
    }
   ],
   "source": [
    "model_2d = MLS2d().fit(X_train['points'], Y_train)\n",
    "\n",
    "print(f'a = {model_2d.a}')\n",
    "print(f'b = {model_2d.b}')"
   ]
  },
  {
   "cell_type": "markdown",
   "id": "e1db63db-73ee-4d80-8efa-647dd274c15e",
   "metadata": {},
   "source": [
    "Вычислим среднию квадратическую ошибку:"
   ]
  },
  {
   "cell_type": "code",
   "execution_count": 6,
   "id": "8b44468c-cb10-42fb-9a07-1868dcb40128",
   "metadata": {},
   "outputs": [
    {
     "name": "stdout",
     "output_type": "stream",
     "text": [
      "MSE: 1125.6275430492763\n"
     ]
    }
   ],
   "source": [
    "Y_pred = model_2d.predict(X_test['points'])\n",
    "\n",
    "MSE = ...\n",
    "\n",
    "print(f'MSE: {MSE(Y_test, Y_pred)}')"
   ]
  },
  {
   "cell_type": "markdown",
   "id": "928d7501-d59c-4c1b-a34f-6350bcf356bd",
   "metadata": {},
   "source": [
    "Постройте получившеюся прямую поверх предыдущего графика зависимости цены от оценки:"
   ]
  },
  {
   "cell_type": "code",
   "execution_count": null,
   "id": "64a5c0ab-b5ce-4a0f-bf65-6713c9489c77",
   "metadata": {},
   "outputs": [],
   "source": []
  },
  {
   "cell_type": "markdown",
   "id": "b34140c6-2f9c-40fc-a664-690571760232",
   "metadata": {},
   "source": [
    "## Многомерный случай\n",
    "\n",
    "Мы можем использовать не только оценку экспертов для предсказания цены, но и, например, страну производителя.\n",
    "\n",
    "Для этого нам нужно закодировать подобные признаки - будем использовать [sklearn.preprocessing.OneHotEncoder](https://scikit-learn.org/stable/modules/generated/sklearn.preprocessing.OneHotEncoder.html). \n",
    "\n",
    "Напишим класс, который бы наследовался от класса OneHotEncoder, но работал бы c таблицами и в качестве аргумента принемал также список колонок, которые требуется закодировать:"
   ]
  },
  {
   "cell_type": "code",
   "execution_count": 69,
   "id": "65107719",
   "metadata": {},
   "outputs": [],
   "source": [
    "from sklearn.preprocessing import OneHotEncoder"
   ]
  },
  {
   "cell_type": "code",
   "execution_count": 91,
   "id": "c3166508-2eca-44db-8d62-79c30affef50",
   "metadata": {},
   "outputs": [],
   "source": [
    "class PDEncoder(OneHotEncoder):\n",
    "    def __init__(self, columns=None, **kwargs):\n",
    "        self.columns = columns\n",
    "        super().__init__(self, **kwargs)\n",
    "        \n",
    "\n",
    "    def preprocessing(self, X):\n",
    "        if self.columns:\n",
    "            X = X[self.columns]\n",
    "        return X\n",
    "    \n",
    "    def fit(self, X):\n",
    "        OneHotEncoder.fit(self, self.preprocessing(X))\n",
    "        return self\n",
    "    \n",
    "    def transform(self, X):\n",
    "        X_pre = self.preprocessing(X)\n",
    "        vectors = OneHotEncoder.transform(self, X_pre).toarray()\n",
    "        categories = np.concatenate(self.categories_)\n",
    "        X_pre = pd.DataFrame(vectors, columns=categories, index=X_pre.index)\n",
    "        X = X.loc[X_pre.index].drop(columns=self.columns).join(X_pre)\n",
    "        return X"
   ]
  },
  {
   "cell_type": "code",
   "execution_count": 92,
   "id": "1e51817b-5bec-45a7-b38a-f3c6d382a5df",
   "metadata": {},
   "outputs": [
    {
     "name": "stderr",
     "output_type": "stream",
     "text": [
      "/Users/dimakoshman/.pyenv/versions/shad_env/lib/python3.9/site-packages/sklearn/utils/validation.py:70: FutureWarning: Pass categories=PDEncoder(columns=['country']) as keyword args. From version 1.0 (renaming of 0.25) passing these as positional arguments will result in an error\n",
      "  warnings.warn(f\"Pass {args_msg} as keyword args. From version \"\n"
     ]
    },
    {
     "ename": "TypeError",
     "evalue": "object of type 'PDEncoder' has no len()",
     "output_type": "error",
     "traceback": [
      "\u001b[0;31m---------------------------------------------------------------------------\u001b[0m",
      "\u001b[0;31mTypeError\u001b[0m                                 Traceback (most recent call last)",
      "\u001b[0;32m/var/folders/5w/gytwm8sd6vldh9ym3dvj_x_m0000gn/T/ipykernel_59279/1632122551.py\u001b[0m in \u001b[0;36m<module>\u001b[0;34m\u001b[0m\n\u001b[1;32m      1\u001b[0m \u001b[0mencoder\u001b[0m \u001b[0;34m=\u001b[0m \u001b[0mPDEncoder\u001b[0m\u001b[0;34m(\u001b[0m\u001b[0mcolumns\u001b[0m\u001b[0;34m=\u001b[0m\u001b[0;34m[\u001b[0m\u001b[0;34m'country'\u001b[0m\u001b[0;34m]\u001b[0m\u001b[0;34m)\u001b[0m\u001b[0;34m\u001b[0m\u001b[0;34m\u001b[0m\u001b[0m\n\u001b[1;32m      2\u001b[0m \u001b[0;34m\u001b[0m\u001b[0m\n\u001b[0;32m----> 3\u001b[0;31m \u001b[0mX_train_\u001b[0m \u001b[0;34m=\u001b[0m \u001b[0mencoder\u001b[0m\u001b[0;34m.\u001b[0m\u001b[0mfit_transform\u001b[0m\u001b[0;34m(\u001b[0m\u001b[0mX_train\u001b[0m\u001b[0;34m[\u001b[0m\u001b[0;34m[\u001b[0m\u001b[0;34m'points'\u001b[0m\u001b[0;34m,\u001b[0m \u001b[0;34m'country'\u001b[0m\u001b[0;34m]\u001b[0m\u001b[0;34m]\u001b[0m\u001b[0;34m)\u001b[0m\u001b[0;34m\u001b[0m\u001b[0;34m\u001b[0m\u001b[0m\n\u001b[0m\u001b[1;32m      4\u001b[0m \u001b[0mX_test_\u001b[0m \u001b[0;34m=\u001b[0m \u001b[0mencoder\u001b[0m\u001b[0;34m.\u001b[0m\u001b[0mtransform\u001b[0m\u001b[0;34m(\u001b[0m\u001b[0mX_test\u001b[0m\u001b[0;34m[\u001b[0m\u001b[0;34m[\u001b[0m\u001b[0;34m'points'\u001b[0m\u001b[0;34m,\u001b[0m \u001b[0;34m'country'\u001b[0m\u001b[0;34m]\u001b[0m\u001b[0;34m]\u001b[0m\u001b[0;34m)\u001b[0m\u001b[0;34m\u001b[0m\u001b[0;34m\u001b[0m\u001b[0m\n\u001b[1;32m      5\u001b[0m \u001b[0;34m\u001b[0m\u001b[0m\n",
      "\u001b[0;32m~/.pyenv/versions/shad_env/lib/python3.9/site-packages/sklearn/preprocessing/_encoders.py\u001b[0m in \u001b[0;36mfit_transform\u001b[0;34m(self, X, y)\u001b[0m\n\u001b[1;32m    449\u001b[0m         \"\"\"\n\u001b[1;32m    450\u001b[0m         \u001b[0mself\u001b[0m\u001b[0;34m.\u001b[0m\u001b[0m_validate_keywords\u001b[0m\u001b[0;34m(\u001b[0m\u001b[0;34m)\u001b[0m\u001b[0;34m\u001b[0m\u001b[0;34m\u001b[0m\u001b[0m\n\u001b[0;32m--> 451\u001b[0;31m         \u001b[0;32mreturn\u001b[0m \u001b[0msuper\u001b[0m\u001b[0;34m(\u001b[0m\u001b[0;34m)\u001b[0m\u001b[0;34m.\u001b[0m\u001b[0mfit_transform\u001b[0m\u001b[0;34m(\u001b[0m\u001b[0mX\u001b[0m\u001b[0;34m,\u001b[0m \u001b[0my\u001b[0m\u001b[0;34m)\u001b[0m\u001b[0;34m\u001b[0m\u001b[0;34m\u001b[0m\u001b[0m\n\u001b[0m\u001b[1;32m    452\u001b[0m \u001b[0;34m\u001b[0m\u001b[0m\n\u001b[1;32m    453\u001b[0m     \u001b[0;32mdef\u001b[0m \u001b[0mtransform\u001b[0m\u001b[0;34m(\u001b[0m\u001b[0mself\u001b[0m\u001b[0;34m,\u001b[0m \u001b[0mX\u001b[0m\u001b[0;34m)\u001b[0m\u001b[0;34m:\u001b[0m\u001b[0;34m\u001b[0m\u001b[0;34m\u001b[0m\u001b[0m\n",
      "\u001b[0;32m~/.pyenv/versions/shad_env/lib/python3.9/site-packages/sklearn/base.py\u001b[0m in \u001b[0;36mfit_transform\u001b[0;34m(self, X, y, **fit_params)\u001b[0m\n\u001b[1;32m    697\u001b[0m         \u001b[0;32mif\u001b[0m \u001b[0my\u001b[0m \u001b[0;32mis\u001b[0m \u001b[0;32mNone\u001b[0m\u001b[0;34m:\u001b[0m\u001b[0;34m\u001b[0m\u001b[0;34m\u001b[0m\u001b[0m\n\u001b[1;32m    698\u001b[0m             \u001b[0;31m# fit method of arity 1 (unsupervised transformation)\u001b[0m\u001b[0;34m\u001b[0m\u001b[0;34m\u001b[0m\u001b[0m\n\u001b[0;32m--> 699\u001b[0;31m             \u001b[0;32mreturn\u001b[0m \u001b[0mself\u001b[0m\u001b[0;34m.\u001b[0m\u001b[0mfit\u001b[0m\u001b[0;34m(\u001b[0m\u001b[0mX\u001b[0m\u001b[0;34m,\u001b[0m \u001b[0;34m**\u001b[0m\u001b[0mfit_params\u001b[0m\u001b[0;34m)\u001b[0m\u001b[0;34m.\u001b[0m\u001b[0mtransform\u001b[0m\u001b[0;34m(\u001b[0m\u001b[0mX\u001b[0m\u001b[0;34m)\u001b[0m\u001b[0;34m\u001b[0m\u001b[0;34m\u001b[0m\u001b[0m\n\u001b[0m\u001b[1;32m    700\u001b[0m         \u001b[0;32melse\u001b[0m\u001b[0;34m:\u001b[0m\u001b[0;34m\u001b[0m\u001b[0;34m\u001b[0m\u001b[0m\n\u001b[1;32m    701\u001b[0m             \u001b[0;31m# fit method of arity 2 (supervised transformation)\u001b[0m\u001b[0;34m\u001b[0m\u001b[0;34m\u001b[0m\u001b[0m\n",
      "\u001b[0;32m/var/folders/5w/gytwm8sd6vldh9ym3dvj_x_m0000gn/T/ipykernel_59279/3592564435.py\u001b[0m in \u001b[0;36mfit\u001b[0;34m(self, X)\u001b[0m\n\u001b[1;32m     11\u001b[0m \u001b[0;34m\u001b[0m\u001b[0m\n\u001b[1;32m     12\u001b[0m     \u001b[0;32mdef\u001b[0m \u001b[0mfit\u001b[0m\u001b[0;34m(\u001b[0m\u001b[0mself\u001b[0m\u001b[0;34m,\u001b[0m \u001b[0mX\u001b[0m\u001b[0;34m)\u001b[0m\u001b[0;34m:\u001b[0m\u001b[0;34m\u001b[0m\u001b[0;34m\u001b[0m\u001b[0m\n\u001b[0;32m---> 13\u001b[0;31m         \u001b[0mOneHotEncoder\u001b[0m\u001b[0;34m.\u001b[0m\u001b[0mfit\u001b[0m\u001b[0;34m(\u001b[0m\u001b[0mself\u001b[0m\u001b[0;34m,\u001b[0m \u001b[0mself\u001b[0m\u001b[0;34m.\u001b[0m\u001b[0mpreprocessing\u001b[0m\u001b[0;34m(\u001b[0m\u001b[0mX\u001b[0m\u001b[0;34m)\u001b[0m\u001b[0;34m)\u001b[0m\u001b[0;34m\u001b[0m\u001b[0;34m\u001b[0m\u001b[0m\n\u001b[0m\u001b[1;32m     14\u001b[0m         \u001b[0;32mreturn\u001b[0m \u001b[0mself\u001b[0m\u001b[0;34m\u001b[0m\u001b[0;34m\u001b[0m\u001b[0m\n\u001b[1;32m     15\u001b[0m \u001b[0;34m\u001b[0m\u001b[0m\n",
      "\u001b[0;32m~/.pyenv/versions/shad_env/lib/python3.9/site-packages/sklearn/preprocessing/_encoders.py\u001b[0m in \u001b[0;36mfit\u001b[0;34m(self, X, y)\u001b[0m\n\u001b[1;32m    421\u001b[0m         \"\"\"\n\u001b[1;32m    422\u001b[0m         \u001b[0mself\u001b[0m\u001b[0;34m.\u001b[0m\u001b[0m_validate_keywords\u001b[0m\u001b[0;34m(\u001b[0m\u001b[0;34m)\u001b[0m\u001b[0;34m\u001b[0m\u001b[0;34m\u001b[0m\u001b[0m\n\u001b[0;32m--> 423\u001b[0;31m         self._fit(X, handle_unknown=self.handle_unknown,\n\u001b[0m\u001b[1;32m    424\u001b[0m                   force_all_finite='allow-nan')\n\u001b[1;32m    425\u001b[0m         \u001b[0mself\u001b[0m\u001b[0;34m.\u001b[0m\u001b[0mdrop_idx_\u001b[0m \u001b[0;34m=\u001b[0m \u001b[0mself\u001b[0m\u001b[0;34m.\u001b[0m\u001b[0m_compute_drop_idx\u001b[0m\u001b[0;34m(\u001b[0m\u001b[0;34m)\u001b[0m\u001b[0;34m\u001b[0m\u001b[0;34m\u001b[0m\u001b[0m\n",
      "\u001b[0;32m~/.pyenv/versions/shad_env/lib/python3.9/site-packages/sklearn/preprocessing/_encoders.py\u001b[0m in \u001b[0;36m_fit\u001b[0;34m(self, X, handle_unknown, force_all_finite)\u001b[0m\n\u001b[1;32m     79\u001b[0m \u001b[0;34m\u001b[0m\u001b[0m\n\u001b[1;32m     80\u001b[0m         \u001b[0;32mif\u001b[0m \u001b[0mself\u001b[0m\u001b[0;34m.\u001b[0m\u001b[0mcategories\u001b[0m \u001b[0;34m!=\u001b[0m \u001b[0;34m'auto'\u001b[0m\u001b[0;34m:\u001b[0m\u001b[0;34m\u001b[0m\u001b[0;34m\u001b[0m\u001b[0m\n\u001b[0;32m---> 81\u001b[0;31m             \u001b[0;32mif\u001b[0m \u001b[0mlen\u001b[0m\u001b[0;34m(\u001b[0m\u001b[0mself\u001b[0m\u001b[0;34m.\u001b[0m\u001b[0mcategories\u001b[0m\u001b[0;34m)\u001b[0m \u001b[0;34m!=\u001b[0m \u001b[0mn_features\u001b[0m\u001b[0;34m:\u001b[0m\u001b[0;34m\u001b[0m\u001b[0;34m\u001b[0m\u001b[0m\n\u001b[0m\u001b[1;32m     82\u001b[0m                 raise ValueError(\"Shape mismatch: if categories is an array,\"\n\u001b[1;32m     83\u001b[0m                                  \" it has to be of shape (n_features,).\")\n",
      "\u001b[0;31mTypeError\u001b[0m: object of type 'PDEncoder' has no len()"
     ]
    }
   ],
   "source": [
    "encoder = PDEncoder(columns=['country'])\n",
    "\n",
    "X_train_ = encoder.fit_transform(X_train[['points', 'country']])\n",
    "X_test_ = encoder.transform(X_test[['points', 'country']])\n",
    "\n",
    "X_test_.head(3)"
   ]
  },
  {
   "cell_type": "markdown",
   "id": "3eebaf0e-d354-47eb-915d-8ae2ee04caf9",
   "metadata": {},
   "source": [
    "Выпишите формулы для многомерного случая, воспользовавшись матречным дифференцированием, \n",
    "\n",
    "а затем напишим, соответсвующий класс:"
   ]
  },
  {
   "cell_type": "code",
   "execution_count": 10,
   "id": "1a55cce7-d1c7-49b3-8147-e6a5259b7b8d",
   "metadata": {},
   "outputs": [],
   "source": [
    "class MLS ..."
   ]
  },
  {
   "cell_type": "code",
   "execution_count": 11,
   "id": "0119dbfd-6768-4bde-b3b8-3dfef8e5828b",
   "metadata": {},
   "outputs": [],
   "source": [
    "model = MLS().fit(X_train[['points']], Y_train)\n",
    "\n",
    "assert (model.W - np.array([model_2d.a, model_2d.b])).sum() < 10 ** -6"
   ]
  },
  {
   "cell_type": "code",
   "execution_count": 12,
   "id": "34e0c140-b3a1-4f91-b752-8393022ab0a3",
   "metadata": {},
   "outputs": [],
   "source": [
    "model = ..."
   ]
  },
  {
   "cell_type": "markdown",
   "id": "5ee64a2b-0725-497e-932b-c78df7a6e607",
   "metadata": {},
   "source": [
    "Вычислим среднию квадратическую ошибку:"
   ]
  },
  {
   "cell_type": "code",
   "execution_count": null,
   "id": "55b8ed7e-0b91-4795-90da-b6f3a75cdf12",
   "metadata": {},
   "outputs": [],
   "source": [
    "Y_pred = ...\n",
    "\n",
    "print(f'MSE: {MSE(Y_test, Y_pred)}')"
   ]
  },
  {
   "cell_type": "markdown",
   "id": "19f6d2ad-bb09-4656-819f-68213b7ddf4c",
   "metadata": {},
   "source": [
    "**Вопрос:** Удалось ли повысить качество предсказания?\n",
    "\n",
    "Построим модель без свободной переменной:"
   ]
  },
  {
   "cell_type": "code",
   "execution_count": null,
   "id": "3f79b570-1444-4e75-9dd3-8d60e2404eff",
   "metadata": {},
   "outputs": [],
   "source": []
  },
  {
   "cell_type": "markdown",
   "id": "cac44b78-4643-4b81-be26-e9c9da448b8d",
   "metadata": {},
   "source": [
    "Обучите [sklearn.linear_model.LinearRegression](https://scikit-learn.org/stable/modules/generated/sklearn.linear_model.LinearRegression.html) и убедитесь в том, что получили сравнимое значение `MSE`:"
   ]
  },
  {
   "cell_type": "code",
   "execution_count": 94,
   "id": "5f778da3-913c-47d4-b553-5c9524e97b4a",
   "metadata": {},
   "outputs": [],
   "source": [
    "from sklearn.linear_model import LinearRegression"
   ]
  },
  {
   "cell_type": "code",
   "execution_count": 96,
   "id": "01301940",
   "metadata": {},
   "outputs": [],
   "source": [
    "one = OneHotEncoder()"
   ]
  },
  {
   "cell_type": "code",
   "execution_count": 112,
   "id": "cd3b2d67",
   "metadata": {},
   "outputs": [],
   "source": [
    "X = one.fit_transform(X)"
   ]
  },
  {
   "cell_type": "code",
   "execution_count": 113,
   "id": "69bfb286",
   "metadata": {},
   "outputs": [],
   "source": [
    "X_train, X_test, Y_train, Y_test = X[split:], X[:split], Y[split:], Y[:split]"
   ]
  },
  {
   "cell_type": "code",
   "execution_count": 114,
   "id": "a1edd565",
   "metadata": {},
   "outputs": [],
   "source": [
    "reg = LinearRegression().fit(X_train, Y_train)"
   ]
  },
  {
   "cell_type": "code",
   "execution_count": 115,
   "id": "458d4a97",
   "metadata": {
    "scrolled": true
   },
   "outputs": [
    {
     "data": {
      "text/plain": [
       "array([ 9.30359094, 12.18192244, 28.51414043, ..., 29.51937137,\n",
       "       15.75716441, 67.99226847])"
      ]
     },
     "execution_count": 115,
     "metadata": {},
     "output_type": "execute_result"
    }
   ],
   "source": [
    "reg.predict(X_test)"
   ]
  },
  {
   "cell_type": "code",
   "execution_count": 102,
   "id": "0be46f40",
   "metadata": {},
   "outputs": [],
   "source": [
    "import sklearn.metrics as met"
   ]
  },
  {
   "cell_type": "code",
   "execution_count": 116,
   "id": "d3757a84",
   "metadata": {},
   "outputs": [
    {
     "data": {
      "text/plain": [
       "749.4026421314"
      ]
     },
     "execution_count": 116,
     "metadata": {},
     "output_type": "execute_result"
    }
   ],
   "source": [
    "met.mean_squared_error(reg.predict(X_test), Y_test)"
   ]
  },
  {
   "cell_type": "code",
   "execution_count": 122,
   "id": "fedbe156",
   "metadata": {},
   "outputs": [],
   "source": [
    "from sklearn.linear_model import Ridge"
   ]
  },
  {
   "cell_type": "code",
   "execution_count": 124,
   "id": "be327466",
   "metadata": {},
   "outputs": [],
   "source": [
    "ridge = Ridge().fit(X_train, Y_train)"
   ]
  },
  {
   "cell_type": "code",
   "execution_count": 125,
   "id": "10400b3f",
   "metadata": {},
   "outputs": [
    {
     "data": {
      "text/plain": [
       "749.6798294945245"
      ]
     },
     "execution_count": 125,
     "metadata": {},
     "output_type": "execute_result"
    }
   ],
   "source": [
    "met.mean_squared_error(ridge.predict(X_test), Y_test)"
   ]
  },
  {
   "cell_type": "markdown",
   "id": "821ec45d-ae7f-4ef9-bc1d-850277a036d3",
   "metadata": {},
   "source": [
    "**Вопрос:** Удалось ли теперь повысить качество предсказания? В чём была проблема?"
   ]
  },
  {
   "cell_type": "markdown",
   "id": "6612a3ae-7199-4359-8c39-cdaca74c9c0f",
   "metadata": {},
   "source": [
    "Расширим ещё признаковое описание, добавив сорт винограда:"
   ]
  },
  {
   "cell_type": "code",
   "execution_count": 18,
   "id": "428c632d-4598-462b-b5b6-3e426ae2b853",
   "metadata": {},
   "outputs": [
    {
     "name": "stdout",
     "output_type": "stream",
     "text": [
      "MSE: 58315.964960996505\n",
      "Condition number: -9.482188024869054e+22\n"
     ]
    }
   ],
   "source": []
  },
  {
   "cell_type": "markdown",
   "id": "49d43fe2-242a-4840-a550-1b5827fc93e5",
   "metadata": {},
   "source": [
    "**Вопрос**: Удалось ли теперь повысить качество предсказания? В чём может быть проблема?"
   ]
  },
  {
   "cell_type": "markdown",
   "id": "a33a0113-987a-40ce-9e0e-147439585796",
   "metadata": {},
   "source": [
    "## Ридж-регрессия"
   ]
  },
  {
   "cell_type": "markdown",
   "id": "f7c94a58-3d6d-4d85-bcbc-06c9fba0b162",
   "metadata": {},
   "source": [
    "Напишим класс:"
   ]
  },
  {
   "cell_type": "code",
   "execution_count": 19,
   "id": "091b38f0-3cc6-46e9-8935-352d5310d0b0",
   "metadata": {},
   "outputs": [],
   "source": [
    "class RR ...\n",
    "    ..."
   ]
  },
  {
   "cell_type": "code",
   "execution_count": null,
   "id": "c395ee11-f0fd-40fd-9437-c0f13df25230",
   "metadata": {},
   "outputs": [],
   "source": [
    "model = ...\n",
    "Y_pred = ...\n",
    "\n",
    "print(f'MSE: {MSE(Y_test, Y_pred)}')"
   ]
  },
  {
   "cell_type": "markdown",
   "id": "bb7d57b6-ad17-43e3-aab0-ae14c3169ef4",
   "metadata": {},
   "source": [
    "Расширим ещё признаковое описание, добавив винодельню:"
   ]
  },
  {
   "cell_type": "code",
   "execution_count": null,
   "id": "0916b9b7-00dd-4451-9d86-ae8b87cc7c2f",
   "metadata": {},
   "outputs": [],
   "source": []
  },
  {
   "cell_type": "markdown",
   "id": "7379d108-8581-4036-a28c-4b6559768312",
   "metadata": {},
   "source": [
    "## SGD"
   ]
  },
  {
   "cell_type": "markdown",
   "id": "5f833f0f-745c-4ce1-ae2b-9b7db977c59b",
   "metadata": {},
   "source": [
    "Обучите [sklearn.linear_model.SGDRegressor](https://scikit-learn.org/stable/modules/generated/sklearn.linear_model.SGDRegressor.html) предсказывать значение цены по оценке с качеством не хуже, чем у `MLS`. \n",
    "\n",
    "Для этого вам нужно проделать ряд эксперементов и подобрать наилучшую стратегию обучения, используя [sklearn.model_selection.GridSearchCV](https://scikit-learn.org/stable/modules/generated/sklearn.model_selection.GridSearchCV.html).\n",
    "\n",
    "Визуализируйте ваши эксперементы."
   ]
  },
  {
   "cell_type": "code",
   "execution_count": null,
   "id": "e9fad854-11bc-4481-b35d-243ce33b7866",
   "metadata": {},
   "outputs": [],
   "source": []
  },
  {
   "cell_type": "markdown",
   "id": "73e756e9-42c9-44e7-a110-243b0eebd493",
   "metadata": {},
   "source": [
    "Обучите `SGD`, используя весь объём данных и постарайтесь выйграть в скоросте и качестве у `RR`"
   ]
  },
  {
   "cell_type": "code",
   "execution_count": null,
   "id": "1df872dc-5f3b-4626-b683-61fb29dba952",
   "metadata": {},
   "outputs": [],
   "source": []
  }
 ],
 "metadata": {
  "kernelspec": {
   "display_name": "PyCharm (DimaKoshman)",
   "language": "python",
   "name": "pycharm-39683df4"
  },
  "language_info": {
   "codemirror_mode": {
    "name": "ipython",
    "version": 3
   },
   "file_extension": ".py",
   "mimetype": "text/x-python",
   "name": "python",
   "nbconvert_exporter": "python",
   "pygments_lexer": "ipython3",
   "version": "3.9.7"
  }
 },
 "nbformat": 4,
 "nbformat_minor": 5
}
