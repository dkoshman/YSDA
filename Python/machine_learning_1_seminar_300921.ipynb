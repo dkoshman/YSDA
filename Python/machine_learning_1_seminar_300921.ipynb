{
 "cells": [
  {
   "cell_type": "markdown",
   "id": "03fd6b4d-af24-4269-acaf-d94f14c19d30",
   "metadata": {},
   "source": [
    "# Занятие 4. Введение в Машинное обучение\n",
    "\n",
    "**Цель данного занятия** заключается в том, что бы научить вас работать с табличными данными с использованием модуля [pandas](https://pandas.pydata.org/), а также делать агрегаты и визуализировать их, что бы вы могли лучше понять природу тех данных, с которыми работаете.\n",
    "\n",
    "## Чтение таблицы\n",
    "\n",
    "Далее **загрузим таблицу** `Netflix.csv`, которая содержит информацию о статьях, опубликованных в различных изданиях. \n",
    "\n",
    "Для загрузки данных из csv-таблиц используется метод [pandas.read_csv](https://pandas.pydata.org/pandas-docs/stable/reference/api/pandas.read_csv.html)"
   ]
  },
  {
   "cell_type": "code",
   "execution_count": 1,
   "id": "fcf01219-8d75-40e9-af6c-a86ef45ef54f",
   "metadata": {},
   "outputs": [
    {
     "ename": "ModuleNotFoundError",
     "evalue": "No module named 'pandas'",
     "output_type": "error",
     "traceback": [
      "\u001b[0;31m---------------------------------------------------------------------------\u001b[0m",
      "\u001b[0;31mModuleNotFoundError\u001b[0m                       Traceback (most recent call last)",
      "\u001b[0;32m/var/folders/5w/gytwm8sd6vldh9ym3dvj_x_m0000gn/T/ipykernel_28495/2162656668.py\u001b[0m in \u001b[0;36m<module>\u001b[0;34m\u001b[0m\n\u001b[0;32m----> 1\u001b[0;31m \u001b[0;32mimport\u001b[0m \u001b[0mpandas\u001b[0m \u001b[0;32mas\u001b[0m \u001b[0mpd\u001b[0m\u001b[0;34m\u001b[0m\u001b[0;34m\u001b[0m\u001b[0m\n\u001b[0m\u001b[1;32m      2\u001b[0m \u001b[0;32mimport\u001b[0m \u001b[0mnumpy\u001b[0m \u001b[0;32mas\u001b[0m \u001b[0mnp\u001b[0m\u001b[0;34m\u001b[0m\u001b[0;34m\u001b[0m\u001b[0m\n",
      "\u001b[0;31mModuleNotFoundError\u001b[0m: No module named 'pandas'"
     ]
    }
   ],
   "source": [
    "import pandas as pd\n",
    "import numpy as np"
   ]
  },
  {
   "cell_type": "markdown",
   "id": "f66e97ea-2304-47af-ae1f-64ef836ee1fb",
   "metadata": {},
   "source": [
    "Для того, что бы посмотреть на первые несколько строк таблицы, с которой вы начинаете работать, воспользуйтесь методом [pandas.DataFrame.head](https://pandas.pydata.org/pandas-docs/stable/reference/api/pandas.DataFrame.head.html)"
   ]
  },
  {
   "cell_type": "code",
   "execution_count": null,
   "id": "c0f46c12-3709-4b47-81c8-9fabf66ef899",
   "metadata": {},
   "outputs": [],
   "source": []
  },
  {
   "cell_type": "markdown",
   "id": "97b9352a-fd9d-41d5-ac37-6db1a169d9a5",
   "metadata": {},
   "source": [
    "Данная таблица содержит следующие колонки:\n",
    "    \n",
    "    show_id : идентификатор для каждого фильма/ шоу\n",
    "    \n",
    "    type : Movie или TV Show\n",
    "    \n",
    "    title : заголовок \n",
    "    \n",
    "    director : имя режиссёра\n",
    "    \n",
    "    cast : задействованные актёры\n",
    "    \n",
    "    country : страна где фильм/ шоу продюссировалось\n",
    "    \n",
    "    date_added : дата добавления на Netflix\n",
    "    \n",
    "    release_year : год релиза фильма/ шоу\n",
    "    \n",
    "    rating : телевизионный рейтинг\n",
    "    \n",
    "    duration : продолжительность в минутах или в числе сезонов\n",
    "    \n",
    "    listed_in : набор тэгов \n",
    "    \n",
    "    description : описание"
   ]
  },
  {
   "cell_type": "markdown",
   "id": "623f984e-ac89-46db-ba5c-80c7348181a6",
   "metadata": {},
   "source": [
    "Видим, что в таблицы содержится идентификатор для каждого фильма/ шоу. Далее будем использовать его в качестве индекса таблицы.\n",
    "\n",
    "Для этого можно воспользоваться методом [pandas.DataFrame.set_index](https://pandas.pydata.org/docs/reference/api/pandas.DataFrame.set_index.html), если таблица уже прочитана."
   ]
  },
  {
   "cell_type": "code",
   "execution_count": 3,
   "id": "b6d48a89-3589-458b-8d15-15b2cd0cd7db",
   "metadata": {},
   "outputs": [],
   "source": []
  },
  {
   "cell_type": "markdown",
   "id": "eb9e1810-c1a4-4ad7-b2b9-3cbaff8dd3f4",
   "metadata": {},
   "source": [
    "**Вопрос**: Для чего мы сменили значение аргумента `inplace` на `True` (по умолчанию `False`)?"
   ]
  },
  {
   "cell_type": "markdown",
   "id": "d51e94fa-4a20-4ec5-86dd-036f2a8a16c4",
   "metadata": {},
   "source": [
    "Также мы можем указать, какую колонку хотим использовать в качестве индекса в момент прочтения таблицы, передав индекс нужной колонки в качестве аргумента `index_col`."
   ]
  },
  {
   "cell_type": "code",
   "execution_count": null,
   "id": "72d3e832-55d6-46c3-9522-1447f1511442",
   "metadata": {},
   "outputs": [],
   "source": []
  },
  {
   "cell_type": "markdown",
   "id": "fdb50aab-0bba-4bc6-9574-255d92575a27",
   "metadata": {},
   "source": [
    "## Работа с пропусками\n",
    "\n",
    "Теперь с помощью метода [pandas.DataFrame.isna](https://pandas.pydata.org/pandas-docs/stable/reference/api/pandas.DataFrame.isna.html) посмотрим, в каких столбцах есть пропущенные значения, \n",
    "\n",
    "а также посчитаем их количество с помощью метода [pandas.Series.sum](https://pandas.pydata.org/pandas-docs/stable/reference/api/pandas.Series.sum.html?highlight=sum#pandas.Series.sum)."
   ]
  },
  {
   "cell_type": "code",
   "execution_count": null,
   "id": "cc2e5b03-1e11-4159-82ae-41a1d9df5b7b",
   "metadata": {},
   "outputs": [],
   "source": []
  },
  {
   "cell_type": "markdown",
   "id": "2d5da657-9789-4ba2-9821-2fea00d182f1",
   "metadata": {},
   "source": [
    "### Столбцы `duration` и `rating`\n",
    "\n",
    "Выведем на экран все строчки, в которых пропущены значение в стобце `duration` или `rating`, используя методы [pandas.DataFrame.isna](https://pandas.pydata.org/pandas-docs/stable/reference/api/pandas.DataFrame.isna.html) и [pandas.DataFrame.any](https://pandas.pydata.org/pandas-docs/stable/reference/api/pandas.DataFrame.any.html?highlight=any#pandas.DataFrame.any)"
   ]
  },
  {
   "cell_type": "code",
   "execution_count": null,
   "id": "d464746f-3493-427f-87cc-4a288ce19458",
   "metadata": {},
   "outputs": [],
   "source": []
  },
  {
   "cell_type": "markdown",
   "id": "ed90cc0f-75be-48c4-9f03-1a1e5b2f09ce",
   "metadata": {},
   "source": [
    "Видим, что в первых трёх строчках перепутаны местами `duration` и `rating`. Получается, что во всех данных случаях пропущен именно рейтинг.\n",
    "\n",
    "Сначала востановим правильный порядок значений в первых трёх строчках, используя [pandas.DataFrame.loc](https://pandas.pydata.org/pandas-docs/stable/reference/api/pandas.DataFrame.loc.html?highlight=loc#pandas.DataFrame.loc)"
   ]
  },
  {
   "cell_type": "code",
   "execution_count": null,
   "id": "72a42f91-a7bf-4e0c-9bb2-2acc19bb9d79",
   "metadata": {},
   "outputs": [],
   "source": []
  },
  {
   "cell_type": "markdown",
   "id": "ef8218e4-cb97-4387-9886-c8b3d19f3507",
   "metadata": {},
   "source": [
    "**Вопрос**: Что будем делать с данными пропусками? Почему?"
   ]
  },
  {
   "cell_type": "markdown",
   "id": "310d91bd-2ded-435d-a357-8d199a5fc221",
   "metadata": {},
   "source": [
    "Удалим данные строчки используя [pandas.DataFrame.notna](https://pandas.pydata.org/pandas-docs/stable/reference/api/pandas.DataFrame.notna.html#pandas.DataFrame.notna)"
   ]
  },
  {
   "cell_type": "code",
   "execution_count": null,
   "id": "3a62d3da-c5ef-4ef9-ac11-6c249dd001ce",
   "metadata": {},
   "outputs": [],
   "source": []
  },
  {
   "cell_type": "markdown",
   "id": "e8dfd4ca-56e8-4786-aaf3-3c2dd0bb77e2",
   "metadata": {},
   "source": [
    "### Столбец `date_added`\n",
    "\n",
    "Выведем на экран все строчки, в которых пропущены значение в стобце `date_added`, используя метод [pandas.Series.isna](https://pandas.pydata.org/pandas-docs/stable/reference/api/pandas.Series.isna.html?highlight=isna#pandas.Series.isna)"
   ]
  },
  {
   "cell_type": "code",
   "execution_count": null,
   "id": "1485f54d-cd2b-4435-82a7-09f07d25344f",
   "metadata": {},
   "outputs": [],
   "source": []
  },
  {
   "cell_type": "markdown",
   "id": "0dc2fefe-6243-4e15-873b-2ece7887d023",
   "metadata": {},
   "source": [
    "Мы можем также удалить данные записи, так как эта группа не является многочисленной. \n",
    "\n",
    "Но только посмотрите, здесь же сериал **Friends** ;-) Давайте придумаем, что-то ещё!\n",
    "\n",
    "**Вопрос**: Как можно востановить данные пропуски?"
   ]
  },
  {
   "cell_type": "markdown",
   "id": "f2bcea2e-6784-45d4-b618-bf3f5daafa60",
   "metadata": {},
   "source": [
    "Давайте считать, что на Netflix данные сериалы были добавлены 31 декабря в год релиза, и \n",
    "\n",
    "сделаем соответсвующее заполнение воспользовавщись приёмами, рассмотренными ранее, а также [pandas.Series.apply](https://pandas.pydata.org/pandas-docs/stable/reference/api/pandas.Series.apply.html?highlight=apply#pandas.Series.apply)"
   ]
  },
  {
   "cell_type": "code",
   "execution_count": null,
   "id": "a42ac281-45fc-41a2-a98a-6467edfb2840",
   "metadata": {},
   "outputs": [],
   "source": []
  },
  {
   "cell_type": "markdown",
   "id": "3c59f691-9a07-476f-bed0-cc9eb2e9f20a",
   "metadata": {},
   "source": [
    "### Столбец `country`"
   ]
  },
  {
   "cell_type": "markdown",
   "id": "d9bede0b-ac5d-45da-b51c-43468602aede",
   "metadata": {},
   "source": [
    "Пропуске в данном столбце содердатся уже в 10% данных, которые бы не хотелось терять. \n",
    "\n",
    "**Вопрос**: Может ли странна зависить от других данных в таблицы и от каких?"
   ]
  },
  {
   "cell_type": "markdown",
   "id": "4731cac8-df89-4d9b-815b-026e1d0b6ebf",
   "metadata": {},
   "source": [
    "Проверим **гипотезу**, что страну можно востановить по режесёру. \n",
    "\n",
    "Для этого по всей таблицы сформируем словарь `director`:`country`"
   ]
  },
  {
   "cell_type": "code",
   "execution_count": null,
   "id": "e68b289e-22cb-4236-abb3-5a6a6133a989",
   "metadata": {},
   "outputs": [],
   "source": []
  },
  {
   "cell_type": "markdown",
   "id": "b27f79fa-ef12-4d32-9813-639770e011cf",
   "metadata": {},
   "source": [
    "Сколько процентов пропусков удалось востановить?\n",
    "\n",
    "Заменим оставшиеся пропуски на наиболее популярную странну, используя метод [pandas.Series.fillna](https://pandas.pydata.org/pandas-docs/stable/reference/api/pandas.Series.fillna.html?highlight=fillna#pandas.Series.fillna)"
   ]
  },
  {
   "cell_type": "code",
   "execution_count": null,
   "id": "be3fb7f9-08d6-4f34-bf5b-80383493082e",
   "metadata": {},
   "outputs": [],
   "source": []
  },
  {
   "cell_type": "markdown",
   "id": "2b1e584f-9b22-4641-9fa1-c2e877aef694",
   "metadata": {},
   "source": [
    "### Столбец `director`\n",
    "\n",
    "Попробуем обучить [KNN](https://scikit-learn.org/stable/modules/generated/sklearn.neighbors.KNeighborsClassifier.html) предсказывать режесёра для востановления пропущенных значений. \n",
    "\n",
    "    1. Выделим все строки, для которых извесны режесёры\n",
    "       Вопрос: Для чего мы их будем использовать для обучения, теста или того и другого?"
   ]
  },
  {
   "cell_type": "code",
   "execution_count": null,
   "id": "f138bfec-01d9-4117-8842-3c5c24dbe1f2",
   "metadata": {},
   "outputs": [],
   "source": []
  },
  {
   "cell_type": "markdown",
   "id": "7c7dc6bc-4cd1-4c88-8718-6035c6a3a6b3",
   "metadata": {},
   "source": [
    "    2. Определимся с тем какая задача перед нами стоит: бинарная, многоклассовая или многозначная классификация?"
   ]
  },
  {
   "cell_type": "code",
   "execution_count": null,
   "id": "78130951-5257-4646-be6d-2d150e59e6a3",
   "metadata": {},
   "outputs": [],
   "source": []
  },
  {
   "cell_type": "markdown",
   "id": "575fad84-f228-4535-8711-de5561f527a4",
   "metadata": {},
   "source": [
    "    3. Определимся с тем, какие признаки будем использовать для обучения, а также с их корректным представлением"
   ]
  },
  {
   "cell_type": "code",
   "execution_count": null,
   "id": "202b8beb-9c34-4d5b-bd1c-f8e2b89a9309",
   "metadata": {},
   "outputs": [],
   "source": []
  },
  {
   "cell_type": "markdown",
   "id": "fe583234-9925-42fb-ae64-aa88ebbb1c8f",
   "metadata": {},
   "source": [
    "Для кодирования даты релиза и рейтинга воспользуемся [sklearn.preprocessing.LabelBinarizer](https://scikit-learn.org/stable/modules/generated/sklearn.preprocessing.LabelBinarizer.html).\n",
    "\n",
    "Столбцы со страной и тэгами бинаризуем с помощью [sklearn.preprocessing.MultiLabelBinarizer](https://scikit-learn.org/stable/modules/generated/sklearn.preprocessing.MultiLabelBinarizer.html), для этого сначала разобъём их по разделителю."
   ]
  },
  {
   "cell_type": "code",
   "execution_count": null,
   "id": "6f5cc57f-6f4f-434e-8f42-b0dae2641582",
   "metadata": {},
   "outputs": [],
   "source": []
  },
  {
   "cell_type": "markdown",
   "id": "aa78baa0-bcef-44a2-a071-9a398d56e9a2",
   "metadata": {},
   "source": [
    "    4. Разобьём выборку на train и test"
   ]
  },
  {
   "cell_type": "code",
   "execution_count": null,
   "id": "80ec9c11-601f-4e2c-9d41-ae8b9af6cbf0",
   "metadata": {},
   "outputs": [],
   "source": []
  },
  {
   "cell_type": "markdown",
   "id": "044e3ff6-6a30-4ebe-b1f2-686a6bf68780",
   "metadata": {},
   "source": [
    "    5. Обучаем модель на train"
   ]
  },
  {
   "cell_type": "code",
   "execution_count": null,
   "id": "65dcaa1e-3412-4f7f-ac06-13ba178eda20",
   "metadata": {},
   "outputs": [],
   "source": []
  },
  {
   "cell_type": "markdown",
   "id": "5aeacb02-a1b3-49c8-b225-d764c53d1b3a",
   "metadata": {},
   "source": [
    "    6. Оцениваем качество на test"
   ]
  },
  {
   "cell_type": "code",
   "execution_count": null,
   "id": "6cfeeaac-c4bb-459d-88a5-d6b107f68374",
   "metadata": {},
   "outputs": [],
   "source": []
  }
 ],
 "metadata": {
  "kernelspec": {
   "display_name": "PyCharm (DimaKoshman)",
   "language": "python",
   "name": "pycharm-39683df4"
  },
  "language_info": {
   "codemirror_mode": {
    "name": "ipython",
    "version": 3
   },
   "file_extension": ".py",
   "mimetype": "text/x-python",
   "name": "python",
   "nbconvert_exporter": "python",
   "pygments_lexer": "ipython3",
   "version": "3.9.7"
  }
 },
 "nbformat": 4,
 "nbformat_minor": 5
}
