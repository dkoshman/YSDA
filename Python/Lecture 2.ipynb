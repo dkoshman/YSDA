{
 "cells": [
  {
   "cell_type": "code",
   "execution_count": 5,
   "id": "fb6c1ccc",
   "metadata": {},
   "outputs": [
    {
     "data": {
      "text/plain": [
       "True"
      ]
     },
     "execution_count": 5,
     "metadata": {},
     "output_type": "execute_result"
    }
   ],
   "source": [
    "# immutable types get copied\n",
    "a = 2\n",
    "b = a\n",
    "id(a) == id(b) # id is the reference to address"
   ]
  },
  {
   "cell_type": "code",
   "execution_count": 8,
   "id": "9a878b8c",
   "metadata": {},
   "outputs": [
    {
     "data": {
      "text/plain": [
       "([1, 2], [1, 2], [1, 2, 3], True)"
      ]
     },
     "execution_count": 8,
     "metadata": {},
     "output_type": "execute_result"
    }
   ],
   "source": [
    "# mutable types \n",
    "a = [1]\n",
    "b = c = a\n",
    "b += [2]\n",
    "c = c + [3]\n",
    "a, b, c, id(a) == id(b) != id(c)"
   ]
  },
  {
   "cell_type": "code",
   "execution_count": 12,
   "id": "994299aa",
   "metadata": {},
   "outputs": [
    {
     "data": {
      "text/plain": [
       "(4336256080, 4336256080, 4371747056)"
      ]
     },
     "execution_count": 12,
     "metadata": {},
     "output_type": "execute_result"
    }
   ],
   "source": [
    "# everything is an object with address\n",
    "id(type(1)), id(int), id(id(id))"
   ]
  },
  {
   "cell_type": "code",
   "execution_count": 53,
   "id": "b8bb0d1e",
   "metadata": {},
   "outputs": [],
   "source": [
    "import sys"
   ]
  },
  {
   "cell_type": "code",
   "execution_count": 55,
   "id": "3f2ee370",
   "metadata": {},
   "outputs": [
    {
     "data": {
      "text/plain": [
       "28"
      ]
     },
     "execution_count": 55,
     "metadata": {},
     "output_type": "execute_result"
    }
   ],
   "source": [
    "sys.getsizeof(1) # 28 bytes - 8 bytes for refcounts, 8 bytes for address, rest for value"
   ]
  },
  {
   "cell_type": "code",
   "execution_count": 61,
   "id": "9d5449b5",
   "metadata": {},
   "outputs": [
    {
     "name": "stdout",
     "output_type": "stream",
     "text": [
      "28,32,36,36,40,"
     ]
    }
   ],
   "source": [
    "for i in range(5):\n",
    "    print(sys.getsizeof(1 << (28 + i * 16)), end = \",\")"
   ]
  },
  {
   "cell_type": "code",
   "execution_count": 62,
   "id": "74a5c42e",
   "metadata": {},
   "outputs": [],
   "source": [
    "import ctypes, struct"
   ]
  },
  {
   "cell_type": "code",
   "execution_count": 115,
   "id": "4a1c4138",
   "metadata": {},
   "outputs": [
    {
     "data": {
      "text/plain": [
       "(3121, 4336256080, 1, 1)"
      ]
     },
     "execution_count": 115,
     "metadata": {},
     "output_type": "execute_result"
    }
   ],
   "source": [
    "f = (1 << 340)\n",
    "struct.unpack(\"LLli\", ctypes.string_at(id(a), sys.getsizeof(a)))"
   ]
  },
  {
   "cell_type": "code",
   "execution_count": 88,
   "id": "d4e85447",
   "metadata": {},
   "outputs": [
    {
     "data": {
      "text/plain": [
       "6"
      ]
     },
     "execution_count": 88,
     "metadata": {},
     "output_type": "execute_result"
    }
   ],
   "source": [
    "sys.getrefcount(f)"
   ]
  },
  {
   "cell_type": "code",
   "execution_count": 96,
   "id": "001b5a61",
   "metadata": {},
   "outputs": [
    {
     "data": {
      "text/plain": [
       "(3, [[...]])"
      ]
     },
     "execution_count": 96,
     "metadata": {},
     "output_type": "execute_result"
    }
   ],
   "source": [
    "(lst := []).append(lst)\n",
    "sys.getrefcount(lst), lst"
   ]
  },
  {
   "cell_type": "code",
   "execution_count": 116,
   "id": "79f758d3",
   "metadata": {},
   "outputs": [
    {
     "data": {
      "text/plain": [
       "(4297, 4336193336, 1, 1)"
      ]
     },
     "execution_count": 116,
     "metadata": {},
     "output_type": "execute_result"
    }
   ],
   "source": [
    "struct.unpack(\"LLli\", ctypes.string_at(id(True), sys.getsizeof(True))) # big refcount because of module initializations"
   ]
  },
  {
   "cell_type": "code",
   "execution_count": 122,
   "id": "5847e87e",
   "metadata": {},
   "outputs": [
    {
     "data": {
      "text/plain": [
       "(True, True)"
      ]
     },
     "execution_count": 122,
     "metadata": {},
     "output_type": "execute_result"
    }
   ],
   "source": [
    "a_float = 0.0\n",
    "b_float = 0.0\n",
    "a_int = 0\n",
    "b_int = 0\n",
    "id(a_int) == id(b_int), id(a_float) != id(b_float) # no optimizations for float"
   ]
  },
  {
   "cell_type": "code",
   "execution_count": 125,
   "id": "ac653ab0",
   "metadata": {},
   "outputs": [
    {
     "data": {
      "text/plain": [
       "True"
      ]
     },
     "execution_count": 125,
     "metadata": {},
     "output_type": "execute_result"
    }
   ],
   "source": [
    "float('9'*16) == 10**16 # loss of precision"
   ]
  },
  {
   "cell_type": "code",
   "execution_count": 128,
   "id": "529e49dd",
   "metadata": {},
   "outputs": [
    {
     "data": {
      "text/plain": [
       "(False, True)"
      ]
     },
     "execution_count": 128,
     "metadata": {},
     "output_type": "execute_result"
    }
   ],
   "source": [
    "float(\"nan\") == float(\"nan\"), float(\"inf\") == float(\"inf\") > 10**10"
   ]
  },
  {
   "cell_type": "code",
   "execution_count": 133,
   "id": "b925b9af",
   "metadata": {},
   "outputs": [
    {
     "data": {
      "text/plain": [
       "(28, 28, 24, 32, 24)"
      ]
     },
     "execution_count": 133,
     "metadata": {},
     "output_type": "execute_result"
    }
   ],
   "source": [
    "# float always of size 24\n",
    "sys.getsizeof(True), sys.getsizeof(1), sys.getsizeof(1.0), sys.getsizeof(10**10), sys.getsizeof(1.0 * 10**10)"
   ]
  },
  {
   "cell_type": "code",
   "execution_count": 135,
   "id": "d19c36a1",
   "metadata": {},
   "outputs": [
    {
     "data": {
      "text/plain": [
       "1.7976931348623157e+308"
      ]
     },
     "execution_count": 135,
     "metadata": {},
     "output_type": "execute_result"
    }
   ],
   "source": [
    "sys.float_info.max"
   ]
  },
  {
   "cell_type": "code",
   "execution_count": 140,
   "id": "8861fb9f",
   "metadata": {},
   "outputs": [
    {
     "name": "stdout",
     "output_type": "stream",
     "text": [
      "Object `sys.intern # speed up look ups of certain strings` not found.\n"
     ]
    }
   ],
   "source": [
    "?sys.intern # speed up look ups of certain strings"
   ]
  },
  {
   "cell_type": "code",
   "execution_count": 142,
   "id": "99f8a10a",
   "metadata": {},
   "outputs": [],
   "source": [
    "?hash"
   ]
  },
  {
   "cell_type": "code",
   "execution_count": 163,
   "id": "1683355d",
   "metadata": {},
   "outputs": [
    {
     "data": {
      "text/plain": [
       "True"
      ]
     },
     "execution_count": 163,
     "metadata": {},
     "output_type": "execute_result"
    }
   ],
   "source": [
    "hash(-1) == hash(-2) == -2 # hash collision"
   ]
  },
  {
   "cell_type": "code",
   "execution_count": 174,
   "id": "e905dfea",
   "metadata": {},
   "outputs": [
    {
     "data": {
      "text/plain": [
       "True"
      ]
     },
     "execution_count": 174,
     "metadata": {},
     "output_type": "execute_result"
    }
   ],
   "source": [
    "a = b = c = [1]\n",
    "b += [2] # changes the object which b(and a and c) refers to\n",
    "c = c + [2] # creates new object\n",
    "id(a) == id(b) != id(c)"
   ]
  },
  {
   "cell_type": "code",
   "execution_count": 178,
   "id": "c5289926",
   "metadata": {},
   "outputs": [
    {
     "data": {
      "text/plain": [
       "([1, 2, 3, 3, 4, 3, 4], [1, 2, 3, 3, 4, 3, 4])"
      ]
     },
     "execution_count": 178,
     "metadata": {},
     "output_type": "execute_result"
    }
   ],
   "source": [
    "# methods ususally mutate the object\n",
    "a.append(3)\n",
    "a.extend([4])\n",
    "a, b"
   ]
  },
  {
   "cell_type": "code",
   "execution_count": 182,
   "id": "666761f3",
   "metadata": {},
   "outputs": [
    {
     "name": "stdout",
     "output_type": "stream",
     "text": [
      "1 [1, 2, 3, 3, 4, 3, 4]\n",
      "2 [1, 2, 3, 3, 4, 3, 4]\n",
      "3 [1, 2, 2]\n"
     ]
    }
   ],
   "source": [
    "for k,v in zip([1, 2, 3], (a, b, c)):\n",
    "    print(k, v)"
   ]
  },
  {
   "cell_type": "code",
   "execution_count": 187,
   "id": "bc806843",
   "metadata": {},
   "outputs": [
    {
     "data": {
      "text/plain": [
       "[2, 3, 2, 3]"
      ]
     },
     "execution_count": 187,
     "metadata": {},
     "output_type": "execute_result"
    }
   ],
   "source": [
    "a = [1, 2, 3]\n",
    "a[:1] = a[1:]\n",
    "a"
   ]
  },
  {
   "cell_type": "code",
   "execution_count": 189,
   "id": "0445fa89",
   "metadata": {},
   "outputs": [
    {
     "data": {
      "text/plain": [
       "2"
      ]
     },
     "execution_count": 189,
     "metadata": {},
     "output_type": "execute_result"
    }
   ],
   "source": [
    "a.pop(-1) # pop last element"
   ]
  },
  {
   "cell_type": "code",
   "execution_count": 194,
   "id": "fd29dcde",
   "metadata": {},
   "outputs": [
    {
     "name": "stdout",
     "output_type": "stream",
     "text": [
      "['False', 'None', 'True', '__peg_parser__', 'and', 'as', 'assert', 'async', 'await', 'break', 'class', 'continue', 'def', 'del', 'elif', 'else', 'except', 'finally', 'for', 'from', 'global', 'if', 'import', 'in', 'is', 'lambda', 'nonlocal', 'not', 'or', 'pass', 'raise', 'return', 'try', 'while', 'with', 'yield']\n"
     ]
    }
   ],
   "source": [
    "import keyword\n",
    "print(keyword.kwlist)"
   ]
  },
  {
   "cell_type": "code",
   "execution_count": 215,
   "id": "24d15dba",
   "metadata": {},
   "outputs": [
    {
     "data": {
      "text/plain": [
       "True"
      ]
     },
     "execution_count": 215,
     "metadata": {},
     "output_type": "execute_result"
    }
   ],
   "source": [
    "c = ([1],)\n",
    "d = c\n",
    "c[0].extend([2])\n",
    "c == d # tuple of mutable objects - address to list doesnt change, but values in the list do"
   ]
  },
  {
   "cell_type": "code",
   "execution_count": 216,
   "id": "4637ddbe",
   "metadata": {},
   "outputs": [],
   "source": [
    "# If data doesnt change often, tuples work faster than lists"
   ]
  },
  {
   "cell_type": "code",
   "execution_count": 241,
   "id": "eb217129",
   "metadata": {},
   "outputs": [],
   "source": [
    "from collections import deque # double ended queue\n",
    "mil = 10**5\n",
    "q = deque(range(mil))"
   ]
  },
  {
   "cell_type": "code",
   "execution_count": 242,
   "id": "f65fdb1e",
   "metadata": {},
   "outputs": [
    {
     "name": "stdout",
     "output_type": "stream",
     "text": [
      "51.3 ms ± 127 µs per loop (mean ± std. dev. of 7 runs, 10 loops each)\n"
     ]
    }
   ],
   "source": [
    "%timeit [q[i] for i in range(mil)]"
   ]
  },
  {
   "cell_type": "code",
   "execution_count": 244,
   "id": "76e50369",
   "metadata": {},
   "outputs": [
    {
     "name": "stdout",
     "output_type": "stream",
     "text": [
      "3.1 ms ± 42.2 µs per loop (mean ± std. dev. of 7 runs, 100 loops each)\n"
     ]
    }
   ],
   "source": [
    "lst = list(range(mil))\n",
    "%timeit [lst[i] for i in range(mil)]"
   ]
  },
  {
   "cell_type": "code",
   "execution_count": 1,
   "id": "e5e204c2",
   "metadata": {},
   "outputs": [
    {
     "data": {
      "text/plain": [
       "Counter({'k': 3, 'd': 5, 'f': 4, 'j': 5, 'b': 5, 'a': 2, 's': 4, 'h': 3})"
      ]
     },
     "execution_count": 1,
     "metadata": {},
     "output_type": "execute_result"
    }
   ],
   "source": [
    "from collections import Counter\n",
    "Counter(\"kdfjbasdjfbsjhdbfkjhsbdfkjhasbd\")"
   ]
  },
  {
   "cell_type": "code",
   "execution_count": 266,
   "id": "4982ae63",
   "metadata": {},
   "outputs": [
    {
     "data": {
      "text/plain": [
       "[-4, -3, -2, 0, 1, 2, -1, 3]"
      ]
     },
     "execution_count": 266,
     "metadata": {},
     "output_type": "execute_result"
    }
   ],
   "source": [
    "import heapq\n",
    "a = []\n",
    "for i in range(3, -5, -1):\n",
    "    heapq.heappush(a, i) # first element is always minimal if list was interacted with heapq operations\n",
    "a"
   ]
  },
  {
   "cell_type": "code",
   "execution_count": 267,
   "id": "05cdeb2f",
   "metadata": {},
   "outputs": [
    {
     "name": "stdout",
     "output_type": "stream",
     "text": [
      "-4,-3,-2,-1,0,1,2,3,"
     ]
    }
   ],
   "source": [
    "for i in range(len(a)):\n",
    "    print(heapq.heappop(a), end=',') # prints minimal"
   ]
  },
  {
   "cell_type": "code",
   "execution_count": 3,
   "id": "6ed8fa07",
   "metadata": {},
   "outputs": [],
   "source": [
    "c = Counter(\"abcdefbcd\")"
   ]
  },
  {
   "cell_type": "code",
   "execution_count": 16,
   "id": "3a1e89e2",
   "metadata": {},
   "outputs": [
    {
     "data": {
      "text/plain": [
       "5000"
      ]
     },
     "execution_count": 16,
     "metadata": {},
     "output_type": "execute_result"
    }
   ],
   "source": [
    "len(str(int(\"9\"*5000)))"
   ]
  },
  {
   "cell_type": "code",
   "execution_count": 14,
   "id": "f648871b",
   "metadata": {},
   "outputs": [
    {
     "data": {
      "text/plain": [
       "[(1, 3), (2, 4)]"
      ]
     },
     "execution_count": 14,
     "metadata": {},
     "output_type": "execute_result"
    }
   ],
   "source": [
    "list(zip([1,2], [3,4]))"
   ]
  }
 ],
 "metadata": {
  "kernelspec": {
   "display_name": "Python 3 (ipykernel)",
   "language": "python",
   "name": "python3"
  },
  "language_info": {
   "codemirror_mode": {
    "name": "ipython",
    "version": 3
   },
   "file_extension": ".py",
   "mimetype": "text/x-python",
   "name": "python",
   "nbconvert_exporter": "python",
   "pygments_lexer": "ipython3",
   "version": "3.9.7"
  }
 },
 "nbformat": 4,
 "nbformat_minor": 5
}
