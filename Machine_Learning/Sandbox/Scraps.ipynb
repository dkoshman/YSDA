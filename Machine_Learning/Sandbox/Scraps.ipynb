{
 "cells": [
  {
   "cell_type": "code",
   "execution_count": 2,
   "id": "1f72d889",
   "metadata": {
    "ExecuteTime": {
     "end_time": "2022-06-10T07:33:31.305814Z",
     "start_time": "2022-06-10T07:33:31.063573Z"
    }
   },
   "outputs": [
    {
     "data": {
      "application/javascript": [
       "\n",
       "            setTimeout(function() {\n",
       "                var nbb_cell_id = 2;\n",
       "                var nbb_unformatted_code = \"%load_ext nb_black\\n\\nimport numpy\";\n",
       "                var nbb_formatted_code = \"%load_ext nb_black\\n\\nimport numpy\";\n",
       "                var nbb_cells = Jupyter.notebook.get_cells();\n",
       "                for (var i = 0; i < nbb_cells.length; ++i) {\n",
       "                    if (nbb_cells[i].input_prompt_number == nbb_cell_id) {\n",
       "                        if (nbb_cells[i].get_text() == nbb_unformatted_code) {\n",
       "                             nbb_cells[i].set_text(nbb_formatted_code);\n",
       "                        }\n",
       "                        break;\n",
       "                    }\n",
       "                }\n",
       "            }, 500);\n",
       "            "
      ],
      "text/plain": [
       "<IPython.core.display.Javascript object>"
      ]
     },
     "metadata": {},
     "output_type": "display_data"
    }
   ],
   "source": [
    "%load_ext nb_black\n",
    "\n",
    "import numpy"
   ]
  },
  {
   "cell_type": "code",
   "execution_count": 3,
   "id": "0b543b46",
   "metadata": {
    "ExecuteTime": {
     "end_time": "2022-06-10T07:33:32.085285Z",
     "start_time": "2022-06-10T07:33:32.075096Z"
    }
   },
   "outputs": [
    {
     "data": {
      "text/plain": [
       "(1, 1)"
      ]
     },
     "execution_count": 3,
     "metadata": {},
     "output_type": "execute_result"
    },
    {
     "data": {
      "application/javascript": [
       "\n",
       "            setTimeout(function() {\n",
       "                var nbb_cell_id = 3;\n",
       "                var nbb_unformatted_code = \"1,1\";\n",
       "                var nbb_formatted_code = \"1, 1\";\n",
       "                var nbb_cells = Jupyter.notebook.get_cells();\n",
       "                for (var i = 0; i < nbb_cells.length; ++i) {\n",
       "                    if (nbb_cells[i].input_prompt_number == nbb_cell_id) {\n",
       "                        if (nbb_cells[i].get_text() == nbb_unformatted_code) {\n",
       "                             nbb_cells[i].set_text(nbb_formatted_code);\n",
       "                        }\n",
       "                        break;\n",
       "                    }\n",
       "                }\n",
       "            }, 500);\n",
       "            "
      ],
      "text/plain": [
       "<IPython.core.display.Javascript object>"
      ]
     },
     "metadata": {},
     "output_type": "display_data"
    }
   ],
   "source": [
    "1, 1"
   ]
  },
  {
   "cell_type": "code",
   "execution_count": null,
   "id": "4f5b9155",
   "metadata": {},
   "outputs": [],
   "source": [
    "import subprocess\n",
    "\n",
    "\n",
    "\n",
    "def wccount(filename):\n",
    "    out = subprocess.run(['wc', '-l', filename],\n",
    "                         stdout=subprocess.PIPE,\n",
    "                         stderr=subprocess.STDOUT\n",
    "                         ).stdout\n",
    "    return int(out.partition(b' ')[0])\n",
    "\n",
    "\n",
    "\n",
    "glove_file = \"data/glove.6B.300d.txt\"\n",
    "embeddings_dict = {}\n",
    "with open(glove_file, 'r', encoding='utf-8') as f:\n",
    "    for line in tqdm(f, \"Parsing glove embeddings\", total=wccount(glove_file), ncols=100):\n",
    "        values = line.split()\n",
    "        token = values[0]\n",
    "        vector = np.asarray(values[1:], \"float32\")\n",
    "        embeddings_dict[token] = vector\n",
    "\n",
    "embeds = pd.DataFrame(embeddings_dict)\n",
    "emb_np = embeds.to_numpy().T"
   ]
  },
  {
   "cell_type": "code",
   "execution_count": null,
   "id": "667fc3d5",
   "metadata": {},
   "outputs": [],
   "source": [
    "from transformers import AutoTokenizer, AutoModelForSeq2SeqLM\n",
    "\n",
    "\n",
    "tokenizer = AutoTokenizer.from_pretrained(\"Helsinki-NLP/opus-mt-ru-en\")\n",
    "model = AutoModelForSeq2SeqLM.from_pretrained(\"Helsinki-NLP/opus-mt-ru-en\")\n",
    "\n",
    "def translate(words):\n",
    "    batch = tokenizer(words, return_tensors=\"pt\", padding=True)\n",
    "    gen = model.generate(**batch)\n",
    "    return tokenizer.batch_decode(gen, skip_special_tokens=True)"
   ]
  },
  {
   "cell_type": "code",
   "execution_count": null,
   "id": "1c720cf4",
   "metadata": {},
   "outputs": [],
   "source": [
    "from collections import Counter\n",
    "from scipy import spatial\n",
    "\n",
    "kdtree = spatial.KDTree(emb_np)"
   ]
  },
  {
   "cell_type": "code",
   "execution_count": null,
   "id": "74126037",
   "metadata": {},
   "outputs": [],
   "source": [
    "english_topics = pd.DataFrame()\n",
    "for col in tqdm(topics, \"Translating topic words to english\", total=len(topics.columns), position=0, ncols=100):\n",
    "    words = translate(list(topics[col]))\n",
    "    words = [''.join([c.lower() for c in word.split()[0] if c.isalpha()]) for word in words]\n",
    "    english_topics[col] = np.array(words)"
   ]
  },
  {
   "cell_type": "code",
   "execution_count": null,
   "id": "e58a0404",
   "metadata": {},
   "outputs": [],
   "source": [
    "for col, words in tqdm(topics.iteritems(),\n",
    "                       \"Finding names for topics\", total=topics.shape[1], position=0, ncols=100):\n",
    "    words = translate(list(words))\n",
    "    words = [''.join([c.lower() for c in word.split()[0] if c.isalpha()]) for word in words]\n",
    "    counter = Counter()\n",
    "    for word in words:\n",
    "        if word not in embeds:\n",
    "            continue\n",
    "        point = embeds[word].to_numpy()\n",
    "        distance, indices = kdtree.query(point, range(1, 10))\n",
    "        for index in indices:\n",
    "            counter[embeds.columns[index]] += 1\n",
    "            \n",
    "    topics.rename({col: counter.most_common()[0][0]}, axis='columns', inplace=True)"
   ]
  },
  {
   "cell_type": "code",
   "execution_count": 1,
   "id": "0f47fd32",
   "metadata": {},
   "outputs": [
    {
     "data": {
      "text/plain": [
       "<parsl.dataflow.dflow.DataFlowKernel at 0x7f6aa1b2f7f0>"
      ]
     },
     "execution_count": 1,
     "metadata": {},
     "output_type": "execute_result"
    }
   ],
   "source": [
    "import parsl\n",
    "from parsl.app.app import python_app, bash_app\n",
    "\n",
    "\n",
    "\n",
    "parsl.load()"
   ]
  },
  {
   "cell_type": "code",
   "execution_count": 2,
   "id": "65a0d00c",
   "metadata": {},
   "outputs": [],
   "source": [
    "@python_app\n",
    "def slow_hello():\n",
    "    import time\n",
    "    time.sleep(5)\n",
    "    return 'Hello World!'"
   ]
  },
  {
   "cell_type": "code",
   "execution_count": 7,
   "id": "bec14fe7",
   "metadata": {},
   "outputs": [],
   "source": [
    "sh = slow_hello()"
   ]
  },
  {
   "cell_type": "code",
   "execution_count": 19,
   "id": "6f0438b5",
   "metadata": {},
   "outputs": [
    {
     "name": "stdout",
     "output_type": "stream",
     "text": [
      "Hello World!\n"
     ]
    }
   ],
   "source": [
    "print(sh.result() if sh.done() else 'Wait')"
   ]
  }
 ],
 "metadata": {
  "kernelspec": {
   "display_name": "Python 3 (ipykernel)",
   "language": "python",
   "name": "python3"
  },
  "language_info": {
   "codemirror_mode": {
    "name": "ipython",
    "version": 3
   },
   "file_extension": ".py",
   "mimetype": "text/x-python",
   "name": "python",
   "nbconvert_exporter": "python",
   "pygments_lexer": "ipython3",
   "version": "3.10.4"
  }
 },
 "nbformat": 4,
 "nbformat_minor": 5
}
