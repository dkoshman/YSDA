{
 "cells": [
  {
   "cell_type": "code",
   "execution_count": 2,
   "id": "f2bad45a",
   "metadata": {},
   "outputs": [],
   "source": [
    "import pytorch_lightning as pl\n",
    "import torch\n",
    "import torch.nn as nn\n",
    "from torch.utils.data import Dataset, DataLoader"
   ]
  },
  {
   "cell_type": "code",
   "execution_count": 777,
   "id": "5d3cd5f0",
   "metadata": {},
   "outputs": [],
   "source": [
    "import typing as tp\n",
    "\n",
    "class SimpleTextDataset(Dataset):\n",
    "    \"\"\"Reads txt file\"\"\"\n",
    "    \n",
    "    def __init__(self, txt_files, take_size, tokeniser, encoder):\n",
    "        self.sentences = []\n",
    "        self.classes = []\n",
    "        for i, txt_file in enumerate(txt_files):\n",
    "            self.classes.append(txt_file.split('.')[0])\n",
    "            with open(txt_file) as file:\n",
    "                self.text = file.read()\n",
    "            sentences = [sentence + '.' for sentence in self.text.split('.')]\n",
    "            sentences = map(tokeniser, sentences)\n",
    "            sentences = filter(lambda x: len(x) > 10, sentences)\n",
    "            sentences = encoder(sentences)\n",
    "            self.sentences.extend([(sentence, i) for sentence in sentences][:take_size])\n",
    "        \n",
    "    def __len__(self):\n",
    "        return len(self.sentences)\n",
    "    \n",
    "    def __getitem__(self, idx: tp.Union[int, list]):\n",
    "        if isinstance(idx, int):\n",
    "            return self.sentences[idx]\n",
    "        items = [self.sentences[i] for i in idx]\n",
    "        return items"
   ]
  },
  {
   "cell_type": "code",
   "execution_count": 778,
   "id": "8596dc31",
   "metadata": {},
   "outputs": [],
   "source": [
    "def letter_tokeniser(text):\n",
    "    import string\n",
    "    text = text.lower()\n",
    "    text = \"\".join(filter(lambda x: x.isalpha() or x.isnumeric() or x.isspace(), text))\n",
    "    return text\n",
    "\n",
    "def letter_encoder(sentences):\n",
    "    if isinstance(sentences, int):\n",
    "        return list(map(ord, sentences))\n",
    "    encoded_sentences = [list(map(ord, sentence)) for sentence in sentences]\n",
    "    return encoded_sentences\n",
    "\n",
    "def collate_fn(items):\n",
    "    def _pad_sentence(sentence, size):\n",
    "        if len(sentence) < size:\n",
    "            return sentence + [0] * (size - len(sentence))\n",
    "        else:\n",
    "            return sentence[:size]\n",
    "    \n",
    "    max_length = min(max(len(item) for item, cls in items), 32)\n",
    "    batch = torch.Tensor([_pad_sentence(item, max_length) for item, cls in items])\n",
    "    y = torch.LongTensor([cls for item, cls in items])\n",
    "    return batch.unsqueeze(-1), y"
   ]
  },
  {
   "cell_type": "code",
   "execution_count": 779,
   "id": "7282d9b2",
   "metadata": {},
   "outputs": [],
   "source": [
    "train_dataset = SimpleTextDataset(txt_files=[\"data/bert.txt\", \"data/Dostoevsky.txt\"], take_size=300,\n",
    "                                  tokeniser=letter_tokeniser, encoder=letter_encoder)"
   ]
  },
  {
   "cell_type": "code",
   "execution_count": 780,
   "id": "2c2bff37",
   "metadata": {},
   "outputs": [],
   "source": [
    "train_dataloader = DataLoader(train_dataset, shuffle=True, batch_size=256, collate_fn=collate_fn)"
   ]
  },
  {
   "cell_type": "code",
   "execution_count": 953,
   "id": "ade15b64",
   "metadata": {},
   "outputs": [],
   "source": [
    "class RNN(nn.Module):\n",
    "    def __init__(self, input_dimension, output_dimension):\n",
    "        super().__init__()\n",
    "        \n",
    "        self.input_dimension = input_dimension\n",
    "        self.output_dimension = output_dimension\n",
    "        self.w_h = nn.Linear(input_dimension, input_dimension)\n",
    "        self.w_y = nn.Linear(input_dimension, output_dimension)\n",
    "        self.u = nn.Linear(input_dimension, input_dimension)\n",
    "        self.activate = nn.ReLU()\n",
    "        \n",
    "    def forward(self, x):\n",
    "        hidden = torch.zeros(x.shape[0], self.input_dimension).to(x.device)\n",
    "        y = torch.zeros(x.shape[0], self.output_dimension).to(x.device)\n",
    "        for x_i in x.transpose(0, 1):\n",
    "            hidden = self.activate(self.w_h(x_i) + self.u(hidden))\n",
    "        y = self.activate(self.w_y(hidden))\n",
    "        return y"
   ]
  },
  {
   "cell_type": "code",
   "execution_count": 954,
   "id": "39b4bc8b",
   "metadata": {},
   "outputs": [],
   "source": [
    "import torch.nn.functional as F\n",
    "\n",
    "class LitRNN(pl.LightningModule):\n",
    "    def __init__(self, input_dimension, hidden_dimension, classes):\n",
    "        super().__init__()\n",
    "        self.linear = nn.Linear(input_dimension, hidden_dimension)\n",
    "        self.rnn = RNN(hidden_dimension, hidden_dimension)\n",
    "        self.bn = nn.BatchNorm1d(hidden_dimension)\n",
    "        self.fc = nn.Linear(hidden_dimension, classes)\n",
    "        self.classifier = nn.LogSoftmax()\n",
    "\n",
    "    def forward(self, x):\n",
    "        x = self.linear(x)\n",
    "        x = self.rnn(x)\n",
    "        x = self.bn(x)\n",
    "        x = self.fc(x)\n",
    "        x = self.classifier(x)\n",
    "        return x\n",
    "    \n",
    "    def training_step(self, batch, batch_idx):\n",
    "        x, y = batch\n",
    "        y_hat = self(x)\n",
    "        loss = F.cross_entropy(y_hat, y)\n",
    "        self.log(\"train_loss\", loss, on_step=True, on_epoch=True, prog_bar=True, logger=True)\n",
    "        return loss\n",
    "\n",
    "    def configure_optimizers(self):\n",
    "        return torch.optim.Adam(self.parameters(), lr=0.03)"
   ]
  },
  {
   "cell_type": "code",
   "execution_count": 955,
   "id": "2c16a30a",
   "metadata": {},
   "outputs": [],
   "source": [
    "class LitBase(pl.LightningModule):\n",
    "    def __init__(self, input_dimension, hidden_dimension, classes):\n",
    "        super().__init__()\n",
    "        self.rnn = nn.RNN(input_dimension, hidden_dimension, 1)\n",
    "        self.bn = nn.BatchNorm1d(hidden_dimension)\n",
    "        self.fc = nn.Linear(hidden_dimension, classes)\n",
    "        self.classifier = nn.LogSoftmax()\n",
    "        \n",
    "    def forward(self, x):\n",
    "        x, h = self.rnn(x)\n",
    "        x = x[:, -1, :].squeeze()\n",
    "        x = self.bn(x)\n",
    "        x = self.fc(x)\n",
    "        x = self.classifier(x)\n",
    "        return x\n",
    "    \n",
    "    def training_step(self, batch, batch_idx):\n",
    "        x, y = batch\n",
    "        y_hat = self(x)\n",
    "        loss = F.cross_entropy(y_hat, y)\n",
    "        self.log(\"train_loss\", loss, on_step=True, on_epoch=True, prog_bar=True, logger=True)\n",
    "        return loss\n",
    "\n",
    "    def configure_optimizers(self):\n",
    "        return torch.optim.Adam(self.parameters(), lr=0.01)"
   ]
  },
  {
   "cell_type": "code",
   "execution_count": 956,
   "id": "294bceaa",
   "metadata": {},
   "outputs": [
    {
     "name": "stderr",
     "output_type": "stream",
     "text": [
      "GPU available: True, used: True\n",
      "TPU available: False, using: 0 TPU cores\n",
      "IPU available: False, using: 0 IPUs\n",
      "LOCAL_RANK: 0 - CUDA_VISIBLE_DEVICES: [0,1,2,3,4,5,6]\n",
      "\n",
      "  | Name       | Type        | Params\n",
      "-------------------------------------------\n",
      "0 | rnn        | RNN         | 304   \n",
      "1 | bn         | BatchNorm1d | 32    \n",
      "2 | fc         | Linear      | 34    \n",
      "3 | classifier | LogSoftmax  | 0     \n",
      "-------------------------------------------\n",
      "370       Trainable params\n",
      "0         Non-trainable params\n",
      "370       Total params\n",
      "0.001     Total estimated model params size (MB)\n"
     ]
    },
    {
     "data": {
      "application/vnd.jupyter.widget-view+json": {
       "model_id": "12cdc5f268594c35b31591f2db5a4735",
       "version_major": 2,
       "version_minor": 0
      },
      "text/plain": [
       "Training: 0it [00:00, ?it/s]"
      ]
     },
     "metadata": {},
     "output_type": "display_data"
    },
    {
     "name": "stderr",
     "output_type": "stream",
     "text": [
      "/external2/dkkoshman/venv/lib/python3.6/site-packages/ipykernel_launcher.py:14: UserWarning: Implicit dimension choice for log_softmax has been deprecated. Change the call to include dim=X as an argument.\n",
      "  \n"
     ]
    }
   ],
   "source": [
    "trainer = pl.Trainer(max_epochs=100, accelerator='gpu', gpus=1)\n",
    "model_base = LitBase(1, 16, 2)\n",
    "trainer.fit(model_base, train_dataloaders=train_dataloader)"
   ]
  },
  {
   "cell_type": "code",
   "execution_count": 957,
   "id": "f394a70f",
   "metadata": {},
   "outputs": [
    {
     "name": "stderr",
     "output_type": "stream",
     "text": [
      "GPU available: True, used: True\n",
      "TPU available: False, using: 0 TPU cores\n",
      "IPU available: False, using: 0 IPUs\n",
      "LOCAL_RANK: 0 - CUDA_VISIBLE_DEVICES: [0,1,2,3,4,5,6]\n",
      "\n",
      "  | Name       | Type        | Params\n",
      "-------------------------------------------\n",
      "0 | linear     | Linear      | 32    \n",
      "1 | rnn        | RNN         | 816   \n",
      "2 | bn         | BatchNorm1d | 32    \n",
      "3 | fc         | Linear      | 34    \n",
      "4 | classifier | LogSoftmax  | 0     \n",
      "-------------------------------------------\n",
      "914       Trainable params\n",
      "0         Non-trainable params\n",
      "914       Total params\n",
      "0.004     Total estimated model params size (MB)\n"
     ]
    },
    {
     "data": {
      "application/vnd.jupyter.widget-view+json": {
       "model_id": "60278342afd44302ae68cd8f25b7d13f",
       "version_major": 2,
       "version_minor": 0
      },
      "text/plain": [
       "Training: 0it [00:00, ?it/s]"
      ]
     },
     "metadata": {},
     "output_type": "display_data"
    },
    {
     "name": "stderr",
     "output_type": "stream",
     "text": [
      "/external2/dkkoshman/venv/lib/python3.6/site-packages/ipykernel_launcher.py:17: UserWarning: Implicit dimension choice for log_softmax has been deprecated. Change the call to include dim=X as an argument.\n"
     ]
    }
   ],
   "source": [
    "trainer = pl.Trainer(max_epochs=100, accelerator='gpu', gpus=1)\n",
    "model = LitRNN(1, 16, 2)\n",
    "trainer.fit(model, train_dataloaders=train_dataloader)"
   ]
  },
  {
   "cell_type": "code",
   "execution_count": 958,
   "id": "d80f5ec8",
   "metadata": {},
   "outputs": [],
   "source": [
    "class GRU(nn.Module):\n",
    "    def __init__(self, input_dimension, output_dimension):\n",
    "        super().__init__()\n",
    "        \n",
    "        self.input_dimension = input_dimension\n",
    "        self.output_dimension = output_dimension\n",
    "        \n",
    "        self.w_z = nn.Linear(input_dimension, output_dimension)\n",
    "        self.u_z = nn.Linear(output_dimension, output_dimension, bias=False)\n",
    "        self.w_r = nn.Linear(input_dimension, output_dimension)\n",
    "        self.u_r = nn.Linear(output_dimension, output_dimension, bias=False)\n",
    "        self.w_h = nn.Linear(input_dimension, output_dimension)\n",
    "        self.u_h = nn.Linear(output_dimension, output_dimension, bias=False)\n",
    "\n",
    "        self.sigmoid = nn.Sigmoid()\n",
    "        self.tanh = nn.Tanh()\n",
    "        \n",
    "    def forward(self, x):\n",
    "        y = torch.zeros(x.shape[0], self.output_dimension).to(x.device)\n",
    "\n",
    "        for x_i in x.transpose(0, 1):\n",
    "            z = self.sigmoid(self.w_z(x_i) + self.u_z(y))\n",
    "            r = self.sigmoid(self.w_r(x_i) + self.u_r(y))\n",
    "            h = self.tanh(self.w_h(x_i) + self.u_h(r * y))\n",
    "            y = (1 - r) * y + z * h\n",
    "            \n",
    "        return y"
   ]
  },
  {
   "cell_type": "code",
   "execution_count": 959,
   "id": "a67b7211",
   "metadata": {},
   "outputs": [],
   "source": [
    "import torch.nn.functional as F\n",
    "\n",
    "class LitGRU(pl.LightningModule):\n",
    "    def __init__(self, input_dimension, hidden_dimension, classes):\n",
    "        super().__init__()\n",
    "        self.linear = nn.Linear(input_dimension, hidden_dimension)\n",
    "        self.gru = GRU(hidden_dimension, hidden_dimension)\n",
    "        self.bn = nn.BatchNorm1d(hidden_dimension)\n",
    "        self.fc = nn.Linear(hidden_dimension, classes)\n",
    "        self.classifier = nn.LogSoftmax()\n",
    "\n",
    "    def forward(self, x):\n",
    "        x = self.linear(x)\n",
    "        x = self.gru(x)\n",
    "        x = self.bn(x)\n",
    "        x = self.fc(x)\n",
    "        x = self.classifier(x)\n",
    "        return x\n",
    "    \n",
    "    def training_step(self, batch, batch_idx):\n",
    "        x, y = batch\n",
    "        y_hat = self(x)\n",
    "        loss = F.cross_entropy(y_hat, y)\n",
    "        self.log(\"train_loss\", loss, on_step=True, on_epoch=True, prog_bar=True, logger=True)\n",
    "        return loss\n",
    "\n",
    "    def configure_optimizers(self):\n",
    "        return torch.optim.Adam(self.parameters(), lr=0.03)"
   ]
  },
  {
   "cell_type": "code",
   "execution_count": 960,
   "id": "98ee6eba",
   "metadata": {},
   "outputs": [
    {
     "name": "stderr",
     "output_type": "stream",
     "text": [
      "GPU available: True, used: True\n",
      "TPU available: False, using: 0 TPU cores\n",
      "IPU available: False, using: 0 IPUs\n",
      "LOCAL_RANK: 0 - CUDA_VISIBLE_DEVICES: [0,1,2,3,4,5,6]\n",
      "\n",
      "  | Name       | Type        | Params\n",
      "-------------------------------------------\n",
      "0 | linear     | Linear      | 32    \n",
      "1 | gru        | GRU         | 1.6 K \n",
      "2 | bn         | BatchNorm1d | 32    \n",
      "3 | fc         | Linear      | 34    \n",
      "4 | classifier | LogSoftmax  | 0     \n",
      "-------------------------------------------\n",
      "1.7 K     Trainable params\n",
      "0         Non-trainable params\n",
      "1.7 K     Total params\n",
      "0.007     Total estimated model params size (MB)\n"
     ]
    },
    {
     "data": {
      "application/vnd.jupyter.widget-view+json": {
       "model_id": "62ad31cacb2f4042bf45b128a435c222",
       "version_major": 2,
       "version_minor": 0
      },
      "text/plain": [
       "Training: 0it [00:00, ?it/s]"
      ]
     },
     "metadata": {},
     "output_type": "display_data"
    },
    {
     "name": "stderr",
     "output_type": "stream",
     "text": [
      "/external2/dkkoshman/venv/lib/python3.6/site-packages/ipykernel_launcher.py:17: UserWarning: Implicit dimension choice for log_softmax has been deprecated. Change the call to include dim=X as an argument.\n"
     ]
    }
   ],
   "source": [
    "trainer = pl.Trainer(max_epochs=100, accelerator='gpu', gpus=1)\n",
    "model_gru = LitGRU(1, 16, 2)\n",
    "trainer.fit(model_gru, train_dataloaders=train_dataloader)"
   ]
  },
  {
   "cell_type": "code",
   "execution_count": 961,
   "id": "48733555",
   "metadata": {},
   "outputs": [],
   "source": [
    "def accuracy(model, b):\n",
    "    return sum(model(b[0]).argmax(dim=1) == b[1]) / len(b[1])"
   ]
  },
  {
   "cell_type": "code",
   "execution_count": 962,
   "id": "63b99f92",
   "metadata": {},
   "outputs": [],
   "source": [
    "import numpy as np\n",
    "\n",
    "class LitTransformer(pl.LightningModule):\n",
    "    def __init__(self, input_dimension, hidden_dimension, classes):\n",
    "        super().__init__()\n",
    "        \n",
    "        self.input_dimension = input_dimension\n",
    "        self.hidden_dimension = hidden_dimension\n",
    "        \n",
    "        self.linear = nn.Linear(input_dimension, hidden_dimension)\n",
    "        self.w_q = torch.nn.Parameter(torch.randn(hidden_dimension, hidden_dimension))\n",
    "        self.w_k = torch.nn.Parameter(torch.randn(hidden_dimension, hidden_dimension))\n",
    "        self.w_v = torch.nn.Parameter(torch.randn(hidden_dimension, hidden_dimension))\n",
    "        self.relu = nn.ReLU()\n",
    "        self.bn = nn.BatchNorm1d(hidden_dimension)\n",
    "        self.fc = nn.Linear(hidden_dimension, classes)\n",
    "        self.classifier = nn.LogSoftmax()\n",
    "\n",
    "    def forward(self, x):\n",
    "        x = self.linear(x)\n",
    "        q = torch.einsum('bnk,kd->bnd', x, self.w_q)\n",
    "        k = torch.einsum('bmk,kd->bmd', x, self.w_k)\n",
    "        v = torch.einsum('bmk,kd->bmd', x, self.w_v)\n",
    "        sigma = self.relu(torch.einsum('bnd,bmd->bnm', q, k) / np.sqrt(self.hidden_dimension))\n",
    "        x = torch.einsum('bnm,bmd->bnd', sigma, v)\n",
    "        x = x[:, 0, :].squeeze()\n",
    "        x = self.bn(x)\n",
    "        x = self.fc(x)\n",
    "        x = self.classifier(x)\n",
    "        return x\n",
    "    \n",
    "    def training_step(self, batch, batch_idx):\n",
    "        x, y = batch\n",
    "        y_hat = self(x)\n",
    "        loss = F.cross_entropy(y_hat, y)\n",
    "        self.log(\"train_loss\", loss, on_step=True, on_epoch=True, prog_bar=True, logger=True)\n",
    "        return loss\n",
    "\n",
    "    def configure_optimizers(self):\n",
    "        return torch.optim.Adam(self.parameters(), lr=0.003)"
   ]
  },
  {
   "cell_type": "code",
   "execution_count": 963,
   "id": "54852f00",
   "metadata": {},
   "outputs": [
    {
     "name": "stderr",
     "output_type": "stream",
     "text": [
      "GPU available: True, used: True\n",
      "TPU available: False, using: 0 TPU cores\n",
      "IPU available: False, using: 0 IPUs\n",
      "LOCAL_RANK: 0 - CUDA_VISIBLE_DEVICES: [0,1,2,3,4,5,6]\n",
      "\n",
      "  | Name       | Type        | Params\n",
      "-------------------------------------------\n",
      "0 | linear     | Linear      | 32    \n",
      "1 | relu       | ReLU        | 0     \n",
      "2 | bn         | BatchNorm1d | 32    \n",
      "3 | fc         | Linear      | 34    \n",
      "4 | classifier | LogSoftmax  | 0     \n",
      "-------------------------------------------\n",
      "866       Trainable params\n",
      "0         Non-trainable params\n",
      "866       Total params\n",
      "0.003     Total estimated model params size (MB)\n"
     ]
    },
    {
     "data": {
      "application/vnd.jupyter.widget-view+json": {
       "model_id": "fb1a432eb8cb472a80af0ac6b21cf1ef",
       "version_major": 2,
       "version_minor": 0
      },
      "text/plain": [
       "Training: 0it [00:00, ?it/s]"
      ]
     },
     "metadata": {},
     "output_type": "display_data"
    },
    {
     "name": "stderr",
     "output_type": "stream",
     "text": [
      "/external2/dkkoshman/venv/lib/python3.6/site-packages/ipykernel_launcher.py:29: UserWarning: Implicit dimension choice for log_softmax has been deprecated. Change the call to include dim=X as an argument.\n"
     ]
    }
   ],
   "source": [
    "trainer = pl.Trainer(max_epochs=100, accelerator='gpu', gpus=1)\n",
    "model_transformer = LitTransformer(1, 16, 2)\n",
    "trainer.fit(model_transformer, train_dataloaders=train_dataloader)"
   ]
  },
  {
   "cell_type": "code",
   "execution_count": 966,
   "id": "c0d4f0f8",
   "metadata": {},
   "outputs": [
    {
     "name": "stderr",
     "output_type": "stream",
     "text": [
      "/external2/dkkoshman/venv/lib/python3.6/site-packages/ipykernel_launcher.py:14: UserWarning: Implicit dimension choice for log_softmax has been deprecated. Change the call to include dim=X as an argument.\n",
      "  \n",
      "/external2/dkkoshman/venv/lib/python3.6/site-packages/ipykernel_launcher.py:17: UserWarning: Implicit dimension choice for log_softmax has been deprecated. Change the call to include dim=X as an argument.\n",
      "/external2/dkkoshman/venv/lib/python3.6/site-packages/ipykernel_launcher.py:29: UserWarning: Implicit dimension choice for log_softmax has been deprecated. Change the call to include dim=X as an argument.\n"
     ]
    },
    {
     "data": {
      "text/plain": [
       "(tensor(0.5977), tensor(0.6523), tensor(0.5625), tensor(0.5977))"
      ]
     },
     "execution_count": 966,
     "metadata": {},
     "output_type": "execute_result"
    }
   ],
   "source": [
    "b = next(iter(train_dataloader))\n",
    "accuracy(model_base, b), accuracy(model, b), accuracy(model_gru, b), accuracy(model_transformer, b)"
   ]
  },
  {
   "cell_type": "code",
   "execution_count": null,
   "id": "fb258255",
   "metadata": {},
   "outputs": [],
   "source": []
  }
 ],
 "metadata": {
  "kernelspec": {
   "display_name": "Python 3 (ipykernel)",
   "language": "python",
   "name": "python3"
  },
  "language_info": {
   "codemirror_mode": {
    "name": "ipython",
    "version": 3
   },
   "file_extension": ".py",
   "mimetype": "text/x-python",
   "name": "python",
   "nbconvert_exporter": "python",
   "pygments_lexer": "ipython3",
   "version": "3.10.4"
  }
 },
 "nbformat": 4,
 "nbformat_minor": 5
}
