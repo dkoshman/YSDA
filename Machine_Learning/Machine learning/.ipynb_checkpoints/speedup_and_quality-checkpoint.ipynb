{
 "cells": [
  {
   "cell_type": "markdown",
   "id": "66cf7013-00a3-4b78-ba6d-05fd9ea955b9",
   "metadata": {},
   "source": [
    "# Prepare data"
   ]
  },
  {
   "cell_type": "code",
   "execution_count": 1,
   "id": "bfce5244-26ab-4185-8bae-49c54472620c",
   "metadata": {},
   "outputs": [
    {
     "ename": "ImportError",
     "evalue": "cannot import name 'Pool' from 'catboost' (unknown location)",
     "output_type": "error",
     "traceback": [
      "\u001b[0;31m---------------------------------------------------------------------------\u001b[0m",
      "\u001b[0;31mImportError\u001b[0m                               Traceback (most recent call last)",
      "\u001b[0;32m/var/folders/5w/gytwm8sd6vldh9ym3dvj_x_m0000gn/T/ipykernel_99566/3526845765.py\u001b[0m in \u001b[0;36m<module>\u001b[0;34m\u001b[0m\n\u001b[0;32m----> 1\u001b[0;31m \u001b[0;32mfrom\u001b[0m \u001b[0mcatboost\u001b[0m \u001b[0;32mimport\u001b[0m \u001b[0mPool\u001b[0m\u001b[0;34m,\u001b[0m \u001b[0mCatBoostClassifier\u001b[0m\u001b[0;34m\u001b[0m\u001b[0;34m\u001b[0m\u001b[0m\n\u001b[0m\u001b[1;32m      2\u001b[0m \u001b[0;32mfrom\u001b[0m \u001b[0mcatboost\u001b[0m\u001b[0;34m.\u001b[0m\u001b[0mdatasets\u001b[0m \u001b[0;32mimport\u001b[0m \u001b[0mamazon\u001b[0m\u001b[0;34m\u001b[0m\u001b[0;34m\u001b[0m\u001b[0m\n\u001b[1;32m      3\u001b[0m \u001b[0;32mimport\u001b[0m \u001b[0mpandas\u001b[0m \u001b[0;32mas\u001b[0m \u001b[0mpd\u001b[0m\u001b[0;34m\u001b[0m\u001b[0;34m\u001b[0m\u001b[0m\n",
      "\u001b[0;31mImportError\u001b[0m: cannot import name 'Pool' from 'catboost' (unknown location)"
     ]
    }
   ],
   "source": [
    "from catboost import Pool, CatBoostClassifier\n",
    "from catboost.datasets import amazon\n",
    "import pandas as pd"
   ]
  },
  {
   "cell_type": "code",
   "execution_count": 3,
   "id": "cf0c4ee6-6d8d-4bad-8dda-284fcd53b4bb",
   "metadata": {},
   "outputs": [
    {
     "data": {
      "text/html": [
       "<div>\n",
       "<style scoped>\n",
       "    .dataframe tbody tr th:only-of-type {\n",
       "        vertical-align: middle;\n",
       "    }\n",
       "\n",
       "    .dataframe tbody tr th {\n",
       "        vertical-align: top;\n",
       "    }\n",
       "\n",
       "    .dataframe thead th {\n",
       "        text-align: right;\n",
       "    }\n",
       "</style>\n",
       "<table border=\"1\" class=\"dataframe\">\n",
       "  <thead>\n",
       "    <tr style=\"text-align: right;\">\n",
       "      <th></th>\n",
       "      <th>ACTION</th>\n",
       "      <th>RESOURCE</th>\n",
       "      <th>MGR_ID</th>\n",
       "      <th>ROLE_ROLLUP_1</th>\n",
       "      <th>ROLE_ROLLUP_2</th>\n",
       "      <th>ROLE_DEPTNAME</th>\n",
       "      <th>ROLE_TITLE</th>\n",
       "      <th>ROLE_FAMILY_DESC</th>\n",
       "      <th>ROLE_FAMILY</th>\n",
       "      <th>ROLE_CODE</th>\n",
       "    </tr>\n",
       "  </thead>\n",
       "  <tbody>\n",
       "    <tr>\n",
       "      <th>0</th>\n",
       "      <td>1</td>\n",
       "      <td>39353</td>\n",
       "      <td>85475</td>\n",
       "      <td>117961</td>\n",
       "      <td>118300</td>\n",
       "      <td>123472</td>\n",
       "      <td>117905</td>\n",
       "      <td>117906</td>\n",
       "      <td>290919</td>\n",
       "      <td>117908</td>\n",
       "    </tr>\n",
       "    <tr>\n",
       "      <th>1</th>\n",
       "      <td>1</td>\n",
       "      <td>17183</td>\n",
       "      <td>1540</td>\n",
       "      <td>117961</td>\n",
       "      <td>118343</td>\n",
       "      <td>123125</td>\n",
       "      <td>118536</td>\n",
       "      <td>118536</td>\n",
       "      <td>308574</td>\n",
       "      <td>118539</td>\n",
       "    </tr>\n",
       "    <tr>\n",
       "      <th>2</th>\n",
       "      <td>1</td>\n",
       "      <td>36724</td>\n",
       "      <td>14457</td>\n",
       "      <td>118219</td>\n",
       "      <td>118220</td>\n",
       "      <td>117884</td>\n",
       "      <td>117879</td>\n",
       "      <td>267952</td>\n",
       "      <td>19721</td>\n",
       "      <td>117880</td>\n",
       "    </tr>\n",
       "    <tr>\n",
       "      <th>3</th>\n",
       "      <td>1</td>\n",
       "      <td>36135</td>\n",
       "      <td>5396</td>\n",
       "      <td>117961</td>\n",
       "      <td>118343</td>\n",
       "      <td>119993</td>\n",
       "      <td>118321</td>\n",
       "      <td>240983</td>\n",
       "      <td>290919</td>\n",
       "      <td>118322</td>\n",
       "    </tr>\n",
       "    <tr>\n",
       "      <th>4</th>\n",
       "      <td>1</td>\n",
       "      <td>42680</td>\n",
       "      <td>5905</td>\n",
       "      <td>117929</td>\n",
       "      <td>117930</td>\n",
       "      <td>119569</td>\n",
       "      <td>119323</td>\n",
       "      <td>123932</td>\n",
       "      <td>19793</td>\n",
       "      <td>119325</td>\n",
       "    </tr>\n",
       "  </tbody>\n",
       "</table>\n",
       "</div>"
      ],
      "text/plain": [
       "   ACTION  RESOURCE  MGR_ID  ROLE_ROLLUP_1  ROLE_ROLLUP_2  ROLE_DEPTNAME  \\\n",
       "0       1     39353   85475         117961         118300         123472   \n",
       "1       1     17183    1540         117961         118343         123125   \n",
       "2       1     36724   14457         118219         118220         117884   \n",
       "3       1     36135    5396         117961         118343         119993   \n",
       "4       1     42680    5905         117929         117930         119569   \n",
       "\n",
       "   ROLE_TITLE  ROLE_FAMILY_DESC  ROLE_FAMILY  ROLE_CODE  \n",
       "0      117905            117906       290919     117908  \n",
       "1      118536            118536       308574     118539  \n",
       "2      117879            267952        19721     117880  \n",
       "3      118321            240983       290919     118322  \n",
       "4      119323            123932        19793     119325  "
      ]
     },
     "execution_count": 3,
     "metadata": {},
     "output_type": "execute_result"
    }
   ],
   "source": [
    "train_df, test_df = amazon()\n",
    "train_df.head()"
   ]
  },
  {
   "cell_type": "code",
   "execution_count": 4,
   "id": "8ea3adb6-1053-44f7-8ec2-4ce9374e29d0",
   "metadata": {},
   "outputs": [],
   "source": [
    "y = train_df.ACTION\n",
    "X = train_df.drop('ACTION', axis=1)"
   ]
  },
  {
   "cell_type": "code",
   "execution_count": 5,
   "id": "e68388e9-9880-4b40-9949-198b1c8ebf83",
   "metadata": {},
   "outputs": [
    {
     "name": "stdout",
     "output_type": "stream",
     "text": [
      "[0, 1, 2, 3, 4, 5, 6, 7, 8]\n"
     ]
    }
   ],
   "source": [
    "cat_features = list(range(0, X.shape[1]))\n",
    "print(cat_features)"
   ]
  },
  {
   "cell_type": "code",
   "execution_count": 6,
   "id": "ee709b97-49dd-41aa-acf9-012372ead219",
   "metadata": {},
   "outputs": [],
   "source": [
    "from sklearn.model_selection import train_test_split\n",
    "\n",
    "X_train, X_validation, y_train, y_validation = train_test_split(X, y, train_size=0.75, random_state=42)"
   ]
  },
  {
   "cell_type": "code",
   "execution_count": 38,
   "id": "0efa4bad-cb56-4b7e-9421-fd627ea47821",
   "metadata": {},
   "outputs": [],
   "source": [
    "from time import time"
   ]
  },
  {
   "cell_type": "code",
   "execution_count": 43,
   "id": "cf69f70e-75c1-40cd-ae7b-11ac3baa3553",
   "metadata": {},
   "outputs": [
    {
     "data": {
      "application/vnd.jupyter.widget-view+json": {
       "model_id": "d186d6141c6c4255983ec6d5ed226b24",
       "version_major": 2,
       "version_minor": 0
      },
      "text/plain": [
       "MetricVisualizer(layout=Layout(align_self='stretch', height='500px'))"
      ]
     },
     "metadata": {},
     "output_type": "display_data"
    },
    {
     "name": "stdout",
     "output_type": "stream",
     "text": [
      "best AUC: 0.88850\n",
      "time: 4.531s\n"
     ]
    }
   ],
   "source": [
    "simple_model = CatBoostClassifier(\n",
    "    eval_metric='AUC',\n",
    "    random_seed=63,\n",
    "    iterations=200\n",
    ")\n",
    "\n",
    "start_time = time()\n",
    "simple_model.fit(\n",
    "    X_train, y_train,\n",
    "    cat_features=cat_features,\n",
    "    eval_set=(X_validation, y_validation),\n",
    "    logging_level='Silent',\n",
    "    plot=True\n",
    ")\n",
    "simple_model_fit_time = time() - start_time\n",
    "simple_model_auc = simple_model.best_score_['validation']['AUC']\n",
    "print('best AUC: {:.5f}'.format(simple_model_auc))\n",
    "print('time: {:.3f}s'.format(simple_model_fit_time))"
   ]
  },
  {
   "cell_type": "code",
   "execution_count": 49,
   "id": "9b53a9c6-2b9b-49eb-9601-38bffb2bdf23",
   "metadata": {},
   "outputs": [
    {
     "name": "stdout",
     "output_type": "stream",
     "text": [
      "Simple model main parameters:\n",
      "iterations=200\n",
      "learning_rate=0.14074000716209412\n",
      "depth=6\n",
      "bootstrap_type=MVS\n",
      "subsample=0.800000011920929\n",
      "border_count=254\n",
      "l2_leaf_reg=3\n",
      "one_hot_max_size=2\n",
      "rsm=1\n",
      "leaf_estimation_iterations=10\n",
      "leaf_estimation_method=Newton\n",
      "max_ctr_complexity=4\n",
      "random_strength=1\n"
     ]
    }
   ],
   "source": [
    "import json\n",
    "\n",
    "print('Simple model main parameters:')\n",
    "all_params = simple_model.get_all_params()\n",
    "for name in ('iterations', 'learning_rate', 'depth', 'bootstrap_type', 'subsample', 'border_count', 'l2_leaf_reg',\n",
    "             'one_hot_max_size', 'rsm', 'leaf_estimation_iterations', 'leaf_estimation_method', 'max_ctr_complexity', 'random_strength'):\n",
    "    print(f'{name}={all_params[name]}')"
   ]
  },
  {
   "cell_type": "markdown",
   "id": "418d55cb-efc4-4b84-a76d-0e62e4f2dd00",
   "metadata": {
    "tags": []
   },
   "source": [
    "# Speedup training"
   ]
  },
  {
   "cell_type": "markdown",
   "id": "b4444b51-035b-47f1-bd81-f479425cfb4e",
   "metadata": {},
   "source": [
    "Here is the list of parameters that are important for speeding up the training.\n",
    "Note that changing this parameters might decrease the quality.\n",
    "1. iterations + learning rate\n",
    "By default we train for 1000 iterations. You can decrease this number, but if you decrease the number of iterations you need to increase learning rate so that the process converges. We set learning rate by default dependent on number of iterations and on your dataset, so you might just use default learning rate. But if you want to tune it, you need to know - the more iterations you have, the less should be the learning rate.\n",
    "\n",
    "3. bootstrap_type\n",
    "By default we use MVS boostrap. It is faster to use sampling from Bernoulli distribution. To enable that use bootstrap_type='Bernoulli' + subsample={some value < 1}\n",
    "\n",
    "4. one_hot_max_size\n",
    "By default we use one-hot encoding only for categorical features with little amount of different values. For all other categorical features we calculate statistics. This is expensive, and one-hot encoding is cheep. So you can speed up the training by setting one_hot_max_size to some bigger value\n",
    "\n",
    "5. rsm\n",
    "This parameter is very important, because it speeds up the training and does not affect the quality. So you should definitely use it, but only in case if you have hundreds of features.\n",
    "If you have little amount of features it's better not to use this parameter.\n",
    "If you have many features then the rule is the following: you decrease rsm, for example, you set rsm=0.1. With this rsm value the training needs more iterations to converge. Usually you need about 20% more iterations. But each iteration will be 10x faster. So the resulting training time will be faster even though you will have more trees in the resulting model.\n",
    "\n",
    "6. leaf_estimation_iterations\n",
    "This parameter is responsible for calculating leaf values after you have already selected tree structure.\n",
    "If you have little amount of features, for example 8 or 10 features, then this place starts to be the bottle-neck.\n",
    "Default value for this parameter depends on the training objective, you can try setting it to 1 or 5, and if you have little amount of features, this might speed up the training.\n",
    "\n",
    "7. max_ctr_complexity\n",
    "By default catboost generates categorical feature combinations in a greedy way.\n",
    "This is time consuming, you can disable that by setting max_ctr_complexity=1 or by allowing only combinations of 2 features by setting max_ctr_complexity=2.\n",
    "This will speed up the training only if you have categorical features.\n",
    "\n",
    "8. If you are training the model on GPU, you can try decreasing border_count. This is the number of splits considered for each feature. By default it's set to 128, but you can try setting it to 32. In many cases it will not degrade the quality of the model and will speed up the training by a lot. \n",
    "\n",
    "9. random_strength\n",
    "Sometimes it can give more quality but can be dangerous with big amount of categorical features."
   ]
  },
  {
   "cell_type": "code",
   "execution_count": 56,
   "id": "16118410-6649-4142-9cb7-49feca577a2d",
   "metadata": {},
   "outputs": [
    {
     "data": {
      "application/vnd.jupyter.widget-view+json": {
       "model_id": "d76e5faf8fd64adba56b72a7eb8a8edf",
       "version_major": 2,
       "version_minor": 0
      },
      "text/plain": [
       "MetricVisualizer(layout=Layout(align_self='stretch', height='500px'))"
      ]
     },
     "metadata": {},
     "output_type": "display_data"
    },
    {
     "name": "stdout",
     "output_type": "stream",
     "text": [
      "best AUC: 0.88850\tdelta: 0.00000\n",
      "time: 4.320s\tspeedup: 1.0\n"
     ]
    }
   ],
   "source": [
    "fast_model = CatBoostClassifier(\n",
    "    eval_metric='AUC',\n",
    "    random_seed=63,\n",
    "    iterations=200,\n",
    "    learning_rate=0.14074,\n",
    "    depth=6,\n",
    "    bootstrap_type='MVS',\n",
    "    subsample=0.8,\n",
    "    border_count=254,\n",
    "    l2_leaf_reg=3,\n",
    "    one_hot_max_size=2,\n",
    "    rsm=1,\n",
    "    leaf_estimation_iterations=10,\n",
    "    leaf_estimation_method='Newton',\n",
    "    max_ctr_complexity=4,\n",
    "    random_strength=1\n",
    ")\n",
    "\n",
    "start_time = time()\n",
    "fast_model.fit(\n",
    "    X_train, y_train,\n",
    "    cat_features=cat_features,\n",
    "    eval_set=(X_validation, y_validation),\n",
    "    logging_level='Silent',\n",
    "    plot=True\n",
    ")\n",
    "fast_model_fit_time = time() - start_time\n",
    "speedup = simple_model_fit_time / fast_model_fit_time\n",
    "fast_model_auc = fast_model.best_score_['validation']['AUC']\n",
    "delta_auc = fast_model_auc - simple_model_auc\n",
    "print('best AUC: {:.5f}\\tdelta: {:.5f}'.format(fast_model_auc, delta_auc))\n",
    "print('time: {:.3f}s\\tspeedup: {:.1f}'.format(fast_model_fit_time, speedup))\n",
    "for name, value in fast_model.get_all_params().items():\n",
    "    if simple_model.get_all_params()[name] != value:\n",
    "        print(f'{name}: {simple_model.get_all_params()[name]} -> {value}')"
   ]
  },
  {
   "cell_type": "markdown",
   "id": "f145af68-d22a-4c22-a572-a82924cd5d40",
   "metadata": {},
   "source": [
    "# Increase quality"
   ]
  },
  {
   "cell_type": "markdown",
   "id": "abe42893-40d0-4ad6-9746-2bb39e615526",
   "metadata": {},
   "source": [
    "The parameters listed below are important to get the best quality of the model. Try changing this parameters to improve the quality of the resulting model."
   ]
  },
  {
   "cell_type": "code",
   "execution_count": 59,
   "id": "738e9e3c-2f84-40b2-8614-756e65d84a2f",
   "metadata": {},
   "outputs": [
    {
     "data": {
      "application/vnd.jupyter.widget-view+json": {
       "model_id": "102e4c677a9d4520a73cf3511c4efd6d",
       "version_major": 2,
       "version_minor": 0
      },
      "text/plain": [
       "MetricVisualizer(layout=Layout(align_self='stretch', height='500px'))"
      ]
     },
     "metadata": {},
     "output_type": "display_data"
    },
    {
     "name": "stdout",
     "output_type": "stream",
     "text": [
      "best AUC: 0.88850\tdelta: 0.00000\n",
      "time: 4.471s\n"
     ]
    }
   ],
   "source": [
    "best_model = CatBoostClassifier(\n",
    "    eval_metric='AUC',\n",
    "    random_seed=63,\n",
    "    iterations=200,\n",
    "    learning_rate=0.14074,\n",
    "    depth=6,\n",
    "    bootstrap_type='MVS',\n",
    "    subsample=0.8,\n",
    "    border_count=254,\n",
    "    l2_leaf_reg=3,\n",
    "    one_hot_max_size=2,\n",
    "    rsm=1,\n",
    "    leaf_estimation_iterations=10,\n",
    "    leaf_estimation_method='Newton',\n",
    "    max_ctr_complexity=4,\n",
    "    random_strength=1\n",
    ")\n",
    "\n",
    "start_time = time()\n",
    "best_model.fit(\n",
    "    X_train, y_train,\n",
    "    cat_features=cat_features,\n",
    "    eval_set=(X_validation, y_validation),\n",
    "    logging_level='Silent',\n",
    "    plot=True\n",
    ")\n",
    "best_model_fit_time = time() - start_time\n",
    "best_model_auc = best_model.best_score_['validation']['AUC']\n",
    "delta_auc = best_model_auc - simple_model_auc\n",
    "\n",
    "print('best AUC: {:.5f}\\tdelta: {:.5f}'.format(best_model_auc, delta_auc))\n",
    "print('time: {:.3f}s'.format(best_model_fit_time))\n",
    "for name, value in best_model.get_all_params().items():\n",
    "    if simple_model.get_all_params()[name] != value:\n",
    "        print(f'{name}: {simple_model.get_all_params()[name]} -> {value}')"
   ]
  },
  {
   "cell_type": "code",
   "execution_count": null,
   "id": "6a15db18-3ca5-47fe-bd9d-1c486a7682d1",
   "metadata": {},
   "outputs": [],
   "source": []
  }
 ],
 "metadata": {
  "kernelspec": {
   "display_name": "PyCharm (DimaKoshman)",
   "language": "python",
   "name": "pycharm-39683df4"
  },
  "language_info": {
   "codemirror_mode": {
    "name": "ipython",
    "version": 3
   },
   "file_extension": ".py",
   "mimetype": "text/x-python",
   "name": "python",
   "nbconvert_exporter": "python",
   "pygments_lexer": "ipython3",
   "version": "3.9.7"
  }
 },
 "nbformat": 4,
 "nbformat_minor": 5
}
