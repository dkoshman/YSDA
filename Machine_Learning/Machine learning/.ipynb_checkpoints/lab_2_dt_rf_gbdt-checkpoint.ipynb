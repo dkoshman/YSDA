{
 "cells": [
  {
   "cell_type": "markdown",
   "metadata": {},
   "source": [
    "# Лабораторная работа 2\n",
    "\n",
    "Результат лабораторной работы − отчет. Мы предпочитаем принимать отчеты в формате ноутбуков Jupyter (ipynb-файл). Постарайтесь сделать ваш отчет интересным рассказом, последовательно отвечающим на вопросы из заданий, а также подкреплённый грамотной визуализацией. Помимо ответов на вопросы, в отчете так же должен быть код, однако чем меньше кода, тем лучше всем: нам − меньше проверять, вам —  проще найти ошибку или дополнить эксперимент. При проверке оценивается четкость ответов на вопросы, аккуратность отчета, кода и графиков. \n",
    "\n",
    "## Оценивание и штрафы\n",
    "\n",
    "* Каждая из задач имеет определенную «стоимость» (указана в скобках около задачи)\n",
    "* Максимально допустимая оценка за работу — 15 баллов\n",
    "* Сдавать задание после указанного срока сдачи нельзя\n",
    "* «Похожие» решения считаются плагиатом и все задействованные студенты (в том числе те, у кого списали) не могут получить за него больше 0 баллов и понижают свою карму\n",
    "* Если вы нашли решение какого-то из заданий в открытом источнике, необходимо прислать ссылку на этот источник (скорее всего вы будете не единственным, кто это нашел, поэтому, чтобы исключить подозрение в плагиате, необходима ссылка на источник)\n",
    "* Не оцениваются задания с удалёнными формулировкам\n",
    "* Не оценивается лабораторная работа целиком, если она была выложена в открытый источник"
   ]
  },
  {
   "cell_type": "markdown",
   "metadata": {},
   "source": [
    "## Прорабатываемые темы\n",
    "  * Деревья\n",
    "  * Лес\n",
    "  * Бустинг"
   ]
  },
  {
   "cell_type": "code",
   "execution_count": null,
   "metadata": {},
   "outputs": [],
   "source": []
  },
  {
   "cell_type": "markdown",
   "metadata": {},
   "source": [
    "## Данные"
   ]
  },
  {
   "cell_type": "markdown",
   "metadata": {},
   "source": [
    "Из официального блога Яндекса [известно,](https://yandex.ru/blog/company/meteum-2-0-ili-pochemu-yandeks-pogoda-sprashivaet-vas-o-dozhde) что технология предсказания погоды Метеум 2.0 опирается на Catboost.\n",
    "\n",
    "Там же говорится, о том, что в качестве признаков используются данные от метеомоделей и дополнительные признаки, например, ```высота солнца над горизонтом``` или ```удалённость от водоёма```.\n",
    "\n",
    "\n"
   ]
  },
  {
   "cell_type": "markdown",
   "metadata": {},
   "source": [
    "Этим летом Яндекс выложил в свободный доступ погодный датасет. В данной лабораторной работе мы будем пытаться сделать свой прогноз погоды, основываясь на этих данных.\n",
    "\n",
    "Лицензия на данные доступна [тут](https://github.com/yandex-research/shifts#license)."
   ]
  },
  {
   "cell_type": "markdown",
   "metadata": {},
   "source": [
    "### Метеомодели\n",
    "Что из себя представляет прогноз метеомодели?\n",
    "Фактически, это четырёхмерный тензор.\n",
    "  * Две компоненты -- это широта и долгота. У каждого поставщика прогнозов свои шаги сетки по широте и долготе;\n",
    "  * Вырожденное измерение, которое содержит только одно значение -- время начального состояния атмосферы, с которого будет начато физическое моделирование;\n",
    "  * Последнее измерение - время, на которое сделан прогноз. Каждый поставщик таже имеет свои сетки, но обычно не чаще одного прогноза в час.\n",
    "    \n",
    "Для хранения таких данных был разработан формат файлов https://en.wikipedia.org/wiki/GRIB\n",
    "\n",
    "Например, такие данные для модели GFS можно скачать с сайта https://www.ncei.noaa.gov/products/weather-climate-models/global-forecast\n",
    "\n"
   ]
  },
  {
   "cell_type": "markdown",
   "metadata": {},
   "source": [
    "### Признаки\n",
    "Из первых уст про признаки можно узнать из [видео Лены Волжиной.](https://youtu.be/ECALEJ79KHg?t=578)\n",
    "\n",
    "Их источники можно разделить на следующие группы\n",
    "  * Прогноз глобальных метеомоделей. В выгруженных данных это модели CMC и GFS\n",
    "    * признаки, которые начинаются с ```cmc_```\n",
    "    * признаки, которые начинаются с ```gfs_```\n",
    "  * Прогнозы от региональной модели WRF\n",
    "    * признаки, которые начинаются с ```wrf_```\n",
    "  * Климатические данные (за 40 лет наблюдений)\n",
    "    * признаки, которые начинаются с ```climate_```\n",
    "  * Прочие признаки\n",
    "    * 'sun_elevation' -- та самая высота солнца над горизонтом.\n",
    "    * 'topography_bathymetry' \n",
    "  \n",
    "  \n",
    "Признаки cmc имеют в своём имени 4 числа, которые кодируют физическую величину. Последнее значение -- это высота, на которой величина вычислена.\n",
    "\n",
    "Признаки gfs и wrf имеют человеко-читаемые названия.\n",
    "\n",
    "Еще есть технические атрибуты прогноза поставщика:\n",
    "  * `_available` -- был ли доступен поставщик при прогнозе\n",
    "  * ```_horizon_h``` -- каковым горизонтом для модели поставщика была временная отметка, на которую meteum рассчитвал прогноз.\n",
    "\n",
    "  * ```_next``` -- это значение следущего прогноза данного поставщика для данной точки.\n",
    "\n",
    "Кроме того, есть еще признаки, комбинирующие выше описанные, например\n",
    "  * _grad -- это разница разница между обычным и _next прогнозом температуры.\n",
    "\n",
    "\n",
    "Вот рисунок, который поможет разобраться с этими терминами:\n",
    "<img src=\"images/object_structure.jpg\">"
   ]
  },
  {
   "cell_type": "markdown",
   "metadata": {},
   "source": [
    "### Целевые переменные\n",
    "  * fact_temperature -- температура в данной точке (точка описывается парой координат 'fact_latitude', 'fact_longitude'  и временной отметкой 'fact_time' )\n",
    "  * fact_cwsm_class -- код облачности и осадков\n",
    "<img src=\"./images/cwsm_classes.jpg\">"
   ]
  },
  {
   "cell_type": "markdown",
   "metadata": {},
   "source": [
    "### Факты\n",
    "  Источником истинных меток  в задачах прогнозирования погоды служат данные с метеостанций. Каждая метеостанция имеет свои географические кординаты, а также свою частоту, с которой она замеряет погоду. Некоторые метеостанции замеряют ее лишь 8 раз в день при помощи специалистов-метеорологов. Некоторые являются автоматическими и имеют большую частоту потока фактических показателей."
   ]
  },
  {
   "cell_type": "markdown",
   "metadata": {},
   "source": [
    "### Как был собран dataset\n",
    "Каждое из фактических предсказаний могло быть предсказано с разными заблаговременностями.\n",
    "\n",
    "Было составлено декартово произведение следующих множеств (см. рисунок выше)\n",
    "  * (время факта, координата факта) \n",
    "  * (время составления прогноза) \n",
    "  * (самый свежий прогноз от поставщика, доступный к моменту составления прогноза на время, ближайшее ко времени факта)\n",
    "    \n",
    "Оно было равномерно просемлировано, чтобы его размер стал обозримым.\n",
    "\n",
    "\n"
   ]
  },
  {
   "cell_type": "code",
   "execution_count": null,
   "metadata": {},
   "outputs": [],
   "source": []
  },
  {
   "cell_type": "markdown",
   "metadata": {},
   "source": [
    "## Знакомство с данными"
   ]
  },
  {
   "cell_type": "markdown",
   "metadata": {},
   "source": [
    "Для уменьшения количества данных, возьмем только кусок за сентябрь 2018 года"
   ]
  },
  {
   "cell_type": "code",
   "execution_count": 1,
   "metadata": {},
   "outputs": [],
   "source": [
    "path_csv_2018_09 = 'data_2/train_2018_09.csv'\n",
    "path_csv_2018_10 = 'data_2/train_2018_10.csv'\n",
    "path_csv_2018_11 = 'data_2/train_2018_11.csv'"
   ]
  },
  {
   "cell_type": "code",
   "execution_count": 2,
   "metadata": {},
   "outputs": [],
   "source": [
    "import pandas as pd\n",
    "import matplotlib.pyplot as plt"
   ]
  },
  {
   "cell_type": "code",
   "execution_count": 3,
   "metadata": {},
   "outputs": [],
   "source": [
    "train_2018_09 = pd.read_csv(path_csv_2018_09)\n",
    "train_2018_10 = pd.read_csv(path_csv_2018_10)\n",
    "train_2018_11 = pd.read_csv(path_csv_2018_11)"
   ]
  },
  {
   "cell_type": "code",
   "execution_count": 4,
   "metadata": {},
   "outputs": [],
   "source": [
    "fact_columns = [\n",
    " 'fact_time',\n",
    " 'fact_latitude',\n",
    " 'fact_longitude',\n",
    " 'fact_temperature',\n",
    " 'fact_cwsm_class'\n",
    "]"
   ]
  },
  {
   "cell_type": "code",
   "execution_count": 5,
   "metadata": {},
   "outputs": [],
   "source": [
    "other_columns = [\n",
    " 'topography_bathymetry',\n",
    " 'sun_elevation',\n",
    "]\n",
    "\n",
    "climate_columns = [\n",
    " 'climate_temperature',\n",
    " 'climate_pressure',\n",
    "]\n",
    "\n",
    "climat_zone_column = 'climate'"
   ]
  },
  {
   "cell_type": "code",
   "execution_count": 6,
   "metadata": {},
   "outputs": [],
   "source": [
    "cmc_columns = [\n",
    " 'cmc_0_0_0_1000',\n",
    " 'cmc_0_0_0_2_grad',\n",
    " 'cmc_0_0_0_2_interpolated',\n",
    " 'cmc_0_0_0_2_next',\n",
    " 'cmc_0_0_0_2',\n",
    " 'cmc_0_0_0_500',\n",
    " 'cmc_0_0_0_700',\n",
    " 'cmc_0_0_0_850',\n",
    " 'cmc_0_0_0_925',\n",
    " 'cmc_0_0_6_2',\n",
    " 'cmc_0_0_7_1000',\n",
    " 'cmc_0_0_7_2',\n",
    " 'cmc_0_0_7_500',\n",
    " 'cmc_0_0_7_700',\n",
    " 'cmc_0_0_7_850',\n",
    " 'cmc_0_0_7_925',\n",
    " 'cmc_0_1_0_0',\n",
    " 'cmc_0_1_11_0',\n",
    " 'cmc_0_1_65_0',\n",
    " 'cmc_0_1_66_0',\n",
    " 'cmc_0_1_67_0',\n",
    " 'cmc_0_1_68_0',\n",
    " 'cmc_0_1_7_0',\n",
    " 'cmc_0_2_2_10',\n",
    " 'cmc_0_2_2_1000',\n",
    " 'cmc_0_2_2_500',\n",
    " 'cmc_0_2_2_700',\n",
    " 'cmc_0_2_2_850',\n",
    " 'cmc_0_2_2_925',\n",
    " 'cmc_0_2_3_10',\n",
    " 'cmc_0_2_3_1000',\n",
    " 'cmc_0_2_3_500',\n",
    " 'cmc_0_2_3_700',\n",
    " 'cmc_0_2_3_850',\n",
    " 'cmc_0_2_3_925',\n",
    " 'cmc_0_3_0_0',\n",
    " 'cmc_0_3_0_0_next',\n",
    " 'cmc_0_3_1_0',\n",
    " 'cmc_0_3_5_1000',\n",
    " 'cmc_0_3_5_500',\n",
    " 'cmc_0_3_5_700',\n",
    " 'cmc_0_3_5_850',\n",
    " 'cmc_0_3_5_925',\n",
    " 'cmc_0_6_1_0',\n",
    " 'cmc_available',\n",
    " 'cmc_horizon_h',\n",
    " 'cmc_precipitations',\n",
    " 'cmc_timedelta_s',\n",
    " 'cmc_0_1_65_0_grad',\n",
    " 'cmc_0_1_65_0_next',\n",
    " 'cmc_0_1_66_0_grad',\n",
    " 'cmc_0_1_66_0_next',\n",
    " 'cmc_0_1_67_0_grad',\n",
    " 'cmc_0_1_67_0_next',\n",
    " 'cmc_0_1_68_0_grad',\n",
    " 'cmc_0_1_68_0_next', \n",
    "]"
   ]
  },
  {
   "cell_type": "code",
   "execution_count": 7,
   "metadata": {},
   "outputs": [],
   "source": [
    "gfs_columns = [\n",
    " 'gfs_2m_dewpoint',\n",
    " 'gfs_a_vorticity',\n",
    " 'gfs_available',\n",
    " 'gfs_cloudness',\n",
    " 'gfs_clouds_sea',\n",
    " 'gfs_horizon_h',\n",
    " 'gfs_humidity',\n",
    " 'gfs_precipitable_water',\n",
    " 'gfs_precipitations',\n",
    " 'gfs_pressure',\n",
    " 'gfs_r_velocity',\n",
    " 'gfs_soil_temperature',\n",
    " 'gfs_soil_temperature_available',\n",
    " 'gfs_temperature_10000',\n",
    " 'gfs_temperature_15000',\n",
    " 'gfs_temperature_20000',\n",
    " 'gfs_temperature_25000',\n",
    " 'gfs_temperature_30000',\n",
    " 'gfs_temperature_35000',\n",
    " 'gfs_temperature_40000',\n",
    " 'gfs_temperature_45000',\n",
    " 'gfs_temperature_5000',\n",
    " 'gfs_temperature_50000',\n",
    " 'gfs_temperature_55000',\n",
    " 'gfs_temperature_60000',\n",
    " 'gfs_temperature_65000',\n",
    " 'gfs_temperature_7000',\n",
    " 'gfs_temperature_70000',\n",
    " 'gfs_temperature_75000',\n",
    " 'gfs_temperature_80000',\n",
    " 'gfs_temperature_85000',\n",
    " 'gfs_temperature_90000',\n",
    " 'gfs_temperature_92500',\n",
    " 'gfs_temperature_95000',\n",
    " 'gfs_temperature_97500',\n",
    " 'gfs_temperature_sea',\n",
    " 'gfs_temperature_sea_grad',\n",
    " 'gfs_temperature_sea_interpolated',\n",
    " 'gfs_temperature_sea_next',\n",
    " 'gfs_timedelta_s',\n",
    " 'gfs_total_clouds_cover_high',\n",
    " 'gfs_total_clouds_cover_low',\n",
    " 'gfs_total_clouds_cover_middle',\n",
    " 'gfs_u_wind',\n",
    " 'gfs_v_wind',\n",
    " 'gfs_wind_speed',\n",
    " 'gfs_2m_dewpoint_grad',\n",
    " 'gfs_2m_dewpoint_next',\n",
    " 'gfs_total_clouds_cover_low_grad',\n",
    " 'gfs_total_clouds_cover_low_next'\n",
    "]"
   ]
  },
  {
   "cell_type": "code",
   "execution_count": 8,
   "metadata": {},
   "outputs": [],
   "source": [
    "wrf_columns = [\n",
    " 'wrf_available',\n",
    " 'wrf_t2',\n",
    " 'wrf_t2_next',\n",
    " 'wrf_psfc',\n",
    " 'wrf_rh2',\n",
    " 'wrf_wind_u',\n",
    " 'wrf_wind_v',\n",
    " 'wrf_rain',\n",
    " 'wrf_snow',\n",
    " 'wrf_graupel',\n",
    " 'wrf_hail',\n",
    " 'wrf_t2_interpolated',\n",
    " 'wrf_t2_grad',\n",
    "]"
   ]
  },
  {
   "cell_type": "markdown",
   "metadata": {},
   "source": [
    "Мы будем рассматривать задачи двух типов\n",
    "  * Задачу регрессии предсказания температуры (колонка fact_temperature)\n",
    "  * Задачу классификации -- предсказание кода облачности и осадков (колонка fact_cwsm_class)  "
   ]
  },
  {
   "cell_type": "markdown",
   "metadata": {},
   "source": [
    "Рассмотрим, как метки этих задач расположены на \"карте мира\":"
   ]
  },
  {
   "cell_type": "code",
   "execution_count": 9,
   "metadata": {},
   "outputs": [
    {
     "data": {
      "image/png": "[encoded data removed]",
      "text/plain": [
       "<Figure size 432x288 with 2 Axes>"
      ]
     },
     "metadata": {
      "needs_background": "light"
     },
     "output_type": "display_data"
    }
   ],
   "source": [
    "plt.scatter(\n",
    "    train_2018_09.fact_longitude,\n",
    "    train_2018_09.fact_latitude,\n",
    "    c= train_2018_09.fact_temperature,\n",
    "    alpha=0.1 \n",
    ")\n",
    "plt.ylabel(\"fact_latitude\")\n",
    "plt.xlabel(\"fact_longitude\")\n",
    "plt.colorbar()\n",
    "plt.grid()"
   ]
  },
  {
   "cell_type": "code",
   "execution_count": 10,
   "metadata": {},
   "outputs": [
    {
     "data": {
      "image/png": "[encoded data removed]",
      "text/plain": [
       "<Figure size 432x288 with 2 Axes>"
      ]
     },
     "metadata": {
      "needs_background": "light"
     },
     "output_type": "display_data"
    }
   ],
   "source": [
    "plt.scatter(\n",
    "   train_2018_09.fact_longitude,\n",
    "   train_2018_09.fact_latitude,\n",
    "   c= train_2018_09.fact_cwsm_class,\n",
    "   alpha=0.1 \n",
    ")\n",
    "plt.ylabel(\"fact_latitude\")\n",
    "plt.xlabel(\"fact_longitude\")\n",
    "plt.colorbar()\n",
    "plt.grid()"
   ]
  },
  {
   "cell_type": "code",
   "execution_count": null,
   "metadata": {},
   "outputs": [],
   "source": []
  },
  {
   "cell_type": "markdown",
   "metadata": {},
   "source": [
    "### Задание 1. Исследование данных (1 балл)\n",
    "\n",
    "Проведите исследовательский анализ данных.\n",
    "\n",
    "Задача: понять взаимосвязи между откликами fact_temperature и fact_cwsm_class и признаками"
   ]
  },
  {
   "cell_type": "code",
   "execution_count": null,
   "metadata": {},
   "outputs": [],
   "source": []
  },
  {
   "cell_type": "code",
   "execution_count": null,
   "metadata": {},
   "outputs": [],
   "source": []
  },
  {
   "cell_type": "markdown",
   "metadata": {},
   "source": [
    "## Часть 1\n",
    "Начнем с более простой задачи регрессии."
   ]
  },
  {
   "cell_type": "markdown",
   "metadata": {},
   "source": [
    "Как обычно, сначало вычислим набор тривиальных baseline решений.\n",
    "Будем использовать 2 метрики качества\n",
    "  * RMSE -- основная метрика\n",
    "  * Долю отклонений от факта на 2 градуса -- вспомогательная метрика "
   ]
  },
  {
   "cell_type": "markdown",
   "metadata": {},
   "source": [
    "### Задание 2. Baseline решение (0.5 балла)\n",
    "\n",
    "Построить baseline решения и вычислить метрики на периоде 2018_09:\n",
    " * климат (climate_temperature)\n",
    " * Предсказание поставщиков \n",
    "    * cmc\n",
    "      * 'cmc_0_0_0_2_interpolated'\n",
    "      * 'cmc_0_0_0_2_next'\n",
    "      * 'cmc_0_0_0_2'\n",
    "    * gfs\n",
    "      * 'gfs_temperature_sea'\n",
    "      * 'gfs_temperature_sea_interpolated'\n",
    "      * 'gfs_temperature_sea_next'\n",
    "    * wrf\n",
    "      * 'wrf_t2'\n",
    "      * 'wrf_t2_next'\n",
    "      * 'wrf_t2_interpolated'\n",
    " * Dummy Classifier \n",
    "   * https://scikit-learn.org/stable/modules/generated/sklearn.dummy.DummyClassifier.html\n",
    "     * обучать на 2018_09, тетсировать на 2018_10\n"
   ]
  },
  {
   "cell_type": "code",
   "execution_count": null,
   "metadata": {},
   "outputs": [],
   "source": []
  },
  {
   "cell_type": "code",
   "execution_count": null,
   "metadata": {},
   "outputs": [],
   "source": []
  },
  {
   "cell_type": "markdown",
   "metadata": {},
   "source": [
    "### Задание 3. Решающее дерево (0.5 балла) \n",
    "\n",
    "Подобрать лучшее дерево решений на валидации. Понять, сколько в нём листов, и как долго оно обучается.\n",
    "  * обучающее множество пусть будет 2018_09, а валидационное -- 2018_10"
   ]
  },
  {
   "cell_type": "code",
   "execution_count": null,
   "metadata": {},
   "outputs": [],
   "source": []
  },
  {
   "cell_type": "code",
   "execution_count": null,
   "metadata": {},
   "outputs": [],
   "source": []
  },
  {
   "cell_type": "markdown",
   "metadata": {},
   "source": [
    "### Задание 4. Строим ансамбли (1 балл) \n",
    "\n",
    "Обучить случайный лес [RF] и Extremely Randomized Trees [ERT] (см. тут: https://scikit-learn.org/stable/modules/ensemble.html ) с параметрами, лучшими для одиночного дерева решений (по глубине и прочим параметрам, которые вы варьировали в прошлом задании) и сравнить с моделями Extremely Randomized Tree и случайным лесом с дефолтными параметрами.\n",
    "\n",
    "Число деревьев в ансамбле возьмите для обоих сценариев равным 20. Замерьте время, потраченное на обучение."
   ]
  },
  {
   "cell_type": "code",
   "execution_count": null,
   "metadata": {},
   "outputs": [],
   "source": []
  },
  {
   "cell_type": "code",
   "execution_count": null,
   "metadata": {},
   "outputs": [],
   "source": []
  },
  {
   "cell_type": "markdown",
   "metadata": {},
   "source": [
    "### Задание 5. Квантизация признаков (1 балл) "
   ]
  },
  {
   "cell_type": "markdown",
   "metadata": {},
   "source": [
    "Давайте загрубим (квантизуем) признаки, чтобы алгоритмам построения дерева перебирать меньше порогов.\n",
    "\n",
    "https://scikit-learn.org/stable/modules/generated/sklearn.preprocessing.KBinsDiscretizer.html#sklearn.preprocessing.KBinsDiscretizer\n",
    "\n",
    "Еще раз обучим модели из предыдущего задания и посмотрим, насколько изменяется время.\n",
    "\n",
    "Начинайте с более агрессивных квантизаций: т.е. сильно загрубляйте исходный признак."
   ]
  },
  {
   "cell_type": "code",
   "execution_count": null,
   "metadata": {},
   "outputs": [],
   "source": []
  },
  {
   "cell_type": "code",
   "execution_count": null,
   "metadata": {},
   "outputs": [],
   "source": []
  },
  {
   "cell_type": "markdown",
   "metadata": {},
   "source": [
    "### Задание 6 (0.5 балл) \n",
    "Катбуст умеет квантизовать признаки. Но как transformer в терминах sklearn он не функционирует.\n",
    "Давайте напишем свой класс Трансформер, который будет\n",
    "  * создавать cb.Pool\n",
    "  * вызывать pool.quantize(border_count=32,feature_border_type=\"UniformAndQuantiles\")  \n",
    "  * сохранять pool.save_quantization_borders(\"borders.dat\")\n",
    "  * парсить этот файл, который имеет вполне прозрачную структуру\n",
    "    * индекс признака, граница разбиения, возможно, указание, как быть в nan. \n",
    "  * при помощи np.digitize производить квантизацию\n"
   ]
  },
  {
   "cell_type": "markdown",
   "metadata": {},
   "source": [
    "https://catboost.ai/en/docs/concepts/quantization"
   ]
  },
  {
   "cell_type": "code",
   "execution_count": null,
   "metadata": {},
   "outputs": [],
   "source": []
  },
  {
   "cell_type": "code",
   "execution_count": null,
   "metadata": {},
   "outputs": [],
   "source": []
  },
  {
   "cell_type": "markdown",
   "metadata": {},
   "source": [
    "### Задание 7 (1 балл) \n",
    "Подберите метод квантизации (в Catboost их несколько) и число border`ов , чтобы улучшить модели из Задания 4 (там мы учили случайные леса RF и Extremely Randomized Trees ERT ).\n",
    "\n",
    "Произошло ли ускорение, за счет квантизации?\n",
    "\n",
    "Можем ли мы позволить себе больше глубины в деревьях и число элеметнов в ансамбле? \n",
    "\n",
    "На какой итерации ансамбли перестают улчшаться на валидационной выборке?"
   ]
  },
  {
   "cell_type": "code",
   "execution_count": null,
   "metadata": {},
   "outputs": [],
   "source": []
  },
  {
   "cell_type": "code",
   "execution_count": null,
   "metadata": {},
   "outputs": [],
   "source": []
  },
  {
   "cell_type": "markdown",
   "metadata": {},
   "source": [
    "### Задание 8 (1 балл) \n",
    "Обучите Catboost напрямую. Какого результата удается добиться?"
   ]
  },
  {
   "cell_type": "code",
   "execution_count": null,
   "metadata": {},
   "outputs": [],
   "source": []
  },
  {
   "cell_type": "code",
   "execution_count": null,
   "metadata": {},
   "outputs": [],
   "source": []
  },
  {
   "cell_type": "markdown",
   "metadata": {},
   "source": [
    "### Задание 9 (1 балл) \n",
    "Возьмите лучшие модели из заданий 4, 6 и 8\n",
    "  * сравните важности принаков \n",
    "    * встроенными методами\n",
    "    * при помщи пакета shap"
   ]
  },
  {
   "cell_type": "code",
   "execution_count": null,
   "metadata": {},
   "outputs": [],
   "source": []
  },
  {
   "cell_type": "code",
   "execution_count": null,
   "metadata": {},
   "outputs": [],
   "source": []
  },
  {
   "cell_type": "markdown",
   "metadata": {},
   "source": [
    "### Задание 10 (0.5 балл) \n",
    "В ролике Лена упоминала про ускорение за счет обучения моделей на разных географических регионах. \n",
    "Как первое приближение индикатора принадлежности к тому или иному региону попробуйте использовать имеющуюся категориальную переменную climate.\n",
    "\n",
    "Удалось ли за счет этого увеличить качество?\n",
    "Можно ли придумать что-то лучшее, чем разбиение по climate?"
   ]
  },
  {
   "cell_type": "code",
   "execution_count": null,
   "metadata": {},
   "outputs": [],
   "source": []
  },
  {
   "cell_type": "code",
   "execution_count": null,
   "metadata": {},
   "outputs": [],
   "source": []
  },
  {
   "cell_type": "markdown",
   "metadata": {},
   "source": [
    "## Часть 2\n",
    "Давайте теперь поставим задачу классификации.\n",
    "\n",
    "<img src=\"./images/cwsm_classes.jpg\">"
   ]
  },
  {
   "cell_type": "code",
   "execution_count": 18,
   "metadata": {},
   "outputs": [
    {
     "data": {
      "text/plain": [
       "0.0     175257\n",
       "10.0    148256\n",
       "20.0     81576\n",
       "11.0     13115\n",
       "21.0     12004\n",
       "23.0       170\n",
       "13.0        36\n",
       "22.0        16\n",
       "12.0         6\n",
       "Name: fact_cwsm_class, dtype: int64"
      ]
     },
     "execution_count": 18,
     "metadata": {},
     "output_type": "execute_result"
    }
   ],
   "source": [
    "train_2018_09.fact_cwsm_class.value_counts(dropna=False)"
   ]
  },
  {
   "cell_type": "code",
   "execution_count": 19,
   "metadata": {},
   "outputs": [
    {
     "data": {
      "text/plain": [
       "True     0.941113\n",
       "False    0.058887\n",
       "Name: fact_cwsm_class, dtype: float64"
      ]
     },
     "execution_count": 19,
     "metadata": {},
     "output_type": "execute_result"
    }
   ],
   "source": [
    "(train_2018_09.fact_cwsm_class.astype(\"int8\").isin([0,10,20])).value_counts(normalize=True)"
   ]
  },
  {
   "cell_type": "code",
   "execution_count": 20,
   "metadata": {},
   "outputs": [
    {
     "data": {
      "text/plain": [
       "15.981676770764345"
      ]
     },
     "execution_count": 20,
     "metadata": {},
     "output_type": "execute_result"
    }
   ],
   "source": [
    "0.941113 / 0.058887"
   ]
  },
  {
   "cell_type": "code",
   "execution_count": 21,
   "metadata": {},
   "outputs": [
    {
     "data": {
      "text/plain": [
       "True     0.93364\n",
       "False    0.06636\n",
       "Name: fact_cwsm_class, dtype: float64"
      ]
     },
     "execution_count": 21,
     "metadata": {},
     "output_type": "execute_result"
    }
   ],
   "source": [
    "(train_2018_10.fact_cwsm_class.astype(\"int8\").isin([0,10,20])).value_counts(normalize=True)"
   ]
  },
  {
   "cell_type": "markdown",
   "metadata": {},
   "source": [
    "Видно, что по объектам шанс 1 к 16, что будет дождь."
   ]
  },
  {
   "cell_type": "markdown",
   "metadata": {},
   "source": [
    "Сначала будем решать задачу бинарной классификации"
   ]
  },
  {
   "cell_type": "markdown",
   "metadata": {},
   "source": [
    "Как будем оценивать эту задачу?\n",
    "Раз у нас классы не сбалансированы, то, согласно, например https://ysda_trove.gitlab.io/ml-handbook/chapters/model_evaluation/intro, \n",
    "метрика accuracy/error_rate нам не подойдёт.\n",
    "\n",
    "Давайте будем рассматривать\n",
    "  * сбалансированную точность как основную метрику качества\n",
    "  * Как вспомогательные\n",
    "    * точность предсказания класса 1\n",
    "    * полноту предсказания класса 1\n",
    "    * F1-меру\n",
    "  \n",
    "Для начала порог отсечения при принятии решения к какому классу относится предскзаание будем брать 0.5"
   ]
  },
  {
   "cell_type": "markdown",
   "metadata": {},
   "source": [
    "### Задание 11 (0.5 балла) \n",
    " \n",
    "Постройте baseline решения:\n",
    "  \n",
    "* Dummy Classifier \n",
    "\n",
    "* дерево решений\n",
    "\n",
    "По валидационной выборке подберите лучшие параметры\n",
    "    "
   ]
  },
  {
   "cell_type": "code",
   "execution_count": null,
   "metadata": {},
   "outputs": [],
   "source": []
  },
  {
   "cell_type": "markdown",
   "metadata": {},
   "source": [
    "### Задание 12 (2.5 балла) \n",
    "  * обучите RF-ERT на оригинальных признаках\n",
    "  * обучите RF-ERT поверх бинаризации, которая была лучшей в задачи регрессии\n",
    "  * обучите catboost\n",
    "  * сравните качество по рассмотренным ранее метрикам (основной и дополнительным)\n",
    "  * сравните важности принаков \n",
    "    * встроенными методами\n",
    "    * при помщи пакета shap"
   ]
  },
  {
   "cell_type": "code",
   "execution_count": null,
   "metadata": {},
   "outputs": [],
   "source": []
  },
  {
   "cell_type": "code",
   "execution_count": null,
   "metadata": {},
   "outputs": [],
   "source": []
  },
  {
   "cell_type": "markdown",
   "metadata": {},
   "source": [
    "### Задание 13. \"Протухание модели\" (0.5 балла) \n",
    "  \n",
    "  Давайте узнаем, происходит ли устаревание (\"протухание\") модели. \n",
    "    \n",
    "  Расмотрите, как модели из регрессионной и классификационной задач предсказывают на 2018_11, 2018_12 и 2019_01.\n",
    "  \n",
    "  Происходит ли деградация?"
   ]
  },
  {
   "cell_type": "code",
   "execution_count": null,
   "metadata": {},
   "outputs": [],
   "source": []
  },
  {
   "cell_type": "code",
   "execution_count": null,
   "metadata": {},
   "outputs": [],
   "source": []
  },
  {
   "cell_type": "markdown",
   "metadata": {},
   "source": [
    "## Калибровка классификатора\n",
    "\n",
    "Рассмотрим в задачу, где целевой метрикой является *logloss*. В этом случае необходимо, чтобы классификатор умел предсказывать вероятность принадлежности к классу. К сожалению, на практике часто получается так, что либо классификатор не обладает желаемым свойством (например, SVM без специальных настроек), либо метод *predict_proba* возвращает некорректную вероятность (например, случайный лес возвращает среднее арифметическое вероятностей от каждого дерева, которое не обязано являться корректной вероятностью, подробнее [здесь](http://people.dsv.su.se/~henke/papers/bostrom08b.pdf)).\n",
    "\n",
    "В этом случае возможны несколько подходов: \n",
    " - Заменить классификатор на тот, который умеет предсказывать вероятности.\n",
    " - Воспользоваться калибровкой ответов.\n",
    " \n",
    "В общем случае первый подход не самый удачный выбор, так как накладывает ограничения на модели, которые можно использовать. Поэтому рассмотрим второй более подробно. По умолчанию SVM может вычислять отступ от заданного объекта до разделяющей гиперплоскости, а не возвращать вероятности. После чего можно обучить преобразование, которое искажает возвращаемое значение в вероятность  — это и называется **калибровкой**. Есть несколько известных методов калибровки:\n",
    " - Калибровка Платта.\n",
    " - Изотоническая регрессия.\n",
    "\n",
    "Обратите внимание, что преобразование необходимо обучать на отложенной выборке (то есть классификатор и калибровка должны обучаться на разных подмножествах данных), иначе можно переобучиться. Калибровку можно применять к любым классификаторам (где это разумно и необходимо), особенно к тем, которые не оптимизируют logloss явно.\n",
    "\n",
    "Для калибровки классификатора в sklearn возможны два подхода:\n",
    " - взять уже обученный классификатор и откалибровать его на отложенной выборке\n",
    " - откалибровать по кросс-валидации: калибровочному классификатору передается вся обучающая выборка, которая внутри разбивается на обучающую и калибровочную, после чего происходит усреднение вероятностей по фолдам.\n",
    " \n",
    "Подробнее об этом можно прочитать в [документации](http://scikit-learn.org/stable/modules/generated/sklearn.calibration.CalibratedClassifierCV.html#sklearn.calibration.CalibratedClassifierCV). Также [здесь](https://jmetzen.github.io/2015-04-14/calibration.html) можно узнать подробности о калибровке в sklearn от автора.\n",
    "\n",
    "Замечание: выше написано, что SVM по умолчанию не возвращает вероятности. Если же заглянуть в документацию [SVC](http://scikit-learn.org/stable/modules/generated/sklearn.svm.SVC.html), то можно найти параметр *probability*. Если установить его равным *True*, то у такого классификатора можно вызвать метод *predict_proba* и получить оценки вероятностей. В библиотеке реализована калибровка Платта и с классификатором проделывается примерно тоже самое, что было описано выше. Использование этого параметра замедляет процесс обучения, зато позволяет сразу же использовать данный классификатор для оценивания вероятностей. Обратите внимание, что у класса [LinearSVC](http://scikit-learn.org/stable/modules/generated/sklearn.svm.LinearSVC.html) такой опции нет."
   ]
  },
  {
   "cell_type": "markdown",
   "metadata": {},
   "source": [
    "### Задание 14 (0.5 балла) \n",
    "  Вспомним, что мы не подбирали порог, по которому классификаторы превращают оценку вероятности принадлежности к первому классу \n",
    "  \n",
    "  Давайте оценим, насколько хорошо калиброваны наши классификаторы из Задания 11 на 2018_11\n",
    "  \n",
    "    \n",
    "  ссылка на главу учебника\n",
    "https://ysda_trove.gitlab.io/ml-handbook/chapters/prob_ML/calibration"
   ]
  },
  {
   "cell_type": "markdown",
   "metadata": {},
   "source": [
    "https://scikit-learn.org/stable/auto_examples/calibration/plot_calibration_curve.html#sphx-glr-auto-examples-calibration-plot-calibration-curve-py"
   ]
  },
  {
   "cell_type": "markdown",
   "metadata": {},
   "source": [
    "https://dyakonov.org/2020/03/27/проблема-калибровки-уверенности/"
   ]
  },
  {
   "cell_type": "code",
   "execution_count": null,
   "metadata": {},
   "outputs": [],
   "source": []
  },
  {
   "cell_type": "code",
   "execution_count": null,
   "metadata": {},
   "outputs": [],
   "source": []
  },
  {
   "cell_type": "markdown",
   "metadata": {},
   "source": [
    "### Задание 15 (1 балл) \n",
    "\n",
    "Давайте откалибруем классификаторы из задания 11 на 2018_10 и вновь посмотрим на качество их калибровки на 2018_11.\n",
    "\n",
    "Построим кривые точность-полнота для класса 1 и класса 0 у некалиброванных и калиброванных моделей. Отличаются ли они?"
   ]
  },
  {
   "cell_type": "code",
   "execution_count": null,
   "metadata": {},
   "outputs": [],
   "source": []
  },
  {
   "cell_type": "code",
   "execution_count": null,
   "metadata": {},
   "outputs": [],
   "source": []
  },
  {
   "cell_type": "markdown",
   "metadata": {},
   "source": [
    "Мы попробовали два типа ансамблей: случайный лес (бэггинг) и градиентный бустинг. Время что-нибудь настекать!\n"
   ]
  },
  {
   "cell_type": "markdown",
   "metadata": {},
   "source": [
    "Описание того, как строить ансамбли типа стекинг можно найти по слудующим ссылкам\n",
    "  * На лекции https://lk.yandexdataschool.ru/courses/2021-autumn/7.936-machine-learning-1/classes/7718/\n",
    "  * В учебнике https://ysda_trove.gitlab.io/ml-handbook/chapters/ensembles/intro#стекинг\n",
    "  * В статье https://dyakonov.org/2017/03/10/cтекинг-stacking-и-блендинг-blending/"
   ]
  },
  {
   "cell_type": "markdown",
   "metadata": {},
   "source": [
    "### Задание 16 (2 балла) \n",
    "    \n",
    "  Какие базовые модели можно использовать:\n",
    "    * лучшие модели из задания 11\n",
    "    * давайте обучим логистическую регрессию\n",
    "    * по желанию, попробуйте нейросеть\n",
    "    \n",
    "  Попробуйте брать 2-3 разные базовые модели первого уровня, а в качестве модели второго уровня пропробуйте ERT и catboost.\n",
    "    \n",
    "  Весь ансабль должен быть обучен на 2018_09, т.е. нужно применять cross_val_predict.  \n",
    "  Почему так следует делать, можно вспомнить, заглянув в соответствующий раздел учебника  \n",
    "  https://ysda_trove.gitlab.io/ml-handbook/chapters/ensembles/intro"
   ]
  },
  {
   "cell_type": "code",
   "execution_count": null,
   "metadata": {},
   "outputs": [],
   "source": []
  }
 ],
 "metadata": {
  "kernelspec": {
   "display_name": "Python 3 (ipykernel)",
   "language": "python",
   "name": "python3"
  },
  "language_info": {
   "codemirror_mode": {
    "name": "ipython",
    "version": 3
   },
   "file_extension": ".py",
   "mimetype": "text/x-python",
   "name": "python",
   "nbconvert_exporter": "python",
   "pygments_lexer": "ipython3",
   "version": "3.9.7"
  }
 },
 "nbformat": 4,
 "nbformat_minor": 2
}
