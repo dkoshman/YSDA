{
 "cells": [
  {
   "cell_type": "markdown",
   "metadata": {},
   "source": [
    "# Лабораторная работа 4. Часть 1. Ранжирование.\n",
    "\n",
    "\n",
    "\n",
    "Результат лабораторной работы − отчет. Мы предпочитаем принимать отчеты в формате ноутбуков IPython (ipynb-файл). Постарайтесь сделать ваш отчет интересным рассказом, последовательно отвечающим на вопросы из заданий. Помимо ответов на вопросы, в отчете так же должен быть код, однако чем меньше кода, тем лучше всем: нам − меньше проверять, вам — проще найти ошибку или дополнить эксперимент. При проверке оценивается четкость ответов на вопросы, аккуратность отчета и кода.\n",
    "\n",
    "\n",
    "### Оценивание и штрафы\n",
    "Каждая из задач имеет определенную «стоимость» (указана в скобках около задачи). Максимально допустимая оценка за работу — 9 баллов. Сдавать задание после указанного в lk срока сдачи нельзя. «Похожие» решения считаются плагиатом и все задействованные студенты (в том числе те, у кого списали) не могут получить за него больше 0 баллов и понижают карму (подробнее о плагиате см. на странице курса). Если вы нашли решение какого-то из заданий в открытом источнике, необходимо прислать ссылку на этот источник (скорее всего вы будете не единственным, кто это нашел, поэтому чтобы исключить подозрение в плагиате, нам необходима ссылка на источник).\n",
    "\n"
   ]
  },
  {
   "cell_type": "markdown",
   "metadata": {},
   "source": [
    "## Знакомство с данными\n",
    "\n",
    "### Ранжирование организаций по пользовательскому запросу\n",
    "\n",
    "Что мы обычно делаем, когда нам нужно найти определённое место, но не знаем его местоположения? Используем поиск на картах.\n",
    "\n",
    "В этой лабораторной работе вам будет необходимо построить небольшую поисковую систему, позволяющую отранжировать организации по запросу пользователя.\n",
    "\n",
    "Для обучения вам даны 2000 запросов и более 13 тысяч найденных по ним организаций. Для каждой пары \"запрос — организация\" была посчитана релевантность, по которой и происходит ранжирование."
   ]
  },
  {
   "cell_type": "markdown",
   "metadata": {},
   "source": [
    "**(2 балла) Задание 1.** Загрузите [данные](https://disk.yandex.ru/d/Bf3P4H8FDYe7-g) о запросах и их релевантности (*train.csv*), а также информацию об организациях (*train_org_information.json*) и рубриках (*train_rubric_information.json*)\n",
    "\n",
    "Для дальнейших экспериментов необходимо посчитать небольшой набор базовых факторов. С использованием информации о запросах и организациях, посчитайте факторы, которые на ваш взгляд будут полезными для предсказания релевантности.\n",
    "\n",
    "Примерами текстовых факторов могут служить:\n",
    " - кол-во слов в запросе и названии организации;\n",
    " - пословные/N-граммные пересечения слов запроса и названия организации (также можно использовать синонимы названия организации и адрес организации): кол-во слов в пересечении, [мера Жаккара](https://en.wikipedia.org/wiki/Jaccard_index) и пр.;\n",
    " - кол-во различных синонимичных названий организации (поле *names* в описании организации);\n",
    " - One-hot-encoded язык запроса.\n",
    " \n",
    "По информации о географическом положении:\n",
    " - факт совпадения региона, где задавался запрос и региона организации;\n",
    " - координаты показанной области;\n",
    " - размеры показанной области;\n",
    " - меры, характеризующие близость координат организации к показанному окну: расстояние до центра области и другие.\n",
    " \n",
    "Факторы, описывающие организацию:\n",
    " - one-hot-encoding фактор cтраны или региона организации (важно: не используйте one-hot-encoding факторы, в которых больше 10 значений; если в факторе слишком много значений, ограничьтесь, например, только самыми популярными категориями)\n",
    " - кол-во рабочих дней в неделе и общая продолжительность работы (поле *work_intervals* в описании организации)\n",
    " - кол-во рубрик (поле *rubrics* в описании организации)\n",
    " \n",
    "![](https://miro.medium.com/max/1500/0*FwubnnoNlt6Coo9j.png)\n",
    "\n",
    "В этом задании не нужно использовать многомерные представления текстовой информации (tfidf и прочие embeddings) и информацию о кликах (*train_clicks_information.json*). Придумывать сверхсложные факторы тоже необязательно.\n",
    "\n",
    "Вы можете реализовать описанные выше факторы и/или придумать свои. Но зачастую такие простые признаки могут приносить наибольшую пользу.\n",
    "\n",
    "В итоге у вас должно получиться от 15 до 50 факторов, характеризующих запрос и организацию и покрывающих основные источники данных (кроме кликов). Это наш основной датасет, который будет использоваться в экспериментах.\n",
    "\n"
   ]
  },
  {
   "cell_type": "markdown",
   "metadata": {
    "ExecuteTime": {
     "end_time": "2022-06-10T11:02:35.531626Z",
     "start_time": "2022-06-10T11:02:35.525935Z"
    }
   },
   "source": [
    "---\n",
    "### Preprocessing"
   ]
  },
  {
   "cell_type": "code",
   "execution_count": 1,
   "metadata": {
    "ExecuteTime": {
     "end_time": "2022-07-10T08:23:27.170539Z",
     "start_time": "2022-07-10T08:23:25.503936Z"
    }
   },
   "outputs": [
    {
     "data": {
      "application/javascript": [
       "\n",
       "            setTimeout(function() {\n",
       "                var nbb_cell_id = 1;\n",
       "                var nbb_unformatted_code = \"%load_ext nb_black\\n\\nimport json\\nimport pickle\\nimport os\\nimport requests\\nimport time\\n\\nimport matplotlib.pyplot as plt\\nimport numpy as np\\nimport pandas as pd\\n\\nfrom mpl_toolkits.basemap import Basemap\\nfrom sklearn.feature_extraction.text import CountVectorizer\\nfrom urllib.parse import urlencode\\n\\n\\ndef parse_series_of_lists_of_dicts(\\n    series, record_names=(\\\"locale\\\", \\\"value\\\"), category_column=\\\"locale\\\"\\n):\\n    index_name = series.index.name or \\\"index\\\"\\n    series_name = series.name or 0\\n    df = (\\n        pd.json_normalize(\\n            series.to_frame().reset_index().to_dict(orient=\\\"records\\\"),\\n            record_path=[series_name],\\n            meta=[index_name],\\n        )\\n        .rename(columns={f\\\"value.{i}\\\": i for i in record_names})\\n        .astype({index_name: int, category_column: \\\"category\\\"})\\n        .set_index(index_name)\\n    )\\n\\n    return df\\n\\n\\ndef preprocess_train_csv(data_dir):\\n    train = pd.read_csv(os.path.join(data_dir, \\\"train.csv\\\"))\\n    train = pd.concat(\\n        [\\n            train.drop([\\\"window_center\\\", \\\"window_size\\\"], axis=\\\"columns\\\"),\\n            train[\\\"window_center\\\"]\\n            .str.split(\\\",\\\", expand=True)\\n            .astype(float)\\n            .rename(\\n                columns={\\n                    0: f\\\"window_center_longitude\\\",\\n                    1: f\\\"window_center_latitude\\\",\\n                }\\n            ),\\n            train[\\\"window_size\\\"]\\n            .str.split(\\\",\\\", expand=True)\\n            .astype(float)\\n            .rename(\\n                columns={\\n                    0: f\\\"window_size_longitude\\\",\\n                    1: f\\\"window_size_latitude\\\",\\n                }\\n            ),\\n        ],\\n        axis=\\\"columns\\\",\\n    ).rename(columns={\\\"region\\\": \\\"geo_id\\\"})\\n\\n    return train\\n\\n\\ndef preprocess_train_org_information_csv(data_dir):\\n    orgs = pd.read_json(\\n        os.path.join(data_dir, \\\"train_org_information/train_org_information.json\\\"),\\n        orient=\\\"index\\\",\\n        convert_axes=False,\\n    )\\n    orgs.index = orgs.index.astype(int).rename(\\\"org_id\\\")\\n\\n    org_names = parse_series_of_lists_of_dicts(orgs[\\\"names\\\"])\\n\\n    rubrics = orgs[\\\"rubrics\\\"].explode().astype(int).to_frame()\\n\\n    work_intervals = parse_series_of_lists_of_dicts(\\n        orgs[\\\"work_intervals\\\"],\\n        category_column=\\\"day\\\",\\n    )\\n    work_intervals = pd.concat(\\n        [\\n            (g := work_intervals.groupby([\\\"org_id\\\", \\\"day\\\"]))[\\n                \\\"time_minutes_begin\\\"\\n            ].min(),\\n            g[\\\"time_minutes_end\\\"].max(),\\n        ],\\n        axis=\\\"columns\\\",\\n    )\\n    work_intervals[\\\"work_intervals\\\"] = (\\n        work_intervals[[\\\"time_minutes_begin\\\", \\\"time_minutes_end\\\"]]\\n        .loc[work_intervals[\\\"time_minutes_begin\\\"].notna()]\\n        .agg(tuple, axis=\\\"columns\\\")\\n    )\\n    work_intervals = work_intervals.reset_index().pivot(\\n        index=\\\"org_id\\\", columns=\\\"day\\\", values=\\\"work_intervals\\\"\\n    )\\n    work_intervals = (\\n        work_intervals.fillna(\\n            {column: work_intervals[\\\"everyday\\\"] for column in work_intervals.columns}\\n        )\\n        .fillna(\\n            {\\n                column: work_intervals[\\\"weekdays\\\"]\\n                for column in [\\\"monday\\\", \\\"tuesday\\\", \\\"wednesday\\\", \\\"thursday\\\", \\\"friday\\\"]\\n            }\\n        )\\n        .fillna(\\n            {column: work_intervals[\\\"weekend\\\"] for column in [\\\"saturday\\\", \\\"sunday\\\"]}\\n        )\\n        .drop([\\\"everyday\\\", \\\"weekdays\\\", \\\"weekend\\\"], axis=\\\"columns\\\")\\n    )\\n\\n    org_address = (\\n        pd.json_normalize(orgs[\\\"address\\\"])\\n        .set_index(orgs.index)\\n        .rename(\\n            columns={\\\"formatted.locale\\\": \\\"address_locale\\\", \\\"formatted.value\\\": \\\"address\\\"}\\n        )\\n        .astype(\\n            {\\n                \\\"region_code\\\": \\\"category\\\",\\n                \\\"geo_id\\\": \\\"int64\\\",\\n                \\\"address_locale\\\": \\\"category\\\",\\n            }\\n        )\\n        .drop([\\\"pos.type\\\", \\\"postal_code\\\"], axis=1)\\n    )\\n    org_address[\\\"region_code\\\"] = (\\n        org_address[\\\"region_code\\\"].str.lower().astype(\\\"category\\\")\\n    )\\n\\n    orgs = pd.concat(\\n        [\\n            orgs.drop(\\n                [\\\"names\\\", \\\"rubrics\\\", \\\"work_intervals\\\", \\\"address\\\"], axis=\\\"columns\\\"\\n            ),\\n            org_address.drop(\\\"pos.coordinates\\\", axis=\\\"columns\\\"),\\n            pd.DataFrame(\\n                org_address[\\\"pos.coordinates\\\"].to_list(),\\n                columns=[\\\"longitude\\\", \\\"latitude\\\"],\\n                index=orgs.index,\\n            ),\\n            work_intervals,\\n        ],\\n        axis=\\\"columns\\\",\\n    )\\n\\n    return orgs, org_names, rubrics\\n\\n\\ndef preprocess_train_rubric_information_json(data_dir):\\n    train_rubric_information = pd.read_json(\\n        os.path.join(\\n            data_dir, \\\"train_rubric_information/train_rubric_information.json\\\"\\n        ),\\n        orient=\\\"index\\\",\\n    ).rename_axis(\\\"rubric_id\\\")\\n\\n    rubric_names = parse_series_of_lists_of_dicts(train_rubric_information[\\\"names\\\"])\\n    rubric_keywords = parse_series_of_lists_of_dicts(\\n        train_rubric_information[\\\"keywords\\\"]\\n    )\\n    rubric_phrases = parse_series_of_lists_of_dicts(train_rubric_information[\\\"phrases\\\"])\\n    rubric_descriptions = parse_series_of_lists_of_dicts(\\n        train_rubric_information[\\\"descriptions\\\"]\\n    )\\n    return rubric_names, rubric_keywords, rubric_phrases, rubric_descriptions\";\n",
       "                var nbb_formatted_code = \"%load_ext nb_black\\n\\nimport json\\nimport pickle\\nimport os\\nimport requests\\nimport time\\n\\nimport matplotlib.pyplot as plt\\nimport numpy as np\\nimport pandas as pd\\n\\nfrom mpl_toolkits.basemap import Basemap\\nfrom sklearn.feature_extraction.text import CountVectorizer\\nfrom urllib.parse import urlencode\\n\\n\\ndef parse_series_of_lists_of_dicts(\\n    series, record_names=(\\\"locale\\\", \\\"value\\\"), category_column=\\\"locale\\\"\\n):\\n    index_name = series.index.name or \\\"index\\\"\\n    series_name = series.name or 0\\n    df = (\\n        pd.json_normalize(\\n            series.to_frame().reset_index().to_dict(orient=\\\"records\\\"),\\n            record_path=[series_name],\\n            meta=[index_name],\\n        )\\n        .rename(columns={f\\\"value.{i}\\\": i for i in record_names})\\n        .astype({index_name: int, category_column: \\\"category\\\"})\\n        .set_index(index_name)\\n    )\\n\\n    return df\\n\\n\\ndef preprocess_train_csv(data_dir):\\n    train = pd.read_csv(os.path.join(data_dir, \\\"train.csv\\\"))\\n    train = pd.concat(\\n        [\\n            train.drop([\\\"window_center\\\", \\\"window_size\\\"], axis=\\\"columns\\\"),\\n            train[\\\"window_center\\\"]\\n            .str.split(\\\",\\\", expand=True)\\n            .astype(float)\\n            .rename(\\n                columns={\\n                    0: f\\\"window_center_longitude\\\",\\n                    1: f\\\"window_center_latitude\\\",\\n                }\\n            ),\\n            train[\\\"window_size\\\"]\\n            .str.split(\\\",\\\", expand=True)\\n            .astype(float)\\n            .rename(\\n                columns={\\n                    0: f\\\"window_size_longitude\\\",\\n                    1: f\\\"window_size_latitude\\\",\\n                }\\n            ),\\n        ],\\n        axis=\\\"columns\\\",\\n    ).rename(columns={\\\"region\\\": \\\"geo_id\\\"})\\n\\n    return train\\n\\n\\ndef preprocess_train_org_information_csv(data_dir):\\n    orgs = pd.read_json(\\n        os.path.join(data_dir, \\\"train_org_information/train_org_information.json\\\"),\\n        orient=\\\"index\\\",\\n        convert_axes=False,\\n    )\\n    orgs.index = orgs.index.astype(int).rename(\\\"org_id\\\")\\n\\n    org_names = parse_series_of_lists_of_dicts(orgs[\\\"names\\\"])\\n\\n    rubrics = orgs[\\\"rubrics\\\"].explode().astype(int).to_frame()\\n\\n    work_intervals = parse_series_of_lists_of_dicts(\\n        orgs[\\\"work_intervals\\\"],\\n        category_column=\\\"day\\\",\\n    )\\n    work_intervals = pd.concat(\\n        [\\n            (g := work_intervals.groupby([\\\"org_id\\\", \\\"day\\\"]))[\\n                \\\"time_minutes_begin\\\"\\n            ].min(),\\n            g[\\\"time_minutes_end\\\"].max(),\\n        ],\\n        axis=\\\"columns\\\",\\n    )\\n    work_intervals[\\\"work_intervals\\\"] = (\\n        work_intervals[[\\\"time_minutes_begin\\\", \\\"time_minutes_end\\\"]]\\n        .loc[work_intervals[\\\"time_minutes_begin\\\"].notna()]\\n        .agg(tuple, axis=\\\"columns\\\")\\n    )\\n    work_intervals = work_intervals.reset_index().pivot(\\n        index=\\\"org_id\\\", columns=\\\"day\\\", values=\\\"work_intervals\\\"\\n    )\\n    work_intervals = (\\n        work_intervals.fillna(\\n            {column: work_intervals[\\\"everyday\\\"] for column in work_intervals.columns}\\n        )\\n        .fillna(\\n            {\\n                column: work_intervals[\\\"weekdays\\\"]\\n                for column in [\\\"monday\\\", \\\"tuesday\\\", \\\"wednesday\\\", \\\"thursday\\\", \\\"friday\\\"]\\n            }\\n        )\\n        .fillna(\\n            {column: work_intervals[\\\"weekend\\\"] for column in [\\\"saturday\\\", \\\"sunday\\\"]}\\n        )\\n        .drop([\\\"everyday\\\", \\\"weekdays\\\", \\\"weekend\\\"], axis=\\\"columns\\\")\\n    )\\n\\n    org_address = (\\n        pd.json_normalize(orgs[\\\"address\\\"])\\n        .set_index(orgs.index)\\n        .rename(\\n            columns={\\\"formatted.locale\\\": \\\"address_locale\\\", \\\"formatted.value\\\": \\\"address\\\"}\\n        )\\n        .astype(\\n            {\\n                \\\"region_code\\\": \\\"category\\\",\\n                \\\"geo_id\\\": \\\"int64\\\",\\n                \\\"address_locale\\\": \\\"category\\\",\\n            }\\n        )\\n        .drop([\\\"pos.type\\\", \\\"postal_code\\\"], axis=1)\\n    )\\n    org_address[\\\"region_code\\\"] = (\\n        org_address[\\\"region_code\\\"].str.lower().astype(\\\"category\\\")\\n    )\\n\\n    orgs = pd.concat(\\n        [\\n            orgs.drop(\\n                [\\\"names\\\", \\\"rubrics\\\", \\\"work_intervals\\\", \\\"address\\\"], axis=\\\"columns\\\"\\n            ),\\n            org_address.drop(\\\"pos.coordinates\\\", axis=\\\"columns\\\"),\\n            pd.DataFrame(\\n                org_address[\\\"pos.coordinates\\\"].to_list(),\\n                columns=[\\\"longitude\\\", \\\"latitude\\\"],\\n                index=orgs.index,\\n            ),\\n            work_intervals,\\n        ],\\n        axis=\\\"columns\\\",\\n    )\\n\\n    return orgs, org_names, rubrics\\n\\n\\ndef preprocess_train_rubric_information_json(data_dir):\\n    train_rubric_information = pd.read_json(\\n        os.path.join(\\n            data_dir, \\\"train_rubric_information/train_rubric_information.json\\\"\\n        ),\\n        orient=\\\"index\\\",\\n    ).rename_axis(\\\"rubric_id\\\")\\n\\n    rubric_names = parse_series_of_lists_of_dicts(train_rubric_information[\\\"names\\\"])\\n    rubric_keywords = parse_series_of_lists_of_dicts(\\n        train_rubric_information[\\\"keywords\\\"]\\n    )\\n    rubric_phrases = parse_series_of_lists_of_dicts(train_rubric_information[\\\"phrases\\\"])\\n    rubric_descriptions = parse_series_of_lists_of_dicts(\\n        train_rubric_information[\\\"descriptions\\\"]\\n    )\\n    return rubric_names, rubric_keywords, rubric_phrases, rubric_descriptions\";\n",
       "                var nbb_cells = Jupyter.notebook.get_cells();\n",
       "                for (var i = 0; i < nbb_cells.length; ++i) {\n",
       "                    if (nbb_cells[i].input_prompt_number == nbb_cell_id) {\n",
       "                        if (nbb_cells[i].get_text() == nbb_unformatted_code) {\n",
       "                             nbb_cells[i].set_text(nbb_formatted_code);\n",
       "                        }\n",
       "                        break;\n",
       "                    }\n",
       "                }\n",
       "            }, 500);\n",
       "            "
      ],
      "text/plain": [
       "<IPython.core.display.Javascript object>"
      ]
     },
     "metadata": {},
     "output_type": "display_data"
    }
   ],
   "source": [
    "%load_ext nb_black\n",
    "\n",
    "import json\n",
    "import pickle\n",
    "import os\n",
    "import requests\n",
    "import time\n",
    "\n",
    "import matplotlib.pyplot as plt\n",
    "import numpy as np\n",
    "import pandas as pd\n",
    "\n",
    "from mpl_toolkits.basemap import Basemap\n",
    "from sklearn.feature_extraction.text import CountVectorizer\n",
    "from urllib.parse import urlencode\n",
    "\n",
    "\n",
    "def parse_series_of_lists_of_dicts(\n",
    "    series, record_names=(\"locale\", \"value\"), category_column=\"locale\"\n",
    "):\n",
    "    index_name = series.index.name or \"index\"\n",
    "    series_name = series.name or 0\n",
    "    df = (\n",
    "        pd.json_normalize(\n",
    "            series.to_frame().reset_index().to_dict(orient=\"records\"),\n",
    "            record_path=[series_name],\n",
    "            meta=[index_name],\n",
    "        )\n",
    "        .rename(columns={f\"value.{i}\": i for i in record_names})\n",
    "        .astype({index_name: int, category_column: \"category\"})\n",
    "        .set_index(index_name)\n",
    "    )\n",
    "\n",
    "    return df\n",
    "\n",
    "\n",
    "def preprocess_train_csv(data_dir):\n",
    "    train = pd.read_csv(os.path.join(data_dir, \"train.csv\"))\n",
    "    train = pd.concat(\n",
    "        [\n",
    "            train.drop([\"window_center\", \"window_size\"], axis=\"columns\"),\n",
    "            train[\"window_center\"]\n",
    "            .str.split(\",\", expand=True)\n",
    "            .astype(float)\n",
    "            .rename(\n",
    "                columns={\n",
    "                    0: f\"window_center_longitude\",\n",
    "                    1: f\"window_center_latitude\",\n",
    "                }\n",
    "            ),\n",
    "            train[\"window_size\"]\n",
    "            .str.split(\",\", expand=True)\n",
    "            .astype(float)\n",
    "            .rename(\n",
    "                columns={\n",
    "                    0: f\"window_size_longitude\",\n",
    "                    1: f\"window_size_latitude\",\n",
    "                }\n",
    "            ),\n",
    "        ],\n",
    "        axis=\"columns\",\n",
    "    ).rename(columns={\"region\": \"geo_id\"})\n",
    "\n",
    "    return train\n",
    "\n",
    "\n",
    "def preprocess_train_org_information_csv(data_dir):\n",
    "    orgs = pd.read_json(\n",
    "        os.path.join(data_dir, \"train_org_information/train_org_information.json\"),\n",
    "        orient=\"index\",\n",
    "        convert_axes=False,\n",
    "    )\n",
    "    orgs.index = orgs.index.astype(int).rename(\"org_id\")\n",
    "\n",
    "    org_names = parse_series_of_lists_of_dicts(orgs[\"names\"])\n",
    "\n",
    "    rubrics = orgs[\"rubrics\"].explode().astype(int).to_frame()\n",
    "\n",
    "    work_intervals = parse_series_of_lists_of_dicts(\n",
    "        orgs[\"work_intervals\"],\n",
    "        category_column=\"day\",\n",
    "    )\n",
    "    work_intervals = pd.concat(\n",
    "        [\n",
    "            (g := work_intervals.groupby([\"org_id\", \"day\"]))[\n",
    "                \"time_minutes_begin\"\n",
    "            ].min(),\n",
    "            g[\"time_minutes_end\"].max(),\n",
    "        ],\n",
    "        axis=\"columns\",\n",
    "    )\n",
    "    work_intervals[\"work_intervals\"] = (\n",
    "        work_intervals[[\"time_minutes_begin\", \"time_minutes_end\"]]\n",
    "        .loc[work_intervals[\"time_minutes_begin\"].notna()]\n",
    "        .agg(tuple, axis=\"columns\")\n",
    "    )\n",
    "    work_intervals = work_intervals.reset_index().pivot(\n",
    "        index=\"org_id\", columns=\"day\", values=\"work_intervals\"\n",
    "    )\n",
    "    work_intervals = (\n",
    "        work_intervals.fillna(\n",
    "            {column: work_intervals[\"everyday\"] for column in work_intervals.columns}\n",
    "        )\n",
    "        .fillna(\n",
    "            {\n",
    "                column: work_intervals[\"weekdays\"]\n",
    "                for column in [\"monday\", \"tuesday\", \"wednesday\", \"thursday\", \"friday\"]\n",
    "            }\n",
    "        )\n",
    "        .fillna(\n",
    "            {column: work_intervals[\"weekend\"] for column in [\"saturday\", \"sunday\"]}\n",
    "        )\n",
    "        .drop([\"everyday\", \"weekdays\", \"weekend\"], axis=\"columns\")\n",
    "    )\n",
    "\n",
    "    org_address = (\n",
    "        pd.json_normalize(orgs[\"address\"])\n",
    "        .set_index(orgs.index)\n",
    "        .rename(\n",
    "            columns={\"formatted.locale\": \"address_locale\", \"formatted.value\": \"address\"}\n",
    "        )\n",
    "        .astype(\n",
    "            {\n",
    "                \"region_code\": \"category\",\n",
    "                \"geo_id\": \"int64\",\n",
    "                \"address_locale\": \"category\",\n",
    "            }\n",
    "        )\n",
    "        .drop([\"pos.type\", \"postal_code\"], axis=1)\n",
    "    )\n",
    "    org_address[\"region_code\"] = (\n",
    "        org_address[\"region_code\"].str.lower().astype(\"category\")\n",
    "    )\n",
    "\n",
    "    orgs = pd.concat(\n",
    "        [\n",
    "            orgs.drop(\n",
    "                [\"names\", \"rubrics\", \"work_intervals\", \"address\"], axis=\"columns\"\n",
    "            ),\n",
    "            org_address.drop(\"pos.coordinates\", axis=\"columns\"),\n",
    "            pd.DataFrame(\n",
    "                org_address[\"pos.coordinates\"].to_list(),\n",
    "                columns=[\"longitude\", \"latitude\"],\n",
    "                index=orgs.index,\n",
    "            ),\n",
    "            work_intervals,\n",
    "        ],\n",
    "        axis=\"columns\",\n",
    "    )\n",
    "\n",
    "    return orgs, org_names, rubrics\n",
    "\n",
    "\n",
    "def preprocess_train_rubric_information_json(data_dir):\n",
    "    train_rubric_information = pd.read_json(\n",
    "        os.path.join(\n",
    "            data_dir, \"train_rubric_information/train_rubric_information.json\"\n",
    "        ),\n",
    "        orient=\"index\",\n",
    "    ).rename_axis(\"rubric_id\")\n",
    "\n",
    "    rubric_names = parse_series_of_lists_of_dicts(train_rubric_information[\"names\"])\n",
    "    rubric_keywords = parse_series_of_lists_of_dicts(\n",
    "        train_rubric_information[\"keywords\"]\n",
    "    )\n",
    "    rubric_phrases = parse_series_of_lists_of_dicts(train_rubric_information[\"phrases\"])\n",
    "    rubric_descriptions = parse_series_of_lists_of_dicts(\n",
    "        train_rubric_information[\"descriptions\"]\n",
    "    )\n",
    "    return rubric_names, rubric_keywords, rubric_phrases, rubric_descriptions"
   ]
  },
  {
   "cell_type": "code",
   "execution_count": 2,
   "metadata": {
    "ExecuteTime": {
     "end_time": "2022-07-10T08:23:32.886678Z",
     "start_time": "2022-07-10T08:23:27.173039Z"
    }
   },
   "outputs": [
    {
     "data": {
      "application/javascript": [
       "\n",
       "            setTimeout(function() {\n",
       "                var nbb_cell_id = 2;\n",
       "                var nbb_unformatted_code = \"DATA_DIR = \\\"data/hw_ranking_data\\\"\\n\\ntrain = preprocess_train_csv(DATA_DIR)\\n\\norgs, org_names, rubrics = preprocess_train_org_information_csv(DATA_DIR)\\n(\\n    rubric_names,\\n    rubric_keywords,\\n    rubric_phrases,\\n    rubric_descriptions,\\n) = preprocess_train_rubric_information_json(DATA_DIR)\";\n",
       "                var nbb_formatted_code = \"DATA_DIR = \\\"data/hw_ranking_data\\\"\\n\\ntrain = preprocess_train_csv(DATA_DIR)\\n\\norgs, org_names, rubrics = preprocess_train_org_information_csv(DATA_DIR)\\n(\\n    rubric_names,\\n    rubric_keywords,\\n    rubric_phrases,\\n    rubric_descriptions,\\n) = preprocess_train_rubric_information_json(DATA_DIR)\";\n",
       "                var nbb_cells = Jupyter.notebook.get_cells();\n",
       "                for (var i = 0; i < nbb_cells.length; ++i) {\n",
       "                    if (nbb_cells[i].input_prompt_number == nbb_cell_id) {\n",
       "                        if (nbb_cells[i].get_text() == nbb_unformatted_code) {\n",
       "                             nbb_cells[i].set_text(nbb_formatted_code);\n",
       "                        }\n",
       "                        break;\n",
       "                    }\n",
       "                }\n",
       "            }, 500);\n",
       "            "
      ],
      "text/plain": [
       "<IPython.core.display.Javascript object>"
      ]
     },
     "metadata": {},
     "output_type": "display_data"
    }
   ],
   "source": [
    "DATA_DIR = \"data/hw_ranking_data\"\n",
    "\n",
    "train = preprocess_train_csv(DATA_DIR)\n",
    "\n",
    "orgs, org_names, rubrics = preprocess_train_org_information_csv(DATA_DIR)\n",
    "(\n",
    "    rubric_names,\n",
    "    rubric_keywords,\n",
    "    rubric_phrases,\n",
    "    rubric_descriptions,\n",
    ") = preprocess_train_rubric_information_json(DATA_DIR)"
   ]
  },
  {
   "cell_type": "markdown",
   "metadata": {},
   "source": [
    "### Feature generation"
   ]
  },
  {
   "cell_type": "code",
   "execution_count": 3,
   "metadata": {
    "ExecuteTime": {
     "end_time": "2022-07-10T08:23:32.907336Z",
     "start_time": "2022-07-10T08:23:32.889027Z"
    }
   },
   "outputs": [
    {
     "data": {
      "application/javascript": [
       "\n",
       "            setTimeout(function() {\n",
       "                var nbb_cell_id = 3;\n",
       "                var nbb_unformatted_code = \"def top_k_dummies(series, top_k=5, **kwargs):\\n    series = series.astype(\\\"category\\\").cat.remove_categories(\\n        series.value_counts().index[top_k:]\\n    )\\n    return pd.get_dummies(series, **kwargs)\\n\\n\\ndef process_queries(train, org_names):\\n    queries = (\\n        train.drop([\\\"org_id\\\", \\\"relevance\\\"], axis=\\\"columns\\\")\\n        .set_index(\\\"query_id\\\")\\n        .groupby(\\\"query_id\\\")\\n        .first()\\n    )\\n    queries.index = queries.index.astype(int)\\n\\n    queries[\\\"n_words\\\"] = queries[\\\"query\\\"].str.split().apply(len)\\n    queries[\\\"window_size\\\"] = (\\n        queries[\\\"window_size_longitude\\\"] * queries[\\\"window_size_latitude\\\"]\\n    )\\n\\n    names_to_locale = org_names.groupby(\\\"value\\\")[\\\"locale\\\"].agg(lambda s: s.mode()[0])\\n    known_locales = queries[\\\"org_name\\\"].isin(names_to_locale.index)\\n    queries[\\\"locale\\\"] = \\\"ru\\\"\\n    queries.loc[known_locales, \\\"locale\\\"] = names_to_locale[\\n        queries[\\\"org_name\\\"][known_locales]\\n    ].values\\n    queries[\\\"locale\\\"] = queries[\\\"locale\\\"].astype(\\\"category\\\")\\n    queries = pd.concat(\\n        [\\n            queries.drop([\\\"org_name\\\"], axis=\\\"columns\\\"),\\n            top_k_dummies(queries[\\\"locale\\\"], top_k=4, prefix=\\\"locale\\\"),\\n            top_k_dummies(queries[\\\"geo_id\\\"], prefix=\\\"geo_id\\\"),\\n        ],\\n        axis=1,\\n    )\\n\\n    return queries\";\n",
       "                var nbb_formatted_code = \"def top_k_dummies(series, top_k=5, **kwargs):\\n    series = series.astype(\\\"category\\\").cat.remove_categories(\\n        series.value_counts().index[top_k:]\\n    )\\n    return pd.get_dummies(series, **kwargs)\\n\\n\\ndef process_queries(train, org_names):\\n    queries = (\\n        train.drop([\\\"org_id\\\", \\\"relevance\\\"], axis=\\\"columns\\\")\\n        .set_index(\\\"query_id\\\")\\n        .groupby(\\\"query_id\\\")\\n        .first()\\n    )\\n    queries.index = queries.index.astype(int)\\n\\n    queries[\\\"n_words\\\"] = queries[\\\"query\\\"].str.split().apply(len)\\n    queries[\\\"window_size\\\"] = (\\n        queries[\\\"window_size_longitude\\\"] * queries[\\\"window_size_latitude\\\"]\\n    )\\n\\n    names_to_locale = org_names.groupby(\\\"value\\\")[\\\"locale\\\"].agg(lambda s: s.mode()[0])\\n    known_locales = queries[\\\"org_name\\\"].isin(names_to_locale.index)\\n    queries[\\\"locale\\\"] = \\\"ru\\\"\\n    queries.loc[known_locales, \\\"locale\\\"] = names_to_locale[\\n        queries[\\\"org_name\\\"][known_locales]\\n    ].values\\n    queries[\\\"locale\\\"] = queries[\\\"locale\\\"].astype(\\\"category\\\")\\n    queries = pd.concat(\\n        [\\n            queries.drop([\\\"org_name\\\"], axis=\\\"columns\\\"),\\n            top_k_dummies(queries[\\\"locale\\\"], top_k=4, prefix=\\\"locale\\\"),\\n            top_k_dummies(queries[\\\"geo_id\\\"], prefix=\\\"geo_id\\\"),\\n        ],\\n        axis=1,\\n    )\\n\\n    return queries\";\n",
       "                var nbb_cells = Jupyter.notebook.get_cells();\n",
       "                for (var i = 0; i < nbb_cells.length; ++i) {\n",
       "                    if (nbb_cells[i].input_prompt_number == nbb_cell_id) {\n",
       "                        if (nbb_cells[i].get_text() == nbb_unformatted_code) {\n",
       "                             nbb_cells[i].set_text(nbb_formatted_code);\n",
       "                        }\n",
       "                        break;\n",
       "                    }\n",
       "                }\n",
       "            }, 500);\n",
       "            "
      ],
      "text/plain": [
       "<IPython.core.display.Javascript object>"
      ]
     },
     "metadata": {},
     "output_type": "display_data"
    }
   ],
   "source": [
    "def top_k_dummies(series, top_k=5, **kwargs):\n",
    "    series = series.astype(\"category\").cat.remove_categories(\n",
    "        series.value_counts().index[top_k:]\n",
    "    )\n",
    "    return pd.get_dummies(series, **kwargs)\n",
    "\n",
    "\n",
    "def process_queries(train, org_names):\n",
    "    queries = (\n",
    "        train.drop([\"org_id\", \"relevance\"], axis=\"columns\")\n",
    "        .set_index(\"query_id\")\n",
    "        .groupby(\"query_id\")\n",
    "        .first()\n",
    "    )\n",
    "    queries.index = queries.index.astype(int)\n",
    "\n",
    "    queries[\"n_words\"] = queries[\"query\"].str.split().apply(len)\n",
    "    queries[\"window_size\"] = (\n",
    "        queries[\"window_size_longitude\"] * queries[\"window_size_latitude\"]\n",
    "    )\n",
    "\n",
    "    names_to_locale = org_names.groupby(\"value\")[\"locale\"].agg(lambda s: s.mode()[0])\n",
    "    known_locales = queries[\"org_name\"].isin(names_to_locale.index)\n",
    "    queries[\"locale\"] = \"ru\"\n",
    "    queries.loc[known_locales, \"locale\"] = names_to_locale[\n",
    "        queries[\"org_name\"][known_locales]\n",
    "    ].values\n",
    "    queries[\"locale\"] = queries[\"locale\"].astype(\"category\")\n",
    "    queries = pd.concat(\n",
    "        [\n",
    "            queries.drop([\"org_name\"], axis=\"columns\"),\n",
    "            top_k_dummies(queries[\"locale\"], top_k=4, prefix=\"locale\"),\n",
    "            top_k_dummies(queries[\"geo_id\"], prefix=\"geo_id\"),\n",
    "        ],\n",
    "        axis=1,\n",
    "    )\n",
    "\n",
    "    return queries"
   ]
  },
  {
   "cell_type": "code",
   "execution_count": 4,
   "metadata": {
    "ExecuteTime": {
     "end_time": "2022-07-10T08:23:33.030815Z",
     "start_time": "2022-07-10T08:23:32.909355Z"
    }
   },
   "outputs": [
    {
     "data": {
      "application/javascript": [
       "\n",
       "            setTimeout(function() {\n",
       "                var nbb_cell_id = 4;\n",
       "                var nbb_unformatted_code = \"def process_work_intervals(orgs):\\n    orgs[\\\"average_work_interval\\\"] = (\\n        orgs[\\n            [\\n                \\\"monday\\\",\\n                \\\"tuesday\\\",\\n                \\\"wednesday\\\",\\n                \\\"thursday\\\",\\n                \\\"friday\\\",\\n                \\\"saturday\\\",\\n                \\\"sunday\\\",\\n            ]\\n        ]\\n        .apply(lambda series: pd.arrays.IntervalArray.from_tuples(series).length)\\n        .mean(axis=\\\"columns\\\")\\n    )\\n    orgs[\\\"average_work_interval\\\"] = orgs[\\\"average_work_interval\\\"].fillna(\\n        orgs[\\\"average_work_interval\\\"].mean()\\n    )\\n    orgs[\\\"workdays_count\\\"] = (\\n        orgs[\\n            [\\n                \\\"monday\\\",\\n                \\\"tuesday\\\",\\n                \\\"wednesday\\\",\\n                \\\"thursday\\\",\\n                \\\"friday\\\",\\n                \\\"saturday\\\",\\n                \\\"sunday\\\",\\n            ]\\n        ]\\n        .notna()\\n        .sum(axis=\\\"columns\\\")\\n    ).replace(0, pd.NA)\\n    orgs[\\\"workdays_count\\\"] = orgs[\\\"workdays_count\\\"].fillna(\\n        orgs[\\\"workdays_count\\\"].mean()\\n    )\\n    grouped_work_intervals = (\\n        pd.concat(\\n            [\\n                pd.DataFrame(\\n                    orgs[day].to_list(),\\n                    index=orgs.index,\\n                    columns=[\\\"weekend_from\\\", \\\"weekend_to\\\"]\\n                    if day in [\\\"saturday\\\", \\\"sunday\\\"]\\n                    else [\\\"weekdays_from\\\", \\\"weekdays_to\\\"],\\n                )\\n                for day in [\\n                    \\\"monday\\\",\\n                    \\\"tuesday\\\",\\n                    \\\"wednesday\\\",\\n                    \\\"thursday\\\",\\n                    \\\"friday\\\",\\n                    \\\"saturday\\\",\\n                    \\\"sunday\\\",\\n                ]\\n            ],\\n            axis=\\\"columns\\\",\\n        )\\n        .T.reset_index()\\n        .groupby(\\\"index\\\")\\n        .mean()\\n        .T\\n    )\\n    orgs = orgs.drop(\\n        [\\n            \\\"monday\\\",\\n            \\\"tuesday\\\",\\n            \\\"wednesday\\\",\\n            \\\"thursday\\\",\\n            \\\"friday\\\",\\n            \\\"saturday\\\",\\n            \\\"sunday\\\",\\n        ],\\n        axis=\\\"columns\\\",\\n    ).join(grouped_work_intervals)\\n    orgs.index = orgs.index.astype(int)\\n    return orgs\\n\\n\\ndef process_rubrics(orgs):\\n    def filter_locales(dataframe, locales):\\n        if \\\"locale\\\" not in dataframe:\\n            return dataframe\\n        return dataframe[dataframe[\\\"locale\\\"].isin(locales)]\\n\\n    def group_locales(dataframe, prefix=\\\"\\\"):\\n        dataframe = (\\n            dataframe.reset_index()\\n            .groupby([dataframe.index.name, \\\"locale\\\"], observed=True)[\\\"value\\\"]\\n            .apply(\\\" \\\".join)\\n            .reset_index()\\n            .pivot(index=dataframe.index.name, columns=\\\"locale\\\", values=\\\"value\\\")\\n        )\\n        return dataframe.rename(columns={c: prefix + c for c in dataframe})\\n\\n    locales = [c.split(\\\"_\\\")[1] for c in queries.columns if c.startswith(\\\"locale_\\\")]\\n\\n    org_names_grouped = group_locales(\\n        filter_locales(org_names, locales), prefix=\\\"org_names_\\\"\\n    )\\n\\n    rubric_dataframes = [\\n        rubrics.reset_index().set_index(\\\"rubrics\\\"),\\n        rubric_names,\\n        rubric_phrases,\\n        rubric_keywords,\\n        rubric_descriptions,\\n    ]\\n    rubric_dataframes = [filter_locales(df, locales) for df in rubric_dataframes]\\n    valid_rubric_ids = pd.Index(\\n        set.intersection(*[set(df.index) for df in rubric_dataframes])\\n    )\\n    rubric_dataframes = [\\n        df.loc[valid_rubric_ids.intersection(df.index)].rename_axis(\\\"rubrics\\\")\\n        for df in rubric_dataframes\\n    ]\\n    rubric_dataframe = pd.concat(\\n        [group_locales(df) for df in rubric_dataframes[1:]], axis=1\\n    )\\n    rubric_dataframe = pd.concat(\\n        [\\n            rubric_dataframe[column]\\n            .astype(str)\\n            .agg(\\\" \\\".join, axis=1)\\n            .rename(\\\"rubric_\\\" + column)\\n            for column in rubric_dataframe.columns.unique()\\n        ],\\n        axis=1,\\n    )\\n    rubric_dataframe = (\\n        rubric_dataframes[0]\\n        .reset_index()\\n        .groupby(\\\"org_id\\\")[\\\"rubrics\\\"]\\n        .apply(lambda s: rubric_dataframe.loc[s].apply(\\\" \\\".join))\\n        .reset_index()\\n        .pivot(index=\\\"org_id\\\", columns=\\\"level_1\\\", values=\\\"rubrics\\\")\\n    )\\n\\n    return orgs.join([org_names_grouped, rubric_dataframe])\\n\\n\\ndef process_orgs(orgs):\\n    orgs = process_work_intervals(orgs)\\n    orgs = process_rubrics(orgs)\\n\\n    orgs[\\\"names_count\\\"] = org_names.groupby(\\\"org_id\\\").size()\\n    orgs[\\\"rubrics_count\\\"] = rubrics.groupby(\\\"org_id\\\").count()\\n    orgs[\\\"n_words\\\"] = (\\n        org_names.reset_index()\\n        .groupby(\\\"org_id\\\")[\\\"value\\\"]\\n        .apply(lambda s: s.str.split().apply(len).mean())\\n    )\\n\\n    orgs = pd.concat(\\n        [\\n            train.drop_duplicates(\\\"org_id\\\").set_index(\\\"org_id\\\")[\\\"org_name\\\"],\\n            orgs,\\n            top_k_dummies(orgs[\\\"address_locale\\\"], prefix=\\\"locale\\\"),\\n            top_k_dummies(orgs[\\\"region_code\\\"], prefix=\\\"region\\\"),\\n            top_k_dummies(orgs[\\\"geo_id\\\"], top_k=10, prefix=\\\"geo_id\\\"),\\n        ],\\n        axis=\\\"columns\\\",\\n    )\\n    return orgs\";\n",
       "                var nbb_formatted_code = \"def process_work_intervals(orgs):\\n    orgs[\\\"average_work_interval\\\"] = (\\n        orgs[\\n            [\\n                \\\"monday\\\",\\n                \\\"tuesday\\\",\\n                \\\"wednesday\\\",\\n                \\\"thursday\\\",\\n                \\\"friday\\\",\\n                \\\"saturday\\\",\\n                \\\"sunday\\\",\\n            ]\\n        ]\\n        .apply(lambda series: pd.arrays.IntervalArray.from_tuples(series).length)\\n        .mean(axis=\\\"columns\\\")\\n    )\\n    orgs[\\\"average_work_interval\\\"] = orgs[\\\"average_work_interval\\\"].fillna(\\n        orgs[\\\"average_work_interval\\\"].mean()\\n    )\\n    orgs[\\\"workdays_count\\\"] = (\\n        orgs[\\n            [\\n                \\\"monday\\\",\\n                \\\"tuesday\\\",\\n                \\\"wednesday\\\",\\n                \\\"thursday\\\",\\n                \\\"friday\\\",\\n                \\\"saturday\\\",\\n                \\\"sunday\\\",\\n            ]\\n        ]\\n        .notna()\\n        .sum(axis=\\\"columns\\\")\\n    ).replace(0, pd.NA)\\n    orgs[\\\"workdays_count\\\"] = orgs[\\\"workdays_count\\\"].fillna(\\n        orgs[\\\"workdays_count\\\"].mean()\\n    )\\n    grouped_work_intervals = (\\n        pd.concat(\\n            [\\n                pd.DataFrame(\\n                    orgs[day].to_list(),\\n                    index=orgs.index,\\n                    columns=[\\\"weekend_from\\\", \\\"weekend_to\\\"]\\n                    if day in [\\\"saturday\\\", \\\"sunday\\\"]\\n                    else [\\\"weekdays_from\\\", \\\"weekdays_to\\\"],\\n                )\\n                for day in [\\n                    \\\"monday\\\",\\n                    \\\"tuesday\\\",\\n                    \\\"wednesday\\\",\\n                    \\\"thursday\\\",\\n                    \\\"friday\\\",\\n                    \\\"saturday\\\",\\n                    \\\"sunday\\\",\\n                ]\\n            ],\\n            axis=\\\"columns\\\",\\n        )\\n        .T.reset_index()\\n        .groupby(\\\"index\\\")\\n        .mean()\\n        .T\\n    )\\n    orgs = orgs.drop(\\n        [\\n            \\\"monday\\\",\\n            \\\"tuesday\\\",\\n            \\\"wednesday\\\",\\n            \\\"thursday\\\",\\n            \\\"friday\\\",\\n            \\\"saturday\\\",\\n            \\\"sunday\\\",\\n        ],\\n        axis=\\\"columns\\\",\\n    ).join(grouped_work_intervals)\\n    orgs.index = orgs.index.astype(int)\\n    return orgs\\n\\n\\ndef process_rubrics(orgs):\\n    def filter_locales(dataframe, locales):\\n        if \\\"locale\\\" not in dataframe:\\n            return dataframe\\n        return dataframe[dataframe[\\\"locale\\\"].isin(locales)]\\n\\n    def group_locales(dataframe, prefix=\\\"\\\"):\\n        dataframe = (\\n            dataframe.reset_index()\\n            .groupby([dataframe.index.name, \\\"locale\\\"], observed=True)[\\\"value\\\"]\\n            .apply(\\\" \\\".join)\\n            .reset_index()\\n            .pivot(index=dataframe.index.name, columns=\\\"locale\\\", values=\\\"value\\\")\\n        )\\n        return dataframe.rename(columns={c: prefix + c for c in dataframe})\\n\\n    locales = [c.split(\\\"_\\\")[1] for c in queries.columns if c.startswith(\\\"locale_\\\")]\\n\\n    org_names_grouped = group_locales(\\n        filter_locales(org_names, locales), prefix=\\\"org_names_\\\"\\n    )\\n\\n    rubric_dataframes = [\\n        rubrics.reset_index().set_index(\\\"rubrics\\\"),\\n        rubric_names,\\n        rubric_phrases,\\n        rubric_keywords,\\n        rubric_descriptions,\\n    ]\\n    rubric_dataframes = [filter_locales(df, locales) for df in rubric_dataframes]\\n    valid_rubric_ids = pd.Index(\\n        set.intersection(*[set(df.index) for df in rubric_dataframes])\\n    )\\n    rubric_dataframes = [\\n        df.loc[valid_rubric_ids.intersection(df.index)].rename_axis(\\\"rubrics\\\")\\n        for df in rubric_dataframes\\n    ]\\n    rubric_dataframe = pd.concat(\\n        [group_locales(df) for df in rubric_dataframes[1:]], axis=1\\n    )\\n    rubric_dataframe = pd.concat(\\n        [\\n            rubric_dataframe[column]\\n            .astype(str)\\n            .agg(\\\" \\\".join, axis=1)\\n            .rename(\\\"rubric_\\\" + column)\\n            for column in rubric_dataframe.columns.unique()\\n        ],\\n        axis=1,\\n    )\\n    rubric_dataframe = (\\n        rubric_dataframes[0]\\n        .reset_index()\\n        .groupby(\\\"org_id\\\")[\\\"rubrics\\\"]\\n        .apply(lambda s: rubric_dataframe.loc[s].apply(\\\" \\\".join))\\n        .reset_index()\\n        .pivot(index=\\\"org_id\\\", columns=\\\"level_1\\\", values=\\\"rubrics\\\")\\n    )\\n\\n    return orgs.join([org_names_grouped, rubric_dataframe])\\n\\n\\ndef process_orgs(orgs):\\n    orgs = process_work_intervals(orgs)\\n    orgs = process_rubrics(orgs)\\n\\n    orgs[\\\"names_count\\\"] = org_names.groupby(\\\"org_id\\\").size()\\n    orgs[\\\"rubrics_count\\\"] = rubrics.groupby(\\\"org_id\\\").count()\\n    orgs[\\\"n_words\\\"] = (\\n        org_names.reset_index()\\n        .groupby(\\\"org_id\\\")[\\\"value\\\"]\\n        .apply(lambda s: s.str.split().apply(len).mean())\\n    )\\n\\n    orgs = pd.concat(\\n        [\\n            train.drop_duplicates(\\\"org_id\\\").set_index(\\\"org_id\\\")[\\\"org_name\\\"],\\n            orgs,\\n            top_k_dummies(orgs[\\\"address_locale\\\"], prefix=\\\"locale\\\"),\\n            top_k_dummies(orgs[\\\"region_code\\\"], prefix=\\\"region\\\"),\\n            top_k_dummies(orgs[\\\"geo_id\\\"], top_k=10, prefix=\\\"geo_id\\\"),\\n        ],\\n        axis=\\\"columns\\\",\\n    )\\n    return orgs\";\n",
       "                var nbb_cells = Jupyter.notebook.get_cells();\n",
       "                for (var i = 0; i < nbb_cells.length; ++i) {\n",
       "                    if (nbb_cells[i].input_prompt_number == nbb_cell_id) {\n",
       "                        if (nbb_cells[i].get_text() == nbb_unformatted_code) {\n",
       "                             nbb_cells[i].set_text(nbb_formatted_code);\n",
       "                        }\n",
       "                        break;\n",
       "                    }\n",
       "                }\n",
       "            }, 500);\n",
       "            "
      ],
      "text/plain": [
       "<IPython.core.display.Javascript object>"
      ]
     },
     "metadata": {},
     "output_type": "display_data"
    }
   ],
   "source": [
    "def process_work_intervals(orgs):\n",
    "    orgs[\"average_work_interval\"] = (\n",
    "        orgs[\n",
    "            [\n",
    "                \"monday\",\n",
    "                \"tuesday\",\n",
    "                \"wednesday\",\n",
    "                \"thursday\",\n",
    "                \"friday\",\n",
    "                \"saturday\",\n",
    "                \"sunday\",\n",
    "            ]\n",
    "        ]\n",
    "        .apply(lambda series: pd.arrays.IntervalArray.from_tuples(series).length)\n",
    "        .mean(axis=\"columns\")\n",
    "    )\n",
    "    orgs[\"average_work_interval\"] = orgs[\"average_work_interval\"].fillna(\n",
    "        orgs[\"average_work_interval\"].mean()\n",
    "    )\n",
    "    orgs[\"workdays_count\"] = (\n",
    "        orgs[\n",
    "            [\n",
    "                \"monday\",\n",
    "                \"tuesday\",\n",
    "                \"wednesday\",\n",
    "                \"thursday\",\n",
    "                \"friday\",\n",
    "                \"saturday\",\n",
    "                \"sunday\",\n",
    "            ]\n",
    "        ]\n",
    "        .notna()\n",
    "        .sum(axis=\"columns\")\n",
    "    ).replace(0, pd.NA)\n",
    "    orgs[\"workdays_count\"] = orgs[\"workdays_count\"].fillna(\n",
    "        orgs[\"workdays_count\"].mean()\n",
    "    )\n",
    "    grouped_work_intervals = (\n",
    "        pd.concat(\n",
    "            [\n",
    "                pd.DataFrame(\n",
    "                    orgs[day].to_list(),\n",
    "                    index=orgs.index,\n",
    "                    columns=[\"weekend_from\", \"weekend_to\"]\n",
    "                    if day in [\"saturday\", \"sunday\"]\n",
    "                    else [\"weekdays_from\", \"weekdays_to\"],\n",
    "                )\n",
    "                for day in [\n",
    "                    \"monday\",\n",
    "                    \"tuesday\",\n",
    "                    \"wednesday\",\n",
    "                    \"thursday\",\n",
    "                    \"friday\",\n",
    "                    \"saturday\",\n",
    "                    \"sunday\",\n",
    "                ]\n",
    "            ],\n",
    "            axis=\"columns\",\n",
    "        )\n",
    "        .T.reset_index()\n",
    "        .groupby(\"index\")\n",
    "        .mean()\n",
    "        .T\n",
    "    )\n",
    "    orgs = orgs.drop(\n",
    "        [\n",
    "            \"monday\",\n",
    "            \"tuesday\",\n",
    "            \"wednesday\",\n",
    "            \"thursday\",\n",
    "            \"friday\",\n",
    "            \"saturday\",\n",
    "            \"sunday\",\n",
    "        ],\n",
    "        axis=\"columns\",\n",
    "    ).join(grouped_work_intervals)\n",
    "    orgs.index = orgs.index.astype(int)\n",
    "    return orgs\n",
    "\n",
    "\n",
    "def process_rubrics(orgs):\n",
    "    def filter_locales(dataframe, locales):\n",
    "        if \"locale\" not in dataframe:\n",
    "            return dataframe\n",
    "        return dataframe[dataframe[\"locale\"].isin(locales)]\n",
    "\n",
    "    def group_locales(dataframe, prefix=\"\"):\n",
    "        dataframe = (\n",
    "            dataframe.reset_index()\n",
    "            .groupby([dataframe.index.name, \"locale\"], observed=True)[\"value\"]\n",
    "            .apply(\" \".join)\n",
    "            .reset_index()\n",
    "            .pivot(index=dataframe.index.name, columns=\"locale\", values=\"value\")\n",
    "        )\n",
    "        return dataframe.rename(columns={c: prefix + c for c in dataframe})\n",
    "\n",
    "    locales = [c.split(\"_\")[1] for c in queries.columns if c.startswith(\"locale_\")]\n",
    "\n",
    "    org_names_grouped = group_locales(\n",
    "        filter_locales(org_names, locales), prefix=\"org_names_\"\n",
    "    )\n",
    "\n",
    "    rubric_dataframes = [\n",
    "        rubrics.reset_index().set_index(\"rubrics\"),\n",
    "        rubric_names,\n",
    "        rubric_phrases,\n",
    "        rubric_keywords,\n",
    "        rubric_descriptions,\n",
    "    ]\n",
    "    rubric_dataframes = [filter_locales(df, locales) for df in rubric_dataframes]\n",
    "    valid_rubric_ids = pd.Index(\n",
    "        set.intersection(*[set(df.index) for df in rubric_dataframes])\n",
    "    )\n",
    "    rubric_dataframes = [\n",
    "        df.loc[valid_rubric_ids.intersection(df.index)].rename_axis(\"rubrics\")\n",
    "        for df in rubric_dataframes\n",
    "    ]\n",
    "    rubric_dataframe = pd.concat(\n",
    "        [group_locales(df) for df in rubric_dataframes[1:]], axis=1\n",
    "    )\n",
    "    rubric_dataframe = pd.concat(\n",
    "        [\n",
    "            rubric_dataframe[column]\n",
    "            .astype(str)\n",
    "            .agg(\" \".join, axis=1)\n",
    "            .rename(\"rubric_\" + column)\n",
    "            for column in rubric_dataframe.columns.unique()\n",
    "        ],\n",
    "        axis=1,\n",
    "    )\n",
    "    rubric_dataframe = (\n",
    "        rubric_dataframes[0]\n",
    "        .reset_index()\n",
    "        .groupby(\"org_id\")[\"rubrics\"]\n",
    "        .apply(lambda s: rubric_dataframe.loc[s].apply(\" \".join))\n",
    "        .reset_index()\n",
    "        .pivot(index=\"org_id\", columns=\"level_1\", values=\"rubrics\")\n",
    "    )\n",
    "\n",
    "    return orgs.join([org_names_grouped, rubric_dataframe])\n",
    "\n",
    "\n",
    "def process_orgs(orgs):\n",
    "    orgs = process_work_intervals(orgs)\n",
    "    orgs = process_rubrics(orgs)\n",
    "\n",
    "    orgs[\"names_count\"] = org_names.groupby(\"org_id\").size()\n",
    "    orgs[\"rubrics_count\"] = rubrics.groupby(\"org_id\").count()\n",
    "    orgs[\"n_words\"] = (\n",
    "        org_names.reset_index()\n",
    "        .groupby(\"org_id\")[\"value\"]\n",
    "        .apply(lambda s: s.str.split().apply(len).mean())\n",
    "    )\n",
    "\n",
    "    orgs = pd.concat(\n",
    "        [\n",
    "            train.drop_duplicates(\"org_id\").set_index(\"org_id\")[\"org_name\"],\n",
    "            orgs,\n",
    "            top_k_dummies(orgs[\"address_locale\"], prefix=\"locale\"),\n",
    "            top_k_dummies(orgs[\"region_code\"], prefix=\"region\"),\n",
    "            top_k_dummies(orgs[\"geo_id\"], top_k=10, prefix=\"geo_id\"),\n",
    "        ],\n",
    "        axis=\"columns\",\n",
    "    )\n",
    "    return orgs"
   ]
  },
  {
   "cell_type": "code",
   "execution_count": 5,
   "metadata": {
    "ExecuteTime": {
     "end_time": "2022-07-10T08:23:33.152812Z",
     "start_time": "2022-07-10T08:23:33.033979Z"
    }
   },
   "outputs": [
    {
     "data": {
      "application/javascript": [
       "\n",
       "            setTimeout(function() {\n",
       "                var nbb_cell_id = 5;\n",
       "                var nbb_unformatted_code = \"def normalize_text(series, **kwargs):\\n    analyzer = CountVectorizer(**kwargs).build_analyzer()\\n    return series.apply(analyzer).str.join(\\\" \\\")\\n\\n\\ndef count_equal_words(left: \\\"pd.Series\\\", right: \\\"pd.Series\\\", **vectorizer_kwargs):\\n    analyzer = CountVectorizer(**vectorizer_kwargs).build_analyzer()\\n    left = left.apply(analyzer).apply(set)\\n    right = right.apply(analyzer).apply(set)\\n    series = pd.Series(\\n        left.values & right.values,\\n        index=left.index,\\n    ).apply(len)\\n    return series\\n\\n\\ndef jaccard_index(left: \\\"pd.Series\\\", right: \\\"pd.Series\\\", **vectorizer_kwargs):\\n    analyzer = CountVectorizer(**vectorizer_kwargs).build_analyzer()\\n    left = left.apply(analyzer).apply(set)\\n    right = right.apply(analyzer).apply(set)\\n    series = pd.Series(\\n        np.fromiter(map(len, (left.values & right.values)), dtype=int)\\n        / (\\n            np.fromiter(map(len, (left.values | right.values)), dtype=int)\\n            + np.finfo(float).eps\\n        ),\\n        index=left.index,\\n    )\\n    return series\\n\\n\\ndef process_text_data(train):\\n    train[\\\"n_words_difference\\\"] = abs(train[\\\"queries_n_words\\\"] - train[\\\"orgs_n_words\\\"])\\n\\n    orgs_text = pd.DataFrame(index=train.index)\\n    orgs_text[\\\"name\\\"] = train[\\\"orgs_org_name\\\"]\\n    orgs_text[\\\"address\\\"] = train[\\\"orgs_address\\\"]\\n    orgs_text[\\\"all_names\\\"] = \\\"\\\"\\n    orgs_text[\\\"rubric\\\"] = \\\"\\\"\\n\\n    languages = [\\\"ru\\\", \\\"uk\\\", \\\"en\\\", \\\"tr\\\"]\\n\\n    train[\\\"same_name_language\\\"] = (\\n        train[[f\\\"orgs_locale_{l}\\\" for l in languages]]\\n        * train[[f\\\"queries_locale_{l}\\\" for l in languages]].values\\n    ).sum(axis=\\\"columns\\\")\\n\\n    orgs_address_dummies = top_k_dummies(train[\\\"orgs_address_locale\\\"], top_k=4)\\n    train[\\\"same_address_language\\\"] = (\\n        orgs_address_dummies[[f\\\"{l}\\\" for l in languages]]\\n        * train[[f\\\"queries_locale_{l}\\\" for l in languages]].values\\n    ).sum(axis=\\\"columns\\\")\\n\\n    for language in languages:\\n        mask = train[f\\\"queries_locale_{language}\\\"].astype(bool)\\n        orgs_text.loc[mask, \\\"all_names\\\"] = train.loc[mask, f\\\"orgs_org_names_{language}\\\"]\\n        orgs_text.loc[mask, \\\"rubric\\\"] = train.loc[mask, f\\\"orgs_rubric_{language}\\\"]\\n\\n    for column, series in orgs_text.iteritems():\\n        train[f\\\"equal_words_count_{column}\\\"] = count_equal_words(\\n            train[\\\"queries_query\\\"], series\\n        )\\n        train[f\\\"equal_quadgrams_count_{column}\\\"] = count_equal_words(\\n            train[\\\"queries_query\\\"], series, analyzer=\\\"char\\\", ngram_range=(4, 4)\\n        )\\n        train[f\\\"jaccard_index_{column}\\\"] = jaccard_index(\\n            train[\\\"queries_query\\\"], series, analyzer=\\\"char\\\", ngram_range=(4, 4)\\n        )\\n\\n    return train\\n\\n\\ndef process_geo_data(train):\\n    train[\\\"same_geo_id\\\"] = (train[\\\"queries_geo_id\\\"] == train[\\\"orgs_geo_id\\\"]).astype(int)\\n\\n    train[\\\"distance_from_center\\\"] = (\\n        (train[\\\"queries_window_center_longitude\\\"] - train[\\\"orgs_longitude\\\"]) ** 2\\n        + (train[\\\"queries_window_center_latitude\\\"] - train[\\\"orgs_latitude\\\"]) ** 2\\n    ) ** 0.5\\n\\n    train[\\\"inside_window\\\"] = (\\n        (\\n            abs(train[\\\"queries_window_center_longitude\\\"] - train[\\\"orgs_longitude\\\"])\\n            < train[\\\"queries_window_size_longitude\\\"]\\n        )\\n        & (\\n            abs(train[\\\"queries_window_center_latitude\\\"] - train[\\\"orgs_latitude\\\"])\\n            < train[\\\"queries_window_size_latitude\\\"]\\n        )\\n    ).astype(int)\\n\\n    return train\\n\\n\\ndef process_train(train, queries, orgs):\\n    for text_column_name, series in queries.select_dtypes(object).iteritems():\\n        queries[text_column_name] = normalize_text(series.fillna(\\\"\\\"))\\n\\n    for text_column_name, series in orgs.select_dtypes(object).iteritems():\\n        orgs[text_column_name] = normalize_text(series.fillna(\\\"\\\"))\\n\\n    train = train[[\\\"query_id\\\", \\\"org_id\\\", \\\"relevance\\\"]]\\n    train = (\\n        train[[\\\"query_id\\\", \\\"org_id\\\", \\\"relevance\\\"]]\\n        .join(queries.add_prefix(\\\"queries_\\\"), on=\\\"query_id\\\")\\n        .join(orgs.add_prefix(\\\"orgs_\\\"), on=\\\"org_id\\\")\\n    )\\n\\n    train = process_text_data(train)\\n    train = process_geo_data(train)\\n\\n    return train\";\n",
       "                var nbb_formatted_code = \"def normalize_text(series, **kwargs):\\n    analyzer = CountVectorizer(**kwargs).build_analyzer()\\n    return series.apply(analyzer).str.join(\\\" \\\")\\n\\n\\ndef count_equal_words(left: \\\"pd.Series\\\", right: \\\"pd.Series\\\", **vectorizer_kwargs):\\n    analyzer = CountVectorizer(**vectorizer_kwargs).build_analyzer()\\n    left = left.apply(analyzer).apply(set)\\n    right = right.apply(analyzer).apply(set)\\n    series = pd.Series(\\n        left.values & right.values,\\n        index=left.index,\\n    ).apply(len)\\n    return series\\n\\n\\ndef jaccard_index(left: \\\"pd.Series\\\", right: \\\"pd.Series\\\", **vectorizer_kwargs):\\n    analyzer = CountVectorizer(**vectorizer_kwargs).build_analyzer()\\n    left = left.apply(analyzer).apply(set)\\n    right = right.apply(analyzer).apply(set)\\n    series = pd.Series(\\n        np.fromiter(map(len, (left.values & right.values)), dtype=int)\\n        / (\\n            np.fromiter(map(len, (left.values | right.values)), dtype=int)\\n            + np.finfo(float).eps\\n        ),\\n        index=left.index,\\n    )\\n    return series\\n\\n\\ndef process_text_data(train):\\n    train[\\\"n_words_difference\\\"] = abs(train[\\\"queries_n_words\\\"] - train[\\\"orgs_n_words\\\"])\\n\\n    orgs_text = pd.DataFrame(index=train.index)\\n    orgs_text[\\\"name\\\"] = train[\\\"orgs_org_name\\\"]\\n    orgs_text[\\\"address\\\"] = train[\\\"orgs_address\\\"]\\n    orgs_text[\\\"all_names\\\"] = \\\"\\\"\\n    orgs_text[\\\"rubric\\\"] = \\\"\\\"\\n\\n    languages = [\\\"ru\\\", \\\"uk\\\", \\\"en\\\", \\\"tr\\\"]\\n\\n    train[\\\"same_name_language\\\"] = (\\n        train[[f\\\"orgs_locale_{l}\\\" for l in languages]]\\n        * train[[f\\\"queries_locale_{l}\\\" for l in languages]].values\\n    ).sum(axis=\\\"columns\\\")\\n\\n    orgs_address_dummies = top_k_dummies(train[\\\"orgs_address_locale\\\"], top_k=4)\\n    train[\\\"same_address_language\\\"] = (\\n        orgs_address_dummies[[f\\\"{l}\\\" for l in languages]]\\n        * train[[f\\\"queries_locale_{l}\\\" for l in languages]].values\\n    ).sum(axis=\\\"columns\\\")\\n\\n    for language in languages:\\n        mask = train[f\\\"queries_locale_{language}\\\"].astype(bool)\\n        orgs_text.loc[mask, \\\"all_names\\\"] = train.loc[mask, f\\\"orgs_org_names_{language}\\\"]\\n        orgs_text.loc[mask, \\\"rubric\\\"] = train.loc[mask, f\\\"orgs_rubric_{language}\\\"]\\n\\n    for column, series in orgs_text.iteritems():\\n        train[f\\\"equal_words_count_{column}\\\"] = count_equal_words(\\n            train[\\\"queries_query\\\"], series\\n        )\\n        train[f\\\"equal_quadgrams_count_{column}\\\"] = count_equal_words(\\n            train[\\\"queries_query\\\"], series, analyzer=\\\"char\\\", ngram_range=(4, 4)\\n        )\\n        train[f\\\"jaccard_index_{column}\\\"] = jaccard_index(\\n            train[\\\"queries_query\\\"], series, analyzer=\\\"char\\\", ngram_range=(4, 4)\\n        )\\n\\n    return train\\n\\n\\ndef process_geo_data(train):\\n    train[\\\"same_geo_id\\\"] = (train[\\\"queries_geo_id\\\"] == train[\\\"orgs_geo_id\\\"]).astype(int)\\n\\n    train[\\\"distance_from_center\\\"] = (\\n        (train[\\\"queries_window_center_longitude\\\"] - train[\\\"orgs_longitude\\\"]) ** 2\\n        + (train[\\\"queries_window_center_latitude\\\"] - train[\\\"orgs_latitude\\\"]) ** 2\\n    ) ** 0.5\\n\\n    train[\\\"inside_window\\\"] = (\\n        (\\n            abs(train[\\\"queries_window_center_longitude\\\"] - train[\\\"orgs_longitude\\\"])\\n            < train[\\\"queries_window_size_longitude\\\"]\\n        )\\n        & (\\n            abs(train[\\\"queries_window_center_latitude\\\"] - train[\\\"orgs_latitude\\\"])\\n            < train[\\\"queries_window_size_latitude\\\"]\\n        )\\n    ).astype(int)\\n\\n    return train\\n\\n\\ndef process_train(train, queries, orgs):\\n    for text_column_name, series in queries.select_dtypes(object).iteritems():\\n        queries[text_column_name] = normalize_text(series.fillna(\\\"\\\"))\\n\\n    for text_column_name, series in orgs.select_dtypes(object).iteritems():\\n        orgs[text_column_name] = normalize_text(series.fillna(\\\"\\\"))\\n\\n    train = train[[\\\"query_id\\\", \\\"org_id\\\", \\\"relevance\\\"]]\\n    train = (\\n        train[[\\\"query_id\\\", \\\"org_id\\\", \\\"relevance\\\"]]\\n        .join(queries.add_prefix(\\\"queries_\\\"), on=\\\"query_id\\\")\\n        .join(orgs.add_prefix(\\\"orgs_\\\"), on=\\\"org_id\\\")\\n    )\\n\\n    train = process_text_data(train)\\n    train = process_geo_data(train)\\n\\n    return train\";\n",
       "                var nbb_cells = Jupyter.notebook.get_cells();\n",
       "                for (var i = 0; i < nbb_cells.length; ++i) {\n",
       "                    if (nbb_cells[i].input_prompt_number == nbb_cell_id) {\n",
       "                        if (nbb_cells[i].get_text() == nbb_unformatted_code) {\n",
       "                             nbb_cells[i].set_text(nbb_formatted_code);\n",
       "                        }\n",
       "                        break;\n",
       "                    }\n",
       "                }\n",
       "            }, 500);\n",
       "            "
      ],
      "text/plain": [
       "<IPython.core.display.Javascript object>"
      ]
     },
     "metadata": {},
     "output_type": "display_data"
    }
   ],
   "source": [
    "def normalize_text(series, **kwargs):\n",
    "    analyzer = CountVectorizer(**kwargs).build_analyzer()\n",
    "    return series.apply(analyzer).str.join(\" \")\n",
    "\n",
    "\n",
    "def count_equal_words(left: \"pd.Series\", right: \"pd.Series\", **vectorizer_kwargs):\n",
    "    analyzer = CountVectorizer(**vectorizer_kwargs).build_analyzer()\n",
    "    left = left.apply(analyzer).apply(set)\n",
    "    right = right.apply(analyzer).apply(set)\n",
    "    series = pd.Series(\n",
    "        left.values & right.values,\n",
    "        index=left.index,\n",
    "    ).apply(len)\n",
    "    return series\n",
    "\n",
    "\n",
    "def jaccard_index(left: \"pd.Series\", right: \"pd.Series\", **vectorizer_kwargs):\n",
    "    analyzer = CountVectorizer(**vectorizer_kwargs).build_analyzer()\n",
    "    left = left.apply(analyzer).apply(set)\n",
    "    right = right.apply(analyzer).apply(set)\n",
    "    series = pd.Series(\n",
    "        np.fromiter(map(len, (left.values & right.values)), dtype=int)\n",
    "        / (\n",
    "            np.fromiter(map(len, (left.values | right.values)), dtype=int)\n",
    "            + np.finfo(float).eps\n",
    "        ),\n",
    "        index=left.index,\n",
    "    )\n",
    "    return series\n",
    "\n",
    "\n",
    "def process_text_data(train):\n",
    "    train[\"n_words_difference\"] = abs(train[\"queries_n_words\"] - train[\"orgs_n_words\"])\n",
    "\n",
    "    orgs_text = pd.DataFrame(index=train.index)\n",
    "    orgs_text[\"name\"] = train[\"orgs_org_name\"]\n",
    "    orgs_text[\"address\"] = train[\"orgs_address\"]\n",
    "    orgs_text[\"all_names\"] = \"\"\n",
    "    orgs_text[\"rubric\"] = \"\"\n",
    "\n",
    "    languages = [\"ru\", \"uk\", \"en\", \"tr\"]\n",
    "\n",
    "    train[\"same_name_language\"] = (\n",
    "        train[[f\"orgs_locale_{l}\" for l in languages]]\n",
    "        * train[[f\"queries_locale_{l}\" for l in languages]].values\n",
    "    ).sum(axis=\"columns\")\n",
    "\n",
    "    orgs_address_dummies = top_k_dummies(train[\"orgs_address_locale\"], top_k=4)\n",
    "    train[\"same_address_language\"] = (\n",
    "        orgs_address_dummies[[f\"{l}\" for l in languages]]\n",
    "        * train[[f\"queries_locale_{l}\" for l in languages]].values\n",
    "    ).sum(axis=\"columns\")\n",
    "\n",
    "    for language in languages:\n",
    "        mask = train[f\"queries_locale_{language}\"].astype(bool)\n",
    "        orgs_text.loc[mask, \"all_names\"] = train.loc[mask, f\"orgs_org_names_{language}\"]\n",
    "        orgs_text.loc[mask, \"rubric\"] = train.loc[mask, f\"orgs_rubric_{language}\"]\n",
    "\n",
    "    for column, series in orgs_text.iteritems():\n",
    "        train[f\"equal_words_count_{column}\"] = count_equal_words(\n",
    "            train[\"queries_query\"], series\n",
    "        )\n",
    "        train[f\"equal_quadgrams_count_{column}\"] = count_equal_words(\n",
    "            train[\"queries_query\"], series, analyzer=\"char\", ngram_range=(4, 4)\n",
    "        )\n",
    "        train[f\"jaccard_index_{column}\"] = jaccard_index(\n",
    "            train[\"queries_query\"], series, analyzer=\"char\", ngram_range=(4, 4)\n",
    "        )\n",
    "\n",
    "    return train\n",
    "\n",
    "\n",
    "def process_geo_data(train):\n",
    "    train[\"same_geo_id\"] = (train[\"queries_geo_id\"] == train[\"orgs_geo_id\"]).astype(int)\n",
    "\n",
    "    train[\"distance_from_center\"] = (\n",
    "        (train[\"queries_window_center_longitude\"] - train[\"orgs_longitude\"]) ** 2\n",
    "        + (train[\"queries_window_center_latitude\"] - train[\"orgs_latitude\"]) ** 2\n",
    "    ) ** 0.5\n",
    "\n",
    "    train[\"inside_window\"] = (\n",
    "        (\n",
    "            abs(train[\"queries_window_center_longitude\"] - train[\"orgs_longitude\"])\n",
    "            < train[\"queries_window_size_longitude\"]\n",
    "        )\n",
    "        & (\n",
    "            abs(train[\"queries_window_center_latitude\"] - train[\"orgs_latitude\"])\n",
    "            < train[\"queries_window_size_latitude\"]\n",
    "        )\n",
    "    ).astype(int)\n",
    "\n",
    "    return train\n",
    "\n",
    "\n",
    "def process_train(train, queries, orgs):\n",
    "    for text_column_name, series in queries.select_dtypes(object).iteritems():\n",
    "        queries[text_column_name] = normalize_text(series.fillna(\"\"))\n",
    "\n",
    "    for text_column_name, series in orgs.select_dtypes(object).iteritems():\n",
    "        orgs[text_column_name] = normalize_text(series.fillna(\"\"))\n",
    "\n",
    "    train = train[[\"query_id\", \"org_id\", \"relevance\"]]\n",
    "    train = (\n",
    "        train[[\"query_id\", \"org_id\", \"relevance\"]]\n",
    "        .join(queries.add_prefix(\"queries_\"), on=\"query_id\")\n",
    "        .join(orgs.add_prefix(\"orgs_\"), on=\"org_id\")\n",
    "    )\n",
    "\n",
    "    train = process_text_data(train)\n",
    "    train = process_geo_data(train)\n",
    "\n",
    "    return train"
   ]
  },
  {
   "cell_type": "code",
   "execution_count": 6,
   "metadata": {
    "ExecuteTime": {
     "end_time": "2022-07-10T08:23:33.257038Z",
     "start_time": "2022-07-10T08:23:33.154766Z"
    }
   },
   "outputs": [
    {
     "data": {
      "application/javascript": [
       "\n",
       "            setTimeout(function() {\n",
       "                var nbb_cell_id = 6;\n",
       "                var nbb_unformatted_code = \"def get_yandex_disk_download_url(yandex_disk_url):\\n    base_url = \\\"https://cloud-api.yandex.net/v1/disk/public/resources/download?\\\"\\n    url = base_url + urlencode(dict(public_key=yandex_disk_url))\\n    response = requests.get(url)\\n    if \\\"href\\\" not in response.json():\\n        raise RuntimeError(f\\\"Yandex api returned error:\\\\n{response.json()}\\\")\\n\\n    download_url = response.json()[\\\"href\\\"]\\n    return download_url\\n\\n\\ndef get_query_coordinates(yandex_disk_url=\\\"https://disk.yandex.ru/d/GlByrcCf4cHVOQ\\\"):\\n    download_url = get_yandex_disk_download_url(yandex_disk_url)\\n\\n    regions = pd.read_csv(\\n        download_url,\\n        delimiter=\\\";\\\",\\n        header=None,\\n        names=[\\\"geo_id\\\", \\\"name\\\", \\\"address\\\", \\\"coordinates\\\"],\\n    )\\n    regions = (\\n        regions.drop([\\\"coordinates\\\"], axis=\\\"columns\\\")\\n        .join(\\n            pd.DataFrame(\\n                regions[\\\"coordinates\\\"].str.split(\\\",\\\").to_list(),\\n                columns=[\\\"longitude\\\", \\\"latitude\\\"],\\n            )\\n        )\\n        .set_index(\\\"geo_id\\\")\\n    )\\n\\n    query_coordinates = regions.loc[\\n        queries.query(\\\"geo_id in @regions.index\\\")[\\\"geo_id\\\"], [\\\"longitude\\\", \\\"latitude\\\"]\\n    ].astype(float)\\n\\n    return query_coordinates\";\n",
       "                var nbb_formatted_code = \"def get_yandex_disk_download_url(yandex_disk_url):\\n    base_url = \\\"https://cloud-api.yandex.net/v1/disk/public/resources/download?\\\"\\n    url = base_url + urlencode(dict(public_key=yandex_disk_url))\\n    response = requests.get(url)\\n    if \\\"href\\\" not in response.json():\\n        raise RuntimeError(f\\\"Yandex api returned error:\\\\n{response.json()}\\\")\\n\\n    download_url = response.json()[\\\"href\\\"]\\n    return download_url\\n\\n\\ndef get_query_coordinates(yandex_disk_url=\\\"https://disk.yandex.ru/d/GlByrcCf4cHVOQ\\\"):\\n    download_url = get_yandex_disk_download_url(yandex_disk_url)\\n\\n    regions = pd.read_csv(\\n        download_url,\\n        delimiter=\\\";\\\",\\n        header=None,\\n        names=[\\\"geo_id\\\", \\\"name\\\", \\\"address\\\", \\\"coordinates\\\"],\\n    )\\n    regions = (\\n        regions.drop([\\\"coordinates\\\"], axis=\\\"columns\\\")\\n        .join(\\n            pd.DataFrame(\\n                regions[\\\"coordinates\\\"].str.split(\\\",\\\").to_list(),\\n                columns=[\\\"longitude\\\", \\\"latitude\\\"],\\n            )\\n        )\\n        .set_index(\\\"geo_id\\\")\\n    )\\n\\n    query_coordinates = regions.loc[\\n        queries.query(\\\"geo_id in @regions.index\\\")[\\\"geo_id\\\"], [\\\"longitude\\\", \\\"latitude\\\"]\\n    ].astype(float)\\n\\n    return query_coordinates\";\n",
       "                var nbb_cells = Jupyter.notebook.get_cells();\n",
       "                for (var i = 0; i < nbb_cells.length; ++i) {\n",
       "                    if (nbb_cells[i].input_prompt_number == nbb_cell_id) {\n",
       "                        if (nbb_cells[i].get_text() == nbb_unformatted_code) {\n",
       "                             nbb_cells[i].set_text(nbb_formatted_code);\n",
       "                        }\n",
       "                        break;\n",
       "                    }\n",
       "                }\n",
       "            }, 500);\n",
       "            "
      ],
      "text/plain": [
       "<IPython.core.display.Javascript object>"
      ]
     },
     "metadata": {},
     "output_type": "display_data"
    }
   ],
   "source": [
    "def get_yandex_disk_download_url(yandex_disk_url):\n",
    "    base_url = \"https://cloud-api.yandex.net/v1/disk/public/resources/download?\"\n",
    "    url = base_url + urlencode(dict(public_key=yandex_disk_url))\n",
    "    response = requests.get(url)\n",
    "    if \"href\" not in response.json():\n",
    "        raise RuntimeError(f\"Yandex api returned error:\\n{response.json()}\")\n",
    "\n",
    "    download_url = response.json()[\"href\"]\n",
    "    return download_url\n",
    "\n",
    "\n",
    "def get_query_coordinates(yandex_disk_url=\"https://disk.yandex.ru/d/GlByrcCf4cHVOQ\"):\n",
    "    download_url = get_yandex_disk_download_url(yandex_disk_url)\n",
    "\n",
    "    regions = pd.read_csv(\n",
    "        download_url,\n",
    "        delimiter=\";\",\n",
    "        header=None,\n",
    "        names=[\"geo_id\", \"name\", \"address\", \"coordinates\"],\n",
    "    )\n",
    "    regions = (\n",
    "        regions.drop([\"coordinates\"], axis=\"columns\")\n",
    "        .join(\n",
    "            pd.DataFrame(\n",
    "                regions[\"coordinates\"].str.split(\",\").to_list(),\n",
    "                columns=[\"longitude\", \"latitude\"],\n",
    "            )\n",
    "        )\n",
    "        .set_index(\"geo_id\")\n",
    "    )\n",
    "\n",
    "    query_coordinates = regions.loc[\n",
    "        queries.query(\"geo_id in @regions.index\")[\"geo_id\"], [\"longitude\", \"latitude\"]\n",
    "    ].astype(float)\n",
    "\n",
    "    return query_coordinates"
   ]
  },
  {
   "cell_type": "code",
   "execution_count": 7,
   "metadata": {
    "ExecuteTime": {
     "end_time": "2022-07-10T08:23:33.370380Z",
     "start_time": "2022-07-10T08:23:33.259043Z"
    }
   },
   "outputs": [
    {
     "data": {
      "application/javascript": [
       "\n",
       "            setTimeout(function() {\n",
       "                var nbb_cell_id = 7;\n",
       "                var nbb_unformatted_code = \"def plot_geo_data(\\n    orgs,\\n    queries,\\n    query_coordinates,\\n    quantile=0.95,\\n    figsize=(16, 16),\\n    border_lon=15,\\n    border_lat=20,\\n):\\n    fig = plt.figure(figsize=figsize)\\n\\n    llcrnrlon, urcrnrlon = pd.concat(\\n        [orgs[\\\"longitude\\\"], queries[\\\"window_center_longitude\\\"]]\\n    ).quantile([1 - quantile, quantile])\\n    llcrnrlat, urcrnrlat = pd.concat(\\n        [orgs[\\\"latitude\\\"], queries[\\\"window_center_latitude\\\"]]\\n    ).quantile([1 - quantile, quantile])\\n\\n    basemap = Basemap(\\n        llcrnrlon=llcrnrlon - border_lon,\\n        llcrnrlat=llcrnrlat - border_lat,\\n        urcrnrlon=urcrnrlon + border_lon,\\n        urcrnrlat=urcrnrlat + border_lat,\\n    )\\n\\n    basemap.drawcountries()\\n    basemap.fillcontinents(lake_color=\\\"0.9\\\")\\n\\n    basemap.scatter(\\n        query_coordinates[\\\"longitude\\\"],\\n        query_coordinates[\\\"latitude\\\"],\\n        alpha=0.05,\\n        marker=\\\"h\\\",\\n        color=\\\"C1\\\",\\n        s=1000,\\n    )\\n    basemap.scatter(\\n        queries[\\\"window_center_longitude\\\"],\\n        queries[\\\"window_center_latitude\\\"],\\n        alpha=0.3,\\n        color=\\\"C2\\\",\\n        marker=\\\"s\\\",\\n    )\\n    basemap.scatter(\\n        orgs[\\\"longitude\\\"], orgs[\\\"latitude\\\"], alpha=0.75, color=\\\"C0\\\", marker=\\\".\\\", s=10\\n    )\\n\\n    query_from_marker = basemap.scatter([], [], marker=\\\"h\\\", c=\\\"C1\\\")\\n    query_window_marker = basemap.scatter([], [], marker=\\\"s\\\", c=\\\"C2\\\")\\n    orgs_marker = basemap.scatter([], [], marker=\\\".\\\", c=\\\"C0\\\")\\n\\n    plt.legend(\\n        handles=[query_from_marker, query_window_marker, orgs_marker],\\n        labels=[\\\"regions the queries were made from\\\", \\\"shown windows\\\", \\\"orgs\\\"],\\n    )\\n\\n    plt.show()\";\n",
       "                var nbb_formatted_code = \"def plot_geo_data(\\n    orgs,\\n    queries,\\n    query_coordinates,\\n    quantile=0.95,\\n    figsize=(16, 16),\\n    border_lon=15,\\n    border_lat=20,\\n):\\n    fig = plt.figure(figsize=figsize)\\n\\n    llcrnrlon, urcrnrlon = pd.concat(\\n        [orgs[\\\"longitude\\\"], queries[\\\"window_center_longitude\\\"]]\\n    ).quantile([1 - quantile, quantile])\\n    llcrnrlat, urcrnrlat = pd.concat(\\n        [orgs[\\\"latitude\\\"], queries[\\\"window_center_latitude\\\"]]\\n    ).quantile([1 - quantile, quantile])\\n\\n    basemap = Basemap(\\n        llcrnrlon=llcrnrlon - border_lon,\\n        llcrnrlat=llcrnrlat - border_lat,\\n        urcrnrlon=urcrnrlon + border_lon,\\n        urcrnrlat=urcrnrlat + border_lat,\\n    )\\n\\n    basemap.drawcountries()\\n    basemap.fillcontinents(lake_color=\\\"0.9\\\")\\n\\n    basemap.scatter(\\n        query_coordinates[\\\"longitude\\\"],\\n        query_coordinates[\\\"latitude\\\"],\\n        alpha=0.05,\\n        marker=\\\"h\\\",\\n        color=\\\"C1\\\",\\n        s=1000,\\n    )\\n    basemap.scatter(\\n        queries[\\\"window_center_longitude\\\"],\\n        queries[\\\"window_center_latitude\\\"],\\n        alpha=0.3,\\n        color=\\\"C2\\\",\\n        marker=\\\"s\\\",\\n    )\\n    basemap.scatter(\\n        orgs[\\\"longitude\\\"], orgs[\\\"latitude\\\"], alpha=0.75, color=\\\"C0\\\", marker=\\\".\\\", s=10\\n    )\\n\\n    query_from_marker = basemap.scatter([], [], marker=\\\"h\\\", c=\\\"C1\\\")\\n    query_window_marker = basemap.scatter([], [], marker=\\\"s\\\", c=\\\"C2\\\")\\n    orgs_marker = basemap.scatter([], [], marker=\\\".\\\", c=\\\"C0\\\")\\n\\n    plt.legend(\\n        handles=[query_from_marker, query_window_marker, orgs_marker],\\n        labels=[\\\"regions the queries were made from\\\", \\\"shown windows\\\", \\\"orgs\\\"],\\n    )\\n\\n    plt.show()\";\n",
       "                var nbb_cells = Jupyter.notebook.get_cells();\n",
       "                for (var i = 0; i < nbb_cells.length; ++i) {\n",
       "                    if (nbb_cells[i].input_prompt_number == nbb_cell_id) {\n",
       "                        if (nbb_cells[i].get_text() == nbb_unformatted_code) {\n",
       "                             nbb_cells[i].set_text(nbb_formatted_code);\n",
       "                        }\n",
       "                        break;\n",
       "                    }\n",
       "                }\n",
       "            }, 500);\n",
       "            "
      ],
      "text/plain": [
       "<IPython.core.display.Javascript object>"
      ]
     },
     "metadata": {},
     "output_type": "display_data"
    }
   ],
   "source": [
    "def plot_geo_data(\n",
    "    orgs,\n",
    "    queries,\n",
    "    query_coordinates,\n",
    "    quantile=0.95,\n",
    "    figsize=(16, 16),\n",
    "    border_lon=15,\n",
    "    border_lat=20,\n",
    "):\n",
    "    fig = plt.figure(figsize=figsize)\n",
    "\n",
    "    llcrnrlon, urcrnrlon = pd.concat(\n",
    "        [orgs[\"longitude\"], queries[\"window_center_longitude\"]]\n",
    "    ).quantile([1 - quantile, quantile])\n",
    "    llcrnrlat, urcrnrlat = pd.concat(\n",
    "        [orgs[\"latitude\"], queries[\"window_center_latitude\"]]\n",
    "    ).quantile([1 - quantile, quantile])\n",
    "\n",
    "    basemap = Basemap(\n",
    "        llcrnrlon=llcrnrlon - border_lon,\n",
    "        llcrnrlat=llcrnrlat - border_lat,\n",
    "        urcrnrlon=urcrnrlon + border_lon,\n",
    "        urcrnrlat=urcrnrlat + border_lat,\n",
    "    )\n",
    "\n",
    "    basemap.drawcountries()\n",
    "    basemap.fillcontinents(lake_color=\"0.9\")\n",
    "\n",
    "    basemap.scatter(\n",
    "        query_coordinates[\"longitude\"],\n",
    "        query_coordinates[\"latitude\"],\n",
    "        alpha=0.05,\n",
    "        marker=\"h\",\n",
    "        color=\"C1\",\n",
    "        s=1000,\n",
    "    )\n",
    "    basemap.scatter(\n",
    "        queries[\"window_center_longitude\"],\n",
    "        queries[\"window_center_latitude\"],\n",
    "        alpha=0.3,\n",
    "        color=\"C2\",\n",
    "        marker=\"s\",\n",
    "    )\n",
    "    basemap.scatter(\n",
    "        orgs[\"longitude\"], orgs[\"latitude\"], alpha=0.75, color=\"C0\", marker=\".\", s=10\n",
    "    )\n",
    "\n",
    "    query_from_marker = basemap.scatter([], [], marker=\"h\", c=\"C1\")\n",
    "    query_window_marker = basemap.scatter([], [], marker=\"s\", c=\"C2\")\n",
    "    orgs_marker = basemap.scatter([], [], marker=\".\", c=\"C0\")\n",
    "\n",
    "    plt.legend(\n",
    "        handles=[query_from_marker, query_window_marker, orgs_marker],\n",
    "        labels=[\"regions the queries were made from\", \"shown windows\", \"orgs\"],\n",
    "    )\n",
    "\n",
    "    plt.show()"
   ]
  },
  {
   "cell_type": "code",
   "execution_count": 8,
   "metadata": {
    "ExecuteTime": {
     "end_time": "2022-07-10T08:24:30.484848Z",
     "start_time": "2022-07-10T08:23:33.372418Z"
    }
   },
   "outputs": [
    {
     "data": {
      "image/png": "[encoded data removed]",
      "text/plain": [
       "<Figure size 1152x1152 with 1 Axes>"
      ]
     },
     "metadata": {},
     "output_type": "display_data"
    },
    {
     "data": {
      "application/javascript": [
       "\n",
       "            setTimeout(function() {\n",
       "                var nbb_cell_id = 8;\n",
       "                var nbb_unformatted_code = \"rewrite_train = False\\ntrain_pickle_file = \\\"ranking_lab_train.pickle\\\"\\n\\nqueries = process_queries(train, org_names)\\norgs = process_orgs(orgs)\\n\\nif not os.path.isfile(train_pickle_file) or rewrite_train:\\n    train = process_train(train, queries, orgs)\\n    pickle.dump(train, open(train_pickle_file, \\\"wb\\\"))\\nelse:\\n    train = pickle.load(open(train_pickle_file, \\\"rb\\\"))\\n\\nplot_geo_data(orgs, queries, query_coordinates=get_query_coordinates())\";\n",
       "                var nbb_formatted_code = \"rewrite_train = False\\ntrain_pickle_file = \\\"ranking_lab_train.pickle\\\"\\n\\nqueries = process_queries(train, org_names)\\norgs = process_orgs(orgs)\\n\\nif not os.path.isfile(train_pickle_file) or rewrite_train:\\n    train = process_train(train, queries, orgs)\\n    pickle.dump(train, open(train_pickle_file, \\\"wb\\\"))\\nelse:\\n    train = pickle.load(open(train_pickle_file, \\\"rb\\\"))\\n\\nplot_geo_data(orgs, queries, query_coordinates=get_query_coordinates())\";\n",
       "                var nbb_cells = Jupyter.notebook.get_cells();\n",
       "                for (var i = 0; i < nbb_cells.length; ++i) {\n",
       "                    if (nbb_cells[i].input_prompt_number == nbb_cell_id) {\n",
       "                        if (nbb_cells[i].get_text() == nbb_unformatted_code) {\n",
       "                             nbb_cells[i].set_text(nbb_formatted_code);\n",
       "                        }\n",
       "                        break;\n",
       "                    }\n",
       "                }\n",
       "            }, 500);\n",
       "            "
      ],
      "text/plain": [
       "<IPython.core.display.Javascript object>"
      ]
     },
     "metadata": {},
     "output_type": "display_data"
    }
   ],
   "source": [
    "rewrite_train = False\n",
    "train_pickle_file = \"ranking_lab_train.pickle\"\n",
    "\n",
    "queries = process_queries(train, org_names)\n",
    "orgs = process_orgs(orgs)\n",
    "\n",
    "if not os.path.isfile(train_pickle_file) or rewrite_train:\n",
    "    train = process_train(train, queries, orgs)\n",
    "    pickle.dump(train, open(train_pickle_file, \"wb\"))\n",
    "else:\n",
    "    train = pickle.load(open(train_pickle_file, \"rb\"))\n",
    "\n",
    "plot_geo_data(orgs, queries, query_coordinates=get_query_coordinates())"
   ]
  },
  {
   "cell_type": "markdown",
   "metadata": {},
   "source": [
    "## Ранжирование\n",
    "\n",
    "![](http://i.imgur.com/2QnD2nF.jpg)\n",
    "\n",
    "Задачу поискового ранжирования можно описать следующим образом: имеется множество документов $d \\in D$ и множество запросов $q \\in Q$. Требуется оценить *степень релевантности* документа по отношению к запросу: $(q, d) \\mapsto r$, относительно которой будет производиться ранжирование. Для восстановления этой зависимости используются методы машинного обучения. Обычно используется три типа:\n",
    " - признаки запроса $q$, например: мешок слов текста запроса, его длина, ...\n",
    " - документа $d$, например: значение PageRank, мешок слов, доменное имя, ...\n",
    " - пары $(q, d)$, например: число вхождений фразы из запроса $q$ в документе $d$, ...\n",
    "\n",
    "Одна из отличительных особенностей задачи ранжирования от классических задач машинного обучения заключается в том, что качество результата зависит не от предсказанных оценок релевантности, а от порядка следования документов в рамках конкретного запроса, т.е. важно не абсолютное значение релевантности (его достаточно трудно формализовать в виде числа), а то, более или менее релевантен документ, относительно других документов.\n",
    "### Подходы к решению задачи ранжирования\n",
    "Существуют 3 основных подхода, различие между которыми в используемой функции потерь:\n",
    "  \n",
    "1. **Pointwise подход**. В этом случае рассматривается *один объект* (в случае поискового ранжирования - конкретный документ) и функция потерь считается только по нему. Любой стандартный классификатор или регрессор может решать pointwise задачу ранжирования, обучившись предсказывать значение таргета. Итоговое ранжирование получается после сортировки документов к одному запросу по предсказанию такой модели.\n",
    "2. **Pairwise подход**. В рамках данной модели функция потерь вычисляется по *паре объектов*. Другими словами, функция потерь штрафует модель, если отражированная этой моделью пара документов оказалась в неправильном порядке.\n",
    "3. **Listwise подход**. Этот подход использует все объекты для вычисления функции потерь, стараясь явно оптимизировать правильный порядок.\n",
    "\n",
    "### Оценка качества\n",
    "\n",
    "Для оценивания качества ранжирования найденных документов в поиске используются асессорские оценки. Само оценивание происходит на скрытых от обучения запросах $Queries$. Для этого традиционно используется метрика *DCG* ([Discounted Cumulative Gain](https://en.wikipedia.org/wiki/Discounted_cumulative_gain)) и ее нормализованный вариант — *nDCG*, всегда принимающий значения от 0 до 1.\n",
    "Для одного запроса DCG считается следующим образом:\n",
    "$$ DCG = \\sum_{i=1}^P\\frac{(2^{rel_i} - 1)}{\\log_2(i+1)}, $$\n",
    "\n",
    "где $P$ — число документов в поисковой выдаче, $rel_i$ — релевантность (асессорская оценка) документа, находящегося на i-той позиции.\n",
    "\n",
    "*IDCG* — идеальное (наибольшее из возможных) значение *DCG*, может быть получено путем ранжирования документов по убыванию асессорских оценок.\n",
    "\n",
    "Итоговая формула для расчета *nDCG*:\n",
    "\n",
    "$$nDCG = \\frac{DCG}{IDCG} \\in [0, 1].$$\n",
    "\n",
    "Чтобы оценить значение *nDCG* на выборке $Queries$ ($nDCG_{Queries}$) размера $N$, необходимо усреднить значение *nDCG* по всем запросам  выборки:\n",
    "$$nDCG_{Queries} = \\frac{1}{N}\\sum_{q \\in Queries}nDCG(q).$$\n",
    "\n",
    "Пример реализации метрик ранжирование на python можно найти [здесь](https://gist.github.com/mblondel/7337391)."
   ]
  },
  {
   "cell_type": "markdown",
   "metadata": {},
   "source": [
    "В рамках нашей задачи «документом» будет являться организация.\n",
    "\n",
    "Разбейте обучающую выборку на обучение и контроль в соотношении 70 / 30. Обратите внимание, что разбивать необходимо множество запросов, а не строчки датасета."
   ]
  },
  {
   "cell_type": "code",
   "execution_count": 9,
   "metadata": {
    "ExecuteTime": {
     "end_time": "2022-07-10T08:24:30.513793Z",
     "start_time": "2022-07-10T08:24:30.488381Z"
    }
   },
   "outputs": [
    {
     "data": {
      "application/javascript": [
       "\n",
       "            setTimeout(function() {\n",
       "                var nbb_cell_id = 9;\n",
       "                var nbb_unformatted_code = \"from sklearn.model_selection import GroupShuffleSplit\\n\\n\\ndef get_numeric_data(train):\\n    X = train.select_dtypes(\\\"number\\\").drop(\\n        [\\n            \\\"query_id\\\",\\n            \\\"org_id\\\",\\n            \\\"queries_geo_id\\\",\\n            \\\"orgs_geo_id\\\",\\n            \\\"queries_window_size_longitude\\\",\\n            \\\"queries_window_size_latitude\\\",\\n            \\\"relevance\\\",\\n        ],\\n        axis=\\\"columns\\\",\\n    )\\n\\n    y = train[\\\"relevance\\\"]\\n\\n    return X, y\\n\\n\\ndef split_grouped_data(train, train_size=0.70, random_state=42):\\n    train_index, test_index = next(\\n        GroupShuffleSplit(\\n            n_splits=1, train_size=train_size, random_state=random_state\\n        ).split(train, groups=train[\\\"query_id\\\"])\\n    )\\n    return train_index, test_index\";\n",
       "                var nbb_formatted_code = \"from sklearn.model_selection import GroupShuffleSplit\\n\\n\\ndef get_numeric_data(train):\\n    X = train.select_dtypes(\\\"number\\\").drop(\\n        [\\n            \\\"query_id\\\",\\n            \\\"org_id\\\",\\n            \\\"queries_geo_id\\\",\\n            \\\"orgs_geo_id\\\",\\n            \\\"queries_window_size_longitude\\\",\\n            \\\"queries_window_size_latitude\\\",\\n            \\\"relevance\\\",\\n        ],\\n        axis=\\\"columns\\\",\\n    )\\n\\n    y = train[\\\"relevance\\\"]\\n\\n    return X, y\\n\\n\\ndef split_grouped_data(train, train_size=0.70, random_state=42):\\n    train_index, test_index = next(\\n        GroupShuffleSplit(\\n            n_splits=1, train_size=train_size, random_state=random_state\\n        ).split(train, groups=train[\\\"query_id\\\"])\\n    )\\n    return train_index, test_index\";\n",
       "                var nbb_cells = Jupyter.notebook.get_cells();\n",
       "                for (var i = 0; i < nbb_cells.length; ++i) {\n",
       "                    if (nbb_cells[i].input_prompt_number == nbb_cell_id) {\n",
       "                        if (nbb_cells[i].get_text() == nbb_unformatted_code) {\n",
       "                             nbb_cells[i].set_text(nbb_formatted_code);\n",
       "                        }\n",
       "                        break;\n",
       "                    }\n",
       "                }\n",
       "            }, 500);\n",
       "            "
      ],
      "text/plain": [
       "<IPython.core.display.Javascript object>"
      ]
     },
     "metadata": {},
     "output_type": "display_data"
    }
   ],
   "source": [
    "from sklearn.model_selection import GroupShuffleSplit\n",
    "\n",
    "\n",
    "def get_numeric_data(train):\n",
    "    X = train.select_dtypes(\"number\").drop(\n",
    "        [\n",
    "            \"query_id\",\n",
    "            \"org_id\",\n",
    "            \"queries_geo_id\",\n",
    "            \"orgs_geo_id\",\n",
    "            \"queries_window_size_longitude\",\n",
    "            \"queries_window_size_latitude\",\n",
    "            \"relevance\",\n",
    "        ],\n",
    "        axis=\"columns\",\n",
    "    )\n",
    "\n",
    "    y = train[\"relevance\"]\n",
    "\n",
    "    return X, y\n",
    "\n",
    "\n",
    "def split_grouped_data(train, train_size=0.70, random_state=42):\n",
    "    train_index, test_index = next(\n",
    "        GroupShuffleSplit(\n",
    "            n_splits=1, train_size=train_size, random_state=random_state\n",
    "        ).split(train, groups=train[\"query_id\"])\n",
    "    )\n",
    "    return train_index, test_index"
   ]
  },
  {
   "cell_type": "code",
   "execution_count": 10,
   "metadata": {
    "ExecuteTime": {
     "end_time": "2022-07-10T08:24:30.588445Z",
     "start_time": "2022-07-10T08:24:30.515669Z"
    }
   },
   "outputs": [
    {
     "data": {
      "application/javascript": [
       "\n",
       "            setTimeout(function() {\n",
       "                var nbb_cell_id = 10;\n",
       "                var nbb_unformatted_code = \"X, y = get_numeric_data(train)\\ntrain_index, test_index = split_grouped_data(train)\";\n",
       "                var nbb_formatted_code = \"X, y = get_numeric_data(train)\\ntrain_index, test_index = split_grouped_data(train)\";\n",
       "                var nbb_cells = Jupyter.notebook.get_cells();\n",
       "                for (var i = 0; i < nbb_cells.length; ++i) {\n",
       "                    if (nbb_cells[i].input_prompt_number == nbb_cell_id) {\n",
       "                        if (nbb_cells[i].get_text() == nbb_unformatted_code) {\n",
       "                             nbb_cells[i].set_text(nbb_formatted_code);\n",
       "                        }\n",
       "                        break;\n",
       "                    }\n",
       "                }\n",
       "            }, 500);\n",
       "            "
      ],
      "text/plain": [
       "<IPython.core.display.Javascript object>"
      ]
     },
     "metadata": {},
     "output_type": "display_data"
    }
   ],
   "source": [
    "X, y = get_numeric_data(train)\n",
    "train_index, test_index = split_grouped_data(train)"
   ]
  },
  {
   "cell_type": "markdown",
   "metadata": {
    "collapsed": true
   },
   "source": [
    "Далее рассмотрим несколько подходов предсказания релевантности. Для оценивания качества моделей используйте метрику nDCG на контроле. В случае подбора гиперпараметров используйте кросс-валидацию по 5 блокам, где разбиение должно быть по запросам, а не строчкам датасета."
   ]
  },
  {
   "cell_type": "markdown",
   "metadata": {},
   "source": [
    "###  Ранжируем с XGBoost и CatBoost\n",
    "\n",
    "XGBoost имеет несколько функций потерь для решения задачи ранжирования:\n",
    "1. **reg:linear** — данную функцию потерь можно использовать для решения задачи ранжирование *pointwise* подходом.\n",
    "2. **rank:pairwise** — в качестве *pairwise* модели в XGBoost реализован [RankNet](http://icml.cc/2015/wp-content/uploads/2015/06/icml_ranking.pdf), в котором минимизируется гладкий функционал качества ранжирования: $$ Obj = \\sum_{i \\prec j} \\mathcal{L}\\left(a(x_j) - a(x_i)\\right) \\rightarrow min $$ $$ \\mathcal{L}(M) = log(1 + e^{-M}), $$ где $ a(x) $ - функция ранжирования. Суммирование ведется по всем парам объектов, для которых определено отношение порядка, например, для пар документов, показанных по одному запросу. Таким образом функция потерь штрафует за то, что пара объектов неправильно упорядочена.\n",
    "3. **rank:map, rank:ndcg** — реализация [LambdaRank](https://www.microsoft.com/en-us/research/wp-content/uploads/2016/02/MSR-TR-2010-82.pdf) для двух метрик: [MAP](https://en.wikipedia.org/wiki/Information_retrieval#Mean_average_precision) и **nDCG**. Известно, что для того, чтобы оптимизировать негладкий функционал, такой как **nDCG**,  нужно домножить градиент функционала $ Obj(a) $ на значение $\\Delta NDCG_{ij} $ — изменение значения функционала качества при замене $x_i$ на $ x_j$.  Поскольку для вычисления метрик необходимы все объекты выборки, то эти две ранжирующие функции потерь являются представителями класса *listwise* моделей."
   ]
  },
  {
   "cell_type": "markdown",
   "metadata": {},
   "source": [
    "Реализованные в CatBoost ранжирующие функции потерь можной найти [здесь](https://catboost.ai/docs/concepts/loss-functions-ranking.html#groupwise-metrics)."
   ]
  },
  {
   "cell_type": "markdown",
   "metadata": {},
   "source": [
    "**(3 балла) Задание 2.** Попробуйте различные функции потерь (регрессионные и ранжирующие) для моделей XGBoost и CatBoost. Настройте основные параметры моделей (глубина, кол-во деревьев, глубина, скорость обучения, регуляризация).  \n",
    "Сравните построенные модели с точки зрения метрики nDCG на контроле и проанализируйте полученные результаты:\n",
    "  - какая модель работает лучше всего для данной задачи? \n",
    "  - в чем достоинства/недостатки каждой? \n",
    "  - сравните модели между собой: \n",
    "   - получается ли сравнимое качество линейного pointwise подхода с остальными моделями? \n",
    "   - заметна ли разница в качестве при использовании бустинга с разными функциями потерь?"
   ]
  },
  {
   "cell_type": "code",
   "execution_count": 11,
   "metadata": {
    "ExecuteTime": {
     "end_time": "2022-07-10T08:24:30.785407Z",
     "start_time": "2022-07-10T08:24:30.590222Z"
    }
   },
   "outputs": [
    {
     "name": "stderr",
     "output_type": "stream",
     "text": [
      "/tmp/ipykernel_42048/590557694.py:7: TqdmExperimentalWarning: Using `tqdm.autonotebook.tqdm` in notebook mode. Use `tqdm.tqdm` instead to force console mode (e.g. in jupyter console)\n",
      "  from tqdm.autonotebook import tqdm\n"
     ]
    },
    {
     "data": {
      "application/javascript": [
       "\n",
       "            setTimeout(function() {\n",
       "                var nbb_cell_id = 11;\n",
       "                var nbb_unformatted_code = \"import catboost as cb\\nimport xgboost as xgb\\n\\nfrom sklearn.base import BaseEstimator\\nfrom sklearn.metrics import ndcg_score\\nfrom sklearn.model_selection import GridSearchCV, GroupKFold\\nfrom tqdm.autonotebook import tqdm\\n\\n\\ndef mean_ndcg_score(train, y_true, y_pred):\\n    return (\\n        pd.DataFrame({\\\"true_relevance\\\": y_true, \\\"predicted_relevance\\\": y_pred})\\n        .groupby(train.loc[y_true.index][\\\"query_id\\\"])\\n        .apply(\\n            lambda df: pd.NA\\n            if len(df) <= 1\\n            else ndcg_score(\\n                y_true=[df[\\\"true_relevance\\\"].values],\\n                y_score=[df[\\\"predicted_relevance\\\"].values],\\n            )\\n        )\\n        .mean()\\n    )\\n\\n\\nclass MeanNDCGScorer:\\n    def __call__(self, estimator, X_test, y_test):\\n        y_pred = estimator.predict(X_test)\\n        return mean_ndcg_score(train, y_test, y_pred)\\n\\n\\ndef group_data_by_query_ids(X, y):\\n    query_ids = train.loc[X.index][\\\"query_id\\\"]\\n    index = query_ids.sort_values().index\\n    return X.loc[index], y.loc[index], query_ids.loc[index]\\n\\n\\ndef wrap_xgb_model(XGBModel: \\\"xgb.sklearn.XGBModel\\\", **kwargs):\\n    class XGBWrapper(XGBModel):\\n        def fit(self, X, y):\\n            X, y, qid = group_data_by_query_ids(X, y)\\n            group_kwargs = {} if isinstance(self, xgb.XGBRegressor) else {\\\"qid\\\": qid}\\n            return super().fit(X, y, **group_kwargs)\\n\\n    return XGBWrapper(**kwargs)\\n\\n\\nclass CatBoostWrapper(cb.CatBoost):\\n    def __init__(self, **kwargs):\\n        return super().__init__(kwargs)\\n\\n    def fit(self, X, y):\\n        X, y, qid = group_data_by_query_ids(X, y)\\n        if (\\n            loss_function := self.get_param(\\\"loss_function\\\")\\n        ) is None or loss_function == \\\"RMSE\\\":\\n            qid = None\\n\\n        cat_features = list(X.select_dtypes(\\\"category\\\").columns) or None\\n\\n        text_features = list(X.select_dtypes(\\\"object\\\").columns) or None\\n\\n        return super().fit(\\n            X, y, group_id=qid, cat_features=cat_features, text_features=text_features\\n        )\\n\\n\\nclass CustomXGBModel(BaseEstimator):\\n    def __init__(self, objective, n_estimators=None, **kwargs):\\n        self.objective = objective\\n        self.n_estimators = n_estimators\\n        self.kwargs = kwargs\\n        self.model = None\\n\\n    def fit(self, X, y):\\n        X, y, qid = group_data_by_query_ids(X, y)\\n        self.model = xgb.train(\\n            params=self.kwargs,\\n            dtrain=xgb.DMatrix(\\n                data=X,\\n                label=y,\\n                qid=qid,\\n            ),\\n            obj=self.objective,\\n            num_boost_round=self.n_estimators,\\n        )\\n        return self.model\\n\\n    def predict(self, X):\\n        return self.model.predict(xgb.DMatrix(X))\\n\\n    def get_params(self, deep=False):\\n        return {\\n            \\\"objective\\\": self.objective,\\n            \\\"max_depth\\\": None,\\n            \\\"n_estimators\\\": self.n_estimators,\\n            \\\"learning_rate\\\": None,\\n            \\\"reg_lambda\\\": None,\\n            **self.kwargs,\\n        }\\n\\n    def set_params(self, n_estimators, **kwargs):\\n        self.n_estimators = n_estimators\\n        self.kwargs.update(kwargs)\\n        return self\\n\\n\\ndef get_model(objective, xgb_common_params, cb_common_params):\\n    if isinstance(objective, str):\\n        if objective.startswith(\\\"reg:\\\"):\\n            return wrap_xgb_model(\\n                xgb.XGBRegressor, objective=objective, **xgb_common_params\\n            )\\n        elif objective.startswith(\\\"rank:\\\"):\\n            return wrap_xgb_model(\\n                xgb.XGBRanker, objective=objective, **xgb_common_params\\n            )\\n        else:\\n            return CatBoostWrapper(loss_function=objective, **cb_common_params)\\n\\n    else:\\n        return CustomXGBModel(objective=objective, **xgb_common_params)\";\n",
       "                var nbb_formatted_code = \"import catboost as cb\\nimport xgboost as xgb\\n\\nfrom sklearn.base import BaseEstimator\\nfrom sklearn.metrics import ndcg_score\\nfrom sklearn.model_selection import GridSearchCV, GroupKFold\\nfrom tqdm.autonotebook import tqdm\\n\\n\\ndef mean_ndcg_score(train, y_true, y_pred):\\n    return (\\n        pd.DataFrame({\\\"true_relevance\\\": y_true, \\\"predicted_relevance\\\": y_pred})\\n        .groupby(train.loc[y_true.index][\\\"query_id\\\"])\\n        .apply(\\n            lambda df: pd.NA\\n            if len(df) <= 1\\n            else ndcg_score(\\n                y_true=[df[\\\"true_relevance\\\"].values],\\n                y_score=[df[\\\"predicted_relevance\\\"].values],\\n            )\\n        )\\n        .mean()\\n    )\\n\\n\\nclass MeanNDCGScorer:\\n    def __call__(self, estimator, X_test, y_test):\\n        y_pred = estimator.predict(X_test)\\n        return mean_ndcg_score(train, y_test, y_pred)\\n\\n\\ndef group_data_by_query_ids(X, y):\\n    query_ids = train.loc[X.index][\\\"query_id\\\"]\\n    index = query_ids.sort_values().index\\n    return X.loc[index], y.loc[index], query_ids.loc[index]\\n\\n\\ndef wrap_xgb_model(XGBModel: \\\"xgb.sklearn.XGBModel\\\", **kwargs):\\n    class XGBWrapper(XGBModel):\\n        def fit(self, X, y):\\n            X, y, qid = group_data_by_query_ids(X, y)\\n            group_kwargs = {} if isinstance(self, xgb.XGBRegressor) else {\\\"qid\\\": qid}\\n            return super().fit(X, y, **group_kwargs)\\n\\n    return XGBWrapper(**kwargs)\\n\\n\\nclass CatBoostWrapper(cb.CatBoost):\\n    def __init__(self, **kwargs):\\n        return super().__init__(kwargs)\\n\\n    def fit(self, X, y):\\n        X, y, qid = group_data_by_query_ids(X, y)\\n        if (\\n            loss_function := self.get_param(\\\"loss_function\\\")\\n        ) is None or loss_function == \\\"RMSE\\\":\\n            qid = None\\n\\n        cat_features = list(X.select_dtypes(\\\"category\\\").columns) or None\\n\\n        text_features = list(X.select_dtypes(\\\"object\\\").columns) or None\\n\\n        return super().fit(\\n            X, y, group_id=qid, cat_features=cat_features, text_features=text_features\\n        )\\n\\n\\nclass CustomXGBModel(BaseEstimator):\\n    def __init__(self, objective, n_estimators=None, **kwargs):\\n        self.objective = objective\\n        self.n_estimators = n_estimators\\n        self.kwargs = kwargs\\n        self.model = None\\n\\n    def fit(self, X, y):\\n        X, y, qid = group_data_by_query_ids(X, y)\\n        self.model = xgb.train(\\n            params=self.kwargs,\\n            dtrain=xgb.DMatrix(\\n                data=X,\\n                label=y,\\n                qid=qid,\\n            ),\\n            obj=self.objective,\\n            num_boost_round=self.n_estimators,\\n        )\\n        return self.model\\n\\n    def predict(self, X):\\n        return self.model.predict(xgb.DMatrix(X))\\n\\n    def get_params(self, deep=False):\\n        return {\\n            \\\"objective\\\": self.objective,\\n            \\\"max_depth\\\": None,\\n            \\\"n_estimators\\\": self.n_estimators,\\n            \\\"learning_rate\\\": None,\\n            \\\"reg_lambda\\\": None,\\n            **self.kwargs,\\n        }\\n\\n    def set_params(self, n_estimators, **kwargs):\\n        self.n_estimators = n_estimators\\n        self.kwargs.update(kwargs)\\n        return self\\n\\n\\ndef get_model(objective, xgb_common_params, cb_common_params):\\n    if isinstance(objective, str):\\n        if objective.startswith(\\\"reg:\\\"):\\n            return wrap_xgb_model(\\n                xgb.XGBRegressor, objective=objective, **xgb_common_params\\n            )\\n        elif objective.startswith(\\\"rank:\\\"):\\n            return wrap_xgb_model(\\n                xgb.XGBRanker, objective=objective, **xgb_common_params\\n            )\\n        else:\\n            return CatBoostWrapper(loss_function=objective, **cb_common_params)\\n\\n    else:\\n        return CustomXGBModel(objective=objective, **xgb_common_params)\";\n",
       "                var nbb_cells = Jupyter.notebook.get_cells();\n",
       "                for (var i = 0; i < nbb_cells.length; ++i) {\n",
       "                    if (nbb_cells[i].input_prompt_number == nbb_cell_id) {\n",
       "                        if (nbb_cells[i].get_text() == nbb_unformatted_code) {\n",
       "                             nbb_cells[i].set_text(nbb_formatted_code);\n",
       "                        }\n",
       "                        break;\n",
       "                    }\n",
       "                }\n",
       "            }, 500);\n",
       "            "
      ],
      "text/plain": [
       "<IPython.core.display.Javascript object>"
      ]
     },
     "metadata": {},
     "output_type": "display_data"
    }
   ],
   "source": [
    "import catboost as cb\n",
    "import xgboost as xgb\n",
    "\n",
    "from sklearn.base import BaseEstimator\n",
    "from sklearn.metrics import ndcg_score\n",
    "from sklearn.model_selection import GridSearchCV, GroupKFold\n",
    "from tqdm.autonotebook import tqdm\n",
    "\n",
    "\n",
    "def mean_ndcg_score(train, y_true, y_pred):\n",
    "    return (\n",
    "        pd.DataFrame({\"true_relevance\": y_true, \"predicted_relevance\": y_pred})\n",
    "        .groupby(train.loc[y_true.index][\"query_id\"])\n",
    "        .apply(\n",
    "            lambda df: pd.NA\n",
    "            if len(df) <= 1\n",
    "            else ndcg_score(\n",
    "                y_true=[df[\"true_relevance\"].values],\n",
    "                y_score=[df[\"predicted_relevance\"].values],\n",
    "            )\n",
    "        )\n",
    "        .mean()\n",
    "    )\n",
    "\n",
    "\n",
    "class MeanNDCGScorer:\n",
    "    def __call__(self, estimator, X_test, y_test):\n",
    "        y_pred = estimator.predict(X_test)\n",
    "        return mean_ndcg_score(train, y_test, y_pred)\n",
    "\n",
    "\n",
    "def group_data_by_query_ids(X, y):\n",
    "    query_ids = train.loc[X.index][\"query_id\"]\n",
    "    index = query_ids.sort_values().index\n",
    "    return X.loc[index], y.loc[index], query_ids.loc[index]\n",
    "\n",
    "\n",
    "def wrap_xgb_model(XGBModel: \"xgb.sklearn.XGBModel\", **kwargs):\n",
    "    class XGBWrapper(XGBModel):\n",
    "        def fit(self, X, y):\n",
    "            X, y, qid = group_data_by_query_ids(X, y)\n",
    "            group_kwargs = {} if isinstance(self, xgb.XGBRegressor) else {\"qid\": qid}\n",
    "            return super().fit(X, y, **group_kwargs)\n",
    "\n",
    "    return XGBWrapper(**kwargs)\n",
    "\n",
    "\n",
    "class CatBoostWrapper(cb.CatBoost):\n",
    "    def __init__(self, **kwargs):\n",
    "        return super().__init__(kwargs)\n",
    "\n",
    "    def fit(self, X, y):\n",
    "        X, y, qid = group_data_by_query_ids(X, y)\n",
    "        if (\n",
    "            loss_function := self.get_param(\"loss_function\")\n",
    "        ) is None or loss_function == \"RMSE\":\n",
    "            qid = None\n",
    "\n",
    "        cat_features = list(X.select_dtypes(\"category\").columns) or None\n",
    "\n",
    "        text_features = list(X.select_dtypes(\"object\").columns) or None\n",
    "\n",
    "        return super().fit(\n",
    "            X, y, group_id=qid, cat_features=cat_features, text_features=text_features\n",
    "        )\n",
    "\n",
    "\n",
    "class CustomXGBModel(BaseEstimator):\n",
    "    def __init__(self, objective, n_estimators=None, **kwargs):\n",
    "        self.objective = objective\n",
    "        self.n_estimators = n_estimators\n",
    "        self.kwargs = kwargs\n",
    "        self.model = None\n",
    "\n",
    "    def fit(self, X, y):\n",
    "        X, y, qid = group_data_by_query_ids(X, y)\n",
    "        self.model = xgb.train(\n",
    "            params=self.kwargs,\n",
    "            dtrain=xgb.DMatrix(\n",
    "                data=X,\n",
    "                label=y,\n",
    "                qid=qid,\n",
    "            ),\n",
    "            obj=self.objective,\n",
    "            num_boost_round=self.n_estimators,\n",
    "        )\n",
    "        return self.model\n",
    "\n",
    "    def predict(self, X):\n",
    "        return self.model.predict(xgb.DMatrix(X))\n",
    "\n",
    "    def get_params(self, deep=False):\n",
    "        return {\n",
    "            \"objective\": self.objective,\n",
    "            \"max_depth\": None,\n",
    "            \"n_estimators\": self.n_estimators,\n",
    "            \"learning_rate\": None,\n",
    "            \"reg_lambda\": None,\n",
    "            **self.kwargs,\n",
    "        }\n",
    "\n",
    "    def set_params(self, n_estimators, **kwargs):\n",
    "        self.n_estimators = n_estimators\n",
    "        self.kwargs.update(kwargs)\n",
    "        return self\n",
    "\n",
    "\n",
    "def get_model(objective, xgb_common_params, cb_common_params):\n",
    "    if isinstance(objective, str):\n",
    "        if objective.startswith(\"reg:\"):\n",
    "            return wrap_xgb_model(\n",
    "                xgb.XGBRegressor, objective=objective, **xgb_common_params\n",
    "            )\n",
    "        elif objective.startswith(\"rank:\"):\n",
    "            return wrap_xgb_model(\n",
    "                xgb.XGBRanker, objective=objective, **xgb_common_params\n",
    "            )\n",
    "        else:\n",
    "            return CatBoostWrapper(loss_function=objective, **cb_common_params)\n",
    "\n",
    "    else:\n",
    "        return CustomXGBModel(objective=objective, **xgb_common_params)"
   ]
  },
  {
   "cell_type": "markdown",
   "metadata": {},
   "source": [
    "Дальше нужно провести некоторые преобразования данных, связанные с особенностями реализации моделей: модель xgboost с параметром `objective=\"rank:ndcg\"` работает только с целочисленными релевантностями, а catboost с `loss_function=\"QueryCrossEntropy\"` требует, чтобы каждому запросу сопоставлялось не более 256 документов."
   ]
  },
  {
   "cell_type": "code",
   "execution_count": 12,
   "metadata": {
    "ExecuteTime": {
     "end_time": "2022-07-10T08:24:30.798622Z",
     "start_time": "2022-07-10T08:24:30.787518Z"
    }
   },
   "outputs": [
    {
     "data": {
      "application/javascript": [
       "\n",
       "            setTimeout(function() {\n",
       "                var nbb_cell_id = 12;\n",
       "                var nbb_unformatted_code = \"def get_index_with_no_more_than_256_documents_per_query(train):\\n    ids_of_queries_bigger_than_256 = (\\n        train[\\\"query_id\\\"].value_counts().to_frame().query(\\\"query_id > 256\\\").index\\n    )\\n    if not len(ids_of_queries_bigger_than_256):\\n        return train.index\\n\\n    ids_to_drop = (\\n        train.query(\\\"query_id in @ids_of_queries_bigger_than_256\\\")\\n        .groupby(\\\"query_id\\\")\\n        .apply(lambda df: df.sort_values(\\\"relevance\\\", ascending=False)[256:])\\n        .index.get_level_values(1)\\n    )\\n    index = np.setdiff1d(train.index, ids_to_drop)\\n    return index\";\n",
       "                var nbb_formatted_code = \"def get_index_with_no_more_than_256_documents_per_query(train):\\n    ids_of_queries_bigger_than_256 = (\\n        train[\\\"query_id\\\"].value_counts().to_frame().query(\\\"query_id > 256\\\").index\\n    )\\n    if not len(ids_of_queries_bigger_than_256):\\n        return train.index\\n\\n    ids_to_drop = (\\n        train.query(\\\"query_id in @ids_of_queries_bigger_than_256\\\")\\n        .groupby(\\\"query_id\\\")\\n        .apply(lambda df: df.sort_values(\\\"relevance\\\", ascending=False)[256:])\\n        .index.get_level_values(1)\\n    )\\n    index = np.setdiff1d(train.index, ids_to_drop)\\n    return index\";\n",
       "                var nbb_cells = Jupyter.notebook.get_cells();\n",
       "                for (var i = 0; i < nbb_cells.length; ++i) {\n",
       "                    if (nbb_cells[i].input_prompt_number == nbb_cell_id) {\n",
       "                        if (nbb_cells[i].get_text() == nbb_unformatted_code) {\n",
       "                             nbb_cells[i].set_text(nbb_formatted_code);\n",
       "                        }\n",
       "                        break;\n",
       "                    }\n",
       "                }\n",
       "            }, 500);\n",
       "            "
      ],
      "text/plain": [
       "<IPython.core.display.Javascript object>"
      ]
     },
     "metadata": {},
     "output_type": "display_data"
    }
   ],
   "source": [
    "def get_index_with_no_more_than_256_documents_per_query(train):\n",
    "    ids_of_queries_bigger_than_256 = (\n",
    "        train[\"query_id\"].value_counts().to_frame().query(\"query_id > 256\").index\n",
    "    )\n",
    "    if not len(ids_of_queries_bigger_than_256):\n",
    "        return train.index\n",
    "\n",
    "    ids_to_drop = (\n",
    "        train.query(\"query_id in @ids_of_queries_bigger_than_256\")\n",
    "        .groupby(\"query_id\")\n",
    "        .apply(lambda df: df.sort_values(\"relevance\", ascending=False)[256:])\n",
    "        .index.get_level_values(1)\n",
    "    )\n",
    "    index = np.setdiff1d(train.index, ids_to_drop)\n",
    "    return index"
   ]
  },
  {
   "cell_type": "code",
   "execution_count": 13,
   "metadata": {
    "ExecuteTime": {
     "end_time": "2022-07-10T08:24:30.914021Z",
     "start_time": "2022-07-10T08:24:30.800451Z"
    }
   },
   "outputs": [
    {
     "data": {
      "application/javascript": [
       "\n",
       "            setTimeout(function() {\n",
       "                var nbb_cell_id = 13;\n",
       "                var nbb_unformatted_code = \"def run_grid_search(\\n    X_train,\\n    y_train,\\n    groups_train,\\n    X_test,\\n    y_test,\\n    objectives,\\n    xgb_common_params,\\n    cb_common_params,\\n    param_grid,\\n    scorer,\\n    n_splits=3,\\n    save_results_to_file=True,\\n):\\n\\n    results = {}\\n\\n    for objective in tqdm(objectives):\\n\\n        grid_search = GridSearchCV(\\n            estimator=get_model(objective, xgb_common_params, cb_common_params),\\n            param_grid=param_grid,\\n            scoring=scorer,\\n            cv=GroupKFold(n_splits=n_splits),\\n        )\\n\\n        grid_search.fit(\\n            X_train,\\n            y_train,\\n            groups=groups_train,\\n        )\\n\\n        results[objective] = {\\n            \\\"best_params\\\": grid_search.best_params_,\\n            \\\"test_ndcg\\\": scorer(grid_search.best_estimator_, X_test, y_test),\\n            \\\"cv_results\\\": grid_search.cv_results_,\\n            \\\"grid_search\\\": grid_search,\\n        }\\n\\n        if save_results_to_file:\\n            pickle.dump(\\n                {k: v for k, v in results[objective].items() if k != \\\"grid_search\\\"},\\n                open(f\\\"results_{objective}.pickle\\\", \\\"wb\\\"),\\n            )\\n\\n    return results\";\n",
       "                var nbb_formatted_code = \"def run_grid_search(\\n    X_train,\\n    y_train,\\n    groups_train,\\n    X_test,\\n    y_test,\\n    objectives,\\n    xgb_common_params,\\n    cb_common_params,\\n    param_grid,\\n    scorer,\\n    n_splits=3,\\n    save_results_to_file=True,\\n):\\n\\n    results = {}\\n\\n    for objective in tqdm(objectives):\\n\\n        grid_search = GridSearchCV(\\n            estimator=get_model(objective, xgb_common_params, cb_common_params),\\n            param_grid=param_grid,\\n            scoring=scorer,\\n            cv=GroupKFold(n_splits=n_splits),\\n        )\\n\\n        grid_search.fit(\\n            X_train,\\n            y_train,\\n            groups=groups_train,\\n        )\\n\\n        results[objective] = {\\n            \\\"best_params\\\": grid_search.best_params_,\\n            \\\"test_ndcg\\\": scorer(grid_search.best_estimator_, X_test, y_test),\\n            \\\"cv_results\\\": grid_search.cv_results_,\\n            \\\"grid_search\\\": grid_search,\\n        }\\n\\n        if save_results_to_file:\\n            pickle.dump(\\n                {k: v for k, v in results[objective].items() if k != \\\"grid_search\\\"},\\n                open(f\\\"results_{objective}.pickle\\\", \\\"wb\\\"),\\n            )\\n\\n    return results\";\n",
       "                var nbb_cells = Jupyter.notebook.get_cells();\n",
       "                for (var i = 0; i < nbb_cells.length; ++i) {\n",
       "                    if (nbb_cells[i].input_prompt_number == nbb_cell_id) {\n",
       "                        if (nbb_cells[i].get_text() == nbb_unformatted_code) {\n",
       "                             nbb_cells[i].set_text(nbb_formatted_code);\n",
       "                        }\n",
       "                        break;\n",
       "                    }\n",
       "                }\n",
       "            }, 500);\n",
       "            "
      ],
      "text/plain": [
       "<IPython.core.display.Javascript object>"
      ]
     },
     "metadata": {},
     "output_type": "display_data"
    }
   ],
   "source": [
    "def run_grid_search(\n",
    "    X_train,\n",
    "    y_train,\n",
    "    groups_train,\n",
    "    X_test,\n",
    "    y_test,\n",
    "    objectives,\n",
    "    xgb_common_params,\n",
    "    cb_common_params,\n",
    "    param_grid,\n",
    "    scorer,\n",
    "    n_splits=3,\n",
    "    save_results_to_file=True,\n",
    "):\n",
    "\n",
    "    results = {}\n",
    "\n",
    "    for objective in tqdm(objectives):\n",
    "\n",
    "        grid_search = GridSearchCV(\n",
    "            estimator=get_model(objective, xgb_common_params, cb_common_params),\n",
    "            param_grid=param_grid,\n",
    "            scoring=scorer,\n",
    "            cv=GroupKFold(n_splits=n_splits),\n",
    "        )\n",
    "\n",
    "        grid_search.fit(\n",
    "            X_train,\n",
    "            y_train,\n",
    "            groups=groups_train,\n",
    "        )\n",
    "\n",
    "        results[objective] = {\n",
    "            \"best_params\": grid_search.best_params_,\n",
    "            \"test_ndcg\": scorer(grid_search.best_estimator_, X_test, y_test),\n",
    "            \"cv_results\": grid_search.cv_results_,\n",
    "            \"grid_search\": grid_search,\n",
    "        }\n",
    "\n",
    "        if save_results_to_file:\n",
    "            pickle.dump(\n",
    "                {k: v for k, v in results[objective].items() if k != \"grid_search\"},\n",
    "                open(f\"results_{objective}.pickle\", \"wb\"),\n",
    "            )\n",
    "\n",
    "    return results"
   ]
  },
  {
   "cell_type": "code",
   "execution_count": 14,
   "metadata": {
    "ExecuteTime": {
     "end_time": "2022-07-10T08:24:31.036464Z",
     "start_time": "2022-07-10T08:24:30.917574Z"
    }
   },
   "outputs": [
    {
     "data": {
      "application/javascript": [
       "\n",
       "            setTimeout(function() {\n",
       "                var nbb_cell_id = 14;\n",
       "                var nbb_unformatted_code = \"GPU_IDS = [1, 0, 2, 3]\\n\\nclipped_train_index = get_index_with_no_more_than_256_documents_per_query(train)\\n\\ny_int = (y * 100).astype(int)\\n\\nxgb_common_params = dict(tree_method=\\\"gpu_hist\\\", gpu_id=GPU_IDS[0])\\n\\ncb_common_params = dict(\\n    logging_level=\\\"Silent\\\",\\n    metric_period=1000,\\n    task_type=\\\"GPU\\\",\\n    devices=\\\":\\\".join(map(str, GPU_IDS)),\\n)\\n\\nxgb_objectives = [\\\"reg:squarederror\\\", \\\"rank:pairwise\\\", \\\"rank:map\\\", \\\"rank:ndcg\\\"]\\n\\ncb_loss_functions = [\\n    \\\"RMSE\\\",\\n    \\\"PairLogit\\\",\\n    \\\"YetiRank\\\",\\n    \\\"QueryCrossEntropy\\\",\\n    \\\"YetiRankPairwise\\\",\\n]\\n\\nparam_grid = dict(\\n    max_depth=[3, 6, 9],\\n    n_estimators=[50, 100, 200],\\n    learning_rate=[0.1, 0.3, 0.5],\\n    reg_lambda=[0.01, 1, 10],\\n)\\n\\ngrid_search_params = dict(\\n    X_train=X.loc[clipped_train_index],\\n    y_train=y_int.loc[clipped_train_index],\\n    groups_train=train.loc[clipped_train_index][\\\"query_id\\\"],\\n    X_test=X.loc[test_index],\\n    y_test=y_int.loc[test_index],\\n    objectives=xgb_objectives + cb_loss_functions,\\n    xgb_common_params=xgb_common_params,\\n    cb_common_params=cb_common_params,\\n    param_grid=param_grid,\\n    scorer=MeanNDCGScorer(),\\n)\";\n",
       "                var nbb_formatted_code = \"GPU_IDS = [1, 0, 2, 3]\\n\\nclipped_train_index = get_index_with_no_more_than_256_documents_per_query(train)\\n\\ny_int = (y * 100).astype(int)\\n\\nxgb_common_params = dict(tree_method=\\\"gpu_hist\\\", gpu_id=GPU_IDS[0])\\n\\ncb_common_params = dict(\\n    logging_level=\\\"Silent\\\",\\n    metric_period=1000,\\n    task_type=\\\"GPU\\\",\\n    devices=\\\":\\\".join(map(str, GPU_IDS)),\\n)\\n\\nxgb_objectives = [\\\"reg:squarederror\\\", \\\"rank:pairwise\\\", \\\"rank:map\\\", \\\"rank:ndcg\\\"]\\n\\ncb_loss_functions = [\\n    \\\"RMSE\\\",\\n    \\\"PairLogit\\\",\\n    \\\"YetiRank\\\",\\n    \\\"QueryCrossEntropy\\\",\\n    \\\"YetiRankPairwise\\\",\\n]\\n\\nparam_grid = dict(\\n    max_depth=[3, 6, 9],\\n    n_estimators=[50, 100, 200],\\n    learning_rate=[0.1, 0.3, 0.5],\\n    reg_lambda=[0.01, 1, 10],\\n)\\n\\ngrid_search_params = dict(\\n    X_train=X.loc[clipped_train_index],\\n    y_train=y_int.loc[clipped_train_index],\\n    groups_train=train.loc[clipped_train_index][\\\"query_id\\\"],\\n    X_test=X.loc[test_index],\\n    y_test=y_int.loc[test_index],\\n    objectives=xgb_objectives + cb_loss_functions,\\n    xgb_common_params=xgb_common_params,\\n    cb_common_params=cb_common_params,\\n    param_grid=param_grid,\\n    scorer=MeanNDCGScorer(),\\n)\";\n",
       "                var nbb_cells = Jupyter.notebook.get_cells();\n",
       "                for (var i = 0; i < nbb_cells.length; ++i) {\n",
       "                    if (nbb_cells[i].input_prompt_number == nbb_cell_id) {\n",
       "                        if (nbb_cells[i].get_text() == nbb_unformatted_code) {\n",
       "                             nbb_cells[i].set_text(nbb_formatted_code);\n",
       "                        }\n",
       "                        break;\n",
       "                    }\n",
       "                }\n",
       "            }, 500);\n",
       "            "
      ],
      "text/plain": [
       "<IPython.core.display.Javascript object>"
      ]
     },
     "metadata": {},
     "output_type": "display_data"
    }
   ],
   "source": [
    "GPU_IDS = [1, 0, 2, 3]\n",
    "\n",
    "clipped_train_index = get_index_with_no_more_than_256_documents_per_query(train)\n",
    "\n",
    "y_int = (y * 100).astype(int)\n",
    "\n",
    "xgb_common_params = dict(tree_method=\"gpu_hist\", gpu_id=GPU_IDS[0])\n",
    "\n",
    "cb_common_params = dict(\n",
    "    logging_level=\"Silent\",\n",
    "    metric_period=1000,\n",
    "    task_type=\"GPU\",\n",
    "    devices=\":\".join(map(str, GPU_IDS)),\n",
    ")\n",
    "\n",
    "xgb_objectives = [\"reg:squarederror\", \"rank:pairwise\", \"rank:map\", \"rank:ndcg\"]\n",
    "\n",
    "cb_loss_functions = [\n",
    "    \"RMSE\",\n",
    "    \"PairLogit\",\n",
    "    \"YetiRank\",\n",
    "    \"QueryCrossEntropy\",\n",
    "    \"YetiRankPairwise\",\n",
    "]\n",
    "\n",
    "param_grid = dict(\n",
    "    max_depth=[3, 6, 9],\n",
    "    n_estimators=[50, 100, 200],\n",
    "    learning_rate=[0.1, 0.3, 0.5],\n",
    "    reg_lambda=[0.01, 1, 10],\n",
    ")\n",
    "\n",
    "grid_search_params = dict(\n",
    "    X_train=X.loc[clipped_train_index],\n",
    "    y_train=y_int.loc[clipped_train_index],\n",
    "    groups_train=train.loc[clipped_train_index][\"query_id\"],\n",
    "    X_test=X.loc[test_index],\n",
    "    y_test=y_int.loc[test_index],\n",
    "    objectives=xgb_objectives + cb_loss_functions,\n",
    "    xgb_common_params=xgb_common_params,\n",
    "    cb_common_params=cb_common_params,\n",
    "    param_grid=param_grid,\n",
    "    scorer=MeanNDCGScorer(),\n",
    ")"
   ]
  },
  {
   "cell_type": "code",
   "execution_count": null,
   "metadata": {
    "ExecuteTime": {
     "end_time": "2022-06-24T08:28:10.122930Z",
     "start_time": "2022-06-24T08:27:39.235814Z"
    }
   },
   "outputs": [],
   "source": [
    "results = run_grid_search(**grid_search_params)"
   ]
  },
  {
   "cell_type": "code",
   "execution_count": 25,
   "metadata": {
    "ExecuteTime": {
     "end_time": "2022-07-07T10:32:57.019852Z",
     "start_time": "2022-07-07T10:32:56.991172Z"
    }
   },
   "outputs": [
    {
     "data": {
      "application/javascript": [
       "\n",
       "            setTimeout(function() {\n",
       "                var nbb_cell_id = 25;\n",
       "                var nbb_unformatted_code = \"def get_test_results(results, model_by_loss_function_type):\\n\\n    test_results = pd.DataFrame(\\n        [(k, v[\\\"test_ndcg\\\"]) for k, v in results.items()],\\n        columns=[\\\"model\\\", \\\"test_ndcg_score\\\"],\\n    )\\n    test_results[\\\"loss_function\\\"] = (\\n        test_results[\\\"model\\\"]\\n        .map({i: k for k, v in model_by_loss_function_type.items() for i in v})\\n        .astype(\\\"category\\\")\\n    )\\n    test_results[\\\"implementation\\\"] = pd.Series(\\n        np.where(test_results[\\\"model\\\"].str.contains(\\\":\\\"), \\\"xgboost\\\", \\\"catboost\\\")\\n    ).astype(\\\"category\\\")\\n\\n    test_results = (\\n        test_results.set_index(\\\"model\\\")\\n        .sort_values(\\\"test_ndcg_score\\\", ascending=False)\\n        .join(\\n            [\\n                pd.DataFrame(\\n                    {k: results[k][\\\"best_params\\\"] for k, v in results.items()}\\n                ).T,\\n                pd.DataFrame({k: results[k][\\\"cv_results\\\"] for k, v in results.items()})\\n                .T[[\\\"mean_fit_time\\\", \\\"mean_score_time\\\"]]\\n                .applymap(np.mean),\\n            ]\\n        )\\n        .astype({\\\"n_estimators\\\": int, \\\"max_depth\\\": int})\\n    )\\n\\n    return test_results\";\n",
       "                var nbb_formatted_code = \"def get_test_results(results, model_by_loss_function_type):\\n\\n    test_results = pd.DataFrame(\\n        [(k, v[\\\"test_ndcg\\\"]) for k, v in results.items()],\\n        columns=[\\\"model\\\", \\\"test_ndcg_score\\\"],\\n    )\\n    test_results[\\\"loss_function\\\"] = (\\n        test_results[\\\"model\\\"]\\n        .map({i: k for k, v in model_by_loss_function_type.items() for i in v})\\n        .astype(\\\"category\\\")\\n    )\\n    test_results[\\\"implementation\\\"] = pd.Series(\\n        np.where(test_results[\\\"model\\\"].str.contains(\\\":\\\"), \\\"xgboost\\\", \\\"catboost\\\")\\n    ).astype(\\\"category\\\")\\n\\n    test_results = (\\n        test_results.set_index(\\\"model\\\")\\n        .sort_values(\\\"test_ndcg_score\\\", ascending=False)\\n        .join(\\n            [\\n                pd.DataFrame(\\n                    {k: results[k][\\\"best_params\\\"] for k, v in results.items()}\\n                ).T,\\n                pd.DataFrame({k: results[k][\\\"cv_results\\\"] for k, v in results.items()})\\n                .T[[\\\"mean_fit_time\\\", \\\"mean_score_time\\\"]]\\n                .applymap(np.mean),\\n            ]\\n        )\\n        .astype({\\\"n_estimators\\\": int, \\\"max_depth\\\": int})\\n    )\\n\\n    return test_results\";\n",
       "                var nbb_cells = Jupyter.notebook.get_cells();\n",
       "                for (var i = 0; i < nbb_cells.length; ++i) {\n",
       "                    if (nbb_cells[i].input_prompt_number == nbb_cell_id) {\n",
       "                        if (nbb_cells[i].get_text() == nbb_unformatted_code) {\n",
       "                             nbb_cells[i].set_text(nbb_formatted_code);\n",
       "                        }\n",
       "                        break;\n",
       "                    }\n",
       "                }\n",
       "            }, 500);\n",
       "            "
      ],
      "text/plain": [
       "<IPython.core.display.Javascript object>"
      ]
     },
     "metadata": {},
     "output_type": "display_data"
    }
   ],
   "source": [
    "def get_test_results(results, model_by_loss_function_type):\n",
    "\n",
    "    test_results = pd.DataFrame(\n",
    "        [(k, v[\"test_ndcg\"]) for k, v in results.items()],\n",
    "        columns=[\"model\", \"test_ndcg_score\"],\n",
    "    )\n",
    "    test_results[\"loss_function\"] = (\n",
    "        test_results[\"model\"]\n",
    "        .map({i: k for k, v in model_by_loss_function_type.items() for i in v})\n",
    "        .astype(\"category\")\n",
    "    )\n",
    "    test_results[\"implementation\"] = pd.Series(\n",
    "        np.where(test_results[\"model\"].str.contains(\":\"), \"xgboost\", \"catboost\")\n",
    "    ).astype(\"category\")\n",
    "\n",
    "    test_results = (\n",
    "        test_results.set_index(\"model\")\n",
    "        .sort_values(\"test_ndcg_score\", ascending=False)\n",
    "        .join(\n",
    "            [\n",
    "                pd.DataFrame(\n",
    "                    {k: results[k][\"best_params\"] for k, v in results.items()}\n",
    "                ).T,\n",
    "                pd.DataFrame({k: results[k][\"cv_results\"] for k, v in results.items()})\n",
    "                .T[[\"mean_fit_time\", \"mean_score_time\"]]\n",
    "                .applymap(np.mean),\n",
    "            ]\n",
    "        )\n",
    "        .astype({\"n_estimators\": int, \"max_depth\": int})\n",
    "    )\n",
    "\n",
    "    return test_results"
   ]
  },
  {
   "cell_type": "code",
   "execution_count": 1184,
   "metadata": {
    "ExecuteTime": {
     "end_time": "2022-06-28T15:09:38.907289Z",
     "start_time": "2022-06-28T15:09:38.878148Z"
    }
   },
   "outputs": [
    {
     "data": {
      "application/javascript": [
       "\n",
       "            setTimeout(function() {\n",
       "                var nbb_cell_id = 1184;\n",
       "                var nbb_unformatted_code = \"from matplotlib.colors import to_hex\\n\\n\\ndef color_code_categorical_series(series, qualitative_colormap=\\\"Pastel1\\\"):\\n    cmap = plt.cm.get_cmap(qualitative_colormap)\\n    colors = list(map(to_hex, cmap.colors))\\n    return series.cat.rename_categories(\\n        [f\\\"background-color:{color}\\\" for color in colors[: len(series.cat.categories)]]\\n    )\\n\\n\\ndef style_table(\\n    df,\\n    gradient_columns=None,\\n    gradient_cmaps=None,\\n    categorical_columns=None,\\n    qualitative_cmaps=None,\\n    max_precision=3,\\n):\\n    style = df.style\\n\\n    if gradient_columns:\\n        for col, cmap in zip(gradient_columns, gradient_cmaps):\\n            style = style.background_gradient(cmap=cmap, low=0.7, high=0.7, subset=col)\\n\\n    if categorical_columns:\\n        for col, cmap in zip(categorical_columns, qualitative_cmaps):\\n            style = style.apply(\\n                color_code_categorical_series, qualitative_colormap=cmap, subset=col\\n            )\\n\\n    for col in df.select_dtypes(\\\"number\\\").columns.drop(\\n        categorical_columns, errors=\\\"ignore\\\"\\n    ):\\n        precision = (\\n            df[col]\\n            .apply(lambda x: 0 if \\\".\\\" not in (s := str(x)) else len(s.split(\\\".\\\")[1]))\\n            .max()\\n        )\\n        style = style.format(precision=min(precision, max_precision), subset=col)\\n\\n    return style\";\n",
       "                var nbb_formatted_code = \"from matplotlib.colors import to_hex\\n\\n\\ndef color_code_categorical_series(series, qualitative_colormap=\\\"Pastel1\\\"):\\n    cmap = plt.cm.get_cmap(qualitative_colormap)\\n    colors = list(map(to_hex, cmap.colors))\\n    return series.cat.rename_categories(\\n        [f\\\"background-color:{color}\\\" for color in colors[: len(series.cat.categories)]]\\n    )\\n\\n\\ndef style_table(\\n    df,\\n    gradient_columns=None,\\n    gradient_cmaps=None,\\n    categorical_columns=None,\\n    qualitative_cmaps=None,\\n    max_precision=3,\\n):\\n    style = df.style\\n\\n    if gradient_columns:\\n        for col, cmap in zip(gradient_columns, gradient_cmaps):\\n            style = style.background_gradient(cmap=cmap, low=0.7, high=0.7, subset=col)\\n\\n    if categorical_columns:\\n        for col, cmap in zip(categorical_columns, qualitative_cmaps):\\n            style = style.apply(\\n                color_code_categorical_series, qualitative_colormap=cmap, subset=col\\n            )\\n\\n    for col in df.select_dtypes(\\\"number\\\").columns.drop(\\n        categorical_columns, errors=\\\"ignore\\\"\\n    ):\\n        precision = (\\n            df[col]\\n            .apply(lambda x: 0 if \\\".\\\" not in (s := str(x)) else len(s.split(\\\".\\\")[1]))\\n            .max()\\n        )\\n        style = style.format(precision=min(precision, max_precision), subset=col)\\n\\n    return style\";\n",
       "                var nbb_cells = Jupyter.notebook.get_cells();\n",
       "                for (var i = 0; i < nbb_cells.length; ++i) {\n",
       "                    if (nbb_cells[i].input_prompt_number == nbb_cell_id) {\n",
       "                        if (nbb_cells[i].get_text() == nbb_unformatted_code) {\n",
       "                             nbb_cells[i].set_text(nbb_formatted_code);\n",
       "                        }\n",
       "                        break;\n",
       "                    }\n",
       "                }\n",
       "            }, 500);\n",
       "            "
      ],
      "text/plain": [
       "<IPython.core.display.Javascript object>"
      ]
     },
     "metadata": {},
     "output_type": "display_data"
    }
   ],
   "source": [
    "from matplotlib.colors import to_hex\n",
    "\n",
    "\n",
    "def color_code_categorical_series(series, qualitative_colormap=\"Pastel1\"):\n",
    "    cmap = plt.cm.get_cmap(qualitative_colormap)\n",
    "    colors = list(map(to_hex, cmap.colors))\n",
    "    return series.cat.rename_categories(\n",
    "        [f\"background-color:{color}\" for color in colors[: len(series.cat.categories)]]\n",
    "    )\n",
    "\n",
    "\n",
    "def style_table(\n",
    "    df,\n",
    "    gradient_columns=None,\n",
    "    gradient_cmaps=None,\n",
    "    categorical_columns=None,\n",
    "    qualitative_cmaps=None,\n",
    "    max_precision=3,\n",
    "):\n",
    "    style = df.style\n",
    "\n",
    "    if gradient_columns:\n",
    "        for col, cmap in zip(gradient_columns, gradient_cmaps):\n",
    "            style = style.background_gradient(cmap=cmap, low=0.7, high=0.7, subset=col)\n",
    "\n",
    "    if categorical_columns:\n",
    "        for col, cmap in zip(categorical_columns, qualitative_cmaps):\n",
    "            style = style.apply(\n",
    "                color_code_categorical_series, qualitative_colormap=cmap, subset=col\n",
    "            )\n",
    "\n",
    "    for col in df.select_dtypes(\"number\").columns.drop(\n",
    "        categorical_columns, errors=\"ignore\"\n",
    "    ):\n",
    "        precision = (\n",
    "            df[col]\n",
    "            .apply(lambda x: 0 if \".\" not in (s := str(x)) else len(s.split(\".\")[1]))\n",
    "            .max()\n",
    "        )\n",
    "        style = style.format(precision=min(precision, max_precision), subset=col)\n",
    "\n",
    "    return style"
   ]
  },
  {
   "cell_type": "code",
   "execution_count": 215,
   "metadata": {
    "ExecuteTime": {
     "end_time": "2022-06-20T10:30:00.643102Z",
     "start_time": "2022-06-20T10:30:00.580137Z"
    }
   },
   "outputs": [
    {
     "data": {
      "text/html": [
       "<style type=\"text/css\">\n",
       "#T_8eb76_row0_col0, #T_8eb76_row4_col8, #T_8eb76_row8_col7 {\n",
       "  background-color: #f7a98b;\n",
       "  color: #000000;\n",
       "}\n",
       "#T_8eb76_row0_col1, #T_8eb76_row1_col1, #T_8eb76_row3_col1, #T_8eb76_row6_col1, #T_8eb76_row8_col1 {\n",
       "  background-color: #fbb4ae;\n",
       "}\n",
       "#T_8eb76_row0_col2, #T_8eb76_row1_col2, #T_8eb76_row4_col2, #T_8eb76_row7_col2, #T_8eb76_row8_col2 {\n",
       "  background-color: #b3e2cd;\n",
       "}\n",
       "#T_8eb76_row0_col7 {\n",
       "  background-color: #e9d5cb;\n",
       "  color: #000000;\n",
       "}\n",
       "#T_8eb76_row0_col8 {\n",
       "  background-color: #edd2c3;\n",
       "  color: #000000;\n",
       "}\n",
       "#T_8eb76_row1_col0 {\n",
       "  background-color: #f7b194;\n",
       "  color: #000000;\n",
       "}\n",
       "#T_8eb76_row1_col7 {\n",
       "  background-color: #f0cdbb;\n",
       "  color: #000000;\n",
       "}\n",
       "#T_8eb76_row1_col8 {\n",
       "  background-color: #efcebd;\n",
       "  color: #000000;\n",
       "}\n",
       "#T_8eb76_row2_col0 {\n",
       "  background-color: #f7b99e;\n",
       "  color: #000000;\n",
       "}\n",
       "#T_8eb76_row2_col1, #T_8eb76_row7_col1 {\n",
       "  background-color: #b3cde3;\n",
       "}\n",
       "#T_8eb76_row2_col2, #T_8eb76_row3_col2, #T_8eb76_row5_col2, #T_8eb76_row6_col2 {\n",
       "  background-color: #fdcdac;\n",
       "}\n",
       "#T_8eb76_row2_col7 {\n",
       "  background-color: #aec9fc;\n",
       "  color: #000000;\n",
       "}\n",
       "#T_8eb76_row2_col8 {\n",
       "  background-color: #c5d6f2;\n",
       "  color: #000000;\n",
       "}\n",
       "#T_8eb76_row3_col0 {\n",
       "  background-color: #f7ba9f;\n",
       "  color: #000000;\n",
       "}\n",
       "#T_8eb76_row3_col7, #T_8eb76_row8_col0, #T_8eb76_row8_col8 {\n",
       "  background-color: #9bbcff;\n",
       "  color: #000000;\n",
       "}\n",
       "#T_8eb76_row3_col8 {\n",
       "  background-color: #c6d6f1;\n",
       "  color: #000000;\n",
       "}\n",
       "#T_8eb76_row4_col0 {\n",
       "  background-color: #f7bca1;\n",
       "  color: #000000;\n",
       "}\n",
       "#T_8eb76_row4_col1, #T_8eb76_row5_col1 {\n",
       "  background-color: #ccebc5;\n",
       "}\n",
       "#T_8eb76_row4_col7 {\n",
       "  background-color: #f2cab5;\n",
       "  color: #000000;\n",
       "}\n",
       "#T_8eb76_row5_col0, #T_8eb76_row6_col0, #T_8eb76_row7_col7 {\n",
       "  background-color: #f6bea4;\n",
       "  color: #000000;\n",
       "}\n",
       "#T_8eb76_row5_col7 {\n",
       "  background-color: #b6cefa;\n",
       "  color: #000000;\n",
       "}\n",
       "#T_8eb76_row5_col8 {\n",
       "  background-color: #c3d5f4;\n",
       "  color: #000000;\n",
       "}\n",
       "#T_8eb76_row6_col7 {\n",
       "  background-color: #9ebeff;\n",
       "  color: #000000;\n",
       "}\n",
       "#T_8eb76_row6_col8 {\n",
       "  background-color: #c4d5f3;\n",
       "  color: #000000;\n",
       "}\n",
       "#T_8eb76_row7_col0 {\n",
       "  background-color: #f1cdba;\n",
       "  color: #000000;\n",
       "}\n",
       "#T_8eb76_row7_col8 {\n",
       "  background-color: #f3c7b1;\n",
       "  color: #000000;\n",
       "}\n",
       "</style>\n",
       "<table id=\"T_8eb76\">\n",
       "  <thead>\n",
       "    <tr>\n",
       "      <th class=\"blank level0\" >&nbsp;</th>\n",
       "      <th id=\"T_8eb76_level0_col0\" class=\"col_heading level0 col0\" >test_ndcg_score</th>\n",
       "      <th id=\"T_8eb76_level0_col1\" class=\"col_heading level0 col1\" >decision_function</th>\n",
       "      <th id=\"T_8eb76_level0_col2\" class=\"col_heading level0 col2\" >implementation</th>\n",
       "      <th id=\"T_8eb76_level0_col3\" class=\"col_heading level0 col3\" >learning_rate</th>\n",
       "      <th id=\"T_8eb76_level0_col4\" class=\"col_heading level0 col4\" >max_depth</th>\n",
       "      <th id=\"T_8eb76_level0_col5\" class=\"col_heading level0 col5\" >n_estimators</th>\n",
       "      <th id=\"T_8eb76_level0_col6\" class=\"col_heading level0 col6\" >reg_lambda</th>\n",
       "      <th id=\"T_8eb76_level0_col7\" class=\"col_heading level0 col7\" >mean_fit_time</th>\n",
       "      <th id=\"T_8eb76_level0_col8\" class=\"col_heading level0 col8\" >mean_score_time</th>\n",
       "    </tr>\n",
       "    <tr>\n",
       "      <th class=\"index_name level0\" >model</th>\n",
       "      <th class=\"blank col0\" >&nbsp;</th>\n",
       "      <th class=\"blank col1\" >&nbsp;</th>\n",
       "      <th class=\"blank col2\" >&nbsp;</th>\n",
       "      <th class=\"blank col3\" >&nbsp;</th>\n",
       "      <th class=\"blank col4\" >&nbsp;</th>\n",
       "      <th class=\"blank col5\" >&nbsp;</th>\n",
       "      <th class=\"blank col6\" >&nbsp;</th>\n",
       "      <th class=\"blank col7\" >&nbsp;</th>\n",
       "      <th class=\"blank col8\" >&nbsp;</th>\n",
       "    </tr>\n",
       "  </thead>\n",
       "  <tbody>\n",
       "    <tr>\n",
       "      <th id=\"T_8eb76_level0_row0\" class=\"row_heading level0 row0\" >YetiRankPairwise</th>\n",
       "      <td id=\"T_8eb76_row0_col0\" class=\"data row0 col0\" >0.817</td>\n",
       "      <td id=\"T_8eb76_row0_col1\" class=\"data row0 col1\" >listwise</td>\n",
       "      <td id=\"T_8eb76_row0_col2\" class=\"data row0 col2\" >catboost</td>\n",
       "      <td id=\"T_8eb76_row0_col3\" class=\"data row0 col3\" >0.3</td>\n",
       "      <td id=\"T_8eb76_row0_col4\" class=\"data row0 col4\" >6</td>\n",
       "      <td id=\"T_8eb76_row0_col5\" class=\"data row0 col5\" >200</td>\n",
       "      <td id=\"T_8eb76_row0_col6\" class=\"data row0 col6\" >10.00</td>\n",
       "      <td id=\"T_8eb76_row0_col7\" class=\"data row0 col7\" >1.714</td>\n",
       "      <td id=\"T_8eb76_row0_col8\" class=\"data row0 col8\" >0.306</td>\n",
       "    </tr>\n",
       "    <tr>\n",
       "      <th id=\"T_8eb76_level0_row1\" class=\"row_heading level0 row1\" >YetiRank</th>\n",
       "      <td id=\"T_8eb76_row1_col0\" class=\"data row1 col0\" >0.810</td>\n",
       "      <td id=\"T_8eb76_row1_col1\" class=\"data row1 col1\" >listwise</td>\n",
       "      <td id=\"T_8eb76_row1_col2\" class=\"data row1 col2\" >catboost</td>\n",
       "      <td id=\"T_8eb76_row1_col3\" class=\"data row1 col3\" >0.5</td>\n",
       "      <td id=\"T_8eb76_row1_col4\" class=\"data row1 col4\" >3</td>\n",
       "      <td id=\"T_8eb76_row1_col5\" class=\"data row1 col5\" >200</td>\n",
       "      <td id=\"T_8eb76_row1_col6\" class=\"data row1 col6\" >10.00</td>\n",
       "      <td id=\"T_8eb76_row1_col7\" class=\"data row1 col7\" >1.861</td>\n",
       "      <td id=\"T_8eb76_row1_col8\" class=\"data row1 col8\" >0.312</td>\n",
       "    </tr>\n",
       "    <tr>\n",
       "      <th id=\"T_8eb76_level0_row2\" class=\"row_heading level0 row2\" >rank:pairwise</th>\n",
       "      <td id=\"T_8eb76_row2_col0\" class=\"data row2 col0\" >0.803</td>\n",
       "      <td id=\"T_8eb76_row2_col1\" class=\"data row2 col1\" >pairwise</td>\n",
       "      <td id=\"T_8eb76_row2_col2\" class=\"data row2 col2\" >xgboost</td>\n",
       "      <td id=\"T_8eb76_row2_col3\" class=\"data row2 col3\" >0.5</td>\n",
       "      <td id=\"T_8eb76_row2_col4\" class=\"data row2 col4\" >3</td>\n",
       "      <td id=\"T_8eb76_row2_col5\" class=\"data row2 col5\" >50</td>\n",
       "      <td id=\"T_8eb76_row2_col6\" class=\"data row2 col6\" >0.01</td>\n",
       "      <td id=\"T_8eb76_row2_col7\" class=\"data row2 col7\" >0.945</td>\n",
       "      <td id=\"T_8eb76_row2_col8\" class=\"data row2 col8\" >0.250</td>\n",
       "    </tr>\n",
       "    <tr>\n",
       "      <th id=\"T_8eb76_level0_row3\" class=\"row_heading level0 row3\" >rank:ndcg</th>\n",
       "      <td id=\"T_8eb76_row3_col0\" class=\"data row3 col0\" >0.802</td>\n",
       "      <td id=\"T_8eb76_row3_col1\" class=\"data row3 col1\" >listwise</td>\n",
       "      <td id=\"T_8eb76_row3_col2\" class=\"data row3 col2\" >xgboost</td>\n",
       "      <td id=\"T_8eb76_row3_col3\" class=\"data row3 col3\" >0.3</td>\n",
       "      <td id=\"T_8eb76_row3_col4\" class=\"data row3 col4\" >3</td>\n",
       "      <td id=\"T_8eb76_row3_col5\" class=\"data row3 col5\" >200</td>\n",
       "      <td id=\"T_8eb76_row3_col6\" class=\"data row3 col6\" >10.00</td>\n",
       "      <td id=\"T_8eb76_row3_col7\" class=\"data row3 col7\" >0.751</td>\n",
       "      <td id=\"T_8eb76_row3_col8\" class=\"data row3 col8\" >0.253</td>\n",
       "    </tr>\n",
       "    <tr>\n",
       "      <th id=\"T_8eb76_level0_row4\" class=\"row_heading level0 row4\" >RMSE</th>\n",
       "      <td id=\"T_8eb76_row4_col0\" class=\"data row4 col0\" >0.801</td>\n",
       "      <td id=\"T_8eb76_row4_col1\" class=\"data row4 col1\" >pointwise</td>\n",
       "      <td id=\"T_8eb76_row4_col2\" class=\"data row4 col2\" >catboost</td>\n",
       "      <td id=\"T_8eb76_row4_col3\" class=\"data row4 col3\" >0.1</td>\n",
       "      <td id=\"T_8eb76_row4_col4\" class=\"data row4 col4\" >9</td>\n",
       "      <td id=\"T_8eb76_row4_col5\" class=\"data row4 col5\" >100</td>\n",
       "      <td id=\"T_8eb76_row4_col6\" class=\"data row4 col6\" >10.00</td>\n",
       "      <td id=\"T_8eb76_row4_col7\" class=\"data row4 col7\" >1.917</td>\n",
       "      <td id=\"T_8eb76_row4_col8\" class=\"data row4 col8\" >0.357</td>\n",
       "    </tr>\n",
       "    <tr>\n",
       "      <th id=\"T_8eb76_level0_row5\" class=\"row_heading level0 row5\" >reg:squarederror</th>\n",
       "      <td id=\"T_8eb76_row5_col0\" class=\"data row5 col0\" >0.798</td>\n",
       "      <td id=\"T_8eb76_row5_col1\" class=\"data row5 col1\" >pointwise</td>\n",
       "      <td id=\"T_8eb76_row5_col2\" class=\"data row5 col2\" >xgboost</td>\n",
       "      <td id=\"T_8eb76_row5_col3\" class=\"data row5 col3\" >0.1</td>\n",
       "      <td id=\"T_8eb76_row5_col4\" class=\"data row5 col4\" >3</td>\n",
       "      <td id=\"T_8eb76_row5_col5\" class=\"data row5 col5\" >200</td>\n",
       "      <td id=\"T_8eb76_row5_col6\" class=\"data row5 col6\" >10.00</td>\n",
       "      <td id=\"T_8eb76_row5_col7\" class=\"data row5 col7\" >1.043</td>\n",
       "      <td id=\"T_8eb76_row5_col8\" class=\"data row5 col8\" >0.248</td>\n",
       "    </tr>\n",
       "    <tr>\n",
       "      <th id=\"T_8eb76_level0_row6\" class=\"row_heading level0 row6\" >rank:map</th>\n",
       "      <td id=\"T_8eb76_row6_col0\" class=\"data row6 col0\" >0.798</td>\n",
       "      <td id=\"T_8eb76_row6_col1\" class=\"data row6 col1\" >listwise</td>\n",
       "      <td id=\"T_8eb76_row6_col2\" class=\"data row6 col2\" >xgboost</td>\n",
       "      <td id=\"T_8eb76_row6_col3\" class=\"data row6 col3\" >0.5</td>\n",
       "      <td id=\"T_8eb76_row6_col4\" class=\"data row6 col4\" >3</td>\n",
       "      <td id=\"T_8eb76_row6_col5\" class=\"data row6 col5\" >50</td>\n",
       "      <td id=\"T_8eb76_row6_col6\" class=\"data row6 col6\" >10.00</td>\n",
       "      <td id=\"T_8eb76_row6_col7\" class=\"data row6 col7\" >0.778</td>\n",
       "      <td id=\"T_8eb76_row6_col8\" class=\"data row6 col8\" >0.250</td>\n",
       "    </tr>\n",
       "    <tr>\n",
       "      <th id=\"T_8eb76_level0_row7\" class=\"row_heading level0 row7\" >PairLogit</th>\n",
       "      <td id=\"T_8eb76_row7_col0\" class=\"data row7 col0\" >0.782</td>\n",
       "      <td id=\"T_8eb76_row7_col1\" class=\"data row7 col1\" >pairwise</td>\n",
       "      <td id=\"T_8eb76_row7_col2\" class=\"data row7 col2\" >catboost</td>\n",
       "      <td id=\"T_8eb76_row7_col3\" class=\"data row7 col3\" >0.1</td>\n",
       "      <td id=\"T_8eb76_row7_col4\" class=\"data row7 col4\" >9</td>\n",
       "      <td id=\"T_8eb76_row7_col5\" class=\"data row7 col5\" >200</td>\n",
       "      <td id=\"T_8eb76_row7_col6\" class=\"data row7 col6\" >1.00</td>\n",
       "      <td id=\"T_8eb76_row7_col7\" class=\"data row7 col7\" >2.067</td>\n",
       "      <td id=\"T_8eb76_row7_col8\" class=\"data row7 col8\" >0.322</td>\n",
       "    </tr>\n",
       "    <tr>\n",
       "      <th id=\"T_8eb76_level0_row8\" class=\"row_heading level0 row8\" >QueryCrossEntropy</th>\n",
       "      <td id=\"T_8eb76_row8_col0\" class=\"data row8 col0\" >0.692</td>\n",
       "      <td id=\"T_8eb76_row8_col1\" class=\"data row8 col1\" >listwise</td>\n",
       "      <td id=\"T_8eb76_row8_col2\" class=\"data row8 col2\" >catboost</td>\n",
       "      <td id=\"T_8eb76_row8_col3\" class=\"data row8 col3\" >0.1</td>\n",
       "      <td id=\"T_8eb76_row8_col4\" class=\"data row8 col4\" >3</td>\n",
       "      <td id=\"T_8eb76_row8_col5\" class=\"data row8 col5\" >50</td>\n",
       "      <td id=\"T_8eb76_row8_col6\" class=\"data row8 col6\" >1.00</td>\n",
       "      <td id=\"T_8eb76_row8_col7\" class=\"data row8 col7\" >2.303</td>\n",
       "      <td id=\"T_8eb76_row8_col8\" class=\"data row8 col8\" >0.205</td>\n",
       "    </tr>\n",
       "  </tbody>\n",
       "</table>\n"
      ],
      "text/plain": [
       "<pandas.io.formats.style.Styler at 0x7f757c2c7940>"
      ]
     },
     "execution_count": 215,
     "metadata": {},
     "output_type": "execute_result"
    },
    {
     "data": {
      "application/javascript": [
       "\n",
       "            setTimeout(function() {\n",
       "                var nbb_cell_id = 214;\n",
       "                var nbb_unformatted_code = \"from matplotlib.colors import to_hex\\n\\n\\ndef color_code_categorical_series(series, qualitative_colormap=\\\"Pastel1\\\"):\\n    cmap = plt.cm.get_cmap(qualitative_colormap)\\n    colors = list(map(to_hex, cmap.colors))\\n    return series.cat.rename_categories(\\n        [f\\\"background-color:{color}\\\" for color in colors[: len(series.cat.categories)]]\\n    )\\n\\n\\ndef style_table(\\n    df,\\n    gradient_columns,\\n    gradient_cmaps,\\n    categorical_columns,\\n    qualitative_cmaps,\\n    max_precision=3,\\n):\\n    style = df.style\\n\\n    for col, cmap in zip(gradient_columns, gradient_cmaps):\\n        style = style.background_gradient(cmap=cmap, low=0.7, high=0.7, subset=col)\\n\\n    for col, cmap in zip(categorical_columns, qualitative_cmaps):\\n        style = style.apply(\\n            color_code_categorical_series, qualitative_colormap=cmap, subset=col\\n        )\\n\\n    for col in df.select_dtypes(\\\"number\\\").columns.drop(\\n        categorical_columns, errors=\\\"ignore\\\"\\n    ):\\n        precision = (\\n            df[col]\\n            .apply(lambda x: 0 if \\\".\\\" not in (s := str(x)) else len(s.split(\\\".\\\")[1]))\\n            .max()\\n        )\\n        style = style.format(precision=min(precision, max_precision), subset=col)\\n\\n    return style\";\n",
       "                var nbb_formatted_code = \"from matplotlib.colors import to_hex\\n\\n\\ndef color_code_categorical_series(series, qualitative_colormap=\\\"Pastel1\\\"):\\n    cmap = plt.cm.get_cmap(qualitative_colormap)\\n    colors = list(map(to_hex, cmap.colors))\\n    return series.cat.rename_categories(\\n        [f\\\"background-color:{color}\\\" for color in colors[: len(series.cat.categories)]]\\n    )\\n\\n\\ndef style_table(\\n    df,\\n    gradient_columns,\\n    gradient_cmaps,\\n    categorical_columns,\\n    qualitative_cmaps,\\n    max_precision=3,\\n):\\n    style = df.style\\n\\n    for col, cmap in zip(gradient_columns, gradient_cmaps):\\n        style = style.background_gradient(cmap=cmap, low=0.7, high=0.7, subset=col)\\n\\n    for col, cmap in zip(categorical_columns, qualitative_cmaps):\\n        style = style.apply(\\n            color_code_categorical_series, qualitative_colormap=cmap, subset=col\\n        )\\n\\n    for col in df.select_dtypes(\\\"number\\\").columns.drop(\\n        categorical_columns, errors=\\\"ignore\\\"\\n    ):\\n        precision = (\\n            df[col]\\n            .apply(lambda x: 0 if \\\".\\\" not in (s := str(x)) else len(s.split(\\\".\\\")[1]))\\n            .max()\\n        )\\n        style = style.format(precision=min(precision, max_precision), subset=col)\\n\\n    return style\";\n",
       "                var nbb_cells = Jupyter.notebook.get_cells();\n",
       "                for (var i = 0; i < nbb_cells.length; ++i) {\n",
       "                    if (nbb_cells[i].input_prompt_number == nbb_cell_id) {\n",
       "                        if (nbb_cells[i].get_text() == nbb_unformatted_code) {\n",
       "                             nbb_cells[i].set_text(nbb_formatted_code);\n",
       "                        }\n",
       "                        break;\n",
       "                    }\n",
       "                }\n",
       "            }, 500);\n",
       "            "
      ],
      "text/plain": [
       "<IPython.core.display.Javascript object>"
      ]
     },
     "metadata": {},
     "output_type": "display_data"
    }
   ],
   "source": [
    "model_by_loss_function_type = {\n",
    "        \"pointwise\": [\"reg:squarederror\", \"RMSE\"],\n",
    "        \"pairwise\": [\"rank:pairwise\", \"PairLogit\"],\n",
    "        \"listwise\": [\n",
    "            \"rank:map\",\n",
    "            \"rank:ndcg\",\n",
    "            \"YetiRankPairwise\",\n",
    "            \"YetiRank\",\n",
    "            \"QueryCrossEntropy\",\n",
    "        ],\n",
    "    }\n",
    "\n",
    "test_results = get_test_results(results, model_by_loss_function_type)\n",
    "\n",
    "style_table(\n",
    "    test_results,\n",
    "    gradient_columns=[\"test_ndcg_score\", \"mean_fit_time\", \"mean_score_time\"],\n",
    "    gradient_cmaps=[\"coolwarm\", \"coolwarm\", \"coolwarm\"],\n",
    "    categorical_columns=[\"loss_function\", \"implementation\"],\n",
    "    qualitative_cmaps=[\"Pastel1\", \"Pastel2\"],\n",
    ")"
   ]
  },
  {
   "cell_type": "markdown",
   "metadata": {},
   "source": [
    "Модель YetiRankPairwise показывала значительно лучшее качество на тесте, чем остальные модели.\n",
    "\n",
    "Что насчет семейств функций потерь –– выделяются два лидера с listwise подходом, после чего идет группа моделей с примерно одинаковым качеством $0.8~ndcg$, в которой смешаны все три подхода - listwise, pairwise и pointwise. \n",
    "\n",
    "Похожая ситуация и с конкрентыми реализациями функций потерь - на первом месте YetiRank, что ожидаемо, ведь с целочисленными значениями релевантности она максимизирует приближение метрики ndcg, по которой мы и оцениваем модели. Среди остальных функций потерь выделяется QueryCrossEntropy, показавшая худший результат. Возможно это связано с переобучением, поскольку эта модель предполагает дополнительные скрытые вероятности для каждого запроса, и повышенная эффективная сложность модели приводит к плохо определенной задаче на наших данных, поскольку каждому запросу в среднем соответствует только 15 документов.\n",
    "\n",
    "На что еще следует обратить внимание, так это на скорость предсказания, ведь поисковой системе важно не только выдавать хорошие ответы, но и быстро обрабатывать большое число запросов. С этой точки зрения модели rank:pairwise и rank:ndcg работают эффективнее всего.\n",
    "\n",
    "---"
   ]
  },
  {
   "cell_type": "markdown",
   "metadata": {
    "collapsed": true
   },
   "source": [
    "**(1 балл) Задание 3.** Одним из основных преимуществ CatBoost'a является обработка категориальных факторов «из коробки». Добавьте в датасет различные категориальные факторы из данных и обучите заново CatBoost модели. Улучшилось ли качество?"
   ]
  },
  {
   "cell_type": "code",
   "execution_count": 15,
   "metadata": {
    "ExecuteTime": {
     "end_time": "2022-07-10T08:24:31.090994Z",
     "start_time": "2022-07-10T08:24:31.038662Z"
    }
   },
   "outputs": [
    {
     "data": {
      "application/javascript": [
       "\n",
       "            setTimeout(function() {\n",
       "                var nbb_cell_id = 15;\n",
       "                var nbb_unformatted_code = \"def replace_one_hot_columns_with_categorical(X, train, queries, orgs):\\n    one_hot_column_prefixes = [\\n        \\\"queries_locale_\\\",\\n        \\\"queries_geo_id_\\\",\\n        \\\"orgs_locale_\\\",\\n        \\\"orgs_org_names_\\\",\\n        \\\"orgs_rubric_\\\",\\n        \\\"orgs_region_\\\",\\n        \\\"orgs_geo_id_\\\",\\n    ]\\n\\n    X_with_categorical_columns = (\\n        X[\\n            X.columns[\\n                ~X.columns.str.match(\\n                    \\\"|\\\".join(f\\\"(^{prefix})\\\" for prefix in one_hot_column_prefixes)\\n                )\\n            ]\\n        ]\\n        .join(train[[\\\"query_id\\\", \\\"org_id\\\"]])\\n        .join(\\n            queries[[\\\"geo_id\\\", \\\"locale\\\"]].add_prefix(\\\"queries_\\\"),\\n            on=\\\"query_id\\\",\\n        )\\n        .join(\\n            orgs[[\\\"region_code\\\", \\\"geo_id\\\", \\\"address_locale\\\"]].add_prefix(\\\"orgs_\\\"),\\n            on=\\\"org_id\\\",\\n        )\\n        .drop([\\\"query_id\\\", \\\"org_id\\\"], axis=\\\"columns\\\")\\n        .astype(\\n            {\\n                c: \\\"category\\\"\\n                for c in [\\n                    \\\"queries_geo_id\\\",\\n                    \\\"queries_locale\\\",\\n                    \\\"orgs_region_code\\\",\\n                    \\\"orgs_geo_id\\\",\\n                    \\\"orgs_address_locale\\\",\\n                ]\\n            }\\n        )\\n    )\\n\\n    return X_with_categorical_columns\";\n",
       "                var nbb_formatted_code = \"def replace_one_hot_columns_with_categorical(X, train, queries, orgs):\\n    one_hot_column_prefixes = [\\n        \\\"queries_locale_\\\",\\n        \\\"queries_geo_id_\\\",\\n        \\\"orgs_locale_\\\",\\n        \\\"orgs_org_names_\\\",\\n        \\\"orgs_rubric_\\\",\\n        \\\"orgs_region_\\\",\\n        \\\"orgs_geo_id_\\\",\\n    ]\\n\\n    X_with_categorical_columns = (\\n        X[\\n            X.columns[\\n                ~X.columns.str.match(\\n                    \\\"|\\\".join(f\\\"(^{prefix})\\\" for prefix in one_hot_column_prefixes)\\n                )\\n            ]\\n        ]\\n        .join(train[[\\\"query_id\\\", \\\"org_id\\\"]])\\n        .join(\\n            queries[[\\\"geo_id\\\", \\\"locale\\\"]].add_prefix(\\\"queries_\\\"),\\n            on=\\\"query_id\\\",\\n        )\\n        .join(\\n            orgs[[\\\"region_code\\\", \\\"geo_id\\\", \\\"address_locale\\\"]].add_prefix(\\\"orgs_\\\"),\\n            on=\\\"org_id\\\",\\n        )\\n        .drop([\\\"query_id\\\", \\\"org_id\\\"], axis=\\\"columns\\\")\\n        .astype(\\n            {\\n                c: \\\"category\\\"\\n                for c in [\\n                    \\\"queries_geo_id\\\",\\n                    \\\"queries_locale\\\",\\n                    \\\"orgs_region_code\\\",\\n                    \\\"orgs_geo_id\\\",\\n                    \\\"orgs_address_locale\\\",\\n                ]\\n            }\\n        )\\n    )\\n\\n    return X_with_categorical_columns\";\n",
       "                var nbb_cells = Jupyter.notebook.get_cells();\n",
       "                for (var i = 0; i < nbb_cells.length; ++i) {\n",
       "                    if (nbb_cells[i].input_prompt_number == nbb_cell_id) {\n",
       "                        if (nbb_cells[i].get_text() == nbb_unformatted_code) {\n",
       "                             nbb_cells[i].set_text(nbb_formatted_code);\n",
       "                        }\n",
       "                        break;\n",
       "                    }\n",
       "                }\n",
       "            }, 500);\n",
       "            "
      ],
      "text/plain": [
       "<IPython.core.display.Javascript object>"
      ]
     },
     "metadata": {},
     "output_type": "display_data"
    }
   ],
   "source": [
    "def replace_one_hot_columns_with_categorical(X, train, queries, orgs):\n",
    "    one_hot_column_prefixes = [\n",
    "        \"queries_locale_\",\n",
    "        \"queries_geo_id_\",\n",
    "        \"orgs_locale_\",\n",
    "        \"orgs_org_names_\",\n",
    "        \"orgs_rubric_\",\n",
    "        \"orgs_region_\",\n",
    "        \"orgs_geo_id_\",\n",
    "    ]\n",
    "\n",
    "    X_with_categorical_columns = (\n",
    "        X[\n",
    "            X.columns[\n",
    "                ~X.columns.str.match(\n",
    "                    \"|\".join(f\"(^{prefix})\" for prefix in one_hot_column_prefixes)\n",
    "                )\n",
    "            ]\n",
    "        ]\n",
    "        .join(train[[\"query_id\", \"org_id\"]])\n",
    "        .join(\n",
    "            queries[[\"geo_id\", \"locale\"]].add_prefix(\"queries_\"),\n",
    "            on=\"query_id\",\n",
    "        )\n",
    "        .join(\n",
    "            orgs[[\"region_code\", \"geo_id\", \"address_locale\"]].add_prefix(\"orgs_\"),\n",
    "            on=\"org_id\",\n",
    "        )\n",
    "        .drop([\"query_id\", \"org_id\"], axis=\"columns\")\n",
    "        .astype(\n",
    "            {\n",
    "                c: \"category\"\n",
    "                for c in [\n",
    "                    \"queries_geo_id\",\n",
    "                    \"queries_locale\",\n",
    "                    \"orgs_region_code\",\n",
    "                    \"orgs_geo_id\",\n",
    "                    \"orgs_address_locale\",\n",
    "                ]\n",
    "            }\n",
    "        )\n",
    "    )\n",
    "\n",
    "    return X_with_categorical_columns"
   ]
  },
  {
   "cell_type": "code",
   "execution_count": null,
   "metadata": {
    "ExecuteTime": {
     "end_time": "2022-06-20T16:53:28.492541Z",
     "start_time": "2022-06-20T15:49:35.796069Z"
    }
   },
   "outputs": [],
   "source": [
    "X_with_categorical_columns = replace_one_hot_columns_with_categorical(X, train, queries, orgs)\n",
    "categorical_data_results = run_grid_search(\n",
    "    **{\n",
    "        **grid_search_params,\n",
    "        \"X_train\": X_with_categorical_columns.loc[clipped_train_index],\n",
    "        \"X_test\": X_with_categorical_columns.loc[test_index],\n",
    "        \"objectives\": cb_loss_functions,\n",
    "    }\n",
    ")\n",
    "categorical_data_test_results = get_test_results(\n",
    "    categorical_data_results, model_by_loss_function_type\n",
    ")"
   ]
  },
  {
   "cell_type": "code",
   "execution_count": 461,
   "metadata": {
    "ExecuteTime": {
     "end_time": "2022-06-20T17:12:25.420262Z",
     "start_time": "2022-06-20T17:12:25.357588Z"
    }
   },
   "outputs": [
    {
     "data": {
      "text/html": [
       "<style type=\"text/css\">\n",
       "#T_63a90_row0_col2 {\n",
       "  background-color: #f7a98b;\n",
       "  color: #000000;\n",
       "}\n",
       "#T_63a90_row1_col2 {\n",
       "  background-color: #f5c0a7;\n",
       "  color: #000000;\n",
       "}\n",
       "#T_63a90_row2_col2 {\n",
       "  background-color: #cad8ef;\n",
       "  color: #000000;\n",
       "}\n",
       "#T_63a90_row3_col2 {\n",
       "  background-color: #f1ccb8;\n",
       "  color: #000000;\n",
       "}\n",
       "#T_63a90_row4_col2 {\n",
       "  background-color: #9bbcff;\n",
       "  color: #000000;\n",
       "}\n",
       "</style>\n",
       "<table id=\"T_63a90\">\n",
       "  <thead>\n",
       "    <tr>\n",
       "      <th class=\"blank level0\" >&nbsp;</th>\n",
       "      <th id=\"T_63a90_level0_col0\" class=\"col_heading level0 col0\" >test_ndcg_score</th>\n",
       "      <th id=\"T_63a90_level0_col1\" class=\"col_heading level0 col1\" >test_ndcg_score_categorical</th>\n",
       "      <th id=\"T_63a90_level0_col2\" class=\"col_heading level0 col2\" >difference</th>\n",
       "    </tr>\n",
       "    <tr>\n",
       "      <th class=\"index_name level0\" >model</th>\n",
       "      <th class=\"blank col0\" >&nbsp;</th>\n",
       "      <th class=\"blank col1\" >&nbsp;</th>\n",
       "      <th class=\"blank col2\" >&nbsp;</th>\n",
       "    </tr>\n",
       "  </thead>\n",
       "  <tbody>\n",
       "    <tr>\n",
       "      <th id=\"T_63a90_level0_row0\" class=\"row_heading level0 row0\" >YetiRank</th>\n",
       "      <td id=\"T_63a90_row0_col0\" class=\"data row0 col0\" >0.810</td>\n",
       "      <td id=\"T_63a90_row0_col1\" class=\"data row0 col1\" >0.845</td>\n",
       "      <td id=\"T_63a90_row0_col2\" class=\"data row0 col2\" >0.034</td>\n",
       "    </tr>\n",
       "    <tr>\n",
       "      <th id=\"T_63a90_level0_row1\" class=\"row_heading level0 row1\" >RMSE</th>\n",
       "      <td id=\"T_63a90_row1_col0\" class=\"data row1 col0\" >0.801</td>\n",
       "      <td id=\"T_63a90_row1_col1\" class=\"data row1 col1\" >0.827</td>\n",
       "      <td id=\"T_63a90_row1_col2\" class=\"data row1 col2\" >0.026</td>\n",
       "    </tr>\n",
       "    <tr>\n",
       "      <th id=\"T_63a90_level0_row2\" class=\"row_heading level0 row2\" >YetiRankPairwise</th>\n",
       "      <td id=\"T_63a90_row2_col0\" class=\"data row2 col0\" >0.817</td>\n",
       "      <td id=\"T_63a90_row2_col1\" class=\"data row2 col1\" >0.816</td>\n",
       "      <td id=\"T_63a90_row2_col2\" class=\"data row2 col2\" >-0.000</td>\n",
       "    </tr>\n",
       "    <tr>\n",
       "      <th id=\"T_63a90_level0_row3\" class=\"row_heading level0 row3\" >PairLogit</th>\n",
       "      <td id=\"T_63a90_row3_col0\" class=\"data row3 col0\" >0.782</td>\n",
       "      <td id=\"T_63a90_row3_col1\" class=\"data row3 col1\" >0.802</td>\n",
       "      <td id=\"T_63a90_row3_col2\" class=\"data row3 col2\" >0.021</td>\n",
       "    </tr>\n",
       "    <tr>\n",
       "      <th id=\"T_63a90_level0_row4\" class=\"row_heading level0 row4\" >QueryCrossEntropy</th>\n",
       "      <td id=\"T_63a90_row4_col0\" class=\"data row4 col0\" >0.692</td>\n",
       "      <td id=\"T_63a90_row4_col1\" class=\"data row4 col1\" >0.674</td>\n",
       "      <td id=\"T_63a90_row4_col2\" class=\"data row4 col2\" >-0.018</td>\n",
       "    </tr>\n",
       "  </tbody>\n",
       "</table>\n"
      ],
      "text/plain": [
       "<pandas.io.formats.style.Styler at 0x7f69a43dbee0>"
      ]
     },
     "execution_count": 461,
     "metadata": {},
     "output_type": "execute_result"
    },
    {
     "data": {
      "application/javascript": [
       "\n",
       "            setTimeout(function() {\n",
       "                var nbb_cell_id = 460;\n",
       "                var nbb_unformatted_code = \"style_table(\\n    test_results[[\\\"test_ndcg_score\\\"]]\\n    .join(\\n        categorical_data_test_results[\\\"test_ndcg_score\\\"],\\n        how=\\\"right\\\",\\n        rsuffix=\\\"_categorical\\\",\\n    )\\n    .assign(\\n        difference=lambda df: df[\\\"test_ndcg_score_categorical\\\"] - df[\\\"test_ndcg_score\\\"]\\n    ).sort_values(\\\"test_ndcg_score_categorical\\\"),\\n    gradient_columns=[\\\"difference\\\"],\\n    gradient_cmaps=[\\\"coolwarm\\\"],\\n)\";\n",
       "                var nbb_formatted_code = \"style_table(\\n    test_results[[\\\"test_ndcg_score\\\"]]\\n    .join(\\n        categorical_data_test_results[\\\"test_ndcg_score\\\"],\\n        how=\\\"right\\\",\\n        rsuffix=\\\"_categorical\\\",\\n    )\\n    .assign(\\n        difference=lambda df: df[\\\"test_ndcg_score_categorical\\\"] - df[\\\"test_ndcg_score\\\"]\\n    )\\n    .sort_values(\\\"test_ndcg_score_categorical\\\"),\\n    gradient_columns=[\\\"difference\\\"],\\n    gradient_cmaps=[\\\"coolwarm\\\"],\\n)\";\n",
       "                var nbb_cells = Jupyter.notebook.get_cells();\n",
       "                for (var i = 0; i < nbb_cells.length; ++i) {\n",
       "                    if (nbb_cells[i].input_prompt_number == nbb_cell_id) {\n",
       "                        if (nbb_cells[i].get_text() == nbb_unformatted_code) {\n",
       "                             nbb_cells[i].set_text(nbb_formatted_code);\n",
       "                        }\n",
       "                        break;\n",
       "                    }\n",
       "                }\n",
       "            }, 500);\n",
       "            "
      ],
      "text/plain": [
       "<IPython.core.display.Javascript object>"
      ]
     },
     "metadata": {},
     "output_type": "display_data"
    },
    {
     "data": {
      "application/javascript": [
       "\n",
       "            setTimeout(function() {\n",
       "                var nbb_cell_id = 460;\n",
       "                var nbb_unformatted_code = \"style_table(\\n    test_results[[\\\"test_ndcg_score\\\"]]\\n    .join(\\n        categorical_data_test_results[\\\"test_ndcg_score\\\"],\\n        how=\\\"right\\\",\\n        rsuffix=\\\"_categorical\\\",\\n    )\\n    .assign(\\n        difference=lambda df: df[\\\"test_ndcg_score_categorical\\\"] - df[\\\"test_ndcg_score\\\"]\\n    ).sort_values(\\\"test_ndcg_score_categorical\\\"),\\n    gradient_columns=[\\\"difference\\\"],\\n    gradient_cmaps=[\\\"coolwarm\\\"],\\n)\";\n",
       "                var nbb_formatted_code = \"style_table(\\n    test_results[[\\\"test_ndcg_score\\\"]]\\n    .join(\\n        categorical_data_test_results[\\\"test_ndcg_score\\\"],\\n        how=\\\"right\\\",\\n        rsuffix=\\\"_categorical\\\",\\n    )\\n    .assign(\\n        difference=lambda df: df[\\\"test_ndcg_score_categorical\\\"] - df[\\\"test_ndcg_score\\\"]\\n    )\\n    .sort_values(\\\"test_ndcg_score_categorical\\\"),\\n    gradient_columns=[\\\"difference\\\"],\\n    gradient_cmaps=[\\\"coolwarm\\\"],\\n)\";\n",
       "                var nbb_cells = Jupyter.notebook.get_cells();\n",
       "                for (var i = 0; i < nbb_cells.length; ++i) {\n",
       "                    if (nbb_cells[i].input_prompt_number == nbb_cell_id) {\n",
       "                        if (nbb_cells[i].get_text() == nbb_unformatted_code) {\n",
       "                             nbb_cells[i].set_text(nbb_formatted_code);\n",
       "                        }\n",
       "                        break;\n",
       "                    }\n",
       "                }\n",
       "            }, 500);\n",
       "            "
      ],
      "text/plain": [
       "<IPython.core.display.Javascript object>"
      ]
     },
     "metadata": {},
     "output_type": "display_data"
    },
    {
     "data": {
      "application/javascript": [
       "\n",
       "            setTimeout(function() {\n",
       "                var nbb_cell_id = 460;\n",
       "                var nbb_unformatted_code = \"style_table(\\n    test_results[[\\\"test_ndcg_score\\\"]]\\n    .join(\\n        categorical_data_test_results[\\\"test_ndcg_score\\\"],\\n        how=\\\"right\\\",\\n        rsuffix=\\\"_categorical\\\",\\n    )\\n    .assign(\\n        difference=lambda df: df[\\\"test_ndcg_score_categorical\\\"] - df[\\\"test_ndcg_score\\\"]\\n    ).sort_values(\\\"test_ndcg_score_categorical\\\"),\\n    gradient_columns=[\\\"difference\\\"],\\n    gradient_cmaps=[\\\"coolwarm\\\"],\\n)\";\n",
       "                var nbb_formatted_code = \"style_table(\\n    test_results[[\\\"test_ndcg_score\\\"]]\\n    .join(\\n        categorical_data_test_results[\\\"test_ndcg_score\\\"],\\n        how=\\\"right\\\",\\n        rsuffix=\\\"_categorical\\\",\\n    )\\n    .assign(\\n        difference=lambda df: df[\\\"test_ndcg_score_categorical\\\"] - df[\\\"test_ndcg_score\\\"]\\n    )\\n    .sort_values(\\\"test_ndcg_score_categorical\\\"),\\n    gradient_columns=[\\\"difference\\\"],\\n    gradient_cmaps=[\\\"coolwarm\\\"],\\n)\";\n",
       "                var nbb_cells = Jupyter.notebook.get_cells();\n",
       "                for (var i = 0; i < nbb_cells.length; ++i) {\n",
       "                    if (nbb_cells[i].input_prompt_number == nbb_cell_id) {\n",
       "                        if (nbb_cells[i].get_text() == nbb_unformatted_code) {\n",
       "                             nbb_cells[i].set_text(nbb_formatted_code);\n",
       "                        }\n",
       "                        break;\n",
       "                    }\n",
       "                }\n",
       "            }, 500);\n",
       "            "
      ],
      "text/plain": [
       "<IPython.core.display.Javascript object>"
      ]
     },
     "metadata": {},
     "output_type": "display_data"
    },
    {
     "data": {
      "application/javascript": [
       "\n",
       "            setTimeout(function() {\n",
       "                var nbb_cell_id = 460;\n",
       "                var nbb_unformatted_code = \"style_table(\\n    test_results[[\\\"test_ndcg_score\\\"]]\\n    .join(\\n        categorical_data_test_results[\\\"test_ndcg_score\\\"],\\n        how=\\\"right\\\",\\n        rsuffix=\\\"_categorical\\\",\\n    )\\n    .assign(\\n        difference=lambda df: df[\\\"test_ndcg_score_categorical\\\"] - df[\\\"test_ndcg_score\\\"]\\n    ).sort_values(\\\"test_ndcg_score_categorical\\\"),\\n    gradient_columns=[\\\"difference\\\"],\\n    gradient_cmaps=[\\\"coolwarm\\\"],\\n)\";\n",
       "                var nbb_formatted_code = \"style_table(\\n    test_results[[\\\"test_ndcg_score\\\"]]\\n    .join(\\n        categorical_data_test_results[\\\"test_ndcg_score\\\"],\\n        how=\\\"right\\\",\\n        rsuffix=\\\"_categorical\\\",\\n    )\\n    .assign(\\n        difference=lambda df: df[\\\"test_ndcg_score_categorical\\\"] - df[\\\"test_ndcg_score\\\"]\\n    )\\n    .sort_values(\\\"test_ndcg_score_categorical\\\"),\\n    gradient_columns=[\\\"difference\\\"],\\n    gradient_cmaps=[\\\"coolwarm\\\"],\\n)\";\n",
       "                var nbb_cells = Jupyter.notebook.get_cells();\n",
       "                for (var i = 0; i < nbb_cells.length; ++i) {\n",
       "                    if (nbb_cells[i].input_prompt_number == nbb_cell_id) {\n",
       "                        if (nbb_cells[i].get_text() == nbb_unformatted_code) {\n",
       "                             nbb_cells[i].set_text(nbb_formatted_code);\n",
       "                        }\n",
       "                        break;\n",
       "                    }\n",
       "                }\n",
       "            }, 500);\n",
       "            "
      ],
      "text/plain": [
       "<IPython.core.display.Javascript object>"
      ]
     },
     "metadata": {},
     "output_type": "display_data"
    },
    {
     "data": {
      "application/javascript": [
       "\n",
       "            setTimeout(function() {\n",
       "                var nbb_cell_id = 460;\n",
       "                var nbb_unformatted_code = \"style_table(\\n    test_results[[\\\"test_ndcg_score\\\"]]\\n    .join(\\n        categorical_data_test_results[\\\"test_ndcg_score\\\"],\\n        how=\\\"right\\\",\\n        rsuffix=\\\"_categorical\\\",\\n    )\\n    .assign(\\n        difference=lambda df: df[\\\"test_ndcg_score_categorical\\\"] - df[\\\"test_ndcg_score\\\"]\\n    ).sort_values(\\\"test_ndcg_score_categorical\\\"),\\n    gradient_columns=[\\\"difference\\\"],\\n    gradient_cmaps=[\\\"coolwarm\\\"],\\n)\";\n",
       "                var nbb_formatted_code = \"style_table(\\n    test_results[[\\\"test_ndcg_score\\\"]]\\n    .join(\\n        categorical_data_test_results[\\\"test_ndcg_score\\\"],\\n        how=\\\"right\\\",\\n        rsuffix=\\\"_categorical\\\",\\n    )\\n    .assign(\\n        difference=lambda df: df[\\\"test_ndcg_score_categorical\\\"] - df[\\\"test_ndcg_score\\\"]\\n    )\\n    .sort_values(\\\"test_ndcg_score_categorical\\\"),\\n    gradient_columns=[\\\"difference\\\"],\\n    gradient_cmaps=[\\\"coolwarm\\\"],\\n)\";\n",
       "                var nbb_cells = Jupyter.notebook.get_cells();\n",
       "                for (var i = 0; i < nbb_cells.length; ++i) {\n",
       "                    if (nbb_cells[i].input_prompt_number == nbb_cell_id) {\n",
       "                        if (nbb_cells[i].get_text() == nbb_unformatted_code) {\n",
       "                             nbb_cells[i].set_text(nbb_formatted_code);\n",
       "                        }\n",
       "                        break;\n",
       "                    }\n",
       "                }\n",
       "            }, 500);\n",
       "            "
      ],
      "text/plain": [
       "<IPython.core.display.Javascript object>"
      ]
     },
     "metadata": {},
     "output_type": "display_data"
    },
    {
     "data": {
      "application/javascript": [
       "\n",
       "            setTimeout(function() {\n",
       "                var nbb_cell_id = 460;\n",
       "                var nbb_unformatted_code = \"style_table(\\n    test_results[[\\\"test_ndcg_score\\\"]]\\n    .join(\\n        categorical_data_test_results[\\\"test_ndcg_score\\\"],\\n        how=\\\"right\\\",\\n        rsuffix=\\\"_categorical\\\",\\n    )\\n    .assign(\\n        difference=lambda df: df[\\\"test_ndcg_score_categorical\\\"] - df[\\\"test_ndcg_score\\\"]\\n    ).sort_values(\\\"test_ndcg_score_categorical\\\"),\\n    gradient_columns=[\\\"difference\\\"],\\n    gradient_cmaps=[\\\"coolwarm\\\"],\\n)\";\n",
       "                var nbb_formatted_code = \"style_table(\\n    test_results[[\\\"test_ndcg_score\\\"]]\\n    .join(\\n        categorical_data_test_results[\\\"test_ndcg_score\\\"],\\n        how=\\\"right\\\",\\n        rsuffix=\\\"_categorical\\\",\\n    )\\n    .assign(\\n        difference=lambda df: df[\\\"test_ndcg_score_categorical\\\"] - df[\\\"test_ndcg_score\\\"]\\n    )\\n    .sort_values(\\\"test_ndcg_score_categorical\\\"),\\n    gradient_columns=[\\\"difference\\\"],\\n    gradient_cmaps=[\\\"coolwarm\\\"],\\n)\";\n",
       "                var nbb_cells = Jupyter.notebook.get_cells();\n",
       "                for (var i = 0; i < nbb_cells.length; ++i) {\n",
       "                    if (nbb_cells[i].input_prompt_number == nbb_cell_id) {\n",
       "                        if (nbb_cells[i].get_text() == nbb_unformatted_code) {\n",
       "                             nbb_cells[i].set_text(nbb_formatted_code);\n",
       "                        }\n",
       "                        break;\n",
       "                    }\n",
       "                }\n",
       "            }, 500);\n",
       "            "
      ],
      "text/plain": [
       "<IPython.core.display.Javascript object>"
      ]
     },
     "metadata": {},
     "output_type": "display_data"
    }
   ],
   "source": [
    "style_table(\n",
    "    test_results[[\"test_ndcg_score\"]]\n",
    "    .join(\n",
    "        categorical_data_test_results[\"test_ndcg_score\"],\n",
    "        how=\"right\",\n",
    "        rsuffix=\"_categorical\",\n",
    "    )\n",
    "    .assign(\n",
    "        difference=lambda df: df[\"test_ndcg_score_categorical\"] - df[\"test_ndcg_score\"]\n",
    "    )\n",
    "    .sort_values(\"test_ndcg_score_categorical\", ascending=False),\n",
    "    gradient_columns=[\"difference\"],\n",
    "    gradient_cmaps=[\"coolwarm\"],\n",
    ")"
   ]
  },
  {
   "cell_type": "markdown",
   "metadata": {},
   "source": [
    "В среднем качество заметно улучшилось при делегации кодирования категориальных фичей catboost.\n",
    "\n",
    "---"
   ]
  },
  {
   "cell_type": "markdown",
   "metadata": {},
   "source": [
    "#### Пользовательская функция потерь\n",
    "\n",
    "Библиотека XGBoost позволяет использовать пользовательские функции потерь. Для этого необходимо реализовать функцию, принимающую на вход вектор предсказанных значений и обучающую выборку, и возвращающую градиент и гессиан, посчитанный по входным данным.\n",
    "\n",
    "Важно отметить, что XGBoost использует диагональную аппроксимацию гессиана, таким образом все недиагональные элементы считаются малозначимыми и приравниваются нулю, поэтому и градиент, и гессиан являются векторами длины размера обучающей выборки.\n",
    "\n",
    "**(1 балла) Задание 4.** Реализуйте экспоненциальную функцию потерь для XGBoost:\n",
    "$$ Obj = \\sum_{i \\prec j} \\mathcal{L}\\left(a(x_j) - a(x_i)\\right) \\rightarrow min $$ $$ \\mathcal{L}(M) = e^{-M} $$\n",
    "\n",
    "Обучите модель с помощью данной функции потерь, настройте параметры."
   ]
  },
  {
   "cell_type": "markdown",
   "metadata": {},
   "source": [
    "**Комментарии к реализации**\n",
    "\n",
    "В случае ранжирования XGBoost'у необходимо знать о разбиении всех объектов на группы. В нашем случае в одну группу будут входить документы, соответствующие одному запросу. Функция, считающая градиент и гессиан по данным, должна знать данное разбиение датасета. Однако питоновский интерфейс класса *DMatrix* (в котором хранится датасет) не дает возможности получить это разбиение. В этом случае нужно реализовать функцию потерь в качестве функтора, конструктор которого принимает разбиение на группы в качестве параметра.\n",
    "\n",
    "Пример реализации своей функции потерь можно найти [в официальной справке](https://xgboost.readthedocs.io/en/latest/tutorials/custom_metric_obj.html#customized-objective-function) "
   ]
  },
  {
   "cell_type": "markdown",
   "metadata": {},
   "source": [
    "---\n",
    "\n",
    "$$Obj = \\sum_{i \\prec j}\\exp(a_i - a_j)=\\sum_{ij}[y_i < y_j]\\exp(a_i - a_j)$$\n",
    "\n",
    "Пусть $A_{ij} = a_i - a_j, Y_{ij} = y_i - y_j$, тогда \n",
    "\n",
    "$$Obj = \\sum_{ij}[Y < 0]\\exp A$$\n",
    "\n",
    "$$Obj'_{a_t} = \\sum_{ij}([i=t] - [j=t])[Y < 0]\\exp A$$\n",
    "\n",
    "Если $H = [Y < 0]\\exp A$, то \n",
    "\n",
    "$$Obj'_{a_t} = \\sum_{ij}([i=t] - [j=t]) H = \\sum_{j}H_{tj} - \\sum_{i}H_{it} = \\sum_{j}(H -H^T)_{tj}$$\n",
    "\n",
    "$$Obj''_{a_t} = \\sum_{ij}([i=t] + [j=t])[Y > 0]\\exp A = \\sum_{j}(H +H^T)_{tj}$$"
   ]
  },
  {
   "cell_type": "code",
   "execution_count": 16,
   "metadata": {
    "ExecuteTime": {
     "end_time": "2022-07-10T08:24:31.205235Z",
     "start_time": "2022-07-10T08:24:31.092945Z"
    }
   },
   "outputs": [
    {
     "data": {
      "application/javascript": [
       "\n",
       "            setTimeout(function() {\n",
       "                var nbb_cell_id = 16;\n",
       "                var nbb_unformatted_code = \"import einops\\n\\n\\nclass CustomXGBLoss:\\n    def __init__(self, custom_loss):\\n        self.custom_loss = custom_loss\\n\\n    def __call__(self, preds: np.ndarray, dtrain: xgb.DMatrix):\\n        groups = np.concatenate(\\n            [\\n                np.full(shape=group_size, fill_value=i)\\n                for i, group_size in enumerate(dtrain.get_group())\\n            ]\\n        )\\n        moments = (\\n            pd.DataFrame({\\\"preds\\\": preds, \\\"labels\\\": dtrain.get_label()})\\n            .groupby(groups)\\n            .apply(\\n                lambda df: pd.DataFrame(\\n                    dict(\\n                        zip(\\n                            [\\\"grad\\\", \\\"hess\\\"],\\n                            self.custom_loss(df[\\\"preds\\\"].values, df[\\\"labels\\\"].values),\\n                        )\\n                    )\\n                )\\n            )\\n        )\\n        grad, hess = moments[\\\"grad\\\"].values, moments[\\\"hess\\\"].values\\n        return grad, hess\\n\\n\\ndef pairwise_difference(x):\\n    \\\"\\\"\\\"If given vector x, returns matrix X_ij = x_i - x_j\\\"\\\"\\\"\\n    n = x.shape[-1]\\n    return einops.repeat(x, f\\\"... -> ... {n}\\\") - einops.repeat(x, f\\\"... n -> ... {n} n\\\")\\n\\n\\ndef exponential_pairwise_loss_moments(a: np.ndarray, y: np.ndarray):\\n    \\\"\\\"\\\"\\n    Returns gradient and diagonal hessian of exponential pairwise loss function:\\n    L = \\\\sum_{i \\\\prec j}\\\\exp(a_i - a_j)\\n\\n    :param a: predicted relevance\\n    :param y: true relevance\\n    :returns grad, hess: gradient and diagonal hessian\\n    \\\"\\\"\\\"\\n\\n    A, Y = pairwise_difference(a), pairwise_difference(y)\\n    H = (Y < 0).astype(float) * np.exp(A)\\n    grad = einops.reduce(H - H.T, \\\"t j -> t\\\", \\\"sum\\\")\\n    hess = einops.reduce(H + H.T, \\\"t j -> t\\\", \\\"sum\\\")\\n    return grad, hess\";\n",
       "                var nbb_formatted_code = \"import einops\\n\\n\\nclass CustomXGBLoss:\\n    def __init__(self, custom_loss):\\n        self.custom_loss = custom_loss\\n\\n    def __call__(self, preds: np.ndarray, dtrain: xgb.DMatrix):\\n        groups = np.concatenate(\\n            [\\n                np.full(shape=group_size, fill_value=i)\\n                for i, group_size in enumerate(dtrain.get_group())\\n            ]\\n        )\\n        moments = (\\n            pd.DataFrame({\\\"preds\\\": preds, \\\"labels\\\": dtrain.get_label()})\\n            .groupby(groups)\\n            .apply(\\n                lambda df: pd.DataFrame(\\n                    dict(\\n                        zip(\\n                            [\\\"grad\\\", \\\"hess\\\"],\\n                            self.custom_loss(df[\\\"preds\\\"].values, df[\\\"labels\\\"].values),\\n                        )\\n                    )\\n                )\\n            )\\n        )\\n        grad, hess = moments[\\\"grad\\\"].values, moments[\\\"hess\\\"].values\\n        return grad, hess\\n\\n\\ndef pairwise_difference(x):\\n    \\\"\\\"\\\"If given vector x, returns matrix X_ij = x_i - x_j\\\"\\\"\\\"\\n    n = x.shape[-1]\\n    return einops.repeat(x, f\\\"... -> ... {n}\\\") - einops.repeat(x, f\\\"... n -> ... {n} n\\\")\\n\\n\\ndef exponential_pairwise_loss_moments(a: np.ndarray, y: np.ndarray):\\n    \\\"\\\"\\\"\\n    Returns gradient and diagonal hessian of exponential pairwise loss function:\\n    L = \\\\sum_{i \\\\prec j}\\\\exp(a_i - a_j)\\n\\n    :param a: predicted relevance\\n    :param y: true relevance\\n    :returns grad, hess: gradient and diagonal hessian\\n    \\\"\\\"\\\"\\n\\n    A, Y = pairwise_difference(a), pairwise_difference(y)\\n    H = (Y < 0).astype(float) * np.exp(A)\\n    grad = einops.reduce(H - H.T, \\\"t j -> t\\\", \\\"sum\\\")\\n    hess = einops.reduce(H + H.T, \\\"t j -> t\\\", \\\"sum\\\")\\n    return grad, hess\";\n",
       "                var nbb_cells = Jupyter.notebook.get_cells();\n",
       "                for (var i = 0; i < nbb_cells.length; ++i) {\n",
       "                    if (nbb_cells[i].input_prompt_number == nbb_cell_id) {\n",
       "                        if (nbb_cells[i].get_text() == nbb_unformatted_code) {\n",
       "                             nbb_cells[i].set_text(nbb_formatted_code);\n",
       "                        }\n",
       "                        break;\n",
       "                    }\n",
       "                }\n",
       "            }, 500);\n",
       "            "
      ],
      "text/plain": [
       "<IPython.core.display.Javascript object>"
      ]
     },
     "metadata": {},
     "output_type": "display_data"
    }
   ],
   "source": [
    "import einops\n",
    "\n",
    "\n",
    "class CustomXGBLoss:\n",
    "    def __init__(self, custom_loss):\n",
    "        self.custom_loss = custom_loss\n",
    "\n",
    "    def __call__(self, preds: np.ndarray, dtrain: xgb.DMatrix):\n",
    "        groups = np.concatenate(\n",
    "            [\n",
    "                np.full(shape=group_size, fill_value=i)\n",
    "                for i, group_size in enumerate(dtrain.get_group())\n",
    "            ]\n",
    "        )\n",
    "        moments = (\n",
    "            pd.DataFrame({\"preds\": preds, \"labels\": dtrain.get_label()})\n",
    "            .groupby(groups)\n",
    "            .apply(\n",
    "                lambda df: pd.DataFrame(\n",
    "                    dict(\n",
    "                        zip(\n",
    "                            [\"grad\", \"hess\"],\n",
    "                            self.custom_loss(df[\"preds\"].values, df[\"labels\"].values),\n",
    "                        )\n",
    "                    )\n",
    "                )\n",
    "            )\n",
    "        )\n",
    "        grad, hess = moments[\"grad\"].values, moments[\"hess\"].values\n",
    "        return grad, hess\n",
    "\n",
    "\n",
    "def pairwise_difference(x):\n",
    "    \"\"\"If given vector x, returns matrix X_ij = x_i - x_j\"\"\"\n",
    "    n = x.shape[-1]\n",
    "    return einops.repeat(x, f\"... -> ... {n}\") - einops.repeat(x, f\"... n -> ... {n} n\")\n",
    "\n",
    "\n",
    "def exponential_pairwise_loss_moments(a: np.ndarray, y: np.ndarray):\n",
    "    \"\"\"\n",
    "    Returns gradient and diagonal hessian of exponential pairwise loss function:\n",
    "    L = \\sum_{i \\prec j}\\exp(a_i - a_j)\n",
    "\n",
    "    :param a: predicted relevance\n",
    "    :param y: true relevance\n",
    "    :returns grad, hess: gradient and diagonal hessian\n",
    "    \"\"\"\n",
    "\n",
    "    A, Y = pairwise_difference(a), pairwise_difference(y)\n",
    "    H = (Y < 0).astype(float) * np.exp(A)\n",
    "    grad = einops.reduce(H - H.T, \"t j -> t\", \"sum\")\n",
    "    hess = einops.reduce(H + H.T, \"t j -> t\", \"sum\")\n",
    "    return grad, hess"
   ]
  },
  {
   "cell_type": "markdown",
   "metadata": {},
   "source": [
    "Также мне захотелось придумать свою функцию потерь, основываясь в основном на интуиции:\n",
    "\n",
    "$$Obj = \\sum_{ij}\\left( f(\\Delta a - \\Delta y)^{\\sigma(\\Delta y)} + f(\\Delta y - \\Delta a)^{\\sigma(-\\Delta y)} \\right)$$\n",
    "\n",
    "$$f(x) = x + e^{-x}\\\\\n",
    "A_{ij} = a_i - a_j\\\\\n",
    "Y_{ij} = y_i - y_j\\\\\n",
    "S = \\frac{1}{1+e^{-Y}}, $$\n",
    "\n",
    "$$Obj'_{a_t} = \\sum_{(a,y)}\\left( f(A - Y)^{S} + f(Y - A)^{1 - S} \\right)'_{a_t}=\\\\\n",
    "=\\sum_{ij}[i=t\\text{ or }j=t]\\left(f(A - Y)'_{a_t}Sf(A - Y)^{S-1} + f(Y - A)'_{a_t}(1 - S)f(Y - A)^{- S} \\right)=\\\\\n",
    "=\\sum_{ij}([i=t] - [j=t])\\left(S(1 - \\exp(Y-A )) f(A - Y)^{S - 1} -(1 - S)(1 - \\exp(A - Y))f(Y - A)^{- S} \\right)\n",
    "$$\n",
    "\n",
    "$$Obj''_{a_t} = \\sum_{ij}([i=t] + [j=t])\\left(S\\left(\\exp(Y-A)f(A - Y)^{S - 1}  +(S - 1)(1 - \\exp(Y-A))^2 f(A - Y)^{S - 2}\\right)+\\\\\n",
    "+ (1 - S)\\left(\\exp(A - Y)f(Y - A)^{- S} - S(1 - \\exp(A-Y))^2 f(Y - A)^{ - S - 1} \\right)\\right)\n",
    "$$"
   ]
  },
  {
   "cell_type": "code",
   "execution_count": 17,
   "metadata": {
    "ExecuteTime": {
     "end_time": "2022-07-10T08:24:31.349052Z",
     "start_time": "2022-07-10T08:24:31.207463Z"
    }
   },
   "outputs": [
    {
     "data": {
      "application/javascript": [
       "\n",
       "            setTimeout(function() {\n",
       "                var nbb_cell_id = 17;\n",
       "                var nbb_unformatted_code = \"def sigmoid(x):\\n    return 1 / (1 + np.exp(-x))\\n\\n\\ndef custom_pairwise_loss_moments(a: np.ndarray, y: np.ndarray):\\n    \\\"\\\"\\\"\\n    Returns gradient and diagonal hessian of the following loss function:\\n    f(da - dy)**sigma(dy) + f(dy - da)**sigma(-dy)\\n\\n    :param a: predicted relevance\\n    :param y: true relevance\\n    :returns grad, hess: gradient and diagonal hessian\\n    \\\"\\\"\\\"\\n\\n    def assymetric_loss(x):\\n        return x + np.exp(-x)\\n\\n    A, Y = pairwise_difference(a), pairwise_difference(y)\\n    S = sigmoid(Y)\\n    F = assymetric_loss(A - Y)\\n    E = np.exp(Y - A)\\n    G = S * (1 - E) * F ** (S - 1) - (1 - S) * (1 - E.T) * F.T**-S\\n    H = S * (E * F ** (S - 1) + (S - 1) * (1 - E.T) ** 2 * F ** (S - 2)) + (1 - S) * (\\n        E.T * F.T**-S - S * (1 - E.T) ** 2 * F.T ** (-S - 1)\\n    )\\n    grad = einops.reduce(G - G.T, \\\"t j -> t\\\", \\\"sum\\\")\\n    hess = einops.reduce(H + H.T, \\\"t j -> t\\\", \\\"sum\\\")\\n    return grad, hess\";\n",
       "                var nbb_formatted_code = \"def sigmoid(x):\\n    return 1 / (1 + np.exp(-x))\\n\\n\\ndef custom_pairwise_loss_moments(a: np.ndarray, y: np.ndarray):\\n    \\\"\\\"\\\"\\n    Returns gradient and diagonal hessian of the following loss function:\\n    f(da - dy)**sigma(dy) + f(dy - da)**sigma(-dy)\\n\\n    :param a: predicted relevance\\n    :param y: true relevance\\n    :returns grad, hess: gradient and diagonal hessian\\n    \\\"\\\"\\\"\\n\\n    def assymetric_loss(x):\\n        return x + np.exp(-x)\\n\\n    A, Y = pairwise_difference(a), pairwise_difference(y)\\n    S = sigmoid(Y)\\n    F = assymetric_loss(A - Y)\\n    E = np.exp(Y - A)\\n    G = S * (1 - E) * F ** (S - 1) - (1 - S) * (1 - E.T) * F.T**-S\\n    H = S * (E * F ** (S - 1) + (S - 1) * (1 - E.T) ** 2 * F ** (S - 2)) + (1 - S) * (\\n        E.T * F.T**-S - S * (1 - E.T) ** 2 * F.T ** (-S - 1)\\n    )\\n    grad = einops.reduce(G - G.T, \\\"t j -> t\\\", \\\"sum\\\")\\n    hess = einops.reduce(H + H.T, \\\"t j -> t\\\", \\\"sum\\\")\\n    return grad, hess\";\n",
       "                var nbb_cells = Jupyter.notebook.get_cells();\n",
       "                for (var i = 0; i < nbb_cells.length; ++i) {\n",
       "                    if (nbb_cells[i].input_prompt_number == nbb_cell_id) {\n",
       "                        if (nbb_cells[i].get_text() == nbb_unformatted_code) {\n",
       "                             nbb_cells[i].set_text(nbb_formatted_code);\n",
       "                        }\n",
       "                        break;\n",
       "                    }\n",
       "                }\n",
       "            }, 500);\n",
       "            "
      ],
      "text/plain": [
       "<IPython.core.display.Javascript object>"
      ]
     },
     "metadata": {},
     "output_type": "display_data"
    }
   ],
   "source": [
    "def sigmoid(x):\n",
    "    return 1 / (1 + np.exp(-x))\n",
    "\n",
    "\n",
    "def custom_pairwise_loss_moments(a: np.ndarray, y: np.ndarray):\n",
    "    \"\"\"\n",
    "    Returns gradient and diagonal hessian of the following loss function:\n",
    "    f(da - dy)**sigma(dy) + f(dy - da)**sigma(-dy)\n",
    "\n",
    "    :param a: predicted relevance\n",
    "    :param y: true relevance\n",
    "    :returns grad, hess: gradient and diagonal hessian\n",
    "    \"\"\"\n",
    "\n",
    "    def assymetric_loss(x):\n",
    "        return x + np.exp(-x)\n",
    "\n",
    "    A, Y = pairwise_difference(a), pairwise_difference(y)\n",
    "    S = sigmoid(Y)\n",
    "    F = assymetric_loss(A - Y)\n",
    "    E = np.exp(Y - A)\n",
    "    G = S * (1 - E) * F ** (S - 1) - (1 - S) * (1 - E.T) * F.T**-S\n",
    "    H = S * (E * F ** (S - 1) + (S - 1) * (1 - E.T) ** 2 * F ** (S - 2)) + (1 - S) * (\n",
    "        E.T * F.T**-S - S * (1 - E.T) ** 2 * F.T ** (-S - 1)\n",
    "    )\n",
    "    grad = einops.reduce(G - G.T, \"t j -> t\", \"sum\")\n",
    "    hess = einops.reduce(H + H.T, \"t j -> t\", \"sum\")\n",
    "    return grad, hess"
   ]
  },
  {
   "cell_type": "markdown",
   "metadata": {},
   "source": [
    "Реализуем также $L2Loss$ и $LambdaLoss$. С $L2$ все просто, разберемся с $LambdaLoss$. $LambdaLoss$ строится на следующих предположениях:\n",
    "\n",
    "1. Потери на выборке раскладываются в сумму попарных потерь: $C = \\sum_{ij}C_{ij}$, где $C_{ij} = L(y_i, y_j, a_i, a_j)$ - ошибка предсказания на паре $(i, j)$, $L$ –– функция потерь на паре.\n",
    "\n",
    "2. Ошибка предсказания на паре не зависит от порядка: $C_{ij} = C_{ji}$.\n",
    "\n",
    "3. Ошибка на паре $(i, j)$ инвариантна относительно одновременного сдвига предсказаний:\n",
    "$$\\forall x : L(y_i, y_j, a_i, a_j) = L(y_i, y_j, a_i + x, a_j + x) \\Rightarrow\n",
    "\\cfrac{\\partial C_{ij}}{\\partial a_{i}} + \\cfrac{\\partial C_{ij}}{\\partial a_{j}} = 0,\\\\ $$ Откуда следует, что $\\cfrac{\\partial C_{ii}}{\\partial a_{i}} = 0$\n",
    "\n",
    "Все эти предположения интуитивны и не ограничительны, но позволяют построить следующую модель:\n",
    "\n",
    "$$\\lambda_{ij} =\n",
    "\\cfrac{\\partial C_{ij}}{\\partial a_{i}}=\n",
    "-\\cfrac{\\partial C_{ij}}{\\partial a_{j}}=\n",
    "-\\cfrac{\\partial C_{ji}}{\\partial a_{j}}=\n",
    "- \\lambda_{ji}\n",
    "$$\n",
    "\n",
    "$$\\lambda_{t} =\n",
    "\\cfrac{\\partial C}{\\partial a_{t}} =\n",
    "\\cfrac{\\partial \\sum_{ij}C_{ij}}{\\partial a_{t}} =\n",
    "\\sum_{j}\\cfrac{\\partial C_{tj}}{\\partial a_{t}} + \\sum_{i}\\cfrac{\\partial C_{it}}{\\partial a_{t}}=\n",
    "\\sum_{j}\\cfrac{\\partial C_{tj}}{\\partial a_{t}} + \\sum_{i}\\cfrac{\\partial C_{ti}}{\\partial a_{t}}=\n",
    "2\\sum_{j}\\lambda_{tj}\n",
    "$$\n",
    "\n",
    "Смесь теоретических выводов и эмпирических наблюдений рекомендует определить $\\lambda_{ij}$ так:\n",
    "\n",
    "$$\\lambda_{ij} = \\cfrac{\\sigma\\text{ sign}(y_j - y_i)}{1 + e^{\\left(\\sigma\\text{ sign}(y_j - y_i)\\right) (a_j - a_i)}}|\\Delta \\text{NDCG}_{ij}|=\n",
    "\\cfrac{-\\sigma\\text{ sign}\\Delta y}{1 + e^{\\left(\\sigma\\text{ sign}\\Delta y\\right) \\Delta a}}|\\Delta \\text{NDCG}_{ij}|\n",
    ",$$\n",
    "\n",
    "где $\\sigma$ - гиперпараметр, а $\\Delta \\text{NDCG}_{ij}$ равно изменению целевой метрики, в нашем случае NDCG, при перестановке предсказанных рангов объектов $i$ и $j$, то есть:\n",
    "\n",
    "$$\\Delta \\text{NDCG}_{ij} = \\text{NDCG}(y, a) - \\text{NDCG}(y, \\bar a)$$\n",
    "\n",
    "$$\\text{где } \\bar a_i = a_j,\\bar a_j = a_i,~\\bar a_t = a_t, t \\not \\in \\{i, j\\}$$\n",
    "\n",
    "$$\\Delta \\text{NDCG}_{ij} =\n",
    "\\cfrac{1}{\\text{IDCG}}\\left(\n",
    "\\cfrac{2^{y_i} - 1}{\\log_2 (\\pi_i + 1) } \n",
    "+ \\cfrac{2^{y_j} - 1}{\\log_2 (\\pi_j + 1) }\n",
    "-\\cfrac{2^{y_j} - 1}{\\log_2 (\\pi_i + 1) } \n",
    "- \\cfrac{2^{y_i} - 1}{\\log_2 (\\pi_j + 1) }\\right)\n",
    "=\\\\=\\cfrac{1}{\\text{IDCG}}\\left(2^{y_i} - 2^{y_j}\\right)\n",
    "\\left(\\cfrac{1}{\\log_2 (\\pi_i + 1) } - \\cfrac{1}{\\log_2 (\\pi_j + 1) }\\right)\n",
    "$$\n",
    "\n",
    "где $\\pi_i$ –– ранк объекта $i$ в упорядоченной по предсказанным релевантостям $a$ последовательности объектов.\n",
    "\n",
    "Нас также интересуют повторные частные производные:\n",
    "\n",
    "$$\\cfrac{\\partial^2 C}{\\partial a_{t}^2} =\n",
    "{\\lambda_t}'_{a_t} = 2\\sum_{j}{\\lambda_{tj}}'_{a_t}\n",
    "$$\n",
    "\n",
    "$${\\lambda_{tj}}'_{a_t} =\n",
    "\\cfrac{\\left(\\sigma\\text{ sign}\\Delta y\\right)^2 e^{\\left(\\sigma\\text{ sign}\\Delta y\\right) \\Delta a}}{\\left(1 + e^{\\left(\\sigma\\text{ sign}\\Delta y\\right) \\Delta a}\\right)^2}|\\Delta \\text{NDCG}_{ij}|=\n",
    "\\lambda_{ij}\\cfrac{-\\sigma\\text{ sign}\\Delta y ~e^{\\left(\\sigma\\text{ sign}\\Delta y\\right) \\Delta a}}{1 + e^{\\left(\\sigma\\text{ sign}\\Delta y\\right) \\Delta a}}$$\n",
    "\n",
    "Приступим к реализации:"
   ]
  },
  {
   "cell_type": "code",
   "execution_count": 18,
   "metadata": {
    "ExecuteTime": {
     "end_time": "2022-07-10T08:24:31.450576Z",
     "start_time": "2022-07-10T08:24:31.351104Z"
    }
   },
   "outputs": [
    {
     "data": {
      "application/javascript": [
       "\n",
       "            setTimeout(function() {\n",
       "                var nbb_cell_id = 18;\n",
       "                var nbb_unformatted_code = \"from sklearn.metrics import dcg_score\\n\\n\\ndef lambda_loss_moments(a: np.ndarray, y: np.ndarray, sigma=1):\\n    \\\"\\\"\\\"\\n    Returns gradient and diagonal hessian of the lambda loss function:\\n    (-sigma * sign(dy)) / (1 + e ** (sigma * sign(dy) * da)) * |dNDCG|\\n\\n    :param a: predicted relevance\\n    :param y: true relevance\\n    :returns grad, hess: gradient and diagonal hessian\\n    \\\"\\\"\\\"\\n\\n    idcg = dcg_score([y], [y]) if len(y) > 1 else 0\\n    pi = np.argsort(np.argsort(-a)) + 1\\n    delta_ndcg = (\\n        (\\n            pairwise_difference(2**y)\\n            * pairwise_difference(np.log2(pi + 1) ** -1)\\n            / idcg\\n        )\\n        if idcg > 0\\n        else 0\\n    )\\n    A, Y = pairwise_difference(a), pairwise_difference(y)\\n    B = -sigma * np.sign(Y) * sigmoid(-sigma * np.sign(Y) * A)\\n    G = B * np.abs(delta_ndcg)\\n    H = G * B * np.exp(sigma * np.sign(Y) * A)\\n\\n    grad = einops.reduce(2 * G, \\\"t j -> t\\\", \\\"sum\\\")\\n    hess = einops.reduce(2 * H, \\\"t j -> t\\\", \\\"sum\\\")\\n    return grad, hess\";\n",
       "                var nbb_formatted_code = \"from sklearn.metrics import dcg_score\\n\\n\\ndef lambda_loss_moments(a: np.ndarray, y: np.ndarray, sigma=1):\\n    \\\"\\\"\\\"\\n    Returns gradient and diagonal hessian of the lambda loss function:\\n    (-sigma * sign(dy)) / (1 + e ** (sigma * sign(dy) * da)) * |dNDCG|\\n\\n    :param a: predicted relevance\\n    :param y: true relevance\\n    :returns grad, hess: gradient and diagonal hessian\\n    \\\"\\\"\\\"\\n\\n    idcg = dcg_score([y], [y]) if len(y) > 1 else 0\\n    pi = np.argsort(np.argsort(-a)) + 1\\n    delta_ndcg = (\\n        (\\n            pairwise_difference(2**y)\\n            * pairwise_difference(np.log2(pi + 1) ** -1)\\n            / idcg\\n        )\\n        if idcg > 0\\n        else 0\\n    )\\n    A, Y = pairwise_difference(a), pairwise_difference(y)\\n    B = -sigma * np.sign(Y) * sigmoid(-sigma * np.sign(Y) * A)\\n    G = B * np.abs(delta_ndcg)\\n    H = G * B * np.exp(sigma * np.sign(Y) * A)\\n\\n    grad = einops.reduce(2 * G, \\\"t j -> t\\\", \\\"sum\\\")\\n    hess = einops.reduce(2 * H, \\\"t j -> t\\\", \\\"sum\\\")\\n    return grad, hess\";\n",
       "                var nbb_cells = Jupyter.notebook.get_cells();\n",
       "                for (var i = 0; i < nbb_cells.length; ++i) {\n",
       "                    if (nbb_cells[i].input_prompt_number == nbb_cell_id) {\n",
       "                        if (nbb_cells[i].get_text() == nbb_unformatted_code) {\n",
       "                             nbb_cells[i].set_text(nbb_formatted_code);\n",
       "                        }\n",
       "                        break;\n",
       "                    }\n",
       "                }\n",
       "            }, 500);\n",
       "            "
      ],
      "text/plain": [
       "<IPython.core.display.Javascript object>"
      ]
     },
     "metadata": {},
     "output_type": "display_data"
    }
   ],
   "source": [
    "from sklearn.metrics import dcg_score\n",
    "\n",
    "\n",
    "def lambda_loss_moments(a: np.ndarray, y: np.ndarray, sigma=1):\n",
    "    \"\"\"\n",
    "    Returns gradient and diagonal hessian of the lambda loss function:\n",
    "    (-sigma * sign(dy)) / (1 + e ** (sigma * sign(dy) * da)) * |dNDCG|\n",
    "\n",
    "    :param a: predicted relevance\n",
    "    :param y: true relevance\n",
    "    :returns grad, hess: gradient and diagonal hessian\n",
    "    \"\"\"\n",
    "\n",
    "    idcg = dcg_score([y], [y]) if len(y) > 1 else 0\n",
    "    pi = np.argsort(np.argsort(-a)) + 1\n",
    "    delta_ndcg = (\n",
    "        (\n",
    "            pairwise_difference(2**y)\n",
    "            * pairwise_difference(np.log2(pi + 1) ** -1)\n",
    "            / idcg\n",
    "        )\n",
    "        if idcg > 0\n",
    "        else 0\n",
    "    )\n",
    "    A, Y = pairwise_difference(a), pairwise_difference(y)\n",
    "    B = -sigma * np.sign(Y) * sigmoid(-sigma * np.sign(Y) * A)\n",
    "    G = B * np.abs(delta_ndcg)\n",
    "    H = G * B * np.exp(sigma * np.sign(Y) * A)\n",
    "\n",
    "    grad = einops.reduce(2 * G, \"t j -> t\", \"sum\")\n",
    "    hess = einops.reduce(2 * H, \"t j -> t\", \"sum\")\n",
    "    return grad, hess"
   ]
  },
  {
   "cell_type": "code",
   "execution_count": null,
   "metadata": {
    "ExecuteTime": {
     "end_time": "2022-06-30T15:36:21.395608Z",
     "start_time": "2022-06-30T13:26:08.940984Z"
    }
   },
   "outputs": [],
   "source": [
    "custom_results = run_grid_search(\n",
    "    **{\n",
    "        **grid_search_params,\n",
    "        \"y_train\": y.loc[clipped_train_index],\n",
    "        \"y_test\": y.loc[test_index],\n",
    "        \"objectives\": [\n",
    "            CustomXGBLoss(exponential_pairwise_loss_moments),\n",
    "            CustomXGBLoss(custom_pairwise_loss_moments),\n",
    "            CustomXGBLoss(lambda_loss_moments),\n",
    "            CustomXGBLoss(l2_loss_moments),\n",
    "        ],\n",
    "        \"param_grid\": {**param_grid, \"n_estimators\": [5, 10, 20]},\n",
    "    }\n",
    ")"
   ]
  },
  {
   "cell_type": "code",
   "execution_count": 1410,
   "metadata": {
    "ExecuteTime": {
     "end_time": "2022-07-01T03:05:18.178572Z",
     "start_time": "2022-07-01T03:05:18.108647Z"
    }
   },
   "outputs": [
    {
     "data": {
      "text/html": [
       "<style type=\"text/css\">\n",
       "#T_34d20_row0_col0, #T_34d20_row0_col7, #T_34d20_row1_col8 {\n",
       "  background-color: #f7a98b;\n",
       "  color: #000000;\n",
       "}\n",
       "#T_34d20_row0_col8 {\n",
       "  background-color: #f2cab5;\n",
       "  color: #000000;\n",
       "}\n",
       "#T_34d20_row1_col0 {\n",
       "  background-color: #c5d6f2;\n",
       "  color: #000000;\n",
       "}\n",
       "#T_34d20_row1_col7 {\n",
       "  background-color: #cad8ef;\n",
       "  color: #000000;\n",
       "}\n",
       "#T_34d20_row2_col0, #T_34d20_row2_col7 {\n",
       "  background-color: #b2ccfb;\n",
       "  color: #000000;\n",
       "}\n",
       "#T_34d20_row2_col8 {\n",
       "  background-color: #ecd3c5;\n",
       "  color: #000000;\n",
       "}\n",
       "#T_34d20_row3_col0, #T_34d20_row3_col7, #T_34d20_row3_col8 {\n",
       "  background-color: #9bbcff;\n",
       "  color: #000000;\n",
       "}\n",
       "</style>\n",
       "<table id=\"T_34d20\">\n",
       "  <thead>\n",
       "    <tr>\n",
       "      <th class=\"blank level0\" >&nbsp;</th>\n",
       "      <th id=\"T_34d20_level0_col0\" class=\"col_heading level0 col0\" >test_ndcg_score</th>\n",
       "      <th id=\"T_34d20_level0_col3\" class=\"col_heading level0 col3\" >learning_rate</th>\n",
       "      <th id=\"T_34d20_level0_col4\" class=\"col_heading level0 col4\" >max_depth</th>\n",
       "      <th id=\"T_34d20_level0_col5\" class=\"col_heading level0 col5\" >n_estimators</th>\n",
       "      <th id=\"T_34d20_level0_col6\" class=\"col_heading level0 col6\" >reg_lambda</th>\n",
       "      <th id=\"T_34d20_level0_col7\" class=\"col_heading level0 col7\" >mean_fit_time</th>\n",
       "      <th id=\"T_34d20_level0_col8\" class=\"col_heading level0 col8\" >mean_score_time</th>\n",
       "    </tr>\n",
       "    <tr>\n",
       "      <th class=\"index_name level0\" >model</th>\n",
       "      <th class=\"blank col0\" >&nbsp;</th>\n",
       "      <th class=\"blank col3\" >&nbsp;</th>\n",
       "      <th class=\"blank col4\" >&nbsp;</th>\n",
       "      <th class=\"blank col5\" >&nbsp;</th>\n",
       "      <th class=\"blank col6\" >&nbsp;</th>\n",
       "      <th class=\"blank col7\" >&nbsp;</th>\n",
       "      <th class=\"blank col8\" >&nbsp;</th>\n",
       "    </tr>\n",
       "  </thead>\n",
       "  <tbody>\n",
       "    <tr>\n",
       "      <th id=\"T_34d20_level0_row0\" class=\"row_heading level0 row0\" >lambda</th>\n",
       "      <td id=\"T_34d20_row0_col0\" class=\"data row0 col0\" >0.796</td>\n",
       "      <td id=\"T_34d20_row0_col3\" class=\"data row0 col3\" >0.5</td>\n",
       "      <td id=\"T_34d20_row0_col4\" class=\"data row0 col4\" >3</td>\n",
       "      <td id=\"T_34d20_row0_col5\" class=\"data row0 col5\" >20</td>\n",
       "      <td id=\"T_34d20_row0_col6\" class=\"data row0 col6\" >10.0</td>\n",
       "      <td id=\"T_34d20_row0_col7\" class=\"data row0 col7\" >11.752</td>\n",
       "      <td id=\"T_34d20_row0_col8\" class=\"data row0 col8\" >0.322</td>\n",
       "    </tr>\n",
       "    <tr>\n",
       "      <th id=\"T_34d20_level0_row1\" class=\"row_heading level0 row1\" >custom</th>\n",
       "      <td id=\"T_34d20_row1_col0\" class=\"data row1 col0\" >0.786</td>\n",
       "      <td id=\"T_34d20_row1_col3\" class=\"data row1 col3\" >0.3</td>\n",
       "      <td id=\"T_34d20_row1_col4\" class=\"data row1 col4\" >3</td>\n",
       "      <td id=\"T_34d20_row1_col5\" class=\"data row1 col5\" >20</td>\n",
       "      <td id=\"T_34d20_row1_col6\" class=\"data row1 col6\" >10.0</td>\n",
       "      <td id=\"T_34d20_row1_col7\" class=\"data row1 col7\" >7.396</td>\n",
       "      <td id=\"T_34d20_row1_col8\" class=\"data row1 col8\" >0.326</td>\n",
       "    </tr>\n",
       "    <tr>\n",
       "      <th id=\"T_34d20_level0_row2\" class=\"row_heading level0 row2\" >exponential</th>\n",
       "      <td id=\"T_34d20_row2_col0\" class=\"data row2 col0\" >0.784</td>\n",
       "      <td id=\"T_34d20_row2_col3\" class=\"data row2 col3\" >0.3</td>\n",
       "      <td id=\"T_34d20_row2_col4\" class=\"data row2 col4\" >3</td>\n",
       "      <td id=\"T_34d20_row2_col5\" class=\"data row2 col5\" >20</td>\n",
       "      <td id=\"T_34d20_row2_col6\" class=\"data row2 col6\" >1.0</td>\n",
       "      <td id=\"T_34d20_row2_col7\" class=\"data row2 col7\" >6.221</td>\n",
       "      <td id=\"T_34d20_row2_col8\" class=\"data row2 col8\" >0.321</td>\n",
       "    </tr>\n",
       "    <tr>\n",
       "      <th id=\"T_34d20_level0_row3\" class=\"row_heading level0 row3\" >l2</th>\n",
       "      <td id=\"T_34d20_row3_col0\" class=\"data row3 col0\" >0.782</td>\n",
       "      <td id=\"T_34d20_row3_col3\" class=\"data row3 col3\" >0.1</td>\n",
       "      <td id=\"T_34d20_row3_col4\" class=\"data row3 col4\" >6</td>\n",
       "      <td id=\"T_34d20_row3_col5\" class=\"data row3 col5\" >20</td>\n",
       "      <td id=\"T_34d20_row3_col6\" class=\"data row3 col6\" >1.0</td>\n",
       "      <td id=\"T_34d20_row3_col7\" class=\"data row3 col7\" >5.172</td>\n",
       "      <td id=\"T_34d20_row3_col8\" class=\"data row3 col8\" >0.312</td>\n",
       "    </tr>\n",
       "  </tbody>\n",
       "</table>\n"
      ],
      "text/plain": [
       "<pandas.io.formats.style.Styler at 0x7f844ced6bf0>"
      ]
     },
     "execution_count": 1410,
     "metadata": {},
     "output_type": "execute_result"
    },
    {
     "data": {
      "application/javascript": [
       "\n",
       "            setTimeout(function() {\n",
       "                var nbb_cell_id = 1410;\n",
       "                var nbb_unformatted_code = \"objective_names = [\\\"exponential\\\", \\\"custom\\\", \\\"lambda\\\", \\\"l2\\\"]\\ncustom_results = {k: v for k, v in zip(objective_names, custom_results.values())}\\ncustom_test_results = get_test_results(\\n    custom_results, {\\\"pointwise\\\": [\\\"l2\\\"], \\\"pairwise\\\": [\\\"exponential\\\", \\\"custom\\\"], \\\"listwise\\\": [\\\"lambda\\\"]}\\n)\\n\\nstyle_table(\\n    custom_test_results,\\n    gradient_columns=[\\\"test_ndcg_score\\\", \\\"mean_fit_time\\\", \\\"mean_score_time\\\"],\\n    gradient_cmaps=[\\\"coolwarm\\\", \\\"coolwarm\\\", \\\"coolwarm\\\"],\\n    categorical_columns=[\\\"loss_function\\\", \\\"implementation\\\"],\\n    qualitative_cmaps=[\\\"Pastel1\\\", \\\"Pastel2\\\"],\\n).hide([\\\"implementation\\\", \\\"loss_function\\\"], axis=\\\"columns\\\")\";\n",
       "                var nbb_formatted_code = \"objective_names = [\\\"exponential\\\", \\\"custom\\\", \\\"lambda\\\", \\\"l2\\\"]\\ncustom_results = {k: v for k, v in zip(objective_names, custom_results.values())}\\ncustom_test_results = get_test_results(\\n    custom_results,\\n    {\\n        \\\"pointwise\\\": [\\\"l2\\\"],\\n        \\\"pairwise\\\": [\\\"exponential\\\", \\\"custom\\\"],\\n        \\\"listwise\\\": [\\\"lambda\\\"],\\n    },\\n)\\n\\nstyle_table(\\n    custom_test_results,\\n    gradient_columns=[\\\"test_ndcg_score\\\", \\\"mean_fit_time\\\", \\\"mean_score_time\\\"],\\n    gradient_cmaps=[\\\"coolwarm\\\", \\\"coolwarm\\\", \\\"coolwarm\\\"],\\n    categorical_columns=[\\\"loss_function\\\", \\\"implementation\\\"],\\n    qualitative_cmaps=[\\\"Pastel1\\\", \\\"Pastel2\\\"],\\n).hide([\\\"implementation\\\", \\\"loss_function\\\"], axis=\\\"columns\\\")\";\n",
       "                var nbb_cells = Jupyter.notebook.get_cells();\n",
       "                for (var i = 0; i < nbb_cells.length; ++i) {\n",
       "                    if (nbb_cells[i].input_prompt_number == nbb_cell_id) {\n",
       "                        if (nbb_cells[i].get_text() == nbb_unformatted_code) {\n",
       "                             nbb_cells[i].set_text(nbb_formatted_code);\n",
       "                        }\n",
       "                        break;\n",
       "                    }\n",
       "                }\n",
       "            }, 500);\n",
       "            "
      ],
      "text/plain": [
       "<IPython.core.display.Javascript object>"
      ]
     },
     "metadata": {},
     "output_type": "display_data"
    }
   ],
   "source": [
    "objective_names = [\"exponential\", \"custom\", \"lambda\", \"l2\"]\n",
    "custom_results = {k: v for k, v in zip(objective_names, custom_results.values())}\n",
    "custom_test_results = get_test_results(\n",
    "    custom_results,\n",
    "    {\n",
    "        \"pointwise\": [\"l2\"],\n",
    "        \"pairwise\": [\"exponential\", \"custom\"],\n",
    "        \"listwise\": [\"lambda\"],\n",
    "    },\n",
    ")\n",
    "\n",
    "style_table(\n",
    "    custom_test_results,\n",
    "    gradient_columns=[\"test_ndcg_score\", \"mean_fit_time\", \"mean_score_time\"],\n",
    "    gradient_cmaps=[\"coolwarm\", \"coolwarm\", \"coolwarm\"],\n",
    "    categorical_columns=[\"loss_function\", \"implementation\"],\n",
    "    qualitative_cmaps=[\"Pastel1\", \"Pastel2\"],\n",
    ").hide([\"implementation\", \"loss_function\"], axis=\"columns\")"
   ]
  },
  {
   "cell_type": "code",
   "execution_count": null,
   "metadata": {
    "ExecuteTime": {
     "end_time": "2022-07-03T03:29:18.134318Z",
     "start_time": "2022-07-02T03:55:44.060286Z"
    }
   },
   "outputs": [],
   "source": [
    "def construct_lambda_loss(sigma):\n",
    "    return CustomXGBLoss(lambda a, y: lambda_loss_moments(a, y, sigma=sigma))\n",
    "\n",
    "\n",
    "sigmas = [0.01, 0.1, 1]\n",
    "lambda_results = run_grid_search(\n",
    "    **{\n",
    "        **grid_search_params,\n",
    "        \"y_train\": y.loc[clipped_train_index],\n",
    "        \"y_test\": y.loc[test_index],\n",
    "        \"objectives\": [construct_lambda_loss(sigma) for sigma in sigmas],\n",
    "    }\n",
    ")"
   ]
  },
  {
   "cell_type": "code",
   "execution_count": 1480,
   "metadata": {
    "ExecuteTime": {
     "end_time": "2022-07-03T03:29:18.179183Z",
     "start_time": "2022-07-03T03:29:18.136750Z"
    }
   },
   "outputs": [
    {
     "data": {
      "text/html": [
       "<style type=\"text/css\">\n",
       "#T_06854_row0_col0, #T_06854_row0_col8, #T_06854_row1_col7 {\n",
       "  background-color: #f7a98b;\n",
       "  color: #000000;\n",
       "}\n",
       "#T_06854_row0_col7 {\n",
       "  background-color: #d3dbe7;\n",
       "  color: #000000;\n",
       "}\n",
       "#T_06854_row1_col0 {\n",
       "  background-color: #f7ac8e;\n",
       "  color: #000000;\n",
       "}\n",
       "#T_06854_row1_col8, #T_06854_row2_col0, #T_06854_row2_col7 {\n",
       "  background-color: #9bbcff;\n",
       "  color: #000000;\n",
       "}\n",
       "#T_06854_row2_col8 {\n",
       "  background-color: #afcafc;\n",
       "  color: #000000;\n",
       "}\n",
       "</style>\n",
       "<table id=\"T_06854\">\n",
       "  <thead>\n",
       "    <tr>\n",
       "      <th class=\"blank level0\" >&nbsp;</th>\n",
       "      <th id=\"T_06854_level0_col0\" class=\"col_heading level0 col0\" >test_ndcg_score</th>\n",
       "      <th id=\"T_06854_level0_col3\" class=\"col_heading level0 col3\" >learning_rate</th>\n",
       "      <th id=\"T_06854_level0_col4\" class=\"col_heading level0 col4\" >max_depth</th>\n",
       "      <th id=\"T_06854_level0_col5\" class=\"col_heading level0 col5\" >n_estimators</th>\n",
       "      <th id=\"T_06854_level0_col6\" class=\"col_heading level0 col6\" >reg_lambda</th>\n",
       "      <th id=\"T_06854_level0_col7\" class=\"col_heading level0 col7\" >mean_fit_time</th>\n",
       "      <th id=\"T_06854_level0_col8\" class=\"col_heading level0 col8\" >mean_score_time</th>\n",
       "    </tr>\n",
       "    <tr>\n",
       "      <th class=\"index_name level0\" >model</th>\n",
       "      <th class=\"blank col0\" >&nbsp;</th>\n",
       "      <th class=\"blank col3\" >&nbsp;</th>\n",
       "      <th class=\"blank col4\" >&nbsp;</th>\n",
       "      <th class=\"blank col5\" >&nbsp;</th>\n",
       "      <th class=\"blank col6\" >&nbsp;</th>\n",
       "      <th class=\"blank col7\" >&nbsp;</th>\n",
       "      <th class=\"blank col8\" >&nbsp;</th>\n",
       "    </tr>\n",
       "  </thead>\n",
       "  <tbody>\n",
       "    <tr>\n",
       "      <th id=\"T_06854_level0_row0\" class=\"row_heading level0 row0\" >lambda (sigma=1)</th>\n",
       "      <td id=\"T_06854_row0_col0\" class=\"data row0 col0\" >0.803</td>\n",
       "      <td id=\"T_06854_row0_col3\" class=\"data row0 col3\" >0.1</td>\n",
       "      <td id=\"T_06854_row0_col4\" class=\"data row0 col4\" >3</td>\n",
       "      <td id=\"T_06854_row0_col5\" class=\"data row0 col5\" >200</td>\n",
       "      <td id=\"T_06854_row0_col6\" class=\"data row0 col6\" >10.00</td>\n",
       "      <td id=\"T_06854_row0_col7\" class=\"data row0 col7\" >115.294</td>\n",
       "      <td id=\"T_06854_row0_col8\" class=\"data row0 col8\" >0.335</td>\n",
       "    </tr>\n",
       "    <tr>\n",
       "      <th id=\"T_06854_level0_row1\" class=\"row_heading level0 row1\" >lambda (sigma=0.1)</th>\n",
       "      <td id=\"T_06854_row1_col0\" class=\"data row1 col0\" >0.799</td>\n",
       "      <td id=\"T_06854_row1_col3\" class=\"data row1 col3\" >0.3</td>\n",
       "      <td id=\"T_06854_row1_col4\" class=\"data row1 col4\" >6</td>\n",
       "      <td id=\"T_06854_row1_col5\" class=\"data row1 col5\" >100</td>\n",
       "      <td id=\"T_06854_row1_col6\" class=\"data row1 col6\" >1.00</td>\n",
       "      <td id=\"T_06854_row1_col7\" class=\"data row1 col7\" >115.873</td>\n",
       "      <td id=\"T_06854_row1_col8\" class=\"data row1 col8\" >0.333</td>\n",
       "    </tr>\n",
       "    <tr>\n",
       "      <th id=\"T_06854_level0_row2\" class=\"row_heading level0 row2\" >lambda (sigma=0.01)</th>\n",
       "      <td id=\"T_06854_row2_col0\" class=\"data row2 col0\" >0.639</td>\n",
       "      <td id=\"T_06854_row2_col3\" class=\"data row2 col3\" >0.1</td>\n",
       "      <td id=\"T_06854_row2_col4\" class=\"data row2 col4\" >3</td>\n",
       "      <td id=\"T_06854_row2_col5\" class=\"data row2 col5\" >50</td>\n",
       "      <td id=\"T_06854_row2_col6\" class=\"data row2 col6\" >0.01</td>\n",
       "      <td id=\"T_06854_row2_col7\" class=\"data row2 col7\" >114.893</td>\n",
       "      <td id=\"T_06854_row2_col8\" class=\"data row2 col8\" >0.333</td>\n",
       "    </tr>\n",
       "  </tbody>\n",
       "</table>\n"
      ],
      "text/plain": [
       "<pandas.io.formats.style.Styler at 0x7f8670f10160>"
      ]
     },
     "execution_count": 1480,
     "metadata": {},
     "output_type": "execute_result"
    },
    {
     "data": {
      "application/javascript": [
       "\n",
       "            setTimeout(function() {\n",
       "                var nbb_cell_id = 1480;\n",
       "                var nbb_unformatted_code = \"objective_names = [f\\\"lambda (sigma={sigma})\\\" for sigma in sigmas]\\nlambda_results = {k: v for k, v in zip(objective_names, lambda_results.values())}\\nlambda_test_results = get_test_results(lambda_results, {\\\"listwise\\\": objective_names})\\n\\nstyle_table(\\n    lambda_test_results,\\n    gradient_columns=[\\\"test_ndcg_score\\\", \\\"mean_fit_time\\\", \\\"mean_score_time\\\"],\\n    gradient_cmaps=[\\\"coolwarm\\\", \\\"coolwarm\\\", \\\"coolwarm\\\"],\\n    categorical_columns=[\\\"loss_function\\\", \\\"implementation\\\"],\\n    qualitative_cmaps=[\\\"Pastel1\\\", \\\"Pastel2\\\"],\\n).hide([\\\"implementation\\\", \\\"loss_function\\\"], axis=\\\"columns\\\")\";\n",
       "                var nbb_formatted_code = \"objective_names = [f\\\"lambda (sigma={sigma})\\\" for sigma in sigmas]\\nlambda_results = {k: v for k, v in zip(objective_names, lambda_results.values())}\\nlambda_test_results = get_test_results(lambda_results, {\\\"listwise\\\": objective_names})\\n\\nstyle_table(\\n    lambda_test_results,\\n    gradient_columns=[\\\"test_ndcg_score\\\", \\\"mean_fit_time\\\", \\\"mean_score_time\\\"],\\n    gradient_cmaps=[\\\"coolwarm\\\", \\\"coolwarm\\\", \\\"coolwarm\\\"],\\n    categorical_columns=[\\\"loss_function\\\", \\\"implementation\\\"],\\n    qualitative_cmaps=[\\\"Pastel1\\\", \\\"Pastel2\\\"],\\n).hide([\\\"implementation\\\", \\\"loss_function\\\"], axis=\\\"columns\\\")\";\n",
       "                var nbb_cells = Jupyter.notebook.get_cells();\n",
       "                for (var i = 0; i < nbb_cells.length; ++i) {\n",
       "                    if (nbb_cells[i].input_prompt_number == nbb_cell_id) {\n",
       "                        if (nbb_cells[i].get_text() == nbb_unformatted_code) {\n",
       "                             nbb_cells[i].set_text(nbb_formatted_code);\n",
       "                        }\n",
       "                        break;\n",
       "                    }\n",
       "                }\n",
       "            }, 500);\n",
       "            "
      ],
      "text/plain": [
       "<IPython.core.display.Javascript object>"
      ]
     },
     "metadata": {},
     "output_type": "display_data"
    }
   ],
   "source": [
    "objective_names = [f\"lambda (sigma={sigma})\" for sigma in sigmas]\n",
    "lambda_results = {k: v for k, v in zip(objective_names, lambda_results.values())}\n",
    "lambda_test_results = get_test_results(lambda_results, {\"listwise\": objective_names})\n",
    "\n",
    "style_table(\n",
    "    lambda_test_results,\n",
    "    gradient_columns=[\"test_ndcg_score\", \"mean_fit_time\", \"mean_score_time\"],\n",
    "    gradient_cmaps=[\"coolwarm\", \"coolwarm\", \"coolwarm\"],\n",
    "    categorical_columns=[\"loss_function\", \"implementation\"],\n",
    "    qualitative_cmaps=[\"Pastel1\", \"Pastel2\"],\n",
    ").hide([\"implementation\", \"loss_function\"], axis=\"columns\")"
   ]
  },
  {
   "cell_type": "markdown",
   "metadata": {
    "ExecuteTime": {
     "end_time": "2022-07-03T06:22:05.618337Z",
     "start_time": "2022-07-03T06:22:05.600152Z"
    }
   },
   "source": [
    "LambdaLoss показал качество, сравнимое с реализацией XGBoost."
   ]
  },
  {
   "cell_type": "markdown",
   "metadata": {},
   "source": [
    "**(2 балла) Задание 5.** Постройте любую нейросетевую ранжирующую модель\n",
    "с помощью tensorflow_ranking или используйте dssm модель на tensorflow/keras/torch по аналогии с моделями на практическом занятии."
   ]
  },
  {
   "cell_type": "markdown",
   "metadata": {},
   "source": [
    "Чтобы обучить нейросеть, добавим к каждому релевантному документу к запросу по 4 нерелевантных. Таким образом мы искусственно увеличим объем данных в 5 раз, что важно для нейросети с миллионом параметров."
   ]
  },
  {
   "cell_type": "code",
   "execution_count": 25,
   "metadata": {
    "ExecuteTime": {
     "end_time": "2022-07-10T08:28:13.847823Z",
     "start_time": "2022-07-10T08:24:35.008329Z"
    }
   },
   "outputs": [
    {
     "data": {
      "application/javascript": [
       "\n",
       "            setTimeout(function() {\n",
       "                var nbb_cell_id = 25;\n",
       "                var nbb_unformatted_code = \"train = preprocess_train_csv(DATA_DIR)\\nindex = get_index_with_no_more_than_256_documents_per_query(train)\\ntrain = inject_irrelevant_pairs(train.loc[index], for_each_relevant=4)\\ntrain = process_train(train, queries, orgs)\\n\\npickle.dump(train, open(\\\"train.pickle\\\", \\\"wb\\\"))\\npickle.dump(queries, open(\\\"queries.pickle\\\", \\\"wb\\\"))\\npickle.dump(orgs, open(\\\"orgs.pickle\\\", \\\"wb\\\"))\\n\\ntrain_relevance, val_relevance, test_relevance = split_data(\\n    train,\\n    train_size=0.7,\\n    val_size=0.15,\\n    test_size=0.15,\\n)\";\n",
       "                var nbb_formatted_code = \"train = preprocess_train_csv(DATA_DIR)\\nindex = get_index_with_no_more_than_256_documents_per_query(train)\\ntrain = inject_irrelevant_pairs(train.loc[index], for_each_relevant=4)\\ntrain = process_train(train, queries, orgs)\\n\\npickle.dump(train, open(\\\"train.pickle\\\", \\\"wb\\\"))\\npickle.dump(queries, open(\\\"queries.pickle\\\", \\\"wb\\\"))\\npickle.dump(orgs, open(\\\"orgs.pickle\\\", \\\"wb\\\"))\\n\\ntrain_relevance, val_relevance, test_relevance = split_data(\\n    train,\\n    train_size=0.7,\\n    val_size=0.15,\\n    test_size=0.15,\\n)\";\n",
       "                var nbb_cells = Jupyter.notebook.get_cells();\n",
       "                for (var i = 0; i < nbb_cells.length; ++i) {\n",
       "                    if (nbb_cells[i].input_prompt_number == nbb_cell_id) {\n",
       "                        if (nbb_cells[i].get_text() == nbb_unformatted_code) {\n",
       "                             nbb_cells[i].set_text(nbb_formatted_code);\n",
       "                        }\n",
       "                        break;\n",
       "                    }\n",
       "                }\n",
       "            }, 500);\n",
       "            "
      ],
      "text/plain": [
       "<IPython.core.display.Javascript object>"
      ]
     },
     "metadata": {},
     "output_type": "display_data"
    }
   ],
   "source": [
    "train = preprocess_train_csv(DATA_DIR)\n",
    "index = get_index_with_no_more_than_256_documents_per_query(train)\n",
    "train = inject_irrelevant_pairs(train.loc[index], for_each_relevant=4)\n",
    "train = process_train(train, queries, orgs)\n",
    "\n",
    "pickle.dump(train, open(\"train.pickle\", \"wb\"))\n",
    "pickle.dump(queries, open(\"queries.pickle\", \"wb\"))\n",
    "pickle.dump(orgs, open(\"orgs.pickle\", \"wb\"))\n",
    "\n",
    "train_relevance, val_relevance, test_relevance = split_data(\n",
    "    train,\n",
    "    train_size=0.7,\n",
    "    val_size=0.15,\n",
    "    test_size=0.15,\n",
    ")"
   ]
  },
  {
   "cell_type": "markdown",
   "metadata": {},
   "source": [
    "Чтобы было с чем сравнивать нейросеть, возьмем лучшую из рассмотренных ранжирующих моделей –– YetiRank c категориальными признаками, и обучим на разбавленных данных. Обратим внимание, что функция `split_data` будет использоваться с одинаковыми параметрами и фиксированным сидом, чтобы все модели обучались на одинаковых сплитах и их результаты можно было сравнить."
   ]
  },
  {
   "cell_type": "code",
   "execution_count": 90,
   "metadata": {
    "ExecuteTime": {
     "end_time": "2022-07-09T08:49:45.511743Z",
     "start_time": "2022-07-09T08:49:41.229791Z"
    }
   },
   "outputs": [
    {
     "name": "stderr",
     "output_type": "stream",
     "text": [
      "Metric NDCG:type=Base is not implemented on GPU. Will use CPU for metric computation, this could significantly affect learning time\n",
      "Metric NDCG:type=Base is not implemented on GPU. Will use CPU for metric computation, this could significantly affect learning time\n"
     ]
    },
    {
     "name": "stdout",
     "output_type": "stream",
     "text": [
      "0.7724364264356047\n"
     ]
    },
    {
     "data": {
      "application/javascript": [
       "\n",
       "            setTimeout(function() {\n",
       "                var nbb_cell_id = 90;\n",
       "                var nbb_unformatted_code = \"yeti_baseline = get_yeti_baseline(\\n        train,\\n        queries,\\n        orgs,\\n        train_index=train_relevance.index.union(val_relevance.index),\\n        test_index=test_relevance.index,\\n        catboost_params={\\n            **cb_common_params,\\n            #         categorical_data_results[\\\"YetiRank\\\"][\\\"best_params\\\"]\\n            **{\\n                \\\"learning_rate\\\": 0.3,\\n                \\\"max_depth\\\": 6,\\n                \\\"n_estimators\\\": 200,\\n                \\\"reg_lambda\\\": 10,\\n            },\\n        },\\n    )\\nprint(yeti_baseline)\";\n",
       "                var nbb_formatted_code = \"yeti_baseline = get_yeti_baseline(\\n    train,\\n    queries,\\n    orgs,\\n    train_index=train_relevance.index.union(val_relevance.index),\\n    test_index=test_relevance.index,\\n    catboost_params={\\n        **cb_common_params,\\n        #         categorical_data_results[\\\"YetiRank\\\"][\\\"best_params\\\"]\\n        **{\\n            \\\"learning_rate\\\": 0.3,\\n            \\\"max_depth\\\": 6,\\n            \\\"n_estimators\\\": 200,\\n            \\\"reg_lambda\\\": 10,\\n        },\\n    },\\n)\\nprint(yeti_baseline)\";\n",
       "                var nbb_cells = Jupyter.notebook.get_cells();\n",
       "                for (var i = 0; i < nbb_cells.length; ++i) {\n",
       "                    if (nbb_cells[i].input_prompt_number == nbb_cell_id) {\n",
       "                        if (nbb_cells[i].get_text() == nbb_unformatted_code) {\n",
       "                             nbb_cells[i].set_text(nbb_formatted_code);\n",
       "                        }\n",
       "                        break;\n",
       "                    }\n",
       "                }\n",
       "            }, 500);\n",
       "            "
      ],
      "text/plain": [
       "<IPython.core.display.Javascript object>"
      ]
     },
     "metadata": {},
     "output_type": "display_data"
    }
   ],
   "source": [
    "yeti_baseline = get_yeti_baseline(\n",
    "    train,\n",
    "    queries,\n",
    "    orgs,\n",
    "    train_index=train_relevance.index.union(val_relevance.index),\n",
    "    test_index=test_relevance.index,\n",
    "    catboost_params={\n",
    "        **cb_common_params,\n",
    "        **categorical_data_results[\"YetiRank\"][\"best_params\"],\n",
    "    },\n",
    ")\n",
    "print(yeti_baseline)"
   ]
  },
  {
   "cell_type": "markdown",
   "metadata": {},
   "source": [
    "Проведем gridsearch для оптимального количества процессов для каждого `DataLoader`:"
   ]
  },
  {
   "cell_type": "code",
   "execution_count": 26,
   "metadata": {
    "ExecuteTime": {
     "end_time": "2022-07-08T10:11:48.711400Z",
     "start_time": "2022-07-08T10:11:48.683998Z"
    }
   },
   "outputs": [
    {
     "data": {
      "application/javascript": [
       "\n",
       "            setTimeout(function() {\n",
       "                var nbb_cell_id = 26;\n",
       "                var nbb_unformatted_code = \"from time import time\\n\\ndef gridsearch_num_workers():\\n    datamodule = DataModule(queries, orgs, train_relevance, val_relevance, test_relevance)\\n    datamodule.setup()\\n    dataloader_timings = []\\n\\n    for num_workers in range(2, multiprocessing.cpu_count() // 4, 2):\\n        dataloader = DataLoader(\\n            datamodule.train_dataset,\\n            shuffle=True,\\n            **{**datamodule.dataloader_params, \\\"num_workers\\\": num_workers}\\n        )\\n        start = time()\\n        for batch in dataloader:\\n            datamodule.transfer_batch_to_device(batch, torch.device(0), dataloader_idx=None)\\n\\n        end = time()\\n        dataloader_timings.append(\\n            {\\\"num_workers\\\": num_workers, \\\"epoch_iteration_time\\\": end - start}\\n        )\\n\\n    return pd.DataFrame(dataloader_timings)\";\n",
       "                var nbb_formatted_code = \"from time import time\\n\\n\\ndef gridsearch_num_workers():\\n    datamodule = DataModule(\\n        queries, orgs, train_relevance, val_relevance, test_relevance\\n    )\\n    datamodule.setup()\\n    dataloader_timings = []\\n\\n    for num_workers in range(2, multiprocessing.cpu_count() // 4, 2):\\n        dataloader = DataLoader(\\n            datamodule.train_dataset,\\n            shuffle=True,\\n            **{**datamodule.dataloader_params, \\\"num_workers\\\": num_workers}\\n        )\\n        start = time()\\n        for batch in dataloader:\\n            datamodule.transfer_batch_to_device(\\n                batch, torch.device(0), dataloader_idx=None\\n            )\\n\\n        end = time()\\n        dataloader_timings.append(\\n            {\\\"num_workers\\\": num_workers, \\\"epoch_iteration_time\\\": end - start}\\n        )\\n\\n    return pd.DataFrame(dataloader_timings)\";\n",
       "                var nbb_cells = Jupyter.notebook.get_cells();\n",
       "                for (var i = 0; i < nbb_cells.length; ++i) {\n",
       "                    if (nbb_cells[i].input_prompt_number == nbb_cell_id) {\n",
       "                        if (nbb_cells[i].get_text() == nbb_unformatted_code) {\n",
       "                             nbb_cells[i].set_text(nbb_formatted_code);\n",
       "                        }\n",
       "                        break;\n",
       "                    }\n",
       "                }\n",
       "            }, 500);\n",
       "            "
      ],
      "text/plain": [
       "<IPython.core.display.Javascript object>"
      ]
     },
     "metadata": {},
     "output_type": "display_data"
    }
   ],
   "source": [
    "from time import time\n",
    "\n",
    "\n",
    "def gridsearch_num_workers():\n",
    "    datamodule = DataModule(\n",
    "        queries, orgs, train_relevance, val_relevance, test_relevance\n",
    "    )\n",
    "    datamodule.setup()\n",
    "    dataloader_timings = []\n",
    "\n",
    "    for num_workers in range(2, multiprocessing.cpu_count() // 4, 2):\n",
    "        dataloader = DataLoader(\n",
    "            datamodule.train_dataset,\n",
    "            shuffle=True,\n",
    "            **{**datamodule.dataloader_params, \"num_workers\": num_workers}\n",
    "        )\n",
    "        start = time()\n",
    "        for batch in dataloader:\n",
    "            datamodule.transfer_batch_to_device(\n",
    "                batch, torch.device(0), dataloader_idx=None\n",
    "            )\n",
    "\n",
    "        end = time()\n",
    "        dataloader_timings.append(\n",
    "            {\"num_workers\": num_workers, \"epoch_iteration_time\": end - start}\n",
    "        )\n",
    "\n",
    "    return pd.DataFrame(dataloader_timings)"
   ]
  },
  {
   "cell_type": "code",
   "execution_count": 88,
   "metadata": {
    "ExecuteTime": {
     "end_time": "2022-07-09T08:49:39.897241Z",
     "start_time": "2022-07-09T08:44:36.536062Z"
    }
   },
   "outputs": [
    {
     "data": {
      "text/html": [
       "<div>\n",
       "<style scoped>\n",
       "    .dataframe tbody tr th:only-of-type {\n",
       "        vertical-align: middle;\n",
       "    }\n",
       "\n",
       "    .dataframe tbody tr th {\n",
       "        vertical-align: top;\n",
       "    }\n",
       "\n",
       "    .dataframe thead th {\n",
       "        text-align: right;\n",
       "    }\n",
       "</style>\n",
       "<table border=\"1\" class=\"dataframe\">\n",
       "  <thead>\n",
       "    <tr style=\"text-align: right;\">\n",
       "      <th></th>\n",
       "      <th>num_workers</th>\n",
       "      <th>epoch_iteration_time</th>\n",
       "    </tr>\n",
       "  </thead>\n",
       "  <tbody>\n",
       "    <tr>\n",
       "      <th>0</th>\n",
       "      <td>2</td>\n",
       "      <td>15.361440</td>\n",
       "    </tr>\n",
       "    <tr>\n",
       "      <th>1</th>\n",
       "      <td>4</td>\n",
       "      <td>12.503709</td>\n",
       "    </tr>\n",
       "    <tr>\n",
       "      <th>2</th>\n",
       "      <td>6</td>\n",
       "      <td>13.545368</td>\n",
       "    </tr>\n",
       "    <tr>\n",
       "      <th>3</th>\n",
       "      <td>8</td>\n",
       "      <td>15.177042</td>\n",
       "    </tr>\n",
       "    <tr>\n",
       "      <th>4</th>\n",
       "      <td>10</td>\n",
       "      <td>16.455083</td>\n",
       "    </tr>\n",
       "    <tr>\n",
       "      <th>5</th>\n",
       "      <td>12</td>\n",
       "      <td>19.248776</td>\n",
       "    </tr>\n",
       "    <tr>\n",
       "      <th>6</th>\n",
       "      <td>14</td>\n",
       "      <td>19.679148</td>\n",
       "    </tr>\n",
       "    <tr>\n",
       "      <th>7</th>\n",
       "      <td>16</td>\n",
       "      <td>21.440363</td>\n",
       "    </tr>\n",
       "  </tbody>\n",
       "</table>\n",
       "</div>"
      ],
      "text/plain": [
       "   num_workers  epoch_iteration_time\n",
       "0            2             15.361440\n",
       "1            4             12.503709\n",
       "2            6             13.545368\n",
       "3            8             15.177042\n",
       "4           10             16.455083\n",
       "5           12             19.248776\n",
       "6           14             19.679148\n",
       "7           16             21.440363"
      ]
     },
     "execution_count": 88,
     "metadata": {},
     "output_type": "execute_result"
    },
    {
     "data": {
      "application/javascript": [
       "\n",
       "            setTimeout(function() {\n",
       "                var nbb_cell_id = 88;\n",
       "                var nbb_unformatted_code = \"gridsearch_num_workers()\";\n",
       "                var nbb_formatted_code = \"gridsearch_num_workers()\";\n",
       "                var nbb_cells = Jupyter.notebook.get_cells();\n",
       "                for (var i = 0; i < nbb_cells.length; ++i) {\n",
       "                    if (nbb_cells[i].input_prompt_number == nbb_cell_id) {\n",
       "                        if (nbb_cells[i].get_text() == nbb_unformatted_code) {\n",
       "                             nbb_cells[i].set_text(nbb_formatted_code);\n",
       "                        }\n",
       "                        break;\n",
       "                    }\n",
       "                }\n",
       "            }, 500);\n",
       "            "
      ],
      "text/plain": [
       "<IPython.core.display.Javascript object>"
      ]
     },
     "metadata": {},
     "output_type": "display_data"
    }
   ],
   "source": [
    "gridsearch_num_workers()"
   ]
  },
  {
   "cell_type": "markdown",
   "metadata": {},
   "source": [
    "Получаем эврестическое правило –– на один DataLoader на одном gpu оптимально назначать 4 процесса, последующее увеличение числа процессов только замедляет загрузку данных."
   ]
  },
  {
   "cell_type": "markdown",
   "metadata": {},
   "source": [
    "Поскольку кода для модели получилось много, его удобнее будет посмотреть на github: https://github.com/dkoshman/Ranking\n",
    "\n",
    "Hyperparameter sweeps:\n",
    "\n",
    "first sweep https://wandb.ai/dkoshman/DSSM/sweeps/j3tsnfbq?workspace=user-dkoshman\n",
    "\n",
    "second sweep https://wandb.ai/dkoshman/DSSM/sweeps/k1tsjmn0?workspace=user-dkoshman"
   ]
  },
  {
   "cell_type": "markdown",
   "metadata": {},
   "source": [
    "Модель основана на модификации DSSM, которая является энкодером векторных представлений текста в запросе и документах в пространство малой размерности и вычислением косинусной меры сходства между эмбеддингом запроса и документом, которая и интерпретируется как релевантность. Такая базовая модель, без использования дополнительных данных о географических, локальных и других нетекстовых признаков, показала качество в 0.73 ndcg. Далее я добавил в модель все доступные данные, и ее результат можно увидеть ниже."
   ]
  },
  {
   "cell_type": "markdown",
   "metadata": {},
   "source": [
    "Но прежде хочется обратить внимание на два аспекта итоговой модели –– функцию потерь и learning rate scheduler. В качестве функции потерь я реализовал описанный выше LambdaLoss с непосредственным присвоением градиента тензорам, что подтверждает идею о том, что для обучения модели не нужно знать значения функции потерь, а только градиент. Такое абстрагирование функции потерь дает больше контроля над моделью, но также позволяет создавать \"невозможные\" циклические градиенты, и вообще затрудняет сказать, сойдется ли модель."
   ]
  },
  {
   "cell_type": "markdown",
   "metadata": {},
   "source": [
    "![](https://www.researchgate.net/profile/Zsofia-Ruttkay/publication/228780258/figure/fig6/AS:668681453436932@1536437490142/MC-Eschers-Relativity-c-2008-The-MC-Escher-Company-Baarn-The-Netherlands.png)"
   ]
  },
  {
   "cell_type": "markdown",
   "metadata": {},
   "source": [
    "При реализации learning rate scheduler, я оттолкнулся от Noam scheduler, использованного в статье Attention is all you need, и несколько модифицировал его. В Noam sceduler два гиперпараметра –– warmup_epochs и scale_factor, причем scale_factor растягивает график learning rate по оси y, тогда как warmup_steps растягивает и по оси y, и по x, что затрудняет определение вклада каждого гиперпараметра:\n",
    "\n",
    "$$\\text{noam_lr} = \\cfrac{\\text{scale_factor}}{\\text{model_dim}^{1/2}}\\cdot\\min\\Big(\\cfrac{1}{\\text{epoch}^{1/2}}, \\cfrac{\\text{epoch}}{\\text{warmup_epochs}^{3/2}}\\Big)$$"
   ]
  },
  {
   "cell_type": "code",
   "execution_count": 34,
   "metadata": {
    "ExecuteTime": {
     "end_time": "2022-07-12T11:49:34.847533Z",
     "start_time": "2022-07-12T11:49:34.839343Z"
    }
   },
   "outputs": [],
   "source": [
    "class Noam:\n",
    "    def __init__(self, model_dim, scale_factor, warmup_epochs):\n",
    "        self.model_dim = model_dim\n",
    "        self.scale_factor = scale_factor\n",
    "        self.warmup_epochs = warmup_epochs\n",
    "        \n",
    "    def __call__(self, epoch):\n",
    "        return self.scale_factor * self.model_dim**-0.5 * np.minimum(epoch**-0.5, epoch * self.warmup_epochs**-1.5)"
   ]
  },
  {
   "cell_type": "code",
   "execution_count": 89,
   "metadata": {
    "ExecuteTime": {
     "end_time": "2022-07-12T12:12:43.269352Z",
     "start_time": "2022-07-12T12:12:43.044281Z"
    }
   },
   "outputs": [
    {
     "data": {
      "image/png": "[encoded data removed]",
      "text/plain": [
       "<Figure size 720x432 with 1 Axes>"
      ]
     },
     "metadata": {
      "needs_background": "light"
     },
     "output_type": "display_data"
    }
   ],
   "source": [
    "model_dim=512\n",
    "scale_factor=1\n",
    "warmup_epochs=100\n",
    "\n",
    "noam = Noam(model_dim, scale_factor, warmup_epochs)\n",
    "space = np.linspace(1, 500, num=500)\n",
    "\n",
    "plt.figure(figsize=(10, 6))\n",
    "plt.plot(space, noam(space));\n",
    "plt.axvline(warmup_epochs, linestyle=\"--\", color=\"C1\")\n",
    "plt.text(warmup_epochs + 5, 0, \"x = warmup_epochs\", fontsize=14)\n",
    "plt.axhline(scale_factor * model_dim**-0.5 * warmup_epochs**-0.5, linestyle=\"--\", color=\"C3\")\n",
    "plt.text(200, scale_factor * model_dim**-0.5 * warmup_epochs**-0.5 - 2e-4,\n",
    "         \"y = f(scale_factor, warmup_epochs)\", fontsize=14);"
   ]
  },
  {
   "cell_type": "markdown",
   "metadata": {},
   "source": [
    "Поэтому я решил факторизовать Noam и обобщить параметр model_dim, специфичный для трансформеров:\n",
    "    \n",
    "$$\\text{lr} = \\cfrac{\\text{scale_factor}}{\\text{model_size}^{1/2}}\\cdot\\min\\Bigg(\\cfrac{\\text{warmup_epochs}^{1/2}}{\\text{epoch}^{1/2}}, \\cfrac{\\text{epoch}}{\\text{warmup_epochs}}\\Bigg)$$\n",
    "\n",
    "Где $\\text{model_size}$ –– количество параметров модели."
   ]
  },
  {
   "cell_type": "code",
   "execution_count": 73,
   "metadata": {
    "ExecuteTime": {
     "end_time": "2022-07-12T12:08:55.474185Z",
     "start_time": "2022-07-12T12:08:55.466012Z"
    }
   },
   "outputs": [],
   "source": [
    "class Lambda:\n",
    "    def __init__(self, model_size, scale_factor, warmup_epochs):\n",
    "        self.model_size = model_size\n",
    "        self.scale_factor = scale_factor\n",
    "        self.warmup_epochs = warmup_epochs\n",
    "        \n",
    "    def __call__(self, epoch):\n",
    "        return self.scale_factor * self.model_size**-0.5 * np.minimum(\n",
    "            self.warmup_epochs**0.5 * epoch**-0.5, epoch * self.warmup_epochs**-1\n",
    "        )"
   ]
  },
  {
   "cell_type": "code",
   "execution_count": 88,
   "metadata": {
    "ExecuteTime": {
     "end_time": "2022-07-12T12:12:37.198683Z",
     "start_time": "2022-07-12T12:12:37.058937Z"
    }
   },
   "outputs": [
    {
     "data": {
      "image/png": "[encoded data removed]",
      "text/plain": [
       "<Figure size 720x432 with 1 Axes>"
      ]
     },
     "metadata": {
      "needs_background": "light"
     },
     "output_type": "display_data"
    }
   ],
   "source": [
    "model_size=1e6\n",
    "scale_factor=1\n",
    "warmup_epochs=100\n",
    "\n",
    "lr = Lambda(model_size, scale_factor, warmup_epochs)\n",
    "space = np.linspace(1, 500, num=500)\n",
    "\n",
    "plt.figure(figsize=(10, 6))\n",
    "plt.plot(space, lr(space));\n",
    "plt.axvline(warmup_epochs, linestyle=\"--\", color=\"C1\")\n",
    "plt.text(warmup_epochs + 5, 0, \"x = warmup_epochs\", fontsize=14)\n",
    "plt.axhline(scale_factor * model_size**-0.5, linestyle=\"--\", color=\"C3\")\n",
    "plt.text(150, scale_factor * model_size**-0.5 - 5e-5,\n",
    "         \"y = f(scale_factor) = scale_factor * model_size**-0.5\", fontsize=14);"
   ]
  },
  {
   "cell_type": "markdown",
   "metadata": {
    "ExecuteTime": {
     "end_time": "2022-07-12T11:40:18.182706Z",
     "start_time": "2022-07-12T11:40:17.971240Z"
    }
   },
   "source": [
    "Теперь $\\text{warmup_epochs}$ определяет x координату пика, а $\\text{scale_factor}$ –– y координату. Причем при переборе гиперпараметров, в том числе разных lr schedulers, lambda_lr показал себя хорошо с базовым $\\text{scale_factor} = 1$, что дает надежду, что перебирать нужно только $\\text{warmup_epochs}$. Действительно, домножение на обратный корень размера модели давало пик в 1e-3 при миллионе параметров, что соответствует базовым параметрам многих оптимизаторов, а если обучать BERT c 110 миллионами параметров, получим пик в 1e-4, что соотносится с эвристическими рекомендациями."
   ]
  },
  {
   "cell_type": "markdown",
   "metadata": {},
   "source": [
    "![](https://i.imgur.com/zF4mnMr.png)\n",
    "![](https://i.imgur.com/7iX9Tce.png)"
   ]
  },
  {
   "cell_type": "code",
   "execution_count": 5,
   "metadata": {
    "ExecuteTime": {
     "end_time": "2022-07-12T10:18:54.828689Z",
     "start_time": "2022-07-12T10:18:54.821846Z"
    }
   },
   "outputs": [],
   "source": [
    "import pickle\n",
    "\n",
    "import torch\n",
    "\n",
    "from pytorch_lightning import Trainer\n",
    "from pytorch_lightning.loggers import WandbLogger\n",
    "\n",
    "from Ranking_project.loss import LambdaLoss\n",
    "from Ranking_project.model import DSSMExtended\n",
    "from Ranking_project.module import DSSMModule\n",
    "from Ranking_project.optimizers import OptimizerBuilder"
   ]
  },
  {
   "cell_type": "code",
   "execution_count": 7,
   "metadata": {
    "ExecuteTime": {
     "end_time": "2022-07-12T10:48:24.731038Z",
     "start_time": "2022-07-12T10:24:30.501620Z"
    }
   },
   "outputs": [
    {
     "name": "stderr",
     "output_type": "stream",
     "text": [
      "GPU available: True, used: True\n",
      "TPU available: False, using: 0 TPU cores\n",
      "IPU available: False, using: 0 IPUs\n",
      "LOCAL_RANK: 0 - CUDA_VISIBLE_DEVICES: [0,1,2,3,4,5,6]\n",
      "\n",
      "  | Name    | Type         | Params\n",
      "-----------------------------------------\n",
      "0 | dssm    | DSSMExtended | 1.4 M \n",
      "1 | loss_fn | LambdaLoss   | 0     \n",
      "-----------------------------------------\n",
      "1.4 M     Trainable params\n",
      "0         Non-trainable params\n",
      "1.4 M     Total params\n",
      "5.764     Total estimated model params size (MB)\n",
      "/external2/dkkoshman/venv3.10/lib/python3.10/site-packages/pytorch_lightning/callbacks/model_checkpoint.py:631: UserWarning: Checkpoint directory /external2/dkkoshman/Notebooks/ML/None/version_None/checkpoints exists and is not empty.\n",
      "  rank_zero_warn(f\"Checkpoint directory {dirpath} exists and is not empty.\")\n"
     ]
    },
    {
     "data": {
      "application/vnd.jupyter.widget-view+json": {
       "model_id": "",
       "version_major": 2,
       "version_minor": 0
      },
      "text/plain": [
       "Validation sanity check: 0it [00:00, ?it/s]"
      ]
     },
     "metadata": {},
     "output_type": "display_data"
    },
    {
     "data": {
      "application/vnd.jupyter.widget-view+json": {
       "model_id": "94ce611891314c2aaa7d5a5293a08d55",
       "version_major": 2,
       "version_minor": 0
      },
      "text/plain": [
       "Training: 0it [00:00, ?it/s]"
      ]
     },
     "metadata": {},
     "output_type": "display_data"
    },
    {
     "data": {
      "application/vnd.jupyter.widget-view+json": {
       "model_id": "",
       "version_major": 2,
       "version_minor": 0
      },
      "text/plain": [
       "Validating: 0it [00:00, ?it/s]"
      ]
     },
     "metadata": {},
     "output_type": "display_data"
    },
    {
     "data": {
      "text/html": [
       "Tracking run with wandb version 0.12.21"
      ],
      "text/plain": [
       "<IPython.core.display.HTML object>"
      ]
     },
     "metadata": {},
     "output_type": "display_data"
    },
    {
     "data": {
      "text/html": [
       "Run data is saved locally in <code>/external2/dkkoshman/Notebooks/ML/wandb/run-20220712_102508-16g85iuz</code>"
      ],
      "text/plain": [
       "<IPython.core.display.HTML object>"
      ]
     },
     "metadata": {},
     "output_type": "display_data"
    },
    {
     "data": {
      "text/html": [
       "Syncing run <strong><a href=\"https://wandb.ai/dkoshman/DSSM/runs/16g85iuz\" target=\"_blank\">olive-bird-932</a></strong> to <a href=\"https://wandb.ai/dkoshman/DSSM\" target=\"_blank\">Weights & Biases</a> (<a href=\"https://wandb.me/run\" target=\"_blank\">docs</a>)<br/>"
      ],
      "text/plain": [
       "<IPython.core.display.HTML object>"
      ]
     },
     "metadata": {},
     "output_type": "display_data"
    },
    {
     "data": {
      "application/vnd.jupyter.widget-view+json": {
       "model_id": "",
       "version_major": 2,
       "version_minor": 0
      },
      "text/plain": [
       "Validating: 0it [00:00, ?it/s]"
      ]
     },
     "metadata": {},
     "output_type": "display_data"
    },
    {
     "data": {
      "application/vnd.jupyter.widget-view+json": {
       "model_id": "",
       "version_major": 2,
       "version_minor": 0
      },
      "text/plain": [
       "Validating: 0it [00:00, ?it/s]"
      ]
     },
     "metadata": {},
     "output_type": "display_data"
    },
    {
     "data": {
      "application/vnd.jupyter.widget-view+json": {
       "model_id": "",
       "version_major": 2,
       "version_minor": 0
      },
      "text/plain": [
       "Validating: 0it [00:00, ?it/s]"
      ]
     },
     "metadata": {},
     "output_type": "display_data"
    },
    {
     "data": {
      "application/vnd.jupyter.widget-view+json": {
       "model_id": "",
       "version_major": 2,
       "version_minor": 0
      },
      "text/plain": [
       "Validating: 0it [00:00, ?it/s]"
      ]
     },
     "metadata": {},
     "output_type": "display_data"
    },
    {
     "data": {
      "application/vnd.jupyter.widget-view+json": {
       "model_id": "",
       "version_major": 2,
       "version_minor": 0
      },
      "text/plain": [
       "Validating: 0it [00:00, ?it/s]"
      ]
     },
     "metadata": {},
     "output_type": "display_data"
    },
    {
     "data": {
      "application/vnd.jupyter.widget-view+json": {
       "model_id": "",
       "version_major": 2,
       "version_minor": 0
      },
      "text/plain": [
       "Validating: 0it [00:00, ?it/s]"
      ]
     },
     "metadata": {},
     "output_type": "display_data"
    },
    {
     "data": {
      "application/vnd.jupyter.widget-view+json": {
       "model_id": "",
       "version_major": 2,
       "version_minor": 0
      },
      "text/plain": [
       "Validating: 0it [00:00, ?it/s]"
      ]
     },
     "metadata": {},
     "output_type": "display_data"
    },
    {
     "data": {
      "application/vnd.jupyter.widget-view+json": {
       "model_id": "",
       "version_major": 2,
       "version_minor": 0
      },
      "text/plain": [
       "Validating: 0it [00:00, ?it/s]"
      ]
     },
     "metadata": {},
     "output_type": "display_data"
    },
    {
     "data": {
      "application/vnd.jupyter.widget-view+json": {
       "model_id": "",
       "version_major": 2,
       "version_minor": 0
      },
      "text/plain": [
       "Validating: 0it [00:00, ?it/s]"
      ]
     },
     "metadata": {},
     "output_type": "display_data"
    },
    {
     "data": {
      "application/vnd.jupyter.widget-view+json": {
       "model_id": "",
       "version_major": 2,
       "version_minor": 0
      },
      "text/plain": [
       "Validating: 0it [00:00, ?it/s]"
      ]
     },
     "metadata": {},
     "output_type": "display_data"
    },
    {
     "data": {
      "application/vnd.jupyter.widget-view+json": {
       "model_id": "",
       "version_major": 2,
       "version_minor": 0
      },
      "text/plain": [
       "Validating: 0it [00:00, ?it/s]"
      ]
     },
     "metadata": {},
     "output_type": "display_data"
    },
    {
     "data": {
      "application/vnd.jupyter.widget-view+json": {
       "model_id": "",
       "version_major": 2,
       "version_minor": 0
      },
      "text/plain": [
       "Validating: 0it [00:00, ?it/s]"
      ]
     },
     "metadata": {},
     "output_type": "display_data"
    },
    {
     "data": {
      "application/vnd.jupyter.widget-view+json": {
       "model_id": "",
       "version_major": 2,
       "version_minor": 0
      },
      "text/plain": [
       "Validating: 0it [00:00, ?it/s]"
      ]
     },
     "metadata": {},
     "output_type": "display_data"
    },
    {
     "data": {
      "application/vnd.jupyter.widget-view+json": {
       "model_id": "",
       "version_major": 2,
       "version_minor": 0
      },
      "text/plain": [
       "Validating: 0it [00:00, ?it/s]"
      ]
     },
     "metadata": {},
     "output_type": "display_data"
    },
    {
     "data": {
      "application/vnd.jupyter.widget-view+json": {
       "model_id": "",
       "version_major": 2,
       "version_minor": 0
      },
      "text/plain": [
       "Validating: 0it [00:00, ?it/s]"
      ]
     },
     "metadata": {},
     "output_type": "display_data"
    },
    {
     "data": {
      "application/vnd.jupyter.widget-view+json": {
       "model_id": "",
       "version_major": 2,
       "version_minor": 0
      },
      "text/plain": [
       "Validating: 0it [00:00, ?it/s]"
      ]
     },
     "metadata": {},
     "output_type": "display_data"
    },
    {
     "data": {
      "application/vnd.jupyter.widget-view+json": {
       "model_id": "",
       "version_major": 2,
       "version_minor": 0
      },
      "text/plain": [
       "Validating: 0it [00:00, ?it/s]"
      ]
     },
     "metadata": {},
     "output_type": "display_data"
    },
    {
     "data": {
      "application/vnd.jupyter.widget-view+json": {
       "model_id": "",
       "version_major": 2,
       "version_minor": 0
      },
      "text/plain": [
       "Validating: 0it [00:00, ?it/s]"
      ]
     },
     "metadata": {},
     "output_type": "display_data"
    },
    {
     "data": {
      "application/vnd.jupyter.widget-view+json": {
       "model_id": "",
       "version_major": 2,
       "version_minor": 0
      },
      "text/plain": [
       "Validating: 0it [00:00, ?it/s]"
      ]
     },
     "metadata": {},
     "output_type": "display_data"
    },
    {
     "data": {
      "application/vnd.jupyter.widget-view+json": {
       "model_id": "",
       "version_major": 2,
       "version_minor": 0
      },
      "text/plain": [
       "Validating: 0it [00:00, ?it/s]"
      ]
     },
     "metadata": {},
     "output_type": "display_data"
    },
    {
     "data": {
      "application/vnd.jupyter.widget-view+json": {
       "model_id": "",
       "version_major": 2,
       "version_minor": 0
      },
      "text/plain": [
       "Validating: 0it [00:00, ?it/s]"
      ]
     },
     "metadata": {},
     "output_type": "display_data"
    },
    {
     "data": {
      "application/vnd.jupyter.widget-view+json": {
       "model_id": "",
       "version_major": 2,
       "version_minor": 0
      },
      "text/plain": [
       "Validating: 0it [00:00, ?it/s]"
      ]
     },
     "metadata": {},
     "output_type": "display_data"
    },
    {
     "data": {
      "application/vnd.jupyter.widget-view+json": {
       "model_id": "",
       "version_major": 2,
       "version_minor": 0
      },
      "text/plain": [
       "Validating: 0it [00:00, ?it/s]"
      ]
     },
     "metadata": {},
     "output_type": "display_data"
    },
    {
     "data": {
      "application/vnd.jupyter.widget-view+json": {
       "model_id": "",
       "version_major": 2,
       "version_minor": 0
      },
      "text/plain": [
       "Validating: 0it [00:00, ?it/s]"
      ]
     },
     "metadata": {},
     "output_type": "display_data"
    },
    {
     "data": {
      "application/vnd.jupyter.widget-view+json": {
       "model_id": "",
       "version_major": 2,
       "version_minor": 0
      },
      "text/plain": [
       "Validating: 0it [00:00, ?it/s]"
      ]
     },
     "metadata": {},
     "output_type": "display_data"
    },
    {
     "data": {
      "application/vnd.jupyter.widget-view+json": {
       "model_id": "",
       "version_major": 2,
       "version_minor": 0
      },
      "text/plain": [
       "Validating: 0it [00:00, ?it/s]"
      ]
     },
     "metadata": {},
     "output_type": "display_data"
    },
    {
     "data": {
      "application/vnd.jupyter.widget-view+json": {
       "model_id": "",
       "version_major": 2,
       "version_minor": 0
      },
      "text/plain": [
       "Validating: 0it [00:00, ?it/s]"
      ]
     },
     "metadata": {},
     "output_type": "display_data"
    },
    {
     "data": {
      "application/vnd.jupyter.widget-view+json": {
       "model_id": "",
       "version_major": 2,
       "version_minor": 0
      },
      "text/plain": [
       "Validating: 0it [00:00, ?it/s]"
      ]
     },
     "metadata": {},
     "output_type": "display_data"
    },
    {
     "data": {
      "application/vnd.jupyter.widget-view+json": {
       "model_id": "",
       "version_major": 2,
       "version_minor": 0
      },
      "text/plain": [
       "Validating: 0it [00:00, ?it/s]"
      ]
     },
     "metadata": {},
     "output_type": "display_data"
    },
    {
     "data": {
      "application/vnd.jupyter.widget-view+json": {
       "model_id": "",
       "version_major": 2,
       "version_minor": 0
      },
      "text/plain": [
       "Validating: 0it [00:00, ?it/s]"
      ]
     },
     "metadata": {},
     "output_type": "display_data"
    },
    {
     "data": {
      "application/vnd.jupyter.widget-view+json": {
       "model_id": "",
       "version_major": 2,
       "version_minor": 0
      },
      "text/plain": [
       "Validating: 0it [00:00, ?it/s]"
      ]
     },
     "metadata": {},
     "output_type": "display_data"
    },
    {
     "data": {
      "application/vnd.jupyter.widget-view+json": {
       "model_id": "",
       "version_major": 2,
       "version_minor": 0
      },
      "text/plain": [
       "Validating: 0it [00:00, ?it/s]"
      ]
     },
     "metadata": {},
     "output_type": "display_data"
    },
    {
     "data": {
      "application/vnd.jupyter.widget-view+json": {
       "model_id": "",
       "version_major": 2,
       "version_minor": 0
      },
      "text/plain": [
       "Validating: 0it [00:00, ?it/s]"
      ]
     },
     "metadata": {},
     "output_type": "display_data"
    },
    {
     "data": {
      "application/vnd.jupyter.widget-view+json": {
       "model_id": "",
       "version_major": 2,
       "version_minor": 0
      },
      "text/plain": [
       "Validating: 0it [00:00, ?it/s]"
      ]
     },
     "metadata": {},
     "output_type": "display_data"
    },
    {
     "data": {
      "application/vnd.jupyter.widget-view+json": {
       "model_id": "",
       "version_major": 2,
       "version_minor": 0
      },
      "text/plain": [
       "Validating: 0it [00:00, ?it/s]"
      ]
     },
     "metadata": {},
     "output_type": "display_data"
    },
    {
     "data": {
      "application/vnd.jupyter.widget-view+json": {
       "model_id": "",
       "version_major": 2,
       "version_minor": 0
      },
      "text/plain": [
       "Validating: 0it [00:00, ?it/s]"
      ]
     },
     "metadata": {},
     "output_type": "display_data"
    },
    {
     "data": {
      "application/vnd.jupyter.widget-view+json": {
       "model_id": "",
       "version_major": 2,
       "version_minor": 0
      },
      "text/plain": [
       "Validating: 0it [00:00, ?it/s]"
      ]
     },
     "metadata": {},
     "output_type": "display_data"
    },
    {
     "data": {
      "application/vnd.jupyter.widget-view+json": {
       "model_id": "",
       "version_major": 2,
       "version_minor": 0
      },
      "text/plain": [
       "Validating: 0it [00:00, ?it/s]"
      ]
     },
     "metadata": {},
     "output_type": "display_data"
    },
    {
     "data": {
      "application/vnd.jupyter.widget-view+json": {
       "model_id": "",
       "version_major": 2,
       "version_minor": 0
      },
      "text/plain": [
       "Validating: 0it [00:00, ?it/s]"
      ]
     },
     "metadata": {},
     "output_type": "display_data"
    },
    {
     "data": {
      "application/vnd.jupyter.widget-view+json": {
       "model_id": "",
       "version_major": 2,
       "version_minor": 0
      },
      "text/plain": [
       "Validating: 0it [00:00, ?it/s]"
      ]
     },
     "metadata": {},
     "output_type": "display_data"
    },
    {
     "data": {
      "application/vnd.jupyter.widget-view+json": {
       "model_id": "",
       "version_major": 2,
       "version_minor": 0
      },
      "text/plain": [
       "Validating: 0it [00:00, ?it/s]"
      ]
     },
     "metadata": {},
     "output_type": "display_data"
    },
    {
     "data": {
      "application/vnd.jupyter.widget-view+json": {
       "model_id": "",
       "version_major": 2,
       "version_minor": 0
      },
      "text/plain": [
       "Validating: 0it [00:00, ?it/s]"
      ]
     },
     "metadata": {},
     "output_type": "display_data"
    },
    {
     "data": {
      "application/vnd.jupyter.widget-view+json": {
       "model_id": "",
       "version_major": 2,
       "version_minor": 0
      },
      "text/plain": [
       "Validating: 0it [00:00, ?it/s]"
      ]
     },
     "metadata": {},
     "output_type": "display_data"
    },
    {
     "data": {
      "application/vnd.jupyter.widget-view+json": {
       "model_id": "",
       "version_major": 2,
       "version_minor": 0
      },
      "text/plain": [
       "Validating: 0it [00:00, ?it/s]"
      ]
     },
     "metadata": {},
     "output_type": "display_data"
    },
    {
     "data": {
      "application/vnd.jupyter.widget-view+json": {
       "model_id": "",
       "version_major": 2,
       "version_minor": 0
      },
      "text/plain": [
       "Validating: 0it [00:00, ?it/s]"
      ]
     },
     "metadata": {},
     "output_type": "display_data"
    },
    {
     "data": {
      "application/vnd.jupyter.widget-view+json": {
       "model_id": "",
       "version_major": 2,
       "version_minor": 0
      },
      "text/plain": [
       "Validating: 0it [00:00, ?it/s]"
      ]
     },
     "metadata": {},
     "output_type": "display_data"
    },
    {
     "data": {
      "application/vnd.jupyter.widget-view+json": {
       "model_id": "",
       "version_major": 2,
       "version_minor": 0
      },
      "text/plain": [
       "Validating: 0it [00:00, ?it/s]"
      ]
     },
     "metadata": {},
     "output_type": "display_data"
    },
    {
     "data": {
      "application/vnd.jupyter.widget-view+json": {
       "model_id": "",
       "version_major": 2,
       "version_minor": 0
      },
      "text/plain": [
       "Validating: 0it [00:00, ?it/s]"
      ]
     },
     "metadata": {},
     "output_type": "display_data"
    },
    {
     "data": {
      "application/vnd.jupyter.widget-view+json": {
       "model_id": "",
       "version_major": 2,
       "version_minor": 0
      },
      "text/plain": [
       "Validating: 0it [00:00, ?it/s]"
      ]
     },
     "metadata": {},
     "output_type": "display_data"
    },
    {
     "name": "stderr",
     "output_type": "stream",
     "text": [
      "Restoring states from the checkpoint path at /external2/dkkoshman/Notebooks/ML/None/version_None/checkpoints/epoch=49-step=88299.ckpt\n",
      "LOCAL_RANK: 0 - CUDA_VISIBLE_DEVICES: [0,1,2,3,4,5,6]\n",
      "Loaded model weights from checkpoint at /external2/dkkoshman/Notebooks/ML/None/version_None/checkpoints/epoch=49-step=88299.ckpt\n"
     ]
    },
    {
     "data": {
      "application/vnd.jupyter.widget-view+json": {
       "model_id": "f552ff0fe93146ff9af815fe7d454391",
       "version_major": 2,
       "version_minor": 0
      },
      "text/plain": [
       "Testing: 0it [00:00, ?it/s]"
      ]
     },
     "metadata": {},
     "output_type": "display_data"
    },
    {
     "name": "stdout",
     "output_type": "stream",
     "text": [
      "--------------------------------------------------------------------------------\n",
      "DATALOADER:0 TEST RESULTS\n",
      "{'test_ndcg': 0.7680124339372474}\n",
      "--------------------------------------------------------------------------------\n"
     ]
    },
    {
     "data": {
      "text/html": [
       "Waiting for W&B process to finish... <strong style=\"color:green\">(success).</strong>"
      ],
      "text/plain": [
       "<IPython.core.display.HTML object>"
      ]
     },
     "metadata": {},
     "output_type": "display_data"
    },
    {
     "data": {
      "application/vnd.jupyter.widget-view+json": {
       "model_id": "",
       "version_major": 2,
       "version_minor": 0
      },
      "text/plain": [
       "VBox(children=(Label(value='0.001 MB of 0.001 MB uploaded (0.000 MB deduped)\\r'), FloatProgress(value=1.0, max…"
      ]
     },
     "metadata": {},
     "output_type": "display_data"
    },
    {
     "data": {
      "text/html": [
       "<style>\n",
       "    table.wandb td:nth-child(1) { padding: 0 10px; text-align: left ; width: auto;} td:nth-child(2) {text-align: left ; width: 100%}\n",
       "    .wandb-row { display: flex; flex-direction: row; flex-wrap: wrap; justify-content: flex-start; width: 100% }\n",
       "    .wandb-col { display: flex; flex-direction: column; flex-basis: 100%; flex: 1; padding: 10px; }\n",
       "    </style>\n",
       "<div class=\"wandb-row\"><div class=\"wandb-col\"><h3>Run history:</h3><br/><table class=\"wandb\"><tr><td>epoch</td><td>▁▁▁▁▂▂▂▂▂▃▃▃▃▃▃▄▄▄▄▄▅▅▅▅▅▅▆▆▆▆▆▆▇▇▇▇▇███</td></tr><tr><td>test_ndcg</td><td>▁</td></tr><tr><td>trainer/global_step</td><td>▁▁▁▁▂▂▂▂▂▃▃▃▃▃▃▄▄▄▄▄▅▅▅▅▅▆▆▆▆▆▆▇▇▇▇▇████</td></tr><tr><td>val_ndcg</td><td>▁▁▂▅▇▇█▇█▇██████████████████████████████</td></tr></table><br/></div><div class=\"wandb-col\"><h3>Run summary:</h3><br/><table class=\"wandb\"><tr><td>epoch</td><td>50</td></tr><tr><td>test_ndcg</td><td>0.76801</td></tr><tr><td>trainer/global_step</td><td>88300</td></tr><tr><td>val_ndcg</td><td>0.77747</td></tr></table><br/></div></div>"
      ],
      "text/plain": [
       "<IPython.core.display.HTML object>"
      ]
     },
     "metadata": {},
     "output_type": "display_data"
    },
    {
     "data": {
      "text/html": [
       "Synced <strong style=\"color:#cdcd00\">olive-bird-932</strong>: <a href=\"https://wandb.ai/dkoshman/DSSM/runs/16g85iuz\" target=\"_blank\">https://wandb.ai/dkoshman/DSSM/runs/16g85iuz</a><br/>Synced 5 W&B file(s), 0 media file(s), 0 artifact file(s) and 0 other file(s)"
      ],
      "text/plain": [
       "<IPython.core.display.HTML object>"
      ]
     },
     "metadata": {},
     "output_type": "display_data"
    },
    {
     "data": {
      "text/html": [
       "Find logs at: <code>./wandb/run-20220712_102508-16g85iuz/logs</code>"
      ],
      "text/plain": [
       "<IPython.core.display.HTML object>"
      ]
     },
     "metadata": {},
     "output_type": "display_data"
    }
   ],
   "source": [
    "data = pickle.load(\n",
    "    open(f\"Ranking_project/data/max_features_4096_one_hot_-1.pickle\", \"rb\")\n",
    ")\n",
    "\n",
    "dssm = DSSMExtended(\n",
    "    hidden_dimensions=[len(data[\"vectorizer\"].vocabulary_), 256, 128, 64],\n",
    "    head_dimensions=[\n",
    "        1 + data[\"train_dataset\"][0][\"pairwise_numeric_features\"].shape[-1],\n",
    "        128,\n",
    "    ],\n",
    ")\n",
    "\n",
    "loss_fn = LambdaLoss()\n",
    "\n",
    "optimizers_config = OptimizerBuilder(\n",
    "    optimizer_name=\"adam\",\n",
    "    scheduler_name=\"lambda\",\n",
    "    min_lr=1e-2,\n",
    "    max_lr=1e-1,\n",
    ")\n",
    "\n",
    "dssm_module = DSSMModule(\n",
    "    train_dataset=torch.utils.data.ConcatDataset(\n",
    "        [data[\"train_dataset\"], data[\"val_dataset\"]]\n",
    "    ),\n",
    "    val_dataset=data[\"val_dataset\"],\n",
    "    test_dataset=data[\"test_dataset\"],\n",
    "    vectorizer=data[\"vectorizer\"],\n",
    "    dssm=dssm,\n",
    "    loss_fn=loss_fn,\n",
    "    optimizers_config=optimizers_config,\n",
    "    num_workers=4,\n",
    ")\n",
    "\n",
    "logger = WandbLogger(project=\"DSSM\")\n",
    "\n",
    "trainer = Trainer(\n",
    "    logger=logger,\n",
    "    max_epochs=50,\n",
    "    accelerator=\"gpu\",\n",
    "    gpus=[1],\n",
    ")\n",
    "\n",
    "trainer.fit(dssm_module)\n",
    "trainer.test(ckpt_path=\"best\")\n",
    "wandb.finish()"
   ]
  },
  {
   "cell_type": "markdown",
   "metadata": {
    "ExecuteTime": {
     "end_time": "2022-07-12T12:29:54.578448Z",
     "start_time": "2022-07-12T12:29:54.571447Z"
    }
   },
   "source": [
    "---\n",
    "Получили качество на тесте 0.768, что немного меньше yeti_rank baseline 0.772\n",
    "\n",
    "Ну и напоследок поиграем с базовой моделью DSSM:"
   ]
  },
  {
   "cell_type": "code",
   "execution_count": null,
   "metadata": {
    "ExecuteTime": {
     "end_time": "2022-07-12T13:12:29.210401Z",
     "start_time": "2022-07-12T13:03:52.612173Z"
    }
   },
   "outputs": [],
   "source": [
    "from Ranking_project.model import DSSM\n",
    "\n",
    "data = pickle.load(\n",
    "    open(f\"Ranking_project/data/max_features_4096.pickle\", \"rb\")\n",
    ")\n",
    "\n",
    "dssm = DSSM(\n",
    "    hidden_dimensions=[len(data[\"vectorizer\"].vocabulary_), 256, 128, 64]\n",
    ")\n",
    "\n",
    "dssm_module = DSSMModule(\n",
    "    train_dataset=torch.utils.data.ConcatDataset(\n",
    "        [data[\"train_dataset\"], data[\"val_dataset\"]]\n",
    "    ),\n",
    "    val_dataset=data[\"val_dataset\"],\n",
    "    test_dataset=data[\"test_dataset\"],\n",
    "    vectorizer=data[\"vectorizer\"],\n",
    "    dssm=dssm,\n",
    "    loss_fn=loss_fn,\n",
    "    optimizers_config=optimizers_config,\n",
    "    num_workers=4,\n",
    ")\n",
    "\n",
    "logger = WandbLogger(project=\"DSSM\")\n",
    "\n",
    "trainer = Trainer(\n",
    "    logger=logger,\n",
    "    max_epochs=20,\n",
    "    accelerator=\"gpu\",\n",
    "    gpus=[1],\n",
    ")\n",
    "\n",
    "trainer.fit(dssm_module)\n",
    "trainer.test(ckpt_path=\"best\")\n",
    "wandb.finish()"
   ]
  },
  {
   "cell_type": "code",
   "execution_count": 151,
   "metadata": {
    "ExecuteTime": {
     "end_time": "2022-07-12T13:39:58.930499Z",
     "start_time": "2022-07-12T13:39:58.886785Z"
    }
   },
   "outputs": [],
   "source": [
    "query = train.query(\"query_id == 73\").queries_query.iloc[0]\n",
    "documents = train.query(\"query_id == 73\").orgs_org_name.values\n",
    "relevance = dssm_module.predict(\"гостиницы\", documents)\n",
    "df = pd.DataFrame(documents[(-relevance).argsort()])"
   ]
  },
  {
   "cell_type": "code",
   "execution_count": 156,
   "metadata": {
    "ExecuteTime": {
     "end_time": "2022-07-12T13:41:14.259665Z",
     "start_time": "2022-07-12T13:41:14.254303Z"
    }
   },
   "outputs": [
    {
     "name": "stdout",
     "output_type": "stream",
     "text": [
      "гостиницы\n"
     ]
    }
   ],
   "source": [
    "print(query)"
   ]
  },
  {
   "cell_type": "code",
   "execution_count": 157,
   "metadata": {
    "ExecuteTime": {
     "end_time": "2022-07-12T13:41:18.710801Z",
     "start_time": "2022-07-12T13:41:18.698276Z"
    }
   },
   "outputs": [
    {
     "name": "stdout",
     "output_type": "stream",
     "text": [
      "Top 10:\n"
     ]
    },
    {
     "data": {
      "text/html": [
       "<div>\n",
       "<style scoped>\n",
       "    .dataframe tbody tr th:only-of-type {\n",
       "        vertical-align: middle;\n",
       "    }\n",
       "\n",
       "    .dataframe tbody tr th {\n",
       "        vertical-align: top;\n",
       "    }\n",
       "\n",
       "    .dataframe thead th {\n",
       "        text-align: right;\n",
       "    }\n",
       "</style>\n",
       "<table border=\"1\" class=\"dataframe\">\n",
       "  <thead>\n",
       "    <tr style=\"text-align: right;\">\n",
       "      <th></th>\n",
       "      <th>0</th>\n",
       "    </tr>\n",
       "  </thead>\n",
       "  <tbody>\n",
       "    <tr>\n",
       "      <th>0</th>\n",
       "      <td>гостиница</td>\n",
       "    </tr>\n",
       "    <tr>\n",
       "      <th>1</th>\n",
       "      <td>готель хеллі</td>\n",
       "    </tr>\n",
       "    <tr>\n",
       "      <th>2</th>\n",
       "      <td>privat hotel</td>\n",
       "    </tr>\n",
       "    <tr>\n",
       "      <th>3</th>\n",
       "      <td>готель набі</td>\n",
       "    </tr>\n",
       "    <tr>\n",
       "      <th>4</th>\n",
       "      <td>готель нафтуся</td>\n",
       "    </tr>\n",
       "    <tr>\n",
       "      <th>5</th>\n",
       "      <td>готель mirotel resort spa</td>\n",
       "    </tr>\n",
       "    <tr>\n",
       "      <th>6</th>\n",
       "      <td>magnet hotel</td>\n",
       "    </tr>\n",
       "    <tr>\n",
       "      <th>7</th>\n",
       "      <td>готель вiан</td>\n",
       "    </tr>\n",
       "    <tr>\n",
       "      <th>8</th>\n",
       "      <td>готель джем</td>\n",
       "    </tr>\n",
       "    <tr>\n",
       "      <th>9</th>\n",
       "      <td>готель олега</td>\n",
       "    </tr>\n",
       "  </tbody>\n",
       "</table>\n",
       "</div>"
      ],
      "text/plain": [
       "                           0\n",
       "0                  гостиница\n",
       "1               готель хеллі\n",
       "2               privat hotel\n",
       "3                готель набі\n",
       "4             готель нафтуся\n",
       "5  готель mirotel resort spa\n",
       "6               magnet hotel\n",
       "7                готель вiан\n",
       "8                готель джем\n",
       "9               готель олега"
      ]
     },
     "execution_count": 157,
     "metadata": {},
     "output_type": "execute_result"
    }
   ],
   "source": [
    "print(\"Top 10:\")\n",
    "df.head(10)"
   ]
  },
  {
   "cell_type": "code",
   "execution_count": 158,
   "metadata": {
    "ExecuteTime": {
     "end_time": "2022-07-12T13:41:37.995444Z",
     "start_time": "2022-07-12T13:41:37.985796Z"
    }
   },
   "outputs": [
    {
     "name": "stdout",
     "output_type": "stream",
     "text": [
      "Bottom 10:\n"
     ]
    },
    {
     "data": {
      "text/html": [
       "<div>\n",
       "<style scoped>\n",
       "    .dataframe tbody tr th:only-of-type {\n",
       "        vertical-align: middle;\n",
       "    }\n",
       "\n",
       "    .dataframe tbody tr th {\n",
       "        vertical-align: top;\n",
       "    }\n",
       "\n",
       "    .dataframe thead th {\n",
       "        text-align: right;\n",
       "    }\n",
       "</style>\n",
       "<table border=\"1\" class=\"dataframe\">\n",
       "  <thead>\n",
       "    <tr style=\"text-align: right;\">\n",
       "      <th></th>\n",
       "      <th>0</th>\n",
       "    </tr>\n",
       "  </thead>\n",
       "  <tbody>\n",
       "    <tr>\n",
       "      <th>155</th>\n",
       "      <td>old town bar</td>\n",
       "    </tr>\n",
       "    <tr>\n",
       "      <th>156</th>\n",
       "      <td>вісак</td>\n",
       "    </tr>\n",
       "    <tr>\n",
       "      <th>157</th>\n",
       "      <td>таиф нк</td>\n",
       "    </tr>\n",
       "    <tr>\n",
       "      <th>158</th>\n",
       "      <td>совет ветеранов нк нпз оо</td>\n",
       "    </tr>\n",
       "    <tr>\n",
       "      <th>159</th>\n",
       "      <td>real</td>\n",
       "    </tr>\n",
       "    <tr>\n",
       "      <th>160</th>\n",
       "      <td>утёс</td>\n",
       "    </tr>\n",
       "    <tr>\n",
       "      <th>161</th>\n",
       "      <td>вілла калина</td>\n",
       "    </tr>\n",
       "    <tr>\n",
       "      <th>162</th>\n",
       "      <td>аэропорт новый уренгой</td>\n",
       "    </tr>\n",
       "    <tr>\n",
       "      <th>163</th>\n",
       "      <td>мидем</td>\n",
       "    </tr>\n",
       "    <tr>\n",
       "      <th>164</th>\n",
       "      <td>taraça bar restoran</td>\n",
       "    </tr>\n",
       "  </tbody>\n",
       "</table>\n",
       "</div>"
      ],
      "text/plain": [
       "                             0\n",
       "155               old town bar\n",
       "156                      вісак\n",
       "157                    таиф нк\n",
       "158  совет ветеранов нк нпз оо\n",
       "159                       real\n",
       "160                       утёс\n",
       "161               вілла калина\n",
       "162     аэропорт новый уренгой\n",
       "163                      мидем\n",
       "164        taraça bar restoran"
      ]
     },
     "execution_count": 158,
     "metadata": {},
     "output_type": "execute_result"
    }
   ],
   "source": [
    "print(\"Bottom 10:\")\n",
    "df.tail(10)"
   ]
  }
 ],
 "metadata": {
  "kernelspec": {
   "display_name": "Python 3 (ipykernel)",
   "language": "python",
   "name": "python3"
  },
  "language_info": {
   "codemirror_mode": {
    "name": "ipython",
    "version": 3
   },
   "file_extension": ".py",
   "mimetype": "text/x-python",
   "name": "python",
   "nbconvert_exporter": "python",
   "pygments_lexer": "ipython3",
   "version": "3.10.4"
  }
 },
 "nbformat": 4,
 "nbformat_minor": 1
}
