{
 "cells": [
  {
   "cell_type": "markdown",
   "metadata": {},
   "source": [
    "# Лабораторная работа 4. Часть 2. Рекомендательные системы.\n",
    "\n",
    "\n",
    "\n",
    "Результат лабораторной работы − отчет. Мы предпочитаем принимать отчеты в формате ноутбуков IPython (ipynb-файл). Постарайтесь сделать ваш отчет интересным рассказом, последовательно отвечающим на вопросы из заданий. Помимо ответов на вопросы, в отчете так же должен быть код, однако чем меньше кода, тем лучше всем: нам − меньше проверять, вам — проще найти ошибку или дополнить эксперимент. При проверке оценивается четкость ответов на вопросы, аккуратность отчета и кода.\n",
    "\n",
    "\n",
    "### Оценивание и штрафы\n",
    "Каждая из задач имеет определенную «стоимость» (указана в скобках около задачи). Максимально допустимая оценка за работу — 8 баллов. Сдавать задание после указанного в lk срока сдачи нельзя. «Похожие» решения считаются плагиатом и все задействованные студенты (в том числе те, у кого списали) не могут получить за него больше 0 баллов и понижают карму (подробнее о плагиате см. на странице курса). Если вы нашли решение какого-то из заданий в открытом источнике, необходимо прислать ссылку на этот источник (скорее всего вы будете не единственным, кто это нашел, поэтому чтобы исключить подозрение в плагиате, нам необходима ссылка на источник).\n",
    "\n"
   ]
  },
  {
   "cell_type": "markdown",
   "metadata": {},
   "source": [
    "## Знакомство с данными\n",
    "\n",
    "### Рекомендация организаций, которые получат высокий отзыв от пользователя, когда он гостит в чужом для себя городе\n",
    "\n",
    "Эта лабораторная работа про задачу из соревнования\n",
    "\n",
    "https://contest.yandex.ru/contest/36927/problems/\n"
   ]
  },
  {
   "cell_type": "markdown",
   "metadata": {},
   "source": [
    "**(1 балла) Задание 1.** Знакомство с данными.\n",
    "\n",
    "В первую очередь нам понадобятся данные по __пользователям__ (в терминах recsys -- users), __организациям__ (в терминах recsys -- items) и сами __отзывы__ (в терминах recsys -- ratings или explicit feedback). \n",
    "\n",
    "На основании этих данных можно будет проводить базовый анализ методами колаборативной фильтрации.\n",
    "\n",
    "  * Опишите, насколько активно пользователи оставляют отзывы, насколько активно организации получают отзывы.\n",
    "  * Предложите стратегии фильтрации данных.\n",
    "  \n",
    "\n",
    "\n",
    "Во вторую очередь нас будут интересовать атрибуты организаций: aspects, features, rubrics.\n",
    "Проанализируйте эти таблицы. Какие признаки для описания организаций и пользователей из них можно извлечь?\n"
   ]
  },
  {
   "cell_type": "code",
   "execution_count": 161,
   "metadata": {
    "ExecuteTime": {
     "end_time": "2022-07-30T17:35:12.233228Z",
     "start_time": "2022-07-30T17:35:12.222398Z"
    }
   },
   "outputs": [
    {
     "name": "stdout",
     "output_type": "stream",
     "text": [
      "The nb_black extension is already loaded. To reload it, use:\n",
      "  %reload_ext nb_black\n"
     ]
    },
    {
     "data": {
      "application/javascript": [
       "\n",
       "            setTimeout(function() {\n",
       "                var nbb_cell_id = 161;\n",
       "                var nbb_unformatted_code = \"%load_ext nb_black\\n\\nimport glob\\nimport numpy as np\\nimport os\\nimport pandas as pd\";\n",
       "                var nbb_formatted_code = \"%load_ext nb_black\\n\\nimport glob\\nimport numpy as np\\nimport os\\nimport pandas as pd\";\n",
       "                var nbb_cells = Jupyter.notebook.get_cells();\n",
       "                for (var i = 0; i < nbb_cells.length; ++i) {\n",
       "                    if (nbb_cells[i].input_prompt_number == nbb_cell_id) {\n",
       "                        if (nbb_cells[i].get_text() == nbb_unformatted_code) {\n",
       "                             nbb_cells[i].set_text(nbb_formatted_code);\n",
       "                        }\n",
       "                        break;\n",
       "                    }\n",
       "                }\n",
       "            }, 500);\n",
       "            "
      ],
      "text/plain": [
       "<IPython.core.display.Javascript object>"
      ]
     },
     "metadata": {},
     "output_type": "display_data"
    }
   ],
   "source": [
    "%load_ext nb_black\n",
    "\n",
    "import glob\n",
    "import numpy as np\n",
    "import os\n",
    "import pandas as pd"
   ]
  },
  {
   "cell_type": "code",
   "execution_count": 136,
   "metadata": {
    "ExecuteTime": {
     "end_time": "2022-07-30T17:16:56.397388Z",
     "start_time": "2022-07-30T17:16:56.375154Z"
    }
   },
   "outputs": [
    {
     "data": {
      "application/javascript": [
       "\n",
       "            setTimeout(function() {\n",
       "                var nbb_cell_id = 136;\n",
       "                var nbb_unformatted_code = \"def read_ints(line):\\n            return list(map(int, line.split()))\\n    \\ndef read_data(\\n    path=\\\"data/*.csv\\\",\\n    converters={\\\"rubrics_id\\\": read_ints, \\\"features_id\\\": read_ints},\\n    index_col=0,\\n):\\n    data = {}\\n\\n    for csv_filename in glob.glob(path):\\n        basename, extension = os.path.splitext(os.path.basename(csv_filename))\\n\\n        \\n\\n        data[basename] = pd.read_csv(\\n            csv_filename,\\n            converters=converters,\\n            index_col=index_col,\\n        )\\n\\n    return data\";\n",
       "                var nbb_formatted_code = \"def read_ints(line):\\n    return list(map(int, line.split()))\\n\\n\\ndef read_data(\\n    path=\\\"data/*.csv\\\",\\n    converters={\\\"rubrics_id\\\": read_ints, \\\"features_id\\\": read_ints},\\n    index_col=0,\\n):\\n    data = {}\\n\\n    for csv_filename in glob.glob(path):\\n        basename, extension = os.path.splitext(os.path.basename(csv_filename))\\n\\n        data[basename] = pd.read_csv(\\n            csv_filename,\\n            converters=converters,\\n            index_col=index_col,\\n        )\\n\\n    return data\";\n",
       "                var nbb_cells = Jupyter.notebook.get_cells();\n",
       "                for (var i = 0; i < nbb_cells.length; ++i) {\n",
       "                    if (nbb_cells[i].input_prompt_number == nbb_cell_id) {\n",
       "                        if (nbb_cells[i].get_text() == nbb_unformatted_code) {\n",
       "                             nbb_cells[i].set_text(nbb_formatted_code);\n",
       "                        }\n",
       "                        break;\n",
       "                    }\n",
       "                }\n",
       "            }, 500);\n",
       "            "
      ],
      "text/plain": [
       "<IPython.core.display.Javascript object>"
      ]
     },
     "metadata": {},
     "output_type": "display_data"
    }
   ],
   "source": [
    "def read_ints(line):\n",
    "    return list(map(int, line.split()))\n",
    "\n",
    "\n",
    "def read_data(\n",
    "    path=\"data/*.csv\",\n",
    "    converters={\"rubrics_id\": read_ints, \"features_id\": read_ints},\n",
    "    index_col=0,\n",
    "):\n",
    "    data = {}\n",
    "\n",
    "    for csv_filename in glob.glob(path):\n",
    "        basename, extension = os.path.splitext(os.path.basename(csv_filename))\n",
    "\n",
    "        data[basename] = pd.read_csv(\n",
    "            csv_filename,\n",
    "            converters=converters,\n",
    "            index_col=index_col,\n",
    "        )\n",
    "\n",
    "    return data"
   ]
  },
  {
   "cell_type": "code",
   "execution_count": 141,
   "metadata": {
    "ExecuteTime": {
     "end_time": "2022-07-30T17:25:38.974327Z",
     "start_time": "2022-07-30T17:25:35.456762Z"
    }
   },
   "outputs": [
    {
     "name": "stderr",
     "output_type": "stream",
     "text": [
      "/tmp/ipykernel_35045/1278097623.py:16: DtypeWarning: Columns (4) have mixed types. Specify dtype option on import or set low_memory=False.\n",
      "  data[basename] = pd.read_csv(\n"
     ]
    },
    {
     "data": {
      "application/javascript": [
       "\n",
       "            setTimeout(function() {\n",
       "                var nbb_cell_id = 141;\n",
       "                var nbb_unformatted_code = \"data = read_data()\\nusers = data['users']\\norganisations = data['organisations']\\nreviews = data[\\\"reviews\\\"].reset_index()\";\n",
       "                var nbb_formatted_code = \"data = read_data()\\nusers = data[\\\"users\\\"]\\norganisations = data[\\\"organisations\\\"]\\nreviews = data[\\\"reviews\\\"].reset_index()\";\n",
       "                var nbb_cells = Jupyter.notebook.get_cells();\n",
       "                for (var i = 0; i < nbb_cells.length; ++i) {\n",
       "                    if (nbb_cells[i].input_prompt_number == nbb_cell_id) {\n",
       "                        if (nbb_cells[i].get_text() == nbb_unformatted_code) {\n",
       "                             nbb_cells[i].set_text(nbb_formatted_code);\n",
       "                        }\n",
       "                        break;\n",
       "                    }\n",
       "                }\n",
       "            }, 500);\n",
       "            "
      ],
      "text/plain": [
       "<IPython.core.display.Javascript object>"
      ]
     },
     "metadata": {},
     "output_type": "display_data"
    }
   ],
   "source": [
    "data = read_data()\n",
    "users = data[\"users\"]\n",
    "organisations = data[\"organisations\"]\n",
    "reviews = data[\"reviews\"].reset_index()"
   ]
  },
  {
   "cell_type": "code",
   "execution_count": 181,
   "metadata": {
    "ExecuteTime": {
     "end_time": "2022-07-30T18:22:45.810115Z",
     "start_time": "2022-07-30T18:22:45.792956Z"
    }
   },
   "outputs": [
    {
     "data": {
      "application/javascript": [
       "\n",
       "            setTimeout(function() {\n",
       "                var nbb_cell_id = 181;\n",
       "                var nbb_unformatted_code = \"def describe_user_reviews_counts(users, reviews):\\n    reviews_count = reviews.groupby(\\\"user_id\\\").size().reindex(users.index)\\n    return pd.concat(\\n        [\\n            reviews_count.agg([\\\"mean\\\", \\\"std\\\", \\\"min\\\", \\\"max\\\"]),\\n            pd.Series(\\n                {\\n                    f\\\"{100*q}%\\\": reviews_count.quantile(q=q)\\n                    for q in [0.5, 0.75, 0.90, 0.95, 0.99, 0.999, 0.9999]\\n                }\\n            ),\\n        ]\\n    )\";\n",
       "                var nbb_formatted_code = \"def describe_user_reviews_counts(users, reviews):\\n    reviews_count = reviews.groupby(\\\"user_id\\\").size().reindex(users.index)\\n    return pd.concat(\\n        [\\n            reviews_count.agg([\\\"mean\\\", \\\"std\\\", \\\"min\\\", \\\"max\\\"]),\\n            pd.Series(\\n                {\\n                    f\\\"{100*q}%\\\": reviews_count.quantile(q=q)\\n                    for q in [0.5, 0.75, 0.90, 0.95, 0.99, 0.999, 0.9999]\\n                }\\n            ),\\n        ]\\n    )\";\n",
       "                var nbb_cells = Jupyter.notebook.get_cells();\n",
       "                for (var i = 0; i < nbb_cells.length; ++i) {\n",
       "                    if (nbb_cells[i].input_prompt_number == nbb_cell_id) {\n",
       "                        if (nbb_cells[i].get_text() == nbb_unformatted_code) {\n",
       "                             nbb_cells[i].set_text(nbb_formatted_code);\n",
       "                        }\n",
       "                        break;\n",
       "                    }\n",
       "                }\n",
       "            }, 500);\n",
       "            "
      ],
      "text/plain": [
       "<IPython.core.display.Javascript object>"
      ]
     },
     "metadata": {},
     "output_type": "display_data"
    }
   ],
   "source": [
    "def describe_user_reviews_counts(users, reviews):\n",
    "    reviews_count = reviews.groupby(\"user_id\").size().reindex(users.index)\n",
    "    return pd.concat(\n",
    "        [\n",
    "            reviews_count.agg([\"mean\", \"std\", \"min\", \"max\"]),\n",
    "            pd.Series(\n",
    "                {\n",
    "                    f\"{100*q}%\": reviews_count.quantile(q=q)\n",
    "                    for q in [0.5, 0.75, 0.90, 0.95, 0.99, 0.999, 0.9999]\n",
    "                }\n",
    "            ),\n",
    "        ]\n",
    "    )"
   ]
  },
  {
   "cell_type": "code",
   "execution_count": 184,
   "metadata": {
    "ExecuteTime": {
     "end_time": "2022-07-30T18:23:12.409709Z",
     "start_time": "2022-07-30T18:23:11.674023Z"
    }
   },
   "outputs": [
    {
     "data": {
      "text/plain": [
       "mean        2.964589\n",
       "std         4.854616\n",
       "min         1.000000\n",
       "max       611.000000\n",
       "50.0%       1.000000\n",
       "75.0%       3.000000\n",
       "90.0%       6.000000\n",
       "95.0%      10.000000\n",
       "99.0%      22.000000\n",
       "99.9%      54.000000\n",
       "99.99%    117.000000\n",
       "dtype: float64"
      ]
     },
     "execution_count": 184,
     "metadata": {},
     "output_type": "execute_result"
    },
    {
     "data": {
      "application/javascript": [
       "\n",
       "            setTimeout(function() {\n",
       "                var nbb_cell_id = 184;\n",
       "                var nbb_unformatted_code = \"describe_user_reviews_counts(users, reviews)\";\n",
       "                var nbb_formatted_code = \"describe_user_reviews_counts(users, reviews)\";\n",
       "                var nbb_cells = Jupyter.notebook.get_cells();\n",
       "                for (var i = 0; i < nbb_cells.length; ++i) {\n",
       "                    if (nbb_cells[i].input_prompt_number == nbb_cell_id) {\n",
       "                        if (nbb_cells[i].get_text() == nbb_unformatted_code) {\n",
       "                             nbb_cells[i].set_text(nbb_formatted_code);\n",
       "                        }\n",
       "                        break;\n",
       "                    }\n",
       "                }\n",
       "            }, 500);\n",
       "            "
      ],
      "text/plain": [
       "<IPython.core.display.Javascript object>"
      ]
     },
     "metadata": {},
     "output_type": "display_data"
    }
   ],
   "source": [
    "describe_user_reviews_counts(users, reviews)"
   ]
  },
  {
   "cell_type": "markdown",
   "metadata": {},
   "source": [
    "**(1 балла) Задание 2.** Организация валидации.\n",
    "\n",
    "Как вы помните, обучающее множество собрано за X = 1277 дней, тестовое множество – за последующие Y = 107 дней.\n",
    "\n",
    "Следовательно нам необходимо организовать у себя валидацию схожим образом.\n",
    "Раз мы будем еще и осуществлять выбор моделей, то следует произвести расщепление по времнеи на 3 группы train validation и holdout.\n",
    "\n",
    "Как уже говрилось на семинаре, для повышения качества локальной валидации, можно сделать скользящую валидацию. В самой лабораторной работе мы так делат не будем, но для конкурса имейте это в виду.\n"
   ]
  },
  {
   "cell_type": "markdown",
   "metadata": {},
   "source": [
    "**(0.5 балла) Задание 3.** Базовые решения.\n",
    "\n",
    "Сделаем базовые решения:\n",
    "  * Для каждого пользователя выдаём 20 случайных организаций\n",
    "  * Для каждого пользователя выдаём самые популярные организации в неродном городе"
   ]
  },
  {
   "cell_type": "code",
   "execution_count": 6,
   "metadata": {
    "ExecuteTime": {
     "end_time": "2022-07-30T13:54:22.541720Z",
     "start_time": "2022-07-30T13:54:22.531118Z"
    }
   },
   "outputs": [
    {
     "data": {
      "text/plain": [
       "2"
      ]
     },
     "execution_count": 6,
     "metadata": {},
     "output_type": "execute_result"
    },
    {
     "data": {
      "application/javascript": [
       "\n",
       "            setTimeout(function() {\n",
       "                var nbb_cell_id = 6;\n",
       "                var nbb_unformatted_code = \"1+1\";\n",
       "                var nbb_formatted_code = \"1 + 1\";\n",
       "                var nbb_cells = Jupyter.notebook.get_cells();\n",
       "                for (var i = 0; i < nbb_cells.length; ++i) {\n",
       "                    if (nbb_cells[i].input_prompt_number == nbb_cell_id) {\n",
       "                        if (nbb_cells[i].get_text() == nbb_unformatted_code) {\n",
       "                             nbb_cells[i].set_text(nbb_formatted_code);\n",
       "                        }\n",
       "                        break;\n",
       "                    }\n",
       "                }\n",
       "            }, 500);\n",
       "            "
      ],
      "text/plain": [
       "<IPython.core.display.Javascript object>"
      ]
     },
     "metadata": {},
     "output_type": "display_data"
    }
   ],
   "source": [
    "1 + 1"
   ]
  },
  {
   "cell_type": "markdown",
   "metadata": {},
   "source": [
    "**(1.0 балла) Задание 4.** Метрики качества.\n",
    "\n",
    "Напомним, что у нас бинарная релевантнотсь на основе оценки вычисляется как предикат **оценка больше, чем 3**.\n",
    "\n",
    "Реализуйте набор метрик качества (можете оборачивать внешние паекты):\n",
    "    * MNAP@20 (как в описании соревнования)\n",
    "    * HitRate ( = 1, если среди рекомендаций есть хотя бы одна релевантная и 0 иначе)\n",
    "    * MRR@20 ( обратная позиция первой релевантной рекомендации из списка рекомендаций длины K. )\n",
    "    * Coverage (доля item-ов, учитываемых в рекомендациях)\n",
    "    * Surprisal(см. ниже) \n",
    "\n",
    "\n",
    "### Surprisal\n",
    "Посмотирм, насколько наши рекомендации хороши с точки зрения новизны для пользователя, в качестве новизны будем рассматривать \"непопулярность\" айтемов в рекомендациях.\n",
    "\n",
    "Будем рассматривать собственную информацию item-а как меру его новизны.\n",
    "\n",
    "$$selfInformation(i) = -\\log_2 \\frac{|u_i|}{|N|}$$, \n",
    "где \n",
    "$i$ - объект, $|N|$ - число взаимодействий в обучающей выборке,  $|u_i|$ - число пользователей, взаимодействовавших с объектом в обучающей выборке.\n",
    "\n",
    "После подсчета собственной информации усредним значения собственной информации в рекомендациях пользователя.\n",
    "\n",
    "Чтобы получить значения от 0 до 1, разделим значение метрики для пользователя на максимально возможно значение метрики равное $log_2 N$.\n",
    "\n",
    "$$Surprisal(u)@k = \\frac{1}{k \\cdot log_2 N} \\sum_{j = 1}^{k}selfInformation(i_{u,j})$$\n",
    "\n",
    "где $i_{u,j}$ это j-й объект, который мы порекомендововали пользователю.\n",
    "\n",
    "Получившаяся метрика похожа на энтропию Шеннона:\n",
    "$$H = - K \\sum_{i\\in R}{p_i log p_i}$$\n",
    "\n",
    "\n",
    "Результа усредним по пользователям.\n",
    "\n",
    "### Что нужно сделать\n",
    "    \n",
    "  * Создайте функцию, которая генерирует словарь с метриками, по предоставленному решению.\n",
    "\n",
    "  * Оцените baseline-решения на валидации."
   ]
  },
  {
   "cell_type": "code",
   "execution_count": null,
   "metadata": {},
   "outputs": [],
   "source": []
  },
  {
   "cell_type": "markdown",
   "metadata": {},
   "source": [
    "**(1.0 балла) Задание 5.** Метод Memory based. User-2-User or Item-2-Item\n",
    "\n",
    "Теперь рассмотрим [memory-based](https://en.wikipedia.org/wiki/Collaborative_filtering#Memory-based) методы рекоммендаций.\n",
    "Подход, лежащий в их основе, использует данные о рейтингах для вычисления сходства между пользователями (user-based) или объектами (item-based), на основе этих данных делаются предсказания рейтингов и, в дальнейшем, строятся рекоммендации. Эти методы просты в реализации и эффективны на ранних стадиях разработки рекомендательных систем.\n",
    "                                 \n",
    "              \n",
    "За последние годы было создано много библиотек для реализации алгоримтов построения рекомендаций.      \n",
    "  * https://github.com/benfred/implicit\n",
    "  * https://sberbank-ai-lab.github.io/RePlay/index.html\n",
    "  * https://github.com/apple/turicreate \n",
    "  * https://github.com/caserec/CaseRecommender\n",
    "\n",
    "Выеберите одну из них и постройте предсказания на основании совместной фильтрации по близости пользователей или по близости объектов.\n",
    "\n",
    "Если обучение идёт слишком долго подумайте про семплирование данных. Обоснуйте выбранную стратегию семплирования.\n",
    "\n"
   ]
  },
  {
   "cell_type": "markdown",
   "metadata": {},
   "source": [
    "## Методы Matrix factorization"
   ]
  },
  {
   "cell_type": "markdown",
   "metadata": {},
   "source": [
    "**(0.5 балла) Задание 6.**\n",
    "\n",
    "- Разложите матрицу рейтингов с помощью [разреженного SVD](http://scikit-learn.org/stable/modules/generated/sklearn.decomposition.TruncatedSVD.html) и, восстановив ее, получите предсказания рейтингов для всех пар пользователь-объект. В данном случае неизвестные рейтинги заполняются нулями, а затем восстанавливаются с помощью SVD (этот метод называется PureSVD).\n",
    "   * Получив векторные представления пользователей и объектов и сингулярные числа, мы можеи восстановив матрицу и в местах нулей получим \"предсказанные значения вероятностей\" для новых объектов.\n",
    "- Рассмотрите, как минимум, 5 различных значений ранга разложения. Оцените качество рекомендаций"
   ]
  },
  {
   "cell_type": "code",
   "execution_count": null,
   "metadata": {},
   "outputs": [],
   "source": []
  },
  {
   "cell_type": "markdown",
   "metadata": {},
   "source": [
    "# ALS\n",
    "Довольно популярным базовым методом в рекомендательных системах является ALS.\n",
    "\n",
    "### Explicit ALS\n",
    "\n",
    "Релевантность:\n",
    "$$r_{ui} = q_i^T p_u$$\n",
    "\n",
    "Loss:\n",
    "$$\\min_{p*, q*} \\sum_{(u, i \\in \\mathcal{K})} (r_{ui} - q_i^T p_u)^2 + \\lambda(\\|{q_i}\\|^2 + \\|{p_i}\\|^2)$$\n",
    "\n",
    "### [Implicit ALS](http://yifanhu.net/PUB/cf.pdf)\n",
    "\n",
    "Релевантность:\n",
    "$$r_{ui} = q_i^T p_u$$\n",
    "\n",
    "Loss:\n",
    "$$\\min_{p*, q*} \\sum_{(u, i \\in \\mathcal{K})} c_{ui}(p_{ui} - q_i^T p_u)^2 + \\lambda(\\|{q_i}\\|^2 + \\|{p_i}\\|^2)$$\n",
    "Где $c_{ui}$ - значение в матрице implicit feedback, а $p_{ui}$ равно 1, если пользователь u взаимодействовал с item-ом i, и 0 иначе.\n",
    "\n",
    "### Усложнения ALS\n",
    "Обучив для каждого пользователя и объекта свой bias и добавив регуляризацию можно улучшить качество решения. Подробнее о различных матричных разложениях для задачи рекомендаций можно почитать [в статье на Хабре](https://habr.com/ru/post/486802/).\n",
    "\n",
    "В рейтинг объекта для пользователя, например, может быть представлен:\n",
    "$$r_{ui} = \\mu + b_i + b_u + q_i^T p_u$$\n",
    "\n",
    "А функция потерь будет выглядеть так:\n",
    "$$\\min_{b*, p*, q*} \\sum_{(u, i \\in \\mathcal{K})} (r_{ui} - \\mu - b_i - b_u - q_i^T p_u)^2 + \\lambda(\\|{q_i}\\|^2 + \\|{p_i}\\|^2 + b_i^2 + b_u^2)$$\n",
    "\n",
    "Матричная факторизация - хороший подход, который позволяет получить рекомендации для теплых пользователей, а также находить похожих пользователей и объекты, посчитав расстояния между векторами. Обучив модель и получив вектора можно перейти от задачи рекомендаций к задаче поиска ближайших соседей и использовать ANN-методы."
   ]
  },
  {
   "cell_type": "markdown",
   "metadata": {},
   "source": [
    "**(1.0 балла) Задание 7.**\n",
    "Примените ALS.\n",
    "\n",
    "Можно воспользоваться готовой реализацией из бибилотеки https://github.com/benfred/implicit\n",
    "\n",
    "Попробуйте использовать как все оценки, так и только высокие. Есть ли разница?"
   ]
  },
  {
   "cell_type": "code",
   "execution_count": null,
   "metadata": {},
   "outputs": [],
   "source": []
  },
  {
   "cell_type": "markdown",
   "metadata": {},
   "source": [
    "**(1.0 балла) Задание 8.**\n",
    "\n",
    "На [семинаре](https://github.com/monkey0head/recsys_sem) Вам было расказано про бибилиотеку LightFM.\n",
    "Примените ее для нашей задачи. Используя фичи и не используя фичи, сравните результат."
   ]
  },
  {
   "cell_type": "code",
   "execution_count": null,
   "metadata": {},
   "outputs": [],
   "source": []
  },
  {
   "cell_type": "markdown",
   "metadata": {},
   "source": [
    "**(1.0 балла) Задание 9.**\n",
    "\n",
    "   Посмотрим на все прошлые методы как на модели, которые генерируют нам кандидатов для ответа рекомендательной системы. \n",
    "   \n",
    "   Как нам выбрать те 20 организаций наилучшим образом? \n",
    "   \n",
    "   Давайте подключим машинное обучение. Сформуллируем задачу ранжирования: запросом будет пользователь. Документами будут организации. Наивным призаковым описанием будет, например, факт рекомендации данной органицзаии или скор/ранг от моделей SVD, ALS, LightFM.\n",
    "   Примените catboost/xgboost/lightgbm для создания переранжирования рекомендаций. То есть сделаем двухуровневую модель. Выясните, наиболее важные признаки моделей перевого уровня."
   ]
  },
  {
   "cell_type": "code",
   "execution_count": null,
   "metadata": {},
   "outputs": [],
   "source": []
  },
  {
   "cell_type": "code",
   "execution_count": null,
   "metadata": {},
   "outputs": [],
   "source": []
  }
 ],
 "metadata": {
  "kernelspec": {
   "display_name": "Python 3 (ipykernel)",
   "language": "python",
   "name": "python3"
  },
  "language_info": {
   "codemirror_mode": {
    "name": "ipython",
    "version": 3
   },
   "file_extension": ".py",
   "mimetype": "text/x-python",
   "name": "python",
   "nbconvert_exporter": "python",
   "pygments_lexer": "ipython3",
   "version": "3.10.4"
  }
 },
 "nbformat": 4,
 "nbformat_minor": 2
}
