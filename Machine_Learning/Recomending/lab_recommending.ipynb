{
 "cells": [
  {
   "cell_type": "markdown",
   "metadata": {},
   "source": [
    "# Лабораторная работа 4. Часть 2. Рекомендательные системы.\n",
    "\n",
    "\n",
    "\n",
    "Результат лабораторной работы − отчет. Мы предпочитаем принимать отчеты в формате ноутбуков IPython (ipynb-файл). Постарайтесь сделать ваш отчет интересным рассказом, последовательно отвечающим на вопросы из заданий. Помимо ответов на вопросы, в отчете так же должен быть код, однако чем меньше кода, тем лучше всем: нам − меньше проверять, вам — проще найти ошибку или дополнить эксперимент. При проверке оценивается четкость ответов на вопросы, аккуратность отчета и кода.\n",
    "\n",
    "\n",
    "### Оценивание и штрафы\n",
    "Каждая из задач имеет определенную «стоимость» (указана в скобках около задачи). Максимально допустимая оценка за работу — 8 баллов. Сдавать задание после указанного в lk срока сдачи нельзя. «Похожие» решения считаются плагиатом и все задействованные студенты (в том числе те, у кого списали) не могут получить за него больше 0 баллов и понижают карму (подробнее о плагиате см. на странице курса). Если вы нашли решение какого-то из заданий в открытом источнике, необходимо прислать ссылку на этот источник (скорее всего вы будете не единственным, кто это нашел, поэтому чтобы исключить подозрение в плагиате, нам необходима ссылка на источник).\n",
    "\n"
   ]
  },
  {
   "cell_type": "markdown",
   "metadata": {},
   "source": [
    "## Знакомство с данными\n",
    "\n",
    "### Рекомендация организаций, которые получат высокий отзыв от пользователя, когда он гостит в чужом для себя городе\n",
    "\n",
    "Эта лабораторная работа про задачу из соревнования\n",
    "\n",
    "https://contest.yandex.ru/contest/36927/problems/\n"
   ]
  },
  {
   "cell_type": "markdown",
   "metadata": {},
   "source": [
    "**(1 балла) Задание 1.** Знакомство с данными.\n",
    "\n",
    "В первую очередь нам понадобятся данные по __пользователям__ (в терминах recsys -- users), __организациям__ (в терминах recsys -- items) и сами __отзывы__ (в терминах recsys -- ratings или explicit feedback). \n",
    "\n",
    "На основании этих данных можно будет проводить базовый анализ методами колаборативной фильтрации.\n",
    "\n",
    "  * Опишите, насколько активно пользователи оставляют отзывы, насколько активно организации получают отзывы.\n",
    "  * Предложите стратегии фильтрации данных.\n",
    "  \n",
    "\n",
    "\n",
    "Во вторую очередь нас будут интересовать атрибуты организаций: aspects, features, rubrics.\n",
    "Проанализируйте эти таблицы. Какие признаки для описания организаций и пользователей из них можно извлечь?\n"
   ]
  },
  {
   "cell_type": "code",
   "execution_count": 549,
   "metadata": {
    "ExecuteTime": {
     "end_time": "2022-08-02T07:36:10.777504Z",
     "start_time": "2022-08-02T07:36:10.762109Z"
    }
   },
   "outputs": [
    {
     "name": "stdout",
     "output_type": "stream",
     "text": [
      "The nb_black extension is already loaded. To reload it, use:\n",
      "  %reload_ext nb_black\n"
     ]
    },
    {
     "data": {
      "application/javascript": [
       "\n",
       "            setTimeout(function() {\n",
       "                var nbb_cell_id = 549;\n",
       "                var nbb_unformatted_code = \"%load_ext nb_black\\n\\nimport abc\\nimport glob\\nimport matplotlib.pyplot as plt\\nimport numpy as np\\nimport os\\nimport pandas as pd\\n\\nfrom functools import partial\";\n",
       "                var nbb_formatted_code = \"%load_ext nb_black\\n\\nimport abc\\nimport glob\\nimport matplotlib.pyplot as plt\\nimport numpy as np\\nimport os\\nimport pandas as pd\\n\\nfrom functools import partial\";\n",
       "                var nbb_cells = Jupyter.notebook.get_cells();\n",
       "                for (var i = 0; i < nbb_cells.length; ++i) {\n",
       "                    if (nbb_cells[i].input_prompt_number == nbb_cell_id) {\n",
       "                        if (nbb_cells[i].get_text() == nbb_unformatted_code) {\n",
       "                             nbb_cells[i].set_text(nbb_formatted_code);\n",
       "                        }\n",
       "                        break;\n",
       "                    }\n",
       "                }\n",
       "            }, 500);\n",
       "            "
      ],
      "text/plain": [
       "<IPython.core.display.Javascript object>"
      ]
     },
     "metadata": {},
     "output_type": "display_data"
    }
   ],
   "source": [
    "%load_ext nb_black\n",
    "\n",
    "import abc\n",
    "import glob\n",
    "import matplotlib.pyplot as plt\n",
    "import numpy as np\n",
    "import os\n",
    "import pandas as pd\n",
    "\n",
    "from functools import partial"
   ]
  },
  {
   "cell_type": "code",
   "execution_count": 136,
   "metadata": {
    "ExecuteTime": {
     "end_time": "2022-07-30T17:16:56.397388Z",
     "start_time": "2022-07-30T17:16:56.375154Z"
    }
   },
   "outputs": [
    {
     "data": {
      "application/javascript": [
       "\n",
       "            setTimeout(function() {\n",
       "                var nbb_cell_id = 136;\n",
       "                var nbb_unformatted_code = \"def read_ints(line):\\n            return list(map(int, line.split()))\\n    \\ndef read_data(\\n    path=\\\"data/*.csv\\\",\\n    converters={\\\"rubrics_id\\\": read_ints, \\\"features_id\\\": read_ints},\\n    index_col=0,\\n):\\n    data = {}\\n\\n    for csv_filename in glob.glob(path):\\n        basename, extension = os.path.splitext(os.path.basename(csv_filename))\\n\\n        \\n\\n        data[basename] = pd.read_csv(\\n            csv_filename,\\n            converters=converters,\\n            index_col=index_col,\\n        )\\n\\n    return data\";\n",
       "                var nbb_formatted_code = \"def read_ints(line):\\n    return list(map(int, line.split()))\\n\\n\\ndef read_data(\\n    path=\\\"data/*.csv\\\",\\n    converters={\\\"rubrics_id\\\": read_ints, \\\"features_id\\\": read_ints},\\n    index_col=0,\\n):\\n    data = {}\\n\\n    for csv_filename in glob.glob(path):\\n        basename, extension = os.path.splitext(os.path.basename(csv_filename))\\n\\n        data[basename] = pd.read_csv(\\n            csv_filename,\\n            converters=converters,\\n            index_col=index_col,\\n        )\\n\\n    return data\";\n",
       "                var nbb_cells = Jupyter.notebook.get_cells();\n",
       "                for (var i = 0; i < nbb_cells.length; ++i) {\n",
       "                    if (nbb_cells[i].input_prompt_number == nbb_cell_id) {\n",
       "                        if (nbb_cells[i].get_text() == nbb_unformatted_code) {\n",
       "                             nbb_cells[i].set_text(nbb_formatted_code);\n",
       "                        }\n",
       "                        break;\n",
       "                    }\n",
       "                }\n",
       "            }, 500);\n",
       "            "
      ],
      "text/plain": [
       "<IPython.core.display.Javascript object>"
      ]
     },
     "metadata": {},
     "output_type": "display_data"
    }
   ],
   "source": [
    "def read_ints(line):\n",
    "    return list(map(int, line.split()))\n",
    "\n",
    "\n",
    "def read_data(\n",
    "    path=\"data/*.csv\",\n",
    "    converters={\"rubrics_id\": read_ints, \"features_id\": read_ints},\n",
    "    index_col=0,\n",
    "):\n",
    "    data = {}\n",
    "    for csv_filename in glob.glob(path):\n",
    "        basename, extension = os.path.splitext(os.path.basename(csv_filename))\n",
    "        data[basename] = pd.read_csv(\n",
    "            csv_filename,\n",
    "            converters=converters,\n",
    "            index_col=index_col,\n",
    "        )\n",
    "    return data"
   ]
  },
  {
   "cell_type": "code",
   "execution_count": 141,
   "metadata": {
    "ExecuteTime": {
     "end_time": "2022-07-30T17:25:38.974327Z",
     "start_time": "2022-07-30T17:25:35.456762Z"
    }
   },
   "outputs": [
    {
     "name": "stderr",
     "output_type": "stream",
     "text": [
      "/tmp/ipykernel_35045/1278097623.py:16: DtypeWarning: Columns (4) have mixed types. Specify dtype option on import or set low_memory=False.\n",
      "  data[basename] = pd.read_csv(\n"
     ]
    },
    {
     "data": {
      "application/javascript": [
       "\n",
       "            setTimeout(function() {\n",
       "                var nbb_cell_id = 141;\n",
       "                var nbb_unformatted_code = \"data = read_data()\\nusers = data['users']\\norganisations = data['organisations']\\nreviews = data[\\\"reviews\\\"].reset_index()\";\n",
       "                var nbb_formatted_code = \"data = read_data()\\nusers = data[\\\"users\\\"]\\norganisations = data[\\\"organisations\\\"]\\nreviews = data[\\\"reviews\\\"].reset_index()\";\n",
       "                var nbb_cells = Jupyter.notebook.get_cells();\n",
       "                for (var i = 0; i < nbb_cells.length; ++i) {\n",
       "                    if (nbb_cells[i].input_prompt_number == nbb_cell_id) {\n",
       "                        if (nbb_cells[i].get_text() == nbb_unformatted_code) {\n",
       "                             nbb_cells[i].set_text(nbb_formatted_code);\n",
       "                        }\n",
       "                        break;\n",
       "                    }\n",
       "                }\n",
       "            }, 500);\n",
       "            "
      ],
      "text/plain": [
       "<IPython.core.display.Javascript object>"
      ]
     },
     "metadata": {},
     "output_type": "display_data"
    }
   ],
   "source": [
    "data = read_data()\n",
    "users = data[\"users\"]\n",
    "organisations = data[\"organisations\"]\n",
    "reviews = data[\"reviews\"].reset_index()"
   ]
  },
  {
   "cell_type": "markdown",
   "metadata": {},
   "source": [
    "* Опишите, насколько активно пользователи оставляют отзывы, насколько активно организации получают отзывы."
   ]
  },
  {
   "cell_type": "code",
   "execution_count": 488,
   "metadata": {
    "ExecuteTime": {
     "end_time": "2022-08-02T06:52:05.453746Z",
     "start_time": "2022-08-02T06:52:05.409595Z"
    }
   },
   "outputs": [
    {
     "data": {
      "application/javascript": [
       "\n",
       "            setTimeout(function() {\n",
       "                var nbb_cell_id = 488;\n",
       "                var nbb_unformatted_code = \"def describe_review_counts(\\n    df,\\n    reviews,\\n    axis,\\n    title,\\n    quantiles=(0, 0.25, 0.5, 0.75, 0.90, 0.95, 0.99, 0.999, 0.9999, 1),\\n    quantiles_to_plot=(0.5, 0.99, 0.999, 0.9999),\\n    plt_kwargs=None,\\n    cmap=\\\"hsv\\\",\\n):\\n    reviews_count = reviews.groupby(df.index.name).size().reindex(df.index)\\n    reviews_count.plot(ax=axis, title=title, **(plt_kwargs or {}))\\n    axis.set_xlabel(plt_kwargs.get(\\\"xlabel\\\"))\\n    axis.set_ylabel(plt_kwargs.get(\\\"ylabel\\\"))\\n\\n    for i, q in enumerate(quantiles_to_plot, start=1):\\n        quantile = reviews_count.quantile(q=q)\\n        axis.axvline(quantile, ls=\\\"--\\\", c=plt.get_cmap(name=cmap)(q))\\n        axis.text(quantile, axis.get_ylim()[1] / 2**i, f\\\"{100*q}%\\\", ha=\\\"left\\\")\\n\\n    return reviews_count.agg(\\n        {\\n            \\\"mean\\\": pd.Series.mean,\\n            \\\"std\\\": pd.Series.std,\\n            **{f\\\"{100*q}%\\\": partial(pd.Series.quantile, q=q) for q in quantiles},\\n        }\\n    )\\n\\n\\ndef show_review_counts(users, organisations, reviews):\\n    fig, axes = plt.subplots(ncols=2, figsize=(16, 6))\\n    plt_kwargs = dict(\\n        kind=\\\"hist\\\",\\n        log=True,\\n        histtype=\\\"stepfilled\\\",\\n        bins=100,\\n        edgecolor=\\\"black\\\",\\n        facecolor=\\\"gray\\\",\\n        alpha=0.5,\\n        xlabel=\\\"Reviews count\\\",\\n        ylabel=\\\"Frequency (log scale)\\\"\\n    )\\n    return pd.DataFrame(\\n        {\\n            title: describe_review_counts(\\n                df,\\n                reviews,\\n                axis,\\n                title=title,\\n                plt_kwargs=plt_kwargs,\\n            )\\n            for df, axis, title in zip(\\n                [users, organisations],\\n                axes,\\n                [\\\"Users reviews written\\\", \\\"Organisations reviews received\\\"],\\n            )\\n        }\\n    ).T\";\n",
       "                var nbb_formatted_code = \"def describe_review_counts(\\n    df,\\n    reviews,\\n    axis,\\n    title,\\n    quantiles=(0, 0.25, 0.5, 0.75, 0.90, 0.95, 0.99, 0.999, 0.9999, 1),\\n    quantiles_to_plot=(0.5, 0.99, 0.999, 0.9999),\\n    plt_kwargs=None,\\n    cmap=\\\"hsv\\\",\\n):\\n    reviews_count = reviews.groupby(df.index.name).size().reindex(df.index)\\n    reviews_count.plot(ax=axis, title=title, **(plt_kwargs or {}))\\n    axis.set_xlabel(plt_kwargs.get(\\\"xlabel\\\"))\\n    axis.set_ylabel(plt_kwargs.get(\\\"ylabel\\\"))\\n\\n    for i, q in enumerate(quantiles_to_plot, start=1):\\n        quantile = reviews_count.quantile(q=q)\\n        axis.axvline(quantile, ls=\\\"--\\\", c=plt.get_cmap(name=cmap)(q))\\n        axis.text(quantile, axis.get_ylim()[1] / 2**i, f\\\"{100*q}%\\\", ha=\\\"left\\\")\\n\\n    return reviews_count.agg(\\n        {\\n            \\\"mean\\\": pd.Series.mean,\\n            \\\"std\\\": pd.Series.std,\\n            **{f\\\"{100*q}%\\\": partial(pd.Series.quantile, q=q) for q in quantiles},\\n        }\\n    )\\n\\n\\ndef show_review_counts(users, organisations, reviews):\\n    fig, axes = plt.subplots(ncols=2, figsize=(16, 6))\\n    plt_kwargs = dict(\\n        kind=\\\"hist\\\",\\n        log=True,\\n        histtype=\\\"stepfilled\\\",\\n        bins=100,\\n        edgecolor=\\\"black\\\",\\n        facecolor=\\\"gray\\\",\\n        alpha=0.5,\\n        xlabel=\\\"Reviews count\\\",\\n        ylabel=\\\"Frequency (log scale)\\\",\\n    )\\n    return pd.DataFrame(\\n        {\\n            title: describe_review_counts(\\n                df,\\n                reviews,\\n                axis,\\n                title=title,\\n                plt_kwargs=plt_kwargs,\\n            )\\n            for df, axis, title in zip(\\n                [users, organisations],\\n                axes,\\n                [\\\"Users reviews written\\\", \\\"Organisations reviews received\\\"],\\n            )\\n        }\\n    ).T\";\n",
       "                var nbb_cells = Jupyter.notebook.get_cells();\n",
       "                for (var i = 0; i < nbb_cells.length; ++i) {\n",
       "                    if (nbb_cells[i].input_prompt_number == nbb_cell_id) {\n",
       "                        if (nbb_cells[i].get_text() == nbb_unformatted_code) {\n",
       "                             nbb_cells[i].set_text(nbb_formatted_code);\n",
       "                        }\n",
       "                        break;\n",
       "                    }\n",
       "                }\n",
       "            }, 500);\n",
       "            "
      ],
      "text/plain": [
       "<IPython.core.display.Javascript object>"
      ]
     },
     "metadata": {},
     "output_type": "display_data"
    }
   ],
   "source": [
    "def describe_review_counts(\n",
    "    df,\n",
    "    reviews,\n",
    "    axis,\n",
    "    title,\n",
    "    quantiles=(0, 0.25, 0.5, 0.75, 0.90, 0.95, 0.99, 0.999, 0.9999, 1),\n",
    "    quantiles_to_plot=(0.5, 0.99, 0.999, 0.9999),\n",
    "    plt_kwargs=None,\n",
    "    cmap=\"hsv\",\n",
    "):\n",
    "    reviews_count = reviews.groupby(df.index.name).size().reindex(df.index)\n",
    "    reviews_count.plot(ax=axis, title=title, **(plt_kwargs or {}))\n",
    "    axis.set_xlabel(plt_kwargs.get(\"xlabel\"))\n",
    "    axis.set_ylabel(plt_kwargs.get(\"ylabel\"))\n",
    "\n",
    "    for i, q in enumerate(quantiles_to_plot, start=1):\n",
    "        quantile = reviews_count.quantile(q=q)\n",
    "        axis.axvline(quantile, ls=\"--\", c=plt.get_cmap(name=cmap)(q))\n",
    "        axis.text(quantile, axis.get_ylim()[1] / 2**i, f\"{100*q}%\", ha=\"left\")\n",
    "\n",
    "    return reviews_count.agg(\n",
    "        {\n",
    "            \"mean\": pd.Series.mean,\n",
    "            \"std\": pd.Series.std,\n",
    "            **{f\"{100*q}%\": partial(pd.Series.quantile, q=q) for q in quantiles},\n",
    "        }\n",
    "    )\n",
    "\n",
    "\n",
    "def show_review_counts(users, organisations, reviews):\n",
    "    fig, axes = plt.subplots(ncols=2, figsize=(16, 6))\n",
    "    plt_kwargs = dict(\n",
    "        kind=\"hist\",\n",
    "        log=True,\n",
    "        histtype=\"stepfilled\",\n",
    "        bins=100,\n",
    "        edgecolor=\"black\",\n",
    "        facecolor=\"gray\",\n",
    "        alpha=0.5,\n",
    "        xlabel=\"Reviews count\",\n",
    "        ylabel=\"Frequency (log scale)\",\n",
    "    )\n",
    "    return pd.DataFrame(\n",
    "        {\n",
    "            title: describe_review_counts(\n",
    "                df,\n",
    "                reviews,\n",
    "                axis,\n",
    "                title=title,\n",
    "                plt_kwargs=plt_kwargs,\n",
    "            )\n",
    "            for df, axis, title in zip(\n",
    "                [users, organisations],\n",
    "                axes,\n",
    "                [\"Users reviews written\", \"Organisations reviews received\"],\n",
    "            )\n",
    "        }\n",
    "    ).T"
   ]
  },
  {
   "cell_type": "code",
   "execution_count": 489,
   "metadata": {
    "ExecuteTime": {
     "end_time": "2022-08-02T06:52:08.004576Z",
     "start_time": "2022-08-02T06:52:06.049020Z"
    }
   },
   "outputs": [
    {
     "data": {
      "text/html": [
       "<div>\n",
       "<style scoped>\n",
       "    .dataframe tbody tr th:only-of-type {\n",
       "        vertical-align: middle;\n",
       "    }\n",
       "\n",
       "    .dataframe tbody tr th {\n",
       "        vertical-align: top;\n",
       "    }\n",
       "\n",
       "    .dataframe thead th {\n",
       "        text-align: right;\n",
       "    }\n",
       "</style>\n",
       "<table border=\"1\" class=\"dataframe\">\n",
       "  <thead>\n",
       "    <tr style=\"text-align: right;\">\n",
       "      <th></th>\n",
       "      <th>mean</th>\n",
       "      <th>std</th>\n",
       "      <th>0%</th>\n",
       "      <th>25.0%</th>\n",
       "      <th>50.0%</th>\n",
       "      <th>75.0%</th>\n",
       "      <th>90.0%</th>\n",
       "      <th>95.0%</th>\n",
       "      <th>99.0%</th>\n",
       "      <th>99.9%</th>\n",
       "      <th>99.99%</th>\n",
       "      <th>100%</th>\n",
       "    </tr>\n",
       "  </thead>\n",
       "  <tbody>\n",
       "    <tr>\n",
       "      <th>Users reviews written</th>\n",
       "      <td>2.964589</td>\n",
       "      <td>4.854616</td>\n",
       "      <td>1.0</td>\n",
       "      <td>1.0</td>\n",
       "      <td>1.0</td>\n",
       "      <td>3.0</td>\n",
       "      <td>6.0</td>\n",
       "      <td>10.0</td>\n",
       "      <td>22.0</td>\n",
       "      <td>54.000</td>\n",
       "      <td>117.0000</td>\n",
       "      <td>611.0</td>\n",
       "    </tr>\n",
       "    <tr>\n",
       "      <th>Organisations reviews received</th>\n",
       "      <td>60.429564</td>\n",
       "      <td>436.475347</td>\n",
       "      <td>1.0</td>\n",
       "      <td>2.0</td>\n",
       "      <td>8.0</td>\n",
       "      <td>32.0</td>\n",
       "      <td>125.0</td>\n",
       "      <td>246.0</td>\n",
       "      <td>785.0</td>\n",
       "      <td>3021.324</td>\n",
       "      <td>15019.8882</td>\n",
       "      <td>61520.0</td>\n",
       "    </tr>\n",
       "  </tbody>\n",
       "</table>\n",
       "</div>"
      ],
      "text/plain": [
       "                                     mean         std   0%  25.0%  50.0%  \\\n",
       "Users reviews written            2.964589    4.854616  1.0    1.0    1.0   \n",
       "Organisations reviews received  60.429564  436.475347  1.0    2.0    8.0   \n",
       "\n",
       "                                75.0%  90.0%  95.0%  99.0%     99.9%  \\\n",
       "Users reviews written             3.0    6.0   10.0   22.0    54.000   \n",
       "Organisations reviews received   32.0  125.0  246.0  785.0  3021.324   \n",
       "\n",
       "                                    99.99%     100%  \n",
       "Users reviews written             117.0000    611.0  \n",
       "Organisations reviews received  15019.8882  61520.0  "
      ]
     },
     "execution_count": 489,
     "metadata": {},
     "output_type": "execute_result"
    },
    {
     "data": {
      "image/png": "[encoded data removed]",
      "text/plain": [
       "<Figure size 1152x432 with 2 Axes>"
      ]
     },
     "metadata": {
      "needs_background": "light"
     },
     "output_type": "display_data"
    },
    {
     "data": {
      "application/javascript": [
       "\n",
       "            setTimeout(function() {\n",
       "                var nbb_cell_id = 489;\n",
       "                var nbb_unformatted_code = \"show_review_counts(users, organisations, reviews)\";\n",
       "                var nbb_formatted_code = \"show_review_counts(users, organisations, reviews)\";\n",
       "                var nbb_cells = Jupyter.notebook.get_cells();\n",
       "                for (var i = 0; i < nbb_cells.length; ++i) {\n",
       "                    if (nbb_cells[i].input_prompt_number == nbb_cell_id) {\n",
       "                        if (nbb_cells[i].get_text() == nbb_unformatted_code) {\n",
       "                             nbb_cells[i].set_text(nbb_formatted_code);\n",
       "                        }\n",
       "                        break;\n",
       "                    }\n",
       "                }\n",
       "            }, 500);\n",
       "            "
      ],
      "text/plain": [
       "<IPython.core.display.Javascript object>"
      ]
     },
     "metadata": {},
     "output_type": "display_data"
    }
   ],
   "source": [
    "show_review_counts(users, organisations, reviews)"
   ]
  },
  {
   "cell_type": "markdown",
   "metadata": {
    "ExecuteTime": {
     "end_time": "2022-07-31T11:31:58.640951Z",
     "start_time": "2022-07-31T11:31:58.634365Z"
    }
   },
   "source": [
    "* Предложите стратегии фильтрации данных."
   ]
  },
  {
   "cell_type": "markdown",
   "metadata": {},
   "source": [
    "Отбросить организации, у которых мало оценок и все они негативные. Это наименее полезные для нас организации, поскольку они одновременно не дают много информации о взаимных интересах пользователей, и не пригодятся для конечных рекомендаций.\n",
    "\n",
    "Реализация этой стратегии может выглядеть так: мы сортируем организации по значению функции полезности\n",
    "\n",
    "$$f(\\text{organisation}) = (\\text{rating count})(1 + \\text{rating std})^\\alpha (\\text{mean rating})^\\beta$$\n",
    "\n",
    "И отсекаем $\\gamma$ первых организаций, где $\\alpha, \\beta$ и $\\gamma$ подбираются по нашим предпочтениям."
   ]
  },
  {
   "cell_type": "markdown",
   "metadata": {
    "ExecuteTime": {
     "end_time": "2022-07-31T12:52:14.901038Z",
     "start_time": "2022-07-31T12:52:14.887694Z"
    }
   },
   "source": [
    "* Во вторую очередь нас будут интересовать атрибуты организаций: aspects, features, rubrics. Проанализируйте эти таблицы. Какие признаки для описания организаций и пользователей из них можно извлечь?"
   ]
  },
  {
   "cell_type": "markdown",
   "metadata": {},
   "source": [
    "Эти таблицы содержат текстовые описания, так что можно взять их эмбединги или обучить латентные векторные представления, либо кластеризовать и взять метки кластеров, и использовать все это в качестве дополнительных признаков."
   ]
  },
  {
   "cell_type": "markdown",
   "metadata": {},
   "source": [
    "---\n",
    "\n",
    "**(1 балла) Задание 2.** Организация валидации.\n",
    "\n",
    "Как вы помните, обучающее множество собрано за X = 1277 дней, тестовое множество – за последующие Y = 107 дней.\n",
    "\n",
    "Следовательно нам необходимо организовать у себя валидацию схожим образом.\n",
    "Раз мы будем еще и осуществлять выбор моделей, то следует произвести расщепление по времени на 3 группы train validation и holdout.\n",
    "\n",
    "Как уже говорилось на семинаре, для повышения качества локальной валидации, можно сделать скользящую валидацию. В самой лабораторной работе мы так делать не будем, но для конкурса имейте это в виду.\n"
   ]
  },
  {
   "cell_type": "code",
   "execution_count": 546,
   "metadata": {
    "ExecuteTime": {
     "end_time": "2022-08-02T07:29:35.836653Z",
     "start_time": "2022-08-02T07:29:35.818585Z"
    }
   },
   "outputs": [
    {
     "data": {
      "application/javascript": [
       "\n",
       "            setTimeout(function() {\n",
       "                var nbb_cell_id = 546;\n",
       "                var nbb_unformatted_code = \"def split_by_column(df, sizes, column_name):\\n    cumulative_sizes = np.cumsum([0] + sizes)\\n    split_edges = [int(s * len(df)) for s in cumulative_sizes]\\n    sorted_df = df.sort_values(column_name)\\n    splits = [sorted_df[begin :end] for begin, end in zip(split_edges, split_edges[1:])]\\n    return splits\";\n",
       "                var nbb_formatted_code = \"def split_by_column(df, sizes, column_name):\\n    cumulative_sizes = np.cumsum([0] + sizes)\\n    split_edges = [int(s * len(df)) for s in cumulative_sizes]\\n    sorted_df = df.sort_values(column_name)\\n    splits = [sorted_df[begin:end] for begin, end in zip(split_edges, split_edges[1:])]\\n    return splits\";\n",
       "                var nbb_cells = Jupyter.notebook.get_cells();\n",
       "                for (var i = 0; i < nbb_cells.length; ++i) {\n",
       "                    if (nbb_cells[i].input_prompt_number == nbb_cell_id) {\n",
       "                        if (nbb_cells[i].get_text() == nbb_unformatted_code) {\n",
       "                             nbb_cells[i].set_text(nbb_formatted_code);\n",
       "                        }\n",
       "                        break;\n",
       "                    }\n",
       "                }\n",
       "            }, 500);\n",
       "            "
      ],
      "text/plain": [
       "<IPython.core.display.Javascript object>"
      ]
     },
     "metadata": {},
     "output_type": "display_data"
    }
   ],
   "source": [
    "def split_by_column(df, sizes, column_name):\n",
    "    cumulative_sizes = np.cumsum([0] + sizes)\n",
    "    split_edges = [int(s * len(df)) for s in cumulative_sizes]\n",
    "    sorted_df = df.sort_values(column_name)\n",
    "    splits = [sorted_df[b:e] for b, e in zip(split_edges, split_edges[1:])]\n",
    "    return splits"
   ]
  },
  {
   "cell_type": "code",
   "execution_count": 539,
   "metadata": {
    "ExecuteTime": {
     "end_time": "2022-08-02T07:21:51.182010Z",
     "start_time": "2022-08-02T07:21:49.910679Z"
    }
   },
   "outputs": [
    {
     "data": {
      "application/javascript": [
       "\n",
       "            setTimeout(function() {\n",
       "                var nbb_cell_id = 539;\n",
       "                var nbb_unformatted_code = \"review_splits = split_by_column(reviews, sizes=[0.7, 0.15, 0.15], column_name=\\\"ts\\\")\";\n",
       "                var nbb_formatted_code = \"review_splits = split_by_column(reviews, sizes=[0.7, 0.15, 0.15], column_name=\\\"ts\\\")\";\n",
       "                var nbb_cells = Jupyter.notebook.get_cells();\n",
       "                for (var i = 0; i < nbb_cells.length; ++i) {\n",
       "                    if (nbb_cells[i].input_prompt_number == nbb_cell_id) {\n",
       "                        if (nbb_cells[i].get_text() == nbb_unformatted_code) {\n",
       "                             nbb_cells[i].set_text(nbb_formatted_code);\n",
       "                        }\n",
       "                        break;\n",
       "                    }\n",
       "                }\n",
       "            }, 500);\n",
       "            "
      ],
      "text/plain": [
       "<IPython.core.display.Javascript object>"
      ]
     },
     "metadata": {},
     "output_type": "display_data"
    }
   ],
   "source": [
    "review_splits = split_by_column(reviews, sizes=[0.7, 0.15, 0.15], column_name=\"ts\")"
   ]
  },
  {
   "cell_type": "markdown",
   "metadata": {},
   "source": [
    "**(0.5 балла) Задание 3.** Базовые решения.\n",
    "\n",
    "Сделаем базовые решения:\n",
    "  * Для каждого пользователя выдаём 20 случайных организаций\n",
    "  * Для каждого пользователя выдаём самые популярные организации в неродном городе"
   ]
  },
  {
   "cell_type": "code",
   "execution_count": 609,
   "metadata": {
    "ExecuteTime": {
     "end_time": "2022-08-02T08:28:54.688344Z",
     "start_time": "2022-08-02T08:28:54.649018Z"
    }
   },
   "outputs": [
    {
     "data": {
      "application/javascript": [
       "\n",
       "            setTimeout(function() {\n",
       "                var nbb_cell_id = 609;\n",
       "                var nbb_unformatted_code = \"class Predictor(abc.ABC):\\n    def __init__(self, users, organisations, reviews, predict_size=20):\\n        self.users = users\\n        self.organisations = organisations\\n        self.reviews = reviews\\n        self.predict_size = predict_size\\n        self.setup()\\n\\n    def setup(self):\\n        ...\\n\\n    @abc.abstractmethod\\n    def predict(self, user_ids):\\n        ...\\n\\n\\nclass RandomPredictor(Predictor):\\n    def predict(self, user_ids):\\n        return np.random.choice(\\n            self.organisations.index, size=(len(user_ids), self.predict_size)\\n        )\\n\\n\\nclass PopularPredictor(Predictor):\\n    def setup(self):\\n        self.popular_foreign_organisations_for_home_city = {}\\n        organisations = self.organisations.join(self.reviews.groupby(\\\"org_id\\\").size().rename(\\\"popularity\\\"))\\n        for city in organisations[\\\"city\\\"].unique():\\n            self.popular_foreign_organisations_for_home_city[city] = (\\n                organisations.query(f\\\"city != '{city}'\\\")\\n                .sort_values(\\\"popularity\\\", ascending=False)\\n                .index[: self.predict_size]\\n                .to_numpy()\\n            )\\n\\n    def predict(self, user_ids):\\n        return (\\n            self.users.loc[user_ids][\\\"city\\\"]\\n            .map(self.popular_foreign_organisations_for_home_city)\\n            .values\\n        )\";\n",
       "                var nbb_formatted_code = \"class Predictor(abc.ABC):\\n    def __init__(self, users, organisations, reviews, predict_size=20):\\n        self.users = users\\n        self.organisations = organisations\\n        self.reviews = reviews\\n        self.predict_size = predict_size\\n        self.setup()\\n\\n    def setup(self):\\n        ...\\n\\n    @abc.abstractmethod\\n    def predict(self, user_ids):\\n        ...\\n\\n\\nclass RandomPredictor(Predictor):\\n    def predict(self, user_ids):\\n        return np.random.choice(\\n            self.organisations.index, size=(len(user_ids), self.predict_size)\\n        )\\n\\n\\nclass PopularPredictor(Predictor):\\n    def setup(self):\\n        self.popular_foreign_organisations_for_home_city = {}\\n        organisations = self.organisations.join(\\n            self.reviews.groupby(\\\"org_id\\\").size().rename(\\\"popularity\\\")\\n        )\\n        for city in organisations[\\\"city\\\"].unique():\\n            self.popular_foreign_organisations_for_home_city[city] = (\\n                organisations.query(f\\\"city != '{city}'\\\")\\n                .sort_values(\\\"popularity\\\", ascending=False)\\n                .index[: self.predict_size]\\n                .to_numpy()\\n            )\\n\\n    def predict(self, user_ids):\\n        return (\\n            self.users.loc[user_ids][\\\"city\\\"]\\n            .map(self.popular_foreign_organisations_for_home_city)\\n            .values\\n        )\";\n",
       "                var nbb_cells = Jupyter.notebook.get_cells();\n",
       "                for (var i = 0; i < nbb_cells.length; ++i) {\n",
       "                    if (nbb_cells[i].input_prompt_number == nbb_cell_id) {\n",
       "                        if (nbb_cells[i].get_text() == nbb_unformatted_code) {\n",
       "                             nbb_cells[i].set_text(nbb_formatted_code);\n",
       "                        }\n",
       "                        break;\n",
       "                    }\n",
       "                }\n",
       "            }, 500);\n",
       "            "
      ],
      "text/plain": [
       "<IPython.core.display.Javascript object>"
      ]
     },
     "metadata": {},
     "output_type": "display_data"
    }
   ],
   "source": [
    "class Predictor(abc.ABC):\n",
    "    def __init__(self, users, organisations, reviews, predict_size=20):\n",
    "        self.users = users\n",
    "        self.organisations = organisations\n",
    "        self.reviews = reviews\n",
    "        self.predict_size = predict_size\n",
    "        self.setup()\n",
    "\n",
    "    def setup(self):\n",
    "        ...\n",
    "\n",
    "    @abc.abstractmethod\n",
    "    def predict(self, user_ids):\n",
    "        ...\n",
    "\n",
    "\n",
    "class RandomPredictor(Predictor):\n",
    "    def predict(self, user_ids):\n",
    "        return np.random.choice(\n",
    "            self.organisations.index, size=(len(user_ids), self.predict_size)\n",
    "        )\n",
    "\n",
    "\n",
    "class PopularPredictor(Predictor):\n",
    "    def setup(self):\n",
    "        self.popular_foreign_organisations_for_home_city = {}\n",
    "        organisations = self.organisations.join(\n",
    "            self.reviews.groupby(\"org_id\").size().rename(\"popularity\")\n",
    "        )\n",
    "        for city in organisations[\"city\"].unique():\n",
    "            self.popular_foreign_organisations_for_home_city[city] = (\n",
    "                organisations.query(f\"city != '{city}'\")\n",
    "                .sort_values(\"popularity\", ascending=False)\n",
    "                .index[: self.predict_size]\n",
    "                .to_numpy()\n",
    "            )\n",
    "\n",
    "    def predict(self, user_ids):\n",
    "        return (\n",
    "            self.users.loc[user_ids][\"city\"]\n",
    "            .map(self.popular_foreign_organisations_for_home_city)\n",
    "            .values\n",
    "        )"
   ]
  },
  {
   "cell_type": "markdown",
   "metadata": {},
   "source": [
    "**(1.0 балла) Задание 4.** Метрики качества.\n",
    "\n",
    "Напомним, что у нас бинарная релевантнотсь на основе оценки вычисляется как предикат **оценка больше, чем 3**.\n",
    "\n",
    "Реализуйте набор метрик качества (можете оборачивать внешние паекты):\n",
    "\n",
    "    * MNAP@20 (как в описании соревнования)\n",
    "    * HitRate ( = 1, если среди рекомендаций есть хотя бы одна релевантная и 0 иначе)\n",
    "    * MRR@20 ( обратная позиция первой релевантной рекомендации из списка рекомендаций длины K. )\n",
    "    * Coverage (доля item-ов, учитываемых в рекомендациях)\n",
    "    * Surprisal(см. ниже) \n",
    "\n",
    "\n",
    "### Surprisal\n",
    "Посмотирм, насколько наши рекомендации хороши с точки зрения новизны для пользователя, в качестве новизны будем рассматривать \"непопулярность\" айтемов в рекомендациях.\n",
    "\n",
    "Будем рассматривать собственную информацию item-а как меру его новизны.\n",
    "\n",
    "$$selfInformation(i) = -\\log_2 \\frac{|u_i|}{|N|}$$, \n",
    "где \n",
    "$i$ - объект, $|N|$ - число взаимодействий в обучающей выборке,  $|u_i|$ - число пользователей, взаимодействовавших с объектом в обучающей выборке.\n",
    "\n",
    "После подсчета собственной информации усредним значения собственной информации в рекомендациях пользователя.\n",
    "\n",
    "Чтобы получить значения от 0 до 1, разделим значение метрики для пользователя на максимально возможно значение метрики равное $log_2 N$.\n",
    "\n",
    "$$Surprisal(u)@k = \\frac{1}{k \\cdot log_2 N} \\sum_{j = 1}^{k}selfInformation(i_{u,j})$$\n",
    "\n",
    "где $i_{u,j}$ это j-й объект, который мы порекомендововали пользователю.\n",
    "\n",
    "Получившаяся метрика похожа на энтропию Шеннона:\n",
    "$$H = - K \\sum_{i\\in R}{p_i log p_i}$$\n",
    "\n",
    "\n",
    "Результа усредним по пользователям.\n",
    "\n",
    "### Что нужно сделать\n",
    "    \n",
    "  * Создайте функцию, которая генерирует словарь с метриками, по предоставленному решению.\n",
    "\n",
    "  * Оцените baseline-решения на валидации."
   ]
  },
  {
   "cell_type": "code",
   "execution_count": 613,
   "metadata": {
    "ExecuteTime": {
     "end_time": "2022-08-02T08:55:38.502597Z",
     "start_time": "2022-08-02T08:55:38.491639Z"
    }
   },
   "outputs": [
    {
     "data": {
      "text/html": [
       "<div>\n",
       "<style scoped>\n",
       "    .dataframe tbody tr th:only-of-type {\n",
       "        vertical-align: middle;\n",
       "    }\n",
       "\n",
       "    .dataframe tbody tr th {\n",
       "        vertical-align: top;\n",
       "    }\n",
       "\n",
       "    .dataframe thead th {\n",
       "        text-align: right;\n",
       "    }\n",
       "</style>\n",
       "<table border=\"1\" class=\"dataframe\">\n",
       "  <thead>\n",
       "    <tr style=\"text-align: right;\">\n",
       "      <th></th>\n",
       "      <th>user_id</th>\n",
       "      <th>org_id</th>\n",
       "      <th>rating</th>\n",
       "      <th>ts</th>\n",
       "      <th>aspects</th>\n",
       "    </tr>\n",
       "  </thead>\n",
       "  <tbody>\n",
       "    <tr>\n",
       "      <th>0</th>\n",
       "      <td>5969205021826098131</td>\n",
       "      <td>15999570556361329805</td>\n",
       "      <td>1.0</td>\n",
       "      <td>279</td>\n",
       "      <td>NaN</td>\n",
       "    </tr>\n",
       "    <tr>\n",
       "      <th>1</th>\n",
       "      <td>11419028914633614269</td>\n",
       "      <td>15999570556361329805</td>\n",
       "      <td>1.0</td>\n",
       "      <td>391</td>\n",
       "      <td>NaN</td>\n",
       "    </tr>\n",
       "    <tr>\n",
       "      <th>2</th>\n",
       "      <td>11971839180212507821</td>\n",
       "      <td>15999570556361329805</td>\n",
       "      <td>1.0</td>\n",
       "      <td>419</td>\n",
       "      <td>NaN</td>\n",
       "    </tr>\n",
       "    <tr>\n",
       "      <th>3</th>\n",
       "      <td>3849350083734153986</td>\n",
       "      <td>15999570556361329805</td>\n",
       "      <td>1.0</td>\n",
       "      <td>641</td>\n",
       "      <td>NaN</td>\n",
       "    </tr>\n",
       "    <tr>\n",
       "      <th>4</th>\n",
       "      <td>6903065064138938065</td>\n",
       "      <td>15999570556361329805</td>\n",
       "      <td>1.0</td>\n",
       "      <td>654</td>\n",
       "      <td>NaN</td>\n",
       "    </tr>\n",
       "  </tbody>\n",
       "</table>\n",
       "</div>"
      ],
      "text/plain": [
       "                user_id                org_id  rating   ts aspects\n",
       "0   5969205021826098131  15999570556361329805     1.0  279     NaN\n",
       "1  11419028914633614269  15999570556361329805     1.0  391     NaN\n",
       "2  11971839180212507821  15999570556361329805     1.0  419     NaN\n",
       "3   3849350083734153986  15999570556361329805     1.0  641     NaN\n",
       "4   6903065064138938065  15999570556361329805     1.0  654     NaN"
      ]
     },
     "execution_count": 613,
     "metadata": {},
     "output_type": "execute_result"
    },
    {
     "data": {
      "application/javascript": [
       "\n",
       "            setTimeout(function() {\n",
       "                var nbb_cell_id = 613;\n",
       "                var nbb_unformatted_code = \"reviews.head()\";\n",
       "                var nbb_formatted_code = \"reviews.head()\";\n",
       "                var nbb_cells = Jupyter.notebook.get_cells();\n",
       "                for (var i = 0; i < nbb_cells.length; ++i) {\n",
       "                    if (nbb_cells[i].input_prompt_number == nbb_cell_id) {\n",
       "                        if (nbb_cells[i].get_text() == nbb_unformatted_code) {\n",
       "                             nbb_cells[i].set_text(nbb_formatted_code);\n",
       "                        }\n",
       "                        break;\n",
       "                    }\n",
       "                }\n",
       "            }, 500);\n",
       "            "
      ],
      "text/plain": [
       "<IPython.core.display.Javascript object>"
      ]
     },
     "metadata": {},
     "output_type": "display_data"
    }
   ],
   "source": [
    "reviews.head()"
   ]
  },
  {
   "cell_type": "code",
   "execution_count": 612,
   "metadata": {
    "ExecuteTime": {
     "end_time": "2022-08-02T08:54:43.711778Z",
     "start_time": "2022-08-02T08:54:43.678023Z"
    }
   },
   "outputs": [
    {
     "ename": "AttributeError",
     "evalue": "'DataFrameGroupBy' object has no attribute 'loc'",
     "output_type": "error",
     "traceback": [
      "\u001b[0;31m---------------------------------------------------------------------------\u001b[0m",
      "\u001b[0;31mAttributeError\u001b[0m                            Traceback (most recent call last)",
      "Input \u001b[0;32mIn [612]\u001b[0m, in \u001b[0;36m<cell line: 1>\u001b[0;34m()\u001b[0m\n\u001b[0;32m----> 1\u001b[0m \u001b[43mdf\u001b[49m\u001b[38;5;241;43m.\u001b[39;49m\u001b[43mgroupby\u001b[49m\u001b[43m(\u001b[49m\u001b[38;5;124;43m\"\u001b[39;49m\u001b[38;5;124;43mcity\u001b[39;49m\u001b[38;5;124;43m\"\u001b[39;49m\u001b[43m)\u001b[49m\u001b[38;5;241;43m.\u001b[39;49m\u001b[43mloc\u001b[49m[\u001b[38;5;241m0\u001b[39m]\n",
      "File \u001b[0;32m/external2/dkkoshman/venv3.10/lib/python3.10/site-packages/pandas/core/groupby/groupby.py:904\u001b[0m, in \u001b[0;36mGroupBy.__getattr__\u001b[0;34m(self, attr)\u001b[0m\n\u001b[1;32m    901\u001b[0m \u001b[38;5;28;01mif\u001b[39;00m attr \u001b[38;5;129;01min\u001b[39;00m \u001b[38;5;28mself\u001b[39m\u001b[38;5;241m.\u001b[39mobj:\n\u001b[1;32m    902\u001b[0m     \u001b[38;5;28;01mreturn\u001b[39;00m \u001b[38;5;28mself\u001b[39m[attr]\n\u001b[0;32m--> 904\u001b[0m \u001b[38;5;28;01mraise\u001b[39;00m \u001b[38;5;167;01mAttributeError\u001b[39;00m(\n\u001b[1;32m    905\u001b[0m     \u001b[38;5;124mf\u001b[39m\u001b[38;5;124m\"\u001b[39m\u001b[38;5;124m'\u001b[39m\u001b[38;5;132;01m{\u001b[39;00m\u001b[38;5;28mtype\u001b[39m(\u001b[38;5;28mself\u001b[39m)\u001b[38;5;241m.\u001b[39m\u001b[38;5;18m__name__\u001b[39m\u001b[38;5;132;01m}\u001b[39;00m\u001b[38;5;124m'\u001b[39m\u001b[38;5;124m object has no attribute \u001b[39m\u001b[38;5;124m'\u001b[39m\u001b[38;5;132;01m{\u001b[39;00mattr\u001b[38;5;132;01m}\u001b[39;00m\u001b[38;5;124m'\u001b[39m\u001b[38;5;124m\"\u001b[39m\n\u001b[1;32m    906\u001b[0m )\n",
      "\u001b[0;31mAttributeError\u001b[0m: 'DataFrameGroupBy' object has no attribute 'loc'"
     ]
    },
    {
     "data": {
      "application/javascript": [
       "\n",
       "            setTimeout(function() {\n",
       "                var nbb_cell_id = 612;\n",
       "                var nbb_unformatted_code = \"df.groupby(\\\"city\\\").loc[0]\";\n",
       "                var nbb_formatted_code = \"df.groupby(\\\"city\\\").loc[0]\";\n",
       "                var nbb_cells = Jupyter.notebook.get_cells();\n",
       "                for (var i = 0; i < nbb_cells.length; ++i) {\n",
       "                    if (nbb_cells[i].input_prompt_number == nbb_cell_id) {\n",
       "                        if (nbb_cells[i].get_text() == nbb_unformatted_code) {\n",
       "                             nbb_cells[i].set_text(nbb_formatted_code);\n",
       "                        }\n",
       "                        break;\n",
       "                    }\n",
       "                }\n",
       "            }, 500);\n",
       "            "
      ],
      "text/plain": [
       "<IPython.core.display.Javascript object>"
      ]
     },
     "metadata": {},
     "output_type": "display_data"
    }
   ],
   "source": [
    "df.groupby(\"city\").loc[0]"
   ]
  },
  {
   "cell_type": "code",
   "execution_count": 645,
   "metadata": {
    "ExecuteTime": {
     "end_time": "2022-08-02T09:13:57.420194Z",
     "start_time": "2022-08-02T09:13:57.396951Z"
    }
   },
   "outputs": [
    {
     "data": {
      "application/javascript": [
       "\n",
       "            setTimeout(function() {\n",
       "                var nbb_cell_id = 645;\n",
       "                var nbb_unformatted_code = \"class Metrics:\\n    def __init__(self, users, organisations, reviews):\\n        self.users = users\\n        self.organisations = organisations\\n        self.reviews = reviews\\n\\n    def precision(self, user_id, org_ids):\\n        return self.reviews.query(\\n            \\\"user_id == @user_id and org_id in @org_ids and rating > 3\\\"\\n        ).sum()['rating']\\n\\n    def precision_at_k(self, user_ids, predicted_org_ids, k=20):\\n        f = pd.DataFrame(data=predicted_org_ids, index=user_ids)\\n        return (\\n            self.reviews.query(\\\"user_id in @user_ids\\\")\\n            .groupby(\\\"user_id\\\")\\n            .apply(lambda s: self.precision(user_id=s.name, org_ids=f.loc[s.name]) / k)\\n        )\";\n",
       "                var nbb_formatted_code = \"class Metrics:\\n    def __init__(self, users, organisations, reviews):\\n        self.users = users\\n        self.organisations = organisations\\n        self.reviews = reviews\\n\\n    def precision(self, user_id, org_ids):\\n        return self.reviews.query(\\n            \\\"user_id == @user_id and org_id in @org_ids and rating > 3\\\"\\n        ).sum()[\\\"rating\\\"]\\n\\n    def precision_at_k(self, user_ids, predicted_org_ids, k=20):\\n        f = pd.DataFrame(data=predicted_org_ids, index=user_ids)\\n        return (\\n            self.reviews.query(\\\"user_id in @user_ids\\\")\\n            .groupby(\\\"user_id\\\")\\n            .apply(lambda s: self.precision(user_id=s.name, org_ids=f.loc[s.name]) / k)\\n        )\";\n",
       "                var nbb_cells = Jupyter.notebook.get_cells();\n",
       "                for (var i = 0; i < nbb_cells.length; ++i) {\n",
       "                    if (nbb_cells[i].input_prompt_number == nbb_cell_id) {\n",
       "                        if (nbb_cells[i].get_text() == nbb_unformatted_code) {\n",
       "                             nbb_cells[i].set_text(nbb_formatted_code);\n",
       "                        }\n",
       "                        break;\n",
       "                    }\n",
       "                }\n",
       "            }, 500);\n",
       "            "
      ],
      "text/plain": [
       "<IPython.core.display.Javascript object>"
      ]
     },
     "metadata": {},
     "output_type": "display_data"
    }
   ],
   "source": [
    "class Metrics:\n",
    "    def __init__(self, users, organisations, reviews):\n",
    "        self.users = users\n",
    "        self.organisations = organisations\n",
    "        self.reviews = reviews\n",
    "\n",
    "    def precision(self, user_id, org_ids):\n",
    "        return self.reviews.query(\n",
    "            \"user_id == @user_id and org_id in @org_ids and rating > 3\"\n",
    "        ).sum()[\"rating\"]\n",
    "\n",
    "    def precision_at_k(self, user_ids, predicted_org_ids, k=20):\n",
    "        f = pd.DataFrame(data=predicted_org_ids, index=user_ids)\n",
    "        return (\n",
    "            self.reviews.query(\"user_id in @user_ids\")\n",
    "            .groupby(\"user_id\")\n",
    "            .apply(lambda s: self.precision(user_id=s.name, org_ids=f.loc[s.name]) / k)\n",
    "        )"
   ]
  },
  {
   "cell_type": "code",
   "execution_count": null,
   "metadata": {},
   "outputs": [],
   "source": []
  },
  {
   "cell_type": "code",
   "execution_count": 646,
   "metadata": {
    "ExecuteTime": {
     "end_time": "2022-08-02T09:13:57.613090Z",
     "start_time": "2022-08-02T09:13:57.589192Z"
    },
    "collapsed": true
   },
   "outputs": [
    {
     "data": {
      "text/html": [
       "<div>\n",
       "<style scoped>\n",
       "    .dataframe tbody tr th:only-of-type {\n",
       "        vertical-align: middle;\n",
       "    }\n",
       "\n",
       "    .dataframe tbody tr th {\n",
       "        vertical-align: top;\n",
       "    }\n",
       "\n",
       "    .dataframe thead th {\n",
       "        text-align: right;\n",
       "    }\n",
       "</style>\n",
       "<table border=\"1\" class=\"dataframe\">\n",
       "  <thead>\n",
       "    <tr style=\"text-align: right;\">\n",
       "      <th></th>\n",
       "      <th>0</th>\n",
       "      <th>1</th>\n",
       "      <th>2</th>\n",
       "      <th>3</th>\n",
       "      <th>4</th>\n",
       "      <th>5</th>\n",
       "      <th>6</th>\n",
       "      <th>7</th>\n",
       "      <th>8</th>\n",
       "      <th>9</th>\n",
       "      <th>10</th>\n",
       "      <th>11</th>\n",
       "      <th>12</th>\n",
       "      <th>13</th>\n",
       "      <th>14</th>\n",
       "      <th>15</th>\n",
       "      <th>16</th>\n",
       "      <th>17</th>\n",
       "      <th>18</th>\n",
       "      <th>19</th>\n",
       "    </tr>\n",
       "    <tr>\n",
       "      <th>user_id</th>\n",
       "      <th></th>\n",
       "      <th></th>\n",
       "      <th></th>\n",
       "      <th></th>\n",
       "      <th></th>\n",
       "      <th></th>\n",
       "      <th></th>\n",
       "      <th></th>\n",
       "      <th></th>\n",
       "      <th></th>\n",
       "      <th></th>\n",
       "      <th></th>\n",
       "      <th></th>\n",
       "      <th></th>\n",
       "      <th></th>\n",
       "      <th></th>\n",
       "      <th></th>\n",
       "      <th></th>\n",
       "      <th></th>\n",
       "      <th></th>\n",
       "    </tr>\n",
       "  </thead>\n",
       "  <tbody>\n",
       "    <tr>\n",
       "      <th>12735004856856244189</th>\n",
       "      <td>9260840547554909025</td>\n",
       "      <td>4615799622420927129</td>\n",
       "      <td>1303045138753861621</td>\n",
       "      <td>4002753953944129496</td>\n",
       "      <td>7104328276125685835</td>\n",
       "      <td>18116244555659362135</td>\n",
       "      <td>1880901118707220512</td>\n",
       "      <td>2601780510113097923</td>\n",
       "      <td>15968435144720843186</td>\n",
       "      <td>16944290901644877442</td>\n",
       "      <td>11387625357803259538</td>\n",
       "      <td>5468520444917306480</td>\n",
       "      <td>182413508746714285</td>\n",
       "      <td>14902177973430159180</td>\n",
       "      <td>12522794382580654618</td>\n",
       "      <td>11002324904831433345</td>\n",
       "      <td>8687621888167902242</td>\n",
       "      <td>4419887685123091374</td>\n",
       "      <td>6598986148730224003</td>\n",
       "      <td>8852967842776189876</td>\n",
       "    </tr>\n",
       "    <tr>\n",
       "      <th>13776338520332531455</th>\n",
       "      <td>16791460456395829217</td>\n",
       "      <td>11130180254698225265</td>\n",
       "      <td>8156428698669917781</td>\n",
       "      <td>11675672831319118789</td>\n",
       "      <td>17271649915503956113</td>\n",
       "      <td>99952334861167038</td>\n",
       "      <td>5318827681994980342</td>\n",
       "      <td>15788038873305572283</td>\n",
       "      <td>8063308152186038401</td>\n",
       "      <td>2779241192918786786</td>\n",
       "      <td>16159958173526955153</td>\n",
       "      <td>12509029874365286967</td>\n",
       "      <td>5143511808683667744</td>\n",
       "      <td>1216794336764645534</td>\n",
       "      <td>3100234922139091489</td>\n",
       "      <td>14134382852043588333</td>\n",
       "      <td>13531272106260890169</td>\n",
       "      <td>5780863577158557749</td>\n",
       "      <td>13025342072003194122</td>\n",
       "      <td>14169958441648324877</td>\n",
       "    </tr>\n",
       "    <tr>\n",
       "      <th>15114084219042454101</th>\n",
       "      <td>3380087438329507031</td>\n",
       "      <td>3259749978605368748</td>\n",
       "      <td>9852271494117177473</td>\n",
       "      <td>12271531267702780049</td>\n",
       "      <td>8850033725933040204</td>\n",
       "      <td>4863583757604419932</td>\n",
       "      <td>9338388301824389985</td>\n",
       "      <td>12919490193946104588</td>\n",
       "      <td>9343124961673809578</td>\n",
       "      <td>9662774112195933822</td>\n",
       "      <td>5451705875141791218</td>\n",
       "      <td>8654868747871321493</td>\n",
       "      <td>791998485180798243</td>\n",
       "      <td>14247701012006193422</td>\n",
       "      <td>11820483642743212896</td>\n",
       "      <td>12458691864921036268</td>\n",
       "      <td>15092343549189553915</td>\n",
       "      <td>11868268526799586973</td>\n",
       "      <td>12347855685695338081</td>\n",
       "      <td>6525676573853076053</td>\n",
       "    </tr>\n",
       "    <tr>\n",
       "      <th>18069716857179407490</th>\n",
       "      <td>2819398444444116130</td>\n",
       "      <td>1733270427946127720</td>\n",
       "      <td>15026756333764794914</td>\n",
       "      <td>11412958104991634464</td>\n",
       "      <td>8314234182732445928</td>\n",
       "      <td>1735113669228771876</td>\n",
       "      <td>18017430857209797812</td>\n",
       "      <td>14158337895066800891</td>\n",
       "      <td>16738494661977560638</td>\n",
       "      <td>5299157254090994579</td>\n",
       "      <td>15744459916273398897</td>\n",
       "      <td>8189881073973857504</td>\n",
       "      <td>17370885386271216584</td>\n",
       "      <td>5020319261206858544</td>\n",
       "      <td>12592813891048138707</td>\n",
       "      <td>7178342793001686237</td>\n",
       "      <td>18318069631309144938</td>\n",
       "      <td>10763288711966091546</td>\n",
       "      <td>8526398446705228815</td>\n",
       "      <td>12239343030849204437</td>\n",
       "    </tr>\n",
       "    <tr>\n",
       "      <th>4630864276989162245</th>\n",
       "      <td>5597851748398359526</td>\n",
       "      <td>1403416195891798320</td>\n",
       "      <td>10970766495739143184</td>\n",
       "      <td>4772308481469816652</td>\n",
       "      <td>3052647463699248556</td>\n",
       "      <td>3799503880627864924</td>\n",
       "      <td>7509033045150730522</td>\n",
       "      <td>1151323008464007132</td>\n",
       "      <td>3308598328784931897</td>\n",
       "      <td>13356235993799858731</td>\n",
       "      <td>3440876668335826733</td>\n",
       "      <td>16030380420517162209</td>\n",
       "      <td>5565212466723916670</td>\n",
       "      <td>13929686789925465899</td>\n",
       "      <td>2639839453692403367</td>\n",
       "      <td>15223181333289983253</td>\n",
       "      <td>12686335177729025380</td>\n",
       "      <td>9914948735140068958</td>\n",
       "      <td>14242930151936847013</td>\n",
       "      <td>8474184705792214793</td>\n",
       "    </tr>\n",
       "    <tr>\n",
       "      <th>11617835983188089768</th>\n",
       "      <td>13246399462016188906</td>\n",
       "      <td>16571714021774948464</td>\n",
       "      <td>6509745257993182777</td>\n",
       "      <td>5001176799655644755</td>\n",
       "      <td>3283785957266768933</td>\n",
       "      <td>7990258152090303610</td>\n",
       "      <td>9341266069716498760</td>\n",
       "      <td>6248806338696616554</td>\n",
       "      <td>13702117328106227922</td>\n",
       "      <td>11615933181637341662</td>\n",
       "      <td>385072876382483311</td>\n",
       "      <td>1337021233643201200</td>\n",
       "      <td>17662684569129497551</td>\n",
       "      <td>14166061749012467549</td>\n",
       "      <td>4594995631498172557</td>\n",
       "      <td>3902298890690882052</td>\n",
       "      <td>15155915354348211429</td>\n",
       "      <td>10540089170084709760</td>\n",
       "      <td>10773635972175557166</td>\n",
       "      <td>6103288811264462886</td>\n",
       "    </tr>\n",
       "    <tr>\n",
       "      <th>1185256209442259691</th>\n",
       "      <td>2302285924455863221</td>\n",
       "      <td>5028742492672782332</td>\n",
       "      <td>13049002570367234443</td>\n",
       "      <td>16396969280951334654</td>\n",
       "      <td>10733798018660904490</td>\n",
       "      <td>7229603085107028835</td>\n",
       "      <td>11000179435440900296</td>\n",
       "      <td>5106143874954303418</td>\n",
       "      <td>17800837000387284156</td>\n",
       "      <td>744036470111047009</td>\n",
       "      <td>16759886567194945979</td>\n",
       "      <td>7566865111629958743</td>\n",
       "      <td>9487570289861360697</td>\n",
       "      <td>9661210068147375242</td>\n",
       "      <td>12525058062637005689</td>\n",
       "      <td>18394985943028441578</td>\n",
       "      <td>12847812175112564056</td>\n",
       "      <td>910959202343143525</td>\n",
       "      <td>12799204370062962650</td>\n",
       "      <td>9688391855878766376</td>\n",
       "    </tr>\n",
       "    <tr>\n",
       "      <th>1463199750889852452</th>\n",
       "      <td>4699428119149200971</td>\n",
       "      <td>14912662191875735302</td>\n",
       "      <td>15659601663243386617</td>\n",
       "      <td>13071234225828095599</td>\n",
       "      <td>14686126202289057034</td>\n",
       "      <td>5344832325402901137</td>\n",
       "      <td>1074064351548346486</td>\n",
       "      <td>15256153359639617367</td>\n",
       "      <td>2403885380017810798</td>\n",
       "      <td>11780169929305427606</td>\n",
       "      <td>360821951181138013</td>\n",
       "      <td>11507269645148418409</td>\n",
       "      <td>11178463605298814265</td>\n",
       "      <td>6220592967630999435</td>\n",
       "      <td>13397813214991677926</td>\n",
       "      <td>3583713498496685099</td>\n",
       "      <td>3954455331724398066</td>\n",
       "      <td>17692417024390216349</td>\n",
       "      <td>11336810404070521522</td>\n",
       "      <td>7369809619043082253</td>\n",
       "    </tr>\n",
       "    <tr>\n",
       "      <th>1538227614427260888</th>\n",
       "      <td>7869850598313299445</td>\n",
       "      <td>4304650225750731072</td>\n",
       "      <td>6608759296710873949</td>\n",
       "      <td>244779322420052840</td>\n",
       "      <td>4152703346489197022</td>\n",
       "      <td>8351821597044895231</td>\n",
       "      <td>15874911053452839758</td>\n",
       "      <td>8705397074068895641</td>\n",
       "      <td>16580509435714570513</td>\n",
       "      <td>16321096502682161517</td>\n",
       "      <td>2965926843429217789</td>\n",
       "      <td>467724322566227921</td>\n",
       "      <td>13914247086705100430</td>\n",
       "      <td>8658592039859823969</td>\n",
       "      <td>3468526851963413308</td>\n",
       "      <td>2405535805849142785</td>\n",
       "      <td>2750970103745443082</td>\n",
       "      <td>10363654306035071799</td>\n",
       "      <td>837091301665483099</td>\n",
       "      <td>2587149256903699605</td>\n",
       "    </tr>\n",
       "    <tr>\n",
       "      <th>7416629473128854701</th>\n",
       "      <td>13400231393006817781</td>\n",
       "      <td>12741093920004828876</td>\n",
       "      <td>10261683170641136131</td>\n",
       "      <td>14409935987694948971</td>\n",
       "      <td>8144805940925075002</td>\n",
       "      <td>16366334838649224322</td>\n",
       "      <td>13867437923374105256</td>\n",
       "      <td>8331780652354453475</td>\n",
       "      <td>6731262873158290402</td>\n",
       "      <td>8361797093249060643</td>\n",
       "      <td>10837618792833810736</td>\n",
       "      <td>6912522222619985986</td>\n",
       "      <td>11519081901664248075</td>\n",
       "      <td>6848423609691893581</td>\n",
       "      <td>15401549317007417669</td>\n",
       "      <td>2397635312481545029</td>\n",
       "      <td>666882260897075722</td>\n",
       "      <td>12349564176455764306</td>\n",
       "      <td>11417575314595926506</td>\n",
       "      <td>4608524423630188601</td>\n",
       "    </tr>\n",
       "  </tbody>\n",
       "</table>\n",
       "</div>"
      ],
      "text/plain": [
       "                                        0                     1   \\\n",
       "user_id                                                            \n",
       "12735004856856244189   9260840547554909025   4615799622420927129   \n",
       "13776338520332531455  16791460456395829217  11130180254698225265   \n",
       "15114084219042454101   3380087438329507031   3259749978605368748   \n",
       "18069716857179407490   2819398444444116130   1733270427946127720   \n",
       "4630864276989162245    5597851748398359526   1403416195891798320   \n",
       "11617835983188089768  13246399462016188906  16571714021774948464   \n",
       "1185256209442259691    2302285924455863221   5028742492672782332   \n",
       "1463199750889852452    4699428119149200971  14912662191875735302   \n",
       "1538227614427260888    7869850598313299445   4304650225750731072   \n",
       "7416629473128854701   13400231393006817781  12741093920004828876   \n",
       "\n",
       "                                        2                     3   \\\n",
       "user_id                                                            \n",
       "12735004856856244189   1303045138753861621   4002753953944129496   \n",
       "13776338520332531455   8156428698669917781  11675672831319118789   \n",
       "15114084219042454101   9852271494117177473  12271531267702780049   \n",
       "18069716857179407490  15026756333764794914  11412958104991634464   \n",
       "4630864276989162245   10970766495739143184   4772308481469816652   \n",
       "11617835983188089768   6509745257993182777   5001176799655644755   \n",
       "1185256209442259691   13049002570367234443  16396969280951334654   \n",
       "1463199750889852452   15659601663243386617  13071234225828095599   \n",
       "1538227614427260888    6608759296710873949    244779322420052840   \n",
       "7416629473128854701   10261683170641136131  14409935987694948971   \n",
       "\n",
       "                                        4                     5   \\\n",
       "user_id                                                            \n",
       "12735004856856244189   7104328276125685835  18116244555659362135   \n",
       "13776338520332531455  17271649915503956113     99952334861167038   \n",
       "15114084219042454101   8850033725933040204   4863583757604419932   \n",
       "18069716857179407490   8314234182732445928   1735113669228771876   \n",
       "4630864276989162245    3052647463699248556   3799503880627864924   \n",
       "11617835983188089768   3283785957266768933   7990258152090303610   \n",
       "1185256209442259691   10733798018660904490   7229603085107028835   \n",
       "1463199750889852452   14686126202289057034   5344832325402901137   \n",
       "1538227614427260888    4152703346489197022   8351821597044895231   \n",
       "7416629473128854701    8144805940925075002  16366334838649224322   \n",
       "\n",
       "                                        6                     7   \\\n",
       "user_id                                                            \n",
       "12735004856856244189   1880901118707220512   2601780510113097923   \n",
       "13776338520332531455   5318827681994980342  15788038873305572283   \n",
       "15114084219042454101   9338388301824389985  12919490193946104588   \n",
       "18069716857179407490  18017430857209797812  14158337895066800891   \n",
       "4630864276989162245    7509033045150730522   1151323008464007132   \n",
       "11617835983188089768   9341266069716498760   6248806338696616554   \n",
       "1185256209442259691   11000179435440900296   5106143874954303418   \n",
       "1463199750889852452    1074064351548346486  15256153359639617367   \n",
       "1538227614427260888   15874911053452839758   8705397074068895641   \n",
       "7416629473128854701   13867437923374105256   8331780652354453475   \n",
       "\n",
       "                                        8                     9   \\\n",
       "user_id                                                            \n",
       "12735004856856244189  15968435144720843186  16944290901644877442   \n",
       "13776338520332531455   8063308152186038401   2779241192918786786   \n",
       "15114084219042454101   9343124961673809578   9662774112195933822   \n",
       "18069716857179407490  16738494661977560638   5299157254090994579   \n",
       "4630864276989162245    3308598328784931897  13356235993799858731   \n",
       "11617835983188089768  13702117328106227922  11615933181637341662   \n",
       "1185256209442259691   17800837000387284156    744036470111047009   \n",
       "1463199750889852452    2403885380017810798  11780169929305427606   \n",
       "1538227614427260888   16580509435714570513  16321096502682161517   \n",
       "7416629473128854701    6731262873158290402   8361797093249060643   \n",
       "\n",
       "                                        10                    11  \\\n",
       "user_id                                                            \n",
       "12735004856856244189  11387625357803259538   5468520444917306480   \n",
       "13776338520332531455  16159958173526955153  12509029874365286967   \n",
       "15114084219042454101   5451705875141791218   8654868747871321493   \n",
       "18069716857179407490  15744459916273398897   8189881073973857504   \n",
       "4630864276989162245    3440876668335826733  16030380420517162209   \n",
       "11617835983188089768    385072876382483311   1337021233643201200   \n",
       "1185256209442259691   16759886567194945979   7566865111629958743   \n",
       "1463199750889852452     360821951181138013  11507269645148418409   \n",
       "1538227614427260888    2965926843429217789    467724322566227921   \n",
       "7416629473128854701   10837618792833810736   6912522222619985986   \n",
       "\n",
       "                                        12                    13  \\\n",
       "user_id                                                            \n",
       "12735004856856244189    182413508746714285  14902177973430159180   \n",
       "13776338520332531455   5143511808683667744   1216794336764645534   \n",
       "15114084219042454101    791998485180798243  14247701012006193422   \n",
       "18069716857179407490  17370885386271216584   5020319261206858544   \n",
       "4630864276989162245    5565212466723916670  13929686789925465899   \n",
       "11617835983188089768  17662684569129497551  14166061749012467549   \n",
       "1185256209442259691    9487570289861360697   9661210068147375242   \n",
       "1463199750889852452   11178463605298814265   6220592967630999435   \n",
       "1538227614427260888   13914247086705100430   8658592039859823969   \n",
       "7416629473128854701   11519081901664248075   6848423609691893581   \n",
       "\n",
       "                                        14                    15  \\\n",
       "user_id                                                            \n",
       "12735004856856244189  12522794382580654618  11002324904831433345   \n",
       "13776338520332531455   3100234922139091489  14134382852043588333   \n",
       "15114084219042454101  11820483642743212896  12458691864921036268   \n",
       "18069716857179407490  12592813891048138707   7178342793001686237   \n",
       "4630864276989162245    2639839453692403367  15223181333289983253   \n",
       "11617835983188089768   4594995631498172557   3902298890690882052   \n",
       "1185256209442259691   12525058062637005689  18394985943028441578   \n",
       "1463199750889852452   13397813214991677926   3583713498496685099   \n",
       "1538227614427260888    3468526851963413308   2405535805849142785   \n",
       "7416629473128854701   15401549317007417669   2397635312481545029   \n",
       "\n",
       "                                        16                    17  \\\n",
       "user_id                                                            \n",
       "12735004856856244189   8687621888167902242   4419887685123091374   \n",
       "13776338520332531455  13531272106260890169   5780863577158557749   \n",
       "15114084219042454101  15092343549189553915  11868268526799586973   \n",
       "18069716857179407490  18318069631309144938  10763288711966091546   \n",
       "4630864276989162245   12686335177729025380   9914948735140068958   \n",
       "11617835983188089768  15155915354348211429  10540089170084709760   \n",
       "1185256209442259691   12847812175112564056    910959202343143525   \n",
       "1463199750889852452    3954455331724398066  17692417024390216349   \n",
       "1538227614427260888    2750970103745443082  10363654306035071799   \n",
       "7416629473128854701     666882260897075722  12349564176455764306   \n",
       "\n",
       "                                        18                    19  \n",
       "user_id                                                           \n",
       "12735004856856244189   6598986148730224003   8852967842776189876  \n",
       "13776338520332531455  13025342072003194122  14169958441648324877  \n",
       "15114084219042454101  12347855685695338081   6525676573853076053  \n",
       "18069716857179407490   8526398446705228815  12239343030849204437  \n",
       "4630864276989162245   14242930151936847013   8474184705792214793  \n",
       "11617835983188089768  10773635972175557166   6103288811264462886  \n",
       "1185256209442259691   12799204370062962650   9688391855878766376  \n",
       "1463199750889852452   11336810404070521522   7369809619043082253  \n",
       "1538227614427260888     837091301665483099   2587149256903699605  \n",
       "7416629473128854701   11417575314595926506   4608524423630188601  "
      ]
     },
     "execution_count": 646,
     "metadata": {},
     "output_type": "execute_result"
    },
    {
     "data": {
      "application/javascript": [
       "\n",
       "            setTimeout(function() {\n",
       "                var nbb_cell_id = 646;\n",
       "                var nbb_unformatted_code = \"pd.DataFrame(data=rp.predict(users.index[:10]), index=users.index[:10])\";\n",
       "                var nbb_formatted_code = \"pd.DataFrame(data=rp.predict(users.index[:10]), index=users.index[:10])\";\n",
       "                var nbb_cells = Jupyter.notebook.get_cells();\n",
       "                for (var i = 0; i < nbb_cells.length; ++i) {\n",
       "                    if (nbb_cells[i].input_prompt_number == nbb_cell_id) {\n",
       "                        if (nbb_cells[i].get_text() == nbb_unformatted_code) {\n",
       "                             nbb_cells[i].set_text(nbb_formatted_code);\n",
       "                        }\n",
       "                        break;\n",
       "                    }\n",
       "                }\n",
       "            }, 500);\n",
       "            "
      ],
      "text/plain": [
       "<IPython.core.display.Javascript object>"
      ]
     },
     "metadata": {},
     "output_type": "display_data"
    }
   ],
   "source": [
    "pd.DataFrame(data=rp.predict(users.index[:10]), index=users.index[:10])"
   ]
  },
  {
   "cell_type": "code",
   "execution_count": 649,
   "metadata": {
    "ExecuteTime": {
     "end_time": "2022-08-02T09:14:49.005120Z",
     "start_time": "2022-08-02T09:14:48.959497Z"
    }
   },
   "outputs": [
    {
     "data": {
      "text/html": [
       "<div>\n",
       "<style scoped>\n",
       "    .dataframe tbody tr th:only-of-type {\n",
       "        vertical-align: middle;\n",
       "    }\n",
       "\n",
       "    .dataframe tbody tr th {\n",
       "        vertical-align: top;\n",
       "    }\n",
       "\n",
       "    .dataframe thead th {\n",
       "        text-align: right;\n",
       "    }\n",
       "</style>\n",
       "<table border=\"1\" class=\"dataframe\">\n",
       "  <thead>\n",
       "    <tr style=\"text-align: right;\">\n",
       "      <th></th>\n",
       "      <th>user_id</th>\n",
       "      <th>org_id</th>\n",
       "      <th>rating</th>\n",
       "      <th>ts</th>\n",
       "      <th>aspects</th>\n",
       "    </tr>\n",
       "  </thead>\n",
       "  <tbody>\n",
       "    <tr>\n",
       "      <th>727394</th>\n",
       "      <td>1185256209442259691</td>\n",
       "      <td>8963203803572992507</td>\n",
       "      <td>5.0</td>\n",
       "      <td>505</td>\n",
       "      <td>NaN</td>\n",
       "    </tr>\n",
       "    <tr>\n",
       "      <th>3266072</th>\n",
       "      <td>1185256209442259691</td>\n",
       "      <td>6273273006771493206</td>\n",
       "      <td>5.0</td>\n",
       "      <td>488</td>\n",
       "      <td>NaN</td>\n",
       "    </tr>\n",
       "  </tbody>\n",
       "</table>\n",
       "</div>"
      ],
      "text/plain": [
       "                     user_id               org_id  rating   ts aspects\n",
       "727394   1185256209442259691  8963203803572992507     5.0  505     NaN\n",
       "3266072  1185256209442259691  6273273006771493206     5.0  488     NaN"
      ]
     },
     "execution_count": 649,
     "metadata": {},
     "output_type": "execute_result"
    },
    {
     "data": {
      "application/javascript": [
       "\n",
       "            setTimeout(function() {\n",
       "                var nbb_cell_id = 649;\n",
       "                var nbb_unformatted_code = \"reviews.query(\\\"user_id == 1185256209442259691\\\")\";\n",
       "                var nbb_formatted_code = \"reviews.query(\\\"user_id == 1185256209442259691\\\")\";\n",
       "                var nbb_cells = Jupyter.notebook.get_cells();\n",
       "                for (var i = 0; i < nbb_cells.length; ++i) {\n",
       "                    if (nbb_cells[i].input_prompt_number == nbb_cell_id) {\n",
       "                        if (nbb_cells[i].get_text() == nbb_unformatted_code) {\n",
       "                             nbb_cells[i].set_text(nbb_formatted_code);\n",
       "                        }\n",
       "                        break;\n",
       "                    }\n",
       "                }\n",
       "            }, 500);\n",
       "            "
      ],
      "text/plain": [
       "<IPython.core.display.Javascript object>"
      ]
     },
     "metadata": {},
     "output_type": "display_data"
    }
   ],
   "source": [
    "reviews.query(\"user_id == 1185256209442259691\")"
   ]
  },
  {
   "cell_type": "code",
   "execution_count": 650,
   "metadata": {
    "ExecuteTime": {
     "end_time": "2022-08-02T09:15:09.561026Z",
     "start_time": "2022-08-02T09:15:09.547253Z"
    }
   },
   "outputs": [
    {
     "data": {
      "text/plain": [
       "array([array([11006800892303205642,  1732348878070501516,  1352900198295267165,\n",
       "               4477853013398754244, 15445427435171105618,  4899586129781774940,\n",
       "              14378098879624719559,  8187133161650776223,  3520821398830349226,\n",
       "               7244033762487689492, 17239524486607140551,   789253580523133408,\n",
       "               1463651751421197399,  7182333458821469276, 16515799056215097281,\n",
       "              11710076672100157355, 17707727234326305172,  5473783084203318304,\n",
       "              13003865947605611631, 14780417735296018091], dtype=uint64)       ],\n",
       "      dtype=object)"
      ]
     },
     "execution_count": 650,
     "metadata": {},
     "output_type": "execute_result"
    },
    {
     "data": {
      "application/javascript": [
       "\n",
       "            setTimeout(function() {\n",
       "                var nbb_cell_id = 650;\n",
       "                var nbb_unformatted_code = \"rp.predict([1185256209442259691])\";\n",
       "                var nbb_formatted_code = \"rp.predict([1185256209442259691])\";\n",
       "                var nbb_cells = Jupyter.notebook.get_cells();\n",
       "                for (var i = 0; i < nbb_cells.length; ++i) {\n",
       "                    if (nbb_cells[i].input_prompt_number == nbb_cell_id) {\n",
       "                        if (nbb_cells[i].get_text() == nbb_unformatted_code) {\n",
       "                             nbb_cells[i].set_text(nbb_formatted_code);\n",
       "                        }\n",
       "                        break;\n",
       "                    }\n",
       "                }\n",
       "            }, 500);\n",
       "            "
      ],
      "text/plain": [
       "<IPython.core.display.Javascript object>"
      ]
     },
     "metadata": {},
     "output_type": "display_data"
    }
   ],
   "source": [
    "rp.predict([1185256209442259691])"
   ]
  },
  {
   "cell_type": "code",
   "execution_count": 651,
   "metadata": {
    "ExecuteTime": {
     "end_time": "2022-08-02T09:16:01.395522Z",
     "start_time": "2022-08-02T09:15:56.919347Z"
    }
   },
   "outputs": [
    {
     "data": {
      "text/plain": [
       "count    100.0\n",
       "mean       0.0\n",
       "std        0.0\n",
       "min        0.0\n",
       "25%        0.0\n",
       "50%        0.0\n",
       "75%        0.0\n",
       "max        0.0\n",
       "dtype: float64"
      ]
     },
     "execution_count": 651,
     "metadata": {},
     "output_type": "execute_result"
    },
    {
     "data": {
      "application/javascript": [
       "\n",
       "            setTimeout(function() {\n",
       "                var nbb_cell_id = 651;\n",
       "                var nbb_unformatted_code = \"metrics = Metrics(users, organisations, reviews)\\nrp = RandomPredictor(users, organisations, reviews)\\nrp = PopularPredictor(users, organisations, reviews)\\nusers_ids = users.index[:100]\\nmetrics.precision_at_k(users_ids, rp.predict(users_ids)).describe()\";\n",
       "                var nbb_formatted_code = \"metrics = Metrics(users, organisations, reviews)\\nrp = RandomPredictor(users, organisations, reviews)\\nrp = PopularPredictor(users, organisations, reviews)\\nusers_ids = users.index[:100]\\nmetrics.precision_at_k(users_ids, rp.predict(users_ids)).describe()\";\n",
       "                var nbb_cells = Jupyter.notebook.get_cells();\n",
       "                for (var i = 0; i < nbb_cells.length; ++i) {\n",
       "                    if (nbb_cells[i].input_prompt_number == nbb_cell_id) {\n",
       "                        if (nbb_cells[i].get_text() == nbb_unformatted_code) {\n",
       "                             nbb_cells[i].set_text(nbb_formatted_code);\n",
       "                        }\n",
       "                        break;\n",
       "                    }\n",
       "                }\n",
       "            }, 500);\n",
       "            "
      ],
      "text/plain": [
       "<IPython.core.display.Javascript object>"
      ]
     },
     "metadata": {},
     "output_type": "display_data"
    }
   ],
   "source": [
    "metrics = Metrics(users, organisations, reviews)\n",
    "rp = RandomPredictor(users, organisations, reviews)\n",
    "rp = PopularPredictor(users, organisations, reviews)\n",
    "users_ids = users.index[:1000]\n",
    "metrics.precision_at_k(users_ids, rp.predict(users_ids)).describe()"
   ]
  },
  {
   "cell_type": "markdown",
   "metadata": {},
   "source": [
    "**(1.0 балла) Задание 5.** Метод Memory based. User-2-User or Item-2-Item\n",
    "\n",
    "Теперь рассмотрим [memory-based](https://en.wikipedia.org/wiki/Collaborative_filtering#Memory-based) методы рекоммендаций.\n",
    "Подход, лежащий в их основе, использует данные о рейтингах для вычисления сходства между пользователями (user-based) или объектами (item-based), на основе этих данных делаются предсказания рейтингов и, в дальнейшем, строятся рекоммендации. Эти методы просты в реализации и эффективны на ранних стадиях разработки рекомендательных систем.\n",
    "                                 \n",
    "              \n",
    "За последние годы было создано много библиотек для реализации алгоримтов построения рекомендаций.      \n",
    "  * https://github.com/benfred/implicit\n",
    "  * https://sberbank-ai-lab.github.io/RePlay/index.html\n",
    "  * https://github.com/apple/turicreate \n",
    "  * https://github.com/caserec/CaseRecommender\n",
    "\n",
    "Выеберите одну из них и постройте предсказания на основании совместной фильтрации по близости пользователей или по близости объектов.\n",
    "\n",
    "Если обучение идёт слишком долго подумайте про семплирование данных. Обоснуйте выбранную стратегию семплирования.\n",
    "\n"
   ]
  },
  {
   "cell_type": "markdown",
   "metadata": {},
   "source": [
    "## Методы Matrix factorization"
   ]
  },
  {
   "cell_type": "markdown",
   "metadata": {},
   "source": [
    "**(0.5 балла) Задание 6.**\n",
    "\n",
    "- Разложите матрицу рейтингов с помощью [разреженного SVD](http://scikit-learn.org/stable/modules/generated/sklearn.decomposition.TruncatedSVD.html) и, восстановив ее, получите предсказания рейтингов для всех пар пользователь-объект. В данном случае неизвестные рейтинги заполняются нулями, а затем восстанавливаются с помощью SVD (этот метод называется PureSVD).\n",
    "   * Получив векторные представления пользователей и объектов и сингулярные числа, мы можеи восстановив матрицу и в местах нулей получим \"предсказанные значения вероятностей\" для новых объектов.\n",
    "- Рассмотрите, как минимум, 5 различных значений ранга разложения. Оцените качество рекомендаций"
   ]
  },
  {
   "cell_type": "code",
   "execution_count": null,
   "metadata": {},
   "outputs": [],
   "source": []
  },
  {
   "cell_type": "markdown",
   "metadata": {},
   "source": [
    "# ALS\n",
    "Довольно популярным базовым методом в рекомендательных системах является ALS.\n",
    "\n",
    "### Explicit ALS\n",
    "\n",
    "Релевантность:\n",
    "$$r_{ui} = q_i^T p_u$$\n",
    "\n",
    "Loss:\n",
    "$$\\min_{p*, q*} \\sum_{(u, i \\in \\mathcal{K})} (r_{ui} - q_i^T p_u)^2 + \\lambda(\\|{q_i}\\|^2 + \\|{p_i}\\|^2)$$\n",
    "\n",
    "### [Implicit ALS](http://yifanhu.net/PUB/cf.pdf)\n",
    "\n",
    "Релевантность:\n",
    "$$r_{ui} = q_i^T p_u$$\n",
    "\n",
    "Loss:\n",
    "$$\\min_{p*, q*} \\sum_{(u, i \\in \\mathcal{K})} c_{ui}(p_{ui} - q_i^T p_u)^2 + \\lambda(\\|{q_i}\\|^2 + \\|{p_i}\\|^2)$$\n",
    "Где $c_{ui}$ - значение в матрице implicit feedback, а $p_{ui}$ равно 1, если пользователь u взаимодействовал с item-ом i, и 0 иначе.\n",
    "\n",
    "### Усложнения ALS\n",
    "Обучив для каждого пользователя и объекта свой bias и добавив регуляризацию можно улучшить качество решения. Подробнее о различных матричных разложениях для задачи рекомендаций можно почитать [в статье на Хабре](https://habr.com/ru/post/486802/).\n",
    "\n",
    "В рейтинг объекта для пользователя, например, может быть представлен:\n",
    "$$r_{ui} = \\mu + b_i + b_u + q_i^T p_u$$\n",
    "\n",
    "А функция потерь будет выглядеть так:\n",
    "$$\\min_{b*, p*, q*} \\sum_{(u, i \\in \\mathcal{K})} (r_{ui} - \\mu - b_i - b_u - q_i^T p_u)^2 + \\lambda(\\|{q_i}\\|^2 + \\|{p_i}\\|^2 + b_i^2 + b_u^2)$$\n",
    "\n",
    "Матричная факторизация - хороший подход, который позволяет получить рекомендации для теплых пользователей, а также находить похожих пользователей и объекты, посчитав расстояния между векторами. Обучив модель и получив вектора можно перейти от задачи рекомендаций к задаче поиска ближайших соседей и использовать ANN-методы."
   ]
  },
  {
   "cell_type": "markdown",
   "metadata": {},
   "source": [
    "**(1.0 балла) Задание 7.**\n",
    "Примените ALS.\n",
    "\n",
    "Можно воспользоваться готовой реализацией из бибилотеки https://github.com/benfred/implicit\n",
    "\n",
    "Попробуйте использовать как все оценки, так и только высокие. Есть ли разница?"
   ]
  },
  {
   "cell_type": "code",
   "execution_count": null,
   "metadata": {},
   "outputs": [],
   "source": []
  },
  {
   "cell_type": "markdown",
   "metadata": {},
   "source": [
    "**(1.0 балла) Задание 8.**\n",
    "\n",
    "На [семинаре](https://github.com/monkey0head/recsys_sem) Вам было расказано про бибилиотеку LightFM.\n",
    "Примените ее для нашей задачи. Используя фичи и не используя фичи, сравните результат."
   ]
  },
  {
   "cell_type": "code",
   "execution_count": null,
   "metadata": {},
   "outputs": [],
   "source": []
  },
  {
   "cell_type": "markdown",
   "metadata": {},
   "source": [
    "**(1.0 балла) Задание 9.**\n",
    "\n",
    "   Посмотрим на все прошлые методы как на модели, которые генерируют нам кандидатов для ответа рекомендательной системы. \n",
    "   \n",
    "   Как нам выбрать те 20 организаций наилучшим образом? \n",
    "   \n",
    "   Давайте подключим машинное обучение. Сформулируем задачу ранжирования: запросом будет пользователь. Документами будут организации. Наивным признаковым описанием будет, например, факт рекомендации данной организации или скор/ранг от моделей SVD, ALS, LightFM.\n",
    "   Примените catboost/xgboost/lightgbm для создания переранжирования рекомендаций. То есть сделаем двухуровневую модель. Выясните наиболее важные признаки моделей первого уровня."
   ]
  },
  {
   "cell_type": "code",
   "execution_count": null,
   "metadata": {},
   "outputs": [],
   "source": []
  },
  {
   "cell_type": "code",
   "execution_count": null,
   "metadata": {},
   "outputs": [],
   "source": []
  }
 ],
 "metadata": {
  "kernelspec": {
   "display_name": "Python 3 (ipykernel)",
   "language": "python",
   "name": "python3"
  },
  "language_info": {
   "codemirror_mode": {
    "name": "ipython",
    "version": 3
   },
   "file_extension": ".py",
   "mimetype": "text/x-python",
   "name": "python",
   "nbconvert_exporter": "python",
   "pygments_lexer": "ipython3",
   "version": "3.10.4"
  }
 },
 "nbformat": 4,
 "nbformat_minor": 2
}
