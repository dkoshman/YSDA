{
 "cells": [
  {
   "cell_type": "markdown",
   "metadata": {},
   "source": [
    "# Лабораторная работа 4. Часть 2. Рекомендательные системы.\n",
    "\n",
    "\n",
    "\n",
    "Результат лабораторной работы − отчет. Мы предпочитаем принимать отчеты в формате ноутбуков IPython (ipynb-файл). Постарайтесь сделать ваш отчет интересным рассказом, последовательно отвечающим на вопросы из заданий. Помимо ответов на вопросы, в отчете так же должен быть код, однако чем меньше кода, тем лучше всем: нам − меньше проверять, вам — проще найти ошибку или дополнить эксперимент. При проверке оценивается четкость ответов на вопросы, аккуратность отчета и кода.\n",
    "\n",
    "\n",
    "### Оценивание и штрафы\n",
    "Каждая из задач имеет определенную «стоимость» (указана в скобках около задачи). Максимально допустимая оценка за работу — 8 баллов. Сдавать задание после указанного в lk срока сдачи нельзя. «Похожие» решения считаются плагиатом и все задействованные студенты (в том числе те, у кого списали) не могут получить за него больше 0 баллов и понижают карму (подробнее о плагиате см. на странице курса). Если вы нашли решение какого-то из заданий в открытом источнике, необходимо прислать ссылку на этот источник (скорее всего вы будете не единственным, кто это нашел, поэтому чтобы исключить подозрение в плагиате, нам необходима ссылка на источник).\n",
    "\n"
   ]
  },
  {
   "cell_type": "markdown",
   "metadata": {},
   "source": [
    "## Знакомство с данными\n",
    "\n",
    "### Рекомендация организаций, которые получат высокий отзыв от пользователя, когда он гостит в чужом для себя городе\n",
    "\n",
    "Эта лабораторная работа про задачу из соревнования\n",
    "\n",
    "https://contest.yandex.ru/contest/36927/problems/\n"
   ]
  },
  {
   "cell_type": "markdown",
   "metadata": {},
   "source": [
    "**(1 балла) Задание 1.** Знакомство с данными.\n",
    "\n",
    "В первую очередь нам понадобятся данные по __пользователям__ (в терминах recsys -- users), __организациям__ (в терминах recsys -- items) и сами __отзывы__ (в терминах recsys -- ratings или explicit feedback). \n",
    "\n",
    "На основании этих данных можно будет проводить базовый анализ методами колаборативной фильтрации.\n",
    "\n",
    "  * Опишите, насколько активно пользователи оставляют отзывы, насколько активно организации получают отзывы.\n",
    "  * Предложите стратегии фильтрации данных.\n",
    "  \n",
    "\n",
    "\n",
    "Во вторую очередь нас будут интересовать атрибуты организаций: aspects, features, rubrics.\n",
    "Проанализируйте эти таблицы. Какие признаки для описания организаций и пользователей из них можно извлечь?\n"
   ]
  },
  {
   "cell_type": "code",
   "execution_count": 1,
   "metadata": {
    "ExecuteTime": {
     "end_time": "2022-09-19T10:38:35.931005Z",
     "start_time": "2022-09-19T10:38:34.856447Z"
    }
   },
   "outputs": [
    {
     "data": {
      "application/javascript": [
       "\n",
       "            setTimeout(function() {\n",
       "                var nbb_cell_id = 1;\n",
       "                var nbb_unformatted_code = \"%load_ext nb_black\\n\\nimport abc\\nimport functools\\nimport glob\\nimport matplotlib.pyplot as plt\\nimport numpy as np\\nimport os\\nimport pandas as pd\";\n",
       "                var nbb_formatted_code = \"%load_ext nb_black\\n\\nimport abc\\nimport functools\\nimport glob\\nimport matplotlib.pyplot as plt\\nimport numpy as np\\nimport os\\nimport pandas as pd\";\n",
       "                var nbb_cells = Jupyter.notebook.get_cells();\n",
       "                for (var i = 0; i < nbb_cells.length; ++i) {\n",
       "                    if (nbb_cells[i].input_prompt_number == nbb_cell_id) {\n",
       "                        if (nbb_cells[i].get_text() == nbb_unformatted_code) {\n",
       "                             nbb_cells[i].set_text(nbb_formatted_code);\n",
       "                        }\n",
       "                        break;\n",
       "                    }\n",
       "                }\n",
       "            }, 500);\n",
       "            "
      ],
      "text/plain": [
       "<IPython.core.display.Javascript object>"
      ]
     },
     "metadata": {},
     "output_type": "display_data"
    }
   ],
   "source": [
    "%load_ext nb_black\n",
    "\n",
    "import abc\n",
    "import functools\n",
    "import glob\n",
    "import matplotlib.pyplot as plt\n",
    "import numpy as np\n",
    "import os\n",
    "import pandas as pd"
   ]
  },
  {
   "cell_type": "code",
   "execution_count": 2,
   "metadata": {
    "ExecuteTime": {
     "end_time": "2022-09-19T10:38:35.945871Z",
     "start_time": "2022-09-19T10:38:35.934282Z"
    }
   },
   "outputs": [
    {
     "data": {
      "application/javascript": [
       "\n",
       "            setTimeout(function() {\n",
       "                var nbb_cell_id = 2;\n",
       "                var nbb_unformatted_code = \"class DataReader:\\n    def read(\\n        self,\\n        path_to_csv_files=\\\"data/*.csv\\\",\\n        columns_with_space_separated_ints=(\\\"rubrics_id\\\", \\\"features_id\\\", \\\"aspects\\\"),\\n    ):\\n        data = {}\\n        for csv_filename in glob.glob(path_to_csv_files):\\n            basename, extension = os.path.splitext(os.path.basename(csv_filename))\\n            data[basename] = pd.read_csv(\\n                csv_filename,\\n                converters={\\n                    c: self.read_ints for c in columns_with_space_separated_ints\\n                },\\n            )\\n        return data\\n\\n    @staticmethod\\n    def read_ints(line):\\n        return list(map(int, line.split()))\";\n",
       "                var nbb_formatted_code = \"class DataReader:\\n    def read(\\n        self,\\n        path_to_csv_files=\\\"data/*.csv\\\",\\n        columns_with_space_separated_ints=(\\\"rubrics_id\\\", \\\"features_id\\\", \\\"aspects\\\"),\\n    ):\\n        data = {}\\n        for csv_filename in glob.glob(path_to_csv_files):\\n            basename, extension = os.path.splitext(os.path.basename(csv_filename))\\n            data[basename] = pd.read_csv(\\n                csv_filename,\\n                converters={\\n                    c: self.read_ints for c in columns_with_space_separated_ints\\n                },\\n            )\\n        return data\\n\\n    @staticmethod\\n    def read_ints(line):\\n        return list(map(int, line.split()))\";\n",
       "                var nbb_cells = Jupyter.notebook.get_cells();\n",
       "                for (var i = 0; i < nbb_cells.length; ++i) {\n",
       "                    if (nbb_cells[i].input_prompt_number == nbb_cell_id) {\n",
       "                        if (nbb_cells[i].get_text() == nbb_unformatted_code) {\n",
       "                             nbb_cells[i].set_text(nbb_formatted_code);\n",
       "                        }\n",
       "                        break;\n",
       "                    }\n",
       "                }\n",
       "            }, 500);\n",
       "            "
      ],
      "text/plain": [
       "<IPython.core.display.Javascript object>"
      ]
     },
     "metadata": {},
     "output_type": "display_data"
    }
   ],
   "source": [
    "class DataReader:\n",
    "    def read(\n",
    "        self,\n",
    "        path_to_csv_files=\"data/*.csv\",\n",
    "        columns_with_space_separated_ints=(\"rubrics_id\", \"features_id\", \"aspects\"),\n",
    "    ):\n",
    "        data = {}\n",
    "        for csv_filename in glob.glob(path_to_csv_files):\n",
    "            basename, extension = os.path.splitext(os.path.basename(csv_filename))\n",
    "            data[basename] = pd.read_csv(\n",
    "                csv_filename,\n",
    "                converters={\n",
    "                    c: self.read_ints for c in columns_with_space_separated_ints\n",
    "                },\n",
    "            )\n",
    "        return data\n",
    "\n",
    "    @staticmethod\n",
    "    def read_ints(line):\n",
    "        return list(map(int, line.split()))"
   ]
  },
  {
   "cell_type": "code",
   "execution_count": 3,
   "metadata": {
    "ExecuteTime": {
     "end_time": "2022-09-19T10:38:41.949543Z",
     "start_time": "2022-09-19T10:38:35.948111Z"
    }
   },
   "outputs": [
    {
     "data": {
      "application/javascript": [
       "\n",
       "            setTimeout(function() {\n",
       "                var nbb_cell_id = 3;\n",
       "                var nbb_unformatted_code = \"data = DataReader().read()\";\n",
       "                var nbb_formatted_code = \"data = DataReader().read()\";\n",
       "                var nbb_cells = Jupyter.notebook.get_cells();\n",
       "                for (var i = 0; i < nbb_cells.length; ++i) {\n",
       "                    if (nbb_cells[i].input_prompt_number == nbb_cell_id) {\n",
       "                        if (nbb_cells[i].get_text() == nbb_unformatted_code) {\n",
       "                             nbb_cells[i].set_text(nbb_formatted_code);\n",
       "                        }\n",
       "                        break;\n",
       "                    }\n",
       "                }\n",
       "            }, 500);\n",
       "            "
      ],
      "text/plain": [
       "<IPython.core.display.Javascript object>"
      ]
     },
     "metadata": {},
     "output_type": "display_data"
    }
   ],
   "source": [
    "data = DataReader().read()"
   ]
  },
  {
   "cell_type": "code",
   "execution_count": 4,
   "metadata": {
    "ExecuteTime": {
     "end_time": "2022-09-19T10:38:41.957530Z",
     "start_time": "2022-09-19T10:38:41.952288Z"
    }
   },
   "outputs": [
    {
     "data": {
      "application/javascript": [
       "\n",
       "            setTimeout(function() {\n",
       "                var nbb_cell_id = 4;\n",
       "                var nbb_unformatted_code = \"DEBUG = True\";\n",
       "                var nbb_formatted_code = \"DEBUG = True\";\n",
       "                var nbb_cells = Jupyter.notebook.get_cells();\n",
       "                for (var i = 0; i < nbb_cells.length; ++i) {\n",
       "                    if (nbb_cells[i].input_prompt_number == nbb_cell_id) {\n",
       "                        if (nbb_cells[i].get_text() == nbb_unformatted_code) {\n",
       "                             nbb_cells[i].set_text(nbb_formatted_code);\n",
       "                        }\n",
       "                        break;\n",
       "                    }\n",
       "                }\n",
       "            }, 500);\n",
       "            "
      ],
      "text/plain": [
       "<IPython.core.display.Javascript object>"
      ]
     },
     "metadata": {},
     "output_type": "display_data"
    }
   ],
   "source": [
    "DEBUG = True"
   ]
  },
  {
   "cell_type": "code",
   "execution_count": 5,
   "metadata": {
    "ExecuteTime": {
     "end_time": "2022-09-19T10:38:42.105182Z",
     "start_time": "2022-09-19T10:38:41.959070Z"
    }
   },
   "outputs": [
    {
     "data": {
      "application/javascript": [
       "\n",
       "            setTimeout(function() {\n",
       "                var nbb_cell_id = 5;\n",
       "                var nbb_unformatted_code = \"if DEBUG:\\n    data[\\\"reviews\\\"] = data[\\\"reviews\\\"][: len(data[\\\"reviews\\\"]) // 100]\\n    reviews_user_ids = data[\\\"reviews\\\"].user_id\\n    data[\\\"users\\\"] = (\\n        data[\\\"users\\\"].query(\\\"user_id in @reviews_user_ids\\\").reset_index(drop=True)\\n    )\\n    data[\\\"test_users\\\"] = data[\\\"test_users\\\"].query(\\\"user_id in @reviews_user_ids\\\")\\n    reviews_org_ids = data[\\\"reviews\\\"].org_id\\n    data[\\\"organisations\\\"] = (\\n        data[\\\"organisations\\\"].query(\\\"org_id in @reviews_org_ids\\\").reset_index(drop=True)\\n    )\";\n",
       "                var nbb_formatted_code = \"if DEBUG:\\n    data[\\\"reviews\\\"] = data[\\\"reviews\\\"][: len(data[\\\"reviews\\\"]) // 100]\\n    reviews_user_ids = data[\\\"reviews\\\"].user_id\\n    data[\\\"users\\\"] = (\\n        data[\\\"users\\\"].query(\\\"user_id in @reviews_user_ids\\\").reset_index(drop=True)\\n    )\\n    data[\\\"test_users\\\"] = data[\\\"test_users\\\"].query(\\\"user_id in @reviews_user_ids\\\")\\n    reviews_org_ids = data[\\\"reviews\\\"].org_id\\n    data[\\\"organisations\\\"] = (\\n        data[\\\"organisations\\\"].query(\\\"org_id in @reviews_org_ids\\\").reset_index(drop=True)\\n    )\";\n",
       "                var nbb_cells = Jupyter.notebook.get_cells();\n",
       "                for (var i = 0; i < nbb_cells.length; ++i) {\n",
       "                    if (nbb_cells[i].input_prompt_number == nbb_cell_id) {\n",
       "                        if (nbb_cells[i].get_text() == nbb_unformatted_code) {\n",
       "                             nbb_cells[i].set_text(nbb_formatted_code);\n",
       "                        }\n",
       "                        break;\n",
       "                    }\n",
       "                }\n",
       "            }, 500);\n",
       "            "
      ],
      "text/plain": [
       "<IPython.core.display.Javascript object>"
      ]
     },
     "metadata": {},
     "output_type": "display_data"
    }
   ],
   "source": [
    "if DEBUG:\n",
    "    data[\"reviews\"] = data[\"reviews\"][: len(data[\"reviews\"]) // 100]\n",
    "    reviews_user_ids = data[\"reviews\"].user_id\n",
    "    data[\"users\"] = (\n",
    "        data[\"users\"].query(\"user_id in @reviews_user_ids\").reset_index(drop=True)\n",
    "    )\n",
    "    data[\"test_users\"] = data[\"test_users\"].query(\"user_id in @reviews_user_ids\")\n",
    "    reviews_org_ids = data[\"reviews\"].org_id\n",
    "    data[\"organisations\"] = (\n",
    "        data[\"organisations\"].query(\"org_id in @reviews_org_ids\").reset_index(drop=True)\n",
    "    )"
   ]
  },
  {
   "cell_type": "markdown",
   "metadata": {},
   "source": [
    "* Опишите, насколько активно пользователи оставляют отзывы, насколько активно организации получают отзывы."
   ]
  },
  {
   "cell_type": "code",
   "execution_count": 6,
   "metadata": {
    "ExecuteTime": {
     "end_time": "2022-09-19T10:38:42.131175Z",
     "start_time": "2022-09-19T10:38:42.107219Z"
    }
   },
   "outputs": [
    {
     "data": {
      "application/javascript": [
       "\n",
       "            setTimeout(function() {\n",
       "                var nbb_cell_id = 6;\n",
       "                var nbb_unformatted_code = \"def describe_review_counts(\\n    df,\\n    reviews,\\n    axis,\\n    title,\\n    quantiles=(0, 0.25, 0.5, 0.75, 0.90, 0.95, 0.99, 0.999, 0.9999, 1),\\n    quantiles_to_plot=(0.5, 0.99, 0.999, 0.9999),\\n    plt_kwargs=None,\\n    cmap=\\\"hsv\\\",\\n):\\n    reviews_count = reviews.groupby(df.index.name).size().reindex(df.index)\\n    reviews_count.plot(ax=axis, title=title, **(plt_kwargs or {}))\\n    axis.set_xlabel(plt_kwargs.get(\\\"xlabel\\\"))\\n    axis.set_ylabel(plt_kwargs.get(\\\"ylabel\\\"))\\n\\n    for i, q in enumerate(quantiles_to_plot, start=1):\\n        quantile = reviews_count.quantile(q=q)\\n        axis.axvline(quantile, ls=\\\"--\\\", c=plt.get_cmap(name=cmap)(q))\\n        axis.text(quantile, axis.get_ylim()[1] / 2**i, f\\\"{100*q}%\\\", ha=\\\"left\\\")\\n\\n    return reviews_count.agg(\\n        {\\n            \\\"mean\\\": pd.Series.mean,\\n            \\\"std\\\": pd.Series.std,\\n            **{\\n                f\\\"{100*q}%\\\": functools.partial(pd.Series.quantile, q=q)\\n                for q in quantiles\\n            },\\n        }\\n    )\\n\\n\\ndef show_review_counts(data):\\n    users = data[\\\"users\\\"].set_index(\\\"user_id\\\")\\n    organisations = data[\\\"organisations\\\"].set_index(\\\"org_id\\\")\\n    reviews = data[\\\"reviews\\\"]\\n    fig, axes = plt.subplots(ncols=2, figsize=(16, 6))\\n    plt_kwargs = dict(\\n        kind=\\\"hist\\\",\\n        log=True,\\n        histtype=\\\"stepfilled\\\",\\n        bins=100,\\n        edgecolor=\\\"black\\\",\\n        facecolor=\\\"gray\\\",\\n        alpha=0.5,\\n        xlabel=\\\"Reviews count\\\",\\n        ylabel=\\\"Frequency (log scale)\\\",\\n    )\\n    return pd.DataFrame(\\n        {\\n            title: describe_review_counts(\\n                df,\\n                reviews,\\n                axis,\\n                title=title,\\n                plt_kwargs=plt_kwargs,\\n            )\\n            for df, axis, title in zip(\\n                [users, organisations],\\n                axes,\\n                [\\\"Users reviews written\\\", \\\"Organisations reviews received\\\"],\\n            )\\n        }\\n    ).T\";\n",
       "                var nbb_formatted_code = \"def describe_review_counts(\\n    df,\\n    reviews,\\n    axis,\\n    title,\\n    quantiles=(0, 0.25, 0.5, 0.75, 0.90, 0.95, 0.99, 0.999, 0.9999, 1),\\n    quantiles_to_plot=(0.5, 0.99, 0.999, 0.9999),\\n    plt_kwargs=None,\\n    cmap=\\\"hsv\\\",\\n):\\n    reviews_count = reviews.groupby(df.index.name).size().reindex(df.index)\\n    reviews_count.plot(ax=axis, title=title, **(plt_kwargs or {}))\\n    axis.set_xlabel(plt_kwargs.get(\\\"xlabel\\\"))\\n    axis.set_ylabel(plt_kwargs.get(\\\"ylabel\\\"))\\n\\n    for i, q in enumerate(quantiles_to_plot, start=1):\\n        quantile = reviews_count.quantile(q=q)\\n        axis.axvline(quantile, ls=\\\"--\\\", c=plt.get_cmap(name=cmap)(q))\\n        axis.text(quantile, axis.get_ylim()[1] / 2**i, f\\\"{100*q}%\\\", ha=\\\"left\\\")\\n\\n    return reviews_count.agg(\\n        {\\n            \\\"mean\\\": pd.Series.mean,\\n            \\\"std\\\": pd.Series.std,\\n            **{\\n                f\\\"{100*q}%\\\": functools.partial(pd.Series.quantile, q=q)\\n                for q in quantiles\\n            },\\n        }\\n    )\\n\\n\\ndef show_review_counts(data):\\n    users = data[\\\"users\\\"].set_index(\\\"user_id\\\")\\n    organisations = data[\\\"organisations\\\"].set_index(\\\"org_id\\\")\\n    reviews = data[\\\"reviews\\\"]\\n    fig, axes = plt.subplots(ncols=2, figsize=(16, 6))\\n    plt_kwargs = dict(\\n        kind=\\\"hist\\\",\\n        log=True,\\n        histtype=\\\"stepfilled\\\",\\n        bins=100,\\n        edgecolor=\\\"black\\\",\\n        facecolor=\\\"gray\\\",\\n        alpha=0.5,\\n        xlabel=\\\"Reviews count\\\",\\n        ylabel=\\\"Frequency (log scale)\\\",\\n    )\\n    return pd.DataFrame(\\n        {\\n            title: describe_review_counts(\\n                df,\\n                reviews,\\n                axis,\\n                title=title,\\n                plt_kwargs=plt_kwargs,\\n            )\\n            for df, axis, title in zip(\\n                [users, organisations],\\n                axes,\\n                [\\\"Users reviews written\\\", \\\"Organisations reviews received\\\"],\\n            )\\n        }\\n    ).T\";\n",
       "                var nbb_cells = Jupyter.notebook.get_cells();\n",
       "                for (var i = 0; i < nbb_cells.length; ++i) {\n",
       "                    if (nbb_cells[i].input_prompt_number == nbb_cell_id) {\n",
       "                        if (nbb_cells[i].get_text() == nbb_unformatted_code) {\n",
       "                             nbb_cells[i].set_text(nbb_formatted_code);\n",
       "                        }\n",
       "                        break;\n",
       "                    }\n",
       "                }\n",
       "            }, 500);\n",
       "            "
      ],
      "text/plain": [
       "<IPython.core.display.Javascript object>"
      ]
     },
     "metadata": {},
     "output_type": "display_data"
    }
   ],
   "source": [
    "def describe_review_counts(\n",
    "    df,\n",
    "    reviews,\n",
    "    axis,\n",
    "    title,\n",
    "    quantiles=(0, 0.25, 0.5, 0.75, 0.90, 0.95, 0.99, 0.999, 0.9999, 1),\n",
    "    quantiles_to_plot=(0.5, 0.99, 0.999, 0.9999),\n",
    "    plt_kwargs=None,\n",
    "    cmap=\"hsv\",\n",
    "):\n",
    "    reviews_count = reviews.groupby(df.index.name).size().reindex(df.index)\n",
    "    reviews_count.plot(ax=axis, title=title, **(plt_kwargs or {}))\n",
    "    axis.set_xlabel(plt_kwargs.get(\"xlabel\"))\n",
    "    axis.set_ylabel(plt_kwargs.get(\"ylabel\"))\n",
    "\n",
    "    for i, q in enumerate(quantiles_to_plot, start=1):\n",
    "        quantile = reviews_count.quantile(q=q)\n",
    "        axis.axvline(quantile, ls=\"--\", c=plt.get_cmap(name=cmap)(q))\n",
    "        axis.text(quantile, axis.get_ylim()[1] / 2**i, f\"{100*q}%\", ha=\"left\")\n",
    "\n",
    "    return reviews_count.agg(\n",
    "        {\n",
    "            \"mean\": pd.Series.mean,\n",
    "            \"std\": pd.Series.std,\n",
    "            **{\n",
    "                f\"{100*q}%\": functools.partial(pd.Series.quantile, q=q)\n",
    "                for q in quantiles\n",
    "            },\n",
    "        }\n",
    "    )\n",
    "\n",
    "\n",
    "def show_review_counts(data):\n",
    "    users = data[\"users\"].set_index(\"user_id\")\n",
    "    organisations = data[\"organisations\"].set_index(\"org_id\")\n",
    "    reviews = data[\"reviews\"]\n",
    "    fig, axes = plt.subplots(ncols=2, figsize=(16, 6))\n",
    "    plt_kwargs = dict(\n",
    "        kind=\"hist\",\n",
    "        log=True,\n",
    "        histtype=\"stepfilled\",\n",
    "        bins=100,\n",
    "        edgecolor=\"black\",\n",
    "        facecolor=\"gray\",\n",
    "        alpha=0.5,\n",
    "        xlabel=\"Reviews count\",\n",
    "        ylabel=\"Frequency (log scale)\",\n",
    "    )\n",
    "    return pd.DataFrame(\n",
    "        {\n",
    "            title: describe_review_counts(\n",
    "                df,\n",
    "                reviews,\n",
    "                axis,\n",
    "                title=title,\n",
    "                plt_kwargs=plt_kwargs,\n",
    "            )\n",
    "            for df, axis, title in zip(\n",
    "                [users, organisations],\n",
    "                axes,\n",
    "                [\"Users reviews written\", \"Organisations reviews received\"],\n",
    "            )\n",
    "        }\n",
    "    ).T"
   ]
  },
  {
   "cell_type": "code",
   "execution_count": 7,
   "metadata": {
    "ExecuteTime": {
     "end_time": "2022-09-19T10:38:43.069986Z",
     "start_time": "2022-09-19T10:38:42.133004Z"
    }
   },
   "outputs": [
    {
     "data": {
      "text/html": [
       "<div>\n",
       "<style scoped>\n",
       "    .dataframe tbody tr th:only-of-type {\n",
       "        vertical-align: middle;\n",
       "    }\n",
       "\n",
       "    .dataframe tbody tr th {\n",
       "        vertical-align: top;\n",
       "    }\n",
       "\n",
       "    .dataframe thead th {\n",
       "        text-align: right;\n",
       "    }\n",
       "</style>\n",
       "<table border=\"1\" class=\"dataframe\">\n",
       "  <thead>\n",
       "    <tr style=\"text-align: right;\">\n",
       "      <th></th>\n",
       "      <th>mean</th>\n",
       "      <th>std</th>\n",
       "      <th>0%</th>\n",
       "      <th>25.0%</th>\n",
       "      <th>50.0%</th>\n",
       "      <th>75.0%</th>\n",
       "      <th>90.0%</th>\n",
       "      <th>95.0%</th>\n",
       "      <th>99.0%</th>\n",
       "      <th>99.9%</th>\n",
       "      <th>99.99%</th>\n",
       "      <th>100%</th>\n",
       "    </tr>\n",
       "  </thead>\n",
       "  <tbody>\n",
       "    <tr>\n",
       "      <th>Users reviews written</th>\n",
       "      <td>1.035065</td>\n",
       "      <td>0.206420</td>\n",
       "      <td>1.0</td>\n",
       "      <td>1.0</td>\n",
       "      <td>1.0</td>\n",
       "      <td>1.0</td>\n",
       "      <td>1.0</td>\n",
       "      <td>1.0</td>\n",
       "      <td>2.00</td>\n",
       "      <td>3.000</td>\n",
       "      <td>4.0104</td>\n",
       "      <td>8.0</td>\n",
       "    </tr>\n",
       "    <tr>\n",
       "      <th>Organisations reviews received</th>\n",
       "      <td>140.941980</td>\n",
       "      <td>945.568558</td>\n",
       "      <td>1.0</td>\n",
       "      <td>3.0</td>\n",
       "      <td>22.0</td>\n",
       "      <td>99.0</td>\n",
       "      <td>267.4</td>\n",
       "      <td>391.4</td>\n",
       "      <td>894.16</td>\n",
       "      <td>11662.824</td>\n",
       "      <td>15612.1824</td>\n",
       "      <td>16051.0</td>\n",
       "    </tr>\n",
       "  </tbody>\n",
       "</table>\n",
       "</div>"
      ],
      "text/plain": [
       "                                      mean         std   0%  25.0%  50.0%  \\\n",
       "Users reviews written             1.035065    0.206420  1.0    1.0    1.0   \n",
       "Organisations reviews received  140.941980  945.568558  1.0    3.0   22.0   \n",
       "\n",
       "                                75.0%  90.0%  95.0%   99.0%      99.9%  \\\n",
       "Users reviews written             1.0    1.0    1.0    2.00      3.000   \n",
       "Organisations reviews received   99.0  267.4  391.4  894.16  11662.824   \n",
       "\n",
       "                                    99.99%     100%  \n",
       "Users reviews written               4.0104      8.0  \n",
       "Organisations reviews received  15612.1824  16051.0  "
      ]
     },
     "execution_count": 7,
     "metadata": {},
     "output_type": "execute_result"
    },
    {
     "data": {
      "image/png": "[encoded data removed]",
      "text/plain": [
       "<Figure size 1152x432 with 2 Axes>"
      ]
     },
     "metadata": {
      "needs_background": "light"
     },
     "output_type": "display_data"
    },
    {
     "data": {
      "application/javascript": [
       "\n",
       "            setTimeout(function() {\n",
       "                var nbb_cell_id = 7;\n",
       "                var nbb_unformatted_code = \"show_review_counts(data)\";\n",
       "                var nbb_formatted_code = \"show_review_counts(data)\";\n",
       "                var nbb_cells = Jupyter.notebook.get_cells();\n",
       "                for (var i = 0; i < nbb_cells.length; ++i) {\n",
       "                    if (nbb_cells[i].input_prompt_number == nbb_cell_id) {\n",
       "                        if (nbb_cells[i].get_text() == nbb_unformatted_code) {\n",
       "                             nbb_cells[i].set_text(nbb_formatted_code);\n",
       "                        }\n",
       "                        break;\n",
       "                    }\n",
       "                }\n",
       "            }, 500);\n",
       "            "
      ],
      "text/plain": [
       "<IPython.core.display.Javascript object>"
      ]
     },
     "metadata": {},
     "output_type": "display_data"
    }
   ],
   "source": [
    "show_review_counts(data)"
   ]
  },
  {
   "cell_type": "markdown",
   "metadata": {
    "ExecuteTime": {
     "end_time": "2022-07-31T11:31:58.640951Z",
     "start_time": "2022-07-31T11:31:58.634365Z"
    }
   },
   "source": [
    "* Предложите стратегии фильтрации данных."
   ]
  },
  {
   "cell_type": "markdown",
   "metadata": {},
   "source": [
    "Отбросить организации, у которых мало оценок и все они негативные. Это наименее полезные для нас организации, поскольку они одновременно не дают много информации о взаимных интересах пользователей, и не пригодятся для конечных рекомендаций.\n",
    "\n",
    "Реализация этой стратегии может выглядеть так: мы сортируем организации по значению функции полезности\n",
    "\n",
    "$$f(\\text{organisation}) = (\\text{rating count})(1 + \\text{rating std})^\\alpha (\\text{mean rating})^\\beta$$\n",
    "\n",
    "И отсекаем $\\gamma$ первых организаций, где $\\alpha, \\beta$ и $\\gamma$ подбираются по нашим предпочтениям."
   ]
  },
  {
   "cell_type": "code",
   "execution_count": 8,
   "metadata": {
    "ExecuteTime": {
     "end_time": "2022-09-19T10:38:43.108427Z",
     "start_time": "2022-09-19T10:38:43.072808Z"
    }
   },
   "outputs": [
    {
     "data": {
      "application/javascript": [
       "\n",
       "            setTimeout(function() {\n",
       "                var nbb_cell_id = 8;\n",
       "                var nbb_unformatted_code = \"class Preprocessor:\\n    @staticmethod\\n    def filter(reviews, alpha=1, beta=1, gamma=0.9):\\n        reviews = reviews.dropna(subset=[\\\"rating\\\"])\\n        usefulness = reviews.groupby(\\\"org_id\\\").apply(\\n            functools.partial(\\n                Preprocessor.calculate_usefulness, alpha=alpha, beta=beta\\n            ),\\n        )\\n        org_ids_to_keep = usefulness.sort_values().index[\\n            -int(gamma * len(usefulness)) :\\n        ]\\n        return reviews.query(\\\"org_id in @org_ids_to_keep\\\")\\n\\n    @staticmethod\\n    def calculate_usefulness(org_df, alpha, beta):\\n        usefulness = (\\n            len(org_df)\\n            * (1 + org_df[\\\"rating\\\"].std(ddof=0)) ** alpha\\n            * org_df[\\\"rating\\\"].mean() ** beta\\n        )\\n        return usefulness\\n\\n    @staticmethod\\n    def single_train_test_split(reviews, fraction_of_max_possible_test_size):\\n        ts_grouped_by_user_id = reviews.groupby(\\\"user_id\\\")[\\\"ts\\\"]\\n        ranks = ts_grouped_by_user_id.rank(method=\\\"first\\\").rename(\\\"rank\\\")\\n        sizes = ts_grouped_by_user_id.size().rename(\\\"size\\\")\\n        test_prob = (\\n            reviews[[\\\"user_id\\\"]]\\n            .join(ranks)\\n            .join(sizes, on=\\\"user_id\\\")\\n            .pipe(lambda df: (df[\\\"rank\\\"] - 1) / (df[\\\"size\\\"] - 1).replace({0: 1}))\\n            .pipe(lambda s: s / s.sum())\\n        )\\n        max_possible_test_size = test_prob.astype(bool).sum()\\n\\n        np.random.seed(42)\\n\\n        test_index = np.random.permutation(\\n            np.random.choice(\\n                reviews.index,\\n                size=int(fraction_of_max_possible_test_size * max_possible_test_size),\\n                replace=False,\\n                p=test_prob,\\n            )\\n        )\\n        test = reviews.loc[test_index]\\n        train = reviews.drop(test_index).query(\\\"user_id in @test.user_id\\\")\\n        return train, test\\n\\n    @staticmethod\\n    def train_test_split(reviews, test_fractions):\\n        total_test_fraction = sum(test_fractions)\\n        train, test = Preprocessor.single_train_test_split(reviews, total_test_fraction)\\n        test_sizes = [int(len(test) * i / total_test_fraction) for i in test_fractions]\\n        test_splits = []\\n        for begin, end in zip(np.cumsum([0] + test_sizes), np.cumsum(test_sizes)):\\n            test_splits.append(test.iloc[begin:end])\\n\\n        return train, test_splits\\n\\n    def build_ids_map(self, users, organisations):\\n        # self.user_id_map = users[\\\"user_id\\\"].sort_index()\\n        self.user_id_map = users[\\\"user_id\\\"].reset_index(drop=True)\\n        self.reverse_user_id_map = pd.Series(\\n            self.user_id_map.index, self.user_id_map.values\\n        ).sort_index()\\n        # self.org_id_map = organisations[\\\"org_id\\\"].sort_index()\\n        self.org_id_map = organisations[\\\"org_id\\\"].reset_index(drop=True)\\n        self.reverse_org_id_map = pd.Series(\\n            self.org_id_map.index, self.org_id_map.values\\n        ).sort_index()\\n\\n    def map_ids(self, data):\\n        self.build_ids_map(data[\\\"users\\\"], data[\\\"organisations\\\"])\\n        for key, df in data.items():\\n            if \\\"user_id\\\" in df:\\n                df[\\\"user_id\\\"] = df[\\\"user_id\\\"].map(self.reverse_user_id_map)\\n                df = df.astype({\\\"user_id\\\": np.int32})\\n            if \\\"org_id\\\" in df:\\n                df[\\\"org_id\\\"] = df[\\\"org_id\\\"].map(self.reverse_org_id_map)\\n                df = df.astype({\\\"org_id\\\": np.int32})\\n            data[key] = df\\n        return data\";\n",
       "                var nbb_formatted_code = \"class Preprocessor:\\n    @staticmethod\\n    def filter(reviews, alpha=1, beta=1, gamma=0.9):\\n        reviews = reviews.dropna(subset=[\\\"rating\\\"])\\n        usefulness = reviews.groupby(\\\"org_id\\\").apply(\\n            functools.partial(\\n                Preprocessor.calculate_usefulness, alpha=alpha, beta=beta\\n            ),\\n        )\\n        org_ids_to_keep = usefulness.sort_values().index[\\n            -int(gamma * len(usefulness)) :\\n        ]\\n        return reviews.query(\\\"org_id in @org_ids_to_keep\\\")\\n\\n    @staticmethod\\n    def calculate_usefulness(org_df, alpha, beta):\\n        usefulness = (\\n            len(org_df)\\n            * (1 + org_df[\\\"rating\\\"].std(ddof=0)) ** alpha\\n            * org_df[\\\"rating\\\"].mean() ** beta\\n        )\\n        return usefulness\\n\\n    @staticmethod\\n    def single_train_test_split(reviews, fraction_of_max_possible_test_size):\\n        ts_grouped_by_user_id = reviews.groupby(\\\"user_id\\\")[\\\"ts\\\"]\\n        ranks = ts_grouped_by_user_id.rank(method=\\\"first\\\").rename(\\\"rank\\\")\\n        sizes = ts_grouped_by_user_id.size().rename(\\\"size\\\")\\n        test_prob = (\\n            reviews[[\\\"user_id\\\"]]\\n            .join(ranks)\\n            .join(sizes, on=\\\"user_id\\\")\\n            .pipe(lambda df: (df[\\\"rank\\\"] - 1) / (df[\\\"size\\\"] - 1).replace({0: 1}))\\n            .pipe(lambda s: s / s.sum())\\n        )\\n        max_possible_test_size = test_prob.astype(bool).sum()\\n\\n        np.random.seed(42)\\n\\n        test_index = np.random.permutation(\\n            np.random.choice(\\n                reviews.index,\\n                size=int(fraction_of_max_possible_test_size * max_possible_test_size),\\n                replace=False,\\n                p=test_prob,\\n            )\\n        )\\n        test = reviews.loc[test_index]\\n        train = reviews.drop(test_index).query(\\\"user_id in @test.user_id\\\")\\n        return train, test\\n\\n    @staticmethod\\n    def train_test_split(reviews, test_fractions):\\n        total_test_fraction = sum(test_fractions)\\n        train, test = Preprocessor.single_train_test_split(reviews, total_test_fraction)\\n        test_sizes = [int(len(test) * i / total_test_fraction) for i in test_fractions]\\n        test_splits = []\\n        for begin, end in zip(np.cumsum([0] + test_sizes), np.cumsum(test_sizes)):\\n            test_splits.append(test.iloc[begin:end])\\n\\n        return train, test_splits\\n\\n    def build_ids_map(self, users, organisations):\\n        # self.user_id_map = users[\\\"user_id\\\"].sort_index()\\n        self.user_id_map = users[\\\"user_id\\\"].reset_index(drop=True)\\n        self.reverse_user_id_map = pd.Series(\\n            self.user_id_map.index, self.user_id_map.values\\n        ).sort_index()\\n        # self.org_id_map = organisations[\\\"org_id\\\"].sort_index()\\n        self.org_id_map = organisations[\\\"org_id\\\"].reset_index(drop=True)\\n        self.reverse_org_id_map = pd.Series(\\n            self.org_id_map.index, self.org_id_map.values\\n        ).sort_index()\\n\\n    def map_ids(self, data):\\n        self.build_ids_map(data[\\\"users\\\"], data[\\\"organisations\\\"])\\n        for key, df in data.items():\\n            if \\\"user_id\\\" in df:\\n                df[\\\"user_id\\\"] = df[\\\"user_id\\\"].map(self.reverse_user_id_map)\\n                df = df.astype({\\\"user_id\\\": np.int32})\\n            if \\\"org_id\\\" in df:\\n                df[\\\"org_id\\\"] = df[\\\"org_id\\\"].map(self.reverse_org_id_map)\\n                df = df.astype({\\\"org_id\\\": np.int32})\\n            data[key] = df\\n        return data\";\n",
       "                var nbb_cells = Jupyter.notebook.get_cells();\n",
       "                for (var i = 0; i < nbb_cells.length; ++i) {\n",
       "                    if (nbb_cells[i].input_prompt_number == nbb_cell_id) {\n",
       "                        if (nbb_cells[i].get_text() == nbb_unformatted_code) {\n",
       "                             nbb_cells[i].set_text(nbb_formatted_code);\n",
       "                        }\n",
       "                        break;\n",
       "                    }\n",
       "                }\n",
       "            }, 500);\n",
       "            "
      ],
      "text/plain": [
       "<IPython.core.display.Javascript object>"
      ]
     },
     "metadata": {},
     "output_type": "display_data"
    }
   ],
   "source": [
    "class Preprocessor:\n",
    "    @staticmethod\n",
    "    def filter(reviews, alpha=1, beta=1, gamma=0.9):\n",
    "        reviews = reviews.dropna(subset=[\"rating\"])\n",
    "        usefulness = reviews.groupby(\"org_id\").apply(\n",
    "            functools.partial(\n",
    "                Preprocessor.calculate_usefulness, alpha=alpha, beta=beta\n",
    "            ),\n",
    "        )\n",
    "        org_ids_to_keep = usefulness.sort_values().index[\n",
    "            -int(gamma * len(usefulness)) :\n",
    "        ]\n",
    "        return reviews.query(\"org_id in @org_ids_to_keep\")\n",
    "\n",
    "    @staticmethod\n",
    "    def calculate_usefulness(org_df, alpha, beta):\n",
    "        usefulness = (\n",
    "            len(org_df)\n",
    "            * (1 + org_df[\"rating\"].std(ddof=0)) ** alpha\n",
    "            * org_df[\"rating\"].mean() ** beta\n",
    "        )\n",
    "        return usefulness\n",
    "\n",
    "    @staticmethod\n",
    "    def single_train_test_split(reviews, fraction_of_max_possible_test_size):\n",
    "        ts_grouped_by_user_id = reviews.groupby(\"user_id\")[\"ts\"]\n",
    "        ranks = ts_grouped_by_user_id.rank(method=\"first\").rename(\"rank\")\n",
    "        sizes = ts_grouped_by_user_id.size().rename(\"size\")\n",
    "        test_prob = (\n",
    "            reviews[[\"user_id\"]]\n",
    "            .join(ranks)\n",
    "            .join(sizes, on=\"user_id\")\n",
    "            .pipe(lambda df: (df[\"rank\"] - 1) / (df[\"size\"] - 1).replace({0: 1}))\n",
    "            .pipe(lambda s: s / s.sum())\n",
    "        )\n",
    "        max_possible_test_size = test_prob.astype(bool).sum()\n",
    "\n",
    "        np.random.seed(42)\n",
    "\n",
    "        test_index = np.random.permutation(\n",
    "            np.random.choice(\n",
    "                reviews.index,\n",
    "                size=int(fraction_of_max_possible_test_size * max_possible_test_size),\n",
    "                replace=False,\n",
    "                p=test_prob,\n",
    "            )\n",
    "        )\n",
    "        test = reviews.loc[test_index]\n",
    "        train = reviews.drop(test_index).query(\"user_id in @test.user_id\")\n",
    "        return train, test\n",
    "\n",
    "    @staticmethod\n",
    "    def train_test_split(reviews, test_fractions):\n",
    "        total_test_fraction = sum(test_fractions)\n",
    "        train, test = Preprocessor.single_train_test_split(reviews, total_test_fraction)\n",
    "        test_sizes = [int(len(test) * i / total_test_fraction) for i in test_fractions]\n",
    "        test_splits = []\n",
    "        for begin, end in zip(np.cumsum([0] + test_sizes), np.cumsum(test_sizes)):\n",
    "            test_splits.append(test.iloc[begin:end])\n",
    "\n",
    "        return train, test_splits\n",
    "\n",
    "    def build_ids_map(self, users, organisations):\n",
    "        # self.user_id_map = users[\"user_id\"].sort_index()\n",
    "        self.user_id_map = users[\"user_id\"].reset_index(drop=True)\n",
    "        self.reverse_user_id_map = pd.Series(\n",
    "            self.user_id_map.index, self.user_id_map.values\n",
    "        ).sort_index()\n",
    "        # self.org_id_map = organisations[\"org_id\"].sort_index()\n",
    "        self.org_id_map = organisations[\"org_id\"].reset_index(drop=True)\n",
    "        self.reverse_org_id_map = pd.Series(\n",
    "            self.org_id_map.index, self.org_id_map.values\n",
    "        ).sort_index()\n",
    "\n",
    "    def map_ids(self, data):\n",
    "        self.build_ids_map(data[\"users\"], data[\"organisations\"])\n",
    "        for key, df in data.items():\n",
    "            if \"user_id\" in df:\n",
    "                df[\"user_id\"] = df[\"user_id\"].map(self.reverse_user_id_map)\n",
    "                df = df.astype({\"user_id\": np.int32})\n",
    "            if \"org_id\" in df:\n",
    "                df[\"org_id\"] = df[\"org_id\"].map(self.reverse_org_id_map)\n",
    "                df = df.astype({\"org_id\": np.int32})\n",
    "            data[key] = df\n",
    "        return data"
   ]
  },
  {
   "cell_type": "markdown",
   "metadata": {
    "ExecuteTime": {
     "end_time": "2022-07-31T12:52:14.901038Z",
     "start_time": "2022-07-31T12:52:14.887694Z"
    }
   },
   "source": [
    "* Во вторую очередь нас будут интересовать атрибуты организаций: aspects, features, rubrics. Проанализируйте эти таблицы. Какие признаки для описания организаций и пользователей из них можно извлечь?"
   ]
  },
  {
   "cell_type": "markdown",
   "metadata": {},
   "source": [
    "Эти таблицы содержат текстовые описания, так что можно взять их эмбединги или обучить латентные векторные представления, либо кластеризовать и взять метки кластеров, и использовать все это в качестве дополнительных признаков."
   ]
  },
  {
   "cell_type": "markdown",
   "metadata": {},
   "source": [
    "---\n",
    "\n",
    "**(1 балла) Задание 2.** Организация валидации.\n",
    "\n",
    "Как вы помните, обучающее множество собрано за X = 1277 дней, тестовое множество – за последующие Y = 107 дней.\n",
    "\n",
    "Следовательно нам необходимо организовать у себя валидацию схожим образом.\n",
    "Раз мы будем еще и осуществлять выбор моделей, то следует произвести расщепление по времени на 3 группы train validation и holdout.\n",
    "\n",
    "Как уже говорилось на семинаре, для повышения качества локальной валидации, можно сделать скользящую валидацию. В самой лабораторной работе мы так делать не будем, но для конкурса имейте это в виду.\n"
   ]
  },
  {
   "cell_type": "code",
   "execution_count": 9,
   "metadata": {
    "ExecuteTime": {
     "end_time": "2022-09-19T10:38:43.420344Z",
     "start_time": "2022-09-19T10:38:43.110187Z"
    }
   },
   "outputs": [
    {
     "data": {
      "application/javascript": [
       "\n",
       "            setTimeout(function() {\n",
       "                var nbb_cell_id = 9;\n",
       "                var nbb_unformatted_code = \"preprocessor = Preprocessor()\\ndata = preprocessor.map_ids(data)\\ntrain_reviews, (validation_reviews, holdout_reviews) = preprocessor.train_test_split(\\n    data[\\\"reviews\\\"], test_fractions=[0.25, 0.25]  # [0.01, 0]\\n)\";\n",
       "                var nbb_formatted_code = \"preprocessor = Preprocessor()\\ndata = preprocessor.map_ids(data)\\ntrain_reviews, (validation_reviews, holdout_reviews) = preprocessor.train_test_split(\\n    data[\\\"reviews\\\"], test_fractions=[0.25, 0.25]  # [0.01, 0]\\n)\";\n",
       "                var nbb_cells = Jupyter.notebook.get_cells();\n",
       "                for (var i = 0; i < nbb_cells.length; ++i) {\n",
       "                    if (nbb_cells[i].input_prompt_number == nbb_cell_id) {\n",
       "                        if (nbb_cells[i].get_text() == nbb_unformatted_code) {\n",
       "                             nbb_cells[i].set_text(nbb_formatted_code);\n",
       "                        }\n",
       "                        break;\n",
       "                    }\n",
       "                }\n",
       "            }, 500);\n",
       "            "
      ],
      "text/plain": [
       "<IPython.core.display.Javascript object>"
      ]
     },
     "metadata": {},
     "output_type": "display_data"
    }
   ],
   "source": [
    "preprocessor = Preprocessor()\n",
    "data = preprocessor.map_ids(data)\n",
    "train_reviews, (validation_reviews, holdout_reviews) = preprocessor.train_test_split(\n",
    "    data[\"reviews\"], test_fractions=[0.25, 0.25]  # [0.01, 0]\n",
    ")"
   ]
  },
  {
   "cell_type": "markdown",
   "metadata": {},
   "source": [
    "**(0.5 балла) Задание 3.** Базовые решения.\n",
    "\n",
    "Сделаем базовые решения:\n",
    "  * Для каждого пользователя выдаём 20 случайных организаций\n",
    "  * Для каждого пользователя выдаём самые популярные организации в неродном городе"
   ]
  },
  {
   "cell_type": "code",
   "execution_count": 10,
   "metadata": {
    "ExecuteTime": {
     "end_time": "2022-09-19T10:38:43.441695Z",
     "start_time": "2022-09-19T10:38:43.423545Z"
    }
   },
   "outputs": [
    {
     "data": {
      "application/javascript": [
       "\n",
       "            setTimeout(function() {\n",
       "                var nbb_cell_id = 10;\n",
       "                var nbb_unformatted_code = \"class RandomRecommender:\\n    def fit(self, reviews):\\n        self.org_ids = reviews[\\\"org_id\\\"].unique()\\n        return self\\n\\n    def recommend(self, user_ids, recommend_size=20):\\n        recommendations = np.random.choice(\\n            self.org_ids, size=(len(user_ids), recommend_size)\\n        )\\n        return pd.DataFrame(recommendations, user_ids)\\n\\n\\nclass PopularRecommender:\\n    def __init__(self, users, organisations):\\n        self.users = users\\n        self.organisations = organisations\\n\\n    def fit(self, reviews):\\n        self.popular_foreign_organisations_for_home_city = {}\\n        organisations = self.organisations.join(\\n            reviews.groupby(\\\"org_id\\\").size().rename(\\\"popularity\\\")\\n        )\\n\\n        for city in organisations[\\\"city\\\"].unique():\\n            self.popular_foreign_organisations_for_home_city[city] = (\\n                organisations.query(\\\"city != @city\\\")\\n                .sort_values(\\\"popularity\\\", ascending=False)\\n                .index.to_numpy()\\n            )\\n        return self\\n\\n    def recommend(self, user_ids, recommend_size=20):\\n        s = pd.Series(\\n            {\\n                city: orgs[:recommend_size]\\n                for city, orgs in self.popular_foreign_organisations_for_home_city.items()\\n            }\\n        )\\n\\n        recommendations = pd.DataFrame(\\n            np.stack(s.loc[self.users.loc[user_ids][\\\"city\\\"]].values), user_ids\\n        )\\n\\n        return recommendations\";\n",
       "                var nbb_formatted_code = \"class RandomRecommender:\\n    def fit(self, reviews):\\n        self.org_ids = reviews[\\\"org_id\\\"].unique()\\n        return self\\n\\n    def recommend(self, user_ids, recommend_size=20):\\n        recommendations = np.random.choice(\\n            self.org_ids, size=(len(user_ids), recommend_size)\\n        )\\n        return pd.DataFrame(recommendations, user_ids)\\n\\n\\nclass PopularRecommender:\\n    def __init__(self, users, organisations):\\n        self.users = users\\n        self.organisations = organisations\\n\\n    def fit(self, reviews):\\n        self.popular_foreign_organisations_for_home_city = {}\\n        organisations = self.organisations.join(\\n            reviews.groupby(\\\"org_id\\\").size().rename(\\\"popularity\\\")\\n        )\\n\\n        for city in organisations[\\\"city\\\"].unique():\\n            self.popular_foreign_organisations_for_home_city[city] = (\\n                organisations.query(\\\"city != @city\\\")\\n                .sort_values(\\\"popularity\\\", ascending=False)\\n                .index.to_numpy()\\n            )\\n        return self\\n\\n    def recommend(self, user_ids, recommend_size=20):\\n        s = pd.Series(\\n            {\\n                city: orgs[:recommend_size]\\n                for city, orgs in self.popular_foreign_organisations_for_home_city.items()\\n            }\\n        )\\n\\n        recommendations = pd.DataFrame(\\n            np.stack(s.loc[self.users.loc[user_ids][\\\"city\\\"]].values), user_ids\\n        )\\n\\n        return recommendations\";\n",
       "                var nbb_cells = Jupyter.notebook.get_cells();\n",
       "                for (var i = 0; i < nbb_cells.length; ++i) {\n",
       "                    if (nbb_cells[i].input_prompt_number == nbb_cell_id) {\n",
       "                        if (nbb_cells[i].get_text() == nbb_unformatted_code) {\n",
       "                             nbb_cells[i].set_text(nbb_formatted_code);\n",
       "                        }\n",
       "                        break;\n",
       "                    }\n",
       "                }\n",
       "            }, 500);\n",
       "            "
      ],
      "text/plain": [
       "<IPython.core.display.Javascript object>"
      ]
     },
     "metadata": {},
     "output_type": "display_data"
    }
   ],
   "source": [
    "class RandomRecommender:\n",
    "    def fit(self, reviews):\n",
    "        self.org_ids = reviews[\"org_id\"].unique()\n",
    "        return self\n",
    "\n",
    "    def recommend(self, user_ids, recommend_size=20):\n",
    "        recommendations = np.random.choice(\n",
    "            self.org_ids, size=(len(user_ids), recommend_size)\n",
    "        )\n",
    "        return pd.DataFrame(recommendations, user_ids)\n",
    "\n",
    "\n",
    "class PopularRecommender:\n",
    "    def __init__(self, users, organisations):\n",
    "        self.users = users\n",
    "        self.organisations = organisations\n",
    "\n",
    "    def fit(self, reviews):\n",
    "        self.popular_foreign_organisations_for_home_city = {}\n",
    "        organisations = self.organisations.join(\n",
    "            reviews.groupby(\"org_id\").size().rename(\"popularity\")\n",
    "        )\n",
    "\n",
    "        for city in organisations[\"city\"].unique():\n",
    "            self.popular_foreign_organisations_for_home_city[city] = (\n",
    "                organisations.query(\"city != @city\")\n",
    "                .sort_values(\"popularity\", ascending=False)\n",
    "                .index.to_numpy()\n",
    "            )\n",
    "        return self\n",
    "\n",
    "    def recommend(self, user_ids, recommend_size=20):\n",
    "        s = pd.Series(\n",
    "            {\n",
    "                city: orgs[:recommend_size]\n",
    "                for city, orgs in self.popular_foreign_organisations_for_home_city.items()\n",
    "            }\n",
    "        )\n",
    "\n",
    "        recommendations = pd.DataFrame(\n",
    "            np.stack(s.loc[self.users.loc[user_ids][\"city\"]].values), user_ids\n",
    "        )\n",
    "\n",
    "        return recommendations"
   ]
  },
  {
   "cell_type": "markdown",
   "metadata": {},
   "source": [
    "**(1.0 балла) Задание 4.** Метрики качества.\n",
    "\n",
    "Напомним, что у нас бинарная релевантнотсь на основе оценки вычисляется как предикат **оценка больше, чем 3**.\n",
    "\n",
    "Реализуйте набор метрик качества (можете оборачивать внешние паекты):\n",
    "\n",
    "    * MNAP@20 (как в описании соревнования)\n",
    "    * HitRate ( = 1, если среди рекомендаций есть хотя бы одна релевантная и 0 иначе)\n",
    "    * MRR@20 ( обратная позиция первой релевантной рекомендации из списка рекомендаций длины K. )\n",
    "    * Coverage (доля item-ов, учитываемых в рекомендациях)\n",
    "    * Surprisal(см. ниже) \n",
    "\n",
    "\n",
    "### Surprisal\n",
    "Посмотирм, насколько наши рекомендации хороши с точки зрения новизны для пользователя, в качестве новизны будем рассматривать \"непопулярность\" айтемов в рекомендациях.\n",
    "\n",
    "Будем рассматривать собственную информацию item-а как меру его новизны.\n",
    "\n",
    "$$selfInformation(i) = -\\log_2 \\frac{|u_i|}{|N|}$$, \n",
    "где \n",
    "$i$ - объект, $|N|$ - число взаимодействий в обучающей выборке,  $|u_i|$ - число пользователей, взаимодействовавших с объектом в обучающей выборке.\n",
    "\n",
    "После подсчета собственной информации усредним значения собственной информации в рекомендациях пользователя.\n",
    "\n",
    "Чтобы получить значения от 0 до 1, разделим значение метрики для пользователя на максимально возможно значение метрики равное $log_2 N$.\n",
    "\n",
    "$$Surprisal(u)@k = \\frac{1}{k \\cdot log_2 N} \\sum_{j = 1}^{k}selfInformation(i_{u,j})$$\n",
    "\n",
    "где $i_{u,j}$ это j-й объект, который мы порекомендововали пользователю.\n",
    "\n",
    "Получившаяся метрика похожа на энтропию Шеннона:\n",
    "$$H = - K \\sum_{i\\in R}{p_i log p_i}$$\n",
    "\n",
    "\n",
    "Результа усредним по пользователям.\n",
    "\n",
    "### Что нужно сделать\n",
    "    \n",
    "  * Создайте функцию, которая генерирует словарь с метриками, по предоставленному решению.\n",
    "\n",
    "  * Оцените baseline-решения на валидации."
   ]
  },
  {
   "cell_type": "code",
   "execution_count": 11,
   "metadata": {
    "ExecuteTime": {
     "end_time": "2022-09-19T10:38:43.753901Z",
     "start_time": "2022-09-19T10:38:43.443534Z"
    }
   },
   "outputs": [
    {
     "data": {
      "application/javascript": [
       "\n",
       "            setTimeout(function() {\n",
       "                var nbb_cell_id = 11;\n",
       "                var nbb_unformatted_code = \"from metrics import Metrics\";\n",
       "                var nbb_formatted_code = \"from metrics import Metrics\";\n",
       "                var nbb_cells = Jupyter.notebook.get_cells();\n",
       "                for (var i = 0; i < nbb_cells.length; ++i) {\n",
       "                    if (nbb_cells[i].input_prompt_number == nbb_cell_id) {\n",
       "                        if (nbb_cells[i].get_text() == nbb_unformatted_code) {\n",
       "                             nbb_cells[i].set_text(nbb_formatted_code);\n",
       "                        }\n",
       "                        break;\n",
       "                    }\n",
       "                }\n",
       "            }, 500);\n",
       "            "
      ],
      "text/plain": [
       "<IPython.core.display.Javascript object>"
      ]
     },
     "metadata": {},
     "output_type": "display_data"
    }
   ],
   "source": [
    "from metrics import Metrics"
   ]
  },
  {
   "cell_type": "code",
   "execution_count": 12,
   "metadata": {
    "ExecuteTime": {
     "end_time": "2022-09-19T10:38:43.784003Z",
     "start_time": "2022-09-19T10:38:43.756190Z"
    }
   },
   "outputs": [
    {
     "data": {
      "application/javascript": [
       "\n",
       "            setTimeout(function() {\n",
       "                var nbb_cell_id = 12;\n",
       "                var nbb_unformatted_code = \"import pickle\\n\\n\\nclass Assessor:\\n    def __init__(self, data, train_reviews, validation_reviews, save=False):\\n        self.data = data\\n        self.train_reviews = train_reviews\\n        self.validation_reviews = validation_reviews\\n        self.save = save\\n\\n        self.train_users = train_reviews[\\\"user_id\\\"].unique()\\n        self.validation_users = validation_reviews[\\\"user_id\\\"].unique()\\n        self.train_metrics = Metrics(\\n            train_reviews.query(\\\"rating >= 4\\\")[[\\\"user_id\\\", \\\"org_id\\\"]]\\n        )\\n        self.val_metrics = Metrics(\\n            validation_reviews.query(\\\"rating >= 4\\\")[[\\\"user_id\\\", \\\"org_id\\\"]]\\n        )\\n        self.assessments = {}\\n\\n    def assess_model(self, model, name):\\n        model.fit(self.train_reviews)\\n\\n        train_recommendations = model.recommend(self.train_users)\\n        val_recommendations = model.recommend(self.validation_users)\\n\\n        train_metrics = self.train_metrics.calculate_metrics(train_recommendations)\\n        val_metrics = self.val_metrics.calculate_metrics(val_recommendations)\\n\\n        self.assessments[name] = {\\n            \\\"train_recommendations\\\": train_recommendations,\\n            \\\"val_recommendations\\\": val_recommendations,\\n            \\\"train_metrics\\\": train_metrics.rename(name),\\n            \\\"val_metrics\\\": val_metrics.rename(name),\\n        }\\n        if self.save:\\n            pickle.dump(self.assessments, open(\\\"local/assessments.pickle\\\", \\\"wb\\\"))\\n\\n    def assess(self, models):\\n        for name, model in models.items():\\n            self.assess_model(model, name)\\n\\n    def load_assessments(self):\\n        self.assessments = pickle.load(open(\\\"local/assessments.pickle\\\", \\\"rb\\\"))\\n\\n    def show_metrics(self, kind=\\\"hist\\\"):\\n        metrics = []\\n        for dataset in [\\\"train\\\", \\\"val\\\"]:\\n            metrics.append(\\n                pd.concat(\\n                    [i[f\\\"{dataset}_metrics\\\"] for i in self.assessments.values()],\\n                    axis=\\\"columns\\\",\\n                )\\n                .T.add_prefix(f\\\"{dataset}_\\\")\\n                .T\\n            )\\n\\n        metrics = pd.concat(metrics).reindex(\\n            np.array(list(zip(*[i.index for i in metrics]))).flatten()\\n        )\\n        if kind == \\\"hist\\\":\\n            return self.hist_metrics(metrics)\\n        elif kind == \\\"table\\\":\\n            return self.table_metrics(metrics)\\n        else:\\n            raise ValueError(\\\"Unknown visualization method.\\\")\\n\\n    @staticmethod\\n    def hist_metrics(metrics):\\n        metrics.plot(\\n            figsize=(16, 6),\\n            kind=\\\"bar\\\",\\n            log=True,\\n            title=\\\"Model metrics, log scale\\\",\\n            rot=0,\\n        )\\n\\n    @staticmethod\\n    def table_metrics(metrics):\\n        return metrics.T.style.background_gradient(cmap=\\\"coolwarm\\\", low=0.5, high=0.5)\";\n",
       "                var nbb_formatted_code = \"import pickle\\n\\n\\nclass Assessor:\\n    def __init__(self, data, train_reviews, validation_reviews, save=False):\\n        self.data = data\\n        self.train_reviews = train_reviews\\n        self.validation_reviews = validation_reviews\\n        self.save = save\\n\\n        self.train_users = train_reviews[\\\"user_id\\\"].unique()\\n        self.validation_users = validation_reviews[\\\"user_id\\\"].unique()\\n        self.train_metrics = Metrics(\\n            train_reviews.query(\\\"rating >= 4\\\")[[\\\"user_id\\\", \\\"org_id\\\"]]\\n        )\\n        self.val_metrics = Metrics(\\n            validation_reviews.query(\\\"rating >= 4\\\")[[\\\"user_id\\\", \\\"org_id\\\"]]\\n        )\\n        self.assessments = {}\\n\\n    def assess_model(self, model, name):\\n        model.fit(self.train_reviews)\\n\\n        train_recommendations = model.recommend(self.train_users)\\n        val_recommendations = model.recommend(self.validation_users)\\n\\n        train_metrics = self.train_metrics.calculate_metrics(train_recommendations)\\n        val_metrics = self.val_metrics.calculate_metrics(val_recommendations)\\n\\n        self.assessments[name] = {\\n            \\\"train_recommendations\\\": train_recommendations,\\n            \\\"val_recommendations\\\": val_recommendations,\\n            \\\"train_metrics\\\": train_metrics.rename(name),\\n            \\\"val_metrics\\\": val_metrics.rename(name),\\n        }\\n        if self.save:\\n            pickle.dump(self.assessments, open(\\\"local/assessments.pickle\\\", \\\"wb\\\"))\\n\\n    def assess(self, models):\\n        for name, model in models.items():\\n            self.assess_model(model, name)\\n\\n    def load_assessments(self):\\n        self.assessments = pickle.load(open(\\\"local/assessments.pickle\\\", \\\"rb\\\"))\\n\\n    def show_metrics(self, kind=\\\"hist\\\"):\\n        metrics = []\\n        for dataset in [\\\"train\\\", \\\"val\\\"]:\\n            metrics.append(\\n                pd.concat(\\n                    [i[f\\\"{dataset}_metrics\\\"] for i in self.assessments.values()],\\n                    axis=\\\"columns\\\",\\n                )\\n                .T.add_prefix(f\\\"{dataset}_\\\")\\n                .T\\n            )\\n\\n        metrics = pd.concat(metrics).reindex(\\n            np.array(list(zip(*[i.index for i in metrics]))).flatten()\\n        )\\n        if kind == \\\"hist\\\":\\n            return self.hist_metrics(metrics)\\n        elif kind == \\\"table\\\":\\n            return self.table_metrics(metrics)\\n        else:\\n            raise ValueError(\\\"Unknown visualization method.\\\")\\n\\n    @staticmethod\\n    def hist_metrics(metrics):\\n        metrics.plot(\\n            figsize=(16, 6),\\n            kind=\\\"bar\\\",\\n            log=True,\\n            title=\\\"Model metrics, log scale\\\",\\n            rot=0,\\n        )\\n\\n    @staticmethod\\n    def table_metrics(metrics):\\n        return metrics.T.style.background_gradient(cmap=\\\"coolwarm\\\", low=0.5, high=0.5)\";\n",
       "                var nbb_cells = Jupyter.notebook.get_cells();\n",
       "                for (var i = 0; i < nbb_cells.length; ++i) {\n",
       "                    if (nbb_cells[i].input_prompt_number == nbb_cell_id) {\n",
       "                        if (nbb_cells[i].get_text() == nbb_unformatted_code) {\n",
       "                             nbb_cells[i].set_text(nbb_formatted_code);\n",
       "                        }\n",
       "                        break;\n",
       "                    }\n",
       "                }\n",
       "            }, 500);\n",
       "            "
      ],
      "text/plain": [
       "<IPython.core.display.Javascript object>"
      ]
     },
     "metadata": {},
     "output_type": "display_data"
    }
   ],
   "source": [
    "import pickle\n",
    "\n",
    "\n",
    "class Assessor:\n",
    "    def __init__(self, data, train_reviews, validation_reviews, save=False):\n",
    "        self.data = data\n",
    "        self.train_reviews = train_reviews\n",
    "        self.validation_reviews = validation_reviews\n",
    "        self.save = save\n",
    "\n",
    "        self.train_users = train_reviews[\"user_id\"].unique()\n",
    "        self.validation_users = validation_reviews[\"user_id\"].unique()\n",
    "        self.train_metrics = Metrics(\n",
    "            train_reviews.query(\"rating >= 4\")[[\"user_id\", \"org_id\"]]\n",
    "        )\n",
    "        self.val_metrics = Metrics(\n",
    "            validation_reviews.query(\"rating >= 4\")[[\"user_id\", \"org_id\"]]\n",
    "        )\n",
    "        self.assessments = {}\n",
    "\n",
    "    def assess_model(self, model, name):\n",
    "        model.fit(self.train_reviews)\n",
    "\n",
    "        train_recommendations = model.recommend(self.train_users)\n",
    "        val_recommendations = model.recommend(self.validation_users)\n",
    "\n",
    "        train_metrics = self.train_metrics.calculate_metrics(train_recommendations)\n",
    "        val_metrics = self.val_metrics.calculate_metrics(val_recommendations)\n",
    "\n",
    "        self.assessments[name] = {\n",
    "            \"train_recommendations\": train_recommendations,\n",
    "            \"val_recommendations\": val_recommendations,\n",
    "            \"train_metrics\": train_metrics.rename(name),\n",
    "            \"val_metrics\": val_metrics.rename(name),\n",
    "        }\n",
    "        if self.save:\n",
    "            pickle.dump(self.assessments, open(\"local/assessments.pickle\", \"wb\"))\n",
    "\n",
    "    def assess(self, models):\n",
    "        for name, model in models.items():\n",
    "            self.assess_model(model, name)\n",
    "\n",
    "    def load_assessments(self):\n",
    "        self.assessments = pickle.load(open(\"local/assessments.pickle\", \"rb\"))\n",
    "\n",
    "    def show_metrics(self, kind=\"hist\"):\n",
    "        metrics = []\n",
    "        for dataset in [\"train\", \"val\"]:\n",
    "            metrics.append(\n",
    "                pd.concat(\n",
    "                    [i[f\"{dataset}_metrics\"] for i in self.assessments.values()],\n",
    "                    axis=\"columns\",\n",
    "                )\n",
    "                .T.add_prefix(f\"{dataset}_\")\n",
    "                .T\n",
    "            )\n",
    "\n",
    "        metrics = pd.concat(metrics).reindex(\n",
    "            np.array(list(zip(*[i.index for i in metrics]))).flatten()\n",
    "        )\n",
    "        if kind == \"hist\":\n",
    "            return self.hist_metrics(metrics)\n",
    "        elif kind == \"table\":\n",
    "            return self.table_metrics(metrics)\n",
    "        else:\n",
    "            raise ValueError(\"Unknown visualization method.\")\n",
    "\n",
    "    @staticmethod\n",
    "    def hist_metrics(metrics):\n",
    "        metrics.plot(\n",
    "            figsize=(16, 6),\n",
    "            kind=\"bar\",\n",
    "            log=True,\n",
    "            title=\"Model metrics, log scale\",\n",
    "            rot=0,\n",
    "        )\n",
    "\n",
    "    @staticmethod\n",
    "    def table_metrics(metrics):\n",
    "        return metrics.T.style.background_gradient(cmap=\"coolwarm\", low=0.5, high=0.5)"
   ]
  },
  {
   "cell_type": "code",
   "execution_count": 13,
   "metadata": {
    "ExecuteTime": {
     "end_time": "2022-09-19T10:38:43.900354Z",
     "start_time": "2022-09-19T10:38:43.785725Z"
    }
   },
   "outputs": [
    {
     "data": {
      "application/javascript": [
       "\n",
       "            setTimeout(function() {\n",
       "                var nbb_cell_id = 13;\n",
       "                var nbb_unformatted_code = \"assessor = Assessor(data, train_reviews, validation_reviews)\";\n",
       "                var nbb_formatted_code = \"assessor = Assessor(data, train_reviews, validation_reviews)\";\n",
       "                var nbb_cells = Jupyter.notebook.get_cells();\n",
       "                for (var i = 0; i < nbb_cells.length; ++i) {\n",
       "                    if (nbb_cells[i].input_prompt_number == nbb_cell_id) {\n",
       "                        if (nbb_cells[i].get_text() == nbb_unformatted_code) {\n",
       "                             nbb_cells[i].set_text(nbb_formatted_code);\n",
       "                        }\n",
       "                        break;\n",
       "                    }\n",
       "                }\n",
       "            }, 500);\n",
       "            "
      ],
      "text/plain": [
       "<IPython.core.display.Javascript object>"
      ]
     },
     "metadata": {},
     "output_type": "display_data"
    }
   ],
   "source": [
    "assessor = Assessor(data, train_reviews, validation_reviews)"
   ]
  },
  {
   "cell_type": "code",
   "execution_count": 14,
   "metadata": {
    "ExecuteTime": {
     "end_time": "2022-09-19T10:38:48.355459Z",
     "start_time": "2022-09-19T10:38:43.902444Z"
    }
   },
   "outputs": [
    {
     "data": {
      "application/javascript": [
       "\n",
       "            setTimeout(function() {\n",
       "                var nbb_cell_id = 14;\n",
       "                var nbb_unformatted_code = \"baseline_models = {\\n    \\\"random\\\": RandomRecommender(),\\n    \\\"popular\\\": PopularRecommender(data[\\\"users\\\"], data[\\\"organisations\\\"]),\\n}\\nassessor.assess(baseline_models)\";\n",
       "                var nbb_formatted_code = \"baseline_models = {\\n    \\\"random\\\": RandomRecommender(),\\n    \\\"popular\\\": PopularRecommender(data[\\\"users\\\"], data[\\\"organisations\\\"]),\\n}\\nassessor.assess(baseline_models)\";\n",
       "                var nbb_cells = Jupyter.notebook.get_cells();\n",
       "                for (var i = 0; i < nbb_cells.length; ++i) {\n",
       "                    if (nbb_cells[i].input_prompt_number == nbb_cell_id) {\n",
       "                        if (nbb_cells[i].get_text() == nbb_unformatted_code) {\n",
       "                             nbb_cells[i].set_text(nbb_formatted_code);\n",
       "                        }\n",
       "                        break;\n",
       "                    }\n",
       "                }\n",
       "            }, 500);\n",
       "            "
      ],
      "text/plain": [
       "<IPython.core.display.Javascript object>"
      ]
     },
     "metadata": {},
     "output_type": "display_data"
    }
   ],
   "source": [
    "baseline_models = {\n",
    "    \"random\": RandomRecommender(),\n",
    "    \"popular\": PopularRecommender(data[\"users\"], data[\"organisations\"]),\n",
    "}\n",
    "assessor.assess(baseline_models)"
   ]
  },
  {
   "cell_type": "code",
   "execution_count": 15,
   "metadata": {
    "ExecuteTime": {
     "end_time": "2022-09-19T10:38:48.680033Z",
     "start_time": "2022-09-19T10:38:48.358256Z"
    }
   },
   "outputs": [
    {
     "data": {
      "image/png": "[encoded data removed]",
      "text/plain": [
       "<Figure size 1152x432 with 1 Axes>"
      ]
     },
     "metadata": {
      "needs_background": "light"
     },
     "output_type": "display_data"
    },
    {
     "data": {
      "application/javascript": [
       "\n",
       "            setTimeout(function() {\n",
       "                var nbb_cell_id = 15;\n",
       "                var nbb_unformatted_code = \"assessor.show_metrics()\";\n",
       "                var nbb_formatted_code = \"assessor.show_metrics()\";\n",
       "                var nbb_cells = Jupyter.notebook.get_cells();\n",
       "                for (var i = 0; i < nbb_cells.length; ++i) {\n",
       "                    if (nbb_cells[i].input_prompt_number == nbb_cell_id) {\n",
       "                        if (nbb_cells[i].get_text() == nbb_unformatted_code) {\n",
       "                             nbb_cells[i].set_text(nbb_formatted_code);\n",
       "                        }\n",
       "                        break;\n",
       "                    }\n",
       "                }\n",
       "            }, 500);\n",
       "            "
      ],
      "text/plain": [
       "<IPython.core.display.Javascript object>"
      ]
     },
     "metadata": {},
     "output_type": "display_data"
    }
   ],
   "source": [
    "assessor.show_metrics()"
   ]
  },
  {
   "cell_type": "markdown",
   "metadata": {},
   "source": [
    "**(1.0 балла) Задание 5.** Метод Memory based. User-2-User or Item-2-Item\n",
    "\n",
    "Теперь рассмотрим [memory-based](https://en.wikipedia.org/wiki/Collaborative_filtering#Memory-based) методы рекоммендаций.\n",
    "Подход, лежащий в их основе, использует данные о рейтингах для вычисления сходства между пользователями (user-based) или объектами (item-based), на основе этих данных делаются предсказания рейтингов и, в дальнейшем, строятся рекоммендации. Эти методы просты в реализации и эффективны на ранних стадиях разработки рекомендательных систем.\n",
    "                                 \n",
    "              \n",
    "За последние годы было создано много библиотек для реализации алгоримтов построения рекомендаций.      \n",
    "  * https://github.com/benfred/implicit\n",
    "  * https://sberbank-ai-lab.github.io/RePlay/index.html\n",
    "  * https://github.com/apple/turicreate \n",
    "  * https://github.com/caserec/CaseRecommender\n",
    "\n",
    "Выеберите одну из них и постройте предсказания на основании совместной фильтрации по близости пользователей или по близости объектов.\n",
    "\n",
    "Если обучение идёт слишком долго подумайте про семплирование данных. Обоснуйте выбранную стратегию семплирования.\n",
    "\n"
   ]
  },
  {
   "cell_type": "code",
   "execution_count": 16,
   "metadata": {
    "ExecuteTime": {
     "end_time": "2022-09-19T10:38:49.129421Z",
     "start_time": "2022-09-19T10:38:48.682270Z"
    }
   },
   "outputs": [
    {
     "data": {
      "application/javascript": [
       "\n",
       "            setTimeout(function() {\n",
       "                var nbb_cell_id = 16;\n",
       "                var nbb_unformatted_code = \"import implicit\\n\\nfrom collections import ChainMap\\nfrom scipy.sparse import csr_matrix, coo_matrix\\nfrom tqdm.auto import tqdm\\n\\ntry:\\n    from lightfm.data import Dataset\\nexcept ImportError:\\n    pass\\n\\n\\nclass SparseInterface:\\n    def __init__(self, data, train_reviews, invalid_org_mark=-1):\\n        self.data = data\\n        self.train_reviews = train_reviews\\n        self.users = self.data[\\\"users\\\"]\\n        self.organisations = self.data[\\\"organisations\\\"]\\n        self.invalid_org_mark = invalid_org_mark\\n\\n        dataset = Dataset()\\n        self.fit(dataset)\\n        self.build_user_features(dataset)\\n        self.build_item_features(dataset)\\n        self.build_mapping(dataset)\\n        self.build_interactions(dataset)\\n\\n    def build_mapping(self, dataset):\\n        (\\n            self.user_id_map,\\n            self.user_feature_map,\\n            self.item_id_map,\\n            self.item_feature_map,\\n        ) = dataset.mapping()\\n        self.user_id_map = pd.Series(self.user_id_map)\\n        item_id_map = pd.Series(self.item_id_map)\\n        self.item_id_map_reverse = pd.Series(item_id_map.index, item_id_map.values)\\n        self.item_id_map_reverse[self.invalid_org_mark] = self.invalid_org_mark\\n\\n    def fit(self, dataset):\\n        dataset.fit(\\n            users=self.users[\\\"user_id\\\"],\\n            items=self.organisations[\\\"org_id\\\"],\\n            user_features=self.users[\\\"city\\\"].unique(),\\n            item_features=list(self.organisations[\\\"city\\\"].unique())\\n            + [\\\"average_bill\\\", \\\"rating\\\", \\\"ts\\\"]\\n            + [f\\\"rubric_{rubric_id}\\\" for rubric_id in self.data[\\\"rubrics\\\"][\\\"rubric_id\\\"]]\\n            + [\\n                f\\\"feature_{feature_id}\\\"\\n                for feature_id in self.data[\\\"features\\\"][\\\"feature_id\\\"]\\n            ]\\n            + [\\n                f\\\"aspect_{aspect_id}\\\"\\n                for aspect_id in set(self.data[\\\"aspects\\\"][\\\"aspect_id\\\"])\\n                | set([i for j in train_reviews[\\\"aspects\\\"] for i in j])\\n            ],\\n        )\\n\\n    def build_user_features(self, dataset):\\n        self.user_features = dataset.build_user_features(\\n            zip(self.users[\\\"user_id\\\"].values, self.users[[\\\"city\\\"]].values),\\n            normalize=False,\\n        )\\n\\n    @staticmethod\\n    def normalize(s):\\n        return (s - s.mean()) / s.std()\\n\\n    @staticmethod\\n    def parse_list_of_feature_ids(feature_ids, name):\\n        try:\\n            return {f\\\"{name}_{feature_id}\\\": True for feature_id in feature_ids}\\n        except TypeError:\\n            return {}\\n\\n    @staticmethod\\n    def extract_org_features(org_row):\\n        org_features = {\\n            **{org_row[\\\"city\\\"]: True},\\n            **org_row[[\\\"average_bill\\\", \\\"rating\\\", \\\"ts\\\"]].dropna().to_dict(),\\n            **SparseInterface.parse_list_of_feature_ids(\\n                org_row[\\\"rubrics_id\\\"], \\\"rubric\\\"\\n            ),\\n            **SparseInterface.parse_list_of_feature_ids(\\n                org_row[\\\"features_id\\\"], \\\"feature\\\"\\n            ),\\n            **SparseInterface.parse_list_of_feature_ids(\\n                org_row[\\\"aspects_id\\\"], \\\"aspect\\\"\\n            ),\\n        }\\n        return org_features\\n\\n    def build_item_features(self, dataset):\\n        organisations = self.organisations\\n        organisations[\\\"rating\\\"] = self.normalize(organisations[\\\"rating\\\"])\\n        organisations[\\\"average_bill\\\"] = self.normalize(organisations[\\\"average_bill\\\"])\\n        organisations[\\\"ts\\\"] = self.normalize(\\n            self.train_reviews.groupby(\\\"org_id\\\")[\\\"ts\\\"].mean()\\n        )\\n        organisations[\\\"aspects_id\\\"] = self.train_reviews.groupby(\\\"org_id\\\")[\\n            \\\"aspects\\\"\\n        ].agg(lambda s: [i for j in s.values for i in j])\\n        self.item_features = dataset.build_item_features(\\n            (\\n                (\\n                    org_row[\\\"org_id\\\"],\\n                    self.extract_org_features(org_row),\\n                )\\n                for org_id, org_row in organisations.iterrows()\\n            ),\\n            normalize=False,\\n        )\\n\\n    def build_interactions(self, dataset):\\n        self.interactions, self.interactions_weighted = dataset.build_interactions(\\n            self.train_reviews[[\\\"user_id\\\", \\\"org_id\\\", \\\"rating\\\"]]\\n            .dropna()\\n            .astype(np.int32)\\n            .values\\n        )\\n\\n    @staticmethod\\n    def single_scale_features(features, relative_feature_importance):\\n        features = features.copy()\\n        n = features.shape[0]\\n        features_norm = features[:, n:].sum(axis=1)\\n        features[:, n:] = csr_matrix(\\n            features[:, n:].multiply(relative_feature_importance / features_norm)\\n        )\\n        return features\\n\\n    def scale_features(self, relative_feature_importance):\\n        scaled_user_features = self.single_scale_features(\\n            self.user_features, relative_feature_importance\\n        )\\n        scaled_item_features = self.single_scale_features(\\n            self.item_features, relative_feature_importance\\n        )\\n        return scaled_user_features, scaled_item_features\\n\\n    def user_ids_to_latent(self, user_ids):\\n        return self.user_id_map.loc[user_ids]\\n\\n    def recommended_org_ids_from_latent(self, latent_recommendations):\\n        recommendations = latent_recommendations.apply(\\n            lambda s: self.item_id_map_reverse.loc[s].values\\n        )\\n        return recommendations\";\n",
       "                var nbb_formatted_code = \"import implicit\\n\\nfrom collections import ChainMap\\nfrom scipy.sparse import csr_matrix, coo_matrix\\nfrom tqdm.auto import tqdm\\n\\ntry:\\n    from lightfm.data import Dataset\\nexcept ImportError:\\n    pass\\n\\n\\nclass SparseInterface:\\n    def __init__(self, data, train_reviews, invalid_org_mark=-1):\\n        self.data = data\\n        self.train_reviews = train_reviews\\n        self.users = self.data[\\\"users\\\"]\\n        self.organisations = self.data[\\\"organisations\\\"]\\n        self.invalid_org_mark = invalid_org_mark\\n\\n        dataset = Dataset()\\n        self.fit(dataset)\\n        self.build_user_features(dataset)\\n        self.build_item_features(dataset)\\n        self.build_mapping(dataset)\\n        self.build_interactions(dataset)\\n\\n    def build_mapping(self, dataset):\\n        (\\n            self.user_id_map,\\n            self.user_feature_map,\\n            self.item_id_map,\\n            self.item_feature_map,\\n        ) = dataset.mapping()\\n        self.user_id_map = pd.Series(self.user_id_map)\\n        item_id_map = pd.Series(self.item_id_map)\\n        self.item_id_map_reverse = pd.Series(item_id_map.index, item_id_map.values)\\n        self.item_id_map_reverse[self.invalid_org_mark] = self.invalid_org_mark\\n\\n    def fit(self, dataset):\\n        dataset.fit(\\n            users=self.users[\\\"user_id\\\"],\\n            items=self.organisations[\\\"org_id\\\"],\\n            user_features=self.users[\\\"city\\\"].unique(),\\n            item_features=list(self.organisations[\\\"city\\\"].unique())\\n            + [\\\"average_bill\\\", \\\"rating\\\", \\\"ts\\\"]\\n            + [f\\\"rubric_{rubric_id}\\\" for rubric_id in self.data[\\\"rubrics\\\"][\\\"rubric_id\\\"]]\\n            + [\\n                f\\\"feature_{feature_id}\\\"\\n                for feature_id in self.data[\\\"features\\\"][\\\"feature_id\\\"]\\n            ]\\n            + [\\n                f\\\"aspect_{aspect_id}\\\"\\n                for aspect_id in set(self.data[\\\"aspects\\\"][\\\"aspect_id\\\"])\\n                | set([i for j in train_reviews[\\\"aspects\\\"] for i in j])\\n            ],\\n        )\\n\\n    def build_user_features(self, dataset):\\n        self.user_features = dataset.build_user_features(\\n            zip(self.users[\\\"user_id\\\"].values, self.users[[\\\"city\\\"]].values),\\n            normalize=False,\\n        )\\n\\n    @staticmethod\\n    def normalize(s):\\n        return (s - s.mean()) / s.std()\\n\\n    @staticmethod\\n    def parse_list_of_feature_ids(feature_ids, name):\\n        try:\\n            return {f\\\"{name}_{feature_id}\\\": True for feature_id in feature_ids}\\n        except TypeError:\\n            return {}\\n\\n    @staticmethod\\n    def extract_org_features(org_row):\\n        org_features = {\\n            **{org_row[\\\"city\\\"]: True},\\n            **org_row[[\\\"average_bill\\\", \\\"rating\\\", \\\"ts\\\"]].dropna().to_dict(),\\n            **SparseInterface.parse_list_of_feature_ids(\\n                org_row[\\\"rubrics_id\\\"], \\\"rubric\\\"\\n            ),\\n            **SparseInterface.parse_list_of_feature_ids(\\n                org_row[\\\"features_id\\\"], \\\"feature\\\"\\n            ),\\n            **SparseInterface.parse_list_of_feature_ids(\\n                org_row[\\\"aspects_id\\\"], \\\"aspect\\\"\\n            ),\\n        }\\n        return org_features\\n\\n    def build_item_features(self, dataset):\\n        organisations = self.organisations\\n        organisations[\\\"rating\\\"] = self.normalize(organisations[\\\"rating\\\"])\\n        organisations[\\\"average_bill\\\"] = self.normalize(organisations[\\\"average_bill\\\"])\\n        organisations[\\\"ts\\\"] = self.normalize(\\n            self.train_reviews.groupby(\\\"org_id\\\")[\\\"ts\\\"].mean()\\n        )\\n        organisations[\\\"aspects_id\\\"] = self.train_reviews.groupby(\\\"org_id\\\")[\\n            \\\"aspects\\\"\\n        ].agg(lambda s: [i for j in s.values for i in j])\\n        self.item_features = dataset.build_item_features(\\n            (\\n                (\\n                    org_row[\\\"org_id\\\"],\\n                    self.extract_org_features(org_row),\\n                )\\n                for org_id, org_row in organisations.iterrows()\\n            ),\\n            normalize=False,\\n        )\\n\\n    def build_interactions(self, dataset):\\n        self.interactions, self.interactions_weighted = dataset.build_interactions(\\n            self.train_reviews[[\\\"user_id\\\", \\\"org_id\\\", \\\"rating\\\"]]\\n            .dropna()\\n            .astype(np.int32)\\n            .values\\n        )\\n\\n    @staticmethod\\n    def single_scale_features(features, relative_feature_importance):\\n        features = features.copy()\\n        n = features.shape[0]\\n        features_norm = features[:, n:].sum(axis=1)\\n        features[:, n:] = csr_matrix(\\n            features[:, n:].multiply(relative_feature_importance / features_norm)\\n        )\\n        return features\\n\\n    def scale_features(self, relative_feature_importance):\\n        scaled_user_features = self.single_scale_features(\\n            self.user_features, relative_feature_importance\\n        )\\n        scaled_item_features = self.single_scale_features(\\n            self.item_features, relative_feature_importance\\n        )\\n        return scaled_user_features, scaled_item_features\\n\\n    def user_ids_to_latent(self, user_ids):\\n        return self.user_id_map.loc[user_ids]\\n\\n    def recommended_org_ids_from_latent(self, latent_recommendations):\\n        recommendations = latent_recommendations.apply(\\n            lambda s: self.item_id_map_reverse.loc[s].values\\n        )\\n        return recommendations\";\n",
       "                var nbb_cells = Jupyter.notebook.get_cells();\n",
       "                for (var i = 0; i < nbb_cells.length; ++i) {\n",
       "                    if (nbb_cells[i].input_prompt_number == nbb_cell_id) {\n",
       "                        if (nbb_cells[i].get_text() == nbb_unformatted_code) {\n",
       "                             nbb_cells[i].set_text(nbb_formatted_code);\n",
       "                        }\n",
       "                        break;\n",
       "                    }\n",
       "                }\n",
       "            }, 500);\n",
       "            "
      ],
      "text/plain": [
       "<IPython.core.display.Javascript object>"
      ]
     },
     "metadata": {},
     "output_type": "display_data"
    }
   ],
   "source": [
    "import implicit\n",
    "\n",
    "from collections import ChainMap\n",
    "from scipy.sparse import csr_matrix, coo_matrix\n",
    "from tqdm.auto import tqdm\n",
    "\n",
    "try:\n",
    "    from lightfm.data import Dataset\n",
    "except ImportError:\n",
    "    pass\n",
    "\n",
    "\n",
    "class SparseInterface:\n",
    "    def __init__(self, data, train_reviews, invalid_org_mark=-1):\n",
    "        self.data = data\n",
    "        self.train_reviews = train_reviews\n",
    "        self.users = self.data[\"users\"]\n",
    "        self.organisations = self.data[\"organisations\"]\n",
    "        self.invalid_org_mark = invalid_org_mark\n",
    "\n",
    "        dataset = Dataset()\n",
    "        self.fit(dataset)\n",
    "        self.build_user_features(dataset)\n",
    "        self.build_item_features(dataset)\n",
    "        self.build_mapping(dataset)\n",
    "        self.build_interactions(dataset)\n",
    "\n",
    "    def build_mapping(self, dataset):\n",
    "        (\n",
    "            self.user_id_map,\n",
    "            self.user_feature_map,\n",
    "            self.item_id_map,\n",
    "            self.item_feature_map,\n",
    "        ) = dataset.mapping()\n",
    "        self.user_id_map = pd.Series(self.user_id_map)\n",
    "        item_id_map = pd.Series(self.item_id_map)\n",
    "        self.item_id_map_reverse = pd.Series(item_id_map.index, item_id_map.values)\n",
    "        self.item_id_map_reverse[self.invalid_org_mark] = self.invalid_org_mark\n",
    "\n",
    "    def fit(self, dataset):\n",
    "        dataset.fit(\n",
    "            users=self.users[\"user_id\"],\n",
    "            items=self.organisations[\"org_id\"],\n",
    "            user_features=self.users[\"city\"].unique(),\n",
    "            item_features=list(self.organisations[\"city\"].unique())\n",
    "            + [\"average_bill\", \"rating\", \"ts\"]\n",
    "            + [f\"rubric_{rubric_id}\" for rubric_id in self.data[\"rubrics\"][\"rubric_id\"]]\n",
    "            + [\n",
    "                f\"feature_{feature_id}\"\n",
    "                for feature_id in self.data[\"features\"][\"feature_id\"]\n",
    "            ]\n",
    "            + [\n",
    "                f\"aspect_{aspect_id}\"\n",
    "                for aspect_id in set(self.data[\"aspects\"][\"aspect_id\"])\n",
    "                | set([i for j in train_reviews[\"aspects\"] for i in j])\n",
    "            ],\n",
    "        )\n",
    "\n",
    "    def build_user_features(self, dataset):\n",
    "        self.user_features = dataset.build_user_features(\n",
    "            zip(self.users[\"user_id\"].values, self.users[[\"city\"]].values),\n",
    "            normalize=False,\n",
    "        )\n",
    "\n",
    "    @staticmethod\n",
    "    def normalize(s):\n",
    "        return (s - s.mean()) / s.std()\n",
    "\n",
    "    @staticmethod\n",
    "    def parse_list_of_feature_ids(feature_ids, name):\n",
    "        try:\n",
    "            return {f\"{name}_{feature_id}\": True for feature_id in feature_ids}\n",
    "        except TypeError:\n",
    "            return {}\n",
    "\n",
    "    @staticmethod\n",
    "    def extract_org_features(org_row):\n",
    "        org_features = {\n",
    "            **{org_row[\"city\"]: True},\n",
    "            **org_row[[\"average_bill\", \"rating\", \"ts\"]].dropna().to_dict(),\n",
    "            **SparseInterface.parse_list_of_feature_ids(\n",
    "                org_row[\"rubrics_id\"], \"rubric\"\n",
    "            ),\n",
    "            **SparseInterface.parse_list_of_feature_ids(\n",
    "                org_row[\"features_id\"], \"feature\"\n",
    "            ),\n",
    "            **SparseInterface.parse_list_of_feature_ids(\n",
    "                org_row[\"aspects_id\"], \"aspect\"\n",
    "            ),\n",
    "        }\n",
    "        return org_features\n",
    "\n",
    "    def build_item_features(self, dataset):\n",
    "        organisations = self.organisations\n",
    "        organisations[\"rating\"] = self.normalize(organisations[\"rating\"])\n",
    "        organisations[\"average_bill\"] = self.normalize(organisations[\"average_bill\"])\n",
    "        organisations[\"ts\"] = self.normalize(\n",
    "            self.train_reviews.groupby(\"org_id\")[\"ts\"].mean()\n",
    "        )\n",
    "        organisations[\"aspects_id\"] = self.train_reviews.groupby(\"org_id\")[\n",
    "            \"aspects\"\n",
    "        ].agg(lambda s: [i for j in s.values for i in j])\n",
    "        self.item_features = dataset.build_item_features(\n",
    "            (\n",
    "                (\n",
    "                    org_row[\"org_id\"],\n",
    "                    self.extract_org_features(org_row),\n",
    "                )\n",
    "                for org_id, org_row in organisations.iterrows()\n",
    "            ),\n",
    "            normalize=False,\n",
    "        )\n",
    "\n",
    "    def build_interactions(self, dataset):\n",
    "        self.interactions, self.interactions_weighted = dataset.build_interactions(\n",
    "            self.train_reviews[[\"user_id\", \"org_id\", \"rating\"]]\n",
    "            .dropna()\n",
    "            .astype(np.int32)\n",
    "            .values\n",
    "        )\n",
    "\n",
    "    @staticmethod\n",
    "    def single_scale_features(features, relative_feature_importance):\n",
    "        features = features.copy()\n",
    "        n = features.shape[0]\n",
    "        features_norm = features[:, n:].sum(axis=1)\n",
    "        features[:, n:] = csr_matrix(\n",
    "            features[:, n:].multiply(relative_feature_importance / features_norm)\n",
    "        )\n",
    "        return features\n",
    "\n",
    "    def scale_features(self, relative_feature_importance):\n",
    "        scaled_user_features = self.single_scale_features(\n",
    "            self.user_features, relative_feature_importance\n",
    "        )\n",
    "        scaled_item_features = self.single_scale_features(\n",
    "            self.item_features, relative_feature_importance\n",
    "        )\n",
    "        return scaled_user_features, scaled_item_features\n",
    "\n",
    "    def user_ids_to_latent(self, user_ids):\n",
    "        return self.user_id_map.loc[user_ids]\n",
    "\n",
    "    def recommended_org_ids_from_latent(self, latent_recommendations):\n",
    "        recommendations = latent_recommendations.apply(\n",
    "            lambda s: self.item_id_map_reverse.loc[s].values\n",
    "        )\n",
    "        return recommendations"
   ]
  },
  {
   "cell_type": "code",
   "execution_count": 17,
   "metadata": {
    "ExecuteTime": {
     "end_time": "2022-09-19T10:38:49.137763Z",
     "start_time": "2022-09-19T10:38:49.132456Z"
    }
   },
   "outputs": [
    {
     "data": {
      "application/javascript": [
       "\n",
       "            setTimeout(function() {\n",
       "                var nbb_cell_id = 17;\n",
       "                var nbb_unformatted_code = \"# import pickle\\n# import scipy.sparse\\n\\n# sparse_interface = SparseInterface(data, train_reviews)\\n# scipy.sparse.save_npz(\\n#     f\\\"local/train_explicit{'_debug' if DEBUG else ''}.npz\\\",\\n#     sparse_interface.interactions_weighted,\\n# )\\n# val_sparse = SparseInterface(data, pd.concat([train_reviews, validation_reviews]))\\n# diff = val_sparse.interactions_weighted - sparse_interface.interactions_weighted\\n# scipy.sparse.save_npz(f\\\"local/val_explicit{'_debug' if DEBUG else ''}.npz\\\", diff)\\n\\n\\n# pickle.dump(\\n#     sparse_interface,\\n#     open(f\\\"local/sparse_interface{'_debug' if DEBUG else ''}.pickle\\\", \\\"wb\\\"),\\n# )\";\n",
       "                var nbb_formatted_code = \"# import pickle\\n# import scipy.sparse\\n\\n# sparse_interface = SparseInterface(data, train_reviews)\\n# scipy.sparse.save_npz(\\n#     f\\\"local/train_explicit{'_debug' if DEBUG else ''}.npz\\\",\\n#     sparse_interface.interactions_weighted,\\n# )\\n# val_sparse = SparseInterface(data, pd.concat([train_reviews, validation_reviews]))\\n# diff = val_sparse.interactions_weighted - sparse_interface.interactions_weighted\\n# scipy.sparse.save_npz(f\\\"local/val_explicit{'_debug' if DEBUG else ''}.npz\\\", diff)\\n\\n\\n# pickle.dump(\\n#     sparse_interface,\\n#     open(f\\\"local/sparse_interface{'_debug' if DEBUG else ''}.pickle\\\", \\\"wb\\\"),\\n# )\";\n",
       "                var nbb_cells = Jupyter.notebook.get_cells();\n",
       "                for (var i = 0; i < nbb_cells.length; ++i) {\n",
       "                    if (nbb_cells[i].input_prompt_number == nbb_cell_id) {\n",
       "                        if (nbb_cells[i].get_text() == nbb_unformatted_code) {\n",
       "                             nbb_cells[i].set_text(nbb_formatted_code);\n",
       "                        }\n",
       "                        break;\n",
       "                    }\n",
       "                }\n",
       "            }, 500);\n",
       "            "
      ],
      "text/plain": [
       "<IPython.core.display.Javascript object>"
      ]
     },
     "metadata": {},
     "output_type": "display_data"
    }
   ],
   "source": [
    "# import pickle\n",
    "# import scipy.sparse\n",
    "\n",
    "# sparse_interface = SparseInterface(data, train_reviews)\n",
    "# scipy.sparse.save_npz(\n",
    "#     f\"local/train_explicit{'_debug' if DEBUG else ''}.npz\",\n",
    "#     sparse_interface.interactions_weighted,\n",
    "# )\n",
    "# val_sparse = SparseInterface(data, pd.concat([train_reviews, validation_reviews]))\n",
    "# diff = val_sparse.interactions_weighted - sparse_interface.interactions_weighted\n",
    "# scipy.sparse.save_npz(f\"local/val_explicit{'_debug' if DEBUG else ''}.npz\", diff)\n",
    "\n",
    "\n",
    "# pickle.dump(\n",
    "#     sparse_interface,\n",
    "#     open(f\"local/sparse_interface{'_debug' if DEBUG else ''}.pickle\", \"wb\"),\n",
    "# )"
   ]
  },
  {
   "cell_type": "code",
   "execution_count": 18,
   "metadata": {
    "ExecuteTime": {
     "end_time": "2022-09-19T10:38:49.242877Z",
     "start_time": "2022-09-19T10:38:49.139544Z"
    }
   },
   "outputs": [
    {
     "name": "stderr",
     "output_type": "stream",
     "text": [
      "/tmp/ipykernel_49164/830034327.py:3: DeprecationWarning: Please use `csr_matrix` from the `scipy.sparse` namespace, the `scipy.sparse.csr` namespace is deprecated.\n",
      "  sparse_interface = pickle.load(\n",
      "/tmp/ipykernel_49164/830034327.py:3: DeprecationWarning: Please use `coo_matrix` from the `scipy.sparse` namespace, the `scipy.sparse.coo` namespace is deprecated.\n",
      "  sparse_interface = pickle.load(\n"
     ]
    },
    {
     "data": {
      "application/javascript": [
       "\n",
       "            setTimeout(function() {\n",
       "                var nbb_cell_id = 18;\n",
       "                var nbb_unformatted_code = \"import pickle\\n\\nsparse_interface = pickle.load(\\n    open(f\\\"local/sparse_interface{'_debug' if DEBUG else ''}.pickle\\\", \\\"rb\\\")\\n)\";\n",
       "                var nbb_formatted_code = \"import pickle\\n\\nsparse_interface = pickle.load(\\n    open(f\\\"local/sparse_interface{'_debug' if DEBUG else ''}.pickle\\\", \\\"rb\\\")\\n)\";\n",
       "                var nbb_cells = Jupyter.notebook.get_cells();\n",
       "                for (var i = 0; i < nbb_cells.length; ++i) {\n",
       "                    if (nbb_cells[i].input_prompt_number == nbb_cell_id) {\n",
       "                        if (nbb_cells[i].get_text() == nbb_unformatted_code) {\n",
       "                             nbb_cells[i].set_text(nbb_formatted_code);\n",
       "                        }\n",
       "                        break;\n",
       "                    }\n",
       "                }\n",
       "            }, 500);\n",
       "            "
      ],
      "text/plain": [
       "<IPython.core.display.Javascript object>"
      ]
     },
     "metadata": {},
     "output_type": "display_data"
    }
   ],
   "source": [
    "import pickle\n",
    "\n",
    "sparse_interface = pickle.load(\n",
    "    open(f\"local/sparse_interface{'_debug' if DEBUG else ''}.pickle\", \"rb\")\n",
    ")"
   ]
  },
  {
   "cell_type": "code",
   "execution_count": 19,
   "metadata": {
    "ExecuteTime": {
     "end_time": "2022-09-19T10:38:49.368641Z",
     "start_time": "2022-09-19T10:38:49.244799Z"
    }
   },
   "outputs": [
    {
     "data": {
      "application/javascript": [
       "\n",
       "            setTimeout(function() {\n",
       "                var nbb_cell_id = 19;\n",
       "                var nbb_unformatted_code = \"class SparseRecommender:\\n    def __init__(self, sparse_interface, model):\\n        self.model = model\\n        self.sparse_interface = sparse_interface\\n\\n    def fit(self, reviews):\\n        self.interactions = csr_matrix(self.sparse_interface.interactions_weighted)\\n        self.model.fit(self.interactions)\\n        return self\\n\\n    def recommend(self, user_ids, recommend_size=20):\\n        user_ids_mapped = self.sparse_interface.user_ids_to_latent(user_ids)\\n        recommendations, predicted_ratings = self.model.recommend(\\n            userid=user_ids_mapped,\\n            user_items=self.interactions[user_ids_mapped],\\n            N=recommend_size,\\n        )\\n        recommendations = pd.DataFrame(recommendations, user_ids)\\n        return self.sparse_interface.recommended_org_ids_from_latent(recommendations)\";\n",
       "                var nbb_formatted_code = \"class SparseRecommender:\\n    def __init__(self, sparse_interface, model):\\n        self.model = model\\n        self.sparse_interface = sparse_interface\\n\\n    def fit(self, reviews):\\n        self.interactions = csr_matrix(self.sparse_interface.interactions_weighted)\\n        self.model.fit(self.interactions)\\n        return self\\n\\n    def recommend(self, user_ids, recommend_size=20):\\n        user_ids_mapped = self.sparse_interface.user_ids_to_latent(user_ids)\\n        recommendations, predicted_ratings = self.model.recommend(\\n            userid=user_ids_mapped,\\n            user_items=self.interactions[user_ids_mapped],\\n            N=recommend_size,\\n        )\\n        recommendations = pd.DataFrame(recommendations, user_ids)\\n        return self.sparse_interface.recommended_org_ids_from_latent(recommendations)\";\n",
       "                var nbb_cells = Jupyter.notebook.get_cells();\n",
       "                for (var i = 0; i < nbb_cells.length; ++i) {\n",
       "                    if (nbb_cells[i].input_prompt_number == nbb_cell_id) {\n",
       "                        if (nbb_cells[i].get_text() == nbb_unformatted_code) {\n",
       "                             nbb_cells[i].set_text(nbb_formatted_code);\n",
       "                        }\n",
       "                        break;\n",
       "                    }\n",
       "                }\n",
       "            }, 500);\n",
       "            "
      ],
      "text/plain": [
       "<IPython.core.display.Javascript object>"
      ]
     },
     "metadata": {},
     "output_type": "display_data"
    }
   ],
   "source": [
    "class SparseRecommender:\n",
    "    def __init__(self, sparse_interface, model):\n",
    "        self.model = model\n",
    "        self.sparse_interface = sparse_interface\n",
    "\n",
    "    def fit(self, reviews):\n",
    "        self.interactions = csr_matrix(self.sparse_interface.interactions_weighted)\n",
    "        self.model.fit(self.interactions)\n",
    "        return self\n",
    "\n",
    "    def recommend(self, user_ids, recommend_size=20):\n",
    "        user_ids_mapped = self.sparse_interface.user_ids_to_latent(user_ids)\n",
    "        recommendations, predicted_ratings = self.model.recommend(\n",
    "            userid=user_ids_mapped,\n",
    "            user_items=self.interactions[user_ids_mapped],\n",
    "            N=recommend_size,\n",
    "        )\n",
    "        recommendations = pd.DataFrame(recommendations, user_ids)\n",
    "        return self.sparse_interface.recommended_org_ids_from_latent(recommendations)"
   ]
  },
  {
   "cell_type": "code",
   "execution_count": 20,
   "metadata": {
    "ExecuteTime": {
     "end_time": "2022-09-19T09:41:47.552102Z",
     "start_time": "2022-09-19T09:41:46.699985Z"
    }
   },
   "outputs": [
    {
     "data": {
      "application/vnd.jupyter.widget-view+json": {
       "model_id": "39893e8f8fa2411bb34d5743578473ea",
       "version_major": 2,
       "version_minor": 0
      },
      "text/plain": [
       "  0%|          | 0/293 [00:00<?, ?it/s]"
      ]
     },
     "metadata": {},
     "output_type": "display_data"
    },
    {
     "data": {
      "application/vnd.jupyter.widget-view+json": {
       "model_id": "6e0789853a064e54b365ca9ecb189a75",
       "version_major": 2,
       "version_minor": 0
      },
      "text/plain": [
       "  0%|          | 0/293 [00:00<?, ?it/s]"
      ]
     },
     "metadata": {},
     "output_type": "display_data"
    },
    {
     "data": {
      "application/vnd.jupyter.widget-view+json": {
       "model_id": "a9db792ecf5444cea5b28ec0569f9040",
       "version_major": 2,
       "version_minor": 0
      },
      "text/plain": [
       "  0%|          | 0/293 [00:00<?, ?it/s]"
      ]
     },
     "metadata": {},
     "output_type": "display_data"
    },
    {
     "data": {
      "application/javascript": [
       "\n",
       "            setTimeout(function() {\n",
       "                var nbb_cell_id = 20;\n",
       "                var nbb_unformatted_code = \"nn_models = {\\n    \\\"tfidf\\\": SparseRecommender(\\n        sparse_interface, implicit.nearest_neighbours.TFIDFRecommender()\\n    ),\\n    \\\"bm25\\\": SparseRecommender(\\n        sparse_interface, implicit.nearest_neighbours.BM25Recommender()\\n    ),\\n    \\\"cosine\\\": SparseRecommender(\\n        sparse_interface, implicit.nearest_neighbours.CosineRecommender()\\n    ),\\n}\\n\\nassessor.assess(nn_models)\";\n",
       "                var nbb_formatted_code = \"nn_models = {\\n    \\\"tfidf\\\": SparseRecommender(\\n        sparse_interface, implicit.nearest_neighbours.TFIDFRecommender()\\n    ),\\n    \\\"bm25\\\": SparseRecommender(\\n        sparse_interface, implicit.nearest_neighbours.BM25Recommender()\\n    ),\\n    \\\"cosine\\\": SparseRecommender(\\n        sparse_interface, implicit.nearest_neighbours.CosineRecommender()\\n    ),\\n}\\n\\nassessor.assess(nn_models)\";\n",
       "                var nbb_cells = Jupyter.notebook.get_cells();\n",
       "                for (var i = 0; i < nbb_cells.length; ++i) {\n",
       "                    if (nbb_cells[i].input_prompt_number == nbb_cell_id) {\n",
       "                        if (nbb_cells[i].get_text() == nbb_unformatted_code) {\n",
       "                             nbb_cells[i].set_text(nbb_formatted_code);\n",
       "                        }\n",
       "                        break;\n",
       "                    }\n",
       "                }\n",
       "            }, 500);\n",
       "            "
      ],
      "text/plain": [
       "<IPython.core.display.Javascript object>"
      ]
     },
     "metadata": {},
     "output_type": "display_data"
    }
   ],
   "source": [
    "nn_models = {\n",
    "    \"tfidf\": SparseRecommender(\n",
    "        sparse_interface, implicit.nearest_neighbours.TFIDFRecommender()\n",
    "    ),\n",
    "    \"bm25\": SparseRecommender(\n",
    "        sparse_interface, implicit.nearest_neighbours.BM25Recommender()\n",
    "    ),\n",
    "    \"cosine\": SparseRecommender(\n",
    "        sparse_interface, implicit.nearest_neighbours.CosineRecommender()\n",
    "    ),\n",
    "}\n",
    "\n",
    "assessor.assess(nn_models)"
   ]
  },
  {
   "cell_type": "code",
   "execution_count": 21,
   "metadata": {
    "ExecuteTime": {
     "end_time": "2022-09-19T09:41:48.036555Z",
     "start_time": "2022-09-19T09:41:47.554877Z"
    }
   },
   "outputs": [
    {
     "data": {
      "image/png": "[encoded data removed]",
      "text/plain": [
       "<Figure size 1152x432 with 1 Axes>"
      ]
     },
     "metadata": {
      "needs_background": "light"
     },
     "output_type": "display_data"
    },
    {
     "data": {
      "application/javascript": [
       "\n",
       "            setTimeout(function() {\n",
       "                var nbb_cell_id = 21;\n",
       "                var nbb_unformatted_code = \"assessor.show_metrics()\";\n",
       "                var nbb_formatted_code = \"assessor.show_metrics()\";\n",
       "                var nbb_cells = Jupyter.notebook.get_cells();\n",
       "                for (var i = 0; i < nbb_cells.length; ++i) {\n",
       "                    if (nbb_cells[i].input_prompt_number == nbb_cell_id) {\n",
       "                        if (nbb_cells[i].get_text() == nbb_unformatted_code) {\n",
       "                             nbb_cells[i].set_text(nbb_formatted_code);\n",
       "                        }\n",
       "                        break;\n",
       "                    }\n",
       "                }\n",
       "            }, 500);\n",
       "            "
      ],
      "text/plain": [
       "<IPython.core.display.Javascript object>"
      ]
     },
     "metadata": {},
     "output_type": "display_data"
    }
   ],
   "source": [
    "assessor.show_metrics()"
   ]
  },
  {
   "cell_type": "markdown",
   "metadata": {},
   "source": [
    "## Методы Matrix factorization"
   ]
  },
  {
   "cell_type": "markdown",
   "metadata": {},
   "source": [
    "**(0.5 балла) Задание 6.**\n",
    "\n",
    "- Разложите матрицу рейтингов с помощью [разреженного SVD](http://scikit-learn.org/stable/modules/generated/sklearn.decomposition.TruncatedSVD.html) и, восстановив ее, получите предсказания рейтингов для всех пар пользователь-объект. В данном случае неизвестные рейтинги заполняются нулями, а затем восстанавливаются с помощью SVD (этот метод называется PureSVD).\n",
    "   * Получив векторные представления пользователей и объектов и сингулярные числа, мы можеи восстановив матрицу и в местах нулей получим \"предсказанные значения вероятностей\" для новых объектов.\n",
    "- Рассмотрите, как минимум, 5 различных значений ранга разложения. Оцените качество рекомендаций"
   ]
  },
  {
   "cell_type": "markdown",
   "metadata": {},
   "source": [
    "Получим представление о том, какие варианты значенией ранга разложения следует попробовать:"
   ]
  },
  {
   "cell_type": "code",
   "execution_count": 20,
   "metadata": {
    "ExecuteTime": {
     "end_time": "2022-09-19T10:38:49.762234Z",
     "start_time": "2022-09-19T10:38:49.370955Z"
    }
   },
   "outputs": [
    {
     "data": {
      "application/javascript": [
       "\n",
       "            setTimeout(function() {\n",
       "                var nbb_cell_id = 20;\n",
       "                var nbb_unformatted_code = \"from sklearn.decomposition import TruncatedSVD\\n\\n\\ndef plot_component_importance(sparse_interface, n_components=100):\\n    truncated_svd = TruncatedSVD(n_components=n_components)\\n    truncated_svd.fit(sparse_interface.interactions_weighted)\\n\\n    fig, ax = plt.subplots(figsize=(8, 6))\\n    plt.plot(truncated_svd.explained_variance_ratio_)\\n    plt.xlabel(\\\"n components\\\")\\n    plt.ylabel(\\\"explained variance ratio\\\")\\n    plt.title(\\\"Explained variance depending on number of components\\\")\";\n",
       "                var nbb_formatted_code = \"from sklearn.decomposition import TruncatedSVD\\n\\n\\ndef plot_component_importance(sparse_interface, n_components=100):\\n    truncated_svd = TruncatedSVD(n_components=n_components)\\n    truncated_svd.fit(sparse_interface.interactions_weighted)\\n\\n    fig, ax = plt.subplots(figsize=(8, 6))\\n    plt.plot(truncated_svd.explained_variance_ratio_)\\n    plt.xlabel(\\\"n components\\\")\\n    plt.ylabel(\\\"explained variance ratio\\\")\\n    plt.title(\\\"Explained variance depending on number of components\\\")\";\n",
       "                var nbb_cells = Jupyter.notebook.get_cells();\n",
       "                for (var i = 0; i < nbb_cells.length; ++i) {\n",
       "                    if (nbb_cells[i].input_prompt_number == nbb_cell_id) {\n",
       "                        if (nbb_cells[i].get_text() == nbb_unformatted_code) {\n",
       "                             nbb_cells[i].set_text(nbb_formatted_code);\n",
       "                        }\n",
       "                        break;\n",
       "                    }\n",
       "                }\n",
       "            }, 500);\n",
       "            "
      ],
      "text/plain": [
       "<IPython.core.display.Javascript object>"
      ]
     },
     "metadata": {},
     "output_type": "display_data"
    }
   ],
   "source": [
    "from sklearn.decomposition import TruncatedSVD\n",
    "\n",
    "\n",
    "def plot_component_importance(sparse_interface, n_components=100):\n",
    "    truncated_svd = TruncatedSVD(n_components=n_components)\n",
    "    truncated_svd.fit(sparse_interface.interactions_weighted)\n",
    "\n",
    "    fig, ax = plt.subplots(figsize=(8, 6))\n",
    "    plt.plot(truncated_svd.explained_variance_ratio_)\n",
    "    plt.xlabel(\"n components\")\n",
    "    plt.ylabel(\"explained variance ratio\")\n",
    "    plt.title(\"Explained variance depending on number of components\")"
   ]
  },
  {
   "cell_type": "code",
   "execution_count": 21,
   "metadata": {
    "ExecuteTime": {
     "end_time": "2022-09-19T10:38:51.297863Z",
     "start_time": "2022-09-19T10:38:50.284961Z"
    }
   },
   "outputs": [
    {
     "data": {
      "image/png": "[encoded data removed]",
      "text/plain": [
       "<Figure size 576x432 with 1 Axes>"
      ]
     },
     "metadata": {
      "needs_background": "light"
     },
     "output_type": "display_data"
    },
    {
     "data": {
      "application/javascript": [
       "\n",
       "            setTimeout(function() {\n",
       "                var nbb_cell_id = 21;\n",
       "                var nbb_unformatted_code = \"plot_component_importance(sparse_interface)\";\n",
       "                var nbb_formatted_code = \"plot_component_importance(sparse_interface)\";\n",
       "                var nbb_cells = Jupyter.notebook.get_cells();\n",
       "                for (var i = 0; i < nbb_cells.length; ++i) {\n",
       "                    if (nbb_cells[i].input_prompt_number == nbb_cell_id) {\n",
       "                        if (nbb_cells[i].get_text() == nbb_unformatted_code) {\n",
       "                             nbb_cells[i].set_text(nbb_formatted_code);\n",
       "                        }\n",
       "                        break;\n",
       "                    }\n",
       "                }\n",
       "            }, 500);\n",
       "            "
      ],
      "text/plain": [
       "<IPython.core.display.Javascript object>"
      ]
     },
     "metadata": {},
     "output_type": "display_data"
    }
   ],
   "source": [
    "plot_component_importance(sparse_interface)"
   ]
  },
  {
   "cell_type": "code",
   "execution_count": 22,
   "metadata": {
    "ExecuteTime": {
     "end_time": "2022-09-19T10:38:58.530217Z",
     "start_time": "2022-09-19T10:38:57.842451Z"
    }
   },
   "outputs": [
    {
     "data": {
      "application/javascript": [
       "\n",
       "            setTimeout(function() {\n",
       "                var nbb_cell_id = 22;\n",
       "                var nbb_unformatted_code = \"import torch\\n\\n\\nclass BatchRecommender(SparseRecommender):\\n    def recommend(self, user_ids, recommend_size=20, batch_size=1024):\\n        user_ids_mapped = self.sparse_interface.user_ids_to_latent(user_ids)\\n        interactions = csr_matrix(self.sparse_interface.interactions_weighted)[\\n            user_ids_mapped\\n        ]\\n        recommendations = []\\n\\n        for begin in tqdm(range(0, len(user_ids), batch_size), \\\"Recommending\\\"):\\n            batch_slice = slice(begin, begin + batch_size)\\n            batch_interactions = interactions[batch_slice]\\n            batch_ids = user_ids[batch_slice]\\n            batch_ids_mapped = user_ids_mapped[batch_slice]\\n\\n            batch_rec = self.model_recommend(\\n                batch_ids_mapped.values, batch_interactions\\n            )\\n\\n            if batch_rec.shape[1] > recommend_size:\\n                if not torch.is_tensor(batch_rec):\\n                    batch_rec = torch.tensor(batch_rec)\\n                batch_rec = batch_rec.to(\\\"cuda\\\")\\n                values, indices = torch.topk(batch_rec, recommend_size)\\n                batch_rec = indices[:, :recommend_size].cpu().numpy()\\n                del values, indices\\n\\n            batch_rec = pd.DataFrame(batch_rec, batch_ids)\\n            recommendations.append(batch_rec)\\n\\n        recommendations = self.sparse_interface.recommended_org_ids_from_latent(\\n            pd.concat(recommendations)\\n        )\\n        return recommendations\\n\\n    def model_recommend(self, user_ids, interactions):\\n        return self.model.recommend(user_ids)\\n\\n\\nclass SVDRecommender(BatchRecommender):\\n    def model_recommend(self, user_ids, interactions):\\n        embedding = self.model.transform(interactions)\\n        recommendations = self.model.inverse_transform(embedding)\\n        return recommendations\";\n",
       "                var nbb_formatted_code = \"import torch\\n\\n\\nclass BatchRecommender(SparseRecommender):\\n    def recommend(self, user_ids, recommend_size=20, batch_size=1024):\\n        user_ids_mapped = self.sparse_interface.user_ids_to_latent(user_ids)\\n        interactions = csr_matrix(self.sparse_interface.interactions_weighted)[\\n            user_ids_mapped\\n        ]\\n        recommendations = []\\n\\n        for begin in tqdm(range(0, len(user_ids), batch_size), \\\"Recommending\\\"):\\n            batch_slice = slice(begin, begin + batch_size)\\n            batch_interactions = interactions[batch_slice]\\n            batch_ids = user_ids[batch_slice]\\n            batch_ids_mapped = user_ids_mapped[batch_slice]\\n\\n            batch_rec = self.model_recommend(\\n                batch_ids_mapped.values, batch_interactions\\n            )\\n\\n            if batch_rec.shape[1] > recommend_size:\\n                if not torch.is_tensor(batch_rec):\\n                    batch_rec = torch.tensor(batch_rec)\\n                batch_rec = batch_rec.to(\\\"cuda\\\")\\n                values, indices = torch.topk(batch_rec, recommend_size)\\n                batch_rec = indices[:, :recommend_size].cpu().numpy()\\n                del values, indices\\n\\n            batch_rec = pd.DataFrame(batch_rec, batch_ids)\\n            recommendations.append(batch_rec)\\n\\n        recommendations = self.sparse_interface.recommended_org_ids_from_latent(\\n            pd.concat(recommendations)\\n        )\\n        return recommendations\\n\\n    def model_recommend(self, user_ids, interactions):\\n        return self.model.recommend(user_ids)\\n\\n\\nclass SVDRecommender(BatchRecommender):\\n    def model_recommend(self, user_ids, interactions):\\n        embedding = self.model.transform(interactions)\\n        recommendations = self.model.inverse_transform(embedding)\\n        return recommendations\";\n",
       "                var nbb_cells = Jupyter.notebook.get_cells();\n",
       "                for (var i = 0; i < nbb_cells.length; ++i) {\n",
       "                    if (nbb_cells[i].input_prompt_number == nbb_cell_id) {\n",
       "                        if (nbb_cells[i].get_text() == nbb_unformatted_code) {\n",
       "                             nbb_cells[i].set_text(nbb_formatted_code);\n",
       "                        }\n",
       "                        break;\n",
       "                    }\n",
       "                }\n",
       "            }, 500);\n",
       "            "
      ],
      "text/plain": [
       "<IPython.core.display.Javascript object>"
      ]
     },
     "metadata": {},
     "output_type": "display_data"
    }
   ],
   "source": [
    "import torch\n",
    "\n",
    "\n",
    "class BatchRecommender(SparseRecommender):\n",
    "    def recommend(self, user_ids, recommend_size=20, batch_size=1024):\n",
    "        user_ids_mapped = self.sparse_interface.user_ids_to_latent(user_ids)\n",
    "        interactions = csr_matrix(self.sparse_interface.interactions_weighted)[\n",
    "            user_ids_mapped\n",
    "        ]\n",
    "        recommendations = []\n",
    "\n",
    "        for begin in tqdm(range(0, len(user_ids), batch_size), \"Recommending\"):\n",
    "            batch_slice = slice(begin, begin + batch_size)\n",
    "            batch_interactions = interactions[batch_slice]\n",
    "            batch_ids = user_ids[batch_slice]\n",
    "            batch_ids_mapped = user_ids_mapped[batch_slice]\n",
    "\n",
    "            batch_rec = self.model_recommend(\n",
    "                batch_ids_mapped.values, batch_interactions\n",
    "            )\n",
    "\n",
    "            if batch_rec.shape[1] > recommend_size:\n",
    "                if not torch.is_tensor(batch_rec):\n",
    "                    batch_rec = torch.tensor(batch_rec)\n",
    "                batch_rec = batch_rec.to(\"cuda\")\n",
    "                values, indices = torch.topk(batch_rec, recommend_size)\n",
    "                batch_rec = indices[:, :recommend_size].cpu().numpy()\n",
    "                del values, indices\n",
    "\n",
    "            batch_rec = pd.DataFrame(batch_rec, batch_ids)\n",
    "            recommendations.append(batch_rec)\n",
    "\n",
    "        recommendations = self.sparse_interface.recommended_org_ids_from_latent(\n",
    "            pd.concat(recommendations)\n",
    "        )\n",
    "        return recommendations\n",
    "\n",
    "    def model_recommend(self, user_ids, interactions):\n",
    "        return self.model.recommend(user_ids)\n",
    "\n",
    "\n",
    "class SVDRecommender(BatchRecommender):\n",
    "    def model_recommend(self, user_ids, interactions):\n",
    "        embedding = self.model.transform(interactions)\n",
    "        recommendations = self.model.inverse_transform(embedding)\n",
    "        return recommendations"
   ]
  },
  {
   "cell_type": "code",
   "execution_count": 25,
   "metadata": {
    "ExecuteTime": {
     "end_time": "2022-09-19T09:41:53.050941Z",
     "start_time": "2022-09-19T09:41:49.711343Z"
    }
   },
   "outputs": [
    {
     "data": {
      "application/vnd.jupyter.widget-view+json": {
       "model_id": "c6943ba5d73247cb82c499b90f819737",
       "version_major": 2,
       "version_minor": 0
      },
      "text/plain": [
       "Recommending:   0%|          | 0/1 [00:00<?, ?it/s]"
      ]
     },
     "metadata": {},
     "output_type": "display_data"
    },
    {
     "data": {
      "application/vnd.jupyter.widget-view+json": {
       "model_id": "3c2b0ccf3be5448f892f788ab256aa11",
       "version_major": 2,
       "version_minor": 0
      },
      "text/plain": [
       "Recommending:   0%|          | 0/1 [00:00<?, ?it/s]"
      ]
     },
     "metadata": {},
     "output_type": "display_data"
    },
    {
     "data": {
      "application/vnd.jupyter.widget-view+json": {
       "model_id": "366e7352fb1146e391dd8c2d18d965c6",
       "version_major": 2,
       "version_minor": 0
      },
      "text/plain": [
       "Recommending:   0%|          | 0/1 [00:00<?, ?it/s]"
      ]
     },
     "metadata": {},
     "output_type": "display_data"
    },
    {
     "data": {
      "application/vnd.jupyter.widget-view+json": {
       "model_id": "9012974647c84abca3a79284c9402b7d",
       "version_major": 2,
       "version_minor": 0
      },
      "text/plain": [
       "Recommending:   0%|          | 0/1 [00:00<?, ?it/s]"
      ]
     },
     "metadata": {},
     "output_type": "display_data"
    },
    {
     "data": {
      "application/vnd.jupyter.widget-view+json": {
       "model_id": "5a3233a7835640a68960461d7999ea31",
       "version_major": 2,
       "version_minor": 0
      },
      "text/plain": [
       "Recommending:   0%|          | 0/1 [00:00<?, ?it/s]"
      ]
     },
     "metadata": {},
     "output_type": "display_data"
    },
    {
     "data": {
      "application/vnd.jupyter.widget-view+json": {
       "model_id": "ea4ee8c14f124634b320a83b68a7646a",
       "version_major": 2,
       "version_minor": 0
      },
      "text/plain": [
       "Recommending:   0%|          | 0/1 [00:00<?, ?it/s]"
      ]
     },
     "metadata": {},
     "output_type": "display_data"
    },
    {
     "data": {
      "application/javascript": [
       "\n",
       "            setTimeout(function() {\n",
       "                var nbb_cell_id = 25;\n",
       "                var nbb_unformatted_code = \"matrix_factorization_models = {\\n    f\\\"svd_{n_components}\\\": SVDRecommender(\\n        sparse_interface, TruncatedSVD(n_components=n_components)\\n    )\\n    for n_components in np.logspace(1, 2, num=3, dtype=int)\\n}\\n\\nassessor.assess(matrix_factorization_models)\";\n",
       "                var nbb_formatted_code = \"matrix_factorization_models = {\\n    f\\\"svd_{n_components}\\\": SVDRecommender(\\n        sparse_interface, TruncatedSVD(n_components=n_components)\\n    )\\n    for n_components in np.logspace(1, 2, num=3, dtype=int)\\n}\\n\\nassessor.assess(matrix_factorization_models)\";\n",
       "                var nbb_cells = Jupyter.notebook.get_cells();\n",
       "                for (var i = 0; i < nbb_cells.length; ++i) {\n",
       "                    if (nbb_cells[i].input_prompt_number == nbb_cell_id) {\n",
       "                        if (nbb_cells[i].get_text() == nbb_unformatted_code) {\n",
       "                             nbb_cells[i].set_text(nbb_formatted_code);\n",
       "                        }\n",
       "                        break;\n",
       "                    }\n",
       "                }\n",
       "            }, 500);\n",
       "            "
      ],
      "text/plain": [
       "<IPython.core.display.Javascript object>"
      ]
     },
     "metadata": {},
     "output_type": "display_data"
    }
   ],
   "source": [
    "matrix_factorization_models = {\n",
    "    f\"svd_{n_components}\": SVDRecommender(\n",
    "        sparse_interface, TruncatedSVD(n_components=n_components)\n",
    "    )\n",
    "    for n_components in np.logspace(1, 2, num=3, dtype=int)\n",
    "}\n",
    "\n",
    "assessor.assess(matrix_factorization_models)"
   ]
  },
  {
   "cell_type": "code",
   "execution_count": 26,
   "metadata": {
    "ExecuteTime": {
     "end_time": "2022-09-19T09:41:53.135597Z",
     "start_time": "2022-09-19T09:41:53.054138Z"
    }
   },
   "outputs": [
    {
     "data": {
      "text/html": [
       "<style type=\"text/css\">\n",
       "#T_7e3aa_row0_col0, #T_7e3aa_row0_col4, #T_7e3aa_row1_col2, #T_7e3aa_row1_col6, #T_7e3aa_row1_col7, #T_7e3aa_row1_col8, #T_7e3aa_row7_col1, #T_7e3aa_row7_col3, #T_7e3aa_row7_col5, #T_7e3aa_row7_col9 {\n",
       "  background-color: #8db0fe;\n",
       "  color: #000000;\n",
       "}\n",
       "#T_7e3aa_row0_col1 {\n",
       "  background-color: #b7cff9;\n",
       "  color: #000000;\n",
       "}\n",
       "#T_7e3aa_row0_col2 {\n",
       "  background-color: #9abbff;\n",
       "  color: #000000;\n",
       "}\n",
       "#T_7e3aa_row0_col3 {\n",
       "  background-color: #bbd1f8;\n",
       "  color: #000000;\n",
       "}\n",
       "#T_7e3aa_row0_col5 {\n",
       "  background-color: #abc8fd;\n",
       "  color: #000000;\n",
       "}\n",
       "#T_7e3aa_row0_col6, #T_7e3aa_row0_col7, #T_7e3aa_row1_col5, #T_7e3aa_row2_col0, #T_7e3aa_row2_col2, #T_7e3aa_row2_col4, #T_7e3aa_row2_col6, #T_7e3aa_row2_col9, #T_7e3aa_row3_col0, #T_7e3aa_row3_col2, #T_7e3aa_row3_col4, #T_7e3aa_row3_col6, #T_7e3aa_row4_col0, #T_7e3aa_row4_col2, #T_7e3aa_row4_col4, #T_7e3aa_row4_col6, #T_7e3aa_row4_col9, #T_7e3aa_row5_col1, #T_7e3aa_row5_col3, #T_7e3aa_row7_col6, #T_7e3aa_row7_col8 {\n",
       "  background-color: #f4987a;\n",
       "  color: #000000;\n",
       "}\n",
       "#T_7e3aa_row0_col8, #T_7e3aa_row5_col0 {\n",
       "  background-color: #e5d8d1;\n",
       "  color: #000000;\n",
       "}\n",
       "#T_7e3aa_row0_col9 {\n",
       "  background-color: #c5d6f2;\n",
       "  color: #000000;\n",
       "}\n",
       "#T_7e3aa_row1_col0 {\n",
       "  background-color: #93b5fe;\n",
       "  color: #000000;\n",
       "}\n",
       "#T_7e3aa_row1_col1, #T_7e3aa_row7_col0, #T_7e3aa_row7_col4 {\n",
       "  background-color: #f59d7e;\n",
       "  color: #000000;\n",
       "}\n",
       "#T_7e3aa_row1_col3 {\n",
       "  background-color: #b2ccfb;\n",
       "  color: #000000;\n",
       "}\n",
       "#T_7e3aa_row1_col4 {\n",
       "  background-color: #94b6ff;\n",
       "  color: #000000;\n",
       "}\n",
       "#T_7e3aa_row1_col9 {\n",
       "  background-color: #ead5c9;\n",
       "  color: #000000;\n",
       "}\n",
       "#T_7e3aa_row2_col1, #T_7e3aa_row3_col1 {\n",
       "  background-color: #f7b79b;\n",
       "  color: #000000;\n",
       "}\n",
       "#T_7e3aa_row2_col3, #T_7e3aa_row3_col3, #T_7e3aa_row4_col3 {\n",
       "  background-color: #dadce0;\n",
       "  color: #000000;\n",
       "}\n",
       "#T_7e3aa_row2_col5 {\n",
       "  background-color: #dcdddd;\n",
       "  color: #000000;\n",
       "}\n",
       "#T_7e3aa_row2_col7, #T_7e3aa_row3_col7, #T_7e3aa_row4_col7 {\n",
       "  background-color: #f5c1a9;\n",
       "  color: #000000;\n",
       "}\n",
       "#T_7e3aa_row2_col8, #T_7e3aa_row3_col8, #T_7e3aa_row4_col8, #T_7e3aa_row5_col5 {\n",
       "  background-color: #ecd3c5;\n",
       "  color: #000000;\n",
       "}\n",
       "#T_7e3aa_row3_col5 {\n",
       "  background-color: #dbdcde;\n",
       "  color: #000000;\n",
       "}\n",
       "#T_7e3aa_row3_col9 {\n",
       "  background-color: #f49a7b;\n",
       "  color: #000000;\n",
       "}\n",
       "#T_7e3aa_row4_col1, #T_7e3aa_row6_col2 {\n",
       "  background-color: #f7b497;\n",
       "  color: #000000;\n",
       "}\n",
       "#T_7e3aa_row4_col5 {\n",
       "  background-color: #dddcdc;\n",
       "  color: #000000;\n",
       "}\n",
       "#T_7e3aa_row5_col2 {\n",
       "  background-color: #f4c5ad;\n",
       "  color: #000000;\n",
       "}\n",
       "#T_7e3aa_row5_col4, #T_7e3aa_row5_col9, #T_7e3aa_row6_col6 {\n",
       "  background-color: #e0dbd8;\n",
       "  color: #000000;\n",
       "}\n",
       "#T_7e3aa_row5_col6 {\n",
       "  background-color: #c9d7f0;\n",
       "  color: #000000;\n",
       "}\n",
       "#T_7e3aa_row5_col7 {\n",
       "  background-color: #cad8ef;\n",
       "  color: #000000;\n",
       "}\n",
       "#T_7e3aa_row5_col8 {\n",
       "  background-color: #aec9fc;\n",
       "  color: #000000;\n",
       "}\n",
       "#T_7e3aa_row6_col0 {\n",
       "  background-color: #f5c4ac;\n",
       "  color: #000000;\n",
       "}\n",
       "#T_7e3aa_row6_col1 {\n",
       "  background-color: #e2dad5;\n",
       "  color: #000000;\n",
       "}\n",
       "#T_7e3aa_row6_col3 {\n",
       "  background-color: #eed0c0;\n",
       "  color: #000000;\n",
       "}\n",
       "#T_7e3aa_row6_col4 {\n",
       "  background-color: #f3c7b1;\n",
       "  color: #000000;\n",
       "}\n",
       "#T_7e3aa_row6_col5 {\n",
       "  background-color: #c6d6f1;\n",
       "  color: #000000;\n",
       "}\n",
       "#T_7e3aa_row6_col7 {\n",
       "  background-color: #e8d6cc;\n",
       "  color: #000000;\n",
       "}\n",
       "#T_7e3aa_row6_col8 {\n",
       "  background-color: #c1d4f4;\n",
       "  color: #000000;\n",
       "}\n",
       "#T_7e3aa_row6_col9 {\n",
       "  background-color: #d9dce1;\n",
       "  color: #000000;\n",
       "}\n",
       "#T_7e3aa_row7_col2 {\n",
       "  background-color: #f59c7d;\n",
       "  color: #000000;\n",
       "}\n",
       "#T_7e3aa_row7_col7 {\n",
       "  background-color: #f7b396;\n",
       "  color: #000000;\n",
       "}\n",
       "</style>\n",
       "<table id=\"T_7e3aa\">\n",
       "  <thead>\n",
       "    <tr>\n",
       "      <th class=\"blank level0\" >&nbsp;</th>\n",
       "      <th id=\"T_7e3aa_level0_col0\" class=\"col_heading level0 col0\" >train_mnap</th>\n",
       "      <th id=\"T_7e3aa_level0_col1\" class=\"col_heading level0 col1\" >val_mnap</th>\n",
       "      <th id=\"T_7e3aa_level0_col2\" class=\"col_heading level0 col2\" >train_hitrate</th>\n",
       "      <th id=\"T_7e3aa_level0_col3\" class=\"col_heading level0 col3\" >val_hitrate</th>\n",
       "      <th id=\"T_7e3aa_level0_col4\" class=\"col_heading level0 col4\" >train_mrr</th>\n",
       "      <th id=\"T_7e3aa_level0_col5\" class=\"col_heading level0 col5\" >val_mrr</th>\n",
       "      <th id=\"T_7e3aa_level0_col6\" class=\"col_heading level0 col6\" >train_coverage</th>\n",
       "      <th id=\"T_7e3aa_level0_col7\" class=\"col_heading level0 col7\" >val_coverage</th>\n",
       "      <th id=\"T_7e3aa_level0_col8\" class=\"col_heading level0 col8\" >train_surprisal</th>\n",
       "      <th id=\"T_7e3aa_level0_col9\" class=\"col_heading level0 col9\" >val_surprisal</th>\n",
       "    </tr>\n",
       "  </thead>\n",
       "  <tbody>\n",
       "    <tr>\n",
       "      <th id=\"T_7e3aa_level0_row0\" class=\"row_heading level0 row0\" >random</th>\n",
       "      <td id=\"T_7e3aa_row0_col0\" class=\"data row0 col0\" >0.032909</td>\n",
       "      <td id=\"T_7e3aa_row0_col1\" class=\"data row0 col1\" >0.027927</td>\n",
       "      <td id=\"T_7e3aa_row0_col2\" class=\"data row0 col2\" >0.133627</td>\n",
       "      <td id=\"T_7e3aa_row0_col3\" class=\"data row0 col3\" >0.098266</td>\n",
       "      <td id=\"T_7e3aa_row0_col4\" class=\"data row0 col4\" >0.021530</td>\n",
       "      <td id=\"T_7e3aa_row0_col5\" class=\"data row0 col5\" >0.018505</td>\n",
       "      <td id=\"T_7e3aa_row0_col6\" class=\"data row0 col6\" >1.000000</td>\n",
       "      <td id=\"T_7e3aa_row0_col7\" class=\"data row0 col7\" >0.906977</td>\n",
       "      <td id=\"T_7e3aa_row0_col8\" class=\"data row0 col8\" >0.814839</td>\n",
       "      <td id=\"T_7e3aa_row0_col9\" class=\"data row0 col9\" >0.513508</td>\n",
       "    </tr>\n",
       "    <tr>\n",
       "      <th id=\"T_7e3aa_level0_row1\" class=\"row_heading level0 row1\" >popular</th>\n",
       "      <td id=\"T_7e3aa_row1_col0\" class=\"data row1 col0\" >0.059019</td>\n",
       "      <td id=\"T_7e3aa_row1_col1\" class=\"data row1 col1\" >0.073702</td>\n",
       "      <td id=\"T_7e3aa_row1_col2\" class=\"data row1 col2\" >0.077827</td>\n",
       "      <td id=\"T_7e3aa_row1_col3\" class=\"data row1 col3\" >0.089595</td>\n",
       "      <td id=\"T_7e3aa_row1_col4\" class=\"data row1 col4\" >0.057450</td>\n",
       "      <td id=\"T_7e3aa_row1_col5\" class=\"data row1 col5\" >0.071810</td>\n",
       "      <td id=\"T_7e3aa_row1_col6\" class=\"data row1 col6\" >0.284672</td>\n",
       "      <td id=\"T_7e3aa_row1_col7\" class=\"data row1 col7\" >0.395349</td>\n",
       "      <td id=\"T_7e3aa_row1_col8\" class=\"data row1 col8\" >0.664661</td>\n",
       "      <td id=\"T_7e3aa_row1_col9\" class=\"data row1 col9\" >0.654923</td>\n",
       "    </tr>\n",
       "    <tr>\n",
       "      <th id=\"T_7e3aa_level0_row2\" class=\"row_heading level0 row2\" >tfidf</th>\n",
       "      <td id=\"T_7e3aa_row2_col0\" class=\"data row2 col0\" >0.850790</td>\n",
       "      <td id=\"T_7e3aa_row2_col1\" class=\"data row2 col1\" >0.065181</td>\n",
       "      <td id=\"T_7e3aa_row2_col2\" class=\"data row2 col2\" >0.856094</td>\n",
       "      <td id=\"T_7e3aa_row2_col3\" class=\"data row2 col3\" >0.130058</td>\n",
       "      <td id=\"T_7e3aa_row2_col4\" class=\"data row2 col4\" >0.852668</td>\n",
       "      <td id=\"T_7e3aa_row2_col5\" class=\"data row2 col5\" >0.039467</td>\n",
       "      <td id=\"T_7e3aa_row2_col6\" class=\"data row2 col6\" >1.000000</td>\n",
       "      <td id=\"T_7e3aa_row2_col7\" class=\"data row2 col7\" >0.790698</td>\n",
       "      <td id=\"T_7e3aa_row2_col8\" class=\"data row2 col8\" >0.830364</td>\n",
       "      <td id=\"T_7e3aa_row2_col9\" class=\"data row2 col9\" >0.860514</td>\n",
       "    </tr>\n",
       "    <tr>\n",
       "      <th id=\"T_7e3aa_level0_row3\" class=\"row_heading level0 row3\" >bm25</th>\n",
       "      <td id=\"T_7e3aa_row3_col0\" class=\"data row3 col0\" >0.850790</td>\n",
       "      <td id=\"T_7e3aa_row3_col1\" class=\"data row3 col1\" >0.064779</td>\n",
       "      <td id=\"T_7e3aa_row3_col2\" class=\"data row3 col2\" >0.856094</td>\n",
       "      <td id=\"T_7e3aa_row3_col3\" class=\"data row3 col3\" >0.130058</td>\n",
       "      <td id=\"T_7e3aa_row3_col4\" class=\"data row3 col4\" >0.852668</td>\n",
       "      <td id=\"T_7e3aa_row3_col5\" class=\"data row3 col5\" >0.038986</td>\n",
       "      <td id=\"T_7e3aa_row3_col6\" class=\"data row3 col6\" >1.000000</td>\n",
       "      <td id=\"T_7e3aa_row3_col7\" class=\"data row3 col7\" >0.790698</td>\n",
       "      <td id=\"T_7e3aa_row3_col8\" class=\"data row3 col8\" >0.830364</td>\n",
       "      <td id=\"T_7e3aa_row3_col9\" class=\"data row3 col9\" >0.860225</td>\n",
       "    </tr>\n",
       "    <tr>\n",
       "      <th id=\"T_7e3aa_level0_row4\" class=\"row_heading level0 row4\" >cosine</th>\n",
       "      <td id=\"T_7e3aa_row4_col0\" class=\"data row4 col0\" >0.850790</td>\n",
       "      <td id=\"T_7e3aa_row4_col1\" class=\"data row4 col1\" >0.065891</td>\n",
       "      <td id=\"T_7e3aa_row4_col2\" class=\"data row4 col2\" >0.856094</td>\n",
       "      <td id=\"T_7e3aa_row4_col3\" class=\"data row4 col3\" >0.130058</td>\n",
       "      <td id=\"T_7e3aa_row4_col4\" class=\"data row4 col4\" >0.852668</td>\n",
       "      <td id=\"T_7e3aa_row4_col5\" class=\"data row4 col5\" >0.039869</td>\n",
       "      <td id=\"T_7e3aa_row4_col6\" class=\"data row4 col6\" >1.000000</td>\n",
       "      <td id=\"T_7e3aa_row4_col7\" class=\"data row4 col7\" >0.790698</td>\n",
       "      <td id=\"T_7e3aa_row4_col8\" class=\"data row4 col8\" >0.830364</td>\n",
       "      <td id=\"T_7e3aa_row4_col9\" class=\"data row4 col9\" >0.860514</td>\n",
       "    </tr>\n",
       "    <tr>\n",
       "      <th id=\"T_7e3aa_level0_row5\" class=\"row_heading level0 row5\" >svd_10</th>\n",
       "      <td id=\"T_7e3aa_row5_col0\" class=\"data row5 col0\" >0.495708</td>\n",
       "      <td id=\"T_7e3aa_row5_col1\" class=\"data row5 col1\" >0.075030</td>\n",
       "      <td id=\"T_7e3aa_row5_col2\" class=\"data row5 col2\" >0.660793</td>\n",
       "      <td id=\"T_7e3aa_row5_col3\" class=\"data row5 col3\" >0.208092</td>\n",
       "      <td id=\"T_7e3aa_row5_col4\" class=\"data row5 col4\" >0.458631</td>\n",
       "      <td id=\"T_7e3aa_row5_col5\" class=\"data row5 col5\" >0.047947</td>\n",
       "      <td id=\"T_7e3aa_row5_col6\" class=\"data row5 col6\" >0.540146</td>\n",
       "      <td id=\"T_7e3aa_row5_col7\" class=\"data row5 col7\" >0.581395</td>\n",
       "      <td id=\"T_7e3aa_row5_col8\" class=\"data row5 col8\" >0.714339</td>\n",
       "      <td id=\"T_7e3aa_row5_col9\" class=\"data row5 col9\" >0.614379</td>\n",
       "    </tr>\n",
       "    <tr>\n",
       "      <th id=\"T_7e3aa_level0_row6\" class=\"row_heading level0 row6\" >svd_31</th>\n",
       "      <td id=\"T_7e3aa_row6_col0\" class=\"data row6 col0\" >0.650337</td>\n",
       "      <td id=\"T_7e3aa_row6_col1\" class=\"data row6 col1\" >0.046344</td>\n",
       "      <td id=\"T_7e3aa_row6_col2\" class=\"data row6 col2\" >0.743025</td>\n",
       "      <td id=\"T_7e3aa_row6_col3\" class=\"data row6 col3\" >0.156069</td>\n",
       "      <td id=\"T_7e3aa_row6_col4\" class=\"data row6 col4\" >0.629986</td>\n",
       "      <td id=\"T_7e3aa_row6_col5\" class=\"data row6 col5\" >0.029147</td>\n",
       "      <td id=\"T_7e3aa_row6_col6\" class=\"data row6 col6\" >0.664234</td>\n",
       "      <td id=\"T_7e3aa_row6_col7\" class=\"data row6 col7\" >0.697674</td>\n",
       "      <td id=\"T_7e3aa_row6_col8\" class=\"data row6 col8\" >0.745323</td>\n",
       "      <td id=\"T_7e3aa_row6_col9\" class=\"data row6 col9\" >0.584569</td>\n",
       "    </tr>\n",
       "    <tr>\n",
       "      <th id=\"T_7e3aa_level0_row7\" class=\"row_heading level0 row7\" >svd_100</th>\n",
       "      <td id=\"T_7e3aa_row7_col0\" class=\"data row7 col0\" >0.837186</td>\n",
       "      <td id=\"T_7e3aa_row7_col1\" class=\"data row7 col1\" >0.012519</td>\n",
       "      <td id=\"T_7e3aa_row7_col2\" class=\"data row7 col2\" >0.848752</td>\n",
       "      <td id=\"T_7e3aa_row7_col3\" class=\"data row7 col3\" >0.057803</td>\n",
       "      <td id=\"T_7e3aa_row7_col4\" class=\"data row7 col4\" >0.833845</td>\n",
       "      <td id=\"T_7e3aa_row7_col5\" class=\"data row7 col5\" >0.007223</td>\n",
       "      <td id=\"T_7e3aa_row7_col6\" class=\"data row7 col6\" >1.000000</td>\n",
       "      <td id=\"T_7e3aa_row7_col7\" class=\"data row7 col7\" >0.837209</td>\n",
       "      <td id=\"T_7e3aa_row7_col8\" class=\"data row7 col8\" >0.929336</td>\n",
       "      <td id=\"T_7e3aa_row7_col9\" class=\"data row7 col9\" >0.339059</td>\n",
       "    </tr>\n",
       "  </tbody>\n",
       "</table>\n"
      ],
      "text/plain": [
       "<pandas.io.formats.style.Styler at 0x7f0e8e16d8d0>"
      ]
     },
     "execution_count": 26,
     "metadata": {},
     "output_type": "execute_result"
    },
    {
     "data": {
      "application/javascript": [
       "\n",
       "            setTimeout(function() {\n",
       "                var nbb_cell_id = 26;\n",
       "                var nbb_unformatted_code = \"assessor.show_metrics(kind=\\\"table\\\")\";\n",
       "                var nbb_formatted_code = \"assessor.show_metrics(kind=\\\"table\\\")\";\n",
       "                var nbb_cells = Jupyter.notebook.get_cells();\n",
       "                for (var i = 0; i < nbb_cells.length; ++i) {\n",
       "                    if (nbb_cells[i].input_prompt_number == nbb_cell_id) {\n",
       "                        if (nbb_cells[i].get_text() == nbb_unformatted_code) {\n",
       "                             nbb_cells[i].set_text(nbb_formatted_code);\n",
       "                        }\n",
       "                        break;\n",
       "                    }\n",
       "                }\n",
       "            }, 500);\n",
       "            "
      ],
      "text/plain": [
       "<IPython.core.display.Javascript object>"
      ]
     },
     "metadata": {},
     "output_type": "display_data"
    }
   ],
   "source": [
    "assessor.show_metrics(kind=\"table\")"
   ]
  },
  {
   "cell_type": "markdown",
   "metadata": {},
   "source": [
    "# ALS\n",
    "Довольно популярным базовым методом в рекомендательных системах является ALS.\n",
    "\n",
    "### Explicit ALS\n",
    "\n",
    "Релевантность:\n",
    "$$r_{ui} = q_i^T p_u$$\n",
    "\n",
    "Loss:\n",
    "$$\\min_{p*, q*} \\sum_{(u, i \\in \\mathcal{K})} (r_{ui} - q_i^T p_u)^2 + \\lambda(\\|{q_i}\\|^2 + \\|{p_i}\\|^2)$$\n",
    "\n",
    "### [Implicit ALS](http://yifanhu.net/PUB/cf.pdf)\n",
    "\n",
    "Релевантность:\n",
    "$$r_{ui} = q_i^T p_u$$\n",
    "\n",
    "Loss:\n",
    "$$\\min_{p*, q*} \\sum_{(u, i \\in \\mathcal{K})} c_{ui}(p_{ui} - q_i^T p_u)^2 + \\lambda(\\|{q_i}\\|^2 + \\|{p_i}\\|^2)$$\n",
    "Где $c_{ui}$ - значение в матрице implicit feedback, а $p_{ui}$ равно 1, если пользователь u взаимодействовал с item-ом i, и 0 иначе.\n",
    "\n",
    "### Усложнения ALS\n",
    "Обучив для каждого пользователя и объекта свой bias и добавив регуляризацию можно улучшить качество решения. Подробнее о различных матричных разложениях для задачи рекомендаций можно почитать [в статье на Хабре](https://habr.com/ru/post/486802/).\n",
    "\n",
    "В рейтинг объекта для пользователя, например, может быть представлен:\n",
    "$$r_{ui} = \\mu + b_i + b_u + q_i^T p_u$$\n",
    "\n",
    "А функция потерь будет выглядеть так:\n",
    "$$\\min_{b*, p*, q*} \\sum_{(u, i \\in \\mathcal{K})} (r_{ui} - \\mu - b_i - b_u - q_i^T p_u)^2 + \\lambda(\\|{q_i}\\|^2 + \\|{p_i}\\|^2 + b_i^2 + b_u^2)$$\n",
    "\n",
    "Матричная факторизация - хороший подход, который позволяет получить рекомендации для теплых пользователей, а также находить похожих пользователей и объекты, посчитав расстояния между векторами. Обучив модель и получив вектора можно перейти от задачи рекомендаций к задаче поиска ближайших соседей и использовать ANN-методы."
   ]
  },
  {
   "cell_type": "markdown",
   "metadata": {},
   "source": [
    "**(1.0 балла) Задание 7.**\n",
    "Примените ALS.\n",
    "\n",
    "Можно воспользоваться готовой реализацией из бибилотеки https://github.com/benfred/implicit\n",
    "\n",
    "Попробуйте использовать как все оценки, так и только высокие. Есть ли разница?"
   ]
  },
  {
   "cell_type": "code",
   "execution_count": 23,
   "metadata": {
    "ExecuteTime": {
     "end_time": "2022-09-19T10:38:58.544406Z",
     "start_time": "2022-09-19T10:38:58.535226Z"
    }
   },
   "outputs": [
    {
     "data": {
      "application/javascript": [
       "\n",
       "            setTimeout(function() {\n",
       "                var nbb_cell_id = 23;\n",
       "                var nbb_unformatted_code = \"from als import ALS, ALS_jit, ALS_biased_jit\";\n",
       "                var nbb_formatted_code = \"from als import ALS, ALS_jit, ALS_biased_jit\";\n",
       "                var nbb_cells = Jupyter.notebook.get_cells();\n",
       "                for (var i = 0; i < nbb_cells.length; ++i) {\n",
       "                    if (nbb_cells[i].input_prompt_number == nbb_cell_id) {\n",
       "                        if (nbb_cells[i].get_text() == nbb_unformatted_code) {\n",
       "                             nbb_cells[i].set_text(nbb_formatted_code);\n",
       "                        }\n",
       "                        break;\n",
       "                    }\n",
       "                }\n",
       "            }, 500);\n",
       "            "
      ],
      "text/plain": [
       "<IPython.core.display.Javascript object>"
      ]
     },
     "metadata": {},
     "output_type": "display_data"
    }
   ],
   "source": [
    "from als import ALS, ALS_jit, ALS_biased_jit"
   ]
  },
  {
   "cell_type": "code",
   "execution_count": 24,
   "metadata": {
    "ExecuteTime": {
     "end_time": "2022-09-19T10:38:58.645983Z",
     "start_time": "2022-09-19T10:38:58.546225Z"
    }
   },
   "outputs": [
    {
     "data": {
      "application/javascript": [
       "\n",
       "            setTimeout(function() {\n",
       "                var nbb_cell_id = 24;\n",
       "                var nbb_unformatted_code = \"def explain_recommendations(my_als_model, user_id):\\n    recommendations, explanations = my_als_model.recommend(\\n        user_ids=[user_id], explain=True\\n    )\\n    explanations = explanations[user_id]\\n    if explanations is None:\\n        raise ValueError(\\\"No personal recommendations generated, probably a cold user.\\\")\\n\\n    df = pd.concat(\\n        [explanations[\\\"ratings\\\"], explanations[\\\"similarity\\\"]], axis=\\\"columns\\\"\\n    )\\n    df = pd.concat([df.T, explanations[\\\"confidence\\\"]], axis=\\\"columns\\\").T.rename_axis(\\n        index=\\\"recommended items\\\", columns=\\\"liked items\\\"\\n    )\\n\\n    style = df.style\\n\\n    style.set_caption(\\n        f\\\"Recommended items for user {user_id} based on personal similarity measure \\\"\\n        \\\"between items and estimated confidence in these similarities.\\\"\\n    ).set_table_styles(\\n        [\\n            dict(\\n                selector=\\\"caption\\\",\\n                props=[\\n                    (\\\"text-align\\\", \\\"center\\\"),\\n                    (\\\"font-size\\\", \\\"125%\\\"),\\n                    (\\\"color\\\", \\\"black\\\"),\\n                ],\\n            )\\n        ]\\n    )\\n\\n    common_gradient_kwargs = dict(low=0.5, high=0.5)\\n    style = style.background_gradient(\\n        subset=(df.index[-1], df.columns[:-1]),\\n        axis=\\\"columns\\\",\\n        **common_gradient_kwargs,\\n        cmap=\\\"YlOrRd\\\",\\n    )\\n    style = style.background_gradient(\\n        subset=(df.index[:-1], df.columns[:-1]),\\n        **common_gradient_kwargs,\\n        cmap=\\\"coolwarm\\\",\\n    )\\n    style = style.background_gradient(\\n        subset=(df.index[:-1], df.columns[-1]), **common_gradient_kwargs, cmap=\\\"YlOrRd\\\"\\n    )\\n\\n    return style\";\n",
       "                var nbb_formatted_code = \"def explain_recommendations(my_als_model, user_id):\\n    recommendations, explanations = my_als_model.recommend(\\n        user_ids=[user_id], explain=True\\n    )\\n    explanations = explanations[user_id]\\n    if explanations is None:\\n        raise ValueError(\\\"No personal recommendations generated, probably a cold user.\\\")\\n\\n    df = pd.concat(\\n        [explanations[\\\"ratings\\\"], explanations[\\\"similarity\\\"]], axis=\\\"columns\\\"\\n    )\\n    df = pd.concat([df.T, explanations[\\\"confidence\\\"]], axis=\\\"columns\\\").T.rename_axis(\\n        index=\\\"recommended items\\\", columns=\\\"liked items\\\"\\n    )\\n\\n    style = df.style\\n\\n    style.set_caption(\\n        f\\\"Recommended items for user {user_id} based on personal similarity measure \\\"\\n        \\\"between items and estimated confidence in these similarities.\\\"\\n    ).set_table_styles(\\n        [\\n            dict(\\n                selector=\\\"caption\\\",\\n                props=[\\n                    (\\\"text-align\\\", \\\"center\\\"),\\n                    (\\\"font-size\\\", \\\"125%\\\"),\\n                    (\\\"color\\\", \\\"black\\\"),\\n                ],\\n            )\\n        ]\\n    )\\n\\n    common_gradient_kwargs = dict(low=0.5, high=0.5)\\n    style = style.background_gradient(\\n        subset=(df.index[-1], df.columns[:-1]),\\n        axis=\\\"columns\\\",\\n        **common_gradient_kwargs,\\n        cmap=\\\"YlOrRd\\\",\\n    )\\n    style = style.background_gradient(\\n        subset=(df.index[:-1], df.columns[:-1]),\\n        **common_gradient_kwargs,\\n        cmap=\\\"coolwarm\\\",\\n    )\\n    style = style.background_gradient(\\n        subset=(df.index[:-1], df.columns[-1]), **common_gradient_kwargs, cmap=\\\"YlOrRd\\\"\\n    )\\n\\n    return style\";\n",
       "                var nbb_cells = Jupyter.notebook.get_cells();\n",
       "                for (var i = 0; i < nbb_cells.length; ++i) {\n",
       "                    if (nbb_cells[i].input_prompt_number == nbb_cell_id) {\n",
       "                        if (nbb_cells[i].get_text() == nbb_unformatted_code) {\n",
       "                             nbb_cells[i].set_text(nbb_formatted_code);\n",
       "                        }\n",
       "                        break;\n",
       "                    }\n",
       "                }\n",
       "            }, 500);\n",
       "            "
      ],
      "text/plain": [
       "<IPython.core.display.Javascript object>"
      ]
     },
     "metadata": {},
     "output_type": "display_data"
    }
   ],
   "source": [
    "def explain_recommendations(my_als_model, user_id):\n",
    "    recommendations, explanations = my_als_model.recommend(\n",
    "        user_ids=[user_id], explain=True\n",
    "    )\n",
    "    explanations = explanations[user_id]\n",
    "    if explanations is None:\n",
    "        raise ValueError(\"No personal recommendations generated, probably a cold user.\")\n",
    "\n",
    "    df = pd.concat(\n",
    "        [explanations[\"ratings\"], explanations[\"similarity\"]], axis=\"columns\"\n",
    "    )\n",
    "    df = pd.concat([df.T, explanations[\"confidence\"]], axis=\"columns\").T.rename_axis(\n",
    "        index=\"recommended items\", columns=\"liked items\"\n",
    "    )\n",
    "\n",
    "    style = df.style\n",
    "\n",
    "    style.set_caption(\n",
    "        f\"Recommended items for user {user_id} based on personal similarity measure \"\n",
    "        \"between items and estimated confidence in these similarities.\"\n",
    "    ).set_table_styles(\n",
    "        [\n",
    "            dict(\n",
    "                selector=\"caption\",\n",
    "                props=[\n",
    "                    (\"text-align\", \"center\"),\n",
    "                    (\"font-size\", \"125%\"),\n",
    "                    (\"color\", \"black\"),\n",
    "                ],\n",
    "            )\n",
    "        ]\n",
    "    )\n",
    "\n",
    "    common_gradient_kwargs = dict(low=0.5, high=0.5)\n",
    "    style = style.background_gradient(\n",
    "        subset=(df.index[-1], df.columns[:-1]),\n",
    "        axis=\"columns\",\n",
    "        **common_gradient_kwargs,\n",
    "        cmap=\"YlOrRd\",\n",
    "    )\n",
    "    style = style.background_gradient(\n",
    "        subset=(df.index[:-1], df.columns[:-1]),\n",
    "        **common_gradient_kwargs,\n",
    "        cmap=\"coolwarm\",\n",
    "    )\n",
    "    style = style.background_gradient(\n",
    "        subset=(df.index[:-1], df.columns[-1]), **common_gradient_kwargs, cmap=\"YlOrRd\"\n",
    "    )\n",
    "\n",
    "    return style"
   ]
  },
  {
   "cell_type": "code",
   "execution_count": 29,
   "metadata": {
    "ExecuteTime": {
     "end_time": "2022-09-19T09:42:04.166445Z",
     "start_time": "2022-09-19T09:41:53.254140Z"
    }
   },
   "outputs": [
    {
     "data": {
      "application/vnd.jupyter.widget-view+json": {
       "model_id": "78e178e04a0147f39068d10832e1035f",
       "version_major": 2,
       "version_minor": 0
      },
      "text/plain": [
       "Alternating:   0%|          | 0/10 [00:00<?, ?it/s]"
      ]
     },
     "metadata": {},
     "output_type": "display_data"
    },
    {
     "data": {
      "application/vnd.jupyter.widget-view+json": {
       "model_id": "bd41b498f9fa464f87b4d43458cad85f",
       "version_major": 2,
       "version_minor": 0
      },
      "text/plain": [
       "Recommending:   0%|          | 0/1 [00:00<?, ?it/s]"
      ]
     },
     "metadata": {},
     "output_type": "display_data"
    },
    {
     "data": {
      "application/vnd.jupyter.widget-view+json": {
       "model_id": "1c7b5d5a3f30406dbc0137ff9dc49c07",
       "version_major": 2,
       "version_minor": 0
      },
      "text/plain": [
       "Recommending:   0%|          | 0/1 [00:00<?, ?it/s]"
      ]
     },
     "metadata": {},
     "output_type": "display_data"
    },
    {
     "data": {
      "application/vnd.jupyter.widget-view+json": {
       "model_id": "5946c7c8be9647ba91ba6d012d54e93e",
       "version_major": 2,
       "version_minor": 0
      },
      "text/plain": [
       "Alternating:   0%|          | 0/10 [00:00<?, ?it/s]"
      ]
     },
     "metadata": {},
     "output_type": "display_data"
    },
    {
     "data": {
      "application/vnd.jupyter.widget-view+json": {
       "model_id": "35c822ba4b724911b2278e962c598621",
       "version_major": 2,
       "version_minor": 0
      },
      "text/plain": [
       "Recommending:   0%|          | 0/1 [00:00<?, ?it/s]"
      ]
     },
     "metadata": {},
     "output_type": "display_data"
    },
    {
     "data": {
      "application/vnd.jupyter.widget-view+json": {
       "model_id": "4c72993eef21417cbdeae467dab47730",
       "version_major": 2,
       "version_minor": 0
      },
      "text/plain": [
       "Recommending:   0%|          | 0/1 [00:00<?, ?it/s]"
      ]
     },
     "metadata": {},
     "output_type": "display_data"
    },
    {
     "data": {
      "application/javascript": [
       "\n",
       "            setTimeout(function() {\n",
       "                var nbb_cell_id = 29;\n",
       "                var nbb_unformatted_code = \"my_als_models = {\\n    \\\"my_als\\\": BatchRecommender(sparse_interface, ALS_jit()),\\n    \\\"my_biased_als\\\": BatchRecommender(sparse_interface, ALS_biased_jit()),\\n}\\nassessor.assess(my_als_models)\";\n",
       "                var nbb_formatted_code = \"my_als_models = {\\n    \\\"my_als\\\": BatchRecommender(sparse_interface, ALS_jit()),\\n    \\\"my_biased_als\\\": BatchRecommender(sparse_interface, ALS_biased_jit()),\\n}\\nassessor.assess(my_als_models)\";\n",
       "                var nbb_cells = Jupyter.notebook.get_cells();\n",
       "                for (var i = 0; i < nbb_cells.length; ++i) {\n",
       "                    if (nbb_cells[i].input_prompt_number == nbb_cell_id) {\n",
       "                        if (nbb_cells[i].get_text() == nbb_unformatted_code) {\n",
       "                             nbb_cells[i].set_text(nbb_formatted_code);\n",
       "                        }\n",
       "                        break;\n",
       "                    }\n",
       "                }\n",
       "            }, 500);\n",
       "            "
      ],
      "text/plain": [
       "<IPython.core.display.Javascript object>"
      ]
     },
     "metadata": {},
     "output_type": "display_data"
    }
   ],
   "source": [
    "my_als_models = {\n",
    "    \"my_als\": BatchRecommender(sparse_interface, ALS_jit()),\n",
    "    \"my_biased_als\": BatchRecommender(sparse_interface, ALS_biased_jit()),\n",
    "}\n",
    "assessor.assess(my_als_models)"
   ]
  },
  {
   "cell_type": "code",
   "execution_count": 30,
   "metadata": {
    "ExecuteTime": {
     "end_time": "2022-09-19T09:42:04.192275Z",
     "start_time": "2022-09-19T09:42:04.168326Z"
    }
   },
   "outputs": [
    {
     "data": {
      "text/html": [
       "<style type=\"text/css\">\n",
       "#T_58bba_row0_col0, #T_58bba_row0_col4, #T_58bba_row1_col2, #T_58bba_row1_col6, #T_58bba_row1_col7, #T_58bba_row1_col8, #T_58bba_row7_col1, #T_58bba_row7_col3, #T_58bba_row7_col5, #T_58bba_row7_col9 {\n",
       "  background-color: #8db0fe;\n",
       "  color: #000000;\n",
       "}\n",
       "#T_58bba_row0_col1 {\n",
       "  background-color: #adc9fd;\n",
       "  color: #000000;\n",
       "}\n",
       "#T_58bba_row0_col2 {\n",
       "  background-color: #9abbff;\n",
       "  color: #000000;\n",
       "}\n",
       "#T_58bba_row0_col3 {\n",
       "  background-color: #bad0f8;\n",
       "  color: #000000;\n",
       "}\n",
       "#T_58bba_row0_col5 {\n",
       "  background-color: #abc8fd;\n",
       "  color: #000000;\n",
       "}\n",
       "#T_58bba_row0_col6, #T_58bba_row0_col7, #T_58bba_row1_col5, #T_58bba_row2_col0, #T_58bba_row2_col2, #T_58bba_row2_col4, #T_58bba_row2_col6, #T_58bba_row2_col9, #T_58bba_row3_col0, #T_58bba_row3_col2, #T_58bba_row3_col4, #T_58bba_row3_col6, #T_58bba_row4_col0, #T_58bba_row4_col2, #T_58bba_row4_col4, #T_58bba_row4_col6, #T_58bba_row4_col9, #T_58bba_row7_col6, #T_58bba_row7_col8, #T_58bba_row8_col1, #T_58bba_row8_col2, #T_58bba_row8_col3, #T_58bba_row8_col6, #T_58bba_row8_col7, #T_58bba_row9_col2, #T_58bba_row9_col6, #T_58bba_row9_col7 {\n",
       "  background-color: #f4987a;\n",
       "  color: #000000;\n",
       "}\n",
       "#T_58bba_row0_col8, #T_58bba_row5_col0 {\n",
       "  background-color: #e5d8d1;\n",
       "  color: #000000;\n",
       "}\n",
       "#T_58bba_row0_col9 {\n",
       "  background-color: #c5d6f2;\n",
       "  color: #000000;\n",
       "}\n",
       "#T_58bba_row1_col0 {\n",
       "  background-color: #93b5fe;\n",
       "  color: #000000;\n",
       "}\n",
       "#T_58bba_row1_col1 {\n",
       "  background-color: #f4c6af;\n",
       "  color: #000000;\n",
       "}\n",
       "#T_58bba_row1_col3 {\n",
       "  background-color: #b1cbfc;\n",
       "  color: #000000;\n",
       "}\n",
       "#T_58bba_row1_col4 {\n",
       "  background-color: #94b6ff;\n",
       "  color: #000000;\n",
       "}\n",
       "#T_58bba_row1_col9 {\n",
       "  background-color: #ead5c9;\n",
       "  color: #000000;\n",
       "}\n",
       "#T_58bba_row2_col1 {\n",
       "  background-color: #edd2c3;\n",
       "  color: #000000;\n",
       "}\n",
       "#T_58bba_row2_col3, #T_58bba_row3_col3, #T_58bba_row4_col3, #T_58bba_row6_col9, #T_58bba_row9_col1 {\n",
       "  background-color: #d9dce1;\n",
       "  color: #000000;\n",
       "}\n",
       "#T_58bba_row2_col5 {\n",
       "  background-color: #dcdddd;\n",
       "  color: #000000;\n",
       "}\n",
       "#T_58bba_row2_col7, #T_58bba_row3_col7, #T_58bba_row4_col7 {\n",
       "  background-color: #f5c1a9;\n",
       "  color: #000000;\n",
       "}\n",
       "#T_58bba_row2_col8, #T_58bba_row3_col1, #T_58bba_row3_col8, #T_58bba_row4_col8, #T_58bba_row5_col5 {\n",
       "  background-color: #ecd3c5;\n",
       "  color: #000000;\n",
       "}\n",
       "#T_58bba_row3_col5, #T_58bba_row9_col3 {\n",
       "  background-color: #dbdcde;\n",
       "  color: #000000;\n",
       "}\n",
       "#T_58bba_row3_col9 {\n",
       "  background-color: #f49a7b;\n",
       "  color: #000000;\n",
       "}\n",
       "#T_58bba_row4_col1, #T_58bba_row6_col3 {\n",
       "  background-color: #edd1c2;\n",
       "  color: #000000;\n",
       "}\n",
       "#T_58bba_row4_col5, #T_58bba_row9_col8 {\n",
       "  background-color: #dddcdc;\n",
       "  color: #000000;\n",
       "}\n",
       "#T_58bba_row5_col1, #T_58bba_row6_col0 {\n",
       "  background-color: #f5c4ac;\n",
       "  color: #000000;\n",
       "}\n",
       "#T_58bba_row5_col2 {\n",
       "  background-color: #f4c5ad;\n",
       "  color: #000000;\n",
       "}\n",
       "#T_58bba_row5_col3, #T_58bba_row7_col0, #T_58bba_row7_col4 {\n",
       "  background-color: #f59d7e;\n",
       "  color: #000000;\n",
       "}\n",
       "#T_58bba_row5_col4, #T_58bba_row5_col9, #T_58bba_row6_col6 {\n",
       "  background-color: #e0dbd8;\n",
       "  color: #000000;\n",
       "}\n",
       "#T_58bba_row5_col6 {\n",
       "  background-color: #c9d7f0;\n",
       "  color: #000000;\n",
       "}\n",
       "#T_58bba_row5_col7 {\n",
       "  background-color: #cad8ef;\n",
       "  color: #000000;\n",
       "}\n",
       "#T_58bba_row5_col8 {\n",
       "  background-color: #aec9fc;\n",
       "  color: #000000;\n",
       "}\n",
       "#T_58bba_row6_col1 {\n",
       "  background-color: #d1dae9;\n",
       "  color: #000000;\n",
       "}\n",
       "#T_58bba_row6_col2 {\n",
       "  background-color: #f7b497;\n",
       "  color: #000000;\n",
       "}\n",
       "#T_58bba_row6_col4 {\n",
       "  background-color: #f3c7b1;\n",
       "  color: #000000;\n",
       "}\n",
       "#T_58bba_row6_col5, #T_58bba_row9_col5 {\n",
       "  background-color: #c6d6f1;\n",
       "  color: #000000;\n",
       "}\n",
       "#T_58bba_row6_col7 {\n",
       "  background-color: #e8d6cc;\n",
       "  color: #000000;\n",
       "}\n",
       "#T_58bba_row6_col8, #T_58bba_row8_col8 {\n",
       "  background-color: #c1d4f4;\n",
       "  color: #000000;\n",
       "}\n",
       "#T_58bba_row7_col2, #T_58bba_row9_col0 {\n",
       "  background-color: #f59c7d;\n",
       "  color: #000000;\n",
       "}\n",
       "#T_58bba_row7_col7 {\n",
       "  background-color: #f7b396;\n",
       "  color: #000000;\n",
       "}\n",
       "#T_58bba_row8_col0 {\n",
       "  background-color: #f5a081;\n",
       "  color: #000000;\n",
       "}\n",
       "#T_58bba_row8_col4 {\n",
       "  background-color: #f7a688;\n",
       "  color: #000000;\n",
       "}\n",
       "#T_58bba_row8_col5 {\n",
       "  background-color: #f7b99e;\n",
       "  color: #000000;\n",
       "}\n",
       "#T_58bba_row8_col9 {\n",
       "  background-color: #d6dce4;\n",
       "  color: #000000;\n",
       "}\n",
       "#T_58bba_row9_col4 {\n",
       "  background-color: #f59f80;\n",
       "  color: #000000;\n",
       "}\n",
       "#T_58bba_row9_col9 {\n",
       "  background-color: #bed2f6;\n",
       "  color: #000000;\n",
       "}\n",
       "</style>\n",
       "<table id=\"T_58bba\">\n",
       "  <thead>\n",
       "    <tr>\n",
       "      <th class=\"blank level0\" >&nbsp;</th>\n",
       "      <th id=\"T_58bba_level0_col0\" class=\"col_heading level0 col0\" >train_mnap</th>\n",
       "      <th id=\"T_58bba_level0_col1\" class=\"col_heading level0 col1\" >val_mnap</th>\n",
       "      <th id=\"T_58bba_level0_col2\" class=\"col_heading level0 col2\" >train_hitrate</th>\n",
       "      <th id=\"T_58bba_level0_col3\" class=\"col_heading level0 col3\" >val_hitrate</th>\n",
       "      <th id=\"T_58bba_level0_col4\" class=\"col_heading level0 col4\" >train_mrr</th>\n",
       "      <th id=\"T_58bba_level0_col5\" class=\"col_heading level0 col5\" >val_mrr</th>\n",
       "      <th id=\"T_58bba_level0_col6\" class=\"col_heading level0 col6\" >train_coverage</th>\n",
       "      <th id=\"T_58bba_level0_col7\" class=\"col_heading level0 col7\" >val_coverage</th>\n",
       "      <th id=\"T_58bba_level0_col8\" class=\"col_heading level0 col8\" >train_surprisal</th>\n",
       "      <th id=\"T_58bba_level0_col9\" class=\"col_heading level0 col9\" >val_surprisal</th>\n",
       "    </tr>\n",
       "  </thead>\n",
       "  <tbody>\n",
       "    <tr>\n",
       "      <th id=\"T_58bba_level0_row0\" class=\"row_heading level0 row0\" >random</th>\n",
       "      <td id=\"T_58bba_row0_col0\" class=\"data row0 col0\" >0.032909</td>\n",
       "      <td id=\"T_58bba_row0_col1\" class=\"data row0 col1\" >0.027927</td>\n",
       "      <td id=\"T_58bba_row0_col2\" class=\"data row0 col2\" >0.133627</td>\n",
       "      <td id=\"T_58bba_row0_col3\" class=\"data row0 col3\" >0.098266</td>\n",
       "      <td id=\"T_58bba_row0_col4\" class=\"data row0 col4\" >0.021530</td>\n",
       "      <td id=\"T_58bba_row0_col5\" class=\"data row0 col5\" >0.018505</td>\n",
       "      <td id=\"T_58bba_row0_col6\" class=\"data row0 col6\" >1.000000</td>\n",
       "      <td id=\"T_58bba_row0_col7\" class=\"data row0 col7\" >0.906977</td>\n",
       "      <td id=\"T_58bba_row0_col8\" class=\"data row0 col8\" >0.814839</td>\n",
       "      <td id=\"T_58bba_row0_col9\" class=\"data row0 col9\" >0.513508</td>\n",
       "    </tr>\n",
       "    <tr>\n",
       "      <th id=\"T_58bba_level0_row1\" class=\"row_heading level0 row1\" >popular</th>\n",
       "      <td id=\"T_58bba_row1_col0\" class=\"data row1 col0\" >0.059019</td>\n",
       "      <td id=\"T_58bba_row1_col1\" class=\"data row1 col1\" >0.073702</td>\n",
       "      <td id=\"T_58bba_row1_col2\" class=\"data row1 col2\" >0.077827</td>\n",
       "      <td id=\"T_58bba_row1_col3\" class=\"data row1 col3\" >0.089595</td>\n",
       "      <td id=\"T_58bba_row1_col4\" class=\"data row1 col4\" >0.057450</td>\n",
       "      <td id=\"T_58bba_row1_col5\" class=\"data row1 col5\" >0.071810</td>\n",
       "      <td id=\"T_58bba_row1_col6\" class=\"data row1 col6\" >0.284672</td>\n",
       "      <td id=\"T_58bba_row1_col7\" class=\"data row1 col7\" >0.395349</td>\n",
       "      <td id=\"T_58bba_row1_col8\" class=\"data row1 col8\" >0.664661</td>\n",
       "      <td id=\"T_58bba_row1_col9\" class=\"data row1 col9\" >0.654923</td>\n",
       "    </tr>\n",
       "    <tr>\n",
       "      <th id=\"T_58bba_level0_row2\" class=\"row_heading level0 row2\" >tfidf</th>\n",
       "      <td id=\"T_58bba_row2_col0\" class=\"data row2 col0\" >0.850790</td>\n",
       "      <td id=\"T_58bba_row2_col1\" class=\"data row2 col1\" >0.065181</td>\n",
       "      <td id=\"T_58bba_row2_col2\" class=\"data row2 col2\" >0.856094</td>\n",
       "      <td id=\"T_58bba_row2_col3\" class=\"data row2 col3\" >0.130058</td>\n",
       "      <td id=\"T_58bba_row2_col4\" class=\"data row2 col4\" >0.852668</td>\n",
       "      <td id=\"T_58bba_row2_col5\" class=\"data row2 col5\" >0.039467</td>\n",
       "      <td id=\"T_58bba_row2_col6\" class=\"data row2 col6\" >1.000000</td>\n",
       "      <td id=\"T_58bba_row2_col7\" class=\"data row2 col7\" >0.790698</td>\n",
       "      <td id=\"T_58bba_row2_col8\" class=\"data row2 col8\" >0.830364</td>\n",
       "      <td id=\"T_58bba_row2_col9\" class=\"data row2 col9\" >0.860514</td>\n",
       "    </tr>\n",
       "    <tr>\n",
       "      <th id=\"T_58bba_level0_row3\" class=\"row_heading level0 row3\" >bm25</th>\n",
       "      <td id=\"T_58bba_row3_col0\" class=\"data row3 col0\" >0.850790</td>\n",
       "      <td id=\"T_58bba_row3_col1\" class=\"data row3 col1\" >0.064779</td>\n",
       "      <td id=\"T_58bba_row3_col2\" class=\"data row3 col2\" >0.856094</td>\n",
       "      <td id=\"T_58bba_row3_col3\" class=\"data row3 col3\" >0.130058</td>\n",
       "      <td id=\"T_58bba_row3_col4\" class=\"data row3 col4\" >0.852668</td>\n",
       "      <td id=\"T_58bba_row3_col5\" class=\"data row3 col5\" >0.038986</td>\n",
       "      <td id=\"T_58bba_row3_col6\" class=\"data row3 col6\" >1.000000</td>\n",
       "      <td id=\"T_58bba_row3_col7\" class=\"data row3 col7\" >0.790698</td>\n",
       "      <td id=\"T_58bba_row3_col8\" class=\"data row3 col8\" >0.830364</td>\n",
       "      <td id=\"T_58bba_row3_col9\" class=\"data row3 col9\" >0.860225</td>\n",
       "    </tr>\n",
       "    <tr>\n",
       "      <th id=\"T_58bba_level0_row4\" class=\"row_heading level0 row4\" >cosine</th>\n",
       "      <td id=\"T_58bba_row4_col0\" class=\"data row4 col0\" >0.850790</td>\n",
       "      <td id=\"T_58bba_row4_col1\" class=\"data row4 col1\" >0.065891</td>\n",
       "      <td id=\"T_58bba_row4_col2\" class=\"data row4 col2\" >0.856094</td>\n",
       "      <td id=\"T_58bba_row4_col3\" class=\"data row4 col3\" >0.130058</td>\n",
       "      <td id=\"T_58bba_row4_col4\" class=\"data row4 col4\" >0.852668</td>\n",
       "      <td id=\"T_58bba_row4_col5\" class=\"data row4 col5\" >0.039869</td>\n",
       "      <td id=\"T_58bba_row4_col6\" class=\"data row4 col6\" >1.000000</td>\n",
       "      <td id=\"T_58bba_row4_col7\" class=\"data row4 col7\" >0.790698</td>\n",
       "      <td id=\"T_58bba_row4_col8\" class=\"data row4 col8\" >0.830364</td>\n",
       "      <td id=\"T_58bba_row4_col9\" class=\"data row4 col9\" >0.860514</td>\n",
       "    </tr>\n",
       "    <tr>\n",
       "      <th id=\"T_58bba_level0_row5\" class=\"row_heading level0 row5\" >svd_10</th>\n",
       "      <td id=\"T_58bba_row5_col0\" class=\"data row5 col0\" >0.495708</td>\n",
       "      <td id=\"T_58bba_row5_col1\" class=\"data row5 col1\" >0.075030</td>\n",
       "      <td id=\"T_58bba_row5_col2\" class=\"data row5 col2\" >0.660793</td>\n",
       "      <td id=\"T_58bba_row5_col3\" class=\"data row5 col3\" >0.208092</td>\n",
       "      <td id=\"T_58bba_row5_col4\" class=\"data row5 col4\" >0.458631</td>\n",
       "      <td id=\"T_58bba_row5_col5\" class=\"data row5 col5\" >0.047947</td>\n",
       "      <td id=\"T_58bba_row5_col6\" class=\"data row5 col6\" >0.540146</td>\n",
       "      <td id=\"T_58bba_row5_col7\" class=\"data row5 col7\" >0.581395</td>\n",
       "      <td id=\"T_58bba_row5_col8\" class=\"data row5 col8\" >0.714339</td>\n",
       "      <td id=\"T_58bba_row5_col9\" class=\"data row5 col9\" >0.614379</td>\n",
       "    </tr>\n",
       "    <tr>\n",
       "      <th id=\"T_58bba_level0_row6\" class=\"row_heading level0 row6\" >svd_31</th>\n",
       "      <td id=\"T_58bba_row6_col0\" class=\"data row6 col0\" >0.650337</td>\n",
       "      <td id=\"T_58bba_row6_col1\" class=\"data row6 col1\" >0.046344</td>\n",
       "      <td id=\"T_58bba_row6_col2\" class=\"data row6 col2\" >0.743025</td>\n",
       "      <td id=\"T_58bba_row6_col3\" class=\"data row6 col3\" >0.156069</td>\n",
       "      <td id=\"T_58bba_row6_col4\" class=\"data row6 col4\" >0.629986</td>\n",
       "      <td id=\"T_58bba_row6_col5\" class=\"data row6 col5\" >0.029147</td>\n",
       "      <td id=\"T_58bba_row6_col6\" class=\"data row6 col6\" >0.664234</td>\n",
       "      <td id=\"T_58bba_row6_col7\" class=\"data row6 col7\" >0.697674</td>\n",
       "      <td id=\"T_58bba_row6_col8\" class=\"data row6 col8\" >0.745323</td>\n",
       "      <td id=\"T_58bba_row6_col9\" class=\"data row6 col9\" >0.584569</td>\n",
       "    </tr>\n",
       "    <tr>\n",
       "      <th id=\"T_58bba_level0_row7\" class=\"row_heading level0 row7\" >svd_100</th>\n",
       "      <td id=\"T_58bba_row7_col0\" class=\"data row7 col0\" >0.837186</td>\n",
       "      <td id=\"T_58bba_row7_col1\" class=\"data row7 col1\" >0.012519</td>\n",
       "      <td id=\"T_58bba_row7_col2\" class=\"data row7 col2\" >0.848752</td>\n",
       "      <td id=\"T_58bba_row7_col3\" class=\"data row7 col3\" >0.057803</td>\n",
       "      <td id=\"T_58bba_row7_col4\" class=\"data row7 col4\" >0.833845</td>\n",
       "      <td id=\"T_58bba_row7_col5\" class=\"data row7 col5\" >0.007223</td>\n",
       "      <td id=\"T_58bba_row7_col6\" class=\"data row7 col6\" >1.000000</td>\n",
       "      <td id=\"T_58bba_row7_col7\" class=\"data row7 col7\" >0.837209</td>\n",
       "      <td id=\"T_58bba_row7_col8\" class=\"data row7 col8\" >0.929336</td>\n",
       "      <td id=\"T_58bba_row7_col9\" class=\"data row7 col9\" >0.339059</td>\n",
       "    </tr>\n",
       "    <tr>\n",
       "      <th id=\"T_58bba_level0_row8\" class=\"row_heading level0 row8\" >my_als</th>\n",
       "      <td id=\"T_58bba_row8_col0\" class=\"data row8 col0\" >0.820055</td>\n",
       "      <td id=\"T_58bba_row8_col1\" class=\"data row8 col1\" >0.095288</td>\n",
       "      <td id=\"T_58bba_row8_col2\" class=\"data row8 col2\" >0.856094</td>\n",
       "      <td id=\"T_58bba_row8_col3\" class=\"data row8 col3\" >0.210983</td>\n",
       "      <td id=\"T_58bba_row8_col4\" class=\"data row8 col4\" >0.795203</td>\n",
       "      <td id=\"T_58bba_row8_col5\" class=\"data row8 col5\" >0.060580</td>\n",
       "      <td id=\"T_58bba_row8_col6\" class=\"data row8 col6\" >1.000000</td>\n",
       "      <td id=\"T_58bba_row8_col7\" class=\"data row8 col7\" >0.906977</td>\n",
       "      <td id=\"T_58bba_row8_col8\" class=\"data row8 col8\" >0.745391</td>\n",
       "      <td id=\"T_58bba_row8_col9\" class=\"data row8 col9\" >0.571474</td>\n",
       "    </tr>\n",
       "    <tr>\n",
       "      <th id=\"T_58bba_level0_row9\" class=\"row_heading level0 row9\" >my_biased_als</th>\n",
       "      <td id=\"T_58bba_row9_col0\" class=\"data row9 col0\" >0.841966</td>\n",
       "      <td id=\"T_58bba_row9_col1\" class=\"data row9 col1\" >0.051868</td>\n",
       "      <td id=\"T_58bba_row9_col2\" class=\"data row9 col2\" >0.856094</td>\n",
       "      <td id=\"T_58bba_row9_col3\" class=\"data row9 col3\" >0.132948</td>\n",
       "      <td id=\"T_58bba_row9_col4\" class=\"data row9 col4\" >0.832354</td>\n",
       "      <td id=\"T_58bba_row9_col5\" class=\"data row9 col5\" >0.029238</td>\n",
       "      <td id=\"T_58bba_row9_col6\" class=\"data row9 col6\" >1.000000</td>\n",
       "      <td id=\"T_58bba_row9_col7\" class=\"data row9 col7\" >0.906977</td>\n",
       "      <td id=\"T_58bba_row9_col8\" class=\"data row9 col8\" >0.797048</td>\n",
       "      <td id=\"T_58bba_row9_col9\" class=\"data row9 col9\" >0.486327</td>\n",
       "    </tr>\n",
       "  </tbody>\n",
       "</table>\n"
      ],
      "text/plain": [
       "<pandas.io.formats.style.Styler at 0x7f0e8d326440>"
      ]
     },
     "execution_count": 30,
     "metadata": {},
     "output_type": "execute_result"
    },
    {
     "data": {
      "application/javascript": [
       "\n",
       "            setTimeout(function() {\n",
       "                var nbb_cell_id = 30;\n",
       "                var nbb_unformatted_code = \"assessor.show_metrics(\\\"table\\\")\";\n",
       "                var nbb_formatted_code = \"assessor.show_metrics(\\\"table\\\")\";\n",
       "                var nbb_cells = Jupyter.notebook.get_cells();\n",
       "                for (var i = 0; i < nbb_cells.length; ++i) {\n",
       "                    if (nbb_cells[i].input_prompt_number == nbb_cell_id) {\n",
       "                        if (nbb_cells[i].get_text() == nbb_unformatted_code) {\n",
       "                             nbb_cells[i].set_text(nbb_formatted_code);\n",
       "                        }\n",
       "                        break;\n",
       "                    }\n",
       "                }\n",
       "            }, 500);\n",
       "            "
      ],
      "text/plain": [
       "<IPython.core.display.Javascript object>"
      ]
     },
     "metadata": {},
     "output_type": "display_data"
    }
   ],
   "source": [
    "assessor.show_metrics(\"table\")"
   ]
  },
  {
   "cell_type": "code",
   "execution_count": 31,
   "metadata": {
    "ExecuteTime": {
     "end_time": "2022-09-19T09:42:04.290557Z",
     "start_time": "2022-09-19T09:42:04.195558Z"
    }
   },
   "outputs": [
    {
     "name": "stderr",
     "output_type": "stream",
     "text": [
      "/external2/dkkoshman/venv3.10/lib/python3.10/site-packages/pandas/io/formats/style.py:3554: RuntimeWarning: All-NaN slice encountered\n",
      "  smin = np.nanmin(gmap) if vmin is None else vmin\n",
      "/external2/dkkoshman/venv3.10/lib/python3.10/site-packages/pandas/io/formats/style.py:3555: RuntimeWarning: All-NaN slice encountered\n",
      "  smax = np.nanmax(gmap) if vmax is None else vmax\n"
     ]
    },
    {
     "data": {
      "text/html": [
       "<style type=\"text/css\">\n",
       "#T_6443b caption {\n",
       "  text-align: center;\n",
       "  font-size: 125%;\n",
       "  color: black;\n",
       "}\n",
       "#T_6443b_row0_col0 {\n",
       "  background-color: #f4987a;\n",
       "  color: #000000;\n",
       "}\n",
       "#T_6443b_row0_col1 {\n",
       "  background-color: #e31a1c;\n",
       "  color: #f1f1f1;\n",
       "}\n",
       "#T_6443b_row1_col0 {\n",
       "  background-color: #e8d6cc;\n",
       "  color: #000000;\n",
       "}\n",
       "#T_6443b_row1_col1 {\n",
       "  background-color: #fc6c33;\n",
       "  color: #f1f1f1;\n",
       "}\n",
       "#T_6443b_row2_col0 {\n",
       "  background-color: #dfdbd9;\n",
       "  color: #000000;\n",
       "}\n",
       "#T_6443b_row2_col1 {\n",
       "  background-color: #fd8f3d;\n",
       "  color: #f1f1f1;\n",
       "}\n",
       "#T_6443b_row3_col0 {\n",
       "  background-color: #c9d7f0;\n",
       "  color: #000000;\n",
       "}\n",
       "#T_6443b_row3_col1 {\n",
       "  background-color: #fea145;\n",
       "  color: #000000;\n",
       "}\n",
       "#T_6443b_row4_col0 {\n",
       "  background-color: #c0d4f5;\n",
       "  color: #000000;\n",
       "}\n",
       "#T_6443b_row4_col1 {\n",
       "  background-color: #feaf4b;\n",
       "  color: #000000;\n",
       "}\n",
       "#T_6443b_row5_col0 {\n",
       "  background-color: #b7cff9;\n",
       "  color: #000000;\n",
       "}\n",
       "#T_6443b_row5_col1 {\n",
       "  background-color: #feb34d;\n",
       "  color: #000000;\n",
       "}\n",
       "#T_6443b_row6_col0, #T_6443b_row7_col0 {\n",
       "  background-color: #b6cefa;\n",
       "  color: #000000;\n",
       "}\n",
       "#T_6443b_row6_col1 {\n",
       "  background-color: #feb54f;\n",
       "  color: #000000;\n",
       "}\n",
       "#T_6443b_row7_col1 {\n",
       "  background-color: #feb852;\n",
       "  color: #000000;\n",
       "}\n",
       "#T_6443b_row8_col0, #T_6443b_row9_col0 {\n",
       "  background-color: #b5cdfa;\n",
       "  color: #000000;\n",
       "}\n",
       "#T_6443b_row8_col1, #T_6443b_row9_col1 {\n",
       "  background-color: #feb651;\n",
       "  color: #000000;\n",
       "}\n",
       "#T_6443b_row10_col0 {\n",
       "  background-color: #b1cbfc;\n",
       "  color: #000000;\n",
       "}\n",
       "#T_6443b_row10_col1 {\n",
       "  background-color: #febf5a;\n",
       "  color: #000000;\n",
       "}\n",
       "#T_6443b_row11_col0 {\n",
       "  background-color: #afcafc;\n",
       "  color: #000000;\n",
       "}\n",
       "#T_6443b_row11_col1 {\n",
       "  background-color: #febe59;\n",
       "  color: #000000;\n",
       "}\n",
       "#T_6443b_row12_col0 {\n",
       "  background-color: #9dbdff;\n",
       "  color: #000000;\n",
       "}\n",
       "#T_6443b_row12_col1 {\n",
       "  background-color: #fece6a;\n",
       "  color: #000000;\n",
       "}\n",
       "#T_6443b_row13_col0 {\n",
       "  background-color: #9bbcff;\n",
       "  color: #000000;\n",
       "}\n",
       "#T_6443b_row13_col1 {\n",
       "  background-color: #fed572;\n",
       "  color: #000000;\n",
       "}\n",
       "#T_6443b_row14_col0 {\n",
       "  background-color: #9abbff;\n",
       "  color: #000000;\n",
       "}\n",
       "#T_6443b_row14_col1 {\n",
       "  background-color: #fed470;\n",
       "  color: #000000;\n",
       "}\n",
       "#T_6443b_row15_col0 {\n",
       "  background-color: #96b7ff;\n",
       "  color: #000000;\n",
       "}\n",
       "#T_6443b_row15_col1 {\n",
       "  background-color: #fed06c;\n",
       "  color: #000000;\n",
       "}\n",
       "#T_6443b_row16_col0, #T_6443b_row17_col0, #T_6443b_row18_col0 {\n",
       "  background-color: #93b5fe;\n",
       "  color: #000000;\n",
       "}\n",
       "#T_6443b_row16_col1, #T_6443b_row19_col1 {\n",
       "  background-color: #fed976;\n",
       "  color: #000000;\n",
       "}\n",
       "#T_6443b_row17_col1, #T_6443b_row18_col1 {\n",
       "  background-color: #fed673;\n",
       "  color: #000000;\n",
       "}\n",
       "#T_6443b_row19_col0 {\n",
       "  background-color: #8db0fe;\n",
       "  color: #000000;\n",
       "}\n",
       "#T_6443b_row20_col0 {\n",
       "  background-color: #000000;\n",
       "  color: #f1f1f1;\n",
       "}\n",
       "</style>\n",
       "<table id=\"T_6443b\">\n",
       "  <caption>Recommended items for user 26055 based on personal similarity measure between items and estimated confidence in these similarities.</caption>\n",
       "  <thead>\n",
       "    <tr>\n",
       "      <th class=\"index_name level0\" >liked items</th>\n",
       "      <th id=\"T_6443b_level0_col0\" class=\"col_heading level0 col0\" >predicted relevance</th>\n",
       "      <th id=\"T_6443b_level0_col1\" class=\"col_heading level0 col1\" >158</th>\n",
       "    </tr>\n",
       "    <tr>\n",
       "      <th class=\"index_name level0\" >recommended items</th>\n",
       "      <th class=\"blank col0\" >&nbsp;</th>\n",
       "      <th class=\"blank col1\" >&nbsp;</th>\n",
       "    </tr>\n",
       "  </thead>\n",
       "  <tbody>\n",
       "    <tr>\n",
       "      <th id=\"T_6443b_level0_row0\" class=\"row_heading level0 row0\" >158</th>\n",
       "      <td id=\"T_6443b_row0_col0\" class=\"data row0 col0\" >0.946840</td>\n",
       "      <td id=\"T_6443b_row0_col1\" class=\"data row0 col1\" >0.004718</td>\n",
       "    </tr>\n",
       "    <tr>\n",
       "      <th id=\"T_6443b_level0_row1\" class=\"row_heading level0 row1\" >182</th>\n",
       "      <td id=\"T_6443b_row1_col0\" class=\"data row1 col0\" >0.680168</td>\n",
       "      <td id=\"T_6443b_row1_col1\" class=\"data row1 col1\" >0.003541</td>\n",
       "    </tr>\n",
       "    <tr>\n",
       "      <th id=\"T_6443b_level0_row2\" class=\"row_heading level0 row2\" >221</th>\n",
       "      <td id=\"T_6443b_row2_col0\" class=\"data row2 col0\" >0.630108</td>\n",
       "      <td id=\"T_6443b_row2_col1\" class=\"data row2 col1\" >0.003073</td>\n",
       "    </tr>\n",
       "    <tr>\n",
       "      <th id=\"T_6443b_level0_row3\" class=\"row_heading level0 row3\" >114</th>\n",
       "      <td id=\"T_6443b_row3_col0\" class=\"data row3 col0\" >0.524252</td>\n",
       "      <td id=\"T_6443b_row3_col1\" class=\"data row3 col1\" >0.002684</td>\n",
       "    </tr>\n",
       "    <tr>\n",
       "      <th id=\"T_6443b_level0_row4\" class=\"row_heading level0 row4\" >96</th>\n",
       "      <td id=\"T_6443b_row4_col0\" class=\"data row4 col0\" >0.486934</td>\n",
       "      <td id=\"T_6443b_row4_col1\" class=\"data row4 col1\" >0.002394</td>\n",
       "    </tr>\n",
       "    <tr>\n",
       "      <th id=\"T_6443b_level0_row5\" class=\"row_heading level0 row5\" >91</th>\n",
       "      <td id=\"T_6443b_row5_col0\" class=\"data row5 col0\" >0.449566</td>\n",
       "      <td id=\"T_6443b_row5_col1\" class=\"data row5 col1\" >0.002318</td>\n",
       "    </tr>\n",
       "    <tr>\n",
       "      <th id=\"T_6443b_level0_row6\" class=\"row_heading level0 row6\" >12</th>\n",
       "      <td id=\"T_6443b_row6_col0\" class=\"data row6 col0\" >0.448809</td>\n",
       "      <td id=\"T_6443b_row6_col1\" class=\"data row6 col1\" >0.002260</td>\n",
       "    </tr>\n",
       "    <tr>\n",
       "      <th id=\"T_6443b_level0_row7\" class=\"row_heading level0 row7\" >191</th>\n",
       "      <td id=\"T_6443b_row7_col0\" class=\"data row7 col0\" >0.447261</td>\n",
       "      <td id=\"T_6443b_row7_col1\" class=\"data row7 col1\" >0.002213</td>\n",
       "    </tr>\n",
       "    <tr>\n",
       "      <th id=\"T_6443b_level0_row8\" class=\"row_heading level0 row8\" >280</th>\n",
       "      <td id=\"T_6443b_row8_col0\" class=\"data row8 col0\" >0.442225</td>\n",
       "      <td id=\"T_6443b_row8_col1\" class=\"data row8 col1\" >0.002233</td>\n",
       "    </tr>\n",
       "    <tr>\n",
       "      <th id=\"T_6443b_level0_row9\" class=\"row_heading level0 row9\" >283</th>\n",
       "      <td id=\"T_6443b_row9_col0\" class=\"data row9 col0\" >0.442164</td>\n",
       "      <td id=\"T_6443b_row9_col1\" class=\"data row9 col1\" >0.002236</td>\n",
       "    </tr>\n",
       "    <tr>\n",
       "      <th id=\"T_6443b_level0_row10\" class=\"row_heading level0 row10\" >285</th>\n",
       "      <td id=\"T_6443b_row10_col0\" class=\"data row10 col0\" >0.424568</td>\n",
       "      <td id=\"T_6443b_row10_col1\" class=\"data row10 col1\" >0.002072</td>\n",
       "    </tr>\n",
       "    <tr>\n",
       "      <th id=\"T_6443b_level0_row11\" class=\"row_heading level0 row11\" >137</th>\n",
       "      <td id=\"T_6443b_row11_col0\" class=\"data row11 col0\" >0.420909</td>\n",
       "      <td id=\"T_6443b_row11_col1\" class=\"data row11 col1\" >0.002078</td>\n",
       "    </tr>\n",
       "    <tr>\n",
       "      <th id=\"T_6443b_level0_row12\" class=\"row_heading level0 row12\" >160</th>\n",
       "      <td id=\"T_6443b_row12_col0\" class=\"data row12 col0\" >0.346928</td>\n",
       "      <td id=\"T_6443b_row12_col1\" class=\"data row12 col1\" >0.001769</td>\n",
       "    </tr>\n",
       "    <tr>\n",
       "      <th id=\"T_6443b_level0_row13\" class=\"row_heading level0 row13\" >62</th>\n",
       "      <td id=\"T_6443b_row13_col0\" class=\"data row13 col0\" >0.346661</td>\n",
       "      <td id=\"T_6443b_row13_col1\" class=\"data row13 col1\" >0.001605</td>\n",
       "    </tr>\n",
       "    <tr>\n",
       "      <th id=\"T_6443b_level0_row14\" class=\"row_heading level0 row14\" >243</th>\n",
       "      <td id=\"T_6443b_row14_col0\" class=\"data row14 col0\" >0.339635</td>\n",
       "      <td id=\"T_6443b_row14_col1\" class=\"data row14 col1\" >0.001635</td>\n",
       "    </tr>\n",
       "    <tr>\n",
       "      <th id=\"T_6443b_level0_row15\" class=\"row_heading level0 row15\" >99</th>\n",
       "      <td id=\"T_6443b_row15_col0\" class=\"data row15 col0\" >0.324793</td>\n",
       "      <td id=\"T_6443b_row15_col1\" class=\"data row15 col1\" >0.001709</td>\n",
       "    </tr>\n",
       "    <tr>\n",
       "      <th id=\"T_6443b_level0_row16\" class=\"row_heading level0 row16\" >290</th>\n",
       "      <td id=\"T_6443b_row16_col0\" class=\"data row16 col0\" >0.314918</td>\n",
       "      <td id=\"T_6443b_row16_col1\" class=\"data row16 col1\" >0.001530</td>\n",
       "    </tr>\n",
       "    <tr>\n",
       "      <th id=\"T_6443b_level0_row17\" class=\"row_heading level0 row17\" >85</th>\n",
       "      <td id=\"T_6443b_row17_col0\" class=\"data row17 col0\" >0.313173</td>\n",
       "      <td id=\"T_6443b_row17_col1\" class=\"data row17 col1\" >0.001588</td>\n",
       "    </tr>\n",
       "    <tr>\n",
       "      <th id=\"T_6443b_level0_row18\" class=\"row_heading level0 row18\" >180</th>\n",
       "      <td id=\"T_6443b_row18_col0\" class=\"data row18 col0\" >0.311241</td>\n",
       "      <td id=\"T_6443b_row18_col1\" class=\"data row18 col1\" >0.001588</td>\n",
       "    </tr>\n",
       "    <tr>\n",
       "      <th id=\"T_6443b_level0_row19\" class=\"row_heading level0 row19\" >275</th>\n",
       "      <td id=\"T_6443b_row19_col0\" class=\"data row19 col0\" >0.290423</td>\n",
       "      <td id=\"T_6443b_row19_col1\" class=\"data row19 col1\" >0.001526</td>\n",
       "    </tr>\n",
       "    <tr>\n",
       "      <th id=\"T_6443b_level0_row20\" class=\"row_heading level0 row20\" >estimated confidence that user likes items</th>\n",
       "      <td id=\"T_6443b_row20_col0\" class=\"data row20 col0\" >nan</td>\n",
       "      <td id=\"T_6443b_row20_col1\" class=\"data row20 col1\" >201.000000</td>\n",
       "    </tr>\n",
       "  </tbody>\n",
       "</table>\n"
      ],
      "text/plain": [
       "<pandas.io.formats.style.Styler at 0x7f0e8d5f9ea0>"
      ]
     },
     "execution_count": 31,
     "metadata": {},
     "output_type": "execute_result"
    },
    {
     "data": {
      "application/javascript": [
       "\n",
       "            setTimeout(function() {\n",
       "                var nbb_cell_id = 31;\n",
       "                var nbb_unformatted_code = \"explain_recommendations(\\n    my_als_models[\\\"my_als\\\"].model,\\n    user_id=sparse_interface.user_ids_to_latent(\\n        validation_reviews[\\\"user_id\\\"].unique()[0]\\n    ),\\n)\";\n",
       "                var nbb_formatted_code = \"explain_recommendations(\\n    my_als_models[\\\"my_als\\\"].model,\\n    user_id=sparse_interface.user_ids_to_latent(\\n        validation_reviews[\\\"user_id\\\"].unique()[0]\\n    ),\\n)\";\n",
       "                var nbb_cells = Jupyter.notebook.get_cells();\n",
       "                for (var i = 0; i < nbb_cells.length; ++i) {\n",
       "                    if (nbb_cells[i].input_prompt_number == nbb_cell_id) {\n",
       "                        if (nbb_cells[i].get_text() == nbb_unformatted_code) {\n",
       "                             nbb_cells[i].set_text(nbb_formatted_code);\n",
       "                        }\n",
       "                        break;\n",
       "                    }\n",
       "                }\n",
       "            }, 500);\n",
       "            "
      ],
      "text/plain": [
       "<IPython.core.display.Javascript object>"
      ]
     },
     "metadata": {},
     "output_type": "display_data"
    }
   ],
   "source": [
    "explain_recommendations(\n",
    "    my_als_models[\"my_als\"].model,\n",
    "    user_id=sparse_interface.user_ids_to_latent(\n",
    "        validation_reviews[\"user_id\"].unique()[0]\n",
    "    ),\n",
    ")"
   ]
  },
  {
   "cell_type": "code",
   "execution_count": 25,
   "metadata": {
    "ExecuteTime": {
     "end_time": "2022-09-19T10:39:01.068749Z",
     "start_time": "2022-09-19T10:38:58.865358Z"
    }
   },
   "outputs": [
    {
     "data": {
      "application/javascript": [
       "\n",
       "            setTimeout(function() {\n",
       "                var nbb_cell_id = 25;\n",
       "                var nbb_unformatted_code = \"import wandb\\n\\nfrom pmf import LitProbabilityMatrixFactorization, PMFConfigDispenser, PMFTrainer\\n\\n\\nclass LitRecommender:\\n    def __init__(\\n        self,\\n        LitModule,\\n        checkpoint=None,\\n        *,\\n        ConfigDispenser=None,\\n        Trainer=None,\\n        config=None,\\n        gpu=1,\\n    ):\\n        if checkpoint:\\n            self.model = LitModule.load_from_checkpoint(checkpoint)\\n        else:\\n\\n            def main(config):\\n                trainer = Trainer(config)\\n                self.model = trainer.lightning_module\\n                trainer.main()\\n                wandb.finish()\\n\\n            config_dispenser = ConfigDispenser(main)\\n            config_dispenser.launch(config=config, gpu=gpu, debug=DEBUG)\\n\\n    def fit(self, explicit_feedback, implicit_feedback=None):\\n        pass\\n\\n    def recommend(self, user_ids):\\n        return self.model(user_ids=torch.tensor(user_ids))\";\n",
       "                var nbb_formatted_code = \"import wandb\\n\\nfrom pmf import LitProbabilityMatrixFactorization, PMFConfigDispenser, PMFTrainer\\n\\n\\nclass LitRecommender:\\n    def __init__(\\n        self,\\n        LitModule,\\n        checkpoint=None,\\n        *,\\n        ConfigDispenser=None,\\n        Trainer=None,\\n        config=None,\\n        gpu=1,\\n    ):\\n        if checkpoint:\\n            self.model = LitModule.load_from_checkpoint(checkpoint)\\n        else:\\n\\n            def main(config):\\n                trainer = Trainer(config)\\n                self.model = trainer.lightning_module\\n                trainer.main()\\n                wandb.finish()\\n\\n            config_dispenser = ConfigDispenser(main)\\n            config_dispenser.launch(config=config, gpu=gpu, debug=DEBUG)\\n\\n    def fit(self, explicit_feedback, implicit_feedback=None):\\n        pass\\n\\n    def recommend(self, user_ids):\\n        return self.model(user_ids=torch.tensor(user_ids))\";\n",
       "                var nbb_cells = Jupyter.notebook.get_cells();\n",
       "                for (var i = 0; i < nbb_cells.length; ++i) {\n",
       "                    if (nbb_cells[i].input_prompt_number == nbb_cell_id) {\n",
       "                        if (nbb_cells[i].get_text() == nbb_unformatted_code) {\n",
       "                             nbb_cells[i].set_text(nbb_formatted_code);\n",
       "                        }\n",
       "                        break;\n",
       "                    }\n",
       "                }\n",
       "            }, 500);\n",
       "            "
      ],
      "text/plain": [
       "<IPython.core.display.Javascript object>"
      ]
     },
     "metadata": {},
     "output_type": "display_data"
    }
   ],
   "source": [
    "import wandb\n",
    "\n",
    "from pmf import LitProbabilityMatrixFactorization, PMFConfigDispenser, PMFTrainer\n",
    "\n",
    "\n",
    "class LitRecommender:\n",
    "    def __init__(\n",
    "        self,\n",
    "        LitModule,\n",
    "        checkpoint=None,\n",
    "        *,\n",
    "        ConfigDispenser=None,\n",
    "        Trainer=None,\n",
    "        config=None,\n",
    "        gpu=1,\n",
    "    ):\n",
    "        if checkpoint:\n",
    "            self.model = LitModule.load_from_checkpoint(checkpoint)\n",
    "        else:\n",
    "\n",
    "            def main(config):\n",
    "                trainer = Trainer(config)\n",
    "                self.model = trainer.lightning_module\n",
    "                trainer.main()\n",
    "                wandb.finish()\n",
    "\n",
    "            config_dispenser = ConfigDispenser(main)\n",
    "            config_dispenser.launch(config=config, gpu=gpu, debug=DEBUG)\n",
    "\n",
    "    def fit(self, explicit_feedback, implicit_feedback=None):\n",
    "        pass\n",
    "\n",
    "    def recommend(self, user_ids):\n",
    "        return self.model(user_ids=torch.tensor(user_ids))"
   ]
  },
  {
   "cell_type": "code",
   "execution_count": 61,
   "metadata": {
    "ExecuteTime": {
     "end_time": "2022-09-19T10:27:38.905400Z",
     "start_time": "2022-09-19T10:27:22.683932Z"
    }
   },
   "outputs": [
    {
     "data": {
      "text/html": [
       "Waiting for W&B process to finish... <strong style=\"color:green\">(success).</strong>"
      ],
      "text/plain": [
       "<IPython.core.display.HTML object>"
      ]
     },
     "metadata": {},
     "output_type": "display_data"
    },
    {
     "data": {
      "application/vnd.jupyter.widget-view+json": {
       "model_id": "",
       "version_major": 2,
       "version_minor": 0
      },
      "text/plain": [
       "VBox(children=(Label(value='0.001 MB of 0.001 MB uploaded (0.000 MB deduped)\\r'), FloatProgress(value=1.0, max…"
      ]
     },
     "metadata": {},
     "output_type": "display_data"
    },
    {
     "data": {
      "text/html": [
       "<style>\n",
       "    table.wandb td:nth-child(1) { padding: 0 10px; text-align: left ; width: auto;} td:nth-child(2) {text-align: left ; width: 100%}\n",
       "    .wandb-row { display: flex; flex-direction: row; flex-wrap: wrap; justify-content: flex-start; width: 100% }\n",
       "    .wandb-col { display: flex; flex-direction: column; flex-basis: 100%; flex: 1; padding: 10px; }\n",
       "    </style>\n",
       "<div class=\"wandb-row\"><div class=\"wandb-col\"><h3>Run history:</h3><br/><table class=\"wandb\"><tr><td>epoch</td><td>▁▁▂▂▂▂▃▃▃▄▄▄▅▅▅▁▁▂▂▂▃▃▃▄▄▄▄▅▅▅▆▆▆▆▇▇▇██▂</td></tr><tr><td>train_loss</td><td>▅▅▄▅▄▄▄▄▄▄▄▄▄▄▄█▇█▇▆▆▄▃▃▂▂▁▂▁▁▁▁▁▁▁▁▁▁▁▁</td></tr><tr><td>trainer/global_step</td><td>▁▁▂▂▂▂▃▃▃▄▄▄▅▅▅▁▁▂▂▂▃▃▃▃▄▄▅▅▅▅▆▆▆▇▇▇▇██▂</td></tr><tr><td>val_loss</td><td>▅▅▅▅▅▅▅▅▅▅▅▅▅▅██▇▆▄▃▃▂▂▂▁▁▁▁▁▁▁▁▁▁▁▁▅▅▅▅</td></tr></table><br/></div><div class=\"wandb-col\"><h3>Run summary:</h3><br/><table class=\"wandb\"><tr><td>epoch</td><td>8</td></tr><tr><td>train_loss</td><td>0.06196</td></tr><tr><td>trainer/global_step</td><td>8</td></tr><tr><td>val_loss</td><td>0.4767</td></tr></table><br/></div></div>"
      ],
      "text/plain": [
       "<IPython.core.display.HTML object>"
      ]
     },
     "metadata": {},
     "output_type": "display_data"
    },
    {
     "data": {
      "text/html": [
       "Synced <strong style=\"color:#cdcd00\">iconic-hill-101</strong>: <a href=\"https://wandb.ai/dkoshman/recommending/runs/1aji5vy3\" target=\"_blank\">https://wandb.ai/dkoshman/recommending/runs/1aji5vy3</a><br/>Synced 5 W&B file(s), 2 media file(s), 2 artifact file(s) and 0 other file(s)"
      ],
      "text/plain": [
       "<IPython.core.display.HTML object>"
      ]
     },
     "metadata": {},
     "output_type": "display_data"
    },
    {
     "data": {
      "text/html": [
       "Find logs at: <code>local/wandb/run-20220919_101439-1aji5vy3/logs</code>"
      ],
      "text/plain": [
       "<IPython.core.display.HTML object>"
      ]
     },
     "metadata": {},
     "output_type": "display_data"
    },
    {
     "name": "stderr",
     "output_type": "stream",
     "text": [
      "GPU available: True, used: True\n",
      "TPU available: False, using: 0 TPU cores\n",
      "IPU available: False, using: 0 IPUs\n",
      "LOCAL_RANK: 0 - CUDA_VISIBLE_DEVICES: [0,1,2,3,4,5,6]\n"
     ]
    },
    {
     "data": {
      "text/html": [
       "wandb version 0.13.3 is available!  To upgrade, please run:\n",
       " $ pip install wandb --upgrade"
      ],
      "text/plain": [
       "<IPython.core.display.HTML object>"
      ]
     },
     "metadata": {},
     "output_type": "display_data"
    },
    {
     "data": {
      "text/html": [
       "Tracking run with wandb version 0.13.1"
      ],
      "text/plain": [
       "<IPython.core.display.HTML object>"
      ]
     },
     "metadata": {},
     "output_type": "display_data"
    },
    {
     "data": {
      "text/html": [
       "Run data is saved locally in <code>local/wandb/run-20220919_102727-e50noyis</code>"
      ],
      "text/plain": [
       "<IPython.core.display.HTML object>"
      ]
     },
     "metadata": {},
     "output_type": "display_data"
    },
    {
     "data": {
      "text/html": [
       "Syncing run <strong><a href=\"https://wandb.ai/dkoshman/recommending/runs/e50noyis\" target=\"_blank\">absurd-deluge-102</a></strong> to <a href=\"https://wandb.ai/dkoshman/recommending\" target=\"_blank\">Weights & Biases</a> (<a href=\"https://wandb.me/run\" target=\"_blank\">docs</a>)<br/>"
      ],
      "text/plain": [
       "<IPython.core.display.HTML object>"
      ]
     },
     "metadata": {},
     "output_type": "display_data"
    },
    {
     "name": "stderr",
     "output_type": "stream",
     "text": [
      "\n",
      "  | Name  | Type                                      | Params\n",
      "--------------------------------------------------------------------\n",
      "0 | model | ConstrainedProbabilityMatrixFactorization | 445 K \n",
      "--------------------------------------------------------------------\n",
      "445 K     Trainable params\n",
      "0         Non-trainable params\n",
      "445 K     Total params\n",
      "1.780     Total estimated model params size (MB)\n"
     ]
    },
    {
     "data": {
      "application/vnd.jupyter.widget-view+json": {
       "model_id": "",
       "version_major": 2,
       "version_minor": 0
      },
      "text/plain": [
       "Validation sanity check: 0it [00:00, ?it/s]"
      ]
     },
     "metadata": {},
     "output_type": "display_data"
    },
    {
     "name": "stderr",
     "output_type": "stream",
     "text": [
      "/external2/dkkoshman/venv3.10/lib/python3.10/site-packages/pytorch_lightning/trainer/data_loading.py:659: UserWarning: Your `val_dataloader` has `shuffle=True`, it is strongly recommended that you turn this off for val/test/predict dataloaders.\n",
      "  rank_zero_warn(\n",
      "/external2/dkkoshman/venv3.10/lib/python3.10/site-packages/pytorch_lightning/trainer/data_loading.py:432: UserWarning: The number of training samples (9) is smaller than the logging interval Trainer(log_every_n_steps=50). Set a lower value for log_every_n_steps if you want to see logs for the training epoch.\n",
      "  rank_zero_warn(\n"
     ]
    },
    {
     "data": {
      "application/vnd.jupyter.widget-view+json": {
       "model_id": "c50e9d178d134b63b6dc15dc8f4ea44d",
       "version_major": 2,
       "version_minor": 0
      },
      "text/plain": [
       "Training: 0it [00:00, ?it/s]"
      ]
     },
     "metadata": {},
     "output_type": "display_data"
    },
    {
     "data": {
      "application/vnd.jupyter.widget-view+json": {
       "model_id": "",
       "version_major": 2,
       "version_minor": 0
      },
      "text/plain": [
       "Validating: 0it [00:00, ?it/s]"
      ]
     },
     "metadata": {},
     "output_type": "display_data"
    },
    {
     "data": {
      "application/vnd.jupyter.widget-view+json": {
       "model_id": "",
       "version_major": 2,
       "version_minor": 0
      },
      "text/plain": [
       "Validating: 0it [00:00, ?it/s]"
      ]
     },
     "metadata": {},
     "output_type": "display_data"
    },
    {
     "data": {
      "application/vnd.jupyter.widget-view+json": {
       "model_id": "",
       "version_major": 2,
       "version_minor": 0
      },
      "text/plain": [
       "Validating: 0it [00:00, ?it/s]"
      ]
     },
     "metadata": {},
     "output_type": "display_data"
    },
    {
     "data": {
      "application/vnd.jupyter.widget-view+json": {
       "model_id": "",
       "version_major": 2,
       "version_minor": 0
      },
      "text/plain": [
       "Validating: 0it [00:00, ?it/s]"
      ]
     },
     "metadata": {},
     "output_type": "display_data"
    },
    {
     "data": {
      "application/vnd.jupyter.widget-view+json": {
       "model_id": "5ef4fd2c2606441fa73189134c66cb4a",
       "version_major": 2,
       "version_minor": 0
      },
      "text/plain": [
       "Recommending:   0%|          | 0/1 [00:00<?, ?it/s]"
      ]
     },
     "metadata": {},
     "output_type": "display_data"
    },
    {
     "data": {
      "application/vnd.jupyter.widget-view+json": {
       "model_id": "47d408ec572e4839b2c9d4622583dfdc",
       "version_major": 2,
       "version_minor": 0
      },
      "text/plain": [
       "Recommending:   0%|          | 0/1 [00:00<?, ?it/s]"
      ]
     },
     "metadata": {},
     "output_type": "display_data"
    },
    {
     "data": {
      "application/javascript": [
       "\n",
       "            setTimeout(function() {\n",
       "                var nbb_cell_id = 61;\n",
       "                var nbb_unformatted_code = \"pmf_models = {\\n    #     \\\"pmf_mse_loss\\\": BatchRecommender(\\n    #         sparse_interface,\\n    #         LitRecommender(\\n    #             LitProbabilityMatrixFactorization,\\n    #             ConfigDispenser=PMFConfigDispenser,\\n    #             Trainer=PMFTrainer,\\n    #             config=\\\"configs/pmf_run_mse_loss.yaml\\\",\\n    #         ),\\n    #     ),\\n    #         \\\"pmf_ranking_loss\\\": BatchRecommender(\\n    #             sparse_interface,\\n    #             LitRecommender(\\n    #                 LitProbabilityMatrixFactorization,\\n    #                 ConfigDispenser=PMFConfigDispenser,\\n    #                 Trainer=PMFTrainer,\\n    #                 config=\\\"configs/pmf_run_ranking_loss.yaml\\\",\\n    #             ),\\n    #         ),\\n    \\\"cpmf_ranking_loss\\\": BatchRecommender(\\n        sparse_interface,\\n        LitRecommender(\\n            LitProbabilityMatrixFactorization,\\n            ConfigDispenser=PMFConfigDispenser,\\n            Trainer=PMFTrainer,\\n            config=\\\"configs/cpmf_run_ranking_loss.yaml\\\",\\n        ),\\n    ),\\n}\\nassessor.assess(pmf_models)\";\n",
       "                var nbb_formatted_code = \"pmf_models = {\\n    #     \\\"pmf_mse_loss\\\": BatchRecommender(\\n    #         sparse_interface,\\n    #         LitRecommender(\\n    #             LitProbabilityMatrixFactorization,\\n    #             ConfigDispenser=PMFConfigDispenser,\\n    #             Trainer=PMFTrainer,\\n    #             config=\\\"configs/pmf_run_mse_loss.yaml\\\",\\n    #         ),\\n    #     ),\\n    #         \\\"pmf_ranking_loss\\\": BatchRecommender(\\n    #             sparse_interface,\\n    #             LitRecommender(\\n    #                 LitProbabilityMatrixFactorization,\\n    #                 ConfigDispenser=PMFConfigDispenser,\\n    #                 Trainer=PMFTrainer,\\n    #                 config=\\\"configs/pmf_run_ranking_loss.yaml\\\",\\n    #             ),\\n    #         ),\\n    \\\"cpmf_ranking_loss\\\": BatchRecommender(\\n        sparse_interface,\\n        LitRecommender(\\n            LitProbabilityMatrixFactorization,\\n            ConfigDispenser=PMFConfigDispenser,\\n            Trainer=PMFTrainer,\\n            config=\\\"configs/cpmf_run_ranking_loss.yaml\\\",\\n        ),\\n    ),\\n}\\nassessor.assess(pmf_models)\";\n",
       "                var nbb_cells = Jupyter.notebook.get_cells();\n",
       "                for (var i = 0; i < nbb_cells.length; ++i) {\n",
       "                    if (nbb_cells[i].input_prompt_number == nbb_cell_id) {\n",
       "                        if (nbb_cells[i].get_text() == nbb_unformatted_code) {\n",
       "                             nbb_cells[i].set_text(nbb_formatted_code);\n",
       "                        }\n",
       "                        break;\n",
       "                    }\n",
       "                }\n",
       "            }, 500);\n",
       "            "
      ],
      "text/plain": [
       "<IPython.core.display.Javascript object>"
      ]
     },
     "metadata": {},
     "output_type": "display_data"
    }
   ],
   "source": [
    "pmf_models = {\n",
    "    #     \"pmf_mse_loss\": BatchRecommender(\n",
    "    #         sparse_interface,\n",
    "    #         LitRecommender(\n",
    "    #             LitProbabilityMatrixFactorization,\n",
    "    #             ConfigDispenser=PMFConfigDispenser,\n",
    "    #             Trainer=PMFTrainer,\n",
    "    #             config=\"configs/pmf_run_mse_loss.yaml\",\n",
    "    #         ),\n",
    "    #     ),\n",
    "    #         \"pmf_ranking_loss\": BatchRecommender(\n",
    "    #             sparse_interface,\n",
    "    #             LitRecommender(\n",
    "    #                 LitProbabilityMatrixFactorization,\n",
    "    #                 ConfigDispenser=PMFConfigDispenser,\n",
    "    #                 Trainer=PMFTrainer,\n",
    "    #                 config=\"configs/pmf_run_ranking_loss.yaml\",\n",
    "    #             ),\n",
    "    #         ),\n",
    "    \"cpmf_ranking_loss\": BatchRecommender(\n",
    "        sparse_interface,\n",
    "        LitRecommender(\n",
    "            LitProbabilityMatrixFactorization,\n",
    "            ConfigDispenser=PMFConfigDispenser,\n",
    "            Trainer=PMFTrainer,\n",
    "            config=\"configs/cpmf_run_ranking_loss.yaml\",\n",
    "        ),\n",
    "    ),\n",
    "}\n",
    "assessor.assess(pmf_models)"
   ]
  },
  {
   "cell_type": "code",
   "execution_count": 26,
   "metadata": {
    "ExecuteTime": {
     "end_time": "2022-09-19T10:39:02.047914Z",
     "start_time": "2022-09-19T10:39:01.964061Z"
    }
   },
   "outputs": [
    {
     "data": {
      "text/html": [
       "<style type=\"text/css\">\n",
       "#T_995bd_row0_col0, #T_995bd_row0_col1, #T_995bd_row0_col4, #T_995bd_row0_col5, #T_995bd_row0_col9, #T_995bd_row1_col6, #T_995bd_row1_col7, #T_995bd_row1_col8 {\n",
       "  background-color: #8db0fe;\n",
       "  color: #000000;\n",
       "}\n",
       "#T_995bd_row0_col2, #T_995bd_row0_col3, #T_995bd_row1_col5 {\n",
       "  background-color: #f49a7b;\n",
       "  color: #000000;\n",
       "}\n",
       "#T_995bd_row0_col6, #T_995bd_row0_col7, #T_995bd_row0_col8, #T_995bd_row1_col0, #T_995bd_row1_col1, #T_995bd_row1_col4, #T_995bd_row1_col9 {\n",
       "  background-color: #f4987a;\n",
       "  color: #000000;\n",
       "}\n",
       "#T_995bd_row1_col2, #T_995bd_row1_col3 {\n",
       "  background-color: #8caffe;\n",
       "  color: #000000;\n",
       "}\n",
       "</style>\n",
       "<table id=\"T_995bd\">\n",
       "  <thead>\n",
       "    <tr>\n",
       "      <th class=\"blank level0\" >&nbsp;</th>\n",
       "      <th id=\"T_995bd_level0_col0\" class=\"col_heading level0 col0\" >train_mnap</th>\n",
       "      <th id=\"T_995bd_level0_col1\" class=\"col_heading level0 col1\" >val_mnap</th>\n",
       "      <th id=\"T_995bd_level0_col2\" class=\"col_heading level0 col2\" >train_hitrate</th>\n",
       "      <th id=\"T_995bd_level0_col3\" class=\"col_heading level0 col3\" >val_hitrate</th>\n",
       "      <th id=\"T_995bd_level0_col4\" class=\"col_heading level0 col4\" >train_mrr</th>\n",
       "      <th id=\"T_995bd_level0_col5\" class=\"col_heading level0 col5\" >val_mrr</th>\n",
       "      <th id=\"T_995bd_level0_col6\" class=\"col_heading level0 col6\" >train_coverage</th>\n",
       "      <th id=\"T_995bd_level0_col7\" class=\"col_heading level0 col7\" >val_coverage</th>\n",
       "      <th id=\"T_995bd_level0_col8\" class=\"col_heading level0 col8\" >train_surprisal</th>\n",
       "      <th id=\"T_995bd_level0_col9\" class=\"col_heading level0 col9\" >val_surprisal</th>\n",
       "    </tr>\n",
       "  </thead>\n",
       "  <tbody>\n",
       "    <tr>\n",
       "      <th id=\"T_995bd_level0_row0\" class=\"row_heading level0 row0\" >random</th>\n",
       "      <td id=\"T_995bd_row0_col0\" class=\"data row0 col0\" >0.032909</td>\n",
       "      <td id=\"T_995bd_row0_col1\" class=\"data row0 col1\" >0.027927</td>\n",
       "      <td id=\"T_995bd_row0_col2\" class=\"data row0 col2\" >0.133627</td>\n",
       "      <td id=\"T_995bd_row0_col3\" class=\"data row0 col3\" >0.098266</td>\n",
       "      <td id=\"T_995bd_row0_col4\" class=\"data row0 col4\" >0.021530</td>\n",
       "      <td id=\"T_995bd_row0_col5\" class=\"data row0 col5\" >0.018505</td>\n",
       "      <td id=\"T_995bd_row0_col6\" class=\"data row0 col6\" >1.000000</td>\n",
       "      <td id=\"T_995bd_row0_col7\" class=\"data row0 col7\" >0.906977</td>\n",
       "      <td id=\"T_995bd_row0_col8\" class=\"data row0 col8\" >0.814839</td>\n",
       "      <td id=\"T_995bd_row0_col9\" class=\"data row0 col9\" >0.501585</td>\n",
       "    </tr>\n",
       "    <tr>\n",
       "      <th id=\"T_995bd_level0_row1\" class=\"row_heading level0 row1\" >popular</th>\n",
       "      <td id=\"T_995bd_row1_col0\" class=\"data row1 col0\" >0.059019</td>\n",
       "      <td id=\"T_995bd_row1_col1\" class=\"data row1 col1\" >0.073702</td>\n",
       "      <td id=\"T_995bd_row1_col2\" class=\"data row1 col2\" >0.077827</td>\n",
       "      <td id=\"T_995bd_row1_col3\" class=\"data row1 col3\" >0.089595</td>\n",
       "      <td id=\"T_995bd_row1_col4\" class=\"data row1 col4\" >0.057450</td>\n",
       "      <td id=\"T_995bd_row1_col5\" class=\"data row1 col5\" >0.071810</td>\n",
       "      <td id=\"T_995bd_row1_col6\" class=\"data row1 col6\" >0.284672</td>\n",
       "      <td id=\"T_995bd_row1_col7\" class=\"data row1 col7\" >0.395349</td>\n",
       "      <td id=\"T_995bd_row1_col8\" class=\"data row1 col8\" >0.664661</td>\n",
       "      <td id=\"T_995bd_row1_col9\" class=\"data row1 col9\" >0.654923</td>\n",
       "    </tr>\n",
       "  </tbody>\n",
       "</table>\n"
      ],
      "text/plain": [
       "<pandas.io.formats.style.Styler at 0x7f0f29de73d0>"
      ]
     },
     "execution_count": 26,
     "metadata": {},
     "output_type": "execute_result"
    },
    {
     "data": {
      "application/javascript": [
       "\n",
       "            setTimeout(function() {\n",
       "                var nbb_cell_id = 26;\n",
       "                var nbb_unformatted_code = \"assessor.show_metrics(kind=\\\"table\\\")\";\n",
       "                var nbb_formatted_code = \"assessor.show_metrics(kind=\\\"table\\\")\";\n",
       "                var nbb_cells = Jupyter.notebook.get_cells();\n",
       "                for (var i = 0; i < nbb_cells.length; ++i) {\n",
       "                    if (nbb_cells[i].input_prompt_number == nbb_cell_id) {\n",
       "                        if (nbb_cells[i].get_text() == nbb_unformatted_code) {\n",
       "                             nbb_cells[i].set_text(nbb_formatted_code);\n",
       "                        }\n",
       "                        break;\n",
       "                    }\n",
       "                }\n",
       "            }, 500);\n",
       "            "
      ],
      "text/plain": [
       "<IPython.core.display.Javascript object>"
      ]
     },
     "metadata": {},
     "output_type": "display_data"
    }
   ],
   "source": [
    "assessor.show_metrics(kind=\"table\")"
   ]
  },
  {
   "cell_type": "code",
   "execution_count": 30,
   "metadata": {
    "ExecuteTime": {
     "end_time": "2022-09-19T10:42:18.050830Z",
     "start_time": "2022-09-19T10:42:03.305533Z"
    },
    "collapsed": true
   },
   "outputs": [
    {
     "name": "stderr",
     "output_type": "stream",
     "text": [
      "GPU available: True, used: True\n",
      "TPU available: False, using: 0 TPU cores\n",
      "IPU available: False, using: 0 IPUs\n",
      "LOCAL_RANK: 0 - CUDA_VISIBLE_DEVICES: [0,1,2,3,4,5,6]\n"
     ]
    },
    {
     "data": {
      "text/html": [
       "wandb version 0.13.3 is available!  To upgrade, please run:\n",
       " $ pip install wandb --upgrade"
      ],
      "text/plain": [
       "<IPython.core.display.HTML object>"
      ]
     },
     "metadata": {},
     "output_type": "display_data"
    },
    {
     "data": {
      "text/html": [
       "Tracking run with wandb version 0.13.1"
      ],
      "text/plain": [
       "<IPython.core.display.HTML object>"
      ]
     },
     "metadata": {},
     "output_type": "display_data"
    },
    {
     "data": {
      "text/html": [
       "Run data is saved locally in <code>local/wandb/run-20220919_104203-77dxrmek</code>"
      ],
      "text/plain": [
       "<IPython.core.display.HTML object>"
      ]
     },
     "metadata": {},
     "output_type": "display_data"
    },
    {
     "data": {
      "text/html": [
       "Syncing run <strong><a href=\"https://wandb.ai/dkoshman/recommending/runs/77dxrmek\" target=\"_blank\">copper-smoke-105</a></strong> to <a href=\"https://wandb.ai/dkoshman/recommending\" target=\"_blank\">Weights & Biases</a> (<a href=\"https://wandb.me/run\" target=\"_blank\">docs</a>)<br/>"
      ],
      "text/plain": [
       "<IPython.core.display.HTML object>"
      ]
     },
     "metadata": {},
     "output_type": "display_data"
    },
    {
     "data": {
      "application/vnd.jupyter.widget-view+json": {
       "model_id": "48848fe1558749d2848e87597b700baa",
       "version_major": 2,
       "version_minor": 0
      },
      "text/plain": [
       "Training: 0it [00:00, ?it/s]"
      ]
     },
     "metadata": {},
     "output_type": "display_data"
    },
    {
     "data": {
      "application/vnd.jupyter.widget-view+json": {
       "model_id": "",
       "version_major": 2,
       "version_minor": 0
      },
      "text/plain": [
       "Validating: 0it [00:00, ?it/s]"
      ]
     },
     "metadata": {},
     "output_type": "display_data"
    },
    {
     "data": {
      "application/vnd.jupyter.widget-view+json": {
       "model_id": "",
       "version_major": 2,
       "version_minor": 0
      },
      "text/plain": [
       "Validating: 0it [00:00, ?it/s]"
      ]
     },
     "metadata": {},
     "output_type": "display_data"
    },
    {
     "data": {
      "application/vnd.jupyter.widget-view+json": {
       "model_id": "",
       "version_major": 2,
       "version_minor": 0
      },
      "text/plain": [
       "Validating: 0it [00:00, ?it/s]"
      ]
     },
     "metadata": {},
     "output_type": "display_data"
    },
    {
     "data": {
      "application/vnd.jupyter.widget-view+json": {
       "model_id": "",
       "version_major": 2,
       "version_minor": 0
      },
      "text/plain": [
       "Validating: 0it [00:00, ?it/s]"
      ]
     },
     "metadata": {},
     "output_type": "display_data"
    },
    {
     "data": {
      "application/vnd.jupyter.widget-view+json": {
       "model_id": "",
       "version_major": 2,
       "version_minor": 0
      },
      "text/plain": [
       "Validating: 0it [00:00, ?it/s]"
      ]
     },
     "metadata": {},
     "output_type": "display_data"
    },
    {
     "data": {
      "application/vnd.jupyter.widget-view+json": {
       "model_id": "",
       "version_major": 2,
       "version_minor": 0
      },
      "text/plain": [
       "Validating: 0it [00:00, ?it/s]"
      ]
     },
     "metadata": {},
     "output_type": "display_data"
    },
    {
     "data": {
      "application/vnd.jupyter.widget-view+json": {
       "model_id": "",
       "version_major": 2,
       "version_minor": 0
      },
      "text/plain": [
       "Validating: 0it [00:00, ?it/s]"
      ]
     },
     "metadata": {},
     "output_type": "display_data"
    },
    {
     "data": {
      "application/vnd.jupyter.widget-view+json": {
       "model_id": "",
       "version_major": 2,
       "version_minor": 0
      },
      "text/plain": [
       "Validating: 0it [00:00, ?it/s]"
      ]
     },
     "metadata": {},
     "output_type": "display_data"
    },
    {
     "data": {
      "application/vnd.jupyter.widget-view+json": {
       "model_id": "",
       "version_major": 2,
       "version_minor": 0
      },
      "text/plain": [
       "Validating: 0it [00:00, ?it/s]"
      ]
     },
     "metadata": {},
     "output_type": "display_data"
    },
    {
     "data": {
      "application/vnd.jupyter.widget-view+json": {
       "model_id": "",
       "version_major": 2,
       "version_minor": 0
      },
      "text/plain": [
       "Validating: 0it [00:00, ?it/s]"
      ]
     },
     "metadata": {},
     "output_type": "display_data"
    },
    {
     "data": {
      "application/vnd.jupyter.widget-view+json": {
       "model_id": "",
       "version_major": 2,
       "version_minor": 0
      },
      "text/plain": [
       "Validating: 0it [00:00, ?it/s]"
      ]
     },
     "metadata": {},
     "output_type": "display_data"
    },
    {
     "data": {
      "application/vnd.jupyter.widget-view+json": {
       "model_id": "",
       "version_major": 2,
       "version_minor": 0
      },
      "text/plain": [
       "Validating: 0it [00:00, ?it/s]"
      ]
     },
     "metadata": {},
     "output_type": "display_data"
    },
    {
     "data": {
      "application/vnd.jupyter.widget-view+json": {
       "model_id": "",
       "version_major": 2,
       "version_minor": 0
      },
      "text/plain": [
       "Validating: 0it [00:00, ?it/s]"
      ]
     },
     "metadata": {},
     "output_type": "display_data"
    },
    {
     "data": {
      "application/vnd.jupyter.widget-view+json": {
       "model_id": "",
       "version_major": 2,
       "version_minor": 0
      },
      "text/plain": [
       "Validating: 0it [00:00, ?it/s]"
      ]
     },
     "metadata": {},
     "output_type": "display_data"
    },
    {
     "data": {
      "application/vnd.jupyter.widget-view+json": {
       "model_id": "",
       "version_major": 2,
       "version_minor": 0
      },
      "text/plain": [
       "Validating: 0it [00:00, ?it/s]"
      ]
     },
     "metadata": {},
     "output_type": "display_data"
    },
    {
     "data": {
      "application/vnd.jupyter.widget-view+json": {
       "model_id": "",
       "version_major": 2,
       "version_minor": 0
      },
      "text/plain": [
       "Validating: 0it [00:00, ?it/s]"
      ]
     },
     "metadata": {},
     "output_type": "display_data"
    },
    {
     "data": {
      "application/vnd.jupyter.widget-view+json": {
       "model_id": "",
       "version_major": 2,
       "version_minor": 0
      },
      "text/plain": [
       "Validating: 0it [00:00, ?it/s]"
      ]
     },
     "metadata": {},
     "output_type": "display_data"
    },
    {
     "data": {
      "application/vnd.jupyter.widget-view+json": {
       "model_id": "",
       "version_major": 2,
       "version_minor": 0
      },
      "text/plain": [
       "Validating: 0it [00:00, ?it/s]"
      ]
     },
     "metadata": {},
     "output_type": "display_data"
    },
    {
     "data": {
      "application/vnd.jupyter.widget-view+json": {
       "model_id": "",
       "version_major": 2,
       "version_minor": 0
      },
      "text/plain": [
       "Validating: 0it [00:00, ?it/s]"
      ]
     },
     "metadata": {},
     "output_type": "display_data"
    },
    {
     "data": {
      "application/vnd.jupyter.widget-view+json": {
       "model_id": "",
       "version_major": 2,
       "version_minor": 0
      },
      "text/plain": [
       "Validating: 0it [00:00, ?it/s]"
      ]
     },
     "metadata": {},
     "output_type": "display_data"
    },
    {
     "data": {
      "application/vnd.jupyter.widget-view+json": {
       "model_id": "",
       "version_major": 2,
       "version_minor": 0
      },
      "text/plain": [
       "Validating: 0it [00:00, ?it/s]"
      ]
     },
     "metadata": {},
     "output_type": "display_data"
    },
    {
     "data": {
      "application/vnd.jupyter.widget-view+json": {
       "model_id": "",
       "version_major": 2,
       "version_minor": 0
      },
      "text/plain": [
       "Validating: 0it [00:00, ?it/s]"
      ]
     },
     "metadata": {},
     "output_type": "display_data"
    },
    {
     "data": {
      "application/vnd.jupyter.widget-view+json": {
       "model_id": "",
       "version_major": 2,
       "version_minor": 0
      },
      "text/plain": [
       "Validating: 0it [00:00, ?it/s]"
      ]
     },
     "metadata": {},
     "output_type": "display_data"
    },
    {
     "data": {
      "application/vnd.jupyter.widget-view+json": {
       "model_id": "",
       "version_major": 2,
       "version_minor": 0
      },
      "text/plain": [
       "Validating: 0it [00:00, ?it/s]"
      ]
     },
     "metadata": {},
     "output_type": "display_data"
    },
    {
     "data": {
      "application/vnd.jupyter.widget-view+json": {
       "model_id": "",
       "version_major": 2,
       "version_minor": 0
      },
      "text/plain": [
       "Validating: 0it [00:00, ?it/s]"
      ]
     },
     "metadata": {},
     "output_type": "display_data"
    },
    {
     "data": {
      "application/vnd.jupyter.widget-view+json": {
       "model_id": "",
       "version_major": 2,
       "version_minor": 0
      },
      "text/plain": [
       "Validating: 0it [00:00, ?it/s]"
      ]
     },
     "metadata": {},
     "output_type": "display_data"
    },
    {
     "data": {
      "application/vnd.jupyter.widget-view+json": {
       "model_id": "",
       "version_major": 2,
       "version_minor": 0
      },
      "text/plain": [
       "Validating: 0it [00:00, ?it/s]"
      ]
     },
     "metadata": {},
     "output_type": "display_data"
    },
    {
     "data": {
      "application/vnd.jupyter.widget-view+json": {
       "model_id": "",
       "version_major": 2,
       "version_minor": 0
      },
      "text/plain": [
       "Validating: 0it [00:00, ?it/s]"
      ]
     },
     "metadata": {},
     "output_type": "display_data"
    },
    {
     "data": {
      "application/vnd.jupyter.widget-view+json": {
       "model_id": "",
       "version_major": 2,
       "version_minor": 0
      },
      "text/plain": [
       "Validating: 0it [00:00, ?it/s]"
      ]
     },
     "metadata": {},
     "output_type": "display_data"
    },
    {
     "data": {
      "application/vnd.jupyter.widget-view+json": {
       "model_id": "",
       "version_major": 2,
       "version_minor": 0
      },
      "text/plain": [
       "Validating: 0it [00:00, ?it/s]"
      ]
     },
     "metadata": {},
     "output_type": "display_data"
    },
    {
     "data": {
      "application/vnd.jupyter.widget-view+json": {
       "model_id": "",
       "version_major": 2,
       "version_minor": 0
      },
      "text/plain": [
       "Validating: 0it [00:00, ?it/s]"
      ]
     },
     "metadata": {},
     "output_type": "display_data"
    },
    {
     "data": {
      "application/vnd.jupyter.widget-view+json": {
       "model_id": "",
       "version_major": 2,
       "version_minor": 0
      },
      "text/plain": [
       "Validating: 0it [00:00, ?it/s]"
      ]
     },
     "metadata": {},
     "output_type": "display_data"
    },
    {
     "data": {
      "application/vnd.jupyter.widget-view+json": {
       "model_id": "",
       "version_major": 2,
       "version_minor": 0
      },
      "text/plain": [
       "Validating: 0it [00:00, ?it/s]"
      ]
     },
     "metadata": {},
     "output_type": "display_data"
    },
    {
     "data": {
      "application/vnd.jupyter.widget-view+json": {
       "model_id": "",
       "version_major": 2,
       "version_minor": 0
      },
      "text/plain": [
       "Validating: 0it [00:00, ?it/s]"
      ]
     },
     "metadata": {},
     "output_type": "display_data"
    },
    {
     "data": {
      "application/vnd.jupyter.widget-view+json": {
       "model_id": "",
       "version_major": 2,
       "version_minor": 0
      },
      "text/plain": [
       "Validating: 0it [00:00, ?it/s]"
      ]
     },
     "metadata": {},
     "output_type": "display_data"
    },
    {
     "data": {
      "application/vnd.jupyter.widget-view+json": {
       "model_id": "",
       "version_major": 2,
       "version_minor": 0
      },
      "text/plain": [
       "Validating: 0it [00:00, ?it/s]"
      ]
     },
     "metadata": {},
     "output_type": "display_data"
    },
    {
     "data": {
      "application/vnd.jupyter.widget-view+json": {
       "model_id": "",
       "version_major": 2,
       "version_minor": 0
      },
      "text/plain": [
       "Validating: 0it [00:00, ?it/s]"
      ]
     },
     "metadata": {},
     "output_type": "display_data"
    },
    {
     "data": {
      "application/vnd.jupyter.widget-view+json": {
       "model_id": "",
       "version_major": 2,
       "version_minor": 0
      },
      "text/plain": [
       "Validating: 0it [00:00, ?it/s]"
      ]
     },
     "metadata": {},
     "output_type": "display_data"
    },
    {
     "data": {
      "application/vnd.jupyter.widget-view+json": {
       "model_id": "",
       "version_major": 2,
       "version_minor": 0
      },
      "text/plain": [
       "Validating: 0it [00:00, ?it/s]"
      ]
     },
     "metadata": {},
     "output_type": "display_data"
    },
    {
     "data": {
      "application/vnd.jupyter.widget-view+json": {
       "model_id": "",
       "version_major": 2,
       "version_minor": 0
      },
      "text/plain": [
       "Validating: 0it [00:00, ?it/s]"
      ]
     },
     "metadata": {},
     "output_type": "display_data"
    },
    {
     "data": {
      "application/vnd.jupyter.widget-view+json": {
       "model_id": "",
       "version_major": 2,
       "version_minor": 0
      },
      "text/plain": [
       "Validating: 0it [00:00, ?it/s]"
      ]
     },
     "metadata": {},
     "output_type": "display_data"
    },
    {
     "data": {
      "application/vnd.jupyter.widget-view+json": {
       "model_id": "",
       "version_major": 2,
       "version_minor": 0
      },
      "text/plain": [
       "Validating: 0it [00:00, ?it/s]"
      ]
     },
     "metadata": {},
     "output_type": "display_data"
    },
    {
     "data": {
      "application/vnd.jupyter.widget-view+json": {
       "model_id": "",
       "version_major": 2,
       "version_minor": 0
      },
      "text/plain": [
       "Validating: 0it [00:00, ?it/s]"
      ]
     },
     "metadata": {},
     "output_type": "display_data"
    },
    {
     "data": {
      "application/vnd.jupyter.widget-view+json": {
       "model_id": "",
       "version_major": 2,
       "version_minor": 0
      },
      "text/plain": [
       "Validating: 0it [00:00, ?it/s]"
      ]
     },
     "metadata": {},
     "output_type": "display_data"
    },
    {
     "data": {
      "application/vnd.jupyter.widget-view+json": {
       "model_id": "",
       "version_major": 2,
       "version_minor": 0
      },
      "text/plain": [
       "Validating: 0it [00:00, ?it/s]"
      ]
     },
     "metadata": {},
     "output_type": "display_data"
    },
    {
     "data": {
      "application/vnd.jupyter.widget-view+json": {
       "model_id": "",
       "version_major": 2,
       "version_minor": 0
      },
      "text/plain": [
       "Validating: 0it [00:00, ?it/s]"
      ]
     },
     "metadata": {},
     "output_type": "display_data"
    },
    {
     "data": {
      "application/vnd.jupyter.widget-view+json": {
       "model_id": "",
       "version_major": 2,
       "version_minor": 0
      },
      "text/plain": [
       "Validating: 0it [00:00, ?it/s]"
      ]
     },
     "metadata": {},
     "output_type": "display_data"
    },
    {
     "data": {
      "application/vnd.jupyter.widget-view+json": {
       "model_id": "",
       "version_major": 2,
       "version_minor": 0
      },
      "text/plain": [
       "Validating: 0it [00:00, ?it/s]"
      ]
     },
     "metadata": {},
     "output_type": "display_data"
    },
    {
     "data": {
      "application/vnd.jupyter.widget-view+json": {
       "model_id": "",
       "version_major": 2,
       "version_minor": 0
      },
      "text/plain": [
       "Validating: 0it [00:00, ?it/s]"
      ]
     },
     "metadata": {},
     "output_type": "display_data"
    },
    {
     "data": {
      "application/vnd.jupyter.widget-view+json": {
       "model_id": "",
       "version_major": 2,
       "version_minor": 0
      },
      "text/plain": [
       "Validating: 0it [00:00, ?it/s]"
      ]
     },
     "metadata": {},
     "output_type": "display_data"
    },
    {
     "data": {
      "application/vnd.jupyter.widget-view+json": {
       "model_id": "",
       "version_major": 2,
       "version_minor": 0
      },
      "text/plain": [
       "Validating: 0it [00:00, ?it/s]"
      ]
     },
     "metadata": {},
     "output_type": "display_data"
    },
    {
     "data": {
      "application/vnd.jupyter.widget-view+json": {
       "model_id": "",
       "version_major": 2,
       "version_minor": 0
      },
      "text/plain": [
       "Validating: 0it [00:00, ?it/s]"
      ]
     },
     "metadata": {},
     "output_type": "display_data"
    },
    {
     "data": {
      "application/vnd.jupyter.widget-view+json": {
       "model_id": "",
       "version_major": 2,
       "version_minor": 0
      },
      "text/plain": [
       "Validating: 0it [00:00, ?it/s]"
      ]
     },
     "metadata": {},
     "output_type": "display_data"
    },
    {
     "data": {
      "application/vnd.jupyter.widget-view+json": {
       "model_id": "",
       "version_major": 2,
       "version_minor": 0
      },
      "text/plain": [
       "Validating: 0it [00:00, ?it/s]"
      ]
     },
     "metadata": {},
     "output_type": "display_data"
    },
    {
     "data": {
      "application/vnd.jupyter.widget-view+json": {
       "model_id": "",
       "version_major": 2,
       "version_minor": 0
      },
      "text/plain": [
       "Validating: 0it [00:00, ?it/s]"
      ]
     },
     "metadata": {},
     "output_type": "display_data"
    },
    {
     "data": {
      "application/vnd.jupyter.widget-view+json": {
       "model_id": "",
       "version_major": 2,
       "version_minor": 0
      },
      "text/plain": [
       "Validating: 0it [00:00, ?it/s]"
      ]
     },
     "metadata": {},
     "output_type": "display_data"
    },
    {
     "data": {
      "application/vnd.jupyter.widget-view+json": {
       "model_id": "",
       "version_major": 2,
       "version_minor": 0
      },
      "text/plain": [
       "Validating: 0it [00:00, ?it/s]"
      ]
     },
     "metadata": {},
     "output_type": "display_data"
    },
    {
     "data": {
      "application/vnd.jupyter.widget-view+json": {
       "model_id": "",
       "version_major": 2,
       "version_minor": 0
      },
      "text/plain": [
       "Validating: 0it [00:00, ?it/s]"
      ]
     },
     "metadata": {},
     "output_type": "display_data"
    },
    {
     "data": {
      "application/vnd.jupyter.widget-view+json": {
       "model_id": "",
       "version_major": 2,
       "version_minor": 0
      },
      "text/plain": [
       "Validating: 0it [00:00, ?it/s]"
      ]
     },
     "metadata": {},
     "output_type": "display_data"
    },
    {
     "data": {
      "application/vnd.jupyter.widget-view+json": {
       "model_id": "",
       "version_major": 2,
       "version_minor": 0
      },
      "text/plain": [
       "Validating: 0it [00:00, ?it/s]"
      ]
     },
     "metadata": {},
     "output_type": "display_data"
    },
    {
     "data": {
      "application/vnd.jupyter.widget-view+json": {
       "model_id": "",
       "version_major": 2,
       "version_minor": 0
      },
      "text/plain": [
       "Validating: 0it [00:00, ?it/s]"
      ]
     },
     "metadata": {},
     "output_type": "display_data"
    },
    {
     "data": {
      "application/vnd.jupyter.widget-view+json": {
       "model_id": "",
       "version_major": 2,
       "version_minor": 0
      },
      "text/plain": [
       "Validating: 0it [00:00, ?it/s]"
      ]
     },
     "metadata": {},
     "output_type": "display_data"
    },
    {
     "data": {
      "application/vnd.jupyter.widget-view+json": {
       "model_id": "",
       "version_major": 2,
       "version_minor": 0
      },
      "text/plain": [
       "Validating: 0it [00:00, ?it/s]"
      ]
     },
     "metadata": {},
     "output_type": "display_data"
    },
    {
     "data": {
      "application/vnd.jupyter.widget-view+json": {
       "model_id": "",
       "version_major": 2,
       "version_minor": 0
      },
      "text/plain": [
       "Validating: 0it [00:00, ?it/s]"
      ]
     },
     "metadata": {},
     "output_type": "display_data"
    },
    {
     "data": {
      "text/html": [
       "Waiting for W&B process to finish... <strong style=\"color:green\">(success).</strong>"
      ],
      "text/plain": [
       "<IPython.core.display.HTML object>"
      ]
     },
     "metadata": {},
     "output_type": "display_data"
    },
    {
     "data": {
      "application/vnd.jupyter.widget-view+json": {
       "model_id": "",
       "version_major": 2,
       "version_minor": 0
      },
      "text/plain": [
       "VBox(children=(Label(value='0.001 MB of 0.001 MB uploaded (0.000 MB deduped)\\r'), FloatProgress(value=0.914485…"
      ]
     },
     "metadata": {},
     "output_type": "display_data"
    },
    {
     "data": {
      "text/html": [
       "<style>\n",
       "    table.wandb td:nth-child(1) { padding: 0 10px; text-align: left ; width: auto;} td:nth-child(2) {text-align: left ; width: 100%}\n",
       "    .wandb-row { display: flex; flex-direction: row; flex-wrap: wrap; justify-content: flex-start; width: 100% }\n",
       "    .wandb-col { display: flex; flex-direction: column; flex-basis: 100%; flex: 1; padding: 10px; }\n",
       "    </style>\n",
       "<div class=\"wandb-row\"><div class=\"wandb-col\"><h3>Run history:</h3><br/><table class=\"wandb\"><tr><td>density</td><td>█▁▃</td></tr><tr><td>epoch</td><td>▁▁▁▁▁▁▁▁▁▁▁▁▁▅▅▅▅▅▅▅▅▅▅▅▅▅██████████████</td></tr><tr><td>train_loss</td><td>█▇▆▅▅▅▄▄▄▄▄▄▄▆▅▄▄▃▃▃▂▂▂▂▂▂▇▅▄▃▂▂▂▁▁▁▁▁▁▁</td></tr><tr><td>trainer/global_step</td><td>▁▁▁▁▂▂▂▂▂▃▃▃▃▃▃▄▄▄▄▄▅▅▅▅▅▅▆▆▆▆▆▇▇▇▇▇▇███</td></tr><tr><td>val_loss</td><td>█▇▆▅▄▄▃▃▃▃▃▃▃▆▆▄▄▃▃▂▂▂▂▂▂▂▇▆▄▄▃▂▂▁▁▁▁▁▁▁</td></tr></table><br/></div><div class=\"wandb-col\"><h3>Run summary:</h3><br/><table class=\"wandb\"><tr><td>density</td><td>0.00495</td></tr><tr><td>epoch</td><td>2</td></tr><tr><td>train_loss</td><td>0.02704</td></tr><tr><td>trainer/global_step</td><td>639</td></tr><tr><td>val_loss</td><td>0.01952</td></tr></table><br/></div></div>"
      ],
      "text/plain": [
       "<IPython.core.display.HTML object>"
      ]
     },
     "metadata": {},
     "output_type": "display_data"
    },
    {
     "data": {
      "text/html": [
       "Synced <strong style=\"color:#cdcd00\">copper-smoke-105</strong>: <a href=\"https://wandb.ai/dkoshman/recommending/runs/77dxrmek\" target=\"_blank\">https://wandb.ai/dkoshman/recommending/runs/77dxrmek</a><br/>Synced 4 W&B file(s), 1 media file(s), 1 artifact file(s) and 0 other file(s)"
      ],
      "text/plain": [
       "<IPython.core.display.HTML object>"
      ]
     },
     "metadata": {},
     "output_type": "display_data"
    },
    {
     "data": {
      "text/html": [
       "Find logs at: <code>local/wandb/run-20220919_104203-77dxrmek/logs</code>"
      ],
      "text/plain": [
       "<IPython.core.display.HTML object>"
      ]
     },
     "metadata": {},
     "output_type": "display_data"
    },
    {
     "data": {
      "application/vnd.jupyter.widget-view+json": {
       "model_id": "ffde9eea6b514a77bb4f52a09751ec6f",
       "version_major": 2,
       "version_minor": 0
      },
      "text/plain": [
       "Recommending:   0%|          | 0/1 [00:00<?, ?it/s]"
      ]
     },
     "metadata": {},
     "output_type": "display_data"
    },
    {
     "data": {
      "application/vnd.jupyter.widget-view+json": {
       "model_id": "d8bbcbc2cd6c4fdfb9bcf0fedeebdf9b",
       "version_major": 2,
       "version_minor": 0
      },
      "text/plain": [
       "Recommending:   0%|          | 0/1 [00:00<?, ?it/s]"
      ]
     },
     "metadata": {},
     "output_type": "display_data"
    },
    {
     "data": {
      "application/javascript": [
       "\n",
       "            setTimeout(function() {\n",
       "                var nbb_cell_id = 30;\n",
       "                var nbb_unformatted_code = \"from slim import LitSLIM, RecommendingConfigDispenser, SLIMTrainer\\n\\nclass LitSLIMRecommender(LitRecommender):\\n    def recommend(self, user_ids):\\n        return super().recommend(user_ids).to_dense()\\n    \\nslim_models = {\\n    \\\"slim\\\": BatchRecommender(\\n        sparse_interface,\\n        LitSLIMRecommender(\\n            LitSLIM,\\n            ConfigDispenser=RecommendingConfigDispenser,\\n            Trainer=SLIMTrainer,\\n            config=\\\"configs/slim_run.yaml\\\",\\n        ),\\n    ),\\n}\\nassessor.assess(slim_models)\";\n",
       "                var nbb_formatted_code = \"from slim import LitSLIM, RecommendingConfigDispenser, SLIMTrainer\\n\\n\\nclass LitSLIMRecommender(LitRecommender):\\n    def recommend(self, user_ids):\\n        return super().recommend(user_ids).to_dense()\\n\\n\\nslim_models = {\\n    \\\"slim\\\": BatchRecommender(\\n        sparse_interface,\\n        LitSLIMRecommender(\\n            LitSLIM,\\n            ConfigDispenser=RecommendingConfigDispenser,\\n            Trainer=SLIMTrainer,\\n            config=\\\"configs/slim_run.yaml\\\",\\n        ),\\n    ),\\n}\\nassessor.assess(slim_models)\";\n",
       "                var nbb_cells = Jupyter.notebook.get_cells();\n",
       "                for (var i = 0; i < nbb_cells.length; ++i) {\n",
       "                    if (nbb_cells[i].input_prompt_number == nbb_cell_id) {\n",
       "                        if (nbb_cells[i].get_text() == nbb_unformatted_code) {\n",
       "                             nbb_cells[i].set_text(nbb_formatted_code);\n",
       "                        }\n",
       "                        break;\n",
       "                    }\n",
       "                }\n",
       "            }, 500);\n",
       "            "
      ],
      "text/plain": [
       "<IPython.core.display.Javascript object>"
      ]
     },
     "metadata": {},
     "output_type": "display_data"
    }
   ],
   "source": [
    "from slim import LitSLIM, RecommendingConfigDispenser, SLIMTrainer\n",
    "\n",
    "class LitSLIMRecommender(LitRecommender):\n",
    "    def recommend(self, user_ids):\n",
    "        return super().recommend(user_ids).to_dense()\n",
    "    \n",
    "slim_models = {\n",
    "    \"slim\": BatchRecommender(\n",
    "        sparse_interface,\n",
    "        LitSLIMRecommender(\n",
    "            LitSLIM,\n",
    "            ConfigDispenser=RecommendingConfigDispenser,\n",
    "            Trainer=SLIMTrainer,\n",
    "            config=\"configs/slim_run.yaml\",\n",
    "        ),\n",
    "    ),\n",
    "}\n",
    "assessor.assess(slim_models)"
   ]
  },
  {
   "cell_type": "code",
   "execution_count": 31,
   "metadata": {
    "ExecuteTime": {
     "end_time": "2022-09-19T10:42:18.093817Z",
     "start_time": "2022-09-19T10:42:18.055278Z"
    }
   },
   "outputs": [
    {
     "data": {
      "text/html": [
       "<style type=\"text/css\">\n",
       "#T_13908_row0_col0, #T_13908_row0_col1, #T_13908_row0_col4, #T_13908_row0_col5, #T_13908_row1_col2, #T_13908_row1_col6, #T_13908_row1_col7, #T_13908_row2_col8, #T_13908_row2_col9 {\n",
       "  background-color: #8db0fe;\n",
       "  color: #000000;\n",
       "}\n",
       "#T_13908_row0_col2 {\n",
       "  background-color: #f7af91;\n",
       "  color: #000000;\n",
       "}\n",
       "#T_13908_row0_col3 {\n",
       "  background-color: #abc8fd;\n",
       "  color: #000000;\n",
       "}\n",
       "#T_13908_row0_col6, #T_13908_row0_col7, #T_13908_row1_col9, #T_13908_row2_col0, #T_13908_row2_col1, #T_13908_row2_col2, #T_13908_row2_col4 {\n",
       "  background-color: #f4987a;\n",
       "  color: #000000;\n",
       "}\n",
       "#T_13908_row0_col8, #T_13908_row2_col3, #T_13908_row2_col5 {\n",
       "  background-color: #f49a7b;\n",
       "  color: #000000;\n",
       "}\n",
       "#T_13908_row0_col9 {\n",
       "  background-color: #e7d7ce;\n",
       "  color: #000000;\n",
       "}\n",
       "#T_13908_row1_col0 {\n",
       "  background-color: #d6dce4;\n",
       "  color: #000000;\n",
       "}\n",
       "#T_13908_row1_col1 {\n",
       "  background-color: #f2cab5;\n",
       "  color: #000000;\n",
       "}\n",
       "#T_13908_row1_col3 {\n",
       "  background-color: #8caffe;\n",
       "  color: #000000;\n",
       "}\n",
       "#T_13908_row1_col4 {\n",
       "  background-color: #ead5c9;\n",
       "  color: #000000;\n",
       "}\n",
       "#T_13908_row1_col5 {\n",
       "  background-color: #f7ad90;\n",
       "  color: #000000;\n",
       "}\n",
       "#T_13908_row1_col8, #T_13908_row2_col7 {\n",
       "  background-color: #ead4c8;\n",
       "  color: #000000;\n",
       "}\n",
       "#T_13908_row2_col6 {\n",
       "  background-color: #eed0c0;\n",
       "  color: #000000;\n",
       "}\n",
       "</style>\n",
       "<table id=\"T_13908\">\n",
       "  <thead>\n",
       "    <tr>\n",
       "      <th class=\"blank level0\" >&nbsp;</th>\n",
       "      <th id=\"T_13908_level0_col0\" class=\"col_heading level0 col0\" >train_mnap</th>\n",
       "      <th id=\"T_13908_level0_col1\" class=\"col_heading level0 col1\" >val_mnap</th>\n",
       "      <th id=\"T_13908_level0_col2\" class=\"col_heading level0 col2\" >train_hitrate</th>\n",
       "      <th id=\"T_13908_level0_col3\" class=\"col_heading level0 col3\" >val_hitrate</th>\n",
       "      <th id=\"T_13908_level0_col4\" class=\"col_heading level0 col4\" >train_mrr</th>\n",
       "      <th id=\"T_13908_level0_col5\" class=\"col_heading level0 col5\" >val_mrr</th>\n",
       "      <th id=\"T_13908_level0_col6\" class=\"col_heading level0 col6\" >train_coverage</th>\n",
       "      <th id=\"T_13908_level0_col7\" class=\"col_heading level0 col7\" >val_coverage</th>\n",
       "      <th id=\"T_13908_level0_col8\" class=\"col_heading level0 col8\" >train_surprisal</th>\n",
       "      <th id=\"T_13908_level0_col9\" class=\"col_heading level0 col9\" >val_surprisal</th>\n",
       "    </tr>\n",
       "  </thead>\n",
       "  <tbody>\n",
       "    <tr>\n",
       "      <th id=\"T_13908_level0_row0\" class=\"row_heading level0 row0\" >random</th>\n",
       "      <td id=\"T_13908_row0_col0\" class=\"data row0 col0\" >0.032909</td>\n",
       "      <td id=\"T_13908_row0_col1\" class=\"data row0 col1\" >0.027927</td>\n",
       "      <td id=\"T_13908_row0_col2\" class=\"data row0 col2\" >0.133627</td>\n",
       "      <td id=\"T_13908_row0_col3\" class=\"data row0 col3\" >0.098266</td>\n",
       "      <td id=\"T_13908_row0_col4\" class=\"data row0 col4\" >0.021530</td>\n",
       "      <td id=\"T_13908_row0_col5\" class=\"data row0 col5\" >0.018505</td>\n",
       "      <td id=\"T_13908_row0_col6\" class=\"data row0 col6\" >1.000000</td>\n",
       "      <td id=\"T_13908_row0_col7\" class=\"data row0 col7\" >0.906977</td>\n",
       "      <td id=\"T_13908_row0_col8\" class=\"data row0 col8\" >0.814839</td>\n",
       "      <td id=\"T_13908_row0_col9\" class=\"data row0 col9\" >0.501585</td>\n",
       "    </tr>\n",
       "    <tr>\n",
       "      <th id=\"T_13908_level0_row1\" class=\"row_heading level0 row1\" >popular</th>\n",
       "      <td id=\"T_13908_row1_col0\" class=\"data row1 col0\" >0.059019</td>\n",
       "      <td id=\"T_13908_row1_col1\" class=\"data row1 col1\" >0.073702</td>\n",
       "      <td id=\"T_13908_row1_col2\" class=\"data row1 col2\" >0.077827</td>\n",
       "      <td id=\"T_13908_row1_col3\" class=\"data row1 col3\" >0.089595</td>\n",
       "      <td id=\"T_13908_row1_col4\" class=\"data row1 col4\" >0.057450</td>\n",
       "      <td id=\"T_13908_row1_col5\" class=\"data row1 col5\" >0.071810</td>\n",
       "      <td id=\"T_13908_row1_col6\" class=\"data row1 col6\" >0.284672</td>\n",
       "      <td id=\"T_13908_row1_col7\" class=\"data row1 col7\" >0.395349</td>\n",
       "      <td id=\"T_13908_row1_col8\" class=\"data row1 col8\" >0.664661</td>\n",
       "      <td id=\"T_13908_row1_col9\" class=\"data row1 col9\" >0.654923</td>\n",
       "    </tr>\n",
       "    <tr>\n",
       "      <th id=\"T_13908_level0_row2\" class=\"row_heading level0 row2\" >slim</th>\n",
       "      <td id=\"T_13908_row2_col0\" class=\"data row2 col0\" >0.090826</td>\n",
       "      <td id=\"T_13908_row2_col1\" class=\"data row2 col1\" >0.092960</td>\n",
       "      <td id=\"T_13908_row2_col2\" class=\"data row2 col2\" >0.140969</td>\n",
       "      <td id=\"T_13908_row2_col3\" class=\"data row2 col3\" >0.138728</td>\n",
       "      <td id=\"T_13908_row2_col4\" class=\"data row2 col4\" >0.081174</td>\n",
       "      <td id=\"T_13908_row2_col5\" class=\"data row2 col5\" >0.078261</td>\n",
       "      <td id=\"T_13908_row2_col6\" class=\"data row2 col6\" >0.751825</td>\n",
       "      <td id=\"T_13908_row2_col7\" class=\"data row2 col7\" >0.709302</td>\n",
       "      <td id=\"T_13908_row2_col8\" class=\"data row2 col8\" >0.425978</td>\n",
       "      <td id=\"T_13908_row2_col9\" class=\"data row2 col9\" >0.289910</td>\n",
       "    </tr>\n",
       "  </tbody>\n",
       "</table>\n"
      ],
      "text/plain": [
       "<pandas.io.formats.style.Styler at 0x7f0fb7cc9c30>"
      ]
     },
     "execution_count": 31,
     "metadata": {},
     "output_type": "execute_result"
    },
    {
     "data": {
      "application/javascript": [
       "\n",
       "            setTimeout(function() {\n",
       "                var nbb_cell_id = 31;\n",
       "                var nbb_unformatted_code = \"assessor.show_metrics(kind=\\\"table\\\")\";\n",
       "                var nbb_formatted_code = \"assessor.show_metrics(kind=\\\"table\\\")\";\n",
       "                var nbb_cells = Jupyter.notebook.get_cells();\n",
       "                for (var i = 0; i < nbb_cells.length; ++i) {\n",
       "                    if (nbb_cells[i].input_prompt_number == nbb_cell_id) {\n",
       "                        if (nbb_cells[i].get_text() == nbb_unformatted_code) {\n",
       "                             nbb_cells[i].set_text(nbb_formatted_code);\n",
       "                        }\n",
       "                        break;\n",
       "                    }\n",
       "                }\n",
       "            }, 500);\n",
       "            "
      ],
      "text/plain": [
       "<IPython.core.display.Javascript object>"
      ]
     },
     "metadata": {},
     "output_type": "display_data"
    }
   ],
   "source": [
    "assessor.show_metrics(kind=\"table\")"
   ]
  },
  {
   "cell_type": "markdown",
   "metadata": {},
   "source": [
    "Bayesian PMF, MCMC sampling:"
   ]
  },
  {
   "cell_type": "markdown",
   "metadata": {},
   "source": [
    "Sample features step:\n",
    "\n",
    "$$\n",
    "p\\left(U_i \\mid R, V, \\Theta_U, \\alpha\\right)=\n",
    "\\cfrac{p\\left(R \\mid U_i, V, \\Theta_U, \\alpha\\right)p\\left(U_i \\mid V, \\Theta_U, \\alpha\\right)}\n",
    "{p\\left(R \\mid V, \\Theta_U, \\alpha\\right)}\\sim\n",
    "$$\n",
    "\n",
    "$$\n",
    "\\sim p\\left(R \\mid U_i, V, \\Theta_U, \\alpha\\right)p\\left(U_i \\mid V, \\Theta_U, \\alpha\\right) \\sim \\\\\n",
    "\\sim \\prod_{j=1}^M\\left[\\mathcal{N}\\left(R_{i j} \\mid U_i^T V_j, \\alpha^{-1}\\right)\\right]^{I_{i j}} \\mathcal{N}\\left(U_i \\mid \\mu_U, \\left[\\Lambda_U \\right]^{-1}\\right)\\sim\\\\\n",
    "\\sim \\exp\\left\\{\n",
    "\\left(\\sum_{j=1}^M-I_{i j}\\alpha\\frac{(R_{i j} - U_i^T V_j)^2} {2} \\right) -\n",
    "\\frac{1}{2}(U_i - \\mu_U)^T\\Lambda_U(U_i - \\mu_U)\n",
    "\\right\\}\n",
    "$$"
   ]
  },
  {
   "cell_type": "markdown",
   "metadata": {},
   "source": [
    "Let's show that this is a multivariate normal distribution. Its variance is:\n",
    "\n",
    "$$\n",
    "U_i^T\\text{Variance }^{-1}U_i=\n",
    "\\left(\\sum_{j=1}^M\\alpha I_{i j}(R_{ij} - U_i^T V_j)^2 \\right) + (U_i - \\mu_U)^T\\Lambda_U(U_i - \\mu_U) +\\cdots=\\\\\n",
    "=\\left(\\sum_{j=1}^M \\alpha I_{i j}(U_i^T V_j)^2 \\right) + U_i^T\\Lambda_U U_i=\n",
    "\\left(\\sum_{j=1}^M\\alpha I_{i j}(U_i^T V_j)(U_i^T V_j)^T \\right) + U_i^T\\Lambda_U U_i=\\\\\n",
    "=\\left(\\sum_{j=1}^M\\alpha I_{i j}U_i^T V_j V_j^T U_i \\right) + U_i^T\\Lambda_U U_i=\n",
    "U_i^T\\left(\\sum_{j=1}^M\\alpha I_{i j}V_j V_j^T  + \\Lambda_U \\right)U_i\n",
    "$$\n",
    "\n",
    "$$\n",
    "\\text{Variance }^{-1} =\\alpha\\sum_{j=1}^M I_{i j}V_j V_j^T + \\Lambda_U \n",
    "$$\n"
   ]
  },
  {
   "cell_type": "markdown",
   "metadata": {},
   "source": [
    "And the mean:\n",
    "\n",
    "$$\n",
    "-\\frac{1}{2}(U_i - \\text{Mean})^T\\text{Variance}^{-1}(U_i - \\text{Mean})=\n",
    "\\frac{1}{2} \\text{Mean}^T\\text{Variance}^{-1}U_i +\\frac{1}{2}\n",
    "U_i^T\\text{Variance}^{-1}\\text{Mean} + \\cdots=\\\\\n",
    "=U_i^T\\text{Variance}^{-1}\\text{Mean}+ \\cdots\n",
    "$$\n",
    "\n",
    "$$\n",
    "U_i^T\\text{Variance}^{-1}\\text{Mean} =\n",
    "\\left(\\sum_{j=1}^M-I_{i j}\\alpha\\frac{-2R_{i j} U_i^T V_j} {2} \\right) +\n",
    "U_i^T\\Lambda_U\\mu_U=\\\\\n",
    "=\\alpha\\sum_{j=1}^M I_{i j}R_{i j} U_i^T V_j + U_i^T\\Lambda_U\\mu_U=\\\\\n",
    "=U_i^T\\left(\\alpha\\sum_{j=1}^M I_{i j}R_{i j} V_j + \\Lambda_U\\mu_U \\right)\n",
    "$$\n",
    "\n",
    "$$\n",
    "\\text{Mean} = \\text{Variance} \\left(\\alpha\\sum_{j=1}^M I_{i j}R_{i j} V_j + \\Lambda_U\\mu_U \\right)\n",
    "$$"
   ]
  },
  {
   "cell_type": "markdown",
   "metadata": {},
   "source": [
    "For hyperparameter estimation, see [Normal-Wishart distribution](https://en.wikipedia.org/wiki/Normal-Wishart_distribution)"
   ]
  },
  {
   "cell_type": "code",
   "execution_count": 32,
   "metadata": {
    "ExecuteTime": {
     "end_time": "2022-09-19T10:43:21.219170Z",
     "start_time": "2022-09-19T10:43:21.187767Z"
    }
   },
   "outputs": [
    {
     "data": {
      "application/javascript": [
       "\n",
       "            setTimeout(function() {\n",
       "                var nbb_cell_id = 32;\n",
       "                var nbb_unformatted_code = \"from bayesian_pmf import BayesianPMF\\n\\n\\nclass BayesianPMFExtendingALS(BayesianPMF):\\n    def __init__(\\n        self,\\n        explicit,\\n        burn_in_steps,\\n        keeper_steps,\\n        predictive_explicit_precision,\\n        features_hyper_precision_coefficient,\\n        fitted_als,\\n    ):\\n        self.fitted_als = fitted_als\\n        super().__init__(\\n            explicit=explicit,\\n            n_feature_dimensions=fitted_als.user_factors.shape[1],\\n            burn_in_steps=burn_in_steps,\\n            keeper_steps=keeper_steps,\\n            predictive_explicit_precision=predictive_explicit_precision,\\n            features_hyper_precision_coefficient=features_hyper_precision_coefficient,\\n        )\\n\\n    def init_user_features(self):\\n        return self.fitted_als.user_factors\\n\\n    def init_item_features(self):\\n        return self.fitted_als.item_factors\";\n",
       "                var nbb_formatted_code = \"from bayesian_pmf import BayesianPMF\\n\\n\\nclass BayesianPMFExtendingALS(BayesianPMF):\\n    def __init__(\\n        self,\\n        explicit,\\n        burn_in_steps,\\n        keeper_steps,\\n        predictive_explicit_precision,\\n        features_hyper_precision_coefficient,\\n        fitted_als,\\n    ):\\n        self.fitted_als = fitted_als\\n        super().__init__(\\n            explicit=explicit,\\n            n_feature_dimensions=fitted_als.user_factors.shape[1],\\n            burn_in_steps=burn_in_steps,\\n            keeper_steps=keeper_steps,\\n            predictive_explicit_precision=predictive_explicit_precision,\\n            features_hyper_precision_coefficient=features_hyper_precision_coefficient,\\n        )\\n\\n    def init_user_features(self):\\n        return self.fitted_als.user_factors\\n\\n    def init_item_features(self):\\n        return self.fitted_als.item_factors\";\n",
       "                var nbb_cells = Jupyter.notebook.get_cells();\n",
       "                for (var i = 0; i < nbb_cells.length; ++i) {\n",
       "                    if (nbb_cells[i].input_prompt_number == nbb_cell_id) {\n",
       "                        if (nbb_cells[i].get_text() == nbb_unformatted_code) {\n",
       "                             nbb_cells[i].set_text(nbb_formatted_code);\n",
       "                        }\n",
       "                        break;\n",
       "                    }\n",
       "                }\n",
       "            }, 500);\n",
       "            "
      ],
      "text/plain": [
       "<IPython.core.display.Javascript object>"
      ]
     },
     "metadata": {},
     "output_type": "display_data"
    }
   ],
   "source": [
    "from bayesian_pmf import BayesianPMF\n",
    "\n",
    "\n",
    "class BayesianPMFExtendingALS(BayesianPMF):\n",
    "    def __init__(\n",
    "        self,\n",
    "        explicit,\n",
    "        burn_in_steps,\n",
    "        keeper_steps,\n",
    "        predictive_explicit_precision,\n",
    "        features_hyper_precision_coefficient,\n",
    "        fitted_als,\n",
    "    ):\n",
    "        self.fitted_als = fitted_als\n",
    "        super().__init__(\n",
    "            explicit=explicit,\n",
    "            n_feature_dimensions=fitted_als.user_factors.shape[1],\n",
    "            burn_in_steps=burn_in_steps,\n",
    "            keeper_steps=keeper_steps,\n",
    "            predictive_explicit_precision=predictive_explicit_precision,\n",
    "            features_hyper_precision_coefficient=features_hyper_precision_coefficient,\n",
    "        )\n",
    "\n",
    "    def init_user_features(self):\n",
    "        return self.fitted_als.user_factors\n",
    "\n",
    "    def init_item_features(self):\n",
    "        return self.fitted_als.item_factors"
   ]
  },
  {
   "cell_type": "code",
   "execution_count": 33,
   "metadata": {
    "ExecuteTime": {
     "end_time": "2022-09-19T10:43:21.463529Z",
     "start_time": "2022-09-19T10:43:21.444639Z"
    }
   },
   "outputs": [
    {
     "data": {
      "application/javascript": [
       "\n",
       "            setTimeout(function() {\n",
       "                var nbb_cell_id = 33;\n",
       "                var nbb_unformatted_code = \"class BPMFRecommender:\\n    def __init__(self, model):\\n        self.model = model\\n\\n    def fit(self, explicit_feedback, implicit_feedback=None):\\n        self.model.fit()\\n\\n    def recommend(self, user_ids):\\n        return self.model.recommend(user_ids)\";\n",
       "                var nbb_formatted_code = \"class BPMFRecommender:\\n    def __init__(self, model):\\n        self.model = model\\n\\n    def fit(self, explicit_feedback, implicit_feedback=None):\\n        self.model.fit()\\n\\n    def recommend(self, user_ids):\\n        return self.model.recommend(user_ids)\";\n",
       "                var nbb_cells = Jupyter.notebook.get_cells();\n",
       "                for (var i = 0; i < nbb_cells.length; ++i) {\n",
       "                    if (nbb_cells[i].input_prompt_number == nbb_cell_id) {\n",
       "                        if (nbb_cells[i].get_text() == nbb_unformatted_code) {\n",
       "                             nbb_cells[i].set_text(nbb_formatted_code);\n",
       "                        }\n",
       "                        break;\n",
       "                    }\n",
       "                }\n",
       "            }, 500);\n",
       "            "
      ],
      "text/plain": [
       "<IPython.core.display.Javascript object>"
      ]
     },
     "metadata": {},
     "output_type": "display_data"
    }
   ],
   "source": [
    "class BPMFRecommender:\n",
    "    def __init__(self, model):\n",
    "        self.model = model\n",
    "\n",
    "    def fit(self, explicit_feedback, implicit_feedback=None):\n",
    "        self.model.fit()\n",
    "\n",
    "    def recommend(self, user_ids):\n",
    "        return self.model.recommend(user_ids)"
   ]
  },
  {
   "cell_type": "code",
   "execution_count": 34,
   "metadata": {
    "ExecuteTime": {
     "end_time": "2022-09-19T10:44:02.214326Z",
     "start_time": "2022-09-19T10:43:22.276763Z"
    }
   },
   "outputs": [
    {
     "data": {
      "application/vnd.jupyter.widget-view+json": {
       "model_id": "d155f65e954345aea229f4cd2d9eccc6",
       "version_major": 2,
       "version_minor": 0
      },
      "text/plain": [
       "Sampling:   0%|          | 0/110 [00:00<?, ?it/s]"
      ]
     },
     "metadata": {},
     "output_type": "display_data"
    },
    {
     "data": {
      "application/vnd.jupyter.widget-view+json": {
       "model_id": "2372c529f380464481ec4f0777df4211",
       "version_major": 2,
       "version_minor": 0
      },
      "text/plain": [
       "Recommending:   0%|          | 0/1 [00:00<?, ?it/s]"
      ]
     },
     "metadata": {},
     "output_type": "display_data"
    },
    {
     "data": {
      "application/vnd.jupyter.widget-view+json": {
       "model_id": "bf9047efac66413b90fcaf738a2a451b",
       "version_major": 2,
       "version_minor": 0
      },
      "text/plain": [
       "Recommending:   0%|          | 0/1 [00:00<?, ?it/s]"
      ]
     },
     "metadata": {},
     "output_type": "display_data"
    },
    {
     "data": {
      "application/javascript": [
       "\n",
       "            setTimeout(function() {\n",
       "                var nbb_cell_id = 34;\n",
       "                var nbb_unformatted_code = \"bpmf_models = {\\n    \\\"bpmf\\\": BatchRecommender(\\n        sparse_interface,\\n        BPMFRecommender(\\n            BayesianPMF(\\n                explicit=sparse_interface.interactions_weighted.tocsr(),\\n                n_feature_dimensions=10,\\n                burn_in_steps=100,\\n                keeper_steps=10,\\n                predictive_explicit_precision=2,\\n                features_hyper_precision_coefficient=2,\\n            )\\n        ),\\n    ),\\n#     \\\"ebpmf\\\": BatchRecommender(\\n#         sparse_interface,\\n#         BPMFRecommender(\\n#             BayesianPMFExtendingALS(\\n#                 fitted_als=my_als_models[\\\"my_als\\\"].model,\\n#                 explicit=sparse_interface.interactions_weighted.tocsr(),\\n#                 burn_in_steps=100,\\n#                 keeper_steps=10,\\n#                 predictive_explicit_precision=2,\\n#                 features_hyper_precision_coefficient=2,\\n#             )\\n#         ),\\n#     ),\\n}\\nassessor.assess(bpmf_models)\";\n",
       "                var nbb_formatted_code = \"bpmf_models = {\\n    \\\"bpmf\\\": BatchRecommender(\\n        sparse_interface,\\n        BPMFRecommender(\\n            BayesianPMF(\\n                explicit=sparse_interface.interactions_weighted.tocsr(),\\n                n_feature_dimensions=10,\\n                burn_in_steps=100,\\n                keeper_steps=10,\\n                predictive_explicit_precision=2,\\n                features_hyper_precision_coefficient=2,\\n            )\\n        ),\\n    ),\\n    #     \\\"ebpmf\\\": BatchRecommender(\\n    #         sparse_interface,\\n    #         BPMFRecommender(\\n    #             BayesianPMFExtendingALS(\\n    #                 fitted_als=my_als_models[\\\"my_als\\\"].model,\\n    #                 explicit=sparse_interface.interactions_weighted.tocsr(),\\n    #                 burn_in_steps=100,\\n    #                 keeper_steps=10,\\n    #                 predictive_explicit_precision=2,\\n    #                 features_hyper_precision_coefficient=2,\\n    #             )\\n    #         ),\\n    #     ),\\n}\\nassessor.assess(bpmf_models)\";\n",
       "                var nbb_cells = Jupyter.notebook.get_cells();\n",
       "                for (var i = 0; i < nbb_cells.length; ++i) {\n",
       "                    if (nbb_cells[i].input_prompt_number == nbb_cell_id) {\n",
       "                        if (nbb_cells[i].get_text() == nbb_unformatted_code) {\n",
       "                             nbb_cells[i].set_text(nbb_formatted_code);\n",
       "                        }\n",
       "                        break;\n",
       "                    }\n",
       "                }\n",
       "            }, 500);\n",
       "            "
      ],
      "text/plain": [
       "<IPython.core.display.Javascript object>"
      ]
     },
     "metadata": {},
     "output_type": "display_data"
    }
   ],
   "source": [
    "bpmf_models = {\n",
    "    \"bpmf\": BatchRecommender(\n",
    "        sparse_interface,\n",
    "        BPMFRecommender(\n",
    "            BayesianPMF(\n",
    "                explicit=sparse_interface.interactions_weighted.tocsr(),\n",
    "                n_feature_dimensions=10,\n",
    "                burn_in_steps=100,\n",
    "                keeper_steps=10,\n",
    "                predictive_explicit_precision=2,\n",
    "                features_hyper_precision_coefficient=2,\n",
    "            )\n",
    "        ),\n",
    "    ),\n",
    "    #     \"ebpmf\": BatchRecommender(\n",
    "    #         sparse_interface,\n",
    "    #         BPMFRecommender(\n",
    "    #             BayesianPMFExtendingALS(\n",
    "    #                 fitted_als=my_als_models[\"my_als\"].model,\n",
    "    #                 explicit=sparse_interface.interactions_weighted.tocsr(),\n",
    "    #                 burn_in_steps=100,\n",
    "    #                 keeper_steps=10,\n",
    "    #                 predictive_explicit_precision=2,\n",
    "    #                 features_hyper_precision_coefficient=2,\n",
    "    #             )\n",
    "    #         ),\n",
    "    #     ),\n",
    "}\n",
    "assessor.assess(bpmf_models)"
   ]
  },
  {
   "cell_type": "code",
   "execution_count": 35,
   "metadata": {
    "ExecuteTime": {
     "end_time": "2022-09-19T10:44:02.237398Z",
     "start_time": "2022-09-19T10:44:02.216930Z"
    }
   },
   "outputs": [
    {
     "data": {
      "text/html": [
       "<style type=\"text/css\">\n",
       "#T_2be80_row0_col0 {\n",
       "  background-color: #afcafc;\n",
       "  color: #000000;\n",
       "}\n",
       "#T_2be80_row0_col1 {\n",
       "  background-color: #aac7fd;\n",
       "  color: #000000;\n",
       "}\n",
       "#T_2be80_row0_col2, #T_2be80_row1_col5 {\n",
       "  background-color: #f7ac8e;\n",
       "  color: #000000;\n",
       "}\n",
       "#T_2be80_row0_col3 {\n",
       "  background-color: #dfdbd9;\n",
       "  color: #000000;\n",
       "}\n",
       "#T_2be80_row0_col4 {\n",
       "  background-color: #a5c3fe;\n",
       "  color: #000000;\n",
       "}\n",
       "#T_2be80_row0_col5 {\n",
       "  background-color: #a3c2fe;\n",
       "  color: #000000;\n",
       "}\n",
       "#T_2be80_row0_col6, #T_2be80_row0_col8, #T_2be80_row2_col0, #T_2be80_row2_col1, #T_2be80_row2_col2, #T_2be80_row2_col3, #T_2be80_row2_col4, #T_2be80_row2_col5, #T_2be80_row3_col7 {\n",
       "  background-color: #f4987a;\n",
       "  color: #000000;\n",
       "}\n",
       "#T_2be80_row0_col7 {\n",
       "  background-color: #f7b396;\n",
       "  color: #000000;\n",
       "}\n",
       "#T_2be80_row0_col9 {\n",
       "  background-color: #edd1c2;\n",
       "  color: #000000;\n",
       "}\n",
       "#T_2be80_row1_col0 {\n",
       "  background-color: #e4d9d2;\n",
       "  color: #000000;\n",
       "}\n",
       "#T_2be80_row1_col1 {\n",
       "  background-color: #f5c4ac;\n",
       "  color: #000000;\n",
       "}\n",
       "#T_2be80_row1_col2 {\n",
       "  background-color: #a9c6fd;\n",
       "  color: #000000;\n",
       "}\n",
       "#T_2be80_row1_col3 {\n",
       "  background-color: #d1dae9;\n",
       "  color: #000000;\n",
       "}\n",
       "#T_2be80_row1_col4 {\n",
       "  background-color: #efcfbf;\n",
       "  color: #000000;\n",
       "}\n",
       "#T_2be80_row1_col6, #T_2be80_row3_col0, #T_2be80_row3_col1, #T_2be80_row3_col2, #T_2be80_row3_col3, #T_2be80_row3_col4, #T_2be80_row3_col5, #T_2be80_row3_col8, #T_2be80_row3_col9 {\n",
       "  background-color: #8db0fe;\n",
       "  color: #000000;\n",
       "}\n",
       "#T_2be80_row1_col7 {\n",
       "  background-color: #8caffe;\n",
       "  color: #000000;\n",
       "}\n",
       "#T_2be80_row1_col8 {\n",
       "  background-color: #ecd3c5;\n",
       "  color: #000000;\n",
       "}\n",
       "#T_2be80_row1_col9 {\n",
       "  background-color: #f49a7b;\n",
       "  color: #000000;\n",
       "}\n",
       "#T_2be80_row2_col6 {\n",
       "  background-color: #eed0c0;\n",
       "  color: #000000;\n",
       "}\n",
       "#T_2be80_row2_col7 {\n",
       "  background-color: #e0dbd8;\n",
       "  color: #000000;\n",
       "}\n",
       "#T_2be80_row2_col8 {\n",
       "  background-color: #92b4fe;\n",
       "  color: #000000;\n",
       "}\n",
       "#T_2be80_row2_col9 {\n",
       "  background-color: #a7c5fe;\n",
       "  color: #000000;\n",
       "}\n",
       "#T_2be80_row3_col6 {\n",
       "  background-color: #f59d7e;\n",
       "  color: #000000;\n",
       "}\n",
       "</style>\n",
       "<table id=\"T_2be80\">\n",
       "  <thead>\n",
       "    <tr>\n",
       "      <th class=\"blank level0\" >&nbsp;</th>\n",
       "      <th id=\"T_2be80_level0_col0\" class=\"col_heading level0 col0\" >train_mnap</th>\n",
       "      <th id=\"T_2be80_level0_col1\" class=\"col_heading level0 col1\" >val_mnap</th>\n",
       "      <th id=\"T_2be80_level0_col2\" class=\"col_heading level0 col2\" >train_hitrate</th>\n",
       "      <th id=\"T_2be80_level0_col3\" class=\"col_heading level0 col3\" >val_hitrate</th>\n",
       "      <th id=\"T_2be80_level0_col4\" class=\"col_heading level0 col4\" >train_mrr</th>\n",
       "      <th id=\"T_2be80_level0_col5\" class=\"col_heading level0 col5\" >val_mrr</th>\n",
       "      <th id=\"T_2be80_level0_col6\" class=\"col_heading level0 col6\" >train_coverage</th>\n",
       "      <th id=\"T_2be80_level0_col7\" class=\"col_heading level0 col7\" >val_coverage</th>\n",
       "      <th id=\"T_2be80_level0_col8\" class=\"col_heading level0 col8\" >train_surprisal</th>\n",
       "      <th id=\"T_2be80_level0_col9\" class=\"col_heading level0 col9\" >val_surprisal</th>\n",
       "    </tr>\n",
       "  </thead>\n",
       "  <tbody>\n",
       "    <tr>\n",
       "      <th id=\"T_2be80_level0_row0\" class=\"row_heading level0 row0\" >random</th>\n",
       "      <td id=\"T_2be80_row0_col0\" class=\"data row0 col0\" >0.032909</td>\n",
       "      <td id=\"T_2be80_row0_col1\" class=\"data row0 col1\" >0.027927</td>\n",
       "      <td id=\"T_2be80_row0_col2\" class=\"data row0 col2\" >0.133627</td>\n",
       "      <td id=\"T_2be80_row0_col3\" class=\"data row0 col3\" >0.098266</td>\n",
       "      <td id=\"T_2be80_row0_col4\" class=\"data row0 col4\" >0.021530</td>\n",
       "      <td id=\"T_2be80_row0_col5\" class=\"data row0 col5\" >0.018505</td>\n",
       "      <td id=\"T_2be80_row0_col6\" class=\"data row0 col6\" >1.000000</td>\n",
       "      <td id=\"T_2be80_row0_col7\" class=\"data row0 col7\" >0.906977</td>\n",
       "      <td id=\"T_2be80_row0_col8\" class=\"data row0 col8\" >0.814839</td>\n",
       "      <td id=\"T_2be80_row0_col9\" class=\"data row0 col9\" >0.501585</td>\n",
       "    </tr>\n",
       "    <tr>\n",
       "      <th id=\"T_2be80_level0_row1\" class=\"row_heading level0 row1\" >popular</th>\n",
       "      <td id=\"T_2be80_row1_col0\" class=\"data row1 col0\" >0.059019</td>\n",
       "      <td id=\"T_2be80_row1_col1\" class=\"data row1 col1\" >0.073702</td>\n",
       "      <td id=\"T_2be80_row1_col2\" class=\"data row1 col2\" >0.077827</td>\n",
       "      <td id=\"T_2be80_row1_col3\" class=\"data row1 col3\" >0.089595</td>\n",
       "      <td id=\"T_2be80_row1_col4\" class=\"data row1 col4\" >0.057450</td>\n",
       "      <td id=\"T_2be80_row1_col5\" class=\"data row1 col5\" >0.071810</td>\n",
       "      <td id=\"T_2be80_row1_col6\" class=\"data row1 col6\" >0.284672</td>\n",
       "      <td id=\"T_2be80_row1_col7\" class=\"data row1 col7\" >0.395349</td>\n",
       "      <td id=\"T_2be80_row1_col8\" class=\"data row1 col8\" >0.664661</td>\n",
       "      <td id=\"T_2be80_row1_col9\" class=\"data row1 col9\" >0.654923</td>\n",
       "    </tr>\n",
       "    <tr>\n",
       "      <th id=\"T_2be80_level0_row2\" class=\"row_heading level0 row2\" >slim</th>\n",
       "      <td id=\"T_2be80_row2_col0\" class=\"data row2 col0\" >0.090826</td>\n",
       "      <td id=\"T_2be80_row2_col1\" class=\"data row2 col1\" >0.092960</td>\n",
       "      <td id=\"T_2be80_row2_col2\" class=\"data row2 col2\" >0.140969</td>\n",
       "      <td id=\"T_2be80_row2_col3\" class=\"data row2 col3\" >0.138728</td>\n",
       "      <td id=\"T_2be80_row2_col4\" class=\"data row2 col4\" >0.081174</td>\n",
       "      <td id=\"T_2be80_row2_col5\" class=\"data row2 col5\" >0.078261</td>\n",
       "      <td id=\"T_2be80_row2_col6\" class=\"data row2 col6\" >0.751825</td>\n",
       "      <td id=\"T_2be80_row2_col7\" class=\"data row2 col7\" >0.709302</td>\n",
       "      <td id=\"T_2be80_row2_col8\" class=\"data row2 col8\" >0.425978</td>\n",
       "      <td id=\"T_2be80_row2_col9\" class=\"data row2 col9\" >0.289910</td>\n",
       "    </tr>\n",
       "    <tr>\n",
       "      <th id=\"T_2be80_level0_row3\" class=\"row_heading level0 row3\" >bpmf</th>\n",
       "      <td id=\"T_2be80_row3_col0\" class=\"data row3 col0\" >0.018275</td>\n",
       "      <td id=\"T_2be80_row3_col1\" class=\"data row3 col1\" >0.014932</td>\n",
       "      <td id=\"T_2be80_row3_col2\" class=\"data row3 col2\" >0.066079</td>\n",
       "      <td id=\"T_2be80_row3_col3\" class=\"data row3 col3\" >0.054913</td>\n",
       "      <td id=\"T_2be80_row3_col4\" class=\"data row3 col4\" >0.011902</td>\n",
       "      <td id=\"T_2be80_row3_col5\" class=\"data row3 col5\" >0.009530</td>\n",
       "      <td id=\"T_2be80_row3_col6\" class=\"data row3 col6\" >0.985401</td>\n",
       "      <td id=\"T_2be80_row3_col7\" class=\"data row3 col7\" >0.988372</td>\n",
       "      <td id=\"T_2be80_row3_col8\" class=\"data row3 col8\" >0.413791</td>\n",
       "      <td id=\"T_2be80_row3_col9\" class=\"data row3 col9\" >0.224321</td>\n",
       "    </tr>\n",
       "  </tbody>\n",
       "</table>\n"
      ],
      "text/plain": [
       "<pandas.io.formats.style.Styler at 0x7f0ee9a54c10>"
      ]
     },
     "execution_count": 35,
     "metadata": {},
     "output_type": "execute_result"
    },
    {
     "data": {
      "application/javascript": [
       "\n",
       "            setTimeout(function() {\n",
       "                var nbb_cell_id = 35;\n",
       "                var nbb_unformatted_code = \"assessor.show_metrics(kind=\\\"table\\\")\";\n",
       "                var nbb_formatted_code = \"assessor.show_metrics(kind=\\\"table\\\")\";\n",
       "                var nbb_cells = Jupyter.notebook.get_cells();\n",
       "                for (var i = 0; i < nbb_cells.length; ++i) {\n",
       "                    if (nbb_cells[i].input_prompt_number == nbb_cell_id) {\n",
       "                        if (nbb_cells[i].get_text() == nbb_unformatted_code) {\n",
       "                             nbb_cells[i].set_text(nbb_formatted_code);\n",
       "                        }\n",
       "                        break;\n",
       "                    }\n",
       "                }\n",
       "            }, 500);\n",
       "            "
      ],
      "text/plain": [
       "<IPython.core.display.Javascript object>"
      ]
     },
     "metadata": {},
     "output_type": "display_data"
    }
   ],
   "source": [
    "assessor.show_metrics(kind=\"table\")"
   ]
  },
  {
   "cell_type": "code",
   "execution_count": 38,
   "metadata": {
    "ExecuteTime": {
     "end_time": "2022-09-19T10:44:46.719208Z",
     "start_time": "2022-09-19T10:44:46.690216Z"
    }
   },
   "outputs": [
    {
     "data": {
      "application/javascript": [
       "\n",
       "            setTimeout(function() {\n",
       "                var nbb_cell_id = 38;\n",
       "                var nbb_unformatted_code = \"import einops\\n\\ndef plot_bayesian_pmf_distributions(means, precision):\\n    means = torch.from_numpy(means)\\n    n_steps, n_users, n_items = means.shape\\n    fig, axis = plt.subplots(n_users, n_items, figsize=(4 * n_items, 3.25 * n_users))\\n    fig.suptitle(\\\"Distributions of rating values for user-item pairs\\\", fontsize=16)\\n\\n    for user_id, row_axes in enumerate(axis):\\n        for item_id, axis in enumerate(row_axes):\\n            axis.set_title(f\\\"Rating of item {item_id} for user {user_id}\\\")\\n            user_item_means = means[:, user_id, item_id]\\n            linspace = torch.linspace(\\n                min(user_item_means) - 3, max(user_item_means) + 3, 100\\n            )[:, None]\\n            normal = torch.distributions.Normal(\\n                loc=user_item_means, scale=precision**-0.5\\n            )\\n            pdfs = torch.exp(normal.log_prob(linspace))\\n            mixture = einops.reduce(pdfs, \\\"delta pdf -> delta\\\", \\\"mean\\\")\\n            axis.plot(linspace, mixture)\";\n",
       "                var nbb_formatted_code = \"import einops\\n\\n\\ndef plot_bayesian_pmf_distributions(means, precision):\\n    means = torch.from_numpy(means)\\n    n_steps, n_users, n_items = means.shape\\n    fig, axis = plt.subplots(n_users, n_items, figsize=(4 * n_items, 3.25 * n_users))\\n    fig.suptitle(\\\"Distributions of rating values for user-item pairs\\\", fontsize=16)\\n\\n    for user_id, row_axes in enumerate(axis):\\n        for item_id, axis in enumerate(row_axes):\\n            axis.set_title(f\\\"Rating of item {item_id} for user {user_id}\\\")\\n            user_item_means = means[:, user_id, item_id]\\n            linspace = torch.linspace(\\n                min(user_item_means) - 3, max(user_item_means) + 3, 100\\n            )[:, None]\\n            normal = torch.distributions.Normal(\\n                loc=user_item_means, scale=precision**-0.5\\n            )\\n            pdfs = torch.exp(normal.log_prob(linspace))\\n            mixture = einops.reduce(pdfs, \\\"delta pdf -> delta\\\", \\\"mean\\\")\\n            axis.plot(linspace, mixture)\";\n",
       "                var nbb_cells = Jupyter.notebook.get_cells();\n",
       "                for (var i = 0; i < nbb_cells.length; ++i) {\n",
       "                    if (nbb_cells[i].input_prompt_number == nbb_cell_id) {\n",
       "                        if (nbb_cells[i].get_text() == nbb_unformatted_code) {\n",
       "                             nbb_cells[i].set_text(nbb_formatted_code);\n",
       "                        }\n",
       "                        break;\n",
       "                    }\n",
       "                }\n",
       "            }, 500);\n",
       "            "
      ],
      "text/plain": [
       "<IPython.core.display.Javascript object>"
      ]
     },
     "metadata": {},
     "output_type": "display_data"
    }
   ],
   "source": [
    "import einops\n",
    "\n",
    "\n",
    "def plot_bayesian_pmf_distributions(means, precision):\n",
    "    means = torch.from_numpy(means)\n",
    "    n_steps, n_users, n_items = means.shape\n",
    "    fig, axis = plt.subplots(n_users, n_items, figsize=(4 * n_items, 3.25 * n_users))\n",
    "    fig.suptitle(\"Distributions of rating values for user-item pairs\", fontsize=16)\n",
    "\n",
    "    for user_id, row_axes in enumerate(axis):\n",
    "        for item_id, axis in enumerate(row_axes):\n",
    "            axis.set_title(f\"Rating of item {item_id} for user {user_id}\")\n",
    "            user_item_means = means[:, user_id, item_id]\n",
    "            linspace = torch.linspace(\n",
    "                min(user_item_means) - 3, max(user_item_means) + 3, 100\n",
    "            )[:, None]\n",
    "            normal = torch.distributions.Normal(\n",
    "                loc=user_item_means, scale=precision**-0.5\n",
    "            )\n",
    "            pdfs = torch.exp(normal.log_prob(linspace))\n",
    "            mixture = einops.reduce(pdfs, \"delta pdf -> delta\", \"mean\")\n",
    "            axis.plot(linspace, mixture)"
   ]
  },
  {
   "cell_type": "code",
   "execution_count": 39,
   "metadata": {
    "ExecuteTime": {
     "end_time": "2022-09-19T10:44:48.348780Z",
     "start_time": "2022-09-19T10:44:47.040955Z"
    }
   },
   "outputs": [
    {
     "data": {
      "image/png": "[encoded data removed]",
      "text/plain": [
       "<Figure size 1440x702 with 15 Axes>"
      ]
     },
     "metadata": {
      "needs_background": "light"
     },
     "output_type": "display_data"
    },
    {
     "data": {
      "application/javascript": [
       "\n",
       "            setTimeout(function() {\n",
       "                var nbb_cell_id = 39;\n",
       "                var nbb_unformatted_code = \"plot_bayesian_pmf_distributions(\\n    means=(\\n        bpmf_model := bpmf_models[\\\"bpmf\\\"].model.model\\n    ).step_explicit_normal_distribution_means[:, :3, :5],\\n    precision=bpmf_model.alpha,\\n)\";\n",
       "                var nbb_formatted_code = \"plot_bayesian_pmf_distributions(\\n    means=(\\n        bpmf_model := bpmf_models[\\\"bpmf\\\"].model.model\\n    ).step_explicit_normal_distribution_means[:, :3, :5],\\n    precision=bpmf_model.alpha,\\n)\";\n",
       "                var nbb_cells = Jupyter.notebook.get_cells();\n",
       "                for (var i = 0; i < nbb_cells.length; ++i) {\n",
       "                    if (nbb_cells[i].input_prompt_number == nbb_cell_id) {\n",
       "                        if (nbb_cells[i].get_text() == nbb_unformatted_code) {\n",
       "                             nbb_cells[i].set_text(nbb_formatted_code);\n",
       "                        }\n",
       "                        break;\n",
       "                    }\n",
       "                }\n",
       "            }, 500);\n",
       "            "
      ],
      "text/plain": [
       "<IPython.core.display.Javascript object>"
      ]
     },
     "metadata": {},
     "output_type": "display_data"
    }
   ],
   "source": [
    "plot_bayesian_pmf_distributions(\n",
    "    means=(\n",
    "        bpmf_model := bpmf_models[\"bpmf\"].model.model\n",
    "    ).step_explicit_normal_distribution_means[:, :3, :5],\n",
    "    precision=bpmf_model.alpha,\n",
    ")"
   ]
  },
  {
   "cell_type": "markdown",
   "metadata": {},
   "source": [
    "In the current implementation of Bayesian PMF no penalty is associated with missing ratings, it is not assumed that items with missing ratings are less relevant, so predicted ratings are all close to 4 - overall rating mean."
   ]
  },
  {
   "cell_type": "code",
   "execution_count": 40,
   "metadata": {
    "ExecuteTime": {
     "end_time": "2022-09-19T10:45:20.261286Z",
     "start_time": "2022-09-19T10:45:20.243662Z"
    }
   },
   "outputs": [
    {
     "data": {
      "application/javascript": [
       "\n",
       "            setTimeout(function() {\n",
       "                var nbb_cell_id = 40;\n",
       "                var nbb_unformatted_code = \"from implicit.gpu.als import AlternatingLeastSquares\\n\\n\\nclass ALSFiltered(SparseRecommender):\\n    def __init__(self, *args, filtered_train_reviews, **kwargs):\\n        super().__init__(*args, **kwargs)\\n        self.filtered_train_reviews = filtered_train_reviews\\n\\n    def fit(self, reviews):\\n        super().fit(self.filtered_train_reviews)\";\n",
       "                var nbb_formatted_code = \"from implicit.gpu.als import AlternatingLeastSquares\\n\\n\\nclass ALSFiltered(SparseRecommender):\\n    def __init__(self, *args, filtered_train_reviews, **kwargs):\\n        super().__init__(*args, **kwargs)\\n        self.filtered_train_reviews = filtered_train_reviews\\n\\n    def fit(self, reviews):\\n        super().fit(self.filtered_train_reviews)\";\n",
       "                var nbb_cells = Jupyter.notebook.get_cells();\n",
       "                for (var i = 0; i < nbb_cells.length; ++i) {\n",
       "                    if (nbb_cells[i].input_prompt_number == nbb_cell_id) {\n",
       "                        if (nbb_cells[i].get_text() == nbb_unformatted_code) {\n",
       "                             nbb_cells[i].set_text(nbb_formatted_code);\n",
       "                        }\n",
       "                        break;\n",
       "                    }\n",
       "                }\n",
       "            }, 500);\n",
       "            "
      ],
      "text/plain": [
       "<IPython.core.display.Javascript object>"
      ]
     },
     "metadata": {},
     "output_type": "display_data"
    }
   ],
   "source": [
    "from implicit.gpu.als import AlternatingLeastSquares\n",
    "\n",
    "\n",
    "class ALSFiltered(SparseRecommender):\n",
    "    def __init__(self, *args, filtered_train_reviews, **kwargs):\n",
    "        super().__init__(*args, **kwargs)\n",
    "        self.filtered_train_reviews = filtered_train_reviews\n",
    "\n",
    "    def fit(self, reviews):\n",
    "        super().fit(self.filtered_train_reviews)"
   ]
  },
  {
   "cell_type": "code",
   "execution_count": 41,
   "metadata": {
    "ExecuteTime": {
     "end_time": "2022-09-19T10:45:22.104897Z",
     "start_time": "2022-09-19T10:45:20.507966Z"
    }
   },
   "outputs": [
    {
     "data": {
      "application/vnd.jupyter.widget-view+json": {
       "model_id": "3bbe2ad0ee3a4568ac88238c026e38a7",
       "version_major": 2,
       "version_minor": 0
      },
      "text/plain": [
       "  0%|          | 0/15 [00:00<?, ?it/s]"
      ]
     },
     "metadata": {},
     "output_type": "display_data"
    },
    {
     "data": {
      "application/vnd.jupyter.widget-view+json": {
       "model_id": "79eece4fc4e94ecf8ff13c497e138e46",
       "version_major": 2,
       "version_minor": 0
      },
      "text/plain": [
       "  0%|          | 0/15 [00:00<?, ?it/s]"
      ]
     },
     "metadata": {},
     "output_type": "display_data"
    },
    {
     "data": {
      "application/javascript": [
       "\n",
       "            setTimeout(function() {\n",
       "                var nbb_cell_id = 41;\n",
       "                var nbb_unformatted_code = \"als_models = {\\n    \\\"als\\\": SparseRecommender(sparse_interface, AlternatingLeastSquares()),\\n    \\\"als_filtered\\\": ALSFiltered(\\n        sparse_interface,\\n        AlternatingLeastSquares(),\\n        filtered_train_reviews=train_reviews.query(\\\"rating >= 4\\\").assign(rating=1),\\n    ),\\n}\\nassessor.assess(als_models)\";\n",
       "                var nbb_formatted_code = \"als_models = {\\n    \\\"als\\\": SparseRecommender(sparse_interface, AlternatingLeastSquares()),\\n    \\\"als_filtered\\\": ALSFiltered(\\n        sparse_interface,\\n        AlternatingLeastSquares(),\\n        filtered_train_reviews=train_reviews.query(\\\"rating >= 4\\\").assign(rating=1),\\n    ),\\n}\\nassessor.assess(als_models)\";\n",
       "                var nbb_cells = Jupyter.notebook.get_cells();\n",
       "                for (var i = 0; i < nbb_cells.length; ++i) {\n",
       "                    if (nbb_cells[i].input_prompt_number == nbb_cell_id) {\n",
       "                        if (nbb_cells[i].get_text() == nbb_unformatted_code) {\n",
       "                             nbb_cells[i].set_text(nbb_formatted_code);\n",
       "                        }\n",
       "                        break;\n",
       "                    }\n",
       "                }\n",
       "            }, 500);\n",
       "            "
      ],
      "text/plain": [
       "<IPython.core.display.Javascript object>"
      ]
     },
     "metadata": {},
     "output_type": "display_data"
    }
   ],
   "source": [
    "als_models = {\n",
    "    \"als\": SparseRecommender(sparse_interface, AlternatingLeastSquares()),\n",
    "    \"als_filtered\": ALSFiltered(\n",
    "        sparse_interface,\n",
    "        AlternatingLeastSquares(),\n",
    "        filtered_train_reviews=train_reviews.query(\"rating >= 4\").assign(rating=1),\n",
    "    ),\n",
    "}\n",
    "assessor.assess(als_models)"
   ]
  },
  {
   "cell_type": "code",
   "execution_count": 42,
   "metadata": {
    "ExecuteTime": {
     "end_time": "2022-09-19T10:45:22.127457Z",
     "start_time": "2022-09-19T10:45:22.107052Z"
    }
   },
   "outputs": [
    {
     "data": {
      "text/html": [
       "<style type=\"text/css\">\n",
       "#T_46938_row0_col0 {\n",
       "  background-color: #cad8ef;\n",
       "  color: #000000;\n",
       "}\n",
       "#T_46938_row0_col1, #T_46938_row4_col1, #T_46938_row5_col5 {\n",
       "  background-color: #aac7fd;\n",
       "  color: #000000;\n",
       "}\n",
       "#T_46938_row0_col2 {\n",
       "  background-color: #f6a385;\n",
       "  color: #000000;\n",
       "}\n",
       "#T_46938_row0_col3 {\n",
       "  background-color: #dfdbd9;\n",
       "  color: #000000;\n",
       "}\n",
       "#T_46938_row0_col4 {\n",
       "  background-color: #bad0f8;\n",
       "  color: #000000;\n",
       "}\n",
       "#T_46938_row0_col5 {\n",
       "  background-color: #a3c2fe;\n",
       "  color: #000000;\n",
       "}\n",
       "#T_46938_row0_col6, #T_46938_row2_col0, #T_46938_row2_col1, #T_46938_row2_col2, #T_46938_row2_col3, #T_46938_row2_col4, #T_46938_row2_col5, #T_46938_row3_col7, #T_46938_row5_col8 {\n",
       "  background-color: #f4987a;\n",
       "  color: #000000;\n",
       "}\n",
       "#T_46938_row0_col7, #T_46938_row0_col8 {\n",
       "  background-color: #f7b396;\n",
       "  color: #000000;\n",
       "}\n",
       "#T_46938_row0_col9 {\n",
       "  background-color: #edd1c2;\n",
       "  color: #000000;\n",
       "}\n",
       "#T_46938_row1_col0, #T_46938_row2_col6 {\n",
       "  background-color: #eed0c0;\n",
       "  color: #000000;\n",
       "}\n",
       "#T_46938_row1_col1 {\n",
       "  background-color: #f5c4ac;\n",
       "  color: #000000;\n",
       "}\n",
       "#T_46938_row1_col2 {\n",
       "  background-color: #e3d9d3;\n",
       "  color: #000000;\n",
       "}\n",
       "#T_46938_row1_col3 {\n",
       "  background-color: #d1dae9;\n",
       "  color: #000000;\n",
       "}\n",
       "#T_46938_row1_col4, #T_46938_row4_col7 {\n",
       "  background-color: #f2cab5;\n",
       "  color: #000000;\n",
       "}\n",
       "#T_46938_row1_col5 {\n",
       "  background-color: #f7ac8e;\n",
       "  color: #000000;\n",
       "}\n",
       "#T_46938_row1_col6, #T_46938_row3_col1, #T_46938_row3_col3, #T_46938_row3_col5, #T_46938_row3_col8, #T_46938_row3_col9, #T_46938_row4_col0, #T_46938_row4_col2, #T_46938_row4_col4, #T_46938_row5_col0, #T_46938_row5_col2, #T_46938_row5_col4 {\n",
       "  background-color: #8db0fe;\n",
       "  color: #000000;\n",
       "}\n",
       "#T_46938_row1_col7 {\n",
       "  background-color: #8caffe;\n",
       "  color: #000000;\n",
       "}\n",
       "#T_46938_row1_col8 {\n",
       "  background-color: #e2dad5;\n",
       "  color: #000000;\n",
       "}\n",
       "#T_46938_row1_col9, #T_46938_row4_col8 {\n",
       "  background-color: #f49a7b;\n",
       "  color: #000000;\n",
       "}\n",
       "#T_46938_row2_col7 {\n",
       "  background-color: #e0dbd8;\n",
       "  color: #000000;\n",
       "}\n",
       "#T_46938_row2_col8 {\n",
       "  background-color: #92b4fe;\n",
       "  color: #000000;\n",
       "}\n",
       "#T_46938_row2_col9, #T_46938_row4_col5 {\n",
       "  background-color: #a7c5fe;\n",
       "  color: #000000;\n",
       "}\n",
       "#T_46938_row3_col0 {\n",
       "  background-color: #afcafc;\n",
       "  color: #000000;\n",
       "}\n",
       "#T_46938_row3_col2 {\n",
       "  background-color: #d9dce1;\n",
       "  color: #000000;\n",
       "}\n",
       "#T_46938_row3_col4 {\n",
       "  background-color: #a6c4fe;\n",
       "  color: #000000;\n",
       "}\n",
       "#T_46938_row3_col6 {\n",
       "  background-color: #f59d7e;\n",
       "  color: #000000;\n",
       "}\n",
       "#T_46938_row4_col3 {\n",
       "  background-color: #ccd9ed;\n",
       "  color: #000000;\n",
       "}\n",
       "#T_46938_row4_col6 {\n",
       "  background-color: #f59f80;\n",
       "  color: #000000;\n",
       "}\n",
       "#T_46938_row4_col9, #T_46938_row5_col9 {\n",
       "  background-color: #dadce0;\n",
       "  color: #000000;\n",
       "}\n",
       "#T_46938_row5_col1 {\n",
       "  background-color: #b2ccfb;\n",
       "  color: #000000;\n",
       "}\n",
       "#T_46938_row5_col3 {\n",
       "  background-color: #d6dce4;\n",
       "  color: #000000;\n",
       "}\n",
       "#T_46938_row5_col6 {\n",
       "  background-color: #f6a283;\n",
       "  color: #000000;\n",
       "}\n",
       "#T_46938_row5_col7 {\n",
       "  background-color: #f1cdba;\n",
       "  color: #000000;\n",
       "}\n",
       "</style>\n",
       "<table id=\"T_46938\">\n",
       "  <thead>\n",
       "    <tr>\n",
       "      <th class=\"blank level0\" >&nbsp;</th>\n",
       "      <th id=\"T_46938_level0_col0\" class=\"col_heading level0 col0\" >train_mnap</th>\n",
       "      <th id=\"T_46938_level0_col1\" class=\"col_heading level0 col1\" >val_mnap</th>\n",
       "      <th id=\"T_46938_level0_col2\" class=\"col_heading level0 col2\" >train_hitrate</th>\n",
       "      <th id=\"T_46938_level0_col3\" class=\"col_heading level0 col3\" >val_hitrate</th>\n",
       "      <th id=\"T_46938_level0_col4\" class=\"col_heading level0 col4\" >train_mrr</th>\n",
       "      <th id=\"T_46938_level0_col5\" class=\"col_heading level0 col5\" >val_mrr</th>\n",
       "      <th id=\"T_46938_level0_col6\" class=\"col_heading level0 col6\" >train_coverage</th>\n",
       "      <th id=\"T_46938_level0_col7\" class=\"col_heading level0 col7\" >val_coverage</th>\n",
       "      <th id=\"T_46938_level0_col8\" class=\"col_heading level0 col8\" >train_surprisal</th>\n",
       "      <th id=\"T_46938_level0_col9\" class=\"col_heading level0 col9\" >val_surprisal</th>\n",
       "    </tr>\n",
       "  </thead>\n",
       "  <tbody>\n",
       "    <tr>\n",
       "      <th id=\"T_46938_level0_row0\" class=\"row_heading level0 row0\" >random</th>\n",
       "      <td id=\"T_46938_row0_col0\" class=\"data row0 col0\" >0.032909</td>\n",
       "      <td id=\"T_46938_row0_col1\" class=\"data row0 col1\" >0.027927</td>\n",
       "      <td id=\"T_46938_row0_col2\" class=\"data row0 col2\" >0.133627</td>\n",
       "      <td id=\"T_46938_row0_col3\" class=\"data row0 col3\" >0.098266</td>\n",
       "      <td id=\"T_46938_row0_col4\" class=\"data row0 col4\" >0.021530</td>\n",
       "      <td id=\"T_46938_row0_col5\" class=\"data row0 col5\" >0.018505</td>\n",
       "      <td id=\"T_46938_row0_col6\" class=\"data row0 col6\" >1.000000</td>\n",
       "      <td id=\"T_46938_row0_col7\" class=\"data row0 col7\" >0.906977</td>\n",
       "      <td id=\"T_46938_row0_col8\" class=\"data row0 col8\" >0.814839</td>\n",
       "      <td id=\"T_46938_row0_col9\" class=\"data row0 col9\" >0.501585</td>\n",
       "    </tr>\n",
       "    <tr>\n",
       "      <th id=\"T_46938_level0_row1\" class=\"row_heading level0 row1\" >popular</th>\n",
       "      <td id=\"T_46938_row1_col0\" class=\"data row1 col0\" >0.059019</td>\n",
       "      <td id=\"T_46938_row1_col1\" class=\"data row1 col1\" >0.073702</td>\n",
       "      <td id=\"T_46938_row1_col2\" class=\"data row1 col2\" >0.077827</td>\n",
       "      <td id=\"T_46938_row1_col3\" class=\"data row1 col3\" >0.089595</td>\n",
       "      <td id=\"T_46938_row1_col4\" class=\"data row1 col4\" >0.057450</td>\n",
       "      <td id=\"T_46938_row1_col5\" class=\"data row1 col5\" >0.071810</td>\n",
       "      <td id=\"T_46938_row1_col6\" class=\"data row1 col6\" >0.284672</td>\n",
       "      <td id=\"T_46938_row1_col7\" class=\"data row1 col7\" >0.395349</td>\n",
       "      <td id=\"T_46938_row1_col8\" class=\"data row1 col8\" >0.664661</td>\n",
       "      <td id=\"T_46938_row1_col9\" class=\"data row1 col9\" >0.654923</td>\n",
       "    </tr>\n",
       "    <tr>\n",
       "      <th id=\"T_46938_level0_row2\" class=\"row_heading level0 row2\" >slim</th>\n",
       "      <td id=\"T_46938_row2_col0\" class=\"data row2 col0\" >0.090826</td>\n",
       "      <td id=\"T_46938_row2_col1\" class=\"data row2 col1\" >0.092960</td>\n",
       "      <td id=\"T_46938_row2_col2\" class=\"data row2 col2\" >0.140969</td>\n",
       "      <td id=\"T_46938_row2_col3\" class=\"data row2 col3\" >0.138728</td>\n",
       "      <td id=\"T_46938_row2_col4\" class=\"data row2 col4\" >0.081174</td>\n",
       "      <td id=\"T_46938_row2_col5\" class=\"data row2 col5\" >0.078261</td>\n",
       "      <td id=\"T_46938_row2_col6\" class=\"data row2 col6\" >0.751825</td>\n",
       "      <td id=\"T_46938_row2_col7\" class=\"data row2 col7\" >0.709302</td>\n",
       "      <td id=\"T_46938_row2_col8\" class=\"data row2 col8\" >0.425978</td>\n",
       "      <td id=\"T_46938_row2_col9\" class=\"data row2 col9\" >0.289910</td>\n",
       "    </tr>\n",
       "    <tr>\n",
       "      <th id=\"T_46938_level0_row3\" class=\"row_heading level0 row3\" >bpmf</th>\n",
       "      <td id=\"T_46938_row3_col0\" class=\"data row3 col0\" >0.018275</td>\n",
       "      <td id=\"T_46938_row3_col1\" class=\"data row3 col1\" >0.014932</td>\n",
       "      <td id=\"T_46938_row3_col2\" class=\"data row3 col2\" >0.066079</td>\n",
       "      <td id=\"T_46938_row3_col3\" class=\"data row3 col3\" >0.054913</td>\n",
       "      <td id=\"T_46938_row3_col4\" class=\"data row3 col4\" >0.011902</td>\n",
       "      <td id=\"T_46938_row3_col5\" class=\"data row3 col5\" >0.009530</td>\n",
       "      <td id=\"T_46938_row3_col6\" class=\"data row3 col6\" >0.985401</td>\n",
       "      <td id=\"T_46938_row3_col7\" class=\"data row3 col7\" >0.988372</td>\n",
       "      <td id=\"T_46938_row3_col8\" class=\"data row3 col8\" >0.413791</td>\n",
       "      <td id=\"T_46938_row3_col9\" class=\"data row3 col9\" >0.224321</td>\n",
       "    </tr>\n",
       "    <tr>\n",
       "      <th id=\"T_46938_level0_row4\" class=\"row_heading level0 row4\" >als</th>\n",
       "      <td id=\"T_46938_row4_col0\" class=\"data row4 col0\" >0.000000</td>\n",
       "      <td id=\"T_46938_row4_col1\" class=\"data row4 col1\" >0.028106</td>\n",
       "      <td id=\"T_46938_row4_col2\" class=\"data row4 col2\" >0.000000</td>\n",
       "      <td id=\"T_46938_row4_col3\" class=\"data row4 col3\" >0.086705</td>\n",
       "      <td id=\"T_46938_row4_col4\" class=\"data row4 col4\" >0.000000</td>\n",
       "      <td id=\"T_46938_row4_col5\" class=\"data row4 col5\" >0.020146</td>\n",
       "      <td id=\"T_46938_row4_col6\" class=\"data row4 col6\" >0.978102</td>\n",
       "      <td id=\"T_46938_row4_col7\" class=\"data row4 col7\" >0.813953</td>\n",
       "      <td id=\"T_46938_row4_col8\" class=\"data row4 col8\" >0.877083</td>\n",
       "      <td id=\"T_46938_row4_col9\" class=\"data row4 col9\" >0.432690</td>\n",
       "    </tr>\n",
       "    <tr>\n",
       "      <th id=\"T_46938_level0_row5\" class=\"row_heading level0 row5\" >als_filtered</th>\n",
       "      <td id=\"T_46938_row5_col0\" class=\"data row5 col0\" >0.000000</td>\n",
       "      <td id=\"T_46938_row5_col1\" class=\"data row5 col1\" >0.031622</td>\n",
       "      <td id=\"T_46938_row5_col2\" class=\"data row5 col2\" >0.000000</td>\n",
       "      <td id=\"T_46938_row5_col3\" class=\"data row5 col3\" >0.092486</td>\n",
       "      <td id=\"T_46938_row5_col4\" class=\"data row5 col4\" >0.000000</td>\n",
       "      <td id=\"T_46938_row5_col5\" class=\"data row5 col5\" >0.021323</td>\n",
       "      <td id=\"T_46938_row5_col6\" class=\"data row5 col6\" >0.970803</td>\n",
       "      <td id=\"T_46938_row5_col7\" class=\"data row5 col7\" >0.802326</td>\n",
       "      <td id=\"T_46938_row5_col8\" class=\"data row5 col8\" >0.878657</td>\n",
       "      <td id=\"T_46938_row5_col9\" class=\"data row5 col9\" >0.429909</td>\n",
       "    </tr>\n",
       "  </tbody>\n",
       "</table>\n"
      ],
      "text/plain": [
       "<pandas.io.formats.style.Styler at 0x7f0e8d060d00>"
      ]
     },
     "execution_count": 42,
     "metadata": {},
     "output_type": "execute_result"
    },
    {
     "data": {
      "application/javascript": [
       "\n",
       "            setTimeout(function() {\n",
       "                var nbb_cell_id = 42;\n",
       "                var nbb_unformatted_code = \"assessor.show_metrics(\\\"table\\\")\";\n",
       "                var nbb_formatted_code = \"assessor.show_metrics(\\\"table\\\")\";\n",
       "                var nbb_cells = Jupyter.notebook.get_cells();\n",
       "                for (var i = 0; i < nbb_cells.length; ++i) {\n",
       "                    if (nbb_cells[i].input_prompt_number == nbb_cell_id) {\n",
       "                        if (nbb_cells[i].get_text() == nbb_unformatted_code) {\n",
       "                             nbb_cells[i].set_text(nbb_formatted_code);\n",
       "                        }\n",
       "                        break;\n",
       "                    }\n",
       "                }\n",
       "            }, 500);\n",
       "            "
      ],
      "text/plain": [
       "<IPython.core.display.Javascript object>"
      ]
     },
     "metadata": {},
     "output_type": "display_data"
    }
   ],
   "source": [
    "assessor.show_metrics(\"table\")"
   ]
  },
  {
   "cell_type": "markdown",
   "metadata": {},
   "source": [
    "**(1.0 балла) Задание 8.**\n",
    "\n",
    "На [семинаре](https://github.com/monkey0head/recsys_sem) Вам было расказано про бибилиотеку LightFM.\n",
    "Примените ее для нашей задачи. Используя фичи и не используя фичи, сравните результат."
   ]
  },
  {
   "cell_type": "code",
   "execution_count": 781,
   "metadata": {
    "ExecuteTime": {
     "end_time": "2022-09-16T13:13:52.463153Z",
     "start_time": "2022-09-16T13:13:52.406616Z"
    }
   },
   "outputs": [
    {
     "ename": "ModuleNotFoundError",
     "evalue": "No module named 'lightfm'",
     "output_type": "error",
     "traceback": [
      "\u001b[0;31m---------------------------------------------------------------------------\u001b[0m",
      "\u001b[0;31mModuleNotFoundError\u001b[0m                       Traceback (most recent call last)",
      "Input \u001b[0;32mIn [781]\u001b[0m, in \u001b[0;36m<cell line: 1>\u001b[0;34m()\u001b[0m\n\u001b[0;32m----> 1\u001b[0m \u001b[38;5;28;01mfrom\u001b[39;00m \u001b[38;5;21;01mlightfm\u001b[39;00m \u001b[38;5;28;01mimport\u001b[39;00m LightFM\n\u001b[1;32m      4\u001b[0m \u001b[38;5;28;01mclass\u001b[39;00m \u001b[38;5;21;01mLightRecommender\u001b[39;00m(BatchRecommender):\n\u001b[1;32m      5\u001b[0m     \u001b[38;5;28;01mdef\u001b[39;00m \u001b[38;5;21m__init__\u001b[39m(\u001b[38;5;28mself\u001b[39m, \u001b[38;5;241m*\u001b[39margs, feature_importance\u001b[38;5;241m=\u001b[39m\u001b[38;5;241m1\u001b[39m, \u001b[38;5;241m*\u001b[39m\u001b[38;5;241m*\u001b[39mkwargs):\n",
      "\u001b[0;31mModuleNotFoundError\u001b[0m: No module named 'lightfm'"
     ]
    },
    {
     "data": {
      "application/javascript": [
       "\n",
       "            setTimeout(function() {\n",
       "                var nbb_cell_id = 781;\n",
       "                var nbb_unformatted_code = \"from lightfm import LightFM\\n\\n\\nclass LightRecommender(BatchRecommender):\\n    def __init__(self, *args, feature_importance=1, **kwargs):\\n        super().__init__(*args, **kwargs)\\n        self.user_features, self.item_features = self.sparse_interface.scale_features(\\n            feature_importance\\n        )\\n\\n    def fit(self, reviews):\\n        self.model.fit(\\n            interactions=self.sparse_interface.interactions,\\n            sample_weight=self.sparse_interface.interactions_weighted,\\n            user_features=self.user_features,\\n            item_features=self.item_features,\\n            epochs=10,\\n            num_threads=8,\\n            verbose=True,\\n        )\\n        return self\\n\\n    def model_recommend(self, user_ids, interactions):\\n        user_ids, item_ids = np.meshgrid(\\n            user_ids, range(len(self.sparse_interface.organisations)), indexing=\\\"ij\\\"\\n        )\\n\\n        recommendations = self.model.predict(\\n            user_ids=user_ids.flatten(),\\n            item_ids=item_ids.flatten(),\\n            user_features=self.user_features,\\n            item_features=self.item_features,\\n            num_threads=8,\\n        ).reshape(user_ids.shape)\\n\\n        return recommendations\";\n",
       "                var nbb_formatted_code = \"from lightfm import LightFM\\n\\n\\nclass LightRecommender(BatchRecommender):\\n    def __init__(self, *args, feature_importance=1, **kwargs):\\n        super().__init__(*args, **kwargs)\\n        self.user_features, self.item_features = self.sparse_interface.scale_features(\\n            feature_importance\\n        )\\n\\n    def fit(self, reviews):\\n        self.model.fit(\\n            interactions=self.sparse_interface.interactions,\\n            sample_weight=self.sparse_interface.interactions_weighted,\\n            user_features=self.user_features,\\n            item_features=self.item_features,\\n            epochs=10,\\n            num_threads=8,\\n            verbose=True,\\n        )\\n        return self\\n\\n    def model_recommend(self, user_ids, interactions):\\n        user_ids, item_ids = np.meshgrid(\\n            user_ids, range(len(self.sparse_interface.organisations)), indexing=\\\"ij\\\"\\n        )\\n\\n        recommendations = self.model.predict(\\n            user_ids=user_ids.flatten(),\\n            item_ids=item_ids.flatten(),\\n            user_features=self.user_features,\\n            item_features=self.item_features,\\n            num_threads=8,\\n        ).reshape(user_ids.shape)\\n\\n        return recommendations\";\n",
       "                var nbb_cells = Jupyter.notebook.get_cells();\n",
       "                for (var i = 0; i < nbb_cells.length; ++i) {\n",
       "                    if (nbb_cells[i].input_prompt_number == nbb_cell_id) {\n",
       "                        if (nbb_cells[i].get_text() == nbb_unformatted_code) {\n",
       "                             nbb_cells[i].set_text(nbb_formatted_code);\n",
       "                        }\n",
       "                        break;\n",
       "                    }\n",
       "                }\n",
       "            }, 500);\n",
       "            "
      ],
      "text/plain": [
       "<IPython.core.display.Javascript object>"
      ]
     },
     "metadata": {},
     "output_type": "display_data"
    }
   ],
   "source": [
    "from lightfm import LightFM\n",
    "\n",
    "\n",
    "class LightRecommender(BatchRecommender):\n",
    "    def __init__(self, *args, feature_importance=1, **kwargs):\n",
    "        super().__init__(*args, **kwargs)\n",
    "        self.user_features, self.item_features = self.sparse_interface.scale_features(\n",
    "            feature_importance\n",
    "        )\n",
    "\n",
    "    def fit(self, reviews):\n",
    "        self.model.fit(\n",
    "            interactions=self.sparse_interface.interactions,\n",
    "            sample_weight=self.sparse_interface.interactions_weighted,\n",
    "            user_features=self.user_features,\n",
    "            item_features=self.item_features,\n",
    "            epochs=10,\n",
    "            num_threads=8,\n",
    "            verbose=True,\n",
    "        )\n",
    "        return self\n",
    "\n",
    "    def model_recommend(self, user_ids, interactions):\n",
    "        user_ids, item_ids = np.meshgrid(\n",
    "            user_ids, range(len(self.sparse_interface.organisations)), indexing=\"ij\"\n",
    "        )\n",
    "\n",
    "        recommendations = self.model.predict(\n",
    "            user_ids=user_ids.flatten(),\n",
    "            item_ids=item_ids.flatten(),\n",
    "            user_features=self.user_features,\n",
    "            item_features=self.item_features,\n",
    "            num_threads=8,\n",
    "        ).reshape(user_ids.shape)\n",
    "\n",
    "        return recommendations"
   ]
  },
  {
   "cell_type": "code",
   "execution_count": null,
   "metadata": {
    "ExecuteTime": {
     "start_time": "2022-08-14T18:11:06.203Z"
    },
    "scrolled": true
   },
   "outputs": [],
   "source": [
    "light_models = {\n",
    "    f\"light_feature_importance_{feature_importance}\": LightRecommender(\n",
    "        sparse_interface, LightFM(), feature_importance=feature_importance\n",
    "    )\n",
    "    for feature_importance in [0, 0.1, 0.25, 0.5]\n",
    "}\n",
    "assessor.assess(light_models)"
   ]
  },
  {
   "cell_type": "code",
   "execution_count": 61,
   "metadata": {
    "ExecuteTime": {
     "end_time": "2022-08-15T06:01:08.813424Z",
     "start_time": "2022-08-15T06:01:08.726911Z"
    }
   },
   "outputs": [
    {
     "data": {
      "text/html": [
       "<style  type=\"text/css\" >\n",
       "#T_a834bbb6_1c5f_11ed_b4f6_ac1f6b2cd28arow0_col0,#T_a834bbb6_1c5f_11ed_b4f6_ac1f6b2cd28arow0_col1,#T_a834bbb6_1c5f_11ed_b4f6_ac1f6b2cd28arow0_col2,#T_a834bbb6_1c5f_11ed_b4f6_ac1f6b2cd28arow0_col3,#T_a834bbb6_1c5f_11ed_b4f6_ac1f6b2cd28arow0_col4,#T_a834bbb6_1c5f_11ed_b4f6_ac1f6b2cd28arow0_col5,#T_a834bbb6_1c5f_11ed_b4f6_ac1f6b2cd28arow1_col0,#T_a834bbb6_1c5f_11ed_b4f6_ac1f6b2cd28arow1_col6,#T_a834bbb6_1c5f_11ed_b4f6_ac1f6b2cd28arow1_col7,#T_a834bbb6_1c5f_11ed_b4f6_ac1f6b2cd28arow5_col6,#T_a834bbb6_1c5f_11ed_b4f6_ac1f6b2cd28arow6_col6,#T_a834bbb6_1c5f_11ed_b4f6_ac1f6b2cd28arow15_col0,#T_a834bbb6_1c5f_11ed_b4f6_ac1f6b2cd28arow15_col2,#T_a834bbb6_1c5f_11ed_b4f6_ac1f6b2cd28arow15_col4,#T_a834bbb6_1c5f_11ed_b4f6_ac1f6b2cd28arow16_col0,#T_a834bbb6_1c5f_11ed_b4f6_ac1f6b2cd28arow16_col2,#T_a834bbb6_1c5f_11ed_b4f6_ac1f6b2cd28arow16_col4,#T_a834bbb6_1c5f_11ed_b4f6_ac1f6b2cd28arow17_col6,#T_a834bbb6_1c5f_11ed_b4f6_ac1f6b2cd28arow17_col7,#T_a834bbb6_1c5f_11ed_b4f6_ac1f6b2cd28arow18_col0,#T_a834bbb6_1c5f_11ed_b4f6_ac1f6b2cd28arow18_col1,#T_a834bbb6_1c5f_11ed_b4f6_ac1f6b2cd28arow18_col2,#T_a834bbb6_1c5f_11ed_b4f6_ac1f6b2cd28arow18_col3,#T_a834bbb6_1c5f_11ed_b4f6_ac1f6b2cd28arow18_col4,#T_a834bbb6_1c5f_11ed_b4f6_ac1f6b2cd28arow18_col5,#T_a834bbb6_1c5f_11ed_b4f6_ac1f6b2cd28arow18_col6,#T_a834bbb6_1c5f_11ed_b4f6_ac1f6b2cd28arow18_col7,#T_a834bbb6_1c5f_11ed_b4f6_ac1f6b2cd28arow19_col0,#T_a834bbb6_1c5f_11ed_b4f6_ac1f6b2cd28arow19_col1,#T_a834bbb6_1c5f_11ed_b4f6_ac1f6b2cd28arow19_col2,#T_a834bbb6_1c5f_11ed_b4f6_ac1f6b2cd28arow19_col3,#T_a834bbb6_1c5f_11ed_b4f6_ac1f6b2cd28arow19_col4,#T_a834bbb6_1c5f_11ed_b4f6_ac1f6b2cd28arow19_col5,#T_a834bbb6_1c5f_11ed_b4f6_ac1f6b2cd28arow19_col6,#T_a834bbb6_1c5f_11ed_b4f6_ac1f6b2cd28arow19_col9,#T_a834bbb6_1c5f_11ed_b4f6_ac1f6b2cd28arow20_col0,#T_a834bbb6_1c5f_11ed_b4f6_ac1f6b2cd28arow20_col1,#T_a834bbb6_1c5f_11ed_b4f6_ac1f6b2cd28arow20_col2,#T_a834bbb6_1c5f_11ed_b4f6_ac1f6b2cd28arow20_col3,#T_a834bbb6_1c5f_11ed_b4f6_ac1f6b2cd28arow20_col4,#T_a834bbb6_1c5f_11ed_b4f6_ac1f6b2cd28arow20_col5,#T_a834bbb6_1c5f_11ed_b4f6_ac1f6b2cd28arow20_col6,#T_a834bbb6_1c5f_11ed_b4f6_ac1f6b2cd28arow20_col7{\n",
       "            background-color:  #8db0fe;\n",
       "            color:  #000000;\n",
       "        }#T_a834bbb6_1c5f_11ed_b4f6_ac1f6b2cd28arow0_col6,#T_a834bbb6_1c5f_11ed_b4f6_ac1f6b2cd28arow0_col8,#T_a834bbb6_1c5f_11ed_b4f6_ac1f6b2cd28arow3_col3,#T_a834bbb6_1c5f_11ed_b4f6_ac1f6b2cd28arow14_col0,#T_a834bbb6_1c5f_11ed_b4f6_ac1f6b2cd28arow14_col2,#T_a834bbb6_1c5f_11ed_b4f6_ac1f6b2cd28arow14_col4,#T_a834bbb6_1c5f_11ed_b4f6_ac1f6b2cd28arow14_col9,#T_a834bbb6_1c5f_11ed_b4f6_ac1f6b2cd28arow16_col1,#T_a834bbb6_1c5f_11ed_b4f6_ac1f6b2cd28arow16_col5{\n",
       "            background-color:  #f4987a;\n",
       "            color:  #000000;\n",
       "        }#T_a834bbb6_1c5f_11ed_b4f6_ac1f6b2cd28arow0_col7,#T_a834bbb6_1c5f_11ed_b4f6_ac1f6b2cd28arow2_col6,#T_a834bbb6_1c5f_11ed_b4f6_ac1f6b2cd28arow15_col1,#T_a834bbb6_1c5f_11ed_b4f6_ac1f6b2cd28arow15_col5{\n",
       "            background-color:  #f49a7b;\n",
       "            color:  #000000;\n",
       "        }#T_a834bbb6_1c5f_11ed_b4f6_ac1f6b2cd28arow0_col9,#T_a834bbb6_1c5f_11ed_b4f6_ac1f6b2cd28arow8_col9,#T_a834bbb6_1c5f_11ed_b4f6_ac1f6b2cd28arow15_col9{\n",
       "            background-color:  #f3c7b1;\n",
       "            color:  #000000;\n",
       "        }#T_a834bbb6_1c5f_11ed_b4f6_ac1f6b2cd28arow1_col1{\n",
       "            background-color:  #9bbcff;\n",
       "            color:  #000000;\n",
       "        }#T_a834bbb6_1c5f_11ed_b4f6_ac1f6b2cd28arow1_col2,#T_a834bbb6_1c5f_11ed_b4f6_ac1f6b2cd28arow7_col7,#T_a834bbb6_1c5f_11ed_b4f6_ac1f6b2cd28arow8_col6,#T_a834bbb6_1c5f_11ed_b4f6_ac1f6b2cd28arow15_col6,#T_a834bbb6_1c5f_11ed_b4f6_ac1f6b2cd28arow16_col6{\n",
       "            background-color:  #90b2fe;\n",
       "            color:  #000000;\n",
       "        }#T_a834bbb6_1c5f_11ed_b4f6_ac1f6b2cd28arow1_col3,#T_a834bbb6_1c5f_11ed_b4f6_ac1f6b2cd28arow10_col6{\n",
       "            background-color:  #98b9ff;\n",
       "            color:  #000000;\n",
       "        }#T_a834bbb6_1c5f_11ed_b4f6_ac1f6b2cd28arow1_col4,#T_a834bbb6_1c5f_11ed_b4f6_ac1f6b2cd28arow5_col7,#T_a834bbb6_1c5f_11ed_b4f6_ac1f6b2cd28arow6_col7,#T_a834bbb6_1c5f_11ed_b4f6_ac1f6b2cd28arow7_col6{\n",
       "            background-color:  #8fb1fe;\n",
       "            color:  #000000;\n",
       "        }#T_a834bbb6_1c5f_11ed_b4f6_ac1f6b2cd28arow1_col5,#T_a834bbb6_1c5f_11ed_b4f6_ac1f6b2cd28arow10_col7{\n",
       "            background-color:  #9ebeff;\n",
       "            color:  #000000;\n",
       "        }#T_a834bbb6_1c5f_11ed_b4f6_ac1f6b2cd28arow1_col8{\n",
       "            background-color:  #d8dce2;\n",
       "            color:  #000000;\n",
       "        }#T_a834bbb6_1c5f_11ed_b4f6_ac1f6b2cd28arow1_col9{\n",
       "            background-color:  #ebd3c6;\n",
       "            color:  #000000;\n",
       "        }#T_a834bbb6_1c5f_11ed_b4f6_ac1f6b2cd28arow2_col0,#T_a834bbb6_1c5f_11ed_b4f6_ac1f6b2cd28arow3_col0,#T_a834bbb6_1c5f_11ed_b4f6_ac1f6b2cd28arow4_col0,#T_a834bbb6_1c5f_11ed_b4f6_ac1f6b2cd28arow17_col8{\n",
       "            background-color:  #cedaeb;\n",
       "            color:  #000000;\n",
       "        }#T_a834bbb6_1c5f_11ed_b4f6_ac1f6b2cd28arow2_col1{\n",
       "            background-color:  #c7d7f0;\n",
       "            color:  #000000;\n",
       "        }#T_a834bbb6_1c5f_11ed_b4f6_ac1f6b2cd28arow2_col2,#T_a834bbb6_1c5f_11ed_b4f6_ac1f6b2cd28arow3_col2,#T_a834bbb6_1c5f_11ed_b4f6_ac1f6b2cd28arow4_col2,#T_a834bbb6_1c5f_11ed_b4f6_ac1f6b2cd28arow7_col2,#T_a834bbb6_1c5f_11ed_b4f6_ac1f6b2cd28arow9_col0{\n",
       "            background-color:  #ccd9ed;\n",
       "            color:  #000000;\n",
       "        }#T_a834bbb6_1c5f_11ed_b4f6_ac1f6b2cd28arow2_col3,#T_a834bbb6_1c5f_11ed_b4f6_ac1f6b2cd28arow12_col0,#T_a834bbb6_1c5f_11ed_b4f6_ac1f6b2cd28arow17_col3{\n",
       "            background-color:  #f5c2aa;\n",
       "            color:  #000000;\n",
       "        }#T_a834bbb6_1c5f_11ed_b4f6_ac1f6b2cd28arow2_col4,#T_a834bbb6_1c5f_11ed_b4f6_ac1f6b2cd28arow3_col4,#T_a834bbb6_1c5f_11ed_b4f6_ac1f6b2cd28arow4_col4,#T_a834bbb6_1c5f_11ed_b4f6_ac1f6b2cd28arow12_col1{\n",
       "            background-color:  #cdd9ec;\n",
       "            color:  #000000;\n",
       "        }#T_a834bbb6_1c5f_11ed_b4f6_ac1f6b2cd28arow2_col5{\n",
       "            background-color:  #bfd3f6;\n",
       "            color:  #000000;\n",
       "        }#T_a834bbb6_1c5f_11ed_b4f6_ac1f6b2cd28arow2_col7,#T_a834bbb6_1c5f_11ed_b4f6_ac1f6b2cd28arow4_col6,#T_a834bbb6_1c5f_11ed_b4f6_ac1f6b2cd28arow4_col7{\n",
       "            background-color:  #f59c7d;\n",
       "            color:  #000000;\n",
       "        }#T_a834bbb6_1c5f_11ed_b4f6_ac1f6b2cd28arow2_col8,#T_a834bbb6_1c5f_11ed_b4f6_ac1f6b2cd28arow3_col9,#T_a834bbb6_1c5f_11ed_b4f6_ac1f6b2cd28arow13_col2,#T_a834bbb6_1c5f_11ed_b4f6_ac1f6b2cd28arow13_col4{\n",
       "            background-color:  #f6a586;\n",
       "            color:  #000000;\n",
       "        }#T_a834bbb6_1c5f_11ed_b4f6_ac1f6b2cd28arow2_col9,#T_a834bbb6_1c5f_11ed_b4f6_ac1f6b2cd28arow4_col9,#T_a834bbb6_1c5f_11ed_b4f6_ac1f6b2cd28arow9_col8{\n",
       "            background-color:  #edd2c3;\n",
       "            color:  #000000;\n",
       "        }#T_a834bbb6_1c5f_11ed_b4f6_ac1f6b2cd28arow3_col1,#T_a834bbb6_1c5f_11ed_b4f6_ac1f6b2cd28arow8_col4,#T_a834bbb6_1c5f_11ed_b4f6_ac1f6b2cd28arow10_col5{\n",
       "            background-color:  #d2dbe8;\n",
       "            color:  #000000;\n",
       "        }#T_a834bbb6_1c5f_11ed_b4f6_ac1f6b2cd28arow3_col5{\n",
       "            background-color:  #cbd8ee;\n",
       "            color:  #000000;\n",
       "        }#T_a834bbb6_1c5f_11ed_b4f6_ac1f6b2cd28arow3_col6,#T_a834bbb6_1c5f_11ed_b4f6_ac1f6b2cd28arow14_col8{\n",
       "            background-color:  #f5a081;\n",
       "            color:  #000000;\n",
       "        }#T_a834bbb6_1c5f_11ed_b4f6_ac1f6b2cd28arow3_col7,#T_a834bbb6_1c5f_11ed_b4f6_ac1f6b2cd28arow13_col9{\n",
       "            background-color:  #f59f80;\n",
       "            color:  #000000;\n",
       "        }#T_a834bbb6_1c5f_11ed_b4f6_ac1f6b2cd28arow3_col8,#T_a834bbb6_1c5f_11ed_b4f6_ac1f6b2cd28arow5_col3,#T_a834bbb6_1c5f_11ed_b4f6_ac1f6b2cd28arow12_col2{\n",
       "            background-color:  #f7b194;\n",
       "            color:  #000000;\n",
       "        }#T_a834bbb6_1c5f_11ed_b4f6_ac1f6b2cd28arow4_col1,#T_a834bbb6_1c5f_11ed_b4f6_ac1f6b2cd28arow12_col7{\n",
       "            background-color:  #c4d5f3;\n",
       "            color:  #000000;\n",
       "        }#T_a834bbb6_1c5f_11ed_b4f6_ac1f6b2cd28arow4_col3{\n",
       "            background-color:  #f2cab5;\n",
       "            color:  #000000;\n",
       "        }#T_a834bbb6_1c5f_11ed_b4f6_ac1f6b2cd28arow4_col5{\n",
       "            background-color:  #bcd2f7;\n",
       "            color:  #000000;\n",
       "        }#T_a834bbb6_1c5f_11ed_b4f6_ac1f6b2cd28arow4_col8{\n",
       "            background-color:  #f6a283;\n",
       "            color:  #000000;\n",
       "        }#T_a834bbb6_1c5f_11ed_b4f6_ac1f6b2cd28arow5_col0{\n",
       "            background-color:  #a5c3fe;\n",
       "            color:  #000000;\n",
       "        }#T_a834bbb6_1c5f_11ed_b4f6_ac1f6b2cd28arow5_col1{\n",
       "            background-color:  #f7a688;\n",
       "            color:  #000000;\n",
       "        }#T_a834bbb6_1c5f_11ed_b4f6_ac1f6b2cd28arow5_col2,#T_a834bbb6_1c5f_11ed_b4f6_ac1f6b2cd28arow12_col5,#T_a834bbb6_1c5f_11ed_b4f6_ac1f6b2cd28arow13_col1{\n",
       "            background-color:  #c0d4f5;\n",
       "            color:  #000000;\n",
       "        }#T_a834bbb6_1c5f_11ed_b4f6_ac1f6b2cd28arow5_col4{\n",
       "            background-color:  #b1cbfc;\n",
       "            color:  #000000;\n",
       "        }#T_a834bbb6_1c5f_11ed_b4f6_ac1f6b2cd28arow5_col5,#T_a834bbb6_1c5f_11ed_b4f6_ac1f6b2cd28arow14_col6{\n",
       "            background-color:  #f7b396;\n",
       "            color:  #000000;\n",
       "        }#T_a834bbb6_1c5f_11ed_b4f6_ac1f6b2cd28arow5_col8,#T_a834bbb6_1c5f_11ed_b4f6_ac1f6b2cd28arow8_col2,#T_a834bbb6_1c5f_11ed_b4f6_ac1f6b2cd28arow9_col5{\n",
       "            background-color:  #d7dce3;\n",
       "            color:  #000000;\n",
       "        }#T_a834bbb6_1c5f_11ed_b4f6_ac1f6b2cd28arow5_col9,#T_a834bbb6_1c5f_11ed_b4f6_ac1f6b2cd28arow7_col1,#T_a834bbb6_1c5f_11ed_b4f6_ac1f6b2cd28arow11_col0{\n",
       "            background-color:  #ead4c8;\n",
       "            color:  #000000;\n",
       "        }#T_a834bbb6_1c5f_11ed_b4f6_ac1f6b2cd28arow6_col0,#T_a834bbb6_1c5f_11ed_b4f6_ac1f6b2cd28arow14_col1{\n",
       "            background-color:  #aac7fd;\n",
       "            color:  #000000;\n",
       "        }#T_a834bbb6_1c5f_11ed_b4f6_ac1f6b2cd28arow6_col1{\n",
       "            background-color:  #f7b99e;\n",
       "            color:  #000000;\n",
       "        }#T_a834bbb6_1c5f_11ed_b4f6_ac1f6b2cd28arow6_col2{\n",
       "            background-color:  #c3d5f4;\n",
       "            color:  #000000;\n",
       "        }#T_a834bbb6_1c5f_11ed_b4f6_ac1f6b2cd28arow6_col3,#T_a834bbb6_1c5f_11ed_b4f6_ac1f6b2cd28arow17_col1{\n",
       "            background-color:  #f7b79b;\n",
       "            color:  #000000;\n",
       "        }#T_a834bbb6_1c5f_11ed_b4f6_ac1f6b2cd28arow6_col4{\n",
       "            background-color:  #bbd1f8;\n",
       "            color:  #000000;\n",
       "        }#T_a834bbb6_1c5f_11ed_b4f6_ac1f6b2cd28arow6_col5,#T_a834bbb6_1c5f_11ed_b4f6_ac1f6b2cd28arow11_col4,#T_a834bbb6_1c5f_11ed_b4f6_ac1f6b2cd28arow16_col9{\n",
       "            background-color:  #f4c6af;\n",
       "            color:  #000000;\n",
       "        }#T_a834bbb6_1c5f_11ed_b4f6_ac1f6b2cd28arow6_col8{\n",
       "            background-color:  #dadce0;\n",
       "            color:  #000000;\n",
       "        }#T_a834bbb6_1c5f_11ed_b4f6_ac1f6b2cd28arow6_col9,#T_a834bbb6_1c5f_11ed_b4f6_ac1f6b2cd28arow10_col4{\n",
       "            background-color:  #ecd3c5;\n",
       "            color:  #000000;\n",
       "        }#T_a834bbb6_1c5f_11ed_b4f6_ac1f6b2cd28arow7_col0,#T_a834bbb6_1c5f_11ed_b4f6_ac1f6b2cd28arow13_col5{\n",
       "            background-color:  #b3cdfb;\n",
       "            color:  #000000;\n",
       "        }#T_a834bbb6_1c5f_11ed_b4f6_ac1f6b2cd28arow7_col3{\n",
       "            background-color:  #eed0c0;\n",
       "            color:  #000000;\n",
       "        }#T_a834bbb6_1c5f_11ed_b4f6_ac1f6b2cd28arow7_col4,#T_a834bbb6_1c5f_11ed_b4f6_ac1f6b2cd28arow13_col3{\n",
       "            background-color:  #c6d6f1;\n",
       "            color:  #000000;\n",
       "        }#T_a834bbb6_1c5f_11ed_b4f6_ac1f6b2cd28arow7_col5{\n",
       "            background-color:  #e2dad5;\n",
       "            color:  #000000;\n",
       "        }#T_a834bbb6_1c5f_11ed_b4f6_ac1f6b2cd28arow7_col8,#T_a834bbb6_1c5f_11ed_b4f6_ac1f6b2cd28arow8_col1,#T_a834bbb6_1c5f_11ed_b4f6_ac1f6b2cd28arow9_col3{\n",
       "            background-color:  #e3d9d3;\n",
       "            color:  #000000;\n",
       "        }#T_a834bbb6_1c5f_11ed_b4f6_ac1f6b2cd28arow7_col9{\n",
       "            background-color:  #f1ccb8;\n",
       "            color:  #000000;\n",
       "        }#T_a834bbb6_1c5f_11ed_b4f6_ac1f6b2cd28arow8_col0{\n",
       "            background-color:  #bed2f6;\n",
       "            color:  #000000;\n",
       "        }#T_a834bbb6_1c5f_11ed_b4f6_ac1f6b2cd28arow8_col3{\n",
       "            background-color:  #e7d7ce;\n",
       "            color:  #000000;\n",
       "        }#T_a834bbb6_1c5f_11ed_b4f6_ac1f6b2cd28arow8_col5,#T_a834bbb6_1c5f_11ed_b4f6_ac1f6b2cd28arow10_col0{\n",
       "            background-color:  #dbdcde;\n",
       "            color:  #000000;\n",
       "        }#T_a834bbb6_1c5f_11ed_b4f6_ac1f6b2cd28arow8_col7,#T_a834bbb6_1c5f_11ed_b4f6_ac1f6b2cd28arow15_col7,#T_a834bbb6_1c5f_11ed_b4f6_ac1f6b2cd28arow16_col7{\n",
       "            background-color:  #92b4fe;\n",
       "            color:  #000000;\n",
       "        }#T_a834bbb6_1c5f_11ed_b4f6_ac1f6b2cd28arow8_col8,#T_a834bbb6_1c5f_11ed_b4f6_ac1f6b2cd28arow15_col8,#T_a834bbb6_1c5f_11ed_b4f6_ac1f6b2cd28arow16_col8{\n",
       "            background-color:  #e8d6cc;\n",
       "            color:  #000000;\n",
       "        }#T_a834bbb6_1c5f_11ed_b4f6_ac1f6b2cd28arow9_col1{\n",
       "            background-color:  #dfdbd9;\n",
       "            color:  #000000;\n",
       "        }#T_a834bbb6_1c5f_11ed_b4f6_ac1f6b2cd28arow9_col2,#T_a834bbb6_1c5f_11ed_b4f6_ac1f6b2cd28arow17_col9{\n",
       "            background-color:  #e5d8d1;\n",
       "            color:  #000000;\n",
       "        }#T_a834bbb6_1c5f_11ed_b4f6_ac1f6b2cd28arow9_col4{\n",
       "            background-color:  #e0dbd8;\n",
       "            color:  #000000;\n",
       "        }#T_a834bbb6_1c5f_11ed_b4f6_ac1f6b2cd28arow9_col6{\n",
       "            background-color:  #93b5fe;\n",
       "            color:  #000000;\n",
       "        }#T_a834bbb6_1c5f_11ed_b4f6_ac1f6b2cd28arow9_col7{\n",
       "            background-color:  #96b7ff;\n",
       "            color:  #000000;\n",
       "        }#T_a834bbb6_1c5f_11ed_b4f6_ac1f6b2cd28arow9_col9{\n",
       "            background-color:  #f5c1a9;\n",
       "            color:  #000000;\n",
       "        }#T_a834bbb6_1c5f_11ed_b4f6_ac1f6b2cd28arow10_col1{\n",
       "            background-color:  #dcdddd;\n",
       "            color:  #000000;\n",
       "        }#T_a834bbb6_1c5f_11ed_b4f6_ac1f6b2cd28arow10_col2,#T_a834bbb6_1c5f_11ed_b4f6_ac1f6b2cd28arow10_col8{\n",
       "            background-color:  #f0cdbb;\n",
       "            color:  #000000;\n",
       "        }#T_a834bbb6_1c5f_11ed_b4f6_ac1f6b2cd28arow10_col3,#T_a834bbb6_1c5f_11ed_b4f6_ac1f6b2cd28arow13_col6{\n",
       "            background-color:  #e1dad6;\n",
       "            color:  #000000;\n",
       "        }#T_a834bbb6_1c5f_11ed_b4f6_ac1f6b2cd28arow10_col9{\n",
       "            background-color:  #f7bca1;\n",
       "            color:  #000000;\n",
       "        }#T_a834bbb6_1c5f_11ed_b4f6_ac1f6b2cd28arow11_col1{\n",
       "            background-color:  #d6dce4;\n",
       "            color:  #000000;\n",
       "        }#T_a834bbb6_1c5f_11ed_b4f6_ac1f6b2cd28arow11_col2,#T_a834bbb6_1c5f_11ed_b4f6_ac1f6b2cd28arow12_col8{\n",
       "            background-color:  #f5c0a7;\n",
       "            color:  #000000;\n",
       "        }#T_a834bbb6_1c5f_11ed_b4f6_ac1f6b2cd28arow11_col3{\n",
       "            background-color:  #dddcdc;\n",
       "            color:  #000000;\n",
       "        }#T_a834bbb6_1c5f_11ed_b4f6_ac1f6b2cd28arow11_col5{\n",
       "            background-color:  #c9d7f0;\n",
       "            color:  #000000;\n",
       "        }#T_a834bbb6_1c5f_11ed_b4f6_ac1f6b2cd28arow11_col6,#T_a834bbb6_1c5f_11ed_b4f6_ac1f6b2cd28arow14_col5{\n",
       "            background-color:  #a2c1ff;\n",
       "            color:  #000000;\n",
       "        }#T_a834bbb6_1c5f_11ed_b4f6_ac1f6b2cd28arow11_col7{\n",
       "            background-color:  #abc8fd;\n",
       "            color:  #000000;\n",
       "        }#T_a834bbb6_1c5f_11ed_b4f6_ac1f6b2cd28arow11_col8{\n",
       "            background-color:  #f3c8b2;\n",
       "            color:  #000000;\n",
       "        }#T_a834bbb6_1c5f_11ed_b4f6_ac1f6b2cd28arow11_col9,#T_a834bbb6_1c5f_11ed_b4f6_ac1f6b2cd28arow13_col8{\n",
       "            background-color:  #f7b497;\n",
       "            color:  #000000;\n",
       "        }#T_a834bbb6_1c5f_11ed_b4f6_ac1f6b2cd28arow12_col3{\n",
       "            background-color:  #d5dbe5;\n",
       "            color:  #000000;\n",
       "        }#T_a834bbb6_1c5f_11ed_b4f6_ac1f6b2cd28arow12_col4{\n",
       "            background-color:  #f7b599;\n",
       "            color:  #000000;\n",
       "        }#T_a834bbb6_1c5f_11ed_b4f6_ac1f6b2cd28arow12_col6{\n",
       "            background-color:  #b5cdfa;\n",
       "            color:  #000000;\n",
       "        }#T_a834bbb6_1c5f_11ed_b4f6_ac1f6b2cd28arow12_col9,#T_a834bbb6_1c5f_11ed_b4f6_ac1f6b2cd28arow14_col7{\n",
       "            background-color:  #f7aa8c;\n",
       "            color:  #000000;\n",
       "        }#T_a834bbb6_1c5f_11ed_b4f6_ac1f6b2cd28arow13_col0,#T_a834bbb6_1c5f_11ed_b4f6_ac1f6b2cd28arow15_col3,#T_a834bbb6_1c5f_11ed_b4f6_ac1f6b2cd28arow16_col3{\n",
       "            background-color:  #f7ac8e;\n",
       "            color:  #000000;\n",
       "        }#T_a834bbb6_1c5f_11ed_b4f6_ac1f6b2cd28arow13_col7{\n",
       "            background-color:  #efcfbf;\n",
       "            color:  #000000;\n",
       "        }#T_a834bbb6_1c5f_11ed_b4f6_ac1f6b2cd28arow14_col3{\n",
       "            background-color:  #aec9fc;\n",
       "            color:  #000000;\n",
       "        }#T_a834bbb6_1c5f_11ed_b4f6_ac1f6b2cd28arow17_col0{\n",
       "            background-color:  #9abbff;\n",
       "            color:  #000000;\n",
       "        }#T_a834bbb6_1c5f_11ed_b4f6_ac1f6b2cd28arow17_col2{\n",
       "            background-color:  #b7cff9;\n",
       "            color:  #000000;\n",
       "        }#T_a834bbb6_1c5f_11ed_b4f6_ac1f6b2cd28arow17_col4{\n",
       "            background-color:  #9fbfff;\n",
       "            color:  #000000;\n",
       "        }#T_a834bbb6_1c5f_11ed_b4f6_ac1f6b2cd28arow17_col5{\n",
       "            background-color:  #f6bfa6;\n",
       "            color:  #000000;\n",
       "        }#T_a834bbb6_1c5f_11ed_b4f6_ac1f6b2cd28arow18_col8{\n",
       "            background-color:  #afcafc;\n",
       "            color:  #000000;\n",
       "        }#T_a834bbb6_1c5f_11ed_b4f6_ac1f6b2cd28arow18_col9{\n",
       "            background-color:  #97b8ff;\n",
       "            color:  #000000;\n",
       "        }#T_a834bbb6_1c5f_11ed_b4f6_ac1f6b2cd28arow19_col7,#T_a834bbb6_1c5f_11ed_b4f6_ac1f6b2cd28arow20_col8{\n",
       "            background-color:  #8caffe;\n",
       "            color:  #000000;\n",
       "        }#T_a834bbb6_1c5f_11ed_b4f6_ac1f6b2cd28arow19_col8{\n",
       "            background-color:  #e9d5cb;\n",
       "            color:  #000000;\n",
       "        }#T_a834bbb6_1c5f_11ed_b4f6_ac1f6b2cd28arow20_col9{\n",
       "            background-color:  #a1c0ff;\n",
       "            color:  #000000;\n",
       "        }</style><table id=\"T_a834bbb6_1c5f_11ed_b4f6_ac1f6b2cd28a\" ><thead>    <tr>        <th class=\"blank level0\" ></th>        <th class=\"col_heading level0 col0\" >train_mnap</th>        <th class=\"col_heading level0 col1\" >val_mnap</th>        <th class=\"col_heading level0 col2\" >train_hitrate</th>        <th class=\"col_heading level0 col3\" >val_hitrate</th>        <th class=\"col_heading level0 col4\" >train_mrr</th>        <th class=\"col_heading level0 col5\" >val_mrr</th>        <th class=\"col_heading level0 col6\" >train_coverage</th>        <th class=\"col_heading level0 col7\" >val_coverage</th>        <th class=\"col_heading level0 col8\" >train_surprisal</th>        <th class=\"col_heading level0 col9\" >val_surprisal</th>    </tr></thead><tbody>\n",
       "                <tr>\n",
       "                        <th id=\"T_a834bbb6_1c5f_11ed_b4f6_ac1f6b2cd28alevel0_row0\" class=\"row_heading level0 row0\" >random</th>\n",
       "                        <td id=\"T_a834bbb6_1c5f_11ed_b4f6_ac1f6b2cd28arow0_col0\" class=\"data row0 col0\" >0.000112</td>\n",
       "                        <td id=\"T_a834bbb6_1c5f_11ed_b4f6_ac1f6b2cd28arow0_col1\" class=\"data row0 col1\" >0.000096</td>\n",
       "                        <td id=\"T_a834bbb6_1c5f_11ed_b4f6_ac1f6b2cd28arow0_col2\" class=\"data row0 col2\" >0.000923</td>\n",
       "                        <td id=\"T_a834bbb6_1c5f_11ed_b4f6_ac1f6b2cd28arow0_col3\" class=\"data row0 col3\" >0.000581</td>\n",
       "                        <td id=\"T_a834bbb6_1c5f_11ed_b4f6_ac1f6b2cd28arow0_col4\" class=\"data row0 col4\" >0.000166</td>\n",
       "                        <td id=\"T_a834bbb6_1c5f_11ed_b4f6_ac1f6b2cd28arow0_col5\" class=\"data row0 col5\" >0.000099</td>\n",
       "                        <td id=\"T_a834bbb6_1c5f_11ed_b4f6_ac1f6b2cd28arow0_col6\" class=\"data row0 col6\" >1.000000</td>\n",
       "                        <td id=\"T_a834bbb6_1c5f_11ed_b4f6_ac1f6b2cd28arow0_col7\" class=\"data row0 col7\" >0.914483</td>\n",
       "                        <td id=\"T_a834bbb6_1c5f_11ed_b4f6_ac1f6b2cd28arow0_col8\" class=\"data row0 col8\" >0.814951</td>\n",
       "                        <td id=\"T_a834bbb6_1c5f_11ed_b4f6_ac1f6b2cd28arow0_col9\" class=\"data row0 col9\" >0.569923</td>\n",
       "            </tr>\n",
       "            <tr>\n",
       "                        <th id=\"T_a834bbb6_1c5f_11ed_b4f6_ac1f6b2cd28alevel0_row1\" class=\"row_heading level0 row1\" >popular</th>\n",
       "                        <td id=\"T_a834bbb6_1c5f_11ed_b4f6_ac1f6b2cd28arow1_col0\" class=\"data row1 col0\" >0.005925</td>\n",
       "                        <td id=\"T_a834bbb6_1c5f_11ed_b4f6_ac1f6b2cd28arow1_col1\" class=\"data row1 col1\" >0.003523</td>\n",
       "                        <td id=\"T_a834bbb6_1c5f_11ed_b4f6_ac1f6b2cd28arow1_col2\" class=\"data row1 col2\" >0.018567</td>\n",
       "                        <td id=\"T_a834bbb6_1c5f_11ed_b4f6_ac1f6b2cd28arow1_col3\" class=\"data row1 col3\" >0.009424</td>\n",
       "                        <td id=\"T_a834bbb6_1c5f_11ed_b4f6_ac1f6b2cd28arow1_col4\" class=\"data row1 col4\" >0.010624</td>\n",
       "                        <td id=\"T_a834bbb6_1c5f_11ed_b4f6_ac1f6b2cd28arow1_col5\" class=\"data row1 col5\" >0.004419</td>\n",
       "                        <td id=\"T_a834bbb6_1c5f_11ed_b4f6_ac1f6b2cd28arow1_col6\" class=\"data row1 col6\" >0.000765</td>\n",
       "                        <td id=\"T_a834bbb6_1c5f_11ed_b4f6_ac1f6b2cd28arow1_col7\" class=\"data row1 col7\" >0.001007</td>\n",
       "                        <td id=\"T_a834bbb6_1c5f_11ed_b4f6_ac1f6b2cd28arow1_col8\" class=\"data row1 col8\" >0.437210</td>\n",
       "                        <td id=\"T_a834bbb6_1c5f_11ed_b4f6_ac1f6b2cd28arow1_col9\" class=\"data row1 col9\" >0.483808</td>\n",
       "            </tr>\n",
       "            <tr>\n",
       "                        <th id=\"T_a834bbb6_1c5f_11ed_b4f6_ac1f6b2cd28alevel0_row2\" class=\"row_heading level0 row2\" >tfidf</th>\n",
       "                        <td id=\"T_a834bbb6_1c5f_11ed_b4f6_ac1f6b2cd28arow2_col0\" class=\"data row2 col0\" >0.337795</td>\n",
       "                        <td id=\"T_a834bbb6_1c5f_11ed_b4f6_ac1f6b2cd28arow2_col1\" class=\"data row2 col1\" >0.015240</td>\n",
       "                        <td id=\"T_a834bbb6_1c5f_11ed_b4f6_ac1f6b2cd28arow2_col2\" class=\"data row2 col2\" >0.338338</td>\n",
       "                        <td id=\"T_a834bbb6_1c5f_11ed_b4f6_ac1f6b2cd28arow2_col3\" class=\"data row2 col3\" >0.104690</td>\n",
       "                        <td id=\"T_a834bbb6_1c5f_11ed_b4f6_ac1f6b2cd28arow2_col4\" class=\"data row2 col4\" >0.338043</td>\n",
       "                        <td id=\"T_a834bbb6_1c5f_11ed_b4f6_ac1f6b2cd28arow2_col5\" class=\"data row2 col5\" >0.013479</td>\n",
       "                        <td id=\"T_a834bbb6_1c5f_11ed_b4f6_ac1f6b2cd28arow2_col6\" class=\"data row2 col6\" >0.995293</td>\n",
       "                        <td id=\"T_a834bbb6_1c5f_11ed_b4f6_ac1f6b2cd28arow2_col7\" class=\"data row2 col7\" >0.905298</td>\n",
       "                        <td id=\"T_a834bbb6_1c5f_11ed_b4f6_ac1f6b2cd28arow2_col8\" class=\"data row2 col8\" >0.771607</td>\n",
       "                        <td id=\"T_a834bbb6_1c5f_11ed_b4f6_ac1f6b2cd28arow2_col9\" class=\"data row2 col9\" >0.498584</td>\n",
       "            </tr>\n",
       "            <tr>\n",
       "                        <th id=\"T_a834bbb6_1c5f_11ed_b4f6_ac1f6b2cd28alevel0_row3\" class=\"row_heading level0 row3\" >bm25</th>\n",
       "                        <td id=\"T_a834bbb6_1c5f_11ed_b4f6_ac1f6b2cd28arow3_col0\" class=\"data row3 col0\" >0.337348</td>\n",
       "                        <td id=\"T_a834bbb6_1c5f_11ed_b4f6_ac1f6b2cd28arow3_col1\" class=\"data row3 col1\" >0.018510</td>\n",
       "                        <td id=\"T_a834bbb6_1c5f_11ed_b4f6_ac1f6b2cd28arow3_col2\" class=\"data row3 col2\" >0.338074</td>\n",
       "                        <td id=\"T_a834bbb6_1c5f_11ed_b4f6_ac1f6b2cd28arow3_col3\" class=\"data row3 col3\" >0.136852</td>\n",
       "                        <td id=\"T_a834bbb6_1c5f_11ed_b4f6_ac1f6b2cd28arow3_col4\" class=\"data row3 col4\" >0.337907</td>\n",
       "                        <td id=\"T_a834bbb6_1c5f_11ed_b4f6_ac1f6b2cd28arow3_col5\" class=\"data row3 col5\" >0.017151</td>\n",
       "                        <td id=\"T_a834bbb6_1c5f_11ed_b4f6_ac1f6b2cd28arow3_col6\" class=\"data row3 col6\" >0.966919</td>\n",
       "                        <td id=\"T_a834bbb6_1c5f_11ed_b4f6_ac1f6b2cd28arow3_col7\" class=\"data row3 col7\" >0.886322</td>\n",
       "                        <td id=\"T_a834bbb6_1c5f_11ed_b4f6_ac1f6b2cd28arow3_col8\" class=\"data row3 col8\" >0.721491</td>\n",
       "                        <td id=\"T_a834bbb6_1c5f_11ed_b4f6_ac1f6b2cd28arow3_col9\" class=\"data row3 col9\" >0.731392</td>\n",
       "            </tr>\n",
       "            <tr>\n",
       "                        <th id=\"T_a834bbb6_1c5f_11ed_b4f6_ac1f6b2cd28alevel0_row4\" class=\"row_heading level0 row4\" >cosine</th>\n",
       "                        <td id=\"T_a834bbb6_1c5f_11ed_b4f6_ac1f6b2cd28arow4_col0\" class=\"data row4 col0\" >0.337586</td>\n",
       "                        <td id=\"T_a834bbb6_1c5f_11ed_b4f6_ac1f6b2cd28arow4_col1\" class=\"data row4 col1\" >0.014197</td>\n",
       "                        <td id=\"T_a834bbb6_1c5f_11ed_b4f6_ac1f6b2cd28arow4_col2\" class=\"data row4 col2\" >0.338161</td>\n",
       "                        <td id=\"T_a834bbb6_1c5f_11ed_b4f6_ac1f6b2cd28arow4_col3\" class=\"data row4 col3\" >0.096809</td>\n",
       "                        <td id=\"T_a834bbb6_1c5f_11ed_b4f6_ac1f6b2cd28arow4_col4\" class=\"data row4 col4\" >0.337926</td>\n",
       "                        <td id=\"T_a834bbb6_1c5f_11ed_b4f6_ac1f6b2cd28arow4_col5\" class=\"data row4 col5\" >0.012577</td>\n",
       "                        <td id=\"T_a834bbb6_1c5f_11ed_b4f6_ac1f6b2cd28arow4_col6\" class=\"data row4 col6\" >0.989917</td>\n",
       "                        <td id=\"T_a834bbb6_1c5f_11ed_b4f6_ac1f6b2cd28arow4_col7\" class=\"data row4 col7\" >0.900818</td>\n",
       "                        <td id=\"T_a834bbb6_1c5f_11ed_b4f6_ac1f6b2cd28arow4_col8\" class=\"data row4 col8\" >0.782828</td>\n",
       "                        <td id=\"T_a834bbb6_1c5f_11ed_b4f6_ac1f6b2cd28arow4_col9\" class=\"data row4 col9\" >0.499409</td>\n",
       "            </tr>\n",
       "            <tr>\n",
       "                        <th id=\"T_a834bbb6_1c5f_11ed_b4f6_ac1f6b2cd28alevel0_row5\" class=\"row_heading level0 row5\" >svd_10</th>\n",
       "                        <td id=\"T_a834bbb6_1c5f_11ed_b4f6_ac1f6b2cd28arow5_col0\" class=\"data row5 col0\" >0.113964</td>\n",
       "                        <td id=\"T_a834bbb6_1c5f_11ed_b4f6_ac1f6b2cd28arow5_col1\" class=\"data row5 col1\" >0.040916</td>\n",
       "                        <td id=\"T_a834bbb6_1c5f_11ed_b4f6_ac1f6b2cd28arow5_col2\" class=\"data row5 col2\" >0.268531</td>\n",
       "                        <td id=\"T_a834bbb6_1c5f_11ed_b4f6_ac1f6b2cd28arow5_col3\" class=\"data row5 col3\" >0.119701</td>\n",
       "                        <td id=\"T_a834bbb6_1c5f_11ed_b4f6_ac1f6b2cd28arow5_col4\" class=\"data row5 col4\" >0.182651</td>\n",
       "                        <td id=\"T_a834bbb6_1c5f_11ed_b4f6_ac1f6b2cd28arow5_col5\" class=\"data row5 col5\" >0.039528</td>\n",
       "                        <td id=\"T_a834bbb6_1c5f_11ed_b4f6_ac1f6b2cd28arow5_col6\" class=\"data row5 col6\" >0.006964</td>\n",
       "                        <td id=\"T_a834bbb6_1c5f_11ed_b4f6_ac1f6b2cd28arow5_col7\" class=\"data row5 col7\" >0.008909</td>\n",
       "                        <td id=\"T_a834bbb6_1c5f_11ed_b4f6_ac1f6b2cd28arow5_col8\" class=\"data row5 col8\" >0.429239</td>\n",
       "                        <td id=\"T_a834bbb6_1c5f_11ed_b4f6_ac1f6b2cd28arow5_col9\" class=\"data row5 col9\" >0.479104</td>\n",
       "            </tr>\n",
       "            <tr>\n",
       "                        <th id=\"T_a834bbb6_1c5f_11ed_b4f6_ac1f6b2cd28alevel0_row6\" class=\"row_heading level0 row6\" >svd_21</th>\n",
       "                        <td id=\"T_a834bbb6_1c5f_11ed_b4f6_ac1f6b2cd28arow6_col0\" class=\"data row6 col0\" >0.142999</td>\n",
       "                        <td id=\"T_a834bbb6_1c5f_11ed_b4f6_ac1f6b2cd28arow6_col1\" class=\"data row6 col1\" >0.036116</td>\n",
       "                        <td id=\"T_a834bbb6_1c5f_11ed_b4f6_ac1f6b2cd28arow6_col2\" class=\"data row6 col2\" >0.286065</td>\n",
       "                        <td id=\"T_a834bbb6_1c5f_11ed_b4f6_ac1f6b2cd28arow6_col3\" class=\"data row6 col3\" >0.114706</td>\n",
       "                        <td id=\"T_a834bbb6_1c5f_11ed_b4f6_ac1f6b2cd28arow6_col4\" class=\"data row6 col4\" >0.230475</td>\n",
       "                        <td id=\"T_a834bbb6_1c5f_11ed_b4f6_ac1f6b2cd28arow6_col5\" class=\"data row6 col5\" >0.033937</td>\n",
       "                        <td id=\"T_a834bbb6_1c5f_11ed_b4f6_ac1f6b2cd28arow6_col6\" class=\"data row6 col6\" >0.007711</td>\n",
       "                        <td id=\"T_a834bbb6_1c5f_11ed_b4f6_ac1f6b2cd28arow6_col7\" class=\"data row6 col7\" >0.009840</td>\n",
       "                        <td id=\"T_a834bbb6_1c5f_11ed_b4f6_ac1f6b2cd28arow6_col8\" class=\"data row6 col8\" >0.445441</td>\n",
       "                        <td id=\"T_a834bbb6_1c5f_11ed_b4f6_ac1f6b2cd28arow6_col9\" class=\"data row6 col9\" >0.492667</td>\n",
       "            </tr>\n",
       "            <tr>\n",
       "                        <th id=\"T_a834bbb6_1c5f_11ed_b4f6_ac1f6b2cd28alevel0_row7\" class=\"row_heading level0 row7\" >svd_46</th>\n",
       "                        <td id=\"T_a834bbb6_1c5f_11ed_b4f6_ac1f6b2cd28arow7_col0\" class=\"data row7 col0\" >0.189464</td>\n",
       "                        <td id=\"T_a834bbb6_1c5f_11ed_b4f6_ac1f6b2cd28arow7_col1\" class=\"data row7 col1\" >0.026909</td>\n",
       "                        <td id=\"T_a834bbb6_1c5f_11ed_b4f6_ac1f6b2cd28arow7_col2\" class=\"data row7 col2\" >0.343070</td>\n",
       "                        <td id=\"T_a834bbb6_1c5f_11ed_b4f6_ac1f6b2cd28arow7_col3\" class=\"data row7 col3\" >0.089676</td>\n",
       "                        <td id=\"T_a834bbb6_1c5f_11ed_b4f6_ac1f6b2cd28arow7_col4\" class=\"data row7 col4\" >0.294988</td>\n",
       "                        <td id=\"T_a834bbb6_1c5f_11ed_b4f6_ac1f6b2cd28arow7_col5\" class=\"data row7 col5\" >0.024833</td>\n",
       "                        <td id=\"T_a834bbb6_1c5f_11ed_b4f6_ac1f6b2cd28arow7_col6\" class=\"data row7 col6\" >0.012532</td>\n",
       "                        <td id=\"T_a834bbb6_1c5f_11ed_b4f6_ac1f6b2cd28arow7_col7\" class=\"data row7 col7\" >0.016107</td>\n",
       "                        <td id=\"T_a834bbb6_1c5f_11ed_b4f6_ac1f6b2cd28arow7_col8\" class=\"data row7 col8\" >0.494780</td>\n",
       "                        <td id=\"T_a834bbb6_1c5f_11ed_b4f6_ac1f6b2cd28arow7_col9\" class=\"data row7 col9\" >0.539978</td>\n",
       "            </tr>\n",
       "            <tr>\n",
       "                        <th id=\"T_a834bbb6_1c5f_11ed_b4f6_ac1f6b2cd28alevel0_row8\" class=\"row_heading level0 row8\" >svd_100</th>\n",
       "                        <td id=\"T_a834bbb6_1c5f_11ed_b4f6_ac1f6b2cd28arow8_col0\" class=\"data row8 col0\" >0.241049</td>\n",
       "                        <td id=\"T_a834bbb6_1c5f_11ed_b4f6_ac1f6b2cd28arow8_col1\" class=\"data row8 col1\" >0.024224</td>\n",
       "                        <td id=\"T_a834bbb6_1c5f_11ed_b4f6_ac1f6b2cd28arow8_col2\" class=\"data row8 col2\" >0.411734</td>\n",
       "                        <td id=\"T_a834bbb6_1c5f_11ed_b4f6_ac1f6b2cd28arow8_col3\" class=\"data row8 col3\" >0.079867</td>\n",
       "                        <td id=\"T_a834bbb6_1c5f_11ed_b4f6_ac1f6b2cd28arow8_col4\" class=\"data row8 col4\" >0.362558</td>\n",
       "                        <td id=\"T_a834bbb6_1c5f_11ed_b4f6_ac1f6b2cd28arow8_col5\" class=\"data row8 col5\" >0.022466</td>\n",
       "                        <td id=\"T_a834bbb6_1c5f_11ed_b4f6_ac1f6b2cd28arow8_col6\" class=\"data row8 col6\" >0.020128</td>\n",
       "                        <td id=\"T_a834bbb6_1c5f_11ed_b4f6_ac1f6b2cd28arow8_col7\" class=\"data row8 col7\" >0.026173</td>\n",
       "                        <td id=\"T_a834bbb6_1c5f_11ed_b4f6_ac1f6b2cd28arow8_col8\" class=\"data row8 col8\" >0.525889</td>\n",
       "                        <td id=\"T_a834bbb6_1c5f_11ed_b4f6_ac1f6b2cd28arow8_col9\" class=\"data row8 col9\" >0.571336</td>\n",
       "            </tr>\n",
       "            <tr>\n",
       "                        <th id=\"T_a834bbb6_1c5f_11ed_b4f6_ac1f6b2cd28alevel0_row9\" class=\"row_heading level0 row9\" >svd_215</th>\n",
       "                        <td id=\"T_a834bbb6_1c5f_11ed_b4f6_ac1f6b2cd28arow9_col0\" class=\"data row9 col0\" >0.320770</td>\n",
       "                        <td id=\"T_a834bbb6_1c5f_11ed_b4f6_ac1f6b2cd28arow9_col1\" class=\"data row9 col1\" >0.022805</td>\n",
       "                        <td id=\"T_a834bbb6_1c5f_11ed_b4f6_ac1f6b2cd28arow9_col2\" class=\"data row9 col2\" >0.512215</td>\n",
       "                        <td id=\"T_a834bbb6_1c5f_11ed_b4f6_ac1f6b2cd28arow9_col3\" class=\"data row9 col3\" >0.075043</td>\n",
       "                        <td id=\"T_a834bbb6_1c5f_11ed_b4f6_ac1f6b2cd28arow9_col4\" class=\"data row9 col4\" >0.453813</td>\n",
       "                        <td id=\"T_a834bbb6_1c5f_11ed_b4f6_ac1f6b2cd28arow9_col5\" class=\"data row9 col5\" >0.020870</td>\n",
       "                        <td id=\"T_a834bbb6_1c5f_11ed_b4f6_ac1f6b2cd28arow9_col6\" class=\"data row9 col6\" >0.037405</td>\n",
       "                        <td id=\"T_a834bbb6_1c5f_11ed_b4f6_ac1f6b2cd28arow9_col7\" class=\"data row9 col7\" >0.048672</td>\n",
       "                        <td id=\"T_a834bbb6_1c5f_11ed_b4f6_ac1f6b2cd28arow9_col8\" class=\"data row9 col8\" >0.557657</td>\n",
       "                        <td id=\"T_a834bbb6_1c5f_11ed_b4f6_ac1f6b2cd28arow9_col9\" class=\"data row9 col9\" >0.603278</td>\n",
       "            </tr>\n",
       "            <tr>\n",
       "                        <th id=\"T_a834bbb6_1c5f_11ed_b4f6_ac1f6b2cd28alevel0_row10\" class=\"row_heading level0 row10\" >svd_464</th>\n",
       "                        <td id=\"T_a834bbb6_1c5f_11ed_b4f6_ac1f6b2cd28arow10_col0\" class=\"data row10 col0\" >0.414642</td>\n",
       "                        <td id=\"T_a834bbb6_1c5f_11ed_b4f6_ac1f6b2cd28arow10_col1\" class=\"data row10 col1\" >0.021658</td>\n",
       "                        <td id=\"T_a834bbb6_1c5f_11ed_b4f6_ac1f6b2cd28arow10_col2\" class=\"data row10 col2\" >0.605983</td>\n",
       "                        <td id=\"T_a834bbb6_1c5f_11ed_b4f6_ac1f6b2cd28arow10_col3\" class=\"data row10 col3\" >0.073208</td>\n",
       "                        <td id=\"T_a834bbb6_1c5f_11ed_b4f6_ac1f6b2cd28arow10_col4\" class=\"data row10 col4\" >0.548222</td>\n",
       "                        <td id=\"T_a834bbb6_1c5f_11ed_b4f6_ac1f6b2cd28arow10_col5\" class=\"data row10 col5\" >0.019030</td>\n",
       "                        <td id=\"T_a834bbb6_1c5f_11ed_b4f6_ac1f6b2cd28arow10_col6\" class=\"data row10 col6\" >0.066334</td>\n",
       "                        <td id=\"T_a834bbb6_1c5f_11ed_b4f6_ac1f6b2cd28arow10_col7\" class=\"data row10 col7\" >0.086498</td>\n",
       "                        <td id=\"T_a834bbb6_1c5f_11ed_b4f6_ac1f6b2cd28arow10_col8\" class=\"data row10 col8\" >0.585560</td>\n",
       "                        <td id=\"T_a834bbb6_1c5f_11ed_b4f6_ac1f6b2cd28arow10_col9\" class=\"data row10 col9\" >0.632858</td>\n",
       "            </tr>\n",
       "            <tr>\n",
       "                        <th id=\"T_a834bbb6_1c5f_11ed_b4f6_ac1f6b2cd28alevel0_row11\" class=\"row_heading level0 row11\" >svd_1000</th>\n",
       "                        <td id=\"T_a834bbb6_1c5f_11ed_b4f6_ac1f6b2cd28arow11_col0\" class=\"data row11 col0\" >0.524430</td>\n",
       "                        <td id=\"T_a834bbb6_1c5f_11ed_b4f6_ac1f6b2cd28arow11_col1\" class=\"data row11 col1\" >0.019612</td>\n",
       "                        <td id=\"T_a834bbb6_1c5f_11ed_b4f6_ac1f6b2cd28arow11_col2\" class=\"data row11 col2\" >0.699465</td>\n",
       "                        <td id=\"T_a834bbb6_1c5f_11ed_b4f6_ac1f6b2cd28arow11_col3\" class=\"data row11 col3\" >0.068447</td>\n",
       "                        <td id=\"T_a834bbb6_1c5f_11ed_b4f6_ac1f6b2cd28arow11_col4\" class=\"data row11 col4\" >0.642324</td>\n",
       "                        <td id=\"T_a834bbb6_1c5f_11ed_b4f6_ac1f6b2cd28arow11_col5\" class=\"data row11 col5\" >0.016392</td>\n",
       "                        <td id=\"T_a834bbb6_1c5f_11ed_b4f6_ac1f6b2cd28arow11_col6\" class=\"data row11 col6\" >0.122527</td>\n",
       "                        <td id=\"T_a834bbb6_1c5f_11ed_b4f6_ac1f6b2cd28arow11_col7\" class=\"data row11 col7\" >0.158978</td>\n",
       "                        <td id=\"T_a834bbb6_1c5f_11ed_b4f6_ac1f6b2cd28arow11_col8\" class=\"data row11 col8\" >0.618621</td>\n",
       "                        <td id=\"T_a834bbb6_1c5f_11ed_b4f6_ac1f6b2cd28arow11_col9\" class=\"data row11 col9\" >0.666292</td>\n",
       "            </tr>\n",
       "            <tr>\n",
       "                        <th id=\"T_a834bbb6_1c5f_11ed_b4f6_ac1f6b2cd28alevel0_row12\" class=\"row_heading level0 row12\" >svd_2154</th>\n",
       "                        <td id=\"T_a834bbb6_1c5f_11ed_b4f6_ac1f6b2cd28arow12_col0\" class=\"data row12 col0\" >0.647241</td>\n",
       "                        <td id=\"T_a834bbb6_1c5f_11ed_b4f6_ac1f6b2cd28arow12_col1\" class=\"data row12 col1\" >0.017024</td>\n",
       "                        <td id=\"T_a834bbb6_1c5f_11ed_b4f6_ac1f6b2cd28arow12_col2\" class=\"data row12 col2\" >0.781420</td>\n",
       "                        <td id=\"T_a834bbb6_1c5f_11ed_b4f6_ac1f6b2cd28arow12_col3\" class=\"data row12 col3\" >0.060621</td>\n",
       "                        <td id=\"T_a834bbb6_1c5f_11ed_b4f6_ac1f6b2cd28arow12_col4\" class=\"data row12 col4\" >0.733191</td>\n",
       "                        <td id=\"T_a834bbb6_1c5f_11ed_b4f6_ac1f6b2cd28arow12_col5\" class=\"data row12 col5\" >0.013647</td>\n",
       "                        <td id=\"T_a834bbb6_1c5f_11ed_b4f6_ac1f6b2cd28arow12_col6\" class=\"data row12 col6\" >0.232637</td>\n",
       "                        <td id=\"T_a834bbb6_1c5f_11ed_b4f6_ac1f6b2cd28arow12_col7\" class=\"data row12 col7\" >0.297748</td>\n",
       "                        <td id=\"T_a834bbb6_1c5f_11ed_b4f6_ac1f6b2cd28arow12_col8\" class=\"data row12 col8\" >0.660269</td>\n",
       "                        <td id=\"T_a834bbb6_1c5f_11ed_b4f6_ac1f6b2cd28arow12_col9\" class=\"data row12 col9\" >0.708470</td>\n",
       "            </tr>\n",
       "            <tr>\n",
       "                        <th id=\"T_a834bbb6_1c5f_11ed_b4f6_ac1f6b2cd28alevel0_row13\" class=\"row_heading level0 row13\" >svd_4641</th>\n",
       "                        <td id=\"T_a834bbb6_1c5f_11ed_b4f6_ac1f6b2cd28arow13_col0\" class=\"data row13 col0\" >0.766058</td>\n",
       "                        <td id=\"T_a834bbb6_1c5f_11ed_b4f6_ac1f6b2cd28arow13_col1\" class=\"data row13 col1\" >0.013222</td>\n",
       "                        <td id=\"T_a834bbb6_1c5f_11ed_b4f6_ac1f6b2cd28arow13_col2\" class=\"data row13 col2\" >0.845073</td>\n",
       "                        <td id=\"T_a834bbb6_1c5f_11ed_b4f6_ac1f6b2cd28arow13_col3\" class=\"data row13 col3\" >0.047030</td>\n",
       "                        <td id=\"T_a834bbb6_1c5f_11ed_b4f6_ac1f6b2cd28arow13_col4\" class=\"data row13 col4\" >0.813566</td>\n",
       "                        <td id=\"T_a834bbb6_1c5f_11ed_b4f6_ac1f6b2cd28arow13_col5\" class=\"data row13 col5\" >0.010233</td>\n",
       "                        <td id=\"T_a834bbb6_1c5f_11ed_b4f6_ac1f6b2cd28arow13_col6\" class=\"data row13 col6\" >0.534860</td>\n",
       "                        <td id=\"T_a834bbb6_1c5f_11ed_b4f6_ac1f6b2cd28arow13_col7\" class=\"data row13 col7\" >0.605990</td>\n",
       "                        <td id=\"T_a834bbb6_1c5f_11ed_b4f6_ac1f6b2cd28arow13_col8\" class=\"data row13 col8\" >0.712098</td>\n",
       "                        <td id=\"T_a834bbb6_1c5f_11ed_b4f6_ac1f6b2cd28arow13_col9\" class=\"data row13 col9\" >0.758492</td>\n",
       "            </tr>\n",
       "            <tr>\n",
       "                        <th id=\"T_a834bbb6_1c5f_11ed_b4f6_ac1f6b2cd28alevel0_row14\" class=\"row_heading level0 row14\" >svd_10000</th>\n",
       "                        <td id=\"T_a834bbb6_1c5f_11ed_b4f6_ac1f6b2cd28arow14_col0\" class=\"data row14 col0\" >0.850160</td>\n",
       "                        <td id=\"T_a834bbb6_1c5f_11ed_b4f6_ac1f6b2cd28arow14_col1\" class=\"data row14 col1\" >0.007285</td>\n",
       "                        <td id=\"T_a834bbb6_1c5f_11ed_b4f6_ac1f6b2cd28arow14_col2\" class=\"data row14 col2\" >0.899659</td>\n",
       "                        <td id=\"T_a834bbb6_1c5f_11ed_b4f6_ac1f6b2cd28arow14_col3\" class=\"data row14 col3\" >0.025832</td>\n",
       "                        <td id=\"T_a834bbb6_1c5f_11ed_b4f6_ac1f6b2cd28arow14_col4\" class=\"data row14 col4\" >0.866609</td>\n",
       "                        <td id=\"T_a834bbb6_1c5f_11ed_b4f6_ac1f6b2cd28arow14_col5\" class=\"data row14 col5\" >0.005640</td>\n",
       "                        <td id=\"T_a834bbb6_1c5f_11ed_b4f6_ac1f6b2cd28arow14_col6\" class=\"data row14 col6\" >0.862377</td>\n",
       "                        <td id=\"T_a834bbb6_1c5f_11ed_b4f6_ac1f6b2cd28arow14_col7\" class=\"data row14 col7\" >0.831383</td>\n",
       "                        <td id=\"T_a834bbb6_1c5f_11ed_b4f6_ac1f6b2cd28arow14_col8\" class=\"data row14 col8\" >0.787677</td>\n",
       "                        <td id=\"T_a834bbb6_1c5f_11ed_b4f6_ac1f6b2cd28arow14_col9\" class=\"data row14 col9\" >0.780007</td>\n",
       "            </tr>\n",
       "            <tr>\n",
       "                        <th id=\"T_a834bbb6_1c5f_11ed_b4f6_ac1f6b2cd28alevel0_row15\" class=\"row_heading level0 row15\" >als</th>\n",
       "                        <td id=\"T_a834bbb6_1c5f_11ed_b4f6_ac1f6b2cd28arow15_col0\" class=\"data row15 col0\" >0.000000</td>\n",
       "                        <td id=\"T_a834bbb6_1c5f_11ed_b4f6_ac1f6b2cd28arow15_col1\" class=\"data row15 col1\" >0.043779</td>\n",
       "                        <td id=\"T_a834bbb6_1c5f_11ed_b4f6_ac1f6b2cd28arow15_col2\" class=\"data row15 col2\" >0.000000</td>\n",
       "                        <td id=\"T_a834bbb6_1c5f_11ed_b4f6_ac1f6b2cd28arow15_col3\" class=\"data row15 col3\" >0.123962</td>\n",
       "                        <td id=\"T_a834bbb6_1c5f_11ed_b4f6_ac1f6b2cd28arow15_col4\" class=\"data row15 col4\" >0.000000</td>\n",
       "                        <td id=\"T_a834bbb6_1c5f_11ed_b4f6_ac1f6b2cd28arow15_col5\" class=\"data row15 col5\" >0.045665</td>\n",
       "                        <td id=\"T_a834bbb6_1c5f_11ed_b4f6_ac1f6b2cd28arow15_col6\" class=\"data row15 col6\" >0.020070</td>\n",
       "                        <td id=\"T_a834bbb6_1c5f_11ed_b4f6_ac1f6b2cd28arow15_col7\" class=\"data row15 col7\" >0.026199</td>\n",
       "                        <td id=\"T_a834bbb6_1c5f_11ed_b4f6_ac1f6b2cd28arow15_col8\" class=\"data row15 col8\" >0.526738</td>\n",
       "                        <td id=\"T_a834bbb6_1c5f_11ed_b4f6_ac1f6b2cd28arow15_col9\" class=\"data row15 col9\" >0.572649</td>\n",
       "            </tr>\n",
       "            <tr>\n",
       "                        <th id=\"T_a834bbb6_1c5f_11ed_b4f6_ac1f6b2cd28alevel0_row16\" class=\"row_heading level0 row16\" >als_filtered</th>\n",
       "                        <td id=\"T_a834bbb6_1c5f_11ed_b4f6_ac1f6b2cd28arow16_col0\" class=\"data row16 col0\" >0.000000</td>\n",
       "                        <td id=\"T_a834bbb6_1c5f_11ed_b4f6_ac1f6b2cd28arow16_col1\" class=\"data row16 col1\" >0.043949</td>\n",
       "                        <td id=\"T_a834bbb6_1c5f_11ed_b4f6_ac1f6b2cd28arow16_col2\" class=\"data row16 col2\" >0.000000</td>\n",
       "                        <td id=\"T_a834bbb6_1c5f_11ed_b4f6_ac1f6b2cd28arow16_col3\" class=\"data row16 col3\" >0.123822</td>\n",
       "                        <td id=\"T_a834bbb6_1c5f_11ed_b4f6_ac1f6b2cd28arow16_col4\" class=\"data row16 col4\" >0.000000</td>\n",
       "                        <td id=\"T_a834bbb6_1c5f_11ed_b4f6_ac1f6b2cd28arow16_col5\" class=\"data row16 col5\" >0.045782</td>\n",
       "                        <td id=\"T_a834bbb6_1c5f_11ed_b4f6_ac1f6b2cd28arow16_col6\" class=\"data row16 col6\" >0.020032</td>\n",
       "                        <td id=\"T_a834bbb6_1c5f_11ed_b4f6_ac1f6b2cd28arow16_col7\" class=\"data row16 col7\" >0.025897</td>\n",
       "                        <td id=\"T_a834bbb6_1c5f_11ed_b4f6_ac1f6b2cd28arow16_col8\" class=\"data row16 col8\" >0.527179</td>\n",
       "                        <td id=\"T_a834bbb6_1c5f_11ed_b4f6_ac1f6b2cd28arow16_col9\" class=\"data row16 col9\" >0.573173</td>\n",
       "            </tr>\n",
       "            <tr>\n",
       "                        <th id=\"T_a834bbb6_1c5f_11ed_b4f6_ac1f6b2cd28alevel0_row17\" class=\"row_heading level0 row17\" >light_feature_importance_0</th>\n",
       "                        <td id=\"T_a834bbb6_1c5f_11ed_b4f6_ac1f6b2cd28arow17_col0\" class=\"data row17 col0\" >0.064190</td>\n",
       "                        <td id=\"T_a834bbb6_1c5f_11ed_b4f6_ac1f6b2cd28arow17_col1\" class=\"data row17 col1\" >0.036794</td>\n",
       "                        <td id=\"T_a834bbb6_1c5f_11ed_b4f6_ac1f6b2cd28arow17_col2\" class=\"data row17 col2\" >0.218288</td>\n",
       "                        <td id=\"T_a834bbb6_1c5f_11ed_b4f6_ac1f6b2cd28arow17_col3\" class=\"data row17 col3\" >0.104560</td>\n",
       "                        <td id=\"T_a834bbb6_1c5f_11ed_b4f6_ac1f6b2cd28arow17_col4\" class=\"data row17 col4\" >0.088673</td>\n",
       "                        <td id=\"T_a834bbb6_1c5f_11ed_b4f6_ac1f6b2cd28arow17_col5\" class=\"data row17 col5\" >0.036024</td>\n",
       "                        <td id=\"T_a834bbb6_1c5f_11ed_b4f6_ac1f6b2cd28arow17_col6\" class=\"data row17 col6\" >0.000555</td>\n",
       "                        <td id=\"T_a834bbb6_1c5f_11ed_b4f6_ac1f6b2cd28arow17_col7\" class=\"data row17 col7\" >0.000730</td>\n",
       "                        <td id=\"T_a834bbb6_1c5f_11ed_b4f6_ac1f6b2cd28arow17_col8\" class=\"data row17 col8\" >0.388308</td>\n",
       "                        <td id=\"T_a834bbb6_1c5f_11ed_b4f6_ac1f6b2cd28arow17_col9\" class=\"data row17 col9\" >0.440942</td>\n",
       "            </tr>\n",
       "            <tr>\n",
       "                        <th id=\"T_a834bbb6_1c5f_11ed_b4f6_ac1f6b2cd28alevel0_row18\" class=\"row_heading level0 row18\" >light_feature_importance_0.1</th>\n",
       "                        <td id=\"T_a834bbb6_1c5f_11ed_b4f6_ac1f6b2cd28arow18_col0\" class=\"data row18 col0\" >0.000023</td>\n",
       "                        <td id=\"T_a834bbb6_1c5f_11ed_b4f6_ac1f6b2cd28arow18_col1\" class=\"data row18 col1\" >0.000000</td>\n",
       "                        <td id=\"T_a834bbb6_1c5f_11ed_b4f6_ac1f6b2cd28arow18_col2\" class=\"data row18 col2\" >0.000351</td>\n",
       "                        <td id=\"T_a834bbb6_1c5f_11ed_b4f6_ac1f6b2cd28arow18_col3\" class=\"data row18 col3\" >0.000008</td>\n",
       "                        <td id=\"T_a834bbb6_1c5f_11ed_b4f6_ac1f6b2cd28arow18_col4\" class=\"data row18 col4\" >0.000032</td>\n",
       "                        <td id=\"T_a834bbb6_1c5f_11ed_b4f6_ac1f6b2cd28arow18_col5\" class=\"data row18 col5\" >0.000000</td>\n",
       "                        <td id=\"T_a834bbb6_1c5f_11ed_b4f6_ac1f6b2cd28arow18_col6\" class=\"data row18 col6\" >0.000899</td>\n",
       "                        <td id=\"T_a834bbb6_1c5f_11ed_b4f6_ac1f6b2cd28arow18_col7\" class=\"data row18 col7\" >0.000302</td>\n",
       "                        <td id=\"T_a834bbb6_1c5f_11ed_b4f6_ac1f6b2cd28arow18_col8\" class=\"data row18 col8\" >0.250269</td>\n",
       "                        <td id=\"T_a834bbb6_1c5f_11ed_b4f6_ac1f6b2cd28arow18_col9\" class=\"data row18 col9\" >0.044000</td>\n",
       "            </tr>\n",
       "            <tr>\n",
       "                        <th id=\"T_a834bbb6_1c5f_11ed_b4f6_ac1f6b2cd28alevel0_row19\" class=\"row_heading level0 row19\" >light_feature_importance_0.25</th>\n",
       "                        <td id=\"T_a834bbb6_1c5f_11ed_b4f6_ac1f6b2cd28arow19_col0\" class=\"data row19 col0\" >0.000007</td>\n",
       "                        <td id=\"T_a834bbb6_1c5f_11ed_b4f6_ac1f6b2cd28arow19_col1\" class=\"data row19 col1\" >0.000000</td>\n",
       "                        <td id=\"T_a834bbb6_1c5f_11ed_b4f6_ac1f6b2cd28arow19_col2\" class=\"data row19 col2\" >0.000042</td>\n",
       "                        <td id=\"T_a834bbb6_1c5f_11ed_b4f6_ac1f6b2cd28arow19_col3\" class=\"data row19 col3\" >0.000000</td>\n",
       "                        <td id=\"T_a834bbb6_1c5f_11ed_b4f6_ac1f6b2cd28arow19_col4\" class=\"data row19 col4\" >0.000011</td>\n",
       "                        <td id=\"T_a834bbb6_1c5f_11ed_b4f6_ac1f6b2cd28arow19_col5\" class=\"data row19 col5\" >0.000000</td>\n",
       "                        <td id=\"T_a834bbb6_1c5f_11ed_b4f6_ac1f6b2cd28arow19_col6\" class=\"data row19 col6\" >0.000784</td>\n",
       "                        <td id=\"T_a834bbb6_1c5f_11ed_b4f6_ac1f6b2cd28arow19_col7\" class=\"data row19 col7\" >0.000277</td>\n",
       "                        <td id=\"T_a834bbb6_1c5f_11ed_b4f6_ac1f6b2cd28arow19_col8\" class=\"data row19 col8\" >0.527875</td>\n",
       "                        <td id=\"T_a834bbb6_1c5f_11ed_b4f6_ac1f6b2cd28arow19_col9\" class=\"data row19 col9\" >0.000466</td>\n",
       "            </tr>\n",
       "            <tr>\n",
       "                        <th id=\"T_a834bbb6_1c5f_11ed_b4f6_ac1f6b2cd28alevel0_row20\" class=\"row_heading level0 row20\" >light_feature_importance_0.5</th>\n",
       "                        <td id=\"T_a834bbb6_1c5f_11ed_b4f6_ac1f6b2cd28arow20_col0\" class=\"data row20 col0\" >0.000006</td>\n",
       "                        <td id=\"T_a834bbb6_1c5f_11ed_b4f6_ac1f6b2cd28arow20_col1\" class=\"data row20 col1\" >0.000002</td>\n",
       "                        <td id=\"T_a834bbb6_1c5f_11ed_b4f6_ac1f6b2cd28arow20_col2\" class=\"data row20 col2\" >0.000037</td>\n",
       "                        <td id=\"T_a834bbb6_1c5f_11ed_b4f6_ac1f6b2cd28arow20_col3\" class=\"data row20 col3\" >0.000005</td>\n",
       "                        <td id=\"T_a834bbb6_1c5f_11ed_b4f6_ac1f6b2cd28arow20_col4\" class=\"data row20 col4\" >0.000008</td>\n",
       "                        <td id=\"T_a834bbb6_1c5f_11ed_b4f6_ac1f6b2cd28arow20_col5\" class=\"data row20 col5\" >0.000001</td>\n",
       "                        <td id=\"T_a834bbb6_1c5f_11ed_b4f6_ac1f6b2cd28arow20_col6\" class=\"data row20 col6\" >0.000861</td>\n",
       "                        <td id=\"T_a834bbb6_1c5f_11ed_b4f6_ac1f6b2cd28arow20_col7\" class=\"data row20 col7\" >0.000302</td>\n",
       "                        <td id=\"T_a834bbb6_1c5f_11ed_b4f6_ac1f6b2cd28arow20_col8\" class=\"data row20 col8\" >0.108077</td>\n",
       "                        <td id=\"T_a834bbb6_1c5f_11ed_b4f6_ac1f6b2cd28arow20_col9\" class=\"data row20 col9\" >0.086165</td>\n",
       "            </tr>\n",
       "    </tbody></table>"
      ],
      "text/plain": [
       "<pandas.io.formats.style.Styler at 0x7ff8fb823710>"
      ]
     },
     "execution_count": 61,
     "metadata": {},
     "output_type": "execute_result"
    },
    {
     "data": {
      "application/javascript": [
       "\n",
       "            setTimeout(function() {\n",
       "                var nbb_cell_id = 61;\n",
       "                var nbb_unformatted_code = \"assessor.show_metrics(kind=\\\"table\\\")\";\n",
       "                var nbb_formatted_code = \"assessor.show_metrics(kind=\\\"table\\\")\";\n",
       "                var nbb_cells = Jupyter.notebook.get_cells();\n",
       "                for (var i = 0; i < nbb_cells.length; ++i) {\n",
       "                    if (nbb_cells[i].input_prompt_number == nbb_cell_id) {\n",
       "                        if (nbb_cells[i].get_text() == nbb_unformatted_code) {\n",
       "                             nbb_cells[i].set_text(nbb_formatted_code);\n",
       "                        }\n",
       "                        break;\n",
       "                    }\n",
       "                }\n",
       "            }, 500);\n",
       "            "
      ],
      "text/plain": [
       "<IPython.core.display.Javascript object>"
      ]
     },
     "metadata": {},
     "output_type": "display_data"
    }
   ],
   "source": [
    "assessor.show_metrics(kind=\"table\")"
   ]
  },
  {
   "cell_type": "markdown",
   "metadata": {},
   "source": [
    "Light with features scores terribly because it recommends based on features and ratings, while the metrics are only based on known ratings. So it should be better at recommending new items for users, but requires different metrics to evaluate.\n",
    "\n",
    "---"
   ]
  },
  {
   "cell_type": "markdown",
   "metadata": {},
   "source": [
    "**(1.0 балла) Задание 9.**\n",
    "\n",
    "   Посмотрим на все прошлые методы как на модели, которые генерируют нам кандидатов для ответа рекомендательной системы. \n",
    "   \n",
    "   Как нам выбрать те 20 организаций наилучшим образом? \n",
    "   \n",
    "   Давайте подключим машинное обучение. Сформулируем задачу ранжирования: запросом будет пользователь. Документами будут организации. Наивным признаковым описанием будет, например, факт рекомендации данной организации или скор/ранг от моделей SVD, ALS, LightFM.\n",
    "   Примените catboost/xgboost/lightgbm для создания переранжирования рекомендаций. То есть сделаем двухуровневую модель. Выясните наиболее важные признаки моделей первого уровня."
   ]
  },
  {
   "cell_type": "code",
   "execution_count": 138,
   "metadata": {
    "ExecuteTime": {
     "end_time": "2022-08-25T09:32:57.402550Z",
     "start_time": "2022-08-25T09:32:56.807502Z"
    }
   },
   "outputs": [
    {
     "data": {
      "application/javascript": [
       "\n",
       "            setTimeout(function() {\n",
       "                var nbb_cell_id = 138;\n",
       "                var nbb_unformatted_code = \"from catboost import Pool, CatBoostRanker\\n\\n\\n@njit\\ndef jit_user_ranks(user_id, recommended_org_ids, relevance, k):\\n    unique_org_ids = np.unique(recommended_org_ids)\\n    org_id_map = dict()\\n    for i, org_id in enumerate(unique_org_ids):\\n        org_id_map[org_id] = i\\n\\n    rankings = np.full((len(unique_org_ids), len(recommended_org_ids) // k + 3), -1)\\n    rankings[:, 0] = user_id\\n    rankings[:, 1] = unique_org_ids\\n\\n    for i, (org_id, rel) in enumerate(zip(recommended_org_ids, relevance)):\\n        row_id = org_id_map[org_id]\\n        rankings[row_id, 2] = rel\\n        rankings[row_id, i // k + 3] = i % k\\n    return rankings\\n\\n\\n@njit\\ndef jit_rankings_per_user(user_ids, recommendations, relevance, k=20):\\n    rankings = []\\n    for user_id, rec, rel in zip(user_ids, recommendations, relevance):\\n        rankings.append(jit_user_ranks(user_id, rec, rel, k))\\n\\n    return rankings\\n\\n\\ndef recommendations_data_to_ranking(assessor, model_names):\\n    ranking_data = {}\\n    for dataset, metric in zip(\\n        [\\\"train\\\", \\\"val\\\"], [assessor.train_metrics, assessor.val_metrics]\\n    ):\\n        recommendations = []\\n        relevance = []\\n\\n        for model_name in model_names:\\n            recommendation = assessor.assessments[model_name][\\n                f\\\"{dataset}_recommendations\\\"\\n            ]\\n            recommendations.append(recommendation)\\n            relevance.append(\\n                metric.binary_relevance(\\n                    relevant_pairs=metric.relevant_pairs.values,\\n                    recommendee_user_ids=recommendation.index.to_numpy(),\\n                    recommended_org_ids=recommendation.values,\\n                )\\n            )\\n\\n        recommendations = pd.concat(recommendations, axis=\\\"columns\\\")\\n        relevance = np.hstack(relevance)\\n        rankings = jit_rankings_per_user(\\n            recommendations.index.to_numpy(), recommendations.values, relevance\\n        )\\n        rankings = np.vstack(rankings)\\n        rankings = pd.DataFrame(\\n            rankings, columns=[\\\"user_id\\\", \\\"org_id\\\", \\\"relevance\\\"] + model_names\\n        )\\n        ranking_data[dataset] = {\\n            \\\"pool\\\": Pool(\\n                data=rankings.drop([\\\"user_id\\\", \\\"org_id\\\", \\\"relevance\\\"], axis=\\\"columns\\\"),\\n                cat_features=model_names,\\n                label=rankings[\\\"relevance\\\"].values,\\n                group_id=rankings[\\\"user_id\\\"].values,\\n            ),\\n            \\\"relevance\\\": rankings[[\\\"user_id\\\", \\\"org_id\\\", \\\"relevance\\\"]],\\n        }\\n\\n    return ranking_data\";\n",
       "                var nbb_formatted_code = \"from catboost import Pool, CatBoostRanker\\n\\n\\n@njit\\ndef jit_user_ranks(user_id, recommended_org_ids, relevance, k):\\n    unique_org_ids = np.unique(recommended_org_ids)\\n    org_id_map = dict()\\n    for i, org_id in enumerate(unique_org_ids):\\n        org_id_map[org_id] = i\\n\\n    rankings = np.full((len(unique_org_ids), len(recommended_org_ids) // k + 3), -1)\\n    rankings[:, 0] = user_id\\n    rankings[:, 1] = unique_org_ids\\n\\n    for i, (org_id, rel) in enumerate(zip(recommended_org_ids, relevance)):\\n        row_id = org_id_map[org_id]\\n        rankings[row_id, 2] = rel\\n        rankings[row_id, i // k + 3] = i % k\\n    return rankings\\n\\n\\n@njit\\ndef jit_rankings_per_user(user_ids, recommendations, relevance, k=20):\\n    rankings = []\\n    for user_id, rec, rel in zip(user_ids, recommendations, relevance):\\n        rankings.append(jit_user_ranks(user_id, rec, rel, k))\\n\\n    return rankings\\n\\n\\ndef recommendations_data_to_ranking(assessor, model_names):\\n    ranking_data = {}\\n    for dataset, metric in zip(\\n        [\\\"train\\\", \\\"val\\\"], [assessor.train_metrics, assessor.val_metrics]\\n    ):\\n        recommendations = []\\n        relevance = []\\n\\n        for model_name in model_names:\\n            recommendation = assessor.assessments[model_name][\\n                f\\\"{dataset}_recommendations\\\"\\n            ]\\n            recommendations.append(recommendation)\\n            relevance.append(\\n                metric.binary_relevance(\\n                    relevant_pairs=metric.relevant_pairs.values,\\n                    recommendee_user_ids=recommendation.index.to_numpy(),\\n                    recommended_org_ids=recommendation.values,\\n                )\\n            )\\n\\n        recommendations = pd.concat(recommendations, axis=\\\"columns\\\")\\n        relevance = np.hstack(relevance)\\n        rankings = jit_rankings_per_user(\\n            recommendations.index.to_numpy(), recommendations.values, relevance\\n        )\\n        rankings = np.vstack(rankings)\\n        rankings = pd.DataFrame(\\n            rankings, columns=[\\\"user_id\\\", \\\"org_id\\\", \\\"relevance\\\"] + model_names\\n        )\\n        ranking_data[dataset] = {\\n            \\\"pool\\\": Pool(\\n                data=rankings.drop([\\\"user_id\\\", \\\"org_id\\\", \\\"relevance\\\"], axis=\\\"columns\\\"),\\n                cat_features=model_names,\\n                label=rankings[\\\"relevance\\\"].values,\\n                group_id=rankings[\\\"user_id\\\"].values,\\n            ),\\n            \\\"relevance\\\": rankings[[\\\"user_id\\\", \\\"org_id\\\", \\\"relevance\\\"]],\\n        }\\n\\n    return ranking_data\";\n",
       "                var nbb_cells = Jupyter.notebook.get_cells();\n",
       "                for (var i = 0; i < nbb_cells.length; ++i) {\n",
       "                    if (nbb_cells[i].input_prompt_number == nbb_cell_id) {\n",
       "                        if (nbb_cells[i].get_text() == nbb_unformatted_code) {\n",
       "                             nbb_cells[i].set_text(nbb_formatted_code);\n",
       "                        }\n",
       "                        break;\n",
       "                    }\n",
       "                }\n",
       "            }, 500);\n",
       "            "
      ],
      "text/plain": [
       "<IPython.core.display.Javascript object>"
      ]
     },
     "metadata": {},
     "output_type": "display_data"
    }
   ],
   "source": [
    "from catboost import Pool, CatBoostRanker\n",
    "\n",
    "\n",
    "@njit\n",
    "def jit_user_ranks(user_id, recommended_org_ids, relevance, k):\n",
    "    \"\"\"\n",
    "    :param user_id: id of user to generate ranks for\n",
    "    :param recommended_org_ids: array of org_ids\n",
    "    of shape(n_orgs,) that were recommended by some model\n",
    "    \"\"\"\n",
    "    unique_org_ids = np.unique(recommended_org_ids)\n",
    "    org_id_map = dict()\n",
    "    for i, org_id in enumerate(unique_org_ids):\n",
    "        org_id_map[org_id] = i\n",
    "\n",
    "    rankings = np.full((len(unique_org_ids), len(recommended_org_ids) // k + 3), -1)\n",
    "    rankings[:, 0] = user_id\n",
    "    rankings[:, 1] = unique_org_ids\n",
    "\n",
    "    for i, (org_id, rel) in enumerate(zip(recommended_org_ids, relevance)):\n",
    "        row_id = org_id_map[org_id]\n",
    "        rankings[row_id, 2] = rel\n",
    "        rankings[row_id, i // k + 3] = i % k\n",
    "    return rankings\n",
    "\n",
    "\n",
    "@njit\n",
    "def jit_rankings_per_user(user_ids, recommendations, relevance, k=20):\n",
    "    rankings = []\n",
    "    for user_id, rec, rel in zip(user_ids, recommendations, relevance):\n",
    "        rankings.append(jit_user_ranks(user_id, rec, rel, k))\n",
    "\n",
    "    return rankings\n",
    "\n",
    "\n",
    "def recommendations_data_to_ranking(assessor, model_names):\n",
    "    ranking_data = {}\n",
    "    for dataset, metric in zip(\n",
    "        [\"train\", \"val\"], [assessor.train_metrics, assessor.val_metrics]\n",
    "    ):\n",
    "        recommendations = []\n",
    "        relevance = []\n",
    "\n",
    "        for model_name in model_names:\n",
    "            recommendation = assessor.assessments[model_name][\n",
    "                f\"{dataset}_recommendations\"\n",
    "            ]\n",
    "            recommendations.append(recommendation)\n",
    "            relevance.append(\n",
    "                metric.binary_relevance(\n",
    "                    relevant_pairs=metric.relevant_pairs.values,\n",
    "                    recommendee_user_ids=recommendation.index.to_numpy(),\n",
    "                    recommended_org_ids=recommendation.values,\n",
    "                )\n",
    "            )\n",
    "\n",
    "        recommendations = pd.concat(recommendations, axis=\"columns\")\n",
    "        relevance = np.hstack(relevance)\n",
    "        rankings = jit_rankings_per_user(\n",
    "            recommendations.index.to_numpy(), recommendations.values, relevance\n",
    "        )\n",
    "        rankings = np.vstack(rankings)\n",
    "        rankings = pd.DataFrame(\n",
    "            rankings, columns=[\"user_id\", \"org_id\", \"relevance\"] + model_names\n",
    "        )\n",
    "        ranking_data[dataset] = {\n",
    "            \"pool\": Pool(\n",
    "                data=rankings.drop([\"user_id\", \"org_id\", \"relevance\"], axis=\"columns\"),\n",
    "                cat_features=model_names,\n",
    "                label=rankings[\"relevance\"].values,\n",
    "                group_id=rankings[\"user_id\"].values,\n",
    "            ),\n",
    "            \"relevance\": rankings[[\"user_id\", \"org_id\", \"relevance\"]],\n",
    "        }\n",
    "\n",
    "    return ranking_data"
   ]
  },
  {
   "cell_type": "code",
   "execution_count": 300,
   "metadata": {
    "ExecuteTime": {
     "end_time": "2022-08-15T09:44:53.510054Z",
     "start_time": "2022-08-15T09:43:06.284697Z"
    }
   },
   "outputs": [
    {
     "data": {
      "application/javascript": [
       "\n",
       "            setTimeout(function() {\n",
       "                var nbb_cell_id = 300;\n",
       "                var nbb_unformatted_code = \"ranking_data = recommendations_data_to_ranking(\\n    assessor,\\n    model_names=[\\n        \\\"bm25\\\",\\n        \\\"tfidf\\\",\\n        \\\"svd_10\\\",\\n        \\\"als_filtered\\\",\\n        \\\"light_feature_importance_0\\\",\\n    ],\\n)\";\n",
       "                var nbb_formatted_code = \"ranking_data = recommendations_data_to_ranking(\\n    assessor,\\n    model_names=[\\n        \\\"bm25\\\",\\n        \\\"tfidf\\\",\\n        \\\"svd_10\\\",\\n        \\\"als_filtered\\\",\\n        \\\"light_feature_importance_0\\\",\\n    ],\\n)\";\n",
       "                var nbb_cells = Jupyter.notebook.get_cells();\n",
       "                for (var i = 0; i < nbb_cells.length; ++i) {\n",
       "                    if (nbb_cells[i].input_prompt_number == nbb_cell_id) {\n",
       "                        if (nbb_cells[i].get_text() == nbb_unformatted_code) {\n",
       "                             nbb_cells[i].set_text(nbb_formatted_code);\n",
       "                        }\n",
       "                        break;\n",
       "                    }\n",
       "                }\n",
       "            }, 500);\n",
       "            "
      ],
      "text/plain": [
       "<IPython.core.display.Javascript object>"
      ]
     },
     "metadata": {},
     "output_type": "display_data"
    }
   ],
   "source": [
    "ranking_data = recommendations_data_to_ranking(\n",
    "    assessor,\n",
    "    model_names=[\n",
    "        \"bm25\",\n",
    "        \"tfidf\",\n",
    "        \"svd_10\",\n",
    "        \"als_filtered\",\n",
    "        \"light_feature_importance_0\",\n",
    "    ],\n",
    ")"
   ]
  },
  {
   "cell_type": "code",
   "execution_count": 369,
   "metadata": {
    "ExecuteTime": {
     "end_time": "2022-08-15T11:12:06.394111Z",
     "start_time": "2022-08-15T11:12:06.357352Z"
    }
   },
   "outputs": [
    {
     "data": {
      "application/javascript": [
       "\n",
       "            setTimeout(function() {\n",
       "                var nbb_cell_id = 369;\n",
       "                var nbb_unformatted_code = \"def assess_cb(assessor, ranking_data):\\n    cb_ranker = CatBoostRanker(task_type=\\\"GPU\\\", devices=\\\"1:2\\\")\\n    cb_ranker.fit(ranking_data[\\\"train\\\"][\\\"pool\\\"], verbose=False)\\n    cb_relevance = cb_ranker.predict(ranking_data[\\\"val\\\"][\\\"pool\\\"])\\n    \\n    cb_recommendations = pd.concat(\\n    [ranking_data[\\\"val\\\"][\\\"relevance\\\"], pd.Series(cb_relevance, name=\\\"cb_relevance\\\")],\\n    axis=\\\"columns\\\",\\n)\\n    cb_recommendations = cb_recommendations.groupby(\\\"user_id\\\").apply(\\n    lambda df: df.sort_values(\\\"cb_relevance\\\", ascending=False)[\\\"org_id\\\"]\\n    .iloc[:20]\\n    .values\\n)\\n    cb_recommendations = pd.DataFrame(np.stack(cb_recommendations.values), cb_recommendations.index)\\n    cb_val_metrics = assessor.val_metrics.calculate_metrics(cb_recommendations).rename(\\\"catboost\\\")\\n    metrics = pd.concat(\\n    [i[\\\"val_metrics\\\"] for i in assessor.assessments.values()] + [cb_val_metrics],\\n    axis=\\\"columns\\\",\\n)\\n    return cb_ranker, metrics\";\n",
       "                var nbb_formatted_code = \"def assess_cb(assessor, ranking_data):\\n    cb_ranker = CatBoostRanker(task_type=\\\"GPU\\\", devices=\\\"1:2\\\")\\n    cb_ranker.fit(ranking_data[\\\"train\\\"][\\\"pool\\\"], verbose=False)\\n    cb_relevance = cb_ranker.predict(ranking_data[\\\"val\\\"][\\\"pool\\\"])\\n\\n    cb_recommendations = pd.concat(\\n        [\\n            ranking_data[\\\"val\\\"][\\\"relevance\\\"],\\n            pd.Series(cb_relevance, name=\\\"cb_relevance\\\"),\\n        ],\\n        axis=\\\"columns\\\",\\n    )\\n    cb_recommendations = cb_recommendations.groupby(\\\"user_id\\\").apply(\\n        lambda df: df.sort_values(\\\"cb_relevance\\\", ascending=False)[\\\"org_id\\\"]\\n        .iloc[:20]\\n        .values\\n    )\\n    cb_recommendations = pd.DataFrame(\\n        np.stack(cb_recommendations.values), cb_recommendations.index\\n    )\\n    cb_val_metrics = assessor.val_metrics.calculate_metrics(cb_recommendations).rename(\\n        \\\"catboost\\\"\\n    )\\n    metrics = pd.concat(\\n        [i[\\\"val_metrics\\\"] for i in assessor.assessments.values()] + [cb_val_metrics],\\n        axis=\\\"columns\\\",\\n    )\\n    return cb_ranker, metrics\";\n",
       "                var nbb_cells = Jupyter.notebook.get_cells();\n",
       "                for (var i = 0; i < nbb_cells.length; ++i) {\n",
       "                    if (nbb_cells[i].input_prompt_number == nbb_cell_id) {\n",
       "                        if (nbb_cells[i].get_text() == nbb_unformatted_code) {\n",
       "                             nbb_cells[i].set_text(nbb_formatted_code);\n",
       "                        }\n",
       "                        break;\n",
       "                    }\n",
       "                }\n",
       "            }, 500);\n",
       "            "
      ],
      "text/plain": [
       "<IPython.core.display.Javascript object>"
      ]
     },
     "metadata": {},
     "output_type": "display_data"
    }
   ],
   "source": [
    "def assess_cb(assessor, ranking_data):\n",
    "    cb_ranker = CatBoostRanker(task_type=\"GPU\", devices=\"1:2\",train_dir =\"local\")\n",
    "    cb_ranker.fit(ranking_data[\"train\"][\"pool\"], verbose=False)\n",
    "    cb_relevance = cb_ranker.predict(ranking_data[\"val\"][\"pool\"])\n",
    "\n",
    "    cb_recommendations = pd.concat(\n",
    "        [\n",
    "            ranking_data[\"val\"][\"relevance\"],\n",
    "            pd.Series(cb_relevance, name=\"cb_relevance\"),\n",
    "        ],\n",
    "        axis=\"columns\",\n",
    "    )\n",
    "    cb_recommendations = cb_recommendations.groupby(\"user_id\").apply(\n",
    "        lambda df: df.sort_values(\"cb_relevance\", ascending=False)[\"org_id\"]\n",
    "        .iloc[:20]\n",
    "        .values\n",
    "    )\n",
    "    cb_recommendations = pd.DataFrame(\n",
    "        np.stack(cb_recommendations.values), cb_recommendations.index\n",
    "    )\n",
    "    cb_val_metrics = assessor.val_metrics.calculate_metrics(cb_recommendations).rename(\n",
    "        \"catboost\"\n",
    "    )\n",
    "    metrics = pd.concat(\n",
    "        [i[\"val_metrics\"] for i in assessor.assessments.values()] + [cb_val_metrics],\n",
    "        axis=\"columns\",\n",
    "    )\n",
    "    return cb_ranker, metrics"
   ]
  },
  {
   "cell_type": "code",
   "execution_count": null,
   "metadata": {},
   "outputs": [],
   "source": [
    "cb_ranker, metrics = assess_cb(assessor, ranking_data)"
   ]
  },
  {
   "cell_type": "code",
   "execution_count": 349,
   "metadata": {
    "ExecuteTime": {
     "end_time": "2022-08-15T10:54:50.932485Z",
     "start_time": "2022-08-15T10:54:50.886117Z"
    }
   },
   "outputs": [
    {
     "data": {
      "text/html": [
       "<style  type=\"text/css\" >\n",
       "#T_afd080d4_1c88_11ed_b4f6_ac1f6b2cd28arow0_col0,#T_afd080d4_1c88_11ed_b4f6_ac1f6b2cd28arow0_col1,#T_afd080d4_1c88_11ed_b4f6_ac1f6b2cd28arow0_col2,#T_afd080d4_1c88_11ed_b4f6_ac1f6b2cd28arow1_col3,#T_afd080d4_1c88_11ed_b4f6_ac1f6b2cd28arow17_col3,#T_afd080d4_1c88_11ed_b4f6_ac1f6b2cd28arow18_col0,#T_afd080d4_1c88_11ed_b4f6_ac1f6b2cd28arow18_col1,#T_afd080d4_1c88_11ed_b4f6_ac1f6b2cd28arow18_col2,#T_afd080d4_1c88_11ed_b4f6_ac1f6b2cd28arow18_col3,#T_afd080d4_1c88_11ed_b4f6_ac1f6b2cd28arow19_col0,#T_afd080d4_1c88_11ed_b4f6_ac1f6b2cd28arow19_col1,#T_afd080d4_1c88_11ed_b4f6_ac1f6b2cd28arow19_col2,#T_afd080d4_1c88_11ed_b4f6_ac1f6b2cd28arow19_col4,#T_afd080d4_1c88_11ed_b4f6_ac1f6b2cd28arow20_col0,#T_afd080d4_1c88_11ed_b4f6_ac1f6b2cd28arow20_col1,#T_afd080d4_1c88_11ed_b4f6_ac1f6b2cd28arow20_col2,#T_afd080d4_1c88_11ed_b4f6_ac1f6b2cd28arow20_col3{\n",
       "            background-color:  #8db0fe;\n",
       "            color:  #000000;\n",
       "        }#T_afd080d4_1c88_11ed_b4f6_ac1f6b2cd28arow0_col3,#T_afd080d4_1c88_11ed_b4f6_ac1f6b2cd28arow15_col0,#T_afd080d4_1c88_11ed_b4f6_ac1f6b2cd28arow15_col2{\n",
       "            background-color:  #f49a7b;\n",
       "            color:  #000000;\n",
       "        }#T_afd080d4_1c88_11ed_b4f6_ac1f6b2cd28arow0_col4,#T_afd080d4_1c88_11ed_b4f6_ac1f6b2cd28arow8_col4,#T_afd080d4_1c88_11ed_b4f6_ac1f6b2cd28arow15_col4{\n",
       "            background-color:  #f3c7b1;\n",
       "            color:  #000000;\n",
       "        }#T_afd080d4_1c88_11ed_b4f6_ac1f6b2cd28arow1_col0{\n",
       "            background-color:  #9bbcff;\n",
       "            color:  #000000;\n",
       "        }#T_afd080d4_1c88_11ed_b4f6_ac1f6b2cd28arow1_col1{\n",
       "            background-color:  #98b9ff;\n",
       "            color:  #000000;\n",
       "        }#T_afd080d4_1c88_11ed_b4f6_ac1f6b2cd28arow1_col2,#T_afd080d4_1c88_11ed_b4f6_ac1f6b2cd28arow10_col3{\n",
       "            background-color:  #9ebeff;\n",
       "            color:  #000000;\n",
       "        }#T_afd080d4_1c88_11ed_b4f6_ac1f6b2cd28arow1_col4{\n",
       "            background-color:  #ebd3c6;\n",
       "            color:  #000000;\n",
       "        }#T_afd080d4_1c88_11ed_b4f6_ac1f6b2cd28arow2_col0{\n",
       "            background-color:  #c7d7f0;\n",
       "            color:  #000000;\n",
       "        }#T_afd080d4_1c88_11ed_b4f6_ac1f6b2cd28arow2_col1,#T_afd080d4_1c88_11ed_b4f6_ac1f6b2cd28arow17_col1,#T_afd080d4_1c88_11ed_b4f6_ac1f6b2cd28arow21_col1{\n",
       "            background-color:  #f5c2aa;\n",
       "            color:  #000000;\n",
       "        }#T_afd080d4_1c88_11ed_b4f6_ac1f6b2cd28arow2_col2{\n",
       "            background-color:  #bfd3f6;\n",
       "            color:  #000000;\n",
       "        }#T_afd080d4_1c88_11ed_b4f6_ac1f6b2cd28arow2_col3,#T_afd080d4_1c88_11ed_b4f6_ac1f6b2cd28arow4_col3{\n",
       "            background-color:  #f59c7d;\n",
       "            color:  #000000;\n",
       "        }#T_afd080d4_1c88_11ed_b4f6_ac1f6b2cd28arow2_col4,#T_afd080d4_1c88_11ed_b4f6_ac1f6b2cd28arow4_col4{\n",
       "            background-color:  #edd2c3;\n",
       "            color:  #000000;\n",
       "        }#T_afd080d4_1c88_11ed_b4f6_ac1f6b2cd28arow3_col0,#T_afd080d4_1c88_11ed_b4f6_ac1f6b2cd28arow10_col2{\n",
       "            background-color:  #d2dbe8;\n",
       "            color:  #000000;\n",
       "        }#T_afd080d4_1c88_11ed_b4f6_ac1f6b2cd28arow3_col1,#T_afd080d4_1c88_11ed_b4f6_ac1f6b2cd28arow14_col4,#T_afd080d4_1c88_11ed_b4f6_ac1f6b2cd28arow16_col0,#T_afd080d4_1c88_11ed_b4f6_ac1f6b2cd28arow16_col2{\n",
       "            background-color:  #f4987a;\n",
       "            color:  #000000;\n",
       "        }#T_afd080d4_1c88_11ed_b4f6_ac1f6b2cd28arow3_col2{\n",
       "            background-color:  #cbd8ee;\n",
       "            color:  #000000;\n",
       "        }#T_afd080d4_1c88_11ed_b4f6_ac1f6b2cd28arow3_col3,#T_afd080d4_1c88_11ed_b4f6_ac1f6b2cd28arow13_col4{\n",
       "            background-color:  #f59f80;\n",
       "            color:  #000000;\n",
       "        }#T_afd080d4_1c88_11ed_b4f6_ac1f6b2cd28arow3_col4{\n",
       "            background-color:  #f6a586;\n",
       "            color:  #000000;\n",
       "        }#T_afd080d4_1c88_11ed_b4f6_ac1f6b2cd28arow4_col0,#T_afd080d4_1c88_11ed_b4f6_ac1f6b2cd28arow12_col3{\n",
       "            background-color:  #c4d5f3;\n",
       "            color:  #000000;\n",
       "        }#T_afd080d4_1c88_11ed_b4f6_ac1f6b2cd28arow4_col1{\n",
       "            background-color:  #f2cab5;\n",
       "            color:  #000000;\n",
       "        }#T_afd080d4_1c88_11ed_b4f6_ac1f6b2cd28arow4_col2{\n",
       "            background-color:  #bcd2f7;\n",
       "            color:  #000000;\n",
       "        }#T_afd080d4_1c88_11ed_b4f6_ac1f6b2cd28arow5_col0{\n",
       "            background-color:  #f7a688;\n",
       "            color:  #000000;\n",
       "        }#T_afd080d4_1c88_11ed_b4f6_ac1f6b2cd28arow5_col1{\n",
       "            background-color:  #f7b194;\n",
       "            color:  #000000;\n",
       "        }#T_afd080d4_1c88_11ed_b4f6_ac1f6b2cd28arow5_col2{\n",
       "            background-color:  #f7b396;\n",
       "            color:  #000000;\n",
       "        }#T_afd080d4_1c88_11ed_b4f6_ac1f6b2cd28arow5_col3,#T_afd080d4_1c88_11ed_b4f6_ac1f6b2cd28arow6_col3{\n",
       "            background-color:  #8fb1fe;\n",
       "            color:  #000000;\n",
       "        }#T_afd080d4_1c88_11ed_b4f6_ac1f6b2cd28arow5_col4,#T_afd080d4_1c88_11ed_b4f6_ac1f6b2cd28arow7_col0{\n",
       "            background-color:  #ead4c8;\n",
       "            color:  #000000;\n",
       "        }#T_afd080d4_1c88_11ed_b4f6_ac1f6b2cd28arow6_col0{\n",
       "            background-color:  #f7b99e;\n",
       "            color:  #000000;\n",
       "        }#T_afd080d4_1c88_11ed_b4f6_ac1f6b2cd28arow6_col1,#T_afd080d4_1c88_11ed_b4f6_ac1f6b2cd28arow17_col0{\n",
       "            background-color:  #f7b79b;\n",
       "            color:  #000000;\n",
       "        }#T_afd080d4_1c88_11ed_b4f6_ac1f6b2cd28arow6_col2,#T_afd080d4_1c88_11ed_b4f6_ac1f6b2cd28arow16_col4{\n",
       "            background-color:  #f4c6af;\n",
       "            color:  #000000;\n",
       "        }#T_afd080d4_1c88_11ed_b4f6_ac1f6b2cd28arow6_col4{\n",
       "            background-color:  #ecd3c5;\n",
       "            color:  #000000;\n",
       "        }#T_afd080d4_1c88_11ed_b4f6_ac1f6b2cd28arow7_col1,#T_afd080d4_1c88_11ed_b4f6_ac1f6b2cd28arow21_col4{\n",
       "            background-color:  #eed0c0;\n",
       "            color:  #000000;\n",
       "        }#T_afd080d4_1c88_11ed_b4f6_ac1f6b2cd28arow7_col2{\n",
       "            background-color:  #e2dad5;\n",
       "            color:  #000000;\n",
       "        }#T_afd080d4_1c88_11ed_b4f6_ac1f6b2cd28arow7_col3{\n",
       "            background-color:  #90b2fe;\n",
       "            color:  #000000;\n",
       "        }#T_afd080d4_1c88_11ed_b4f6_ac1f6b2cd28arow7_col4{\n",
       "            background-color:  #f1ccb8;\n",
       "            color:  #000000;\n",
       "        }#T_afd080d4_1c88_11ed_b4f6_ac1f6b2cd28arow8_col0,#T_afd080d4_1c88_11ed_b4f6_ac1f6b2cd28arow9_col1{\n",
       "            background-color:  #e3d9d3;\n",
       "            color:  #000000;\n",
       "        }#T_afd080d4_1c88_11ed_b4f6_ac1f6b2cd28arow8_col1{\n",
       "            background-color:  #e7d7ce;\n",
       "            color:  #000000;\n",
       "        }#T_afd080d4_1c88_11ed_b4f6_ac1f6b2cd28arow8_col2{\n",
       "            background-color:  #dbdcde;\n",
       "            color:  #000000;\n",
       "        }#T_afd080d4_1c88_11ed_b4f6_ac1f6b2cd28arow8_col3,#T_afd080d4_1c88_11ed_b4f6_ac1f6b2cd28arow15_col3,#T_afd080d4_1c88_11ed_b4f6_ac1f6b2cd28arow16_col3{\n",
       "            background-color:  #92b4fe;\n",
       "            color:  #000000;\n",
       "        }#T_afd080d4_1c88_11ed_b4f6_ac1f6b2cd28arow9_col0{\n",
       "            background-color:  #dfdbd9;\n",
       "            color:  #000000;\n",
       "        }#T_afd080d4_1c88_11ed_b4f6_ac1f6b2cd28arow9_col2{\n",
       "            background-color:  #d7dce3;\n",
       "            color:  #000000;\n",
       "        }#T_afd080d4_1c88_11ed_b4f6_ac1f6b2cd28arow9_col3{\n",
       "            background-color:  #96b7ff;\n",
       "            color:  #000000;\n",
       "        }#T_afd080d4_1c88_11ed_b4f6_ac1f6b2cd28arow9_col4{\n",
       "            background-color:  #f5c1a9;\n",
       "            color:  #000000;\n",
       "        }#T_afd080d4_1c88_11ed_b4f6_ac1f6b2cd28arow10_col0{\n",
       "            background-color:  #dcdddd;\n",
       "            color:  #000000;\n",
       "        }#T_afd080d4_1c88_11ed_b4f6_ac1f6b2cd28arow10_col1{\n",
       "            background-color:  #e1dad6;\n",
       "            color:  #000000;\n",
       "        }#T_afd080d4_1c88_11ed_b4f6_ac1f6b2cd28arow10_col4{\n",
       "            background-color:  #f7bca1;\n",
       "            color:  #000000;\n",
       "        }#T_afd080d4_1c88_11ed_b4f6_ac1f6b2cd28arow11_col0{\n",
       "            background-color:  #d6dce4;\n",
       "            color:  #000000;\n",
       "        }#T_afd080d4_1c88_11ed_b4f6_ac1f6b2cd28arow11_col1{\n",
       "            background-color:  #dddcdc;\n",
       "            color:  #000000;\n",
       "        }#T_afd080d4_1c88_11ed_b4f6_ac1f6b2cd28arow11_col2{\n",
       "            background-color:  #c9d7f0;\n",
       "            color:  #000000;\n",
       "        }#T_afd080d4_1c88_11ed_b4f6_ac1f6b2cd28arow11_col3{\n",
       "            background-color:  #abc8fd;\n",
       "            color:  #000000;\n",
       "        }#T_afd080d4_1c88_11ed_b4f6_ac1f6b2cd28arow11_col4{\n",
       "            background-color:  #f7b497;\n",
       "            color:  #000000;\n",
       "        }#T_afd080d4_1c88_11ed_b4f6_ac1f6b2cd28arow12_col0{\n",
       "            background-color:  #cdd9ec;\n",
       "            color:  #000000;\n",
       "        }#T_afd080d4_1c88_11ed_b4f6_ac1f6b2cd28arow12_col1{\n",
       "            background-color:  #d5dbe5;\n",
       "            color:  #000000;\n",
       "        }#T_afd080d4_1c88_11ed_b4f6_ac1f6b2cd28arow12_col2,#T_afd080d4_1c88_11ed_b4f6_ac1f6b2cd28arow13_col0{\n",
       "            background-color:  #c0d4f5;\n",
       "            color:  #000000;\n",
       "        }#T_afd080d4_1c88_11ed_b4f6_ac1f6b2cd28arow12_col4,#T_afd080d4_1c88_11ed_b4f6_ac1f6b2cd28arow14_col3{\n",
       "            background-color:  #f7aa8c;\n",
       "            color:  #000000;\n",
       "        }#T_afd080d4_1c88_11ed_b4f6_ac1f6b2cd28arow13_col1{\n",
       "            background-color:  #c6d6f1;\n",
       "            color:  #000000;\n",
       "        }#T_afd080d4_1c88_11ed_b4f6_ac1f6b2cd28arow13_col2{\n",
       "            background-color:  #b3cdfb;\n",
       "            color:  #000000;\n",
       "        }#T_afd080d4_1c88_11ed_b4f6_ac1f6b2cd28arow13_col3{\n",
       "            background-color:  #efcfbf;\n",
       "            color:  #000000;\n",
       "        }#T_afd080d4_1c88_11ed_b4f6_ac1f6b2cd28arow14_col0{\n",
       "            background-color:  #aac7fd;\n",
       "            color:  #000000;\n",
       "        }#T_afd080d4_1c88_11ed_b4f6_ac1f6b2cd28arow14_col1{\n",
       "            background-color:  #aec9fc;\n",
       "            color:  #000000;\n",
       "        }#T_afd080d4_1c88_11ed_b4f6_ac1f6b2cd28arow14_col2{\n",
       "            background-color:  #a2c1ff;\n",
       "            color:  #000000;\n",
       "        }#T_afd080d4_1c88_11ed_b4f6_ac1f6b2cd28arow15_col1,#T_afd080d4_1c88_11ed_b4f6_ac1f6b2cd28arow16_col1,#T_afd080d4_1c88_11ed_b4f6_ac1f6b2cd28arow21_col2{\n",
       "            background-color:  #f7ac8e;\n",
       "            color:  #000000;\n",
       "        }#T_afd080d4_1c88_11ed_b4f6_ac1f6b2cd28arow17_col2{\n",
       "            background-color:  #f6bfa6;\n",
       "            color:  #000000;\n",
       "        }#T_afd080d4_1c88_11ed_b4f6_ac1f6b2cd28arow17_col4{\n",
       "            background-color:  #e5d8d1;\n",
       "            color:  #000000;\n",
       "        }#T_afd080d4_1c88_11ed_b4f6_ac1f6b2cd28arow18_col4{\n",
       "            background-color:  #97b8ff;\n",
       "            color:  #000000;\n",
       "        }#T_afd080d4_1c88_11ed_b4f6_ac1f6b2cd28arow19_col3{\n",
       "            background-color:  #8caffe;\n",
       "            color:  #000000;\n",
       "        }#T_afd080d4_1c88_11ed_b4f6_ac1f6b2cd28arow20_col4{\n",
       "            background-color:  #a1c0ff;\n",
       "            color:  #000000;\n",
       "        }#T_afd080d4_1c88_11ed_b4f6_ac1f6b2cd28arow21_col0{\n",
       "            background-color:  #f6bea4;\n",
       "            color:  #000000;\n",
       "        }#T_afd080d4_1c88_11ed_b4f6_ac1f6b2cd28arow21_col3{\n",
       "            background-color:  #f6a385;\n",
       "            color:  #000000;\n",
       "        }</style><table id=\"T_afd080d4_1c88_11ed_b4f6_ac1f6b2cd28a\" ><thead>    <tr>        <th class=\"blank level0\" ></th>        <th class=\"col_heading level0 col0\" >mnap</th>        <th class=\"col_heading level0 col1\" >hitrate</th>        <th class=\"col_heading level0 col2\" >mrr</th>        <th class=\"col_heading level0 col3\" >coverage</th>        <th class=\"col_heading level0 col4\" >surprisal</th>    </tr></thead><tbody>\n",
       "                <tr>\n",
       "                        <th id=\"T_afd080d4_1c88_11ed_b4f6_ac1f6b2cd28alevel0_row0\" class=\"row_heading level0 row0\" >random</th>\n",
       "                        <td id=\"T_afd080d4_1c88_11ed_b4f6_ac1f6b2cd28arow0_col0\" class=\"data row0 col0\" >0.000096</td>\n",
       "                        <td id=\"T_afd080d4_1c88_11ed_b4f6_ac1f6b2cd28arow0_col1\" class=\"data row0 col1\" >0.000581</td>\n",
       "                        <td id=\"T_afd080d4_1c88_11ed_b4f6_ac1f6b2cd28arow0_col2\" class=\"data row0 col2\" >0.000099</td>\n",
       "                        <td id=\"T_afd080d4_1c88_11ed_b4f6_ac1f6b2cd28arow0_col3\" class=\"data row0 col3\" >0.914483</td>\n",
       "                        <td id=\"T_afd080d4_1c88_11ed_b4f6_ac1f6b2cd28arow0_col4\" class=\"data row0 col4\" >0.569923</td>\n",
       "            </tr>\n",
       "            <tr>\n",
       "                        <th id=\"T_afd080d4_1c88_11ed_b4f6_ac1f6b2cd28alevel0_row1\" class=\"row_heading level0 row1\" >popular</th>\n",
       "                        <td id=\"T_afd080d4_1c88_11ed_b4f6_ac1f6b2cd28arow1_col0\" class=\"data row1 col0\" >0.003523</td>\n",
       "                        <td id=\"T_afd080d4_1c88_11ed_b4f6_ac1f6b2cd28arow1_col1\" class=\"data row1 col1\" >0.009424</td>\n",
       "                        <td id=\"T_afd080d4_1c88_11ed_b4f6_ac1f6b2cd28arow1_col2\" class=\"data row1 col2\" >0.004419</td>\n",
       "                        <td id=\"T_afd080d4_1c88_11ed_b4f6_ac1f6b2cd28arow1_col3\" class=\"data row1 col3\" >0.001007</td>\n",
       "                        <td id=\"T_afd080d4_1c88_11ed_b4f6_ac1f6b2cd28arow1_col4\" class=\"data row1 col4\" >0.483808</td>\n",
       "            </tr>\n",
       "            <tr>\n",
       "                        <th id=\"T_afd080d4_1c88_11ed_b4f6_ac1f6b2cd28alevel0_row2\" class=\"row_heading level0 row2\" >tfidf</th>\n",
       "                        <td id=\"T_afd080d4_1c88_11ed_b4f6_ac1f6b2cd28arow2_col0\" class=\"data row2 col0\" >0.015240</td>\n",
       "                        <td id=\"T_afd080d4_1c88_11ed_b4f6_ac1f6b2cd28arow2_col1\" class=\"data row2 col1\" >0.104690</td>\n",
       "                        <td id=\"T_afd080d4_1c88_11ed_b4f6_ac1f6b2cd28arow2_col2\" class=\"data row2 col2\" >0.013479</td>\n",
       "                        <td id=\"T_afd080d4_1c88_11ed_b4f6_ac1f6b2cd28arow2_col3\" class=\"data row2 col3\" >0.905298</td>\n",
       "                        <td id=\"T_afd080d4_1c88_11ed_b4f6_ac1f6b2cd28arow2_col4\" class=\"data row2 col4\" >0.498584</td>\n",
       "            </tr>\n",
       "            <tr>\n",
       "                        <th id=\"T_afd080d4_1c88_11ed_b4f6_ac1f6b2cd28alevel0_row3\" class=\"row_heading level0 row3\" >bm25</th>\n",
       "                        <td id=\"T_afd080d4_1c88_11ed_b4f6_ac1f6b2cd28arow3_col0\" class=\"data row3 col0\" >0.018510</td>\n",
       "                        <td id=\"T_afd080d4_1c88_11ed_b4f6_ac1f6b2cd28arow3_col1\" class=\"data row3 col1\" >0.136852</td>\n",
       "                        <td id=\"T_afd080d4_1c88_11ed_b4f6_ac1f6b2cd28arow3_col2\" class=\"data row3 col2\" >0.017151</td>\n",
       "                        <td id=\"T_afd080d4_1c88_11ed_b4f6_ac1f6b2cd28arow3_col3\" class=\"data row3 col3\" >0.886322</td>\n",
       "                        <td id=\"T_afd080d4_1c88_11ed_b4f6_ac1f6b2cd28arow3_col4\" class=\"data row3 col4\" >0.731392</td>\n",
       "            </tr>\n",
       "            <tr>\n",
       "                        <th id=\"T_afd080d4_1c88_11ed_b4f6_ac1f6b2cd28alevel0_row4\" class=\"row_heading level0 row4\" >cosine</th>\n",
       "                        <td id=\"T_afd080d4_1c88_11ed_b4f6_ac1f6b2cd28arow4_col0\" class=\"data row4 col0\" >0.014197</td>\n",
       "                        <td id=\"T_afd080d4_1c88_11ed_b4f6_ac1f6b2cd28arow4_col1\" class=\"data row4 col1\" >0.096809</td>\n",
       "                        <td id=\"T_afd080d4_1c88_11ed_b4f6_ac1f6b2cd28arow4_col2\" class=\"data row4 col2\" >0.012577</td>\n",
       "                        <td id=\"T_afd080d4_1c88_11ed_b4f6_ac1f6b2cd28arow4_col3\" class=\"data row4 col3\" >0.900818</td>\n",
       "                        <td id=\"T_afd080d4_1c88_11ed_b4f6_ac1f6b2cd28arow4_col4\" class=\"data row4 col4\" >0.499409</td>\n",
       "            </tr>\n",
       "            <tr>\n",
       "                        <th id=\"T_afd080d4_1c88_11ed_b4f6_ac1f6b2cd28alevel0_row5\" class=\"row_heading level0 row5\" >svd_10</th>\n",
       "                        <td id=\"T_afd080d4_1c88_11ed_b4f6_ac1f6b2cd28arow5_col0\" class=\"data row5 col0\" >0.040916</td>\n",
       "                        <td id=\"T_afd080d4_1c88_11ed_b4f6_ac1f6b2cd28arow5_col1\" class=\"data row5 col1\" >0.119701</td>\n",
       "                        <td id=\"T_afd080d4_1c88_11ed_b4f6_ac1f6b2cd28arow5_col2\" class=\"data row5 col2\" >0.039528</td>\n",
       "                        <td id=\"T_afd080d4_1c88_11ed_b4f6_ac1f6b2cd28arow5_col3\" class=\"data row5 col3\" >0.008909</td>\n",
       "                        <td id=\"T_afd080d4_1c88_11ed_b4f6_ac1f6b2cd28arow5_col4\" class=\"data row5 col4\" >0.479104</td>\n",
       "            </tr>\n",
       "            <tr>\n",
       "                        <th id=\"T_afd080d4_1c88_11ed_b4f6_ac1f6b2cd28alevel0_row6\" class=\"row_heading level0 row6\" >svd_21</th>\n",
       "                        <td id=\"T_afd080d4_1c88_11ed_b4f6_ac1f6b2cd28arow6_col0\" class=\"data row6 col0\" >0.036116</td>\n",
       "                        <td id=\"T_afd080d4_1c88_11ed_b4f6_ac1f6b2cd28arow6_col1\" class=\"data row6 col1\" >0.114706</td>\n",
       "                        <td id=\"T_afd080d4_1c88_11ed_b4f6_ac1f6b2cd28arow6_col2\" class=\"data row6 col2\" >0.033937</td>\n",
       "                        <td id=\"T_afd080d4_1c88_11ed_b4f6_ac1f6b2cd28arow6_col3\" class=\"data row6 col3\" >0.009840</td>\n",
       "                        <td id=\"T_afd080d4_1c88_11ed_b4f6_ac1f6b2cd28arow6_col4\" class=\"data row6 col4\" >0.492667</td>\n",
       "            </tr>\n",
       "            <tr>\n",
       "                        <th id=\"T_afd080d4_1c88_11ed_b4f6_ac1f6b2cd28alevel0_row7\" class=\"row_heading level0 row7\" >svd_46</th>\n",
       "                        <td id=\"T_afd080d4_1c88_11ed_b4f6_ac1f6b2cd28arow7_col0\" class=\"data row7 col0\" >0.026909</td>\n",
       "                        <td id=\"T_afd080d4_1c88_11ed_b4f6_ac1f6b2cd28arow7_col1\" class=\"data row7 col1\" >0.089676</td>\n",
       "                        <td id=\"T_afd080d4_1c88_11ed_b4f6_ac1f6b2cd28arow7_col2\" class=\"data row7 col2\" >0.024833</td>\n",
       "                        <td id=\"T_afd080d4_1c88_11ed_b4f6_ac1f6b2cd28arow7_col3\" class=\"data row7 col3\" >0.016107</td>\n",
       "                        <td id=\"T_afd080d4_1c88_11ed_b4f6_ac1f6b2cd28arow7_col4\" class=\"data row7 col4\" >0.539978</td>\n",
       "            </tr>\n",
       "            <tr>\n",
       "                        <th id=\"T_afd080d4_1c88_11ed_b4f6_ac1f6b2cd28alevel0_row8\" class=\"row_heading level0 row8\" >svd_100</th>\n",
       "                        <td id=\"T_afd080d4_1c88_11ed_b4f6_ac1f6b2cd28arow8_col0\" class=\"data row8 col0\" >0.024224</td>\n",
       "                        <td id=\"T_afd080d4_1c88_11ed_b4f6_ac1f6b2cd28arow8_col1\" class=\"data row8 col1\" >0.079867</td>\n",
       "                        <td id=\"T_afd080d4_1c88_11ed_b4f6_ac1f6b2cd28arow8_col2\" class=\"data row8 col2\" >0.022466</td>\n",
       "                        <td id=\"T_afd080d4_1c88_11ed_b4f6_ac1f6b2cd28arow8_col3\" class=\"data row8 col3\" >0.026173</td>\n",
       "                        <td id=\"T_afd080d4_1c88_11ed_b4f6_ac1f6b2cd28arow8_col4\" class=\"data row8 col4\" >0.571336</td>\n",
       "            </tr>\n",
       "            <tr>\n",
       "                        <th id=\"T_afd080d4_1c88_11ed_b4f6_ac1f6b2cd28alevel0_row9\" class=\"row_heading level0 row9\" >svd_215</th>\n",
       "                        <td id=\"T_afd080d4_1c88_11ed_b4f6_ac1f6b2cd28arow9_col0\" class=\"data row9 col0\" >0.022805</td>\n",
       "                        <td id=\"T_afd080d4_1c88_11ed_b4f6_ac1f6b2cd28arow9_col1\" class=\"data row9 col1\" >0.075043</td>\n",
       "                        <td id=\"T_afd080d4_1c88_11ed_b4f6_ac1f6b2cd28arow9_col2\" class=\"data row9 col2\" >0.020870</td>\n",
       "                        <td id=\"T_afd080d4_1c88_11ed_b4f6_ac1f6b2cd28arow9_col3\" class=\"data row9 col3\" >0.048672</td>\n",
       "                        <td id=\"T_afd080d4_1c88_11ed_b4f6_ac1f6b2cd28arow9_col4\" class=\"data row9 col4\" >0.603278</td>\n",
       "            </tr>\n",
       "            <tr>\n",
       "                        <th id=\"T_afd080d4_1c88_11ed_b4f6_ac1f6b2cd28alevel0_row10\" class=\"row_heading level0 row10\" >svd_464</th>\n",
       "                        <td id=\"T_afd080d4_1c88_11ed_b4f6_ac1f6b2cd28arow10_col0\" class=\"data row10 col0\" >0.021658</td>\n",
       "                        <td id=\"T_afd080d4_1c88_11ed_b4f6_ac1f6b2cd28arow10_col1\" class=\"data row10 col1\" >0.073208</td>\n",
       "                        <td id=\"T_afd080d4_1c88_11ed_b4f6_ac1f6b2cd28arow10_col2\" class=\"data row10 col2\" >0.019030</td>\n",
       "                        <td id=\"T_afd080d4_1c88_11ed_b4f6_ac1f6b2cd28arow10_col3\" class=\"data row10 col3\" >0.086498</td>\n",
       "                        <td id=\"T_afd080d4_1c88_11ed_b4f6_ac1f6b2cd28arow10_col4\" class=\"data row10 col4\" >0.632858</td>\n",
       "            </tr>\n",
       "            <tr>\n",
       "                        <th id=\"T_afd080d4_1c88_11ed_b4f6_ac1f6b2cd28alevel0_row11\" class=\"row_heading level0 row11\" >svd_1000</th>\n",
       "                        <td id=\"T_afd080d4_1c88_11ed_b4f6_ac1f6b2cd28arow11_col0\" class=\"data row11 col0\" >0.019612</td>\n",
       "                        <td id=\"T_afd080d4_1c88_11ed_b4f6_ac1f6b2cd28arow11_col1\" class=\"data row11 col1\" >0.068447</td>\n",
       "                        <td id=\"T_afd080d4_1c88_11ed_b4f6_ac1f6b2cd28arow11_col2\" class=\"data row11 col2\" >0.016392</td>\n",
       "                        <td id=\"T_afd080d4_1c88_11ed_b4f6_ac1f6b2cd28arow11_col3\" class=\"data row11 col3\" >0.158978</td>\n",
       "                        <td id=\"T_afd080d4_1c88_11ed_b4f6_ac1f6b2cd28arow11_col4\" class=\"data row11 col4\" >0.666292</td>\n",
       "            </tr>\n",
       "            <tr>\n",
       "                        <th id=\"T_afd080d4_1c88_11ed_b4f6_ac1f6b2cd28alevel0_row12\" class=\"row_heading level0 row12\" >svd_2154</th>\n",
       "                        <td id=\"T_afd080d4_1c88_11ed_b4f6_ac1f6b2cd28arow12_col0\" class=\"data row12 col0\" >0.017024</td>\n",
       "                        <td id=\"T_afd080d4_1c88_11ed_b4f6_ac1f6b2cd28arow12_col1\" class=\"data row12 col1\" >0.060621</td>\n",
       "                        <td id=\"T_afd080d4_1c88_11ed_b4f6_ac1f6b2cd28arow12_col2\" class=\"data row12 col2\" >0.013647</td>\n",
       "                        <td id=\"T_afd080d4_1c88_11ed_b4f6_ac1f6b2cd28arow12_col3\" class=\"data row12 col3\" >0.297748</td>\n",
       "                        <td id=\"T_afd080d4_1c88_11ed_b4f6_ac1f6b2cd28arow12_col4\" class=\"data row12 col4\" >0.708470</td>\n",
       "            </tr>\n",
       "            <tr>\n",
       "                        <th id=\"T_afd080d4_1c88_11ed_b4f6_ac1f6b2cd28alevel0_row13\" class=\"row_heading level0 row13\" >svd_4641</th>\n",
       "                        <td id=\"T_afd080d4_1c88_11ed_b4f6_ac1f6b2cd28arow13_col0\" class=\"data row13 col0\" >0.013222</td>\n",
       "                        <td id=\"T_afd080d4_1c88_11ed_b4f6_ac1f6b2cd28arow13_col1\" class=\"data row13 col1\" >0.047030</td>\n",
       "                        <td id=\"T_afd080d4_1c88_11ed_b4f6_ac1f6b2cd28arow13_col2\" class=\"data row13 col2\" >0.010233</td>\n",
       "                        <td id=\"T_afd080d4_1c88_11ed_b4f6_ac1f6b2cd28arow13_col3\" class=\"data row13 col3\" >0.605990</td>\n",
       "                        <td id=\"T_afd080d4_1c88_11ed_b4f6_ac1f6b2cd28arow13_col4\" class=\"data row13 col4\" >0.758492</td>\n",
       "            </tr>\n",
       "            <tr>\n",
       "                        <th id=\"T_afd080d4_1c88_11ed_b4f6_ac1f6b2cd28alevel0_row14\" class=\"row_heading level0 row14\" >svd_10000</th>\n",
       "                        <td id=\"T_afd080d4_1c88_11ed_b4f6_ac1f6b2cd28arow14_col0\" class=\"data row14 col0\" >0.007285</td>\n",
       "                        <td id=\"T_afd080d4_1c88_11ed_b4f6_ac1f6b2cd28arow14_col1\" class=\"data row14 col1\" >0.025832</td>\n",
       "                        <td id=\"T_afd080d4_1c88_11ed_b4f6_ac1f6b2cd28arow14_col2\" class=\"data row14 col2\" >0.005640</td>\n",
       "                        <td id=\"T_afd080d4_1c88_11ed_b4f6_ac1f6b2cd28arow14_col3\" class=\"data row14 col3\" >0.831383</td>\n",
       "                        <td id=\"T_afd080d4_1c88_11ed_b4f6_ac1f6b2cd28arow14_col4\" class=\"data row14 col4\" >0.780007</td>\n",
       "            </tr>\n",
       "            <tr>\n",
       "                        <th id=\"T_afd080d4_1c88_11ed_b4f6_ac1f6b2cd28alevel0_row15\" class=\"row_heading level0 row15\" >als</th>\n",
       "                        <td id=\"T_afd080d4_1c88_11ed_b4f6_ac1f6b2cd28arow15_col0\" class=\"data row15 col0\" >0.043779</td>\n",
       "                        <td id=\"T_afd080d4_1c88_11ed_b4f6_ac1f6b2cd28arow15_col1\" class=\"data row15 col1\" >0.123962</td>\n",
       "                        <td id=\"T_afd080d4_1c88_11ed_b4f6_ac1f6b2cd28arow15_col2\" class=\"data row15 col2\" >0.045665</td>\n",
       "                        <td id=\"T_afd080d4_1c88_11ed_b4f6_ac1f6b2cd28arow15_col3\" class=\"data row15 col3\" >0.026199</td>\n",
       "                        <td id=\"T_afd080d4_1c88_11ed_b4f6_ac1f6b2cd28arow15_col4\" class=\"data row15 col4\" >0.572649</td>\n",
       "            </tr>\n",
       "            <tr>\n",
       "                        <th id=\"T_afd080d4_1c88_11ed_b4f6_ac1f6b2cd28alevel0_row16\" class=\"row_heading level0 row16\" >als_filtered</th>\n",
       "                        <td id=\"T_afd080d4_1c88_11ed_b4f6_ac1f6b2cd28arow16_col0\" class=\"data row16 col0\" >0.043949</td>\n",
       "                        <td id=\"T_afd080d4_1c88_11ed_b4f6_ac1f6b2cd28arow16_col1\" class=\"data row16 col1\" >0.123822</td>\n",
       "                        <td id=\"T_afd080d4_1c88_11ed_b4f6_ac1f6b2cd28arow16_col2\" class=\"data row16 col2\" >0.045782</td>\n",
       "                        <td id=\"T_afd080d4_1c88_11ed_b4f6_ac1f6b2cd28arow16_col3\" class=\"data row16 col3\" >0.025897</td>\n",
       "                        <td id=\"T_afd080d4_1c88_11ed_b4f6_ac1f6b2cd28arow16_col4\" class=\"data row16 col4\" >0.573173</td>\n",
       "            </tr>\n",
       "            <tr>\n",
       "                        <th id=\"T_afd080d4_1c88_11ed_b4f6_ac1f6b2cd28alevel0_row17\" class=\"row_heading level0 row17\" >light_feature_importance_0</th>\n",
       "                        <td id=\"T_afd080d4_1c88_11ed_b4f6_ac1f6b2cd28arow17_col0\" class=\"data row17 col0\" >0.036794</td>\n",
       "                        <td id=\"T_afd080d4_1c88_11ed_b4f6_ac1f6b2cd28arow17_col1\" class=\"data row17 col1\" >0.104560</td>\n",
       "                        <td id=\"T_afd080d4_1c88_11ed_b4f6_ac1f6b2cd28arow17_col2\" class=\"data row17 col2\" >0.036024</td>\n",
       "                        <td id=\"T_afd080d4_1c88_11ed_b4f6_ac1f6b2cd28arow17_col3\" class=\"data row17 col3\" >0.000730</td>\n",
       "                        <td id=\"T_afd080d4_1c88_11ed_b4f6_ac1f6b2cd28arow17_col4\" class=\"data row17 col4\" >0.440942</td>\n",
       "            </tr>\n",
       "            <tr>\n",
       "                        <th id=\"T_afd080d4_1c88_11ed_b4f6_ac1f6b2cd28alevel0_row18\" class=\"row_heading level0 row18\" >light_feature_importance_0.1</th>\n",
       "                        <td id=\"T_afd080d4_1c88_11ed_b4f6_ac1f6b2cd28arow18_col0\" class=\"data row18 col0\" >0.000000</td>\n",
       "                        <td id=\"T_afd080d4_1c88_11ed_b4f6_ac1f6b2cd28arow18_col1\" class=\"data row18 col1\" >0.000008</td>\n",
       "                        <td id=\"T_afd080d4_1c88_11ed_b4f6_ac1f6b2cd28arow18_col2\" class=\"data row18 col2\" >0.000000</td>\n",
       "                        <td id=\"T_afd080d4_1c88_11ed_b4f6_ac1f6b2cd28arow18_col3\" class=\"data row18 col3\" >0.000302</td>\n",
       "                        <td id=\"T_afd080d4_1c88_11ed_b4f6_ac1f6b2cd28arow18_col4\" class=\"data row18 col4\" >0.044000</td>\n",
       "            </tr>\n",
       "            <tr>\n",
       "                        <th id=\"T_afd080d4_1c88_11ed_b4f6_ac1f6b2cd28alevel0_row19\" class=\"row_heading level0 row19\" >light_feature_importance_0.25</th>\n",
       "                        <td id=\"T_afd080d4_1c88_11ed_b4f6_ac1f6b2cd28arow19_col0\" class=\"data row19 col0\" >0.000000</td>\n",
       "                        <td id=\"T_afd080d4_1c88_11ed_b4f6_ac1f6b2cd28arow19_col1\" class=\"data row19 col1\" >0.000000</td>\n",
       "                        <td id=\"T_afd080d4_1c88_11ed_b4f6_ac1f6b2cd28arow19_col2\" class=\"data row19 col2\" >0.000000</td>\n",
       "                        <td id=\"T_afd080d4_1c88_11ed_b4f6_ac1f6b2cd28arow19_col3\" class=\"data row19 col3\" >0.000277</td>\n",
       "                        <td id=\"T_afd080d4_1c88_11ed_b4f6_ac1f6b2cd28arow19_col4\" class=\"data row19 col4\" >0.000466</td>\n",
       "            </tr>\n",
       "            <tr>\n",
       "                        <th id=\"T_afd080d4_1c88_11ed_b4f6_ac1f6b2cd28alevel0_row20\" class=\"row_heading level0 row20\" >light_feature_importance_0.5</th>\n",
       "                        <td id=\"T_afd080d4_1c88_11ed_b4f6_ac1f6b2cd28arow20_col0\" class=\"data row20 col0\" >0.000002</td>\n",
       "                        <td id=\"T_afd080d4_1c88_11ed_b4f6_ac1f6b2cd28arow20_col1\" class=\"data row20 col1\" >0.000005</td>\n",
       "                        <td id=\"T_afd080d4_1c88_11ed_b4f6_ac1f6b2cd28arow20_col2\" class=\"data row20 col2\" >0.000001</td>\n",
       "                        <td id=\"T_afd080d4_1c88_11ed_b4f6_ac1f6b2cd28arow20_col3\" class=\"data row20 col3\" >0.000302</td>\n",
       "                        <td id=\"T_afd080d4_1c88_11ed_b4f6_ac1f6b2cd28arow20_col4\" class=\"data row20 col4\" >0.086165</td>\n",
       "            </tr>\n",
       "            <tr>\n",
       "                        <th id=\"T_afd080d4_1c88_11ed_b4f6_ac1f6b2cd28alevel0_row21\" class=\"row_heading level0 row21\" >catboost</th>\n",
       "                        <td id=\"T_afd080d4_1c88_11ed_b4f6_ac1f6b2cd28arow21_col0\" class=\"data row21 col0\" >0.034917</td>\n",
       "                        <td id=\"T_afd080d4_1c88_11ed_b4f6_ac1f6b2cd28arow21_col1\" class=\"data row21 col1\" >0.104286</td>\n",
       "                        <td id=\"T_afd080d4_1c88_11ed_b4f6_ac1f6b2cd28arow21_col2\" class=\"data row21 col2\" >0.041368</td>\n",
       "                        <td id=\"T_afd080d4_1c88_11ed_b4f6_ac1f6b2cd28arow21_col3\" class=\"data row21 col3\" >0.869321</td>\n",
       "                        <td id=\"T_afd080d4_1c88_11ed_b4f6_ac1f6b2cd28arow21_col4\" class=\"data row21 col4\" >0.508825</td>\n",
       "            </tr>\n",
       "    </tbody></table>"
      ],
      "text/plain": [
       "<pandas.io.formats.style.Styler at 0x7ff8012bfc50>"
      ]
     },
     "execution_count": 349,
     "metadata": {},
     "output_type": "execute_result"
    },
    {
     "data": {
      "application/javascript": [
       "\n",
       "            setTimeout(function() {\n",
       "                var nbb_cell_id = 349;\n",
       "                var nbb_unformatted_code = \"pd.concat(\\n    [i[\\\"val_metrics\\\"] for i in assessor.assessments.values()] + [cb_val_metrics],\\n    axis=\\\"columns\\\",\\n).T.style.background_gradient(cmap=\\\"coolwarm\\\", low=0.5, high=0.5)\";\n",
       "                var nbb_formatted_code = \"pd.concat(\\n    [i[\\\"val_metrics\\\"] for i in assessor.assessments.values()] + [cb_val_metrics],\\n    axis=\\\"columns\\\",\\n).T.style.background_gradient(cmap=\\\"coolwarm\\\", low=0.5, high=0.5)\";\n",
       "                var nbb_cells = Jupyter.notebook.get_cells();\n",
       "                for (var i = 0; i < nbb_cells.length; ++i) {\n",
       "                    if (nbb_cells[i].input_prompt_number == nbb_cell_id) {\n",
       "                        if (nbb_cells[i].get_text() == nbb_unformatted_code) {\n",
       "                             nbb_cells[i].set_text(nbb_formatted_code);\n",
       "                        }\n",
       "                        break;\n",
       "                    }\n",
       "                }\n",
       "            }, 500);\n",
       "            "
      ],
      "text/plain": [
       "<IPython.core.display.Javascript object>"
      ]
     },
     "metadata": {},
     "output_type": "display_data"
    }
   ],
   "source": [
    "metrics.T.style.background_gradient(cmap=\"coolwarm\", low=0.5, high=0.5)"
   ]
  },
  {
   "cell_type": "code",
   "execution_count": 368,
   "metadata": {
    "ExecuteTime": {
     "end_time": "2022-08-15T11:11:38.782077Z",
     "start_time": "2022-08-15T11:11:38.757787Z"
    }
   },
   "outputs": [
    {
     "data": {
      "application/javascript": [
       "\n",
       "            setTimeout(function() {\n",
       "                var nbb_cell_id = 368;\n",
       "                var nbb_unformatted_code = \"def calculate_feature_importance(cb_ranker, ranking_data):\\n    importance = cb_ranker.get_feature_importance(ranking_data[\\\"val\\\"][\\\"pool\\\"])\\n    importance = pd.Series(importance, cb_ranker.feature_names_).rename(\\\"cb feature importance\\\")\\n    importance = importance.to_frame().style.background_gradient(cmap=\\\"coolwarm\\\", low=0.5, high=0.5)\\n    return importance\";\n",
       "                var nbb_formatted_code = \"def calculate_feature_importance(cb_ranker, ranking_data):\\n    importance = cb_ranker.get_feature_importance(ranking_data[\\\"val\\\"][\\\"pool\\\"])\\n    importance = pd.Series(importance, cb_ranker.feature_names_).rename(\\n        \\\"cb feature importance\\\"\\n    )\\n    importance = importance.to_frame().style.background_gradient(\\n        cmap=\\\"coolwarm\\\", low=0.5, high=0.5\\n    )\\n    return importance\";\n",
       "                var nbb_cells = Jupyter.notebook.get_cells();\n",
       "                for (var i = 0; i < nbb_cells.length; ++i) {\n",
       "                    if (nbb_cells[i].input_prompt_number == nbb_cell_id) {\n",
       "                        if (nbb_cells[i].get_text() == nbb_unformatted_code) {\n",
       "                             nbb_cells[i].set_text(nbb_formatted_code);\n",
       "                        }\n",
       "                        break;\n",
       "                    }\n",
       "                }\n",
       "            }, 500);\n",
       "            "
      ],
      "text/plain": [
       "<IPython.core.display.Javascript object>"
      ]
     },
     "metadata": {},
     "output_type": "display_data"
    }
   ],
   "source": [
    "def calculate_feature_importance(cb_ranker, ranking_data):\n",
    "    importance = cb_ranker.get_feature_importance(ranking_data[\"val\"][\"pool\"])\n",
    "    importance = pd.Series(importance, cb_ranker.feature_names_).rename(\n",
    "        \"cb feature importance\"\n",
    "    )\n",
    "    importance = importance.to_frame().style.background_gradient(\n",
    "        cmap=\"coolwarm\", low=0.5, high=0.5\n",
    "    )\n",
    "    return importance"
   ]
  },
  {
   "cell_type": "code",
   "execution_count": 365,
   "metadata": {
    "ExecuteTime": {
     "end_time": "2022-08-15T11:11:19.278603Z",
     "start_time": "2022-08-15T11:11:19.253154Z"
    }
   },
   "outputs": [
    {
     "data": {
      "text/html": [
       "<style  type=\"text/css\" >\n",
       "#T_fceb40a0_1c8a_11ed_b4f6_ac1f6b2cd28arow0_col0{\n",
       "            background-color:  #9abbff;\n",
       "            color:  #000000;\n",
       "        }#T_fceb40a0_1c8a_11ed_b4f6_ac1f6b2cd28arow1_col0{\n",
       "            background-color:  #8db0fe;\n",
       "            color:  #000000;\n",
       "        }#T_fceb40a0_1c8a_11ed_b4f6_ac1f6b2cd28arow2_col0{\n",
       "            background-color:  #f49a7b;\n",
       "            color:  #000000;\n",
       "        }#T_fceb40a0_1c8a_11ed_b4f6_ac1f6b2cd28arow3_col0{\n",
       "            background-color:  #c6d6f1;\n",
       "            color:  #000000;\n",
       "        }#T_fceb40a0_1c8a_11ed_b4f6_ac1f6b2cd28arow4_col0{\n",
       "            background-color:  #dbdcde;\n",
       "            color:  #000000;\n",
       "        }</style><table id=\"T_fceb40a0_1c8a_11ed_b4f6_ac1f6b2cd28a\" ><thead>    <tr>        <th class=\"blank level0\" ></th>        <th class=\"col_heading level0 col0\" >cb feature importance</th>    </tr></thead><tbody>\n",
       "                <tr>\n",
       "                        <th id=\"T_fceb40a0_1c8a_11ed_b4f6_ac1f6b2cd28alevel0_row0\" class=\"row_heading level0 row0\" >bm25</th>\n",
       "                        <td id=\"T_fceb40a0_1c8a_11ed_b4f6_ac1f6b2cd28arow0_col0\" class=\"data row0 col0\" >-0.027877</td>\n",
       "            </tr>\n",
       "            <tr>\n",
       "                        <th id=\"T_fceb40a0_1c8a_11ed_b4f6_ac1f6b2cd28alevel0_row1\" class=\"row_heading level0 row1\" >tfidf</th>\n",
       "                        <td id=\"T_fceb40a0_1c8a_11ed_b4f6_ac1f6b2cd28arow1_col0\" class=\"data row1 col0\" >-0.036065</td>\n",
       "            </tr>\n",
       "            <tr>\n",
       "                        <th id=\"T_fceb40a0_1c8a_11ed_b4f6_ac1f6b2cd28alevel0_row2\" class=\"row_heading level0 row2\" >svd_10</th>\n",
       "                        <td id=\"T_fceb40a0_1c8a_11ed_b4f6_ac1f6b2cd28arow2_col0\" class=\"data row2 col0\" >0.078488</td>\n",
       "            </tr>\n",
       "            <tr>\n",
       "                        <th id=\"T_fceb40a0_1c8a_11ed_b4f6_ac1f6b2cd28alevel0_row3\" class=\"row_heading level0 row3\" >als_filtered</th>\n",
       "                        <td id=\"T_fceb40a0_1c8a_11ed_b4f6_ac1f6b2cd28arow3_col0\" class=\"data row3 col0\" >0.002610</td>\n",
       "            </tr>\n",
       "            <tr>\n",
       "                        <th id=\"T_fceb40a0_1c8a_11ed_b4f6_ac1f6b2cd28alevel0_row4\" class=\"row_heading level0 row4\" >light_feature_importance_0</th>\n",
       "                        <td id=\"T_fceb40a0_1c8a_11ed_b4f6_ac1f6b2cd28arow4_col0\" class=\"data row4 col0\" >0.019997</td>\n",
       "            </tr>\n",
       "    </tbody></table>"
      ],
      "text/plain": [
       "<pandas.io.formats.style.Styler at 0x7ff8f575cef0>"
      ]
     },
     "execution_count": 365,
     "metadata": {},
     "output_type": "execute_result"
    },
    {
     "data": {
      "application/javascript": [
       "\n",
       "            setTimeout(function() {\n",
       "                var nbb_cell_id = 365;\n",
       "                var nbb_unformatted_code = \"# calculate_feature_importance(cb_ranker, ranking_data)\\npd.Series(importance, cb_ranker.feature_names_).rename(\\n    \\\"cb feature importance\\\"\\n).to_frame().style.background_gradient(cmap=\\\"coolwarm\\\", low=0.5, high=0.5)\";\n",
       "                var nbb_formatted_code = \"# calculate_feature_importance(cb_ranker, ranking_data)\\npd.Series(importance, cb_ranker.feature_names_).rename(\\n    \\\"cb feature importance\\\"\\n).to_frame().style.background_gradient(cmap=\\\"coolwarm\\\", low=0.5, high=0.5)\";\n",
       "                var nbb_cells = Jupyter.notebook.get_cells();\n",
       "                for (var i = 0; i < nbb_cells.length; ++i) {\n",
       "                    if (nbb_cells[i].input_prompt_number == nbb_cell_id) {\n",
       "                        if (nbb_cells[i].get_text() == nbb_unformatted_code) {\n",
       "                             nbb_cells[i].set_text(nbb_formatted_code);\n",
       "                        }\n",
       "                        break;\n",
       "                    }\n",
       "                }\n",
       "            }, 500);\n",
       "            "
      ],
      "text/plain": [
       "<IPython.core.display.Javascript object>"
      ]
     },
     "metadata": {},
     "output_type": "display_data"
    }
   ],
   "source": [
    "calculate_feature_importance(cb_ranker, ranking_data)"
   ]
  },
  {
   "cell_type": "code",
   "execution_count": null,
   "metadata": {},
   "outputs": [],
   "source": []
  }
 ],
 "metadata": {
  "kernelspec": {
   "display_name": "Python 3 (ipykernel)",
   "language": "python",
   "name": "python3"
  },
  "language_info": {
   "codemirror_mode": {
    "name": "ipython",
    "version": 3
   },
   "file_extension": ".py",
   "mimetype": "text/x-python",
   "name": "python",
   "nbconvert_exporter": "python",
   "pygments_lexer": "ipython3",
   "version": "3.10.4"
  }
 },
 "nbformat": 4,
 "nbformat_minor": 2
}
