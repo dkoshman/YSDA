{
 "cells": [
  {
   "cell_type": "markdown",
   "metadata": {},
   "source": [
    "# Лабораторная работа 4. Часть 2. Рекомендательные системы.\n",
    "\n",
    "\n",
    "\n",
    "Результат лабораторной работы − отчет. Мы предпочитаем принимать отчеты в формате ноутбуков IPython (ipynb-файл). Постарайтесь сделать ваш отчет интересным рассказом, последовательно отвечающим на вопросы из заданий. Помимо ответов на вопросы, в отчете так же должен быть код, однако чем меньше кода, тем лучше всем: нам − меньше проверять, вам — проще найти ошибку или дополнить эксперимент. При проверке оценивается четкость ответов на вопросы, аккуратность отчета и кода.\n",
    "\n",
    "\n",
    "### Оценивание и штрафы\n",
    "Каждая из задач имеет определенную «стоимость» (указана в скобках около задачи). Максимально допустимая оценка за работу — 8 баллов. Сдавать задание после указанного в lk срока сдачи нельзя. «Похожие» решения считаются плагиатом и все задействованные студенты (в том числе те, у кого списали) не могут получить за него больше 0 баллов и понижают карму (подробнее о плагиате см. на странице курса). Если вы нашли решение какого-то из заданий в открытом источнике, необходимо прислать ссылку на этот источник (скорее всего вы будете не единственным, кто это нашел, поэтому чтобы исключить подозрение в плагиате, нам необходима ссылка на источник).\n",
    "\n"
   ]
  },
  {
   "cell_type": "markdown",
   "metadata": {},
   "source": [
    "## Знакомство с данными\n",
    "\n",
    "### Рекомендация организаций, которые получат высокий отзыв от пользователя, когда он гостит в чужом для себя городе\n",
    "\n",
    "Эта лабораторная работа про задачу из соревнования\n",
    "\n",
    "https://contest.yandex.ru/contest/36927/problems/\n"
   ]
  },
  {
   "cell_type": "markdown",
   "metadata": {},
   "source": [
    "**(1 балла) Задание 1.** Знакомство с данными.\n",
    "\n",
    "В первую очередь нам понадобятся данные по __пользователям__ (в терминах recsys -- users), __организациям__ (в терминах recsys -- items) и сами __отзывы__ (в терминах recsys -- ratings или explicit feedback). \n",
    "\n",
    "На основании этих данных можно будет проводить базовый анализ методами колаборативной фильтрации.\n",
    "\n",
    "  * Опишите, насколько активно пользователи оставляют отзывы, насколько активно организации получают отзывы.\n",
    "  * Предложите стратегии фильтрации данных.\n",
    "  \n",
    "\n",
    "\n",
    "Во вторую очередь нас будут интересовать атрибуты организаций: aspects, features, rubrics.\n",
    "Проанализируйте эти таблицы. Какие признаки для описания организаций и пользователей из них можно извлечь?\n"
   ]
  },
  {
   "cell_type": "code",
   "execution_count": 4,
   "metadata": {
    "ExecuteTime": {
     "end_time": "2022-08-03T10:56:42.607620Z",
     "start_time": "2022-08-03T10:56:41.456017Z"
    }
   },
   "outputs": [
    {
     "data": {
      "application/javascript": [
       "\n",
       "            setTimeout(function() {\n",
       "                var nbb_cell_id = 4;\n",
       "                var nbb_unformatted_code = \"%load_ext nb_black\\n\\nimport abc\\nimport glob\\nimport matplotlib.pyplot as plt\\nimport numpy as np\\nimport os\\nimport pandas as pd\\n\\nfrom functools import partial, reduce\";\n",
       "                var nbb_formatted_code = \"%load_ext nb_black\\n\\nimport abc\\nimport glob\\nimport matplotlib.pyplot as plt\\nimport numpy as np\\nimport os\\nimport pandas as pd\\n\\nfrom functools import partial, reduce\";\n",
       "                var nbb_cells = Jupyter.notebook.get_cells();\n",
       "                for (var i = 0; i < nbb_cells.length; ++i) {\n",
       "                    if (nbb_cells[i].input_prompt_number == nbb_cell_id) {\n",
       "                        if (nbb_cells[i].get_text() == nbb_unformatted_code) {\n",
       "                             nbb_cells[i].set_text(nbb_formatted_code);\n",
       "                        }\n",
       "                        break;\n",
       "                    }\n",
       "                }\n",
       "            }, 500);\n",
       "            "
      ],
      "text/plain": [
       "<IPython.core.display.Javascript object>"
      ]
     },
     "metadata": {},
     "output_type": "display_data"
    }
   ],
   "source": [
    "%load_ext nb_black\n",
    "\n",
    "import abc\n",
    "import glob\n",
    "import matplotlib.pyplot as plt\n",
    "import numpy as np\n",
    "import os\n",
    "import pandas as pd\n",
    "\n",
    "from functools import partial, reduce"
   ]
  },
  {
   "cell_type": "code",
   "execution_count": 5,
   "metadata": {
    "ExecuteTime": {
     "end_time": "2022-08-03T10:56:43.556253Z",
     "start_time": "2022-08-03T10:56:43.539705Z"
    }
   },
   "outputs": [
    {
     "data": {
      "application/javascript": [
       "\n",
       "            setTimeout(function() {\n",
       "                var nbb_cell_id = 5;\n",
       "                var nbb_unformatted_code = \"def read_ints(line):\\n    return list(map(int, line.split()))\\n\\n\\ndef read_data(\\n    path=\\\"data/*.csv\\\",\\n    converters={\\\"rubrics_id\\\": read_ints, \\\"features_id\\\": read_ints},\\n    index_col=0,\\n):\\n    data = {}\\n    for csv_filename in glob.glob(path):\\n        basename, extension = os.path.splitext(os.path.basename(csv_filename))\\n        data[basename] = pd.read_csv(\\n            csv_filename,\\n            converters=converters,\\n            index_col=index_col,\\n        )\\n    return data\";\n",
       "                var nbb_formatted_code = \"def read_ints(line):\\n    return list(map(int, line.split()))\\n\\n\\ndef read_data(\\n    path=\\\"data/*.csv\\\",\\n    converters={\\\"rubrics_id\\\": read_ints, \\\"features_id\\\": read_ints},\\n    index_col=0,\\n):\\n    data = {}\\n    for csv_filename in glob.glob(path):\\n        basename, extension = os.path.splitext(os.path.basename(csv_filename))\\n        data[basename] = pd.read_csv(\\n            csv_filename,\\n            converters=converters,\\n            index_col=index_col,\\n        )\\n    return data\";\n",
       "                var nbb_cells = Jupyter.notebook.get_cells();\n",
       "                for (var i = 0; i < nbb_cells.length; ++i) {\n",
       "                    if (nbb_cells[i].input_prompt_number == nbb_cell_id) {\n",
       "                        if (nbb_cells[i].get_text() == nbb_unformatted_code) {\n",
       "                             nbb_cells[i].set_text(nbb_formatted_code);\n",
       "                        }\n",
       "                        break;\n",
       "                    }\n",
       "                }\n",
       "            }, 500);\n",
       "            "
      ],
      "text/plain": [
       "<IPython.core.display.Javascript object>"
      ]
     },
     "metadata": {},
     "output_type": "display_data"
    }
   ],
   "source": [
    "def read_ints(line):\n",
    "    return list(map(int, line.split()))\n",
    "\n",
    "\n",
    "def read_data(\n",
    "    path=\"data/*.csv\",\n",
    "    converters={\"rubrics_id\": read_ints, \"features_id\": read_ints},\n",
    "    index_col=0,\n",
    "):\n",
    "    data = {}\n",
    "    for csv_filename in glob.glob(path):\n",
    "        basename, extension = os.path.splitext(os.path.basename(csv_filename))\n",
    "        data[basename] = pd.read_csv(\n",
    "            csv_filename,\n",
    "            converters=converters,\n",
    "            index_col=index_col,\n",
    "        )\n",
    "    return data"
   ]
  },
  {
   "cell_type": "code",
   "execution_count": 672,
   "metadata": {
    "ExecuteTime": {
     "end_time": "2022-08-04T14:46:17.027982Z",
     "start_time": "2022-08-04T14:46:14.860839Z"
    }
   },
   "outputs": [
    {
     "name": "stderr",
     "output_type": "stream",
     "text": [
      "/tmp/ipykernel_28298/2818600586.py:13: DtypeWarning: Columns (4) have mixed types. Specify dtype option on import or set low_memory=False.\n",
      "  data[basename] = pd.read_csv(\n"
     ]
    },
    {
     "data": {
      "application/javascript": [
       "\n",
       "            setTimeout(function() {\n",
       "                var nbb_cell_id = 672;\n",
       "                var nbb_unformatted_code = \"data = read_data()\\nusers = data[\\\"users\\\"]\\norganisations = data[\\\"organisations\\\"]\\nreviews = data[\\\"reviews\\\"].reset_index()\";\n",
       "                var nbb_formatted_code = \"data = read_data()\\nusers = data[\\\"users\\\"]\\norganisations = data[\\\"organisations\\\"]\\nreviews = data[\\\"reviews\\\"].reset_index()\";\n",
       "                var nbb_cells = Jupyter.notebook.get_cells();\n",
       "                for (var i = 0; i < nbb_cells.length; ++i) {\n",
       "                    if (nbb_cells[i].input_prompt_number == nbb_cell_id) {\n",
       "                        if (nbb_cells[i].get_text() == nbb_unformatted_code) {\n",
       "                             nbb_cells[i].set_text(nbb_formatted_code);\n",
       "                        }\n",
       "                        break;\n",
       "                    }\n",
       "                }\n",
       "            }, 500);\n",
       "            "
      ],
      "text/plain": [
       "<IPython.core.display.Javascript object>"
      ]
     },
     "metadata": {},
     "output_type": "display_data"
    }
   ],
   "source": [
    "data = read_data()\n",
    "users = data[\"users\"]\n",
    "organisations = data[\"organisations\"]\n",
    "reviews = data[\"reviews\"].reset_index()"
   ]
  },
  {
   "cell_type": "markdown",
   "metadata": {},
   "source": [
    "* Опишите, насколько активно пользователи оставляют отзывы, насколько активно организации получают отзывы."
   ]
  },
  {
   "cell_type": "code",
   "execution_count": 7,
   "metadata": {
    "ExecuteTime": {
     "end_time": "2022-08-03T10:56:48.468741Z",
     "start_time": "2022-08-03T10:56:48.430584Z"
    }
   },
   "outputs": [
    {
     "data": {
      "application/javascript": [
       "\n",
       "            setTimeout(function() {\n",
       "                var nbb_cell_id = 7;\n",
       "                var nbb_unformatted_code = \"def describe_review_counts(\\n    df,\\n    reviews,\\n    axis,\\n    title,\\n    quantiles=(0, 0.25, 0.5, 0.75, 0.90, 0.95, 0.99, 0.999, 0.9999, 1),\\n    quantiles_to_plot=(0.5, 0.99, 0.999, 0.9999),\\n    plt_kwargs=None,\\n    cmap=\\\"hsv\\\",\\n):\\n    reviews_count = reviews.groupby(df.index.name).size().reindex(df.index)\\n    reviews_count.plot(ax=axis, title=title, **(plt_kwargs or {}))\\n    axis.set_xlabel(plt_kwargs.get(\\\"xlabel\\\"))\\n    axis.set_ylabel(plt_kwargs.get(\\\"ylabel\\\"))\\n\\n    for i, q in enumerate(quantiles_to_plot, start=1):\\n        quantile = reviews_count.quantile(q=q)\\n        axis.axvline(quantile, ls=\\\"--\\\", c=plt.get_cmap(name=cmap)(q))\\n        axis.text(quantile, axis.get_ylim()[1] / 2**i, f\\\"{100*q}%\\\", ha=\\\"left\\\")\\n\\n    return reviews_count.agg(\\n        {\\n            \\\"mean\\\": pd.Series.mean,\\n            \\\"std\\\": pd.Series.std,\\n            **{f\\\"{100*q}%\\\": partial(pd.Series.quantile, q=q) for q in quantiles},\\n        }\\n    )\\n\\n\\ndef show_review_counts(users, organisations, reviews):\\n    fig, axes = plt.subplots(ncols=2, figsize=(16, 6))\\n    plt_kwargs = dict(\\n        kind=\\\"hist\\\",\\n        log=True,\\n        histtype=\\\"stepfilled\\\",\\n        bins=100,\\n        edgecolor=\\\"black\\\",\\n        facecolor=\\\"gray\\\",\\n        alpha=0.5,\\n        xlabel=\\\"Reviews count\\\",\\n        ylabel=\\\"Frequency (log scale)\\\",\\n    )\\n    return pd.DataFrame(\\n        {\\n            title: describe_review_counts(\\n                df,\\n                reviews,\\n                axis,\\n                title=title,\\n                plt_kwargs=plt_kwargs,\\n            )\\n            for df, axis, title in zip(\\n                [users, organisations],\\n                axes,\\n                [\\\"Users reviews written\\\", \\\"Organisations reviews received\\\"],\\n            )\\n        }\\n    ).T\";\n",
       "                var nbb_formatted_code = \"def describe_review_counts(\\n    df,\\n    reviews,\\n    axis,\\n    title,\\n    quantiles=(0, 0.25, 0.5, 0.75, 0.90, 0.95, 0.99, 0.999, 0.9999, 1),\\n    quantiles_to_plot=(0.5, 0.99, 0.999, 0.9999),\\n    plt_kwargs=None,\\n    cmap=\\\"hsv\\\",\\n):\\n    reviews_count = reviews.groupby(df.index.name).size().reindex(df.index)\\n    reviews_count.plot(ax=axis, title=title, **(plt_kwargs or {}))\\n    axis.set_xlabel(plt_kwargs.get(\\\"xlabel\\\"))\\n    axis.set_ylabel(plt_kwargs.get(\\\"ylabel\\\"))\\n\\n    for i, q in enumerate(quantiles_to_plot, start=1):\\n        quantile = reviews_count.quantile(q=q)\\n        axis.axvline(quantile, ls=\\\"--\\\", c=plt.get_cmap(name=cmap)(q))\\n        axis.text(quantile, axis.get_ylim()[1] / 2**i, f\\\"{100*q}%\\\", ha=\\\"left\\\")\\n\\n    return reviews_count.agg(\\n        {\\n            \\\"mean\\\": pd.Series.mean,\\n            \\\"std\\\": pd.Series.std,\\n            **{f\\\"{100*q}%\\\": partial(pd.Series.quantile, q=q) for q in quantiles},\\n        }\\n    )\\n\\n\\ndef show_review_counts(users, organisations, reviews):\\n    fig, axes = plt.subplots(ncols=2, figsize=(16, 6))\\n    plt_kwargs = dict(\\n        kind=\\\"hist\\\",\\n        log=True,\\n        histtype=\\\"stepfilled\\\",\\n        bins=100,\\n        edgecolor=\\\"black\\\",\\n        facecolor=\\\"gray\\\",\\n        alpha=0.5,\\n        xlabel=\\\"Reviews count\\\",\\n        ylabel=\\\"Frequency (log scale)\\\",\\n    )\\n    return pd.DataFrame(\\n        {\\n            title: describe_review_counts(\\n                df,\\n                reviews,\\n                axis,\\n                title=title,\\n                plt_kwargs=plt_kwargs,\\n            )\\n            for df, axis, title in zip(\\n                [users, organisations],\\n                axes,\\n                [\\\"Users reviews written\\\", \\\"Organisations reviews received\\\"],\\n            )\\n        }\\n    ).T\";\n",
       "                var nbb_cells = Jupyter.notebook.get_cells();\n",
       "                for (var i = 0; i < nbb_cells.length; ++i) {\n",
       "                    if (nbb_cells[i].input_prompt_number == nbb_cell_id) {\n",
       "                        if (nbb_cells[i].get_text() == nbb_unformatted_code) {\n",
       "                             nbb_cells[i].set_text(nbb_formatted_code);\n",
       "                        }\n",
       "                        break;\n",
       "                    }\n",
       "                }\n",
       "            }, 500);\n",
       "            "
      ],
      "text/plain": [
       "<IPython.core.display.Javascript object>"
      ]
     },
     "metadata": {},
     "output_type": "display_data"
    }
   ],
   "source": [
    "def describe_review_counts(\n",
    "    df,\n",
    "    reviews,\n",
    "    axis,\n",
    "    title,\n",
    "    quantiles=(0, 0.25, 0.5, 0.75, 0.90, 0.95, 0.99, 0.999, 0.9999, 1),\n",
    "    quantiles_to_plot=(0.5, 0.99, 0.999, 0.9999),\n",
    "    plt_kwargs=None,\n",
    "    cmap=\"hsv\",\n",
    "):\n",
    "    reviews_count = reviews.groupby(df.index.name).size().reindex(df.index)\n",
    "    reviews_count.plot(ax=axis, title=title, **(plt_kwargs or {}))\n",
    "    axis.set_xlabel(plt_kwargs.get(\"xlabel\"))\n",
    "    axis.set_ylabel(plt_kwargs.get(\"ylabel\"))\n",
    "\n",
    "    for i, q in enumerate(quantiles_to_plot, start=1):\n",
    "        quantile = reviews_count.quantile(q=q)\n",
    "        axis.axvline(quantile, ls=\"--\", c=plt.get_cmap(name=cmap)(q))\n",
    "        axis.text(quantile, axis.get_ylim()[1] / 2**i, f\"{100*q}%\", ha=\"left\")\n",
    "\n",
    "    return reviews_count.agg(\n",
    "        {\n",
    "            \"mean\": pd.Series.mean,\n",
    "            \"std\": pd.Series.std,\n",
    "            **{f\"{100*q}%\": partial(pd.Series.quantile, q=q) for q in quantiles},\n",
    "        }\n",
    "    )\n",
    "\n",
    "\n",
    "def show_review_counts(users, organisations, reviews):\n",
    "    fig, axes = plt.subplots(ncols=2, figsize=(16, 6))\n",
    "    plt_kwargs = dict(\n",
    "        kind=\"hist\",\n",
    "        log=True,\n",
    "        histtype=\"stepfilled\",\n",
    "        bins=100,\n",
    "        edgecolor=\"black\",\n",
    "        facecolor=\"gray\",\n",
    "        alpha=0.5,\n",
    "        xlabel=\"Reviews count\",\n",
    "        ylabel=\"Frequency (log scale)\",\n",
    "    )\n",
    "    return pd.DataFrame(\n",
    "        {\n",
    "            title: describe_review_counts(\n",
    "                df,\n",
    "                reviews,\n",
    "                axis,\n",
    "                title=title,\n",
    "                plt_kwargs=plt_kwargs,\n",
    "            )\n",
    "            for df, axis, title in zip(\n",
    "                [users, organisations],\n",
    "                axes,\n",
    "                [\"Users reviews written\", \"Organisations reviews received\"],\n",
    "            )\n",
    "        }\n",
    "    ).T"
   ]
  },
  {
   "cell_type": "code",
   "execution_count": 8,
   "metadata": {
    "ExecuteTime": {
     "end_time": "2022-08-03T10:56:53.099229Z",
     "start_time": "2022-08-03T10:56:50.823446Z"
    }
   },
   "outputs": [
    {
     "data": {
      "text/html": [
       "<div>\n",
       "<style scoped>\n",
       "    .dataframe tbody tr th:only-of-type {\n",
       "        vertical-align: middle;\n",
       "    }\n",
       "\n",
       "    .dataframe tbody tr th {\n",
       "        vertical-align: top;\n",
       "    }\n",
       "\n",
       "    .dataframe thead th {\n",
       "        text-align: right;\n",
       "    }\n",
       "</style>\n",
       "<table border=\"1\" class=\"dataframe\">\n",
       "  <thead>\n",
       "    <tr style=\"text-align: right;\">\n",
       "      <th></th>\n",
       "      <th>mean</th>\n",
       "      <th>std</th>\n",
       "      <th>0%</th>\n",
       "      <th>25.0%</th>\n",
       "      <th>50.0%</th>\n",
       "      <th>75.0%</th>\n",
       "      <th>90.0%</th>\n",
       "      <th>95.0%</th>\n",
       "      <th>99.0%</th>\n",
       "      <th>99.9%</th>\n",
       "      <th>99.99%</th>\n",
       "      <th>100%</th>\n",
       "    </tr>\n",
       "  </thead>\n",
       "  <tbody>\n",
       "    <tr>\n",
       "      <th>Users reviews written</th>\n",
       "      <td>2.964589</td>\n",
       "      <td>4.854616</td>\n",
       "      <td>1.0</td>\n",
       "      <td>1.0</td>\n",
       "      <td>1.0</td>\n",
       "      <td>3.0</td>\n",
       "      <td>6.0</td>\n",
       "      <td>10.0</td>\n",
       "      <td>22.0</td>\n",
       "      <td>54.000</td>\n",
       "      <td>117.0000</td>\n",
       "      <td>611.0</td>\n",
       "    </tr>\n",
       "    <tr>\n",
       "      <th>Organisations reviews received</th>\n",
       "      <td>60.429564</td>\n",
       "      <td>436.475347</td>\n",
       "      <td>1.0</td>\n",
       "      <td>2.0</td>\n",
       "      <td>8.0</td>\n",
       "      <td>32.0</td>\n",
       "      <td>125.0</td>\n",
       "      <td>246.0</td>\n",
       "      <td>785.0</td>\n",
       "      <td>3021.324</td>\n",
       "      <td>15019.8882</td>\n",
       "      <td>61520.0</td>\n",
       "    </tr>\n",
       "  </tbody>\n",
       "</table>\n",
       "</div>"
      ],
      "text/plain": [
       "                                     mean         std   0%  25.0%  50.0%  \\\n",
       "Users reviews written            2.964589    4.854616  1.0    1.0    1.0   \n",
       "Organisations reviews received  60.429564  436.475347  1.0    2.0    8.0   \n",
       "\n",
       "                                75.0%  90.0%  95.0%  99.0%     99.9%  \\\n",
       "Users reviews written             3.0    6.0   10.0   22.0    54.000   \n",
       "Organisations reviews received   32.0  125.0  246.0  785.0  3021.324   \n",
       "\n",
       "                                    99.99%     100%  \n",
       "Users reviews written             117.0000    611.0  \n",
       "Organisations reviews received  15019.8882  61520.0  "
      ]
     },
     "execution_count": 8,
     "metadata": {},
     "output_type": "execute_result"
    },
    {
     "data": {
      "image/png": "[encoded data removed]",
      "text/plain": [
       "<Figure size 1152x432 with 2 Axes>"
      ]
     },
     "metadata": {
      "needs_background": "light"
     },
     "output_type": "display_data"
    },
    {
     "data": {
      "application/javascript": [
       "\n",
       "            setTimeout(function() {\n",
       "                var nbb_cell_id = 8;\n",
       "                var nbb_unformatted_code = \"show_review_counts(users, organisations, reviews)\";\n",
       "                var nbb_formatted_code = \"show_review_counts(users, organisations, reviews)\";\n",
       "                var nbb_cells = Jupyter.notebook.get_cells();\n",
       "                for (var i = 0; i < nbb_cells.length; ++i) {\n",
       "                    if (nbb_cells[i].input_prompt_number == nbb_cell_id) {\n",
       "                        if (nbb_cells[i].get_text() == nbb_unformatted_code) {\n",
       "                             nbb_cells[i].set_text(nbb_formatted_code);\n",
       "                        }\n",
       "                        break;\n",
       "                    }\n",
       "                }\n",
       "            }, 500);\n",
       "            "
      ],
      "text/plain": [
       "<IPython.core.display.Javascript object>"
      ]
     },
     "metadata": {},
     "output_type": "display_data"
    }
   ],
   "source": [
    "show_review_counts(users, organisations, reviews)"
   ]
  },
  {
   "cell_type": "markdown",
   "metadata": {
    "ExecuteTime": {
     "end_time": "2022-07-31T11:31:58.640951Z",
     "start_time": "2022-07-31T11:31:58.634365Z"
    }
   },
   "source": [
    "* Предложите стратегии фильтрации данных."
   ]
  },
  {
   "cell_type": "markdown",
   "metadata": {},
   "source": [
    "Отбросить организации, у которых мало оценок и все они негативные. Это наименее полезные для нас организации, поскольку они одновременно не дают много информации о взаимных интересах пользователей, и не пригодятся для конечных рекомендаций.\n",
    "\n",
    "Реализация этой стратегии может выглядеть так: мы сортируем организации по значению функции полезности\n",
    "\n",
    "$$f(\\text{organisation}) = (\\text{rating count})(1 + \\text{rating std})^\\alpha (\\text{mean rating})^\\beta$$\n",
    "\n",
    "И отсекаем $\\gamma$ первых организаций, где $\\alpha, \\beta$ и $\\gamma$ подбираются по нашим предпочтениям."
   ]
  },
  {
   "cell_type": "markdown",
   "metadata": {
    "ExecuteTime": {
     "end_time": "2022-07-31T12:52:14.901038Z",
     "start_time": "2022-07-31T12:52:14.887694Z"
    }
   },
   "source": [
    "* Во вторую очередь нас будут интересовать атрибуты организаций: aspects, features, rubrics. Проанализируйте эти таблицы. Какие признаки для описания организаций и пользователей из них можно извлечь?"
   ]
  },
  {
   "cell_type": "markdown",
   "metadata": {},
   "source": [
    "Эти таблицы содержат текстовые описания, так что можно взять их эмбединги или обучить латентные векторные представления, либо кластеризовать и взять метки кластеров, и использовать все это в качестве дополнительных признаков."
   ]
  },
  {
   "cell_type": "markdown",
   "metadata": {},
   "source": [
    "---\n",
    "\n",
    "**(1 балла) Задание 2.** Организация валидации.\n",
    "\n",
    "Как вы помните, обучающее множество собрано за X = 1277 дней, тестовое множество – за последующие Y = 107 дней.\n",
    "\n",
    "Следовательно нам необходимо организовать у себя валидацию схожим образом.\n",
    "Раз мы будем еще и осуществлять выбор моделей, то следует произвести расщепление по времени на 3 группы train validation и holdout.\n",
    "\n",
    "Как уже говорилось на семинаре, для повышения качества локальной валидации, можно сделать скользящую валидацию. В самой лабораторной работе мы так делать не будем, но для конкурса имейте это в виду.\n"
   ]
  },
  {
   "cell_type": "code",
   "execution_count": 9,
   "metadata": {
    "ExecuteTime": {
     "end_time": "2022-08-03T10:56:58.356385Z",
     "start_time": "2022-08-03T10:56:58.341815Z"
    }
   },
   "outputs": [
    {
     "data": {
      "application/javascript": [
       "\n",
       "            setTimeout(function() {\n",
       "                var nbb_cell_id = 9;\n",
       "                var nbb_unformatted_code = \"def split_by_column(df, sizes, column_name):\\n    cumulative_sizes = np.cumsum([0] + sizes)\\n    split_edges = [int(s * len(df)) for s in cumulative_sizes]\\n    sorted_df = df.sort_values(column_name)\\n    splits = [sorted_df[b:e] for b, e in zip(split_edges, split_edges[1:])]\\n    return splits\";\n",
       "                var nbb_formatted_code = \"def split_by_column(df, sizes, column_name):\\n    cumulative_sizes = np.cumsum([0] + sizes)\\n    split_edges = [int(s * len(df)) for s in cumulative_sizes]\\n    sorted_df = df.sort_values(column_name)\\n    splits = [sorted_df[b:e] for b, e in zip(split_edges, split_edges[1:])]\\n    return splits\";\n",
       "                var nbb_cells = Jupyter.notebook.get_cells();\n",
       "                for (var i = 0; i < nbb_cells.length; ++i) {\n",
       "                    if (nbb_cells[i].input_prompt_number == nbb_cell_id) {\n",
       "                        if (nbb_cells[i].get_text() == nbb_unformatted_code) {\n",
       "                             nbb_cells[i].set_text(nbb_formatted_code);\n",
       "                        }\n",
       "                        break;\n",
       "                    }\n",
       "                }\n",
       "            }, 500);\n",
       "            "
      ],
      "text/plain": [
       "<IPython.core.display.Javascript object>"
      ]
     },
     "metadata": {},
     "output_type": "display_data"
    }
   ],
   "source": [
    "def split_by_column(df, sizes, column_name):\n",
    "    cumulative_sizes = np.cumsum([0] + sizes)\n",
    "    split_edges = [int(s * len(df)) for s in cumulative_sizes]\n",
    "    sorted_df = df.sort_values(column_name)\n",
    "    splits = [sorted_df[b:e] for b, e in zip(split_edges, split_edges[1:])]\n",
    "    return splits"
   ]
  },
  {
   "cell_type": "code",
   "execution_count": 683,
   "metadata": {
    "ExecuteTime": {
     "end_time": "2022-08-04T14:53:08.156406Z",
     "start_time": "2022-08-04T14:53:07.107851Z"
    }
   },
   "outputs": [
    {
     "data": {
      "application/javascript": [
       "\n",
       "            setTimeout(function() {\n",
       "                var nbb_cell_id = 683;\n",
       "                var nbb_unformatted_code = \"train_reviews, validation_reviews, holdout_reviews = split_by_column(reviews, sizes=[0.7, 0.15, 0.15], column_name=\\\"ts\\\")\";\n",
       "                var nbb_formatted_code = \"train_reviews, validation_reviews, holdout_reviews = split_by_column(\\n    reviews, sizes=[0.7, 0.15, 0.15], column_name=\\\"ts\\\"\\n)\";\n",
       "                var nbb_cells = Jupyter.notebook.get_cells();\n",
       "                for (var i = 0; i < nbb_cells.length; ++i) {\n",
       "                    if (nbb_cells[i].input_prompt_number == nbb_cell_id) {\n",
       "                        if (nbb_cells[i].get_text() == nbb_unformatted_code) {\n",
       "                             nbb_cells[i].set_text(nbb_formatted_code);\n",
       "                        }\n",
       "                        break;\n",
       "                    }\n",
       "                }\n",
       "            }, 500);\n",
       "            "
      ],
      "text/plain": [
       "<IPython.core.display.Javascript object>"
      ]
     },
     "metadata": {},
     "output_type": "display_data"
    }
   ],
   "source": [
    "train_reviews, validation_reviews, holdout_reviews = split_by_column(\n",
    "    reviews, sizes=[0.7, 0.15, 0.15], column_name=\"ts\"\n",
    ")"
   ]
  },
  {
   "cell_type": "markdown",
   "metadata": {},
   "source": [
    "**(0.5 балла) Задание 3.** Базовые решения.\n",
    "\n",
    "Сделаем базовые решения:\n",
    "  * Для каждого пользователя выдаём 20 случайных организаций\n",
    "  * Для каждого пользователя выдаём самые популярные организации в неродном городе"
   ]
  },
  {
   "cell_type": "code",
   "execution_count": 688,
   "metadata": {
    "ExecuteTime": {
     "end_time": "2022-08-04T15:00:16.716053Z",
     "start_time": "2022-08-04T15:00:16.687071Z"
    }
   },
   "outputs": [
    {
     "data": {
      "application/javascript": [
       "\n",
       "            setTimeout(function() {\n",
       "                var nbb_cell_id = 688;\n",
       "                var nbb_unformatted_code = \"class Recommender(abc.ABC):\\n    def __init__(self, users, organisations, reviews, predict_size=20):\\n        self.users = users\\n        self.organisations = organisations\\n        self.reviews = reviews\\n        self.predict_size = predict_size\\n        self.setup()\\n\\n    def setup(self):\\n        ...\\n\\n    @abc.abstractmethod\\n    def recommend(self, user_ids):\\n        ...\\n\\n\\nclass RandomRecommender(Recommender):\\n    def recommend(self, user_ids):\\n        return np.random.choice(\\n            self.organisations.index, size=(len(user_ids), self.predict_size)\\n        )\\n\\n\\nclass PopularRecommender(Recommender):\\n    def setup(self):\\n        self.popular_foreign_organisations_for_home_city = {}\\n        organisations = self.organisations.join(\\n            self.reviews.groupby(\\\"org_id\\\").size().rename(\\\"popularity\\\")\\n        )\\n        for city in organisations[\\\"city\\\"].unique():\\n            self.popular_foreign_organisations_for_home_city[city] = (\\n                organisations.query(\\\"city != @city\\\")\\n                .sort_values(\\\"popularity\\\", ascending=False)\\n                .index[: self.predict_size]\\n                .to_numpy()\\n            )\\n\\n    def recommend(self, user_ids):\\n        return np.stack(\\n            self.users.loc[user_ids][\\\"city\\\"]\\n            .map(self.popular_foreign_organisations_for_home_city)\\n            .values\\n        )\";\n",
       "                var nbb_formatted_code = \"class Recommender(abc.ABC):\\n    def __init__(self, users, organisations, reviews, predict_size=20):\\n        self.users = users\\n        self.organisations = organisations\\n        self.reviews = reviews\\n        self.predict_size = predict_size\\n        self.setup()\\n\\n    def setup(self):\\n        ...\\n\\n    @abc.abstractmethod\\n    def recommend(self, user_ids):\\n        ...\\n\\n\\nclass RandomRecommender(Recommender):\\n    def recommend(self, user_ids):\\n        return np.random.choice(\\n            self.organisations.index, size=(len(user_ids), self.predict_size)\\n        )\\n\\n\\nclass PopularRecommender(Recommender):\\n    def setup(self):\\n        self.popular_foreign_organisations_for_home_city = {}\\n        organisations = self.organisations.join(\\n            self.reviews.groupby(\\\"org_id\\\").size().rename(\\\"popularity\\\")\\n        )\\n        for city in organisations[\\\"city\\\"].unique():\\n            self.popular_foreign_organisations_for_home_city[city] = (\\n                organisations.query(\\\"city != @city\\\")\\n                .sort_values(\\\"popularity\\\", ascending=False)\\n                .index[: self.predict_size]\\n                .to_numpy()\\n            )\\n\\n    def recommend(self, user_ids):\\n        return np.stack(\\n            self.users.loc[user_ids][\\\"city\\\"]\\n            .map(self.popular_foreign_organisations_for_home_city)\\n            .values\\n        )\";\n",
       "                var nbb_cells = Jupyter.notebook.get_cells();\n",
       "                for (var i = 0; i < nbb_cells.length; ++i) {\n",
       "                    if (nbb_cells[i].input_prompt_number == nbb_cell_id) {\n",
       "                        if (nbb_cells[i].get_text() == nbb_unformatted_code) {\n",
       "                             nbb_cells[i].set_text(nbb_formatted_code);\n",
       "                        }\n",
       "                        break;\n",
       "                    }\n",
       "                }\n",
       "            }, 500);\n",
       "            "
      ],
      "text/plain": [
       "<IPython.core.display.Javascript object>"
      ]
     },
     "metadata": {},
     "output_type": "display_data"
    }
   ],
   "source": [
    "class Recommender(abc.ABC):\n",
    "    def __init__(self, users, organisations, reviews, predict_size=20):\n",
    "        self.users = users\n",
    "        self.organisations = organisations\n",
    "        self.reviews = reviews\n",
    "        self.predict_size = predict_size\n",
    "        self.setup()\n",
    "\n",
    "    def setup(self):\n",
    "        ...\n",
    "\n",
    "    @abc.abstractmethod\n",
    "    def recommend(self, user_ids):\n",
    "        ...\n",
    "\n",
    "\n",
    "class RandomRecommender(Recommender):\n",
    "    def recommend(self, user_ids):\n",
    "        return np.random.choice(\n",
    "            self.organisations.index, size=(len(user_ids), self.predict_size)\n",
    "        )\n",
    "\n",
    "\n",
    "class PopularRecommender(Recommender):\n",
    "    def setup(self):\n",
    "        self.popular_foreign_organisations_for_home_city = {}\n",
    "        organisations = self.organisations.join(\n",
    "            self.reviews.groupby(\"org_id\").size().rename(\"popularity\")\n",
    "        )\n",
    "        for city in organisations[\"city\"].unique():\n",
    "            self.popular_foreign_organisations_for_home_city[city] = (\n",
    "                organisations.query(\"city != @city\")\n",
    "                .sort_values(\"popularity\", ascending=False)\n",
    "                .index[: self.predict_size]\n",
    "                .to_numpy()\n",
    "            )\n",
    "\n",
    "    def recommend(self, user_ids):\n",
    "        return np.stack(\n",
    "            self.users.loc[user_ids][\"city\"]\n",
    "            .map(self.popular_foreign_organisations_for_home_city)\n",
    "            .values\n",
    "        )"
   ]
  },
  {
   "cell_type": "markdown",
   "metadata": {},
   "source": [
    "**(1.0 балла) Задание 4.** Метрики качества.\n",
    "\n",
    "Напомним, что у нас бинарная релевантнотсь на основе оценки вычисляется как предикат **оценка больше, чем 3**.\n",
    "\n",
    "Реализуйте набор метрик качества (можете оборачивать внешние паекты):\n",
    "\n",
    "    * MNAP@20 (как в описании соревнования)\n",
    "    * HitRate ( = 1, если среди рекомендаций есть хотя бы одна релевантная и 0 иначе)\n",
    "    * MRR@20 ( обратная позиция первой релевантной рекомендации из списка рекомендаций длины K. )\n",
    "    * Coverage (доля item-ов, учитываемых в рекомендациях)\n",
    "    * Surprisal(см. ниже) \n",
    "\n",
    "\n",
    "### Surprisal\n",
    "Посмотирм, насколько наши рекомендации хороши с точки зрения новизны для пользователя, в качестве новизны будем рассматривать \"непопулярность\" айтемов в рекомендациях.\n",
    "\n",
    "Будем рассматривать собственную информацию item-а как меру его новизны.\n",
    "\n",
    "$$selfInformation(i) = -\\log_2 \\frac{|u_i|}{|N|}$$, \n",
    "где \n",
    "$i$ - объект, $|N|$ - число взаимодействий в обучающей выборке,  $|u_i|$ - число пользователей, взаимодействовавших с объектом в обучающей выборке.\n",
    "\n",
    "После подсчета собственной информации усредним значения собственной информации в рекомендациях пользователя.\n",
    "\n",
    "Чтобы получить значения от 0 до 1, разделим значение метрики для пользователя на максимально возможно значение метрики равное $log_2 N$.\n",
    "\n",
    "$$Surprisal(u)@k = \\frac{1}{k \\cdot log_2 N} \\sum_{j = 1}^{k}selfInformation(i_{u,j})$$\n",
    "\n",
    "где $i_{u,j}$ это j-й объект, который мы порекомендововали пользователю.\n",
    "\n",
    "Получившаяся метрика похожа на энтропию Шеннона:\n",
    "$$H = - K \\sum_{i\\in R}{p_i log p_i}$$\n",
    "\n",
    "\n",
    "Результа усредним по пользователям.\n",
    "\n",
    "### Что нужно сделать\n",
    "    \n",
    "  * Создайте функцию, которая генерирует словарь с метриками, по предоставленному решению.\n",
    "\n",
    "  * Оцените baseline-решения на валидации."
   ]
  },
  {
   "cell_type": "code",
   "execution_count": 888,
   "metadata": {
    "ExecuteTime": {
     "end_time": "2022-08-04T18:11:59.533998Z",
     "start_time": "2022-08-04T18:11:59.467528Z"
    }
   },
   "outputs": [
    {
     "data": {
      "application/javascript": [
       "\n",
       "            setTimeout(function() {\n",
       "                var nbb_cell_id = 888;\n",
       "                var nbb_unformatted_code = \"class MetricsBase:\\n    def __init__(self, users, organisations, reviews, k=20):\\n        self.users = users\\n        self.organisations = organisations\\n        self.reviews = reviews\\n        self.k = k\\n        self.relevant_orgs_for_users = (\\n            reviews.query(\\\"rating >= 4\\\")\\n            .groupby(\\\"user_id\\\")[\\\"org_id\\\"]\\n            .apply(np.array)\\n            .rename(\\\"relevant_org_ids\\\")\\n        )\\n        self.recommendations = None\\n        self.relevance = None\\n\\n    def binary_relevance(self, recommendations):\\n        relevance = (\\n            pd.merge(\\n                recommendations.agg(np.array, axis=\\\"columns\\\").rename(\\n                    \\\"predicted_org_ids\\\"\\n                ),\\n                self.relevant_orgs_for_users,\\n                left_index=True,\\n                right_index=True,\\n                how=\\\"left\\\",\\n            )\\n            .aggregate(\\n                lambda row: np.isin(row[\\\"predicted_org_ids\\\"], row[\\\"relevant_org_ids\\\"]),\\n                axis=\\\"columns\\\",\\n            )\\n            .pipe(\\n                lambda series: pd.DataFrame(np.stack(series.values), index=series.index)\\n            )\\n        )\\n        return relevance\\n\\n    def precalculate_relevance(self, recommendations):\\n        self.recommendations = recommendations\\n        self.relevance = self.binary_relevance(recommendations.iloc[:, : self.k])\\n\\n    @staticmethod\\n    def wrap_metric(metric):\\n        \\\"\\\"\\\"Precalculate relevance if recommendations were passed.\\\"\\\"\\\"\\n\\n        def wrapper(self, recommendations=None, **kwargs):\\n            if recommendations is not None:\\n                self.precalculate_relevance(recommendations)\\n            elif self.recommendations is None:\\n                raise ValueError(\\n                    \\\"recommendations must be passed when first calculating a metric.\\\"\\n                )\\n            return metric(self, **kwargs)\\n\\n        return wrapper\\n\\n    def __init_subclass__(cls):\\n        \\\"\\\"\\\"Wrap all subclass attributes\\\"\\\"\\\"\\n        super().__init_subclass__()\\n        for child_attribute in cls.__dict__.keys() - MetricsBase.__dict__.keys():\\n            setattr(\\n                cls,\\n                child_attribute,\\n                MetricsBase.wrap_metric(object.__getattribute__(cls, child_attribute)),\\n            )\\n\\n\\nclass Metrics(MetricsBase):\\n    def precision(self):\\n        precision = self.relevance.astype(int).expanding(axis=\\\"columns\\\").mean()\\n        return precision\\n\\n    def ideal_precision(self):\\n        relevant_count = (\\n            self.reviews.query(\\\"user_id in @self.recommendations.index and rating >= 4\\\")\\n            .groupby(\\\"user_id\\\")\\n            .size()\\n            .reindex(self.relevance.index)\\n        )\\n\\n        def relevant_count_to_ideal_average_precision(count):\\n            k = np.arange(1, self.k + 1)\\n            ideal_relevant_count = np.minimum(k, count)\\n            return np.mean(ideal_relevant_count / k)\\n\\n        return relevant_count.map(relevant_count_to_ideal_average_precision)\\n\\n    def mnap(self):\\n        \\\"\\\"\\\"Returns mean normalized average precision\\\"\\\"\\\"\\n        average_precision = self.precision().mean(\\\"columns\\\")\\n        ideal_precision = self.ideal_precision()\\n        return np.nanmean(average_precision / ideal_precision)\\n\\n    def hitrate(self):\\n        return self.relevance.any(axis=\\\"columns\\\").mean()\\n\\n    def mrr(self):\\n        \\\"\\\"\\\"Returns mean reciprocal rank\\\"\\\"\\\"\\n        relevance = self.relevance.values\\n        return (\\n            (relevance * (1 / np.arange(1, relevance.shape[1] + 1))).max(axis=1).mean()\\n        )\\n\\n    def coverage(self):\\n        org_ids = set(self.organisations.index)\\n        recommended_org_ids = set(self.recommendations.values.flat)\\n        return len(recommended_org_ids & org_ids) / len(org_ids)\\n\\n    def surprisal(self):\\n        org_interactions = (\\n            self.reviews.groupby(\\\"org_id\\\")\\n            .size()\\n            .reindex(self.organisations.index)\\n            .replace(0, np.nan)\\n        )\\n        recommended_interactions = self.recommendations.applymap(\\n            lambda org_id: org_interactions[org_id] if org_id else np.nan\\n        )\\n        self_information = -np.log2(recommended_interactions) + np.log2(\\n            len(self.reviews)\\n        )\\n        return (self_information / np.log2(len(self.reviews))).mean().mean()\\n\\n    def calculate_metrics(self, name=None):\\n        results = pd.Series(dtype=float, name=name)\\n        for metric in [\\\"mnap\\\", \\\"hitrate\\\", \\\"mrr\\\", \\\"coverage\\\", \\\"surprisal\\\"]:\\n            results[metric] = getattr(self, metric)()\\n        return results\";\n",
       "                var nbb_formatted_code = \"class MetricsBase:\\n    def __init__(self, users, organisations, reviews, k=20):\\n        self.users = users\\n        self.organisations = organisations\\n        self.reviews = reviews\\n        self.k = k\\n        self.relevant_orgs_for_users = (\\n            reviews.query(\\\"rating >= 4\\\")\\n            .groupby(\\\"user_id\\\")[\\\"org_id\\\"]\\n            .apply(np.array)\\n            .rename(\\\"relevant_org_ids\\\")\\n        )\\n        self.recommendations = None\\n        self.relevance = None\\n\\n    def binary_relevance(self, recommendations):\\n        relevance = (\\n            pd.merge(\\n                recommendations.agg(np.array, axis=\\\"columns\\\").rename(\\n                    \\\"predicted_org_ids\\\"\\n                ),\\n                self.relevant_orgs_for_users,\\n                left_index=True,\\n                right_index=True,\\n                how=\\\"left\\\",\\n            )\\n            .aggregate(\\n                lambda row: np.isin(row[\\\"predicted_org_ids\\\"], row[\\\"relevant_org_ids\\\"]),\\n                axis=\\\"columns\\\",\\n            )\\n            .pipe(\\n                lambda series: pd.DataFrame(np.stack(series.values), index=series.index)\\n            )\\n        )\\n        return relevance\\n\\n    def precalculate_relevance(self, recommendations):\\n        self.recommendations = recommendations\\n        self.relevance = self.binary_relevance(recommendations.iloc[:, : self.k])\\n\\n    @staticmethod\\n    def wrap_metric(metric):\\n        \\\"\\\"\\\"Precalculate relevance if recommendations were passed.\\\"\\\"\\\"\\n\\n        def wrapper(self, recommendations=None, **kwargs):\\n            if recommendations is not None:\\n                self.precalculate_relevance(recommendations)\\n            elif self.recommendations is None:\\n                raise ValueError(\\n                    \\\"recommendations must be passed when first calculating a metric.\\\"\\n                )\\n            return metric(self, **kwargs)\\n\\n        return wrapper\\n\\n    def __init_subclass__(cls):\\n        \\\"\\\"\\\"Wrap all subclass attributes\\\"\\\"\\\"\\n        super().__init_subclass__()\\n        for child_attribute in cls.__dict__.keys() - MetricsBase.__dict__.keys():\\n            setattr(\\n                cls,\\n                child_attribute,\\n                MetricsBase.wrap_metric(object.__getattribute__(cls, child_attribute)),\\n            )\\n\\n\\nclass Metrics(MetricsBase):\\n    def precision(self):\\n        precision = self.relevance.astype(int).expanding(axis=\\\"columns\\\").mean()\\n        return precision\\n\\n    def ideal_precision(self):\\n        relevant_count = (\\n            self.reviews.query(\\\"user_id in @self.recommendations.index and rating >= 4\\\")\\n            .groupby(\\\"user_id\\\")\\n            .size()\\n            .reindex(self.relevance.index)\\n        )\\n\\n        def relevant_count_to_ideal_average_precision(count):\\n            k = np.arange(1, self.k + 1)\\n            ideal_relevant_count = np.minimum(k, count)\\n            return np.mean(ideal_relevant_count / k)\\n\\n        return relevant_count.map(relevant_count_to_ideal_average_precision)\\n\\n    def mnap(self):\\n        \\\"\\\"\\\"Returns mean normalized average precision\\\"\\\"\\\"\\n        average_precision = self.precision().mean(\\\"columns\\\")\\n        ideal_precision = self.ideal_precision()\\n        return np.nanmean(average_precision / ideal_precision)\\n\\n    def hitrate(self):\\n        return self.relevance.any(axis=\\\"columns\\\").mean()\\n\\n    def mrr(self):\\n        \\\"\\\"\\\"Returns mean reciprocal rank\\\"\\\"\\\"\\n        relevance = self.relevance.values\\n        return (\\n            (relevance * (1 / np.arange(1, relevance.shape[1] + 1))).max(axis=1).mean()\\n        )\\n\\n    def coverage(self):\\n        org_ids = set(self.organisations.index)\\n        recommended_org_ids = set(self.recommendations.values.flat)\\n        return len(recommended_org_ids & org_ids) / len(org_ids)\\n\\n    def surprisal(self):\\n        org_interactions = (\\n            self.reviews.groupby(\\\"org_id\\\")\\n            .size()\\n            .reindex(self.organisations.index)\\n            .replace(0, np.nan)\\n        )\\n        recommended_interactions = self.recommendations.applymap(\\n            lambda org_id: org_interactions[org_id] if org_id else np.nan\\n        )\\n        self_information = -np.log2(recommended_interactions) + np.log2(\\n            len(self.reviews)\\n        )\\n        return (self_information / np.log2(len(self.reviews))).mean().mean()\\n\\n    def calculate_metrics(self, name=None):\\n        results = pd.Series(dtype=float, name=name)\\n        for metric in [\\\"mnap\\\", \\\"hitrate\\\", \\\"mrr\\\", \\\"coverage\\\", \\\"surprisal\\\"]:\\n            results[metric] = getattr(self, metric)()\\n        return results\";\n",
       "                var nbb_cells = Jupyter.notebook.get_cells();\n",
       "                for (var i = 0; i < nbb_cells.length; ++i) {\n",
       "                    if (nbb_cells[i].input_prompt_number == nbb_cell_id) {\n",
       "                        if (nbb_cells[i].get_text() == nbb_unformatted_code) {\n",
       "                             nbb_cells[i].set_text(nbb_formatted_code);\n",
       "                        }\n",
       "                        break;\n",
       "                    }\n",
       "                }\n",
       "            }, 500);\n",
       "            "
      ],
      "text/plain": [
       "<IPython.core.display.Javascript object>"
      ]
     },
     "metadata": {},
     "output_type": "display_data"
    }
   ],
   "source": [
    "class MetricsBase:\n",
    "    def __init__(self, users, organisations, reviews, k=20):\n",
    "        self.users = users\n",
    "        self.organisations = organisations\n",
    "        self.reviews = reviews\n",
    "        self.k = k\n",
    "        self.relevant_orgs_for_users = (\n",
    "            reviews.query(\"rating >= 4\")\n",
    "            .groupby(\"user_id\")[\"org_id\"]\n",
    "            .apply(np.array)\n",
    "            .rename(\"relevant_org_ids\")\n",
    "        )\n",
    "        self.recommendations = None\n",
    "        self.relevance = None\n",
    "\n",
    "    def binary_relevance(self, recommendations):\n",
    "        relevance = (\n",
    "            pd.merge(\n",
    "                recommendations.agg(np.array, axis=\"columns\").rename(\n",
    "                    \"predicted_org_ids\"\n",
    "                ),\n",
    "                self.relevant_orgs_for_users,\n",
    "                left_index=True,\n",
    "                right_index=True,\n",
    "                how=\"left\",\n",
    "            )\n",
    "            .aggregate(\n",
    "                lambda row: np.isin(row[\"predicted_org_ids\"], row[\"relevant_org_ids\"]),\n",
    "                axis=\"columns\",\n",
    "            )\n",
    "            .pipe(\n",
    "                lambda series: pd.DataFrame(np.stack(series.values), index=series.index)\n",
    "            )\n",
    "        )\n",
    "        return relevance\n",
    "\n",
    "    def precalculate_relevance(self, recommendations):\n",
    "        self.recommendations = recommendations\n",
    "        self.relevance = self.binary_relevance(recommendations.iloc[:, : self.k])\n",
    "\n",
    "    @staticmethod\n",
    "    def wrap_metric(metric):\n",
    "        \"\"\"Precalculate relevance if recommendations were passed.\"\"\"\n",
    "\n",
    "        def wrapper(self, recommendations=None, **kwargs):\n",
    "            if recommendations is not None:\n",
    "                self.precalculate_relevance(recommendations)\n",
    "            elif self.recommendations is None:\n",
    "                raise ValueError(\n",
    "                    \"recommendations must be passed when first calculating a metric.\"\n",
    "                )\n",
    "            return metric(self, **kwargs)\n",
    "\n",
    "        return wrapper\n",
    "\n",
    "    def __init_subclass__(cls):\n",
    "        \"\"\"Wrap all subclass attributes\"\"\"\n",
    "        super().__init_subclass__()\n",
    "        for child_attribute in cls.__dict__.keys() - MetricsBase.__dict__.keys():\n",
    "            setattr(\n",
    "                cls,\n",
    "                child_attribute,\n",
    "                MetricsBase.wrap_metric(object.__getattribute__(cls, child_attribute)),\n",
    "            )\n",
    "\n",
    "\n",
    "class Metrics(MetricsBase):\n",
    "    def precision(self):\n",
    "        precision = self.relevance.astype(int).expanding(axis=\"columns\").mean()\n",
    "        return precision\n",
    "\n",
    "    def ideal_precision(self):\n",
    "        relevant_count = (\n",
    "            self.reviews.query(\"user_id in @self.recommendations.index and rating >= 4\")\n",
    "            .groupby(\"user_id\")\n",
    "            .size()\n",
    "            .reindex(self.relevance.index)\n",
    "        )\n",
    "\n",
    "        def relevant_count_to_ideal_average_precision(count):\n",
    "            k = np.arange(1, self.k + 1)\n",
    "            ideal_relevant_count = np.minimum(k, count)\n",
    "            return np.mean(ideal_relevant_count / k)\n",
    "\n",
    "        return relevant_count.map(relevant_count_to_ideal_average_precision)\n",
    "\n",
    "    def mnap(self):\n",
    "        \"\"\"Returns mean normalized average precision\"\"\"\n",
    "        average_precision = self.precision().mean(\"columns\")\n",
    "        ideal_precision = self.ideal_precision()\n",
    "        return np.nanmean(average_precision / ideal_precision)\n",
    "\n",
    "    def hitrate(self):\n",
    "        return self.relevance.any(axis=\"columns\").mean()\n",
    "\n",
    "    def mrr(self):\n",
    "        \"\"\"Returns mean reciprocal rank\"\"\"\n",
    "        relevance = self.relevance.values\n",
    "        return (\n",
    "            (relevance * (1 / np.arange(1, relevance.shape[1] + 1))).max(axis=1).mean()\n",
    "        )\n",
    "\n",
    "    def coverage(self):\n",
    "        org_ids = set(self.organisations.index)\n",
    "        recommended_org_ids = set(self.recommendations.values.flat)\n",
    "        return len(recommended_org_ids & org_ids) / len(org_ids)\n",
    "\n",
    "    def surprisal(self):\n",
    "        org_interactions = (\n",
    "            self.reviews.groupby(\"org_id\")\n",
    "            .size()\n",
    "            .reindex(self.organisations.index)\n",
    "            .replace(0, np.nan)\n",
    "        )\n",
    "        recommended_interactions = self.recommendations.applymap(\n",
    "            lambda org_id: org_interactions[org_id] if org_id else np.nan\n",
    "        )\n",
    "        self_information = -np.log2(recommended_interactions) + np.log2(\n",
    "            len(self.reviews)\n",
    "        )\n",
    "        return (self_information / np.log2(len(self.reviews))).mean().mean()\n",
    "\n",
    "    def calculate_metrics(self, name=None):\n",
    "        results = pd.Series(dtype=float, name=name)\n",
    "        for metric in [\"mnap\", \"hitrate\", \"mrr\", \"coverage\", \"surprisal\"]:\n",
    "            results[metric] = getattr(self, metric)()\n",
    "        return results"
   ]
  },
  {
   "cell_type": "code",
   "execution_count": 812,
   "metadata": {
    "ExecuteTime": {
     "end_time": "2022-08-04T17:38:26.486821Z",
     "start_time": "2022-08-04T17:38:26.468164Z"
    }
   },
   "outputs": [
    {
     "data": {
      "application/javascript": [
       "\n",
       "            setTimeout(function() {\n",
       "                var nbb_cell_id = 812;\n",
       "                var nbb_unformatted_code = \"def assess_baseline_models(\\n    users, organisations, train_reviews, validation_reviews, metrics, baseline_models\\n):\\n    validation_users = validation_reviews[\\\"user_id\\\"].unique()\\n    results = []\\n    for name, Model in baseline_models.items():\\n        model = Model(users, organisations, train_reviews)\\n        recommendations = pd.DataFrame(\\n            index=validation_users,\\n            data=model.recommend(validation_users),\\n        )\\n        results.append(metrics.calculate_metrics(recommendations, name=name))\\n    return pd.concat(results, axis=\\\"columns\\\")\";\n",
       "                var nbb_formatted_code = \"def assess_baseline_models(\\n    users, organisations, train_reviews, validation_reviews, metrics, baseline_models\\n):\\n    validation_users = validation_reviews[\\\"user_id\\\"].unique()\\n    results = []\\n    for name, Model in baseline_models.items():\\n        model = Model(users, organisations, train_reviews)\\n        recommendations = pd.DataFrame(\\n            index=validation_users,\\n            data=model.recommend(validation_users),\\n        )\\n        results.append(metrics.calculate_metrics(recommendations, name=name))\\n    return pd.concat(results, axis=\\\"columns\\\")\";\n",
       "                var nbb_cells = Jupyter.notebook.get_cells();\n",
       "                for (var i = 0; i < nbb_cells.length; ++i) {\n",
       "                    if (nbb_cells[i].input_prompt_number == nbb_cell_id) {\n",
       "                        if (nbb_cells[i].get_text() == nbb_unformatted_code) {\n",
       "                             nbb_cells[i].set_text(nbb_formatted_code);\n",
       "                        }\n",
       "                        break;\n",
       "                    }\n",
       "                }\n",
       "            }, 500);\n",
       "            "
      ],
      "text/plain": [
       "<IPython.core.display.Javascript object>"
      ]
     },
     "metadata": {},
     "output_type": "display_data"
    }
   ],
   "source": [
    "def assess_baseline_models(\n",
    "    users, organisations, train_reviews, validation_reviews, metrics, baseline_models\n",
    "):\n",
    "    validation_users = validation_reviews[\"user_id\"].unique()\n",
    "    results = []\n",
    "    for name, Model in baseline_models.items():\n",
    "        model = Model(users, organisations, train_reviews)\n",
    "        recommendations = pd.DataFrame(\n",
    "            index=validation_users,\n",
    "            data=model.recommend(validation_users),\n",
    "        )\n",
    "        results.append(metrics.calculate_metrics(recommendations, name=name))\n",
    "    return pd.concat(results, axis=\"columns\")"
   ]
  },
  {
   "cell_type": "code",
   "execution_count": 889,
   "metadata": {
    "ExecuteTime": {
     "end_time": "2022-08-04T18:12:31.881383Z",
     "start_time": "2022-08-04T18:12:01.578414Z"
    }
   },
   "outputs": [
    {
     "data": {
      "application/javascript": [
       "\n",
       "            setTimeout(function() {\n",
       "                var nbb_cell_id = 889;\n",
       "                var nbb_unformatted_code = \"metrics = Metrics(\\n    users, organisations, reviews=pd.concat([train_reviews, validation_reviews])\\n)\";\n",
       "                var nbb_formatted_code = \"metrics = Metrics(\\n    users, organisations, reviews=pd.concat([train_reviews, validation_reviews])\\n)\";\n",
       "                var nbb_cells = Jupyter.notebook.get_cells();\n",
       "                for (var i = 0; i < nbb_cells.length; ++i) {\n",
       "                    if (nbb_cells[i].input_prompt_number == nbb_cell_id) {\n",
       "                        if (nbb_cells[i].get_text() == nbb_unformatted_code) {\n",
       "                             nbb_cells[i].set_text(nbb_formatted_code);\n",
       "                        }\n",
       "                        break;\n",
       "                    }\n",
       "                }\n",
       "            }, 500);\n",
       "            "
      ],
      "text/plain": [
       "<IPython.core.display.Javascript object>"
      ]
     },
     "metadata": {},
     "output_type": "display_data"
    }
   ],
   "source": [
    "metrics = Metrics(\n",
    "    users, organisations, reviews=pd.concat([train_reviews, validation_reviews])\n",
    ")"
   ]
  },
  {
   "cell_type": "code",
   "execution_count": 813,
   "metadata": {
    "ExecuteTime": {
     "end_time": "2022-08-04T17:41:42.474772Z",
     "start_time": "2022-08-04T17:38:50.664756Z"
    }
   },
   "outputs": [
    {
     "data": {
      "application/javascript": [
       "\n",
       "            setTimeout(function() {\n",
       "                var nbb_cell_id = 813;\n",
       "                var nbb_unformatted_code = \"metrics = Metrics(\\n        users, organisations, reviews=pd.concat([train_reviews, validation_reviews])\\n)\\nbaseline_results = assess_baseline_models(\\n    users,\\n    organisations,\\n    train_reviews,\\n    validation_reviews,\\n    metrics,\\n    baseline_models={\\\"random\\\": RandomRecommender, \\\"popular\\\": PopularRecommender},\\n)\";\n",
       "                var nbb_formatted_code = \"metrics = Metrics(\\n    users, organisations, reviews=pd.concat([train_reviews, validation_reviews])\\n)\\nbaseline_results = assess_baseline_models(\\n    users,\\n    organisations,\\n    train_reviews,\\n    validation_reviews,\\n    metrics,\\n    baseline_models={\\\"random\\\": RandomRecommender, \\\"popular\\\": PopularRecommender},\\n)\";\n",
       "                var nbb_cells = Jupyter.notebook.get_cells();\n",
       "                for (var i = 0; i < nbb_cells.length; ++i) {\n",
       "                    if (nbb_cells[i].input_prompt_number == nbb_cell_id) {\n",
       "                        if (nbb_cells[i].get_text() == nbb_unformatted_code) {\n",
       "                             nbb_cells[i].set_text(nbb_formatted_code);\n",
       "                        }\n",
       "                        break;\n",
       "                    }\n",
       "                }\n",
       "            }, 500);\n",
       "            "
      ],
      "text/plain": [
       "<IPython.core.display.Javascript object>"
      ]
     },
     "metadata": {},
     "output_type": "display_data"
    }
   ],
   "source": [
    "baseline_results = assess_baseline_models(\n",
    "    users,\n",
    "    organisations,\n",
    "    train_reviews,\n",
    "    validation_reviews,\n",
    "    metrics,\n",
    "    baseline_models={\"random\": RandomRecommender, \"popular\": PopularRecommender},\n",
    ")\n",
    "baseline_results.plot(\n",
    "    kind=\"barh\", log=True, cmap=\"Set1\", title=\"Baseline metrics, log scale\"\n",
    ")\n",
    "baseline_results.T"
   ]
  },
  {
   "cell_type": "markdown",
   "metadata": {},
   "source": [
    "**(1.0 балла) Задание 5.** Метод Memory based. User-2-User or Item-2-Item\n",
    "\n",
    "Теперь рассмотрим [memory-based](https://en.wikipedia.org/wiki/Collaborative_filtering#Memory-based) методы рекоммендаций.\n",
    "Подход, лежащий в их основе, использует данные о рейтингах для вычисления сходства между пользователями (user-based) или объектами (item-based), на основе этих данных делаются предсказания рейтингов и, в дальнейшем, строятся рекоммендации. Эти методы просты в реализации и эффективны на ранних стадиях разработки рекомендательных систем.\n",
    "                                 \n",
    "              \n",
    "За последние годы было создано много библиотек для реализации алгоримтов построения рекомендаций.      \n",
    "  * https://github.com/benfred/implicit\n",
    "  * https://sberbank-ai-lab.github.io/RePlay/index.html\n",
    "  * https://github.com/apple/turicreate \n",
    "  * https://github.com/caserec/CaseRecommender\n",
    "\n",
    "Выеберите одну из них и постройте предсказания на основании совместной фильтрации по близости пользователей или по близости объектов.\n",
    "\n",
    "Если обучение идёт слишком долго подумайте про семплирование данных. Обоснуйте выбранную стратегию семплирования.\n",
    "\n"
   ]
  },
  {
   "cell_type": "code",
   "execution_count": 913,
   "metadata": {
    "ExecuteTime": {
     "end_time": "2022-08-04T18:49:29.908842Z",
     "start_time": "2022-08-04T18:49:29.866882Z"
    }
   },
   "outputs": [
    {
     "data": {
      "application/javascript": [
       "\n",
       "            setTimeout(function() {\n",
       "                var nbb_cell_id = 913;\n",
       "                var nbb_unformatted_code = \"import implicit\\nfrom scipy.sparse import csr_matrix\\n\\n\\nclass SparseInterface:\\n    def __init__(self, users, organisations, train_reviews):\\n        self.train_reviews = train_reviews\\n        user_ids = users.index.unique()\\n        self.user_id_to_range = pd.Series(index=user_ids, data=np.arange(len(user_ids)))\\n        org_ids = organisations.index.unique()\\n        self.org_id_to_range = pd.Series(index=org_ids, data=np.arange(len(org_ids)))\\n        self.range_to_org_id = pd.Series(\\n            index=self.org_id_to_range.values,\\n            data=self.org_id_to_range.index,\\n            dtype=\\\"uint64\\\",\\n        ).sort_index()\\n\\n    def build_sparse_reviews(self):\\n        reviews_notna = self.train_reviews.dropna(subset=\\\"rating\\\")\\n        row_ind = self.user_id_to_range.loc[reviews_notna[\\\"user_id\\\"]]\\n        col_ind = self.org_id_to_range.loc[reviews_notna[\\\"org_id\\\"]]\\n        data = reviews_notna[\\\"rating\\\"]\\n        self.sparse_reviews = csr_matrix(\\n            (data.values, (row_ind.values, col_ind.values)),\\n            shape=(self.user_id_to_range.shape[0], self.org_id_to_range.shape[0]),\\n        )\\n        return self.sparse_reviews\\n\\n    def recommending_kwargs(self, user_ids):\\n        user_range_ids = self.user_id_to_range.loc[user_ids]\\n        kwargs = {\\n            \\\"userid\\\": user_range_ids,\\n            \\\"user_items\\\": self.sparse_reviews[user_range_ids],\\n            \\\"filter_already_liked_items\\\": False,\\n        }\\n        return kwargs\\n\\n    def convert_recommendations(self, recommendations):\\n        return recommendations.applymap(\\n            lambda x: self.range_to_org_id[x] if x != -1 else 0\\n        )\\n\\n\\ndef assess_nearest_neighbors_models(\\n    users, organisations, train_reviews, validation_reviews, metrics, models\\n):\\n    sparse_interface = SparseInterface(users, organisations, train_reviews)\\n    validation_users = validation_reviews[\\\"user_id\\\"].unique()\\n    results = []\\n    for name, model in models.items():\\n        model.fit(sparse_interface.build_sparse_reviews())\\n        recommendations, predicted_ratings = model.recommend(\\n            **sparse_interface.recommending_kwargs(validation_users)\\n        )\\n        recommendations = pd.DataFrame(\\n            index=validation_users,\\n            data=sparse_interface.convert_recommendations(recommendations),\\n        )\\n        results.append(metrics.calculate_metrics(recommendations, name=name))\\n    return pd.concat(results, axis=\\\"columns\\\")\";\n",
       "                var nbb_formatted_code = \"import implicit\\nfrom scipy.sparse import csr_matrix\\n\\n\\nclass SparseInterface:\\n    def __init__(self, users, organisations, train_reviews):\\n        self.train_reviews = train_reviews\\n        user_ids = users.index.unique()\\n        self.user_id_to_range = pd.Series(index=user_ids, data=np.arange(len(user_ids)))\\n        org_ids = organisations.index.unique()\\n        self.org_id_to_range = pd.Series(index=org_ids, data=np.arange(len(org_ids)))\\n        self.range_to_org_id = pd.Series(\\n            index=self.org_id_to_range.values,\\n            data=self.org_id_to_range.index,\\n            dtype=\\\"uint64\\\",\\n        ).sort_index()\\n\\n    def build_sparse_reviews(self):\\n        reviews_notna = self.train_reviews.dropna(subset=\\\"rating\\\")\\n        row_ind = self.user_id_to_range.loc[reviews_notna[\\\"user_id\\\"]]\\n        col_ind = self.org_id_to_range.loc[reviews_notna[\\\"org_id\\\"]]\\n        data = reviews_notna[\\\"rating\\\"]\\n        self.sparse_reviews = csr_matrix(\\n            (data.values, (row_ind.values, col_ind.values)),\\n            shape=(self.user_id_to_range.shape[0], self.org_id_to_range.shape[0]),\\n        )\\n        return self.sparse_reviews\\n\\n    def recommending_kwargs(self, user_ids):\\n        user_range_ids = self.user_id_to_range.loc[user_ids]\\n        kwargs = {\\n            \\\"userid\\\": user_range_ids,\\n            \\\"user_items\\\": self.sparse_reviews[user_range_ids],\\n            \\\"filter_already_liked_items\\\": False,\\n        }\\n        return kwargs\\n\\n    def convert_recommendations(self, recommendations):\\n        return recommendations.applymap(\\n            lambda x: self.range_to_org_id[x] if x != -1 else 0\\n        )\\n\\n\\ndef assess_nearest_neighbors_models(\\n    users, organisations, train_reviews, validation_reviews, metrics, models\\n):\\n    sparse_interface = SparseInterface(users, organisations, train_reviews)\\n    validation_users = validation_reviews[\\\"user_id\\\"].unique()\\n    results = []\\n    for name, model in models.items():\\n        model.fit(sparse_interface.build_sparse_reviews())\\n        recommendations, predicted_ratings = model.recommend(\\n            **sparse_interface.recommending_kwargs(validation_users)\\n        )\\n        recommendations = pd.DataFrame(\\n            index=validation_users,\\n            data=sparse_interface.convert_recommendations(recommendations),\\n        )\\n        results.append(metrics.calculate_metrics(recommendations, name=name))\\n    return pd.concat(results, axis=\\\"columns\\\")\";\n",
       "                var nbb_cells = Jupyter.notebook.get_cells();\n",
       "                for (var i = 0; i < nbb_cells.length; ++i) {\n",
       "                    if (nbb_cells[i].input_prompt_number == nbb_cell_id) {\n",
       "                        if (nbb_cells[i].get_text() == nbb_unformatted_code) {\n",
       "                             nbb_cells[i].set_text(nbb_formatted_code);\n",
       "                        }\n",
       "                        break;\n",
       "                    }\n",
       "                }\n",
       "            }, 500);\n",
       "            "
      ],
      "text/plain": [
       "<IPython.core.display.Javascript object>"
      ]
     },
     "metadata": {},
     "output_type": "display_data"
    }
   ],
   "source": [
    "import implicit\n",
    "from scipy.sparse import csr_matrix\n",
    "\n",
    "\n",
    "class SparseInterface:\n",
    "    def __init__(self, users, organisations, train_reviews):\n",
    "        self.train_reviews = train_reviews\n",
    "        user_ids = users.index.unique()\n",
    "        self.user_id_to_range = pd.Series(index=user_ids, data=np.arange(len(user_ids)))\n",
    "        org_ids = organisations.index.unique()\n",
    "        self.org_id_to_range = pd.Series(index=org_ids, data=np.arange(len(org_ids)))\n",
    "        self.range_to_org_id = pd.Series(\n",
    "            index=self.org_id_to_range.values,\n",
    "            data=self.org_id_to_range.index,\n",
    "            dtype=\"uint64\",\n",
    "        ).sort_index()\n",
    "\n",
    "    def build_sparse_reviews(self):\n",
    "        reviews_notna = self.train_reviews.dropna(subset=\"rating\")\n",
    "        row_ind = self.user_id_to_range.loc[reviews_notna[\"user_id\"]]\n",
    "        col_ind = self.org_id_to_range.loc[reviews_notna[\"org_id\"]]\n",
    "        data = reviews_notna[\"rating\"]\n",
    "        self.sparse_reviews = csr_matrix(\n",
    "            (data.values, (row_ind.values, col_ind.values)),\n",
    "            shape=(self.user_id_to_range.shape[0], self.org_id_to_range.shape[0]),\n",
    "        )\n",
    "        return self.sparse_reviews\n",
    "\n",
    "    def recommending_kwargs(self, user_ids):\n",
    "        user_range_ids = self.user_id_to_range.loc[user_ids]\n",
    "        kwargs = {\n",
    "            \"userid\": user_range_ids,\n",
    "            \"user_items\": self.sparse_reviews[user_range_ids],\n",
    "            \"filter_already_liked_items\": False,\n",
    "        }\n",
    "        return kwargs\n",
    "\n",
    "    def convert_recommendations(self, recommendations):\n",
    "        return recommendations.applymap(\n",
    "            lambda x: self.range_to_org_id[x] if x != -1 else 0\n",
    "        )\n",
    "\n",
    "\n",
    "def assess_nearest_neighbors_models(\n",
    "    users, organisations, train_reviews, validation_reviews, metrics, models\n",
    "):\n",
    "    sparse_interface = SparseInterface(users, organisations, train_reviews)\n",
    "    validation_users = validation_reviews[\"user_id\"].unique()\n",
    "    results = []\n",
    "    for name, model in models.items():\n",
    "        model.fit(sparse_interface.build_sparse_reviews())\n",
    "        recommendations, predicted_ratings = model.recommend(\n",
    "            **sparse_interface.recommending_kwargs(validation_users)\n",
    "        )\n",
    "        recommendations = pd.DataFrame(\n",
    "            index=validation_users,\n",
    "            data=sparse_interface.convert_recommendations(recommendations),\n",
    "        )\n",
    "        results.append(metrics.calculate_metrics(recommendations, name=name))\n",
    "    return pd.concat(results, axis=\"columns\")"
   ]
  },
  {
   "cell_type": "code",
   "execution_count": null,
   "metadata": {
    "ExecuteTime": {
     "start_time": "2022-08-04T18:49:29.773Z"
    }
   },
   "outputs": [
    {
     "name": "stderr",
     "output_type": "stream",
     "text": [
      "/external2/dkkoshman/venv3.10/lib/python3.10/site-packages/implicit/nearest_neighbours.py:221: RuntimeWarning: invalid value encountered in true_divide\n",
      "  X.data = X.data / sqrt(bincount(X.row, X.data ** 2))[X.row]\n"
     ]
    },
    {
     "data": {
      "application/vnd.jupyter.widget-view+json": {
       "model_id": "2dbbc086e0eb4b7b88918c4e0fb60dad",
       "version_major": 2,
       "version_minor": 0
      },
      "text/plain": [
       "  0%|          | 0/68339 [00:00<?, ?it/s]"
      ]
     },
     "metadata": {},
     "output_type": "display_data"
    }
   ],
   "source": [
    "assess_nearest_neighbors_models(\n",
    "    users,\n",
    "    organisations,\n",
    "    train_reviews,\n",
    "    validation_reviews,\n",
    "    metrics,\n",
    "    models={\n",
    "        \"tfidf\": implicit.nearest_neighbours.TFIDFRecommender(),\n",
    "        \"bm25\": implicit.nearest_neighbours.BM25Recommender(),\n",
    "        \"cosine\": implicit.nearest_neighbours.CosineRecommender(),\n",
    "    },\n",
    ")"
   ]
  },
  {
   "cell_type": "markdown",
   "metadata": {},
   "source": [
    "## Методы Matrix factorization"
   ]
  },
  {
   "cell_type": "markdown",
   "metadata": {},
   "source": [
    "**(0.5 балла) Задание 6.**\n",
    "\n",
    "- Разложите матрицу рейтингов с помощью [разреженного SVD](http://scikit-learn.org/stable/modules/generated/sklearn.decomposition.TruncatedSVD.html) и, восстановив ее, получите предсказания рейтингов для всех пар пользователь-объект. В данном случае неизвестные рейтинги заполняются нулями, а затем восстанавливаются с помощью SVD (этот метод называется PureSVD).\n",
    "   * Получив векторные представления пользователей и объектов и сингулярные числа, мы можеи восстановив матрицу и в местах нулей получим \"предсказанные значения вероятностей\" для новых объектов.\n",
    "- Рассмотрите, как минимум, 5 различных значений ранга разложения. Оцените качество рекомендаций"
   ]
  },
  {
   "cell_type": "code",
   "execution_count": null,
   "metadata": {},
   "outputs": [],
   "source": []
  },
  {
   "cell_type": "markdown",
   "metadata": {},
   "source": [
    "# ALS\n",
    "Довольно популярным базовым методом в рекомендательных системах является ALS.\n",
    "\n",
    "### Explicit ALS\n",
    "\n",
    "Релевантность:\n",
    "$$r_{ui} = q_i^T p_u$$\n",
    "\n",
    "Loss:\n",
    "$$\\min_{p*, q*} \\sum_{(u, i \\in \\mathcal{K})} (r_{ui} - q_i^T p_u)^2 + \\lambda(\\|{q_i}\\|^2 + \\|{p_i}\\|^2)$$\n",
    "\n",
    "### [Implicit ALS](http://yifanhu.net/PUB/cf.pdf)\n",
    "\n",
    "Релевантность:\n",
    "$$r_{ui} = q_i^T p_u$$\n",
    "\n",
    "Loss:\n",
    "$$\\min_{p*, q*} \\sum_{(u, i \\in \\mathcal{K})} c_{ui}(p_{ui} - q_i^T p_u)^2 + \\lambda(\\|{q_i}\\|^2 + \\|{p_i}\\|^2)$$\n",
    "Где $c_{ui}$ - значение в матрице implicit feedback, а $p_{ui}$ равно 1, если пользователь u взаимодействовал с item-ом i, и 0 иначе.\n",
    "\n",
    "### Усложнения ALS\n",
    "Обучив для каждого пользователя и объекта свой bias и добавив регуляризацию можно улучшить качество решения. Подробнее о различных матричных разложениях для задачи рекомендаций можно почитать [в статье на Хабре](https://habr.com/ru/post/486802/).\n",
    "\n",
    "В рейтинг объекта для пользователя, например, может быть представлен:\n",
    "$$r_{ui} = \\mu + b_i + b_u + q_i^T p_u$$\n",
    "\n",
    "А функция потерь будет выглядеть так:\n",
    "$$\\min_{b*, p*, q*} \\sum_{(u, i \\in \\mathcal{K})} (r_{ui} - \\mu - b_i - b_u - q_i^T p_u)^2 + \\lambda(\\|{q_i}\\|^2 + \\|{p_i}\\|^2 + b_i^2 + b_u^2)$$\n",
    "\n",
    "Матричная факторизация - хороший подход, который позволяет получить рекомендации для теплых пользователей, а также находить похожих пользователей и объекты, посчитав расстояния между векторами. Обучив модель и получив вектора можно перейти от задачи рекомендаций к задаче поиска ближайших соседей и использовать ANN-методы."
   ]
  },
  {
   "cell_type": "markdown",
   "metadata": {},
   "source": [
    "**(1.0 балла) Задание 7.**\n",
    "Примените ALS.\n",
    "\n",
    "Можно воспользоваться готовой реализацией из бибилотеки https://github.com/benfred/implicit\n",
    "\n",
    "Попробуйте использовать как все оценки, так и только высокие. Есть ли разница?"
   ]
  },
  {
   "cell_type": "code",
   "execution_count": null,
   "metadata": {},
   "outputs": [],
   "source": []
  },
  {
   "cell_type": "markdown",
   "metadata": {},
   "source": [
    "**(1.0 балла) Задание 8.**\n",
    "\n",
    "На [семинаре](https://github.com/monkey0head/recsys_sem) Вам было расказано про бибилиотеку LightFM.\n",
    "Примените ее для нашей задачи. Используя фичи и не используя фичи, сравните результат."
   ]
  },
  {
   "cell_type": "code",
   "execution_count": null,
   "metadata": {},
   "outputs": [],
   "source": []
  },
  {
   "cell_type": "markdown",
   "metadata": {},
   "source": [
    "**(1.0 балла) Задание 9.**\n",
    "\n",
    "   Посмотрим на все прошлые методы как на модели, которые генерируют нам кандидатов для ответа рекомендательной системы. \n",
    "   \n",
    "   Как нам выбрать те 20 организаций наилучшим образом? \n",
    "   \n",
    "   Давайте подключим машинное обучение. Сформулируем задачу ранжирования: запросом будет пользователь. Документами будут организации. Наивным признаковым описанием будет, например, факт рекомендации данной организации или скор/ранг от моделей SVD, ALS, LightFM.\n",
    "   Примените catboost/xgboost/lightgbm для создания переранжирования рекомендаций. То есть сделаем двухуровневую модель. Выясните наиболее важные признаки моделей первого уровня."
   ]
  },
  {
   "cell_type": "code",
   "execution_count": null,
   "metadata": {},
   "outputs": [],
   "source": []
  },
  {
   "cell_type": "code",
   "execution_count": null,
   "metadata": {},
   "outputs": [],
   "source": []
  }
 ],
 "metadata": {
  "kernelspec": {
   "display_name": "Python 3 (ipykernel)",
   "language": "python",
   "name": "python3"
  },
  "language_info": {
   "codemirror_mode": {
    "name": "ipython",
    "version": 3
   },
   "file_extension": ".py",
   "mimetype": "text/x-python",
   "name": "python",
   "nbconvert_exporter": "python",
   "pygments_lexer": "ipython3",
   "version": "3.10.4"
  }
 },
 "nbformat": 4,
 "nbformat_minor": 2
}
