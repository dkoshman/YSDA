{
 "cells": [
  {
   "cell_type": "markdown",
   "metadata": {},
   "source": [
    "# Лабораторная работа 4. Часть 2. Рекомендательные системы.\n",
    "\n",
    "\n",
    "\n",
    "Результат лабораторной работы − отчет. Мы предпочитаем принимать отчеты в формате ноутбуков IPython (ipynb-файл). Постарайтесь сделать ваш отчет интересным рассказом, последовательно отвечающим на вопросы из заданий. Помимо ответов на вопросы, в отчете так же должен быть код, однако чем меньше кода, тем лучше всем: нам − меньше проверять, вам — проще найти ошибку или дополнить эксперимент. При проверке оценивается четкость ответов на вопросы, аккуратность отчета и кода.\n",
    "\n",
    "\n",
    "### Оценивание и штрафы\n",
    "Каждая из задач имеет определенную «стоимость» (указана в скобках около задачи). Максимально допустимая оценка за работу — 8 баллов. Сдавать задание после указанного в lk срока сдачи нельзя. «Похожие» решения считаются плагиатом и все задействованные студенты (в том числе те, у кого списали) не могут получить за него больше 0 баллов и понижают карму (подробнее о плагиате см. на странице курса). Если вы нашли решение какого-то из заданий в открытом источнике, необходимо прислать ссылку на этот источник (скорее всего вы будете не единственным, кто это нашел, поэтому чтобы исключить подозрение в плагиате, нам необходима ссылка на источник).\n",
    "\n"
   ]
  },
  {
   "cell_type": "markdown",
   "metadata": {},
   "source": [
    "## Знакомство с данными\n",
    "\n",
    "### Рекомендация организаций, которые получат высокий отзыв от пользователя, когда он гостит в чужом для себя городе\n",
    "\n",
    "Эта лабораторная работа про задачу из соревнования\n",
    "\n",
    "https://contest.yandex.ru/contest/36927/problems/\n"
   ]
  },
  {
   "cell_type": "markdown",
   "metadata": {},
   "source": [
    "**(1 балла) Задание 1.** Знакомство с данными.\n",
    "\n",
    "В первую очередь нам понадобятся данные по __пользователям__ (в терминах recsys -- users), __организациям__ (в терминах recsys -- items) и сами __отзывы__ (в терминах recsys -- ratings или explicit feedback). \n",
    "\n",
    "На основании этих данных можно будет проводить базовый анализ методами колаборативной фильтрации.\n",
    "\n",
    "  * Опишите, насколько активно пользователи оставляют отзывы, насколько активно организации получают отзывы.\n",
    "  * Предложите стратегии фильтрации данных.\n",
    "  \n",
    "\n",
    "\n",
    "Во вторую очередь нас будут интересовать атрибуты организаций: aspects, features, rubrics.\n",
    "Проанализируйте эти таблицы. Какие признаки для описания организаций и пользователей из них можно извлечь?\n"
   ]
  },
  {
   "cell_type": "code",
   "execution_count": 8,
   "metadata": {
    "ExecuteTime": {
     "end_time": "2022-08-06T07:33:56.941171Z",
     "start_time": "2022-08-06T07:33:56.418168Z"
    }
   },
   "outputs": [
    {
     "data": {
      "application/javascript": [
       "\n",
       "            setTimeout(function() {\n",
       "                var nbb_cell_id = 8;\n",
       "                var nbb_unformatted_code = \"%load_ext nb_black\\n\\nimport abc\\nimport glob\\nimport matplotlib.pyplot as plt\\nimport numpy as np\\nimport os\\nimport pandas as pd\\n\\nfrom functools import partial, reduce\";\n",
       "                var nbb_formatted_code = \"%load_ext nb_black\\n\\nimport abc\\nimport glob\\nimport matplotlib.pyplot as plt\\nimport numpy as np\\nimport os\\nimport pandas as pd\\n\\nfrom functools import partial, reduce\";\n",
       "                var nbb_cells = Jupyter.notebook.get_cells();\n",
       "                for (var i = 0; i < nbb_cells.length; ++i) {\n",
       "                    if (nbb_cells[i].input_prompt_number == nbb_cell_id) {\n",
       "                        if (nbb_cells[i].get_text() == nbb_unformatted_code) {\n",
       "                             nbb_cells[i].set_text(nbb_formatted_code);\n",
       "                        }\n",
       "                        break;\n",
       "                    }\n",
       "                }\n",
       "            }, 500);\n",
       "            "
      ],
      "text/plain": [
       "<IPython.core.display.Javascript object>"
      ]
     },
     "metadata": {},
     "output_type": "display_data"
    }
   ],
   "source": [
    "%load_ext nb_black\n",
    "\n",
    "import abc\n",
    "import glob\n",
    "import matplotlib.pyplot as plt\n",
    "import numpy as np\n",
    "import os\n",
    "import pandas as pd\n",
    "\n",
    "from functools import partial, reduce"
   ]
  },
  {
   "cell_type": "code",
   "execution_count": 9,
   "metadata": {
    "ExecuteTime": {
     "end_time": "2022-08-06T07:33:58.801413Z",
     "start_time": "2022-08-06T07:33:58.784178Z"
    }
   },
   "outputs": [
    {
     "data": {
      "application/javascript": [
       "\n",
       "            setTimeout(function() {\n",
       "                var nbb_cell_id = 9;\n",
       "                var nbb_unformatted_code = \"def read_ints(line):\\n    return list(map(int, line.split()))\\n\\n\\ndef read_data(\\n    path=\\\"data/*.csv\\\",\\n    converters={\\\"rubrics_id\\\": read_ints, \\\"features_id\\\": read_ints},\\n    index_col=0,\\n):\\n    data = {}\\n    for csv_filename in glob.glob(path):\\n        basename, extension = os.path.splitext(os.path.basename(csv_filename))\\n        data[basename] = pd.read_csv(\\n            csv_filename,\\n            converters=converters,\\n            index_col=index_col,\\n        )\\n    return data\";\n",
       "                var nbb_formatted_code = \"def read_ints(line):\\n    return list(map(int, line.split()))\\n\\n\\ndef read_data(\\n    path=\\\"data/*.csv\\\",\\n    converters={\\\"rubrics_id\\\": read_ints, \\\"features_id\\\": read_ints},\\n    index_col=0,\\n):\\n    data = {}\\n    for csv_filename in glob.glob(path):\\n        basename, extension = os.path.splitext(os.path.basename(csv_filename))\\n        data[basename] = pd.read_csv(\\n            csv_filename,\\n            converters=converters,\\n            index_col=index_col,\\n        )\\n    return data\";\n",
       "                var nbb_cells = Jupyter.notebook.get_cells();\n",
       "                for (var i = 0; i < nbb_cells.length; ++i) {\n",
       "                    if (nbb_cells[i].input_prompt_number == nbb_cell_id) {\n",
       "                        if (nbb_cells[i].get_text() == nbb_unformatted_code) {\n",
       "                             nbb_cells[i].set_text(nbb_formatted_code);\n",
       "                        }\n",
       "                        break;\n",
       "                    }\n",
       "                }\n",
       "            }, 500);\n",
       "            "
      ],
      "text/plain": [
       "<IPython.core.display.Javascript object>"
      ]
     },
     "metadata": {},
     "output_type": "display_data"
    }
   ],
   "source": [
    "def read_ints(line):\n",
    "    return list(map(int, line.split()))\n",
    "\n",
    "\n",
    "def read_data(\n",
    "    path=\"data/*.csv\",\n",
    "    converters={\"rubrics_id\": read_ints, \"features_id\": read_ints},\n",
    "    index_col=0,\n",
    "):\n",
    "    data = {}\n",
    "    for csv_filename in glob.glob(path):\n",
    "        basename, extension = os.path.splitext(os.path.basename(csv_filename))\n",
    "        data[basename] = pd.read_csv(\n",
    "            csv_filename,\n",
    "            converters=converters,\n",
    "            index_col=index_col,\n",
    "        )\n",
    "    return data"
   ]
  },
  {
   "cell_type": "code",
   "execution_count": 10,
   "metadata": {
    "ExecuteTime": {
     "end_time": "2022-08-06T07:34:02.895359Z",
     "start_time": "2022-08-06T07:34:00.425723Z"
    }
   },
   "outputs": [
    {
     "name": "stderr",
     "output_type": "stream",
     "text": [
      "/external2/dkkoshman/venv/lib/python3.6/site-packages/numpy/lib/arraysetops.py:580: FutureWarning: elementwise comparison failed; returning scalar instead, but in the future will perform elementwise comparison\n",
      "  mask |= (ar1 == a)\n",
      "/external2/dkkoshman/venv/lib/python3.6/site-packages/IPython/core/interactiveshell.py:3263: DtypeWarning: Columns (4) have mixed types.Specify dtype option on import or set low_memory=False.\n",
      "  if (await self.run_code(code, result,  async_=asy)):\n"
     ]
    },
    {
     "data": {
      "application/javascript": [
       "\n",
       "            setTimeout(function() {\n",
       "                var nbb_cell_id = 10;\n",
       "                var nbb_unformatted_code = \"data = read_data()\\nusers = data[\\\"users\\\"]\\norganisations = data[\\\"organisations\\\"]\\nreviews = data[\\\"reviews\\\"].reset_index()\";\n",
       "                var nbb_formatted_code = \"data = read_data()\\nusers = data[\\\"users\\\"]\\norganisations = data[\\\"organisations\\\"]\\nreviews = data[\\\"reviews\\\"].reset_index()\";\n",
       "                var nbb_cells = Jupyter.notebook.get_cells();\n",
       "                for (var i = 0; i < nbb_cells.length; ++i) {\n",
       "                    if (nbb_cells[i].input_prompt_number == nbb_cell_id) {\n",
       "                        if (nbb_cells[i].get_text() == nbb_unformatted_code) {\n",
       "                             nbb_cells[i].set_text(nbb_formatted_code);\n",
       "                        }\n",
       "                        break;\n",
       "                    }\n",
       "                }\n",
       "            }, 500);\n",
       "            "
      ],
      "text/plain": [
       "<IPython.core.display.Javascript object>"
      ]
     },
     "metadata": {},
     "output_type": "display_data"
    }
   ],
   "source": [
    "data = read_data()\n",
    "users = data[\"users\"]\n",
    "organisations = data[\"organisations\"]\n",
    "reviews = data[\"reviews\"].reset_index()"
   ]
  },
  {
   "cell_type": "markdown",
   "metadata": {},
   "source": [
    "* Опишите, насколько активно пользователи оставляют отзывы, насколько активно организации получают отзывы."
   ]
  },
  {
   "cell_type": "code",
   "execution_count": 11,
   "metadata": {
    "ExecuteTime": {
     "end_time": "2022-08-06T07:34:02.918788Z",
     "start_time": "2022-08-06T07:34:02.897443Z"
    }
   },
   "outputs": [
    {
     "data": {
      "application/javascript": [
       "\n",
       "            setTimeout(function() {\n",
       "                var nbb_cell_id = 11;\n",
       "                var nbb_unformatted_code = \"def describe_review_counts(\\n    df,\\n    reviews,\\n    axis,\\n    title,\\n    quantiles=(0, 0.25, 0.5, 0.75, 0.90, 0.95, 0.99, 0.999, 0.9999, 1),\\n    quantiles_to_plot=(0.5, 0.99, 0.999, 0.9999),\\n    plt_kwargs=None,\\n    cmap=\\\"hsv\\\",\\n):\\n    reviews_count = reviews.groupby(df.index.name).size().reindex(df.index)\\n    reviews_count.plot(ax=axis, title=title, **(plt_kwargs or {}))\\n    axis.set_xlabel(plt_kwargs.get(\\\"xlabel\\\"))\\n    axis.set_ylabel(plt_kwargs.get(\\\"ylabel\\\"))\\n\\n    for i, q in enumerate(quantiles_to_plot, start=1):\\n        quantile = reviews_count.quantile(q=q)\\n        axis.axvline(quantile, ls=\\\"--\\\", c=plt.get_cmap(name=cmap)(q))\\n        axis.text(quantile, axis.get_ylim()[1] / 2**i, f\\\"{100*q}%\\\", ha=\\\"left\\\")\\n\\n    return reviews_count.agg(\\n        {\\n            \\\"mean\\\": pd.Series.mean,\\n            \\\"std\\\": pd.Series.std,\\n            **{f\\\"{100*q}%\\\": partial(pd.Series.quantile, q=q) for q in quantiles},\\n        }\\n    )\\n\\n\\ndef show_review_counts(users, organisations, reviews):\\n    fig, axes = plt.subplots(ncols=2, figsize=(16, 6))\\n    plt_kwargs = dict(\\n        kind=\\\"hist\\\",\\n        log=True,\\n        histtype=\\\"stepfilled\\\",\\n        bins=100,\\n        edgecolor=\\\"black\\\",\\n        facecolor=\\\"gray\\\",\\n        alpha=0.5,\\n        xlabel=\\\"Reviews count\\\",\\n        ylabel=\\\"Frequency (log scale)\\\",\\n    )\\n    return pd.DataFrame(\\n        {\\n            title: describe_review_counts(\\n                df,\\n                reviews,\\n                axis,\\n                title=title,\\n                plt_kwargs=plt_kwargs,\\n            )\\n            for df, axis, title in zip(\\n                [users, organisations],\\n                axes,\\n                [\\\"Users reviews written\\\", \\\"Organisations reviews received\\\"],\\n            )\\n        }\\n    ).T\";\n",
       "                var nbb_formatted_code = \"def describe_review_counts(\\n    df,\\n    reviews,\\n    axis,\\n    title,\\n    quantiles=(0, 0.25, 0.5, 0.75, 0.90, 0.95, 0.99, 0.999, 0.9999, 1),\\n    quantiles_to_plot=(0.5, 0.99, 0.999, 0.9999),\\n    plt_kwargs=None,\\n    cmap=\\\"hsv\\\",\\n):\\n    reviews_count = reviews.groupby(df.index.name).size().reindex(df.index)\\n    reviews_count.plot(ax=axis, title=title, **(plt_kwargs or {}))\\n    axis.set_xlabel(plt_kwargs.get(\\\"xlabel\\\"))\\n    axis.set_ylabel(plt_kwargs.get(\\\"ylabel\\\"))\\n\\n    for i, q in enumerate(quantiles_to_plot, start=1):\\n        quantile = reviews_count.quantile(q=q)\\n        axis.axvline(quantile, ls=\\\"--\\\", c=plt.get_cmap(name=cmap)(q))\\n        axis.text(quantile, axis.get_ylim()[1] / 2**i, f\\\"{100*q}%\\\", ha=\\\"left\\\")\\n\\n    return reviews_count.agg(\\n        {\\n            \\\"mean\\\": pd.Series.mean,\\n            \\\"std\\\": pd.Series.std,\\n            **{f\\\"{100*q}%\\\": partial(pd.Series.quantile, q=q) for q in quantiles},\\n        }\\n    )\\n\\n\\ndef show_review_counts(users, organisations, reviews):\\n    fig, axes = plt.subplots(ncols=2, figsize=(16, 6))\\n    plt_kwargs = dict(\\n        kind=\\\"hist\\\",\\n        log=True,\\n        histtype=\\\"stepfilled\\\",\\n        bins=100,\\n        edgecolor=\\\"black\\\",\\n        facecolor=\\\"gray\\\",\\n        alpha=0.5,\\n        xlabel=\\\"Reviews count\\\",\\n        ylabel=\\\"Frequency (log scale)\\\",\\n    )\\n    return pd.DataFrame(\\n        {\\n            title: describe_review_counts(\\n                df,\\n                reviews,\\n                axis,\\n                title=title,\\n                plt_kwargs=plt_kwargs,\\n            )\\n            for df, axis, title in zip(\\n                [users, organisations],\\n                axes,\\n                [\\\"Users reviews written\\\", \\\"Organisations reviews received\\\"],\\n            )\\n        }\\n    ).T\";\n",
       "                var nbb_cells = Jupyter.notebook.get_cells();\n",
       "                for (var i = 0; i < nbb_cells.length; ++i) {\n",
       "                    if (nbb_cells[i].input_prompt_number == nbb_cell_id) {\n",
       "                        if (nbb_cells[i].get_text() == nbb_unformatted_code) {\n",
       "                             nbb_cells[i].set_text(nbb_formatted_code);\n",
       "                        }\n",
       "                        break;\n",
       "                    }\n",
       "                }\n",
       "            }, 500);\n",
       "            "
      ],
      "text/plain": [
       "<IPython.core.display.Javascript object>"
      ]
     },
     "metadata": {},
     "output_type": "display_data"
    }
   ],
   "source": [
    "def describe_review_counts(\n",
    "    df,\n",
    "    reviews,\n",
    "    axis,\n",
    "    title,\n",
    "    quantiles=(0, 0.25, 0.5, 0.75, 0.90, 0.95, 0.99, 0.999, 0.9999, 1),\n",
    "    quantiles_to_plot=(0.5, 0.99, 0.999, 0.9999),\n",
    "    plt_kwargs=None,\n",
    "    cmap=\"hsv\",\n",
    "):\n",
    "    reviews_count = reviews.groupby(df.index.name).size().reindex(df.index)\n",
    "    reviews_count.plot(ax=axis, title=title, **(plt_kwargs or {}))\n",
    "    axis.set_xlabel(plt_kwargs.get(\"xlabel\"))\n",
    "    axis.set_ylabel(plt_kwargs.get(\"ylabel\"))\n",
    "\n",
    "    for i, q in enumerate(quantiles_to_plot, start=1):\n",
    "        quantile = reviews_count.quantile(q=q)\n",
    "        axis.axvline(quantile, ls=\"--\", c=plt.get_cmap(name=cmap)(q))\n",
    "        axis.text(quantile, axis.get_ylim()[1] / 2**i, f\"{100*q}%\", ha=\"left\")\n",
    "\n",
    "    return reviews_count.agg(\n",
    "        {\n",
    "            \"mean\": pd.Series.mean,\n",
    "            \"std\": pd.Series.std,\n",
    "            **{f\"{100*q}%\": partial(pd.Series.quantile, q=q) for q in quantiles},\n",
    "        }\n",
    "    )\n",
    "\n",
    "\n",
    "def show_review_counts(users, organisations, reviews):\n",
    "    fig, axes = plt.subplots(ncols=2, figsize=(16, 6))\n",
    "    plt_kwargs = dict(\n",
    "        kind=\"hist\",\n",
    "        log=True,\n",
    "        histtype=\"stepfilled\",\n",
    "        bins=100,\n",
    "        edgecolor=\"black\",\n",
    "        facecolor=\"gray\",\n",
    "        alpha=0.5,\n",
    "        xlabel=\"Reviews count\",\n",
    "        ylabel=\"Frequency (log scale)\",\n",
    "    )\n",
    "    return pd.DataFrame(\n",
    "        {\n",
    "            title: describe_review_counts(\n",
    "                df,\n",
    "                reviews,\n",
    "                axis,\n",
    "                title=title,\n",
    "                plt_kwargs=plt_kwargs,\n",
    "            )\n",
    "            for df, axis, title in zip(\n",
    "                [users, organisations],\n",
    "                axes,\n",
    "                [\"Users reviews written\", \"Organisations reviews received\"],\n",
    "            )\n",
    "        }\n",
    "    ).T"
   ]
  },
  {
   "cell_type": "code",
   "execution_count": 8,
   "metadata": {
    "ExecuteTime": {
     "end_time": "2022-08-03T10:56:53.099229Z",
     "start_time": "2022-08-03T10:56:50.823446Z"
    }
   },
   "outputs": [
    {
     "data": {
      "text/html": [
       "<div>\n",
       "<style scoped>\n",
       "    .dataframe tbody tr th:only-of-type {\n",
       "        vertical-align: middle;\n",
       "    }\n",
       "\n",
       "    .dataframe tbody tr th {\n",
       "        vertical-align: top;\n",
       "    }\n",
       "\n",
       "    .dataframe thead th {\n",
       "        text-align: right;\n",
       "    }\n",
       "</style>\n",
       "<table border=\"1\" class=\"dataframe\">\n",
       "  <thead>\n",
       "    <tr style=\"text-align: right;\">\n",
       "      <th></th>\n",
       "      <th>mean</th>\n",
       "      <th>std</th>\n",
       "      <th>0%</th>\n",
       "      <th>25.0%</th>\n",
       "      <th>50.0%</th>\n",
       "      <th>75.0%</th>\n",
       "      <th>90.0%</th>\n",
       "      <th>95.0%</th>\n",
       "      <th>99.0%</th>\n",
       "      <th>99.9%</th>\n",
       "      <th>99.99%</th>\n",
       "      <th>100%</th>\n",
       "    </tr>\n",
       "  </thead>\n",
       "  <tbody>\n",
       "    <tr>\n",
       "      <th>Users reviews written</th>\n",
       "      <td>2.964589</td>\n",
       "      <td>4.854616</td>\n",
       "      <td>1.0</td>\n",
       "      <td>1.0</td>\n",
       "      <td>1.0</td>\n",
       "      <td>3.0</td>\n",
       "      <td>6.0</td>\n",
       "      <td>10.0</td>\n",
       "      <td>22.0</td>\n",
       "      <td>54.000</td>\n",
       "      <td>117.0000</td>\n",
       "      <td>611.0</td>\n",
       "    </tr>\n",
       "    <tr>\n",
       "      <th>Organisations reviews received</th>\n",
       "      <td>60.429564</td>\n",
       "      <td>436.475347</td>\n",
       "      <td>1.0</td>\n",
       "      <td>2.0</td>\n",
       "      <td>8.0</td>\n",
       "      <td>32.0</td>\n",
       "      <td>125.0</td>\n",
       "      <td>246.0</td>\n",
       "      <td>785.0</td>\n",
       "      <td>3021.324</td>\n",
       "      <td>15019.8882</td>\n",
       "      <td>61520.0</td>\n",
       "    </tr>\n",
       "  </tbody>\n",
       "</table>\n",
       "</div>"
      ],
      "text/plain": [
       "                                     mean         std   0%  25.0%  50.0%  \\\n",
       "Users reviews written            2.964589    4.854616  1.0    1.0    1.0   \n",
       "Organisations reviews received  60.429564  436.475347  1.0    2.0    8.0   \n",
       "\n",
       "                                75.0%  90.0%  95.0%  99.0%     99.9%  \\\n",
       "Users reviews written             3.0    6.0   10.0   22.0    54.000   \n",
       "Organisations reviews received   32.0  125.0  246.0  785.0  3021.324   \n",
       "\n",
       "                                    99.99%     100%  \n",
       "Users reviews written             117.0000    611.0  \n",
       "Organisations reviews received  15019.8882  61520.0  "
      ]
     },
     "execution_count": 8,
     "metadata": {},
     "output_type": "execute_result"
    },
    {
     "data": {
      "image/png": "[encoded data removed]",
      "text/plain": [
       "<Figure size 1152x432 with 2 Axes>"
      ]
     },
     "metadata": {
      "needs_background": "light"
     },
     "output_type": "display_data"
    },
    {
     "data": {
      "application/javascript": [
       "\n",
       "            setTimeout(function() {\n",
       "                var nbb_cell_id = 8;\n",
       "                var nbb_unformatted_code = \"show_review_counts(users, organisations, reviews)\";\n",
       "                var nbb_formatted_code = \"show_review_counts(users, organisations, reviews)\";\n",
       "                var nbb_cells = Jupyter.notebook.get_cells();\n",
       "                for (var i = 0; i < nbb_cells.length; ++i) {\n",
       "                    if (nbb_cells[i].input_prompt_number == nbb_cell_id) {\n",
       "                        if (nbb_cells[i].get_text() == nbb_unformatted_code) {\n",
       "                             nbb_cells[i].set_text(nbb_formatted_code);\n",
       "                        }\n",
       "                        break;\n",
       "                    }\n",
       "                }\n",
       "            }, 500);\n",
       "            "
      ],
      "text/plain": [
       "<IPython.core.display.Javascript object>"
      ]
     },
     "metadata": {},
     "output_type": "display_data"
    }
   ],
   "source": [
    "show_review_counts(users, organisations, reviews)"
   ]
  },
  {
   "cell_type": "markdown",
   "metadata": {
    "ExecuteTime": {
     "end_time": "2022-07-31T11:31:58.640951Z",
     "start_time": "2022-07-31T11:31:58.634365Z"
    }
   },
   "source": [
    "* Предложите стратегии фильтрации данных."
   ]
  },
  {
   "cell_type": "markdown",
   "metadata": {},
   "source": [
    "Отбросить организации, у которых мало оценок и все они негативные. Это наименее полезные для нас организации, поскольку они одновременно не дают много информации о взаимных интересах пользователей, и не пригодятся для конечных рекомендаций.\n",
    "\n",
    "Реализация этой стратегии может выглядеть так: мы сортируем организации по значению функции полезности\n",
    "\n",
    "$$f(\\text{organisation}) = (\\text{rating count})(1 + \\text{rating std})^\\alpha (\\text{mean rating})^\\beta$$\n",
    "\n",
    "И отсекаем $\\gamma$ первых организаций, где $\\alpha, \\beta$ и $\\gamma$ подбираются по нашим предпочтениям."
   ]
  },
  {
   "cell_type": "markdown",
   "metadata": {
    "ExecuteTime": {
     "end_time": "2022-07-31T12:52:14.901038Z",
     "start_time": "2022-07-31T12:52:14.887694Z"
    }
   },
   "source": [
    "* Во вторую очередь нас будут интересовать атрибуты организаций: aspects, features, rubrics. Проанализируйте эти таблицы. Какие признаки для описания организаций и пользователей из них можно извлечь?"
   ]
  },
  {
   "cell_type": "markdown",
   "metadata": {},
   "source": [
    "Эти таблицы содержат текстовые описания, так что можно взять их эмбединги или обучить латентные векторные представления, либо кластеризовать и взять метки кластеров, и использовать все это в качестве дополнительных признаков."
   ]
  },
  {
   "cell_type": "markdown",
   "metadata": {},
   "source": [
    "---\n",
    "\n",
    "**(1 балла) Задание 2.** Организация валидации.\n",
    "\n",
    "Как вы помните, обучающее множество собрано за X = 1277 дней, тестовое множество – за последующие Y = 107 дней.\n",
    "\n",
    "Следовательно нам необходимо организовать у себя валидацию схожим образом.\n",
    "Раз мы будем еще и осуществлять выбор моделей, то следует произвести расщепление по времени на 3 группы train validation и holdout.\n",
    "\n",
    "Как уже говорилось на семинаре, для повышения качества локальной валидации, можно сделать скользящую валидацию. В самой лабораторной работе мы так делать не будем, но для конкурса имейте это в виду.\n"
   ]
  },
  {
   "cell_type": "code",
   "execution_count": 136,
   "metadata": {
    "ExecuteTime": {
     "end_time": "2022-08-07T06:17:22.040755Z",
     "start_time": "2022-08-07T06:17:22.021029Z"
    }
   },
   "outputs": [
    {
     "data": {
      "application/javascript": [
       "\n",
       "            setTimeout(function() {\n",
       "                var nbb_cell_id = 136;\n",
       "                var nbb_unformatted_code = \"def split_by_column(df, sizes, column_name, debug=False):\\n    cumulative_sizes = np.cumsum([0] + sizes)\\n    total_size = len(df) // 100 if debug else len(df)\\n    split_edges = [int(s * total_size) for s in cumulative_sizes]\\n    sorted_df = df.sort_values(column_name)\\n    splits = [sorted_df[b:e] for b, e in zip(split_edges, split_edges[1:])]\\n    return splits\";\n",
       "                var nbb_formatted_code = \"def split_by_column(df, sizes, column_name, debug=False):\\n    cumulative_sizes = np.cumsum([0] + sizes)\\n    total_size = len(df) // 100 if debug else len(df)\\n    split_edges = [int(s * total_size) for s in cumulative_sizes]\\n    sorted_df = df.sort_values(column_name)\\n    splits = [sorted_df[b:e] for b, e in zip(split_edges, split_edges[1:])]\\n    return splits\";\n",
       "                var nbb_cells = Jupyter.notebook.get_cells();\n",
       "                for (var i = 0; i < nbb_cells.length; ++i) {\n",
       "                    if (nbb_cells[i].input_prompt_number == nbb_cell_id) {\n",
       "                        if (nbb_cells[i].get_text() == nbb_unformatted_code) {\n",
       "                             nbb_cells[i].set_text(nbb_formatted_code);\n",
       "                        }\n",
       "                        break;\n",
       "                    }\n",
       "                }\n",
       "            }, 500);\n",
       "            "
      ],
      "text/plain": [
       "<IPython.core.display.Javascript object>"
      ]
     },
     "metadata": {},
     "output_type": "display_data"
    }
   ],
   "source": [
    "def split_by_column(df, sizes, column_name, debug=False):\n",
    "    cumulative_sizes = np.cumsum([0] + sizes)\n",
    "    total_size = len(df) // 100 if debug else len(df)\n",
    "    split_edges = [int(s * total_size) for s in cumulative_sizes]\n",
    "    sorted_df = df.sort_values(column_name)\n",
    "    splits = [sorted_df[b:e] for b, e in zip(split_edges, split_edges[1:])]\n",
    "    return splits"
   ]
  },
  {
   "cell_type": "code",
   "execution_count": 137,
   "metadata": {
    "ExecuteTime": {
     "end_time": "2022-08-07T06:17:39.802389Z",
     "start_time": "2022-08-07T06:17:38.675832Z"
    }
   },
   "outputs": [
    {
     "data": {
      "application/javascript": [
       "\n",
       "            setTimeout(function() {\n",
       "                var nbb_cell_id = 137;\n",
       "                var nbb_unformatted_code = \"train_reviews, validation_reviews, holdout_reviews = split_by_column(\\n    reviews, sizes=[0.7, 0.15, 0.15], column_name=\\\"ts\\\", debug=True\\n)\";\n",
       "                var nbb_formatted_code = \"train_reviews, validation_reviews, holdout_reviews = split_by_column(\\n    reviews, sizes=[0.7, 0.15, 0.15], column_name=\\\"ts\\\", debug=True\\n)\";\n",
       "                var nbb_cells = Jupyter.notebook.get_cells();\n",
       "                for (var i = 0; i < nbb_cells.length; ++i) {\n",
       "                    if (nbb_cells[i].input_prompt_number == nbb_cell_id) {\n",
       "                        if (nbb_cells[i].get_text() == nbb_unformatted_code) {\n",
       "                             nbb_cells[i].set_text(nbb_formatted_code);\n",
       "                        }\n",
       "                        break;\n",
       "                    }\n",
       "                }\n",
       "            }, 500);\n",
       "            "
      ],
      "text/plain": [
       "<IPython.core.display.Javascript object>"
      ]
     },
     "metadata": {},
     "output_type": "display_data"
    }
   ],
   "source": [
    "train_reviews, validation_reviews, holdout_reviews = split_by_column(\n",
    "    reviews, sizes=[0.7, 0.15, 0.15], column_name=\"ts\", debug=True\n",
    ")"
   ]
  },
  {
   "cell_type": "markdown",
   "metadata": {},
   "source": [
    "**(0.5 балла) Задание 3.** Базовые решения.\n",
    "\n",
    "Сделаем базовые решения:\n",
    "  * Для каждого пользователя выдаём 20 случайных организаций\n",
    "  * Для каждого пользователя выдаём самые популярные организации в неродном городе"
   ]
  },
  {
   "cell_type": "code",
   "execution_count": 264,
   "metadata": {
    "ExecuteTime": {
     "end_time": "2022-08-07T10:17:17.080217Z",
     "start_time": "2022-08-07T10:17:17.041808Z"
    }
   },
   "outputs": [
    {
     "data": {
      "application/javascript": [
       "\n",
       "            setTimeout(function() {\n",
       "                var nbb_cell_id = 264;\n",
       "                var nbb_unformatted_code = \"class BaseRecommender(abc.ABC):\\n    def __init__(self, name):\\n        self.name = name\\n\\n    @abc.abstractmethod\\n    def fit(self, reviews):\\n        return self\\n\\n    @abc.abstractmethod\\n    def recommend(self, user_ids, recommend_size=20):\\n        return recommendations\\n\\n\\nclass RandomRecommender(BaseRecommender):\\n    def __init__(self, users, organisations, name):\\n        super().__init__(name)\\n        self.users = users\\n        self.organisations = organisations\\n\\n    def fit(self, reviews):\\n        return self\\n\\n    def recommend(self, user_ids, recommend_size=20):\\n        recommendations = np.random.choice(\\n            self.organisations.index, size=(len(user_ids), recommend_size)\\n        )\\n        return pd.DataFrame(recommendations, user_ids)\\n\\n\\nclass PopularRecommender(BaseRecommender):\\n    def __init__(self, users, organisations, name):\\n        super().__init__(name)\\n        self.users = users\\n        self.organisations = organisations\\n\\n    def fit(self, reviews):\\n        self.popular_foreign_organisations_for_home_city = {}\\n        organisations = self.organisations.join(\\n            reviews.groupby(\\\"org_id\\\").size().rename(\\\"popularity\\\")\\n        )\\n        for city in organisations[\\\"city\\\"].unique():\\n            self.popular_foreign_organisations_for_home_city[city] = (\\n                organisations.query(\\\"city != @city\\\")\\n                .sort_values(\\\"popularity\\\", ascending=False)\\n                .index.to_numpy()\\n            )\\n        return self\\n\\n    def recommend(self, user_ids, recommend_size=20):\\n        recommendations = np.stack(\\n            self.users.loc[user_ids][\\\"city\\\"]\\n            .map(\\n                lambda city: self.popular_foreign_organisations_for_home_city[city][\\n                    :recommend_size\\n                ]\\n            )\\n            .values\\n        )\\n        return pd.DataFrame(recommendations, user_ids)\";\n",
       "                var nbb_formatted_code = \"class BaseRecommender(abc.ABC):\\n    def __init__(self, name):\\n        self.name = name\\n\\n    @abc.abstractmethod\\n    def fit(self, reviews):\\n        return self\\n\\n    @abc.abstractmethod\\n    def recommend(self, user_ids, recommend_size=20):\\n        return recommendations\\n\\n\\nclass RandomRecommender(BaseRecommender):\\n    def __init__(self, users, organisations, name):\\n        super().__init__(name)\\n        self.users = users\\n        self.organisations = organisations\\n\\n    def fit(self, reviews):\\n        return self\\n\\n    def recommend(self, user_ids, recommend_size=20):\\n        recommendations = np.random.choice(\\n            self.organisations.index, size=(len(user_ids), recommend_size)\\n        )\\n        return pd.DataFrame(recommendations, user_ids)\\n\\n\\nclass PopularRecommender(BaseRecommender):\\n    def __init__(self, users, organisations, name):\\n        super().__init__(name)\\n        self.users = users\\n        self.organisations = organisations\\n\\n    def fit(self, reviews):\\n        self.popular_foreign_organisations_for_home_city = {}\\n        organisations = self.organisations.join(\\n            reviews.groupby(\\\"org_id\\\").size().rename(\\\"popularity\\\")\\n        )\\n        for city in organisations[\\\"city\\\"].unique():\\n            self.popular_foreign_organisations_for_home_city[city] = (\\n                organisations.query(\\\"city != @city\\\")\\n                .sort_values(\\\"popularity\\\", ascending=False)\\n                .index.to_numpy()\\n            )\\n        return self\\n\\n    def recommend(self, user_ids, recommend_size=20):\\n        recommendations = np.stack(\\n            self.users.loc[user_ids][\\\"city\\\"]\\n            .map(\\n                lambda city: self.popular_foreign_organisations_for_home_city[city][\\n                    :recommend_size\\n                ]\\n            )\\n            .values\\n        )\\n        return pd.DataFrame(recommendations, user_ids)\";\n",
       "                var nbb_cells = Jupyter.notebook.get_cells();\n",
       "                for (var i = 0; i < nbb_cells.length; ++i) {\n",
       "                    if (nbb_cells[i].input_prompt_number == nbb_cell_id) {\n",
       "                        if (nbb_cells[i].get_text() == nbb_unformatted_code) {\n",
       "                             nbb_cells[i].set_text(nbb_formatted_code);\n",
       "                        }\n",
       "                        break;\n",
       "                    }\n",
       "                }\n",
       "            }, 500);\n",
       "            "
      ],
      "text/plain": [
       "<IPython.core.display.Javascript object>"
      ]
     },
     "metadata": {},
     "output_type": "display_data"
    }
   ],
   "source": [
    "class BaseRecommender(abc.ABC):\n",
    "    def __init__(self, name):\n",
    "        self.name = name\n",
    "\n",
    "    @abc.abstractmethod\n",
    "    def fit(self, reviews):\n",
    "        return self\n",
    "\n",
    "    @abc.abstractmethod\n",
    "    def recommend(self, user_ids, recommend_size=20):\n",
    "        return recommendations\n",
    "\n",
    "\n",
    "class RandomRecommender(BaseRecommender):\n",
    "    def __init__(self, users, organisations, name):\n",
    "        super().__init__(name)\n",
    "        self.users = users\n",
    "        self.organisations = organisations\n",
    "\n",
    "    def fit(self, reviews):\n",
    "        return self\n",
    "\n",
    "    def recommend(self, user_ids, recommend_size=20):\n",
    "        recommendations = np.random.choice(\n",
    "            self.organisations.index, size=(len(user_ids), recommend_size)\n",
    "        )\n",
    "        return pd.DataFrame(recommendations, user_ids)\n",
    "\n",
    "\n",
    "class PopularRecommender(BaseRecommender):\n",
    "    def __init__(self, users, organisations, name):\n",
    "        super().__init__(name)\n",
    "        self.users = users\n",
    "        self.organisations = organisations\n",
    "\n",
    "    def fit(self, reviews):\n",
    "        self.popular_foreign_organisations_for_home_city = {}\n",
    "        organisations = self.organisations.join(\n",
    "            reviews.groupby(\"org_id\").size().rename(\"popularity\")\n",
    "        )\n",
    "        for city in organisations[\"city\"].unique():\n",
    "            self.popular_foreign_organisations_for_home_city[city] = (\n",
    "                organisations.query(\"city != @city\")\n",
    "                .sort_values(\"popularity\", ascending=False)\n",
    "                .index.to_numpy()\n",
    "            )\n",
    "        return self\n",
    "\n",
    "    def recommend(self, user_ids, recommend_size=20):\n",
    "        recommendations = np.stack(\n",
    "            self.users.loc[user_ids][\"city\"]\n",
    "            .map(\n",
    "                lambda city: self.popular_foreign_organisations_for_home_city[city][\n",
    "                    :recommend_size\n",
    "                ]\n",
    "            )\n",
    "            .values\n",
    "        )\n",
    "        return pd.DataFrame(recommendations, user_ids)"
   ]
  },
  {
   "cell_type": "markdown",
   "metadata": {},
   "source": [
    "**(1.0 балла) Задание 4.** Метрики качества.\n",
    "\n",
    "Напомним, что у нас бинарная релевантнотсь на основе оценки вычисляется как предикат **оценка больше, чем 3**.\n",
    "\n",
    "Реализуйте набор метрик качества (можете оборачивать внешние паекты):\n",
    "\n",
    "    * MNAP@20 (как в описании соревнования)\n",
    "    * HitRate ( = 1, если среди рекомендаций есть хотя бы одна релевантная и 0 иначе)\n",
    "    * MRR@20 ( обратная позиция первой релевантной рекомендации из списка рекомендаций длины K. )\n",
    "    * Coverage (доля item-ов, учитываемых в рекомендациях)\n",
    "    * Surprisal(см. ниже) \n",
    "\n",
    "\n",
    "### Surprisal\n",
    "Посмотирм, насколько наши рекомендации хороши с точки зрения новизны для пользователя, в качестве новизны будем рассматривать \"непопулярность\" айтемов в рекомендациях.\n",
    "\n",
    "Будем рассматривать собственную информацию item-а как меру его новизны.\n",
    "\n",
    "$$selfInformation(i) = -\\log_2 \\frac{|u_i|}{|N|}$$, \n",
    "где \n",
    "$i$ - объект, $|N|$ - число взаимодействий в обучающей выборке,  $|u_i|$ - число пользователей, взаимодействовавших с объектом в обучающей выборке.\n",
    "\n",
    "После подсчета собственной информации усредним значения собственной информации в рекомендациях пользователя.\n",
    "\n",
    "Чтобы получить значения от 0 до 1, разделим значение метрики для пользователя на максимально возможно значение метрики равное $log_2 N$.\n",
    "\n",
    "$$Surprisal(u)@k = \\frac{1}{k \\cdot log_2 N} \\sum_{j = 1}^{k}selfInformation(i_{u,j})$$\n",
    "\n",
    "где $i_{u,j}$ это j-й объект, который мы порекомендововали пользователю.\n",
    "\n",
    "Получившаяся метрика похожа на энтропию Шеннона:\n",
    "$$H = - K \\sum_{i\\in R}{p_i log p_i}$$\n",
    "\n",
    "\n",
    "Результа усредним по пользователям.\n",
    "\n",
    "### Что нужно сделать\n",
    "    \n",
    "  * Создайте функцию, которая генерирует словарь с метриками, по предоставленному решению.\n",
    "\n",
    "  * Оцените baseline-решения на валидации."
   ]
  },
  {
   "cell_type": "code",
   "execution_count": 265,
   "metadata": {
    "ExecuteTime": {
     "end_time": "2022-08-07T10:17:18.174736Z",
     "start_time": "2022-08-07T10:17:18.102902Z"
    }
   },
   "outputs": [
    {
     "data": {
      "application/javascript": [
       "\n",
       "            setTimeout(function() {\n",
       "                var nbb_cell_id = 265;\n",
       "                var nbb_unformatted_code = \"class MetricsBase:\\n    def __init__(self, users, organisations, reviews, k=20):\\n        self.users = users\\n        self.organisations = organisations\\n        self.reviews = reviews\\n        self.k = k\\n        self.relevant_orgs_for_users = (\\n            reviews.query(\\\"rating >= 4\\\")\\n            .groupby(\\\"user_id\\\")[\\\"org_id\\\"]\\n            .apply(np.array)\\n            .rename(\\\"relevant_org_ids\\\")\\n        )\\n        self.recommendations = None\\n        self.relevance = None\\n\\n    def binary_relevance(self, recommendations):\\n        relevance = (\\n            pd.merge(\\n                recommendations.agg(np.array, axis=\\\"columns\\\").rename(\\n                    \\\"predicted_org_ids\\\"\\n                ),\\n                self.relevant_orgs_for_users,\\n                left_index=True,\\n                right_index=True,\\n                how=\\\"left\\\",\\n            )\\n            .aggregate(\\n                lambda row: np.isin(row[\\\"predicted_org_ids\\\"], row[\\\"relevant_org_ids\\\"]),\\n                axis=\\\"columns\\\",\\n            )\\n            .pipe(\\n                lambda series: pd.DataFrame(np.stack(series.values), index=series.index)\\n            )\\n        )\\n        return relevance\\n\\n    def precalculate_relevance(self, recommendations):\\n        self.recommendations = recommendations\\n        self.relevance = self.binary_relevance(recommendations.iloc[:, : self.k])\\n\\n    @staticmethod\\n    def wrap_metric(metric):\\n        \\\"\\\"\\\"Precalculate relevance if recommendations were passed.\\\"\\\"\\\"\\n\\n        def wrapper(self, recommendations=None, **kwargs):\\n            if recommendations is not None:\\n                self.precalculate_relevance(recommendations)\\n            elif self.recommendations is None:\\n                raise ValueError(\\n                    \\\"recommendations must be passed when first calculating a metric.\\\"\\n                )\\n            return metric(self, **kwargs)\\n\\n        return wrapper\\n\\n    def __init_subclass__(cls):\\n        \\\"\\\"\\\"Wrap all subclass attributes\\\"\\\"\\\"\\n        super().__init_subclass__()\\n        for child_attribute in cls.__dict__.keys() - MetricsBase.__dict__.keys():\\n            setattr(\\n                cls,\\n                child_attribute,\\n                MetricsBase.wrap_metric(object.__getattribute__(cls, child_attribute)),\\n            )\\n\\n\\nclass Metrics(MetricsBase):\\n    def precision(self):\\n        precision = self.relevance.astype(int).expanding(axis=\\\"columns\\\").mean()\\n        return precision\\n\\n    def ideal_precision(self):\\n        relevant_count = (\\n            self.reviews.query(\\\"user_id in @self.recommendations.index and rating >= 4\\\")\\n            .groupby(\\\"user_id\\\")\\n            .size()\\n            .reindex(self.relevance.index)\\n        )\\n\\n        def relevant_count_to_ideal_average_precision(count):\\n            k = np.arange(1, self.k + 1)\\n            ideal_relevant_count = np.minimum(k, count)\\n            return np.mean(ideal_relevant_count / k)\\n\\n        return relevant_count.map(relevant_count_to_ideal_average_precision)\\n\\n    def mnap(self):\\n        \\\"\\\"\\\"Returns mean normalized average precision\\\"\\\"\\\"\\n        average_precision = self.precision().mean(\\\"columns\\\")\\n        ideal_precision = self.ideal_precision()\\n        return np.nanmean(average_precision / ideal_precision)\\n\\n    def hitrate(self):\\n        return self.relevance.any(axis=\\\"columns\\\").mean()\\n\\n    def mrr(self):\\n        \\\"\\\"\\\"Returns mean reciprocal rank\\\"\\\"\\\"\\n        relevance = self.relevance.values\\n        return (\\n            (relevance * (1 / np.arange(1, relevance.shape[1] + 1))).max(axis=1).mean()\\n        )\\n\\n    def coverage(self):\\n        org_ids = set(self.organisations.index)\\n        recommended_org_ids = set(self.recommendations.values.flat)\\n        return len(recommended_org_ids & org_ids) / len(org_ids)\\n\\n    def surprisal(self):\\n        org_interactions = (\\n            self.reviews.groupby(\\\"org_id\\\")\\n            .size()\\n            .reindex(self.organisations.index)\\n            .replace(0, np.nan)\\n        )\\n        recommended_interactions = self.recommendations.applymap(\\n            lambda org_id: org_interactions[org_id] if org_id else np.nan\\n        )\\n        self_information = -np.log2(recommended_interactions) + np.log2(\\n            len(self.reviews)\\n        )\\n        return (self_information / np.log2(len(self.reviews))).mean().mean()\\n\\n    def calculate_metrics(self, name=None):\\n        results = pd.Series(dtype=float, name=name)\\n        for metric in [\\\"mnap\\\", \\\"hitrate\\\", \\\"mrr\\\", \\\"coverage\\\", \\\"surprisal\\\"]:\\n            results[metric] = getattr(self, metric)()\\n        return results\";\n",
       "                var nbb_formatted_code = \"class MetricsBase:\\n    def __init__(self, users, organisations, reviews, k=20):\\n        self.users = users\\n        self.organisations = organisations\\n        self.reviews = reviews\\n        self.k = k\\n        self.relevant_orgs_for_users = (\\n            reviews.query(\\\"rating >= 4\\\")\\n            .groupby(\\\"user_id\\\")[\\\"org_id\\\"]\\n            .apply(np.array)\\n            .rename(\\\"relevant_org_ids\\\")\\n        )\\n        self.recommendations = None\\n        self.relevance = None\\n\\n    def binary_relevance(self, recommendations):\\n        relevance = (\\n            pd.merge(\\n                recommendations.agg(np.array, axis=\\\"columns\\\").rename(\\n                    \\\"predicted_org_ids\\\"\\n                ),\\n                self.relevant_orgs_for_users,\\n                left_index=True,\\n                right_index=True,\\n                how=\\\"left\\\",\\n            )\\n            .aggregate(\\n                lambda row: np.isin(row[\\\"predicted_org_ids\\\"], row[\\\"relevant_org_ids\\\"]),\\n                axis=\\\"columns\\\",\\n            )\\n            .pipe(\\n                lambda series: pd.DataFrame(np.stack(series.values), index=series.index)\\n            )\\n        )\\n        return relevance\\n\\n    def precalculate_relevance(self, recommendations):\\n        self.recommendations = recommendations\\n        self.relevance = self.binary_relevance(recommendations.iloc[:, : self.k])\\n\\n    @staticmethod\\n    def wrap_metric(metric):\\n        \\\"\\\"\\\"Precalculate relevance if recommendations were passed.\\\"\\\"\\\"\\n\\n        def wrapper(self, recommendations=None, **kwargs):\\n            if recommendations is not None:\\n                self.precalculate_relevance(recommendations)\\n            elif self.recommendations is None:\\n                raise ValueError(\\n                    \\\"recommendations must be passed when first calculating a metric.\\\"\\n                )\\n            return metric(self, **kwargs)\\n\\n        return wrapper\\n\\n    def __init_subclass__(cls):\\n        \\\"\\\"\\\"Wrap all subclass attributes\\\"\\\"\\\"\\n        super().__init_subclass__()\\n        for child_attribute in cls.__dict__.keys() - MetricsBase.__dict__.keys():\\n            setattr(\\n                cls,\\n                child_attribute,\\n                MetricsBase.wrap_metric(object.__getattribute__(cls, child_attribute)),\\n            )\\n\\n\\nclass Metrics(MetricsBase):\\n    def precision(self):\\n        precision = self.relevance.astype(int).expanding(axis=\\\"columns\\\").mean()\\n        return precision\\n\\n    def ideal_precision(self):\\n        relevant_count = (\\n            self.reviews.query(\\\"user_id in @self.recommendations.index and rating >= 4\\\")\\n            .groupby(\\\"user_id\\\")\\n            .size()\\n            .reindex(self.relevance.index)\\n        )\\n\\n        def relevant_count_to_ideal_average_precision(count):\\n            k = np.arange(1, self.k + 1)\\n            ideal_relevant_count = np.minimum(k, count)\\n            return np.mean(ideal_relevant_count / k)\\n\\n        return relevant_count.map(relevant_count_to_ideal_average_precision)\\n\\n    def mnap(self):\\n        \\\"\\\"\\\"Returns mean normalized average precision\\\"\\\"\\\"\\n        average_precision = self.precision().mean(\\\"columns\\\")\\n        ideal_precision = self.ideal_precision()\\n        return np.nanmean(average_precision / ideal_precision)\\n\\n    def hitrate(self):\\n        return self.relevance.any(axis=\\\"columns\\\").mean()\\n\\n    def mrr(self):\\n        \\\"\\\"\\\"Returns mean reciprocal rank\\\"\\\"\\\"\\n        relevance = self.relevance.values\\n        return (\\n            (relevance * (1 / np.arange(1, relevance.shape[1] + 1))).max(axis=1).mean()\\n        )\\n\\n    def coverage(self):\\n        org_ids = set(self.organisations.index)\\n        recommended_org_ids = set(self.recommendations.values.flat)\\n        return len(recommended_org_ids & org_ids) / len(org_ids)\\n\\n    def surprisal(self):\\n        org_interactions = (\\n            self.reviews.groupby(\\\"org_id\\\")\\n            .size()\\n            .reindex(self.organisations.index)\\n            .replace(0, np.nan)\\n        )\\n        recommended_interactions = self.recommendations.applymap(\\n            lambda org_id: org_interactions[org_id] if org_id else np.nan\\n        )\\n        self_information = -np.log2(recommended_interactions) + np.log2(\\n            len(self.reviews)\\n        )\\n        return (self_information / np.log2(len(self.reviews))).mean().mean()\\n\\n    def calculate_metrics(self, name=None):\\n        results = pd.Series(dtype=float, name=name)\\n        for metric in [\\\"mnap\\\", \\\"hitrate\\\", \\\"mrr\\\", \\\"coverage\\\", \\\"surprisal\\\"]:\\n            results[metric] = getattr(self, metric)()\\n        return results\";\n",
       "                var nbb_cells = Jupyter.notebook.get_cells();\n",
       "                for (var i = 0; i < nbb_cells.length; ++i) {\n",
       "                    if (nbb_cells[i].input_prompt_number == nbb_cell_id) {\n",
       "                        if (nbb_cells[i].get_text() == nbb_unformatted_code) {\n",
       "                             nbb_cells[i].set_text(nbb_formatted_code);\n",
       "                        }\n",
       "                        break;\n",
       "                    }\n",
       "                }\n",
       "            }, 500);\n",
       "            "
      ],
      "text/plain": [
       "<IPython.core.display.Javascript object>"
      ]
     },
     "metadata": {},
     "output_type": "display_data"
    }
   ],
   "source": [
    "class MetricsBase:\n",
    "    def __init__(self, users, organisations, reviews, k=20):\n",
    "        self.users = users\n",
    "        self.organisations = organisations\n",
    "        self.reviews = reviews\n",
    "        self.k = k\n",
    "        self.relevant_orgs_for_users = (\n",
    "            reviews.query(\"rating >= 4\")\n",
    "            .groupby(\"user_id\")[\"org_id\"]\n",
    "            .apply(np.array)\n",
    "            .rename(\"relevant_org_ids\")\n",
    "        )\n",
    "        self.recommendations = None\n",
    "        self.relevance = None\n",
    "\n",
    "    def binary_relevance(self, recommendations):\n",
    "        relevance = (\n",
    "            pd.merge(\n",
    "                recommendations.agg(np.array, axis=\"columns\").rename(\n",
    "                    \"predicted_org_ids\"\n",
    "                ),\n",
    "                self.relevant_orgs_for_users,\n",
    "                left_index=True,\n",
    "                right_index=True,\n",
    "                how=\"left\",\n",
    "            )\n",
    "            .aggregate(\n",
    "                lambda row: np.isin(row[\"predicted_org_ids\"], row[\"relevant_org_ids\"]),\n",
    "                axis=\"columns\",\n",
    "            )\n",
    "            .pipe(\n",
    "                lambda series: pd.DataFrame(np.stack(series.values), index=series.index)\n",
    "            )\n",
    "        )\n",
    "        return relevance\n",
    "\n",
    "    def precalculate_relevance(self, recommendations):\n",
    "        self.recommendations = recommendations\n",
    "        self.relevance = self.binary_relevance(recommendations.iloc[:, : self.k])\n",
    "\n",
    "    @staticmethod\n",
    "    def wrap_metric(metric):\n",
    "        \"\"\"Precalculate relevance if recommendations were passed.\"\"\"\n",
    "\n",
    "        def wrapper(self, recommendations=None, **kwargs):\n",
    "            if recommendations is not None:\n",
    "                self.precalculate_relevance(recommendations)\n",
    "            elif self.recommendations is None:\n",
    "                raise ValueError(\n",
    "                    \"recommendations must be passed when first calculating a metric.\"\n",
    "                )\n",
    "            return metric(self, **kwargs)\n",
    "\n",
    "        return wrapper\n",
    "\n",
    "    def __init_subclass__(cls):\n",
    "        \"\"\"Wrap all subclass attributes\"\"\"\n",
    "        super().__init_subclass__()\n",
    "        for child_attribute in cls.__dict__.keys() - MetricsBase.__dict__.keys():\n",
    "            setattr(\n",
    "                cls,\n",
    "                child_attribute,\n",
    "                MetricsBase.wrap_metric(object.__getattribute__(cls, child_attribute)),\n",
    "            )\n",
    "\n",
    "\n",
    "class Metrics(MetricsBase):\n",
    "    def precision(self):\n",
    "        precision = self.relevance.astype(int).expanding(axis=\"columns\").mean()\n",
    "        return precision\n",
    "\n",
    "    def ideal_precision(self):\n",
    "        relevant_count = (\n",
    "            self.reviews.query(\"user_id in @self.recommendations.index and rating >= 4\")\n",
    "            .groupby(\"user_id\")\n",
    "            .size()\n",
    "            .reindex(self.relevance.index)\n",
    "        )\n",
    "\n",
    "        def relevant_count_to_ideal_average_precision(count):\n",
    "            k = np.arange(1, self.k + 1)\n",
    "            ideal_relevant_count = np.minimum(k, count)\n",
    "            return np.mean(ideal_relevant_count / k)\n",
    "\n",
    "        return relevant_count.map(relevant_count_to_ideal_average_precision)\n",
    "\n",
    "    def mnap(self):\n",
    "        \"\"\"Returns mean normalized average precision\"\"\"\n",
    "        average_precision = self.precision().mean(\"columns\")\n",
    "        ideal_precision = self.ideal_precision()\n",
    "        return np.nanmean(average_precision / ideal_precision)\n",
    "\n",
    "    def hitrate(self):\n",
    "        return self.relevance.any(axis=\"columns\").mean()\n",
    "\n",
    "    def mrr(self):\n",
    "        \"\"\"Returns mean reciprocal rank\"\"\"\n",
    "        relevance = self.relevance.values\n",
    "        return (\n",
    "            (relevance * (1 / np.arange(1, relevance.shape[1] + 1))).max(axis=1).mean()\n",
    "        )\n",
    "\n",
    "    def coverage(self):\n",
    "        org_ids = set(self.organisations.index)\n",
    "        recommended_org_ids = set(self.recommendations.values.flat)\n",
    "        return len(recommended_org_ids & org_ids) / len(org_ids)\n",
    "\n",
    "    def surprisal(self):\n",
    "        org_interactions = (\n",
    "            self.reviews.groupby(\"org_id\")\n",
    "            .size()\n",
    "            .reindex(self.organisations.index)\n",
    "            .replace(0, np.nan)\n",
    "        )\n",
    "        recommended_interactions = self.recommendations.applymap(\n",
    "            lambda org_id: org_interactions[org_id] if org_id else np.nan\n",
    "        )\n",
    "        self_information = -np.log2(recommended_interactions) + np.log2(\n",
    "            len(self.reviews)\n",
    "        )\n",
    "        return (self_information / np.log2(len(self.reviews))).mean().mean()\n",
    "\n",
    "    def calculate_metrics(self, name=None):\n",
    "        results = pd.Series(dtype=float, name=name)\n",
    "        for metric in [\"mnap\", \"hitrate\", \"mrr\", \"coverage\", \"surprisal\"]:\n",
    "            results[metric] = getattr(self, metric)()\n",
    "        return results"
   ]
  },
  {
   "cell_type": "code",
   "execution_count": 266,
   "metadata": {
    "ExecuteTime": {
     "end_time": "2022-08-07T10:17:18.327398Z",
     "start_time": "2022-08-07T10:17:18.303646Z"
    }
   },
   "outputs": [
    {
     "data": {
      "application/javascript": [
       "\n",
       "            setTimeout(function() {\n",
       "                var nbb_cell_id = 266;\n",
       "                var nbb_unformatted_code = \"class Assessor:\\n    def __init__(self, users, organisations, train_reviews, validation_reviews):\\n        self.users = users\\n        self.organisations = organisations\\n        self.train_reviews = train_reviews\\n        self.validation_users = validation_reviews[\\\"user_id\\\"].unique()\\n        self.metrics = Metrics(\\n            users, organisations, reviews=pd.concat([train_reviews, validation_reviews])\\n        )\\n        self.assessments = {}\\n\\n    def assess(self, model):\\n        model.fit(self.train_reviews)\\n        recommendations = model.recommend(self.validation_users)\\n        results = self.metrics.calculate_metrics(recommendations, name=model.name)\\n        self.assessments[model.name] = {\\n            \\\"recommendations\\\": recommendations,\\n            \\\"results\\\": results,\\n        }\\n\\n    def show_results(self):\\n        results = pd.concat(\\n            [i[\\\"results\\\"] for i in self.assessments.values()], axis=\\\"columns\\\"\\n        )\\n        results.plot(\\n            kind=\\\"barh\\\", log=True, title=\\\"Model metrics, log scale\\\", figsize=(10, 6)\\n        )\\n        return results.T\";\n",
       "                var nbb_formatted_code = \"class Assessor:\\n    def __init__(self, users, organisations, train_reviews, validation_reviews):\\n        self.users = users\\n        self.organisations = organisations\\n        self.train_reviews = train_reviews\\n        self.validation_users = validation_reviews[\\\"user_id\\\"].unique()\\n        self.metrics = Metrics(\\n            users, organisations, reviews=pd.concat([train_reviews, validation_reviews])\\n        )\\n        self.assessments = {}\\n\\n    def assess(self, model):\\n        model.fit(self.train_reviews)\\n        recommendations = model.recommend(self.validation_users)\\n        results = self.metrics.calculate_metrics(recommendations, name=model.name)\\n        self.assessments[model.name] = {\\n            \\\"recommendations\\\": recommendations,\\n            \\\"results\\\": results,\\n        }\\n\\n    def show_results(self):\\n        results = pd.concat(\\n            [i[\\\"results\\\"] for i in self.assessments.values()], axis=\\\"columns\\\"\\n        )\\n        results.plot(\\n            kind=\\\"barh\\\", log=True, title=\\\"Model metrics, log scale\\\", figsize=(10, 6)\\n        )\\n        return results.T\";\n",
       "                var nbb_cells = Jupyter.notebook.get_cells();\n",
       "                for (var i = 0; i < nbb_cells.length; ++i) {\n",
       "                    if (nbb_cells[i].input_prompt_number == nbb_cell_id) {\n",
       "                        if (nbb_cells[i].get_text() == nbb_unformatted_code) {\n",
       "                             nbb_cells[i].set_text(nbb_formatted_code);\n",
       "                        }\n",
       "                        break;\n",
       "                    }\n",
       "                }\n",
       "            }, 500);\n",
       "            "
      ],
      "text/plain": [
       "<IPython.core.display.Javascript object>"
      ]
     },
     "metadata": {},
     "output_type": "display_data"
    }
   ],
   "source": [
    "class Assessor:\n",
    "    def __init__(self, users, organisations, train_reviews, validation_reviews):\n",
    "        self.users = users\n",
    "        self.organisations = organisations\n",
    "        self.train_reviews = train_reviews\n",
    "        self.validation_users = validation_reviews[\"user_id\"].unique()\n",
    "        self.metrics = Metrics(\n",
    "            users, organisations, reviews=pd.concat([train_reviews, validation_reviews])\n",
    "        )\n",
    "        self.assessments = {}\n",
    "\n",
    "    def assess(self, model):\n",
    "        model.fit(self.train_reviews)\n",
    "        recommendations = model.recommend(self.validation_users)\n",
    "        results = self.metrics.calculate_metrics(recommendations, name=model.name)\n",
    "        self.assessments[model.name] = {\n",
    "            \"recommendations\": recommendations,\n",
    "            \"results\": results,\n",
    "        }\n",
    "\n",
    "    def show_results(self):\n",
    "        results = pd.concat(\n",
    "            [i[\"results\"] for i in self.assessments.values()], axis=\"columns\"\n",
    "        )\n",
    "        results.plot(\n",
    "            kind=\"barh\", log=True, title=\"Model metrics, log scale\", figsize=(10, 6)\n",
    "        )\n",
    "        return results.T"
   ]
  },
  {
   "cell_type": "code",
   "execution_count": 267,
   "metadata": {
    "ExecuteTime": {
     "end_time": "2022-08-07T10:17:19.795181Z",
     "start_time": "2022-08-07T10:17:18.915807Z"
    }
   },
   "outputs": [
    {
     "data": {
      "application/javascript": [
       "\n",
       "            setTimeout(function() {\n",
       "                var nbb_cell_id = 267;\n",
       "                var nbb_unformatted_code = \"assessor = Assessor(users, organisations, train_reviews, validation_reviews)\";\n",
       "                var nbb_formatted_code = \"assessor = Assessor(users, organisations, train_reviews, validation_reviews)\";\n",
       "                var nbb_cells = Jupyter.notebook.get_cells();\n",
       "                for (var i = 0; i < nbb_cells.length; ++i) {\n",
       "                    if (nbb_cells[i].input_prompt_number == nbb_cell_id) {\n",
       "                        if (nbb_cells[i].get_text() == nbb_unformatted_code) {\n",
       "                             nbb_cells[i].set_text(nbb_formatted_code);\n",
       "                        }\n",
       "                        break;\n",
       "                    }\n",
       "                }\n",
       "            }, 500);\n",
       "            "
      ],
      "text/plain": [
       "<IPython.core.display.Javascript object>"
      ]
     },
     "metadata": {},
     "output_type": "display_data"
    }
   ],
   "source": [
    "assessor = Assessor(users, organisations, train_reviews, validation_reviews)"
   ]
  },
  {
   "cell_type": "code",
   "execution_count": 268,
   "metadata": {
    "ExecuteTime": {
     "end_time": "2022-08-07T10:17:22.272072Z",
     "start_time": "2022-08-07T10:17:19.797108Z"
    }
   },
   "outputs": [
    {
     "data": {
      "text/html": [
       "<div>\n",
       "<style scoped>\n",
       "    .dataframe tbody tr th:only-of-type {\n",
       "        vertical-align: middle;\n",
       "    }\n",
       "\n",
       "    .dataframe tbody tr th {\n",
       "        vertical-align: top;\n",
       "    }\n",
       "\n",
       "    .dataframe thead th {\n",
       "        text-align: right;\n",
       "    }\n",
       "</style>\n",
       "<table border=\"1\" class=\"dataframe\">\n",
       "  <thead>\n",
       "    <tr style=\"text-align: right;\">\n",
       "      <th></th>\n",
       "      <th>mnap</th>\n",
       "      <th>hitrate</th>\n",
       "      <th>mrr</th>\n",
       "      <th>coverage</th>\n",
       "      <th>surprisal</th>\n",
       "    </tr>\n",
       "  </thead>\n",
       "  <tbody>\n",
       "    <tr>\n",
       "      <th>random</th>\n",
       "      <td>0.000185</td>\n",
       "      <td>0.000558</td>\n",
       "      <td>0.000214</td>\n",
       "      <td>0.793017</td>\n",
       "      <td>0.931816</td>\n",
       "    </tr>\n",
       "    <tr>\n",
       "      <th>popular</th>\n",
       "      <td>0.001519</td>\n",
       "      <td>0.002231</td>\n",
       "      <td>0.001450</td>\n",
       "      <td>0.000585</td>\n",
       "      <td>0.657097</td>\n",
       "    </tr>\n",
       "  </tbody>\n",
       "</table>\n",
       "</div>"
      ],
      "text/plain": [
       "             mnap   hitrate       mrr  coverage  surprisal\n",
       "random   0.000185  0.000558  0.000214  0.793017   0.931816\n",
       "popular  0.001519  0.002231  0.001450  0.000585   0.657097"
      ]
     },
     "execution_count": 268,
     "metadata": {},
     "output_type": "execute_result"
    },
    {
     "data": {
      "image/png": "[encoded data removed]",
      "text/plain": [
       "<Figure size 720x432 with 1 Axes>"
      ]
     },
     "metadata": {
      "needs_background": "light"
     },
     "output_type": "display_data"
    },
    {
     "data": {
      "application/javascript": [
       "\n",
       "            setTimeout(function() {\n",
       "                var nbb_cell_id = 268;\n",
       "                var nbb_unformatted_code = \"assessor.assess(RandomRecommender(users, organisations, name=\\\"random\\\"))\\nassessor.assess(PopularRecommender(users, organisations, name=\\\"popular\\\"))\\nassessor.show_results()\";\n",
       "                var nbb_formatted_code = \"assessor.assess(RandomRecommender(users, organisations, name=\\\"random\\\"))\\nassessor.assess(PopularRecommender(users, organisations, name=\\\"popular\\\"))\\nassessor.show_results()\";\n",
       "                var nbb_cells = Jupyter.notebook.get_cells();\n",
       "                for (var i = 0; i < nbb_cells.length; ++i) {\n",
       "                    if (nbb_cells[i].input_prompt_number == nbb_cell_id) {\n",
       "                        if (nbb_cells[i].get_text() == nbb_unformatted_code) {\n",
       "                             nbb_cells[i].set_text(nbb_formatted_code);\n",
       "                        }\n",
       "                        break;\n",
       "                    }\n",
       "                }\n",
       "            }, 500);\n",
       "            "
      ],
      "text/plain": [
       "<IPython.core.display.Javascript object>"
      ]
     },
     "metadata": {},
     "output_type": "display_data"
    }
   ],
   "source": [
    "assessor.assess(RandomRecommender(users, organisations, name=\"random\"))\n",
    "assessor.assess(PopularRecommender(users, organisations, name=\"popular\"))\n",
    "assessor.show_results()"
   ]
  },
  {
   "cell_type": "markdown",
   "metadata": {},
   "source": [
    "**(1.0 балла) Задание 5.** Метод Memory based. User-2-User or Item-2-Item\n",
    "\n",
    "Теперь рассмотрим [memory-based](https://en.wikipedia.org/wiki/Collaborative_filtering#Memory-based) методы рекоммендаций.\n",
    "Подход, лежащий в их основе, использует данные о рейтингах для вычисления сходства между пользователями (user-based) или объектами (item-based), на основе этих данных делаются предсказания рейтингов и, в дальнейшем, строятся рекоммендации. Эти методы просты в реализации и эффективны на ранних стадиях разработки рекомендательных систем.\n",
    "                                 \n",
    "              \n",
    "За последние годы было создано много библиотек для реализации алгоримтов построения рекомендаций.      \n",
    "  * https://github.com/benfred/implicit\n",
    "  * https://sberbank-ai-lab.github.io/RePlay/index.html\n",
    "  * https://github.com/apple/turicreate \n",
    "  * https://github.com/caserec/CaseRecommender\n",
    "\n",
    "Выеберите одну из них и постройте предсказания на основании совместной фильтрации по близости пользователей или по близости объектов.\n",
    "\n",
    "Если обучение идёт слишком долго подумайте про семплирование данных. Обоснуйте выбранную стратегию семплирования.\n",
    "\n"
   ]
  },
  {
   "cell_type": "code",
   "execution_count": 277,
   "metadata": {
    "ExecuteTime": {
     "end_time": "2022-08-07T10:21:35.872106Z",
     "start_time": "2022-08-07T10:21:35.836226Z"
    }
   },
   "outputs": [
    {
     "data": {
      "application/javascript": [
       "\n",
       "            setTimeout(function() {\n",
       "                var nbb_cell_id = 277;\n",
       "                var nbb_unformatted_code = \"import implicit\\nfrom scipy.sparse import coo_matrix, csr_matrix\\n\\n\\nclass SparseInterface:\\n    def __init__(self, data):\\n        self.users = data[\\\"users\\\"]\\n        self.organisations = data[\\\"organisations\\\"]\\n        self.data = data\\n\\n    def build(self):\\n        self.dataset = Dataset()\\n        self.fit()\\n        self.build_user_features()\\n        self.build_item_features()\\n        (\\n            self.user_id_map,\\n            self.user_feature_map,\\n            self.item_id_map,\\n            self.item_feature_map,\\n        ) = self.dataset.mapping()\\n\\n    def fit(self):\\n        self.dataset.fit(\\n            users=self.users.index,\\n            items=self.organisations.index,\\n            user_features=self.users[\\\"city\\\"].unique(),\\n            item_features=list(self.organisations[\\\"city\\\"].unique())\\n            + [\\\"average_bill\\\", \\\"rating\\\"]\\n            + [f\\\"rubric_{rubric_id}\\\" for rubric_id in self.data[\\\"rubrics\\\"].index]\\n            + [f\\\"feature_{feature_id}\\\" for feature_id in self.data[\\\"features\\\"].index],\\n        )\\n\\n    def build_user_features(self):\\n        self.user_features = self.dataset.build_user_features(\\n            (\\n                (i, {row[\\\"city\\\"]: True})\\n                for i, row in tqdm(\\n                    users.iterrows(), \\\"Building user features\\\", total=len(users)\\n                )\\n            )\\n        )\\n\\n    def build_item_features(self):\\n        self.item_features = self.dataset.build_item_features(\\n            (\\n                (\\n                    i,\\n                    {\\n                        **{row[\\\"city\\\"]: True},\\n                        **row[[\\\"average_bill\\\", \\\"rating\\\"]].dropna().to_dict(),\\n                        **{\\n                            f\\\"rubric_{rubric_id}\\\": True\\n                            for rubric_id in row[\\\"rubrics_id\\\"]\\n                        },\\n                        **{\\n                            f\\\"feature_{feature_id}\\\": True\\n                            for feature_id in row[\\\"features_id\\\"]\\n                        },\\n                    },\\n                )\\n                for i, row in tqdm(\\n                    self.organisations.iterrows(),\\n                    \\\"Building item features\\\",\\n                    total=len(self.organisations),\\n                )\\n            )\\n        )\\n\\n    def build_interactions(self, reviews):\\n        self.interactions, self.interactions_weighted = self.dataset.build_interactions(\\n            reviews[[\\\"user_id\\\", \\\"org_id\\\", \\\"rating\\\"]].dropna().astype(\\\"uint64\\\").values\\n        )\\n\\n    def user_ids_to_latent(self, user_ids):\\n        user_id_map = pd.Series(self.user_id_map)\\n        return user_id_map.loc[user_ids]\\n\\n    def recommended_org_ids_from_latent(self, latent_recommendations):\\n        item_id_map = pd.Series(self.item_id_map)\\n        item_id_map_reverse = pd.Series(item_id_map.index, item_id_map.values)\\n        item_id_map_reverse[0] = 0\\n\\n        recommendations = latent_recommendations.apply(\\n            lambda s: item_id_map_reverse.loc[s].values\\n        )\\n        return recommendations\";\n",
       "                var nbb_formatted_code = \"import implicit\\nfrom scipy.sparse import coo_matrix, csr_matrix\\n\\n\\nclass SparseInterface:\\n    def __init__(self, data):\\n        self.users = data[\\\"users\\\"]\\n        self.organisations = data[\\\"organisations\\\"]\\n        self.data = data\\n\\n    def build(self):\\n        self.dataset = Dataset()\\n        self.fit()\\n        self.build_user_features()\\n        self.build_item_features()\\n        (\\n            self.user_id_map,\\n            self.user_feature_map,\\n            self.item_id_map,\\n            self.item_feature_map,\\n        ) = self.dataset.mapping()\\n\\n    def fit(self):\\n        self.dataset.fit(\\n            users=self.users.index,\\n            items=self.organisations.index,\\n            user_features=self.users[\\\"city\\\"].unique(),\\n            item_features=list(self.organisations[\\\"city\\\"].unique())\\n            + [\\\"average_bill\\\", \\\"rating\\\"]\\n            + [f\\\"rubric_{rubric_id}\\\" for rubric_id in self.data[\\\"rubrics\\\"].index]\\n            + [f\\\"feature_{feature_id}\\\" for feature_id in self.data[\\\"features\\\"].index],\\n        )\\n\\n    def build_user_features(self):\\n        self.user_features = self.dataset.build_user_features(\\n            (\\n                (i, {row[\\\"city\\\"]: True})\\n                for i, row in tqdm(\\n                    users.iterrows(), \\\"Building user features\\\", total=len(users)\\n                )\\n            )\\n        )\\n\\n    def build_item_features(self):\\n        self.item_features = self.dataset.build_item_features(\\n            (\\n                (\\n                    i,\\n                    {\\n                        **{row[\\\"city\\\"]: True},\\n                        **row[[\\\"average_bill\\\", \\\"rating\\\"]].dropna().to_dict(),\\n                        **{\\n                            f\\\"rubric_{rubric_id}\\\": True\\n                            for rubric_id in row[\\\"rubrics_id\\\"]\\n                        },\\n                        **{\\n                            f\\\"feature_{feature_id}\\\": True\\n                            for feature_id in row[\\\"features_id\\\"]\\n                        },\\n                    },\\n                )\\n                for i, row in tqdm(\\n                    self.organisations.iterrows(),\\n                    \\\"Building item features\\\",\\n                    total=len(self.organisations),\\n                )\\n            )\\n        )\\n\\n    def build_interactions(self, reviews):\\n        self.interactions, self.interactions_weighted = self.dataset.build_interactions(\\n            reviews[[\\\"user_id\\\", \\\"org_id\\\", \\\"rating\\\"]].dropna().astype(\\\"uint64\\\").values\\n        )\\n\\n    def user_ids_to_latent(self, user_ids):\\n        user_id_map = pd.Series(self.user_id_map)\\n        return user_id_map.loc[user_ids]\\n\\n    def recommended_org_ids_from_latent(self, latent_recommendations):\\n        item_id_map = pd.Series(self.item_id_map)\\n        item_id_map_reverse = pd.Series(item_id_map.index, item_id_map.values)\\n        item_id_map_reverse[0] = 0\\n\\n        recommendations = latent_recommendations.apply(\\n            lambda s: item_id_map_reverse.loc[s].values\\n        )\\n        return recommendations\";\n",
       "                var nbb_cells = Jupyter.notebook.get_cells();\n",
       "                for (var i = 0; i < nbb_cells.length; ++i) {\n",
       "                    if (nbb_cells[i].input_prompt_number == nbb_cell_id) {\n",
       "                        if (nbb_cells[i].get_text() == nbb_unformatted_code) {\n",
       "                             nbb_cells[i].set_text(nbb_formatted_code);\n",
       "                        }\n",
       "                        break;\n",
       "                    }\n",
       "                }\n",
       "            }, 500);\n",
       "            "
      ],
      "text/plain": [
       "<IPython.core.display.Javascript object>"
      ]
     },
     "metadata": {},
     "output_type": "display_data"
    }
   ],
   "source": [
    "import implicit\n",
    "from scipy.sparse import coo_matrix, csr_matrix\n",
    "\n",
    "\n",
    "class SparseInterface:\n",
    "    def __init__(self, data):\n",
    "        self.users = data[\"users\"]\n",
    "        self.organisations = data[\"organisations\"]\n",
    "        self.data = data\n",
    "\n",
    "    def build(self):\n",
    "        self.dataset = Dataset()\n",
    "        self.fit()\n",
    "        self.build_user_features()\n",
    "        self.build_item_features()\n",
    "        (\n",
    "            self.user_id_map,\n",
    "            self.user_feature_map,\n",
    "            self.item_id_map,\n",
    "            self.item_feature_map,\n",
    "        ) = self.dataset.mapping()\n",
    "\n",
    "    def fit(self):\n",
    "        self.dataset.fit(\n",
    "            users=self.users.index,\n",
    "            items=self.organisations.index,\n",
    "            user_features=self.users[\"city\"].unique(),\n",
    "            item_features=list(self.organisations[\"city\"].unique())\n",
    "            + [\"average_bill\", \"rating\"]\n",
    "            + [f\"rubric_{rubric_id}\" for rubric_id in self.data[\"rubrics\"].index]\n",
    "            + [f\"feature_{feature_id}\" for feature_id in self.data[\"features\"].index],\n",
    "        )\n",
    "\n",
    "    def build_user_features(self):\n",
    "        self.user_features = self.dataset.build_user_features(\n",
    "            (\n",
    "                (i, {row[\"city\"]: True})\n",
    "                for i, row in tqdm(\n",
    "                    users.iterrows(), \"Building user features\", total=len(users)\n",
    "                )\n",
    "            )\n",
    "        )\n",
    "\n",
    "    def build_item_features(self):\n",
    "        self.item_features = self.dataset.build_item_features(\n",
    "            (\n",
    "                (\n",
    "                    i,\n",
    "                    {\n",
    "                        **{row[\"city\"]: True},\n",
    "                        **row[[\"average_bill\", \"rating\"]].dropna().to_dict(),\n",
    "                        **{\n",
    "                            f\"rubric_{rubric_id}\": True\n",
    "                            for rubric_id in row[\"rubrics_id\"]\n",
    "                        },\n",
    "                        **{\n",
    "                            f\"feature_{feature_id}\": True\n",
    "                            for feature_id in row[\"features_id\"]\n",
    "                        },\n",
    "                    },\n",
    "                )\n",
    "                for i, row in tqdm(\n",
    "                    self.organisations.iterrows(),\n",
    "                    \"Building item features\",\n",
    "                    total=len(self.organisations),\n",
    "                )\n",
    "            )\n",
    "        )\n",
    "\n",
    "    def build_interactions(self, reviews):\n",
    "        self.interactions, self.interactions_weighted = self.dataset.build_interactions(\n",
    "            reviews[[\"user_id\", \"org_id\", \"rating\"]].dropna().astype(\"uint64\").values\n",
    "        )\n",
    "\n",
    "    def user_ids_to_latent(self, user_ids):\n",
    "        user_id_map = pd.Series(self.user_id_map)\n",
    "        return user_id_map.loc[user_ids]\n",
    "\n",
    "    def recommended_org_ids_from_latent(self, latent_recommendations):\n",
    "        item_id_map = pd.Series(self.item_id_map)\n",
    "        item_id_map_reverse = pd.Series(item_id_map.index, item_id_map.values)\n",
    "        item_id_map_reverse[0] = 0\n",
    "\n",
    "        recommendations = latent_recommendations.apply(\n",
    "            lambda s: item_id_map_reverse.loc[s].values\n",
    "        )\n",
    "        return recommendations"
   ]
  },
  {
   "cell_type": "code",
   "execution_count": 302,
   "metadata": {
    "ExecuteTime": {
     "end_time": "2022-08-07T10:29:52.038783Z",
     "start_time": "2022-08-07T10:29:52.008935Z"
    }
   },
   "outputs": [
    {
     "data": {
      "application/javascript": [
       "\n",
       "            setTimeout(function() {\n",
       "                var nbb_cell_id = 302;\n",
       "                var nbb_unformatted_code = \"class ImplicitRecommender(BaseRecommender):\\n    def __init__(self, sparse_interface, model, name):\\n        super().__init__(name)\\n        self.model = model\\n        self.sparse_interface = sparse_interface\\n\\n    def fit(self, reviews):\\n        self.sparse_interface.build_interactions(reviews)\\n        self.model.fit(self.sparse_interface.interactions_weighted, show_progress=False)\\n        return self\\n\\n    def recommend(self, user_ids, recommend_size=20):\\n        user_ids_mapped = self.sparse_interface.user_ids_to_latent(user_ids)\\n        recommendations, predicted_ratings = self.model.recommend(\\n            userid=user_ids_mapped,\\n            user_items=csr_matrix(self.sparse_interface.interactions_weighted)[user_ids_mapped],\\n            filter_already_liked_items=False,\\n            N=recommend_size,\\n        )\\n        recommendations = pd.DataFrame(recommendations, user_ids).replace(-1, 0)\\n        return self.sparse_interface.recommended_org_ids_from_latent(recommendations)\";\n",
       "                var nbb_formatted_code = \"class ImplicitRecommender(BaseRecommender):\\n    def __init__(self, sparse_interface, model, name):\\n        super().__init__(name)\\n        self.model = model\\n        self.sparse_interface = sparse_interface\\n\\n    def fit(self, reviews):\\n        self.sparse_interface.build_interactions(reviews)\\n        self.model.fit(self.sparse_interface.interactions_weighted, show_progress=False)\\n        return self\\n\\n    def recommend(self, user_ids, recommend_size=20):\\n        user_ids_mapped = self.sparse_interface.user_ids_to_latent(user_ids)\\n        recommendations, predicted_ratings = self.model.recommend(\\n            userid=user_ids_mapped,\\n            user_items=csr_matrix(self.sparse_interface.interactions_weighted)[\\n                user_ids_mapped\\n            ],\\n            filter_already_liked_items=False,\\n            N=recommend_size,\\n        )\\n        recommendations = pd.DataFrame(recommendations, user_ids).replace(-1, 0)\\n        return self.sparse_interface.recommended_org_ids_from_latent(recommendations)\";\n",
       "                var nbb_cells = Jupyter.notebook.get_cells();\n",
       "                for (var i = 0; i < nbb_cells.length; ++i) {\n",
       "                    if (nbb_cells[i].input_prompt_number == nbb_cell_id) {\n",
       "                        if (nbb_cells[i].get_text() == nbb_unformatted_code) {\n",
       "                             nbb_cells[i].set_text(nbb_formatted_code);\n",
       "                        }\n",
       "                        break;\n",
       "                    }\n",
       "                }\n",
       "            }, 500);\n",
       "            "
      ],
      "text/plain": [
       "<IPython.core.display.Javascript object>"
      ]
     },
     "metadata": {},
     "output_type": "display_data"
    }
   ],
   "source": [
    "class ImplicitRecommender(BaseRecommender):\n",
    "    def __init__(self, sparse_interface, model, name):\n",
    "        super().__init__(name)\n",
    "        self.model = model\n",
    "        self.sparse_interface = sparse_interface\n",
    "\n",
    "    def fit(self, reviews):\n",
    "        self.sparse_interface.build_interactions(reviews)\n",
    "        self.model.fit(self.sparse_interface.interactions_weighted, show_progress=False)\n",
    "        return self\n",
    "\n",
    "    def recommend(self, user_ids, recommend_size=20):\n",
    "        user_ids_mapped = self.sparse_interface.user_ids_to_latent(user_ids)\n",
    "        recommendations, predicted_ratings = self.model.recommend(\n",
    "            userid=user_ids_mapped,\n",
    "            user_items=csr_matrix(self.sparse_interface.interactions_weighted)[\n",
    "                user_ids_mapped\n",
    "            ],\n",
    "            filter_already_liked_items=False,\n",
    "            N=recommend_size,\n",
    "        )\n",
    "        recommendations = pd.DataFrame(recommendations, user_ids).replace(-1, 0)\n",
    "        return self.sparse_interface.recommended_org_ids_from_latent(recommendations)"
   ]
  },
  {
   "cell_type": "code",
   "execution_count": 254,
   "metadata": {
    "ExecuteTime": {
     "end_time": "2022-08-07T10:09:51.176815Z",
     "start_time": "2022-08-07T10:06:54.720909Z"
    }
   },
   "outputs": [
    {
     "data": {
      "application/vnd.jupyter.widget-view+json": {
       "model_id": "f10ea554d7854b098c2df2d60a445d1a",
       "version_major": 2,
       "version_minor": 0
      },
      "text/plain": [
       "Building user features:   0%|          | 0/1393008 [00:00<?, ?it/s]"
      ]
     },
     "metadata": {},
     "output_type": "display_data"
    },
    {
     "data": {
      "application/vnd.jupyter.widget-view+json": {
       "model_id": "49f86d929b104f9bb71d61b6b32e8fbe",
       "version_major": 2,
       "version_minor": 0
      },
      "text/plain": [
       "Building item features:   0%|          | 0/68339 [00:00<?, ?it/s]"
      ]
     },
     "metadata": {},
     "output_type": "display_data"
    },
    {
     "data": {
      "application/javascript": [
       "\n",
       "            setTimeout(function() {\n",
       "                var nbb_cell_id = 254;\n",
       "                var nbb_unformatted_code = \"sparse_interface = SparseInterface(data)\\nsparse_interface.build()\";\n",
       "                var nbb_formatted_code = \"sparse_interface = SparseInterface(data)\\nsparse_interface.build()\";\n",
       "                var nbb_cells = Jupyter.notebook.get_cells();\n",
       "                for (var i = 0; i < nbb_cells.length; ++i) {\n",
       "                    if (nbb_cells[i].input_prompt_number == nbb_cell_id) {\n",
       "                        if (nbb_cells[i].get_text() == nbb_unformatted_code) {\n",
       "                             nbb_cells[i].set_text(nbb_formatted_code);\n",
       "                        }\n",
       "                        break;\n",
       "                    }\n",
       "                }\n",
       "            }, 500);\n",
       "            "
      ],
      "text/plain": [
       "<IPython.core.display.Javascript object>"
      ]
     },
     "metadata": {},
     "output_type": "display_data"
    }
   ],
   "source": [
    "sparse_interface = SparseInterface(data)\n",
    "sparse_interface.build()"
   ]
  },
  {
   "cell_type": "code",
   "execution_count": 303,
   "metadata": {
    "ExecuteTime": {
     "end_time": "2022-08-07T10:30:08.173781Z",
     "start_time": "2022-08-07T10:29:53.251703Z"
    }
   },
   "outputs": [
    {
     "name": "stderr",
     "output_type": "stream",
     "text": [
      "/external2/dkkoshman/venv/lib/python3.6/site-packages/implicit/nearest_neighbours.py:226: RuntimeWarning: invalid value encountered in true_divide\n",
      "  X.data = X.data / sqrt(bincount(X.row, X.data**2))[X.row]\n",
      "/external2/dkkoshman/venv/lib/python3.6/site-packages/implicit/utils.py:141: ParameterWarning: Method expects CSR input, and was passed coo_matrix instead. Converting to CSR took 0.007681608200073242 seconds\n",
      "  ParameterWarning,\n",
      "/external2/dkkoshman/venv/lib/python3.6/site-packages/implicit/utils.py:141: ParameterWarning: Method expects CSR input, and was passed coo_matrix instead. Converting to CSR took 0.006917476654052734 seconds\n",
      "  ParameterWarning,\n",
      "/external2/dkkoshman/venv/lib/python3.6/site-packages/implicit/nearest_neighbours.py:226: RuntimeWarning: invalid value encountered in true_divide\n",
      "  X.data = X.data / sqrt(bincount(X.row, X.data**2))[X.row]\n",
      "/external2/dkkoshman/venv/lib/python3.6/site-packages/implicit/utils.py:141: ParameterWarning: Method expects CSR input, and was passed coo_matrix instead. Converting to CSR took 0.007563591003417969 seconds\n",
      "  ParameterWarning,\n"
     ]
    },
    {
     "data": {
      "application/javascript": [
       "\n",
       "            setTimeout(function() {\n",
       "                var nbb_cell_id = 303;\n",
       "                var nbb_unformatted_code = \"implicit_models = {\\n    \\\"tfidf\\\": implicit.nearest_neighbours.TFIDFRecommender(),\\n    \\\"bm25\\\": implicit.nearest_neighbours.BM25Recommender(),\\n    \\\"cosine\\\": implicit.nearest_neighbours.CosineRecommender(),\\n}\\nfor name, model in implicit_models.items():\\n    assessor.assess(ImplicitRecommender(sparse_interface, model, name))\";\n",
       "                var nbb_formatted_code = \"implicit_models = {\\n    \\\"tfidf\\\": implicit.nearest_neighbours.TFIDFRecommender(),\\n    \\\"bm25\\\": implicit.nearest_neighbours.BM25Recommender(),\\n    \\\"cosine\\\": implicit.nearest_neighbours.CosineRecommender(),\\n}\\nfor name, model in implicit_models.items():\\n    assessor.assess(ImplicitRecommender(sparse_interface, model, name))\";\n",
       "                var nbb_cells = Jupyter.notebook.get_cells();\n",
       "                for (var i = 0; i < nbb_cells.length; ++i) {\n",
       "                    if (nbb_cells[i].input_prompt_number == nbb_cell_id) {\n",
       "                        if (nbb_cells[i].get_text() == nbb_unformatted_code) {\n",
       "                             nbb_cells[i].set_text(nbb_formatted_code);\n",
       "                        }\n",
       "                        break;\n",
       "                    }\n",
       "                }\n",
       "            }, 500);\n",
       "            "
      ],
      "text/plain": [
       "<IPython.core.display.Javascript object>"
      ]
     },
     "metadata": {},
     "output_type": "display_data"
    }
   ],
   "source": [
    "implicit_models = {\n",
    "    \"tfidf\": implicit.nearest_neighbours.TFIDFRecommender(),\n",
    "    \"bm25\": implicit.nearest_neighbours.BM25Recommender(),\n",
    "    \"cosine\": implicit.nearest_neighbours.CosineRecommender(),\n",
    "}\n",
    "for name, model in implicit_models.items():\n",
    "    assessor.assess(ImplicitRecommender(sparse_interface, model, name))"
   ]
  },
  {
   "cell_type": "code",
   "execution_count": 304,
   "metadata": {
    "ExecuteTime": {
     "end_time": "2022-08-07T10:31:09.364829Z",
     "start_time": "2022-08-07T10:31:08.885126Z"
    }
   },
   "outputs": [
    {
     "data": {
      "text/html": [
       "<div>\n",
       "<style scoped>\n",
       "    .dataframe tbody tr th:only-of-type {\n",
       "        vertical-align: middle;\n",
       "    }\n",
       "\n",
       "    .dataframe tbody tr th {\n",
       "        vertical-align: top;\n",
       "    }\n",
       "\n",
       "    .dataframe thead th {\n",
       "        text-align: right;\n",
       "    }\n",
       "</style>\n",
       "<table border=\"1\" class=\"dataframe\">\n",
       "  <thead>\n",
       "    <tr style=\"text-align: right;\">\n",
       "      <th></th>\n",
       "      <th>mnap</th>\n",
       "      <th>hitrate</th>\n",
       "      <th>mrr</th>\n",
       "      <th>coverage</th>\n",
       "      <th>surprisal</th>\n",
       "    </tr>\n",
       "  </thead>\n",
       "  <tbody>\n",
       "    <tr>\n",
       "      <th>random</th>\n",
       "      <td>0.000185</td>\n",
       "      <td>0.000558</td>\n",
       "      <td>0.000214</td>\n",
       "      <td>0.793017</td>\n",
       "      <td>0.931816</td>\n",
       "    </tr>\n",
       "    <tr>\n",
       "      <th>popular</th>\n",
       "      <td>0.001519</td>\n",
       "      <td>0.002231</td>\n",
       "      <td>0.001450</td>\n",
       "      <td>0.000585</td>\n",
       "      <td>0.657097</td>\n",
       "    </tr>\n",
       "    <tr>\n",
       "      <th>tfidf</th>\n",
       "      <td>0.038722</td>\n",
       "      <td>0.082001</td>\n",
       "      <td>0.040614</td>\n",
       "      <td>0.024452</td>\n",
       "      <td>0.854759</td>\n",
       "    </tr>\n",
       "    <tr>\n",
       "      <th>bm25</th>\n",
       "      <td>0.038845</td>\n",
       "      <td>0.082559</td>\n",
       "      <td>0.040863</td>\n",
       "      <td>0.024525</td>\n",
       "      <td>0.855192</td>\n",
       "    </tr>\n",
       "    <tr>\n",
       "      <th>cosine</th>\n",
       "      <td>0.038833</td>\n",
       "      <td>0.082559</td>\n",
       "      <td>0.040559</td>\n",
       "      <td>0.024232</td>\n",
       "      <td>0.854522</td>\n",
       "    </tr>\n",
       "  </tbody>\n",
       "</table>\n",
       "</div>"
      ],
      "text/plain": [
       "             mnap   hitrate       mrr  coverage  surprisal\n",
       "random   0.000185  0.000558  0.000214  0.793017   0.931816\n",
       "popular  0.001519  0.002231  0.001450  0.000585   0.657097\n",
       "tfidf    0.038722  0.082001  0.040614  0.024452   0.854759\n",
       "bm25     0.038845  0.082559  0.040863  0.024525   0.855192\n",
       "cosine   0.038833  0.082559  0.040559  0.024232   0.854522"
      ]
     },
     "execution_count": 304,
     "metadata": {},
     "output_type": "execute_result"
    },
    {
     "data": {
      "image/png": "[encoded data removed]",
      "text/plain": [
       "<Figure size 720x432 with 1 Axes>"
      ]
     },
     "metadata": {
      "needs_background": "light"
     },
     "output_type": "display_data"
    },
    {
     "data": {
      "application/javascript": [
       "\n",
       "            setTimeout(function() {\n",
       "                var nbb_cell_id = 304;\n",
       "                var nbb_unformatted_code = \"assessor.show_results()\";\n",
       "                var nbb_formatted_code = \"assessor.show_results()\";\n",
       "                var nbb_cells = Jupyter.notebook.get_cells();\n",
       "                for (var i = 0; i < nbb_cells.length; ++i) {\n",
       "                    if (nbb_cells[i].input_prompt_number == nbb_cell_id) {\n",
       "                        if (nbb_cells[i].get_text() == nbb_unformatted_code) {\n",
       "                             nbb_cells[i].set_text(nbb_formatted_code);\n",
       "                        }\n",
       "                        break;\n",
       "                    }\n",
       "                }\n",
       "            }, 500);\n",
       "            "
      ],
      "text/plain": [
       "<IPython.core.display.Javascript object>"
      ]
     },
     "metadata": {},
     "output_type": "display_data"
    }
   ],
   "source": [
    "assessor.show_results()"
   ]
  },
  {
   "cell_type": "markdown",
   "metadata": {},
   "source": [
    "## Методы Matrix factorization"
   ]
  },
  {
   "cell_type": "markdown",
   "metadata": {},
   "source": [
    "**(0.5 балла) Задание 6.**\n",
    "\n",
    "- Разложите матрицу рейтингов с помощью [разреженного SVD](http://scikit-learn.org/stable/modules/generated/sklearn.decomposition.TruncatedSVD.html) и, восстановив ее, получите предсказания рейтингов для всех пар пользователь-объект. В данном случае неизвестные рейтинги заполняются нулями, а затем восстанавливаются с помощью SVD (этот метод называется PureSVD).\n",
    "   * Получив векторные представления пользователей и объектов и сингулярные числа, мы можеи восстановив матрицу и в местах нулей получим \"предсказанные значения вероятностей\" для новых объектов.\n",
    "- Рассмотрите, как минимум, 5 различных значений ранга разложения. Оцените качество рекомендаций"
   ]
  },
  {
   "cell_type": "markdown",
   "metadata": {},
   "source": [
    "Получим представление о том, какие варианты значенией ранга разложения следует попробовать:"
   ]
  },
  {
   "cell_type": "code",
   "execution_count": null,
   "metadata": {
    "ExecuteTime": {
     "end_time": "2022-08-06T09:02:31.182179Z",
     "start_time": "2022-08-06T09:02:04.487Z"
    }
   },
   "outputs": [],
   "source": [
    "from sklearn.decomposition import TruncatedSVD\n",
    "\n",
    "def plot_component_importance(users, organisations, train_reviews):\n",
    "    sparse_interface = SparseInterface(users, organisations, train_reviews)\n",
    "    sparse_reviews = sparse_interface.build_sparse_reviews()\n",
    "    truncated_svd = TruncatedSVD(n_components=100)\n",
    "    truncated_svd.fit(sparse_reviews)\n",
    "\n",
    "    fig, ax = plt.subplots(figsize=(8, 6))\n",
    "    plt.plot(truncated_svd.explained_variance_ratio_)\n",
    "    plt.xlabel(\"n components\")\n",
    "    plt.ylabel(\"explained variance ratio\")\n",
    "    plt.title(\"Explained variance depending on number of components\")"
   ]
  },
  {
   "cell_type": "code",
   "execution_count": 1088,
   "metadata": {
    "ExecuteTime": {
     "end_time": "2022-08-05T10:58:41.938158Z",
     "start_time": "2022-08-05T10:57:40.990510Z"
    }
   },
   "outputs": [
    {
     "data": {
      "image/png": "[encoded data removed]",
      "text/plain": [
       "<Figure size 576x432 with 1 Axes>"
      ]
     },
     "metadata": {
      "needs_background": "light"
     },
     "output_type": "display_data"
    },
    {
     "data": {
      "application/javascript": [
       "\n",
       "            setTimeout(function() {\n",
       "                var nbb_cell_id = 1088;\n",
       "                var nbb_unformatted_code = \"plot_component_inportance(users, organisations, train_reviews)\";\n",
       "                var nbb_formatted_code = \"plot_component_inportance(users, organisations, train_reviews)\";\n",
       "                var nbb_cells = Jupyter.notebook.get_cells();\n",
       "                for (var i = 0; i < nbb_cells.length; ++i) {\n",
       "                    if (nbb_cells[i].input_prompt_number == nbb_cell_id) {\n",
       "                        if (nbb_cells[i].get_text() == nbb_unformatted_code) {\n",
       "                             nbb_cells[i].set_text(nbb_formatted_code);\n",
       "                        }\n",
       "                        break;\n",
       "                    }\n",
       "                }\n",
       "            }, 500);\n",
       "            "
      ],
      "text/plain": [
       "<IPython.core.display.Javascript object>"
      ]
     },
     "metadata": {},
     "output_type": "display_data"
    }
   ],
   "source": [
    "plot_component_importance(users, organisations, train_reviews)"
   ]
  },
  {
   "cell_type": "code",
   "execution_count": null,
   "metadata": {
    "ExecuteTime": {
     "end_time": "2022-08-06T09:02:31.183068Z",
     "start_time": "2022-08-06T09:02:06.593Z"
    }
   },
   "outputs": [],
   "source": [
    "from tqdm.auto import tqdm\n",
    "\n",
    "\n",
    "def assess_matrix_factorization_models(\n",
    "    users,\n",
    "    organisations,\n",
    "    train_reviews,\n",
    "    validation_reviews,\n",
    "    metrics,\n",
    "    models,\n",
    "    batch_size=1024,\n",
    "    top_k=20,\n",
    "):\n",
    "    sparse_interface = SparseInterface(users, organisations, train_reviews)\n",
    "    sparse_reviews = sparse_interface.build_sparse_reviews()\n",
    "    validation_users = validation_reviews[\"user_id\"].unique()\n",
    "    validation = sparse_interface.recommending_kwargs(validation_users)[\"user_items\"]\n",
    "    model_recommendations = {}\n",
    "\n",
    "    results = []\n",
    "    for name, model in tqdm(models.items()):\n",
    "        model.fit(sparse_reviews)\n",
    "        embedding = model.transform(validation)\n",
    "\n",
    "        recommendations = []\n",
    "        for begin in range(0, len(validation_users), batch_size):\n",
    "            batch_embedding = embedding[begin : begin + batch_size]\n",
    "            batch_ids = validation_users[begin : begin + batch_size]\n",
    "            rec = model.inverse_transform(batch_embedding)\n",
    "            top_k_org_range_ids = np.argpartition(-rec, top_k)[:, :top_k]\n",
    "            rec = sparse_interface.convert_recommendations(top_k_org_range_ids)\n",
    "            recommendations.append(pd.DataFrame(index=batch_ids, data=rec))\n",
    "\n",
    "        recommendations = pd.concat(recommendations)\n",
    "        model_recommendations[name] = recommendations\n",
    "        results.append(metrics.calculate_metrics(recommendations, name=name))\n",
    "\n",
    "    return pd.concat(results, axis=\"columns\"), model_recommendations"
   ]
  },
  {
   "cell_type": "code",
   "execution_count": 1151,
   "metadata": {
    "ExecuteTime": {
     "end_time": "2022-08-05T22:09:34.556116Z",
     "start_time": "2022-08-05T13:52:29.412077Z"
    }
   },
   "outputs": [
    {
     "data": {
      "application/vnd.jupyter.widget-view+json": {
       "model_id": "75433952dc094471ba4b5e04325605cf",
       "version_major": 2,
       "version_minor": 0
      },
      "text/plain": [
       "  0%|          | 0/10 [00:00<?, ?it/s]"
      ]
     },
     "metadata": {},
     "output_type": "display_data"
    },
    {
     "data": {
      "application/javascript": [
       "\n",
       "            setTimeout(function() {\n",
       "                var nbb_cell_id = 1151;\n",
       "                var nbb_unformatted_code = \"(\\n    matrix_factorization_results,\\n    matrix_factorization_recommendations,\\n) = assess_matrix_factorization_models(\\n    users,\\n    organisations,\\n    train_reviews,\\n    validation_reviews,\\n    metrics,\\n    models={\\n        f\\\"svd_{n_components}\\\": TruncatedSVD(n_components=n_components)\\n        for n_components in np.logspace(1, 4, num=10, dtype=int)\\n    },\\n)\";\n",
       "                var nbb_formatted_code = \"(\\n    matrix_factorization_results,\\n    matrix_factorization_recommendations,\\n) = assess_matrix_factorization_models(\\n    users,\\n    organisations,\\n    train_reviews,\\n    validation_reviews,\\n    metrics,\\n    models={\\n        f\\\"svd_{n_components}\\\": TruncatedSVD(n_components=n_components)\\n        for n_components in np.logspace(1, 4, num=10, dtype=int)\\n    },\\n)\";\n",
       "                var nbb_cells = Jupyter.notebook.get_cells();\n",
       "                for (var i = 0; i < nbb_cells.length; ++i) {\n",
       "                    if (nbb_cells[i].input_prompt_number == nbb_cell_id) {\n",
       "                        if (nbb_cells[i].get_text() == nbb_unformatted_code) {\n",
       "                             nbb_cells[i].set_text(nbb_formatted_code);\n",
       "                        }\n",
       "                        break;\n",
       "                    }\n",
       "                }\n",
       "            }, 500);\n",
       "            "
      ],
      "text/plain": [
       "<IPython.core.display.Javascript object>"
      ]
     },
     "metadata": {},
     "output_type": "display_data"
    }
   ],
   "source": [
    "(\n",
    "    matrix_factorization_results,\n",
    "    matrix_factorization_recommendations,\n",
    ") = assess_matrix_factorization_models(\n",
    "    users,\n",
    "    organisations,\n",
    "    train_reviews,\n",
    "    validation_reviews,\n",
    "    metrics,\n",
    "    models={\n",
    "        f\"svd_{n_components}\": TruncatedSVD(n_components=n_components)\n",
    "        for n_components in np.logspace(1, 4, num=10, dtype=int)\n",
    "    },\n",
    ")"
   ]
  },
  {
   "cell_type": "code",
   "execution_count": 1157,
   "metadata": {
    "ExecuteTime": {
     "end_time": "2022-08-06T05:49:08.478536Z",
     "start_time": "2022-08-06T05:49:07.834884Z"
    }
   },
   "outputs": [
    {
     "data": {
      "text/plain": [
       "<AxesSubplot:title={'center':'Baseline, memory and matrix factorization models, log scale'}>"
      ]
     },
     "execution_count": 1157,
     "metadata": {},
     "output_type": "execute_result"
    },
    {
     "data": {
      "image/png": "[encoded data removed]",
      "text/plain": [
       "<Figure size 1008x576 with 1 Axes>"
      ]
     },
     "metadata": {
      "needs_background": "light"
     },
     "output_type": "display_data"
    },
    {
     "data": {
      "application/javascript": [
       "\n",
       "            setTimeout(function() {\n",
       "                var nbb_cell_id = 1157;\n",
       "                var nbb_unformatted_code = \"pd.concat(\\n    [baseline_results, nn_results[\\\"tfidf\\\"], matrix_factorization_results],\\n    axis=\\\"columns\\\",\\n).plot(\\n    kind=\\\"barh\\\",\\n    log=True,\\n    title=\\\"Baseline, memory and matrix factorization models, log scale\\\",\\n    figsize=(14, 8),\\n    cmap=\\\"viridis\\\",\\n)\";\n",
       "                var nbb_formatted_code = \"pd.concat(\\n    [baseline_results, nn_results[\\\"tfidf\\\"], matrix_factorization_results],\\n    axis=\\\"columns\\\",\\n).plot(\\n    kind=\\\"barh\\\",\\n    log=True,\\n    title=\\\"Baseline, memory and matrix factorization models, log scale\\\",\\n    figsize=(14, 8),\\n    cmap=\\\"viridis\\\",\\n)\";\n",
       "                var nbb_cells = Jupyter.notebook.get_cells();\n",
       "                for (var i = 0; i < nbb_cells.length; ++i) {\n",
       "                    if (nbb_cells[i].input_prompt_number == nbb_cell_id) {\n",
       "                        if (nbb_cells[i].get_text() == nbb_unformatted_code) {\n",
       "                             nbb_cells[i].set_text(nbb_formatted_code);\n",
       "                        }\n",
       "                        break;\n",
       "                    }\n",
       "                }\n",
       "            }, 500);\n",
       "            "
      ],
      "text/plain": [
       "<IPython.core.display.Javascript object>"
      ]
     },
     "metadata": {},
     "output_type": "display_data"
    }
   ],
   "source": [
    "pd.concat(\n",
    "    [baseline_results, nn_results[\"tfidf\"], matrix_factorization_results],\n",
    "    axis=\"columns\",\n",
    ").plot(\n",
    "    kind=\"barh\",\n",
    "    log=True,\n",
    "    title=\"Baseline, memory and matrix factorization models, log scale\",\n",
    "    figsize=(14, 8),\n",
    "    cmap=\"viridis\",\n",
    ")"
   ]
  },
  {
   "cell_type": "markdown",
   "metadata": {},
   "source": [
    "# ALS\n",
    "Довольно популярным базовым методом в рекомендательных системах является ALS.\n",
    "\n",
    "### Explicit ALS\n",
    "\n",
    "Релевантность:\n",
    "$$r_{ui} = q_i^T p_u$$\n",
    "\n",
    "Loss:\n",
    "$$\\min_{p*, q*} \\sum_{(u, i \\in \\mathcal{K})} (r_{ui} - q_i^T p_u)^2 + \\lambda(\\|{q_i}\\|^2 + \\|{p_i}\\|^2)$$\n",
    "\n",
    "### [Implicit ALS](http://yifanhu.net/PUB/cf.pdf)\n",
    "\n",
    "Релевантность:\n",
    "$$r_{ui} = q_i^T p_u$$\n",
    "\n",
    "Loss:\n",
    "$$\\min_{p*, q*} \\sum_{(u, i \\in \\mathcal{K})} c_{ui}(p_{ui} - q_i^T p_u)^2 + \\lambda(\\|{q_i}\\|^2 + \\|{p_i}\\|^2)$$\n",
    "Где $c_{ui}$ - значение в матрице implicit feedback, а $p_{ui}$ равно 1, если пользователь u взаимодействовал с item-ом i, и 0 иначе.\n",
    "\n",
    "### Усложнения ALS\n",
    "Обучив для каждого пользователя и объекта свой bias и добавив регуляризацию можно улучшить качество решения. Подробнее о различных матричных разложениях для задачи рекомендаций можно почитать [в статье на Хабре](https://habr.com/ru/post/486802/).\n",
    "\n",
    "В рейтинг объекта для пользователя, например, может быть представлен:\n",
    "$$r_{ui} = \\mu + b_i + b_u + q_i^T p_u$$\n",
    "\n",
    "А функция потерь будет выглядеть так:\n",
    "$$\\min_{b*, p*, q*} \\sum_{(u, i \\in \\mathcal{K})} (r_{ui} - \\mu - b_i - b_u - q_i^T p_u)^2 + \\lambda(\\|{q_i}\\|^2 + \\|{p_i}\\|^2 + b_i^2 + b_u^2)$$\n",
    "\n",
    "Матричная факторизация - хороший подход, который позволяет получить рекомендации для теплых пользователей, а также находить похожих пользователей и объекты, посчитав расстояния между векторами. Обучив модель и получив вектора можно перейти от задачи рекомендаций к задаче поиска ближайших соседей и использовать ANN-методы."
   ]
  },
  {
   "cell_type": "markdown",
   "metadata": {},
   "source": [
    "**(1.0 балла) Задание 7.**\n",
    "Примените ALS.\n",
    "\n",
    "Можно воспользоваться готовой реализацией из бибилотеки https://github.com/benfred/implicit\n",
    "\n",
    "Попробуйте использовать как все оценки, так и только высокие. Есть ли разница?"
   ]
  },
  {
   "cell_type": "code",
   "execution_count": null,
   "metadata": {},
   "outputs": [],
   "source": [
    "from implicit.gpu.als import AlternatingLeastSquares\n",
    "\n",
    "als_results, als_recommendations = assess_nearest_neighbors_models(\n",
    "    users,\n",
    "    organisations,\n",
    "    train_reviews,\n",
    "    validation_reviews,\n",
    "    metrics,\n",
    "    models={\"als\": AlternatingLeastSquares()},\n",
    ")\n",
    "\n",
    "als_filtered_results, als_filtered_recommendations =  assess_nearest_neighbors_models(\n",
    "    users,\n",
    "    organisations,\n",
    "    train_reviews.query(\"rating >= 4\").assign(rating=1),\n",
    "    validation_reviews,\n",
    "    metrics,\n",
    "    models={\"als_filtered\": AlternatingLeastSquares()},\n",
    ")"
   ]
  },
  {
   "cell_type": "code",
   "execution_count": null,
   "metadata": {},
   "outputs": [],
   "source": [
    "pd.concat(\n",
    "    [\n",
    "        #         baseline_results,\n",
    "        #         nn_results[\"tfidf\"],\n",
    "        #         matrix_factorization_results,\n",
    "        als_results,\n",
    "        als_filtered_results,\n",
    "    ],\n",
    "    axis=\"columns\",\n",
    ").plot(\n",
    "    kind=\"barh\",\n",
    "    log=True,\n",
    "    title=\"Baseline, memory and matrix factorization models, log scale\",\n",
    "    figsize=(14, 8),\n",
    ")"
   ]
  },
  {
   "cell_type": "markdown",
   "metadata": {},
   "source": [
    "**(1.0 балла) Задание 8.**\n",
    "\n",
    "На [семинаре](https://github.com/monkey0head/recsys_sem) Вам было расказано про бибилиотеку LightFM.\n",
    "Примените ее для нашей задачи. Используя фичи и не используя фичи, сравните результат."
   ]
  },
  {
   "cell_type": "code",
   "execution_count": 109,
   "metadata": {
    "ExecuteTime": {
     "end_time": "2022-08-06T10:30:11.046185Z",
     "start_time": "2022-08-06T10:30:09.879394Z"
    }
   },
   "outputs": [
    {
     "data": {
      "application/javascript": [
       "\n",
       "            setTimeout(function() {\n",
       "                var nbb_cell_id = 109;\n",
       "                var nbb_unformatted_code = \"# TODO: add aspects\\nfrom lightfm.data import Dataset\\nfrom tqdm.auto import tqdm\\n\\ndataset = Dataset()\\ndataset.fit(\\n    users=users.index,\\n    items=organisations.index,\\n    user_features=users[\\\"city\\\"].unique(),\\n    item_features=list(organisations[\\\"city\\\"].unique())\\n    + [\\\"average_bill\\\", \\\"rating\\\"]\\n    + [f\\\"rubric_{rubric_id}\\\" for rubric_id in data[\\\"rubrics\\\"].index]\\n    + [f\\\"feature_{feature_id}\\\" for feature_id in data[\\\"features\\\"].index],\\n)\";\n",
       "                var nbb_formatted_code = \"# TODO: add aspects\\nfrom lightfm.data import Dataset\\nfrom tqdm.auto import tqdm\\n\\ndataset = Dataset()\\ndataset.fit(\\n    users=users.index,\\n    items=organisations.index,\\n    user_features=users[\\\"city\\\"].unique(),\\n    item_features=list(organisations[\\\"city\\\"].unique())\\n    + [\\\"average_bill\\\", \\\"rating\\\"]\\n    + [f\\\"rubric_{rubric_id}\\\" for rubric_id in data[\\\"rubrics\\\"].index]\\n    + [f\\\"feature_{feature_id}\\\" for feature_id in data[\\\"features\\\"].index],\\n)\";\n",
       "                var nbb_cells = Jupyter.notebook.get_cells();\n",
       "                for (var i = 0; i < nbb_cells.length; ++i) {\n",
       "                    if (nbb_cells[i].input_prompt_number == nbb_cell_id) {\n",
       "                        if (nbb_cells[i].get_text() == nbb_unformatted_code) {\n",
       "                             nbb_cells[i].set_text(nbb_formatted_code);\n",
       "                        }\n",
       "                        break;\n",
       "                    }\n",
       "                }\n",
       "            }, 500);\n",
       "            "
      ],
      "text/plain": [
       "<IPython.core.display.Javascript object>"
      ]
     },
     "metadata": {},
     "output_type": "display_data"
    }
   ],
   "source": [
    "# TODO: add aspects\n",
    "from lightfm import LightFM\n",
    "from lightfm.data import Dataset\n",
    "from tqdm.auto import tqdm\n",
    "\n",
    "dataset = Dataset()\n",
    "dataset.fit(\n",
    "    users=users.index,\n",
    "    items=organisations.index,\n",
    "    user_features=users[\"city\"].unique(),\n",
    "    item_features=list(organisations[\"city\"].unique())\n",
    "    + [\"average_bill\", \"rating\"]\n",
    "    + [f\"rubric_{rubric_id}\" for rubric_id in data[\"rubrics\"].index]\n",
    "    + [f\"feature_{feature_id}\" for feature_id in data[\"features\"].index],\n",
    ")"
   ]
  },
  {
   "cell_type": "code",
   "execution_count": null,
   "metadata": {
    "ExecuteTime": {
     "start_time": "2022-08-06T10:30:23.953Z"
    }
   },
   "outputs": [
    {
     "data": {
      "application/vnd.jupyter.widget-view+json": {
       "model_id": "f4c810e02db04d65891775a60157c274",
       "version_major": 2,
       "version_minor": 0
      },
      "text/plain": [
       "  0%|          | 0/2890787 [00:00<?, ?it/s]"
      ]
     },
     "metadata": {},
     "output_type": "display_data"
    },
    {
     "name": "stderr",
     "output_type": "stream",
     "text": [
      "IOPub message rate exceeded.\n",
      "The notebook server will temporarily stop sending output\n",
      "to the client in order to avoid crashing it.\n",
      "To change this limit, set the config variable\n",
      "`--NotebookApp.iopub_msg_rate_limit`.\n",
      "\n",
      "Current values:\n",
      "NotebookApp.iopub_msg_rate_limit=1000.0 (msgs/sec)\n",
      "NotebookApp.rate_limit_window=3.0 (secs)\n",
      "\n"
     ]
    }
   ],
   "source": [
    "interactions = dataset.build_interactions(\n",
    "    (\n",
    "        tuple(row[[\"user_id\", \"org_id\", \"rating\"]])\n",
    "        for i, row in tqdm(\n",
    "            train_reviews.iterrows(), total=len(train_reviews)\n",
    "        )\n",
    "    )\n",
    ")\n",
    "\n",
    "item_features = dataset.build_item_features(\n",
    "    (\n",
    "        (\n",
    "            i,\n",
    "            {\n",
    "                **{row[\"city\"]: True},\n",
    "                **row[[\"average_bill\", \"rating\"]].dropna().to_dict(),\n",
    "                **{f\"rubric_{rubric_id}\": True for rubric_id in row[\"rubrics_id\"]},\n",
    "                **{f\"feature_{feature_id}\": True for feature_id in row[\"features_id\"]},\n",
    "            },\n",
    "        )\n",
    "        for i, row in tqdm(\n",
    "            organisations.iterrows(), total=len(organisations)\n",
    "        )\n",
    "    )\n",
    ")\n",
    "\n",
    "user_features = dataset.build_user_features(\n",
    "    (\n",
    "        (i, {row[\"city\"]: True})\n",
    "        for i, row in tqdm(users.iterrows(), total=len(users))\n",
    "    )\n",
    ")\n",
    "\n",
    "user_id_map, user_feature_map, item_id_map, item_feature_map = dataset.mapping()"
   ]
  },
  {
   "cell_type": "code",
   "execution_count": 48,
   "metadata": {
    "ExecuteTime": {
     "end_time": "2022-08-06T09:20:17.546499Z",
     "start_time": "2022-08-06T09:20:17.409463Z"
    }
   },
   "outputs": [
    {
     "data": {
      "application/javascript": [
       "\n",
       "            setTimeout(function() {\n",
       "                var nbb_cell_id = 48;\n",
       "                var nbb_unformatted_code = \"sparse_interface = SparseInterface(users, organisations, train_reviews)\";\n",
       "                var nbb_formatted_code = \"sparse_interface = SparseInterface(users, organisations, train_reviews)\";\n",
       "                var nbb_cells = Jupyter.notebook.get_cells();\n",
       "                for (var i = 0; i < nbb_cells.length; ++i) {\n",
       "                    if (nbb_cells[i].input_prompt_number == nbb_cell_id) {\n",
       "                        if (nbb_cells[i].get_text() == nbb_unformatted_code) {\n",
       "                             nbb_cells[i].set_text(nbb_formatted_code);\n",
       "                        }\n",
       "                        break;\n",
       "                    }\n",
       "                }\n",
       "            }, 500);\n",
       "            "
      ],
      "text/plain": [
       "<IPython.core.display.Javascript object>"
      ]
     },
     "metadata": {},
     "output_type": "display_data"
    }
   ],
   "source": [
    "sparse_interface = SparseInterface(users, organisations, train_reviews)\n",
    "sparse_interface.build_sparse_reviews()"
   ]
  },
  {
   "cell_type": "code",
   "execution_count": 118,
   "metadata": {
    "ExecuteTime": {
     "end_time": "2022-08-06T12:24:26.232828Z",
     "start_time": "2022-08-06T12:24:19.504797Z"
    }
   },
   "outputs": [
    {
     "data": {
      "text/plain": [
       "<lightfm.lightfm.LightFM at 0x7f143ba19da0>"
      ]
     },
     "execution_count": 118,
     "metadata": {},
     "output_type": "execute_result"
    },
    {
     "data": {
      "application/javascript": [
       "\n",
       "            setTimeout(function() {\n",
       "                var nbb_cell_id = 118;\n",
       "                var nbb_unformatted_code = \"from lightfm import LightFM\\n\\nlightfm_model = LightFM()\\nlightfm_model.fit(\\n    interactions[0], item_features=item_features, user_features=user_features\\n)\";\n",
       "                var nbb_formatted_code = \"from lightfm import LightFM\\n\\nlightfm_model = LightFM()\\nlightfm_model.fit(\\n    interactions[0], item_features=item_features, user_features=user_features\\n)\";\n",
       "                var nbb_cells = Jupyter.notebook.get_cells();\n",
       "                for (var i = 0; i < nbb_cells.length; ++i) {\n",
       "                    if (nbb_cells[i].input_prompt_number == nbb_cell_id) {\n",
       "                        if (nbb_cells[i].get_text() == nbb_unformatted_code) {\n",
       "                             nbb_cells[i].set_text(nbb_formatted_code);\n",
       "                        }\n",
       "                        break;\n",
       "                    }\n",
       "                }\n",
       "            }, 500);\n",
       "            "
      ],
      "text/plain": [
       "<IPython.core.display.Javascript object>"
      ]
     },
     "metadata": {},
     "output_type": "display_data"
    }
   ],
   "source": [
    "from lightfm import LightFM\n",
    "\n",
    "lightfm_model = LightFM()\n",
    "lightfm_model.fit(\n",
    "    interactions[0], item_features=item_features, user_features=user_features,verbose=True\n",
    ")"
   ]
  },
  {
   "cell_type": "code",
   "execution_count": 134,
   "metadata": {
    "ExecuteTime": {
     "end_time": "2022-08-06T12:37:42.941998Z",
     "start_time": "2022-08-06T12:37:42.932212Z"
    }
   },
   "outputs": [
    {
     "data": {
      "text/plain": [
       "array([ 7159837831529436275,  4864485953405036275, 10917295679474880776,\n",
       "       ..., 12307049800752644990,  6401301906867215390,\n",
       "       15408226905881580421], dtype=uint64)"
      ]
     },
     "execution_count": 134,
     "metadata": {},
     "output_type": "execute_result"
    },
    {
     "data": {
      "application/javascript": [
       "\n",
       "            setTimeout(function() {\n",
       "                var nbb_cell_id = 134;\n",
       "                var nbb_unformatted_code = \"val_ids\";\n",
       "                var nbb_formatted_code = \"val_ids\";\n",
       "                var nbb_cells = Jupyter.notebook.get_cells();\n",
       "                for (var i = 0; i < nbb_cells.length; ++i) {\n",
       "                    if (nbb_cells[i].input_prompt_number == nbb_cell_id) {\n",
       "                        if (nbb_cells[i].get_text() == nbb_unformatted_code) {\n",
       "                             nbb_cells[i].set_text(nbb_formatted_code);\n",
       "                        }\n",
       "                        break;\n",
       "                    }\n",
       "                }\n",
       "            }, 500);\n",
       "            "
      ],
      "text/plain": [
       "<IPython.core.display.Javascript object>"
      ]
     },
     "metadata": {},
     "output_type": "display_data"
    }
   ],
   "source": [
    "val_ids"
   ]
  },
  {
   "cell_type": "code",
   "execution_count": 132,
   "metadata": {
    "ExecuteTime": {
     "end_time": "2022-08-06T12:34:27.699218Z",
     "start_time": "2022-08-06T12:34:27.071100Z"
    }
   },
   "outputs": [
    {
     "data": {
      "application/javascript": [
       "\n",
       "            setTimeout(function() {\n",
       "                var nbb_cell_id = 132;\n",
       "                var nbb_unformatted_code = \"recommendations = lightfm_model.predict(\\n    user_ids=np.array([user_id_map[i] for i in validation_reviews[\\\"user_id\\\"]]),\\n    item_ids=np.array([item_id_map[i] for i in validation_reviews[\\\"org_id\\\"]]),\\n)\";\n",
       "                var nbb_formatted_code = \"recommendations = lightfm_model.predict(\\n    user_ids=np.array([user_id_map[i] for i in validation_reviews[\\\"user_id\\\"]]),\\n    item_ids=np.array([item_id_map[i] for i in validation_reviews[\\\"org_id\\\"]]),\\n)\";\n",
       "                var nbb_cells = Jupyter.notebook.get_cells();\n",
       "                for (var i = 0; i < nbb_cells.length; ++i) {\n",
       "                    if (nbb_cells[i].input_prompt_number == nbb_cell_id) {\n",
       "                        if (nbb_cells[i].get_text() == nbb_unformatted_code) {\n",
       "                             nbb_cells[i].set_text(nbb_formatted_code);\n",
       "                        }\n",
       "                        break;\n",
       "                    }\n",
       "                }\n",
       "            }, 500);\n",
       "            "
      ],
      "text/plain": [
       "<IPython.core.display.Javascript object>"
      ]
     },
     "metadata": {},
     "output_type": "display_data"
    }
   ],
   "source": [
    "recommendations = lightfm_model.predict(\n",
    "    user_ids=np.array([user_id_map[i] for i in validation_reviews[\"user_id\"]]),\n",
    "    item_ids=np.array([item_id_map[i] for i in validation_reviews[\"org_id\"]]),\n",
    ")"
   ]
  },
  {
   "cell_type": "code",
   "execution_count": 133,
   "metadata": {
    "ExecuteTime": {
     "end_time": "2022-08-06T12:34:30.724309Z",
     "start_time": "2022-08-06T12:34:30.714280Z"
    }
   },
   "outputs": [
    {
     "data": {
      "text/plain": [
       "array([ 2.9861347e-03,  1.8182240e-03, -5.8125868e-04, ...,\n",
       "        1.2941627e-03,  1.4219091e-03,  6.6350899e-06], dtype=float32)"
      ]
     },
     "execution_count": 133,
     "metadata": {},
     "output_type": "execute_result"
    },
    {
     "data": {
      "application/javascript": [
       "\n",
       "            setTimeout(function() {\n",
       "                var nbb_cell_id = 133;\n",
       "                var nbb_unformatted_code = \"recommendations\";\n",
       "                var nbb_formatted_code = \"recommendations\";\n",
       "                var nbb_cells = Jupyter.notebook.get_cells();\n",
       "                for (var i = 0; i < nbb_cells.length; ++i) {\n",
       "                    if (nbb_cells[i].input_prompt_number == nbb_cell_id) {\n",
       "                        if (nbb_cells[i].get_text() == nbb_unformatted_code) {\n",
       "                             nbb_cells[i].set_text(nbb_formatted_code);\n",
       "                        }\n",
       "                        break;\n",
       "                    }\n",
       "                }\n",
       "            }, 500);\n",
       "            "
      ],
      "text/plain": [
       "<IPython.core.display.Javascript object>"
      ]
     },
     "metadata": {},
     "output_type": "display_data"
    }
   ],
   "source": [
    "recommendations"
   ]
  },
  {
   "cell_type": "code",
   "execution_count": 36,
   "metadata": {
    "ExecuteTime": {
     "end_time": "2022-08-06T09:17:23.156526Z",
     "start_time": "2022-08-06T09:17:23.140644Z"
    }
   },
   "outputs": [
    {
     "data": {
      "text/plain": [
       "(1393008, 68339)"
      ]
     },
     "execution_count": 36,
     "metadata": {},
     "output_type": "execute_result"
    },
    {
     "data": {
      "application/javascript": [
       "\n",
       "            setTimeout(function() {\n",
       "                var nbb_cell_id = 36;\n",
       "                var nbb_unformatted_code = \"dataset.interactions_shape()\";\n",
       "                var nbb_formatted_code = \"dataset.interactions_shape()\";\n",
       "                var nbb_cells = Jupyter.notebook.get_cells();\n",
       "                for (var i = 0; i < nbb_cells.length; ++i) {\n",
       "                    if (nbb_cells[i].input_prompt_number == nbb_cell_id) {\n",
       "                        if (nbb_cells[i].get_text() == nbb_unformatted_code) {\n",
       "                             nbb_cells[i].set_text(nbb_formatted_code);\n",
       "                        }\n",
       "                        break;\n",
       "                    }\n",
       "                }\n",
       "            }, 500);\n",
       "            "
      ],
      "text/plain": [
       "<IPython.core.display.Javascript object>"
      ]
     },
     "metadata": {},
     "output_type": "display_data"
    }
   ],
   "source": [
    "dataset.interactions_shape()"
   ]
  },
  {
   "cell_type": "markdown",
   "metadata": {},
   "source": [
    "**(1.0 балла) Задание 9.**\n",
    "\n",
    "   Посмотрим на все прошлые методы как на модели, которые генерируют нам кандидатов для ответа рекомендательной системы. \n",
    "   \n",
    "   Как нам выбрать те 20 организаций наилучшим образом? \n",
    "   \n",
    "   Давайте подключим машинное обучение. Сформулируем задачу ранжирования: запросом будет пользователь. Документами будут организации. Наивным признаковым описанием будет, например, факт рекомендации данной организации или скор/ранг от моделей SVD, ALS, LightFM.\n",
    "   Примените catboost/xgboost/lightgbm для создания переранжирования рекомендаций. То есть сделаем двухуровневую модель. Выясните наиболее важные признаки моделей первого уровня."
   ]
  },
  {
   "cell_type": "code",
   "execution_count": null,
   "metadata": {},
   "outputs": [],
   "source": []
  },
  {
   "cell_type": "code",
   "execution_count": null,
   "metadata": {},
   "outputs": [],
   "source": []
  }
 ],
 "metadata": {
  "kernelspec": {
   "display_name": "Python 3.6",
   "language": "python",
   "name": "3_6"
  },
  "language_info": {
   "codemirror_mode": {
    "name": "ipython",
    "version": 3
   },
   "file_extension": ".py",
   "mimetype": "text/x-python",
   "name": "python",
   "nbconvert_exporter": "python",
   "pygments_lexer": "ipython3",
   "version": "3.6.9"
  }
 },
 "nbformat": 4,
 "nbformat_minor": 2
}
