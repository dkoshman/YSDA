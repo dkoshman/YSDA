{
 "cells": [
  {
   "cell_type": "markdown",
   "metadata": {},
   "source": [
    "# Лабораторная работа 4. Часть 2. Рекомендательные системы.\n",
    "\n",
    "\n",
    "\n",
    "Результат лабораторной работы − отчет. Мы предпочитаем принимать отчеты в формате ноутбуков IPython (ipynb-файл). Постарайтесь сделать ваш отчет интересным рассказом, последовательно отвечающим на вопросы из заданий. Помимо ответов на вопросы, в отчете так же должен быть код, однако чем меньше кода, тем лучше всем: нам − меньше проверять, вам — проще найти ошибку или дополнить эксперимент. При проверке оценивается четкость ответов на вопросы, аккуратность отчета и кода.\n",
    "\n",
    "\n",
    "### Оценивание и штрафы\n",
    "Каждая из задач имеет определенную «стоимость» (указана в скобках около задачи). Максимально допустимая оценка за работу — 8 баллов. Сдавать задание после указанного в lk срока сдачи нельзя. «Похожие» решения считаются плагиатом и все задействованные студенты (в том числе те, у кого списали) не могут получить за него больше 0 баллов и понижают карму (подробнее о плагиате см. на странице курса). Если вы нашли решение какого-то из заданий в открытом источнике, необходимо прислать ссылку на этот источник (скорее всего вы будете не единственным, кто это нашел, поэтому чтобы исключить подозрение в плагиате, нам необходима ссылка на источник).\n",
    "\n"
   ]
  },
  {
   "cell_type": "markdown",
   "metadata": {},
   "source": [
    "## Знакомство с данными\n",
    "\n",
    "### Рекомендация организаций, которые получат высокий отзыв от пользователя, когда он гостит в чужом для себя городе\n",
    "\n",
    "Эта лабораторная работа про задачу из соревнования\n",
    "\n",
    "https://contest.yandex.ru/contest/36927/problems/\n"
   ]
  },
  {
   "cell_type": "markdown",
   "metadata": {},
   "source": [
    "**(1 балла) Задание 1.** Знакомство с данными.\n",
    "\n",
    "В первую очередь нам понадобятся данные по __пользователям__ (в терминах recsys -- users), __организациям__ (в терминах recsys -- items) и сами __отзывы__ (в терминах recsys -- ratings или explicit feedback). \n",
    "\n",
    "На основании этих данных можно будет проводить базовый анализ методами колаборативной фильтрации.\n",
    "\n",
    "  * Опишите, насколько активно пользователи оставляют отзывы, насколько активно организации получают отзывы.\n",
    "  * Предложите стратегии фильтрации данных.\n",
    "  \n",
    "\n",
    "\n",
    "Во вторую очередь нас будут интересовать атрибуты организаций: aspects, features, rubrics.\n",
    "Проанализируйте эти таблицы. Какие признаки для описания организаций и пользователей из них можно извлечь?\n"
   ]
  },
  {
   "cell_type": "code",
   "execution_count": 1,
   "metadata": {
    "ExecuteTime": {
     "end_time": "2022-08-18T10:22:30.755549Z",
     "start_time": "2022-08-18T10:22:29.859209Z"
    }
   },
   "outputs": [
    {
     "data": {
      "application/javascript": [
       "\n",
       "            setTimeout(function() {\n",
       "                var nbb_cell_id = 1;\n",
       "                var nbb_unformatted_code = \"%load_ext nb_black\\n\\nimport abc\\nimport functools\\nimport glob\\nimport matplotlib.pyplot as plt\\nimport numpy as np\\nimport os\\nimport pandas as pd\";\n",
       "                var nbb_formatted_code = \"%load_ext nb_black\\n\\nimport abc\\nimport functools\\nimport glob\\nimport matplotlib.pyplot as plt\\nimport numpy as np\\nimport os\\nimport pandas as pd\";\n",
       "                var nbb_cells = Jupyter.notebook.get_cells();\n",
       "                for (var i = 0; i < nbb_cells.length; ++i) {\n",
       "                    if (nbb_cells[i].input_prompt_number == nbb_cell_id) {\n",
       "                        if (nbb_cells[i].get_text() == nbb_unformatted_code) {\n",
       "                             nbb_cells[i].set_text(nbb_formatted_code);\n",
       "                        }\n",
       "                        break;\n",
       "                    }\n",
       "                }\n",
       "            }, 500);\n",
       "            "
      ],
      "text/plain": [
       "<IPython.core.display.Javascript object>"
      ]
     },
     "metadata": {},
     "output_type": "display_data"
    }
   ],
   "source": [
    "%load_ext nb_black\n",
    "\n",
    "import abc\n",
    "import functools\n",
    "import glob\n",
    "import matplotlib.pyplot as plt\n",
    "import numpy as np\n",
    "import os\n",
    "import pandas as pd"
   ]
  },
  {
   "cell_type": "code",
   "execution_count": 2,
   "metadata": {
    "ExecuteTime": {
     "end_time": "2022-08-18T10:22:30.797405Z",
     "start_time": "2022-08-18T10:22:30.758335Z"
    }
   },
   "outputs": [
    {
     "data": {
      "application/javascript": [
       "\n",
       "            setTimeout(function() {\n",
       "                var nbb_cell_id = 2;\n",
       "                var nbb_unformatted_code = \"class DataReader:\\n    def read(\\n        self,\\n        path_to_csv_files=\\\"data/*.csv\\\",\\n        columns_with_space_separated_ints=(\\\"rubrics_id\\\", \\\"features_id\\\", \\\"aspects\\\"),\\n    ):\\n        data = {}\\n        for csv_filename in glob.glob(path_to_csv_files):\\n            basename, extension = os.path.splitext(os.path.basename(csv_filename))\\n            data[basename] = pd.read_csv(\\n                csv_filename,\\n                converters={\\n                    c: self.read_ints for c in columns_with_space_separated_ints\\n                },\\n            )\\n        return data\\n\\n    @staticmethod\\n    def read_ints(line):\\n        return list(map(int, line.split()))\";\n",
       "                var nbb_formatted_code = \"class DataReader:\\n    def read(\\n        self,\\n        path_to_csv_files=\\\"data/*.csv\\\",\\n        columns_with_space_separated_ints=(\\\"rubrics_id\\\", \\\"features_id\\\", \\\"aspects\\\"),\\n    ):\\n        data = {}\\n        for csv_filename in glob.glob(path_to_csv_files):\\n            basename, extension = os.path.splitext(os.path.basename(csv_filename))\\n            data[basename] = pd.read_csv(\\n                csv_filename,\\n                converters={\\n                    c: self.read_ints for c in columns_with_space_separated_ints\\n                },\\n            )\\n        return data\\n\\n    @staticmethod\\n    def read_ints(line):\\n        return list(map(int, line.split()))\";\n",
       "                var nbb_cells = Jupyter.notebook.get_cells();\n",
       "                for (var i = 0; i < nbb_cells.length; ++i) {\n",
       "                    if (nbb_cells[i].input_prompt_number == nbb_cell_id) {\n",
       "                        if (nbb_cells[i].get_text() == nbb_unformatted_code) {\n",
       "                             nbb_cells[i].set_text(nbb_formatted_code);\n",
       "                        }\n",
       "                        break;\n",
       "                    }\n",
       "                }\n",
       "            }, 500);\n",
       "            "
      ],
      "text/plain": [
       "<IPython.core.display.Javascript object>"
      ]
     },
     "metadata": {},
     "output_type": "display_data"
    }
   ],
   "source": [
    "class DataReader:\n",
    "    def read(\n",
    "        self,\n",
    "        path_to_csv_files=\"data/*.csv\",\n",
    "        columns_with_space_separated_ints=(\"rubrics_id\", \"features_id\", \"aspects\"),\n",
    "    ):\n",
    "        data = {}\n",
    "        for csv_filename in glob.glob(path_to_csv_files):\n",
    "            basename, extension = os.path.splitext(os.path.basename(csv_filename))\n",
    "            data[basename] = pd.read_csv(\n",
    "                csv_filename,\n",
    "                converters={\n",
    "                    c: self.read_ints for c in columns_with_space_separated_ints\n",
    "                },\n",
    "            )\n",
    "        return data\n",
    "\n",
    "    @staticmethod\n",
    "    def read_ints(line):\n",
    "        return list(map(int, line.split()))"
   ]
  },
  {
   "cell_type": "code",
   "execution_count": 3,
   "metadata": {
    "ExecuteTime": {
     "end_time": "2022-08-18T10:22:41.671701Z",
     "start_time": "2022-08-18T10:22:30.800042Z"
    }
   },
   "outputs": [
    {
     "data": {
      "application/javascript": [
       "\n",
       "            setTimeout(function() {\n",
       "                var nbb_cell_id = 3;\n",
       "                var nbb_unformatted_code = \"data = DataReader().read()\";\n",
       "                var nbb_formatted_code = \"data = DataReader().read()\";\n",
       "                var nbb_cells = Jupyter.notebook.get_cells();\n",
       "                for (var i = 0; i < nbb_cells.length; ++i) {\n",
       "                    if (nbb_cells[i].input_prompt_number == nbb_cell_id) {\n",
       "                        if (nbb_cells[i].get_text() == nbb_unformatted_code) {\n",
       "                             nbb_cells[i].set_text(nbb_formatted_code);\n",
       "                        }\n",
       "                        break;\n",
       "                    }\n",
       "                }\n",
       "            }, 500);\n",
       "            "
      ],
      "text/plain": [
       "<IPython.core.display.Javascript object>"
      ]
     },
     "metadata": {},
     "output_type": "display_data"
    }
   ],
   "source": [
    "data = DataReader().read()"
   ]
  },
  {
   "cell_type": "markdown",
   "metadata": {},
   "source": [
    "* Опишите, насколько активно пользователи оставляют отзывы, насколько активно организации получают отзывы."
   ]
  },
  {
   "cell_type": "code",
   "execution_count": 4,
   "metadata": {
    "ExecuteTime": {
     "end_time": "2022-08-18T10:22:41.708076Z",
     "start_time": "2022-08-18T10:22:41.674331Z"
    }
   },
   "outputs": [
    {
     "data": {
      "application/javascript": [
       "\n",
       "            setTimeout(function() {\n",
       "                var nbb_cell_id = 4;\n",
       "                var nbb_unformatted_code = \"def describe_review_counts(\\n    df,\\n    reviews,\\n    axis,\\n    title,\\n    quantiles=(0, 0.25, 0.5, 0.75, 0.90, 0.95, 0.99, 0.999, 0.9999, 1),\\n    quantiles_to_plot=(0.5, 0.99, 0.999, 0.9999),\\n    plt_kwargs=None,\\n    cmap=\\\"hsv\\\",\\n):\\n    reviews_count = reviews.groupby(df.index.name).size().reindex(df.index)\\n    reviews_count.plot(ax=axis, title=title, **(plt_kwargs or {}))\\n    axis.set_xlabel(plt_kwargs.get(\\\"xlabel\\\"))\\n    axis.set_ylabel(plt_kwargs.get(\\\"ylabel\\\"))\\n\\n    for i, q in enumerate(quantiles_to_plot, start=1):\\n        quantile = reviews_count.quantile(q=q)\\n        axis.axvline(quantile, ls=\\\"--\\\", c=plt.get_cmap(name=cmap)(q))\\n        axis.text(quantile, axis.get_ylim()[1] / 2**i, f\\\"{100*q}%\\\", ha=\\\"left\\\")\\n\\n    return reviews_count.agg(\\n        {\\n            \\\"mean\\\": pd.Series.mean,\\n            \\\"std\\\": pd.Series.std,\\n            **{\\n                f\\\"{100*q}%\\\": functools.partial(pd.Series.quantile, q=q)\\n                for q in quantiles\\n            },\\n        }\\n    )\\n\\n\\ndef show_review_counts(data):\\n    users = data[\\\"users\\\"].set_index(\\\"user_id\\\")\\n    organisations = data[\\\"organisations\\\"].set_index(\\\"org_id\\\")\\n    reviews = data[\\\"reviews\\\"]\\n    fig, axes = plt.subplots(ncols=2, figsize=(16, 6))\\n    plt_kwargs = dict(\\n        kind=\\\"hist\\\",\\n        log=True,\\n        histtype=\\\"stepfilled\\\",\\n        bins=100,\\n        edgecolor=\\\"black\\\",\\n        facecolor=\\\"gray\\\",\\n        alpha=0.5,\\n        xlabel=\\\"Reviews count\\\",\\n        ylabel=\\\"Frequency (log scale)\\\",\\n    )\\n    return pd.DataFrame(\\n        {\\n            title: describe_review_counts(\\n                df,\\n                reviews,\\n                axis,\\n                title=title,\\n                plt_kwargs=plt_kwargs,\\n            )\\n            for df, axis, title in zip(\\n                [users, organisations],\\n                axes,\\n                [\\\"Users reviews written\\\", \\\"Organisations reviews received\\\"],\\n            )\\n        }\\n    ).T\";\n",
       "                var nbb_formatted_code = \"def describe_review_counts(\\n    df,\\n    reviews,\\n    axis,\\n    title,\\n    quantiles=(0, 0.25, 0.5, 0.75, 0.90, 0.95, 0.99, 0.999, 0.9999, 1),\\n    quantiles_to_plot=(0.5, 0.99, 0.999, 0.9999),\\n    plt_kwargs=None,\\n    cmap=\\\"hsv\\\",\\n):\\n    reviews_count = reviews.groupby(df.index.name).size().reindex(df.index)\\n    reviews_count.plot(ax=axis, title=title, **(plt_kwargs or {}))\\n    axis.set_xlabel(plt_kwargs.get(\\\"xlabel\\\"))\\n    axis.set_ylabel(plt_kwargs.get(\\\"ylabel\\\"))\\n\\n    for i, q in enumerate(quantiles_to_plot, start=1):\\n        quantile = reviews_count.quantile(q=q)\\n        axis.axvline(quantile, ls=\\\"--\\\", c=plt.get_cmap(name=cmap)(q))\\n        axis.text(quantile, axis.get_ylim()[1] / 2**i, f\\\"{100*q}%\\\", ha=\\\"left\\\")\\n\\n    return reviews_count.agg(\\n        {\\n            \\\"mean\\\": pd.Series.mean,\\n            \\\"std\\\": pd.Series.std,\\n            **{\\n                f\\\"{100*q}%\\\": functools.partial(pd.Series.quantile, q=q)\\n                for q in quantiles\\n            },\\n        }\\n    )\\n\\n\\ndef show_review_counts(data):\\n    users = data[\\\"users\\\"].set_index(\\\"user_id\\\")\\n    organisations = data[\\\"organisations\\\"].set_index(\\\"org_id\\\")\\n    reviews = data[\\\"reviews\\\"]\\n    fig, axes = plt.subplots(ncols=2, figsize=(16, 6))\\n    plt_kwargs = dict(\\n        kind=\\\"hist\\\",\\n        log=True,\\n        histtype=\\\"stepfilled\\\",\\n        bins=100,\\n        edgecolor=\\\"black\\\",\\n        facecolor=\\\"gray\\\",\\n        alpha=0.5,\\n        xlabel=\\\"Reviews count\\\",\\n        ylabel=\\\"Frequency (log scale)\\\",\\n    )\\n    return pd.DataFrame(\\n        {\\n            title: describe_review_counts(\\n                df,\\n                reviews,\\n                axis,\\n                title=title,\\n                plt_kwargs=plt_kwargs,\\n            )\\n            for df, axis, title in zip(\\n                [users, organisations],\\n                axes,\\n                [\\\"Users reviews written\\\", \\\"Organisations reviews received\\\"],\\n            )\\n        }\\n    ).T\";\n",
       "                var nbb_cells = Jupyter.notebook.get_cells();\n",
       "                for (var i = 0; i < nbb_cells.length; ++i) {\n",
       "                    if (nbb_cells[i].input_prompt_number == nbb_cell_id) {\n",
       "                        if (nbb_cells[i].get_text() == nbb_unformatted_code) {\n",
       "                             nbb_cells[i].set_text(nbb_formatted_code);\n",
       "                        }\n",
       "                        break;\n",
       "                    }\n",
       "                }\n",
       "            }, 500);\n",
       "            "
      ],
      "text/plain": [
       "<IPython.core.display.Javascript object>"
      ]
     },
     "metadata": {},
     "output_type": "display_data"
    }
   ],
   "source": [
    "def describe_review_counts(\n",
    "    df,\n",
    "    reviews,\n",
    "    axis,\n",
    "    title,\n",
    "    quantiles=(0, 0.25, 0.5, 0.75, 0.90, 0.95, 0.99, 0.999, 0.9999, 1),\n",
    "    quantiles_to_plot=(0.5, 0.99, 0.999, 0.9999),\n",
    "    plt_kwargs=None,\n",
    "    cmap=\"hsv\",\n",
    "):\n",
    "    reviews_count = reviews.groupby(df.index.name).size().reindex(df.index)\n",
    "    reviews_count.plot(ax=axis, title=title, **(plt_kwargs or {}))\n",
    "    axis.set_xlabel(plt_kwargs.get(\"xlabel\"))\n",
    "    axis.set_ylabel(plt_kwargs.get(\"ylabel\"))\n",
    "\n",
    "    for i, q in enumerate(quantiles_to_plot, start=1):\n",
    "        quantile = reviews_count.quantile(q=q)\n",
    "        axis.axvline(quantile, ls=\"--\", c=plt.get_cmap(name=cmap)(q))\n",
    "        axis.text(quantile, axis.get_ylim()[1] / 2**i, f\"{100*q}%\", ha=\"left\")\n",
    "\n",
    "    return reviews_count.agg(\n",
    "        {\n",
    "            \"mean\": pd.Series.mean,\n",
    "            \"std\": pd.Series.std,\n",
    "            **{\n",
    "                f\"{100*q}%\": functools.partial(pd.Series.quantile, q=q)\n",
    "                for q in quantiles\n",
    "            },\n",
    "        }\n",
    "    )\n",
    "\n",
    "\n",
    "def show_review_counts(data):\n",
    "    users = data[\"users\"].set_index(\"user_id\")\n",
    "    organisations = data[\"organisations\"].set_index(\"org_id\")\n",
    "    reviews = data[\"reviews\"]\n",
    "    fig, axes = plt.subplots(ncols=2, figsize=(16, 6))\n",
    "    plt_kwargs = dict(\n",
    "        kind=\"hist\",\n",
    "        log=True,\n",
    "        histtype=\"stepfilled\",\n",
    "        bins=100,\n",
    "        edgecolor=\"black\",\n",
    "        facecolor=\"gray\",\n",
    "        alpha=0.5,\n",
    "        xlabel=\"Reviews count\",\n",
    "        ylabel=\"Frequency (log scale)\",\n",
    "    )\n",
    "    return pd.DataFrame(\n",
    "        {\n",
    "            title: describe_review_counts(\n",
    "                df,\n",
    "                reviews,\n",
    "                axis,\n",
    "                title=title,\n",
    "                plt_kwargs=plt_kwargs,\n",
    "            )\n",
    "            for df, axis, title in zip(\n",
    "                [users, organisations],\n",
    "                axes,\n",
    "                [\"Users reviews written\", \"Organisations reviews received\"],\n",
    "            )\n",
    "        }\n",
    "    ).T"
   ]
  },
  {
   "cell_type": "code",
   "execution_count": 5,
   "metadata": {
    "ExecuteTime": {
     "end_time": "2022-08-18T10:22:45.269519Z",
     "start_time": "2022-08-18T10:22:41.710126Z"
    }
   },
   "outputs": [
    {
     "data": {
      "text/html": [
       "<div>\n",
       "<style scoped>\n",
       "    .dataframe tbody tr th:only-of-type {\n",
       "        vertical-align: middle;\n",
       "    }\n",
       "\n",
       "    .dataframe tbody tr th {\n",
       "        vertical-align: top;\n",
       "    }\n",
       "\n",
       "    .dataframe thead th {\n",
       "        text-align: right;\n",
       "    }\n",
       "</style>\n",
       "<table border=\"1\" class=\"dataframe\">\n",
       "  <thead>\n",
       "    <tr style=\"text-align: right;\">\n",
       "      <th></th>\n",
       "      <th>mean</th>\n",
       "      <th>std</th>\n",
       "      <th>0%</th>\n",
       "      <th>25.0%</th>\n",
       "      <th>50.0%</th>\n",
       "      <th>75.0%</th>\n",
       "      <th>90.0%</th>\n",
       "      <th>95.0%</th>\n",
       "      <th>99.0%</th>\n",
       "      <th>99.9%</th>\n",
       "      <th>99.99%</th>\n",
       "      <th>100%</th>\n",
       "    </tr>\n",
       "  </thead>\n",
       "  <tbody>\n",
       "    <tr>\n",
       "      <th>Users reviews written</th>\n",
       "      <td>2.964589</td>\n",
       "      <td>4.854616</td>\n",
       "      <td>1.0</td>\n",
       "      <td>1.0</td>\n",
       "      <td>1.0</td>\n",
       "      <td>3.0</td>\n",
       "      <td>6.0</td>\n",
       "      <td>10.0</td>\n",
       "      <td>22.0</td>\n",
       "      <td>54.000</td>\n",
       "      <td>117.0000</td>\n",
       "      <td>611.0</td>\n",
       "    </tr>\n",
       "    <tr>\n",
       "      <th>Organisations reviews received</th>\n",
       "      <td>60.429564</td>\n",
       "      <td>436.475347</td>\n",
       "      <td>1.0</td>\n",
       "      <td>2.0</td>\n",
       "      <td>8.0</td>\n",
       "      <td>32.0</td>\n",
       "      <td>125.0</td>\n",
       "      <td>246.0</td>\n",
       "      <td>785.0</td>\n",
       "      <td>3021.324</td>\n",
       "      <td>15019.8882</td>\n",
       "      <td>61520.0</td>\n",
       "    </tr>\n",
       "  </tbody>\n",
       "</table>\n",
       "</div>"
      ],
      "text/plain": [
       "                                     mean         std   0%  25.0%  50.0%  \\\n",
       "Users reviews written            2.964589    4.854616  1.0    1.0    1.0   \n",
       "Organisations reviews received  60.429564  436.475347  1.0    2.0    8.0   \n",
       "\n",
       "                                75.0%  90.0%  95.0%  99.0%     99.9%  \\\n",
       "Users reviews written             3.0    6.0   10.0   22.0    54.000   \n",
       "Organisations reviews received   32.0  125.0  246.0  785.0  3021.324   \n",
       "\n",
       "                                    99.99%     100%  \n",
       "Users reviews written             117.0000    611.0  \n",
       "Organisations reviews received  15019.8882  61520.0  "
      ]
     },
     "execution_count": 5,
     "metadata": {},
     "output_type": "execute_result"
    },
    {
     "data": {
      "image/png": "[encoded data removed]",
      "text/plain": [
       "<Figure size 1152x432 with 2 Axes>"
      ]
     },
     "metadata": {
      "needs_background": "light"
     },
     "output_type": "display_data"
    },
    {
     "data": {
      "application/javascript": [
       "\n",
       "            setTimeout(function() {\n",
       "                var nbb_cell_id = 5;\n",
       "                var nbb_unformatted_code = \"show_review_counts(data)\";\n",
       "                var nbb_formatted_code = \"show_review_counts(data)\";\n",
       "                var nbb_cells = Jupyter.notebook.get_cells();\n",
       "                for (var i = 0; i < nbb_cells.length; ++i) {\n",
       "                    if (nbb_cells[i].input_prompt_number == nbb_cell_id) {\n",
       "                        if (nbb_cells[i].get_text() == nbb_unformatted_code) {\n",
       "                             nbb_cells[i].set_text(nbb_formatted_code);\n",
       "                        }\n",
       "                        break;\n",
       "                    }\n",
       "                }\n",
       "            }, 500);\n",
       "            "
      ],
      "text/plain": [
       "<IPython.core.display.Javascript object>"
      ]
     },
     "metadata": {},
     "output_type": "display_data"
    }
   ],
   "source": [
    "show_review_counts(data)"
   ]
  },
  {
   "cell_type": "markdown",
   "metadata": {
    "ExecuteTime": {
     "end_time": "2022-07-31T11:31:58.640951Z",
     "start_time": "2022-07-31T11:31:58.634365Z"
    }
   },
   "source": [
    "* Предложите стратегии фильтрации данных."
   ]
  },
  {
   "cell_type": "markdown",
   "metadata": {},
   "source": [
    "Отбросить организации, у которых мало оценок и все они негативные. Это наименее полезные для нас организации, поскольку они одновременно не дают много информации о взаимных интересах пользователей, и не пригодятся для конечных рекомендаций.\n",
    "\n",
    "Реализация этой стратегии может выглядеть так: мы сортируем организации по значению функции полезности\n",
    "\n",
    "$$f(\\text{organisation}) = (\\text{rating count})(1 + \\text{rating std})^\\alpha (\\text{mean rating})^\\beta$$\n",
    "\n",
    "И отсекаем $\\gamma$ первых организаций, где $\\alpha, \\beta$ и $\\gamma$ подбираются по нашим предпочтениям."
   ]
  },
  {
   "cell_type": "code",
   "execution_count": 6,
   "metadata": {
    "ExecuteTime": {
     "end_time": "2022-08-18T10:22:45.334294Z",
     "start_time": "2022-08-18T10:22:45.271893Z"
    }
   },
   "outputs": [
    {
     "data": {
      "application/javascript": [
       "\n",
       "            setTimeout(function() {\n",
       "                var nbb_cell_id = 6;\n",
       "                var nbb_unformatted_code = \"class Preprocessor:\\n    @staticmethod\\n    def filter(reviews, alpha=1, beta=1, gamma=0.9):\\n        reviews = reviews.dropna(subset=[\\\"rating\\\"])\\n        usefulness = reviews.groupby(\\\"org_id\\\").apply(\\n            functools.partial(\\n                Preprocessor.calculate_usefulness, alpha=alpha, beta=beta\\n            ),\\n        )\\n        org_ids_to_keep = usefulness.sort_values().index[\\n            -int(gamma * len(usefulness)) :\\n        ]\\n        return reviews.query(\\\"org_id in @org_ids_to_keep\\\")\\n\\n    @staticmethod\\n    def calculate_usefulness(org_df, alpha, beta):\\n        usefulness = (\\n            len(org_df)\\n            * (1 + org_df[\\\"rating\\\"].std(ddof=0)) ** alpha\\n            * org_df[\\\"rating\\\"].mean() ** beta\\n        )\\n        return usefulness\\n\\n    @staticmethod\\n    def single_train_test_split(reviews, fraction_of_max_possible_test_size):\\n        ts_grouped_by_user_id = reviews.groupby(\\\"user_id\\\")[\\\"ts\\\"]\\n        ranks = ts_grouped_by_user_id.rank(method=\\\"first\\\").rename(\\\"rank\\\")\\n        sizes = ts_grouped_by_user_id.size().rename(\\\"size\\\")\\n        test_prob = (\\n            reviews[[\\\"user_id\\\"]]\\n            .join(ranks)\\n            .join(sizes, on=\\\"user_id\\\")\\n            .pipe(lambda df: (df[\\\"rank\\\"] - 1) / (df[\\\"size\\\"] - 1).replace({0: 1}))\\n            .pipe(lambda s: s / s.sum())\\n        )\\n        max_possible_test_size = test_prob.astype(bool).sum()\\n        test_index = np.random.permutation(\\n            np.random.choice(\\n                reviews.index,\\n                size=int(fraction_of_max_possible_test_size * max_possible_test_size),\\n                replace=False,\\n                p=test_prob,\\n            )\\n        )\\n        test = reviews.loc[test_index]\\n        train = reviews.drop(test_index).query(\\\"user_id in @test.user_id\\\")\\n        return train, test\\n\\n    @staticmethod\\n    def train_test_split(reviews, test_fractions):\\n        total_test_fraction = sum(test_fractions)\\n        train, test = Preprocessor.single_train_test_split(reviews, total_test_fraction)\\n        test_sizes = [int(len(test) * i / total_test_fraction) for i in test_fractions]\\n        test_splits = []\\n        for begin, end in zip(np.cumsum([0] + test_sizes), np.cumsum(test_sizes)):\\n            test_splits.append(test.iloc[begin:end])\\n\\n        return train, test_splits\\n\\n    def build_ids_map(self, users, organisations):\\n        self.user_id_map = users[\\\"user_id\\\"].sort_index()\\n        self.reverse_user_id_map = pd.Series(\\n            self.user_id_map.index, self.user_id_map.values\\n        ).sort_index()\\n        self.org_id_map = organisations[\\\"org_id\\\"].sort_index()\\n        self.reverse_org_id_map = pd.Series(\\n            self.org_id_map.index, self.org_id_map.values\\n        ).sort_index()\\n\\n    def map_ids(self, data):\\n        self.build_ids_map(data[\\\"users\\\"], data[\\\"organisations\\\"])\\n        for key, df in data.items():\\n            if \\\"user_id\\\" in df:\\n                df[\\\"user_id\\\"] = df[\\\"user_id\\\"].map(self.reverse_user_id_map)\\n                df = df.astype({\\\"user_id\\\": np.int32})\\n            if \\\"org_id\\\" in df:\\n                df[\\\"org_id\\\"] = df[\\\"org_id\\\"].map(self.reverse_org_id_map)\\n                df = df.astype({\\\"org_id\\\": np.int32})\\n            data[key] = df\\n        return data\";\n",
       "                var nbb_formatted_code = \"class Preprocessor:\\n    @staticmethod\\n    def filter(reviews, alpha=1, beta=1, gamma=0.9):\\n        reviews = reviews.dropna(subset=[\\\"rating\\\"])\\n        usefulness = reviews.groupby(\\\"org_id\\\").apply(\\n            functools.partial(\\n                Preprocessor.calculate_usefulness, alpha=alpha, beta=beta\\n            ),\\n        )\\n        org_ids_to_keep = usefulness.sort_values().index[\\n            -int(gamma * len(usefulness)) :\\n        ]\\n        return reviews.query(\\\"org_id in @org_ids_to_keep\\\")\\n\\n    @staticmethod\\n    def calculate_usefulness(org_df, alpha, beta):\\n        usefulness = (\\n            len(org_df)\\n            * (1 + org_df[\\\"rating\\\"].std(ddof=0)) ** alpha\\n            * org_df[\\\"rating\\\"].mean() ** beta\\n        )\\n        return usefulness\\n\\n    @staticmethod\\n    def single_train_test_split(reviews, fraction_of_max_possible_test_size):\\n        ts_grouped_by_user_id = reviews.groupby(\\\"user_id\\\")[\\\"ts\\\"]\\n        ranks = ts_grouped_by_user_id.rank(method=\\\"first\\\").rename(\\\"rank\\\")\\n        sizes = ts_grouped_by_user_id.size().rename(\\\"size\\\")\\n        test_prob = (\\n            reviews[[\\\"user_id\\\"]]\\n            .join(ranks)\\n            .join(sizes, on=\\\"user_id\\\")\\n            .pipe(lambda df: (df[\\\"rank\\\"] - 1) / (df[\\\"size\\\"] - 1).replace({0: 1}))\\n            .pipe(lambda s: s / s.sum())\\n        )\\n        max_possible_test_size = test_prob.astype(bool).sum()\\n        test_index = np.random.permutation(\\n            np.random.choice(\\n                reviews.index,\\n                size=int(fraction_of_max_possible_test_size * max_possible_test_size),\\n                replace=False,\\n                p=test_prob,\\n            )\\n        )\\n        test = reviews.loc[test_index]\\n        train = reviews.drop(test_index).query(\\\"user_id in @test.user_id\\\")\\n        return train, test\\n\\n    @staticmethod\\n    def train_test_split(reviews, test_fractions):\\n        total_test_fraction = sum(test_fractions)\\n        train, test = Preprocessor.single_train_test_split(reviews, total_test_fraction)\\n        test_sizes = [int(len(test) * i / total_test_fraction) for i in test_fractions]\\n        test_splits = []\\n        for begin, end in zip(np.cumsum([0] + test_sizes), np.cumsum(test_sizes)):\\n            test_splits.append(test.iloc[begin:end])\\n\\n        return train, test_splits\\n\\n    def build_ids_map(self, users, organisations):\\n        self.user_id_map = users[\\\"user_id\\\"].sort_index()\\n        self.reverse_user_id_map = pd.Series(\\n            self.user_id_map.index, self.user_id_map.values\\n        ).sort_index()\\n        self.org_id_map = organisations[\\\"org_id\\\"].sort_index()\\n        self.reverse_org_id_map = pd.Series(\\n            self.org_id_map.index, self.org_id_map.values\\n        ).sort_index()\\n\\n    def map_ids(self, data):\\n        self.build_ids_map(data[\\\"users\\\"], data[\\\"organisations\\\"])\\n        for key, df in data.items():\\n            if \\\"user_id\\\" in df:\\n                df[\\\"user_id\\\"] = df[\\\"user_id\\\"].map(self.reverse_user_id_map)\\n                df = df.astype({\\\"user_id\\\": np.int32})\\n            if \\\"org_id\\\" in df:\\n                df[\\\"org_id\\\"] = df[\\\"org_id\\\"].map(self.reverse_org_id_map)\\n                df = df.astype({\\\"org_id\\\": np.int32})\\n            data[key] = df\\n        return data\";\n",
       "                var nbb_cells = Jupyter.notebook.get_cells();\n",
       "                for (var i = 0; i < nbb_cells.length; ++i) {\n",
       "                    if (nbb_cells[i].input_prompt_number == nbb_cell_id) {\n",
       "                        if (nbb_cells[i].get_text() == nbb_unformatted_code) {\n",
       "                             nbb_cells[i].set_text(nbb_formatted_code);\n",
       "                        }\n",
       "                        break;\n",
       "                    }\n",
       "                }\n",
       "            }, 500);\n",
       "            "
      ],
      "text/plain": [
       "<IPython.core.display.Javascript object>"
      ]
     },
     "metadata": {},
     "output_type": "display_data"
    }
   ],
   "source": [
    "class Preprocessor:\n",
    "    @staticmethod\n",
    "    def filter(reviews, alpha=1, beta=1, gamma=0.9):\n",
    "        reviews = reviews.dropna(subset=[\"rating\"])\n",
    "        usefulness = reviews.groupby(\"org_id\").apply(\n",
    "            functools.partial(\n",
    "                Preprocessor.calculate_usefulness, alpha=alpha, beta=beta\n",
    "            ),\n",
    "        )\n",
    "        org_ids_to_keep = usefulness.sort_values().index[\n",
    "            -int(gamma * len(usefulness)) :\n",
    "        ]\n",
    "        return reviews.query(\"org_id in @org_ids_to_keep\")\n",
    "\n",
    "    @staticmethod\n",
    "    def calculate_usefulness(org_df, alpha, beta):\n",
    "        usefulness = (\n",
    "            len(org_df)\n",
    "            * (1 + org_df[\"rating\"].std(ddof=0)) ** alpha\n",
    "            * org_df[\"rating\"].mean() ** beta\n",
    "        )\n",
    "        return usefulness\n",
    "\n",
    "    @staticmethod\n",
    "    def single_train_test_split(reviews, fraction_of_max_possible_test_size):\n",
    "        ts_grouped_by_user_id = reviews.groupby(\"user_id\")[\"ts\"]\n",
    "        ranks = ts_grouped_by_user_id.rank(method=\"first\").rename(\"rank\")\n",
    "        sizes = ts_grouped_by_user_id.size().rename(\"size\")\n",
    "        test_prob = (\n",
    "            reviews[[\"user_id\"]]\n",
    "            .join(ranks)\n",
    "            .join(sizes, on=\"user_id\")\n",
    "            .pipe(lambda df: (df[\"rank\"] - 1) / (df[\"size\"] - 1).replace({0: 1}))\n",
    "            .pipe(lambda s: s / s.sum())\n",
    "        )\n",
    "        max_possible_test_size = test_prob.astype(bool).sum()\n",
    "        test_index = np.random.permutation(\n",
    "            np.random.choice(\n",
    "                reviews.index,\n",
    "                size=int(fraction_of_max_possible_test_size * max_possible_test_size),\n",
    "                replace=False,\n",
    "                p=test_prob,\n",
    "            )\n",
    "        )\n",
    "        test = reviews.loc[test_index]\n",
    "        train = reviews.drop(test_index).query(\"user_id in @test.user_id\")\n",
    "        return train, test\n",
    "\n",
    "    @staticmethod\n",
    "    def train_test_split(reviews, test_fractions):\n",
    "        total_test_fraction = sum(test_fractions)\n",
    "        train, test = Preprocessor.single_train_test_split(reviews, total_test_fraction)\n",
    "        test_sizes = [int(len(test) * i / total_test_fraction) for i in test_fractions]\n",
    "        test_splits = []\n",
    "        for begin, end in zip(np.cumsum([0] + test_sizes), np.cumsum(test_sizes)):\n",
    "            test_splits.append(test.iloc[begin:end])\n",
    "\n",
    "        return train, test_splits\n",
    "\n",
    "    def build_ids_map(self, users, organisations):\n",
    "        self.user_id_map = users[\"user_id\"].sort_index()\n",
    "        self.reverse_user_id_map = pd.Series(\n",
    "            self.user_id_map.index, self.user_id_map.values\n",
    "        ).sort_index()\n",
    "        self.org_id_map = organisations[\"org_id\"].sort_index()\n",
    "        self.reverse_org_id_map = pd.Series(\n",
    "            self.org_id_map.index, self.org_id_map.values\n",
    "        ).sort_index()\n",
    "\n",
    "    def map_ids(self, data):\n",
    "        self.build_ids_map(data[\"users\"], data[\"organisations\"])\n",
    "        for key, df in data.items():\n",
    "            if \"user_id\" in df:\n",
    "                df[\"user_id\"] = df[\"user_id\"].map(self.reverse_user_id_map)\n",
    "                df = df.astype({\"user_id\": np.int32})\n",
    "            if \"org_id\" in df:\n",
    "                df[\"org_id\"] = df[\"org_id\"].map(self.reverse_org_id_map)\n",
    "                df = df.astype({\"org_id\": np.int32})\n",
    "            data[key] = df\n",
    "        return data"
   ]
  },
  {
   "cell_type": "markdown",
   "metadata": {
    "ExecuteTime": {
     "end_time": "2022-07-31T12:52:14.901038Z",
     "start_time": "2022-07-31T12:52:14.887694Z"
    }
   },
   "source": [
    "* Во вторую очередь нас будут интересовать атрибуты организаций: aspects, features, rubrics. Проанализируйте эти таблицы. Какие признаки для описания организаций и пользователей из них можно извлечь?"
   ]
  },
  {
   "cell_type": "markdown",
   "metadata": {},
   "source": [
    "Эти таблицы содержат текстовые описания, так что можно взять их эмбединги или обучить латентные векторные представления, либо кластеризовать и взять метки кластеров, и использовать все это в качестве дополнительных признаков."
   ]
  },
  {
   "cell_type": "markdown",
   "metadata": {},
   "source": [
    "---\n",
    "\n",
    "**(1 балла) Задание 2.** Организация валидации.\n",
    "\n",
    "Как вы помните, обучающее множество собрано за X = 1277 дней, тестовое множество – за последующие Y = 107 дней.\n",
    "\n",
    "Следовательно нам необходимо организовать у себя валидацию схожим образом.\n",
    "Раз мы будем еще и осуществлять выбор моделей, то следует произвести расщепление по времени на 3 группы train validation и holdout.\n",
    "\n",
    "Как уже говорилось на семинаре, для повышения качества локальной валидации, можно сделать скользящую валидацию. В самой лабораторной работе мы так делать не будем, но для конкурса имейте это в виду.\n"
   ]
  },
  {
   "cell_type": "code",
   "execution_count": 7,
   "metadata": {
    "ExecuteTime": {
     "end_time": "2022-08-18T10:22:51.791901Z",
     "start_time": "2022-08-18T10:22:45.340782Z"
    }
   },
   "outputs": [
    {
     "data": {
      "application/javascript": [
       "\n",
       "            setTimeout(function() {\n",
       "                var nbb_cell_id = 7;\n",
       "                var nbb_unformatted_code = \"preprocessor = Preprocessor()\\ndata = preprocessor.map_ids(data)\\ntrain_reviews, (validation_reviews, holdout_reviews) = preprocessor.train_test_split(\\n    data[\\\"reviews\\\"], test_fractions=[0.01, 0]  # [0.25, 0.25]\\n)\";\n",
       "                var nbb_formatted_code = \"preprocessor = Preprocessor()\\ndata = preprocessor.map_ids(data)\\ntrain_reviews, (validation_reviews, holdout_reviews) = preprocessor.train_test_split(\\n    data[\\\"reviews\\\"], test_fractions=[0.01, 0]  # [0.25, 0.25]\\n)\";\n",
       "                var nbb_cells = Jupyter.notebook.get_cells();\n",
       "                for (var i = 0; i < nbb_cells.length; ++i) {\n",
       "                    if (nbb_cells[i].input_prompt_number == nbb_cell_id) {\n",
       "                        if (nbb_cells[i].get_text() == nbb_unformatted_code) {\n",
       "                             nbb_cells[i].set_text(nbb_formatted_code);\n",
       "                        }\n",
       "                        break;\n",
       "                    }\n",
       "                }\n",
       "            }, 500);\n",
       "            "
      ],
      "text/plain": [
       "<IPython.core.display.Javascript object>"
      ]
     },
     "metadata": {},
     "output_type": "display_data"
    }
   ],
   "source": [
    "preprocessor = Preprocessor()\n",
    "data = preprocessor.map_ids(data)\n",
    "train_reviews, (validation_reviews, holdout_reviews) = preprocessor.train_test_split(\n",
    "    data[\"reviews\"], test_fractions=[0.01, 0]  # [0.25, 0.25]\n",
    ")"
   ]
  },
  {
   "cell_type": "markdown",
   "metadata": {},
   "source": [
    "**(0.5 балла) Задание 3.** Базовые решения.\n",
    "\n",
    "Сделаем базовые решения:\n",
    "  * Для каждого пользователя выдаём 20 случайных организаций\n",
    "  * Для каждого пользователя выдаём самые популярные организации в неродном городе"
   ]
  },
  {
   "cell_type": "code",
   "execution_count": 8,
   "metadata": {
    "ExecuteTime": {
     "end_time": "2022-08-18T10:22:51.825386Z",
     "start_time": "2022-08-18T10:22:51.797310Z"
    }
   },
   "outputs": [
    {
     "data": {
      "application/javascript": [
       "\n",
       "            setTimeout(function() {\n",
       "                var nbb_cell_id = 8;\n",
       "                var nbb_unformatted_code = \"class RandomRecommender:\\n    def fit(self, reviews):\\n        self.org_ids = reviews[\\\"org_id\\\"].unique()\\n        return self\\n\\n    def recommend(self, user_ids, recommend_size=20):\\n        recommendations = np.random.choice(\\n            self.org_ids, size=(len(user_ids), recommend_size)\\n        )\\n        return pd.DataFrame(recommendations, user_ids)\\n\\n\\nclass PopularRecommender:\\n    def __init__(self, users, organisations):\\n        self.users = users\\n        self.organisations = organisations\\n\\n    def fit(self, reviews):\\n        self.popular_foreign_organisations_for_home_city = {}\\n        organisations = self.organisations.join(\\n            reviews.groupby(\\\"org_id\\\").size().rename(\\\"popularity\\\")\\n        )\\n\\n        for city in organisations[\\\"city\\\"].unique():\\n            self.popular_foreign_organisations_for_home_city[city] = (\\n                organisations.query(\\\"city != @city\\\")\\n                .sort_values(\\\"popularity\\\", ascending=False)\\n                .index.to_numpy()\\n            )\\n        return self\\n\\n    def recommend(self, user_ids, recommend_size=20):\\n        s = pd.Series(\\n            {\\n                city: orgs[:recommend_size]\\n                for city, orgs in self.popular_foreign_organisations_for_home_city.items()\\n            }\\n        )\\n\\n        recommendations = pd.DataFrame(\\n            np.stack(s.loc[self.users.loc[user_ids][\\\"city\\\"]].values), user_ids\\n        )\\n\\n        return recommendations\";\n",
       "                var nbb_formatted_code = \"class RandomRecommender:\\n    def fit(self, reviews):\\n        self.org_ids = reviews[\\\"org_id\\\"].unique()\\n        return self\\n\\n    def recommend(self, user_ids, recommend_size=20):\\n        recommendations = np.random.choice(\\n            self.org_ids, size=(len(user_ids), recommend_size)\\n        )\\n        return pd.DataFrame(recommendations, user_ids)\\n\\n\\nclass PopularRecommender:\\n    def __init__(self, users, organisations):\\n        self.users = users\\n        self.organisations = organisations\\n\\n    def fit(self, reviews):\\n        self.popular_foreign_organisations_for_home_city = {}\\n        organisations = self.organisations.join(\\n            reviews.groupby(\\\"org_id\\\").size().rename(\\\"popularity\\\")\\n        )\\n\\n        for city in organisations[\\\"city\\\"].unique():\\n            self.popular_foreign_organisations_for_home_city[city] = (\\n                organisations.query(\\\"city != @city\\\")\\n                .sort_values(\\\"popularity\\\", ascending=False)\\n                .index.to_numpy()\\n            )\\n        return self\\n\\n    def recommend(self, user_ids, recommend_size=20):\\n        s = pd.Series(\\n            {\\n                city: orgs[:recommend_size]\\n                for city, orgs in self.popular_foreign_organisations_for_home_city.items()\\n            }\\n        )\\n\\n        recommendations = pd.DataFrame(\\n            np.stack(s.loc[self.users.loc[user_ids][\\\"city\\\"]].values), user_ids\\n        )\\n\\n        return recommendations\";\n",
       "                var nbb_cells = Jupyter.notebook.get_cells();\n",
       "                for (var i = 0; i < nbb_cells.length; ++i) {\n",
       "                    if (nbb_cells[i].input_prompt_number == nbb_cell_id) {\n",
       "                        if (nbb_cells[i].get_text() == nbb_unformatted_code) {\n",
       "                             nbb_cells[i].set_text(nbb_formatted_code);\n",
       "                        }\n",
       "                        break;\n",
       "                    }\n",
       "                }\n",
       "            }, 500);\n",
       "            "
      ],
      "text/plain": [
       "<IPython.core.display.Javascript object>"
      ]
     },
     "metadata": {},
     "output_type": "display_data"
    }
   ],
   "source": [
    "class RandomRecommender:\n",
    "    def fit(self, reviews):\n",
    "        self.org_ids = reviews[\"org_id\"].unique()\n",
    "        return self\n",
    "\n",
    "    def recommend(self, user_ids, recommend_size=20):\n",
    "        recommendations = np.random.choice(\n",
    "            self.org_ids, size=(len(user_ids), recommend_size)\n",
    "        )\n",
    "        return pd.DataFrame(recommendations, user_ids)\n",
    "\n",
    "\n",
    "class PopularRecommender:\n",
    "    def __init__(self, users, organisations):\n",
    "        self.users = users\n",
    "        self.organisations = organisations\n",
    "\n",
    "    def fit(self, reviews):\n",
    "        self.popular_foreign_organisations_for_home_city = {}\n",
    "        organisations = self.organisations.join(\n",
    "            reviews.groupby(\"org_id\").size().rename(\"popularity\")\n",
    "        )\n",
    "\n",
    "        for city in organisations[\"city\"].unique():\n",
    "            self.popular_foreign_organisations_for_home_city[city] = (\n",
    "                organisations.query(\"city != @city\")\n",
    "                .sort_values(\"popularity\", ascending=False)\n",
    "                .index.to_numpy()\n",
    "            )\n",
    "        return self\n",
    "\n",
    "    def recommend(self, user_ids, recommend_size=20):\n",
    "        s = pd.Series(\n",
    "            {\n",
    "                city: orgs[:recommend_size]\n",
    "                for city, orgs in self.popular_foreign_organisations_for_home_city.items()\n",
    "            }\n",
    "        )\n",
    "\n",
    "        recommendations = pd.DataFrame(\n",
    "            np.stack(s.loc[self.users.loc[user_ids][\"city\"]].values), user_ids\n",
    "        )\n",
    "\n",
    "        return recommendations"
   ]
  },
  {
   "cell_type": "markdown",
   "metadata": {},
   "source": [
    "**(1.0 балла) Задание 4.** Метрики качества.\n",
    "\n",
    "Напомним, что у нас бинарная релевантнотсь на основе оценки вычисляется как предикат **оценка больше, чем 3**.\n",
    "\n",
    "Реализуйте набор метрик качества (можете оборачивать внешние паекты):\n",
    "\n",
    "    * MNAP@20 (как в описании соревнования)\n",
    "    * HitRate ( = 1, если среди рекомендаций есть хотя бы одна релевантная и 0 иначе)\n",
    "    * MRR@20 ( обратная позиция первой релевантной рекомендации из списка рекомендаций длины K. )\n",
    "    * Coverage (доля item-ов, учитываемых в рекомендациях)\n",
    "    * Surprisal(см. ниже) \n",
    "\n",
    "\n",
    "### Surprisal\n",
    "Посмотирм, насколько наши рекомендации хороши с точки зрения новизны для пользователя, в качестве новизны будем рассматривать \"непопулярность\" айтемов в рекомендациях.\n",
    "\n",
    "Будем рассматривать собственную информацию item-а как меру его новизны.\n",
    "\n",
    "$$selfInformation(i) = -\\log_2 \\frac{|u_i|}{|N|}$$, \n",
    "где \n",
    "$i$ - объект, $|N|$ - число взаимодействий в обучающей выборке,  $|u_i|$ - число пользователей, взаимодействовавших с объектом в обучающей выборке.\n",
    "\n",
    "После подсчета собственной информации усредним значения собственной информации в рекомендациях пользователя.\n",
    "\n",
    "Чтобы получить значения от 0 до 1, разделим значение метрики для пользователя на максимально возможно значение метрики равное $log_2 N$.\n",
    "\n",
    "$$Surprisal(u)@k = \\frac{1}{k \\cdot log_2 N} \\sum_{j = 1}^{k}selfInformation(i_{u,j})$$\n",
    "\n",
    "где $i_{u,j}$ это j-й объект, который мы порекомендововали пользователю.\n",
    "\n",
    "Получившаяся метрика похожа на энтропию Шеннона:\n",
    "$$H = - K \\sum_{i\\in R}{p_i log p_i}$$\n",
    "\n",
    "\n",
    "Результа усредним по пользователям.\n",
    "\n",
    "### Что нужно сделать\n",
    "    \n",
    "  * Создайте функцию, которая генерирует словарь с метриками, по предоставленному решению.\n",
    "\n",
    "  * Оцените baseline-решения на валидации."
   ]
  },
  {
   "cell_type": "code",
   "execution_count": 9,
   "metadata": {
    "ExecuteTime": {
     "end_time": "2022-08-18T10:22:52.492160Z",
     "start_time": "2022-08-18T10:22:51.829304Z"
    }
   },
   "outputs": [
    {
     "data": {
      "application/javascript": [
       "\n",
       "            setTimeout(function() {\n",
       "                var nbb_cell_id = 9;\n",
       "                var nbb_unformatted_code = \"import einops\\n\\nfrom numba import njit\\n\\n\\nclass Metrics:\\n    def __init__(self, relevant_pairs, k=20):\\n        self.relevant_pairs = relevant_pairs\\n        self.k = k\\n        self._invalid_org_mark = -1\\n\\n    @staticmethod\\n    @njit\\n    def mark_duplicates_as_invalid(recommended_orgs, invalid_mark):\\n        result = recommended_orgs.copy()\\n        for i, orgs in enumerate(recommended_orgs):\\n            occurences = []\\n            for j, org in enumerate(orgs):\\n                if org in occurences:\\n                    result[i, j] = invalid_mark\\n                else:\\n                    occurences.append(org)\\n\\n        return result\\n\\n    @staticmethod\\n    @njit\\n    def binary_relevance(relevant_pairs, recommendee_user_ids, recommended_org_ids):\\n        user_ids, org_ids = relevant_pairs[np.argsort(relevant_pairs[:, 0])].T\\n        splits = np.flatnonzero(user_ids[1:] != user_ids[:-1]) + 1\\n        starts = np.concatenate((np.array([0]), splits))\\n\\n        start_indices = np.zeros(user_ids.max() + 1)\\n        end_indices = np.zeros_like(start_indices)\\n        unique_users = user_ids[starts]\\n\\n        start_indices[unique_users] = starts\\n        end_indices[unique_users] = np.concatenate((splits, np.array([len(user_ids)])))\\n\\n        relevance = np.empty_like(recommended_org_ids)\\n        for i, (user_id, orgs_for_user) in enumerate(\\n            zip(recommendee_user_ids, recommended_org_ids)\\n        ):\\n            relevant_orgs = org_ids[start_indices[user_id] : end_indices[user_id]]\\n            for j, org_id in enumerate(orgs_for_user):\\n                relevance[i, j] = org_id in relevant_orgs\\n\\n        return relevance\\n\\n    @property\\n    @functools.lru_cache()\\n    def _org_ids(self):\\n        return set(self.relevant_pairs[\\\"org_id\\\"])\\n\\n    @property\\n    @functools.lru_cache()\\n    def _n_reviews_per_user(self):\\n        return self.relevant_pairs.groupby(\\\"user_id\\\").size()\\n\\n    @staticmethod\\n    def precision(relevance):\\n        return np.cumsum(relevance, axis=1) / np.arange(1, relevance.shape[1] + 1)\\n\\n    @property\\n    @functools.lru_cache()\\n    def _normalized_self_information(self):\\n        n_org_interactions = self.relevant_pairs.groupby(\\\"org_id\\\").size()\\n        self_information = 1 - np.log2(n_org_interactions) / np.log2(\\n            len(self.relevant_pairs)\\n        )\\n        return self_information.fillna(0)\\n\\n    def ideal_average_precision(self, user_recomendees):\\n        n_relevant_orgs = self._n_reviews_per_user.reindex(user_recomendees).fillna(1)\\n        positions = np.arange(1, self.k + 1)\\n        ideal_relevant_count_for_position = np.minimum(\\n            positions, einops.rearrange(n_relevant_orgs.values, \\\"x -> x ()\\\")\\n        )\\n        ideal_ap = (ideal_relevant_count_for_position / positions).mean(axis=1)\\n        return ideal_ap\\n\\n    def normalized_average_precision(self, user_recomendees, relevance):\\n        average_precision = self.precision(relevance).mean(axis=1)\\n        ideal_ap = self.ideal_average_precision(user_recomendees)\\n        return average_precision / ideal_ap\\n\\n    @staticmethod\\n    def hitrate(relevance):\\n        return np.any(relevance, axis=1)\\n\\n    @staticmethod\\n    def reciprocal_rank(relevance):\\n        return (relevance / np.arange(1, relevance.shape[1] + 1)).max(axis=1)\\n\\n    def coverage(self, recommended_orgs):\\n        unique_recommended_orgs = set(recommended_orgs.flatten())\\n        unique_recommended_orgs.discard(self._invalid_org_mark)\\n        org_ids = self._org_ids\\n        return len(unique_recommended_orgs & org_ids) / len(org_ids)\\n\\n    @staticmethod\\n    @njit\\n    def jit_surpisal(org_ids, self_information_per_org, recomendee_org_ids):\\n        self_information_lookup = np.zeros(org_ids.max() + 1)\\n        self_information_lookup[org_ids] = self_information_per_org\\n\\n        self_information = self_information_lookup[recomendee_org_ids.flatten()]\\n        self_information = self_information.reshape(recomendee_org_ids.shape)\\n\\n        surprisal = np.empty(recomendee_org_ids.shape[0])\\n        for i, row in enumerate(self_information):\\n            surprisal[i] = row.mean()\\n\\n        return surprisal\\n\\n    def surprisal(self, recommended_orgs):\\n        return self.jit_surpisal(\\n            self._normalized_self_information.index.to_numpy(),\\n            self._normalized_self_information.values,\\n            recommended_orgs,\\n        )\\n\\n    def calculate_metrics(self, recommendations):\\n        recommendations = recommendations.iloc[:, : self.k].astype(np.int32)\\n\\n        user_recomendees = recommendations.index.to_numpy()\\n        recommended_orgs = recommendations.values\\n\\n        recommended_orgs = self.mark_duplicates_as_invalid(\\n            recommended_orgs, self._invalid_org_mark\\n        )\\n\\n        relevance = self.binary_relevance(\\n            self.relevant_pairs.values,\\n            user_recomendees,\\n            recommended_orgs,\\n        )\\n\\n        results = pd.Series(\\n            {\\n                \\\"mnap\\\": self.normalized_average_precision(\\n                    user_recomendees, relevance\\n                ).mean(),\\n                \\\"hitrate\\\": self.hitrate(relevance).mean(),\\n                \\\"mrr\\\": self.reciprocal_rank(relevance).mean(),\\n                \\\"coverage\\\": self.coverage(recommended_orgs),\\n                \\\"surprisal\\\": self.surprisal(recommended_orgs).mean(),\\n            }\\n        )\\n        return results\";\n",
       "                var nbb_formatted_code = \"import einops\\n\\nfrom numba import njit\\n\\n\\nclass Metrics:\\n    def __init__(self, relevant_pairs, k=20):\\n        self.relevant_pairs = relevant_pairs\\n        self.k = k\\n        self._invalid_org_mark = -1\\n\\n    @staticmethod\\n    @njit\\n    def mark_duplicates_as_invalid(recommended_orgs, invalid_mark):\\n        result = recommended_orgs.copy()\\n        for i, orgs in enumerate(recommended_orgs):\\n            occurences = []\\n            for j, org in enumerate(orgs):\\n                if org in occurences:\\n                    result[i, j] = invalid_mark\\n                else:\\n                    occurences.append(org)\\n\\n        return result\\n\\n    @staticmethod\\n    @njit\\n    def binary_relevance(relevant_pairs, recommendee_user_ids, recommended_org_ids):\\n        user_ids, org_ids = relevant_pairs[np.argsort(relevant_pairs[:, 0])].T\\n        splits = np.flatnonzero(user_ids[1:] != user_ids[:-1]) + 1\\n        starts = np.concatenate((np.array([0]), splits))\\n\\n        start_indices = np.zeros(user_ids.max() + 1)\\n        end_indices = np.zeros_like(start_indices)\\n        unique_users = user_ids[starts]\\n\\n        start_indices[unique_users] = starts\\n        end_indices[unique_users] = np.concatenate((splits, np.array([len(user_ids)])))\\n\\n        relevance = np.empty_like(recommended_org_ids)\\n        for i, (user_id, orgs_for_user) in enumerate(\\n            zip(recommendee_user_ids, recommended_org_ids)\\n        ):\\n            relevant_orgs = org_ids[start_indices[user_id] : end_indices[user_id]]\\n            for j, org_id in enumerate(orgs_for_user):\\n                relevance[i, j] = org_id in relevant_orgs\\n\\n        return relevance\\n\\n    @property\\n    @functools.lru_cache()\\n    def _org_ids(self):\\n        return set(self.relevant_pairs[\\\"org_id\\\"])\\n\\n    @property\\n    @functools.lru_cache()\\n    def _n_reviews_per_user(self):\\n        return self.relevant_pairs.groupby(\\\"user_id\\\").size()\\n\\n    @staticmethod\\n    def precision(relevance):\\n        return np.cumsum(relevance, axis=1) / np.arange(1, relevance.shape[1] + 1)\\n\\n    @property\\n    @functools.lru_cache()\\n    def _normalized_self_information(self):\\n        n_org_interactions = self.relevant_pairs.groupby(\\\"org_id\\\").size()\\n        self_information = 1 - np.log2(n_org_interactions) / np.log2(\\n            len(self.relevant_pairs)\\n        )\\n        return self_information.fillna(0)\\n\\n    def ideal_average_precision(self, user_recomendees):\\n        n_relevant_orgs = self._n_reviews_per_user.reindex(user_recomendees).fillna(1)\\n        positions = np.arange(1, self.k + 1)\\n        ideal_relevant_count_for_position = np.minimum(\\n            positions, einops.rearrange(n_relevant_orgs.values, \\\"x -> x ()\\\")\\n        )\\n        ideal_ap = (ideal_relevant_count_for_position / positions).mean(axis=1)\\n        return ideal_ap\\n\\n    def normalized_average_precision(self, user_recomendees, relevance):\\n        average_precision = self.precision(relevance).mean(axis=1)\\n        ideal_ap = self.ideal_average_precision(user_recomendees)\\n        return average_precision / ideal_ap\\n\\n    @staticmethod\\n    def hitrate(relevance):\\n        return np.any(relevance, axis=1)\\n\\n    @staticmethod\\n    def reciprocal_rank(relevance):\\n        return (relevance / np.arange(1, relevance.shape[1] + 1)).max(axis=1)\\n\\n    def coverage(self, recommended_orgs):\\n        unique_recommended_orgs = set(recommended_orgs.flatten())\\n        unique_recommended_orgs.discard(self._invalid_org_mark)\\n        org_ids = self._org_ids\\n        return len(unique_recommended_orgs & org_ids) / len(org_ids)\\n\\n    @staticmethod\\n    @njit\\n    def jit_surpisal(org_ids, self_information_per_org, recomendee_org_ids):\\n        self_information_lookup = np.zeros(org_ids.max() + 1)\\n        self_information_lookup[org_ids] = self_information_per_org\\n\\n        self_information = self_information_lookup[recomendee_org_ids.flatten()]\\n        self_information = self_information.reshape(recomendee_org_ids.shape)\\n\\n        surprisal = np.empty(recomendee_org_ids.shape[0])\\n        for i, row in enumerate(self_information):\\n            surprisal[i] = row.mean()\\n\\n        return surprisal\\n\\n    def surprisal(self, recommended_orgs):\\n        return self.jit_surpisal(\\n            self._normalized_self_information.index.to_numpy(),\\n            self._normalized_self_information.values,\\n            recommended_orgs,\\n        )\\n\\n    def calculate_metrics(self, recommendations):\\n        recommendations = recommendations.iloc[:, : self.k].astype(np.int32)\\n\\n        user_recomendees = recommendations.index.to_numpy()\\n        recommended_orgs = recommendations.values\\n\\n        recommended_orgs = self.mark_duplicates_as_invalid(\\n            recommended_orgs, self._invalid_org_mark\\n        )\\n\\n        relevance = self.binary_relevance(\\n            self.relevant_pairs.values,\\n            user_recomendees,\\n            recommended_orgs,\\n        )\\n\\n        results = pd.Series(\\n            {\\n                \\\"mnap\\\": self.normalized_average_precision(\\n                    user_recomendees, relevance\\n                ).mean(),\\n                \\\"hitrate\\\": self.hitrate(relevance).mean(),\\n                \\\"mrr\\\": self.reciprocal_rank(relevance).mean(),\\n                \\\"coverage\\\": self.coverage(recommended_orgs),\\n                \\\"surprisal\\\": self.surprisal(recommended_orgs).mean(),\\n            }\\n        )\\n        return results\";\n",
       "                var nbb_cells = Jupyter.notebook.get_cells();\n",
       "                for (var i = 0; i < nbb_cells.length; ++i) {\n",
       "                    if (nbb_cells[i].input_prompt_number == nbb_cell_id) {\n",
       "                        if (nbb_cells[i].get_text() == nbb_unformatted_code) {\n",
       "                             nbb_cells[i].set_text(nbb_formatted_code);\n",
       "                        }\n",
       "                        break;\n",
       "                    }\n",
       "                }\n",
       "            }, 500);\n",
       "            "
      ],
      "text/plain": [
       "<IPython.core.display.Javascript object>"
      ]
     },
     "metadata": {},
     "output_type": "display_data"
    }
   ],
   "source": [
    "import einops\n",
    "\n",
    "from numba import njit\n",
    "\n",
    "\n",
    "class Metrics:\n",
    "    def __init__(self, relevant_pairs, k=20):\n",
    "        self.relevant_pairs = relevant_pairs\n",
    "        self.k = k\n",
    "        self._invalid_org_mark = -1\n",
    "\n",
    "    @staticmethod\n",
    "    @njit\n",
    "    def mark_duplicates_as_invalid(recommended_orgs, invalid_mark):\n",
    "        result = recommended_orgs.copy()\n",
    "        for i, orgs in enumerate(recommended_orgs):\n",
    "            occurences = []\n",
    "            for j, org in enumerate(orgs):\n",
    "                if org in occurences:\n",
    "                    result[i, j] = invalid_mark\n",
    "                else:\n",
    "                    occurences.append(org)\n",
    "\n",
    "        return result\n",
    "\n",
    "    @staticmethod\n",
    "    @njit\n",
    "    def binary_relevance(relevant_pairs, recommendee_user_ids, recommended_org_ids):\n",
    "        user_ids, org_ids = relevant_pairs[np.argsort(relevant_pairs[:, 0])].T\n",
    "        splits = np.flatnonzero(user_ids[1:] != user_ids[:-1]) + 1\n",
    "        starts = np.concatenate((np.array([0]), splits))\n",
    "\n",
    "        start_indices = np.zeros(user_ids.max() + 1)\n",
    "        end_indices = np.zeros_like(start_indices)\n",
    "        unique_users = user_ids[starts]\n",
    "\n",
    "        start_indices[unique_users] = starts\n",
    "        end_indices[unique_users] = np.concatenate((splits, np.array([len(user_ids)])))\n",
    "\n",
    "        relevance = np.empty_like(recommended_org_ids)\n",
    "        for i, (user_id, orgs_for_user) in enumerate(\n",
    "            zip(recommendee_user_ids, recommended_org_ids)\n",
    "        ):\n",
    "            relevant_orgs = org_ids[start_indices[user_id] : end_indices[user_id]]\n",
    "            for j, org_id in enumerate(orgs_for_user):\n",
    "                relevance[i, j] = org_id in relevant_orgs\n",
    "\n",
    "        return relevance\n",
    "\n",
    "    @property\n",
    "    @functools.lru_cache()\n",
    "    def _org_ids(self):\n",
    "        return set(self.relevant_pairs[\"org_id\"])\n",
    "\n",
    "    @property\n",
    "    @functools.lru_cache()\n",
    "    def _n_reviews_per_user(self):\n",
    "        return self.relevant_pairs.groupby(\"user_id\").size()\n",
    "\n",
    "    @staticmethod\n",
    "    def precision(relevance):\n",
    "        return np.cumsum(relevance, axis=1) / np.arange(1, relevance.shape[1] + 1)\n",
    "\n",
    "    @property\n",
    "    @functools.lru_cache()\n",
    "    def _normalized_self_information(self):\n",
    "        n_org_interactions = self.relevant_pairs.groupby(\"org_id\").size()\n",
    "        self_information = 1 - np.log2(n_org_interactions) / np.log2(\n",
    "            len(self.relevant_pairs)\n",
    "        )\n",
    "        return self_information.fillna(0)\n",
    "\n",
    "    def ideal_average_precision(self, user_recomendees):\n",
    "        n_relevant_orgs = self._n_reviews_per_user.reindex(user_recomendees).fillna(1)\n",
    "        positions = np.arange(1, self.k + 1)\n",
    "        ideal_relevant_count_for_position = np.minimum(\n",
    "            positions, einops.rearrange(n_relevant_orgs.values, \"x -> x ()\")\n",
    "        )\n",
    "        ideal_ap = (ideal_relevant_count_for_position / positions).mean(axis=1)\n",
    "        return ideal_ap\n",
    "\n",
    "    def normalized_average_precision(self, user_recomendees, relevance):\n",
    "        average_precision = self.precision(relevance).mean(axis=1)\n",
    "        ideal_ap = self.ideal_average_precision(user_recomendees)\n",
    "        return average_precision / ideal_ap\n",
    "\n",
    "    @staticmethod\n",
    "    def hitrate(relevance):\n",
    "        return np.any(relevance, axis=1)\n",
    "\n",
    "    @staticmethod\n",
    "    def reciprocal_rank(relevance):\n",
    "        return (relevance / np.arange(1, relevance.shape[1] + 1)).max(axis=1)\n",
    "\n",
    "    def coverage(self, recommended_orgs):\n",
    "        unique_recommended_orgs = set(recommended_orgs.flatten())\n",
    "        unique_recommended_orgs.discard(self._invalid_org_mark)\n",
    "        org_ids = self._org_ids\n",
    "        return len(unique_recommended_orgs & org_ids) / len(org_ids)\n",
    "\n",
    "    @staticmethod\n",
    "    @njit\n",
    "    def jit_surpisal(org_ids, self_information_per_org, recomendee_org_ids):\n",
    "        self_information_lookup = np.zeros(org_ids.max() + 1)\n",
    "        self_information_lookup[org_ids] = self_information_per_org\n",
    "\n",
    "        self_information = self_information_lookup[recomendee_org_ids.flatten()]\n",
    "        self_information = self_information.reshape(recomendee_org_ids.shape)\n",
    "\n",
    "        surprisal = np.empty(recomendee_org_ids.shape[0])\n",
    "        for i, row in enumerate(self_information):\n",
    "            surprisal[i] = row.mean()\n",
    "\n",
    "        return surprisal\n",
    "\n",
    "    def surprisal(self, recommended_orgs):\n",
    "        return self.jit_surpisal(\n",
    "            self._normalized_self_information.index.to_numpy(),\n",
    "            self._normalized_self_information.values,\n",
    "            recommended_orgs,\n",
    "        )\n",
    "\n",
    "    def calculate_metrics(self, recommendations):\n",
    "        recommendations = recommendations.iloc[:, : self.k].astype(np.int32)\n",
    "\n",
    "        user_recomendees = recommendations.index.to_numpy()\n",
    "        recommended_orgs = recommendations.values\n",
    "\n",
    "        recommended_orgs = self.mark_duplicates_as_invalid(\n",
    "            recommended_orgs, self._invalid_org_mark\n",
    "        )\n",
    "\n",
    "        relevance = self.binary_relevance(\n",
    "            self.relevant_pairs.values,\n",
    "            user_recomendees,\n",
    "            recommended_orgs,\n",
    "        )\n",
    "\n",
    "        results = pd.Series(\n",
    "            {\n",
    "                \"mnap\": self.normalized_average_precision(\n",
    "                    user_recomendees, relevance\n",
    "                ).mean(),\n",
    "                \"hitrate\": self.hitrate(relevance).mean(),\n",
    "                \"mrr\": self.reciprocal_rank(relevance).mean(),\n",
    "                \"coverage\": self.coverage(recommended_orgs),\n",
    "                \"surprisal\": self.surprisal(recommended_orgs).mean(),\n",
    "            }\n",
    "        )\n",
    "        return results"
   ]
  },
  {
   "cell_type": "code",
   "execution_count": 10,
   "metadata": {
    "ExecuteTime": {
     "end_time": "2022-08-18T10:22:52.550576Z",
     "start_time": "2022-08-18T10:22:52.499657Z"
    }
   },
   "outputs": [
    {
     "data": {
      "application/javascript": [
       "\n",
       "            setTimeout(function() {\n",
       "                var nbb_cell_id = 10;\n",
       "                var nbb_unformatted_code = \"import pickle\\n\\n\\nclass Assessor:\\n    def __init__(self, data, train_reviews, validation_reviews):\\n        self.data = data\\n        self.train_reviews = train_reviews\\n        self.validation_reviews = validation_reviews\\n        self.train_users = train_reviews[\\\"user_id\\\"].unique()\\n        self.validation_users = validation_reviews[\\\"user_id\\\"].unique()\\n        self.train_metrics = Metrics(\\n            train_reviews.query(\\\"rating >= 4\\\")[[\\\"user_id\\\", \\\"org_id\\\"]]\\n        )\\n        self.val_metrics = Metrics(\\n            validation_reviews.query(\\\"rating >= 4\\\")[[\\\"user_id\\\", \\\"org_id\\\"]]\\n        )\\n        self.assessments = {}\\n\\n    def assess_model(self, model, name):\\n        model.fit(self.train_reviews)\\n\\n        train_recommendations = model.recommend(self.train_users)\\n        val_recommendations = model.recommend(self.validation_users)\\n\\n        train_metrics = self.train_metrics.calculate_metrics(train_recommendations)\\n        val_metrics = self.val_metrics.calculate_metrics(val_recommendations)\\n\\n        self.assessments[name] = {\\n            \\\"train_recommendations\\\": train_recommendations,\\n            \\\"val_recommendations\\\": val_recommendations,\\n            \\\"train_metrics\\\": train_metrics.rename(name),\\n            \\\"val_metrics\\\": val_metrics.rename(name),\\n        }\\n        pickle.dump(self.assessments, open(\\\"assessments.pickle\\\", \\\"wb\\\"))\\n\\n    def assess(self, models):\\n        for name, model in models.items():\\n            self.assess_model(model, name)\\n\\n    def load_assessments(self):\\n        self.assessments = pickle.load(open(\\\"assessments.pickle\\\", \\\"rb\\\"))\\n\\n    def show_metrics(self, kind=\\\"hist\\\"):\\n        metrics = []\\n        for dataset in [\\\"train\\\", \\\"val\\\"]:\\n            metrics.append(\\n                pd.concat(\\n                    [i[f\\\"{dataset}_metrics\\\"] for i in self.assessments.values()],\\n                    axis=\\\"columns\\\",\\n                )\\n                .T.add_prefix(f\\\"{dataset}_\\\")\\n                .T\\n            )\\n\\n        metrics = pd.concat(metrics).reindex(\\n            np.array(list(zip(*[i.index for i in metrics]))).flatten()\\n        )\\n        if kind == \\\"hist\\\":\\n            return self.hist_metrics(metrics)\\n        elif kind == \\\"table\\\":\\n            return self.table_metrics(metrics)\\n        else:\\n            raise ValueError(\\\"Unknown visualization method.\\\")\\n\\n    @staticmethod\\n    def hist_metrics(metrics):\\n        metrics.plot(\\n            figsize=(16, 6),\\n            kind=\\\"bar\\\",\\n            log=True,\\n            title=\\\"Model metrics, log scale\\\",\\n            rot=0,\\n        )\\n\\n    @staticmethod\\n    def table_metrics(metrics):\\n        return metrics.T.style.background_gradient(cmap=\\\"coolwarm\\\", low=0.5, high=0.5)\";\n",
       "                var nbb_formatted_code = \"import pickle\\n\\n\\nclass Assessor:\\n    def __init__(self, data, train_reviews, validation_reviews):\\n        self.data = data\\n        self.train_reviews = train_reviews\\n        self.validation_reviews = validation_reviews\\n        self.train_users = train_reviews[\\\"user_id\\\"].unique()\\n        self.validation_users = validation_reviews[\\\"user_id\\\"].unique()\\n        self.train_metrics = Metrics(\\n            train_reviews.query(\\\"rating >= 4\\\")[[\\\"user_id\\\", \\\"org_id\\\"]]\\n        )\\n        self.val_metrics = Metrics(\\n            validation_reviews.query(\\\"rating >= 4\\\")[[\\\"user_id\\\", \\\"org_id\\\"]]\\n        )\\n        self.assessments = {}\\n\\n    def assess_model(self, model, name):\\n        model.fit(self.train_reviews)\\n\\n        train_recommendations = model.recommend(self.train_users)\\n        val_recommendations = model.recommend(self.validation_users)\\n\\n        train_metrics = self.train_metrics.calculate_metrics(train_recommendations)\\n        val_metrics = self.val_metrics.calculate_metrics(val_recommendations)\\n\\n        self.assessments[name] = {\\n            \\\"train_recommendations\\\": train_recommendations,\\n            \\\"val_recommendations\\\": val_recommendations,\\n            \\\"train_metrics\\\": train_metrics.rename(name),\\n            \\\"val_metrics\\\": val_metrics.rename(name),\\n        }\\n        pickle.dump(self.assessments, open(\\\"assessments.pickle\\\", \\\"wb\\\"))\\n\\n    def assess(self, models):\\n        for name, model in models.items():\\n            self.assess_model(model, name)\\n\\n    def load_assessments(self):\\n        self.assessments = pickle.load(open(\\\"assessments.pickle\\\", \\\"rb\\\"))\\n\\n    def show_metrics(self, kind=\\\"hist\\\"):\\n        metrics = []\\n        for dataset in [\\\"train\\\", \\\"val\\\"]:\\n            metrics.append(\\n                pd.concat(\\n                    [i[f\\\"{dataset}_metrics\\\"] for i in self.assessments.values()],\\n                    axis=\\\"columns\\\",\\n                )\\n                .T.add_prefix(f\\\"{dataset}_\\\")\\n                .T\\n            )\\n\\n        metrics = pd.concat(metrics).reindex(\\n            np.array(list(zip(*[i.index for i in metrics]))).flatten()\\n        )\\n        if kind == \\\"hist\\\":\\n            return self.hist_metrics(metrics)\\n        elif kind == \\\"table\\\":\\n            return self.table_metrics(metrics)\\n        else:\\n            raise ValueError(\\\"Unknown visualization method.\\\")\\n\\n    @staticmethod\\n    def hist_metrics(metrics):\\n        metrics.plot(\\n            figsize=(16, 6),\\n            kind=\\\"bar\\\",\\n            log=True,\\n            title=\\\"Model metrics, log scale\\\",\\n            rot=0,\\n        )\\n\\n    @staticmethod\\n    def table_metrics(metrics):\\n        return metrics.T.style.background_gradient(cmap=\\\"coolwarm\\\", low=0.5, high=0.5)\";\n",
       "                var nbb_cells = Jupyter.notebook.get_cells();\n",
       "                for (var i = 0; i < nbb_cells.length; ++i) {\n",
       "                    if (nbb_cells[i].input_prompt_number == nbb_cell_id) {\n",
       "                        if (nbb_cells[i].get_text() == nbb_unformatted_code) {\n",
       "                             nbb_cells[i].set_text(nbb_formatted_code);\n",
       "                        }\n",
       "                        break;\n",
       "                    }\n",
       "                }\n",
       "            }, 500);\n",
       "            "
      ],
      "text/plain": [
       "<IPython.core.display.Javascript object>"
      ]
     },
     "metadata": {},
     "output_type": "display_data"
    }
   ],
   "source": [
    "import pickle\n",
    "\n",
    "\n",
    "class Assessor:\n",
    "    def __init__(self, data, train_reviews, validation_reviews):\n",
    "        self.data = data\n",
    "        self.train_reviews = train_reviews\n",
    "        self.validation_reviews = validation_reviews\n",
    "        self.train_users = train_reviews[\"user_id\"].unique()\n",
    "        self.validation_users = validation_reviews[\"user_id\"].unique()\n",
    "        self.train_metrics = Metrics(\n",
    "            train_reviews.query(\"rating >= 4\")[[\"user_id\", \"org_id\"]]\n",
    "        )\n",
    "        self.val_metrics = Metrics(\n",
    "            validation_reviews.query(\"rating >= 4\")[[\"user_id\", \"org_id\"]]\n",
    "        )\n",
    "        self.assessments = {}\n",
    "\n",
    "    def assess_model(self, model, name):\n",
    "        model.fit(self.train_reviews)\n",
    "\n",
    "        train_recommendations = model.recommend(self.train_users)\n",
    "        val_recommendations = model.recommend(self.validation_users)\n",
    "\n",
    "        train_metrics = self.train_metrics.calculate_metrics(train_recommendations)\n",
    "        val_metrics = self.val_metrics.calculate_metrics(val_recommendations)\n",
    "\n",
    "        self.assessments[name] = {\n",
    "            \"train_recommendations\": train_recommendations,\n",
    "            \"val_recommendations\": val_recommendations,\n",
    "            \"train_metrics\": train_metrics.rename(name),\n",
    "            \"val_metrics\": val_metrics.rename(name),\n",
    "        }\n",
    "        pickle.dump(self.assessments, open(\"assessments.pickle\", \"wb\"))\n",
    "\n",
    "    def assess(self, models):\n",
    "        for name, model in models.items():\n",
    "            self.assess_model(model, name)\n",
    "\n",
    "    def load_assessments(self):\n",
    "        self.assessments = pickle.load(open(\"assessments.pickle\", \"rb\"))\n",
    "\n",
    "    def show_metrics(self, kind=\"hist\"):\n",
    "        metrics = []\n",
    "        for dataset in [\"train\", \"val\"]:\n",
    "            metrics.append(\n",
    "                pd.concat(\n",
    "                    [i[f\"{dataset}_metrics\"] for i in self.assessments.values()],\n",
    "                    axis=\"columns\",\n",
    "                )\n",
    "                .T.add_prefix(f\"{dataset}_\")\n",
    "                .T\n",
    "            )\n",
    "\n",
    "        metrics = pd.concat(metrics).reindex(\n",
    "            np.array(list(zip(*[i.index for i in metrics]))).flatten()\n",
    "        )\n",
    "        if kind == \"hist\":\n",
    "            return self.hist_metrics(metrics)\n",
    "        elif kind == \"table\":\n",
    "            return self.table_metrics(metrics)\n",
    "        else:\n",
    "            raise ValueError(\"Unknown visualization method.\")\n",
    "\n",
    "    @staticmethod\n",
    "    def hist_metrics(metrics):\n",
    "        metrics.plot(\n",
    "            figsize=(16, 6),\n",
    "            kind=\"bar\",\n",
    "            log=True,\n",
    "            title=\"Model metrics, log scale\",\n",
    "            rot=0,\n",
    "        )\n",
    "\n",
    "    @staticmethod\n",
    "    def table_metrics(metrics):\n",
    "        return metrics.T.style.background_gradient(cmap=\"coolwarm\", low=0.5, high=0.5)"
   ]
  },
  {
   "cell_type": "code",
   "execution_count": 11,
   "metadata": {
    "ExecuteTime": {
     "end_time": "2022-08-18T10:22:52.669787Z",
     "start_time": "2022-08-18T10:22:52.558763Z"
    }
   },
   "outputs": [
    {
     "data": {
      "application/javascript": [
       "\n",
       "            setTimeout(function() {\n",
       "                var nbb_cell_id = 11;\n",
       "                var nbb_unformatted_code = \"assessor = Assessor(data, train_reviews, validation_reviews)\";\n",
       "                var nbb_formatted_code = \"assessor = Assessor(data, train_reviews, validation_reviews)\";\n",
       "                var nbb_cells = Jupyter.notebook.get_cells();\n",
       "                for (var i = 0; i < nbb_cells.length; ++i) {\n",
       "                    if (nbb_cells[i].input_prompt_number == nbb_cell_id) {\n",
       "                        if (nbb_cells[i].get_text() == nbb_unformatted_code) {\n",
       "                             nbb_cells[i].set_text(nbb_formatted_code);\n",
       "                        }\n",
       "                        break;\n",
       "                    }\n",
       "                }\n",
       "            }, 500);\n",
       "            "
      ],
      "text/plain": [
       "<IPython.core.display.Javascript object>"
      ]
     },
     "metadata": {},
     "output_type": "display_data"
    }
   ],
   "source": [
    "assessor = Assessor(data, train_reviews, validation_reviews)"
   ]
  },
  {
   "cell_type": "code",
   "execution_count": 12,
   "metadata": {
    "ExecuteTime": {
     "end_time": "2022-08-18T10:23:00.170731Z",
     "start_time": "2022-08-18T10:22:52.672239Z"
    }
   },
   "outputs": [
    {
     "data": {
      "application/javascript": [
       "\n",
       "            setTimeout(function() {\n",
       "                var nbb_cell_id = 12;\n",
       "                var nbb_unformatted_code = \"baseline_models = {\\n    \\\"random\\\": RandomRecommender(),\\n    \\\"popular\\\": PopularRecommender(data[\\\"users\\\"], data[\\\"organisations\\\"]),\\n}\\nassessor.assess(baseline_models)\";\n",
       "                var nbb_formatted_code = \"baseline_models = {\\n    \\\"random\\\": RandomRecommender(),\\n    \\\"popular\\\": PopularRecommender(data[\\\"users\\\"], data[\\\"organisations\\\"]),\\n}\\nassessor.assess(baseline_models)\";\n",
       "                var nbb_cells = Jupyter.notebook.get_cells();\n",
       "                for (var i = 0; i < nbb_cells.length; ++i) {\n",
       "                    if (nbb_cells[i].input_prompt_number == nbb_cell_id) {\n",
       "                        if (nbb_cells[i].get_text() == nbb_unformatted_code) {\n",
       "                             nbb_cells[i].set_text(nbb_formatted_code);\n",
       "                        }\n",
       "                        break;\n",
       "                    }\n",
       "                }\n",
       "            }, 500);\n",
       "            "
      ],
      "text/plain": [
       "<IPython.core.display.Javascript object>"
      ]
     },
     "metadata": {},
     "output_type": "display_data"
    }
   ],
   "source": [
    "baseline_models = {\n",
    "    \"random\": RandomRecommender(),\n",
    "    \"popular\": PopularRecommender(data[\"users\"], data[\"organisations\"]),\n",
    "}\n",
    "assessor.assess(baseline_models)"
   ]
  },
  {
   "cell_type": "code",
   "execution_count": 13,
   "metadata": {
    "ExecuteTime": {
     "end_time": "2022-08-18T10:23:01.450469Z",
     "start_time": "2022-08-18T10:23:00.176388Z"
    }
   },
   "outputs": [
    {
     "data": {
      "image/png": "[encoded data removed]",
      "text/plain": [
       "<Figure size 1152x432 with 1 Axes>"
      ]
     },
     "metadata": {
      "needs_background": "light"
     },
     "output_type": "display_data"
    },
    {
     "data": {
      "application/javascript": [
       "\n",
       "            setTimeout(function() {\n",
       "                var nbb_cell_id = 13;\n",
       "                var nbb_unformatted_code = \"assessor.show_metrics()\";\n",
       "                var nbb_formatted_code = \"assessor.show_metrics()\";\n",
       "                var nbb_cells = Jupyter.notebook.get_cells();\n",
       "                for (var i = 0; i < nbb_cells.length; ++i) {\n",
       "                    if (nbb_cells[i].input_prompt_number == nbb_cell_id) {\n",
       "                        if (nbb_cells[i].get_text() == nbb_unformatted_code) {\n",
       "                             nbb_cells[i].set_text(nbb_formatted_code);\n",
       "                        }\n",
       "                        break;\n",
       "                    }\n",
       "                }\n",
       "            }, 500);\n",
       "            "
      ],
      "text/plain": [
       "<IPython.core.display.Javascript object>"
      ]
     },
     "metadata": {},
     "output_type": "display_data"
    }
   ],
   "source": [
    "assessor.show_metrics()"
   ]
  },
  {
   "cell_type": "markdown",
   "metadata": {},
   "source": [
    "**(1.0 балла) Задание 5.** Метод Memory based. User-2-User or Item-2-Item\n",
    "\n",
    "Теперь рассмотрим [memory-based](https://en.wikipedia.org/wiki/Collaborative_filtering#Memory-based) методы рекоммендаций.\n",
    "Подход, лежащий в их основе, использует данные о рейтингах для вычисления сходства между пользователями (user-based) или объектами (item-based), на основе этих данных делаются предсказания рейтингов и, в дальнейшем, строятся рекоммендации. Эти методы просты в реализации и эффективны на ранних стадиях разработки рекомендательных систем.\n",
    "                                 \n",
    "              \n",
    "За последние годы было создано много библиотек для реализации алгоримтов построения рекомендаций.      \n",
    "  * https://github.com/benfred/implicit\n",
    "  * https://sberbank-ai-lab.github.io/RePlay/index.html\n",
    "  * https://github.com/apple/turicreate \n",
    "  * https://github.com/caserec/CaseRecommender\n",
    "\n",
    "Выеберите одну из них и постройте предсказания на основании совместной фильтрации по близости пользователей или по близости объектов.\n",
    "\n",
    "Если обучение идёт слишком долго подумайте про семплирование данных. Обоснуйте выбранную стратегию семплирования.\n",
    "\n"
   ]
  },
  {
   "cell_type": "code",
   "execution_count": 14,
   "metadata": {
    "ExecuteTime": {
     "end_time": "2022-08-18T10:23:02.057339Z",
     "start_time": "2022-08-18T10:23:01.452534Z"
    }
   },
   "outputs": [
    {
     "data": {
      "application/javascript": [
       "\n",
       "            setTimeout(function() {\n",
       "                var nbb_cell_id = 14;\n",
       "                var nbb_unformatted_code = \"import implicit\\n\\nfrom collections import ChainMap\\nfrom lightfm.data import Dataset\\nfrom scipy.sparse import csr_matrix, coo_matrix\\nfrom tqdm.auto import tqdm\\n\\n\\nclass SparseInterface:\\n    def __init__(self, data, train_reviews, invalid_org_mark=-1):\\n        self.data = data\\n        self.dataset = Dataset()\\n        self.train_reviews = train_reviews\\n        self.users = self.data[\\\"users\\\"]\\n        self.organisations = self.data[\\\"organisations\\\"]\\n        self.invalid_org_mark = invalid_org_mark\\n\\n        self.fit()\\n        self.build_user_features()\\n        self.build_item_features()\\n        self.build_mapping()\\n        self.build_interactions()\\n\\n    def build_mapping(self):\\n        (\\n            self.user_id_map,\\n            self.user_feature_map,\\n            self.item_id_map,\\n            self.item_feature_map,\\n        ) = self.dataset.mapping()\\n        self.user_id_map = pd.Series(self.user_id_map)\\n        item_id_map = pd.Series(self.item_id_map)\\n        self.item_id_map_reverse = pd.Series(item_id_map.index, item_id_map.values)\\n        self.item_id_map_reverse[self.invalid_org_mark] = self.invalid_org_mark\\n\\n    def fit(self):\\n        self.dataset.fit(\\n            users=self.users[\\\"user_id\\\"],\\n            items=self.organisations[\\\"org_id\\\"],\\n            user_features=self.users[\\\"city\\\"].unique(),\\n            item_features=list(self.organisations[\\\"city\\\"].unique())\\n            + [\\\"average_bill\\\", \\\"rating\\\", \\\"ts\\\"]\\n            + [f\\\"rubric_{rubric_id}\\\" for rubric_id in self.data[\\\"rubrics\\\"][\\\"rubric_id\\\"]]\\n            + [\\n                f\\\"feature_{feature_id}\\\"\\n                for feature_id in self.data[\\\"features\\\"][\\\"feature_id\\\"]\\n            ]\\n            + [\\n                f\\\"aspect_{aspect_id}\\\"\\n                for aspect_id in set(self.data[\\\"aspects\\\"][\\\"aspect_id\\\"])\\n                | set([i for j in train_reviews[\\\"aspects\\\"] for i in j])\\n            ],\\n        )\\n\\n    def build_user_features(self):\\n        self.user_features = self.dataset.build_user_features(\\n            zip(self.users[\\\"user_id\\\"].values, self.users[[\\\"city\\\"]].values),\\n            normalize=False,\\n        )\\n\\n    @staticmethod\\n    def normalize(s):\\n        return (s - s.mean()) / s.std()\\n\\n    @staticmethod\\n    def parse_list_of_feature_ids(feature_ids, name):\\n        try:\\n            return {f\\\"{name}_{feature_id}\\\": True for feature_id in feature_ids}\\n        except TypeError:\\n            return {}\\n\\n    @staticmethod\\n    def extract_org_features(org_row):\\n        org_features = {\\n            **{org_row[\\\"city\\\"]: True},\\n            **org_row[[\\\"average_bill\\\", \\\"rating\\\", \\\"ts\\\"]].dropna().to_dict(),\\n            **SparseInterface.parse_list_of_feature_ids(\\n                org_row[\\\"rubrics_id\\\"], \\\"rubric\\\"\\n            ),\\n            **SparseInterface.parse_list_of_feature_ids(\\n                org_row[\\\"features_id\\\"], \\\"feature\\\"\\n            ),\\n            **SparseInterface.parse_list_of_feature_ids(\\n                org_row[\\\"aspects_id\\\"], \\\"aspect\\\"\\n            ),\\n        }\\n        return org_features\\n\\n    def build_item_features(self):\\n        organisations = self.organisations\\n        organisations[\\\"rating\\\"] = self.normalize(organisations[\\\"rating\\\"])\\n        organisations[\\\"average_bill\\\"] = self.normalize(organisations[\\\"average_bill\\\"])\\n        organisations[\\\"ts\\\"] = self.normalize(\\n            self.train_reviews.groupby(\\\"org_id\\\")[\\\"ts\\\"].mean()\\n        )\\n        organisations[\\\"aspects_id\\\"] = self.train_reviews.groupby(\\\"org_id\\\")[\\n            \\\"aspects\\\"\\n        ].agg(lambda s: [i for j in s.values for i in j])\\n        self.item_features = self.dataset.build_item_features(\\n            (\\n                (\\n                    org_row[\\\"org_id\\\"],\\n                    self.extract_org_features(org_row),\\n                )\\n                for org_id, org_row in organisations.iterrows()\\n            ),\\n            normalize=False,\\n        )\\n\\n    def build_interactions(self):\\n        self.interactions, self.interactions_weighted = self.dataset.build_interactions(\\n            self.train_reviews[[\\\"user_id\\\", \\\"org_id\\\", \\\"rating\\\"]]\\n            .dropna()\\n            .astype(np.int32)\\n            .values\\n        )\\n\\n    @staticmethod\\n    def single_scale_features(features, relative_feature_importance):\\n        features = features.copy()\\n        n = features.shape[0]\\n        features_norm = features[:, n:].sum(axis=1)\\n        features[:, n:] = csr_matrix(\\n            features[:, n:].multiply(relative_feature_importance / features_norm)\\n        )\\n        return features\\n\\n    def scale_features(self, relative_feature_importance):\\n        scaled_user_features = self.single_scale_features(\\n            self.user_features, relative_feature_importance\\n        )\\n        scaled_item_features = self.single_scale_features(\\n            self.item_features, relative_feature_importance\\n        )\\n        return scaled_user_features, scaled_item_features\\n\\n    def user_ids_to_latent(self, user_ids):\\n        return self.user_id_map.loc[user_ids]\\n\\n    def recommended_org_ids_from_latent(self, latent_recommendations):\\n        recommendations = latent_recommendations.apply(\\n            lambda s: self.item_id_map_reverse.loc[s].values\\n        )\\n        return recommendations\";\n",
       "                var nbb_formatted_code = \"import implicit\\n\\nfrom collections import ChainMap\\nfrom lightfm.data import Dataset\\nfrom scipy.sparse import csr_matrix, coo_matrix\\nfrom tqdm.auto import tqdm\\n\\n\\nclass SparseInterface:\\n    def __init__(self, data, train_reviews, invalid_org_mark=-1):\\n        self.data = data\\n        self.dataset = Dataset()\\n        self.train_reviews = train_reviews\\n        self.users = self.data[\\\"users\\\"]\\n        self.organisations = self.data[\\\"organisations\\\"]\\n        self.invalid_org_mark = invalid_org_mark\\n\\n        self.fit()\\n        self.build_user_features()\\n        self.build_item_features()\\n        self.build_mapping()\\n        self.build_interactions()\\n\\n    def build_mapping(self):\\n        (\\n            self.user_id_map,\\n            self.user_feature_map,\\n            self.item_id_map,\\n            self.item_feature_map,\\n        ) = self.dataset.mapping()\\n        self.user_id_map = pd.Series(self.user_id_map)\\n        item_id_map = pd.Series(self.item_id_map)\\n        self.item_id_map_reverse = pd.Series(item_id_map.index, item_id_map.values)\\n        self.item_id_map_reverse[self.invalid_org_mark] = self.invalid_org_mark\\n\\n    def fit(self):\\n        self.dataset.fit(\\n            users=self.users[\\\"user_id\\\"],\\n            items=self.organisations[\\\"org_id\\\"],\\n            user_features=self.users[\\\"city\\\"].unique(),\\n            item_features=list(self.organisations[\\\"city\\\"].unique())\\n            + [\\\"average_bill\\\", \\\"rating\\\", \\\"ts\\\"]\\n            + [f\\\"rubric_{rubric_id}\\\" for rubric_id in self.data[\\\"rubrics\\\"][\\\"rubric_id\\\"]]\\n            + [\\n                f\\\"feature_{feature_id}\\\"\\n                for feature_id in self.data[\\\"features\\\"][\\\"feature_id\\\"]\\n            ]\\n            + [\\n                f\\\"aspect_{aspect_id}\\\"\\n                for aspect_id in set(self.data[\\\"aspects\\\"][\\\"aspect_id\\\"])\\n                | set([i for j in train_reviews[\\\"aspects\\\"] for i in j])\\n            ],\\n        )\\n\\n    def build_user_features(self):\\n        self.user_features = self.dataset.build_user_features(\\n            zip(self.users[\\\"user_id\\\"].values, self.users[[\\\"city\\\"]].values),\\n            normalize=False,\\n        )\\n\\n    @staticmethod\\n    def normalize(s):\\n        return (s - s.mean()) / s.std()\\n\\n    @staticmethod\\n    def parse_list_of_feature_ids(feature_ids, name):\\n        try:\\n            return {f\\\"{name}_{feature_id}\\\": True for feature_id in feature_ids}\\n        except TypeError:\\n            return {}\\n\\n    @staticmethod\\n    def extract_org_features(org_row):\\n        org_features = {\\n            **{org_row[\\\"city\\\"]: True},\\n            **org_row[[\\\"average_bill\\\", \\\"rating\\\", \\\"ts\\\"]].dropna().to_dict(),\\n            **SparseInterface.parse_list_of_feature_ids(\\n                org_row[\\\"rubrics_id\\\"], \\\"rubric\\\"\\n            ),\\n            **SparseInterface.parse_list_of_feature_ids(\\n                org_row[\\\"features_id\\\"], \\\"feature\\\"\\n            ),\\n            **SparseInterface.parse_list_of_feature_ids(\\n                org_row[\\\"aspects_id\\\"], \\\"aspect\\\"\\n            ),\\n        }\\n        return org_features\\n\\n    def build_item_features(self):\\n        organisations = self.organisations\\n        organisations[\\\"rating\\\"] = self.normalize(organisations[\\\"rating\\\"])\\n        organisations[\\\"average_bill\\\"] = self.normalize(organisations[\\\"average_bill\\\"])\\n        organisations[\\\"ts\\\"] = self.normalize(\\n            self.train_reviews.groupby(\\\"org_id\\\")[\\\"ts\\\"].mean()\\n        )\\n        organisations[\\\"aspects_id\\\"] = self.train_reviews.groupby(\\\"org_id\\\")[\\n            \\\"aspects\\\"\\n        ].agg(lambda s: [i for j in s.values for i in j])\\n        self.item_features = self.dataset.build_item_features(\\n            (\\n                (\\n                    org_row[\\\"org_id\\\"],\\n                    self.extract_org_features(org_row),\\n                )\\n                for org_id, org_row in organisations.iterrows()\\n            ),\\n            normalize=False,\\n        )\\n\\n    def build_interactions(self):\\n        self.interactions, self.interactions_weighted = self.dataset.build_interactions(\\n            self.train_reviews[[\\\"user_id\\\", \\\"org_id\\\", \\\"rating\\\"]]\\n            .dropna()\\n            .astype(np.int32)\\n            .values\\n        )\\n\\n    @staticmethod\\n    def single_scale_features(features, relative_feature_importance):\\n        features = features.copy()\\n        n = features.shape[0]\\n        features_norm = features[:, n:].sum(axis=1)\\n        features[:, n:] = csr_matrix(\\n            features[:, n:].multiply(relative_feature_importance / features_norm)\\n        )\\n        return features\\n\\n    def scale_features(self, relative_feature_importance):\\n        scaled_user_features = self.single_scale_features(\\n            self.user_features, relative_feature_importance\\n        )\\n        scaled_item_features = self.single_scale_features(\\n            self.item_features, relative_feature_importance\\n        )\\n        return scaled_user_features, scaled_item_features\\n\\n    def user_ids_to_latent(self, user_ids):\\n        return self.user_id_map.loc[user_ids]\\n\\n    def recommended_org_ids_from_latent(self, latent_recommendations):\\n        recommendations = latent_recommendations.apply(\\n            lambda s: self.item_id_map_reverse.loc[s].values\\n        )\\n        return recommendations\";\n",
       "                var nbb_cells = Jupyter.notebook.get_cells();\n",
       "                for (var i = 0; i < nbb_cells.length; ++i) {\n",
       "                    if (nbb_cells[i].input_prompt_number == nbb_cell_id) {\n",
       "                        if (nbb_cells[i].get_text() == nbb_unformatted_code) {\n",
       "                             nbb_cells[i].set_text(nbb_formatted_code);\n",
       "                        }\n",
       "                        break;\n",
       "                    }\n",
       "                }\n",
       "            }, 500);\n",
       "            "
      ],
      "text/plain": [
       "<IPython.core.display.Javascript object>"
      ]
     },
     "metadata": {},
     "output_type": "display_data"
    }
   ],
   "source": [
    "import implicit\n",
    "\n",
    "from collections import ChainMap\n",
    "from lightfm.data import Dataset\n",
    "from scipy.sparse import csr_matrix, coo_matrix\n",
    "from tqdm.auto import tqdm\n",
    "\n",
    "\n",
    "class SparseInterface:\n",
    "    def __init__(self, data, train_reviews, invalid_org_mark=-1):\n",
    "        self.data = data\n",
    "        self.dataset = Dataset()\n",
    "        self.train_reviews = train_reviews\n",
    "        self.users = self.data[\"users\"]\n",
    "        self.organisations = self.data[\"organisations\"]\n",
    "        self.invalid_org_mark = invalid_org_mark\n",
    "\n",
    "        self.fit()\n",
    "        self.build_user_features()\n",
    "        self.build_item_features()\n",
    "        self.build_mapping()\n",
    "        self.build_interactions()\n",
    "\n",
    "    def build_mapping(self):\n",
    "        (\n",
    "            self.user_id_map,\n",
    "            self.user_feature_map,\n",
    "            self.item_id_map,\n",
    "            self.item_feature_map,\n",
    "        ) = self.dataset.mapping()\n",
    "        self.user_id_map = pd.Series(self.user_id_map)\n",
    "        item_id_map = pd.Series(self.item_id_map)\n",
    "        self.item_id_map_reverse = pd.Series(item_id_map.index, item_id_map.values)\n",
    "        self.item_id_map_reverse[self.invalid_org_mark] = self.invalid_org_mark\n",
    "\n",
    "    def fit(self):\n",
    "        self.dataset.fit(\n",
    "            users=self.users[\"user_id\"],\n",
    "            items=self.organisations[\"org_id\"],\n",
    "            user_features=self.users[\"city\"].unique(),\n",
    "            item_features=list(self.organisations[\"city\"].unique())\n",
    "            + [\"average_bill\", \"rating\", \"ts\"]\n",
    "            + [f\"rubric_{rubric_id}\" for rubric_id in self.data[\"rubrics\"][\"rubric_id\"]]\n",
    "            + [\n",
    "                f\"feature_{feature_id}\"\n",
    "                for feature_id in self.data[\"features\"][\"feature_id\"]\n",
    "            ]\n",
    "            + [\n",
    "                f\"aspect_{aspect_id}\"\n",
    "                for aspect_id in set(self.data[\"aspects\"][\"aspect_id\"])\n",
    "                | set([i for j in train_reviews[\"aspects\"] for i in j])\n",
    "            ],\n",
    "        )\n",
    "\n",
    "    def build_user_features(self):\n",
    "        self.user_features = self.dataset.build_user_features(\n",
    "            zip(self.users[\"user_id\"].values, self.users[[\"city\"]].values),\n",
    "            normalize=False,\n",
    "        )\n",
    "\n",
    "    @staticmethod\n",
    "    def normalize(s):\n",
    "        return (s - s.mean()) / s.std()\n",
    "\n",
    "    @staticmethod\n",
    "    def parse_list_of_feature_ids(feature_ids, name):\n",
    "        try:\n",
    "            return {f\"{name}_{feature_id}\": True for feature_id in feature_ids}\n",
    "        except TypeError:\n",
    "            return {}\n",
    "\n",
    "    @staticmethod\n",
    "    def extract_org_features(org_row):\n",
    "        org_features = {\n",
    "            **{org_row[\"city\"]: True},\n",
    "            **org_row[[\"average_bill\", \"rating\", \"ts\"]].dropna().to_dict(),\n",
    "            **SparseInterface.parse_list_of_feature_ids(\n",
    "                org_row[\"rubrics_id\"], \"rubric\"\n",
    "            ),\n",
    "            **SparseInterface.parse_list_of_feature_ids(\n",
    "                org_row[\"features_id\"], \"feature\"\n",
    "            ),\n",
    "            **SparseInterface.parse_list_of_feature_ids(\n",
    "                org_row[\"aspects_id\"], \"aspect\"\n",
    "            ),\n",
    "        }\n",
    "        return org_features\n",
    "\n",
    "    def build_item_features(self):\n",
    "        organisations = self.organisations\n",
    "        organisations[\"rating\"] = self.normalize(organisations[\"rating\"])\n",
    "        organisations[\"average_bill\"] = self.normalize(organisations[\"average_bill\"])\n",
    "        organisations[\"ts\"] = self.normalize(\n",
    "            self.train_reviews.groupby(\"org_id\")[\"ts\"].mean()\n",
    "        )\n",
    "        organisations[\"aspects_id\"] = self.train_reviews.groupby(\"org_id\")[\n",
    "            \"aspects\"\n",
    "        ].agg(lambda s: [i for j in s.values for i in j])\n",
    "        self.item_features = self.dataset.build_item_features(\n",
    "            (\n",
    "                (\n",
    "                    org_row[\"org_id\"],\n",
    "                    self.extract_org_features(org_row),\n",
    "                )\n",
    "                for org_id, org_row in organisations.iterrows()\n",
    "            ),\n",
    "            normalize=False,\n",
    "        )\n",
    "\n",
    "    def build_interactions(self):\n",
    "        self.interactions, self.interactions_weighted = self.dataset.build_interactions(\n",
    "            self.train_reviews[[\"user_id\", \"org_id\", \"rating\"]]\n",
    "            .dropna()\n",
    "            .astype(np.int32)\n",
    "            .values\n",
    "        )\n",
    "\n",
    "    @staticmethod\n",
    "    def single_scale_features(features, relative_feature_importance):\n",
    "        features = features.copy()\n",
    "        n = features.shape[0]\n",
    "        features_norm = features[:, n:].sum(axis=1)\n",
    "        features[:, n:] = csr_matrix(\n",
    "            features[:, n:].multiply(relative_feature_importance / features_norm)\n",
    "        )\n",
    "        return features\n",
    "\n",
    "    def scale_features(self, relative_feature_importance):\n",
    "        scaled_user_features = self.single_scale_features(\n",
    "            self.user_features, relative_feature_importance\n",
    "        )\n",
    "        scaled_item_features = self.single_scale_features(\n",
    "            self.item_features, relative_feature_importance\n",
    "        )\n",
    "        return scaled_user_features, scaled_item_features\n",
    "\n",
    "    def user_ids_to_latent(self, user_ids):\n",
    "        return self.user_id_map.loc[user_ids]\n",
    "\n",
    "    def recommended_org_ids_from_latent(self, latent_recommendations):\n",
    "        recommendations = latent_recommendations.apply(\n",
    "            lambda s: self.item_id_map_reverse.loc[s].values\n",
    "        )\n",
    "        return recommendations"
   ]
  },
  {
   "cell_type": "code",
   "execution_count": 15,
   "metadata": {
    "ExecuteTime": {
     "end_time": "2022-08-18T10:23:02.075818Z",
     "start_time": "2022-08-18T10:23:02.059454Z"
    }
   },
   "outputs": [
    {
     "data": {
      "application/javascript": [
       "\n",
       "            setTimeout(function() {\n",
       "                var nbb_cell_id = 15;\n",
       "                var nbb_unformatted_code = \"class SparseRecommender:\\n    def __init__(self, sparse_interface, model):\\n        self.model = model\\n        self.sparse_interface = sparse_interface\\n\\n    def fit(self, reviews):\\n        self.interactions = csr_matrix(self.sparse_interface.interactions_weighted)\\n        self.model.fit(self.interactions)\\n        return self\\n\\n    def recommend(self, user_ids, recommend_size=20):\\n        user_ids_mapped = self.sparse_interface.user_ids_to_latent(user_ids)\\n        recommendations, predicted_ratings = self.model.recommend(\\n            userid=user_ids_mapped,\\n            user_items=self.interactions[user_ids_mapped],\\n            N=recommend_size,\\n        )\\n        recommendations = pd.DataFrame(recommendations, user_ids)\\n        return self.sparse_interface.recommended_org_ids_from_latent(recommendations)\";\n",
       "                var nbb_formatted_code = \"class SparseRecommender:\\n    def __init__(self, sparse_interface, model):\\n        self.model = model\\n        self.sparse_interface = sparse_interface\\n\\n    def fit(self, reviews):\\n        self.interactions = csr_matrix(self.sparse_interface.interactions_weighted)\\n        self.model.fit(self.interactions)\\n        return self\\n\\n    def recommend(self, user_ids, recommend_size=20):\\n        user_ids_mapped = self.sparse_interface.user_ids_to_latent(user_ids)\\n        recommendations, predicted_ratings = self.model.recommend(\\n            userid=user_ids_mapped,\\n            user_items=self.interactions[user_ids_mapped],\\n            N=recommend_size,\\n        )\\n        recommendations = pd.DataFrame(recommendations, user_ids)\\n        return self.sparse_interface.recommended_org_ids_from_latent(recommendations)\";\n",
       "                var nbb_cells = Jupyter.notebook.get_cells();\n",
       "                for (var i = 0; i < nbb_cells.length; ++i) {\n",
       "                    if (nbb_cells[i].input_prompt_number == nbb_cell_id) {\n",
       "                        if (nbb_cells[i].get_text() == nbb_unformatted_code) {\n",
       "                             nbb_cells[i].set_text(nbb_formatted_code);\n",
       "                        }\n",
       "                        break;\n",
       "                    }\n",
       "                }\n",
       "            }, 500);\n",
       "            "
      ],
      "text/plain": [
       "<IPython.core.display.Javascript object>"
      ]
     },
     "metadata": {},
     "output_type": "display_data"
    }
   ],
   "source": [
    "class SparseRecommender:\n",
    "    def __init__(self, sparse_interface, model):\n",
    "        self.model = model\n",
    "        self.sparse_interface = sparse_interface\n",
    "\n",
    "    def fit(self, reviews):\n",
    "        self.interactions = csr_matrix(self.sparse_interface.interactions_weighted)\n",
    "        self.model.fit(self.interactions)\n",
    "        return self\n",
    "\n",
    "    def recommend(self, user_ids, recommend_size=20):\n",
    "        user_ids_mapped = self.sparse_interface.user_ids_to_latent(user_ids)\n",
    "        recommendations, predicted_ratings = self.model.recommend(\n",
    "            userid=user_ids_mapped,\n",
    "            user_items=self.interactions[user_ids_mapped],\n",
    "            N=recommend_size,\n",
    "        )\n",
    "        recommendations = pd.DataFrame(recommendations, user_ids)\n",
    "        return self.sparse_interface.recommended_org_ids_from_latent(recommendations)"
   ]
  },
  {
   "cell_type": "code",
   "execution_count": 16,
   "metadata": {
    "ExecuteTime": {
     "end_time": "2022-08-18T10:23:02.163115Z",
     "start_time": "2022-08-18T10:23:02.077873Z"
    }
   },
   "outputs": [
    {
     "data": {
      "application/javascript": [
       "\n",
       "            setTimeout(function() {\n",
       "                var nbb_cell_id = 16;\n",
       "                var nbb_unformatted_code = \"#  def shrink(self, sparse_matrix):\\n#         sparse_matrix.eliminate_zeros()\\n#         row_ids, col_ids = sparse_matrix.nonzero()\\n#         self.new_row_id_to_original = pd.Series(np.unique(row_ids))\\n#         self.new_col_id_to_original = pd.Series(np.unique(col_ids))\\n#         self.original_row_id_to_new = pd.Series(\\n#             self.new_row_id_to_original.index, self.new_row_id_to_original.values\\n#         )\\n#         self.original_col_id_to_new = pd.Series(\\n#             self.new_col_id_to_original.index, self.new_col_id_to_original.values\\n#         )\\n#         denser_row_ids = self.original_row_id_to_new[row_ids]\\n#         denser_col_ids = self.original_col_id_to_new[col_ids]\\n#         return coo_matrix(\\n#             (sparse_matrix.data, [denser_row_ids, denser_col_ids])\\n#         ).tocsr()\";\n",
       "                var nbb_formatted_code = \"#  def shrink(self, sparse_matrix):\\n#         sparse_matrix.eliminate_zeros()\\n#         row_ids, col_ids = sparse_matrix.nonzero()\\n#         self.new_row_id_to_original = pd.Series(np.unique(row_ids))\\n#         self.new_col_id_to_original = pd.Series(np.unique(col_ids))\\n#         self.original_row_id_to_new = pd.Series(\\n#             self.new_row_id_to_original.index, self.new_row_id_to_original.values\\n#         )\\n#         self.original_col_id_to_new = pd.Series(\\n#             self.new_col_id_to_original.index, self.new_col_id_to_original.values\\n#         )\\n#         denser_row_ids = self.original_row_id_to_new[row_ids]\\n#         denser_col_ids = self.original_col_id_to_new[col_ids]\\n#         return coo_matrix(\\n#             (sparse_matrix.data, [denser_row_ids, denser_col_ids])\\n#         ).tocsr()\";\n",
       "                var nbb_cells = Jupyter.notebook.get_cells();\n",
       "                for (var i = 0; i < nbb_cells.length; ++i) {\n",
       "                    if (nbb_cells[i].input_prompt_number == nbb_cell_id) {\n",
       "                        if (nbb_cells[i].get_text() == nbb_unformatted_code) {\n",
       "                             nbb_cells[i].set_text(nbb_formatted_code);\n",
       "                        }\n",
       "                        break;\n",
       "                    }\n",
       "                }\n",
       "            }, 500);\n",
       "            "
      ],
      "text/plain": [
       "<IPython.core.display.Javascript object>"
      ]
     },
     "metadata": {},
     "output_type": "display_data"
    }
   ],
   "source": [
    "#  def shrink(self, sparse_matrix):\n",
    "#         sparse_matrix.eliminate_zeros()\n",
    "#         row_ids, col_ids = sparse_matrix.nonzero()\n",
    "#         self.new_row_id_to_original = pd.Series(np.unique(row_ids))\n",
    "#         self.new_col_id_to_original = pd.Series(np.unique(col_ids))\n",
    "#         self.original_row_id_to_new = pd.Series(\n",
    "#             self.new_row_id_to_original.index, self.new_row_id_to_original.values\n",
    "#         )\n",
    "#         self.original_col_id_to_new = pd.Series(\n",
    "#             self.new_col_id_to_original.index, self.new_col_id_to_original.values\n",
    "#         )\n",
    "#         denser_row_ids = self.original_row_id_to_new[row_ids]\n",
    "#         denser_col_ids = self.original_col_id_to_new[col_ids]\n",
    "#         return coo_matrix(\n",
    "#             (sparse_matrix.data, [denser_row_ids, denser_col_ids])\n",
    "#         ).tocsr()"
   ]
  },
  {
   "cell_type": "code",
   "execution_count": 17,
   "metadata": {
    "ExecuteTime": {
     "end_time": "2022-08-18T10:24:34.605629Z",
     "start_time": "2022-08-18T10:23:02.165012Z"
    }
   },
   "outputs": [
    {
     "data": {
      "application/javascript": [
       "\n",
       "            setTimeout(function() {\n",
       "                var nbb_cell_id = 17;\n",
       "                var nbb_unformatted_code = \"sparse_interface = SparseInterface(data, train_reviews)\";\n",
       "                var nbb_formatted_code = \"sparse_interface = SparseInterface(data, train_reviews)\";\n",
       "                var nbb_cells = Jupyter.notebook.get_cells();\n",
       "                for (var i = 0; i < nbb_cells.length; ++i) {\n",
       "                    if (nbb_cells[i].input_prompt_number == nbb_cell_id) {\n",
       "                        if (nbb_cells[i].get_text() == nbb_unformatted_code) {\n",
       "                             nbb_cells[i].set_text(nbb_formatted_code);\n",
       "                        }\n",
       "                        break;\n",
       "                    }\n",
       "                }\n",
       "            }, 500);\n",
       "            "
      ],
      "text/plain": [
       "<IPython.core.display.Javascript object>"
      ]
     },
     "metadata": {},
     "output_type": "display_data"
    }
   ],
   "source": [
    "sparse_interface = SparseInterface(data, train_reviews)"
   ]
  },
  {
   "cell_type": "code",
   "execution_count": 18,
   "metadata": {
    "ExecuteTime": {
     "end_time": "2022-08-18T10:25:00.383620Z",
     "start_time": "2022-08-18T10:24:34.609584Z"
    }
   },
   "outputs": [
    {
     "name": "stderr",
     "output_type": "stream",
     "text": [
      "/external2/dkkoshman/venv/lib/python3.6/site-packages/implicit/nearest_neighbours.py:226: RuntimeWarning: invalid value encountered in true_divide\n",
      "  X.data = X.data / sqrt(bincount(X.row, X.data**2))[X.row]\n",
      "/external2/dkkoshman/venv/lib/python3.6/site-packages/implicit/utils.py:141: ParameterWarning: Method expects CSR input, and was passed coo_matrix instead. Converting to CSR took 0.0041158199310302734 seconds\n",
      "  ParameterWarning,\n"
     ]
    },
    {
     "data": {
      "application/vnd.jupyter.widget-view+json": {
       "model_id": "f9975c1756c0461fb8b20f146ef4d29e",
       "version_major": 2,
       "version_minor": 0
      },
      "text/plain": [
       "  0%|          | 0/68339 [00:00<?, ?it/s]"
      ]
     },
     "metadata": {},
     "output_type": "display_data"
    },
    {
     "name": "stderr",
     "output_type": "stream",
     "text": [
      "/external2/dkkoshman/venv/lib/python3.6/site-packages/implicit/utils.py:141: ParameterWarning: Method expects CSR input, and was passed coo_matrix instead. Converting to CSR took 0.00437474250793457 seconds\n",
      "  ParameterWarning,\n"
     ]
    },
    {
     "data": {
      "application/vnd.jupyter.widget-view+json": {
       "model_id": "a43e72d03841487798df2fc90490bfa0",
       "version_major": 2,
       "version_minor": 0
      },
      "text/plain": [
       "  0%|          | 0/68339 [00:00<?, ?it/s]"
      ]
     },
     "metadata": {},
     "output_type": "display_data"
    },
    {
     "name": "stderr",
     "output_type": "stream",
     "text": [
      "/external2/dkkoshman/venv/lib/python3.6/site-packages/implicit/utils.py:141: ParameterWarning: Method expects CSR input, and was passed coo_matrix instead. Converting to CSR took 0.004446983337402344 seconds\n",
      "  ParameterWarning,\n"
     ]
    },
    {
     "data": {
      "application/vnd.jupyter.widget-view+json": {
       "model_id": "cd0ab58501f24c90a9ae9c39b03d4554",
       "version_major": 2,
       "version_minor": 0
      },
      "text/plain": [
       "  0%|          | 0/68339 [00:00<?, ?it/s]"
      ]
     },
     "metadata": {},
     "output_type": "display_data"
    },
    {
     "data": {
      "application/javascript": [
       "\n",
       "            setTimeout(function() {\n",
       "                var nbb_cell_id = 18;\n",
       "                var nbb_unformatted_code = \"nn_models = {\\n    \\\"tfidf\\\": SparseRecommender(\\n        sparse_interface, implicit.nearest_neighbours.TFIDFRecommender()\\n    ),\\n    \\\"bm25\\\": SparseRecommender(\\n        sparse_interface, implicit.nearest_neighbours.BM25Recommender()\\n    ),\\n    \\\"cosine\\\": SparseRecommender(\\n        sparse_interface, implicit.nearest_neighbours.CosineRecommender()\\n    ),\\n}\\n\\nassessor.assess(nn_models)\";\n",
       "                var nbb_formatted_code = \"nn_models = {\\n    \\\"tfidf\\\": SparseRecommender(\\n        sparse_interface, implicit.nearest_neighbours.TFIDFRecommender()\\n    ),\\n    \\\"bm25\\\": SparseRecommender(\\n        sparse_interface, implicit.nearest_neighbours.BM25Recommender()\\n    ),\\n    \\\"cosine\\\": SparseRecommender(\\n        sparse_interface, implicit.nearest_neighbours.CosineRecommender()\\n    ),\\n}\\n\\nassessor.assess(nn_models)\";\n",
       "                var nbb_cells = Jupyter.notebook.get_cells();\n",
       "                for (var i = 0; i < nbb_cells.length; ++i) {\n",
       "                    if (nbb_cells[i].input_prompt_number == nbb_cell_id) {\n",
       "                        if (nbb_cells[i].get_text() == nbb_unformatted_code) {\n",
       "                             nbb_cells[i].set_text(nbb_formatted_code);\n",
       "                        }\n",
       "                        break;\n",
       "                    }\n",
       "                }\n",
       "            }, 500);\n",
       "            "
      ],
      "text/plain": [
       "<IPython.core.display.Javascript object>"
      ]
     },
     "metadata": {},
     "output_type": "display_data"
    }
   ],
   "source": [
    "nn_models = {\n",
    "    \"tfidf\": SparseRecommender(\n",
    "        sparse_interface, implicit.nearest_neighbours.TFIDFRecommender()\n",
    "    ),\n",
    "    \"bm25\": SparseRecommender(\n",
    "        sparse_interface, implicit.nearest_neighbours.BM25Recommender()\n",
    "    ),\n",
    "    \"cosine\": SparseRecommender(\n",
    "        sparse_interface, implicit.nearest_neighbours.CosineRecommender()\n",
    "    ),\n",
    "}\n",
    "\n",
    "assessor.assess(nn_models)"
   ]
  },
  {
   "cell_type": "code",
   "execution_count": 19,
   "metadata": {
    "ExecuteTime": {
     "end_time": "2022-08-18T10:25:00.976579Z",
     "start_time": "2022-08-18T10:25:00.386360Z"
    }
   },
   "outputs": [
    {
     "data": {
      "image/png": "[encoded data removed]",
      "text/plain": [
       "<Figure size 1152x432 with 1 Axes>"
      ]
     },
     "metadata": {
      "needs_background": "light"
     },
     "output_type": "display_data"
    },
    {
     "data": {
      "application/javascript": [
       "\n",
       "            setTimeout(function() {\n",
       "                var nbb_cell_id = 19;\n",
       "                var nbb_unformatted_code = \"assessor.show_metrics()\";\n",
       "                var nbb_formatted_code = \"assessor.show_metrics()\";\n",
       "                var nbb_cells = Jupyter.notebook.get_cells();\n",
       "                for (var i = 0; i < nbb_cells.length; ++i) {\n",
       "                    if (nbb_cells[i].input_prompt_number == nbb_cell_id) {\n",
       "                        if (nbb_cells[i].get_text() == nbb_unformatted_code) {\n",
       "                             nbb_cells[i].set_text(nbb_formatted_code);\n",
       "                        }\n",
       "                        break;\n",
       "                    }\n",
       "                }\n",
       "            }, 500);\n",
       "            "
      ],
      "text/plain": [
       "<IPython.core.display.Javascript object>"
      ]
     },
     "metadata": {},
     "output_type": "display_data"
    }
   ],
   "source": [
    "assessor.show_metrics()"
   ]
  },
  {
   "cell_type": "markdown",
   "metadata": {},
   "source": [
    "## Методы Matrix factorization"
   ]
  },
  {
   "cell_type": "markdown",
   "metadata": {},
   "source": [
    "**(0.5 балла) Задание 6.**\n",
    "\n",
    "- Разложите матрицу рейтингов с помощью [разреженного SVD](http://scikit-learn.org/stable/modules/generated/sklearn.decomposition.TruncatedSVD.html) и, восстановив ее, получите предсказания рейтингов для всех пар пользователь-объект. В данном случае неизвестные рейтинги заполняются нулями, а затем восстанавливаются с помощью SVD (этот метод называется PureSVD).\n",
    "   * Получив векторные представления пользователей и объектов и сингулярные числа, мы можеи восстановив матрицу и в местах нулей получим \"предсказанные значения вероятностей\" для новых объектов.\n",
    "- Рассмотрите, как минимум, 5 различных значений ранга разложения. Оцените качество рекомендаций"
   ]
  },
  {
   "cell_type": "markdown",
   "metadata": {},
   "source": [
    "Получим представление о том, какие варианты значенией ранга разложения следует попробовать:"
   ]
  },
  {
   "cell_type": "code",
   "execution_count": 20,
   "metadata": {
    "ExecuteTime": {
     "end_time": "2022-08-18T10:25:01.024828Z",
     "start_time": "2022-08-18T10:25:00.978332Z"
    }
   },
   "outputs": [
    {
     "data": {
      "application/javascript": [
       "\n",
       "            setTimeout(function() {\n",
       "                var nbb_cell_id = 20;\n",
       "                var nbb_unformatted_code = \"from sklearn.decomposition import TruncatedSVD\\n\\n\\ndef plot_component_importance(sparse_interface, n_components=100):\\n    truncated_svd = TruncatedSVD(n_components=n_components)\\n    truncated_svd.fit(sparse_interface.interactions_weighted)\\n\\n    fig, ax = plt.subplots(figsize=(8, 6))\\n    plt.plot(truncated_svd.explained_variance_ratio_)\\n    plt.xlabel(\\\"n components\\\")\\n    plt.ylabel(\\\"explained variance ratio\\\")\\n    plt.title(\\\"Explained variance depending on number of components\\\")\";\n",
       "                var nbb_formatted_code = \"from sklearn.decomposition import TruncatedSVD\\n\\n\\ndef plot_component_importance(sparse_interface, n_components=100):\\n    truncated_svd = TruncatedSVD(n_components=n_components)\\n    truncated_svd.fit(sparse_interface.interactions_weighted)\\n\\n    fig, ax = plt.subplots(figsize=(8, 6))\\n    plt.plot(truncated_svd.explained_variance_ratio_)\\n    plt.xlabel(\\\"n components\\\")\\n    plt.ylabel(\\\"explained variance ratio\\\")\\n    plt.title(\\\"Explained variance depending on number of components\\\")\";\n",
       "                var nbb_cells = Jupyter.notebook.get_cells();\n",
       "                for (var i = 0; i < nbb_cells.length; ++i) {\n",
       "                    if (nbb_cells[i].input_prompt_number == nbb_cell_id) {\n",
       "                        if (nbb_cells[i].get_text() == nbb_unformatted_code) {\n",
       "                             nbb_cells[i].set_text(nbb_formatted_code);\n",
       "                        }\n",
       "                        break;\n",
       "                    }\n",
       "                }\n",
       "            }, 500);\n",
       "            "
      ],
      "text/plain": [
       "<IPython.core.display.Javascript object>"
      ]
     },
     "metadata": {},
     "output_type": "display_data"
    }
   ],
   "source": [
    "from sklearn.decomposition import TruncatedSVD\n",
    "\n",
    "\n",
    "def plot_component_importance(sparse_interface, n_components=100):\n",
    "    truncated_svd = TruncatedSVD(n_components=n_components)\n",
    "    truncated_svd.fit(sparse_interface.interactions_weighted)\n",
    "\n",
    "    fig, ax = plt.subplots(figsize=(8, 6))\n",
    "    plt.plot(truncated_svd.explained_variance_ratio_)\n",
    "    plt.xlabel(\"n components\")\n",
    "    plt.ylabel(\"explained variance ratio\")\n",
    "    plt.title(\"Explained variance depending on number of components\")"
   ]
  },
  {
   "cell_type": "code",
   "execution_count": 802,
   "metadata": {
    "ExecuteTime": {
     "end_time": "2022-08-12T12:42:53.564059Z",
     "start_time": "2022-08-12T12:42:51.140157Z"
    }
   },
   "outputs": [
    {
     "data": {
      "image/png": "[encoded data removed]",
      "text/plain": [
       "<Figure size 576x432 with 1 Axes>"
      ]
     },
     "metadata": {
      "needs_background": "light"
     },
     "output_type": "display_data"
    },
    {
     "data": {
      "application/javascript": [
       "\n",
       "            setTimeout(function() {\n",
       "                var nbb_cell_id = 802;\n",
       "                var nbb_unformatted_code = \"plot_component_importance(sparse_interface)\";\n",
       "                var nbb_formatted_code = \"plot_component_importance(sparse_interface)\";\n",
       "                var nbb_cells = Jupyter.notebook.get_cells();\n",
       "                for (var i = 0; i < nbb_cells.length; ++i) {\n",
       "                    if (nbb_cells[i].input_prompt_number == nbb_cell_id) {\n",
       "                        if (nbb_cells[i].get_text() == nbb_unformatted_code) {\n",
       "                             nbb_cells[i].set_text(nbb_formatted_code);\n",
       "                        }\n",
       "                        break;\n",
       "                    }\n",
       "                }\n",
       "            }, 500);\n",
       "            "
      ],
      "text/plain": [
       "<IPython.core.display.Javascript object>"
      ]
     },
     "metadata": {},
     "output_type": "display_data"
    }
   ],
   "source": [
    "plot_component_importance(sparse_interface)"
   ]
  },
  {
   "cell_type": "code",
   "execution_count": 21,
   "metadata": {
    "ExecuteTime": {
     "end_time": "2022-08-18T10:25:01.753600Z",
     "start_time": "2022-08-18T10:25:01.026556Z"
    }
   },
   "outputs": [
    {
     "data": {
      "application/javascript": [
       "\n",
       "            setTimeout(function() {\n",
       "                var nbb_cell_id = 21;\n",
       "                var nbb_unformatted_code = \"import torch as pt\\n\\n\\nclass BatchRecommender(SparseRecommender):\\n    def recommend(self, user_ids, recommend_size=20, batch_size=1024):\\n        user_ids_mapped = self.sparse_interface.user_ids_to_latent(user_ids)\\n        interactions = csr_matrix(self.sparse_interface.interactions_weighted)[\\n            user_ids_mapped\\n        ]\\n        recommendations = []\\n\\n        for begin in tqdm(range(0, len(user_ids), batch_size), \\\"Recommending\\\"):\\n            batch_slice = slice(begin, begin + batch_size)\\n            batch_interactions = interactions[batch_slice]\\n            batch_ids = user_ids[batch_slice]\\n            batch_ids_mapped = user_ids_mapped[batch_slice]\\n\\n            batch_rec = self.model_recommend(batch_ids_mapped, batch_interactions)\\n\\n            batch_rec = pt.tensor(batch_rec, device=\\\"cuda\\\")\\n            values, indices = pt.topk(batch_rec, recommend_size)\\n            batch_rec = indices[:, :recommend_size].cpu().numpy()\\n            del values, indices\\n\\n            batch_rec = pd.DataFrame(batch_rec, batch_ids)\\n            recommendations.append(batch_rec)\\n\\n        recommendations = self.sparse_interface.recommended_org_ids_from_latent(\\n            pd.concat(recommendations)\\n        )\\n        return recommendations\\n\\n    def model_recommend(self, user_ids, interactions):\\n        return self.model.recommend(user_ids)\\n\\n\\nclass SVDRecommender(BatchRecommender):\\n    def model_recommend(self, user_ids, interactions):\\n        embedding = self.model.transform(interactions)\\n        recommendations = self.model.inverse_transform(embedding)\\n        return recommendations\";\n",
       "                var nbb_formatted_code = \"import torch as pt\\n\\n\\nclass BatchRecommender(SparseRecommender):\\n    def recommend(self, user_ids, recommend_size=20, batch_size=1024):\\n        user_ids_mapped = self.sparse_interface.user_ids_to_latent(user_ids)\\n        interactions = csr_matrix(self.sparse_interface.interactions_weighted)[\\n            user_ids_mapped\\n        ]\\n        recommendations = []\\n\\n        for begin in tqdm(range(0, len(user_ids), batch_size), \\\"Recommending\\\"):\\n            batch_slice = slice(begin, begin + batch_size)\\n            batch_interactions = interactions[batch_slice]\\n            batch_ids = user_ids[batch_slice]\\n            batch_ids_mapped = user_ids_mapped[batch_slice]\\n\\n            batch_rec = self.model_recommend(batch_ids_mapped, batch_interactions)\\n\\n            batch_rec = pt.tensor(batch_rec, device=\\\"cuda\\\")\\n            values, indices = pt.topk(batch_rec, recommend_size)\\n            batch_rec = indices[:, :recommend_size].cpu().numpy()\\n            del values, indices\\n\\n            batch_rec = pd.DataFrame(batch_rec, batch_ids)\\n            recommendations.append(batch_rec)\\n\\n        recommendations = self.sparse_interface.recommended_org_ids_from_latent(\\n            pd.concat(recommendations)\\n        )\\n        return recommendations\\n\\n    def model_recommend(self, user_ids, interactions):\\n        return self.model.recommend(user_ids)\\n\\n\\nclass SVDRecommender(BatchRecommender):\\n    def model_recommend(self, user_ids, interactions):\\n        embedding = self.model.transform(interactions)\\n        recommendations = self.model.inverse_transform(embedding)\\n        return recommendations\";\n",
       "                var nbb_cells = Jupyter.notebook.get_cells();\n",
       "                for (var i = 0; i < nbb_cells.length; ++i) {\n",
       "                    if (nbb_cells[i].input_prompt_number == nbb_cell_id) {\n",
       "                        if (nbb_cells[i].get_text() == nbb_unformatted_code) {\n",
       "                             nbb_cells[i].set_text(nbb_formatted_code);\n",
       "                        }\n",
       "                        break;\n",
       "                    }\n",
       "                }\n",
       "            }, 500);\n",
       "            "
      ],
      "text/plain": [
       "<IPython.core.display.Javascript object>"
      ]
     },
     "metadata": {},
     "output_type": "display_data"
    }
   ],
   "source": [
    "import torch as pt\n",
    "\n",
    "\n",
    "class BatchRecommender(SparseRecommender):\n",
    "    def recommend(self, user_ids, recommend_size=20, batch_size=1024):\n",
    "        user_ids_mapped = self.sparse_interface.user_ids_to_latent(user_ids)\n",
    "        interactions = csr_matrix(self.sparse_interface.interactions_weighted)[\n",
    "            user_ids_mapped\n",
    "        ]\n",
    "        recommendations = []\n",
    "\n",
    "        for begin in tqdm(range(0, len(user_ids), batch_size), \"Recommending\"):\n",
    "            batch_slice = slice(begin, begin + batch_size)\n",
    "            batch_interactions = interactions[batch_slice]\n",
    "            batch_ids = user_ids[batch_slice]\n",
    "            batch_ids_mapped = user_ids_mapped[batch_slice]\n",
    "\n",
    "            batch_rec = self.model_recommend(batch_ids_mapped, batch_interactions)\n",
    "\n",
    "            batch_rec = pt.tensor(batch_rec, device=\"cuda\")\n",
    "            values, indices = pt.topk(batch_rec, recommend_size)\n",
    "            batch_rec = indices[:, :recommend_size].cpu().numpy()\n",
    "            del values, indices\n",
    "\n",
    "            batch_rec = pd.DataFrame(batch_rec, batch_ids)\n",
    "            recommendations.append(batch_rec)\n",
    "\n",
    "        recommendations = self.sparse_interface.recommended_org_ids_from_latent(\n",
    "            pd.concat(recommendations)\n",
    "        )\n",
    "        return recommendations\n",
    "\n",
    "    def model_recommend(self, user_ids, interactions):\n",
    "        return self.model.recommend(user_ids)\n",
    "\n",
    "\n",
    "class SVDRecommender(BatchRecommender):\n",
    "    def model_recommend(self, user_ids, interactions):\n",
    "        embedding = self.model.transform(interactions)\n",
    "        recommendations = self.model.inverse_transform(embedding)\n",
    "        return recommendations"
   ]
  },
  {
   "cell_type": "code",
   "execution_count": null,
   "metadata": {
    "ExecuteTime": {
     "start_time": "2022-08-14T18:10:55.581Z"
    }
   },
   "outputs": [],
   "source": [
    "matrix_factorization_models = {\n",
    "    f\"svd_{n_components}\": SVDRecommender(\n",
    "        sparse_interface, TruncatedSVD(n_components=n_components)\n",
    "    )\n",
    "    for n_components in np.logspace(\n",
    "        1, 4, num=10, dtype=int\n",
    "    )\n",
    "}\n",
    "\n",
    "assessor.assess(matrix_factorization_models)"
   ]
  },
  {
   "cell_type": "code",
   "execution_count": 43,
   "metadata": {
    "ExecuteTime": {
     "end_time": "2022-08-15T05:56:20.723992Z",
     "start_time": "2022-08-15T05:56:20.662416Z"
    }
   },
   "outputs": [
    {
     "data": {
      "text/html": [
       "<style  type=\"text/css\" >\n",
       "#T_fc7f30b2_1c5e_11ed_b4f6_ac1f6b2cd28arow0_col0,#T_fc7f30b2_1c5e_11ed_b4f6_ac1f6b2cd28arow0_col1,#T_fc7f30b2_1c5e_11ed_b4f6_ac1f6b2cd28arow0_col2,#T_fc7f30b2_1c5e_11ed_b4f6_ac1f6b2cd28arow0_col3,#T_fc7f30b2_1c5e_11ed_b4f6_ac1f6b2cd28arow0_col4,#T_fc7f30b2_1c5e_11ed_b4f6_ac1f6b2cd28arow0_col5,#T_fc7f30b2_1c5e_11ed_b4f6_ac1f6b2cd28arow1_col0,#T_fc7f30b2_1c5e_11ed_b4f6_ac1f6b2cd28arow1_col6,#T_fc7f30b2_1c5e_11ed_b4f6_ac1f6b2cd28arow1_col7,#T_fc7f30b2_1c5e_11ed_b4f6_ac1f6b2cd28arow5_col6,#T_fc7f30b2_1c5e_11ed_b4f6_ac1f6b2cd28arow6_col6,#T_fc7f30b2_1c5e_11ed_b4f6_ac1f6b2cd28arow15_col0,#T_fc7f30b2_1c5e_11ed_b4f6_ac1f6b2cd28arow15_col2,#T_fc7f30b2_1c5e_11ed_b4f6_ac1f6b2cd28arow15_col4,#T_fc7f30b2_1c5e_11ed_b4f6_ac1f6b2cd28arow16_col0,#T_fc7f30b2_1c5e_11ed_b4f6_ac1f6b2cd28arow16_col2,#T_fc7f30b2_1c5e_11ed_b4f6_ac1f6b2cd28arow16_col4,#T_fc7f30b2_1c5e_11ed_b4f6_ac1f6b2cd28arow17_col6,#T_fc7f30b2_1c5e_11ed_b4f6_ac1f6b2cd28arow17_col7,#T_fc7f30b2_1c5e_11ed_b4f6_ac1f6b2cd28arow18_col0,#T_fc7f30b2_1c5e_11ed_b4f6_ac1f6b2cd28arow18_col1,#T_fc7f30b2_1c5e_11ed_b4f6_ac1f6b2cd28arow18_col2,#T_fc7f30b2_1c5e_11ed_b4f6_ac1f6b2cd28arow18_col3,#T_fc7f30b2_1c5e_11ed_b4f6_ac1f6b2cd28arow18_col4,#T_fc7f30b2_1c5e_11ed_b4f6_ac1f6b2cd28arow18_col5,#T_fc7f30b2_1c5e_11ed_b4f6_ac1f6b2cd28arow18_col6,#T_fc7f30b2_1c5e_11ed_b4f6_ac1f6b2cd28arow18_col7,#T_fc7f30b2_1c5e_11ed_b4f6_ac1f6b2cd28arow19_col0,#T_fc7f30b2_1c5e_11ed_b4f6_ac1f6b2cd28arow19_col1,#T_fc7f30b2_1c5e_11ed_b4f6_ac1f6b2cd28arow19_col2,#T_fc7f30b2_1c5e_11ed_b4f6_ac1f6b2cd28arow19_col3,#T_fc7f30b2_1c5e_11ed_b4f6_ac1f6b2cd28arow19_col4,#T_fc7f30b2_1c5e_11ed_b4f6_ac1f6b2cd28arow19_col5,#T_fc7f30b2_1c5e_11ed_b4f6_ac1f6b2cd28arow19_col6,#T_fc7f30b2_1c5e_11ed_b4f6_ac1f6b2cd28arow19_col9,#T_fc7f30b2_1c5e_11ed_b4f6_ac1f6b2cd28arow20_col0,#T_fc7f30b2_1c5e_11ed_b4f6_ac1f6b2cd28arow20_col1,#T_fc7f30b2_1c5e_11ed_b4f6_ac1f6b2cd28arow20_col2,#T_fc7f30b2_1c5e_11ed_b4f6_ac1f6b2cd28arow20_col3,#T_fc7f30b2_1c5e_11ed_b4f6_ac1f6b2cd28arow20_col4,#T_fc7f30b2_1c5e_11ed_b4f6_ac1f6b2cd28arow20_col5,#T_fc7f30b2_1c5e_11ed_b4f6_ac1f6b2cd28arow20_col6,#T_fc7f30b2_1c5e_11ed_b4f6_ac1f6b2cd28arow20_col7{\n",
       "            background-color:  #8db0fe;\n",
       "            color:  #000000;\n",
       "        }#T_fc7f30b2_1c5e_11ed_b4f6_ac1f6b2cd28arow0_col6,#T_fc7f30b2_1c5e_11ed_b4f6_ac1f6b2cd28arow0_col8,#T_fc7f30b2_1c5e_11ed_b4f6_ac1f6b2cd28arow3_col3,#T_fc7f30b2_1c5e_11ed_b4f6_ac1f6b2cd28arow14_col0,#T_fc7f30b2_1c5e_11ed_b4f6_ac1f6b2cd28arow14_col2,#T_fc7f30b2_1c5e_11ed_b4f6_ac1f6b2cd28arow14_col4,#T_fc7f30b2_1c5e_11ed_b4f6_ac1f6b2cd28arow14_col9,#T_fc7f30b2_1c5e_11ed_b4f6_ac1f6b2cd28arow16_col1,#T_fc7f30b2_1c5e_11ed_b4f6_ac1f6b2cd28arow16_col5{\n",
       "            background-color:  #f4987a;\n",
       "            color:  #000000;\n",
       "        }#T_fc7f30b2_1c5e_11ed_b4f6_ac1f6b2cd28arow0_col7,#T_fc7f30b2_1c5e_11ed_b4f6_ac1f6b2cd28arow2_col6,#T_fc7f30b2_1c5e_11ed_b4f6_ac1f6b2cd28arow15_col1,#T_fc7f30b2_1c5e_11ed_b4f6_ac1f6b2cd28arow15_col5{\n",
       "            background-color:  #f49a7b;\n",
       "            color:  #000000;\n",
       "        }#T_fc7f30b2_1c5e_11ed_b4f6_ac1f6b2cd28arow0_col9,#T_fc7f30b2_1c5e_11ed_b4f6_ac1f6b2cd28arow8_col9,#T_fc7f30b2_1c5e_11ed_b4f6_ac1f6b2cd28arow15_col9{\n",
       "            background-color:  #f3c7b1;\n",
       "            color:  #000000;\n",
       "        }#T_fc7f30b2_1c5e_11ed_b4f6_ac1f6b2cd28arow1_col1{\n",
       "            background-color:  #9bbcff;\n",
       "            color:  #000000;\n",
       "        }#T_fc7f30b2_1c5e_11ed_b4f6_ac1f6b2cd28arow1_col2,#T_fc7f30b2_1c5e_11ed_b4f6_ac1f6b2cd28arow7_col7,#T_fc7f30b2_1c5e_11ed_b4f6_ac1f6b2cd28arow8_col6,#T_fc7f30b2_1c5e_11ed_b4f6_ac1f6b2cd28arow15_col6,#T_fc7f30b2_1c5e_11ed_b4f6_ac1f6b2cd28arow16_col6{\n",
       "            background-color:  #90b2fe;\n",
       "            color:  #000000;\n",
       "        }#T_fc7f30b2_1c5e_11ed_b4f6_ac1f6b2cd28arow1_col3,#T_fc7f30b2_1c5e_11ed_b4f6_ac1f6b2cd28arow10_col6{\n",
       "            background-color:  #98b9ff;\n",
       "            color:  #000000;\n",
       "        }#T_fc7f30b2_1c5e_11ed_b4f6_ac1f6b2cd28arow1_col4,#T_fc7f30b2_1c5e_11ed_b4f6_ac1f6b2cd28arow5_col7,#T_fc7f30b2_1c5e_11ed_b4f6_ac1f6b2cd28arow6_col7,#T_fc7f30b2_1c5e_11ed_b4f6_ac1f6b2cd28arow7_col6{\n",
       "            background-color:  #8fb1fe;\n",
       "            color:  #000000;\n",
       "        }#T_fc7f30b2_1c5e_11ed_b4f6_ac1f6b2cd28arow1_col5,#T_fc7f30b2_1c5e_11ed_b4f6_ac1f6b2cd28arow10_col7{\n",
       "            background-color:  #9ebeff;\n",
       "            color:  #000000;\n",
       "        }#T_fc7f30b2_1c5e_11ed_b4f6_ac1f6b2cd28arow1_col8{\n",
       "            background-color:  #d8dce2;\n",
       "            color:  #000000;\n",
       "        }#T_fc7f30b2_1c5e_11ed_b4f6_ac1f6b2cd28arow1_col9{\n",
       "            background-color:  #ebd3c6;\n",
       "            color:  #000000;\n",
       "        }#T_fc7f30b2_1c5e_11ed_b4f6_ac1f6b2cd28arow2_col0,#T_fc7f30b2_1c5e_11ed_b4f6_ac1f6b2cd28arow3_col0,#T_fc7f30b2_1c5e_11ed_b4f6_ac1f6b2cd28arow4_col0,#T_fc7f30b2_1c5e_11ed_b4f6_ac1f6b2cd28arow17_col8{\n",
       "            background-color:  #cedaeb;\n",
       "            color:  #000000;\n",
       "        }#T_fc7f30b2_1c5e_11ed_b4f6_ac1f6b2cd28arow2_col1{\n",
       "            background-color:  #c7d7f0;\n",
       "            color:  #000000;\n",
       "        }#T_fc7f30b2_1c5e_11ed_b4f6_ac1f6b2cd28arow2_col2,#T_fc7f30b2_1c5e_11ed_b4f6_ac1f6b2cd28arow3_col2,#T_fc7f30b2_1c5e_11ed_b4f6_ac1f6b2cd28arow4_col2,#T_fc7f30b2_1c5e_11ed_b4f6_ac1f6b2cd28arow7_col2,#T_fc7f30b2_1c5e_11ed_b4f6_ac1f6b2cd28arow9_col0{\n",
       "            background-color:  #ccd9ed;\n",
       "            color:  #000000;\n",
       "        }#T_fc7f30b2_1c5e_11ed_b4f6_ac1f6b2cd28arow2_col3,#T_fc7f30b2_1c5e_11ed_b4f6_ac1f6b2cd28arow12_col0,#T_fc7f30b2_1c5e_11ed_b4f6_ac1f6b2cd28arow17_col3{\n",
       "            background-color:  #f5c2aa;\n",
       "            color:  #000000;\n",
       "        }#T_fc7f30b2_1c5e_11ed_b4f6_ac1f6b2cd28arow2_col4,#T_fc7f30b2_1c5e_11ed_b4f6_ac1f6b2cd28arow3_col4,#T_fc7f30b2_1c5e_11ed_b4f6_ac1f6b2cd28arow4_col4,#T_fc7f30b2_1c5e_11ed_b4f6_ac1f6b2cd28arow12_col1{\n",
       "            background-color:  #cdd9ec;\n",
       "            color:  #000000;\n",
       "        }#T_fc7f30b2_1c5e_11ed_b4f6_ac1f6b2cd28arow2_col5{\n",
       "            background-color:  #bfd3f6;\n",
       "            color:  #000000;\n",
       "        }#T_fc7f30b2_1c5e_11ed_b4f6_ac1f6b2cd28arow2_col7,#T_fc7f30b2_1c5e_11ed_b4f6_ac1f6b2cd28arow4_col6,#T_fc7f30b2_1c5e_11ed_b4f6_ac1f6b2cd28arow4_col7{\n",
       "            background-color:  #f59c7d;\n",
       "            color:  #000000;\n",
       "        }#T_fc7f30b2_1c5e_11ed_b4f6_ac1f6b2cd28arow2_col8,#T_fc7f30b2_1c5e_11ed_b4f6_ac1f6b2cd28arow3_col9,#T_fc7f30b2_1c5e_11ed_b4f6_ac1f6b2cd28arow13_col2,#T_fc7f30b2_1c5e_11ed_b4f6_ac1f6b2cd28arow13_col4{\n",
       "            background-color:  #f6a586;\n",
       "            color:  #000000;\n",
       "        }#T_fc7f30b2_1c5e_11ed_b4f6_ac1f6b2cd28arow2_col9,#T_fc7f30b2_1c5e_11ed_b4f6_ac1f6b2cd28arow4_col9,#T_fc7f30b2_1c5e_11ed_b4f6_ac1f6b2cd28arow9_col8{\n",
       "            background-color:  #edd2c3;\n",
       "            color:  #000000;\n",
       "        }#T_fc7f30b2_1c5e_11ed_b4f6_ac1f6b2cd28arow3_col1,#T_fc7f30b2_1c5e_11ed_b4f6_ac1f6b2cd28arow8_col4,#T_fc7f30b2_1c5e_11ed_b4f6_ac1f6b2cd28arow10_col5{\n",
       "            background-color:  #d2dbe8;\n",
       "            color:  #000000;\n",
       "        }#T_fc7f30b2_1c5e_11ed_b4f6_ac1f6b2cd28arow3_col5{\n",
       "            background-color:  #cbd8ee;\n",
       "            color:  #000000;\n",
       "        }#T_fc7f30b2_1c5e_11ed_b4f6_ac1f6b2cd28arow3_col6,#T_fc7f30b2_1c5e_11ed_b4f6_ac1f6b2cd28arow14_col8{\n",
       "            background-color:  #f5a081;\n",
       "            color:  #000000;\n",
       "        }#T_fc7f30b2_1c5e_11ed_b4f6_ac1f6b2cd28arow3_col7,#T_fc7f30b2_1c5e_11ed_b4f6_ac1f6b2cd28arow13_col9{\n",
       "            background-color:  #f59f80;\n",
       "            color:  #000000;\n",
       "        }#T_fc7f30b2_1c5e_11ed_b4f6_ac1f6b2cd28arow3_col8,#T_fc7f30b2_1c5e_11ed_b4f6_ac1f6b2cd28arow5_col3,#T_fc7f30b2_1c5e_11ed_b4f6_ac1f6b2cd28arow12_col2{\n",
       "            background-color:  #f7b194;\n",
       "            color:  #000000;\n",
       "        }#T_fc7f30b2_1c5e_11ed_b4f6_ac1f6b2cd28arow4_col1,#T_fc7f30b2_1c5e_11ed_b4f6_ac1f6b2cd28arow12_col7{\n",
       "            background-color:  #c4d5f3;\n",
       "            color:  #000000;\n",
       "        }#T_fc7f30b2_1c5e_11ed_b4f6_ac1f6b2cd28arow4_col3{\n",
       "            background-color:  #f2cab5;\n",
       "            color:  #000000;\n",
       "        }#T_fc7f30b2_1c5e_11ed_b4f6_ac1f6b2cd28arow4_col5{\n",
       "            background-color:  #bcd2f7;\n",
       "            color:  #000000;\n",
       "        }#T_fc7f30b2_1c5e_11ed_b4f6_ac1f6b2cd28arow4_col8{\n",
       "            background-color:  #f6a283;\n",
       "            color:  #000000;\n",
       "        }#T_fc7f30b2_1c5e_11ed_b4f6_ac1f6b2cd28arow5_col0{\n",
       "            background-color:  #a5c3fe;\n",
       "            color:  #000000;\n",
       "        }#T_fc7f30b2_1c5e_11ed_b4f6_ac1f6b2cd28arow5_col1{\n",
       "            background-color:  #f7a688;\n",
       "            color:  #000000;\n",
       "        }#T_fc7f30b2_1c5e_11ed_b4f6_ac1f6b2cd28arow5_col2,#T_fc7f30b2_1c5e_11ed_b4f6_ac1f6b2cd28arow12_col5,#T_fc7f30b2_1c5e_11ed_b4f6_ac1f6b2cd28arow13_col1{\n",
       "            background-color:  #c0d4f5;\n",
       "            color:  #000000;\n",
       "        }#T_fc7f30b2_1c5e_11ed_b4f6_ac1f6b2cd28arow5_col4{\n",
       "            background-color:  #b1cbfc;\n",
       "            color:  #000000;\n",
       "        }#T_fc7f30b2_1c5e_11ed_b4f6_ac1f6b2cd28arow5_col5,#T_fc7f30b2_1c5e_11ed_b4f6_ac1f6b2cd28arow14_col6{\n",
       "            background-color:  #f7b396;\n",
       "            color:  #000000;\n",
       "        }#T_fc7f30b2_1c5e_11ed_b4f6_ac1f6b2cd28arow5_col8,#T_fc7f30b2_1c5e_11ed_b4f6_ac1f6b2cd28arow8_col2,#T_fc7f30b2_1c5e_11ed_b4f6_ac1f6b2cd28arow9_col5{\n",
       "            background-color:  #d7dce3;\n",
       "            color:  #000000;\n",
       "        }#T_fc7f30b2_1c5e_11ed_b4f6_ac1f6b2cd28arow5_col9,#T_fc7f30b2_1c5e_11ed_b4f6_ac1f6b2cd28arow7_col1,#T_fc7f30b2_1c5e_11ed_b4f6_ac1f6b2cd28arow11_col0{\n",
       "            background-color:  #ead4c8;\n",
       "            color:  #000000;\n",
       "        }#T_fc7f30b2_1c5e_11ed_b4f6_ac1f6b2cd28arow6_col0,#T_fc7f30b2_1c5e_11ed_b4f6_ac1f6b2cd28arow14_col1{\n",
       "            background-color:  #aac7fd;\n",
       "            color:  #000000;\n",
       "        }#T_fc7f30b2_1c5e_11ed_b4f6_ac1f6b2cd28arow6_col1{\n",
       "            background-color:  #f7b99e;\n",
       "            color:  #000000;\n",
       "        }#T_fc7f30b2_1c5e_11ed_b4f6_ac1f6b2cd28arow6_col2{\n",
       "            background-color:  #c3d5f4;\n",
       "            color:  #000000;\n",
       "        }#T_fc7f30b2_1c5e_11ed_b4f6_ac1f6b2cd28arow6_col3,#T_fc7f30b2_1c5e_11ed_b4f6_ac1f6b2cd28arow17_col1{\n",
       "            background-color:  #f7b79b;\n",
       "            color:  #000000;\n",
       "        }#T_fc7f30b2_1c5e_11ed_b4f6_ac1f6b2cd28arow6_col4{\n",
       "            background-color:  #bbd1f8;\n",
       "            color:  #000000;\n",
       "        }#T_fc7f30b2_1c5e_11ed_b4f6_ac1f6b2cd28arow6_col5,#T_fc7f30b2_1c5e_11ed_b4f6_ac1f6b2cd28arow11_col4,#T_fc7f30b2_1c5e_11ed_b4f6_ac1f6b2cd28arow16_col9{\n",
       "            background-color:  #f4c6af;\n",
       "            color:  #000000;\n",
       "        }#T_fc7f30b2_1c5e_11ed_b4f6_ac1f6b2cd28arow6_col8{\n",
       "            background-color:  #dadce0;\n",
       "            color:  #000000;\n",
       "        }#T_fc7f30b2_1c5e_11ed_b4f6_ac1f6b2cd28arow6_col9,#T_fc7f30b2_1c5e_11ed_b4f6_ac1f6b2cd28arow10_col4{\n",
       "            background-color:  #ecd3c5;\n",
       "            color:  #000000;\n",
       "        }#T_fc7f30b2_1c5e_11ed_b4f6_ac1f6b2cd28arow7_col0,#T_fc7f30b2_1c5e_11ed_b4f6_ac1f6b2cd28arow13_col5{\n",
       "            background-color:  #b3cdfb;\n",
       "            color:  #000000;\n",
       "        }#T_fc7f30b2_1c5e_11ed_b4f6_ac1f6b2cd28arow7_col3{\n",
       "            background-color:  #eed0c0;\n",
       "            color:  #000000;\n",
       "        }#T_fc7f30b2_1c5e_11ed_b4f6_ac1f6b2cd28arow7_col4,#T_fc7f30b2_1c5e_11ed_b4f6_ac1f6b2cd28arow13_col3{\n",
       "            background-color:  #c6d6f1;\n",
       "            color:  #000000;\n",
       "        }#T_fc7f30b2_1c5e_11ed_b4f6_ac1f6b2cd28arow7_col5{\n",
       "            background-color:  #e2dad5;\n",
       "            color:  #000000;\n",
       "        }#T_fc7f30b2_1c5e_11ed_b4f6_ac1f6b2cd28arow7_col8,#T_fc7f30b2_1c5e_11ed_b4f6_ac1f6b2cd28arow8_col1,#T_fc7f30b2_1c5e_11ed_b4f6_ac1f6b2cd28arow9_col3{\n",
       "            background-color:  #e3d9d3;\n",
       "            color:  #000000;\n",
       "        }#T_fc7f30b2_1c5e_11ed_b4f6_ac1f6b2cd28arow7_col9{\n",
       "            background-color:  #f1ccb8;\n",
       "            color:  #000000;\n",
       "        }#T_fc7f30b2_1c5e_11ed_b4f6_ac1f6b2cd28arow8_col0{\n",
       "            background-color:  #bed2f6;\n",
       "            color:  #000000;\n",
       "        }#T_fc7f30b2_1c5e_11ed_b4f6_ac1f6b2cd28arow8_col3{\n",
       "            background-color:  #e7d7ce;\n",
       "            color:  #000000;\n",
       "        }#T_fc7f30b2_1c5e_11ed_b4f6_ac1f6b2cd28arow8_col5,#T_fc7f30b2_1c5e_11ed_b4f6_ac1f6b2cd28arow10_col0{\n",
       "            background-color:  #dbdcde;\n",
       "            color:  #000000;\n",
       "        }#T_fc7f30b2_1c5e_11ed_b4f6_ac1f6b2cd28arow8_col7,#T_fc7f30b2_1c5e_11ed_b4f6_ac1f6b2cd28arow15_col7,#T_fc7f30b2_1c5e_11ed_b4f6_ac1f6b2cd28arow16_col7{\n",
       "            background-color:  #92b4fe;\n",
       "            color:  #000000;\n",
       "        }#T_fc7f30b2_1c5e_11ed_b4f6_ac1f6b2cd28arow8_col8,#T_fc7f30b2_1c5e_11ed_b4f6_ac1f6b2cd28arow15_col8,#T_fc7f30b2_1c5e_11ed_b4f6_ac1f6b2cd28arow16_col8{\n",
       "            background-color:  #e8d6cc;\n",
       "            color:  #000000;\n",
       "        }#T_fc7f30b2_1c5e_11ed_b4f6_ac1f6b2cd28arow9_col1{\n",
       "            background-color:  #dfdbd9;\n",
       "            color:  #000000;\n",
       "        }#T_fc7f30b2_1c5e_11ed_b4f6_ac1f6b2cd28arow9_col2,#T_fc7f30b2_1c5e_11ed_b4f6_ac1f6b2cd28arow17_col9{\n",
       "            background-color:  #e5d8d1;\n",
       "            color:  #000000;\n",
       "        }#T_fc7f30b2_1c5e_11ed_b4f6_ac1f6b2cd28arow9_col4{\n",
       "            background-color:  #e0dbd8;\n",
       "            color:  #000000;\n",
       "        }#T_fc7f30b2_1c5e_11ed_b4f6_ac1f6b2cd28arow9_col6{\n",
       "            background-color:  #93b5fe;\n",
       "            color:  #000000;\n",
       "        }#T_fc7f30b2_1c5e_11ed_b4f6_ac1f6b2cd28arow9_col7{\n",
       "            background-color:  #96b7ff;\n",
       "            color:  #000000;\n",
       "        }#T_fc7f30b2_1c5e_11ed_b4f6_ac1f6b2cd28arow9_col9{\n",
       "            background-color:  #f5c1a9;\n",
       "            color:  #000000;\n",
       "        }#T_fc7f30b2_1c5e_11ed_b4f6_ac1f6b2cd28arow10_col1{\n",
       "            background-color:  #dcdddd;\n",
       "            color:  #000000;\n",
       "        }#T_fc7f30b2_1c5e_11ed_b4f6_ac1f6b2cd28arow10_col2,#T_fc7f30b2_1c5e_11ed_b4f6_ac1f6b2cd28arow10_col8{\n",
       "            background-color:  #f0cdbb;\n",
       "            color:  #000000;\n",
       "        }#T_fc7f30b2_1c5e_11ed_b4f6_ac1f6b2cd28arow10_col3,#T_fc7f30b2_1c5e_11ed_b4f6_ac1f6b2cd28arow13_col6{\n",
       "            background-color:  #e1dad6;\n",
       "            color:  #000000;\n",
       "        }#T_fc7f30b2_1c5e_11ed_b4f6_ac1f6b2cd28arow10_col9{\n",
       "            background-color:  #f7bca1;\n",
       "            color:  #000000;\n",
       "        }#T_fc7f30b2_1c5e_11ed_b4f6_ac1f6b2cd28arow11_col1{\n",
       "            background-color:  #d6dce4;\n",
       "            color:  #000000;\n",
       "        }#T_fc7f30b2_1c5e_11ed_b4f6_ac1f6b2cd28arow11_col2,#T_fc7f30b2_1c5e_11ed_b4f6_ac1f6b2cd28arow12_col8{\n",
       "            background-color:  #f5c0a7;\n",
       "            color:  #000000;\n",
       "        }#T_fc7f30b2_1c5e_11ed_b4f6_ac1f6b2cd28arow11_col3{\n",
       "            background-color:  #dddcdc;\n",
       "            color:  #000000;\n",
       "        }#T_fc7f30b2_1c5e_11ed_b4f6_ac1f6b2cd28arow11_col5{\n",
       "            background-color:  #c9d7f0;\n",
       "            color:  #000000;\n",
       "        }#T_fc7f30b2_1c5e_11ed_b4f6_ac1f6b2cd28arow11_col6,#T_fc7f30b2_1c5e_11ed_b4f6_ac1f6b2cd28arow14_col5{\n",
       "            background-color:  #a2c1ff;\n",
       "            color:  #000000;\n",
       "        }#T_fc7f30b2_1c5e_11ed_b4f6_ac1f6b2cd28arow11_col7{\n",
       "            background-color:  #abc8fd;\n",
       "            color:  #000000;\n",
       "        }#T_fc7f30b2_1c5e_11ed_b4f6_ac1f6b2cd28arow11_col8{\n",
       "            background-color:  #f3c8b2;\n",
       "            color:  #000000;\n",
       "        }#T_fc7f30b2_1c5e_11ed_b4f6_ac1f6b2cd28arow11_col9,#T_fc7f30b2_1c5e_11ed_b4f6_ac1f6b2cd28arow13_col8{\n",
       "            background-color:  #f7b497;\n",
       "            color:  #000000;\n",
       "        }#T_fc7f30b2_1c5e_11ed_b4f6_ac1f6b2cd28arow12_col3{\n",
       "            background-color:  #d5dbe5;\n",
       "            color:  #000000;\n",
       "        }#T_fc7f30b2_1c5e_11ed_b4f6_ac1f6b2cd28arow12_col4{\n",
       "            background-color:  #f7b599;\n",
       "            color:  #000000;\n",
       "        }#T_fc7f30b2_1c5e_11ed_b4f6_ac1f6b2cd28arow12_col6{\n",
       "            background-color:  #b5cdfa;\n",
       "            color:  #000000;\n",
       "        }#T_fc7f30b2_1c5e_11ed_b4f6_ac1f6b2cd28arow12_col9,#T_fc7f30b2_1c5e_11ed_b4f6_ac1f6b2cd28arow14_col7{\n",
       "            background-color:  #f7aa8c;\n",
       "            color:  #000000;\n",
       "        }#T_fc7f30b2_1c5e_11ed_b4f6_ac1f6b2cd28arow13_col0,#T_fc7f30b2_1c5e_11ed_b4f6_ac1f6b2cd28arow15_col3,#T_fc7f30b2_1c5e_11ed_b4f6_ac1f6b2cd28arow16_col3{\n",
       "            background-color:  #f7ac8e;\n",
       "            color:  #000000;\n",
       "        }#T_fc7f30b2_1c5e_11ed_b4f6_ac1f6b2cd28arow13_col7{\n",
       "            background-color:  #efcfbf;\n",
       "            color:  #000000;\n",
       "        }#T_fc7f30b2_1c5e_11ed_b4f6_ac1f6b2cd28arow14_col3{\n",
       "            background-color:  #aec9fc;\n",
       "            color:  #000000;\n",
       "        }#T_fc7f30b2_1c5e_11ed_b4f6_ac1f6b2cd28arow17_col0{\n",
       "            background-color:  #9abbff;\n",
       "            color:  #000000;\n",
       "        }#T_fc7f30b2_1c5e_11ed_b4f6_ac1f6b2cd28arow17_col2{\n",
       "            background-color:  #b7cff9;\n",
       "            color:  #000000;\n",
       "        }#T_fc7f30b2_1c5e_11ed_b4f6_ac1f6b2cd28arow17_col4{\n",
       "            background-color:  #9fbfff;\n",
       "            color:  #000000;\n",
       "        }#T_fc7f30b2_1c5e_11ed_b4f6_ac1f6b2cd28arow17_col5{\n",
       "            background-color:  #f6bfa6;\n",
       "            color:  #000000;\n",
       "        }#T_fc7f30b2_1c5e_11ed_b4f6_ac1f6b2cd28arow18_col8{\n",
       "            background-color:  #afcafc;\n",
       "            color:  #000000;\n",
       "        }#T_fc7f30b2_1c5e_11ed_b4f6_ac1f6b2cd28arow18_col9{\n",
       "            background-color:  #97b8ff;\n",
       "            color:  #000000;\n",
       "        }#T_fc7f30b2_1c5e_11ed_b4f6_ac1f6b2cd28arow19_col7,#T_fc7f30b2_1c5e_11ed_b4f6_ac1f6b2cd28arow20_col8{\n",
       "            background-color:  #8caffe;\n",
       "            color:  #000000;\n",
       "        }#T_fc7f30b2_1c5e_11ed_b4f6_ac1f6b2cd28arow19_col8{\n",
       "            background-color:  #e9d5cb;\n",
       "            color:  #000000;\n",
       "        }#T_fc7f30b2_1c5e_11ed_b4f6_ac1f6b2cd28arow20_col9{\n",
       "            background-color:  #a1c0ff;\n",
       "            color:  #000000;\n",
       "        }</style><table id=\"T_fc7f30b2_1c5e_11ed_b4f6_ac1f6b2cd28a\" ><thead>    <tr>        <th class=\"blank level0\" ></th>        <th class=\"col_heading level0 col0\" >train_mnap</th>        <th class=\"col_heading level0 col1\" >val_mnap</th>        <th class=\"col_heading level0 col2\" >train_hitrate</th>        <th class=\"col_heading level0 col3\" >val_hitrate</th>        <th class=\"col_heading level0 col4\" >train_mrr</th>        <th class=\"col_heading level0 col5\" >val_mrr</th>        <th class=\"col_heading level0 col6\" >train_coverage</th>        <th class=\"col_heading level0 col7\" >val_coverage</th>        <th class=\"col_heading level0 col8\" >train_surprisal</th>        <th class=\"col_heading level0 col9\" >val_surprisal</th>    </tr></thead><tbody>\n",
       "                <tr>\n",
       "                        <th id=\"T_fc7f30b2_1c5e_11ed_b4f6_ac1f6b2cd28alevel0_row0\" class=\"row_heading level0 row0\" >random</th>\n",
       "                        <td id=\"T_fc7f30b2_1c5e_11ed_b4f6_ac1f6b2cd28arow0_col0\" class=\"data row0 col0\" >0.000112</td>\n",
       "                        <td id=\"T_fc7f30b2_1c5e_11ed_b4f6_ac1f6b2cd28arow0_col1\" class=\"data row0 col1\" >0.000096</td>\n",
       "                        <td id=\"T_fc7f30b2_1c5e_11ed_b4f6_ac1f6b2cd28arow0_col2\" class=\"data row0 col2\" >0.000923</td>\n",
       "                        <td id=\"T_fc7f30b2_1c5e_11ed_b4f6_ac1f6b2cd28arow0_col3\" class=\"data row0 col3\" >0.000581</td>\n",
       "                        <td id=\"T_fc7f30b2_1c5e_11ed_b4f6_ac1f6b2cd28arow0_col4\" class=\"data row0 col4\" >0.000166</td>\n",
       "                        <td id=\"T_fc7f30b2_1c5e_11ed_b4f6_ac1f6b2cd28arow0_col5\" class=\"data row0 col5\" >0.000099</td>\n",
       "                        <td id=\"T_fc7f30b2_1c5e_11ed_b4f6_ac1f6b2cd28arow0_col6\" class=\"data row0 col6\" >1.000000</td>\n",
       "                        <td id=\"T_fc7f30b2_1c5e_11ed_b4f6_ac1f6b2cd28arow0_col7\" class=\"data row0 col7\" >0.914483</td>\n",
       "                        <td id=\"T_fc7f30b2_1c5e_11ed_b4f6_ac1f6b2cd28arow0_col8\" class=\"data row0 col8\" >0.814951</td>\n",
       "                        <td id=\"T_fc7f30b2_1c5e_11ed_b4f6_ac1f6b2cd28arow0_col9\" class=\"data row0 col9\" >0.569923</td>\n",
       "            </tr>\n",
       "            <tr>\n",
       "                        <th id=\"T_fc7f30b2_1c5e_11ed_b4f6_ac1f6b2cd28alevel0_row1\" class=\"row_heading level0 row1\" >popular</th>\n",
       "                        <td id=\"T_fc7f30b2_1c5e_11ed_b4f6_ac1f6b2cd28arow1_col0\" class=\"data row1 col0\" >0.005925</td>\n",
       "                        <td id=\"T_fc7f30b2_1c5e_11ed_b4f6_ac1f6b2cd28arow1_col1\" class=\"data row1 col1\" >0.003523</td>\n",
       "                        <td id=\"T_fc7f30b2_1c5e_11ed_b4f6_ac1f6b2cd28arow1_col2\" class=\"data row1 col2\" >0.018567</td>\n",
       "                        <td id=\"T_fc7f30b2_1c5e_11ed_b4f6_ac1f6b2cd28arow1_col3\" class=\"data row1 col3\" >0.009424</td>\n",
       "                        <td id=\"T_fc7f30b2_1c5e_11ed_b4f6_ac1f6b2cd28arow1_col4\" class=\"data row1 col4\" >0.010624</td>\n",
       "                        <td id=\"T_fc7f30b2_1c5e_11ed_b4f6_ac1f6b2cd28arow1_col5\" class=\"data row1 col5\" >0.004419</td>\n",
       "                        <td id=\"T_fc7f30b2_1c5e_11ed_b4f6_ac1f6b2cd28arow1_col6\" class=\"data row1 col6\" >0.000765</td>\n",
       "                        <td id=\"T_fc7f30b2_1c5e_11ed_b4f6_ac1f6b2cd28arow1_col7\" class=\"data row1 col7\" >0.001007</td>\n",
       "                        <td id=\"T_fc7f30b2_1c5e_11ed_b4f6_ac1f6b2cd28arow1_col8\" class=\"data row1 col8\" >0.437210</td>\n",
       "                        <td id=\"T_fc7f30b2_1c5e_11ed_b4f6_ac1f6b2cd28arow1_col9\" class=\"data row1 col9\" >0.483808</td>\n",
       "            </tr>\n",
       "            <tr>\n",
       "                        <th id=\"T_fc7f30b2_1c5e_11ed_b4f6_ac1f6b2cd28alevel0_row2\" class=\"row_heading level0 row2\" >tfidf</th>\n",
       "                        <td id=\"T_fc7f30b2_1c5e_11ed_b4f6_ac1f6b2cd28arow2_col0\" class=\"data row2 col0\" >0.337795</td>\n",
       "                        <td id=\"T_fc7f30b2_1c5e_11ed_b4f6_ac1f6b2cd28arow2_col1\" class=\"data row2 col1\" >0.015240</td>\n",
       "                        <td id=\"T_fc7f30b2_1c5e_11ed_b4f6_ac1f6b2cd28arow2_col2\" class=\"data row2 col2\" >0.338338</td>\n",
       "                        <td id=\"T_fc7f30b2_1c5e_11ed_b4f6_ac1f6b2cd28arow2_col3\" class=\"data row2 col3\" >0.104690</td>\n",
       "                        <td id=\"T_fc7f30b2_1c5e_11ed_b4f6_ac1f6b2cd28arow2_col4\" class=\"data row2 col4\" >0.338043</td>\n",
       "                        <td id=\"T_fc7f30b2_1c5e_11ed_b4f6_ac1f6b2cd28arow2_col5\" class=\"data row2 col5\" >0.013479</td>\n",
       "                        <td id=\"T_fc7f30b2_1c5e_11ed_b4f6_ac1f6b2cd28arow2_col6\" class=\"data row2 col6\" >0.995293</td>\n",
       "                        <td id=\"T_fc7f30b2_1c5e_11ed_b4f6_ac1f6b2cd28arow2_col7\" class=\"data row2 col7\" >0.905298</td>\n",
       "                        <td id=\"T_fc7f30b2_1c5e_11ed_b4f6_ac1f6b2cd28arow2_col8\" class=\"data row2 col8\" >0.771607</td>\n",
       "                        <td id=\"T_fc7f30b2_1c5e_11ed_b4f6_ac1f6b2cd28arow2_col9\" class=\"data row2 col9\" >0.498584</td>\n",
       "            </tr>\n",
       "            <tr>\n",
       "                        <th id=\"T_fc7f30b2_1c5e_11ed_b4f6_ac1f6b2cd28alevel0_row3\" class=\"row_heading level0 row3\" >bm25</th>\n",
       "                        <td id=\"T_fc7f30b2_1c5e_11ed_b4f6_ac1f6b2cd28arow3_col0\" class=\"data row3 col0\" >0.337348</td>\n",
       "                        <td id=\"T_fc7f30b2_1c5e_11ed_b4f6_ac1f6b2cd28arow3_col1\" class=\"data row3 col1\" >0.018510</td>\n",
       "                        <td id=\"T_fc7f30b2_1c5e_11ed_b4f6_ac1f6b2cd28arow3_col2\" class=\"data row3 col2\" >0.338074</td>\n",
       "                        <td id=\"T_fc7f30b2_1c5e_11ed_b4f6_ac1f6b2cd28arow3_col3\" class=\"data row3 col3\" >0.136852</td>\n",
       "                        <td id=\"T_fc7f30b2_1c5e_11ed_b4f6_ac1f6b2cd28arow3_col4\" class=\"data row3 col4\" >0.337907</td>\n",
       "                        <td id=\"T_fc7f30b2_1c5e_11ed_b4f6_ac1f6b2cd28arow3_col5\" class=\"data row3 col5\" >0.017151</td>\n",
       "                        <td id=\"T_fc7f30b2_1c5e_11ed_b4f6_ac1f6b2cd28arow3_col6\" class=\"data row3 col6\" >0.966919</td>\n",
       "                        <td id=\"T_fc7f30b2_1c5e_11ed_b4f6_ac1f6b2cd28arow3_col7\" class=\"data row3 col7\" >0.886322</td>\n",
       "                        <td id=\"T_fc7f30b2_1c5e_11ed_b4f6_ac1f6b2cd28arow3_col8\" class=\"data row3 col8\" >0.721491</td>\n",
       "                        <td id=\"T_fc7f30b2_1c5e_11ed_b4f6_ac1f6b2cd28arow3_col9\" class=\"data row3 col9\" >0.731392</td>\n",
       "            </tr>\n",
       "            <tr>\n",
       "                        <th id=\"T_fc7f30b2_1c5e_11ed_b4f6_ac1f6b2cd28alevel0_row4\" class=\"row_heading level0 row4\" >cosine</th>\n",
       "                        <td id=\"T_fc7f30b2_1c5e_11ed_b4f6_ac1f6b2cd28arow4_col0\" class=\"data row4 col0\" >0.337586</td>\n",
       "                        <td id=\"T_fc7f30b2_1c5e_11ed_b4f6_ac1f6b2cd28arow4_col1\" class=\"data row4 col1\" >0.014197</td>\n",
       "                        <td id=\"T_fc7f30b2_1c5e_11ed_b4f6_ac1f6b2cd28arow4_col2\" class=\"data row4 col2\" >0.338161</td>\n",
       "                        <td id=\"T_fc7f30b2_1c5e_11ed_b4f6_ac1f6b2cd28arow4_col3\" class=\"data row4 col3\" >0.096809</td>\n",
       "                        <td id=\"T_fc7f30b2_1c5e_11ed_b4f6_ac1f6b2cd28arow4_col4\" class=\"data row4 col4\" >0.337926</td>\n",
       "                        <td id=\"T_fc7f30b2_1c5e_11ed_b4f6_ac1f6b2cd28arow4_col5\" class=\"data row4 col5\" >0.012577</td>\n",
       "                        <td id=\"T_fc7f30b2_1c5e_11ed_b4f6_ac1f6b2cd28arow4_col6\" class=\"data row4 col6\" >0.989917</td>\n",
       "                        <td id=\"T_fc7f30b2_1c5e_11ed_b4f6_ac1f6b2cd28arow4_col7\" class=\"data row4 col7\" >0.900818</td>\n",
       "                        <td id=\"T_fc7f30b2_1c5e_11ed_b4f6_ac1f6b2cd28arow4_col8\" class=\"data row4 col8\" >0.782828</td>\n",
       "                        <td id=\"T_fc7f30b2_1c5e_11ed_b4f6_ac1f6b2cd28arow4_col9\" class=\"data row4 col9\" >0.499409</td>\n",
       "            </tr>\n",
       "            <tr>\n",
       "                        <th id=\"T_fc7f30b2_1c5e_11ed_b4f6_ac1f6b2cd28alevel0_row5\" class=\"row_heading level0 row5\" >svd_10</th>\n",
       "                        <td id=\"T_fc7f30b2_1c5e_11ed_b4f6_ac1f6b2cd28arow5_col0\" class=\"data row5 col0\" >0.113964</td>\n",
       "                        <td id=\"T_fc7f30b2_1c5e_11ed_b4f6_ac1f6b2cd28arow5_col1\" class=\"data row5 col1\" >0.040916</td>\n",
       "                        <td id=\"T_fc7f30b2_1c5e_11ed_b4f6_ac1f6b2cd28arow5_col2\" class=\"data row5 col2\" >0.268531</td>\n",
       "                        <td id=\"T_fc7f30b2_1c5e_11ed_b4f6_ac1f6b2cd28arow5_col3\" class=\"data row5 col3\" >0.119701</td>\n",
       "                        <td id=\"T_fc7f30b2_1c5e_11ed_b4f6_ac1f6b2cd28arow5_col4\" class=\"data row5 col4\" >0.182651</td>\n",
       "                        <td id=\"T_fc7f30b2_1c5e_11ed_b4f6_ac1f6b2cd28arow5_col5\" class=\"data row5 col5\" >0.039528</td>\n",
       "                        <td id=\"T_fc7f30b2_1c5e_11ed_b4f6_ac1f6b2cd28arow5_col6\" class=\"data row5 col6\" >0.006964</td>\n",
       "                        <td id=\"T_fc7f30b2_1c5e_11ed_b4f6_ac1f6b2cd28arow5_col7\" class=\"data row5 col7\" >0.008909</td>\n",
       "                        <td id=\"T_fc7f30b2_1c5e_11ed_b4f6_ac1f6b2cd28arow5_col8\" class=\"data row5 col8\" >0.429239</td>\n",
       "                        <td id=\"T_fc7f30b2_1c5e_11ed_b4f6_ac1f6b2cd28arow5_col9\" class=\"data row5 col9\" >0.479104</td>\n",
       "            </tr>\n",
       "            <tr>\n",
       "                        <th id=\"T_fc7f30b2_1c5e_11ed_b4f6_ac1f6b2cd28alevel0_row6\" class=\"row_heading level0 row6\" >svd_21</th>\n",
       "                        <td id=\"T_fc7f30b2_1c5e_11ed_b4f6_ac1f6b2cd28arow6_col0\" class=\"data row6 col0\" >0.142999</td>\n",
       "                        <td id=\"T_fc7f30b2_1c5e_11ed_b4f6_ac1f6b2cd28arow6_col1\" class=\"data row6 col1\" >0.036116</td>\n",
       "                        <td id=\"T_fc7f30b2_1c5e_11ed_b4f6_ac1f6b2cd28arow6_col2\" class=\"data row6 col2\" >0.286065</td>\n",
       "                        <td id=\"T_fc7f30b2_1c5e_11ed_b4f6_ac1f6b2cd28arow6_col3\" class=\"data row6 col3\" >0.114706</td>\n",
       "                        <td id=\"T_fc7f30b2_1c5e_11ed_b4f6_ac1f6b2cd28arow6_col4\" class=\"data row6 col4\" >0.230475</td>\n",
       "                        <td id=\"T_fc7f30b2_1c5e_11ed_b4f6_ac1f6b2cd28arow6_col5\" class=\"data row6 col5\" >0.033937</td>\n",
       "                        <td id=\"T_fc7f30b2_1c5e_11ed_b4f6_ac1f6b2cd28arow6_col6\" class=\"data row6 col6\" >0.007711</td>\n",
       "                        <td id=\"T_fc7f30b2_1c5e_11ed_b4f6_ac1f6b2cd28arow6_col7\" class=\"data row6 col7\" >0.009840</td>\n",
       "                        <td id=\"T_fc7f30b2_1c5e_11ed_b4f6_ac1f6b2cd28arow6_col8\" class=\"data row6 col8\" >0.445441</td>\n",
       "                        <td id=\"T_fc7f30b2_1c5e_11ed_b4f6_ac1f6b2cd28arow6_col9\" class=\"data row6 col9\" >0.492667</td>\n",
       "            </tr>\n",
       "            <tr>\n",
       "                        <th id=\"T_fc7f30b2_1c5e_11ed_b4f6_ac1f6b2cd28alevel0_row7\" class=\"row_heading level0 row7\" >svd_46</th>\n",
       "                        <td id=\"T_fc7f30b2_1c5e_11ed_b4f6_ac1f6b2cd28arow7_col0\" class=\"data row7 col0\" >0.189464</td>\n",
       "                        <td id=\"T_fc7f30b2_1c5e_11ed_b4f6_ac1f6b2cd28arow7_col1\" class=\"data row7 col1\" >0.026909</td>\n",
       "                        <td id=\"T_fc7f30b2_1c5e_11ed_b4f6_ac1f6b2cd28arow7_col2\" class=\"data row7 col2\" >0.343070</td>\n",
       "                        <td id=\"T_fc7f30b2_1c5e_11ed_b4f6_ac1f6b2cd28arow7_col3\" class=\"data row7 col3\" >0.089676</td>\n",
       "                        <td id=\"T_fc7f30b2_1c5e_11ed_b4f6_ac1f6b2cd28arow7_col4\" class=\"data row7 col4\" >0.294988</td>\n",
       "                        <td id=\"T_fc7f30b2_1c5e_11ed_b4f6_ac1f6b2cd28arow7_col5\" class=\"data row7 col5\" >0.024833</td>\n",
       "                        <td id=\"T_fc7f30b2_1c5e_11ed_b4f6_ac1f6b2cd28arow7_col6\" class=\"data row7 col6\" >0.012532</td>\n",
       "                        <td id=\"T_fc7f30b2_1c5e_11ed_b4f6_ac1f6b2cd28arow7_col7\" class=\"data row7 col7\" >0.016107</td>\n",
       "                        <td id=\"T_fc7f30b2_1c5e_11ed_b4f6_ac1f6b2cd28arow7_col8\" class=\"data row7 col8\" >0.494780</td>\n",
       "                        <td id=\"T_fc7f30b2_1c5e_11ed_b4f6_ac1f6b2cd28arow7_col9\" class=\"data row7 col9\" >0.539978</td>\n",
       "            </tr>\n",
       "            <tr>\n",
       "                        <th id=\"T_fc7f30b2_1c5e_11ed_b4f6_ac1f6b2cd28alevel0_row8\" class=\"row_heading level0 row8\" >svd_100</th>\n",
       "                        <td id=\"T_fc7f30b2_1c5e_11ed_b4f6_ac1f6b2cd28arow8_col0\" class=\"data row8 col0\" >0.241049</td>\n",
       "                        <td id=\"T_fc7f30b2_1c5e_11ed_b4f6_ac1f6b2cd28arow8_col1\" class=\"data row8 col1\" >0.024224</td>\n",
       "                        <td id=\"T_fc7f30b2_1c5e_11ed_b4f6_ac1f6b2cd28arow8_col2\" class=\"data row8 col2\" >0.411734</td>\n",
       "                        <td id=\"T_fc7f30b2_1c5e_11ed_b4f6_ac1f6b2cd28arow8_col3\" class=\"data row8 col3\" >0.079867</td>\n",
       "                        <td id=\"T_fc7f30b2_1c5e_11ed_b4f6_ac1f6b2cd28arow8_col4\" class=\"data row8 col4\" >0.362558</td>\n",
       "                        <td id=\"T_fc7f30b2_1c5e_11ed_b4f6_ac1f6b2cd28arow8_col5\" class=\"data row8 col5\" >0.022466</td>\n",
       "                        <td id=\"T_fc7f30b2_1c5e_11ed_b4f6_ac1f6b2cd28arow8_col6\" class=\"data row8 col6\" >0.020128</td>\n",
       "                        <td id=\"T_fc7f30b2_1c5e_11ed_b4f6_ac1f6b2cd28arow8_col7\" class=\"data row8 col7\" >0.026173</td>\n",
       "                        <td id=\"T_fc7f30b2_1c5e_11ed_b4f6_ac1f6b2cd28arow8_col8\" class=\"data row8 col8\" >0.525889</td>\n",
       "                        <td id=\"T_fc7f30b2_1c5e_11ed_b4f6_ac1f6b2cd28arow8_col9\" class=\"data row8 col9\" >0.571336</td>\n",
       "            </tr>\n",
       "            <tr>\n",
       "                        <th id=\"T_fc7f30b2_1c5e_11ed_b4f6_ac1f6b2cd28alevel0_row9\" class=\"row_heading level0 row9\" >svd_215</th>\n",
       "                        <td id=\"T_fc7f30b2_1c5e_11ed_b4f6_ac1f6b2cd28arow9_col0\" class=\"data row9 col0\" >0.320770</td>\n",
       "                        <td id=\"T_fc7f30b2_1c5e_11ed_b4f6_ac1f6b2cd28arow9_col1\" class=\"data row9 col1\" >0.022805</td>\n",
       "                        <td id=\"T_fc7f30b2_1c5e_11ed_b4f6_ac1f6b2cd28arow9_col2\" class=\"data row9 col2\" >0.512215</td>\n",
       "                        <td id=\"T_fc7f30b2_1c5e_11ed_b4f6_ac1f6b2cd28arow9_col3\" class=\"data row9 col3\" >0.075043</td>\n",
       "                        <td id=\"T_fc7f30b2_1c5e_11ed_b4f6_ac1f6b2cd28arow9_col4\" class=\"data row9 col4\" >0.453813</td>\n",
       "                        <td id=\"T_fc7f30b2_1c5e_11ed_b4f6_ac1f6b2cd28arow9_col5\" class=\"data row9 col5\" >0.020870</td>\n",
       "                        <td id=\"T_fc7f30b2_1c5e_11ed_b4f6_ac1f6b2cd28arow9_col6\" class=\"data row9 col6\" >0.037405</td>\n",
       "                        <td id=\"T_fc7f30b2_1c5e_11ed_b4f6_ac1f6b2cd28arow9_col7\" class=\"data row9 col7\" >0.048672</td>\n",
       "                        <td id=\"T_fc7f30b2_1c5e_11ed_b4f6_ac1f6b2cd28arow9_col8\" class=\"data row9 col8\" >0.557657</td>\n",
       "                        <td id=\"T_fc7f30b2_1c5e_11ed_b4f6_ac1f6b2cd28arow9_col9\" class=\"data row9 col9\" >0.603278</td>\n",
       "            </tr>\n",
       "            <tr>\n",
       "                        <th id=\"T_fc7f30b2_1c5e_11ed_b4f6_ac1f6b2cd28alevel0_row10\" class=\"row_heading level0 row10\" >svd_464</th>\n",
       "                        <td id=\"T_fc7f30b2_1c5e_11ed_b4f6_ac1f6b2cd28arow10_col0\" class=\"data row10 col0\" >0.414642</td>\n",
       "                        <td id=\"T_fc7f30b2_1c5e_11ed_b4f6_ac1f6b2cd28arow10_col1\" class=\"data row10 col1\" >0.021658</td>\n",
       "                        <td id=\"T_fc7f30b2_1c5e_11ed_b4f6_ac1f6b2cd28arow10_col2\" class=\"data row10 col2\" >0.605983</td>\n",
       "                        <td id=\"T_fc7f30b2_1c5e_11ed_b4f6_ac1f6b2cd28arow10_col3\" class=\"data row10 col3\" >0.073208</td>\n",
       "                        <td id=\"T_fc7f30b2_1c5e_11ed_b4f6_ac1f6b2cd28arow10_col4\" class=\"data row10 col4\" >0.548222</td>\n",
       "                        <td id=\"T_fc7f30b2_1c5e_11ed_b4f6_ac1f6b2cd28arow10_col5\" class=\"data row10 col5\" >0.019030</td>\n",
       "                        <td id=\"T_fc7f30b2_1c5e_11ed_b4f6_ac1f6b2cd28arow10_col6\" class=\"data row10 col6\" >0.066334</td>\n",
       "                        <td id=\"T_fc7f30b2_1c5e_11ed_b4f6_ac1f6b2cd28arow10_col7\" class=\"data row10 col7\" >0.086498</td>\n",
       "                        <td id=\"T_fc7f30b2_1c5e_11ed_b4f6_ac1f6b2cd28arow10_col8\" class=\"data row10 col8\" >0.585560</td>\n",
       "                        <td id=\"T_fc7f30b2_1c5e_11ed_b4f6_ac1f6b2cd28arow10_col9\" class=\"data row10 col9\" >0.632858</td>\n",
       "            </tr>\n",
       "            <tr>\n",
       "                        <th id=\"T_fc7f30b2_1c5e_11ed_b4f6_ac1f6b2cd28alevel0_row11\" class=\"row_heading level0 row11\" >svd_1000</th>\n",
       "                        <td id=\"T_fc7f30b2_1c5e_11ed_b4f6_ac1f6b2cd28arow11_col0\" class=\"data row11 col0\" >0.524430</td>\n",
       "                        <td id=\"T_fc7f30b2_1c5e_11ed_b4f6_ac1f6b2cd28arow11_col1\" class=\"data row11 col1\" >0.019612</td>\n",
       "                        <td id=\"T_fc7f30b2_1c5e_11ed_b4f6_ac1f6b2cd28arow11_col2\" class=\"data row11 col2\" >0.699465</td>\n",
       "                        <td id=\"T_fc7f30b2_1c5e_11ed_b4f6_ac1f6b2cd28arow11_col3\" class=\"data row11 col3\" >0.068447</td>\n",
       "                        <td id=\"T_fc7f30b2_1c5e_11ed_b4f6_ac1f6b2cd28arow11_col4\" class=\"data row11 col4\" >0.642324</td>\n",
       "                        <td id=\"T_fc7f30b2_1c5e_11ed_b4f6_ac1f6b2cd28arow11_col5\" class=\"data row11 col5\" >0.016392</td>\n",
       "                        <td id=\"T_fc7f30b2_1c5e_11ed_b4f6_ac1f6b2cd28arow11_col6\" class=\"data row11 col6\" >0.122527</td>\n",
       "                        <td id=\"T_fc7f30b2_1c5e_11ed_b4f6_ac1f6b2cd28arow11_col7\" class=\"data row11 col7\" >0.158978</td>\n",
       "                        <td id=\"T_fc7f30b2_1c5e_11ed_b4f6_ac1f6b2cd28arow11_col8\" class=\"data row11 col8\" >0.618621</td>\n",
       "                        <td id=\"T_fc7f30b2_1c5e_11ed_b4f6_ac1f6b2cd28arow11_col9\" class=\"data row11 col9\" >0.666292</td>\n",
       "            </tr>\n",
       "            <tr>\n",
       "                        <th id=\"T_fc7f30b2_1c5e_11ed_b4f6_ac1f6b2cd28alevel0_row12\" class=\"row_heading level0 row12\" >svd_2154</th>\n",
       "                        <td id=\"T_fc7f30b2_1c5e_11ed_b4f6_ac1f6b2cd28arow12_col0\" class=\"data row12 col0\" >0.647241</td>\n",
       "                        <td id=\"T_fc7f30b2_1c5e_11ed_b4f6_ac1f6b2cd28arow12_col1\" class=\"data row12 col1\" >0.017024</td>\n",
       "                        <td id=\"T_fc7f30b2_1c5e_11ed_b4f6_ac1f6b2cd28arow12_col2\" class=\"data row12 col2\" >0.781420</td>\n",
       "                        <td id=\"T_fc7f30b2_1c5e_11ed_b4f6_ac1f6b2cd28arow12_col3\" class=\"data row12 col3\" >0.060621</td>\n",
       "                        <td id=\"T_fc7f30b2_1c5e_11ed_b4f6_ac1f6b2cd28arow12_col4\" class=\"data row12 col4\" >0.733191</td>\n",
       "                        <td id=\"T_fc7f30b2_1c5e_11ed_b4f6_ac1f6b2cd28arow12_col5\" class=\"data row12 col5\" >0.013647</td>\n",
       "                        <td id=\"T_fc7f30b2_1c5e_11ed_b4f6_ac1f6b2cd28arow12_col6\" class=\"data row12 col6\" >0.232637</td>\n",
       "                        <td id=\"T_fc7f30b2_1c5e_11ed_b4f6_ac1f6b2cd28arow12_col7\" class=\"data row12 col7\" >0.297748</td>\n",
       "                        <td id=\"T_fc7f30b2_1c5e_11ed_b4f6_ac1f6b2cd28arow12_col8\" class=\"data row12 col8\" >0.660269</td>\n",
       "                        <td id=\"T_fc7f30b2_1c5e_11ed_b4f6_ac1f6b2cd28arow12_col9\" class=\"data row12 col9\" >0.708470</td>\n",
       "            </tr>\n",
       "            <tr>\n",
       "                        <th id=\"T_fc7f30b2_1c5e_11ed_b4f6_ac1f6b2cd28alevel0_row13\" class=\"row_heading level0 row13\" >svd_4641</th>\n",
       "                        <td id=\"T_fc7f30b2_1c5e_11ed_b4f6_ac1f6b2cd28arow13_col0\" class=\"data row13 col0\" >0.766058</td>\n",
       "                        <td id=\"T_fc7f30b2_1c5e_11ed_b4f6_ac1f6b2cd28arow13_col1\" class=\"data row13 col1\" >0.013222</td>\n",
       "                        <td id=\"T_fc7f30b2_1c5e_11ed_b4f6_ac1f6b2cd28arow13_col2\" class=\"data row13 col2\" >0.845073</td>\n",
       "                        <td id=\"T_fc7f30b2_1c5e_11ed_b4f6_ac1f6b2cd28arow13_col3\" class=\"data row13 col3\" >0.047030</td>\n",
       "                        <td id=\"T_fc7f30b2_1c5e_11ed_b4f6_ac1f6b2cd28arow13_col4\" class=\"data row13 col4\" >0.813566</td>\n",
       "                        <td id=\"T_fc7f30b2_1c5e_11ed_b4f6_ac1f6b2cd28arow13_col5\" class=\"data row13 col5\" >0.010233</td>\n",
       "                        <td id=\"T_fc7f30b2_1c5e_11ed_b4f6_ac1f6b2cd28arow13_col6\" class=\"data row13 col6\" >0.534860</td>\n",
       "                        <td id=\"T_fc7f30b2_1c5e_11ed_b4f6_ac1f6b2cd28arow13_col7\" class=\"data row13 col7\" >0.605990</td>\n",
       "                        <td id=\"T_fc7f30b2_1c5e_11ed_b4f6_ac1f6b2cd28arow13_col8\" class=\"data row13 col8\" >0.712098</td>\n",
       "                        <td id=\"T_fc7f30b2_1c5e_11ed_b4f6_ac1f6b2cd28arow13_col9\" class=\"data row13 col9\" >0.758492</td>\n",
       "            </tr>\n",
       "            <tr>\n",
       "                        <th id=\"T_fc7f30b2_1c5e_11ed_b4f6_ac1f6b2cd28alevel0_row14\" class=\"row_heading level0 row14\" >svd_10000</th>\n",
       "                        <td id=\"T_fc7f30b2_1c5e_11ed_b4f6_ac1f6b2cd28arow14_col0\" class=\"data row14 col0\" >0.850160</td>\n",
       "                        <td id=\"T_fc7f30b2_1c5e_11ed_b4f6_ac1f6b2cd28arow14_col1\" class=\"data row14 col1\" >0.007285</td>\n",
       "                        <td id=\"T_fc7f30b2_1c5e_11ed_b4f6_ac1f6b2cd28arow14_col2\" class=\"data row14 col2\" >0.899659</td>\n",
       "                        <td id=\"T_fc7f30b2_1c5e_11ed_b4f6_ac1f6b2cd28arow14_col3\" class=\"data row14 col3\" >0.025832</td>\n",
       "                        <td id=\"T_fc7f30b2_1c5e_11ed_b4f6_ac1f6b2cd28arow14_col4\" class=\"data row14 col4\" >0.866609</td>\n",
       "                        <td id=\"T_fc7f30b2_1c5e_11ed_b4f6_ac1f6b2cd28arow14_col5\" class=\"data row14 col5\" >0.005640</td>\n",
       "                        <td id=\"T_fc7f30b2_1c5e_11ed_b4f6_ac1f6b2cd28arow14_col6\" class=\"data row14 col6\" >0.862377</td>\n",
       "                        <td id=\"T_fc7f30b2_1c5e_11ed_b4f6_ac1f6b2cd28arow14_col7\" class=\"data row14 col7\" >0.831383</td>\n",
       "                        <td id=\"T_fc7f30b2_1c5e_11ed_b4f6_ac1f6b2cd28arow14_col8\" class=\"data row14 col8\" >0.787677</td>\n",
       "                        <td id=\"T_fc7f30b2_1c5e_11ed_b4f6_ac1f6b2cd28arow14_col9\" class=\"data row14 col9\" >0.780007</td>\n",
       "            </tr>\n",
       "            <tr>\n",
       "                        <th id=\"T_fc7f30b2_1c5e_11ed_b4f6_ac1f6b2cd28alevel0_row15\" class=\"row_heading level0 row15\" >als</th>\n",
       "                        <td id=\"T_fc7f30b2_1c5e_11ed_b4f6_ac1f6b2cd28arow15_col0\" class=\"data row15 col0\" >0.000000</td>\n",
       "                        <td id=\"T_fc7f30b2_1c5e_11ed_b4f6_ac1f6b2cd28arow15_col1\" class=\"data row15 col1\" >0.043779</td>\n",
       "                        <td id=\"T_fc7f30b2_1c5e_11ed_b4f6_ac1f6b2cd28arow15_col2\" class=\"data row15 col2\" >0.000000</td>\n",
       "                        <td id=\"T_fc7f30b2_1c5e_11ed_b4f6_ac1f6b2cd28arow15_col3\" class=\"data row15 col3\" >0.123962</td>\n",
       "                        <td id=\"T_fc7f30b2_1c5e_11ed_b4f6_ac1f6b2cd28arow15_col4\" class=\"data row15 col4\" >0.000000</td>\n",
       "                        <td id=\"T_fc7f30b2_1c5e_11ed_b4f6_ac1f6b2cd28arow15_col5\" class=\"data row15 col5\" >0.045665</td>\n",
       "                        <td id=\"T_fc7f30b2_1c5e_11ed_b4f6_ac1f6b2cd28arow15_col6\" class=\"data row15 col6\" >0.020070</td>\n",
       "                        <td id=\"T_fc7f30b2_1c5e_11ed_b4f6_ac1f6b2cd28arow15_col7\" class=\"data row15 col7\" >0.026199</td>\n",
       "                        <td id=\"T_fc7f30b2_1c5e_11ed_b4f6_ac1f6b2cd28arow15_col8\" class=\"data row15 col8\" >0.526738</td>\n",
       "                        <td id=\"T_fc7f30b2_1c5e_11ed_b4f6_ac1f6b2cd28arow15_col9\" class=\"data row15 col9\" >0.572649</td>\n",
       "            </tr>\n",
       "            <tr>\n",
       "                        <th id=\"T_fc7f30b2_1c5e_11ed_b4f6_ac1f6b2cd28alevel0_row16\" class=\"row_heading level0 row16\" >als_filtered</th>\n",
       "                        <td id=\"T_fc7f30b2_1c5e_11ed_b4f6_ac1f6b2cd28arow16_col0\" class=\"data row16 col0\" >0.000000</td>\n",
       "                        <td id=\"T_fc7f30b2_1c5e_11ed_b4f6_ac1f6b2cd28arow16_col1\" class=\"data row16 col1\" >0.043949</td>\n",
       "                        <td id=\"T_fc7f30b2_1c5e_11ed_b4f6_ac1f6b2cd28arow16_col2\" class=\"data row16 col2\" >0.000000</td>\n",
       "                        <td id=\"T_fc7f30b2_1c5e_11ed_b4f6_ac1f6b2cd28arow16_col3\" class=\"data row16 col3\" >0.123822</td>\n",
       "                        <td id=\"T_fc7f30b2_1c5e_11ed_b4f6_ac1f6b2cd28arow16_col4\" class=\"data row16 col4\" >0.000000</td>\n",
       "                        <td id=\"T_fc7f30b2_1c5e_11ed_b4f6_ac1f6b2cd28arow16_col5\" class=\"data row16 col5\" >0.045782</td>\n",
       "                        <td id=\"T_fc7f30b2_1c5e_11ed_b4f6_ac1f6b2cd28arow16_col6\" class=\"data row16 col6\" >0.020032</td>\n",
       "                        <td id=\"T_fc7f30b2_1c5e_11ed_b4f6_ac1f6b2cd28arow16_col7\" class=\"data row16 col7\" >0.025897</td>\n",
       "                        <td id=\"T_fc7f30b2_1c5e_11ed_b4f6_ac1f6b2cd28arow16_col8\" class=\"data row16 col8\" >0.527179</td>\n",
       "                        <td id=\"T_fc7f30b2_1c5e_11ed_b4f6_ac1f6b2cd28arow16_col9\" class=\"data row16 col9\" >0.573173</td>\n",
       "            </tr>\n",
       "            <tr>\n",
       "                        <th id=\"T_fc7f30b2_1c5e_11ed_b4f6_ac1f6b2cd28alevel0_row17\" class=\"row_heading level0 row17\" >light_feature_importance_0</th>\n",
       "                        <td id=\"T_fc7f30b2_1c5e_11ed_b4f6_ac1f6b2cd28arow17_col0\" class=\"data row17 col0\" >0.064190</td>\n",
       "                        <td id=\"T_fc7f30b2_1c5e_11ed_b4f6_ac1f6b2cd28arow17_col1\" class=\"data row17 col1\" >0.036794</td>\n",
       "                        <td id=\"T_fc7f30b2_1c5e_11ed_b4f6_ac1f6b2cd28arow17_col2\" class=\"data row17 col2\" >0.218288</td>\n",
       "                        <td id=\"T_fc7f30b2_1c5e_11ed_b4f6_ac1f6b2cd28arow17_col3\" class=\"data row17 col3\" >0.104560</td>\n",
       "                        <td id=\"T_fc7f30b2_1c5e_11ed_b4f6_ac1f6b2cd28arow17_col4\" class=\"data row17 col4\" >0.088673</td>\n",
       "                        <td id=\"T_fc7f30b2_1c5e_11ed_b4f6_ac1f6b2cd28arow17_col5\" class=\"data row17 col5\" >0.036024</td>\n",
       "                        <td id=\"T_fc7f30b2_1c5e_11ed_b4f6_ac1f6b2cd28arow17_col6\" class=\"data row17 col6\" >0.000555</td>\n",
       "                        <td id=\"T_fc7f30b2_1c5e_11ed_b4f6_ac1f6b2cd28arow17_col7\" class=\"data row17 col7\" >0.000730</td>\n",
       "                        <td id=\"T_fc7f30b2_1c5e_11ed_b4f6_ac1f6b2cd28arow17_col8\" class=\"data row17 col8\" >0.388308</td>\n",
       "                        <td id=\"T_fc7f30b2_1c5e_11ed_b4f6_ac1f6b2cd28arow17_col9\" class=\"data row17 col9\" >0.440942</td>\n",
       "            </tr>\n",
       "            <tr>\n",
       "                        <th id=\"T_fc7f30b2_1c5e_11ed_b4f6_ac1f6b2cd28alevel0_row18\" class=\"row_heading level0 row18\" >light_feature_importance_0.1</th>\n",
       "                        <td id=\"T_fc7f30b2_1c5e_11ed_b4f6_ac1f6b2cd28arow18_col0\" class=\"data row18 col0\" >0.000023</td>\n",
       "                        <td id=\"T_fc7f30b2_1c5e_11ed_b4f6_ac1f6b2cd28arow18_col1\" class=\"data row18 col1\" >0.000000</td>\n",
       "                        <td id=\"T_fc7f30b2_1c5e_11ed_b4f6_ac1f6b2cd28arow18_col2\" class=\"data row18 col2\" >0.000351</td>\n",
       "                        <td id=\"T_fc7f30b2_1c5e_11ed_b4f6_ac1f6b2cd28arow18_col3\" class=\"data row18 col3\" >0.000008</td>\n",
       "                        <td id=\"T_fc7f30b2_1c5e_11ed_b4f6_ac1f6b2cd28arow18_col4\" class=\"data row18 col4\" >0.000032</td>\n",
       "                        <td id=\"T_fc7f30b2_1c5e_11ed_b4f6_ac1f6b2cd28arow18_col5\" class=\"data row18 col5\" >0.000000</td>\n",
       "                        <td id=\"T_fc7f30b2_1c5e_11ed_b4f6_ac1f6b2cd28arow18_col6\" class=\"data row18 col6\" >0.000899</td>\n",
       "                        <td id=\"T_fc7f30b2_1c5e_11ed_b4f6_ac1f6b2cd28arow18_col7\" class=\"data row18 col7\" >0.000302</td>\n",
       "                        <td id=\"T_fc7f30b2_1c5e_11ed_b4f6_ac1f6b2cd28arow18_col8\" class=\"data row18 col8\" >0.250269</td>\n",
       "                        <td id=\"T_fc7f30b2_1c5e_11ed_b4f6_ac1f6b2cd28arow18_col9\" class=\"data row18 col9\" >0.044000</td>\n",
       "            </tr>\n",
       "            <tr>\n",
       "                        <th id=\"T_fc7f30b2_1c5e_11ed_b4f6_ac1f6b2cd28alevel0_row19\" class=\"row_heading level0 row19\" >light_feature_importance_0.25</th>\n",
       "                        <td id=\"T_fc7f30b2_1c5e_11ed_b4f6_ac1f6b2cd28arow19_col0\" class=\"data row19 col0\" >0.000007</td>\n",
       "                        <td id=\"T_fc7f30b2_1c5e_11ed_b4f6_ac1f6b2cd28arow19_col1\" class=\"data row19 col1\" >0.000000</td>\n",
       "                        <td id=\"T_fc7f30b2_1c5e_11ed_b4f6_ac1f6b2cd28arow19_col2\" class=\"data row19 col2\" >0.000042</td>\n",
       "                        <td id=\"T_fc7f30b2_1c5e_11ed_b4f6_ac1f6b2cd28arow19_col3\" class=\"data row19 col3\" >0.000000</td>\n",
       "                        <td id=\"T_fc7f30b2_1c5e_11ed_b4f6_ac1f6b2cd28arow19_col4\" class=\"data row19 col4\" >0.000011</td>\n",
       "                        <td id=\"T_fc7f30b2_1c5e_11ed_b4f6_ac1f6b2cd28arow19_col5\" class=\"data row19 col5\" >0.000000</td>\n",
       "                        <td id=\"T_fc7f30b2_1c5e_11ed_b4f6_ac1f6b2cd28arow19_col6\" class=\"data row19 col6\" >0.000784</td>\n",
       "                        <td id=\"T_fc7f30b2_1c5e_11ed_b4f6_ac1f6b2cd28arow19_col7\" class=\"data row19 col7\" >0.000277</td>\n",
       "                        <td id=\"T_fc7f30b2_1c5e_11ed_b4f6_ac1f6b2cd28arow19_col8\" class=\"data row19 col8\" >0.527875</td>\n",
       "                        <td id=\"T_fc7f30b2_1c5e_11ed_b4f6_ac1f6b2cd28arow19_col9\" class=\"data row19 col9\" >0.000466</td>\n",
       "            </tr>\n",
       "            <tr>\n",
       "                        <th id=\"T_fc7f30b2_1c5e_11ed_b4f6_ac1f6b2cd28alevel0_row20\" class=\"row_heading level0 row20\" >light_feature_importance_0.5</th>\n",
       "                        <td id=\"T_fc7f30b2_1c5e_11ed_b4f6_ac1f6b2cd28arow20_col0\" class=\"data row20 col0\" >0.000006</td>\n",
       "                        <td id=\"T_fc7f30b2_1c5e_11ed_b4f6_ac1f6b2cd28arow20_col1\" class=\"data row20 col1\" >0.000002</td>\n",
       "                        <td id=\"T_fc7f30b2_1c5e_11ed_b4f6_ac1f6b2cd28arow20_col2\" class=\"data row20 col2\" >0.000037</td>\n",
       "                        <td id=\"T_fc7f30b2_1c5e_11ed_b4f6_ac1f6b2cd28arow20_col3\" class=\"data row20 col3\" >0.000005</td>\n",
       "                        <td id=\"T_fc7f30b2_1c5e_11ed_b4f6_ac1f6b2cd28arow20_col4\" class=\"data row20 col4\" >0.000008</td>\n",
       "                        <td id=\"T_fc7f30b2_1c5e_11ed_b4f6_ac1f6b2cd28arow20_col5\" class=\"data row20 col5\" >0.000001</td>\n",
       "                        <td id=\"T_fc7f30b2_1c5e_11ed_b4f6_ac1f6b2cd28arow20_col6\" class=\"data row20 col6\" >0.000861</td>\n",
       "                        <td id=\"T_fc7f30b2_1c5e_11ed_b4f6_ac1f6b2cd28arow20_col7\" class=\"data row20 col7\" >0.000302</td>\n",
       "                        <td id=\"T_fc7f30b2_1c5e_11ed_b4f6_ac1f6b2cd28arow20_col8\" class=\"data row20 col8\" >0.108077</td>\n",
       "                        <td id=\"T_fc7f30b2_1c5e_11ed_b4f6_ac1f6b2cd28arow20_col9\" class=\"data row20 col9\" >0.086165</td>\n",
       "            </tr>\n",
       "    </tbody></table>"
      ],
      "text/plain": [
       "<pandas.io.formats.style.Styler at 0x7ffb70bcdef0>"
      ]
     },
     "execution_count": 43,
     "metadata": {},
     "output_type": "execute_result"
    },
    {
     "data": {
      "application/javascript": [
       "\n",
       "            setTimeout(function() {\n",
       "                var nbb_cell_id = 43;\n",
       "                var nbb_unformatted_code = \"assessor.show_metrics(kind=\\\"table\\\")\";\n",
       "                var nbb_formatted_code = \"assessor.show_metrics(kind=\\\"table\\\")\";\n",
       "                var nbb_cells = Jupyter.notebook.get_cells();\n",
       "                for (var i = 0; i < nbb_cells.length; ++i) {\n",
       "                    if (nbb_cells[i].input_prompt_number == nbb_cell_id) {\n",
       "                        if (nbb_cells[i].get_text() == nbb_unformatted_code) {\n",
       "                             nbb_cells[i].set_text(nbb_formatted_code);\n",
       "                        }\n",
       "                        break;\n",
       "                    }\n",
       "                }\n",
       "            }, 500);\n",
       "            "
      ],
      "text/plain": [
       "<IPython.core.display.Javascript object>"
      ]
     },
     "metadata": {},
     "output_type": "display_data"
    }
   ],
   "source": [
    "assessor.show_metrics(kind=\"table\")"
   ]
  },
  {
   "cell_type": "markdown",
   "metadata": {},
   "source": [
    "# ALS\n",
    "Довольно популярным базовым методом в рекомендательных системах является ALS.\n",
    "\n",
    "### Explicit ALS\n",
    "\n",
    "Релевантность:\n",
    "$$r_{ui} = q_i^T p_u$$\n",
    "\n",
    "Loss:\n",
    "$$\\min_{p*, q*} \\sum_{(u, i \\in \\mathcal{K})} (r_{ui} - q_i^T p_u)^2 + \\lambda(\\|{q_i}\\|^2 + \\|{p_i}\\|^2)$$\n",
    "\n",
    "### [Implicit ALS](http://yifanhu.net/PUB/cf.pdf)\n",
    "\n",
    "Релевантность:\n",
    "$$r_{ui} = q_i^T p_u$$\n",
    "\n",
    "Loss:\n",
    "$$\\min_{p*, q*} \\sum_{(u, i \\in \\mathcal{K})} c_{ui}(p_{ui} - q_i^T p_u)^2 + \\lambda(\\|{q_i}\\|^2 + \\|{p_i}\\|^2)$$\n",
    "Где $c_{ui}$ - значение в матрице implicit feedback, а $p_{ui}$ равно 1, если пользователь u взаимодействовал с item-ом i, и 0 иначе.\n",
    "\n",
    "### Усложнения ALS\n",
    "Обучив для каждого пользователя и объекта свой bias и добавив регуляризацию можно улучшить качество решения. Подробнее о различных матричных разложениях для задачи рекомендаций можно почитать [в статье на Хабре](https://habr.com/ru/post/486802/).\n",
    "\n",
    "В рейтинг объекта для пользователя, например, может быть представлен:\n",
    "$$r_{ui} = \\mu + b_i + b_u + q_i^T p_u$$\n",
    "\n",
    "А функция потерь будет выглядеть так:\n",
    "$$\\min_{b*, p*, q*} \\sum_{(u, i \\in \\mathcal{K})} (r_{ui} - \\mu - b_i - b_u - q_i^T p_u)^2 + \\lambda(\\|{q_i}\\|^2 + \\|{p_i}\\|^2 + b_i^2 + b_u^2)$$\n",
    "\n",
    "Матричная факторизация - хороший подход, который позволяет получить рекомендации для теплых пользователей, а также находить похожих пользователей и объекты, посчитав расстояния между векторами. Обучив модель и получив вектора можно перейти от задачи рекомендаций к задаче поиска ближайших соседей и использовать ANN-методы."
   ]
  },
  {
   "cell_type": "markdown",
   "metadata": {},
   "source": [
    "**(1.0 балла) Задание 7.**\n",
    "Примените ALS.\n",
    "\n",
    "Можно воспользоваться готовой реализацией из бибилотеки https://github.com/benfred/implicit\n",
    "\n",
    "Попробуйте использовать как все оценки, так и только высокие. Есть ли разница?"
   ]
  },
  {
   "cell_type": "code",
   "execution_count": 115,
   "metadata": {
    "ExecuteTime": {
     "end_time": "2022-08-18T11:08:46.621073Z",
     "start_time": "2022-08-18T11:08:46.604235Z"
    }
   },
   "outputs": [
    {
     "data": {
      "application/javascript": [
       "\n",
       "            setTimeout(function() {\n",
       "                var nbb_cell_id = 115;\n",
       "                var nbb_unformatted_code = \"import functools\\nimport datetime\\n\\n\\ndef timeit(func):\\n    @functools.wraps(func)\\n    def _time_it(*args, **kwargs):\\n        start = datetime.datetime.now()\\n        try:\\n            return func(*args, **kwargs)\\n        finally:\\n            end = datetime.datetime.now()\\n            print(\\n                f'\\\"{func.__name__}\\\" execution time: {(end-start).total_seconds():.3f} sec'\\n            )\\n\\n    return _time_it\";\n",
       "                var nbb_formatted_code = \"import functools\\nimport datetime\\n\\n\\ndef timeit(func):\\n    @functools.wraps(func)\\n    def _time_it(*args, **kwargs):\\n        start = datetime.datetime.now()\\n        try:\\n            return func(*args, **kwargs)\\n        finally:\\n            end = datetime.datetime.now()\\n            print(\\n                f'\\\"{func.__name__}\\\" execution time: {(end-start).total_seconds():.3f} sec'\\n            )\\n\\n    return _time_it\";\n",
       "                var nbb_cells = Jupyter.notebook.get_cells();\n",
       "                for (var i = 0; i < nbb_cells.length; ++i) {\n",
       "                    if (nbb_cells[i].input_prompt_number == nbb_cell_id) {\n",
       "                        if (nbb_cells[i].get_text() == nbb_unformatted_code) {\n",
       "                             nbb_cells[i].set_text(nbb_formatted_code);\n",
       "                        }\n",
       "                        break;\n",
       "                    }\n",
       "                }\n",
       "            }, 500);\n",
       "            "
      ],
      "text/plain": [
       "<IPython.core.display.Javascript object>"
      ]
     },
     "metadata": {},
     "output_type": "display_data"
    }
   ],
   "source": [
    "import functools\n",
    "import datetime\n",
    "\n",
    "\n",
    "def timeit(func):\n",
    "    @functools.wraps(func)\n",
    "    def _time_it(*args, **kwargs):\n",
    "        start = datetime.datetime.now()\n",
    "        try:\n",
    "            return func(*args, **kwargs)\n",
    "        finally:\n",
    "            end = datetime.datetime.now()\n",
    "            print(\n",
    "                f'\"{func.__name__}\" execution time: {(end-start).total_seconds():.3f} sec'\n",
    "            )\n",
    "\n",
    "    return _time_it"
   ]
  },
  {
   "cell_type": "code",
   "execution_count": 46,
   "metadata": {
    "ExecuteTime": {
     "end_time": "2022-08-18T10:37:09.621635Z",
     "start_time": "2022-08-18T10:37:09.583988Z"
    }
   },
   "outputs": [
    {
     "data": {
      "application/javascript": [
       "\n",
       "            setTimeout(function() {\n",
       "                var nbb_cell_id = 46;\n",
       "                var nbb_unformatted_code = \"import scipy\\n\\nfrom typing_extensions import Literal\\n\\n\\nclass ALS:\\n    def __init__(self, epochs=10, latent_dimension_size=10, regularization_lambda=1e-2):\\n        self.epochs = epochs\\n        self.latent_dimension_size = latent_dimension_size\\n        self.regularization_lambda = regularization_lambda\\n\\n    def init(self, n_users, n_items):\\n        self.user_factors = np.random.randn(n_users, self.latent_dimension_size).astype(\\n            np.float32\\n        )\\n        self.item_factors = np.random.randn(n_items, self.latent_dimension_size).astype(\\n            np.float32\\n        )\\n\\n    def check_feedback(self, feedback):\\n        if (feedback < 0).sum():\\n            raise ValueError(\\n                \\\"This als implementation works only with non negative feedback\\\"\\n            )\\n\\n    def from_implicit_feedback(self, feedback, confidence_alpha=40):\\n        preference = feedback > 0\\n        self.confidence_minus_1 = feedback * confidence_alpha\\n        self.confidence_minus_1.eliminate_zeros()\\n        self.confidence_x_preference = (\\n            self.confidence_minus_1.multiply(preference) + preference\\n        )\\n\\n    def from_explicit_feedback(self, feedback):\\n        raise NotImplementedError(\\n            \\\"Confidence and confidence - 1 might not be sparse,\\\"\\n            \\\"need to provide a way to efficiently compute for\\\"\\n            \\\" concrete instance of feedback.\\\"\\n        )\\n        preference = feedback > 0\\n        confidence_minus_1 = feedback - 1\\n\\n    def sparse_iterator(self, transpose=False):\\n        confidence_minus_1 = self.confidence_minus_1\\n        confidence_x_preference = self.confidence_x_preference\\n\\n        assert confidence_minus_1.indices.shape == confidence_x_preference.indices.shape\\n        assert (confidence_minus_1.indices == confidence_x_preference.indices).all()\\n        assert confidence_minus_1.indptr.shape == confidence_x_preference.indptr.shape\\n        assert (confidence_minus_1.indptr == confidence_x_preference.indptr).all()\\n\\n        if transpose:\\n            confidence_minus_1 = confidence_minus_1.tocsc()\\n            confidence_x_preference = confidence_x_preference.tocsc()\\n\\n        cm1_data = confidence_minus_1.data\\n        cp_data = confidence_x_preference.data\\n        indices = confidence_minus_1.indices\\n        indptr = confidence_minus_1.indptr\\n        for ptr_id, (ind_begin, ind_end) in enumerate(zip(indptr, indptr[1:])):\\n            ind_slice = slice(ind_begin, ind_end)\\n            yield ptr_id, indices[ind_slice], cm1_data[ind_slice], cp_data[ind_slice]\\n\\n    def least_squares_optimization_with_fixed_factors(\\n        self,\\n        fixed=Literal[\\\"users\\\", \\\"items\\\"],\\n    ):\\n        if fixed == \\\"users\\\":\\n            X = self.user_factors\\n            Y = self.item_factors\\n            sparse_iterator = self.sparse_iterator()\\n\\n        elif fixed == \\\"items\\\":\\n            X = self.item_factors\\n            Y = self.user_factors\\n            sparse_iterator = self.sparse_iterator(transpose=True)\\n\\n        else:\\n            raise ValueError\\n\\n        self.analytic_optimum_with_fixed_factors(X, Y, sparse_iterator)\\n\\n    def analytic_optimum_with_fixed_factors(self, X, Y, sparse_iterator):\\n        lambda_I = self.regularization_lambda * np.eye(Y.shape[1])\\n        YtY_plus_lambdaI = Y.T @ Y + lambda_I\\n\\n        for row_id, col_indices, cm1, cp in sparse_iterator:\\n            if col_indices.size == 0:\\n                X[row_id] = 0\\n                continue\\n\\n            y = Y[col_indices]\\n            X[row_id] = np.linalg.inv((y.T * cm1) @ y + YtY_plus_lambdaI) @ (y.T @ cp)\\n\\n    def fit(\\n        self,\\n        feedback: scipy.sparse.csr.csr_matrix,\\n        kind: Literal[\\\"implicit\\\", \\\"explicit\\\"] = \\\"implicit\\\",\\n    ):\\n        self.check_feedback(feedback)\\n\\n        if kind == \\\"implicit\\\":\\n            self.from_implicit_feedback(feedback)\\n        elif kind == \\\"explicit\\\":\\n            self.from_explicit_feedback(feedback)\\n        else:\\n            raise ValueError\\n\\n        self.init(*feedback.shape)\\n\\n        for epoch in tqdm(range(self.epochs), \\\"Alternating\\\"):\\n            self.least_squares_optimization_with_fixed_factors(fixed=\\\"users\\\")\\n            self.least_squares_optimization_with_fixed_factors(fixed=\\\"items\\\")\\n\\n    def recommend(self, user_ids):\\n        ratings = self.user_factors[user_ids] @ self.item_factors.T\\n        return ratings\";\n",
       "                var nbb_formatted_code = \"import scipy\\n\\nfrom typing_extensions import Literal\\n\\n\\nclass ALS:\\n    def __init__(self, epochs=10, latent_dimension_size=10, regularization_lambda=1e-2):\\n        self.epochs = epochs\\n        self.latent_dimension_size = latent_dimension_size\\n        self.regularization_lambda = regularization_lambda\\n\\n    def init(self, n_users, n_items):\\n        self.user_factors = np.random.randn(n_users, self.latent_dimension_size).astype(\\n            np.float32\\n        )\\n        self.item_factors = np.random.randn(n_items, self.latent_dimension_size).astype(\\n            np.float32\\n        )\\n\\n    def check_feedback(self, feedback):\\n        if (feedback < 0).sum():\\n            raise ValueError(\\n                \\\"This als implementation works only with non negative feedback\\\"\\n            )\\n\\n    def from_implicit_feedback(self, feedback, confidence_alpha=40):\\n        preference = feedback > 0\\n        self.confidence_minus_1 = feedback * confidence_alpha\\n        self.confidence_minus_1.eliminate_zeros()\\n        self.confidence_x_preference = (\\n            self.confidence_minus_1.multiply(preference) + preference\\n        )\\n\\n    def from_explicit_feedback(self, feedback):\\n        raise NotImplementedError(\\n            \\\"Confidence and confidence - 1 might not be sparse,\\\"\\n            \\\"need to provide a way to efficiently compute for\\\"\\n            \\\" concrete instance of feedback.\\\"\\n        )\\n        preference = feedback > 0\\n        confidence_minus_1 = feedback - 1\\n\\n    def sparse_iterator(self, transpose=False):\\n        confidence_minus_1 = self.confidence_minus_1\\n        confidence_x_preference = self.confidence_x_preference\\n\\n        assert confidence_minus_1.indices.shape == confidence_x_preference.indices.shape\\n        assert (confidence_minus_1.indices == confidence_x_preference.indices).all()\\n        assert confidence_minus_1.indptr.shape == confidence_x_preference.indptr.shape\\n        assert (confidence_minus_1.indptr == confidence_x_preference.indptr).all()\\n\\n        if transpose:\\n            confidence_minus_1 = confidence_minus_1.tocsc()\\n            confidence_x_preference = confidence_x_preference.tocsc()\\n\\n        cm1_data = confidence_minus_1.data\\n        cp_data = confidence_x_preference.data\\n        indices = confidence_minus_1.indices\\n        indptr = confidence_minus_1.indptr\\n        for ptr_id, (ind_begin, ind_end) in enumerate(zip(indptr, indptr[1:])):\\n            ind_slice = slice(ind_begin, ind_end)\\n            yield ptr_id, indices[ind_slice], cm1_data[ind_slice], cp_data[ind_slice]\\n\\n    def least_squares_optimization_with_fixed_factors(\\n        self,\\n        fixed=Literal[\\\"users\\\", \\\"items\\\"],\\n    ):\\n        if fixed == \\\"users\\\":\\n            X = self.user_factors\\n            Y = self.item_factors\\n            sparse_iterator = self.sparse_iterator()\\n\\n        elif fixed == \\\"items\\\":\\n            X = self.item_factors\\n            Y = self.user_factors\\n            sparse_iterator = self.sparse_iterator(transpose=True)\\n\\n        else:\\n            raise ValueError\\n\\n        self.analytic_optimum_with_fixed_factors(X, Y, sparse_iterator)\\n\\n    def analytic_optimum_with_fixed_factors(self, X, Y, sparse_iterator):\\n        lambda_I = self.regularization_lambda * np.eye(Y.shape[1])\\n        YtY_plus_lambdaI = Y.T @ Y + lambda_I\\n\\n        for row_id, col_indices, cm1, cp in sparse_iterator:\\n            if col_indices.size == 0:\\n                X[row_id] = 0\\n                continue\\n\\n            y = Y[col_indices]\\n            X[row_id] = np.linalg.inv((y.T * cm1) @ y + YtY_plus_lambdaI) @ (y.T @ cp)\\n\\n    def fit(\\n        self,\\n        feedback: scipy.sparse.csr.csr_matrix,\\n        kind: Literal[\\\"implicit\\\", \\\"explicit\\\"] = \\\"implicit\\\",\\n    ):\\n        self.check_feedback(feedback)\\n\\n        if kind == \\\"implicit\\\":\\n            self.from_implicit_feedback(feedback)\\n        elif kind == \\\"explicit\\\":\\n            self.from_explicit_feedback(feedback)\\n        else:\\n            raise ValueError\\n\\n        self.init(*feedback.shape)\\n\\n        for epoch in tqdm(range(self.epochs), \\\"Alternating\\\"):\\n            self.least_squares_optimization_with_fixed_factors(fixed=\\\"users\\\")\\n            self.least_squares_optimization_with_fixed_factors(fixed=\\\"items\\\")\\n\\n    def recommend(self, user_ids):\\n        ratings = self.user_factors[user_ids] @ self.item_factors.T\\n        return ratings\";\n",
       "                var nbb_cells = Jupyter.notebook.get_cells();\n",
       "                for (var i = 0; i < nbb_cells.length; ++i) {\n",
       "                    if (nbb_cells[i].input_prompt_number == nbb_cell_id) {\n",
       "                        if (nbb_cells[i].get_text() == nbb_unformatted_code) {\n",
       "                             nbb_cells[i].set_text(nbb_formatted_code);\n",
       "                        }\n",
       "                        break;\n",
       "                    }\n",
       "                }\n",
       "            }, 500);\n",
       "            "
      ],
      "text/plain": [
       "<IPython.core.display.Javascript object>"
      ]
     },
     "metadata": {},
     "output_type": "display_data"
    }
   ],
   "source": [
    "import scipy\n",
    "\n",
    "from typing_extensions import Literal\n",
    "\n",
    "\n",
    "class ALS:\n",
    "    def __init__(self, epochs=10, latent_dimension_size=10, regularization_lambda=1e-2):\n",
    "        self.epochs = epochs\n",
    "        self.latent_dimension_size = latent_dimension_size\n",
    "        self.regularization_lambda = regularization_lambda\n",
    "\n",
    "    def init(self, n_users, n_items):\n",
    "        self.user_factors = np.random.randn(n_users, self.latent_dimension_size).astype(\n",
    "            np.float32\n",
    "        )\n",
    "        self.item_factors = np.random.randn(n_items, self.latent_dimension_size).astype(\n",
    "            np.float32\n",
    "        )\n",
    "\n",
    "    def check_feedback(self, feedback):\n",
    "        if (feedback < 0).sum():\n",
    "            raise ValueError(\n",
    "                \"This als implementation works only with non negative feedback\"\n",
    "            )\n",
    "\n",
    "    def from_implicit_feedback(self, feedback, confidence_alpha=40):\n",
    "        preference = feedback > 0\n",
    "        self.confidence_minus_1 = feedback * confidence_alpha\n",
    "        self.confidence_minus_1.eliminate_zeros()\n",
    "        self.confidence_x_preference = (\n",
    "            self.confidence_minus_1.multiply(preference) + preference\n",
    "        )\n",
    "\n",
    "    def from_explicit_feedback(self, feedback):\n",
    "        raise NotImplementedError(\n",
    "            \"Confidence and confidence - 1 might not be sparse,\"\n",
    "            \"need to provide a way to efficiently compute for\"\n",
    "            \" concrete instance of feedback.\"\n",
    "        )\n",
    "        preference = feedback > 0\n",
    "        confidence_minus_1 = feedback - 1\n",
    "\n",
    "    def sparse_iterator(self, transpose=False):\n",
    "        confidence_minus_1 = self.confidence_minus_1\n",
    "        confidence_x_preference = self.confidence_x_preference\n",
    "\n",
    "        assert confidence_minus_1.indices.shape == confidence_x_preference.indices.shape\n",
    "        assert (confidence_minus_1.indices == confidence_x_preference.indices).all()\n",
    "        assert confidence_minus_1.indptr.shape == confidence_x_preference.indptr.shape\n",
    "        assert (confidence_minus_1.indptr == confidence_x_preference.indptr).all()\n",
    "\n",
    "        if transpose:\n",
    "            confidence_minus_1 = confidence_minus_1.tocsc()\n",
    "            confidence_x_preference = confidence_x_preference.tocsc()\n",
    "\n",
    "        cm1_data = confidence_minus_1.data\n",
    "        cp_data = confidence_x_preference.data\n",
    "        indices = confidence_minus_1.indices\n",
    "        indptr = confidence_minus_1.indptr\n",
    "        for ptr_id, (ind_begin, ind_end) in enumerate(zip(indptr, indptr[1:])):\n",
    "            ind_slice = slice(ind_begin, ind_end)\n",
    "            yield ptr_id, indices[ind_slice], cm1_data[ind_slice], cp_data[ind_slice]\n",
    "\n",
    "    def least_squares_optimization_with_fixed_factors(\n",
    "        self,\n",
    "        fixed=Literal[\"users\", \"items\"],\n",
    "    ):\n",
    "        if fixed == \"users\":\n",
    "            X = self.user_factors\n",
    "            Y = self.item_factors\n",
    "            sparse_iterator = self.sparse_iterator()\n",
    "\n",
    "        elif fixed == \"items\":\n",
    "            X = self.item_factors\n",
    "            Y = self.user_factors\n",
    "            sparse_iterator = self.sparse_iterator(transpose=True)\n",
    "\n",
    "        else:\n",
    "            raise ValueError\n",
    "\n",
    "        self.analytic_optimum_with_fixed_factors(X, Y, sparse_iterator)\n",
    "\n",
    "    def analytic_optimum_with_fixed_factors(self, X, Y, sparse_iterator):\n",
    "        lambda_I = self.regularization_lambda * np.eye(Y.shape[1])\n",
    "        YtY_plus_lambdaI = Y.T @ Y + lambda_I\n",
    "\n",
    "        for row_id, col_indices, cm1, cp in sparse_iterator:\n",
    "            if col_indices.size == 0:\n",
    "                X[row_id] = 0\n",
    "                continue\n",
    "\n",
    "            y = Y[col_indices]\n",
    "            X[row_id] = np.linalg.inv((y.T * cm1) @ y + YtY_plus_lambdaI) @ (y.T @ cp)\n",
    "\n",
    "    def fit(\n",
    "        self,\n",
    "        feedback: scipy.sparse.csr.csr_matrix,\n",
    "        kind: Literal[\"implicit\", \"explicit\"] = \"implicit\",\n",
    "    ):\n",
    "        self.check_feedback(feedback)\n",
    "\n",
    "        if kind == \"implicit\":\n",
    "            self.from_implicit_feedback(feedback)\n",
    "        elif kind == \"explicit\":\n",
    "            self.from_explicit_feedback(feedback)\n",
    "        else:\n",
    "            raise ValueError\n",
    "\n",
    "        self.init(*feedback.shape)\n",
    "\n",
    "        for epoch in tqdm(range(self.epochs), \"Alternating\"):\n",
    "            self.least_squares_optimization_with_fixed_factors(fixed=\"users\")\n",
    "            self.least_squares_optimization_with_fixed_factors(fixed=\"items\")\n",
    "\n",
    "    def recommend(self, user_ids):\n",
    "        ratings = self.user_factors[user_ids] @ self.item_factors.T\n",
    "        return ratings"
   ]
  },
  {
   "cell_type": "code",
   "execution_count": 43,
   "metadata": {
    "ExecuteTime": {
     "end_time": "2022-08-18T10:35:54.982277Z",
     "start_time": "2022-08-18T10:35:54.959271Z"
    }
   },
   "outputs": [
    {
     "data": {
      "application/javascript": [
       "\n",
       "            setTimeout(function() {\n",
       "                var nbb_cell_id = 43;\n",
       "                var nbb_unformatted_code = \"import cupy\\nimport numba\\n\\nfrom numba import cuda, prange\\n\\n\\nclass ALS_jit(ALS):\\n    def least_squares_optimization_with_fixed_factors(\\n        self,\\n        fixed=Literal[\\\"users\\\", \\\"items\\\"],\\n    ):\\n        if fixed == \\\"users\\\":\\n            X = self.user_factors\\n            Y = self.item_factors\\n            confidence_minus_1 = self.confidence_minus_1\\n            confidence_x_preference = self.confidence_x_preference\\n\\n        elif fixed == \\\"items\\\":\\n            X = self.item_factors\\n            Y = self.user_factors\\n            confidence_minus_1 = self.confidence_minus_1.tocsc()\\n            confidence_x_preference = self.confidence_x_preference.tocsc()\\n\\n        cm1_data = confidence_minus_1.data.astype(np.float32)\\n        cp_data = confidence_x_preference.data.astype(np.float32)\\n        indices = confidence_minus_1.indices\\n        indptr = confidence_minus_1.indptr\\n\\n        self.jit_analytic_optimum_with_fixed_factors(\\n            X, Y, cm1_data, cp_data, indices, indptr, self.regularization_lambda\\n        )\\n\\n    @staticmethod\\n    @njit(parallel=True)\\n    def jit_analytic_optimum_with_fixed_factors(\\n        X, Y, cm1_data, cp_data, indices, indptr, regularization_lambda\\n    ):\\n        lambda_I = regularization_lambda * np.eye(Y.shape[1], dtype=np.float32)\\n        YtY_plus_lambdaI = Y.T @ Y + lambda_I\\n\\n        for row_id in prange(X.shape[0]):\\n            ind_slice = slice(indptr[row_id], indptr[row_id + 1])\\n            if ind_slice.start == ind_slice.stop:\\n                X[row_id] = 0\\n                continue\\n\\n            cm1 = cm1_data[ind_slice]\\n            cp = cp_data[ind_slice]\\n            col_indices = indices[ind_slice]\\n            y = Y[col_indices]\\n\\n            YtCY_plus_lambdaI = (y.T * cm1) @ y + YtY_plus_lambdaI\\n            X[row_id] = np.linalg.inv(YtCY_plus_lambdaI).astype(np.float32) @ (y.T @ cp)\";\n",
       "                var nbb_formatted_code = \"import cupy\\nimport numba\\n\\nfrom numba import cuda, prange\\n\\n\\nclass ALS_jit(ALS):\\n    def least_squares_optimization_with_fixed_factors(\\n        self,\\n        fixed=Literal[\\\"users\\\", \\\"items\\\"],\\n    ):\\n        if fixed == \\\"users\\\":\\n            X = self.user_factors\\n            Y = self.item_factors\\n            confidence_minus_1 = self.confidence_minus_1\\n            confidence_x_preference = self.confidence_x_preference\\n\\n        elif fixed == \\\"items\\\":\\n            X = self.item_factors\\n            Y = self.user_factors\\n            confidence_minus_1 = self.confidence_minus_1.tocsc()\\n            confidence_x_preference = self.confidence_x_preference.tocsc()\\n\\n        cm1_data = confidence_minus_1.data.astype(np.float32)\\n        cp_data = confidence_x_preference.data.astype(np.float32)\\n        indices = confidence_minus_1.indices\\n        indptr = confidence_minus_1.indptr\\n\\n        self.jit_analytic_optimum_with_fixed_factors(\\n            X, Y, cm1_data, cp_data, indices, indptr, self.regularization_lambda\\n        )\\n\\n    @staticmethod\\n    @njit(parallel=True)\\n    def jit_analytic_optimum_with_fixed_factors(\\n        X, Y, cm1_data, cp_data, indices, indptr, regularization_lambda\\n    ):\\n        lambda_I = regularization_lambda * np.eye(Y.shape[1], dtype=np.float32)\\n        YtY_plus_lambdaI = Y.T @ Y + lambda_I\\n\\n        for row_id in prange(X.shape[0]):\\n            ind_slice = slice(indptr[row_id], indptr[row_id + 1])\\n            if ind_slice.start == ind_slice.stop:\\n                X[row_id] = 0\\n                continue\\n\\n            cm1 = cm1_data[ind_slice]\\n            cp = cp_data[ind_slice]\\n            col_indices = indices[ind_slice]\\n            y = Y[col_indices]\\n\\n            YtCY_plus_lambdaI = (y.T * cm1) @ y + YtY_plus_lambdaI\\n            X[row_id] = np.linalg.inv(YtCY_plus_lambdaI).astype(np.float32) @ (y.T @ cp)\";\n",
       "                var nbb_cells = Jupyter.notebook.get_cells();\n",
       "                for (var i = 0; i < nbb_cells.length; ++i) {\n",
       "                    if (nbb_cells[i].input_prompt_number == nbb_cell_id) {\n",
       "                        if (nbb_cells[i].get_text() == nbb_unformatted_code) {\n",
       "                             nbb_cells[i].set_text(nbb_formatted_code);\n",
       "                        }\n",
       "                        break;\n",
       "                    }\n",
       "                }\n",
       "            }, 500);\n",
       "            "
      ],
      "text/plain": [
       "<IPython.core.display.Javascript object>"
      ]
     },
     "metadata": {},
     "output_type": "display_data"
    }
   ],
   "source": [
    "import cupy\n",
    "import numba\n",
    "\n",
    "from numba import cuda, prange\n",
    "\n",
    "\n",
    "class ALS_jit(ALS):\n",
    "    def least_squares_optimization_with_fixed_factors(\n",
    "        self,\n",
    "        fixed=Literal[\"users\", \"items\"],\n",
    "    ):\n",
    "        if fixed == \"users\":\n",
    "            X = self.user_factors\n",
    "            Y = self.item_factors\n",
    "            confidence_minus_1 = self.confidence_minus_1\n",
    "            confidence_x_preference = self.confidence_x_preference\n",
    "\n",
    "        elif fixed == \"items\":\n",
    "            X = self.item_factors\n",
    "            Y = self.user_factors\n",
    "            confidence_minus_1 = self.confidence_minus_1.tocsc()\n",
    "            confidence_x_preference = self.confidence_x_preference.tocsc()\n",
    "\n",
    "        cm1_data = confidence_minus_1.data.astype(np.float32)\n",
    "        cp_data = confidence_x_preference.data.astype(np.float32)\n",
    "        indices = confidence_minus_1.indices\n",
    "        indptr = confidence_minus_1.indptr\n",
    "\n",
    "        self.jit_analytic_optimum_with_fixed_factors(\n",
    "            X, Y, cm1_data, cp_data, indices, indptr, self.regularization_lambda\n",
    "        )\n",
    "\n",
    "    @staticmethod\n",
    "    @njit(parallel=True)\n",
    "    def jit_analytic_optimum_with_fixed_factors(\n",
    "        X, Y, cm1_data, cp_data, indices, indptr, regularization_lambda\n",
    "    ):\n",
    "        lambda_I = regularization_lambda * np.eye(Y.shape[1], dtype=np.float32)\n",
    "        YtY_plus_lambdaI = Y.T @ Y + lambda_I\n",
    "\n",
    "        for row_id in prange(X.shape[0]):\n",
    "            ind_slice = slice(indptr[row_id], indptr[row_id + 1])\n",
    "            if ind_slice.start == ind_slice.stop:\n",
    "                X[row_id] = 0\n",
    "                continue\n",
    "\n",
    "            cm1 = cm1_data[ind_slice]\n",
    "            cp = cp_data[ind_slice]\n",
    "            col_indices = indices[ind_slice]\n",
    "            y = Y[col_indices]\n",
    "\n",
    "            YtCY_plus_lambdaI = (y.T * cm1) @ y + YtY_plus_lambdaI\n",
    "            X[row_id] = np.linalg.inv(YtCY_plus_lambdaI).astype(np.float32) @ (y.T @ cp)"
   ]
  },
  {
   "cell_type": "code",
   "execution_count": 44,
   "metadata": {
    "ExecuteTime": {
     "end_time": "2022-08-18T10:35:55.297441Z",
     "start_time": "2022-08-18T10:35:55.267528Z"
    }
   },
   "outputs": [
    {
     "data": {
      "application/javascript": [
       "\n",
       "            setTimeout(function() {\n",
       "                var nbb_cell_id = 44;\n",
       "                var nbb_unformatted_code = \"class ALS_jit_cuda(ALS_jit):\\n    def jit_analytic_optimum_with_fixed_factors(\\n        self, X, Y, cm1_data, cp_data, indices, indptr, regularization_lambda\\n    ):\\n        lambda_I = regularization_lambda * np.eye(Y.shape[1], dtype=np.float32)\\n        YtY_plus_lambdaI = Y.T @ Y + lambda_I\\n\\n        total_threads = X.shape[0]\\n        tmp_array1 = np.empty(\\n            (total_threads, self.latent_dimension_size, self.latent_dimension_size)\\n        )\\n        tmp_array2 = np.empty((total_threads, self.latent_dimension_size))\\n\\n        cupy_arrays = [\\n            cupy.array(i)\\n            for i in [\\n                X,\\n                Y.T,\\n                cm1_data,\\n                cp_data,\\n                indices,\\n                indptr,\\n                YtY_plus_lambdaI,\\n                tmp_array1,\\n                tmp_array2,\\n            ]\\n        ]\\n\\n        threadsperblock = 32\\n        blockspergrid = (total_threads + (threadsperblock - 1)) // threadsperblock\\n\\n        self.cuda_jit_analytic_optimum_with_fixed_factors[\\n            blockspergrid, threadsperblock\\n        ](*cupy_arrays, regularization_lambda)\\n\\n    @staticmethod\\n    @cuda.jit()\\n    def cuda_jit_analytic_optimum_with_fixed_factors(\\n        X,\\n        Yt,\\n        cm1_data,\\n        cp_data,\\n        indices,\\n        indptr,\\n        YtY_plus_lambdaI,\\n        tmp_array1,\\n        tmp_array2,\\n        regularization_lambda,\\n    ):\\n        row_id = cuda.grid(1)\\n\\n        if row_id >= X.shape[0]:\\n            return\\n\\n        ind_slice = slice(indptr[row_id], indptr[row_id + 1])\\n        if ind_slice.start == ind_slice.stop:\\n            X[row_id] = 0\\n            return\\n\\n        cm1 = cm1_data[ind_slice]\\n        cp = cp_data[ind_slice]\\n        col_indices = indices[ind_slice]\\n        y_t = Yt[:, col_indices]\\n\\n        YtCY_plus_lambdaI_inv = tmp_array1[row_id]\\n        YtCY_plus_lambdaI_inv = YtY_plus_lambdaI.copy()\\n\\n        YtCY_plus_lambdaI_inv = cupy.matmul((y_t * cm1), y_t.T) + YtY_plus_lambdaI\\n        YtCY_plus_lambdaI_inv = cupy.linalg.inv(YtCY_plus_lambdaI_inv).astype(\\n            np.float32\\n        )\\n        #             YtCY_plus_lambdaI = (y.T * cm1) @ y + YtY_plus_lambdaI\\n        #             X[row_id] = np.linalg.inv(YtCY_plus_lambdaI).astype(np.float32) @ (y.T @ cp)\\n\\n        #         YtCP = tmp_array2[row_id]\\n        X[row_id] = YtCY_plus_lambdaI_inv @ (y_t @ cp)\";\n",
       "                var nbb_formatted_code = \"class ALS_jit_cuda(ALS_jit):\\n    def jit_analytic_optimum_with_fixed_factors(\\n        self, X, Y, cm1_data, cp_data, indices, indptr, regularization_lambda\\n    ):\\n        lambda_I = regularization_lambda * np.eye(Y.shape[1], dtype=np.float32)\\n        YtY_plus_lambdaI = Y.T @ Y + lambda_I\\n\\n        total_threads = X.shape[0]\\n        tmp_array1 = np.empty(\\n            (total_threads, self.latent_dimension_size, self.latent_dimension_size)\\n        )\\n        tmp_array2 = np.empty((total_threads, self.latent_dimension_size))\\n\\n        cupy_arrays = [\\n            cupy.array(i)\\n            for i in [\\n                X,\\n                Y.T,\\n                cm1_data,\\n                cp_data,\\n                indices,\\n                indptr,\\n                YtY_plus_lambdaI,\\n                tmp_array1,\\n                tmp_array2,\\n            ]\\n        ]\\n\\n        threadsperblock = 32\\n        blockspergrid = (total_threads + (threadsperblock - 1)) // threadsperblock\\n\\n        self.cuda_jit_analytic_optimum_with_fixed_factors[\\n            blockspergrid, threadsperblock\\n        ](*cupy_arrays, regularization_lambda)\\n\\n    @staticmethod\\n    @cuda.jit()\\n    def cuda_jit_analytic_optimum_with_fixed_factors(\\n        X,\\n        Yt,\\n        cm1_data,\\n        cp_data,\\n        indices,\\n        indptr,\\n        YtY_plus_lambdaI,\\n        tmp_array1,\\n        tmp_array2,\\n        regularization_lambda,\\n    ):\\n        row_id = cuda.grid(1)\\n\\n        if row_id >= X.shape[0]:\\n            return\\n\\n        ind_slice = slice(indptr[row_id], indptr[row_id + 1])\\n        if ind_slice.start == ind_slice.stop:\\n            X[row_id] = 0\\n            return\\n\\n        cm1 = cm1_data[ind_slice]\\n        cp = cp_data[ind_slice]\\n        col_indices = indices[ind_slice]\\n        y_t = Yt[:, col_indices]\\n\\n        YtCY_plus_lambdaI_inv = tmp_array1[row_id]\\n        YtCY_plus_lambdaI_inv = YtY_plus_lambdaI.copy()\\n\\n        YtCY_plus_lambdaI_inv = cupy.matmul((y_t * cm1), y_t.T) + YtY_plus_lambdaI\\n        YtCY_plus_lambdaI_inv = cupy.linalg.inv(YtCY_plus_lambdaI_inv).astype(\\n            np.float32\\n        )\\n        #             YtCY_plus_lambdaI = (y.T * cm1) @ y + YtY_plus_lambdaI\\n        #             X[row_id] = np.linalg.inv(YtCY_plus_lambdaI).astype(np.float32) @ (y.T @ cp)\\n\\n        #         YtCP = tmp_array2[row_id]\\n        X[row_id] = YtCY_plus_lambdaI_inv @ (y_t @ cp)\";\n",
       "                var nbb_cells = Jupyter.notebook.get_cells();\n",
       "                for (var i = 0; i < nbb_cells.length; ++i) {\n",
       "                    if (nbb_cells[i].input_prompt_number == nbb_cell_id) {\n",
       "                        if (nbb_cells[i].get_text() == nbb_unformatted_code) {\n",
       "                             nbb_cells[i].set_text(nbb_formatted_code);\n",
       "                        }\n",
       "                        break;\n",
       "                    }\n",
       "                }\n",
       "            }, 500);\n",
       "            "
      ],
      "text/plain": [
       "<IPython.core.display.Javascript object>"
      ]
     },
     "metadata": {},
     "output_type": "display_data"
    }
   ],
   "source": [
    "class ALS_jit_cuda(ALS_jit):\n",
    "    def jit_analytic_optimum_with_fixed_factors(\n",
    "        self, X, Y, cm1_data, cp_data, indices, indptr, regularization_lambda\n",
    "    ):\n",
    "        lambda_I = regularization_lambda * np.eye(Y.shape[1], dtype=np.float32)\n",
    "        YtY_plus_lambdaI = Y.T @ Y + lambda_I\n",
    "\n",
    "        total_threads = X.shape[0]\n",
    "        tmp_array1 = np.empty(\n",
    "            (total_threads, self.latent_dimension_size, self.latent_dimension_size)\n",
    "        )\n",
    "        tmp_array2 = np.empty((total_threads, self.latent_dimension_size))\n",
    "\n",
    "        cupy_arrays = [\n",
    "            cupy.array(i)\n",
    "            for i in [\n",
    "                X,\n",
    "                Y.T,\n",
    "                cm1_data,\n",
    "                cp_data,\n",
    "                indices,\n",
    "                indptr,\n",
    "                YtY_plus_lambdaI,\n",
    "                tmp_array1,\n",
    "                tmp_array2,\n",
    "            ]\n",
    "        ]\n",
    "\n",
    "        threadsperblock = 32\n",
    "        blockspergrid = (total_threads + (threadsperblock - 1)) // threadsperblock\n",
    "\n",
    "        self.cuda_jit_analytic_optimum_with_fixed_factors[\n",
    "            blockspergrid, threadsperblock\n",
    "        ](*cupy_arrays, regularization_lambda)\n",
    "\n",
    "    @staticmethod\n",
    "    @cuda.jit()\n",
    "    def cuda_jit_analytic_optimum_with_fixed_factors(\n",
    "        X,\n",
    "        Yt,\n",
    "        cm1_data,\n",
    "        cp_data,\n",
    "        indices,\n",
    "        indptr,\n",
    "        YtY_plus_lambdaI,\n",
    "        tmp_array1,\n",
    "        tmp_array2,\n",
    "        regularization_lambda,\n",
    "    ):\n",
    "        row_id = cuda.grid(1)\n",
    "\n",
    "        if row_id >= X.shape[0]:\n",
    "            return\n",
    "\n",
    "        ind_slice = slice(indptr[row_id], indptr[row_id + 1])\n",
    "        if ind_slice.start == ind_slice.stop:\n",
    "            X[row_id] = 0\n",
    "            return\n",
    "\n",
    "        cm1 = cm1_data[ind_slice]\n",
    "        cp = cp_data[ind_slice]\n",
    "        col_indices = indices[ind_slice]\n",
    "        y_t = Yt[:, col_indices]\n",
    "\n",
    "        YtCY_plus_lambdaI_inv = tmp_array1[row_id]\n",
    "        YtCY_plus_lambdaI_inv = YtY_plus_lambdaI.copy()\n",
    "\n",
    "        YtCY_plus_lambdaI_inv = cupy.matmul((y_t * cm1), y_t.T) + YtY_plus_lambdaI\n",
    "        YtCY_plus_lambdaI_inv = cupy.linalg.inv(YtCY_plus_lambdaI_inv).astype(\n",
    "            np.float32\n",
    "        )\n",
    "        #             YtCY_plus_lambdaI = (y.T * cm1) @ y + YtY_plus_lambdaI\n",
    "        #             X[row_id] = np.linalg.inv(YtCY_plus_lambdaI).astype(np.float32) @ (y.T @ cp)\n",
    "\n",
    "        #         YtCP = tmp_array2[row_id]\n",
    "        X[row_id] = YtCY_plus_lambdaI_inv @ (y_t @ cp)"
   ]
  },
  {
   "cell_type": "code",
   "execution_count": 114,
   "metadata": {
    "ExecuteTime": {
     "end_time": "2022-08-18T11:08:27.239905Z",
     "start_time": "2022-08-18T11:08:26.459741Z"
    }
   },
   "outputs": [
    {
     "data": {
      "application/vnd.jupyter.widget-view+json": {
       "model_id": "52bc0c733cde465cad53fcdd8a4f88a5",
       "version_major": 2,
       "version_minor": 0
      },
      "text/plain": [
       "Alternating:   0%|          | 0/10 [00:00<?, ?it/s]"
      ]
     },
     "metadata": {},
     "output_type": "display_data"
    },
    {
     "ename": "TypingError",
     "evalue": "Failed in nopython mode pipeline (step: nopython frontend)\nUnknown attribute 'matmul' of type Module(<module 'cupy' from '/external2/dkkoshman/venv/lib/python3.6/site-packages/cupy/__init__.py'>)\n\nFile \"<ipython-input-44-e332277084f5>\", line 68:\n    def cuda_jit_analytic_optimum_with_fixed_factors(\n        <source elided>\n\n        YtCY_plus_lambdaI_inv = cupy.matmul((y_t * cm1), y_t.T) + YtY_plus_lambdaI\n        ^\n\nDuring: typing of get attribute at <ipython-input-44-e332277084f5> (68)\n\nFile \"<ipython-input-44-e332277084f5>\", line 68:\n    def cuda_jit_analytic_optimum_with_fixed_factors(\n        <source elided>\n\n        YtCY_plus_lambdaI_inv = cupy.matmul((y_t * cm1), y_t.T) + YtY_plus_lambdaI\n        ^\n",
     "output_type": "error",
     "traceback": [
      "\u001b[0;31m---------------------------------------------------------------------------\u001b[0m",
      "\u001b[0;31mTypingError\u001b[0m                               Traceback (most recent call last)",
      "\u001b[0;32m<ipython-input-114-3c65e1224ea1>\u001b[0m in \u001b[0;36m<module>\u001b[0;34m\u001b[0m\n\u001b[1;32m      6\u001b[0m     \u001b[0;34m\"my_jit_cuda_als\"\u001b[0m\u001b[0;34m:\u001b[0m \u001b[0mBatchRecommender\u001b[0m\u001b[0;34m(\u001b[0m\u001b[0msparse_interface\u001b[0m\u001b[0;34m,\u001b[0m \u001b[0mALS_jit_cuda\u001b[0m\u001b[0;34m(\u001b[0m\u001b[0;34m)\u001b[0m\u001b[0;34m)\u001b[0m\u001b[0;34m,\u001b[0m\u001b[0;34m\u001b[0m\u001b[0;34m\u001b[0m\u001b[0m\n\u001b[1;32m      7\u001b[0m }\n\u001b[0;32m----> 8\u001b[0;31m \u001b[0massessor\u001b[0m\u001b[0;34m.\u001b[0m\u001b[0massess\u001b[0m\u001b[0;34m(\u001b[0m\u001b[0mmy_als_models\u001b[0m\u001b[0;34m)\u001b[0m\u001b[0;34m\u001b[0m\u001b[0;34m\u001b[0m\u001b[0m\n\u001b[0m",
      "\u001b[0;32m<ipython-input-10-f4fbe36088fa>\u001b[0m in \u001b[0;36massess\u001b[0;34m(self, models)\u001b[0m\n\u001b[1;32m     36\u001b[0m     \u001b[0;32mdef\u001b[0m \u001b[0massess\u001b[0m\u001b[0;34m(\u001b[0m\u001b[0mself\u001b[0m\u001b[0;34m,\u001b[0m \u001b[0mmodels\u001b[0m\u001b[0;34m)\u001b[0m\u001b[0;34m:\u001b[0m\u001b[0;34m\u001b[0m\u001b[0;34m\u001b[0m\u001b[0m\n\u001b[1;32m     37\u001b[0m         \u001b[0;32mfor\u001b[0m \u001b[0mname\u001b[0m\u001b[0;34m,\u001b[0m \u001b[0mmodel\u001b[0m \u001b[0;32min\u001b[0m \u001b[0mmodels\u001b[0m\u001b[0;34m.\u001b[0m\u001b[0mitems\u001b[0m\u001b[0;34m(\u001b[0m\u001b[0;34m)\u001b[0m\u001b[0;34m:\u001b[0m\u001b[0;34m\u001b[0m\u001b[0;34m\u001b[0m\u001b[0m\n\u001b[0;32m---> 38\u001b[0;31m             \u001b[0mself\u001b[0m\u001b[0;34m.\u001b[0m\u001b[0massess_model\u001b[0m\u001b[0;34m(\u001b[0m\u001b[0mmodel\u001b[0m\u001b[0;34m,\u001b[0m \u001b[0mname\u001b[0m\u001b[0;34m)\u001b[0m\u001b[0;34m\u001b[0m\u001b[0;34m\u001b[0m\u001b[0m\n\u001b[0m\u001b[1;32m     39\u001b[0m \u001b[0;34m\u001b[0m\u001b[0m\n\u001b[1;32m     40\u001b[0m     \u001b[0;32mdef\u001b[0m \u001b[0mload_assessments\u001b[0m\u001b[0;34m(\u001b[0m\u001b[0mself\u001b[0m\u001b[0;34m)\u001b[0m\u001b[0;34m:\u001b[0m\u001b[0;34m\u001b[0m\u001b[0;34m\u001b[0m\u001b[0m\n",
      "\u001b[0;32m<ipython-input-10-f4fbe36088fa>\u001b[0m in \u001b[0;36massess_model\u001b[0;34m(self, model, name)\u001b[0m\n\u001b[1;32m     18\u001b[0m \u001b[0;34m\u001b[0m\u001b[0m\n\u001b[1;32m     19\u001b[0m     \u001b[0;32mdef\u001b[0m \u001b[0massess_model\u001b[0m\u001b[0;34m(\u001b[0m\u001b[0mself\u001b[0m\u001b[0;34m,\u001b[0m \u001b[0mmodel\u001b[0m\u001b[0;34m,\u001b[0m \u001b[0mname\u001b[0m\u001b[0;34m)\u001b[0m\u001b[0;34m:\u001b[0m\u001b[0;34m\u001b[0m\u001b[0;34m\u001b[0m\u001b[0m\n\u001b[0;32m---> 20\u001b[0;31m         \u001b[0mmodel\u001b[0m\u001b[0;34m.\u001b[0m\u001b[0mfit\u001b[0m\u001b[0;34m(\u001b[0m\u001b[0mself\u001b[0m\u001b[0;34m.\u001b[0m\u001b[0mtrain_reviews\u001b[0m\u001b[0;34m)\u001b[0m\u001b[0;34m\u001b[0m\u001b[0;34m\u001b[0m\u001b[0m\n\u001b[0m\u001b[1;32m     21\u001b[0m \u001b[0;34m\u001b[0m\u001b[0m\n\u001b[1;32m     22\u001b[0m         \u001b[0mtrain_recommendations\u001b[0m \u001b[0;34m=\u001b[0m \u001b[0mmodel\u001b[0m\u001b[0;34m.\u001b[0m\u001b[0mrecommend\u001b[0m\u001b[0;34m(\u001b[0m\u001b[0mself\u001b[0m\u001b[0;34m.\u001b[0m\u001b[0mtrain_users\u001b[0m\u001b[0;34m)\u001b[0m\u001b[0;34m\u001b[0m\u001b[0;34m\u001b[0m\u001b[0m\n",
      "\u001b[0;32m<ipython-input-15-59abcdba5ca4>\u001b[0m in \u001b[0;36mfit\u001b[0;34m(self, reviews)\u001b[0m\n\u001b[1;32m      6\u001b[0m     \u001b[0;32mdef\u001b[0m \u001b[0mfit\u001b[0m\u001b[0;34m(\u001b[0m\u001b[0mself\u001b[0m\u001b[0;34m,\u001b[0m \u001b[0mreviews\u001b[0m\u001b[0;34m)\u001b[0m\u001b[0;34m:\u001b[0m\u001b[0;34m\u001b[0m\u001b[0;34m\u001b[0m\u001b[0m\n\u001b[1;32m      7\u001b[0m         \u001b[0mself\u001b[0m\u001b[0;34m.\u001b[0m\u001b[0minteractions\u001b[0m \u001b[0;34m=\u001b[0m \u001b[0mcsr_matrix\u001b[0m\u001b[0;34m(\u001b[0m\u001b[0mself\u001b[0m\u001b[0;34m.\u001b[0m\u001b[0msparse_interface\u001b[0m\u001b[0;34m.\u001b[0m\u001b[0minteractions_weighted\u001b[0m\u001b[0;34m)\u001b[0m\u001b[0;34m\u001b[0m\u001b[0;34m\u001b[0m\u001b[0m\n\u001b[0;32m----> 8\u001b[0;31m         \u001b[0mself\u001b[0m\u001b[0;34m.\u001b[0m\u001b[0mmodel\u001b[0m\u001b[0;34m.\u001b[0m\u001b[0mfit\u001b[0m\u001b[0;34m(\u001b[0m\u001b[0mself\u001b[0m\u001b[0;34m.\u001b[0m\u001b[0minteractions\u001b[0m\u001b[0;34m)\u001b[0m\u001b[0;34m\u001b[0m\u001b[0;34m\u001b[0m\u001b[0m\n\u001b[0m\u001b[1;32m      9\u001b[0m         \u001b[0;32mreturn\u001b[0m \u001b[0mself\u001b[0m\u001b[0;34m\u001b[0m\u001b[0;34m\u001b[0m\u001b[0m\n\u001b[1;32m     10\u001b[0m \u001b[0;34m\u001b[0m\u001b[0m\n",
      "\u001b[0;32m<ipython-input-42-877c6dedec54>\u001b[0m in \u001b[0;36mfit\u001b[0;34m(self, feedback, kind)\u001b[0m\n\u001b[1;32m    110\u001b[0m \u001b[0;34m\u001b[0m\u001b[0m\n\u001b[1;32m    111\u001b[0m         \u001b[0;32mfor\u001b[0m \u001b[0mepoch\u001b[0m \u001b[0;32min\u001b[0m \u001b[0mtqdm\u001b[0m\u001b[0;34m(\u001b[0m\u001b[0mrange\u001b[0m\u001b[0;34m(\u001b[0m\u001b[0mself\u001b[0m\u001b[0;34m.\u001b[0m\u001b[0mepochs\u001b[0m\u001b[0;34m)\u001b[0m\u001b[0;34m,\u001b[0m \u001b[0;34m\"Alternating\"\u001b[0m\u001b[0;34m)\u001b[0m\u001b[0;34m:\u001b[0m\u001b[0;34m\u001b[0m\u001b[0;34m\u001b[0m\u001b[0m\n\u001b[0;32m--> 112\u001b[0;31m             \u001b[0mself\u001b[0m\u001b[0;34m.\u001b[0m\u001b[0mleast_squares_optimization_with_fixed_factors\u001b[0m\u001b[0;34m(\u001b[0m\u001b[0mfixed\u001b[0m\u001b[0;34m=\u001b[0m\u001b[0;34m\"users\"\u001b[0m\u001b[0;34m)\u001b[0m\u001b[0;34m\u001b[0m\u001b[0;34m\u001b[0m\u001b[0m\n\u001b[0m\u001b[1;32m    113\u001b[0m             \u001b[0mself\u001b[0m\u001b[0;34m.\u001b[0m\u001b[0mleast_squares_optimization_with_fixed_factors\u001b[0m\u001b[0;34m(\u001b[0m\u001b[0mfixed\u001b[0m\u001b[0;34m=\u001b[0m\u001b[0;34m\"items\"\u001b[0m\u001b[0;34m)\u001b[0m\u001b[0;34m\u001b[0m\u001b[0;34m\u001b[0m\u001b[0m\n\u001b[1;32m    114\u001b[0m \u001b[0;34m\u001b[0m\u001b[0m\n",
      "\u001b[0;32m<ipython-input-43-6ab6e9771c70>\u001b[0m in \u001b[0;36mleast_squares_optimization_with_fixed_factors\u001b[0;34m(self, fixed)\u001b[0m\n\u001b[1;32m     28\u001b[0m \u001b[0;34m\u001b[0m\u001b[0m\n\u001b[1;32m     29\u001b[0m         self.jit_analytic_optimum_with_fixed_factors(\n\u001b[0;32m---> 30\u001b[0;31m             \u001b[0mX\u001b[0m\u001b[0;34m,\u001b[0m \u001b[0mY\u001b[0m\u001b[0;34m,\u001b[0m \u001b[0mcm1_data\u001b[0m\u001b[0;34m,\u001b[0m \u001b[0mcp_data\u001b[0m\u001b[0;34m,\u001b[0m \u001b[0mindices\u001b[0m\u001b[0;34m,\u001b[0m \u001b[0mindptr\u001b[0m\u001b[0;34m,\u001b[0m \u001b[0mself\u001b[0m\u001b[0;34m.\u001b[0m\u001b[0mregularization_lambda\u001b[0m\u001b[0;34m\u001b[0m\u001b[0;34m\u001b[0m\u001b[0m\n\u001b[0m\u001b[1;32m     31\u001b[0m         )\n\u001b[1;32m     32\u001b[0m \u001b[0;34m\u001b[0m\u001b[0m\n",
      "\u001b[0;32m<ipython-input-44-e332277084f5>\u001b[0m in \u001b[0;36mjit_analytic_optimum_with_fixed_factors\u001b[0;34m(self, X, Y, cm1_data, cp_data, indices, indptr, regularization_lambda)\u001b[0m\n\u001b[1;32m     32\u001b[0m         self.cuda_jit_analytic_optimum_with_fixed_factors[\n\u001b[1;32m     33\u001b[0m             \u001b[0mblockspergrid\u001b[0m\u001b[0;34m,\u001b[0m \u001b[0mthreadsperblock\u001b[0m\u001b[0;34m\u001b[0m\u001b[0;34m\u001b[0m\u001b[0m\n\u001b[0;32m---> 34\u001b[0;31m         ](*cupy_arrays, regularization_lambda)\n\u001b[0m\u001b[1;32m     35\u001b[0m \u001b[0;34m\u001b[0m\u001b[0m\n\u001b[1;32m     36\u001b[0m     \u001b[0;34m@\u001b[0m\u001b[0mstaticmethod\u001b[0m\u001b[0;34m\u001b[0m\u001b[0;34m\u001b[0m\u001b[0m\n",
      "\u001b[0;32m/external2/dkkoshman/venv/lib/python3.6/site-packages/numba/cuda/compiler.py\u001b[0m in \u001b[0;36m__call__\u001b[0;34m(self, *args)\u001b[0m\n\u001b[1;32m    820\u001b[0m     \u001b[0;32mdef\u001b[0m \u001b[0m__call__\u001b[0m\u001b[0;34m(\u001b[0m\u001b[0mself\u001b[0m\u001b[0;34m,\u001b[0m \u001b[0;34m*\u001b[0m\u001b[0margs\u001b[0m\u001b[0;34m)\u001b[0m\u001b[0;34m:\u001b[0m\u001b[0;34m\u001b[0m\u001b[0;34m\u001b[0m\u001b[0m\n\u001b[1;32m    821\u001b[0m         return self.dispatcher.call(args, self.griddim, self.blockdim,\n\u001b[0;32m--> 822\u001b[0;31m                                     self.stream, self.sharedmem)\n\u001b[0m\u001b[1;32m    823\u001b[0m \u001b[0;34m\u001b[0m\u001b[0m\n\u001b[1;32m    824\u001b[0m \u001b[0;34m\u001b[0m\u001b[0m\n",
      "\u001b[0;32m/external2/dkkoshman/venv/lib/python3.6/site-packages/numba/cuda/compiler.py\u001b[0m in \u001b[0;36mcall\u001b[0;34m(self, args, griddim, blockdim, stream, sharedmem)\u001b[0m\n\u001b[1;32m    962\u001b[0m             \u001b[0mkernel\u001b[0m \u001b[0;34m=\u001b[0m \u001b[0mnext\u001b[0m\u001b[0;34m(\u001b[0m\u001b[0miter\u001b[0m\u001b[0;34m(\u001b[0m\u001b[0mself\u001b[0m\u001b[0;34m.\u001b[0m\u001b[0moverloads\u001b[0m\u001b[0;34m.\u001b[0m\u001b[0mvalues\u001b[0m\u001b[0;34m(\u001b[0m\u001b[0;34m)\u001b[0m\u001b[0;34m)\u001b[0m\u001b[0;34m)\u001b[0m\u001b[0;34m\u001b[0m\u001b[0;34m\u001b[0m\u001b[0m\n\u001b[1;32m    963\u001b[0m         \u001b[0;32melse\u001b[0m\u001b[0;34m:\u001b[0m\u001b[0;34m\u001b[0m\u001b[0;34m\u001b[0m\u001b[0m\n\u001b[0;32m--> 964\u001b[0;31m             \u001b[0mkernel\u001b[0m \u001b[0;34m=\u001b[0m \u001b[0m_dispatcher\u001b[0m\u001b[0;34m.\u001b[0m\u001b[0mDispatcher\u001b[0m\u001b[0;34m.\u001b[0m\u001b[0m_cuda_call\u001b[0m\u001b[0;34m(\u001b[0m\u001b[0mself\u001b[0m\u001b[0;34m,\u001b[0m \u001b[0;34m*\u001b[0m\u001b[0margs\u001b[0m\u001b[0;34m)\u001b[0m\u001b[0;34m\u001b[0m\u001b[0;34m\u001b[0m\u001b[0m\n\u001b[0m\u001b[1;32m    965\u001b[0m \u001b[0;34m\u001b[0m\u001b[0m\n\u001b[1;32m    966\u001b[0m         \u001b[0mkernel\u001b[0m\u001b[0;34m.\u001b[0m\u001b[0mlaunch\u001b[0m\u001b[0;34m(\u001b[0m\u001b[0margs\u001b[0m\u001b[0;34m,\u001b[0m \u001b[0mgriddim\u001b[0m\u001b[0;34m,\u001b[0m \u001b[0mblockdim\u001b[0m\u001b[0;34m,\u001b[0m \u001b[0mstream\u001b[0m\u001b[0;34m,\u001b[0m \u001b[0msharedmem\u001b[0m\u001b[0;34m)\u001b[0m\u001b[0;34m\u001b[0m\u001b[0;34m\u001b[0m\u001b[0m\n",
      "\u001b[0;32m/external2/dkkoshman/venv/lib/python3.6/site-packages/numba/cuda/compiler.py\u001b[0m in \u001b[0;36m_compile_for_args\u001b[0;34m(self, *args, **kws)\u001b[0m\n\u001b[1;32m    970\u001b[0m         \u001b[0;32massert\u001b[0m \u001b[0;32mnot\u001b[0m \u001b[0mkws\u001b[0m\u001b[0;34m\u001b[0m\u001b[0;34m\u001b[0m\u001b[0m\n\u001b[1;32m    971\u001b[0m         \u001b[0margtypes\u001b[0m \u001b[0;34m=\u001b[0m \u001b[0;34m[\u001b[0m\u001b[0mself\u001b[0m\u001b[0;34m.\u001b[0m\u001b[0mtypeof_pyval\u001b[0m\u001b[0;34m(\u001b[0m\u001b[0ma\u001b[0m\u001b[0;34m)\u001b[0m \u001b[0;32mfor\u001b[0m \u001b[0ma\u001b[0m \u001b[0;32min\u001b[0m \u001b[0margs\u001b[0m\u001b[0;34m]\u001b[0m\u001b[0;34m\u001b[0m\u001b[0;34m\u001b[0m\u001b[0m\n\u001b[0;32m--> 972\u001b[0;31m         \u001b[0;32mreturn\u001b[0m \u001b[0mself\u001b[0m\u001b[0;34m.\u001b[0m\u001b[0mcompile\u001b[0m\u001b[0;34m(\u001b[0m\u001b[0mtuple\u001b[0m\u001b[0;34m(\u001b[0m\u001b[0margtypes\u001b[0m\u001b[0;34m)\u001b[0m\u001b[0;34m)\u001b[0m\u001b[0;34m\u001b[0m\u001b[0;34m\u001b[0m\u001b[0m\n\u001b[0m\u001b[1;32m    973\u001b[0m \u001b[0;34m\u001b[0m\u001b[0m\n\u001b[1;32m    974\u001b[0m     \u001b[0;32mdef\u001b[0m \u001b[0m_search_new_conversions\u001b[0m\u001b[0;34m(\u001b[0m\u001b[0mself\u001b[0m\u001b[0;34m,\u001b[0m \u001b[0;34m*\u001b[0m\u001b[0margs\u001b[0m\u001b[0;34m,\u001b[0m \u001b[0;34m**\u001b[0m\u001b[0mkws\u001b[0m\u001b[0;34m)\u001b[0m\u001b[0;34m:\u001b[0m\u001b[0;34m\u001b[0m\u001b[0;34m\u001b[0m\u001b[0m\n",
      "\u001b[0;32m/external2/dkkoshman/venv/lib/python3.6/site-packages/numba/cuda/compiler.py\u001b[0m in \u001b[0;36mcompile\u001b[0;34m(self, sig)\u001b[0m\n\u001b[1;32m   1092\u001b[0m                 \u001b[0;32mraise\u001b[0m \u001b[0mRuntimeError\u001b[0m\u001b[0;34m(\u001b[0m\u001b[0;34m\"Compilation disabled\"\u001b[0m\u001b[0;34m)\u001b[0m\u001b[0;34m\u001b[0m\u001b[0;34m\u001b[0m\u001b[0m\n\u001b[1;32m   1093\u001b[0m             kernel = _Kernel(self.py_func, argtypes, link=self.link,\n\u001b[0;32m-> 1094\u001b[0;31m                              **self.targetoptions)\n\u001b[0m\u001b[1;32m   1095\u001b[0m             \u001b[0;31m# Inspired by _DispatcherBase.add_overload, but differs slightly\u001b[0m\u001b[0;34m\u001b[0m\u001b[0;34m\u001b[0m\u001b[0;34m\u001b[0m\u001b[0m\n\u001b[1;32m   1096\u001b[0m             \u001b[0;31m# because we're inserting a _Kernel object instead of a compiled\u001b[0m\u001b[0;34m\u001b[0m\u001b[0;34m\u001b[0m\u001b[0;34m\u001b[0m\u001b[0m\n",
      "\u001b[0;32m/external2/dkkoshman/venv/lib/python3.6/site-packages/numba/core/compiler_lock.py\u001b[0m in \u001b[0;36m_acquire_compile_lock\u001b[0;34m(*args, **kwargs)\u001b[0m\n\u001b[1;32m     33\u001b[0m         \u001b[0;32mdef\u001b[0m \u001b[0m_acquire_compile_lock\u001b[0m\u001b[0;34m(\u001b[0m\u001b[0;34m*\u001b[0m\u001b[0margs\u001b[0m\u001b[0;34m,\u001b[0m \u001b[0;34m**\u001b[0m\u001b[0mkwargs\u001b[0m\u001b[0;34m)\u001b[0m\u001b[0;34m:\u001b[0m\u001b[0;34m\u001b[0m\u001b[0;34m\u001b[0m\u001b[0m\n\u001b[1;32m     34\u001b[0m             \u001b[0;32mwith\u001b[0m \u001b[0mself\u001b[0m\u001b[0;34m:\u001b[0m\u001b[0;34m\u001b[0m\u001b[0;34m\u001b[0m\u001b[0m\n\u001b[0;32m---> 35\u001b[0;31m                 \u001b[0;32mreturn\u001b[0m \u001b[0mfunc\u001b[0m\u001b[0;34m(\u001b[0m\u001b[0;34m*\u001b[0m\u001b[0margs\u001b[0m\u001b[0;34m,\u001b[0m \u001b[0;34m**\u001b[0m\u001b[0mkwargs\u001b[0m\u001b[0;34m)\u001b[0m\u001b[0;34m\u001b[0m\u001b[0;34m\u001b[0m\u001b[0m\n\u001b[0m\u001b[1;32m     36\u001b[0m         \u001b[0;32mreturn\u001b[0m \u001b[0m_acquire_compile_lock\u001b[0m\u001b[0;34m\u001b[0m\u001b[0;34m\u001b[0m\u001b[0m\n\u001b[1;32m     37\u001b[0m \u001b[0;34m\u001b[0m\u001b[0m\n",
      "\u001b[0;32m/external2/dkkoshman/venv/lib/python3.6/site-packages/numba/cuda/compiler.py\u001b[0m in \u001b[0;36m__init__\u001b[0;34m(self, py_func, argtypes, link, debug, inline, fastmath, extensions, max_registers, opt)\u001b[0m\n\u001b[1;32m    509\u001b[0m         cres = compile_cuda(self.py_func, types.void, self.argtypes,\n\u001b[1;32m    510\u001b[0m                             \u001b[0mdebug\u001b[0m\u001b[0;34m=\u001b[0m\u001b[0mself\u001b[0m\u001b[0;34m.\u001b[0m\u001b[0mdebug\u001b[0m\u001b[0;34m,\u001b[0m\u001b[0;34m\u001b[0m\u001b[0;34m\u001b[0m\u001b[0m\n\u001b[0;32m--> 511\u001b[0;31m                             inline=inline)\n\u001b[0m\u001b[1;32m    512\u001b[0m         \u001b[0mfname\u001b[0m \u001b[0;34m=\u001b[0m \u001b[0mcres\u001b[0m\u001b[0;34m.\u001b[0m\u001b[0mfndesc\u001b[0m\u001b[0;34m.\u001b[0m\u001b[0mllvm_func_name\u001b[0m\u001b[0;34m\u001b[0m\u001b[0;34m\u001b[0m\u001b[0m\n\u001b[1;32m    513\u001b[0m         \u001b[0margs\u001b[0m \u001b[0;34m=\u001b[0m \u001b[0mcres\u001b[0m\u001b[0;34m.\u001b[0m\u001b[0msignature\u001b[0m\u001b[0;34m.\u001b[0m\u001b[0margs\u001b[0m\u001b[0;34m\u001b[0m\u001b[0;34m\u001b[0m\u001b[0m\n",
      "\u001b[0;32m/external2/dkkoshman/venv/lib/python3.6/site-packages/numba/core/compiler_lock.py\u001b[0m in \u001b[0;36m_acquire_compile_lock\u001b[0;34m(*args, **kwargs)\u001b[0m\n\u001b[1;32m     33\u001b[0m         \u001b[0;32mdef\u001b[0m \u001b[0m_acquire_compile_lock\u001b[0m\u001b[0;34m(\u001b[0m\u001b[0;34m*\u001b[0m\u001b[0margs\u001b[0m\u001b[0;34m,\u001b[0m \u001b[0;34m**\u001b[0m\u001b[0mkwargs\u001b[0m\u001b[0;34m)\u001b[0m\u001b[0;34m:\u001b[0m\u001b[0;34m\u001b[0m\u001b[0;34m\u001b[0m\u001b[0m\n\u001b[1;32m     34\u001b[0m             \u001b[0;32mwith\u001b[0m \u001b[0mself\u001b[0m\u001b[0;34m:\u001b[0m\u001b[0;34m\u001b[0m\u001b[0;34m\u001b[0m\u001b[0m\n\u001b[0;32m---> 35\u001b[0;31m                 \u001b[0;32mreturn\u001b[0m \u001b[0mfunc\u001b[0m\u001b[0;34m(\u001b[0m\u001b[0;34m*\u001b[0m\u001b[0margs\u001b[0m\u001b[0;34m,\u001b[0m \u001b[0;34m**\u001b[0m\u001b[0mkwargs\u001b[0m\u001b[0;34m)\u001b[0m\u001b[0;34m\u001b[0m\u001b[0;34m\u001b[0m\u001b[0m\n\u001b[0m\u001b[1;32m     36\u001b[0m         \u001b[0;32mreturn\u001b[0m \u001b[0m_acquire_compile_lock\u001b[0m\u001b[0;34m\u001b[0m\u001b[0;34m\u001b[0m\u001b[0m\n\u001b[1;32m     37\u001b[0m \u001b[0;34m\u001b[0m\u001b[0m\n",
      "\u001b[0;32m/external2/dkkoshman/venv/lib/python3.6/site-packages/numba/cuda/compiler.py\u001b[0m in \u001b[0;36mcompile_cuda\u001b[0;34m(pyfunc, return_type, args, debug, inline)\u001b[0m\n\u001b[1;32m     51\u001b[0m                                   \u001b[0mreturn_type\u001b[0m\u001b[0;34m=\u001b[0m\u001b[0mreturn_type\u001b[0m\u001b[0;34m,\u001b[0m\u001b[0;34m\u001b[0m\u001b[0;34m\u001b[0m\u001b[0m\n\u001b[1;32m     52\u001b[0m                                   \u001b[0mflags\u001b[0m\u001b[0;34m=\u001b[0m\u001b[0mflags\u001b[0m\u001b[0;34m,\u001b[0m\u001b[0;34m\u001b[0m\u001b[0;34m\u001b[0m\u001b[0m\n\u001b[0;32m---> 53\u001b[0;31m                                   locals={})\n\u001b[0m\u001b[1;32m     54\u001b[0m \u001b[0;34m\u001b[0m\u001b[0m\n\u001b[1;32m     55\u001b[0m     \u001b[0mlibrary\u001b[0m \u001b[0;34m=\u001b[0m \u001b[0mcres\u001b[0m\u001b[0;34m.\u001b[0m\u001b[0mlibrary\u001b[0m\u001b[0;34m\u001b[0m\u001b[0;34m\u001b[0m\u001b[0m\n",
      "\u001b[0;32m/external2/dkkoshman/venv/lib/python3.6/site-packages/numba/core/compiler.py\u001b[0m in \u001b[0;36mcompile_extra\u001b[0;34m(typingctx, targetctx, func, args, return_type, flags, locals, library, pipeline_class)\u001b[0m\n\u001b[1;32m    604\u001b[0m     pipeline = pipeline_class(typingctx, targetctx, library,\n\u001b[1;32m    605\u001b[0m                               args, return_type, flags, locals)\n\u001b[0;32m--> 606\u001b[0;31m     \u001b[0;32mreturn\u001b[0m \u001b[0mpipeline\u001b[0m\u001b[0;34m.\u001b[0m\u001b[0mcompile_extra\u001b[0m\u001b[0;34m(\u001b[0m\u001b[0mfunc\u001b[0m\u001b[0;34m)\u001b[0m\u001b[0;34m\u001b[0m\u001b[0;34m\u001b[0m\u001b[0m\n\u001b[0m\u001b[1;32m    607\u001b[0m \u001b[0;34m\u001b[0m\u001b[0m\n\u001b[1;32m    608\u001b[0m \u001b[0;34m\u001b[0m\u001b[0m\n",
      "\u001b[0;32m/external2/dkkoshman/venv/lib/python3.6/site-packages/numba/core/compiler.py\u001b[0m in \u001b[0;36mcompile_extra\u001b[0;34m(self, func)\u001b[0m\n\u001b[1;32m    351\u001b[0m         \u001b[0mself\u001b[0m\u001b[0;34m.\u001b[0m\u001b[0mstate\u001b[0m\u001b[0;34m.\u001b[0m\u001b[0mlifted\u001b[0m \u001b[0;34m=\u001b[0m \u001b[0;34m(\u001b[0m\u001b[0;34m)\u001b[0m\u001b[0;34m\u001b[0m\u001b[0;34m\u001b[0m\u001b[0m\n\u001b[1;32m    352\u001b[0m         \u001b[0mself\u001b[0m\u001b[0;34m.\u001b[0m\u001b[0mstate\u001b[0m\u001b[0;34m.\u001b[0m\u001b[0mlifted_from\u001b[0m \u001b[0;34m=\u001b[0m \u001b[0;32mNone\u001b[0m\u001b[0;34m\u001b[0m\u001b[0;34m\u001b[0m\u001b[0m\n\u001b[0;32m--> 353\u001b[0;31m         \u001b[0;32mreturn\u001b[0m \u001b[0mself\u001b[0m\u001b[0;34m.\u001b[0m\u001b[0m_compile_bytecode\u001b[0m\u001b[0;34m(\u001b[0m\u001b[0;34m)\u001b[0m\u001b[0;34m\u001b[0m\u001b[0;34m\u001b[0m\u001b[0m\n\u001b[0m\u001b[1;32m    354\u001b[0m \u001b[0;34m\u001b[0m\u001b[0m\n\u001b[1;32m    355\u001b[0m     \u001b[0;32mdef\u001b[0m \u001b[0mcompile_ir\u001b[0m\u001b[0;34m(\u001b[0m\u001b[0mself\u001b[0m\u001b[0;34m,\u001b[0m \u001b[0mfunc_ir\u001b[0m\u001b[0;34m,\u001b[0m \u001b[0mlifted\u001b[0m\u001b[0;34m=\u001b[0m\u001b[0;34m(\u001b[0m\u001b[0;34m)\u001b[0m\u001b[0;34m,\u001b[0m \u001b[0mlifted_from\u001b[0m\u001b[0;34m=\u001b[0m\u001b[0;32mNone\u001b[0m\u001b[0;34m)\u001b[0m\u001b[0;34m:\u001b[0m\u001b[0;34m\u001b[0m\u001b[0;34m\u001b[0m\u001b[0m\n",
      "\u001b[0;32m/external2/dkkoshman/venv/lib/python3.6/site-packages/numba/core/compiler.py\u001b[0m in \u001b[0;36m_compile_bytecode\u001b[0;34m(self)\u001b[0m\n\u001b[1;32m    413\u001b[0m         \"\"\"\n\u001b[1;32m    414\u001b[0m         \u001b[0;32massert\u001b[0m \u001b[0mself\u001b[0m\u001b[0;34m.\u001b[0m\u001b[0mstate\u001b[0m\u001b[0;34m.\u001b[0m\u001b[0mfunc_ir\u001b[0m \u001b[0;32mis\u001b[0m \u001b[0;32mNone\u001b[0m\u001b[0;34m\u001b[0m\u001b[0;34m\u001b[0m\u001b[0m\n\u001b[0;32m--> 415\u001b[0;31m         \u001b[0;32mreturn\u001b[0m \u001b[0mself\u001b[0m\u001b[0;34m.\u001b[0m\u001b[0m_compile_core\u001b[0m\u001b[0;34m(\u001b[0m\u001b[0;34m)\u001b[0m\u001b[0;34m\u001b[0m\u001b[0;34m\u001b[0m\u001b[0m\n\u001b[0m\u001b[1;32m    416\u001b[0m \u001b[0;34m\u001b[0m\u001b[0m\n\u001b[1;32m    417\u001b[0m     \u001b[0;32mdef\u001b[0m \u001b[0m_compile_ir\u001b[0m\u001b[0;34m(\u001b[0m\u001b[0mself\u001b[0m\u001b[0;34m)\u001b[0m\u001b[0;34m:\u001b[0m\u001b[0;34m\u001b[0m\u001b[0;34m\u001b[0m\u001b[0m\n",
      "\u001b[0;32m/external2/dkkoshman/venv/lib/python3.6/site-packages/numba/core/compiler.py\u001b[0m in \u001b[0;36m_compile_core\u001b[0;34m(self)\u001b[0m\n\u001b[1;32m    393\u001b[0m                 \u001b[0mself\u001b[0m\u001b[0;34m.\u001b[0m\u001b[0mstate\u001b[0m\u001b[0;34m.\u001b[0m\u001b[0mstatus\u001b[0m\u001b[0;34m.\u001b[0m\u001b[0mfail_reason\u001b[0m \u001b[0;34m=\u001b[0m \u001b[0me\u001b[0m\u001b[0;34m\u001b[0m\u001b[0;34m\u001b[0m\u001b[0m\n\u001b[1;32m    394\u001b[0m                 \u001b[0;32mif\u001b[0m \u001b[0mis_final_pipeline\u001b[0m\u001b[0;34m:\u001b[0m\u001b[0;34m\u001b[0m\u001b[0;34m\u001b[0m\u001b[0m\n\u001b[0;32m--> 395\u001b[0;31m                     \u001b[0;32mraise\u001b[0m \u001b[0me\u001b[0m\u001b[0;34m\u001b[0m\u001b[0;34m\u001b[0m\u001b[0m\n\u001b[0m\u001b[1;32m    396\u001b[0m         \u001b[0;32melse\u001b[0m\u001b[0;34m:\u001b[0m\u001b[0;34m\u001b[0m\u001b[0;34m\u001b[0m\u001b[0m\n\u001b[1;32m    397\u001b[0m             \u001b[0;32mraise\u001b[0m \u001b[0mCompilerError\u001b[0m\u001b[0;34m(\u001b[0m\u001b[0;34m\"All available pipelines exhausted\"\u001b[0m\u001b[0;34m)\u001b[0m\u001b[0;34m\u001b[0m\u001b[0;34m\u001b[0m\u001b[0m\n",
      "\u001b[0;32m/external2/dkkoshman/venv/lib/python3.6/site-packages/numba/core/compiler.py\u001b[0m in \u001b[0;36m_compile_core\u001b[0;34m(self)\u001b[0m\n\u001b[1;32m    384\u001b[0m             \u001b[0mres\u001b[0m \u001b[0;34m=\u001b[0m \u001b[0;32mNone\u001b[0m\u001b[0;34m\u001b[0m\u001b[0;34m\u001b[0m\u001b[0m\n\u001b[1;32m    385\u001b[0m             \u001b[0;32mtry\u001b[0m\u001b[0;34m:\u001b[0m\u001b[0;34m\u001b[0m\u001b[0;34m\u001b[0m\u001b[0m\n\u001b[0;32m--> 386\u001b[0;31m                 \u001b[0mpm\u001b[0m\u001b[0;34m.\u001b[0m\u001b[0mrun\u001b[0m\u001b[0;34m(\u001b[0m\u001b[0mself\u001b[0m\u001b[0;34m.\u001b[0m\u001b[0mstate\u001b[0m\u001b[0;34m)\u001b[0m\u001b[0;34m\u001b[0m\u001b[0;34m\u001b[0m\u001b[0m\n\u001b[0m\u001b[1;32m    387\u001b[0m                 \u001b[0;32mif\u001b[0m \u001b[0mself\u001b[0m\u001b[0;34m.\u001b[0m\u001b[0mstate\u001b[0m\u001b[0;34m.\u001b[0m\u001b[0mcr\u001b[0m \u001b[0;32mis\u001b[0m \u001b[0;32mnot\u001b[0m \u001b[0;32mNone\u001b[0m\u001b[0;34m:\u001b[0m\u001b[0;34m\u001b[0m\u001b[0;34m\u001b[0m\u001b[0m\n\u001b[1;32m    388\u001b[0m                     \u001b[0;32mbreak\u001b[0m\u001b[0;34m\u001b[0m\u001b[0;34m\u001b[0m\u001b[0m\n",
      "\u001b[0;32m/external2/dkkoshman/venv/lib/python3.6/site-packages/numba/core/compiler_machinery.py\u001b[0m in \u001b[0;36mrun\u001b[0;34m(self, state)\u001b[0m\n\u001b[1;32m    337\u001b[0m                     \u001b[0;34m(\u001b[0m\u001b[0mself\u001b[0m\u001b[0;34m.\u001b[0m\u001b[0mpipeline_name\u001b[0m\u001b[0;34m,\u001b[0m \u001b[0mpass_desc\u001b[0m\u001b[0;34m)\u001b[0m\u001b[0;34m\u001b[0m\u001b[0;34m\u001b[0m\u001b[0m\n\u001b[1;32m    338\u001b[0m                 \u001b[0mpatched_exception\u001b[0m \u001b[0;34m=\u001b[0m \u001b[0mself\u001b[0m\u001b[0;34m.\u001b[0m\u001b[0m_patch_error\u001b[0m\u001b[0;34m(\u001b[0m\u001b[0mmsg\u001b[0m\u001b[0;34m,\u001b[0m \u001b[0me\u001b[0m\u001b[0;34m)\u001b[0m\u001b[0;34m\u001b[0m\u001b[0;34m\u001b[0m\u001b[0m\n\u001b[0;32m--> 339\u001b[0;31m                 \u001b[0;32mraise\u001b[0m \u001b[0mpatched_exception\u001b[0m\u001b[0;34m\u001b[0m\u001b[0;34m\u001b[0m\u001b[0m\n\u001b[0m\u001b[1;32m    340\u001b[0m \u001b[0;34m\u001b[0m\u001b[0m\n\u001b[1;32m    341\u001b[0m     \u001b[0;32mdef\u001b[0m \u001b[0mdependency_analysis\u001b[0m\u001b[0;34m(\u001b[0m\u001b[0mself\u001b[0m\u001b[0;34m)\u001b[0m\u001b[0;34m:\u001b[0m\u001b[0;34m\u001b[0m\u001b[0;34m\u001b[0m\u001b[0m\n",
      "\u001b[0;32m/external2/dkkoshman/venv/lib/python3.6/site-packages/numba/core/compiler_machinery.py\u001b[0m in \u001b[0;36mrun\u001b[0;34m(self, state)\u001b[0m\n\u001b[1;32m    328\u001b[0m                 \u001b[0mpass_inst\u001b[0m \u001b[0;34m=\u001b[0m \u001b[0m_pass_registry\u001b[0m\u001b[0;34m.\u001b[0m\u001b[0mget\u001b[0m\u001b[0;34m(\u001b[0m\u001b[0mpss\u001b[0m\u001b[0;34m)\u001b[0m\u001b[0;34m.\u001b[0m\u001b[0mpass_inst\u001b[0m\u001b[0;34m\u001b[0m\u001b[0;34m\u001b[0m\u001b[0m\n\u001b[1;32m    329\u001b[0m                 \u001b[0;32mif\u001b[0m \u001b[0misinstance\u001b[0m\u001b[0;34m(\u001b[0m\u001b[0mpass_inst\u001b[0m\u001b[0;34m,\u001b[0m \u001b[0mCompilerPass\u001b[0m\u001b[0;34m)\u001b[0m\u001b[0;34m:\u001b[0m\u001b[0;34m\u001b[0m\u001b[0;34m\u001b[0m\u001b[0m\n\u001b[0;32m--> 330\u001b[0;31m                     \u001b[0mself\u001b[0m\u001b[0;34m.\u001b[0m\u001b[0m_runPass\u001b[0m\u001b[0;34m(\u001b[0m\u001b[0midx\u001b[0m\u001b[0;34m,\u001b[0m \u001b[0mpass_inst\u001b[0m\u001b[0;34m,\u001b[0m \u001b[0mstate\u001b[0m\u001b[0;34m)\u001b[0m\u001b[0;34m\u001b[0m\u001b[0;34m\u001b[0m\u001b[0m\n\u001b[0m\u001b[1;32m    331\u001b[0m                 \u001b[0;32melse\u001b[0m\u001b[0;34m:\u001b[0m\u001b[0;34m\u001b[0m\u001b[0;34m\u001b[0m\u001b[0m\n\u001b[1;32m    332\u001b[0m                     \u001b[0;32mraise\u001b[0m \u001b[0mBaseException\u001b[0m\u001b[0;34m(\u001b[0m\u001b[0;34m\"Legacy pass in use\"\u001b[0m\u001b[0;34m)\u001b[0m\u001b[0;34m\u001b[0m\u001b[0;34m\u001b[0m\u001b[0m\n",
      "\u001b[0;32m/external2/dkkoshman/venv/lib/python3.6/site-packages/numba/core/compiler_lock.py\u001b[0m in \u001b[0;36m_acquire_compile_lock\u001b[0;34m(*args, **kwargs)\u001b[0m\n\u001b[1;32m     33\u001b[0m         \u001b[0;32mdef\u001b[0m \u001b[0m_acquire_compile_lock\u001b[0m\u001b[0;34m(\u001b[0m\u001b[0;34m*\u001b[0m\u001b[0margs\u001b[0m\u001b[0;34m,\u001b[0m \u001b[0;34m**\u001b[0m\u001b[0mkwargs\u001b[0m\u001b[0;34m)\u001b[0m\u001b[0;34m:\u001b[0m\u001b[0;34m\u001b[0m\u001b[0;34m\u001b[0m\u001b[0m\n\u001b[1;32m     34\u001b[0m             \u001b[0;32mwith\u001b[0m \u001b[0mself\u001b[0m\u001b[0;34m:\u001b[0m\u001b[0;34m\u001b[0m\u001b[0;34m\u001b[0m\u001b[0m\n\u001b[0;32m---> 35\u001b[0;31m                 \u001b[0;32mreturn\u001b[0m \u001b[0mfunc\u001b[0m\u001b[0;34m(\u001b[0m\u001b[0;34m*\u001b[0m\u001b[0margs\u001b[0m\u001b[0;34m,\u001b[0m \u001b[0;34m**\u001b[0m\u001b[0mkwargs\u001b[0m\u001b[0;34m)\u001b[0m\u001b[0;34m\u001b[0m\u001b[0;34m\u001b[0m\u001b[0m\n\u001b[0m\u001b[1;32m     36\u001b[0m         \u001b[0;32mreturn\u001b[0m \u001b[0m_acquire_compile_lock\u001b[0m\u001b[0;34m\u001b[0m\u001b[0;34m\u001b[0m\u001b[0m\n\u001b[1;32m     37\u001b[0m \u001b[0;34m\u001b[0m\u001b[0m\n",
      "\u001b[0;32m/external2/dkkoshman/venv/lib/python3.6/site-packages/numba/core/compiler_machinery.py\u001b[0m in \u001b[0;36m_runPass\u001b[0;34m(self, index, pss, internal_state)\u001b[0m\n\u001b[1;32m    287\u001b[0m             \u001b[0mmutated\u001b[0m \u001b[0;34m|=\u001b[0m \u001b[0mcheck\u001b[0m\u001b[0;34m(\u001b[0m\u001b[0mpss\u001b[0m\u001b[0;34m.\u001b[0m\u001b[0mrun_initialization\u001b[0m\u001b[0;34m,\u001b[0m \u001b[0minternal_state\u001b[0m\u001b[0;34m)\u001b[0m\u001b[0;34m\u001b[0m\u001b[0;34m\u001b[0m\u001b[0m\n\u001b[1;32m    288\u001b[0m         \u001b[0;32mwith\u001b[0m \u001b[0mSimpleTimer\u001b[0m\u001b[0;34m(\u001b[0m\u001b[0;34m)\u001b[0m \u001b[0;32mas\u001b[0m \u001b[0mpass_time\u001b[0m\u001b[0;34m:\u001b[0m\u001b[0;34m\u001b[0m\u001b[0;34m\u001b[0m\u001b[0m\n\u001b[0;32m--> 289\u001b[0;31m             \u001b[0mmutated\u001b[0m \u001b[0;34m|=\u001b[0m \u001b[0mcheck\u001b[0m\u001b[0;34m(\u001b[0m\u001b[0mpss\u001b[0m\u001b[0;34m.\u001b[0m\u001b[0mrun_pass\u001b[0m\u001b[0;34m,\u001b[0m \u001b[0minternal_state\u001b[0m\u001b[0;34m)\u001b[0m\u001b[0;34m\u001b[0m\u001b[0;34m\u001b[0m\u001b[0m\n\u001b[0m\u001b[1;32m    290\u001b[0m         \u001b[0;32mwith\u001b[0m \u001b[0mSimpleTimer\u001b[0m\u001b[0;34m(\u001b[0m\u001b[0;34m)\u001b[0m \u001b[0;32mas\u001b[0m \u001b[0mfinalize_time\u001b[0m\u001b[0;34m:\u001b[0m\u001b[0;34m\u001b[0m\u001b[0;34m\u001b[0m\u001b[0m\n\u001b[1;32m    291\u001b[0m             \u001b[0mmutated\u001b[0m \u001b[0;34m|=\u001b[0m \u001b[0mcheck\u001b[0m\u001b[0;34m(\u001b[0m\u001b[0mpss\u001b[0m\u001b[0;34m.\u001b[0m\u001b[0mrun_finalizer\u001b[0m\u001b[0;34m,\u001b[0m \u001b[0minternal_state\u001b[0m\u001b[0;34m)\u001b[0m\u001b[0;34m\u001b[0m\u001b[0;34m\u001b[0m\u001b[0m\n",
      "\u001b[0;32m/external2/dkkoshman/venv/lib/python3.6/site-packages/numba/core/compiler_machinery.py\u001b[0m in \u001b[0;36mcheck\u001b[0;34m(func, compiler_state)\u001b[0m\n\u001b[1;32m    260\u001b[0m \u001b[0;34m\u001b[0m\u001b[0m\n\u001b[1;32m    261\u001b[0m         \u001b[0;32mdef\u001b[0m \u001b[0mcheck\u001b[0m\u001b[0;34m(\u001b[0m\u001b[0mfunc\u001b[0m\u001b[0;34m,\u001b[0m \u001b[0mcompiler_state\u001b[0m\u001b[0;34m)\u001b[0m\u001b[0;34m:\u001b[0m\u001b[0;34m\u001b[0m\u001b[0;34m\u001b[0m\u001b[0m\n\u001b[0;32m--> 262\u001b[0;31m             \u001b[0mmangled\u001b[0m \u001b[0;34m=\u001b[0m \u001b[0mfunc\u001b[0m\u001b[0;34m(\u001b[0m\u001b[0mcompiler_state\u001b[0m\u001b[0;34m)\u001b[0m\u001b[0;34m\u001b[0m\u001b[0;34m\u001b[0m\u001b[0m\n\u001b[0m\u001b[1;32m    263\u001b[0m             \u001b[0;32mif\u001b[0m \u001b[0mmangled\u001b[0m \u001b[0;32mnot\u001b[0m \u001b[0;32min\u001b[0m \u001b[0;34m(\u001b[0m\u001b[0;32mTrue\u001b[0m\u001b[0;34m,\u001b[0m \u001b[0;32mFalse\u001b[0m\u001b[0;34m)\u001b[0m\u001b[0;34m:\u001b[0m\u001b[0;34m\u001b[0m\u001b[0;34m\u001b[0m\u001b[0m\n\u001b[1;32m    264\u001b[0m                 msg = (\"CompilerPass implementations should return True/False. \"\n",
      "\u001b[0;32m/external2/dkkoshman/venv/lib/python3.6/site-packages/numba/core/typed_passes.py\u001b[0m in \u001b[0;36mrun_pass\u001b[0;34m(self, state)\u001b[0m\n\u001b[1;32m    108\u001b[0m                 \u001b[0mstate\u001b[0m\u001b[0;34m.\u001b[0m\u001b[0mreturn_type\u001b[0m\u001b[0;34m,\u001b[0m\u001b[0;34m\u001b[0m\u001b[0;34m\u001b[0m\u001b[0m\n\u001b[1;32m    109\u001b[0m                 \u001b[0mstate\u001b[0m\u001b[0;34m.\u001b[0m\u001b[0mlocals\u001b[0m\u001b[0;34m,\u001b[0m\u001b[0;34m\u001b[0m\u001b[0;34m\u001b[0m\u001b[0m\n\u001b[0;32m--> 110\u001b[0;31m                 raise_errors=self._raise_errors)\n\u001b[0m\u001b[1;32m    111\u001b[0m             \u001b[0mstate\u001b[0m\u001b[0;34m.\u001b[0m\u001b[0mtypemap\u001b[0m \u001b[0;34m=\u001b[0m \u001b[0mtypemap\u001b[0m\u001b[0;34m\u001b[0m\u001b[0;34m\u001b[0m\u001b[0m\n\u001b[1;32m    112\u001b[0m             \u001b[0;31m# save errors in case of partial typing\u001b[0m\u001b[0;34m\u001b[0m\u001b[0;34m\u001b[0m\u001b[0;34m\u001b[0m\u001b[0m\n",
      "\u001b[0;32m/external2/dkkoshman/venv/lib/python3.6/site-packages/numba/core/typed_passes.py\u001b[0m in \u001b[0;36mtype_inference_stage\u001b[0;34m(typingctx, interp, args, return_type, locals, raise_errors)\u001b[0m\n\u001b[1;32m     80\u001b[0m         \u001b[0minfer\u001b[0m\u001b[0;34m.\u001b[0m\u001b[0mbuild_constraint\u001b[0m\u001b[0;34m(\u001b[0m\u001b[0;34m)\u001b[0m\u001b[0;34m\u001b[0m\u001b[0;34m\u001b[0m\u001b[0m\n\u001b[1;32m     81\u001b[0m         \u001b[0;31m# return errors in case of partial typing\u001b[0m\u001b[0;34m\u001b[0m\u001b[0;34m\u001b[0m\u001b[0;34m\u001b[0m\u001b[0m\n\u001b[0;32m---> 82\u001b[0;31m         \u001b[0merrs\u001b[0m \u001b[0;34m=\u001b[0m \u001b[0minfer\u001b[0m\u001b[0;34m.\u001b[0m\u001b[0mpropagate\u001b[0m\u001b[0;34m(\u001b[0m\u001b[0mraise_errors\u001b[0m\u001b[0;34m=\u001b[0m\u001b[0mraise_errors\u001b[0m\u001b[0;34m)\u001b[0m\u001b[0;34m\u001b[0m\u001b[0;34m\u001b[0m\u001b[0m\n\u001b[0m\u001b[1;32m     83\u001b[0m         \u001b[0mtypemap\u001b[0m\u001b[0;34m,\u001b[0m \u001b[0mrestype\u001b[0m\u001b[0;34m,\u001b[0m \u001b[0mcalltypes\u001b[0m \u001b[0;34m=\u001b[0m \u001b[0minfer\u001b[0m\u001b[0;34m.\u001b[0m\u001b[0munify\u001b[0m\u001b[0;34m(\u001b[0m\u001b[0mraise_errors\u001b[0m\u001b[0;34m=\u001b[0m\u001b[0mraise_errors\u001b[0m\u001b[0;34m)\u001b[0m\u001b[0;34m\u001b[0m\u001b[0;34m\u001b[0m\u001b[0m\n\u001b[1;32m     84\u001b[0m \u001b[0;34m\u001b[0m\u001b[0m\n",
      "\u001b[0;32m/external2/dkkoshman/venv/lib/python3.6/site-packages/numba/core/typeinfer.py\u001b[0m in \u001b[0;36mpropagate\u001b[0;34m(self, raise_errors)\u001b[0m\n\u001b[1;32m   1069\u001b[0m                                   if isinstance(e, ForceLiteralArg)]\n\u001b[1;32m   1070\u001b[0m                 \u001b[0;32mif\u001b[0m \u001b[0;32mnot\u001b[0m \u001b[0mforce_lit_args\u001b[0m\u001b[0;34m:\u001b[0m\u001b[0;34m\u001b[0m\u001b[0;34m\u001b[0m\u001b[0m\n\u001b[0;32m-> 1071\u001b[0;31m                     \u001b[0;32mraise\u001b[0m \u001b[0merrors\u001b[0m\u001b[0;34m[\u001b[0m\u001b[0;36m0\u001b[0m\u001b[0;34m]\u001b[0m\u001b[0;34m\u001b[0m\u001b[0;34m\u001b[0m\u001b[0m\n\u001b[0m\u001b[1;32m   1072\u001b[0m                 \u001b[0;32melse\u001b[0m\u001b[0;34m:\u001b[0m\u001b[0;34m\u001b[0m\u001b[0;34m\u001b[0m\u001b[0m\n\u001b[1;32m   1073\u001b[0m                     \u001b[0;32mraise\u001b[0m \u001b[0mreduce\u001b[0m\u001b[0;34m(\u001b[0m\u001b[0moperator\u001b[0m\u001b[0;34m.\u001b[0m\u001b[0mor_\u001b[0m\u001b[0;34m,\u001b[0m \u001b[0mforce_lit_args\u001b[0m\u001b[0;34m)\u001b[0m\u001b[0;34m\u001b[0m\u001b[0;34m\u001b[0m\u001b[0m\n",
      "\u001b[0;31mTypingError\u001b[0m: Failed in nopython mode pipeline (step: nopython frontend)\nUnknown attribute 'matmul' of type Module(<module 'cupy' from '/external2/dkkoshman/venv/lib/python3.6/site-packages/cupy/__init__.py'>)\n\nFile \"<ipython-input-44-e332277084f5>\", line 68:\n    def cuda_jit_analytic_optimum_with_fixed_factors(\n        <source elided>\n\n        YtCY_plus_lambdaI_inv = cupy.matmul((y_t * cm1), y_t.T) + YtY_plus_lambdaI\n        ^\n\nDuring: typing of get attribute at <ipython-input-44-e332277084f5> (68)\n\nFile \"<ipython-input-44-e332277084f5>\", line 68:\n    def cuda_jit_analytic_optimum_with_fixed_factors(\n        <source elided>\n\n        YtCY_plus_lambdaI_inv = cupy.matmul((y_t * cm1), y_t.T) + YtY_plus_lambdaI\n        ^\n"
     ]
    },
    {
     "data": {
      "application/javascript": [
       "\n",
       "            setTimeout(function() {\n",
       "                var nbb_cell_id = 114;\n",
       "                var nbb_unformatted_code = \"# sweep for lambda, latent dimension size\\n\\nmy_als_models = {\\n    #     \\\"my_als\\\": BatchRecommender(sparse_interface, ALS()),\\n    #     \\\"my_jit_als\\\": BatchRecommender(sparse_interface, ALS_jit()),\\n    \\\"my_jit_cuda_als\\\": BatchRecommender(sparse_interface, ALS_jit_cuda()),\\n}\\nassessor.assess(my_als_models)\";\n",
       "                var nbb_formatted_code = \"# sweep for lambda, latent dimension size\\n\\nmy_als_models = {\\n    #     \\\"my_als\\\": BatchRecommender(sparse_interface, ALS()),\\n    #     \\\"my_jit_als\\\": BatchRecommender(sparse_interface, ALS_jit()),\\n    \\\"my_jit_cuda_als\\\": BatchRecommender(sparse_interface, ALS_jit_cuda()),\\n}\\nassessor.assess(my_als_models)\";\n",
       "                var nbb_cells = Jupyter.notebook.get_cells();\n",
       "                for (var i = 0; i < nbb_cells.length; ++i) {\n",
       "                    if (nbb_cells[i].input_prompt_number == nbb_cell_id) {\n",
       "                        if (nbb_cells[i].get_text() == nbb_unformatted_code) {\n",
       "                             nbb_cells[i].set_text(nbb_formatted_code);\n",
       "                        }\n",
       "                        break;\n",
       "                    }\n",
       "                }\n",
       "            }, 500);\n",
       "            "
      ],
      "text/plain": [
       "<IPython.core.display.Javascript object>"
      ]
     },
     "metadata": {},
     "output_type": "display_data"
    }
   ],
   "source": [
    "# sweep for lambda, latent dimension size\n",
    "\n",
    "my_als_models = {\n",
    "    #     \"my_als\": BatchRecommender(sparse_interface, ALS()),\n",
    "    #     \"my_jit_als\": BatchRecommender(sparse_interface, ALS_jit()),\n",
    "    \"my_jit_cuda_als\": BatchRecommender(sparse_interface, ALS_jit_cuda()),\n",
    "}\n",
    "assessor.assess(my_als_models)"
   ]
  },
  {
   "cell_type": "code",
   "execution_count": 50,
   "metadata": {
    "ExecuteTime": {
     "end_time": "2022-08-18T10:38:18.693281Z",
     "start_time": "2022-08-18T10:38:18.650206Z"
    }
   },
   "outputs": [
    {
     "data": {
      "text/html": [
       "<style  type=\"text/css\" >\n",
       "#T_dfa3275c_1ee1_11ed_b4f6_ac1f6b2cd28arow0_col0,#T_dfa3275c_1ee1_11ed_b4f6_ac1f6b2cd28arow0_col1,#T_dfa3275c_1ee1_11ed_b4f6_ac1f6b2cd28arow0_col2,#T_dfa3275c_1ee1_11ed_b4f6_ac1f6b2cd28arow0_col3,#T_dfa3275c_1ee1_11ed_b4f6_ac1f6b2cd28arow0_col4,#T_dfa3275c_1ee1_11ed_b4f6_ac1f6b2cd28arow0_col5,#T_dfa3275c_1ee1_11ed_b4f6_ac1f6b2cd28arow1_col6,#T_dfa3275c_1ee1_11ed_b4f6_ac1f6b2cd28arow1_col7,#T_dfa3275c_1ee1_11ed_b4f6_ac1f6b2cd28arow1_col8,#T_dfa3275c_1ee1_11ed_b4f6_ac1f6b2cd28arow2_col9{\n",
       "            background-color:  #8db0fe;\n",
       "            color:  #000000;\n",
       "        }#T_dfa3275c_1ee1_11ed_b4f6_ac1f6b2cd28arow0_col6,#T_dfa3275c_1ee1_11ed_b4f6_ac1f6b2cd28arow0_col7,#T_dfa3275c_1ee1_11ed_b4f6_ac1f6b2cd28arow3_col8,#T_dfa3275c_1ee1_11ed_b4f6_ac1f6b2cd28arow5_col1,#T_dfa3275c_1ee1_11ed_b4f6_ac1f6b2cd28arow5_col2,#T_dfa3275c_1ee1_11ed_b4f6_ac1f6b2cd28arow5_col3,#T_dfa3275c_1ee1_11ed_b4f6_ac1f6b2cd28arow6_col0,#T_dfa3275c_1ee1_11ed_b4f6_ac1f6b2cd28arow6_col4,#T_dfa3275c_1ee1_11ed_b4f6_ac1f6b2cd28arow6_col9{\n",
       "            background-color:  #f4987a;\n",
       "            color:  #000000;\n",
       "        }#T_dfa3275c_1ee1_11ed_b4f6_ac1f6b2cd28arow0_col8,#T_dfa3275c_1ee1_11ed_b4f6_ac1f6b2cd28arow2_col6{\n",
       "            background-color:  #f7a688;\n",
       "            color:  #000000;\n",
       "        }#T_dfa3275c_1ee1_11ed_b4f6_ac1f6b2cd28arow0_col9{\n",
       "            background-color:  #a3c2fe;\n",
       "            color:  #000000;\n",
       "        }#T_dfa3275c_1ee1_11ed_b4f6_ac1f6b2cd28arow1_col0{\n",
       "            background-color:  #96b7ff;\n",
       "            color:  #000000;\n",
       "        }#T_dfa3275c_1ee1_11ed_b4f6_ac1f6b2cd28arow1_col1{\n",
       "            background-color:  #9abbff;\n",
       "            color:  #000000;\n",
       "        }#T_dfa3275c_1ee1_11ed_b4f6_ac1f6b2cd28arow1_col2,#T_dfa3275c_1ee1_11ed_b4f6_ac1f6b2cd28arow1_col3{\n",
       "            background-color:  #97b8ff;\n",
       "            color:  #000000;\n",
       "        }#T_dfa3275c_1ee1_11ed_b4f6_ac1f6b2cd28arow1_col4{\n",
       "            background-color:  #9dbdff;\n",
       "            color:  #000000;\n",
       "        }#T_dfa3275c_1ee1_11ed_b4f6_ac1f6b2cd28arow1_col5,#T_dfa3275c_1ee1_11ed_b4f6_ac1f6b2cd28arow5_col6,#T_dfa3275c_1ee1_11ed_b4f6_ac1f6b2cd28arow6_col6{\n",
       "            background-color:  #9bbcff;\n",
       "            color:  #000000;\n",
       "        }#T_dfa3275c_1ee1_11ed_b4f6_ac1f6b2cd28arow1_col9,#T_dfa3275c_1ee1_11ed_b4f6_ac1f6b2cd28arow2_col7{\n",
       "            background-color:  #f7b093;\n",
       "            color:  #000000;\n",
       "        }#T_dfa3275c_1ee1_11ed_b4f6_ac1f6b2cd28arow2_col0{\n",
       "            background-color:  #f7b396;\n",
       "            color:  #000000;\n",
       "        }#T_dfa3275c_1ee1_11ed_b4f6_ac1f6b2cd28arow2_col1{\n",
       "            background-color:  #b9d0f9;\n",
       "            color:  #000000;\n",
       "        }#T_dfa3275c_1ee1_11ed_b4f6_ac1f6b2cd28arow2_col2,#T_dfa3275c_1ee1_11ed_b4f6_ac1f6b2cd28arow3_col2,#T_dfa3275c_1ee1_11ed_b4f6_ac1f6b2cd28arow4_col2{\n",
       "            background-color:  #b1cbfc;\n",
       "            color:  #000000;\n",
       "        }#T_dfa3275c_1ee1_11ed_b4f6_ac1f6b2cd28arow2_col3{\n",
       "            background-color:  #e4d9d2;\n",
       "            color:  #000000;\n",
       "        }#T_dfa3275c_1ee1_11ed_b4f6_ac1f6b2cd28arow2_col4,#T_dfa3275c_1ee1_11ed_b4f6_ac1f6b2cd28arow3_col4{\n",
       "            background-color:  #e0dbd8;\n",
       "            color:  #000000;\n",
       "        }#T_dfa3275c_1ee1_11ed_b4f6_ac1f6b2cd28arow2_col5,#T_dfa3275c_1ee1_11ed_b4f6_ac1f6b2cd28arow5_col7{\n",
       "            background-color:  #b7cff9;\n",
       "            color:  #000000;\n",
       "        }#T_dfa3275c_1ee1_11ed_b4f6_ac1f6b2cd28arow2_col8{\n",
       "            background-color:  #f7aa8c;\n",
       "            color:  #000000;\n",
       "        }#T_dfa3275c_1ee1_11ed_b4f6_ac1f6b2cd28arow3_col0,#T_dfa3275c_1ee1_11ed_b4f6_ac1f6b2cd28arow4_col0,#T_dfa3275c_1ee1_11ed_b4f6_ac1f6b2cd28arow4_col7{\n",
       "            background-color:  #f7b497;\n",
       "            color:  #000000;\n",
       "        }#T_dfa3275c_1ee1_11ed_b4f6_ac1f6b2cd28arow3_col1{\n",
       "            background-color:  #c7d7f0;\n",
       "            color:  #000000;\n",
       "        }#T_dfa3275c_1ee1_11ed_b4f6_ac1f6b2cd28arow3_col3{\n",
       "            background-color:  #f6bfa6;\n",
       "            color:  #000000;\n",
       "        }#T_dfa3275c_1ee1_11ed_b4f6_ac1f6b2cd28arow3_col5{\n",
       "            background-color:  #c3d5f4;\n",
       "            color:  #000000;\n",
       "        }#T_dfa3275c_1ee1_11ed_b4f6_ac1f6b2cd28arow3_col6,#T_dfa3275c_1ee1_11ed_b4f6_ac1f6b2cd28arow6_col3{\n",
       "            background-color:  #f59f80;\n",
       "            color:  #000000;\n",
       "        }#T_dfa3275c_1ee1_11ed_b4f6_ac1f6b2cd28arow3_col7{\n",
       "            background-color:  #f59d7e;\n",
       "            color:  #000000;\n",
       "        }#T_dfa3275c_1ee1_11ed_b4f6_ac1f6b2cd28arow3_col9{\n",
       "            background-color:  #d5dbe5;\n",
       "            color:  #000000;\n",
       "        }#T_dfa3275c_1ee1_11ed_b4f6_ac1f6b2cd28arow4_col1,#T_dfa3275c_1ee1_11ed_b4f6_ac1f6b2cd28arow6_col7{\n",
       "            background-color:  #b6cefa;\n",
       "            color:  #000000;\n",
       "        }#T_dfa3275c_1ee1_11ed_b4f6_ac1f6b2cd28arow4_col3{\n",
       "            background-color:  #dcdddd;\n",
       "            color:  #000000;\n",
       "        }#T_dfa3275c_1ee1_11ed_b4f6_ac1f6b2cd28arow4_col4{\n",
       "            background-color:  #dfdbd9;\n",
       "            color:  #000000;\n",
       "        }#T_dfa3275c_1ee1_11ed_b4f6_ac1f6b2cd28arow4_col5{\n",
       "            background-color:  #b3cdfb;\n",
       "            color:  #000000;\n",
       "        }#T_dfa3275c_1ee1_11ed_b4f6_ac1f6b2cd28arow4_col6{\n",
       "            background-color:  #f7ac8e;\n",
       "            color:  #000000;\n",
       "        }#T_dfa3275c_1ee1_11ed_b4f6_ac1f6b2cd28arow4_col8,#T_dfa3275c_1ee1_11ed_b4f6_ac1f6b2cd28arow5_col5,#T_dfa3275c_1ee1_11ed_b4f6_ac1f6b2cd28arow5_col9,#T_dfa3275c_1ee1_11ed_b4f6_ac1f6b2cd28arow6_col2,#T_dfa3275c_1ee1_11ed_b4f6_ac1f6b2cd28arow6_col5{\n",
       "            background-color:  #f49a7b;\n",
       "            color:  #000000;\n",
       "        }#T_dfa3275c_1ee1_11ed_b4f6_ac1f6b2cd28arow4_col9{\n",
       "            background-color:  #90b2fe;\n",
       "            color:  #000000;\n",
       "        }#T_dfa3275c_1ee1_11ed_b4f6_ac1f6b2cd28arow5_col0{\n",
       "            background-color:  #f6a283;\n",
       "            color:  #000000;\n",
       "        }#T_dfa3275c_1ee1_11ed_b4f6_ac1f6b2cd28arow5_col4{\n",
       "            background-color:  #f5a081;\n",
       "            color:  #000000;\n",
       "        }#T_dfa3275c_1ee1_11ed_b4f6_ac1f6b2cd28arow5_col8,#T_dfa3275c_1ee1_11ed_b4f6_ac1f6b2cd28arow6_col8{\n",
       "            background-color:  #abc8fd;\n",
       "            color:  #000000;\n",
       "        }#T_dfa3275c_1ee1_11ed_b4f6_ac1f6b2cd28arow6_col1{\n",
       "            background-color:  #f59c7d;\n",
       "            color:  #000000;\n",
       "        }</style><table id=\"T_dfa3275c_1ee1_11ed_b4f6_ac1f6b2cd28a\" ><thead>    <tr>        <th class=\"blank level0\" ></th>        <th class=\"col_heading level0 col0\" >train_mnap</th>        <th class=\"col_heading level0 col1\" >val_mnap</th>        <th class=\"col_heading level0 col2\" >train_hitrate</th>        <th class=\"col_heading level0 col3\" >val_hitrate</th>        <th class=\"col_heading level0 col4\" >train_mrr</th>        <th class=\"col_heading level0 col5\" >val_mrr</th>        <th class=\"col_heading level0 col6\" >train_coverage</th>        <th class=\"col_heading level0 col7\" >val_coverage</th>        <th class=\"col_heading level0 col8\" >train_surprisal</th>        <th class=\"col_heading level0 col9\" >val_surprisal</th>    </tr></thead><tbody>\n",
       "                <tr>\n",
       "                        <th id=\"T_dfa3275c_1ee1_11ed_b4f6_ac1f6b2cd28alevel0_row0\" class=\"row_heading level0 row0\" >random</th>\n",
       "                        <td id=\"T_dfa3275c_1ee1_11ed_b4f6_ac1f6b2cd28arow0_col0\" class=\"data row0 col0\" >0.000399</td>\n",
       "                        <td id=\"T_dfa3275c_1ee1_11ed_b4f6_ac1f6b2cd28arow0_col1\" class=\"data row0 col1\" >0.000127</td>\n",
       "                        <td id=\"T_dfa3275c_1ee1_11ed_b4f6_ac1f6b2cd28arow0_col2\" class=\"data row0 col2\" >0.005453</td>\n",
       "                        <td id=\"T_dfa3275c_1ee1_11ed_b4f6_ac1f6b2cd28arow0_col3\" class=\"data row0 col3\" >0.000458</td>\n",
       "                        <td id=\"T_dfa3275c_1ee1_11ed_b4f6_ac1f6b2cd28arow0_col4\" class=\"data row0 col4\" >0.001132</td>\n",
       "                        <td id=\"T_dfa3275c_1ee1_11ed_b4f6_ac1f6b2cd28arow0_col5\" class=\"data row0 col5\" >0.000072</td>\n",
       "                        <td id=\"T_dfa3275c_1ee1_11ed_b4f6_ac1f6b2cd28arow0_col6\" class=\"data row0 col6\" >1.000000</td>\n",
       "                        <td id=\"T_dfa3275c_1ee1_11ed_b4f6_ac1f6b2cd28arow0_col7\" class=\"data row0 col7\" >0.907114</td>\n",
       "                        <td id=\"T_dfa3275c_1ee1_11ed_b4f6_ac1f6b2cd28arow0_col8\" class=\"data row0 col8\" >0.816632</td>\n",
       "                        <td id=\"T_dfa3275c_1ee1_11ed_b4f6_ac1f6b2cd28arow0_col9\" class=\"data row0 col9\" >0.262297</td>\n",
       "            </tr>\n",
       "            <tr>\n",
       "                        <th id=\"T_dfa3275c_1ee1_11ed_b4f6_ac1f6b2cd28alevel0_row1\" class=\"row_heading level0 row1\" >popular</th>\n",
       "                        <td id=\"T_dfa3275c_1ee1_11ed_b4f6_ac1f6b2cd28arow1_col0\" class=\"data row1 col0\" >0.008344</td>\n",
       "                        <td id=\"T_dfa3275c_1ee1_11ed_b4f6_ac1f6b2cd28arow1_col1\" class=\"data row1 col1\" >0.002827</td>\n",
       "                        <td id=\"T_dfa3275c_1ee1_11ed_b4f6_ac1f6b2cd28arow1_col2\" class=\"data row1 col2\" >0.044193</td>\n",
       "                        <td id=\"T_dfa3275c_1ee1_11ed_b4f6_ac1f6b2cd28arow1_col3\" class=\"data row1 col3\" >0.005109</td>\n",
       "                        <td id=\"T_dfa3275c_1ee1_11ed_b4f6_ac1f6b2cd28arow1_col4\" class=\"data row1 col4\" >0.024622</td>\n",
       "                        <td id=\"T_dfa3275c_1ee1_11ed_b4f6_ac1f6b2cd28arow1_col5\" class=\"data row1 col5\" >0.002196</td>\n",
       "                        <td id=\"T_dfa3275c_1ee1_11ed_b4f6_ac1f6b2cd28arow1_col6\" class=\"data row1 col6\" >0.001356</td>\n",
       "                        <td id=\"T_dfa3275c_1ee1_11ed_b4f6_ac1f6b2cd28arow1_col7\" class=\"data row1 col7\" >0.004008</td>\n",
       "                        <td id=\"T_dfa3275c_1ee1_11ed_b4f6_ac1f6b2cd28arow1_col8\" class=\"data row1 col8\" >0.527312</td>\n",
       "                        <td id=\"T_dfa3275c_1ee1_11ed_b4f6_ac1f6b2cd28arow1_col9\" class=\"data row1 col9\" >0.647709</td>\n",
       "            </tr>\n",
       "            <tr>\n",
       "                        <th id=\"T_dfa3275c_1ee1_11ed_b4f6_ac1f6b2cd28alevel0_row2\" class=\"row_heading level0 row2\" >tfidf</th>\n",
       "                        <td id=\"T_dfa3275c_1ee1_11ed_b4f6_ac1f6b2cd28arow2_col0\" class=\"data row2 col0\" >0.134759</td>\n",
       "                        <td id=\"T_dfa3275c_1ee1_11ed_b4f6_ac1f6b2cd28arow2_col1\" class=\"data row2 col1\" >0.009237</td>\n",
       "                        <td id=\"T_dfa3275c_1ee1_11ed_b4f6_ac1f6b2cd28arow2_col2\" class=\"data row2 col2\" >0.135934</td>\n",
       "                        <td id=\"T_dfa3275c_1ee1_11ed_b4f6_ac1f6b2cd28arow2_col3\" class=\"data row2 col3\" >0.047701</td>\n",
       "                        <td id=\"T_dfa3275c_1ee1_11ed_b4f6_ac1f6b2cd28arow2_col4\" class=\"data row2 col4\" >0.135225</td>\n",
       "                        <td id=\"T_dfa3275c_1ee1_11ed_b4f6_ac1f6b2cd28arow2_col5\" class=\"data row2 col5\" >0.006451</td>\n",
       "                        <td id=\"T_dfa3275c_1ee1_11ed_b4f6_ac1f6b2cd28arow2_col6\" class=\"data row2 col6\" >0.932429</td>\n",
       "                        <td id=\"T_dfa3275c_1ee1_11ed_b4f6_ac1f6b2cd28arow2_col7\" class=\"data row2 col7\" >0.796994</td>\n",
       "                        <td id=\"T_dfa3275c_1ee1_11ed_b4f6_ac1f6b2cd28arow2_col8\" class=\"data row2 col8\" >0.808143</td>\n",
       "                        <td id=\"T_dfa3275c_1ee1_11ed_b4f6_ac1f6b2cd28arow2_col9\" class=\"data row2 col9\" >0.195015</td>\n",
       "            </tr>\n",
       "            <tr>\n",
       "                        <th id=\"T_dfa3275c_1ee1_11ed_b4f6_ac1f6b2cd28alevel0_row3\" class=\"row_heading level0 row3\" >bm25</th>\n",
       "                        <td id=\"T_dfa3275c_1ee1_11ed_b4f6_ac1f6b2cd28arow3_col0\" class=\"data row3 col0\" >0.134376</td>\n",
       "                        <td id=\"T_dfa3275c_1ee1_11ed_b4f6_ac1f6b2cd28arow3_col1\" class=\"data row3 col1\" >0.012416</td>\n",
       "                        <td id=\"T_dfa3275c_1ee1_11ed_b4f6_ac1f6b2cd28arow3_col2\" class=\"data row3 col2\" >0.135705</td>\n",
       "                        <td id=\"T_dfa3275c_1ee1_11ed_b4f6_ac1f6b2cd28arow3_col3\" class=\"data row3 col3\" >0.066728</td>\n",
       "                        <td id=\"T_dfa3275c_1ee1_11ed_b4f6_ac1f6b2cd28arow3_col4\" class=\"data row3 col4\" >0.135073</td>\n",
       "                        <td id=\"T_dfa3275c_1ee1_11ed_b4f6_ac1f6b2cd28arow3_col5\" class=\"data row3 col5\" >0.008444</td>\n",
       "                        <td id=\"T_dfa3275c_1ee1_11ed_b4f6_ac1f6b2cd28arow3_col6\" class=\"data row3 col6\" >0.971690</td>\n",
       "                        <td id=\"T_dfa3275c_1ee1_11ed_b4f6_ac1f6b2cd28arow3_col7\" class=\"data row3 col7\" >0.891984</td>\n",
       "                        <td id=\"T_dfa3275c_1ee1_11ed_b4f6_ac1f6b2cd28arow3_col8\" class=\"data row3 col8\" >0.835944</td>\n",
       "                        <td id=\"T_dfa3275c_1ee1_11ed_b4f6_ac1f6b2cd28arow3_col9\" class=\"data row3 col9\" >0.422189</td>\n",
       "            </tr>\n",
       "            <tr>\n",
       "                        <th id=\"T_dfa3275c_1ee1_11ed_b4f6_ac1f6b2cd28alevel0_row4\" class=\"row_heading level0 row4\" >cosine</th>\n",
       "                        <td id=\"T_dfa3275c_1ee1_11ed_b4f6_ac1f6b2cd28arow4_col0\" class=\"data row4 col0\" >0.133337</td>\n",
       "                        <td id=\"T_dfa3275c_1ee1_11ed_b4f6_ac1f6b2cd28arow4_col1\" class=\"data row4 col1\" >0.008690</td>\n",
       "                        <td id=\"T_dfa3275c_1ee1_11ed_b4f6_ac1f6b2cd28arow4_col2\" class=\"data row4 col2\" >0.135247</td>\n",
       "                        <td id=\"T_dfa3275c_1ee1_11ed_b4f6_ac1f6b2cd28arow4_col3\" class=\"data row4 col3\" >0.042591</td>\n",
       "                        <td id=\"T_dfa3275c_1ee1_11ed_b4f6_ac1f6b2cd28arow4_col4\" class=\"data row4 col4\" >0.134710</td>\n",
       "                        <td id=\"T_dfa3275c_1ee1_11ed_b4f6_ac1f6b2cd28arow4_col5\" class=\"data row4 col5\" >0.006009</td>\n",
       "                        <td id=\"T_dfa3275c_1ee1_11ed_b4f6_ac1f6b2cd28arow4_col6\" class=\"data row4 col6\" >0.903780</td>\n",
       "                        <td id=\"T_dfa3275c_1ee1_11ed_b4f6_ac1f6b2cd28arow4_col7\" class=\"data row4 col7\" >0.780060</td>\n",
       "                        <td id=\"T_dfa3275c_1ee1_11ed_b4f6_ac1f6b2cd28arow4_col8\" class=\"data row4 col8\" >0.834284</td>\n",
       "                        <td id=\"T_dfa3275c_1ee1_11ed_b4f6_ac1f6b2cd28arow4_col9\" class=\"data row4 col9\" >0.204596</td>\n",
       "            </tr>\n",
       "            <tr>\n",
       "                        <th id=\"T_dfa3275c_1ee1_11ed_b4f6_ac1f6b2cd28alevel0_row5\" class=\"row_heading level0 row5\" >my_als</th>\n",
       "                        <td id=\"T_dfa3275c_1ee1_11ed_b4f6_ac1f6b2cd28arow5_col0\" class=\"data row5 col0\" >0.150057</td>\n",
       "                        <td id=\"T_dfa3275c_1ee1_11ed_b4f6_ac1f6b2cd28arow5_col1\" class=\"data row5 col1\" >0.035598</td>\n",
       "                        <td id=\"T_dfa3275c_1ee1_11ed_b4f6_ac1f6b2cd28arow5_col2\" class=\"data row5 col2\" >0.627431</td>\n",
       "                        <td id=\"T_dfa3275c_1ee1_11ed_b4f6_ac1f6b2cd28arow5_col3\" class=\"data row5 col3\" >0.085106</td>\n",
       "                        <td id=\"T_dfa3275c_1ee1_11ed_b4f6_ac1f6b2cd28arow5_col4\" class=\"data row5 col4\" >0.247677</td>\n",
       "                        <td id=\"T_dfa3275c_1ee1_11ed_b4f6_ac1f6b2cd28arow5_col5\" class=\"data row5 col5\" >0.026320</td>\n",
       "                        <td id=\"T_dfa3275c_1ee1_11ed_b4f6_ac1f6b2cd28arow5_col6\" class=\"data row5 col6\" >0.084523</td>\n",
       "                        <td id=\"T_dfa3275c_1ee1_11ed_b4f6_ac1f6b2cd28arow5_col7\" class=\"data row5 col7\" >0.225150</td>\n",
       "                        <td id=\"T_dfa3275c_1ee1_11ed_b4f6_ac1f6b2cd28arow5_col8\" class=\"data row5 col8\" >0.580542</td>\n",
       "                        <td id=\"T_dfa3275c_1ee1_11ed_b4f6_ac1f6b2cd28arow5_col9\" class=\"data row5 col9\" >0.709860</td>\n",
       "            </tr>\n",
       "            <tr>\n",
       "                        <th id=\"T_dfa3275c_1ee1_11ed_b4f6_ac1f6b2cd28alevel0_row6\" class=\"row_heading level0 row6\" >my_jit_als</th>\n",
       "                        <td id=\"T_dfa3275c_1ee1_11ed_b4f6_ac1f6b2cd28arow6_col0\" class=\"data row6 col0\" >0.156411</td>\n",
       "                        <td id=\"T_dfa3275c_1ee1_11ed_b4f6_ac1f6b2cd28arow6_col1\" class=\"data row6 col1\" >0.035107</td>\n",
       "                        <td id=\"T_dfa3275c_1ee1_11ed_b4f6_ac1f6b2cd28arow6_col2\" class=\"data row6 col2\" >0.627011</td>\n",
       "                        <td id=\"T_dfa3275c_1ee1_11ed_b4f6_ac1f6b2cd28arow6_col3\" class=\"data row6 col3\" >0.082704</td>\n",
       "                        <td id=\"T_dfa3275c_1ee1_11ed_b4f6_ac1f6b2cd28arow6_col4\" class=\"data row6 col4\" >0.256495</td>\n",
       "                        <td id=\"T_dfa3275c_1ee1_11ed_b4f6_ac1f6b2cd28arow6_col5\" class=\"data row6 col5\" >0.026361</td>\n",
       "                        <td id=\"T_dfa3275c_1ee1_11ed_b4f6_ac1f6b2cd28arow6_col6\" class=\"data row6 col6\" >0.081200</td>\n",
       "                        <td id=\"T_dfa3275c_1ee1_11ed_b4f6_ac1f6b2cd28arow6_col7\" class=\"data row6 col7\" >0.216633</td>\n",
       "                        <td id=\"T_dfa3275c_1ee1_11ed_b4f6_ac1f6b2cd28arow6_col8\" class=\"data row6 col8\" >0.582270</td>\n",
       "                        <td id=\"T_dfa3275c_1ee1_11ed_b4f6_ac1f6b2cd28arow6_col9\" class=\"data row6 col9\" >0.711273</td>\n",
       "            </tr>\n",
       "    </tbody></table>"
      ],
      "text/plain": [
       "<pandas.io.formats.style.Styler at 0x7f0e62f2ef98>"
      ]
     },
     "execution_count": 50,
     "metadata": {},
     "output_type": "execute_result"
    },
    {
     "data": {
      "application/javascript": [
       "\n",
       "            setTimeout(function() {\n",
       "                var nbb_cell_id = 50;\n",
       "                var nbb_unformatted_code = \"assessor.show_metrics(\\\"table\\\")\";\n",
       "                var nbb_formatted_code = \"assessor.show_metrics(\\\"table\\\")\";\n",
       "                var nbb_cells = Jupyter.notebook.get_cells();\n",
       "                for (var i = 0; i < nbb_cells.length; ++i) {\n",
       "                    if (nbb_cells[i].input_prompt_number == nbb_cell_id) {\n",
       "                        if (nbb_cells[i].get_text() == nbb_unformatted_code) {\n",
       "                             nbb_cells[i].set_text(nbb_formatted_code);\n",
       "                        }\n",
       "                        break;\n",
       "                    }\n",
       "                }\n",
       "            }, 500);\n",
       "            "
      ],
      "text/plain": [
       "<IPython.core.display.Javascript object>"
      ]
     },
     "metadata": {},
     "output_type": "display_data"
    }
   ],
   "source": [
    "assessor.show_metrics(\"table\")"
   ]
  },
  {
   "cell_type": "code",
   "execution_count": 504,
   "metadata": {
    "ExecuteTime": {
     "end_time": "2022-08-17T09:41:34.038578Z",
     "start_time": "2022-08-17T09:41:34.030597Z"
    }
   },
   "outputs": [
    {
     "data": {
      "application/javascript": [
       "\n",
       "            setTimeout(function() {\n",
       "                var nbb_cell_id = 504;\n",
       "                var nbb_unformatted_code = \"# pt.empty(\\n#             , dtype=pt.float32, device=self.device\\n#         )\\n# @staticmethod\\n#     def scipy_sparse_to_torch_sparse(sparse_matrix):\\n#         sparse_matrix = scipy.sparse.coo_matrix(sparse_matrix)\\n#         sparse_matrix.eliminate_zeros()\\n#         torch_sparse = pt.sparse_coo_tensor(\\n#             indices=np.array([sparse_matrix.row, sparse_matrix.col]),\\n#             values=sparse_matrix.data,\\n#         )\\n#         return torch_sparse\\n\\n#     def _post_feedback_init(self, confidence_minus_1, confidence_x_preference):\\n#         self.confidence_minus_1 = self.scipy_sparse_to_torch_sparse(confidence_minus_1)\\n#         self.confidence_x_preference = self.scipy_sparse_to_torch_sparse(\\n#             confidence_x_preference\\n#         )\\n#         self.confidence_minus_1_t = self.scipy_sparse_to_torch_sparse(\\n#             confidence_minus_1.T\\n#         )\\n#         self.confidence_x_preference_t = self.scipy_sparse_to_torch_sparse(\\n#             confidence_x_preference.T\\n#         )\\n\\n#  pt.nn.init.xavier_uniform_(self.user_factors)\\n#         pt.nn.init.xavier_uniform_(self.item_factors)\\n\\n#         self.fit = pt.autocast(device)(self.fit)\\n\\n\\n#     def analytic_optimum_with_fixed_factors(self, X, Y, C_minus_1, P):\\n#         lambda_I = self.regularization_lambda * pt.eye(Y.shape[1], device=self.device)\\n#         YtY_plus_LambdaI = Y.T @ Y + lambda_I\\n\\n#         for batch_start in tqdm(range(0, X.shape[0], self.batch_size), \\\"Alternating\\\"):\\n#             batch_slice = slice(batch_start, batch_start + self.batch_size)\\n#             cm1_range = self.scipy_csr_to_tensor(C_minus_1[batch_slice])\\n#             cp_range = (cm1_range + 1) * self.scipy_csr_to_tensor(P[batch_slice])\\n\\n#             for i, cm1, cp in zip(\\n#                 range(batch_slice.start, batch_slice.stop),\\n#                 cm1_range,\\n#                 cp_range,\\n#             ):\\n#                 if len(cm1.values()) == 0:\\n#                     continue\\n#                 YtCm1Y = pt.einsum(\\\"ij,j,jk -> ik\\\", Y.T, cm1, Y)\\n#                 X[i] = (YtCm1Y + YtY_plus_LambdaI).inverse() @ Y.T @ cp\";\n",
       "                var nbb_formatted_code = \"# pt.empty(\\n#             , dtype=pt.float32, device=self.device\\n#         )\\n# @staticmethod\\n#     def scipy_sparse_to_torch_sparse(sparse_matrix):\\n#         sparse_matrix = scipy.sparse.coo_matrix(sparse_matrix)\\n#         sparse_matrix.eliminate_zeros()\\n#         torch_sparse = pt.sparse_coo_tensor(\\n#             indices=np.array([sparse_matrix.row, sparse_matrix.col]),\\n#             values=sparse_matrix.data,\\n#         )\\n#         return torch_sparse\\n\\n#     def _post_feedback_init(self, confidence_minus_1, confidence_x_preference):\\n#         self.confidence_minus_1 = self.scipy_sparse_to_torch_sparse(confidence_minus_1)\\n#         self.confidence_x_preference = self.scipy_sparse_to_torch_sparse(\\n#             confidence_x_preference\\n#         )\\n#         self.confidence_minus_1_t = self.scipy_sparse_to_torch_sparse(\\n#             confidence_minus_1.T\\n#         )\\n#         self.confidence_x_preference_t = self.scipy_sparse_to_torch_sparse(\\n#             confidence_x_preference.T\\n#         )\\n\\n#  pt.nn.init.xavier_uniform_(self.user_factors)\\n#         pt.nn.init.xavier_uniform_(self.item_factors)\\n\\n#         self.fit = pt.autocast(device)(self.fit)\\n\\n\\n#     def analytic_optimum_with_fixed_factors(self, X, Y, C_minus_1, P):\\n#         lambda_I = self.regularization_lambda * pt.eye(Y.shape[1], device=self.device)\\n#         YtY_plus_LambdaI = Y.T @ Y + lambda_I\\n\\n#         for batch_start in tqdm(range(0, X.shape[0], self.batch_size), \\\"Alternating\\\"):\\n#             batch_slice = slice(batch_start, batch_start + self.batch_size)\\n#             cm1_range = self.scipy_csr_to_tensor(C_minus_1[batch_slice])\\n#             cp_range = (cm1_range + 1) * self.scipy_csr_to_tensor(P[batch_slice])\\n\\n#             for i, cm1, cp in zip(\\n#                 range(batch_slice.start, batch_slice.stop),\\n#                 cm1_range,\\n#                 cp_range,\\n#             ):\\n#                 if len(cm1.values()) == 0:\\n#                     continue\\n#                 YtCm1Y = pt.einsum(\\\"ij,j,jk -> ik\\\", Y.T, cm1, Y)\\n#                 X[i] = (YtCm1Y + YtY_plus_LambdaI).inverse() @ Y.T @ cp\";\n",
       "                var nbb_cells = Jupyter.notebook.get_cells();\n",
       "                for (var i = 0; i < nbb_cells.length; ++i) {\n",
       "                    if (nbb_cells[i].input_prompt_number == nbb_cell_id) {\n",
       "                        if (nbb_cells[i].get_text() == nbb_unformatted_code) {\n",
       "                             nbb_cells[i].set_text(nbb_formatted_code);\n",
       "                        }\n",
       "                        break;\n",
       "                    }\n",
       "                }\n",
       "            }, 500);\n",
       "            "
      ],
      "text/plain": [
       "<IPython.core.display.Javascript object>"
      ]
     },
     "metadata": {},
     "output_type": "display_data"
    }
   ],
   "source": [
    "# pt.empty(\n",
    "#             , dtype=pt.float32, device=self.device\n",
    "#         )\n",
    "# @staticmethod\n",
    "#     def scipy_sparse_to_torch_sparse(sparse_matrix):\n",
    "#         a= scipy.sparse.coo_matrix(sparse_matrix)\n",
    "#         sparse_matrix.eliminate_zeros()\n",
    "#         torch_sparse = pt.sparse_coo_tensor(\n",
    "#             indices=np.array([sparse_matrix.row, sparse_matrix.col]),\n",
    "#             values=sparse_matrix.data,\n",
    "#         )\n",
    "#         return torch_sparse\n",
    "\n",
    "#     def _post_feedback_init(self, confidence_minus_1, confidence_x_preference):\n",
    "#         self.confidence_minus_1 = self.scipy_sparse_to_torch_sparse(confidence_minus_1)\n",
    "#         self.confidence_x_preference = self.scipy_sparse_to_torch_sparse(\n",
    "#             confidence_x_preference\n",
    "#         )\n",
    "#         self.confidence_minus_1_t = self.scipy_sparse_to_torch_sparse(\n",
    "#             confidence_minus_1.T\n",
    "#         )\n",
    "#         self.confidence_x_preference_t = self.scipy_sparse_to_torch_sparse(\n",
    "#             confidence_x_preference.T\n",
    "#         )\n",
    "\n",
    "#  pt.nn.init.xavier_uniform_(self.user_factors)\n",
    "#         pt.nn.init.xavier_uniform_(self.item_factors)\n",
    "\n",
    "#         self.fit = pt.autocast(device)(self.fit)\n",
    "\n",
    "\n",
    "#     def analytic_optimum_with_fixed_factors(self, X, Y, C_minus_1, P):\n",
    "#         lambda_I = self.regularization_lambda * pt.eye(Y.shape[1], device=self.device)\n",
    "#         YtY_plus_LambdaI = Y.T @ Y + lambda_I\n",
    "\n",
    "#         for batch_start in tqdm(range(0, X.shape[0], self.batch_size), \"Alternating\"):\n",
    "#             batch_slice = slice(batch_start, batch_start + self.batch_size)\n",
    "#             cm1_range = self.scipy_csr_to_tensor(C_minus_1[batch_slice])\n",
    "#             cp_range = (cm1_range + 1) * self.scipy_csr_to_tensor(P[batch_slice])\n",
    "\n",
    "#             for i, cm1, cp in zip(\n",
    "#                 range(batch_slice.start, batch_slice.stop),\n",
    "#                 cm1_range,\n",
    "#                 cp_range,\n",
    "#             ):\n",
    "#                 if len(cm1.values()) == 0:\n",
    "#                     continue\n",
    "#                 YtCm1Y = pt.einsum(\"ij,j,jk -> ik\", Y.T, cm1, Y)\n",
    "#                 X[i] = (YtCm1Y + YtY_plus_LambdaI).inverse() @ Y.T @ cp"
   ]
  },
  {
   "cell_type": "code",
   "execution_count": 505,
   "metadata": {
    "ExecuteTime": {
     "end_time": "2022-08-17T09:41:34.186551Z",
     "start_time": "2022-08-17T09:41:34.165973Z"
    }
   },
   "outputs": [
    {
     "data": {
      "application/javascript": [
       "\n",
       "            setTimeout(function() {\n",
       "                var nbb_cell_id = 505;\n",
       "                var nbb_unformatted_code = \"class ALSNumba(ALS):\\n    def analytic_optimum_with_fixed_factors(self, X, Y, C_minus_1, P):\\n\\n        lambda_I = self.regularization_lambda * pt.eye(Y.shape[1], device=self.device)\\n        YtY_plus_LambdaI = Y.T @ Y + lambda_I\\n\\n        batch_size = 128\\n        size = X.shape[0]\\n\\n        for batch_start in tqdm(range(0, size, batch_size), \\\"Alternating\\\"):\\n            batch_slice = slice(batch_start, min(size, batch_start + batch_size))\\n            cm1_range = self.scipy_csr_to_tensor(C_minus_1[batch_slice])\\n            cp_range = (cm1_range + 1) * self.scipy_csr_to_tensor(P[batch_slice])\\n\\n            for i, cm1, cp in zip(\\n                range(batch_slice.start, batch_slice.stop),\\n                cm1_range,\\n                cp_range,\\n            ):\\n                YtCm1Y = pt.einsum(\\\"ij,j,jk -> ik\\\", Y.T, cm1, Y)\\n                X[i] = (YtCm1Y + YtY_plus_LambdaI).inverse() @ Y.T @ cp\";\n",
       "                var nbb_formatted_code = \"class ALSNumba(ALS):\\n    def analytic_optimum_with_fixed_factors(self, X, Y, C_minus_1, P):\\n\\n        lambda_I = self.regularization_lambda * pt.eye(Y.shape[1], device=self.device)\\n        YtY_plus_LambdaI = Y.T @ Y + lambda_I\\n\\n        batch_size = 128\\n        size = X.shape[0]\\n\\n        for batch_start in tqdm(range(0, size, batch_size), \\\"Alternating\\\"):\\n            batch_slice = slice(batch_start, min(size, batch_start + batch_size))\\n            cm1_range = self.scipy_csr_to_tensor(C_minus_1[batch_slice])\\n            cp_range = (cm1_range + 1) * self.scipy_csr_to_tensor(P[batch_slice])\\n\\n            for i, cm1, cp in zip(\\n                range(batch_slice.start, batch_slice.stop),\\n                cm1_range,\\n                cp_range,\\n            ):\\n                YtCm1Y = pt.einsum(\\\"ij,j,jk -> ik\\\", Y.T, cm1, Y)\\n                X[i] = (YtCm1Y + YtY_plus_LambdaI).inverse() @ Y.T @ cp\";\n",
       "                var nbb_cells = Jupyter.notebook.get_cells();\n",
       "                for (var i = 0; i < nbb_cells.length; ++i) {\n",
       "                    if (nbb_cells[i].input_prompt_number == nbb_cell_id) {\n",
       "                        if (nbb_cells[i].get_text() == nbb_unformatted_code) {\n",
       "                             nbb_cells[i].set_text(nbb_formatted_code);\n",
       "                        }\n",
       "                        break;\n",
       "                    }\n",
       "                }\n",
       "            }, 500);\n",
       "            "
      ],
      "text/plain": [
       "<IPython.core.display.Javascript object>"
      ]
     },
     "metadata": {},
     "output_type": "display_data"
    }
   ],
   "source": [
    "class ALSNumba(ALS):\n",
    "    def analytic_optimum_with_fixed_factors(self, X, Y, C_minus_1, P):\n",
    "\n",
    "        lambda_I = self.regularization_lambda * pt.eye(Y.shape[1], device=self.device)\n",
    "        YtY_plus_LambdaI = Y.T @ Y + lambda_I\n",
    "\n",
    "        batch_size = 128\n",
    "        size = X.shape[0]\n",
    "\n",
    "        for batch_start in tqdm(range(0, size, batch_size), \"Alternating\"):\n",
    "            batch_slice = slice(batch_start, min(size, batch_start + batch_size))\n",
    "            cm1_range = self.scipy_csr_to_tensor(C_minus_1[batch_slice])\n",
    "            cp_range = (cm1_range + 1) * self.scipy_csr_to_tensor(P[batch_slice])\n",
    "\n",
    "            for i, cm1, cp in zip(\n",
    "                range(batch_slice.start, batch_slice.stop),\n",
    "                cm1_range,\n",
    "                cp_range,\n",
    "            ):\n",
    "                YtCm1Y = pt.einsum(\"ij,j,jk -> ik\", Y.T, cm1, Y)\n",
    "                X[i] = (YtCm1Y + YtY_plus_LambdaI).inverse() @ Y.T @ cp"
   ]
  },
  {
   "cell_type": "code",
   "execution_count": 506,
   "metadata": {
    "ExecuteTime": {
     "end_time": "2022-08-17T09:41:35.150703Z",
     "start_time": "2022-08-17T09:41:35.139831Z"
    }
   },
   "outputs": [
    {
     "data": {
      "application/javascript": [
       "\n",
       "            setTimeout(function() {\n",
       "                var nbb_cell_id = 506;\n",
       "                var nbb_unformatted_code = \"a = coo_matrix(sparse_interface.interactions_weighted)\";\n",
       "                var nbb_formatted_code = \"a = coo_matrix(sparse_interface.interactions_weighted)\";\n",
       "                var nbb_cells = Jupyter.notebook.get_cells();\n",
       "                for (var i = 0; i < nbb_cells.length; ++i) {\n",
       "                    if (nbb_cells[i].input_prompt_number == nbb_cell_id) {\n",
       "                        if (nbb_cells[i].get_text() == nbb_unformatted_code) {\n",
       "                             nbb_cells[i].set_text(nbb_formatted_code);\n",
       "                        }\n",
       "                        break;\n",
       "                    }\n",
       "                }\n",
       "            }, 500);\n",
       "            "
      ],
      "text/plain": [
       "<IPython.core.display.Javascript object>"
      ]
     },
     "metadata": {},
     "output_type": "display_data"
    }
   ],
   "source": [
    "a = coo_matrix(sparse_interface.interactions_weighted)"
   ]
  },
  {
   "cell_type": "code",
   "execution_count": 507,
   "metadata": {
    "ExecuteTime": {
     "end_time": "2022-08-17T09:41:35.475073Z",
     "start_time": "2022-08-17T09:41:35.464807Z"
    }
   },
   "outputs": [
    {
     "data": {
      "text/plain": [
       "array([22023, 24226, 25960, ..., 30422, 36472, 54589], dtype=int32)"
      ]
     },
     "execution_count": 507,
     "metadata": {},
     "output_type": "execute_result"
    },
    {
     "data": {
      "application/javascript": [
       "\n",
       "            setTimeout(function() {\n",
       "                var nbb_cell_id = 507;\n",
       "                var nbb_unformatted_code = \"b.indices\";\n",
       "                var nbb_formatted_code = \"b.indices\";\n",
       "                var nbb_cells = Jupyter.notebook.get_cells();\n",
       "                for (var i = 0; i < nbb_cells.length; ++i) {\n",
       "                    if (nbb_cells[i].input_prompt_number == nbb_cell_id) {\n",
       "                        if (nbb_cells[i].get_text() == nbb_unformatted_code) {\n",
       "                             nbb_cells[i].set_text(nbb_formatted_code);\n",
       "                        }\n",
       "                        break;\n",
       "                    }\n",
       "                }\n",
       "            }, 500);\n",
       "            "
      ],
      "text/plain": [
       "<IPython.core.display.Javascript object>"
      ]
     },
     "metadata": {},
     "output_type": "display_data"
    }
   ],
   "source": [
    "b.indices"
   ]
  },
  {
   "cell_type": "code",
   "execution_count": 508,
   "metadata": {
    "ExecuteTime": {
     "end_time": "2022-08-17T09:41:35.660079Z",
     "start_time": "2022-08-17T09:41:35.651323Z"
    }
   },
   "outputs": [
    {
     "data": {
      "text/plain": [
       "array([     0,      0,      0, ..., 278106, 278106, 278106], dtype=int32)"
      ]
     },
     "execution_count": 508,
     "metadata": {},
     "output_type": "execute_result"
    },
    {
     "data": {
      "application/javascript": [
       "\n",
       "            setTimeout(function() {\n",
       "                var nbb_cell_id = 508;\n",
       "                var nbb_unformatted_code = \"b.indptr\";\n",
       "                var nbb_formatted_code = \"b.indptr\";\n",
       "                var nbb_cells = Jupyter.notebook.get_cells();\n",
       "                for (var i = 0; i < nbb_cells.length; ++i) {\n",
       "                    if (nbb_cells[i].input_prompt_number == nbb_cell_id) {\n",
       "                        if (nbb_cells[i].get_text() == nbb_unformatted_code) {\n",
       "                             nbb_cells[i].set_text(nbb_formatted_code);\n",
       "                        }\n",
       "                        break;\n",
       "                    }\n",
       "                }\n",
       "            }, 500);\n",
       "            "
      ],
      "text/plain": [
       "<IPython.core.display.Javascript object>"
      ]
     },
     "metadata": {},
     "output_type": "display_data"
    }
   ],
   "source": [
    "b.indptr"
   ]
  },
  {
   "cell_type": "code",
   "execution_count": 509,
   "metadata": {
    "ExecuteTime": {
     "end_time": "2022-08-17T09:41:36.133033Z",
     "start_time": "2022-08-17T09:41:36.120877Z"
    }
   },
   "outputs": [
    {
     "data": {
      "text/plain": [
       "array([22023, 24226, 25960, 26092, 35072, 46473, 47718, 67293, 67305,\n",
       "       67314], dtype=int32)"
      ]
     },
     "execution_count": 509,
     "metadata": {},
     "output_type": "execute_result"
    },
    {
     "data": {
      "application/javascript": [
       "\n",
       "            setTimeout(function() {\n",
       "                var nbb_cell_id = 509;\n",
       "                var nbb_unformatted_code = \"b[14].indices\";\n",
       "                var nbb_formatted_code = \"b[14].indices\";\n",
       "                var nbb_cells = Jupyter.notebook.get_cells();\n",
       "                for (var i = 0; i < nbb_cells.length; ++i) {\n",
       "                    if (nbb_cells[i].input_prompt_number == nbb_cell_id) {\n",
       "                        if (nbb_cells[i].get_text() == nbb_unformatted_code) {\n",
       "                             nbb_cells[i].set_text(nbb_formatted_code);\n",
       "                        }\n",
       "                        break;\n",
       "                    }\n",
       "                }\n",
       "            }, 500);\n",
       "            "
      ],
      "text/plain": [
       "<IPython.core.display.Javascript object>"
      ]
     },
     "metadata": {},
     "output_type": "display_data"
    }
   ],
   "source": [
    "b[14].indices"
   ]
  },
  {
   "cell_type": "code",
   "execution_count": 510,
   "metadata": {
    "ExecuteTime": {
     "end_time": "2022-08-17T09:41:36.413286Z",
     "start_time": "2022-08-17T09:41:36.406475Z"
    }
   },
   "outputs": [
    {
     "data": {
      "application/javascript": [
       "\n",
       "            setTimeout(function() {\n",
       "                var nbb_cell_id = 510;\n",
       "                var nbb_unformatted_code = \"# try sparse, try numba\";\n",
       "                var nbb_formatted_code = \"# try sparse, try numba\";\n",
       "                var nbb_cells = Jupyter.notebook.get_cells();\n",
       "                for (var i = 0; i < nbb_cells.length; ++i) {\n",
       "                    if (nbb_cells[i].input_prompt_number == nbb_cell_id) {\n",
       "                        if (nbb_cells[i].get_text() == nbb_unformatted_code) {\n",
       "                             nbb_cells[i].set_text(nbb_formatted_code);\n",
       "                        }\n",
       "                        break;\n",
       "                    }\n",
       "                }\n",
       "            }, 500);\n",
       "            "
      ],
      "text/plain": [
       "<IPython.core.display.Javascript object>"
      ]
     },
     "metadata": {},
     "output_type": "display_data"
    }
   ],
   "source": [
    "# try sparse, try numba"
   ]
  },
  {
   "cell_type": "code",
   "execution_count": 511,
   "metadata": {
    "ExecuteTime": {
     "end_time": "2022-08-17T09:41:36.685314Z",
     "start_time": "2022-08-17T09:41:36.674547Z"
    }
   },
   "outputs": [
    {
     "name": "stdout",
     "output_type": "stream",
     "text": [
      "The line_profiler extension is already loaded. To reload it, use:\n",
      "  %reload_ext line_profiler\n"
     ]
    },
    {
     "data": {
      "application/javascript": [
       "\n",
       "            setTimeout(function() {\n",
       "                var nbb_cell_id = 511;\n",
       "                var nbb_unformatted_code = \"%load_ext line_profiler\";\n",
       "                var nbb_formatted_code = \"%load_ext line_profiler\";\n",
       "                var nbb_cells = Jupyter.notebook.get_cells();\n",
       "                for (var i = 0; i < nbb_cells.length; ++i) {\n",
       "                    if (nbb_cells[i].input_prompt_number == nbb_cell_id) {\n",
       "                        if (nbb_cells[i].get_text() == nbb_unformatted_code) {\n",
       "                             nbb_cells[i].set_text(nbb_formatted_code);\n",
       "                        }\n",
       "                        break;\n",
       "                    }\n",
       "                }\n",
       "            }, 500);\n",
       "            "
      ],
      "text/plain": [
       "<IPython.core.display.Javascript object>"
      ]
     },
     "metadata": {},
     "output_type": "display_data"
    }
   ],
   "source": [
    "%load_ext line_profiler"
   ]
  },
  {
   "cell_type": "code",
   "execution_count": 401,
   "metadata": {
    "ExecuteTime": {
     "end_time": "2022-08-17T08:56:45.038714Z",
     "start_time": "2022-08-17T08:56:45.031690Z"
    }
   },
   "outputs": [
    {
     "data": {
      "application/javascript": [
       "\n",
       "            setTimeout(function() {\n",
       "                var nbb_cell_id = 401;\n",
       "                var nbb_unformatted_code = \"from implicit.gpu.als import AlternatingLeastSquares\\n\\n\\nclass ALSFiltered(SparseRecommender):\\n    def __init__(self, *args, filtered_train_reviews, **kwargs):\\n        super().__init__(*args, **kwargs)\\n        self.filtered_train_reviews = filtered_train_reviews\\n\\n    def fit(self, reviews):\\n        super().fit(self.filtered_train_reviews)\";\n",
       "                var nbb_formatted_code = \"from implicit.gpu.als import AlternatingLeastSquares\\n\\n\\nclass ALSFiltered(SparseRecommender):\\n    def __init__(self, *args, filtered_train_reviews, **kwargs):\\n        super().__init__(*args, **kwargs)\\n        self.filtered_train_reviews = filtered_train_reviews\\n\\n    def fit(self, reviews):\\n        super().fit(self.filtered_train_reviews)\";\n",
       "                var nbb_cells = Jupyter.notebook.get_cells();\n",
       "                for (var i = 0; i < nbb_cells.length; ++i) {\n",
       "                    if (nbb_cells[i].input_prompt_number == nbb_cell_id) {\n",
       "                        if (nbb_cells[i].get_text() == nbb_unformatted_code) {\n",
       "                             nbb_cells[i].set_text(nbb_formatted_code);\n",
       "                        }\n",
       "                        break;\n",
       "                    }\n",
       "                }\n",
       "            }, 500);\n",
       "            "
      ],
      "text/plain": [
       "<IPython.core.display.Javascript object>"
      ]
     },
     "metadata": {},
     "output_type": "display_data"
    }
   ],
   "source": [
    "from implicit.gpu.als import AlternatingLeastSquares\n",
    "\n",
    "\n",
    "class ALSFiltered(SparseRecommender):\n",
    "    def __init__(self, *args, filtered_train_reviews, **kwargs):\n",
    "        super().__init__(*args, **kwargs)\n",
    "        self.filtered_train_reviews = filtered_train_reviews\n",
    "\n",
    "    def fit(self, reviews):\n",
    "        super().fit(self.filtered_train_reviews)"
   ]
  },
  {
   "cell_type": "code",
   "execution_count": null,
   "metadata": {
    "ExecuteTime": {
     "start_time": "2022-08-14T18:11:01.947Z"
    }
   },
   "outputs": [],
   "source": [
    "als_models = {\n",
    "    \"als\": SparseRecommender(sparse_interface, AlternatingLeastSquares()),\n",
    "    \"als_filtered\": ALSFiltered(\n",
    "        sparse_interface,\n",
    "        AlternatingLeastSquares(),\n",
    "        filtered_train_reviews=train_reviews.query(\"rating >= 4\").assign(rating=1),\n",
    "    ),\n",
    "}\n",
    "assessor.assess(als_models)"
   ]
  },
  {
   "cell_type": "code",
   "execution_count": 409,
   "metadata": {
    "ExecuteTime": {
     "end_time": "2022-08-17T08:59:06.865943Z",
     "start_time": "2022-08-17T08:59:06.854239Z"
    }
   },
   "outputs": [
    {
     "data": {
      "application/javascript": [
       "\n",
       "            setTimeout(function() {\n",
       "                var nbb_cell_id = 409;\n",
       "                var nbb_unformatted_code = \"x = ALS.scipy_sparse_to_torch_sparse(a)\";\n",
       "                var nbb_formatted_code = \"x = ALS.scipy_sparse_to_torch_sparse(a)\";\n",
       "                var nbb_cells = Jupyter.notebook.get_cells();\n",
       "                for (var i = 0; i < nbb_cells.length; ++i) {\n",
       "                    if (nbb_cells[i].input_prompt_number == nbb_cell_id) {\n",
       "                        if (nbb_cells[i].get_text() == nbb_unformatted_code) {\n",
       "                             nbb_cells[i].set_text(nbb_formatted_code);\n",
       "                        }\n",
       "                        break;\n",
       "                    }\n",
       "                }\n",
       "            }, 500);\n",
       "            "
      ],
      "text/plain": [
       "<IPython.core.display.Javascript object>"
      ]
     },
     "metadata": {},
     "output_type": "display_data"
    }
   ],
   "source": [
    "x = ALS.scipy_sparse_to_torch_sparse(a)"
   ]
  },
  {
   "cell_type": "code",
   "execution_count": 420,
   "metadata": {
    "ExecuteTime": {
     "end_time": "2022-08-17T09:01:21.002257Z",
     "start_time": "2022-08-17T09:01:20.960095Z"
    }
   },
   "outputs": [
    {
     "data": {
      "application/javascript": [
       "\n",
       "            setTimeout(function() {\n",
       "                var nbb_cell_id = 420;\n",
       "                var nbb_unformatted_code = \"xc = x.to_sparse_csr()\";\n",
       "                var nbb_formatted_code = \"xc = x.to_sparse_csr()\";\n",
       "                var nbb_cells = Jupyter.notebook.get_cells();\n",
       "                for (var i = 0; i < nbb_cells.length; ++i) {\n",
       "                    if (nbb_cells[i].input_prompt_number == nbb_cell_id) {\n",
       "                        if (nbb_cells[i].get_text() == nbb_unformatted_code) {\n",
       "                             nbb_cells[i].set_text(nbb_formatted_code);\n",
       "                        }\n",
       "                        break;\n",
       "                    }\n",
       "                }\n",
       "            }, 500);\n",
       "            "
      ],
      "text/plain": [
       "<IPython.core.display.Javascript object>"
      ]
     },
     "metadata": {},
     "output_type": "display_data"
    }
   ],
   "source": [
    "xc = x.to_sparse_csr()"
   ]
  },
  {
   "cell_type": "code",
   "execution_count": 423,
   "metadata": {
    "ExecuteTime": {
     "end_time": "2022-08-17T09:02:00.516029Z",
     "start_time": "2022-08-17T09:02:00.507457Z"
    }
   },
   "outputs": [
    {
     "data": {
      "text/plain": [
       "tensor([22023, 24226, 25960,  ..., 30422, 36472, 54589])"
      ]
     },
     "execution_count": 423,
     "metadata": {},
     "output_type": "execute_result"
    },
    {
     "data": {
      "application/javascript": [
       "\n",
       "            setTimeout(function() {\n",
       "                var nbb_cell_id = 423;\n",
       "                var nbb_unformatted_code = \"xc.col_indices()\";\n",
       "                var nbb_formatted_code = \"xc.col_indices()\";\n",
       "                var nbb_cells = Jupyter.notebook.get_cells();\n",
       "                for (var i = 0; i < nbb_cells.length; ++i) {\n",
       "                    if (nbb_cells[i].input_prompt_number == nbb_cell_id) {\n",
       "                        if (nbb_cells[i].get_text() == nbb_unformatted_code) {\n",
       "                             nbb_cells[i].set_text(nbb_formatted_code);\n",
       "                        }\n",
       "                        break;\n",
       "                    }\n",
       "                }\n",
       "            }, 500);\n",
       "            "
      ],
      "text/plain": [
       "<IPython.core.display.Javascript object>"
      ]
     },
     "metadata": {},
     "output_type": "display_data"
    }
   ],
   "source": [
    "xc.col_indices()"
   ]
  },
  {
   "cell_type": "code",
   "execution_count": 422,
   "metadata": {
    "ExecuteTime": {
     "end_time": "2022-08-17T09:01:46.257259Z",
     "start_time": "2022-08-17T09:01:46.247992Z"
    }
   },
   "outputs": [
    {
     "data": {
      "text/plain": [
       "tensor([     0,      0,      0,  ..., 278101, 278101, 278106])"
      ]
     },
     "execution_count": 422,
     "metadata": {},
     "output_type": "execute_result"
    },
    {
     "data": {
      "application/javascript": [
       "\n",
       "            setTimeout(function() {\n",
       "                var nbb_cell_id = 422;\n",
       "                var nbb_unformatted_code = \"xc.crow_indices()\";\n",
       "                var nbb_formatted_code = \"xc.crow_indices()\";\n",
       "                var nbb_cells = Jupyter.notebook.get_cells();\n",
       "                for (var i = 0; i < nbb_cells.length; ++i) {\n",
       "                    if (nbb_cells[i].input_prompt_number == nbb_cell_id) {\n",
       "                        if (nbb_cells[i].get_text() == nbb_unformatted_code) {\n",
       "                             nbb_cells[i].set_text(nbb_formatted_code);\n",
       "                        }\n",
       "                        break;\n",
       "                    }\n",
       "                }\n",
       "            }, 500);\n",
       "            "
      ],
      "text/plain": [
       "<IPython.core.display.Javascript object>"
      ]
     },
     "metadata": {},
     "output_type": "display_data"
    }
   ],
   "source": [
    "xc.crow_indices()"
   ]
  },
  {
   "cell_type": "code",
   "execution_count": 415,
   "metadata": {
    "ExecuteTime": {
     "end_time": "2022-08-17T08:59:49.899244Z",
     "start_time": "2022-08-17T08:59:49.822075Z"
    }
   },
   "outputs": [
    {
     "data": {
      "text/plain": [
       "tensor([[     14,      14,      14,  ..., 1392982, 1392982, 1392982],\n",
       "        [  22023,   24226,   25960,  ...,   30422,   36472,   54589]])"
      ]
     },
     "execution_count": 415,
     "metadata": {},
     "output_type": "execute_result"
    },
    {
     "data": {
      "application/javascript": [
       "\n",
       "            setTimeout(function() {\n",
       "                var nbb_cell_id = 415;\n",
       "                var nbb_unformatted_code = \"x.coalesce().indices()#.values()\";\n",
       "                var nbb_formatted_code = \"x.coalesce().indices()  # .values()\";\n",
       "                var nbb_cells = Jupyter.notebook.get_cells();\n",
       "                for (var i = 0; i < nbb_cells.length; ++i) {\n",
       "                    if (nbb_cells[i].input_prompt_number == nbb_cell_id) {\n",
       "                        if (nbb_cells[i].get_text() == nbb_unformatted_code) {\n",
       "                             nbb_cells[i].set_text(nbb_formatted_code);\n",
       "                        }\n",
       "                        break;\n",
       "                    }\n",
       "                }\n",
       "            }, 500);\n",
       "            "
      ],
      "text/plain": [
       "<IPython.core.display.Javascript object>"
      ]
     },
     "metadata": {},
     "output_type": "display_data"
    }
   ],
   "source": [
    "x.coalesce().indices()  # .values()"
   ]
  },
  {
   "cell_type": "code",
   "execution_count": 136,
   "metadata": {
    "ExecuteTime": {
     "end_time": "2022-08-14T13:13:00.792072Z",
     "start_time": "2022-08-14T13:13:00.093903Z"
    }
   },
   "outputs": [
    {
     "data": {
      "image/png": "[encoded data removed]",
      "text/plain": [
       "<Figure size 1152x432 with 1 Axes>"
      ]
     },
     "metadata": {
      "needs_background": "light"
     },
     "output_type": "display_data"
    },
    {
     "data": {
      "application/javascript": [
       "\n",
       "            setTimeout(function() {\n",
       "                var nbb_cell_id = 136;\n",
       "                var nbb_unformatted_code = \"assessor.show_metrics()\";\n",
       "                var nbb_formatted_code = \"assessor.show_metrics()\";\n",
       "                var nbb_cells = Jupyter.notebook.get_cells();\n",
       "                for (var i = 0; i < nbb_cells.length; ++i) {\n",
       "                    if (nbb_cells[i].input_prompt_number == nbb_cell_id) {\n",
       "                        if (nbb_cells[i].get_text() == nbb_unformatted_code) {\n",
       "                             nbb_cells[i].set_text(nbb_formatted_code);\n",
       "                        }\n",
       "                        break;\n",
       "                    }\n",
       "                }\n",
       "            }, 500);\n",
       "            "
      ],
      "text/plain": [
       "<IPython.core.display.Javascript object>"
      ]
     },
     "metadata": {},
     "output_type": "display_data"
    }
   ],
   "source": [
    "assessor.show_metrics()"
   ]
  },
  {
   "cell_type": "markdown",
   "metadata": {},
   "source": [
    "**(1.0 балла) Задание 8.**\n",
    "\n",
    "На [семинаре](https://github.com/monkey0head/recsys_sem) Вам было расказано про бибилиотеку LightFM.\n",
    "Примените ее для нашей задачи. Используя фичи и не используя фичи, сравните результат."
   ]
  },
  {
   "cell_type": "code",
   "execution_count": 60,
   "metadata": {
    "ExecuteTime": {
     "end_time": "2022-08-15T06:00:57.214855Z",
     "start_time": "2022-08-15T06:00:57.189481Z"
    }
   },
   "outputs": [
    {
     "data": {
      "application/javascript": [
       "\n",
       "            setTimeout(function() {\n",
       "                var nbb_cell_id = 60;\n",
       "                var nbb_unformatted_code = \"from lightfm import LightFM\\n\\n\\nclass LightRecommender(BatchRecommender):\\n    def __init__(self, *args, feature_importance=1, **kwargs):\\n        super().__init__(*args, **kwargs)\\n        self.user_features, self.item_features = self.sparse_interface.scale_features(\\n            feature_importance\\n        )\\n\\n    def fit(self, reviews):\\n        self.model.fit(\\n            interactions=self.sparse_interface.interactions,\\n            sample_weight=self.sparse_interface.interactions_weighted,\\n            user_features=self.user_features,\\n            item_features=self.item_features,\\n            epochs=10,\\n            num_threads=8,\\n            verbose=True,\\n        )\\n        return self\\n\\n    def model_recommend(self, user_ids, interactions):\\n        user_ids, item_ids = np.meshgrid(\\n            user_ids, range(len(self.sparse_interface.organisations)), indexing=\\\"ij\\\"\\n        )\\n\\n        recommendations = self.model.predict(\\n            user_ids=user_ids.flatten(),\\n            item_ids=item_ids.flatten(),\\n            user_features=self.user_features,\\n            item_features=self.item_features,\\n            num_threads=8,\\n        ).reshape(user_ids.shape)\\n\\n        return recommendations\";\n",
       "                var nbb_formatted_code = \"from lightfm import LightFM\\n\\n\\nclass LightRecommender(BatchRecommender):\\n    def __init__(self, *args, feature_importance=1, **kwargs):\\n        super().__init__(*args, **kwargs)\\n        self.user_features, self.item_features = self.sparse_interface.scale_features(\\n            feature_importance\\n        )\\n\\n    def fit(self, reviews):\\n        self.model.fit(\\n            interactions=self.sparse_interface.interactions,\\n            sample_weight=self.sparse_interface.interactions_weighted,\\n            user_features=self.user_features,\\n            item_features=self.item_features,\\n            epochs=10,\\n            num_threads=8,\\n            verbose=True,\\n        )\\n        return self\\n\\n    def model_recommend(self, user_ids, interactions):\\n        user_ids, item_ids = np.meshgrid(\\n            user_ids, range(len(self.sparse_interface.organisations)), indexing=\\\"ij\\\"\\n        )\\n\\n        recommendations = self.model.predict(\\n            user_ids=user_ids.flatten(),\\n            item_ids=item_ids.flatten(),\\n            user_features=self.user_features,\\n            item_features=self.item_features,\\n            num_threads=8,\\n        ).reshape(user_ids.shape)\\n\\n        return recommendations\";\n",
       "                var nbb_cells = Jupyter.notebook.get_cells();\n",
       "                for (var i = 0; i < nbb_cells.length; ++i) {\n",
       "                    if (nbb_cells[i].input_prompt_number == nbb_cell_id) {\n",
       "                        if (nbb_cells[i].get_text() == nbb_unformatted_code) {\n",
       "                             nbb_cells[i].set_text(nbb_formatted_code);\n",
       "                        }\n",
       "                        break;\n",
       "                    }\n",
       "                }\n",
       "            }, 500);\n",
       "            "
      ],
      "text/plain": [
       "<IPython.core.display.Javascript object>"
      ]
     },
     "metadata": {},
     "output_type": "display_data"
    }
   ],
   "source": [
    "from lightfm import LightFM\n",
    "\n",
    "\n",
    "class LightRecommender(BatchRecommender):\n",
    "    def __init__(self, *args, feature_importance=1, **kwargs):\n",
    "        super().__init__(*args, **kwargs)\n",
    "        self.user_features, self.item_features = self.sparse_interface.scale_features(\n",
    "            feature_importance\n",
    "        )\n",
    "\n",
    "    def fit(self, reviews):\n",
    "        self.model.fit(\n",
    "            interactions=self.sparse_interface.interactions,\n",
    "            sample_weight=self.sparse_interface.interactions_weighted,\n",
    "            user_features=self.user_features,\n",
    "            item_features=self.item_features,\n",
    "            epochs=10,\n",
    "            num_threads=8,\n",
    "            verbose=True,\n",
    "        )\n",
    "        return self\n",
    "\n",
    "    def model_recommend(self, user_ids, interactions):\n",
    "        user_ids, item_ids = np.meshgrid(\n",
    "            user_ids, range(len(self.sparse_interface.organisations)), indexing=\"ij\"\n",
    "        )\n",
    "\n",
    "        recommendations = self.model.predict(\n",
    "            user_ids=user_ids.flatten(),\n",
    "            item_ids=item_ids.flatten(),\n",
    "            user_features=self.user_features,\n",
    "            item_features=self.item_features,\n",
    "            num_threads=8,\n",
    "        ).reshape(user_ids.shape)\n",
    "\n",
    "        return recommendations"
   ]
  },
  {
   "cell_type": "code",
   "execution_count": null,
   "metadata": {
    "ExecuteTime": {
     "start_time": "2022-08-14T18:11:06.203Z"
    },
    "scrolled": true
   },
   "outputs": [],
   "source": [
    "light_models = {\n",
    "    f\"light_feature_importance_{feature_importance}\": LightRecommender(\n",
    "        sparse_interface, LightFM(), feature_importance=feature_importance\n",
    "    )\n",
    "    for feature_importance in [0, 0.1, 0.25, 0.5]\n",
    "}\n",
    "assessor.assess(light_models)"
   ]
  },
  {
   "cell_type": "markdown",
   "metadata": {},
   "source": [
    "Light with features scores terribly because it recommends based on features and ratings, while the metrics are only based on known ratings. So it should be better at recommending new items for users, but requires different metrics to evaluate."
   ]
  },
  {
   "cell_type": "code",
   "execution_count": 61,
   "metadata": {
    "ExecuteTime": {
     "end_time": "2022-08-15T06:01:08.813424Z",
     "start_time": "2022-08-15T06:01:08.726911Z"
    }
   },
   "outputs": [
    {
     "data": {
      "text/html": [
       "<style  type=\"text/css\" >\n",
       "#T_a834bbb6_1c5f_11ed_b4f6_ac1f6b2cd28arow0_col0,#T_a834bbb6_1c5f_11ed_b4f6_ac1f6b2cd28arow0_col1,#T_a834bbb6_1c5f_11ed_b4f6_ac1f6b2cd28arow0_col2,#T_a834bbb6_1c5f_11ed_b4f6_ac1f6b2cd28arow0_col3,#T_a834bbb6_1c5f_11ed_b4f6_ac1f6b2cd28arow0_col4,#T_a834bbb6_1c5f_11ed_b4f6_ac1f6b2cd28arow0_col5,#T_a834bbb6_1c5f_11ed_b4f6_ac1f6b2cd28arow1_col0,#T_a834bbb6_1c5f_11ed_b4f6_ac1f6b2cd28arow1_col6,#T_a834bbb6_1c5f_11ed_b4f6_ac1f6b2cd28arow1_col7,#T_a834bbb6_1c5f_11ed_b4f6_ac1f6b2cd28arow5_col6,#T_a834bbb6_1c5f_11ed_b4f6_ac1f6b2cd28arow6_col6,#T_a834bbb6_1c5f_11ed_b4f6_ac1f6b2cd28arow15_col0,#T_a834bbb6_1c5f_11ed_b4f6_ac1f6b2cd28arow15_col2,#T_a834bbb6_1c5f_11ed_b4f6_ac1f6b2cd28arow15_col4,#T_a834bbb6_1c5f_11ed_b4f6_ac1f6b2cd28arow16_col0,#T_a834bbb6_1c5f_11ed_b4f6_ac1f6b2cd28arow16_col2,#T_a834bbb6_1c5f_11ed_b4f6_ac1f6b2cd28arow16_col4,#T_a834bbb6_1c5f_11ed_b4f6_ac1f6b2cd28arow17_col6,#T_a834bbb6_1c5f_11ed_b4f6_ac1f6b2cd28arow17_col7,#T_a834bbb6_1c5f_11ed_b4f6_ac1f6b2cd28arow18_col0,#T_a834bbb6_1c5f_11ed_b4f6_ac1f6b2cd28arow18_col1,#T_a834bbb6_1c5f_11ed_b4f6_ac1f6b2cd28arow18_col2,#T_a834bbb6_1c5f_11ed_b4f6_ac1f6b2cd28arow18_col3,#T_a834bbb6_1c5f_11ed_b4f6_ac1f6b2cd28arow18_col4,#T_a834bbb6_1c5f_11ed_b4f6_ac1f6b2cd28arow18_col5,#T_a834bbb6_1c5f_11ed_b4f6_ac1f6b2cd28arow18_col6,#T_a834bbb6_1c5f_11ed_b4f6_ac1f6b2cd28arow18_col7,#T_a834bbb6_1c5f_11ed_b4f6_ac1f6b2cd28arow19_col0,#T_a834bbb6_1c5f_11ed_b4f6_ac1f6b2cd28arow19_col1,#T_a834bbb6_1c5f_11ed_b4f6_ac1f6b2cd28arow19_col2,#T_a834bbb6_1c5f_11ed_b4f6_ac1f6b2cd28arow19_col3,#T_a834bbb6_1c5f_11ed_b4f6_ac1f6b2cd28arow19_col4,#T_a834bbb6_1c5f_11ed_b4f6_ac1f6b2cd28arow19_col5,#T_a834bbb6_1c5f_11ed_b4f6_ac1f6b2cd28arow19_col6,#T_a834bbb6_1c5f_11ed_b4f6_ac1f6b2cd28arow19_col9,#T_a834bbb6_1c5f_11ed_b4f6_ac1f6b2cd28arow20_col0,#T_a834bbb6_1c5f_11ed_b4f6_ac1f6b2cd28arow20_col1,#T_a834bbb6_1c5f_11ed_b4f6_ac1f6b2cd28arow20_col2,#T_a834bbb6_1c5f_11ed_b4f6_ac1f6b2cd28arow20_col3,#T_a834bbb6_1c5f_11ed_b4f6_ac1f6b2cd28arow20_col4,#T_a834bbb6_1c5f_11ed_b4f6_ac1f6b2cd28arow20_col5,#T_a834bbb6_1c5f_11ed_b4f6_ac1f6b2cd28arow20_col6,#T_a834bbb6_1c5f_11ed_b4f6_ac1f6b2cd28arow20_col7{\n",
       "            background-color:  #8db0fe;\n",
       "            color:  #000000;\n",
       "        }#T_a834bbb6_1c5f_11ed_b4f6_ac1f6b2cd28arow0_col6,#T_a834bbb6_1c5f_11ed_b4f6_ac1f6b2cd28arow0_col8,#T_a834bbb6_1c5f_11ed_b4f6_ac1f6b2cd28arow3_col3,#T_a834bbb6_1c5f_11ed_b4f6_ac1f6b2cd28arow14_col0,#T_a834bbb6_1c5f_11ed_b4f6_ac1f6b2cd28arow14_col2,#T_a834bbb6_1c5f_11ed_b4f6_ac1f6b2cd28arow14_col4,#T_a834bbb6_1c5f_11ed_b4f6_ac1f6b2cd28arow14_col9,#T_a834bbb6_1c5f_11ed_b4f6_ac1f6b2cd28arow16_col1,#T_a834bbb6_1c5f_11ed_b4f6_ac1f6b2cd28arow16_col5{\n",
       "            background-color:  #f4987a;\n",
       "            color:  #000000;\n",
       "        }#T_a834bbb6_1c5f_11ed_b4f6_ac1f6b2cd28arow0_col7,#T_a834bbb6_1c5f_11ed_b4f6_ac1f6b2cd28arow2_col6,#T_a834bbb6_1c5f_11ed_b4f6_ac1f6b2cd28arow15_col1,#T_a834bbb6_1c5f_11ed_b4f6_ac1f6b2cd28arow15_col5{\n",
       "            background-color:  #f49a7b;\n",
       "            color:  #000000;\n",
       "        }#T_a834bbb6_1c5f_11ed_b4f6_ac1f6b2cd28arow0_col9,#T_a834bbb6_1c5f_11ed_b4f6_ac1f6b2cd28arow8_col9,#T_a834bbb6_1c5f_11ed_b4f6_ac1f6b2cd28arow15_col9{\n",
       "            background-color:  #f3c7b1;\n",
       "            color:  #000000;\n",
       "        }#T_a834bbb6_1c5f_11ed_b4f6_ac1f6b2cd28arow1_col1{\n",
       "            background-color:  #9bbcff;\n",
       "            color:  #000000;\n",
       "        }#T_a834bbb6_1c5f_11ed_b4f6_ac1f6b2cd28arow1_col2,#T_a834bbb6_1c5f_11ed_b4f6_ac1f6b2cd28arow7_col7,#T_a834bbb6_1c5f_11ed_b4f6_ac1f6b2cd28arow8_col6,#T_a834bbb6_1c5f_11ed_b4f6_ac1f6b2cd28arow15_col6,#T_a834bbb6_1c5f_11ed_b4f6_ac1f6b2cd28arow16_col6{\n",
       "            background-color:  #90b2fe;\n",
       "            color:  #000000;\n",
       "        }#T_a834bbb6_1c5f_11ed_b4f6_ac1f6b2cd28arow1_col3,#T_a834bbb6_1c5f_11ed_b4f6_ac1f6b2cd28arow10_col6{\n",
       "            background-color:  #98b9ff;\n",
       "            color:  #000000;\n",
       "        }#T_a834bbb6_1c5f_11ed_b4f6_ac1f6b2cd28arow1_col4,#T_a834bbb6_1c5f_11ed_b4f6_ac1f6b2cd28arow5_col7,#T_a834bbb6_1c5f_11ed_b4f6_ac1f6b2cd28arow6_col7,#T_a834bbb6_1c5f_11ed_b4f6_ac1f6b2cd28arow7_col6{\n",
       "            background-color:  #8fb1fe;\n",
       "            color:  #000000;\n",
       "        }#T_a834bbb6_1c5f_11ed_b4f6_ac1f6b2cd28arow1_col5,#T_a834bbb6_1c5f_11ed_b4f6_ac1f6b2cd28arow10_col7{\n",
       "            background-color:  #9ebeff;\n",
       "            color:  #000000;\n",
       "        }#T_a834bbb6_1c5f_11ed_b4f6_ac1f6b2cd28arow1_col8{\n",
       "            background-color:  #d8dce2;\n",
       "            color:  #000000;\n",
       "        }#T_a834bbb6_1c5f_11ed_b4f6_ac1f6b2cd28arow1_col9{\n",
       "            background-color:  #ebd3c6;\n",
       "            color:  #000000;\n",
       "        }#T_a834bbb6_1c5f_11ed_b4f6_ac1f6b2cd28arow2_col0,#T_a834bbb6_1c5f_11ed_b4f6_ac1f6b2cd28arow3_col0,#T_a834bbb6_1c5f_11ed_b4f6_ac1f6b2cd28arow4_col0,#T_a834bbb6_1c5f_11ed_b4f6_ac1f6b2cd28arow17_col8{\n",
       "            background-color:  #cedaeb;\n",
       "            color:  #000000;\n",
       "        }#T_a834bbb6_1c5f_11ed_b4f6_ac1f6b2cd28arow2_col1{\n",
       "            background-color:  #c7d7f0;\n",
       "            color:  #000000;\n",
       "        }#T_a834bbb6_1c5f_11ed_b4f6_ac1f6b2cd28arow2_col2,#T_a834bbb6_1c5f_11ed_b4f6_ac1f6b2cd28arow3_col2,#T_a834bbb6_1c5f_11ed_b4f6_ac1f6b2cd28arow4_col2,#T_a834bbb6_1c5f_11ed_b4f6_ac1f6b2cd28arow7_col2,#T_a834bbb6_1c5f_11ed_b4f6_ac1f6b2cd28arow9_col0{\n",
       "            background-color:  #ccd9ed;\n",
       "            color:  #000000;\n",
       "        }#T_a834bbb6_1c5f_11ed_b4f6_ac1f6b2cd28arow2_col3,#T_a834bbb6_1c5f_11ed_b4f6_ac1f6b2cd28arow12_col0,#T_a834bbb6_1c5f_11ed_b4f6_ac1f6b2cd28arow17_col3{\n",
       "            background-color:  #f5c2aa;\n",
       "            color:  #000000;\n",
       "        }#T_a834bbb6_1c5f_11ed_b4f6_ac1f6b2cd28arow2_col4,#T_a834bbb6_1c5f_11ed_b4f6_ac1f6b2cd28arow3_col4,#T_a834bbb6_1c5f_11ed_b4f6_ac1f6b2cd28arow4_col4,#T_a834bbb6_1c5f_11ed_b4f6_ac1f6b2cd28arow12_col1{\n",
       "            background-color:  #cdd9ec;\n",
       "            color:  #000000;\n",
       "        }#T_a834bbb6_1c5f_11ed_b4f6_ac1f6b2cd28arow2_col5{\n",
       "            background-color:  #bfd3f6;\n",
       "            color:  #000000;\n",
       "        }#T_a834bbb6_1c5f_11ed_b4f6_ac1f6b2cd28arow2_col7,#T_a834bbb6_1c5f_11ed_b4f6_ac1f6b2cd28arow4_col6,#T_a834bbb6_1c5f_11ed_b4f6_ac1f6b2cd28arow4_col7{\n",
       "            background-color:  #f59c7d;\n",
       "            color:  #000000;\n",
       "        }#T_a834bbb6_1c5f_11ed_b4f6_ac1f6b2cd28arow2_col8,#T_a834bbb6_1c5f_11ed_b4f6_ac1f6b2cd28arow3_col9,#T_a834bbb6_1c5f_11ed_b4f6_ac1f6b2cd28arow13_col2,#T_a834bbb6_1c5f_11ed_b4f6_ac1f6b2cd28arow13_col4{\n",
       "            background-color:  #f6a586;\n",
       "            color:  #000000;\n",
       "        }#T_a834bbb6_1c5f_11ed_b4f6_ac1f6b2cd28arow2_col9,#T_a834bbb6_1c5f_11ed_b4f6_ac1f6b2cd28arow4_col9,#T_a834bbb6_1c5f_11ed_b4f6_ac1f6b2cd28arow9_col8{\n",
       "            background-color:  #edd2c3;\n",
       "            color:  #000000;\n",
       "        }#T_a834bbb6_1c5f_11ed_b4f6_ac1f6b2cd28arow3_col1,#T_a834bbb6_1c5f_11ed_b4f6_ac1f6b2cd28arow8_col4,#T_a834bbb6_1c5f_11ed_b4f6_ac1f6b2cd28arow10_col5{\n",
       "            background-color:  #d2dbe8;\n",
       "            color:  #000000;\n",
       "        }#T_a834bbb6_1c5f_11ed_b4f6_ac1f6b2cd28arow3_col5{\n",
       "            background-color:  #cbd8ee;\n",
       "            color:  #000000;\n",
       "        }#T_a834bbb6_1c5f_11ed_b4f6_ac1f6b2cd28arow3_col6,#T_a834bbb6_1c5f_11ed_b4f6_ac1f6b2cd28arow14_col8{\n",
       "            background-color:  #f5a081;\n",
       "            color:  #000000;\n",
       "        }#T_a834bbb6_1c5f_11ed_b4f6_ac1f6b2cd28arow3_col7,#T_a834bbb6_1c5f_11ed_b4f6_ac1f6b2cd28arow13_col9{\n",
       "            background-color:  #f59f80;\n",
       "            color:  #000000;\n",
       "        }#T_a834bbb6_1c5f_11ed_b4f6_ac1f6b2cd28arow3_col8,#T_a834bbb6_1c5f_11ed_b4f6_ac1f6b2cd28arow5_col3,#T_a834bbb6_1c5f_11ed_b4f6_ac1f6b2cd28arow12_col2{\n",
       "            background-color:  #f7b194;\n",
       "            color:  #000000;\n",
       "        }#T_a834bbb6_1c5f_11ed_b4f6_ac1f6b2cd28arow4_col1,#T_a834bbb6_1c5f_11ed_b4f6_ac1f6b2cd28arow12_col7{\n",
       "            background-color:  #c4d5f3;\n",
       "            color:  #000000;\n",
       "        }#T_a834bbb6_1c5f_11ed_b4f6_ac1f6b2cd28arow4_col3{\n",
       "            background-color:  #f2cab5;\n",
       "            color:  #000000;\n",
       "        }#T_a834bbb6_1c5f_11ed_b4f6_ac1f6b2cd28arow4_col5{\n",
       "            background-color:  #bcd2f7;\n",
       "            color:  #000000;\n",
       "        }#T_a834bbb6_1c5f_11ed_b4f6_ac1f6b2cd28arow4_col8{\n",
       "            background-color:  #f6a283;\n",
       "            color:  #000000;\n",
       "        }#T_a834bbb6_1c5f_11ed_b4f6_ac1f6b2cd28arow5_col0{\n",
       "            background-color:  #a5c3fe;\n",
       "            color:  #000000;\n",
       "        }#T_a834bbb6_1c5f_11ed_b4f6_ac1f6b2cd28arow5_col1{\n",
       "            background-color:  #f7a688;\n",
       "            color:  #000000;\n",
       "        }#T_a834bbb6_1c5f_11ed_b4f6_ac1f6b2cd28arow5_col2,#T_a834bbb6_1c5f_11ed_b4f6_ac1f6b2cd28arow12_col5,#T_a834bbb6_1c5f_11ed_b4f6_ac1f6b2cd28arow13_col1{\n",
       "            background-color:  #c0d4f5;\n",
       "            color:  #000000;\n",
       "        }#T_a834bbb6_1c5f_11ed_b4f6_ac1f6b2cd28arow5_col4{\n",
       "            background-color:  #b1cbfc;\n",
       "            color:  #000000;\n",
       "        }#T_a834bbb6_1c5f_11ed_b4f6_ac1f6b2cd28arow5_col5,#T_a834bbb6_1c5f_11ed_b4f6_ac1f6b2cd28arow14_col6{\n",
       "            background-color:  #f7b396;\n",
       "            color:  #000000;\n",
       "        }#T_a834bbb6_1c5f_11ed_b4f6_ac1f6b2cd28arow5_col8,#T_a834bbb6_1c5f_11ed_b4f6_ac1f6b2cd28arow8_col2,#T_a834bbb6_1c5f_11ed_b4f6_ac1f6b2cd28arow9_col5{\n",
       "            background-color:  #d7dce3;\n",
       "            color:  #000000;\n",
       "        }#T_a834bbb6_1c5f_11ed_b4f6_ac1f6b2cd28arow5_col9,#T_a834bbb6_1c5f_11ed_b4f6_ac1f6b2cd28arow7_col1,#T_a834bbb6_1c5f_11ed_b4f6_ac1f6b2cd28arow11_col0{\n",
       "            background-color:  #ead4c8;\n",
       "            color:  #000000;\n",
       "        }#T_a834bbb6_1c5f_11ed_b4f6_ac1f6b2cd28arow6_col0,#T_a834bbb6_1c5f_11ed_b4f6_ac1f6b2cd28arow14_col1{\n",
       "            background-color:  #aac7fd;\n",
       "            color:  #000000;\n",
       "        }#T_a834bbb6_1c5f_11ed_b4f6_ac1f6b2cd28arow6_col1{\n",
       "            background-color:  #f7b99e;\n",
       "            color:  #000000;\n",
       "        }#T_a834bbb6_1c5f_11ed_b4f6_ac1f6b2cd28arow6_col2{\n",
       "            background-color:  #c3d5f4;\n",
       "            color:  #000000;\n",
       "        }#T_a834bbb6_1c5f_11ed_b4f6_ac1f6b2cd28arow6_col3,#T_a834bbb6_1c5f_11ed_b4f6_ac1f6b2cd28arow17_col1{\n",
       "            background-color:  #f7b79b;\n",
       "            color:  #000000;\n",
       "        }#T_a834bbb6_1c5f_11ed_b4f6_ac1f6b2cd28arow6_col4{\n",
       "            background-color:  #bbd1f8;\n",
       "            color:  #000000;\n",
       "        }#T_a834bbb6_1c5f_11ed_b4f6_ac1f6b2cd28arow6_col5,#T_a834bbb6_1c5f_11ed_b4f6_ac1f6b2cd28arow11_col4,#T_a834bbb6_1c5f_11ed_b4f6_ac1f6b2cd28arow16_col9{\n",
       "            background-color:  #f4c6af;\n",
       "            color:  #000000;\n",
       "        }#T_a834bbb6_1c5f_11ed_b4f6_ac1f6b2cd28arow6_col8{\n",
       "            background-color:  #dadce0;\n",
       "            color:  #000000;\n",
       "        }#T_a834bbb6_1c5f_11ed_b4f6_ac1f6b2cd28arow6_col9,#T_a834bbb6_1c5f_11ed_b4f6_ac1f6b2cd28arow10_col4{\n",
       "            background-color:  #ecd3c5;\n",
       "            color:  #000000;\n",
       "        }#T_a834bbb6_1c5f_11ed_b4f6_ac1f6b2cd28arow7_col0,#T_a834bbb6_1c5f_11ed_b4f6_ac1f6b2cd28arow13_col5{\n",
       "            background-color:  #b3cdfb;\n",
       "            color:  #000000;\n",
       "        }#T_a834bbb6_1c5f_11ed_b4f6_ac1f6b2cd28arow7_col3{\n",
       "            background-color:  #eed0c0;\n",
       "            color:  #000000;\n",
       "        }#T_a834bbb6_1c5f_11ed_b4f6_ac1f6b2cd28arow7_col4,#T_a834bbb6_1c5f_11ed_b4f6_ac1f6b2cd28arow13_col3{\n",
       "            background-color:  #c6d6f1;\n",
       "            color:  #000000;\n",
       "        }#T_a834bbb6_1c5f_11ed_b4f6_ac1f6b2cd28arow7_col5{\n",
       "            background-color:  #e2dad5;\n",
       "            color:  #000000;\n",
       "        }#T_a834bbb6_1c5f_11ed_b4f6_ac1f6b2cd28arow7_col8,#T_a834bbb6_1c5f_11ed_b4f6_ac1f6b2cd28arow8_col1,#T_a834bbb6_1c5f_11ed_b4f6_ac1f6b2cd28arow9_col3{\n",
       "            background-color:  #e3d9d3;\n",
       "            color:  #000000;\n",
       "        }#T_a834bbb6_1c5f_11ed_b4f6_ac1f6b2cd28arow7_col9{\n",
       "            background-color:  #f1ccb8;\n",
       "            color:  #000000;\n",
       "        }#T_a834bbb6_1c5f_11ed_b4f6_ac1f6b2cd28arow8_col0{\n",
       "            background-color:  #bed2f6;\n",
       "            color:  #000000;\n",
       "        }#T_a834bbb6_1c5f_11ed_b4f6_ac1f6b2cd28arow8_col3{\n",
       "            background-color:  #e7d7ce;\n",
       "            color:  #000000;\n",
       "        }#T_a834bbb6_1c5f_11ed_b4f6_ac1f6b2cd28arow8_col5,#T_a834bbb6_1c5f_11ed_b4f6_ac1f6b2cd28arow10_col0{\n",
       "            background-color:  #dbdcde;\n",
       "            color:  #000000;\n",
       "        }#T_a834bbb6_1c5f_11ed_b4f6_ac1f6b2cd28arow8_col7,#T_a834bbb6_1c5f_11ed_b4f6_ac1f6b2cd28arow15_col7,#T_a834bbb6_1c5f_11ed_b4f6_ac1f6b2cd28arow16_col7{\n",
       "            background-color:  #92b4fe;\n",
       "            color:  #000000;\n",
       "        }#T_a834bbb6_1c5f_11ed_b4f6_ac1f6b2cd28arow8_col8,#T_a834bbb6_1c5f_11ed_b4f6_ac1f6b2cd28arow15_col8,#T_a834bbb6_1c5f_11ed_b4f6_ac1f6b2cd28arow16_col8{\n",
       "            background-color:  #e8d6cc;\n",
       "            color:  #000000;\n",
       "        }#T_a834bbb6_1c5f_11ed_b4f6_ac1f6b2cd28arow9_col1{\n",
       "            background-color:  #dfdbd9;\n",
       "            color:  #000000;\n",
       "        }#T_a834bbb6_1c5f_11ed_b4f6_ac1f6b2cd28arow9_col2,#T_a834bbb6_1c5f_11ed_b4f6_ac1f6b2cd28arow17_col9{\n",
       "            background-color:  #e5d8d1;\n",
       "            color:  #000000;\n",
       "        }#T_a834bbb6_1c5f_11ed_b4f6_ac1f6b2cd28arow9_col4{\n",
       "            background-color:  #e0dbd8;\n",
       "            color:  #000000;\n",
       "        }#T_a834bbb6_1c5f_11ed_b4f6_ac1f6b2cd28arow9_col6{\n",
       "            background-color:  #93b5fe;\n",
       "            color:  #000000;\n",
       "        }#T_a834bbb6_1c5f_11ed_b4f6_ac1f6b2cd28arow9_col7{\n",
       "            background-color:  #96b7ff;\n",
       "            color:  #000000;\n",
       "        }#T_a834bbb6_1c5f_11ed_b4f6_ac1f6b2cd28arow9_col9{\n",
       "            background-color:  #f5c1a9;\n",
       "            color:  #000000;\n",
       "        }#T_a834bbb6_1c5f_11ed_b4f6_ac1f6b2cd28arow10_col1{\n",
       "            background-color:  #dcdddd;\n",
       "            color:  #000000;\n",
       "        }#T_a834bbb6_1c5f_11ed_b4f6_ac1f6b2cd28arow10_col2,#T_a834bbb6_1c5f_11ed_b4f6_ac1f6b2cd28arow10_col8{\n",
       "            background-color:  #f0cdbb;\n",
       "            color:  #000000;\n",
       "        }#T_a834bbb6_1c5f_11ed_b4f6_ac1f6b2cd28arow10_col3,#T_a834bbb6_1c5f_11ed_b4f6_ac1f6b2cd28arow13_col6{\n",
       "            background-color:  #e1dad6;\n",
       "            color:  #000000;\n",
       "        }#T_a834bbb6_1c5f_11ed_b4f6_ac1f6b2cd28arow10_col9{\n",
       "            background-color:  #f7bca1;\n",
       "            color:  #000000;\n",
       "        }#T_a834bbb6_1c5f_11ed_b4f6_ac1f6b2cd28arow11_col1{\n",
       "            background-color:  #d6dce4;\n",
       "            color:  #000000;\n",
       "        }#T_a834bbb6_1c5f_11ed_b4f6_ac1f6b2cd28arow11_col2,#T_a834bbb6_1c5f_11ed_b4f6_ac1f6b2cd28arow12_col8{\n",
       "            background-color:  #f5c0a7;\n",
       "            color:  #000000;\n",
       "        }#T_a834bbb6_1c5f_11ed_b4f6_ac1f6b2cd28arow11_col3{\n",
       "            background-color:  #dddcdc;\n",
       "            color:  #000000;\n",
       "        }#T_a834bbb6_1c5f_11ed_b4f6_ac1f6b2cd28arow11_col5{\n",
       "            background-color:  #c9d7f0;\n",
       "            color:  #000000;\n",
       "        }#T_a834bbb6_1c5f_11ed_b4f6_ac1f6b2cd28arow11_col6,#T_a834bbb6_1c5f_11ed_b4f6_ac1f6b2cd28arow14_col5{\n",
       "            background-color:  #a2c1ff;\n",
       "            color:  #000000;\n",
       "        }#T_a834bbb6_1c5f_11ed_b4f6_ac1f6b2cd28arow11_col7{\n",
       "            background-color:  #abc8fd;\n",
       "            color:  #000000;\n",
       "        }#T_a834bbb6_1c5f_11ed_b4f6_ac1f6b2cd28arow11_col8{\n",
       "            background-color:  #f3c8b2;\n",
       "            color:  #000000;\n",
       "        }#T_a834bbb6_1c5f_11ed_b4f6_ac1f6b2cd28arow11_col9,#T_a834bbb6_1c5f_11ed_b4f6_ac1f6b2cd28arow13_col8{\n",
       "            background-color:  #f7b497;\n",
       "            color:  #000000;\n",
       "        }#T_a834bbb6_1c5f_11ed_b4f6_ac1f6b2cd28arow12_col3{\n",
       "            background-color:  #d5dbe5;\n",
       "            color:  #000000;\n",
       "        }#T_a834bbb6_1c5f_11ed_b4f6_ac1f6b2cd28arow12_col4{\n",
       "            background-color:  #f7b599;\n",
       "            color:  #000000;\n",
       "        }#T_a834bbb6_1c5f_11ed_b4f6_ac1f6b2cd28arow12_col6{\n",
       "            background-color:  #b5cdfa;\n",
       "            color:  #000000;\n",
       "        }#T_a834bbb6_1c5f_11ed_b4f6_ac1f6b2cd28arow12_col9,#T_a834bbb6_1c5f_11ed_b4f6_ac1f6b2cd28arow14_col7{\n",
       "            background-color:  #f7aa8c;\n",
       "            color:  #000000;\n",
       "        }#T_a834bbb6_1c5f_11ed_b4f6_ac1f6b2cd28arow13_col0,#T_a834bbb6_1c5f_11ed_b4f6_ac1f6b2cd28arow15_col3,#T_a834bbb6_1c5f_11ed_b4f6_ac1f6b2cd28arow16_col3{\n",
       "            background-color:  #f7ac8e;\n",
       "            color:  #000000;\n",
       "        }#T_a834bbb6_1c5f_11ed_b4f6_ac1f6b2cd28arow13_col7{\n",
       "            background-color:  #efcfbf;\n",
       "            color:  #000000;\n",
       "        }#T_a834bbb6_1c5f_11ed_b4f6_ac1f6b2cd28arow14_col3{\n",
       "            background-color:  #aec9fc;\n",
       "            color:  #000000;\n",
       "        }#T_a834bbb6_1c5f_11ed_b4f6_ac1f6b2cd28arow17_col0{\n",
       "            background-color:  #9abbff;\n",
       "            color:  #000000;\n",
       "        }#T_a834bbb6_1c5f_11ed_b4f6_ac1f6b2cd28arow17_col2{\n",
       "            background-color:  #b7cff9;\n",
       "            color:  #000000;\n",
       "        }#T_a834bbb6_1c5f_11ed_b4f6_ac1f6b2cd28arow17_col4{\n",
       "            background-color:  #9fbfff;\n",
       "            color:  #000000;\n",
       "        }#T_a834bbb6_1c5f_11ed_b4f6_ac1f6b2cd28arow17_col5{\n",
       "            background-color:  #f6bfa6;\n",
       "            color:  #000000;\n",
       "        }#T_a834bbb6_1c5f_11ed_b4f6_ac1f6b2cd28arow18_col8{\n",
       "            background-color:  #afcafc;\n",
       "            color:  #000000;\n",
       "        }#T_a834bbb6_1c5f_11ed_b4f6_ac1f6b2cd28arow18_col9{\n",
       "            background-color:  #97b8ff;\n",
       "            color:  #000000;\n",
       "        }#T_a834bbb6_1c5f_11ed_b4f6_ac1f6b2cd28arow19_col7,#T_a834bbb6_1c5f_11ed_b4f6_ac1f6b2cd28arow20_col8{\n",
       "            background-color:  #8caffe;\n",
       "            color:  #000000;\n",
       "        }#T_a834bbb6_1c5f_11ed_b4f6_ac1f6b2cd28arow19_col8{\n",
       "            background-color:  #e9d5cb;\n",
       "            color:  #000000;\n",
       "        }#T_a834bbb6_1c5f_11ed_b4f6_ac1f6b2cd28arow20_col9{\n",
       "            background-color:  #a1c0ff;\n",
       "            color:  #000000;\n",
       "        }</style><table id=\"T_a834bbb6_1c5f_11ed_b4f6_ac1f6b2cd28a\" ><thead>    <tr>        <th class=\"blank level0\" ></th>        <th class=\"col_heading level0 col0\" >train_mnap</th>        <th class=\"col_heading level0 col1\" >val_mnap</th>        <th class=\"col_heading level0 col2\" >train_hitrate</th>        <th class=\"col_heading level0 col3\" >val_hitrate</th>        <th class=\"col_heading level0 col4\" >train_mrr</th>        <th class=\"col_heading level0 col5\" >val_mrr</th>        <th class=\"col_heading level0 col6\" >train_coverage</th>        <th class=\"col_heading level0 col7\" >val_coverage</th>        <th class=\"col_heading level0 col8\" >train_surprisal</th>        <th class=\"col_heading level0 col9\" >val_surprisal</th>    </tr></thead><tbody>\n",
       "                <tr>\n",
       "                        <th id=\"T_a834bbb6_1c5f_11ed_b4f6_ac1f6b2cd28alevel0_row0\" class=\"row_heading level0 row0\" >random</th>\n",
       "                        <td id=\"T_a834bbb6_1c5f_11ed_b4f6_ac1f6b2cd28arow0_col0\" class=\"data row0 col0\" >0.000112</td>\n",
       "                        <td id=\"T_a834bbb6_1c5f_11ed_b4f6_ac1f6b2cd28arow0_col1\" class=\"data row0 col1\" >0.000096</td>\n",
       "                        <td id=\"T_a834bbb6_1c5f_11ed_b4f6_ac1f6b2cd28arow0_col2\" class=\"data row0 col2\" >0.000923</td>\n",
       "                        <td id=\"T_a834bbb6_1c5f_11ed_b4f6_ac1f6b2cd28arow0_col3\" class=\"data row0 col3\" >0.000581</td>\n",
       "                        <td id=\"T_a834bbb6_1c5f_11ed_b4f6_ac1f6b2cd28arow0_col4\" class=\"data row0 col4\" >0.000166</td>\n",
       "                        <td id=\"T_a834bbb6_1c5f_11ed_b4f6_ac1f6b2cd28arow0_col5\" class=\"data row0 col5\" >0.000099</td>\n",
       "                        <td id=\"T_a834bbb6_1c5f_11ed_b4f6_ac1f6b2cd28arow0_col6\" class=\"data row0 col6\" >1.000000</td>\n",
       "                        <td id=\"T_a834bbb6_1c5f_11ed_b4f6_ac1f6b2cd28arow0_col7\" class=\"data row0 col7\" >0.914483</td>\n",
       "                        <td id=\"T_a834bbb6_1c5f_11ed_b4f6_ac1f6b2cd28arow0_col8\" class=\"data row0 col8\" >0.814951</td>\n",
       "                        <td id=\"T_a834bbb6_1c5f_11ed_b4f6_ac1f6b2cd28arow0_col9\" class=\"data row0 col9\" >0.569923</td>\n",
       "            </tr>\n",
       "            <tr>\n",
       "                        <th id=\"T_a834bbb6_1c5f_11ed_b4f6_ac1f6b2cd28alevel0_row1\" class=\"row_heading level0 row1\" >popular</th>\n",
       "                        <td id=\"T_a834bbb6_1c5f_11ed_b4f6_ac1f6b2cd28arow1_col0\" class=\"data row1 col0\" >0.005925</td>\n",
       "                        <td id=\"T_a834bbb6_1c5f_11ed_b4f6_ac1f6b2cd28arow1_col1\" class=\"data row1 col1\" >0.003523</td>\n",
       "                        <td id=\"T_a834bbb6_1c5f_11ed_b4f6_ac1f6b2cd28arow1_col2\" class=\"data row1 col2\" >0.018567</td>\n",
       "                        <td id=\"T_a834bbb6_1c5f_11ed_b4f6_ac1f6b2cd28arow1_col3\" class=\"data row1 col3\" >0.009424</td>\n",
       "                        <td id=\"T_a834bbb6_1c5f_11ed_b4f6_ac1f6b2cd28arow1_col4\" class=\"data row1 col4\" >0.010624</td>\n",
       "                        <td id=\"T_a834bbb6_1c5f_11ed_b4f6_ac1f6b2cd28arow1_col5\" class=\"data row1 col5\" >0.004419</td>\n",
       "                        <td id=\"T_a834bbb6_1c5f_11ed_b4f6_ac1f6b2cd28arow1_col6\" class=\"data row1 col6\" >0.000765</td>\n",
       "                        <td id=\"T_a834bbb6_1c5f_11ed_b4f6_ac1f6b2cd28arow1_col7\" class=\"data row1 col7\" >0.001007</td>\n",
       "                        <td id=\"T_a834bbb6_1c5f_11ed_b4f6_ac1f6b2cd28arow1_col8\" class=\"data row1 col8\" >0.437210</td>\n",
       "                        <td id=\"T_a834bbb6_1c5f_11ed_b4f6_ac1f6b2cd28arow1_col9\" class=\"data row1 col9\" >0.483808</td>\n",
       "            </tr>\n",
       "            <tr>\n",
       "                        <th id=\"T_a834bbb6_1c5f_11ed_b4f6_ac1f6b2cd28alevel0_row2\" class=\"row_heading level0 row2\" >tfidf</th>\n",
       "                        <td id=\"T_a834bbb6_1c5f_11ed_b4f6_ac1f6b2cd28arow2_col0\" class=\"data row2 col0\" >0.337795</td>\n",
       "                        <td id=\"T_a834bbb6_1c5f_11ed_b4f6_ac1f6b2cd28arow2_col1\" class=\"data row2 col1\" >0.015240</td>\n",
       "                        <td id=\"T_a834bbb6_1c5f_11ed_b4f6_ac1f6b2cd28arow2_col2\" class=\"data row2 col2\" >0.338338</td>\n",
       "                        <td id=\"T_a834bbb6_1c5f_11ed_b4f6_ac1f6b2cd28arow2_col3\" class=\"data row2 col3\" >0.104690</td>\n",
       "                        <td id=\"T_a834bbb6_1c5f_11ed_b4f6_ac1f6b2cd28arow2_col4\" class=\"data row2 col4\" >0.338043</td>\n",
       "                        <td id=\"T_a834bbb6_1c5f_11ed_b4f6_ac1f6b2cd28arow2_col5\" class=\"data row2 col5\" >0.013479</td>\n",
       "                        <td id=\"T_a834bbb6_1c5f_11ed_b4f6_ac1f6b2cd28arow2_col6\" class=\"data row2 col6\" >0.995293</td>\n",
       "                        <td id=\"T_a834bbb6_1c5f_11ed_b4f6_ac1f6b2cd28arow2_col7\" class=\"data row2 col7\" >0.905298</td>\n",
       "                        <td id=\"T_a834bbb6_1c5f_11ed_b4f6_ac1f6b2cd28arow2_col8\" class=\"data row2 col8\" >0.771607</td>\n",
       "                        <td id=\"T_a834bbb6_1c5f_11ed_b4f6_ac1f6b2cd28arow2_col9\" class=\"data row2 col9\" >0.498584</td>\n",
       "            </tr>\n",
       "            <tr>\n",
       "                        <th id=\"T_a834bbb6_1c5f_11ed_b4f6_ac1f6b2cd28alevel0_row3\" class=\"row_heading level0 row3\" >bm25</th>\n",
       "                        <td id=\"T_a834bbb6_1c5f_11ed_b4f6_ac1f6b2cd28arow3_col0\" class=\"data row3 col0\" >0.337348</td>\n",
       "                        <td id=\"T_a834bbb6_1c5f_11ed_b4f6_ac1f6b2cd28arow3_col1\" class=\"data row3 col1\" >0.018510</td>\n",
       "                        <td id=\"T_a834bbb6_1c5f_11ed_b4f6_ac1f6b2cd28arow3_col2\" class=\"data row3 col2\" >0.338074</td>\n",
       "                        <td id=\"T_a834bbb6_1c5f_11ed_b4f6_ac1f6b2cd28arow3_col3\" class=\"data row3 col3\" >0.136852</td>\n",
       "                        <td id=\"T_a834bbb6_1c5f_11ed_b4f6_ac1f6b2cd28arow3_col4\" class=\"data row3 col4\" >0.337907</td>\n",
       "                        <td id=\"T_a834bbb6_1c5f_11ed_b4f6_ac1f6b2cd28arow3_col5\" class=\"data row3 col5\" >0.017151</td>\n",
       "                        <td id=\"T_a834bbb6_1c5f_11ed_b4f6_ac1f6b2cd28arow3_col6\" class=\"data row3 col6\" >0.966919</td>\n",
       "                        <td id=\"T_a834bbb6_1c5f_11ed_b4f6_ac1f6b2cd28arow3_col7\" class=\"data row3 col7\" >0.886322</td>\n",
       "                        <td id=\"T_a834bbb6_1c5f_11ed_b4f6_ac1f6b2cd28arow3_col8\" class=\"data row3 col8\" >0.721491</td>\n",
       "                        <td id=\"T_a834bbb6_1c5f_11ed_b4f6_ac1f6b2cd28arow3_col9\" class=\"data row3 col9\" >0.731392</td>\n",
       "            </tr>\n",
       "            <tr>\n",
       "                        <th id=\"T_a834bbb6_1c5f_11ed_b4f6_ac1f6b2cd28alevel0_row4\" class=\"row_heading level0 row4\" >cosine</th>\n",
       "                        <td id=\"T_a834bbb6_1c5f_11ed_b4f6_ac1f6b2cd28arow4_col0\" class=\"data row4 col0\" >0.337586</td>\n",
       "                        <td id=\"T_a834bbb6_1c5f_11ed_b4f6_ac1f6b2cd28arow4_col1\" class=\"data row4 col1\" >0.014197</td>\n",
       "                        <td id=\"T_a834bbb6_1c5f_11ed_b4f6_ac1f6b2cd28arow4_col2\" class=\"data row4 col2\" >0.338161</td>\n",
       "                        <td id=\"T_a834bbb6_1c5f_11ed_b4f6_ac1f6b2cd28arow4_col3\" class=\"data row4 col3\" >0.096809</td>\n",
       "                        <td id=\"T_a834bbb6_1c5f_11ed_b4f6_ac1f6b2cd28arow4_col4\" class=\"data row4 col4\" >0.337926</td>\n",
       "                        <td id=\"T_a834bbb6_1c5f_11ed_b4f6_ac1f6b2cd28arow4_col5\" class=\"data row4 col5\" >0.012577</td>\n",
       "                        <td id=\"T_a834bbb6_1c5f_11ed_b4f6_ac1f6b2cd28arow4_col6\" class=\"data row4 col6\" >0.989917</td>\n",
       "                        <td id=\"T_a834bbb6_1c5f_11ed_b4f6_ac1f6b2cd28arow4_col7\" class=\"data row4 col7\" >0.900818</td>\n",
       "                        <td id=\"T_a834bbb6_1c5f_11ed_b4f6_ac1f6b2cd28arow4_col8\" class=\"data row4 col8\" >0.782828</td>\n",
       "                        <td id=\"T_a834bbb6_1c5f_11ed_b4f6_ac1f6b2cd28arow4_col9\" class=\"data row4 col9\" >0.499409</td>\n",
       "            </tr>\n",
       "            <tr>\n",
       "                        <th id=\"T_a834bbb6_1c5f_11ed_b4f6_ac1f6b2cd28alevel0_row5\" class=\"row_heading level0 row5\" >svd_10</th>\n",
       "                        <td id=\"T_a834bbb6_1c5f_11ed_b4f6_ac1f6b2cd28arow5_col0\" class=\"data row5 col0\" >0.113964</td>\n",
       "                        <td id=\"T_a834bbb6_1c5f_11ed_b4f6_ac1f6b2cd28arow5_col1\" class=\"data row5 col1\" >0.040916</td>\n",
       "                        <td id=\"T_a834bbb6_1c5f_11ed_b4f6_ac1f6b2cd28arow5_col2\" class=\"data row5 col2\" >0.268531</td>\n",
       "                        <td id=\"T_a834bbb6_1c5f_11ed_b4f6_ac1f6b2cd28arow5_col3\" class=\"data row5 col3\" >0.119701</td>\n",
       "                        <td id=\"T_a834bbb6_1c5f_11ed_b4f6_ac1f6b2cd28arow5_col4\" class=\"data row5 col4\" >0.182651</td>\n",
       "                        <td id=\"T_a834bbb6_1c5f_11ed_b4f6_ac1f6b2cd28arow5_col5\" class=\"data row5 col5\" >0.039528</td>\n",
       "                        <td id=\"T_a834bbb6_1c5f_11ed_b4f6_ac1f6b2cd28arow5_col6\" class=\"data row5 col6\" >0.006964</td>\n",
       "                        <td id=\"T_a834bbb6_1c5f_11ed_b4f6_ac1f6b2cd28arow5_col7\" class=\"data row5 col7\" >0.008909</td>\n",
       "                        <td id=\"T_a834bbb6_1c5f_11ed_b4f6_ac1f6b2cd28arow5_col8\" class=\"data row5 col8\" >0.429239</td>\n",
       "                        <td id=\"T_a834bbb6_1c5f_11ed_b4f6_ac1f6b2cd28arow5_col9\" class=\"data row5 col9\" >0.479104</td>\n",
       "            </tr>\n",
       "            <tr>\n",
       "                        <th id=\"T_a834bbb6_1c5f_11ed_b4f6_ac1f6b2cd28alevel0_row6\" class=\"row_heading level0 row6\" >svd_21</th>\n",
       "                        <td id=\"T_a834bbb6_1c5f_11ed_b4f6_ac1f6b2cd28arow6_col0\" class=\"data row6 col0\" >0.142999</td>\n",
       "                        <td id=\"T_a834bbb6_1c5f_11ed_b4f6_ac1f6b2cd28arow6_col1\" class=\"data row6 col1\" >0.036116</td>\n",
       "                        <td id=\"T_a834bbb6_1c5f_11ed_b4f6_ac1f6b2cd28arow6_col2\" class=\"data row6 col2\" >0.286065</td>\n",
       "                        <td id=\"T_a834bbb6_1c5f_11ed_b4f6_ac1f6b2cd28arow6_col3\" class=\"data row6 col3\" >0.114706</td>\n",
       "                        <td id=\"T_a834bbb6_1c5f_11ed_b4f6_ac1f6b2cd28arow6_col4\" class=\"data row6 col4\" >0.230475</td>\n",
       "                        <td id=\"T_a834bbb6_1c5f_11ed_b4f6_ac1f6b2cd28arow6_col5\" class=\"data row6 col5\" >0.033937</td>\n",
       "                        <td id=\"T_a834bbb6_1c5f_11ed_b4f6_ac1f6b2cd28arow6_col6\" class=\"data row6 col6\" >0.007711</td>\n",
       "                        <td id=\"T_a834bbb6_1c5f_11ed_b4f6_ac1f6b2cd28arow6_col7\" class=\"data row6 col7\" >0.009840</td>\n",
       "                        <td id=\"T_a834bbb6_1c5f_11ed_b4f6_ac1f6b2cd28arow6_col8\" class=\"data row6 col8\" >0.445441</td>\n",
       "                        <td id=\"T_a834bbb6_1c5f_11ed_b4f6_ac1f6b2cd28arow6_col9\" class=\"data row6 col9\" >0.492667</td>\n",
       "            </tr>\n",
       "            <tr>\n",
       "                        <th id=\"T_a834bbb6_1c5f_11ed_b4f6_ac1f6b2cd28alevel0_row7\" class=\"row_heading level0 row7\" >svd_46</th>\n",
       "                        <td id=\"T_a834bbb6_1c5f_11ed_b4f6_ac1f6b2cd28arow7_col0\" class=\"data row7 col0\" >0.189464</td>\n",
       "                        <td id=\"T_a834bbb6_1c5f_11ed_b4f6_ac1f6b2cd28arow7_col1\" class=\"data row7 col1\" >0.026909</td>\n",
       "                        <td id=\"T_a834bbb6_1c5f_11ed_b4f6_ac1f6b2cd28arow7_col2\" class=\"data row7 col2\" >0.343070</td>\n",
       "                        <td id=\"T_a834bbb6_1c5f_11ed_b4f6_ac1f6b2cd28arow7_col3\" class=\"data row7 col3\" >0.089676</td>\n",
       "                        <td id=\"T_a834bbb6_1c5f_11ed_b4f6_ac1f6b2cd28arow7_col4\" class=\"data row7 col4\" >0.294988</td>\n",
       "                        <td id=\"T_a834bbb6_1c5f_11ed_b4f6_ac1f6b2cd28arow7_col5\" class=\"data row7 col5\" >0.024833</td>\n",
       "                        <td id=\"T_a834bbb6_1c5f_11ed_b4f6_ac1f6b2cd28arow7_col6\" class=\"data row7 col6\" >0.012532</td>\n",
       "                        <td id=\"T_a834bbb6_1c5f_11ed_b4f6_ac1f6b2cd28arow7_col7\" class=\"data row7 col7\" >0.016107</td>\n",
       "                        <td id=\"T_a834bbb6_1c5f_11ed_b4f6_ac1f6b2cd28arow7_col8\" class=\"data row7 col8\" >0.494780</td>\n",
       "                        <td id=\"T_a834bbb6_1c5f_11ed_b4f6_ac1f6b2cd28arow7_col9\" class=\"data row7 col9\" >0.539978</td>\n",
       "            </tr>\n",
       "            <tr>\n",
       "                        <th id=\"T_a834bbb6_1c5f_11ed_b4f6_ac1f6b2cd28alevel0_row8\" class=\"row_heading level0 row8\" >svd_100</th>\n",
       "                        <td id=\"T_a834bbb6_1c5f_11ed_b4f6_ac1f6b2cd28arow8_col0\" class=\"data row8 col0\" >0.241049</td>\n",
       "                        <td id=\"T_a834bbb6_1c5f_11ed_b4f6_ac1f6b2cd28arow8_col1\" class=\"data row8 col1\" >0.024224</td>\n",
       "                        <td id=\"T_a834bbb6_1c5f_11ed_b4f6_ac1f6b2cd28arow8_col2\" class=\"data row8 col2\" >0.411734</td>\n",
       "                        <td id=\"T_a834bbb6_1c5f_11ed_b4f6_ac1f6b2cd28arow8_col3\" class=\"data row8 col3\" >0.079867</td>\n",
       "                        <td id=\"T_a834bbb6_1c5f_11ed_b4f6_ac1f6b2cd28arow8_col4\" class=\"data row8 col4\" >0.362558</td>\n",
       "                        <td id=\"T_a834bbb6_1c5f_11ed_b4f6_ac1f6b2cd28arow8_col5\" class=\"data row8 col5\" >0.022466</td>\n",
       "                        <td id=\"T_a834bbb6_1c5f_11ed_b4f6_ac1f6b2cd28arow8_col6\" class=\"data row8 col6\" >0.020128</td>\n",
       "                        <td id=\"T_a834bbb6_1c5f_11ed_b4f6_ac1f6b2cd28arow8_col7\" class=\"data row8 col7\" >0.026173</td>\n",
       "                        <td id=\"T_a834bbb6_1c5f_11ed_b4f6_ac1f6b2cd28arow8_col8\" class=\"data row8 col8\" >0.525889</td>\n",
       "                        <td id=\"T_a834bbb6_1c5f_11ed_b4f6_ac1f6b2cd28arow8_col9\" class=\"data row8 col9\" >0.571336</td>\n",
       "            </tr>\n",
       "            <tr>\n",
       "                        <th id=\"T_a834bbb6_1c5f_11ed_b4f6_ac1f6b2cd28alevel0_row9\" class=\"row_heading level0 row9\" >svd_215</th>\n",
       "                        <td id=\"T_a834bbb6_1c5f_11ed_b4f6_ac1f6b2cd28arow9_col0\" class=\"data row9 col0\" >0.320770</td>\n",
       "                        <td id=\"T_a834bbb6_1c5f_11ed_b4f6_ac1f6b2cd28arow9_col1\" class=\"data row9 col1\" >0.022805</td>\n",
       "                        <td id=\"T_a834bbb6_1c5f_11ed_b4f6_ac1f6b2cd28arow9_col2\" class=\"data row9 col2\" >0.512215</td>\n",
       "                        <td id=\"T_a834bbb6_1c5f_11ed_b4f6_ac1f6b2cd28arow9_col3\" class=\"data row9 col3\" >0.075043</td>\n",
       "                        <td id=\"T_a834bbb6_1c5f_11ed_b4f6_ac1f6b2cd28arow9_col4\" class=\"data row9 col4\" >0.453813</td>\n",
       "                        <td id=\"T_a834bbb6_1c5f_11ed_b4f6_ac1f6b2cd28arow9_col5\" class=\"data row9 col5\" >0.020870</td>\n",
       "                        <td id=\"T_a834bbb6_1c5f_11ed_b4f6_ac1f6b2cd28arow9_col6\" class=\"data row9 col6\" >0.037405</td>\n",
       "                        <td id=\"T_a834bbb6_1c5f_11ed_b4f6_ac1f6b2cd28arow9_col7\" class=\"data row9 col7\" >0.048672</td>\n",
       "                        <td id=\"T_a834bbb6_1c5f_11ed_b4f6_ac1f6b2cd28arow9_col8\" class=\"data row9 col8\" >0.557657</td>\n",
       "                        <td id=\"T_a834bbb6_1c5f_11ed_b4f6_ac1f6b2cd28arow9_col9\" class=\"data row9 col9\" >0.603278</td>\n",
       "            </tr>\n",
       "            <tr>\n",
       "                        <th id=\"T_a834bbb6_1c5f_11ed_b4f6_ac1f6b2cd28alevel0_row10\" class=\"row_heading level0 row10\" >svd_464</th>\n",
       "                        <td id=\"T_a834bbb6_1c5f_11ed_b4f6_ac1f6b2cd28arow10_col0\" class=\"data row10 col0\" >0.414642</td>\n",
       "                        <td id=\"T_a834bbb6_1c5f_11ed_b4f6_ac1f6b2cd28arow10_col1\" class=\"data row10 col1\" >0.021658</td>\n",
       "                        <td id=\"T_a834bbb6_1c5f_11ed_b4f6_ac1f6b2cd28arow10_col2\" class=\"data row10 col2\" >0.605983</td>\n",
       "                        <td id=\"T_a834bbb6_1c5f_11ed_b4f6_ac1f6b2cd28arow10_col3\" class=\"data row10 col3\" >0.073208</td>\n",
       "                        <td id=\"T_a834bbb6_1c5f_11ed_b4f6_ac1f6b2cd28arow10_col4\" class=\"data row10 col4\" >0.548222</td>\n",
       "                        <td id=\"T_a834bbb6_1c5f_11ed_b4f6_ac1f6b2cd28arow10_col5\" class=\"data row10 col5\" >0.019030</td>\n",
       "                        <td id=\"T_a834bbb6_1c5f_11ed_b4f6_ac1f6b2cd28arow10_col6\" class=\"data row10 col6\" >0.066334</td>\n",
       "                        <td id=\"T_a834bbb6_1c5f_11ed_b4f6_ac1f6b2cd28arow10_col7\" class=\"data row10 col7\" >0.086498</td>\n",
       "                        <td id=\"T_a834bbb6_1c5f_11ed_b4f6_ac1f6b2cd28arow10_col8\" class=\"data row10 col8\" >0.585560</td>\n",
       "                        <td id=\"T_a834bbb6_1c5f_11ed_b4f6_ac1f6b2cd28arow10_col9\" class=\"data row10 col9\" >0.632858</td>\n",
       "            </tr>\n",
       "            <tr>\n",
       "                        <th id=\"T_a834bbb6_1c5f_11ed_b4f6_ac1f6b2cd28alevel0_row11\" class=\"row_heading level0 row11\" >svd_1000</th>\n",
       "                        <td id=\"T_a834bbb6_1c5f_11ed_b4f6_ac1f6b2cd28arow11_col0\" class=\"data row11 col0\" >0.524430</td>\n",
       "                        <td id=\"T_a834bbb6_1c5f_11ed_b4f6_ac1f6b2cd28arow11_col1\" class=\"data row11 col1\" >0.019612</td>\n",
       "                        <td id=\"T_a834bbb6_1c5f_11ed_b4f6_ac1f6b2cd28arow11_col2\" class=\"data row11 col2\" >0.699465</td>\n",
       "                        <td id=\"T_a834bbb6_1c5f_11ed_b4f6_ac1f6b2cd28arow11_col3\" class=\"data row11 col3\" >0.068447</td>\n",
       "                        <td id=\"T_a834bbb6_1c5f_11ed_b4f6_ac1f6b2cd28arow11_col4\" class=\"data row11 col4\" >0.642324</td>\n",
       "                        <td id=\"T_a834bbb6_1c5f_11ed_b4f6_ac1f6b2cd28arow11_col5\" class=\"data row11 col5\" >0.016392</td>\n",
       "                        <td id=\"T_a834bbb6_1c5f_11ed_b4f6_ac1f6b2cd28arow11_col6\" class=\"data row11 col6\" >0.122527</td>\n",
       "                        <td id=\"T_a834bbb6_1c5f_11ed_b4f6_ac1f6b2cd28arow11_col7\" class=\"data row11 col7\" >0.158978</td>\n",
       "                        <td id=\"T_a834bbb6_1c5f_11ed_b4f6_ac1f6b2cd28arow11_col8\" class=\"data row11 col8\" >0.618621</td>\n",
       "                        <td id=\"T_a834bbb6_1c5f_11ed_b4f6_ac1f6b2cd28arow11_col9\" class=\"data row11 col9\" >0.666292</td>\n",
       "            </tr>\n",
       "            <tr>\n",
       "                        <th id=\"T_a834bbb6_1c5f_11ed_b4f6_ac1f6b2cd28alevel0_row12\" class=\"row_heading level0 row12\" >svd_2154</th>\n",
       "                        <td id=\"T_a834bbb6_1c5f_11ed_b4f6_ac1f6b2cd28arow12_col0\" class=\"data row12 col0\" >0.647241</td>\n",
       "                        <td id=\"T_a834bbb6_1c5f_11ed_b4f6_ac1f6b2cd28arow12_col1\" class=\"data row12 col1\" >0.017024</td>\n",
       "                        <td id=\"T_a834bbb6_1c5f_11ed_b4f6_ac1f6b2cd28arow12_col2\" class=\"data row12 col2\" >0.781420</td>\n",
       "                        <td id=\"T_a834bbb6_1c5f_11ed_b4f6_ac1f6b2cd28arow12_col3\" class=\"data row12 col3\" >0.060621</td>\n",
       "                        <td id=\"T_a834bbb6_1c5f_11ed_b4f6_ac1f6b2cd28arow12_col4\" class=\"data row12 col4\" >0.733191</td>\n",
       "                        <td id=\"T_a834bbb6_1c5f_11ed_b4f6_ac1f6b2cd28arow12_col5\" class=\"data row12 col5\" >0.013647</td>\n",
       "                        <td id=\"T_a834bbb6_1c5f_11ed_b4f6_ac1f6b2cd28arow12_col6\" class=\"data row12 col6\" >0.232637</td>\n",
       "                        <td id=\"T_a834bbb6_1c5f_11ed_b4f6_ac1f6b2cd28arow12_col7\" class=\"data row12 col7\" >0.297748</td>\n",
       "                        <td id=\"T_a834bbb6_1c5f_11ed_b4f6_ac1f6b2cd28arow12_col8\" class=\"data row12 col8\" >0.660269</td>\n",
       "                        <td id=\"T_a834bbb6_1c5f_11ed_b4f6_ac1f6b2cd28arow12_col9\" class=\"data row12 col9\" >0.708470</td>\n",
       "            </tr>\n",
       "            <tr>\n",
       "                        <th id=\"T_a834bbb6_1c5f_11ed_b4f6_ac1f6b2cd28alevel0_row13\" class=\"row_heading level0 row13\" >svd_4641</th>\n",
       "                        <td id=\"T_a834bbb6_1c5f_11ed_b4f6_ac1f6b2cd28arow13_col0\" class=\"data row13 col0\" >0.766058</td>\n",
       "                        <td id=\"T_a834bbb6_1c5f_11ed_b4f6_ac1f6b2cd28arow13_col1\" class=\"data row13 col1\" >0.013222</td>\n",
       "                        <td id=\"T_a834bbb6_1c5f_11ed_b4f6_ac1f6b2cd28arow13_col2\" class=\"data row13 col2\" >0.845073</td>\n",
       "                        <td id=\"T_a834bbb6_1c5f_11ed_b4f6_ac1f6b2cd28arow13_col3\" class=\"data row13 col3\" >0.047030</td>\n",
       "                        <td id=\"T_a834bbb6_1c5f_11ed_b4f6_ac1f6b2cd28arow13_col4\" class=\"data row13 col4\" >0.813566</td>\n",
       "                        <td id=\"T_a834bbb6_1c5f_11ed_b4f6_ac1f6b2cd28arow13_col5\" class=\"data row13 col5\" >0.010233</td>\n",
       "                        <td id=\"T_a834bbb6_1c5f_11ed_b4f6_ac1f6b2cd28arow13_col6\" class=\"data row13 col6\" >0.534860</td>\n",
       "                        <td id=\"T_a834bbb6_1c5f_11ed_b4f6_ac1f6b2cd28arow13_col7\" class=\"data row13 col7\" >0.605990</td>\n",
       "                        <td id=\"T_a834bbb6_1c5f_11ed_b4f6_ac1f6b2cd28arow13_col8\" class=\"data row13 col8\" >0.712098</td>\n",
       "                        <td id=\"T_a834bbb6_1c5f_11ed_b4f6_ac1f6b2cd28arow13_col9\" class=\"data row13 col9\" >0.758492</td>\n",
       "            </tr>\n",
       "            <tr>\n",
       "                        <th id=\"T_a834bbb6_1c5f_11ed_b4f6_ac1f6b2cd28alevel0_row14\" class=\"row_heading level0 row14\" >svd_10000</th>\n",
       "                        <td id=\"T_a834bbb6_1c5f_11ed_b4f6_ac1f6b2cd28arow14_col0\" class=\"data row14 col0\" >0.850160</td>\n",
       "                        <td id=\"T_a834bbb6_1c5f_11ed_b4f6_ac1f6b2cd28arow14_col1\" class=\"data row14 col1\" >0.007285</td>\n",
       "                        <td id=\"T_a834bbb6_1c5f_11ed_b4f6_ac1f6b2cd28arow14_col2\" class=\"data row14 col2\" >0.899659</td>\n",
       "                        <td id=\"T_a834bbb6_1c5f_11ed_b4f6_ac1f6b2cd28arow14_col3\" class=\"data row14 col3\" >0.025832</td>\n",
       "                        <td id=\"T_a834bbb6_1c5f_11ed_b4f6_ac1f6b2cd28arow14_col4\" class=\"data row14 col4\" >0.866609</td>\n",
       "                        <td id=\"T_a834bbb6_1c5f_11ed_b4f6_ac1f6b2cd28arow14_col5\" class=\"data row14 col5\" >0.005640</td>\n",
       "                        <td id=\"T_a834bbb6_1c5f_11ed_b4f6_ac1f6b2cd28arow14_col6\" class=\"data row14 col6\" >0.862377</td>\n",
       "                        <td id=\"T_a834bbb6_1c5f_11ed_b4f6_ac1f6b2cd28arow14_col7\" class=\"data row14 col7\" >0.831383</td>\n",
       "                        <td id=\"T_a834bbb6_1c5f_11ed_b4f6_ac1f6b2cd28arow14_col8\" class=\"data row14 col8\" >0.787677</td>\n",
       "                        <td id=\"T_a834bbb6_1c5f_11ed_b4f6_ac1f6b2cd28arow14_col9\" class=\"data row14 col9\" >0.780007</td>\n",
       "            </tr>\n",
       "            <tr>\n",
       "                        <th id=\"T_a834bbb6_1c5f_11ed_b4f6_ac1f6b2cd28alevel0_row15\" class=\"row_heading level0 row15\" >als</th>\n",
       "                        <td id=\"T_a834bbb6_1c5f_11ed_b4f6_ac1f6b2cd28arow15_col0\" class=\"data row15 col0\" >0.000000</td>\n",
       "                        <td id=\"T_a834bbb6_1c5f_11ed_b4f6_ac1f6b2cd28arow15_col1\" class=\"data row15 col1\" >0.043779</td>\n",
       "                        <td id=\"T_a834bbb6_1c5f_11ed_b4f6_ac1f6b2cd28arow15_col2\" class=\"data row15 col2\" >0.000000</td>\n",
       "                        <td id=\"T_a834bbb6_1c5f_11ed_b4f6_ac1f6b2cd28arow15_col3\" class=\"data row15 col3\" >0.123962</td>\n",
       "                        <td id=\"T_a834bbb6_1c5f_11ed_b4f6_ac1f6b2cd28arow15_col4\" class=\"data row15 col4\" >0.000000</td>\n",
       "                        <td id=\"T_a834bbb6_1c5f_11ed_b4f6_ac1f6b2cd28arow15_col5\" class=\"data row15 col5\" >0.045665</td>\n",
       "                        <td id=\"T_a834bbb6_1c5f_11ed_b4f6_ac1f6b2cd28arow15_col6\" class=\"data row15 col6\" >0.020070</td>\n",
       "                        <td id=\"T_a834bbb6_1c5f_11ed_b4f6_ac1f6b2cd28arow15_col7\" class=\"data row15 col7\" >0.026199</td>\n",
       "                        <td id=\"T_a834bbb6_1c5f_11ed_b4f6_ac1f6b2cd28arow15_col8\" class=\"data row15 col8\" >0.526738</td>\n",
       "                        <td id=\"T_a834bbb6_1c5f_11ed_b4f6_ac1f6b2cd28arow15_col9\" class=\"data row15 col9\" >0.572649</td>\n",
       "            </tr>\n",
       "            <tr>\n",
       "                        <th id=\"T_a834bbb6_1c5f_11ed_b4f6_ac1f6b2cd28alevel0_row16\" class=\"row_heading level0 row16\" >als_filtered</th>\n",
       "                        <td id=\"T_a834bbb6_1c5f_11ed_b4f6_ac1f6b2cd28arow16_col0\" class=\"data row16 col0\" >0.000000</td>\n",
       "                        <td id=\"T_a834bbb6_1c5f_11ed_b4f6_ac1f6b2cd28arow16_col1\" class=\"data row16 col1\" >0.043949</td>\n",
       "                        <td id=\"T_a834bbb6_1c5f_11ed_b4f6_ac1f6b2cd28arow16_col2\" class=\"data row16 col2\" >0.000000</td>\n",
       "                        <td id=\"T_a834bbb6_1c5f_11ed_b4f6_ac1f6b2cd28arow16_col3\" class=\"data row16 col3\" >0.123822</td>\n",
       "                        <td id=\"T_a834bbb6_1c5f_11ed_b4f6_ac1f6b2cd28arow16_col4\" class=\"data row16 col4\" >0.000000</td>\n",
       "                        <td id=\"T_a834bbb6_1c5f_11ed_b4f6_ac1f6b2cd28arow16_col5\" class=\"data row16 col5\" >0.045782</td>\n",
       "                        <td id=\"T_a834bbb6_1c5f_11ed_b4f6_ac1f6b2cd28arow16_col6\" class=\"data row16 col6\" >0.020032</td>\n",
       "                        <td id=\"T_a834bbb6_1c5f_11ed_b4f6_ac1f6b2cd28arow16_col7\" class=\"data row16 col7\" >0.025897</td>\n",
       "                        <td id=\"T_a834bbb6_1c5f_11ed_b4f6_ac1f6b2cd28arow16_col8\" class=\"data row16 col8\" >0.527179</td>\n",
       "                        <td id=\"T_a834bbb6_1c5f_11ed_b4f6_ac1f6b2cd28arow16_col9\" class=\"data row16 col9\" >0.573173</td>\n",
       "            </tr>\n",
       "            <tr>\n",
       "                        <th id=\"T_a834bbb6_1c5f_11ed_b4f6_ac1f6b2cd28alevel0_row17\" class=\"row_heading level0 row17\" >light_feature_importance_0</th>\n",
       "                        <td id=\"T_a834bbb6_1c5f_11ed_b4f6_ac1f6b2cd28arow17_col0\" class=\"data row17 col0\" >0.064190</td>\n",
       "                        <td id=\"T_a834bbb6_1c5f_11ed_b4f6_ac1f6b2cd28arow17_col1\" class=\"data row17 col1\" >0.036794</td>\n",
       "                        <td id=\"T_a834bbb6_1c5f_11ed_b4f6_ac1f6b2cd28arow17_col2\" class=\"data row17 col2\" >0.218288</td>\n",
       "                        <td id=\"T_a834bbb6_1c5f_11ed_b4f6_ac1f6b2cd28arow17_col3\" class=\"data row17 col3\" >0.104560</td>\n",
       "                        <td id=\"T_a834bbb6_1c5f_11ed_b4f6_ac1f6b2cd28arow17_col4\" class=\"data row17 col4\" >0.088673</td>\n",
       "                        <td id=\"T_a834bbb6_1c5f_11ed_b4f6_ac1f6b2cd28arow17_col5\" class=\"data row17 col5\" >0.036024</td>\n",
       "                        <td id=\"T_a834bbb6_1c5f_11ed_b4f6_ac1f6b2cd28arow17_col6\" class=\"data row17 col6\" >0.000555</td>\n",
       "                        <td id=\"T_a834bbb6_1c5f_11ed_b4f6_ac1f6b2cd28arow17_col7\" class=\"data row17 col7\" >0.000730</td>\n",
       "                        <td id=\"T_a834bbb6_1c5f_11ed_b4f6_ac1f6b2cd28arow17_col8\" class=\"data row17 col8\" >0.388308</td>\n",
       "                        <td id=\"T_a834bbb6_1c5f_11ed_b4f6_ac1f6b2cd28arow17_col9\" class=\"data row17 col9\" >0.440942</td>\n",
       "            </tr>\n",
       "            <tr>\n",
       "                        <th id=\"T_a834bbb6_1c5f_11ed_b4f6_ac1f6b2cd28alevel0_row18\" class=\"row_heading level0 row18\" >light_feature_importance_0.1</th>\n",
       "                        <td id=\"T_a834bbb6_1c5f_11ed_b4f6_ac1f6b2cd28arow18_col0\" class=\"data row18 col0\" >0.000023</td>\n",
       "                        <td id=\"T_a834bbb6_1c5f_11ed_b4f6_ac1f6b2cd28arow18_col1\" class=\"data row18 col1\" >0.000000</td>\n",
       "                        <td id=\"T_a834bbb6_1c5f_11ed_b4f6_ac1f6b2cd28arow18_col2\" class=\"data row18 col2\" >0.000351</td>\n",
       "                        <td id=\"T_a834bbb6_1c5f_11ed_b4f6_ac1f6b2cd28arow18_col3\" class=\"data row18 col3\" >0.000008</td>\n",
       "                        <td id=\"T_a834bbb6_1c5f_11ed_b4f6_ac1f6b2cd28arow18_col4\" class=\"data row18 col4\" >0.000032</td>\n",
       "                        <td id=\"T_a834bbb6_1c5f_11ed_b4f6_ac1f6b2cd28arow18_col5\" class=\"data row18 col5\" >0.000000</td>\n",
       "                        <td id=\"T_a834bbb6_1c5f_11ed_b4f6_ac1f6b2cd28arow18_col6\" class=\"data row18 col6\" >0.000899</td>\n",
       "                        <td id=\"T_a834bbb6_1c5f_11ed_b4f6_ac1f6b2cd28arow18_col7\" class=\"data row18 col7\" >0.000302</td>\n",
       "                        <td id=\"T_a834bbb6_1c5f_11ed_b4f6_ac1f6b2cd28arow18_col8\" class=\"data row18 col8\" >0.250269</td>\n",
       "                        <td id=\"T_a834bbb6_1c5f_11ed_b4f6_ac1f6b2cd28arow18_col9\" class=\"data row18 col9\" >0.044000</td>\n",
       "            </tr>\n",
       "            <tr>\n",
       "                        <th id=\"T_a834bbb6_1c5f_11ed_b4f6_ac1f6b2cd28alevel0_row19\" class=\"row_heading level0 row19\" >light_feature_importance_0.25</th>\n",
       "                        <td id=\"T_a834bbb6_1c5f_11ed_b4f6_ac1f6b2cd28arow19_col0\" class=\"data row19 col0\" >0.000007</td>\n",
       "                        <td id=\"T_a834bbb6_1c5f_11ed_b4f6_ac1f6b2cd28arow19_col1\" class=\"data row19 col1\" >0.000000</td>\n",
       "                        <td id=\"T_a834bbb6_1c5f_11ed_b4f6_ac1f6b2cd28arow19_col2\" class=\"data row19 col2\" >0.000042</td>\n",
       "                        <td id=\"T_a834bbb6_1c5f_11ed_b4f6_ac1f6b2cd28arow19_col3\" class=\"data row19 col3\" >0.000000</td>\n",
       "                        <td id=\"T_a834bbb6_1c5f_11ed_b4f6_ac1f6b2cd28arow19_col4\" class=\"data row19 col4\" >0.000011</td>\n",
       "                        <td id=\"T_a834bbb6_1c5f_11ed_b4f6_ac1f6b2cd28arow19_col5\" class=\"data row19 col5\" >0.000000</td>\n",
       "                        <td id=\"T_a834bbb6_1c5f_11ed_b4f6_ac1f6b2cd28arow19_col6\" class=\"data row19 col6\" >0.000784</td>\n",
       "                        <td id=\"T_a834bbb6_1c5f_11ed_b4f6_ac1f6b2cd28arow19_col7\" class=\"data row19 col7\" >0.000277</td>\n",
       "                        <td id=\"T_a834bbb6_1c5f_11ed_b4f6_ac1f6b2cd28arow19_col8\" class=\"data row19 col8\" >0.527875</td>\n",
       "                        <td id=\"T_a834bbb6_1c5f_11ed_b4f6_ac1f6b2cd28arow19_col9\" class=\"data row19 col9\" >0.000466</td>\n",
       "            </tr>\n",
       "            <tr>\n",
       "                        <th id=\"T_a834bbb6_1c5f_11ed_b4f6_ac1f6b2cd28alevel0_row20\" class=\"row_heading level0 row20\" >light_feature_importance_0.5</th>\n",
       "                        <td id=\"T_a834bbb6_1c5f_11ed_b4f6_ac1f6b2cd28arow20_col0\" class=\"data row20 col0\" >0.000006</td>\n",
       "                        <td id=\"T_a834bbb6_1c5f_11ed_b4f6_ac1f6b2cd28arow20_col1\" class=\"data row20 col1\" >0.000002</td>\n",
       "                        <td id=\"T_a834bbb6_1c5f_11ed_b4f6_ac1f6b2cd28arow20_col2\" class=\"data row20 col2\" >0.000037</td>\n",
       "                        <td id=\"T_a834bbb6_1c5f_11ed_b4f6_ac1f6b2cd28arow20_col3\" class=\"data row20 col3\" >0.000005</td>\n",
       "                        <td id=\"T_a834bbb6_1c5f_11ed_b4f6_ac1f6b2cd28arow20_col4\" class=\"data row20 col4\" >0.000008</td>\n",
       "                        <td id=\"T_a834bbb6_1c5f_11ed_b4f6_ac1f6b2cd28arow20_col5\" class=\"data row20 col5\" >0.000001</td>\n",
       "                        <td id=\"T_a834bbb6_1c5f_11ed_b4f6_ac1f6b2cd28arow20_col6\" class=\"data row20 col6\" >0.000861</td>\n",
       "                        <td id=\"T_a834bbb6_1c5f_11ed_b4f6_ac1f6b2cd28arow20_col7\" class=\"data row20 col7\" >0.000302</td>\n",
       "                        <td id=\"T_a834bbb6_1c5f_11ed_b4f6_ac1f6b2cd28arow20_col8\" class=\"data row20 col8\" >0.108077</td>\n",
       "                        <td id=\"T_a834bbb6_1c5f_11ed_b4f6_ac1f6b2cd28arow20_col9\" class=\"data row20 col9\" >0.086165</td>\n",
       "            </tr>\n",
       "    </tbody></table>"
      ],
      "text/plain": [
       "<pandas.io.formats.style.Styler at 0x7ff8fb823710>"
      ]
     },
     "execution_count": 61,
     "metadata": {},
     "output_type": "execute_result"
    },
    {
     "data": {
      "application/javascript": [
       "\n",
       "            setTimeout(function() {\n",
       "                var nbb_cell_id = 61;\n",
       "                var nbb_unformatted_code = \"assessor.show_metrics(kind=\\\"table\\\")\";\n",
       "                var nbb_formatted_code = \"assessor.show_metrics(kind=\\\"table\\\")\";\n",
       "                var nbb_cells = Jupyter.notebook.get_cells();\n",
       "                for (var i = 0; i < nbb_cells.length; ++i) {\n",
       "                    if (nbb_cells[i].input_prompt_number == nbb_cell_id) {\n",
       "                        if (nbb_cells[i].get_text() == nbb_unformatted_code) {\n",
       "                             nbb_cells[i].set_text(nbb_formatted_code);\n",
       "                        }\n",
       "                        break;\n",
       "                    }\n",
       "                }\n",
       "            }, 500);\n",
       "            "
      ],
      "text/plain": [
       "<IPython.core.display.Javascript object>"
      ]
     },
     "metadata": {},
     "output_type": "display_data"
    }
   ],
   "source": [
    "assessor.show_metrics(kind=\"table\")"
   ]
  },
  {
   "cell_type": "markdown",
   "metadata": {},
   "source": [
    "**(1.0 балла) Задание 9.**\n",
    "\n",
    "   Посмотрим на все прошлые методы как на модели, которые генерируют нам кандидатов для ответа рекомендательной системы. \n",
    "   \n",
    "   Как нам выбрать те 20 организаций наилучшим образом? \n",
    "   \n",
    "   Давайте подключим машинное обучение. Сформулируем задачу ранжирования: запросом будет пользователь. Документами будут организации. Наивным признаковым описанием будет, например, факт рекомендации данной организации или скор/ранг от моделей SVD, ALS, LightFM.\n",
    "   Примените catboost/xgboost/lightgbm для создания переранжирования рекомендаций. То есть сделаем двухуровневую модель. Выясните наиболее важные признаки моделей первого уровня."
   ]
  },
  {
   "cell_type": "code",
   "execution_count": 299,
   "metadata": {
    "ExecuteTime": {
     "end_time": "2022-08-15T09:42:57.689442Z",
     "start_time": "2022-08-15T09:42:57.624448Z"
    }
   },
   "outputs": [
    {
     "data": {
      "application/javascript": [
       "\n",
       "            setTimeout(function() {\n",
       "                var nbb_cell_id = 299;\n",
       "                var nbb_unformatted_code = \"from catboost import Pool, CatBoostRanker\\n\\n@njit\\ndef jit_user_ranks(user_id, recommended_org_ids, relevance, k):\\n    unique_org_ids = np.unique(recommended_org_ids)\\n    org_id_map = dict()\\n    for i, org_id in enumerate(unique_org_ids):\\n        org_id_map[org_id] = i\\n\\n    rankings = np.full((len(unique_org_ids), len(recommended_org_ids) // k + 3), -1)\\n    rankings[:, 0] = user_id\\n    rankings[:, 1] = unique_org_ids\\n\\n    for i, (org_id, rel) in enumerate(zip(recommended_org_ids, relevance)):\\n        row_id = org_id_map[org_id]\\n        rankings[row_id, 2] = rel\\n        rankings[row_id, i // k + 3] = i % k\\n    return rankings\\n\\n\\n@njit\\ndef jit_rankings_per_user(user_ids, recommendations, relevance, k=20):\\n    rankings = []\\n    for user_id, rec, rel in zip(user_ids, recommendations, relevance):\\n        rankings.append(jit_user_ranks(user_id, rec, rel, k))\\n\\n    return rankings\\n\\n\\ndef recommendations_data_to_ranking(assessor, model_names):\\n    ranking_data = {}\\n    for dataset, metric in zip(\\n        [\\\"train\\\", \\\"val\\\"], [assessor.train_metrics, assessor.val_metrics]\\n    ):\\n        recommendations = []\\n        relevance = []\\n\\n        for model_name in model_names:\\n            recommendation = assessor.assessments[model_name][\\n                f\\\"{dataset}_recommendations\\\"\\n            ]\\n            recommendations.append(recommendation)\\n            relevance.append(\\n                metric.binary_relevance(\\n                    relevant_pairs=metric.relevant_pairs.values,\\n                    recommendee_user_ids=recommendation.index.to_numpy(),\\n                    recommended_org_ids=recommendation.values,\\n                )\\n            )\\n\\n        recommendations = pd.concat(recommendations, axis=\\\"columns\\\")\\n        relevance = np.hstack(relevance)\\n        rankings = jit_rankings_per_user(\\n            recommendations.index.to_numpy(), recommendations.values, relevance\\n        )\\n        rankings = np.vstack(rankings)\\n        rankings = pd.DataFrame(\\n            rankings, columns=[\\\"user_id\\\", \\\"org_id\\\", \\\"relevance\\\"] + model_names\\n        )\\n        ranking_data[dataset] = {\\\"pool\\\":Pool(\\n    data=rankings.drop([\\\"user_id\\\", \\\"org_id\\\", \\\"relevance\\\"],axis=\\\"columns\\\"),\\n    cat_features=model_names,\\n    label=rankings[\\\"relevance\\\"].values,\\n    group_id=rankings[\\\"user_id\\\"].values\\n),\\n                                             \\\"relevance\\\":rankings[[\\\"user_id\\\", \\\"org_id\\\", \\\"relevance\\\"]]}\\n\\n    return ranking_data\";\n",
       "                var nbb_formatted_code = \"from catboost import Pool, CatBoostRanker\\n\\n\\n@njit\\ndef jit_user_ranks(user_id, recommended_org_ids, relevance, k):\\n    unique_org_ids = np.unique(recommended_org_ids)\\n    org_id_map = dict()\\n    for i, org_id in enumerate(unique_org_ids):\\n        org_id_map[org_id] = i\\n\\n    rankings = np.full((len(unique_org_ids), len(recommended_org_ids) // k + 3), -1)\\n    rankings[:, 0] = user_id\\n    rankings[:, 1] = unique_org_ids\\n\\n    for i, (org_id, rel) in enumerate(zip(recommended_org_ids, relevance)):\\n        row_id = org_id_map[org_id]\\n        rankings[row_id, 2] = rel\\n        rankings[row_id, i // k + 3] = i % k\\n    return rankings\\n\\n\\n@njit\\ndef jit_rankings_per_user(user_ids, recommendations, relevance, k=20):\\n    rankings = []\\n    for user_id, rec, rel in zip(user_ids, recommendations, relevance):\\n        rankings.append(jit_user_ranks(user_id, rec, rel, k))\\n\\n    return rankings\\n\\n\\ndef recommendations_data_to_ranking(assessor, model_names):\\n    ranking_data = {}\\n    for dataset, metric in zip(\\n        [\\\"train\\\", \\\"val\\\"], [assessor.train_metrics, assessor.val_metrics]\\n    ):\\n        recommendations = []\\n        relevance = []\\n\\n        for model_name in model_names:\\n            recommendation = assessor.assessments[model_name][\\n                f\\\"{dataset}_recommendations\\\"\\n            ]\\n            recommendations.append(recommendation)\\n            relevance.append(\\n                metric.binary_relevance(\\n                    relevant_pairs=metric.relevant_pairs.values,\\n                    recommendee_user_ids=recommendation.index.to_numpy(),\\n                    recommended_org_ids=recommendation.values,\\n                )\\n            )\\n\\n        recommendations = pd.concat(recommendations, axis=\\\"columns\\\")\\n        relevance = np.hstack(relevance)\\n        rankings = jit_rankings_per_user(\\n            recommendations.index.to_numpy(), recommendations.values, relevance\\n        )\\n        rankings = np.vstack(rankings)\\n        rankings = pd.DataFrame(\\n            rankings, columns=[\\\"user_id\\\", \\\"org_id\\\", \\\"relevance\\\"] + model_names\\n        )\\n        ranking_data[dataset] = {\\n            \\\"pool\\\": Pool(\\n                data=rankings.drop([\\\"user_id\\\", \\\"org_id\\\", \\\"relevance\\\"], axis=\\\"columns\\\"),\\n                cat_features=model_names,\\n                label=rankings[\\\"relevance\\\"].values,\\n                group_id=rankings[\\\"user_id\\\"].values,\\n            ),\\n            \\\"relevance\\\": rankings[[\\\"user_id\\\", \\\"org_id\\\", \\\"relevance\\\"]],\\n        }\\n\\n    return ranking_data\";\n",
       "                var nbb_cells = Jupyter.notebook.get_cells();\n",
       "                for (var i = 0; i < nbb_cells.length; ++i) {\n",
       "                    if (nbb_cells[i].input_prompt_number == nbb_cell_id) {\n",
       "                        if (nbb_cells[i].get_text() == nbb_unformatted_code) {\n",
       "                             nbb_cells[i].set_text(nbb_formatted_code);\n",
       "                        }\n",
       "                        break;\n",
       "                    }\n",
       "                }\n",
       "            }, 500);\n",
       "            "
      ],
      "text/plain": [
       "<IPython.core.display.Javascript object>"
      ]
     },
     "metadata": {},
     "output_type": "display_data"
    }
   ],
   "source": [
    "from catboost import Pool, CatBoostRanker\n",
    "\n",
    "\n",
    "@njit\n",
    "def jit_user_ranks(user_id, recommended_org_ids, relevance, k):\n",
    "    unique_org_ids = np.unique(recommended_org_ids)\n",
    "    org_id_map = dict()\n",
    "    for i, org_id in enumerate(unique_org_ids):\n",
    "        org_id_map[org_id] = i\n",
    "\n",
    "    rankings = np.full((len(unique_org_ids), len(recommended_org_ids) // k + 3), -1)\n",
    "    rankings[:, 0] = user_id\n",
    "    rankings[:, 1] = unique_org_ids\n",
    "\n",
    "    for i, (org_id, rel) in enumerate(zip(recommended_org_ids, relevance)):\n",
    "        row_id = org_id_map[org_id]\n",
    "        rankings[row_id, 2] = rel\n",
    "        rankings[row_id, i // k + 3] = i % k\n",
    "    return rankings\n",
    "\n",
    "\n",
    "@njit\n",
    "def jit_rankings_per_user(user_ids, recommendations, relevance, k=20):\n",
    "    rankings = []\n",
    "    for user_id, rec, rel in zip(user_ids, recommendations, relevance):\n",
    "        rankings.append(jit_user_ranks(user_id, rec, rel, k))\n",
    "\n",
    "    return rankings\n",
    "\n",
    "\n",
    "def recommendations_data_to_ranking(assessor, model_names):\n",
    "    ranking_data = {}\n",
    "    for dataset, metric in zip(\n",
    "        [\"train\", \"val\"], [assessor.train_metrics, assessor.val_metrics]\n",
    "    ):\n",
    "        recommendations = []\n",
    "        relevance = []\n",
    "\n",
    "        for model_name in model_names:\n",
    "            recommendation = assessor.assessments[model_name][\n",
    "                f\"{dataset}_recommendations\"\n",
    "            ]\n",
    "            recommendations.append(recommendation)\n",
    "            relevance.append(\n",
    "                metric.binary_relevance(\n",
    "                    relevant_pairs=metric.relevant_pairs.values,\n",
    "                    recommendee_user_ids=recommendation.index.to_numpy(),\n",
    "                    recommended_org_ids=recommendation.values,\n",
    "                )\n",
    "            )\n",
    "\n",
    "        recommendations = pd.concat(recommendations, axis=\"columns\")\n",
    "        relevance = np.hstack(relevance)\n",
    "        rankings = jit_rankings_per_user(\n",
    "            recommendations.index.to_numpy(), recommendations.values, relevance\n",
    "        )\n",
    "        rankings = np.vstack(rankings)\n",
    "        rankings = pd.DataFrame(\n",
    "            rankings, columns=[\"user_id\", \"org_id\", \"relevance\"] + model_names\n",
    "        )\n",
    "        ranking_data[dataset] = {\n",
    "            \"pool\": Pool(\n",
    "                data=rankings.drop([\"user_id\", \"org_id\", \"relevance\"], axis=\"columns\"),\n",
    "                cat_features=model_names,\n",
    "                label=rankings[\"relevance\"].values,\n",
    "                group_id=rankings[\"user_id\"].values,\n",
    "            ),\n",
    "            \"relevance\": rankings[[\"user_id\", \"org_id\", \"relevance\"]],\n",
    "        }\n",
    "\n",
    "    return ranking_data"
   ]
  },
  {
   "cell_type": "code",
   "execution_count": 300,
   "metadata": {
    "ExecuteTime": {
     "end_time": "2022-08-15T09:44:53.510054Z",
     "start_time": "2022-08-15T09:43:06.284697Z"
    }
   },
   "outputs": [
    {
     "data": {
      "application/javascript": [
       "\n",
       "            setTimeout(function() {\n",
       "                var nbb_cell_id = 300;\n",
       "                var nbb_unformatted_code = \"ranking_data = recommendations_data_to_ranking(\\n    assessor,\\n    model_names=[\\n        \\\"bm25\\\",\\n        \\\"tfidf\\\",\\n        \\\"svd_10\\\",\\n        \\\"als_filtered\\\",\\n        \\\"light_feature_importance_0\\\",\\n    ],\\n)\";\n",
       "                var nbb_formatted_code = \"ranking_data = recommendations_data_to_ranking(\\n    assessor,\\n    model_names=[\\n        \\\"bm25\\\",\\n        \\\"tfidf\\\",\\n        \\\"svd_10\\\",\\n        \\\"als_filtered\\\",\\n        \\\"light_feature_importance_0\\\",\\n    ],\\n)\";\n",
       "                var nbb_cells = Jupyter.notebook.get_cells();\n",
       "                for (var i = 0; i < nbb_cells.length; ++i) {\n",
       "                    if (nbb_cells[i].input_prompt_number == nbb_cell_id) {\n",
       "                        if (nbb_cells[i].get_text() == nbb_unformatted_code) {\n",
       "                             nbb_cells[i].set_text(nbb_formatted_code);\n",
       "                        }\n",
       "                        break;\n",
       "                    }\n",
       "                }\n",
       "            }, 500);\n",
       "            "
      ],
      "text/plain": [
       "<IPython.core.display.Javascript object>"
      ]
     },
     "metadata": {},
     "output_type": "display_data"
    }
   ],
   "source": [
    "ranking_data = recommendations_data_to_ranking(\n",
    "    assessor,\n",
    "    model_names=[\n",
    "        \"bm25\",\n",
    "        \"tfidf\",\n",
    "        \"svd_10\",\n",
    "        \"als_filtered\",\n",
    "        \"light_feature_importance_0\",\n",
    "    ],\n",
    ")"
   ]
  },
  {
   "cell_type": "code",
   "execution_count": 369,
   "metadata": {
    "ExecuteTime": {
     "end_time": "2022-08-15T11:12:06.394111Z",
     "start_time": "2022-08-15T11:12:06.357352Z"
    }
   },
   "outputs": [
    {
     "data": {
      "application/javascript": [
       "\n",
       "            setTimeout(function() {\n",
       "                var nbb_cell_id = 369;\n",
       "                var nbb_unformatted_code = \"def assess_cb(assessor, ranking_data):\\n    cb_ranker = CatBoostRanker(task_type=\\\"GPU\\\", devices=\\\"1:2\\\")\\n    cb_ranker.fit(ranking_data[\\\"train\\\"][\\\"pool\\\"], verbose=False)\\n    cb_relevance = cb_ranker.predict(ranking_data[\\\"val\\\"][\\\"pool\\\"])\\n    \\n    cb_recommendations = pd.concat(\\n    [ranking_data[\\\"val\\\"][\\\"relevance\\\"], pd.Series(cb_relevance, name=\\\"cb_relevance\\\")],\\n    axis=\\\"columns\\\",\\n)\\n    cb_recommendations = cb_recommendations.groupby(\\\"user_id\\\").apply(\\n    lambda df: df.sort_values(\\\"cb_relevance\\\", ascending=False)[\\\"org_id\\\"]\\n    .iloc[:20]\\n    .values\\n)\\n    cb_recommendations = pd.DataFrame(np.stack(cb_recommendations.values), cb_recommendations.index)\\n    cb_val_metrics = assessor.val_metrics.calculate_metrics(cb_recommendations).rename(\\\"catboost\\\")\\n    metrics = pd.concat(\\n    [i[\\\"val_metrics\\\"] for i in assessor.assessments.values()] + [cb_val_metrics],\\n    axis=\\\"columns\\\",\\n)\\n    return cb_ranker, metrics\";\n",
       "                var nbb_formatted_code = \"def assess_cb(assessor, ranking_data):\\n    cb_ranker = CatBoostRanker(task_type=\\\"GPU\\\", devices=\\\"1:2\\\")\\n    cb_ranker.fit(ranking_data[\\\"train\\\"][\\\"pool\\\"], verbose=False)\\n    cb_relevance = cb_ranker.predict(ranking_data[\\\"val\\\"][\\\"pool\\\"])\\n\\n    cb_recommendations = pd.concat(\\n        [\\n            ranking_data[\\\"val\\\"][\\\"relevance\\\"],\\n            pd.Series(cb_relevance, name=\\\"cb_relevance\\\"),\\n        ],\\n        axis=\\\"columns\\\",\\n    )\\n    cb_recommendations = cb_recommendations.groupby(\\\"user_id\\\").apply(\\n        lambda df: df.sort_values(\\\"cb_relevance\\\", ascending=False)[\\\"org_id\\\"]\\n        .iloc[:20]\\n        .values\\n    )\\n    cb_recommendations = pd.DataFrame(\\n        np.stack(cb_recommendations.values), cb_recommendations.index\\n    )\\n    cb_val_metrics = assessor.val_metrics.calculate_metrics(cb_recommendations).rename(\\n        \\\"catboost\\\"\\n    )\\n    metrics = pd.concat(\\n        [i[\\\"val_metrics\\\"] for i in assessor.assessments.values()] + [cb_val_metrics],\\n        axis=\\\"columns\\\",\\n    )\\n    return cb_ranker, metrics\";\n",
       "                var nbb_cells = Jupyter.notebook.get_cells();\n",
       "                for (var i = 0; i < nbb_cells.length; ++i) {\n",
       "                    if (nbb_cells[i].input_prompt_number == nbb_cell_id) {\n",
       "                        if (nbb_cells[i].get_text() == nbb_unformatted_code) {\n",
       "                             nbb_cells[i].set_text(nbb_formatted_code);\n",
       "                        }\n",
       "                        break;\n",
       "                    }\n",
       "                }\n",
       "            }, 500);\n",
       "            "
      ],
      "text/plain": [
       "<IPython.core.display.Javascript object>"
      ]
     },
     "metadata": {},
     "output_type": "display_data"
    }
   ],
   "source": [
    "def assess_cb(assessor, ranking_data):\n",
    "    cb_ranker = CatBoostRanker(task_type=\"GPU\", devices=\"1:2\")\n",
    "    cb_ranker.fit(ranking_data[\"train\"][\"pool\"], verbose=False)\n",
    "    cb_relevance = cb_ranker.predict(ranking_data[\"val\"][\"pool\"])\n",
    "\n",
    "    cb_recommendations = pd.concat(\n",
    "        [\n",
    "            ranking_data[\"val\"][\"relevance\"],\n",
    "            pd.Series(cb_relevance, name=\"cb_relevance\"),\n",
    "        ],\n",
    "        axis=\"columns\",\n",
    "    )\n",
    "    cb_recommendations = cb_recommendations.groupby(\"user_id\").apply(\n",
    "        lambda df: df.sort_values(\"cb_relevance\", ascending=False)[\"org_id\"]\n",
    "        .iloc[:20]\n",
    "        .values\n",
    "    )\n",
    "    cb_recommendations = pd.DataFrame(\n",
    "        np.stack(cb_recommendations.values), cb_recommendations.index\n",
    "    )\n",
    "    cb_val_metrics = assessor.val_metrics.calculate_metrics(cb_recommendations).rename(\n",
    "        \"catboost\"\n",
    "    )\n",
    "    metrics = pd.concat(\n",
    "        [i[\"val_metrics\"] for i in assessor.assessments.values()] + [cb_val_metrics],\n",
    "        axis=\"columns\",\n",
    "    )\n",
    "    return cb_ranker, metrics"
   ]
  },
  {
   "cell_type": "code",
   "execution_count": null,
   "metadata": {},
   "outputs": [],
   "source": [
    "cb_ranker, metrics = assess_cb(assessor, ranking_data)"
   ]
  },
  {
   "cell_type": "code",
   "execution_count": 349,
   "metadata": {
    "ExecuteTime": {
     "end_time": "2022-08-15T10:54:50.932485Z",
     "start_time": "2022-08-15T10:54:50.886117Z"
    }
   },
   "outputs": [
    {
     "data": {
      "text/html": [
       "<style  type=\"text/css\" >\n",
       "#T_afd080d4_1c88_11ed_b4f6_ac1f6b2cd28arow0_col0,#T_afd080d4_1c88_11ed_b4f6_ac1f6b2cd28arow0_col1,#T_afd080d4_1c88_11ed_b4f6_ac1f6b2cd28arow0_col2,#T_afd080d4_1c88_11ed_b4f6_ac1f6b2cd28arow1_col3,#T_afd080d4_1c88_11ed_b4f6_ac1f6b2cd28arow17_col3,#T_afd080d4_1c88_11ed_b4f6_ac1f6b2cd28arow18_col0,#T_afd080d4_1c88_11ed_b4f6_ac1f6b2cd28arow18_col1,#T_afd080d4_1c88_11ed_b4f6_ac1f6b2cd28arow18_col2,#T_afd080d4_1c88_11ed_b4f6_ac1f6b2cd28arow18_col3,#T_afd080d4_1c88_11ed_b4f6_ac1f6b2cd28arow19_col0,#T_afd080d4_1c88_11ed_b4f6_ac1f6b2cd28arow19_col1,#T_afd080d4_1c88_11ed_b4f6_ac1f6b2cd28arow19_col2,#T_afd080d4_1c88_11ed_b4f6_ac1f6b2cd28arow19_col4,#T_afd080d4_1c88_11ed_b4f6_ac1f6b2cd28arow20_col0,#T_afd080d4_1c88_11ed_b4f6_ac1f6b2cd28arow20_col1,#T_afd080d4_1c88_11ed_b4f6_ac1f6b2cd28arow20_col2,#T_afd080d4_1c88_11ed_b4f6_ac1f6b2cd28arow20_col3{\n",
       "            background-color:  #8db0fe;\n",
       "            color:  #000000;\n",
       "        }#T_afd080d4_1c88_11ed_b4f6_ac1f6b2cd28arow0_col3,#T_afd080d4_1c88_11ed_b4f6_ac1f6b2cd28arow15_col0,#T_afd080d4_1c88_11ed_b4f6_ac1f6b2cd28arow15_col2{\n",
       "            background-color:  #f49a7b;\n",
       "            color:  #000000;\n",
       "        }#T_afd080d4_1c88_11ed_b4f6_ac1f6b2cd28arow0_col4,#T_afd080d4_1c88_11ed_b4f6_ac1f6b2cd28arow8_col4,#T_afd080d4_1c88_11ed_b4f6_ac1f6b2cd28arow15_col4{\n",
       "            background-color:  #f3c7b1;\n",
       "            color:  #000000;\n",
       "        }#T_afd080d4_1c88_11ed_b4f6_ac1f6b2cd28arow1_col0{\n",
       "            background-color:  #9bbcff;\n",
       "            color:  #000000;\n",
       "        }#T_afd080d4_1c88_11ed_b4f6_ac1f6b2cd28arow1_col1{\n",
       "            background-color:  #98b9ff;\n",
       "            color:  #000000;\n",
       "        }#T_afd080d4_1c88_11ed_b4f6_ac1f6b2cd28arow1_col2,#T_afd080d4_1c88_11ed_b4f6_ac1f6b2cd28arow10_col3{\n",
       "            background-color:  #9ebeff;\n",
       "            color:  #000000;\n",
       "        }#T_afd080d4_1c88_11ed_b4f6_ac1f6b2cd28arow1_col4{\n",
       "            background-color:  #ebd3c6;\n",
       "            color:  #000000;\n",
       "        }#T_afd080d4_1c88_11ed_b4f6_ac1f6b2cd28arow2_col0{\n",
       "            background-color:  #c7d7f0;\n",
       "            color:  #000000;\n",
       "        }#T_afd080d4_1c88_11ed_b4f6_ac1f6b2cd28arow2_col1,#T_afd080d4_1c88_11ed_b4f6_ac1f6b2cd28arow17_col1,#T_afd080d4_1c88_11ed_b4f6_ac1f6b2cd28arow21_col1{\n",
       "            background-color:  #f5c2aa;\n",
       "            color:  #000000;\n",
       "        }#T_afd080d4_1c88_11ed_b4f6_ac1f6b2cd28arow2_col2{\n",
       "            background-color:  #bfd3f6;\n",
       "            color:  #000000;\n",
       "        }#T_afd080d4_1c88_11ed_b4f6_ac1f6b2cd28arow2_col3,#T_afd080d4_1c88_11ed_b4f6_ac1f6b2cd28arow4_col3{\n",
       "            background-color:  #f59c7d;\n",
       "            color:  #000000;\n",
       "        }#T_afd080d4_1c88_11ed_b4f6_ac1f6b2cd28arow2_col4,#T_afd080d4_1c88_11ed_b4f6_ac1f6b2cd28arow4_col4{\n",
       "            background-color:  #edd2c3;\n",
       "            color:  #000000;\n",
       "        }#T_afd080d4_1c88_11ed_b4f6_ac1f6b2cd28arow3_col0,#T_afd080d4_1c88_11ed_b4f6_ac1f6b2cd28arow10_col2{\n",
       "            background-color:  #d2dbe8;\n",
       "            color:  #000000;\n",
       "        }#T_afd080d4_1c88_11ed_b4f6_ac1f6b2cd28arow3_col1,#T_afd080d4_1c88_11ed_b4f6_ac1f6b2cd28arow14_col4,#T_afd080d4_1c88_11ed_b4f6_ac1f6b2cd28arow16_col0,#T_afd080d4_1c88_11ed_b4f6_ac1f6b2cd28arow16_col2{\n",
       "            background-color:  #f4987a;\n",
       "            color:  #000000;\n",
       "        }#T_afd080d4_1c88_11ed_b4f6_ac1f6b2cd28arow3_col2{\n",
       "            background-color:  #cbd8ee;\n",
       "            color:  #000000;\n",
       "        }#T_afd080d4_1c88_11ed_b4f6_ac1f6b2cd28arow3_col3,#T_afd080d4_1c88_11ed_b4f6_ac1f6b2cd28arow13_col4{\n",
       "            background-color:  #f59f80;\n",
       "            color:  #000000;\n",
       "        }#T_afd080d4_1c88_11ed_b4f6_ac1f6b2cd28arow3_col4{\n",
       "            background-color:  #f6a586;\n",
       "            color:  #000000;\n",
       "        }#T_afd080d4_1c88_11ed_b4f6_ac1f6b2cd28arow4_col0,#T_afd080d4_1c88_11ed_b4f6_ac1f6b2cd28arow12_col3{\n",
       "            background-color:  #c4d5f3;\n",
       "            color:  #000000;\n",
       "        }#T_afd080d4_1c88_11ed_b4f6_ac1f6b2cd28arow4_col1{\n",
       "            background-color:  #f2cab5;\n",
       "            color:  #000000;\n",
       "        }#T_afd080d4_1c88_11ed_b4f6_ac1f6b2cd28arow4_col2{\n",
       "            background-color:  #bcd2f7;\n",
       "            color:  #000000;\n",
       "        }#T_afd080d4_1c88_11ed_b4f6_ac1f6b2cd28arow5_col0{\n",
       "            background-color:  #f7a688;\n",
       "            color:  #000000;\n",
       "        }#T_afd080d4_1c88_11ed_b4f6_ac1f6b2cd28arow5_col1{\n",
       "            background-color:  #f7b194;\n",
       "            color:  #000000;\n",
       "        }#T_afd080d4_1c88_11ed_b4f6_ac1f6b2cd28arow5_col2{\n",
       "            background-color:  #f7b396;\n",
       "            color:  #000000;\n",
       "        }#T_afd080d4_1c88_11ed_b4f6_ac1f6b2cd28arow5_col3,#T_afd080d4_1c88_11ed_b4f6_ac1f6b2cd28arow6_col3{\n",
       "            background-color:  #8fb1fe;\n",
       "            color:  #000000;\n",
       "        }#T_afd080d4_1c88_11ed_b4f6_ac1f6b2cd28arow5_col4,#T_afd080d4_1c88_11ed_b4f6_ac1f6b2cd28arow7_col0{\n",
       "            background-color:  #ead4c8;\n",
       "            color:  #000000;\n",
       "        }#T_afd080d4_1c88_11ed_b4f6_ac1f6b2cd28arow6_col0{\n",
       "            background-color:  #f7b99e;\n",
       "            color:  #000000;\n",
       "        }#T_afd080d4_1c88_11ed_b4f6_ac1f6b2cd28arow6_col1,#T_afd080d4_1c88_11ed_b4f6_ac1f6b2cd28arow17_col0{\n",
       "            background-color:  #f7b79b;\n",
       "            color:  #000000;\n",
       "        }#T_afd080d4_1c88_11ed_b4f6_ac1f6b2cd28arow6_col2,#T_afd080d4_1c88_11ed_b4f6_ac1f6b2cd28arow16_col4{\n",
       "            background-color:  #f4c6af;\n",
       "            color:  #000000;\n",
       "        }#T_afd080d4_1c88_11ed_b4f6_ac1f6b2cd28arow6_col4{\n",
       "            background-color:  #ecd3c5;\n",
       "            color:  #000000;\n",
       "        }#T_afd080d4_1c88_11ed_b4f6_ac1f6b2cd28arow7_col1,#T_afd080d4_1c88_11ed_b4f6_ac1f6b2cd28arow21_col4{\n",
       "            background-color:  #eed0c0;\n",
       "            color:  #000000;\n",
       "        }#T_afd080d4_1c88_11ed_b4f6_ac1f6b2cd28arow7_col2{\n",
       "            background-color:  #e2dad5;\n",
       "            color:  #000000;\n",
       "        }#T_afd080d4_1c88_11ed_b4f6_ac1f6b2cd28arow7_col3{\n",
       "            background-color:  #90b2fe;\n",
       "            color:  #000000;\n",
       "        }#T_afd080d4_1c88_11ed_b4f6_ac1f6b2cd28arow7_col4{\n",
       "            background-color:  #f1ccb8;\n",
       "            color:  #000000;\n",
       "        }#T_afd080d4_1c88_11ed_b4f6_ac1f6b2cd28arow8_col0,#T_afd080d4_1c88_11ed_b4f6_ac1f6b2cd28arow9_col1{\n",
       "            background-color:  #e3d9d3;\n",
       "            color:  #000000;\n",
       "        }#T_afd080d4_1c88_11ed_b4f6_ac1f6b2cd28arow8_col1{\n",
       "            background-color:  #e7d7ce;\n",
       "            color:  #000000;\n",
       "        }#T_afd080d4_1c88_11ed_b4f6_ac1f6b2cd28arow8_col2{\n",
       "            background-color:  #dbdcde;\n",
       "            color:  #000000;\n",
       "        }#T_afd080d4_1c88_11ed_b4f6_ac1f6b2cd28arow8_col3,#T_afd080d4_1c88_11ed_b4f6_ac1f6b2cd28arow15_col3,#T_afd080d4_1c88_11ed_b4f6_ac1f6b2cd28arow16_col3{\n",
       "            background-color:  #92b4fe;\n",
       "            color:  #000000;\n",
       "        }#T_afd080d4_1c88_11ed_b4f6_ac1f6b2cd28arow9_col0{\n",
       "            background-color:  #dfdbd9;\n",
       "            color:  #000000;\n",
       "        }#T_afd080d4_1c88_11ed_b4f6_ac1f6b2cd28arow9_col2{\n",
       "            background-color:  #d7dce3;\n",
       "            color:  #000000;\n",
       "        }#T_afd080d4_1c88_11ed_b4f6_ac1f6b2cd28arow9_col3{\n",
       "            background-color:  #96b7ff;\n",
       "            color:  #000000;\n",
       "        }#T_afd080d4_1c88_11ed_b4f6_ac1f6b2cd28arow9_col4{\n",
       "            background-color:  #f5c1a9;\n",
       "            color:  #000000;\n",
       "        }#T_afd080d4_1c88_11ed_b4f6_ac1f6b2cd28arow10_col0{\n",
       "            background-color:  #dcdddd;\n",
       "            color:  #000000;\n",
       "        }#T_afd080d4_1c88_11ed_b4f6_ac1f6b2cd28arow10_col1{\n",
       "            background-color:  #e1dad6;\n",
       "            color:  #000000;\n",
       "        }#T_afd080d4_1c88_11ed_b4f6_ac1f6b2cd28arow10_col4{\n",
       "            background-color:  #f7bca1;\n",
       "            color:  #000000;\n",
       "        }#T_afd080d4_1c88_11ed_b4f6_ac1f6b2cd28arow11_col0{\n",
       "            background-color:  #d6dce4;\n",
       "            color:  #000000;\n",
       "        }#T_afd080d4_1c88_11ed_b4f6_ac1f6b2cd28arow11_col1{\n",
       "            background-color:  #dddcdc;\n",
       "            color:  #000000;\n",
       "        }#T_afd080d4_1c88_11ed_b4f6_ac1f6b2cd28arow11_col2{\n",
       "            background-color:  #c9d7f0;\n",
       "            color:  #000000;\n",
       "        }#T_afd080d4_1c88_11ed_b4f6_ac1f6b2cd28arow11_col3{\n",
       "            background-color:  #abc8fd;\n",
       "            color:  #000000;\n",
       "        }#T_afd080d4_1c88_11ed_b4f6_ac1f6b2cd28arow11_col4{\n",
       "            background-color:  #f7b497;\n",
       "            color:  #000000;\n",
       "        }#T_afd080d4_1c88_11ed_b4f6_ac1f6b2cd28arow12_col0{\n",
       "            background-color:  #cdd9ec;\n",
       "            color:  #000000;\n",
       "        }#T_afd080d4_1c88_11ed_b4f6_ac1f6b2cd28arow12_col1{\n",
       "            background-color:  #d5dbe5;\n",
       "            color:  #000000;\n",
       "        }#T_afd080d4_1c88_11ed_b4f6_ac1f6b2cd28arow12_col2,#T_afd080d4_1c88_11ed_b4f6_ac1f6b2cd28arow13_col0{\n",
       "            background-color:  #c0d4f5;\n",
       "            color:  #000000;\n",
       "        }#T_afd080d4_1c88_11ed_b4f6_ac1f6b2cd28arow12_col4,#T_afd080d4_1c88_11ed_b4f6_ac1f6b2cd28arow14_col3{\n",
       "            background-color:  #f7aa8c;\n",
       "            color:  #000000;\n",
       "        }#T_afd080d4_1c88_11ed_b4f6_ac1f6b2cd28arow13_col1{\n",
       "            background-color:  #c6d6f1;\n",
       "            color:  #000000;\n",
       "        }#T_afd080d4_1c88_11ed_b4f6_ac1f6b2cd28arow13_col2{\n",
       "            background-color:  #b3cdfb;\n",
       "            color:  #000000;\n",
       "        }#T_afd080d4_1c88_11ed_b4f6_ac1f6b2cd28arow13_col3{\n",
       "            background-color:  #efcfbf;\n",
       "            color:  #000000;\n",
       "        }#T_afd080d4_1c88_11ed_b4f6_ac1f6b2cd28arow14_col0{\n",
       "            background-color:  #aac7fd;\n",
       "            color:  #000000;\n",
       "        }#T_afd080d4_1c88_11ed_b4f6_ac1f6b2cd28arow14_col1{\n",
       "            background-color:  #aec9fc;\n",
       "            color:  #000000;\n",
       "        }#T_afd080d4_1c88_11ed_b4f6_ac1f6b2cd28arow14_col2{\n",
       "            background-color:  #a2c1ff;\n",
       "            color:  #000000;\n",
       "        }#T_afd080d4_1c88_11ed_b4f6_ac1f6b2cd28arow15_col1,#T_afd080d4_1c88_11ed_b4f6_ac1f6b2cd28arow16_col1,#T_afd080d4_1c88_11ed_b4f6_ac1f6b2cd28arow21_col2{\n",
       "            background-color:  #f7ac8e;\n",
       "            color:  #000000;\n",
       "        }#T_afd080d4_1c88_11ed_b4f6_ac1f6b2cd28arow17_col2{\n",
       "            background-color:  #f6bfa6;\n",
       "            color:  #000000;\n",
       "        }#T_afd080d4_1c88_11ed_b4f6_ac1f6b2cd28arow17_col4{\n",
       "            background-color:  #e5d8d1;\n",
       "            color:  #000000;\n",
       "        }#T_afd080d4_1c88_11ed_b4f6_ac1f6b2cd28arow18_col4{\n",
       "            background-color:  #97b8ff;\n",
       "            color:  #000000;\n",
       "        }#T_afd080d4_1c88_11ed_b4f6_ac1f6b2cd28arow19_col3{\n",
       "            background-color:  #8caffe;\n",
       "            color:  #000000;\n",
       "        }#T_afd080d4_1c88_11ed_b4f6_ac1f6b2cd28arow20_col4{\n",
       "            background-color:  #a1c0ff;\n",
       "            color:  #000000;\n",
       "        }#T_afd080d4_1c88_11ed_b4f6_ac1f6b2cd28arow21_col0{\n",
       "            background-color:  #f6bea4;\n",
       "            color:  #000000;\n",
       "        }#T_afd080d4_1c88_11ed_b4f6_ac1f6b2cd28arow21_col3{\n",
       "            background-color:  #f6a385;\n",
       "            color:  #000000;\n",
       "        }</style><table id=\"T_afd080d4_1c88_11ed_b4f6_ac1f6b2cd28a\" ><thead>    <tr>        <th class=\"blank level0\" ></th>        <th class=\"col_heading level0 col0\" >mnap</th>        <th class=\"col_heading level0 col1\" >hitrate</th>        <th class=\"col_heading level0 col2\" >mrr</th>        <th class=\"col_heading level0 col3\" >coverage</th>        <th class=\"col_heading level0 col4\" >surprisal</th>    </tr></thead><tbody>\n",
       "                <tr>\n",
       "                        <th id=\"T_afd080d4_1c88_11ed_b4f6_ac1f6b2cd28alevel0_row0\" class=\"row_heading level0 row0\" >random</th>\n",
       "                        <td id=\"T_afd080d4_1c88_11ed_b4f6_ac1f6b2cd28arow0_col0\" class=\"data row0 col0\" >0.000096</td>\n",
       "                        <td id=\"T_afd080d4_1c88_11ed_b4f6_ac1f6b2cd28arow0_col1\" class=\"data row0 col1\" >0.000581</td>\n",
       "                        <td id=\"T_afd080d4_1c88_11ed_b4f6_ac1f6b2cd28arow0_col2\" class=\"data row0 col2\" >0.000099</td>\n",
       "                        <td id=\"T_afd080d4_1c88_11ed_b4f6_ac1f6b2cd28arow0_col3\" class=\"data row0 col3\" >0.914483</td>\n",
       "                        <td id=\"T_afd080d4_1c88_11ed_b4f6_ac1f6b2cd28arow0_col4\" class=\"data row0 col4\" >0.569923</td>\n",
       "            </tr>\n",
       "            <tr>\n",
       "                        <th id=\"T_afd080d4_1c88_11ed_b4f6_ac1f6b2cd28alevel0_row1\" class=\"row_heading level0 row1\" >popular</th>\n",
       "                        <td id=\"T_afd080d4_1c88_11ed_b4f6_ac1f6b2cd28arow1_col0\" class=\"data row1 col0\" >0.003523</td>\n",
       "                        <td id=\"T_afd080d4_1c88_11ed_b4f6_ac1f6b2cd28arow1_col1\" class=\"data row1 col1\" >0.009424</td>\n",
       "                        <td id=\"T_afd080d4_1c88_11ed_b4f6_ac1f6b2cd28arow1_col2\" class=\"data row1 col2\" >0.004419</td>\n",
       "                        <td id=\"T_afd080d4_1c88_11ed_b4f6_ac1f6b2cd28arow1_col3\" class=\"data row1 col3\" >0.001007</td>\n",
       "                        <td id=\"T_afd080d4_1c88_11ed_b4f6_ac1f6b2cd28arow1_col4\" class=\"data row1 col4\" >0.483808</td>\n",
       "            </tr>\n",
       "            <tr>\n",
       "                        <th id=\"T_afd080d4_1c88_11ed_b4f6_ac1f6b2cd28alevel0_row2\" class=\"row_heading level0 row2\" >tfidf</th>\n",
       "                        <td id=\"T_afd080d4_1c88_11ed_b4f6_ac1f6b2cd28arow2_col0\" class=\"data row2 col0\" >0.015240</td>\n",
       "                        <td id=\"T_afd080d4_1c88_11ed_b4f6_ac1f6b2cd28arow2_col1\" class=\"data row2 col1\" >0.104690</td>\n",
       "                        <td id=\"T_afd080d4_1c88_11ed_b4f6_ac1f6b2cd28arow2_col2\" class=\"data row2 col2\" >0.013479</td>\n",
       "                        <td id=\"T_afd080d4_1c88_11ed_b4f6_ac1f6b2cd28arow2_col3\" class=\"data row2 col3\" >0.905298</td>\n",
       "                        <td id=\"T_afd080d4_1c88_11ed_b4f6_ac1f6b2cd28arow2_col4\" class=\"data row2 col4\" >0.498584</td>\n",
       "            </tr>\n",
       "            <tr>\n",
       "                        <th id=\"T_afd080d4_1c88_11ed_b4f6_ac1f6b2cd28alevel0_row3\" class=\"row_heading level0 row3\" >bm25</th>\n",
       "                        <td id=\"T_afd080d4_1c88_11ed_b4f6_ac1f6b2cd28arow3_col0\" class=\"data row3 col0\" >0.018510</td>\n",
       "                        <td id=\"T_afd080d4_1c88_11ed_b4f6_ac1f6b2cd28arow3_col1\" class=\"data row3 col1\" >0.136852</td>\n",
       "                        <td id=\"T_afd080d4_1c88_11ed_b4f6_ac1f6b2cd28arow3_col2\" class=\"data row3 col2\" >0.017151</td>\n",
       "                        <td id=\"T_afd080d4_1c88_11ed_b4f6_ac1f6b2cd28arow3_col3\" class=\"data row3 col3\" >0.886322</td>\n",
       "                        <td id=\"T_afd080d4_1c88_11ed_b4f6_ac1f6b2cd28arow3_col4\" class=\"data row3 col4\" >0.731392</td>\n",
       "            </tr>\n",
       "            <tr>\n",
       "                        <th id=\"T_afd080d4_1c88_11ed_b4f6_ac1f6b2cd28alevel0_row4\" class=\"row_heading level0 row4\" >cosine</th>\n",
       "                        <td id=\"T_afd080d4_1c88_11ed_b4f6_ac1f6b2cd28arow4_col0\" class=\"data row4 col0\" >0.014197</td>\n",
       "                        <td id=\"T_afd080d4_1c88_11ed_b4f6_ac1f6b2cd28arow4_col1\" class=\"data row4 col1\" >0.096809</td>\n",
       "                        <td id=\"T_afd080d4_1c88_11ed_b4f6_ac1f6b2cd28arow4_col2\" class=\"data row4 col2\" >0.012577</td>\n",
       "                        <td id=\"T_afd080d4_1c88_11ed_b4f6_ac1f6b2cd28arow4_col3\" class=\"data row4 col3\" >0.900818</td>\n",
       "                        <td id=\"T_afd080d4_1c88_11ed_b4f6_ac1f6b2cd28arow4_col4\" class=\"data row4 col4\" >0.499409</td>\n",
       "            </tr>\n",
       "            <tr>\n",
       "                        <th id=\"T_afd080d4_1c88_11ed_b4f6_ac1f6b2cd28alevel0_row5\" class=\"row_heading level0 row5\" >svd_10</th>\n",
       "                        <td id=\"T_afd080d4_1c88_11ed_b4f6_ac1f6b2cd28arow5_col0\" class=\"data row5 col0\" >0.040916</td>\n",
       "                        <td id=\"T_afd080d4_1c88_11ed_b4f6_ac1f6b2cd28arow5_col1\" class=\"data row5 col1\" >0.119701</td>\n",
       "                        <td id=\"T_afd080d4_1c88_11ed_b4f6_ac1f6b2cd28arow5_col2\" class=\"data row5 col2\" >0.039528</td>\n",
       "                        <td id=\"T_afd080d4_1c88_11ed_b4f6_ac1f6b2cd28arow5_col3\" class=\"data row5 col3\" >0.008909</td>\n",
       "                        <td id=\"T_afd080d4_1c88_11ed_b4f6_ac1f6b2cd28arow5_col4\" class=\"data row5 col4\" >0.479104</td>\n",
       "            </tr>\n",
       "            <tr>\n",
       "                        <th id=\"T_afd080d4_1c88_11ed_b4f6_ac1f6b2cd28alevel0_row6\" class=\"row_heading level0 row6\" >svd_21</th>\n",
       "                        <td id=\"T_afd080d4_1c88_11ed_b4f6_ac1f6b2cd28arow6_col0\" class=\"data row6 col0\" >0.036116</td>\n",
       "                        <td id=\"T_afd080d4_1c88_11ed_b4f6_ac1f6b2cd28arow6_col1\" class=\"data row6 col1\" >0.114706</td>\n",
       "                        <td id=\"T_afd080d4_1c88_11ed_b4f6_ac1f6b2cd28arow6_col2\" class=\"data row6 col2\" >0.033937</td>\n",
       "                        <td id=\"T_afd080d4_1c88_11ed_b4f6_ac1f6b2cd28arow6_col3\" class=\"data row6 col3\" >0.009840</td>\n",
       "                        <td id=\"T_afd080d4_1c88_11ed_b4f6_ac1f6b2cd28arow6_col4\" class=\"data row6 col4\" >0.492667</td>\n",
       "            </tr>\n",
       "            <tr>\n",
       "                        <th id=\"T_afd080d4_1c88_11ed_b4f6_ac1f6b2cd28alevel0_row7\" class=\"row_heading level0 row7\" >svd_46</th>\n",
       "                        <td id=\"T_afd080d4_1c88_11ed_b4f6_ac1f6b2cd28arow7_col0\" class=\"data row7 col0\" >0.026909</td>\n",
       "                        <td id=\"T_afd080d4_1c88_11ed_b4f6_ac1f6b2cd28arow7_col1\" class=\"data row7 col1\" >0.089676</td>\n",
       "                        <td id=\"T_afd080d4_1c88_11ed_b4f6_ac1f6b2cd28arow7_col2\" class=\"data row7 col2\" >0.024833</td>\n",
       "                        <td id=\"T_afd080d4_1c88_11ed_b4f6_ac1f6b2cd28arow7_col3\" class=\"data row7 col3\" >0.016107</td>\n",
       "                        <td id=\"T_afd080d4_1c88_11ed_b4f6_ac1f6b2cd28arow7_col4\" class=\"data row7 col4\" >0.539978</td>\n",
       "            </tr>\n",
       "            <tr>\n",
       "                        <th id=\"T_afd080d4_1c88_11ed_b4f6_ac1f6b2cd28alevel0_row8\" class=\"row_heading level0 row8\" >svd_100</th>\n",
       "                        <td id=\"T_afd080d4_1c88_11ed_b4f6_ac1f6b2cd28arow8_col0\" class=\"data row8 col0\" >0.024224</td>\n",
       "                        <td id=\"T_afd080d4_1c88_11ed_b4f6_ac1f6b2cd28arow8_col1\" class=\"data row8 col1\" >0.079867</td>\n",
       "                        <td id=\"T_afd080d4_1c88_11ed_b4f6_ac1f6b2cd28arow8_col2\" class=\"data row8 col2\" >0.022466</td>\n",
       "                        <td id=\"T_afd080d4_1c88_11ed_b4f6_ac1f6b2cd28arow8_col3\" class=\"data row8 col3\" >0.026173</td>\n",
       "                        <td id=\"T_afd080d4_1c88_11ed_b4f6_ac1f6b2cd28arow8_col4\" class=\"data row8 col4\" >0.571336</td>\n",
       "            </tr>\n",
       "            <tr>\n",
       "                        <th id=\"T_afd080d4_1c88_11ed_b4f6_ac1f6b2cd28alevel0_row9\" class=\"row_heading level0 row9\" >svd_215</th>\n",
       "                        <td id=\"T_afd080d4_1c88_11ed_b4f6_ac1f6b2cd28arow9_col0\" class=\"data row9 col0\" >0.022805</td>\n",
       "                        <td id=\"T_afd080d4_1c88_11ed_b4f6_ac1f6b2cd28arow9_col1\" class=\"data row9 col1\" >0.075043</td>\n",
       "                        <td id=\"T_afd080d4_1c88_11ed_b4f6_ac1f6b2cd28arow9_col2\" class=\"data row9 col2\" >0.020870</td>\n",
       "                        <td id=\"T_afd080d4_1c88_11ed_b4f6_ac1f6b2cd28arow9_col3\" class=\"data row9 col3\" >0.048672</td>\n",
       "                        <td id=\"T_afd080d4_1c88_11ed_b4f6_ac1f6b2cd28arow9_col4\" class=\"data row9 col4\" >0.603278</td>\n",
       "            </tr>\n",
       "            <tr>\n",
       "                        <th id=\"T_afd080d4_1c88_11ed_b4f6_ac1f6b2cd28alevel0_row10\" class=\"row_heading level0 row10\" >svd_464</th>\n",
       "                        <td id=\"T_afd080d4_1c88_11ed_b4f6_ac1f6b2cd28arow10_col0\" class=\"data row10 col0\" >0.021658</td>\n",
       "                        <td id=\"T_afd080d4_1c88_11ed_b4f6_ac1f6b2cd28arow10_col1\" class=\"data row10 col1\" >0.073208</td>\n",
       "                        <td id=\"T_afd080d4_1c88_11ed_b4f6_ac1f6b2cd28arow10_col2\" class=\"data row10 col2\" >0.019030</td>\n",
       "                        <td id=\"T_afd080d4_1c88_11ed_b4f6_ac1f6b2cd28arow10_col3\" class=\"data row10 col3\" >0.086498</td>\n",
       "                        <td id=\"T_afd080d4_1c88_11ed_b4f6_ac1f6b2cd28arow10_col4\" class=\"data row10 col4\" >0.632858</td>\n",
       "            </tr>\n",
       "            <tr>\n",
       "                        <th id=\"T_afd080d4_1c88_11ed_b4f6_ac1f6b2cd28alevel0_row11\" class=\"row_heading level0 row11\" >svd_1000</th>\n",
       "                        <td id=\"T_afd080d4_1c88_11ed_b4f6_ac1f6b2cd28arow11_col0\" class=\"data row11 col0\" >0.019612</td>\n",
       "                        <td id=\"T_afd080d4_1c88_11ed_b4f6_ac1f6b2cd28arow11_col1\" class=\"data row11 col1\" >0.068447</td>\n",
       "                        <td id=\"T_afd080d4_1c88_11ed_b4f6_ac1f6b2cd28arow11_col2\" class=\"data row11 col2\" >0.016392</td>\n",
       "                        <td id=\"T_afd080d4_1c88_11ed_b4f6_ac1f6b2cd28arow11_col3\" class=\"data row11 col3\" >0.158978</td>\n",
       "                        <td id=\"T_afd080d4_1c88_11ed_b4f6_ac1f6b2cd28arow11_col4\" class=\"data row11 col4\" >0.666292</td>\n",
       "            </tr>\n",
       "            <tr>\n",
       "                        <th id=\"T_afd080d4_1c88_11ed_b4f6_ac1f6b2cd28alevel0_row12\" class=\"row_heading level0 row12\" >svd_2154</th>\n",
       "                        <td id=\"T_afd080d4_1c88_11ed_b4f6_ac1f6b2cd28arow12_col0\" class=\"data row12 col0\" >0.017024</td>\n",
       "                        <td id=\"T_afd080d4_1c88_11ed_b4f6_ac1f6b2cd28arow12_col1\" class=\"data row12 col1\" >0.060621</td>\n",
       "                        <td id=\"T_afd080d4_1c88_11ed_b4f6_ac1f6b2cd28arow12_col2\" class=\"data row12 col2\" >0.013647</td>\n",
       "                        <td id=\"T_afd080d4_1c88_11ed_b4f6_ac1f6b2cd28arow12_col3\" class=\"data row12 col3\" >0.297748</td>\n",
       "                        <td id=\"T_afd080d4_1c88_11ed_b4f6_ac1f6b2cd28arow12_col4\" class=\"data row12 col4\" >0.708470</td>\n",
       "            </tr>\n",
       "            <tr>\n",
       "                        <th id=\"T_afd080d4_1c88_11ed_b4f6_ac1f6b2cd28alevel0_row13\" class=\"row_heading level0 row13\" >svd_4641</th>\n",
       "                        <td id=\"T_afd080d4_1c88_11ed_b4f6_ac1f6b2cd28arow13_col0\" class=\"data row13 col0\" >0.013222</td>\n",
       "                        <td id=\"T_afd080d4_1c88_11ed_b4f6_ac1f6b2cd28arow13_col1\" class=\"data row13 col1\" >0.047030</td>\n",
       "                        <td id=\"T_afd080d4_1c88_11ed_b4f6_ac1f6b2cd28arow13_col2\" class=\"data row13 col2\" >0.010233</td>\n",
       "                        <td id=\"T_afd080d4_1c88_11ed_b4f6_ac1f6b2cd28arow13_col3\" class=\"data row13 col3\" >0.605990</td>\n",
       "                        <td id=\"T_afd080d4_1c88_11ed_b4f6_ac1f6b2cd28arow13_col4\" class=\"data row13 col4\" >0.758492</td>\n",
       "            </tr>\n",
       "            <tr>\n",
       "                        <th id=\"T_afd080d4_1c88_11ed_b4f6_ac1f6b2cd28alevel0_row14\" class=\"row_heading level0 row14\" >svd_10000</th>\n",
       "                        <td id=\"T_afd080d4_1c88_11ed_b4f6_ac1f6b2cd28arow14_col0\" class=\"data row14 col0\" >0.007285</td>\n",
       "                        <td id=\"T_afd080d4_1c88_11ed_b4f6_ac1f6b2cd28arow14_col1\" class=\"data row14 col1\" >0.025832</td>\n",
       "                        <td id=\"T_afd080d4_1c88_11ed_b4f6_ac1f6b2cd28arow14_col2\" class=\"data row14 col2\" >0.005640</td>\n",
       "                        <td id=\"T_afd080d4_1c88_11ed_b4f6_ac1f6b2cd28arow14_col3\" class=\"data row14 col3\" >0.831383</td>\n",
       "                        <td id=\"T_afd080d4_1c88_11ed_b4f6_ac1f6b2cd28arow14_col4\" class=\"data row14 col4\" >0.780007</td>\n",
       "            </tr>\n",
       "            <tr>\n",
       "                        <th id=\"T_afd080d4_1c88_11ed_b4f6_ac1f6b2cd28alevel0_row15\" class=\"row_heading level0 row15\" >als</th>\n",
       "                        <td id=\"T_afd080d4_1c88_11ed_b4f6_ac1f6b2cd28arow15_col0\" class=\"data row15 col0\" >0.043779</td>\n",
       "                        <td id=\"T_afd080d4_1c88_11ed_b4f6_ac1f6b2cd28arow15_col1\" class=\"data row15 col1\" >0.123962</td>\n",
       "                        <td id=\"T_afd080d4_1c88_11ed_b4f6_ac1f6b2cd28arow15_col2\" class=\"data row15 col2\" >0.045665</td>\n",
       "                        <td id=\"T_afd080d4_1c88_11ed_b4f6_ac1f6b2cd28arow15_col3\" class=\"data row15 col3\" >0.026199</td>\n",
       "                        <td id=\"T_afd080d4_1c88_11ed_b4f6_ac1f6b2cd28arow15_col4\" class=\"data row15 col4\" >0.572649</td>\n",
       "            </tr>\n",
       "            <tr>\n",
       "                        <th id=\"T_afd080d4_1c88_11ed_b4f6_ac1f6b2cd28alevel0_row16\" class=\"row_heading level0 row16\" >als_filtered</th>\n",
       "                        <td id=\"T_afd080d4_1c88_11ed_b4f6_ac1f6b2cd28arow16_col0\" class=\"data row16 col0\" >0.043949</td>\n",
       "                        <td id=\"T_afd080d4_1c88_11ed_b4f6_ac1f6b2cd28arow16_col1\" class=\"data row16 col1\" >0.123822</td>\n",
       "                        <td id=\"T_afd080d4_1c88_11ed_b4f6_ac1f6b2cd28arow16_col2\" class=\"data row16 col2\" >0.045782</td>\n",
       "                        <td id=\"T_afd080d4_1c88_11ed_b4f6_ac1f6b2cd28arow16_col3\" class=\"data row16 col3\" >0.025897</td>\n",
       "                        <td id=\"T_afd080d4_1c88_11ed_b4f6_ac1f6b2cd28arow16_col4\" class=\"data row16 col4\" >0.573173</td>\n",
       "            </tr>\n",
       "            <tr>\n",
       "                        <th id=\"T_afd080d4_1c88_11ed_b4f6_ac1f6b2cd28alevel0_row17\" class=\"row_heading level0 row17\" >light_feature_importance_0</th>\n",
       "                        <td id=\"T_afd080d4_1c88_11ed_b4f6_ac1f6b2cd28arow17_col0\" class=\"data row17 col0\" >0.036794</td>\n",
       "                        <td id=\"T_afd080d4_1c88_11ed_b4f6_ac1f6b2cd28arow17_col1\" class=\"data row17 col1\" >0.104560</td>\n",
       "                        <td id=\"T_afd080d4_1c88_11ed_b4f6_ac1f6b2cd28arow17_col2\" class=\"data row17 col2\" >0.036024</td>\n",
       "                        <td id=\"T_afd080d4_1c88_11ed_b4f6_ac1f6b2cd28arow17_col3\" class=\"data row17 col3\" >0.000730</td>\n",
       "                        <td id=\"T_afd080d4_1c88_11ed_b4f6_ac1f6b2cd28arow17_col4\" class=\"data row17 col4\" >0.440942</td>\n",
       "            </tr>\n",
       "            <tr>\n",
       "                        <th id=\"T_afd080d4_1c88_11ed_b4f6_ac1f6b2cd28alevel0_row18\" class=\"row_heading level0 row18\" >light_feature_importance_0.1</th>\n",
       "                        <td id=\"T_afd080d4_1c88_11ed_b4f6_ac1f6b2cd28arow18_col0\" class=\"data row18 col0\" >0.000000</td>\n",
       "                        <td id=\"T_afd080d4_1c88_11ed_b4f6_ac1f6b2cd28arow18_col1\" class=\"data row18 col1\" >0.000008</td>\n",
       "                        <td id=\"T_afd080d4_1c88_11ed_b4f6_ac1f6b2cd28arow18_col2\" class=\"data row18 col2\" >0.000000</td>\n",
       "                        <td id=\"T_afd080d4_1c88_11ed_b4f6_ac1f6b2cd28arow18_col3\" class=\"data row18 col3\" >0.000302</td>\n",
       "                        <td id=\"T_afd080d4_1c88_11ed_b4f6_ac1f6b2cd28arow18_col4\" class=\"data row18 col4\" >0.044000</td>\n",
       "            </tr>\n",
       "            <tr>\n",
       "                        <th id=\"T_afd080d4_1c88_11ed_b4f6_ac1f6b2cd28alevel0_row19\" class=\"row_heading level0 row19\" >light_feature_importance_0.25</th>\n",
       "                        <td id=\"T_afd080d4_1c88_11ed_b4f6_ac1f6b2cd28arow19_col0\" class=\"data row19 col0\" >0.000000</td>\n",
       "                        <td id=\"T_afd080d4_1c88_11ed_b4f6_ac1f6b2cd28arow19_col1\" class=\"data row19 col1\" >0.000000</td>\n",
       "                        <td id=\"T_afd080d4_1c88_11ed_b4f6_ac1f6b2cd28arow19_col2\" class=\"data row19 col2\" >0.000000</td>\n",
       "                        <td id=\"T_afd080d4_1c88_11ed_b4f6_ac1f6b2cd28arow19_col3\" class=\"data row19 col3\" >0.000277</td>\n",
       "                        <td id=\"T_afd080d4_1c88_11ed_b4f6_ac1f6b2cd28arow19_col4\" class=\"data row19 col4\" >0.000466</td>\n",
       "            </tr>\n",
       "            <tr>\n",
       "                        <th id=\"T_afd080d4_1c88_11ed_b4f6_ac1f6b2cd28alevel0_row20\" class=\"row_heading level0 row20\" >light_feature_importance_0.5</th>\n",
       "                        <td id=\"T_afd080d4_1c88_11ed_b4f6_ac1f6b2cd28arow20_col0\" class=\"data row20 col0\" >0.000002</td>\n",
       "                        <td id=\"T_afd080d4_1c88_11ed_b4f6_ac1f6b2cd28arow20_col1\" class=\"data row20 col1\" >0.000005</td>\n",
       "                        <td id=\"T_afd080d4_1c88_11ed_b4f6_ac1f6b2cd28arow20_col2\" class=\"data row20 col2\" >0.000001</td>\n",
       "                        <td id=\"T_afd080d4_1c88_11ed_b4f6_ac1f6b2cd28arow20_col3\" class=\"data row20 col3\" >0.000302</td>\n",
       "                        <td id=\"T_afd080d4_1c88_11ed_b4f6_ac1f6b2cd28arow20_col4\" class=\"data row20 col4\" >0.086165</td>\n",
       "            </tr>\n",
       "            <tr>\n",
       "                        <th id=\"T_afd080d4_1c88_11ed_b4f6_ac1f6b2cd28alevel0_row21\" class=\"row_heading level0 row21\" >catboost</th>\n",
       "                        <td id=\"T_afd080d4_1c88_11ed_b4f6_ac1f6b2cd28arow21_col0\" class=\"data row21 col0\" >0.034917</td>\n",
       "                        <td id=\"T_afd080d4_1c88_11ed_b4f6_ac1f6b2cd28arow21_col1\" class=\"data row21 col1\" >0.104286</td>\n",
       "                        <td id=\"T_afd080d4_1c88_11ed_b4f6_ac1f6b2cd28arow21_col2\" class=\"data row21 col2\" >0.041368</td>\n",
       "                        <td id=\"T_afd080d4_1c88_11ed_b4f6_ac1f6b2cd28arow21_col3\" class=\"data row21 col3\" >0.869321</td>\n",
       "                        <td id=\"T_afd080d4_1c88_11ed_b4f6_ac1f6b2cd28arow21_col4\" class=\"data row21 col4\" >0.508825</td>\n",
       "            </tr>\n",
       "    </tbody></table>"
      ],
      "text/plain": [
       "<pandas.io.formats.style.Styler at 0x7ff8012bfc50>"
      ]
     },
     "execution_count": 349,
     "metadata": {},
     "output_type": "execute_result"
    },
    {
     "data": {
      "application/javascript": [
       "\n",
       "            setTimeout(function() {\n",
       "                var nbb_cell_id = 349;\n",
       "                var nbb_unformatted_code = \"pd.concat(\\n    [i[\\\"val_metrics\\\"] for i in assessor.assessments.values()] + [cb_val_metrics],\\n    axis=\\\"columns\\\",\\n).T.style.background_gradient(cmap=\\\"coolwarm\\\", low=0.5, high=0.5)\";\n",
       "                var nbb_formatted_code = \"pd.concat(\\n    [i[\\\"val_metrics\\\"] for i in assessor.assessments.values()] + [cb_val_metrics],\\n    axis=\\\"columns\\\",\\n).T.style.background_gradient(cmap=\\\"coolwarm\\\", low=0.5, high=0.5)\";\n",
       "                var nbb_cells = Jupyter.notebook.get_cells();\n",
       "                for (var i = 0; i < nbb_cells.length; ++i) {\n",
       "                    if (nbb_cells[i].input_prompt_number == nbb_cell_id) {\n",
       "                        if (nbb_cells[i].get_text() == nbb_unformatted_code) {\n",
       "                             nbb_cells[i].set_text(nbb_formatted_code);\n",
       "                        }\n",
       "                        break;\n",
       "                    }\n",
       "                }\n",
       "            }, 500);\n",
       "            "
      ],
      "text/plain": [
       "<IPython.core.display.Javascript object>"
      ]
     },
     "metadata": {},
     "output_type": "display_data"
    }
   ],
   "source": [
    "metrics.T.style.background_gradient(cmap=\"coolwarm\", low=0.5, high=0.5)"
   ]
  },
  {
   "cell_type": "code",
   "execution_count": 368,
   "metadata": {
    "ExecuteTime": {
     "end_time": "2022-08-15T11:11:38.782077Z",
     "start_time": "2022-08-15T11:11:38.757787Z"
    }
   },
   "outputs": [
    {
     "data": {
      "application/javascript": [
       "\n",
       "            setTimeout(function() {\n",
       "                var nbb_cell_id = 368;\n",
       "                var nbb_unformatted_code = \"def calculate_feature_importance(cb_ranker, ranking_data):\\n    importance = cb_ranker.get_feature_importance(ranking_data[\\\"val\\\"][\\\"pool\\\"])\\n    importance = pd.Series(importance, cb_ranker.feature_names_).rename(\\\"cb feature importance\\\")\\n    importance = importance.to_frame().style.background_gradient(cmap=\\\"coolwarm\\\", low=0.5, high=0.5)\\n    return importance\";\n",
       "                var nbb_formatted_code = \"def calculate_feature_importance(cb_ranker, ranking_data):\\n    importance = cb_ranker.get_feature_importance(ranking_data[\\\"val\\\"][\\\"pool\\\"])\\n    importance = pd.Series(importance, cb_ranker.feature_names_).rename(\\n        \\\"cb feature importance\\\"\\n    )\\n    importance = importance.to_frame().style.background_gradient(\\n        cmap=\\\"coolwarm\\\", low=0.5, high=0.5\\n    )\\n    return importance\";\n",
       "                var nbb_cells = Jupyter.notebook.get_cells();\n",
       "                for (var i = 0; i < nbb_cells.length; ++i) {\n",
       "                    if (nbb_cells[i].input_prompt_number == nbb_cell_id) {\n",
       "                        if (nbb_cells[i].get_text() == nbb_unformatted_code) {\n",
       "                             nbb_cells[i].set_text(nbb_formatted_code);\n",
       "                        }\n",
       "                        break;\n",
       "                    }\n",
       "                }\n",
       "            }, 500);\n",
       "            "
      ],
      "text/plain": [
       "<IPython.core.display.Javascript object>"
      ]
     },
     "metadata": {},
     "output_type": "display_data"
    }
   ],
   "source": [
    "def calculate_feature_importance(cb_ranker, ranking_data):\n",
    "    importance = cb_ranker.get_feature_importance(ranking_data[\"val\"][\"pool\"])\n",
    "    importance = pd.Series(importance, cb_ranker.feature_names_).rename(\n",
    "        \"cb feature importance\"\n",
    "    )\n",
    "    importance = importance.to_frame().style.background_gradient(\n",
    "        cmap=\"coolwarm\", low=0.5, high=0.5\n",
    "    )\n",
    "    return importance"
   ]
  },
  {
   "cell_type": "code",
   "execution_count": 365,
   "metadata": {
    "ExecuteTime": {
     "end_time": "2022-08-15T11:11:19.278603Z",
     "start_time": "2022-08-15T11:11:19.253154Z"
    }
   },
   "outputs": [
    {
     "data": {
      "text/html": [
       "<style  type=\"text/css\" >\n",
       "#T_fceb40a0_1c8a_11ed_b4f6_ac1f6b2cd28arow0_col0{\n",
       "            background-color:  #9abbff;\n",
       "            color:  #000000;\n",
       "        }#T_fceb40a0_1c8a_11ed_b4f6_ac1f6b2cd28arow1_col0{\n",
       "            background-color:  #8db0fe;\n",
       "            color:  #000000;\n",
       "        }#T_fceb40a0_1c8a_11ed_b4f6_ac1f6b2cd28arow2_col0{\n",
       "            background-color:  #f49a7b;\n",
       "            color:  #000000;\n",
       "        }#T_fceb40a0_1c8a_11ed_b4f6_ac1f6b2cd28arow3_col0{\n",
       "            background-color:  #c6d6f1;\n",
       "            color:  #000000;\n",
       "        }#T_fceb40a0_1c8a_11ed_b4f6_ac1f6b2cd28arow4_col0{\n",
       "            background-color:  #dbdcde;\n",
       "            color:  #000000;\n",
       "        }</style><table id=\"T_fceb40a0_1c8a_11ed_b4f6_ac1f6b2cd28a\" ><thead>    <tr>        <th class=\"blank level0\" ></th>        <th class=\"col_heading level0 col0\" >cb feature importance</th>    </tr></thead><tbody>\n",
       "                <tr>\n",
       "                        <th id=\"T_fceb40a0_1c8a_11ed_b4f6_ac1f6b2cd28alevel0_row0\" class=\"row_heading level0 row0\" >bm25</th>\n",
       "                        <td id=\"T_fceb40a0_1c8a_11ed_b4f6_ac1f6b2cd28arow0_col0\" class=\"data row0 col0\" >-0.027877</td>\n",
       "            </tr>\n",
       "            <tr>\n",
       "                        <th id=\"T_fceb40a0_1c8a_11ed_b4f6_ac1f6b2cd28alevel0_row1\" class=\"row_heading level0 row1\" >tfidf</th>\n",
       "                        <td id=\"T_fceb40a0_1c8a_11ed_b4f6_ac1f6b2cd28arow1_col0\" class=\"data row1 col0\" >-0.036065</td>\n",
       "            </tr>\n",
       "            <tr>\n",
       "                        <th id=\"T_fceb40a0_1c8a_11ed_b4f6_ac1f6b2cd28alevel0_row2\" class=\"row_heading level0 row2\" >svd_10</th>\n",
       "                        <td id=\"T_fceb40a0_1c8a_11ed_b4f6_ac1f6b2cd28arow2_col0\" class=\"data row2 col0\" >0.078488</td>\n",
       "            </tr>\n",
       "            <tr>\n",
       "                        <th id=\"T_fceb40a0_1c8a_11ed_b4f6_ac1f6b2cd28alevel0_row3\" class=\"row_heading level0 row3\" >als_filtered</th>\n",
       "                        <td id=\"T_fceb40a0_1c8a_11ed_b4f6_ac1f6b2cd28arow3_col0\" class=\"data row3 col0\" >0.002610</td>\n",
       "            </tr>\n",
       "            <tr>\n",
       "                        <th id=\"T_fceb40a0_1c8a_11ed_b4f6_ac1f6b2cd28alevel0_row4\" class=\"row_heading level0 row4\" >light_feature_importance_0</th>\n",
       "                        <td id=\"T_fceb40a0_1c8a_11ed_b4f6_ac1f6b2cd28arow4_col0\" class=\"data row4 col0\" >0.019997</td>\n",
       "            </tr>\n",
       "    </tbody></table>"
      ],
      "text/plain": [
       "<pandas.io.formats.style.Styler at 0x7ff8f575cef0>"
      ]
     },
     "execution_count": 365,
     "metadata": {},
     "output_type": "execute_result"
    },
    {
     "data": {
      "application/javascript": [
       "\n",
       "            setTimeout(function() {\n",
       "                var nbb_cell_id = 365;\n",
       "                var nbb_unformatted_code = \"# calculate_feature_importance(cb_ranker, ranking_data)\\npd.Series(importance, cb_ranker.feature_names_).rename(\\n    \\\"cb feature importance\\\"\\n).to_frame().style.background_gradient(cmap=\\\"coolwarm\\\", low=0.5, high=0.5)\";\n",
       "                var nbb_formatted_code = \"# calculate_feature_importance(cb_ranker, ranking_data)\\npd.Series(importance, cb_ranker.feature_names_).rename(\\n    \\\"cb feature importance\\\"\\n).to_frame().style.background_gradient(cmap=\\\"coolwarm\\\", low=0.5, high=0.5)\";\n",
       "                var nbb_cells = Jupyter.notebook.get_cells();\n",
       "                for (var i = 0; i < nbb_cells.length; ++i) {\n",
       "                    if (nbb_cells[i].input_prompt_number == nbb_cell_id) {\n",
       "                        if (nbb_cells[i].get_text() == nbb_unformatted_code) {\n",
       "                             nbb_cells[i].set_text(nbb_formatted_code);\n",
       "                        }\n",
       "                        break;\n",
       "                    }\n",
       "                }\n",
       "            }, 500);\n",
       "            "
      ],
      "text/plain": [
       "<IPython.core.display.Javascript object>"
      ]
     },
     "metadata": {},
     "output_type": "display_data"
    }
   ],
   "source": [
    "calculate_feature_importance(cb_ranker, ranking_data)"
   ]
  },
  {
   "cell_type": "code",
   "execution_count": null,
   "metadata": {},
   "outputs": [],
   "source": []
  }
 ],
 "metadata": {
  "kernelspec": {
   "display_name": "Python 3.6",
   "language": "python",
   "name": "3_6"
  },
  "language_info": {
   "codemirror_mode": {
    "name": "ipython",
    "version": 3
   },
   "file_extension": ".py",
   "mimetype": "text/x-python",
   "name": "python",
   "nbconvert_exporter": "python",
   "pygments_lexer": "ipython3",
   "version": "3.6.9"
  }
 },
 "nbformat": 4,
 "nbformat_minor": 2
}
