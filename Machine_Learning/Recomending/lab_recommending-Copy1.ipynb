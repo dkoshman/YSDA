{
 "cells": [
  {
   "cell_type": "markdown",
   "metadata": {},
   "source": [
    "# Лабораторная работа 4. Часть 2. Рекомендательные системы.\n",
    "\n",
    "\n",
    "\n",
    "Результат лабораторной работы − отчет. Мы предпочитаем принимать отчеты в формате ноутбуков IPython (ipynb-файл). Постарайтесь сделать ваш отчет интересным рассказом, последовательно отвечающим на вопросы из заданий. Помимо ответов на вопросы, в отчете так же должен быть код, однако чем меньше кода, тем лучше всем: нам − меньше проверять, вам — проще найти ошибку или дополнить эксперимент. При проверке оценивается четкость ответов на вопросы, аккуратность отчета и кода.\n",
    "\n",
    "\n",
    "### Оценивание и штрафы\n",
    "Каждая из задач имеет определенную «стоимость» (указана в скобках около задачи). Максимально допустимая оценка за работу — 8 баллов. Сдавать задание после указанного в lk срока сдачи нельзя. «Похожие» решения считаются плагиатом и все задействованные студенты (в том числе те, у кого списали) не могут получить за него больше 0 баллов и понижают карму (подробнее о плагиате см. на странице курса). Если вы нашли решение какого-то из заданий в открытом источнике, необходимо прислать ссылку на этот источник (скорее всего вы будете не единственным, кто это нашел, поэтому чтобы исключить подозрение в плагиате, нам необходима ссылка на источник).\n",
    "\n"
   ]
  },
  {
   "cell_type": "markdown",
   "metadata": {},
   "source": [
    "## Знакомство с данными\n",
    "\n",
    "### Рекомендация организаций, которые получат высокий отзыв от пользователя, когда он гостит в чужом для себя городе\n",
    "\n",
    "Эта лабораторная работа про задачу из соревнования\n",
    "\n",
    "https://contest.yandex.ru/contest/36927/problems/\n"
   ]
  },
  {
   "cell_type": "markdown",
   "metadata": {},
   "source": [
    "**(1 балла) Задание 1.** Знакомство с данными.\n",
    "\n",
    "В первую очередь нам понадобятся данные по __пользователям__ (в терминах recsys -- users), __организациям__ (в терминах recsys -- items) и сами __отзывы__ (в терминах recsys -- ratings или explicit feedback). \n",
    "\n",
    "На основании этих данных можно будет проводить базовый анализ методами колаборативной фильтрации.\n",
    "\n",
    "  * Опишите, насколько активно пользователи оставляют отзывы, насколько активно организации получают отзывы.\n",
    "  * Предложите стратегии фильтрации данных.\n",
    "  \n",
    "\n",
    "\n",
    "Во вторую очередь нас будут интересовать атрибуты организаций: aspects, features, rubrics.\n",
    "Проанализируйте эти таблицы. Какие признаки для описания организаций и пользователей из них можно извлечь?\n"
   ]
  },
  {
   "cell_type": "code",
   "execution_count": 1,
   "metadata": {
    "ExecuteTime": {
     "end_time": "2022-08-08T09:04:21.102304Z",
     "start_time": "2022-08-08T09:04:20.419973Z"
    }
   },
   "outputs": [
    {
     "data": {
      "application/javascript": [
       "\n",
       "            setTimeout(function() {\n",
       "                var nbb_cell_id = 1;\n",
       "                var nbb_unformatted_code = \"%load_ext nb_black\\n\\nimport abc\\nimport glob\\nimport matplotlib.pyplot as plt\\nimport numpy as np\\nimport os\\nimport pandas as pd\\n\\nfrom functools import partial, reduce\";\n",
       "                var nbb_formatted_code = \"%load_ext nb_black\\n\\nimport abc\\nimport glob\\nimport matplotlib.pyplot as plt\\nimport numpy as np\\nimport os\\nimport pandas as pd\\n\\nfrom functools import partial, reduce\";\n",
       "                var nbb_cells = Jupyter.notebook.get_cells();\n",
       "                for (var i = 0; i < nbb_cells.length; ++i) {\n",
       "                    if (nbb_cells[i].input_prompt_number == nbb_cell_id) {\n",
       "                        if (nbb_cells[i].get_text() == nbb_unformatted_code) {\n",
       "                             nbb_cells[i].set_text(nbb_formatted_code);\n",
       "                        }\n",
       "                        break;\n",
       "                    }\n",
       "                }\n",
       "            }, 500);\n",
       "            "
      ],
      "text/plain": [
       "<IPython.core.display.Javascript object>"
      ]
     },
     "metadata": {},
     "output_type": "display_data"
    }
   ],
   "source": [
    "%load_ext nb_black\n",
    "\n",
    "import abc\n",
    "import glob\n",
    "import matplotlib.pyplot as plt\n",
    "import numpy as np\n",
    "import os\n",
    "import pandas as pd\n",
    "\n",
    "from functools import partial, reduce"
   ]
  },
  {
   "cell_type": "code",
   "execution_count": 2,
   "metadata": {
    "ExecuteTime": {
     "end_time": "2022-08-08T09:04:21.113658Z",
     "start_time": "2022-08-08T09:04:21.104310Z"
    }
   },
   "outputs": [
    {
     "data": {
      "application/javascript": [
       "\n",
       "            setTimeout(function() {\n",
       "                var nbb_cell_id = 2;\n",
       "                var nbb_unformatted_code = \"def read_ints(line):\\n    return list(map(int, line.split()))\\n\\n\\ndef read_data(\\n    path=\\\"data/*.csv\\\",\\n    converters={\\\"rubrics_id\\\": read_ints, \\\"features_id\\\": read_ints},\\n    index_col=0,\\n):\\n    data = {}\\n    for csv_filename in glob.glob(path):\\n        basename, extension = os.path.splitext(os.path.basename(csv_filename))\\n        data[basename] = pd.read_csv(\\n            csv_filename,\\n            converters=converters,\\n            index_col=index_col,\\n        )\\n    return data\";\n",
       "                var nbb_formatted_code = \"def read_ints(line):\\n    return list(map(int, line.split()))\\n\\n\\ndef read_data(\\n    path=\\\"data/*.csv\\\",\\n    converters={\\\"rubrics_id\\\": read_ints, \\\"features_id\\\": read_ints},\\n    index_col=0,\\n):\\n    data = {}\\n    for csv_filename in glob.glob(path):\\n        basename, extension = os.path.splitext(os.path.basename(csv_filename))\\n        data[basename] = pd.read_csv(\\n            csv_filename,\\n            converters=converters,\\n            index_col=index_col,\\n        )\\n    return data\";\n",
       "                var nbb_cells = Jupyter.notebook.get_cells();\n",
       "                for (var i = 0; i < nbb_cells.length; ++i) {\n",
       "                    if (nbb_cells[i].input_prompt_number == nbb_cell_id) {\n",
       "                        if (nbb_cells[i].get_text() == nbb_unformatted_code) {\n",
       "                             nbb_cells[i].set_text(nbb_formatted_code);\n",
       "                        }\n",
       "                        break;\n",
       "                    }\n",
       "                }\n",
       "            }, 500);\n",
       "            "
      ],
      "text/plain": [
       "<IPython.core.display.Javascript object>"
      ]
     },
     "metadata": {},
     "output_type": "display_data"
    }
   ],
   "source": [
    "def read_ints(line):\n",
    "    return list(map(int, line.split()))\n",
    "\n",
    "\n",
    "def read_data(\n",
    "    path=\"data/*.csv\",\n",
    "    converters={\"rubrics_id\": read_ints, \"features_id\": read_ints},\n",
    "    index_col=0,\n",
    "):\n",
    "    data = {}\n",
    "    for csv_filename in glob.glob(path):\n",
    "        basename, extension = os.path.splitext(os.path.basename(csv_filename))\n",
    "        data[basename] = pd.read_csv(\n",
    "            csv_filename,\n",
    "            converters=converters,\n",
    "            index_col=index_col,\n",
    "        )\n",
    "    return data"
   ]
  },
  {
   "cell_type": "code",
   "execution_count": 3,
   "metadata": {
    "ExecuteTime": {
     "end_time": "2022-08-08T09:04:23.991440Z",
     "start_time": "2022-08-08T09:04:21.425597Z"
    }
   },
   "outputs": [
    {
     "name": "stderr",
     "output_type": "stream",
     "text": [
      "/external2/dkkoshman/venv/lib/python3.6/site-packages/numpy/lib/arraysetops.py:580: FutureWarning: elementwise comparison failed; returning scalar instead, but in the future will perform elementwise comparison\n",
      "  mask |= (ar1 == a)\n",
      "/external2/dkkoshman/venv/lib/python3.6/site-packages/IPython/core/interactiveshell.py:3263: DtypeWarning: Columns (4) have mixed types.Specify dtype option on import or set low_memory=False.\n",
      "  if (await self.run_code(code, result,  async_=asy)):\n"
     ]
    },
    {
     "data": {
      "application/javascript": [
       "\n",
       "            setTimeout(function() {\n",
       "                var nbb_cell_id = 3;\n",
       "                var nbb_unformatted_code = \"data = read_data()\\nusers = data[\\\"users\\\"]\\norganisations = data[\\\"organisations\\\"]\\nreviews = data[\\\"reviews\\\"].reset_index()\";\n",
       "                var nbb_formatted_code = \"data = read_data()\\nusers = data[\\\"users\\\"]\\norganisations = data[\\\"organisations\\\"]\\nreviews = data[\\\"reviews\\\"].reset_index()\";\n",
       "                var nbb_cells = Jupyter.notebook.get_cells();\n",
       "                for (var i = 0; i < nbb_cells.length; ++i) {\n",
       "                    if (nbb_cells[i].input_prompt_number == nbb_cell_id) {\n",
       "                        if (nbb_cells[i].get_text() == nbb_unformatted_code) {\n",
       "                             nbb_cells[i].set_text(nbb_formatted_code);\n",
       "                        }\n",
       "                        break;\n",
       "                    }\n",
       "                }\n",
       "            }, 500);\n",
       "            "
      ],
      "text/plain": [
       "<IPython.core.display.Javascript object>"
      ]
     },
     "metadata": {},
     "output_type": "display_data"
    }
   ],
   "source": [
    "data = read_data()\n",
    "users = data[\"users\"]\n",
    "organisations = data[\"organisations\"]\n",
    "reviews = data[\"reviews\"].reset_index()"
   ]
  },
  {
   "cell_type": "markdown",
   "metadata": {},
   "source": [
    "* Опишите, насколько активно пользователи оставляют отзывы, насколько активно организации получают отзывы."
   ]
  },
  {
   "cell_type": "code",
   "execution_count": 4,
   "metadata": {
    "ExecuteTime": {
     "end_time": "2022-08-08T09:04:24.133206Z",
     "start_time": "2022-08-08T09:04:24.103442Z"
    }
   },
   "outputs": [
    {
     "data": {
      "application/javascript": [
       "\n",
       "            setTimeout(function() {\n",
       "                var nbb_cell_id = 4;\n",
       "                var nbb_unformatted_code = \"def describe_review_counts(\\n    df,\\n    reviews,\\n    axis,\\n    title,\\n    quantiles=(0, 0.25, 0.5, 0.75, 0.90, 0.95, 0.99, 0.999, 0.9999, 1),\\n    quantiles_to_plot=(0.5, 0.99, 0.999, 0.9999),\\n    plt_kwargs=None,\\n    cmap=\\\"hsv\\\",\\n):\\n    reviews_count = reviews.groupby(df.index.name).size().reindex(df.index)\\n    reviews_count.plot(ax=axis, title=title, **(plt_kwargs or {}))\\n    axis.set_xlabel(plt_kwargs.get(\\\"xlabel\\\"))\\n    axis.set_ylabel(plt_kwargs.get(\\\"ylabel\\\"))\\n\\n    for i, q in enumerate(quantiles_to_plot, start=1):\\n        quantile = reviews_count.quantile(q=q)\\n        axis.axvline(quantile, ls=\\\"--\\\", c=plt.get_cmap(name=cmap)(q))\\n        axis.text(quantile, axis.get_ylim()[1] / 2**i, f\\\"{100*q}%\\\", ha=\\\"left\\\")\\n\\n    return reviews_count.agg(\\n        {\\n            \\\"mean\\\": pd.Series.mean,\\n            \\\"std\\\": pd.Series.std,\\n            **{f\\\"{100*q}%\\\": partial(pd.Series.quantile, q=q) for q in quantiles},\\n        }\\n    )\\n\\n\\ndef show_review_counts(users, organisations, reviews):\\n    fig, axes = plt.subplots(ncols=2, figsize=(16, 6))\\n    plt_kwargs = dict(\\n        kind=\\\"hist\\\",\\n        log=True,\\n        histtype=\\\"stepfilled\\\",\\n        bins=100,\\n        edgecolor=\\\"black\\\",\\n        facecolor=\\\"gray\\\",\\n        alpha=0.5,\\n        xlabel=\\\"Reviews count\\\",\\n        ylabel=\\\"Frequency (log scale)\\\",\\n    )\\n    return pd.DataFrame(\\n        {\\n            title: describe_review_counts(\\n                df,\\n                reviews,\\n                axis,\\n                title=title,\\n                plt_kwargs=plt_kwargs,\\n            )\\n            for df, axis, title in zip(\\n                [users, organisations],\\n                axes,\\n                [\\\"Users reviews written\\\", \\\"Organisations reviews received\\\"],\\n            )\\n        }\\n    ).T\";\n",
       "                var nbb_formatted_code = \"def describe_review_counts(\\n    df,\\n    reviews,\\n    axis,\\n    title,\\n    quantiles=(0, 0.25, 0.5, 0.75, 0.90, 0.95, 0.99, 0.999, 0.9999, 1),\\n    quantiles_to_plot=(0.5, 0.99, 0.999, 0.9999),\\n    plt_kwargs=None,\\n    cmap=\\\"hsv\\\",\\n):\\n    reviews_count = reviews.groupby(df.index.name).size().reindex(df.index)\\n    reviews_count.plot(ax=axis, title=title, **(plt_kwargs or {}))\\n    axis.set_xlabel(plt_kwargs.get(\\\"xlabel\\\"))\\n    axis.set_ylabel(plt_kwargs.get(\\\"ylabel\\\"))\\n\\n    for i, q in enumerate(quantiles_to_plot, start=1):\\n        quantile = reviews_count.quantile(q=q)\\n        axis.axvline(quantile, ls=\\\"--\\\", c=plt.get_cmap(name=cmap)(q))\\n        axis.text(quantile, axis.get_ylim()[1] / 2**i, f\\\"{100*q}%\\\", ha=\\\"left\\\")\\n\\n    return reviews_count.agg(\\n        {\\n            \\\"mean\\\": pd.Series.mean,\\n            \\\"std\\\": pd.Series.std,\\n            **{f\\\"{100*q}%\\\": partial(pd.Series.quantile, q=q) for q in quantiles},\\n        }\\n    )\\n\\n\\ndef show_review_counts(users, organisations, reviews):\\n    fig, axes = plt.subplots(ncols=2, figsize=(16, 6))\\n    plt_kwargs = dict(\\n        kind=\\\"hist\\\",\\n        log=True,\\n        histtype=\\\"stepfilled\\\",\\n        bins=100,\\n        edgecolor=\\\"black\\\",\\n        facecolor=\\\"gray\\\",\\n        alpha=0.5,\\n        xlabel=\\\"Reviews count\\\",\\n        ylabel=\\\"Frequency (log scale)\\\",\\n    )\\n    return pd.DataFrame(\\n        {\\n            title: describe_review_counts(\\n                df,\\n                reviews,\\n                axis,\\n                title=title,\\n                plt_kwargs=plt_kwargs,\\n            )\\n            for df, axis, title in zip(\\n                [users, organisations],\\n                axes,\\n                [\\\"Users reviews written\\\", \\\"Organisations reviews received\\\"],\\n            )\\n        }\\n    ).T\";\n",
       "                var nbb_cells = Jupyter.notebook.get_cells();\n",
       "                for (var i = 0; i < nbb_cells.length; ++i) {\n",
       "                    if (nbb_cells[i].input_prompt_number == nbb_cell_id) {\n",
       "                        if (nbb_cells[i].get_text() == nbb_unformatted_code) {\n",
       "                             nbb_cells[i].set_text(nbb_formatted_code);\n",
       "                        }\n",
       "                        break;\n",
       "                    }\n",
       "                }\n",
       "            }, 500);\n",
       "            "
      ],
      "text/plain": [
       "<IPython.core.display.Javascript object>"
      ]
     },
     "metadata": {},
     "output_type": "display_data"
    }
   ],
   "source": [
    "def describe_review_counts(\n",
    "    df,\n",
    "    reviews,\n",
    "    axis,\n",
    "    title,\n",
    "    quantiles=(0, 0.25, 0.5, 0.75, 0.90, 0.95, 0.99, 0.999, 0.9999, 1),\n",
    "    quantiles_to_plot=(0.5, 0.99, 0.999, 0.9999),\n",
    "    plt_kwargs=None,\n",
    "    cmap=\"hsv\",\n",
    "):\n",
    "    reviews_count = reviews.groupby(df.index.name).size().reindex(df.index)\n",
    "    reviews_count.plot(ax=axis, title=title, **(plt_kwargs or {}))\n",
    "    axis.set_xlabel(plt_kwargs.get(\"xlabel\"))\n",
    "    axis.set_ylabel(plt_kwargs.get(\"ylabel\"))\n",
    "\n",
    "    for i, q in enumerate(quantiles_to_plot, start=1):\n",
    "        quantile = reviews_count.quantile(q=q)\n",
    "        axis.axvline(quantile, ls=\"--\", c=plt.get_cmap(name=cmap)(q))\n",
    "        axis.text(quantile, axis.get_ylim()[1] / 2**i, f\"{100*q}%\", ha=\"left\")\n",
    "\n",
    "    return reviews_count.agg(\n",
    "        {\n",
    "            \"mean\": pd.Series.mean,\n",
    "            \"std\": pd.Series.std,\n",
    "            **{f\"{100*q}%\": partial(pd.Series.quantile, q=q) for q in quantiles},\n",
    "        }\n",
    "    )\n",
    "\n",
    "\n",
    "def show_review_counts(users, organisations, reviews):\n",
    "    fig, axes = plt.subplots(ncols=2, figsize=(16, 6))\n",
    "    plt_kwargs = dict(\n",
    "        kind=\"hist\",\n",
    "        log=True,\n",
    "        histtype=\"stepfilled\",\n",
    "        bins=100,\n",
    "        edgecolor=\"black\",\n",
    "        facecolor=\"gray\",\n",
    "        alpha=0.5,\n",
    "        xlabel=\"Reviews count\",\n",
    "        ylabel=\"Frequency (log scale)\",\n",
    "    )\n",
    "    return pd.DataFrame(\n",
    "        {\n",
    "            title: describe_review_counts(\n",
    "                df,\n",
    "                reviews,\n",
    "                axis,\n",
    "                title=title,\n",
    "                plt_kwargs=plt_kwargs,\n",
    "            )\n",
    "            for df, axis, title in zip(\n",
    "                [users, organisations],\n",
    "                axes,\n",
    "                [\"Users reviews written\", \"Organisations reviews received\"],\n",
    "            )\n",
    "        }\n",
    "    ).T"
   ]
  },
  {
   "cell_type": "code",
   "execution_count": 5,
   "metadata": {
    "ExecuteTime": {
     "end_time": "2022-08-08T09:04:27.338083Z",
     "start_time": "2022-08-08T09:04:25.031972Z"
    }
   },
   "outputs": [
    {
     "data": {
      "text/html": [
       "<div>\n",
       "<style scoped>\n",
       "    .dataframe tbody tr th:only-of-type {\n",
       "        vertical-align: middle;\n",
       "    }\n",
       "\n",
       "    .dataframe tbody tr th {\n",
       "        vertical-align: top;\n",
       "    }\n",
       "\n",
       "    .dataframe thead th {\n",
       "        text-align: right;\n",
       "    }\n",
       "</style>\n",
       "<table border=\"1\" class=\"dataframe\">\n",
       "  <thead>\n",
       "    <tr style=\"text-align: right;\">\n",
       "      <th></th>\n",
       "      <th>mean</th>\n",
       "      <th>std</th>\n",
       "      <th>0%</th>\n",
       "      <th>25.0%</th>\n",
       "      <th>50.0%</th>\n",
       "      <th>75.0%</th>\n",
       "      <th>90.0%</th>\n",
       "      <th>95.0%</th>\n",
       "      <th>99.0%</th>\n",
       "      <th>99.9%</th>\n",
       "      <th>99.99%</th>\n",
       "      <th>100%</th>\n",
       "    </tr>\n",
       "  </thead>\n",
       "  <tbody>\n",
       "    <tr>\n",
       "      <th>Users reviews written</th>\n",
       "      <td>2.964589</td>\n",
       "      <td>4.854616</td>\n",
       "      <td>1.0</td>\n",
       "      <td>1.0</td>\n",
       "      <td>1.0</td>\n",
       "      <td>3.0</td>\n",
       "      <td>6.0</td>\n",
       "      <td>10.0</td>\n",
       "      <td>22.0</td>\n",
       "      <td>54.000</td>\n",
       "      <td>117.0000</td>\n",
       "      <td>611.0</td>\n",
       "    </tr>\n",
       "    <tr>\n",
       "      <th>Organisations reviews received</th>\n",
       "      <td>60.429564</td>\n",
       "      <td>436.475347</td>\n",
       "      <td>1.0</td>\n",
       "      <td>2.0</td>\n",
       "      <td>8.0</td>\n",
       "      <td>32.0</td>\n",
       "      <td>125.0</td>\n",
       "      <td>246.0</td>\n",
       "      <td>785.0</td>\n",
       "      <td>3021.324</td>\n",
       "      <td>15019.8882</td>\n",
       "      <td>61520.0</td>\n",
       "    </tr>\n",
       "  </tbody>\n",
       "</table>\n",
       "</div>"
      ],
      "text/plain": [
       "                                     mean         std   0%  25.0%  50.0%  \\\n",
       "Users reviews written            2.964589    4.854616  1.0    1.0    1.0   \n",
       "Organisations reviews received  60.429564  436.475347  1.0    2.0    8.0   \n",
       "\n",
       "                                75.0%  90.0%  95.0%  99.0%     99.9%  \\\n",
       "Users reviews written             3.0    6.0   10.0   22.0    54.000   \n",
       "Organisations reviews received   32.0  125.0  246.0  785.0  3021.324   \n",
       "\n",
       "                                    99.99%     100%  \n",
       "Users reviews written             117.0000    611.0  \n",
       "Organisations reviews received  15019.8882  61520.0  "
      ]
     },
     "execution_count": 5,
     "metadata": {},
     "output_type": "execute_result"
    },
    {
     "data": {
      "image/png": "[encoded data removed]",
      "text/plain": [
       "<Figure size 1152x432 with 2 Axes>"
      ]
     },
     "metadata": {
      "needs_background": "light"
     },
     "output_type": "display_data"
    },
    {
     "data": {
      "application/javascript": [
       "\n",
       "            setTimeout(function() {\n",
       "                var nbb_cell_id = 5;\n",
       "                var nbb_unformatted_code = \"show_review_counts(users, organisations, reviews)\";\n",
       "                var nbb_formatted_code = \"show_review_counts(users, organisations, reviews)\";\n",
       "                var nbb_cells = Jupyter.notebook.get_cells();\n",
       "                for (var i = 0; i < nbb_cells.length; ++i) {\n",
       "                    if (nbb_cells[i].input_prompt_number == nbb_cell_id) {\n",
       "                        if (nbb_cells[i].get_text() == nbb_unformatted_code) {\n",
       "                             nbb_cells[i].set_text(nbb_formatted_code);\n",
       "                        }\n",
       "                        break;\n",
       "                    }\n",
       "                }\n",
       "            }, 500);\n",
       "            "
      ],
      "text/plain": [
       "<IPython.core.display.Javascript object>"
      ]
     },
     "metadata": {},
     "output_type": "display_data"
    }
   ],
   "source": [
    "show_review_counts(users, organisations, reviews)"
   ]
  },
  {
   "cell_type": "markdown",
   "metadata": {
    "ExecuteTime": {
     "end_time": "2022-07-31T11:31:58.640951Z",
     "start_time": "2022-07-31T11:31:58.634365Z"
    }
   },
   "source": [
    "* Предложите стратегии фильтрации данных."
   ]
  },
  {
   "cell_type": "markdown",
   "metadata": {},
   "source": [
    "Отбросить организации, у которых мало оценок и все они негативные. Это наименее полезные для нас организации, поскольку они одновременно не дают много информации о взаимных интересах пользователей, и не пригодятся для конечных рекомендаций.\n",
    "\n",
    "Реализация этой стратегии может выглядеть так: мы сортируем организации по значению функции полезности\n",
    "\n",
    "$$f(\\text{organisation}) = (\\text{rating count})(1 + \\text{rating std})^\\alpha (\\text{mean rating})^\\beta$$\n",
    "\n",
    "И отсекаем $\\gamma$ первых организаций, где $\\alpha, \\beta$ и $\\gamma$ подбираются по нашим предпочтениям."
   ]
  },
  {
   "cell_type": "markdown",
   "metadata": {
    "ExecuteTime": {
     "end_time": "2022-07-31T12:52:14.901038Z",
     "start_time": "2022-07-31T12:52:14.887694Z"
    }
   },
   "source": [
    "* Во вторую очередь нас будут интересовать атрибуты организаций: aspects, features, rubrics. Проанализируйте эти таблицы. Какие признаки для описания организаций и пользователей из них можно извлечь?"
   ]
  },
  {
   "cell_type": "markdown",
   "metadata": {},
   "source": [
    "Эти таблицы содержат текстовые описания, так что можно взять их эмбединги или обучить латентные векторные представления, либо кластеризовать и взять метки кластеров, и использовать все это в качестве дополнительных признаков."
   ]
  },
  {
   "cell_type": "markdown",
   "metadata": {},
   "source": [
    "---\n",
    "\n",
    "**(1 балла) Задание 2.** Организация валидации.\n",
    "\n",
    "Как вы помните, обучающее множество собрано за X = 1277 дней, тестовое множество – за последующие Y = 107 дней.\n",
    "\n",
    "Следовательно нам необходимо организовать у себя валидацию схожим образом.\n",
    "Раз мы будем еще и осуществлять выбор моделей, то следует произвести расщепление по времени на 3 группы train validation и holdout.\n",
    "\n",
    "Как уже говорилось на семинаре, для повышения качества локальной валидации, можно сделать скользящую валидацию. В самой лабораторной работе мы так делать не будем, но для конкурса имейте это в виду.\n"
   ]
  },
  {
   "cell_type": "code",
   "execution_count": 7,
   "metadata": {
    "ExecuteTime": {
     "end_time": "2022-08-08T09:04:38.432289Z",
     "start_time": "2022-08-08T09:04:38.412317Z"
    }
   },
   "outputs": [
    {
     "data": {
      "application/javascript": [
       "\n",
       "            setTimeout(function() {\n",
       "                var nbb_cell_id = 7;\n",
       "                var nbb_unformatted_code = \"def split_by_column(df, sizes, column_name, debug=False):\\n    cumulative_sizes = np.cumsum([0] + sizes)\\n    total_size = len(df) // 100 if debug else len(df)\\n    split_edges = [int(s * total_size) for s in cumulative_sizes]\\n    sorted_df = df.sort_values(column_name)\\n    splits = [sorted_df[b:e] for b, e in zip(split_edges, split_edges[1:])]\\n    return splits\";\n",
       "                var nbb_formatted_code = \"def split_by_column(df, sizes, column_name, debug=False):\\n    cumulative_sizes = np.cumsum([0] + sizes)\\n    total_size = len(df) // 100 if debug else len(df)\\n    split_edges = [int(s * total_size) for s in cumulative_sizes]\\n    sorted_df = df.sort_values(column_name)\\n    splits = [sorted_df[b:e] for b, e in zip(split_edges, split_edges[1:])]\\n    return splits\";\n",
       "                var nbb_cells = Jupyter.notebook.get_cells();\n",
       "                for (var i = 0; i < nbb_cells.length; ++i) {\n",
       "                    if (nbb_cells[i].input_prompt_number == nbb_cell_id) {\n",
       "                        if (nbb_cells[i].get_text() == nbb_unformatted_code) {\n",
       "                             nbb_cells[i].set_text(nbb_formatted_code);\n",
       "                        }\n",
       "                        break;\n",
       "                    }\n",
       "                }\n",
       "            }, 500);\n",
       "            "
      ],
      "text/plain": [
       "<IPython.core.display.Javascript object>"
      ]
     },
     "metadata": {},
     "output_type": "display_data"
    }
   ],
   "source": [
    "def split_by_column(df, sizes, column_name, debug=False):\n",
    "    cumulative_sizes = np.cumsum([0] + sizes)\n",
    "    total_size = len(df) // 100 if debug else len(df)\n",
    "    split_edges = [int(s * total_size) for s in cumulative_sizes]\n",
    "    sorted_df = df.sort_values(column_name)\n",
    "    splits = [sorted_df[b:e] for b, e in zip(split_edges, split_edges[1:])]\n",
    "    return splits"
   ]
  },
  {
   "cell_type": "code",
   "execution_count": 8,
   "metadata": {
    "ExecuteTime": {
     "end_time": "2022-08-08T09:04:44.076475Z",
     "start_time": "2022-08-08T09:04:42.681804Z"
    }
   },
   "outputs": [
    {
     "data": {
      "application/javascript": [
       "\n",
       "            setTimeout(function() {\n",
       "                var nbb_cell_id = 8;\n",
       "                var nbb_unformatted_code = \"train_reviews, validation_reviews, holdout_reviews = split_by_column(\\n    reviews, sizes=[0.7, 0.15, 0.15], column_name=\\\"ts\\\", debug=True\\n)\";\n",
       "                var nbb_formatted_code = \"train_reviews, validation_reviews, holdout_reviews = split_by_column(\\n    reviews, sizes=[0.7, 0.15, 0.15], column_name=\\\"ts\\\", debug=True\\n)\";\n",
       "                var nbb_cells = Jupyter.notebook.get_cells();\n",
       "                for (var i = 0; i < nbb_cells.length; ++i) {\n",
       "                    if (nbb_cells[i].input_prompt_number == nbb_cell_id) {\n",
       "                        if (nbb_cells[i].get_text() == nbb_unformatted_code) {\n",
       "                             nbb_cells[i].set_text(nbb_formatted_code);\n",
       "                        }\n",
       "                        break;\n",
       "                    }\n",
       "                }\n",
       "            }, 500);\n",
       "            "
      ],
      "text/plain": [
       "<IPython.core.display.Javascript object>"
      ]
     },
     "metadata": {},
     "output_type": "display_data"
    }
   ],
   "source": [
    "train_reviews, validation_reviews, holdout_reviews = split_by_column(\n",
    "    reviews, sizes=[0.7, 0.15, 0.15], column_name=\"ts\", debug=True\n",
    ")"
   ]
  },
  {
   "cell_type": "markdown",
   "metadata": {},
   "source": [
    "**(0.5 балла) Задание 3.** Базовые решения.\n",
    "\n",
    "Сделаем базовые решения:\n",
    "  * Для каждого пользователя выдаём 20 случайных организаций\n",
    "  * Для каждого пользователя выдаём самые популярные организации в неродном городе"
   ]
  },
  {
   "cell_type": "code",
   "execution_count": 9,
   "metadata": {
    "ExecuteTime": {
     "end_time": "2022-08-08T09:04:44.102608Z",
     "start_time": "2022-08-08T09:04:44.080335Z"
    }
   },
   "outputs": [
    {
     "data": {
      "application/javascript": [
       "\n",
       "            setTimeout(function() {\n",
       "                var nbb_cell_id = 9;\n",
       "                var nbb_unformatted_code = \"class BaseRecommender(abc.ABC):\\n    @abc.abstractmethod\\n    def fit(self, reviews):\\n        return self\\n\\n    @abc.abstractmethod\\n    def recommend(self, user_ids, recommend_size=20):\\n        return recommendations\\n\\n\\nclass RandomRecommender(BaseRecommender):\\n    def __init__(self, users, organisations):\\n        self.users = users\\n        self.organisations = organisations\\n\\n    def fit(self, reviews):\\n        return self\\n\\n    def recommend(self, user_ids, recommend_size=20):\\n        recommendations = np.random.choice(\\n            self.organisations.index, size=(len(user_ids), recommend_size)\\n        )\\n        return pd.DataFrame(recommendations, user_ids)\\n\\n\\nclass PopularRecommender(BaseRecommender):\\n    def __init__(self, users, organisations):\\n        self.users = users\\n        self.organisations = organisations\\n\\n    def fit(self, reviews):\\n        self.popular_foreign_organisations_for_home_city = {}\\n        organisations = self.organisations.join(\\n            reviews.groupby(\\\"org_id\\\").size().rename(\\\"popularity\\\")\\n        )\\n        for city in organisations[\\\"city\\\"].unique():\\n            self.popular_foreign_organisations_for_home_city[city] = (\\n                organisations.query(\\\"city != @city\\\")\\n                .sort_values(\\\"popularity\\\", ascending=False)\\n                .index.to_numpy()\\n            )\\n        return self\\n\\n    def recommend(self, user_ids, recommend_size=20):\\n        recommendations = np.stack(\\n            self.users.loc[user_ids][\\\"city\\\"]\\n            .map(\\n                lambda city: self.popular_foreign_organisations_for_home_city[city][\\n                    :recommend_size\\n                ]\\n            )\\n            .values\\n        )\\n        return pd.DataFrame(recommendations, user_ids)\";\n",
       "                var nbb_formatted_code = \"class BaseRecommender(abc.ABC):\\n    @abc.abstractmethod\\n    def fit(self, reviews):\\n        return self\\n\\n    @abc.abstractmethod\\n    def recommend(self, user_ids, recommend_size=20):\\n        return recommendations\\n\\n\\nclass RandomRecommender(BaseRecommender):\\n    def __init__(self, users, organisations):\\n        self.users = users\\n        self.organisations = organisations\\n\\n    def fit(self, reviews):\\n        return self\\n\\n    def recommend(self, user_ids, recommend_size=20):\\n        recommendations = np.random.choice(\\n            self.organisations.index, size=(len(user_ids), recommend_size)\\n        )\\n        return pd.DataFrame(recommendations, user_ids)\\n\\n\\nclass PopularRecommender(BaseRecommender):\\n    def __init__(self, users, organisations):\\n        self.users = users\\n        self.organisations = organisations\\n\\n    def fit(self, reviews):\\n        self.popular_foreign_organisations_for_home_city = {}\\n        organisations = self.organisations.join(\\n            reviews.groupby(\\\"org_id\\\").size().rename(\\\"popularity\\\")\\n        )\\n        for city in organisations[\\\"city\\\"].unique():\\n            self.popular_foreign_organisations_for_home_city[city] = (\\n                organisations.query(\\\"city != @city\\\")\\n                .sort_values(\\\"popularity\\\", ascending=False)\\n                .index.to_numpy()\\n            )\\n        return self\\n\\n    def recommend(self, user_ids, recommend_size=20):\\n        recommendations = np.stack(\\n            self.users.loc[user_ids][\\\"city\\\"]\\n            .map(\\n                lambda city: self.popular_foreign_organisations_for_home_city[city][\\n                    :recommend_size\\n                ]\\n            )\\n            .values\\n        )\\n        return pd.DataFrame(recommendations, user_ids)\";\n",
       "                var nbb_cells = Jupyter.notebook.get_cells();\n",
       "                for (var i = 0; i < nbb_cells.length; ++i) {\n",
       "                    if (nbb_cells[i].input_prompt_number == nbb_cell_id) {\n",
       "                        if (nbb_cells[i].get_text() == nbb_unformatted_code) {\n",
       "                             nbb_cells[i].set_text(nbb_formatted_code);\n",
       "                        }\n",
       "                        break;\n",
       "                    }\n",
       "                }\n",
       "            }, 500);\n",
       "            "
      ],
      "text/plain": [
       "<IPython.core.display.Javascript object>"
      ]
     },
     "metadata": {},
     "output_type": "display_data"
    }
   ],
   "source": [
    "class BaseRecommender(abc.ABC):\n",
    "    @abc.abstractmethod\n",
    "    def fit(self, reviews):\n",
    "        return self\n",
    "\n",
    "    @abc.abstractmethod\n",
    "    def recommend(self, user_ids, recommend_size=20):\n",
    "        return recommendations\n",
    "\n",
    "\n",
    "class RandomRecommender(BaseRecommender):\n",
    "    def __init__(self, users, organisations):\n",
    "        self.users = users\n",
    "        self.organisations = organisations\n",
    "\n",
    "    def fit(self, reviews):\n",
    "        return self\n",
    "\n",
    "    def recommend(self, user_ids, recommend_size=20):\n",
    "        recommendations = np.random.choice(\n",
    "            self.organisations.index, size=(len(user_ids), recommend_size)\n",
    "        )\n",
    "        return pd.DataFrame(recommendations, user_ids)\n",
    "\n",
    "\n",
    "class PopularRecommender(BaseRecommender):\n",
    "    def __init__(self, users, organisations):\n",
    "        self.users = users\n",
    "        self.organisations = organisations\n",
    "\n",
    "    def fit(self, reviews):\n",
    "        self.popular_foreign_organisations_for_home_city = {}\n",
    "        organisations = self.organisations.join(\n",
    "            reviews.groupby(\"org_id\").size().rename(\"popularity\")\n",
    "        )\n",
    "        for city in organisations[\"city\"].unique():\n",
    "            self.popular_foreign_organisations_for_home_city[city] = (\n",
    "                organisations.query(\"city != @city\")\n",
    "                .sort_values(\"popularity\", ascending=False)\n",
    "                .index.to_numpy()\n",
    "            )\n",
    "        return self\n",
    "\n",
    "    def recommend(self, user_ids, recommend_size=20):\n",
    "        recommendations = np.stack(\n",
    "            self.users.loc[user_ids][\"city\"]\n",
    "            .map(\n",
    "                lambda city: self.popular_foreign_organisations_for_home_city[city][\n",
    "                    :recommend_size\n",
    "                ]\n",
    "            )\n",
    "            .values\n",
    "        )\n",
    "        return pd.DataFrame(recommendations, user_ids)"
   ]
  },
  {
   "cell_type": "markdown",
   "metadata": {},
   "source": [
    "**(1.0 балла) Задание 4.** Метрики качества.\n",
    "\n",
    "Напомним, что у нас бинарная релевантнотсь на основе оценки вычисляется как предикат **оценка больше, чем 3**.\n",
    "\n",
    "Реализуйте набор метрик качества (можете оборачивать внешние паекты):\n",
    "\n",
    "    * MNAP@20 (как в описании соревнования)\n",
    "    * HitRate ( = 1, если среди рекомендаций есть хотя бы одна релевантная и 0 иначе)\n",
    "    * MRR@20 ( обратная позиция первой релевантной рекомендации из списка рекомендаций длины K. )\n",
    "    * Coverage (доля item-ов, учитываемых в рекомендациях)\n",
    "    * Surprisal(см. ниже) \n",
    "\n",
    "\n",
    "### Surprisal\n",
    "Посмотирм, насколько наши рекомендации хороши с точки зрения новизны для пользователя, в качестве новизны будем рассматривать \"непопулярность\" айтемов в рекомендациях.\n",
    "\n",
    "Будем рассматривать собственную информацию item-а как меру его новизны.\n",
    "\n",
    "$$selfInformation(i) = -\\log_2 \\frac{|u_i|}{|N|}$$, \n",
    "где \n",
    "$i$ - объект, $|N|$ - число взаимодействий в обучающей выборке,  $|u_i|$ - число пользователей, взаимодействовавших с объектом в обучающей выборке.\n",
    "\n",
    "После подсчета собственной информации усредним значения собственной информации в рекомендациях пользователя.\n",
    "\n",
    "Чтобы получить значения от 0 до 1, разделим значение метрики для пользователя на максимально возможно значение метрики равное $log_2 N$.\n",
    "\n",
    "$$Surprisal(u)@k = \\frac{1}{k \\cdot log_2 N} \\sum_{j = 1}^{k}selfInformation(i_{u,j})$$\n",
    "\n",
    "где $i_{u,j}$ это j-й объект, который мы порекомендововали пользователю.\n",
    "\n",
    "Получившаяся метрика похожа на энтропию Шеннона:\n",
    "$$H = - K \\sum_{i\\in R}{p_i log p_i}$$\n",
    "\n",
    "\n",
    "Результа усредним по пользователям.\n",
    "\n",
    "### Что нужно сделать\n",
    "    \n",
    "  * Создайте функцию, которая генерирует словарь с метриками, по предоставленному решению.\n",
    "\n",
    "  * Оцените baseline-решения на валидации."
   ]
  },
  {
   "cell_type": "code",
   "execution_count": 10,
   "metadata": {
    "ExecuteTime": {
     "end_time": "2022-08-08T09:04:49.204306Z",
     "start_time": "2022-08-08T09:04:49.139986Z"
    }
   },
   "outputs": [
    {
     "data": {
      "application/javascript": [
       "\n",
       "            setTimeout(function() {\n",
       "                var nbb_cell_id = 10;\n",
       "                var nbb_unformatted_code = \"class MetricsBase:\\n    def __init__(self, users, organisations, reviews, k=20):\\n        self.users = users\\n        self.organisations = organisations\\n        self.reviews = reviews\\n        self.k = k\\n        self.relevant_orgs_for_users = (\\n            reviews.query(\\\"rating >= 4\\\")\\n            .groupby(\\\"user_id\\\")[\\\"org_id\\\"]\\n            .apply(np.array)\\n            .rename(\\\"relevant_org_ids\\\")\\n        )\\n        self.recommendations = None\\n        self.relevance = None\\n\\n    def binary_relevance(self, recommendations):\\n        relevance = (\\n            pd.merge(\\n                recommendations.agg(np.array, axis=\\\"columns\\\").rename(\\n                    \\\"predicted_org_ids\\\"\\n                ),\\n                self.relevant_orgs_for_users,\\n                left_index=True,\\n                right_index=True,\\n                how=\\\"left\\\",\\n            )\\n            .aggregate(\\n                lambda row: np.isin(row[\\\"predicted_org_ids\\\"], row[\\\"relevant_org_ids\\\"]),\\n                axis=\\\"columns\\\",\\n            )\\n            .pipe(\\n                lambda series: pd.DataFrame(np.stack(series.values), index=series.index)\\n            )\\n        )\\n        return relevance\\n\\n    def precalculate_relevance(self, recommendations):\\n        self.recommendations = recommendations\\n        self.relevance = self.binary_relevance(recommendations.iloc[:, : self.k])\\n\\n    @staticmethod\\n    def wrap_metric(metric):\\n        \\\"\\\"\\\"Precalculate relevance if recommendations were passed.\\\"\\\"\\\"\\n\\n        def wrapper(self, recommendations=None, **kwargs):\\n            if recommendations is not None:\\n                self.precalculate_relevance(recommendations)\\n            elif self.recommendations is None:\\n                raise ValueError(\\n                    \\\"recommendations must be passed when first calculating a metric.\\\"\\n                )\\n            return metric(self, **kwargs)\\n\\n        return wrapper\\n\\n    def __init_subclass__(cls):\\n        \\\"\\\"\\\"Wrap all subclass attributes\\\"\\\"\\\"\\n        super().__init_subclass__()\\n        for child_attribute in cls.__dict__.keys() - MetricsBase.__dict__.keys():\\n            setattr(\\n                cls,\\n                child_attribute,\\n                MetricsBase.wrap_metric(object.__getattribute__(cls, child_attribute)),\\n            )\\n\\n\\nclass Metrics(MetricsBase):\\n    def precision(self):\\n        precision = self.relevance.astype(int).expanding(axis=\\\"columns\\\").mean()\\n        return precision\\n\\n    def ideal_precision(self):\\n        relevant_count = (\\n            self.reviews.query(\\\"user_id in @self.recommendations.index and rating >= 4\\\")\\n            .groupby(\\\"user_id\\\")\\n            .size()\\n            .reindex(self.relevance.index)\\n        )\\n\\n        def relevant_count_to_ideal_average_precision(count):\\n            k = np.arange(1, self.k + 1)\\n            ideal_relevant_count = np.minimum(k, count)\\n            return np.mean(ideal_relevant_count / k)\\n\\n        return relevant_count.map(relevant_count_to_ideal_average_precision)\\n\\n    def mnap(self):\\n        \\\"\\\"\\\"Returns mean normalized average precision\\\"\\\"\\\"\\n        average_precision = self.precision().mean(\\\"columns\\\")\\n        ideal_precision = self.ideal_precision()\\n        return np.nanmean(average_precision / ideal_precision)\\n\\n    def hitrate(self):\\n        return self.relevance.any(axis=\\\"columns\\\").mean()\\n\\n    def mrr(self):\\n        \\\"\\\"\\\"Returns mean reciprocal rank\\\"\\\"\\\"\\n        relevance = self.relevance.values\\n        return (\\n            (relevance * (1 / np.arange(1, relevance.shape[1] + 1))).max(axis=1).mean()\\n        )\\n\\n    def coverage(self):\\n        org_ids = set(self.organisations.index)\\n        recommended_org_ids = set(self.recommendations.values.flat)\\n        return len(recommended_org_ids & org_ids) / len(org_ids)\\n\\n    def surprisal(self):\\n        org_interactions = (\\n            self.reviews.groupby(\\\"org_id\\\")\\n            .size()\\n            .reindex(self.organisations.index)\\n            .replace(0, np.nan)\\n        )\\n        recommended_interactions = self.recommendations.applymap(\\n            lambda org_id: org_interactions[org_id] if org_id else np.nan\\n        )\\n        self_information = -np.log2(recommended_interactions) + np.log2(\\n            len(self.reviews)\\n        )\\n        return (self_information / np.log2(len(self.reviews))).mean().mean()\\n\\n    def calculate_metrics(self, name=None):\\n        results = pd.Series(dtype=float, name=name)\\n        for metric in [\\\"mnap\\\", \\\"hitrate\\\", \\\"mrr\\\", \\\"coverage\\\", \\\"surprisal\\\"]:\\n            results[metric] = getattr(self, metric)()\\n        return results\";\n",
       "                var nbb_formatted_code = \"class MetricsBase:\\n    def __init__(self, users, organisations, reviews, k=20):\\n        self.users = users\\n        self.organisations = organisations\\n        self.reviews = reviews\\n        self.k = k\\n        self.relevant_orgs_for_users = (\\n            reviews.query(\\\"rating >= 4\\\")\\n            .groupby(\\\"user_id\\\")[\\\"org_id\\\"]\\n            .apply(np.array)\\n            .rename(\\\"relevant_org_ids\\\")\\n        )\\n        self.recommendations = None\\n        self.relevance = None\\n\\n    def binary_relevance(self, recommendations):\\n        relevance = (\\n            pd.merge(\\n                recommendations.agg(np.array, axis=\\\"columns\\\").rename(\\n                    \\\"predicted_org_ids\\\"\\n                ),\\n                self.relevant_orgs_for_users,\\n                left_index=True,\\n                right_index=True,\\n                how=\\\"left\\\",\\n            )\\n            .aggregate(\\n                lambda row: np.isin(row[\\\"predicted_org_ids\\\"], row[\\\"relevant_org_ids\\\"]),\\n                axis=\\\"columns\\\",\\n            )\\n            .pipe(\\n                lambda series: pd.DataFrame(np.stack(series.values), index=series.index)\\n            )\\n        )\\n        return relevance\\n\\n    def precalculate_relevance(self, recommendations):\\n        self.recommendations = recommendations\\n        self.relevance = self.binary_relevance(recommendations.iloc[:, : self.k])\\n\\n    @staticmethod\\n    def wrap_metric(metric):\\n        \\\"\\\"\\\"Precalculate relevance if recommendations were passed.\\\"\\\"\\\"\\n\\n        def wrapper(self, recommendations=None, **kwargs):\\n            if recommendations is not None:\\n                self.precalculate_relevance(recommendations)\\n            elif self.recommendations is None:\\n                raise ValueError(\\n                    \\\"recommendations must be passed when first calculating a metric.\\\"\\n                )\\n            return metric(self, **kwargs)\\n\\n        return wrapper\\n\\n    def __init_subclass__(cls):\\n        \\\"\\\"\\\"Wrap all subclass attributes\\\"\\\"\\\"\\n        super().__init_subclass__()\\n        for child_attribute in cls.__dict__.keys() - MetricsBase.__dict__.keys():\\n            setattr(\\n                cls,\\n                child_attribute,\\n                MetricsBase.wrap_metric(object.__getattribute__(cls, child_attribute)),\\n            )\\n\\n\\nclass Metrics(MetricsBase):\\n    def precision(self):\\n        precision = self.relevance.astype(int).expanding(axis=\\\"columns\\\").mean()\\n        return precision\\n\\n    def ideal_precision(self):\\n        relevant_count = (\\n            self.reviews.query(\\\"user_id in @self.recommendations.index and rating >= 4\\\")\\n            .groupby(\\\"user_id\\\")\\n            .size()\\n            .reindex(self.relevance.index)\\n        )\\n\\n        def relevant_count_to_ideal_average_precision(count):\\n            k = np.arange(1, self.k + 1)\\n            ideal_relevant_count = np.minimum(k, count)\\n            return np.mean(ideal_relevant_count / k)\\n\\n        return relevant_count.map(relevant_count_to_ideal_average_precision)\\n\\n    def mnap(self):\\n        \\\"\\\"\\\"Returns mean normalized average precision\\\"\\\"\\\"\\n        average_precision = self.precision().mean(\\\"columns\\\")\\n        ideal_precision = self.ideal_precision()\\n        return np.nanmean(average_precision / ideal_precision)\\n\\n    def hitrate(self):\\n        return self.relevance.any(axis=\\\"columns\\\").mean()\\n\\n    def mrr(self):\\n        \\\"\\\"\\\"Returns mean reciprocal rank\\\"\\\"\\\"\\n        relevance = self.relevance.values\\n        return (\\n            (relevance * (1 / np.arange(1, relevance.shape[1] + 1))).max(axis=1).mean()\\n        )\\n\\n    def coverage(self):\\n        org_ids = set(self.organisations.index)\\n        recommended_org_ids = set(self.recommendations.values.flat)\\n        return len(recommended_org_ids & org_ids) / len(org_ids)\\n\\n    def surprisal(self):\\n        org_interactions = (\\n            self.reviews.groupby(\\\"org_id\\\")\\n            .size()\\n            .reindex(self.organisations.index)\\n            .replace(0, np.nan)\\n        )\\n        recommended_interactions = self.recommendations.applymap(\\n            lambda org_id: org_interactions[org_id] if org_id else np.nan\\n        )\\n        self_information = -np.log2(recommended_interactions) + np.log2(\\n            len(self.reviews)\\n        )\\n        return (self_information / np.log2(len(self.reviews))).mean().mean()\\n\\n    def calculate_metrics(self, name=None):\\n        results = pd.Series(dtype=float, name=name)\\n        for metric in [\\\"mnap\\\", \\\"hitrate\\\", \\\"mrr\\\", \\\"coverage\\\", \\\"surprisal\\\"]:\\n            results[metric] = getattr(self, metric)()\\n        return results\";\n",
       "                var nbb_cells = Jupyter.notebook.get_cells();\n",
       "                for (var i = 0; i < nbb_cells.length; ++i) {\n",
       "                    if (nbb_cells[i].input_prompt_number == nbb_cell_id) {\n",
       "                        if (nbb_cells[i].get_text() == nbb_unformatted_code) {\n",
       "                             nbb_cells[i].set_text(nbb_formatted_code);\n",
       "                        }\n",
       "                        break;\n",
       "                    }\n",
       "                }\n",
       "            }, 500);\n",
       "            "
      ],
      "text/plain": [
       "<IPython.core.display.Javascript object>"
      ]
     },
     "metadata": {},
     "output_type": "display_data"
    }
   ],
   "source": [
    "class MetricsBase:\n",
    "    def __init__(self, users, organisations, reviews, k=20):\n",
    "        self.users = users\n",
    "        self.organisations = organisations\n",
    "        self.reviews = reviews\n",
    "        self.k = k\n",
    "        self.relevant_orgs_for_users = (\n",
    "            reviews.query(\"rating >= 4\")\n",
    "            .groupby(\"user_id\")[\"org_id\"]\n",
    "            .apply(np.array)\n",
    "            .rename(\"relevant_org_ids\")\n",
    "        )\n",
    "        self.recommendations = None\n",
    "        self.relevance = None\n",
    "\n",
    "    def binary_relevance(self, recommendations):\n",
    "        relevance = (\n",
    "            pd.merge(\n",
    "                recommendations.agg(np.array, axis=\"columns\").rename(\n",
    "                    \"predicted_org_ids\"\n",
    "                ),\n",
    "                self.relevant_orgs_for_users,\n",
    "                left_index=True,\n",
    "                right_index=True,\n",
    "                how=\"left\",\n",
    "            )\n",
    "            .aggregate(\n",
    "                lambda row: np.isin(row[\"predicted_org_ids\"], row[\"relevant_org_ids\"]),\n",
    "                axis=\"columns\",\n",
    "            )\n",
    "            .pipe(\n",
    "                lambda series: pd.DataFrame(np.stack(series.values), index=series.index)\n",
    "            )\n",
    "        )\n",
    "        return relevance\n",
    "\n",
    "    def precalculate_relevance(self, recommendations):\n",
    "        self.recommendations = recommendations\n",
    "        self.relevance = self.binary_relevance(recommendations.iloc[:, : self.k])\n",
    "\n",
    "    @staticmethod\n",
    "    def wrap_metric(metric):\n",
    "        \"\"\"Precalculate relevance if recommendations were passed.\"\"\"\n",
    "\n",
    "        def wrapper(self, recommendations=None, **kwargs):\n",
    "            if recommendations is not None:\n",
    "                self.precalculate_relevance(recommendations)\n",
    "            elif self.recommendations is None:\n",
    "                raise ValueError(\n",
    "                    \"recommendations must be passed when first calculating a metric.\"\n",
    "                )\n",
    "            return metric(self, **kwargs)\n",
    "\n",
    "        return wrapper\n",
    "\n",
    "    def __init_subclass__(cls):\n",
    "        \"\"\"Wrap all subclass attributes\"\"\"\n",
    "        super().__init_subclass__()\n",
    "        for child_attribute in cls.__dict__.keys() - MetricsBase.__dict__.keys():\n",
    "            setattr(\n",
    "                cls,\n",
    "                child_attribute,\n",
    "                MetricsBase.wrap_metric(object.__getattribute__(cls, child_attribute)),\n",
    "            )\n",
    "\n",
    "\n",
    "class Metrics(MetricsBase):\n",
    "    def precision(self):\n",
    "        precision = self.relevance.astype(int).expanding(axis=\"columns\").mean()\n",
    "        return precision\n",
    "\n",
    "    def ideal_precision(self):\n",
    "        relevant_count = (\n",
    "            self.reviews.query(\"user_id in @self.recommendations.index and rating >= 4\")\n",
    "            .groupby(\"user_id\")\n",
    "            .size()\n",
    "            .reindex(self.relevance.index)\n",
    "        )\n",
    "\n",
    "        def relevant_count_to_ideal_average_precision(count):\n",
    "            k = np.arange(1, self.k + 1)\n",
    "            ideal_relevant_count = np.minimum(k, count)\n",
    "            return np.mean(ideal_relevant_count / k)\n",
    "\n",
    "        return relevant_count.map(relevant_count_to_ideal_average_precision)\n",
    "\n",
    "    def mnap(self):\n",
    "        \"\"\"Returns mean normalized average precision\"\"\"\n",
    "        average_precision = self.precision().mean(\"columns\")\n",
    "        ideal_precision = self.ideal_precision()\n",
    "        return np.nanmean(average_precision / ideal_precision)\n",
    "\n",
    "    def hitrate(self):\n",
    "        return self.relevance.any(axis=\"columns\").mean()\n",
    "\n",
    "    def mrr(self):\n",
    "        \"\"\"Returns mean reciprocal rank\"\"\"\n",
    "        relevance = self.relevance.values\n",
    "        return (\n",
    "            (relevance * (1 / np.arange(1, relevance.shape[1] + 1))).max(axis=1).mean()\n",
    "        )\n",
    "\n",
    "    def coverage(self):\n",
    "        org_ids = set(self.organisations.index)\n",
    "        recommended_org_ids = set(self.recommendations.values.flat)\n",
    "        return len(recommended_org_ids & org_ids) / len(org_ids)\n",
    "\n",
    "    def surprisal(self):\n",
    "        org_interactions = (\n",
    "            self.reviews.groupby(\"org_id\")\n",
    "            .size()\n",
    "            .reindex(self.organisations.index)\n",
    "            .replace(0, np.nan)\n",
    "        )\n",
    "        recommended_interactions = self.recommendations.applymap(\n",
    "            lambda org_id: org_interactions[org_id] if org_id else np.nan\n",
    "        )\n",
    "        self_information = -np.log2(recommended_interactions) + np.log2(\n",
    "            len(self.reviews)\n",
    "        )\n",
    "        return (self_information / np.log2(len(self.reviews))).mean().mean()\n",
    "\n",
    "    def calculate_metrics(self, name=None):\n",
    "        results = pd.Series(dtype=float, name=name)\n",
    "        for metric in [\"mnap\", \"hitrate\", \"mrr\", \"coverage\", \"surprisal\"]:\n",
    "            results[metric] = getattr(self, metric)()\n",
    "        return results"
   ]
  },
  {
   "cell_type": "code",
   "execution_count": 11,
   "metadata": {
    "ExecuteTime": {
     "end_time": "2022-08-08T09:04:51.761902Z",
     "start_time": "2022-08-08T09:04:51.721137Z"
    }
   },
   "outputs": [
    {
     "data": {
      "application/javascript": [
       "\n",
       "            setTimeout(function() {\n",
       "                var nbb_cell_id = 11;\n",
       "                var nbb_unformatted_code = \"class Assessor:\\n    def __init__(self, users, organisations, train_reviews, validation_reviews):\\n        self.users = users\\n        self.organisations = organisations\\n        self.train_reviews = train_reviews\\n        self.validation_users = validation_reviews[\\\"user_id\\\"].unique()\\n        self.metrics = Metrics(\\n            users, organisations, reviews=pd.concat([train_reviews, validation_reviews])\\n        )\\n        self.assessments = {}\\n\\n    def assess_model(self, model, name):\\n        model.fit(self.train_reviews)\\n        recommendations = model.recommend(self.validation_users)\\n        results = self.metrics.calculate_metrics(recommendations, name=name)\\n        self.assessments[name] = {\\n            \\\"recommendations\\\": recommendations,\\n            \\\"results\\\": results,\\n        }\\n\\n    def assess(self, models):\\n        for name, model in models.items():\\n            self.assess_model(model, name)\\n\\n    def show_results(self):\\n        results = pd.concat(\\n            [i[\\\"results\\\"] for i in self.assessments.values()], axis=\\\"columns\\\"\\n        )\\n        results.plot(\\n            kind=\\\"barh\\\",\\n            log=True,\\n            title=\\\"Model metrics, log scale\\\",\\n            figsize=(10, 6),\\n        )\\n        return results.T\";\n",
       "                var nbb_formatted_code = \"class Assessor:\\n    def __init__(self, users, organisations, train_reviews, validation_reviews):\\n        self.users = users\\n        self.organisations = organisations\\n        self.train_reviews = train_reviews\\n        self.validation_users = validation_reviews[\\\"user_id\\\"].unique()\\n        self.metrics = Metrics(\\n            users, organisations, reviews=pd.concat([train_reviews, validation_reviews])\\n        )\\n        self.assessments = {}\\n\\n    def assess_model(self, model, name):\\n        model.fit(self.train_reviews)\\n        recommendations = model.recommend(self.validation_users)\\n        results = self.metrics.calculate_metrics(recommendations, name=name)\\n        self.assessments[name] = {\\n            \\\"recommendations\\\": recommendations,\\n            \\\"results\\\": results,\\n        }\\n\\n    def assess(self, models):\\n        for name, model in models.items():\\n            self.assess_model(model, name)\\n\\n    def show_results(self):\\n        results = pd.concat(\\n            [i[\\\"results\\\"] for i in self.assessments.values()], axis=\\\"columns\\\"\\n        )\\n        results.plot(\\n            kind=\\\"barh\\\",\\n            log=True,\\n            title=\\\"Model metrics, log scale\\\",\\n            figsize=(10, 6),\\n        )\\n        return results.T\";\n",
       "                var nbb_cells = Jupyter.notebook.get_cells();\n",
       "                for (var i = 0; i < nbb_cells.length; ++i) {\n",
       "                    if (nbb_cells[i].input_prompt_number == nbb_cell_id) {\n",
       "                        if (nbb_cells[i].get_text() == nbb_unformatted_code) {\n",
       "                             nbb_cells[i].set_text(nbb_formatted_code);\n",
       "                        }\n",
       "                        break;\n",
       "                    }\n",
       "                }\n",
       "            }, 500);\n",
       "            "
      ],
      "text/plain": [
       "<IPython.core.display.Javascript object>"
      ]
     },
     "metadata": {},
     "output_type": "display_data"
    }
   ],
   "source": [
    "class Assessor:\n",
    "    def __init__(self, users, organisations, train_reviews, validation_reviews):\n",
    "        self.users = users\n",
    "        self.organisations = organisations\n",
    "        self.train_reviews = train_reviews\n",
    "        self.validation_users = validation_reviews[\"user_id\"].unique()\n",
    "        self.metrics = Metrics(\n",
    "            users, organisations, reviews=pd.concat([train_reviews, validation_reviews])\n",
    "        )\n",
    "        self.assessments = {}\n",
    "\n",
    "    def assess_model(self, model, name):\n",
    "        model.fit(self.train_reviews)\n",
    "        recommendations = model.recommend(self.validation_users)\n",
    "        results = self.metrics.calculate_metrics(recommendations, name=name)\n",
    "        self.assessments[name] = {\n",
    "            \"recommendations\": recommendations,\n",
    "            \"results\": results,\n",
    "        }\n",
    "\n",
    "    def assess(self, models):\n",
    "        for name, model in models.items():\n",
    "            self.assess_model(model, name)\n",
    "\n",
    "    def show_results(self):\n",
    "        results = pd.concat(\n",
    "            [i[\"results\"] for i in self.assessments.values()], axis=\"columns\"\n",
    "        )\n",
    "        results.plot(\n",
    "            kind=\"barh\",\n",
    "            log=True,\n",
    "            title=\"Model metrics, log scale\",\n",
    "            figsize=(10, 6),\n",
    "        )\n",
    "        return results.T"
   ]
  },
  {
   "cell_type": "code",
   "execution_count": 12,
   "metadata": {
    "ExecuteTime": {
     "end_time": "2022-08-08T09:04:56.521481Z",
     "start_time": "2022-08-08T09:04:53.060574Z"
    }
   },
   "outputs": [
    {
     "data": {
      "image/png": "[encoded data removed]",
      "text/plain": [
       "<Figure size 720x432 with 1 Axes>"
      ]
     },
     "metadata": {
      "needs_background": "light"
     },
     "output_type": "display_data"
    },
    {
     "data": {
      "application/javascript": [
       "\n",
       "            setTimeout(function() {\n",
       "                var nbb_cell_id = 12;\n",
       "                var nbb_unformatted_code = \"assessor = Assessor(users, organisations, train_reviews, validation_reviews)\\nbaseline_models = {\\n    \\\"random\\\": RandomRecommender(users, organisations),\\n    \\\"popular\\\": PopularRecommender(users, organisations),\\n}\\nassessor.assess(baseline_models)\\n_ = assessor.show_results()\";\n",
       "                var nbb_formatted_code = \"assessor = Assessor(users, organisations, train_reviews, validation_reviews)\\nbaseline_models = {\\n    \\\"random\\\": RandomRecommender(users, organisations),\\n    \\\"popular\\\": PopularRecommender(users, organisations),\\n}\\nassessor.assess(baseline_models)\\n_ = assessor.show_results()\";\n",
       "                var nbb_cells = Jupyter.notebook.get_cells();\n",
       "                for (var i = 0; i < nbb_cells.length; ++i) {\n",
       "                    if (nbb_cells[i].input_prompt_number == nbb_cell_id) {\n",
       "                        if (nbb_cells[i].get_text() == nbb_unformatted_code) {\n",
       "                             nbb_cells[i].set_text(nbb_formatted_code);\n",
       "                        }\n",
       "                        break;\n",
       "                    }\n",
       "                }\n",
       "            }, 500);\n",
       "            "
      ],
      "text/plain": [
       "<IPython.core.display.Javascript object>"
      ]
     },
     "metadata": {},
     "output_type": "display_data"
    }
   ],
   "source": [
    "assessor = Assessor(users, organisations, train_reviews, validation_reviews)\n",
    "baseline_models = {\n",
    "    \"random\": RandomRecommender(users, organisations),\n",
    "    \"popular\": PopularRecommender(users, organisations),\n",
    "}\n",
    "assessor.assess(baseline_models)\n",
    "_ = assessor.show_results()"
   ]
  },
  {
   "cell_type": "markdown",
   "metadata": {},
   "source": [
    "**(1.0 балла) Задание 5.** Метод Memory based. User-2-User or Item-2-Item\n",
    "\n",
    "Теперь рассмотрим [memory-based](https://en.wikipedia.org/wiki/Collaborative_filtering#Memory-based) методы рекоммендаций.\n",
    "Подход, лежащий в их основе, использует данные о рейтингах для вычисления сходства между пользователями (user-based) или объектами (item-based), на основе этих данных делаются предсказания рейтингов и, в дальнейшем, строятся рекоммендации. Эти методы просты в реализации и эффективны на ранних стадиях разработки рекомендательных систем.\n",
    "                                 \n",
    "              \n",
    "За последние годы было создано много библиотек для реализации алгоримтов построения рекомендаций.      \n",
    "  * https://github.com/benfred/implicit\n",
    "  * https://sberbank-ai-lab.github.io/RePlay/index.html\n",
    "  * https://github.com/apple/turicreate \n",
    "  * https://github.com/caserec/CaseRecommender\n",
    "\n",
    "Выеберите одну из них и постройте предсказания на основании совместной фильтрации по близости пользователей или по близости объектов.\n",
    "\n",
    "Если обучение идёт слишком долго подумайте про семплирование данных. Обоснуйте выбранную стратегию семплирования.\n",
    "\n"
   ]
  },
  {
   "cell_type": "code",
   "execution_count": 40,
   "metadata": {
    "ExecuteTime": {
     "end_time": "2022-08-08T09:18:15.268872Z",
     "start_time": "2022-08-08T09:18:15.225445Z"
    }
   },
   "outputs": [
    {
     "data": {
      "application/javascript": [
       "\n",
       "            setTimeout(function() {\n",
       "                var nbb_cell_id = 40;\n",
       "                var nbb_unformatted_code = \"import implicit\\n\\nfrom lightfm.data import Dataset\\nfrom scipy.sparse import coo_matrix, csr_matrix\\nfrom tqdm.auto import tqdm\\n\\n\\nclass SparseInterface:\\n    def __init__(self, data):\\n        self.users = data[\\\"users\\\"]\\n        self.organisations = data[\\\"organisations\\\"]\\n        self.data = data\\n        self.dataset = Dataset()\\n\\n    def build(self):\\n        self.fit()\\n        self.build_user_features()\\n        self.build_item_features()\\n        (\\n            self.user_id_map,\\n            self.user_feature_map,\\n            self.item_id_map,\\n            self.item_feature_map,\\n        ) = self.dataset.mapping()\\n        self.user_id_map = pd.Series(self.user_id_map)\\n        item_id_map = pd.Series(self.item_id_map)\\n        self.item_id_map_reverse = pd.Series(item_id_map.index, item_id_map.values)\\n        self.item_id_map_reverse[0] = 0\\n\\n    def fit(self):\\n        self.dataset.fit(\\n            users=self.users.index,\\n            items=self.organisations.index,\\n            user_features=self.users[\\\"city\\\"].unique(),\\n            item_features=list(self.organisations[\\\"city\\\"].unique())\\n            + [\\\"average_bill\\\", \\\"rating\\\"]\\n            + [f\\\"rubric_{rubric_id}\\\" for rubric_id in self.data[\\\"rubrics\\\"].index]\\n            + [f\\\"feature_{feature_id}\\\" for feature_id in self.data[\\\"features\\\"].index],\\n        )\\n\\n    def build_user_features(self):\\n        self.user_features = self.dataset.build_user_features(\\n            zip(self.users.index, self.users[[\\\"city\\\"]].values)\\n        )\\n\\n    def build_item_features(self):\\n        self.item_features = self.dataset.build_item_features(\\n            (\\n                (\\n                    org_id,\\n                    {\\n                        **{org_row[\\\"city\\\"]: True},\\n                        **org_row[[\\\"average_bill\\\", \\\"rating\\\"]].dropna().to_dict(),\\n                        **{\\n                            f\\\"rubric_{rubric_id}\\\": True\\n                            for rubric_id in org_row[\\\"rubrics_id\\\"]\\n                        },\\n                        **{\\n                            f\\\"feature_{feature_id}\\\": True\\n                            for feature_id in org_row[\\\"features_id\\\"]\\n                        },\\n                    },\\n                )\\n                for org_id, org_row in tqdm(\\n                    self.organisations.iterrows(),\\n                    \\\"Building item features\\\",\\n                    total=len(self.organisations),\\n                )\\n            )\\n        )\\n\\n    def build_interactions(self, reviews):\\n        self.interactions, self.interactions_weighted = self.dataset.build_interactions(\\n            reviews[[\\\"user_id\\\", \\\"org_id\\\", \\\"rating\\\"]].dropna().astype(\\\"uint64\\\").values\\n        )\\n\\n    def user_ids_to_latent(self, user_ids):\\n        return self.user_id_map.loc[user_ids]\\n\\n    def recommended_org_ids_from_latent(self, latent_recommendations):\\n        recommendations = latent_recommendations.apply(\\n            lambda s: self.item_id_map_reverse.loc[s].values\\n        )\\n        return recommendations\";\n",
       "                var nbb_formatted_code = \"import implicit\\n\\nfrom lightfm.data import Dataset\\nfrom scipy.sparse import coo_matrix, csr_matrix\\nfrom tqdm.auto import tqdm\\n\\n\\nclass SparseInterface:\\n    def __init__(self, data):\\n        self.users = data[\\\"users\\\"]\\n        self.organisations = data[\\\"organisations\\\"]\\n        self.data = data\\n        self.dataset = Dataset()\\n\\n    def build(self):\\n        self.fit()\\n        self.build_user_features()\\n        self.build_item_features()\\n        (\\n            self.user_id_map,\\n            self.user_feature_map,\\n            self.item_id_map,\\n            self.item_feature_map,\\n        ) = self.dataset.mapping()\\n        self.user_id_map = pd.Series(self.user_id_map)\\n        item_id_map = pd.Series(self.item_id_map)\\n        self.item_id_map_reverse = pd.Series(item_id_map.index, item_id_map.values)\\n        self.item_id_map_reverse[0] = 0\\n\\n    def fit(self):\\n        self.dataset.fit(\\n            users=self.users.index,\\n            items=self.organisations.index,\\n            user_features=self.users[\\\"city\\\"].unique(),\\n            item_features=list(self.organisations[\\\"city\\\"].unique())\\n            + [\\\"average_bill\\\", \\\"rating\\\"]\\n            + [f\\\"rubric_{rubric_id}\\\" for rubric_id in self.data[\\\"rubrics\\\"].index]\\n            + [f\\\"feature_{feature_id}\\\" for feature_id in self.data[\\\"features\\\"].index],\\n        )\\n\\n    def build_user_features(self):\\n        self.user_features = self.dataset.build_user_features(\\n            zip(self.users.index, self.users[[\\\"city\\\"]].values)\\n        )\\n\\n    def build_item_features(self):\\n        self.item_features = self.dataset.build_item_features(\\n            (\\n                (\\n                    org_id,\\n                    {\\n                        **{org_row[\\\"city\\\"]: True},\\n                        **org_row[[\\\"average_bill\\\", \\\"rating\\\"]].dropna().to_dict(),\\n                        **{\\n                            f\\\"rubric_{rubric_id}\\\": True\\n                            for rubric_id in org_row[\\\"rubrics_id\\\"]\\n                        },\\n                        **{\\n                            f\\\"feature_{feature_id}\\\": True\\n                            for feature_id in org_row[\\\"features_id\\\"]\\n                        },\\n                    },\\n                )\\n                for org_id, org_row in tqdm(\\n                    self.organisations.iterrows(),\\n                    \\\"Building item features\\\",\\n                    total=len(self.organisations),\\n                )\\n            )\\n        )\\n\\n    def build_interactions(self, reviews):\\n        self.interactions, self.interactions_weighted = self.dataset.build_interactions(\\n            reviews[[\\\"user_id\\\", \\\"org_id\\\", \\\"rating\\\"]].dropna().astype(\\\"uint64\\\").values\\n        )\\n\\n    def user_ids_to_latent(self, user_ids):\\n        return self.user_id_map.loc[user_ids]\\n\\n    def recommended_org_ids_from_latent(self, latent_recommendations):\\n        recommendations = latent_recommendations.apply(\\n            lambda s: self.item_id_map_reverse.loc[s].values\\n        )\\n        return recommendations\";\n",
       "                var nbb_cells = Jupyter.notebook.get_cells();\n",
       "                for (var i = 0; i < nbb_cells.length; ++i) {\n",
       "                    if (nbb_cells[i].input_prompt_number == nbb_cell_id) {\n",
       "                        if (nbb_cells[i].get_text() == nbb_unformatted_code) {\n",
       "                             nbb_cells[i].set_text(nbb_formatted_code);\n",
       "                        }\n",
       "                        break;\n",
       "                    }\n",
       "                }\n",
       "            }, 500);\n",
       "            "
      ],
      "text/plain": [
       "<IPython.core.display.Javascript object>"
      ]
     },
     "metadata": {},
     "output_type": "display_data"
    }
   ],
   "source": [
    "import implicit\n",
    "\n",
    "from lightfm.data import Dataset\n",
    "from scipy.sparse import coo_matrix, csr_matrix\n",
    "from tqdm.auto import tqdm\n",
    "\n",
    "\n",
    "class SparseInterface:\n",
    "    def __init__(self, data):\n",
    "        self.users = data[\"users\"]\n",
    "        self.organisations = data[\"organisations\"]\n",
    "        self.data = data\n",
    "        self.dataset = Dataset()\n",
    "\n",
    "    def build(self):\n",
    "        self.fit()\n",
    "        self.build_user_features()\n",
    "        self.build_item_features()\n",
    "        (\n",
    "            self.user_id_map,\n",
    "            self.user_feature_map,\n",
    "            self.item_id_map,\n",
    "            self.item_feature_map,\n",
    "        ) = self.dataset.mapping()\n",
    "        self.user_id_map = pd.Series(self.user_id_map)\n",
    "        item_id_map = pd.Series(self.item_id_map)\n",
    "        self.item_id_map_reverse = pd.Series(item_id_map.index, item_id_map.values)\n",
    "        self.item_id_map_reverse[0] = 0\n",
    "\n",
    "    def fit(self):\n",
    "        self.dataset.fit(\n",
    "            users=self.users.index,\n",
    "            items=self.organisations.index,\n",
    "            user_features=self.users[\"city\"].unique(),\n",
    "            item_features=list(self.organisations[\"city\"].unique())\n",
    "            + [\"average_bill\", \"rating\"]\n",
    "            + [f\"rubric_{rubric_id}\" for rubric_id in self.data[\"rubrics\"].index]\n",
    "            + [f\"feature_{feature_id}\" for feature_id in self.data[\"features\"].index],\n",
    "        )\n",
    "\n",
    "    def build_user_features(self):\n",
    "        self.user_features = self.dataset.build_user_features(\n",
    "            zip(self.users.index, self.users[[\"city\"]].values)\n",
    "        )\n",
    "\n",
    "    def build_item_features(self):\n",
    "        self.item_features = self.dataset.build_item_features(\n",
    "            (\n",
    "                (\n",
    "                    org_id,\n",
    "                    {\n",
    "                        **{org_row[\"city\"]: True},\n",
    "                        **org_row[[\"average_bill\", \"rating\"]].dropna().to_dict(),\n",
    "                        **{\n",
    "                            f\"rubric_{rubric_id}\": True\n",
    "                            for rubric_id in org_row[\"rubrics_id\"]\n",
    "                        },\n",
    "                        **{\n",
    "                            f\"feature_{feature_id}\": True\n",
    "                            for feature_id in org_row[\"features_id\"]\n",
    "                        },\n",
    "                    },\n",
    "                )\n",
    "                for org_id, org_row in tqdm(\n",
    "                    self.organisations.iterrows(),\n",
    "                    \"Building item features\",\n",
    "                    total=len(self.organisations),\n",
    "                )\n",
    "            )\n",
    "        )\n",
    "\n",
    "    def build_interactions(self, reviews):\n",
    "        self.interactions, self.interactions_weighted = self.dataset.build_interactions(\n",
    "            reviews[[\"user_id\", \"org_id\", \"rating\"]].dropna().astype(\"uint64\").values\n",
    "        )\n",
    "\n",
    "    def user_ids_to_latent(self, user_ids):\n",
    "        return self.user_id_map.loc[user_ids]\n",
    "\n",
    "    def recommended_org_ids_from_latent(self, latent_recommendations):\n",
    "        recommendations = latent_recommendations.apply(\n",
    "            lambda s: self.item_id_map_reverse.loc[s].values\n",
    "        )\n",
    "        return recommendations"
   ]
  },
  {
   "cell_type": "code",
   "execution_count": 14,
   "metadata": {
    "ExecuteTime": {
     "end_time": "2022-08-08T09:05:48.917681Z",
     "start_time": "2022-08-08T09:05:48.906196Z"
    }
   },
   "outputs": [
    {
     "data": {
      "application/javascript": [
       "\n",
       "            setTimeout(function() {\n",
       "                var nbb_cell_id = 14;\n",
       "                var nbb_unformatted_code = \"class ImplicitRecommender(BaseRecommender):\\n    def __init__(self, sparse_interface, model):\\n        self.model = model\\n        self.sparse_interface = sparse_interface\\n\\n    def fit(self, reviews):\\n        self.sparse_interface.build_interactions(reviews)\\n        self.interactions = csr_matrix(self.sparse_interface.interactions_weighted)\\n        self.model.fit(self.interactions)\\n        return self\\n\\n    def recommend(self, user_ids, recommend_size=20):\\n        user_ids_mapped = self.sparse_interface.user_ids_to_latent(user_ids)\\n        recommendations, predicted_ratings = self.model.recommend(\\n            userid=user_ids_mapped,\\n            user_items=self.interactions[user_ids_mapped],\\n            filter_already_liked_items=False,\\n            N=recommend_size,\\n        )\\n        recommendations = pd.DataFrame(recommendations, user_ids).replace(-1, 0)\\n        return self.sparse_interface.recommended_org_ids_from_latent(recommendations)\";\n",
       "                var nbb_formatted_code = \"class ImplicitRecommender(BaseRecommender):\\n    def __init__(self, sparse_interface, model):\\n        self.model = model\\n        self.sparse_interface = sparse_interface\\n\\n    def fit(self, reviews):\\n        self.sparse_interface.build_interactions(reviews)\\n        self.interactions = csr_matrix(self.sparse_interface.interactions_weighted)\\n        self.model.fit(self.interactions)\\n        return self\\n\\n    def recommend(self, user_ids, recommend_size=20):\\n        user_ids_mapped = self.sparse_interface.user_ids_to_latent(user_ids)\\n        recommendations, predicted_ratings = self.model.recommend(\\n            userid=user_ids_mapped,\\n            user_items=self.interactions[user_ids_mapped],\\n            filter_already_liked_items=False,\\n            N=recommend_size,\\n        )\\n        recommendations = pd.DataFrame(recommendations, user_ids).replace(-1, 0)\\n        return self.sparse_interface.recommended_org_ids_from_latent(recommendations)\";\n",
       "                var nbb_cells = Jupyter.notebook.get_cells();\n",
       "                for (var i = 0; i < nbb_cells.length; ++i) {\n",
       "                    if (nbb_cells[i].input_prompt_number == nbb_cell_id) {\n",
       "                        if (nbb_cells[i].get_text() == nbb_unformatted_code) {\n",
       "                             nbb_cells[i].set_text(nbb_formatted_code);\n",
       "                        }\n",
       "                        break;\n",
       "                    }\n",
       "                }\n",
       "            }, 500);\n",
       "            "
      ],
      "text/plain": [
       "<IPython.core.display.Javascript object>"
      ]
     },
     "metadata": {},
     "output_type": "display_data"
    }
   ],
   "source": [
    "class ImplicitRecommender(BaseRecommender):\n",
    "    def __init__(self, sparse_interface, model):\n",
    "        self.model = model\n",
    "        self.sparse_interface = sparse_interface\n",
    "\n",
    "    def fit(self, reviews):\n",
    "        self.sparse_interface.build_interactions(reviews)\n",
    "        self.interactions = csr_matrix(self.sparse_interface.interactions_weighted)\n",
    "        self.model.fit(self.interactions)\n",
    "        return self\n",
    "\n",
    "    def recommend(self, user_ids, recommend_size=20):\n",
    "        user_ids_mapped = self.sparse_interface.user_ids_to_latent(user_ids)\n",
    "        recommendations, predicted_ratings = self.model.recommend(\n",
    "            userid=user_ids_mapped,\n",
    "            user_items=self.interactions[user_ids_mapped],\n",
    "            filter_already_liked_items=False,\n",
    "            N=recommend_size,\n",
    "        )\n",
    "        recommendations = pd.DataFrame(recommendations, user_ids).replace(-1, 0)\n",
    "        return self.sparse_interface.recommended_org_ids_from_latent(recommendations)"
   ]
  },
  {
   "cell_type": "code",
   "execution_count": 15,
   "metadata": {
    "ExecuteTime": {
     "end_time": "2022-08-08T09:06:48.590490Z",
     "start_time": "2022-08-08T09:05:48.935096Z"
    }
   },
   "outputs": [
    {
     "data": {
      "application/vnd.jupyter.widget-view+json": {
       "model_id": "06b0dc03072c49ffb8b59ad894bbc9b0",
       "version_major": 2,
       "version_minor": 0
      },
      "text/plain": [
       "Building item features:   0%|          | 0/68339 [00:00<?, ?it/s]"
      ]
     },
     "metadata": {},
     "output_type": "display_data"
    },
    {
     "data": {
      "application/javascript": [
       "\n",
       "            setTimeout(function() {\n",
       "                var nbb_cell_id = 15;\n",
       "                var nbb_unformatted_code = \"sparse_interface = SparseInterface(data)\\nsparse_interface.build()\";\n",
       "                var nbb_formatted_code = \"sparse_interface = SparseInterface(data)\\nsparse_interface.build()\";\n",
       "                var nbb_cells = Jupyter.notebook.get_cells();\n",
       "                for (var i = 0; i < nbb_cells.length; ++i) {\n",
       "                    if (nbb_cells[i].input_prompt_number == nbb_cell_id) {\n",
       "                        if (nbb_cells[i].get_text() == nbb_unformatted_code) {\n",
       "                             nbb_cells[i].set_text(nbb_formatted_code);\n",
       "                        }\n",
       "                        break;\n",
       "                    }\n",
       "                }\n",
       "            }, 500);\n",
       "            "
      ],
      "text/plain": [
       "<IPython.core.display.Javascript object>"
      ]
     },
     "metadata": {},
     "output_type": "display_data"
    }
   ],
   "source": [
    "sparse_interface = SparseInterface(data)\n",
    "sparse_interface.build()"
   ]
  },
  {
   "cell_type": "code",
   "execution_count": 16,
   "metadata": {
    "ExecuteTime": {
     "end_time": "2022-08-08T09:07:04.719676Z",
     "start_time": "2022-08-08T09:06:48.620967Z"
    }
   },
   "outputs": [
    {
     "name": "stderr",
     "output_type": "stream",
     "text": [
      "/external2/dkkoshman/venv/lib/python3.6/site-packages/implicit/nearest_neighbours.py:226: RuntimeWarning: invalid value encountered in true_divide\n",
      "  X.data = X.data / sqrt(bincount(X.row, X.data**2))[X.row]\n",
      "/external2/dkkoshman/venv/lib/python3.6/site-packages/implicit/utils.py:141: ParameterWarning: Method expects CSR input, and was passed coo_matrix instead. Converting to CSR took 0.004187345504760742 seconds\n",
      "  ParameterWarning,\n"
     ]
    },
    {
     "data": {
      "application/vnd.jupyter.widget-view+json": {
       "model_id": "b0d6ff3795a1430fae27778fe3e33963",
       "version_major": 2,
       "version_minor": 0
      },
      "text/plain": [
       "  0%|          | 0/68339 [00:00<?, ?it/s]"
      ]
     },
     "metadata": {},
     "output_type": "display_data"
    },
    {
     "name": "stderr",
     "output_type": "stream",
     "text": [
      "/external2/dkkoshman/venv/lib/python3.6/site-packages/implicit/utils.py:141: ParameterWarning: Method expects CSR input, and was passed coo_matrix instead. Converting to CSR took 0.002820253372192383 seconds\n",
      "  ParameterWarning,\n"
     ]
    },
    {
     "data": {
      "application/vnd.jupyter.widget-view+json": {
       "model_id": "89690cf077484223b8c6c154dd092fee",
       "version_major": 2,
       "version_minor": 0
      },
      "text/plain": [
       "  0%|          | 0/68339 [00:00<?, ?it/s]"
      ]
     },
     "metadata": {},
     "output_type": "display_data"
    },
    {
     "name": "stderr",
     "output_type": "stream",
     "text": [
      "/external2/dkkoshman/venv/lib/python3.6/site-packages/implicit/nearest_neighbours.py:226: RuntimeWarning: invalid value encountered in true_divide\n",
      "  X.data = X.data / sqrt(bincount(X.row, X.data**2))[X.row]\n",
      "/external2/dkkoshman/venv/lib/python3.6/site-packages/implicit/utils.py:141: ParameterWarning: Method expects CSR input, and was passed coo_matrix instead. Converting to CSR took 0.007059812545776367 seconds\n",
      "  ParameterWarning,\n"
     ]
    },
    {
     "data": {
      "application/vnd.jupyter.widget-view+json": {
       "model_id": "738a7ff178a64d31a20a82af2bf1c45f",
       "version_major": 2,
       "version_minor": 0
      },
      "text/plain": [
       "  0%|          | 0/68339 [00:00<?, ?it/s]"
      ]
     },
     "metadata": {},
     "output_type": "display_data"
    },
    {
     "data": {
      "application/javascript": [
       "\n",
       "            setTimeout(function() {\n",
       "                var nbb_cell_id = 16;\n",
       "                var nbb_unformatted_code = \"nn_models = {\\n    \\\"tfidf\\\": ImplicitRecommender(\\n        sparse_interface, implicit.nearest_neighbours.TFIDFRecommender()\\n    ),\\n    \\\"bm25\\\": ImplicitRecommender(\\n        sparse_interface, implicit.nearest_neighbours.BM25Recommender()\\n    ),\\n    \\\"cosine\\\": ImplicitRecommender(\\n        sparse_interface, implicit.nearest_neighbours.CosineRecommender()\\n    ),\\n}\\n\\nassessor.assess(nn_models)\";\n",
       "                var nbb_formatted_code = \"nn_models = {\\n    \\\"tfidf\\\": ImplicitRecommender(\\n        sparse_interface, implicit.nearest_neighbours.TFIDFRecommender()\\n    ),\\n    \\\"bm25\\\": ImplicitRecommender(\\n        sparse_interface, implicit.nearest_neighbours.BM25Recommender()\\n    ),\\n    \\\"cosine\\\": ImplicitRecommender(\\n        sparse_interface, implicit.nearest_neighbours.CosineRecommender()\\n    ),\\n}\\n\\nassessor.assess(nn_models)\";\n",
       "                var nbb_cells = Jupyter.notebook.get_cells();\n",
       "                for (var i = 0; i < nbb_cells.length; ++i) {\n",
       "                    if (nbb_cells[i].input_prompt_number == nbb_cell_id) {\n",
       "                        if (nbb_cells[i].get_text() == nbb_unformatted_code) {\n",
       "                             nbb_cells[i].set_text(nbb_formatted_code);\n",
       "                        }\n",
       "                        break;\n",
       "                    }\n",
       "                }\n",
       "            }, 500);\n",
       "            "
      ],
      "text/plain": [
       "<IPython.core.display.Javascript object>"
      ]
     },
     "metadata": {},
     "output_type": "display_data"
    }
   ],
   "source": [
    "nn_models = {\n",
    "    \"tfidf\": ImplicitRecommender(\n",
    "        sparse_interface, implicit.nearest_neighbours.TFIDFRecommender()\n",
    "    ),\n",
    "    \"bm25\": ImplicitRecommender(\n",
    "        sparse_interface, implicit.nearest_neighbours.BM25Recommender()\n",
    "    ),\n",
    "    \"cosine\": ImplicitRecommender(\n",
    "        sparse_interface, implicit.nearest_neighbours.CosineRecommender()\n",
    "    ),\n",
    "}\n",
    "\n",
    "assessor.assess(nn_models)"
   ]
  },
  {
   "cell_type": "code",
   "execution_count": 17,
   "metadata": {
    "ExecuteTime": {
     "end_time": "2022-08-08T09:07:05.228830Z",
     "start_time": "2022-08-08T09:07:04.722596Z"
    }
   },
   "outputs": [
    {
     "data": {
      "image/png": "[encoded data removed]",
      "text/plain": [
       "<Figure size 720x432 with 1 Axes>"
      ]
     },
     "metadata": {
      "needs_background": "light"
     },
     "output_type": "display_data"
    },
    {
     "data": {
      "application/javascript": [
       "\n",
       "            setTimeout(function() {\n",
       "                var nbb_cell_id = 17;\n",
       "                var nbb_unformatted_code = \"_ = assessor.show_results()\";\n",
       "                var nbb_formatted_code = \"_ = assessor.show_results()\";\n",
       "                var nbb_cells = Jupyter.notebook.get_cells();\n",
       "                for (var i = 0; i < nbb_cells.length; ++i) {\n",
       "                    if (nbb_cells[i].input_prompt_number == nbb_cell_id) {\n",
       "                        if (nbb_cells[i].get_text() == nbb_unformatted_code) {\n",
       "                             nbb_cells[i].set_text(nbb_formatted_code);\n",
       "                        }\n",
       "                        break;\n",
       "                    }\n",
       "                }\n",
       "            }, 500);\n",
       "            "
      ],
      "text/plain": [
       "<IPython.core.display.Javascript object>"
      ]
     },
     "metadata": {},
     "output_type": "display_data"
    }
   ],
   "source": [
    "_ = assessor.show_results()"
   ]
  },
  {
   "cell_type": "markdown",
   "metadata": {},
   "source": [
    "## Методы Matrix factorization"
   ]
  },
  {
   "cell_type": "markdown",
   "metadata": {},
   "source": [
    "**(0.5 балла) Задание 6.**\n",
    "\n",
    "- Разложите матрицу рейтингов с помощью [разреженного SVD](http://scikit-learn.org/stable/modules/generated/sklearn.decomposition.TruncatedSVD.html) и, восстановив ее, получите предсказания рейтингов для всех пар пользователь-объект. В данном случае неизвестные рейтинги заполняются нулями, а затем восстанавливаются с помощью SVD (этот метод называется PureSVD).\n",
    "   * Получив векторные представления пользователей и объектов и сингулярные числа, мы можеи восстановив матрицу и в местах нулей получим \"предсказанные значения вероятностей\" для новых объектов.\n",
    "- Рассмотрите, как минимум, 5 различных значений ранга разложения. Оцените качество рекомендаций"
   ]
  },
  {
   "cell_type": "markdown",
   "metadata": {},
   "source": [
    "Получим представление о том, какие варианты значенией ранга разложения следует попробовать:"
   ]
  },
  {
   "cell_type": "code",
   "execution_count": 18,
   "metadata": {
    "ExecuteTime": {
     "end_time": "2022-08-08T09:07:05.274683Z",
     "start_time": "2022-08-08T09:07:05.231078Z"
    }
   },
   "outputs": [
    {
     "data": {
      "application/javascript": [
       "\n",
       "            setTimeout(function() {\n",
       "                var nbb_cell_id = 18;\n",
       "                var nbb_unformatted_code = \"from sklearn.decomposition import TruncatedSVD\\n\\n\\ndef plot_component_importance(sparse_interface, n_components=100):\\n    truncated_svd = TruncatedSVD(n_components=n_components)\\n    truncated_svd.fit(sparse_interface.interactions_weighted)\\n\\n    fig, ax = plt.subplots(figsize=(8, 6))\\n    plt.plot(truncated_svd.explained_variance_ratio_)\\n    plt.xlabel(\\\"n components\\\")\\n    plt.ylabel(\\\"explained variance ratio\\\")\\n    plt.title(\\\"Explained variance depending on number of components\\\")\";\n",
       "                var nbb_formatted_code = \"from sklearn.decomposition import TruncatedSVD\\n\\n\\ndef plot_component_importance(sparse_interface, n_components=100):\\n    truncated_svd = TruncatedSVD(n_components=n_components)\\n    truncated_svd.fit(sparse_interface.interactions_weighted)\\n\\n    fig, ax = plt.subplots(figsize=(8, 6))\\n    plt.plot(truncated_svd.explained_variance_ratio_)\\n    plt.xlabel(\\\"n components\\\")\\n    plt.ylabel(\\\"explained variance ratio\\\")\\n    plt.title(\\\"Explained variance depending on number of components\\\")\";\n",
       "                var nbb_cells = Jupyter.notebook.get_cells();\n",
       "                for (var i = 0; i < nbb_cells.length; ++i) {\n",
       "                    if (nbb_cells[i].input_prompt_number == nbb_cell_id) {\n",
       "                        if (nbb_cells[i].get_text() == nbb_unformatted_code) {\n",
       "                             nbb_cells[i].set_text(nbb_formatted_code);\n",
       "                        }\n",
       "                        break;\n",
       "                    }\n",
       "                }\n",
       "            }, 500);\n",
       "            "
      ],
      "text/plain": [
       "<IPython.core.display.Javascript object>"
      ]
     },
     "metadata": {},
     "output_type": "display_data"
    }
   ],
   "source": [
    "from sklearn.decomposition import TruncatedSVD\n",
    "\n",
    "\n",
    "def plot_component_importance(sparse_interface, n_components=100):\n",
    "    truncated_svd = TruncatedSVD(n_components=n_components)\n",
    "    truncated_svd.fit(sparse_interface.interactions_weighted)\n",
    "\n",
    "    fig, ax = plt.subplots(figsize=(8, 6))\n",
    "    plt.plot(truncated_svd.explained_variance_ratio_)\n",
    "    plt.xlabel(\"n components\")\n",
    "    plt.ylabel(\"explained variance ratio\")\n",
    "    plt.title(\"Explained variance depending on number of components\")"
   ]
  },
  {
   "cell_type": "code",
   "execution_count": 69,
   "metadata": {
    "ExecuteTime": {
     "end_time": "2022-08-08T08:00:57.447043Z",
     "start_time": "2022-08-08T08:00:34.359002Z"
    }
   },
   "outputs": [
    {
     "data": {
      "image/png": "[encoded data removed]",
      "text/plain": [
       "<Figure size 576x432 with 1 Axes>"
      ]
     },
     "metadata": {
      "needs_background": "light"
     },
     "output_type": "display_data"
    },
    {
     "data": {
      "application/javascript": [
       "\n",
       "            setTimeout(function() {\n",
       "                var nbb_cell_id = 69;\n",
       "                var nbb_unformatted_code = \"plot_component_importance(sparse_interface)\";\n",
       "                var nbb_formatted_code = \"plot_component_importance(sparse_interface)\";\n",
       "                var nbb_cells = Jupyter.notebook.get_cells();\n",
       "                for (var i = 0; i < nbb_cells.length; ++i) {\n",
       "                    if (nbb_cells[i].input_prompt_number == nbb_cell_id) {\n",
       "                        if (nbb_cells[i].get_text() == nbb_unformatted_code) {\n",
       "                             nbb_cells[i].set_text(nbb_formatted_code);\n",
       "                        }\n",
       "                        break;\n",
       "                    }\n",
       "                }\n",
       "            }, 500);\n",
       "            "
      ],
      "text/plain": [
       "<IPython.core.display.Javascript object>"
      ]
     },
     "metadata": {},
     "output_type": "display_data"
    }
   ],
   "source": [
    "plot_component_importance(sparse_interface)"
   ]
  },
  {
   "cell_type": "code",
   "execution_count": 37,
   "metadata": {
    "ExecuteTime": {
     "end_time": "2022-08-08T09:16:07.598486Z",
     "start_time": "2022-08-08T09:16:07.559574Z"
    }
   },
   "outputs": [
    {
     "data": {
      "application/javascript": [
       "\n",
       "            setTimeout(function() {\n",
       "                var nbb_cell_id = 37;\n",
       "                var nbb_unformatted_code = \"class BatchRecommender(ImplicitRecommender):\\n    def recommend(self, user_ids, recommend_size=20, batch_size=1024):\\n        user_ids_mapped = self.sparse_interface.user_ids_to_latent(user_ids)\\n        interactions = self.interactions[user_ids_mapped]\\n        recommendations = []\\n\\n        for begin in range(0, len(user_ids), batch_size):\\n            batch_slice = slice(begin, begin + batch_size)\\n            batch_interactions = interactions[batch_slice]\\n            batch_ids = user_ids[batch_slice]\\n            batch_ids_mapped = user_ids_mapped[batch_slice]\\n            batch_rec = self.model_recommend(batch_ids_mapped, batch_interactions)\\n            batch_rec = np.argpartition(-batch_rec, recommend_size)[:, :recommend_size]\\n            batch_rec = pd.DataFrame(batch_rec, batch_ids)\\n            recommendations.append(batch_rec)\\n\\n        recommendations = self.sparse_interface.recommended_org_ids_from_latent(pd.concat(recommendations))\\n        return recommendations\\n\\n    @abc.abstractmethod\\n    def model_recommend(self, user_ids, interactions):\\n        ...\\n\\n\\nclass SVDRecommender(BatchRecommender):\\n    def model_recommend(self, user_ids, interactions):\\n        embedding = self.model.transform(interactions)\\n        recommendations = self.model.inverse_transform(embedding)\\n        return recommendations\";\n",
       "                var nbb_formatted_code = \"class BatchRecommender(ImplicitRecommender):\\n    def recommend(self, user_ids, recommend_size=20, batch_size=1024):\\n        user_ids_mapped = self.sparse_interface.user_ids_to_latent(user_ids)\\n        interactions = self.interactions[user_ids_mapped]\\n        recommendations = []\\n\\n        for begin in range(0, len(user_ids), batch_size):\\n            batch_slice = slice(begin, begin + batch_size)\\n            batch_interactions = interactions[batch_slice]\\n            batch_ids = user_ids[batch_slice]\\n            batch_ids_mapped = user_ids_mapped[batch_slice]\\n            batch_rec = self.model_recommend(batch_ids_mapped, batch_interactions)\\n            batch_rec = np.argpartition(-batch_rec, recommend_size)[:, :recommend_size]\\n            batch_rec = pd.DataFrame(batch_rec, batch_ids)\\n            recommendations.append(batch_rec)\\n\\n        recommendations = self.sparse_interface.recommended_org_ids_from_latent(\\n            pd.concat(recommendations)\\n        )\\n        return recommendations\\n\\n    @abc.abstractmethod\\n    def model_recommend(self, user_ids, interactions):\\n        ...\\n\\n\\nclass SVDRecommender(BatchRecommender):\\n    def model_recommend(self, user_ids, interactions):\\n        embedding = self.model.transform(interactions)\\n        recommendations = self.model.inverse_transform(embedding)\\n        return recommendations\";\n",
       "                var nbb_cells = Jupyter.notebook.get_cells();\n",
       "                for (var i = 0; i < nbb_cells.length; ++i) {\n",
       "                    if (nbb_cells[i].input_prompt_number == nbb_cell_id) {\n",
       "                        if (nbb_cells[i].get_text() == nbb_unformatted_code) {\n",
       "                             nbb_cells[i].set_text(nbb_formatted_code);\n",
       "                        }\n",
       "                        break;\n",
       "                    }\n",
       "                }\n",
       "            }, 500);\n",
       "            "
      ],
      "text/plain": [
       "<IPython.core.display.Javascript object>"
      ]
     },
     "metadata": {},
     "output_type": "display_data"
    }
   ],
   "source": [
    "class BatchRecommender(ImplicitRecommender):\n",
    "    def recommend(self, user_ids, recommend_size=20, batch_size=1024):\n",
    "        user_ids_mapped = self.sparse_interface.user_ids_to_latent(user_ids)\n",
    "        interactions = self.interactions[user_ids_mapped]\n",
    "        recommendations = []\n",
    "\n",
    "        for begin in range(0, len(user_ids), batch_size):\n",
    "            batch_slice = slice(begin, begin + batch_size)\n",
    "            batch_interactions = interactions[batch_slice]\n",
    "            batch_ids = user_ids[batch_slice]\n",
    "            batch_ids_mapped = user_ids_mapped[batch_slice]\n",
    "            batch_rec = self.model_recommend(batch_ids_mapped, batch_interactions)\n",
    "            batch_rec = np.argpartition(-batch_rec, recommend_size)[:, :recommend_size]\n",
    "            batch_rec = pd.DataFrame(batch_rec, batch_ids)\n",
    "            recommendations.append(batch_rec)\n",
    "\n",
    "        recommendations = self.sparse_interface.recommended_org_ids_from_latent(\n",
    "            pd.concat(recommendations)\n",
    "        )\n",
    "        return recommendations\n",
    "\n",
    "    @abc.abstractmethod\n",
    "    def model_recommend(self, user_ids, interactions):\n",
    "        ...\n",
    "\n",
    "\n",
    "class SVDRecommender(BatchRecommender):\n",
    "    def model_recommend(self, user_ids, interactions):\n",
    "        embedding = self.model.transform(interactions)\n",
    "        recommendations = self.model.inverse_transform(embedding)\n",
    "        return recommendations"
   ]
  },
  {
   "cell_type": "code",
   "execution_count": 71,
   "metadata": {
    "ExecuteTime": {
     "end_time": "2022-08-08T08:01:28.444908Z",
     "start_time": "2022-08-08T08:00:57.465561Z"
    }
   },
   "outputs": [
    {
     "data": {
      "application/javascript": [
       "\n",
       "            setTimeout(function() {\n",
       "                var nbb_cell_id = 71;\n",
       "                var nbb_unformatted_code = \"matrix_factorization_models = {\\n    f\\\"svd_{n_components}\\\": SVDRecommender(\\n        sparse_interface, TruncatedSVD(n_components=n_components)\\n    )\\n    for n_components in np.logspace(1, 2, num=2, dtype=int)\\n}\\n\\nassessor.assess(matrix_factorization_models)\";\n",
       "                var nbb_formatted_code = \"matrix_factorization_models = {\\n    f\\\"svd_{n_components}\\\": SVDRecommender(\\n        sparse_interface, TruncatedSVD(n_components=n_components)\\n    )\\n    for n_components in np.logspace(1, 2, num=2, dtype=int)\\n}\\n\\nassessor.assess(matrix_factorization_models)\";\n",
       "                var nbb_cells = Jupyter.notebook.get_cells();\n",
       "                for (var i = 0; i < nbb_cells.length; ++i) {\n",
       "                    if (nbb_cells[i].input_prompt_number == nbb_cell_id) {\n",
       "                        if (nbb_cells[i].get_text() == nbb_unformatted_code) {\n",
       "                             nbb_cells[i].set_text(nbb_formatted_code);\n",
       "                        }\n",
       "                        break;\n",
       "                    }\n",
       "                }\n",
       "            }, 500);\n",
       "            "
      ],
      "text/plain": [
       "<IPython.core.display.Javascript object>"
      ]
     },
     "metadata": {},
     "output_type": "display_data"
    }
   ],
   "source": [
    "matrix_factorization_models = {\n",
    "    f\"svd_{n_components}\": SVDRecommender(\n",
    "        sparse_interface, TruncatedSVD(n_components=n_components)\n",
    "    )\n",
    "    for n_components in np.logspace(1, 2, num=2, dtype=int)\n",
    "}\n",
    "\n",
    "assessor.assess(matrix_factorization_models)"
   ]
  },
  {
   "cell_type": "code",
   "execution_count": 72,
   "metadata": {
    "ExecuteTime": {
     "end_time": "2022-08-08T08:01:28.931347Z",
     "start_time": "2022-08-08T08:01:28.446710Z"
    }
   },
   "outputs": [
    {
     "data": {
      "image/png": "[encoded data removed]",
      "text/plain": [
       "<Figure size 720x432 with 1 Axes>"
      ]
     },
     "metadata": {
      "needs_background": "light"
     },
     "output_type": "display_data"
    },
    {
     "data": {
      "application/javascript": [
       "\n",
       "            setTimeout(function() {\n",
       "                var nbb_cell_id = 72;\n",
       "                var nbb_unformatted_code = \"_ = assessor.show_results()\";\n",
       "                var nbb_formatted_code = \"_ = assessor.show_results()\";\n",
       "                var nbb_cells = Jupyter.notebook.get_cells();\n",
       "                for (var i = 0; i < nbb_cells.length; ++i) {\n",
       "                    if (nbb_cells[i].input_prompt_number == nbb_cell_id) {\n",
       "                        if (nbb_cells[i].get_text() == nbb_unformatted_code) {\n",
       "                             nbb_cells[i].set_text(nbb_formatted_code);\n",
       "                        }\n",
       "                        break;\n",
       "                    }\n",
       "                }\n",
       "            }, 500);\n",
       "            "
      ],
      "text/plain": [
       "<IPython.core.display.Javascript object>"
      ]
     },
     "metadata": {},
     "output_type": "display_data"
    }
   ],
   "source": [
    "_ = assessor.show_results()"
   ]
  },
  {
   "cell_type": "markdown",
   "metadata": {},
   "source": [
    "# ALS\n",
    "Довольно популярным базовым методом в рекомендательных системах является ALS.\n",
    "\n",
    "### Explicit ALS\n",
    "\n",
    "Релевантность:\n",
    "$$r_{ui} = q_i^T p_u$$\n",
    "\n",
    "Loss:\n",
    "$$\\min_{p*, q*} \\sum_{(u, i \\in \\mathcal{K})} (r_{ui} - q_i^T p_u)^2 + \\lambda(\\|{q_i}\\|^2 + \\|{p_i}\\|^2)$$\n",
    "\n",
    "### [Implicit ALS](http://yifanhu.net/PUB/cf.pdf)\n",
    "\n",
    "Релевантность:\n",
    "$$r_{ui} = q_i^T p_u$$\n",
    "\n",
    "Loss:\n",
    "$$\\min_{p*, q*} \\sum_{(u, i \\in \\mathcal{K})} c_{ui}(p_{ui} - q_i^T p_u)^2 + \\lambda(\\|{q_i}\\|^2 + \\|{p_i}\\|^2)$$\n",
    "Где $c_{ui}$ - значение в матрице implicit feedback, а $p_{ui}$ равно 1, если пользователь u взаимодействовал с item-ом i, и 0 иначе.\n",
    "\n",
    "### Усложнения ALS\n",
    "Обучив для каждого пользователя и объекта свой bias и добавив регуляризацию можно улучшить качество решения. Подробнее о различных матричных разложениях для задачи рекомендаций можно почитать [в статье на Хабре](https://habr.com/ru/post/486802/).\n",
    "\n",
    "В рейтинг объекта для пользователя, например, может быть представлен:\n",
    "$$r_{ui} = \\mu + b_i + b_u + q_i^T p_u$$\n",
    "\n",
    "А функция потерь будет выглядеть так:\n",
    "$$\\min_{b*, p*, q*} \\sum_{(u, i \\in \\mathcal{K})} (r_{ui} - \\mu - b_i - b_u - q_i^T p_u)^2 + \\lambda(\\|{q_i}\\|^2 + \\|{p_i}\\|^2 + b_i^2 + b_u^2)$$\n",
    "\n",
    "Матричная факторизация - хороший подход, который позволяет получить рекомендации для теплых пользователей, а также находить похожих пользователей и объекты, посчитав расстояния между векторами. Обучив модель и получив вектора можно перейти от задачи рекомендаций к задаче поиска ближайших соседей и использовать ANN-методы."
   ]
  },
  {
   "cell_type": "markdown",
   "metadata": {},
   "source": [
    "**(1.0 балла) Задание 7.**\n",
    "Примените ALS.\n",
    "\n",
    "Можно воспользоваться готовой реализацией из бибилотеки https://github.com/benfred/implicit\n",
    "\n",
    "Попробуйте использовать как все оценки, так и только высокие. Есть ли разница?"
   ]
  },
  {
   "cell_type": "code",
   "execution_count": 20,
   "metadata": {
    "ExecuteTime": {
     "end_time": "2022-08-08T09:07:05.436168Z",
     "start_time": "2022-08-08T09:07:05.324206Z"
    }
   },
   "outputs": [
    {
     "data": {
      "application/javascript": [
       "\n",
       "            setTimeout(function() {\n",
       "                var nbb_cell_id = 20;\n",
       "                var nbb_unformatted_code = \"from implicit.gpu.als import AlternatingLeastSquares\\n\\n\\nclass ALSFiltered(ImplicitRecommender):\\n    def __init__(self, *args, filtered_train_reviews, **kwargs):\\n        super().__init__(*args, **kwargs)\\n        self.filtered_train_reviews = filtered_train_reviews\\n\\n    def fit(self, reviews):\\n        super().fit(self.filtered_train_reviews)\";\n",
       "                var nbb_formatted_code = \"from implicit.gpu.als import AlternatingLeastSquares\\n\\n\\nclass ALSFiltered(ImplicitRecommender):\\n    def __init__(self, *args, filtered_train_reviews, **kwargs):\\n        super().__init__(*args, **kwargs)\\n        self.filtered_train_reviews = filtered_train_reviews\\n\\n    def fit(self, reviews):\\n        super().fit(self.filtered_train_reviews)\";\n",
       "                var nbb_cells = Jupyter.notebook.get_cells();\n",
       "                for (var i = 0; i < nbb_cells.length; ++i) {\n",
       "                    if (nbb_cells[i].input_prompt_number == nbb_cell_id) {\n",
       "                        if (nbb_cells[i].get_text() == nbb_unformatted_code) {\n",
       "                             nbb_cells[i].set_text(nbb_formatted_code);\n",
       "                        }\n",
       "                        break;\n",
       "                    }\n",
       "                }\n",
       "            }, 500);\n",
       "            "
      ],
      "text/plain": [
       "<IPython.core.display.Javascript object>"
      ]
     },
     "metadata": {},
     "output_type": "display_data"
    }
   ],
   "source": [
    "from implicit.gpu.als import AlternatingLeastSquares\n",
    "\n",
    "\n",
    "class ALSFiltered(ImplicitRecommender):\n",
    "    def __init__(self, *args, filtered_train_reviews, **kwargs):\n",
    "        super().__init__(*args, **kwargs)\n",
    "        self.filtered_train_reviews = filtered_train_reviews\n",
    "\n",
    "    def fit(self, reviews):\n",
    "        super().fit(self.filtered_train_reviews)"
   ]
  },
  {
   "cell_type": "code",
   "execution_count": 74,
   "metadata": {
    "ExecuteTime": {
     "end_time": "2022-08-08T08:01:35.082668Z",
     "start_time": "2022-08-08T08:01:28.941284Z"
    }
   },
   "outputs": [
    {
     "data": {
      "application/vnd.jupyter.widget-view+json": {
       "model_id": "ddc3e3484bda4e08b42561d9ab9b65cf",
       "version_major": 2,
       "version_minor": 0
      },
      "text/plain": [
       "  0%|          | 0/15 [00:00<?, ?it/s]"
      ]
     },
     "metadata": {},
     "output_type": "display_data"
    },
    {
     "data": {
      "application/vnd.jupyter.widget-view+json": {
       "model_id": "f520ffed9d2b4a429f41eefabc256620",
       "version_major": 2,
       "version_minor": 0
      },
      "text/plain": [
       "  0%|          | 0/15 [00:00<?, ?it/s]"
      ]
     },
     "metadata": {},
     "output_type": "display_data"
    },
    {
     "data": {
      "application/javascript": [
       "\n",
       "            setTimeout(function() {\n",
       "                var nbb_cell_id = 74;\n",
       "                var nbb_unformatted_code = \"als_models = {\\n    \\\"als\\\": ImplicitRecommender(sparse_interface, AlternatingLeastSquares()),\\n    \\\"als_filtered\\\": ALSFiltered(\\n        sparse_interface,\\n        AlternatingLeastSquares(),\\n        filtered_train_reviews=train_reviews.query(\\\"rating >= 4\\\").assign(rating=1),\\n    ),\\n}\\nassessor.assess(als_models)\";\n",
       "                var nbb_formatted_code = \"als_models = {\\n    \\\"als\\\": ImplicitRecommender(sparse_interface, AlternatingLeastSquares()),\\n    \\\"als_filtered\\\": ALSFiltered(\\n        sparse_interface,\\n        AlternatingLeastSquares(),\\n        filtered_train_reviews=train_reviews.query(\\\"rating >= 4\\\").assign(rating=1),\\n    ),\\n}\\nassessor.assess(als_models)\";\n",
       "                var nbb_cells = Jupyter.notebook.get_cells();\n",
       "                for (var i = 0; i < nbb_cells.length; ++i) {\n",
       "                    if (nbb_cells[i].input_prompt_number == nbb_cell_id) {\n",
       "                        if (nbb_cells[i].get_text() == nbb_unformatted_code) {\n",
       "                             nbb_cells[i].set_text(nbb_formatted_code);\n",
       "                        }\n",
       "                        break;\n",
       "                    }\n",
       "                }\n",
       "            }, 500);\n",
       "            "
      ],
      "text/plain": [
       "<IPython.core.display.Javascript object>"
      ]
     },
     "metadata": {},
     "output_type": "display_data"
    }
   ],
   "source": [
    "als_models = {\n",
    "    \"als\": ImplicitRecommender(sparse_interface, AlternatingLeastSquares()),\n",
    "    \"als_filtered\": ALSFiltered(\n",
    "        sparse_interface,\n",
    "        AlternatingLeastSquares(),\n",
    "        filtered_train_reviews=train_reviews.query(\"rating >= 4\").assign(rating=1),\n",
    "    ),\n",
    "}\n",
    "assessor.assess(als_models)"
   ]
  },
  {
   "cell_type": "code",
   "execution_count": 75,
   "metadata": {
    "ExecuteTime": {
     "end_time": "2022-08-08T08:01:35.606291Z",
     "start_time": "2022-08-08T08:01:35.084497Z"
    }
   },
   "outputs": [
    {
     "data": {
      "image/png": "[encoded data removed]",
      "text/plain": [
       "<Figure size 720x432 with 1 Axes>"
      ]
     },
     "metadata": {
      "needs_background": "light"
     },
     "output_type": "display_data"
    },
    {
     "data": {
      "application/javascript": [
       "\n",
       "            setTimeout(function() {\n",
       "                var nbb_cell_id = 75;\n",
       "                var nbb_unformatted_code = \"_ = assessor.show_results()\";\n",
       "                var nbb_formatted_code = \"_ = assessor.show_results()\";\n",
       "                var nbb_cells = Jupyter.notebook.get_cells();\n",
       "                for (var i = 0; i < nbb_cells.length; ++i) {\n",
       "                    if (nbb_cells[i].input_prompt_number == nbb_cell_id) {\n",
       "                        if (nbb_cells[i].get_text() == nbb_unformatted_code) {\n",
       "                             nbb_cells[i].set_text(nbb_formatted_code);\n",
       "                        }\n",
       "                        break;\n",
       "                    }\n",
       "                }\n",
       "            }, 500);\n",
       "            "
      ],
      "text/plain": [
       "<IPython.core.display.Javascript object>"
      ]
     },
     "metadata": {},
     "output_type": "display_data"
    }
   ],
   "source": [
    "_ = assessor.show_results()"
   ]
  },
  {
   "cell_type": "markdown",
   "metadata": {},
   "source": [
    "**(1.0 балла) Задание 8.**\n",
    "\n",
    "На [семинаре](https://github.com/monkey0head/recsys_sem) Вам было расказано про бибилиотеку LightFM.\n",
    "Примените ее для нашей задачи. Используя фичи и не используя фичи, сравните результат."
   ]
  },
  {
   "cell_type": "code",
   "execution_count": 68,
   "metadata": {
    "ExecuteTime": {
     "end_time": "2022-08-08T09:36:49.919872Z",
     "start_time": "2022-08-08T09:36:49.889358Z"
    }
   },
   "outputs": [
    {
     "data": {
      "application/javascript": [
       "\n",
       "            setTimeout(function() {\n",
       "                var nbb_cell_id = 68;\n",
       "                var nbb_unformatted_code = \"# TODO: add aspects, gridsearch\\nfrom lightfm import LightFM\\n\\n\\nclass LightRecommender(BatchRecommender):\\n    def __init__(self, *args, with_features=True, **kwargs):\\n        super().__init__(*args, **kwargs)\\n        self.with_features = with_features\\n\\n    def fit(self, reviews):\\n        self.sparse_interface.build_interactions(reviews)\\n        self.interactions = csr_matrix(self.sparse_interface.interactions_weighted)\\n        self.model.fit(\\n            self.interactions,\\n            user_features=self.sparse_interface.user_features\\n            if self.with_features\\n            else None,\\n            item_features=self.sparse_interface.item_features\\n            if self.with_features\\n            else None,\\n            epochs=10,\\n            num_threads=8,\\n            verbose=True,\\n        )\\n        return self\\n\\n    def model_recommend(self, user_ids, interactions):\\n        user_ids, item_ids = np.meshgrid(\\n            user_ids, range(len(self.sparse_interface.organisations)), indexing=\\\"ij\\\"\\n        )\\n\\n        recommendations = self.model.predict(\\n            user_ids=user_ids.flatten(),\\n            item_ids=item_ids.flatten(),\\n#             user_features=self.sparse_interface.user_features\\n#             if self.with_features\\n#             else None,\\n#             item_features=self.sparse_interface.item_features\\n#             if self.with_features\\n#             else None,\\n        ).reshape(user_ids.shape)\\n        return recommendations\";\n",
       "                var nbb_formatted_code = \"# TODO: add aspects, gridsearch\\nfrom lightfm import LightFM\\n\\n\\nclass LightRecommender(BatchRecommender):\\n    def __init__(self, *args, with_features=True, **kwargs):\\n        super().__init__(*args, **kwargs)\\n        self.with_features = with_features\\n\\n    def fit(self, reviews):\\n        self.sparse_interface.build_interactions(reviews)\\n        self.interactions = csr_matrix(self.sparse_interface.interactions_weighted)\\n        self.model.fit(\\n            self.interactions,\\n            user_features=self.sparse_interface.user_features\\n            if self.with_features\\n            else None,\\n            item_features=self.sparse_interface.item_features\\n            if self.with_features\\n            else None,\\n            epochs=10,\\n            num_threads=8,\\n            verbose=True,\\n        )\\n        return self\\n\\n    def model_recommend(self, user_ids, interactions):\\n        user_ids, item_ids = np.meshgrid(\\n            user_ids, range(len(self.sparse_interface.organisations)), indexing=\\\"ij\\\"\\n        )\\n\\n        recommendations = self.model.predict(\\n            user_ids=user_ids.flatten(),\\n            item_ids=item_ids.flatten(),\\n            #             user_features=self.sparse_interface.user_features\\n            #             if self.with_features\\n            #             else None,\\n            #             item_features=self.sparse_interface.item_features\\n            #             if self.with_features\\n            #             else None,\\n        ).reshape(user_ids.shape)\\n        return recommendations\";\n",
       "                var nbb_cells = Jupyter.notebook.get_cells();\n",
       "                for (var i = 0; i < nbb_cells.length; ++i) {\n",
       "                    if (nbb_cells[i].input_prompt_number == nbb_cell_id) {\n",
       "                        if (nbb_cells[i].get_text() == nbb_unformatted_code) {\n",
       "                             nbb_cells[i].set_text(nbb_formatted_code);\n",
       "                        }\n",
       "                        break;\n",
       "                    }\n",
       "                }\n",
       "            }, 500);\n",
       "            "
      ],
      "text/plain": [
       "<IPython.core.display.Javascript object>"
      ]
     },
     "metadata": {},
     "output_type": "display_data"
    }
   ],
   "source": [
    "# TODO: add aspects, gridsearch\n",
    "from lightfm import LightFM\n",
    "\n",
    "\n",
    "class LightRecommender(BatchRecommender):\n",
    "    def __init__(self, *args, with_features=True, **kwargs):\n",
    "        super().__init__(*args, **kwargs)\n",
    "        self.with_features = with_features\n",
    "\n",
    "    def fit(self, reviews):\n",
    "        self.sparse_interface.build_interactions(reviews)\n",
    "        self.interactions = csr_matrix(self.sparse_interface.interactions_weighted)\n",
    "        self.model.fit(\n",
    "            self.interactions,\n",
    "            user_features=self.sparse_interface.user_features\n",
    "            if self.with_features\n",
    "            else None,\n",
    "            item_features=self.sparse_interface.item_features\n",
    "            if self.with_features\n",
    "            else None,\n",
    "            epochs=10,\n",
    "            num_threads=8,\n",
    "            verbose=True,\n",
    "        )\n",
    "        return self\n",
    "\n",
    "    def model_recommend(self, user_ids, interactions):\n",
    "        user_ids, item_ids = np.meshgrid(\n",
    "            user_ids, range(len(self.sparse_interface.organisations)), indexing=\"ij\"\n",
    "        )\n",
    "\n",
    "        recommendations = self.model.predict(\n",
    "            user_ids=user_ids.flatten(),\n",
    "            item_ids=item_ids.flatten(),\n",
    "            #             user_features=self.sparse_interface.user_features\n",
    "            #             if self.with_features\n",
    "            #             else None,\n",
    "            #             item_features=self.sparse_interface.item_features\n",
    "            #             if self.with_features\n",
    "            #             else None,\n",
    "        ).reshape(user_ids.shape)\n",
    "        return recommendations"
   ]
  },
  {
   "cell_type": "code",
   "execution_count": 72,
   "metadata": {
    "ExecuteTime": {
     "end_time": "2022-08-08T09:39:58.197699Z",
     "start_time": "2022-08-08T09:39:58.186428Z"
    }
   },
   "outputs": [
    {
     "data": {
      "text/plain": [
       "<68339x69364 sparse matrix of type '<class 'numpy.float32'>'\n",
       "\twith 960394 stored elements in Compressed Sparse Row format>"
      ]
     },
     "execution_count": 72,
     "metadata": {},
     "output_type": "execute_result"
    },
    {
     "data": {
      "application/javascript": [
       "\n",
       "            setTimeout(function() {\n",
       "                var nbb_cell_id = 72;\n",
       "                var nbb_unformatted_code = \"sparse_interface.item_features\";\n",
       "                var nbb_formatted_code = \"sparse_interface.item_features\";\n",
       "                var nbb_cells = Jupyter.notebook.get_cells();\n",
       "                for (var i = 0; i < nbb_cells.length; ++i) {\n",
       "                    if (nbb_cells[i].input_prompt_number == nbb_cell_id) {\n",
       "                        if (nbb_cells[i].get_text() == nbb_unformatted_code) {\n",
       "                             nbb_cells[i].set_text(nbb_formatted_code);\n",
       "                        }\n",
       "                        break;\n",
       "                    }\n",
       "                }\n",
       "            }, 500);\n",
       "            "
      ],
      "text/plain": [
       "<IPython.core.display.Javascript object>"
      ]
     },
     "metadata": {},
     "output_type": "display_data"
    }
   ],
   "source": [
    "sparse_interface.item_features"
   ]
  },
  {
   "cell_type": "code",
   "execution_count": 36,
   "metadata": {
    "ExecuteTime": {
     "end_time": "2022-08-08T09:14:36.166612Z",
     "start_time": "2022-08-08T09:14:33.859211Z"
    }
   },
   "outputs": [
    {
     "data": {
      "text/plain": [
       "865436"
      ]
     },
     "execution_count": 36,
     "metadata": {},
     "output_type": "execute_result"
    },
    {
     "data": {
      "application/javascript": [
       "\n",
       "            setTimeout(function() {\n",
       "                var nbb_cell_id = 36;\n",
       "                var nbb_unformatted_code = \"sparse_interface.user_ids_to_latent(1260816866789840047)\";\n",
       "                var nbb_formatted_code = \"sparse_interface.user_ids_to_latent(1260816866789840047)\";\n",
       "                var nbb_cells = Jupyter.notebook.get_cells();\n",
       "                for (var i = 0; i < nbb_cells.length; ++i) {\n",
       "                    if (nbb_cells[i].input_prompt_number == nbb_cell_id) {\n",
       "                        if (nbb_cells[i].get_text() == nbb_unformatted_code) {\n",
       "                             nbb_cells[i].set_text(nbb_formatted_code);\n",
       "                        }\n",
       "                        break;\n",
       "                    }\n",
       "                }\n",
       "            }, 500);\n",
       "            "
      ],
      "text/plain": [
       "<IPython.core.display.Javascript object>"
      ]
     },
     "metadata": {},
     "output_type": "display_data"
    }
   ],
   "source": [
    "sparse_interface.user_ids_to_latent(1260816866789840047)"
   ]
  },
  {
   "cell_type": "code",
   "execution_count": 49,
   "metadata": {
    "ExecuteTime": {
     "end_time": "2022-08-08T09:21:36.754643Z",
     "start_time": "2022-08-08T09:21:36.684424Z"
    },
    "collapsed": true
   },
   "outputs": [
    {
     "data": {
      "text/html": [
       "<div>\n",
       "<style scoped>\n",
       "    .dataframe tbody tr th:only-of-type {\n",
       "        vertical-align: middle;\n",
       "    }\n",
       "\n",
       "    .dataframe tbody tr th {\n",
       "        vertical-align: top;\n",
       "    }\n",
       "\n",
       "    .dataframe thead th {\n",
       "        text-align: right;\n",
       "    }\n",
       "</style>\n",
       "<table border=\"1\" class=\"dataframe\">\n",
       "  <thead>\n",
       "    <tr style=\"text-align: right;\">\n",
       "      <th></th>\n",
       "      <th>0</th>\n",
       "    </tr>\n",
       "  </thead>\n",
       "  <tbody>\n",
       "    <tr>\n",
       "      <th>0</th>\n",
       "      <td>6309434638950769016</td>\n",
       "    </tr>\n",
       "    <tr>\n",
       "      <th>1</th>\n",
       "      <td>6793530981148565425</td>\n",
       "    </tr>\n",
       "    <tr>\n",
       "      <th>2</th>\n",
       "      <td>17178946681371600493</td>\n",
       "    </tr>\n",
       "    <tr>\n",
       "      <th>3</th>\n",
       "      <td>4153754210897439962</td>\n",
       "    </tr>\n",
       "    <tr>\n",
       "      <th>4</th>\n",
       "      <td>6535223947442595824</td>\n",
       "    </tr>\n",
       "    <tr>\n",
       "      <th>...</th>\n",
       "      <td>...</td>\n",
       "    </tr>\n",
       "    <tr>\n",
       "      <th>68334</th>\n",
       "      <td>11195144987265725249</td>\n",
       "    </tr>\n",
       "    <tr>\n",
       "      <th>68335</th>\n",
       "      <td>13400789301905091155</td>\n",
       "    </tr>\n",
       "    <tr>\n",
       "      <th>68336</th>\n",
       "      <td>15120040193672648022</td>\n",
       "    </tr>\n",
       "    <tr>\n",
       "      <th>68337</th>\n",
       "      <td>16214206783207414400</td>\n",
       "    </tr>\n",
       "    <tr>\n",
       "      <th>68338</th>\n",
       "      <td>16297918936416443014</td>\n",
       "    </tr>\n",
       "  </tbody>\n",
       "</table>\n",
       "<p>68339 rows × 1 columns</p>\n",
       "</div>"
      ],
      "text/plain": [
       "                          0\n",
       "0       6309434638950769016\n",
       "1       6793530981148565425\n",
       "2      17178946681371600493\n",
       "3       4153754210897439962\n",
       "4       6535223947442595824\n",
       "...                     ...\n",
       "68334  11195144987265725249\n",
       "68335  13400789301905091155\n",
       "68336  15120040193672648022\n",
       "68337  16214206783207414400\n",
       "68338  16297918936416443014\n",
       "\n",
       "[68339 rows x 1 columns]"
      ]
     },
     "execution_count": 49,
     "metadata": {},
     "output_type": "execute_result"
    },
    {
     "data": {
      "application/javascript": [
       "\n",
       "            setTimeout(function() {\n",
       "                var nbb_cell_id = 49;\n",
       "                var nbb_unformatted_code = \"sparse_interface.recommended_org_ids_from_latent(\\n    pd.DataFrame(\\n        np.argsort(\\n            light_models[\\\"light\\\"].model.predict(\\n                user_ids=865436, item_ids=np.arange(len(organisations))\\n            )\\n        )\\n    )\\n)\";\n",
       "                var nbb_formatted_code = \"sparse_interface.recommended_org_ids_from_latent(\\n    pd.DataFrame(\\n        np.argsort(\\n            light_models[\\\"light\\\"].model.predict(\\n                user_ids=865436, item_ids=np.arange(len(organisations))\\n            )\\n        )\\n    )\\n)\";\n",
       "                var nbb_cells = Jupyter.notebook.get_cells();\n",
       "                for (var i = 0; i < nbb_cells.length; ++i) {\n",
       "                    if (nbb_cells[i].input_prompt_number == nbb_cell_id) {\n",
       "                        if (nbb_cells[i].get_text() == nbb_unformatted_code) {\n",
       "                             nbb_cells[i].set_text(nbb_formatted_code);\n",
       "                        }\n",
       "                        break;\n",
       "                    }\n",
       "                }\n",
       "            }, 500);\n",
       "            "
      ],
      "text/plain": [
       "<IPython.core.display.Javascript object>"
      ]
     },
     "metadata": {},
     "output_type": "display_data"
    }
   ],
   "source": [
    "sparse_interface.recommended_org_ids_from_latent(\n",
    "    pd.DataFrame(\n",
    "        np.argsort(\n",
    "            light_models[\"light\"].model.predict(\n",
    "                user_ids=865436, item_ids=np.arange(len(organisations))\n",
    "            )\n",
    "        )\n",
    "    )\n",
    ")"
   ]
  },
  {
   "cell_type": "code",
   "execution_count": 50,
   "metadata": {
    "ExecuteTime": {
     "end_time": "2022-08-08T09:21:50.538599Z",
     "start_time": "2022-08-08T09:21:50.263018Z"
    },
    "collapsed": true
   },
   "outputs": [
    {
     "data": {
      "text/html": [
       "<div>\n",
       "<style scoped>\n",
       "    .dataframe tbody tr th:only-of-type {\n",
       "        vertical-align: middle;\n",
       "    }\n",
       "\n",
       "    .dataframe tbody tr th {\n",
       "        vertical-align: top;\n",
       "    }\n",
       "\n",
       "    .dataframe thead th {\n",
       "        text-align: right;\n",
       "    }\n",
       "</style>\n",
       "<table border=\"1\" class=\"dataframe\">\n",
       "  <thead>\n",
       "    <tr style=\"text-align: right;\">\n",
       "      <th></th>\n",
       "      <th>0</th>\n",
       "    </tr>\n",
       "  </thead>\n",
       "  <tbody>\n",
       "    <tr>\n",
       "      <th>0</th>\n",
       "      <td>16556463892627130484</td>\n",
       "    </tr>\n",
       "    <tr>\n",
       "      <th>1</th>\n",
       "      <td>3088005150726534921</td>\n",
       "    </tr>\n",
       "    <tr>\n",
       "      <th>2</th>\n",
       "      <td>6287988302994539132</td>\n",
       "    </tr>\n",
       "    <tr>\n",
       "      <th>3</th>\n",
       "      <td>1113577528751381162</td>\n",
       "    </tr>\n",
       "    <tr>\n",
       "      <th>4</th>\n",
       "      <td>17683582560700659966</td>\n",
       "    </tr>\n",
       "    <tr>\n",
       "      <th>...</th>\n",
       "      <td>...</td>\n",
       "    </tr>\n",
       "    <tr>\n",
       "      <th>68334</th>\n",
       "      <td>3620099101297773783</td>\n",
       "    </tr>\n",
       "    <tr>\n",
       "      <th>68335</th>\n",
       "      <td>11006800892303205642</td>\n",
       "    </tr>\n",
       "    <tr>\n",
       "      <th>68336</th>\n",
       "      <td>16297918936416443014</td>\n",
       "    </tr>\n",
       "    <tr>\n",
       "      <th>68337</th>\n",
       "      <td>6275604663748314015</td>\n",
       "    </tr>\n",
       "    <tr>\n",
       "      <th>68338</th>\n",
       "      <td>15120040193672648022</td>\n",
       "    </tr>\n",
       "  </tbody>\n",
       "</table>\n",
       "<p>68339 rows × 1 columns</p>\n",
       "</div>"
      ],
      "text/plain": [
       "                          0\n",
       "0      16556463892627130484\n",
       "1       3088005150726534921\n",
       "2       6287988302994539132\n",
       "3       1113577528751381162\n",
       "4      17683582560700659966\n",
       "...                     ...\n",
       "68334   3620099101297773783\n",
       "68335  11006800892303205642\n",
       "68336  16297918936416443014\n",
       "68337   6275604663748314015\n",
       "68338  15120040193672648022\n",
       "\n",
       "[68339 rows x 1 columns]"
      ]
     },
     "execution_count": 50,
     "metadata": {},
     "output_type": "execute_result"
    },
    {
     "data": {
      "application/javascript": [
       "\n",
       "            setTimeout(function() {\n",
       "                var nbb_cell_id = 50;\n",
       "                var nbb_unformatted_code = \"sparse_interface.recommended_org_ids_from_latent(\\n    pd.DataFrame(\\n        np.argsort(\\n            light_models[\\\"light_no_features\\\"].model.predict(\\n                user_ids=865436, item_ids=np.arange(len(organisations))\\n            )\\n        )\\n    )\\n)\";\n",
       "                var nbb_formatted_code = \"sparse_interface.recommended_org_ids_from_latent(\\n    pd.DataFrame(\\n        np.argsort(\\n            light_models[\\\"light_no_features\\\"].model.predict(\\n                user_ids=865436, item_ids=np.arange(len(organisations))\\n            )\\n        )\\n    )\\n)\";\n",
       "                var nbb_cells = Jupyter.notebook.get_cells();\n",
       "                for (var i = 0; i < nbb_cells.length; ++i) {\n",
       "                    if (nbb_cells[i].input_prompt_number == nbb_cell_id) {\n",
       "                        if (nbb_cells[i].get_text() == nbb_unformatted_code) {\n",
       "                             nbb_cells[i].set_text(nbb_formatted_code);\n",
       "                        }\n",
       "                        break;\n",
       "                    }\n",
       "                }\n",
       "            }, 500);\n",
       "            "
      ],
      "text/plain": [
       "<IPython.core.display.Javascript object>"
      ]
     },
     "metadata": {},
     "output_type": "display_data"
    }
   ],
   "source": [
    "sparse_interface.recommended_org_ids_from_latent(\n",
    "    pd.DataFrame(\n",
    "        np.argsort(\n",
    "            light_models[\"light_no_features\"].model.predict(\n",
    "                user_ids=865436, item_ids=np.arange(len(organisations))\n",
    "            )\n",
    "        )\n",
    "    )\n",
    ")"
   ]
  },
  {
   "cell_type": "code",
   "execution_count": 31,
   "metadata": {
    "ExecuteTime": {
     "end_time": "2022-08-08T09:12:55.240439Z",
     "start_time": "2022-08-08T09:12:55.222769Z"
    }
   },
   "outputs": [
    {
     "data": {
      "text/html": [
       "<div>\n",
       "<style scoped>\n",
       "    .dataframe tbody tr th:only-of-type {\n",
       "        vertical-align: middle;\n",
       "    }\n",
       "\n",
       "    .dataframe tbody tr th {\n",
       "        vertical-align: top;\n",
       "    }\n",
       "\n",
       "    .dataframe thead th {\n",
       "        text-align: right;\n",
       "    }\n",
       "</style>\n",
       "<table border=\"1\" class=\"dataframe\">\n",
       "  <thead>\n",
       "    <tr style=\"text-align: right;\">\n",
       "      <th></th>\n",
       "      <th>user_id</th>\n",
       "      <th>org_id</th>\n",
       "      <th>rating</th>\n",
       "      <th>ts</th>\n",
       "      <th>aspects</th>\n",
       "    </tr>\n",
       "  </thead>\n",
       "  <tbody>\n",
       "    <tr>\n",
       "      <th>295580</th>\n",
       "      <td>1260816866789840047</td>\n",
       "      <td>3832428521469619030</td>\n",
       "      <td>4.0</td>\n",
       "      <td>0</td>\n",
       "      <td>NaN</td>\n",
       "    </tr>\n",
       "  </tbody>\n",
       "</table>\n",
       "</div>"
      ],
      "text/plain": [
       "                    user_id               org_id  rating  ts aspects\n",
       "295580  1260816866789840047  3832428521469619030     4.0   0     NaN"
      ]
     },
     "execution_count": 31,
     "metadata": {},
     "output_type": "execute_result"
    },
    {
     "data": {
      "application/javascript": [
       "\n",
       "            setTimeout(function() {\n",
       "                var nbb_cell_id = 31;\n",
       "                var nbb_unformatted_code = \"train_reviews.query(\\\"user_id == 1260816866789840047\\\")\";\n",
       "                var nbb_formatted_code = \"train_reviews.query(\\\"user_id == 1260816866789840047\\\")\";\n",
       "                var nbb_cells = Jupyter.notebook.get_cells();\n",
       "                for (var i = 0; i < nbb_cells.length; ++i) {\n",
       "                    if (nbb_cells[i].input_prompt_number == nbb_cell_id) {\n",
       "                        if (nbb_cells[i].get_text() == nbb_unformatted_code) {\n",
       "                             nbb_cells[i].set_text(nbb_formatted_code);\n",
       "                        }\n",
       "                        break;\n",
       "                    }\n",
       "                }\n",
       "            }, 500);\n",
       "            "
      ],
      "text/plain": [
       "<IPython.core.display.Javascript object>"
      ]
     },
     "metadata": {},
     "output_type": "display_data"
    }
   ],
   "source": [
    "train_reviews.query(\"user_id == 1260816866789840047\")"
   ]
  },
  {
   "cell_type": "code",
   "execution_count": 69,
   "metadata": {
    "ExecuteTime": {
     "end_time": "2022-08-08T09:37:53.707655Z",
     "start_time": "2022-08-08T09:36:54.094763Z"
    }
   },
   "outputs": [
    {
     "name": "stderr",
     "output_type": "stream",
     "text": [
      "Epoch: 100%|██████████| 10/10 [00:01<00:00,  7.86it/s]\n",
      "Epoch: 100%|██████████| 10/10 [00:00<00:00, 27.47it/s]\n"
     ]
    },
    {
     "data": {
      "application/javascript": [
       "\n",
       "            setTimeout(function() {\n",
       "                var nbb_cell_id = 69;\n",
       "                var nbb_unformatted_code = \"light_models = {\\n    \\\"light\\\": LightRecommender(sparse_interface, LightFM()),\\n    \\\"light_no_features\\\": LightRecommender(\\n        sparse_interface, LightFM(), with_features=False\\n    ),\\n}\\nassessor.assess(light_models)\";\n",
       "                var nbb_formatted_code = \"light_models = {\\n    \\\"light\\\": LightRecommender(sparse_interface, LightFM()),\\n    \\\"light_no_features\\\": LightRecommender(\\n        sparse_interface, LightFM(), with_features=False\\n    ),\\n}\\nassessor.assess(light_models)\";\n",
       "                var nbb_cells = Jupyter.notebook.get_cells();\n",
       "                for (var i = 0; i < nbb_cells.length; ++i) {\n",
       "                    if (nbb_cells[i].input_prompt_number == nbb_cell_id) {\n",
       "                        if (nbb_cells[i].get_text() == nbb_unformatted_code) {\n",
       "                             nbb_cells[i].set_text(nbb_formatted_code);\n",
       "                        }\n",
       "                        break;\n",
       "                    }\n",
       "                }\n",
       "            }, 500);\n",
       "            "
      ],
      "text/plain": [
       "<IPython.core.display.Javascript object>"
      ]
     },
     "metadata": {},
     "output_type": "display_data"
    }
   ],
   "source": [
    "light_models = {\n",
    "    \"light\": LightRecommender(sparse_interface, LightFM()),\n",
    "    \"light_no_features\": LightRecommender(\n",
    "        sparse_interface, LightFM(), with_features=False\n",
    "    ),\n",
    "}\n",
    "assessor.assess(light_models)"
   ]
  },
  {
   "cell_type": "code",
   "execution_count": 67,
   "metadata": {
    "ExecuteTime": {
     "end_time": "2022-08-08T09:36:17.500627Z",
     "start_time": "2022-08-08T09:36:16.975683Z"
    }
   },
   "outputs": [
    {
     "data": {
      "image/png": "[encoded data removed]",
      "text/plain": [
       "<Figure size 720x432 with 1 Axes>"
      ]
     },
     "metadata": {
      "needs_background": "light"
     },
     "output_type": "display_data"
    },
    {
     "data": {
      "application/javascript": [
       "\n",
       "            setTimeout(function() {\n",
       "                var nbb_cell_id = 67;\n",
       "                var nbb_unformatted_code = \"_ = assessor.show_results()\";\n",
       "                var nbb_formatted_code = \"_ = assessor.show_results()\";\n",
       "                var nbb_cells = Jupyter.notebook.get_cells();\n",
       "                for (var i = 0; i < nbb_cells.length; ++i) {\n",
       "                    if (nbb_cells[i].input_prompt_number == nbb_cell_id) {\n",
       "                        if (nbb_cells[i].get_text() == nbb_unformatted_code) {\n",
       "                             nbb_cells[i].set_text(nbb_formatted_code);\n",
       "                        }\n",
       "                        break;\n",
       "                    }\n",
       "                }\n",
       "            }, 500);\n",
       "            "
      ],
      "text/plain": [
       "<IPython.core.display.Javascript object>"
      ]
     },
     "metadata": {},
     "output_type": "display_data"
    }
   ],
   "source": [
    "_ = assessor.show_results()"
   ]
  },
  {
   "cell_type": "code",
   "execution_count": 70,
   "metadata": {
    "ExecuteTime": {
     "end_time": "2022-08-08T09:37:54.230404Z",
     "start_time": "2022-08-08T09:37:53.709734Z"
    }
   },
   "outputs": [
    {
     "data": {
      "image/png": "[encoded data removed]",
      "text/plain": [
       "<Figure size 720x432 with 1 Axes>"
      ]
     },
     "metadata": {
      "needs_background": "light"
     },
     "output_type": "display_data"
    },
    {
     "data": {
      "application/javascript": [
       "\n",
       "            setTimeout(function() {\n",
       "                var nbb_cell_id = 70;\n",
       "                var nbb_unformatted_code = \"_ = assessor.show_results()\";\n",
       "                var nbb_formatted_code = \"_ = assessor.show_results()\";\n",
       "                var nbb_cells = Jupyter.notebook.get_cells();\n",
       "                for (var i = 0; i < nbb_cells.length; ++i) {\n",
       "                    if (nbb_cells[i].input_prompt_number == nbb_cell_id) {\n",
       "                        if (nbb_cells[i].get_text() == nbb_unformatted_code) {\n",
       "                             nbb_cells[i].set_text(nbb_formatted_code);\n",
       "                        }\n",
       "                        break;\n",
       "                    }\n",
       "                }\n",
       "            }, 500);\n",
       "            "
      ],
      "text/plain": [
       "<IPython.core.display.Javascript object>"
      ]
     },
     "metadata": {},
     "output_type": "display_data"
    }
   ],
   "source": [
    "_ = assessor.show_results()"
   ]
  },
  {
   "cell_type": "code",
   "execution_count": 64,
   "metadata": {
    "ExecuteTime": {
     "end_time": "2022-08-08T09:29:32.905538Z",
     "start_time": "2022-08-08T09:29:32.891689Z"
    }
   },
   "outputs": [
    {
     "data": {
      "text/plain": [
       "0      1463651751421197399\n",
       "1      2096673320182523123\n",
       "2      3620099101297773783\n",
       "3     16059287340086436110\n",
       "4      4186791847928281407\n",
       "5     11195144987265725249\n",
       "6     18339206022464148479\n",
       "7     11006800892303205642\n",
       "8     16297918936416443014\n",
       "9     15120040193672648022\n",
       "10     6275604663748314015\n",
       "11     8187133161650776223\n",
       "12     1503331918121917714\n",
       "13     4477853013398754244\n",
       "14     3709831741100412687\n",
       "15     2868785160031411448\n",
       "16    16214206783207414400\n",
       "17      336748997849365911\n",
       "18    17239524486607140551\n",
       "19    12309025298401950292\n",
       "Name: 49956434489654750, dtype: uint64"
      ]
     },
     "execution_count": 64,
     "metadata": {},
     "output_type": "execute_result"
    },
    {
     "data": {
      "application/javascript": [
       "\n",
       "            setTimeout(function() {\n",
       "                var nbb_cell_id = 64;\n",
       "                var nbb_unformatted_code = \"assessor.assessments[\\\"light_no_features\\\"][\\\"recommendations\\\"].loc[49956434489654750]\";\n",
       "                var nbb_formatted_code = \"assessor.assessments[\\\"light_no_features\\\"][\\\"recommendations\\\"].loc[49956434489654750]\";\n",
       "                var nbb_cells = Jupyter.notebook.get_cells();\n",
       "                for (var i = 0; i < nbb_cells.length; ++i) {\n",
       "                    if (nbb_cells[i].input_prompt_number == nbb_cell_id) {\n",
       "                        if (nbb_cells[i].get_text() == nbb_unformatted_code) {\n",
       "                             nbb_cells[i].set_text(nbb_formatted_code);\n",
       "                        }\n",
       "                        break;\n",
       "                    }\n",
       "                }\n",
       "            }, 500);\n",
       "            "
      ],
      "text/plain": [
       "<IPython.core.display.Javascript object>"
      ]
     },
     "metadata": {},
     "output_type": "display_data"
    }
   ],
   "source": [
    "assessor.assessments[\"light_no_features\"][\"recommendations\"].loc[49956434489654750]"
   ]
  },
  {
   "cell_type": "code",
   "execution_count": 61,
   "metadata": {
    "ExecuteTime": {
     "end_time": "2022-08-08T09:25:09.434767Z",
     "start_time": "2022-08-08T09:25:09.419573Z"
    }
   },
   "outputs": [
    {
     "data": {
      "text/plain": [
       "0     15372205785642187831\n",
       "1      5300695481522514175\n",
       "2     12064449945454452021\n",
       "3                        0\n",
       "4                        0\n",
       "5                        0\n",
       "6                        0\n",
       "7                        0\n",
       "8                        0\n",
       "9                        0\n",
       "10                       0\n",
       "11                       0\n",
       "12                       0\n",
       "13                       0\n",
       "14                       0\n",
       "15                       0\n",
       "16                       0\n",
       "17                       0\n",
       "18                       0\n",
       "19                       0\n",
       "Name: 49956434489654750, dtype: uint64"
      ]
     },
     "execution_count": 61,
     "metadata": {},
     "output_type": "execute_result"
    },
    {
     "data": {
      "application/javascript": [
       "\n",
       "            setTimeout(function() {\n",
       "                var nbb_cell_id = 61;\n",
       "                var nbb_unformatted_code = \"assessor.assessments[\\\"tfidf\\\"][\\\"recommendations\\\"].loc[49956434489654750]\";\n",
       "                var nbb_formatted_code = \"assessor.assessments[\\\"tfidf\\\"][\\\"recommendations\\\"].loc[49956434489654750]\";\n",
       "                var nbb_cells = Jupyter.notebook.get_cells();\n",
       "                for (var i = 0; i < nbb_cells.length; ++i) {\n",
       "                    if (nbb_cells[i].input_prompt_number == nbb_cell_id) {\n",
       "                        if (nbb_cells[i].get_text() == nbb_unformatted_code) {\n",
       "                             nbb_cells[i].set_text(nbb_formatted_code);\n",
       "                        }\n",
       "                        break;\n",
       "                    }\n",
       "                }\n",
       "            }, 500);\n",
       "            "
      ],
      "text/plain": [
       "<IPython.core.display.Javascript object>"
      ]
     },
     "metadata": {},
     "output_type": "display_data"
    }
   ],
   "source": [
    "assessor.assessments[\"tfidf\"][\"recommendations\"].loc[49956434489654750]"
   ]
  },
  {
   "cell_type": "code",
   "execution_count": 63,
   "metadata": {
    "ExecuteTime": {
     "end_time": "2022-08-08T09:25:39.969617Z",
     "start_time": "2022-08-08T09:25:39.946949Z"
    }
   },
   "outputs": [
    {
     "data": {
      "text/html": [
       "<div>\n",
       "<style scoped>\n",
       "    .dataframe tbody tr th:only-of-type {\n",
       "        vertical-align: middle;\n",
       "    }\n",
       "\n",
       "    .dataframe tbody tr th {\n",
       "        vertical-align: top;\n",
       "    }\n",
       "\n",
       "    .dataframe thead th {\n",
       "        text-align: right;\n",
       "    }\n",
       "</style>\n",
       "<table border=\"1\" class=\"dataframe\">\n",
       "  <thead>\n",
       "    <tr style=\"text-align: right;\">\n",
       "      <th></th>\n",
       "      <th>user_id</th>\n",
       "      <th>org_id</th>\n",
       "      <th>rating</th>\n",
       "      <th>ts</th>\n",
       "      <th>aspects</th>\n",
       "    </tr>\n",
       "  </thead>\n",
       "  <tbody>\n",
       "    <tr>\n",
       "      <th>3958400</th>\n",
       "      <td>49956434489654750</td>\n",
       "      <td>5300695481522514175</td>\n",
       "      <td>5.0</td>\n",
       "      <td>25</td>\n",
       "      <td>6</td>\n",
       "    </tr>\n",
       "  </tbody>\n",
       "</table>\n",
       "</div>"
      ],
      "text/plain": [
       "                   user_id               org_id  rating  ts aspects\n",
       "3958400  49956434489654750  5300695481522514175     5.0  25       6"
      ]
     },
     "execution_count": 63,
     "metadata": {},
     "output_type": "execute_result"
    },
    {
     "data": {
      "application/javascript": [
       "\n",
       "            setTimeout(function() {\n",
       "                var nbb_cell_id = 63;\n",
       "                var nbb_unformatted_code = \"train_reviews.query(\\\"user_id == 49956434489654750\\\")\";\n",
       "                var nbb_formatted_code = \"train_reviews.query(\\\"user_id == 49956434489654750\\\")\";\n",
       "                var nbb_cells = Jupyter.notebook.get_cells();\n",
       "                for (var i = 0; i < nbb_cells.length; ++i) {\n",
       "                    if (nbb_cells[i].input_prompt_number == nbb_cell_id) {\n",
       "                        if (nbb_cells[i].get_text() == nbb_unformatted_code) {\n",
       "                             nbb_cells[i].set_text(nbb_formatted_code);\n",
       "                        }\n",
       "                        break;\n",
       "                    }\n",
       "                }\n",
       "            }, 500);\n",
       "            "
      ],
      "text/plain": [
       "<IPython.core.display.Javascript object>"
      ]
     },
     "metadata": {},
     "output_type": "display_data"
    }
   ],
   "source": [
    "train_reviews.query(\"user_id == 49956434489654750\")"
   ]
  },
  {
   "cell_type": "code",
   "execution_count": 119,
   "metadata": {
    "ExecuteTime": {
     "end_time": "2022-08-08T08:25:15.424225Z",
     "start_time": "2022-08-08T08:25:15.411343Z"
    }
   },
   "outputs": [
    {
     "data": {
      "text/plain": [
       "600"
      ]
     },
     "execution_count": 119,
     "metadata": {},
     "output_type": "execute_result"
    },
    {
     "data": {
      "application/javascript": [
       "\n",
       "            setTimeout(function() {\n",
       "                var nbb_cell_id = 119;\n",
       "                var nbb_unformatted_code = \"len(set(validation_reviews[\\\"user_id\\\"]))\";\n",
       "                var nbb_formatted_code = \"len(set(validation_reviews[\\\"user_id\\\"]))\";\n",
       "                var nbb_cells = Jupyter.notebook.get_cells();\n",
       "                for (var i = 0; i < nbb_cells.length; ++i) {\n",
       "                    if (nbb_cells[i].input_prompt_number == nbb_cell_id) {\n",
       "                        if (nbb_cells[i].get_text() == nbb_unformatted_code) {\n",
       "                             nbb_cells[i].set_text(nbb_formatted_code);\n",
       "                        }\n",
       "                        break;\n",
       "                    }\n",
       "                }\n",
       "            }, 500);\n",
       "            "
      ],
      "text/plain": [
       "<IPython.core.display.Javascript object>"
      ]
     },
     "metadata": {},
     "output_type": "display_data"
    }
   ],
   "source": [
    "len(set(validation_reviews[\"user_id\"]))"
   ]
  },
  {
   "cell_type": "code",
   "execution_count": 56,
   "metadata": {
    "ExecuteTime": {
     "end_time": "2022-08-08T09:24:08.608596Z",
     "start_time": "2022-08-08T09:24:08.523707Z"
    }
   },
   "outputs": [
    {
     "data": {
      "text/plain": [
       "{49956434489654750,\n",
       " 59997744581958185,\n",
       " 76301336870519302,\n",
       " 164850595329712755,\n",
       " 177679379098689591,\n",
       " 192864739822192175,\n",
       " 195918093285731171,\n",
       " 219247439500939836,\n",
       " 243926358137225995,\n",
       " 343364370501918204,\n",
       " 403323615311952453,\n",
       " 436002081143334355,\n",
       " 476026990863739896,\n",
       " 617690061870582216,\n",
       " 675416695373276789,\n",
       " 677252960490199146,\n",
       " 714918200894663566,\n",
       " 771372888047607944,\n",
       " 814092367247628589,\n",
       " 842406622880277358,\n",
       " 939111408789665529,\n",
       " 954150073048163992,\n",
       " 968919213654162680,\n",
       " 970580849046595712,\n",
       " 1007080468517852271,\n",
       " 1079808642651692654,\n",
       " 1116651621541779916,\n",
       " 1119830520297470997,\n",
       " 1205416959973629229,\n",
       " 1214185174095834743,\n",
       " 1231639120335999813,\n",
       " 1263976354353063917,\n",
       " 1309247615790366060,\n",
       " 1319530178758826540,\n",
       " 1347081261599969850,\n",
       " 1353676387100150977,\n",
       " 1411505179048283355,\n",
       " 1486243462664358742,\n",
       " 1506111569182525708,\n",
       " 1537896080222081247,\n",
       " 1543741096010584108,\n",
       " 1615158209341478841,\n",
       " 1627568731738334112,\n",
       " 1655533772790703774,\n",
       " 1673306185245239712,\n",
       " 1691818795915119215,\n",
       " 1723878625021152208,\n",
       " 1724749510882295805,\n",
       " 1750061868178372022,\n",
       " 1751976068878638071,\n",
       " 1759772597926282127,\n",
       " 1774989015956272272,\n",
       " 1776870707515602338,\n",
       " 1792214981400253932,\n",
       " 1883650653439021889,\n",
       " 1906140567727663900,\n",
       " 1979411574654025228,\n",
       " 2092384322693832315,\n",
       " 2121935081376538222,\n",
       " 2138373839083379241,\n",
       " 2177073727733092253,\n",
       " 2214695919496663038,\n",
       " 2218300473325112175,\n",
       " 2361814695592090036,\n",
       " 2394547020299686611,\n",
       " 2521353663432084011,\n",
       " 2546172101806617079,\n",
       " 2557556014783846437,\n",
       " 2565184622614726549,\n",
       " 2577339424174198063,\n",
       " 2599642904624075177,\n",
       " 2604166601257977981,\n",
       " 2606787762550113023,\n",
       " 2626183841867514813,\n",
       " 2631531670582532714,\n",
       " 2643086568963237635,\n",
       " 2649628215857369327,\n",
       " 2657079977959529485,\n",
       " 2692910649720931993,\n",
       " 2708829580941377080,\n",
       " 2723745569366279487,\n",
       " 2728006463359119922,\n",
       " 2785025457414881518,\n",
       " 2789630264470210306,\n",
       " 2793776851698020652,\n",
       " 2824551385692540714,\n",
       " 2832974600513251850,\n",
       " 2844037558459153683,\n",
       " 2872695888646843582,\n",
       " 2894665201648605939,\n",
       " 2919672457991950315,\n",
       " 2925875414742308953,\n",
       " 2968724490004559233,\n",
       " 3050734240574112695,\n",
       " 3058381456361274036,\n",
       " 3097683046846479008,\n",
       " 3111022602350420510,\n",
       " 3121660921592130452,\n",
       " 3140034230233409696,\n",
       " 3336856661320992392,\n",
       " 3419440725157047187,\n",
       " 3489397905070740340,\n",
       " 3496096544989725448,\n",
       " 3608343171462303914,\n",
       " 3647725778387134299,\n",
       " 3658051990671503377,\n",
       " 3664305122668851688,\n",
       " 3669236559807078007,\n",
       " 3741544518186991408,\n",
       " 3752148443830592882,\n",
       " 3806609901583448795,\n",
       " 3875809082609934384,\n",
       " 3899678173153067097,\n",
       " 3916948335164141603,\n",
       " 3968789559789852374,\n",
       " 4082791167726781294,\n",
       " 4116248460069152960,\n",
       " 4122832787110586333,\n",
       " 4128984232358236646,\n",
       " 4139936739861723556,\n",
       " 4176170254427306704,\n",
       " 4186953848787759180,\n",
       " 4216864726102779920,\n",
       " 4232552332804298337,\n",
       " 4268304677587354564,\n",
       " 4309553599218193854,\n",
       " 4335624033535375705,\n",
       " 4339885897736782415,\n",
       " 4360450369601130773,\n",
       " 4386466387253706660,\n",
       " 4409921026034214684,\n",
       " 4425572188400480063,\n",
       " 4511596835126320746,\n",
       " 4558906851673459005,\n",
       " 4600754964185802578,\n",
       " 4718780002009194297,\n",
       " 4745998047887794204,\n",
       " 4752777910843841669,\n",
       " 4811188738935239741,\n",
       " 4838374027912146327,\n",
       " 4855110425268870524,\n",
       " 4937562640016625890,\n",
       " 4986273205478682322,\n",
       " 4990596404154240288,\n",
       " 5014985331306862852,\n",
       " 5040690043636366327,\n",
       " 5046392343819282780,\n",
       " 5050507381337193822,\n",
       " 5058416940227312686,\n",
       " 5060733536404341469,\n",
       " 5063359351767896715,\n",
       " 5106567623028022150,\n",
       " 5130392977053131765,\n",
       " 5153229594010915266,\n",
       " 5158914513132341027,\n",
       " 5159190331089051242,\n",
       " 5188590215525109420,\n",
       " 5192624696422789684,\n",
       " 5213171291410601797,\n",
       " 5288009046394070748,\n",
       " 5296003565146404670,\n",
       " 5297023520805357852,\n",
       " 5322145345532733224,\n",
       " 5330183043208043303,\n",
       " 5338573585101927927,\n",
       " 5364932404161751461,\n",
       " 5381271612919715501,\n",
       " 5382980886263948599,\n",
       " 5401203288358050932,\n",
       " 5433350038570559082,\n",
       " 5474316848056385249,\n",
       " 5505182756785924582,\n",
       " 5556926754064215498,\n",
       " 5565503815097108881,\n",
       " 5575996360402704447,\n",
       " 5581915455131248840,\n",
       " 5613590430282372927,\n",
       " 5621854875131765924,\n",
       " 5660808271676664563,\n",
       " 5663034014144947016,\n",
       " 5670718380084512903,\n",
       " 5671502482037186730,\n",
       " 5824629745967079416,\n",
       " 5879376047047448220,\n",
       " 5895655771339206591,\n",
       " 5915607790116470114,\n",
       " 5930386125876103215,\n",
       " 5970188752773180937,\n",
       " 5981439687983214711,\n",
       " 6124554902998906776,\n",
       " 6139743586191164544,\n",
       " 6153574014750261976,\n",
       " 6198772666408166634,\n",
       " 6303926050342823543,\n",
       " 6470260578211910388,\n",
       " 6510077710327138904,\n",
       " 6528104433108629122,\n",
       " 6607000507582580568,\n",
       " 6618696745547825259,\n",
       " 6746273860918391114,\n",
       " 6764498677433229458,\n",
       " 6783396055937699412,\n",
       " 6895823416504310080,\n",
       " 6922620175129201514,\n",
       " 6928728025353221228,\n",
       " 7007267725624100270,\n",
       " 7020671033894173172,\n",
       " 7078677136925995337,\n",
       " 7294701369765606703,\n",
       " 7302023026598977077,\n",
       " 7393167696601563057,\n",
       " 7411747437482931768,\n",
       " 7420906309606785028,\n",
       " 7429378378987027588,\n",
       " 7487424175166293776,\n",
       " 7552700226805416056,\n",
       " 7638195436584005204,\n",
       " 7648557966578636474,\n",
       " 7649169955935144725,\n",
       " 7694111280582881713,\n",
       " 7720099196955985188,\n",
       " 7723705235586478679,\n",
       " 7754505797264471659,\n",
       " 7809787019795274650,\n",
       " 7830305977150121018,\n",
       " 7850319394688628731,\n",
       " 7905747056981947251,\n",
       " 7913139819120171195,\n",
       " 7940080438735457721,\n",
       " 7962167270892016027,\n",
       " 8044042664686931282,\n",
       " 8061854137216716927,\n",
       " 8103569824678855642,\n",
       " 8103572461688874604,\n",
       " 8118655457408153372,\n",
       " 8141514091693092132,\n",
       " 8184360961925608181,\n",
       " 8209800219107228956,\n",
       " 8225617594967729447,\n",
       " 8295515181846722703,\n",
       " 8301215803622486128,\n",
       " 8367125243357481529,\n",
       " 8508389492238645366,\n",
       " 8513972187715240471,\n",
       " 8534922708337171381,\n",
       " 8541417262738545573,\n",
       " 8554485566362566252,\n",
       " 8827969383999151002,\n",
       " 8838104123341763111,\n",
       " 8843037163756516874,\n",
       " 8845368842269755472,\n",
       " 8851379046612994276,\n",
       " 8858842100478979538,\n",
       " 8861518041887719784,\n",
       " 8873923728517538681,\n",
       " 8875134784505200712,\n",
       " 8910856355082805720,\n",
       " 8969046387609219528,\n",
       " 8989260132562062912,\n",
       " 8990251554543097805,\n",
       " 8997303323876969645,\n",
       " 9005406351316715752,\n",
       " 9028664743599035057,\n",
       " 9053588810165587170,\n",
       " 9060210122652952317,\n",
       " 9069531366493225877,\n",
       " 9070477010303805531,\n",
       " 9144958999343027840,\n",
       " 9159069625245602750,\n",
       " 9219487121571058809,\n",
       " 9257302720679399828,\n",
       " 9259276653442194977,\n",
       " 9296256735328447003,\n",
       " 9315203560746012226,\n",
       " 9373412094355620732,\n",
       " 9435757383182920237,\n",
       " 9437698318304397636,\n",
       " 9443405319053907205,\n",
       " 9542053126829124810,\n",
       " 9579881732192152899,\n",
       " 9604270094822797140,\n",
       " 9676908748434100515,\n",
       " 9695660681123671629,\n",
       " 9698347427107380285,\n",
       " 9757671322675370805,\n",
       " 9760162138754749264,\n",
       " 9775778638460237727,\n",
       " 9827374866606372880,\n",
       " 9850882086162959137,\n",
       " 9855031762100893239,\n",
       " 9895394807442235576,\n",
       " 9949472908889198905,\n",
       " 9954421130608906129,\n",
       " 9981003765431234623,\n",
       " 9983619070175192379,\n",
       " 10042027829656747720,\n",
       " 10120247710228778568,\n",
       " 10136946170739451949,\n",
       " 10168044798504161006,\n",
       " 10282026614836967837,\n",
       " 10332853226177081888,\n",
       " 10352616711153404262,\n",
       " 10357393660855501961,\n",
       " 10412051165147071565,\n",
       " 10420579398963634332,\n",
       " 10518254724257388331,\n",
       " 10528837494997835690,\n",
       " 10542294100357448706,\n",
       " 10576769000166505099,\n",
       " 10611076253286732582,\n",
       " 10666880575909902921,\n",
       " 10744992617628591816,\n",
       " 10776303625486063492,\n",
       " 10792116600543297752,\n",
       " 10798572100880317255,\n",
       " 10799463593790587198,\n",
       " 10828408255126313492,\n",
       " 10890421785086712026,\n",
       " 10915738001384293574,\n",
       " 11063115530755332211,\n",
       " 11064783294696218010,\n",
       " 11067361604776580933,\n",
       " 11067533543007841225,\n",
       " 11092069889521220097,\n",
       " 11151319528379319435,\n",
       " 11243369311535422194,\n",
       " 11255391908372673909,\n",
       " 11260303110449595949,\n",
       " 11267974195766506813,\n",
       " 11280563569055798355,\n",
       " 11321000397897660308,\n",
       " 11328404072250635114,\n",
       " 11400781931470619982,\n",
       " 11446950988456871208,\n",
       " 11475804595347221206,\n",
       " 11526283462802151290,\n",
       " 11547377264372052537,\n",
       " 11644428229075158480,\n",
       " 11702899338268804754,\n",
       " 11708936814528277541,\n",
       " 11708962968716310765,\n",
       " 11729991274872409343,\n",
       " 11752746111949998044,\n",
       " 11797936441004347560,\n",
       " 11912266241992714059,\n",
       " 11971332510402126688,\n",
       " 11973677376098380702,\n",
       " 12113691641238905886,\n",
       " 12114007441205814570,\n",
       " 12189634564850473049,\n",
       " 12202380898196803438,\n",
       " 12297299794100270972,\n",
       " 12365841359843854076,\n",
       " 12374329870468513872,\n",
       " 12392865067427500259,\n",
       " 12438035668543569254,\n",
       " 12453974356532369850,\n",
       " 12486978464642787731,\n",
       " 12594280136907929973,\n",
       " 12602272778924870687,\n",
       " 12651092115883705170,\n",
       " 12657751268121869145,\n",
       " 12769716851377230123,\n",
       " 12774182003117654548,\n",
       " 12788717190254903017,\n",
       " 12800706079788125181,\n",
       " 12874963524896755636,\n",
       " 12877498779541241382,\n",
       " 12915230548795866898,\n",
       " 12921390287680843530,\n",
       " 12961585474491979294,\n",
       " 12989745404471825746,\n",
       " 13011887188538502557,\n",
       " 13061829581183744997,\n",
       " 13122398199459315490,\n",
       " 13185707189069955933,\n",
       " 13229679859582555986,\n",
       " 13284188127084754141,\n",
       " 13290686990877069904,\n",
       " 13362907006429362400,\n",
       " 13390595507460089066,\n",
       " 13439866607513406543,\n",
       " 13506528376246371988,\n",
       " 13535934277478970154,\n",
       " 13559228741945301569,\n",
       " 13575809929363512339,\n",
       " 13579122026990913374,\n",
       " 13599202300099548460,\n",
       " 13655898701579796049,\n",
       " 13665117940398670627,\n",
       " 13683758201383766249,\n",
       " 13714215999728974821,\n",
       " 13738605578527572631,\n",
       " 13753048096019181663,\n",
       " 13767874085011192814,\n",
       " 13833763640509859684,\n",
       " 13837059021769165209,\n",
       " 13840723362755650344,\n",
       " 13886006393883882498,\n",
       " 13892478643605493743,\n",
       " 14064548721658275383,\n",
       " 14130506918254013496,\n",
       " 14131408192277846713,\n",
       " 14222047006000569040,\n",
       " 14249781895809073237,\n",
       " 14305893559075970555,\n",
       " 14313083483763589082,\n",
       " 14317949375966249478,\n",
       " 14326987302419731845,\n",
       " 14330652691364434022,\n",
       " 14413589606434015270,\n",
       " 14423437748716000212,\n",
       " 14428390502480896849,\n",
       " 14462054778853642088,\n",
       " 14495600798677040553,\n",
       " 14516330417336564074,\n",
       " 14545510744832668420,\n",
       " 14596493908868881443,\n",
       " 14610793708667015872,\n",
       " 14660095955987290999,\n",
       " 14666253889232689405,\n",
       " 14677732767769297740,\n",
       " 14679284138544800275,\n",
       " 14680606044140940159,\n",
       " 14737827681421753451,\n",
       " 14754393897138784927,\n",
       " 14796949833978014447,\n",
       " 14879897750914882154,\n",
       " 14921407986608239929,\n",
       " 14948076868868540778,\n",
       " 14993427998554732782,\n",
       " 14997423652486688514,\n",
       " 15000704762797820086,\n",
       " 15001017182400214013,\n",
       " 15173181460719871705,\n",
       " 15186712105452336645,\n",
       " 15196207433874094578,\n",
       " 15200986829851623088,\n",
       " 15210893815781862539,\n",
       " 15213675464206752964,\n",
       " 15215506488014031376,\n",
       " 15219289645400259142,\n",
       " 15242533792799546037,\n",
       " 15319455389645453108,\n",
       " 15340580386900469775,\n",
       " 15347058813981019864,\n",
       " 15420687221130905665,\n",
       " 15459118060460029297,\n",
       " 15533563464331303626,\n",
       " 15558620957715751911,\n",
       " 15712507990994855026,\n",
       " 15729712381979953734,\n",
       " 15767029646557101158,\n",
       " 15789035021027303036,\n",
       " 15823253984948755271,\n",
       " 15875881467036274286,\n",
       " 15912298034488459610,\n",
       " 15921698853445829528,\n",
       " 16015841499642409370,\n",
       " 16062976733364678273,\n",
       " 16160423629222398970,\n",
       " 16162051400520117525,\n",
       " 16165051668996678954,\n",
       " 16283400591267768968,\n",
       " 16361657566127466618,\n",
       " 16373102601364706762,\n",
       " 16378081228197466398,\n",
       " 16385838367864018399,\n",
       " 16456213433759817507,\n",
       " 16493535443766969418,\n",
       " 16540135868807604028,\n",
       " 16542751157378006233,\n",
       " 16649589623140390495,\n",
       " 16661692362064536154,\n",
       " 16685526847829804810,\n",
       " 16721173565048927170,\n",
       " 16768892776081401463,\n",
       " 16769192388381770378,\n",
       " 16771860799789582130,\n",
       " 16858824506375131747,\n",
       " 16864689651596782918,\n",
       " 16866479931093859940,\n",
       " 16887384380644319650,\n",
       " 16894768194550719199,\n",
       " 17073081696774128094,\n",
       " 17081750649001822045,\n",
       " 17233969672287192386,\n",
       " 17244882246773048310,\n",
       " 17287823763735329607,\n",
       " 17291419130476059452,\n",
       " 17353191856618737762,\n",
       " 17357733658721186067,\n",
       " 17435272816256177834,\n",
       " 17466040391688260597,\n",
       " 17521258498604889766,\n",
       " 17556255561257677408,\n",
       " 17578583222570360825,\n",
       " 17603285802309885585,\n",
       " 17651987042909273376,\n",
       " 17736620811376727890,\n",
       " 17824149342041669681,\n",
       " 17833783940928355852,\n",
       " 17839574018568605177,\n",
       " 17845304982705843583,\n",
       " 17880033703779318573,\n",
       " 17905419912294403129,\n",
       " 17957715835926604799,\n",
       " 17968235494670556505,\n",
       " 17976407735526319127,\n",
       " 18047226854877092265,\n",
       " 18056107019088637183,\n",
       " 18145952766012148555,\n",
       " 18242794461302810964,\n",
       " 18291847436187968139,\n",
       " 18332541803298217704}"
      ]
     },
     "execution_count": 56,
     "metadata": {},
     "output_type": "execute_result"
    },
    {
     "data": {
      "application/javascript": [
       "\n",
       "            setTimeout(function() {\n",
       "                var nbb_cell_id = 56;\n",
       "                var nbb_unformatted_code = \"set(validation_reviews[\\\"user_id\\\"]) & set(train_reviews[\\\"user_id\\\"])\";\n",
       "                var nbb_formatted_code = \"set(validation_reviews[\\\"user_id\\\"]) & set(train_reviews[\\\"user_id\\\"])\";\n",
       "                var nbb_cells = Jupyter.notebook.get_cells();\n",
       "                for (var i = 0; i < nbb_cells.length; ++i) {\n",
       "                    if (nbb_cells[i].input_prompt_number == nbb_cell_id) {\n",
       "                        if (nbb_cells[i].get_text() == nbb_unformatted_code) {\n",
       "                             nbb_cells[i].set_text(nbb_formatted_code);\n",
       "                        }\n",
       "                        break;\n",
       "                    }\n",
       "                }\n",
       "            }, 500);\n",
       "            "
      ],
      "text/plain": [
       "<IPython.core.display.Javascript object>"
      ]
     },
     "metadata": {},
     "output_type": "display_data"
    }
   ],
   "source": [
    "set(validation_reviews[\"user_id\"]) & set(train_reviews[\"user_id\"])"
   ]
  },
  {
   "cell_type": "code",
   "execution_count": null,
   "metadata": {},
   "outputs": [],
   "source": [
    "sparse_interface.use"
   ]
  },
  {
   "cell_type": "code",
   "execution_count": 129,
   "metadata": {
    "ExecuteTime": {
     "end_time": "2022-08-08T08:29:43.260960Z",
     "start_time": "2022-08-08T08:29:43.241840Z"
    }
   },
   "outputs": [
    {
     "data": {
      "text/html": [
       "<div>\n",
       "<style scoped>\n",
       "    .dataframe tbody tr th:only-of-type {\n",
       "        vertical-align: middle;\n",
       "    }\n",
       "\n",
       "    .dataframe tbody tr th {\n",
       "        vertical-align: top;\n",
       "    }\n",
       "\n",
       "    .dataframe thead th {\n",
       "        text-align: right;\n",
       "    }\n",
       "</style>\n",
       "<table border=\"1\" class=\"dataframe\">\n",
       "  <thead>\n",
       "    <tr style=\"text-align: right;\">\n",
       "      <th></th>\n",
       "      <th>user_id</th>\n",
       "      <th>org_id</th>\n",
       "      <th>rating</th>\n",
       "      <th>ts</th>\n",
       "      <th>aspects</th>\n",
       "    </tr>\n",
       "  </thead>\n",
       "  <tbody>\n",
       "    <tr>\n",
       "      <th>562179</th>\n",
       "      <td>16649589623140390495</td>\n",
       "      <td>13704935959835872905</td>\n",
       "      <td>4.0</td>\n",
       "      <td>6</td>\n",
       "      <td>NaN</td>\n",
       "    </tr>\n",
       "  </tbody>\n",
       "</table>\n",
       "</div>"
      ],
      "text/plain": [
       "                     user_id                org_id  rating  ts aspects\n",
       "562179  16649589623140390495  13704935959835872905     4.0   6     NaN"
      ]
     },
     "execution_count": 129,
     "metadata": {},
     "output_type": "execute_result"
    },
    {
     "data": {
      "application/javascript": [
       "\n",
       "            setTimeout(function() {\n",
       "                var nbb_cell_id = 129;\n",
       "                var nbb_unformatted_code = \"train_reviews.query(\\\"user_id == 16649589623140390495\\\")\";\n",
       "                var nbb_formatted_code = \"train_reviews.query(\\\"user_id == 16649589623140390495\\\")\";\n",
       "                var nbb_cells = Jupyter.notebook.get_cells();\n",
       "                for (var i = 0; i < nbb_cells.length; ++i) {\n",
       "                    if (nbb_cells[i].input_prompt_number == nbb_cell_id) {\n",
       "                        if (nbb_cells[i].get_text() == nbb_unformatted_code) {\n",
       "                             nbb_cells[i].set_text(nbb_formatted_code);\n",
       "                        }\n",
       "                        break;\n",
       "                    }\n",
       "                }\n",
       "            }, 500);\n",
       "            "
      ],
      "text/plain": [
       "<IPython.core.display.Javascript object>"
      ]
     },
     "metadata": {},
     "output_type": "display_data"
    }
   ],
   "source": [
    "train_reviews.query(\"user_id == 16649589623140390495\")"
   ]
  },
  {
   "cell_type": "code",
   "execution_count": 130,
   "metadata": {
    "ExecuteTime": {
     "end_time": "2022-08-08T08:29:45.085633Z",
     "start_time": "2022-08-08T08:29:45.072734Z"
    }
   },
   "outputs": [
    {
     "data": {
      "text/plain": [
       "0      4333132988638272316\n",
       "1     16214206783207414400\n",
       "2     15120040193672648022\n",
       "3      2504725748428091362\n",
       "4     17239524486607140551\n",
       "5     16297918936416443014\n",
       "6      2096673320182523123\n",
       "7      1463651751421197399\n",
       "8     11006800892303205642\n",
       "9      6275604663748314015\n",
       "10     8255436071177180165\n",
       "11     7244033762487689492\n",
       "12     7817354760181269529\n",
       "13    10155146445412626993\n",
       "14    11195144987265725249\n",
       "15     4186791847928281407\n",
       "16      647805440176399974\n",
       "17     3620099101297773783\n",
       "18    14286582846726318657\n",
       "19     3709831741100412687\n",
       "Name: 16649589623140390495, dtype: uint64"
      ]
     },
     "execution_count": 130,
     "metadata": {},
     "output_type": "execute_result"
    },
    {
     "data": {
      "application/javascript": [
       "\n",
       "            setTimeout(function() {\n",
       "                var nbb_cell_id = 130;\n",
       "                var nbb_unformatted_code = \"assessor.assessments[\\\"light_no_features\\\"][\\\"recommendations\\\"].loc[16649589623140390495]\";\n",
       "                var nbb_formatted_code = \"assessor.assessments[\\\"light_no_features\\\"][\\\"recommendations\\\"].loc[16649589623140390495]\";\n",
       "                var nbb_cells = Jupyter.notebook.get_cells();\n",
       "                for (var i = 0; i < nbb_cells.length; ++i) {\n",
       "                    if (nbb_cells[i].input_prompt_number == nbb_cell_id) {\n",
       "                        if (nbb_cells[i].get_text() == nbb_unformatted_code) {\n",
       "                             nbb_cells[i].set_text(nbb_formatted_code);\n",
       "                        }\n",
       "                        break;\n",
       "                    }\n",
       "                }\n",
       "            }, 500);\n",
       "            "
      ],
      "text/plain": [
       "<IPython.core.display.Javascript object>"
      ]
     },
     "metadata": {},
     "output_type": "display_data"
    }
   ],
   "source": [
    "assessor.assessments[\"light_no_features\"][\"recommendations\"].loc[16649589623140390495]"
   ]
  },
  {
   "cell_type": "code",
   "execution_count": 128,
   "metadata": {
    "ExecuteTime": {
     "end_time": "2022-08-08T08:28:23.647009Z",
     "start_time": "2022-08-08T08:28:23.633608Z"
    }
   },
   "outputs": [
    {
     "data": {
      "text/plain": [
       "0     13104037367252018048\n",
       "1     18432949538634137232\n",
       "2      6021159400832118532\n",
       "3      1230524739302283568\n",
       "4     13339696363435959970\n",
       "5     11239822096395279608\n",
       "6      4367430528777363482\n",
       "7      8092910249760094363\n",
       "8      4835490095586907229\n",
       "9     17578923690100197650\n",
       "10    16204191809361844148\n",
       "11     4603380641022551772\n",
       "12    13841868897325631515\n",
       "13    18088397421874631135\n",
       "14       90777097076479624\n",
       "15     4121306388001900879\n",
       "16    18182676937132029272\n",
       "17     8283507887285798065\n",
       "18    13380541298534906181\n",
       "19    16842956932084109631\n",
       "Name: 18400765392363033383, dtype: uint64"
      ]
     },
     "execution_count": 128,
     "metadata": {},
     "output_type": "execute_result"
    },
    {
     "data": {
      "application/javascript": [
       "\n",
       "            setTimeout(function() {\n",
       "                var nbb_cell_id = 128;\n",
       "                var nbb_unformatted_code = \"assessor.assessments[\\\"light\\\"][\\\"recommendations\\\"].loc[18400765392363033383]\";\n",
       "                var nbb_formatted_code = \"assessor.assessments[\\\"light\\\"][\\\"recommendations\\\"].loc[18400765392363033383]\";\n",
       "                var nbb_cells = Jupyter.notebook.get_cells();\n",
       "                for (var i = 0; i < nbb_cells.length; ++i) {\n",
       "                    if (nbb_cells[i].input_prompt_number == nbb_cell_id) {\n",
       "                        if (nbb_cells[i].get_text() == nbb_unformatted_code) {\n",
       "                             nbb_cells[i].set_text(nbb_formatted_code);\n",
       "                        }\n",
       "                        break;\n",
       "                    }\n",
       "                }\n",
       "            }, 500);\n",
       "            "
      ],
      "text/plain": [
       "<IPython.core.display.Javascript object>"
      ]
     },
     "metadata": {},
     "output_type": "display_data"
    }
   ],
   "source": [
    "assessor.assessments[\"light\"][\"recommendations\"].loc[18400765392363033383]"
   ]
  },
  {
   "cell_type": "markdown",
   "metadata": {},
   "source": [
    "**(1.0 балла) Задание 9.**\n",
    "\n",
    "   Посмотрим на все прошлые методы как на модели, которые генерируют нам кандидатов для ответа рекомендательной системы. \n",
    "   \n",
    "   Как нам выбрать те 20 организаций наилучшим образом? \n",
    "   \n",
    "   Давайте подключим машинное обучение. Сформулируем задачу ранжирования: запросом будет пользователь. Документами будут организации. Наивным признаковым описанием будет, например, факт рекомендации данной организации или скор/ранг от моделей SVD, ALS, LightFM.\n",
    "   Примените catboost/xgboost/lightgbm для создания переранжирования рекомендаций. То есть сделаем двухуровневую модель. Выясните наиболее важные признаки моделей первого уровня."
   ]
  },
  {
   "cell_type": "code",
   "execution_count": 495,
   "metadata": {
    "ExecuteTime": {
     "end_time": "2022-08-07T13:20:42.255648Z",
     "start_time": "2022-08-07T13:20:42.249486Z"
    }
   },
   "outputs": [
    {
     "data": {
      "text/plain": [
       "<lightfm.lightfm.LightFM at 0x7f143ba19da0>"
      ]
     },
     "execution_count": 495,
     "metadata": {},
     "output_type": "execute_result"
    },
    {
     "data": {
      "application/javascript": [
       "\n",
       "            setTimeout(function() {\n",
       "                var nbb_cell_id = 495;\n",
       "                var nbb_unformatted_code = \"lightfm_model\";\n",
       "                var nbb_formatted_code = \"lightfm_model\";\n",
       "                var nbb_cells = Jupyter.notebook.get_cells();\n",
       "                for (var i = 0; i < nbb_cells.length; ++i) {\n",
       "                    if (nbb_cells[i].input_prompt_number == nbb_cell_id) {\n",
       "                        if (nbb_cells[i].get_text() == nbb_unformatted_code) {\n",
       "                             nbb_cells[i].set_text(nbb_formatted_code);\n",
       "                        }\n",
       "                        break;\n",
       "                    }\n",
       "                }\n",
       "            }, 500);\n",
       "            "
      ],
      "text/plain": [
       "<IPython.core.display.Javascript object>"
      ]
     },
     "metadata": {},
     "output_type": "display_data"
    }
   ],
   "source": [
    "lightfm_model.predict()"
   ]
  },
  {
   "cell_type": "code",
   "execution_count": null,
   "metadata": {},
   "outputs": [],
   "source": [
    "list(assessor.assessments.keys())"
   ]
  },
  {
   "cell_type": "code",
   "execution_count": null,
   "metadata": {},
   "outputs": [],
   "source": []
  }
 ],
 "metadata": {
  "kernelspec": {
   "display_name": "Python 3.6",
   "language": "python",
   "name": "3_6"
  },
  "language_info": {
   "codemirror_mode": {
    "name": "ipython",
    "version": 3
   },
   "file_extension": ".py",
   "mimetype": "text/x-python",
   "name": "python",
   "nbconvert_exporter": "python",
   "pygments_lexer": "ipython3",
   "version": "3.6.9"
  }
 },
 "nbformat": 4,
 "nbformat_minor": 2
}
