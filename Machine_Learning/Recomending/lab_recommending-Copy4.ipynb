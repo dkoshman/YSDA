{
 "cells": [
  {
   "cell_type": "markdown",
   "metadata": {},
   "source": [
    "# Лабораторная работа 4. Часть 2. Рекомендательные системы.\n",
    "\n",
    "\n",
    "\n",
    "Результат лабораторной работы − отчет. Мы предпочитаем принимать отчеты в формате ноутбуков IPython (ipynb-файл). Постарайтесь сделать ваш отчет интересным рассказом, последовательно отвечающим на вопросы из заданий. Помимо ответов на вопросы, в отчете так же должен быть код, однако чем меньше кода, тем лучше всем: нам − меньше проверять, вам — проще найти ошибку или дополнить эксперимент. При проверке оценивается четкость ответов на вопросы, аккуратность отчета и кода.\n",
    "\n",
    "\n",
    "### Оценивание и штрафы\n",
    "Каждая из задач имеет определенную «стоимость» (указана в скобках около задачи). Максимально допустимая оценка за работу — 8 баллов. Сдавать задание после указанного в lk срока сдачи нельзя. «Похожие» решения считаются плагиатом и все задействованные студенты (в том числе те, у кого списали) не могут получить за него больше 0 баллов и понижают карму (подробнее о плагиате см. на странице курса). Если вы нашли решение какого-то из заданий в открытом источнике, необходимо прислать ссылку на этот источник (скорее всего вы будете не единственным, кто это нашел, поэтому чтобы исключить подозрение в плагиате, нам необходима ссылка на источник).\n",
    "\n"
   ]
  },
  {
   "cell_type": "markdown",
   "metadata": {},
   "source": [
    "## Знакомство с данными\n",
    "\n",
    "### Рекомендация организаций, которые получат высокий отзыв от пользователя, когда он гостит в чужом для себя городе\n",
    "\n",
    "Эта лабораторная работа про задачу из соревнования\n",
    "\n",
    "https://contest.yandex.ru/contest/36927/problems/\n"
   ]
  },
  {
   "cell_type": "markdown",
   "metadata": {},
   "source": [
    "**(1 балла) Задание 1.** Знакомство с данными.\n",
    "\n",
    "В первую очередь нам понадобятся данные по __пользователям__ (в терминах recsys -- users), __организациям__ (в терминах recsys -- items) и сами __отзывы__ (в терминах recsys -- ratings или explicit feedback). \n",
    "\n",
    "На основании этих данных можно будет проводить базовый анализ методами колаборативной фильтрации.\n",
    "\n",
    "  * Опишите, насколько активно пользователи оставляют отзывы, насколько активно организации получают отзывы.\n",
    "  * Предложите стратегии фильтрации данных.\n",
    "  \n",
    "\n",
    "\n",
    "Во вторую очередь нас будут интересовать атрибуты организаций: aspects, features, rubrics.\n",
    "Проанализируйте эти таблицы. Какие признаки для описания организаций и пользователей из них можно извлечь?\n"
   ]
  },
  {
   "cell_type": "code",
   "execution_count": 4,
   "metadata": {
    "ExecuteTime": {
     "end_time": "2022-08-09T06:05:58.676393Z",
     "start_time": "2022-08-09T06:05:57.982067Z"
    }
   },
   "outputs": [
    {
     "data": {
      "application/javascript": [
       "\n",
       "            setTimeout(function() {\n",
       "                var nbb_cell_id = 4;\n",
       "                var nbb_unformatted_code = \"%load_ext nb_black\\n\\nimport abc\\nimport glob\\nimport matplotlib.pyplot as plt\\nimport numpy as np\\nimport os\\nimport pandas as pd\\n\\nfrom functools import partial, reduce\";\n",
       "                var nbb_formatted_code = \"%load_ext nb_black\\n\\nimport abc\\nimport glob\\nimport matplotlib.pyplot as plt\\nimport numpy as np\\nimport os\\nimport pandas as pd\\n\\nfrom functools import partial, reduce\";\n",
       "                var nbb_cells = Jupyter.notebook.get_cells();\n",
       "                for (var i = 0; i < nbb_cells.length; ++i) {\n",
       "                    if (nbb_cells[i].input_prompt_number == nbb_cell_id) {\n",
       "                        if (nbb_cells[i].get_text() == nbb_unformatted_code) {\n",
       "                             nbb_cells[i].set_text(nbb_formatted_code);\n",
       "                        }\n",
       "                        break;\n",
       "                    }\n",
       "                }\n",
       "            }, 500);\n",
       "            "
      ],
      "text/plain": [
       "<IPython.core.display.Javascript object>"
      ]
     },
     "metadata": {},
     "output_type": "display_data"
    }
   ],
   "source": [
    "%load_ext nb_black\n",
    "\n",
    "import abc\n",
    "import glob\n",
    "import matplotlib.pyplot as plt\n",
    "import numpy as np\n",
    "import os\n",
    "import pandas as pd\n",
    "\n",
    "from functools import partial, reduce"
   ]
  },
  {
   "cell_type": "code",
   "execution_count": 5,
   "metadata": {
    "ExecuteTime": {
     "end_time": "2022-08-09T06:05:59.329076Z",
     "start_time": "2022-08-09T06:05:59.314277Z"
    }
   },
   "outputs": [
    {
     "data": {
      "application/javascript": [
       "\n",
       "            setTimeout(function() {\n",
       "                var nbb_cell_id = 5;\n",
       "                var nbb_unformatted_code = \"def read_ints(line):\\n    return list(map(int, line.split()))\\n\\n\\ndef read_data(\\n    path=\\\"data/*.csv\\\",\\n    converters={\\\"rubrics_id\\\": read_ints, \\\"features_id\\\": read_ints},\\n    index_col=0,\\n):\\n    data = {}\\n    for csv_filename in glob.glob(path):\\n        basename, extension = os.path.splitext(os.path.basename(csv_filename))\\n        data[basename] = pd.read_csv(\\n            csv_filename,\\n            converters=converters,\\n            index_col=index_col,\\n        )\\n    return data\";\n",
       "                var nbb_formatted_code = \"def read_ints(line):\\n    return list(map(int, line.split()))\\n\\n\\ndef read_data(\\n    path=\\\"data/*.csv\\\",\\n    converters={\\\"rubrics_id\\\": read_ints, \\\"features_id\\\": read_ints},\\n    index_col=0,\\n):\\n    data = {}\\n    for csv_filename in glob.glob(path):\\n        basename, extension = os.path.splitext(os.path.basename(csv_filename))\\n        data[basename] = pd.read_csv(\\n            csv_filename,\\n            converters=converters,\\n            index_col=index_col,\\n        )\\n    return data\";\n",
       "                var nbb_cells = Jupyter.notebook.get_cells();\n",
       "                for (var i = 0; i < nbb_cells.length; ++i) {\n",
       "                    if (nbb_cells[i].input_prompt_number == nbb_cell_id) {\n",
       "                        if (nbb_cells[i].get_text() == nbb_unformatted_code) {\n",
       "                             nbb_cells[i].set_text(nbb_formatted_code);\n",
       "                        }\n",
       "                        break;\n",
       "                    }\n",
       "                }\n",
       "            }, 500);\n",
       "            "
      ],
      "text/plain": [
       "<IPython.core.display.Javascript object>"
      ]
     },
     "metadata": {},
     "output_type": "display_data"
    }
   ],
   "source": [
    "def read_ints(line):\n",
    "    return list(map(int, line.split()))\n",
    "\n",
    "\n",
    "def read_data(\n",
    "    path=\"data/*.csv\",\n",
    "    converters={\"rubrics_id\": read_ints, \"features_id\": read_ints},\n",
    "    index_col=0,\n",
    "):\n",
    "    data = {}\n",
    "    for csv_filename in glob.glob(path):\n",
    "        basename, extension = os.path.splitext(os.path.basename(csv_filename))\n",
    "        data[basename] = pd.read_csv(\n",
    "            csv_filename,\n",
    "            converters=converters,\n",
    "            index_col=index_col,\n",
    "        )\n",
    "    return data"
   ]
  },
  {
   "cell_type": "code",
   "execution_count": 6,
   "metadata": {
    "ExecuteTime": {
     "end_time": "2022-08-09T06:06:02.515976Z",
     "start_time": "2022-08-09T06:06:00.064950Z"
    }
   },
   "outputs": [
    {
     "name": "stderr",
     "output_type": "stream",
     "text": [
      "/external2/dkkoshman/venv/lib/python3.6/site-packages/numpy/lib/arraysetops.py:580: FutureWarning: elementwise comparison failed; returning scalar instead, but in the future will perform elementwise comparison\n",
      "  mask |= (ar1 == a)\n",
      "/external2/dkkoshman/venv/lib/python3.6/site-packages/IPython/core/interactiveshell.py:3263: DtypeWarning: Columns (4) have mixed types.Specify dtype option on import or set low_memory=False.\n",
      "  if (await self.run_code(code, result,  async_=asy)):\n"
     ]
    },
    {
     "data": {
      "application/javascript": [
       "\n",
       "            setTimeout(function() {\n",
       "                var nbb_cell_id = 6;\n",
       "                var nbb_unformatted_code = \"data = read_data()\\nusers = data[\\\"users\\\"]\\norganisations = data[\\\"organisations\\\"]\\nreviews = data[\\\"reviews\\\"].reset_index()\";\n",
       "                var nbb_formatted_code = \"data = read_data()\\nusers = data[\\\"users\\\"]\\norganisations = data[\\\"organisations\\\"]\\nreviews = data[\\\"reviews\\\"].reset_index()\";\n",
       "                var nbb_cells = Jupyter.notebook.get_cells();\n",
       "                for (var i = 0; i < nbb_cells.length; ++i) {\n",
       "                    if (nbb_cells[i].input_prompt_number == nbb_cell_id) {\n",
       "                        if (nbb_cells[i].get_text() == nbb_unformatted_code) {\n",
       "                             nbb_cells[i].set_text(nbb_formatted_code);\n",
       "                        }\n",
       "                        break;\n",
       "                    }\n",
       "                }\n",
       "            }, 500);\n",
       "            "
      ],
      "text/plain": [
       "<IPython.core.display.Javascript object>"
      ]
     },
     "metadata": {},
     "output_type": "display_data"
    }
   ],
   "source": [
    "data = read_data()\n",
    "users = data[\"users\"]\n",
    "organisations = data[\"organisations\"]\n",
    "reviews = data[\"reviews\"].reset_index()"
   ]
  },
  {
   "cell_type": "markdown",
   "metadata": {},
   "source": [
    "* Опишите, насколько активно пользователи оставляют отзывы, насколько активно организации получают отзывы."
   ]
  },
  {
   "cell_type": "code",
   "execution_count": 7,
   "metadata": {
    "ExecuteTime": {
     "end_time": "2022-08-09T06:06:02.539710Z",
     "start_time": "2022-08-09T06:06:02.518349Z"
    }
   },
   "outputs": [
    {
     "data": {
      "application/javascript": [
       "\n",
       "            setTimeout(function() {\n",
       "                var nbb_cell_id = 7;\n",
       "                var nbb_unformatted_code = \"def describe_review_counts(\\n    df,\\n    reviews,\\n    axis,\\n    title,\\n    quantiles=(0, 0.25, 0.5, 0.75, 0.90, 0.95, 0.99, 0.999, 0.9999, 1),\\n    quantiles_to_plot=(0.5, 0.99, 0.999, 0.9999),\\n    plt_kwargs=None,\\n    cmap=\\\"hsv\\\",\\n):\\n    reviews_count = reviews.groupby(df.index.name).size().reindex(df.index)\\n    reviews_count.plot(ax=axis, title=title, **(plt_kwargs or {}))\\n    axis.set_xlabel(plt_kwargs.get(\\\"xlabel\\\"))\\n    axis.set_ylabel(plt_kwargs.get(\\\"ylabel\\\"))\\n\\n    for i, q in enumerate(quantiles_to_plot, start=1):\\n        quantile = reviews_count.quantile(q=q)\\n        axis.axvline(quantile, ls=\\\"--\\\", c=plt.get_cmap(name=cmap)(q))\\n        axis.text(quantile, axis.get_ylim()[1] / 2**i, f\\\"{100*q}%\\\", ha=\\\"left\\\")\\n\\n    return reviews_count.agg(\\n        {\\n            \\\"mean\\\": pd.Series.mean,\\n            \\\"std\\\": pd.Series.std,\\n            **{f\\\"{100*q}%\\\": partial(pd.Series.quantile, q=q) for q in quantiles},\\n        }\\n    )\\n\\n\\ndef show_review_counts(users, organisations, reviews):\\n    fig, axes = plt.subplots(ncols=2, figsize=(16, 6))\\n    plt_kwargs = dict(\\n        kind=\\\"hist\\\",\\n        log=True,\\n        histtype=\\\"stepfilled\\\",\\n        bins=100,\\n        edgecolor=\\\"black\\\",\\n        facecolor=\\\"gray\\\",\\n        alpha=0.5,\\n        xlabel=\\\"Reviews count\\\",\\n        ylabel=\\\"Frequency (log scale)\\\",\\n    )\\n    return pd.DataFrame(\\n        {\\n            title: describe_review_counts(\\n                df,\\n                reviews,\\n                axis,\\n                title=title,\\n                plt_kwargs=plt_kwargs,\\n            )\\n            for df, axis, title in zip(\\n                [users, organisations],\\n                axes,\\n                [\\\"Users reviews written\\\", \\\"Organisations reviews received\\\"],\\n            )\\n        }\\n    ).T\";\n",
       "                var nbb_formatted_code = \"def describe_review_counts(\\n    df,\\n    reviews,\\n    axis,\\n    title,\\n    quantiles=(0, 0.25, 0.5, 0.75, 0.90, 0.95, 0.99, 0.999, 0.9999, 1),\\n    quantiles_to_plot=(0.5, 0.99, 0.999, 0.9999),\\n    plt_kwargs=None,\\n    cmap=\\\"hsv\\\",\\n):\\n    reviews_count = reviews.groupby(df.index.name).size().reindex(df.index)\\n    reviews_count.plot(ax=axis, title=title, **(plt_kwargs or {}))\\n    axis.set_xlabel(plt_kwargs.get(\\\"xlabel\\\"))\\n    axis.set_ylabel(plt_kwargs.get(\\\"ylabel\\\"))\\n\\n    for i, q in enumerate(quantiles_to_plot, start=1):\\n        quantile = reviews_count.quantile(q=q)\\n        axis.axvline(quantile, ls=\\\"--\\\", c=plt.get_cmap(name=cmap)(q))\\n        axis.text(quantile, axis.get_ylim()[1] / 2**i, f\\\"{100*q}%\\\", ha=\\\"left\\\")\\n\\n    return reviews_count.agg(\\n        {\\n            \\\"mean\\\": pd.Series.mean,\\n            \\\"std\\\": pd.Series.std,\\n            **{f\\\"{100*q}%\\\": partial(pd.Series.quantile, q=q) for q in quantiles},\\n        }\\n    )\\n\\n\\ndef show_review_counts(users, organisations, reviews):\\n    fig, axes = plt.subplots(ncols=2, figsize=(16, 6))\\n    plt_kwargs = dict(\\n        kind=\\\"hist\\\",\\n        log=True,\\n        histtype=\\\"stepfilled\\\",\\n        bins=100,\\n        edgecolor=\\\"black\\\",\\n        facecolor=\\\"gray\\\",\\n        alpha=0.5,\\n        xlabel=\\\"Reviews count\\\",\\n        ylabel=\\\"Frequency (log scale)\\\",\\n    )\\n    return pd.DataFrame(\\n        {\\n            title: describe_review_counts(\\n                df,\\n                reviews,\\n                axis,\\n                title=title,\\n                plt_kwargs=plt_kwargs,\\n            )\\n            for df, axis, title in zip(\\n                [users, organisations],\\n                axes,\\n                [\\\"Users reviews written\\\", \\\"Organisations reviews received\\\"],\\n            )\\n        }\\n    ).T\";\n",
       "                var nbb_cells = Jupyter.notebook.get_cells();\n",
       "                for (var i = 0; i < nbb_cells.length; ++i) {\n",
       "                    if (nbb_cells[i].input_prompt_number == nbb_cell_id) {\n",
       "                        if (nbb_cells[i].get_text() == nbb_unformatted_code) {\n",
       "                             nbb_cells[i].set_text(nbb_formatted_code);\n",
       "                        }\n",
       "                        break;\n",
       "                    }\n",
       "                }\n",
       "            }, 500);\n",
       "            "
      ],
      "text/plain": [
       "<IPython.core.display.Javascript object>"
      ]
     },
     "metadata": {},
     "output_type": "display_data"
    }
   ],
   "source": [
    "def describe_review_counts(\n",
    "    df,\n",
    "    reviews,\n",
    "    axis,\n",
    "    title,\n",
    "    quantiles=(0, 0.25, 0.5, 0.75, 0.90, 0.95, 0.99, 0.999, 0.9999, 1),\n",
    "    quantiles_to_plot=(0.5, 0.99, 0.999, 0.9999),\n",
    "    plt_kwargs=None,\n",
    "    cmap=\"hsv\",\n",
    "):\n",
    "    reviews_count = reviews.groupby(df.index.name).size().reindex(df.index)\n",
    "    reviews_count.plot(ax=axis, title=title, **(plt_kwargs or {}))\n",
    "    axis.set_xlabel(plt_kwargs.get(\"xlabel\"))\n",
    "    axis.set_ylabel(plt_kwargs.get(\"ylabel\"))\n",
    "\n",
    "    for i, q in enumerate(quantiles_to_plot, start=1):\n",
    "        quantile = reviews_count.quantile(q=q)\n",
    "        axis.axvline(quantile, ls=\"--\", c=plt.get_cmap(name=cmap)(q))\n",
    "        axis.text(quantile, axis.get_ylim()[1] / 2**i, f\"{100*q}%\", ha=\"left\")\n",
    "\n",
    "    return reviews_count.agg(\n",
    "        {\n",
    "            \"mean\": pd.Series.mean,\n",
    "            \"std\": pd.Series.std,\n",
    "            **{f\"{100*q}%\": partial(pd.Series.quantile, q=q) for q in quantiles},\n",
    "        }\n",
    "    )\n",
    "\n",
    "\n",
    "def show_review_counts(users, organisations, reviews):\n",
    "    fig, axes = plt.subplots(ncols=2, figsize=(16, 6))\n",
    "    plt_kwargs = dict(\n",
    "        kind=\"hist\",\n",
    "        log=True,\n",
    "        histtype=\"stepfilled\",\n",
    "        bins=100,\n",
    "        edgecolor=\"black\",\n",
    "        facecolor=\"gray\",\n",
    "        alpha=0.5,\n",
    "        xlabel=\"Reviews count\",\n",
    "        ylabel=\"Frequency (log scale)\",\n",
    "    )\n",
    "    return pd.DataFrame(\n",
    "        {\n",
    "            title: describe_review_counts(\n",
    "                df,\n",
    "                reviews,\n",
    "                axis,\n",
    "                title=title,\n",
    "                plt_kwargs=plt_kwargs,\n",
    "            )\n",
    "            for df, axis, title in zip(\n",
    "                [users, organisations],\n",
    "                axes,\n",
    "                [\"Users reviews written\", \"Organisations reviews received\"],\n",
    "            )\n",
    "        }\n",
    "    ).T"
   ]
  },
  {
   "cell_type": "code",
   "execution_count": 8,
   "metadata": {
    "ExecuteTime": {
     "end_time": "2022-08-09T06:06:04.794372Z",
     "start_time": "2022-08-09T06:06:02.541462Z"
    }
   },
   "outputs": [
    {
     "data": {
      "text/html": [
       "<div>\n",
       "<style scoped>\n",
       "    .dataframe tbody tr th:only-of-type {\n",
       "        vertical-align: middle;\n",
       "    }\n",
       "\n",
       "    .dataframe tbody tr th {\n",
       "        vertical-align: top;\n",
       "    }\n",
       "\n",
       "    .dataframe thead th {\n",
       "        text-align: right;\n",
       "    }\n",
       "</style>\n",
       "<table border=\"1\" class=\"dataframe\">\n",
       "  <thead>\n",
       "    <tr style=\"text-align: right;\">\n",
       "      <th></th>\n",
       "      <th>mean</th>\n",
       "      <th>std</th>\n",
       "      <th>0%</th>\n",
       "      <th>25.0%</th>\n",
       "      <th>50.0%</th>\n",
       "      <th>75.0%</th>\n",
       "      <th>90.0%</th>\n",
       "      <th>95.0%</th>\n",
       "      <th>99.0%</th>\n",
       "      <th>99.9%</th>\n",
       "      <th>99.99%</th>\n",
       "      <th>100%</th>\n",
       "    </tr>\n",
       "  </thead>\n",
       "  <tbody>\n",
       "    <tr>\n",
       "      <th>Users reviews written</th>\n",
       "      <td>2.964589</td>\n",
       "      <td>4.854616</td>\n",
       "      <td>1.0</td>\n",
       "      <td>1.0</td>\n",
       "      <td>1.0</td>\n",
       "      <td>3.0</td>\n",
       "      <td>6.0</td>\n",
       "      <td>10.0</td>\n",
       "      <td>22.0</td>\n",
       "      <td>54.000</td>\n",
       "      <td>117.0000</td>\n",
       "      <td>611.0</td>\n",
       "    </tr>\n",
       "    <tr>\n",
       "      <th>Organisations reviews received</th>\n",
       "      <td>60.429564</td>\n",
       "      <td>436.475347</td>\n",
       "      <td>1.0</td>\n",
       "      <td>2.0</td>\n",
       "      <td>8.0</td>\n",
       "      <td>32.0</td>\n",
       "      <td>125.0</td>\n",
       "      <td>246.0</td>\n",
       "      <td>785.0</td>\n",
       "      <td>3021.324</td>\n",
       "      <td>15019.8882</td>\n",
       "      <td>61520.0</td>\n",
       "    </tr>\n",
       "  </tbody>\n",
       "</table>\n",
       "</div>"
      ],
      "text/plain": [
       "                                     mean         std   0%  25.0%  50.0%  \\\n",
       "Users reviews written            2.964589    4.854616  1.0    1.0    1.0   \n",
       "Organisations reviews received  60.429564  436.475347  1.0    2.0    8.0   \n",
       "\n",
       "                                75.0%  90.0%  95.0%  99.0%     99.9%  \\\n",
       "Users reviews written             3.0    6.0   10.0   22.0    54.000   \n",
       "Organisations reviews received   32.0  125.0  246.0  785.0  3021.324   \n",
       "\n",
       "                                    99.99%     100%  \n",
       "Users reviews written             117.0000    611.0  \n",
       "Organisations reviews received  15019.8882  61520.0  "
      ]
     },
     "execution_count": 8,
     "metadata": {},
     "output_type": "execute_result"
    },
    {
     "data": {
      "image/png": "[encoded data removed]",
      "text/plain": [
       "<Figure size 1152x432 with 2 Axes>"
      ]
     },
     "metadata": {
      "needs_background": "light"
     },
     "output_type": "display_data"
    },
    {
     "data": {
      "application/javascript": [
       "\n",
       "            setTimeout(function() {\n",
       "                var nbb_cell_id = 8;\n",
       "                var nbb_unformatted_code = \"show_review_counts(users, organisations, reviews)\";\n",
       "                var nbb_formatted_code = \"show_review_counts(users, organisations, reviews)\";\n",
       "                var nbb_cells = Jupyter.notebook.get_cells();\n",
       "                for (var i = 0; i < nbb_cells.length; ++i) {\n",
       "                    if (nbb_cells[i].input_prompt_number == nbb_cell_id) {\n",
       "                        if (nbb_cells[i].get_text() == nbb_unformatted_code) {\n",
       "                             nbb_cells[i].set_text(nbb_formatted_code);\n",
       "                        }\n",
       "                        break;\n",
       "                    }\n",
       "                }\n",
       "            }, 500);\n",
       "            "
      ],
      "text/plain": [
       "<IPython.core.display.Javascript object>"
      ]
     },
     "metadata": {},
     "output_type": "display_data"
    }
   ],
   "source": [
    "show_review_counts(users, organisations, reviews)"
   ]
  },
  {
   "cell_type": "markdown",
   "metadata": {
    "ExecuteTime": {
     "end_time": "2022-07-31T11:31:58.640951Z",
     "start_time": "2022-07-31T11:31:58.634365Z"
    }
   },
   "source": [
    "* Предложите стратегии фильтрации данных."
   ]
  },
  {
   "cell_type": "markdown",
   "metadata": {},
   "source": [
    "Отбросить организации, у которых мало оценок и все они негативные. Это наименее полезные для нас организации, поскольку они одновременно не дают много информации о взаимных интересах пользователей, и не пригодятся для конечных рекомендаций.\n",
    "\n",
    "Реализация этой стратегии может выглядеть так: мы сортируем организации по значению функции полезности\n",
    "\n",
    "$$f(\\text{organisation}) = (\\text{rating count})(1 + \\text{rating std})^\\alpha (\\text{mean rating})^\\beta$$\n",
    "\n",
    "И отсекаем $\\gamma$ первых организаций, где $\\alpha, \\beta$ и $\\gamma$ подбираются по нашим предпочтениям."
   ]
  },
  {
   "cell_type": "markdown",
   "metadata": {
    "ExecuteTime": {
     "end_time": "2022-07-31T12:52:14.901038Z",
     "start_time": "2022-07-31T12:52:14.887694Z"
    }
   },
   "source": [
    "* Во вторую очередь нас будут интересовать атрибуты организаций: aspects, features, rubrics. Проанализируйте эти таблицы. Какие признаки для описания организаций и пользователей из них можно извлечь?"
   ]
  },
  {
   "cell_type": "markdown",
   "metadata": {},
   "source": [
    "Эти таблицы содержат текстовые описания, так что можно взять их эмбединги или обучить латентные векторные представления, либо кластеризовать и взять метки кластеров, и использовать все это в качестве дополнительных признаков."
   ]
  },
  {
   "cell_type": "markdown",
   "metadata": {},
   "source": [
    "---\n",
    "\n",
    "**(1 балла) Задание 2.** Организация валидации.\n",
    "\n",
    "Как вы помните, обучающее множество собрано за X = 1277 дней, тестовое множество – за последующие Y = 107 дней.\n",
    "\n",
    "Следовательно нам необходимо организовать у себя валидацию схожим образом.\n",
    "Раз мы будем еще и осуществлять выбор моделей, то следует произвести расщепление по времени на 3 группы train validation и holdout.\n",
    "\n",
    "Как уже говорилось на семинаре, для повышения качества локальной валидации, можно сделать скользящую валидацию. В самой лабораторной работе мы так делать не будем, но для конкурса имейте это в виду.\n"
   ]
  },
  {
   "cell_type": "code",
   "execution_count": 9,
   "metadata": {
    "ExecuteTime": {
     "end_time": "2022-08-09T06:06:16.503290Z",
     "start_time": "2022-08-09T06:06:16.486333Z"
    }
   },
   "outputs": [
    {
     "data": {
      "application/javascript": [
       "\n",
       "            setTimeout(function() {\n",
       "                var nbb_cell_id = 9;\n",
       "                var nbb_unformatted_code = \"def split_by_column(df, sizes, column_name, df_fraction=1):\\n    cumulative_sizes = np.cumsum([0] + sizes)\\n    total_size = int(len(df) * df_fraction)\\n    split_edges = [int(s * total_size) for s in cumulative_sizes]\\n    index = np.random.permutation(len(df))\\n    sorted_df = df.sort_values(column_name)\\n    splits = [sorted_df.iloc[index[b:e]] for b, e in zip(split_edges, split_edges[1:])]\\n    return splits\";\n",
       "                var nbb_formatted_code = \"def split_by_column(df, sizes, column_name, df_fraction=1):\\n    cumulative_sizes = np.cumsum([0] + sizes)\\n    total_size = int(len(df) * df_fraction)\\n    split_edges = [int(s * total_size) for s in cumulative_sizes]\\n    index = np.random.permutation(len(df))\\n    sorted_df = df.sort_values(column_name)\\n    splits = [sorted_df.iloc[index[b:e]] for b, e in zip(split_edges, split_edges[1:])]\\n    return splits\";\n",
       "                var nbb_cells = Jupyter.notebook.get_cells();\n",
       "                for (var i = 0; i < nbb_cells.length; ++i) {\n",
       "                    if (nbb_cells[i].input_prompt_number == nbb_cell_id) {\n",
       "                        if (nbb_cells[i].get_text() == nbb_unformatted_code) {\n",
       "                             nbb_cells[i].set_text(nbb_formatted_code);\n",
       "                        }\n",
       "                        break;\n",
       "                    }\n",
       "                }\n",
       "            }, 500);\n",
       "            "
      ],
      "text/plain": [
       "<IPython.core.display.Javascript object>"
      ]
     },
     "metadata": {},
     "output_type": "display_data"
    }
   ],
   "source": [
    "def split_by_column(df, sizes, column_name, df_fraction=1):\n",
    "    cumulative_sizes = np.cumsum([0] + sizes)\n",
    "    total_size = int(len(df) * df_fraction)\n",
    "    split_edges = [int(s * total_size) for s in cumulative_sizes]\n",
    "    index = np.random.permutation(len(df))\n",
    "    sorted_df = df.sort_values(column_name)\n",
    "    splits = [sorted_df.iloc[index[b:e]] for b, e in zip(split_edges, split_edges[1:])]\n",
    "    return splits"
   ]
  },
  {
   "cell_type": "code",
   "execution_count": 10,
   "metadata": {
    "ExecuteTime": {
     "end_time": "2022-08-09T06:06:18.733048Z",
     "start_time": "2022-08-09T06:06:17.519136Z"
    }
   },
   "outputs": [
    {
     "data": {
      "application/javascript": [
       "\n",
       "            setTimeout(function() {\n",
       "                var nbb_cell_id = 10;\n",
       "                var nbb_unformatted_code = \"train_reviews, validation_reviews, holdout_reviews = split_by_column(\\n    reviews, sizes=[0.7, 0.15, 0.15], column_name=\\\"ts\\\", df_fraction=1 / 100\\n)\";\n",
       "                var nbb_formatted_code = \"train_reviews, validation_reviews, holdout_reviews = split_by_column(\\n    reviews, sizes=[0.7, 0.15, 0.15], column_name=\\\"ts\\\", df_fraction=1 / 100\\n)\";\n",
       "                var nbb_cells = Jupyter.notebook.get_cells();\n",
       "                for (var i = 0; i < nbb_cells.length; ++i) {\n",
       "                    if (nbb_cells[i].input_prompt_number == nbb_cell_id) {\n",
       "                        if (nbb_cells[i].get_text() == nbb_unformatted_code) {\n",
       "                             nbb_cells[i].set_text(nbb_formatted_code);\n",
       "                        }\n",
       "                        break;\n",
       "                    }\n",
       "                }\n",
       "            }, 500);\n",
       "            "
      ],
      "text/plain": [
       "<IPython.core.display.Javascript object>"
      ]
     },
     "metadata": {},
     "output_type": "display_data"
    }
   ],
   "source": [
    "train_reviews, validation_reviews, holdout_reviews = split_by_column(\n",
    "    reviews, sizes=[0.7, 0.15, 0.15], column_name=\"ts\", df_fraction=1 / 100\n",
    ")"
   ]
  },
  {
   "cell_type": "markdown",
   "metadata": {},
   "source": [
    "**(0.5 балла) Задание 3.** Базовые решения.\n",
    "\n",
    "Сделаем базовые решения:\n",
    "  * Для каждого пользователя выдаём 20 случайных организаций\n",
    "  * Для каждого пользователя выдаём самые популярные организации в неродном городе"
   ]
  },
  {
   "cell_type": "code",
   "execution_count": 13,
   "metadata": {
    "ExecuteTime": {
     "end_time": "2022-08-09T06:06:53.408590Z",
     "start_time": "2022-08-09T06:06:53.377881Z"
    }
   },
   "outputs": [
    {
     "data": {
      "application/javascript": [
       "\n",
       "            setTimeout(function() {\n",
       "                var nbb_cell_id = 13;\n",
       "                var nbb_unformatted_code = \"class BaseRecommender(abc.ABC):\\n    @abc.abstractmethod\\n    def fit(self, reviews):\\n        return self\\n\\n    @abc.abstractmethod\\n    def recommend(self, user_ids, recommend_size=20):\\n        return recommendations\\n\\n\\nclass RandomRecommender(BaseRecommender):\\n    def __init__(self, users, organisations):\\n        self.users = users\\n        self.organisations = organisations\\n\\n    def fit(self, reviews):\\n        return self\\n\\n    def recommend(self, user_ids, recommend_size=20):\\n        recommendations = np.random.choice(\\n            self.organisations.index, size=(len(user_ids), recommend_size)\\n        )\\n        return pd.DataFrame(recommendations, user_ids)\\n\\n\\nclass PopularRecommender(BaseRecommender):\\n    def __init__(self, users, organisations):\\n        self.users = users\\n        self.organisations = organisations\\n\\n    def fit(self, reviews):\\n        self.popular_foreign_organisations_for_home_city = {}\\n        organisations = self.organisations.join(\\n            reviews.groupby(\\\"org_id\\\").size().rename(\\\"popularity\\\")\\n        )\\n        for city in organisations[\\\"city\\\"].unique():\\n            self.popular_foreign_organisations_for_home_city[city] = (\\n                organisations.query(\\\"city != @city\\\")\\n                .sort_values(\\\"popularity\\\", ascending=False)\\n                .index.to_numpy()\\n            )\\n        return self\\n\\n    def recommend(self, user_ids, recommend_size=20):\\n        recommendations = np.stack(\\n            self.users.loc[user_ids][\\\"city\\\"]\\n            .map(\\n                lambda city: self.popular_foreign_organisations_for_home_city[city][\\n                    :recommend_size\\n                ]\\n            )\\n            .values\\n        )\\n        return pd.DataFrame(recommendations, user_ids)\";\n",
       "                var nbb_formatted_code = \"class BaseRecommender(abc.ABC):\\n    @abc.abstractmethod\\n    def fit(self, reviews):\\n        return self\\n\\n    @abc.abstractmethod\\n    def recommend(self, user_ids, recommend_size=20):\\n        return recommendations\\n\\n\\nclass RandomRecommender(BaseRecommender):\\n    def __init__(self, users, organisations):\\n        self.users = users\\n        self.organisations = organisations\\n\\n    def fit(self, reviews):\\n        return self\\n\\n    def recommend(self, user_ids, recommend_size=20):\\n        recommendations = np.random.choice(\\n            self.organisations.index, size=(len(user_ids), recommend_size)\\n        )\\n        return pd.DataFrame(recommendations, user_ids)\\n\\n\\nclass PopularRecommender(BaseRecommender):\\n    def __init__(self, users, organisations):\\n        self.users = users\\n        self.organisations = organisations\\n\\n    def fit(self, reviews):\\n        self.popular_foreign_organisations_for_home_city = {}\\n        organisations = self.organisations.join(\\n            reviews.groupby(\\\"org_id\\\").size().rename(\\\"popularity\\\")\\n        )\\n        for city in organisations[\\\"city\\\"].unique():\\n            self.popular_foreign_organisations_for_home_city[city] = (\\n                organisations.query(\\\"city != @city\\\")\\n                .sort_values(\\\"popularity\\\", ascending=False)\\n                .index.to_numpy()\\n            )\\n        return self\\n\\n    def recommend(self, user_ids, recommend_size=20):\\n        recommendations = np.stack(\\n            self.users.loc[user_ids][\\\"city\\\"]\\n            .map(\\n                lambda city: self.popular_foreign_organisations_for_home_city[city][\\n                    :recommend_size\\n                ]\\n            )\\n            .values\\n        )\\n        return pd.DataFrame(recommendations, user_ids)\";\n",
       "                var nbb_cells = Jupyter.notebook.get_cells();\n",
       "                for (var i = 0; i < nbb_cells.length; ++i) {\n",
       "                    if (nbb_cells[i].input_prompt_number == nbb_cell_id) {\n",
       "                        if (nbb_cells[i].get_text() == nbb_unformatted_code) {\n",
       "                             nbb_cells[i].set_text(nbb_formatted_code);\n",
       "                        }\n",
       "                        break;\n",
       "                    }\n",
       "                }\n",
       "            }, 500);\n",
       "            "
      ],
      "text/plain": [
       "<IPython.core.display.Javascript object>"
      ]
     },
     "metadata": {},
     "output_type": "display_data"
    }
   ],
   "source": [
    "class BaseRecommender(abc.ABC):\n",
    "    @abc.abstractmethod\n",
    "    def fit(self, reviews):\n",
    "        return self\n",
    "\n",
    "    @abc.abstractmethod\n",
    "    def recommend(self, user_ids, recommend_size=20):\n",
    "        return recommendations\n",
    "\n",
    "\n",
    "class RandomRecommender(BaseRecommender):\n",
    "    def __init__(self, users, organisations):\n",
    "        self.users = users\n",
    "        self.organisations = organisations\n",
    "\n",
    "    def fit(self, reviews):\n",
    "        return self\n",
    "\n",
    "    def recommend(self, user_ids, recommend_size=20):\n",
    "        recommendations = np.random.choice(\n",
    "            self.organisations.index, size=(len(user_ids), recommend_size)\n",
    "        )\n",
    "        return pd.DataFrame(recommendations, user_ids)\n",
    "\n",
    "\n",
    "class PopularRecommender(BaseRecommender):\n",
    "    def __init__(self, users, organisations):\n",
    "        self.users = users\n",
    "        self.organisations = organisations\n",
    "\n",
    "    def fit(self, reviews):\n",
    "        self.popular_foreign_organisations_for_home_city = {}\n",
    "        organisations = self.organisations.join(\n",
    "            reviews.groupby(\"org_id\").size().rename(\"popularity\")\n",
    "        )\n",
    "        for city in organisations[\"city\"].unique():\n",
    "            self.popular_foreign_organisations_for_home_city[city] = (\n",
    "                organisations.query(\"city != @city\")\n",
    "                .sort_values(\"popularity\", ascending=False)\n",
    "                .index.to_numpy()\n",
    "            )\n",
    "        return self\n",
    "\n",
    "    def recommend(self, user_ids, recommend_size=20):\n",
    "        recommendations = np.stack(\n",
    "            self.users.loc[user_ids][\"city\"]\n",
    "            .map(\n",
    "                lambda city: self.popular_foreign_organisations_for_home_city[city][\n",
    "                    :recommend_size\n",
    "                ]\n",
    "            )\n",
    "            .values\n",
    "        )\n",
    "        return pd.DataFrame(recommendations, user_ids)"
   ]
  },
  {
   "cell_type": "markdown",
   "metadata": {},
   "source": [
    "**(1.0 балла) Задание 4.** Метрики качества.\n",
    "\n",
    "Напомним, что у нас бинарная релевантнотсь на основе оценки вычисляется как предикат **оценка больше, чем 3**.\n",
    "\n",
    "Реализуйте набор метрик качества (можете оборачивать внешние паекты):\n",
    "\n",
    "    * MNAP@20 (как в описании соревнования)\n",
    "    * HitRate ( = 1, если среди рекомендаций есть хотя бы одна релевантная и 0 иначе)\n",
    "    * MRR@20 ( обратная позиция первой релевантной рекомендации из списка рекомендаций длины K. )\n",
    "    * Coverage (доля item-ов, учитываемых в рекомендациях)\n",
    "    * Surprisal(см. ниже) \n",
    "\n",
    "\n",
    "### Surprisal\n",
    "Посмотирм, насколько наши рекомендации хороши с точки зрения новизны для пользователя, в качестве новизны будем рассматривать \"непопулярность\" айтемов в рекомендациях.\n",
    "\n",
    "Будем рассматривать собственную информацию item-а как меру его новизны.\n",
    "\n",
    "$$selfInformation(i) = -\\log_2 \\frac{|u_i|}{|N|}$$, \n",
    "где \n",
    "$i$ - объект, $|N|$ - число взаимодействий в обучающей выборке,  $|u_i|$ - число пользователей, взаимодействовавших с объектом в обучающей выборке.\n",
    "\n",
    "После подсчета собственной информации усредним значения собственной информации в рекомендациях пользователя.\n",
    "\n",
    "Чтобы получить значения от 0 до 1, разделим значение метрики для пользователя на максимально возможно значение метрики равное $log_2 N$.\n",
    "\n",
    "$$Surprisal(u)@k = \\frac{1}{k \\cdot log_2 N} \\sum_{j = 1}^{k}selfInformation(i_{u,j})$$\n",
    "\n",
    "где $i_{u,j}$ это j-й объект, который мы порекомендововали пользователю.\n",
    "\n",
    "Получившаяся метрика похожа на энтропию Шеннона:\n",
    "$$H = - K \\sum_{i\\in R}{p_i log p_i}$$\n",
    "\n",
    "\n",
    "Результа усредним по пользователям.\n",
    "\n",
    "### Что нужно сделать\n",
    "    \n",
    "  * Создайте функцию, которая генерирует словарь с метриками, по предоставленному решению.\n",
    "\n",
    "  * Оцените baseline-решения на валидации."
   ]
  },
  {
   "cell_type": "code",
   "execution_count": 14,
   "metadata": {
    "ExecuteTime": {
     "end_time": "2022-08-09T06:06:54.406943Z",
     "start_time": "2022-08-09T06:06:54.347467Z"
    }
   },
   "outputs": [
    {
     "data": {
      "application/javascript": [
       "\n",
       "            setTimeout(function() {\n",
       "                var nbb_cell_id = 14;\n",
       "                var nbb_unformatted_code = \"class MetricsBase:\\n    def __init__(self, users, organisations, reviews, k=20):\\n        self.users = users\\n        self.organisations = organisations\\n        self.reviews = reviews\\n        self.k = k\\n        self.relevant_orgs_for_users = (\\n            reviews.query(\\\"rating >= 4\\\")\\n            .groupby(\\\"user_id\\\")[\\\"org_id\\\"]\\n            .apply(np.array)\\n            .rename(\\\"relevant_org_ids\\\")\\n        )\\n        self.recommendations = None\\n        self.relevance = None\\n\\n    def binary_relevance(self, recommendations):\\n        relevance = (\\n            pd.merge(\\n                recommendations.agg(np.array, axis=\\\"columns\\\").rename(\\n                    \\\"predicted_org_ids\\\"\\n                ),\\n                self.relevant_orgs_for_users,\\n                left_index=True,\\n                right_index=True,\\n                how=\\\"left\\\",\\n            )\\n            .aggregate(\\n                lambda row: np.isin(row[\\\"predicted_org_ids\\\"], row[\\\"relevant_org_ids\\\"]),\\n                axis=\\\"columns\\\",\\n            )\\n            .pipe(\\n                lambda series: pd.DataFrame(np.stack(series.values), index=series.index)\\n            )\\n        )\\n        return relevance\\n\\n    def precalculate_relevance(self, recommendations):\\n        self.recommendations = recommendations\\n        self.relevance = self.binary_relevance(recommendations.iloc[:, : self.k])\\n\\n    @staticmethod\\n    def wrap_metric(metric):\\n        \\\"\\\"\\\"Precalculate relevance if recommendations were passed.\\\"\\\"\\\"\\n\\n        def wrapper(self, recommendations=None, **kwargs):\\n            if recommendations is not None:\\n                self.precalculate_relevance(recommendations)\\n            elif self.recommendations is None:\\n                raise ValueError(\\n                    \\\"recommendations must be passed when first calculating a metric.\\\"\\n                )\\n            return metric(self, **kwargs)\\n\\n        return wrapper\\n\\n    def __init_subclass__(cls):\\n        \\\"\\\"\\\"Wrap all subclass attributes\\\"\\\"\\\"\\n        super().__init_subclass__()\\n        for child_attribute in cls.__dict__.keys() - MetricsBase.__dict__.keys():\\n            setattr(\\n                cls,\\n                child_attribute,\\n                MetricsBase.wrap_metric(object.__getattribute__(cls, child_attribute)),\\n            )\\n\\n\\nclass Metrics(MetricsBase):\\n    def precision(self):\\n        precision = self.relevance.astype(int).expanding(axis=\\\"columns\\\").mean()\\n        return precision\\n\\n    def ideal_precision(self):\\n        relevant_count = (\\n            self.reviews.query(\\\"user_id in @self.recommendations.index and rating >= 4\\\")\\n            .groupby(\\\"user_id\\\")\\n            .size()\\n            .reindex(self.relevance.index)\\n        )\\n\\n        def relevant_count_to_ideal_average_precision(count):\\n            k = np.arange(1, self.k + 1)\\n            ideal_relevant_count = np.minimum(k, count)\\n            return np.mean(ideal_relevant_count / k)\\n\\n        return relevant_count.map(relevant_count_to_ideal_average_precision)\\n\\n    def mnap(self):\\n        \\\"\\\"\\\"Returns mean normalized average precision\\\"\\\"\\\"\\n        average_precision = self.precision().mean(\\\"columns\\\")\\n        ideal_precision = self.ideal_precision()\\n        return np.nanmean(average_precision / ideal_precision)\\n\\n    def hitrate(self):\\n        return self.relevance.any(axis=\\\"columns\\\").mean()\\n\\n    def mrr(self):\\n        \\\"\\\"\\\"Returns mean reciprocal rank\\\"\\\"\\\"\\n        relevance = self.relevance.values\\n        return (\\n            (relevance * (1 / np.arange(1, relevance.shape[1] + 1))).max(axis=1).mean()\\n        )\\n\\n    def coverage(self):\\n        org_ids = set(self.organisations.index)\\n        recommended_org_ids = set(self.recommendations.values.flat)\\n        return len(recommended_org_ids & org_ids) / len(org_ids)\\n\\n    def surprisal(self):\\n        org_interactions = (\\n            self.reviews.groupby(\\\"org_id\\\")\\n            .size()\\n            .reindex(self.organisations.index)\\n            .replace(0, np.nan)\\n        )\\n        recommended_interactions = self.recommendations.applymap(\\n            lambda org_id: org_interactions[org_id] if org_id else np.nan\\n        )\\n        self_information = -np.log2(recommended_interactions) + np.log2(\\n            len(self.reviews)\\n        )\\n        return (self_information / np.log2(len(self.reviews))).mean().mean()\\n\\n    def calculate_metrics(self, name=None):\\n        results = pd.Series(dtype=float, name=name)\\n        for metric in [\\\"mnap\\\", \\\"hitrate\\\", \\\"mrr\\\", \\\"coverage\\\", \\\"surprisal\\\"]:\\n            results[metric] = getattr(self, metric)()\\n        return results\";\n",
       "                var nbb_formatted_code = \"class MetricsBase:\\n    def __init__(self, users, organisations, reviews, k=20):\\n        self.users = users\\n        self.organisations = organisations\\n        self.reviews = reviews\\n        self.k = k\\n        self.relevant_orgs_for_users = (\\n            reviews.query(\\\"rating >= 4\\\")\\n            .groupby(\\\"user_id\\\")[\\\"org_id\\\"]\\n            .apply(np.array)\\n            .rename(\\\"relevant_org_ids\\\")\\n        )\\n        self.recommendations = None\\n        self.relevance = None\\n\\n    def binary_relevance(self, recommendations):\\n        relevance = (\\n            pd.merge(\\n                recommendations.agg(np.array, axis=\\\"columns\\\").rename(\\n                    \\\"predicted_org_ids\\\"\\n                ),\\n                self.relevant_orgs_for_users,\\n                left_index=True,\\n                right_index=True,\\n                how=\\\"left\\\",\\n            )\\n            .aggregate(\\n                lambda row: np.isin(row[\\\"predicted_org_ids\\\"], row[\\\"relevant_org_ids\\\"]),\\n                axis=\\\"columns\\\",\\n            )\\n            .pipe(\\n                lambda series: pd.DataFrame(np.stack(series.values), index=series.index)\\n            )\\n        )\\n        return relevance\\n\\n    def precalculate_relevance(self, recommendations):\\n        self.recommendations = recommendations\\n        self.relevance = self.binary_relevance(recommendations.iloc[:, : self.k])\\n\\n    @staticmethod\\n    def wrap_metric(metric):\\n        \\\"\\\"\\\"Precalculate relevance if recommendations were passed.\\\"\\\"\\\"\\n\\n        def wrapper(self, recommendations=None, **kwargs):\\n            if recommendations is not None:\\n                self.precalculate_relevance(recommendations)\\n            elif self.recommendations is None:\\n                raise ValueError(\\n                    \\\"recommendations must be passed when first calculating a metric.\\\"\\n                )\\n            return metric(self, **kwargs)\\n\\n        return wrapper\\n\\n    def __init_subclass__(cls):\\n        \\\"\\\"\\\"Wrap all subclass attributes\\\"\\\"\\\"\\n        super().__init_subclass__()\\n        for child_attribute in cls.__dict__.keys() - MetricsBase.__dict__.keys():\\n            setattr(\\n                cls,\\n                child_attribute,\\n                MetricsBase.wrap_metric(object.__getattribute__(cls, child_attribute)),\\n            )\\n\\n\\nclass Metrics(MetricsBase):\\n    def precision(self):\\n        precision = self.relevance.astype(int).expanding(axis=\\\"columns\\\").mean()\\n        return precision\\n\\n    def ideal_precision(self):\\n        relevant_count = (\\n            self.reviews.query(\\\"user_id in @self.recommendations.index and rating >= 4\\\")\\n            .groupby(\\\"user_id\\\")\\n            .size()\\n            .reindex(self.relevance.index)\\n        )\\n\\n        def relevant_count_to_ideal_average_precision(count):\\n            k = np.arange(1, self.k + 1)\\n            ideal_relevant_count = np.minimum(k, count)\\n            return np.mean(ideal_relevant_count / k)\\n\\n        return relevant_count.map(relevant_count_to_ideal_average_precision)\\n\\n    def mnap(self):\\n        \\\"\\\"\\\"Returns mean normalized average precision\\\"\\\"\\\"\\n        average_precision = self.precision().mean(\\\"columns\\\")\\n        ideal_precision = self.ideal_precision()\\n        return np.nanmean(average_precision / ideal_precision)\\n\\n    def hitrate(self):\\n        return self.relevance.any(axis=\\\"columns\\\").mean()\\n\\n    def mrr(self):\\n        \\\"\\\"\\\"Returns mean reciprocal rank\\\"\\\"\\\"\\n        relevance = self.relevance.values\\n        return (\\n            (relevance * (1 / np.arange(1, relevance.shape[1] + 1))).max(axis=1).mean()\\n        )\\n\\n    def coverage(self):\\n        org_ids = set(self.organisations.index)\\n        recommended_org_ids = set(self.recommendations.values.flat)\\n        return len(recommended_org_ids & org_ids) / len(org_ids)\\n\\n    def surprisal(self):\\n        org_interactions = (\\n            self.reviews.groupby(\\\"org_id\\\")\\n            .size()\\n            .reindex(self.organisations.index)\\n            .replace(0, np.nan)\\n        )\\n        recommended_interactions = self.recommendations.applymap(\\n            lambda org_id: org_interactions[org_id] if org_id else np.nan\\n        )\\n        self_information = -np.log2(recommended_interactions) + np.log2(\\n            len(self.reviews)\\n        )\\n        return (self_information / np.log2(len(self.reviews))).mean().mean()\\n\\n    def calculate_metrics(self, name=None):\\n        results = pd.Series(dtype=float, name=name)\\n        for metric in [\\\"mnap\\\", \\\"hitrate\\\", \\\"mrr\\\", \\\"coverage\\\", \\\"surprisal\\\"]:\\n            results[metric] = getattr(self, metric)()\\n        return results\";\n",
       "                var nbb_cells = Jupyter.notebook.get_cells();\n",
       "                for (var i = 0; i < nbb_cells.length; ++i) {\n",
       "                    if (nbb_cells[i].input_prompt_number == nbb_cell_id) {\n",
       "                        if (nbb_cells[i].get_text() == nbb_unformatted_code) {\n",
       "                             nbb_cells[i].set_text(nbb_formatted_code);\n",
       "                        }\n",
       "                        break;\n",
       "                    }\n",
       "                }\n",
       "            }, 500);\n",
       "            "
      ],
      "text/plain": [
       "<IPython.core.display.Javascript object>"
      ]
     },
     "metadata": {},
     "output_type": "display_data"
    }
   ],
   "source": [
    "class MetricsBase:\n",
    "    def __init__(self, users, organisations, reviews, k=20):\n",
    "        self.users = users\n",
    "        self.organisations = organisations\n",
    "        self.reviews = reviews\n",
    "        self.k = k\n",
    "        self.relevant_orgs_for_users = (\n",
    "            reviews.query(\"rating >= 4\")\n",
    "            .groupby(\"user_id\")[\"org_id\"]\n",
    "            .apply(np.array)\n",
    "            .rename(\"relevant_org_ids\")\n",
    "        )\n",
    "        self.recommendations = None\n",
    "        self.relevance = None\n",
    "\n",
    "    def binary_relevance(self, recommendations):\n",
    "        relevance = (\n",
    "            pd.merge(\n",
    "                recommendations.agg(np.array, axis=\"columns\").rename(\n",
    "                    \"predicted_org_ids\"\n",
    "                ),\n",
    "                self.relevant_orgs_for_users,\n",
    "                left_index=True,\n",
    "                right_index=True,\n",
    "                how=\"left\",\n",
    "            )\n",
    "            .aggregate(\n",
    "                lambda row: np.isin(row[\"predicted_org_ids\"], row[\"relevant_org_ids\"]),\n",
    "                axis=\"columns\",\n",
    "            )\n",
    "            .pipe(\n",
    "                lambda series: pd.DataFrame(np.stack(series.values), index=series.index)\n",
    "            )\n",
    "        )\n",
    "        return relevance\n",
    "\n",
    "    def precalculate_relevance(self, recommendations):\n",
    "        self.recommendations = recommendations\n",
    "        self.relevance = self.binary_relevance(recommendations.iloc[:, : self.k])\n",
    "\n",
    "    @staticmethod\n",
    "    def wrap_metric(metric):\n",
    "        \"\"\"Precalculate relevance if recommendations were passed.\"\"\"\n",
    "\n",
    "        def wrapper(self, recommendations=None, **kwargs):\n",
    "            if recommendations is not None:\n",
    "                self.precalculate_relevance(recommendations)\n",
    "            elif self.recommendations is None:\n",
    "                raise ValueError(\n",
    "                    \"recommendations must be passed when first calculating a metric.\"\n",
    "                )\n",
    "            return metric(self, **kwargs)\n",
    "\n",
    "        return wrapper\n",
    "\n",
    "    def __init_subclass__(cls):\n",
    "        \"\"\"Wrap all subclass attributes\"\"\"\n",
    "        super().__init_subclass__()\n",
    "        for child_attribute in cls.__dict__.keys() - MetricsBase.__dict__.keys():\n",
    "            setattr(\n",
    "                cls,\n",
    "                child_attribute,\n",
    "                MetricsBase.wrap_metric(object.__getattribute__(cls, child_attribute)),\n",
    "            )\n",
    "\n",
    "\n",
    "class Metrics(MetricsBase):\n",
    "    def precision(self):\n",
    "        precision = self.relevance.astype(int).expanding(axis=\"columns\").mean()\n",
    "        return precision\n",
    "\n",
    "    def ideal_precision(self):\n",
    "        relevant_count = (\n",
    "            self.reviews.query(\"user_id in @self.recommendations.index and rating >= 4\")\n",
    "            .groupby(\"user_id\")\n",
    "            .size()\n",
    "            .reindex(self.relevance.index)\n",
    "        )\n",
    "\n",
    "        def relevant_count_to_ideal_average_precision(count):\n",
    "            k = np.arange(1, self.k + 1)\n",
    "            ideal_relevant_count = np.minimum(k, count)\n",
    "            return np.mean(ideal_relevant_count / k)\n",
    "\n",
    "        return relevant_count.map(relevant_count_to_ideal_average_precision)\n",
    "\n",
    "    def mnap(self):\n",
    "        \"\"\"Returns mean normalized average precision\"\"\"\n",
    "        average_precision = self.precision().mean(\"columns\")\n",
    "        ideal_precision = self.ideal_precision()\n",
    "        return np.nanmean(average_precision / ideal_precision)\n",
    "\n",
    "    def hitrate(self):\n",
    "        return self.relevance.any(axis=\"columns\").mean()\n",
    "\n",
    "    def mrr(self):\n",
    "        \"\"\"Returns mean reciprocal rank\"\"\"\n",
    "        relevance = self.relevance.values\n",
    "        return (\n",
    "            (relevance * (1 / np.arange(1, relevance.shape[1] + 1))).max(axis=1).mean()\n",
    "        )\n",
    "\n",
    "    def coverage(self):\n",
    "        org_ids = set(self.organisations.index)\n",
    "        recommended_org_ids = set(self.recommendations.values.flat)\n",
    "        return len(recommended_org_ids & org_ids) / len(org_ids)\n",
    "\n",
    "    def surprisal(self):\n",
    "        org_interactions = (\n",
    "            self.reviews.groupby(\"org_id\")\n",
    "            .size()\n",
    "            .reindex(self.organisations.index)\n",
    "            .replace(0, np.nan)\n",
    "        )\n",
    "        recommended_interactions = self.recommendations.applymap(\n",
    "            lambda org_id: org_interactions[org_id] if org_id else np.nan\n",
    "        )\n",
    "        self_information = -np.log2(recommended_interactions) + np.log2(\n",
    "            len(self.reviews)\n",
    "        )\n",
    "        return (self_information / np.log2(len(self.reviews))).mean().mean()\n",
    "\n",
    "    def calculate_metrics(self, name=None):\n",
    "        results = pd.Series(dtype=float, name=name)\n",
    "        for metric in [\"mnap\", \"hitrate\", \"mrr\", \"coverage\", \"surprisal\"]:\n",
    "            results[metric] = getattr(self, metric)()\n",
    "        return results"
   ]
  },
  {
   "cell_type": "code",
   "execution_count": 112,
   "metadata": {
    "ExecuteTime": {
     "end_time": "2022-08-09T06:54:09.663627Z",
     "start_time": "2022-08-09T06:54:09.639417Z"
    }
   },
   "outputs": [
    {
     "data": {
      "application/javascript": [
       "\n",
       "            setTimeout(function() {\n",
       "                var nbb_cell_id = 112;\n",
       "                var nbb_unformatted_code = \"class Assessor:\\n    def __init__(self, users, organisations, train_reviews, validation_reviews):\\n        self.users = users\\n        self.organisations = organisations\\n        self.train_reviews = train_reviews\\n        self.train_users = train_reviews[\\\"user_id\\\"].unique()\\n        self.validation_users = validation_reviews[\\\"user_id\\\"].unique()\\n        self.metrics = Metrics(users, organisations, validation_reviews)\\n        self.assessments = {}\\n\\n    def assess_model(self, model, name):\\n        model.fit(self.train_reviews)\\n        train_recommendations = model.recommend(self.train_users)\\n        val_recommendations = model.recommend(self.validation_users)\\n        results = self.metrics.calculate_metrics(val_recommendations, name=name)\\n        self.assessments[name] = {\\n            \\\"train_recommendations\\\": train_recommendations,\\n            \\\"val_recommendations\\\": val_recommendations,\\n            \\\"results\\\": results,\\n        }\\n\\n    def assess(self, models):\\n        for name, model in models.items():\\n            self.assess_model(model, name)\\n        self.show_results()\\n\\n    def show_results(self):\\n        results = pd.concat(\\n            [i[\\\"results\\\"] for i in self.assessments.values()], axis=\\\"columns\\\"\\n        )\\n        results.plot(\\n            kind=\\\"barh\\\",\\n            log=True,\\n            title=\\\"Model metrics, log scale\\\",\\n            figsize=(10, 6),\\n        )\";\n",
       "                var nbb_formatted_code = \"class Assessor:\\n    def __init__(self, users, organisations, train_reviews, validation_reviews):\\n        self.users = users\\n        self.organisations = organisations\\n        self.train_reviews = train_reviews\\n        self.train_users = train_reviews[\\\"user_id\\\"].unique()\\n        self.validation_users = validation_reviews[\\\"user_id\\\"].unique()\\n        self.metrics = Metrics(users, organisations, validation_reviews)\\n        self.assessments = {}\\n\\n    def assess_model(self, model, name):\\n        model.fit(self.train_reviews)\\n        train_recommendations = model.recommend(self.train_users)\\n        val_recommendations = model.recommend(self.validation_users)\\n        results = self.metrics.calculate_metrics(val_recommendations, name=name)\\n        self.assessments[name] = {\\n            \\\"train_recommendations\\\": train_recommendations,\\n            \\\"val_recommendations\\\": val_recommendations,\\n            \\\"results\\\": results,\\n        }\\n\\n    def assess(self, models):\\n        for name, model in models.items():\\n            self.assess_model(model, name)\\n        self.show_results()\\n\\n    def show_results(self):\\n        results = pd.concat(\\n            [i[\\\"results\\\"] for i in self.assessments.values()], axis=\\\"columns\\\"\\n        )\\n        results.plot(\\n            kind=\\\"barh\\\",\\n            log=True,\\n            title=\\\"Model metrics, log scale\\\",\\n            figsize=(10, 6),\\n        )\";\n",
       "                var nbb_cells = Jupyter.notebook.get_cells();\n",
       "                for (var i = 0; i < nbb_cells.length; ++i) {\n",
       "                    if (nbb_cells[i].input_prompt_number == nbb_cell_id) {\n",
       "                        if (nbb_cells[i].get_text() == nbb_unformatted_code) {\n",
       "                             nbb_cells[i].set_text(nbb_formatted_code);\n",
       "                        }\n",
       "                        break;\n",
       "                    }\n",
       "                }\n",
       "            }, 500);\n",
       "            "
      ],
      "text/plain": [
       "<IPython.core.display.Javascript object>"
      ]
     },
     "metadata": {},
     "output_type": "display_data"
    }
   ],
   "source": [
    "class Assessor:\n",
    "    def __init__(self, users, organisations, train_reviews, validation_reviews):\n",
    "        self.users = users\n",
    "        self.organisations = organisations\n",
    "        self.train_reviews = train_reviews\n",
    "        self.train_users = train_reviews[\"user_id\"].unique()\n",
    "        self.validation_users = validation_reviews[\"user_id\"].unique()\n",
    "        self.metrics = Metrics(users, organisations, validation_reviews)\n",
    "        self.assessments = {}\n",
    "\n",
    "    def assess_model(self, model, name):\n",
    "        model.fit(self.train_reviews)\n",
    "        train_recommendations = model.recommend(self.train_users)\n",
    "        val_recommendations = model.recommend(self.validation_users)\n",
    "        results = self.metrics.calculate_metrics(val_recommendations, name=name)\n",
    "        self.assessments[name] = {\n",
    "            \"train_recommendations\": train_recommendations,\n",
    "            \"val_recommendations\": val_recommendations,\n",
    "            \"results\": results,\n",
    "        }\n",
    "\n",
    "    def assess(self, models):\n",
    "        for name, model in models.items():\n",
    "            self.assess_model(model, name)\n",
    "        self.show_results()\n",
    "\n",
    "    def show_results(self):\n",
    "        results = pd.concat(\n",
    "            [i[\"results\"] for i in self.assessments.values()], axis=\"columns\"\n",
    "        )\n",
    "        results.plot(\n",
    "            kind=\"barh\",\n",
    "            log=True,\n",
    "            title=\"Model metrics, log scale\",\n",
    "            figsize=(10, 6),\n",
    "        )"
   ]
  },
  {
   "cell_type": "code",
   "execution_count": 113,
   "metadata": {
    "ExecuteTime": {
     "end_time": "2022-08-09T06:54:13.238639Z",
     "start_time": "2022-08-09T06:54:10.261102Z"
    }
   },
   "outputs": [
    {
     "data": {
      "image/png": "[encoded data removed]",
      "text/plain": [
       "<Figure size 720x432 with 1 Axes>"
      ]
     },
     "metadata": {
      "needs_background": "light"
     },
     "output_type": "display_data"
    },
    {
     "data": {
      "application/javascript": [
       "\n",
       "            setTimeout(function() {\n",
       "                var nbb_cell_id = 113;\n",
       "                var nbb_unformatted_code = \"assessor = Assessor(users, organisations, train_reviews, validation_reviews)\\nbaseline_models = {\\n    \\\"random\\\": RandomRecommender(users, organisations),\\n    \\\"popular\\\": PopularRecommender(users, organisations),\\n}\\nassessor.assess(baseline_models)\";\n",
       "                var nbb_formatted_code = \"assessor = Assessor(users, organisations, train_reviews, validation_reviews)\\nbaseline_models = {\\n    \\\"random\\\": RandomRecommender(users, organisations),\\n    \\\"popular\\\": PopularRecommender(users, organisations),\\n}\\nassessor.assess(baseline_models)\";\n",
       "                var nbb_cells = Jupyter.notebook.get_cells();\n",
       "                for (var i = 0; i < nbb_cells.length; ++i) {\n",
       "                    if (nbb_cells[i].input_prompt_number == nbb_cell_id) {\n",
       "                        if (nbb_cells[i].get_text() == nbb_unformatted_code) {\n",
       "                             nbb_cells[i].set_text(nbb_formatted_code);\n",
       "                        }\n",
       "                        break;\n",
       "                    }\n",
       "                }\n",
       "            }, 500);\n",
       "            "
      ],
      "text/plain": [
       "<IPython.core.display.Javascript object>"
      ]
     },
     "metadata": {},
     "output_type": "display_data"
    }
   ],
   "source": [
    "assessor = Assessor(users, organisations, train_reviews, validation_reviews)\n",
    "baseline_models = {\n",
    "    \"random\": RandomRecommender(users, organisations),\n",
    "    \"popular\": PopularRecommender(users, organisations),\n",
    "}\n",
    "assessor.assess(baseline_models)"
   ]
  },
  {
   "cell_type": "markdown",
   "metadata": {},
   "source": [
    "**(1.0 балла) Задание 5.** Метод Memory based. User-2-User or Item-2-Item\n",
    "\n",
    "Теперь рассмотрим [memory-based](https://en.wikipedia.org/wiki/Collaborative_filtering#Memory-based) методы рекоммендаций.\n",
    "Подход, лежащий в их основе, использует данные о рейтингах для вычисления сходства между пользователями (user-based) или объектами (item-based), на основе этих данных делаются предсказания рейтингов и, в дальнейшем, строятся рекоммендации. Эти методы просты в реализации и эффективны на ранних стадиях разработки рекомендательных систем.\n",
    "                                 \n",
    "              \n",
    "За последние годы было создано много библиотек для реализации алгоримтов построения рекомендаций.      \n",
    "  * https://github.com/benfred/implicit\n",
    "  * https://sberbank-ai-lab.github.io/RePlay/index.html\n",
    "  * https://github.com/apple/turicreate \n",
    "  * https://github.com/caserec/CaseRecommender\n",
    "\n",
    "Выеберите одну из них и постройте предсказания на основании совместной фильтрации по близости пользователей или по близости объектов.\n",
    "\n",
    "Если обучение идёт слишком долго подумайте про семплирование данных. Обоснуйте выбранную стратегию семплирования.\n",
    "\n"
   ]
  },
  {
   "cell_type": "code",
   "execution_count": 114,
   "metadata": {
    "ExecuteTime": {
     "end_time": "2022-08-09T06:54:17.323571Z",
     "start_time": "2022-08-09T06:54:17.276137Z"
    }
   },
   "outputs": [
    {
     "data": {
      "application/javascript": [
       "\n",
       "            setTimeout(function() {\n",
       "                var nbb_cell_id = 114;\n",
       "                var nbb_unformatted_code = \"import implicit\\n\\nfrom lightfm.data import Dataset\\nfrom scipy.sparse import coo_matrix, csr_matrix\\nfrom tqdm.auto import tqdm\\n\\n\\nclass SparseInterface:\\n    def __init__(self, data):\\n        self.users = data[\\\"users\\\"]\\n        self.organisations = data[\\\"organisations\\\"]\\n        self.data = data\\n        self.dataset = Dataset()\\n\\n    def build(self):\\n        self.fit()\\n        self.build_user_features()\\n        self.build_item_features()\\n        (\\n            self.user_id_map,\\n            self.user_feature_map,\\n            self.item_id_map,\\n            self.item_feature_map,\\n        ) = self.dataset.mapping()\\n        self.user_id_map = pd.Series(self.user_id_map)\\n        item_id_map = pd.Series(self.item_id_map)\\n        self.item_id_map_reverse = pd.Series(item_id_map.index, item_id_map.values)\\n        self.item_id_map_reverse[0] = 0\\n\\n    def fit(self):\\n        self.dataset.fit(\\n            users=self.users.index,\\n            items=self.organisations.index,\\n            user_features=self.users[\\\"city\\\"].unique(),\\n            item_features=list(self.organisations[\\\"city\\\"].unique())\\n            + [\\\"average_bill\\\", \\\"rating\\\"]\\n            + [f\\\"rubric_{rubric_id}\\\" for rubric_id in self.data[\\\"rubrics\\\"].index]\\n            + [f\\\"feature_{feature_id}\\\" for feature_id in self.data[\\\"features\\\"].index],\\n        )\\n\\n    def build_user_features(self):\\n        self.user_features = self.dataset.build_user_features(\\n            zip(self.users.index, self.users[[\\\"city\\\"]].values), normalize=False\\n        )\\n\\n    def build_item_features(self):\\n        self.item_features = self.dataset.build_item_features(\\n            (\\n                (\\n                    org_id,\\n                    {\\n                        **{org_row[\\\"city\\\"]: True},\\n                        **org_row[[\\\"average_bill\\\", \\\"rating\\\"]].dropna().to_dict(),\\n                        **{\\n                            f\\\"rubric_{rubric_id}\\\": True\\n                            for rubric_id in org_row[\\\"rubrics_id\\\"]\\n                        },\\n                        **{\\n                            f\\\"feature_{feature_id}\\\": True\\n                            for feature_id in org_row[\\\"features_id\\\"]\\n                        },\\n                    },\\n                )\\n                for org_id, org_row in tqdm(\\n                    self.organisations.iterrows(),\\n                    \\\"Building item features\\\",\\n                    total=len(self.organisations),\\n                )\\n            ),\\n            normalize=False,\\n        )\\n\\n    def build_interactions(self, reviews):\\n        self.interactions, self.interactions_weighted = self.dataset.build_interactions(\\n            reviews[[\\\"user_id\\\", \\\"org_id\\\", \\\"rating\\\"]].dropna().astype(\\\"uint64\\\").values\\n        )\\n\\n    def user_ids_to_latent(self, user_ids):\\n        return self.user_id_map.loc[user_ids]\\n\\n    def recommended_org_ids_from_latent(self, latent_recommendations):\\n        recommendations = latent_recommendations.apply(\\n            lambda s: self.item_id_map_reverse.loc[s].values\\n        )\\n        return recommendations\";\n",
       "                var nbb_formatted_code = \"import implicit\\n\\nfrom lightfm.data import Dataset\\nfrom scipy.sparse import coo_matrix, csr_matrix\\nfrom tqdm.auto import tqdm\\n\\n\\nclass SparseInterface:\\n    def __init__(self, data):\\n        self.users = data[\\\"users\\\"]\\n        self.organisations = data[\\\"organisations\\\"]\\n        self.data = data\\n        self.dataset = Dataset()\\n\\n    def build(self):\\n        self.fit()\\n        self.build_user_features()\\n        self.build_item_features()\\n        (\\n            self.user_id_map,\\n            self.user_feature_map,\\n            self.item_id_map,\\n            self.item_feature_map,\\n        ) = self.dataset.mapping()\\n        self.user_id_map = pd.Series(self.user_id_map)\\n        item_id_map = pd.Series(self.item_id_map)\\n        self.item_id_map_reverse = pd.Series(item_id_map.index, item_id_map.values)\\n        self.item_id_map_reverse[0] = 0\\n\\n    def fit(self):\\n        self.dataset.fit(\\n            users=self.users.index,\\n            items=self.organisations.index,\\n            user_features=self.users[\\\"city\\\"].unique(),\\n            item_features=list(self.organisations[\\\"city\\\"].unique())\\n            + [\\\"average_bill\\\", \\\"rating\\\"]\\n            + [f\\\"rubric_{rubric_id}\\\" for rubric_id in self.data[\\\"rubrics\\\"].index]\\n            + [f\\\"feature_{feature_id}\\\" for feature_id in self.data[\\\"features\\\"].index],\\n        )\\n\\n    def build_user_features(self):\\n        self.user_features = self.dataset.build_user_features(\\n            zip(self.users.index, self.users[[\\\"city\\\"]].values), normalize=False\\n        )\\n\\n    def build_item_features(self):\\n        self.item_features = self.dataset.build_item_features(\\n            (\\n                (\\n                    org_id,\\n                    {\\n                        **{org_row[\\\"city\\\"]: True},\\n                        **org_row[[\\\"average_bill\\\", \\\"rating\\\"]].dropna().to_dict(),\\n                        **{\\n                            f\\\"rubric_{rubric_id}\\\": True\\n                            for rubric_id in org_row[\\\"rubrics_id\\\"]\\n                        },\\n                        **{\\n                            f\\\"feature_{feature_id}\\\": True\\n                            for feature_id in org_row[\\\"features_id\\\"]\\n                        },\\n                    },\\n                )\\n                for org_id, org_row in tqdm(\\n                    self.organisations.iterrows(),\\n                    \\\"Building item features\\\",\\n                    total=len(self.organisations),\\n                )\\n            ),\\n            normalize=False,\\n        )\\n\\n    def build_interactions(self, reviews):\\n        self.interactions, self.interactions_weighted = self.dataset.build_interactions(\\n            reviews[[\\\"user_id\\\", \\\"org_id\\\", \\\"rating\\\"]].dropna().astype(\\\"uint64\\\").values\\n        )\\n\\n    def user_ids_to_latent(self, user_ids):\\n        return self.user_id_map.loc[user_ids]\\n\\n    def recommended_org_ids_from_latent(self, latent_recommendations):\\n        recommendations = latent_recommendations.apply(\\n            lambda s: self.item_id_map_reverse.loc[s].values\\n        )\\n        return recommendations\";\n",
       "                var nbb_cells = Jupyter.notebook.get_cells();\n",
       "                for (var i = 0; i < nbb_cells.length; ++i) {\n",
       "                    if (nbb_cells[i].input_prompt_number == nbb_cell_id) {\n",
       "                        if (nbb_cells[i].get_text() == nbb_unformatted_code) {\n",
       "                             nbb_cells[i].set_text(nbb_formatted_code);\n",
       "                        }\n",
       "                        break;\n",
       "                    }\n",
       "                }\n",
       "            }, 500);\n",
       "            "
      ],
      "text/plain": [
       "<IPython.core.display.Javascript object>"
      ]
     },
     "metadata": {},
     "output_type": "display_data"
    }
   ],
   "source": [
    "import implicit\n",
    "\n",
    "from lightfm.data import Dataset\n",
    "from scipy.sparse import coo_matrix, csr_matrix\n",
    "from tqdm.auto import tqdm\n",
    "\n",
    "\n",
    "class SparseInterface:\n",
    "    def __init__(self, data):\n",
    "        self.users = data[\"users\"]\n",
    "        self.organisations = data[\"organisations\"]\n",
    "        self.data = data\n",
    "        self.dataset = Dataset()\n",
    "\n",
    "    def build(self):\n",
    "        self.fit()\n",
    "        self.build_user_features()\n",
    "        self.build_item_features()\n",
    "        (\n",
    "            self.user_id_map,\n",
    "            self.user_feature_map,\n",
    "            self.item_id_map,\n",
    "            self.item_feature_map,\n",
    "        ) = self.dataset.mapping()\n",
    "        self.user_id_map = pd.Series(self.user_id_map)\n",
    "        item_id_map = pd.Series(self.item_id_map)\n",
    "        self.item_id_map_reverse = pd.Series(item_id_map.index, item_id_map.values)\n",
    "        self.item_id_map_reverse[0] = 0\n",
    "\n",
    "    def fit(self):\n",
    "        self.dataset.fit(\n",
    "            users=self.users.index,\n",
    "            items=self.organisations.index,\n",
    "            user_features=self.users[\"city\"].unique(),\n",
    "            item_features=list(self.organisations[\"city\"].unique())\n",
    "            + [\"average_bill\", \"rating\"]\n",
    "            + [f\"rubric_{rubric_id}\" for rubric_id in self.data[\"rubrics\"].index]\n",
    "            + [f\"feature_{feature_id}\" for feature_id in self.data[\"features\"].index],\n",
    "        )\n",
    "\n",
    "    def build_user_features(self):\n",
    "        self.user_features = self.dataset.build_user_features(\n",
    "            zip(self.users.index, self.users[[\"city\"]].values), normalize=False\n",
    "        )\n",
    "\n",
    "    def build_item_features(self):\n",
    "        self.item_features = self.dataset.build_item_features(\n",
    "            (\n",
    "                (\n",
    "                    org_id,\n",
    "                    {\n",
    "                        **{org_row[\"city\"]: True},\n",
    "                        **org_row[[\"average_bill\", \"rating\"]].dropna().to_dict(),\n",
    "                        **{\n",
    "                            f\"rubric_{rubric_id}\": True\n",
    "                            for rubric_id in org_row[\"rubrics_id\"]\n",
    "                        },\n",
    "                        **{\n",
    "                            f\"feature_{feature_id}\": True\n",
    "                            for feature_id in org_row[\"features_id\"]\n",
    "                        },\n",
    "                    },\n",
    "                )\n",
    "                for org_id, org_row in tqdm(\n",
    "                    self.organisations.iterrows(),\n",
    "                    \"Building item features\",\n",
    "                    total=len(self.organisations),\n",
    "                )\n",
    "            ),\n",
    "            normalize=False,\n",
    "        )\n",
    "\n",
    "    def build_interactions(self, reviews):\n",
    "        self.interactions, self.interactions_weighted = self.dataset.build_interactions(\n",
    "            reviews[[\"user_id\", \"org_id\", \"rating\"]].dropna().astype(\"uint64\").values\n",
    "        )\n",
    "\n",
    "    def user_ids_to_latent(self, user_ids):\n",
    "        return self.user_id_map.loc[user_ids]\n",
    "\n",
    "    def recommended_org_ids_from_latent(self, latent_recommendations):\n",
    "        recommendations = latent_recommendations.apply(\n",
    "            lambda s: self.item_id_map_reverse.loc[s].values\n",
    "        )\n",
    "        return recommendations"
   ]
  },
  {
   "cell_type": "code",
   "execution_count": 115,
   "metadata": {
    "ExecuteTime": {
     "end_time": "2022-08-09T06:54:18.496730Z",
     "start_time": "2022-08-09T06:54:18.475635Z"
    }
   },
   "outputs": [
    {
     "data": {
      "application/javascript": [
       "\n",
       "            setTimeout(function() {\n",
       "                var nbb_cell_id = 115;\n",
       "                var nbb_unformatted_code = \"class ImplicitRecommender(BaseRecommender):\\n    def __init__(self, sparse_interface, model):\\n        self.model = model\\n        self.sparse_interface = sparse_interface\\n\\n    def fit(self, reviews):\\n        self.sparse_interface.build_interactions(reviews)\\n        self.interactions = csr_matrix(self.sparse_interface.interactions_weighted)\\n        self.model.fit(self.interactions)\\n        return self\\n\\n    def recommend(self, user_ids, recommend_size=20):\\n        user_ids_mapped = self.sparse_interface.user_ids_to_latent(user_ids)\\n        recommendations, predicted_ratings = self.model.recommend(\\n            userid=user_ids_mapped,\\n            user_items=self.interactions[user_ids_mapped],\\n            N=recommend_size,\\n        )\\n        recommendations = pd.DataFrame(recommendations, user_ids).replace(-1, 0)\\n        return self.sparse_interface.recommended_org_ids_from_latent(recommendations)\";\n",
       "                var nbb_formatted_code = \"class ImplicitRecommender(BaseRecommender):\\n    def __init__(self, sparse_interface, model):\\n        self.model = model\\n        self.sparse_interface = sparse_interface\\n\\n    def fit(self, reviews):\\n        self.sparse_interface.build_interactions(reviews)\\n        self.interactions = csr_matrix(self.sparse_interface.interactions_weighted)\\n        self.model.fit(self.interactions)\\n        return self\\n\\n    def recommend(self, user_ids, recommend_size=20):\\n        user_ids_mapped = self.sparse_interface.user_ids_to_latent(user_ids)\\n        recommendations, predicted_ratings = self.model.recommend(\\n            userid=user_ids_mapped,\\n            user_items=self.interactions[user_ids_mapped],\\n            N=recommend_size,\\n        )\\n        recommendations = pd.DataFrame(recommendations, user_ids).replace(-1, 0)\\n        return self.sparse_interface.recommended_org_ids_from_latent(recommendations)\";\n",
       "                var nbb_cells = Jupyter.notebook.get_cells();\n",
       "                for (var i = 0; i < nbb_cells.length; ++i) {\n",
       "                    if (nbb_cells[i].input_prompt_number == nbb_cell_id) {\n",
       "                        if (nbb_cells[i].get_text() == nbb_unformatted_code) {\n",
       "                             nbb_cells[i].set_text(nbb_formatted_code);\n",
       "                        }\n",
       "                        break;\n",
       "                    }\n",
       "                }\n",
       "            }, 500);\n",
       "            "
      ],
      "text/plain": [
       "<IPython.core.display.Javascript object>"
      ]
     },
     "metadata": {},
     "output_type": "display_data"
    }
   ],
   "source": [
    "class ImplicitRecommender(BaseRecommender):\n",
    "    def __init__(self, sparse_interface, model):\n",
    "        self.model = model\n",
    "        self.sparse_interface = sparse_interface\n",
    "\n",
    "    def fit(self, reviews):\n",
    "        self.sparse_interface.build_interactions(reviews)\n",
    "        self.interactions = csr_matrix(self.sparse_interface.interactions_weighted)\n",
    "        self.model.fit(self.interactions)\n",
    "        return self\n",
    "\n",
    "    def recommend(self, user_ids, recommend_size=20):\n",
    "        user_ids_mapped = self.sparse_interface.user_ids_to_latent(user_ids)\n",
    "        recommendations, predicted_ratings = self.model.recommend(\n",
    "            userid=user_ids_mapped,\n",
    "            user_items=self.interactions[user_ids_mapped],\n",
    "            N=recommend_size,\n",
    "        )\n",
    "        recommendations = pd.DataFrame(recommendations, user_ids).replace(-1, 0)\n",
    "        return self.sparse_interface.recommended_org_ids_from_latent(recommendations)"
   ]
  },
  {
   "cell_type": "code",
   "execution_count": 19,
   "metadata": {
    "ExecuteTime": {
     "end_time": "2022-08-09T06:10:00.699229Z",
     "start_time": "2022-08-09T06:09:02.714906Z"
    }
   },
   "outputs": [
    {
     "data": {
      "application/vnd.jupyter.widget-view+json": {
       "model_id": "cdab4e5aa571412891d96f937fec635f",
       "version_major": 2,
       "version_minor": 0
      },
      "text/plain": [
       "Building item features:   0%|          | 0/68339 [00:00<?, ?it/s]"
      ]
     },
     "metadata": {},
     "output_type": "display_data"
    },
    {
     "data": {
      "application/javascript": [
       "\n",
       "            setTimeout(function() {\n",
       "                var nbb_cell_id = 19;\n",
       "                var nbb_unformatted_code = \"sparse_interface = SparseInterface(data)\\nsparse_interface.build()\";\n",
       "                var nbb_formatted_code = \"sparse_interface = SparseInterface(data)\\nsparse_interface.build()\";\n",
       "                var nbb_cells = Jupyter.notebook.get_cells();\n",
       "                for (var i = 0; i < nbb_cells.length; ++i) {\n",
       "                    if (nbb_cells[i].input_prompt_number == nbb_cell_id) {\n",
       "                        if (nbb_cells[i].get_text() == nbb_unformatted_code) {\n",
       "                             nbb_cells[i].set_text(nbb_formatted_code);\n",
       "                        }\n",
       "                        break;\n",
       "                    }\n",
       "                }\n",
       "            }, 500);\n",
       "            "
      ],
      "text/plain": [
       "<IPython.core.display.Javascript object>"
      ]
     },
     "metadata": {},
     "output_type": "display_data"
    }
   ],
   "source": [
    "sparse_interface = SparseInterface(data)\n",
    "sparse_interface.build()"
   ]
  },
  {
   "cell_type": "code",
   "execution_count": 116,
   "metadata": {
    "ExecuteTime": {
     "end_time": "2022-08-09T06:55:19.517849Z",
     "start_time": "2022-08-09T06:54:56.929031Z"
    }
   },
   "outputs": [
    {
     "name": "stderr",
     "output_type": "stream",
     "text": [
      "/external2/dkkoshman/venv/lib/python3.6/site-packages/implicit/nearest_neighbours.py:226: RuntimeWarning: invalid value encountered in true_divide\n",
      "  X.data = X.data / sqrt(bincount(X.row, X.data**2))[X.row]\n",
      "/external2/dkkoshman/venv/lib/python3.6/site-packages/implicit/utils.py:141: ParameterWarning: Method expects CSR input, and was passed coo_matrix instead. Converting to CSR took 0.002620697021484375 seconds\n",
      "  ParameterWarning,\n"
     ]
    },
    {
     "data": {
      "application/vnd.jupyter.widget-view+json": {
       "model_id": "7cad5df391c047a983bd10df8941b19c",
       "version_major": 2,
       "version_minor": 0
      },
      "text/plain": [
       "  0%|          | 0/68339 [00:00<?, ?it/s]"
      ]
     },
     "metadata": {},
     "output_type": "display_data"
    },
    {
     "name": "stderr",
     "output_type": "stream",
     "text": [
      "/external2/dkkoshman/venv/lib/python3.6/site-packages/implicit/utils.py:141: ParameterWarning: Method expects CSR input, and was passed coo_matrix instead. Converting to CSR took 0.0027480125427246094 seconds\n",
      "  ParameterWarning,\n"
     ]
    },
    {
     "data": {
      "application/vnd.jupyter.widget-view+json": {
       "model_id": "14acd0564fb04c248efc617972254fdf",
       "version_major": 2,
       "version_minor": 0
      },
      "text/plain": [
       "  0%|          | 0/68339 [00:00<?, ?it/s]"
      ]
     },
     "metadata": {},
     "output_type": "display_data"
    },
    {
     "name": "stderr",
     "output_type": "stream",
     "text": [
      "/external2/dkkoshman/venv/lib/python3.6/site-packages/implicit/nearest_neighbours.py:226: RuntimeWarning: invalid value encountered in true_divide\n",
      "  X.data = X.data / sqrt(bincount(X.row, X.data**2))[X.row]\n",
      "/external2/dkkoshman/venv/lib/python3.6/site-packages/implicit/utils.py:141: ParameterWarning: Method expects CSR input, and was passed coo_matrix instead. Converting to CSR took 0.004286527633666992 seconds\n",
      "  ParameterWarning,\n"
     ]
    },
    {
     "data": {
      "application/vnd.jupyter.widget-view+json": {
       "model_id": "71e71d3b952d4796851d96bd8e67e3b7",
       "version_major": 2,
       "version_minor": 0
      },
      "text/plain": [
       "  0%|          | 0/68339 [00:00<?, ?it/s]"
      ]
     },
     "metadata": {},
     "output_type": "display_data"
    },
    {
     "data": {
      "image/png": "[encoded data removed]",
      "text/plain": [
       "<Figure size 720x432 with 1 Axes>"
      ]
     },
     "metadata": {
      "needs_background": "light"
     },
     "output_type": "display_data"
    },
    {
     "data": {
      "application/javascript": [
       "\n",
       "            setTimeout(function() {\n",
       "                var nbb_cell_id = 116;\n",
       "                var nbb_unformatted_code = \"nn_models = {\\n    \\\"tfidf\\\": ImplicitRecommender(\\n        sparse_interface, implicit.nearest_neighbours.TFIDFRecommender()\\n    ),\\n    \\\"bm25\\\": ImplicitRecommender(\\n        sparse_interface, implicit.nearest_neighbours.BM25Recommender()\\n    ),\\n    \\\"cosine\\\": ImplicitRecommender(\\n        sparse_interface, implicit.nearest_neighbours.CosineRecommender()\\n    ),\\n}\\n\\nassessor.assess(nn_models)\";\n",
       "                var nbb_formatted_code = \"nn_models = {\\n    \\\"tfidf\\\": ImplicitRecommender(\\n        sparse_interface, implicit.nearest_neighbours.TFIDFRecommender()\\n    ),\\n    \\\"bm25\\\": ImplicitRecommender(\\n        sparse_interface, implicit.nearest_neighbours.BM25Recommender()\\n    ),\\n    \\\"cosine\\\": ImplicitRecommender(\\n        sparse_interface, implicit.nearest_neighbours.CosineRecommender()\\n    ),\\n}\\n\\nassessor.assess(nn_models)\";\n",
       "                var nbb_cells = Jupyter.notebook.get_cells();\n",
       "                for (var i = 0; i < nbb_cells.length; ++i) {\n",
       "                    if (nbb_cells[i].input_prompt_number == nbb_cell_id) {\n",
       "                        if (nbb_cells[i].get_text() == nbb_unformatted_code) {\n",
       "                             nbb_cells[i].set_text(nbb_formatted_code);\n",
       "                        }\n",
       "                        break;\n",
       "                    }\n",
       "                }\n",
       "            }, 500);\n",
       "            "
      ],
      "text/plain": [
       "<IPython.core.display.Javascript object>"
      ]
     },
     "metadata": {},
     "output_type": "display_data"
    }
   ],
   "source": [
    "nn_models = {\n",
    "    \"tfidf\": ImplicitRecommender(\n",
    "        sparse_interface, implicit.nearest_neighbours.TFIDFRecommender()\n",
    "    ),\n",
    "    \"bm25\": ImplicitRecommender(\n",
    "        sparse_interface, implicit.nearest_neighbours.BM25Recommender()\n",
    "    ),\n",
    "    \"cosine\": ImplicitRecommender(\n",
    "        sparse_interface, implicit.nearest_neighbours.CosineRecommender()\n",
    "    ),\n",
    "}\n",
    "\n",
    "assessor.assess(nn_models)"
   ]
  },
  {
   "cell_type": "markdown",
   "metadata": {},
   "source": [
    "## Методы Matrix factorization"
   ]
  },
  {
   "cell_type": "markdown",
   "metadata": {},
   "source": [
    "**(0.5 балла) Задание 6.**\n",
    "\n",
    "- Разложите матрицу рейтингов с помощью [разреженного SVD](http://scikit-learn.org/stable/modules/generated/sklearn.decomposition.TruncatedSVD.html) и, восстановив ее, получите предсказания рейтингов для всех пар пользователь-объект. В данном случае неизвестные рейтинги заполняются нулями, а затем восстанавливаются с помощью SVD (этот метод называется PureSVD).\n",
    "   * Получив векторные представления пользователей и объектов и сингулярные числа, мы можеи восстановив матрицу и в местах нулей получим \"предсказанные значения вероятностей\" для новых объектов.\n",
    "- Рассмотрите, как минимум, 5 различных значений ранга разложения. Оцените качество рекомендаций"
   ]
  },
  {
   "cell_type": "markdown",
   "metadata": {},
   "source": [
    "Получим представление о том, какие варианты значенией ранга разложения следует попробовать:"
   ]
  },
  {
   "cell_type": "code",
   "execution_count": 27,
   "metadata": {
    "ExecuteTime": {
     "end_time": "2022-08-09T06:12:41.600873Z",
     "start_time": "2022-08-09T06:12:41.558953Z"
    }
   },
   "outputs": [
    {
     "data": {
      "application/javascript": [
       "\n",
       "            setTimeout(function() {\n",
       "                var nbb_cell_id = 27;\n",
       "                var nbb_unformatted_code = \"from sklearn.decomposition import TruncatedSVD\\n\\n\\ndef plot_component_importance(sparse_interface, n_components=100):\\n    truncated_svd = TruncatedSVD(n_components=n_components)\\n    truncated_svd.fit(sparse_interface.interactions_weighted)\\n\\n    fig, ax = plt.subplots(figsize=(8, 6))\\n    plt.plot(truncated_svd.explained_variance_ratio_)\\n    plt.xlabel(\\\"n components\\\")\\n    plt.ylabel(\\\"explained variance ratio\\\")\\n    plt.title(\\\"Explained variance depending on number of components\\\")\";\n",
       "                var nbb_formatted_code = \"from sklearn.decomposition import TruncatedSVD\\n\\n\\ndef plot_component_importance(sparse_interface, n_components=100):\\n    truncated_svd = TruncatedSVD(n_components=n_components)\\n    truncated_svd.fit(sparse_interface.interactions_weighted)\\n\\n    fig, ax = plt.subplots(figsize=(8, 6))\\n    plt.plot(truncated_svd.explained_variance_ratio_)\\n    plt.xlabel(\\\"n components\\\")\\n    plt.ylabel(\\\"explained variance ratio\\\")\\n    plt.title(\\\"Explained variance depending on number of components\\\")\";\n",
       "                var nbb_cells = Jupyter.notebook.get_cells();\n",
       "                for (var i = 0; i < nbb_cells.length; ++i) {\n",
       "                    if (nbb_cells[i].input_prompt_number == nbb_cell_id) {\n",
       "                        if (nbb_cells[i].get_text() == nbb_unformatted_code) {\n",
       "                             nbb_cells[i].set_text(nbb_formatted_code);\n",
       "                        }\n",
       "                        break;\n",
       "                    }\n",
       "                }\n",
       "            }, 500);\n",
       "            "
      ],
      "text/plain": [
       "<IPython.core.display.Javascript object>"
      ]
     },
     "metadata": {},
     "output_type": "display_data"
    }
   ],
   "source": [
    "from sklearn.decomposition import TruncatedSVD\n",
    "\n",
    "\n",
    "def plot_component_importance(sparse_interface, n_components=100):\n",
    "    truncated_svd = TruncatedSVD(n_components=n_components)\n",
    "    truncated_svd.fit(sparse_interface.interactions_weighted)\n",
    "\n",
    "    fig, ax = plt.subplots(figsize=(8, 6))\n",
    "    plt.plot(truncated_svd.explained_variance_ratio_)\n",
    "    plt.xlabel(\"n components\")\n",
    "    plt.ylabel(\"explained variance ratio\")\n",
    "    plt.title(\"Explained variance depending on number of components\")"
   ]
  },
  {
   "cell_type": "code",
   "execution_count": 69,
   "metadata": {
    "ExecuteTime": {
     "end_time": "2022-08-08T08:00:57.447043Z",
     "start_time": "2022-08-08T08:00:34.359002Z"
    }
   },
   "outputs": [
    {
     "data": {
      "image/png": "[encoded data removed]",
      "text/plain": [
       "<Figure size 576x432 with 1 Axes>"
      ]
     },
     "metadata": {
      "needs_background": "light"
     },
     "output_type": "display_data"
    },
    {
     "data": {
      "application/javascript": [
       "\n",
       "            setTimeout(function() {\n",
       "                var nbb_cell_id = 69;\n",
       "                var nbb_unformatted_code = \"plot_component_importance(sparse_interface)\";\n",
       "                var nbb_formatted_code = \"plot_component_importance(sparse_interface)\";\n",
       "                var nbb_cells = Jupyter.notebook.get_cells();\n",
       "                for (var i = 0; i < nbb_cells.length; ++i) {\n",
       "                    if (nbb_cells[i].input_prompt_number == nbb_cell_id) {\n",
       "                        if (nbb_cells[i].get_text() == nbb_unformatted_code) {\n",
       "                             nbb_cells[i].set_text(nbb_formatted_code);\n",
       "                        }\n",
       "                        break;\n",
       "                    }\n",
       "                }\n",
       "            }, 500);\n",
       "            "
      ],
      "text/plain": [
       "<IPython.core.display.Javascript object>"
      ]
     },
     "metadata": {},
     "output_type": "display_data"
    }
   ],
   "source": [
    "plot_component_importance(sparse_interface)"
   ]
  },
  {
   "cell_type": "code",
   "execution_count": 28,
   "metadata": {
    "ExecuteTime": {
     "end_time": "2022-08-09T06:12:41.671958Z",
     "start_time": "2022-08-09T06:12:41.602816Z"
    }
   },
   "outputs": [
    {
     "data": {
      "application/javascript": [
       "\n",
       "            setTimeout(function() {\n",
       "                var nbb_cell_id = 28;\n",
       "                var nbb_unformatted_code = \"class BatchRecommender(ImplicitRecommender):\\n    def recommend(self, user_ids, recommend_size=20, batch_size=1024):\\n        user_ids_mapped = self.sparse_interface.user_ids_to_latent(user_ids)\\n        interactions = self.interactions[user_ids_mapped]\\n        recommendations = []\\n\\n        for begin in tqdm(range(0, len(user_ids), batch_size), \\\"Predicting\\\"):\\n            batch_slice = slice(begin, begin + batch_size)\\n            batch_interactions = interactions[batch_slice]\\n            batch_ids = user_ids[batch_slice]\\n            batch_ids_mapped = user_ids_mapped[batch_slice]\\n            batch_rec = self.model_recommend(batch_ids_mapped, batch_interactions)\\n            batch_rec = np.argpartition(-batch_rec, recommend_size)[:, :recommend_size]\\n            batch_rec = pd.DataFrame(batch_rec, batch_ids)\\n            recommendations.append(batch_rec)\\n\\n        recommendations = self.sparse_interface.recommended_org_ids_from_latent(\\n            pd.concat(recommendations)\\n        )\\n        return recommendations\\n\\n    @abc.abstractmethod\\n    def model_recommend(self, user_ids, interactions):\\n        ...\\n\\n\\nclass SVDRecommender(BatchRecommender):\\n    def model_recommend(self, user_ids, interactions):\\n        embedding = self.model.transform(interactions)\\n        recommendations = self.model.inverse_transform(embedding)\\n        return recommendations\";\n",
       "                var nbb_formatted_code = \"class BatchRecommender(ImplicitRecommender):\\n    def recommend(self, user_ids, recommend_size=20, batch_size=1024):\\n        user_ids_mapped = self.sparse_interface.user_ids_to_latent(user_ids)\\n        interactions = self.interactions[user_ids_mapped]\\n        recommendations = []\\n\\n        for begin in tqdm(range(0, len(user_ids), batch_size), \\\"Predicting\\\"):\\n            batch_slice = slice(begin, begin + batch_size)\\n            batch_interactions = interactions[batch_slice]\\n            batch_ids = user_ids[batch_slice]\\n            batch_ids_mapped = user_ids_mapped[batch_slice]\\n            batch_rec = self.model_recommend(batch_ids_mapped, batch_interactions)\\n            batch_rec = np.argpartition(-batch_rec, recommend_size)[:, :recommend_size]\\n            batch_rec = pd.DataFrame(batch_rec, batch_ids)\\n            recommendations.append(batch_rec)\\n\\n        recommendations = self.sparse_interface.recommended_org_ids_from_latent(\\n            pd.concat(recommendations)\\n        )\\n        return recommendations\\n\\n    @abc.abstractmethod\\n    def model_recommend(self, user_ids, interactions):\\n        ...\\n\\n\\nclass SVDRecommender(BatchRecommender):\\n    def model_recommend(self, user_ids, interactions):\\n        embedding = self.model.transform(interactions)\\n        recommendations = self.model.inverse_transform(embedding)\\n        return recommendations\";\n",
       "                var nbb_cells = Jupyter.notebook.get_cells();\n",
       "                for (var i = 0; i < nbb_cells.length; ++i) {\n",
       "                    if (nbb_cells[i].input_prompt_number == nbb_cell_id) {\n",
       "                        if (nbb_cells[i].get_text() == nbb_unformatted_code) {\n",
       "                             nbb_cells[i].set_text(nbb_formatted_code);\n",
       "                        }\n",
       "                        break;\n",
       "                    }\n",
       "                }\n",
       "            }, 500);\n",
       "            "
      ],
      "text/plain": [
       "<IPython.core.display.Javascript object>"
      ]
     },
     "metadata": {},
     "output_type": "display_data"
    }
   ],
   "source": [
    "class BatchRecommender(ImplicitRecommender):\n",
    "    def recommend(self, user_ids, recommend_size=20, batch_size=1024):\n",
    "        user_ids_mapped = self.sparse_interface.user_ids_to_latent(user_ids)\n",
    "        interactions = self.interactions[user_ids_mapped]\n",
    "        recommendations = []\n",
    "\n",
    "        for begin in tqdm(range(0, len(user_ids), batch_size), \"Predicting\"):\n",
    "            batch_slice = slice(begin, begin + batch_size)\n",
    "            batch_interactions = interactions[batch_slice]\n",
    "            batch_ids = user_ids[batch_slice]\n",
    "            batch_ids_mapped = user_ids_mapped[batch_slice]\n",
    "            batch_rec = self.model_recommend(batch_ids_mapped, batch_interactions)\n",
    "            batch_rec = np.argpartition(-batch_rec, recommend_size)[:, :recommend_size]\n",
    "            batch_rec = pd.DataFrame(batch_rec, batch_ids)\n",
    "            recommendations.append(batch_rec)\n",
    "\n",
    "        recommendations = self.sparse_interface.recommended_org_ids_from_latent(\n",
    "            pd.concat(recommendations)\n",
    "        )\n",
    "        return recommendations\n",
    "\n",
    "    @abc.abstractmethod\n",
    "    def model_recommend(self, user_ids, interactions):\n",
    "        ...\n",
    "\n",
    "\n",
    "class SVDRecommender(BatchRecommender):\n",
    "    def model_recommend(self, user_ids, interactions):\n",
    "        embedding = self.model.transform(interactions)\n",
    "        recommendations = self.model.inverse_transform(embedding)\n",
    "        return recommendations"
   ]
  },
  {
   "cell_type": "code",
   "execution_count": 29,
   "metadata": {
    "ExecuteTime": {
     "end_time": "2022-08-09T06:13:20.746427Z",
     "start_time": "2022-08-09T06:12:41.673671Z"
    }
   },
   "outputs": [
    {
     "data": {
      "application/vnd.jupyter.widget-view+json": {
       "model_id": "4f53c9fed779416abe0822580e044e72",
       "version_major": 2,
       "version_minor": 0
      },
      "text/plain": [
       "Predicting:   0%|          | 0/7 [00:00<?, ?it/s]"
      ]
     },
     "metadata": {},
     "output_type": "display_data"
    },
    {
     "data": {
      "application/vnd.jupyter.widget-view+json": {
       "model_id": "8551ca11ebe642f9a0b5cf76f5c47023",
       "version_major": 2,
       "version_minor": 0
      },
      "text/plain": [
       "Predicting:   0%|          | 0/7 [00:00<?, ?it/s]"
      ]
     },
     "metadata": {},
     "output_type": "display_data"
    },
    {
     "data": {
      "image/png": "[encoded data removed]",
      "text/plain": [
       "<Figure size 720x432 with 1 Axes>"
      ]
     },
     "metadata": {
      "needs_background": "light"
     },
     "output_type": "display_data"
    },
    {
     "data": {
      "application/javascript": [
       "\n",
       "            setTimeout(function() {\n",
       "                var nbb_cell_id = 29;\n",
       "                var nbb_unformatted_code = \"matrix_factorization_models = {\\n    f\\\"svd_{n_components}\\\": SVDRecommender(\\n        sparse_interface, TruncatedSVD(n_components=n_components)\\n    )\\n    for n_components in np.logspace(1, 2, num=2, dtype=int)\\n}\\n\\nassessor.assess(matrix_factorization_models)\";\n",
       "                var nbb_formatted_code = \"matrix_factorization_models = {\\n    f\\\"svd_{n_components}\\\": SVDRecommender(\\n        sparse_interface, TruncatedSVD(n_components=n_components)\\n    )\\n    for n_components in np.logspace(1, 2, num=2, dtype=int)\\n}\\n\\nassessor.assess(matrix_factorization_models)\";\n",
       "                var nbb_cells = Jupyter.notebook.get_cells();\n",
       "                for (var i = 0; i < nbb_cells.length; ++i) {\n",
       "                    if (nbb_cells[i].input_prompt_number == nbb_cell_id) {\n",
       "                        if (nbb_cells[i].get_text() == nbb_unformatted_code) {\n",
       "                             nbb_cells[i].set_text(nbb_formatted_code);\n",
       "                        }\n",
       "                        break;\n",
       "                    }\n",
       "                }\n",
       "            }, 500);\n",
       "            "
      ],
      "text/plain": [
       "<IPython.core.display.Javascript object>"
      ]
     },
     "metadata": {},
     "output_type": "display_data"
    }
   ],
   "source": [
    "matrix_factorization_models = {\n",
    "    f\"svd_{n_components}\": SVDRecommender(\n",
    "        sparse_interface, TruncatedSVD(n_components=n_components)\n",
    "    )\n",
    "    for n_components in np.logspace(1, 2, num=2, dtype=int)\n",
    "}\n",
    "\n",
    "assessor.assess(matrix_factorization_models)"
   ]
  },
  {
   "cell_type": "markdown",
   "metadata": {},
   "source": [
    "# ALS\n",
    "Довольно популярным базовым методом в рекомендательных системах является ALS.\n",
    "\n",
    "### Explicit ALS\n",
    "\n",
    "Релевантность:\n",
    "$$r_{ui} = q_i^T p_u$$\n",
    "\n",
    "Loss:\n",
    "$$\\min_{p*, q*} \\sum_{(u, i \\in \\mathcal{K})} (r_{ui} - q_i^T p_u)^2 + \\lambda(\\|{q_i}\\|^2 + \\|{p_i}\\|^2)$$\n",
    "\n",
    "### [Implicit ALS](http://yifanhu.net/PUB/cf.pdf)\n",
    "\n",
    "Релевантность:\n",
    "$$r_{ui} = q_i^T p_u$$\n",
    "\n",
    "Loss:\n",
    "$$\\min_{p*, q*} \\sum_{(u, i \\in \\mathcal{K})} c_{ui}(p_{ui} - q_i^T p_u)^2 + \\lambda(\\|{q_i}\\|^2 + \\|{p_i}\\|^2)$$\n",
    "Где $c_{ui}$ - значение в матрице implicit feedback, а $p_{ui}$ равно 1, если пользователь u взаимодействовал с item-ом i, и 0 иначе.\n",
    "\n",
    "### Усложнения ALS\n",
    "Обучив для каждого пользователя и объекта свой bias и добавив регуляризацию можно улучшить качество решения. Подробнее о различных матричных разложениях для задачи рекомендаций можно почитать [в статье на Хабре](https://habr.com/ru/post/486802/).\n",
    "\n",
    "В рейтинг объекта для пользователя, например, может быть представлен:\n",
    "$$r_{ui} = \\mu + b_i + b_u + q_i^T p_u$$\n",
    "\n",
    "А функция потерь будет выглядеть так:\n",
    "$$\\min_{b*, p*, q*} \\sum_{(u, i \\in \\mathcal{K})} (r_{ui} - \\mu - b_i - b_u - q_i^T p_u)^2 + \\lambda(\\|{q_i}\\|^2 + \\|{p_i}\\|^2 + b_i^2 + b_u^2)$$\n",
    "\n",
    "Матричная факторизация - хороший подход, который позволяет получить рекомендации для теплых пользователей, а также находить похожих пользователей и объекты, посчитав расстояния между векторами. Обучив модель и получив вектора можно перейти от задачи рекомендаций к задаче поиска ближайших соседей и использовать ANN-методы."
   ]
  },
  {
   "cell_type": "markdown",
   "metadata": {},
   "source": [
    "**(1.0 балла) Задание 7.**\n",
    "Примените ALS.\n",
    "\n",
    "Можно воспользоваться готовой реализацией из бибилотеки https://github.com/benfred/implicit\n",
    "\n",
    "Попробуйте использовать как все оценки, так и только высокие. Есть ли разница?"
   ]
  },
  {
   "cell_type": "code",
   "execution_count": 30,
   "metadata": {
    "ExecuteTime": {
     "end_time": "2022-08-09T06:13:20.755758Z",
     "start_time": "2022-08-09T06:13:20.748638Z"
    }
   },
   "outputs": [
    {
     "data": {
      "application/javascript": [
       "\n",
       "            setTimeout(function() {\n",
       "                var nbb_cell_id = 30;\n",
       "                var nbb_unformatted_code = \"from implicit.gpu.als import AlternatingLeastSquares\\n\\n\\nclass ALSFiltered(ImplicitRecommender):\\n    def __init__(self, *args, filtered_train_reviews, **kwargs):\\n        super().__init__(*args, **kwargs)\\n        self.filtered_train_reviews = filtered_train_reviews\\n\\n    def fit(self, reviews):\\n        super().fit(self.filtered_train_reviews)\";\n",
       "                var nbb_formatted_code = \"from implicit.gpu.als import AlternatingLeastSquares\\n\\n\\nclass ALSFiltered(ImplicitRecommender):\\n    def __init__(self, *args, filtered_train_reviews, **kwargs):\\n        super().__init__(*args, **kwargs)\\n        self.filtered_train_reviews = filtered_train_reviews\\n\\n    def fit(self, reviews):\\n        super().fit(self.filtered_train_reviews)\";\n",
       "                var nbb_cells = Jupyter.notebook.get_cells();\n",
       "                for (var i = 0; i < nbb_cells.length; ++i) {\n",
       "                    if (nbb_cells[i].input_prompt_number == nbb_cell_id) {\n",
       "                        if (nbb_cells[i].get_text() == nbb_unformatted_code) {\n",
       "                             nbb_cells[i].set_text(nbb_formatted_code);\n",
       "                        }\n",
       "                        break;\n",
       "                    }\n",
       "                }\n",
       "            }, 500);\n",
       "            "
      ],
      "text/plain": [
       "<IPython.core.display.Javascript object>"
      ]
     },
     "metadata": {},
     "output_type": "display_data"
    }
   ],
   "source": [
    "from implicit.gpu.als import AlternatingLeastSquares\n",
    "\n",
    "\n",
    "class ALSFiltered(ImplicitRecommender):\n",
    "    def __init__(self, *args, filtered_train_reviews, **kwargs):\n",
    "        super().__init__(*args, **kwargs)\n",
    "        self.filtered_train_reviews = filtered_train_reviews\n",
    "\n",
    "    def fit(self, reviews):\n",
    "        super().fit(self.filtered_train_reviews)"
   ]
  },
  {
   "cell_type": "code",
   "execution_count": 117,
   "metadata": {
    "ExecuteTime": {
     "end_time": "2022-08-09T06:55:23.276208Z",
     "start_time": "2022-08-09T06:55:19.521295Z"
    }
   },
   "outputs": [
    {
     "data": {
      "application/vnd.jupyter.widget-view+json": {
       "model_id": "f6fa1c65201b43659654a61ee9229ef5",
       "version_major": 2,
       "version_minor": 0
      },
      "text/plain": [
       "  0%|          | 0/15 [00:00<?, ?it/s]"
      ]
     },
     "metadata": {},
     "output_type": "display_data"
    },
    {
     "data": {
      "application/vnd.jupyter.widget-view+json": {
       "model_id": "98ed55b82bb344a992121ed887da2c46",
       "version_major": 2,
       "version_minor": 0
      },
      "text/plain": [
       "  0%|          | 0/15 [00:00<?, ?it/s]"
      ]
     },
     "metadata": {},
     "output_type": "display_data"
    },
    {
     "data": {
      "image/png": "[encoded data removed]",
      "text/plain": [
       "<Figure size 720x432 with 1 Axes>"
      ]
     },
     "metadata": {
      "needs_background": "light"
     },
     "output_type": "display_data"
    },
    {
     "data": {
      "application/javascript": [
       "\n",
       "            setTimeout(function() {\n",
       "                var nbb_cell_id = 117;\n",
       "                var nbb_unformatted_code = \"als_models = {\\n    \\\"als\\\": ImplicitRecommender(sparse_interface, AlternatingLeastSquares()),\\n    \\\"als_filtered\\\": ALSFiltered(\\n        sparse_interface,\\n        AlternatingLeastSquares(),\\n        filtered_train_reviews=train_reviews.query(\\\"rating >= 4\\\").assign(rating=1),\\n    ),\\n}\\nassessor.assess(als_models)\";\n",
       "                var nbb_formatted_code = \"als_models = {\\n    \\\"als\\\": ImplicitRecommender(sparse_interface, AlternatingLeastSquares()),\\n    \\\"als_filtered\\\": ALSFiltered(\\n        sparse_interface,\\n        AlternatingLeastSquares(),\\n        filtered_train_reviews=train_reviews.query(\\\"rating >= 4\\\").assign(rating=1),\\n    ),\\n}\\nassessor.assess(als_models)\";\n",
       "                var nbb_cells = Jupyter.notebook.get_cells();\n",
       "                for (var i = 0; i < nbb_cells.length; ++i) {\n",
       "                    if (nbb_cells[i].input_prompt_number == nbb_cell_id) {\n",
       "                        if (nbb_cells[i].get_text() == nbb_unformatted_code) {\n",
       "                             nbb_cells[i].set_text(nbb_formatted_code);\n",
       "                        }\n",
       "                        break;\n",
       "                    }\n",
       "                }\n",
       "            }, 500);\n",
       "            "
      ],
      "text/plain": [
       "<IPython.core.display.Javascript object>"
      ]
     },
     "metadata": {},
     "output_type": "display_data"
    }
   ],
   "source": [
    "als_models = {\n",
    "    \"als\": ImplicitRecommender(sparse_interface, AlternatingLeastSquares()),\n",
    "    \"als_filtered\": ALSFiltered(\n",
    "        sparse_interface,\n",
    "        AlternatingLeastSquares(),\n",
    "        filtered_train_reviews=train_reviews.query(\"rating >= 4\").assign(rating=1),\n",
    "    ),\n",
    "}\n",
    "assessor.assess(als_models)"
   ]
  },
  {
   "cell_type": "markdown",
   "metadata": {},
   "source": [
    "**(1.0 балла) Задание 8.**\n",
    "\n",
    "На [семинаре](https://github.com/monkey0head/recsys_sem) Вам было расказано про бибилиотеку LightFM.\n",
    "Примените ее для нашей задачи. Используя фичи и не используя фичи, сравните результат."
   ]
  },
  {
   "cell_type": "code",
   "execution_count": 32,
   "metadata": {
    "ExecuteTime": {
     "end_time": "2022-08-09T06:13:25.355945Z",
     "start_time": "2022-08-09T06:13:25.340251Z"
    }
   },
   "outputs": [
    {
     "data": {
      "application/javascript": [
       "\n",
       "            setTimeout(function() {\n",
       "                var nbb_cell_id = 32;\n",
       "                var nbb_unformatted_code = \"# TODO: add aspects, gridsearch\\nfrom lightfm import LightFM\\n\\n\\nclass LightRecommender(BatchRecommender):\\n    def __init__(self, *args, with_features=True, **kwargs):\\n        super().__init__(*args, **kwargs)\\n        self.with_features = with_features\\n        self.user_features = (\\n            self.sparse_interface.user_features if with_features else None\\n        )\\n        self.item_features = (\\n            self.sparse_interface.item_features if with_features else None\\n        )\\n\\n    def fit(self, reviews):\\n        self.sparse_interface.build_interactions(reviews)\\n        self.interactions = csr_matrix(self.sparse_interface.interactions_weighted)\\n        self.model.fit(\\n            interactions=self.sparse_interface.interactions,\\n            sample_weight=self.sparse_interface.interactions_weighted,\\n            user_features=self.user_features,\\n            item_features=self.item_features,\\n            epochs=100,\\n            num_threads=8,\\n            verbose=True,\\n        )\\n        return self\\n\\n    def model_recommend(self, user_ids, interactions):\\n        user_ids, item_ids = np.meshgrid(\\n            user_ids, range(len(self.sparse_interface.organisations)), indexing=\\\"ij\\\"\\n        )\\n\\n        recommendations = self.model.predict(\\n            user_ids=user_ids.flatten(),\\n            item_ids=item_ids.flatten(),\\n            user_features=self.user_features,\\n            item_features=self.item_features,\\n            num_threads=8,\\n        ).reshape(user_ids.shape)\\n\\n        return recommendations\";\n",
       "                var nbb_formatted_code = \"# TODO: add aspects, gridsearch\\nfrom lightfm import LightFM\\n\\n\\nclass LightRecommender(BatchRecommender):\\n    def __init__(self, *args, with_features=True, **kwargs):\\n        super().__init__(*args, **kwargs)\\n        self.with_features = with_features\\n        self.user_features = (\\n            self.sparse_interface.user_features if with_features else None\\n        )\\n        self.item_features = (\\n            self.sparse_interface.item_features if with_features else None\\n        )\\n\\n    def fit(self, reviews):\\n        self.sparse_interface.build_interactions(reviews)\\n        self.interactions = csr_matrix(self.sparse_interface.interactions_weighted)\\n        self.model.fit(\\n            interactions=self.sparse_interface.interactions,\\n            sample_weight=self.sparse_interface.interactions_weighted,\\n            user_features=self.user_features,\\n            item_features=self.item_features,\\n            epochs=100,\\n            num_threads=8,\\n            verbose=True,\\n        )\\n        return self\\n\\n    def model_recommend(self, user_ids, interactions):\\n        user_ids, item_ids = np.meshgrid(\\n            user_ids, range(len(self.sparse_interface.organisations)), indexing=\\\"ij\\\"\\n        )\\n\\n        recommendations = self.model.predict(\\n            user_ids=user_ids.flatten(),\\n            item_ids=item_ids.flatten(),\\n            user_features=self.user_features,\\n            item_features=self.item_features,\\n            num_threads=8,\\n        ).reshape(user_ids.shape)\\n\\n        return recommendations\";\n",
       "                var nbb_cells = Jupyter.notebook.get_cells();\n",
       "                for (var i = 0; i < nbb_cells.length; ++i) {\n",
       "                    if (nbb_cells[i].input_prompt_number == nbb_cell_id) {\n",
       "                        if (nbb_cells[i].get_text() == nbb_unformatted_code) {\n",
       "                             nbb_cells[i].set_text(nbb_formatted_code);\n",
       "                        }\n",
       "                        break;\n",
       "                    }\n",
       "                }\n",
       "            }, 500);\n",
       "            "
      ],
      "text/plain": [
       "<IPython.core.display.Javascript object>"
      ]
     },
     "metadata": {},
     "output_type": "display_data"
    }
   ],
   "source": [
    "# TODO: add aspects, gridsearch\n",
    "from lightfm import LightFM\n",
    "\n",
    "\n",
    "class LightRecommender(BatchRecommender):\n",
    "    def __init__(self, *args, with_features=True, **kwargs):\n",
    "        super().__init__(*args, **kwargs)\n",
    "        self.with_features = with_features\n",
    "        self.user_features = (\n",
    "            self.sparse_interface.user_features if with_features else None\n",
    "        )\n",
    "        self.item_features = (\n",
    "            self.sparse_interface.item_features if with_features else None\n",
    "        )\n",
    "\n",
    "    def fit(self, reviews):\n",
    "        self.sparse_interface.build_interactions(reviews)\n",
    "        self.interactions = csr_matrix(self.sparse_interface.interactions_weighted)\n",
    "        self.model.fit(\n",
    "            interactions=self.sparse_interface.interactions,\n",
    "            sample_weight=self.sparse_interface.interactions_weighted,\n",
    "            user_features=self.user_features,\n",
    "            item_features=self.item_features,\n",
    "            epochs=100,\n",
    "            num_threads=8,\n",
    "            verbose=True,\n",
    "        )\n",
    "        return self\n",
    "\n",
    "    def model_recommend(self, user_ids, interactions):\n",
    "        user_ids, item_ids = np.meshgrid(\n",
    "            user_ids, range(len(self.sparse_interface.organisations)), indexing=\"ij\"\n",
    "        )\n",
    "\n",
    "        recommendations = self.model.predict(\n",
    "            user_ids=user_ids.flatten(),\n",
    "            item_ids=item_ids.flatten(),\n",
    "            user_features=self.user_features,\n",
    "            item_features=self.item_features,\n",
    "            num_threads=8,\n",
    "        ).reshape(user_ids.shape)\n",
    "\n",
    "        return recommendations"
   ]
  },
  {
   "cell_type": "code",
   "execution_count": null,
   "metadata": {
    "ExecuteTime": {
     "start_time": "2022-08-09T06:55:41.450Z"
    }
   },
   "outputs": [
    {
     "name": "stderr",
     "output_type": "stream",
     "text": [
      "Epoch: 100%|██████████| 100/100 [00:15<00:00,  6.44it/s]\n"
     ]
    },
    {
     "data": {
      "application/vnd.jupyter.widget-view+json": {
       "model_id": "c4fd4f9e92fc4a799184d0018d487433",
       "version_major": 2,
       "version_minor": 0
      },
      "text/plain": [
       "Predicting:   0%|          | 0/28 [00:00<?, ?it/s]"
      ]
     },
     "metadata": {},
     "output_type": "display_data"
    }
   ],
   "source": [
    "light_models = {\n",
    "    \"light\": LightRecommender(sparse_interface, LightFM()),\n",
    "    \"light_no_features\": LightRecommender(\n",
    "        sparse_interface, LightFM(), with_features=False\n",
    "    ),\n",
    "}\n",
    "assessor.assess(light_models)"
   ]
  },
  {
   "cell_type": "markdown",
   "metadata": {},
   "source": [
    "**(1.0 балла) Задание 9.**\n",
    "\n",
    "   Посмотрим на все прошлые методы как на модели, которые генерируют нам кандидатов для ответа рекомендательной системы. \n",
    "   \n",
    "   Как нам выбрать те 20 организаций наилучшим образом? \n",
    "   \n",
    "   Давайте подключим машинное обучение. Сформулируем задачу ранжирования: запросом будет пользователь. Документами будут организации. Наивным признаковым описанием будет, например, факт рекомендации данной организации или скор/ранг от моделей SVD, ALS, LightFM.\n",
    "   Примените catboost/xgboost/lightgbm для создания переранжирования рекомендаций. То есть сделаем двухуровневую модель. Выясните наиболее важные признаки моделей первого уровня."
   ]
  },
  {
   "cell_type": "code",
   "execution_count": null,
   "metadata": {
    "ExecuteTime": {
     "start_time": "2022-08-09T06:56:26.358Z"
    }
   },
   "outputs": [],
   "source": [
    "train_model_ranks = []\n",
    "for model_name, assessment in assessor.assessments.items():\n",
    "    train_recommendations = assessment[\"train_recommendations\"]\n",
    "    model_ranks.append(\n",
    "        pd.concat(\n",
    "            [\n",
    "                column.pipe(lambda column: column[column != 0]).pipe(\n",
    "                    lambda column: pd.Series(\n",
    "                        rank, pd.MultiIndex.from_arrays([column.index, column.values])\n",
    "                    )\n",
    "                )\n",
    "                for rank, (column_name, column) in enumerate(\n",
    "                    train_recommendations.iteritems()\n",
    "                )\n",
    "            ]\n",
    "        )\n",
    "        .rename(model_name)\n",
    "        .pipe(lambda df: df.loc[~df.index.duplicated(keep=\"first\")])\n",
    "    )\n",
    "train_model_ranks = pd.concat(train_model_ranks, axis=\"columns\")"
   ]
  },
  {
   "cell_type": "code",
   "execution_count": null,
   "metadata": {
    "ExecuteTime": {
     "start_time": "2022-08-09T06:56:27.274Z"
    }
   },
   "outputs": [],
   "source": [
    "train_model_ranks"
   ]
  },
  {
   "cell_type": "code",
   "execution_count": 36,
   "metadata": {
    "ExecuteTime": {
     "end_time": "2022-08-09T06:19:49.555302Z",
     "start_time": "2022-08-09T06:19:49.526165Z"
    }
   },
   "outputs": [
    {
     "data": {
      "application/javascript": [
       "\n",
       "            setTimeout(function() {\n",
       "                var nbb_cell_id = 36;\n",
       "                var nbb_unformatted_code = \"import catboost\";\n",
       "                var nbb_formatted_code = \"import catboost\";\n",
       "                var nbb_cells = Jupyter.notebook.get_cells();\n",
       "                for (var i = 0; i < nbb_cells.length; ++i) {\n",
       "                    if (nbb_cells[i].input_prompt_number == nbb_cell_id) {\n",
       "                        if (nbb_cells[i].get_text() == nbb_unformatted_code) {\n",
       "                             nbb_cells[i].set_text(nbb_formatted_code);\n",
       "                        }\n",
       "                        break;\n",
       "                    }\n",
       "                }\n",
       "            }, 500);\n",
       "            "
      ],
      "text/plain": [
       "<IPython.core.display.Javascript object>"
      ]
     },
     "metadata": {},
     "output_type": "display_data"
    }
   ],
   "source": [
    "import catboost"
   ]
  },
  {
   "cell_type": "code",
   "execution_count": 105,
   "metadata": {
    "ExecuteTime": {
     "end_time": "2022-08-09T06:49:06.646383Z",
     "start_time": "2022-08-09T06:49:05.496658Z"
    }
   },
   "outputs": [
    {
     "data": {
      "application/javascript": [
       "\n",
       "            setTimeout(function() {\n",
       "                var nbb_cell_id = 105;\n",
       "                var nbb_unformatted_code = \"# what to do with unknown y?\\nX = model_ranks.reset_index(drop=True).fillna(-1).astype(int)\\ngroup_id = sparse_interface.user_ids_to_latent(\\n    model_ranks.index.get_level_values(0)\\n).values\\ny = validation_reviews.set_index([\\\"user_id\\\", \\\"org_id\\\"])[\\\"rating\\\"].reindex(\\n    model_ranks.index\\n).fillna(0)\";\n",
       "                var nbb_formatted_code = \"# what to do with unknown y?\\nX = model_ranks.reset_index(drop=True).fillna(-1).astype(int)\\ngroup_id = sparse_interface.user_ids_to_latent(\\n    model_ranks.index.get_level_values(0)\\n).values\\ny = (\\n    validation_reviews.set_index([\\\"user_id\\\", \\\"org_id\\\"])[\\\"rating\\\"]\\n    .reindex(model_ranks.index)\\n    .fillna(0)\\n)\";\n",
       "                var nbb_cells = Jupyter.notebook.get_cells();\n",
       "                for (var i = 0; i < nbb_cells.length; ++i) {\n",
       "                    if (nbb_cells[i].input_prompt_number == nbb_cell_id) {\n",
       "                        if (nbb_cells[i].get_text() == nbb_unformatted_code) {\n",
       "                             nbb_cells[i].set_text(nbb_formatted_code);\n",
       "                        }\n",
       "                        break;\n",
       "                    }\n",
       "                }\n",
       "            }, 500);\n",
       "            "
      ],
      "text/plain": [
       "<IPython.core.display.Javascript object>"
      ]
     },
     "metadata": {},
     "output_type": "display_data"
    }
   ],
   "source": [
    "# what to do with unknown y?\n",
    "# scale item, user features\n",
    "X = model_ranks.reset_index(drop=True).fillna(-1).astype(int)\n",
    "group_id = sparse_interface.user_ids_to_latent(\n",
    "    model_ranks.index.get_level_values(0)\n",
    ").values\n",
    "y = (\n",
    "    validation_reviews.set_index([\"user_id\", \"org_id\"])[\"rating\"]\n",
    "    .reindex(model_ranks.index)\n",
    "    .fillna(0)\n",
    ")"
   ]
  },
  {
   "cell_type": "code",
   "execution_count": 106,
   "metadata": {
    "ExecuteTime": {
     "end_time": "2022-08-09T06:49:08.454218Z",
     "start_time": "2022-08-09T06:49:08.446563Z"
    }
   },
   "outputs": [
    {
     "data": {
      "application/javascript": [
       "\n",
       "            setTimeout(function() {\n",
       "                var nbb_cell_id = 106;\n",
       "                var nbb_unformatted_code = \"cb_ranker = catboost.CatBoostRanker()\";\n",
       "                var nbb_formatted_code = \"cb_ranker = catboost.CatBoostRanker()\";\n",
       "                var nbb_cells = Jupyter.notebook.get_cells();\n",
       "                for (var i = 0; i < nbb_cells.length; ++i) {\n",
       "                    if (nbb_cells[i].input_prompt_number == nbb_cell_id) {\n",
       "                        if (nbb_cells[i].get_text() == nbb_unformatted_code) {\n",
       "                             nbb_cells[i].set_text(nbb_formatted_code);\n",
       "                        }\n",
       "                        break;\n",
       "                    }\n",
       "                }\n",
       "            }, 500);\n",
       "            "
      ],
      "text/plain": [
       "<IPython.core.display.Javascript object>"
      ]
     },
     "metadata": {},
     "output_type": "display_data"
    }
   ],
   "source": [
    "cb_ranker = catboost.CatBoostRanker()"
   ]
  },
  {
   "cell_type": "code",
   "execution_count": 107,
   "metadata": {
    "ExecuteTime": {
     "end_time": "2022-08-09T06:50:30.171069Z",
     "start_time": "2022-08-09T06:49:08.607520Z"
    }
   },
   "outputs": [
    {
     "name": "stdout",
     "output_type": "stream",
     "text": [
      "Groupwise loss function. OneHotMaxSize set to 10\n",
      "0:\ttotal: 259ms\tremaining: 4m 18s\n",
      "1:\ttotal: 421ms\tremaining: 3m 30s\n",
      "2:\ttotal: 583ms\tremaining: 3m 13s\n",
      "3:\ttotal: 700ms\tremaining: 2m 54s\n",
      "4:\ttotal: 815ms\tremaining: 2m 42s\n",
      "5:\ttotal: 932ms\tremaining: 2m 34s\n",
      "6:\ttotal: 1.04s\tremaining: 2m 28s\n",
      "7:\ttotal: 1.17s\tremaining: 2m 25s\n",
      "8:\ttotal: 1.29s\tremaining: 2m 21s\n",
      "9:\ttotal: 1.4s\tremaining: 2m 18s\n",
      "10:\ttotal: 1.52s\tremaining: 2m 16s\n",
      "11:\ttotal: 1.65s\tremaining: 2m 15s\n",
      "12:\ttotal: 1.77s\tremaining: 2m 14s\n",
      "13:\ttotal: 1.89s\tremaining: 2m 12s\n",
      "14:\ttotal: 2.01s\tremaining: 2m 11s\n",
      "15:\ttotal: 2.12s\tremaining: 2m 10s\n",
      "16:\ttotal: 2.24s\tremaining: 2m 9s\n",
      "17:\ttotal: 2.35s\tremaining: 2m 8s\n",
      "18:\ttotal: 2.47s\tremaining: 2m 7s\n",
      "19:\ttotal: 2.6s\tremaining: 2m 7s\n",
      "20:\ttotal: 2.71s\tremaining: 2m 6s\n",
      "21:\ttotal: 2.83s\tremaining: 2m 5s\n",
      "22:\ttotal: 2.94s\tremaining: 2m 4s\n",
      "23:\ttotal: 3.06s\tremaining: 2m 4s\n",
      "24:\ttotal: 3.19s\tremaining: 2m 4s\n",
      "25:\ttotal: 3.31s\tremaining: 2m 3s\n",
      "26:\ttotal: 3.44s\tremaining: 2m 4s\n",
      "27:\ttotal: 3.56s\tremaining: 2m 3s\n",
      "28:\ttotal: 3.69s\tremaining: 2m 3s\n",
      "29:\ttotal: 3.84s\tremaining: 2m 4s\n",
      "30:\ttotal: 3.96s\tremaining: 2m 3s\n",
      "31:\ttotal: 4.11s\tremaining: 2m 4s\n",
      "32:\ttotal: 4.26s\tremaining: 2m 4s\n",
      "33:\ttotal: 4.39s\tremaining: 2m 4s\n",
      "34:\ttotal: 4.52s\tremaining: 2m 4s\n",
      "35:\ttotal: 4.68s\tremaining: 2m 5s\n",
      "36:\ttotal: 4.85s\tremaining: 2m 6s\n",
      "37:\ttotal: 4.99s\tremaining: 2m 6s\n",
      "38:\ttotal: 5.15s\tremaining: 2m 6s\n",
      "39:\ttotal: 5.28s\tremaining: 2m 6s\n",
      "40:\ttotal: 5.42s\tremaining: 2m 6s\n",
      "41:\ttotal: 5.57s\tremaining: 2m 7s\n",
      "42:\ttotal: 5.77s\tremaining: 2m 8s\n",
      "43:\ttotal: 5.96s\tremaining: 2m 9s\n",
      "44:\ttotal: 6.14s\tremaining: 2m 10s\n",
      "45:\ttotal: 6.3s\tremaining: 2m 10s\n",
      "46:\ttotal: 6.44s\tremaining: 2m 10s\n",
      "47:\ttotal: 6.58s\tremaining: 2m 10s\n",
      "48:\ttotal: 6.74s\tremaining: 2m 10s\n",
      "49:\ttotal: 6.87s\tremaining: 2m 10s\n",
      "50:\ttotal: 7.01s\tremaining: 2m 10s\n",
      "51:\ttotal: 7.15s\tremaining: 2m 10s\n",
      "52:\ttotal: 7.31s\tremaining: 2m 10s\n",
      "53:\ttotal: 7.47s\tremaining: 2m 10s\n",
      "54:\ttotal: 7.61s\tremaining: 2m 10s\n",
      "55:\ttotal: 7.77s\tremaining: 2m 10s\n",
      "56:\ttotal: 7.96s\tremaining: 2m 11s\n",
      "57:\ttotal: 8.13s\tremaining: 2m 12s\n",
      "58:\ttotal: 8.28s\tremaining: 2m 12s\n",
      "59:\ttotal: 8.42s\tremaining: 2m 11s\n",
      "60:\ttotal: 8.57s\tremaining: 2m 11s\n",
      "61:\ttotal: 8.71s\tremaining: 2m 11s\n",
      "62:\ttotal: 8.84s\tremaining: 2m 11s\n",
      "63:\ttotal: 8.99s\tremaining: 2m 11s\n",
      "64:\ttotal: 9.19s\tremaining: 2m 12s\n",
      "65:\ttotal: 9.33s\tremaining: 2m 12s\n",
      "66:\ttotal: 9.48s\tremaining: 2m 12s\n",
      "67:\ttotal: 9.63s\tremaining: 2m 11s\n",
      "68:\ttotal: 9.8s\tremaining: 2m 12s\n",
      "69:\ttotal: 10s\tremaining: 2m 13s\n",
      "70:\ttotal: 10.2s\tremaining: 2m 13s\n",
      "71:\ttotal: 10.4s\tremaining: 2m 14s\n",
      "72:\ttotal: 10.6s\tremaining: 2m 14s\n",
      "73:\ttotal: 10.7s\tremaining: 2m 14s\n",
      "74:\ttotal: 10.9s\tremaining: 2m 14s\n",
      "75:\ttotal: 11.1s\tremaining: 2m 14s\n",
      "76:\ttotal: 11.2s\tremaining: 2m 14s\n",
      "77:\ttotal: 11.4s\tremaining: 2m 14s\n",
      "78:\ttotal: 11.6s\tremaining: 2m 15s\n",
      "79:\ttotal: 11.8s\tremaining: 2m 15s\n",
      "80:\ttotal: 11.9s\tremaining: 2m 15s\n",
      "81:\ttotal: 12.2s\tremaining: 2m 16s\n",
      "82:\ttotal: 12.3s\tremaining: 2m 16s\n",
      "83:\ttotal: 12.5s\tremaining: 2m 15s\n",
      "84:\ttotal: 12.6s\tremaining: 2m 16s\n",
      "85:\ttotal: 12.8s\tremaining: 2m 16s\n",
      "86:\ttotal: 13s\tremaining: 2m 16s\n",
      "87:\ttotal: 13.2s\tremaining: 2m 16s\n",
      "88:\ttotal: 13.4s\tremaining: 2m 17s\n",
      "89:\ttotal: 13.6s\tremaining: 2m 17s\n",
      "90:\ttotal: 13.7s\tremaining: 2m 17s\n",
      "91:\ttotal: 13.9s\tremaining: 2m 17s\n",
      "92:\ttotal: 14.1s\tremaining: 2m 17s\n",
      "93:\ttotal: 14.2s\tremaining: 2m 16s\n",
      "94:\ttotal: 14.3s\tremaining: 2m 16s\n",
      "95:\ttotal: 14.5s\tremaining: 2m 16s\n",
      "96:\ttotal: 14.7s\tremaining: 2m 16s\n",
      "97:\ttotal: 14.9s\tremaining: 2m 16s\n",
      "98:\ttotal: 15.1s\tremaining: 2m 17s\n",
      "99:\ttotal: 15.3s\tremaining: 2m 17s\n",
      "100:\ttotal: 15.5s\tremaining: 2m 17s\n",
      "101:\ttotal: 15.7s\tremaining: 2m 17s\n",
      "102:\ttotal: 15.8s\tremaining: 2m 17s\n",
      "103:\ttotal: 16s\tremaining: 2m 17s\n",
      "104:\ttotal: 16.1s\tremaining: 2m 17s\n",
      "105:\ttotal: 16.3s\tremaining: 2m 17s\n",
      "106:\ttotal: 16.4s\tremaining: 2m 17s\n",
      "107:\ttotal: 16.6s\tremaining: 2m 17s\n",
      "108:\ttotal: 16.7s\tremaining: 2m 16s\n",
      "109:\ttotal: 16.9s\tremaining: 2m 16s\n",
      "110:\ttotal: 17.1s\tremaining: 2m 16s\n",
      "111:\ttotal: 17.2s\tremaining: 2m 16s\n",
      "112:\ttotal: 17.4s\tremaining: 2m 16s\n",
      "113:\ttotal: 17.5s\tremaining: 2m 16s\n",
      "114:\ttotal: 17.7s\tremaining: 2m 16s\n",
      "115:\ttotal: 17.8s\tremaining: 2m 15s\n",
      "116:\ttotal: 18s\tremaining: 2m 15s\n",
      "117:\ttotal: 18.1s\tremaining: 2m 15s\n",
      "118:\ttotal: 18.3s\tremaining: 2m 15s\n",
      "119:\ttotal: 18.5s\tremaining: 2m 15s\n",
      "120:\ttotal: 18.6s\tremaining: 2m 15s\n",
      "121:\ttotal: 18.8s\tremaining: 2m 15s\n",
      "122:\ttotal: 19s\tremaining: 2m 15s\n",
      "123:\ttotal: 19.2s\tremaining: 2m 15s\n",
      "124:\ttotal: 19.3s\tremaining: 2m 15s\n",
      "125:\ttotal: 19.5s\tremaining: 2m 15s\n",
      "126:\ttotal: 19.6s\tremaining: 2m 14s\n",
      "127:\ttotal: 19.8s\tremaining: 2m 14s\n",
      "128:\ttotal: 19.9s\tremaining: 2m 14s\n",
      "129:\ttotal: 20.1s\tremaining: 2m 14s\n",
      "130:\ttotal: 20.3s\tremaining: 2m 14s\n",
      "131:\ttotal: 20.5s\tremaining: 2m 14s\n",
      "132:\ttotal: 20.6s\tremaining: 2m 14s\n",
      "133:\ttotal: 20.8s\tremaining: 2m 14s\n",
      "134:\ttotal: 21s\tremaining: 2m 14s\n",
      "135:\ttotal: 21.1s\tremaining: 2m 14s\n",
      "136:\ttotal: 21.3s\tremaining: 2m 14s\n",
      "137:\ttotal: 21.4s\tremaining: 2m 13s\n",
      "138:\ttotal: 21.6s\tremaining: 2m 13s\n",
      "139:\ttotal: 21.7s\tremaining: 2m 13s\n",
      "140:\ttotal: 21.9s\tremaining: 2m 13s\n",
      "141:\ttotal: 22.1s\tremaining: 2m 13s\n",
      "142:\ttotal: 22.2s\tremaining: 2m 13s\n",
      "143:\ttotal: 22.4s\tremaining: 2m 13s\n",
      "144:\ttotal: 22.6s\tremaining: 2m 13s\n",
      "145:\ttotal: 22.8s\tremaining: 2m 13s\n",
      "146:\ttotal: 22.9s\tremaining: 2m 13s\n",
      "147:\ttotal: 23.1s\tremaining: 2m 12s\n",
      "148:\ttotal: 23.2s\tremaining: 2m 12s\n",
      "149:\ttotal: 23.4s\tremaining: 2m 12s\n",
      "150:\ttotal: 23.6s\tremaining: 2m 12s\n",
      "151:\ttotal: 23.7s\tremaining: 2m 12s\n",
      "152:\ttotal: 23.9s\tremaining: 2m 12s\n",
      "153:\ttotal: 24.1s\tremaining: 2m 12s\n",
      "154:\ttotal: 24.2s\tremaining: 2m 12s\n",
      "155:\ttotal: 24.4s\tremaining: 2m 12s\n",
      "156:\ttotal: 24.6s\tremaining: 2m 12s\n",
      "157:\ttotal: 24.7s\tremaining: 2m 11s\n",
      "158:\ttotal: 24.9s\tremaining: 2m 11s\n",
      "159:\ttotal: 25s\tremaining: 2m 11s\n",
      "160:\ttotal: 25.2s\tremaining: 2m 11s\n",
      "161:\ttotal: 25.4s\tremaining: 2m 11s\n",
      "162:\ttotal: 25.5s\tremaining: 2m 11s\n",
      "163:\ttotal: 25.7s\tremaining: 2m 11s\n",
      "164:\ttotal: 25.9s\tremaining: 2m 11s\n",
      "165:\ttotal: 26.1s\tremaining: 2m 11s\n",
      "166:\ttotal: 26.3s\tremaining: 2m 11s\n",
      "167:\ttotal: 26.4s\tremaining: 2m 10s\n",
      "168:\ttotal: 26.6s\tremaining: 2m 10s\n",
      "169:\ttotal: 26.8s\tremaining: 2m 10s\n",
      "170:\ttotal: 26.9s\tremaining: 2m 10s\n",
      "171:\ttotal: 27.1s\tremaining: 2m 10s\n",
      "172:\ttotal: 27.3s\tremaining: 2m 10s\n",
      "173:\ttotal: 27.5s\tremaining: 2m 10s\n",
      "174:\ttotal: 27.6s\tremaining: 2m 10s\n",
      "175:\ttotal: 27.8s\tremaining: 2m 10s\n",
      "176:\ttotal: 28s\tremaining: 2m 10s\n",
      "177:\ttotal: 28.2s\tremaining: 2m 10s\n",
      "178:\ttotal: 28.3s\tremaining: 2m 10s\n",
      "179:\ttotal: 28.5s\tremaining: 2m 9s\n",
      "180:\ttotal: 28.8s\tremaining: 2m 10s\n",
      "181:\ttotal: 29s\tremaining: 2m 10s\n",
      "182:\ttotal: 29.3s\tremaining: 2m 10s\n",
      "183:\ttotal: 29.4s\tremaining: 2m 10s\n",
      "184:\ttotal: 29.7s\tremaining: 2m 10s\n",
      "185:\ttotal: 30s\tremaining: 2m 11s\n",
      "186:\ttotal: 30.2s\tremaining: 2m 11s\n",
      "187:\ttotal: 30.4s\tremaining: 2m 11s\n",
      "188:\ttotal: 30.6s\tremaining: 2m 11s\n",
      "189:\ttotal: 30.8s\tremaining: 2m 11s\n",
      "190:\ttotal: 31s\tremaining: 2m 11s\n",
      "191:\ttotal: 31.1s\tremaining: 2m 10s\n",
      "192:\ttotal: 31.2s\tremaining: 2m 10s\n",
      "193:\ttotal: 31.4s\tremaining: 2m 10s\n",
      "194:\ttotal: 31.6s\tremaining: 2m 10s\n",
      "195:\ttotal: 31.8s\tremaining: 2m 10s\n",
      "196:\ttotal: 31.9s\tremaining: 2m 10s\n",
      "197:\ttotal: 32.1s\tremaining: 2m 9s\n",
      "198:\ttotal: 32.2s\tremaining: 2m 9s\n",
      "199:\ttotal: 32.4s\tremaining: 2m 9s\n",
      "200:\ttotal: 32.5s\tremaining: 2m 9s\n",
      "201:\ttotal: 32.7s\tremaining: 2m 9s\n",
      "202:\ttotal: 32.9s\tremaining: 2m 9s\n",
      "203:\ttotal: 33s\tremaining: 2m 8s\n",
      "204:\ttotal: 33.2s\tremaining: 2m 8s\n",
      "205:\ttotal: 33.4s\tremaining: 2m 8s\n",
      "206:\ttotal: 33.6s\tremaining: 2m 8s\n",
      "207:\ttotal: 33.7s\tremaining: 2m 8s\n",
      "208:\ttotal: 33.9s\tremaining: 2m 8s\n",
      "209:\ttotal: 34.1s\tremaining: 2m 8s\n",
      "210:\ttotal: 34.2s\tremaining: 2m 8s\n",
      "211:\ttotal: 34.4s\tremaining: 2m 7s\n",
      "212:\ttotal: 34.6s\tremaining: 2m 7s\n",
      "213:\ttotal: 34.8s\tremaining: 2m 7s\n",
      "214:\ttotal: 34.9s\tremaining: 2m 7s\n",
      "215:\ttotal: 35.1s\tremaining: 2m 7s\n",
      "216:\ttotal: 35.3s\tremaining: 2m 7s\n",
      "217:\ttotal: 35.5s\tremaining: 2m 7s\n",
      "218:\ttotal: 35.7s\tremaining: 2m 7s\n",
      "219:\ttotal: 35.8s\tremaining: 2m 7s\n",
      "220:\ttotal: 36s\tremaining: 2m 7s\n",
      "221:\ttotal: 36.2s\tremaining: 2m 6s\n",
      "222:\ttotal: 36.4s\tremaining: 2m 6s\n",
      "223:\ttotal: 36.6s\tremaining: 2m 6s\n",
      "224:\ttotal: 36.7s\tremaining: 2m 6s\n",
      "225:\ttotal: 36.9s\tremaining: 2m 6s\n",
      "226:\ttotal: 37.1s\tremaining: 2m 6s\n",
      "227:\ttotal: 37.2s\tremaining: 2m 6s\n",
      "228:\ttotal: 37.4s\tremaining: 2m 5s\n",
      "229:\ttotal: 37.6s\tremaining: 2m 5s\n",
      "230:\ttotal: 37.8s\tremaining: 2m 5s\n",
      "231:\ttotal: 38s\tremaining: 2m 5s\n",
      "232:\ttotal: 38.2s\tremaining: 2m 5s\n"
     ]
    },
    {
     "name": "stdout",
     "output_type": "stream",
     "text": [
      "233:\ttotal: 38.3s\tremaining: 2m 5s\n",
      "234:\ttotal: 38.5s\tremaining: 2m 5s\n",
      "235:\ttotal: 38.7s\tremaining: 2m 5s\n",
      "236:\ttotal: 38.8s\tremaining: 2m 5s\n",
      "237:\ttotal: 39s\tremaining: 2m 4s\n",
      "238:\ttotal: 39.2s\tremaining: 2m 4s\n",
      "239:\ttotal: 39.3s\tremaining: 2m 4s\n",
      "240:\ttotal: 39.5s\tremaining: 2m 4s\n",
      "241:\ttotal: 39.7s\tremaining: 2m 4s\n",
      "242:\ttotal: 39.9s\tremaining: 2m 4s\n",
      "243:\ttotal: 40s\tremaining: 2m 4s\n",
      "244:\ttotal: 40.2s\tremaining: 2m 4s\n",
      "245:\ttotal: 40.4s\tremaining: 2m 3s\n",
      "246:\ttotal: 40.6s\tremaining: 2m 3s\n",
      "247:\ttotal: 40.8s\tremaining: 2m 3s\n",
      "248:\ttotal: 40.9s\tremaining: 2m 3s\n",
      "249:\ttotal: 41.1s\tremaining: 2m 3s\n",
      "250:\ttotal: 41.3s\tremaining: 2m 3s\n",
      "251:\ttotal: 41.4s\tremaining: 2m 2s\n",
      "252:\ttotal: 41.6s\tremaining: 2m 2s\n",
      "253:\ttotal: 41.7s\tremaining: 2m 2s\n",
      "254:\ttotal: 41.9s\tremaining: 2m 2s\n",
      "255:\ttotal: 42s\tremaining: 2m 2s\n",
      "256:\ttotal: 42.2s\tremaining: 2m 2s\n",
      "257:\ttotal: 42.4s\tremaining: 2m 1s\n",
      "258:\ttotal: 42.6s\tremaining: 2m 1s\n",
      "259:\ttotal: 42.7s\tremaining: 2m 1s\n",
      "260:\ttotal: 42.9s\tremaining: 2m 1s\n",
      "261:\ttotal: 43.1s\tremaining: 2m 1s\n",
      "262:\ttotal: 43.3s\tremaining: 2m 1s\n",
      "263:\ttotal: 43.5s\tremaining: 2m 1s\n",
      "264:\ttotal: 43.6s\tremaining: 2m 1s\n",
      "265:\ttotal: 43.8s\tremaining: 2m\n",
      "266:\ttotal: 44s\tremaining: 2m\n",
      "267:\ttotal: 44.2s\tremaining: 2m\n",
      "268:\ttotal: 44.3s\tremaining: 2m\n",
      "269:\ttotal: 44.5s\tremaining: 2m\n",
      "270:\ttotal: 44.7s\tremaining: 2m\n",
      "271:\ttotal: 44.8s\tremaining: 2m\n",
      "272:\ttotal: 45s\tremaining: 1m 59s\n",
      "273:\ttotal: 45.2s\tremaining: 1m 59s\n",
      "274:\ttotal: 45.4s\tremaining: 1m 59s\n",
      "275:\ttotal: 45.6s\tremaining: 1m 59s\n",
      "276:\ttotal: 45.7s\tremaining: 1m 59s\n",
      "277:\ttotal: 45.9s\tremaining: 1m 59s\n",
      "278:\ttotal: 46.1s\tremaining: 1m 59s\n",
      "279:\ttotal: 46.2s\tremaining: 1m 58s\n",
      "280:\ttotal: 46.4s\tremaining: 1m 58s\n",
      "281:\ttotal: 46.6s\tremaining: 1m 58s\n",
      "282:\ttotal: 46.8s\tremaining: 1m 58s\n",
      "283:\ttotal: 47s\tremaining: 1m 58s\n",
      "284:\ttotal: 47.1s\tremaining: 1m 58s\n",
      "285:\ttotal: 47.2s\tremaining: 1m 57s\n",
      "286:\ttotal: 47.4s\tremaining: 1m 57s\n",
      "287:\ttotal: 47.6s\tremaining: 1m 57s\n",
      "288:\ttotal: 47.7s\tremaining: 1m 57s\n",
      "289:\ttotal: 47.9s\tremaining: 1m 57s\n",
      "290:\ttotal: 48.1s\tremaining: 1m 57s\n",
      "291:\ttotal: 48.2s\tremaining: 1m 56s\n",
      "292:\ttotal: 48.4s\tremaining: 1m 56s\n",
      "293:\ttotal: 48.6s\tremaining: 1m 56s\n",
      "294:\ttotal: 48.7s\tremaining: 1m 56s\n",
      "295:\ttotal: 48.9s\tremaining: 1m 56s\n",
      "296:\ttotal: 49.1s\tremaining: 1m 56s\n",
      "297:\ttotal: 49.2s\tremaining: 1m 55s\n",
      "298:\ttotal: 49.4s\tremaining: 1m 55s\n",
      "299:\ttotal: 49.6s\tremaining: 1m 55s\n",
      "300:\ttotal: 49.8s\tremaining: 1m 55s\n",
      "301:\ttotal: 49.9s\tremaining: 1m 55s\n",
      "302:\ttotal: 50.1s\tremaining: 1m 55s\n",
      "303:\ttotal: 50.3s\tremaining: 1m 55s\n",
      "304:\ttotal: 50.5s\tremaining: 1m 54s\n",
      "305:\ttotal: 50.6s\tremaining: 1m 54s\n",
      "306:\ttotal: 50.8s\tremaining: 1m 54s\n",
      "307:\ttotal: 50.9s\tremaining: 1m 54s\n",
      "308:\ttotal: 51.1s\tremaining: 1m 54s\n",
      "309:\ttotal: 51.3s\tremaining: 1m 54s\n",
      "310:\ttotal: 51.5s\tremaining: 1m 54s\n",
      "311:\ttotal: 51.6s\tremaining: 1m 53s\n",
      "312:\ttotal: 51.8s\tremaining: 1m 53s\n",
      "313:\ttotal: 52s\tremaining: 1m 53s\n",
      "314:\ttotal: 52.1s\tremaining: 1m 53s\n",
      "315:\ttotal: 52.3s\tremaining: 1m 53s\n",
      "316:\ttotal: 52.5s\tremaining: 1m 53s\n",
      "317:\ttotal: 52.6s\tremaining: 1m 52s\n",
      "318:\ttotal: 52.8s\tremaining: 1m 52s\n",
      "319:\ttotal: 53s\tremaining: 1m 52s\n",
      "320:\ttotal: 53.2s\tremaining: 1m 52s\n",
      "321:\ttotal: 53.4s\tremaining: 1m 52s\n",
      "322:\ttotal: 53.5s\tremaining: 1m 52s\n",
      "323:\ttotal: 53.7s\tremaining: 1m 52s\n",
      "324:\ttotal: 53.9s\tremaining: 1m 51s\n",
      "325:\ttotal: 54.1s\tremaining: 1m 51s\n",
      "326:\ttotal: 54.2s\tremaining: 1m 51s\n",
      "327:\ttotal: 54.4s\tremaining: 1m 51s\n",
      "328:\ttotal: 54.6s\tremaining: 1m 51s\n",
      "329:\ttotal: 54.7s\tremaining: 1m 51s\n",
      "330:\ttotal: 54.9s\tremaining: 1m 50s\n",
      "331:\ttotal: 55s\tremaining: 1m 50s\n",
      "332:\ttotal: 55.2s\tremaining: 1m 50s\n",
      "333:\ttotal: 55.4s\tremaining: 1m 50s\n",
      "334:\ttotal: 55.6s\tremaining: 1m 50s\n",
      "335:\ttotal: 55.7s\tremaining: 1m 50s\n",
      "336:\ttotal: 55.9s\tremaining: 1m 49s\n",
      "337:\ttotal: 56s\tremaining: 1m 49s\n",
      "338:\ttotal: 56.2s\tremaining: 1m 49s\n",
      "339:\ttotal: 56.4s\tremaining: 1m 49s\n",
      "340:\ttotal: 56.6s\tremaining: 1m 49s\n",
      "341:\ttotal: 56.7s\tremaining: 1m 49s\n",
      "342:\ttotal: 56.9s\tremaining: 1m 49s\n",
      "343:\ttotal: 57.1s\tremaining: 1m 48s\n",
      "344:\ttotal: 57.2s\tremaining: 1m 48s\n",
      "345:\ttotal: 57.4s\tremaining: 1m 48s\n",
      "346:\ttotal: 57.6s\tremaining: 1m 48s\n",
      "347:\ttotal: 57.8s\tremaining: 1m 48s\n",
      "348:\ttotal: 57.9s\tremaining: 1m 48s\n",
      "349:\ttotal: 58s\tremaining: 1m 47s\n",
      "350:\ttotal: 58.2s\tremaining: 1m 47s\n",
      "351:\ttotal: 58.4s\tremaining: 1m 47s\n",
      "352:\ttotal: 58.6s\tremaining: 1m 47s\n",
      "353:\ttotal: 58.7s\tremaining: 1m 47s\n",
      "354:\ttotal: 58.9s\tremaining: 1m 47s\n",
      "355:\ttotal: 59.1s\tremaining: 1m 46s\n",
      "356:\ttotal: 59.2s\tremaining: 1m 46s\n",
      "357:\ttotal: 59.4s\tremaining: 1m 46s\n",
      "358:\ttotal: 59.6s\tremaining: 1m 46s\n",
      "359:\ttotal: 59.8s\tremaining: 1m 46s\n",
      "360:\ttotal: 59.9s\tremaining: 1m 46s\n",
      "361:\ttotal: 1m\tremaining: 1m 45s\n",
      "362:\ttotal: 1m\tremaining: 1m 45s\n",
      "363:\ttotal: 1m\tremaining: 1m 45s\n",
      "364:\ttotal: 1m\tremaining: 1m 45s\n",
      "365:\ttotal: 1m\tremaining: 1m 45s\n",
      "366:\ttotal: 1m\tremaining: 1m 45s\n",
      "367:\ttotal: 1m 1s\tremaining: 1m 45s\n",
      "368:\ttotal: 1m 1s\tremaining: 1m 44s\n",
      "369:\ttotal: 1m 1s\tremaining: 1m 44s\n",
      "370:\ttotal: 1m 1s\tremaining: 1m 44s\n",
      "371:\ttotal: 1m 1s\tremaining: 1m 44s\n",
      "372:\ttotal: 1m 2s\tremaining: 1m 44s\n",
      "373:\ttotal: 1m 2s\tremaining: 1m 44s\n",
      "374:\ttotal: 1m 2s\tremaining: 1m 43s\n",
      "375:\ttotal: 1m 2s\tremaining: 1m 43s\n",
      "376:\ttotal: 1m 2s\tremaining: 1m 43s\n",
      "377:\ttotal: 1m 2s\tremaining: 1m 43s\n",
      "378:\ttotal: 1m 3s\tremaining: 1m 43s\n",
      "379:\ttotal: 1m 3s\tremaining: 1m 43s\n",
      "380:\ttotal: 1m 3s\tremaining: 1m 42s\n",
      "381:\ttotal: 1m 3s\tremaining: 1m 42s\n",
      "382:\ttotal: 1m 3s\tremaining: 1m 42s\n",
      "383:\ttotal: 1m 3s\tremaining: 1m 42s\n",
      "384:\ttotal: 1m 4s\tremaining: 1m 42s\n",
      "385:\ttotal: 1m 4s\tremaining: 1m 42s\n",
      "386:\ttotal: 1m 4s\tremaining: 1m 41s\n",
      "387:\ttotal: 1m 4s\tremaining: 1m 41s\n",
      "388:\ttotal: 1m 4s\tremaining: 1m 41s\n",
      "389:\ttotal: 1m 4s\tremaining: 1m 41s\n",
      "390:\ttotal: 1m 5s\tremaining: 1m 41s\n",
      "391:\ttotal: 1m 5s\tremaining: 1m 41s\n",
      "392:\ttotal: 1m 5s\tremaining: 1m 41s\n",
      "393:\ttotal: 1m 5s\tremaining: 1m 40s\n",
      "394:\ttotal: 1m 5s\tremaining: 1m 40s\n",
      "395:\ttotal: 1m 5s\tremaining: 1m 40s\n",
      "396:\ttotal: 1m 6s\tremaining: 1m 40s\n",
      "397:\ttotal: 1m 6s\tremaining: 1m 40s\n",
      "398:\ttotal: 1m 6s\tremaining: 1m 40s\n",
      "399:\ttotal: 1m 6s\tremaining: 1m 39s\n",
      "400:\ttotal: 1m 6s\tremaining: 1m 39s\n",
      "401:\ttotal: 1m 6s\tremaining: 1m 39s\n",
      "402:\ttotal: 1m 7s\tremaining: 1m 39s\n",
      "403:\ttotal: 1m 7s\tremaining: 1m 39s\n",
      "404:\ttotal: 1m 7s\tremaining: 1m 39s\n",
      "405:\ttotal: 1m 7s\tremaining: 1m 38s\n",
      "406:\ttotal: 1m 7s\tremaining: 1m 38s\n",
      "407:\ttotal: 1m 8s\tremaining: 1m 38s\n",
      "408:\ttotal: 1m 8s\tremaining: 1m 38s\n",
      "409:\ttotal: 1m 8s\tremaining: 1m 38s\n",
      "410:\ttotal: 1m 8s\tremaining: 1m 38s\n",
      "411:\ttotal: 1m 8s\tremaining: 1m 38s\n",
      "412:\ttotal: 1m 8s\tremaining: 1m 37s\n",
      "413:\ttotal: 1m 9s\tremaining: 1m 37s\n",
      "414:\ttotal: 1m 9s\tremaining: 1m 37s\n",
      "415:\ttotal: 1m 9s\tremaining: 1m 37s\n",
      "416:\ttotal: 1m 9s\tremaining: 1m 37s\n",
      "417:\ttotal: 1m 9s\tremaining: 1m 37s\n",
      "418:\ttotal: 1m 9s\tremaining: 1m 36s\n",
      "419:\ttotal: 1m 10s\tremaining: 1m 36s\n",
      "420:\ttotal: 1m 10s\tremaining: 1m 36s\n",
      "421:\ttotal: 1m 10s\tremaining: 1m 36s\n",
      "422:\ttotal: 1m 10s\tremaining: 1m 36s\n",
      "423:\ttotal: 1m 10s\tremaining: 1m 36s\n",
      "424:\ttotal: 1m 10s\tremaining: 1m 35s\n",
      "425:\ttotal: 1m 11s\tremaining: 1m 35s\n",
      "426:\ttotal: 1m 11s\tremaining: 1m 35s\n",
      "427:\ttotal: 1m 11s\tremaining: 1m 35s\n",
      "428:\ttotal: 1m 11s\tremaining: 1m 35s\n",
      "429:\ttotal: 1m 11s\tremaining: 1m 35s\n",
      "430:\ttotal: 1m 11s\tremaining: 1m 34s\n",
      "431:\ttotal: 1m 12s\tremaining: 1m 34s\n",
      "432:\ttotal: 1m 12s\tremaining: 1m 34s\n",
      "433:\ttotal: 1m 12s\tremaining: 1m 34s\n",
      "434:\ttotal: 1m 12s\tremaining: 1m 34s\n",
      "435:\ttotal: 1m 12s\tremaining: 1m 34s\n",
      "436:\ttotal: 1m 13s\tremaining: 1m 34s\n",
      "437:\ttotal: 1m 13s\tremaining: 1m 33s\n",
      "438:\ttotal: 1m 13s\tremaining: 1m 33s\n",
      "439:\ttotal: 1m 13s\tremaining: 1m 33s\n",
      "440:\ttotal: 1m 13s\tremaining: 1m 33s\n",
      "441:\ttotal: 1m 13s\tremaining: 1m 33s\n",
      "442:\ttotal: 1m 14s\tremaining: 1m 33s\n",
      "443:\ttotal: 1m 14s\tremaining: 1m 32s\n",
      "444:\ttotal: 1m 14s\tremaining: 1m 32s\n",
      "445:\ttotal: 1m 14s\tremaining: 1m 32s\n",
      "446:\ttotal: 1m 14s\tremaining: 1m 32s\n",
      "447:\ttotal: 1m 14s\tremaining: 1m 32s\n",
      "448:\ttotal: 1m 15s\tremaining: 1m 32s\n",
      "449:\ttotal: 1m 15s\tremaining: 1m 32s\n",
      "450:\ttotal: 1m 15s\tremaining: 1m 31s\n",
      "451:\ttotal: 1m 15s\tremaining: 1m 31s\n",
      "452:\ttotal: 1m 15s\tremaining: 1m 31s\n",
      "453:\ttotal: 1m 15s\tremaining: 1m 31s\n",
      "454:\ttotal: 1m 16s\tremaining: 1m 31s\n",
      "455:\ttotal: 1m 16s\tremaining: 1m 31s\n",
      "456:\ttotal: 1m 16s\tremaining: 1m 30s\n",
      "457:\ttotal: 1m 16s\tremaining: 1m 30s\n",
      "458:\ttotal: 1m 16s\tremaining: 1m 30s\n",
      "459:\ttotal: 1m 17s\tremaining: 1m 30s\n",
      "460:\ttotal: 1m 17s\tremaining: 1m 30s\n",
      "461:\ttotal: 1m 17s\tremaining: 1m 30s\n",
      "462:\ttotal: 1m 17s\tremaining: 1m 29s\n",
      "463:\ttotal: 1m 17s\tremaining: 1m 29s\n"
     ]
    },
    {
     "name": "stdout",
     "output_type": "stream",
     "text": [
      "464:\ttotal: 1m 17s\tremaining: 1m 29s\n",
      "465:\ttotal: 1m 18s\tremaining: 1m 29s\n",
      "466:\ttotal: 1m 18s\tremaining: 1m 29s\n",
      "467:\ttotal: 1m 18s\tremaining: 1m 29s\n",
      "468:\ttotal: 1m 18s\tremaining: 1m 28s\n",
      "469:\ttotal: 1m 18s\tremaining: 1m 28s\n",
      "470:\ttotal: 1m 18s\tremaining: 1m 28s\n",
      "471:\ttotal: 1m 19s\tremaining: 1m 28s\n",
      "472:\ttotal: 1m 19s\tremaining: 1m 28s\n",
      "473:\ttotal: 1m 19s\tremaining: 1m 28s\n",
      "474:\ttotal: 1m 19s\tremaining: 1m 28s\n"
     ]
    },
    {
     "ename": "KeyboardInterrupt",
     "evalue": "",
     "output_type": "error",
     "traceback": [
      "\u001b[0;31m---------------------------------------------------------------------------\u001b[0m",
      "\u001b[0;31mKeyboardInterrupt\u001b[0m                         Traceback (most recent call last)",
      "\u001b[0;32m<ipython-input-107-898a4b6c4b39>\u001b[0m in \u001b[0;36m<module>\u001b[0;34m\u001b[0m\n\u001b[0;32m----> 1\u001b[0;31m \u001b[0mcb_ranker\u001b[0m\u001b[0;34m.\u001b[0m\u001b[0mfit\u001b[0m\u001b[0;34m(\u001b[0m\u001b[0mX\u001b[0m\u001b[0;34m,\u001b[0m \u001b[0my\u001b[0m\u001b[0;34m.\u001b[0m\u001b[0mvalues\u001b[0m\u001b[0;34m,\u001b[0m \u001b[0mgroup_id\u001b[0m\u001b[0;34m=\u001b[0m\u001b[0mlist\u001b[0m\u001b[0;34m(\u001b[0m\u001b[0mgroup_id\u001b[0m\u001b[0;34m)\u001b[0m\u001b[0;34m,\u001b[0m \u001b[0mcat_features\u001b[0m\u001b[0;34m=\u001b[0m\u001b[0mlist\u001b[0m\u001b[0;34m(\u001b[0m\u001b[0mX\u001b[0m\u001b[0;34m)\u001b[0m\u001b[0;34m)\u001b[0m\u001b[0;34m\u001b[0m\u001b[0;34m\u001b[0m\u001b[0m\n\u001b[0m",
      "\u001b[0;32m/external2/dkkoshman/venv/lib/python3.6/site-packages/catboost/core.py\u001b[0m in \u001b[0;36mfit\u001b[0;34m(self, X, y, group_id, cat_features, text_features, embedding_features, pairs, sample_weight, group_weight, subgroup_id, pairs_weight, baseline, use_best_model, eval_set, verbose, logging_level, plot, column_description, verbose_eval, metric_period, silent, early_stopping_rounds, save_snapshot, snapshot_file, snapshot_interval, init_model, callbacks, log_cout, log_cerr)\u001b[0m\n\u001b[1;32m   5978\u001b[0m                   \u001b[0msample_weight\u001b[0m\u001b[0;34m,\u001b[0m \u001b[0mgroup_id\u001b[0m\u001b[0;34m,\u001b[0m \u001b[0mgroup_weight\u001b[0m\u001b[0;34m,\u001b[0m \u001b[0msubgroup_id\u001b[0m\u001b[0;34m,\u001b[0m \u001b[0mpairs_weight\u001b[0m\u001b[0;34m,\u001b[0m \u001b[0mbaseline\u001b[0m\u001b[0;34m,\u001b[0m \u001b[0muse_best_model\u001b[0m\u001b[0;34m,\u001b[0m\u001b[0;34m\u001b[0m\u001b[0;34m\u001b[0m\u001b[0m\n\u001b[1;32m   5979\u001b[0m                   \u001b[0meval_set\u001b[0m\u001b[0;34m,\u001b[0m \u001b[0mverbose\u001b[0m\u001b[0;34m,\u001b[0m \u001b[0mlogging_level\u001b[0m\u001b[0;34m,\u001b[0m \u001b[0mplot\u001b[0m\u001b[0;34m,\u001b[0m \u001b[0mcolumn_description\u001b[0m\u001b[0;34m,\u001b[0m \u001b[0mverbose_eval\u001b[0m\u001b[0;34m,\u001b[0m \u001b[0mmetric_period\u001b[0m\u001b[0;34m,\u001b[0m\u001b[0;34m\u001b[0m\u001b[0;34m\u001b[0m\u001b[0m\n\u001b[0;32m-> 5980\u001b[0;31m                   silent, early_stopping_rounds, save_snapshot, snapshot_file, snapshot_interval, init_model, callbacks, log_cout, log_cerr)\n\u001b[0m\u001b[1;32m   5981\u001b[0m         \u001b[0;32mreturn\u001b[0m \u001b[0mself\u001b[0m\u001b[0;34m\u001b[0m\u001b[0;34m\u001b[0m\u001b[0m\n\u001b[1;32m   5982\u001b[0m \u001b[0;34m\u001b[0m\u001b[0m\n",
      "\u001b[0;32m/external2/dkkoshman/venv/lib/python3.6/site-packages/catboost/core.py\u001b[0m in \u001b[0;36m_fit\u001b[0;34m(self, X, y, cat_features, text_features, embedding_features, pairs, sample_weight, group_id, group_weight, subgroup_id, pairs_weight, baseline, use_best_model, eval_set, verbose, logging_level, plot, column_description, verbose_eval, metric_period, silent, early_stopping_rounds, save_snapshot, snapshot_file, snapshot_interval, init_model, callbacks, log_cout, log_cerr)\u001b[0m\n\u001b[1;32m   2281\u001b[0m                 \u001b[0mparams\u001b[0m\u001b[0;34m,\u001b[0m\u001b[0;34m\u001b[0m\u001b[0;34m\u001b[0m\u001b[0m\n\u001b[1;32m   2282\u001b[0m                 \u001b[0mallow_clear_pool\u001b[0m\u001b[0;34m,\u001b[0m\u001b[0;34m\u001b[0m\u001b[0;34m\u001b[0m\u001b[0m\n\u001b[0;32m-> 2283\u001b[0;31m                 \u001b[0mtrain_params\u001b[0m\u001b[0;34m[\u001b[0m\u001b[0;34m\"init_model\"\u001b[0m\u001b[0;34m]\u001b[0m\u001b[0;34m\u001b[0m\u001b[0;34m\u001b[0m\u001b[0m\n\u001b[0m\u001b[1;32m   2284\u001b[0m             )\n\u001b[1;32m   2285\u001b[0m \u001b[0;34m\u001b[0m\u001b[0m\n",
      "\u001b[0;32m/external2/dkkoshman/venv/lib/python3.6/site-packages/catboost/core.py\u001b[0m in \u001b[0;36m_train\u001b[0;34m(self, train_pool, test_pool, params, allow_clear_pool, init_model)\u001b[0m\n\u001b[1;32m   1703\u001b[0m \u001b[0;34m\u001b[0m\u001b[0m\n\u001b[1;32m   1704\u001b[0m     \u001b[0;32mdef\u001b[0m \u001b[0m_train\u001b[0m\u001b[0;34m(\u001b[0m\u001b[0mself\u001b[0m\u001b[0;34m,\u001b[0m \u001b[0mtrain_pool\u001b[0m\u001b[0;34m,\u001b[0m \u001b[0mtest_pool\u001b[0m\u001b[0;34m,\u001b[0m \u001b[0mparams\u001b[0m\u001b[0;34m,\u001b[0m \u001b[0mallow_clear_pool\u001b[0m\u001b[0;34m,\u001b[0m \u001b[0minit_model\u001b[0m\u001b[0;34m)\u001b[0m\u001b[0;34m:\u001b[0m\u001b[0;34m\u001b[0m\u001b[0;34m\u001b[0m\u001b[0m\n\u001b[0;32m-> 1705\u001b[0;31m         \u001b[0mself\u001b[0m\u001b[0;34m.\u001b[0m\u001b[0m_object\u001b[0m\u001b[0;34m.\u001b[0m\u001b[0m_train\u001b[0m\u001b[0;34m(\u001b[0m\u001b[0mtrain_pool\u001b[0m\u001b[0;34m,\u001b[0m \u001b[0mtest_pool\u001b[0m\u001b[0;34m,\u001b[0m \u001b[0mparams\u001b[0m\u001b[0;34m,\u001b[0m \u001b[0mallow_clear_pool\u001b[0m\u001b[0;34m,\u001b[0m \u001b[0minit_model\u001b[0m\u001b[0;34m.\u001b[0m\u001b[0m_object\u001b[0m \u001b[0;32mif\u001b[0m \u001b[0minit_model\u001b[0m \u001b[0;32melse\u001b[0m \u001b[0;32mNone\u001b[0m\u001b[0;34m)\u001b[0m\u001b[0;34m\u001b[0m\u001b[0;34m\u001b[0m\u001b[0m\n\u001b[0m\u001b[1;32m   1706\u001b[0m         \u001b[0mself\u001b[0m\u001b[0;34m.\u001b[0m\u001b[0m_set_trained_model_attributes\u001b[0m\u001b[0;34m(\u001b[0m\u001b[0;34m)\u001b[0m\u001b[0;34m\u001b[0m\u001b[0;34m\u001b[0m\u001b[0m\n\u001b[1;32m   1707\u001b[0m \u001b[0;34m\u001b[0m\u001b[0m\n",
      "\u001b[0;32m_catboost.pyx\u001b[0m in \u001b[0;36m_catboost._CatBoost._train\u001b[0;34m()\u001b[0m\n",
      "\u001b[0;32m_catboost.pyx\u001b[0m in \u001b[0;36m_catboost._CatBoost._train\u001b[0;34m()\u001b[0m\n",
      "\u001b[0;31mKeyboardInterrupt\u001b[0m: "
     ]
    },
    {
     "data": {
      "application/javascript": [
       "\n",
       "            setTimeout(function() {\n",
       "                var nbb_cell_id = 107;\n",
       "                var nbb_unformatted_code = \"cb_ranker.fit(X, y.values, group_id=list(group_id), cat_features=list(X))\";\n",
       "                var nbb_formatted_code = \"cb_ranker.fit(X, y.values, group_id=list(group_id), cat_features=list(X))\";\n",
       "                var nbb_cells = Jupyter.notebook.get_cells();\n",
       "                for (var i = 0; i < nbb_cells.length; ++i) {\n",
       "                    if (nbb_cells[i].input_prompt_number == nbb_cell_id) {\n",
       "                        if (nbb_cells[i].get_text() == nbb_unformatted_code) {\n",
       "                             nbb_cells[i].set_text(nbb_formatted_code);\n",
       "                        }\n",
       "                        break;\n",
       "                    }\n",
       "                }\n",
       "            }, 500);\n",
       "            "
      ],
      "text/plain": [
       "<IPython.core.display.Javascript object>"
      ]
     },
     "metadata": {},
     "output_type": "display_data"
    }
   ],
   "source": [
    "cb_ranker.fit(X, y.values, group_id=list(group_id), cat_features=list(X),verbose=False)"
   ]
  },
  {
   "cell_type": "code",
   "execution_count": null,
   "metadata": {},
   "outputs": [],
   "source": [
    "catboost.predict()"
   ]
  },
  {
   "cell_type": "code",
   "execution_count": null,
   "metadata": {},
   "outputs": [],
   "source": []
  },
  {
   "cell_type": "code",
   "execution_count": null,
   "metadata": {},
   "outputs": [],
   "source": []
  },
  {
   "cell_type": "code",
   "execution_count": null,
   "metadata": {},
   "outputs": [],
   "source": []
  },
  {
   "cell_type": "code",
   "execution_count": null,
   "metadata": {},
   "outputs": [],
   "source": []
  }
 ],
 "metadata": {
  "kernelspec": {
   "display_name": "Python 3.6",
   "language": "python",
   "name": "3_6"
  },
  "language_info": {
   "codemirror_mode": {
    "name": "ipython",
    "version": 3
   },
   "file_extension": ".py",
   "mimetype": "text/x-python",
   "name": "python",
   "nbconvert_exporter": "python",
   "pygments_lexer": "ipython3",
   "version": "3.6.9"
  }
 },
 "nbformat": 4,
 "nbformat_minor": 2
}
